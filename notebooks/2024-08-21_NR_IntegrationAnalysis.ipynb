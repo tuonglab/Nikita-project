{
 "cells": [
  {
   "cell_type": "markdown",
   "metadata": {},
   "source": [
    "### Integration of 36 datasets \n",
    "\n",
    "* merge of datasets was done by Kelvin in python (each converted to AnnData, merged together, object converted back to h5ad and then to RDS)\n",
    "\n",
    "Now have two files:\n",
    "* all_integrated_intersect.RDS\n",
    "* all_integrated.RDS\n",
    "\n",
    "The second contains all genes, the first contains just the genes found in all datasets. Not sure which best to use so will try both and see. "
   ]
  },
  {
   "cell_type": "code",
   "execution_count": 1,
   "metadata": {
    "vscode": {
     "languageId": "r"
    }
   },
   "outputs": [
    {
     "data": {
      "text/html": [
       "'/scratch/user/s4436039'"
      ],
      "text/latex": [
       "'/scratch/user/s4436039'"
      ],
      "text/markdown": [
       "'/scratch/user/s4436039'"
      ],
      "text/plain": [
       "[1] \"/scratch/user/s4436039\""
      ]
     },
     "metadata": {},
     "output_type": "display_data"
    },
    {
     "data": {
      "text/html": [
       "'/scratch/user/s4436039/scdata'"
      ],
      "text/latex": [
       "'/scratch/user/s4436039/scdata'"
      ],
      "text/markdown": [
       "'/scratch/user/s4436039/scdata'"
      ],
      "text/plain": [
       "[1] \"/scratch/user/s4436039/scdata\""
      ]
     },
     "metadata": {},
     "output_type": "display_data"
    }
   ],
   "source": [
    "#set wd\n",
    "getwd()\n",
    "setwd('/scratch/user/s4436039/scdata')\n",
    "getwd()"
   ]
  },
  {
   "cell_type": "code",
   "execution_count": 2,
   "metadata": {
    "vscode": {
     "languageId": "r"
    }
   },
   "outputs": [
    {
     "name": "stderr",
     "output_type": "stream",
     "text": [
      "Loading required package: SeuratObject\n",
      "\n",
      "Loading required package: sp\n",
      "\n",
      "\n",
      "Attaching package: ‘SeuratObject’\n",
      "\n",
      "\n",
      "The following objects are masked from ‘package:base’:\n",
      "\n",
      "    intersect, t\n",
      "\n",
      "\n"
     ]
    }
   ],
   "source": [
    "library(Seurat)"
   ]
  },
  {
   "cell_type": "code",
   "execution_count": 3,
   "metadata": {
    "vscode": {
     "languageId": "r"
    }
   },
   "outputs": [],
   "source": [
    "#read in data\n",
    "Data_i <- readRDS(file = \"/scratch/user/s4436039/scdata/Myeloid_Cells/Myeloid_Cells_Integrate/all_integrated_intersect.RDS\")\n",
    "#Data <- readRDS(file = \"/scratch/user/s4436039/scdata/Myeloid_Cells/Myeloid_Cells_Integrate/all_integrated.RDS\")"
   ]
  },
  {
   "cell_type": "code",
   "execution_count": 4,
   "metadata": {
    "vscode": {
     "languageId": "r"
    }
   },
   "outputs": [
    {
     "data": {
      "text/plain": [
       "An object of class Seurat \n",
       "15074 features across 623908 samples within 1 assay \n",
       "Active assay: RNA (15074 features, 0 variable features)\n",
       " 2 layers present: counts, data"
      ]
     },
     "metadata": {},
     "output_type": "display_data"
    }
   ],
   "source": [
    "Data_i"
   ]
  },
  {
   "cell_type": "code",
   "execution_count": 7,
   "metadata": {
    "vscode": {
     "languageId": "r"
    }
   },
   "outputs": [
    {
     "data": {
      "text/html": [
       "<table class=\"dataframe\">\n",
       "<caption>A data.frame: 6 × 12</caption>\n",
       "<thead>\n",
       "\t<tr><th></th><th scope=col>nCount_RNA</th><th scope=col>nFeature_RNA</th><th scope=col>sample_type</th><th scope=col>cancer_type</th><th scope=col>patient_id</th><th scope=col>sample_id</th><th scope=col>percent.mt</th><th scope=col>site</th><th scope=col>sample_type_major</th><th scope=col>cancer_subtype</th><th scope=col>integration_id</th><th scope=col>ident</th></tr>\n",
       "\t<tr><th></th><th scope=col>&lt;dbl&gt;</th><th scope=col>&lt;dbl&gt;</th><th scope=col>&lt;fct&gt;</th><th scope=col>&lt;fct&gt;</th><th scope=col>&lt;fct&gt;</th><th scope=col>&lt;fct&gt;</th><th scope=col>&lt;dbl&gt;</th><th scope=col>&lt;fct&gt;</th><th scope=col>&lt;fct&gt;</th><th scope=col>&lt;fct&gt;</th><th scope=col>&lt;fct&gt;</th><th scope=col>&lt;fct&gt;</th></tr>\n",
       "</thead>\n",
       "<tbody>\n",
       "\t<tr><th scope=row>GSE215120_AM1_AAACCTGGTTGCTCCT-1</th><td>20298</td><td>3789</td><td>tumour</td><td>Acral Melanoma</td><td>AM1</td><td>GSE215120_Acral_MEL_AM1</td><td>0.9754656</td><td>skin</td><td>primary tumour</td><td>Acral Melanoma</td><td>GSE215120_Acral_MEL_AM1</td><td>12</td></tr>\n",
       "\t<tr><th scope=row>GSE215120_AM1_AAAGATGTCCAAATGC-1</th><td> 5574</td><td>1721</td><td>tumour</td><td>Acral Melanoma</td><td>AM1</td><td>GSE215120_Acral_MEL_AM1</td><td>6.0459275</td><td>skin</td><td>primary tumour</td><td>Acral Melanoma</td><td>GSE215120_Acral_MEL_AM1</td><td>12</td></tr>\n",
       "\t<tr><th scope=row>GSE215120_AM1_AAAGTAGTCGGTGTTA-1</th><td>13432</td><td>2759</td><td>tumour</td><td>Acral Melanoma</td><td>AM1</td><td>GSE215120_Acral_MEL_AM1</td><td>2.1515783</td><td>skin</td><td>primary tumour</td><td>Acral Melanoma</td><td>GSE215120_Acral_MEL_AM1</td><td>12</td></tr>\n",
       "\t<tr><th scope=row>GSE215120_AM1_AAATGCCCAGAGCCAA-1</th><td>17143</td><td>2659</td><td>tumour</td><td>Acral Melanoma</td><td>AM1</td><td>GSE215120_Acral_MEL_AM1</td><td>1.2249898</td><td>skin</td><td>primary tumour</td><td>Acral Melanoma</td><td>GSE215120_Acral_MEL_AM1</td><td>12</td></tr>\n",
       "\t<tr><th scope=row>GSE215120_AM1_AAATGCCGTTTGGCGC-1</th><td> 3603</td><td>1012</td><td>tumour</td><td>Acral Melanoma</td><td>AM1</td><td>GSE215120_Acral_MEL_AM1</td><td>3.6081044</td><td>skin</td><td>primary tumour</td><td>Acral Melanoma</td><td>GSE215120_Acral_MEL_AM1</td><td>12</td></tr>\n",
       "\t<tr><th scope=row>GSE215120_AM1_AAATGCCTCATGTCCC-1</th><td>14482</td><td>2882</td><td>tumour</td><td>Acral Melanoma</td><td>AM1</td><td>GSE215120_Acral_MEL_AM1</td><td>1.0357685</td><td>skin</td><td>primary tumour</td><td>Acral Melanoma</td><td>GSE215120_Acral_MEL_AM1</td><td>12</td></tr>\n",
       "</tbody>\n",
       "</table>\n"
      ],
      "text/latex": [
       "A data.frame: 6 × 12\n",
       "\\begin{tabular}{r|llllllllllll}\n",
       "  & nCount\\_RNA & nFeature\\_RNA & sample\\_type & cancer\\_type & patient\\_id & sample\\_id & percent.mt & site & sample\\_type\\_major & cancer\\_subtype & integration\\_id & ident\\\\\n",
       "  & <dbl> & <dbl> & <fct> & <fct> & <fct> & <fct> & <dbl> & <fct> & <fct> & <fct> & <fct> & <fct>\\\\\n",
       "\\hline\n",
       "\tGSE215120\\_AM1\\_AAACCTGGTTGCTCCT-1 & 20298 & 3789 & tumour & Acral Melanoma & AM1 & GSE215120\\_Acral\\_MEL\\_AM1 & 0.9754656 & skin & primary tumour & Acral Melanoma & GSE215120\\_Acral\\_MEL\\_AM1 & 12\\\\\n",
       "\tGSE215120\\_AM1\\_AAAGATGTCCAAATGC-1 &  5574 & 1721 & tumour & Acral Melanoma & AM1 & GSE215120\\_Acral\\_MEL\\_AM1 & 6.0459275 & skin & primary tumour & Acral Melanoma & GSE215120\\_Acral\\_MEL\\_AM1 & 12\\\\\n",
       "\tGSE215120\\_AM1\\_AAAGTAGTCGGTGTTA-1 & 13432 & 2759 & tumour & Acral Melanoma & AM1 & GSE215120\\_Acral\\_MEL\\_AM1 & 2.1515783 & skin & primary tumour & Acral Melanoma & GSE215120\\_Acral\\_MEL\\_AM1 & 12\\\\\n",
       "\tGSE215120\\_AM1\\_AAATGCCCAGAGCCAA-1 & 17143 & 2659 & tumour & Acral Melanoma & AM1 & GSE215120\\_Acral\\_MEL\\_AM1 & 1.2249898 & skin & primary tumour & Acral Melanoma & GSE215120\\_Acral\\_MEL\\_AM1 & 12\\\\\n",
       "\tGSE215120\\_AM1\\_AAATGCCGTTTGGCGC-1 &  3603 & 1012 & tumour & Acral Melanoma & AM1 & GSE215120\\_Acral\\_MEL\\_AM1 & 3.6081044 & skin & primary tumour & Acral Melanoma & GSE215120\\_Acral\\_MEL\\_AM1 & 12\\\\\n",
       "\tGSE215120\\_AM1\\_AAATGCCTCATGTCCC-1 & 14482 & 2882 & tumour & Acral Melanoma & AM1 & GSE215120\\_Acral\\_MEL\\_AM1 & 1.0357685 & skin & primary tumour & Acral Melanoma & GSE215120\\_Acral\\_MEL\\_AM1 & 12\\\\\n",
       "\\end{tabular}\n"
      ],
      "text/markdown": [
       "\n",
       "A data.frame: 6 × 12\n",
       "\n",
       "| <!--/--> | nCount_RNA &lt;dbl&gt; | nFeature_RNA &lt;dbl&gt; | sample_type &lt;fct&gt; | cancer_type &lt;fct&gt; | patient_id &lt;fct&gt; | sample_id &lt;fct&gt; | percent.mt &lt;dbl&gt; | site &lt;fct&gt; | sample_type_major &lt;fct&gt; | cancer_subtype &lt;fct&gt; | integration_id &lt;fct&gt; | ident &lt;fct&gt; |\n",
       "|---|---|---|---|---|---|---|---|---|---|---|---|---|\n",
       "| GSE215120_AM1_AAACCTGGTTGCTCCT-1 | 20298 | 3789 | tumour | Acral Melanoma | AM1 | GSE215120_Acral_MEL_AM1 | 0.9754656 | skin | primary tumour | Acral Melanoma | GSE215120_Acral_MEL_AM1 | 12 |\n",
       "| GSE215120_AM1_AAAGATGTCCAAATGC-1 |  5574 | 1721 | tumour | Acral Melanoma | AM1 | GSE215120_Acral_MEL_AM1 | 6.0459275 | skin | primary tumour | Acral Melanoma | GSE215120_Acral_MEL_AM1 | 12 |\n",
       "| GSE215120_AM1_AAAGTAGTCGGTGTTA-1 | 13432 | 2759 | tumour | Acral Melanoma | AM1 | GSE215120_Acral_MEL_AM1 | 2.1515783 | skin | primary tumour | Acral Melanoma | GSE215120_Acral_MEL_AM1 | 12 |\n",
       "| GSE215120_AM1_AAATGCCCAGAGCCAA-1 | 17143 | 2659 | tumour | Acral Melanoma | AM1 | GSE215120_Acral_MEL_AM1 | 1.2249898 | skin | primary tumour | Acral Melanoma | GSE215120_Acral_MEL_AM1 | 12 |\n",
       "| GSE215120_AM1_AAATGCCGTTTGGCGC-1 |  3603 | 1012 | tumour | Acral Melanoma | AM1 | GSE215120_Acral_MEL_AM1 | 3.6081044 | skin | primary tumour | Acral Melanoma | GSE215120_Acral_MEL_AM1 | 12 |\n",
       "| GSE215120_AM1_AAATGCCTCATGTCCC-1 | 14482 | 2882 | tumour | Acral Melanoma | AM1 | GSE215120_Acral_MEL_AM1 | 1.0357685 | skin | primary tumour | Acral Melanoma | GSE215120_Acral_MEL_AM1 | 12 |\n",
       "\n"
      ],
      "text/plain": [
       "                                 nCount_RNA nFeature_RNA sample_type\n",
       "GSE215120_AM1_AAACCTGGTTGCTCCT-1 20298      3789         tumour     \n",
       "GSE215120_AM1_AAAGATGTCCAAATGC-1  5574      1721         tumour     \n",
       "GSE215120_AM1_AAAGTAGTCGGTGTTA-1 13432      2759         tumour     \n",
       "GSE215120_AM1_AAATGCCCAGAGCCAA-1 17143      2659         tumour     \n",
       "GSE215120_AM1_AAATGCCGTTTGGCGC-1  3603      1012         tumour     \n",
       "GSE215120_AM1_AAATGCCTCATGTCCC-1 14482      2882         tumour     \n",
       "                                 cancer_type    patient_id\n",
       "GSE215120_AM1_AAACCTGGTTGCTCCT-1 Acral Melanoma AM1       \n",
       "GSE215120_AM1_AAAGATGTCCAAATGC-1 Acral Melanoma AM1       \n",
       "GSE215120_AM1_AAAGTAGTCGGTGTTA-1 Acral Melanoma AM1       \n",
       "GSE215120_AM1_AAATGCCCAGAGCCAA-1 Acral Melanoma AM1       \n",
       "GSE215120_AM1_AAATGCCGTTTGGCGC-1 Acral Melanoma AM1       \n",
       "GSE215120_AM1_AAATGCCTCATGTCCC-1 Acral Melanoma AM1       \n",
       "                                 sample_id               percent.mt site\n",
       "GSE215120_AM1_AAACCTGGTTGCTCCT-1 GSE215120_Acral_MEL_AM1 0.9754656  skin\n",
       "GSE215120_AM1_AAAGATGTCCAAATGC-1 GSE215120_Acral_MEL_AM1 6.0459275  skin\n",
       "GSE215120_AM1_AAAGTAGTCGGTGTTA-1 GSE215120_Acral_MEL_AM1 2.1515783  skin\n",
       "GSE215120_AM1_AAATGCCCAGAGCCAA-1 GSE215120_Acral_MEL_AM1 1.2249898  skin\n",
       "GSE215120_AM1_AAATGCCGTTTGGCGC-1 GSE215120_Acral_MEL_AM1 3.6081044  skin\n",
       "GSE215120_AM1_AAATGCCTCATGTCCC-1 GSE215120_Acral_MEL_AM1 1.0357685  skin\n",
       "                                 sample_type_major cancer_subtype\n",
       "GSE215120_AM1_AAACCTGGTTGCTCCT-1 primary tumour    Acral Melanoma\n",
       "GSE215120_AM1_AAAGATGTCCAAATGC-1 primary tumour    Acral Melanoma\n",
       "GSE215120_AM1_AAAGTAGTCGGTGTTA-1 primary tumour    Acral Melanoma\n",
       "GSE215120_AM1_AAATGCCCAGAGCCAA-1 primary tumour    Acral Melanoma\n",
       "GSE215120_AM1_AAATGCCGTTTGGCGC-1 primary tumour    Acral Melanoma\n",
       "GSE215120_AM1_AAATGCCTCATGTCCC-1 primary tumour    Acral Melanoma\n",
       "                                 integration_id          ident\n",
       "GSE215120_AM1_AAACCTGGTTGCTCCT-1 GSE215120_Acral_MEL_AM1 12   \n",
       "GSE215120_AM1_AAAGATGTCCAAATGC-1 GSE215120_Acral_MEL_AM1 12   \n",
       "GSE215120_AM1_AAAGTAGTCGGTGTTA-1 GSE215120_Acral_MEL_AM1 12   \n",
       "GSE215120_AM1_AAATGCCCAGAGCCAA-1 GSE215120_Acral_MEL_AM1 12   \n",
       "GSE215120_AM1_AAATGCCGTTTGGCGC-1 GSE215120_Acral_MEL_AM1 12   \n",
       "GSE215120_AM1_AAATGCCTCATGTCCC-1 GSE215120_Acral_MEL_AM1 12   "
      ]
     },
     "metadata": {},
     "output_type": "display_data"
    },
    {
     "data": {
      "text/html": [
       "<table class=\"dataframe\">\n",
       "<caption>A data.frame: 6 × 12</caption>\n",
       "<thead>\n",
       "\t<tr><th></th><th scope=col>nCount_RNA</th><th scope=col>nFeature_RNA</th><th scope=col>sample_type</th><th scope=col>cancer_type</th><th scope=col>patient_id</th><th scope=col>sample_id</th><th scope=col>percent.mt</th><th scope=col>site</th><th scope=col>sample_type_major</th><th scope=col>cancer_subtype</th><th scope=col>integration_id</th><th scope=col>ident</th></tr>\n",
       "\t<tr><th></th><th scope=col>&lt;dbl&gt;</th><th scope=col>&lt;dbl&gt;</th><th scope=col>&lt;fct&gt;</th><th scope=col>&lt;fct&gt;</th><th scope=col>&lt;fct&gt;</th><th scope=col>&lt;fct&gt;</th><th scope=col>&lt;dbl&gt;</th><th scope=col>&lt;fct&gt;</th><th scope=col>&lt;fct&gt;</th><th scope=col>&lt;fct&gt;</th><th scope=col>&lt;fct&gt;</th><th scope=col>&lt;fct&gt;</th></tr>\n",
       "</thead>\n",
       "<tbody>\n",
       "\t<tr><th scope=row>GSE180661_HGSOC_SPECTRUM-OV-045_S1_CD45P_LEFT_OVARY_TTTCATGGTTACCTGA</th><td>-4.499666</td><td> -9.853381</td><td>Adnexa</td><td>HGSOC</td><td>Left Adnexa</td><td>SPECTRUM-OV-045_S1_CD45P_LEFT_OVARY</td><td>1779</td><td>ovary</td><td>primary tumour</td><td>HGSOC</td><td>GSE180661_SPECTRUM-OV-045_S1_CD45P_LEFT_OVARY</td><td>1</td></tr>\n",
       "\t<tr><th scope=row>GSE180661_HGSOC_SPECTRUM-OV-045_S1_CD45P_LEFT_OVARY_TTTCGATGTGACGTCC</th><td>-4.871771</td><td>-10.337130</td><td>Adnexa</td><td>HGSOC</td><td>Left Adnexa</td><td>SPECTRUM-OV-045_S1_CD45P_LEFT_OVARY</td><td>1541</td><td>ovary</td><td>primary tumour</td><td>HGSOC</td><td>GSE180661_SPECTRUM-OV-045_S1_CD45P_LEFT_OVARY</td><td>1</td></tr>\n",
       "\t<tr><th scope=row>GSE180661_HGSOC_SPECTRUM-OV-045_S1_CD45P_LEFT_OVARY_TTTCGATTCTGCGAGC</th><td>-4.766977</td><td> -8.292435</td><td>Adnexa</td><td>HGSOC</td><td>Left Adnexa</td><td>SPECTRUM-OV-045_S1_CD45P_LEFT_OVARY</td><td>2596</td><td>ovary</td><td>primary tumour</td><td>HGSOC</td><td>GSE180661_SPECTRUM-OV-045_S1_CD45P_LEFT_OVARY</td><td>1</td></tr>\n",
       "\t<tr><th scope=row>GSE180661_HGSOC_SPECTRUM-OV-045_S1_CD45P_LEFT_OVARY_TTTGATCGTTGCTCCT</th><td>-4.133310</td><td> -8.758132</td><td>Adnexa</td><td>HGSOC</td><td>Left Adnexa</td><td>SPECTRUM-OV-045_S1_CD45P_LEFT_OVARY</td><td>1200</td><td>ovary</td><td>primary tumour</td><td>HGSOC</td><td>GSE180661_SPECTRUM-OV-045_S1_CD45P_LEFT_OVARY</td><td>1</td></tr>\n",
       "\t<tr><th scope=row>GSE180661_HGSOC_SPECTRUM-OV-045_S1_CD45P_LEFT_OVARY_TTTGGAGGTACGACAG</th><td>-9.313746</td><td> -7.889039</td><td>Adnexa</td><td>HGSOC</td><td>Left Adnexa</td><td>SPECTRUM-OV-045_S1_CD45P_LEFT_OVARY</td><td>3165</td><td>ovary</td><td>primary tumour</td><td>HGSOC</td><td>GSE180661_SPECTRUM-OV-045_S1_CD45P_LEFT_OVARY</td><td>1</td></tr>\n",
       "\t<tr><th scope=row>GSE180661_HGSOC_SPECTRUM-OV-045_S1_CD45P_LEFT_OVARY_TTTGGTTGTGTACAGG</th><td>-4.476278</td><td>-10.355681</td><td>Adnexa</td><td>HGSOC</td><td>Left Adnexa</td><td>SPECTRUM-OV-045_S1_CD45P_LEFT_OVARY</td><td>1895</td><td>ovary</td><td>primary tumour</td><td>HGSOC</td><td>GSE180661_SPECTRUM-OV-045_S1_CD45P_LEFT_OVARY</td><td>1</td></tr>\n",
       "</tbody>\n",
       "</table>\n"
      ],
      "text/latex": [
       "A data.frame: 6 × 12\n",
       "\\begin{tabular}{r|llllllllllll}\n",
       "  & nCount\\_RNA & nFeature\\_RNA & sample\\_type & cancer\\_type & patient\\_id & sample\\_id & percent.mt & site & sample\\_type\\_major & cancer\\_subtype & integration\\_id & ident\\\\\n",
       "  & <dbl> & <dbl> & <fct> & <fct> & <fct> & <fct> & <dbl> & <fct> & <fct> & <fct> & <fct> & <fct>\\\\\n",
       "\\hline\n",
       "\tGSE180661\\_HGSOC\\_SPECTRUM-OV-045\\_S1\\_CD45P\\_LEFT\\_OVARY\\_TTTCATGGTTACCTGA & -4.499666 &  -9.853381 & Adnexa & HGSOC & Left Adnexa & SPECTRUM-OV-045\\_S1\\_CD45P\\_LEFT\\_OVARY & 1779 & ovary & primary tumour & HGSOC & GSE180661\\_SPECTRUM-OV-045\\_S1\\_CD45P\\_LEFT\\_OVARY & 1\\\\\n",
       "\tGSE180661\\_HGSOC\\_SPECTRUM-OV-045\\_S1\\_CD45P\\_LEFT\\_OVARY\\_TTTCGATGTGACGTCC & -4.871771 & -10.337130 & Adnexa & HGSOC & Left Adnexa & SPECTRUM-OV-045\\_S1\\_CD45P\\_LEFT\\_OVARY & 1541 & ovary & primary tumour & HGSOC & GSE180661\\_SPECTRUM-OV-045\\_S1\\_CD45P\\_LEFT\\_OVARY & 1\\\\\n",
       "\tGSE180661\\_HGSOC\\_SPECTRUM-OV-045\\_S1\\_CD45P\\_LEFT\\_OVARY\\_TTTCGATTCTGCGAGC & -4.766977 &  -8.292435 & Adnexa & HGSOC & Left Adnexa & SPECTRUM-OV-045\\_S1\\_CD45P\\_LEFT\\_OVARY & 2596 & ovary & primary tumour & HGSOC & GSE180661\\_SPECTRUM-OV-045\\_S1\\_CD45P\\_LEFT\\_OVARY & 1\\\\\n",
       "\tGSE180661\\_HGSOC\\_SPECTRUM-OV-045\\_S1\\_CD45P\\_LEFT\\_OVARY\\_TTTGATCGTTGCTCCT & -4.133310 &  -8.758132 & Adnexa & HGSOC & Left Adnexa & SPECTRUM-OV-045\\_S1\\_CD45P\\_LEFT\\_OVARY & 1200 & ovary & primary tumour & HGSOC & GSE180661\\_SPECTRUM-OV-045\\_S1\\_CD45P\\_LEFT\\_OVARY & 1\\\\\n",
       "\tGSE180661\\_HGSOC\\_SPECTRUM-OV-045\\_S1\\_CD45P\\_LEFT\\_OVARY\\_TTTGGAGGTACGACAG & -9.313746 &  -7.889039 & Adnexa & HGSOC & Left Adnexa & SPECTRUM-OV-045\\_S1\\_CD45P\\_LEFT\\_OVARY & 3165 & ovary & primary tumour & HGSOC & GSE180661\\_SPECTRUM-OV-045\\_S1\\_CD45P\\_LEFT\\_OVARY & 1\\\\\n",
       "\tGSE180661\\_HGSOC\\_SPECTRUM-OV-045\\_S1\\_CD45P\\_LEFT\\_OVARY\\_TTTGGTTGTGTACAGG & -4.476278 & -10.355681 & Adnexa & HGSOC & Left Adnexa & SPECTRUM-OV-045\\_S1\\_CD45P\\_LEFT\\_OVARY & 1895 & ovary & primary tumour & HGSOC & GSE180661\\_SPECTRUM-OV-045\\_S1\\_CD45P\\_LEFT\\_OVARY & 1\\\\\n",
       "\\end{tabular}\n"
      ],
      "text/markdown": [
       "\n",
       "A data.frame: 6 × 12\n",
       "\n",
       "| <!--/--> | nCount_RNA &lt;dbl&gt; | nFeature_RNA &lt;dbl&gt; | sample_type &lt;fct&gt; | cancer_type &lt;fct&gt; | patient_id &lt;fct&gt; | sample_id &lt;fct&gt; | percent.mt &lt;dbl&gt; | site &lt;fct&gt; | sample_type_major &lt;fct&gt; | cancer_subtype &lt;fct&gt; | integration_id &lt;fct&gt; | ident &lt;fct&gt; |\n",
       "|---|---|---|---|---|---|---|---|---|---|---|---|---|\n",
       "| GSE180661_HGSOC_SPECTRUM-OV-045_S1_CD45P_LEFT_OVARY_TTTCATGGTTACCTGA | -4.499666 |  -9.853381 | Adnexa | HGSOC | Left Adnexa | SPECTRUM-OV-045_S1_CD45P_LEFT_OVARY | 1779 | ovary | primary tumour | HGSOC | GSE180661_SPECTRUM-OV-045_S1_CD45P_LEFT_OVARY | 1 |\n",
       "| GSE180661_HGSOC_SPECTRUM-OV-045_S1_CD45P_LEFT_OVARY_TTTCGATGTGACGTCC | -4.871771 | -10.337130 | Adnexa | HGSOC | Left Adnexa | SPECTRUM-OV-045_S1_CD45P_LEFT_OVARY | 1541 | ovary | primary tumour | HGSOC | GSE180661_SPECTRUM-OV-045_S1_CD45P_LEFT_OVARY | 1 |\n",
       "| GSE180661_HGSOC_SPECTRUM-OV-045_S1_CD45P_LEFT_OVARY_TTTCGATTCTGCGAGC | -4.766977 |  -8.292435 | Adnexa | HGSOC | Left Adnexa | SPECTRUM-OV-045_S1_CD45P_LEFT_OVARY | 2596 | ovary | primary tumour | HGSOC | GSE180661_SPECTRUM-OV-045_S1_CD45P_LEFT_OVARY | 1 |\n",
       "| GSE180661_HGSOC_SPECTRUM-OV-045_S1_CD45P_LEFT_OVARY_TTTGATCGTTGCTCCT | -4.133310 |  -8.758132 | Adnexa | HGSOC | Left Adnexa | SPECTRUM-OV-045_S1_CD45P_LEFT_OVARY | 1200 | ovary | primary tumour | HGSOC | GSE180661_SPECTRUM-OV-045_S1_CD45P_LEFT_OVARY | 1 |\n",
       "| GSE180661_HGSOC_SPECTRUM-OV-045_S1_CD45P_LEFT_OVARY_TTTGGAGGTACGACAG | -9.313746 |  -7.889039 | Adnexa | HGSOC | Left Adnexa | SPECTRUM-OV-045_S1_CD45P_LEFT_OVARY | 3165 | ovary | primary tumour | HGSOC | GSE180661_SPECTRUM-OV-045_S1_CD45P_LEFT_OVARY | 1 |\n",
       "| GSE180661_HGSOC_SPECTRUM-OV-045_S1_CD45P_LEFT_OVARY_TTTGGTTGTGTACAGG | -4.476278 | -10.355681 | Adnexa | HGSOC | Left Adnexa | SPECTRUM-OV-045_S1_CD45P_LEFT_OVARY | 1895 | ovary | primary tumour | HGSOC | GSE180661_SPECTRUM-OV-045_S1_CD45P_LEFT_OVARY | 1 |\n",
       "\n"
      ],
      "text/plain": [
       "                                                                     nCount_RNA\n",
       "GSE180661_HGSOC_SPECTRUM-OV-045_S1_CD45P_LEFT_OVARY_TTTCATGGTTACCTGA -4.499666 \n",
       "GSE180661_HGSOC_SPECTRUM-OV-045_S1_CD45P_LEFT_OVARY_TTTCGATGTGACGTCC -4.871771 \n",
       "GSE180661_HGSOC_SPECTRUM-OV-045_S1_CD45P_LEFT_OVARY_TTTCGATTCTGCGAGC -4.766977 \n",
       "GSE180661_HGSOC_SPECTRUM-OV-045_S1_CD45P_LEFT_OVARY_TTTGATCGTTGCTCCT -4.133310 \n",
       "GSE180661_HGSOC_SPECTRUM-OV-045_S1_CD45P_LEFT_OVARY_TTTGGAGGTACGACAG -9.313746 \n",
       "GSE180661_HGSOC_SPECTRUM-OV-045_S1_CD45P_LEFT_OVARY_TTTGGTTGTGTACAGG -4.476278 \n",
       "                                                                     nFeature_RNA\n",
       "GSE180661_HGSOC_SPECTRUM-OV-045_S1_CD45P_LEFT_OVARY_TTTCATGGTTACCTGA  -9.853381  \n",
       "GSE180661_HGSOC_SPECTRUM-OV-045_S1_CD45P_LEFT_OVARY_TTTCGATGTGACGTCC -10.337130  \n",
       "GSE180661_HGSOC_SPECTRUM-OV-045_S1_CD45P_LEFT_OVARY_TTTCGATTCTGCGAGC  -8.292435  \n",
       "GSE180661_HGSOC_SPECTRUM-OV-045_S1_CD45P_LEFT_OVARY_TTTGATCGTTGCTCCT  -8.758132  \n",
       "GSE180661_HGSOC_SPECTRUM-OV-045_S1_CD45P_LEFT_OVARY_TTTGGAGGTACGACAG  -7.889039  \n",
       "GSE180661_HGSOC_SPECTRUM-OV-045_S1_CD45P_LEFT_OVARY_TTTGGTTGTGTACAGG -10.355681  \n",
       "                                                                     sample_type\n",
       "GSE180661_HGSOC_SPECTRUM-OV-045_S1_CD45P_LEFT_OVARY_TTTCATGGTTACCTGA Adnexa     \n",
       "GSE180661_HGSOC_SPECTRUM-OV-045_S1_CD45P_LEFT_OVARY_TTTCGATGTGACGTCC Adnexa     \n",
       "GSE180661_HGSOC_SPECTRUM-OV-045_S1_CD45P_LEFT_OVARY_TTTCGATTCTGCGAGC Adnexa     \n",
       "GSE180661_HGSOC_SPECTRUM-OV-045_S1_CD45P_LEFT_OVARY_TTTGATCGTTGCTCCT Adnexa     \n",
       "GSE180661_HGSOC_SPECTRUM-OV-045_S1_CD45P_LEFT_OVARY_TTTGGAGGTACGACAG Adnexa     \n",
       "GSE180661_HGSOC_SPECTRUM-OV-045_S1_CD45P_LEFT_OVARY_TTTGGTTGTGTACAGG Adnexa     \n",
       "                                                                     cancer_type\n",
       "GSE180661_HGSOC_SPECTRUM-OV-045_S1_CD45P_LEFT_OVARY_TTTCATGGTTACCTGA HGSOC      \n",
       "GSE180661_HGSOC_SPECTRUM-OV-045_S1_CD45P_LEFT_OVARY_TTTCGATGTGACGTCC HGSOC      \n",
       "GSE180661_HGSOC_SPECTRUM-OV-045_S1_CD45P_LEFT_OVARY_TTTCGATTCTGCGAGC HGSOC      \n",
       "GSE180661_HGSOC_SPECTRUM-OV-045_S1_CD45P_LEFT_OVARY_TTTGATCGTTGCTCCT HGSOC      \n",
       "GSE180661_HGSOC_SPECTRUM-OV-045_S1_CD45P_LEFT_OVARY_TTTGGAGGTACGACAG HGSOC      \n",
       "GSE180661_HGSOC_SPECTRUM-OV-045_S1_CD45P_LEFT_OVARY_TTTGGTTGTGTACAGG HGSOC      \n",
       "                                                                     patient_id \n",
       "GSE180661_HGSOC_SPECTRUM-OV-045_S1_CD45P_LEFT_OVARY_TTTCATGGTTACCTGA Left Adnexa\n",
       "GSE180661_HGSOC_SPECTRUM-OV-045_S1_CD45P_LEFT_OVARY_TTTCGATGTGACGTCC Left Adnexa\n",
       "GSE180661_HGSOC_SPECTRUM-OV-045_S1_CD45P_LEFT_OVARY_TTTCGATTCTGCGAGC Left Adnexa\n",
       "GSE180661_HGSOC_SPECTRUM-OV-045_S1_CD45P_LEFT_OVARY_TTTGATCGTTGCTCCT Left Adnexa\n",
       "GSE180661_HGSOC_SPECTRUM-OV-045_S1_CD45P_LEFT_OVARY_TTTGGAGGTACGACAG Left Adnexa\n",
       "GSE180661_HGSOC_SPECTRUM-OV-045_S1_CD45P_LEFT_OVARY_TTTGGTTGTGTACAGG Left Adnexa\n",
       "                                                                     sample_id                          \n",
       "GSE180661_HGSOC_SPECTRUM-OV-045_S1_CD45P_LEFT_OVARY_TTTCATGGTTACCTGA SPECTRUM-OV-045_S1_CD45P_LEFT_OVARY\n",
       "GSE180661_HGSOC_SPECTRUM-OV-045_S1_CD45P_LEFT_OVARY_TTTCGATGTGACGTCC SPECTRUM-OV-045_S1_CD45P_LEFT_OVARY\n",
       "GSE180661_HGSOC_SPECTRUM-OV-045_S1_CD45P_LEFT_OVARY_TTTCGATTCTGCGAGC SPECTRUM-OV-045_S1_CD45P_LEFT_OVARY\n",
       "GSE180661_HGSOC_SPECTRUM-OV-045_S1_CD45P_LEFT_OVARY_TTTGATCGTTGCTCCT SPECTRUM-OV-045_S1_CD45P_LEFT_OVARY\n",
       "GSE180661_HGSOC_SPECTRUM-OV-045_S1_CD45P_LEFT_OVARY_TTTGGAGGTACGACAG SPECTRUM-OV-045_S1_CD45P_LEFT_OVARY\n",
       "GSE180661_HGSOC_SPECTRUM-OV-045_S1_CD45P_LEFT_OVARY_TTTGGTTGTGTACAGG SPECTRUM-OV-045_S1_CD45P_LEFT_OVARY\n",
       "                                                                     percent.mt\n",
       "GSE180661_HGSOC_SPECTRUM-OV-045_S1_CD45P_LEFT_OVARY_TTTCATGGTTACCTGA 1779      \n",
       "GSE180661_HGSOC_SPECTRUM-OV-045_S1_CD45P_LEFT_OVARY_TTTCGATGTGACGTCC 1541      \n",
       "GSE180661_HGSOC_SPECTRUM-OV-045_S1_CD45P_LEFT_OVARY_TTTCGATTCTGCGAGC 2596      \n",
       "GSE180661_HGSOC_SPECTRUM-OV-045_S1_CD45P_LEFT_OVARY_TTTGATCGTTGCTCCT 1200      \n",
       "GSE180661_HGSOC_SPECTRUM-OV-045_S1_CD45P_LEFT_OVARY_TTTGGAGGTACGACAG 3165      \n",
       "GSE180661_HGSOC_SPECTRUM-OV-045_S1_CD45P_LEFT_OVARY_TTTGGTTGTGTACAGG 1895      \n",
       "                                                                     site \n",
       "GSE180661_HGSOC_SPECTRUM-OV-045_S1_CD45P_LEFT_OVARY_TTTCATGGTTACCTGA ovary\n",
       "GSE180661_HGSOC_SPECTRUM-OV-045_S1_CD45P_LEFT_OVARY_TTTCGATGTGACGTCC ovary\n",
       "GSE180661_HGSOC_SPECTRUM-OV-045_S1_CD45P_LEFT_OVARY_TTTCGATTCTGCGAGC ovary\n",
       "GSE180661_HGSOC_SPECTRUM-OV-045_S1_CD45P_LEFT_OVARY_TTTGATCGTTGCTCCT ovary\n",
       "GSE180661_HGSOC_SPECTRUM-OV-045_S1_CD45P_LEFT_OVARY_TTTGGAGGTACGACAG ovary\n",
       "GSE180661_HGSOC_SPECTRUM-OV-045_S1_CD45P_LEFT_OVARY_TTTGGTTGTGTACAGG ovary\n",
       "                                                                     sample_type_major\n",
       "GSE180661_HGSOC_SPECTRUM-OV-045_S1_CD45P_LEFT_OVARY_TTTCATGGTTACCTGA primary tumour   \n",
       "GSE180661_HGSOC_SPECTRUM-OV-045_S1_CD45P_LEFT_OVARY_TTTCGATGTGACGTCC primary tumour   \n",
       "GSE180661_HGSOC_SPECTRUM-OV-045_S1_CD45P_LEFT_OVARY_TTTCGATTCTGCGAGC primary tumour   \n",
       "GSE180661_HGSOC_SPECTRUM-OV-045_S1_CD45P_LEFT_OVARY_TTTGATCGTTGCTCCT primary tumour   \n",
       "GSE180661_HGSOC_SPECTRUM-OV-045_S1_CD45P_LEFT_OVARY_TTTGGAGGTACGACAG primary tumour   \n",
       "GSE180661_HGSOC_SPECTRUM-OV-045_S1_CD45P_LEFT_OVARY_TTTGGTTGTGTACAGG primary tumour   \n",
       "                                                                     cancer_subtype\n",
       "GSE180661_HGSOC_SPECTRUM-OV-045_S1_CD45P_LEFT_OVARY_TTTCATGGTTACCTGA HGSOC         \n",
       "GSE180661_HGSOC_SPECTRUM-OV-045_S1_CD45P_LEFT_OVARY_TTTCGATGTGACGTCC HGSOC         \n",
       "GSE180661_HGSOC_SPECTRUM-OV-045_S1_CD45P_LEFT_OVARY_TTTCGATTCTGCGAGC HGSOC         \n",
       "GSE180661_HGSOC_SPECTRUM-OV-045_S1_CD45P_LEFT_OVARY_TTTGATCGTTGCTCCT HGSOC         \n",
       "GSE180661_HGSOC_SPECTRUM-OV-045_S1_CD45P_LEFT_OVARY_TTTGGAGGTACGACAG HGSOC         \n",
       "GSE180661_HGSOC_SPECTRUM-OV-045_S1_CD45P_LEFT_OVARY_TTTGGTTGTGTACAGG HGSOC         \n",
       "                                                                     integration_id                               \n",
       "GSE180661_HGSOC_SPECTRUM-OV-045_S1_CD45P_LEFT_OVARY_TTTCATGGTTACCTGA GSE180661_SPECTRUM-OV-045_S1_CD45P_LEFT_OVARY\n",
       "GSE180661_HGSOC_SPECTRUM-OV-045_S1_CD45P_LEFT_OVARY_TTTCGATGTGACGTCC GSE180661_SPECTRUM-OV-045_S1_CD45P_LEFT_OVARY\n",
       "GSE180661_HGSOC_SPECTRUM-OV-045_S1_CD45P_LEFT_OVARY_TTTCGATTCTGCGAGC GSE180661_SPECTRUM-OV-045_S1_CD45P_LEFT_OVARY\n",
       "GSE180661_HGSOC_SPECTRUM-OV-045_S1_CD45P_LEFT_OVARY_TTTGATCGTTGCTCCT GSE180661_SPECTRUM-OV-045_S1_CD45P_LEFT_OVARY\n",
       "GSE180661_HGSOC_SPECTRUM-OV-045_S1_CD45P_LEFT_OVARY_TTTGGAGGTACGACAG GSE180661_SPECTRUM-OV-045_S1_CD45P_LEFT_OVARY\n",
       "GSE180661_HGSOC_SPECTRUM-OV-045_S1_CD45P_LEFT_OVARY_TTTGGTTGTGTACAGG GSE180661_SPECTRUM-OV-045_S1_CD45P_LEFT_OVARY\n",
       "                                                                     ident\n",
       "GSE180661_HGSOC_SPECTRUM-OV-045_S1_CD45P_LEFT_OVARY_TTTCATGGTTACCTGA 1    \n",
       "GSE180661_HGSOC_SPECTRUM-OV-045_S1_CD45P_LEFT_OVARY_TTTCGATGTGACGTCC 1    \n",
       "GSE180661_HGSOC_SPECTRUM-OV-045_S1_CD45P_LEFT_OVARY_TTTCGATTCTGCGAGC 1    \n",
       "GSE180661_HGSOC_SPECTRUM-OV-045_S1_CD45P_LEFT_OVARY_TTTGATCGTTGCTCCT 1    \n",
       "GSE180661_HGSOC_SPECTRUM-OV-045_S1_CD45P_LEFT_OVARY_TTTGGAGGTACGACAG 1    \n",
       "GSE180661_HGSOC_SPECTRUM-OV-045_S1_CD45P_LEFT_OVARY_TTTGGTTGTGTACAGG 1    "
      ]
     },
     "metadata": {},
     "output_type": "display_data"
    }
   ],
   "source": [
    "head(Data_i@meta.data)\n",
    "tail(Data_i@meta.data)"
   ]
  },
  {
   "cell_type": "code",
   "execution_count": 27,
   "metadata": {
    "vscode": {
     "languageId": "r"
    }
   },
   "outputs": [],
   "source": [
    "#need to give them all a dataset_id, take barcode and output what's before the _\n",
    "Data_i@meta.data$dataset_id <- gsub(\"_.*\",\"\",colnames(Data_i))"
   ]
  },
  {
   "cell_type": "code",
   "execution_count": 30,
   "metadata": {
    "vscode": {
     "languageId": "r"
    }
   },
   "outputs": [
    {
     "data": {
      "text/html": [
       "<table class=\"dataframe\">\n",
       "<caption>A data.frame: 6 × 13</caption>\n",
       "<thead>\n",
       "\t<tr><th></th><th scope=col>nCount_RNA</th><th scope=col>nFeature_RNA</th><th scope=col>sample_type</th><th scope=col>cancer_type</th><th scope=col>patient_id</th><th scope=col>sample_id</th><th scope=col>percent.mt</th><th scope=col>site</th><th scope=col>sample_type_major</th><th scope=col>cancer_subtype</th><th scope=col>integration_id</th><th scope=col>ident</th><th scope=col>dataset_id</th></tr>\n",
       "\t<tr><th></th><th scope=col>&lt;dbl&gt;</th><th scope=col>&lt;dbl&gt;</th><th scope=col>&lt;fct&gt;</th><th scope=col>&lt;fct&gt;</th><th scope=col>&lt;fct&gt;</th><th scope=col>&lt;fct&gt;</th><th scope=col>&lt;dbl&gt;</th><th scope=col>&lt;fct&gt;</th><th scope=col>&lt;fct&gt;</th><th scope=col>&lt;fct&gt;</th><th scope=col>&lt;fct&gt;</th><th scope=col>&lt;fct&gt;</th><th scope=col>&lt;chr&gt;</th></tr>\n",
       "</thead>\n",
       "<tbody>\n",
       "\t<tr><th scope=row>GSE215120_AM1_AAACCTGGTTGCTCCT-1</th><td>20298</td><td>3789</td><td>tumour</td><td>Acral Melanoma</td><td>AM1</td><td>GSE215120_Acral_MEL_AM1</td><td>0.9754656</td><td>skin</td><td>primary tumour</td><td>Acral Melanoma</td><td>GSE215120_Acral_MEL_AM1</td><td>12</td><td>GSE215120</td></tr>\n",
       "\t<tr><th scope=row>GSE215120_AM1_AAAGATGTCCAAATGC-1</th><td> 5574</td><td>1721</td><td>tumour</td><td>Acral Melanoma</td><td>AM1</td><td>GSE215120_Acral_MEL_AM1</td><td>6.0459275</td><td>skin</td><td>primary tumour</td><td>Acral Melanoma</td><td>GSE215120_Acral_MEL_AM1</td><td>12</td><td>GSE215120</td></tr>\n",
       "\t<tr><th scope=row>GSE215120_AM1_AAAGTAGTCGGTGTTA-1</th><td>13432</td><td>2759</td><td>tumour</td><td>Acral Melanoma</td><td>AM1</td><td>GSE215120_Acral_MEL_AM1</td><td>2.1515783</td><td>skin</td><td>primary tumour</td><td>Acral Melanoma</td><td>GSE215120_Acral_MEL_AM1</td><td>12</td><td>GSE215120</td></tr>\n",
       "\t<tr><th scope=row>GSE215120_AM1_AAATGCCCAGAGCCAA-1</th><td>17143</td><td>2659</td><td>tumour</td><td>Acral Melanoma</td><td>AM1</td><td>GSE215120_Acral_MEL_AM1</td><td>1.2249898</td><td>skin</td><td>primary tumour</td><td>Acral Melanoma</td><td>GSE215120_Acral_MEL_AM1</td><td>12</td><td>GSE215120</td></tr>\n",
       "\t<tr><th scope=row>GSE215120_AM1_AAATGCCGTTTGGCGC-1</th><td> 3603</td><td>1012</td><td>tumour</td><td>Acral Melanoma</td><td>AM1</td><td>GSE215120_Acral_MEL_AM1</td><td>3.6081044</td><td>skin</td><td>primary tumour</td><td>Acral Melanoma</td><td>GSE215120_Acral_MEL_AM1</td><td>12</td><td>GSE215120</td></tr>\n",
       "\t<tr><th scope=row>GSE215120_AM1_AAATGCCTCATGTCCC-1</th><td>14482</td><td>2882</td><td>tumour</td><td>Acral Melanoma</td><td>AM1</td><td>GSE215120_Acral_MEL_AM1</td><td>1.0357685</td><td>skin</td><td>primary tumour</td><td>Acral Melanoma</td><td>GSE215120_Acral_MEL_AM1</td><td>12</td><td>GSE215120</td></tr>\n",
       "</tbody>\n",
       "</table>\n"
      ],
      "text/latex": [
       "A data.frame: 6 × 13\n",
       "\\begin{tabular}{r|lllllllllllll}\n",
       "  & nCount\\_RNA & nFeature\\_RNA & sample\\_type & cancer\\_type & patient\\_id & sample\\_id & percent.mt & site & sample\\_type\\_major & cancer\\_subtype & integration\\_id & ident & dataset\\_id\\\\\n",
       "  & <dbl> & <dbl> & <fct> & <fct> & <fct> & <fct> & <dbl> & <fct> & <fct> & <fct> & <fct> & <fct> & <chr>\\\\\n",
       "\\hline\n",
       "\tGSE215120\\_AM1\\_AAACCTGGTTGCTCCT-1 & 20298 & 3789 & tumour & Acral Melanoma & AM1 & GSE215120\\_Acral\\_MEL\\_AM1 & 0.9754656 & skin & primary tumour & Acral Melanoma & GSE215120\\_Acral\\_MEL\\_AM1 & 12 & GSE215120\\\\\n",
       "\tGSE215120\\_AM1\\_AAAGATGTCCAAATGC-1 &  5574 & 1721 & tumour & Acral Melanoma & AM1 & GSE215120\\_Acral\\_MEL\\_AM1 & 6.0459275 & skin & primary tumour & Acral Melanoma & GSE215120\\_Acral\\_MEL\\_AM1 & 12 & GSE215120\\\\\n",
       "\tGSE215120\\_AM1\\_AAAGTAGTCGGTGTTA-1 & 13432 & 2759 & tumour & Acral Melanoma & AM1 & GSE215120\\_Acral\\_MEL\\_AM1 & 2.1515783 & skin & primary tumour & Acral Melanoma & GSE215120\\_Acral\\_MEL\\_AM1 & 12 & GSE215120\\\\\n",
       "\tGSE215120\\_AM1\\_AAATGCCCAGAGCCAA-1 & 17143 & 2659 & tumour & Acral Melanoma & AM1 & GSE215120\\_Acral\\_MEL\\_AM1 & 1.2249898 & skin & primary tumour & Acral Melanoma & GSE215120\\_Acral\\_MEL\\_AM1 & 12 & GSE215120\\\\\n",
       "\tGSE215120\\_AM1\\_AAATGCCGTTTGGCGC-1 &  3603 & 1012 & tumour & Acral Melanoma & AM1 & GSE215120\\_Acral\\_MEL\\_AM1 & 3.6081044 & skin & primary tumour & Acral Melanoma & GSE215120\\_Acral\\_MEL\\_AM1 & 12 & GSE215120\\\\\n",
       "\tGSE215120\\_AM1\\_AAATGCCTCATGTCCC-1 & 14482 & 2882 & tumour & Acral Melanoma & AM1 & GSE215120\\_Acral\\_MEL\\_AM1 & 1.0357685 & skin & primary tumour & Acral Melanoma & GSE215120\\_Acral\\_MEL\\_AM1 & 12 & GSE215120\\\\\n",
       "\\end{tabular}\n"
      ],
      "text/markdown": [
       "\n",
       "A data.frame: 6 × 13\n",
       "\n",
       "| <!--/--> | nCount_RNA &lt;dbl&gt; | nFeature_RNA &lt;dbl&gt; | sample_type &lt;fct&gt; | cancer_type &lt;fct&gt; | patient_id &lt;fct&gt; | sample_id &lt;fct&gt; | percent.mt &lt;dbl&gt; | site &lt;fct&gt; | sample_type_major &lt;fct&gt; | cancer_subtype &lt;fct&gt; | integration_id &lt;fct&gt; | ident &lt;fct&gt; | dataset_id &lt;chr&gt; |\n",
       "|---|---|---|---|---|---|---|---|---|---|---|---|---|---|\n",
       "| GSE215120_AM1_AAACCTGGTTGCTCCT-1 | 20298 | 3789 | tumour | Acral Melanoma | AM1 | GSE215120_Acral_MEL_AM1 | 0.9754656 | skin | primary tumour | Acral Melanoma | GSE215120_Acral_MEL_AM1 | 12 | GSE215120 |\n",
       "| GSE215120_AM1_AAAGATGTCCAAATGC-1 |  5574 | 1721 | tumour | Acral Melanoma | AM1 | GSE215120_Acral_MEL_AM1 | 6.0459275 | skin | primary tumour | Acral Melanoma | GSE215120_Acral_MEL_AM1 | 12 | GSE215120 |\n",
       "| GSE215120_AM1_AAAGTAGTCGGTGTTA-1 | 13432 | 2759 | tumour | Acral Melanoma | AM1 | GSE215120_Acral_MEL_AM1 | 2.1515783 | skin | primary tumour | Acral Melanoma | GSE215120_Acral_MEL_AM1 | 12 | GSE215120 |\n",
       "| GSE215120_AM1_AAATGCCCAGAGCCAA-1 | 17143 | 2659 | tumour | Acral Melanoma | AM1 | GSE215120_Acral_MEL_AM1 | 1.2249898 | skin | primary tumour | Acral Melanoma | GSE215120_Acral_MEL_AM1 | 12 | GSE215120 |\n",
       "| GSE215120_AM1_AAATGCCGTTTGGCGC-1 |  3603 | 1012 | tumour | Acral Melanoma | AM1 | GSE215120_Acral_MEL_AM1 | 3.6081044 | skin | primary tumour | Acral Melanoma | GSE215120_Acral_MEL_AM1 | 12 | GSE215120 |\n",
       "| GSE215120_AM1_AAATGCCTCATGTCCC-1 | 14482 | 2882 | tumour | Acral Melanoma | AM1 | GSE215120_Acral_MEL_AM1 | 1.0357685 | skin | primary tumour | Acral Melanoma | GSE215120_Acral_MEL_AM1 | 12 | GSE215120 |\n",
       "\n"
      ],
      "text/plain": [
       "                                 nCount_RNA nFeature_RNA sample_type\n",
       "GSE215120_AM1_AAACCTGGTTGCTCCT-1 20298      3789         tumour     \n",
       "GSE215120_AM1_AAAGATGTCCAAATGC-1  5574      1721         tumour     \n",
       "GSE215120_AM1_AAAGTAGTCGGTGTTA-1 13432      2759         tumour     \n",
       "GSE215120_AM1_AAATGCCCAGAGCCAA-1 17143      2659         tumour     \n",
       "GSE215120_AM1_AAATGCCGTTTGGCGC-1  3603      1012         tumour     \n",
       "GSE215120_AM1_AAATGCCTCATGTCCC-1 14482      2882         tumour     \n",
       "                                 cancer_type    patient_id\n",
       "GSE215120_AM1_AAACCTGGTTGCTCCT-1 Acral Melanoma AM1       \n",
       "GSE215120_AM1_AAAGATGTCCAAATGC-1 Acral Melanoma AM1       \n",
       "GSE215120_AM1_AAAGTAGTCGGTGTTA-1 Acral Melanoma AM1       \n",
       "GSE215120_AM1_AAATGCCCAGAGCCAA-1 Acral Melanoma AM1       \n",
       "GSE215120_AM1_AAATGCCGTTTGGCGC-1 Acral Melanoma AM1       \n",
       "GSE215120_AM1_AAATGCCTCATGTCCC-1 Acral Melanoma AM1       \n",
       "                                 sample_id               percent.mt site\n",
       "GSE215120_AM1_AAACCTGGTTGCTCCT-1 GSE215120_Acral_MEL_AM1 0.9754656  skin\n",
       "GSE215120_AM1_AAAGATGTCCAAATGC-1 GSE215120_Acral_MEL_AM1 6.0459275  skin\n",
       "GSE215120_AM1_AAAGTAGTCGGTGTTA-1 GSE215120_Acral_MEL_AM1 2.1515783  skin\n",
       "GSE215120_AM1_AAATGCCCAGAGCCAA-1 GSE215120_Acral_MEL_AM1 1.2249898  skin\n",
       "GSE215120_AM1_AAATGCCGTTTGGCGC-1 GSE215120_Acral_MEL_AM1 3.6081044  skin\n",
       "GSE215120_AM1_AAATGCCTCATGTCCC-1 GSE215120_Acral_MEL_AM1 1.0357685  skin\n",
       "                                 sample_type_major cancer_subtype\n",
       "GSE215120_AM1_AAACCTGGTTGCTCCT-1 primary tumour    Acral Melanoma\n",
       "GSE215120_AM1_AAAGATGTCCAAATGC-1 primary tumour    Acral Melanoma\n",
       "GSE215120_AM1_AAAGTAGTCGGTGTTA-1 primary tumour    Acral Melanoma\n",
       "GSE215120_AM1_AAATGCCCAGAGCCAA-1 primary tumour    Acral Melanoma\n",
       "GSE215120_AM1_AAATGCCGTTTGGCGC-1 primary tumour    Acral Melanoma\n",
       "GSE215120_AM1_AAATGCCTCATGTCCC-1 primary tumour    Acral Melanoma\n",
       "                                 integration_id          ident dataset_id\n",
       "GSE215120_AM1_AAACCTGGTTGCTCCT-1 GSE215120_Acral_MEL_AM1 12    GSE215120 \n",
       "GSE215120_AM1_AAAGATGTCCAAATGC-1 GSE215120_Acral_MEL_AM1 12    GSE215120 \n",
       "GSE215120_AM1_AAAGTAGTCGGTGTTA-1 GSE215120_Acral_MEL_AM1 12    GSE215120 \n",
       "GSE215120_AM1_AAATGCCCAGAGCCAA-1 GSE215120_Acral_MEL_AM1 12    GSE215120 \n",
       "GSE215120_AM1_AAATGCCGTTTGGCGC-1 GSE215120_Acral_MEL_AM1 12    GSE215120 \n",
       "GSE215120_AM1_AAATGCCTCATGTCCC-1 GSE215120_Acral_MEL_AM1 12    GSE215120 "
      ]
     },
     "metadata": {},
     "output_type": "display_data"
    },
    {
     "data": {
      "text/html": [
       "<table class=\"dataframe\">\n",
       "<caption>A data.frame: 6 × 13</caption>\n",
       "<thead>\n",
       "\t<tr><th></th><th scope=col>nCount_RNA</th><th scope=col>nFeature_RNA</th><th scope=col>sample_type</th><th scope=col>cancer_type</th><th scope=col>patient_id</th><th scope=col>sample_id</th><th scope=col>percent.mt</th><th scope=col>site</th><th scope=col>sample_type_major</th><th scope=col>cancer_subtype</th><th scope=col>integration_id</th><th scope=col>ident</th><th scope=col>dataset_id</th></tr>\n",
       "\t<tr><th></th><th scope=col>&lt;dbl&gt;</th><th scope=col>&lt;dbl&gt;</th><th scope=col>&lt;fct&gt;</th><th scope=col>&lt;fct&gt;</th><th scope=col>&lt;fct&gt;</th><th scope=col>&lt;fct&gt;</th><th scope=col>&lt;dbl&gt;</th><th scope=col>&lt;fct&gt;</th><th scope=col>&lt;fct&gt;</th><th scope=col>&lt;fct&gt;</th><th scope=col>&lt;fct&gt;</th><th scope=col>&lt;fct&gt;</th><th scope=col>&lt;chr&gt;</th></tr>\n",
       "</thead>\n",
       "<tbody>\n",
       "\t<tr><th scope=row>GSE180661_HGSOC_SPECTRUM-OV-045_S1_CD45P_LEFT_OVARY_TTTCATGGTTACCTGA</th><td>-4.499666</td><td> -9.853381</td><td>Adnexa</td><td>HGSOC</td><td>Left Adnexa</td><td>SPECTRUM-OV-045_S1_CD45P_LEFT_OVARY</td><td>1779</td><td>ovary</td><td>primary tumour</td><td>HGSOC</td><td>GSE180661_SPECTRUM-OV-045_S1_CD45P_LEFT_OVARY</td><td>1</td><td>GSE180661</td></tr>\n",
       "\t<tr><th scope=row>GSE180661_HGSOC_SPECTRUM-OV-045_S1_CD45P_LEFT_OVARY_TTTCGATGTGACGTCC</th><td>-4.871771</td><td>-10.337130</td><td>Adnexa</td><td>HGSOC</td><td>Left Adnexa</td><td>SPECTRUM-OV-045_S1_CD45P_LEFT_OVARY</td><td>1541</td><td>ovary</td><td>primary tumour</td><td>HGSOC</td><td>GSE180661_SPECTRUM-OV-045_S1_CD45P_LEFT_OVARY</td><td>1</td><td>GSE180661</td></tr>\n",
       "\t<tr><th scope=row>GSE180661_HGSOC_SPECTRUM-OV-045_S1_CD45P_LEFT_OVARY_TTTCGATTCTGCGAGC</th><td>-4.766977</td><td> -8.292435</td><td>Adnexa</td><td>HGSOC</td><td>Left Adnexa</td><td>SPECTRUM-OV-045_S1_CD45P_LEFT_OVARY</td><td>2596</td><td>ovary</td><td>primary tumour</td><td>HGSOC</td><td>GSE180661_SPECTRUM-OV-045_S1_CD45P_LEFT_OVARY</td><td>1</td><td>GSE180661</td></tr>\n",
       "\t<tr><th scope=row>GSE180661_HGSOC_SPECTRUM-OV-045_S1_CD45P_LEFT_OVARY_TTTGATCGTTGCTCCT</th><td>-4.133310</td><td> -8.758132</td><td>Adnexa</td><td>HGSOC</td><td>Left Adnexa</td><td>SPECTRUM-OV-045_S1_CD45P_LEFT_OVARY</td><td>1200</td><td>ovary</td><td>primary tumour</td><td>HGSOC</td><td>GSE180661_SPECTRUM-OV-045_S1_CD45P_LEFT_OVARY</td><td>1</td><td>GSE180661</td></tr>\n",
       "\t<tr><th scope=row>GSE180661_HGSOC_SPECTRUM-OV-045_S1_CD45P_LEFT_OVARY_TTTGGAGGTACGACAG</th><td>-9.313746</td><td> -7.889039</td><td>Adnexa</td><td>HGSOC</td><td>Left Adnexa</td><td>SPECTRUM-OV-045_S1_CD45P_LEFT_OVARY</td><td>3165</td><td>ovary</td><td>primary tumour</td><td>HGSOC</td><td>GSE180661_SPECTRUM-OV-045_S1_CD45P_LEFT_OVARY</td><td>1</td><td>GSE180661</td></tr>\n",
       "\t<tr><th scope=row>GSE180661_HGSOC_SPECTRUM-OV-045_S1_CD45P_LEFT_OVARY_TTTGGTTGTGTACAGG</th><td>-4.476278</td><td>-10.355681</td><td>Adnexa</td><td>HGSOC</td><td>Left Adnexa</td><td>SPECTRUM-OV-045_S1_CD45P_LEFT_OVARY</td><td>1895</td><td>ovary</td><td>primary tumour</td><td>HGSOC</td><td>GSE180661_SPECTRUM-OV-045_S1_CD45P_LEFT_OVARY</td><td>1</td><td>GSE180661</td></tr>\n",
       "</tbody>\n",
       "</table>\n"
      ],
      "text/latex": [
       "A data.frame: 6 × 13\n",
       "\\begin{tabular}{r|lllllllllllll}\n",
       "  & nCount\\_RNA & nFeature\\_RNA & sample\\_type & cancer\\_type & patient\\_id & sample\\_id & percent.mt & site & sample\\_type\\_major & cancer\\_subtype & integration\\_id & ident & dataset\\_id\\\\\n",
       "  & <dbl> & <dbl> & <fct> & <fct> & <fct> & <fct> & <dbl> & <fct> & <fct> & <fct> & <fct> & <fct> & <chr>\\\\\n",
       "\\hline\n",
       "\tGSE180661\\_HGSOC\\_SPECTRUM-OV-045\\_S1\\_CD45P\\_LEFT\\_OVARY\\_TTTCATGGTTACCTGA & -4.499666 &  -9.853381 & Adnexa & HGSOC & Left Adnexa & SPECTRUM-OV-045\\_S1\\_CD45P\\_LEFT\\_OVARY & 1779 & ovary & primary tumour & HGSOC & GSE180661\\_SPECTRUM-OV-045\\_S1\\_CD45P\\_LEFT\\_OVARY & 1 & GSE180661\\\\\n",
       "\tGSE180661\\_HGSOC\\_SPECTRUM-OV-045\\_S1\\_CD45P\\_LEFT\\_OVARY\\_TTTCGATGTGACGTCC & -4.871771 & -10.337130 & Adnexa & HGSOC & Left Adnexa & SPECTRUM-OV-045\\_S1\\_CD45P\\_LEFT\\_OVARY & 1541 & ovary & primary tumour & HGSOC & GSE180661\\_SPECTRUM-OV-045\\_S1\\_CD45P\\_LEFT\\_OVARY & 1 & GSE180661\\\\\n",
       "\tGSE180661\\_HGSOC\\_SPECTRUM-OV-045\\_S1\\_CD45P\\_LEFT\\_OVARY\\_TTTCGATTCTGCGAGC & -4.766977 &  -8.292435 & Adnexa & HGSOC & Left Adnexa & SPECTRUM-OV-045\\_S1\\_CD45P\\_LEFT\\_OVARY & 2596 & ovary & primary tumour & HGSOC & GSE180661\\_SPECTRUM-OV-045\\_S1\\_CD45P\\_LEFT\\_OVARY & 1 & GSE180661\\\\\n",
       "\tGSE180661\\_HGSOC\\_SPECTRUM-OV-045\\_S1\\_CD45P\\_LEFT\\_OVARY\\_TTTGATCGTTGCTCCT & -4.133310 &  -8.758132 & Adnexa & HGSOC & Left Adnexa & SPECTRUM-OV-045\\_S1\\_CD45P\\_LEFT\\_OVARY & 1200 & ovary & primary tumour & HGSOC & GSE180661\\_SPECTRUM-OV-045\\_S1\\_CD45P\\_LEFT\\_OVARY & 1 & GSE180661\\\\\n",
       "\tGSE180661\\_HGSOC\\_SPECTRUM-OV-045\\_S1\\_CD45P\\_LEFT\\_OVARY\\_TTTGGAGGTACGACAG & -9.313746 &  -7.889039 & Adnexa & HGSOC & Left Adnexa & SPECTRUM-OV-045\\_S1\\_CD45P\\_LEFT\\_OVARY & 3165 & ovary & primary tumour & HGSOC & GSE180661\\_SPECTRUM-OV-045\\_S1\\_CD45P\\_LEFT\\_OVARY & 1 & GSE180661\\\\\n",
       "\tGSE180661\\_HGSOC\\_SPECTRUM-OV-045\\_S1\\_CD45P\\_LEFT\\_OVARY\\_TTTGGTTGTGTACAGG & -4.476278 & -10.355681 & Adnexa & HGSOC & Left Adnexa & SPECTRUM-OV-045\\_S1\\_CD45P\\_LEFT\\_OVARY & 1895 & ovary & primary tumour & HGSOC & GSE180661\\_SPECTRUM-OV-045\\_S1\\_CD45P\\_LEFT\\_OVARY & 1 & GSE180661\\\\\n",
       "\\end{tabular}\n"
      ],
      "text/markdown": [
       "\n",
       "A data.frame: 6 × 13\n",
       "\n",
       "| <!--/--> | nCount_RNA &lt;dbl&gt; | nFeature_RNA &lt;dbl&gt; | sample_type &lt;fct&gt; | cancer_type &lt;fct&gt; | patient_id &lt;fct&gt; | sample_id &lt;fct&gt; | percent.mt &lt;dbl&gt; | site &lt;fct&gt; | sample_type_major &lt;fct&gt; | cancer_subtype &lt;fct&gt; | integration_id &lt;fct&gt; | ident &lt;fct&gt; | dataset_id &lt;chr&gt; |\n",
       "|---|---|---|---|---|---|---|---|---|---|---|---|---|---|\n",
       "| GSE180661_HGSOC_SPECTRUM-OV-045_S1_CD45P_LEFT_OVARY_TTTCATGGTTACCTGA | -4.499666 |  -9.853381 | Adnexa | HGSOC | Left Adnexa | SPECTRUM-OV-045_S1_CD45P_LEFT_OVARY | 1779 | ovary | primary tumour | HGSOC | GSE180661_SPECTRUM-OV-045_S1_CD45P_LEFT_OVARY | 1 | GSE180661 |\n",
       "| GSE180661_HGSOC_SPECTRUM-OV-045_S1_CD45P_LEFT_OVARY_TTTCGATGTGACGTCC | -4.871771 | -10.337130 | Adnexa | HGSOC | Left Adnexa | SPECTRUM-OV-045_S1_CD45P_LEFT_OVARY | 1541 | ovary | primary tumour | HGSOC | GSE180661_SPECTRUM-OV-045_S1_CD45P_LEFT_OVARY | 1 | GSE180661 |\n",
       "| GSE180661_HGSOC_SPECTRUM-OV-045_S1_CD45P_LEFT_OVARY_TTTCGATTCTGCGAGC | -4.766977 |  -8.292435 | Adnexa | HGSOC | Left Adnexa | SPECTRUM-OV-045_S1_CD45P_LEFT_OVARY | 2596 | ovary | primary tumour | HGSOC | GSE180661_SPECTRUM-OV-045_S1_CD45P_LEFT_OVARY | 1 | GSE180661 |\n",
       "| GSE180661_HGSOC_SPECTRUM-OV-045_S1_CD45P_LEFT_OVARY_TTTGATCGTTGCTCCT | -4.133310 |  -8.758132 | Adnexa | HGSOC | Left Adnexa | SPECTRUM-OV-045_S1_CD45P_LEFT_OVARY | 1200 | ovary | primary tumour | HGSOC | GSE180661_SPECTRUM-OV-045_S1_CD45P_LEFT_OVARY | 1 | GSE180661 |\n",
       "| GSE180661_HGSOC_SPECTRUM-OV-045_S1_CD45P_LEFT_OVARY_TTTGGAGGTACGACAG | -9.313746 |  -7.889039 | Adnexa | HGSOC | Left Adnexa | SPECTRUM-OV-045_S1_CD45P_LEFT_OVARY | 3165 | ovary | primary tumour | HGSOC | GSE180661_SPECTRUM-OV-045_S1_CD45P_LEFT_OVARY | 1 | GSE180661 |\n",
       "| GSE180661_HGSOC_SPECTRUM-OV-045_S1_CD45P_LEFT_OVARY_TTTGGTTGTGTACAGG | -4.476278 | -10.355681 | Adnexa | HGSOC | Left Adnexa | SPECTRUM-OV-045_S1_CD45P_LEFT_OVARY | 1895 | ovary | primary tumour | HGSOC | GSE180661_SPECTRUM-OV-045_S1_CD45P_LEFT_OVARY | 1 | GSE180661 |\n",
       "\n"
      ],
      "text/plain": [
       "                                                                     nCount_RNA\n",
       "GSE180661_HGSOC_SPECTRUM-OV-045_S1_CD45P_LEFT_OVARY_TTTCATGGTTACCTGA -4.499666 \n",
       "GSE180661_HGSOC_SPECTRUM-OV-045_S1_CD45P_LEFT_OVARY_TTTCGATGTGACGTCC -4.871771 \n",
       "GSE180661_HGSOC_SPECTRUM-OV-045_S1_CD45P_LEFT_OVARY_TTTCGATTCTGCGAGC -4.766977 \n",
       "GSE180661_HGSOC_SPECTRUM-OV-045_S1_CD45P_LEFT_OVARY_TTTGATCGTTGCTCCT -4.133310 \n",
       "GSE180661_HGSOC_SPECTRUM-OV-045_S1_CD45P_LEFT_OVARY_TTTGGAGGTACGACAG -9.313746 \n",
       "GSE180661_HGSOC_SPECTRUM-OV-045_S1_CD45P_LEFT_OVARY_TTTGGTTGTGTACAGG -4.476278 \n",
       "                                                                     nFeature_RNA\n",
       "GSE180661_HGSOC_SPECTRUM-OV-045_S1_CD45P_LEFT_OVARY_TTTCATGGTTACCTGA  -9.853381  \n",
       "GSE180661_HGSOC_SPECTRUM-OV-045_S1_CD45P_LEFT_OVARY_TTTCGATGTGACGTCC -10.337130  \n",
       "GSE180661_HGSOC_SPECTRUM-OV-045_S1_CD45P_LEFT_OVARY_TTTCGATTCTGCGAGC  -8.292435  \n",
       "GSE180661_HGSOC_SPECTRUM-OV-045_S1_CD45P_LEFT_OVARY_TTTGATCGTTGCTCCT  -8.758132  \n",
       "GSE180661_HGSOC_SPECTRUM-OV-045_S1_CD45P_LEFT_OVARY_TTTGGAGGTACGACAG  -7.889039  \n",
       "GSE180661_HGSOC_SPECTRUM-OV-045_S1_CD45P_LEFT_OVARY_TTTGGTTGTGTACAGG -10.355681  \n",
       "                                                                     sample_type\n",
       "GSE180661_HGSOC_SPECTRUM-OV-045_S1_CD45P_LEFT_OVARY_TTTCATGGTTACCTGA Adnexa     \n",
       "GSE180661_HGSOC_SPECTRUM-OV-045_S1_CD45P_LEFT_OVARY_TTTCGATGTGACGTCC Adnexa     \n",
       "GSE180661_HGSOC_SPECTRUM-OV-045_S1_CD45P_LEFT_OVARY_TTTCGATTCTGCGAGC Adnexa     \n",
       "GSE180661_HGSOC_SPECTRUM-OV-045_S1_CD45P_LEFT_OVARY_TTTGATCGTTGCTCCT Adnexa     \n",
       "GSE180661_HGSOC_SPECTRUM-OV-045_S1_CD45P_LEFT_OVARY_TTTGGAGGTACGACAG Adnexa     \n",
       "GSE180661_HGSOC_SPECTRUM-OV-045_S1_CD45P_LEFT_OVARY_TTTGGTTGTGTACAGG Adnexa     \n",
       "                                                                     cancer_type\n",
       "GSE180661_HGSOC_SPECTRUM-OV-045_S1_CD45P_LEFT_OVARY_TTTCATGGTTACCTGA HGSOC      \n",
       "GSE180661_HGSOC_SPECTRUM-OV-045_S1_CD45P_LEFT_OVARY_TTTCGATGTGACGTCC HGSOC      \n",
       "GSE180661_HGSOC_SPECTRUM-OV-045_S1_CD45P_LEFT_OVARY_TTTCGATTCTGCGAGC HGSOC      \n",
       "GSE180661_HGSOC_SPECTRUM-OV-045_S1_CD45P_LEFT_OVARY_TTTGATCGTTGCTCCT HGSOC      \n",
       "GSE180661_HGSOC_SPECTRUM-OV-045_S1_CD45P_LEFT_OVARY_TTTGGAGGTACGACAG HGSOC      \n",
       "GSE180661_HGSOC_SPECTRUM-OV-045_S1_CD45P_LEFT_OVARY_TTTGGTTGTGTACAGG HGSOC      \n",
       "                                                                     patient_id \n",
       "GSE180661_HGSOC_SPECTRUM-OV-045_S1_CD45P_LEFT_OVARY_TTTCATGGTTACCTGA Left Adnexa\n",
       "GSE180661_HGSOC_SPECTRUM-OV-045_S1_CD45P_LEFT_OVARY_TTTCGATGTGACGTCC Left Adnexa\n",
       "GSE180661_HGSOC_SPECTRUM-OV-045_S1_CD45P_LEFT_OVARY_TTTCGATTCTGCGAGC Left Adnexa\n",
       "GSE180661_HGSOC_SPECTRUM-OV-045_S1_CD45P_LEFT_OVARY_TTTGATCGTTGCTCCT Left Adnexa\n",
       "GSE180661_HGSOC_SPECTRUM-OV-045_S1_CD45P_LEFT_OVARY_TTTGGAGGTACGACAG Left Adnexa\n",
       "GSE180661_HGSOC_SPECTRUM-OV-045_S1_CD45P_LEFT_OVARY_TTTGGTTGTGTACAGG Left Adnexa\n",
       "                                                                     sample_id                          \n",
       "GSE180661_HGSOC_SPECTRUM-OV-045_S1_CD45P_LEFT_OVARY_TTTCATGGTTACCTGA SPECTRUM-OV-045_S1_CD45P_LEFT_OVARY\n",
       "GSE180661_HGSOC_SPECTRUM-OV-045_S1_CD45P_LEFT_OVARY_TTTCGATGTGACGTCC SPECTRUM-OV-045_S1_CD45P_LEFT_OVARY\n",
       "GSE180661_HGSOC_SPECTRUM-OV-045_S1_CD45P_LEFT_OVARY_TTTCGATTCTGCGAGC SPECTRUM-OV-045_S1_CD45P_LEFT_OVARY\n",
       "GSE180661_HGSOC_SPECTRUM-OV-045_S1_CD45P_LEFT_OVARY_TTTGATCGTTGCTCCT SPECTRUM-OV-045_S1_CD45P_LEFT_OVARY\n",
       "GSE180661_HGSOC_SPECTRUM-OV-045_S1_CD45P_LEFT_OVARY_TTTGGAGGTACGACAG SPECTRUM-OV-045_S1_CD45P_LEFT_OVARY\n",
       "GSE180661_HGSOC_SPECTRUM-OV-045_S1_CD45P_LEFT_OVARY_TTTGGTTGTGTACAGG SPECTRUM-OV-045_S1_CD45P_LEFT_OVARY\n",
       "                                                                     percent.mt\n",
       "GSE180661_HGSOC_SPECTRUM-OV-045_S1_CD45P_LEFT_OVARY_TTTCATGGTTACCTGA 1779      \n",
       "GSE180661_HGSOC_SPECTRUM-OV-045_S1_CD45P_LEFT_OVARY_TTTCGATGTGACGTCC 1541      \n",
       "GSE180661_HGSOC_SPECTRUM-OV-045_S1_CD45P_LEFT_OVARY_TTTCGATTCTGCGAGC 2596      \n",
       "GSE180661_HGSOC_SPECTRUM-OV-045_S1_CD45P_LEFT_OVARY_TTTGATCGTTGCTCCT 1200      \n",
       "GSE180661_HGSOC_SPECTRUM-OV-045_S1_CD45P_LEFT_OVARY_TTTGGAGGTACGACAG 3165      \n",
       "GSE180661_HGSOC_SPECTRUM-OV-045_S1_CD45P_LEFT_OVARY_TTTGGTTGTGTACAGG 1895      \n",
       "                                                                     site \n",
       "GSE180661_HGSOC_SPECTRUM-OV-045_S1_CD45P_LEFT_OVARY_TTTCATGGTTACCTGA ovary\n",
       "GSE180661_HGSOC_SPECTRUM-OV-045_S1_CD45P_LEFT_OVARY_TTTCGATGTGACGTCC ovary\n",
       "GSE180661_HGSOC_SPECTRUM-OV-045_S1_CD45P_LEFT_OVARY_TTTCGATTCTGCGAGC ovary\n",
       "GSE180661_HGSOC_SPECTRUM-OV-045_S1_CD45P_LEFT_OVARY_TTTGATCGTTGCTCCT ovary\n",
       "GSE180661_HGSOC_SPECTRUM-OV-045_S1_CD45P_LEFT_OVARY_TTTGGAGGTACGACAG ovary\n",
       "GSE180661_HGSOC_SPECTRUM-OV-045_S1_CD45P_LEFT_OVARY_TTTGGTTGTGTACAGG ovary\n",
       "                                                                     sample_type_major\n",
       "GSE180661_HGSOC_SPECTRUM-OV-045_S1_CD45P_LEFT_OVARY_TTTCATGGTTACCTGA primary tumour   \n",
       "GSE180661_HGSOC_SPECTRUM-OV-045_S1_CD45P_LEFT_OVARY_TTTCGATGTGACGTCC primary tumour   \n",
       "GSE180661_HGSOC_SPECTRUM-OV-045_S1_CD45P_LEFT_OVARY_TTTCGATTCTGCGAGC primary tumour   \n",
       "GSE180661_HGSOC_SPECTRUM-OV-045_S1_CD45P_LEFT_OVARY_TTTGATCGTTGCTCCT primary tumour   \n",
       "GSE180661_HGSOC_SPECTRUM-OV-045_S1_CD45P_LEFT_OVARY_TTTGGAGGTACGACAG primary tumour   \n",
       "GSE180661_HGSOC_SPECTRUM-OV-045_S1_CD45P_LEFT_OVARY_TTTGGTTGTGTACAGG primary tumour   \n",
       "                                                                     cancer_subtype\n",
       "GSE180661_HGSOC_SPECTRUM-OV-045_S1_CD45P_LEFT_OVARY_TTTCATGGTTACCTGA HGSOC         \n",
       "GSE180661_HGSOC_SPECTRUM-OV-045_S1_CD45P_LEFT_OVARY_TTTCGATGTGACGTCC HGSOC         \n",
       "GSE180661_HGSOC_SPECTRUM-OV-045_S1_CD45P_LEFT_OVARY_TTTCGATTCTGCGAGC HGSOC         \n",
       "GSE180661_HGSOC_SPECTRUM-OV-045_S1_CD45P_LEFT_OVARY_TTTGATCGTTGCTCCT HGSOC         \n",
       "GSE180661_HGSOC_SPECTRUM-OV-045_S1_CD45P_LEFT_OVARY_TTTGGAGGTACGACAG HGSOC         \n",
       "GSE180661_HGSOC_SPECTRUM-OV-045_S1_CD45P_LEFT_OVARY_TTTGGTTGTGTACAGG HGSOC         \n",
       "                                                                     integration_id                               \n",
       "GSE180661_HGSOC_SPECTRUM-OV-045_S1_CD45P_LEFT_OVARY_TTTCATGGTTACCTGA GSE180661_SPECTRUM-OV-045_S1_CD45P_LEFT_OVARY\n",
       "GSE180661_HGSOC_SPECTRUM-OV-045_S1_CD45P_LEFT_OVARY_TTTCGATGTGACGTCC GSE180661_SPECTRUM-OV-045_S1_CD45P_LEFT_OVARY\n",
       "GSE180661_HGSOC_SPECTRUM-OV-045_S1_CD45P_LEFT_OVARY_TTTCGATTCTGCGAGC GSE180661_SPECTRUM-OV-045_S1_CD45P_LEFT_OVARY\n",
       "GSE180661_HGSOC_SPECTRUM-OV-045_S1_CD45P_LEFT_OVARY_TTTGATCGTTGCTCCT GSE180661_SPECTRUM-OV-045_S1_CD45P_LEFT_OVARY\n",
       "GSE180661_HGSOC_SPECTRUM-OV-045_S1_CD45P_LEFT_OVARY_TTTGGAGGTACGACAG GSE180661_SPECTRUM-OV-045_S1_CD45P_LEFT_OVARY\n",
       "GSE180661_HGSOC_SPECTRUM-OV-045_S1_CD45P_LEFT_OVARY_TTTGGTTGTGTACAGG GSE180661_SPECTRUM-OV-045_S1_CD45P_LEFT_OVARY\n",
       "                                                                     ident\n",
       "GSE180661_HGSOC_SPECTRUM-OV-045_S1_CD45P_LEFT_OVARY_TTTCATGGTTACCTGA 1    \n",
       "GSE180661_HGSOC_SPECTRUM-OV-045_S1_CD45P_LEFT_OVARY_TTTCGATGTGACGTCC 1    \n",
       "GSE180661_HGSOC_SPECTRUM-OV-045_S1_CD45P_LEFT_OVARY_TTTCGATTCTGCGAGC 1    \n",
       "GSE180661_HGSOC_SPECTRUM-OV-045_S1_CD45P_LEFT_OVARY_TTTGATCGTTGCTCCT 1    \n",
       "GSE180661_HGSOC_SPECTRUM-OV-045_S1_CD45P_LEFT_OVARY_TTTGGAGGTACGACAG 1    \n",
       "GSE180661_HGSOC_SPECTRUM-OV-045_S1_CD45P_LEFT_OVARY_TTTGGTTGTGTACAGG 1    \n",
       "                                                                     dataset_id\n",
       "GSE180661_HGSOC_SPECTRUM-OV-045_S1_CD45P_LEFT_OVARY_TTTCATGGTTACCTGA GSE180661 \n",
       "GSE180661_HGSOC_SPECTRUM-OV-045_S1_CD45P_LEFT_OVARY_TTTCGATGTGACGTCC GSE180661 \n",
       "GSE180661_HGSOC_SPECTRUM-OV-045_S1_CD45P_LEFT_OVARY_TTTCGATTCTGCGAGC GSE180661 \n",
       "GSE180661_HGSOC_SPECTRUM-OV-045_S1_CD45P_LEFT_OVARY_TTTGATCGTTGCTCCT GSE180661 \n",
       "GSE180661_HGSOC_SPECTRUM-OV-045_S1_CD45P_LEFT_OVARY_TTTGGAGGTACGACAG GSE180661 \n",
       "GSE180661_HGSOC_SPECTRUM-OV-045_S1_CD45P_LEFT_OVARY_TTTGGTTGTGTACAGG GSE180661 "
      ]
     },
     "metadata": {},
     "output_type": "display_data"
    }
   ],
   "source": [
    "head(Data_i@meta.data)\n",
    "tail(Data_i@meta.data)"
   ]
  },
  {
   "cell_type": "code",
   "execution_count": 31,
   "metadata": {
    "vscode": {
     "languageId": "r"
    }
   },
   "outputs": [
    {
     "data": {
      "text/plain": [
       "\n",
       "   GSE112271    GSE131907    GSE139324    GSE154778    GSE154826    GSE156405 \n",
       "        7452        36524         8753         1038        80224         3472 \n",
       "   GSE161529    GSE162025    GSE162498    GSE164690    GSE167297    GSE173468 \n",
       "       21522         2069        28781         9526         2329         4032 \n",
       "   GSE176078    GSE180661    GSE183916    GSE184880    GSE188737    GSE189903 \n",
       "        9160       200093         1845         7745         4668        18519 \n",
       "   GSE195861    GSE197177    GSE199515    GSE200218    GSE213243    GSE214295 \n",
       "       14925         9625          435        10371         3492         2710 \n",
       "   GSE215120    GSE217517    GSE223063    GSE224090    GSE225600    GSE231535 \n",
       "        1150         8420         6298         8983         1888         1832 \n",
       "   GSE234129    GSE234933    GSE235676 PMID32561858  PRJCA005422  PRJNA907381 \n",
       "         980        42537        23362         7119        29306         2723 "
      ]
     },
     "metadata": {},
     "output_type": "display_data"
    }
   ],
   "source": [
    "table(Data_i@meta.data$dataset_id)"
   ]
  },
  {
   "cell_type": "code",
   "execution_count": 32,
   "metadata": {
    "vscode": {
     "languageId": "r"
    }
   },
   "outputs": [
    {
     "data": {
      "text/plain": [
       "               \n",
       "                ascites healthy local recurrence metastatic tumour\n",
       "  ascites fluid   39292       0                0                 0\n",
       "  bladder             0       0                0              1257\n",
       "  bowel               0       0                0             17940\n",
       "  brain               0       0                0             15776\n",
       "  breast              0    1034                0                 0\n",
       "  colon               0    1056                0                 0\n",
       "  head and neck       0       0             7694                 0\n",
       "  liver               0    4300                0             14151\n",
       "  lung                0   64803                0             10312\n",
       "  lymph node          0    1187                0             11357\n",
       "  nasopharynx         0       0                0                 0\n",
       "  omentum             0       0                0             43441\n",
       "  ovary               0    1403                0               344\n",
       "  pancreas            0       0                0                 0\n",
       "  peritoneum          0       0                0             23299\n",
       "  pleura              0       0                0               163\n",
       "  skin                0       0                0               138\n",
       "  stomach             0       0                0                 0\n",
       "  upper abdomen       0       0                0             14901\n",
       "  vagina              0       0                0               172\n",
       "               \n",
       "                primary tumour\n",
       "  ascites fluid              0\n",
       "  bladder                    0\n",
       "  bowel                      0\n",
       "  brain                  38643\n",
       "  breast                 47321\n",
       "  colon                   3463\n",
       "  head and neck          46786\n",
       "  liver                  21671\n",
       "  lung                   70368\n",
       "  lymph node                 0\n",
       "  nasopharynx             2069\n",
       "  omentum                    0\n",
       "  ovary                 105572\n",
       "  pancreas               10205\n",
       "  peritoneum                 0\n",
       "  pleura                     0\n",
       "  skin                     988\n",
       "  stomach                 2802\n",
       "  upper abdomen              0\n",
       "  vagina                     0"
      ]
     },
     "metadata": {},
     "output_type": "display_data"
    },
    {
     "data": {
      "text/plain": [
       "                    \n",
       "                     ascites healthy local recurrence metastatic tumour\n",
       "  Acral Melanoma           0       0                0                 0\n",
       "  BRCA1 TNBC               0       0                0                 0\n",
       "  Breast Cancer            0       0                0                 0\n",
       "  Breast DCIS              0       0                0                 0\n",
       "  Breast IDC               0       0                0              1814\n",
       "  CRC                      0       0                0              1379\n",
       "  ER Breast Cancer         0       0                0               827\n",
       "  GAC                      0       0                0               507\n",
       "  GBM                      0       0                0                 0\n",
       "  HCC                      0       0                0                 0\n",
       "  HER2 Breast Cancer       0       0                0                 0\n",
       "  HGSOC                39292       0                0            102789\n",
       "  HNSCC                    0       0             7694             15036\n",
       "  Melanoma                 0       0                0             12069\n",
       "  NA                       0   73783                0                 0\n",
       "  NPC                      0       0                0                 0\n",
       "  NSCLC                    0       0                0             10358\n",
       "  PDAC                     0       0                0              8472\n",
       "  TNBC                     0       0                0                 0\n",
       "  iCCA                     0       0                0                 0\n",
       "                    \n",
       "                     primary tumour\n",
       "  Acral Melanoma                755\n",
       "  BRCA1 TNBC                   4838\n",
       "  Breast Cancer                3066\n",
       "  Breast DCIS                 12374\n",
       "  Breast IDC                   2467\n",
       "  CRC                          3463\n",
       "  ER Breast Cancer            10755\n",
       "  GAC                          2802\n",
       "  GBM                         38643\n",
       "  HCC                         17349\n",
       "  HER2 Breast Cancer           5357\n",
       "  HGSOC                      105572\n",
       "  HNSCC                       46786\n",
       "  Melanoma                      233\n",
       "  NA                              0\n",
       "  NPC                          2069\n",
       "  NSCLC                       70368\n",
       "  PDAC                        10205\n",
       "  TNBC                         8464\n",
       "  iCCA                         4322"
      ]
     },
     "metadata": {},
     "output_type": "display_data"
    }
   ],
   "source": [
    "table(Data_i@meta.data$site, Data_i@meta.data$sample_type_major)\n",
    "table(Data_i@meta.data$cancer_subtype, Data_i@meta.data$sample_type_major)"
   ]
  },
  {
   "cell_type": "code",
   "execution_count": 12,
   "metadata": {
    "vscode": {
     "languageId": "r"
    }
   },
   "outputs": [],
   "source": [
    "#normalise the data\n",
    "Data_i <- NormalizeData(Data_i)"
   ]
  },
  {
   "cell_type": "code",
   "execution_count": 13,
   "metadata": {
    "vscode": {
     "languageId": "r"
    }
   },
   "outputs": [
    {
     "ename": "",
     "evalue": "",
     "output_type": "error",
     "traceback": [
      "\u001b[1;31mThe Kernel crashed while executing code in the current cell or a previous cell. \n",
      "\u001b[1;31mPlease review the code in the cell(s) to identify a possible cause of the failure. \n",
      "\u001b[1;31mClick <a href='https://aka.ms/vscodeJupyterKernelCrash'>here</a> for more info. \n",
      "\u001b[1;31mView Jupyter <a href='command:jupyter.viewOutput'>log</a> for further details."
     ]
    },
    {
     "ename": "",
     "evalue": "",
     "output_type": "error",
     "traceback": [
      "\u001b[1;31mCanceled future for execute_request message before replies were done"
     ]
    },
    {
     "ename": "",
     "evalue": "",
     "output_type": "error",
     "traceback": [
      "\u001b[1;31mCanceled future for execute_request message before replies were done. \n",
      "\u001b[1;31mView Jupyter <a href='command:jupyter.viewOutput'>log</a> for further details."
     ]
    }
   ],
   "source": [
    "#Find variable features\n",
    "Data_i <- FindVariableFeatures(Data_i)"
   ]
  },
  {
   "cell_type": "code",
   "execution_count": null,
   "metadata": {
    "vscode": {
     "languageId": "r"
    }
   },
   "outputs": [],
   "source": [
    "#Scale the data\n",
    "Data_i <- ScaleData(Data_i)"
   ]
  },
  {
   "cell_type": "code",
   "execution_count": null,
   "metadata": {
    "vscode": {
     "languageId": "r"
    }
   },
   "outputs": [],
   "source": [
    "#Run pca\n",
    "Data_i <- RunPCA(Data_i)"
   ]
  },
  {
   "cell_type": "code",
   "execution_count": null,
   "metadata": {
    "vscode": {
     "languageId": "r"
    }
   },
   "outputs": [],
   "source": [
    "#Find neighbours\n",
    "Data_i <- FindNeighnors(Data_i, dims = 1:40, reduction = \"pca\")"
   ]
  },
  {
   "cell_type": "code",
   "execution_count": null,
   "metadata": {
    "vscode": {
     "languageId": "r"
    }
   },
   "outputs": [],
   "source": [
    "#Run UMAP\n",
    "Data_i <- RunUMAP(Data_i, dims = 1:40, reduction = \"pca\", reduction.name = \"umap.unintegrated\", verbose = FALSE)\n",
    "     "
   ]
  },
  {
   "cell_type": "code",
   "execution_count": null,
   "metadata": {
    "vscode": {
     "languageId": "r"
    }
   },
   "outputs": [],
   "source": [
    "options(repr.plot.height=15, repr.plot.width=20)\n",
    "DimPlot(Data, reduction = \"umap.unintegrated\", group.by = c(\"cancer_subtype\", \"sample_type_major\", \"integation_id\", \"\"))\n"
   ]
  },
  {
   "cell_type": "markdown",
   "metadata": {},
   "source": [
    "Not sure whether integration requires all samples to be in seperate layer, try with or without and see"
   ]
  }
 ],
 "metadata": {
  "kernelspec": {
   "display_name": "R",
   "language": "R",
   "name": "ir"
  },
  "language_info": {
   "codemirror_mode": "r",
   "file_extension": ".r",
   "mimetype": "text/x-r-source",
   "name": "R",
   "pygments_lexer": "r",
   "version": "4.3.3"
  }
 },
 "nbformat": 4,
 "nbformat_minor": 2
}
