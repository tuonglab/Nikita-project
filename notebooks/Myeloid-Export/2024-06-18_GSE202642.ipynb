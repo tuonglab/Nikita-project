{
 "cells": [
  {
   "cell_type": "markdown",
   "metadata": {},
   "source": [
    "##### Steps for reading in dataset (following download), initial QC, dim reduction/clustering and saving out the myeloid cluster for **GSE202642**\n",
    "\n",
    "file previously downloaded:\n",
    "* GSE202642_barcodes.tsv.gz\n",
    "* GSE202642_features.tsv.gz\n",
    "* GSE202642_matrix.mtx.gz\n",
    "\n",
    "Renamed to correct standard\n",
    "\n",
    "Dataset is meant to contain data from 7 HBV-related HCC (hepatocellular carcinoma) and 4 adjacent liver samples. No metadata file though so not sure how I will distiguish patients. "
   ]
  },
  {
   "cell_type": "code",
   "execution_count": 1,
   "metadata": {
    "vscode": {
     "languageId": "r"
    }
   },
   "outputs": [
    {
     "data": {
      "text/html": [
       "'/scratch/user/s4436039/Nikita-project'"
      ],
      "text/latex": [
       "'/scratch/user/s4436039/Nikita-project'"
      ],
      "text/markdown": [
       "'/scratch/user/s4436039/Nikita-project'"
      ],
      "text/plain": [
       "[1] \"/scratch/user/s4436039/Nikita-project\""
      ]
     },
     "metadata": {},
     "output_type": "display_data"
    },
    {
     "data": {
      "text/html": [
       "'/scratch/user/s4436039/scdata/GSE202642'"
      ],
      "text/latex": [
       "'/scratch/user/s4436039/scdata/GSE202642'"
      ],
      "text/markdown": [
       "'/scratch/user/s4436039/scdata/GSE202642'"
      ],
      "text/plain": [
       "[1] \"/scratch/user/s4436039/scdata/GSE202642\""
      ]
     },
     "metadata": {},
     "output_type": "display_data"
    }
   ],
   "source": [
    "#set wd\n",
    "getwd()\n",
    "setwd('/scratch/user/s4436039/scdata/GSE202642')\n",
    "getwd()"
   ]
  },
  {
   "cell_type": "code",
   "execution_count": 2,
   "metadata": {
    "vscode": {
     "languageId": "r"
    }
   },
   "outputs": [
    {
     "name": "stderr",
     "output_type": "stream",
     "text": [
      "\n",
      "Attaching package: ‘dplyr’\n",
      "\n",
      "\n",
      "The following objects are masked from ‘package:stats’:\n",
      "\n",
      "    filter, lag\n",
      "\n",
      "\n",
      "The following objects are masked from ‘package:base’:\n",
      "\n",
      "    intersect, setdiff, setequal, union\n",
      "\n",
      "\n",
      "Loading required package: SeuratObject\n",
      "\n",
      "Loading required package: sp\n",
      "\n",
      "\n",
      "Attaching package: ‘SeuratObject’\n",
      "\n",
      "\n",
      "The following object is masked from ‘package:base’:\n",
      "\n",
      "    intersect\n",
      "\n",
      "\n"
     ]
    }
   ],
   "source": [
    "#Load packages\n",
    "library(dplyr)\n",
    "library(Seurat)\n",
    "library(patchwork)"
   ]
  },
  {
   "cell_type": "code",
   "execution_count": 3,
   "metadata": {
    "vscode": {
     "languageId": "r"
    }
   },
   "outputs": [],
   "source": [
    "#load all datasets\n",
    "HCC.data <- Read10X(data.dir = \"/scratch/user/s4436039/scdata/GSE202642/GSE202642_GEO\") "
   ]
  },
  {
   "cell_type": "code",
   "execution_count": 4,
   "metadata": {
    "vscode": {
     "languageId": "r"
    }
   },
   "outputs": [
    {
     "data": {
      "text/html": [
       "<style>\n",
       ".list-inline {list-style: none; margin:0; padding: 0}\n",
       ".list-inline>li {display: inline-block}\n",
       ".list-inline>li:not(:last-child)::after {content: \"\\00b7\"; padding: 0 .5ex}\n",
       "</style>\n",
       "<ol class=list-inline><li>'AAACCCAAGAACTCCT-1'</li><li>'AAACCCAAGGAGAGTA-1'</li><li>'AAACCCAAGGGCAATC-1'</li><li>'AAACCCAAGTGAATAC-1'</li><li>'AAACCCACAACTCGTA-1'</li><li>'AAACCCACAGATTAAG-1'</li></ol>\n"
      ],
      "text/latex": [
       "\\begin{enumerate*}\n",
       "\\item 'AAACCCAAGAACTCCT-1'\n",
       "\\item 'AAACCCAAGGAGAGTA-1'\n",
       "\\item 'AAACCCAAGGGCAATC-1'\n",
       "\\item 'AAACCCAAGTGAATAC-1'\n",
       "\\item 'AAACCCACAACTCGTA-1'\n",
       "\\item 'AAACCCACAGATTAAG-1'\n",
       "\\end{enumerate*}\n"
      ],
      "text/markdown": [
       "1. 'AAACCCAAGAACTCCT-1'\n",
       "2. 'AAACCCAAGGAGAGTA-1'\n",
       "3. 'AAACCCAAGGGCAATC-1'\n",
       "4. 'AAACCCAAGTGAATAC-1'\n",
       "5. 'AAACCCACAACTCGTA-1'\n",
       "6. 'AAACCCACAGATTAAG-1'\n",
       "\n",
       "\n"
      ],
      "text/plain": [
       "[1] \"AAACCCAAGAACTCCT-1\" \"AAACCCAAGGAGAGTA-1\" \"AAACCCAAGGGCAATC-1\"\n",
       "[4] \"AAACCCAAGTGAATAC-1\" \"AAACCCACAACTCGTA-1\" \"AAACCCACAGATTAAG-1\""
      ]
     },
     "metadata": {},
     "output_type": "display_data"
    }
   ],
   "source": [
    "head(colnames(HCC.data))"
   ]
  },
  {
   "cell_type": "code",
   "execution_count": 5,
   "metadata": {
    "vscode": {
     "languageId": "r"
    }
   },
   "outputs": [],
   "source": [
    "#create seperate seurat object for each sample\n",
    "HCC <- CreateSeuratObject(counts = HCC.data, project = \"GSE202642\", min.features = 200)"
   ]
  },
  {
   "cell_type": "code",
   "execution_count": 6,
   "metadata": {
    "vscode": {
     "languageId": "r"
    }
   },
   "outputs": [
    {
     "data": {
      "text/html": [
       "<table class=\"dataframe\">\n",
       "<caption>A data.frame: 6 × 3</caption>\n",
       "<thead>\n",
       "\t<tr><th></th><th scope=col>orig.ident</th><th scope=col>nCount_RNA</th><th scope=col>nFeature_RNA</th></tr>\n",
       "\t<tr><th></th><th scope=col>&lt;fct&gt;</th><th scope=col>&lt;dbl&gt;</th><th scope=col>&lt;int&gt;</th></tr>\n",
       "</thead>\n",
       "<tbody>\n",
       "\t<tr><th scope=row>AAACCCAAGAACTCCT-1</th><td>GSE202642</td><td>3128</td><td>1052</td></tr>\n",
       "\t<tr><th scope=row>AAACCCAAGGAGAGTA-1</th><td>GSE202642</td><td>2468</td><td> 984</td></tr>\n",
       "\t<tr><th scope=row>AAACCCAAGGGCAATC-1</th><td>GSE202642</td><td> 485</td><td> 350</td></tr>\n",
       "\t<tr><th scope=row>AAACCCAAGTGAATAC-1</th><td>GSE202642</td><td>6375</td><td>1598</td></tr>\n",
       "\t<tr><th scope=row>AAACCCACAACTCGTA-1</th><td>GSE202642</td><td>8061</td><td>1690</td></tr>\n",
       "\t<tr><th scope=row>AAACCCACAGATTAAG-1</th><td>GSE202642</td><td>5199</td><td>1187</td></tr>\n",
       "</tbody>\n",
       "</table>\n"
      ],
      "text/latex": [
       "A data.frame: 6 × 3\n",
       "\\begin{tabular}{r|lll}\n",
       "  & orig.ident & nCount\\_RNA & nFeature\\_RNA\\\\\n",
       "  & <fct> & <dbl> & <int>\\\\\n",
       "\\hline\n",
       "\tAAACCCAAGAACTCCT-1 & GSE202642 & 3128 & 1052\\\\\n",
       "\tAAACCCAAGGAGAGTA-1 & GSE202642 & 2468 &  984\\\\\n",
       "\tAAACCCAAGGGCAATC-1 & GSE202642 &  485 &  350\\\\\n",
       "\tAAACCCAAGTGAATAC-1 & GSE202642 & 6375 & 1598\\\\\n",
       "\tAAACCCACAACTCGTA-1 & GSE202642 & 8061 & 1690\\\\\n",
       "\tAAACCCACAGATTAAG-1 & GSE202642 & 5199 & 1187\\\\\n",
       "\\end{tabular}\n"
      ],
      "text/markdown": [
       "\n",
       "A data.frame: 6 × 3\n",
       "\n",
       "| <!--/--> | orig.ident &lt;fct&gt; | nCount_RNA &lt;dbl&gt; | nFeature_RNA &lt;int&gt; |\n",
       "|---|---|---|---|\n",
       "| AAACCCAAGAACTCCT-1 | GSE202642 | 3128 | 1052 |\n",
       "| AAACCCAAGGAGAGTA-1 | GSE202642 | 2468 |  984 |\n",
       "| AAACCCAAGGGCAATC-1 | GSE202642 |  485 |  350 |\n",
       "| AAACCCAAGTGAATAC-1 | GSE202642 | 6375 | 1598 |\n",
       "| AAACCCACAACTCGTA-1 | GSE202642 | 8061 | 1690 |\n",
       "| AAACCCACAGATTAAG-1 | GSE202642 | 5199 | 1187 |\n",
       "\n"
      ],
      "text/plain": [
       "                   orig.ident nCount_RNA nFeature_RNA\n",
       "AAACCCAAGAACTCCT-1 GSE202642  3128       1052        \n",
       "AAACCCAAGGAGAGTA-1 GSE202642  2468        984        \n",
       "AAACCCAAGGGCAATC-1 GSE202642   485        350        \n",
       "AAACCCAAGTGAATAC-1 GSE202642  6375       1598        \n",
       "AAACCCACAACTCGTA-1 GSE202642  8061       1690        \n",
       "AAACCCACAGATTAAG-1 GSE202642  5199       1187        "
      ]
     },
     "metadata": {},
     "output_type": "display_data"
    }
   ],
   "source": [
    "head(HCC@meta.data)"
   ]
  },
  {
   "cell_type": "markdown",
   "metadata": {},
   "source": [
    "#### No metadata stored in cell barcodes and can't find online. Will have to exclude this dataset"
   ]
  }
 ],
 "metadata": {
  "kernelspec": {
   "display_name": "R",
   "language": "R",
   "name": "ir"
  },
  "language_info": {
   "codemirror_mode": "r",
   "file_extension": ".r",
   "mimetype": "text/x-r-source",
   "name": "R",
   "pygments_lexer": "r",
   "version": "4.3.3"
  }
 },
 "nbformat": 4,
 "nbformat_minor": 2
}
