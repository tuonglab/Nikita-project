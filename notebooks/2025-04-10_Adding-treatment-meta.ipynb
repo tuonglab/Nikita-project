{
 "cells": [
  {
   "cell_type": "markdown",
   "id": "f6aea9d2",
   "metadata": {},
   "source": [
    "# Adding treatment metadata to atlas"
   ]
  },
  {
   "cell_type": "markdown",
   "id": "b4e76355",
   "metadata": {},
   "source": [
    "### First I want to export a spreadsheet that has each sample as a row with dataset id etc as columns, I can then add treatment details to this in excel"
   ]
  },
  {
   "cell_type": "code",
   "execution_count": 1,
   "id": "58c6f85c",
   "metadata": {},
   "outputs": [],
   "source": [
    "#load packages I need\n",
    "import os\n",
    "import tools\n",
    "import scanpy as sc\n",
    "import pandas as pd"
   ]
  },
  {
   "cell_type": "code",
   "execution_count": 2,
   "id": "cdfe1176",
   "metadata": {},
   "outputs": [
    {
     "data": {
      "text/plain": [
       "'/scratch/user/s4436039/scdata/Python_Integration_Sep'"
      ]
     },
     "execution_count": 2,
     "metadata": {},
     "output_type": "execute_result"
    }
   ],
   "source": [
    "#show current directory \n",
    "os.getcwd()\n",
    "os.chdir('/scratch/user/s4436039/scdata/Python_Integration_Sep')\n",
    "os.getcwd()"
   ]
  },
  {
   "cell_type": "code",
   "execution_count": 3,
   "id": "850f56d6",
   "metadata": {},
   "outputs": [],
   "source": [
    "# read in data\n",
    "data = sc.read_h5ad('NRclean_clustered2.h5ad')"
   ]
  },
  {
   "cell_type": "code",
   "execution_count": 4,
   "id": "b1802009",
   "metadata": {},
   "outputs": [
    {
     "data": {
      "text/plain": [
       "AnnData object with n_obs × n_vars = 498023 × 1268\n",
       "    obs: 'nCount_RNA', 'nFeature_RNA', 'sample_type', 'cancer_type', 'patient_id', 'sample_id', 'percent.mt', 'site', 'sample_type_major', 'cancer_subtype', 'integration_id', 'ident', 'dataset_id', 'n_genes_by_counts', 'log1p_n_genes_by_counts', 'total_counts', 'log1p_total_counts', 'pct_counts_in_top_50_genes', 'pct_counts_in_top_100_genes', 'pct_counts_in_top_200_genes', 'pct_counts_in_top_500_genes', 'total_counts_mt', 'log1p_total_counts_mt', 'pct_counts_mt', 'S_score', 'G2M_score', 'keep_or_remove', 'leiden', 'celltype', 'leiden_DC', 'leiden_DC_v2', 'exclude_annots', 'leiden_M', 'Technology', 'cancer_type_broad', 'clean-leiden_0.8', 'clean-subcluster', 'clean-subcluster-v2', 'YS_sig', 'HSC_sig', 'CD5nDC2_up_vDC3', 'DC3_up_vCD5nDC2', 'CD5pDC2_up_vDC3', 'DC3_up_vCD5pDC2', 'DC3_up_vMono', 'Mono_up_vDC3', 'DC1_sig', 'DC2_sig', 'DC3_sig', 'DC_Axl_sig', 'DC2_up_DC3', 'DC3_up_DC2', 'mregDC_sig', 'cDC1_mregDC', 'cDC2_mregDC', 'NR_annotations', 'NR_annotations_simple', 'sample_type_major2', 'cancer_with_H', 'cancer_broadest', 'CytoTRACE_DC_Predicted_order', 'AHR(+)', 'ATF3(+)', 'BACH2(+)', 'BATF(+)', 'BHLHE40(+)', 'BHLHE41(+)', 'CREM(+)', 'DDIT3(+)', 'ELF3(+)', 'ETS1(+)', 'FOSL2(+)', 'GATA3(+)', 'HIF1A(+)', 'IKZF2(+)', 'IRF1(+)', 'IRF4(+)', 'IRF8(+)', 'JUN(+)', 'KLF12(+)', 'KLF4(+)', 'MAF(+)', 'MAFF(+)', 'NFE2(+)', 'NFKB1(+)', 'NFKB2(+)', 'NR1H3(+)', 'PRDM1(+)', 'REL(+)', 'SOX4(+)', 'TCF7L2(+)'\n",
       "    var: 'name', 'mt', 'n_cells_by_counts', 'mean_counts', 'log1p_mean_counts', 'pct_dropout_by_counts', 'total_counts', 'log1p_total_counts', 'highly_variable', 'means', 'dispersions', 'dispersions_norm', 'mean', 'std'\n",
       "    uns: 'NR_annotations_colors', 'NR_annotations_simple_colors', 'cancer_type_broad_colors', 'clean-leiden_0.8', 'clean-leiden_0.8_colors', 'clean-subcluster', 'clean-subcluster-v2', 'clean-subcluster-v2_colors', 'clean-subcluster_colors', 'dendrogram_NR_annotations_simple', 'hvg', 'log1p', 'neighbors', 'pca', 'rank_genes_groups', 'sample_type_major2_colors', 'site_colors', 'umap'\n",
       "    obsm: 'X_pca', 'X_pca_harmony', 'X_umap'\n",
       "    varm: 'PCs'\n",
       "    obsp: 'connectivities', 'distances'"
      ]
     },
     "execution_count": 4,
     "metadata": {},
     "output_type": "execute_result"
    }
   ],
   "source": [
    "data"
   ]
  },
  {
   "cell_type": "code",
   "execution_count": 5,
   "id": "e2a0ac4f",
   "metadata": {},
   "outputs": [],
   "source": [
    "# Extract relevant columns\n",
    "export_data = data.obs[['integration_id', 'dataset_id', 'sample_type_major', 'site', 'cancer_broadest', 'cancer_subtype', 'cancer_type_broad','patient_id', 'sample_id']]\n",
    "\n",
    "# Drop duplicates to ensure one row per sample (integration_id)\n",
    "export_data_unique = export_data.drop_duplicates(subset=['integration_id'])\n",
    "\n",
    "# Save to CSV\n",
    "export_data_unique.to_csv('20250410_exported_sample_metadata.csv', index=False)"
   ]
  },
  {
   "cell_type": "code",
   "execution_count": null,
   "metadata": {},
   "outputs": [],
   "source": [
    "/scratch/user/s4436039/scdata/Python_Integration_Sep/NRclean_clustered2.h5ad"
   ]
  },
  {
   "cell_type": "markdown",
   "id": "d5215b76",
   "metadata": {},
   "source": []
  }
 ],
 "metadata": {
  "kernelspec": {
   "display_name": "Python 3 (ipykernel)",
   "language": "python",
   "name": "python3"
  }
 },
 "nbformat": 4,
 "nbformat_minor": 5
}
