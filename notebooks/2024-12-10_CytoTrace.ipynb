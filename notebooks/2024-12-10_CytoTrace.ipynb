{
 "cells": [
  {
   "cell_type": "markdown",
   "metadata": {},
   "source": [
    "# CytoTRACE\n",
    "* using cytotrace2 to map the trajectory between cDC1,cDC2 and mregDC\n",
    "* see info here: https://github.com/digitalcytometry/cytotrace2/tree/main/cytotrace2_python"
   ]
  },
  {
   "cell_type": "markdown",
   "metadata": {},
   "source": [
    "## Prepare data for cytotrace\n",
    "* create two txt files: \n",
    "* gene expression file --> rows: genes, columns: cell IDs\n",
    "* cell annotations file --> Column 1: cell IDs, column 2: cell annotations "
   ]
  },
  {
   "cell_type": "code",
   "execution_count": 1,
   "metadata": {},
   "outputs": [],
   "source": [
    "#load packages I need\n",
    "import os\n",
    "import scanpy as sc\n",
    "import pandas as pd\n",
    "import seaborn as sns\n",
    "import dandelion as ddl\n",
    "import matplotlib.pyplot as plt"
   ]
  },
  {
   "cell_type": "code",
   "execution_count": 3,
   "metadata": {},
   "outputs": [
    {
     "data": {
      "text/plain": [
       "'/scratch/user/s4436039/scdata/Python_Integration_Sep'"
      ]
     },
     "execution_count": 3,
     "metadata": {},
     "output_type": "execute_result"
    }
   ],
   "source": [
    "#show current directory \n",
    "os.getcwd()\n",
    "os.chdir('/scratch/user/s4436039/scdata/Python_Integration_Sep')\n",
    "os.getcwd()"
   ]
  },
  {
   "cell_type": "code",
   "execution_count": 4,
   "metadata": {},
   "outputs": [],
   "source": [
    "# read in data\n",
    "data = sc.read_h5ad('NRclean_clustered2.h5ad')"
   ]
  },
  {
   "cell_type": "code",
   "execution_count": 5,
   "metadata": {},
   "outputs": [],
   "source": [
    "# only using DC\n",
    "data_DC = data[data.obs[\"NR_annotations_simple\"].isin([\"cDC1\",\"cDC2\",\"mregDC\"])]"
   ]
  },
  {
   "cell_type": "code",
   "execution_count": 6,
   "metadata": {},
   "outputs": [
    {
     "data": {
      "text/html": [
       "<div>\n",
       "<style scoped>\n",
       "    .dataframe tbody tr th:only-of-type {\n",
       "        vertical-align: middle;\n",
       "    }\n",
       "\n",
       "    .dataframe tbody tr th {\n",
       "        vertical-align: top;\n",
       "    }\n",
       "\n",
       "    .dataframe thead th {\n",
       "        text-align: right;\n",
       "    }\n",
       "</style>\n",
       "<table border=\"1\" class=\"dataframe\">\n",
       "  <thead>\n",
       "    <tr style=\"text-align: right;\">\n",
       "      <th></th>\n",
       "      <th>GSE215120_AM1_AAATGCCCAGAGCCAA-1</th>\n",
       "      <th>GSE215120_AM1_ACACTGATCCACTGGG-1</th>\n",
       "      <th>GSE215120_AM1_ACAGCCGCAAACCTAC-1</th>\n",
       "      <th>GSE215120_AM1_ACCAGTAAGACTGGGT-1</th>\n",
       "      <th>GSE215120_AM1_ACGTCAACAAGGACTG-1</th>\n",
       "      <th>GSE215120_AM1_ACGTCAATCCGCATCT-1</th>\n",
       "      <th>GSE215120_AM1_ACTGAGTCAGGCTGAA-1</th>\n",
       "      <th>GSE215120_AM1_ACTGTCCGTCTCTTAT-1</th>\n",
       "      <th>GSE215120_AM1_ACTTGTTTCTGAAAGA-1</th>\n",
       "      <th>GSE215120_AM1_AGAGCTTGTACAGTTC-1</th>\n",
       "      <th>...</th>\n",
       "      <th>GSE180661_HGSOC_SPECTRUM-OV-045_S1_CD45P_LEFT_OVARY_CGGGCATTCTTCTGTA</th>\n",
       "      <th>GSE180661_HGSOC_SPECTRUM-OV-045_S1_CD45P_LEFT_OVARY_CTACGGGGTGATCGTT</th>\n",
       "      <th>GSE180661_HGSOC_SPECTRUM-OV-045_S1_CD45P_LEFT_OVARY_CTCATGCTCGTTAGAC</th>\n",
       "      <th>GSE180661_HGSOC_SPECTRUM-OV-045_S1_CD45P_LEFT_OVARY_CTTGATTAGCAGGTCA</th>\n",
       "      <th>GSE180661_HGSOC_SPECTRUM-OV-045_S1_CD45P_LEFT_OVARY_GAGGGATCAAGCGCTC</th>\n",
       "      <th>GSE180661_HGSOC_SPECTRUM-OV-045_S1_CD45P_LEFT_OVARY_GTTTACTCAAGGCCTC</th>\n",
       "      <th>GSE180661_HGSOC_SPECTRUM-OV-045_S1_CD45P_LEFT_OVARY_TACCGAACAAACCGGA</th>\n",
       "      <th>GSE180661_HGSOC_SPECTRUM-OV-045_S1_CD45P_LEFT_OVARY_TCACGCTTCCGTCACT</th>\n",
       "      <th>GSE180661_HGSOC_SPECTRUM-OV-045_S1_CD45P_LEFT_OVARY_TGCAGTAGTGTTGCCG</th>\n",
       "      <th>GSE180661_HGSOC_SPECTRUM-OV-045_S1_CD45P_LEFT_OVARY_TGTGAGTTCGGAAACG</th>\n",
       "    </tr>\n",
       "  </thead>\n",
       "  <tbody>\n",
       "    <tr>\n",
       "      <th>HES4</th>\n",
       "      <td>2.100430</td>\n",
       "      <td>3.452755</td>\n",
       "      <td>4.218359</td>\n",
       "      <td>-0.323357</td>\n",
       "      <td>-0.392818</td>\n",
       "      <td>-0.331008</td>\n",
       "      <td>-0.306740</td>\n",
       "      <td>-0.320882</td>\n",
       "      <td>-0.312021</td>\n",
       "      <td>-0.356277</td>\n",
       "      <td>...</td>\n",
       "      <td>-0.303529</td>\n",
       "      <td>-0.236081</td>\n",
       "      <td>-0.295836</td>\n",
       "      <td>-0.235505</td>\n",
       "      <td>-0.226924</td>\n",
       "      <td>-0.299287</td>\n",
       "      <td>-0.298367</td>\n",
       "      <td>-0.291317</td>\n",
       "      <td>-0.291651</td>\n",
       "      <td>-0.271114</td>\n",
       "    </tr>\n",
       "    <tr>\n",
       "      <th>ISG15</th>\n",
       "      <td>-0.380933</td>\n",
       "      <td>0.944106</td>\n",
       "      <td>1.471873</td>\n",
       "      <td>0.228329</td>\n",
       "      <td>0.613830</td>\n",
       "      <td>0.046307</td>\n",
       "      <td>-0.984695</td>\n",
       "      <td>-0.364538</td>\n",
       "      <td>-0.351820</td>\n",
       "      <td>-0.223009</td>\n",
       "      <td>...</td>\n",
       "      <td>-0.025469</td>\n",
       "      <td>0.931269</td>\n",
       "      <td>-0.226304</td>\n",
       "      <td>-0.576623</td>\n",
       "      <td>0.731378</td>\n",
       "      <td>0.483867</td>\n",
       "      <td>0.876842</td>\n",
       "      <td>-0.908661</td>\n",
       "      <td>-0.895117</td>\n",
       "      <td>-0.780945</td>\n",
       "    </tr>\n",
       "    <tr>\n",
       "      <th>TNFRSF18</th>\n",
       "      <td>2.628043</td>\n",
       "      <td>5.650237</td>\n",
       "      <td>-0.122990</td>\n",
       "      <td>-0.125734</td>\n",
       "      <td>-0.106020</td>\n",
       "      <td>-0.124636</td>\n",
       "      <td>-0.125048</td>\n",
       "      <td>-0.125863</td>\n",
       "      <td>-0.124997</td>\n",
       "      <td>-0.115076</td>\n",
       "      <td>...</td>\n",
       "      <td>-0.124450</td>\n",
       "      <td>-0.113257</td>\n",
       "      <td>-0.120143</td>\n",
       "      <td>-0.113432</td>\n",
       "      <td>-0.112191</td>\n",
       "      <td>-0.120684</td>\n",
       "      <td>-0.131582</td>\n",
       "      <td>-0.126496</td>\n",
       "      <td>-0.121923</td>\n",
       "      <td>-0.123205</td>\n",
       "    </tr>\n",
       "    <tr>\n",
       "      <th>TNFRSF4</th>\n",
       "      <td>5.070108</td>\n",
       "      <td>4.063953</td>\n",
       "      <td>-0.175611</td>\n",
       "      <td>-0.165770</td>\n",
       "      <td>-0.234417</td>\n",
       "      <td>-0.180716</td>\n",
       "      <td>5.608533</td>\n",
       "      <td>-0.174040</td>\n",
       "      <td>-0.168396</td>\n",
       "      <td>-0.207875</td>\n",
       "      <td>...</td>\n",
       "      <td>-0.157069</td>\n",
       "      <td>-0.152530</td>\n",
       "      <td>-0.166347</td>\n",
       "      <td>-0.145882</td>\n",
       "      <td>-0.157567</td>\n",
       "      <td>-0.177489</td>\n",
       "      <td>-0.143188</td>\n",
       "      <td>-0.170851</td>\n",
       "      <td>-0.177479</td>\n",
       "      <td>-0.153878</td>\n",
       "    </tr>\n",
       "    <tr>\n",
       "      <th>ATAD3C</th>\n",
       "      <td>-0.083031</td>\n",
       "      <td>-0.084595</td>\n",
       "      <td>-0.073887</td>\n",
       "      <td>-0.070054</td>\n",
       "      <td>-0.095923</td>\n",
       "      <td>-0.073671</td>\n",
       "      <td>-0.069898</td>\n",
       "      <td>-0.070967</td>\n",
       "      <td>-0.070526</td>\n",
       "      <td>-0.084446</td>\n",
       "      <td>...</td>\n",
       "      <td>-0.066246</td>\n",
       "      <td>-0.063251</td>\n",
       "      <td>-0.070049</td>\n",
       "      <td>-0.062090</td>\n",
       "      <td>-0.064733</td>\n",
       "      <td>-0.071872</td>\n",
       "      <td>-0.061709</td>\n",
       "      <td>-0.067103</td>\n",
       "      <td>-0.069721</td>\n",
       "      <td>-0.063604</td>\n",
       "    </tr>\n",
       "  </tbody>\n",
       "</table>\n",
       "<p>5 rows × 30241 columns</p>\n",
       "</div>"
      ],
      "text/plain": [
       "          GSE215120_AM1_AAATGCCCAGAGCCAA-1  GSE215120_AM1_ACACTGATCCACTGGG-1  \\\n",
       "HES4                              2.100430                          3.452755   \n",
       "ISG15                            -0.380933                          0.944106   \n",
       "TNFRSF18                          2.628043                          5.650237   \n",
       "TNFRSF4                           5.070108                          4.063953   \n",
       "ATAD3C                           -0.083031                         -0.084595   \n",
       "\n",
       "          GSE215120_AM1_ACAGCCGCAAACCTAC-1  GSE215120_AM1_ACCAGTAAGACTGGGT-1  \\\n",
       "HES4                              4.218359                         -0.323357   \n",
       "ISG15                             1.471873                          0.228329   \n",
       "TNFRSF18                         -0.122990                         -0.125734   \n",
       "TNFRSF4                          -0.175611                         -0.165770   \n",
       "ATAD3C                           -0.073887                         -0.070054   \n",
       "\n",
       "          GSE215120_AM1_ACGTCAACAAGGACTG-1  GSE215120_AM1_ACGTCAATCCGCATCT-1  \\\n",
       "HES4                             -0.392818                         -0.331008   \n",
       "ISG15                             0.613830                          0.046307   \n",
       "TNFRSF18                         -0.106020                         -0.124636   \n",
       "TNFRSF4                          -0.234417                         -0.180716   \n",
       "ATAD3C                           -0.095923                         -0.073671   \n",
       "\n",
       "          GSE215120_AM1_ACTGAGTCAGGCTGAA-1  GSE215120_AM1_ACTGTCCGTCTCTTAT-1  \\\n",
       "HES4                             -0.306740                         -0.320882   \n",
       "ISG15                            -0.984695                         -0.364538   \n",
       "TNFRSF18                         -0.125048                         -0.125863   \n",
       "TNFRSF4                           5.608533                         -0.174040   \n",
       "ATAD3C                           -0.069898                         -0.070967   \n",
       "\n",
       "          GSE215120_AM1_ACTTGTTTCTGAAAGA-1  GSE215120_AM1_AGAGCTTGTACAGTTC-1  \\\n",
       "HES4                             -0.312021                         -0.356277   \n",
       "ISG15                            -0.351820                         -0.223009   \n",
       "TNFRSF18                         -0.124997                         -0.115076   \n",
       "TNFRSF4                          -0.168396                         -0.207875   \n",
       "ATAD3C                           -0.070526                         -0.084446   \n",
       "\n",
       "          ...  \\\n",
       "HES4      ...   \n",
       "ISG15     ...   \n",
       "TNFRSF18  ...   \n",
       "TNFRSF4   ...   \n",
       "ATAD3C    ...   \n",
       "\n",
       "          GSE180661_HGSOC_SPECTRUM-OV-045_S1_CD45P_LEFT_OVARY_CGGGCATTCTTCTGTA  \\\n",
       "HES4                                              -0.303529                      \n",
       "ISG15                                             -0.025469                      \n",
       "TNFRSF18                                          -0.124450                      \n",
       "TNFRSF4                                           -0.157069                      \n",
       "ATAD3C                                            -0.066246                      \n",
       "\n",
       "          GSE180661_HGSOC_SPECTRUM-OV-045_S1_CD45P_LEFT_OVARY_CTACGGGGTGATCGTT  \\\n",
       "HES4                                              -0.236081                      \n",
       "ISG15                                              0.931269                      \n",
       "TNFRSF18                                          -0.113257                      \n",
       "TNFRSF4                                           -0.152530                      \n",
       "ATAD3C                                            -0.063251                      \n",
       "\n",
       "          GSE180661_HGSOC_SPECTRUM-OV-045_S1_CD45P_LEFT_OVARY_CTCATGCTCGTTAGAC  \\\n",
       "HES4                                              -0.295836                      \n",
       "ISG15                                             -0.226304                      \n",
       "TNFRSF18                                          -0.120143                      \n",
       "TNFRSF4                                           -0.166347                      \n",
       "ATAD3C                                            -0.070049                      \n",
       "\n",
       "          GSE180661_HGSOC_SPECTRUM-OV-045_S1_CD45P_LEFT_OVARY_CTTGATTAGCAGGTCA  \\\n",
       "HES4                                              -0.235505                      \n",
       "ISG15                                             -0.576623                      \n",
       "TNFRSF18                                          -0.113432                      \n",
       "TNFRSF4                                           -0.145882                      \n",
       "ATAD3C                                            -0.062090                      \n",
       "\n",
       "          GSE180661_HGSOC_SPECTRUM-OV-045_S1_CD45P_LEFT_OVARY_GAGGGATCAAGCGCTC  \\\n",
       "HES4                                              -0.226924                      \n",
       "ISG15                                              0.731378                      \n",
       "TNFRSF18                                          -0.112191                      \n",
       "TNFRSF4                                           -0.157567                      \n",
       "ATAD3C                                            -0.064733                      \n",
       "\n",
       "          GSE180661_HGSOC_SPECTRUM-OV-045_S1_CD45P_LEFT_OVARY_GTTTACTCAAGGCCTC  \\\n",
       "HES4                                              -0.299287                      \n",
       "ISG15                                              0.483867                      \n",
       "TNFRSF18                                          -0.120684                      \n",
       "TNFRSF4                                           -0.177489                      \n",
       "ATAD3C                                            -0.071872                      \n",
       "\n",
       "          GSE180661_HGSOC_SPECTRUM-OV-045_S1_CD45P_LEFT_OVARY_TACCGAACAAACCGGA  \\\n",
       "HES4                                              -0.298367                      \n",
       "ISG15                                              0.876842                      \n",
       "TNFRSF18                                          -0.131582                      \n",
       "TNFRSF4                                           -0.143188                      \n",
       "ATAD3C                                            -0.061709                      \n",
       "\n",
       "          GSE180661_HGSOC_SPECTRUM-OV-045_S1_CD45P_LEFT_OVARY_TCACGCTTCCGTCACT  \\\n",
       "HES4                                              -0.291317                      \n",
       "ISG15                                             -0.908661                      \n",
       "TNFRSF18                                          -0.126496                      \n",
       "TNFRSF4                                           -0.170851                      \n",
       "ATAD3C                                            -0.067103                      \n",
       "\n",
       "          GSE180661_HGSOC_SPECTRUM-OV-045_S1_CD45P_LEFT_OVARY_TGCAGTAGTGTTGCCG  \\\n",
       "HES4                                              -0.291651                      \n",
       "ISG15                                             -0.895117                      \n",
       "TNFRSF18                                          -0.121923                      \n",
       "TNFRSF4                                           -0.177479                      \n",
       "ATAD3C                                            -0.069721                      \n",
       "\n",
       "          GSE180661_HGSOC_SPECTRUM-OV-045_S1_CD45P_LEFT_OVARY_TGTGAGTTCGGAAACG  \n",
       "HES4                                              -0.271114                     \n",
       "ISG15                                             -0.780945                     \n",
       "TNFRSF18                                          -0.123205                     \n",
       "TNFRSF4                                           -0.153878                     \n",
       "ATAD3C                                            -0.063604                     \n",
       "\n",
       "[5 rows x 30241 columns]"
      ]
     },
     "execution_count": 6,
     "metadata": {},
     "output_type": "execute_result"
    }
   ],
   "source": [
    "# Make the expression file\n",
    "expression_df = pd.DataFrame(\n",
    "    data_DC.X.T,  \n",
    "    index=data_DC.var.index,  # Set gene names as row indices\n",
    "    columns=data_DC.obs.index  # Set cell IDs as column names\n",
    ")\n",
    "\n",
    "# Display the DataFrame\n",
    "expression_df.head()"
   ]
  },
  {
   "cell_type": "code",
   "execution_count": 7,
   "metadata": {},
   "outputs": [
    {
     "data": {
      "text/html": [
       "<div>\n",
       "<style scoped>\n",
       "    .dataframe tbody tr th:only-of-type {\n",
       "        vertical-align: middle;\n",
       "    }\n",
       "\n",
       "    .dataframe tbody tr th {\n",
       "        vertical-align: top;\n",
       "    }\n",
       "\n",
       "    .dataframe thead th {\n",
       "        text-align: right;\n",
       "    }\n",
       "</style>\n",
       "<table border=\"1\" class=\"dataframe\">\n",
       "  <thead>\n",
       "    <tr style=\"text-align: right;\">\n",
       "      <th></th>\n",
       "      <th>annotation</th>\n",
       "    </tr>\n",
       "  </thead>\n",
       "  <tbody>\n",
       "    <tr>\n",
       "      <th>GSE215120_AM1_AAATGCCCAGAGCCAA-1</th>\n",
       "      <td>cDC2</td>\n",
       "    </tr>\n",
       "    <tr>\n",
       "      <th>GSE215120_AM1_ACACTGATCCACTGGG-1</th>\n",
       "      <td>cDC2</td>\n",
       "    </tr>\n",
       "    <tr>\n",
       "      <th>GSE215120_AM1_ACAGCCGCAAACCTAC-1</th>\n",
       "      <td>cDC2</td>\n",
       "    </tr>\n",
       "    <tr>\n",
       "      <th>GSE215120_AM1_ACCAGTAAGACTGGGT-1</th>\n",
       "      <td>cDC1</td>\n",
       "    </tr>\n",
       "    <tr>\n",
       "      <th>GSE215120_AM1_ACGTCAACAAGGACTG-1</th>\n",
       "      <td>cDC1</td>\n",
       "    </tr>\n",
       "  </tbody>\n",
       "</table>\n",
       "</div>"
      ],
      "text/plain": [
       "                                 annotation\n",
       "GSE215120_AM1_AAATGCCCAGAGCCAA-1       cDC2\n",
       "GSE215120_AM1_ACACTGATCCACTGGG-1       cDC2\n",
       "GSE215120_AM1_ACAGCCGCAAACCTAC-1       cDC2\n",
       "GSE215120_AM1_ACCAGTAAGACTGGGT-1       cDC1\n",
       "GSE215120_AM1_ACGTCAACAAGGACTG-1       cDC1"
      ]
     },
     "execution_count": 7,
     "metadata": {},
     "output_type": "execute_result"
    }
   ],
   "source": [
    "# Make cell annotations file\n",
    "annotations_df = pd.DataFrame({\n",
    "    \"annotation\": data_DC.obs[\"NR_annotations_simple\"]  # Use the annotation column\n",
    "})\n",
    "\n",
    "# Display the resulting DataFrame\n",
    "annotations_df.head()"
   ]
  },
  {
   "cell_type": "code",
   "execution_count": 8,
   "metadata": {},
   "outputs": [
    {
     "data": {
      "text/plain": [
       "'/scratch/user/s4436039/scdata/CytoTRACE'"
      ]
     },
     "execution_count": 8,
     "metadata": {},
     "output_type": "execute_result"
    }
   ],
   "source": [
    "#show current directory \n",
    "os.chdir('/scratch/user/s4436039/scdata/CytoTRACE')\n",
    "os.getcwd()"
   ]
  },
  {
   "cell_type": "code",
   "execution_count": 9,
   "metadata": {},
   "outputs": [],
   "source": [
    "# Save both dataframes as .txt\n",
    "annotations_df.to_csv(\"annotations_df.txt\", sep=\"\\t\", index=True)\n",
    "expression_df.to_csv(\"expression_df.txt\", sep=\"\\t\", index=True)"
   ]
  },
  {
   "cell_type": "markdown",
   "metadata": {},
   "source": [
    "## Run CytoTRACE"
   ]
  },
  {
   "cell_type": "code",
   "execution_count": 10,
   "metadata": {},
   "outputs": [],
   "source": [
    "from cytotrace2_py.cytotrace2_py import *"
   ]
  },
  {
   "cell_type": "code",
   "execution_count": 15,
   "metadata": {},
   "outputs": [],
   "source": [
    "import argparse"
   ]
  },
  {
   "cell_type": "code",
   "execution_count": 16,
   "metadata": {},
   "outputs": [
    {
     "name": "stdout",
     "output_type": "stream",
     "text": [
      "cytotrace2: Input parameters\n",
      "    Input file: /scratch/user/s4436039/scdata/CytoTRACE/expression_df.txt\n",
      "    Species: human\n",
      "    Full model: False\n",
      "    Parallelization enabled: True\n",
      "    User-provided limit for number of cores to use: None\n",
      "    Batch size: 10000\n",
      "    Smoothing batch size: 1000\n",
      "    Max PCs: 200\n",
      "    Seed: 14\n",
      "    Output directory: cytotrace2_results\n",
      "cytotrace2: Loading dataset\n",
      "cytotrace2: Dataset characteristics\n",
      "    Number of input genes:  1268\n",
      "    Number of input cells:  30241\n",
      "cytotrace2: Preprocessing\n",
      "cytotrace2: 192 cores detected\n",
      "cytotrace2: Running 4 prediction batch(es) in parallel using 10 cores for smoothing per batch.\n",
      "cytotrace2: Initiated processing batch 1/4 with 7561 cells\n",
      "cytotrace2: Initiated processing batch 2/4 with 7560 cells\n",
      "cytotrace2: Initiated processing batch 3/4 with 7560 cells\n",
      "cytotrace2: Initiated processing batch 4/4 with 7560 cells\n",
      "    Mapped 1130 input gene names to mouse orthologs\n",
      "    1130 input genes are present in the model features.\n"
     ]
    },
    {
     "name": "stderr",
     "output_type": "stream",
     "text": [
      "/home/s4436039/miniforge3/envs/env/lib/python3.12/site-packages/cytotrace2_py/common/gen_utils.py:134: UserWarning:     Please verify the input species is correct.\n",
      "    In case of a correct species input, be advised that model performance might be compromised due to gene space differences.\n"
     ]
    },
    {
     "name": "stdout",
     "output_type": "stream",
     "text": [
      "    Mapped 1130 input gene names to mouse orthologs\n",
      "    1130 input genes are present in the model features.\n",
      "    Mapped 1130 input gene names to mouse orthologs    Mapped 1130 input gene names to mouse orthologs\n"
     ]
    },
    {
     "name": "stderr",
     "output_type": "stream",
     "text": [
      "/home/s4436039/miniforge3/envs/env/lib/python3.12/site-packages/cytotrace2_py/common/gen_utils.py:134: UserWarning:     Please verify the input species is correct.\n",
      "    In case of a correct species input, be advised that model performance might be compromised due to gene space differences.\n"
     ]
    },
    {
     "name": "stdout",
     "output_type": "stream",
     "text": [
      "\n",
      "    1130 input genes are present in the model features.\n"
     ]
    },
    {
     "name": "stderr",
     "output_type": "stream",
     "text": [
      "/home/s4436039/miniforge3/envs/env/lib/python3.12/site-packages/cytotrace2_py/common/gen_utils.py:134: UserWarning:     Please verify the input species is correct.\n",
      "    In case of a correct species input, be advised that model performance might be compromised due to gene space differences.\n"
     ]
    },
    {
     "name": "stdout",
     "output_type": "stream",
     "text": [
      "    1130 input genes are present in the model features.\n"
     ]
    },
    {
     "name": "stderr",
     "output_type": "stream",
     "text": [
      "/home/s4436039/miniforge3/envs/env/lib/python3.12/site-packages/cytotrace2_py/common/gen_utils.py:134: UserWarning:     Please verify the input species is correct.\n",
      "    In case of a correct species input, be advised that model performance might be compromised due to gene space differences.\n",
      "/home/s4436039/miniforge3/envs/env/lib/python3.12/site-packages/cytotrace2_py/common/gen_utils.py:162: FutureWarning: You are using `torch.load` with `weights_only=False` (the current default value), which uses the default pickle module implicitly. It is possible to construct malicious pickle data which will execute arbitrary code during unpickling (See https://github.com/pytorch/pytorch/blob/main/SECURITY.md#untrusted-models for more details). In a future release, the default value for `weights_only` will be flipped to `True`. This limits the functions that could be executed during unpickling. Arbitrary objects will no longer be allowed to be loaded via this mode unless they are explicitly allowlisted by the user via `torch.serialization.add_safe_globals`. We recommend you start setting `weights_only=True` for any use case where you don't have full control of the loaded file. Please open an issue on GitHub for any issues related to this experimental feature.\n",
      "/home/s4436039/miniforge3/envs/env/lib/python3.12/site-packages/cytotrace2_py/common/gen_utils.py:162: FutureWarning: You are using `torch.load` with `weights_only=False` (the current default value), which uses the default pickle module implicitly. It is possible to construct malicious pickle data which will execute arbitrary code during unpickling (See https://github.com/pytorch/pytorch/blob/main/SECURITY.md#untrusted-models for more details). In a future release, the default value for `weights_only` will be flipped to `True`. This limits the functions that could be executed during unpickling. Arbitrary objects will no longer be allowed to be loaded via this mode unless they are explicitly allowlisted by the user via `torch.serialization.add_safe_globals`. We recommend you start setting `weights_only=True` for any use case where you don't have full control of the loaded file. Please open an issue on GitHub for any issues related to this experimental feature.\n",
      "/home/s4436039/miniforge3/envs/env/lib/python3.12/site-packages/cytotrace2_py/common/gen_utils.py:162: FutureWarning: You are using `torch.load` with `weights_only=False` (the current default value), which uses the default pickle module implicitly. It is possible to construct malicious pickle data which will execute arbitrary code during unpickling (See https://github.com/pytorch/pytorch/blob/main/SECURITY.md#untrusted-models for more details). In a future release, the default value for `weights_only` will be flipped to `True`. This limits the functions that could be executed during unpickling. Arbitrary objects will no longer be allowed to be loaded via this mode unless they are explicitly allowlisted by the user via `torch.serialization.add_safe_globals`. We recommend you start setting `weights_only=True` for any use case where you don't have full control of the loaded file. Please open an issue on GitHub for any issues related to this experimental feature.\n",
      "/home/s4436039/miniforge3/envs/env/lib/python3.12/site-packages/cytotrace2_py/common/gen_utils.py:162: FutureWarning: You are using `torch.load` with `weights_only=False` (the current default value), which uses the default pickle module implicitly. It is possible to construct malicious pickle data which will execute arbitrary code during unpickling (See https://github.com/pytorch/pytorch/blob/main/SECURITY.md#untrusted-models for more details). In a future release, the default value for `weights_only` will be flipped to `True`. This limits the functions that could be executed during unpickling. Arbitrary objects will no longer be allowed to be loaded via this mode unless they are explicitly allowlisted by the user via `torch.serialization.add_safe_globals`. We recommend you start setting `weights_only=True` for any use case where you don't have full control of the loaded file. Please open an issue on GitHub for any issues related to this experimental feature.\n",
      "Error in library(argparse) : there is no package called ‘argparse’\n",
      "Execution halted\n",
      "Error in library(argparse) : there is no package called ‘argparse’\n",
      "Execution halted\n",
      "Error in library(argparse) : there is no package called ‘argparse’\n",
      "Execution halted\n",
      "Error in library(argparse) : there is no package called ‘argparse’\n",
      "Execution halted\n"
     ]
    },
    {
     "ename": "CalledProcessError",
     "evalue": "Command '['Rscript', '/home/s4436039/miniforge3/envs/env/lib/python3.12/site-packages/cytotrace2_py/resources/smoothDatakNN.R', '--output-dir', 'cytotrace2_results', '--suffix', '_0', '--max-pcs', '200', '--seed', '14']' returned non-zero exit status 1.",
     "output_type": "error",
     "traceback": [
      "\u001b[0;31m---------------------------------------------------------------------------\u001b[0m",
      "\u001b[0;31m_RemoteTraceback\u001b[0m                          Traceback (most recent call last)",
      "\u001b[0;31m_RemoteTraceback\u001b[0m: \n\"\"\"\nTraceback (most recent call last):\n  File \"/home/s4436039/miniforge3/envs/env/lib/python3.12/concurrent/futures/process.py\", line 263, in _process_worker\n    r = call_item.fn(*call_item.args, **call_item.kwargs)\n        ^^^^^^^^^^^^^^^^^^^^^^^^^^^^^^^^^^^^^^^^^^^^^^^^^\n  File \"/home/s4436039/miniforge3/envs/env/lib/python3.12/site-packages/cytotrace2_py/cytotrace2_py.py\", line 52, in process_subset\n    out = subprocess.run(['Rscript', run_script, '--output-dir', output_dir, '--suffix', suffix, '--max-pcs', str(max_pcs), '--seed', str(seed)], check=True)\n          ^^^^^^^^^^^^^^^^^^^^^^^^^^^^^^^^^^^^^^^^^^^^^^^^^^^^^^^^^^^^^^^^^^^^^^^^^^^^^^^^^^^^^^^^^^^^^^^^^^^^^^^^^^^^^^^^^^^^^^^^^^^^^^^^^^^^^^^^^^^^^^^^^^^\n  File \"/home/s4436039/miniforge3/envs/env/lib/python3.12/subprocess.py\", line 571, in run\n    raise CalledProcessError(retcode, process.args,\nsubprocess.CalledProcessError: Command '['Rscript', '/home/s4436039/miniforge3/envs/env/lib/python3.12/site-packages/cytotrace2_py/resources/smoothDatakNN.R', '--output-dir', 'cytotrace2_results', '--suffix', '_0', '--max-pcs', '200', '--seed', '14']' returned non-zero exit status 1.\n\"\"\"",
      "\nThe above exception was the direct cause of the following exception:\n",
      "\u001b[0;31mCalledProcessError\u001b[0m                        Traceback (most recent call last)",
      "Cell \u001b[0;32mIn[16], line 5\u001b[0m\n\u001b[1;32m      2\u001b[0m annots_path \u001b[38;5;241m=\u001b[39m \u001b[38;5;124m\"\u001b[39m\u001b[38;5;124m/scratch/user/s4436039/scdata/CytoTRACE/annotations_df.txt\u001b[39m\u001b[38;5;124m\"\u001b[39m \n\u001b[1;32m      3\u001b[0m species_type \u001b[38;5;241m=\u001b[39m \u001b[38;5;124m\"\u001b[39m\u001b[38;5;124mhuman\u001b[39m\u001b[38;5;124m\"\u001b[39m\n\u001b[0;32m----> 5\u001b[0m results \u001b[38;5;241m=\u001b[39m  \u001b[43mcytotrace2\u001b[49m\u001b[43m(\u001b[49m\u001b[43minput_path\u001b[49m\u001b[43m,\u001b[49m\n\u001b[1;32m      6\u001b[0m \u001b[43m                     \u001b[49m\u001b[43mannotation_path\u001b[49m\u001b[38;5;241;43m=\u001b[39;49m\u001b[43mannots_path\u001b[49m\u001b[43m,\u001b[49m\n\u001b[1;32m      7\u001b[0m \u001b[43m                     \u001b[49m\u001b[43mspecies\u001b[49m\u001b[38;5;241;43m=\u001b[39;49m\u001b[43mspecies_type\u001b[49m\u001b[43m)\u001b[49m\n",
      "File \u001b[0;32m~/miniforge3/envs/env/lib/python3.12/site-packages/cytotrace2_py/cytotrace2_py.py:170\u001b[0m, in \u001b[0;36mcytotrace2\u001b[0;34m(input_path, annotation_path, species, full_model, batch_size, smooth_batch_size, disable_parallelization, max_cores, max_pcs, seed, output_dir)\u001b[0m\n\u001b[1;32m    168\u001b[0m         results\u001b[38;5;241m.\u001b[39mappend(executor\u001b[38;5;241m.\u001b[39msubmit(process_subset, idx, chunked_expression, smooth_batch_size, smooth_cores_to_use, species, use_model_dir, output_dir, max_pcs, seed))\n\u001b[1;32m    169\u001b[0m     \u001b[38;5;28;01mfor\u001b[39;00m f \u001b[38;5;129;01min\u001b[39;00m concurrent\u001b[38;5;241m.\u001b[39mfutures\u001b[38;5;241m.\u001b[39mas_completed(results):\n\u001b[0;32m--> 170\u001b[0m         smooth_by_knn_df \u001b[38;5;241m=\u001b[39m \u001b[43mf\u001b[49m\u001b[38;5;241;43m.\u001b[39;49m\u001b[43mresult\u001b[49m\u001b[43m(\u001b[49m\u001b[43m)\u001b[49m\n\u001b[1;32m    171\u001b[0m         predictions\u001b[38;5;241m.\u001b[39mappend(smooth_by_knn_df)\n\u001b[1;32m    173\u001b[0m \u001b[38;5;28;01mfor\u001b[39;00m idx \u001b[38;5;129;01min\u001b[39;00m \u001b[38;5;28mrange\u001b[39m(chunk_number):\n",
      "File \u001b[0;32m~/miniforge3/envs/env/lib/python3.12/concurrent/futures/_base.py:449\u001b[0m, in \u001b[0;36mFuture.result\u001b[0;34m(self, timeout)\u001b[0m\n\u001b[1;32m    447\u001b[0m     \u001b[38;5;28;01mraise\u001b[39;00m CancelledError()\n\u001b[1;32m    448\u001b[0m \u001b[38;5;28;01melif\u001b[39;00m \u001b[38;5;28mself\u001b[39m\u001b[38;5;241m.\u001b[39m_state \u001b[38;5;241m==\u001b[39m FINISHED:\n\u001b[0;32m--> 449\u001b[0m     \u001b[38;5;28;01mreturn\u001b[39;00m \u001b[38;5;28;43mself\u001b[39;49m\u001b[38;5;241;43m.\u001b[39;49m\u001b[43m__get_result\u001b[49m\u001b[43m(\u001b[49m\u001b[43m)\u001b[49m\n\u001b[1;32m    451\u001b[0m \u001b[38;5;28mself\u001b[39m\u001b[38;5;241m.\u001b[39m_condition\u001b[38;5;241m.\u001b[39mwait(timeout)\n\u001b[1;32m    453\u001b[0m \u001b[38;5;28;01mif\u001b[39;00m \u001b[38;5;28mself\u001b[39m\u001b[38;5;241m.\u001b[39m_state \u001b[38;5;129;01min\u001b[39;00m [CANCELLED, CANCELLED_AND_NOTIFIED]:\n",
      "File \u001b[0;32m~/miniforge3/envs/env/lib/python3.12/concurrent/futures/_base.py:401\u001b[0m, in \u001b[0;36mFuture.__get_result\u001b[0;34m(self)\u001b[0m\n\u001b[1;32m    399\u001b[0m \u001b[38;5;28;01mif\u001b[39;00m \u001b[38;5;28mself\u001b[39m\u001b[38;5;241m.\u001b[39m_exception:\n\u001b[1;32m    400\u001b[0m     \u001b[38;5;28;01mtry\u001b[39;00m:\n\u001b[0;32m--> 401\u001b[0m         \u001b[38;5;28;01mraise\u001b[39;00m \u001b[38;5;28mself\u001b[39m\u001b[38;5;241m.\u001b[39m_exception\n\u001b[1;32m    402\u001b[0m     \u001b[38;5;28;01mfinally\u001b[39;00m:\n\u001b[1;32m    403\u001b[0m         \u001b[38;5;66;03m# Break a reference cycle with the exception in self._exception\u001b[39;00m\n\u001b[1;32m    404\u001b[0m         \u001b[38;5;28mself\u001b[39m \u001b[38;5;241m=\u001b[39m \u001b[38;5;28;01mNone\u001b[39;00m\n",
      "\u001b[0;31mCalledProcessError\u001b[0m: Command '['Rscript', '/home/s4436039/miniforge3/envs/env/lib/python3.12/site-packages/cytotrace2_py/resources/smoothDatakNN.R', '--output-dir', 'cytotrace2_results', '--suffix', '_0', '--max-pcs', '200', '--seed', '14']' returned non-zero exit status 1."
     ]
    }
   ],
   "source": [
    "input_path = \"/scratch/user/s4436039/scdata/CytoTRACE/expression_df.txt\" \n",
    "annots_path = \"/scratch/user/s4436039/scdata/CytoTRACE/annotations_df.txt\" \n",
    "species_type = \"human\"\n",
    "\n",
    "results =  cytotrace2(input_path,\n",
    "                     annotation_path=annots_path,\n",
    "                     species=species_type)"
   ]
  }
 ],
 "metadata": {
  "kernelspec": {
   "display_name": "Python 3 (ipykernel)",
   "language": "python",
   "name": "python3"
  },
  "language_info": {
   "codemirror_mode": {
    "name": "ipython",
    "version": 3
   },
   "file_extension": ".py",
   "mimetype": "text/x-python",
   "name": "python",
   "nbconvert_exporter": "python",
   "pygments_lexer": "ipython3",
   "version": "3.12.3"
  }
 },
 "nbformat": 4,
 "nbformat_minor": 2
}
