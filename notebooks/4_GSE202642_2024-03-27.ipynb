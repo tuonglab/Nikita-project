{
 "cells": [
  {
   "cell_type": "markdown",
   "metadata": {},
   "source": [
    "GSE202642 HPC (7 HPC and 4 adjacent healthy)\n",
    "\n",
    "files on scratch: \n",
    "\n",
    "    GSE202642_barcodes.tsv.gz\n",
    "\n",
    "    GSE202642_features.tsv.gz\n",
    "    \n",
    "    GSE202642_matrix.tsv.gz\n",
    "\n",
    "After unzipping (below) filenames are the same but without .gz"
   ]
  },
  {
   "cell_type": "markdown",
   "metadata": {},
   "source": [
    "``` bash\n",
    "cd /scratch/user/s4436039/scdata/GSE202642\n",
    "ixcpu\n",
    "gunzip GSE202642_barcodes.tsv.gz\n",
    "gunzip GSE202642_features.tsv.gz\n",
    "gunzip GSE202642_matrix.tsv.gz\n",
    "```\n",
    "\n",
    "Then renamed to remove prefix - ie. just barcodes.tsv.gz\n",
    "\n",
    "Errors below in Seurat, does it need it zipped? tried rezipping files with gzip"
   ]
  },
  {
   "cell_type": "code",
   "execution_count": 1,
   "metadata": {
    "vscode": {
     "languageId": "r"
    }
   },
   "outputs": [
    {
     "name": "stderr",
     "output_type": "stream",
     "text": [
      "\n",
      "Attaching package: ‘dplyr’\n",
      "\n",
      "\n",
      "The following objects are masked from ‘package:stats’:\n",
      "\n",
      "    filter, lag\n",
      "\n",
      "\n",
      "The following objects are masked from ‘package:base’:\n",
      "\n",
      "    intersect, setdiff, setequal, union\n",
      "\n",
      "\n",
      "Warning message:\n",
      "“package ‘Seurat’ was built under R version 4.3.2”\n",
      "Loading required package: SeuratObject\n",
      "\n",
      "Loading required package: sp\n",
      "\n",
      "Warning message:\n",
      "“package ‘sp’ was built under R version 4.3.2”\n",
      "‘SeuratObject’ was built with package ‘Matrix’ 1.6.1.1 but the current\n",
      "version is 1.6.4; it is recomended that you reinstall ‘SeuratObject’ as\n",
      "the ABI for ‘Matrix’ may have changed\n",
      "\n",
      "\n",
      "Attaching package: ‘SeuratObject’\n",
      "\n",
      "\n",
      "The following object is masked from ‘package:base’:\n",
      "\n",
      "    intersect\n",
      "\n",
      "\n",
      "Warning message:\n",
      "“package ‘patchwork’ was built under R version 4.3.2”\n"
     ]
    }
   ],
   "source": [
    "#load packages\n",
    "library(dplyr)\n",
    "library(Seurat)\n",
    "library(patchwork)"
   ]
  },
  {
   "cell_type": "code",
   "execution_count": 4,
   "metadata": {
    "vscode": {
     "languageId": "r"
    }
   },
   "outputs": [],
   "source": [
    "#Load the dataset\n",
    "HPC.data <- Read10X(data.dir = \"/scratch/user/s4436039/scdata/GSE202642/GSE202642_GEO\")"
   ]
  },
  {
   "cell_type": "code",
   "execution_count": 5,
   "metadata": {
    "vscode": {
     "languageId": "r"
    }
   },
   "outputs": [
    {
     "ename": "ERROR",
     "evalue": "Error in validObject(.Object): invalid class “LogMap” object: superclass \"mMatrix\" not defined in the environment of the object's class\n",
     "output_type": "error",
     "traceback": [
      "Error in validObject(.Object): invalid class “LogMap” object: superclass \"mMatrix\" not defined in the environment of the object's class\nTraceback:\n",
      "1. CreateSeuratObject(counts = HPC.data, project = \"GSE202642\", \n .     min.cells = 3, min.features = 200)",
      "2. CreateSeuratObject.default(counts = HPC.data, project = \"GSE202642\", \n .     min.cells = 3, min.features = 200)",
      "3. CreateAssay5Object(counts = counts, min.cells = min.cells, min.features = min.features, \n .     ...)",
      "4. .CreateStdAssay(counts = counts, min.cells = min.cells, min.features = min.features, \n .     transpose = transpose, type = type, csum = csum, fsum = fsum, \n .     ...)",
      "5. .CreateStdAssay.list(counts = counts, min.cells = min.cells, \n .     min.features = min.features, transpose = transpose, type = type, \n .     csum = csum, fsum = fsum, ...)",
      "6. new(Class = type, layers = list(), default = 0L, features = LogMap(y = features.all), \n .     cells = LogMap(y = cells.all), meta.data = EmptyDF(n = length(x = features.all)), \n .     misc = list(calcN = calcN_option %||% TRUE), ...)",
      "7. initialize(value, ...)",
      "8. initialize(value, ...)",
      "9. LogMap(y = features.all)",
      "10. new(Class = \"LogMap\", .Data = matrix(nrow = length(x = y), ncol = 0, \n  .     dimnames = list(y, NULL)))",
      "11. initialize(value, ...)",
      "12. initialize(value, ...)",
      "13. initMatrix(.Object, ...)",
      "14. validObject(.Object)",
      "15. stop(msg, \": \", errors, domain = NA)"
     ]
    }
   ],
   "source": [
    "#Initialise the Seurat object\n",
    "HPC <- CreateSeuratObject(counts = HPC.data, project = \"GSE202642\", min.cells = 3, min.features = 200)"
   ]
  }
 ],
 "metadata": {
  "kernelspec": {
   "display_name": "R",
   "language": "R",
   "name": "ir"
  },
  "language_info": {
   "codemirror_mode": "r",
   "file_extension": ".r",
   "mimetype": "text/x-r-source",
   "name": "R",
   "pygments_lexer": "r",
   "version": "4.3.1"
  }
 },
 "nbformat": 4,
 "nbformat_minor": 2
}
