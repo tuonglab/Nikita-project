{
 "cells": [
  {
   "cell_type": "markdown",
   "metadata": {},
   "source": [
    "GSE202642 HPC (7 HPC and 4 adjacent healthy)\n",
    "\n",
    "files on scratch: \n",
    "\n",
    "    GSE202642_barcodes.tsv.gz\n",
    "\n",
    "    GSE202642_features.tsv.gz\n",
    "    \n",
    "    GSE202642_matrix.tsv.gz\n",
    "\n",
    "After unzipping (below) filenames are the same but without .gz"
   ]
  },
  {
   "cell_type": "markdown",
   "metadata": {},
   "source": [
    "``` bash\n",
    "cd /scratch/user/s4436039/scdata/GSE202642\n",
    "ixcpu\n",
    "gunzip GSE202642_barcodes.tsv.gz\n",
    "gunzip GSE202642_features.tsv.gz\n",
    "gunzip GSE202642_matrix.tsv.gz\n",
    "```"
   ]
  },
  {
   "cell_type": "code",
   "execution_count": null,
   "metadata": {
    "vscode": {
     "languageId": "r"
    }
   },
   "outputs": [],
   "source": [
    "#load packages\n",
    "library(dplyr)\n",
    "library(Seurat)\n",
    "library(patchwork)\n"
   ]
  },
  {
   "cell_type": "code",
   "execution_count": null,
   "metadata": {
    "vscode": {
     "languageId": "r"
    }
   },
   "outputs": [],
   "source": [
    "#Load the dataset\n",
    "HPC.data <- Read10X(data.dir = \"/scratch/user/s4436039/scdata/GSE202642/\")"
   ]
  }
 ],
 "metadata": {
  "language_info": {
   "name": "python"
  }
 },
 "nbformat": 4,
 "nbformat_minor": 2
}
