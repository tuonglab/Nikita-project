{
 "cells": [
  {
   "cell_type": "markdown",
   "id": "fbf78564",
   "metadata": {},
   "source": [
    "# Subset correlation on pseudobulked data"
   ]
  },
  {
   "cell_type": "code",
   "execution_count": 1,
   "id": "6efc8f12",
   "metadata": {
    "vscode": {
     "languageId": "r"
    }
   },
   "outputs": [
    {
     "name": "stderr",
     "output_type": "stream",
     "text": [
      "\n",
      "Attaching package: ‘dplyr’\n",
      "\n",
      "\n",
      "The following objects are masked from ‘package:stats’:\n",
      "\n",
      "    filter, lag\n",
      "\n",
      "\n",
      "The following objects are masked from ‘package:base’:\n",
      "\n",
      "    intersect, setdiff, setequal, union\n",
      "\n",
      "\n"
     ]
    }
   ],
   "source": [
    "library(limma)\n",
    "library(edgeR)\n",
    "library(dplyr)"
   ]
  },
  {
   "cell_type": "code",
   "execution_count": 2,
   "id": "fc026f22",
   "metadata": {
    "vscode": {
     "languageId": "r"
    }
   },
   "outputs": [],
   "source": [
    "# set directory\n",
    "setwd('/scratch/user/s4436039/scdata/Pseudobulk')"
   ]
  },
  {
   "cell_type": "markdown",
   "id": "698d8888",
   "metadata": {},
   "source": [
    "### Load data:"
   ]
  },
  {
   "cell_type": "code",
   "execution_count": 3,
   "id": "99e6ba75",
   "metadata": {
    "vscode": {
     "languageId": "r"
    }
   },
   "outputs": [
    {
     "data": {
      "text/html": [
       "<table class=\"dataframe\">\n",
       "<caption>A data.frame: 6 × 1</caption>\n",
       "<thead>\n",
       "\t<tr><th></th><th scope=col>cancer_broadest</th></tr>\n",
       "\t<tr><th></th><th scope=col>&lt;chr&gt;</th></tr>\n",
       "</thead>\n",
       "<tbody>\n",
       "\t<tr><th scope=row>GGSE223063_GLIO_1</th><td>GBM  </td></tr>\n",
       "\t<tr><th scope=row>GGSE223063_GLIO_3</th><td>GBM  </td></tr>\n",
       "\t<tr><th scope=row>GSE112271_HCC_Pt13</th><td>HCC  </td></tr>\n",
       "\t<tr><th scope=row>GSE112271_HCC_Pt14</th><td>HCC  </td></tr>\n",
       "\t<tr><th scope=row>GSE131907_LUAD_T0006</th><td>NSCLC</td></tr>\n",
       "\t<tr><th scope=row>GSE131907_LUAD_T0008</th><td>NSCLC</td></tr>\n",
       "</tbody>\n",
       "</table>\n"
      ],
      "text/latex": [
       "A data.frame: 6 × 1\n",
       "\\begin{tabular}{r|l}\n",
       "  & cancer\\_broadest\\\\\n",
       "  & <chr>\\\\\n",
       "\\hline\n",
       "\tGGSE223063\\_GLIO\\_1 & GBM  \\\\\n",
       "\tGGSE223063\\_GLIO\\_3 & GBM  \\\\\n",
       "\tGSE112271\\_HCC\\_Pt13 & HCC  \\\\\n",
       "\tGSE112271\\_HCC\\_Pt14 & HCC  \\\\\n",
       "\tGSE131907\\_LUAD\\_T0006 & NSCLC\\\\\n",
       "\tGSE131907\\_LUAD\\_T0008 & NSCLC\\\\\n",
       "\\end{tabular}\n"
      ],
      "text/markdown": [
       "\n",
       "A data.frame: 6 × 1\n",
       "\n",
       "| <!--/--> | cancer_broadest &lt;chr&gt; |\n",
       "|---|---|\n",
       "| GGSE223063_GLIO_1 | GBM   |\n",
       "| GGSE223063_GLIO_3 | GBM   |\n",
       "| GSE112271_HCC_Pt13 | HCC   |\n",
       "| GSE112271_HCC_Pt14 | HCC   |\n",
       "| GSE131907_LUAD_T0006 | NSCLC |\n",
       "| GSE131907_LUAD_T0008 | NSCLC |\n",
       "\n"
      ],
      "text/plain": [
       "                     cancer_broadest\n",
       "GGSE223063_GLIO_1    GBM            \n",
       "GGSE223063_GLIO_3    GBM            \n",
       "GSE112271_HCC_Pt13   HCC            \n",
       "GSE112271_HCC_Pt14   HCC            \n",
       "GSE131907_LUAD_T0006 NSCLC          \n",
       "GSE131907_LUAD_T0008 NSCLC          "
      ]
     },
     "metadata": {},
     "output_type": "display_data"
    },
    {
     "data": {
      "text/html": [
       "<table class=\"dataframe\">\n",
       "<caption>A data.frame: 6 × 1</caption>\n",
       "<thead>\n",
       "\t<tr><th></th><th scope=col>cancer_broadest</th></tr>\n",
       "\t<tr><th></th><th scope=col>&lt;chr&gt;</th></tr>\n",
       "</thead>\n",
       "<tbody>\n",
       "\t<tr><th scope=row>GGSE223063_GLIO_1</th><td>GBM  </td></tr>\n",
       "\t<tr><th scope=row>GGSE223063_GLIO_3</th><td>GBM  </td></tr>\n",
       "\t<tr><th scope=row>GSE112271_HCC_Pt13</th><td>HCC  </td></tr>\n",
       "\t<tr><th scope=row>GSE112271_HCC_Pt14</th><td>HCC  </td></tr>\n",
       "\t<tr><th scope=row>GSE131907_LUAD_T0006</th><td>NSCLC</td></tr>\n",
       "\t<tr><th scope=row>GSE131907_LUAD_T0008</th><td>NSCLC</td></tr>\n",
       "</tbody>\n",
       "</table>\n"
      ],
      "text/latex": [
       "A data.frame: 6 × 1\n",
       "\\begin{tabular}{r|l}\n",
       "  & cancer\\_broadest\\\\\n",
       "  & <chr>\\\\\n",
       "\\hline\n",
       "\tGGSE223063\\_GLIO\\_1 & GBM  \\\\\n",
       "\tGGSE223063\\_GLIO\\_3 & GBM  \\\\\n",
       "\tGSE112271\\_HCC\\_Pt13 & HCC  \\\\\n",
       "\tGSE112271\\_HCC\\_Pt14 & HCC  \\\\\n",
       "\tGSE131907\\_LUAD\\_T0006 & NSCLC\\\\\n",
       "\tGSE131907\\_LUAD\\_T0008 & NSCLC\\\\\n",
       "\\end{tabular}\n"
      ],
      "text/markdown": [
       "\n",
       "A data.frame: 6 × 1\n",
       "\n",
       "| <!--/--> | cancer_broadest &lt;chr&gt; |\n",
       "|---|---|\n",
       "| GGSE223063_GLIO_1 | GBM   |\n",
       "| GGSE223063_GLIO_3 | GBM   |\n",
       "| GSE112271_HCC_Pt13 | HCC   |\n",
       "| GSE112271_HCC_Pt14 | HCC   |\n",
       "| GSE131907_LUAD_T0006 | NSCLC |\n",
       "| GSE131907_LUAD_T0008 | NSCLC |\n",
       "\n"
      ],
      "text/plain": [
       "                     cancer_broadest\n",
       "GGSE223063_GLIO_1    GBM            \n",
       "GGSE223063_GLIO_3    GBM            \n",
       "GSE112271_HCC_Pt13   HCC            \n",
       "GSE112271_HCC_Pt14   HCC            \n",
       "GSE131907_LUAD_T0006 NSCLC          \n",
       "GSE131907_LUAD_T0008 NSCLC          "
      ]
     },
     "metadata": {},
     "output_type": "display_data"
    },
    {
     "data": {
      "text/html": [
       "<table class=\"dataframe\">\n",
       "<caption>A data.frame: 6 × 1</caption>\n",
       "<thead>\n",
       "\t<tr><th></th><th scope=col>cancer_broadest</th></tr>\n",
       "\t<tr><th></th><th scope=col>&lt;chr&gt;</th></tr>\n",
       "</thead>\n",
       "<tbody>\n",
       "\t<tr><th scope=row>GGSE223063_GLIO_1</th><td>GBM  </td></tr>\n",
       "\t<tr><th scope=row>GSE112271_HCC_Pt13</th><td>HCC  </td></tr>\n",
       "\t<tr><th scope=row>GSE112271_HCC_Pt14</th><td>HCC  </td></tr>\n",
       "\t<tr><th scope=row>GSE131907_LUAD_T0006</th><td>NSCLC</td></tr>\n",
       "\t<tr><th scope=row>GSE131907_LUAD_T0008</th><td>NSCLC</td></tr>\n",
       "\t<tr><th scope=row>GSE131907_LUAD_T0009</th><td>NSCLC</td></tr>\n",
       "</tbody>\n",
       "</table>\n"
      ],
      "text/latex": [
       "A data.frame: 6 × 1\n",
       "\\begin{tabular}{r|l}\n",
       "  & cancer\\_broadest\\\\\n",
       "  & <chr>\\\\\n",
       "\\hline\n",
       "\tGGSE223063\\_GLIO\\_1 & GBM  \\\\\n",
       "\tGSE112271\\_HCC\\_Pt13 & HCC  \\\\\n",
       "\tGSE112271\\_HCC\\_Pt14 & HCC  \\\\\n",
       "\tGSE131907\\_LUAD\\_T0006 & NSCLC\\\\\n",
       "\tGSE131907\\_LUAD\\_T0008 & NSCLC\\\\\n",
       "\tGSE131907\\_LUAD\\_T0009 & NSCLC\\\\\n",
       "\\end{tabular}\n"
      ],
      "text/markdown": [
       "\n",
       "A data.frame: 6 × 1\n",
       "\n",
       "| <!--/--> | cancer_broadest &lt;chr&gt; |\n",
       "|---|---|\n",
       "| GGSE223063_GLIO_1 | GBM   |\n",
       "| GSE112271_HCC_Pt13 | HCC   |\n",
       "| GSE112271_HCC_Pt14 | HCC   |\n",
       "| GSE131907_LUAD_T0006 | NSCLC |\n",
       "| GSE131907_LUAD_T0008 | NSCLC |\n",
       "| GSE131907_LUAD_T0009 | NSCLC |\n",
       "\n"
      ],
      "text/plain": [
       "                     cancer_broadest\n",
       "GGSE223063_GLIO_1    GBM            \n",
       "GSE112271_HCC_Pt13   HCC            \n",
       "GSE112271_HCC_Pt14   HCC            \n",
       "GSE131907_LUAD_T0006 NSCLC          \n",
       "GSE131907_LUAD_T0008 NSCLC          \n",
       "GSE131907_LUAD_T0009 NSCLC          "
      ]
     },
     "metadata": {},
     "output_type": "display_data"
    },
    {
     "data": {
      "text/html": [
       "<style>\n",
       ".list-inline {list-style: none; margin:0; padding: 0}\n",
       ".list-inline>li {display: inline-block}\n",
       ".list-inline>li:not(:last-child)::after {content: \"\\00b7\"; padding: 0 .5ex}\n",
       "</style>\n",
       "<ol class=list-inline><li>333</li><li>1</li></ol>\n"
      ],
      "text/latex": [
       "\\begin{enumerate*}\n",
       "\\item 333\n",
       "\\item 1\n",
       "\\end{enumerate*}\n"
      ],
      "text/markdown": [
       "1. 333\n",
       "2. 1\n",
       "\n",
       "\n"
      ],
      "text/plain": [
       "[1] 333   1"
      ]
     },
     "metadata": {},
     "output_type": "display_data"
    },
    {
     "data": {
      "text/html": [
       "<style>\n",
       ".list-inline {list-style: none; margin:0; padding: 0}\n",
       ".list-inline>li {display: inline-block}\n",
       ".list-inline>li:not(:last-child)::after {content: \"\\00b7\"; padding: 0 .5ex}\n",
       "</style>\n",
       "<ol class=list-inline><li>363</li><li>1</li></ol>\n"
      ],
      "text/latex": [
       "\\begin{enumerate*}\n",
       "\\item 363\n",
       "\\item 1\n",
       "\\end{enumerate*}\n"
      ],
      "text/markdown": [
       "1. 363\n",
       "2. 1\n",
       "\n",
       "\n"
      ],
      "text/plain": [
       "[1] 363   1"
      ]
     },
     "metadata": {},
     "output_type": "display_data"
    },
    {
     "data": {
      "text/html": [
       "<style>\n",
       ".list-inline {list-style: none; margin:0; padding: 0}\n",
       ".list-inline>li {display: inline-block}\n",
       ".list-inline>li:not(:last-child)::after {content: \"\\00b7\"; padding: 0 .5ex}\n",
       "</style>\n",
       "<ol class=list-inline><li>333</li><li>1</li></ol>\n"
      ],
      "text/latex": [
       "\\begin{enumerate*}\n",
       "\\item 333\n",
       "\\item 1\n",
       "\\end{enumerate*}\n"
      ],
      "text/markdown": [
       "1. 333\n",
       "2. 1\n",
       "\n",
       "\n"
      ],
      "text/plain": [
       "[1] 333   1"
      ]
     },
     "metadata": {},
     "output_type": "display_data"
    }
   ],
   "source": [
    "#load data\n",
    "sampleinfo_DC1 <- read.csv(\"pseudobulk_metadata_DC1.csv\", row.names =1)\n",
    "sampleinfo_DC2 <- read.csv(\"pseudobulk_metadata_DC2.csv\", row.names =1)\n",
    "sampleinfo_mregDC <- read.csv(\"pseudobulk_metadata_mregDC.csv\", row.names =1)\n",
    "head(sampleinfo_DC1)\n",
    "head(sampleinfo_DC2)\n",
    "head(sampleinfo_mregDC)\n",
    "dim(sampleinfo_DC1)\n",
    "dim(sampleinfo_DC2)\n",
    "dim(sampleinfo_mregDC)"
   ]
  },
  {
   "cell_type": "code",
   "execution_count": 4,
   "id": "31c27bd5",
   "metadata": {
    "vscode": {
     "languageId": "r"
    }
   },
   "outputs": [
    {
     "data": {
      "text/html": [
       "<table class=\"dataframe\">\n",
       "<caption>A data.frame: 6 × 333</caption>\n",
       "<thead>\n",
       "\t<tr><th></th><th scope=col>GGSE223063_GLIO_1</th><th scope=col>GGSE223063_GLIO_3</th><th scope=col>GSE112271_HCC_Pt13</th><th scope=col>GSE112271_HCC_Pt14</th><th scope=col>GSE131907_LUAD_T0006</th><th scope=col>GSE131907_LUAD_T0008</th><th scope=col>GSE131907_LUAD_T0009</th><th scope=col>GSE131907_LUAD_T0018</th><th scope=col>GSE131907_LUAD_T0019</th><th scope=col>GSE131907_LUAD_T0020</th><th scope=col>⋯</th><th scope=col>PMID32561858_breast_50</th><th scope=col>PMID32561858_breast_51</th><th scope=col>PMID32561858_breast_52</th><th scope=col>PRJCA005422_HGSOC1_PT</th><th scope=col>PRJCA005422_HGSOC2_PT</th><th scope=col>PRJCA005422_HGSOC3_PT</th><th scope=col>PRJCA005422_HGSOC4_PT</th><th scope=col>PRJCA005422_HGSOC7_PT</th><th scope=col>PRJCA005422_HGSOC8_PT</th><th scope=col>PRJCA005422_HGSOC9_PT</th></tr>\n",
       "\t<tr><th></th><th scope=col>&lt;dbl&gt;</th><th scope=col>&lt;dbl&gt;</th><th scope=col>&lt;dbl&gt;</th><th scope=col>&lt;dbl&gt;</th><th scope=col>&lt;dbl&gt;</th><th scope=col>&lt;dbl&gt;</th><th scope=col>&lt;dbl&gt;</th><th scope=col>&lt;dbl&gt;</th><th scope=col>&lt;dbl&gt;</th><th scope=col>&lt;dbl&gt;</th><th scope=col>⋯</th><th scope=col>&lt;dbl&gt;</th><th scope=col>&lt;dbl&gt;</th><th scope=col>&lt;dbl&gt;</th><th scope=col>&lt;dbl&gt;</th><th scope=col>&lt;dbl&gt;</th><th scope=col>&lt;dbl&gt;</th><th scope=col>&lt;dbl&gt;</th><th scope=col>&lt;dbl&gt;</th><th scope=col>&lt;dbl&gt;</th><th scope=col>&lt;dbl&gt;</th></tr>\n",
       "</thead>\n",
       "<tbody>\n",
       "\t<tr><th scope=row>FAM87B</th><td>0</td><td>0</td><td>0</td><td>0</td><td>0</td><td>0</td><td>0</td><td>0</td><td>0</td><td>0</td><td>⋯</td><td>0</td><td>0</td><td>0</td><td>0</td><td>0</td><td>0</td><td>0</td><td>0</td><td>0</td><td>0</td></tr>\n",
       "\t<tr><th scope=row>LINC00115</th><td>0</td><td>0</td><td>0</td><td>1</td><td>0</td><td>0</td><td>1</td><td>0</td><td>0</td><td>0</td><td>⋯</td><td>0</td><td>0</td><td>0</td><td>0</td><td>1</td><td>1</td><td>1</td><td>0</td><td>0</td><td>0</td></tr>\n",
       "\t<tr><th scope=row>FAM41C</th><td>0</td><td>0</td><td>0</td><td>0</td><td>0</td><td>0</td><td>0</td><td>0</td><td>0</td><td>0</td><td>⋯</td><td>0</td><td>0</td><td>0</td><td>0</td><td>0</td><td>0</td><td>0</td><td>0</td><td>0</td><td>0</td></tr>\n",
       "\t<tr><th scope=row>SAMD11</th><td>0</td><td>0</td><td>0</td><td>0</td><td>1</td><td>0</td><td>0</td><td>0</td><td>0</td><td>0</td><td>⋯</td><td>0</td><td>0</td><td>0</td><td>0</td><td>0</td><td>0</td><td>0</td><td>1</td><td>0</td><td>0</td></tr>\n",
       "\t<tr><th scope=row>NOC2L</th><td>0</td><td>0</td><td>0</td><td>2</td><td>1</td><td>0</td><td>7</td><td>1</td><td>2</td><td>1</td><td>⋯</td><td>0</td><td>5</td><td>0</td><td>3</td><td>1</td><td>2</td><td>3</td><td>2</td><td>4</td><td>1</td></tr>\n",
       "\t<tr><th scope=row>KLHL17</th><td>0</td><td>0</td><td>0</td><td>0</td><td>0</td><td>0</td><td>0</td><td>0</td><td>0</td><td>0</td><td>⋯</td><td>0</td><td>1</td><td>0</td><td>0</td><td>0</td><td>0</td><td>0</td><td>0</td><td>0</td><td>0</td></tr>\n",
       "</tbody>\n",
       "</table>\n"
      ],
      "text/latex": [
       "A data.frame: 6 × 333\n",
       "\\begin{tabular}{r|lllllllllllllllllllll}\n",
       "  & GGSE223063\\_GLIO\\_1 & GGSE223063\\_GLIO\\_3 & GSE112271\\_HCC\\_Pt13 & GSE112271\\_HCC\\_Pt14 & GSE131907\\_LUAD\\_T0006 & GSE131907\\_LUAD\\_T0008 & GSE131907\\_LUAD\\_T0009 & GSE131907\\_LUAD\\_T0018 & GSE131907\\_LUAD\\_T0019 & GSE131907\\_LUAD\\_T0020 & ⋯ & PMID32561858\\_breast\\_50 & PMID32561858\\_breast\\_51 & PMID32561858\\_breast\\_52 & PRJCA005422\\_HGSOC1\\_PT & PRJCA005422\\_HGSOC2\\_PT & PRJCA005422\\_HGSOC3\\_PT & PRJCA005422\\_HGSOC4\\_PT & PRJCA005422\\_HGSOC7\\_PT & PRJCA005422\\_HGSOC8\\_PT & PRJCA005422\\_HGSOC9\\_PT\\\\\n",
       "  & <dbl> & <dbl> & <dbl> & <dbl> & <dbl> & <dbl> & <dbl> & <dbl> & <dbl> & <dbl> & ⋯ & <dbl> & <dbl> & <dbl> & <dbl> & <dbl> & <dbl> & <dbl> & <dbl> & <dbl> & <dbl>\\\\\n",
       "\\hline\n",
       "\tFAM87B & 0 & 0 & 0 & 0 & 0 & 0 & 0 & 0 & 0 & 0 & ⋯ & 0 & 0 & 0 & 0 & 0 & 0 & 0 & 0 & 0 & 0\\\\\n",
       "\tLINC00115 & 0 & 0 & 0 & 1 & 0 & 0 & 1 & 0 & 0 & 0 & ⋯ & 0 & 0 & 0 & 0 & 1 & 1 & 1 & 0 & 0 & 0\\\\\n",
       "\tFAM41C & 0 & 0 & 0 & 0 & 0 & 0 & 0 & 0 & 0 & 0 & ⋯ & 0 & 0 & 0 & 0 & 0 & 0 & 0 & 0 & 0 & 0\\\\\n",
       "\tSAMD11 & 0 & 0 & 0 & 0 & 1 & 0 & 0 & 0 & 0 & 0 & ⋯ & 0 & 0 & 0 & 0 & 0 & 0 & 0 & 1 & 0 & 0\\\\\n",
       "\tNOC2L & 0 & 0 & 0 & 2 & 1 & 0 & 7 & 1 & 2 & 1 & ⋯ & 0 & 5 & 0 & 3 & 1 & 2 & 3 & 2 & 4 & 1\\\\\n",
       "\tKLHL17 & 0 & 0 & 0 & 0 & 0 & 0 & 0 & 0 & 0 & 0 & ⋯ & 0 & 1 & 0 & 0 & 0 & 0 & 0 & 0 & 0 & 0\\\\\n",
       "\\end{tabular}\n"
      ],
      "text/markdown": [
       "\n",
       "A data.frame: 6 × 333\n",
       "\n",
       "| <!--/--> | GGSE223063_GLIO_1 &lt;dbl&gt; | GGSE223063_GLIO_3 &lt;dbl&gt; | GSE112271_HCC_Pt13 &lt;dbl&gt; | GSE112271_HCC_Pt14 &lt;dbl&gt; | GSE131907_LUAD_T0006 &lt;dbl&gt; | GSE131907_LUAD_T0008 &lt;dbl&gt; | GSE131907_LUAD_T0009 &lt;dbl&gt; | GSE131907_LUAD_T0018 &lt;dbl&gt; | GSE131907_LUAD_T0019 &lt;dbl&gt; | GSE131907_LUAD_T0020 &lt;dbl&gt; | ⋯ ⋯ | PMID32561858_breast_50 &lt;dbl&gt; | PMID32561858_breast_51 &lt;dbl&gt; | PMID32561858_breast_52 &lt;dbl&gt; | PRJCA005422_HGSOC1_PT &lt;dbl&gt; | PRJCA005422_HGSOC2_PT &lt;dbl&gt; | PRJCA005422_HGSOC3_PT &lt;dbl&gt; | PRJCA005422_HGSOC4_PT &lt;dbl&gt; | PRJCA005422_HGSOC7_PT &lt;dbl&gt; | PRJCA005422_HGSOC8_PT &lt;dbl&gt; | PRJCA005422_HGSOC9_PT &lt;dbl&gt; |\n",
       "|---|---|---|---|---|---|---|---|---|---|---|---|---|---|---|---|---|---|---|---|---|---|\n",
       "| FAM87B | 0 | 0 | 0 | 0 | 0 | 0 | 0 | 0 | 0 | 0 | ⋯ | 0 | 0 | 0 | 0 | 0 | 0 | 0 | 0 | 0 | 0 |\n",
       "| LINC00115 | 0 | 0 | 0 | 1 | 0 | 0 | 1 | 0 | 0 | 0 | ⋯ | 0 | 0 | 0 | 0 | 1 | 1 | 1 | 0 | 0 | 0 |\n",
       "| FAM41C | 0 | 0 | 0 | 0 | 0 | 0 | 0 | 0 | 0 | 0 | ⋯ | 0 | 0 | 0 | 0 | 0 | 0 | 0 | 0 | 0 | 0 |\n",
       "| SAMD11 | 0 | 0 | 0 | 0 | 1 | 0 | 0 | 0 | 0 | 0 | ⋯ | 0 | 0 | 0 | 0 | 0 | 0 | 0 | 1 | 0 | 0 |\n",
       "| NOC2L | 0 | 0 | 0 | 2 | 1 | 0 | 7 | 1 | 2 | 1 | ⋯ | 0 | 5 | 0 | 3 | 1 | 2 | 3 | 2 | 4 | 1 |\n",
       "| KLHL17 | 0 | 0 | 0 | 0 | 0 | 0 | 0 | 0 | 0 | 0 | ⋯ | 0 | 1 | 0 | 0 | 0 | 0 | 0 | 0 | 0 | 0 |\n",
       "\n"
      ],
      "text/plain": [
       "          GGSE223063_GLIO_1 GGSE223063_GLIO_3 GSE112271_HCC_Pt13\n",
       "FAM87B    0                 0                 0                 \n",
       "LINC00115 0                 0                 0                 \n",
       "FAM41C    0                 0                 0                 \n",
       "SAMD11    0                 0                 0                 \n",
       "NOC2L     0                 0                 0                 \n",
       "KLHL17    0                 0                 0                 \n",
       "          GSE112271_HCC_Pt14 GSE131907_LUAD_T0006 GSE131907_LUAD_T0008\n",
       "FAM87B    0                  0                    0                   \n",
       "LINC00115 1                  0                    0                   \n",
       "FAM41C    0                  0                    0                   \n",
       "SAMD11    0                  1                    0                   \n",
       "NOC2L     2                  1                    0                   \n",
       "KLHL17    0                  0                    0                   \n",
       "          GSE131907_LUAD_T0009 GSE131907_LUAD_T0018 GSE131907_LUAD_T0019\n",
       "FAM87B    0                    0                    0                   \n",
       "LINC00115 1                    0                    0                   \n",
       "FAM41C    0                    0                    0                   \n",
       "SAMD11    0                    0                    0                   \n",
       "NOC2L     7                    1                    2                   \n",
       "KLHL17    0                    0                    0                   \n",
       "          GSE131907_LUAD_T0020 ⋯ PMID32561858_breast_50 PMID32561858_breast_51\n",
       "FAM87B    0                    ⋯ 0                      0                     \n",
       "LINC00115 0                    ⋯ 0                      0                     \n",
       "FAM41C    0                    ⋯ 0                      0                     \n",
       "SAMD11    0                    ⋯ 0                      0                     \n",
       "NOC2L     1                    ⋯ 0                      5                     \n",
       "KLHL17    0                    ⋯ 0                      1                     \n",
       "          PMID32561858_breast_52 PRJCA005422_HGSOC1_PT PRJCA005422_HGSOC2_PT\n",
       "FAM87B    0                      0                     0                    \n",
       "LINC00115 0                      0                     1                    \n",
       "FAM41C    0                      0                     0                    \n",
       "SAMD11    0                      0                     0                    \n",
       "NOC2L     0                      3                     1                    \n",
       "KLHL17    0                      0                     0                    \n",
       "          PRJCA005422_HGSOC3_PT PRJCA005422_HGSOC4_PT PRJCA005422_HGSOC7_PT\n",
       "FAM87B    0                     0                     0                    \n",
       "LINC00115 1                     1                     0                    \n",
       "FAM41C    0                     0                     0                    \n",
       "SAMD11    0                     0                     1                    \n",
       "NOC2L     2                     3                     2                    \n",
       "KLHL17    0                     0                     0                    \n",
       "          PRJCA005422_HGSOC8_PT PRJCA005422_HGSOC9_PT\n",
       "FAM87B    0                     0                    \n",
       "LINC00115 0                     0                    \n",
       "FAM41C    0                     0                    \n",
       "SAMD11    0                     0                    \n",
       "NOC2L     4                     1                    \n",
       "KLHL17    0                     0                    "
      ]
     },
     "metadata": {},
     "output_type": "display_data"
    },
    {
     "data": {
      "text/html": [
       "<table class=\"dataframe\">\n",
       "<caption>A data.frame: 6 × 363</caption>\n",
       "<thead>\n",
       "\t<tr><th></th><th scope=col>GGSE223063_GLIO_1</th><th scope=col>GGSE223063_GLIO_3</th><th scope=col>GSE112271_HCC_Pt13</th><th scope=col>GSE112271_HCC_Pt14</th><th scope=col>GSE131907_LUAD_T0006</th><th scope=col>GSE131907_LUAD_T0008</th><th scope=col>GSE131907_LUAD_T0009</th><th scope=col>GSE131907_LUAD_T0018</th><th scope=col>GSE131907_LUAD_T0019</th><th scope=col>GSE131907_LUAD_T0020</th><th scope=col>⋯</th><th scope=col>PMID32561858_breast_54</th><th scope=col>PRJCA005422_HGSOC1_PT</th><th scope=col>PRJCA005422_HGSOC2_PT</th><th scope=col>PRJCA005422_HGSOC3_PT</th><th scope=col>PRJCA005422_HGSOC4_PT</th><th scope=col>PRJCA005422_HGSOC6_PT</th><th scope=col>PRJCA005422_HGSOC7_PT</th><th scope=col>PRJCA005422_HGSOC8_PT</th><th scope=col>PRJCA005422_HGSOC9_PT</th><th scope=col>PRJCA005422_HGSOC10_PT</th></tr>\n",
       "\t<tr><th></th><th scope=col>&lt;dbl&gt;</th><th scope=col>&lt;dbl&gt;</th><th scope=col>&lt;dbl&gt;</th><th scope=col>&lt;dbl&gt;</th><th scope=col>&lt;dbl&gt;</th><th scope=col>&lt;dbl&gt;</th><th scope=col>&lt;dbl&gt;</th><th scope=col>&lt;dbl&gt;</th><th scope=col>&lt;dbl&gt;</th><th scope=col>&lt;dbl&gt;</th><th scope=col>⋯</th><th scope=col>&lt;dbl&gt;</th><th scope=col>&lt;dbl&gt;</th><th scope=col>&lt;dbl&gt;</th><th scope=col>&lt;dbl&gt;</th><th scope=col>&lt;dbl&gt;</th><th scope=col>&lt;dbl&gt;</th><th scope=col>&lt;dbl&gt;</th><th scope=col>&lt;dbl&gt;</th><th scope=col>&lt;dbl&gt;</th><th scope=col>&lt;dbl&gt;</th></tr>\n",
       "</thead>\n",
       "<tbody>\n",
       "\t<tr><th scope=row>FAM87B</th><td>0</td><td>0</td><td>0</td><td>0</td><td> 2</td><td>0</td><td>0</td><td>0</td><td> 0</td><td> 2</td><td>⋯</td><td>0</td><td> 0</td><td>0</td><td>0</td><td>0</td><td>0</td><td>0</td><td>0</td><td>0</td><td>0</td></tr>\n",
       "\t<tr><th scope=row>LINC00115</th><td>0</td><td>0</td><td>0</td><td>1</td><td> 3</td><td>0</td><td>2</td><td>0</td><td> 3</td><td> 1</td><td>⋯</td><td>0</td><td> 1</td><td>0</td><td>0</td><td>0</td><td>0</td><td>1</td><td>0</td><td>0</td><td>0</td></tr>\n",
       "\t<tr><th scope=row>FAM41C</th><td>1</td><td>0</td><td>0</td><td>1</td><td> 2</td><td>0</td><td>1</td><td>0</td><td> 0</td><td> 1</td><td>⋯</td><td>0</td><td> 0</td><td>0</td><td>0</td><td>0</td><td>0</td><td>1</td><td>0</td><td>0</td><td>1</td></tr>\n",
       "\t<tr><th scope=row>SAMD11</th><td>0</td><td>0</td><td>0</td><td>0</td><td> 0</td><td>1</td><td>0</td><td>0</td><td> 0</td><td> 0</td><td>⋯</td><td>0</td><td> 0</td><td>0</td><td>1</td><td>0</td><td>0</td><td>1</td><td>0</td><td>0</td><td>0</td></tr>\n",
       "\t<tr><th scope=row>NOC2L</th><td>4</td><td>0</td><td>3</td><td>6</td><td>17</td><td>6</td><td>7</td><td>5</td><td>10</td><td>17</td><td>⋯</td><td>0</td><td>22</td><td>8</td><td>7</td><td>6</td><td>3</td><td>7</td><td>0</td><td>2</td><td>3</td></tr>\n",
       "\t<tr><th scope=row>KLHL17</th><td>1</td><td>0</td><td>0</td><td>0</td><td> 1</td><td>0</td><td>1</td><td>0</td><td> 1</td><td> 0</td><td>⋯</td><td>0</td><td> 0</td><td>1</td><td>0</td><td>0</td><td>0</td><td>0</td><td>0</td><td>1</td><td>0</td></tr>\n",
       "</tbody>\n",
       "</table>\n"
      ],
      "text/latex": [
       "A data.frame: 6 × 363\n",
       "\\begin{tabular}{r|lllllllllllllllllllll}\n",
       "  & GGSE223063\\_GLIO\\_1 & GGSE223063\\_GLIO\\_3 & GSE112271\\_HCC\\_Pt13 & GSE112271\\_HCC\\_Pt14 & GSE131907\\_LUAD\\_T0006 & GSE131907\\_LUAD\\_T0008 & GSE131907\\_LUAD\\_T0009 & GSE131907\\_LUAD\\_T0018 & GSE131907\\_LUAD\\_T0019 & GSE131907\\_LUAD\\_T0020 & ⋯ & PMID32561858\\_breast\\_54 & PRJCA005422\\_HGSOC1\\_PT & PRJCA005422\\_HGSOC2\\_PT & PRJCA005422\\_HGSOC3\\_PT & PRJCA005422\\_HGSOC4\\_PT & PRJCA005422\\_HGSOC6\\_PT & PRJCA005422\\_HGSOC7\\_PT & PRJCA005422\\_HGSOC8\\_PT & PRJCA005422\\_HGSOC9\\_PT & PRJCA005422\\_HGSOC10\\_PT\\\\\n",
       "  & <dbl> & <dbl> & <dbl> & <dbl> & <dbl> & <dbl> & <dbl> & <dbl> & <dbl> & <dbl> & ⋯ & <dbl> & <dbl> & <dbl> & <dbl> & <dbl> & <dbl> & <dbl> & <dbl> & <dbl> & <dbl>\\\\\n",
       "\\hline\n",
       "\tFAM87B & 0 & 0 & 0 & 0 &  2 & 0 & 0 & 0 &  0 &  2 & ⋯ & 0 &  0 & 0 & 0 & 0 & 0 & 0 & 0 & 0 & 0\\\\\n",
       "\tLINC00115 & 0 & 0 & 0 & 1 &  3 & 0 & 2 & 0 &  3 &  1 & ⋯ & 0 &  1 & 0 & 0 & 0 & 0 & 1 & 0 & 0 & 0\\\\\n",
       "\tFAM41C & 1 & 0 & 0 & 1 &  2 & 0 & 1 & 0 &  0 &  1 & ⋯ & 0 &  0 & 0 & 0 & 0 & 0 & 1 & 0 & 0 & 1\\\\\n",
       "\tSAMD11 & 0 & 0 & 0 & 0 &  0 & 1 & 0 & 0 &  0 &  0 & ⋯ & 0 &  0 & 0 & 1 & 0 & 0 & 1 & 0 & 0 & 0\\\\\n",
       "\tNOC2L & 4 & 0 & 3 & 6 & 17 & 6 & 7 & 5 & 10 & 17 & ⋯ & 0 & 22 & 8 & 7 & 6 & 3 & 7 & 0 & 2 & 3\\\\\n",
       "\tKLHL17 & 1 & 0 & 0 & 0 &  1 & 0 & 1 & 0 &  1 &  0 & ⋯ & 0 &  0 & 1 & 0 & 0 & 0 & 0 & 0 & 1 & 0\\\\\n",
       "\\end{tabular}\n"
      ],
      "text/markdown": [
       "\n",
       "A data.frame: 6 × 363\n",
       "\n",
       "| <!--/--> | GGSE223063_GLIO_1 &lt;dbl&gt; | GGSE223063_GLIO_3 &lt;dbl&gt; | GSE112271_HCC_Pt13 &lt;dbl&gt; | GSE112271_HCC_Pt14 &lt;dbl&gt; | GSE131907_LUAD_T0006 &lt;dbl&gt; | GSE131907_LUAD_T0008 &lt;dbl&gt; | GSE131907_LUAD_T0009 &lt;dbl&gt; | GSE131907_LUAD_T0018 &lt;dbl&gt; | GSE131907_LUAD_T0019 &lt;dbl&gt; | GSE131907_LUAD_T0020 &lt;dbl&gt; | ⋯ ⋯ | PMID32561858_breast_54 &lt;dbl&gt; | PRJCA005422_HGSOC1_PT &lt;dbl&gt; | PRJCA005422_HGSOC2_PT &lt;dbl&gt; | PRJCA005422_HGSOC3_PT &lt;dbl&gt; | PRJCA005422_HGSOC4_PT &lt;dbl&gt; | PRJCA005422_HGSOC6_PT &lt;dbl&gt; | PRJCA005422_HGSOC7_PT &lt;dbl&gt; | PRJCA005422_HGSOC8_PT &lt;dbl&gt; | PRJCA005422_HGSOC9_PT &lt;dbl&gt; | PRJCA005422_HGSOC10_PT &lt;dbl&gt; |\n",
       "|---|---|---|---|---|---|---|---|---|---|---|---|---|---|---|---|---|---|---|---|---|---|\n",
       "| FAM87B | 0 | 0 | 0 | 0 |  2 | 0 | 0 | 0 |  0 |  2 | ⋯ | 0 |  0 | 0 | 0 | 0 | 0 | 0 | 0 | 0 | 0 |\n",
       "| LINC00115 | 0 | 0 | 0 | 1 |  3 | 0 | 2 | 0 |  3 |  1 | ⋯ | 0 |  1 | 0 | 0 | 0 | 0 | 1 | 0 | 0 | 0 |\n",
       "| FAM41C | 1 | 0 | 0 | 1 |  2 | 0 | 1 | 0 |  0 |  1 | ⋯ | 0 |  0 | 0 | 0 | 0 | 0 | 1 | 0 | 0 | 1 |\n",
       "| SAMD11 | 0 | 0 | 0 | 0 |  0 | 1 | 0 | 0 |  0 |  0 | ⋯ | 0 |  0 | 0 | 1 | 0 | 0 | 1 | 0 | 0 | 0 |\n",
       "| NOC2L | 4 | 0 | 3 | 6 | 17 | 6 | 7 | 5 | 10 | 17 | ⋯ | 0 | 22 | 8 | 7 | 6 | 3 | 7 | 0 | 2 | 3 |\n",
       "| KLHL17 | 1 | 0 | 0 | 0 |  1 | 0 | 1 | 0 |  1 |  0 | ⋯ | 0 |  0 | 1 | 0 | 0 | 0 | 0 | 0 | 1 | 0 |\n",
       "\n"
      ],
      "text/plain": [
       "          GGSE223063_GLIO_1 GGSE223063_GLIO_3 GSE112271_HCC_Pt13\n",
       "FAM87B    0                 0                 0                 \n",
       "LINC00115 0                 0                 0                 \n",
       "FAM41C    1                 0                 0                 \n",
       "SAMD11    0                 0                 0                 \n",
       "NOC2L     4                 0                 3                 \n",
       "KLHL17    1                 0                 0                 \n",
       "          GSE112271_HCC_Pt14 GSE131907_LUAD_T0006 GSE131907_LUAD_T0008\n",
       "FAM87B    0                   2                   0                   \n",
       "LINC00115 1                   3                   0                   \n",
       "FAM41C    1                   2                   0                   \n",
       "SAMD11    0                   0                   1                   \n",
       "NOC2L     6                  17                   6                   \n",
       "KLHL17    0                   1                   0                   \n",
       "          GSE131907_LUAD_T0009 GSE131907_LUAD_T0018 GSE131907_LUAD_T0019\n",
       "FAM87B    0                    0                     0                  \n",
       "LINC00115 2                    0                     3                  \n",
       "FAM41C    1                    0                     0                  \n",
       "SAMD11    0                    0                     0                  \n",
       "NOC2L     7                    5                    10                  \n",
       "KLHL17    1                    0                     1                  \n",
       "          GSE131907_LUAD_T0020 ⋯ PMID32561858_breast_54 PRJCA005422_HGSOC1_PT\n",
       "FAM87B     2                   ⋯ 0                       0                   \n",
       "LINC00115  1                   ⋯ 0                       1                   \n",
       "FAM41C     1                   ⋯ 0                       0                   \n",
       "SAMD11     0                   ⋯ 0                       0                   \n",
       "NOC2L     17                   ⋯ 0                      22                   \n",
       "KLHL17     0                   ⋯ 0                       0                   \n",
       "          PRJCA005422_HGSOC2_PT PRJCA005422_HGSOC3_PT PRJCA005422_HGSOC4_PT\n",
       "FAM87B    0                     0                     0                    \n",
       "LINC00115 0                     0                     0                    \n",
       "FAM41C    0                     0                     0                    \n",
       "SAMD11    0                     1                     0                    \n",
       "NOC2L     8                     7                     6                    \n",
       "KLHL17    1                     0                     0                    \n",
       "          PRJCA005422_HGSOC6_PT PRJCA005422_HGSOC7_PT PRJCA005422_HGSOC8_PT\n",
       "FAM87B    0                     0                     0                    \n",
       "LINC00115 0                     1                     0                    \n",
       "FAM41C    0                     1                     0                    \n",
       "SAMD11    0                     1                     0                    \n",
       "NOC2L     3                     7                     0                    \n",
       "KLHL17    0                     0                     0                    \n",
       "          PRJCA005422_HGSOC9_PT PRJCA005422_HGSOC10_PT\n",
       "FAM87B    0                     0                     \n",
       "LINC00115 0                     0                     \n",
       "FAM41C    0                     1                     \n",
       "SAMD11    0                     0                     \n",
       "NOC2L     2                     3                     \n",
       "KLHL17    1                     0                     "
      ]
     },
     "metadata": {},
     "output_type": "display_data"
    },
    {
     "data": {
      "text/html": [
       "<table class=\"dataframe\">\n",
       "<caption>A data.frame: 6 × 333</caption>\n",
       "<thead>\n",
       "\t<tr><th></th><th scope=col>GGSE223063_GLIO_1</th><th scope=col>GSE112271_HCC_Pt13</th><th scope=col>GSE112271_HCC_Pt14</th><th scope=col>GSE131907_LUAD_T0006</th><th scope=col>GSE131907_LUAD_T0008</th><th scope=col>GSE131907_LUAD_T0009</th><th scope=col>GSE131907_LUAD_T0018</th><th scope=col>GSE131907_LUAD_T0019</th><th scope=col>GSE131907_LUAD_T0020</th><th scope=col>GSE131907_LUAD_T0025</th><th scope=col>⋯</th><th scope=col>PMID32561858_breast_51</th><th scope=col>PRJCA005422_HGSOC1_PT</th><th scope=col>PRJCA005422_HGSOC2_PT</th><th scope=col>PRJCA005422_HGSOC3_PT</th><th scope=col>PRJCA005422_HGSOC4_PT</th><th scope=col>PRJCA005422_HGSOC6_PT</th><th scope=col>PRJCA005422_HGSOC7_PT</th><th scope=col>PRJCA005422_HGSOC8_PT</th><th scope=col>PRJCA005422_HGSOC9_PT</th><th scope=col>PRJCA005422_HGSOC10_PT</th></tr>\n",
       "\t<tr><th></th><th scope=col>&lt;dbl&gt;</th><th scope=col>&lt;dbl&gt;</th><th scope=col>&lt;dbl&gt;</th><th scope=col>&lt;dbl&gt;</th><th scope=col>&lt;dbl&gt;</th><th scope=col>&lt;dbl&gt;</th><th scope=col>&lt;dbl&gt;</th><th scope=col>&lt;dbl&gt;</th><th scope=col>&lt;dbl&gt;</th><th scope=col>&lt;dbl&gt;</th><th scope=col>⋯</th><th scope=col>&lt;dbl&gt;</th><th scope=col>&lt;dbl&gt;</th><th scope=col>&lt;dbl&gt;</th><th scope=col>&lt;dbl&gt;</th><th scope=col>&lt;dbl&gt;</th><th scope=col>&lt;dbl&gt;</th><th scope=col>&lt;dbl&gt;</th><th scope=col>&lt;dbl&gt;</th><th scope=col>&lt;dbl&gt;</th><th scope=col>&lt;dbl&gt;</th></tr>\n",
       "</thead>\n",
       "<tbody>\n",
       "\t<tr><th scope=row>FAM87B</th><td>0</td><td>0</td><td>0</td><td>0</td><td>0</td><td>0</td><td>0</td><td>0</td><td>0</td><td>0</td><td>⋯</td><td>0</td><td>0</td><td>0</td><td>0</td><td>0</td><td>0</td><td>0</td><td>0</td><td>0</td><td>0</td></tr>\n",
       "\t<tr><th scope=row>LINC00115</th><td>0</td><td>0</td><td>0</td><td>0</td><td>0</td><td>0</td><td>0</td><td>0</td><td>0</td><td>1</td><td>⋯</td><td>0</td><td>0</td><td>0</td><td>0</td><td>0</td><td>0</td><td>1</td><td>0</td><td>0</td><td>0</td></tr>\n",
       "\t<tr><th scope=row>FAM41C</th><td>0</td><td>0</td><td>0</td><td>0</td><td>0</td><td>0</td><td>0</td><td>0</td><td>0</td><td>0</td><td>⋯</td><td>0</td><td>0</td><td>0</td><td>0</td><td>0</td><td>0</td><td>0</td><td>0</td><td>0</td><td>0</td></tr>\n",
       "\t<tr><th scope=row>SAMD11</th><td>0</td><td>0</td><td>0</td><td>0</td><td>0</td><td>0</td><td>0</td><td>0</td><td>0</td><td>0</td><td>⋯</td><td>0</td><td>0</td><td>0</td><td>0</td><td>0</td><td>0</td><td>0</td><td>0</td><td>0</td><td>0</td></tr>\n",
       "\t<tr><th scope=row>NOC2L</th><td>2</td><td>0</td><td>3</td><td>3</td><td>5</td><td>0</td><td>2</td><td>5</td><td>3</td><td>4</td><td>⋯</td><td>4</td><td>1</td><td>1</td><td>1</td><td>2</td><td>0</td><td>1</td><td>0</td><td>0</td><td>0</td></tr>\n",
       "\t<tr><th scope=row>KLHL17</th><td>0</td><td>0</td><td>0</td><td>0</td><td>0</td><td>0</td><td>0</td><td>0</td><td>0</td><td>0</td><td>⋯</td><td>1</td><td>0</td><td>0</td><td>0</td><td>0</td><td>0</td><td>0</td><td>0</td><td>0</td><td>0</td></tr>\n",
       "</tbody>\n",
       "</table>\n"
      ],
      "text/latex": [
       "A data.frame: 6 × 333\n",
       "\\begin{tabular}{r|lllllllllllllllllllll}\n",
       "  & GGSE223063\\_GLIO\\_1 & GSE112271\\_HCC\\_Pt13 & GSE112271\\_HCC\\_Pt14 & GSE131907\\_LUAD\\_T0006 & GSE131907\\_LUAD\\_T0008 & GSE131907\\_LUAD\\_T0009 & GSE131907\\_LUAD\\_T0018 & GSE131907\\_LUAD\\_T0019 & GSE131907\\_LUAD\\_T0020 & GSE131907\\_LUAD\\_T0025 & ⋯ & PMID32561858\\_breast\\_51 & PRJCA005422\\_HGSOC1\\_PT & PRJCA005422\\_HGSOC2\\_PT & PRJCA005422\\_HGSOC3\\_PT & PRJCA005422\\_HGSOC4\\_PT & PRJCA005422\\_HGSOC6\\_PT & PRJCA005422\\_HGSOC7\\_PT & PRJCA005422\\_HGSOC8\\_PT & PRJCA005422\\_HGSOC9\\_PT & PRJCA005422\\_HGSOC10\\_PT\\\\\n",
       "  & <dbl> & <dbl> & <dbl> & <dbl> & <dbl> & <dbl> & <dbl> & <dbl> & <dbl> & <dbl> & ⋯ & <dbl> & <dbl> & <dbl> & <dbl> & <dbl> & <dbl> & <dbl> & <dbl> & <dbl> & <dbl>\\\\\n",
       "\\hline\n",
       "\tFAM87B & 0 & 0 & 0 & 0 & 0 & 0 & 0 & 0 & 0 & 0 & ⋯ & 0 & 0 & 0 & 0 & 0 & 0 & 0 & 0 & 0 & 0\\\\\n",
       "\tLINC00115 & 0 & 0 & 0 & 0 & 0 & 0 & 0 & 0 & 0 & 1 & ⋯ & 0 & 0 & 0 & 0 & 0 & 0 & 1 & 0 & 0 & 0\\\\\n",
       "\tFAM41C & 0 & 0 & 0 & 0 & 0 & 0 & 0 & 0 & 0 & 0 & ⋯ & 0 & 0 & 0 & 0 & 0 & 0 & 0 & 0 & 0 & 0\\\\\n",
       "\tSAMD11 & 0 & 0 & 0 & 0 & 0 & 0 & 0 & 0 & 0 & 0 & ⋯ & 0 & 0 & 0 & 0 & 0 & 0 & 0 & 0 & 0 & 0\\\\\n",
       "\tNOC2L & 2 & 0 & 3 & 3 & 5 & 0 & 2 & 5 & 3 & 4 & ⋯ & 4 & 1 & 1 & 1 & 2 & 0 & 1 & 0 & 0 & 0\\\\\n",
       "\tKLHL17 & 0 & 0 & 0 & 0 & 0 & 0 & 0 & 0 & 0 & 0 & ⋯ & 1 & 0 & 0 & 0 & 0 & 0 & 0 & 0 & 0 & 0\\\\\n",
       "\\end{tabular}\n"
      ],
      "text/markdown": [
       "\n",
       "A data.frame: 6 × 333\n",
       "\n",
       "| <!--/--> | GGSE223063_GLIO_1 &lt;dbl&gt; | GSE112271_HCC_Pt13 &lt;dbl&gt; | GSE112271_HCC_Pt14 &lt;dbl&gt; | GSE131907_LUAD_T0006 &lt;dbl&gt; | GSE131907_LUAD_T0008 &lt;dbl&gt; | GSE131907_LUAD_T0009 &lt;dbl&gt; | GSE131907_LUAD_T0018 &lt;dbl&gt; | GSE131907_LUAD_T0019 &lt;dbl&gt; | GSE131907_LUAD_T0020 &lt;dbl&gt; | GSE131907_LUAD_T0025 &lt;dbl&gt; | ⋯ ⋯ | PMID32561858_breast_51 &lt;dbl&gt; | PRJCA005422_HGSOC1_PT &lt;dbl&gt; | PRJCA005422_HGSOC2_PT &lt;dbl&gt; | PRJCA005422_HGSOC3_PT &lt;dbl&gt; | PRJCA005422_HGSOC4_PT &lt;dbl&gt; | PRJCA005422_HGSOC6_PT &lt;dbl&gt; | PRJCA005422_HGSOC7_PT &lt;dbl&gt; | PRJCA005422_HGSOC8_PT &lt;dbl&gt; | PRJCA005422_HGSOC9_PT &lt;dbl&gt; | PRJCA005422_HGSOC10_PT &lt;dbl&gt; |\n",
       "|---|---|---|---|---|---|---|---|---|---|---|---|---|---|---|---|---|---|---|---|---|---|\n",
       "| FAM87B | 0 | 0 | 0 | 0 | 0 | 0 | 0 | 0 | 0 | 0 | ⋯ | 0 | 0 | 0 | 0 | 0 | 0 | 0 | 0 | 0 | 0 |\n",
       "| LINC00115 | 0 | 0 | 0 | 0 | 0 | 0 | 0 | 0 | 0 | 1 | ⋯ | 0 | 0 | 0 | 0 | 0 | 0 | 1 | 0 | 0 | 0 |\n",
       "| FAM41C | 0 | 0 | 0 | 0 | 0 | 0 | 0 | 0 | 0 | 0 | ⋯ | 0 | 0 | 0 | 0 | 0 | 0 | 0 | 0 | 0 | 0 |\n",
       "| SAMD11 | 0 | 0 | 0 | 0 | 0 | 0 | 0 | 0 | 0 | 0 | ⋯ | 0 | 0 | 0 | 0 | 0 | 0 | 0 | 0 | 0 | 0 |\n",
       "| NOC2L | 2 | 0 | 3 | 3 | 5 | 0 | 2 | 5 | 3 | 4 | ⋯ | 4 | 1 | 1 | 1 | 2 | 0 | 1 | 0 | 0 | 0 |\n",
       "| KLHL17 | 0 | 0 | 0 | 0 | 0 | 0 | 0 | 0 | 0 | 0 | ⋯ | 1 | 0 | 0 | 0 | 0 | 0 | 0 | 0 | 0 | 0 |\n",
       "\n"
      ],
      "text/plain": [
       "          GGSE223063_GLIO_1 GSE112271_HCC_Pt13 GSE112271_HCC_Pt14\n",
       "FAM87B    0                 0                  0                 \n",
       "LINC00115 0                 0                  0                 \n",
       "FAM41C    0                 0                  0                 \n",
       "SAMD11    0                 0                  0                 \n",
       "NOC2L     2                 0                  3                 \n",
       "KLHL17    0                 0                  0                 \n",
       "          GSE131907_LUAD_T0006 GSE131907_LUAD_T0008 GSE131907_LUAD_T0009\n",
       "FAM87B    0                    0                    0                   \n",
       "LINC00115 0                    0                    0                   \n",
       "FAM41C    0                    0                    0                   \n",
       "SAMD11    0                    0                    0                   \n",
       "NOC2L     3                    5                    0                   \n",
       "KLHL17    0                    0                    0                   \n",
       "          GSE131907_LUAD_T0018 GSE131907_LUAD_T0019 GSE131907_LUAD_T0020\n",
       "FAM87B    0                    0                    0                   \n",
       "LINC00115 0                    0                    0                   \n",
       "FAM41C    0                    0                    0                   \n",
       "SAMD11    0                    0                    0                   \n",
       "NOC2L     2                    5                    3                   \n",
       "KLHL17    0                    0                    0                   \n",
       "          GSE131907_LUAD_T0025 ⋯ PMID32561858_breast_51 PRJCA005422_HGSOC1_PT\n",
       "FAM87B    0                    ⋯ 0                      0                    \n",
       "LINC00115 1                    ⋯ 0                      0                    \n",
       "FAM41C    0                    ⋯ 0                      0                    \n",
       "SAMD11    0                    ⋯ 0                      0                    \n",
       "NOC2L     4                    ⋯ 4                      1                    \n",
       "KLHL17    0                    ⋯ 1                      0                    \n",
       "          PRJCA005422_HGSOC2_PT PRJCA005422_HGSOC3_PT PRJCA005422_HGSOC4_PT\n",
       "FAM87B    0                     0                     0                    \n",
       "LINC00115 0                     0                     0                    \n",
       "FAM41C    0                     0                     0                    \n",
       "SAMD11    0                     0                     0                    \n",
       "NOC2L     1                     1                     2                    \n",
       "KLHL17    0                     0                     0                    \n",
       "          PRJCA005422_HGSOC6_PT PRJCA005422_HGSOC7_PT PRJCA005422_HGSOC8_PT\n",
       "FAM87B    0                     0                     0                    \n",
       "LINC00115 0                     1                     0                    \n",
       "FAM41C    0                     0                     0                    \n",
       "SAMD11    0                     0                     0                    \n",
       "NOC2L     0                     1                     0                    \n",
       "KLHL17    0                     0                     0                    \n",
       "          PRJCA005422_HGSOC9_PT PRJCA005422_HGSOC10_PT\n",
       "FAM87B    0                     0                     \n",
       "LINC00115 0                     0                     \n",
       "FAM41C    0                     0                     \n",
       "SAMD11    0                     0                     \n",
       "NOC2L     0                     0                     \n",
       "KLHL17    0                     0                     "
      ]
     },
     "metadata": {},
     "output_type": "display_data"
    },
    {
     "data": {
      "text/html": [
       "<style>\n",
       ".list-inline {list-style: none; margin:0; padding: 0}\n",
       ".list-inline>li {display: inline-block}\n",
       ".list-inline>li:not(:last-child)::after {content: \"\\00b7\"; padding: 0 .5ex}\n",
       "</style>\n",
       "<ol class=list-inline><li>15074</li><li>333</li></ol>\n"
      ],
      "text/latex": [
       "\\begin{enumerate*}\n",
       "\\item 15074\n",
       "\\item 333\n",
       "\\end{enumerate*}\n"
      ],
      "text/markdown": [
       "1. 15074\n",
       "2. 333\n",
       "\n",
       "\n"
      ],
      "text/plain": [
       "[1] 15074   333"
      ]
     },
     "metadata": {},
     "output_type": "display_data"
    },
    {
     "data": {
      "text/html": [
       "<style>\n",
       ".list-inline {list-style: none; margin:0; padding: 0}\n",
       ".list-inline>li {display: inline-block}\n",
       ".list-inline>li:not(:last-child)::after {content: \"\\00b7\"; padding: 0 .5ex}\n",
       "</style>\n",
       "<ol class=list-inline><li>15074</li><li>363</li></ol>\n"
      ],
      "text/latex": [
       "\\begin{enumerate*}\n",
       "\\item 15074\n",
       "\\item 363\n",
       "\\end{enumerate*}\n"
      ],
      "text/markdown": [
       "1. 15074\n",
       "2. 363\n",
       "\n",
       "\n"
      ],
      "text/plain": [
       "[1] 15074   363"
      ]
     },
     "metadata": {},
     "output_type": "display_data"
    },
    {
     "data": {
      "text/html": [
       "<style>\n",
       ".list-inline {list-style: none; margin:0; padding: 0}\n",
       ".list-inline>li {display: inline-block}\n",
       ".list-inline>li:not(:last-child)::after {content: \"\\00b7\"; padding: 0 .5ex}\n",
       "</style>\n",
       "<ol class=list-inline><li>15074</li><li>333</li></ol>\n"
      ],
      "text/latex": [
       "\\begin{enumerate*}\n",
       "\\item 15074\n",
       "\\item 333\n",
       "\\end{enumerate*}\n"
      ],
      "text/markdown": [
       "1. 15074\n",
       "2. 333\n",
       "\n",
       "\n"
      ],
      "text/plain": [
       "[1] 15074   333"
      ]
     },
     "metadata": {},
     "output_type": "display_data"
    }
   ],
   "source": [
    "cts_DC1 <- read.csv(\"pseudobulk_DC1_data.csv\", row.names = 1)\n",
    "cts_DC2 <- read.csv(\"pseudobulk_DC2_data.csv\", row.names = 1)\n",
    "cts_mregDC <- read.csv(\"pseudobulk_mregDC_data.csv\", row.names = 1)\n",
    "head(cts_DC1)\n",
    "head(cts_DC2)\n",
    "head(cts_mregDC)\n",
    "dim(cts_DC1)\n",
    "dim(cts_DC2)\n",
    "dim(cts_mregDC)"
   ]
  },
  {
   "cell_type": "markdown",
   "id": "cbd97036",
   "metadata": {},
   "source": [
    "### Find average pseudobulk expression across all patients for each cancer-subset pair:"
   ]
  },
  {
   "cell_type": "code",
   "execution_count": 6,
   "id": "a5275849",
   "metadata": {
    "vscode": {
     "languageId": "r"
    }
   },
   "outputs": [
    {
     "data": {
      "text/html": [
       "<table class=\"dataframe\">\n",
       "<caption>A data.frame: 6 × 333</caption>\n",
       "<thead>\n",
       "\t<tr><th></th><th scope=col>GGSE223063_GLIO_1</th><th scope=col>GGSE223063_GLIO_3</th><th scope=col>GSE112271_HCC_Pt13</th><th scope=col>GSE112271_HCC_Pt14</th><th scope=col>GSE131907_LUAD_T0006</th><th scope=col>GSE131907_LUAD_T0008</th><th scope=col>GSE131907_LUAD_T0009</th><th scope=col>GSE131907_LUAD_T0018</th><th scope=col>GSE131907_LUAD_T0019</th><th scope=col>GSE131907_LUAD_T0020</th><th scope=col>⋯</th><th scope=col>PMID32561858_breast_50</th><th scope=col>PMID32561858_breast_51</th><th scope=col>PMID32561858_breast_52</th><th scope=col>PRJCA005422_HGSOC1_PT</th><th scope=col>PRJCA005422_HGSOC2_PT</th><th scope=col>PRJCA005422_HGSOC3_PT</th><th scope=col>PRJCA005422_HGSOC4_PT</th><th scope=col>PRJCA005422_HGSOC7_PT</th><th scope=col>PRJCA005422_HGSOC8_PT</th><th scope=col>PRJCA005422_HGSOC9_PT</th></tr>\n",
       "\t<tr><th></th><th scope=col>&lt;dbl&gt;</th><th scope=col>&lt;dbl&gt;</th><th scope=col>&lt;dbl&gt;</th><th scope=col>&lt;dbl&gt;</th><th scope=col>&lt;dbl&gt;</th><th scope=col>&lt;dbl&gt;</th><th scope=col>&lt;dbl&gt;</th><th scope=col>&lt;dbl&gt;</th><th scope=col>&lt;dbl&gt;</th><th scope=col>&lt;dbl&gt;</th><th scope=col>⋯</th><th scope=col>&lt;dbl&gt;</th><th scope=col>&lt;dbl&gt;</th><th scope=col>&lt;dbl&gt;</th><th scope=col>&lt;dbl&gt;</th><th scope=col>&lt;dbl&gt;</th><th scope=col>&lt;dbl&gt;</th><th scope=col>&lt;dbl&gt;</th><th scope=col>&lt;dbl&gt;</th><th scope=col>&lt;dbl&gt;</th><th scope=col>&lt;dbl&gt;</th></tr>\n",
       "</thead>\n",
       "<tbody>\n",
       "\t<tr><th scope=row>FAM87B</th><td>0</td><td>0</td><td>0</td><td>0</td><td>0</td><td>0</td><td>0</td><td>0</td><td>0</td><td>0</td><td>⋯</td><td>0</td><td>0</td><td>0</td><td>0</td><td>0</td><td>0</td><td>0</td><td>0</td><td>0</td><td>0</td></tr>\n",
       "\t<tr><th scope=row>LINC00115</th><td>0</td><td>0</td><td>0</td><td>1</td><td>0</td><td>0</td><td>1</td><td>0</td><td>0</td><td>0</td><td>⋯</td><td>0</td><td>0</td><td>0</td><td>0</td><td>1</td><td>1</td><td>1</td><td>0</td><td>0</td><td>0</td></tr>\n",
       "\t<tr><th scope=row>FAM41C</th><td>0</td><td>0</td><td>0</td><td>0</td><td>0</td><td>0</td><td>0</td><td>0</td><td>0</td><td>0</td><td>⋯</td><td>0</td><td>0</td><td>0</td><td>0</td><td>0</td><td>0</td><td>0</td><td>0</td><td>0</td><td>0</td></tr>\n",
       "\t<tr><th scope=row>SAMD11</th><td>0</td><td>0</td><td>0</td><td>0</td><td>1</td><td>0</td><td>0</td><td>0</td><td>0</td><td>0</td><td>⋯</td><td>0</td><td>0</td><td>0</td><td>0</td><td>0</td><td>0</td><td>0</td><td>1</td><td>0</td><td>0</td></tr>\n",
       "\t<tr><th scope=row>NOC2L</th><td>0</td><td>0</td><td>0</td><td>2</td><td>1</td><td>0</td><td>7</td><td>1</td><td>2</td><td>1</td><td>⋯</td><td>0</td><td>5</td><td>0</td><td>3</td><td>1</td><td>2</td><td>3</td><td>2</td><td>4</td><td>1</td></tr>\n",
       "\t<tr><th scope=row>KLHL17</th><td>0</td><td>0</td><td>0</td><td>0</td><td>0</td><td>0</td><td>0</td><td>0</td><td>0</td><td>0</td><td>⋯</td><td>0</td><td>1</td><td>0</td><td>0</td><td>0</td><td>0</td><td>0</td><td>0</td><td>0</td><td>0</td></tr>\n",
       "</tbody>\n",
       "</table>\n"
      ],
      "text/latex": [
       "A data.frame: 6 × 333\n",
       "\\begin{tabular}{r|lllllllllllllllllllll}\n",
       "  & GGSE223063\\_GLIO\\_1 & GGSE223063\\_GLIO\\_3 & GSE112271\\_HCC\\_Pt13 & GSE112271\\_HCC\\_Pt14 & GSE131907\\_LUAD\\_T0006 & GSE131907\\_LUAD\\_T0008 & GSE131907\\_LUAD\\_T0009 & GSE131907\\_LUAD\\_T0018 & GSE131907\\_LUAD\\_T0019 & GSE131907\\_LUAD\\_T0020 & ⋯ & PMID32561858\\_breast\\_50 & PMID32561858\\_breast\\_51 & PMID32561858\\_breast\\_52 & PRJCA005422\\_HGSOC1\\_PT & PRJCA005422\\_HGSOC2\\_PT & PRJCA005422\\_HGSOC3\\_PT & PRJCA005422\\_HGSOC4\\_PT & PRJCA005422\\_HGSOC7\\_PT & PRJCA005422\\_HGSOC8\\_PT & PRJCA005422\\_HGSOC9\\_PT\\\\\n",
       "  & <dbl> & <dbl> & <dbl> & <dbl> & <dbl> & <dbl> & <dbl> & <dbl> & <dbl> & <dbl> & ⋯ & <dbl> & <dbl> & <dbl> & <dbl> & <dbl> & <dbl> & <dbl> & <dbl> & <dbl> & <dbl>\\\\\n",
       "\\hline\n",
       "\tFAM87B & 0 & 0 & 0 & 0 & 0 & 0 & 0 & 0 & 0 & 0 & ⋯ & 0 & 0 & 0 & 0 & 0 & 0 & 0 & 0 & 0 & 0\\\\\n",
       "\tLINC00115 & 0 & 0 & 0 & 1 & 0 & 0 & 1 & 0 & 0 & 0 & ⋯ & 0 & 0 & 0 & 0 & 1 & 1 & 1 & 0 & 0 & 0\\\\\n",
       "\tFAM41C & 0 & 0 & 0 & 0 & 0 & 0 & 0 & 0 & 0 & 0 & ⋯ & 0 & 0 & 0 & 0 & 0 & 0 & 0 & 0 & 0 & 0\\\\\n",
       "\tSAMD11 & 0 & 0 & 0 & 0 & 1 & 0 & 0 & 0 & 0 & 0 & ⋯ & 0 & 0 & 0 & 0 & 0 & 0 & 0 & 1 & 0 & 0\\\\\n",
       "\tNOC2L & 0 & 0 & 0 & 2 & 1 & 0 & 7 & 1 & 2 & 1 & ⋯ & 0 & 5 & 0 & 3 & 1 & 2 & 3 & 2 & 4 & 1\\\\\n",
       "\tKLHL17 & 0 & 0 & 0 & 0 & 0 & 0 & 0 & 0 & 0 & 0 & ⋯ & 0 & 1 & 0 & 0 & 0 & 0 & 0 & 0 & 0 & 0\\\\\n",
       "\\end{tabular}\n"
      ],
      "text/markdown": [
       "\n",
       "A data.frame: 6 × 333\n",
       "\n",
       "| <!--/--> | GGSE223063_GLIO_1 &lt;dbl&gt; | GGSE223063_GLIO_3 &lt;dbl&gt; | GSE112271_HCC_Pt13 &lt;dbl&gt; | GSE112271_HCC_Pt14 &lt;dbl&gt; | GSE131907_LUAD_T0006 &lt;dbl&gt; | GSE131907_LUAD_T0008 &lt;dbl&gt; | GSE131907_LUAD_T0009 &lt;dbl&gt; | GSE131907_LUAD_T0018 &lt;dbl&gt; | GSE131907_LUAD_T0019 &lt;dbl&gt; | GSE131907_LUAD_T0020 &lt;dbl&gt; | ⋯ ⋯ | PMID32561858_breast_50 &lt;dbl&gt; | PMID32561858_breast_51 &lt;dbl&gt; | PMID32561858_breast_52 &lt;dbl&gt; | PRJCA005422_HGSOC1_PT &lt;dbl&gt; | PRJCA005422_HGSOC2_PT &lt;dbl&gt; | PRJCA005422_HGSOC3_PT &lt;dbl&gt; | PRJCA005422_HGSOC4_PT &lt;dbl&gt; | PRJCA005422_HGSOC7_PT &lt;dbl&gt; | PRJCA005422_HGSOC8_PT &lt;dbl&gt; | PRJCA005422_HGSOC9_PT &lt;dbl&gt; |\n",
       "|---|---|---|---|---|---|---|---|---|---|---|---|---|---|---|---|---|---|---|---|---|---|\n",
       "| FAM87B | 0 | 0 | 0 | 0 | 0 | 0 | 0 | 0 | 0 | 0 | ⋯ | 0 | 0 | 0 | 0 | 0 | 0 | 0 | 0 | 0 | 0 |\n",
       "| LINC00115 | 0 | 0 | 0 | 1 | 0 | 0 | 1 | 0 | 0 | 0 | ⋯ | 0 | 0 | 0 | 0 | 1 | 1 | 1 | 0 | 0 | 0 |\n",
       "| FAM41C | 0 | 0 | 0 | 0 | 0 | 0 | 0 | 0 | 0 | 0 | ⋯ | 0 | 0 | 0 | 0 | 0 | 0 | 0 | 0 | 0 | 0 |\n",
       "| SAMD11 | 0 | 0 | 0 | 0 | 1 | 0 | 0 | 0 | 0 | 0 | ⋯ | 0 | 0 | 0 | 0 | 0 | 0 | 0 | 1 | 0 | 0 |\n",
       "| NOC2L | 0 | 0 | 0 | 2 | 1 | 0 | 7 | 1 | 2 | 1 | ⋯ | 0 | 5 | 0 | 3 | 1 | 2 | 3 | 2 | 4 | 1 |\n",
       "| KLHL17 | 0 | 0 | 0 | 0 | 0 | 0 | 0 | 0 | 0 | 0 | ⋯ | 0 | 1 | 0 | 0 | 0 | 0 | 0 | 0 | 0 | 0 |\n",
       "\n"
      ],
      "text/plain": [
       "          GGSE223063_GLIO_1 GGSE223063_GLIO_3 GSE112271_HCC_Pt13\n",
       "FAM87B    0                 0                 0                 \n",
       "LINC00115 0                 0                 0                 \n",
       "FAM41C    0                 0                 0                 \n",
       "SAMD11    0                 0                 0                 \n",
       "NOC2L     0                 0                 0                 \n",
       "KLHL17    0                 0                 0                 \n",
       "          GSE112271_HCC_Pt14 GSE131907_LUAD_T0006 GSE131907_LUAD_T0008\n",
       "FAM87B    0                  0                    0                   \n",
       "LINC00115 1                  0                    0                   \n",
       "FAM41C    0                  0                    0                   \n",
       "SAMD11    0                  1                    0                   \n",
       "NOC2L     2                  1                    0                   \n",
       "KLHL17    0                  0                    0                   \n",
       "          GSE131907_LUAD_T0009 GSE131907_LUAD_T0018 GSE131907_LUAD_T0019\n",
       "FAM87B    0                    0                    0                   \n",
       "LINC00115 1                    0                    0                   \n",
       "FAM41C    0                    0                    0                   \n",
       "SAMD11    0                    0                    0                   \n",
       "NOC2L     7                    1                    2                   \n",
       "KLHL17    0                    0                    0                   \n",
       "          GSE131907_LUAD_T0020 ⋯ PMID32561858_breast_50 PMID32561858_breast_51\n",
       "FAM87B    0                    ⋯ 0                      0                     \n",
       "LINC00115 0                    ⋯ 0                      0                     \n",
       "FAM41C    0                    ⋯ 0                      0                     \n",
       "SAMD11    0                    ⋯ 0                      0                     \n",
       "NOC2L     1                    ⋯ 0                      5                     \n",
       "KLHL17    0                    ⋯ 0                      1                     \n",
       "          PMID32561858_breast_52 PRJCA005422_HGSOC1_PT PRJCA005422_HGSOC2_PT\n",
       "FAM87B    0                      0                     0                    \n",
       "LINC00115 0                      0                     1                    \n",
       "FAM41C    0                      0                     0                    \n",
       "SAMD11    0                      0                     0                    \n",
       "NOC2L     0                      3                     1                    \n",
       "KLHL17    0                      0                     0                    \n",
       "          PRJCA005422_HGSOC3_PT PRJCA005422_HGSOC4_PT PRJCA005422_HGSOC7_PT\n",
       "FAM87B    0                     0                     0                    \n",
       "LINC00115 1                     1                     0                    \n",
       "FAM41C    0                     0                     0                    \n",
       "SAMD11    0                     0                     1                    \n",
       "NOC2L     2                     3                     2                    \n",
       "KLHL17    0                     0                     0                    \n",
       "          PRJCA005422_HGSOC8_PT PRJCA005422_HGSOC9_PT\n",
       "FAM87B    0                     0                    \n",
       "LINC00115 0                     0                    \n",
       "FAM41C    0                     0                    \n",
       "SAMD11    0                     0                    \n",
       "NOC2L     4                     1                    \n",
       "KLHL17    0                     0                    "
      ]
     },
     "metadata": {},
     "output_type": "display_data"
    }
   ],
   "source": [
    "head(cts_DC1)"
   ]
  },
  {
   "cell_type": "code",
   "execution_count": null,
   "id": "02bcd4db",
   "metadata": {
    "vscode": {
     "languageId": "r"
    }
   },
   "outputs": [],
   "source": [
    "# transpose\n",
    "cts_DC1_t <- as.data.frame(t(cts_DC1)) "
   ]
  },
  {
   "cell_type": "code",
   "execution_count": 15,
   "id": "e7b03e78",
   "metadata": {
    "vscode": {
     "languageId": "r"
    }
   },
   "outputs": [
    {
     "data": {
      "text/html": [
       "<table class=\"dataframe\">\n",
       "<caption>A data.frame: 6 × 15074</caption>\n",
       "<thead>\n",
       "\t<tr><th></th><th scope=col>FAM87B</th><th scope=col>LINC00115</th><th scope=col>FAM41C</th><th scope=col>SAMD11</th><th scope=col>NOC2L</th><th scope=col>KLHL17</th><th scope=col>PLEKHN1</th><th scope=col>HES4</th><th scope=col>ISG15</th><th scope=col>AGRN</th><th scope=col>⋯</th><th scope=col>MT-CO2</th><th scope=col>MT-ATP8</th><th scope=col>MT-ATP6</th><th scope=col>MT-CO3</th><th scope=col>MT-ND3</th><th scope=col>MT-ND4L</th><th scope=col>MT-ND4</th><th scope=col>MT-ND5</th><th scope=col>MT-ND6</th><th scope=col>MT-CYB</th></tr>\n",
       "\t<tr><th></th><th scope=col>&lt;dbl&gt;</th><th scope=col>&lt;dbl&gt;</th><th scope=col>&lt;dbl&gt;</th><th scope=col>&lt;dbl&gt;</th><th scope=col>&lt;dbl&gt;</th><th scope=col>&lt;dbl&gt;</th><th scope=col>&lt;dbl&gt;</th><th scope=col>&lt;dbl&gt;</th><th scope=col>&lt;dbl&gt;</th><th scope=col>&lt;dbl&gt;</th><th scope=col>⋯</th><th scope=col>&lt;dbl&gt;</th><th scope=col>&lt;dbl&gt;</th><th scope=col>&lt;dbl&gt;</th><th scope=col>&lt;dbl&gt;</th><th scope=col>&lt;dbl&gt;</th><th scope=col>&lt;dbl&gt;</th><th scope=col>&lt;dbl&gt;</th><th scope=col>&lt;dbl&gt;</th><th scope=col>&lt;dbl&gt;</th><th scope=col>&lt;dbl&gt;</th></tr>\n",
       "</thead>\n",
       "<tbody>\n",
       "\t<tr><th scope=row>GGSE223063_GLIO_1</th><td>0</td><td>0</td><td>0</td><td>0</td><td>0</td><td>0</td><td>0</td><td>0</td><td> 7</td><td>0</td><td>⋯</td><td>2149</td><td> 9</td><td>2337</td><td>2353</td><td>1302</td><td> 34</td><td>1289</td><td>263</td><td>36</td><td>1598</td></tr>\n",
       "\t<tr><th scope=row>GGSE223063_GLIO_3</th><td>0</td><td>0</td><td>0</td><td>0</td><td>0</td><td>0</td><td>0</td><td>0</td><td> 0</td><td>0</td><td>⋯</td><td> 238</td><td> 1</td><td> 303</td><td> 412</td><td>  94</td><td>  2</td><td> 143</td><td> 36</td><td> 5</td><td> 187</td></tr>\n",
       "\t<tr><th scope=row>GSE112271_HCC_Pt13</th><td>0</td><td>0</td><td>0</td><td>0</td><td>0</td><td>0</td><td>0</td><td>1</td><td> 0</td><td>0</td><td>⋯</td><td>  81</td><td> 0</td><td>  62</td><td>  76</td><td> 141</td><td>  8</td><td>  76</td><td> 11</td><td> 0</td><td>  44</td></tr>\n",
       "\t<tr><th scope=row>GSE112271_HCC_Pt14</th><td>0</td><td>1</td><td>0</td><td>0</td><td>2</td><td>0</td><td>0</td><td>4</td><td>14</td><td>1</td><td>⋯</td><td> 805</td><td>36</td><td>1027</td><td> 919</td><td>1072</td><td>117</td><td>1053</td><td>169</td><td> 4</td><td> 647</td></tr>\n",
       "\t<tr><th scope=row>GSE131907_LUAD_T0006</th><td>0</td><td>0</td><td>0</td><td>1</td><td>1</td><td>0</td><td>1</td><td>0</td><td>13</td><td>0</td><td>⋯</td><td> 400</td><td> 0</td><td> 289</td><td> 432</td><td> 144</td><td>  9</td><td> 311</td><td> 39</td><td> 3</td><td> 225</td></tr>\n",
       "\t<tr><th scope=row>GSE131907_LUAD_T0008</th><td>0</td><td>0</td><td>0</td><td>0</td><td>0</td><td>0</td><td>0</td><td>0</td><td> 2</td><td>0</td><td>⋯</td><td> 106</td><td> 0</td><td>  87</td><td> 138</td><td>  29</td><td>  1</td><td>  96</td><td> 17</td><td> 0</td><td>  72</td></tr>\n",
       "</tbody>\n",
       "</table>\n"
      ],
      "text/latex": [
       "A data.frame: 6 × 15074\n",
       "\\begin{tabular}{r|lllllllllllllllllllll}\n",
       "  & FAM87B & LINC00115 & FAM41C & SAMD11 & NOC2L & KLHL17 & PLEKHN1 & HES4 & ISG15 & AGRN & ⋯ & MT-CO2 & MT-ATP8 & MT-ATP6 & MT-CO3 & MT-ND3 & MT-ND4L & MT-ND4 & MT-ND5 & MT-ND6 & MT-CYB\\\\\n",
       "  & <dbl> & <dbl> & <dbl> & <dbl> & <dbl> & <dbl> & <dbl> & <dbl> & <dbl> & <dbl> & ⋯ & <dbl> & <dbl> & <dbl> & <dbl> & <dbl> & <dbl> & <dbl> & <dbl> & <dbl> & <dbl>\\\\\n",
       "\\hline\n",
       "\tGGSE223063\\_GLIO\\_1 & 0 & 0 & 0 & 0 & 0 & 0 & 0 & 0 &  7 & 0 & ⋯ & 2149 &  9 & 2337 & 2353 & 1302 &  34 & 1289 & 263 & 36 & 1598\\\\\n",
       "\tGGSE223063\\_GLIO\\_3 & 0 & 0 & 0 & 0 & 0 & 0 & 0 & 0 &  0 & 0 & ⋯ &  238 &  1 &  303 &  412 &   94 &   2 &  143 &  36 &  5 &  187\\\\\n",
       "\tGSE112271\\_HCC\\_Pt13 & 0 & 0 & 0 & 0 & 0 & 0 & 0 & 1 &  0 & 0 & ⋯ &   81 &  0 &   62 &   76 &  141 &   8 &   76 &  11 &  0 &   44\\\\\n",
       "\tGSE112271\\_HCC\\_Pt14 & 0 & 1 & 0 & 0 & 2 & 0 & 0 & 4 & 14 & 1 & ⋯ &  805 & 36 & 1027 &  919 & 1072 & 117 & 1053 & 169 &  4 &  647\\\\\n",
       "\tGSE131907\\_LUAD\\_T0006 & 0 & 0 & 0 & 1 & 1 & 0 & 1 & 0 & 13 & 0 & ⋯ &  400 &  0 &  289 &  432 &  144 &   9 &  311 &  39 &  3 &  225\\\\\n",
       "\tGSE131907\\_LUAD\\_T0008 & 0 & 0 & 0 & 0 & 0 & 0 & 0 & 0 &  2 & 0 & ⋯ &  106 &  0 &   87 &  138 &   29 &   1 &   96 &  17 &  0 &   72\\\\\n",
       "\\end{tabular}\n"
      ],
      "text/markdown": [
       "\n",
       "A data.frame: 6 × 15074\n",
       "\n",
       "| <!--/--> | FAM87B &lt;dbl&gt; | LINC00115 &lt;dbl&gt; | FAM41C &lt;dbl&gt; | SAMD11 &lt;dbl&gt; | NOC2L &lt;dbl&gt; | KLHL17 &lt;dbl&gt; | PLEKHN1 &lt;dbl&gt; | HES4 &lt;dbl&gt; | ISG15 &lt;dbl&gt; | AGRN &lt;dbl&gt; | ⋯ ⋯ | MT-CO2 &lt;dbl&gt; | MT-ATP8 &lt;dbl&gt; | MT-ATP6 &lt;dbl&gt; | MT-CO3 &lt;dbl&gt; | MT-ND3 &lt;dbl&gt; | MT-ND4L &lt;dbl&gt; | MT-ND4 &lt;dbl&gt; | MT-ND5 &lt;dbl&gt; | MT-ND6 &lt;dbl&gt; | MT-CYB &lt;dbl&gt; |\n",
       "|---|---|---|---|---|---|---|---|---|---|---|---|---|---|---|---|---|---|---|---|---|---|\n",
       "| GGSE223063_GLIO_1 | 0 | 0 | 0 | 0 | 0 | 0 | 0 | 0 |  7 | 0 | ⋯ | 2149 |  9 | 2337 | 2353 | 1302 |  34 | 1289 | 263 | 36 | 1598 |\n",
       "| GGSE223063_GLIO_3 | 0 | 0 | 0 | 0 | 0 | 0 | 0 | 0 |  0 | 0 | ⋯ |  238 |  1 |  303 |  412 |   94 |   2 |  143 |  36 |  5 |  187 |\n",
       "| GSE112271_HCC_Pt13 | 0 | 0 | 0 | 0 | 0 | 0 | 0 | 1 |  0 | 0 | ⋯ |   81 |  0 |   62 |   76 |  141 |   8 |   76 |  11 |  0 |   44 |\n",
       "| GSE112271_HCC_Pt14 | 0 | 1 | 0 | 0 | 2 | 0 | 0 | 4 | 14 | 1 | ⋯ |  805 | 36 | 1027 |  919 | 1072 | 117 | 1053 | 169 |  4 |  647 |\n",
       "| GSE131907_LUAD_T0006 | 0 | 0 | 0 | 1 | 1 | 0 | 1 | 0 | 13 | 0 | ⋯ |  400 |  0 |  289 |  432 |  144 |   9 |  311 |  39 |  3 |  225 |\n",
       "| GSE131907_LUAD_T0008 | 0 | 0 | 0 | 0 | 0 | 0 | 0 | 0 |  2 | 0 | ⋯ |  106 |  0 |   87 |  138 |   29 |   1 |   96 |  17 |  0 |   72 |\n",
       "\n"
      ],
      "text/plain": [
       "                     FAM87B LINC00115 FAM41C SAMD11 NOC2L KLHL17 PLEKHN1 HES4\n",
       "GGSE223063_GLIO_1    0      0         0      0      0     0      0       0   \n",
       "GGSE223063_GLIO_3    0      0         0      0      0     0      0       0   \n",
       "GSE112271_HCC_Pt13   0      0         0      0      0     0      0       1   \n",
       "GSE112271_HCC_Pt14   0      1         0      0      2     0      0       4   \n",
       "GSE131907_LUAD_T0006 0      0         0      1      1     0      1       0   \n",
       "GSE131907_LUAD_T0008 0      0         0      0      0     0      0       0   \n",
       "                     ISG15 AGRN ⋯ MT-CO2 MT-ATP8 MT-ATP6 MT-CO3 MT-ND3 MT-ND4L\n",
       "GGSE223063_GLIO_1     7    0    ⋯ 2149    9      2337    2353   1302    34    \n",
       "GGSE223063_GLIO_3     0    0    ⋯  238    1       303     412     94     2    \n",
       "GSE112271_HCC_Pt13    0    0    ⋯   81    0        62      76    141     8    \n",
       "GSE112271_HCC_Pt14   14    1    ⋯  805   36      1027     919   1072   117    \n",
       "GSE131907_LUAD_T0006 13    0    ⋯  400    0       289     432    144     9    \n",
       "GSE131907_LUAD_T0008  2    0    ⋯  106    0        87     138     29     1    \n",
       "                     MT-ND4 MT-ND5 MT-ND6 MT-CYB\n",
       "GGSE223063_GLIO_1    1289   263    36     1598  \n",
       "GGSE223063_GLIO_3     143    36     5      187  \n",
       "GSE112271_HCC_Pt13     76    11     0       44  \n",
       "GSE112271_HCC_Pt14   1053   169     4      647  \n",
       "GSE131907_LUAD_T0006  311    39     3      225  \n",
       "GSE131907_LUAD_T0008   96    17     0       72  "
      ]
     },
     "metadata": {},
     "output_type": "display_data"
    }
   ],
   "source": [
    "head(cts_DC1_t)"
   ]
  },
  {
   "cell_type": "code",
   "execution_count": null,
   "id": "6e9854df",
   "metadata": {
    "vscode": {
     "languageId": "r"
    }
   },
   "outputs": [],
   "source": [
    "# Add cancer info to expression matrix\n",
    "cts_DC1_t$cancer <- sampleinfo_DC1[rownames(cts_DC1_t), \"cancer_broadest\"]"
   ]
  },
  {
   "cell_type": "code",
   "execution_count": 19,
   "id": "b4b6ee2e",
   "metadata": {
    "vscode": {
     "languageId": "r"
    }
   },
   "outputs": [
    {
     "data": {
      "text/html": [
       "<table class=\"dataframe\">\n",
       "<caption>A data.frame: 6 × 15075</caption>\n",
       "<thead>\n",
       "\t<tr><th></th><th scope=col>FAM87B</th><th scope=col>LINC00115</th><th scope=col>FAM41C</th><th scope=col>SAMD11</th><th scope=col>NOC2L</th><th scope=col>KLHL17</th><th scope=col>PLEKHN1</th><th scope=col>HES4</th><th scope=col>ISG15</th><th scope=col>AGRN</th><th scope=col>⋯</th><th scope=col>MT-ATP8</th><th scope=col>MT-ATP6</th><th scope=col>MT-CO3</th><th scope=col>MT-ND3</th><th scope=col>MT-ND4L</th><th scope=col>MT-ND4</th><th scope=col>MT-ND5</th><th scope=col>MT-ND6</th><th scope=col>MT-CYB</th><th scope=col>cancer</th></tr>\n",
       "\t<tr><th></th><th scope=col>&lt;dbl&gt;</th><th scope=col>&lt;dbl&gt;</th><th scope=col>&lt;dbl&gt;</th><th scope=col>&lt;dbl&gt;</th><th scope=col>&lt;dbl&gt;</th><th scope=col>&lt;dbl&gt;</th><th scope=col>&lt;dbl&gt;</th><th scope=col>&lt;dbl&gt;</th><th scope=col>&lt;dbl&gt;</th><th scope=col>&lt;dbl&gt;</th><th scope=col>⋯</th><th scope=col>&lt;dbl&gt;</th><th scope=col>&lt;dbl&gt;</th><th scope=col>&lt;dbl&gt;</th><th scope=col>&lt;dbl&gt;</th><th scope=col>&lt;dbl&gt;</th><th scope=col>&lt;dbl&gt;</th><th scope=col>&lt;dbl&gt;</th><th scope=col>&lt;dbl&gt;</th><th scope=col>&lt;dbl&gt;</th><th scope=col>&lt;chr&gt;</th></tr>\n",
       "</thead>\n",
       "<tbody>\n",
       "\t<tr><th scope=row>GGSE223063_GLIO_1</th><td>0</td><td>0</td><td>0</td><td>0</td><td>0</td><td>0</td><td>0</td><td>0</td><td> 7</td><td>0</td><td>⋯</td><td> 9</td><td>2337</td><td>2353</td><td>1302</td><td> 34</td><td>1289</td><td>263</td><td>36</td><td>1598</td><td>GBM  </td></tr>\n",
       "\t<tr><th scope=row>GGSE223063_GLIO_3</th><td>0</td><td>0</td><td>0</td><td>0</td><td>0</td><td>0</td><td>0</td><td>0</td><td> 0</td><td>0</td><td>⋯</td><td> 1</td><td> 303</td><td> 412</td><td>  94</td><td>  2</td><td> 143</td><td> 36</td><td> 5</td><td> 187</td><td>GBM  </td></tr>\n",
       "\t<tr><th scope=row>GSE112271_HCC_Pt13</th><td>0</td><td>0</td><td>0</td><td>0</td><td>0</td><td>0</td><td>0</td><td>1</td><td> 0</td><td>0</td><td>⋯</td><td> 0</td><td>  62</td><td>  76</td><td> 141</td><td>  8</td><td>  76</td><td> 11</td><td> 0</td><td>  44</td><td>HCC  </td></tr>\n",
       "\t<tr><th scope=row>GSE112271_HCC_Pt14</th><td>0</td><td>1</td><td>0</td><td>0</td><td>2</td><td>0</td><td>0</td><td>4</td><td>14</td><td>1</td><td>⋯</td><td>36</td><td>1027</td><td> 919</td><td>1072</td><td>117</td><td>1053</td><td>169</td><td> 4</td><td> 647</td><td>HCC  </td></tr>\n",
       "\t<tr><th scope=row>GSE131907_LUAD_T0006</th><td>0</td><td>0</td><td>0</td><td>1</td><td>1</td><td>0</td><td>1</td><td>0</td><td>13</td><td>0</td><td>⋯</td><td> 0</td><td> 289</td><td> 432</td><td> 144</td><td>  9</td><td> 311</td><td> 39</td><td> 3</td><td> 225</td><td>NSCLC</td></tr>\n",
       "\t<tr><th scope=row>GSE131907_LUAD_T0008</th><td>0</td><td>0</td><td>0</td><td>0</td><td>0</td><td>0</td><td>0</td><td>0</td><td> 2</td><td>0</td><td>⋯</td><td> 0</td><td>  87</td><td> 138</td><td>  29</td><td>  1</td><td>  96</td><td> 17</td><td> 0</td><td>  72</td><td>NSCLC</td></tr>\n",
       "</tbody>\n",
       "</table>\n"
      ],
      "text/latex": [
       "A data.frame: 6 × 15075\n",
       "\\begin{tabular}{r|lllllllllllllllllllll}\n",
       "  & FAM87B & LINC00115 & FAM41C & SAMD11 & NOC2L & KLHL17 & PLEKHN1 & HES4 & ISG15 & AGRN & ⋯ & MT-ATP8 & MT-ATP6 & MT-CO3 & MT-ND3 & MT-ND4L & MT-ND4 & MT-ND5 & MT-ND6 & MT-CYB & cancer\\\\\n",
       "  & <dbl> & <dbl> & <dbl> & <dbl> & <dbl> & <dbl> & <dbl> & <dbl> & <dbl> & <dbl> & ⋯ & <dbl> & <dbl> & <dbl> & <dbl> & <dbl> & <dbl> & <dbl> & <dbl> & <dbl> & <chr>\\\\\n",
       "\\hline\n",
       "\tGGSE223063\\_GLIO\\_1 & 0 & 0 & 0 & 0 & 0 & 0 & 0 & 0 &  7 & 0 & ⋯ &  9 & 2337 & 2353 & 1302 &  34 & 1289 & 263 & 36 & 1598 & GBM  \\\\\n",
       "\tGGSE223063\\_GLIO\\_3 & 0 & 0 & 0 & 0 & 0 & 0 & 0 & 0 &  0 & 0 & ⋯ &  1 &  303 &  412 &   94 &   2 &  143 &  36 &  5 &  187 & GBM  \\\\\n",
       "\tGSE112271\\_HCC\\_Pt13 & 0 & 0 & 0 & 0 & 0 & 0 & 0 & 1 &  0 & 0 & ⋯ &  0 &   62 &   76 &  141 &   8 &   76 &  11 &  0 &   44 & HCC  \\\\\n",
       "\tGSE112271\\_HCC\\_Pt14 & 0 & 1 & 0 & 0 & 2 & 0 & 0 & 4 & 14 & 1 & ⋯ & 36 & 1027 &  919 & 1072 & 117 & 1053 & 169 &  4 &  647 & HCC  \\\\\n",
       "\tGSE131907\\_LUAD\\_T0006 & 0 & 0 & 0 & 1 & 1 & 0 & 1 & 0 & 13 & 0 & ⋯ &  0 &  289 &  432 &  144 &   9 &  311 &  39 &  3 &  225 & NSCLC\\\\\n",
       "\tGSE131907\\_LUAD\\_T0008 & 0 & 0 & 0 & 0 & 0 & 0 & 0 & 0 &  2 & 0 & ⋯ &  0 &   87 &  138 &   29 &   1 &   96 &  17 &  0 &   72 & NSCLC\\\\\n",
       "\\end{tabular}\n"
      ],
      "text/markdown": [
       "\n",
       "A data.frame: 6 × 15075\n",
       "\n",
       "| <!--/--> | FAM87B &lt;dbl&gt; | LINC00115 &lt;dbl&gt; | FAM41C &lt;dbl&gt; | SAMD11 &lt;dbl&gt; | NOC2L &lt;dbl&gt; | KLHL17 &lt;dbl&gt; | PLEKHN1 &lt;dbl&gt; | HES4 &lt;dbl&gt; | ISG15 &lt;dbl&gt; | AGRN &lt;dbl&gt; | ⋯ ⋯ | MT-ATP8 &lt;dbl&gt; | MT-ATP6 &lt;dbl&gt; | MT-CO3 &lt;dbl&gt; | MT-ND3 &lt;dbl&gt; | MT-ND4L &lt;dbl&gt; | MT-ND4 &lt;dbl&gt; | MT-ND5 &lt;dbl&gt; | MT-ND6 &lt;dbl&gt; | MT-CYB &lt;dbl&gt; | cancer &lt;chr&gt; |\n",
       "|---|---|---|---|---|---|---|---|---|---|---|---|---|---|---|---|---|---|---|---|---|---|\n",
       "| GGSE223063_GLIO_1 | 0 | 0 | 0 | 0 | 0 | 0 | 0 | 0 |  7 | 0 | ⋯ |  9 | 2337 | 2353 | 1302 |  34 | 1289 | 263 | 36 | 1598 | GBM   |\n",
       "| GGSE223063_GLIO_3 | 0 | 0 | 0 | 0 | 0 | 0 | 0 | 0 |  0 | 0 | ⋯ |  1 |  303 |  412 |   94 |   2 |  143 |  36 |  5 |  187 | GBM   |\n",
       "| GSE112271_HCC_Pt13 | 0 | 0 | 0 | 0 | 0 | 0 | 0 | 1 |  0 | 0 | ⋯ |  0 |   62 |   76 |  141 |   8 |   76 |  11 |  0 |   44 | HCC   |\n",
       "| GSE112271_HCC_Pt14 | 0 | 1 | 0 | 0 | 2 | 0 | 0 | 4 | 14 | 1 | ⋯ | 36 | 1027 |  919 | 1072 | 117 | 1053 | 169 |  4 |  647 | HCC   |\n",
       "| GSE131907_LUAD_T0006 | 0 | 0 | 0 | 1 | 1 | 0 | 1 | 0 | 13 | 0 | ⋯ |  0 |  289 |  432 |  144 |   9 |  311 |  39 |  3 |  225 | NSCLC |\n",
       "| GSE131907_LUAD_T0008 | 0 | 0 | 0 | 0 | 0 | 0 | 0 | 0 |  2 | 0 | ⋯ |  0 |   87 |  138 |   29 |   1 |   96 |  17 |  0 |   72 | NSCLC |\n",
       "\n"
      ],
      "text/plain": [
       "                     FAM87B LINC00115 FAM41C SAMD11 NOC2L KLHL17 PLEKHN1 HES4\n",
       "GGSE223063_GLIO_1    0      0         0      0      0     0      0       0   \n",
       "GGSE223063_GLIO_3    0      0         0      0      0     0      0       0   \n",
       "GSE112271_HCC_Pt13   0      0         0      0      0     0      0       1   \n",
       "GSE112271_HCC_Pt14   0      1         0      0      2     0      0       4   \n",
       "GSE131907_LUAD_T0006 0      0         0      1      1     0      1       0   \n",
       "GSE131907_LUAD_T0008 0      0         0      0      0     0      0       0   \n",
       "                     ISG15 AGRN ⋯ MT-ATP8 MT-ATP6 MT-CO3 MT-ND3 MT-ND4L MT-ND4\n",
       "GGSE223063_GLIO_1     7    0    ⋯  9      2337    2353   1302    34     1289  \n",
       "GGSE223063_GLIO_3     0    0    ⋯  1       303     412     94     2      143  \n",
       "GSE112271_HCC_Pt13    0    0    ⋯  0        62      76    141     8       76  \n",
       "GSE112271_HCC_Pt14   14    1    ⋯ 36      1027     919   1072   117     1053  \n",
       "GSE131907_LUAD_T0006 13    0    ⋯  0       289     432    144     9      311  \n",
       "GSE131907_LUAD_T0008  2    0    ⋯  0        87     138     29     1       96  \n",
       "                     MT-ND5 MT-ND6 MT-CYB cancer\n",
       "GGSE223063_GLIO_1    263    36     1598   GBM   \n",
       "GGSE223063_GLIO_3     36     5      187   GBM   \n",
       "GSE112271_HCC_Pt13    11     0       44   HCC   \n",
       "GSE112271_HCC_Pt14   169     4      647   HCC   \n",
       "GSE131907_LUAD_T0006  39     3      225   NSCLC \n",
       "GSE131907_LUAD_T0008  17     0       72   NSCLC "
      ]
     },
     "metadata": {},
     "output_type": "display_data"
    }
   ],
   "source": [
    "head(cts_DC1_t)"
   ]
  },
  {
   "cell_type": "code",
   "execution_count": 20,
   "id": "4f093505",
   "metadata": {
    "vscode": {
     "languageId": "r"
    }
   },
   "outputs": [],
   "source": [
    "#calculate mean expression per gene per cancer\n",
    "avg_expr_DC1 <- cts_DC1_t %>%\n",
    "  group_by(cancer) %>%\n",
    "  summarise(across(where(is.numeric), mean), .groups = \"drop\")"
   ]
  },
  {
   "cell_type": "code",
   "execution_count": null,
   "id": "16f77e86",
   "metadata": {
    "vscode": {
     "languageId": "r"
    }
   },
   "outputs": [],
   "source": [
    "avg_expr_DC1_mat <- as.data.frame(t(avg_expr_DC1[,-1]))  # remove cancer column \n",
    "colnames(avg_expr_DC1_mat) <- avg_expr_DC1$cancer"
   ]
  },
  {
   "cell_type": "code",
   "execution_count": 23,
   "id": "39728006",
   "metadata": {
    "vscode": {
     "languageId": "r"
    }
   },
   "outputs": [
    {
     "data": {
      "text/html": [
       "<table class=\"dataframe\">\n",
       "<caption>A data.frame: 6 × 13</caption>\n",
       "<thead>\n",
       "\t<tr><th></th><th scope=col>BC</th><th scope=col>CRC</th><th scope=col>GAC</th><th scope=col>GBM</th><th scope=col>HCC</th><th scope=col>HGSOC</th><th scope=col>HNSCC</th><th scope=col>MEL</th><th scope=col>NPC</th><th scope=col>NSCLC</th><th scope=col>PDAC</th><th scope=col>iCCA</th><th scope=col>NA</th></tr>\n",
       "\t<tr><th></th><th scope=col>&lt;dbl&gt;</th><th scope=col>&lt;dbl&gt;</th><th scope=col>&lt;dbl&gt;</th><th scope=col>&lt;dbl&gt;</th><th scope=col>&lt;dbl&gt;</th><th scope=col>&lt;dbl&gt;</th><th scope=col>&lt;dbl&gt;</th><th scope=col>&lt;dbl&gt;</th><th scope=col>&lt;dbl&gt;</th><th scope=col>&lt;dbl&gt;</th><th scope=col>&lt;dbl&gt;</th><th scope=col>&lt;dbl&gt;</th><th scope=col>&lt;dbl&gt;</th></tr>\n",
       "</thead>\n",
       "<tbody>\n",
       "\t<tr><th scope=row>FAM87B</th><td>0.00000000</td><td>0.0000000</td><td>0.0</td><td>0.00000000</td><td>0.0000000</td><td>0.04761905</td><td>0.02083333</td><td>0.0000000</td><td>0.1428571</td><td>0.00000000</td><td>0.0000000</td><td>0.0000000</td><td>0.08510638</td></tr>\n",
       "\t<tr><th scope=row>LINC00115</th><td>0.20338983</td><td>0.0000000</td><td>0.0</td><td>0.28571429</td><td>0.6666667</td><td>0.57142857</td><td>0.27083333</td><td>0.1666667</td><td>0.5714286</td><td>0.43478261</td><td>0.1111111</td><td>0.6666667</td><td>0.21276596</td></tr>\n",
       "\t<tr><th scope=row>FAM41C</th><td>0.10169492</td><td>0.2857143</td><td>0.0</td><td>0.04761905</td><td>0.6666667</td><td>0.52380952</td><td>0.22916667</td><td>0.0000000</td><td>0.0000000</td><td>0.28260870</td><td>0.0000000</td><td>0.0000000</td><td>0.10638298</td></tr>\n",
       "\t<tr><th scope=row>SAMD11</th><td>0.01694915</td><td>0.1428571</td><td>0.0</td><td>0.00000000</td><td>0.0000000</td><td>0.09523810</td><td>0.01041667</td><td>0.0000000</td><td>0.0000000</td><td>0.02173913</td><td>0.0000000</td><td>0.0000000</td><td>0.04255319</td></tr>\n",
       "\t<tr><th scope=row>NOC2L</th><td>1.86440678</td><td>2.7142857</td><td>0.8</td><td>3.95238095</td><td>7.6666667</td><td>6.80952381</td><td>3.68750000</td><td>4.6666667</td><td>3.7142857</td><td>2.26086957</td><td>1.1111111</td><td>3.0000000</td><td>2.76595745</td></tr>\n",
       "\t<tr><th scope=row>KLHL17</th><td>0.05084746</td><td>0.1428571</td><td>0.0</td><td>0.23809524</td><td>0.1666667</td><td>0.33333333</td><td>0.10416667</td><td>0.1666667</td><td>0.0000000</td><td>0.04347826</td><td>0.0000000</td><td>0.0000000</td><td>0.17021277</td></tr>\n",
       "</tbody>\n",
       "</table>\n"
      ],
      "text/latex": [
       "A data.frame: 6 × 13\n",
       "\\begin{tabular}{r|lllllllllllll}\n",
       "  & BC & CRC & GAC & GBM & HCC & HGSOC & HNSCC & MEL & NPC & NSCLC & PDAC & iCCA & NA\\\\\n",
       "  & <dbl> & <dbl> & <dbl> & <dbl> & <dbl> & <dbl> & <dbl> & <dbl> & <dbl> & <dbl> & <dbl> & <dbl> & <dbl>\\\\\n",
       "\\hline\n",
       "\tFAM87B & 0.00000000 & 0.0000000 & 0.0 & 0.00000000 & 0.0000000 & 0.04761905 & 0.02083333 & 0.0000000 & 0.1428571 & 0.00000000 & 0.0000000 & 0.0000000 & 0.08510638\\\\\n",
       "\tLINC00115 & 0.20338983 & 0.0000000 & 0.0 & 0.28571429 & 0.6666667 & 0.57142857 & 0.27083333 & 0.1666667 & 0.5714286 & 0.43478261 & 0.1111111 & 0.6666667 & 0.21276596\\\\\n",
       "\tFAM41C & 0.10169492 & 0.2857143 & 0.0 & 0.04761905 & 0.6666667 & 0.52380952 & 0.22916667 & 0.0000000 & 0.0000000 & 0.28260870 & 0.0000000 & 0.0000000 & 0.10638298\\\\\n",
       "\tSAMD11 & 0.01694915 & 0.1428571 & 0.0 & 0.00000000 & 0.0000000 & 0.09523810 & 0.01041667 & 0.0000000 & 0.0000000 & 0.02173913 & 0.0000000 & 0.0000000 & 0.04255319\\\\\n",
       "\tNOC2L & 1.86440678 & 2.7142857 & 0.8 & 3.95238095 & 7.6666667 & 6.80952381 & 3.68750000 & 4.6666667 & 3.7142857 & 2.26086957 & 1.1111111 & 3.0000000 & 2.76595745\\\\\n",
       "\tKLHL17 & 0.05084746 & 0.1428571 & 0.0 & 0.23809524 & 0.1666667 & 0.33333333 & 0.10416667 & 0.1666667 & 0.0000000 & 0.04347826 & 0.0000000 & 0.0000000 & 0.17021277\\\\\n",
       "\\end{tabular}\n"
      ],
      "text/markdown": [
       "\n",
       "A data.frame: 6 × 13\n",
       "\n",
       "| <!--/--> | BC &lt;dbl&gt; | CRC &lt;dbl&gt; | GAC &lt;dbl&gt; | GBM &lt;dbl&gt; | HCC &lt;dbl&gt; | HGSOC &lt;dbl&gt; | HNSCC &lt;dbl&gt; | MEL &lt;dbl&gt; | NPC &lt;dbl&gt; | NSCLC &lt;dbl&gt; | PDAC &lt;dbl&gt; | iCCA &lt;dbl&gt; | NA &lt;dbl&gt; |\n",
       "|---|---|---|---|---|---|---|---|---|---|---|---|---|---|\n",
       "| FAM87B | 0.00000000 | 0.0000000 | 0.0 | 0.00000000 | 0.0000000 | 0.04761905 | 0.02083333 | 0.0000000 | 0.1428571 | 0.00000000 | 0.0000000 | 0.0000000 | 0.08510638 |\n",
       "| LINC00115 | 0.20338983 | 0.0000000 | 0.0 | 0.28571429 | 0.6666667 | 0.57142857 | 0.27083333 | 0.1666667 | 0.5714286 | 0.43478261 | 0.1111111 | 0.6666667 | 0.21276596 |\n",
       "| FAM41C | 0.10169492 | 0.2857143 | 0.0 | 0.04761905 | 0.6666667 | 0.52380952 | 0.22916667 | 0.0000000 | 0.0000000 | 0.28260870 | 0.0000000 | 0.0000000 | 0.10638298 |\n",
       "| SAMD11 | 0.01694915 | 0.1428571 | 0.0 | 0.00000000 | 0.0000000 | 0.09523810 | 0.01041667 | 0.0000000 | 0.0000000 | 0.02173913 | 0.0000000 | 0.0000000 | 0.04255319 |\n",
       "| NOC2L | 1.86440678 | 2.7142857 | 0.8 | 3.95238095 | 7.6666667 | 6.80952381 | 3.68750000 | 4.6666667 | 3.7142857 | 2.26086957 | 1.1111111 | 3.0000000 | 2.76595745 |\n",
       "| KLHL17 | 0.05084746 | 0.1428571 | 0.0 | 0.23809524 | 0.1666667 | 0.33333333 | 0.10416667 | 0.1666667 | 0.0000000 | 0.04347826 | 0.0000000 | 0.0000000 | 0.17021277 |\n",
       "\n"
      ],
      "text/plain": [
       "          BC         CRC       GAC GBM        HCC       HGSOC      HNSCC     \n",
       "FAM87B    0.00000000 0.0000000 0.0 0.00000000 0.0000000 0.04761905 0.02083333\n",
       "LINC00115 0.20338983 0.0000000 0.0 0.28571429 0.6666667 0.57142857 0.27083333\n",
       "FAM41C    0.10169492 0.2857143 0.0 0.04761905 0.6666667 0.52380952 0.22916667\n",
       "SAMD11    0.01694915 0.1428571 0.0 0.00000000 0.0000000 0.09523810 0.01041667\n",
       "NOC2L     1.86440678 2.7142857 0.8 3.95238095 7.6666667 6.80952381 3.68750000\n",
       "KLHL17    0.05084746 0.1428571 0.0 0.23809524 0.1666667 0.33333333 0.10416667\n",
       "          MEL       NPC       NSCLC      PDAC      iCCA      <NA>      \n",
       "FAM87B    0.0000000 0.1428571 0.00000000 0.0000000 0.0000000 0.08510638\n",
       "LINC00115 0.1666667 0.5714286 0.43478261 0.1111111 0.6666667 0.21276596\n",
       "FAM41C    0.0000000 0.0000000 0.28260870 0.0000000 0.0000000 0.10638298\n",
       "SAMD11    0.0000000 0.0000000 0.02173913 0.0000000 0.0000000 0.04255319\n",
       "NOC2L     4.6666667 3.7142857 2.26086957 1.1111111 3.0000000 2.76595745\n",
       "KLHL17    0.1666667 0.0000000 0.04347826 0.0000000 0.0000000 0.17021277"
      ]
     },
     "metadata": {},
     "output_type": "display_data"
    }
   ],
   "source": [
    "head(avg_expr_DC1_mat)"
   ]
  },
  {
   "cell_type": "markdown",
   "id": "219c0452",
   "metadata": {},
   "source": [
    "### Add cell subset to column name"
   ]
  },
  {
   "cell_type": "code",
   "execution_count": 24,
   "id": "4784506f",
   "metadata": {
    "vscode": {
     "languageId": "r"
    }
   },
   "outputs": [],
   "source": [
    "colnames(avg_expr_DC1_mat) <- paste0(colnames(avg_expr_DC1_mat), \"_cDC1\")"
   ]
  },
  {
   "cell_type": "code",
   "execution_count": 25,
   "id": "60d3f00f",
   "metadata": {
    "vscode": {
     "languageId": "r"
    }
   },
   "outputs": [
    {
     "data": {
      "text/html": [
       "<table class=\"dataframe\">\n",
       "<caption>A data.frame: 6 × 13</caption>\n",
       "<thead>\n",
       "\t<tr><th></th><th scope=col>BC_cDC1</th><th scope=col>CRC_cDC1</th><th scope=col>GAC_cDC1</th><th scope=col>GBM_cDC1</th><th scope=col>HCC_cDC1</th><th scope=col>HGSOC_cDC1</th><th scope=col>HNSCC_cDC1</th><th scope=col>MEL_cDC1</th><th scope=col>NPC_cDC1</th><th scope=col>NSCLC_cDC1</th><th scope=col>PDAC_cDC1</th><th scope=col>iCCA_cDC1</th><th scope=col>NA_cDC1</th></tr>\n",
       "\t<tr><th></th><th scope=col>&lt;dbl&gt;</th><th scope=col>&lt;dbl&gt;</th><th scope=col>&lt;dbl&gt;</th><th scope=col>&lt;dbl&gt;</th><th scope=col>&lt;dbl&gt;</th><th scope=col>&lt;dbl&gt;</th><th scope=col>&lt;dbl&gt;</th><th scope=col>&lt;dbl&gt;</th><th scope=col>&lt;dbl&gt;</th><th scope=col>&lt;dbl&gt;</th><th scope=col>&lt;dbl&gt;</th><th scope=col>&lt;dbl&gt;</th><th scope=col>&lt;dbl&gt;</th></tr>\n",
       "</thead>\n",
       "<tbody>\n",
       "\t<tr><th scope=row>FAM87B</th><td>0.00000000</td><td>0.0000000</td><td>0.0</td><td>0.00000000</td><td>0.0000000</td><td>0.04761905</td><td>0.02083333</td><td>0.0000000</td><td>0.1428571</td><td>0.00000000</td><td>0.0000000</td><td>0.0000000</td><td>0.08510638</td></tr>\n",
       "\t<tr><th scope=row>LINC00115</th><td>0.20338983</td><td>0.0000000</td><td>0.0</td><td>0.28571429</td><td>0.6666667</td><td>0.57142857</td><td>0.27083333</td><td>0.1666667</td><td>0.5714286</td><td>0.43478261</td><td>0.1111111</td><td>0.6666667</td><td>0.21276596</td></tr>\n",
       "\t<tr><th scope=row>FAM41C</th><td>0.10169492</td><td>0.2857143</td><td>0.0</td><td>0.04761905</td><td>0.6666667</td><td>0.52380952</td><td>0.22916667</td><td>0.0000000</td><td>0.0000000</td><td>0.28260870</td><td>0.0000000</td><td>0.0000000</td><td>0.10638298</td></tr>\n",
       "\t<tr><th scope=row>SAMD11</th><td>0.01694915</td><td>0.1428571</td><td>0.0</td><td>0.00000000</td><td>0.0000000</td><td>0.09523810</td><td>0.01041667</td><td>0.0000000</td><td>0.0000000</td><td>0.02173913</td><td>0.0000000</td><td>0.0000000</td><td>0.04255319</td></tr>\n",
       "\t<tr><th scope=row>NOC2L</th><td>1.86440678</td><td>2.7142857</td><td>0.8</td><td>3.95238095</td><td>7.6666667</td><td>6.80952381</td><td>3.68750000</td><td>4.6666667</td><td>3.7142857</td><td>2.26086957</td><td>1.1111111</td><td>3.0000000</td><td>2.76595745</td></tr>\n",
       "\t<tr><th scope=row>KLHL17</th><td>0.05084746</td><td>0.1428571</td><td>0.0</td><td>0.23809524</td><td>0.1666667</td><td>0.33333333</td><td>0.10416667</td><td>0.1666667</td><td>0.0000000</td><td>0.04347826</td><td>0.0000000</td><td>0.0000000</td><td>0.17021277</td></tr>\n",
       "</tbody>\n",
       "</table>\n"
      ],
      "text/latex": [
       "A data.frame: 6 × 13\n",
       "\\begin{tabular}{r|lllllllllllll}\n",
       "  & BC\\_cDC1 & CRC\\_cDC1 & GAC\\_cDC1 & GBM\\_cDC1 & HCC\\_cDC1 & HGSOC\\_cDC1 & HNSCC\\_cDC1 & MEL\\_cDC1 & NPC\\_cDC1 & NSCLC\\_cDC1 & PDAC\\_cDC1 & iCCA\\_cDC1 & NA\\_cDC1\\\\\n",
       "  & <dbl> & <dbl> & <dbl> & <dbl> & <dbl> & <dbl> & <dbl> & <dbl> & <dbl> & <dbl> & <dbl> & <dbl> & <dbl>\\\\\n",
       "\\hline\n",
       "\tFAM87B & 0.00000000 & 0.0000000 & 0.0 & 0.00000000 & 0.0000000 & 0.04761905 & 0.02083333 & 0.0000000 & 0.1428571 & 0.00000000 & 0.0000000 & 0.0000000 & 0.08510638\\\\\n",
       "\tLINC00115 & 0.20338983 & 0.0000000 & 0.0 & 0.28571429 & 0.6666667 & 0.57142857 & 0.27083333 & 0.1666667 & 0.5714286 & 0.43478261 & 0.1111111 & 0.6666667 & 0.21276596\\\\\n",
       "\tFAM41C & 0.10169492 & 0.2857143 & 0.0 & 0.04761905 & 0.6666667 & 0.52380952 & 0.22916667 & 0.0000000 & 0.0000000 & 0.28260870 & 0.0000000 & 0.0000000 & 0.10638298\\\\\n",
       "\tSAMD11 & 0.01694915 & 0.1428571 & 0.0 & 0.00000000 & 0.0000000 & 0.09523810 & 0.01041667 & 0.0000000 & 0.0000000 & 0.02173913 & 0.0000000 & 0.0000000 & 0.04255319\\\\\n",
       "\tNOC2L & 1.86440678 & 2.7142857 & 0.8 & 3.95238095 & 7.6666667 & 6.80952381 & 3.68750000 & 4.6666667 & 3.7142857 & 2.26086957 & 1.1111111 & 3.0000000 & 2.76595745\\\\\n",
       "\tKLHL17 & 0.05084746 & 0.1428571 & 0.0 & 0.23809524 & 0.1666667 & 0.33333333 & 0.10416667 & 0.1666667 & 0.0000000 & 0.04347826 & 0.0000000 & 0.0000000 & 0.17021277\\\\\n",
       "\\end{tabular}\n"
      ],
      "text/markdown": [
       "\n",
       "A data.frame: 6 × 13\n",
       "\n",
       "| <!--/--> | BC_cDC1 &lt;dbl&gt; | CRC_cDC1 &lt;dbl&gt; | GAC_cDC1 &lt;dbl&gt; | GBM_cDC1 &lt;dbl&gt; | HCC_cDC1 &lt;dbl&gt; | HGSOC_cDC1 &lt;dbl&gt; | HNSCC_cDC1 &lt;dbl&gt; | MEL_cDC1 &lt;dbl&gt; | NPC_cDC1 &lt;dbl&gt; | NSCLC_cDC1 &lt;dbl&gt; | PDAC_cDC1 &lt;dbl&gt; | iCCA_cDC1 &lt;dbl&gt; | NA_cDC1 &lt;dbl&gt; |\n",
       "|---|---|---|---|---|---|---|---|---|---|---|---|---|---|\n",
       "| FAM87B | 0.00000000 | 0.0000000 | 0.0 | 0.00000000 | 0.0000000 | 0.04761905 | 0.02083333 | 0.0000000 | 0.1428571 | 0.00000000 | 0.0000000 | 0.0000000 | 0.08510638 |\n",
       "| LINC00115 | 0.20338983 | 0.0000000 | 0.0 | 0.28571429 | 0.6666667 | 0.57142857 | 0.27083333 | 0.1666667 | 0.5714286 | 0.43478261 | 0.1111111 | 0.6666667 | 0.21276596 |\n",
       "| FAM41C | 0.10169492 | 0.2857143 | 0.0 | 0.04761905 | 0.6666667 | 0.52380952 | 0.22916667 | 0.0000000 | 0.0000000 | 0.28260870 | 0.0000000 | 0.0000000 | 0.10638298 |\n",
       "| SAMD11 | 0.01694915 | 0.1428571 | 0.0 | 0.00000000 | 0.0000000 | 0.09523810 | 0.01041667 | 0.0000000 | 0.0000000 | 0.02173913 | 0.0000000 | 0.0000000 | 0.04255319 |\n",
       "| NOC2L | 1.86440678 | 2.7142857 | 0.8 | 3.95238095 | 7.6666667 | 6.80952381 | 3.68750000 | 4.6666667 | 3.7142857 | 2.26086957 | 1.1111111 | 3.0000000 | 2.76595745 |\n",
       "| KLHL17 | 0.05084746 | 0.1428571 | 0.0 | 0.23809524 | 0.1666667 | 0.33333333 | 0.10416667 | 0.1666667 | 0.0000000 | 0.04347826 | 0.0000000 | 0.0000000 | 0.17021277 |\n",
       "\n"
      ],
      "text/plain": [
       "          BC_cDC1    CRC_cDC1  GAC_cDC1 GBM_cDC1   HCC_cDC1  HGSOC_cDC1\n",
       "FAM87B    0.00000000 0.0000000 0.0      0.00000000 0.0000000 0.04761905\n",
       "LINC00115 0.20338983 0.0000000 0.0      0.28571429 0.6666667 0.57142857\n",
       "FAM41C    0.10169492 0.2857143 0.0      0.04761905 0.6666667 0.52380952\n",
       "SAMD11    0.01694915 0.1428571 0.0      0.00000000 0.0000000 0.09523810\n",
       "NOC2L     1.86440678 2.7142857 0.8      3.95238095 7.6666667 6.80952381\n",
       "KLHL17    0.05084746 0.1428571 0.0      0.23809524 0.1666667 0.33333333\n",
       "          HNSCC_cDC1 MEL_cDC1  NPC_cDC1  NSCLC_cDC1 PDAC_cDC1 iCCA_cDC1\n",
       "FAM87B    0.02083333 0.0000000 0.1428571 0.00000000 0.0000000 0.0000000\n",
       "LINC00115 0.27083333 0.1666667 0.5714286 0.43478261 0.1111111 0.6666667\n",
       "FAM41C    0.22916667 0.0000000 0.0000000 0.28260870 0.0000000 0.0000000\n",
       "SAMD11    0.01041667 0.0000000 0.0000000 0.02173913 0.0000000 0.0000000\n",
       "NOC2L     3.68750000 4.6666667 3.7142857 2.26086957 1.1111111 3.0000000\n",
       "KLHL17    0.10416667 0.1666667 0.0000000 0.04347826 0.0000000 0.0000000\n",
       "          NA_cDC1   \n",
       "FAM87B    0.08510638\n",
       "LINC00115 0.21276596\n",
       "FAM41C    0.10638298\n",
       "SAMD11    0.04255319\n",
       "NOC2L     2.76595745\n",
       "KLHL17    0.17021277"
      ]
     },
     "metadata": {},
     "output_type": "display_data"
    }
   ],
   "source": [
    "head(avg_expr_DC1_mat)"
   ]
  }
 ],
 "metadata": {
  "kernelspec": {
   "display_name": "R",
   "language": "R",
   "name": "ir"
  },
  "language_info": {
   "codemirror_mode": "r",
   "file_extension": ".r",
   "mimetype": "text/x-r-source",
   "name": "R",
   "pygments_lexer": "r",
   "version": "4.3.3"
  }
 },
 "nbformat": 4,
 "nbformat_minor": 5
}
