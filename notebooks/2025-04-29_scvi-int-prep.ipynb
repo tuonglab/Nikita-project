{
 "cells": [
  {
   "cell_type": "markdown",
   "id": "b5c88213",
   "metadata": {},
   "source": [
    "# scvi prep\n",
    "\n",
    "* Going to perform scvi integration to show results are comparable to harmony integration. Xiaohan will perform integration, however scvi needs to be done on raw data so preparing raw object here (take original raw object but then remove cells that were excluding during cleaning and transfer relevant metadata)"
   ]
  },
  {
   "cell_type": "code",
   "execution_count": null,
   "id": "aa7c9bdb",
   "metadata": {},
   "outputs": [],
   "source": [
    "import scanpy as sc\n",
    "import os\n",
    "import pandas as pd"
   ]
  }
 ],
 "metadata": {
  "language_info": {
   "name": "python"
  }
 },
 "nbformat": 4,
 "nbformat_minor": 5
}
