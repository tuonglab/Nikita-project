{
 "cells": [
  {
   "cell_type": "markdown",
   "metadata": {},
   "source": [
    "### ssGSEA analysis on data from TCGA-SKCM dataset (skin cutaneous melanoma)"
   ]
  },
  {
   "cell_type": "code",
   "execution_count": 74,
   "metadata": {
    "vscode": {
     "languageId": "r"
    }
   },
   "outputs": [],
   "source": [
    "library(matrixStats)\n",
    "library(circlize)\n",
    "library(ComplexHeatmap)\n",
    "library(data.table)\n",
    "library(SummarizedExperiment)\n",
    "library(S4Vectors)\n",
    "library(GenomicRanges)\n",
    "library(IRanges)\n",
    "library(dplyr)"
   ]
  },
  {
   "cell_type": "code",
   "execution_count": 75,
   "metadata": {
    "vscode": {
     "languageId": "r"
    }
   },
   "outputs": [],
   "source": [
    "#set working directory (location where TCGA data is stored)\n",
    "setwd(\"/scratch/user/s4436039/TCGA_Data\")"
   ]
  },
  {
   "cell_type": "code",
   "execution_count": 76,
   "metadata": {
    "vscode": {
     "languageId": "r"
    }
   },
   "outputs": [
    {
     "data": {
      "text/plain": [
       "class: RangedSummarizedExperiment \n",
       "dim: 60660 473 \n",
       "metadata(1): data_release\n",
       "assays(6): unstranded stranded_first ... fpkm_unstrand fpkm_uq_unstrand\n",
       "rownames(60660): ENSG00000000003.15 ENSG00000000005.6 ...\n",
       "  ENSG00000288674.1 ENSG00000288675.1\n",
       "rowData names(10): source type ... hgnc_id havana_gene\n",
       "colnames(473): TCGA-ER-A199-06A-11R-A18T-07\n",
       "  TCGA-EE-A3J5-06A-11R-A20F-07 ... TCGA-FS-A4F0-06A-11R-A24X-07\n",
       "  TCGA-GN-A262-06A-11R-A18T-07\n",
       "colData names(175): barcode patient ... paper_DIPYRIM.C.T.n.C.T..mut\n",
       "  paper_SHATTERSEEK_Chromothripsis_calls"
      ]
     },
     "metadata": {},
     "output_type": "display_data"
    },
    {
     "data": {
      "text/html": [
       "'RangedSummarizedExperiment object of length 60660 with 10 metadata columns'"
      ],
      "text/latex": [
       "'RangedSummarizedExperiment object of length 60660 with 10 metadata columns'"
      ],
      "text/markdown": [
       "'RangedSummarizedExperiment object of length 60660 with 10 metadata columns'"
      ],
      "text/plain": [
       "[1] \"RangedSummarizedExperiment object of length 60660 with 10 metadata columns\""
      ]
     },
     "metadata": {},
     "output_type": "display_data"
    }
   ],
   "source": [
    "# load in data (data was previously downloaded using the TCGAbiolinks package in R and saved as an RDS object)\n",
    "TCGA_SKCM <- readRDS(\"TCGA_SKCM.rds\")\n",
    "TCGA_SKCM\n",
    "summary(TCGA_SKCM)"
   ]
  },
  {
   "cell_type": "code",
   "execution_count": 77,
   "metadata": {
    "vscode": {
     "languageId": "r"
    }
   },
   "outputs": [
    {
     "data": {
      "text/html": [
       "<style>\n",
       ".list-inline {list-style: none; margin:0; padding: 0}\n",
       ".list-inline>li {display: inline-block}\n",
       ".list-inline>li:not(:last-child)::after {content: \"\\00b7\"; padding: 0 .5ex}\n",
       "</style>\n",
       "<ol class=list-inline><li>'Metastatic'</li><li>'Primary Tumor'</li><li>'Solid Tissue Normal'</li><li>'Additional Metastatic'</li></ol>\n"
      ],
      "text/latex": [
       "\\begin{enumerate*}\n",
       "\\item 'Metastatic'\n",
       "\\item 'Primary Tumor'\n",
       "\\item 'Solid Tissue Normal'\n",
       "\\item 'Additional Metastatic'\n",
       "\\end{enumerate*}\n"
      ],
      "text/markdown": [
       "1. 'Metastatic'\n",
       "2. 'Primary Tumor'\n",
       "3. 'Solid Tissue Normal'\n",
       "4. 'Additional Metastatic'\n",
       "\n",
       "\n"
      ],
      "text/plain": [
       "[1] \"Metastatic\"            \"Primary Tumor\"         \"Solid Tissue Normal\"  \n",
       "[4] \"Additional Metastatic\""
      ]
     },
     "metadata": {},
     "output_type": "display_data"
    }
   ],
   "source": [
    "unique(TCGA_SKCM$sample_type)"
   ]
  },
  {
   "cell_type": "code",
   "execution_count": 78,
   "metadata": {
    "vscode": {
     "languageId": "r"
    }
   },
   "outputs": [
    {
     "data": {
      "text/plain": [
       "\n",
       "Additional Metastatic            Metastatic         Primary Tumor \n",
       "                    1                   368                   103 \n",
       "  Solid Tissue Normal \n",
       "                    1 "
      ]
     },
     "metadata": {},
     "output_type": "display_data"
    }
   ],
   "source": [
    "table(colData(TCGA_SKCM)$sample_type)"
   ]
  },
  {
   "cell_type": "code",
   "execution_count": 79,
   "metadata": {
    "vscode": {
     "languageId": "r"
    }
   },
   "outputs": [],
   "source": [
    "# Subset object\n",
    "primary <- TCGA_SKCM[, colData(TCGA_SKCM)$sample_type == \"Primary Tumor\"]"
   ]
  },
  {
   "cell_type": "code",
   "execution_count": 80,
   "metadata": {
    "vscode": {
     "languageId": "r"
    }
   },
   "outputs": [
    {
     "data": {
      "text/plain": [
       "\n",
       "Primary Tumor \n",
       "          103 "
      ]
     },
     "metadata": {},
     "output_type": "display_data"
    }
   ],
   "source": [
    "table(colData(primary)$sample_type)"
   ]
  },
  {
   "cell_type": "code",
   "execution_count": 81,
   "metadata": {
    "vscode": {
     "languageId": "r"
    }
   },
   "outputs": [
    {
     "data": {
      "text/html": [
       "'RangedSummarizedExperiment object of length 60660 with 10 metadata columns'"
      ],
      "text/latex": [
       "'RangedSummarizedExperiment object of length 60660 with 10 metadata columns'"
      ],
      "text/markdown": [
       "'RangedSummarizedExperiment object of length 60660 with 10 metadata columns'"
      ],
      "text/plain": [
       "[1] \"RangedSummarizedExperiment object of length 60660 with 10 metadata columns\""
      ]
     },
     "metadata": {},
     "output_type": "display_data"
    }
   ],
   "source": [
    "summary(primary)"
   ]
  },
  {
   "cell_type": "code",
   "execution_count": 82,
   "metadata": {
    "vscode": {
     "languageId": "r"
    }
   },
   "outputs": [],
   "source": [
    "#define SSGSEA Function\n",
    "#function from https://rpubs.com/pranali018/SSGSEA  \n",
    "\n",
    "ssgsea = function(X, gene_sets, alpha = 0.25, scale = T, norm = F, single = T) {\n",
    "  row_names = rownames(X)\n",
    "  num_genes = nrow(X)\n",
    "  gene_sets = lapply(gene_sets, function(genes) {which(row_names %in% genes)})\n",
    "  \n",
    "  # Ranks for genes\n",
    "  R = matrixStats::colRanks(X, preserveShape = T, ties.method = 'average')\n",
    "  \n",
    "  # Calculate enrichment score (es) for each sample (column)\n",
    "  es = apply(R, 2, function(R_col) {\n",
    "    gene_ranks = order(R_col, decreasing = TRUE)\n",
    "    \n",
    "    # Calc es for each gene set\n",
    "    es_sample = sapply(gene_sets, function(gene_set_idx) {\n",
    "      # pos: match (within the gene set)\n",
    "      # neg: non-match (outside the gene set)\n",
    "      indicator_pos = gene_ranks %in% gene_set_idx\n",
    "      indicator_neg = !indicator_pos\n",
    "      \n",
    "      rank_alpha  = (R_col[gene_ranks] * indicator_pos) ^ alpha\n",
    "      \n",
    "      step_cdf_pos = cumsum(rank_alpha)    / sum(rank_alpha)\n",
    "      step_cdf_neg = cumsum(indicator_neg) / sum(indicator_neg)\n",
    "      \n",
    "      step_cdf_diff = step_cdf_pos - step_cdf_neg\n",
    "      \n",
    "      # Normalize by gene number\n",
    "      if (scale) step_cdf_diff = step_cdf_diff / num_genes\n",
    "      \n",
    "      # Use ssGSEA or not\n",
    "      if (single) {\n",
    "        sum(step_cdf_diff)\n",
    "      } else {\n",
    "        step_cdf_diff[which.max(abs(step_cdf_diff))]\n",
    "      }\n",
    "    })\n",
    "    unlist(es_sample)\n",
    "  })\n",
    "  \n",
    "  if (length(gene_sets) == 1) es = matrix(es, nrow = 1)\n",
    "  \n",
    "  # Normalize by absolute diff between max and min\n",
    "  if (norm) es = es / diff(range(es))\n",
    "  \n",
    "  # Prepare output\n",
    "  rownames(es) = names(gene_sets)\n",
    "  colnames(es) = colnames(X)\n",
    "  return(es)\n",
    "}\n"
   ]
  },
  {
   "cell_type": "code",
   "execution_count": 83,
   "metadata": {
    "vscode": {
     "languageId": "r"
    }
   },
   "outputs": [
    {
     "data": {
      "text/plain": [
       "List of length 6\n",
       "names(6): unstranded stranded_first ... fpkm_unstrand fpkm_uq_unstrand"
      ]
     },
     "metadata": {},
     "output_type": "display_data"
    }
   ],
   "source": [
    "#view the different assays stored\n",
    "assays(primary)"
   ]
  },
  {
   "cell_type": "code",
   "execution_count": 84,
   "metadata": {
    "vscode": {
     "languageId": "r"
    }
   },
   "outputs": [
    {
     "data": {
      "text/html": [
       "<style>\n",
       ".list-inline {list-style: none; margin:0; padding: 0}\n",
       ".list-inline>li {display: inline-block}\n",
       ".list-inline>li:not(:last-child)::after {content: \"\\00b7\"; padding: 0 .5ex}\n",
       "</style>\n",
       "<ol class=list-inline><li>60660</li><li>103</li></ol>\n"
      ],
      "text/latex": [
       "\\begin{enumerate*}\n",
       "\\item 60660\n",
       "\\item 103\n",
       "\\end{enumerate*}\n"
      ],
      "text/markdown": [
       "1. 60660\n",
       "2. 103\n",
       "\n",
       "\n"
      ],
      "text/plain": [
       "[1] 60660   103"
      ]
     },
     "metadata": {},
     "output_type": "display_data"
    },
    {
     "data": {
      "text/html": [
       "<table class=\"dataframe\">\n",
       "<caption>A matrix: 3 × 3 of type dbl</caption>\n",
       "<thead>\n",
       "\t<tr><th></th><th scope=col>TCGA-BF-A5ES-01A-11R-A27Q-07</th><th scope=col>TCGA-EB-A3XF-01A-31R-A239-07</th><th scope=col>TCGA-EB-A57M-01A-51R-A311-07</th></tr>\n",
       "</thead>\n",
       "<tbody>\n",
       "\t<tr><th scope=row>ENSG00000000003.15</th><td>13.9392</td><td> 40.4117</td><td>18.4980</td></tr>\n",
       "\t<tr><th scope=row>ENSG00000000005.6</th><td> 0.0512</td><td>  0.0546</td><td> 0.3237</td></tr>\n",
       "\t<tr><th scope=row>ENSG00000000419.13</th><td>51.3833</td><td>101.0688</td><td>47.7959</td></tr>\n",
       "</tbody>\n",
       "</table>\n"
      ],
      "text/latex": [
       "A matrix: 3 × 3 of type dbl\n",
       "\\begin{tabular}{r|lll}\n",
       "  & TCGA-BF-A5ES-01A-11R-A27Q-07 & TCGA-EB-A3XF-01A-31R-A239-07 & TCGA-EB-A57M-01A-51R-A311-07\\\\\n",
       "\\hline\n",
       "\tENSG00000000003.15 & 13.9392 &  40.4117 & 18.4980\\\\\n",
       "\tENSG00000000005.6 &  0.0512 &   0.0546 &  0.3237\\\\\n",
       "\tENSG00000000419.13 & 51.3833 & 101.0688 & 47.7959\\\\\n",
       "\\end{tabular}\n"
      ],
      "text/markdown": [
       "\n",
       "A matrix: 3 × 3 of type dbl\n",
       "\n",
       "| <!--/--> | TCGA-BF-A5ES-01A-11R-A27Q-07 | TCGA-EB-A3XF-01A-31R-A239-07 | TCGA-EB-A57M-01A-51R-A311-07 |\n",
       "|---|---|---|---|\n",
       "| ENSG00000000003.15 | 13.9392 |  40.4117 | 18.4980 |\n",
       "| ENSG00000000005.6 |  0.0512 |   0.0546 |  0.3237 |\n",
       "| ENSG00000000419.13 | 51.3833 | 101.0688 | 47.7959 |\n",
       "\n"
      ],
      "text/plain": [
       "                   TCGA-BF-A5ES-01A-11R-A27Q-07 TCGA-EB-A3XF-01A-31R-A239-07\n",
       "ENSG00000000003.15 13.9392                       40.4117                    \n",
       "ENSG00000000005.6   0.0512                        0.0546                    \n",
       "ENSG00000000419.13 51.3833                      101.0688                    \n",
       "                   TCGA-EB-A57M-01A-51R-A311-07\n",
       "ENSG00000000003.15 18.4980                     \n",
       "ENSG00000000005.6   0.3237                     \n",
       "ENSG00000000419.13 47.7959                     "
      ]
     },
     "metadata": {},
     "output_type": "display_data"
    }
   ],
   "source": [
    "#for this analysis using the tpm_unstrand assay \n",
    "dim(assays(primary)$tpm_unstrand)\n",
    "#set data to tpm_unstand assay for this analysis\n",
    "data <- assays(primary)$tpm_unstrand\n",
    "#view data\n",
    "data[1:3,1:3]"
   ]
  },
  {
   "cell_type": "code",
   "execution_count": 85,
   "metadata": {
    "vscode": {
     "languageId": "r"
    }
   },
   "outputs": [],
   "source": [
    "#convert to matrix\n",
    "data = as.matrix(data)"
   ]
  },
  {
   "cell_type": "code",
   "execution_count": 86,
   "metadata": {
    "vscode": {
     "languageId": "r"
    }
   },
   "outputs": [
    {
     "data": {
      "text/html": [
       "<strong>$gene_id</strong> = <style>\n",
       ".list-inline {list-style: none; margin:0; padding: 0}\n",
       ".list-inline>li {display: inline-block}\n",
       ".list-inline>li:not(:last-child)::after {content: \"\\00b7\"; padding: 0 .5ex}\n",
       "</style>\n",
       "<ol class=list-inline><li>'ENSG00000102962.5'</li><li>'ENSG00000104951.16'</li><li>'ENSG00000198053.12'</li><li>'ENSG00000126353.3'</li><li>'ENSG00000171310.11'</li><li>'ENSG00000180758.12'</li><li>'ENSG00000090104.12'</li><li>'ENSG00000023445.16'</li><li>'ENSG00000056558.11'</li><li>'ENSG00000198223.17'</li><li>'ENSG00000107021.16'</li><li>'ENSG00000078081.8'</li><li>'ENSG00000118242.16'</li><li>'ENSG00000167641.11'</li><li>'ENSG00000198369.10'</li><li>'ENSG00000112149.10'</li><li>'ENSG00000136810.13'</li><li>'ENSG00000172081.14'</li><li>'ENSG00000109320.13'</li><li>'ENSG00000136111.14'</li><li>'ENSG00000123374.11'</li><li>'ENSG00000261040.7'</li><li>'ENSG00000047365.12'</li><li>'ENSG00000160445.11'</li><li>'ENSG00000151726.15'</li><li>'ENSG00000167642.13'</li><li>'ENSG00000161011.20'</li><li>'ENSG00000204634.13'</li><li>'ENSG00000101384.12'</li><li>'ENSG00000278834.1'</li><li>'ENSG00000156127.8'</li><li>'ENSG00000117036.12'</li><li>'ENSG00000171791.14'</li><li>'ENSG00000068796.19'</li><li>'ENSG00000075618.18'</li><li>'ENSG00000118503.15'</li><li>'ENSG00000160050.15'</li><li>'ENSG00000119508.18'</li><li>'ENSG00000115165.10'</li><li>'ENSG00000115956.10'</li><li>'ENSG00000150907.10'</li><li>'ENSG00000025772.8'</li><li>'ENSG00000135148.12'</li><li>'ENSG00000101445.10'</li><li>'ENSG00000121966.7'</li><li>'ENSG00000101017.14'</li><li>'ENSG00000198018.7'</li><li>'ENSG00000124762.14'</li><li>'ENSG00000015475.19'</li><li>'ENSG00000277443.3'</li><li>'ENSG00000138166.6'</li><li>'ENSG00000071054.16'</li><li>'ENSG00000171552.14'</li><li>'ENSG00000172183.15'</li><li>'ENSG00000145860.12'</li><li>'ENSG00000137522.18'</li><li>'ENSG00000183484.12'</li><li>'ENSG00000138670.18'</li><li>'ENSG00000197872.11'</li><li>'ENSG00000084733.11'</li><li>'ENSG00000172292.15'</li><li>'ENSG00000115594.12'</li><li>'ENSG00000101109.12'</li><li>'ENSG00000069493.15'</li><li>'ENSG00000217801.10'</li><li>'ENSG00000177311.11'</li><li>'ENSG00000159128.15'</li><li>'ENSG00000120217.14'</li><li>'ENSG00000136052.9'</li><li>'ENSG00000118257.17'</li><li>'ENSG00000164236.12'</li><li>'ENSG00000169508.7'</li><li>'ENSG00000163389.12'</li><li>'ENSG00000128271.22'</li><li>'ENSG00000102221.14'</li><li>'ENSG00000131773.14'</li><li>'ENSG00000168036.18'</li><li>'ENSG00000137571.11'</li><li>'ENSG00000077150.20'</li><li>'ENSG00000116741.8'</li><li>'ENSG00000106803.10'</li><li>'ENSG00000186187.12'</li><li>'ENSG00000104856.14'</li><li>'ENSG00000151131.11'</li><li>'ENSG00000168310.11'</li><li>'ENSG00000273604.2'</li><li>'ENSG00000059728.11'</li><li>'ENSG00000111540.16'</li><li>'ENSG00000117115.13'</li><li>'ENSG00000136048.14'</li><li>'ENSG00000108389.9'</li><li>'ENSG00000103319.12'</li><li>'ENSG00000111846.19'</li><li>'ENSG00000173166.18'</li><li>'ENSG00000140379.9'</li><li>'ENSG00000101310.17'</li><li>'ENSG00000198355.5'</li><li>'ENSG00000163297.17'</li><li>'ENSG00000166016.6'</li><li>'ENSG00000164484.12'</li></ol>\n"
      ],
      "text/latex": [
       "\\textbf{\\$gene\\_id} = \\begin{enumerate*}\n",
       "\\item 'ENSG00000102962.5'\n",
       "\\item 'ENSG00000104951.16'\n",
       "\\item 'ENSG00000198053.12'\n",
       "\\item 'ENSG00000126353.3'\n",
       "\\item 'ENSG00000171310.11'\n",
       "\\item 'ENSG00000180758.12'\n",
       "\\item 'ENSG00000090104.12'\n",
       "\\item 'ENSG00000023445.16'\n",
       "\\item 'ENSG00000056558.11'\n",
       "\\item 'ENSG00000198223.17'\n",
       "\\item 'ENSG00000107021.16'\n",
       "\\item 'ENSG00000078081.8'\n",
       "\\item 'ENSG00000118242.16'\n",
       "\\item 'ENSG00000167641.11'\n",
       "\\item 'ENSG00000198369.10'\n",
       "\\item 'ENSG00000112149.10'\n",
       "\\item 'ENSG00000136810.13'\n",
       "\\item 'ENSG00000172081.14'\n",
       "\\item 'ENSG00000109320.13'\n",
       "\\item 'ENSG00000136111.14'\n",
       "\\item 'ENSG00000123374.11'\n",
       "\\item 'ENSG00000261040.7'\n",
       "\\item 'ENSG00000047365.12'\n",
       "\\item 'ENSG00000160445.11'\n",
       "\\item 'ENSG00000151726.15'\n",
       "\\item 'ENSG00000167642.13'\n",
       "\\item 'ENSG00000161011.20'\n",
       "\\item 'ENSG00000204634.13'\n",
       "\\item 'ENSG00000101384.12'\n",
       "\\item 'ENSG00000278834.1'\n",
       "\\item 'ENSG00000156127.8'\n",
       "\\item 'ENSG00000117036.12'\n",
       "\\item 'ENSG00000171791.14'\n",
       "\\item 'ENSG00000068796.19'\n",
       "\\item 'ENSG00000075618.18'\n",
       "\\item 'ENSG00000118503.15'\n",
       "\\item 'ENSG00000160050.15'\n",
       "\\item 'ENSG00000119508.18'\n",
       "\\item 'ENSG00000115165.10'\n",
       "\\item 'ENSG00000115956.10'\n",
       "\\item 'ENSG00000150907.10'\n",
       "\\item 'ENSG00000025772.8'\n",
       "\\item 'ENSG00000135148.12'\n",
       "\\item 'ENSG00000101445.10'\n",
       "\\item 'ENSG00000121966.7'\n",
       "\\item 'ENSG00000101017.14'\n",
       "\\item 'ENSG00000198018.7'\n",
       "\\item 'ENSG00000124762.14'\n",
       "\\item 'ENSG00000015475.19'\n",
       "\\item 'ENSG00000277443.3'\n",
       "\\item 'ENSG00000138166.6'\n",
       "\\item 'ENSG00000071054.16'\n",
       "\\item 'ENSG00000171552.14'\n",
       "\\item 'ENSG00000172183.15'\n",
       "\\item 'ENSG00000145860.12'\n",
       "\\item 'ENSG00000137522.18'\n",
       "\\item 'ENSG00000183484.12'\n",
       "\\item 'ENSG00000138670.18'\n",
       "\\item 'ENSG00000197872.11'\n",
       "\\item 'ENSG00000084733.11'\n",
       "\\item 'ENSG00000172292.15'\n",
       "\\item 'ENSG00000115594.12'\n",
       "\\item 'ENSG00000101109.12'\n",
       "\\item 'ENSG00000069493.15'\n",
       "\\item 'ENSG00000217801.10'\n",
       "\\item 'ENSG00000177311.11'\n",
       "\\item 'ENSG00000159128.15'\n",
       "\\item 'ENSG00000120217.14'\n",
       "\\item 'ENSG00000136052.9'\n",
       "\\item 'ENSG00000118257.17'\n",
       "\\item 'ENSG00000164236.12'\n",
       "\\item 'ENSG00000169508.7'\n",
       "\\item 'ENSG00000163389.12'\n",
       "\\item 'ENSG00000128271.22'\n",
       "\\item 'ENSG00000102221.14'\n",
       "\\item 'ENSG00000131773.14'\n",
       "\\item 'ENSG00000168036.18'\n",
       "\\item 'ENSG00000137571.11'\n",
       "\\item 'ENSG00000077150.20'\n",
       "\\item 'ENSG00000116741.8'\n",
       "\\item 'ENSG00000106803.10'\n",
       "\\item 'ENSG00000186187.12'\n",
       "\\item 'ENSG00000104856.14'\n",
       "\\item 'ENSG00000151131.11'\n",
       "\\item 'ENSG00000168310.11'\n",
       "\\item 'ENSG00000273604.2'\n",
       "\\item 'ENSG00000059728.11'\n",
       "\\item 'ENSG00000111540.16'\n",
       "\\item 'ENSG00000117115.13'\n",
       "\\item 'ENSG00000136048.14'\n",
       "\\item 'ENSG00000108389.9'\n",
       "\\item 'ENSG00000103319.12'\n",
       "\\item 'ENSG00000111846.19'\n",
       "\\item 'ENSG00000173166.18'\n",
       "\\item 'ENSG00000140379.9'\n",
       "\\item 'ENSG00000101310.17'\n",
       "\\item 'ENSG00000198355.5'\n",
       "\\item 'ENSG00000163297.17'\n",
       "\\item 'ENSG00000166016.6'\n",
       "\\item 'ENSG00000164484.12'\n",
       "\\end{enumerate*}\n"
      ],
      "text/markdown": [
       "**$gene_id** = 1. 'ENSG00000102962.5'\n",
       "2. 'ENSG00000104951.16'\n",
       "3. 'ENSG00000198053.12'\n",
       "4. 'ENSG00000126353.3'\n",
       "5. 'ENSG00000171310.11'\n",
       "6. 'ENSG00000180758.12'\n",
       "7. 'ENSG00000090104.12'\n",
       "8. 'ENSG00000023445.16'\n",
       "9. 'ENSG00000056558.11'\n",
       "10. 'ENSG00000198223.17'\n",
       "11. 'ENSG00000107021.16'\n",
       "12. 'ENSG00000078081.8'\n",
       "13. 'ENSG00000118242.16'\n",
       "14. 'ENSG00000167641.11'\n",
       "15. 'ENSG00000198369.10'\n",
       "16. 'ENSG00000112149.10'\n",
       "17. 'ENSG00000136810.13'\n",
       "18. 'ENSG00000172081.14'\n",
       "19. 'ENSG00000109320.13'\n",
       "20. 'ENSG00000136111.14'\n",
       "21. 'ENSG00000123374.11'\n",
       "22. 'ENSG00000261040.7'\n",
       "23. 'ENSG00000047365.12'\n",
       "24. 'ENSG00000160445.11'\n",
       "25. 'ENSG00000151726.15'\n",
       "26. 'ENSG00000167642.13'\n",
       "27. 'ENSG00000161011.20'\n",
       "28. 'ENSG00000204634.13'\n",
       "29. 'ENSG00000101384.12'\n",
       "30. 'ENSG00000278834.1'\n",
       "31. 'ENSG00000156127.8'\n",
       "32. 'ENSG00000117036.12'\n",
       "33. 'ENSG00000171791.14'\n",
       "34. 'ENSG00000068796.19'\n",
       "35. 'ENSG00000075618.18'\n",
       "36. 'ENSG00000118503.15'\n",
       "37. 'ENSG00000160050.15'\n",
       "38. 'ENSG00000119508.18'\n",
       "39. 'ENSG00000115165.10'\n",
       "40. 'ENSG00000115956.10'\n",
       "41. 'ENSG00000150907.10'\n",
       "42. 'ENSG00000025772.8'\n",
       "43. 'ENSG00000135148.12'\n",
       "44. 'ENSG00000101445.10'\n",
       "45. 'ENSG00000121966.7'\n",
       "46. 'ENSG00000101017.14'\n",
       "47. 'ENSG00000198018.7'\n",
       "48. 'ENSG00000124762.14'\n",
       "49. 'ENSG00000015475.19'\n",
       "50. 'ENSG00000277443.3'\n",
       "51. 'ENSG00000138166.6'\n",
       "52. 'ENSG00000071054.16'\n",
       "53. 'ENSG00000171552.14'\n",
       "54. 'ENSG00000172183.15'\n",
       "55. 'ENSG00000145860.12'\n",
       "56. 'ENSG00000137522.18'\n",
       "57. 'ENSG00000183484.12'\n",
       "58. 'ENSG00000138670.18'\n",
       "59. 'ENSG00000197872.11'\n",
       "60. 'ENSG00000084733.11'\n",
       "61. 'ENSG00000172292.15'\n",
       "62. 'ENSG00000115594.12'\n",
       "63. 'ENSG00000101109.12'\n",
       "64. 'ENSG00000069493.15'\n",
       "65. 'ENSG00000217801.10'\n",
       "66. 'ENSG00000177311.11'\n",
       "67. 'ENSG00000159128.15'\n",
       "68. 'ENSG00000120217.14'\n",
       "69. 'ENSG00000136052.9'\n",
       "70. 'ENSG00000118257.17'\n",
       "71. 'ENSG00000164236.12'\n",
       "72. 'ENSG00000169508.7'\n",
       "73. 'ENSG00000163389.12'\n",
       "74. 'ENSG00000128271.22'\n",
       "75. 'ENSG00000102221.14'\n",
       "76. 'ENSG00000131773.14'\n",
       "77. 'ENSG00000168036.18'\n",
       "78. 'ENSG00000137571.11'\n",
       "79. 'ENSG00000077150.20'\n",
       "80. 'ENSG00000116741.8'\n",
       "81. 'ENSG00000106803.10'\n",
       "82. 'ENSG00000186187.12'\n",
       "83. 'ENSG00000104856.14'\n",
       "84. 'ENSG00000151131.11'\n",
       "85. 'ENSG00000168310.11'\n",
       "86. 'ENSG00000273604.2'\n",
       "87. 'ENSG00000059728.11'\n",
       "88. 'ENSG00000111540.16'\n",
       "89. 'ENSG00000117115.13'\n",
       "90. 'ENSG00000136048.14'\n",
       "91. 'ENSG00000108389.9'\n",
       "92. 'ENSG00000103319.12'\n",
       "93. 'ENSG00000111846.19'\n",
       "94. 'ENSG00000173166.18'\n",
       "95. 'ENSG00000140379.9'\n",
       "96. 'ENSG00000101310.17'\n",
       "97. 'ENSG00000198355.5'\n",
       "98. 'ENSG00000163297.17'\n",
       "99. 'ENSG00000166016.6'\n",
       "100. 'ENSG00000164484.12'\n",
       "\n",
       "\n"
      ],
      "text/plain": [
       "$gene_id\n",
       "  [1] \"ENSG00000102962.5\"  \"ENSG00000104951.16\" \"ENSG00000198053.12\"\n",
       "  [4] \"ENSG00000126353.3\"  \"ENSG00000171310.11\" \"ENSG00000180758.12\"\n",
       "  [7] \"ENSG00000090104.12\" \"ENSG00000023445.16\" \"ENSG00000056558.11\"\n",
       " [10] \"ENSG00000198223.17\" \"ENSG00000107021.16\" \"ENSG00000078081.8\" \n",
       " [13] \"ENSG00000118242.16\" \"ENSG00000167641.11\" \"ENSG00000198369.10\"\n",
       " [16] \"ENSG00000112149.10\" \"ENSG00000136810.13\" \"ENSG00000172081.14\"\n",
       " [19] \"ENSG00000109320.13\" \"ENSG00000136111.14\" \"ENSG00000123374.11\"\n",
       " [22] \"ENSG00000261040.7\"  \"ENSG00000047365.12\" \"ENSG00000160445.11\"\n",
       " [25] \"ENSG00000151726.15\" \"ENSG00000167642.13\" \"ENSG00000161011.20\"\n",
       " [28] \"ENSG00000204634.13\" \"ENSG00000101384.12\" \"ENSG00000278834.1\" \n",
       " [31] \"ENSG00000156127.8\"  \"ENSG00000117036.12\" \"ENSG00000171791.14\"\n",
       " [34] \"ENSG00000068796.19\" \"ENSG00000075618.18\" \"ENSG00000118503.15\"\n",
       " [37] \"ENSG00000160050.15\" \"ENSG00000119508.18\" \"ENSG00000115165.10\"\n",
       " [40] \"ENSG00000115956.10\" \"ENSG00000150907.10\" \"ENSG00000025772.8\" \n",
       " [43] \"ENSG00000135148.12\" \"ENSG00000101445.10\" \"ENSG00000121966.7\" \n",
       " [46] \"ENSG00000101017.14\" \"ENSG00000198018.7\"  \"ENSG00000124762.14\"\n",
       " [49] \"ENSG00000015475.19\" \"ENSG00000277443.3\"  \"ENSG00000138166.6\" \n",
       " [52] \"ENSG00000071054.16\" \"ENSG00000171552.14\" \"ENSG00000172183.15\"\n",
       " [55] \"ENSG00000145860.12\" \"ENSG00000137522.18\" \"ENSG00000183484.12\"\n",
       " [58] \"ENSG00000138670.18\" \"ENSG00000197872.11\" \"ENSG00000084733.11\"\n",
       " [61] \"ENSG00000172292.15\" \"ENSG00000115594.12\" \"ENSG00000101109.12\"\n",
       " [64] \"ENSG00000069493.15\" \"ENSG00000217801.10\" \"ENSG00000177311.11\"\n",
       " [67] \"ENSG00000159128.15\" \"ENSG00000120217.14\" \"ENSG00000136052.9\" \n",
       " [70] \"ENSG00000118257.17\" \"ENSG00000164236.12\" \"ENSG00000169508.7\" \n",
       " [73] \"ENSG00000163389.12\" \"ENSG00000128271.22\" \"ENSG00000102221.14\"\n",
       " [76] \"ENSG00000131773.14\" \"ENSG00000168036.18\" \"ENSG00000137571.11\"\n",
       " [79] \"ENSG00000077150.20\" \"ENSG00000116741.8\"  \"ENSG00000106803.10\"\n",
       " [82] \"ENSG00000186187.12\" \"ENSG00000104856.14\" \"ENSG00000151131.11\"\n",
       " [85] \"ENSG00000168310.11\" \"ENSG00000273604.2\"  \"ENSG00000059728.11\"\n",
       " [88] \"ENSG00000111540.16\" \"ENSG00000117115.13\" \"ENSG00000136048.14\"\n",
       " [91] \"ENSG00000108389.9\"  \"ENSG00000103319.12\" \"ENSG00000111846.19\"\n",
       " [94] \"ENSG00000173166.18\" \"ENSG00000140379.9\"  \"ENSG00000101310.17\"\n",
       " [97] \"ENSG00000198355.5\"  \"ENSG00000163297.17\" \"ENSG00000166016.6\" \n",
       "[100] \"ENSG00000164484.12\"\n"
      ]
     },
     "metadata": {},
     "output_type": "display_data"
    }
   ],
   "source": [
    "#load in my signature and make it a list (edit this to any signature)\n",
    "sig <- fread(\"ag_pos_vs_dll1_deg_limma.csv\", select = c(\"gene_id\"))\n",
    "sig <- sig[1:100,]\n",
    "sig = as.list(as.data.frame(sig))\n",
    "head(sig)"
   ]
  },
  {
   "cell_type": "code",
   "execution_count": 87,
   "metadata": {
    "vscode": {
     "languageId": "r"
    }
   },
   "outputs": [
    {
     "data": {
      "text/plain": [
       "   user  system elapsed \n",
       "  0.817   0.104   0.925 "
      ]
     },
     "metadata": {},
     "output_type": "display_data"
    }
   ],
   "source": [
    "#Run ssGSEA function\n",
    "#ssgsea: https://rpubs.com/pranali018/SSGSEA\n",
    "system.time(assign('res', ssgsea(data, sig, scale = TRUE, norm = FALSE)))"
   ]
  },
  {
   "cell_type": "code",
   "execution_count": 88,
   "metadata": {
    "vscode": {
     "languageId": "r"
    }
   },
   "outputs": [
    {
     "data": {
      "text/html": [
       "<table class=\"dataframe\">\n",
       "<caption>A matrix: 6 × 1 of type dbl</caption>\n",
       "<thead>\n",
       "\t<tr><th></th><th scope=col>gene_id</th></tr>\n",
       "</thead>\n",
       "<tbody>\n",
       "\t<tr><th scope=row>TCGA-BF-A5ES-01A-11R-A27Q-07</th><td>0.3882478</td></tr>\n",
       "\t<tr><th scope=row>TCGA-EB-A3XF-01A-31R-A239-07</th><td>0.3801904</td></tr>\n",
       "\t<tr><th scope=row>TCGA-EB-A57M-01A-51R-A311-07</th><td>0.3809149</td></tr>\n",
       "\t<tr><th scope=row>TCGA-BF-AAP8-01A-11R-A40A-07</th><td>0.3629182</td></tr>\n",
       "\t<tr><th scope=row>TCGA-ER-A2NF-01A-11R-A18T-07</th><td>0.3788546</td></tr>\n",
       "\t<tr><th scope=row>TCGA-ER-A194-01A-11R-A18U-07</th><td>0.3675081</td></tr>\n",
       "</tbody>\n",
       "</table>\n"
      ],
      "text/latex": [
       "A matrix: 6 × 1 of type dbl\n",
       "\\begin{tabular}{r|l}\n",
       "  & gene\\_id\\\\\n",
       "\\hline\n",
       "\tTCGA-BF-A5ES-01A-11R-A27Q-07 & 0.3882478\\\\\n",
       "\tTCGA-EB-A3XF-01A-31R-A239-07 & 0.3801904\\\\\n",
       "\tTCGA-EB-A57M-01A-51R-A311-07 & 0.3809149\\\\\n",
       "\tTCGA-BF-AAP8-01A-11R-A40A-07 & 0.3629182\\\\\n",
       "\tTCGA-ER-A2NF-01A-11R-A18T-07 & 0.3788546\\\\\n",
       "\tTCGA-ER-A194-01A-11R-A18U-07 & 0.3675081\\\\\n",
       "\\end{tabular}\n"
      ],
      "text/markdown": [
       "\n",
       "A matrix: 6 × 1 of type dbl\n",
       "\n",
       "| <!--/--> | gene_id |\n",
       "|---|---|\n",
       "| TCGA-BF-A5ES-01A-11R-A27Q-07 | 0.3882478 |\n",
       "| TCGA-EB-A3XF-01A-31R-A239-07 | 0.3801904 |\n",
       "| TCGA-EB-A57M-01A-51R-A311-07 | 0.3809149 |\n",
       "| TCGA-BF-AAP8-01A-11R-A40A-07 | 0.3629182 |\n",
       "| TCGA-ER-A2NF-01A-11R-A18T-07 | 0.3788546 |\n",
       "| TCGA-ER-A194-01A-11R-A18U-07 | 0.3675081 |\n",
       "\n"
      ],
      "text/plain": [
       "                             gene_id  \n",
       "TCGA-BF-A5ES-01A-11R-A27Q-07 0.3882478\n",
       "TCGA-EB-A3XF-01A-31R-A239-07 0.3801904\n",
       "TCGA-EB-A57M-01A-51R-A311-07 0.3809149\n",
       "TCGA-BF-AAP8-01A-11R-A40A-07 0.3629182\n",
       "TCGA-ER-A2NF-01A-11R-A18T-07 0.3788546\n",
       "TCGA-ER-A194-01A-11R-A18U-07 0.3675081"
      ]
     },
     "metadata": {},
     "output_type": "display_data"
    }
   ],
   "source": [
    "#transpose results\n",
    "res1 = t(res)\n",
    "head(res1)"
   ]
  },
  {
   "cell_type": "code",
   "execution_count": 89,
   "metadata": {
    "vscode": {
     "languageId": "r"
    }
   },
   "outputs": [
    {
     "data": {
      "text/html": [
       "<style>\n",
       ".list-inline {list-style: none; margin:0; padding: 0}\n",
       ".list-inline>li {display: inline-block}\n",
       ".list-inline>li:not(:last-child)::after {content: \"\\00b7\"; padding: 0 .5ex}\n",
       "</style>\n",
       "<ol class=list-inline><li>1</li><li>103</li></ol>\n"
      ],
      "text/latex": [
       "\\begin{enumerate*}\n",
       "\\item 1\n",
       "\\item 103\n",
       "\\end{enumerate*}\n"
      ],
      "text/markdown": [
       "1. 1\n",
       "2. 103\n",
       "\n",
       "\n"
      ],
      "text/plain": [
       "[1]   1 103"
      ]
     },
     "metadata": {},
     "output_type": "display_data"
    },
    {
     "data": {
      "text/html": [
       "<style>\n",
       ".dl-inline {width: auto; margin:0; padding: 0}\n",
       ".dl-inline>dt, .dl-inline>dd {float: none; width: auto; display: inline-block}\n",
       ".dl-inline>dt::after {content: \":\\0020\"; padding-right: .5ex}\n",
       ".dl-inline>dt:not(:first-of-type) {padding-left: .5ex}\n",
       "</style><dl class=dl-inline><dt>TCGA-BF-A5ES-01A-11R-A27Q-07</dt><dd>1.27800330783343</dd><dt>TCGA-EB-A3XF-01A-31R-A239-07</dt><dd>0.53176254355142</dd><dt>TCGA-EB-A57M-01A-51R-A311-07</dt><dd>0.598860825592122</dd><dt>TCGA-BF-AAP8-01A-11R-A40A-07</dt><dd>-1.06790937000583</dd><dt>TCGA-ER-A2NF-01A-11R-A18T-07</dt><dd>0.408042223171928</dd></dl>\n"
      ],
      "text/latex": [
       "\\begin{description*}\n",
       "\\item[TCGA-BF-A5ES-01A-11R-A27Q-07] 1.27800330783343\n",
       "\\item[TCGA-EB-A3XF-01A-31R-A239-07] 0.53176254355142\n",
       "\\item[TCGA-EB-A57M-01A-51R-A311-07] 0.598860825592122\n",
       "\\item[TCGA-BF-AAP8-01A-11R-A40A-07] -1.06790937000583\n",
       "\\item[TCGA-ER-A2NF-01A-11R-A18T-07] 0.408042223171928\n",
       "\\end{description*}\n"
      ],
      "text/markdown": [
       "TCGA-BF-A5ES-01A-11R-A27Q-07\n",
       ":   1.27800330783343TCGA-EB-A3XF-01A-31R-A239-07\n",
       ":   0.53176254355142TCGA-EB-A57M-01A-51R-A311-07\n",
       ":   0.598860825592122TCGA-BF-AAP8-01A-11R-A40A-07\n",
       ":   -1.06790937000583TCGA-ER-A2NF-01A-11R-A18T-07\n",
       ":   0.408042223171928\n",
       "\n"
      ],
      "text/plain": [
       "TCGA-BF-A5ES-01A-11R-A27Q-07 TCGA-EB-A3XF-01A-31R-A239-07 \n",
       "                   1.2780033                    0.5317625 \n",
       "TCGA-EB-A57M-01A-51R-A311-07 TCGA-BF-AAP8-01A-11R-A40A-07 \n",
       "                   0.5988608                   -1.0679094 \n",
       "TCGA-ER-A2NF-01A-11R-A18T-07 \n",
       "                   0.4080422 "
      ]
     },
     "metadata": {},
     "output_type": "display_data"
    }
   ],
   "source": [
    "#calculate mat (ssGSEA Z score - ssgsea output for comparative analysis)\n",
    "mat = (res - rowMeans(res))/(rowSds(as.matrix(res)))[row(res)]\n",
    "dim(mat)\n",
    "mat[1,1:5] "
   ]
  },
  {
   "cell_type": "markdown",
   "metadata": {},
   "source": [
    "#### at this point now have a score for each patient with how enriched that sample is for my signature, the ID here is the \"barcode\"\n",
    "* next want to see how this score correlates with survival etc"
   ]
  },
  {
   "cell_type": "code",
   "execution_count": 90,
   "metadata": {
    "vscode": {
     "languageId": "r"
    }
   },
   "outputs": [
    {
     "data": {
      "text/html": [
       "<style>\n",
       ".list-inline {list-style: none; margin:0; padding: 0}\n",
       ".list-inline>li {display: inline-block}\n",
       ".list-inline>li:not(:last-child)::after {content: \"\\00b7\"; padding: 0 .5ex}\n",
       "</style>\n",
       "<ol class=list-inline><li>'barcode'</li><li>'patient'</li><li>'sample'</li><li>'shortLetterCode'</li><li>'definition'</li><li>'sample_submitter_id'</li><li>'sample_type_id'</li><li>'tumor_descriptor'</li><li>'sample_id'</li><li>'sample_type'</li><li>'composition'</li><li>'days_to_collection'</li><li>'state'</li><li>'initial_weight'</li><li>'preservation_method'</li><li>'pathology_report_uuid'</li><li>'submitter_id'</li><li>'oct_embedded'</li><li>'specimen_type'</li><li>'is_ffpe'</li><li>'tissue_type'</li><li>'synchronous_malignancy'</li><li>'ajcc_pathologic_stage'</li><li>'days_to_diagnosis'</li><li>'treatments'</li><li>'last_known_disease_status'</li><li>'tissue_or_organ_of_origin'</li><li>'days_to_last_follow_up'</li><li>'age_at_diagnosis'</li><li>'primary_diagnosis'</li><li>'prior_malignancy'</li><li>'year_of_diagnosis'</li><li>'prior_treatment'</li><li>'ajcc_staging_system_edition'</li><li>'ajcc_pathologic_t'</li><li>'morphology'</li><li>'ajcc_pathologic_n'</li><li>'ajcc_pathologic_m'</li><li>'classification_of_tumor'</li><li>'diagnosis_id'</li><li>'icd_10_code'</li><li>'site_of_resection_or_biopsy'</li><li>'tumor_grade'</li><li>'progression_or_recurrence'</li><li>'alcohol_history'</li><li>'exposure_id'</li><li>'race'</li><li>'gender'</li><li>'ethnicity'</li><li>'vital_status'</li><li>'age_at_index'</li><li>'days_to_birth'</li><li>'year_of_birth'</li><li>'demographic_id'</li><li>'days_to_death'</li><li>'year_of_death'</li><li>'bcr_patient_barcode'</li><li>'primary_site'</li><li>'project_id'</li><li>'disease_type'</li><li>'name'</li><li>'releasable'</li><li>'released'</li><li>'paper_patient'</li><li>'paper_ALL_SAMPLES'</li><li>'paper_MUTATIONSUBTYPES'</li><li>'paper_ALL_PRIMARY_VS_METASTATIC'</li><li>'paper_REGIONAL_VS_PRIMARY'</li><li>'paper_UV.signature'</li><li>'paper_RNASEQ.CLUSTER_CONSENHIER'</li><li>'paper_MethTypes.201408'</li><li>'paper_MIRCluster'</li><li>'paper_ProteinCluster'</li><li>'paper_OncoSignCluster'</li><li>'paper_CDKN2A.cg13601799._meth'</li><li>'paper_KIT.cg10087973._meth'</li><li>'paper_BRAF_cna'</li><li>'paper_NRAS_cna'</li><li>'paper_MITF_cna'</li><li>'paper_KIT_cna'</li><li>'paper_PDGFRA_cna'</li><li>'paper_KDR_cna'</li><li>'paper_MYC_cna'</li><li>'paper_CCND1_cna'</li><li>'paper_CDK4_cna'</li><li>'paper_MDM2_cna'</li><li>'paper_TERT_cna'</li><li>'paper_EP300_cna'</li><li>'paper_NOTCH2_cna'</li><li>'paper_CDKN2A_cna'</li><li>'paper_PTEN_cna'</li><li>'paper_TP53_cna'</li><li>'paper_PPP6C_cna'</li><li>'paper_ARID2_cna'</li><li>'paper_IDH1_cna'</li><li>'paper_MAP2K1_cna'</li><li>'paper_DDX3X_cna'</li><li>'paper_RAC1_cna'</li><li>'paper_NF1_cna'</li><li>'paper_CASP8_cna'</li><li>'paper_CTNNB1_cna'</li><li>'paper_PCDHGA1_cna'</li><li>'paper_SERPINB3_cna'</li><li>'paper_IRF7_cna'</li><li>'paper_HRAS_cna'</li><li>'paper_PTPN11_cna'</li><li>'paper_KRAS_cna'</li><li>'paper_GNA11_cna'</li><li>'paper_GNAQ_cna'</li><li>'paper_AKT1_cna'</li><li>'paper_APC_cna'</li><li>'paper_EZH2_cna'</li><li>'paper_FBXW7_cna'</li><li>'paper_GNAS_cna'</li><li>'paper_PIK3CA_cna'</li><li>'paper_ARID2_mut'</li><li>'paper_BRAF_mut'</li><li>'paper_NRAS_mut'</li><li>'paper_KRAS_mut'</li><li>'paper_HRAS_mut'</li><li>'paper_NF1_mut'</li><li>'paper_IDH1_mut'</li><li>'paper_GNA11_mut'</li><li>'paper_GNAQ_mut'</li><li>'paper_CDK4_mut'</li><li>'paper_CDKN2A_mut'</li><li>'paper_DDX3X_mut'</li><li>'paper_KIT_mut'</li><li>'paper_MAP2K1_mut'</li><li>'paper_PPP6C_mut'</li><li>'paper_PTEN_mut'</li><li>'paper_RAC1_mut'</li><li>'paper_RB1_mut'</li><li>'paper_TP53_mut'</li><li>'paper_TERT_MUT'</li><li>'paper_rnaseq_TERT.RSEM.NORM_DATA'</li><li>'paper_rppa_LCK.LCK.R.V'</li><li>'paper_rppa_SYK.SYK.M.V'</li><li>'paper_PIGMENT.SCORE'</li><li>'paper_NECROSIS'</li><li>'paper_Tumour.content........nuceli.that.are.tumour.cells......0.100..'</li><li>'paper_LYMPHOCYTE.DISTRIBUTION'</li><li>'paper_LYMPHOCYTE.DENSITY'</li><li>'paper_LYMPHOCYTE.SCORE'</li><li>'paper_PURITY..ABSOLUTE.'</li><li>'paper_PLOIDY..ABSOLUTE.'</li><li>'paper_TOTAL.MUTATIONS'</li><li>'paper_UV.RATE'</li><li>'paper_CURATED_AGE_AT_INITIAL_PATHOLOGIC_DIAGNOSIS'</li><li>'paper_CURATED_AGE_AT_TCGA_SPECIMEN'</li><li>'paper_GENDER'</li><li>'paper_CURATED_KNOWN_PRIMARY'</li><li>'paper_CURATED_SITE_OF_PRIMARY_TUMOR_KNOWN_PRIMARY_ONLY'</li><li>'paper_CURATED_SITE_OF_PRIMARY_TUMOR_INCLUDING_UNKNOWN'</li><li>'paper_CURATED_BRESLOW'</li><li>'paper_CURATED_ULCERATION'</li><li>'paper_CURATED_T_STAGE_AT_DIAGNOSIS_COMPLEX'</li><li>'paper_CURATED_T_STAGE_AT_DIAGNOSIS_SIMPLE'</li><li>'paper_CURATED_N_STAGE_AT_DIAGNOSIS_COMPLEX'</li><li>'paper_CURATED_N_STAGE_AT_DIAGNOSIS_SIMPLE'</li><li>'paper_CURATED_M_STAGE_AT_DIAGNOSIS_COMPLEX'</li><li>'paper_CURATED_M_STAGE_AT_DIAGNOSIS_SIMPLE'</li><li>'paper_CURATED_PATHOLOGIC_STAGE_AJCC7_AT_DIAGNOSIS_COMPLEX'</li><li>'paper_CURATED_PATHOLOGIC_STAGE_AJCC7_AT_DIAGNOSIS_SIMPLE'</li><li>'paper_CURATED_TCGA_SPECIMEN_SITE'</li><li>'paper_CURATED_DISTANT_ANATOMIC_SITE'</li><li>'paper_CURATED_VITAL_STATUS'</li><li>'paper_CURATED_DAYS_TO_DEATH_OR_LAST_FU'</li><li>'paper_CURATED_TCGA_DAYS_TO_DEATH_OR_LAST_FU'</li><li>'paper_CURATED_MELANOMA_SPECIFIC_VITAL_STATUS..0....ALIVE.OR.CENSORED...1....DEAD.OF.MELANOMA..'</li><li>'paper_CURATED_TCGA_SPECIMEN_Distant'</li><li>'paper_CC.TT.nTotal.Mut'</li><li>'paper_DIPYRIM.C.T.nTotal.Mut'</li><li>'paper_DIPYRIM.C.T.n.C.T..mut'</li><li>'paper_SHATTERSEEK_Chromothripsis_calls'</li></ol>\n"
      ],
      "text/latex": [
       "\\begin{enumerate*}\n",
       "\\item 'barcode'\n",
       "\\item 'patient'\n",
       "\\item 'sample'\n",
       "\\item 'shortLetterCode'\n",
       "\\item 'definition'\n",
       "\\item 'sample\\_submitter\\_id'\n",
       "\\item 'sample\\_type\\_id'\n",
       "\\item 'tumor\\_descriptor'\n",
       "\\item 'sample\\_id'\n",
       "\\item 'sample\\_type'\n",
       "\\item 'composition'\n",
       "\\item 'days\\_to\\_collection'\n",
       "\\item 'state'\n",
       "\\item 'initial\\_weight'\n",
       "\\item 'preservation\\_method'\n",
       "\\item 'pathology\\_report\\_uuid'\n",
       "\\item 'submitter\\_id'\n",
       "\\item 'oct\\_embedded'\n",
       "\\item 'specimen\\_type'\n",
       "\\item 'is\\_ffpe'\n",
       "\\item 'tissue\\_type'\n",
       "\\item 'synchronous\\_malignancy'\n",
       "\\item 'ajcc\\_pathologic\\_stage'\n",
       "\\item 'days\\_to\\_diagnosis'\n",
       "\\item 'treatments'\n",
       "\\item 'last\\_known\\_disease\\_status'\n",
       "\\item 'tissue\\_or\\_organ\\_of\\_origin'\n",
       "\\item 'days\\_to\\_last\\_follow\\_up'\n",
       "\\item 'age\\_at\\_diagnosis'\n",
       "\\item 'primary\\_diagnosis'\n",
       "\\item 'prior\\_malignancy'\n",
       "\\item 'year\\_of\\_diagnosis'\n",
       "\\item 'prior\\_treatment'\n",
       "\\item 'ajcc\\_staging\\_system\\_edition'\n",
       "\\item 'ajcc\\_pathologic\\_t'\n",
       "\\item 'morphology'\n",
       "\\item 'ajcc\\_pathologic\\_n'\n",
       "\\item 'ajcc\\_pathologic\\_m'\n",
       "\\item 'classification\\_of\\_tumor'\n",
       "\\item 'diagnosis\\_id'\n",
       "\\item 'icd\\_10\\_code'\n",
       "\\item 'site\\_of\\_resection\\_or\\_biopsy'\n",
       "\\item 'tumor\\_grade'\n",
       "\\item 'progression\\_or\\_recurrence'\n",
       "\\item 'alcohol\\_history'\n",
       "\\item 'exposure\\_id'\n",
       "\\item 'race'\n",
       "\\item 'gender'\n",
       "\\item 'ethnicity'\n",
       "\\item 'vital\\_status'\n",
       "\\item 'age\\_at\\_index'\n",
       "\\item 'days\\_to\\_birth'\n",
       "\\item 'year\\_of\\_birth'\n",
       "\\item 'demographic\\_id'\n",
       "\\item 'days\\_to\\_death'\n",
       "\\item 'year\\_of\\_death'\n",
       "\\item 'bcr\\_patient\\_barcode'\n",
       "\\item 'primary\\_site'\n",
       "\\item 'project\\_id'\n",
       "\\item 'disease\\_type'\n",
       "\\item 'name'\n",
       "\\item 'releasable'\n",
       "\\item 'released'\n",
       "\\item 'paper\\_patient'\n",
       "\\item 'paper\\_ALL\\_SAMPLES'\n",
       "\\item 'paper\\_MUTATIONSUBTYPES'\n",
       "\\item 'paper\\_ALL\\_PRIMARY\\_VS\\_METASTATIC'\n",
       "\\item 'paper\\_REGIONAL\\_VS\\_PRIMARY'\n",
       "\\item 'paper\\_UV.signature'\n",
       "\\item 'paper\\_RNASEQ.CLUSTER\\_CONSENHIER'\n",
       "\\item 'paper\\_MethTypes.201408'\n",
       "\\item 'paper\\_MIRCluster'\n",
       "\\item 'paper\\_ProteinCluster'\n",
       "\\item 'paper\\_OncoSignCluster'\n",
       "\\item 'paper\\_CDKN2A.cg13601799.\\_meth'\n",
       "\\item 'paper\\_KIT.cg10087973.\\_meth'\n",
       "\\item 'paper\\_BRAF\\_cna'\n",
       "\\item 'paper\\_NRAS\\_cna'\n",
       "\\item 'paper\\_MITF\\_cna'\n",
       "\\item 'paper\\_KIT\\_cna'\n",
       "\\item 'paper\\_PDGFRA\\_cna'\n",
       "\\item 'paper\\_KDR\\_cna'\n",
       "\\item 'paper\\_MYC\\_cna'\n",
       "\\item 'paper\\_CCND1\\_cna'\n",
       "\\item 'paper\\_CDK4\\_cna'\n",
       "\\item 'paper\\_MDM2\\_cna'\n",
       "\\item 'paper\\_TERT\\_cna'\n",
       "\\item 'paper\\_EP300\\_cna'\n",
       "\\item 'paper\\_NOTCH2\\_cna'\n",
       "\\item 'paper\\_CDKN2A\\_cna'\n",
       "\\item 'paper\\_PTEN\\_cna'\n",
       "\\item 'paper\\_TP53\\_cna'\n",
       "\\item 'paper\\_PPP6C\\_cna'\n",
       "\\item 'paper\\_ARID2\\_cna'\n",
       "\\item 'paper\\_IDH1\\_cna'\n",
       "\\item 'paper\\_MAP2K1\\_cna'\n",
       "\\item 'paper\\_DDX3X\\_cna'\n",
       "\\item 'paper\\_RAC1\\_cna'\n",
       "\\item 'paper\\_NF1\\_cna'\n",
       "\\item 'paper\\_CASP8\\_cna'\n",
       "\\item 'paper\\_CTNNB1\\_cna'\n",
       "\\item 'paper\\_PCDHGA1\\_cna'\n",
       "\\item 'paper\\_SERPINB3\\_cna'\n",
       "\\item 'paper\\_IRF7\\_cna'\n",
       "\\item 'paper\\_HRAS\\_cna'\n",
       "\\item 'paper\\_PTPN11\\_cna'\n",
       "\\item 'paper\\_KRAS\\_cna'\n",
       "\\item 'paper\\_GNA11\\_cna'\n",
       "\\item 'paper\\_GNAQ\\_cna'\n",
       "\\item 'paper\\_AKT1\\_cna'\n",
       "\\item 'paper\\_APC\\_cna'\n",
       "\\item 'paper\\_EZH2\\_cna'\n",
       "\\item 'paper\\_FBXW7\\_cna'\n",
       "\\item 'paper\\_GNAS\\_cna'\n",
       "\\item 'paper\\_PIK3CA\\_cna'\n",
       "\\item 'paper\\_ARID2\\_mut'\n",
       "\\item 'paper\\_BRAF\\_mut'\n",
       "\\item 'paper\\_NRAS\\_mut'\n",
       "\\item 'paper\\_KRAS\\_mut'\n",
       "\\item 'paper\\_HRAS\\_mut'\n",
       "\\item 'paper\\_NF1\\_mut'\n",
       "\\item 'paper\\_IDH1\\_mut'\n",
       "\\item 'paper\\_GNA11\\_mut'\n",
       "\\item 'paper\\_GNAQ\\_mut'\n",
       "\\item 'paper\\_CDK4\\_mut'\n",
       "\\item 'paper\\_CDKN2A\\_mut'\n",
       "\\item 'paper\\_DDX3X\\_mut'\n",
       "\\item 'paper\\_KIT\\_mut'\n",
       "\\item 'paper\\_MAP2K1\\_mut'\n",
       "\\item 'paper\\_PPP6C\\_mut'\n",
       "\\item 'paper\\_PTEN\\_mut'\n",
       "\\item 'paper\\_RAC1\\_mut'\n",
       "\\item 'paper\\_RB1\\_mut'\n",
       "\\item 'paper\\_TP53\\_mut'\n",
       "\\item 'paper\\_TERT\\_MUT'\n",
       "\\item 'paper\\_rnaseq\\_TERT.RSEM.NORM\\_DATA'\n",
       "\\item 'paper\\_rppa\\_LCK.LCK.R.V'\n",
       "\\item 'paper\\_rppa\\_SYK.SYK.M.V'\n",
       "\\item 'paper\\_PIGMENT.SCORE'\n",
       "\\item 'paper\\_NECROSIS'\n",
       "\\item 'paper\\_Tumour.content........nuceli.that.are.tumour.cells......0.100..'\n",
       "\\item 'paper\\_LYMPHOCYTE.DISTRIBUTION'\n",
       "\\item 'paper\\_LYMPHOCYTE.DENSITY'\n",
       "\\item 'paper\\_LYMPHOCYTE.SCORE'\n",
       "\\item 'paper\\_PURITY..ABSOLUTE.'\n",
       "\\item 'paper\\_PLOIDY..ABSOLUTE.'\n",
       "\\item 'paper\\_TOTAL.MUTATIONS'\n",
       "\\item 'paper\\_UV.RATE'\n",
       "\\item 'paper\\_CURATED\\_AGE\\_AT\\_INITIAL\\_PATHOLOGIC\\_DIAGNOSIS'\n",
       "\\item 'paper\\_CURATED\\_AGE\\_AT\\_TCGA\\_SPECIMEN'\n",
       "\\item 'paper\\_GENDER'\n",
       "\\item 'paper\\_CURATED\\_KNOWN\\_PRIMARY'\n",
       "\\item 'paper\\_CURATED\\_SITE\\_OF\\_PRIMARY\\_TUMOR\\_KNOWN\\_PRIMARY\\_ONLY'\n",
       "\\item 'paper\\_CURATED\\_SITE\\_OF\\_PRIMARY\\_TUMOR\\_INCLUDING\\_UNKNOWN'\n",
       "\\item 'paper\\_CURATED\\_BRESLOW'\n",
       "\\item 'paper\\_CURATED\\_ULCERATION'\n",
       "\\item 'paper\\_CURATED\\_T\\_STAGE\\_AT\\_DIAGNOSIS\\_COMPLEX'\n",
       "\\item 'paper\\_CURATED\\_T\\_STAGE\\_AT\\_DIAGNOSIS\\_SIMPLE'\n",
       "\\item 'paper\\_CURATED\\_N\\_STAGE\\_AT\\_DIAGNOSIS\\_COMPLEX'\n",
       "\\item 'paper\\_CURATED\\_N\\_STAGE\\_AT\\_DIAGNOSIS\\_SIMPLE'\n",
       "\\item 'paper\\_CURATED\\_M\\_STAGE\\_AT\\_DIAGNOSIS\\_COMPLEX'\n",
       "\\item 'paper\\_CURATED\\_M\\_STAGE\\_AT\\_DIAGNOSIS\\_SIMPLE'\n",
       "\\item 'paper\\_CURATED\\_PATHOLOGIC\\_STAGE\\_AJCC7\\_AT\\_DIAGNOSIS\\_COMPLEX'\n",
       "\\item 'paper\\_CURATED\\_PATHOLOGIC\\_STAGE\\_AJCC7\\_AT\\_DIAGNOSIS\\_SIMPLE'\n",
       "\\item 'paper\\_CURATED\\_TCGA\\_SPECIMEN\\_SITE'\n",
       "\\item 'paper\\_CURATED\\_DISTANT\\_ANATOMIC\\_SITE'\n",
       "\\item 'paper\\_CURATED\\_VITAL\\_STATUS'\n",
       "\\item 'paper\\_CURATED\\_DAYS\\_TO\\_DEATH\\_OR\\_LAST\\_FU'\n",
       "\\item 'paper\\_CURATED\\_TCGA\\_DAYS\\_TO\\_DEATH\\_OR\\_LAST\\_FU'\n",
       "\\item 'paper\\_CURATED\\_MELANOMA\\_SPECIFIC\\_VITAL\\_STATUS..0....ALIVE.OR.CENSORED...1....DEAD.OF.MELANOMA..'\n",
       "\\item 'paper\\_CURATED\\_TCGA\\_SPECIMEN\\_Distant'\n",
       "\\item 'paper\\_CC.TT.nTotal.Mut'\n",
       "\\item 'paper\\_DIPYRIM.C.T.nTotal.Mut'\n",
       "\\item 'paper\\_DIPYRIM.C.T.n.C.T..mut'\n",
       "\\item 'paper\\_SHATTERSEEK\\_Chromothripsis\\_calls'\n",
       "\\end{enumerate*}\n"
      ],
      "text/markdown": [
       "1. 'barcode'\n",
       "2. 'patient'\n",
       "3. 'sample'\n",
       "4. 'shortLetterCode'\n",
       "5. 'definition'\n",
       "6. 'sample_submitter_id'\n",
       "7. 'sample_type_id'\n",
       "8. 'tumor_descriptor'\n",
       "9. 'sample_id'\n",
       "10. 'sample_type'\n",
       "11. 'composition'\n",
       "12. 'days_to_collection'\n",
       "13. 'state'\n",
       "14. 'initial_weight'\n",
       "15. 'preservation_method'\n",
       "16. 'pathology_report_uuid'\n",
       "17. 'submitter_id'\n",
       "18. 'oct_embedded'\n",
       "19. 'specimen_type'\n",
       "20. 'is_ffpe'\n",
       "21. 'tissue_type'\n",
       "22. 'synchronous_malignancy'\n",
       "23. 'ajcc_pathologic_stage'\n",
       "24. 'days_to_diagnosis'\n",
       "25. 'treatments'\n",
       "26. 'last_known_disease_status'\n",
       "27. 'tissue_or_organ_of_origin'\n",
       "28. 'days_to_last_follow_up'\n",
       "29. 'age_at_diagnosis'\n",
       "30. 'primary_diagnosis'\n",
       "31. 'prior_malignancy'\n",
       "32. 'year_of_diagnosis'\n",
       "33. 'prior_treatment'\n",
       "34. 'ajcc_staging_system_edition'\n",
       "35. 'ajcc_pathologic_t'\n",
       "36. 'morphology'\n",
       "37. 'ajcc_pathologic_n'\n",
       "38. 'ajcc_pathologic_m'\n",
       "39. 'classification_of_tumor'\n",
       "40. 'diagnosis_id'\n",
       "41. 'icd_10_code'\n",
       "42. 'site_of_resection_or_biopsy'\n",
       "43. 'tumor_grade'\n",
       "44. 'progression_or_recurrence'\n",
       "45. 'alcohol_history'\n",
       "46. 'exposure_id'\n",
       "47. 'race'\n",
       "48. 'gender'\n",
       "49. 'ethnicity'\n",
       "50. 'vital_status'\n",
       "51. 'age_at_index'\n",
       "52. 'days_to_birth'\n",
       "53. 'year_of_birth'\n",
       "54. 'demographic_id'\n",
       "55. 'days_to_death'\n",
       "56. 'year_of_death'\n",
       "57. 'bcr_patient_barcode'\n",
       "58. 'primary_site'\n",
       "59. 'project_id'\n",
       "60. 'disease_type'\n",
       "61. 'name'\n",
       "62. 'releasable'\n",
       "63. 'released'\n",
       "64. 'paper_patient'\n",
       "65. 'paper_ALL_SAMPLES'\n",
       "66. 'paper_MUTATIONSUBTYPES'\n",
       "67. 'paper_ALL_PRIMARY_VS_METASTATIC'\n",
       "68. 'paper_REGIONAL_VS_PRIMARY'\n",
       "69. 'paper_UV.signature'\n",
       "70. 'paper_RNASEQ.CLUSTER_CONSENHIER'\n",
       "71. 'paper_MethTypes.201408'\n",
       "72. 'paper_MIRCluster'\n",
       "73. 'paper_ProteinCluster'\n",
       "74. 'paper_OncoSignCluster'\n",
       "75. 'paper_CDKN2A.cg13601799._meth'\n",
       "76. 'paper_KIT.cg10087973._meth'\n",
       "77. 'paper_BRAF_cna'\n",
       "78. 'paper_NRAS_cna'\n",
       "79. 'paper_MITF_cna'\n",
       "80. 'paper_KIT_cna'\n",
       "81. 'paper_PDGFRA_cna'\n",
       "82. 'paper_KDR_cna'\n",
       "83. 'paper_MYC_cna'\n",
       "84. 'paper_CCND1_cna'\n",
       "85. 'paper_CDK4_cna'\n",
       "86. 'paper_MDM2_cna'\n",
       "87. 'paper_TERT_cna'\n",
       "88. 'paper_EP300_cna'\n",
       "89. 'paper_NOTCH2_cna'\n",
       "90. 'paper_CDKN2A_cna'\n",
       "91. 'paper_PTEN_cna'\n",
       "92. 'paper_TP53_cna'\n",
       "93. 'paper_PPP6C_cna'\n",
       "94. 'paper_ARID2_cna'\n",
       "95. 'paper_IDH1_cna'\n",
       "96. 'paper_MAP2K1_cna'\n",
       "97. 'paper_DDX3X_cna'\n",
       "98. 'paper_RAC1_cna'\n",
       "99. 'paper_NF1_cna'\n",
       "100. 'paper_CASP8_cna'\n",
       "101. 'paper_CTNNB1_cna'\n",
       "102. 'paper_PCDHGA1_cna'\n",
       "103. 'paper_SERPINB3_cna'\n",
       "104. 'paper_IRF7_cna'\n",
       "105. 'paper_HRAS_cna'\n",
       "106. 'paper_PTPN11_cna'\n",
       "107. 'paper_KRAS_cna'\n",
       "108. 'paper_GNA11_cna'\n",
       "109. 'paper_GNAQ_cna'\n",
       "110. 'paper_AKT1_cna'\n",
       "111. 'paper_APC_cna'\n",
       "112. 'paper_EZH2_cna'\n",
       "113. 'paper_FBXW7_cna'\n",
       "114. 'paper_GNAS_cna'\n",
       "115. 'paper_PIK3CA_cna'\n",
       "116. 'paper_ARID2_mut'\n",
       "117. 'paper_BRAF_mut'\n",
       "118. 'paper_NRAS_mut'\n",
       "119. 'paper_KRAS_mut'\n",
       "120. 'paper_HRAS_mut'\n",
       "121. 'paper_NF1_mut'\n",
       "122. 'paper_IDH1_mut'\n",
       "123. 'paper_GNA11_mut'\n",
       "124. 'paper_GNAQ_mut'\n",
       "125. 'paper_CDK4_mut'\n",
       "126. 'paper_CDKN2A_mut'\n",
       "127. 'paper_DDX3X_mut'\n",
       "128. 'paper_KIT_mut'\n",
       "129. 'paper_MAP2K1_mut'\n",
       "130. 'paper_PPP6C_mut'\n",
       "131. 'paper_PTEN_mut'\n",
       "132. 'paper_RAC1_mut'\n",
       "133. 'paper_RB1_mut'\n",
       "134. 'paper_TP53_mut'\n",
       "135. 'paper_TERT_MUT'\n",
       "136. 'paper_rnaseq_TERT.RSEM.NORM_DATA'\n",
       "137. 'paper_rppa_LCK.LCK.R.V'\n",
       "138. 'paper_rppa_SYK.SYK.M.V'\n",
       "139. 'paper_PIGMENT.SCORE'\n",
       "140. 'paper_NECROSIS'\n",
       "141. 'paper_Tumour.content........nuceli.that.are.tumour.cells......0.100..'\n",
       "142. 'paper_LYMPHOCYTE.DISTRIBUTION'\n",
       "143. 'paper_LYMPHOCYTE.DENSITY'\n",
       "144. 'paper_LYMPHOCYTE.SCORE'\n",
       "145. 'paper_PURITY..ABSOLUTE.'\n",
       "146. 'paper_PLOIDY..ABSOLUTE.'\n",
       "147. 'paper_TOTAL.MUTATIONS'\n",
       "148. 'paper_UV.RATE'\n",
       "149. 'paper_CURATED_AGE_AT_INITIAL_PATHOLOGIC_DIAGNOSIS'\n",
       "150. 'paper_CURATED_AGE_AT_TCGA_SPECIMEN'\n",
       "151. 'paper_GENDER'\n",
       "152. 'paper_CURATED_KNOWN_PRIMARY'\n",
       "153. 'paper_CURATED_SITE_OF_PRIMARY_TUMOR_KNOWN_PRIMARY_ONLY'\n",
       "154. 'paper_CURATED_SITE_OF_PRIMARY_TUMOR_INCLUDING_UNKNOWN'\n",
       "155. 'paper_CURATED_BRESLOW'\n",
       "156. 'paper_CURATED_ULCERATION'\n",
       "157. 'paper_CURATED_T_STAGE_AT_DIAGNOSIS_COMPLEX'\n",
       "158. 'paper_CURATED_T_STAGE_AT_DIAGNOSIS_SIMPLE'\n",
       "159. 'paper_CURATED_N_STAGE_AT_DIAGNOSIS_COMPLEX'\n",
       "160. 'paper_CURATED_N_STAGE_AT_DIAGNOSIS_SIMPLE'\n",
       "161. 'paper_CURATED_M_STAGE_AT_DIAGNOSIS_COMPLEX'\n",
       "162. 'paper_CURATED_M_STAGE_AT_DIAGNOSIS_SIMPLE'\n",
       "163. 'paper_CURATED_PATHOLOGIC_STAGE_AJCC7_AT_DIAGNOSIS_COMPLEX'\n",
       "164. 'paper_CURATED_PATHOLOGIC_STAGE_AJCC7_AT_DIAGNOSIS_SIMPLE'\n",
       "165. 'paper_CURATED_TCGA_SPECIMEN_SITE'\n",
       "166. 'paper_CURATED_DISTANT_ANATOMIC_SITE'\n",
       "167. 'paper_CURATED_VITAL_STATUS'\n",
       "168. 'paper_CURATED_DAYS_TO_DEATH_OR_LAST_FU'\n",
       "169. 'paper_CURATED_TCGA_DAYS_TO_DEATH_OR_LAST_FU'\n",
       "170. 'paper_CURATED_MELANOMA_SPECIFIC_VITAL_STATUS..0....ALIVE.OR.CENSORED...1....DEAD.OF.MELANOMA..'\n",
       "171. 'paper_CURATED_TCGA_SPECIMEN_Distant'\n",
       "172. 'paper_CC.TT.nTotal.Mut'\n",
       "173. 'paper_DIPYRIM.C.T.nTotal.Mut'\n",
       "174. 'paper_DIPYRIM.C.T.n.C.T..mut'\n",
       "175. 'paper_SHATTERSEEK_Chromothripsis_calls'\n",
       "\n",
       "\n"
      ],
      "text/plain": [
       "  [1] \"barcode\"                                                                                       \n",
       "  [2] \"patient\"                                                                                       \n",
       "  [3] \"sample\"                                                                                        \n",
       "  [4] \"shortLetterCode\"                                                                               \n",
       "  [5] \"definition\"                                                                                    \n",
       "  [6] \"sample_submitter_id\"                                                                           \n",
       "  [7] \"sample_type_id\"                                                                                \n",
       "  [8] \"tumor_descriptor\"                                                                              \n",
       "  [9] \"sample_id\"                                                                                     \n",
       " [10] \"sample_type\"                                                                                   \n",
       " [11] \"composition\"                                                                                   \n",
       " [12] \"days_to_collection\"                                                                            \n",
       " [13] \"state\"                                                                                         \n",
       " [14] \"initial_weight\"                                                                                \n",
       " [15] \"preservation_method\"                                                                           \n",
       " [16] \"pathology_report_uuid\"                                                                         \n",
       " [17] \"submitter_id\"                                                                                  \n",
       " [18] \"oct_embedded\"                                                                                  \n",
       " [19] \"specimen_type\"                                                                                 \n",
       " [20] \"is_ffpe\"                                                                                       \n",
       " [21] \"tissue_type\"                                                                                   \n",
       " [22] \"synchronous_malignancy\"                                                                        \n",
       " [23] \"ajcc_pathologic_stage\"                                                                         \n",
       " [24] \"days_to_diagnosis\"                                                                             \n",
       " [25] \"treatments\"                                                                                    \n",
       " [26] \"last_known_disease_status\"                                                                     \n",
       " [27] \"tissue_or_organ_of_origin\"                                                                     \n",
       " [28] \"days_to_last_follow_up\"                                                                        \n",
       " [29] \"age_at_diagnosis\"                                                                              \n",
       " [30] \"primary_diagnosis\"                                                                             \n",
       " [31] \"prior_malignancy\"                                                                              \n",
       " [32] \"year_of_diagnosis\"                                                                             \n",
       " [33] \"prior_treatment\"                                                                               \n",
       " [34] \"ajcc_staging_system_edition\"                                                                   \n",
       " [35] \"ajcc_pathologic_t\"                                                                             \n",
       " [36] \"morphology\"                                                                                    \n",
       " [37] \"ajcc_pathologic_n\"                                                                             \n",
       " [38] \"ajcc_pathologic_m\"                                                                             \n",
       " [39] \"classification_of_tumor\"                                                                       \n",
       " [40] \"diagnosis_id\"                                                                                  \n",
       " [41] \"icd_10_code\"                                                                                   \n",
       " [42] \"site_of_resection_or_biopsy\"                                                                   \n",
       " [43] \"tumor_grade\"                                                                                   \n",
       " [44] \"progression_or_recurrence\"                                                                     \n",
       " [45] \"alcohol_history\"                                                                               \n",
       " [46] \"exposure_id\"                                                                                   \n",
       " [47] \"race\"                                                                                          \n",
       " [48] \"gender\"                                                                                        \n",
       " [49] \"ethnicity\"                                                                                     \n",
       " [50] \"vital_status\"                                                                                  \n",
       " [51] \"age_at_index\"                                                                                  \n",
       " [52] \"days_to_birth\"                                                                                 \n",
       " [53] \"year_of_birth\"                                                                                 \n",
       " [54] \"demographic_id\"                                                                                \n",
       " [55] \"days_to_death\"                                                                                 \n",
       " [56] \"year_of_death\"                                                                                 \n",
       " [57] \"bcr_patient_barcode\"                                                                           \n",
       " [58] \"primary_site\"                                                                                  \n",
       " [59] \"project_id\"                                                                                    \n",
       " [60] \"disease_type\"                                                                                  \n",
       " [61] \"name\"                                                                                          \n",
       " [62] \"releasable\"                                                                                    \n",
       " [63] \"released\"                                                                                      \n",
       " [64] \"paper_patient\"                                                                                 \n",
       " [65] \"paper_ALL_SAMPLES\"                                                                             \n",
       " [66] \"paper_MUTATIONSUBTYPES\"                                                                        \n",
       " [67] \"paper_ALL_PRIMARY_VS_METASTATIC\"                                                               \n",
       " [68] \"paper_REGIONAL_VS_PRIMARY\"                                                                     \n",
       " [69] \"paper_UV.signature\"                                                                            \n",
       " [70] \"paper_RNASEQ.CLUSTER_CONSENHIER\"                                                               \n",
       " [71] \"paper_MethTypes.201408\"                                                                        \n",
       " [72] \"paper_MIRCluster\"                                                                              \n",
       " [73] \"paper_ProteinCluster\"                                                                          \n",
       " [74] \"paper_OncoSignCluster\"                                                                         \n",
       " [75] \"paper_CDKN2A.cg13601799._meth\"                                                                 \n",
       " [76] \"paper_KIT.cg10087973._meth\"                                                                    \n",
       " [77] \"paper_BRAF_cna\"                                                                                \n",
       " [78] \"paper_NRAS_cna\"                                                                                \n",
       " [79] \"paper_MITF_cna\"                                                                                \n",
       " [80] \"paper_KIT_cna\"                                                                                 \n",
       " [81] \"paper_PDGFRA_cna\"                                                                              \n",
       " [82] \"paper_KDR_cna\"                                                                                 \n",
       " [83] \"paper_MYC_cna\"                                                                                 \n",
       " [84] \"paper_CCND1_cna\"                                                                               \n",
       " [85] \"paper_CDK4_cna\"                                                                                \n",
       " [86] \"paper_MDM2_cna\"                                                                                \n",
       " [87] \"paper_TERT_cna\"                                                                                \n",
       " [88] \"paper_EP300_cna\"                                                                               \n",
       " [89] \"paper_NOTCH2_cna\"                                                                              \n",
       " [90] \"paper_CDKN2A_cna\"                                                                              \n",
       " [91] \"paper_PTEN_cna\"                                                                                \n",
       " [92] \"paper_TP53_cna\"                                                                                \n",
       " [93] \"paper_PPP6C_cna\"                                                                               \n",
       " [94] \"paper_ARID2_cna\"                                                                               \n",
       " [95] \"paper_IDH1_cna\"                                                                                \n",
       " [96] \"paper_MAP2K1_cna\"                                                                              \n",
       " [97] \"paper_DDX3X_cna\"                                                                               \n",
       " [98] \"paper_RAC1_cna\"                                                                                \n",
       " [99] \"paper_NF1_cna\"                                                                                 \n",
       "[100] \"paper_CASP8_cna\"                                                                               \n",
       "[101] \"paper_CTNNB1_cna\"                                                                              \n",
       "[102] \"paper_PCDHGA1_cna\"                                                                             \n",
       "[103] \"paper_SERPINB3_cna\"                                                                            \n",
       "[104] \"paper_IRF7_cna\"                                                                                \n",
       "[105] \"paper_HRAS_cna\"                                                                                \n",
       "[106] \"paper_PTPN11_cna\"                                                                              \n",
       "[107] \"paper_KRAS_cna\"                                                                                \n",
       "[108] \"paper_GNA11_cna\"                                                                               \n",
       "[109] \"paper_GNAQ_cna\"                                                                                \n",
       "[110] \"paper_AKT1_cna\"                                                                                \n",
       "[111] \"paper_APC_cna\"                                                                                 \n",
       "[112] \"paper_EZH2_cna\"                                                                                \n",
       "[113] \"paper_FBXW7_cna\"                                                                               \n",
       "[114] \"paper_GNAS_cna\"                                                                                \n",
       "[115] \"paper_PIK3CA_cna\"                                                                              \n",
       "[116] \"paper_ARID2_mut\"                                                                               \n",
       "[117] \"paper_BRAF_mut\"                                                                                \n",
       "[118] \"paper_NRAS_mut\"                                                                                \n",
       "[119] \"paper_KRAS_mut\"                                                                                \n",
       "[120] \"paper_HRAS_mut\"                                                                                \n",
       "[121] \"paper_NF1_mut\"                                                                                 \n",
       "[122] \"paper_IDH1_mut\"                                                                                \n",
       "[123] \"paper_GNA11_mut\"                                                                               \n",
       "[124] \"paper_GNAQ_mut\"                                                                                \n",
       "[125] \"paper_CDK4_mut\"                                                                                \n",
       "[126] \"paper_CDKN2A_mut\"                                                                              \n",
       "[127] \"paper_DDX3X_mut\"                                                                               \n",
       "[128] \"paper_KIT_mut\"                                                                                 \n",
       "[129] \"paper_MAP2K1_mut\"                                                                              \n",
       "[130] \"paper_PPP6C_mut\"                                                                               \n",
       "[131] \"paper_PTEN_mut\"                                                                                \n",
       "[132] \"paper_RAC1_mut\"                                                                                \n",
       "[133] \"paper_RB1_mut\"                                                                                 \n",
       "[134] \"paper_TP53_mut\"                                                                                \n",
       "[135] \"paper_TERT_MUT\"                                                                                \n",
       "[136] \"paper_rnaseq_TERT.RSEM.NORM_DATA\"                                                              \n",
       "[137] \"paper_rppa_LCK.LCK.R.V\"                                                                        \n",
       "[138] \"paper_rppa_SYK.SYK.M.V\"                                                                        \n",
       "[139] \"paper_PIGMENT.SCORE\"                                                                           \n",
       "[140] \"paper_NECROSIS\"                                                                                \n",
       "[141] \"paper_Tumour.content........nuceli.that.are.tumour.cells......0.100..\"                         \n",
       "[142] \"paper_LYMPHOCYTE.DISTRIBUTION\"                                                                 \n",
       "[143] \"paper_LYMPHOCYTE.DENSITY\"                                                                      \n",
       "[144] \"paper_LYMPHOCYTE.SCORE\"                                                                        \n",
       "[145] \"paper_PURITY..ABSOLUTE.\"                                                                       \n",
       "[146] \"paper_PLOIDY..ABSOLUTE.\"                                                                       \n",
       "[147] \"paper_TOTAL.MUTATIONS\"                                                                         \n",
       "[148] \"paper_UV.RATE\"                                                                                 \n",
       "[149] \"paper_CURATED_AGE_AT_INITIAL_PATHOLOGIC_DIAGNOSIS\"                                             \n",
       "[150] \"paper_CURATED_AGE_AT_TCGA_SPECIMEN\"                                                            \n",
       "[151] \"paper_GENDER\"                                                                                  \n",
       "[152] \"paper_CURATED_KNOWN_PRIMARY\"                                                                   \n",
       "[153] \"paper_CURATED_SITE_OF_PRIMARY_TUMOR_KNOWN_PRIMARY_ONLY\"                                        \n",
       "[154] \"paper_CURATED_SITE_OF_PRIMARY_TUMOR_INCLUDING_UNKNOWN\"                                         \n",
       "[155] \"paper_CURATED_BRESLOW\"                                                                         \n",
       "[156] \"paper_CURATED_ULCERATION\"                                                                      \n",
       "[157] \"paper_CURATED_T_STAGE_AT_DIAGNOSIS_COMPLEX\"                                                    \n",
       "[158] \"paper_CURATED_T_STAGE_AT_DIAGNOSIS_SIMPLE\"                                                     \n",
       "[159] \"paper_CURATED_N_STAGE_AT_DIAGNOSIS_COMPLEX\"                                                    \n",
       "[160] \"paper_CURATED_N_STAGE_AT_DIAGNOSIS_SIMPLE\"                                                     \n",
       "[161] \"paper_CURATED_M_STAGE_AT_DIAGNOSIS_COMPLEX\"                                                    \n",
       "[162] \"paper_CURATED_M_STAGE_AT_DIAGNOSIS_SIMPLE\"                                                     \n",
       "[163] \"paper_CURATED_PATHOLOGIC_STAGE_AJCC7_AT_DIAGNOSIS_COMPLEX\"                                     \n",
       "[164] \"paper_CURATED_PATHOLOGIC_STAGE_AJCC7_AT_DIAGNOSIS_SIMPLE\"                                      \n",
       "[165] \"paper_CURATED_TCGA_SPECIMEN_SITE\"                                                              \n",
       "[166] \"paper_CURATED_DISTANT_ANATOMIC_SITE\"                                                           \n",
       "[167] \"paper_CURATED_VITAL_STATUS\"                                                                    \n",
       "[168] \"paper_CURATED_DAYS_TO_DEATH_OR_LAST_FU\"                                                        \n",
       "[169] \"paper_CURATED_TCGA_DAYS_TO_DEATH_OR_LAST_FU\"                                                   \n",
       "[170] \"paper_CURATED_MELANOMA_SPECIFIC_VITAL_STATUS..0....ALIVE.OR.CENSORED...1....DEAD.OF.MELANOMA..\"\n",
       "[171] \"paper_CURATED_TCGA_SPECIMEN_Distant\"                                                           \n",
       "[172] \"paper_CC.TT.nTotal.Mut\"                                                                        \n",
       "[173] \"paper_DIPYRIM.C.T.nTotal.Mut\"                                                                  \n",
       "[174] \"paper_DIPYRIM.C.T.n.C.T..mut\"                                                                  \n",
       "[175] \"paper_SHATTERSEEK_Chromothripsis_calls\"                                                        "
      ]
     },
     "metadata": {},
     "output_type": "display_data"
    }
   ],
   "source": [
    "#to view the types of data stored for each sample \n",
    "colnames(colData(primary))"
   ]
  },
  {
   "cell_type": "code",
   "execution_count": 91,
   "metadata": {
    "vscode": {
     "languageId": "r"
    }
   },
   "outputs": [
    {
     "data": {
      "text/html": [
       "<style>\n",
       ".list-inline {list-style: none; margin:0; padding: 0}\n",
       ".list-inline>li {display: inline-block}\n",
       ".list-inline>li:not(:last-child)::after {content: \"\\00b7\"; padding: 0 .5ex}\n",
       "</style>\n",
       "<ol class=list-inline><li>103</li><li>1</li></ol>\n"
      ],
      "text/latex": [
       "\\begin{enumerate*}\n",
       "\\item 103\n",
       "\\item 1\n",
       "\\end{enumerate*}\n"
      ],
      "text/markdown": [
       "1. 103\n",
       "2. 1\n",
       "\n",
       "\n"
      ],
      "text/plain": [
       "[1] 103   1"
      ]
     },
     "metadata": {},
     "output_type": "display_data"
    },
    {
     "data": {
      "text/html": [
       "<table class=\"dataframe\">\n",
       "<caption>A matrix: 6 × 1 of type dbl</caption>\n",
       "<thead>\n",
       "\t<tr><th></th><th scope=col>mat</th></tr>\n",
       "</thead>\n",
       "<tbody>\n",
       "\t<tr><th scope=row>TCGA-BF-A5ES-01A-11R-A27Q-07</th><td> 1.2780033</td></tr>\n",
       "\t<tr><th scope=row>TCGA-EB-A3XF-01A-31R-A239-07</th><td> 0.5317625</td></tr>\n",
       "\t<tr><th scope=row>TCGA-EB-A57M-01A-51R-A311-07</th><td> 0.5988608</td></tr>\n",
       "\t<tr><th scope=row>TCGA-BF-AAP8-01A-11R-A40A-07</th><td>-1.0679094</td></tr>\n",
       "\t<tr><th scope=row>TCGA-ER-A2NF-01A-11R-A18T-07</th><td> 0.4080422</td></tr>\n",
       "\t<tr><th scope=row>TCGA-ER-A194-01A-11R-A18U-07</th><td>-0.6428138</td></tr>\n",
       "</tbody>\n",
       "</table>\n"
      ],
      "text/latex": [
       "A matrix: 6 × 1 of type dbl\n",
       "\\begin{tabular}{r|l}\n",
       "  & mat\\\\\n",
       "\\hline\n",
       "\tTCGA-BF-A5ES-01A-11R-A27Q-07 &  1.2780033\\\\\n",
       "\tTCGA-EB-A3XF-01A-31R-A239-07 &  0.5317625\\\\\n",
       "\tTCGA-EB-A57M-01A-51R-A311-07 &  0.5988608\\\\\n",
       "\tTCGA-BF-AAP8-01A-11R-A40A-07 & -1.0679094\\\\\n",
       "\tTCGA-ER-A2NF-01A-11R-A18T-07 &  0.4080422\\\\\n",
       "\tTCGA-ER-A194-01A-11R-A18U-07 & -0.6428138\\\\\n",
       "\\end{tabular}\n"
      ],
      "text/markdown": [
       "\n",
       "A matrix: 6 × 1 of type dbl\n",
       "\n",
       "| <!--/--> | mat |\n",
       "|---|---|\n",
       "| TCGA-BF-A5ES-01A-11R-A27Q-07 |  1.2780033 |\n",
       "| TCGA-EB-A3XF-01A-31R-A239-07 |  0.5317625 |\n",
       "| TCGA-EB-A57M-01A-51R-A311-07 |  0.5988608 |\n",
       "| TCGA-BF-AAP8-01A-11R-A40A-07 | -1.0679094 |\n",
       "| TCGA-ER-A2NF-01A-11R-A18T-07 |  0.4080422 |\n",
       "| TCGA-ER-A194-01A-11R-A18U-07 | -0.6428138 |\n",
       "\n"
      ],
      "text/plain": [
       "                             mat       \n",
       "TCGA-BF-A5ES-01A-11R-A27Q-07  1.2780033\n",
       "TCGA-EB-A3XF-01A-31R-A239-07  0.5317625\n",
       "TCGA-EB-A57M-01A-51R-A311-07  0.5988608\n",
       "TCGA-BF-AAP8-01A-11R-A40A-07 -1.0679094\n",
       "TCGA-ER-A2NF-01A-11R-A18T-07  0.4080422\n",
       "TCGA-ER-A194-01A-11R-A18U-07 -0.6428138"
      ]
     },
     "metadata": {},
     "output_type": "display_data"
    }
   ],
   "source": [
    "#change column name\n",
    "mat <- t(mat)\n",
    "dim(mat)\n",
    "colnames(mat) <- c(\"mat\")\n",
    "head(mat)"
   ]
  },
  {
   "cell_type": "code",
   "execution_count": 92,
   "metadata": {
    "vscode": {
     "languageId": "r"
    }
   },
   "outputs": [
    {
     "data": {
      "text/html": [
       "<table class=\"dataframe\">\n",
       "<caption>A matrix: 6 × 4 of type chr</caption>\n",
       "<thead>\n",
       "\t<tr><th></th><th scope=col>mat</th><th scope=col>Days_to_last_follow_up</th><th scope=col>vital_status</th><th scope=col>days_to_death</th></tr>\n",
       "</thead>\n",
       "<tbody>\n",
       "\t<tr><th scope=row>TCGA-BF-A5ES-01A-11R-A27Q-07</th><td>1.27800330783343  </td><td>490</td><td>Alive</td><td>NA  </td></tr>\n",
       "\t<tr><th scope=row>TCGA-EB-A3XF-01A-31R-A239-07</th><td>0.53176254355142  </td><td>278</td><td>Alive</td><td>NA  </td></tr>\n",
       "\t<tr><th scope=row>TCGA-EB-A57M-01A-51R-A311-07</th><td>0.598860825592122 </td><td>399</td><td>Dead </td><td>472 </td></tr>\n",
       "\t<tr><th scope=row>TCGA-BF-AAP8-01A-11R-A40A-07</th><td>-1.06790937000583 </td><td>447</td><td>Alive</td><td>NA  </td></tr>\n",
       "\t<tr><th scope=row>TCGA-ER-A2NF-01A-11R-A18T-07</th><td>0.408042223171928 </td><td>498</td><td>Dead </td><td>877 </td></tr>\n",
       "\t<tr><th scope=row>TCGA-ER-A194-01A-11R-A18U-07</th><td>-0.642813844672632</td><td>NA </td><td>Dead </td><td>1354</td></tr>\n",
       "</tbody>\n",
       "</table>\n"
      ],
      "text/latex": [
       "A matrix: 6 × 4 of type chr\n",
       "\\begin{tabular}{r|llll}\n",
       "  & mat & Days\\_to\\_last\\_follow\\_up & vital\\_status & days\\_to\\_death\\\\\n",
       "\\hline\n",
       "\tTCGA-BF-A5ES-01A-11R-A27Q-07 & 1.27800330783343   & 490 & Alive & NA  \\\\\n",
       "\tTCGA-EB-A3XF-01A-31R-A239-07 & 0.53176254355142   & 278 & Alive & NA  \\\\\n",
       "\tTCGA-EB-A57M-01A-51R-A311-07 & 0.598860825592122  & 399 & Dead  & 472 \\\\\n",
       "\tTCGA-BF-AAP8-01A-11R-A40A-07 & -1.06790937000583  & 447 & Alive & NA  \\\\\n",
       "\tTCGA-ER-A2NF-01A-11R-A18T-07 & 0.408042223171928  & 498 & Dead  & 877 \\\\\n",
       "\tTCGA-ER-A194-01A-11R-A18U-07 & -0.642813844672632 & NA  & Dead  & 1354\\\\\n",
       "\\end{tabular}\n"
      ],
      "text/markdown": [
       "\n",
       "A matrix: 6 × 4 of type chr\n",
       "\n",
       "| <!--/--> | mat | Days_to_last_follow_up | vital_status | days_to_death |\n",
       "|---|---|---|---|---|\n",
       "| TCGA-BF-A5ES-01A-11R-A27Q-07 | 1.27800330783343   | 490 | Alive | NA   |\n",
       "| TCGA-EB-A3XF-01A-31R-A239-07 | 0.53176254355142   | 278 | Alive | NA   |\n",
       "| TCGA-EB-A57M-01A-51R-A311-07 | 0.598860825592122  | 399 | Dead  | 472  |\n",
       "| TCGA-BF-AAP8-01A-11R-A40A-07 | -1.06790937000583  | 447 | Alive | NA   |\n",
       "| TCGA-ER-A2NF-01A-11R-A18T-07 | 0.408042223171928  | 498 | Dead  | 877  |\n",
       "| TCGA-ER-A194-01A-11R-A18U-07 | -0.642813844672632 | NA  | Dead  | 1354 |\n",
       "\n"
      ],
      "text/plain": [
       "                             mat                Days_to_last_follow_up\n",
       "TCGA-BF-A5ES-01A-11R-A27Q-07 1.27800330783343   490                   \n",
       "TCGA-EB-A3XF-01A-31R-A239-07 0.53176254355142   278                   \n",
       "TCGA-EB-A57M-01A-51R-A311-07 0.598860825592122  399                   \n",
       "TCGA-BF-AAP8-01A-11R-A40A-07 -1.06790937000583  447                   \n",
       "TCGA-ER-A2NF-01A-11R-A18T-07 0.408042223171928  498                   \n",
       "TCGA-ER-A194-01A-11R-A18U-07 -0.642813844672632 NA                    \n",
       "                             vital_status days_to_death\n",
       "TCGA-BF-A5ES-01A-11R-A27Q-07 Alive        NA           \n",
       "TCGA-EB-A3XF-01A-31R-A239-07 Alive        NA           \n",
       "TCGA-EB-A57M-01A-51R-A311-07 Dead         472          \n",
       "TCGA-BF-AAP8-01A-11R-A40A-07 Alive        NA           \n",
       "TCGA-ER-A2NF-01A-11R-A18T-07 Dead         877          \n",
       "TCGA-ER-A194-01A-11R-A18U-07 Dead         1354         "
      ]
     },
     "metadata": {},
     "output_type": "display_data"
    }
   ],
   "source": [
    "#now look at days to death, plot K-M curved grouped by groups of mat score \n",
    "###following this tutorial: https://www.youtube.com/watch?v=DnygUTAZFmM\n",
    "\n",
    "#making a matrix with all the data I need\n",
    "death_days <- colData(primary)$days_to_death\n",
    "names(death_days) <- row.names(colData(primary))\n",
    "followup_days <- colData(primary)$days_to_last_follow_up\n",
    "names(followup_days) <- row.names(colData(primary))\n",
    "status <- colData(primary)$vital_status\n",
    "names(status) <- row.names(colData(primary))\n",
    "\n",
    "concat_survival <- cbind(mat,followup_days,status,death_days)\n",
    "colnames(concat_survival) <- c(\"mat\",\"Days_to_last_follow_up\",\"vital_status\",\"days_to_death\")\n",
    "head(concat_survival) \n",
    "concat_survival <- as.data.frame(concat_survival)\n",
    "#now I have a table with the above variables for each patient"
   ]
  },
  {
   "cell_type": "code",
   "execution_count": 93,
   "metadata": {
    "vscode": {
     "languageId": "r"
    }
   },
   "outputs": [
    {
     "data": {
      "text/html": [
       "<table class=\"dataframe\">\n",
       "<caption>A data.frame: 6 × 5</caption>\n",
       "<thead>\n",
       "\t<tr><th></th><th scope=col>mat</th><th scope=col>Days_to_last_follow_up</th><th scope=col>vital_status</th><th scope=col>days_to_death</th><th scope=col>deceased</th></tr>\n",
       "\t<tr><th></th><th scope=col>&lt;chr&gt;</th><th scope=col>&lt;chr&gt;</th><th scope=col>&lt;chr&gt;</th><th scope=col>&lt;chr&gt;</th><th scope=col>&lt;lgl&gt;</th></tr>\n",
       "</thead>\n",
       "<tbody>\n",
       "\t<tr><th scope=row>TCGA-BF-A5ES-01A-11R-A27Q-07</th><td>1.27800330783343  </td><td>490</td><td>Alive</td><td>NA  </td><td>FALSE</td></tr>\n",
       "\t<tr><th scope=row>TCGA-EB-A3XF-01A-31R-A239-07</th><td>0.53176254355142  </td><td>278</td><td>Alive</td><td>NA  </td><td>FALSE</td></tr>\n",
       "\t<tr><th scope=row>TCGA-EB-A57M-01A-51R-A311-07</th><td>0.598860825592122 </td><td>399</td><td>Dead </td><td>472 </td><td> TRUE</td></tr>\n",
       "\t<tr><th scope=row>TCGA-BF-AAP8-01A-11R-A40A-07</th><td>-1.06790937000583 </td><td>447</td><td>Alive</td><td>NA  </td><td>FALSE</td></tr>\n",
       "\t<tr><th scope=row>TCGA-ER-A2NF-01A-11R-A18T-07</th><td>0.408042223171928 </td><td>498</td><td>Dead </td><td>877 </td><td> TRUE</td></tr>\n",
       "\t<tr><th scope=row>TCGA-ER-A194-01A-11R-A18U-07</th><td>-0.642813844672632</td><td>NA </td><td>Dead </td><td>1354</td><td> TRUE</td></tr>\n",
       "</tbody>\n",
       "</table>\n"
      ],
      "text/latex": [
       "A data.frame: 6 × 5\n",
       "\\begin{tabular}{r|lllll}\n",
       "  & mat & Days\\_to\\_last\\_follow\\_up & vital\\_status & days\\_to\\_death & deceased\\\\\n",
       "  & <chr> & <chr> & <chr> & <chr> & <lgl>\\\\\n",
       "\\hline\n",
       "\tTCGA-BF-A5ES-01A-11R-A27Q-07 & 1.27800330783343   & 490 & Alive & NA   & FALSE\\\\\n",
       "\tTCGA-EB-A3XF-01A-31R-A239-07 & 0.53176254355142   & 278 & Alive & NA   & FALSE\\\\\n",
       "\tTCGA-EB-A57M-01A-51R-A311-07 & 0.598860825592122  & 399 & Dead  & 472  &  TRUE\\\\\n",
       "\tTCGA-BF-AAP8-01A-11R-A40A-07 & -1.06790937000583  & 447 & Alive & NA   & FALSE\\\\\n",
       "\tTCGA-ER-A2NF-01A-11R-A18T-07 & 0.408042223171928  & 498 & Dead  & 877  &  TRUE\\\\\n",
       "\tTCGA-ER-A194-01A-11R-A18U-07 & -0.642813844672632 & NA  & Dead  & 1354 &  TRUE\\\\\n",
       "\\end{tabular}\n"
      ],
      "text/markdown": [
       "\n",
       "A data.frame: 6 × 5\n",
       "\n",
       "| <!--/--> | mat &lt;chr&gt; | Days_to_last_follow_up &lt;chr&gt; | vital_status &lt;chr&gt; | days_to_death &lt;chr&gt; | deceased &lt;lgl&gt; |\n",
       "|---|---|---|---|---|---|\n",
       "| TCGA-BF-A5ES-01A-11R-A27Q-07 | 1.27800330783343   | 490 | Alive | NA   | FALSE |\n",
       "| TCGA-EB-A3XF-01A-31R-A239-07 | 0.53176254355142   | 278 | Alive | NA   | FALSE |\n",
       "| TCGA-EB-A57M-01A-51R-A311-07 | 0.598860825592122  | 399 | Dead  | 472  |  TRUE |\n",
       "| TCGA-BF-AAP8-01A-11R-A40A-07 | -1.06790937000583  | 447 | Alive | NA   | FALSE |\n",
       "| TCGA-ER-A2NF-01A-11R-A18T-07 | 0.408042223171928  | 498 | Dead  | 877  |  TRUE |\n",
       "| TCGA-ER-A194-01A-11R-A18U-07 | -0.642813844672632 | NA  | Dead  | 1354 |  TRUE |\n",
       "\n"
      ],
      "text/plain": [
       "                             mat                Days_to_last_follow_up\n",
       "TCGA-BF-A5ES-01A-11R-A27Q-07 1.27800330783343   490                   \n",
       "TCGA-EB-A3XF-01A-31R-A239-07 0.53176254355142   278                   \n",
       "TCGA-EB-A57M-01A-51R-A311-07 0.598860825592122  399                   \n",
       "TCGA-BF-AAP8-01A-11R-A40A-07 -1.06790937000583  447                   \n",
       "TCGA-ER-A2NF-01A-11R-A18T-07 0.408042223171928  498                   \n",
       "TCGA-ER-A194-01A-11R-A18U-07 -0.642813844672632 NA                    \n",
       "                             vital_status days_to_death deceased\n",
       "TCGA-BF-A5ES-01A-11R-A27Q-07 Alive        NA            FALSE   \n",
       "TCGA-EB-A3XF-01A-31R-A239-07 Alive        NA            FALSE   \n",
       "TCGA-EB-A57M-01A-51R-A311-07 Dead         472            TRUE   \n",
       "TCGA-BF-AAP8-01A-11R-A40A-07 Alive        NA            FALSE   \n",
       "TCGA-ER-A2NF-01A-11R-A18T-07 Dead         877            TRUE   \n",
       "TCGA-ER-A194-01A-11R-A18U-07 Dead         1354           TRUE   "
      ]
     },
     "metadata": {},
     "output_type": "display_data"
    }
   ],
   "source": [
    "#make a new column that records whether or not deceased, this will be needed for status in survival anakysis (for censoring)\n",
    "concat_survival$deceased <- ifelse(concat_survival$vital_status == \"Alive\", FALSE, TRUE)\n",
    "head(concat_survival)"
   ]
  },
  {
   "cell_type": "code",
   "execution_count": 94,
   "metadata": {
    "vscode": {
     "languageId": "r"
    }
   },
   "outputs": [
    {
     "data": {
      "text/html": [
       "<table class=\"dataframe\">\n",
       "<caption>A data.frame: 6 × 6</caption>\n",
       "<thead>\n",
       "\t<tr><th></th><th scope=col>mat</th><th scope=col>Days_to_last_follow_up</th><th scope=col>vital_status</th><th scope=col>days_to_death</th><th scope=col>deceased</th><th scope=col>overall_survival</th></tr>\n",
       "\t<tr><th></th><th scope=col>&lt;chr&gt;</th><th scope=col>&lt;chr&gt;</th><th scope=col>&lt;chr&gt;</th><th scope=col>&lt;chr&gt;</th><th scope=col>&lt;lgl&gt;</th><th scope=col>&lt;dbl&gt;</th></tr>\n",
       "</thead>\n",
       "<tbody>\n",
       "\t<tr><th scope=row>TCGA-BF-A5ES-01A-11R-A27Q-07</th><td>1.27800330783343  </td><td>490</td><td>Alive</td><td>NA  </td><td>FALSE</td><td> 490</td></tr>\n",
       "\t<tr><th scope=row>TCGA-EB-A3XF-01A-31R-A239-07</th><td>0.53176254355142  </td><td>278</td><td>Alive</td><td>NA  </td><td>FALSE</td><td> 278</td></tr>\n",
       "\t<tr><th scope=row>TCGA-EB-A57M-01A-51R-A311-07</th><td>0.598860825592122 </td><td>399</td><td>Dead </td><td>472 </td><td> TRUE</td><td> 472</td></tr>\n",
       "\t<tr><th scope=row>TCGA-BF-AAP8-01A-11R-A40A-07</th><td>-1.06790937000583 </td><td>447</td><td>Alive</td><td>NA  </td><td>FALSE</td><td> 447</td></tr>\n",
       "\t<tr><th scope=row>TCGA-ER-A2NF-01A-11R-A18T-07</th><td>0.408042223171928 </td><td>498</td><td>Dead </td><td>877 </td><td> TRUE</td><td> 877</td></tr>\n",
       "\t<tr><th scope=row>TCGA-ER-A194-01A-11R-A18U-07</th><td>-0.642813844672632</td><td>NA </td><td>Dead </td><td>1354</td><td> TRUE</td><td>1354</td></tr>\n",
       "</tbody>\n",
       "</table>\n"
      ],
      "text/latex": [
       "A data.frame: 6 × 6\n",
       "\\begin{tabular}{r|llllll}\n",
       "  & mat & Days\\_to\\_last\\_follow\\_up & vital\\_status & days\\_to\\_death & deceased & overall\\_survival\\\\\n",
       "  & <chr> & <chr> & <chr> & <chr> & <lgl> & <dbl>\\\\\n",
       "\\hline\n",
       "\tTCGA-BF-A5ES-01A-11R-A27Q-07 & 1.27800330783343   & 490 & Alive & NA   & FALSE &  490\\\\\n",
       "\tTCGA-EB-A3XF-01A-31R-A239-07 & 0.53176254355142   & 278 & Alive & NA   & FALSE &  278\\\\\n",
       "\tTCGA-EB-A57M-01A-51R-A311-07 & 0.598860825592122  & 399 & Dead  & 472  &  TRUE &  472\\\\\n",
       "\tTCGA-BF-AAP8-01A-11R-A40A-07 & -1.06790937000583  & 447 & Alive & NA   & FALSE &  447\\\\\n",
       "\tTCGA-ER-A2NF-01A-11R-A18T-07 & 0.408042223171928  & 498 & Dead  & 877  &  TRUE &  877\\\\\n",
       "\tTCGA-ER-A194-01A-11R-A18U-07 & -0.642813844672632 & NA  & Dead  & 1354 &  TRUE & 1354\\\\\n",
       "\\end{tabular}\n"
      ],
      "text/markdown": [
       "\n",
       "A data.frame: 6 × 6\n",
       "\n",
       "| <!--/--> | mat &lt;chr&gt; | Days_to_last_follow_up &lt;chr&gt; | vital_status &lt;chr&gt; | days_to_death &lt;chr&gt; | deceased &lt;lgl&gt; | overall_survival &lt;dbl&gt; |\n",
       "|---|---|---|---|---|---|---|\n",
       "| TCGA-BF-A5ES-01A-11R-A27Q-07 | 1.27800330783343   | 490 | Alive | NA   | FALSE |  490 |\n",
       "| TCGA-EB-A3XF-01A-31R-A239-07 | 0.53176254355142   | 278 | Alive | NA   | FALSE |  278 |\n",
       "| TCGA-EB-A57M-01A-51R-A311-07 | 0.598860825592122  | 399 | Dead  | 472  |  TRUE |  472 |\n",
       "| TCGA-BF-AAP8-01A-11R-A40A-07 | -1.06790937000583  | 447 | Alive | NA   | FALSE |  447 |\n",
       "| TCGA-ER-A2NF-01A-11R-A18T-07 | 0.408042223171928  | 498 | Dead  | 877  |  TRUE |  877 |\n",
       "| TCGA-ER-A194-01A-11R-A18U-07 | -0.642813844672632 | NA  | Dead  | 1354 |  TRUE | 1354 |\n",
       "\n"
      ],
      "text/plain": [
       "                             mat                Days_to_last_follow_up\n",
       "TCGA-BF-A5ES-01A-11R-A27Q-07 1.27800330783343   490                   \n",
       "TCGA-EB-A3XF-01A-31R-A239-07 0.53176254355142   278                   \n",
       "TCGA-EB-A57M-01A-51R-A311-07 0.598860825592122  399                   \n",
       "TCGA-BF-AAP8-01A-11R-A40A-07 -1.06790937000583  447                   \n",
       "TCGA-ER-A2NF-01A-11R-A18T-07 0.408042223171928  498                   \n",
       "TCGA-ER-A194-01A-11R-A18U-07 -0.642813844672632 NA                    \n",
       "                             vital_status days_to_death deceased\n",
       "TCGA-BF-A5ES-01A-11R-A27Q-07 Alive        NA            FALSE   \n",
       "TCGA-EB-A3XF-01A-31R-A239-07 Alive        NA            FALSE   \n",
       "TCGA-EB-A57M-01A-51R-A311-07 Dead         472            TRUE   \n",
       "TCGA-BF-AAP8-01A-11R-A40A-07 Alive        NA            FALSE   \n",
       "TCGA-ER-A2NF-01A-11R-A18T-07 Dead         877            TRUE   \n",
       "TCGA-ER-A194-01A-11R-A18U-07 Dead         1354           TRUE   \n",
       "                             overall_survival\n",
       "TCGA-BF-A5ES-01A-11R-A27Q-07  490            \n",
       "TCGA-EB-A3XF-01A-31R-A239-07  278            \n",
       "TCGA-EB-A57M-01A-51R-A311-07  472            \n",
       "TCGA-BF-AAP8-01A-11R-A40A-07  447            \n",
       "TCGA-ER-A2NF-01A-11R-A18T-07  877            \n",
       "TCGA-ER-A194-01A-11R-A18U-07 1354            "
      ]
     },
     "metadata": {},
     "output_type": "display_data"
    }
   ],
   "source": [
    "#next need to make a \"overall survival\" column that is equal to days to death for dead patients and to days to last follow up for patients who are still alive \n",
    "concat_survival$overall_survival <- ifelse(concat_survival$vital_status == \"Alive\",\n",
    "                                           concat_survival$Days_to_last_follow_up,\n",
    "                                           concat_survival$days_to_death)\n",
    "\n",
    "#convert overall_survival to numeric\n",
    "concat_survival$overall_survival <- as.numeric(concat_survival$overall_survival)\n",
    "\n",
    "head(concat_survival)"
   ]
  },
  {
   "cell_type": "code",
   "execution_count": 95,
   "metadata": {
    "vscode": {
     "languageId": "r"
    }
   },
   "outputs": [],
   "source": [
    "# load packages needed for survival analysis\n",
    "library(survival)\n",
    "library(survminer)"
   ]
  },
  {
   "cell_type": "code",
   "execution_count": 96,
   "metadata": {
    "vscode": {
     "languageId": "r"
    }
   },
   "outputs": [
    {
     "data": {
      "text/html": [
       "<table class=\"dataframe\">\n",
       "<caption>A data.frame: 6 × 7</caption>\n",
       "<thead>\n",
       "\t<tr><th></th><th scope=col>mat</th><th scope=col>Days_to_last_follow_up</th><th scope=col>vital_status</th><th scope=col>days_to_death</th><th scope=col>deceased</th><th scope=col>overall_survival</th><th scope=col>strata</th></tr>\n",
       "\t<tr><th></th><th scope=col>&lt;chr&gt;</th><th scope=col>&lt;chr&gt;</th><th scope=col>&lt;chr&gt;</th><th scope=col>&lt;chr&gt;</th><th scope=col>&lt;lgl&gt;</th><th scope=col>&lt;dbl&gt;</th><th scope=col>&lt;chr&gt;</th></tr>\n",
       "</thead>\n",
       "<tbody>\n",
       "\t<tr><th scope=row>TCGA-BF-A5ES-01A-11R-A27Q-07</th><td>1.27800330783343  </td><td>490</td><td>Alive</td><td>NA  </td><td>FALSE</td><td> 490</td><td>Top 33%</td></tr>\n",
       "\t<tr><th scope=row>TCGA-EB-A3XF-01A-31R-A239-07</th><td>0.53176254355142  </td><td>278</td><td>Alive</td><td>NA  </td><td>FALSE</td><td> 278</td><td>Top 33%</td></tr>\n",
       "\t<tr><th scope=row>TCGA-EB-A57M-01A-51R-A311-07</th><td>0.598860825592122 </td><td>399</td><td>Dead </td><td>472 </td><td> TRUE</td><td> 472</td><td>Top 33%</td></tr>\n",
       "\t<tr><th scope=row>TCGA-BF-AAP8-01A-11R-A40A-07</th><td>-1.06790937000583 </td><td>447</td><td>Alive</td><td>NA  </td><td>FALSE</td><td> 447</td><td>Middle </td></tr>\n",
       "\t<tr><th scope=row>TCGA-ER-A2NF-01A-11R-A18T-07</th><td>0.408042223171928 </td><td>498</td><td>Dead </td><td>877 </td><td> TRUE</td><td> 877</td><td>Top 33%</td></tr>\n",
       "\t<tr><th scope=row>TCGA-ER-A194-01A-11R-A18U-07</th><td>-0.642813844672632</td><td>NA </td><td>Dead </td><td>1354</td><td> TRUE</td><td>1354</td><td>Middle </td></tr>\n",
       "</tbody>\n",
       "</table>\n"
      ],
      "text/latex": [
       "A data.frame: 6 × 7\n",
       "\\begin{tabular}{r|lllllll}\n",
       "  & mat & Days\\_to\\_last\\_follow\\_up & vital\\_status & days\\_to\\_death & deceased & overall\\_survival & strata\\\\\n",
       "  & <chr> & <chr> & <chr> & <chr> & <lgl> & <dbl> & <chr>\\\\\n",
       "\\hline\n",
       "\tTCGA-BF-A5ES-01A-11R-A27Q-07 & 1.27800330783343   & 490 & Alive & NA   & FALSE &  490 & Top 33\\%\\\\\n",
       "\tTCGA-EB-A3XF-01A-31R-A239-07 & 0.53176254355142   & 278 & Alive & NA   & FALSE &  278 & Top 33\\%\\\\\n",
       "\tTCGA-EB-A57M-01A-51R-A311-07 & 0.598860825592122  & 399 & Dead  & 472  &  TRUE &  472 & Top 33\\%\\\\\n",
       "\tTCGA-BF-AAP8-01A-11R-A40A-07 & -1.06790937000583  & 447 & Alive & NA   & FALSE &  447 & Middle \\\\\n",
       "\tTCGA-ER-A2NF-01A-11R-A18T-07 & 0.408042223171928  & 498 & Dead  & 877  &  TRUE &  877 & Top 33\\%\\\\\n",
       "\tTCGA-ER-A194-01A-11R-A18U-07 & -0.642813844672632 & NA  & Dead  & 1354 &  TRUE & 1354 & Middle \\\\\n",
       "\\end{tabular}\n"
      ],
      "text/markdown": [
       "\n",
       "A data.frame: 6 × 7\n",
       "\n",
       "| <!--/--> | mat &lt;chr&gt; | Days_to_last_follow_up &lt;chr&gt; | vital_status &lt;chr&gt; | days_to_death &lt;chr&gt; | deceased &lt;lgl&gt; | overall_survival &lt;dbl&gt; | strata &lt;chr&gt; |\n",
       "|---|---|---|---|---|---|---|---|\n",
       "| TCGA-BF-A5ES-01A-11R-A27Q-07 | 1.27800330783343   | 490 | Alive | NA   | FALSE |  490 | Top 33% |\n",
       "| TCGA-EB-A3XF-01A-31R-A239-07 | 0.53176254355142   | 278 | Alive | NA   | FALSE |  278 | Top 33% |\n",
       "| TCGA-EB-A57M-01A-51R-A311-07 | 0.598860825592122  | 399 | Dead  | 472  |  TRUE |  472 | Top 33% |\n",
       "| TCGA-BF-AAP8-01A-11R-A40A-07 | -1.06790937000583  | 447 | Alive | NA   | FALSE |  447 | Middle  |\n",
       "| TCGA-ER-A2NF-01A-11R-A18T-07 | 0.408042223171928  | 498 | Dead  | 877  |  TRUE |  877 | Top 33% |\n",
       "| TCGA-ER-A194-01A-11R-A18U-07 | -0.642813844672632 | NA  | Dead  | 1354 |  TRUE | 1354 | Middle  |\n",
       "\n"
      ],
      "text/plain": [
       "                             mat                Days_to_last_follow_up\n",
       "TCGA-BF-A5ES-01A-11R-A27Q-07 1.27800330783343   490                   \n",
       "TCGA-EB-A3XF-01A-31R-A239-07 0.53176254355142   278                   \n",
       "TCGA-EB-A57M-01A-51R-A311-07 0.598860825592122  399                   \n",
       "TCGA-BF-AAP8-01A-11R-A40A-07 -1.06790937000583  447                   \n",
       "TCGA-ER-A2NF-01A-11R-A18T-07 0.408042223171928  498                   \n",
       "TCGA-ER-A194-01A-11R-A18U-07 -0.642813844672632 NA                    \n",
       "                             vital_status days_to_death deceased\n",
       "TCGA-BF-A5ES-01A-11R-A27Q-07 Alive        NA            FALSE   \n",
       "TCGA-EB-A3XF-01A-31R-A239-07 Alive        NA            FALSE   \n",
       "TCGA-EB-A57M-01A-51R-A311-07 Dead         472            TRUE   \n",
       "TCGA-BF-AAP8-01A-11R-A40A-07 Alive        NA            FALSE   \n",
       "TCGA-ER-A2NF-01A-11R-A18T-07 Dead         877            TRUE   \n",
       "TCGA-ER-A194-01A-11R-A18U-07 Dead         1354           TRUE   \n",
       "                             overall_survival strata \n",
       "TCGA-BF-A5ES-01A-11R-A27Q-07  490             Top 33%\n",
       "TCGA-EB-A3XF-01A-31R-A239-07  278             Top 33%\n",
       "TCGA-EB-A57M-01A-51R-A311-07  472             Top 33%\n",
       "TCGA-BF-AAP8-01A-11R-A40A-07  447             Middle \n",
       "TCGA-ER-A2NF-01A-11R-A18T-07  877             Top 33%\n",
       "TCGA-ER-A194-01A-11R-A18U-07 1354             Middle "
      ]
     },
     "metadata": {},
     "output_type": "display_data"
    }
   ],
   "source": [
    "#fitting survival curve - prepare data: \n",
    "\n",
    "# for my analysis I wanted to plot top vs bottom third on my KM plot, but could also split 50/50 if you wanted\n",
    "# make variable for either top 33% or bottom 33% mat score\n",
    "#calculate 66th percentile (above this is top 33%) and 33rd percentile (below this is bottom 33%)\n",
    "perc_66 <- quantile(mat, probs = c(0.66))\n",
    "perc_33 <- quantile(mat, probs = c(0.33))\n",
    "\n",
    "concat_survival_Full <- concat_survival\n",
    "concat_survival_Full$strata <- ifelse(concat_survival_Full$mat < perc_33, \"Bottom 33%\",\n",
    "                                  ifelse(concat_survival_Full$mat >perc_66, \"Top 33%\", \"Middle\"))\n",
    "\n",
    "head(concat_survival_Full)"
   ]
  },
  {
   "cell_type": "code",
   "execution_count": 97,
   "metadata": {
    "vscode": {
     "languageId": "r"
    }
   },
   "outputs": [
    {
     "data": {
      "text/html": [
       "<table class=\"dataframe\">\n",
       "<caption>A data.frame: 6 × 7</caption>\n",
       "<thead>\n",
       "\t<tr><th></th><th scope=col>mat</th><th scope=col>Days_to_last_follow_up</th><th scope=col>vital_status</th><th scope=col>days_to_death</th><th scope=col>deceased</th><th scope=col>overall_survival</th><th scope=col>strata</th></tr>\n",
       "\t<tr><th></th><th scope=col>&lt;chr&gt;</th><th scope=col>&lt;chr&gt;</th><th scope=col>&lt;chr&gt;</th><th scope=col>&lt;chr&gt;</th><th scope=col>&lt;lgl&gt;</th><th scope=col>&lt;dbl&gt;</th><th scope=col>&lt;chr&gt;</th></tr>\n",
       "</thead>\n",
       "<tbody>\n",
       "\t<tr><th scope=row>TCGA-BF-A5ES-01A-11R-A27Q-07</th><td>1.27800330783343  </td><td>490</td><td>Alive</td><td>NA </td><td>FALSE</td><td>490</td><td>Top 33%   </td></tr>\n",
       "\t<tr><th scope=row>TCGA-EB-A3XF-01A-31R-A239-07</th><td>0.53176254355142  </td><td>278</td><td>Alive</td><td>NA </td><td>FALSE</td><td>278</td><td>Top 33%   </td></tr>\n",
       "\t<tr><th scope=row>TCGA-EB-A57M-01A-51R-A311-07</th><td>0.598860825592122 </td><td>399</td><td>Dead </td><td>472</td><td> TRUE</td><td>472</td><td>Top 33%   </td></tr>\n",
       "\t<tr><th scope=row>TCGA-ER-A2NF-01A-11R-A18T-07</th><td>0.408042223171928 </td><td>498</td><td>Dead </td><td>877</td><td> TRUE</td><td>877</td><td>Top 33%   </td></tr>\n",
       "\t<tr><th scope=row>TCGA-EB-A5FP-01A-11R-A27Q-07</th><td>-0.385305654304283</td><td>6  </td><td>Dead </td><td>454</td><td> TRUE</td><td>454</td><td>Bottom 33%</td></tr>\n",
       "\t<tr><th scope=row>TCGA-XV-AAZV-01A-11R-A40A-07</th><td>1.49682863428979  </td><td>412</td><td>Alive</td><td>NA </td><td>FALSE</td><td>412</td><td>Top 33%   </td></tr>\n",
       "</tbody>\n",
       "</table>\n"
      ],
      "text/latex": [
       "A data.frame: 6 × 7\n",
       "\\begin{tabular}{r|lllllll}\n",
       "  & mat & Days\\_to\\_last\\_follow\\_up & vital\\_status & days\\_to\\_death & deceased & overall\\_survival & strata\\\\\n",
       "  & <chr> & <chr> & <chr> & <chr> & <lgl> & <dbl> & <chr>\\\\\n",
       "\\hline\n",
       "\tTCGA-BF-A5ES-01A-11R-A27Q-07 & 1.27800330783343   & 490 & Alive & NA  & FALSE & 490 & Top 33\\%   \\\\\n",
       "\tTCGA-EB-A3XF-01A-31R-A239-07 & 0.53176254355142   & 278 & Alive & NA  & FALSE & 278 & Top 33\\%   \\\\\n",
       "\tTCGA-EB-A57M-01A-51R-A311-07 & 0.598860825592122  & 399 & Dead  & 472 &  TRUE & 472 & Top 33\\%   \\\\\n",
       "\tTCGA-ER-A2NF-01A-11R-A18T-07 & 0.408042223171928  & 498 & Dead  & 877 &  TRUE & 877 & Top 33\\%   \\\\\n",
       "\tTCGA-EB-A5FP-01A-11R-A27Q-07 & -0.385305654304283 & 6   & Dead  & 454 &  TRUE & 454 & Bottom 33\\%\\\\\n",
       "\tTCGA-XV-AAZV-01A-11R-A40A-07 & 1.49682863428979   & 412 & Alive & NA  & FALSE & 412 & Top 33\\%   \\\\\n",
       "\\end{tabular}\n"
      ],
      "text/markdown": [
       "\n",
       "A data.frame: 6 × 7\n",
       "\n",
       "| <!--/--> | mat &lt;chr&gt; | Days_to_last_follow_up &lt;chr&gt; | vital_status &lt;chr&gt; | days_to_death &lt;chr&gt; | deceased &lt;lgl&gt; | overall_survival &lt;dbl&gt; | strata &lt;chr&gt; |\n",
       "|---|---|---|---|---|---|---|---|\n",
       "| TCGA-BF-A5ES-01A-11R-A27Q-07 | 1.27800330783343   | 490 | Alive | NA  | FALSE | 490 | Top 33%    |\n",
       "| TCGA-EB-A3XF-01A-31R-A239-07 | 0.53176254355142   | 278 | Alive | NA  | FALSE | 278 | Top 33%    |\n",
       "| TCGA-EB-A57M-01A-51R-A311-07 | 0.598860825592122  | 399 | Dead  | 472 |  TRUE | 472 | Top 33%    |\n",
       "| TCGA-ER-A2NF-01A-11R-A18T-07 | 0.408042223171928  | 498 | Dead  | 877 |  TRUE | 877 | Top 33%    |\n",
       "| TCGA-EB-A5FP-01A-11R-A27Q-07 | -0.385305654304283 | 6   | Dead  | 454 |  TRUE | 454 | Bottom 33% |\n",
       "| TCGA-XV-AAZV-01A-11R-A40A-07 | 1.49682863428979   | 412 | Alive | NA  | FALSE | 412 | Top 33%    |\n",
       "\n"
      ],
      "text/plain": [
       "                             mat                Days_to_last_follow_up\n",
       "TCGA-BF-A5ES-01A-11R-A27Q-07 1.27800330783343   490                   \n",
       "TCGA-EB-A3XF-01A-31R-A239-07 0.53176254355142   278                   \n",
       "TCGA-EB-A57M-01A-51R-A311-07 0.598860825592122  399                   \n",
       "TCGA-ER-A2NF-01A-11R-A18T-07 0.408042223171928  498                   \n",
       "TCGA-EB-A5FP-01A-11R-A27Q-07 -0.385305654304283 6                     \n",
       "TCGA-XV-AAZV-01A-11R-A40A-07 1.49682863428979   412                   \n",
       "                             vital_status days_to_death deceased\n",
       "TCGA-BF-A5ES-01A-11R-A27Q-07 Alive        NA            FALSE   \n",
       "TCGA-EB-A3XF-01A-31R-A239-07 Alive        NA            FALSE   \n",
       "TCGA-EB-A57M-01A-51R-A311-07 Dead         472            TRUE   \n",
       "TCGA-ER-A2NF-01A-11R-A18T-07 Dead         877            TRUE   \n",
       "TCGA-EB-A5FP-01A-11R-A27Q-07 Dead         454            TRUE   \n",
       "TCGA-XV-AAZV-01A-11R-A40A-07 Alive        NA            FALSE   \n",
       "                             overall_survival strata    \n",
       "TCGA-BF-A5ES-01A-11R-A27Q-07 490              Top 33%   \n",
       "TCGA-EB-A3XF-01A-31R-A239-07 278              Top 33%   \n",
       "TCGA-EB-A57M-01A-51R-A311-07 472              Top 33%   \n",
       "TCGA-ER-A2NF-01A-11R-A18T-07 877              Top 33%   \n",
       "TCGA-EB-A5FP-01A-11R-A27Q-07 454              Bottom 33%\n",
       "TCGA-XV-AAZV-01A-11R-A40A-07 412              Top 33%   "
      ]
     },
     "metadata": {},
     "output_type": "display_data"
    }
   ],
   "source": [
    "#need to remove middle strata from plot\n",
    "concat_survival_Full <- concat_survival_Full %>% filter(strata %in% c(\"Top 33%\", \"Bottom 33%\"))\n",
    "head(concat_survival_Full)"
   ]
  },
  {
   "cell_type": "code",
   "execution_count": 98,
   "metadata": {
    "vscode": {
     "languageId": "r"
    }
   },
   "outputs": [
    {
     "data": {
      "text/plain": [
       "Call: survfit(formula = Surv(overall_survival, deceased) ~ strata, \n",
       "    data = concat_survival_Full)\n",
       "\n",
       "                   n events median 0.95LCL 0.95UCL\n",
       "strata=Bottom 33% 20      4   1070      NA      NA\n",
       "strata=Top 33%    35      9    877     821      NA"
      ]
     },
     "metadata": {},
     "output_type": "display_data"
    }
   ],
   "source": [
    "#Fit survival curve\n",
    "fit <- survfit(Surv(overall_survival, deceased) ~ strata, data = concat_survival_Full)\n",
    "fit"
   ]
  },
  {
   "cell_type": "code",
   "execution_count": 99,
   "metadata": {
    "vscode": {
     "languageId": "r"
    }
   },
   "outputs": [
    {
     "data": {
      "image/png": "[encoded data removed]",
      "text/plain": [
       "plot without title"
      ]
     },
     "metadata": {
      "image/png": {
       "height": 360,
       "width": 480
      }
     },
     "output_type": "display_data"
    }
   ],
   "source": [
    "#generate survival plot\n",
    "options(repr.plot.height=6, repr.plot.width=8)\n",
    "ggsurvplot(fit,\n",
    "           data = concat_survival_Full,\n",
    "           pval = T,\n",
    "           risk.table = T,\n",
    "           conf.int = TRUE)"
   ]
  },
  {
   "cell_type": "markdown",
   "metadata": {},
   "source": [
    "# Repeat on mets"
   ]
  },
  {
   "cell_type": "code",
   "execution_count": 100,
   "metadata": {
    "vscode": {
     "languageId": "r"
    }
   },
   "outputs": [
    {
     "data": {
      "text/plain": [
       "\n",
       "Additional Metastatic            Metastatic         Primary Tumor \n",
       "                    1                   368                   103 \n",
       "  Solid Tissue Normal \n",
       "                    1 "
      ]
     },
     "metadata": {},
     "output_type": "display_data"
    }
   ],
   "source": [
    "table(colData(TCGA_SKCM)$sample_type)"
   ]
  },
  {
   "cell_type": "code",
   "execution_count": 101,
   "metadata": {
    "vscode": {
     "languageId": "r"
    }
   },
   "outputs": [],
   "source": [
    "# Subset object\n",
    "mets <- TCGA_SKCM[, colData(TCGA_SKCM)$sample_type == \"Metastatic\"]"
   ]
  },
  {
   "cell_type": "code",
   "execution_count": 102,
   "metadata": {
    "vscode": {
     "languageId": "r"
    }
   },
   "outputs": [
    {
     "data": {
      "text/plain": [
       "\n",
       "Metastatic \n",
       "       368 "
      ]
     },
     "metadata": {},
     "output_type": "display_data"
    }
   ],
   "source": [
    "table(colData(mets)$sample_type)"
   ]
  },
  {
   "cell_type": "code",
   "execution_count": 103,
   "metadata": {
    "vscode": {
     "languageId": "r"
    }
   },
   "outputs": [
    {
     "data": {
      "text/html": [
       "'RangedSummarizedExperiment object of length 60660 with 10 metadata columns'"
      ],
      "text/latex": [
       "'RangedSummarizedExperiment object of length 60660 with 10 metadata columns'"
      ],
      "text/markdown": [
       "'RangedSummarizedExperiment object of length 60660 with 10 metadata columns'"
      ],
      "text/plain": [
       "[1] \"RangedSummarizedExperiment object of length 60660 with 10 metadata columns\""
      ]
     },
     "metadata": {},
     "output_type": "display_data"
    }
   ],
   "source": [
    "summary(mets)"
   ]
  },
  {
   "cell_type": "code",
   "execution_count": 104,
   "metadata": {
    "vscode": {
     "languageId": "r"
    }
   },
   "outputs": [],
   "source": [
    "#define SSGSEA Function\n",
    "#function from https://rpubs.com/pranali018/SSGSEA  \n",
    "\n",
    "ssgsea = function(X, gene_sets, alpha = 0.25, scale = T, norm = F, single = T) {\n",
    "  row_names = rownames(X)\n",
    "  num_genes = nrow(X)\n",
    "  gene_sets = lapply(gene_sets, function(genes) {which(row_names %in% genes)})\n",
    "  \n",
    "  # Ranks for genes\n",
    "  R = matrixStats::colRanks(X, preserveShape = T, ties.method = 'average')\n",
    "  \n",
    "  # Calculate enrichment score (es) for each sample (column)\n",
    "  es = apply(R, 2, function(R_col) {\n",
    "    gene_ranks = order(R_col, decreasing = TRUE)\n",
    "    \n",
    "    # Calc es for each gene set\n",
    "    es_sample = sapply(gene_sets, function(gene_set_idx) {\n",
    "      # pos: match (within the gene set)\n",
    "      # neg: non-match (outside the gene set)\n",
    "      indicator_pos = gene_ranks %in% gene_set_idx\n",
    "      indicator_neg = !indicator_pos\n",
    "      \n",
    "      rank_alpha  = (R_col[gene_ranks] * indicator_pos) ^ alpha\n",
    "      \n",
    "      step_cdf_pos = cumsum(rank_alpha)    / sum(rank_alpha)\n",
    "      step_cdf_neg = cumsum(indicator_neg) / sum(indicator_neg)\n",
    "      \n",
    "      step_cdf_diff = step_cdf_pos - step_cdf_neg\n",
    "      \n",
    "      # Normalize by gene number\n",
    "      if (scale) step_cdf_diff = step_cdf_diff / num_genes\n",
    "      \n",
    "      # Use ssGSEA or not\n",
    "      if (single) {\n",
    "        sum(step_cdf_diff)\n",
    "      } else {\n",
    "        step_cdf_diff[which.max(abs(step_cdf_diff))]\n",
    "      }\n",
    "    })\n",
    "    unlist(es_sample)\n",
    "  })\n",
    "  \n",
    "  if (length(gene_sets) == 1) es = matrix(es, nrow = 1)\n",
    "  \n",
    "  # Normalize by absolute diff between max and min\n",
    "  if (norm) es = es / diff(range(es))\n",
    "  \n",
    "  # Prepare output\n",
    "  rownames(es) = names(gene_sets)\n",
    "  colnames(es) = colnames(X)\n",
    "  return(es)\n",
    "}\n"
   ]
  },
  {
   "cell_type": "code",
   "execution_count": 105,
   "metadata": {
    "vscode": {
     "languageId": "r"
    }
   },
   "outputs": [
    {
     "data": {
      "text/plain": [
       "List of length 6\n",
       "names(6): unstranded stranded_first ... fpkm_unstrand fpkm_uq_unstrand"
      ]
     },
     "metadata": {},
     "output_type": "display_data"
    }
   ],
   "source": [
    "#view the different assays stored\n",
    "assays(mets)"
   ]
  },
  {
   "cell_type": "code",
   "execution_count": 106,
   "metadata": {
    "vscode": {
     "languageId": "r"
    }
   },
   "outputs": [
    {
     "data": {
      "text/html": [
       "<style>\n",
       ".list-inline {list-style: none; margin:0; padding: 0}\n",
       ".list-inline>li {display: inline-block}\n",
       ".list-inline>li:not(:last-child)::after {content: \"\\00b7\"; padding: 0 .5ex}\n",
       "</style>\n",
       "<ol class=list-inline><li>60660</li><li>368</li></ol>\n"
      ],
      "text/latex": [
       "\\begin{enumerate*}\n",
       "\\item 60660\n",
       "\\item 368\n",
       "\\end{enumerate*}\n"
      ],
      "text/markdown": [
       "1. 60660\n",
       "2. 368\n",
       "\n",
       "\n"
      ],
      "text/plain": [
       "[1] 60660   368"
      ]
     },
     "metadata": {},
     "output_type": "display_data"
    },
    {
     "data": {
      "text/html": [
       "<table class=\"dataframe\">\n",
       "<caption>A matrix: 3 × 3 of type dbl</caption>\n",
       "<thead>\n",
       "\t<tr><th></th><th scope=col>TCGA-ER-A199-06A-11R-A18T-07</th><th scope=col>TCGA-EE-A3J5-06A-11R-A20F-07</th><th scope=col>TCGA-EE-A2ME-06A-11R-A18T-07</th></tr>\n",
       "</thead>\n",
       "<tbody>\n",
       "\t<tr><th scope=row>ENSG00000000003.15</th><td>19.6288</td><td> 32.8908</td><td>12.9416</td></tr>\n",
       "\t<tr><th scope=row>ENSG00000000005.6</th><td> 0.0461</td><td>  0.0000</td><td> 0.2589</td></tr>\n",
       "\t<tr><th scope=row>ENSG00000000419.13</th><td>78.7257</td><td>124.2221</td><td>65.2906</td></tr>\n",
       "</tbody>\n",
       "</table>\n"
      ],
      "text/latex": [
       "A matrix: 3 × 3 of type dbl\n",
       "\\begin{tabular}{r|lll}\n",
       "  & TCGA-ER-A199-06A-11R-A18T-07 & TCGA-EE-A3J5-06A-11R-A20F-07 & TCGA-EE-A2ME-06A-11R-A18T-07\\\\\n",
       "\\hline\n",
       "\tENSG00000000003.15 & 19.6288 &  32.8908 & 12.9416\\\\\n",
       "\tENSG00000000005.6 &  0.0461 &   0.0000 &  0.2589\\\\\n",
       "\tENSG00000000419.13 & 78.7257 & 124.2221 & 65.2906\\\\\n",
       "\\end{tabular}\n"
      ],
      "text/markdown": [
       "\n",
       "A matrix: 3 × 3 of type dbl\n",
       "\n",
       "| <!--/--> | TCGA-ER-A199-06A-11R-A18T-07 | TCGA-EE-A3J5-06A-11R-A20F-07 | TCGA-EE-A2ME-06A-11R-A18T-07 |\n",
       "|---|---|---|---|\n",
       "| ENSG00000000003.15 | 19.6288 |  32.8908 | 12.9416 |\n",
       "| ENSG00000000005.6 |  0.0461 |   0.0000 |  0.2589 |\n",
       "| ENSG00000000419.13 | 78.7257 | 124.2221 | 65.2906 |\n",
       "\n"
      ],
      "text/plain": [
       "                   TCGA-ER-A199-06A-11R-A18T-07 TCGA-EE-A3J5-06A-11R-A20F-07\n",
       "ENSG00000000003.15 19.6288                       32.8908                    \n",
       "ENSG00000000005.6   0.0461                        0.0000                    \n",
       "ENSG00000000419.13 78.7257                      124.2221                    \n",
       "                   TCGA-EE-A2ME-06A-11R-A18T-07\n",
       "ENSG00000000003.15 12.9416                     \n",
       "ENSG00000000005.6   0.2589                     \n",
       "ENSG00000000419.13 65.2906                     "
      ]
     },
     "metadata": {},
     "output_type": "display_data"
    }
   ],
   "source": [
    "#for this analysis using the tpm_unstrand assay \n",
    "dim(assays(mets)$tpm_unstrand)\n",
    "#set data to tpm_unstand assay for this analysis\n",
    "data <- assays(mets)$tpm_unstrand\n",
    "#view data\n",
    "data[1:3,1:3]"
   ]
  },
  {
   "cell_type": "code",
   "execution_count": 107,
   "metadata": {
    "vscode": {
     "languageId": "r"
    }
   },
   "outputs": [],
   "source": [
    "#convert to matrix\n",
    "data = as.matrix(data)"
   ]
  },
  {
   "cell_type": "code",
   "execution_count": 108,
   "metadata": {
    "vscode": {
     "languageId": "r"
    }
   },
   "outputs": [
    {
     "data": {
      "text/html": [
       "<strong>$gene_id</strong> = <style>\n",
       ".list-inline {list-style: none; margin:0; padding: 0}\n",
       ".list-inline>li {display: inline-block}\n",
       ".list-inline>li:not(:last-child)::after {content: \"\\00b7\"; padding: 0 .5ex}\n",
       "</style>\n",
       "<ol class=list-inline><li>'ENSG00000102962.5'</li><li>'ENSG00000104951.16'</li><li>'ENSG00000198053.12'</li><li>'ENSG00000126353.3'</li><li>'ENSG00000171310.11'</li><li>'ENSG00000180758.12'</li><li>'ENSG00000090104.12'</li><li>'ENSG00000023445.16'</li><li>'ENSG00000056558.11'</li><li>'ENSG00000198223.17'</li><li>'ENSG00000107021.16'</li><li>'ENSG00000078081.8'</li><li>'ENSG00000118242.16'</li><li>'ENSG00000167641.11'</li><li>'ENSG00000198369.10'</li><li>'ENSG00000112149.10'</li><li>'ENSG00000136810.13'</li><li>'ENSG00000172081.14'</li><li>'ENSG00000109320.13'</li><li>'ENSG00000136111.14'</li><li>'ENSG00000123374.11'</li><li>'ENSG00000261040.7'</li><li>'ENSG00000047365.12'</li><li>'ENSG00000160445.11'</li><li>'ENSG00000151726.15'</li><li>'ENSG00000167642.13'</li><li>'ENSG00000161011.20'</li><li>'ENSG00000204634.13'</li><li>'ENSG00000101384.12'</li><li>'ENSG00000278834.1'</li><li>'ENSG00000156127.8'</li><li>'ENSG00000117036.12'</li><li>'ENSG00000171791.14'</li><li>'ENSG00000068796.19'</li><li>'ENSG00000075618.18'</li><li>'ENSG00000118503.15'</li><li>'ENSG00000160050.15'</li><li>'ENSG00000119508.18'</li><li>'ENSG00000115165.10'</li><li>'ENSG00000115956.10'</li><li>'ENSG00000150907.10'</li><li>'ENSG00000025772.8'</li><li>'ENSG00000135148.12'</li><li>'ENSG00000101445.10'</li><li>'ENSG00000121966.7'</li><li>'ENSG00000101017.14'</li><li>'ENSG00000198018.7'</li><li>'ENSG00000124762.14'</li><li>'ENSG00000015475.19'</li><li>'ENSG00000277443.3'</li><li>'ENSG00000138166.6'</li><li>'ENSG00000071054.16'</li><li>'ENSG00000171552.14'</li><li>'ENSG00000172183.15'</li><li>'ENSG00000145860.12'</li><li>'ENSG00000137522.18'</li><li>'ENSG00000183484.12'</li><li>'ENSG00000138670.18'</li><li>'ENSG00000197872.11'</li><li>'ENSG00000084733.11'</li><li>'ENSG00000172292.15'</li><li>'ENSG00000115594.12'</li><li>'ENSG00000101109.12'</li><li>'ENSG00000069493.15'</li><li>'ENSG00000217801.10'</li><li>'ENSG00000177311.11'</li><li>'ENSG00000159128.15'</li><li>'ENSG00000120217.14'</li><li>'ENSG00000136052.9'</li><li>'ENSG00000118257.17'</li><li>'ENSG00000164236.12'</li><li>'ENSG00000169508.7'</li><li>'ENSG00000163389.12'</li><li>'ENSG00000128271.22'</li><li>'ENSG00000102221.14'</li><li>'ENSG00000131773.14'</li><li>'ENSG00000168036.18'</li><li>'ENSG00000137571.11'</li><li>'ENSG00000077150.20'</li><li>'ENSG00000116741.8'</li><li>'ENSG00000106803.10'</li><li>'ENSG00000186187.12'</li><li>'ENSG00000104856.14'</li><li>'ENSG00000151131.11'</li><li>'ENSG00000168310.11'</li><li>'ENSG00000273604.2'</li><li>'ENSG00000059728.11'</li><li>'ENSG00000111540.16'</li><li>'ENSG00000117115.13'</li><li>'ENSG00000136048.14'</li><li>'ENSG00000108389.9'</li><li>'ENSG00000103319.12'</li><li>'ENSG00000111846.19'</li><li>'ENSG00000173166.18'</li><li>'ENSG00000140379.9'</li><li>'ENSG00000101310.17'</li><li>'ENSG00000198355.5'</li><li>'ENSG00000163297.17'</li><li>'ENSG00000166016.6'</li><li>'ENSG00000164484.12'</li></ol>\n"
      ],
      "text/latex": [
       "\\textbf{\\$gene\\_id} = \\begin{enumerate*}\n",
       "\\item 'ENSG00000102962.5'\n",
       "\\item 'ENSG00000104951.16'\n",
       "\\item 'ENSG00000198053.12'\n",
       "\\item 'ENSG00000126353.3'\n",
       "\\item 'ENSG00000171310.11'\n",
       "\\item 'ENSG00000180758.12'\n",
       "\\item 'ENSG00000090104.12'\n",
       "\\item 'ENSG00000023445.16'\n",
       "\\item 'ENSG00000056558.11'\n",
       "\\item 'ENSG00000198223.17'\n",
       "\\item 'ENSG00000107021.16'\n",
       "\\item 'ENSG00000078081.8'\n",
       "\\item 'ENSG00000118242.16'\n",
       "\\item 'ENSG00000167641.11'\n",
       "\\item 'ENSG00000198369.10'\n",
       "\\item 'ENSG00000112149.10'\n",
       "\\item 'ENSG00000136810.13'\n",
       "\\item 'ENSG00000172081.14'\n",
       "\\item 'ENSG00000109320.13'\n",
       "\\item 'ENSG00000136111.14'\n",
       "\\item 'ENSG00000123374.11'\n",
       "\\item 'ENSG00000261040.7'\n",
       "\\item 'ENSG00000047365.12'\n",
       "\\item 'ENSG00000160445.11'\n",
       "\\item 'ENSG00000151726.15'\n",
       "\\item 'ENSG00000167642.13'\n",
       "\\item 'ENSG00000161011.20'\n",
       "\\item 'ENSG00000204634.13'\n",
       "\\item 'ENSG00000101384.12'\n",
       "\\item 'ENSG00000278834.1'\n",
       "\\item 'ENSG00000156127.8'\n",
       "\\item 'ENSG00000117036.12'\n",
       "\\item 'ENSG00000171791.14'\n",
       "\\item 'ENSG00000068796.19'\n",
       "\\item 'ENSG00000075618.18'\n",
       "\\item 'ENSG00000118503.15'\n",
       "\\item 'ENSG00000160050.15'\n",
       "\\item 'ENSG00000119508.18'\n",
       "\\item 'ENSG00000115165.10'\n",
       "\\item 'ENSG00000115956.10'\n",
       "\\item 'ENSG00000150907.10'\n",
       "\\item 'ENSG00000025772.8'\n",
       "\\item 'ENSG00000135148.12'\n",
       "\\item 'ENSG00000101445.10'\n",
       "\\item 'ENSG00000121966.7'\n",
       "\\item 'ENSG00000101017.14'\n",
       "\\item 'ENSG00000198018.7'\n",
       "\\item 'ENSG00000124762.14'\n",
       "\\item 'ENSG00000015475.19'\n",
       "\\item 'ENSG00000277443.3'\n",
       "\\item 'ENSG00000138166.6'\n",
       "\\item 'ENSG00000071054.16'\n",
       "\\item 'ENSG00000171552.14'\n",
       "\\item 'ENSG00000172183.15'\n",
       "\\item 'ENSG00000145860.12'\n",
       "\\item 'ENSG00000137522.18'\n",
       "\\item 'ENSG00000183484.12'\n",
       "\\item 'ENSG00000138670.18'\n",
       "\\item 'ENSG00000197872.11'\n",
       "\\item 'ENSG00000084733.11'\n",
       "\\item 'ENSG00000172292.15'\n",
       "\\item 'ENSG00000115594.12'\n",
       "\\item 'ENSG00000101109.12'\n",
       "\\item 'ENSG00000069493.15'\n",
       "\\item 'ENSG00000217801.10'\n",
       "\\item 'ENSG00000177311.11'\n",
       "\\item 'ENSG00000159128.15'\n",
       "\\item 'ENSG00000120217.14'\n",
       "\\item 'ENSG00000136052.9'\n",
       "\\item 'ENSG00000118257.17'\n",
       "\\item 'ENSG00000164236.12'\n",
       "\\item 'ENSG00000169508.7'\n",
       "\\item 'ENSG00000163389.12'\n",
       "\\item 'ENSG00000128271.22'\n",
       "\\item 'ENSG00000102221.14'\n",
       "\\item 'ENSG00000131773.14'\n",
       "\\item 'ENSG00000168036.18'\n",
       "\\item 'ENSG00000137571.11'\n",
       "\\item 'ENSG00000077150.20'\n",
       "\\item 'ENSG00000116741.8'\n",
       "\\item 'ENSG00000106803.10'\n",
       "\\item 'ENSG00000186187.12'\n",
       "\\item 'ENSG00000104856.14'\n",
       "\\item 'ENSG00000151131.11'\n",
       "\\item 'ENSG00000168310.11'\n",
       "\\item 'ENSG00000273604.2'\n",
       "\\item 'ENSG00000059728.11'\n",
       "\\item 'ENSG00000111540.16'\n",
       "\\item 'ENSG00000117115.13'\n",
       "\\item 'ENSG00000136048.14'\n",
       "\\item 'ENSG00000108389.9'\n",
       "\\item 'ENSG00000103319.12'\n",
       "\\item 'ENSG00000111846.19'\n",
       "\\item 'ENSG00000173166.18'\n",
       "\\item 'ENSG00000140379.9'\n",
       "\\item 'ENSG00000101310.17'\n",
       "\\item 'ENSG00000198355.5'\n",
       "\\item 'ENSG00000163297.17'\n",
       "\\item 'ENSG00000166016.6'\n",
       "\\item 'ENSG00000164484.12'\n",
       "\\end{enumerate*}\n"
      ],
      "text/markdown": [
       "**$gene_id** = 1. 'ENSG00000102962.5'\n",
       "2. 'ENSG00000104951.16'\n",
       "3. 'ENSG00000198053.12'\n",
       "4. 'ENSG00000126353.3'\n",
       "5. 'ENSG00000171310.11'\n",
       "6. 'ENSG00000180758.12'\n",
       "7. 'ENSG00000090104.12'\n",
       "8. 'ENSG00000023445.16'\n",
       "9. 'ENSG00000056558.11'\n",
       "10. 'ENSG00000198223.17'\n",
       "11. 'ENSG00000107021.16'\n",
       "12. 'ENSG00000078081.8'\n",
       "13. 'ENSG00000118242.16'\n",
       "14. 'ENSG00000167641.11'\n",
       "15. 'ENSG00000198369.10'\n",
       "16. 'ENSG00000112149.10'\n",
       "17. 'ENSG00000136810.13'\n",
       "18. 'ENSG00000172081.14'\n",
       "19. 'ENSG00000109320.13'\n",
       "20. 'ENSG00000136111.14'\n",
       "21. 'ENSG00000123374.11'\n",
       "22. 'ENSG00000261040.7'\n",
       "23. 'ENSG00000047365.12'\n",
       "24. 'ENSG00000160445.11'\n",
       "25. 'ENSG00000151726.15'\n",
       "26. 'ENSG00000167642.13'\n",
       "27. 'ENSG00000161011.20'\n",
       "28. 'ENSG00000204634.13'\n",
       "29. 'ENSG00000101384.12'\n",
       "30. 'ENSG00000278834.1'\n",
       "31. 'ENSG00000156127.8'\n",
       "32. 'ENSG00000117036.12'\n",
       "33. 'ENSG00000171791.14'\n",
       "34. 'ENSG00000068796.19'\n",
       "35. 'ENSG00000075618.18'\n",
       "36. 'ENSG00000118503.15'\n",
       "37. 'ENSG00000160050.15'\n",
       "38. 'ENSG00000119508.18'\n",
       "39. 'ENSG00000115165.10'\n",
       "40. 'ENSG00000115956.10'\n",
       "41. 'ENSG00000150907.10'\n",
       "42. 'ENSG00000025772.8'\n",
       "43. 'ENSG00000135148.12'\n",
       "44. 'ENSG00000101445.10'\n",
       "45. 'ENSG00000121966.7'\n",
       "46. 'ENSG00000101017.14'\n",
       "47. 'ENSG00000198018.7'\n",
       "48. 'ENSG00000124762.14'\n",
       "49. 'ENSG00000015475.19'\n",
       "50. 'ENSG00000277443.3'\n",
       "51. 'ENSG00000138166.6'\n",
       "52. 'ENSG00000071054.16'\n",
       "53. 'ENSG00000171552.14'\n",
       "54. 'ENSG00000172183.15'\n",
       "55. 'ENSG00000145860.12'\n",
       "56. 'ENSG00000137522.18'\n",
       "57. 'ENSG00000183484.12'\n",
       "58. 'ENSG00000138670.18'\n",
       "59. 'ENSG00000197872.11'\n",
       "60. 'ENSG00000084733.11'\n",
       "61. 'ENSG00000172292.15'\n",
       "62. 'ENSG00000115594.12'\n",
       "63. 'ENSG00000101109.12'\n",
       "64. 'ENSG00000069493.15'\n",
       "65. 'ENSG00000217801.10'\n",
       "66. 'ENSG00000177311.11'\n",
       "67. 'ENSG00000159128.15'\n",
       "68. 'ENSG00000120217.14'\n",
       "69. 'ENSG00000136052.9'\n",
       "70. 'ENSG00000118257.17'\n",
       "71. 'ENSG00000164236.12'\n",
       "72. 'ENSG00000169508.7'\n",
       "73. 'ENSG00000163389.12'\n",
       "74. 'ENSG00000128271.22'\n",
       "75. 'ENSG00000102221.14'\n",
       "76. 'ENSG00000131773.14'\n",
       "77. 'ENSG00000168036.18'\n",
       "78. 'ENSG00000137571.11'\n",
       "79. 'ENSG00000077150.20'\n",
       "80. 'ENSG00000116741.8'\n",
       "81. 'ENSG00000106803.10'\n",
       "82. 'ENSG00000186187.12'\n",
       "83. 'ENSG00000104856.14'\n",
       "84. 'ENSG00000151131.11'\n",
       "85. 'ENSG00000168310.11'\n",
       "86. 'ENSG00000273604.2'\n",
       "87. 'ENSG00000059728.11'\n",
       "88. 'ENSG00000111540.16'\n",
       "89. 'ENSG00000117115.13'\n",
       "90. 'ENSG00000136048.14'\n",
       "91. 'ENSG00000108389.9'\n",
       "92. 'ENSG00000103319.12'\n",
       "93. 'ENSG00000111846.19'\n",
       "94. 'ENSG00000173166.18'\n",
       "95. 'ENSG00000140379.9'\n",
       "96. 'ENSG00000101310.17'\n",
       "97. 'ENSG00000198355.5'\n",
       "98. 'ENSG00000163297.17'\n",
       "99. 'ENSG00000166016.6'\n",
       "100. 'ENSG00000164484.12'\n",
       "\n",
       "\n"
      ],
      "text/plain": [
       "$gene_id\n",
       "  [1] \"ENSG00000102962.5\"  \"ENSG00000104951.16\" \"ENSG00000198053.12\"\n",
       "  [4] \"ENSG00000126353.3\"  \"ENSG00000171310.11\" \"ENSG00000180758.12\"\n",
       "  [7] \"ENSG00000090104.12\" \"ENSG00000023445.16\" \"ENSG00000056558.11\"\n",
       " [10] \"ENSG00000198223.17\" \"ENSG00000107021.16\" \"ENSG00000078081.8\" \n",
       " [13] \"ENSG00000118242.16\" \"ENSG00000167641.11\" \"ENSG00000198369.10\"\n",
       " [16] \"ENSG00000112149.10\" \"ENSG00000136810.13\" \"ENSG00000172081.14\"\n",
       " [19] \"ENSG00000109320.13\" \"ENSG00000136111.14\" \"ENSG00000123374.11\"\n",
       " [22] \"ENSG00000261040.7\"  \"ENSG00000047365.12\" \"ENSG00000160445.11\"\n",
       " [25] \"ENSG00000151726.15\" \"ENSG00000167642.13\" \"ENSG00000161011.20\"\n",
       " [28] \"ENSG00000204634.13\" \"ENSG00000101384.12\" \"ENSG00000278834.1\" \n",
       " [31] \"ENSG00000156127.8\"  \"ENSG00000117036.12\" \"ENSG00000171791.14\"\n",
       " [34] \"ENSG00000068796.19\" \"ENSG00000075618.18\" \"ENSG00000118503.15\"\n",
       " [37] \"ENSG00000160050.15\" \"ENSG00000119508.18\" \"ENSG00000115165.10\"\n",
       " [40] \"ENSG00000115956.10\" \"ENSG00000150907.10\" \"ENSG00000025772.8\" \n",
       " [43] \"ENSG00000135148.12\" \"ENSG00000101445.10\" \"ENSG00000121966.7\" \n",
       " [46] \"ENSG00000101017.14\" \"ENSG00000198018.7\"  \"ENSG00000124762.14\"\n",
       " [49] \"ENSG00000015475.19\" \"ENSG00000277443.3\"  \"ENSG00000138166.6\" \n",
       " [52] \"ENSG00000071054.16\" \"ENSG00000171552.14\" \"ENSG00000172183.15\"\n",
       " [55] \"ENSG00000145860.12\" \"ENSG00000137522.18\" \"ENSG00000183484.12\"\n",
       " [58] \"ENSG00000138670.18\" \"ENSG00000197872.11\" \"ENSG00000084733.11\"\n",
       " [61] \"ENSG00000172292.15\" \"ENSG00000115594.12\" \"ENSG00000101109.12\"\n",
       " [64] \"ENSG00000069493.15\" \"ENSG00000217801.10\" \"ENSG00000177311.11\"\n",
       " [67] \"ENSG00000159128.15\" \"ENSG00000120217.14\" \"ENSG00000136052.9\" \n",
       " [70] \"ENSG00000118257.17\" \"ENSG00000164236.12\" \"ENSG00000169508.7\" \n",
       " [73] \"ENSG00000163389.12\" \"ENSG00000128271.22\" \"ENSG00000102221.14\"\n",
       " [76] \"ENSG00000131773.14\" \"ENSG00000168036.18\" \"ENSG00000137571.11\"\n",
       " [79] \"ENSG00000077150.20\" \"ENSG00000116741.8\"  \"ENSG00000106803.10\"\n",
       " [82] \"ENSG00000186187.12\" \"ENSG00000104856.14\" \"ENSG00000151131.11\"\n",
       " [85] \"ENSG00000168310.11\" \"ENSG00000273604.2\"  \"ENSG00000059728.11\"\n",
       " [88] \"ENSG00000111540.16\" \"ENSG00000117115.13\" \"ENSG00000136048.14\"\n",
       " [91] \"ENSG00000108389.9\"  \"ENSG00000103319.12\" \"ENSG00000111846.19\"\n",
       " [94] \"ENSG00000173166.18\" \"ENSG00000140379.9\"  \"ENSG00000101310.17\"\n",
       " [97] \"ENSG00000198355.5\"  \"ENSG00000163297.17\" \"ENSG00000166016.6\" \n",
       "[100] \"ENSG00000164484.12\"\n"
      ]
     },
     "metadata": {},
     "output_type": "display_data"
    }
   ],
   "source": [
    "#load in my signature and make it a list (edit this to any signature)\n",
    "sig <- fread(\"ag_pos_vs_dll1_deg_limma.csv\", select = c(\"gene_id\"))\n",
    "sig <- sig[1:100,]\n",
    "sig = as.list(as.data.frame(sig))\n",
    "head(sig)"
   ]
  },
  {
   "cell_type": "code",
   "execution_count": 109,
   "metadata": {
    "vscode": {
     "languageId": "r"
    }
   },
   "outputs": [
    {
     "data": {
      "text/plain": [
       "   user  system elapsed \n",
       "  2.777   0.703   3.495 "
      ]
     },
     "metadata": {},
     "output_type": "display_data"
    }
   ],
   "source": [
    "#Run ssGSEA function\n",
    "#ssgsea: https://rpubs.com/pranali018/SSGSEA\n",
    "system.time(assign('res', ssgsea(data, sig, scale = TRUE, norm = FALSE)))"
   ]
  },
  {
   "cell_type": "code",
   "execution_count": 110,
   "metadata": {
    "vscode": {
     "languageId": "r"
    }
   },
   "outputs": [
    {
     "data": {
      "text/html": [
       "<table class=\"dataframe\">\n",
       "<caption>A matrix: 6 × 1 of type dbl</caption>\n",
       "<thead>\n",
       "\t<tr><th></th><th scope=col>gene_id</th></tr>\n",
       "</thead>\n",
       "<tbody>\n",
       "\t<tr><th scope=row>TCGA-ER-A199-06A-11R-A18T-07</th><td>0.4040007</td></tr>\n",
       "\t<tr><th scope=row>TCGA-EE-A3J5-06A-11R-A20F-07</th><td>0.3863038</td></tr>\n",
       "\t<tr><th scope=row>TCGA-EE-A2ME-06A-11R-A18T-07</th><td>0.4130965</td></tr>\n",
       "\t<tr><th scope=row>TCGA-D3-A8GE-06A-11R-A37K-07</th><td>0.3772395</td></tr>\n",
       "\t<tr><th scope=row>TCGA-EE-A2MG-06A-11R-A18T-07</th><td>0.4041326</td></tr>\n",
       "\t<tr><th scope=row>TCGA-EE-A2MR-06A-11R-A18S-07</th><td>0.4081942</td></tr>\n",
       "</tbody>\n",
       "</table>\n"
      ],
      "text/latex": [
       "A matrix: 6 × 1 of type dbl\n",
       "\\begin{tabular}{r|l}\n",
       "  & gene\\_id\\\\\n",
       "\\hline\n",
       "\tTCGA-ER-A199-06A-11R-A18T-07 & 0.4040007\\\\\n",
       "\tTCGA-EE-A3J5-06A-11R-A20F-07 & 0.3863038\\\\\n",
       "\tTCGA-EE-A2ME-06A-11R-A18T-07 & 0.4130965\\\\\n",
       "\tTCGA-D3-A8GE-06A-11R-A37K-07 & 0.3772395\\\\\n",
       "\tTCGA-EE-A2MG-06A-11R-A18T-07 & 0.4041326\\\\\n",
       "\tTCGA-EE-A2MR-06A-11R-A18S-07 & 0.4081942\\\\\n",
       "\\end{tabular}\n"
      ],
      "text/markdown": [
       "\n",
       "A matrix: 6 × 1 of type dbl\n",
       "\n",
       "| <!--/--> | gene_id |\n",
       "|---|---|\n",
       "| TCGA-ER-A199-06A-11R-A18T-07 | 0.4040007 |\n",
       "| TCGA-EE-A3J5-06A-11R-A20F-07 | 0.3863038 |\n",
       "| TCGA-EE-A2ME-06A-11R-A18T-07 | 0.4130965 |\n",
       "| TCGA-D3-A8GE-06A-11R-A37K-07 | 0.3772395 |\n",
       "| TCGA-EE-A2MG-06A-11R-A18T-07 | 0.4041326 |\n",
       "| TCGA-EE-A2MR-06A-11R-A18S-07 | 0.4081942 |\n",
       "\n"
      ],
      "text/plain": [
       "                             gene_id  \n",
       "TCGA-ER-A199-06A-11R-A18T-07 0.4040007\n",
       "TCGA-EE-A3J5-06A-11R-A20F-07 0.3863038\n",
       "TCGA-EE-A2ME-06A-11R-A18T-07 0.4130965\n",
       "TCGA-D3-A8GE-06A-11R-A37K-07 0.3772395\n",
       "TCGA-EE-A2MG-06A-11R-A18T-07 0.4041326\n",
       "TCGA-EE-A2MR-06A-11R-A18S-07 0.4081942"
      ]
     },
     "metadata": {},
     "output_type": "display_data"
    }
   ],
   "source": [
    "#transpose results\n",
    "res1 = t(res)\n",
    "head(res1)"
   ]
  },
  {
   "cell_type": "code",
   "execution_count": 111,
   "metadata": {
    "vscode": {
     "languageId": "r"
    }
   },
   "outputs": [
    {
     "data": {
      "text/html": [
       "<style>\n",
       ".list-inline {list-style: none; margin:0; padding: 0}\n",
       ".list-inline>li {display: inline-block}\n",
       ".list-inline>li:not(:last-child)::after {content: \"\\00b7\"; padding: 0 .5ex}\n",
       "</style>\n",
       "<ol class=list-inline><li>1</li><li>368</li></ol>\n"
      ],
      "text/latex": [
       "\\begin{enumerate*}\n",
       "\\item 1\n",
       "\\item 368\n",
       "\\end{enumerate*}\n"
      ],
      "text/markdown": [
       "1. 1\n",
       "2. 368\n",
       "\n",
       "\n"
      ],
      "text/plain": [
       "[1]   1 368"
      ]
     },
     "metadata": {},
     "output_type": "display_data"
    },
    {
     "data": {
      "text/html": [
       "<style>\n",
       ".dl-inline {width: auto; margin:0; padding: 0}\n",
       ".dl-inline>dt, .dl-inline>dd {float: none; width: auto; display: inline-block}\n",
       ".dl-inline>dt::after {content: \":\\0020\"; padding-right: .5ex}\n",
       ".dl-inline>dt:not(:first-of-type) {padding-left: .5ex}\n",
       "</style><dl class=dl-inline><dt>TCGA-ER-A199-06A-11R-A18T-07</dt><dd>1.46778088036528</dd><dt>TCGA-EE-A3J5-06A-11R-A20F-07</dt><dd>0.321785015048965</dd><dt>TCGA-EE-A2ME-06A-11R-A18T-07</dt><dd>2.05679805256497</dd><dt>TCGA-D3-A8GE-06A-11R-A37K-07</dt><dd>-0.265189065037172</dd><dt>TCGA-EE-A2MG-06A-11R-A18T-07</dt><dd>1.47632372103125</dd></dl>\n"
      ],
      "text/latex": [
       "\\begin{description*}\n",
       "\\item[TCGA-ER-A199-06A-11R-A18T-07] 1.46778088036528\n",
       "\\item[TCGA-EE-A3J5-06A-11R-A20F-07] 0.321785015048965\n",
       "\\item[TCGA-EE-A2ME-06A-11R-A18T-07] 2.05679805256497\n",
       "\\item[TCGA-D3-A8GE-06A-11R-A37K-07] -0.265189065037172\n",
       "\\item[TCGA-EE-A2MG-06A-11R-A18T-07] 1.47632372103125\n",
       "\\end{description*}\n"
      ],
      "text/markdown": [
       "TCGA-ER-A199-06A-11R-A18T-07\n",
       ":   1.46778088036528TCGA-EE-A3J5-06A-11R-A20F-07\n",
       ":   0.321785015048965TCGA-EE-A2ME-06A-11R-A18T-07\n",
       ":   2.05679805256497TCGA-D3-A8GE-06A-11R-A37K-07\n",
       ":   -0.265189065037172TCGA-EE-A2MG-06A-11R-A18T-07\n",
       ":   1.47632372103125\n",
       "\n"
      ],
      "text/plain": [
       "TCGA-ER-A199-06A-11R-A18T-07 TCGA-EE-A3J5-06A-11R-A20F-07 \n",
       "                   1.4677809                    0.3217850 \n",
       "TCGA-EE-A2ME-06A-11R-A18T-07 TCGA-D3-A8GE-06A-11R-A37K-07 \n",
       "                   2.0567981                   -0.2651891 \n",
       "TCGA-EE-A2MG-06A-11R-A18T-07 \n",
       "                   1.4763237 "
      ]
     },
     "metadata": {},
     "output_type": "display_data"
    }
   ],
   "source": [
    "#calculate mat (ssGSEA Z score - ssgsea output for comparative analysis)\n",
    "mat = (res - rowMeans(res))/(rowSds(as.matrix(res)))[row(res)]\n",
    "dim(mat)\n",
    "mat[1,1:5] "
   ]
  },
  {
   "cell_type": "markdown",
   "metadata": {},
   "source": [
    "#### at this point now have a score for each patient with how enriched that sample is for my signature, the ID here is the \"barcode\"\n",
    "* next want to see how this score correlates with survival etc"
   ]
  },
  {
   "cell_type": "code",
   "execution_count": 112,
   "metadata": {
    "vscode": {
     "languageId": "r"
    }
   },
   "outputs": [
    {
     "data": {
      "text/html": [
       "<style>\n",
       ".list-inline {list-style: none; margin:0; padding: 0}\n",
       ".list-inline>li {display: inline-block}\n",
       ".list-inline>li:not(:last-child)::after {content: \"\\00b7\"; padding: 0 .5ex}\n",
       "</style>\n",
       "<ol class=list-inline><li>'barcode'</li><li>'patient'</li><li>'sample'</li><li>'shortLetterCode'</li><li>'definition'</li><li>'sample_submitter_id'</li><li>'sample_type_id'</li><li>'tumor_descriptor'</li><li>'sample_id'</li><li>'sample_type'</li><li>'composition'</li><li>'days_to_collection'</li><li>'state'</li><li>'initial_weight'</li><li>'preservation_method'</li><li>'pathology_report_uuid'</li><li>'submitter_id'</li><li>'oct_embedded'</li><li>'specimen_type'</li><li>'is_ffpe'</li><li>'tissue_type'</li><li>'synchronous_malignancy'</li><li>'ajcc_pathologic_stage'</li><li>'days_to_diagnosis'</li><li>'treatments'</li><li>'last_known_disease_status'</li><li>'tissue_or_organ_of_origin'</li><li>'days_to_last_follow_up'</li><li>'age_at_diagnosis'</li><li>'primary_diagnosis'</li><li>'prior_malignancy'</li><li>'year_of_diagnosis'</li><li>'prior_treatment'</li><li>'ajcc_staging_system_edition'</li><li>'ajcc_pathologic_t'</li><li>'morphology'</li><li>'ajcc_pathologic_n'</li><li>'ajcc_pathologic_m'</li><li>'classification_of_tumor'</li><li>'diagnosis_id'</li><li>'icd_10_code'</li><li>'site_of_resection_or_biopsy'</li><li>'tumor_grade'</li><li>'progression_or_recurrence'</li><li>'alcohol_history'</li><li>'exposure_id'</li><li>'race'</li><li>'gender'</li><li>'ethnicity'</li><li>'vital_status'</li><li>'age_at_index'</li><li>'days_to_birth'</li><li>'year_of_birth'</li><li>'demographic_id'</li><li>'days_to_death'</li><li>'year_of_death'</li><li>'bcr_patient_barcode'</li><li>'primary_site'</li><li>'project_id'</li><li>'disease_type'</li><li>'name'</li><li>'releasable'</li><li>'released'</li><li>'paper_patient'</li><li>'paper_ALL_SAMPLES'</li><li>'paper_MUTATIONSUBTYPES'</li><li>'paper_ALL_PRIMARY_VS_METASTATIC'</li><li>'paper_REGIONAL_VS_PRIMARY'</li><li>'paper_UV.signature'</li><li>'paper_RNASEQ.CLUSTER_CONSENHIER'</li><li>'paper_MethTypes.201408'</li><li>'paper_MIRCluster'</li><li>'paper_ProteinCluster'</li><li>'paper_OncoSignCluster'</li><li>'paper_CDKN2A.cg13601799._meth'</li><li>'paper_KIT.cg10087973._meth'</li><li>'paper_BRAF_cna'</li><li>'paper_NRAS_cna'</li><li>'paper_MITF_cna'</li><li>'paper_KIT_cna'</li><li>'paper_PDGFRA_cna'</li><li>'paper_KDR_cna'</li><li>'paper_MYC_cna'</li><li>'paper_CCND1_cna'</li><li>'paper_CDK4_cna'</li><li>'paper_MDM2_cna'</li><li>'paper_TERT_cna'</li><li>'paper_EP300_cna'</li><li>'paper_NOTCH2_cna'</li><li>'paper_CDKN2A_cna'</li><li>'paper_PTEN_cna'</li><li>'paper_TP53_cna'</li><li>'paper_PPP6C_cna'</li><li>'paper_ARID2_cna'</li><li>'paper_IDH1_cna'</li><li>'paper_MAP2K1_cna'</li><li>'paper_DDX3X_cna'</li><li>'paper_RAC1_cna'</li><li>'paper_NF1_cna'</li><li>'paper_CASP8_cna'</li><li>'paper_CTNNB1_cna'</li><li>'paper_PCDHGA1_cna'</li><li>'paper_SERPINB3_cna'</li><li>'paper_IRF7_cna'</li><li>'paper_HRAS_cna'</li><li>'paper_PTPN11_cna'</li><li>'paper_KRAS_cna'</li><li>'paper_GNA11_cna'</li><li>'paper_GNAQ_cna'</li><li>'paper_AKT1_cna'</li><li>'paper_APC_cna'</li><li>'paper_EZH2_cna'</li><li>'paper_FBXW7_cna'</li><li>'paper_GNAS_cna'</li><li>'paper_PIK3CA_cna'</li><li>'paper_ARID2_mut'</li><li>'paper_BRAF_mut'</li><li>'paper_NRAS_mut'</li><li>'paper_KRAS_mut'</li><li>'paper_HRAS_mut'</li><li>'paper_NF1_mut'</li><li>'paper_IDH1_mut'</li><li>'paper_GNA11_mut'</li><li>'paper_GNAQ_mut'</li><li>'paper_CDK4_mut'</li><li>'paper_CDKN2A_mut'</li><li>'paper_DDX3X_mut'</li><li>'paper_KIT_mut'</li><li>'paper_MAP2K1_mut'</li><li>'paper_PPP6C_mut'</li><li>'paper_PTEN_mut'</li><li>'paper_RAC1_mut'</li><li>'paper_RB1_mut'</li><li>'paper_TP53_mut'</li><li>'paper_TERT_MUT'</li><li>'paper_rnaseq_TERT.RSEM.NORM_DATA'</li><li>'paper_rppa_LCK.LCK.R.V'</li><li>'paper_rppa_SYK.SYK.M.V'</li><li>'paper_PIGMENT.SCORE'</li><li>'paper_NECROSIS'</li><li>'paper_Tumour.content........nuceli.that.are.tumour.cells......0.100..'</li><li>'paper_LYMPHOCYTE.DISTRIBUTION'</li><li>'paper_LYMPHOCYTE.DENSITY'</li><li>'paper_LYMPHOCYTE.SCORE'</li><li>'paper_PURITY..ABSOLUTE.'</li><li>'paper_PLOIDY..ABSOLUTE.'</li><li>'paper_TOTAL.MUTATIONS'</li><li>'paper_UV.RATE'</li><li>'paper_CURATED_AGE_AT_INITIAL_PATHOLOGIC_DIAGNOSIS'</li><li>'paper_CURATED_AGE_AT_TCGA_SPECIMEN'</li><li>'paper_GENDER'</li><li>'paper_CURATED_KNOWN_PRIMARY'</li><li>'paper_CURATED_SITE_OF_PRIMARY_TUMOR_KNOWN_PRIMARY_ONLY'</li><li>'paper_CURATED_SITE_OF_PRIMARY_TUMOR_INCLUDING_UNKNOWN'</li><li>'paper_CURATED_BRESLOW'</li><li>'paper_CURATED_ULCERATION'</li><li>'paper_CURATED_T_STAGE_AT_DIAGNOSIS_COMPLEX'</li><li>'paper_CURATED_T_STAGE_AT_DIAGNOSIS_SIMPLE'</li><li>'paper_CURATED_N_STAGE_AT_DIAGNOSIS_COMPLEX'</li><li>'paper_CURATED_N_STAGE_AT_DIAGNOSIS_SIMPLE'</li><li>'paper_CURATED_M_STAGE_AT_DIAGNOSIS_COMPLEX'</li><li>'paper_CURATED_M_STAGE_AT_DIAGNOSIS_SIMPLE'</li><li>'paper_CURATED_PATHOLOGIC_STAGE_AJCC7_AT_DIAGNOSIS_COMPLEX'</li><li>'paper_CURATED_PATHOLOGIC_STAGE_AJCC7_AT_DIAGNOSIS_SIMPLE'</li><li>'paper_CURATED_TCGA_SPECIMEN_SITE'</li><li>'paper_CURATED_DISTANT_ANATOMIC_SITE'</li><li>'paper_CURATED_VITAL_STATUS'</li><li>'paper_CURATED_DAYS_TO_DEATH_OR_LAST_FU'</li><li>'paper_CURATED_TCGA_DAYS_TO_DEATH_OR_LAST_FU'</li><li>'paper_CURATED_MELANOMA_SPECIFIC_VITAL_STATUS..0....ALIVE.OR.CENSORED...1....DEAD.OF.MELANOMA..'</li><li>'paper_CURATED_TCGA_SPECIMEN_Distant'</li><li>'paper_CC.TT.nTotal.Mut'</li><li>'paper_DIPYRIM.C.T.nTotal.Mut'</li><li>'paper_DIPYRIM.C.T.n.C.T..mut'</li><li>'paper_SHATTERSEEK_Chromothripsis_calls'</li></ol>\n"
      ],
      "text/latex": [
       "\\begin{enumerate*}\n",
       "\\item 'barcode'\n",
       "\\item 'patient'\n",
       "\\item 'sample'\n",
       "\\item 'shortLetterCode'\n",
       "\\item 'definition'\n",
       "\\item 'sample\\_submitter\\_id'\n",
       "\\item 'sample\\_type\\_id'\n",
       "\\item 'tumor\\_descriptor'\n",
       "\\item 'sample\\_id'\n",
       "\\item 'sample\\_type'\n",
       "\\item 'composition'\n",
       "\\item 'days\\_to\\_collection'\n",
       "\\item 'state'\n",
       "\\item 'initial\\_weight'\n",
       "\\item 'preservation\\_method'\n",
       "\\item 'pathology\\_report\\_uuid'\n",
       "\\item 'submitter\\_id'\n",
       "\\item 'oct\\_embedded'\n",
       "\\item 'specimen\\_type'\n",
       "\\item 'is\\_ffpe'\n",
       "\\item 'tissue\\_type'\n",
       "\\item 'synchronous\\_malignancy'\n",
       "\\item 'ajcc\\_pathologic\\_stage'\n",
       "\\item 'days\\_to\\_diagnosis'\n",
       "\\item 'treatments'\n",
       "\\item 'last\\_known\\_disease\\_status'\n",
       "\\item 'tissue\\_or\\_organ\\_of\\_origin'\n",
       "\\item 'days\\_to\\_last\\_follow\\_up'\n",
       "\\item 'age\\_at\\_diagnosis'\n",
       "\\item 'primary\\_diagnosis'\n",
       "\\item 'prior\\_malignancy'\n",
       "\\item 'year\\_of\\_diagnosis'\n",
       "\\item 'prior\\_treatment'\n",
       "\\item 'ajcc\\_staging\\_system\\_edition'\n",
       "\\item 'ajcc\\_pathologic\\_t'\n",
       "\\item 'morphology'\n",
       "\\item 'ajcc\\_pathologic\\_n'\n",
       "\\item 'ajcc\\_pathologic\\_m'\n",
       "\\item 'classification\\_of\\_tumor'\n",
       "\\item 'diagnosis\\_id'\n",
       "\\item 'icd\\_10\\_code'\n",
       "\\item 'site\\_of\\_resection\\_or\\_biopsy'\n",
       "\\item 'tumor\\_grade'\n",
       "\\item 'progression\\_or\\_recurrence'\n",
       "\\item 'alcohol\\_history'\n",
       "\\item 'exposure\\_id'\n",
       "\\item 'race'\n",
       "\\item 'gender'\n",
       "\\item 'ethnicity'\n",
       "\\item 'vital\\_status'\n",
       "\\item 'age\\_at\\_index'\n",
       "\\item 'days\\_to\\_birth'\n",
       "\\item 'year\\_of\\_birth'\n",
       "\\item 'demographic\\_id'\n",
       "\\item 'days\\_to\\_death'\n",
       "\\item 'year\\_of\\_death'\n",
       "\\item 'bcr\\_patient\\_barcode'\n",
       "\\item 'primary\\_site'\n",
       "\\item 'project\\_id'\n",
       "\\item 'disease\\_type'\n",
       "\\item 'name'\n",
       "\\item 'releasable'\n",
       "\\item 'released'\n",
       "\\item 'paper\\_patient'\n",
       "\\item 'paper\\_ALL\\_SAMPLES'\n",
       "\\item 'paper\\_MUTATIONSUBTYPES'\n",
       "\\item 'paper\\_ALL\\_PRIMARY\\_VS\\_METASTATIC'\n",
       "\\item 'paper\\_REGIONAL\\_VS\\_PRIMARY'\n",
       "\\item 'paper\\_UV.signature'\n",
       "\\item 'paper\\_RNASEQ.CLUSTER\\_CONSENHIER'\n",
       "\\item 'paper\\_MethTypes.201408'\n",
       "\\item 'paper\\_MIRCluster'\n",
       "\\item 'paper\\_ProteinCluster'\n",
       "\\item 'paper\\_OncoSignCluster'\n",
       "\\item 'paper\\_CDKN2A.cg13601799.\\_meth'\n",
       "\\item 'paper\\_KIT.cg10087973.\\_meth'\n",
       "\\item 'paper\\_BRAF\\_cna'\n",
       "\\item 'paper\\_NRAS\\_cna'\n",
       "\\item 'paper\\_MITF\\_cna'\n",
       "\\item 'paper\\_KIT\\_cna'\n",
       "\\item 'paper\\_PDGFRA\\_cna'\n",
       "\\item 'paper\\_KDR\\_cna'\n",
       "\\item 'paper\\_MYC\\_cna'\n",
       "\\item 'paper\\_CCND1\\_cna'\n",
       "\\item 'paper\\_CDK4\\_cna'\n",
       "\\item 'paper\\_MDM2\\_cna'\n",
       "\\item 'paper\\_TERT\\_cna'\n",
       "\\item 'paper\\_EP300\\_cna'\n",
       "\\item 'paper\\_NOTCH2\\_cna'\n",
       "\\item 'paper\\_CDKN2A\\_cna'\n",
       "\\item 'paper\\_PTEN\\_cna'\n",
       "\\item 'paper\\_TP53\\_cna'\n",
       "\\item 'paper\\_PPP6C\\_cna'\n",
       "\\item 'paper\\_ARID2\\_cna'\n",
       "\\item 'paper\\_IDH1\\_cna'\n",
       "\\item 'paper\\_MAP2K1\\_cna'\n",
       "\\item 'paper\\_DDX3X\\_cna'\n",
       "\\item 'paper\\_RAC1\\_cna'\n",
       "\\item 'paper\\_NF1\\_cna'\n",
       "\\item 'paper\\_CASP8\\_cna'\n",
       "\\item 'paper\\_CTNNB1\\_cna'\n",
       "\\item 'paper\\_PCDHGA1\\_cna'\n",
       "\\item 'paper\\_SERPINB3\\_cna'\n",
       "\\item 'paper\\_IRF7\\_cna'\n",
       "\\item 'paper\\_HRAS\\_cna'\n",
       "\\item 'paper\\_PTPN11\\_cna'\n",
       "\\item 'paper\\_KRAS\\_cna'\n",
       "\\item 'paper\\_GNA11\\_cna'\n",
       "\\item 'paper\\_GNAQ\\_cna'\n",
       "\\item 'paper\\_AKT1\\_cna'\n",
       "\\item 'paper\\_APC\\_cna'\n",
       "\\item 'paper\\_EZH2\\_cna'\n",
       "\\item 'paper\\_FBXW7\\_cna'\n",
       "\\item 'paper\\_GNAS\\_cna'\n",
       "\\item 'paper\\_PIK3CA\\_cna'\n",
       "\\item 'paper\\_ARID2\\_mut'\n",
       "\\item 'paper\\_BRAF\\_mut'\n",
       "\\item 'paper\\_NRAS\\_mut'\n",
       "\\item 'paper\\_KRAS\\_mut'\n",
       "\\item 'paper\\_HRAS\\_mut'\n",
       "\\item 'paper\\_NF1\\_mut'\n",
       "\\item 'paper\\_IDH1\\_mut'\n",
       "\\item 'paper\\_GNA11\\_mut'\n",
       "\\item 'paper\\_GNAQ\\_mut'\n",
       "\\item 'paper\\_CDK4\\_mut'\n",
       "\\item 'paper\\_CDKN2A\\_mut'\n",
       "\\item 'paper\\_DDX3X\\_mut'\n",
       "\\item 'paper\\_KIT\\_mut'\n",
       "\\item 'paper\\_MAP2K1\\_mut'\n",
       "\\item 'paper\\_PPP6C\\_mut'\n",
       "\\item 'paper\\_PTEN\\_mut'\n",
       "\\item 'paper\\_RAC1\\_mut'\n",
       "\\item 'paper\\_RB1\\_mut'\n",
       "\\item 'paper\\_TP53\\_mut'\n",
       "\\item 'paper\\_TERT\\_MUT'\n",
       "\\item 'paper\\_rnaseq\\_TERT.RSEM.NORM\\_DATA'\n",
       "\\item 'paper\\_rppa\\_LCK.LCK.R.V'\n",
       "\\item 'paper\\_rppa\\_SYK.SYK.M.V'\n",
       "\\item 'paper\\_PIGMENT.SCORE'\n",
       "\\item 'paper\\_NECROSIS'\n",
       "\\item 'paper\\_Tumour.content........nuceli.that.are.tumour.cells......0.100..'\n",
       "\\item 'paper\\_LYMPHOCYTE.DISTRIBUTION'\n",
       "\\item 'paper\\_LYMPHOCYTE.DENSITY'\n",
       "\\item 'paper\\_LYMPHOCYTE.SCORE'\n",
       "\\item 'paper\\_PURITY..ABSOLUTE.'\n",
       "\\item 'paper\\_PLOIDY..ABSOLUTE.'\n",
       "\\item 'paper\\_TOTAL.MUTATIONS'\n",
       "\\item 'paper\\_UV.RATE'\n",
       "\\item 'paper\\_CURATED\\_AGE\\_AT\\_INITIAL\\_PATHOLOGIC\\_DIAGNOSIS'\n",
       "\\item 'paper\\_CURATED\\_AGE\\_AT\\_TCGA\\_SPECIMEN'\n",
       "\\item 'paper\\_GENDER'\n",
       "\\item 'paper\\_CURATED\\_KNOWN\\_PRIMARY'\n",
       "\\item 'paper\\_CURATED\\_SITE\\_OF\\_PRIMARY\\_TUMOR\\_KNOWN\\_PRIMARY\\_ONLY'\n",
       "\\item 'paper\\_CURATED\\_SITE\\_OF\\_PRIMARY\\_TUMOR\\_INCLUDING\\_UNKNOWN'\n",
       "\\item 'paper\\_CURATED\\_BRESLOW'\n",
       "\\item 'paper\\_CURATED\\_ULCERATION'\n",
       "\\item 'paper\\_CURATED\\_T\\_STAGE\\_AT\\_DIAGNOSIS\\_COMPLEX'\n",
       "\\item 'paper\\_CURATED\\_T\\_STAGE\\_AT\\_DIAGNOSIS\\_SIMPLE'\n",
       "\\item 'paper\\_CURATED\\_N\\_STAGE\\_AT\\_DIAGNOSIS\\_COMPLEX'\n",
       "\\item 'paper\\_CURATED\\_N\\_STAGE\\_AT\\_DIAGNOSIS\\_SIMPLE'\n",
       "\\item 'paper\\_CURATED\\_M\\_STAGE\\_AT\\_DIAGNOSIS\\_COMPLEX'\n",
       "\\item 'paper\\_CURATED\\_M\\_STAGE\\_AT\\_DIAGNOSIS\\_SIMPLE'\n",
       "\\item 'paper\\_CURATED\\_PATHOLOGIC\\_STAGE\\_AJCC7\\_AT\\_DIAGNOSIS\\_COMPLEX'\n",
       "\\item 'paper\\_CURATED\\_PATHOLOGIC\\_STAGE\\_AJCC7\\_AT\\_DIAGNOSIS\\_SIMPLE'\n",
       "\\item 'paper\\_CURATED\\_TCGA\\_SPECIMEN\\_SITE'\n",
       "\\item 'paper\\_CURATED\\_DISTANT\\_ANATOMIC\\_SITE'\n",
       "\\item 'paper\\_CURATED\\_VITAL\\_STATUS'\n",
       "\\item 'paper\\_CURATED\\_DAYS\\_TO\\_DEATH\\_OR\\_LAST\\_FU'\n",
       "\\item 'paper\\_CURATED\\_TCGA\\_DAYS\\_TO\\_DEATH\\_OR\\_LAST\\_FU'\n",
       "\\item 'paper\\_CURATED\\_MELANOMA\\_SPECIFIC\\_VITAL\\_STATUS..0....ALIVE.OR.CENSORED...1....DEAD.OF.MELANOMA..'\n",
       "\\item 'paper\\_CURATED\\_TCGA\\_SPECIMEN\\_Distant'\n",
       "\\item 'paper\\_CC.TT.nTotal.Mut'\n",
       "\\item 'paper\\_DIPYRIM.C.T.nTotal.Mut'\n",
       "\\item 'paper\\_DIPYRIM.C.T.n.C.T..mut'\n",
       "\\item 'paper\\_SHATTERSEEK\\_Chromothripsis\\_calls'\n",
       "\\end{enumerate*}\n"
      ],
      "text/markdown": [
       "1. 'barcode'\n",
       "2. 'patient'\n",
       "3. 'sample'\n",
       "4. 'shortLetterCode'\n",
       "5. 'definition'\n",
       "6. 'sample_submitter_id'\n",
       "7. 'sample_type_id'\n",
       "8. 'tumor_descriptor'\n",
       "9. 'sample_id'\n",
       "10. 'sample_type'\n",
       "11. 'composition'\n",
       "12. 'days_to_collection'\n",
       "13. 'state'\n",
       "14. 'initial_weight'\n",
       "15. 'preservation_method'\n",
       "16. 'pathology_report_uuid'\n",
       "17. 'submitter_id'\n",
       "18. 'oct_embedded'\n",
       "19. 'specimen_type'\n",
       "20. 'is_ffpe'\n",
       "21. 'tissue_type'\n",
       "22. 'synchronous_malignancy'\n",
       "23. 'ajcc_pathologic_stage'\n",
       "24. 'days_to_diagnosis'\n",
       "25. 'treatments'\n",
       "26. 'last_known_disease_status'\n",
       "27. 'tissue_or_organ_of_origin'\n",
       "28. 'days_to_last_follow_up'\n",
       "29. 'age_at_diagnosis'\n",
       "30. 'primary_diagnosis'\n",
       "31. 'prior_malignancy'\n",
       "32. 'year_of_diagnosis'\n",
       "33. 'prior_treatment'\n",
       "34. 'ajcc_staging_system_edition'\n",
       "35. 'ajcc_pathologic_t'\n",
       "36. 'morphology'\n",
       "37. 'ajcc_pathologic_n'\n",
       "38. 'ajcc_pathologic_m'\n",
       "39. 'classification_of_tumor'\n",
       "40. 'diagnosis_id'\n",
       "41. 'icd_10_code'\n",
       "42. 'site_of_resection_or_biopsy'\n",
       "43. 'tumor_grade'\n",
       "44. 'progression_or_recurrence'\n",
       "45. 'alcohol_history'\n",
       "46. 'exposure_id'\n",
       "47. 'race'\n",
       "48. 'gender'\n",
       "49. 'ethnicity'\n",
       "50. 'vital_status'\n",
       "51. 'age_at_index'\n",
       "52. 'days_to_birth'\n",
       "53. 'year_of_birth'\n",
       "54. 'demographic_id'\n",
       "55. 'days_to_death'\n",
       "56. 'year_of_death'\n",
       "57. 'bcr_patient_barcode'\n",
       "58. 'primary_site'\n",
       "59. 'project_id'\n",
       "60. 'disease_type'\n",
       "61. 'name'\n",
       "62. 'releasable'\n",
       "63. 'released'\n",
       "64. 'paper_patient'\n",
       "65. 'paper_ALL_SAMPLES'\n",
       "66. 'paper_MUTATIONSUBTYPES'\n",
       "67. 'paper_ALL_PRIMARY_VS_METASTATIC'\n",
       "68. 'paper_REGIONAL_VS_PRIMARY'\n",
       "69. 'paper_UV.signature'\n",
       "70. 'paper_RNASEQ.CLUSTER_CONSENHIER'\n",
       "71. 'paper_MethTypes.201408'\n",
       "72. 'paper_MIRCluster'\n",
       "73. 'paper_ProteinCluster'\n",
       "74. 'paper_OncoSignCluster'\n",
       "75. 'paper_CDKN2A.cg13601799._meth'\n",
       "76. 'paper_KIT.cg10087973._meth'\n",
       "77. 'paper_BRAF_cna'\n",
       "78. 'paper_NRAS_cna'\n",
       "79. 'paper_MITF_cna'\n",
       "80. 'paper_KIT_cna'\n",
       "81. 'paper_PDGFRA_cna'\n",
       "82. 'paper_KDR_cna'\n",
       "83. 'paper_MYC_cna'\n",
       "84. 'paper_CCND1_cna'\n",
       "85. 'paper_CDK4_cna'\n",
       "86. 'paper_MDM2_cna'\n",
       "87. 'paper_TERT_cna'\n",
       "88. 'paper_EP300_cna'\n",
       "89. 'paper_NOTCH2_cna'\n",
       "90. 'paper_CDKN2A_cna'\n",
       "91. 'paper_PTEN_cna'\n",
       "92. 'paper_TP53_cna'\n",
       "93. 'paper_PPP6C_cna'\n",
       "94. 'paper_ARID2_cna'\n",
       "95. 'paper_IDH1_cna'\n",
       "96. 'paper_MAP2K1_cna'\n",
       "97. 'paper_DDX3X_cna'\n",
       "98. 'paper_RAC1_cna'\n",
       "99. 'paper_NF1_cna'\n",
       "100. 'paper_CASP8_cna'\n",
       "101. 'paper_CTNNB1_cna'\n",
       "102. 'paper_PCDHGA1_cna'\n",
       "103. 'paper_SERPINB3_cna'\n",
       "104. 'paper_IRF7_cna'\n",
       "105. 'paper_HRAS_cna'\n",
       "106. 'paper_PTPN11_cna'\n",
       "107. 'paper_KRAS_cna'\n",
       "108. 'paper_GNA11_cna'\n",
       "109. 'paper_GNAQ_cna'\n",
       "110. 'paper_AKT1_cna'\n",
       "111. 'paper_APC_cna'\n",
       "112. 'paper_EZH2_cna'\n",
       "113. 'paper_FBXW7_cna'\n",
       "114. 'paper_GNAS_cna'\n",
       "115. 'paper_PIK3CA_cna'\n",
       "116. 'paper_ARID2_mut'\n",
       "117. 'paper_BRAF_mut'\n",
       "118. 'paper_NRAS_mut'\n",
       "119. 'paper_KRAS_mut'\n",
       "120. 'paper_HRAS_mut'\n",
       "121. 'paper_NF1_mut'\n",
       "122. 'paper_IDH1_mut'\n",
       "123. 'paper_GNA11_mut'\n",
       "124. 'paper_GNAQ_mut'\n",
       "125. 'paper_CDK4_mut'\n",
       "126. 'paper_CDKN2A_mut'\n",
       "127. 'paper_DDX3X_mut'\n",
       "128. 'paper_KIT_mut'\n",
       "129. 'paper_MAP2K1_mut'\n",
       "130. 'paper_PPP6C_mut'\n",
       "131. 'paper_PTEN_mut'\n",
       "132. 'paper_RAC1_mut'\n",
       "133. 'paper_RB1_mut'\n",
       "134. 'paper_TP53_mut'\n",
       "135. 'paper_TERT_MUT'\n",
       "136. 'paper_rnaseq_TERT.RSEM.NORM_DATA'\n",
       "137. 'paper_rppa_LCK.LCK.R.V'\n",
       "138. 'paper_rppa_SYK.SYK.M.V'\n",
       "139. 'paper_PIGMENT.SCORE'\n",
       "140. 'paper_NECROSIS'\n",
       "141. 'paper_Tumour.content........nuceli.that.are.tumour.cells......0.100..'\n",
       "142. 'paper_LYMPHOCYTE.DISTRIBUTION'\n",
       "143. 'paper_LYMPHOCYTE.DENSITY'\n",
       "144. 'paper_LYMPHOCYTE.SCORE'\n",
       "145. 'paper_PURITY..ABSOLUTE.'\n",
       "146. 'paper_PLOIDY..ABSOLUTE.'\n",
       "147. 'paper_TOTAL.MUTATIONS'\n",
       "148. 'paper_UV.RATE'\n",
       "149. 'paper_CURATED_AGE_AT_INITIAL_PATHOLOGIC_DIAGNOSIS'\n",
       "150. 'paper_CURATED_AGE_AT_TCGA_SPECIMEN'\n",
       "151. 'paper_GENDER'\n",
       "152. 'paper_CURATED_KNOWN_PRIMARY'\n",
       "153. 'paper_CURATED_SITE_OF_PRIMARY_TUMOR_KNOWN_PRIMARY_ONLY'\n",
       "154. 'paper_CURATED_SITE_OF_PRIMARY_TUMOR_INCLUDING_UNKNOWN'\n",
       "155. 'paper_CURATED_BRESLOW'\n",
       "156. 'paper_CURATED_ULCERATION'\n",
       "157. 'paper_CURATED_T_STAGE_AT_DIAGNOSIS_COMPLEX'\n",
       "158. 'paper_CURATED_T_STAGE_AT_DIAGNOSIS_SIMPLE'\n",
       "159. 'paper_CURATED_N_STAGE_AT_DIAGNOSIS_COMPLEX'\n",
       "160. 'paper_CURATED_N_STAGE_AT_DIAGNOSIS_SIMPLE'\n",
       "161. 'paper_CURATED_M_STAGE_AT_DIAGNOSIS_COMPLEX'\n",
       "162. 'paper_CURATED_M_STAGE_AT_DIAGNOSIS_SIMPLE'\n",
       "163. 'paper_CURATED_PATHOLOGIC_STAGE_AJCC7_AT_DIAGNOSIS_COMPLEX'\n",
       "164. 'paper_CURATED_PATHOLOGIC_STAGE_AJCC7_AT_DIAGNOSIS_SIMPLE'\n",
       "165. 'paper_CURATED_TCGA_SPECIMEN_SITE'\n",
       "166. 'paper_CURATED_DISTANT_ANATOMIC_SITE'\n",
       "167. 'paper_CURATED_VITAL_STATUS'\n",
       "168. 'paper_CURATED_DAYS_TO_DEATH_OR_LAST_FU'\n",
       "169. 'paper_CURATED_TCGA_DAYS_TO_DEATH_OR_LAST_FU'\n",
       "170. 'paper_CURATED_MELANOMA_SPECIFIC_VITAL_STATUS..0....ALIVE.OR.CENSORED...1....DEAD.OF.MELANOMA..'\n",
       "171. 'paper_CURATED_TCGA_SPECIMEN_Distant'\n",
       "172. 'paper_CC.TT.nTotal.Mut'\n",
       "173. 'paper_DIPYRIM.C.T.nTotal.Mut'\n",
       "174. 'paper_DIPYRIM.C.T.n.C.T..mut'\n",
       "175. 'paper_SHATTERSEEK_Chromothripsis_calls'\n",
       "\n",
       "\n"
      ],
      "text/plain": [
       "  [1] \"barcode\"                                                                                       \n",
       "  [2] \"patient\"                                                                                       \n",
       "  [3] \"sample\"                                                                                        \n",
       "  [4] \"shortLetterCode\"                                                                               \n",
       "  [5] \"definition\"                                                                                    \n",
       "  [6] \"sample_submitter_id\"                                                                           \n",
       "  [7] \"sample_type_id\"                                                                                \n",
       "  [8] \"tumor_descriptor\"                                                                              \n",
       "  [9] \"sample_id\"                                                                                     \n",
       " [10] \"sample_type\"                                                                                   \n",
       " [11] \"composition\"                                                                                   \n",
       " [12] \"days_to_collection\"                                                                            \n",
       " [13] \"state\"                                                                                         \n",
       " [14] \"initial_weight\"                                                                                \n",
       " [15] \"preservation_method\"                                                                           \n",
       " [16] \"pathology_report_uuid\"                                                                         \n",
       " [17] \"submitter_id\"                                                                                  \n",
       " [18] \"oct_embedded\"                                                                                  \n",
       " [19] \"specimen_type\"                                                                                 \n",
       " [20] \"is_ffpe\"                                                                                       \n",
       " [21] \"tissue_type\"                                                                                   \n",
       " [22] \"synchronous_malignancy\"                                                                        \n",
       " [23] \"ajcc_pathologic_stage\"                                                                         \n",
       " [24] \"days_to_diagnosis\"                                                                             \n",
       " [25] \"treatments\"                                                                                    \n",
       " [26] \"last_known_disease_status\"                                                                     \n",
       " [27] \"tissue_or_organ_of_origin\"                                                                     \n",
       " [28] \"days_to_last_follow_up\"                                                                        \n",
       " [29] \"age_at_diagnosis\"                                                                              \n",
       " [30] \"primary_diagnosis\"                                                                             \n",
       " [31] \"prior_malignancy\"                                                                              \n",
       " [32] \"year_of_diagnosis\"                                                                             \n",
       " [33] \"prior_treatment\"                                                                               \n",
       " [34] \"ajcc_staging_system_edition\"                                                                   \n",
       " [35] \"ajcc_pathologic_t\"                                                                             \n",
       " [36] \"morphology\"                                                                                    \n",
       " [37] \"ajcc_pathologic_n\"                                                                             \n",
       " [38] \"ajcc_pathologic_m\"                                                                             \n",
       " [39] \"classification_of_tumor\"                                                                       \n",
       " [40] \"diagnosis_id\"                                                                                  \n",
       " [41] \"icd_10_code\"                                                                                   \n",
       " [42] \"site_of_resection_or_biopsy\"                                                                   \n",
       " [43] \"tumor_grade\"                                                                                   \n",
       " [44] \"progression_or_recurrence\"                                                                     \n",
       " [45] \"alcohol_history\"                                                                               \n",
       " [46] \"exposure_id\"                                                                                   \n",
       " [47] \"race\"                                                                                          \n",
       " [48] \"gender\"                                                                                        \n",
       " [49] \"ethnicity\"                                                                                     \n",
       " [50] \"vital_status\"                                                                                  \n",
       " [51] \"age_at_index\"                                                                                  \n",
       " [52] \"days_to_birth\"                                                                                 \n",
       " [53] \"year_of_birth\"                                                                                 \n",
       " [54] \"demographic_id\"                                                                                \n",
       " [55] \"days_to_death\"                                                                                 \n",
       " [56] \"year_of_death\"                                                                                 \n",
       " [57] \"bcr_patient_barcode\"                                                                           \n",
       " [58] \"primary_site\"                                                                                  \n",
       " [59] \"project_id\"                                                                                    \n",
       " [60] \"disease_type\"                                                                                  \n",
       " [61] \"name\"                                                                                          \n",
       " [62] \"releasable\"                                                                                    \n",
       " [63] \"released\"                                                                                      \n",
       " [64] \"paper_patient\"                                                                                 \n",
       " [65] \"paper_ALL_SAMPLES\"                                                                             \n",
       " [66] \"paper_MUTATIONSUBTYPES\"                                                                        \n",
       " [67] \"paper_ALL_PRIMARY_VS_METASTATIC\"                                                               \n",
       " [68] \"paper_REGIONAL_VS_PRIMARY\"                                                                     \n",
       " [69] \"paper_UV.signature\"                                                                            \n",
       " [70] \"paper_RNASEQ.CLUSTER_CONSENHIER\"                                                               \n",
       " [71] \"paper_MethTypes.201408\"                                                                        \n",
       " [72] \"paper_MIRCluster\"                                                                              \n",
       " [73] \"paper_ProteinCluster\"                                                                          \n",
       " [74] \"paper_OncoSignCluster\"                                                                         \n",
       " [75] \"paper_CDKN2A.cg13601799._meth\"                                                                 \n",
       " [76] \"paper_KIT.cg10087973._meth\"                                                                    \n",
       " [77] \"paper_BRAF_cna\"                                                                                \n",
       " [78] \"paper_NRAS_cna\"                                                                                \n",
       " [79] \"paper_MITF_cna\"                                                                                \n",
       " [80] \"paper_KIT_cna\"                                                                                 \n",
       " [81] \"paper_PDGFRA_cna\"                                                                              \n",
       " [82] \"paper_KDR_cna\"                                                                                 \n",
       " [83] \"paper_MYC_cna\"                                                                                 \n",
       " [84] \"paper_CCND1_cna\"                                                                               \n",
       " [85] \"paper_CDK4_cna\"                                                                                \n",
       " [86] \"paper_MDM2_cna\"                                                                                \n",
       " [87] \"paper_TERT_cna\"                                                                                \n",
       " [88] \"paper_EP300_cna\"                                                                               \n",
       " [89] \"paper_NOTCH2_cna\"                                                                              \n",
       " [90] \"paper_CDKN2A_cna\"                                                                              \n",
       " [91] \"paper_PTEN_cna\"                                                                                \n",
       " [92] \"paper_TP53_cna\"                                                                                \n",
       " [93] \"paper_PPP6C_cna\"                                                                               \n",
       " [94] \"paper_ARID2_cna\"                                                                               \n",
       " [95] \"paper_IDH1_cna\"                                                                                \n",
       " [96] \"paper_MAP2K1_cna\"                                                                              \n",
       " [97] \"paper_DDX3X_cna\"                                                                               \n",
       " [98] \"paper_RAC1_cna\"                                                                                \n",
       " [99] \"paper_NF1_cna\"                                                                                 \n",
       "[100] \"paper_CASP8_cna\"                                                                               \n",
       "[101] \"paper_CTNNB1_cna\"                                                                              \n",
       "[102] \"paper_PCDHGA1_cna\"                                                                             \n",
       "[103] \"paper_SERPINB3_cna\"                                                                            \n",
       "[104] \"paper_IRF7_cna\"                                                                                \n",
       "[105] \"paper_HRAS_cna\"                                                                                \n",
       "[106] \"paper_PTPN11_cna\"                                                                              \n",
       "[107] \"paper_KRAS_cna\"                                                                                \n",
       "[108] \"paper_GNA11_cna\"                                                                               \n",
       "[109] \"paper_GNAQ_cna\"                                                                                \n",
       "[110] \"paper_AKT1_cna\"                                                                                \n",
       "[111] \"paper_APC_cna\"                                                                                 \n",
       "[112] \"paper_EZH2_cna\"                                                                                \n",
       "[113] \"paper_FBXW7_cna\"                                                                               \n",
       "[114] \"paper_GNAS_cna\"                                                                                \n",
       "[115] \"paper_PIK3CA_cna\"                                                                              \n",
       "[116] \"paper_ARID2_mut\"                                                                               \n",
       "[117] \"paper_BRAF_mut\"                                                                                \n",
       "[118] \"paper_NRAS_mut\"                                                                                \n",
       "[119] \"paper_KRAS_mut\"                                                                                \n",
       "[120] \"paper_HRAS_mut\"                                                                                \n",
       "[121] \"paper_NF1_mut\"                                                                                 \n",
       "[122] \"paper_IDH1_mut\"                                                                                \n",
       "[123] \"paper_GNA11_mut\"                                                                               \n",
       "[124] \"paper_GNAQ_mut\"                                                                                \n",
       "[125] \"paper_CDK4_mut\"                                                                                \n",
       "[126] \"paper_CDKN2A_mut\"                                                                              \n",
       "[127] \"paper_DDX3X_mut\"                                                                               \n",
       "[128] \"paper_KIT_mut\"                                                                                 \n",
       "[129] \"paper_MAP2K1_mut\"                                                                              \n",
       "[130] \"paper_PPP6C_mut\"                                                                               \n",
       "[131] \"paper_PTEN_mut\"                                                                                \n",
       "[132] \"paper_RAC1_mut\"                                                                                \n",
       "[133] \"paper_RB1_mut\"                                                                                 \n",
       "[134] \"paper_TP53_mut\"                                                                                \n",
       "[135] \"paper_TERT_MUT\"                                                                                \n",
       "[136] \"paper_rnaseq_TERT.RSEM.NORM_DATA\"                                                              \n",
       "[137] \"paper_rppa_LCK.LCK.R.V\"                                                                        \n",
       "[138] \"paper_rppa_SYK.SYK.M.V\"                                                                        \n",
       "[139] \"paper_PIGMENT.SCORE\"                                                                           \n",
       "[140] \"paper_NECROSIS\"                                                                                \n",
       "[141] \"paper_Tumour.content........nuceli.that.are.tumour.cells......0.100..\"                         \n",
       "[142] \"paper_LYMPHOCYTE.DISTRIBUTION\"                                                                 \n",
       "[143] \"paper_LYMPHOCYTE.DENSITY\"                                                                      \n",
       "[144] \"paper_LYMPHOCYTE.SCORE\"                                                                        \n",
       "[145] \"paper_PURITY..ABSOLUTE.\"                                                                       \n",
       "[146] \"paper_PLOIDY..ABSOLUTE.\"                                                                       \n",
       "[147] \"paper_TOTAL.MUTATIONS\"                                                                         \n",
       "[148] \"paper_UV.RATE\"                                                                                 \n",
       "[149] \"paper_CURATED_AGE_AT_INITIAL_PATHOLOGIC_DIAGNOSIS\"                                             \n",
       "[150] \"paper_CURATED_AGE_AT_TCGA_SPECIMEN\"                                                            \n",
       "[151] \"paper_GENDER\"                                                                                  \n",
       "[152] \"paper_CURATED_KNOWN_PRIMARY\"                                                                   \n",
       "[153] \"paper_CURATED_SITE_OF_PRIMARY_TUMOR_KNOWN_PRIMARY_ONLY\"                                        \n",
       "[154] \"paper_CURATED_SITE_OF_PRIMARY_TUMOR_INCLUDING_UNKNOWN\"                                         \n",
       "[155] \"paper_CURATED_BRESLOW\"                                                                         \n",
       "[156] \"paper_CURATED_ULCERATION\"                                                                      \n",
       "[157] \"paper_CURATED_T_STAGE_AT_DIAGNOSIS_COMPLEX\"                                                    \n",
       "[158] \"paper_CURATED_T_STAGE_AT_DIAGNOSIS_SIMPLE\"                                                     \n",
       "[159] \"paper_CURATED_N_STAGE_AT_DIAGNOSIS_COMPLEX\"                                                    \n",
       "[160] \"paper_CURATED_N_STAGE_AT_DIAGNOSIS_SIMPLE\"                                                     \n",
       "[161] \"paper_CURATED_M_STAGE_AT_DIAGNOSIS_COMPLEX\"                                                    \n",
       "[162] \"paper_CURATED_M_STAGE_AT_DIAGNOSIS_SIMPLE\"                                                     \n",
       "[163] \"paper_CURATED_PATHOLOGIC_STAGE_AJCC7_AT_DIAGNOSIS_COMPLEX\"                                     \n",
       "[164] \"paper_CURATED_PATHOLOGIC_STAGE_AJCC7_AT_DIAGNOSIS_SIMPLE\"                                      \n",
       "[165] \"paper_CURATED_TCGA_SPECIMEN_SITE\"                                                              \n",
       "[166] \"paper_CURATED_DISTANT_ANATOMIC_SITE\"                                                           \n",
       "[167] \"paper_CURATED_VITAL_STATUS\"                                                                    \n",
       "[168] \"paper_CURATED_DAYS_TO_DEATH_OR_LAST_FU\"                                                        \n",
       "[169] \"paper_CURATED_TCGA_DAYS_TO_DEATH_OR_LAST_FU\"                                                   \n",
       "[170] \"paper_CURATED_MELANOMA_SPECIFIC_VITAL_STATUS..0....ALIVE.OR.CENSORED...1....DEAD.OF.MELANOMA..\"\n",
       "[171] \"paper_CURATED_TCGA_SPECIMEN_Distant\"                                                           \n",
       "[172] \"paper_CC.TT.nTotal.Mut\"                                                                        \n",
       "[173] \"paper_DIPYRIM.C.T.nTotal.Mut\"                                                                  \n",
       "[174] \"paper_DIPYRIM.C.T.n.C.T..mut\"                                                                  \n",
       "[175] \"paper_SHATTERSEEK_Chromothripsis_calls\"                                                        "
      ]
     },
     "metadata": {},
     "output_type": "display_data"
    }
   ],
   "source": [
    "#to view the types of data stored for each sample \n",
    "colnames(colData(mets))"
   ]
  },
  {
   "cell_type": "code",
   "execution_count": 113,
   "metadata": {
    "vscode": {
     "languageId": "r"
    }
   },
   "outputs": [
    {
     "data": {
      "text/html": [
       "<style>\n",
       ".list-inline {list-style: none; margin:0; padding: 0}\n",
       ".list-inline>li {display: inline-block}\n",
       ".list-inline>li:not(:last-child)::after {content: \"\\00b7\"; padding: 0 .5ex}\n",
       "</style>\n",
       "<ol class=list-inline><li>368</li><li>1</li></ol>\n"
      ],
      "text/latex": [
       "\\begin{enumerate*}\n",
       "\\item 368\n",
       "\\item 1\n",
       "\\end{enumerate*}\n"
      ],
      "text/markdown": [
       "1. 368\n",
       "2. 1\n",
       "\n",
       "\n"
      ],
      "text/plain": [
       "[1] 368   1"
      ]
     },
     "metadata": {},
     "output_type": "display_data"
    },
    {
     "data": {
      "text/html": [
       "<table class=\"dataframe\">\n",
       "<caption>A matrix: 6 × 1 of type dbl</caption>\n",
       "<thead>\n",
       "\t<tr><th></th><th scope=col>mat</th></tr>\n",
       "</thead>\n",
       "<tbody>\n",
       "\t<tr><th scope=row>TCGA-ER-A199-06A-11R-A18T-07</th><td> 1.4677809</td></tr>\n",
       "\t<tr><th scope=row>TCGA-EE-A3J5-06A-11R-A20F-07</th><td> 0.3217850</td></tr>\n",
       "\t<tr><th scope=row>TCGA-EE-A2ME-06A-11R-A18T-07</th><td> 2.0567981</td></tr>\n",
       "\t<tr><th scope=row>TCGA-D3-A8GE-06A-11R-A37K-07</th><td>-0.2651891</td></tr>\n",
       "\t<tr><th scope=row>TCGA-EE-A2MG-06A-11R-A18T-07</th><td> 1.4763237</td></tr>\n",
       "\t<tr><th scope=row>TCGA-EE-A2MR-06A-11R-A18S-07</th><td> 1.7393387</td></tr>\n",
       "</tbody>\n",
       "</table>\n"
      ],
      "text/latex": [
       "A matrix: 6 × 1 of type dbl\n",
       "\\begin{tabular}{r|l}\n",
       "  & mat\\\\\n",
       "\\hline\n",
       "\tTCGA-ER-A199-06A-11R-A18T-07 &  1.4677809\\\\\n",
       "\tTCGA-EE-A3J5-06A-11R-A20F-07 &  0.3217850\\\\\n",
       "\tTCGA-EE-A2ME-06A-11R-A18T-07 &  2.0567981\\\\\n",
       "\tTCGA-D3-A8GE-06A-11R-A37K-07 & -0.2651891\\\\\n",
       "\tTCGA-EE-A2MG-06A-11R-A18T-07 &  1.4763237\\\\\n",
       "\tTCGA-EE-A2MR-06A-11R-A18S-07 &  1.7393387\\\\\n",
       "\\end{tabular}\n"
      ],
      "text/markdown": [
       "\n",
       "A matrix: 6 × 1 of type dbl\n",
       "\n",
       "| <!--/--> | mat |\n",
       "|---|---|\n",
       "| TCGA-ER-A199-06A-11R-A18T-07 |  1.4677809 |\n",
       "| TCGA-EE-A3J5-06A-11R-A20F-07 |  0.3217850 |\n",
       "| TCGA-EE-A2ME-06A-11R-A18T-07 |  2.0567981 |\n",
       "| TCGA-D3-A8GE-06A-11R-A37K-07 | -0.2651891 |\n",
       "| TCGA-EE-A2MG-06A-11R-A18T-07 |  1.4763237 |\n",
       "| TCGA-EE-A2MR-06A-11R-A18S-07 |  1.7393387 |\n",
       "\n"
      ],
      "text/plain": [
       "                             mat       \n",
       "TCGA-ER-A199-06A-11R-A18T-07  1.4677809\n",
       "TCGA-EE-A3J5-06A-11R-A20F-07  0.3217850\n",
       "TCGA-EE-A2ME-06A-11R-A18T-07  2.0567981\n",
       "TCGA-D3-A8GE-06A-11R-A37K-07 -0.2651891\n",
       "TCGA-EE-A2MG-06A-11R-A18T-07  1.4763237\n",
       "TCGA-EE-A2MR-06A-11R-A18S-07  1.7393387"
      ]
     },
     "metadata": {},
     "output_type": "display_data"
    }
   ],
   "source": [
    "#change column name\n",
    "mat <- t(mat)\n",
    "dim(mat)\n",
    "colnames(mat) <- c(\"mat\")\n",
    "head(mat)"
   ]
  },
  {
   "cell_type": "code",
   "execution_count": 114,
   "metadata": {
    "vscode": {
     "languageId": "r"
    }
   },
   "outputs": [
    {
     "data": {
      "text/html": [
       "<table class=\"dataframe\">\n",
       "<caption>A matrix: 6 × 4 of type chr</caption>\n",
       "<thead>\n",
       "\t<tr><th></th><th scope=col>mat</th><th scope=col>Days_to_last_follow_up</th><th scope=col>vital_status</th><th scope=col>days_to_death</th></tr>\n",
       "</thead>\n",
       "<tbody>\n",
       "\t<tr><th scope=row>TCGA-ER-A199-06A-11R-A18T-07</th><td>1.46778088036528  </td><td>NA  </td><td>Dead </td><td>279 </td></tr>\n",
       "\t<tr><th scope=row>TCGA-EE-A3J5-06A-11R-A20F-07</th><td>0.321785015048965 </td><td>NA  </td><td>Dead </td><td>1124</td></tr>\n",
       "\t<tr><th scope=row>TCGA-EE-A2ME-06A-11R-A18T-07</th><td>2.05679805256497  </td><td>NA  </td><td>Dead </td><td>3141</td></tr>\n",
       "\t<tr><th scope=row>TCGA-D3-A8GE-06A-11R-A37K-07</th><td>-0.265189065037172</td><td>804 </td><td>Alive</td><td>NA  </td></tr>\n",
       "\t<tr><th scope=row>TCGA-EE-A2MG-06A-11R-A18T-07</th><td>1.47632372103125  </td><td>NA  </td><td>Dead </td><td>3139</td></tr>\n",
       "\t<tr><th scope=row>TCGA-EE-A2MR-06A-11R-A18S-07</th><td>1.73933873003411  </td><td>4088</td><td>Alive</td><td>NA  </td></tr>\n",
       "</tbody>\n",
       "</table>\n"
      ],
      "text/latex": [
       "A matrix: 6 × 4 of type chr\n",
       "\\begin{tabular}{r|llll}\n",
       "  & mat & Days\\_to\\_last\\_follow\\_up & vital\\_status & days\\_to\\_death\\\\\n",
       "\\hline\n",
       "\tTCGA-ER-A199-06A-11R-A18T-07 & 1.46778088036528   & NA   & Dead  & 279 \\\\\n",
       "\tTCGA-EE-A3J5-06A-11R-A20F-07 & 0.321785015048965  & NA   & Dead  & 1124\\\\\n",
       "\tTCGA-EE-A2ME-06A-11R-A18T-07 & 2.05679805256497   & NA   & Dead  & 3141\\\\\n",
       "\tTCGA-D3-A8GE-06A-11R-A37K-07 & -0.265189065037172 & 804  & Alive & NA  \\\\\n",
       "\tTCGA-EE-A2MG-06A-11R-A18T-07 & 1.47632372103125   & NA   & Dead  & 3139\\\\\n",
       "\tTCGA-EE-A2MR-06A-11R-A18S-07 & 1.73933873003411   & 4088 & Alive & NA  \\\\\n",
       "\\end{tabular}\n"
      ],
      "text/markdown": [
       "\n",
       "A matrix: 6 × 4 of type chr\n",
       "\n",
       "| <!--/--> | mat | Days_to_last_follow_up | vital_status | days_to_death |\n",
       "|---|---|---|---|---|\n",
       "| TCGA-ER-A199-06A-11R-A18T-07 | 1.46778088036528   | NA   | Dead  | 279  |\n",
       "| TCGA-EE-A3J5-06A-11R-A20F-07 | 0.321785015048965  | NA   | Dead  | 1124 |\n",
       "| TCGA-EE-A2ME-06A-11R-A18T-07 | 2.05679805256497   | NA   | Dead  | 3141 |\n",
       "| TCGA-D3-A8GE-06A-11R-A37K-07 | -0.265189065037172 | 804  | Alive | NA   |\n",
       "| TCGA-EE-A2MG-06A-11R-A18T-07 | 1.47632372103125   | NA   | Dead  | 3139 |\n",
       "| TCGA-EE-A2MR-06A-11R-A18S-07 | 1.73933873003411   | 4088 | Alive | NA   |\n",
       "\n"
      ],
      "text/plain": [
       "                             mat                Days_to_last_follow_up\n",
       "TCGA-ER-A199-06A-11R-A18T-07 1.46778088036528   NA                    \n",
       "TCGA-EE-A3J5-06A-11R-A20F-07 0.321785015048965  NA                    \n",
       "TCGA-EE-A2ME-06A-11R-A18T-07 2.05679805256497   NA                    \n",
       "TCGA-D3-A8GE-06A-11R-A37K-07 -0.265189065037172 804                   \n",
       "TCGA-EE-A2MG-06A-11R-A18T-07 1.47632372103125   NA                    \n",
       "TCGA-EE-A2MR-06A-11R-A18S-07 1.73933873003411   4088                  \n",
       "                             vital_status days_to_death\n",
       "TCGA-ER-A199-06A-11R-A18T-07 Dead         279          \n",
       "TCGA-EE-A3J5-06A-11R-A20F-07 Dead         1124         \n",
       "TCGA-EE-A2ME-06A-11R-A18T-07 Dead         3141         \n",
       "TCGA-D3-A8GE-06A-11R-A37K-07 Alive        NA           \n",
       "TCGA-EE-A2MG-06A-11R-A18T-07 Dead         3139         \n",
       "TCGA-EE-A2MR-06A-11R-A18S-07 Alive        NA           "
      ]
     },
     "metadata": {},
     "output_type": "display_data"
    }
   ],
   "source": [
    "#now look at days to death, plot K-M curved grouped by groups of mat score \n",
    "###following this tutorial: https://www.youtube.com/watch?v=DnygUTAZFmM\n",
    "\n",
    "#making a matrix with all the data I need\n",
    "death_days <- colData(mets)$days_to_death\n",
    "names(death_days) <- row.names(colData(mets))\n",
    "followup_days <- colData(mets)$days_to_last_follow_up\n",
    "names(followup_days) <- row.names(colData(mets))\n",
    "status <- colData(mets)$vital_status\n",
    "names(status) <- row.names(colData(mets))\n",
    "\n",
    "concat_survival <- cbind(mat,followup_days,status,death_days)\n",
    "colnames(concat_survival) <- c(\"mat\",\"Days_to_last_follow_up\",\"vital_status\",\"days_to_death\")\n",
    "head(concat_survival) \n",
    "concat_survival <- as.data.frame(concat_survival)\n",
    "#now I have a table with the above variables for each patient"
   ]
  },
  {
   "cell_type": "code",
   "execution_count": 115,
   "metadata": {
    "vscode": {
     "languageId": "r"
    }
   },
   "outputs": [
    {
     "data": {
      "text/html": [
       "<table class=\"dataframe\">\n",
       "<caption>A data.frame: 6 × 5</caption>\n",
       "<thead>\n",
       "\t<tr><th></th><th scope=col>mat</th><th scope=col>Days_to_last_follow_up</th><th scope=col>vital_status</th><th scope=col>days_to_death</th><th scope=col>deceased</th></tr>\n",
       "\t<tr><th></th><th scope=col>&lt;chr&gt;</th><th scope=col>&lt;chr&gt;</th><th scope=col>&lt;chr&gt;</th><th scope=col>&lt;chr&gt;</th><th scope=col>&lt;lgl&gt;</th></tr>\n",
       "</thead>\n",
       "<tbody>\n",
       "\t<tr><th scope=row>TCGA-ER-A199-06A-11R-A18T-07</th><td>1.46778088036528  </td><td>NA  </td><td>Dead </td><td>279 </td><td> TRUE</td></tr>\n",
       "\t<tr><th scope=row>TCGA-EE-A3J5-06A-11R-A20F-07</th><td>0.321785015048965 </td><td>NA  </td><td>Dead </td><td>1124</td><td> TRUE</td></tr>\n",
       "\t<tr><th scope=row>TCGA-EE-A2ME-06A-11R-A18T-07</th><td>2.05679805256497  </td><td>NA  </td><td>Dead </td><td>3141</td><td> TRUE</td></tr>\n",
       "\t<tr><th scope=row>TCGA-D3-A8GE-06A-11R-A37K-07</th><td>-0.265189065037172</td><td>804 </td><td>Alive</td><td>NA  </td><td>FALSE</td></tr>\n",
       "\t<tr><th scope=row>TCGA-EE-A2MG-06A-11R-A18T-07</th><td>1.47632372103125  </td><td>NA  </td><td>Dead </td><td>3139</td><td> TRUE</td></tr>\n",
       "\t<tr><th scope=row>TCGA-EE-A2MR-06A-11R-A18S-07</th><td>1.73933873003411  </td><td>4088</td><td>Alive</td><td>NA  </td><td>FALSE</td></tr>\n",
       "</tbody>\n",
       "</table>\n"
      ],
      "text/latex": [
       "A data.frame: 6 × 5\n",
       "\\begin{tabular}{r|lllll}\n",
       "  & mat & Days\\_to\\_last\\_follow\\_up & vital\\_status & days\\_to\\_death & deceased\\\\\n",
       "  & <chr> & <chr> & <chr> & <chr> & <lgl>\\\\\n",
       "\\hline\n",
       "\tTCGA-ER-A199-06A-11R-A18T-07 & 1.46778088036528   & NA   & Dead  & 279  &  TRUE\\\\\n",
       "\tTCGA-EE-A3J5-06A-11R-A20F-07 & 0.321785015048965  & NA   & Dead  & 1124 &  TRUE\\\\\n",
       "\tTCGA-EE-A2ME-06A-11R-A18T-07 & 2.05679805256497   & NA   & Dead  & 3141 &  TRUE\\\\\n",
       "\tTCGA-D3-A8GE-06A-11R-A37K-07 & -0.265189065037172 & 804  & Alive & NA   & FALSE\\\\\n",
       "\tTCGA-EE-A2MG-06A-11R-A18T-07 & 1.47632372103125   & NA   & Dead  & 3139 &  TRUE\\\\\n",
       "\tTCGA-EE-A2MR-06A-11R-A18S-07 & 1.73933873003411   & 4088 & Alive & NA   & FALSE\\\\\n",
       "\\end{tabular}\n"
      ],
      "text/markdown": [
       "\n",
       "A data.frame: 6 × 5\n",
       "\n",
       "| <!--/--> | mat &lt;chr&gt; | Days_to_last_follow_up &lt;chr&gt; | vital_status &lt;chr&gt; | days_to_death &lt;chr&gt; | deceased &lt;lgl&gt; |\n",
       "|---|---|---|---|---|---|\n",
       "| TCGA-ER-A199-06A-11R-A18T-07 | 1.46778088036528   | NA   | Dead  | 279  |  TRUE |\n",
       "| TCGA-EE-A3J5-06A-11R-A20F-07 | 0.321785015048965  | NA   | Dead  | 1124 |  TRUE |\n",
       "| TCGA-EE-A2ME-06A-11R-A18T-07 | 2.05679805256497   | NA   | Dead  | 3141 |  TRUE |\n",
       "| TCGA-D3-A8GE-06A-11R-A37K-07 | -0.265189065037172 | 804  | Alive | NA   | FALSE |\n",
       "| TCGA-EE-A2MG-06A-11R-A18T-07 | 1.47632372103125   | NA   | Dead  | 3139 |  TRUE |\n",
       "| TCGA-EE-A2MR-06A-11R-A18S-07 | 1.73933873003411   | 4088 | Alive | NA   | FALSE |\n",
       "\n"
      ],
      "text/plain": [
       "                             mat                Days_to_last_follow_up\n",
       "TCGA-ER-A199-06A-11R-A18T-07 1.46778088036528   NA                    \n",
       "TCGA-EE-A3J5-06A-11R-A20F-07 0.321785015048965  NA                    \n",
       "TCGA-EE-A2ME-06A-11R-A18T-07 2.05679805256497   NA                    \n",
       "TCGA-D3-A8GE-06A-11R-A37K-07 -0.265189065037172 804                   \n",
       "TCGA-EE-A2MG-06A-11R-A18T-07 1.47632372103125   NA                    \n",
       "TCGA-EE-A2MR-06A-11R-A18S-07 1.73933873003411   4088                  \n",
       "                             vital_status days_to_death deceased\n",
       "TCGA-ER-A199-06A-11R-A18T-07 Dead         279            TRUE   \n",
       "TCGA-EE-A3J5-06A-11R-A20F-07 Dead         1124           TRUE   \n",
       "TCGA-EE-A2ME-06A-11R-A18T-07 Dead         3141           TRUE   \n",
       "TCGA-D3-A8GE-06A-11R-A37K-07 Alive        NA            FALSE   \n",
       "TCGA-EE-A2MG-06A-11R-A18T-07 Dead         3139           TRUE   \n",
       "TCGA-EE-A2MR-06A-11R-A18S-07 Alive        NA            FALSE   "
      ]
     },
     "metadata": {},
     "output_type": "display_data"
    }
   ],
   "source": [
    "#make a new column that records whether or not deceased, this will be needed for status in survival anakysis (for censoring)\n",
    "concat_survival$deceased <- ifelse(concat_survival$vital_status == \"Alive\", FALSE, TRUE)\n",
    "head(concat_survival)"
   ]
  },
  {
   "cell_type": "code",
   "execution_count": 116,
   "metadata": {
    "vscode": {
     "languageId": "r"
    }
   },
   "outputs": [
    {
     "data": {
      "text/html": [
       "<table class=\"dataframe\">\n",
       "<caption>A data.frame: 6 × 6</caption>\n",
       "<thead>\n",
       "\t<tr><th></th><th scope=col>mat</th><th scope=col>Days_to_last_follow_up</th><th scope=col>vital_status</th><th scope=col>days_to_death</th><th scope=col>deceased</th><th scope=col>overall_survival</th></tr>\n",
       "\t<tr><th></th><th scope=col>&lt;chr&gt;</th><th scope=col>&lt;chr&gt;</th><th scope=col>&lt;chr&gt;</th><th scope=col>&lt;chr&gt;</th><th scope=col>&lt;lgl&gt;</th><th scope=col>&lt;dbl&gt;</th></tr>\n",
       "</thead>\n",
       "<tbody>\n",
       "\t<tr><th scope=row>TCGA-ER-A199-06A-11R-A18T-07</th><td>1.46778088036528  </td><td>NA  </td><td>Dead </td><td>279 </td><td> TRUE</td><td> 279</td></tr>\n",
       "\t<tr><th scope=row>TCGA-EE-A3J5-06A-11R-A20F-07</th><td>0.321785015048965 </td><td>NA  </td><td>Dead </td><td>1124</td><td> TRUE</td><td>1124</td></tr>\n",
       "\t<tr><th scope=row>TCGA-EE-A2ME-06A-11R-A18T-07</th><td>2.05679805256497  </td><td>NA  </td><td>Dead </td><td>3141</td><td> TRUE</td><td>3141</td></tr>\n",
       "\t<tr><th scope=row>TCGA-D3-A8GE-06A-11R-A37K-07</th><td>-0.265189065037172</td><td>804 </td><td>Alive</td><td>NA  </td><td>FALSE</td><td> 804</td></tr>\n",
       "\t<tr><th scope=row>TCGA-EE-A2MG-06A-11R-A18T-07</th><td>1.47632372103125  </td><td>NA  </td><td>Dead </td><td>3139</td><td> TRUE</td><td>3139</td></tr>\n",
       "\t<tr><th scope=row>TCGA-EE-A2MR-06A-11R-A18S-07</th><td>1.73933873003411  </td><td>4088</td><td>Alive</td><td>NA  </td><td>FALSE</td><td>4088</td></tr>\n",
       "</tbody>\n",
       "</table>\n"
      ],
      "text/latex": [
       "A data.frame: 6 × 6\n",
       "\\begin{tabular}{r|llllll}\n",
       "  & mat & Days\\_to\\_last\\_follow\\_up & vital\\_status & days\\_to\\_death & deceased & overall\\_survival\\\\\n",
       "  & <chr> & <chr> & <chr> & <chr> & <lgl> & <dbl>\\\\\n",
       "\\hline\n",
       "\tTCGA-ER-A199-06A-11R-A18T-07 & 1.46778088036528   & NA   & Dead  & 279  &  TRUE &  279\\\\\n",
       "\tTCGA-EE-A3J5-06A-11R-A20F-07 & 0.321785015048965  & NA   & Dead  & 1124 &  TRUE & 1124\\\\\n",
       "\tTCGA-EE-A2ME-06A-11R-A18T-07 & 2.05679805256497   & NA   & Dead  & 3141 &  TRUE & 3141\\\\\n",
       "\tTCGA-D3-A8GE-06A-11R-A37K-07 & -0.265189065037172 & 804  & Alive & NA   & FALSE &  804\\\\\n",
       "\tTCGA-EE-A2MG-06A-11R-A18T-07 & 1.47632372103125   & NA   & Dead  & 3139 &  TRUE & 3139\\\\\n",
       "\tTCGA-EE-A2MR-06A-11R-A18S-07 & 1.73933873003411   & 4088 & Alive & NA   & FALSE & 4088\\\\\n",
       "\\end{tabular}\n"
      ],
      "text/markdown": [
       "\n",
       "A data.frame: 6 × 6\n",
       "\n",
       "| <!--/--> | mat &lt;chr&gt; | Days_to_last_follow_up &lt;chr&gt; | vital_status &lt;chr&gt; | days_to_death &lt;chr&gt; | deceased &lt;lgl&gt; | overall_survival &lt;dbl&gt; |\n",
       "|---|---|---|---|---|---|---|\n",
       "| TCGA-ER-A199-06A-11R-A18T-07 | 1.46778088036528   | NA   | Dead  | 279  |  TRUE |  279 |\n",
       "| TCGA-EE-A3J5-06A-11R-A20F-07 | 0.321785015048965  | NA   | Dead  | 1124 |  TRUE | 1124 |\n",
       "| TCGA-EE-A2ME-06A-11R-A18T-07 | 2.05679805256497   | NA   | Dead  | 3141 |  TRUE | 3141 |\n",
       "| TCGA-D3-A8GE-06A-11R-A37K-07 | -0.265189065037172 | 804  | Alive | NA   | FALSE |  804 |\n",
       "| TCGA-EE-A2MG-06A-11R-A18T-07 | 1.47632372103125   | NA   | Dead  | 3139 |  TRUE | 3139 |\n",
       "| TCGA-EE-A2MR-06A-11R-A18S-07 | 1.73933873003411   | 4088 | Alive | NA   | FALSE | 4088 |\n",
       "\n"
      ],
      "text/plain": [
       "                             mat                Days_to_last_follow_up\n",
       "TCGA-ER-A199-06A-11R-A18T-07 1.46778088036528   NA                    \n",
       "TCGA-EE-A3J5-06A-11R-A20F-07 0.321785015048965  NA                    \n",
       "TCGA-EE-A2ME-06A-11R-A18T-07 2.05679805256497   NA                    \n",
       "TCGA-D3-A8GE-06A-11R-A37K-07 -0.265189065037172 804                   \n",
       "TCGA-EE-A2MG-06A-11R-A18T-07 1.47632372103125   NA                    \n",
       "TCGA-EE-A2MR-06A-11R-A18S-07 1.73933873003411   4088                  \n",
       "                             vital_status days_to_death deceased\n",
       "TCGA-ER-A199-06A-11R-A18T-07 Dead         279            TRUE   \n",
       "TCGA-EE-A3J5-06A-11R-A20F-07 Dead         1124           TRUE   \n",
       "TCGA-EE-A2ME-06A-11R-A18T-07 Dead         3141           TRUE   \n",
       "TCGA-D3-A8GE-06A-11R-A37K-07 Alive        NA            FALSE   \n",
       "TCGA-EE-A2MG-06A-11R-A18T-07 Dead         3139           TRUE   \n",
       "TCGA-EE-A2MR-06A-11R-A18S-07 Alive        NA            FALSE   \n",
       "                             overall_survival\n",
       "TCGA-ER-A199-06A-11R-A18T-07  279            \n",
       "TCGA-EE-A3J5-06A-11R-A20F-07 1124            \n",
       "TCGA-EE-A2ME-06A-11R-A18T-07 3141            \n",
       "TCGA-D3-A8GE-06A-11R-A37K-07  804            \n",
       "TCGA-EE-A2MG-06A-11R-A18T-07 3139            \n",
       "TCGA-EE-A2MR-06A-11R-A18S-07 4088            "
      ]
     },
     "metadata": {},
     "output_type": "display_data"
    }
   ],
   "source": [
    "#next need to make a \"overall survival\" column that is equal to days to death for dead patients and to days to last follow up for patients who are still alive \n",
    "concat_survival$overall_survival <- ifelse(concat_survival$vital_status == \"Alive\",\n",
    "                                           concat_survival$Days_to_last_follow_up,\n",
    "                                           concat_survival$days_to_death)\n",
    "\n",
    "#convert overall_survival to numeric\n",
    "concat_survival$overall_survival <- as.numeric(concat_survival$overall_survival)\n",
    "\n",
    "head(concat_survival)"
   ]
  },
  {
   "cell_type": "code",
   "execution_count": 117,
   "metadata": {
    "vscode": {
     "languageId": "r"
    }
   },
   "outputs": [],
   "source": [
    "# load packages needed for survival analysis\n",
    "library(survival)\n",
    "library(survminer)"
   ]
  },
  {
   "cell_type": "code",
   "execution_count": 118,
   "metadata": {
    "vscode": {
     "languageId": "r"
    }
   },
   "outputs": [
    {
     "data": {
      "text/html": [
       "<table class=\"dataframe\">\n",
       "<caption>A data.frame: 6 × 7</caption>\n",
       "<thead>\n",
       "\t<tr><th></th><th scope=col>mat</th><th scope=col>Days_to_last_follow_up</th><th scope=col>vital_status</th><th scope=col>days_to_death</th><th scope=col>deceased</th><th scope=col>overall_survival</th><th scope=col>strata</th></tr>\n",
       "\t<tr><th></th><th scope=col>&lt;chr&gt;</th><th scope=col>&lt;chr&gt;</th><th scope=col>&lt;chr&gt;</th><th scope=col>&lt;chr&gt;</th><th scope=col>&lt;lgl&gt;</th><th scope=col>&lt;dbl&gt;</th><th scope=col>&lt;chr&gt;</th></tr>\n",
       "</thead>\n",
       "<tbody>\n",
       "\t<tr><th scope=row>TCGA-ER-A199-06A-11R-A18T-07</th><td>1.46778088036528  </td><td>NA  </td><td>Dead </td><td>279 </td><td> TRUE</td><td> 279</td><td>Top 33%   </td></tr>\n",
       "\t<tr><th scope=row>TCGA-EE-A3J5-06A-11R-A20F-07</th><td>0.321785015048965 </td><td>NA  </td><td>Dead </td><td>1124</td><td> TRUE</td><td>1124</td><td>Middle    </td></tr>\n",
       "\t<tr><th scope=row>TCGA-EE-A2ME-06A-11R-A18T-07</th><td>2.05679805256497  </td><td>NA  </td><td>Dead </td><td>3141</td><td> TRUE</td><td>3141</td><td>Top 33%   </td></tr>\n",
       "\t<tr><th scope=row>TCGA-D3-A8GE-06A-11R-A37K-07</th><td>-0.265189065037172</td><td>804 </td><td>Alive</td><td>NA  </td><td>FALSE</td><td> 804</td><td>Bottom 33%</td></tr>\n",
       "\t<tr><th scope=row>TCGA-EE-A2MG-06A-11R-A18T-07</th><td>1.47632372103125  </td><td>NA  </td><td>Dead </td><td>3139</td><td> TRUE</td><td>3139</td><td>Top 33%   </td></tr>\n",
       "\t<tr><th scope=row>TCGA-EE-A2MR-06A-11R-A18S-07</th><td>1.73933873003411  </td><td>4088</td><td>Alive</td><td>NA  </td><td>FALSE</td><td>4088</td><td>Top 33%   </td></tr>\n",
       "</tbody>\n",
       "</table>\n"
      ],
      "text/latex": [
       "A data.frame: 6 × 7\n",
       "\\begin{tabular}{r|lllllll}\n",
       "  & mat & Days\\_to\\_last\\_follow\\_up & vital\\_status & days\\_to\\_death & deceased & overall\\_survival & strata\\\\\n",
       "  & <chr> & <chr> & <chr> & <chr> & <lgl> & <dbl> & <chr>\\\\\n",
       "\\hline\n",
       "\tTCGA-ER-A199-06A-11R-A18T-07 & 1.46778088036528   & NA   & Dead  & 279  &  TRUE &  279 & Top 33\\%   \\\\\n",
       "\tTCGA-EE-A3J5-06A-11R-A20F-07 & 0.321785015048965  & NA   & Dead  & 1124 &  TRUE & 1124 & Middle    \\\\\n",
       "\tTCGA-EE-A2ME-06A-11R-A18T-07 & 2.05679805256497   & NA   & Dead  & 3141 &  TRUE & 3141 & Top 33\\%   \\\\\n",
       "\tTCGA-D3-A8GE-06A-11R-A37K-07 & -0.265189065037172 & 804  & Alive & NA   & FALSE &  804 & Bottom 33\\%\\\\\n",
       "\tTCGA-EE-A2MG-06A-11R-A18T-07 & 1.47632372103125   & NA   & Dead  & 3139 &  TRUE & 3139 & Top 33\\%   \\\\\n",
       "\tTCGA-EE-A2MR-06A-11R-A18S-07 & 1.73933873003411   & 4088 & Alive & NA   & FALSE & 4088 & Top 33\\%   \\\\\n",
       "\\end{tabular}\n"
      ],
      "text/markdown": [
       "\n",
       "A data.frame: 6 × 7\n",
       "\n",
       "| <!--/--> | mat &lt;chr&gt; | Days_to_last_follow_up &lt;chr&gt; | vital_status &lt;chr&gt; | days_to_death &lt;chr&gt; | deceased &lt;lgl&gt; | overall_survival &lt;dbl&gt; | strata &lt;chr&gt; |\n",
       "|---|---|---|---|---|---|---|---|\n",
       "| TCGA-ER-A199-06A-11R-A18T-07 | 1.46778088036528   | NA   | Dead  | 279  |  TRUE |  279 | Top 33%    |\n",
       "| TCGA-EE-A3J5-06A-11R-A20F-07 | 0.321785015048965  | NA   | Dead  | 1124 |  TRUE | 1124 | Middle     |\n",
       "| TCGA-EE-A2ME-06A-11R-A18T-07 | 2.05679805256497   | NA   | Dead  | 3141 |  TRUE | 3141 | Top 33%    |\n",
       "| TCGA-D3-A8GE-06A-11R-A37K-07 | -0.265189065037172 | 804  | Alive | NA   | FALSE |  804 | Bottom 33% |\n",
       "| TCGA-EE-A2MG-06A-11R-A18T-07 | 1.47632372103125   | NA   | Dead  | 3139 |  TRUE | 3139 | Top 33%    |\n",
       "| TCGA-EE-A2MR-06A-11R-A18S-07 | 1.73933873003411   | 4088 | Alive | NA   | FALSE | 4088 | Top 33%    |\n",
       "\n"
      ],
      "text/plain": [
       "                             mat                Days_to_last_follow_up\n",
       "TCGA-ER-A199-06A-11R-A18T-07 1.46778088036528   NA                    \n",
       "TCGA-EE-A3J5-06A-11R-A20F-07 0.321785015048965  NA                    \n",
       "TCGA-EE-A2ME-06A-11R-A18T-07 2.05679805256497   NA                    \n",
       "TCGA-D3-A8GE-06A-11R-A37K-07 -0.265189065037172 804                   \n",
       "TCGA-EE-A2MG-06A-11R-A18T-07 1.47632372103125   NA                    \n",
       "TCGA-EE-A2MR-06A-11R-A18S-07 1.73933873003411   4088                  \n",
       "                             vital_status days_to_death deceased\n",
       "TCGA-ER-A199-06A-11R-A18T-07 Dead         279            TRUE   \n",
       "TCGA-EE-A3J5-06A-11R-A20F-07 Dead         1124           TRUE   \n",
       "TCGA-EE-A2ME-06A-11R-A18T-07 Dead         3141           TRUE   \n",
       "TCGA-D3-A8GE-06A-11R-A37K-07 Alive        NA            FALSE   \n",
       "TCGA-EE-A2MG-06A-11R-A18T-07 Dead         3139           TRUE   \n",
       "TCGA-EE-A2MR-06A-11R-A18S-07 Alive        NA            FALSE   \n",
       "                             overall_survival strata    \n",
       "TCGA-ER-A199-06A-11R-A18T-07  279             Top 33%   \n",
       "TCGA-EE-A3J5-06A-11R-A20F-07 1124             Middle    \n",
       "TCGA-EE-A2ME-06A-11R-A18T-07 3141             Top 33%   \n",
       "TCGA-D3-A8GE-06A-11R-A37K-07  804             Bottom 33%\n",
       "TCGA-EE-A2MG-06A-11R-A18T-07 3139             Top 33%   \n",
       "TCGA-EE-A2MR-06A-11R-A18S-07 4088             Top 33%   "
      ]
     },
     "metadata": {},
     "output_type": "display_data"
    }
   ],
   "source": [
    "#fitting survival curve - prepare data: \n",
    "\n",
    "# for my analysis I wanted to plot top vs bottom third on my KM plot, but could also split 50/50 if you wanted\n",
    "# make variable for either top 33% or bottom 33% mat score\n",
    "#calculate 66th percentile (above this is top 33%) and 33rd percentile (below this is bottom 33%)\n",
    "perc_66 <- quantile(mat, probs = c(0.66))\n",
    "perc_33 <- quantile(mat, probs = c(0.33))\n",
    "\n",
    "concat_survival_Full <- concat_survival\n",
    "concat_survival_Full$strata <- ifelse(concat_survival_Full$mat < perc_33, \"Bottom 33%\",\n",
    "                                  ifelse(concat_survival_Full$mat >perc_66, \"Top 33%\", \"Middle\"))\n",
    "\n",
    "head(concat_survival_Full)"
   ]
  },
  {
   "cell_type": "code",
   "execution_count": 119,
   "metadata": {
    "vscode": {
     "languageId": "r"
    }
   },
   "outputs": [
    {
     "data": {
      "text/html": [
       "<table class=\"dataframe\">\n",
       "<caption>A data.frame: 6 × 7</caption>\n",
       "<thead>\n",
       "\t<tr><th></th><th scope=col>mat</th><th scope=col>Days_to_last_follow_up</th><th scope=col>vital_status</th><th scope=col>days_to_death</th><th scope=col>deceased</th><th scope=col>overall_survival</th><th scope=col>strata</th></tr>\n",
       "\t<tr><th></th><th scope=col>&lt;chr&gt;</th><th scope=col>&lt;chr&gt;</th><th scope=col>&lt;chr&gt;</th><th scope=col>&lt;chr&gt;</th><th scope=col>&lt;lgl&gt;</th><th scope=col>&lt;dbl&gt;</th><th scope=col>&lt;chr&gt;</th></tr>\n",
       "</thead>\n",
       "<tbody>\n",
       "\t<tr><th scope=row>TCGA-ER-A199-06A-11R-A18T-07</th><td>1.46778088036528  </td><td>NA  </td><td>Dead </td><td>279 </td><td> TRUE</td><td> 279</td><td>Top 33%   </td></tr>\n",
       "\t<tr><th scope=row>TCGA-EE-A2ME-06A-11R-A18T-07</th><td>2.05679805256497  </td><td>NA  </td><td>Dead </td><td>3141</td><td> TRUE</td><td>3141</td><td>Top 33%   </td></tr>\n",
       "\t<tr><th scope=row>TCGA-D3-A8GE-06A-11R-A37K-07</th><td>-0.265189065037172</td><td>804 </td><td>Alive</td><td>NA  </td><td>FALSE</td><td> 804</td><td>Bottom 33%</td></tr>\n",
       "\t<tr><th scope=row>TCGA-EE-A2MG-06A-11R-A18T-07</th><td>1.47632372103125  </td><td>NA  </td><td>Dead </td><td>3139</td><td> TRUE</td><td>3139</td><td>Top 33%   </td></tr>\n",
       "\t<tr><th scope=row>TCGA-EE-A2MR-06A-11R-A18S-07</th><td>1.73933873003411  </td><td>4088</td><td>Alive</td><td>NA  </td><td>FALSE</td><td>4088</td><td>Top 33%   </td></tr>\n",
       "\t<tr><th scope=row>TCGA-FR-A44A-06A-11R-A24X-07</th><td>1.3381233803239   </td><td>5299</td><td>Alive</td><td>NA  </td><td>FALSE</td><td>5299</td><td>Top 33%   </td></tr>\n",
       "</tbody>\n",
       "</table>\n"
      ],
      "text/latex": [
       "A data.frame: 6 × 7\n",
       "\\begin{tabular}{r|lllllll}\n",
       "  & mat & Days\\_to\\_last\\_follow\\_up & vital\\_status & days\\_to\\_death & deceased & overall\\_survival & strata\\\\\n",
       "  & <chr> & <chr> & <chr> & <chr> & <lgl> & <dbl> & <chr>\\\\\n",
       "\\hline\n",
       "\tTCGA-ER-A199-06A-11R-A18T-07 & 1.46778088036528   & NA   & Dead  & 279  &  TRUE &  279 & Top 33\\%   \\\\\n",
       "\tTCGA-EE-A2ME-06A-11R-A18T-07 & 2.05679805256497   & NA   & Dead  & 3141 &  TRUE & 3141 & Top 33\\%   \\\\\n",
       "\tTCGA-D3-A8GE-06A-11R-A37K-07 & -0.265189065037172 & 804  & Alive & NA   & FALSE &  804 & Bottom 33\\%\\\\\n",
       "\tTCGA-EE-A2MG-06A-11R-A18T-07 & 1.47632372103125   & NA   & Dead  & 3139 &  TRUE & 3139 & Top 33\\%   \\\\\n",
       "\tTCGA-EE-A2MR-06A-11R-A18S-07 & 1.73933873003411   & 4088 & Alive & NA   & FALSE & 4088 & Top 33\\%   \\\\\n",
       "\tTCGA-FR-A44A-06A-11R-A24X-07 & 1.3381233803239    & 5299 & Alive & NA   & FALSE & 5299 & Top 33\\%   \\\\\n",
       "\\end{tabular}\n"
      ],
      "text/markdown": [
       "\n",
       "A data.frame: 6 × 7\n",
       "\n",
       "| <!--/--> | mat &lt;chr&gt; | Days_to_last_follow_up &lt;chr&gt; | vital_status &lt;chr&gt; | days_to_death &lt;chr&gt; | deceased &lt;lgl&gt; | overall_survival &lt;dbl&gt; | strata &lt;chr&gt; |\n",
       "|---|---|---|---|---|---|---|---|\n",
       "| TCGA-ER-A199-06A-11R-A18T-07 | 1.46778088036528   | NA   | Dead  | 279  |  TRUE |  279 | Top 33%    |\n",
       "| TCGA-EE-A2ME-06A-11R-A18T-07 | 2.05679805256497   | NA   | Dead  | 3141 |  TRUE | 3141 | Top 33%    |\n",
       "| TCGA-D3-A8GE-06A-11R-A37K-07 | -0.265189065037172 | 804  | Alive | NA   | FALSE |  804 | Bottom 33% |\n",
       "| TCGA-EE-A2MG-06A-11R-A18T-07 | 1.47632372103125   | NA   | Dead  | 3139 |  TRUE | 3139 | Top 33%    |\n",
       "| TCGA-EE-A2MR-06A-11R-A18S-07 | 1.73933873003411   | 4088 | Alive | NA   | FALSE | 4088 | Top 33%    |\n",
       "| TCGA-FR-A44A-06A-11R-A24X-07 | 1.3381233803239    | 5299 | Alive | NA   | FALSE | 5299 | Top 33%    |\n",
       "\n"
      ],
      "text/plain": [
       "                             mat                Days_to_last_follow_up\n",
       "TCGA-ER-A199-06A-11R-A18T-07 1.46778088036528   NA                    \n",
       "TCGA-EE-A2ME-06A-11R-A18T-07 2.05679805256497   NA                    \n",
       "TCGA-D3-A8GE-06A-11R-A37K-07 -0.265189065037172 804                   \n",
       "TCGA-EE-A2MG-06A-11R-A18T-07 1.47632372103125   NA                    \n",
       "TCGA-EE-A2MR-06A-11R-A18S-07 1.73933873003411   4088                  \n",
       "TCGA-FR-A44A-06A-11R-A24X-07 1.3381233803239    5299                  \n",
       "                             vital_status days_to_death deceased\n",
       "TCGA-ER-A199-06A-11R-A18T-07 Dead         279            TRUE   \n",
       "TCGA-EE-A2ME-06A-11R-A18T-07 Dead         3141           TRUE   \n",
       "TCGA-D3-A8GE-06A-11R-A37K-07 Alive        NA            FALSE   \n",
       "TCGA-EE-A2MG-06A-11R-A18T-07 Dead         3139           TRUE   \n",
       "TCGA-EE-A2MR-06A-11R-A18S-07 Alive        NA            FALSE   \n",
       "TCGA-FR-A44A-06A-11R-A24X-07 Alive        NA            FALSE   \n",
       "                             overall_survival strata    \n",
       "TCGA-ER-A199-06A-11R-A18T-07  279             Top 33%   \n",
       "TCGA-EE-A2ME-06A-11R-A18T-07 3141             Top 33%   \n",
       "TCGA-D3-A8GE-06A-11R-A37K-07  804             Bottom 33%\n",
       "TCGA-EE-A2MG-06A-11R-A18T-07 3139             Top 33%   \n",
       "TCGA-EE-A2MR-06A-11R-A18S-07 4088             Top 33%   \n",
       "TCGA-FR-A44A-06A-11R-A24X-07 5299             Top 33%   "
      ]
     },
     "metadata": {},
     "output_type": "display_data"
    }
   ],
   "source": [
    "#need to remove middle strata from plot\n",
    "concat_survival_Full <- concat_survival_Full %>% filter(strata %in% c(\"Top 33%\", \"Bottom 33%\"))\n",
    "head(concat_survival_Full)"
   ]
  },
  {
   "cell_type": "code",
   "execution_count": 120,
   "metadata": {
    "vscode": {
     "languageId": "r"
    }
   },
   "outputs": [
    {
     "data": {
      "text/plain": [
       "Call: survfit(formula = Surv(overall_survival, deceased) ~ strata, \n",
       "    data = concat_survival_Full)\n",
       "\n",
       "   4 observations deleted due to missingness \n",
       "                    n events median 0.95LCL 0.95UCL\n",
       "strata=Bottom 33%  62     34   3453    2028    6164\n",
       "strata=Top 33%    123     55   3139    2192      NA"
      ]
     },
     "metadata": {},
     "output_type": "display_data"
    }
   ],
   "source": [
    "#Fit survival curve\n",
    "fit <- survfit(Surv(overall_survival, deceased) ~ strata, data = concat_survival_Full)\n",
    "fit"
   ]
  },
  {
   "cell_type": "code",
   "execution_count": 121,
   "metadata": {
    "vscode": {
     "languageId": "r"
    }
   },
   "outputs": [
    {
     "data": {
      "image/png": "[encoded data removed]",
      "text/plain": [
       "plot without title"
      ]
     },
     "metadata": {
      "image/png": {
       "height": 360,
       "width": 480
      }
     },
     "output_type": "display_data"
    }
   ],
   "source": [
    "#generate survival plot\n",
    "options(repr.plot.height=6, repr.plot.width=8)\n",
    "ggsurvplot(fit,\n",
    "           data = concat_survival_Full,\n",
    "           pval = T,\n",
    "           risk.table = T,\n",
    "           conf.int = TRUE)"
   ]
  },
  {
   "cell_type": "markdown",
   "metadata": {},
   "source": [
    "# repeat all data grouped together: "
   ]
  },
  {
   "cell_type": "code",
   "execution_count": 122,
   "metadata": {
    "vscode": {
     "languageId": "r"
    }
   },
   "outputs": [
    {
     "data": {
      "text/plain": [
       "\n",
       "Additional Metastatic            Metastatic         Primary Tumor \n",
       "                    1                   368                   103 \n",
       "  Solid Tissue Normal \n",
       "                    1 "
      ]
     },
     "metadata": {},
     "output_type": "display_data"
    }
   ],
   "source": [
    "table(colData(TCGA_SKCM)$sample_type)"
   ]
  },
  {
   "cell_type": "code",
   "execution_count": 123,
   "metadata": {
    "vscode": {
     "languageId": "r"
    }
   },
   "outputs": [],
   "source": [
    "#define SSGSEA Function\n",
    "#function from https://rpubs.com/pranali018/SSGSEA  \n",
    "\n",
    "ssgsea = function(X, gene_sets, alpha = 0.25, scale = T, norm = F, single = T) {\n",
    "  row_names = rownames(X)\n",
    "  num_genes = nrow(X)\n",
    "  gene_sets = lapply(gene_sets, function(genes) {which(row_names %in% genes)})\n",
    "  \n",
    "  # Ranks for genes\n",
    "  R = matrixStats::colRanks(X, preserveShape = T, ties.method = 'average')\n",
    "  \n",
    "  # Calculate enrichment score (es) for each sample (column)\n",
    "  es = apply(R, 2, function(R_col) {\n",
    "    gene_ranks = order(R_col, decreasing = TRUE)\n",
    "    \n",
    "    # Calc es for each gene set\n",
    "    es_sample = sapply(gene_sets, function(gene_set_idx) {\n",
    "      # pos: match (within the gene set)\n",
    "      # neg: non-match (outside the gene set)\n",
    "      indicator_pos = gene_ranks %in% gene_set_idx\n",
    "      indicator_neg = !indicator_pos\n",
    "      \n",
    "      rank_alpha  = (R_col[gene_ranks] * indicator_pos) ^ alpha\n",
    "      \n",
    "      step_cdf_pos = cumsum(rank_alpha)    / sum(rank_alpha)\n",
    "      step_cdf_neg = cumsum(indicator_neg) / sum(indicator_neg)\n",
    "      \n",
    "      step_cdf_diff = step_cdf_pos - step_cdf_neg\n",
    "      \n",
    "      # Normalize by gene number\n",
    "      if (scale) step_cdf_diff = step_cdf_diff / num_genes\n",
    "      \n",
    "      # Use ssGSEA or not\n",
    "      if (single) {\n",
    "        sum(step_cdf_diff)\n",
    "      } else {\n",
    "        step_cdf_diff[which.max(abs(step_cdf_diff))]\n",
    "      }\n",
    "    })\n",
    "    unlist(es_sample)\n",
    "  })\n",
    "  \n",
    "  if (length(gene_sets) == 1) es = matrix(es, nrow = 1)\n",
    "  \n",
    "  # Normalize by absolute diff between max and min\n",
    "  if (norm) es = es / diff(range(es))\n",
    "  \n",
    "  # Prepare output\n",
    "  rownames(es) = names(gene_sets)\n",
    "  colnames(es) = colnames(X)\n",
    "  return(es)\n",
    "}\n"
   ]
  },
  {
   "cell_type": "code",
   "execution_count": 124,
   "metadata": {
    "vscode": {
     "languageId": "r"
    }
   },
   "outputs": [
    {
     "data": {
      "text/plain": [
       "List of length 6\n",
       "names(6): unstranded stranded_first ... fpkm_unstrand fpkm_uq_unstrand"
      ]
     },
     "metadata": {},
     "output_type": "display_data"
    }
   ],
   "source": [
    "#view the different assays stored\n",
    "assays(TCGA_SKCM)"
   ]
  },
  {
   "cell_type": "code",
   "execution_count": 125,
   "metadata": {
    "vscode": {
     "languageId": "r"
    }
   },
   "outputs": [
    {
     "data": {
      "text/html": [
       "<style>\n",
       ".list-inline {list-style: none; margin:0; padding: 0}\n",
       ".list-inline>li {display: inline-block}\n",
       ".list-inline>li:not(:last-child)::after {content: \"\\00b7\"; padding: 0 .5ex}\n",
       "</style>\n",
       "<ol class=list-inline><li>60660</li><li>473</li></ol>\n"
      ],
      "text/latex": [
       "\\begin{enumerate*}\n",
       "\\item 60660\n",
       "\\item 473\n",
       "\\end{enumerate*}\n"
      ],
      "text/markdown": [
       "1. 60660\n",
       "2. 473\n",
       "\n",
       "\n"
      ],
      "text/plain": [
       "[1] 60660   473"
      ]
     },
     "metadata": {},
     "output_type": "display_data"
    },
    {
     "data": {
      "text/html": [
       "<table class=\"dataframe\">\n",
       "<caption>A matrix: 3 × 3 of type dbl</caption>\n",
       "<thead>\n",
       "\t<tr><th></th><th scope=col>TCGA-ER-A199-06A-11R-A18T-07</th><th scope=col>TCGA-EE-A3J5-06A-11R-A20F-07</th><th scope=col>TCGA-EE-A2ME-06A-11R-A18T-07</th></tr>\n",
       "</thead>\n",
       "<tbody>\n",
       "\t<tr><th scope=row>ENSG00000000003.15</th><td>19.6288</td><td> 32.8908</td><td>12.9416</td></tr>\n",
       "\t<tr><th scope=row>ENSG00000000005.6</th><td> 0.0461</td><td>  0.0000</td><td> 0.2589</td></tr>\n",
       "\t<tr><th scope=row>ENSG00000000419.13</th><td>78.7257</td><td>124.2221</td><td>65.2906</td></tr>\n",
       "</tbody>\n",
       "</table>\n"
      ],
      "text/latex": [
       "A matrix: 3 × 3 of type dbl\n",
       "\\begin{tabular}{r|lll}\n",
       "  & TCGA-ER-A199-06A-11R-A18T-07 & TCGA-EE-A3J5-06A-11R-A20F-07 & TCGA-EE-A2ME-06A-11R-A18T-07\\\\\n",
       "\\hline\n",
       "\tENSG00000000003.15 & 19.6288 &  32.8908 & 12.9416\\\\\n",
       "\tENSG00000000005.6 &  0.0461 &   0.0000 &  0.2589\\\\\n",
       "\tENSG00000000419.13 & 78.7257 & 124.2221 & 65.2906\\\\\n",
       "\\end{tabular}\n"
      ],
      "text/markdown": [
       "\n",
       "A matrix: 3 × 3 of type dbl\n",
       "\n",
       "| <!--/--> | TCGA-ER-A199-06A-11R-A18T-07 | TCGA-EE-A3J5-06A-11R-A20F-07 | TCGA-EE-A2ME-06A-11R-A18T-07 |\n",
       "|---|---|---|---|\n",
       "| ENSG00000000003.15 | 19.6288 |  32.8908 | 12.9416 |\n",
       "| ENSG00000000005.6 |  0.0461 |   0.0000 |  0.2589 |\n",
       "| ENSG00000000419.13 | 78.7257 | 124.2221 | 65.2906 |\n",
       "\n"
      ],
      "text/plain": [
       "                   TCGA-ER-A199-06A-11R-A18T-07 TCGA-EE-A3J5-06A-11R-A20F-07\n",
       "ENSG00000000003.15 19.6288                       32.8908                    \n",
       "ENSG00000000005.6   0.0461                        0.0000                    \n",
       "ENSG00000000419.13 78.7257                      124.2221                    \n",
       "                   TCGA-EE-A2ME-06A-11R-A18T-07\n",
       "ENSG00000000003.15 12.9416                     \n",
       "ENSG00000000005.6   0.2589                     \n",
       "ENSG00000000419.13 65.2906                     "
      ]
     },
     "metadata": {},
     "output_type": "display_data"
    }
   ],
   "source": [
    "#for this analysis using the tpm_unstrand assay \n",
    "dim(assays(TCGA_SKCM)$tpm_unstrand)\n",
    "#set data to tpm_unstand assay for this analysis\n",
    "data <- assays(TCGA_SKCM)$tpm_unstrand\n",
    "#view data\n",
    "data[1:3,1:3]"
   ]
  },
  {
   "cell_type": "code",
   "execution_count": 126,
   "metadata": {
    "vscode": {
     "languageId": "r"
    }
   },
   "outputs": [],
   "source": [
    "#convert to matrix\n",
    "data = as.matrix(data)"
   ]
  },
  {
   "cell_type": "code",
   "execution_count": 127,
   "metadata": {
    "vscode": {
     "languageId": "r"
    }
   },
   "outputs": [
    {
     "data": {
      "text/html": [
       "<strong>$gene_id</strong> = <style>\n",
       ".list-inline {list-style: none; margin:0; padding: 0}\n",
       ".list-inline>li {display: inline-block}\n",
       ".list-inline>li:not(:last-child)::after {content: \"\\00b7\"; padding: 0 .5ex}\n",
       "</style>\n",
       "<ol class=list-inline><li>'ENSG00000102962.5'</li><li>'ENSG00000104951.16'</li><li>'ENSG00000198053.12'</li><li>'ENSG00000126353.3'</li><li>'ENSG00000171310.11'</li><li>'ENSG00000180758.12'</li><li>'ENSG00000090104.12'</li><li>'ENSG00000023445.16'</li><li>'ENSG00000056558.11'</li><li>'ENSG00000198223.17'</li><li>'ENSG00000107021.16'</li><li>'ENSG00000078081.8'</li><li>'ENSG00000118242.16'</li><li>'ENSG00000167641.11'</li><li>'ENSG00000198369.10'</li><li>'ENSG00000112149.10'</li><li>'ENSG00000136810.13'</li><li>'ENSG00000172081.14'</li><li>'ENSG00000109320.13'</li><li>'ENSG00000136111.14'</li><li>'ENSG00000123374.11'</li><li>'ENSG00000261040.7'</li><li>'ENSG00000047365.12'</li><li>'ENSG00000160445.11'</li><li>'ENSG00000151726.15'</li><li>'ENSG00000167642.13'</li><li>'ENSG00000161011.20'</li><li>'ENSG00000204634.13'</li><li>'ENSG00000101384.12'</li><li>'ENSG00000278834.1'</li><li>'ENSG00000156127.8'</li><li>'ENSG00000117036.12'</li><li>'ENSG00000171791.14'</li><li>'ENSG00000068796.19'</li><li>'ENSG00000075618.18'</li><li>'ENSG00000118503.15'</li><li>'ENSG00000160050.15'</li><li>'ENSG00000119508.18'</li><li>'ENSG00000115165.10'</li><li>'ENSG00000115956.10'</li><li>'ENSG00000150907.10'</li><li>'ENSG00000025772.8'</li><li>'ENSG00000135148.12'</li><li>'ENSG00000101445.10'</li><li>'ENSG00000121966.7'</li><li>'ENSG00000101017.14'</li><li>'ENSG00000198018.7'</li><li>'ENSG00000124762.14'</li><li>'ENSG00000015475.19'</li><li>'ENSG00000277443.3'</li><li>'ENSG00000138166.6'</li><li>'ENSG00000071054.16'</li><li>'ENSG00000171552.14'</li><li>'ENSG00000172183.15'</li><li>'ENSG00000145860.12'</li><li>'ENSG00000137522.18'</li><li>'ENSG00000183484.12'</li><li>'ENSG00000138670.18'</li><li>'ENSG00000197872.11'</li><li>'ENSG00000084733.11'</li><li>'ENSG00000172292.15'</li><li>'ENSG00000115594.12'</li><li>'ENSG00000101109.12'</li><li>'ENSG00000069493.15'</li><li>'ENSG00000217801.10'</li><li>'ENSG00000177311.11'</li><li>'ENSG00000159128.15'</li><li>'ENSG00000120217.14'</li><li>'ENSG00000136052.9'</li><li>'ENSG00000118257.17'</li><li>'ENSG00000164236.12'</li><li>'ENSG00000169508.7'</li><li>'ENSG00000163389.12'</li><li>'ENSG00000128271.22'</li><li>'ENSG00000102221.14'</li><li>'ENSG00000131773.14'</li><li>'ENSG00000168036.18'</li><li>'ENSG00000137571.11'</li><li>'ENSG00000077150.20'</li><li>'ENSG00000116741.8'</li><li>'ENSG00000106803.10'</li><li>'ENSG00000186187.12'</li><li>'ENSG00000104856.14'</li><li>'ENSG00000151131.11'</li><li>'ENSG00000168310.11'</li><li>'ENSG00000273604.2'</li><li>'ENSG00000059728.11'</li><li>'ENSG00000111540.16'</li><li>'ENSG00000117115.13'</li><li>'ENSG00000136048.14'</li><li>'ENSG00000108389.9'</li><li>'ENSG00000103319.12'</li><li>'ENSG00000111846.19'</li><li>'ENSG00000173166.18'</li><li>'ENSG00000140379.9'</li><li>'ENSG00000101310.17'</li><li>'ENSG00000198355.5'</li><li>'ENSG00000163297.17'</li><li>'ENSG00000166016.6'</li><li>'ENSG00000164484.12'</li></ol>\n"
      ],
      "text/latex": [
       "\\textbf{\\$gene\\_id} = \\begin{enumerate*}\n",
       "\\item 'ENSG00000102962.5'\n",
       "\\item 'ENSG00000104951.16'\n",
       "\\item 'ENSG00000198053.12'\n",
       "\\item 'ENSG00000126353.3'\n",
       "\\item 'ENSG00000171310.11'\n",
       "\\item 'ENSG00000180758.12'\n",
       "\\item 'ENSG00000090104.12'\n",
       "\\item 'ENSG00000023445.16'\n",
       "\\item 'ENSG00000056558.11'\n",
       "\\item 'ENSG00000198223.17'\n",
       "\\item 'ENSG00000107021.16'\n",
       "\\item 'ENSG00000078081.8'\n",
       "\\item 'ENSG00000118242.16'\n",
       "\\item 'ENSG00000167641.11'\n",
       "\\item 'ENSG00000198369.10'\n",
       "\\item 'ENSG00000112149.10'\n",
       "\\item 'ENSG00000136810.13'\n",
       "\\item 'ENSG00000172081.14'\n",
       "\\item 'ENSG00000109320.13'\n",
       "\\item 'ENSG00000136111.14'\n",
       "\\item 'ENSG00000123374.11'\n",
       "\\item 'ENSG00000261040.7'\n",
       "\\item 'ENSG00000047365.12'\n",
       "\\item 'ENSG00000160445.11'\n",
       "\\item 'ENSG00000151726.15'\n",
       "\\item 'ENSG00000167642.13'\n",
       "\\item 'ENSG00000161011.20'\n",
       "\\item 'ENSG00000204634.13'\n",
       "\\item 'ENSG00000101384.12'\n",
       "\\item 'ENSG00000278834.1'\n",
       "\\item 'ENSG00000156127.8'\n",
       "\\item 'ENSG00000117036.12'\n",
       "\\item 'ENSG00000171791.14'\n",
       "\\item 'ENSG00000068796.19'\n",
       "\\item 'ENSG00000075618.18'\n",
       "\\item 'ENSG00000118503.15'\n",
       "\\item 'ENSG00000160050.15'\n",
       "\\item 'ENSG00000119508.18'\n",
       "\\item 'ENSG00000115165.10'\n",
       "\\item 'ENSG00000115956.10'\n",
       "\\item 'ENSG00000150907.10'\n",
       "\\item 'ENSG00000025772.8'\n",
       "\\item 'ENSG00000135148.12'\n",
       "\\item 'ENSG00000101445.10'\n",
       "\\item 'ENSG00000121966.7'\n",
       "\\item 'ENSG00000101017.14'\n",
       "\\item 'ENSG00000198018.7'\n",
       "\\item 'ENSG00000124762.14'\n",
       "\\item 'ENSG00000015475.19'\n",
       "\\item 'ENSG00000277443.3'\n",
       "\\item 'ENSG00000138166.6'\n",
       "\\item 'ENSG00000071054.16'\n",
       "\\item 'ENSG00000171552.14'\n",
       "\\item 'ENSG00000172183.15'\n",
       "\\item 'ENSG00000145860.12'\n",
       "\\item 'ENSG00000137522.18'\n",
       "\\item 'ENSG00000183484.12'\n",
       "\\item 'ENSG00000138670.18'\n",
       "\\item 'ENSG00000197872.11'\n",
       "\\item 'ENSG00000084733.11'\n",
       "\\item 'ENSG00000172292.15'\n",
       "\\item 'ENSG00000115594.12'\n",
       "\\item 'ENSG00000101109.12'\n",
       "\\item 'ENSG00000069493.15'\n",
       "\\item 'ENSG00000217801.10'\n",
       "\\item 'ENSG00000177311.11'\n",
       "\\item 'ENSG00000159128.15'\n",
       "\\item 'ENSG00000120217.14'\n",
       "\\item 'ENSG00000136052.9'\n",
       "\\item 'ENSG00000118257.17'\n",
       "\\item 'ENSG00000164236.12'\n",
       "\\item 'ENSG00000169508.7'\n",
       "\\item 'ENSG00000163389.12'\n",
       "\\item 'ENSG00000128271.22'\n",
       "\\item 'ENSG00000102221.14'\n",
       "\\item 'ENSG00000131773.14'\n",
       "\\item 'ENSG00000168036.18'\n",
       "\\item 'ENSG00000137571.11'\n",
       "\\item 'ENSG00000077150.20'\n",
       "\\item 'ENSG00000116741.8'\n",
       "\\item 'ENSG00000106803.10'\n",
       "\\item 'ENSG00000186187.12'\n",
       "\\item 'ENSG00000104856.14'\n",
       "\\item 'ENSG00000151131.11'\n",
       "\\item 'ENSG00000168310.11'\n",
       "\\item 'ENSG00000273604.2'\n",
       "\\item 'ENSG00000059728.11'\n",
       "\\item 'ENSG00000111540.16'\n",
       "\\item 'ENSG00000117115.13'\n",
       "\\item 'ENSG00000136048.14'\n",
       "\\item 'ENSG00000108389.9'\n",
       "\\item 'ENSG00000103319.12'\n",
       "\\item 'ENSG00000111846.19'\n",
       "\\item 'ENSG00000173166.18'\n",
       "\\item 'ENSG00000140379.9'\n",
       "\\item 'ENSG00000101310.17'\n",
       "\\item 'ENSG00000198355.5'\n",
       "\\item 'ENSG00000163297.17'\n",
       "\\item 'ENSG00000166016.6'\n",
       "\\item 'ENSG00000164484.12'\n",
       "\\end{enumerate*}\n"
      ],
      "text/markdown": [
       "**$gene_id** = 1. 'ENSG00000102962.5'\n",
       "2. 'ENSG00000104951.16'\n",
       "3. 'ENSG00000198053.12'\n",
       "4. 'ENSG00000126353.3'\n",
       "5. 'ENSG00000171310.11'\n",
       "6. 'ENSG00000180758.12'\n",
       "7. 'ENSG00000090104.12'\n",
       "8. 'ENSG00000023445.16'\n",
       "9. 'ENSG00000056558.11'\n",
       "10. 'ENSG00000198223.17'\n",
       "11. 'ENSG00000107021.16'\n",
       "12. 'ENSG00000078081.8'\n",
       "13. 'ENSG00000118242.16'\n",
       "14. 'ENSG00000167641.11'\n",
       "15. 'ENSG00000198369.10'\n",
       "16. 'ENSG00000112149.10'\n",
       "17. 'ENSG00000136810.13'\n",
       "18. 'ENSG00000172081.14'\n",
       "19. 'ENSG00000109320.13'\n",
       "20. 'ENSG00000136111.14'\n",
       "21. 'ENSG00000123374.11'\n",
       "22. 'ENSG00000261040.7'\n",
       "23. 'ENSG00000047365.12'\n",
       "24. 'ENSG00000160445.11'\n",
       "25. 'ENSG00000151726.15'\n",
       "26. 'ENSG00000167642.13'\n",
       "27. 'ENSG00000161011.20'\n",
       "28. 'ENSG00000204634.13'\n",
       "29. 'ENSG00000101384.12'\n",
       "30. 'ENSG00000278834.1'\n",
       "31. 'ENSG00000156127.8'\n",
       "32. 'ENSG00000117036.12'\n",
       "33. 'ENSG00000171791.14'\n",
       "34. 'ENSG00000068796.19'\n",
       "35. 'ENSG00000075618.18'\n",
       "36. 'ENSG00000118503.15'\n",
       "37. 'ENSG00000160050.15'\n",
       "38. 'ENSG00000119508.18'\n",
       "39. 'ENSG00000115165.10'\n",
       "40. 'ENSG00000115956.10'\n",
       "41. 'ENSG00000150907.10'\n",
       "42. 'ENSG00000025772.8'\n",
       "43. 'ENSG00000135148.12'\n",
       "44. 'ENSG00000101445.10'\n",
       "45. 'ENSG00000121966.7'\n",
       "46. 'ENSG00000101017.14'\n",
       "47. 'ENSG00000198018.7'\n",
       "48. 'ENSG00000124762.14'\n",
       "49. 'ENSG00000015475.19'\n",
       "50. 'ENSG00000277443.3'\n",
       "51. 'ENSG00000138166.6'\n",
       "52. 'ENSG00000071054.16'\n",
       "53. 'ENSG00000171552.14'\n",
       "54. 'ENSG00000172183.15'\n",
       "55. 'ENSG00000145860.12'\n",
       "56. 'ENSG00000137522.18'\n",
       "57. 'ENSG00000183484.12'\n",
       "58. 'ENSG00000138670.18'\n",
       "59. 'ENSG00000197872.11'\n",
       "60. 'ENSG00000084733.11'\n",
       "61. 'ENSG00000172292.15'\n",
       "62. 'ENSG00000115594.12'\n",
       "63. 'ENSG00000101109.12'\n",
       "64. 'ENSG00000069493.15'\n",
       "65. 'ENSG00000217801.10'\n",
       "66. 'ENSG00000177311.11'\n",
       "67. 'ENSG00000159128.15'\n",
       "68. 'ENSG00000120217.14'\n",
       "69. 'ENSG00000136052.9'\n",
       "70. 'ENSG00000118257.17'\n",
       "71. 'ENSG00000164236.12'\n",
       "72. 'ENSG00000169508.7'\n",
       "73. 'ENSG00000163389.12'\n",
       "74. 'ENSG00000128271.22'\n",
       "75. 'ENSG00000102221.14'\n",
       "76. 'ENSG00000131773.14'\n",
       "77. 'ENSG00000168036.18'\n",
       "78. 'ENSG00000137571.11'\n",
       "79. 'ENSG00000077150.20'\n",
       "80. 'ENSG00000116741.8'\n",
       "81. 'ENSG00000106803.10'\n",
       "82. 'ENSG00000186187.12'\n",
       "83. 'ENSG00000104856.14'\n",
       "84. 'ENSG00000151131.11'\n",
       "85. 'ENSG00000168310.11'\n",
       "86. 'ENSG00000273604.2'\n",
       "87. 'ENSG00000059728.11'\n",
       "88. 'ENSG00000111540.16'\n",
       "89. 'ENSG00000117115.13'\n",
       "90. 'ENSG00000136048.14'\n",
       "91. 'ENSG00000108389.9'\n",
       "92. 'ENSG00000103319.12'\n",
       "93. 'ENSG00000111846.19'\n",
       "94. 'ENSG00000173166.18'\n",
       "95. 'ENSG00000140379.9'\n",
       "96. 'ENSG00000101310.17'\n",
       "97. 'ENSG00000198355.5'\n",
       "98. 'ENSG00000163297.17'\n",
       "99. 'ENSG00000166016.6'\n",
       "100. 'ENSG00000164484.12'\n",
       "\n",
       "\n"
      ],
      "text/plain": [
       "$gene_id\n",
       "  [1] \"ENSG00000102962.5\"  \"ENSG00000104951.16\" \"ENSG00000198053.12\"\n",
       "  [4] \"ENSG00000126353.3\"  \"ENSG00000171310.11\" \"ENSG00000180758.12\"\n",
       "  [7] \"ENSG00000090104.12\" \"ENSG00000023445.16\" \"ENSG00000056558.11\"\n",
       " [10] \"ENSG00000198223.17\" \"ENSG00000107021.16\" \"ENSG00000078081.8\" \n",
       " [13] \"ENSG00000118242.16\" \"ENSG00000167641.11\" \"ENSG00000198369.10\"\n",
       " [16] \"ENSG00000112149.10\" \"ENSG00000136810.13\" \"ENSG00000172081.14\"\n",
       " [19] \"ENSG00000109320.13\" \"ENSG00000136111.14\" \"ENSG00000123374.11\"\n",
       " [22] \"ENSG00000261040.7\"  \"ENSG00000047365.12\" \"ENSG00000160445.11\"\n",
       " [25] \"ENSG00000151726.15\" \"ENSG00000167642.13\" \"ENSG00000161011.20\"\n",
       " [28] \"ENSG00000204634.13\" \"ENSG00000101384.12\" \"ENSG00000278834.1\" \n",
       " [31] \"ENSG00000156127.8\"  \"ENSG00000117036.12\" \"ENSG00000171791.14\"\n",
       " [34] \"ENSG00000068796.19\" \"ENSG00000075618.18\" \"ENSG00000118503.15\"\n",
       " [37] \"ENSG00000160050.15\" \"ENSG00000119508.18\" \"ENSG00000115165.10\"\n",
       " [40] \"ENSG00000115956.10\" \"ENSG00000150907.10\" \"ENSG00000025772.8\" \n",
       " [43] \"ENSG00000135148.12\" \"ENSG00000101445.10\" \"ENSG00000121966.7\" \n",
       " [46] \"ENSG00000101017.14\" \"ENSG00000198018.7\"  \"ENSG00000124762.14\"\n",
       " [49] \"ENSG00000015475.19\" \"ENSG00000277443.3\"  \"ENSG00000138166.6\" \n",
       " [52] \"ENSG00000071054.16\" \"ENSG00000171552.14\" \"ENSG00000172183.15\"\n",
       " [55] \"ENSG00000145860.12\" \"ENSG00000137522.18\" \"ENSG00000183484.12\"\n",
       " [58] \"ENSG00000138670.18\" \"ENSG00000197872.11\" \"ENSG00000084733.11\"\n",
       " [61] \"ENSG00000172292.15\" \"ENSG00000115594.12\" \"ENSG00000101109.12\"\n",
       " [64] \"ENSG00000069493.15\" \"ENSG00000217801.10\" \"ENSG00000177311.11\"\n",
       " [67] \"ENSG00000159128.15\" \"ENSG00000120217.14\" \"ENSG00000136052.9\" \n",
       " [70] \"ENSG00000118257.17\" \"ENSG00000164236.12\" \"ENSG00000169508.7\" \n",
       " [73] \"ENSG00000163389.12\" \"ENSG00000128271.22\" \"ENSG00000102221.14\"\n",
       " [76] \"ENSG00000131773.14\" \"ENSG00000168036.18\" \"ENSG00000137571.11\"\n",
       " [79] \"ENSG00000077150.20\" \"ENSG00000116741.8\"  \"ENSG00000106803.10\"\n",
       " [82] \"ENSG00000186187.12\" \"ENSG00000104856.14\" \"ENSG00000151131.11\"\n",
       " [85] \"ENSG00000168310.11\" \"ENSG00000273604.2\"  \"ENSG00000059728.11\"\n",
       " [88] \"ENSG00000111540.16\" \"ENSG00000117115.13\" \"ENSG00000136048.14\"\n",
       " [91] \"ENSG00000108389.9\"  \"ENSG00000103319.12\" \"ENSG00000111846.19\"\n",
       " [94] \"ENSG00000173166.18\" \"ENSG00000140379.9\"  \"ENSG00000101310.17\"\n",
       " [97] \"ENSG00000198355.5\"  \"ENSG00000163297.17\" \"ENSG00000166016.6\" \n",
       "[100] \"ENSG00000164484.12\"\n"
      ]
     },
     "metadata": {},
     "output_type": "display_data"
    }
   ],
   "source": [
    "#load in my signature and make it a list (edit this to any signature)\n",
    "sig <- fread(\"ag_pos_vs_dll1_deg_limma.csv\", select = c(\"gene_id\"))\n",
    "sig <- sig[1:100,]\n",
    "sig = as.list(as.data.frame(sig))\n",
    "head(sig)"
   ]
  },
  {
   "cell_type": "code",
   "execution_count": 128,
   "metadata": {
    "vscode": {
     "languageId": "r"
    }
   },
   "outputs": [
    {
     "data": {
      "text/plain": [
       "   user  system elapsed \n",
       "  3.577   0.622   4.219 "
      ]
     },
     "metadata": {},
     "output_type": "display_data"
    }
   ],
   "source": [
    "#Run ssGSEA function\n",
    "#ssgsea: https://rpubs.com/pranali018/SSGSEA\n",
    "system.time(assign('res', ssgsea(data, sig, scale = TRUE, norm = FALSE)))"
   ]
  },
  {
   "cell_type": "code",
   "execution_count": 129,
   "metadata": {
    "vscode": {
     "languageId": "r"
    }
   },
   "outputs": [
    {
     "data": {
      "text/html": [
       "<table class=\"dataframe\">\n",
       "<caption>A matrix: 6 × 1 of type dbl</caption>\n",
       "<thead>\n",
       "\t<tr><th></th><th scope=col>gene_id</th></tr>\n",
       "</thead>\n",
       "<tbody>\n",
       "\t<tr><th scope=row>TCGA-ER-A199-06A-11R-A18T-07</th><td>0.4040007</td></tr>\n",
       "\t<tr><th scope=row>TCGA-EE-A3J5-06A-11R-A20F-07</th><td>0.3863038</td></tr>\n",
       "\t<tr><th scope=row>TCGA-EE-A2ME-06A-11R-A18T-07</th><td>0.4130965</td></tr>\n",
       "\t<tr><th scope=row>TCGA-BF-A5ES-01A-11R-A27Q-07</th><td>0.3882478</td></tr>\n",
       "\t<tr><th scope=row>TCGA-D3-A8GE-06A-11R-A37K-07</th><td>0.3772395</td></tr>\n",
       "\t<tr><th scope=row>TCGA-EE-A2MG-06A-11R-A18T-07</th><td>0.4041326</td></tr>\n",
       "</tbody>\n",
       "</table>\n"
      ],
      "text/latex": [
       "A matrix: 6 × 1 of type dbl\n",
       "\\begin{tabular}{r|l}\n",
       "  & gene\\_id\\\\\n",
       "\\hline\n",
       "\tTCGA-ER-A199-06A-11R-A18T-07 & 0.4040007\\\\\n",
       "\tTCGA-EE-A3J5-06A-11R-A20F-07 & 0.3863038\\\\\n",
       "\tTCGA-EE-A2ME-06A-11R-A18T-07 & 0.4130965\\\\\n",
       "\tTCGA-BF-A5ES-01A-11R-A27Q-07 & 0.3882478\\\\\n",
       "\tTCGA-D3-A8GE-06A-11R-A37K-07 & 0.3772395\\\\\n",
       "\tTCGA-EE-A2MG-06A-11R-A18T-07 & 0.4041326\\\\\n",
       "\\end{tabular}\n"
      ],
      "text/markdown": [
       "\n",
       "A matrix: 6 × 1 of type dbl\n",
       "\n",
       "| <!--/--> | gene_id |\n",
       "|---|---|\n",
       "| TCGA-ER-A199-06A-11R-A18T-07 | 0.4040007 |\n",
       "| TCGA-EE-A3J5-06A-11R-A20F-07 | 0.3863038 |\n",
       "| TCGA-EE-A2ME-06A-11R-A18T-07 | 0.4130965 |\n",
       "| TCGA-BF-A5ES-01A-11R-A27Q-07 | 0.3882478 |\n",
       "| TCGA-D3-A8GE-06A-11R-A37K-07 | 0.3772395 |\n",
       "| TCGA-EE-A2MG-06A-11R-A18T-07 | 0.4041326 |\n",
       "\n"
      ],
      "text/plain": [
       "                             gene_id  \n",
       "TCGA-ER-A199-06A-11R-A18T-07 0.4040007\n",
       "TCGA-EE-A3J5-06A-11R-A20F-07 0.3863038\n",
       "TCGA-EE-A2ME-06A-11R-A18T-07 0.4130965\n",
       "TCGA-BF-A5ES-01A-11R-A27Q-07 0.3882478\n",
       "TCGA-D3-A8GE-06A-11R-A37K-07 0.3772395\n",
       "TCGA-EE-A2MG-06A-11R-A18T-07 0.4041326"
      ]
     },
     "metadata": {},
     "output_type": "display_data"
    }
   ],
   "source": [
    "#transpose results\n",
    "res1 = t(res)\n",
    "head(res1)"
   ]
  },
  {
   "cell_type": "code",
   "execution_count": 130,
   "metadata": {
    "vscode": {
     "languageId": "r"
    }
   },
   "outputs": [
    {
     "data": {
      "text/html": [
       "<style>\n",
       ".list-inline {list-style: none; margin:0; padding: 0}\n",
       ".list-inline>li {display: inline-block}\n",
       ".list-inline>li:not(:last-child)::after {content: \"\\00b7\"; padding: 0 .5ex}\n",
       "</style>\n",
       "<ol class=list-inline><li>1</li><li>473</li></ol>\n"
      ],
      "text/latex": [
       "\\begin{enumerate*}\n",
       "\\item 1\n",
       "\\item 473\n",
       "\\end{enumerate*}\n"
      ],
      "text/markdown": [
       "1. 1\n",
       "2. 473\n",
       "\n",
       "\n"
      ],
      "text/plain": [
       "[1]   1 473"
      ]
     },
     "metadata": {},
     "output_type": "display_data"
    },
    {
     "data": {
      "text/html": [
       "<style>\n",
       ".dl-inline {width: auto; margin:0; padding: 0}\n",
       ".dl-inline>dt, .dl-inline>dd {float: none; width: auto; display: inline-block}\n",
       ".dl-inline>dt::after {content: \":\\0020\"; padding-right: .5ex}\n",
       ".dl-inline>dt:not(:first-of-type) {padding-left: .5ex}\n",
       "</style><dl class=dl-inline><dt>TCGA-ER-A199-06A-11R-A18T-07</dt><dd>1.625017819701</dd><dt>TCGA-EE-A3J5-06A-11R-A20F-07</dt><dd>0.432623778161379</dd><dt>TCGA-EE-A2ME-06A-11R-A18T-07</dt><dd>2.23788265434119</dd><dt>TCGA-BF-A5ES-01A-11R-A27Q-07</dt><dd>0.563611582796288</dd><dt>TCGA-D3-A8GE-06A-11R-A37K-07</dt><dd>-0.178115245264087</dd></dl>\n"
      ],
      "text/latex": [
       "\\begin{description*}\n",
       "\\item[TCGA-ER-A199-06A-11R-A18T-07] 1.625017819701\n",
       "\\item[TCGA-EE-A3J5-06A-11R-A20F-07] 0.432623778161379\n",
       "\\item[TCGA-EE-A2ME-06A-11R-A18T-07] 2.23788265434119\n",
       "\\item[TCGA-BF-A5ES-01A-11R-A27Q-07] 0.563611582796288\n",
       "\\item[TCGA-D3-A8GE-06A-11R-A37K-07] -0.178115245264087\n",
       "\\end{description*}\n"
      ],
      "text/markdown": [
       "TCGA-ER-A199-06A-11R-A18T-07\n",
       ":   1.625017819701TCGA-EE-A3J5-06A-11R-A20F-07\n",
       ":   0.432623778161379TCGA-EE-A2ME-06A-11R-A18T-07\n",
       ":   2.23788265434119TCGA-BF-A5ES-01A-11R-A27Q-07\n",
       ":   0.563611582796288TCGA-D3-A8GE-06A-11R-A37K-07\n",
       ":   -0.178115245264087\n",
       "\n"
      ],
      "text/plain": [
       "TCGA-ER-A199-06A-11R-A18T-07 TCGA-EE-A3J5-06A-11R-A20F-07 \n",
       "                   1.6250178                    0.4326238 \n",
       "TCGA-EE-A2ME-06A-11R-A18T-07 TCGA-BF-A5ES-01A-11R-A27Q-07 \n",
       "                   2.2378827                    0.5636116 \n",
       "TCGA-D3-A8GE-06A-11R-A37K-07 \n",
       "                  -0.1781152 "
      ]
     },
     "metadata": {},
     "output_type": "display_data"
    }
   ],
   "source": [
    "#calculate mat (ssGSEA Z score - ssgsea output for comparative analysis)\n",
    "mat = (res - rowMeans(res))/(rowSds(as.matrix(res)))[row(res)]\n",
    "dim(mat)\n",
    "mat[1,1:5] "
   ]
  },
  {
   "cell_type": "markdown",
   "metadata": {},
   "source": [
    "#### at this point now have a score for each patient with how enriched that sample is for my signature, the ID here is the \"barcode\"\n",
    "* next want to see how this score correlates with survival etc"
   ]
  },
  {
   "cell_type": "code",
   "execution_count": 131,
   "metadata": {
    "vscode": {
     "languageId": "r"
    }
   },
   "outputs": [
    {
     "data": {
      "text/html": [
       "<style>\n",
       ".list-inline {list-style: none; margin:0; padding: 0}\n",
       ".list-inline>li {display: inline-block}\n",
       ".list-inline>li:not(:last-child)::after {content: \"\\00b7\"; padding: 0 .5ex}\n",
       "</style>\n",
       "<ol class=list-inline><li>'barcode'</li><li>'patient'</li><li>'sample'</li><li>'shortLetterCode'</li><li>'definition'</li><li>'sample_submitter_id'</li><li>'sample_type_id'</li><li>'tumor_descriptor'</li><li>'sample_id'</li><li>'sample_type'</li><li>'composition'</li><li>'days_to_collection'</li><li>'state'</li><li>'initial_weight'</li><li>'preservation_method'</li><li>'pathology_report_uuid'</li><li>'submitter_id'</li><li>'oct_embedded'</li><li>'specimen_type'</li><li>'is_ffpe'</li><li>'tissue_type'</li><li>'synchronous_malignancy'</li><li>'ajcc_pathologic_stage'</li><li>'days_to_diagnosis'</li><li>'treatments'</li><li>'last_known_disease_status'</li><li>'tissue_or_organ_of_origin'</li><li>'days_to_last_follow_up'</li><li>'age_at_diagnosis'</li><li>'primary_diagnosis'</li><li>'prior_malignancy'</li><li>'year_of_diagnosis'</li><li>'prior_treatment'</li><li>'ajcc_staging_system_edition'</li><li>'ajcc_pathologic_t'</li><li>'morphology'</li><li>'ajcc_pathologic_n'</li><li>'ajcc_pathologic_m'</li><li>'classification_of_tumor'</li><li>'diagnosis_id'</li><li>'icd_10_code'</li><li>'site_of_resection_or_biopsy'</li><li>'tumor_grade'</li><li>'progression_or_recurrence'</li><li>'alcohol_history'</li><li>'exposure_id'</li><li>'race'</li><li>'gender'</li><li>'ethnicity'</li><li>'vital_status'</li><li>'age_at_index'</li><li>'days_to_birth'</li><li>'year_of_birth'</li><li>'demographic_id'</li><li>'days_to_death'</li><li>'year_of_death'</li><li>'bcr_patient_barcode'</li><li>'primary_site'</li><li>'project_id'</li><li>'disease_type'</li><li>'name'</li><li>'releasable'</li><li>'released'</li><li>'paper_patient'</li><li>'paper_ALL_SAMPLES'</li><li>'paper_MUTATIONSUBTYPES'</li><li>'paper_ALL_PRIMARY_VS_METASTATIC'</li><li>'paper_REGIONAL_VS_PRIMARY'</li><li>'paper_UV.signature'</li><li>'paper_RNASEQ.CLUSTER_CONSENHIER'</li><li>'paper_MethTypes.201408'</li><li>'paper_MIRCluster'</li><li>'paper_ProteinCluster'</li><li>'paper_OncoSignCluster'</li><li>'paper_CDKN2A.cg13601799._meth'</li><li>'paper_KIT.cg10087973._meth'</li><li>'paper_BRAF_cna'</li><li>'paper_NRAS_cna'</li><li>'paper_MITF_cna'</li><li>'paper_KIT_cna'</li><li>'paper_PDGFRA_cna'</li><li>'paper_KDR_cna'</li><li>'paper_MYC_cna'</li><li>'paper_CCND1_cna'</li><li>'paper_CDK4_cna'</li><li>'paper_MDM2_cna'</li><li>'paper_TERT_cna'</li><li>'paper_EP300_cna'</li><li>'paper_NOTCH2_cna'</li><li>'paper_CDKN2A_cna'</li><li>'paper_PTEN_cna'</li><li>'paper_TP53_cna'</li><li>'paper_PPP6C_cna'</li><li>'paper_ARID2_cna'</li><li>'paper_IDH1_cna'</li><li>'paper_MAP2K1_cna'</li><li>'paper_DDX3X_cna'</li><li>'paper_RAC1_cna'</li><li>'paper_NF1_cna'</li><li>'paper_CASP8_cna'</li><li>'paper_CTNNB1_cna'</li><li>'paper_PCDHGA1_cna'</li><li>'paper_SERPINB3_cna'</li><li>'paper_IRF7_cna'</li><li>'paper_HRAS_cna'</li><li>'paper_PTPN11_cna'</li><li>'paper_KRAS_cna'</li><li>'paper_GNA11_cna'</li><li>'paper_GNAQ_cna'</li><li>'paper_AKT1_cna'</li><li>'paper_APC_cna'</li><li>'paper_EZH2_cna'</li><li>'paper_FBXW7_cna'</li><li>'paper_GNAS_cna'</li><li>'paper_PIK3CA_cna'</li><li>'paper_ARID2_mut'</li><li>'paper_BRAF_mut'</li><li>'paper_NRAS_mut'</li><li>'paper_KRAS_mut'</li><li>'paper_HRAS_mut'</li><li>'paper_NF1_mut'</li><li>'paper_IDH1_mut'</li><li>'paper_GNA11_mut'</li><li>'paper_GNAQ_mut'</li><li>'paper_CDK4_mut'</li><li>'paper_CDKN2A_mut'</li><li>'paper_DDX3X_mut'</li><li>'paper_KIT_mut'</li><li>'paper_MAP2K1_mut'</li><li>'paper_PPP6C_mut'</li><li>'paper_PTEN_mut'</li><li>'paper_RAC1_mut'</li><li>'paper_RB1_mut'</li><li>'paper_TP53_mut'</li><li>'paper_TERT_MUT'</li><li>'paper_rnaseq_TERT.RSEM.NORM_DATA'</li><li>'paper_rppa_LCK.LCK.R.V'</li><li>'paper_rppa_SYK.SYK.M.V'</li><li>'paper_PIGMENT.SCORE'</li><li>'paper_NECROSIS'</li><li>'paper_Tumour.content........nuceli.that.are.tumour.cells......0.100..'</li><li>'paper_LYMPHOCYTE.DISTRIBUTION'</li><li>'paper_LYMPHOCYTE.DENSITY'</li><li>'paper_LYMPHOCYTE.SCORE'</li><li>'paper_PURITY..ABSOLUTE.'</li><li>'paper_PLOIDY..ABSOLUTE.'</li><li>'paper_TOTAL.MUTATIONS'</li><li>'paper_UV.RATE'</li><li>'paper_CURATED_AGE_AT_INITIAL_PATHOLOGIC_DIAGNOSIS'</li><li>'paper_CURATED_AGE_AT_TCGA_SPECIMEN'</li><li>'paper_GENDER'</li><li>'paper_CURATED_KNOWN_PRIMARY'</li><li>'paper_CURATED_SITE_OF_PRIMARY_TUMOR_KNOWN_PRIMARY_ONLY'</li><li>'paper_CURATED_SITE_OF_PRIMARY_TUMOR_INCLUDING_UNKNOWN'</li><li>'paper_CURATED_BRESLOW'</li><li>'paper_CURATED_ULCERATION'</li><li>'paper_CURATED_T_STAGE_AT_DIAGNOSIS_COMPLEX'</li><li>'paper_CURATED_T_STAGE_AT_DIAGNOSIS_SIMPLE'</li><li>'paper_CURATED_N_STAGE_AT_DIAGNOSIS_COMPLEX'</li><li>'paper_CURATED_N_STAGE_AT_DIAGNOSIS_SIMPLE'</li><li>'paper_CURATED_M_STAGE_AT_DIAGNOSIS_COMPLEX'</li><li>'paper_CURATED_M_STAGE_AT_DIAGNOSIS_SIMPLE'</li><li>'paper_CURATED_PATHOLOGIC_STAGE_AJCC7_AT_DIAGNOSIS_COMPLEX'</li><li>'paper_CURATED_PATHOLOGIC_STAGE_AJCC7_AT_DIAGNOSIS_SIMPLE'</li><li>'paper_CURATED_TCGA_SPECIMEN_SITE'</li><li>'paper_CURATED_DISTANT_ANATOMIC_SITE'</li><li>'paper_CURATED_VITAL_STATUS'</li><li>'paper_CURATED_DAYS_TO_DEATH_OR_LAST_FU'</li><li>'paper_CURATED_TCGA_DAYS_TO_DEATH_OR_LAST_FU'</li><li>'paper_CURATED_MELANOMA_SPECIFIC_VITAL_STATUS..0....ALIVE.OR.CENSORED...1....DEAD.OF.MELANOMA..'</li><li>'paper_CURATED_TCGA_SPECIMEN_Distant'</li><li>'paper_CC.TT.nTotal.Mut'</li><li>'paper_DIPYRIM.C.T.nTotal.Mut'</li><li>'paper_DIPYRIM.C.T.n.C.T..mut'</li><li>'paper_SHATTERSEEK_Chromothripsis_calls'</li></ol>\n"
      ],
      "text/latex": [
       "\\begin{enumerate*}\n",
       "\\item 'barcode'\n",
       "\\item 'patient'\n",
       "\\item 'sample'\n",
       "\\item 'shortLetterCode'\n",
       "\\item 'definition'\n",
       "\\item 'sample\\_submitter\\_id'\n",
       "\\item 'sample\\_type\\_id'\n",
       "\\item 'tumor\\_descriptor'\n",
       "\\item 'sample\\_id'\n",
       "\\item 'sample\\_type'\n",
       "\\item 'composition'\n",
       "\\item 'days\\_to\\_collection'\n",
       "\\item 'state'\n",
       "\\item 'initial\\_weight'\n",
       "\\item 'preservation\\_method'\n",
       "\\item 'pathology\\_report\\_uuid'\n",
       "\\item 'submitter\\_id'\n",
       "\\item 'oct\\_embedded'\n",
       "\\item 'specimen\\_type'\n",
       "\\item 'is\\_ffpe'\n",
       "\\item 'tissue\\_type'\n",
       "\\item 'synchronous\\_malignancy'\n",
       "\\item 'ajcc\\_pathologic\\_stage'\n",
       "\\item 'days\\_to\\_diagnosis'\n",
       "\\item 'treatments'\n",
       "\\item 'last\\_known\\_disease\\_status'\n",
       "\\item 'tissue\\_or\\_organ\\_of\\_origin'\n",
       "\\item 'days\\_to\\_last\\_follow\\_up'\n",
       "\\item 'age\\_at\\_diagnosis'\n",
       "\\item 'primary\\_diagnosis'\n",
       "\\item 'prior\\_malignancy'\n",
       "\\item 'year\\_of\\_diagnosis'\n",
       "\\item 'prior\\_treatment'\n",
       "\\item 'ajcc\\_staging\\_system\\_edition'\n",
       "\\item 'ajcc\\_pathologic\\_t'\n",
       "\\item 'morphology'\n",
       "\\item 'ajcc\\_pathologic\\_n'\n",
       "\\item 'ajcc\\_pathologic\\_m'\n",
       "\\item 'classification\\_of\\_tumor'\n",
       "\\item 'diagnosis\\_id'\n",
       "\\item 'icd\\_10\\_code'\n",
       "\\item 'site\\_of\\_resection\\_or\\_biopsy'\n",
       "\\item 'tumor\\_grade'\n",
       "\\item 'progression\\_or\\_recurrence'\n",
       "\\item 'alcohol\\_history'\n",
       "\\item 'exposure\\_id'\n",
       "\\item 'race'\n",
       "\\item 'gender'\n",
       "\\item 'ethnicity'\n",
       "\\item 'vital\\_status'\n",
       "\\item 'age\\_at\\_index'\n",
       "\\item 'days\\_to\\_birth'\n",
       "\\item 'year\\_of\\_birth'\n",
       "\\item 'demographic\\_id'\n",
       "\\item 'days\\_to\\_death'\n",
       "\\item 'year\\_of\\_death'\n",
       "\\item 'bcr\\_patient\\_barcode'\n",
       "\\item 'primary\\_site'\n",
       "\\item 'project\\_id'\n",
       "\\item 'disease\\_type'\n",
       "\\item 'name'\n",
       "\\item 'releasable'\n",
       "\\item 'released'\n",
       "\\item 'paper\\_patient'\n",
       "\\item 'paper\\_ALL\\_SAMPLES'\n",
       "\\item 'paper\\_MUTATIONSUBTYPES'\n",
       "\\item 'paper\\_ALL\\_PRIMARY\\_VS\\_METASTATIC'\n",
       "\\item 'paper\\_REGIONAL\\_VS\\_PRIMARY'\n",
       "\\item 'paper\\_UV.signature'\n",
       "\\item 'paper\\_RNASEQ.CLUSTER\\_CONSENHIER'\n",
       "\\item 'paper\\_MethTypes.201408'\n",
       "\\item 'paper\\_MIRCluster'\n",
       "\\item 'paper\\_ProteinCluster'\n",
       "\\item 'paper\\_OncoSignCluster'\n",
       "\\item 'paper\\_CDKN2A.cg13601799.\\_meth'\n",
       "\\item 'paper\\_KIT.cg10087973.\\_meth'\n",
       "\\item 'paper\\_BRAF\\_cna'\n",
       "\\item 'paper\\_NRAS\\_cna'\n",
       "\\item 'paper\\_MITF\\_cna'\n",
       "\\item 'paper\\_KIT\\_cna'\n",
       "\\item 'paper\\_PDGFRA\\_cna'\n",
       "\\item 'paper\\_KDR\\_cna'\n",
       "\\item 'paper\\_MYC\\_cna'\n",
       "\\item 'paper\\_CCND1\\_cna'\n",
       "\\item 'paper\\_CDK4\\_cna'\n",
       "\\item 'paper\\_MDM2\\_cna'\n",
       "\\item 'paper\\_TERT\\_cna'\n",
       "\\item 'paper\\_EP300\\_cna'\n",
       "\\item 'paper\\_NOTCH2\\_cna'\n",
       "\\item 'paper\\_CDKN2A\\_cna'\n",
       "\\item 'paper\\_PTEN\\_cna'\n",
       "\\item 'paper\\_TP53\\_cna'\n",
       "\\item 'paper\\_PPP6C\\_cna'\n",
       "\\item 'paper\\_ARID2\\_cna'\n",
       "\\item 'paper\\_IDH1\\_cna'\n",
       "\\item 'paper\\_MAP2K1\\_cna'\n",
       "\\item 'paper\\_DDX3X\\_cna'\n",
       "\\item 'paper\\_RAC1\\_cna'\n",
       "\\item 'paper\\_NF1\\_cna'\n",
       "\\item 'paper\\_CASP8\\_cna'\n",
       "\\item 'paper\\_CTNNB1\\_cna'\n",
       "\\item 'paper\\_PCDHGA1\\_cna'\n",
       "\\item 'paper\\_SERPINB3\\_cna'\n",
       "\\item 'paper\\_IRF7\\_cna'\n",
       "\\item 'paper\\_HRAS\\_cna'\n",
       "\\item 'paper\\_PTPN11\\_cna'\n",
       "\\item 'paper\\_KRAS\\_cna'\n",
       "\\item 'paper\\_GNA11\\_cna'\n",
       "\\item 'paper\\_GNAQ\\_cna'\n",
       "\\item 'paper\\_AKT1\\_cna'\n",
       "\\item 'paper\\_APC\\_cna'\n",
       "\\item 'paper\\_EZH2\\_cna'\n",
       "\\item 'paper\\_FBXW7\\_cna'\n",
       "\\item 'paper\\_GNAS\\_cna'\n",
       "\\item 'paper\\_PIK3CA\\_cna'\n",
       "\\item 'paper\\_ARID2\\_mut'\n",
       "\\item 'paper\\_BRAF\\_mut'\n",
       "\\item 'paper\\_NRAS\\_mut'\n",
       "\\item 'paper\\_KRAS\\_mut'\n",
       "\\item 'paper\\_HRAS\\_mut'\n",
       "\\item 'paper\\_NF1\\_mut'\n",
       "\\item 'paper\\_IDH1\\_mut'\n",
       "\\item 'paper\\_GNA11\\_mut'\n",
       "\\item 'paper\\_GNAQ\\_mut'\n",
       "\\item 'paper\\_CDK4\\_mut'\n",
       "\\item 'paper\\_CDKN2A\\_mut'\n",
       "\\item 'paper\\_DDX3X\\_mut'\n",
       "\\item 'paper\\_KIT\\_mut'\n",
       "\\item 'paper\\_MAP2K1\\_mut'\n",
       "\\item 'paper\\_PPP6C\\_mut'\n",
       "\\item 'paper\\_PTEN\\_mut'\n",
       "\\item 'paper\\_RAC1\\_mut'\n",
       "\\item 'paper\\_RB1\\_mut'\n",
       "\\item 'paper\\_TP53\\_mut'\n",
       "\\item 'paper\\_TERT\\_MUT'\n",
       "\\item 'paper\\_rnaseq\\_TERT.RSEM.NORM\\_DATA'\n",
       "\\item 'paper\\_rppa\\_LCK.LCK.R.V'\n",
       "\\item 'paper\\_rppa\\_SYK.SYK.M.V'\n",
       "\\item 'paper\\_PIGMENT.SCORE'\n",
       "\\item 'paper\\_NECROSIS'\n",
       "\\item 'paper\\_Tumour.content........nuceli.that.are.tumour.cells......0.100..'\n",
       "\\item 'paper\\_LYMPHOCYTE.DISTRIBUTION'\n",
       "\\item 'paper\\_LYMPHOCYTE.DENSITY'\n",
       "\\item 'paper\\_LYMPHOCYTE.SCORE'\n",
       "\\item 'paper\\_PURITY..ABSOLUTE.'\n",
       "\\item 'paper\\_PLOIDY..ABSOLUTE.'\n",
       "\\item 'paper\\_TOTAL.MUTATIONS'\n",
       "\\item 'paper\\_UV.RATE'\n",
       "\\item 'paper\\_CURATED\\_AGE\\_AT\\_INITIAL\\_PATHOLOGIC\\_DIAGNOSIS'\n",
       "\\item 'paper\\_CURATED\\_AGE\\_AT\\_TCGA\\_SPECIMEN'\n",
       "\\item 'paper\\_GENDER'\n",
       "\\item 'paper\\_CURATED\\_KNOWN\\_PRIMARY'\n",
       "\\item 'paper\\_CURATED\\_SITE\\_OF\\_PRIMARY\\_TUMOR\\_KNOWN\\_PRIMARY\\_ONLY'\n",
       "\\item 'paper\\_CURATED\\_SITE\\_OF\\_PRIMARY\\_TUMOR\\_INCLUDING\\_UNKNOWN'\n",
       "\\item 'paper\\_CURATED\\_BRESLOW'\n",
       "\\item 'paper\\_CURATED\\_ULCERATION'\n",
       "\\item 'paper\\_CURATED\\_T\\_STAGE\\_AT\\_DIAGNOSIS\\_COMPLEX'\n",
       "\\item 'paper\\_CURATED\\_T\\_STAGE\\_AT\\_DIAGNOSIS\\_SIMPLE'\n",
       "\\item 'paper\\_CURATED\\_N\\_STAGE\\_AT\\_DIAGNOSIS\\_COMPLEX'\n",
       "\\item 'paper\\_CURATED\\_N\\_STAGE\\_AT\\_DIAGNOSIS\\_SIMPLE'\n",
       "\\item 'paper\\_CURATED\\_M\\_STAGE\\_AT\\_DIAGNOSIS\\_COMPLEX'\n",
       "\\item 'paper\\_CURATED\\_M\\_STAGE\\_AT\\_DIAGNOSIS\\_SIMPLE'\n",
       "\\item 'paper\\_CURATED\\_PATHOLOGIC\\_STAGE\\_AJCC7\\_AT\\_DIAGNOSIS\\_COMPLEX'\n",
       "\\item 'paper\\_CURATED\\_PATHOLOGIC\\_STAGE\\_AJCC7\\_AT\\_DIAGNOSIS\\_SIMPLE'\n",
       "\\item 'paper\\_CURATED\\_TCGA\\_SPECIMEN\\_SITE'\n",
       "\\item 'paper\\_CURATED\\_DISTANT\\_ANATOMIC\\_SITE'\n",
       "\\item 'paper\\_CURATED\\_VITAL\\_STATUS'\n",
       "\\item 'paper\\_CURATED\\_DAYS\\_TO\\_DEATH\\_OR\\_LAST\\_FU'\n",
       "\\item 'paper\\_CURATED\\_TCGA\\_DAYS\\_TO\\_DEATH\\_OR\\_LAST\\_FU'\n",
       "\\item 'paper\\_CURATED\\_MELANOMA\\_SPECIFIC\\_VITAL\\_STATUS..0....ALIVE.OR.CENSORED...1....DEAD.OF.MELANOMA..'\n",
       "\\item 'paper\\_CURATED\\_TCGA\\_SPECIMEN\\_Distant'\n",
       "\\item 'paper\\_CC.TT.nTotal.Mut'\n",
       "\\item 'paper\\_DIPYRIM.C.T.nTotal.Mut'\n",
       "\\item 'paper\\_DIPYRIM.C.T.n.C.T..mut'\n",
       "\\item 'paper\\_SHATTERSEEK\\_Chromothripsis\\_calls'\n",
       "\\end{enumerate*}\n"
      ],
      "text/markdown": [
       "1. 'barcode'\n",
       "2. 'patient'\n",
       "3. 'sample'\n",
       "4. 'shortLetterCode'\n",
       "5. 'definition'\n",
       "6. 'sample_submitter_id'\n",
       "7. 'sample_type_id'\n",
       "8. 'tumor_descriptor'\n",
       "9. 'sample_id'\n",
       "10. 'sample_type'\n",
       "11. 'composition'\n",
       "12. 'days_to_collection'\n",
       "13. 'state'\n",
       "14. 'initial_weight'\n",
       "15. 'preservation_method'\n",
       "16. 'pathology_report_uuid'\n",
       "17. 'submitter_id'\n",
       "18. 'oct_embedded'\n",
       "19. 'specimen_type'\n",
       "20. 'is_ffpe'\n",
       "21. 'tissue_type'\n",
       "22. 'synchronous_malignancy'\n",
       "23. 'ajcc_pathologic_stage'\n",
       "24. 'days_to_diagnosis'\n",
       "25. 'treatments'\n",
       "26. 'last_known_disease_status'\n",
       "27. 'tissue_or_organ_of_origin'\n",
       "28. 'days_to_last_follow_up'\n",
       "29. 'age_at_diagnosis'\n",
       "30. 'primary_diagnosis'\n",
       "31. 'prior_malignancy'\n",
       "32. 'year_of_diagnosis'\n",
       "33. 'prior_treatment'\n",
       "34. 'ajcc_staging_system_edition'\n",
       "35. 'ajcc_pathologic_t'\n",
       "36. 'morphology'\n",
       "37. 'ajcc_pathologic_n'\n",
       "38. 'ajcc_pathologic_m'\n",
       "39. 'classification_of_tumor'\n",
       "40. 'diagnosis_id'\n",
       "41. 'icd_10_code'\n",
       "42. 'site_of_resection_or_biopsy'\n",
       "43. 'tumor_grade'\n",
       "44. 'progression_or_recurrence'\n",
       "45. 'alcohol_history'\n",
       "46. 'exposure_id'\n",
       "47. 'race'\n",
       "48. 'gender'\n",
       "49. 'ethnicity'\n",
       "50. 'vital_status'\n",
       "51. 'age_at_index'\n",
       "52. 'days_to_birth'\n",
       "53. 'year_of_birth'\n",
       "54. 'demographic_id'\n",
       "55. 'days_to_death'\n",
       "56. 'year_of_death'\n",
       "57. 'bcr_patient_barcode'\n",
       "58. 'primary_site'\n",
       "59. 'project_id'\n",
       "60. 'disease_type'\n",
       "61. 'name'\n",
       "62. 'releasable'\n",
       "63. 'released'\n",
       "64. 'paper_patient'\n",
       "65. 'paper_ALL_SAMPLES'\n",
       "66. 'paper_MUTATIONSUBTYPES'\n",
       "67. 'paper_ALL_PRIMARY_VS_METASTATIC'\n",
       "68. 'paper_REGIONAL_VS_PRIMARY'\n",
       "69. 'paper_UV.signature'\n",
       "70. 'paper_RNASEQ.CLUSTER_CONSENHIER'\n",
       "71. 'paper_MethTypes.201408'\n",
       "72. 'paper_MIRCluster'\n",
       "73. 'paper_ProteinCluster'\n",
       "74. 'paper_OncoSignCluster'\n",
       "75. 'paper_CDKN2A.cg13601799._meth'\n",
       "76. 'paper_KIT.cg10087973._meth'\n",
       "77. 'paper_BRAF_cna'\n",
       "78. 'paper_NRAS_cna'\n",
       "79. 'paper_MITF_cna'\n",
       "80. 'paper_KIT_cna'\n",
       "81. 'paper_PDGFRA_cna'\n",
       "82. 'paper_KDR_cna'\n",
       "83. 'paper_MYC_cna'\n",
       "84. 'paper_CCND1_cna'\n",
       "85. 'paper_CDK4_cna'\n",
       "86. 'paper_MDM2_cna'\n",
       "87. 'paper_TERT_cna'\n",
       "88. 'paper_EP300_cna'\n",
       "89. 'paper_NOTCH2_cna'\n",
       "90. 'paper_CDKN2A_cna'\n",
       "91. 'paper_PTEN_cna'\n",
       "92. 'paper_TP53_cna'\n",
       "93. 'paper_PPP6C_cna'\n",
       "94. 'paper_ARID2_cna'\n",
       "95. 'paper_IDH1_cna'\n",
       "96. 'paper_MAP2K1_cna'\n",
       "97. 'paper_DDX3X_cna'\n",
       "98. 'paper_RAC1_cna'\n",
       "99. 'paper_NF1_cna'\n",
       "100. 'paper_CASP8_cna'\n",
       "101. 'paper_CTNNB1_cna'\n",
       "102. 'paper_PCDHGA1_cna'\n",
       "103. 'paper_SERPINB3_cna'\n",
       "104. 'paper_IRF7_cna'\n",
       "105. 'paper_HRAS_cna'\n",
       "106. 'paper_PTPN11_cna'\n",
       "107. 'paper_KRAS_cna'\n",
       "108. 'paper_GNA11_cna'\n",
       "109. 'paper_GNAQ_cna'\n",
       "110. 'paper_AKT1_cna'\n",
       "111. 'paper_APC_cna'\n",
       "112. 'paper_EZH2_cna'\n",
       "113. 'paper_FBXW7_cna'\n",
       "114. 'paper_GNAS_cna'\n",
       "115. 'paper_PIK3CA_cna'\n",
       "116. 'paper_ARID2_mut'\n",
       "117. 'paper_BRAF_mut'\n",
       "118. 'paper_NRAS_mut'\n",
       "119. 'paper_KRAS_mut'\n",
       "120. 'paper_HRAS_mut'\n",
       "121. 'paper_NF1_mut'\n",
       "122. 'paper_IDH1_mut'\n",
       "123. 'paper_GNA11_mut'\n",
       "124. 'paper_GNAQ_mut'\n",
       "125. 'paper_CDK4_mut'\n",
       "126. 'paper_CDKN2A_mut'\n",
       "127. 'paper_DDX3X_mut'\n",
       "128. 'paper_KIT_mut'\n",
       "129. 'paper_MAP2K1_mut'\n",
       "130. 'paper_PPP6C_mut'\n",
       "131. 'paper_PTEN_mut'\n",
       "132. 'paper_RAC1_mut'\n",
       "133. 'paper_RB1_mut'\n",
       "134. 'paper_TP53_mut'\n",
       "135. 'paper_TERT_MUT'\n",
       "136. 'paper_rnaseq_TERT.RSEM.NORM_DATA'\n",
       "137. 'paper_rppa_LCK.LCK.R.V'\n",
       "138. 'paper_rppa_SYK.SYK.M.V'\n",
       "139. 'paper_PIGMENT.SCORE'\n",
       "140. 'paper_NECROSIS'\n",
       "141. 'paper_Tumour.content........nuceli.that.are.tumour.cells......0.100..'\n",
       "142. 'paper_LYMPHOCYTE.DISTRIBUTION'\n",
       "143. 'paper_LYMPHOCYTE.DENSITY'\n",
       "144. 'paper_LYMPHOCYTE.SCORE'\n",
       "145. 'paper_PURITY..ABSOLUTE.'\n",
       "146. 'paper_PLOIDY..ABSOLUTE.'\n",
       "147. 'paper_TOTAL.MUTATIONS'\n",
       "148. 'paper_UV.RATE'\n",
       "149. 'paper_CURATED_AGE_AT_INITIAL_PATHOLOGIC_DIAGNOSIS'\n",
       "150. 'paper_CURATED_AGE_AT_TCGA_SPECIMEN'\n",
       "151. 'paper_GENDER'\n",
       "152. 'paper_CURATED_KNOWN_PRIMARY'\n",
       "153. 'paper_CURATED_SITE_OF_PRIMARY_TUMOR_KNOWN_PRIMARY_ONLY'\n",
       "154. 'paper_CURATED_SITE_OF_PRIMARY_TUMOR_INCLUDING_UNKNOWN'\n",
       "155. 'paper_CURATED_BRESLOW'\n",
       "156. 'paper_CURATED_ULCERATION'\n",
       "157. 'paper_CURATED_T_STAGE_AT_DIAGNOSIS_COMPLEX'\n",
       "158. 'paper_CURATED_T_STAGE_AT_DIAGNOSIS_SIMPLE'\n",
       "159. 'paper_CURATED_N_STAGE_AT_DIAGNOSIS_COMPLEX'\n",
       "160. 'paper_CURATED_N_STAGE_AT_DIAGNOSIS_SIMPLE'\n",
       "161. 'paper_CURATED_M_STAGE_AT_DIAGNOSIS_COMPLEX'\n",
       "162. 'paper_CURATED_M_STAGE_AT_DIAGNOSIS_SIMPLE'\n",
       "163. 'paper_CURATED_PATHOLOGIC_STAGE_AJCC7_AT_DIAGNOSIS_COMPLEX'\n",
       "164. 'paper_CURATED_PATHOLOGIC_STAGE_AJCC7_AT_DIAGNOSIS_SIMPLE'\n",
       "165. 'paper_CURATED_TCGA_SPECIMEN_SITE'\n",
       "166. 'paper_CURATED_DISTANT_ANATOMIC_SITE'\n",
       "167. 'paper_CURATED_VITAL_STATUS'\n",
       "168. 'paper_CURATED_DAYS_TO_DEATH_OR_LAST_FU'\n",
       "169. 'paper_CURATED_TCGA_DAYS_TO_DEATH_OR_LAST_FU'\n",
       "170. 'paper_CURATED_MELANOMA_SPECIFIC_VITAL_STATUS..0....ALIVE.OR.CENSORED...1....DEAD.OF.MELANOMA..'\n",
       "171. 'paper_CURATED_TCGA_SPECIMEN_Distant'\n",
       "172. 'paper_CC.TT.nTotal.Mut'\n",
       "173. 'paper_DIPYRIM.C.T.nTotal.Mut'\n",
       "174. 'paper_DIPYRIM.C.T.n.C.T..mut'\n",
       "175. 'paper_SHATTERSEEK_Chromothripsis_calls'\n",
       "\n",
       "\n"
      ],
      "text/plain": [
       "  [1] \"barcode\"                                                                                       \n",
       "  [2] \"patient\"                                                                                       \n",
       "  [3] \"sample\"                                                                                        \n",
       "  [4] \"shortLetterCode\"                                                                               \n",
       "  [5] \"definition\"                                                                                    \n",
       "  [6] \"sample_submitter_id\"                                                                           \n",
       "  [7] \"sample_type_id\"                                                                                \n",
       "  [8] \"tumor_descriptor\"                                                                              \n",
       "  [9] \"sample_id\"                                                                                     \n",
       " [10] \"sample_type\"                                                                                   \n",
       " [11] \"composition\"                                                                                   \n",
       " [12] \"days_to_collection\"                                                                            \n",
       " [13] \"state\"                                                                                         \n",
       " [14] \"initial_weight\"                                                                                \n",
       " [15] \"preservation_method\"                                                                           \n",
       " [16] \"pathology_report_uuid\"                                                                         \n",
       " [17] \"submitter_id\"                                                                                  \n",
       " [18] \"oct_embedded\"                                                                                  \n",
       " [19] \"specimen_type\"                                                                                 \n",
       " [20] \"is_ffpe\"                                                                                       \n",
       " [21] \"tissue_type\"                                                                                   \n",
       " [22] \"synchronous_malignancy\"                                                                        \n",
       " [23] \"ajcc_pathologic_stage\"                                                                         \n",
       " [24] \"days_to_diagnosis\"                                                                             \n",
       " [25] \"treatments\"                                                                                    \n",
       " [26] \"last_known_disease_status\"                                                                     \n",
       " [27] \"tissue_or_organ_of_origin\"                                                                     \n",
       " [28] \"days_to_last_follow_up\"                                                                        \n",
       " [29] \"age_at_diagnosis\"                                                                              \n",
       " [30] \"primary_diagnosis\"                                                                             \n",
       " [31] \"prior_malignancy\"                                                                              \n",
       " [32] \"year_of_diagnosis\"                                                                             \n",
       " [33] \"prior_treatment\"                                                                               \n",
       " [34] \"ajcc_staging_system_edition\"                                                                   \n",
       " [35] \"ajcc_pathologic_t\"                                                                             \n",
       " [36] \"morphology\"                                                                                    \n",
       " [37] \"ajcc_pathologic_n\"                                                                             \n",
       " [38] \"ajcc_pathologic_m\"                                                                             \n",
       " [39] \"classification_of_tumor\"                                                                       \n",
       " [40] \"diagnosis_id\"                                                                                  \n",
       " [41] \"icd_10_code\"                                                                                   \n",
       " [42] \"site_of_resection_or_biopsy\"                                                                   \n",
       " [43] \"tumor_grade\"                                                                                   \n",
       " [44] \"progression_or_recurrence\"                                                                     \n",
       " [45] \"alcohol_history\"                                                                               \n",
       " [46] \"exposure_id\"                                                                                   \n",
       " [47] \"race\"                                                                                          \n",
       " [48] \"gender\"                                                                                        \n",
       " [49] \"ethnicity\"                                                                                     \n",
       " [50] \"vital_status\"                                                                                  \n",
       " [51] \"age_at_index\"                                                                                  \n",
       " [52] \"days_to_birth\"                                                                                 \n",
       " [53] \"year_of_birth\"                                                                                 \n",
       " [54] \"demographic_id\"                                                                                \n",
       " [55] \"days_to_death\"                                                                                 \n",
       " [56] \"year_of_death\"                                                                                 \n",
       " [57] \"bcr_patient_barcode\"                                                                           \n",
       " [58] \"primary_site\"                                                                                  \n",
       " [59] \"project_id\"                                                                                    \n",
       " [60] \"disease_type\"                                                                                  \n",
       " [61] \"name\"                                                                                          \n",
       " [62] \"releasable\"                                                                                    \n",
       " [63] \"released\"                                                                                      \n",
       " [64] \"paper_patient\"                                                                                 \n",
       " [65] \"paper_ALL_SAMPLES\"                                                                             \n",
       " [66] \"paper_MUTATIONSUBTYPES\"                                                                        \n",
       " [67] \"paper_ALL_PRIMARY_VS_METASTATIC\"                                                               \n",
       " [68] \"paper_REGIONAL_VS_PRIMARY\"                                                                     \n",
       " [69] \"paper_UV.signature\"                                                                            \n",
       " [70] \"paper_RNASEQ.CLUSTER_CONSENHIER\"                                                               \n",
       " [71] \"paper_MethTypes.201408\"                                                                        \n",
       " [72] \"paper_MIRCluster\"                                                                              \n",
       " [73] \"paper_ProteinCluster\"                                                                          \n",
       " [74] \"paper_OncoSignCluster\"                                                                         \n",
       " [75] \"paper_CDKN2A.cg13601799._meth\"                                                                 \n",
       " [76] \"paper_KIT.cg10087973._meth\"                                                                    \n",
       " [77] \"paper_BRAF_cna\"                                                                                \n",
       " [78] \"paper_NRAS_cna\"                                                                                \n",
       " [79] \"paper_MITF_cna\"                                                                                \n",
       " [80] \"paper_KIT_cna\"                                                                                 \n",
       " [81] \"paper_PDGFRA_cna\"                                                                              \n",
       " [82] \"paper_KDR_cna\"                                                                                 \n",
       " [83] \"paper_MYC_cna\"                                                                                 \n",
       " [84] \"paper_CCND1_cna\"                                                                               \n",
       " [85] \"paper_CDK4_cna\"                                                                                \n",
       " [86] \"paper_MDM2_cna\"                                                                                \n",
       " [87] \"paper_TERT_cna\"                                                                                \n",
       " [88] \"paper_EP300_cna\"                                                                               \n",
       " [89] \"paper_NOTCH2_cna\"                                                                              \n",
       " [90] \"paper_CDKN2A_cna\"                                                                              \n",
       " [91] \"paper_PTEN_cna\"                                                                                \n",
       " [92] \"paper_TP53_cna\"                                                                                \n",
       " [93] \"paper_PPP6C_cna\"                                                                               \n",
       " [94] \"paper_ARID2_cna\"                                                                               \n",
       " [95] \"paper_IDH1_cna\"                                                                                \n",
       " [96] \"paper_MAP2K1_cna\"                                                                              \n",
       " [97] \"paper_DDX3X_cna\"                                                                               \n",
       " [98] \"paper_RAC1_cna\"                                                                                \n",
       " [99] \"paper_NF1_cna\"                                                                                 \n",
       "[100] \"paper_CASP8_cna\"                                                                               \n",
       "[101] \"paper_CTNNB1_cna\"                                                                              \n",
       "[102] \"paper_PCDHGA1_cna\"                                                                             \n",
       "[103] \"paper_SERPINB3_cna\"                                                                            \n",
       "[104] \"paper_IRF7_cna\"                                                                                \n",
       "[105] \"paper_HRAS_cna\"                                                                                \n",
       "[106] \"paper_PTPN11_cna\"                                                                              \n",
       "[107] \"paper_KRAS_cna\"                                                                                \n",
       "[108] \"paper_GNA11_cna\"                                                                               \n",
       "[109] \"paper_GNAQ_cna\"                                                                                \n",
       "[110] \"paper_AKT1_cna\"                                                                                \n",
       "[111] \"paper_APC_cna\"                                                                                 \n",
       "[112] \"paper_EZH2_cna\"                                                                                \n",
       "[113] \"paper_FBXW7_cna\"                                                                               \n",
       "[114] \"paper_GNAS_cna\"                                                                                \n",
       "[115] \"paper_PIK3CA_cna\"                                                                              \n",
       "[116] \"paper_ARID2_mut\"                                                                               \n",
       "[117] \"paper_BRAF_mut\"                                                                                \n",
       "[118] \"paper_NRAS_mut\"                                                                                \n",
       "[119] \"paper_KRAS_mut\"                                                                                \n",
       "[120] \"paper_HRAS_mut\"                                                                                \n",
       "[121] \"paper_NF1_mut\"                                                                                 \n",
       "[122] \"paper_IDH1_mut\"                                                                                \n",
       "[123] \"paper_GNA11_mut\"                                                                               \n",
       "[124] \"paper_GNAQ_mut\"                                                                                \n",
       "[125] \"paper_CDK4_mut\"                                                                                \n",
       "[126] \"paper_CDKN2A_mut\"                                                                              \n",
       "[127] \"paper_DDX3X_mut\"                                                                               \n",
       "[128] \"paper_KIT_mut\"                                                                                 \n",
       "[129] \"paper_MAP2K1_mut\"                                                                              \n",
       "[130] \"paper_PPP6C_mut\"                                                                               \n",
       "[131] \"paper_PTEN_mut\"                                                                                \n",
       "[132] \"paper_RAC1_mut\"                                                                                \n",
       "[133] \"paper_RB1_mut\"                                                                                 \n",
       "[134] \"paper_TP53_mut\"                                                                                \n",
       "[135] \"paper_TERT_MUT\"                                                                                \n",
       "[136] \"paper_rnaseq_TERT.RSEM.NORM_DATA\"                                                              \n",
       "[137] \"paper_rppa_LCK.LCK.R.V\"                                                                        \n",
       "[138] \"paper_rppa_SYK.SYK.M.V\"                                                                        \n",
       "[139] \"paper_PIGMENT.SCORE\"                                                                           \n",
       "[140] \"paper_NECROSIS\"                                                                                \n",
       "[141] \"paper_Tumour.content........nuceli.that.are.tumour.cells......0.100..\"                         \n",
       "[142] \"paper_LYMPHOCYTE.DISTRIBUTION\"                                                                 \n",
       "[143] \"paper_LYMPHOCYTE.DENSITY\"                                                                      \n",
       "[144] \"paper_LYMPHOCYTE.SCORE\"                                                                        \n",
       "[145] \"paper_PURITY..ABSOLUTE.\"                                                                       \n",
       "[146] \"paper_PLOIDY..ABSOLUTE.\"                                                                       \n",
       "[147] \"paper_TOTAL.MUTATIONS\"                                                                         \n",
       "[148] \"paper_UV.RATE\"                                                                                 \n",
       "[149] \"paper_CURATED_AGE_AT_INITIAL_PATHOLOGIC_DIAGNOSIS\"                                             \n",
       "[150] \"paper_CURATED_AGE_AT_TCGA_SPECIMEN\"                                                            \n",
       "[151] \"paper_GENDER\"                                                                                  \n",
       "[152] \"paper_CURATED_KNOWN_PRIMARY\"                                                                   \n",
       "[153] \"paper_CURATED_SITE_OF_PRIMARY_TUMOR_KNOWN_PRIMARY_ONLY\"                                        \n",
       "[154] \"paper_CURATED_SITE_OF_PRIMARY_TUMOR_INCLUDING_UNKNOWN\"                                         \n",
       "[155] \"paper_CURATED_BRESLOW\"                                                                         \n",
       "[156] \"paper_CURATED_ULCERATION\"                                                                      \n",
       "[157] \"paper_CURATED_T_STAGE_AT_DIAGNOSIS_COMPLEX\"                                                    \n",
       "[158] \"paper_CURATED_T_STAGE_AT_DIAGNOSIS_SIMPLE\"                                                     \n",
       "[159] \"paper_CURATED_N_STAGE_AT_DIAGNOSIS_COMPLEX\"                                                    \n",
       "[160] \"paper_CURATED_N_STAGE_AT_DIAGNOSIS_SIMPLE\"                                                     \n",
       "[161] \"paper_CURATED_M_STAGE_AT_DIAGNOSIS_COMPLEX\"                                                    \n",
       "[162] \"paper_CURATED_M_STAGE_AT_DIAGNOSIS_SIMPLE\"                                                     \n",
       "[163] \"paper_CURATED_PATHOLOGIC_STAGE_AJCC7_AT_DIAGNOSIS_COMPLEX\"                                     \n",
       "[164] \"paper_CURATED_PATHOLOGIC_STAGE_AJCC7_AT_DIAGNOSIS_SIMPLE\"                                      \n",
       "[165] \"paper_CURATED_TCGA_SPECIMEN_SITE\"                                                              \n",
       "[166] \"paper_CURATED_DISTANT_ANATOMIC_SITE\"                                                           \n",
       "[167] \"paper_CURATED_VITAL_STATUS\"                                                                    \n",
       "[168] \"paper_CURATED_DAYS_TO_DEATH_OR_LAST_FU\"                                                        \n",
       "[169] \"paper_CURATED_TCGA_DAYS_TO_DEATH_OR_LAST_FU\"                                                   \n",
       "[170] \"paper_CURATED_MELANOMA_SPECIFIC_VITAL_STATUS..0....ALIVE.OR.CENSORED...1....DEAD.OF.MELANOMA..\"\n",
       "[171] \"paper_CURATED_TCGA_SPECIMEN_Distant\"                                                           \n",
       "[172] \"paper_CC.TT.nTotal.Mut\"                                                                        \n",
       "[173] \"paper_DIPYRIM.C.T.nTotal.Mut\"                                                                  \n",
       "[174] \"paper_DIPYRIM.C.T.n.C.T..mut\"                                                                  \n",
       "[175] \"paper_SHATTERSEEK_Chromothripsis_calls\"                                                        "
      ]
     },
     "metadata": {},
     "output_type": "display_data"
    }
   ],
   "source": [
    "#to view the types of data stored for each sample \n",
    "colnames(colData(TCGA_SKCM))"
   ]
  },
  {
   "cell_type": "code",
   "execution_count": 132,
   "metadata": {
    "vscode": {
     "languageId": "r"
    }
   },
   "outputs": [
    {
     "data": {
      "text/html": [
       "<style>\n",
       ".list-inline {list-style: none; margin:0; padding: 0}\n",
       ".list-inline>li {display: inline-block}\n",
       ".list-inline>li:not(:last-child)::after {content: \"\\00b7\"; padding: 0 .5ex}\n",
       "</style>\n",
       "<ol class=list-inline><li>473</li><li>1</li></ol>\n"
      ],
      "text/latex": [
       "\\begin{enumerate*}\n",
       "\\item 473\n",
       "\\item 1\n",
       "\\end{enumerate*}\n"
      ],
      "text/markdown": [
       "1. 473\n",
       "2. 1\n",
       "\n",
       "\n"
      ],
      "text/plain": [
       "[1] 473   1"
      ]
     },
     "metadata": {},
     "output_type": "display_data"
    },
    {
     "data": {
      "text/html": [
       "<table class=\"dataframe\">\n",
       "<caption>A matrix: 6 × 1 of type dbl</caption>\n",
       "<thead>\n",
       "\t<tr><th></th><th scope=col>mat</th></tr>\n",
       "</thead>\n",
       "<tbody>\n",
       "\t<tr><th scope=row>TCGA-ER-A199-06A-11R-A18T-07</th><td> 1.6250178</td></tr>\n",
       "\t<tr><th scope=row>TCGA-EE-A3J5-06A-11R-A20F-07</th><td> 0.4326238</td></tr>\n",
       "\t<tr><th scope=row>TCGA-EE-A2ME-06A-11R-A18T-07</th><td> 2.2378827</td></tr>\n",
       "\t<tr><th scope=row>TCGA-BF-A5ES-01A-11R-A27Q-07</th><td> 0.5636116</td></tr>\n",
       "\t<tr><th scope=row>TCGA-D3-A8GE-06A-11R-A37K-07</th><td>-0.1781152</td></tr>\n",
       "\t<tr><th scope=row>TCGA-EE-A2MG-06A-11R-A18T-07</th><td> 1.6339065</td></tr>\n",
       "</tbody>\n",
       "</table>\n"
      ],
      "text/latex": [
       "A matrix: 6 × 1 of type dbl\n",
       "\\begin{tabular}{r|l}\n",
       "  & mat\\\\\n",
       "\\hline\n",
       "\tTCGA-ER-A199-06A-11R-A18T-07 &  1.6250178\\\\\n",
       "\tTCGA-EE-A3J5-06A-11R-A20F-07 &  0.4326238\\\\\n",
       "\tTCGA-EE-A2ME-06A-11R-A18T-07 &  2.2378827\\\\\n",
       "\tTCGA-BF-A5ES-01A-11R-A27Q-07 &  0.5636116\\\\\n",
       "\tTCGA-D3-A8GE-06A-11R-A37K-07 & -0.1781152\\\\\n",
       "\tTCGA-EE-A2MG-06A-11R-A18T-07 &  1.6339065\\\\\n",
       "\\end{tabular}\n"
      ],
      "text/markdown": [
       "\n",
       "A matrix: 6 × 1 of type dbl\n",
       "\n",
       "| <!--/--> | mat |\n",
       "|---|---|\n",
       "| TCGA-ER-A199-06A-11R-A18T-07 |  1.6250178 |\n",
       "| TCGA-EE-A3J5-06A-11R-A20F-07 |  0.4326238 |\n",
       "| TCGA-EE-A2ME-06A-11R-A18T-07 |  2.2378827 |\n",
       "| TCGA-BF-A5ES-01A-11R-A27Q-07 |  0.5636116 |\n",
       "| TCGA-D3-A8GE-06A-11R-A37K-07 | -0.1781152 |\n",
       "| TCGA-EE-A2MG-06A-11R-A18T-07 |  1.6339065 |\n",
       "\n"
      ],
      "text/plain": [
       "                             mat       \n",
       "TCGA-ER-A199-06A-11R-A18T-07  1.6250178\n",
       "TCGA-EE-A3J5-06A-11R-A20F-07  0.4326238\n",
       "TCGA-EE-A2ME-06A-11R-A18T-07  2.2378827\n",
       "TCGA-BF-A5ES-01A-11R-A27Q-07  0.5636116\n",
       "TCGA-D3-A8GE-06A-11R-A37K-07 -0.1781152\n",
       "TCGA-EE-A2MG-06A-11R-A18T-07  1.6339065"
      ]
     },
     "metadata": {},
     "output_type": "display_data"
    }
   ],
   "source": [
    "#change column name\n",
    "mat <- t(mat)\n",
    "dim(mat)\n",
    "colnames(mat) <- c(\"mat\")\n",
    "head(mat)"
   ]
  },
  {
   "cell_type": "code",
   "execution_count": 133,
   "metadata": {
    "vscode": {
     "languageId": "r"
    }
   },
   "outputs": [
    {
     "data": {
      "text/html": [
       "<table class=\"dataframe\">\n",
       "<caption>A matrix: 6 × 4 of type chr</caption>\n",
       "<thead>\n",
       "\t<tr><th></th><th scope=col>mat</th><th scope=col>Days_to_last_follow_up</th><th scope=col>vital_status</th><th scope=col>days_to_death</th></tr>\n",
       "</thead>\n",
       "<tbody>\n",
       "\t<tr><th scope=row>TCGA-ER-A199-06A-11R-A18T-07</th><td>1.625017819701    </td><td>NA </td><td>Dead </td><td>279 </td></tr>\n",
       "\t<tr><th scope=row>TCGA-EE-A3J5-06A-11R-A20F-07</th><td>0.432623778161379 </td><td>NA </td><td>Dead </td><td>1124</td></tr>\n",
       "\t<tr><th scope=row>TCGA-EE-A2ME-06A-11R-A18T-07</th><td>2.23788265434119  </td><td>NA </td><td>Dead </td><td>3141</td></tr>\n",
       "\t<tr><th scope=row>TCGA-BF-A5ES-01A-11R-A27Q-07</th><td>0.563611582796288 </td><td>490</td><td>Alive</td><td>NA  </td></tr>\n",
       "\t<tr><th scope=row>TCGA-D3-A8GE-06A-11R-A37K-07</th><td>-0.178115245264087</td><td>804</td><td>Alive</td><td>NA  </td></tr>\n",
       "\t<tr><th scope=row>TCGA-EE-A2MG-06A-11R-A18T-07</th><td>1.6339065361582   </td><td>NA </td><td>Dead </td><td>3139</td></tr>\n",
       "</tbody>\n",
       "</table>\n"
      ],
      "text/latex": [
       "A matrix: 6 × 4 of type chr\n",
       "\\begin{tabular}{r|llll}\n",
       "  & mat & Days\\_to\\_last\\_follow\\_up & vital\\_status & days\\_to\\_death\\\\\n",
       "\\hline\n",
       "\tTCGA-ER-A199-06A-11R-A18T-07 & 1.625017819701     & NA  & Dead  & 279 \\\\\n",
       "\tTCGA-EE-A3J5-06A-11R-A20F-07 & 0.432623778161379  & NA  & Dead  & 1124\\\\\n",
       "\tTCGA-EE-A2ME-06A-11R-A18T-07 & 2.23788265434119   & NA  & Dead  & 3141\\\\\n",
       "\tTCGA-BF-A5ES-01A-11R-A27Q-07 & 0.563611582796288  & 490 & Alive & NA  \\\\\n",
       "\tTCGA-D3-A8GE-06A-11R-A37K-07 & -0.178115245264087 & 804 & Alive & NA  \\\\\n",
       "\tTCGA-EE-A2MG-06A-11R-A18T-07 & 1.6339065361582    & NA  & Dead  & 3139\\\\\n",
       "\\end{tabular}\n"
      ],
      "text/markdown": [
       "\n",
       "A matrix: 6 × 4 of type chr\n",
       "\n",
       "| <!--/--> | mat | Days_to_last_follow_up | vital_status | days_to_death |\n",
       "|---|---|---|---|---|\n",
       "| TCGA-ER-A199-06A-11R-A18T-07 | 1.625017819701     | NA  | Dead  | 279  |\n",
       "| TCGA-EE-A3J5-06A-11R-A20F-07 | 0.432623778161379  | NA  | Dead  | 1124 |\n",
       "| TCGA-EE-A2ME-06A-11R-A18T-07 | 2.23788265434119   | NA  | Dead  | 3141 |\n",
       "| TCGA-BF-A5ES-01A-11R-A27Q-07 | 0.563611582796288  | 490 | Alive | NA   |\n",
       "| TCGA-D3-A8GE-06A-11R-A37K-07 | -0.178115245264087 | 804 | Alive | NA   |\n",
       "| TCGA-EE-A2MG-06A-11R-A18T-07 | 1.6339065361582    | NA  | Dead  | 3139 |\n",
       "\n"
      ],
      "text/plain": [
       "                             mat                Days_to_last_follow_up\n",
       "TCGA-ER-A199-06A-11R-A18T-07 1.625017819701     NA                    \n",
       "TCGA-EE-A3J5-06A-11R-A20F-07 0.432623778161379  NA                    \n",
       "TCGA-EE-A2ME-06A-11R-A18T-07 2.23788265434119   NA                    \n",
       "TCGA-BF-A5ES-01A-11R-A27Q-07 0.563611582796288  490                   \n",
       "TCGA-D3-A8GE-06A-11R-A37K-07 -0.178115245264087 804                   \n",
       "TCGA-EE-A2MG-06A-11R-A18T-07 1.6339065361582    NA                    \n",
       "                             vital_status days_to_death\n",
       "TCGA-ER-A199-06A-11R-A18T-07 Dead         279          \n",
       "TCGA-EE-A3J5-06A-11R-A20F-07 Dead         1124         \n",
       "TCGA-EE-A2ME-06A-11R-A18T-07 Dead         3141         \n",
       "TCGA-BF-A5ES-01A-11R-A27Q-07 Alive        NA           \n",
       "TCGA-D3-A8GE-06A-11R-A37K-07 Alive        NA           \n",
       "TCGA-EE-A2MG-06A-11R-A18T-07 Dead         3139         "
      ]
     },
     "metadata": {},
     "output_type": "display_data"
    }
   ],
   "source": [
    "#now look at days to death, plot K-M curved grouped by groups of mat score \n",
    "###following this tutorial: https://www.youtube.com/watch?v=DnygUTAZFmM\n",
    "\n",
    "#making a matrix with all the data I need\n",
    "death_days <- colData(TCGA_SKCM)$days_to_death\n",
    "names(death_days) <- row.names(colData(TCGA_SKCM))\n",
    "followup_days <- colData(TCGA_SKCM)$days_to_last_follow_up\n",
    "names(followup_days) <- row.names(colData(TCGA_SKCM))\n",
    "status <- colData(TCGA_SKCM)$vital_status\n",
    "names(status) <- row.names(colData(TCGA_SKCM))\n",
    "\n",
    "concat_survival <- cbind(mat,followup_days,status,death_days)\n",
    "colnames(concat_survival) <- c(\"mat\",\"Days_to_last_follow_up\",\"vital_status\",\"days_to_death\")\n",
    "head(concat_survival) \n",
    "concat_survival <- as.data.frame(concat_survival)\n",
    "#now I have a table with the above variables for each patient"
   ]
  },
  {
   "cell_type": "code",
   "execution_count": 134,
   "metadata": {
    "vscode": {
     "languageId": "r"
    }
   },
   "outputs": [
    {
     "data": {
      "text/html": [
       "<table class=\"dataframe\">\n",
       "<caption>A data.frame: 6 × 5</caption>\n",
       "<thead>\n",
       "\t<tr><th></th><th scope=col>mat</th><th scope=col>Days_to_last_follow_up</th><th scope=col>vital_status</th><th scope=col>days_to_death</th><th scope=col>deceased</th></tr>\n",
       "\t<tr><th></th><th scope=col>&lt;chr&gt;</th><th scope=col>&lt;chr&gt;</th><th scope=col>&lt;chr&gt;</th><th scope=col>&lt;chr&gt;</th><th scope=col>&lt;lgl&gt;</th></tr>\n",
       "</thead>\n",
       "<tbody>\n",
       "\t<tr><th scope=row>TCGA-ER-A199-06A-11R-A18T-07</th><td>1.625017819701    </td><td>NA </td><td>Dead </td><td>279 </td><td> TRUE</td></tr>\n",
       "\t<tr><th scope=row>TCGA-EE-A3J5-06A-11R-A20F-07</th><td>0.432623778161379 </td><td>NA </td><td>Dead </td><td>1124</td><td> TRUE</td></tr>\n",
       "\t<tr><th scope=row>TCGA-EE-A2ME-06A-11R-A18T-07</th><td>2.23788265434119  </td><td>NA </td><td>Dead </td><td>3141</td><td> TRUE</td></tr>\n",
       "\t<tr><th scope=row>TCGA-BF-A5ES-01A-11R-A27Q-07</th><td>0.563611582796288 </td><td>490</td><td>Alive</td><td>NA  </td><td>FALSE</td></tr>\n",
       "\t<tr><th scope=row>TCGA-D3-A8GE-06A-11R-A37K-07</th><td>-0.178115245264087</td><td>804</td><td>Alive</td><td>NA  </td><td>FALSE</td></tr>\n",
       "\t<tr><th scope=row>TCGA-EE-A2MG-06A-11R-A18T-07</th><td>1.6339065361582   </td><td>NA </td><td>Dead </td><td>3139</td><td> TRUE</td></tr>\n",
       "</tbody>\n",
       "</table>\n"
      ],
      "text/latex": [
       "A data.frame: 6 × 5\n",
       "\\begin{tabular}{r|lllll}\n",
       "  & mat & Days\\_to\\_last\\_follow\\_up & vital\\_status & days\\_to\\_death & deceased\\\\\n",
       "  & <chr> & <chr> & <chr> & <chr> & <lgl>\\\\\n",
       "\\hline\n",
       "\tTCGA-ER-A199-06A-11R-A18T-07 & 1.625017819701     & NA  & Dead  & 279  &  TRUE\\\\\n",
       "\tTCGA-EE-A3J5-06A-11R-A20F-07 & 0.432623778161379  & NA  & Dead  & 1124 &  TRUE\\\\\n",
       "\tTCGA-EE-A2ME-06A-11R-A18T-07 & 2.23788265434119   & NA  & Dead  & 3141 &  TRUE\\\\\n",
       "\tTCGA-BF-A5ES-01A-11R-A27Q-07 & 0.563611582796288  & 490 & Alive & NA   & FALSE\\\\\n",
       "\tTCGA-D3-A8GE-06A-11R-A37K-07 & -0.178115245264087 & 804 & Alive & NA   & FALSE\\\\\n",
       "\tTCGA-EE-A2MG-06A-11R-A18T-07 & 1.6339065361582    & NA  & Dead  & 3139 &  TRUE\\\\\n",
       "\\end{tabular}\n"
      ],
      "text/markdown": [
       "\n",
       "A data.frame: 6 × 5\n",
       "\n",
       "| <!--/--> | mat &lt;chr&gt; | Days_to_last_follow_up &lt;chr&gt; | vital_status &lt;chr&gt; | days_to_death &lt;chr&gt; | deceased &lt;lgl&gt; |\n",
       "|---|---|---|---|---|---|\n",
       "| TCGA-ER-A199-06A-11R-A18T-07 | 1.625017819701     | NA  | Dead  | 279  |  TRUE |\n",
       "| TCGA-EE-A3J5-06A-11R-A20F-07 | 0.432623778161379  | NA  | Dead  | 1124 |  TRUE |\n",
       "| TCGA-EE-A2ME-06A-11R-A18T-07 | 2.23788265434119   | NA  | Dead  | 3141 |  TRUE |\n",
       "| TCGA-BF-A5ES-01A-11R-A27Q-07 | 0.563611582796288  | 490 | Alive | NA   | FALSE |\n",
       "| TCGA-D3-A8GE-06A-11R-A37K-07 | -0.178115245264087 | 804 | Alive | NA   | FALSE |\n",
       "| TCGA-EE-A2MG-06A-11R-A18T-07 | 1.6339065361582    | NA  | Dead  | 3139 |  TRUE |\n",
       "\n"
      ],
      "text/plain": [
       "                             mat                Days_to_last_follow_up\n",
       "TCGA-ER-A199-06A-11R-A18T-07 1.625017819701     NA                    \n",
       "TCGA-EE-A3J5-06A-11R-A20F-07 0.432623778161379  NA                    \n",
       "TCGA-EE-A2ME-06A-11R-A18T-07 2.23788265434119   NA                    \n",
       "TCGA-BF-A5ES-01A-11R-A27Q-07 0.563611582796288  490                   \n",
       "TCGA-D3-A8GE-06A-11R-A37K-07 -0.178115245264087 804                   \n",
       "TCGA-EE-A2MG-06A-11R-A18T-07 1.6339065361582    NA                    \n",
       "                             vital_status days_to_death deceased\n",
       "TCGA-ER-A199-06A-11R-A18T-07 Dead         279            TRUE   \n",
       "TCGA-EE-A3J5-06A-11R-A20F-07 Dead         1124           TRUE   \n",
       "TCGA-EE-A2ME-06A-11R-A18T-07 Dead         3141           TRUE   \n",
       "TCGA-BF-A5ES-01A-11R-A27Q-07 Alive        NA            FALSE   \n",
       "TCGA-D3-A8GE-06A-11R-A37K-07 Alive        NA            FALSE   \n",
       "TCGA-EE-A2MG-06A-11R-A18T-07 Dead         3139           TRUE   "
      ]
     },
     "metadata": {},
     "output_type": "display_data"
    }
   ],
   "source": [
    "#make a new column that records whether or not deceased, this will be needed for status in survival anakysis (for censoring)\n",
    "concat_survival$deceased <- ifelse(concat_survival$vital_status == \"Alive\", FALSE, TRUE)\n",
    "head(concat_survival)"
   ]
  },
  {
   "cell_type": "code",
   "execution_count": 135,
   "metadata": {
    "vscode": {
     "languageId": "r"
    }
   },
   "outputs": [
    {
     "data": {
      "text/html": [
       "<table class=\"dataframe\">\n",
       "<caption>A data.frame: 6 × 6</caption>\n",
       "<thead>\n",
       "\t<tr><th></th><th scope=col>mat</th><th scope=col>Days_to_last_follow_up</th><th scope=col>vital_status</th><th scope=col>days_to_death</th><th scope=col>deceased</th><th scope=col>overall_survival</th></tr>\n",
       "\t<tr><th></th><th scope=col>&lt;chr&gt;</th><th scope=col>&lt;chr&gt;</th><th scope=col>&lt;chr&gt;</th><th scope=col>&lt;chr&gt;</th><th scope=col>&lt;lgl&gt;</th><th scope=col>&lt;dbl&gt;</th></tr>\n",
       "</thead>\n",
       "<tbody>\n",
       "\t<tr><th scope=row>TCGA-ER-A199-06A-11R-A18T-07</th><td>1.625017819701    </td><td>NA </td><td>Dead </td><td>279 </td><td> TRUE</td><td> 279</td></tr>\n",
       "\t<tr><th scope=row>TCGA-EE-A3J5-06A-11R-A20F-07</th><td>0.432623778161379 </td><td>NA </td><td>Dead </td><td>1124</td><td> TRUE</td><td>1124</td></tr>\n",
       "\t<tr><th scope=row>TCGA-EE-A2ME-06A-11R-A18T-07</th><td>2.23788265434119  </td><td>NA </td><td>Dead </td><td>3141</td><td> TRUE</td><td>3141</td></tr>\n",
       "\t<tr><th scope=row>TCGA-BF-A5ES-01A-11R-A27Q-07</th><td>0.563611582796288 </td><td>490</td><td>Alive</td><td>NA  </td><td>FALSE</td><td> 490</td></tr>\n",
       "\t<tr><th scope=row>TCGA-D3-A8GE-06A-11R-A37K-07</th><td>-0.178115245264087</td><td>804</td><td>Alive</td><td>NA  </td><td>FALSE</td><td> 804</td></tr>\n",
       "\t<tr><th scope=row>TCGA-EE-A2MG-06A-11R-A18T-07</th><td>1.6339065361582   </td><td>NA </td><td>Dead </td><td>3139</td><td> TRUE</td><td>3139</td></tr>\n",
       "</tbody>\n",
       "</table>\n"
      ],
      "text/latex": [
       "A data.frame: 6 × 6\n",
       "\\begin{tabular}{r|llllll}\n",
       "  & mat & Days\\_to\\_last\\_follow\\_up & vital\\_status & days\\_to\\_death & deceased & overall\\_survival\\\\\n",
       "  & <chr> & <chr> & <chr> & <chr> & <lgl> & <dbl>\\\\\n",
       "\\hline\n",
       "\tTCGA-ER-A199-06A-11R-A18T-07 & 1.625017819701     & NA  & Dead  & 279  &  TRUE &  279\\\\\n",
       "\tTCGA-EE-A3J5-06A-11R-A20F-07 & 0.432623778161379  & NA  & Dead  & 1124 &  TRUE & 1124\\\\\n",
       "\tTCGA-EE-A2ME-06A-11R-A18T-07 & 2.23788265434119   & NA  & Dead  & 3141 &  TRUE & 3141\\\\\n",
       "\tTCGA-BF-A5ES-01A-11R-A27Q-07 & 0.563611582796288  & 490 & Alive & NA   & FALSE &  490\\\\\n",
       "\tTCGA-D3-A8GE-06A-11R-A37K-07 & -0.178115245264087 & 804 & Alive & NA   & FALSE &  804\\\\\n",
       "\tTCGA-EE-A2MG-06A-11R-A18T-07 & 1.6339065361582    & NA  & Dead  & 3139 &  TRUE & 3139\\\\\n",
       "\\end{tabular}\n"
      ],
      "text/markdown": [
       "\n",
       "A data.frame: 6 × 6\n",
       "\n",
       "| <!--/--> | mat &lt;chr&gt; | Days_to_last_follow_up &lt;chr&gt; | vital_status &lt;chr&gt; | days_to_death &lt;chr&gt; | deceased &lt;lgl&gt; | overall_survival &lt;dbl&gt; |\n",
       "|---|---|---|---|---|---|---|\n",
       "| TCGA-ER-A199-06A-11R-A18T-07 | 1.625017819701     | NA  | Dead  | 279  |  TRUE |  279 |\n",
       "| TCGA-EE-A3J5-06A-11R-A20F-07 | 0.432623778161379  | NA  | Dead  | 1124 |  TRUE | 1124 |\n",
       "| TCGA-EE-A2ME-06A-11R-A18T-07 | 2.23788265434119   | NA  | Dead  | 3141 |  TRUE | 3141 |\n",
       "| TCGA-BF-A5ES-01A-11R-A27Q-07 | 0.563611582796288  | 490 | Alive | NA   | FALSE |  490 |\n",
       "| TCGA-D3-A8GE-06A-11R-A37K-07 | -0.178115245264087 | 804 | Alive | NA   | FALSE |  804 |\n",
       "| TCGA-EE-A2MG-06A-11R-A18T-07 | 1.6339065361582    | NA  | Dead  | 3139 |  TRUE | 3139 |\n",
       "\n"
      ],
      "text/plain": [
       "                             mat                Days_to_last_follow_up\n",
       "TCGA-ER-A199-06A-11R-A18T-07 1.625017819701     NA                    \n",
       "TCGA-EE-A3J5-06A-11R-A20F-07 0.432623778161379  NA                    \n",
       "TCGA-EE-A2ME-06A-11R-A18T-07 2.23788265434119   NA                    \n",
       "TCGA-BF-A5ES-01A-11R-A27Q-07 0.563611582796288  490                   \n",
       "TCGA-D3-A8GE-06A-11R-A37K-07 -0.178115245264087 804                   \n",
       "TCGA-EE-A2MG-06A-11R-A18T-07 1.6339065361582    NA                    \n",
       "                             vital_status days_to_death deceased\n",
       "TCGA-ER-A199-06A-11R-A18T-07 Dead         279            TRUE   \n",
       "TCGA-EE-A3J5-06A-11R-A20F-07 Dead         1124           TRUE   \n",
       "TCGA-EE-A2ME-06A-11R-A18T-07 Dead         3141           TRUE   \n",
       "TCGA-BF-A5ES-01A-11R-A27Q-07 Alive        NA            FALSE   \n",
       "TCGA-D3-A8GE-06A-11R-A37K-07 Alive        NA            FALSE   \n",
       "TCGA-EE-A2MG-06A-11R-A18T-07 Dead         3139           TRUE   \n",
       "                             overall_survival\n",
       "TCGA-ER-A199-06A-11R-A18T-07  279            \n",
       "TCGA-EE-A3J5-06A-11R-A20F-07 1124            \n",
       "TCGA-EE-A2ME-06A-11R-A18T-07 3141            \n",
       "TCGA-BF-A5ES-01A-11R-A27Q-07  490            \n",
       "TCGA-D3-A8GE-06A-11R-A37K-07  804            \n",
       "TCGA-EE-A2MG-06A-11R-A18T-07 3139            "
      ]
     },
     "metadata": {},
     "output_type": "display_data"
    }
   ],
   "source": [
    "#next need to make a \"overall survival\" column that is equal to days to death for dead patients and to days to last follow up for patients who are still alive \n",
    "concat_survival$overall_survival <- ifelse(concat_survival$vital_status == \"Alive\",\n",
    "                                           concat_survival$Days_to_last_follow_up,\n",
    "                                           concat_survival$days_to_death)\n",
    "\n",
    "#convert overall_survival to numeric\n",
    "concat_survival$overall_survival <- as.numeric(concat_survival$overall_survival)\n",
    "\n",
    "head(concat_survival)"
   ]
  },
  {
   "cell_type": "code",
   "execution_count": 136,
   "metadata": {
    "vscode": {
     "languageId": "r"
    }
   },
   "outputs": [],
   "source": [
    "# load packages needed for survival analysis\n",
    "library(survival)\n",
    "library(survminer)"
   ]
  },
  {
   "cell_type": "code",
   "execution_count": 137,
   "metadata": {
    "vscode": {
     "languageId": "r"
    }
   },
   "outputs": [
    {
     "data": {
      "text/html": [
       "<table class=\"dataframe\">\n",
       "<caption>A data.frame: 6 × 7</caption>\n",
       "<thead>\n",
       "\t<tr><th></th><th scope=col>mat</th><th scope=col>Days_to_last_follow_up</th><th scope=col>vital_status</th><th scope=col>days_to_death</th><th scope=col>deceased</th><th scope=col>overall_survival</th><th scope=col>strata</th></tr>\n",
       "\t<tr><th></th><th scope=col>&lt;chr&gt;</th><th scope=col>&lt;chr&gt;</th><th scope=col>&lt;chr&gt;</th><th scope=col>&lt;chr&gt;</th><th scope=col>&lt;lgl&gt;</th><th scope=col>&lt;dbl&gt;</th><th scope=col>&lt;chr&gt;</th></tr>\n",
       "</thead>\n",
       "<tbody>\n",
       "\t<tr><th scope=row>TCGA-ER-A199-06A-11R-A18T-07</th><td>1.625017819701    </td><td>NA </td><td>Dead </td><td>279 </td><td> TRUE</td><td> 279</td><td>Top 33%   </td></tr>\n",
       "\t<tr><th scope=row>TCGA-EE-A3J5-06A-11R-A20F-07</th><td>0.432623778161379 </td><td>NA </td><td>Dead </td><td>1124</td><td> TRUE</td><td>1124</td><td>Middle    </td></tr>\n",
       "\t<tr><th scope=row>TCGA-EE-A2ME-06A-11R-A18T-07</th><td>2.23788265434119  </td><td>NA </td><td>Dead </td><td>3141</td><td> TRUE</td><td>3141</td><td>Top 33%   </td></tr>\n",
       "\t<tr><th scope=row>TCGA-BF-A5ES-01A-11R-A27Q-07</th><td>0.563611582796288 </td><td>490</td><td>Alive</td><td>NA  </td><td>FALSE</td><td> 490</td><td>Top 33%   </td></tr>\n",
       "\t<tr><th scope=row>TCGA-D3-A8GE-06A-11R-A37K-07</th><td>-0.178115245264087</td><td>804</td><td>Alive</td><td>NA  </td><td>FALSE</td><td> 804</td><td>Bottom 33%</td></tr>\n",
       "\t<tr><th scope=row>TCGA-EE-A2MG-06A-11R-A18T-07</th><td>1.6339065361582   </td><td>NA </td><td>Dead </td><td>3139</td><td> TRUE</td><td>3139</td><td>Top 33%   </td></tr>\n",
       "</tbody>\n",
       "</table>\n"
      ],
      "text/latex": [
       "A data.frame: 6 × 7\n",
       "\\begin{tabular}{r|lllllll}\n",
       "  & mat & Days\\_to\\_last\\_follow\\_up & vital\\_status & days\\_to\\_death & deceased & overall\\_survival & strata\\\\\n",
       "  & <chr> & <chr> & <chr> & <chr> & <lgl> & <dbl> & <chr>\\\\\n",
       "\\hline\n",
       "\tTCGA-ER-A199-06A-11R-A18T-07 & 1.625017819701     & NA  & Dead  & 279  &  TRUE &  279 & Top 33\\%   \\\\\n",
       "\tTCGA-EE-A3J5-06A-11R-A20F-07 & 0.432623778161379  & NA  & Dead  & 1124 &  TRUE & 1124 & Middle    \\\\\n",
       "\tTCGA-EE-A2ME-06A-11R-A18T-07 & 2.23788265434119   & NA  & Dead  & 3141 &  TRUE & 3141 & Top 33\\%   \\\\\n",
       "\tTCGA-BF-A5ES-01A-11R-A27Q-07 & 0.563611582796288  & 490 & Alive & NA   & FALSE &  490 & Top 33\\%   \\\\\n",
       "\tTCGA-D3-A8GE-06A-11R-A37K-07 & -0.178115245264087 & 804 & Alive & NA   & FALSE &  804 & Bottom 33\\%\\\\\n",
       "\tTCGA-EE-A2MG-06A-11R-A18T-07 & 1.6339065361582    & NA  & Dead  & 3139 &  TRUE & 3139 & Top 33\\%   \\\\\n",
       "\\end{tabular}\n"
      ],
      "text/markdown": [
       "\n",
       "A data.frame: 6 × 7\n",
       "\n",
       "| <!--/--> | mat &lt;chr&gt; | Days_to_last_follow_up &lt;chr&gt; | vital_status &lt;chr&gt; | days_to_death &lt;chr&gt; | deceased &lt;lgl&gt; | overall_survival &lt;dbl&gt; | strata &lt;chr&gt; |\n",
       "|---|---|---|---|---|---|---|---|\n",
       "| TCGA-ER-A199-06A-11R-A18T-07 | 1.625017819701     | NA  | Dead  | 279  |  TRUE |  279 | Top 33%    |\n",
       "| TCGA-EE-A3J5-06A-11R-A20F-07 | 0.432623778161379  | NA  | Dead  | 1124 |  TRUE | 1124 | Middle     |\n",
       "| TCGA-EE-A2ME-06A-11R-A18T-07 | 2.23788265434119   | NA  | Dead  | 3141 |  TRUE | 3141 | Top 33%    |\n",
       "| TCGA-BF-A5ES-01A-11R-A27Q-07 | 0.563611582796288  | 490 | Alive | NA   | FALSE |  490 | Top 33%    |\n",
       "| TCGA-D3-A8GE-06A-11R-A37K-07 | -0.178115245264087 | 804 | Alive | NA   | FALSE |  804 | Bottom 33% |\n",
       "| TCGA-EE-A2MG-06A-11R-A18T-07 | 1.6339065361582    | NA  | Dead  | 3139 |  TRUE | 3139 | Top 33%    |\n",
       "\n"
      ],
      "text/plain": [
       "                             mat                Days_to_last_follow_up\n",
       "TCGA-ER-A199-06A-11R-A18T-07 1.625017819701     NA                    \n",
       "TCGA-EE-A3J5-06A-11R-A20F-07 0.432623778161379  NA                    \n",
       "TCGA-EE-A2ME-06A-11R-A18T-07 2.23788265434119   NA                    \n",
       "TCGA-BF-A5ES-01A-11R-A27Q-07 0.563611582796288  490                   \n",
       "TCGA-D3-A8GE-06A-11R-A37K-07 -0.178115245264087 804                   \n",
       "TCGA-EE-A2MG-06A-11R-A18T-07 1.6339065361582    NA                    \n",
       "                             vital_status days_to_death deceased\n",
       "TCGA-ER-A199-06A-11R-A18T-07 Dead         279            TRUE   \n",
       "TCGA-EE-A3J5-06A-11R-A20F-07 Dead         1124           TRUE   \n",
       "TCGA-EE-A2ME-06A-11R-A18T-07 Dead         3141           TRUE   \n",
       "TCGA-BF-A5ES-01A-11R-A27Q-07 Alive        NA            FALSE   \n",
       "TCGA-D3-A8GE-06A-11R-A37K-07 Alive        NA            FALSE   \n",
       "TCGA-EE-A2MG-06A-11R-A18T-07 Dead         3139           TRUE   \n",
       "                             overall_survival strata    \n",
       "TCGA-ER-A199-06A-11R-A18T-07  279             Top 33%   \n",
       "TCGA-EE-A3J5-06A-11R-A20F-07 1124             Middle    \n",
       "TCGA-EE-A2ME-06A-11R-A18T-07 3141             Top 33%   \n",
       "TCGA-BF-A5ES-01A-11R-A27Q-07  490             Top 33%   \n",
       "TCGA-D3-A8GE-06A-11R-A37K-07  804             Bottom 33%\n",
       "TCGA-EE-A2MG-06A-11R-A18T-07 3139             Top 33%   "
      ]
     },
     "metadata": {},
     "output_type": "display_data"
    }
   ],
   "source": [
    "#fitting survival curve - prepare data: \n",
    "\n",
    "# for my analysis I wanted to plot top vs bottom third on my KM plot, but could also split 50/50 if you wanted\n",
    "# make variable for either top 33% or bottom 33% mat score\n",
    "#calculate 66th percentile (above this is top 33%) and 33rd percentile (below this is bottom 33%)\n",
    "perc_66 <- quantile(mat, probs = c(0.66))\n",
    "perc_33 <- quantile(mat, probs = c(0.33))\n",
    "\n",
    "concat_survival_Full <- concat_survival\n",
    "concat_survival_Full$strata <- ifelse(concat_survival_Full$mat < perc_33, \"Bottom 33%\",\n",
    "                                  ifelse(concat_survival_Full$mat >perc_66, \"Top 33%\", \"Middle\"))\n",
    "\n",
    "head(concat_survival_Full)"
   ]
  },
  {
   "cell_type": "code",
   "execution_count": 138,
   "metadata": {
    "vscode": {
     "languageId": "r"
    }
   },
   "outputs": [
    {
     "data": {
      "text/html": [
       "<table class=\"dataframe\">\n",
       "<caption>A data.frame: 6 × 7</caption>\n",
       "<thead>\n",
       "\t<tr><th></th><th scope=col>mat</th><th scope=col>Days_to_last_follow_up</th><th scope=col>vital_status</th><th scope=col>days_to_death</th><th scope=col>deceased</th><th scope=col>overall_survival</th><th scope=col>strata</th></tr>\n",
       "\t<tr><th></th><th scope=col>&lt;chr&gt;</th><th scope=col>&lt;chr&gt;</th><th scope=col>&lt;chr&gt;</th><th scope=col>&lt;chr&gt;</th><th scope=col>&lt;lgl&gt;</th><th scope=col>&lt;dbl&gt;</th><th scope=col>&lt;chr&gt;</th></tr>\n",
       "</thead>\n",
       "<tbody>\n",
       "\t<tr><th scope=row>TCGA-ER-A199-06A-11R-A18T-07</th><td>1.625017819701    </td><td>NA  </td><td>Dead </td><td>279 </td><td> TRUE</td><td> 279</td><td>Top 33%   </td></tr>\n",
       "\t<tr><th scope=row>TCGA-EE-A2ME-06A-11R-A18T-07</th><td>2.23788265434119  </td><td>NA  </td><td>Dead </td><td>3141</td><td> TRUE</td><td>3141</td><td>Top 33%   </td></tr>\n",
       "\t<tr><th scope=row>TCGA-BF-A5ES-01A-11R-A27Q-07</th><td>0.563611582796288 </td><td>490 </td><td>Alive</td><td>NA  </td><td>FALSE</td><td> 490</td><td>Top 33%   </td></tr>\n",
       "\t<tr><th scope=row>TCGA-D3-A8GE-06A-11R-A37K-07</th><td>-0.178115245264087</td><td>804 </td><td>Alive</td><td>NA  </td><td>FALSE</td><td> 804</td><td>Bottom 33%</td></tr>\n",
       "\t<tr><th scope=row>TCGA-EE-A2MG-06A-11R-A18T-07</th><td>1.6339065361582   </td><td>NA  </td><td>Dead </td><td>3139</td><td> TRUE</td><td>3139</td><td>Top 33%   </td></tr>\n",
       "\t<tr><th scope=row>TCGA-EE-A2MR-06A-11R-A18S-07</th><td>1.90757028928521  </td><td>4088</td><td>Alive</td><td>NA  </td><td>FALSE</td><td>4088</td><td>Top 33%   </td></tr>\n",
       "</tbody>\n",
       "</table>\n"
      ],
      "text/latex": [
       "A data.frame: 6 × 7\n",
       "\\begin{tabular}{r|lllllll}\n",
       "  & mat & Days\\_to\\_last\\_follow\\_up & vital\\_status & days\\_to\\_death & deceased & overall\\_survival & strata\\\\\n",
       "  & <chr> & <chr> & <chr> & <chr> & <lgl> & <dbl> & <chr>\\\\\n",
       "\\hline\n",
       "\tTCGA-ER-A199-06A-11R-A18T-07 & 1.625017819701     & NA   & Dead  & 279  &  TRUE &  279 & Top 33\\%   \\\\\n",
       "\tTCGA-EE-A2ME-06A-11R-A18T-07 & 2.23788265434119   & NA   & Dead  & 3141 &  TRUE & 3141 & Top 33\\%   \\\\\n",
       "\tTCGA-BF-A5ES-01A-11R-A27Q-07 & 0.563611582796288  & 490  & Alive & NA   & FALSE &  490 & Top 33\\%   \\\\\n",
       "\tTCGA-D3-A8GE-06A-11R-A37K-07 & -0.178115245264087 & 804  & Alive & NA   & FALSE &  804 & Bottom 33\\%\\\\\n",
       "\tTCGA-EE-A2MG-06A-11R-A18T-07 & 1.6339065361582    & NA   & Dead  & 3139 &  TRUE & 3139 & Top 33\\%   \\\\\n",
       "\tTCGA-EE-A2MR-06A-11R-A18S-07 & 1.90757028928521   & 4088 & Alive & NA   & FALSE & 4088 & Top 33\\%   \\\\\n",
       "\\end{tabular}\n"
      ],
      "text/markdown": [
       "\n",
       "A data.frame: 6 × 7\n",
       "\n",
       "| <!--/--> | mat &lt;chr&gt; | Days_to_last_follow_up &lt;chr&gt; | vital_status &lt;chr&gt; | days_to_death &lt;chr&gt; | deceased &lt;lgl&gt; | overall_survival &lt;dbl&gt; | strata &lt;chr&gt; |\n",
       "|---|---|---|---|---|---|---|---|\n",
       "| TCGA-ER-A199-06A-11R-A18T-07 | 1.625017819701     | NA   | Dead  | 279  |  TRUE |  279 | Top 33%    |\n",
       "| TCGA-EE-A2ME-06A-11R-A18T-07 | 2.23788265434119   | NA   | Dead  | 3141 |  TRUE | 3141 | Top 33%    |\n",
       "| TCGA-BF-A5ES-01A-11R-A27Q-07 | 0.563611582796288  | 490  | Alive | NA   | FALSE |  490 | Top 33%    |\n",
       "| TCGA-D3-A8GE-06A-11R-A37K-07 | -0.178115245264087 | 804  | Alive | NA   | FALSE |  804 | Bottom 33% |\n",
       "| TCGA-EE-A2MG-06A-11R-A18T-07 | 1.6339065361582    | NA   | Dead  | 3139 |  TRUE | 3139 | Top 33%    |\n",
       "| TCGA-EE-A2MR-06A-11R-A18S-07 | 1.90757028928521   | 4088 | Alive | NA   | FALSE | 4088 | Top 33%    |\n",
       "\n"
      ],
      "text/plain": [
       "                             mat                Days_to_last_follow_up\n",
       "TCGA-ER-A199-06A-11R-A18T-07 1.625017819701     NA                    \n",
       "TCGA-EE-A2ME-06A-11R-A18T-07 2.23788265434119   NA                    \n",
       "TCGA-BF-A5ES-01A-11R-A27Q-07 0.563611582796288  490                   \n",
       "TCGA-D3-A8GE-06A-11R-A37K-07 -0.178115245264087 804                   \n",
       "TCGA-EE-A2MG-06A-11R-A18T-07 1.6339065361582    NA                    \n",
       "TCGA-EE-A2MR-06A-11R-A18S-07 1.90757028928521   4088                  \n",
       "                             vital_status days_to_death deceased\n",
       "TCGA-ER-A199-06A-11R-A18T-07 Dead         279            TRUE   \n",
       "TCGA-EE-A2ME-06A-11R-A18T-07 Dead         3141           TRUE   \n",
       "TCGA-BF-A5ES-01A-11R-A27Q-07 Alive        NA            FALSE   \n",
       "TCGA-D3-A8GE-06A-11R-A37K-07 Alive        NA            FALSE   \n",
       "TCGA-EE-A2MG-06A-11R-A18T-07 Dead         3139           TRUE   \n",
       "TCGA-EE-A2MR-06A-11R-A18S-07 Alive        NA            FALSE   \n",
       "                             overall_survival strata    \n",
       "TCGA-ER-A199-06A-11R-A18T-07  279             Top 33%   \n",
       "TCGA-EE-A2ME-06A-11R-A18T-07 3141             Top 33%   \n",
       "TCGA-BF-A5ES-01A-11R-A27Q-07  490             Top 33%   \n",
       "TCGA-D3-A8GE-06A-11R-A37K-07  804             Bottom 33%\n",
       "TCGA-EE-A2MG-06A-11R-A18T-07 3139             Top 33%   \n",
       "TCGA-EE-A2MR-06A-11R-A18S-07 4088             Top 33%   "
      ]
     },
     "metadata": {},
     "output_type": "display_data"
    }
   ],
   "source": [
    "#need to remove middle strata from plot\n",
    "concat_survival_Full <- concat_survival_Full %>% filter(strata %in% c(\"Top 33%\", \"Bottom 33%\"))\n",
    "head(concat_survival_Full)"
   ]
  },
  {
   "cell_type": "code",
   "execution_count": 139,
   "metadata": {
    "vscode": {
     "languageId": "r"
    }
   },
   "outputs": [
    {
     "data": {
      "text/plain": [
       "Call: survfit(formula = Surv(overall_survival, deceased) ~ strata, \n",
       "    data = concat_survival_Full)\n",
       "\n",
       "   3 observations deleted due to missingness \n",
       "                    n events median 0.95LCL 0.95UCL\n",
       "strata=Bottom 33%  85     43   2028    1429    3564\n",
       "strata=Top 33%    159     63   3141    2402    6590"
      ]
     },
     "metadata": {},
     "output_type": "display_data"
    }
   ],
   "source": [
    "#Fit survival curve\n",
    "fit <- survfit(Surv(overall_survival, deceased) ~ strata, data = concat_survival_Full)\n",
    "fit"
   ]
  },
  {
   "cell_type": "code",
   "execution_count": 140,
   "metadata": {
    "vscode": {
     "languageId": "r"
    }
   },
   "outputs": [
    {
     "data": {
      "image/png": "[encoded data removed]",
      "text/plain": [
       "plot without title"
      ]
     },
     "metadata": {
      "image/png": {
       "height": 360,
       "width": 480
      }
     },
     "output_type": "display_data"
    }
   ],
   "source": [
    "#generate survival plot\n",
    "options(repr.plot.height=6, repr.plot.width=8)\n",
    "ggsurvplot(fit,\n",
    "           data = concat_survival_Full,\n",
    "           pval = T,\n",
    "           risk.table = T,\n",
    "           conf.int = TRUE)"
   ]
  },
  {
   "cell_type": "markdown",
   "metadata": {},
   "source": [
    "## Plot based on primary vs mets"
   ]
  },
  {
   "cell_type": "code",
   "execution_count": 141,
   "metadata": {
    "vscode": {
     "languageId": "r"
    }
   },
   "outputs": [
    {
     "data": {
      "text/html": [
       "<table class=\"dataframe\">\n",
       "<caption>A data.frame: 6 × 6</caption>\n",
       "<thead>\n",
       "\t<tr><th></th><th scope=col>mat</th><th scope=col>Days_to_last_follow_up</th><th scope=col>vital_status</th><th scope=col>days_to_death</th><th scope=col>deceased</th><th scope=col>overall_survival</th></tr>\n",
       "\t<tr><th></th><th scope=col>&lt;chr&gt;</th><th scope=col>&lt;chr&gt;</th><th scope=col>&lt;chr&gt;</th><th scope=col>&lt;chr&gt;</th><th scope=col>&lt;lgl&gt;</th><th scope=col>&lt;dbl&gt;</th></tr>\n",
       "</thead>\n",
       "<tbody>\n",
       "\t<tr><th scope=row>TCGA-ER-A199-06A-11R-A18T-07</th><td>1.625017819701    </td><td>NA </td><td>Dead </td><td>279 </td><td> TRUE</td><td> 279</td></tr>\n",
       "\t<tr><th scope=row>TCGA-EE-A3J5-06A-11R-A20F-07</th><td>0.432623778161379 </td><td>NA </td><td>Dead </td><td>1124</td><td> TRUE</td><td>1124</td></tr>\n",
       "\t<tr><th scope=row>TCGA-EE-A2ME-06A-11R-A18T-07</th><td>2.23788265434119  </td><td>NA </td><td>Dead </td><td>3141</td><td> TRUE</td><td>3141</td></tr>\n",
       "\t<tr><th scope=row>TCGA-BF-A5ES-01A-11R-A27Q-07</th><td>0.563611582796288 </td><td>490</td><td>Alive</td><td>NA  </td><td>FALSE</td><td> 490</td></tr>\n",
       "\t<tr><th scope=row>TCGA-D3-A8GE-06A-11R-A37K-07</th><td>-0.178115245264087</td><td>804</td><td>Alive</td><td>NA  </td><td>FALSE</td><td> 804</td></tr>\n",
       "\t<tr><th scope=row>TCGA-EE-A2MG-06A-11R-A18T-07</th><td>1.6339065361582   </td><td>NA </td><td>Dead </td><td>3139</td><td> TRUE</td><td>3139</td></tr>\n",
       "</tbody>\n",
       "</table>\n"
      ],
      "text/latex": [
       "A data.frame: 6 × 6\n",
       "\\begin{tabular}{r|llllll}\n",
       "  & mat & Days\\_to\\_last\\_follow\\_up & vital\\_status & days\\_to\\_death & deceased & overall\\_survival\\\\\n",
       "  & <chr> & <chr> & <chr> & <chr> & <lgl> & <dbl>\\\\\n",
       "\\hline\n",
       "\tTCGA-ER-A199-06A-11R-A18T-07 & 1.625017819701     & NA  & Dead  & 279  &  TRUE &  279\\\\\n",
       "\tTCGA-EE-A3J5-06A-11R-A20F-07 & 0.432623778161379  & NA  & Dead  & 1124 &  TRUE & 1124\\\\\n",
       "\tTCGA-EE-A2ME-06A-11R-A18T-07 & 2.23788265434119   & NA  & Dead  & 3141 &  TRUE & 3141\\\\\n",
       "\tTCGA-BF-A5ES-01A-11R-A27Q-07 & 0.563611582796288  & 490 & Alive & NA   & FALSE &  490\\\\\n",
       "\tTCGA-D3-A8GE-06A-11R-A37K-07 & -0.178115245264087 & 804 & Alive & NA   & FALSE &  804\\\\\n",
       "\tTCGA-EE-A2MG-06A-11R-A18T-07 & 1.6339065361582    & NA  & Dead  & 3139 &  TRUE & 3139\\\\\n",
       "\\end{tabular}\n"
      ],
      "text/markdown": [
       "\n",
       "A data.frame: 6 × 6\n",
       "\n",
       "| <!--/--> | mat &lt;chr&gt; | Days_to_last_follow_up &lt;chr&gt; | vital_status &lt;chr&gt; | days_to_death &lt;chr&gt; | deceased &lt;lgl&gt; | overall_survival &lt;dbl&gt; |\n",
       "|---|---|---|---|---|---|---|\n",
       "| TCGA-ER-A199-06A-11R-A18T-07 | 1.625017819701     | NA  | Dead  | 279  |  TRUE |  279 |\n",
       "| TCGA-EE-A3J5-06A-11R-A20F-07 | 0.432623778161379  | NA  | Dead  | 1124 |  TRUE | 1124 |\n",
       "| TCGA-EE-A2ME-06A-11R-A18T-07 | 2.23788265434119   | NA  | Dead  | 3141 |  TRUE | 3141 |\n",
       "| TCGA-BF-A5ES-01A-11R-A27Q-07 | 0.563611582796288  | 490 | Alive | NA   | FALSE |  490 |\n",
       "| TCGA-D3-A8GE-06A-11R-A37K-07 | -0.178115245264087 | 804 | Alive | NA   | FALSE |  804 |\n",
       "| TCGA-EE-A2MG-06A-11R-A18T-07 | 1.6339065361582    | NA  | Dead  | 3139 |  TRUE | 3139 |\n",
       "\n"
      ],
      "text/plain": [
       "                             mat                Days_to_last_follow_up\n",
       "TCGA-ER-A199-06A-11R-A18T-07 1.625017819701     NA                    \n",
       "TCGA-EE-A3J5-06A-11R-A20F-07 0.432623778161379  NA                    \n",
       "TCGA-EE-A2ME-06A-11R-A18T-07 2.23788265434119   NA                    \n",
       "TCGA-BF-A5ES-01A-11R-A27Q-07 0.563611582796288  490                   \n",
       "TCGA-D3-A8GE-06A-11R-A37K-07 -0.178115245264087 804                   \n",
       "TCGA-EE-A2MG-06A-11R-A18T-07 1.6339065361582    NA                    \n",
       "                             vital_status days_to_death deceased\n",
       "TCGA-ER-A199-06A-11R-A18T-07 Dead         279            TRUE   \n",
       "TCGA-EE-A3J5-06A-11R-A20F-07 Dead         1124           TRUE   \n",
       "TCGA-EE-A2ME-06A-11R-A18T-07 Dead         3141           TRUE   \n",
       "TCGA-BF-A5ES-01A-11R-A27Q-07 Alive        NA            FALSE   \n",
       "TCGA-D3-A8GE-06A-11R-A37K-07 Alive        NA            FALSE   \n",
       "TCGA-EE-A2MG-06A-11R-A18T-07 Dead         3139           TRUE   \n",
       "                             overall_survival\n",
       "TCGA-ER-A199-06A-11R-A18T-07  279            \n",
       "TCGA-EE-A3J5-06A-11R-A20F-07 1124            \n",
       "TCGA-EE-A2ME-06A-11R-A18T-07 3141            \n",
       "TCGA-BF-A5ES-01A-11R-A27Q-07  490            \n",
       "TCGA-D3-A8GE-06A-11R-A37K-07  804            \n",
       "TCGA-EE-A2MG-06A-11R-A18T-07 3139            "
      ]
     },
     "metadata": {},
     "output_type": "display_data"
    }
   ],
   "source": [
    "head(concat_survival)"
   ]
  },
  {
   "cell_type": "code",
   "execution_count": 142,
   "metadata": {
    "vscode": {
     "languageId": "r"
    }
   },
   "outputs": [
    {
     "data": {
      "text/html": [
       "<table class=\"dataframe\">\n",
       "<caption>A data.frame: 6 × 7</caption>\n",
       "<thead>\n",
       "\t<tr><th></th><th scope=col>mat</th><th scope=col>Days_to_last_follow_up</th><th scope=col>vital_status</th><th scope=col>days_to_death</th><th scope=col>deceased</th><th scope=col>overall_survival</th><th scope=col>sample_type</th></tr>\n",
       "\t<tr><th></th><th scope=col>&lt;chr&gt;</th><th scope=col>&lt;chr&gt;</th><th scope=col>&lt;chr&gt;</th><th scope=col>&lt;chr&gt;</th><th scope=col>&lt;lgl&gt;</th><th scope=col>&lt;dbl&gt;</th><th scope=col>&lt;chr&gt;</th></tr>\n",
       "</thead>\n",
       "<tbody>\n",
       "\t<tr><th scope=row>TCGA-ER-A199-06A-11R-A18T-07</th><td>1.625017819701    </td><td>NA </td><td>Dead </td><td>279 </td><td> TRUE</td><td> 279</td><td>Metastatic   </td></tr>\n",
       "\t<tr><th scope=row>TCGA-EE-A3J5-06A-11R-A20F-07</th><td>0.432623778161379 </td><td>NA </td><td>Dead </td><td>1124</td><td> TRUE</td><td>1124</td><td>Metastatic   </td></tr>\n",
       "\t<tr><th scope=row>TCGA-EE-A2ME-06A-11R-A18T-07</th><td>2.23788265434119  </td><td>NA </td><td>Dead </td><td>3141</td><td> TRUE</td><td>3141</td><td>Metastatic   </td></tr>\n",
       "\t<tr><th scope=row>TCGA-BF-A5ES-01A-11R-A27Q-07</th><td>0.563611582796288 </td><td>490</td><td>Alive</td><td>NA  </td><td>FALSE</td><td> 490</td><td>Primary Tumor</td></tr>\n",
       "\t<tr><th scope=row>TCGA-D3-A8GE-06A-11R-A37K-07</th><td>-0.178115245264087</td><td>804</td><td>Alive</td><td>NA  </td><td>FALSE</td><td> 804</td><td>Metastatic   </td></tr>\n",
       "\t<tr><th scope=row>TCGA-EE-A2MG-06A-11R-A18T-07</th><td>1.6339065361582   </td><td>NA </td><td>Dead </td><td>3139</td><td> TRUE</td><td>3139</td><td>Metastatic   </td></tr>\n",
       "</tbody>\n",
       "</table>\n"
      ],
      "text/latex": [
       "A data.frame: 6 × 7\n",
       "\\begin{tabular}{r|lllllll}\n",
       "  & mat & Days\\_to\\_last\\_follow\\_up & vital\\_status & days\\_to\\_death & deceased & overall\\_survival & sample\\_type\\\\\n",
       "  & <chr> & <chr> & <chr> & <chr> & <lgl> & <dbl> & <chr>\\\\\n",
       "\\hline\n",
       "\tTCGA-ER-A199-06A-11R-A18T-07 & 1.625017819701     & NA  & Dead  & 279  &  TRUE &  279 & Metastatic   \\\\\n",
       "\tTCGA-EE-A3J5-06A-11R-A20F-07 & 0.432623778161379  & NA  & Dead  & 1124 &  TRUE & 1124 & Metastatic   \\\\\n",
       "\tTCGA-EE-A2ME-06A-11R-A18T-07 & 2.23788265434119   & NA  & Dead  & 3141 &  TRUE & 3141 & Metastatic   \\\\\n",
       "\tTCGA-BF-A5ES-01A-11R-A27Q-07 & 0.563611582796288  & 490 & Alive & NA   & FALSE &  490 & Primary Tumor\\\\\n",
       "\tTCGA-D3-A8GE-06A-11R-A37K-07 & -0.178115245264087 & 804 & Alive & NA   & FALSE &  804 & Metastatic   \\\\\n",
       "\tTCGA-EE-A2MG-06A-11R-A18T-07 & 1.6339065361582    & NA  & Dead  & 3139 &  TRUE & 3139 & Metastatic   \\\\\n",
       "\\end{tabular}\n"
      ],
      "text/markdown": [
       "\n",
       "A data.frame: 6 × 7\n",
       "\n",
       "| <!--/--> | mat &lt;chr&gt; | Days_to_last_follow_up &lt;chr&gt; | vital_status &lt;chr&gt; | days_to_death &lt;chr&gt; | deceased &lt;lgl&gt; | overall_survival &lt;dbl&gt; | sample_type &lt;chr&gt; |\n",
       "|---|---|---|---|---|---|---|---|\n",
       "| TCGA-ER-A199-06A-11R-A18T-07 | 1.625017819701     | NA  | Dead  | 279  |  TRUE |  279 | Metastatic    |\n",
       "| TCGA-EE-A3J5-06A-11R-A20F-07 | 0.432623778161379  | NA  | Dead  | 1124 |  TRUE | 1124 | Metastatic    |\n",
       "| TCGA-EE-A2ME-06A-11R-A18T-07 | 2.23788265434119   | NA  | Dead  | 3141 |  TRUE | 3141 | Metastatic    |\n",
       "| TCGA-BF-A5ES-01A-11R-A27Q-07 | 0.563611582796288  | 490 | Alive | NA   | FALSE |  490 | Primary Tumor |\n",
       "| TCGA-D3-A8GE-06A-11R-A37K-07 | -0.178115245264087 | 804 | Alive | NA   | FALSE |  804 | Metastatic    |\n",
       "| TCGA-EE-A2MG-06A-11R-A18T-07 | 1.6339065361582    | NA  | Dead  | 3139 |  TRUE | 3139 | Metastatic    |\n",
       "\n"
      ],
      "text/plain": [
       "                             mat                Days_to_last_follow_up\n",
       "TCGA-ER-A199-06A-11R-A18T-07 1.625017819701     NA                    \n",
       "TCGA-EE-A3J5-06A-11R-A20F-07 0.432623778161379  NA                    \n",
       "TCGA-EE-A2ME-06A-11R-A18T-07 2.23788265434119   NA                    \n",
       "TCGA-BF-A5ES-01A-11R-A27Q-07 0.563611582796288  490                   \n",
       "TCGA-D3-A8GE-06A-11R-A37K-07 -0.178115245264087 804                   \n",
       "TCGA-EE-A2MG-06A-11R-A18T-07 1.6339065361582    NA                    \n",
       "                             vital_status days_to_death deceased\n",
       "TCGA-ER-A199-06A-11R-A18T-07 Dead         279            TRUE   \n",
       "TCGA-EE-A3J5-06A-11R-A20F-07 Dead         1124           TRUE   \n",
       "TCGA-EE-A2ME-06A-11R-A18T-07 Dead         3141           TRUE   \n",
       "TCGA-BF-A5ES-01A-11R-A27Q-07 Alive        NA            FALSE   \n",
       "TCGA-D3-A8GE-06A-11R-A37K-07 Alive        NA            FALSE   \n",
       "TCGA-EE-A2MG-06A-11R-A18T-07 Dead         3139           TRUE   \n",
       "                             overall_survival sample_type  \n",
       "TCGA-ER-A199-06A-11R-A18T-07  279             Metastatic   \n",
       "TCGA-EE-A3J5-06A-11R-A20F-07 1124             Metastatic   \n",
       "TCGA-EE-A2ME-06A-11R-A18T-07 3141             Metastatic   \n",
       "TCGA-BF-A5ES-01A-11R-A27Q-07  490             Primary Tumor\n",
       "TCGA-D3-A8GE-06A-11R-A37K-07  804             Metastatic   \n",
       "TCGA-EE-A2MG-06A-11R-A18T-07 3139             Metastatic   "
      ]
     },
     "metadata": {},
     "output_type": "display_data"
    }
   ],
   "source": [
    "sample_type <- colData(TCGA_SKCM)$sample_type\n",
    "names(sample_type) <- row.names(colData(TCGA_SKCM))\n",
    "\n",
    "concat_survival_Type <- cbind(concat_survival,sample_type)\n",
    "head(concat_survival_Type) \n",
    "concat_survival_Type <- as.data.frame(concat_survival_Type)"
   ]
  },
  {
   "cell_type": "code",
   "execution_count": 143,
   "metadata": {
    "vscode": {
     "languageId": "r"
    }
   },
   "outputs": [
    {
     "data": {
      "text/plain": [
       "Call: survfit(formula = Surv(overall_survival, deceased) ~ sample_type, \n",
       "    data = concat_survival_Type)\n",
       "\n",
       "   10 observations deleted due to missingness \n",
       "                                    n events median 0.95LCL 0.95UCL\n",
       "sample_type=Additional Metastatic   1      0     NA      NA      NA\n",
       "sample_type=Metastatic            358    193   2711    2071    3424\n",
       "sample_type=Primary Tumor         103     29    877     821      NA\n",
       "sample_type=Solid Tissue Normal     1      0     NA      NA      NA"
      ]
     },
     "metadata": {},
     "output_type": "display_data"
    }
   ],
   "source": [
    "#Fit survival curve\n",
    "fit <- survfit(Surv(overall_survival, deceased) ~ sample_type, data = concat_survival_Type)\n",
    "fit"
   ]
  },
  {
   "cell_type": "code",
   "execution_count": 146,
   "metadata": {
    "vscode": {
     "languageId": "r"
    }
   },
   "outputs": [
    {
     "data": {
      "image/png": "[encoded data removed]",
      "text/plain": [
       "plot without title"
      ]
     },
     "metadata": {
      "image/png": {
       "height": 720,
       "width": 900
      }
     },
     "output_type": "display_data"
    }
   ],
   "source": [
    "#generate survival plot\n",
    "options(repr.plot.height=12, repr.plot.width=15)\n",
    "ggsurvplot(fit,\n",
    "           data = concat_survival_Type,\n",
    "           pval = T,\n",
    "           risk.table = T,\n",
    "           conf.int = TRUE)"
   ]
  },
  {
   "cell_type": "code",
   "execution_count": 147,
   "metadata": {
    "vscode": {
     "languageId": "r"
    }
   },
   "outputs": [
    {
     "data": {
      "text/html": [
       "<table class=\"dataframe\">\n",
       "<caption>A data.frame: 6 × 7</caption>\n",
       "<thead>\n",
       "\t<tr><th></th><th scope=col>mat</th><th scope=col>Days_to_last_follow_up</th><th scope=col>vital_status</th><th scope=col>days_to_death</th><th scope=col>deceased</th><th scope=col>overall_survival</th><th scope=col>sample_type</th></tr>\n",
       "\t<tr><th></th><th scope=col>&lt;chr&gt;</th><th scope=col>&lt;chr&gt;</th><th scope=col>&lt;chr&gt;</th><th scope=col>&lt;chr&gt;</th><th scope=col>&lt;lgl&gt;</th><th scope=col>&lt;dbl&gt;</th><th scope=col>&lt;chr&gt;</th></tr>\n",
       "</thead>\n",
       "<tbody>\n",
       "\t<tr><th scope=row>TCGA-ER-A199-06A-11R-A18T-07</th><td>1.625017819701    </td><td>NA </td><td>Dead </td><td>279 </td><td> TRUE</td><td> 279</td><td>Metastatic   </td></tr>\n",
       "\t<tr><th scope=row>TCGA-EE-A3J5-06A-11R-A20F-07</th><td>0.432623778161379 </td><td>NA </td><td>Dead </td><td>1124</td><td> TRUE</td><td>1124</td><td>Metastatic   </td></tr>\n",
       "\t<tr><th scope=row>TCGA-EE-A2ME-06A-11R-A18T-07</th><td>2.23788265434119  </td><td>NA </td><td>Dead </td><td>3141</td><td> TRUE</td><td>3141</td><td>Metastatic   </td></tr>\n",
       "\t<tr><th scope=row>TCGA-BF-A5ES-01A-11R-A27Q-07</th><td>0.563611582796288 </td><td>490</td><td>Alive</td><td>NA  </td><td>FALSE</td><td> 490</td><td>Primary Tumor</td></tr>\n",
       "\t<tr><th scope=row>TCGA-D3-A8GE-06A-11R-A37K-07</th><td>-0.178115245264087</td><td>804</td><td>Alive</td><td>NA  </td><td>FALSE</td><td> 804</td><td>Metastatic   </td></tr>\n",
       "\t<tr><th scope=row>TCGA-EE-A2MG-06A-11R-A18T-07</th><td>1.6339065361582   </td><td>NA </td><td>Dead </td><td>3139</td><td> TRUE</td><td>3139</td><td>Metastatic   </td></tr>\n",
       "</tbody>\n",
       "</table>\n"
      ],
      "text/latex": [
       "A data.frame: 6 × 7\n",
       "\\begin{tabular}{r|lllllll}\n",
       "  & mat & Days\\_to\\_last\\_follow\\_up & vital\\_status & days\\_to\\_death & deceased & overall\\_survival & sample\\_type\\\\\n",
       "  & <chr> & <chr> & <chr> & <chr> & <lgl> & <dbl> & <chr>\\\\\n",
       "\\hline\n",
       "\tTCGA-ER-A199-06A-11R-A18T-07 & 1.625017819701     & NA  & Dead  & 279  &  TRUE &  279 & Metastatic   \\\\\n",
       "\tTCGA-EE-A3J5-06A-11R-A20F-07 & 0.432623778161379  & NA  & Dead  & 1124 &  TRUE & 1124 & Metastatic   \\\\\n",
       "\tTCGA-EE-A2ME-06A-11R-A18T-07 & 2.23788265434119   & NA  & Dead  & 3141 &  TRUE & 3141 & Metastatic   \\\\\n",
       "\tTCGA-BF-A5ES-01A-11R-A27Q-07 & 0.563611582796288  & 490 & Alive & NA   & FALSE &  490 & Primary Tumor\\\\\n",
       "\tTCGA-D3-A8GE-06A-11R-A37K-07 & -0.178115245264087 & 804 & Alive & NA   & FALSE &  804 & Metastatic   \\\\\n",
       "\tTCGA-EE-A2MG-06A-11R-A18T-07 & 1.6339065361582    & NA  & Dead  & 3139 &  TRUE & 3139 & Metastatic   \\\\\n",
       "\\end{tabular}\n"
      ],
      "text/markdown": [
       "\n",
       "A data.frame: 6 × 7\n",
       "\n",
       "| <!--/--> | mat &lt;chr&gt; | Days_to_last_follow_up &lt;chr&gt; | vital_status &lt;chr&gt; | days_to_death &lt;chr&gt; | deceased &lt;lgl&gt; | overall_survival &lt;dbl&gt; | sample_type &lt;chr&gt; |\n",
       "|---|---|---|---|---|---|---|---|\n",
       "| TCGA-ER-A199-06A-11R-A18T-07 | 1.625017819701     | NA  | Dead  | 279  |  TRUE |  279 | Metastatic    |\n",
       "| TCGA-EE-A3J5-06A-11R-A20F-07 | 0.432623778161379  | NA  | Dead  | 1124 |  TRUE | 1124 | Metastatic    |\n",
       "| TCGA-EE-A2ME-06A-11R-A18T-07 | 2.23788265434119   | NA  | Dead  | 3141 |  TRUE | 3141 | Metastatic    |\n",
       "| TCGA-BF-A5ES-01A-11R-A27Q-07 | 0.563611582796288  | 490 | Alive | NA   | FALSE |  490 | Primary Tumor |\n",
       "| TCGA-D3-A8GE-06A-11R-A37K-07 | -0.178115245264087 | 804 | Alive | NA   | FALSE |  804 | Metastatic    |\n",
       "| TCGA-EE-A2MG-06A-11R-A18T-07 | 1.6339065361582    | NA  | Dead  | 3139 |  TRUE | 3139 | Metastatic    |\n",
       "\n"
      ],
      "text/plain": [
       "                             mat                Days_to_last_follow_up\n",
       "TCGA-ER-A199-06A-11R-A18T-07 1.625017819701     NA                    \n",
       "TCGA-EE-A3J5-06A-11R-A20F-07 0.432623778161379  NA                    \n",
       "TCGA-EE-A2ME-06A-11R-A18T-07 2.23788265434119   NA                    \n",
       "TCGA-BF-A5ES-01A-11R-A27Q-07 0.563611582796288  490                   \n",
       "TCGA-D3-A8GE-06A-11R-A37K-07 -0.178115245264087 804                   \n",
       "TCGA-EE-A2MG-06A-11R-A18T-07 1.6339065361582    NA                    \n",
       "                             vital_status days_to_death deceased\n",
       "TCGA-ER-A199-06A-11R-A18T-07 Dead         279            TRUE   \n",
       "TCGA-EE-A3J5-06A-11R-A20F-07 Dead         1124           TRUE   \n",
       "TCGA-EE-A2ME-06A-11R-A18T-07 Dead         3141           TRUE   \n",
       "TCGA-BF-A5ES-01A-11R-A27Q-07 Alive        NA            FALSE   \n",
       "TCGA-D3-A8GE-06A-11R-A37K-07 Alive        NA            FALSE   \n",
       "TCGA-EE-A2MG-06A-11R-A18T-07 Dead         3139           TRUE   \n",
       "                             overall_survival sample_type  \n",
       "TCGA-ER-A199-06A-11R-A18T-07  279             Metastatic   \n",
       "TCGA-EE-A3J5-06A-11R-A20F-07 1124             Metastatic   \n",
       "TCGA-EE-A2ME-06A-11R-A18T-07 3141             Metastatic   \n",
       "TCGA-BF-A5ES-01A-11R-A27Q-07  490             Primary Tumor\n",
       "TCGA-D3-A8GE-06A-11R-A37K-07  804             Metastatic   \n",
       "TCGA-EE-A2MG-06A-11R-A18T-07 3139             Metastatic   "
      ]
     },
     "metadata": {},
     "output_type": "display_data"
    }
   ],
   "source": [
    "head(concat_survival_Type) "
   ]
  },
  {
   "cell_type": "code",
   "execution_count": 154,
   "metadata": {
    "vscode": {
     "languageId": "r"
    }
   },
   "outputs": [
    {
     "data": {
      "text/html": [
       "<table class=\"dataframe\">\n",
       "<caption>A matrix: 6 × 1 of type dbl</caption>\n",
       "<thead>\n",
       "\t<tr><th></th><th scope=col>mat</th></tr>\n",
       "</thead>\n",
       "<tbody>\n",
       "\t<tr><th scope=row>TCGA-ER-A199-06A-11R-A18T-07</th><td> 1.6250178</td></tr>\n",
       "\t<tr><th scope=row>TCGA-EE-A3J5-06A-11R-A20F-07</th><td> 0.4326238</td></tr>\n",
       "\t<tr><th scope=row>TCGA-EE-A2ME-06A-11R-A18T-07</th><td> 2.2378827</td></tr>\n",
       "\t<tr><th scope=row>TCGA-BF-A5ES-01A-11R-A27Q-07</th><td> 0.5636116</td></tr>\n",
       "\t<tr><th scope=row>TCGA-D3-A8GE-06A-11R-A37K-07</th><td>-0.1781152</td></tr>\n",
       "\t<tr><th scope=row>TCGA-EE-A2MG-06A-11R-A18T-07</th><td> 1.6339065</td></tr>\n",
       "</tbody>\n",
       "</table>\n"
      ],
      "text/latex": [
       "A matrix: 6 × 1 of type dbl\n",
       "\\begin{tabular}{r|l}\n",
       "  & mat\\\\\n",
       "\\hline\n",
       "\tTCGA-ER-A199-06A-11R-A18T-07 &  1.6250178\\\\\n",
       "\tTCGA-EE-A3J5-06A-11R-A20F-07 &  0.4326238\\\\\n",
       "\tTCGA-EE-A2ME-06A-11R-A18T-07 &  2.2378827\\\\\n",
       "\tTCGA-BF-A5ES-01A-11R-A27Q-07 &  0.5636116\\\\\n",
       "\tTCGA-D3-A8GE-06A-11R-A37K-07 & -0.1781152\\\\\n",
       "\tTCGA-EE-A2MG-06A-11R-A18T-07 &  1.6339065\\\\\n",
       "\\end{tabular}\n"
      ],
      "text/markdown": [
       "\n",
       "A matrix: 6 × 1 of type dbl\n",
       "\n",
       "| <!--/--> | mat |\n",
       "|---|---|\n",
       "| TCGA-ER-A199-06A-11R-A18T-07 |  1.6250178 |\n",
       "| TCGA-EE-A3J5-06A-11R-A20F-07 |  0.4326238 |\n",
       "| TCGA-EE-A2ME-06A-11R-A18T-07 |  2.2378827 |\n",
       "| TCGA-BF-A5ES-01A-11R-A27Q-07 |  0.5636116 |\n",
       "| TCGA-D3-A8GE-06A-11R-A37K-07 | -0.1781152 |\n",
       "| TCGA-EE-A2MG-06A-11R-A18T-07 |  1.6339065 |\n",
       "\n"
      ],
      "text/plain": [
       "                             mat       \n",
       "TCGA-ER-A199-06A-11R-A18T-07  1.6250178\n",
       "TCGA-EE-A3J5-06A-11R-A20F-07  0.4326238\n",
       "TCGA-EE-A2ME-06A-11R-A18T-07  2.2378827\n",
       "TCGA-BF-A5ES-01A-11R-A27Q-07  0.5636116\n",
       "TCGA-D3-A8GE-06A-11R-A37K-07 -0.1781152\n",
       "TCGA-EE-A2MG-06A-11R-A18T-07  1.6339065"
      ]
     },
     "metadata": {},
     "output_type": "display_data"
    }
   ],
   "source": [
    "head(mat)"
   ]
  },
  {
   "cell_type": "code",
   "execution_count": 155,
   "metadata": {
    "vscode": {
     "languageId": "r"
    }
   },
   "outputs": [
    {
     "data": {
      "text/html": [
       "<style>\n",
       ".dl-inline {width: auto; margin:0; padding: 0}\n",
       ".dl-inline>dt, .dl-inline>dd {float: none; width: auto; display: inline-block}\n",
       ".dl-inline>dt::after {content: \":\\0020\"; padding-right: .5ex}\n",
       ".dl-inline>dt:not(:first-of-type) {padding-left: .5ex}\n",
       "</style><dl class=dl-inline><dt>TCGA-ER-A199-06A-11R-A18T-07</dt><dd>'Metastatic'</dd><dt>TCGA-EE-A3J5-06A-11R-A20F-07</dt><dd>'Metastatic'</dd><dt>TCGA-EE-A2ME-06A-11R-A18T-07</dt><dd>'Metastatic'</dd><dt>TCGA-BF-A5ES-01A-11R-A27Q-07</dt><dd>'Primary Tumor'</dd><dt>TCGA-D3-A8GE-06A-11R-A37K-07</dt><dd>'Metastatic'</dd><dt>TCGA-EE-A2MG-06A-11R-A18T-07</dt><dd>'Metastatic'</dd></dl>\n"
      ],
      "text/latex": [
       "\\begin{description*}\n",
       "\\item[TCGA-ER-A199-06A-11R-A18T-07] 'Metastatic'\n",
       "\\item[TCGA-EE-A3J5-06A-11R-A20F-07] 'Metastatic'\n",
       "\\item[TCGA-EE-A2ME-06A-11R-A18T-07] 'Metastatic'\n",
       "\\item[TCGA-BF-A5ES-01A-11R-A27Q-07] 'Primary Tumor'\n",
       "\\item[TCGA-D3-A8GE-06A-11R-A37K-07] 'Metastatic'\n",
       "\\item[TCGA-EE-A2MG-06A-11R-A18T-07] 'Metastatic'\n",
       "\\end{description*}\n"
      ],
      "text/markdown": [
       "TCGA-ER-A199-06A-11R-A18T-07\n",
       ":   'Metastatic'TCGA-EE-A3J5-06A-11R-A20F-07\n",
       ":   'Metastatic'TCGA-EE-A2ME-06A-11R-A18T-07\n",
       ":   'Metastatic'TCGA-BF-A5ES-01A-11R-A27Q-07\n",
       ":   'Primary Tumor'TCGA-D3-A8GE-06A-11R-A37K-07\n",
       ":   'Metastatic'TCGA-EE-A2MG-06A-11R-A18T-07\n",
       ":   'Metastatic'\n",
       "\n"
      ],
      "text/plain": [
       "TCGA-ER-A199-06A-11R-A18T-07 TCGA-EE-A3J5-06A-11R-A20F-07 \n",
       "                \"Metastatic\"                 \"Metastatic\" \n",
       "TCGA-EE-A2ME-06A-11R-A18T-07 TCGA-BF-A5ES-01A-11R-A27Q-07 \n",
       "                \"Metastatic\"              \"Primary Tumor\" \n",
       "TCGA-D3-A8GE-06A-11R-A37K-07 TCGA-EE-A2MG-06A-11R-A18T-07 \n",
       "                \"Metastatic\"                 \"Metastatic\" "
      ]
     },
     "metadata": {},
     "output_type": "display_data"
    }
   ],
   "source": [
    "sample_type <- colData(TCGA_SKCM)$sample_type\n",
    "names(sample_type) <- row.names(colData(TCGA_SKCM))\n",
    "head(sample_type)"
   ]
  },
  {
   "cell_type": "code",
   "execution_count": 156,
   "metadata": {
    "vscode": {
     "languageId": "r"
    }
   },
   "outputs": [
    {
     "data": {
      "text/html": [
       "<table class=\"dataframe\">\n",
       "<caption>A matrix: 6 × 2 of type chr</caption>\n",
       "<thead>\n",
       "\t<tr><th></th><th scope=col>mat</th><th scope=col>sample_type</th></tr>\n",
       "</thead>\n",
       "<tbody>\n",
       "\t<tr><th scope=row>TCGA-ER-A199-06A-11R-A18T-07</th><td>1.625017819701    </td><td>Metastatic   </td></tr>\n",
       "\t<tr><th scope=row>TCGA-EE-A3J5-06A-11R-A20F-07</th><td>0.432623778161379 </td><td>Metastatic   </td></tr>\n",
       "\t<tr><th scope=row>TCGA-EE-A2ME-06A-11R-A18T-07</th><td>2.23788265434119  </td><td>Metastatic   </td></tr>\n",
       "\t<tr><th scope=row>TCGA-BF-A5ES-01A-11R-A27Q-07</th><td>0.563611582796288 </td><td>Primary Tumor</td></tr>\n",
       "\t<tr><th scope=row>TCGA-D3-A8GE-06A-11R-A37K-07</th><td>-0.178115245264087</td><td>Metastatic   </td></tr>\n",
       "\t<tr><th scope=row>TCGA-EE-A2MG-06A-11R-A18T-07</th><td>1.6339065361582   </td><td>Metastatic   </td></tr>\n",
       "</tbody>\n",
       "</table>\n"
      ],
      "text/latex": [
       "A matrix: 6 × 2 of type chr\n",
       "\\begin{tabular}{r|ll}\n",
       "  & mat & sample\\_type\\\\\n",
       "\\hline\n",
       "\tTCGA-ER-A199-06A-11R-A18T-07 & 1.625017819701     & Metastatic   \\\\\n",
       "\tTCGA-EE-A3J5-06A-11R-A20F-07 & 0.432623778161379  & Metastatic   \\\\\n",
       "\tTCGA-EE-A2ME-06A-11R-A18T-07 & 2.23788265434119   & Metastatic   \\\\\n",
       "\tTCGA-BF-A5ES-01A-11R-A27Q-07 & 0.563611582796288  & Primary Tumor\\\\\n",
       "\tTCGA-D3-A8GE-06A-11R-A37K-07 & -0.178115245264087 & Metastatic   \\\\\n",
       "\tTCGA-EE-A2MG-06A-11R-A18T-07 & 1.6339065361582    & Metastatic   \\\\\n",
       "\\end{tabular}\n"
      ],
      "text/markdown": [
       "\n",
       "A matrix: 6 × 2 of type chr\n",
       "\n",
       "| <!--/--> | mat | sample_type |\n",
       "|---|---|---|\n",
       "| TCGA-ER-A199-06A-11R-A18T-07 | 1.625017819701     | Metastatic    |\n",
       "| TCGA-EE-A3J5-06A-11R-A20F-07 | 0.432623778161379  | Metastatic    |\n",
       "| TCGA-EE-A2ME-06A-11R-A18T-07 | 2.23788265434119   | Metastatic    |\n",
       "| TCGA-BF-A5ES-01A-11R-A27Q-07 | 0.563611582796288  | Primary Tumor |\n",
       "| TCGA-D3-A8GE-06A-11R-A37K-07 | -0.178115245264087 | Metastatic    |\n",
       "| TCGA-EE-A2MG-06A-11R-A18T-07 | 1.6339065361582    | Metastatic    |\n",
       "\n"
      ],
      "text/plain": [
       "                             mat                sample_type  \n",
       "TCGA-ER-A199-06A-11R-A18T-07 1.625017819701     Metastatic   \n",
       "TCGA-EE-A3J5-06A-11R-A20F-07 0.432623778161379  Metastatic   \n",
       "TCGA-EE-A2ME-06A-11R-A18T-07 2.23788265434119   Metastatic   \n",
       "TCGA-BF-A5ES-01A-11R-A27Q-07 0.563611582796288  Primary Tumor\n",
       "TCGA-D3-A8GE-06A-11R-A37K-07 -0.178115245264087 Metastatic   \n",
       "TCGA-EE-A2MG-06A-11R-A18T-07 1.6339065361582    Metastatic   "
      ]
     },
     "metadata": {},
     "output_type": "display_data"
    }
   ],
   "source": [
    "concat_samples <- cbind(mat,sample_type)\n",
    "colnames(concat_samples) <- c(\"mat\",\"sample_type\")\n",
    "head(concat_samples)"
   ]
  },
  {
   "cell_type": "code",
   "execution_count": 157,
   "metadata": {
    "vscode": {
     "languageId": "r"
    }
   },
   "outputs": [],
   "source": [
    "concat_samples_df <- as.data.frame(concat_samples)\n",
    "concat_samples_df$sample_type <- as.factor(concat_samples_df$sample_type)\n",
    "concat_samples_df$mat <- as.numeric(concat_samples_df$mat)"
   ]
  },
  {
   "cell_type": "code",
   "execution_count": null,
   "metadata": {
    "vscode": {
     "languageId": "r"
    }
   },
   "outputs": [],
   "source": [
    "library(ggplot2) "
   ]
  },
  {
   "cell_type": "code",
   "execution_count": 159,
   "metadata": {
    "vscode": {
     "languageId": "r"
    }
   },
   "outputs": [
    {
     "name": "stderr",
     "output_type": "stream",
     "text": [
      "Warning message:\n",
      "“\u001b[1m\u001b[22mGroups with fewer than two datapoints have been dropped.\n",
      "\u001b[36mℹ\u001b[39m Set `drop = FALSE` to consider such groups for position adjustment purposes.”\n",
      "Warning message:\n",
      "“\u001b[1m\u001b[22mGroups with fewer than two datapoints have been dropped.\n",
      "\u001b[36mℹ\u001b[39m Set `drop = FALSE` to consider such groups for position adjustment purposes.”\n"
     ]
    },
    {
     "data": {
      "image/png": "[encoded data removed]",
      "text/plain": [
       "plot without title"
      ]
     },
     "metadata": {
      "image/png": {
       "height": 600,
       "width": 600
      }
     },
     "output_type": "display_data"
    }
   ],
   "source": [
    "#Make M1 figure\n",
    "options(repr.plot.height=10, repr.plot.width=10)\n",
    "v <- ggplot(concat_samples_df, aes(x=sample_type, y=mat, color=sample_type)) + geom_violin(trim=FALSE)\n",
    "v + geom_jitter(shape=16, position=position_jitter(0.2)) + xlab(\"sample_type\") + ylab(\"SSGSEA Score - enrichment for DC1-derived mregDC Sig\") + theme(legend.position = \"none\")\n"
   ]
  }
 ],
 "metadata": {
  "kernelspec": {
   "display_name": "R",
   "language": "R",
   "name": "ir"
  },
  "language_info": {
   "codemirror_mode": "r",
   "file_extension": ".r",
   "mimetype": "text/x-r-source",
   "name": "R",
   "pygments_lexer": "r",
   "version": "4.3.3"
  }
 },
 "nbformat": 4,
 "nbformat_minor": 2
}
