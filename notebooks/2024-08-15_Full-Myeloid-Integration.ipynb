{
 "cells": [
  {
   "cell_type": "markdown",
   "metadata": {},
   "source": [
    "### Integrating myeloid cells from all datasets"
   ]
  },
  {
   "cell_type": "code",
   "execution_count": 1,
   "metadata": {
    "vscode": {
     "languageId": "r"
    }
   },
   "outputs": [
    {
     "data": {
      "text/html": [
       "'/scratch/user/s4436039/Nikita-project'"
      ],
      "text/latex": [
       "'/scratch/user/s4436039/Nikita-project'"
      ],
      "text/markdown": [
       "'/scratch/user/s4436039/Nikita-project'"
      ],
      "text/plain": [
       "[1] \"/scratch/user/s4436039/Nikita-project\""
      ]
     },
     "metadata": {},
     "output_type": "display_data"
    },
    {
     "data": {
      "text/html": [
       "'/scratch/user/s4436039/scdata'"
      ],
      "text/latex": [
       "'/scratch/user/s4436039/scdata'"
      ],
      "text/markdown": [
       "'/scratch/user/s4436039/scdata'"
      ],
      "text/plain": [
       "[1] \"/scratch/user/s4436039/scdata\""
      ]
     },
     "metadata": {},
     "output_type": "display_data"
    }
   ],
   "source": [
    "#set wd\n",
    "getwd()\n",
    "setwd('/scratch/user/s4436039/scdata')\n",
    "getwd()"
   ]
  },
  {
   "cell_type": "code",
   "execution_count": 2,
   "metadata": {
    "vscode": {
     "languageId": "r"
    }
   },
   "outputs": [
    {
     "name": "stderr",
     "output_type": "stream",
     "text": [
      "Loading required package: SeuratObject\n",
      "\n"
     ]
    },
    {
     "name": "stderr",
     "output_type": "stream",
     "text": [
      "Loading required package: sp\n",
      "\n",
      "\n",
      "Attaching package: ‘SeuratObject’\n",
      "\n",
      "\n",
      "The following object is masked from ‘package:base’:\n",
      "\n",
      "    intersect\n",
      "\n",
      "\n"
     ]
    }
   ],
   "source": [
    "library(Seurat)"
   ]
  },
  {
   "cell_type": "code",
   "execution_count": 3,
   "metadata": {
    "vscode": {
     "languageId": "r"
    }
   },
   "outputs": [],
   "source": [
    "# import all datasets\n",
    "#data_1 <- readRDS(file = \"/scratch/user/s4436039/scdata/Myeloid_Cells/Myeloid_Cells_Integrate/GSE112271_myeloid_int.RDS\")\n",
    "#data_2 <- readRDS(file = \"/scratch/user/s4436039/scdata/Myeloid_Cells/Myeloid_Cells_Integrate/GSE131907_myeloid_int.RDS\")\n",
    "#data_3 <- readRDS(file = \"/scratch/user/s4436039/scdata/Myeloid_Cells/Myeloid_Cells_Integrate/GSE139324_myeloid_int.RDS\")\n",
    "#data_4 <- readRDS(file = \"/scratch/user/s4436039/scdata/Myeloid_Cells/Myeloid_Cells_Integrate/GSE154778_myeloid_int.RDS\")\n",
    "#data_5 <- readRDS(file = \"/scratch/user/s4436039/scdata/Myeloid_Cells/Myeloid_Cells_Integrate/GSE156405_myeloid_int.RDS\")\n",
    "#data_6 <- readRDS(file = \"/scratch/user/s4436039/scdata/Myeloid_Cells/Myeloid_Cells_Integrate/GSE161529_myeloid_int.RDS\")\n",
    "data_7 <- readRDS(file = \"/scratch/user/s4436039/scdata/Myeloid_Cells/Myeloid_Cells_Integrate/GSE162025_myeloid_int.RDS\")\n",
    "data_8 <- readRDS(file = \"/scratch/user/s4436039/scdata/Myeloid_Cells/Myeloid_Cells_Integrate/GSE162498_myeloid_int.RDS\")\n",
    "data_9 <- readRDS(file = \"/scratch/user/s4436039/scdata/Myeloid_Cells/Myeloid_Cells_Integrate/GSE164690_myeloid_int.RDS\")\n",
    "data_10 <- readRDS(file = \"/scratch/user/s4436039/scdata/Myeloid_Cells/Myeloid_Cells_Integrate/GSE167297_myeloid_int.RDS\")\n",
    "#data_11 <- readRDS(file = \"/scratch/user/s4436039/scdata/Myeloid_Cells/Myeloid_Cells_Integrate/GSE173468_myeloid_int.RDS\")\n",
    "#data_12 <- readRDS(file = \"/scratch/user/s4436039/scdata/Myeloid_Cells/Myeloid_Cells_Integrate/GSE176078_myeloid_int.RDS\")\n",
    "#data_13 <- readRDS(file = \"/scratch/user/s4436039/scdata/Myeloid_Cells/Myeloid_Cells_Integrate/GSE180661_myeloid_int.RDS\")\n",
    "#data_14 <- readRDS(file = \"/scratch/user/s4436039/scdata/Myeloid_Cells/Myeloid_Cells_Integrate/GSE183916_myeloid_int.RDS\")\n",
    "#data_15 <- readRDS(file = \"/scratch/user/s4436039/scdata/Myeloid_Cells/Myeloid_Cells_Integrate/GSE184880_myeloid_int.RDS\")\n",
    "#data_16 <- readRDS(file = \"/scratch/user/s4436039/scdata/Myeloid_Cells/Myeloid_Cells_Integrate/GSE188737_myeloid_int.RDS\")\n",
    "#data_17 <- readRDS(file = \"/scratch/user/s4436039/scdata/Myeloid_Cells/Myeloid_Cells_Integrate/GSE189903_myeloid_int.RDS\")\n",
    "#data_18 <- readRDS(file = \"/scratch/user/s4436039/scdata/Myeloid_Cells/Myeloid_Cells_Integrate/GSE195861_myeloid_int.RDS\")\n",
    "#data_19 <- readRDS(file = \"/scratch/user/s4436039/scdata/Myeloid_Cells/Myeloid_Cells_Integrate/GSE197177_myeloid_int.RDS\")\n",
    "#data_20 <- readRDS(file = \"/scratch/user/s4436039/scdata/Myeloid_Cells/Myeloid_Cells_Integrate/GSE199515_myeloid_int.RDS\")\n",
    "#data_21 <- readRDS(file = \"/scratch/user/s4436039/scdata/Myeloid_Cells/Myeloid_Cells_Integrate/GSE200218_myeloid_int.RDS\")\n",
    "#data_22 <- readRDS(file = \"/scratch/user/s4436039/scdata/Myeloid_Cells/Myeloid_Cells_Integrate/GSE213243_myeloid_int.RDS\")\n",
    "#data_23 <- readRDS(file = \"/scratch/user/s4436039/scdata/Myeloid_Cells/Myeloid_Cells_Integrate/GSE214295_myeloid_int.RDS\")\n",
    "#data_24 <- readRDS(file = \"/scratch/user/s4436039/scdata/Myeloid_Cells/Myeloid_Cells_Integrate/GSE215120_myeloid_int.RDS\")\n",
    "#data_25 <- readRDS(file = \"/scratch/user/s4436039/scdata/Myeloid_Cells/Myeloid_Cells_Integrate/GSE217517_myeloid_int.RDS\")\n",
    "#data_26 <- readRDS(file = \"/scratch/user/s4436039/scdata/Myeloid_Cells/Myeloid_Cells_Integrate/GSE223063_myeloid_int.RDS\")\n",
    "#data_27 <- readRDS(file = \"/scratch/user/s4436039/scdata/Myeloid_Cells/Myeloid_Cells_Integrate/GSE224090_myeloid_int.RDS\")\n",
    "#data_28 <- readRDS(file = \"/scratch/user/s4436039/scdata/Myeloid_Cells/Myeloid_Cells_Integrate/GSE225600_myeloid_int.RDS\")\n",
    "#data_29 <- readRDS(file = \"/scratch/user/s4436039/scdata/Myeloid_Cells/Myeloid_Cells_Integrate/GSE231535_myeloid_int.RDS\")\n",
    "#data_30 <- readRDS(file = \"/scratch/user/s4436039/scdata/Myeloid_Cells/Myeloid_Cells_Integrate/GSE234129_myeloid_int.RDS\")\n",
    "data_31 <- readRDS(file = \"/scratch/user/s4436039/scdata/Myeloid_Cells/Myeloid_Cells_Integrate/GSE234933_myeloid_int.RDS\")\n",
    "data_32 <- readRDS(file = \"/scratch/user/s4436039/scdata/Myeloid_Cells/Myeloid_Cells_Integrate/GSE235676_myeloid_int.RDS\")\n",
    "data_33 <- readRDS(file = \"/scratch/user/s4436039/scdata/Myeloid_Cells/Myeloid_Cells_Integrate/PMID32561858_myeloid_int.RDS\")\n",
    "data_34 <- readRDS(file = \"/scratch/user/s4436039/scdata/Myeloid_Cells/Myeloid_Cells_Integrate/PRJCA005422_myeloid_int.RDS\")\n",
    "data_35 <- readRDS(file = \"/scratch/user/s4436039/scdata/Myeloid_Cells/Myeloid_Cells_Integrate/PRJNA907381_myeloid_int.RDS\")\n",
    "data_36 <- readRDS(file = \"/scratch/user/s4436039/scdata/Myeloid_Cells/Myeloid_Cells_Integrate/GSE154826_myeloid_int.RDS\")"
   ]
  },
  {
   "cell_type": "code",
   "execution_count": 8,
   "metadata": {
    "vscode": {
     "languageId": "r"
    }
   },
   "outputs": [
    {
     "data": {
      "text/html": [
       "'301.1 Mb'"
      ],
      "text/latex": [
       "'301.1 Mb'"
      ],
      "text/markdown": [
       "'301.1 Mb'"
      ],
      "text/plain": [
       "[1] \"301.1 Mb\""
      ]
     },
     "metadata": {},
     "output_type": "display_data"
    },
    {
     "data": {
      "text/html": [
       "'2563.6 Mb'"
      ],
      "text/latex": [
       "'2563.6 Mb'"
      ],
      "text/markdown": [
       "'2563.6 Mb'"
      ],
      "text/plain": [
       "[1] \"2563.6 Mb\""
      ]
     },
     "metadata": {},
     "output_type": "display_data"
    },
    {
     "data": {
      "text/html": [
       "'746.4 Mb'"
      ],
      "text/latex": [
       "'746.4 Mb'"
      ],
      "text/markdown": [
       "'746.4 Mb'"
      ],
      "text/plain": [
       "[1] \"746.4 Mb\""
      ]
     },
     "metadata": {},
     "output_type": "display_data"
    },
    {
     "data": {
      "text/html": [
       "'91.4 Mb'"
      ],
      "text/latex": [
       "'91.4 Mb'"
      ],
      "text/markdown": [
       "'91.4 Mb'"
      ],
      "text/plain": [
       "[1] \"91.4 Mb\""
      ]
     },
     "metadata": {},
     "output_type": "display_data"
    },
    {
     "data": {
      "text/html": [
       "'247.8 Mb'"
      ],
      "text/latex": [
       "'247.8 Mb'"
      ],
      "text/markdown": [
       "'247.8 Mb'"
      ],
      "text/plain": [
       "[1] \"247.8 Mb\""
      ]
     },
     "metadata": {},
     "output_type": "display_data"
    },
    {
     "data": {
      "text/html": [
       "'6328 Mb'"
      ],
      "text/latex": [
       "'6328 Mb'"
      ],
      "text/markdown": [
       "'6328 Mb'"
      ],
      "text/plain": [
       "[1] \"6328 Mb\""
      ]
     },
     "metadata": {},
     "output_type": "display_data"
    },
    {
     "data": {
      "text/html": [
       "'157.5 Mb'"
      ],
      "text/latex": [
       "'157.5 Mb'"
      ],
      "text/markdown": [
       "'157.5 Mb'"
      ],
      "text/plain": [
       "[1] \"157.5 Mb\""
      ]
     },
     "metadata": {},
     "output_type": "display_data"
    },
    {
     "data": {
      "text/html": [
       "'1003.8 Mb'"
      ],
      "text/latex": [
       "'1003.8 Mb'"
      ],
      "text/markdown": [
       "'1003.8 Mb'"
      ],
      "text/plain": [
       "[1] \"1003.8 Mb\""
      ]
     },
     "metadata": {},
     "output_type": "display_data"
    },
    {
     "data": {
      "text/html": [
       "'556.8 Mb'"
      ],
      "text/latex": [
       "'556.8 Mb'"
      ],
      "text/markdown": [
       "'556.8 Mb'"
      ],
      "text/plain": [
       "[1] \"556.8 Mb\""
      ]
     },
     "metadata": {},
     "output_type": "display_data"
    },
    {
     "data": {
      "text/html": [
       "'196.3 Mb'"
      ],
      "text/latex": [
       "'196.3 Mb'"
      ],
      "text/markdown": [
       "'196.3 Mb'"
      ],
      "text/plain": [
       "[1] \"196.3 Mb\""
      ]
     },
     "metadata": {},
     "output_type": "display_data"
    },
    {
     "data": {
      "text/html": [
       "'302.7 Mb'"
      ],
      "text/latex": [
       "'302.7 Mb'"
      ],
      "text/markdown": [
       "'302.7 Mb'"
      ],
      "text/plain": [
       "[1] \"302.7 Mb\""
      ]
     },
     "metadata": {},
     "output_type": "display_data"
    },
    {
     "data": {
      "text/html": [
       "'640.8 Mb'"
      ],
      "text/latex": [
       "'640.8 Mb'"
      ],
      "text/markdown": [
       "'640.8 Mb'"
      ],
      "text/plain": [
       "[1] \"640.8 Mb\""
      ]
     },
     "metadata": {},
     "output_type": "display_data"
    },
    {
     "data": {
      "text/html": [
       "'13405.1 Mb'"
      ],
      "text/latex": [
       "'13405.1 Mb'"
      ],
      "text/markdown": [
       "'13405.1 Mb'"
      ],
      "text/plain": [
       "[1] \"13405.1 Mb\""
      ]
     },
     "metadata": {},
     "output_type": "display_data"
    },
    {
     "data": {
      "text/html": [
       "'54.7 Mb'"
      ],
      "text/latex": [
       "'54.7 Mb'"
      ],
      "text/markdown": [
       "'54.7 Mb'"
      ],
      "text/plain": [
       "[1] \"54.7 Mb\""
      ]
     },
     "metadata": {},
     "output_type": "display_data"
    },
    {
     "data": {
      "text/html": [
       "'579.7 Mb'"
      ],
      "text/latex": [
       "'579.7 Mb'"
      ],
      "text/markdown": [
       "'579.7 Mb'"
      ],
      "text/plain": [
       "[1] \"579.7 Mb\""
      ]
     },
     "metadata": {},
     "output_type": "display_data"
    },
    {
     "data": {
      "text/html": [
       "'218.4 Mb'"
      ],
      "text/latex": [
       "'218.4 Mb'"
      ],
      "text/markdown": [
       "'218.4 Mb'"
      ],
      "text/plain": [
       "[1] \"218.4 Mb\""
      ]
     },
     "metadata": {},
     "output_type": "display_data"
    },
    {
     "data": {
      "text/html": [
       "'1857.4 Mb'"
      ],
      "text/latex": [
       "'1857.4 Mb'"
      ],
      "text/markdown": [
       "'1857.4 Mb'"
      ],
      "text/plain": [
       "[1] \"1857.4 Mb\""
      ]
     },
     "metadata": {},
     "output_type": "display_data"
    },
    {
     "data": {
      "text/html": [
       "'1651.7 Mb'"
      ],
      "text/latex": [
       "'1651.7 Mb'"
      ],
      "text/markdown": [
       "'1651.7 Mb'"
      ],
      "text/plain": [
       "[1] \"1651.7 Mb\""
      ]
     },
     "metadata": {},
     "output_type": "display_data"
    },
    {
     "data": {
      "text/html": [
       "'825.7 Mb'"
      ],
      "text/latex": [
       "'825.7 Mb'"
      ],
      "text/markdown": [
       "'825.7 Mb'"
      ],
      "text/plain": [
       "[1] \"825.7 Mb\""
      ]
     },
     "metadata": {},
     "output_type": "display_data"
    },
    {
     "data": {
      "text/html": [
       "'30.7 Mb'"
      ],
      "text/latex": [
       "'30.7 Mb'"
      ],
      "text/markdown": [
       "'30.7 Mb'"
      ],
      "text/plain": [
       "[1] \"30.7 Mb\""
      ]
     },
     "metadata": {},
     "output_type": "display_data"
    },
    {
     "data": {
      "text/html": [
       "'928.8 Mb'"
      ],
      "text/latex": [
       "'928.8 Mb'"
      ],
      "text/markdown": [
       "'928.8 Mb'"
      ],
      "text/plain": [
       "[1] \"928.8 Mb\""
      ]
     },
     "metadata": {},
     "output_type": "display_data"
    },
    {
     "data": {
      "text/html": [
       "'364 Mb'"
      ],
      "text/latex": [
       "'364 Mb'"
      ],
      "text/markdown": [
       "'364 Mb'"
      ],
      "text/plain": [
       "[1] \"364 Mb\""
      ]
     },
     "metadata": {},
     "output_type": "display_data"
    },
    {
     "data": {
      "text/html": [
       "'170 Mb'"
      ],
      "text/latex": [
       "'170 Mb'"
      ],
      "text/markdown": [
       "'170 Mb'"
      ],
      "text/plain": [
       "[1] \"170 Mb\""
      ]
     },
     "metadata": {},
     "output_type": "display_data"
    },
    {
     "data": {
      "text/html": [
       "'85.4 Mb'"
      ],
      "text/latex": [
       "'85.4 Mb'"
      ],
      "text/markdown": [
       "'85.4 Mb'"
      ],
      "text/plain": [
       "[1] \"85.4 Mb\""
      ]
     },
     "metadata": {},
     "output_type": "display_data"
    },
    {
     "data": {
      "text/html": [
       "'661.3 Mb'"
      ],
      "text/latex": [
       "'661.3 Mb'"
      ],
      "text/markdown": [
       "'661.3 Mb'"
      ],
      "text/plain": [
       "[1] \"661.3 Mb\""
      ]
     },
     "metadata": {},
     "output_type": "display_data"
    },
    {
     "data": {
      "text/html": [
       "'450 Mb'"
      ],
      "text/latex": [
       "'450 Mb'"
      ],
      "text/markdown": [
       "'450 Mb'"
      ],
      "text/plain": [
       "[1] \"450 Mb\""
      ]
     },
     "metadata": {},
     "output_type": "display_data"
    },
    {
     "data": {
      "text/html": [
       "'451.6 Mb'"
      ],
      "text/latex": [
       "'451.6 Mb'"
      ],
      "text/markdown": [
       "'451.6 Mb'"
      ],
      "text/plain": [
       "[1] \"451.6 Mb\""
      ]
     },
     "metadata": {},
     "output_type": "display_data"
    },
    {
     "data": {
      "text/html": [
       "'106.7 Mb'"
      ],
      "text/latex": [
       "'106.7 Mb'"
      ],
      "text/markdown": [
       "'106.7 Mb'"
      ],
      "text/plain": [
       "[1] \"106.7 Mb\""
      ]
     },
     "metadata": {},
     "output_type": "display_data"
    },
    {
     "data": {
      "text/html": [
       "'78.4 Mb'"
      ],
      "text/latex": [
       "'78.4 Mb'"
      ],
      "text/markdown": [
       "'78.4 Mb'"
      ],
      "text/plain": [
       "[1] \"78.4 Mb\""
      ]
     },
     "metadata": {},
     "output_type": "display_data"
    },
    {
     "data": {
      "text/html": [
       "'96.1 Mb'"
      ],
      "text/latex": [
       "'96.1 Mb'"
      ],
      "text/markdown": [
       "'96.1 Mb'"
      ],
      "text/plain": [
       "[1] \"96.1 Mb\""
      ]
     },
     "metadata": {},
     "output_type": "display_data"
    },
    {
     "data": {
      "text/html": [
       "'2914.1 Mb'"
      ],
      "text/latex": [
       "'2914.1 Mb'"
      ],
      "text/markdown": [
       "'2914.1 Mb'"
      ],
      "text/plain": [
       "[1] \"2914.1 Mb\""
      ]
     },
     "metadata": {},
     "output_type": "display_data"
    },
    {
     "data": {
      "text/html": [
       "'1786.2 Mb'"
      ],
      "text/latex": [
       "'1786.2 Mb'"
      ],
      "text/markdown": [
       "'1786.2 Mb'"
      ],
      "text/plain": [
       "[1] \"1786.2 Mb\""
      ]
     },
     "metadata": {},
     "output_type": "display_data"
    },
    {
     "data": {
      "text/html": [
       "'3160.2 Mb'"
      ],
      "text/latex": [
       "'3160.2 Mb'"
      ],
      "text/markdown": [
       "'3160.2 Mb'"
      ],
      "text/plain": [
       "[1] \"3160.2 Mb\""
      ]
     },
     "metadata": {},
     "output_type": "display_data"
    },
    {
     "data": {
      "text/html": [
       "'2294.9 Mb'"
      ],
      "text/latex": [
       "'2294.9 Mb'"
      ],
      "text/markdown": [
       "'2294.9 Mb'"
      ],
      "text/plain": [
       "[1] \"2294.9 Mb\""
      ]
     },
     "metadata": {},
     "output_type": "display_data"
    },
    {
     "data": {
      "text/html": [
       "'268.7 Mb'"
      ],
      "text/latex": [
       "'268.7 Mb'"
      ],
      "text/markdown": [
       "'268.7 Mb'"
      ],
      "text/plain": [
       "[1] \"268.7 Mb\""
      ]
     },
     "metadata": {},
     "output_type": "display_data"
    },
    {
     "data": {
      "text/html": [
       "'4125.4 Mb'"
      ],
      "text/latex": [
       "'4125.4 Mb'"
      ],
      "text/markdown": [
       "'4125.4 Mb'"
      ],
      "text/plain": [
       "[1] \"4125.4 Mb\""
      ]
     },
     "metadata": {},
     "output_type": "display_data"
    }
   ],
   "source": [
    "#check and record size of all objects - trying to figure out why some merges take way longer\n",
    "format(object.size(data_1), units = \"Mb\")\n",
    "format(object.size(data_2), units = \"Mb\")\n",
    "format(object.size(data_3), units = \"Mb\")\n",
    "format(object.size(data_4), units = \"Mb\")\n",
    "format(object.size(data_5), units = \"Mb\")\n",
    "format(object.size(data_6), units = \"Mb\")\n",
    "format(object.size(data_7), units = \"Mb\")\n",
    "format(object.size(data_8), units = \"Mb\")\n",
    "format(object.size(data_9), units = \"Mb\")\n",
    "format(object.size(data_10), units = \"Mb\")\n",
    "format(object.size(data_11), units = \"Mb\")\n",
    "format(object.size(data_12), units = \"Mb\")\n",
    "format(object.size(data_13), units = \"Mb\")\n",
    "format(object.size(data_14), units = \"Mb\")\n",
    "format(object.size(data_15), units = \"Mb\")\n",
    "format(object.size(data_16), units = \"Mb\")\n",
    "format(object.size(data_17), units = \"Mb\")\n",
    "format(object.size(data_18), units = \"Mb\")\n",
    "format(object.size(data_19), units = \"Mb\")\n",
    "format(object.size(data_20), units = \"Mb\")\n",
    "format(object.size(data_21), units = \"Mb\")\n",
    "format(object.size(data_22), units = \"Mb\")\n",
    "format(object.size(data_23), units = \"Mb\")\n",
    "format(object.size(data_24), units = \"Mb\")\n",
    "format(object.size(data_25), units = \"Mb\")\n",
    "format(object.size(data_26), units = \"Mb\")\n",
    "format(object.size(data_27), units = \"Mb\")\n",
    "format(object.size(data_28), units = \"Mb\")\n",
    "format(object.size(data_29), units = \"Mb\")\n",
    "format(object.size(data_30), units = \"Mb\")\n",
    "format(object.size(data_31), units = \"Mb\")\n",
    "format(object.size(data_32), units = \"Mb\")\n",
    "format(object.size(data_33), units = \"Mb\")\n",
    "format(object.size(data_34), units = \"Mb\")\n",
    "format(object.size(data_35), units = \"Mb\")\n",
    "format(object.size(data_36), units = \"Mb\")"
   ]
  },
  {
   "cell_type": "markdown",
   "metadata": {},
   "source": [
    "Have tried merging all together and left for hours and never loads, have tried by sending as a batch job but still times out, going to try merging here in subgroups. "
   ]
  },
  {
   "cell_type": "code",
   "execution_count": 4,
   "metadata": {
    "vscode": {
     "languageId": "r"
    }
   },
   "outputs": [],
   "source": [
    "#merge datasets in groups of 5\n",
    "#Data1_5 <- merge(data_1, y = c(data_2, data_3, data_4, data_5), project = \"integration\")\n",
    "#saveRDS(Data1_5, \"/scratch/user/s4436039/scdata/Merging/Data1_5.RDS\")\n",
    "\n",
    "#merge datasets in groups of 5\n",
    "#Data11_15 <- merge(data_11, y = c(data_12, data_14, data_15), project = \"integration\")\n",
    "#saveRDS(Data11_15, \"/scratch/user/s4436039/scdata/Merging/Data11_15.RDS\")\n",
    "\n",
    "#merge datasets in groups of 5\n",
    "#Data16_20 <- merge(data_16, y = c(data_17, data_18, data_19, data_20), project = \"integration\")\n",
    "#saveRDS(Data16_20, \"/scratch/user/s4436039/scdata/Merging/Data16_20.RDS\")\n",
    "\n",
    "#merge datasets in groups of 5\n",
    "#Data21_25 <- merge(data_21, y = c(data_22, data_23, data_24, data_25), project = \"integration\")\n",
    "#saveRDS(Data21_25, \"/scratch/user/s4436039/scdata/Merging/Data21_25.RDS\")\n",
    "\n",
    "#merge datasets in groups of 5\n",
    "#Data26_30 <- merge(data_26, y = c(data_27, data_28, data_29, data_30), project = \"integration\")\n",
    "#saveRDS(Data26_30, \"/scratch/user/s4436039/scdata/Merging/Data26_30.RDS\")"
   ]
  },
  {
   "cell_type": "code",
   "execution_count": null,
   "metadata": {
    "vscode": {
     "languageId": "r"
    }
   },
   "outputs": [],
   "source": [
    "#keep data_13 and data_6 by themeselves as so large"
   ]
  },
  {
   "cell_type": "code",
   "execution_count": 4,
   "metadata": {
    "vscode": {
     "languageId": "r"
    }
   },
   "outputs": [],
   "source": [
    "#merge datasets in groups of 5\n",
    "Data7_10 <- merge(data_7, y = c(data_8, data_9, data_10), project = \"integration\")"
   ]
  },
  {
   "cell_type": "code",
   "execution_count": 6,
   "metadata": {
    "vscode": {
     "languageId": "r"
    }
   },
   "outputs": [],
   "source": [
    "saveRDS(Data7_10, \"/scratch/user/s4436039/scdata/Merging/Data7_10.RDS\")"
   ]
  },
  {
   "cell_type": "code",
   "execution_count": 7,
   "metadata": {
    "vscode": {
     "languageId": "r"
    }
   },
   "outputs": [],
   "source": [
    "#merge datasets in groups of 5\n",
    "Data31_32 <- merge(data_31, y = c(data_32), project = \"integration\")"
   ]
  },
  {
   "cell_type": "code",
   "execution_count": 8,
   "metadata": {
    "vscode": {
     "languageId": "r"
    }
   },
   "outputs": [],
   "source": [
    "saveRDS(Data31_32, \"/scratch/user/s4436039/scdata/Merging/Data31_32.RDS\")"
   ]
  },
  {
   "cell_type": "code",
   "execution_count": 9,
   "metadata": {
    "vscode": {
     "languageId": "r"
    }
   },
   "outputs": [],
   "source": [
    "#merge datasets in groups of 5\n",
    "Data33_34 <- merge(data_33, y = c(data_34), project = \"integration\")"
   ]
  },
  {
   "cell_type": "code",
   "execution_count": 10,
   "metadata": {
    "vscode": {
     "languageId": "r"
    }
   },
   "outputs": [],
   "source": [
    "saveRDS(Data33_34, \"/scratch/user/s4436039/scdata/Merging/Data33_34.RDS\")"
   ]
  },
  {
   "cell_type": "code",
   "execution_count": 4,
   "metadata": {
    "vscode": {
     "languageId": "r"
    }
   },
   "outputs": [],
   "source": [
    "#merge datasets in groups of 5\n",
    "#Data31_36 <- merge(data_31, y = c(data_32, data_33, data_34, data_35, data_36), project = \"integration\")\n",
    "#above ran for 2hrs and didnt end"
   ]
  },
  {
   "cell_type": "code",
   "execution_count": 4,
   "metadata": {
    "vscode": {
     "languageId": "r"
    }
   },
   "outputs": [],
   "source": [
    "#merge larger together\n"
   ]
  },
  {
   "cell_type": "code",
   "execution_count": null,
   "metadata": {
    "vscode": {
     "languageId": "r"
    }
   },
   "outputs": [],
   "source": [
    "#Export integrated RDS so it can be loaded in without running above \n",
    "#saveRDS(Data, \"/scratch/user/s4436039/scdata/All_Myeloid.RDS\")\n",
    "\n",
    "#Read in data\n",
    "#Data <- readRDS(file = \"/scratch/user/s4436039/scdata/Integrated_Myeloid.RDS\")"
   ]
  },
  {
   "cell_type": "code",
   "execution_count": null,
   "metadata": {
    "vscode": {
     "languageId": "r"
    }
   },
   "outputs": [],
   "source": [
    "Data"
   ]
  },
  {
   "cell_type": "code",
   "execution_count": null,
   "metadata": {
    "vscode": {
     "languageId": "r"
    }
   },
   "outputs": [],
   "source": [
    "#divide by sample_type_major so that I can then get breakdown by site"
   ]
  },
  {
   "cell_type": "code",
   "execution_count": null,
   "metadata": {
    "vscode": {
     "languageId": "r"
    }
   },
   "outputs": [],
   "source": [
    "#Normalise the data\n",
    "Data <- NormalizeData(Data)"
   ]
  },
  {
   "cell_type": "code",
   "execution_count": null,
   "metadata": {
    "vscode": {
     "languageId": "r"
    }
   },
   "outputs": [],
   "source": [
    "#Find variable features\n",
    "Data <- FindVariableFeatures(Data)"
   ]
  },
  {
   "cell_type": "code",
   "execution_count": null,
   "metadata": {
    "vscode": {
     "languageId": "r"
    }
   },
   "outputs": [],
   "source": [
    "#Scale the data\n",
    "Data <- ScaleData(Data)"
   ]
  },
  {
   "cell_type": "code",
   "execution_count": null,
   "metadata": {
    "vscode": {
     "languageId": "r"
    }
   },
   "outputs": [],
   "source": [
    "#Run pca\n",
    "Data <- RunPCA(Data)"
   ]
  },
  {
   "cell_type": "code",
   "execution_count": null,
   "metadata": {
    "vscode": {
     "languageId": "r"
    }
   },
   "outputs": [],
   "source": [
    "#Find neighbours \n",
    "Data <- FindNeighbors(Data, dims = 1:30, reduction = \"pca\")"
   ]
  },
  {
   "cell_type": "code",
   "execution_count": null,
   "metadata": {
    "vscode": {
     "languageId": "r"
    }
   },
   "outputs": [],
   "source": [
    "#Cluster\n",
    "Data <- FindClusters(Data, resolution = 2, cluster.name = \"unintegrated_clusters\")"
   ]
  },
  {
   "cell_type": "code",
   "execution_count": null,
   "metadata": {
    "vscode": {
     "languageId": "r"
    }
   },
   "outputs": [],
   "source": [
    "#Run UMAP\n",
    "Data <- RunUMAP(Data, dims = 1:30, reduction = \"pca\", reduction.name = \"umap.unintegrated\", verbose = FALSE)"
   ]
  },
  {
   "cell_type": "code",
   "execution_count": null,
   "metadata": {
    "vscode": {
     "languageId": "r"
    }
   },
   "outputs": [],
   "source": [
    "options(repr.plot.height=8, repr.plot.width=24)\n",
    "DimPlot(Data, reduction = \"umap.unintegrated\", group.by = c(\"cancer_subtype\", \"seurat_clusters\", \"sample_type_major\"))"
   ]
  },
  {
   "cell_type": "code",
   "execution_count": null,
   "metadata": {
    "vscode": {
     "languageId": "r"
    }
   },
   "outputs": [],
   "source": [
    "#now try with integration "
   ]
  },
  {
   "cell_type": "code",
   "execution_count": null,
   "metadata": {
    "vscode": {
     "languageId": "r"
    }
   },
   "outputs": [],
   "source": [
    "Data <- IntegrateLayers(object = Data, method = HarmonyIntegration, orig.reduction = \"pca\", new.reduction = \"integrated.cca\", verbose = FALSE)"
   ]
  },
  {
   "cell_type": "code",
   "execution_count": null,
   "metadata": {
    "vscode": {
     "languageId": "r"
    }
   },
   "outputs": [],
   "source": [
    "# re-join layers after integration\n",
    "Data[[\"RNA\"]] <- JoinLayers(Data[[\"RNA\"]])"
   ]
  },
  {
   "cell_type": "code",
   "execution_count": null,
   "metadata": {
    "vscode": {
     "languageId": "r"
    }
   },
   "outputs": [],
   "source": [
    "Data <- FindNeighbors(Data, reduction = \"integrated.cca\", dims = 1:30)"
   ]
  },
  {
   "cell_type": "code",
   "execution_count": null,
   "metadata": {
    "vscode": {
     "languageId": "r"
    }
   },
   "outputs": [],
   "source": [
    "Data <- FindClusters(Data, resolution = 2)"
   ]
  },
  {
   "cell_type": "code",
   "execution_count": null,
   "metadata": {
    "vscode": {
     "languageId": "r"
    }
   },
   "outputs": [],
   "source": [
    "Data <- RunUMAP(Data, dims = 1:30, reduction = \"integrated.cca\")"
   ]
  },
  {
   "cell_type": "code",
   "execution_count": null,
   "metadata": {
    "vscode": {
     "languageId": "r"
    }
   },
   "outputs": [],
   "source": [
    "DimPlot(Dataj, reduction = \"umap\", group.by = c(\"cancer_type\", \"seurat_clusters\",\"patient_id\"))\n",
    "\n",
    "options(repr.plot.height=8, repr.plot.width=24)\n",
    "DimPlot(Data, reduction = \"umap.unintegrated\", group.by = c(\"cancer_subtype\", \"seurat_clusters\", \"sample_type_major\"))"
   ]
  },
  {
   "cell_type": "code",
   "execution_count": null,
   "metadata": {
    "vscode": {
     "languageId": "r"
    }
   },
   "outputs": [],
   "source": [
    "#Save the object at this point so it can be loaded in without running steps above\n",
    "saveRDS(Data, file = \"/scratch/user/s4436039/scdata/Integrated_Myeloid.RDS\")"
   ]
  }
 ],
 "metadata": {
  "kernelspec": {
   "display_name": "R",
   "language": "R",
   "name": "ir"
  },
  "language_info": {
   "codemirror_mode": "r",
   "file_extension": ".r",
   "mimetype": "text/x-r-source",
   "name": "R",
   "pygments_lexer": "r",
   "version": "4.3.3"
  }
 },
 "nbformat": 4,
 "nbformat_minor": 2
}
