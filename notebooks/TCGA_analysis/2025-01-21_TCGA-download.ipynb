{
 "cells": [
  {
   "cell_type": "markdown",
   "metadata": {},
   "source": [
    "# Downloading bulk RNAseq data from the TCGA"
   ]
  },
  {
   "cell_type": "markdown",
   "metadata": {},
   "source": [
    "## Available TCGA datasets: \n",
    "* TCGA-ACC --> Adrenocortical Carcinoma\n",
    "* TCGA-BLCA --> Bladder Urothelial Carcinoma\n",
    "* TCGA-BRCA --> Breast Invasive Carcinoma ************************************************************ done\n",
    "* TCGA-CESC --> Cervical Squamous Cell Carcinoma and Endocervical Adenocarcinoma\n",
    "* TCGA-CHOL --> Cholangiocarcinoma ******************************************************************* done\n",
    "* TCGA-COAD --> Colon Adenocarcinoma ***************************************************************** done \n",
    "* TCGA-DLBC --> Lymphoid Neoplasm Diffuse Large B-cell Lymphoma\n",
    "* TCGA-ESCA --> Esophageal Carcinoma ***************************************************************** done\n",
    "* TCGA-GBM --> Glioblastoma Multiforme *************************************************************** done \n",
    "* TCGA-HNSC --> Head and Neck Squamous Cell Carcinoma ************************************************ done\n",
    "* TCGA-KICH --> Kidney Chromophobe - Adenomas and Adenocarcinomas\n",
    "* TCGA-KIRC --> Kidney Renal Clear Cell Carcinoma - Adenomas and Adenocarcinomas\n",
    "* TCGA-KIRP --> Kidney Renal Papillary Cell Carcinoma - Adenomas and Adenocarcinomas\n",
    "* TCGA-LAML --> Acute Myeloid Leukemia\n",
    "* TCGA-LGG --> Brain Lower Grade Glioma\n",
    "* TCGA-LIHC --> Liver Hepatocellular Carcinoma ******************************************************* done\n",
    "* TCGA-LUAD --> Lung Adenocarcinoma ****************************************************************** done\n",
    "* TCGA-LUSC --> Lung Squamous Cell Carcinoma \n",
    "* TCGA-MESO --> Mesothelioma\n",
    "* TCGA-OV --> Ovarian Serous Cystadenocarcinoma ****************************************************** done\n",
    "* TCGA-PAAD --> Pancreatic Adenocarcinoma ************************************************************ done\n",
    "* TCGA-PCPG --> Pheochromocytoma and Paraganglioma\n",
    "* TCGA-PRAD --> Prostate Adenocarcinoma\n",
    "* TCGA-READ --> Rectum Adenocarcinoma\n",
    "* TCGA-SARC --> Sarcoma\n",
    "* TCGA-SKCM --> Skin Cutaneous Melanoma ************************************************************** done\n",
    "* TCGA-STAD --> Stomach Adenocarcinoma *************************************************************** done\n",
    "* TCGA-TGCT --> Testicular Germ Cell Tumors\n",
    "* TCGA-THCA --> Thyroid Carcinoma\n",
    "* TCGA-THYM --> Thymoma\n",
    "* TCGA-UCEC --> Uterine Corpus Endometrial Carcinoma\n",
    "* TCGA-UCS --> Uterine Carcinosarcoma\n",
    "* TCGA-UVM --> Uveal Melanoma"
   ]
  },
  {
   "cell_type": "code",
   "execution_count": 2,
   "metadata": {
    "vscode": {
     "languageId": "r"
    }
   },
   "outputs": [],
   "source": [
    "setwd(\"/scratch/user/s4436039/TCGA_Data\")"
   ]
  },
  {
   "cell_type": "code",
   "execution_count": 3,
   "metadata": {
    "vscode": {
     "languageId": "r"
    }
   },
   "outputs": [
    {
     "name": "stderr",
     "output_type": "stream",
     "text": [
      "Loading required package: MatrixGenerics\n",
      "\n",
      "Loading required package: matrixStats\n",
      "\n",
      "\n",
      "Attaching package: ‘MatrixGenerics’\n",
      "\n",
      "\n",
      "The following objects are masked from ‘package:matrixStats’:\n",
      "\n",
      "    colAlls, colAnyNAs, colAnys, colAvgsPerRowSet, colCollapse,\n",
      "    colCounts, colCummaxs, colCummins, colCumprods, colCumsums,\n",
      "    colDiffs, colIQRDiffs, colIQRs, colLogSumExps, colMadDiffs,\n",
      "    colMads, colMaxs, colMeans2, colMedians, colMins, colOrderStats,\n",
      "    colProds, colQuantiles, colRanges, colRanks, colSdDiffs, colSds,\n",
      "    colSums2, colTabulates, colVarDiffs, colVars, colWeightedMads,\n",
      "    colWeightedMeans, colWeightedMedians, colWeightedSds,\n",
      "    colWeightedVars, rowAlls, rowAnyNAs, rowAnys, rowAvgsPerColSet,\n",
      "    rowCollapse, rowCounts, rowCummaxs, rowCummins, rowCumprods,\n",
      "    rowCumsums, rowDiffs, rowIQRDiffs, rowIQRs, rowLogSumExps,\n",
      "    rowMadDiffs, rowMads, rowMaxs, rowMeans2, rowMedians, rowMins,\n",
      "    rowOrderStats, rowProds, rowQuantiles, rowRanges, rowRanks,\n",
      "    rowSdDiffs, rowSds, rowSums2, rowTabulates, rowVarDiffs, rowVars,\n",
      "    rowWeightedMads, rowWeightedMeans, rowWeightedMedians,\n",
      "    rowWeightedSds, rowWeightedVars\n",
      "\n",
      "\n",
      "Loading required package: GenomicRanges\n",
      "\n",
      "Loading required package: stats4\n",
      "\n",
      "Loading required package: BiocGenerics\n",
      "\n",
      "\n",
      "Attaching package: ‘BiocGenerics’\n",
      "\n",
      "\n",
      "The following objects are masked from ‘package:stats’:\n",
      "\n",
      "    IQR, mad, sd, var, xtabs\n",
      "\n",
      "\n",
      "The following objects are masked from ‘package:base’:\n",
      "\n",
      "    anyDuplicated, aperm, append, as.data.frame, basename, cbind,\n",
      "    colnames, dirname, do.call, duplicated, eval, evalq, Filter, Find,\n",
      "    get, grep, grepl, intersect, is.unsorted, lapply, Map, mapply,\n",
      "    match, mget, order, paste, pmax, pmax.int, pmin, pmin.int,\n",
      "    Position, rank, rbind, Reduce, rownames, sapply, setdiff, sort,\n",
      "    table, tapply, union, unique, unsplit, which.max, which.min\n",
      "\n",
      "\n",
      "Loading required package: S4Vectors\n",
      "\n",
      "\n",
      "Attaching package: ‘S4Vectors’\n",
      "\n",
      "\n",
      "The following object is masked from ‘package:utils’:\n",
      "\n",
      "    findMatches\n",
      "\n",
      "\n",
      "The following objects are masked from ‘package:base’:\n",
      "\n",
      "    expand.grid, I, unname\n",
      "\n",
      "\n",
      "Loading required package: IRanges\n",
      "\n",
      "Loading required package: GenomeInfoDb\n",
      "\n",
      "Loading required package: Biobase\n",
      "\n",
      "Welcome to Bioconductor\n",
      "\n",
      "    Vignettes contain introductory material; view with\n",
      "    'browseVignettes()'. To cite Bioconductor, see\n",
      "    'citation(\"Biobase\")', and for packages 'citation(\"pkgname\")'.\n",
      "\n",
      "\n",
      "\n",
      "Attaching package: ‘Biobase’\n",
      "\n",
      "\n",
      "The following object is masked from ‘package:MatrixGenerics’:\n",
      "\n",
      "    rowMedians\n",
      "\n",
      "\n",
      "The following objects are masked from ‘package:matrixStats’:\n",
      "\n",
      "    anyMissing, rowMedians\n",
      "\n",
      "\n"
     ]
    }
   ],
   "source": [
    "library(TCGAbiolinks)\n",
    "library(SummarizedExperiment)"
   ]
  },
  {
   "cell_type": "code",
   "execution_count": 22,
   "metadata": {
    "vscode": {
     "languageId": "r"
    }
   },
   "outputs": [
    {
     "data": {
      "text/html": [
       "<style>\n",
       ".list-inline {list-style: none; margin:0; padding: 0}\n",
       ".list-inline>li {display: inline-block}\n",
       ".list-inline>li:not(:last-child)::after {content: \"\\00b7\"; padding: 0 .5ex}\n",
       "</style>\n",
       "<ol class=list-inline><li>'Hepatocellular carcinoma, NOS'</li><li>'Combined hepatocellular carcinoma and cholangiocarcinoma'</li><li>'Hepatocellular carcinoma, clear cell type'</li><li>'Hepatocellular carcinoma, fibrolamellar'</li><li>'Clear cell adenocarcinoma, NOS'</li><li>'Hepatocellular carcinoma, spindle cell variant'</li></ol>\n"
      ],
      "text/latex": [
       "\\begin{enumerate*}\n",
       "\\item 'Hepatocellular carcinoma, NOS'\n",
       "\\item 'Combined hepatocellular carcinoma and cholangiocarcinoma'\n",
       "\\item 'Hepatocellular carcinoma, clear cell type'\n",
       "\\item 'Hepatocellular carcinoma, fibrolamellar'\n",
       "\\item 'Clear cell adenocarcinoma, NOS'\n",
       "\\item 'Hepatocellular carcinoma, spindle cell variant'\n",
       "\\end{enumerate*}\n"
      ],
      "text/markdown": [
       "1. 'Hepatocellular carcinoma, NOS'\n",
       "2. 'Combined hepatocellular carcinoma and cholangiocarcinoma'\n",
       "3. 'Hepatocellular carcinoma, clear cell type'\n",
       "4. 'Hepatocellular carcinoma, fibrolamellar'\n",
       "5. 'Clear cell adenocarcinoma, NOS'\n",
       "6. 'Hepatocellular carcinoma, spindle cell variant'\n",
       "\n",
       "\n"
      ],
      "text/plain": [
       "[1] \"Hepatocellular carcinoma, NOS\"                           \n",
       "[2] \"Combined hepatocellular carcinoma and cholangiocarcinoma\"\n",
       "[3] \"Hepatocellular carcinoma, clear cell type\"               \n",
       "[4] \"Hepatocellular carcinoma, fibrolamellar\"                 \n",
       "[5] \"Clear cell adenocarcinoma, NOS\"                          \n",
       "[6] \"Hepatocellular carcinoma, spindle cell variant\"          "
      ]
     },
     "metadata": {},
     "output_type": "display_data"
    }
   ],
   "source": [
    "clinical <- GDCquery_clinic(\"TCGA-LIHC\")\n",
    "unique(clinical$primary_diagnosis)"
   ]
  },
  {
   "cell_type": "code",
   "execution_count": 5,
   "metadata": {
    "vscode": {
     "languageId": "r"
    }
   },
   "outputs": [],
   "source": [
    "#get a list of projects available\n",
    "gdcprojects <- getGDCprojects()"
   ]
  },
  {
   "cell_type": "code",
   "execution_count": 23,
   "metadata": {
    "vscode": {
     "languageId": "r"
    }
   },
   "outputs": [
    {
     "data": {
      "text/html": [
       "<dl>\n",
       "\t<dt>$file_count</dt>\n",
       "\t\t<dd>20820</dd>\n",
       "\t<dt>$data_categories</dt>\n",
       "\t\t<dd><table class=\"dataframe\">\n",
       "<caption>A data.frame: 10 × 3</caption>\n",
       "<thead>\n",
       "\t<tr><th></th><th scope=col>file_count</th><th scope=col>case_count</th><th scope=col>data_category</th></tr>\n",
       "\t<tr><th></th><th scope=col>&lt;int&gt;</th><th scope=col>&lt;int&gt;</th><th scope=col>&lt;chr&gt;</th></tr>\n",
       "</thead>\n",
       "<tbody>\n",
       "\t<tr><th scope=row>1</th><td>6070</td><td>377</td><td>Simple Nucleotide Variation </td></tr>\n",
       "\t<tr><th scope=row>2</th><td>3226</td><td>377</td><td>Sequencing Reads            </td></tr>\n",
       "\t<tr><th scope=row>3</th><td>1634</td><td>377</td><td>Biospecimen                 </td></tr>\n",
       "\t<tr><th scope=row>4</th><td> 803</td><td>377</td><td>Clinical                    </td></tr>\n",
       "\t<tr><th scope=row>5</th><td>4197</td><td>377</td><td>Copy Number Variation       </td></tr>\n",
       "\t<tr><th scope=row>6</th><td>1698</td><td>376</td><td>Transcriptome Profiling     </td></tr>\n",
       "\t<tr><th scope=row>7</th><td>1290</td><td>377</td><td>DNA Methylation             </td></tr>\n",
       "\t<tr><th scope=row>8</th><td> 184</td><td>184</td><td>Proteome Profiling          </td></tr>\n",
       "\t<tr><th scope=row>9</th><td>  22</td><td> 11</td><td>Somatic Structural Variation</td></tr>\n",
       "\t<tr><th scope=row>10</th><td>1696</td><td>371</td><td>Structural Variation        </td></tr>\n",
       "</tbody>\n",
       "</table>\n",
       "</dd>\n",
       "\t<dt>$case_count</dt>\n",
       "\t\t<dd>377</dd>\n",
       "\t<dt>$file_size</dt>\n",
       "\t\t<dd>234019446423642</dd>\n",
       "</dl>\n"
      ],
      "text/latex": [
       "\\begin{description}\n",
       "\\item[\\$file\\_count] 20820\n",
       "\\item[\\$data\\_categories] A data.frame: 10 × 3\n",
       "\\begin{tabular}{r|lll}\n",
       "  & file\\_count & case\\_count & data\\_category\\\\\n",
       "  & <int> & <int> & <chr>\\\\\n",
       "\\hline\n",
       "\t1 & 6070 & 377 & Simple Nucleotide Variation \\\\\n",
       "\t2 & 3226 & 377 & Sequencing Reads            \\\\\n",
       "\t3 & 1634 & 377 & Biospecimen                 \\\\\n",
       "\t4 &  803 & 377 & Clinical                    \\\\\n",
       "\t5 & 4197 & 377 & Copy Number Variation       \\\\\n",
       "\t6 & 1698 & 376 & Transcriptome Profiling     \\\\\n",
       "\t7 & 1290 & 377 & DNA Methylation             \\\\\n",
       "\t8 &  184 & 184 & Proteome Profiling          \\\\\n",
       "\t9 &   22 &  11 & Somatic Structural Variation\\\\\n",
       "\t10 & 1696 & 371 & Structural Variation        \\\\\n",
       "\\end{tabular}\n",
       "\n",
       "\\item[\\$case\\_count] 377\n",
       "\\item[\\$file\\_size] 234019446423642\n",
       "\\end{description}\n"
      ],
      "text/markdown": [
       "$file_count\n",
       ":   20820\n",
       "$data_categories\n",
       ":   \n",
       "A data.frame: 10 × 3\n",
       "\n",
       "| <!--/--> | file_count &lt;int&gt; | case_count &lt;int&gt; | data_category &lt;chr&gt; |\n",
       "|---|---|---|---|\n",
       "| 1 | 6070 | 377 | Simple Nucleotide Variation  |\n",
       "| 2 | 3226 | 377 | Sequencing Reads             |\n",
       "| 3 | 1634 | 377 | Biospecimen                  |\n",
       "| 4 |  803 | 377 | Clinical                     |\n",
       "| 5 | 4197 | 377 | Copy Number Variation        |\n",
       "| 6 | 1698 | 376 | Transcriptome Profiling      |\n",
       "| 7 | 1290 | 377 | DNA Methylation              |\n",
       "| 8 |  184 | 184 | Proteome Profiling           |\n",
       "| 9 |   22 |  11 | Somatic Structural Variation |\n",
       "| 10 | 1696 | 371 | Structural Variation         |\n",
       "\n",
       "\n",
       "$case_count\n",
       ":   377\n",
       "$file_size\n",
       ":   234019446423642\n",
       "\n",
       "\n"
      ],
      "text/plain": [
       "$file_count\n",
       "[1] 20820\n",
       "\n",
       "$data_categories\n",
       "   file_count case_count                data_category\n",
       "1        6070        377  Simple Nucleotide Variation\n",
       "2        3226        377             Sequencing Reads\n",
       "3        1634        377                  Biospecimen\n",
       "4         803        377                     Clinical\n",
       "5        4197        377        Copy Number Variation\n",
       "6        1698        376      Transcriptome Profiling\n",
       "7        1290        377              DNA Methylation\n",
       "8         184        184           Proteome Profiling\n",
       "9          22         11 Somatic Structural Variation\n",
       "10       1696        371         Structural Variation\n",
       "\n",
       "$case_count\n",
       "[1] 377\n",
       "\n",
       "$file_size\n",
       "[1] 2.340194e+14\n"
      ]
     },
     "metadata": {},
     "output_type": "display_data"
    }
   ],
   "source": [
    "getProjectSummary('TCGA-LIHC')"
   ]
  },
  {
   "cell_type": "code",
   "execution_count": 24,
   "metadata": {
    "vscode": {
     "languageId": "r"
    }
   },
   "outputs": [
    {
     "name": "stderr",
     "output_type": "stream",
     "text": [
      "--------------------------------------\n",
      "\n",
      "o GDCquery: Searching in GDC database\n",
      "\n",
      "--------------------------------------\n",
      "\n",
      "Genome of reference: hg38\n",
      "\n",
      "--------------------------------------------\n",
      "\n",
      "oo Accessing GDC. This might take a while...\n",
      "\n",
      "--------------------------------------------\n",
      "\n",
      "ooo Project: TCGA-LIHC\n",
      "\n",
      "--------------------\n",
      "\n",
      "oo Filtering results\n",
      "\n",
      "--------------------\n",
      "\n",
      "ooo By access\n",
      "\n",
      "ooo By experimental.strategy\n",
      "\n",
      "ooo By workflow.type\n",
      "\n",
      "----------------\n",
      "\n",
      "oo Checking data\n",
      "\n",
      "----------------\n",
      "\n",
      "ooo Checking if there are duplicated cases\n",
      "\n",
      "ooo Checking if there are results for the query\n",
      "\n",
      "-------------------\n",
      "\n",
      "o Preparing output\n",
      "\n",
      "-------------------\n",
      "\n"
     ]
    }
   ],
   "source": [
    "#build a query (GDCquery)\n",
    "query_TCGA <- GDCquery(project = 'TCGA-LIHC', \n",
    "                       data.category = 'Transcriptome Profiling',\n",
    "                       experimental.strategy = 'RNA-Seq',\n",
    "                       workflow.type = 'STAR - Counts',\n",
    "                       access = 'open')"
   ]
  },
  {
   "cell_type": "code",
   "execution_count": 26,
   "metadata": {
    "vscode": {
     "languageId": "r"
    }
   },
   "outputs": [
    {
     "name": "stderr",
     "output_type": "stream",
     "text": [
      "Downloading data for project TCGA-LIHC\n",
      "\n",
      "GDCdownload will download 424 files. A total of 1.787394432 GB\n",
      "\n",
      "The total size of files is big. We will download files in chunks\n",
      "\n",
      "Downloading chunk 1 of 2 (237 files, size = 999.214194 MB) as Tue_Jan_21_18_01_02_2025_0.tar.gz\n",
      "\n"
     ]
    },
    {
     "name": "stdout",
     "output_type": "stream",
     "text": [
      "Downloading: 230 MB     "
     ]
    },
    {
     "name": "stderr",
     "output_type": "stream",
     "text": [
      "Downloading chunk 2 of 2 (187 files, size = 788.180238 MB) as Tue_Jan_21_18_01_02_2025_1.tar.gz\n",
      "\n"
     ]
    },
    {
     "name": "stdout",
     "output_type": "stream",
     "text": [
      "Downloading: 180 MB     "
     ]
    }
   ],
   "source": [
    "#download data (GDCdownload)\n",
    "GDCdownload(query_TCGA)"
   ]
  },
  {
   "cell_type": "code",
   "execution_count": 27,
   "metadata": {
    "vscode": {
     "languageId": "r"
    }
   },
   "outputs": [
    {
     "name": "stdout",
     "output_type": "stream",
     "text": [
      "|====================================================|100%                      Completed after 15 s \n"
     ]
    },
    {
     "name": "stderr",
     "output_type": "stream",
     "text": [
      "Starting to add information to samples\n",
      "\n",
      " => Add clinical information to samples\n",
      "\n",
      " => Adding TCGA molecular information from marker papers\n",
      "\n",
      " => Information will have prefix 'paper_' \n",
      "\n",
      "Available assays in SummarizedExperiment : \n",
      "  => unstranded\n",
      "  => stranded_first\n",
      "  => stranded_second\n",
      "  => tpm_unstrand\n",
      "  => fpkm_unstrand\n",
      "  => fpkm_uq_unstrand\n",
      "\n"
     ]
    }
   ],
   "source": [
    "#prepare data (GDCprepare)\n",
    "tcga_lihc_data <- GDCprepare(query_TCGA, summarizedExperiment = TRUE)"
   ]
  },
  {
   "cell_type": "code",
   "execution_count": 28,
   "metadata": {
    "vscode": {
     "languageId": "r"
    }
   },
   "outputs": [],
   "source": [
    "#export randomised summarized experiment\n",
    "saveRDS(tcga_lihc_data, file = \"TCGA_LIHC.rds\")"
   ]
  },
  {
   "cell_type": "markdown",
   "metadata": {},
   "source": [
    "# moving code\n",
    "``` bash\n",
    "rsync -azvhP [source] [target]\n",
    "rsync -azvhP /scratch/user/s4436039/TCGA_datasets/TCGA_SKCM.rds /QRISdata/Q5935/nikita/TCGA-SKCM\n",
    "rsync -azvhP /QRISdata/Q5935/nikita/TCGA-BRCA/TCGA_BRCA.rds /scratch/user/s4436039/TCGA_Data\n",
    "rsync -azvhP /QRISdata/Q5935/nikita/TCGA_datasets/TCGA_STAD.rds /scratch/user/s4436039/TCGA_Data\n",
    "rsync -azvhP /QRISdata/Q5935/nikita/TCGA-OV/TCGA-OV.RDS /scratch/user/s4436039/TCGA_Data\n",
    "```\n",
    "\n",
    "\n"
   ]
  }
 ],
 "metadata": {
  "kernelspec": {
   "display_name": "R",
   "language": "R",
   "name": "ir"
  },
  "language_info": {
   "codemirror_mode": "r",
   "file_extension": ".r",
   "mimetype": "text/x-r-source",
   "name": "R",
   "pygments_lexer": "r",
   "version": "4.3.3"
  }
 },
 "nbformat": 4,
 "nbformat_minor": 2
}
