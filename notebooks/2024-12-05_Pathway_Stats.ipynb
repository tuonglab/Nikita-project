{
 "cells": [
  {
   "cell_type": "code",
   "execution_count": null,
   "metadata": {},
   "outputs": [],
   "source": [
    "import scanpy as sc\n",
    "import pandas as pd\n",
    "import seaborn as sns\n",
    "from scipy import stats\n",
    "from scipy.stats import normaltest"
   ]
  },
  {
   "cell_type": "code",
   "execution_count": null,
   "metadata": {},
   "outputs": [],
   "source": [
    "#show current directory \n",
    "os.getcwd()\n",
    "os.chdir('/scratch/user/s4436039/scdata/Python_Integration_Sep')\n",
    "os.getcwd()"
   ]
  },
  {
   "cell_type": "code",
   "execution_count": null,
   "metadata": {},
   "outputs": [],
   "source": [
    "# read in data\n",
    "data = sc.read_h5ad('NRclean_clustered.h5ad')"
   ]
  },
  {
   "cell_type": "code",
   "execution_count": null,
   "metadata": {},
   "outputs": [],
   "source": [
    "data_P = data[data.obs[\"sample_type_major2\"] == \"primary tumour\"]\n",
    "\n",
    "data_DC1 = data_P[data_P.obs[\"NR_annotations_simple\"] == \"cDC1\"]\n",
    "data_DC2 = data_P[data_P.obs[\"NR_annotations_simple\"] == \"cDC2\"]\n",
    "data_mregDC = data_P[data_P.obs[\"NR_annotations_simple\"] == \"mregDC\"]"
   ]
  },
  {
   "cell_type": "markdown",
   "metadata": {},
   "source": [
    "# Import KEGG sets"
   ]
  },
  {
   "cell_type": "code",
   "execution_count": null,
   "metadata": {},
   "outputs": [],
   "source": [
    "os.chdir('/scratch/user/s4436039/scdata/Pathway-sets')\n",
    "K_sets = pd.read_excel(\"kegg_sets.xlsx\", sheet_name=None)\n",
    "os.chdir('/scratch/user/s4436039/scdata/Python_Integration_Sep')"
   ]
  },
  {
   "cell_type": "code",
   "execution_count": null,
   "metadata": {},
   "outputs": [],
   "source": [
    "# Print the sheet names\n",
    "print(K_sets.keys())"
   ]
  },
  {
   "cell_type": "code",
   "execution_count": null,
   "metadata": {},
   "outputs": [],
   "source": [
    "# Change keys to be gene set name (the first value in the 'gs_name' column) instead of Sheet1 etc \n",
    "K_sets2 = {df[\"gs_name\"].iloc[0]: df for _, df in K_sets.items()}\n",
    "K_sets = K_sets2\n",
    "\n",
    "# Result\n",
    "print(K_sets.keys())"
   ]
  },
  {
   "cell_type": "code",
   "execution_count": null,
   "metadata": {},
   "outputs": [],
   "source": [
    "# Keys to include in new dictionary\n",
    "keys_include = [\"KEGG_ADIPOCYTOKINE_SIGNALING_PATHWAY\",\n",
    "\"KEGG_ANTIGEN_PROCESSING_AND_PRESENTATION\",\n",
    "\"KEGG_APOPTOSIS\",\n",
    "\"KEGG_CALCIUM_SIGNALING_PATHWAY\",\n",
    "\"KEGG_CELL_ADHESION_MOLECULES_CAMS\",\n",
    "\"KEGG_CHEMOKINE_SIGNALING_PATHWAY\",\n",
    "\"KEGG_CYTOKINE_CYTOKINE_RECEPTOR_INTERACTION\",\n",
    "\"KEGG_CYTOSOLIC_DNA_SENSING_PATHWAY\",\n",
    "\"KEGG_ENDOCYTOSIS\",\n",
    "\"KEGG_FATTY_ACID_METABOLISM\",\n",
    "\"KEGG_FC_GAMMA_R_MEDIATED_PHAGOCYTOSIS\",\n",
    "\"KEGG_GLYCOLYSIS_GLUCONEOGENESIS\",\n",
    "\"KEGG_JAK_STAT_SIGNALING_PATHWAY\",\n",
    "\"KEGG_MAPK_SIGNALING_PATHWAY\",\n",
    "\"KEGG_NOD_LIKE_RECEPTOR_SIGNALING_PATHWAY\",\n",
    "\"KEGG_NOTCH_SIGNALING_PATHWAY\",\n",
    "\"KEGG_OXIDATIVE_PHOSPHORYLATION\",\n",
    "\"KEGG_PROTEASOME\",\n",
    "\"KEGG_PROTEIN_EXPORT\",\n",
    "\"KEGG_TGF_BETA_SIGNALING_PATHWAY\",\n",
    "\"KEGG_TOLL_LIKE_RECEPTOR_SIGNALING_PATHWAY\",\n",
    "\"KEGG_TYROSINE_METABOLISM\",\n",
    "\"KEGG_UBIQUITIN_MEDIATED_PROTEOLYSIS\",\n",
    "\"KEGG_VEGF_SIGNALING_PATHWAY\"]"
   ]
  },
  {
   "cell_type": "code",
   "execution_count": null,
   "metadata": {},
   "outputs": [],
   "source": [
    "# create a new dictionary with select keys (pathway sets)\n",
    "K_sets_sub = {key: K_sets[key] for key in keys_include if key in K_sets}\n",
    "\n",
    "# Display the new dictionary\n",
    "K_sets_sub"
   ]
  },
  {
   "cell_type": "code",
   "execution_count": null,
   "metadata": {},
   "outputs": [],
   "source": [
    "print(K_sets_sub.keys())"
   ]
  },
  {
   "cell_type": "code",
   "execution_count": null,
   "metadata": {},
   "outputs": [],
   "source": [
    "adipocytokine_df = K_sets_sub[\"KEGG_ADIPOCYTOKINE_SIGNALING_PATHWAY\"]\n",
    "adipocytokine_genes = adipocytokine_df[\"human_gene_symbol\"]\n",
    "adipocytokine_list = adipocytokine_genes.tolist()"
   ]
  },
  {
   "cell_type": "code",
   "execution_count": null,
   "metadata": {},
   "outputs": [],
   "source": [
    "#score DC for gene set:\n",
    "sc.tl.score_genes(data_DC1, gene_list=adipocytokine_list, score_name=f\"adipocytokine_score\")\n",
    "sc.tl.score_genes(data_DC2, gene_list=adipocytokine_list, score_name=f\"adipocytokine_score\")\n",
    "sc.tl.score_genes(data_mregDC, gene_list=adipocytokine_list, score_name=f\"adipocytokine_score\")"
   ]
  },
  {
   "cell_type": "code",
   "execution_count": null,
   "metadata": {},
   "outputs": [],
   "source": [
    "# Extract the score\n",
    "score_column = \"adipocytokine_score\"\n",
    "\n",
    "# Group by 'integration_id' and calculate the mean score for each group\n",
    "sample_scores_df = data_DC1.obs.groupby(\"integration_id\")[score_column].mean().reset_index()\n",
    "\n",
    "# Merge with 'cancer_type_broad' by matching the 'integration_id'\n",
    "sample_scores_df = sample_scores_df.merge(\n",
    "    data_DC1.obs[[\"integration_id\", \"cancer_type_broad\"]].drop_duplicates(),\n",
    "    on=\"integration_id\",\n",
    "    how=\"left\"\n",
    ")\n",
    "\n",
    "# The resulting 'sample_scores_df' will contain 'integration_id', 'adipocytokine_score', and 'cancer_type_broad'\n",
    "print(sample_scores_df.head())"
   ]
  },
  {
   "cell_type": "code",
   "execution_count": null,
   "metadata": {},
   "outputs": [],
   "source": [
    "print(\"Adipocytokine: \", normaltest(sample_scores_df[\"adipocytokine_score\"]).pvalue)"
   ]
  }
 ],
 "metadata": {
  "language_info": {
   "name": "python"
  }
 },
 "nbformat": 4,
 "nbformat_minor": 2
}
