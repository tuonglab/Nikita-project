{
 "cells": [
  {
   "cell_type": "markdown",
   "metadata": {},
   "source": [
    "##### Steps for reading in dataset (following download), initial QC, dim reduction/clustering and saving out the myeloid cluster for **GSE202642**"
   ]
  },
  {
   "cell_type": "code",
   "execution_count": 1,
   "metadata": {
    "vscode": {
     "languageId": "r"
    }
   },
   "outputs": [
    {
     "data": {
      "text/html": [
       "'/scratch/user/s4436039/scdata/GSE176078'"
      ],
      "text/latex": [
       "'/scratch/user/s4436039/scdata/GSE176078'"
      ],
      "text/markdown": [
       "'/scratch/user/s4436039/scdata/GSE176078'"
      ],
      "text/plain": [
       "[1] \"/scratch/user/s4436039/scdata/GSE176078\""
      ]
     },
     "metadata": {},
     "output_type": "display_data"
    },
    {
     "data": {
      "text/html": [
       "'/scratch/user/s4436039/scdata/GSE202642'"
      ],
      "text/latex": [
       "'/scratch/user/s4436039/scdata/GSE202642'"
      ],
      "text/markdown": [
       "'/scratch/user/s4436039/scdata/GSE202642'"
      ],
      "text/plain": [
       "[1] \"/scratch/user/s4436039/scdata/GSE202642\""
      ]
     },
     "metadata": {},
     "output_type": "display_data"
    }
   ],
   "source": [
    "#set wd\n",
    "getwd()\n",
    "setwd('/scratch/user/s4436039/scdata/GSE202642')\n",
    "getwd()"
   ]
  },
  {
   "cell_type": "code",
   "execution_count": 2,
   "metadata": {
    "vscode": {
     "languageId": "r"
    }
   },
   "outputs": [
    {
     "name": "stderr",
     "output_type": "stream",
     "text": [
      "\n",
      "Attaching package: ‘dplyr’\n",
      "\n",
      "\n",
      "The following objects are masked from ‘package:stats’:\n",
      "\n",
      "    filter, lag\n",
      "\n",
      "\n",
      "The following objects are masked from ‘package:base’:\n",
      "\n",
      "    intersect, setdiff, setequal, union\n",
      "\n",
      "\n",
      "Warning message:\n",
      "“package ‘Seurat’ was built under R version 4.3.2”\n",
      "Loading required package: SeuratObject\n",
      "\n",
      "Loading required package: sp\n",
      "\n",
      "Warning message:\n",
      "“package ‘sp’ was built under R version 4.3.2”\n",
      "\n",
      "Attaching package: ‘SeuratObject’\n",
      "\n",
      "\n",
      "The following object is masked from ‘package:base’:\n",
      "\n",
      "    intersect\n",
      "\n",
      "\n",
      "Warning message:\n",
      "“package ‘patchwork’ was built under R version 4.3.2”\n"
     ]
    }
   ],
   "source": [
    "#Load packages\n",
    "library(dplyr)\n",
    "library(Seurat)\n",
    "library(patchwork)"
   ]
  },
  {
   "cell_type": "code",
   "execution_count": 3,
   "metadata": {
    "vscode": {
     "languageId": "r"
    }
   },
   "outputs": [],
   "source": [
    "#load dataset\n",
    "HCC.data <- Read10X(data.dir = \"/scratch/user/s4436039/scdata/GSE202642/GSE202642_GEO\")"
   ]
  },
  {
   "cell_type": "code",
   "execution_count": 5,
   "metadata": {
    "vscode": {
     "languageId": "r"
    }
   },
   "outputs": [
    {
     "data": {
      "text/html": [
       "<style>\n",
       ".list-inline {list-style: none; margin:0; padding: 0}\n",
       ".list-inline>li {display: inline-block}\n",
       ".list-inline>li:not(:last-child)::after {content: \"\\00b7\"; padding: 0 .5ex}\n",
       "</style>\n",
       "<ol class=list-inline><li>'AAACCCAAGAACTCCT-1'</li><li>'AAACCCAAGGAGAGTA-1'</li><li>'AAACCCAAGGGCAATC-1'</li><li>'AAACCCAAGTGAATAC-1'</li><li>'AAACCCACAACTCGTA-1'</li><li>'AAACCCACAGATTAAG-1'</li></ol>\n"
      ],
      "text/latex": [
       "\\begin{enumerate*}\n",
       "\\item 'AAACCCAAGAACTCCT-1'\n",
       "\\item 'AAACCCAAGGAGAGTA-1'\n",
       "\\item 'AAACCCAAGGGCAATC-1'\n",
       "\\item 'AAACCCAAGTGAATAC-1'\n",
       "\\item 'AAACCCACAACTCGTA-1'\n",
       "\\item 'AAACCCACAGATTAAG-1'\n",
       "\\end{enumerate*}\n"
      ],
      "text/markdown": [
       "1. 'AAACCCAAGAACTCCT-1'\n",
       "2. 'AAACCCAAGGAGAGTA-1'\n",
       "3. 'AAACCCAAGGGCAATC-1'\n",
       "4. 'AAACCCAAGTGAATAC-1'\n",
       "5. 'AAACCCACAACTCGTA-1'\n",
       "6. 'AAACCCACAGATTAAG-1'\n",
       "\n",
       "\n"
      ],
      "text/plain": [
       "[1] \"AAACCCAAGAACTCCT-1\" \"AAACCCAAGGAGAGTA-1\" \"AAACCCAAGGGCAATC-1\"\n",
       "[4] \"AAACCCAAGTGAATAC-1\" \"AAACCCACAACTCGTA-1\" \"AAACCCACAGATTAAG-1\""
      ]
     },
     "metadata": {},
     "output_type": "display_data"
    }
   ],
   "source": [
    "head(colnames(HCC.data))"
   ]
  }
 ],
 "metadata": {
  "kernelspec": {
   "display_name": "R",
   "language": "R",
   "name": "ir"
  },
  "language_info": {
   "codemirror_mode": "r",
   "file_extension": ".r",
   "mimetype": "text/x-r-source",
   "name": "R",
   "pygments_lexer": "r",
   "version": "4.3.1"
  }
 },
 "nbformat": 4,
 "nbformat_minor": 2
}
