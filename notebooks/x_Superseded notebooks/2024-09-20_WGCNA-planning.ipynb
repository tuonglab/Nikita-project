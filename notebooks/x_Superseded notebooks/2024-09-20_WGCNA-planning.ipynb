{
 "cells": [
  {
   "cell_type": "markdown",
   "metadata": {},
   "source": [
    "# Weighted Gene Co-expression Network Analysis (WGCNA)\n",
    "\n",
    "Two options:\n",
    "* PyWGCNA in python \n",
    "* hdWGCNA in Seurat/R"
   ]
  },
  {
   "cell_type": "markdown",
   "metadata": {},
   "source": [
    "Planning PyWGCNA (Python):"
   ]
  },
  {
   "cell_type": "code",
   "execution_count": 1,
   "metadata": {},
   "outputs": [
    {
     "name": "stdout",
     "output_type": "stream",
     "text": [
      "\u001b[33mWARNING: Skipping /home/s4436039/miniforge3/envs/env/lib/python3.12/site-packages/nlopt-2.7.1.dist-info due to invalid metadata entry 'name'\u001b[0m\u001b[33m\n",
      "\u001b[0mRequirement already satisfied: PyWGCNA in /home/s4436039/miniforge3/envs/env/lib/python3.12/site-packages (2.1.1)\n",
      "Requirement already satisfied: pandas>=2.1.0 in /home/s4436039/miniforge3/envs/env/lib/python3.12/site-packages (from PyWGCNA) (2.2.2)\n",
      "Requirement already satisfied: numpy>=1.24.0 in /home/s4436039/miniforge3/envs/env/lib/python3.12/site-packages (from PyWGCNA) (1.26.4)\n",
      "Requirement already satisfied: scipy>=1.9.1 in /home/s4436039/miniforge3/envs/env/lib/python3.12/site-packages (from PyWGCNA) (1.14.0)\n",
      "Requirement already satisfied: scikit-learn>=1.2.2 in /home/s4436039/miniforge3/envs/env/lib/python3.12/site-packages (from PyWGCNA) (1.5.0)\n",
      "Requirement already satisfied: statsmodels>=0.14.0 in /home/s4436039/miniforge3/envs/env/lib/python3.12/site-packages (from PyWGCNA) (0.14.2)\n",
      "Requirement already satisfied: matplotlib>=3.9.1 in /home/s4436039/miniforge3/envs/env/lib/python3.12/site-packages (from PyWGCNA) (3.9.2)\n",
      "Requirement already satisfied: seaborn>=0.11.2 in /home/s4436039/miniforge3/envs/env/lib/python3.12/site-packages (from PyWGCNA) (0.13.2)\n",
      "Requirement already satisfied: biomart>=0.9.2 in /home/s4436039/miniforge3/envs/env/lib/python3.12/site-packages (from PyWGCNA) (0.9.2)\n",
      "Requirement already satisfied: gseapy>=1.1.3 in /home/s4436039/miniforge3/envs/env/lib/python3.12/site-packages (from PyWGCNA) (1.1.3)\n",
      "Requirement already satisfied: pyvis==0.3.1 in /home/s4436039/miniforge3/envs/env/lib/python3.12/site-packages (from PyWGCNA) (0.3.1)\n",
      "Requirement already satisfied: setuptools>=67.4.0 in /home/s4436039/miniforge3/envs/env/lib/python3.12/site-packages (from PyWGCNA) (69.5.1)\n",
      "Requirement already satisfied: reactome2py>=3.0.0 in /home/s4436039/miniforge3/envs/env/lib/python3.12/site-packages (from PyWGCNA) (3.0.0)\n",
      "Requirement already satisfied: anndata>=0.10.8 in /home/s4436039/miniforge3/envs/env/lib/python3.12/site-packages (from PyWGCNA) (0.10.8)\n",
      "Requirement already satisfied: requests>=2.28.1 in /home/s4436039/miniforge3/envs/env/lib/python3.12/site-packages (from PyWGCNA) (2.31.0)\n",
      "Requirement already satisfied: networkx>=2.8.4 in /home/s4436039/miniforge3/envs/env/lib/python3.12/site-packages (from PyWGCNA) (3.3)\n",
      "Requirement already satisfied: rsrc>=0.1.3 in /home/s4436039/miniforge3/envs/env/lib/python3.12/site-packages (from PyWGCNA) (0.1.3)\n",
      "Requirement already satisfied: psutil>=5.9.0 in /home/s4436039/miniforge3/envs/env/lib/python3.12/site-packages (from PyWGCNA) (5.9.8)\n",
      "Requirement already satisfied: jinja2>=2.9.6 in /home/s4436039/miniforge3/envs/env/lib/python3.12/site-packages (from pyvis==0.3.1->PyWGCNA) (3.1.3)\n",
      "Requirement already satisfied: ipython>=5.3.0 in /home/s4436039/miniforge3/envs/env/lib/python3.12/site-packages (from pyvis==0.3.1->PyWGCNA) (8.23.0)\n",
      "Requirement already satisfied: jsonpickle>=1.4.1 in /home/s4436039/miniforge3/envs/env/lib/python3.12/site-packages (from pyvis==0.3.1->PyWGCNA) (3.3.0)\n",
      "Requirement already satisfied: array-api-compat!=1.5,>1.4 in /home/s4436039/miniforge3/envs/env/lib/python3.12/site-packages (from anndata>=0.10.8->PyWGCNA) (1.8)\n",
      "Requirement already satisfied: h5py>=3.1 in /home/s4436039/miniforge3/envs/env/lib/python3.12/site-packages (from anndata>=0.10.8->PyWGCNA) (3.11.0)\n",
      "Requirement already satisfied: natsort in /home/s4436039/miniforge3/envs/env/lib/python3.12/site-packages (from anndata>=0.10.8->PyWGCNA) (8.4.0)\n",
      "Requirement already satisfied: packaging>=20.0 in /home/s4436039/miniforge3/envs/env/lib/python3.12/site-packages (from anndata>=0.10.8->PyWGCNA) (24.0)\n",
      "Requirement already satisfied: contourpy>=1.0.1 in /home/s4436039/miniforge3/envs/env/lib/python3.12/site-packages (from matplotlib>=3.9.1->PyWGCNA) (1.2.1)\n",
      "Requirement already satisfied: cycler>=0.10 in /home/s4436039/miniforge3/envs/env/lib/python3.12/site-packages (from matplotlib>=3.9.1->PyWGCNA) (0.12.1)\n",
      "Requirement already satisfied: fonttools>=4.22.0 in /home/s4436039/miniforge3/envs/env/lib/python3.12/site-packages (from matplotlib>=3.9.1->PyWGCNA) (4.53.1)\n",
      "Requirement already satisfied: kiwisolver>=1.3.1 in /home/s4436039/miniforge3/envs/env/lib/python3.12/site-packages (from matplotlib>=3.9.1->PyWGCNA) (1.4.5)\n",
      "Requirement already satisfied: pillow>=8 in /home/s4436039/miniforge3/envs/env/lib/python3.12/site-packages (from matplotlib>=3.9.1->PyWGCNA) (10.4.0)\n",
      "Requirement already satisfied: pyparsing>=2.3.1 in /home/s4436039/miniforge3/envs/env/lib/python3.12/site-packages (from matplotlib>=3.9.1->PyWGCNA) (3.1.2)\n",
      "Requirement already satisfied: python-dateutil>=2.7 in /home/s4436039/miniforge3/envs/env/lib/python3.12/site-packages (from matplotlib>=3.9.1->PyWGCNA) (2.9.0)\n",
      "Requirement already satisfied: pytz>=2020.1 in /home/s4436039/miniforge3/envs/env/lib/python3.12/site-packages (from pandas>=2.1.0->PyWGCNA) (2024.1)\n",
      "Requirement already satisfied: tzdata>=2022.7 in /home/s4436039/miniforge3/envs/env/lib/python3.12/site-packages (from pandas>=2.1.0->PyWGCNA) (2024.1)\n",
      "Requirement already satisfied: json5>=0.8.4 in /home/s4436039/miniforge3/envs/env/lib/python3.12/site-packages (from reactome2py>=3.0.0->PyWGCNA) (0.9.25)\n",
      "Requirement already satisfied: charset-normalizer<4,>=2 in /home/s4436039/miniforge3/envs/env/lib/python3.12/site-packages (from requests>=2.28.1->PyWGCNA) (3.3.2)\n",
      "Requirement already satisfied: idna<4,>=2.5 in /home/s4436039/miniforge3/envs/env/lib/python3.12/site-packages (from requests>=2.28.1->PyWGCNA) (3.7)\n",
      "Requirement already satisfied: urllib3<3,>=1.21.1 in /home/s4436039/miniforge3/envs/env/lib/python3.12/site-packages (from requests>=2.28.1->PyWGCNA) (2.2.1)\n",
      "Requirement already satisfied: certifi>=2017.4.17 in /home/s4436039/miniforge3/envs/env/lib/python3.12/site-packages (from requests>=2.28.1->PyWGCNA) (2024.2.2)\n",
      "Requirement already satisfied: memoir>=0.0.3 in /home/s4436039/miniforge3/envs/env/lib/python3.12/site-packages (from rsrc>=0.1.3->PyWGCNA) (0.0.3)\n",
      "Requirement already satisfied: reprit>=0.3.0 in /home/s4436039/miniforge3/envs/env/lib/python3.12/site-packages (from rsrc>=0.1.3->PyWGCNA) (0.9.0)\n",
      "Requirement already satisfied: joblib>=1.2.0 in /home/s4436039/miniforge3/envs/env/lib/python3.12/site-packages (from scikit-learn>=1.2.2->PyWGCNA) (1.4.2)\n",
      "Requirement already satisfied: threadpoolctl>=3.1.0 in /home/s4436039/miniforge3/envs/env/lib/python3.12/site-packages (from scikit-learn>=1.2.2->PyWGCNA) (3.5.0)\n",
      "Requirement already satisfied: patsy>=0.5.6 in /home/s4436039/miniforge3/envs/env/lib/python3.12/site-packages (from statsmodels>=0.14.0->PyWGCNA) (0.5.6)\n",
      "Requirement already satisfied: decorator in /home/s4436039/miniforge3/envs/env/lib/python3.12/site-packages (from ipython>=5.3.0->pyvis==0.3.1->PyWGCNA) (5.1.1)\n",
      "Requirement already satisfied: jedi>=0.16 in /home/s4436039/miniforge3/envs/env/lib/python3.12/site-packages (from ipython>=5.3.0->pyvis==0.3.1->PyWGCNA) (0.19.1)\n",
      "Requirement already satisfied: matplotlib-inline in /home/s4436039/miniforge3/envs/env/lib/python3.12/site-packages (from ipython>=5.3.0->pyvis==0.3.1->PyWGCNA) (0.1.7)\n",
      "Requirement already satisfied: prompt-toolkit<3.1.0,>=3.0.41 in /home/s4436039/miniforge3/envs/env/lib/python3.12/site-packages (from ipython>=5.3.0->pyvis==0.3.1->PyWGCNA) (3.0.43)\n",
      "Requirement already satisfied: pygments>=2.4.0 in /home/s4436039/miniforge3/envs/env/lib/python3.12/site-packages (from ipython>=5.3.0->pyvis==0.3.1->PyWGCNA) (2.17.2)\n",
      "Requirement already satisfied: stack-data in /home/s4436039/miniforge3/envs/env/lib/python3.12/site-packages (from ipython>=5.3.0->pyvis==0.3.1->PyWGCNA) (0.6.3)\n",
      "Requirement already satisfied: traitlets>=5.13.0 in /home/s4436039/miniforge3/envs/env/lib/python3.12/site-packages (from ipython>=5.3.0->pyvis==0.3.1->PyWGCNA) (5.14.3)\n",
      "Requirement already satisfied: pexpect>4.3 in /home/s4436039/miniforge3/envs/env/lib/python3.12/site-packages (from ipython>=5.3.0->pyvis==0.3.1->PyWGCNA) (4.9.0)\n",
      "Requirement already satisfied: MarkupSafe>=2.0 in /home/s4436039/miniforge3/envs/env/lib/python3.12/site-packages (from jinja2>=2.9.6->pyvis==0.3.1->PyWGCNA) (2.1.5)\n",
      "Requirement already satisfied: six in /home/s4436039/miniforge3/envs/env/lib/python3.12/site-packages (from patsy>=0.5.6->statsmodels>=0.14.0->PyWGCNA) (1.16.0)\n",
      "Requirement already satisfied: typing-extensions<5.0,>=4.4.0 in /home/s4436039/miniforge3/envs/env/lib/python3.12/site-packages (from reprit>=0.3.0->rsrc>=0.1.3->PyWGCNA) (4.12.2)\n",
      "Requirement already satisfied: parso<0.9.0,>=0.8.3 in /home/s4436039/miniforge3/envs/env/lib/python3.12/site-packages (from jedi>=0.16->ipython>=5.3.0->pyvis==0.3.1->PyWGCNA) (0.8.4)\n",
      "Requirement already satisfied: ptyprocess>=0.5 in /home/s4436039/miniforge3/envs/env/lib/python3.12/site-packages (from pexpect>4.3->ipython>=5.3.0->pyvis==0.3.1->PyWGCNA) (0.7.0)\n",
      "Requirement already satisfied: wcwidth in /home/s4436039/miniforge3/envs/env/lib/python3.12/site-packages (from prompt-toolkit<3.1.0,>=3.0.41->ipython>=5.3.0->pyvis==0.3.1->PyWGCNA) (0.2.13)\n",
      "Requirement already satisfied: executing>=1.2.0 in /home/s4436039/miniforge3/envs/env/lib/python3.12/site-packages (from stack-data->ipython>=5.3.0->pyvis==0.3.1->PyWGCNA) (2.0.1)\n",
      "Requirement already satisfied: asttokens>=2.1.0 in /home/s4436039/miniforge3/envs/env/lib/python3.12/site-packages (from stack-data->ipython>=5.3.0->pyvis==0.3.1->PyWGCNA) (2.4.1)\n",
      "Requirement already satisfied: pure-eval in /home/s4436039/miniforge3/envs/env/lib/python3.12/site-packages (from stack-data->ipython>=5.3.0->pyvis==0.3.1->PyWGCNA) (0.2.2)\n",
      "\u001b[33mWARNING: Skipping /home/s4436039/miniforge3/envs/env/lib/python3.12/site-packages/nlopt-2.7.1.dist-info due to invalid metadata entry 'name'\u001b[0m\u001b[33m\n",
      "\u001b[0mNote: you may need to restart the kernel to use updated packages.\n"
     ]
    }
   ],
   "source": [
    "#install library \n",
    "#pip install PyWGCNA"
   ]
  },
  {
   "cell_type": "code",
   "execution_count": 1,
   "metadata": {},
   "outputs": [],
   "source": [
    "#load packages I need\n",
    "import os\n",
    "import tools\n",
    "import scanpy as sc\n",
    "import pandas as pd\n",
    "import dandelion as ddl\n",
    "from tqdm import tqdm\n",
    "import matplotlib.pyplot as plt\n",
    "import scanpy.external as sce\n",
    "\n",
    "import PyWGCNA"
   ]
  },
  {
   "cell_type": "code",
   "execution_count": 2,
   "metadata": {},
   "outputs": [
    {
     "data": {
      "text/plain": [
       "'/scratch/user/s4436039/scdata/WGCNA'"
      ]
     },
     "execution_count": 2,
     "metadata": {},
     "output_type": "execute_result"
    }
   ],
   "source": [
    "#show current directory \n",
    "os.getcwd()\n",
    "os.chdir('/scratch/user/s4436039/scdata/WGCNA')\n",
    "os.getcwd()"
   ]
  },
  {
   "cell_type": "code",
   "execution_count": 3,
   "metadata": {},
   "outputs": [],
   "source": [
    "#set plotting parameters: \n",
    "sc.settings.set_figure_params(dpi=80, facecolor=\"white\")"
   ]
  },
  {
   "cell_type": "markdown",
   "metadata": {},
   "source": [
    "### Set up the object for PyWGCNA:"
   ]
  },
  {
   "cell_type": "code",
   "execution_count": 4,
   "metadata": {},
   "outputs": [],
   "source": [
    "#Read in the object for WGCNA (using NRdata_pre-hvg as a test object)\n",
    "data = sc.read_h5ad('/scratch/user/s4436039/scdata/Python_Integration_Sep/NRdata_pre-hvg.h5ad')\n",
    "#data = sc.read_h5ad('/scratch/user/s4436039/scdata/Python_Integration_Sep/pre-WGCNA.h5ad')"
   ]
  },
  {
   "cell_type": "code",
   "execution_count": 7,
   "metadata": {},
   "outputs": [
    {
     "data": {
      "text/plain": [
       "scipy.sparse._csc.csc_matrix"
      ]
     },
     "execution_count": 7,
     "metadata": {},
     "output_type": "execute_result"
    }
   ],
   "source": [
    "type(data.X)"
   ]
  },
  {
   "cell_type": "code",
   "execution_count": 8,
   "metadata": {},
   "outputs": [
    {
     "name": "stdout",
     "output_type": "stream",
     "text": [
      "[[0.         0.         0.         0.         0.        ]\n",
      " [0.         0.         0.         0.         0.        ]\n",
      " [0.         0.         0.57941336 0.         0.        ]\n",
      " [0.         0.         0.         0.         0.        ]\n",
      " [0.         0.         0.         0.         0.        ]]\n"
     ]
    }
   ],
   "source": [
    "print(data.X[:5, :5].toarray())"
   ]
  },
  {
   "cell_type": "code",
   "execution_count": null,
   "metadata": {},
   "outputs": [],
   "source": [
    "#extract out the data\n",
    "expr_matrix = data.X\n",
    "gene_names = data.var_names\n",
    "sample_names = data.obs_names"
   ]
  },
  {
   "cell_type": "code",
   "execution_count": null,
   "metadata": {},
   "outputs": [],
   "source": [
    "#convert to dataframe \n",
    "expr_df = pd.DataFrame(expr_matrix.toarray(), index=gene_names, columns=sample_names)"
   ]
  },
  {
   "cell_type": "code",
   "execution_count": null,
   "metadata": {},
   "outputs": [],
   "source": [
    "#initialise PyWGCNA object\n",
    "wgcna_obj = pywgcna.WGCNA(expr_df)"
   ]
  }
 ],
 "metadata": {
  "kernelspec": {
   "display_name": "Python 3 (ipykernel)",
   "language": "python",
   "name": "python3"
  },
  "language_info": {
   "codemirror_mode": {
    "name": "ipython",
    "version": 3
   },
   "file_extension": ".py",
   "mimetype": "text/x-python",
   "name": "python",
   "nbconvert_exporter": "python",
   "pygments_lexer": "ipython3",
   "version": "3.12.3"
  }
 },
 "nbformat": 4,
 "nbformat_minor": 2
}
