{
 "cells": [
  {
   "cell_type": "markdown",
   "id": "fdf57a71",
   "metadata": {},
   "source": [
    "# Preparing objects to share with paper"
   ]
  },
  {
   "cell_type": "code",
   "execution_count": 1,
   "id": "4b4f5a61",
   "metadata": {},
   "outputs": [],
   "source": [
    "#load packages I need\n",
    "import os\n",
    "import scanpy as sc\n",
    "import pandas as pd"
   ]
  },
  {
   "cell_type": "code",
   "execution_count": 2,
   "id": "5ee3d6fe",
   "metadata": {},
   "outputs": [
    {
     "data": {
      "text/plain": [
       "'/scratch/user/s4436039/scdata/Myeloid_Objects'"
      ]
     },
     "execution_count": 2,
     "metadata": {},
     "output_type": "execute_result"
    }
   ],
   "source": [
    "#set current directory \n",
    "os.chdir('/scratch/user/s4436039/scdata/Myeloid_Objects')\n",
    "os.getcwd()"
   ]
  },
  {
   "cell_type": "code",
   "execution_count": null,
   "id": "19fafd71",
   "metadata": {},
   "outputs": [],
   "source": [
    "# read in data\n",
    "data_atlas = sc.read_h5ad('NRclean_clustered2.h5ad')\n",
    "data_AllDC = sc.read_h5ad('20250617_AllDC_bbknn.h5ad')\n",
    "data_DC2 = sc.read_h5ad('20250613_DC2_bbknn_clustered.h5ad')\n",
    "\n",
    "### also share scvi object?"
   ]
  },
  {
   "cell_type": "code",
   "execution_count": 15,
   "id": "84ed28bd",
   "metadata": {},
   "outputs": [
    {
     "data": {
      "text/plain": [
       "AnnData object with n_obs × n_vars = 498023 × 1268\n",
       "    obs: 'nCount_RNA', 'nFeature_RNA', 'sample_type', 'cancer_type', 'patient_id', 'sample_id', 'percent.mt', 'site', 'sample_type_major', 'cancer_subtype', 'integration_id', 'ident', 'dataset_id', 'n_genes_by_counts', 'log1p_n_genes_by_counts', 'total_counts', 'log1p_total_counts', 'pct_counts_in_top_50_genes', 'pct_counts_in_top_100_genes', 'pct_counts_in_top_200_genes', 'pct_counts_in_top_500_genes', 'total_counts_mt', 'log1p_total_counts_mt', 'pct_counts_mt', 'S_score', 'G2M_score', 'keep_or_remove', 'leiden', 'celltype', 'leiden_DC', 'leiden_DC_v2', 'exclude_annots', 'leiden_M', 'Technology', 'cancer_type_broad', 'clean-leiden_0.8', 'clean-subcluster', 'clean-subcluster-v2', 'YS_sig', 'HSC_sig', 'CD5nDC2_up_vDC3', 'DC3_up_vCD5nDC2', 'CD5pDC2_up_vDC3', 'DC3_up_vCD5pDC2', 'DC3_up_vMono', 'Mono_up_vDC3', 'DC1_sig', 'DC2_sig', 'DC3_sig', 'DC_Axl_sig', 'DC2_up_DC3', 'DC3_up_DC2', 'mregDC_sig', 'cDC1_mregDC', 'cDC2_mregDC', 'NR_annotations', 'NR_annotations_simple', 'sample_type_major2', 'cancer_with_H', 'cancer_broadest', 'CytoTRACE_DC_Predicted_order', 'AHR(+)', 'ATF3(+)', 'BACH2(+)', 'BATF(+)', 'BHLHE40(+)', 'BHLHE41(+)', 'CREM(+)', 'DDIT3(+)', 'ELF3(+)', 'ETS1(+)', 'FOSL2(+)', 'GATA3(+)', 'HIF1A(+)', 'IKZF2(+)', 'IRF1(+)', 'IRF4(+)', 'IRF8(+)', 'JUN(+)', 'KLF12(+)', 'KLF4(+)', 'MAF(+)', 'MAFF(+)', 'NFE2(+)', 'NFKB1(+)', 'NFKB2(+)', 'NR1H3(+)', 'PRDM1(+)', 'REL(+)', 'SOX4(+)', 'TCF7L2(+)', 'patient_treatment'\n",
       "    var: 'name', 'mt', 'n_cells_by_counts', 'mean_counts', 'log1p_mean_counts', 'pct_dropout_by_counts', 'total_counts', 'log1p_total_counts', 'highly_variable', 'means', 'dispersions', 'dispersions_norm', 'mean', 'std'\n",
       "    uns: 'NR_annotations_colors', 'NR_annotations_simple_colors', 'cancer_type_broad_colors', 'clean-leiden_0.8', 'clean-leiden_0.8_colors', 'clean-subcluster', 'clean-subcluster-v2', 'clean-subcluster-v2_colors', 'clean-subcluster_colors', 'dendrogram_NR_annotations_simple', 'hvg', 'log1p', 'neighbors', 'pca', 'rank_genes_groups', 'sample_type_major2_colors', 'site_colors', 'umap'\n",
       "    obsm: 'X_pca', 'X_pca_harmony', 'X_umap'\n",
       "    varm: 'PCs'\n",
       "    obsp: 'connectivities', 'distances'"
      ]
     },
     "execution_count": 15,
     "metadata": {},
     "output_type": "execute_result"
    }
   ],
   "source": [
    "data_atlas"
   ]
  },
  {
   "cell_type": "markdown",
   "id": "4e6caece",
   "metadata": {},
   "source": [
    "### Remove the following columns from data_atlas:\n",
    "\"sample_type\", \"cancer_type\", \"sample_type_major\", \"leiden\", \"celltype\", \"leiden_DC\", \"leiden_DC_v2\", \"exclude_annots\", \"leiden_M\",\n",
    "\"clean-leiden_0.8\", \"clean-subcluster\", \"clean-subcluster-v2\", \"YS_sig\", \"HSC_sig\", \"CD5nDC2_up_vDC3\", \"DC3_up_vCD5nDC2\", \"CD5pDC2_up_vDC3\", \n",
    "\"DC3_up_vCD5pDC2\", \"DC3_up_vMono\", \"Mono_up_vDC3\", \"DC_Axl_sig\", \"DC2_up_DC3\", \"DC3_up_DC2\", \"DC1_sig\", \"DC2_sig\", \"DC3_sig\", \"mregDC_sig\",\n",
    "\"cDC1_mregDC\", \"cDC2_mregDC\", \"NR_annotations\", \"CytoTRACE_DC_Predicted_order\", \"AHR(+)\", \"ATF3(+)\", \"BACH2(+)\", \"BATF(+)\", \"BHLHE40(+)\", \n",
    "\"BHLHE41(+)\", \"CREM(+)\", \"DDIT3(+)\", \"ELF3(+)\", \"ETS1(+)\", \"FOSL2(+)\", \"GATA3(+)\",\"HIF1A(+)\", \"IKZF2(+)\", \"IRF1(+)\", \"IRF4(+)\", \"IRF8(+)\", \"JUN(+)\", \n",
    "\"KLF12(+)\", \"KLF4(+)\", \"MAF(+)\", \"MAFF(+)\", \"NFE2(+)\", \"NFKB1(+)\", \"NFKB2(+)\", \"NR1H3(+)\", \"PRDM1(+)\", \"REL(+)\", \"SOX4(+)\", \"TCF7L2(+)\", \"cancer_type_broad\""
   ]
  },
  {
   "cell_type": "code",
   "execution_count": 21,
   "id": "c4ae3dcc",
   "metadata": {},
   "outputs": [
    {
     "data": {
      "text/plain": [
       "cancer_with_H\n",
       "HGSOC             213319\n",
       "NSCLC             110844\n",
       "HNSCC              52659\n",
       "GBM                34224\n",
       "Breast Cancer      32630\n",
       "HCC                15298\n",
       "PDAC               14061\n",
       "Melanoma           11624\n",
       "CRC                 4805\n",
       "iCCA                3576\n",
       "GAC                 2894\n",
       "NPC                 1610\n",
       "Acral Melanoma       479\n",
       "NA                     0\n",
       "Name: count, dtype: int64"
      ]
     },
     "execution_count": 21,
     "metadata": {},
     "output_type": "execute_result"
    }
   ],
   "source": [
    "data_atlas.obs[\"cancer_with_H\"].value_counts()"
   ]
  },
  {
   "cell_type": "code",
   "execution_count": 22,
   "id": "a9e5fffc",
   "metadata": {},
   "outputs": [
    {
     "ename": "KeyError",
     "evalue": "\"['sample_type', 'cancer_type', 'sample_type_major', 'leiden', 'celltype', 'leiden_DC', 'leiden_DC_v2', 'exclude_annots', 'leiden_M', 'clean-leiden_0.8', 'clean-subcluster', 'clean-subcluster-v2', 'YS_sig', 'HSC_sig', 'CD5nDC2_up_vDC3', 'DC3_up_vCD5nDC2', 'CD5pDC2_up_vDC3', 'DC3_up_vCD5pDC2', 'DC3_up_vMono', 'Mono_up_vDC3', 'DC_Axl_sig', 'DC2_up_DC3', 'DC3_up_DC2', 'DC1_sig', 'DC2_sig', 'DC3_sig', 'mregDC_sig', 'cDC1_mregDC', 'cDC2_mregDC', 'NR_annotations', 'CytoTRACE_DC_Predicted_order', 'AHR(+)', 'ATF3(+)', 'BACH2(+)', 'BATF(+)', 'BHLHE40(+)', 'BHLHE41(+)', 'CREM(+)', 'DDIT3(+)', 'ELF3(+)', 'ETS1(+)', 'FOSL2(+)', 'GATA3(+)', 'HIF1A(+)', 'IKZF2(+)', 'IRF1(+)', 'IRF4(+)', 'IRF8(+)', 'JUN(+)', 'KLF12(+)', 'KLF4(+)', 'MAF(+)', 'MAFF(+)', 'NFE2(+)', 'NFKB1(+)', 'NFKB2(+)', 'NR1H3(+)', 'PRDM1(+)', 'REL(+)', 'SOX4(+)', 'TCF7L2(+)', 'cancer_type_broad'] not found in axis\"",
     "output_type": "error",
     "traceback": [
      "\u001b[0;31m---------------------------------------------------------------------------\u001b[0m",
      "\u001b[0;31mKeyError\u001b[0m                                  Traceback (most recent call last)",
      "Cell \u001b[0;32mIn[22], line 1\u001b[0m\n\u001b[0;32m----> 1\u001b[0m \u001b[43mdata_atlas\u001b[49m\u001b[38;5;241;43m.\u001b[39;49m\u001b[43mobs\u001b[49m\u001b[38;5;241;43m.\u001b[39;49m\u001b[43mdrop\u001b[49m\u001b[43m(\u001b[49m\u001b[43mcolumns\u001b[49m\u001b[38;5;241;43m=\u001b[39;49m\u001b[43m[\u001b[49m\u001b[38;5;124;43m\"\u001b[39;49m\u001b[38;5;124;43msample_type\u001b[39;49m\u001b[38;5;124;43m\"\u001b[39;49m\u001b[43m,\u001b[49m\u001b[43m \u001b[49m\u001b[38;5;124;43m\"\u001b[39;49m\u001b[38;5;124;43mcancer_type\u001b[39;49m\u001b[38;5;124;43m\"\u001b[39;49m\u001b[43m,\u001b[49m\u001b[43m \u001b[49m\u001b[38;5;124;43m\"\u001b[39;49m\u001b[38;5;124;43msample_type_major\u001b[39;49m\u001b[38;5;124;43m\"\u001b[39;49m\u001b[43m,\u001b[49m\u001b[43m \u001b[49m\u001b[38;5;124;43m\"\u001b[39;49m\u001b[38;5;124;43mleiden\u001b[39;49m\u001b[38;5;124;43m\"\u001b[39;49m\u001b[43m,\u001b[49m\u001b[43m \u001b[49m\u001b[38;5;124;43m\"\u001b[39;49m\u001b[38;5;124;43mcelltype\u001b[39;49m\u001b[38;5;124;43m\"\u001b[39;49m\u001b[43m,\u001b[49m\u001b[43m \u001b[49m\u001b[38;5;124;43m\"\u001b[39;49m\u001b[38;5;124;43mleiden_DC\u001b[39;49m\u001b[38;5;124;43m\"\u001b[39;49m\u001b[43m,\u001b[49m\u001b[43m \u001b[49m\u001b[38;5;124;43m\"\u001b[39;49m\u001b[38;5;124;43mleiden_DC_v2\u001b[39;49m\u001b[38;5;124;43m\"\u001b[39;49m\u001b[43m,\u001b[49m\u001b[43m \u001b[49m\u001b[38;5;124;43m\"\u001b[39;49m\u001b[38;5;124;43mexclude_annots\u001b[39;49m\u001b[38;5;124;43m\"\u001b[39;49m\u001b[43m,\u001b[49m\u001b[43m \u001b[49m\u001b[38;5;124;43m\"\u001b[39;49m\u001b[38;5;124;43mleiden_M\u001b[39;49m\u001b[38;5;124;43m\"\u001b[39;49m\u001b[43m,\u001b[49m\n\u001b[1;32m      2\u001b[0m \u001b[38;5;124;43m\"\u001b[39;49m\u001b[38;5;124;43mclean-leiden_0.8\u001b[39;49m\u001b[38;5;124;43m\"\u001b[39;49m\u001b[43m,\u001b[49m\u001b[43m \u001b[49m\u001b[38;5;124;43m\"\u001b[39;49m\u001b[38;5;124;43mclean-subcluster\u001b[39;49m\u001b[38;5;124;43m\"\u001b[39;49m\u001b[43m,\u001b[49m\u001b[43m \u001b[49m\u001b[38;5;124;43m\"\u001b[39;49m\u001b[38;5;124;43mclean-subcluster-v2\u001b[39;49m\u001b[38;5;124;43m\"\u001b[39;49m\u001b[43m,\u001b[49m\u001b[43m \u001b[49m\u001b[38;5;124;43m\"\u001b[39;49m\u001b[38;5;124;43mYS_sig\u001b[39;49m\u001b[38;5;124;43m\"\u001b[39;49m\u001b[43m,\u001b[49m\u001b[43m \u001b[49m\u001b[38;5;124;43m\"\u001b[39;49m\u001b[38;5;124;43mHSC_sig\u001b[39;49m\u001b[38;5;124;43m\"\u001b[39;49m\u001b[43m,\u001b[49m\u001b[43m \u001b[49m\u001b[38;5;124;43m\"\u001b[39;49m\u001b[38;5;124;43mCD5nDC2_up_vDC3\u001b[39;49m\u001b[38;5;124;43m\"\u001b[39;49m\u001b[43m,\u001b[49m\u001b[43m \u001b[49m\u001b[38;5;124;43m\"\u001b[39;49m\u001b[38;5;124;43mDC3_up_vCD5nDC2\u001b[39;49m\u001b[38;5;124;43m\"\u001b[39;49m\u001b[43m,\u001b[49m\u001b[43m \u001b[49m\u001b[38;5;124;43m\"\u001b[39;49m\u001b[38;5;124;43mCD5pDC2_up_vDC3\u001b[39;49m\u001b[38;5;124;43m\"\u001b[39;49m\u001b[43m,\u001b[49m\u001b[43m \u001b[49m\n\u001b[1;32m      3\u001b[0m \u001b[38;5;124;43m\"\u001b[39;49m\u001b[38;5;124;43mDC3_up_vCD5pDC2\u001b[39;49m\u001b[38;5;124;43m\"\u001b[39;49m\u001b[43m,\u001b[49m\u001b[43m \u001b[49m\u001b[38;5;124;43m\"\u001b[39;49m\u001b[38;5;124;43mDC3_up_vMono\u001b[39;49m\u001b[38;5;124;43m\"\u001b[39;49m\u001b[43m,\u001b[49m\u001b[43m \u001b[49m\u001b[38;5;124;43m\"\u001b[39;49m\u001b[38;5;124;43mMono_up_vDC3\u001b[39;49m\u001b[38;5;124;43m\"\u001b[39;49m\u001b[43m,\u001b[49m\u001b[43m \u001b[49m\u001b[38;5;124;43m\"\u001b[39;49m\u001b[38;5;124;43mDC_Axl_sig\u001b[39;49m\u001b[38;5;124;43m\"\u001b[39;49m\u001b[43m,\u001b[49m\u001b[43m \u001b[49m\u001b[38;5;124;43m\"\u001b[39;49m\u001b[38;5;124;43mDC2_up_DC3\u001b[39;49m\u001b[38;5;124;43m\"\u001b[39;49m\u001b[43m,\u001b[49m\u001b[43m \u001b[49m\u001b[38;5;124;43m\"\u001b[39;49m\u001b[38;5;124;43mDC3_up_DC2\u001b[39;49m\u001b[38;5;124;43m\"\u001b[39;49m\u001b[43m,\u001b[49m\u001b[43m \u001b[49m\u001b[38;5;124;43m\"\u001b[39;49m\u001b[38;5;124;43mDC1_sig\u001b[39;49m\u001b[38;5;124;43m\"\u001b[39;49m\u001b[43m,\u001b[49m\u001b[43m \u001b[49m\u001b[38;5;124;43m\"\u001b[39;49m\u001b[38;5;124;43mDC2_sig\u001b[39;49m\u001b[38;5;124;43m\"\u001b[39;49m\u001b[43m,\u001b[49m\u001b[43m \u001b[49m\u001b[38;5;124;43m\"\u001b[39;49m\u001b[38;5;124;43mDC3_sig\u001b[39;49m\u001b[38;5;124;43m\"\u001b[39;49m\u001b[43m,\u001b[49m\u001b[43m \u001b[49m\u001b[38;5;124;43m\"\u001b[39;49m\u001b[38;5;124;43mmregDC_sig\u001b[39;49m\u001b[38;5;124;43m\"\u001b[39;49m\u001b[43m,\u001b[49m\n\u001b[1;32m      4\u001b[0m \u001b[38;5;124;43m\"\u001b[39;49m\u001b[38;5;124;43mcDC1_mregDC\u001b[39;49m\u001b[38;5;124;43m\"\u001b[39;49m\u001b[43m,\u001b[49m\u001b[43m \u001b[49m\u001b[38;5;124;43m\"\u001b[39;49m\u001b[38;5;124;43mcDC2_mregDC\u001b[39;49m\u001b[38;5;124;43m\"\u001b[39;49m\u001b[43m,\u001b[49m\u001b[43m \u001b[49m\u001b[38;5;124;43m\"\u001b[39;49m\u001b[38;5;124;43mNR_annotations\u001b[39;49m\u001b[38;5;124;43m\"\u001b[39;49m\u001b[43m,\u001b[49m\u001b[43m \u001b[49m\u001b[38;5;124;43m\"\u001b[39;49m\u001b[38;5;124;43mCytoTRACE_DC_Predicted_order\u001b[39;49m\u001b[38;5;124;43m\"\u001b[39;49m\u001b[43m,\u001b[49m\u001b[43m \u001b[49m\u001b[38;5;124;43m\"\u001b[39;49m\u001b[38;5;124;43mAHR(+)\u001b[39;49m\u001b[38;5;124;43m\"\u001b[39;49m\u001b[43m,\u001b[49m\u001b[43m \u001b[49m\u001b[38;5;124;43m\"\u001b[39;49m\u001b[38;5;124;43mATF3(+)\u001b[39;49m\u001b[38;5;124;43m\"\u001b[39;49m\u001b[43m,\u001b[49m\u001b[43m \u001b[49m\u001b[38;5;124;43m\"\u001b[39;49m\u001b[38;5;124;43mBACH2(+)\u001b[39;49m\u001b[38;5;124;43m\"\u001b[39;49m\u001b[43m,\u001b[49m\u001b[43m \u001b[49m\u001b[38;5;124;43m\"\u001b[39;49m\u001b[38;5;124;43mBATF(+)\u001b[39;49m\u001b[38;5;124;43m\"\u001b[39;49m\u001b[43m,\u001b[49m\u001b[43m \u001b[49m\u001b[38;5;124;43m\"\u001b[39;49m\u001b[38;5;124;43mBHLHE40(+)\u001b[39;49m\u001b[38;5;124;43m\"\u001b[39;49m\u001b[43m,\u001b[49m\u001b[43m \u001b[49m\n\u001b[1;32m      5\u001b[0m \u001b[38;5;124;43m\"\u001b[39;49m\u001b[38;5;124;43mBHLHE41(+)\u001b[39;49m\u001b[38;5;124;43m\"\u001b[39;49m\u001b[43m,\u001b[49m\u001b[43m \u001b[49m\u001b[38;5;124;43m\"\u001b[39;49m\u001b[38;5;124;43mCREM(+)\u001b[39;49m\u001b[38;5;124;43m\"\u001b[39;49m\u001b[43m,\u001b[49m\u001b[43m \u001b[49m\u001b[38;5;124;43m\"\u001b[39;49m\u001b[38;5;124;43mDDIT3(+)\u001b[39;49m\u001b[38;5;124;43m\"\u001b[39;49m\u001b[43m,\u001b[49m\u001b[43m \u001b[49m\u001b[38;5;124;43m\"\u001b[39;49m\u001b[38;5;124;43mELF3(+)\u001b[39;49m\u001b[38;5;124;43m\"\u001b[39;49m\u001b[43m,\u001b[49m\u001b[43m \u001b[49m\u001b[38;5;124;43m\"\u001b[39;49m\u001b[38;5;124;43mETS1(+)\u001b[39;49m\u001b[38;5;124;43m\"\u001b[39;49m\u001b[43m,\u001b[49m\u001b[43m \u001b[49m\u001b[38;5;124;43m\"\u001b[39;49m\u001b[38;5;124;43mFOSL2(+)\u001b[39;49m\u001b[38;5;124;43m\"\u001b[39;49m\u001b[43m,\u001b[49m\u001b[43m \u001b[49m\u001b[38;5;124;43m\"\u001b[39;49m\u001b[38;5;124;43mGATA3(+)\u001b[39;49m\u001b[38;5;124;43m\"\u001b[39;49m\u001b[43m,\u001b[49m\u001b[38;5;124;43m\"\u001b[39;49m\u001b[38;5;124;43mHIF1A(+)\u001b[39;49m\u001b[38;5;124;43m\"\u001b[39;49m\u001b[43m,\u001b[49m\u001b[43m \u001b[49m\u001b[38;5;124;43m\"\u001b[39;49m\u001b[38;5;124;43mIKZF2(+)\u001b[39;49m\u001b[38;5;124;43m\"\u001b[39;49m\u001b[43m,\u001b[49m\u001b[43m \u001b[49m\u001b[38;5;124;43m\"\u001b[39;49m\u001b[38;5;124;43mIRF1(+)\u001b[39;49m\u001b[38;5;124;43m\"\u001b[39;49m\u001b[43m,\u001b[49m\u001b[43m \u001b[49m\u001b[38;5;124;43m\"\u001b[39;49m\u001b[38;5;124;43mIRF4(+)\u001b[39;49m\u001b[38;5;124;43m\"\u001b[39;49m\u001b[43m,\u001b[49m\u001b[43m \u001b[49m\u001b[38;5;124;43m\"\u001b[39;49m\u001b[38;5;124;43mIRF8(+)\u001b[39;49m\u001b[38;5;124;43m\"\u001b[39;49m\u001b[43m,\u001b[49m\u001b[43m \u001b[49m\u001b[38;5;124;43m\"\u001b[39;49m\u001b[38;5;124;43mJUN(+)\u001b[39;49m\u001b[38;5;124;43m\"\u001b[39;49m\u001b[43m,\u001b[49m\u001b[43m \u001b[49m\n\u001b[1;32m      6\u001b[0m \u001b[38;5;124;43m\"\u001b[39;49m\u001b[38;5;124;43mKLF12(+)\u001b[39;49m\u001b[38;5;124;43m\"\u001b[39;49m\u001b[43m,\u001b[49m\u001b[43m \u001b[49m\u001b[38;5;124;43m\"\u001b[39;49m\u001b[38;5;124;43mKLF4(+)\u001b[39;49m\u001b[38;5;124;43m\"\u001b[39;49m\u001b[43m,\u001b[49m\u001b[43m \u001b[49m\u001b[38;5;124;43m\"\u001b[39;49m\u001b[38;5;124;43mMAF(+)\u001b[39;49m\u001b[38;5;124;43m\"\u001b[39;49m\u001b[43m,\u001b[49m\u001b[43m \u001b[49m\u001b[38;5;124;43m\"\u001b[39;49m\u001b[38;5;124;43mMAFF(+)\u001b[39;49m\u001b[38;5;124;43m\"\u001b[39;49m\u001b[43m,\u001b[49m\u001b[43m \u001b[49m\u001b[38;5;124;43m\"\u001b[39;49m\u001b[38;5;124;43mNFE2(+)\u001b[39;49m\u001b[38;5;124;43m\"\u001b[39;49m\u001b[43m,\u001b[49m\u001b[43m \u001b[49m\u001b[38;5;124;43m\"\u001b[39;49m\u001b[38;5;124;43mNFKB1(+)\u001b[39;49m\u001b[38;5;124;43m\"\u001b[39;49m\u001b[43m,\u001b[49m\u001b[43m \u001b[49m\u001b[38;5;124;43m\"\u001b[39;49m\u001b[38;5;124;43mNFKB2(+)\u001b[39;49m\u001b[38;5;124;43m\"\u001b[39;49m\u001b[43m,\u001b[49m\u001b[43m \u001b[49m\u001b[38;5;124;43m\"\u001b[39;49m\u001b[38;5;124;43mNR1H3(+)\u001b[39;49m\u001b[38;5;124;43m\"\u001b[39;49m\u001b[43m,\u001b[49m\u001b[43m \u001b[49m\u001b[38;5;124;43m\"\u001b[39;49m\u001b[38;5;124;43mPRDM1(+)\u001b[39;49m\u001b[38;5;124;43m\"\u001b[39;49m\u001b[43m,\u001b[49m\u001b[43m \u001b[49m\u001b[38;5;124;43m\"\u001b[39;49m\u001b[38;5;124;43mREL(+)\u001b[39;49m\u001b[38;5;124;43m\"\u001b[39;49m\u001b[43m,\u001b[49m\u001b[43m \u001b[49m\u001b[38;5;124;43m\"\u001b[39;49m\u001b[38;5;124;43mSOX4(+)\u001b[39;49m\u001b[38;5;124;43m\"\u001b[39;49m\u001b[43m,\u001b[49m\u001b[43m \u001b[49m\u001b[38;5;124;43m\"\u001b[39;49m\u001b[38;5;124;43mTCF7L2(+)\u001b[39;49m\u001b[38;5;124;43m\"\u001b[39;49m\u001b[43m,\u001b[49m\u001b[43m \u001b[49m\u001b[38;5;124;43m\"\u001b[39;49m\u001b[38;5;124;43mcancer_type_broad\u001b[39;49m\u001b[38;5;124;43m\"\u001b[39;49m\u001b[43m,\u001b[49m\u001b[38;5;124;43m\"\u001b[39;49m\u001b[38;5;124;43mcancer_with_H\u001b[39;49m\u001b[38;5;124;43m\"\u001b[39;49m\u001b[43m]\u001b[49m\u001b[43m,\u001b[49m\u001b[43m \u001b[49m\u001b[43minplace\u001b[49m\u001b[38;5;241;43m=\u001b[39;49m\u001b[38;5;28;43;01mTrue\u001b[39;49;00m\u001b[43m)\u001b[49m\n",
      "File \u001b[0;32m~/miniforge3/envs/env/lib/python3.12/site-packages/pandas/core/frame.py:5581\u001b[0m, in \u001b[0;36mDataFrame.drop\u001b[0;34m(self, labels, axis, index, columns, level, inplace, errors)\u001b[0m\n\u001b[1;32m   5433\u001b[0m \u001b[38;5;28;01mdef\u001b[39;00m \u001b[38;5;21mdrop\u001b[39m(\n\u001b[1;32m   5434\u001b[0m     \u001b[38;5;28mself\u001b[39m,\n\u001b[1;32m   5435\u001b[0m     labels: IndexLabel \u001b[38;5;241m|\u001b[39m \u001b[38;5;28;01mNone\u001b[39;00m \u001b[38;5;241m=\u001b[39m \u001b[38;5;28;01mNone\u001b[39;00m,\n\u001b[0;32m   (...)\u001b[0m\n\u001b[1;32m   5442\u001b[0m     errors: IgnoreRaise \u001b[38;5;241m=\u001b[39m \u001b[38;5;124m\"\u001b[39m\u001b[38;5;124mraise\u001b[39m\u001b[38;5;124m\"\u001b[39m,\n\u001b[1;32m   5443\u001b[0m ) \u001b[38;5;241m-\u001b[39m\u001b[38;5;241m>\u001b[39m DataFrame \u001b[38;5;241m|\u001b[39m \u001b[38;5;28;01mNone\u001b[39;00m:\n\u001b[1;32m   5444\u001b[0m \u001b[38;5;250m    \u001b[39m\u001b[38;5;124;03m\"\"\"\u001b[39;00m\n\u001b[1;32m   5445\u001b[0m \u001b[38;5;124;03m    Drop specified labels from rows or columns.\u001b[39;00m\n\u001b[1;32m   5446\u001b[0m \n\u001b[0;32m   (...)\u001b[0m\n\u001b[1;32m   5579\u001b[0m \u001b[38;5;124;03m            weight  1.0     0.8\u001b[39;00m\n\u001b[1;32m   5580\u001b[0m \u001b[38;5;124;03m    \"\"\"\u001b[39;00m\n\u001b[0;32m-> 5581\u001b[0m     \u001b[38;5;28;01mreturn\u001b[39;00m \u001b[38;5;28;43msuper\u001b[39;49m\u001b[43m(\u001b[49m\u001b[43m)\u001b[49m\u001b[38;5;241;43m.\u001b[39;49m\u001b[43mdrop\u001b[49m\u001b[43m(\u001b[49m\n\u001b[1;32m   5582\u001b[0m \u001b[43m        \u001b[49m\u001b[43mlabels\u001b[49m\u001b[38;5;241;43m=\u001b[39;49m\u001b[43mlabels\u001b[49m\u001b[43m,\u001b[49m\n\u001b[1;32m   5583\u001b[0m \u001b[43m        \u001b[49m\u001b[43maxis\u001b[49m\u001b[38;5;241;43m=\u001b[39;49m\u001b[43maxis\u001b[49m\u001b[43m,\u001b[49m\n\u001b[1;32m   5584\u001b[0m \u001b[43m        \u001b[49m\u001b[43mindex\u001b[49m\u001b[38;5;241;43m=\u001b[39;49m\u001b[43mindex\u001b[49m\u001b[43m,\u001b[49m\n\u001b[1;32m   5585\u001b[0m \u001b[43m        \u001b[49m\u001b[43mcolumns\u001b[49m\u001b[38;5;241;43m=\u001b[39;49m\u001b[43mcolumns\u001b[49m\u001b[43m,\u001b[49m\n\u001b[1;32m   5586\u001b[0m \u001b[43m        \u001b[49m\u001b[43mlevel\u001b[49m\u001b[38;5;241;43m=\u001b[39;49m\u001b[43mlevel\u001b[49m\u001b[43m,\u001b[49m\n\u001b[1;32m   5587\u001b[0m \u001b[43m        \u001b[49m\u001b[43minplace\u001b[49m\u001b[38;5;241;43m=\u001b[39;49m\u001b[43minplace\u001b[49m\u001b[43m,\u001b[49m\n\u001b[1;32m   5588\u001b[0m \u001b[43m        \u001b[49m\u001b[43merrors\u001b[49m\u001b[38;5;241;43m=\u001b[39;49m\u001b[43merrors\u001b[49m\u001b[43m,\u001b[49m\n\u001b[1;32m   5589\u001b[0m \u001b[43m    \u001b[49m\u001b[43m)\u001b[49m\n",
      "File \u001b[0;32m~/miniforge3/envs/env/lib/python3.12/site-packages/pandas/core/generic.py:4788\u001b[0m, in \u001b[0;36mNDFrame.drop\u001b[0;34m(self, labels, axis, index, columns, level, inplace, errors)\u001b[0m\n\u001b[1;32m   4786\u001b[0m \u001b[38;5;28;01mfor\u001b[39;00m axis, labels \u001b[38;5;129;01min\u001b[39;00m axes\u001b[38;5;241m.\u001b[39mitems():\n\u001b[1;32m   4787\u001b[0m     \u001b[38;5;28;01mif\u001b[39;00m labels \u001b[38;5;129;01mis\u001b[39;00m \u001b[38;5;129;01mnot\u001b[39;00m \u001b[38;5;28;01mNone\u001b[39;00m:\n\u001b[0;32m-> 4788\u001b[0m         obj \u001b[38;5;241m=\u001b[39m \u001b[43mobj\u001b[49m\u001b[38;5;241;43m.\u001b[39;49m\u001b[43m_drop_axis\u001b[49m\u001b[43m(\u001b[49m\u001b[43mlabels\u001b[49m\u001b[43m,\u001b[49m\u001b[43m \u001b[49m\u001b[43maxis\u001b[49m\u001b[43m,\u001b[49m\u001b[43m \u001b[49m\u001b[43mlevel\u001b[49m\u001b[38;5;241;43m=\u001b[39;49m\u001b[43mlevel\u001b[49m\u001b[43m,\u001b[49m\u001b[43m \u001b[49m\u001b[43merrors\u001b[49m\u001b[38;5;241;43m=\u001b[39;49m\u001b[43merrors\u001b[49m\u001b[43m)\u001b[49m\n\u001b[1;32m   4790\u001b[0m \u001b[38;5;28;01mif\u001b[39;00m inplace:\n\u001b[1;32m   4791\u001b[0m     \u001b[38;5;28mself\u001b[39m\u001b[38;5;241m.\u001b[39m_update_inplace(obj)\n",
      "File \u001b[0;32m~/miniforge3/envs/env/lib/python3.12/site-packages/pandas/core/generic.py:4830\u001b[0m, in \u001b[0;36mNDFrame._drop_axis\u001b[0;34m(self, labels, axis, level, errors, only_slice)\u001b[0m\n\u001b[1;32m   4828\u001b[0m         new_axis \u001b[38;5;241m=\u001b[39m axis\u001b[38;5;241m.\u001b[39mdrop(labels, level\u001b[38;5;241m=\u001b[39mlevel, errors\u001b[38;5;241m=\u001b[39merrors)\n\u001b[1;32m   4829\u001b[0m     \u001b[38;5;28;01melse\u001b[39;00m:\n\u001b[0;32m-> 4830\u001b[0m         new_axis \u001b[38;5;241m=\u001b[39m \u001b[43maxis\u001b[49m\u001b[38;5;241;43m.\u001b[39;49m\u001b[43mdrop\u001b[49m\u001b[43m(\u001b[49m\u001b[43mlabels\u001b[49m\u001b[43m,\u001b[49m\u001b[43m \u001b[49m\u001b[43merrors\u001b[49m\u001b[38;5;241;43m=\u001b[39;49m\u001b[43merrors\u001b[49m\u001b[43m)\u001b[49m\n\u001b[1;32m   4831\u001b[0m     indexer \u001b[38;5;241m=\u001b[39m axis\u001b[38;5;241m.\u001b[39mget_indexer(new_axis)\n\u001b[1;32m   4833\u001b[0m \u001b[38;5;66;03m# Case for non-unique axis\u001b[39;00m\n\u001b[1;32m   4834\u001b[0m \u001b[38;5;28;01melse\u001b[39;00m:\n",
      "File \u001b[0;32m~/miniforge3/envs/env/lib/python3.12/site-packages/pandas/core/indexes/base.py:7070\u001b[0m, in \u001b[0;36mIndex.drop\u001b[0;34m(self, labels, errors)\u001b[0m\n\u001b[1;32m   7068\u001b[0m \u001b[38;5;28;01mif\u001b[39;00m mask\u001b[38;5;241m.\u001b[39many():\n\u001b[1;32m   7069\u001b[0m     \u001b[38;5;28;01mif\u001b[39;00m errors \u001b[38;5;241m!=\u001b[39m \u001b[38;5;124m\"\u001b[39m\u001b[38;5;124mignore\u001b[39m\u001b[38;5;124m\"\u001b[39m:\n\u001b[0;32m-> 7070\u001b[0m         \u001b[38;5;28;01mraise\u001b[39;00m \u001b[38;5;167;01mKeyError\u001b[39;00m(\u001b[38;5;124mf\u001b[39m\u001b[38;5;124m\"\u001b[39m\u001b[38;5;132;01m{\u001b[39;00mlabels[mask]\u001b[38;5;241m.\u001b[39mtolist()\u001b[38;5;132;01m}\u001b[39;00m\u001b[38;5;124m not found in axis\u001b[39m\u001b[38;5;124m\"\u001b[39m)\n\u001b[1;32m   7071\u001b[0m     indexer \u001b[38;5;241m=\u001b[39m indexer[\u001b[38;5;241m~\u001b[39mmask]\n\u001b[1;32m   7072\u001b[0m \u001b[38;5;28;01mreturn\u001b[39;00m \u001b[38;5;28mself\u001b[39m\u001b[38;5;241m.\u001b[39mdelete(indexer)\n",
      "\u001b[0;31mKeyError\u001b[0m: \"['sample_type', 'cancer_type', 'sample_type_major', 'leiden', 'celltype', 'leiden_DC', 'leiden_DC_v2', 'exclude_annots', 'leiden_M', 'clean-leiden_0.8', 'clean-subcluster', 'clean-subcluster-v2', 'YS_sig', 'HSC_sig', 'CD5nDC2_up_vDC3', 'DC3_up_vCD5nDC2', 'CD5pDC2_up_vDC3', 'DC3_up_vCD5pDC2', 'DC3_up_vMono', 'Mono_up_vDC3', 'DC_Axl_sig', 'DC2_up_DC3', 'DC3_up_DC2', 'DC1_sig', 'DC2_sig', 'DC3_sig', 'mregDC_sig', 'cDC1_mregDC', 'cDC2_mregDC', 'NR_annotations', 'CytoTRACE_DC_Predicted_order', 'AHR(+)', 'ATF3(+)', 'BACH2(+)', 'BATF(+)', 'BHLHE40(+)', 'BHLHE41(+)', 'CREM(+)', 'DDIT3(+)', 'ELF3(+)', 'ETS1(+)', 'FOSL2(+)', 'GATA3(+)', 'HIF1A(+)', 'IKZF2(+)', 'IRF1(+)', 'IRF4(+)', 'IRF8(+)', 'JUN(+)', 'KLF12(+)', 'KLF4(+)', 'MAF(+)', 'MAFF(+)', 'NFE2(+)', 'NFKB1(+)', 'NFKB2(+)', 'NR1H3(+)', 'PRDM1(+)', 'REL(+)', 'SOX4(+)', 'TCF7L2(+)', 'cancer_type_broad'] not found in axis\""
     ]
    }
   ],
   "source": [
    "data_atlas.obs.drop(columns=[\"sample_type\", \"cancer_type\", \"sample_type_major\", \"leiden\", \"celltype\", \"leiden_DC\", \"leiden_DC_v2\", \"exclude_annots\", \"leiden_M\",\n",
    "\"clean-leiden_0.8\", \"clean-subcluster\", \"clean-subcluster-v2\", \"YS_sig\", \"HSC_sig\", \"CD5nDC2_up_vDC3\", \"DC3_up_vCD5nDC2\", \"CD5pDC2_up_vDC3\", \n",
    "\"DC3_up_vCD5pDC2\", \"DC3_up_vMono\", \"Mono_up_vDC3\", \"DC_Axl_sig\", \"DC2_up_DC3\", \"DC3_up_DC2\", \"DC1_sig\", \"DC2_sig\", \"DC3_sig\", \"mregDC_sig\",\n",
    "\"cDC1_mregDC\", \"cDC2_mregDC\", \"NR_annotations\", \"CytoTRACE_DC_Predicted_order\", \"AHR(+)\", \"ATF3(+)\", \"BACH2(+)\", \"BATF(+)\", \"BHLHE40(+)\", \n",
    "\"BHLHE41(+)\", \"CREM(+)\", \"DDIT3(+)\", \"ELF3(+)\", \"ETS1(+)\", \"FOSL2(+)\", \"GATA3(+)\",\"HIF1A(+)\", \"IKZF2(+)\", \"IRF1(+)\", \"IRF4(+)\", \"IRF8(+)\", \"JUN(+)\", \n",
    "\"KLF12(+)\", \"KLF4(+)\", \"MAF(+)\", \"MAFF(+)\", \"NFE2(+)\", \"NFKB1(+)\", \"NFKB2(+)\", \"NR1H3(+)\", \"PRDM1(+)\", \"REL(+)\", \"SOX4(+)\", \"TCF7L2(+)\", \"cancer_type_broad\",\"cancer_with_H\"], inplace=True)"
   ]
  },
  {
   "cell_type": "code",
   "execution_count": 19,
   "id": "57de4d89",
   "metadata": {},
   "outputs": [
    {
     "data": {
      "text/plain": [
       "AnnData object with n_obs × n_vars = 498023 × 1268\n",
       "    obs: 'nCount_RNA', 'nFeature_RNA', 'patient_id', 'sample_id', 'percent.mt', 'site', 'cancer_subtype', 'integration_id', 'ident', 'dataset_id', 'n_genes_by_counts', 'log1p_n_genes_by_counts', 'total_counts', 'log1p_total_counts', 'pct_counts_in_top_50_genes', 'pct_counts_in_top_100_genes', 'pct_counts_in_top_200_genes', 'pct_counts_in_top_500_genes', 'total_counts_mt', 'log1p_total_counts_mt', 'pct_counts_mt', 'S_score', 'G2M_score', 'keep_or_remove', 'Technology', 'NR_annotations_simple', 'sample_type_major2', 'cancer_with_H', 'cancer_broadest', 'patient_treatment'\n",
       "    var: 'name', 'mt', 'n_cells_by_counts', 'mean_counts', 'log1p_mean_counts', 'pct_dropout_by_counts', 'total_counts', 'log1p_total_counts', 'highly_variable', 'means', 'dispersions', 'dispersions_norm', 'mean', 'std'\n",
       "    uns: 'NR_annotations_colors', 'NR_annotations_simple_colors', 'cancer_type_broad_colors', 'clean-leiden_0.8', 'clean-leiden_0.8_colors', 'clean-subcluster', 'clean-subcluster-v2', 'clean-subcluster-v2_colors', 'clean-subcluster_colors', 'dendrogram_NR_annotations_simple', 'hvg', 'log1p', 'neighbors', 'pca', 'rank_genes_groups', 'sample_type_major2_colors', 'site_colors', 'umap'\n",
       "    obsm: 'X_pca', 'X_pca_harmony', 'X_umap'\n",
       "    varm: 'PCs'\n",
       "    obsp: 'connectivities', 'distances'"
      ]
     },
     "execution_count": 19,
     "metadata": {},
     "output_type": "execute_result"
    }
   ],
   "source": [
    "data_atlas"
   ]
  },
  {
   "cell_type": "code",
   "execution_count": null,
   "id": "c182f0ac",
   "metadata": {},
   "outputs": [],
   "source": [
    "# export object: \n",
    "data_atlas.write_h5ad(\"MyeloidAPC_Atlas_Share.h5ad\", compression=\"gzip\")"
   ]
  },
  {
   "cell_type": "code",
   "execution_count": 24,
   "id": "166bb711",
   "metadata": {},
   "outputs": [
    {
     "data": {
      "text/plain": [
       "AnnData object with n_obs × n_vars = 29887 × 1746\n",
       "    obs: 'nCount_RNA', 'nFeature_RNA', 'sample_type', 'cancer_type', 'patient_id', 'sample_id', 'percent.mt', 'site', 'sample_type_major', 'cancer_subtype', 'integration_id', 'ident', 'dataset_id', 'n_genes_by_counts', 'log1p_n_genes_by_counts', 'total_counts', 'log1p_total_counts', 'pct_counts_in_top_50_genes', 'pct_counts_in_top_100_genes', 'pct_counts_in_top_200_genes', 'pct_counts_in_top_500_genes', 'total_counts_mt', 'log1p_total_counts_mt', 'pct_counts_mt', 'S_score', 'G2M_score', 'keep_or_remove', 'leiden', 'celltype', 'leiden_DC', 'leiden_DC_v2', 'exclude_annots', 'leiden_M', 'Technology', 'NR_annotations_simple', 'sample_type_major2', 'cancer_with_H', 'cancer_broadest', 'patient_treatment', 'DC1_sig', 'DC2_sig', 'DC3_sig', 'mregDC_sig'\n",
       "    var: 'name', 'mt', 'n_cells_by_counts', 'mean_counts', 'log1p_mean_counts', 'pct_dropout_by_counts', 'total_counts', 'log1p_total_counts', 'n_cells', 'highly_variable', 'means', 'dispersions', 'dispersions_norm', 'mean', 'std'\n",
       "    uns: 'NR_annotations_simple_colors', 'dendrogram_NR_annotations_simple', 'hvg', 'log1p', 'neighbors', 'pca', 'rank_genes_groups', 'umap'\n",
       "    obsm: 'X_pca', 'X_umap'\n",
       "    varm: 'PCs'\n",
       "    obsp: 'connectivities', 'distances'"
      ]
     },
     "execution_count": 24,
     "metadata": {},
     "output_type": "execute_result"
    }
   ],
   "source": [
    "data_AllDC"
   ]
  },
  {
   "cell_type": "markdown",
   "id": "a4e58fe5",
   "metadata": {},
   "source": [
    "### Remove the following columns from data_AllDC:\n",
    "\"sample_type\", \"cancer_type\", \"sample_type_major\", \"leiden\", \"celltype\", \"leiden_DC\", \"leiden_DC_v2\", \"exclude_annots\", \"leiden_M\",\n",
    "\"clean-leiden_0.8\", \"clean-subcluster\", \"clean-subcluster-v2\", \"YS_sig\", \"HSC_sig\", \"CD5nDC2_up_vDC3\", \"DC3_up_vCD5nDC2\", \"CD5pDC2_up_vDC3\", \n",
    "\"DC3_up_vCD5pDC2\", \"DC3_up_vMono\", \"Mono_up_vDC3\", \"DC_Axl_sig\", \"DC2_up_DC3\", \"DC3_up_DC2\", \"DC1_sig\", \"DC2_sig\", \"DC3_sig\", \"mregDC_sig\",\n",
    "\"cDC1_mregDC\", \"cDC2_mregDC\", \"NR_annotations\", \"CytoTRACE_DC_Predicted_order\", \"AHR(+)\", \"ATF3(+)\", \"BACH2(+)\", \"BATF(+)\", \"BHLHE40(+)\", \n",
    "\"BHLHE41(+)\", \"CREM(+)\", \"DDIT3(+)\", \"ELF3(+)\", \"ETS1(+)\", \"FOSL2(+)\", \"GATA3(+)\",\"HIF1A(+)\", \"IKZF2(+)\", \"IRF1(+)\", \"IRF4(+)\", \"IRF8(+)\", \"JUN(+)\", \n",
    "\"KLF12(+)\", \"KLF4(+)\", \"MAF(+)\", \"MAFF(+)\", \"NFE2(+)\", \"NFKB1(+)\", \"NFKB2(+)\", \"NR1H3(+)\", \"PRDM1(+)\", \"REL(+)\", \"SOX4(+)\", \"TCF7L2(+)\", \"cancer_type_broad\""
   ]
  },
  {
   "cell_type": "code",
   "execution_count": null,
   "id": "971e480a",
   "metadata": {},
   "outputs": [],
   "source": [
    "data_atlas.obs.drop(columns=[\"sample_type\", \"cancer_type\", \"sample_type_major\", \"leiden\", \"celltype\", \"leiden_DC\", \"leiden_DC_v2\", \"exclude_annots\", \"leiden_M\",\n",
    "\"clean-leiden_0.8\", \"clean-subcluster\", \"clean-subcluster-v2\", \"YS_sig\", \"HSC_sig\", \"CD5nDC2_up_vDC3\", \"DC3_up_vCD5nDC2\", \"CD5pDC2_up_vDC3\", \n",
    "\"DC3_up_vCD5pDC2\", \"DC3_up_vMono\", \"Mono_up_vDC3\", \"DC_Axl_sig\", \"DC2_up_DC3\", \"DC3_up_DC2\", \"DC1_sig\", \"DC2_sig\", \"DC3_sig\", \"mregDC_sig\",\n",
    "\"cDC1_mregDC\", \"cDC2_mregDC\", \"NR_annotations\", \"CytoTRACE_DC_Predicted_order\", \"AHR(+)\", \"ATF3(+)\", \"BACH2(+)\", \"BATF(+)\", \"BHLHE40(+)\", \n",
    "\"BHLHE41(+)\", \"CREM(+)\", \"DDIT3(+)\", \"ELF3(+)\", \"ETS1(+)\", \"FOSL2(+)\", \"GATA3(+)\",\"HIF1A(+)\", \"IKZF2(+)\", \"IRF1(+)\", \"IRF4(+)\", \"IRF8(+)\", \"JUN(+)\", \n",
    "\"KLF12(+)\", \"KLF4(+)\", \"MAF(+)\", \"MAFF(+)\", \"NFE2(+)\", \"NFKB1(+)\", \"NFKB2(+)\", \"NR1H3(+)\", \"PRDM1(+)\", \"REL(+)\", \"SOX4(+)\", \"TCF7L2(+)\", \"cancer_type_broad\"], inplace=True)"
   ]
  },
  {
   "cell_type": "code",
   "execution_count": null,
   "id": "76b6a7ea",
   "metadata": {},
   "outputs": [],
   "source": [
    "data_AllDC"
   ]
  },
  {
   "cell_type": "code",
   "execution_count": null,
   "id": "06e38575",
   "metadata": {},
   "outputs": [],
   "source": [
    "# export object: \n",
    "data_AllDC.write_h5ad(\"MyeloidAPC_Atlas_DC_Share.h5ad\", compression=\"gzip\")"
   ]
  },
  {
   "cell_type": "code",
   "execution_count": null,
   "id": "a9f5ff5f",
   "metadata": {},
   "outputs": [],
   "source": [
    "data_DC2"
   ]
  },
  {
   "cell_type": "markdown",
   "id": "d3f0fa3b",
   "metadata": {},
   "source": [
    "### Remove the following columns from data_atlas:\n",
    "\"sample_type\", \"cancer_type\", \"sample_type_major\", \"leiden\", \"celltype\", \"leiden_DC\", \"leiden_DC_v2\", \"exclude_annots\", \"leiden_M\",\n",
    "\"clean-leiden_0.8\", \"clean-subcluster\", \"clean-subcluster-v2\", \"YS_sig\", \"HSC_sig\", \"CD5nDC2_up_vDC3\", \"DC3_up_vCD5nDC2\", \"CD5pDC2_up_vDC3\", \n",
    "\"DC3_up_vCD5pDC2\", \"DC3_up_vMono\", \"Mono_up_vDC3\", \"DC_Axl_sig\", \"DC2_up_DC3\", \"DC3_up_DC2\", \"DC1_sig\", \"DC2_sig\", \"DC3_sig\", \"mregDC_sig\",\n",
    "\"cDC1_mregDC\", \"cDC2_mregDC\", \"NR_annotations\", \"CytoTRACE_DC_Predicted_order\", \"AHR(+)\", \"ATF3(+)\", \"BACH2(+)\", \"BATF(+)\", \"BHLHE40(+)\", \n",
    "\"BHLHE41(+)\", \"CREM(+)\", \"DDIT3(+)\", \"ELF3(+)\", \"ETS1(+)\", \"FOSL2(+)\", \"GATA3(+)\",\"HIF1A(+)\", \"IKZF2(+)\", \"IRF1(+)\", \"IRF4(+)\", \"IRF8(+)\", \"JUN(+)\", \n",
    "\"KLF12(+)\", \"KLF4(+)\", \"MAF(+)\", \"MAFF(+)\", \"NFE2(+)\", \"NFKB1(+)\", \"NFKB2(+)\", \"NR1H3(+)\", \"PRDM1(+)\", \"REL(+)\", \"SOX4(+)\", \"TCF7L2(+)\", \"cancer_type_broad\""
   ]
  },
  {
   "cell_type": "code",
   "execution_count": null,
   "id": "2cecab33",
   "metadata": {},
   "outputs": [],
   "source": []
  },
  {
   "cell_type": "code",
   "execution_count": null,
   "id": "cfba65b8",
   "metadata": {},
   "outputs": [],
   "source": [
    "data_atlas.obs.drop(columns=[\"sample_type\", \"cancer_type\", \"sample_type_major\", \"leiden\", \"celltype\", \"leiden_DC\", \"leiden_DC_v2\", \"exclude_annots\", \"leiden_M\",\n",
    "\"clean-leiden_0.8\", \"clean-subcluster\", \"clean-subcluster-v2\", \"YS_sig\", \"HSC_sig\", \"CD5nDC2_up_vDC3\", \"DC3_up_vCD5nDC2\", \"CD5pDC2_up_vDC3\", \n",
    "\"DC3_up_vCD5pDC2\", \"DC3_up_vMono\", \"Mono_up_vDC3\", \"DC_Axl_sig\", \"DC2_up_DC3\", \"DC3_up_DC2\", \"DC1_sig\", \"DC2_sig\", \"DC3_sig\", \"mregDC_sig\",\n",
    "\"cDC1_mregDC\", \"cDC2_mregDC\", \"NR_annotations\", \"CytoTRACE_DC_Predicted_order\", \"AHR(+)\", \"ATF3(+)\", \"BACH2(+)\", \"BATF(+)\", \"BHLHE40(+)\", \n",
    "\"BHLHE41(+)\", \"CREM(+)\", \"DDIT3(+)\", \"ELF3(+)\", \"ETS1(+)\", \"FOSL2(+)\", \"GATA3(+)\",\"HIF1A(+)\", \"IKZF2(+)\", \"IRF1(+)\", \"IRF4(+)\", \"IRF8(+)\", \"JUN(+)\", \n",
    "\"KLF12(+)\", \"KLF4(+)\", \"MAF(+)\", \"MAFF(+)\", \"NFE2(+)\", \"NFKB1(+)\", \"NFKB2(+)\", \"NR1H3(+)\", \"PRDM1(+)\", \"REL(+)\", \"SOX4(+)\", \"TCF7L2(+)\", \"cancer_type_broad\"], inplace=True)"
   ]
  },
  {
   "cell_type": "code",
   "execution_count": null,
   "id": "24024244",
   "metadata": {},
   "outputs": [],
   "source": [
    "data_DC2"
   ]
  },
  {
   "cell_type": "code",
   "execution_count": null,
   "id": "08337677",
   "metadata": {},
   "outputs": [],
   "source": [
    "# export object: \n",
    "data_DC2.write_h5ad(\"MyeloidAPC_Atlas_DC2_Share.h5ad\", compression=\"gzip\")"
   ]
  }
 ],
 "metadata": {
  "kernelspec": {
   "display_name": "Python 3 (ipykernel)",
   "language": "python",
   "name": "python3"
  },
  "language_info": {
   "codemirror_mode": {
    "name": "ipython",
    "version": 3
   },
   "file_extension": ".py",
   "mimetype": "text/x-python",
   "name": "python",
   "nbconvert_exporter": "python",
   "pygments_lexer": "ipython3",
   "version": "3.12.3"
  }
 },
 "nbformat": 4,
 "nbformat_minor": 5
}
