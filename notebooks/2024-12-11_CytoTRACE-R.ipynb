{
 "cells": [
  {
   "cell_type": "markdown",
   "metadata": {},
   "source": [
    "# CytoTRACE in R"
   ]
  },
  {
   "cell_type": "code",
   "execution_count": 1,
   "metadata": {
    "vscode": {
     "languageId": "r"
    }
   },
   "outputs": [
    {
     "data": {
      "text/html": [
       "'/scratch/user/s4436039/Nikita-project'"
      ],
      "text/latex": [
       "'/scratch/user/s4436039/Nikita-project'"
      ],
      "text/markdown": [
       "'/scratch/user/s4436039/Nikita-project'"
      ],
      "text/plain": [
       "[1] \"/scratch/user/s4436039/Nikita-project\""
      ]
     },
     "metadata": {},
     "output_type": "display_data"
    },
    {
     "data": {
      "text/html": [
       "'/scratch/user/s4436039/scdata/CytoTRACE'"
      ],
      "text/latex": [
       "'/scratch/user/s4436039/scdata/CytoTRACE'"
      ],
      "text/markdown": [
       "'/scratch/user/s4436039/scdata/CytoTRACE'"
      ],
      "text/plain": [
       "[1] \"/scratch/user/s4436039/scdata/CytoTRACE\""
      ]
     },
     "metadata": {},
     "output_type": "display_data"
    }
   ],
   "source": [
    "#set wd\n",
    "getwd()\n",
    "setwd('/scratch/user/s4436039/scdata/CytoTRACE')\n",
    "getwd()"
   ]
  },
  {
   "cell_type": "code",
   "execution_count": 2,
   "metadata": {
    "vscode": {
     "languageId": "r"
    }
   },
   "outputs": [
    {
     "name": "stderr",
     "output_type": "stream",
     "text": [
      "Loading required package: SeuratObject\n",
      "\n",
      "Loading required package: sp\n",
      "\n",
      "\n",
      "Attaching package: ‘SeuratObject’\n",
      "\n",
      "\n",
      "The following objects are masked from ‘package:base’:\n",
      "\n",
      "    intersect, t\n",
      "\n",
      "\n",
      "Loading required package: reticulate\n",
      "\n"
     ]
    }
   ],
   "source": [
    "library(Seurat)\n",
    "library(sceasy)\n",
    "library(reticulate)"
   ]
  },
  {
   "cell_type": "code",
   "execution_count": 3,
   "metadata": {
    "vscode": {
     "languageId": "r"
    }
   },
   "outputs": [
    {
     "ename": "ERROR",
     "evalue": "No module named 'anndata'",
     "output_type": "error",
     "traceback": [
      "No module named 'anndata'Traceback:\n",
      "1. func(obj, outFile = outFile, main_layer = main_layer, ...)",
      "2. reticulate::import(\"anndata\", convert = FALSE)",
      "3. py_module_import(module, convert = convert)",
      "4. stop(structure(list(message = \"ModuleNotFoundError: No module named 'anndata'\\nRun `reticulate::py_last_error()` for details.\", \n .     call = py_module_import(module, convert = convert)), class = c(\"python.builtin.ModuleNotFoundError\", \n . \"python.builtin.ImportError\", \"python.builtin.Exception\", \"python.builtin.BaseException\", \n . \"python.builtin.object\", \"error\", \"condition\"), py_object = <environment>))"
     ]
    }
   ],
   "source": [
    "h5ad_path = \"/scratch/user/s4436039/scdata/Python_Integration_Sep/NRclean_DC_cytotrace.h5ad\"\n",
    "\n",
    "sceasy::convertFormat(h5ad_path, from=\"anndata\", to=\"seurat\",\n",
    "                       outFile='NRclean_DC_R.rds')"
   ]
  },
  {
   "cell_type": "code",
   "execution_count": 3,
   "metadata": {
    "vscode": {
     "languageId": "r"
    }
   },
   "outputs": [],
   "source": [
    "data = readRDS('NRclean_DC_R.rds')"
   ]
  },
  {
   "cell_type": "code",
   "execution_count": 4,
   "metadata": {
    "vscode": {
     "languageId": "r"
    }
   },
   "outputs": [
    {
     "data": {
      "text/html": [
       "<table class=\"dataframe\">\n",
       "<caption>A data.frame: 6 × 60</caption>\n",
       "<thead>\n",
       "\t<tr><th></th><th scope=col>nCount_RNA</th><th scope=col>nFeature_RNA</th><th scope=col>sample_type</th><th scope=col>cancer_type</th><th scope=col>patient_id</th><th scope=col>sample_id</th><th scope=col>percent.mt</th><th scope=col>site</th><th scope=col>sample_type_major</th><th scope=col>cancer_subtype</th><th scope=col>⋯</th><th scope=col>DC2_up_DC3</th><th scope=col>DC3_up_DC2</th><th scope=col>mregDC_sig</th><th scope=col>cDC1_mregDC</th><th scope=col>cDC2_mregDC</th><th scope=col>NR_annotations</th><th scope=col>NR_annotations_simple</th><th scope=col>sample_type_major2</th><th scope=col>cancer_with_H</th><th scope=col>cancer_broadest</th></tr>\n",
       "\t<tr><th></th><th scope=col>&lt;dbl&gt;</th><th scope=col>&lt;dbl&gt;</th><th scope=col>&lt;fct&gt;</th><th scope=col>&lt;fct&gt;</th><th scope=col>&lt;fct&gt;</th><th scope=col>&lt;fct&gt;</th><th scope=col>&lt;dbl&gt;</th><th scope=col>&lt;fct&gt;</th><th scope=col>&lt;fct&gt;</th><th scope=col>&lt;fct&gt;</th><th scope=col>⋯</th><th scope=col>&lt;dbl&gt;</th><th scope=col>&lt;dbl&gt;</th><th scope=col>&lt;dbl&gt;</th><th scope=col>&lt;dbl&gt;</th><th scope=col>&lt;dbl&gt;</th><th scope=col>&lt;fct&gt;</th><th scope=col>&lt;fct&gt;</th><th scope=col>&lt;fct&gt;</th><th scope=col>&lt;fct&gt;</th><th scope=col>&lt;fct&gt;</th></tr>\n",
       "</thead>\n",
       "<tbody>\n",
       "\t<tr><th scope=row>GSE215120_AM1_AAATGCCCAGAGCCAA-1</th><td>17143</td><td>2659</td><td>tumour</td><td>Acral Melanoma</td><td>AM1</td><td>GSE215120_Acral_MEL_AM1</td><td>1.224990</td><td>skin</td><td>primary tumour</td><td>Acral Melanoma</td><td>⋯</td><td>0.4945923</td><td> 0.124529679</td><td> 0.4272291</td><td>0.2594598</td><td>0.4894216</td><td>cDC2</td><td>cDC2</td><td>primary tumour</td><td>Acral Melanoma</td><td>MEL</td></tr>\n",
       "\t<tr><th scope=row>GSE215120_AM1_ACACTGATCCACTGGG-1</th><td>18333</td><td>2845</td><td>tumour</td><td>Acral Melanoma</td><td>AM1</td><td>GSE215120_Acral_MEL_AM1</td><td>1.063656</td><td>skin</td><td>primary tumour</td><td>Acral Melanoma</td><td>⋯</td><td>0.6490408</td><td> 0.226950316</td><td> 0.6178830</td><td>0.2816962</td><td>0.6207678</td><td>cDC2</td><td>cDC2</td><td>primary tumour</td><td>Acral Melanoma</td><td>MEL</td></tr>\n",
       "\t<tr><th scope=row>GSE215120_AM1_ACAGCCGCAAACCTAC-1</th><td>10581</td><td>2182</td><td>tumour</td><td>Acral Melanoma</td><td>AM1</td><td>GSE215120_Acral_MEL_AM1</td><td>2.050846</td><td>skin</td><td>primary tumour</td><td>Acral Melanoma</td><td>⋯</td><td>0.5700062</td><td>-0.007039869</td><td> 0.1021379</td><td>0.2901960</td><td>0.3789101</td><td>cDC2</td><td>cDC2</td><td>primary tumour</td><td>Acral Melanoma</td><td>MEL</td></tr>\n",
       "\t<tr><th scope=row>GSE215120_AM1_ACCAGTAAGACTGGGT-1</th><td> 8015</td><td>1488</td><td>tumour</td><td>Acral Melanoma</td><td>AM1</td><td>GSE215120_Acral_MEL_AM1</td><td>2.033687</td><td>skin</td><td>primary tumour</td><td>Acral Melanoma</td><td>⋯</td><td>0.5710211</td><td> 0.021664478</td><td> 0.3235164</td><td>0.4469735</td><td>0.2238997</td><td>cDC1</td><td>cDC1</td><td>primary tumour</td><td>Acral Melanoma</td><td>MEL</td></tr>\n",
       "\t<tr><th scope=row>GSE215120_AM1_ACGTCAACAAGGACTG-1</th><td>25642</td><td>4010</td><td>tumour</td><td>Acral Melanoma</td><td>AM1</td><td>GSE215120_Acral_MEL_AM1</td><td>2.835192</td><td>skin</td><td>primary tumour</td><td>Acral Melanoma</td><td>⋯</td><td>0.4908928</td><td>-0.066700829</td><td> 0.2114101</td><td>0.3873203</td><td>0.3090685</td><td>cDC1</td><td>cDC1</td><td>primary tumour</td><td>Acral Melanoma</td><td>MEL</td></tr>\n",
       "\t<tr><th scope=row>GSE215120_AM1_ACGTCAATCCGCATCT-1</th><td> 9833</td><td>2074</td><td>tumour</td><td>Acral Melanoma</td><td>AM1</td><td>GSE215120_Acral_MEL_AM1</td><td>1.311909</td><td>skin</td><td>primary tumour</td><td>Acral Melanoma</td><td>⋯</td><td>0.4334673</td><td> 0.050473049</td><td>-0.1005454</td><td>0.1987381</td><td>0.4620914</td><td>cDC2</td><td>cDC2</td><td>primary tumour</td><td>Acral Melanoma</td><td>MEL</td></tr>\n",
       "</tbody>\n",
       "</table>\n"
      ],
      "text/latex": [
       "A data.frame: 6 × 60\n",
       "\\begin{tabular}{r|lllllllllllllllllllll}\n",
       "  & nCount\\_RNA & nFeature\\_RNA & sample\\_type & cancer\\_type & patient\\_id & sample\\_id & percent.mt & site & sample\\_type\\_major & cancer\\_subtype & ⋯ & DC2\\_up\\_DC3 & DC3\\_up\\_DC2 & mregDC\\_sig & cDC1\\_mregDC & cDC2\\_mregDC & NR\\_annotations & NR\\_annotations\\_simple & sample\\_type\\_major2 & cancer\\_with\\_H & cancer\\_broadest\\\\\n",
       "  & <dbl> & <dbl> & <fct> & <fct> & <fct> & <fct> & <dbl> & <fct> & <fct> & <fct> & ⋯ & <dbl> & <dbl> & <dbl> & <dbl> & <dbl> & <fct> & <fct> & <fct> & <fct> & <fct>\\\\\n",
       "\\hline\n",
       "\tGSE215120\\_AM1\\_AAATGCCCAGAGCCAA-1 & 17143 & 2659 & tumour & Acral Melanoma & AM1 & GSE215120\\_Acral\\_MEL\\_AM1 & 1.224990 & skin & primary tumour & Acral Melanoma & ⋯ & 0.4945923 &  0.124529679 &  0.4272291 & 0.2594598 & 0.4894216 & cDC2 & cDC2 & primary tumour & Acral Melanoma & MEL\\\\\n",
       "\tGSE215120\\_AM1\\_ACACTGATCCACTGGG-1 & 18333 & 2845 & tumour & Acral Melanoma & AM1 & GSE215120\\_Acral\\_MEL\\_AM1 & 1.063656 & skin & primary tumour & Acral Melanoma & ⋯ & 0.6490408 &  0.226950316 &  0.6178830 & 0.2816962 & 0.6207678 & cDC2 & cDC2 & primary tumour & Acral Melanoma & MEL\\\\\n",
       "\tGSE215120\\_AM1\\_ACAGCCGCAAACCTAC-1 & 10581 & 2182 & tumour & Acral Melanoma & AM1 & GSE215120\\_Acral\\_MEL\\_AM1 & 2.050846 & skin & primary tumour & Acral Melanoma & ⋯ & 0.5700062 & -0.007039869 &  0.1021379 & 0.2901960 & 0.3789101 & cDC2 & cDC2 & primary tumour & Acral Melanoma & MEL\\\\\n",
       "\tGSE215120\\_AM1\\_ACCAGTAAGACTGGGT-1 &  8015 & 1488 & tumour & Acral Melanoma & AM1 & GSE215120\\_Acral\\_MEL\\_AM1 & 2.033687 & skin & primary tumour & Acral Melanoma & ⋯ & 0.5710211 &  0.021664478 &  0.3235164 & 0.4469735 & 0.2238997 & cDC1 & cDC1 & primary tumour & Acral Melanoma & MEL\\\\\n",
       "\tGSE215120\\_AM1\\_ACGTCAACAAGGACTG-1 & 25642 & 4010 & tumour & Acral Melanoma & AM1 & GSE215120\\_Acral\\_MEL\\_AM1 & 2.835192 & skin & primary tumour & Acral Melanoma & ⋯ & 0.4908928 & -0.066700829 &  0.2114101 & 0.3873203 & 0.3090685 & cDC1 & cDC1 & primary tumour & Acral Melanoma & MEL\\\\\n",
       "\tGSE215120\\_AM1\\_ACGTCAATCCGCATCT-1 &  9833 & 2074 & tumour & Acral Melanoma & AM1 & GSE215120\\_Acral\\_MEL\\_AM1 & 1.311909 & skin & primary tumour & Acral Melanoma & ⋯ & 0.4334673 &  0.050473049 & -0.1005454 & 0.1987381 & 0.4620914 & cDC2 & cDC2 & primary tumour & Acral Melanoma & MEL\\\\\n",
       "\\end{tabular}\n"
      ],
      "text/markdown": [
       "\n",
       "A data.frame: 6 × 60\n",
       "\n",
       "| <!--/--> | nCount_RNA &lt;dbl&gt; | nFeature_RNA &lt;dbl&gt; | sample_type &lt;fct&gt; | cancer_type &lt;fct&gt; | patient_id &lt;fct&gt; | sample_id &lt;fct&gt; | percent.mt &lt;dbl&gt; | site &lt;fct&gt; | sample_type_major &lt;fct&gt; | cancer_subtype &lt;fct&gt; | ⋯ ⋯ | DC2_up_DC3 &lt;dbl&gt; | DC3_up_DC2 &lt;dbl&gt; | mregDC_sig &lt;dbl&gt; | cDC1_mregDC &lt;dbl&gt; | cDC2_mregDC &lt;dbl&gt; | NR_annotations &lt;fct&gt; | NR_annotations_simple &lt;fct&gt; | sample_type_major2 &lt;fct&gt; | cancer_with_H &lt;fct&gt; | cancer_broadest &lt;fct&gt; |\n",
       "|---|---|---|---|---|---|---|---|---|---|---|---|---|---|---|---|---|---|---|---|---|---|\n",
       "| GSE215120_AM1_AAATGCCCAGAGCCAA-1 | 17143 | 2659 | tumour | Acral Melanoma | AM1 | GSE215120_Acral_MEL_AM1 | 1.224990 | skin | primary tumour | Acral Melanoma | ⋯ | 0.4945923 |  0.124529679 |  0.4272291 | 0.2594598 | 0.4894216 | cDC2 | cDC2 | primary tumour | Acral Melanoma | MEL |\n",
       "| GSE215120_AM1_ACACTGATCCACTGGG-1 | 18333 | 2845 | tumour | Acral Melanoma | AM1 | GSE215120_Acral_MEL_AM1 | 1.063656 | skin | primary tumour | Acral Melanoma | ⋯ | 0.6490408 |  0.226950316 |  0.6178830 | 0.2816962 | 0.6207678 | cDC2 | cDC2 | primary tumour | Acral Melanoma | MEL |\n",
       "| GSE215120_AM1_ACAGCCGCAAACCTAC-1 | 10581 | 2182 | tumour | Acral Melanoma | AM1 | GSE215120_Acral_MEL_AM1 | 2.050846 | skin | primary tumour | Acral Melanoma | ⋯ | 0.5700062 | -0.007039869 |  0.1021379 | 0.2901960 | 0.3789101 | cDC2 | cDC2 | primary tumour | Acral Melanoma | MEL |\n",
       "| GSE215120_AM1_ACCAGTAAGACTGGGT-1 |  8015 | 1488 | tumour | Acral Melanoma | AM1 | GSE215120_Acral_MEL_AM1 | 2.033687 | skin | primary tumour | Acral Melanoma | ⋯ | 0.5710211 |  0.021664478 |  0.3235164 | 0.4469735 | 0.2238997 | cDC1 | cDC1 | primary tumour | Acral Melanoma | MEL |\n",
       "| GSE215120_AM1_ACGTCAACAAGGACTG-1 | 25642 | 4010 | tumour | Acral Melanoma | AM1 | GSE215120_Acral_MEL_AM1 | 2.835192 | skin | primary tumour | Acral Melanoma | ⋯ | 0.4908928 | -0.066700829 |  0.2114101 | 0.3873203 | 0.3090685 | cDC1 | cDC1 | primary tumour | Acral Melanoma | MEL |\n",
       "| GSE215120_AM1_ACGTCAATCCGCATCT-1 |  9833 | 2074 | tumour | Acral Melanoma | AM1 | GSE215120_Acral_MEL_AM1 | 1.311909 | skin | primary tumour | Acral Melanoma | ⋯ | 0.4334673 |  0.050473049 | -0.1005454 | 0.1987381 | 0.4620914 | cDC2 | cDC2 | primary tumour | Acral Melanoma | MEL |\n",
       "\n"
      ],
      "text/plain": [
       "                                 nCount_RNA nFeature_RNA sample_type\n",
       "GSE215120_AM1_AAATGCCCAGAGCCAA-1 17143      2659         tumour     \n",
       "GSE215120_AM1_ACACTGATCCACTGGG-1 18333      2845         tumour     \n",
       "GSE215120_AM1_ACAGCCGCAAACCTAC-1 10581      2182         tumour     \n",
       "GSE215120_AM1_ACCAGTAAGACTGGGT-1  8015      1488         tumour     \n",
       "GSE215120_AM1_ACGTCAACAAGGACTG-1 25642      4010         tumour     \n",
       "GSE215120_AM1_ACGTCAATCCGCATCT-1  9833      2074         tumour     \n",
       "                                 cancer_type    patient_id\n",
       "GSE215120_AM1_AAATGCCCAGAGCCAA-1 Acral Melanoma AM1       \n",
       "GSE215120_AM1_ACACTGATCCACTGGG-1 Acral Melanoma AM1       \n",
       "GSE215120_AM1_ACAGCCGCAAACCTAC-1 Acral Melanoma AM1       \n",
       "GSE215120_AM1_ACCAGTAAGACTGGGT-1 Acral Melanoma AM1       \n",
       "GSE215120_AM1_ACGTCAACAAGGACTG-1 Acral Melanoma AM1       \n",
       "GSE215120_AM1_ACGTCAATCCGCATCT-1 Acral Melanoma AM1       \n",
       "                                 sample_id               percent.mt site\n",
       "GSE215120_AM1_AAATGCCCAGAGCCAA-1 GSE215120_Acral_MEL_AM1 1.224990   skin\n",
       "GSE215120_AM1_ACACTGATCCACTGGG-1 GSE215120_Acral_MEL_AM1 1.063656   skin\n",
       "GSE215120_AM1_ACAGCCGCAAACCTAC-1 GSE215120_Acral_MEL_AM1 2.050846   skin\n",
       "GSE215120_AM1_ACCAGTAAGACTGGGT-1 GSE215120_Acral_MEL_AM1 2.033687   skin\n",
       "GSE215120_AM1_ACGTCAACAAGGACTG-1 GSE215120_Acral_MEL_AM1 2.835192   skin\n",
       "GSE215120_AM1_ACGTCAATCCGCATCT-1 GSE215120_Acral_MEL_AM1 1.311909   skin\n",
       "                                 sample_type_major cancer_subtype ⋯ DC2_up_DC3\n",
       "GSE215120_AM1_AAATGCCCAGAGCCAA-1 primary tumour    Acral Melanoma ⋯ 0.4945923 \n",
       "GSE215120_AM1_ACACTGATCCACTGGG-1 primary tumour    Acral Melanoma ⋯ 0.6490408 \n",
       "GSE215120_AM1_ACAGCCGCAAACCTAC-1 primary tumour    Acral Melanoma ⋯ 0.5700062 \n",
       "GSE215120_AM1_ACCAGTAAGACTGGGT-1 primary tumour    Acral Melanoma ⋯ 0.5710211 \n",
       "GSE215120_AM1_ACGTCAACAAGGACTG-1 primary tumour    Acral Melanoma ⋯ 0.4908928 \n",
       "GSE215120_AM1_ACGTCAATCCGCATCT-1 primary tumour    Acral Melanoma ⋯ 0.4334673 \n",
       "                                 DC3_up_DC2   mregDC_sig cDC1_mregDC\n",
       "GSE215120_AM1_AAATGCCCAGAGCCAA-1  0.124529679  0.4272291 0.2594598  \n",
       "GSE215120_AM1_ACACTGATCCACTGGG-1  0.226950316  0.6178830 0.2816962  \n",
       "GSE215120_AM1_ACAGCCGCAAACCTAC-1 -0.007039869  0.1021379 0.2901960  \n",
       "GSE215120_AM1_ACCAGTAAGACTGGGT-1  0.021664478  0.3235164 0.4469735  \n",
       "GSE215120_AM1_ACGTCAACAAGGACTG-1 -0.066700829  0.2114101 0.3873203  \n",
       "GSE215120_AM1_ACGTCAATCCGCATCT-1  0.050473049 -0.1005454 0.1987381  \n",
       "                                 cDC2_mregDC NR_annotations\n",
       "GSE215120_AM1_AAATGCCCAGAGCCAA-1 0.4894216   cDC2          \n",
       "GSE215120_AM1_ACACTGATCCACTGGG-1 0.6207678   cDC2          \n",
       "GSE215120_AM1_ACAGCCGCAAACCTAC-1 0.3789101   cDC2          \n",
       "GSE215120_AM1_ACCAGTAAGACTGGGT-1 0.2238997   cDC1          \n",
       "GSE215120_AM1_ACGTCAACAAGGACTG-1 0.3090685   cDC1          \n",
       "GSE215120_AM1_ACGTCAATCCGCATCT-1 0.4620914   cDC2          \n",
       "                                 NR_annotations_simple sample_type_major2\n",
       "GSE215120_AM1_AAATGCCCAGAGCCAA-1 cDC2                  primary tumour    \n",
       "GSE215120_AM1_ACACTGATCCACTGGG-1 cDC2                  primary tumour    \n",
       "GSE215120_AM1_ACAGCCGCAAACCTAC-1 cDC2                  primary tumour    \n",
       "GSE215120_AM1_ACCAGTAAGACTGGGT-1 cDC1                  primary tumour    \n",
       "GSE215120_AM1_ACGTCAACAAGGACTG-1 cDC1                  primary tumour    \n",
       "GSE215120_AM1_ACGTCAATCCGCATCT-1 cDC2                  primary tumour    \n",
       "                                 cancer_with_H  cancer_broadest\n",
       "GSE215120_AM1_AAATGCCCAGAGCCAA-1 Acral Melanoma MEL            \n",
       "GSE215120_AM1_ACACTGATCCACTGGG-1 Acral Melanoma MEL            \n",
       "GSE215120_AM1_ACAGCCGCAAACCTAC-1 Acral Melanoma MEL            \n",
       "GSE215120_AM1_ACCAGTAAGACTGGGT-1 Acral Melanoma MEL            \n",
       "GSE215120_AM1_ACGTCAACAAGGACTG-1 Acral Melanoma MEL            \n",
       "GSE215120_AM1_ACGTCAATCCGCATCT-1 Acral Melanoma MEL            "
      ]
     },
     "metadata": {},
     "output_type": "display_data"
    }
   ],
   "source": [
    "head(data@meta.data)"
   ]
  },
  {
   "cell_type": "code",
   "execution_count": 4,
   "metadata": {
    "vscode": {
     "languageId": "r"
    }
   },
   "outputs": [
    {
     "name": "stderr",
     "output_type": "stream",
     "text": [
      "Welcome to the CytoTRACE R package, a tool for the unbiased prediction of differentiation states in scRNA-seq data. For more information about this method, visit https://cytotrace.stanford.edu.\n",
      "\n",
      "\n",
      "Warning message:\n",
      "“The ScanoramaCT python module is not accessible. The iCytoTRACE function for integration across multiple datasets will be disabled. Please follow the instructions in https://github.com/gunsagargulati/CytoTRACE to install the necessary Python packages for this application.”\n"
     ]
    }
   ],
   "source": [
    "library(CytoTRACE)"
   ]
  },
  {
   "cell_type": "code",
   "execution_count": 5,
   "metadata": {
    "vscode": {
     "languageId": "r"
    }
   },
   "outputs": [],
   "source": [
    "#extract expression data\n",
    "expression_data <- GetAssayData(data)\n",
    "expression_data <- as.data.frame(as.matrix(expression_data))"
   ]
  },
  {
   "cell_type": "code",
   "execution_count": 16,
   "metadata": {
    "vscode": {
     "languageId": "r"
    }
   },
   "outputs": [
    {
     "data": {
      "text/html": [
       "<table class=\"dataframe\">\n",
       "<caption>A data.frame: 6 × 30241</caption>\n",
       "<thead>\n",
       "\t<tr><th></th><th scope=col>GSE215120_AM1_AAATGCCCAGAGCCAA-1</th><th scope=col>GSE215120_AM1_ACACTGATCCACTGGG-1</th><th scope=col>GSE215120_AM1_ACAGCCGCAAACCTAC-1</th><th scope=col>GSE215120_AM1_ACCAGTAAGACTGGGT-1</th><th scope=col>GSE215120_AM1_ACGTCAACAAGGACTG-1</th><th scope=col>GSE215120_AM1_ACGTCAATCCGCATCT-1</th><th scope=col>GSE215120_AM1_ACTGAGTCAGGCTGAA-1</th><th scope=col>GSE215120_AM1_ACTGTCCGTCTCTTAT-1</th><th scope=col>GSE215120_AM1_ACTTGTTTCTGAAAGA-1</th><th scope=col>GSE215120_AM1_AGAGCTTGTACAGTTC-1</th><th scope=col>⋯</th><th scope=col>GSE180661_HGSOC_SPECTRUM-OV-045_S1_CD45P_LEFT_OVARY_CGGGCATTCTTCTGTA</th><th scope=col>GSE180661_HGSOC_SPECTRUM-OV-045_S1_CD45P_LEFT_OVARY_CTACGGGGTGATCGTT</th><th scope=col>GSE180661_HGSOC_SPECTRUM-OV-045_S1_CD45P_LEFT_OVARY_CTCATGCTCGTTAGAC</th><th scope=col>GSE180661_HGSOC_SPECTRUM-OV-045_S1_CD45P_LEFT_OVARY_CTTGATTAGCAGGTCA</th><th scope=col>GSE180661_HGSOC_SPECTRUM-OV-045_S1_CD45P_LEFT_OVARY_GAGGGATCAAGCGCTC</th><th scope=col>GSE180661_HGSOC_SPECTRUM-OV-045_S1_CD45P_LEFT_OVARY_GTTTACTCAAGGCCTC</th><th scope=col>GSE180661_HGSOC_SPECTRUM-OV-045_S1_CD45P_LEFT_OVARY_TACCGAACAAACCGGA</th><th scope=col>GSE180661_HGSOC_SPECTRUM-OV-045_S1_CD45P_LEFT_OVARY_TCACGCTTCCGTCACT</th><th scope=col>GSE180661_HGSOC_SPECTRUM-OV-045_S1_CD45P_LEFT_OVARY_TGCAGTAGTGTTGCCG</th><th scope=col>GSE180661_HGSOC_SPECTRUM-OV-045_S1_CD45P_LEFT_OVARY_TGTGAGTTCGGAAACG</th></tr>\n",
       "\t<tr><th></th><th scope=col>&lt;dbl&gt;</th><th scope=col>&lt;dbl&gt;</th><th scope=col>&lt;dbl&gt;</th><th scope=col>&lt;dbl&gt;</th><th scope=col>&lt;dbl&gt;</th><th scope=col>&lt;dbl&gt;</th><th scope=col>&lt;dbl&gt;</th><th scope=col>&lt;dbl&gt;</th><th scope=col>&lt;dbl&gt;</th><th scope=col>&lt;dbl&gt;</th><th scope=col>⋯</th><th scope=col>&lt;dbl&gt;</th><th scope=col>&lt;dbl&gt;</th><th scope=col>&lt;dbl&gt;</th><th scope=col>&lt;dbl&gt;</th><th scope=col>&lt;dbl&gt;</th><th scope=col>&lt;dbl&gt;</th><th scope=col>&lt;dbl&gt;</th><th scope=col>&lt;dbl&gt;</th><th scope=col>&lt;dbl&gt;</th><th scope=col>&lt;dbl&gt;</th></tr>\n",
       "</thead>\n",
       "<tbody>\n",
       "\t<tr><th scope=row>HES4</th><td> 2.10042956</td><td> 3.45275483</td><td> 4.21835863</td><td>-0.32335678</td><td>-0.39281808</td><td>-0.33100814</td><td>-0.30674000</td><td>-0.32088230</td><td>-0.31202074</td><td>-0.35627685</td><td>⋯</td><td>-0.30352896</td><td>-0.23608103</td><td>-0.29583627</td><td>-0.23550534</td><td>-0.22692363</td><td>-0.29928685</td><td>-0.29836658</td><td>-0.29131687</td><td>-0.29165102</td><td>-0.27111413</td></tr>\n",
       "\t<tr><th scope=row>ISG15</th><td>-0.38093311</td><td> 0.94410567</td><td> 1.47187286</td><td> 0.22832942</td><td> 0.61383005</td><td> 0.04630722</td><td>-0.98469539</td><td>-0.36453844</td><td>-0.35181972</td><td>-0.22300907</td><td>⋯</td><td>-0.02546914</td><td> 0.93126918</td><td>-0.22630387</td><td>-0.57662320</td><td> 0.73137761</td><td> 0.48386717</td><td> 0.87684225</td><td>-0.90866133</td><td>-0.89511735</td><td>-0.78094494</td></tr>\n",
       "\t<tr><th scope=row>TNFRSF18</th><td> 2.62804255</td><td> 5.65023741</td><td>-0.12298977</td><td>-0.12573380</td><td>-0.10602046</td><td>-0.12463605</td><td>-0.12504777</td><td>-0.12586297</td><td>-0.12499708</td><td>-0.11507615</td><td>⋯</td><td>-0.12445032</td><td>-0.11325698</td><td>-0.12014261</td><td>-0.11343195</td><td>-0.11219064</td><td>-0.12068373</td><td>-0.13158176</td><td>-0.12649585</td><td>-0.12192309</td><td>-0.12320520</td></tr>\n",
       "\t<tr><th scope=row>TNFRSF4</th><td> 5.07010836</td><td> 4.06395330</td><td>-0.17561133</td><td>-0.16576986</td><td>-0.23441743</td><td>-0.18071631</td><td> 5.60853347</td><td>-0.17404046</td><td>-0.16839594</td><td>-0.20787494</td><td>⋯</td><td>-0.15706906</td><td>-0.15253007</td><td>-0.16634682</td><td>-0.14588155</td><td>-0.15756689</td><td>-0.17748924</td><td>-0.14318806</td><td>-0.17085078</td><td>-0.17747921</td><td>-0.15387784</td></tr>\n",
       "\t<tr><th scope=row>ATAD3C</th><td>-0.08303087</td><td>-0.08459465</td><td>-0.07388701</td><td>-0.07005439</td><td>-0.09592259</td><td>-0.07367120</td><td>-0.06989837</td><td>-0.07096651</td><td>-0.07052552</td><td>-0.08444572</td><td>⋯</td><td>-0.06624626</td><td>-0.06325107</td><td>-0.07004899</td><td>-0.06208992</td><td>-0.06473342</td><td>-0.07187153</td><td>-0.06170866</td><td>-0.06710324</td><td>-0.06972128</td><td>-0.06360366</td></tr>\n",
       "\t<tr><th scope=row>PRKCZ</th><td>-0.08844925</td><td>-0.08867859</td><td>-0.08567117</td><td>-0.08457820</td><td>-0.09298853</td><td>-0.08465160</td><td>-0.08381085</td><td>-0.08398513</td><td>-0.08409993</td><td>-0.08863072</td><td>⋯</td><td>-0.08473521</td><td>-0.08654890</td><td>-0.08558704</td><td>-0.08678614</td><td>-0.08616186</td><td>-0.08495224</td><td>-0.08196928</td><td>-0.08244721</td><td>-0.08414816</td><td>-0.08378394</td></tr>\n",
       "</tbody>\n",
       "</table>\n"
      ],
      "text/latex": [
       "A data.frame: 6 × 30241\n",
       "\\begin{tabular}{r|lllllllllllllllllllll}\n",
       "  & GSE215120\\_AM1\\_AAATGCCCAGAGCCAA-1 & GSE215120\\_AM1\\_ACACTGATCCACTGGG-1 & GSE215120\\_AM1\\_ACAGCCGCAAACCTAC-1 & GSE215120\\_AM1\\_ACCAGTAAGACTGGGT-1 & GSE215120\\_AM1\\_ACGTCAACAAGGACTG-1 & GSE215120\\_AM1\\_ACGTCAATCCGCATCT-1 & GSE215120\\_AM1\\_ACTGAGTCAGGCTGAA-1 & GSE215120\\_AM1\\_ACTGTCCGTCTCTTAT-1 & GSE215120\\_AM1\\_ACTTGTTTCTGAAAGA-1 & GSE215120\\_AM1\\_AGAGCTTGTACAGTTC-1 & ⋯ & GSE180661\\_HGSOC\\_SPECTRUM-OV-045\\_S1\\_CD45P\\_LEFT\\_OVARY\\_CGGGCATTCTTCTGTA & GSE180661\\_HGSOC\\_SPECTRUM-OV-045\\_S1\\_CD45P\\_LEFT\\_OVARY\\_CTACGGGGTGATCGTT & GSE180661\\_HGSOC\\_SPECTRUM-OV-045\\_S1\\_CD45P\\_LEFT\\_OVARY\\_CTCATGCTCGTTAGAC & GSE180661\\_HGSOC\\_SPECTRUM-OV-045\\_S1\\_CD45P\\_LEFT\\_OVARY\\_CTTGATTAGCAGGTCA & GSE180661\\_HGSOC\\_SPECTRUM-OV-045\\_S1\\_CD45P\\_LEFT\\_OVARY\\_GAGGGATCAAGCGCTC & GSE180661\\_HGSOC\\_SPECTRUM-OV-045\\_S1\\_CD45P\\_LEFT\\_OVARY\\_GTTTACTCAAGGCCTC & GSE180661\\_HGSOC\\_SPECTRUM-OV-045\\_S1\\_CD45P\\_LEFT\\_OVARY\\_TACCGAACAAACCGGA & GSE180661\\_HGSOC\\_SPECTRUM-OV-045\\_S1\\_CD45P\\_LEFT\\_OVARY\\_TCACGCTTCCGTCACT & GSE180661\\_HGSOC\\_SPECTRUM-OV-045\\_S1\\_CD45P\\_LEFT\\_OVARY\\_TGCAGTAGTGTTGCCG & GSE180661\\_HGSOC\\_SPECTRUM-OV-045\\_S1\\_CD45P\\_LEFT\\_OVARY\\_TGTGAGTTCGGAAACG\\\\\n",
       "  & <dbl> & <dbl> & <dbl> & <dbl> & <dbl> & <dbl> & <dbl> & <dbl> & <dbl> & <dbl> & ⋯ & <dbl> & <dbl> & <dbl> & <dbl> & <dbl> & <dbl> & <dbl> & <dbl> & <dbl> & <dbl>\\\\\n",
       "\\hline\n",
       "\tHES4 &  2.10042956 &  3.45275483 &  4.21835863 & -0.32335678 & -0.39281808 & -0.33100814 & -0.30674000 & -0.32088230 & -0.31202074 & -0.35627685 & ⋯ & -0.30352896 & -0.23608103 & -0.29583627 & -0.23550534 & -0.22692363 & -0.29928685 & -0.29836658 & -0.29131687 & -0.29165102 & -0.27111413\\\\\n",
       "\tISG15 & -0.38093311 &  0.94410567 &  1.47187286 &  0.22832942 &  0.61383005 &  0.04630722 & -0.98469539 & -0.36453844 & -0.35181972 & -0.22300907 & ⋯ & -0.02546914 &  0.93126918 & -0.22630387 & -0.57662320 &  0.73137761 &  0.48386717 &  0.87684225 & -0.90866133 & -0.89511735 & -0.78094494\\\\\n",
       "\tTNFRSF18 &  2.62804255 &  5.65023741 & -0.12298977 & -0.12573380 & -0.10602046 & -0.12463605 & -0.12504777 & -0.12586297 & -0.12499708 & -0.11507615 & ⋯ & -0.12445032 & -0.11325698 & -0.12014261 & -0.11343195 & -0.11219064 & -0.12068373 & -0.13158176 & -0.12649585 & -0.12192309 & -0.12320520\\\\\n",
       "\tTNFRSF4 &  5.07010836 &  4.06395330 & -0.17561133 & -0.16576986 & -0.23441743 & -0.18071631 &  5.60853347 & -0.17404046 & -0.16839594 & -0.20787494 & ⋯ & -0.15706906 & -0.15253007 & -0.16634682 & -0.14588155 & -0.15756689 & -0.17748924 & -0.14318806 & -0.17085078 & -0.17747921 & -0.15387784\\\\\n",
       "\tATAD3C & -0.08303087 & -0.08459465 & -0.07388701 & -0.07005439 & -0.09592259 & -0.07367120 & -0.06989837 & -0.07096651 & -0.07052552 & -0.08444572 & ⋯ & -0.06624626 & -0.06325107 & -0.07004899 & -0.06208992 & -0.06473342 & -0.07187153 & -0.06170866 & -0.06710324 & -0.06972128 & -0.06360366\\\\\n",
       "\tPRKCZ & -0.08844925 & -0.08867859 & -0.08567117 & -0.08457820 & -0.09298853 & -0.08465160 & -0.08381085 & -0.08398513 & -0.08409993 & -0.08863072 & ⋯ & -0.08473521 & -0.08654890 & -0.08558704 & -0.08678614 & -0.08616186 & -0.08495224 & -0.08196928 & -0.08244721 & -0.08414816 & -0.08378394\\\\\n",
       "\\end{tabular}\n"
      ],
      "text/markdown": [
       "\n",
       "A data.frame: 6 × 30241\n",
       "\n",
       "| <!--/--> | GSE215120_AM1_AAATGCCCAGAGCCAA-1 &lt;dbl&gt; | GSE215120_AM1_ACACTGATCCACTGGG-1 &lt;dbl&gt; | GSE215120_AM1_ACAGCCGCAAACCTAC-1 &lt;dbl&gt; | GSE215120_AM1_ACCAGTAAGACTGGGT-1 &lt;dbl&gt; | GSE215120_AM1_ACGTCAACAAGGACTG-1 &lt;dbl&gt; | GSE215120_AM1_ACGTCAATCCGCATCT-1 &lt;dbl&gt; | GSE215120_AM1_ACTGAGTCAGGCTGAA-1 &lt;dbl&gt; | GSE215120_AM1_ACTGTCCGTCTCTTAT-1 &lt;dbl&gt; | GSE215120_AM1_ACTTGTTTCTGAAAGA-1 &lt;dbl&gt; | GSE215120_AM1_AGAGCTTGTACAGTTC-1 &lt;dbl&gt; | ⋯ ⋯ | GSE180661_HGSOC_SPECTRUM-OV-045_S1_CD45P_LEFT_OVARY_CGGGCATTCTTCTGTA &lt;dbl&gt; | GSE180661_HGSOC_SPECTRUM-OV-045_S1_CD45P_LEFT_OVARY_CTACGGGGTGATCGTT &lt;dbl&gt; | GSE180661_HGSOC_SPECTRUM-OV-045_S1_CD45P_LEFT_OVARY_CTCATGCTCGTTAGAC &lt;dbl&gt; | GSE180661_HGSOC_SPECTRUM-OV-045_S1_CD45P_LEFT_OVARY_CTTGATTAGCAGGTCA &lt;dbl&gt; | GSE180661_HGSOC_SPECTRUM-OV-045_S1_CD45P_LEFT_OVARY_GAGGGATCAAGCGCTC &lt;dbl&gt; | GSE180661_HGSOC_SPECTRUM-OV-045_S1_CD45P_LEFT_OVARY_GTTTACTCAAGGCCTC &lt;dbl&gt; | GSE180661_HGSOC_SPECTRUM-OV-045_S1_CD45P_LEFT_OVARY_TACCGAACAAACCGGA &lt;dbl&gt; | GSE180661_HGSOC_SPECTRUM-OV-045_S1_CD45P_LEFT_OVARY_TCACGCTTCCGTCACT &lt;dbl&gt; | GSE180661_HGSOC_SPECTRUM-OV-045_S1_CD45P_LEFT_OVARY_TGCAGTAGTGTTGCCG &lt;dbl&gt; | GSE180661_HGSOC_SPECTRUM-OV-045_S1_CD45P_LEFT_OVARY_TGTGAGTTCGGAAACG &lt;dbl&gt; |\n",
       "|---|---|---|---|---|---|---|---|---|---|---|---|---|---|---|---|---|---|---|---|---|---|\n",
       "| HES4 |  2.10042956 |  3.45275483 |  4.21835863 | -0.32335678 | -0.39281808 | -0.33100814 | -0.30674000 | -0.32088230 | -0.31202074 | -0.35627685 | ⋯ | -0.30352896 | -0.23608103 | -0.29583627 | -0.23550534 | -0.22692363 | -0.29928685 | -0.29836658 | -0.29131687 | -0.29165102 | -0.27111413 |\n",
       "| ISG15 | -0.38093311 |  0.94410567 |  1.47187286 |  0.22832942 |  0.61383005 |  0.04630722 | -0.98469539 | -0.36453844 | -0.35181972 | -0.22300907 | ⋯ | -0.02546914 |  0.93126918 | -0.22630387 | -0.57662320 |  0.73137761 |  0.48386717 |  0.87684225 | -0.90866133 | -0.89511735 | -0.78094494 |\n",
       "| TNFRSF18 |  2.62804255 |  5.65023741 | -0.12298977 | -0.12573380 | -0.10602046 | -0.12463605 | -0.12504777 | -0.12586297 | -0.12499708 | -0.11507615 | ⋯ | -0.12445032 | -0.11325698 | -0.12014261 | -0.11343195 | -0.11219064 | -0.12068373 | -0.13158176 | -0.12649585 | -0.12192309 | -0.12320520 |\n",
       "| TNFRSF4 |  5.07010836 |  4.06395330 | -0.17561133 | -0.16576986 | -0.23441743 | -0.18071631 |  5.60853347 | -0.17404046 | -0.16839594 | -0.20787494 | ⋯ | -0.15706906 | -0.15253007 | -0.16634682 | -0.14588155 | -0.15756689 | -0.17748924 | -0.14318806 | -0.17085078 | -0.17747921 | -0.15387784 |\n",
       "| ATAD3C | -0.08303087 | -0.08459465 | -0.07388701 | -0.07005439 | -0.09592259 | -0.07367120 | -0.06989837 | -0.07096651 | -0.07052552 | -0.08444572 | ⋯ | -0.06624626 | -0.06325107 | -0.07004899 | -0.06208992 | -0.06473342 | -0.07187153 | -0.06170866 | -0.06710324 | -0.06972128 | -0.06360366 |\n",
       "| PRKCZ | -0.08844925 | -0.08867859 | -0.08567117 | -0.08457820 | -0.09298853 | -0.08465160 | -0.08381085 | -0.08398513 | -0.08409993 | -0.08863072 | ⋯ | -0.08473521 | -0.08654890 | -0.08558704 | -0.08678614 | -0.08616186 | -0.08495224 | -0.08196928 | -0.08244721 | -0.08414816 | -0.08378394 |\n",
       "\n"
      ],
      "text/plain": [
       "         GSE215120_AM1_AAATGCCCAGAGCCAA-1 GSE215120_AM1_ACACTGATCCACTGGG-1\n",
       "HES4      2.10042956                       3.45275483                     \n",
       "ISG15    -0.38093311                       0.94410567                     \n",
       "TNFRSF18  2.62804255                       5.65023741                     \n",
       "TNFRSF4   5.07010836                       4.06395330                     \n",
       "ATAD3C   -0.08303087                      -0.08459465                     \n",
       "PRKCZ    -0.08844925                      -0.08867859                     \n",
       "         GSE215120_AM1_ACAGCCGCAAACCTAC-1 GSE215120_AM1_ACCAGTAAGACTGGGT-1\n",
       "HES4      4.21835863                      -0.32335678                     \n",
       "ISG15     1.47187286                       0.22832942                     \n",
       "TNFRSF18 -0.12298977                      -0.12573380                     \n",
       "TNFRSF4  -0.17561133                      -0.16576986                     \n",
       "ATAD3C   -0.07388701                      -0.07005439                     \n",
       "PRKCZ    -0.08567117                      -0.08457820                     \n",
       "         GSE215120_AM1_ACGTCAACAAGGACTG-1 GSE215120_AM1_ACGTCAATCCGCATCT-1\n",
       "HES4     -0.39281808                      -0.33100814                     \n",
       "ISG15     0.61383005                       0.04630722                     \n",
       "TNFRSF18 -0.10602046                      -0.12463605                     \n",
       "TNFRSF4  -0.23441743                      -0.18071631                     \n",
       "ATAD3C   -0.09592259                      -0.07367120                     \n",
       "PRKCZ    -0.09298853                      -0.08465160                     \n",
       "         GSE215120_AM1_ACTGAGTCAGGCTGAA-1 GSE215120_AM1_ACTGTCCGTCTCTTAT-1\n",
       "HES4     -0.30674000                      -0.32088230                     \n",
       "ISG15    -0.98469539                      -0.36453844                     \n",
       "TNFRSF18 -0.12504777                      -0.12586297                     \n",
       "TNFRSF4   5.60853347                      -0.17404046                     \n",
       "ATAD3C   -0.06989837                      -0.07096651                     \n",
       "PRKCZ    -0.08381085                      -0.08398513                     \n",
       "         GSE215120_AM1_ACTTGTTTCTGAAAGA-1 GSE215120_AM1_AGAGCTTGTACAGTTC-1 ⋯\n",
       "HES4     -0.31202074                      -0.35627685                      ⋯\n",
       "ISG15    -0.35181972                      -0.22300907                      ⋯\n",
       "TNFRSF18 -0.12499708                      -0.11507615                      ⋯\n",
       "TNFRSF4  -0.16839594                      -0.20787494                      ⋯\n",
       "ATAD3C   -0.07052552                      -0.08444572                      ⋯\n",
       "PRKCZ    -0.08409993                      -0.08863072                      ⋯\n",
       "         GSE180661_HGSOC_SPECTRUM-OV-045_S1_CD45P_LEFT_OVARY_CGGGCATTCTTCTGTA\n",
       "HES4     -0.30352896                                                         \n",
       "ISG15    -0.02546914                                                         \n",
       "TNFRSF18 -0.12445032                                                         \n",
       "TNFRSF4  -0.15706906                                                         \n",
       "ATAD3C   -0.06624626                                                         \n",
       "PRKCZ    -0.08473521                                                         \n",
       "         GSE180661_HGSOC_SPECTRUM-OV-045_S1_CD45P_LEFT_OVARY_CTACGGGGTGATCGTT\n",
       "HES4     -0.23608103                                                         \n",
       "ISG15     0.93126918                                                         \n",
       "TNFRSF18 -0.11325698                                                         \n",
       "TNFRSF4  -0.15253007                                                         \n",
       "ATAD3C   -0.06325107                                                         \n",
       "PRKCZ    -0.08654890                                                         \n",
       "         GSE180661_HGSOC_SPECTRUM-OV-045_S1_CD45P_LEFT_OVARY_CTCATGCTCGTTAGAC\n",
       "HES4     -0.29583627                                                         \n",
       "ISG15    -0.22630387                                                         \n",
       "TNFRSF18 -0.12014261                                                         \n",
       "TNFRSF4  -0.16634682                                                         \n",
       "ATAD3C   -0.07004899                                                         \n",
       "PRKCZ    -0.08558704                                                         \n",
       "         GSE180661_HGSOC_SPECTRUM-OV-045_S1_CD45P_LEFT_OVARY_CTTGATTAGCAGGTCA\n",
       "HES4     -0.23550534                                                         \n",
       "ISG15    -0.57662320                                                         \n",
       "TNFRSF18 -0.11343195                                                         \n",
       "TNFRSF4  -0.14588155                                                         \n",
       "ATAD3C   -0.06208992                                                         \n",
       "PRKCZ    -0.08678614                                                         \n",
       "         GSE180661_HGSOC_SPECTRUM-OV-045_S1_CD45P_LEFT_OVARY_GAGGGATCAAGCGCTC\n",
       "HES4     -0.22692363                                                         \n",
       "ISG15     0.73137761                                                         \n",
       "TNFRSF18 -0.11219064                                                         \n",
       "TNFRSF4  -0.15756689                                                         \n",
       "ATAD3C   -0.06473342                                                         \n",
       "PRKCZ    -0.08616186                                                         \n",
       "         GSE180661_HGSOC_SPECTRUM-OV-045_S1_CD45P_LEFT_OVARY_GTTTACTCAAGGCCTC\n",
       "HES4     -0.29928685                                                         \n",
       "ISG15     0.48386717                                                         \n",
       "TNFRSF18 -0.12068373                                                         \n",
       "TNFRSF4  -0.17748924                                                         \n",
       "ATAD3C   -0.07187153                                                         \n",
       "PRKCZ    -0.08495224                                                         \n",
       "         GSE180661_HGSOC_SPECTRUM-OV-045_S1_CD45P_LEFT_OVARY_TACCGAACAAACCGGA\n",
       "HES4     -0.29836658                                                         \n",
       "ISG15     0.87684225                                                         \n",
       "TNFRSF18 -0.13158176                                                         \n",
       "TNFRSF4  -0.14318806                                                         \n",
       "ATAD3C   -0.06170866                                                         \n",
       "PRKCZ    -0.08196928                                                         \n",
       "         GSE180661_HGSOC_SPECTRUM-OV-045_S1_CD45P_LEFT_OVARY_TCACGCTTCCGTCACT\n",
       "HES4     -0.29131687                                                         \n",
       "ISG15    -0.90866133                                                         \n",
       "TNFRSF18 -0.12649585                                                         \n",
       "TNFRSF4  -0.17085078                                                         \n",
       "ATAD3C   -0.06710324                                                         \n",
       "PRKCZ    -0.08244721                                                         \n",
       "         GSE180661_HGSOC_SPECTRUM-OV-045_S1_CD45P_LEFT_OVARY_TGCAGTAGTGTTGCCG\n",
       "HES4     -0.29165102                                                         \n",
       "ISG15    -0.89511735                                                         \n",
       "TNFRSF18 -0.12192309                                                         \n",
       "TNFRSF4  -0.17747921                                                         \n",
       "ATAD3C   -0.06972128                                                         \n",
       "PRKCZ    -0.08414816                                                         \n",
       "         GSE180661_HGSOC_SPECTRUM-OV-045_S1_CD45P_LEFT_OVARY_TGTGAGTTCGGAAACG\n",
       "HES4     -0.27111413                                                         \n",
       "ISG15    -0.78094494                                                         \n",
       "TNFRSF18 -0.12320520                                                         \n",
       "TNFRSF4  -0.15387784                                                         \n",
       "ATAD3C   -0.06360366                                                         \n",
       "PRKCZ    -0.08378394                                                         "
      ]
     },
     "metadata": {},
     "output_type": "display_data"
    }
   ],
   "source": [
    "# Extract the expression data as a matrix\n",
    "expression_raw <- GetAssayData(data, layer = \"counts\")  # Use slot = \"counts\" for raw counts\n",
    "\n",
    "# Convert to a data frame if needed\n",
    "expression_raw <- as.data.frame(as.matrix(expression_raw))\n",
    "\n",
    "# View the expression data\n",
    "head(expression_raw)"
   ]
  },
  {
   "cell_type": "code",
   "execution_count": 6,
   "metadata": {
    "vscode": {
     "languageId": "r"
    }
   },
   "outputs": [
    {
     "data": {
      "text/html": [
       "<table class=\"dataframe\">\n",
       "<caption>A data.frame: 6 × 30241</caption>\n",
       "<thead>\n",
       "\t<tr><th></th><th scope=col>GSE215120_AM1_AAATGCCCAGAGCCAA-1</th><th scope=col>GSE215120_AM1_ACACTGATCCACTGGG-1</th><th scope=col>GSE215120_AM1_ACAGCCGCAAACCTAC-1</th><th scope=col>GSE215120_AM1_ACCAGTAAGACTGGGT-1</th><th scope=col>GSE215120_AM1_ACGTCAACAAGGACTG-1</th><th scope=col>GSE215120_AM1_ACGTCAATCCGCATCT-1</th><th scope=col>GSE215120_AM1_ACTGAGTCAGGCTGAA-1</th><th scope=col>GSE215120_AM1_ACTGTCCGTCTCTTAT-1</th><th scope=col>GSE215120_AM1_ACTTGTTTCTGAAAGA-1</th><th scope=col>GSE215120_AM1_AGAGCTTGTACAGTTC-1</th><th scope=col>⋯</th><th scope=col>GSE180661_HGSOC_SPECTRUM-OV-045_S1_CD45P_LEFT_OVARY_CGGGCATTCTTCTGTA</th><th scope=col>GSE180661_HGSOC_SPECTRUM-OV-045_S1_CD45P_LEFT_OVARY_CTACGGGGTGATCGTT</th><th scope=col>GSE180661_HGSOC_SPECTRUM-OV-045_S1_CD45P_LEFT_OVARY_CTCATGCTCGTTAGAC</th><th scope=col>GSE180661_HGSOC_SPECTRUM-OV-045_S1_CD45P_LEFT_OVARY_CTTGATTAGCAGGTCA</th><th scope=col>GSE180661_HGSOC_SPECTRUM-OV-045_S1_CD45P_LEFT_OVARY_GAGGGATCAAGCGCTC</th><th scope=col>GSE180661_HGSOC_SPECTRUM-OV-045_S1_CD45P_LEFT_OVARY_GTTTACTCAAGGCCTC</th><th scope=col>GSE180661_HGSOC_SPECTRUM-OV-045_S1_CD45P_LEFT_OVARY_TACCGAACAAACCGGA</th><th scope=col>GSE180661_HGSOC_SPECTRUM-OV-045_S1_CD45P_LEFT_OVARY_TCACGCTTCCGTCACT</th><th scope=col>GSE180661_HGSOC_SPECTRUM-OV-045_S1_CD45P_LEFT_OVARY_TGCAGTAGTGTTGCCG</th><th scope=col>GSE180661_HGSOC_SPECTRUM-OV-045_S1_CD45P_LEFT_OVARY_TGTGAGTTCGGAAACG</th></tr>\n",
       "\t<tr><th></th><th scope=col>&lt;dbl&gt;</th><th scope=col>&lt;dbl&gt;</th><th scope=col>&lt;dbl&gt;</th><th scope=col>&lt;dbl&gt;</th><th scope=col>&lt;dbl&gt;</th><th scope=col>&lt;dbl&gt;</th><th scope=col>&lt;dbl&gt;</th><th scope=col>&lt;dbl&gt;</th><th scope=col>&lt;dbl&gt;</th><th scope=col>&lt;dbl&gt;</th><th scope=col>⋯</th><th scope=col>&lt;dbl&gt;</th><th scope=col>&lt;dbl&gt;</th><th scope=col>&lt;dbl&gt;</th><th scope=col>&lt;dbl&gt;</th><th scope=col>&lt;dbl&gt;</th><th scope=col>&lt;dbl&gt;</th><th scope=col>&lt;dbl&gt;</th><th scope=col>&lt;dbl&gt;</th><th scope=col>&lt;dbl&gt;</th><th scope=col>&lt;dbl&gt;</th></tr>\n",
       "</thead>\n",
       "<tbody>\n",
       "\t<tr><th scope=row>HES4</th><td> 2.10042956</td><td> 3.45275483</td><td> 4.21835863</td><td>-0.32335678</td><td>-0.39281808</td><td>-0.33100814</td><td>-0.30674000</td><td>-0.32088230</td><td>-0.31202074</td><td>-0.35627685</td><td>⋯</td><td>-0.30352896</td><td>-0.23608103</td><td>-0.29583627</td><td>-0.23550534</td><td>-0.22692363</td><td>-0.29928685</td><td>-0.29836658</td><td>-0.29131687</td><td>-0.29165102</td><td>-0.27111413</td></tr>\n",
       "\t<tr><th scope=row>ISG15</th><td>-0.38093311</td><td> 0.94410567</td><td> 1.47187286</td><td> 0.22832942</td><td> 0.61383005</td><td> 0.04630722</td><td>-0.98469539</td><td>-0.36453844</td><td>-0.35181972</td><td>-0.22300907</td><td>⋯</td><td>-0.02546914</td><td> 0.93126918</td><td>-0.22630387</td><td>-0.57662320</td><td> 0.73137761</td><td> 0.48386717</td><td> 0.87684225</td><td>-0.90866133</td><td>-0.89511735</td><td>-0.78094494</td></tr>\n",
       "\t<tr><th scope=row>TNFRSF18</th><td> 2.62804255</td><td> 5.65023741</td><td>-0.12298977</td><td>-0.12573380</td><td>-0.10602046</td><td>-0.12463605</td><td>-0.12504777</td><td>-0.12586297</td><td>-0.12499708</td><td>-0.11507615</td><td>⋯</td><td>-0.12445032</td><td>-0.11325698</td><td>-0.12014261</td><td>-0.11343195</td><td>-0.11219064</td><td>-0.12068373</td><td>-0.13158176</td><td>-0.12649585</td><td>-0.12192309</td><td>-0.12320520</td></tr>\n",
       "\t<tr><th scope=row>TNFRSF4</th><td> 5.07010836</td><td> 4.06395330</td><td>-0.17561133</td><td>-0.16576986</td><td>-0.23441743</td><td>-0.18071631</td><td> 5.60853347</td><td>-0.17404046</td><td>-0.16839594</td><td>-0.20787494</td><td>⋯</td><td>-0.15706906</td><td>-0.15253007</td><td>-0.16634682</td><td>-0.14588155</td><td>-0.15756689</td><td>-0.17748924</td><td>-0.14318806</td><td>-0.17085078</td><td>-0.17747921</td><td>-0.15387784</td></tr>\n",
       "\t<tr><th scope=row>ATAD3C</th><td>-0.08303087</td><td>-0.08459465</td><td>-0.07388701</td><td>-0.07005439</td><td>-0.09592259</td><td>-0.07367120</td><td>-0.06989837</td><td>-0.07096651</td><td>-0.07052552</td><td>-0.08444572</td><td>⋯</td><td>-0.06624626</td><td>-0.06325107</td><td>-0.07004899</td><td>-0.06208992</td><td>-0.06473342</td><td>-0.07187153</td><td>-0.06170866</td><td>-0.06710324</td><td>-0.06972128</td><td>-0.06360366</td></tr>\n",
       "\t<tr><th scope=row>PRKCZ</th><td>-0.08844925</td><td>-0.08867859</td><td>-0.08567117</td><td>-0.08457820</td><td>-0.09298853</td><td>-0.08465160</td><td>-0.08381085</td><td>-0.08398513</td><td>-0.08409993</td><td>-0.08863072</td><td>⋯</td><td>-0.08473521</td><td>-0.08654890</td><td>-0.08558704</td><td>-0.08678614</td><td>-0.08616186</td><td>-0.08495224</td><td>-0.08196928</td><td>-0.08244721</td><td>-0.08414816</td><td>-0.08378394</td></tr>\n",
       "</tbody>\n",
       "</table>\n"
      ],
      "text/latex": [
       "A data.frame: 6 × 30241\n",
       "\\begin{tabular}{r|lllllllllllllllllllll}\n",
       "  & GSE215120\\_AM1\\_AAATGCCCAGAGCCAA-1 & GSE215120\\_AM1\\_ACACTGATCCACTGGG-1 & GSE215120\\_AM1\\_ACAGCCGCAAACCTAC-1 & GSE215120\\_AM1\\_ACCAGTAAGACTGGGT-1 & GSE215120\\_AM1\\_ACGTCAACAAGGACTG-1 & GSE215120\\_AM1\\_ACGTCAATCCGCATCT-1 & GSE215120\\_AM1\\_ACTGAGTCAGGCTGAA-1 & GSE215120\\_AM1\\_ACTGTCCGTCTCTTAT-1 & GSE215120\\_AM1\\_ACTTGTTTCTGAAAGA-1 & GSE215120\\_AM1\\_AGAGCTTGTACAGTTC-1 & ⋯ & GSE180661\\_HGSOC\\_SPECTRUM-OV-045\\_S1\\_CD45P\\_LEFT\\_OVARY\\_CGGGCATTCTTCTGTA & GSE180661\\_HGSOC\\_SPECTRUM-OV-045\\_S1\\_CD45P\\_LEFT\\_OVARY\\_CTACGGGGTGATCGTT & GSE180661\\_HGSOC\\_SPECTRUM-OV-045\\_S1\\_CD45P\\_LEFT\\_OVARY\\_CTCATGCTCGTTAGAC & GSE180661\\_HGSOC\\_SPECTRUM-OV-045\\_S1\\_CD45P\\_LEFT\\_OVARY\\_CTTGATTAGCAGGTCA & GSE180661\\_HGSOC\\_SPECTRUM-OV-045\\_S1\\_CD45P\\_LEFT\\_OVARY\\_GAGGGATCAAGCGCTC & GSE180661\\_HGSOC\\_SPECTRUM-OV-045\\_S1\\_CD45P\\_LEFT\\_OVARY\\_GTTTACTCAAGGCCTC & GSE180661\\_HGSOC\\_SPECTRUM-OV-045\\_S1\\_CD45P\\_LEFT\\_OVARY\\_TACCGAACAAACCGGA & GSE180661\\_HGSOC\\_SPECTRUM-OV-045\\_S1\\_CD45P\\_LEFT\\_OVARY\\_TCACGCTTCCGTCACT & GSE180661\\_HGSOC\\_SPECTRUM-OV-045\\_S1\\_CD45P\\_LEFT\\_OVARY\\_TGCAGTAGTGTTGCCG & GSE180661\\_HGSOC\\_SPECTRUM-OV-045\\_S1\\_CD45P\\_LEFT\\_OVARY\\_TGTGAGTTCGGAAACG\\\\\n",
       "  & <dbl> & <dbl> & <dbl> & <dbl> & <dbl> & <dbl> & <dbl> & <dbl> & <dbl> & <dbl> & ⋯ & <dbl> & <dbl> & <dbl> & <dbl> & <dbl> & <dbl> & <dbl> & <dbl> & <dbl> & <dbl>\\\\\n",
       "\\hline\n",
       "\tHES4 &  2.10042956 &  3.45275483 &  4.21835863 & -0.32335678 & -0.39281808 & -0.33100814 & -0.30674000 & -0.32088230 & -0.31202074 & -0.35627685 & ⋯ & -0.30352896 & -0.23608103 & -0.29583627 & -0.23550534 & -0.22692363 & -0.29928685 & -0.29836658 & -0.29131687 & -0.29165102 & -0.27111413\\\\\n",
       "\tISG15 & -0.38093311 &  0.94410567 &  1.47187286 &  0.22832942 &  0.61383005 &  0.04630722 & -0.98469539 & -0.36453844 & -0.35181972 & -0.22300907 & ⋯ & -0.02546914 &  0.93126918 & -0.22630387 & -0.57662320 &  0.73137761 &  0.48386717 &  0.87684225 & -0.90866133 & -0.89511735 & -0.78094494\\\\\n",
       "\tTNFRSF18 &  2.62804255 &  5.65023741 & -0.12298977 & -0.12573380 & -0.10602046 & -0.12463605 & -0.12504777 & -0.12586297 & -0.12499708 & -0.11507615 & ⋯ & -0.12445032 & -0.11325698 & -0.12014261 & -0.11343195 & -0.11219064 & -0.12068373 & -0.13158176 & -0.12649585 & -0.12192309 & -0.12320520\\\\\n",
       "\tTNFRSF4 &  5.07010836 &  4.06395330 & -0.17561133 & -0.16576986 & -0.23441743 & -0.18071631 &  5.60853347 & -0.17404046 & -0.16839594 & -0.20787494 & ⋯ & -0.15706906 & -0.15253007 & -0.16634682 & -0.14588155 & -0.15756689 & -0.17748924 & -0.14318806 & -0.17085078 & -0.17747921 & -0.15387784\\\\\n",
       "\tATAD3C & -0.08303087 & -0.08459465 & -0.07388701 & -0.07005439 & -0.09592259 & -0.07367120 & -0.06989837 & -0.07096651 & -0.07052552 & -0.08444572 & ⋯ & -0.06624626 & -0.06325107 & -0.07004899 & -0.06208992 & -0.06473342 & -0.07187153 & -0.06170866 & -0.06710324 & -0.06972128 & -0.06360366\\\\\n",
       "\tPRKCZ & -0.08844925 & -0.08867859 & -0.08567117 & -0.08457820 & -0.09298853 & -0.08465160 & -0.08381085 & -0.08398513 & -0.08409993 & -0.08863072 & ⋯ & -0.08473521 & -0.08654890 & -0.08558704 & -0.08678614 & -0.08616186 & -0.08495224 & -0.08196928 & -0.08244721 & -0.08414816 & -0.08378394\\\\\n",
       "\\end{tabular}\n"
      ],
      "text/markdown": [
       "\n",
       "A data.frame: 6 × 30241\n",
       "\n",
       "| <!--/--> | GSE215120_AM1_AAATGCCCAGAGCCAA-1 &lt;dbl&gt; | GSE215120_AM1_ACACTGATCCACTGGG-1 &lt;dbl&gt; | GSE215120_AM1_ACAGCCGCAAACCTAC-1 &lt;dbl&gt; | GSE215120_AM1_ACCAGTAAGACTGGGT-1 &lt;dbl&gt; | GSE215120_AM1_ACGTCAACAAGGACTG-1 &lt;dbl&gt; | GSE215120_AM1_ACGTCAATCCGCATCT-1 &lt;dbl&gt; | GSE215120_AM1_ACTGAGTCAGGCTGAA-1 &lt;dbl&gt; | GSE215120_AM1_ACTGTCCGTCTCTTAT-1 &lt;dbl&gt; | GSE215120_AM1_ACTTGTTTCTGAAAGA-1 &lt;dbl&gt; | GSE215120_AM1_AGAGCTTGTACAGTTC-1 &lt;dbl&gt; | ⋯ ⋯ | GSE180661_HGSOC_SPECTRUM-OV-045_S1_CD45P_LEFT_OVARY_CGGGCATTCTTCTGTA &lt;dbl&gt; | GSE180661_HGSOC_SPECTRUM-OV-045_S1_CD45P_LEFT_OVARY_CTACGGGGTGATCGTT &lt;dbl&gt; | GSE180661_HGSOC_SPECTRUM-OV-045_S1_CD45P_LEFT_OVARY_CTCATGCTCGTTAGAC &lt;dbl&gt; | GSE180661_HGSOC_SPECTRUM-OV-045_S1_CD45P_LEFT_OVARY_CTTGATTAGCAGGTCA &lt;dbl&gt; | GSE180661_HGSOC_SPECTRUM-OV-045_S1_CD45P_LEFT_OVARY_GAGGGATCAAGCGCTC &lt;dbl&gt; | GSE180661_HGSOC_SPECTRUM-OV-045_S1_CD45P_LEFT_OVARY_GTTTACTCAAGGCCTC &lt;dbl&gt; | GSE180661_HGSOC_SPECTRUM-OV-045_S1_CD45P_LEFT_OVARY_TACCGAACAAACCGGA &lt;dbl&gt; | GSE180661_HGSOC_SPECTRUM-OV-045_S1_CD45P_LEFT_OVARY_TCACGCTTCCGTCACT &lt;dbl&gt; | GSE180661_HGSOC_SPECTRUM-OV-045_S1_CD45P_LEFT_OVARY_TGCAGTAGTGTTGCCG &lt;dbl&gt; | GSE180661_HGSOC_SPECTRUM-OV-045_S1_CD45P_LEFT_OVARY_TGTGAGTTCGGAAACG &lt;dbl&gt; |\n",
       "|---|---|---|---|---|---|---|---|---|---|---|---|---|---|---|---|---|---|---|---|---|---|\n",
       "| HES4 |  2.10042956 |  3.45275483 |  4.21835863 | -0.32335678 | -0.39281808 | -0.33100814 | -0.30674000 | -0.32088230 | -0.31202074 | -0.35627685 | ⋯ | -0.30352896 | -0.23608103 | -0.29583627 | -0.23550534 | -0.22692363 | -0.29928685 | -0.29836658 | -0.29131687 | -0.29165102 | -0.27111413 |\n",
       "| ISG15 | -0.38093311 |  0.94410567 |  1.47187286 |  0.22832942 |  0.61383005 |  0.04630722 | -0.98469539 | -0.36453844 | -0.35181972 | -0.22300907 | ⋯ | -0.02546914 |  0.93126918 | -0.22630387 | -0.57662320 |  0.73137761 |  0.48386717 |  0.87684225 | -0.90866133 | -0.89511735 | -0.78094494 |\n",
       "| TNFRSF18 |  2.62804255 |  5.65023741 | -0.12298977 | -0.12573380 | -0.10602046 | -0.12463605 | -0.12504777 | -0.12586297 | -0.12499708 | -0.11507615 | ⋯ | -0.12445032 | -0.11325698 | -0.12014261 | -0.11343195 | -0.11219064 | -0.12068373 | -0.13158176 | -0.12649585 | -0.12192309 | -0.12320520 |\n",
       "| TNFRSF4 |  5.07010836 |  4.06395330 | -0.17561133 | -0.16576986 | -0.23441743 | -0.18071631 |  5.60853347 | -0.17404046 | -0.16839594 | -0.20787494 | ⋯ | -0.15706906 | -0.15253007 | -0.16634682 | -0.14588155 | -0.15756689 | -0.17748924 | -0.14318806 | -0.17085078 | -0.17747921 | -0.15387784 |\n",
       "| ATAD3C | -0.08303087 | -0.08459465 | -0.07388701 | -0.07005439 | -0.09592259 | -0.07367120 | -0.06989837 | -0.07096651 | -0.07052552 | -0.08444572 | ⋯ | -0.06624626 | -0.06325107 | -0.07004899 | -0.06208992 | -0.06473342 | -0.07187153 | -0.06170866 | -0.06710324 | -0.06972128 | -0.06360366 |\n",
       "| PRKCZ | -0.08844925 | -0.08867859 | -0.08567117 | -0.08457820 | -0.09298853 | -0.08465160 | -0.08381085 | -0.08398513 | -0.08409993 | -0.08863072 | ⋯ | -0.08473521 | -0.08654890 | -0.08558704 | -0.08678614 | -0.08616186 | -0.08495224 | -0.08196928 | -0.08244721 | -0.08414816 | -0.08378394 |\n",
       "\n"
      ],
      "text/plain": [
       "         GSE215120_AM1_AAATGCCCAGAGCCAA-1 GSE215120_AM1_ACACTGATCCACTGGG-1\n",
       "HES4      2.10042956                       3.45275483                     \n",
       "ISG15    -0.38093311                       0.94410567                     \n",
       "TNFRSF18  2.62804255                       5.65023741                     \n",
       "TNFRSF4   5.07010836                       4.06395330                     \n",
       "ATAD3C   -0.08303087                      -0.08459465                     \n",
       "PRKCZ    -0.08844925                      -0.08867859                     \n",
       "         GSE215120_AM1_ACAGCCGCAAACCTAC-1 GSE215120_AM1_ACCAGTAAGACTGGGT-1\n",
       "HES4      4.21835863                      -0.32335678                     \n",
       "ISG15     1.47187286                       0.22832942                     \n",
       "TNFRSF18 -0.12298977                      -0.12573380                     \n",
       "TNFRSF4  -0.17561133                      -0.16576986                     \n",
       "ATAD3C   -0.07388701                      -0.07005439                     \n",
       "PRKCZ    -0.08567117                      -0.08457820                     \n",
       "         GSE215120_AM1_ACGTCAACAAGGACTG-1 GSE215120_AM1_ACGTCAATCCGCATCT-1\n",
       "HES4     -0.39281808                      -0.33100814                     \n",
       "ISG15     0.61383005                       0.04630722                     \n",
       "TNFRSF18 -0.10602046                      -0.12463605                     \n",
       "TNFRSF4  -0.23441743                      -0.18071631                     \n",
       "ATAD3C   -0.09592259                      -0.07367120                     \n",
       "PRKCZ    -0.09298853                      -0.08465160                     \n",
       "         GSE215120_AM1_ACTGAGTCAGGCTGAA-1 GSE215120_AM1_ACTGTCCGTCTCTTAT-1\n",
       "HES4     -0.30674000                      -0.32088230                     \n",
       "ISG15    -0.98469539                      -0.36453844                     \n",
       "TNFRSF18 -0.12504777                      -0.12586297                     \n",
       "TNFRSF4   5.60853347                      -0.17404046                     \n",
       "ATAD3C   -0.06989837                      -0.07096651                     \n",
       "PRKCZ    -0.08381085                      -0.08398513                     \n",
       "         GSE215120_AM1_ACTTGTTTCTGAAAGA-1 GSE215120_AM1_AGAGCTTGTACAGTTC-1 ⋯\n",
       "HES4     -0.31202074                      -0.35627685                      ⋯\n",
       "ISG15    -0.35181972                      -0.22300907                      ⋯\n",
       "TNFRSF18 -0.12499708                      -0.11507615                      ⋯\n",
       "TNFRSF4  -0.16839594                      -0.20787494                      ⋯\n",
       "ATAD3C   -0.07052552                      -0.08444572                      ⋯\n",
       "PRKCZ    -0.08409993                      -0.08863072                      ⋯\n",
       "         GSE180661_HGSOC_SPECTRUM-OV-045_S1_CD45P_LEFT_OVARY_CGGGCATTCTTCTGTA\n",
       "HES4     -0.30352896                                                         \n",
       "ISG15    -0.02546914                                                         \n",
       "TNFRSF18 -0.12445032                                                         \n",
       "TNFRSF4  -0.15706906                                                         \n",
       "ATAD3C   -0.06624626                                                         \n",
       "PRKCZ    -0.08473521                                                         \n",
       "         GSE180661_HGSOC_SPECTRUM-OV-045_S1_CD45P_LEFT_OVARY_CTACGGGGTGATCGTT\n",
       "HES4     -0.23608103                                                         \n",
       "ISG15     0.93126918                                                         \n",
       "TNFRSF18 -0.11325698                                                         \n",
       "TNFRSF4  -0.15253007                                                         \n",
       "ATAD3C   -0.06325107                                                         \n",
       "PRKCZ    -0.08654890                                                         \n",
       "         GSE180661_HGSOC_SPECTRUM-OV-045_S1_CD45P_LEFT_OVARY_CTCATGCTCGTTAGAC\n",
       "HES4     -0.29583627                                                         \n",
       "ISG15    -0.22630387                                                         \n",
       "TNFRSF18 -0.12014261                                                         \n",
       "TNFRSF4  -0.16634682                                                         \n",
       "ATAD3C   -0.07004899                                                         \n",
       "PRKCZ    -0.08558704                                                         \n",
       "         GSE180661_HGSOC_SPECTRUM-OV-045_S1_CD45P_LEFT_OVARY_CTTGATTAGCAGGTCA\n",
       "HES4     -0.23550534                                                         \n",
       "ISG15    -0.57662320                                                         \n",
       "TNFRSF18 -0.11343195                                                         \n",
       "TNFRSF4  -0.14588155                                                         \n",
       "ATAD3C   -0.06208992                                                         \n",
       "PRKCZ    -0.08678614                                                         \n",
       "         GSE180661_HGSOC_SPECTRUM-OV-045_S1_CD45P_LEFT_OVARY_GAGGGATCAAGCGCTC\n",
       "HES4     -0.22692363                                                         \n",
       "ISG15     0.73137761                                                         \n",
       "TNFRSF18 -0.11219064                                                         \n",
       "TNFRSF4  -0.15756689                                                         \n",
       "ATAD3C   -0.06473342                                                         \n",
       "PRKCZ    -0.08616186                                                         \n",
       "         GSE180661_HGSOC_SPECTRUM-OV-045_S1_CD45P_LEFT_OVARY_GTTTACTCAAGGCCTC\n",
       "HES4     -0.29928685                                                         \n",
       "ISG15     0.48386717                                                         \n",
       "TNFRSF18 -0.12068373                                                         \n",
       "TNFRSF4  -0.17748924                                                         \n",
       "ATAD3C   -0.07187153                                                         \n",
       "PRKCZ    -0.08495224                                                         \n",
       "         GSE180661_HGSOC_SPECTRUM-OV-045_S1_CD45P_LEFT_OVARY_TACCGAACAAACCGGA\n",
       "HES4     -0.29836658                                                         \n",
       "ISG15     0.87684225                                                         \n",
       "TNFRSF18 -0.13158176                                                         \n",
       "TNFRSF4  -0.14318806                                                         \n",
       "ATAD3C   -0.06170866                                                         \n",
       "PRKCZ    -0.08196928                                                         \n",
       "         GSE180661_HGSOC_SPECTRUM-OV-045_S1_CD45P_LEFT_OVARY_TCACGCTTCCGTCACT\n",
       "HES4     -0.29131687                                                         \n",
       "ISG15    -0.90866133                                                         \n",
       "TNFRSF18 -0.12649585                                                         \n",
       "TNFRSF4  -0.17085078                                                         \n",
       "ATAD3C   -0.06710324                                                         \n",
       "PRKCZ    -0.08244721                                                         \n",
       "         GSE180661_HGSOC_SPECTRUM-OV-045_S1_CD45P_LEFT_OVARY_TGCAGTAGTGTTGCCG\n",
       "HES4     -0.29165102                                                         \n",
       "ISG15    -0.89511735                                                         \n",
       "TNFRSF18 -0.12192309                                                         \n",
       "TNFRSF4  -0.17747921                                                         \n",
       "ATAD3C   -0.06972128                                                         \n",
       "PRKCZ    -0.08414816                                                         \n",
       "         GSE180661_HGSOC_SPECTRUM-OV-045_S1_CD45P_LEFT_OVARY_TGTGAGTTCGGAAACG\n",
       "HES4     -0.27111413                                                         \n",
       "ISG15    -0.78094494                                                         \n",
       "TNFRSF18 -0.12320520                                                         \n",
       "TNFRSF4  -0.15387784                                                         \n",
       "ATAD3C   -0.06360366                                                         \n",
       "PRKCZ    -0.08378394                                                         "
      ]
     },
     "metadata": {},
     "output_type": "display_data"
    }
   ],
   "source": [
    "head(expression_data)"
   ]
  },
  {
   "cell_type": "code",
   "execution_count": 7,
   "metadata": {
    "vscode": {
     "languageId": "r"
    }
   },
   "outputs": [],
   "source": [
    "# Check if any column is entirely zeros\n",
    "zero_columns <- apply(expression_data, 2, function(col) all(col == 0))"
   ]
  },
  {
   "cell_type": "code",
   "execution_count": 8,
   "metadata": {
    "vscode": {
     "languageId": "r"
    }
   },
   "outputs": [
    {
     "name": "stderr",
     "output_type": "stream",
     "text": [
      "IOPub data rate exceeded.\n",
      "The Jupyter server will temporarily stop sending output\n",
      "to the client in order to avoid crashing it.\n",
      "To change this limit, set the config variable\n",
      "`--ServerApp.iopub_data_rate_limit`.\n",
      "\n",
      "Current values:\n",
      "ServerApp.iopub_data_rate_limit=1000000.0 (bytes/sec)\n",
      "ServerApp.rate_limit_window=3.0 (secs)\n",
      "\n"
     ]
    }
   ],
   "source": [
    "# View which columns are entirely zeros\n",
    "print(zero_columns)"
   ]
  },
  {
   "cell_type": "code",
   "execution_count": 9,
   "metadata": {
    "vscode": {
     "languageId": "r"
    }
   },
   "outputs": [],
   "source": [
    "column_sums <- colSums(expression_data)"
   ]
  },
  {
   "cell_type": "code",
   "execution_count": 10,
   "metadata": {
    "vscode": {
     "languageId": "r"
    }
   },
   "outputs": [],
   "source": [
    "columns_with_zero_sum <- which(column_sums == 0)"
   ]
  },
  {
   "cell_type": "code",
   "execution_count": 11,
   "metadata": {
    "vscode": {
     "languageId": "r"
    }
   },
   "outputs": [
    {
     "name": "stdout",
     "output_type": "stream",
     "text": [
      "[1] \"No columns have a sum of zero.\"\n"
     ]
    }
   ],
   "source": [
    "if (length(columns_with_zero_sum) > 0) {\n",
    "  print(\"Columns with zero sum:\")\n",
    "  print(names(columns_with_zero_sum))\n",
    "} else {\n",
    "  print(\"No columns have a sum of zero.\")\n",
    "}"
   ]
  },
  {
   "cell_type": "code",
   "execution_count": 8,
   "metadata": {
    "vscode": {
     "languageId": "r"
    }
   },
   "outputs": [],
   "source": [
    "#extract annotation data\n",
    "meta <- data@meta.data\n",
    "annotation_data <- data.frame(\n",
    "  cell_id = rownames(meta),  \n",
    "  annotation = meta$NR_annotations_simple  \n",
    ")"
   ]
  },
  {
   "cell_type": "code",
   "execution_count": 9,
   "metadata": {
    "vscode": {
     "languageId": "r"
    }
   },
   "outputs": [
    {
     "data": {
      "text/html": [
       "<table class=\"dataframe\">\n",
       "<caption>A data.frame: 6 × 2</caption>\n",
       "<thead>\n",
       "\t<tr><th></th><th scope=col>cell_id</th><th scope=col>annotation</th></tr>\n",
       "\t<tr><th></th><th scope=col>&lt;chr&gt;</th><th scope=col>&lt;fct&gt;</th></tr>\n",
       "</thead>\n",
       "<tbody>\n",
       "\t<tr><th scope=row>1</th><td>GSE215120_AM1_AAATGCCCAGAGCCAA-1</td><td>cDC2</td></tr>\n",
       "\t<tr><th scope=row>2</th><td>GSE215120_AM1_ACACTGATCCACTGGG-1</td><td>cDC2</td></tr>\n",
       "\t<tr><th scope=row>3</th><td>GSE215120_AM1_ACAGCCGCAAACCTAC-1</td><td>cDC2</td></tr>\n",
       "\t<tr><th scope=row>4</th><td>GSE215120_AM1_ACCAGTAAGACTGGGT-1</td><td>cDC1</td></tr>\n",
       "\t<tr><th scope=row>5</th><td>GSE215120_AM1_ACGTCAACAAGGACTG-1</td><td>cDC1</td></tr>\n",
       "\t<tr><th scope=row>6</th><td>GSE215120_AM1_ACGTCAATCCGCATCT-1</td><td>cDC2</td></tr>\n",
       "</tbody>\n",
       "</table>\n"
      ],
      "text/latex": [
       "A data.frame: 6 × 2\n",
       "\\begin{tabular}{r|ll}\n",
       "  & cell\\_id & annotation\\\\\n",
       "  & <chr> & <fct>\\\\\n",
       "\\hline\n",
       "\t1 & GSE215120\\_AM1\\_AAATGCCCAGAGCCAA-1 & cDC2\\\\\n",
       "\t2 & GSE215120\\_AM1\\_ACACTGATCCACTGGG-1 & cDC2\\\\\n",
       "\t3 & GSE215120\\_AM1\\_ACAGCCGCAAACCTAC-1 & cDC2\\\\\n",
       "\t4 & GSE215120\\_AM1\\_ACCAGTAAGACTGGGT-1 & cDC1\\\\\n",
       "\t5 & GSE215120\\_AM1\\_ACGTCAACAAGGACTG-1 & cDC1\\\\\n",
       "\t6 & GSE215120\\_AM1\\_ACGTCAATCCGCATCT-1 & cDC2\\\\\n",
       "\\end{tabular}\n"
      ],
      "text/markdown": [
       "\n",
       "A data.frame: 6 × 2\n",
       "\n",
       "| <!--/--> | cell_id &lt;chr&gt; | annotation &lt;fct&gt; |\n",
       "|---|---|---|\n",
       "| 1 | GSE215120_AM1_AAATGCCCAGAGCCAA-1 | cDC2 |\n",
       "| 2 | GSE215120_AM1_ACACTGATCCACTGGG-1 | cDC2 |\n",
       "| 3 | GSE215120_AM1_ACAGCCGCAAACCTAC-1 | cDC2 |\n",
       "| 4 | GSE215120_AM1_ACCAGTAAGACTGGGT-1 | cDC1 |\n",
       "| 5 | GSE215120_AM1_ACGTCAACAAGGACTG-1 | cDC1 |\n",
       "| 6 | GSE215120_AM1_ACGTCAATCCGCATCT-1 | cDC2 |\n",
       "\n"
      ],
      "text/plain": [
       "  cell_id                          annotation\n",
       "1 GSE215120_AM1_AAATGCCCAGAGCCAA-1 cDC2      \n",
       "2 GSE215120_AM1_ACACTGATCCACTGGG-1 cDC2      \n",
       "3 GSE215120_AM1_ACAGCCGCAAACCTAC-1 cDC2      \n",
       "4 GSE215120_AM1_ACCAGTAAGACTGGGT-1 cDC1      \n",
       "5 GSE215120_AM1_ACGTCAACAAGGACTG-1 cDC1      \n",
       "6 GSE215120_AM1_ACGTCAATCCGCATCT-1 cDC2      "
      ]
     },
     "metadata": {},
     "output_type": "display_data"
    }
   ],
   "source": [
    "head(annotation_data)"
   ]
  },
  {
   "cell_type": "code",
   "execution_count": 10,
   "metadata": {
    "vscode": {
     "languageId": "r"
    }
   },
   "outputs": [
    {
     "name": "stderr",
     "output_type": "stream",
     "text": [
      "The number of cells in your dataset exceeds 3,000. CytoTRACE will now be run in fast mode (see documentation). You can multi-thread this run using the 'ncores' flag. To disable fast mode, please indicate 'enableFast = FALSE'.\n",
      "\n",
      "CytoTRACE will be run on 30 sub-sample(s) of approximately 1008 cells each using 1 / 1 core(s)\n",
      "\n",
      "Pre-processing data and generating similarity matrix...\n",
      "\n",
      "Warning message in FUN(X[[i]], ...):\n",
      "“NaNs produced”\n"
     ]
    },
    {
     "name": "stdout",
     "output_type": "stream",
     "text": [
      "---> Checking zero-variance data...\n",
      "--->\t Total number of variables:  1007\n",
      "--->\t WARNING: 1007 variables found with zero variance\n",
      "---> Maximum number of splits: floor(n/2) = 0\n",
      "---> WARNING: number of splits nSplit > 0\n",
      "---> WARNING: using maximum number of splits: nSplit = 0\n"
     ]
    },
    {
     "ename": "ERROR",
     "evalue": "Error in HiClimR::fastCor(mvg(mat2)): invalid nSplit: 0\n",
     "output_type": "error",
     "traceback": [
      "Error in HiClimR::fastCor(mvg(mat2)): invalid nSplit: 0\nTraceback:\n",
      "1. parallel::mclapply(subsamples, mc.cores = min(chunk, ncores), \n .     function(subsample) {\n .         mat <- mat[, subsample]\n .         batch <- batch[subsample]\n .         if (max(mat) < 50) {\n .             mat <- 2^mat - 1\n .         }\n .         if (length(grep(\"ERCC-\", rownames(mat))) > 0) {\n .             mat <- mat[-grep(\"ERCC-\", rownames(mat)), ]\n .         }\n .         mat <- t(t(mat)/apply(mat, 2, sum)) * 1e+06\n .         pqcells <- is.na(apply(mat > 0, 2, sum)) | apply(mat > \n .             0, 2, sum) <= 10\n .         num_pqcells <- length(which(pqcells == TRUE))\n .         mat <- mat[, !pqcells]\n .         mat <- log(mat + 1, 2)\n .         mat <- data.matrix(mat)\n .         counts <- apply(mat > 0, 2, sum)\n .         if (ncol(a1) == length(a2)) {\n .             batch <- batch[!pqcells]\n .             suppressMessages(mat <- sva::ComBat(mat, batch, c()))\n .             mat <- data.matrix(mat)\n .             mat[which(mat < 0)] <- 0\n .         }\n .         census_normalize <- function(mat, counts) {\n .             xnl <- 2^data.matrix(mat) - 1\n .             rs <- apply(xnl, 2, sum)\n .             rnorm <- t(t(xnl) * counts/rs)\n .             A <- log(rnorm + 1, 2)\n .             return(A)\n .         }\n .         mat2 <- census_normalize(mat, counts)\n .         mvg <- function(matn) {\n .             A <- matn\n .             n_expr <- rowSums(A > 0)\n .             A_filt <- A[n_expr >= 0.05 * ncol(A), ]\n .             vars <- apply(A_filt, 1, var)\n .             means <- apply(A_filt, 1, mean)\n .             disp <- vars/means\n .             last_disp <- tail(sort(disp), 1000)[1]\n .             A_filt <- A_filt[disp >= last_disp, ]\n .             return(A_filt)\n .         }\n .         mat2.mvg <- mvg(mat2)\n .         rm1 <- colSums(mat2.mvg) == 0\n .         mat2 <- mat2[, !rm1]\n .         counts <- counts[!rm1]\n .         similarity_matrix_cleaned <- function(similarity_matrix) {\n .             D <- similarity_matrix\n .             cutoff <- mean(as.vector(D))\n .             diag(D) <- 0\n .             D[which(D < 0)] <- 0\n .             D[which(D <= cutoff)] <- 0\n .             Ds <- D\n .             D <- D/rowSums(D)\n .             D[which(rowSums(Ds) == 0), ] <- 0\n .             return(D)\n .         }\n .         D <- similarity_matrix_cleaned(HiClimR::fastCor(mvg(mat2)))\n .         return(list(mat2 = mat2, counts = counts, D = D))\n .     })",
      "2. lapply(X = X, FUN = FUN, ...)",
      "3. FUN(X[[i]], ...)",
      "4. similarity_matrix_cleaned(HiClimR::fastCor(mvg(mat2)))",
      "5. HiClimR::fastCor(mvg(mat2))",
      "6. stop(paste(\"invalid nSplit:\", nSplit))",
      "7. .handleSimpleError(function (cnd) \n . {\n .     watcher$capture_plot_and_output()\n .     cnd <- sanitize_call(cnd)\n .     watcher$push(cnd)\n .     switch(on_error, continue = invokeRestart(\"eval_continue\"), \n .         stop = invokeRestart(\"eval_stop\"), error = invokeRestart(\"eval_error\", \n .             cnd))\n . }, \"invalid nSplit: 0\", base::quote(HiClimR::fastCor(mvg(mat2))))"
     ]
    }
   ],
   "source": [
    "# Run cytotrace \n",
    "Results <- CytoTRACE(expression_data)"
   ]
  }
 ],
 "metadata": {
  "kernelspec": {
   "display_name": "R",
   "language": "R",
   "name": "ir"
  },
  "language_info": {
   "codemirror_mode": "r",
   "file_extension": ".r",
   "mimetype": "text/x-r-source",
   "name": "R",
   "pygments_lexer": "r",
   "version": "4.3.3"
  }
 },
 "nbformat": 4,
 "nbformat_minor": 2
}
