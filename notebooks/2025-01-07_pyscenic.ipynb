{
 "cells": [
  {
   "cell_type": "markdown",
   "metadata": {},
   "source": [
    "# Performing pyscenic on atlas to idenitify regulons"
   ]
  },
  {
   "cell_type": "markdown",
   "metadata": {},
   "source": [
    "#### problems with pyscenic package and dependencies, therefore for all bash commands in this notebook, instead of running in my normal environment (env) run in environment called pyscenic2 (mamba activate pyscenic2) as this environmemnt has the correct package versions needed\n",
    "\n",
    "* pyscenic installed on environemnt: https://pyscenic.readthedocs.io/en/latest/installation.html#docker-podman-and-singularity-apptainer-images \n",
    "* pyscenic pipline based on: https://htmlpreview.github.io/?https://github.com/aertslab/SCENICprotocol/blob/master/notebooks/PBMC10k_SCENIC-protocol-CLI.html\n",
    "* GRN inference run using arboreto method: https://pyscenic.readthedocs.io/en/latest/faq.html#i-am-having-problems-with-dask"
   ]
  },
  {
   "cell_type": "markdown",
   "metadata": {},
   "source": [
    "# Making environment for running bash commands"
   ]
  },
  {
   "cell_type": "markdown",
   "metadata": {},
   "source": [
    "\n",
    "``` bash \n",
    "conda create -y -n pyscenic2 python=3.10\n",
    "conda activate pyscenic2\n",
    "\n",
    "# Install pySCENIC locally\n",
    "mkdir /scratch/user/s4436039/software/\n",
    "cd /scratch/user/s4436039/software/\n",
    "git clone https://github.com/aertslab/pySCENIC.git\n",
    "cd pySCENIC/\n",
    "pip install -e . # this will install pySCENIC in editable mode\n",
    "\n",
    "# Fix the dependencies\n",
    "# also install loompy from the github becaues they fixed the issue with normalize.py \n",
    "# https://github.com/linnarsson-lab/loompy/issues/186\n",
    "pip install git+https://www.github.com/linnarsson-lab/loompy.git\n",
    "# use numpy==1.24.0 because of https://github.com/aertslab/pySCENIC/issues/584\n",
    "pip install numpy==1.24.0\n",
    "\n",
    "cd /scratch/user/s4436039/scdata/PySCENIC\n",
    "\n",
    "#running pyscenic (step that was giving error in normal environment)\n",
    "pyscenic aucell \\\n",
    "    DC1mreg_loom.loom \\\n",
    "    reg.csv \\\n",
    "    --output pyscenic_output.loom \\\n",
    "    --num_workers 1\n",
    "```"
   ]
  },
  {
   "cell_type": "markdown",
   "metadata": {},
   "source": [
    "# Load packages"
   ]
  },
  {
   "cell_type": "code",
   "execution_count": 1,
   "metadata": {},
   "outputs": [
    {
     "name": "stdout",
     "output_type": "stream",
     "text": [
      "scanpy==1.10.2 anndata==0.10.8 umap==0.5.6 numpy==1.26.4 scipy==1.14.0 pandas==2.2.2 scikit-learn==1.5.0 statsmodels==0.14.2 igraph==0.11.5 pynndescent==0.5.12\n"
     ]
    }
   ],
   "source": [
    "#load packages I need\n",
    "import os\n",
    "import tools\n",
    "import scanpy as sc\n",
    "import pandas as pd\n",
    "import matplotlib.pyplot as plt\n",
    "#import pyscenic\n",
    "#from pyscenic.aucell import aucell\n",
    "import numpy as np\n",
    "\n",
    "sc.logging.print_header()"
   ]
  },
  {
   "cell_type": "markdown",
   "metadata": {},
   "source": [
    "# Import h5ad"
   ]
  },
  {
   "cell_type": "code",
   "execution_count": 2,
   "metadata": {},
   "outputs": [
    {
     "data": {
      "text/plain": [
       "'/scratch/user/s4436039/scdata/Python_Integration_Sep'"
      ]
     },
     "execution_count": 2,
     "metadata": {},
     "output_type": "execute_result"
    }
   ],
   "source": [
    "#set current directory \n",
    "os.chdir('/scratch/user/s4436039/scdata/Python_Integration_Sep')\n",
    "os.getcwd()"
   ]
  },
  {
   "cell_type": "code",
   "execution_count": 3,
   "metadata": {},
   "outputs": [],
   "source": [
    "# read in data\n",
    "data = sc.read_h5ad('NRclean_clustered2.h5ad')"
   ]
  },
  {
   "cell_type": "code",
   "execution_count": 4,
   "metadata": {},
   "outputs": [],
   "source": [
    "#subset out DCs\n",
    "data_DC = data[data.obs[\"NR_annotations_simple\"].isin([\"cDC1\",\"cDC2\",\"mregDC\"])]"
   ]
  },
  {
   "cell_type": "code",
   "execution_count": 7,
   "metadata": {},
   "outputs": [
    {
     "data": {
      "text/plain": [
       "View of AnnData object with n_obs × n_vars = 30241 × 1268\n",
       "    obs: 'nCount_RNA', 'nFeature_RNA', 'sample_type', 'cancer_type', 'patient_id', 'sample_id', 'percent.mt', 'site', 'sample_type_major', 'cancer_subtype', 'integration_id', 'ident', 'dataset_id', 'n_genes_by_counts', 'log1p_n_genes_by_counts', 'total_counts', 'log1p_total_counts', 'pct_counts_in_top_50_genes', 'pct_counts_in_top_100_genes', 'pct_counts_in_top_200_genes', 'pct_counts_in_top_500_genes', 'total_counts_mt', 'log1p_total_counts_mt', 'pct_counts_mt', 'S_score', 'G2M_score', 'keep_or_remove', 'leiden', 'celltype', 'leiden_DC', 'leiden_DC_v2', 'exclude_annots', 'leiden_M', 'Technology', 'cancer_type_broad', 'clean-leiden_0.8', 'clean-subcluster', 'clean-subcluster-v2', 'YS_sig', 'HSC_sig', 'CD5nDC2_up_vDC3', 'DC3_up_vCD5nDC2', 'CD5pDC2_up_vDC3', 'DC3_up_vCD5pDC2', 'DC3_up_vMono', 'Mono_up_vDC3', 'DC1_sig', 'DC2_sig', 'DC3_sig', 'DC_Axl_sig', 'DC2_up_DC3', 'DC3_up_DC2', 'mregDC_sig', 'cDC1_mregDC', 'cDC2_mregDC', 'NR_annotations', 'NR_annotations_simple', 'sample_type_major2', 'cancer_with_H', 'cancer_broadest', 'CytoTRACE_DC_Predicted_order'\n",
       "    var: 'name', 'mt', 'n_cells_by_counts', 'mean_counts', 'log1p_mean_counts', 'pct_dropout_by_counts', 'total_counts', 'log1p_total_counts', 'highly_variable', 'means', 'dispersions', 'dispersions_norm', 'mean', 'std'\n",
       "    uns: 'NR_annotations_colors', 'NR_annotations_simple_colors', 'cancer_type_broad_colors', 'clean-leiden_0.8', 'clean-leiden_0.8_colors', 'clean-subcluster', 'clean-subcluster-v2', 'clean-subcluster-v2_colors', 'clean-subcluster_colors', 'dendrogram_NR_annotations_simple', 'hvg', 'log1p', 'neighbors', 'pca', 'rank_genes_groups', 'sample_type_major2_colors', 'site_colors', 'umap'\n",
       "    obsm: 'X_pca', 'X_pca_harmony', 'X_umap'\n",
       "    varm: 'PCs'\n",
       "    obsp: 'connectivities', 'distances'"
      ]
     },
     "execution_count": 7,
     "metadata": {},
     "output_type": "execute_result"
    }
   ],
   "source": [
    "data_DC"
   ]
  },
  {
   "cell_type": "code",
   "execution_count": 8,
   "metadata": {},
   "outputs": [
    {
     "data": {
      "text/plain": [
       "'/scratch/user/s4436039/scdata/PySCENIC_Jan'"
      ]
     },
     "execution_count": 8,
     "metadata": {},
     "output_type": "execute_result"
    }
   ],
   "source": [
    "os.chdir('/scratch/user/s4436039/scdata/PySCENIC_Jan')\n",
    "os.getcwd()"
   ]
  },
  {
   "cell_type": "markdown",
   "metadata": {},
   "source": [
    "## make loom file with expression data:"
   ]
  },
  {
   "cell_type": "code",
   "execution_count": 9,
   "metadata": {},
   "outputs": [],
   "source": [
    "import loompy as lp\n",
    "import numpy as np"
   ]
  },
  {
   "cell_type": "code",
   "execution_count": 10,
   "metadata": {},
   "outputs": [],
   "source": [
    "# Save the path where you want loom file to save (current directory)\n",
    "f_loom_path_DC = \"DC_loom.loom\""
   ]
  },
  {
   "cell_type": "code",
   "execution_count": 11,
   "metadata": {},
   "outputs": [],
   "source": [
    "row_attrs = { \n",
    "    \"Gene\": np.array(data_DC.var.index) ,\n",
    "}\n",
    "col_attrs = { \n",
    "    \"CellID\":  np.array(data_DC.obs.index) ,\n",
    "    \"nGene\": np.array( np.sum(data_DC.X.transpose()>0 , axis=0)).flatten() ,\n",
    "    \"nUMI\": np.array( np.sum(data_DC.X.transpose() , axis=0)).flatten() ,\n",
    "}\n",
    "\n",
    "lp.create( f_loom_path_DC, data_DC.X.transpose(), row_attrs, col_attrs )"
   ]
  },
  {
   "cell_type": "markdown",
   "metadata": {},
   "source": [
    "## 1. GRN Inference - Run GRN pyscenic \n",
    "* TF list (allTFs_hg38.txt) downloaded from https://resources.aertslab.org/cistarget/tf_lists/ "
   ]
  },
  {
   "cell_type": "markdown",
   "metadata": {},
   "source": [
    "### Run in bash (in pyscenic2 environment): \n",
    "``` bash\n",
    "cd /scratch/user/s4436039/scdata/PySCENIC_Jan\n",
    "arboreto_with_multiprocessing.py DC_loom.loom allTFs_hg38.txt --output adj.tsv --num_workers 20\n",
    "```\n",
    "* can use 20 workers as i requested bunya job with 20 cpus (~5min)"
   ]
  },
  {
   "cell_type": "code",
   "execution_count": 12,
   "metadata": {},
   "outputs": [],
   "source": [
    "# read in the adjacencies matrix\n",
    "adjacencies = pd.read_csv(\"adj.tsv\", index_col=False, sep='\\t')"
   ]
  },
  {
   "cell_type": "code",
   "execution_count": 13,
   "metadata": {},
   "outputs": [
    {
     "data": {
      "text/html": [
       "<div>\n",
       "<style scoped>\n",
       "    .dataframe tbody tr th:only-of-type {\n",
       "        vertical-align: middle;\n",
       "    }\n",
       "\n",
       "    .dataframe tbody tr th {\n",
       "        vertical-align: top;\n",
       "    }\n",
       "\n",
       "    .dataframe thead th {\n",
       "        text-align: right;\n",
       "    }\n",
       "</style>\n",
       "<table border=\"1\" class=\"dataframe\">\n",
       "  <thead>\n",
       "    <tr style=\"text-align: right;\">\n",
       "      <th></th>\n",
       "      <th>TF</th>\n",
       "      <th>target</th>\n",
       "      <th>importance</th>\n",
       "    </tr>\n",
       "  </thead>\n",
       "  <tbody>\n",
       "    <tr>\n",
       "      <th>0</th>\n",
       "      <td>PSMA6</td>\n",
       "      <td>GABARAP</td>\n",
       "      <td>28.059309</td>\n",
       "    </tr>\n",
       "    <tr>\n",
       "      <th>1</th>\n",
       "      <td>IRF8</td>\n",
       "      <td>CLEC9A</td>\n",
       "      <td>27.532223</td>\n",
       "    </tr>\n",
       "    <tr>\n",
       "      <th>2</th>\n",
       "      <td>IRF8</td>\n",
       "      <td>CLNK</td>\n",
       "      <td>24.721919</td>\n",
       "    </tr>\n",
       "    <tr>\n",
       "      <th>3</th>\n",
       "      <td>IRF8</td>\n",
       "      <td>RGCC</td>\n",
       "      <td>22.454228</td>\n",
       "    </tr>\n",
       "    <tr>\n",
       "      <th>4</th>\n",
       "      <td>NR4A1</td>\n",
       "      <td>DUSP2</td>\n",
       "      <td>20.902900</td>\n",
       "    </tr>\n",
       "  </tbody>\n",
       "</table>\n",
       "</div>"
      ],
      "text/plain": [
       "      TF   target  importance\n",
       "0  PSMA6  GABARAP   28.059309\n",
       "1   IRF8   CLEC9A   27.532223\n",
       "2   IRF8     CLNK   24.721919\n",
       "3   IRF8     RGCC   22.454228\n",
       "4  NR4A1    DUSP2   20.902900"
      ]
     },
     "execution_count": 13,
     "metadata": {},
     "output_type": "execute_result"
    }
   ],
   "source": [
    "adjacencies.head()"
   ]
  },
  {
   "cell_type": "markdown",
   "metadata": {},
   "source": [
    "# 2. Cis-Regulatory Analysis - Regulon prediction \n",
    "* output: the regulons in reg.csv - list of adjacencies between a TF and its targets stored in MOTIFS_FNAME\n",
    "* ranking database downloaded from: https://resources.aertslab.org/cistarget/databases/ details --> used Homo sapiens - hg38 - refseq_r80 - SCENIC+ databases - Gene based - hg38_10kbp_up_10kbp_down_full_tx_v10_clust.genes_vs_motifs.rankings.feather\n",
    "* motif-to-TF database downloaded from: https://resources.aertslab.org/cistarget/motif2tf/ (this database links TF binding motifs to their corresponding TFs)"
   ]
  },
  {
   "cell_type": "markdown",
   "metadata": {},
   "source": [
    "### ctx step: cis-regulatory motif analysis "
   ]
  },
  {
   "cell_type": "markdown",
   "metadata": {},
   "source": [
    "### Run in bash (in pyscenic2 environment):\n",
    "\n",
    "``` bash\n",
    "pyscenic ctx adj.tsv \\\n",
    "    hg38_10kbp_up_10kbp_down_full_tx_v10_clust.genes_vs_motifs.rankings.feather \\\n",
    "    --annotations_fname motifs-v10nr_clust-nr.hgnc-m0.001-o0.0.tbl \\\n",
    "    --expression_mtx_fname DC_loom.loom \\\n",
    "    --output reg.csv \\\n",
    "    --mask_dropouts \\\n",
    "    --num_workers 20\n",
    "```"
   ]
  },
  {
   "cell_type": "markdown",
   "metadata": {},
   "source": [
    "# Regulon Activity/Cellular enrichment (aucell)\n",
    "* identifies the activity of these regulons at the single cell level by calculating an enrichment score"
   ]
  },
  {
   "cell_type": "markdown",
   "metadata": {},
   "source": [
    "### First checking most cells have a substantial fraction of expressed/detected genes in the calculation of the AUC (as done in tutorial)"
   ]
  },
  {
   "cell_type": "code",
   "execution_count": 14,
   "metadata": {},
   "outputs": [
    {
     "name": "stdout",
     "output_type": "stream",
     "text": [
      "0.01     27.0\n",
      "0.05     47.0\n",
      "0.10     70.0\n",
      "0.50    171.0\n",
      "1.00    503.0\n",
      "dtype: float64\n"
     ]
    }
   ],
   "source": [
    "nGenesDetectedPerCellbefore = np.sum(data_DC.X>0, axis=1)\n",
    "nGenesDetectedPerCell = pd.Series(nGenesDetectedPerCellbefore)\n",
    "percentiles = nGenesDetectedPerCell.quantile([0.01, 0.05, 0.10, 0.50, 1])\n",
    "print(percentiles)"
   ]
  },
  {
   "cell_type": "code",
   "execution_count": 15,
   "metadata": {},
   "outputs": [],
   "source": [
    "import seaborn as sns"
   ]
  },
  {
   "cell_type": "code",
   "execution_count": 16,
   "metadata": {},
   "outputs": [
    {
     "name": "stderr",
     "output_type": "stream",
     "text": [
      "/scratch/temp/12142480/ipykernel_2362699/3887338572.py:2: UserWarning: \n",
      "\n",
      "`distplot` is a deprecated function and will be removed in seaborn v0.14.0.\n",
      "\n",
      "Please adapt your code to use either `displot` (a figure-level function with\n",
      "similar flexibility) or `histplot` (an axes-level function for histograms).\n",
      "\n",
      "For a guide to updating your code to use the new functions, please see\n",
      "https://gist.github.com/mwaskom/de44147ed2974457ad6372750bbe5751\n",
      "\n",
      "  sns.distplot(nGenesDetectedPerCell, norm_hist=False, kde=False, bins='fd')\n"
     ]
    },
    {
     "data": {
      "image/png": "[encoded data removed]",
      "text/plain": [
       "<Figure size 1200x750 with 1 Axes>"
      ]
     },
     "metadata": {},
     "output_type": "display_data"
    }
   ],
   "source": [
    "fig, ax = plt.subplots(1, 1, figsize=(8, 5), dpi=150)\n",
    "sns.distplot(nGenesDetectedPerCell, norm_hist=False, kde=False, bins='fd')\n",
    "for i,x in enumerate(percentiles):\n",
    "    fig.gca().axvline(x=x, ymin=0, ymax=1, color='red')\n",
    "    ax.text(x=x, y=ax.get_ylim()[1], s=f'{int(x)} ({percentiles.index.values[i]*100}%)', color='red', rotation=30, size='x-small', rotation_mode='anchor')\n",
    "ax.set_xlabel('# of genes')\n",
    "ax.set_ylabel('# of cells')\n",
    "fig.tight_layout()"
   ]
  },
  {
   "cell_type": "markdown",
   "metadata": {},
   "source": [
    "* default auc_threshold is 0.05 (5%) which here would include 47 genes "
   ]
  },
  {
   "cell_type": "markdown",
   "metadata": {},
   "source": [
    "## Run AUC (area under the curve for enrichment algorithm to calculate regulon activity scores):"
   ]
  },
  {
   "cell_type": "markdown",
   "metadata": {},
   "source": [
    "### Run in bash (in pyscenic2 environment):\n",
    "\n",
    "``` bash\n",
    "pyscenic aucell \\\n",
    "    DC_loom.loom \\\n",
    "    reg.csv \\\n",
    "    --output pyscenic_output.loom \\\n",
    "    --num_workers 20"
   ]
  },
  {
   "cell_type": "markdown",
   "metadata": {},
   "source": [
    "## Output SCENIC's AUC matrix:"
   ]
  },
  {
   "cell_type": "code",
   "execution_count": 17,
   "metadata": {},
   "outputs": [],
   "source": [
    "import json\n",
    "import zlib\n",
    "import base64"
   ]
  },
  {
   "cell_type": "code",
   "execution_count": 18,
   "metadata": {},
   "outputs": [],
   "source": [
    "# collect SCENIC AUCell output\n",
    "lf = lp.connect(\"pyscenic_output.loom\", mode='r+', validate=False )\n",
    "auc_mtx = pd.DataFrame( lf.ca.RegulonsAUC, index=lf.ca.CellID)\n",
    "lf.close()"
   ]
  },
  {
   "cell_type": "code",
   "execution_count": 35,
   "metadata": {},
   "outputs": [
    {
     "data": {
      "text/html": [
       "<div>\n",
       "<style scoped>\n",
       "    .dataframe tbody tr th:only-of-type {\n",
       "        vertical-align: middle;\n",
       "    }\n",
       "\n",
       "    .dataframe tbody tr th {\n",
       "        vertical-align: top;\n",
       "    }\n",
       "\n",
       "    .dataframe thead th {\n",
       "        text-align: right;\n",
       "    }\n",
       "</style>\n",
       "<table border=\"1\" class=\"dataframe\">\n",
       "  <thead>\n",
       "    <tr style=\"text-align: right;\">\n",
       "      <th></th>\n",
       "      <th>AHR(+)</th>\n",
       "      <th>ATF3(+)</th>\n",
       "      <th>BACH2(+)</th>\n",
       "      <th>BATF(+)</th>\n",
       "      <th>BHLHE40(+)</th>\n",
       "      <th>BHLHE41(+)</th>\n",
       "      <th>CREM(+)</th>\n",
       "      <th>DDIT3(+)</th>\n",
       "      <th>ELF3(+)</th>\n",
       "      <th>ETS1(+)</th>\n",
       "      <th>...</th>\n",
       "      <th>MAF(+)</th>\n",
       "      <th>MAFF(+)</th>\n",
       "      <th>NFE2(+)</th>\n",
       "      <th>NFKB1(+)</th>\n",
       "      <th>NFKB2(+)</th>\n",
       "      <th>NR1H3(+)</th>\n",
       "      <th>PRDM1(+)</th>\n",
       "      <th>REL(+)</th>\n",
       "      <th>SOX4(+)</th>\n",
       "      <th>TCF7L2(+)</th>\n",
       "    </tr>\n",
       "  </thead>\n",
       "  <tbody>\n",
       "    <tr>\n",
       "      <th>GSE215120_AM1_AAATGCCCAGAGCCAA-1</th>\n",
       "      <td>0.014815</td>\n",
       "      <td>0.032522</td>\n",
       "      <td>0.017493</td>\n",
       "      <td>0.008354</td>\n",
       "      <td>0.033690</td>\n",
       "      <td>0.084034</td>\n",
       "      <td>0.030231</td>\n",
       "      <td>0.121693</td>\n",
       "      <td>0.031746</td>\n",
       "      <td>0.022378</td>\n",
       "      <td>...</td>\n",
       "      <td>0.022011</td>\n",
       "      <td>0.046005</td>\n",
       "      <td>0.000000</td>\n",
       "      <td>0.021613</td>\n",
       "      <td>0.053894</td>\n",
       "      <td>0.062434</td>\n",
       "      <td>0.000000</td>\n",
       "      <td>0.031684</td>\n",
       "      <td>0.004141</td>\n",
       "      <td>0.011905</td>\n",
       "    </tr>\n",
       "    <tr>\n",
       "      <th>GSE215120_AM1_ACACTGATCCACTGGG-1</th>\n",
       "      <td>0.001411</td>\n",
       "      <td>0.038906</td>\n",
       "      <td>0.011986</td>\n",
       "      <td>0.044277</td>\n",
       "      <td>0.062196</td>\n",
       "      <td>0.000000</td>\n",
       "      <td>0.041956</td>\n",
       "      <td>0.000000</td>\n",
       "      <td>0.000000</td>\n",
       "      <td>0.041634</td>\n",
       "      <td>...</td>\n",
       "      <td>0.012275</td>\n",
       "      <td>0.052569</td>\n",
       "      <td>0.000000</td>\n",
       "      <td>0.029549</td>\n",
       "      <td>0.078627</td>\n",
       "      <td>0.004233</td>\n",
       "      <td>0.017094</td>\n",
       "      <td>0.041892</td>\n",
       "      <td>0.025190</td>\n",
       "      <td>0.000000</td>\n",
       "    </tr>\n",
       "    <tr>\n",
       "      <th>GSE215120_AM1_ACAGCCGCAAACCTAC-1</th>\n",
       "      <td>0.043563</td>\n",
       "      <td>0.041494</td>\n",
       "      <td>0.022190</td>\n",
       "      <td>0.000000</td>\n",
       "      <td>0.046647</td>\n",
       "      <td>0.000000</td>\n",
       "      <td>0.047858</td>\n",
       "      <td>0.243386</td>\n",
       "      <td>0.052910</td>\n",
       "      <td>0.006245</td>\n",
       "      <td>...</td>\n",
       "      <td>0.026878</td>\n",
       "      <td>0.028302</td>\n",
       "      <td>0.009009</td>\n",
       "      <td>0.026998</td>\n",
       "      <td>0.021041</td>\n",
       "      <td>0.005291</td>\n",
       "      <td>0.000000</td>\n",
       "      <td>0.028260</td>\n",
       "      <td>0.049517</td>\n",
       "      <td>0.000000</td>\n",
       "    </tr>\n",
       "    <tr>\n",
       "      <th>GSE215120_AM1_ACCAGTAAGACTGGGT-1</th>\n",
       "      <td>0.039330</td>\n",
       "      <td>0.021653</td>\n",
       "      <td>0.034338</td>\n",
       "      <td>0.000000</td>\n",
       "      <td>0.047295</td>\n",
       "      <td>0.056956</td>\n",
       "      <td>0.026721</td>\n",
       "      <td>0.000000</td>\n",
       "      <td>0.000000</td>\n",
       "      <td>0.004424</td>\n",
       "      <td>...</td>\n",
       "      <td>0.014392</td>\n",
       "      <td>0.032015</td>\n",
       "      <td>0.016731</td>\n",
       "      <td>0.026006</td>\n",
       "      <td>0.015873</td>\n",
       "      <td>0.023280</td>\n",
       "      <td>0.000000</td>\n",
       "      <td>0.028820</td>\n",
       "      <td>0.056418</td>\n",
       "      <td>0.000000</td>\n",
       "    </tr>\n",
       "    <tr>\n",
       "      <th>GSE215120_AM1_ACGTCAACAAGGACTG-1</th>\n",
       "      <td>0.003880</td>\n",
       "      <td>0.004227</td>\n",
       "      <td>0.000000</td>\n",
       "      <td>0.000000</td>\n",
       "      <td>0.025267</td>\n",
       "      <td>0.000000</td>\n",
       "      <td>0.010848</td>\n",
       "      <td>0.161376</td>\n",
       "      <td>0.137566</td>\n",
       "      <td>0.020557</td>\n",
       "      <td>...</td>\n",
       "      <td>0.008254</td>\n",
       "      <td>0.015496</td>\n",
       "      <td>0.000000</td>\n",
       "      <td>0.019629</td>\n",
       "      <td>0.001107</td>\n",
       "      <td>0.000000</td>\n",
       "      <td>0.000000</td>\n",
       "      <td>0.019048</td>\n",
       "      <td>0.043306</td>\n",
       "      <td>0.000000</td>\n",
       "    </tr>\n",
       "  </tbody>\n",
       "</table>\n",
       "<p>5 rows × 30 columns</p>\n",
       "</div>"
      ],
      "text/plain": [
       "                                    AHR(+)   ATF3(+)  BACH2(+)   BATF(+)  \\\n",
       "GSE215120_AM1_AAATGCCCAGAGCCAA-1  0.014815  0.032522  0.017493  0.008354   \n",
       "GSE215120_AM1_ACACTGATCCACTGGG-1  0.001411  0.038906  0.011986  0.044277   \n",
       "GSE215120_AM1_ACAGCCGCAAACCTAC-1  0.043563  0.041494  0.022190  0.000000   \n",
       "GSE215120_AM1_ACCAGTAAGACTGGGT-1  0.039330  0.021653  0.034338  0.000000   \n",
       "GSE215120_AM1_ACGTCAACAAGGACTG-1  0.003880  0.004227  0.000000  0.000000   \n",
       "\n",
       "                                  BHLHE40(+)  BHLHE41(+)   CREM(+)  DDIT3(+)  \\\n",
       "GSE215120_AM1_AAATGCCCAGAGCCAA-1    0.033690    0.084034  0.030231  0.121693   \n",
       "GSE215120_AM1_ACACTGATCCACTGGG-1    0.062196    0.000000  0.041956  0.000000   \n",
       "GSE215120_AM1_ACAGCCGCAAACCTAC-1    0.046647    0.000000  0.047858  0.243386   \n",
       "GSE215120_AM1_ACCAGTAAGACTGGGT-1    0.047295    0.056956  0.026721  0.000000   \n",
       "GSE215120_AM1_ACGTCAACAAGGACTG-1    0.025267    0.000000  0.010848  0.161376   \n",
       "\n",
       "                                   ELF3(+)   ETS1(+)  ...    MAF(+)   MAFF(+)  \\\n",
       "GSE215120_AM1_AAATGCCCAGAGCCAA-1  0.031746  0.022378  ...  0.022011  0.046005   \n",
       "GSE215120_AM1_ACACTGATCCACTGGG-1  0.000000  0.041634  ...  0.012275  0.052569   \n",
       "GSE215120_AM1_ACAGCCGCAAACCTAC-1  0.052910  0.006245  ...  0.026878  0.028302   \n",
       "GSE215120_AM1_ACCAGTAAGACTGGGT-1  0.000000  0.004424  ...  0.014392  0.032015   \n",
       "GSE215120_AM1_ACGTCAACAAGGACTG-1  0.137566  0.020557  ...  0.008254  0.015496   \n",
       "\n",
       "                                   NFE2(+)  NFKB1(+)  NFKB2(+)  NR1H3(+)  \\\n",
       "GSE215120_AM1_AAATGCCCAGAGCCAA-1  0.000000  0.021613  0.053894  0.062434   \n",
       "GSE215120_AM1_ACACTGATCCACTGGG-1  0.000000  0.029549  0.078627  0.004233   \n",
       "GSE215120_AM1_ACAGCCGCAAACCTAC-1  0.009009  0.026998  0.021041  0.005291   \n",
       "GSE215120_AM1_ACCAGTAAGACTGGGT-1  0.016731  0.026006  0.015873  0.023280   \n",
       "GSE215120_AM1_ACGTCAACAAGGACTG-1  0.000000  0.019629  0.001107  0.000000   \n",
       "\n",
       "                                  PRDM1(+)    REL(+)   SOX4(+)  TCF7L2(+)  \n",
       "GSE215120_AM1_AAATGCCCAGAGCCAA-1  0.000000  0.031684  0.004141   0.011905  \n",
       "GSE215120_AM1_ACACTGATCCACTGGG-1  0.017094  0.041892  0.025190   0.000000  \n",
       "GSE215120_AM1_ACAGCCGCAAACCTAC-1  0.000000  0.028260  0.049517   0.000000  \n",
       "GSE215120_AM1_ACCAGTAAGACTGGGT-1  0.000000  0.028820  0.056418   0.000000  \n",
       "GSE215120_AM1_ACGTCAACAAGGACTG-1  0.000000  0.019048  0.043306   0.000000  \n",
       "\n",
       "[5 rows x 30 columns]"
      ]
     },
     "execution_count": 35,
     "metadata": {},
     "output_type": "execute_result"
    }
   ],
   "source": [
    "# activity score for each regulon (column) for every cell (row)\n",
    "auc_mtx.head()"
   ]
  },
  {
   "cell_type": "markdown",
   "metadata": {},
   "source": [
    "# Plot regulon specificity score \n",
    "* see Fig 3B,D from this paper as an example: https://insight.jci.org/articles/view/159751/sd/1\n",
    "* https://htmlpreview.github.io/?https://github.com/aertslab/SCENICprotocol/blob/master/notebooks/SCENIC%20Protocol%20-%20Case%20study%20-%20Cancer%20data%20sets.html"
   ]
  },
  {
   "cell_type": "code",
   "execution_count": 36,
   "metadata": {},
   "outputs": [],
   "source": [
    "from pyscenic.rss import regulon_specificity_scores"
   ]
  },
  {
   "cell_type": "code",
   "execution_count": 38,
   "metadata": {},
   "outputs": [
    {
     "data": {
      "text/plain": [
       "View of AnnData object with n_obs × n_vars = 30241 × 1268\n",
       "    obs: 'nCount_RNA', 'nFeature_RNA', 'sample_type', 'cancer_type', 'patient_id', 'sample_id', 'percent.mt', 'site', 'sample_type_major', 'cancer_subtype', 'integration_id', 'ident', 'dataset_id', 'n_genes_by_counts', 'log1p_n_genes_by_counts', 'total_counts', 'log1p_total_counts', 'pct_counts_in_top_50_genes', 'pct_counts_in_top_100_genes', 'pct_counts_in_top_200_genes', 'pct_counts_in_top_500_genes', 'total_counts_mt', 'log1p_total_counts_mt', 'pct_counts_mt', 'S_score', 'G2M_score', 'keep_or_remove', 'leiden', 'celltype', 'leiden_DC', 'leiden_DC_v2', 'exclude_annots', 'leiden_M', 'Technology', 'cancer_type_broad', 'clean-leiden_0.8', 'clean-subcluster', 'clean-subcluster-v2', 'YS_sig', 'HSC_sig', 'CD5nDC2_up_vDC3', 'DC3_up_vCD5nDC2', 'CD5pDC2_up_vDC3', 'DC3_up_vCD5pDC2', 'DC3_up_vMono', 'Mono_up_vDC3', 'DC1_sig', 'DC2_sig', 'DC3_sig', 'DC_Axl_sig', 'DC2_up_DC3', 'DC3_up_DC2', 'mregDC_sig', 'cDC1_mregDC', 'cDC2_mregDC', 'NR_annotations', 'NR_annotations_simple', 'sample_type_major2', 'cancer_with_H', 'cancer_broadest', 'CytoTRACE_DC_Predicted_order'\n",
       "    var: 'name', 'mt', 'n_cells_by_counts', 'mean_counts', 'log1p_mean_counts', 'pct_dropout_by_counts', 'total_counts', 'log1p_total_counts', 'highly_variable', 'means', 'dispersions', 'dispersions_norm', 'mean', 'std'\n",
       "    uns: 'NR_annotations_colors', 'NR_annotations_simple_colors', 'cancer_type_broad_colors', 'clean-leiden_0.8', 'clean-leiden_0.8_colors', 'clean-subcluster', 'clean-subcluster-v2', 'clean-subcluster-v2_colors', 'clean-subcluster_colors', 'dendrogram_NR_annotations_simple', 'hvg', 'log1p', 'neighbors', 'pca', 'rank_genes_groups', 'sample_type_major2_colors', 'site_colors', 'umap'\n",
       "    obsm: 'X_pca', 'X_pca_harmony', 'X_umap'\n",
       "    varm: 'PCs'\n",
       "    obsp: 'connectivities', 'distances'"
      ]
     },
     "execution_count": 38,
     "metadata": {},
     "output_type": "execute_result"
    }
   ],
   "source": [
    "data_DC"
   ]
  },
  {
   "cell_type": "code",
   "execution_count": 42,
   "metadata": {},
   "outputs": [
    {
     "ename": "AttributeError",
     "evalue": "module 'numpy' has no attribute 'float'.\n`np.float` was a deprecated alias for the builtin `float`. To avoid this error in existing code, use `float` by itself. Doing this will not modify any behavior and is safe. If you specifically wanted the numpy scalar type, use `np.float64` here.\nThe aliases was originally deprecated in NumPy 1.20; for more details and guidance see the original release note at:\n    https://numpy.org/devdocs/release/1.20.0-notes.html#deprecations",
     "output_type": "error",
     "traceback": [
      "\u001b[0;31m---------------------------------------------------------------------------\u001b[0m",
      "\u001b[0;31mAttributeError\u001b[0m                            Traceback (most recent call last)",
      "Cell \u001b[0;32mIn[42], line 1\u001b[0m\n\u001b[0;32m----> 1\u001b[0m rss \u001b[38;5;241m=\u001b[39m \u001b[43mregulon_specificity_scores\u001b[49m\u001b[43m(\u001b[49m\u001b[43mauc_mtx\u001b[49m\u001b[43m,\u001b[49m\u001b[43m \u001b[49m\u001b[43mdata_DC\u001b[49m\u001b[38;5;241;43m.\u001b[39;49m\u001b[43mobs\u001b[49m\u001b[43m[\u001b[49m\u001b[38;5;124;43m\"\u001b[39;49m\u001b[38;5;124;43mNR_annotations_simple\u001b[39;49m\u001b[38;5;124;43m\"\u001b[39;49m\u001b[43m]\u001b[49m\u001b[43m)\u001b[49m\n",
      "File \u001b[0;32m~/miniforge3/envs/env/lib/python3.12/site-packages/pyscenic/rss.py:21\u001b[0m, in \u001b[0;36mregulon_specificity_scores\u001b[0;34m(auc_mtx, cell_type_series)\u001b[0m\n\u001b[1;32m     19\u001b[0m regulons \u001b[38;5;241m=\u001b[39m \u001b[38;5;28mlist\u001b[39m(auc_mtx\u001b[38;5;241m.\u001b[39mcolumns)\n\u001b[1;32m     20\u001b[0m n_regulons \u001b[38;5;241m=\u001b[39m \u001b[38;5;28mlen\u001b[39m(regulons)\n\u001b[0;32m---> 21\u001b[0m rss_values \u001b[38;5;241m=\u001b[39m np\u001b[38;5;241m.\u001b[39mempty(shape\u001b[38;5;241m=\u001b[39m(n_types, n_regulons), dtype\u001b[38;5;241m=\u001b[39m\u001b[43mnp\u001b[49m\u001b[38;5;241;43m.\u001b[39;49m\u001b[43mfloat\u001b[49m)\n\u001b[1;32m     23\u001b[0m \u001b[38;5;28;01mdef\u001b[39;00m \u001b[38;5;21mrss\u001b[39m(aucs, labels):\n\u001b[1;32m     24\u001b[0m     \u001b[38;5;66;03m# jensenshannon function provides distance which is the sqrt of the JS divergence.\u001b[39;00m\n\u001b[1;32m     25\u001b[0m     \u001b[38;5;28;01mreturn\u001b[39;00m \u001b[38;5;241m1.0\u001b[39m \u001b[38;5;241m-\u001b[39m jensenshannon(aucs \u001b[38;5;241m/\u001b[39m aucs\u001b[38;5;241m.\u001b[39msum(), labels \u001b[38;5;241m/\u001b[39m labels\u001b[38;5;241m.\u001b[39msum())\n",
      "File \u001b[0;32m~/miniforge3/envs/env/lib/python3.12/site-packages/numpy/__init__.py:324\u001b[0m, in \u001b[0;36m__getattr__\u001b[0;34m(attr)\u001b[0m\n\u001b[1;32m    319\u001b[0m     warnings\u001b[38;5;241m.\u001b[39mwarn(\n\u001b[1;32m    320\u001b[0m         \u001b[38;5;124mf\u001b[39m\u001b[38;5;124m\"\u001b[39m\u001b[38;5;124mIn the future `np.\u001b[39m\u001b[38;5;132;01m{\u001b[39;00mattr\u001b[38;5;132;01m}\u001b[39;00m\u001b[38;5;124m` will be defined as the \u001b[39m\u001b[38;5;124m\"\u001b[39m\n\u001b[1;32m    321\u001b[0m         \u001b[38;5;124m\"\u001b[39m\u001b[38;5;124mcorresponding NumPy scalar.\u001b[39m\u001b[38;5;124m\"\u001b[39m, \u001b[38;5;167;01mFutureWarning\u001b[39;00m, stacklevel\u001b[38;5;241m=\u001b[39m\u001b[38;5;241m2\u001b[39m)\n\u001b[1;32m    323\u001b[0m \u001b[38;5;28;01mif\u001b[39;00m attr \u001b[38;5;129;01min\u001b[39;00m __former_attrs__:\n\u001b[0;32m--> 324\u001b[0m     \u001b[38;5;28;01mraise\u001b[39;00m \u001b[38;5;167;01mAttributeError\u001b[39;00m(__former_attrs__[attr])\n\u001b[1;32m    326\u001b[0m \u001b[38;5;28;01mif\u001b[39;00m attr \u001b[38;5;241m==\u001b[39m \u001b[38;5;124m'\u001b[39m\u001b[38;5;124mtesting\u001b[39m\u001b[38;5;124m'\u001b[39m:\n\u001b[1;32m    327\u001b[0m     \u001b[38;5;28;01mimport\u001b[39;00m \u001b[38;5;21;01mnumpy\u001b[39;00m\u001b[38;5;21;01m.\u001b[39;00m\u001b[38;5;21;01mtesting\u001b[39;00m \u001b[38;5;28;01mas\u001b[39;00m \u001b[38;5;21;01mtesting\u001b[39;00m\n",
      "\u001b[0;31mAttributeError\u001b[0m: module 'numpy' has no attribute 'float'.\n`np.float` was a deprecated alias for the builtin `float`. To avoid this error in existing code, use `float` by itself. Doing this will not modify any behavior and is safe. If you specifically wanted the numpy scalar type, use `np.float64` here.\nThe aliases was originally deprecated in NumPy 1.20; for more details and guidance see the original release note at:\n    https://numpy.org/devdocs/release/1.20.0-notes.html#deprecations"
     ]
    }
   ],
   "source": [
    "rss = regulon_specificity_scores(auc_mtx, data_DC.obs[\"NR_annotations_simple\"])"
   ]
  },
  {
   "cell_type": "markdown",
   "metadata": {},
   "source": [
    "* switch to environemnt pyscenic (ive downloaded numpy 1.20.0 instead of 1.24.0)"
   ]
  },
  {
   "cell_type": "markdown",
   "metadata": {},
   "source": [
    "ugh ok sorry I tried running \n",
    "rss = regulon_specificity_scores(auc_mtx, data_DC.obs[\"NR_annotations_simple\"])\n",
    "but i get another deprecation error\n",
    "AttributeError: module 'numpy' has no attribute 'float'.\n",
    "`np.float` was a deprecated alias for the builtin `float`. To avoid this error in existing code, use `float` by itself. Doing this will not modify any behavior and is safe. If you specifically wanted the numpy scalar type, use `np.float64` here.\n",
    "The aliases was originally deprecated in NumPy 1.20; for more details and guidance see the original release note at:\n",
    "    https://numpy.org/devdocs/release/1.20.0-notes.html#deprecations\n",
    "I just tried downgrading to numpy 1.20.0 in my old pyscenic environment but it wont let me. I'll check that I'm not missing something in the tutorial though"
   ]
  },
  {
   "cell_type": "markdown",
   "metadata": {},
   "source": [
    "# add activity scores to my processed sc object"
   ]
  }
 ],
 "metadata": {
  "kernelspec": {
   "display_name": "Python 3 (ipykernel)",
   "language": "python",
   "name": "python3"
  },
  "language_info": {
   "codemirror_mode": {
    "name": "ipython",
    "version": 3
   },
   "file_extension": ".py",
   "mimetype": "text/x-python",
   "name": "python",
   "nbconvert_exporter": "python",
   "pygments_lexer": "ipython3",
   "version": "3.12.3"
  }
 },
 "nbformat": 4,
 "nbformat_minor": 2
}
