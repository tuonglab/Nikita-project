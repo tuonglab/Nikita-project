{
 "cells": [
  {
   "cell_type": "markdown",
   "metadata": {},
   "source": [
    "## Adding broadest cancer category for plotting/analysis\n",
    "* merging acral melanoma and melanoma \n",
    "* New object will be called: NRclean_clustered2.h5ad"
   ]
  },
  {
   "cell_type": "code",
   "execution_count": 3,
   "metadata": {},
   "outputs": [],
   "source": [
    "import os\n",
    "import scanpy as sc"
   ]
  },
  {
   "cell_type": "code",
   "execution_count": 2,
   "metadata": {},
   "outputs": [
    {
     "data": {
      "text/plain": [
       "'/scratch/user/s4436039/scdata/Python_Integration_Sep'"
      ]
     },
     "execution_count": 2,
     "metadata": {},
     "output_type": "execute_result"
    }
   ],
   "source": [
    "#show current directory \n",
    "os.getcwd()\n",
    "os.chdir('/scratch/user/s4436039/scdata/Python_Integration_Sep')\n",
    "os.getcwd()"
   ]
  },
  {
   "cell_type": "code",
   "execution_count": 4,
   "metadata": {},
   "outputs": [],
   "source": [
    "# read in data\n",
    "data = sc.read_h5ad('NRclean_clustered.h5ad')"
   ]
  },
  {
   "cell_type": "code",
   "execution_count": 5,
   "metadata": {},
   "outputs": [],
   "source": [
    "data.obs[\"cancer_broadest\"] = data.obs[\"cancer_type_broad\"]"
   ]
  },
  {
   "cell_type": "code",
   "execution_count": 7,
   "metadata": {},
   "outputs": [],
   "source": [
    "#make a copy \n",
    "acral = data[data.obs[\"cancer_type_broad\"].isin([\"Acral Melanoma\",\"Melanoma\"])]"
   ]
  },
  {
   "cell_type": "code",
   "execution_count": 8,
   "metadata": {},
   "outputs": [
    {
     "name": "stderr",
     "output_type": "stream",
     "text": [
      "/scratch/temp/11895394/ipykernel_2027072/3442290334.py:2: ImplicitModificationWarning: Trying to modify attribute `.obs` of view, initializing view as actual.\n",
      "  acral.obs[\"cancer_broadest\"] = \"MEL\"\n"
     ]
    }
   ],
   "source": [
    "#set to melanoma\n",
    "acral.obs[\"cancer_broadest\"] = \"MEL\""
   ]
  },
  {
   "cell_type": "code",
   "execution_count": 10,
   "metadata": {},
   "outputs": [
    {
     "name": "stderr",
     "output_type": "stream",
     "text": [
      "/scratch/temp/11895394/ipykernel_2027072/3850063392.py:3: FutureWarning: A value is trying to be set on a copy of a DataFrame or Series through chained assignment using an inplace method.\n",
      "The behavior will change in pandas 3.0. This inplace method will never work because the intermediate object on which we are setting values always behaves as a copy.\n",
      "\n",
      "For example, when doing 'df[col].method(value, inplace=True)', try using 'df.method({col: value}, inplace=True)' or df[col] = df[col].method(value) instead, to perform the operation inplace on the original object.\n",
      "\n",
      "\n",
      "  data.obs[\"cancer_broadest\"].update(acral.obs[\"cancer_broadest\"])\n"
     ]
    }
   ],
   "source": [
    "#update  \n",
    "data.obs[\"cancer_broadest\"] = data.obs[\"cancer_broadest\"].astype(str)\n",
    "data.obs[\"cancer_broadest\"].update(acral.obs[\"cancer_broadest\"]) "
   ]
  },
  {
   "cell_type": "code",
   "execution_count": 13,
   "metadata": {},
   "outputs": [
    {
     "name": "stdout",
     "output_type": "stream",
     "text": [
      "cancer_broadest\n",
      "HGSOC            212070\n",
      "NA                63409\n",
      "NSCLC             54888\n",
      "HNSCC             52659\n",
      "GBM               34224\n",
      "Breast Cancer     31823\n",
      "PDAC              14061\n",
      "HCC               12019\n",
      "MEL               11021\n",
      "CRC                3879\n",
      "iCCA               3466\n",
      "GAC                2894\n",
      "NPC                1610\n",
      "Name: count, dtype: int64\n"
     ]
    }
   ],
   "source": [
    "# check \n",
    "type_counts = data.obs['cancer_broadest'].value_counts()\n",
    "print(type_counts)"
   ]
  },
  {
   "cell_type": "code",
   "execution_count": 26,
   "metadata": {},
   "outputs": [],
   "source": [
    "#make a copy \n",
    "data_BC = data[data.obs[\"cancer_type_broad\"].isin([\"Breast Cancer\"])]"
   ]
  },
  {
   "cell_type": "code",
   "execution_count": 27,
   "metadata": {},
   "outputs": [
    {
     "name": "stdout",
     "output_type": "stream",
     "text": [
      "cancer_broadest\n",
      "Breast Cancer    31823\n",
      "Name: count, dtype: int64\n"
     ]
    }
   ],
   "source": [
    "# check \n",
    "type_counts = data_BC.obs['cancer_broadest'].value_counts()\n",
    "print(type_counts)"
   ]
  },
  {
   "cell_type": "code",
   "execution_count": 28,
   "metadata": {},
   "outputs": [
    {
     "name": "stderr",
     "output_type": "stream",
     "text": [
      "/scratch/temp/11895394/ipykernel_2027072/3094386429.py:2: ImplicitModificationWarning: Trying to modify attribute `.obs` of view, initializing view as actual.\n",
      "  data_BC.obs[\"cancer_broadest\"] = \"BC\"\n"
     ]
    }
   ],
   "source": [
    "#set to melanoma\n",
    "data_BC.obs[\"cancer_broadest\"] = \"BC\""
   ]
  },
  {
   "cell_type": "code",
   "execution_count": 29,
   "metadata": {},
   "outputs": [
    {
     "name": "stderr",
     "output_type": "stream",
     "text": [
      "/scratch/temp/11895394/ipykernel_2027072/2404349435.py:3: FutureWarning: A value is trying to be set on a copy of a DataFrame or Series through chained assignment using an inplace method.\n",
      "The behavior will change in pandas 3.0. This inplace method will never work because the intermediate object on which we are setting values always behaves as a copy.\n",
      "\n",
      "For example, when doing 'df[col].method(value, inplace=True)', try using 'df.method({col: value}, inplace=True)' or df[col] = df[col].method(value) instead, to perform the operation inplace on the original object.\n",
      "\n",
      "\n",
      "  data.obs[\"cancer_broadest\"].update(data_BC.obs[\"cancer_broadest\"])\n"
     ]
    }
   ],
   "source": [
    "#update  \n",
    "data.obs[\"cancer_broadest\"] = data.obs[\"cancer_broadest\"].astype(str)\n",
    "data.obs[\"cancer_broadest\"].update(data_BC.obs[\"cancer_broadest\"]) "
   ]
  },
  {
   "cell_type": "code",
   "execution_count": 30,
   "metadata": {},
   "outputs": [
    {
     "name": "stdout",
     "output_type": "stream",
     "text": [
      "cancer_broadest\n",
      "HGSOC    212070\n",
      "NA        63409\n",
      "NSCLC     54888\n",
      "HNSCC     52659\n",
      "GBM       34224\n",
      "BC        31823\n",
      "PDAC      14061\n",
      "HCC       12019\n",
      "MEL       11021\n",
      "CRC        3879\n",
      "iCCA       3466\n",
      "GAC        2894\n",
      "NPC        1610\n",
      "Name: count, dtype: int64\n"
     ]
    }
   ],
   "source": [
    "# check \n",
    "type_counts = data.obs['cancer_broadest'].value_counts()\n",
    "print(type_counts)"
   ]
  },
  {
   "cell_type": "code",
   "execution_count": 31,
   "metadata": {},
   "outputs": [],
   "source": [
    "#save object\n",
    "data.write_h5ad(\"NRclean_clustered2.h5ad\", compression=\"gzip\")"
   ]
  }
 ],
 "metadata": {
  "kernelspec": {
   "display_name": "Python 3 (ipykernel)",
   "language": "python",
   "name": "python3"
  },
  "language_info": {
   "codemirror_mode": {
    "name": "ipython",
    "version": 3
   },
   "file_extension": ".py",
   "mimetype": "text/x-python",
   "name": "python",
   "nbconvert_exporter": "python",
   "pygments_lexer": "ipython3",
   "version": "3.12.3"
  }
 },
 "nbformat": 4,
 "nbformat_minor": 2
}
