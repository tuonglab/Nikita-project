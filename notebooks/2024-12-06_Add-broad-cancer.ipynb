{
 "cells": [
  {
   "cell_type": "markdown",
   "metadata": {},
   "source": [
    "## Adding broadest cancer category for plotting/analysis\n",
    "* merging acral melanoma and melanoma \n",
    "* New object will be called: NRclean_clustered2.h5ad"
   ]
  },
  {
   "cell_type": "code",
   "execution_count": 1,
   "metadata": {},
   "outputs": [],
   "source": [
    "import os\n",
    "import scanpy as sc"
   ]
  },
  {
   "cell_type": "code",
   "execution_count": 2,
   "metadata": {},
   "outputs": [
    {
     "data": {
      "text/plain": [
       "'/scratch/user/s4436039/scdata/Python_Integration_Sep'"
      ]
     },
     "execution_count": 2,
     "metadata": {},
     "output_type": "execute_result"
    }
   ],
   "source": [
    "#show current directory \n",
    "os.getcwd()\n",
    "os.chdir('/scratch/user/s4436039/scdata/Python_Integration_Sep')\n",
    "os.getcwd()"
   ]
  },
  {
   "cell_type": "code",
   "execution_count": 4,
   "metadata": {},
   "outputs": [],
   "source": [
    "# read in data\n",
    "data = sc.read_h5ad('NRclean_clustered.h5ad')"
   ]
  },
  {
   "cell_type": "code",
   "execution_count": 5,
   "metadata": {},
   "outputs": [],
   "source": [
    "data.obs[\"cancer_broadest\"] = data.obs[\"cancer_type_broad\"]"
   ]
  },
  {
   "cell_type": "code",
   "execution_count": 7,
   "metadata": {},
   "outputs": [],
   "source": [
    "#make a copy \n",
    "acral = data[data.obs[\"cancer_type_broad\"].isin([\"Acral Melanoma\",\"Melanoma\"])]"
   ]
  },
  {
   "cell_type": "code",
   "execution_count": 8,
   "metadata": {},
   "outputs": [
    {
     "name": "stderr",
     "output_type": "stream",
     "text": [
      "/scratch/temp/11895394/ipykernel_2027072/3442290334.py:2: ImplicitModificationWarning: Trying to modify attribute `.obs` of view, initializing view as actual.\n",
      "  acral.obs[\"cancer_broadest\"] = \"MEL\"\n"
     ]
    }
   ],
   "source": [
    "#set to melanoma\n",
    "acral.obs[\"cancer_broadest\"] = \"MEL\""
   ]
  },
  {
   "cell_type": "code",
   "execution_count": 10,
   "metadata": {},
   "outputs": [
    {
     "name": "stderr",
     "output_type": "stream",
     "text": [
      "/scratch/temp/11895394/ipykernel_2027072/3850063392.py:3: FutureWarning: A value is trying to be set on a copy of a DataFrame or Series through chained assignment using an inplace method.\n",
      "The behavior will change in pandas 3.0. This inplace method will never work because the intermediate object on which we are setting values always behaves as a copy.\n",
      "\n",
      "For example, when doing 'df[col].method(value, inplace=True)', try using 'df.method({col: value}, inplace=True)' or df[col] = df[col].method(value) instead, to perform the operation inplace on the original object.\n",
      "\n",
      "\n",
      "  data.obs[\"cancer_broadest\"].update(acral.obs[\"cancer_broadest\"])\n"
     ]
    }
   ],
   "source": [
    "#update  \n",
    "data.obs[\"cancer_broadest\"] = data.obs[\"cancer_broadest\"].astype(str)\n",
    "data.obs[\"cancer_broadest\"].update(acral.obs[\"cancer_broadest\"]) "
   ]
  },
  {
   "cell_type": "code",
   "execution_count": 13,
   "metadata": {},
   "outputs": [
    {
     "name": "stdout",
     "output_type": "stream",
     "text": [
      "cancer_broadest\n",
      "HGSOC            212070\n",
      "NA                63409\n",
      "NSCLC             54888\n",
      "HNSCC             52659\n",
      "GBM               34224\n",
      "Breast Cancer     31823\n",
      "PDAC              14061\n",
      "HCC               12019\n",
      "MEL               11021\n",
      "CRC                3879\n",
      "iCCA               3466\n",
      "GAC                2894\n",
      "NPC                1610\n",
      "Name: count, dtype: int64\n"
     ]
    }
   ],
   "source": [
    "# check \n",
    "type_counts = data.obs['cancer_broadest'].value_counts()\n",
    "print(type_counts)"
   ]
  },
  {
   "cell_type": "code",
   "execution_count": 26,
   "metadata": {},
   "outputs": [],
   "source": [
    "#make a copy \n",
    "data_BC = data[data.obs[\"cancer_type_broad\"].isin([\"Breast Cancer\"])]"
   ]
  },
  {
   "cell_type": "code",
   "execution_count": 27,
   "metadata": {},
   "outputs": [
    {
     "name": "stdout",
     "output_type": "stream",
     "text": [
      "cancer_broadest\n",
      "Breast Cancer    31823\n",
      "Name: count, dtype: int64\n"
     ]
    }
   ],
   "source": [
    "# check \n",
    "type_counts = data_BC.obs['cancer_broadest'].value_counts()\n",
    "print(type_counts)"
   ]
  },
  {
   "cell_type": "code",
   "execution_count": 28,
   "metadata": {},
   "outputs": [
    {
     "name": "stderr",
     "output_type": "stream",
     "text": [
      "/scratch/temp/11895394/ipykernel_2027072/3094386429.py:2: ImplicitModificationWarning: Trying to modify attribute `.obs` of view, initializing view as actual.\n",
      "  data_BC.obs[\"cancer_broadest\"] = \"BC\"\n"
     ]
    }
   ],
   "source": [
    "#set to melanoma\n",
    "data_BC.obs[\"cancer_broadest\"] = \"BC\""
   ]
  },
  {
   "cell_type": "code",
   "execution_count": 29,
   "metadata": {},
   "outputs": [
    {
     "name": "stderr",
     "output_type": "stream",
     "text": [
      "/scratch/temp/11895394/ipykernel_2027072/2404349435.py:3: FutureWarning: A value is trying to be set on a copy of a DataFrame or Series through chained assignment using an inplace method.\n",
      "The behavior will change in pandas 3.0. This inplace method will never work because the intermediate object on which we are setting values always behaves as a copy.\n",
      "\n",
      "For example, when doing 'df[col].method(value, inplace=True)', try using 'df.method({col: value}, inplace=True)' or df[col] = df[col].method(value) instead, to perform the operation inplace on the original object.\n",
      "\n",
      "\n",
      "  data.obs[\"cancer_broadest\"].update(data_BC.obs[\"cancer_broadest\"])\n"
     ]
    }
   ],
   "source": [
    "#update  \n",
    "data.obs[\"cancer_broadest\"] = data.obs[\"cancer_broadest\"].astype(str)\n",
    "data.obs[\"cancer_broadest\"].update(data_BC.obs[\"cancer_broadest\"]) "
   ]
  },
  {
   "cell_type": "code",
   "execution_count": 30,
   "metadata": {},
   "outputs": [
    {
     "name": "stdout",
     "output_type": "stream",
     "text": [
      "cancer_broadest\n",
      "HGSOC    212070\n",
      "NA        63409\n",
      "NSCLC     54888\n",
      "HNSCC     52659\n",
      "GBM       34224\n",
      "BC        31823\n",
      "PDAC      14061\n",
      "HCC       12019\n",
      "MEL       11021\n",
      "CRC        3879\n",
      "iCCA       3466\n",
      "GAC        2894\n",
      "NPC        1610\n",
      "Name: count, dtype: int64\n"
     ]
    }
   ],
   "source": [
    "# check \n",
    "type_counts = data.obs['cancer_broadest'].value_counts()\n",
    "print(type_counts)"
   ]
  },
  {
   "cell_type": "code",
   "execution_count": 31,
   "metadata": {},
   "outputs": [],
   "source": [
    "#save object\n",
    "data.write_h5ad(\"NRclean_clustered2.h5ad\", compression=\"gzip\")"
   ]
  },
  {
   "cell_type": "code",
   "execution_count": 3,
   "metadata": {},
   "outputs": [],
   "source": [
    "# read in data\n",
    "data = sc.read_h5ad('NRclean_clustered2.h5ad')"
   ]
  },
  {
   "cell_type": "code",
   "execution_count": 4,
   "metadata": {},
   "outputs": [
    {
     "data": {
      "text/plain": [
       "AnnData object with n_obs × n_vars = 498023 × 1268\n",
       "    obs: 'nCount_RNA', 'nFeature_RNA', 'sample_type', 'cancer_type', 'patient_id', 'sample_id', 'percent.mt', 'site', 'sample_type_major', 'cancer_subtype', 'integration_id', 'ident', 'dataset_id', 'n_genes_by_counts', 'log1p_n_genes_by_counts', 'total_counts', 'log1p_total_counts', 'pct_counts_in_top_50_genes', 'pct_counts_in_top_100_genes', 'pct_counts_in_top_200_genes', 'pct_counts_in_top_500_genes', 'total_counts_mt', 'log1p_total_counts_mt', 'pct_counts_mt', 'S_score', 'G2M_score', 'keep_or_remove', 'leiden', 'celltype', 'leiden_DC', 'leiden_DC_v2', 'exclude_annots', 'leiden_M', 'Technology', 'cancer_type_broad', 'clean-leiden_0.8', 'clean-subcluster', 'clean-subcluster-v2', 'YS_sig', 'HSC_sig', 'CD5nDC2_up_vDC3', 'DC3_up_vCD5nDC2', 'CD5pDC2_up_vDC3', 'DC3_up_vCD5pDC2', 'DC3_up_vMono', 'Mono_up_vDC3', 'DC1_sig', 'DC2_sig', 'DC3_sig', 'DC_Axl_sig', 'DC2_up_DC3', 'DC3_up_DC2', 'mregDC_sig', 'cDC1_mregDC', 'cDC2_mregDC', 'NR_annotations', 'NR_annotations_simple', 'sample_type_major2', 'cancer_with_H', 'cancer_broadest', 'CytoTRACE_DC_Predicted_order'\n",
       "    var: 'name', 'mt', 'n_cells_by_counts', 'mean_counts', 'log1p_mean_counts', 'pct_dropout_by_counts', 'total_counts', 'log1p_total_counts', 'highly_variable', 'means', 'dispersions', 'dispersions_norm', 'mean', 'std'\n",
       "    uns: 'NR_annotations_colors', 'NR_annotations_simple_colors', 'cancer_type_broad_colors', 'clean-leiden_0.8', 'clean-leiden_0.8_colors', 'clean-subcluster', 'clean-subcluster-v2', 'clean-subcluster-v2_colors', 'clean-subcluster_colors', 'dendrogram_NR_annotations_simple', 'hvg', 'log1p', 'neighbors', 'pca', 'rank_genes_groups', 'sample_type_major2_colors', 'site_colors', 'umap'\n",
       "    obsm: 'X_pca', 'X_pca_harmony', 'X_umap'\n",
       "    varm: 'PCs'\n",
       "    obsp: 'connectivities', 'distances'"
      ]
     },
     "execution_count": 4,
     "metadata": {},
     "output_type": "execute_result"
    }
   ],
   "source": [
    "data"
   ]
  },
  {
   "cell_type": "code",
   "execution_count": 6,
   "metadata": {},
   "outputs": [
    {
     "name": "stdout",
     "output_type": "stream",
     "text": [
      "Cell count: 498023\n",
      "Samples count: 589\n"
     ]
    }
   ],
   "source": [
    "#output number of cells and number of samples in atlas\n",
    "\n",
    "# number of cells: \n",
    "cells_count = data.shape[0]\n",
    "print(f\"Cell count: {cells_count}\")\n",
    "\n",
    "# number of samples: number of unique integration ids\n",
    "samples_count = data.obs['integration_id'].unique()\n",
    "print(f\"Samples count: {len(samples_count)}\")"
   ]
  }
 ],
 "metadata": {
  "kernelspec": {
   "display_name": "Python 3 (ipykernel)",
   "language": "python",
   "name": "python3"
  },
  "language_info": {
   "codemirror_mode": {
    "name": "ipython",
    "version": 3
   },
   "file_extension": ".py",
   "mimetype": "text/x-python",
   "name": "python",
   "nbconvert_exporter": "python",
   "pygments_lexer": "ipython3",
   "version": "3.12.3"
  }
 },
 "nbformat": 4,
 "nbformat_minor": 2
}
