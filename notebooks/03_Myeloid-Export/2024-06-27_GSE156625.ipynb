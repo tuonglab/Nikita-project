{
 "cells": [
  {
   "cell_type": "markdown",
   "metadata": {},
   "source": [
    "##### Steps for reading in dataset (following download), initial QC, dim reduction/clustering and saving out the myeloid cluster for **GSE156625**\n",
    "\n",
    "files previously downloaded:\n",
    "* GSE156625_HCCbarcodes.tsv.gz\n",
    "* GSE156625_HCCgenes.tsv.gz\n",
    "* GSE156625_HCCmatrix.mtx.gz\n",
    "\n",
    "Renamed as necessary \n",
    "\n",
    "Dataset should contain data from 14 patients (multiple locations??)"
   ]
  },
  {
   "cell_type": "code",
   "execution_count": 1,
   "metadata": {
    "vscode": {
     "languageId": "r"
    }
   },
   "outputs": [
    {
     "data": {
      "text/html": [
       "'/scratch/user/s4436039/Nikita-project'"
      ],
      "text/latex": [
       "'/scratch/user/s4436039/Nikita-project'"
      ],
      "text/markdown": [
       "'/scratch/user/s4436039/Nikita-project'"
      ],
      "text/plain": [
       "[1] \"/scratch/user/s4436039/Nikita-project\""
      ]
     },
     "metadata": {},
     "output_type": "display_data"
    },
    {
     "data": {
      "text/html": [
       "'/scratch/user/s4436039/scdata/GSE235676'"
      ],
      "text/latex": [
       "'/scratch/user/s4436039/scdata/GSE235676'"
      ],
      "text/markdown": [
       "'/scratch/user/s4436039/scdata/GSE235676'"
      ],
      "text/plain": [
       "[1] \"/scratch/user/s4436039/scdata/GSE235676\""
      ]
     },
     "metadata": {},
     "output_type": "display_data"
    }
   ],
   "source": [
    "#set wd\n",
    "getwd()\n",
    "setwd('/scratch/user/s4436039/scdata/GSE235676')\n",
    "getwd()"
   ]
  },
  {
   "cell_type": "code",
   "execution_count": 2,
   "metadata": {
    "vscode": {
     "languageId": "r"
    }
   },
   "outputs": [
    {
     "name": "stderr",
     "output_type": "stream",
     "text": [
      "\n",
      "Attaching package: ‘dplyr’\n",
      "\n",
      "\n",
      "The following objects are masked from ‘package:stats’:\n",
      "\n",
      "    filter, lag\n",
      "\n",
      "\n",
      "The following objects are masked from ‘package:base’:\n",
      "\n",
      "    intersect, setdiff, setequal, union\n",
      "\n",
      "\n",
      "Loading required package: SeuratObject\n",
      "\n",
      "Loading required package: sp\n",
      "\n",
      "\n",
      "Attaching package: ‘SeuratObject’\n",
      "\n",
      "\n",
      "The following object is masked from ‘package:base’:\n",
      "\n",
      "    intersect\n",
      "\n",
      "\n"
     ]
    }
   ],
   "source": [
    "#Load packages\n",
    "library(dplyr)\n",
    "library(Seurat)\n",
    "library(patchwork)"
   ]
  },
  {
   "cell_type": "code",
   "execution_count": 3,
   "metadata": {
    "vscode": {
     "languageId": "r"
    }
   },
   "outputs": [],
   "source": [
    "#load all datasets\n",
    "HCC.data <- Read10X(data.dir = \"/scratch/user/s4436039/scdata/GSE156625\") "
   ]
  },
  {
   "cell_type": "code",
   "execution_count": 5,
   "metadata": {
    "vscode": {
     "languageId": "r"
    }
   },
   "outputs": [
    {
     "data": {
      "text/html": [
       "<style>\n",
       ".list-inline {list-style: none; margin:0; padding: 0}\n",
       ".list-inline>li {display: inline-block}\n",
       ".list-inline>li:not(:last-child)::after {content: \"\\00b7\"; padding: 0 .5ex}\n",
       "</style>\n",
       "<ol class=list-inline><li>'AAACCTGAGAAACCAT-1'</li><li>'AAACCTGAGAAACCGC-1'</li><li>'AAACCTGAGAAACCTA-1'</li><li>'AAACCTGAGAAACGAG-1'</li><li>'AAACCTGAGAAACGCC-1'</li><li>'AAACCTGAGAAAGTGG-1'</li></ol>\n"
      ],
      "text/latex": [
       "\\begin{enumerate*}\n",
       "\\item 'AAACCTGAGAAACCAT-1'\n",
       "\\item 'AAACCTGAGAAACCGC-1'\n",
       "\\item 'AAACCTGAGAAACCTA-1'\n",
       "\\item 'AAACCTGAGAAACGAG-1'\n",
       "\\item 'AAACCTGAGAAACGCC-1'\n",
       "\\item 'AAACCTGAGAAAGTGG-1'\n",
       "\\end{enumerate*}\n"
      ],
      "text/markdown": [
       "1. 'AAACCTGAGAAACCAT-1'\n",
       "2. 'AAACCTGAGAAACCGC-1'\n",
       "3. 'AAACCTGAGAAACCTA-1'\n",
       "4. 'AAACCTGAGAAACGAG-1'\n",
       "5. 'AAACCTGAGAAACGCC-1'\n",
       "6. 'AAACCTGAGAAAGTGG-1'\n",
       "\n",
       "\n"
      ],
      "text/plain": [
       "[1] \"AAACCTGAGAAACCAT-1\" \"AAACCTGAGAAACCGC-1\" \"AAACCTGAGAAACCTA-1\"\n",
       "[4] \"AAACCTGAGAAACGAG-1\" \"AAACCTGAGAAACGCC-1\" \"AAACCTGAGAAAGTGG-1\""
      ]
     },
     "metadata": {},
     "output_type": "display_data"
    },
    {
     "data": {
      "text/html": [
       "<style>\n",
       ".list-inline {list-style: none; margin:0; padding: 0}\n",
       ".list-inline>li {display: inline-block}\n",
       ".list-inline>li:not(:last-child)::after {content: \"\\00b7\"; padding: 0 .5ex}\n",
       "</style>\n",
       "<ol class=list-inline><li>'TTTGTCATCTTGTTTG-58'</li><li>'TTTGTCATCTTTACAC-58'</li><li>'TTTGTCATCTTTACGT-58'</li><li>'TTTGTCATCTTTAGGG-58'</li><li>'TTTGTCATCTTTAGTC-58'</li><li>'TTTGTCATCTTTCCTC-58'</li></ol>\n"
      ],
      "text/latex": [
       "\\begin{enumerate*}\n",
       "\\item 'TTTGTCATCTTGTTTG-58'\n",
       "\\item 'TTTGTCATCTTTACAC-58'\n",
       "\\item 'TTTGTCATCTTTACGT-58'\n",
       "\\item 'TTTGTCATCTTTAGGG-58'\n",
       "\\item 'TTTGTCATCTTTAGTC-58'\n",
       "\\item 'TTTGTCATCTTTCCTC-58'\n",
       "\\end{enumerate*}\n"
      ],
      "text/markdown": [
       "1. 'TTTGTCATCTTGTTTG-58'\n",
       "2. 'TTTGTCATCTTTACAC-58'\n",
       "3. 'TTTGTCATCTTTACGT-58'\n",
       "4. 'TTTGTCATCTTTAGGG-58'\n",
       "5. 'TTTGTCATCTTTAGTC-58'\n",
       "6. 'TTTGTCATCTTTCCTC-58'\n",
       "\n",
       "\n"
      ],
      "text/plain": [
       "[1] \"TTTGTCATCTTGTTTG-58\" \"TTTGTCATCTTTACAC-58\" \"TTTGTCATCTTTACGT-58\"\n",
       "[4] \"TTTGTCATCTTTAGGG-58\" \"TTTGTCATCTTTAGTC-58\" \"TTTGTCATCTTTCCTC-58\""
      ]
     },
     "metadata": {},
     "output_type": "display_data"
    }
   ],
   "source": [
    "head(colnames(HCC.data))\n",
    "tail(colnames(HCC.data))"
   ]
  },
  {
   "cell_type": "markdown",
   "metadata": {},
   "source": [
    "### excluding as no clear way to distinguish patients/samples. 1 to 58 in barcode does not align with any info I can find on GEO or in the paper"
   ]
  },
  {
   "cell_type": "markdown",
   "metadata": {},
   "source": [
    "#### Following the above then need to move entire GSE156625 folder from scratch to rdm\n",
    "``` bash\n",
    "rsync -azvhp /scratch/user/s4436039/scdata/GSE156625/ /QRISdata/Q5935/nikita/scdata/GSE156625\n",
    "```"
   ]
  }
 ],
 "metadata": {
  "kernelspec": {
   "display_name": "R",
   "language": "R",
   "name": "ir"
  },
  "language_info": {
   "codemirror_mode": "r",
   "file_extension": ".r",
   "mimetype": "text/x-r-source",
   "name": "R",
   "pygments_lexer": "r",
   "version": "4.3.3"
  }
 },
 "nbformat": 4,
 "nbformat_minor": 2
}
