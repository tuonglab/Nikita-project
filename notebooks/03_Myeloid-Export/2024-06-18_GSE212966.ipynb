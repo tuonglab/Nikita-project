{
 "cells": [
  {
   "cell_type": "markdown",
   "metadata": {},
   "source": [
    "##### Steps for reading in dataset (following download), initial QC, dim reduction/clustering and saving out the myeloid cluster for **GSE212966**\n",
    "\n",
    "file previously downloaded:\n",
    "* GSE212966_RAW.tar\n",
    "\n",
    "unzipped using \n",
    "``` bash\n",
    "tar -xvf GSE212966_RAW.tar\n",
    "```\n",
    "\n",
    "This gives the following files: \n",
    "* GSM6567157_PDAC1_barcodes.tsv.gz\n",
    "* GSM6567157_PDAC1_genes.tsv.gz\n",
    "* GSM6567157_PDAC1_matrix.mtx.gz\n",
    "* GSM6567159_PDAC2_barcodes.tsv.gz\n",
    "* GSM6567159_PDAC2_genes.tsv.gz\n",
    "* GSM6567159_PDAC2_matrix.mtx.gz\n",
    "* GSM6567160_PDAC3_barcodes.tsv.gz\n",
    "* GSM6567160_PDAC3_genes.tsv.gz\n",
    "* GSM6567160_PDAC3_matrix.mtx.gz\n",
    "* GSM6567161_PDAC4_barcodes.tsv.gz\n",
    "* GSM6567161_PDAC4_genes.tsv.gz\n",
    "* GSM6567161_PDAC4_matrix.mtx.gz\n",
    "* GSM6567163_PDAC5_barcodes.tsv.gz\n",
    "* GSM6567163_PDAC5_genes.tsv.gz\n",
    "* GSM6567163_PDAC5_matrix.mtx.gz\n",
    "* GSM6567164_PDAC6_barcodes.tsv.gz\n",
    "* GSM6567164_PDAC6_genes.tsv.gz\n",
    "* GSM6567164_PDAC6_matrix.mtx.gz\n",
    "* GSM6567165_ADJ1_barcodes.tsv.gz\n",
    "* GSM6567165_ADJ1_genes.tsv.gz\n",
    "* GSM6567165_ADJ1_matrix.mtx.gz\n",
    "* GSM6567166_ADJ2_barcodes.tsv.gz\n",
    "* GSM6567166_ADJ2_genes.tsv.gz\n",
    "* GSM6567166_ADJ2_matrix.mtx.gz\n",
    "* GSM6567167_ADJ3_barcodes.tsv.gz\n",
    "* GSM6567167_ADJ3_genes.tsv.gz\n",
    "* GSM6567167_ADJ3_matrix.mtx.gz\n",
    "* GSM6567169_ADJ4_barcodes.tsv.gz\n",
    "* GSM6567169_ADJ4_genes.tsv.gz\n",
    "* GSM6567169_ADJ4_matrix.mtx.gz\n",
    "* GSM6567170_ADJ5_barcodes.tsv.gz\n",
    "* GSM6567170_ADJ5_genes.tsv.gz\n",
    "* GSM6567170_ADJ5_matrix.mtx.gz\n",
    "* GSM6567171_ADJ6_barcodes.tsv.gz\n",
    "* GSM6567171_ADJ6_genes.tsv.gz\n",
    "* GSM6567171_ADJ6_matrix.mtx.gz\n",
    "\n",
    "Organised in to seperate folders with correct names\n",
    "\n",
    "This dataset contains 6 PDAC tumour samples and 6 adjacent normal samples"
   ]
  },
  {
   "cell_type": "code",
   "execution_count": 1,
   "metadata": {
    "vscode": {
     "languageId": "r"
    }
   },
   "outputs": [
    {
     "data": {
      "text/html": [
       "'/scratch/user/s4436039/Nikita-project'"
      ],
      "text/latex": [
       "'/scratch/user/s4436039/Nikita-project'"
      ],
      "text/markdown": [
       "'/scratch/user/s4436039/Nikita-project'"
      ],
      "text/plain": [
       "[1] \"/scratch/user/s4436039/Nikita-project\""
      ]
     },
     "metadata": {},
     "output_type": "display_data"
    },
    {
     "data": {
      "text/html": [
       "'/scratch/user/s4436039/scdata/GSE212966'"
      ],
      "text/latex": [
       "'/scratch/user/s4436039/scdata/GSE212966'"
      ],
      "text/markdown": [
       "'/scratch/user/s4436039/scdata/GSE212966'"
      ],
      "text/plain": [
       "[1] \"/scratch/user/s4436039/scdata/GSE212966\""
      ]
     },
     "metadata": {},
     "output_type": "display_data"
    }
   ],
   "source": [
    "#set wd\n",
    "getwd()\n",
    "setwd('/scratch/user/s4436039/scdata/GSE212966')\n",
    "getwd()"
   ]
  },
  {
   "cell_type": "code",
   "execution_count": 2,
   "metadata": {
    "vscode": {
     "languageId": "r"
    }
   },
   "outputs": [
    {
     "name": "stderr",
     "output_type": "stream",
     "text": [
      "\n",
      "Attaching package: ‘dplyr’\n",
      "\n",
      "\n",
      "The following objects are masked from ‘package:stats’:\n",
      "\n",
      "    filter, lag\n",
      "\n",
      "\n",
      "The following objects are masked from ‘package:base’:\n",
      "\n",
      "    intersect, setdiff, setequal, union\n",
      "\n",
      "\n",
      "Loading required package: SeuratObject\n",
      "\n",
      "Loading required package: sp\n",
      "\n",
      "\n",
      "Attaching package: ‘SeuratObject’\n",
      "\n",
      "\n",
      "The following object is masked from ‘package:base’:\n",
      "\n",
      "    intersect\n",
      "\n",
      "\n"
     ]
    }
   ],
   "source": [
    "#Load packages\n",
    "library(dplyr)\n",
    "library(Seurat)\n",
    "library(patchwork)"
   ]
  },
  {
   "cell_type": "code",
   "execution_count": 4,
   "metadata": {
    "vscode": {
     "languageId": "r"
    }
   },
   "outputs": [
    {
     "name": "stderr",
     "output_type": "stream",
     "text": [
      "Warning message:\n",
      "“readMM(): expected 5681133 entries but found only 452”\n",
      "Warning message:\n",
      "“readMM(): expected 10326987 entries but found only 451”\n",
      "Warning message in readLines(con = barcode.loc):\n",
      "“incomplete final line found on '/scratch/user/s4436039/scdata/GSE212966/ADJ4/barcodes.tsv.gz'”\n"
     ]
    },
    {
     "ename": "ERROR",
     "evalue": "Error in fixupDN.if.valid(value, x@Dim): length of Dimnames[[2]] (219) is not equal to Dim[2] (5799)\n",
     "output_type": "error",
     "traceback": [
      "Error in fixupDN.if.valid(value, x@Dim): length of Dimnames[[2]] (219) is not equal to Dim[2] (5799)\nTraceback:\n",
      "1. Read10X(data.dir = \"/scratch/user/s4436039/scdata/GSE212966/ADJ4\")",
      "2. `colnames<-`(x = `*tmp*`, value = cell.names)",
      "3. `dimnames<-`(`*tmp*`, value = dn)",
      "4. `dimnames<-`(`*tmp*`, value = dn)",
      "5. fixupDN.if.valid(value, x@Dim)",
      "6. stop(s, domain = NA)"
     ]
    }
   ],
   "source": [
    "#load all datasets\n",
    "PDAC1.data <- Read10X(data.dir = \"/scratch/user/s4436039/scdata/GSE212966/PDAC1\")\n",
    "PDAC2.data <- Read10X(data.dir = \"/scratch/user/s4436039/scdata/GSE212966/PDAC2\")\n",
    "PDAC3.data <- Read10X(data.dir = \"/scratch/user/s4436039/scdata/GSE212966/PDAC3\")\n",
    "PDAC4.data <- Read10X(data.dir = \"/scratch/user/s4436039/scdata/GSE212966/PDAC4\")\n",
    "PDAC5.data <- Read10X(data.dir = \"/scratch/user/s4436039/scdata/GSE212966/PDAC5\")\n",
    "PDAC6.data <- Read10X(data.dir = \"/scratch/user/s4436039/scdata/GSE212966/PDAC6\")\n",
    "ADJ1.data <- Read10X(data.dir = \"/scratch/user/s4436039/scdata/GSE212966/ADJ1\")\n",
    "ADJ2.data <- Read10X(data.dir = \"/scratch/user/s4436039/scdata/GSE212966/ADJ2\")\n",
    "ADJ3.data <- Read10X(data.dir = \"/scratch/user/s4436039/scdata/GSE212966/ADJ3\")\n",
    "ADJ4.data <- Read10X(data.dir = \"/scratch/user/s4436039/scdata/GSE212966/ADJ4\")\n",
    "ADJ5.data <- Read10X(data.dir = \"/scratch/user/s4436039/scdata/GSE212966/ADJ5\")\n",
    "ADJ6.data <- Read10X(data.dir = \"/scratch/user/s4436039/scdata/GSE212966/ADJ6\")"
   ]
  },
  {
   "cell_type": "markdown",
   "metadata": {},
   "source": [
    "#### something seems to be wrong with the data, have tried re-importing however it hasn't fixed the problem, will have to exclude this dataset"
   ]
  }
 ],
 "metadata": {
  "kernelspec": {
   "display_name": "R",
   "language": "R",
   "name": "ir"
  },
  "language_info": {
   "codemirror_mode": "r",
   "file_extension": ".r",
   "mimetype": "text/x-r-source",
   "name": "R",
   "pygments_lexer": "r",
   "version": "4.3.3"
  }
 },
 "nbformat": 4,
 "nbformat_minor": 2
}
