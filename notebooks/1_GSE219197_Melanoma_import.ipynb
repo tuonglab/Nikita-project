{
 "cells": [
  {
   "cell_type": "markdown",
   "metadata": {},
   "source": [
    "#### He et al 2023, GSE219197\n",
    "\n",
    "File exported: GSE219197_RAW.tar (TAR of H5), currently stored on RDM\n",
    "\n",
    "move from rdm to scratch (bash):\n",
    "\n",
    "```bash\n",
    "cd /scratch/user/s4436039/scdata/GSE219197\n",
    "\n",
    "rsync -azvhP /QRISdata/Q5935/nikita/scdata/GSE219197/GSE219197_RAW.tar /scratch/user/s4436039/scdata/GSE219197\n",
    "\n",
    "# to unpack the file\n",
    "tar -xvf /scratch/user/s4436039/scdata/GSE219197/GSE219197_RAW.tar\n",
    "```\n",
    "\n",
    "```bash\n",
    "# if the file you have is something.tar.gz\n",
    "# you would use: tar -xzvf something.tar.gz\n",
    "\n",
    "# if you want to compress, just change x with c\n",
    "# tar -czvf desired_filename.tar.gz folder_to_compress\n",
    "\n",
    "```\n",
    "\n",
    "The following import is based off the seurat tutorial "
   ]
  },
  {
   "cell_type": "code",
   "execution_count": 1,
   "metadata": {
    "vscode": {
     "languageId": "r"
    }
   },
   "outputs": [
    {
     "name": "stderr",
     "output_type": "stream",
     "text": [
      "Warning message:\n",
      "“package ‘Seurat’ was built under R version 4.3.2”\n",
      "Loading required package: SeuratObject\n",
      "\n",
      "Loading required package: sp\n",
      "\n",
      "Warning message:\n",
      "“package ‘sp’ was built under R version 4.3.2”\n"
     ]
    },
    {
     "name": "stderr",
     "output_type": "stream",
     "text": [
      "‘SeuratObject’ was built with package ‘Matrix’ 1.6.1.1 but the current\n",
      "version is 1.6.4; it is recomended that you reinstall ‘SeuratObject’ as\n",
      "the ABI for ‘Matrix’ may have changed\n",
      "\n",
      "\n",
      "Attaching package: ‘SeuratObject’\n",
      "\n",
      "\n",
      "The following object is masked from ‘package:base’:\n",
      "\n",
      "    intersect\n",
      "\n",
      "\n"
     ]
    }
   ],
   "source": [
    "library(Seurat)"
   ]
  },
  {
   "cell_type": "code",
   "execution_count": 2,
   "metadata": {
    "vscode": {
     "languageId": "r"
    }
   },
   "outputs": [
    {
     "name": "stderr",
     "output_type": "stream",
     "text": [
      "\n",
      "Attaching package: ‘dplyr’\n",
      "\n",
      "\n",
      "The following objects are masked from ‘package:stats’:\n",
      "\n",
      "    filter, lag\n",
      "\n",
      "\n",
      "The following objects are masked from ‘package:base’:\n",
      "\n",
      "    intersect, setdiff, setequal, union\n",
      "\n",
      "\n",
      "Warning message:\n",
      "“package ‘patchwork’ was built under R version 4.3.2”\n"
     ]
    }
   ],
   "source": [
    "library(dplyr)\n",
    "library(patchwork)"
   ]
  },
  {
   "cell_type": "code",
   "execution_count": null,
   "metadata": {
    "vscode": {
     "languageId": "r"
    }
   },
   "outputs": [],
   "source": [
    "#file currently in tar, need to unzip using archive browser extension in vscode"
   ]
  },
  {
   "cell_type": "code",
   "execution_count": 6,
   "metadata": {
    "vscode": {
     "languageId": "r"
    }
   },
   "outputs": [
    {
     "ename": "ERROR",
     "evalue": "Error in x$exists(name): HDF5-API Errors:\n    error #000: H5L.c in H5Lexists(): line 1207: unable to synchronously check link existence\n        class: HDF5\n        major: Links\n        minor: Can't get value\n\n    error #001: H5L.c in H5L__exists_api_common(): line 1180: unable to get link info\n        class: HDF5\n        major: Links\n        minor: Can't get value\n\n    error #002: H5VLcallback.c in H5VL_link_specific(): line 5517: unable to execute link specific callback\n        class: HDF5\n        major: Virtual Object Layer\n        minor: Can't operate on object\n\n    error #003: H5VLcallback.c in H5VL__link_specific(): line 5483: unable to execute link specific callback\n        class: HDF5\n        major: Virtual Object Layer\n        minor: Can't operate on object\n\n    error #004: H5VLnative_link.c in H5VL__native_link_specific(): line 343: unable to specific link info\n        class: HDF5\n        major: Links\n        minor: Object not found\n\n    error #005: H5Lint.c in H5L__exists(): line 1751: link doesn't \n",
     "output_type": "error",
     "traceback": [
      "Error in x$exists(name): HDF5-API Errors:\n    error #000: H5L.c in H5Lexists(): line 1207: unable to synchronously check link existence\n        class: HDF5\n        major: Links\n        minor: Can't get value\n\n    error #001: H5L.c in H5L__exists_api_common(): line 1180: unable to get link info\n        class: HDF5\n        major: Links\n        minor: Can't get value\n\n    error #002: H5VLcallback.c in H5VL_link_specific(): line 5517: unable to execute link specific callback\n        class: HDF5\n        major: Virtual Object Layer\n        minor: Can't operate on object\n\n    error #003: H5VLcallback.c in H5VL__link_specific(): line 5483: unable to execute link specific callback\n        class: HDF5\n        major: Virtual Object Layer\n        minor: Can't operate on object\n\n    error #004: H5VLnative_link.c in H5VL__native_link_specific(): line 343: unable to specific link info\n        class: HDF5\n        major: Links\n        minor: Object not found\n\n    error #005: H5Lint.c in H5L__exists(): line 1751: link doesn't \nTraceback:\n",
      "1. Read10X_h5(\"scdata/GSE219197/GSM6777428_Mel002-uLN.h5\")",
      "2. infile[[paste0(genome, \"/data\")]]",
      "3. `[[.H5File`(infile, paste0(genome, \"/data\"))",
      "4. x$exists(name)"
     ]
    }
   ],
   "source": [
    "#load in the data\n",
    "scdata <- Read10X_h5(\"scdata/GSE219197/GSM6777428_Mel002-uLN.h5\")\n",
    "scdata"
   ]
  },
  {
   "cell_type": "code",
   "execution_count": 7,
   "metadata": {
    "vscode": {
     "languageId": "r"
    }
   },
   "outputs": [
    {
     "name": "stderr",
     "output_type": "stream",
     "text": [
      "Warning message:\n",
      "“package ‘hdf5r’ was built under R version 4.3.2”\n"
     ]
    }
   ],
   "source": [
    "library(hdf5r)"
   ]
  },
  {
   "cell_type": "code",
   "execution_count": 8,
   "metadata": {
    "vscode": {
     "languageId": "r"
    }
   },
   "outputs": [
    {
     "ename": "ERROR",
     "evalue": "Error in H5File.open(filename, mode, file_create_pl, file_access_pl): HDF5-API Errors:\n    error #000: H5F.c in H5Fopen(): line 836: unable to synchronously open file\n        class: HDF5\n        major: File accessibility\n        minor: Unable to open file\n\n    error #001: H5F.c in H5F__open_api_common(): line 796: unable to open file\n        class: HDF5\n        major: File accessibility\n        minor: Unable to open file\n\n    error #002: H5VLcallback.c in H5VL_file_open(): line 3863: open failed\n        class: HDF5\n        major: Virtual Object Layer\n        minor: Can't open object\n\n    error #003: H5VLcallback.c in H5VL__file_open(): line 3675: open failed\n        class: HDF5\n        major: Virtual Object Layer\n        minor: Can't open object\n\n    error #004: H5VLnative_file.c in H5VL__native_file_open(): line 128: unable to open file\n        class: HDF5\n        major: File accessibility\n        minor: Unable to open file\n\n    error #005: H5Fint.c in H5F_open(): line 1874: file is already open for read-only\n        class: HDF5\n        major: File acc\n",
     "output_type": "error",
     "traceback": [
      "Error in H5File.open(filename, mode, file_create_pl, file_access_pl): HDF5-API Errors:\n    error #000: H5F.c in H5Fopen(): line 836: unable to synchronously open file\n        class: HDF5\n        major: File accessibility\n        minor: Unable to open file\n\n    error #001: H5F.c in H5F__open_api_common(): line 796: unable to open file\n        class: HDF5\n        major: File accessibility\n        minor: Unable to open file\n\n    error #002: H5VLcallback.c in H5VL_file_open(): line 3863: open failed\n        class: HDF5\n        major: Virtual Object Layer\n        minor: Can't open object\n\n    error #003: H5VLcallback.c in H5VL__file_open(): line 3675: open failed\n        class: HDF5\n        major: Virtual Object Layer\n        minor: Can't open object\n\n    error #004: H5VLnative_file.c in H5VL__native_file_open(): line 128: unable to open file\n        class: HDF5\n        major: File accessibility\n        minor: Unable to open file\n\n    error #005: H5Fint.c in H5F_open(): line 1874: file is already open for read-only\n        class: HDF5\n        major: File acc\nTraceback:\n",
      "1. H5File$new(\"scdata/GSE219197/GSM6777428_Mel002-uLN.h5\")",
      "2. initialize(...)",
      "3. H5File.open(filename, mode, file_create_pl, file_access_pl)"
     ]
    }
   ],
   "source": [
    "infile <- H5File$new(\"scdata/GSE219197/GSM6777428_Mel002-uLN.h5\")"
   ]
  },
  {
   "cell_type": "code",
   "execution_count": null,
   "metadata": {
    "vscode": {
     "languageId": "r"
    }
   },
   "outputs": [],
   "source": []
  }
 ],
 "metadata": {
  "kernelspec": {
   "display_name": "R",
   "language": "R",
   "name": "ir"
  },
  "language_info": {
   "codemirror_mode": "r",
   "file_extension": ".r",
   "mimetype": "text/x-r-source",
   "name": "R",
   "pygments_lexer": "r",
   "version": "4.3.1"
  }
 },
 "nbformat": 4,
 "nbformat_minor": 2
}
