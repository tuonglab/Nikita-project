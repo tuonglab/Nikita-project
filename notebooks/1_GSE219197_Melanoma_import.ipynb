{
 "cells": [
  {
   "cell_type": "markdown",
   "metadata": {},
   "source": [
    "#### He et al 2023, GSE219197\n",
    "\n",
    "File exported: GSE219197_RAW.tar (TAR of H5), currently stored on RDM\n",
    "\n",
    "move from rdm to scratch (bash):\n",
    "\n",
    "'cd /scratch/user/s4436039/scdata/GSE219197'\n",
    "\n",
    "'rsync -azvhP /QRISdata/Q5935/nikita/scdata/GSE219197/GSE219197_RAW.tar /scratch/user/s4436039/scdata/GSE219197'\n",
    "\n",
    "The following import is based off the seurat tutorial "
   ]
  },
  {
   "cell_type": "code",
   "execution_count": null,
   "metadata": {
    "vscode": {
     "languageId": "r"
    }
   },
   "outputs": [],
   "source": [
    "library(dplyr)\n",
    "library(Seurat)\n",
    "library(patchwork)"
   ]
  },
  {
   "cell_type": "code",
   "execution_count": null,
   "metadata": {
    "vscode": {
     "languageId": "r"
    }
   },
   "outputs": [],
   "source": [
    "#file currently in tar, need to unzip using archive browser extension in vscode"
   ]
  },
  {
   "cell_type": "code",
   "execution_count": null,
   "metadata": {
    "vscode": {
     "languageId": "r"
    }
   },
   "outputs": [],
   "source": [
    "#load in the data\n",
    "scdata <- Read10X_h5()"
   ]
  }
 ],
 "metadata": {
  "kernelspec": {
   "display_name": "R",
   "language": "R",
   "name": "ir"
  },
  "language_info": {
   "name": "R"
  }
 },
 "nbformat": 4,
 "nbformat_minor": 2
}
