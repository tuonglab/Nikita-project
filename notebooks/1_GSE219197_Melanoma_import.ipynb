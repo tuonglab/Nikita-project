{
 "cells": [
  {
   "cell_type": "markdown",
   "metadata": {},
   "source": [
    "#### He et al 2023, GSE219197\n",
    "\n",
    "File exported: GSE219197_RAW.tar (TAR of H5), currently stored on RDM\n",
    "\n",
    "move from rdm to scratch (bash):\n",
    "\n",
    "'cd /scratch/user/s4436039/scdata/GSE219197'\n",
    "\n",
    "'rsync -azvhP /QRISdata/Q5935/nikita/scdata/GSE219197/GSE219197_RAW.tar /scratch/user/s4436039/scdata/GSE219197'\n",
    "\n",
    "The following import is based off the seurat tutorial "
   ]
  },
  {
   "cell_type": "code",
   "execution_count": 3,
   "metadata": {
    "vscode": {
     "languageId": "r"
    }
   },
   "outputs": [
    {
     "name": "stderr",
     "output_type": "stream",
     "text": [
      "Installing 7 packages: RcppArmadillo, RcppEigen, igraph, sctransform, RSpectra, leiden, SeuratObject\n",
      "\n",
      "Warning message in i.p(...):\n",
      "“installation of package ‘RcppArmadillo’ had non-zero exit status”\n",
      "Warning message in i.p(...):\n",
      "“installation of package ‘RcppEigen’ had non-zero exit status”\n",
      "Warning message in i.p(...):\n",
      "“installation of package ‘igraph’ had non-zero exit status”\n",
      "Warning message in i.p(...):\n",
      "“installation of package ‘sctransform’ had non-zero exit status”\n",
      "Warning message in i.p(...):\n",
      "“installation of package ‘RSpectra’ had non-zero exit status”\n",
      "Warning message in i.p(...):\n",
      "“installation of package ‘leiden’ had non-zero exit status”\n",
      "Warning message in i.p(...):\n",
      "“installation of package ‘SeuratObject’ had non-zero exit status”\n",
      "Updating HTML index of packages in '.Library'\n",
      "\n",
      "Making 'packages.html' ...\n",
      " done\n",
      "\n",
      "Running `R CMD build`...\n",
      "\n"
     ]
    },
    {
     "name": "stdout",
     "output_type": "stream",
     "text": [
      "STDOUT:\n",
      "* checking for file ‘/tmp/Rtmpkb2M97/remotes19f99f6725d6f5/satijalab-seurat-a4075e7/DESCRIPTION’ ... OK\n",
      "* preparing ‘Seurat’:\n",
      "* checking DESCRIPTION meta-information ... OK\n",
      "* cleaning src\n",
      "* installing the package to process help pages\n",
      "      -----------------------------------\n",
      "ERROR: dependencies ‘SeuratObject’, ‘igraph’, ‘leiden’, ‘RSpectra’, ‘sctransform’, ‘RcppEigen’ are not available for package ‘Seurat’\n",
      "* removing ‘/tmp/RtmpaIbirb/Rinst1a007d434aba7b/Seurat’\n",
      "      -----------------------------------\n",
      "ERROR: package installation failed\n",
      "STDERR:\n",
      "\n"
     ]
    },
    {
     "ename": "ERROR",
     "evalue": "Error: Failed to install 'Seurat' from GitHub:\n  Failed to `R CMD build` package, try `build = FALSE`.\n",
     "output_type": "error",
     "traceback": [
      "Error: Failed to install 'Seurat' from GitHub:\n  Failed to `R CMD build` package, try `build = FALSE`.\nTraceback:\n",
      "1. remotes::install_github(\"satijalab/seurat\", \"seurat5\", quiet = TRUE)",
      "2. install_remotes(remotes, auth_token = auth_token, host = host, \n .     dependencies = dependencies, upgrade = upgrade, force = force, \n .     quiet = quiet, build = build, build_opts = build_opts, build_manual = build_manual, \n .     build_vignettes = build_vignettes, repos = repos, type = type, \n .     ...)",
      "3. tryCatch(res[[i]] <- install_remote(remotes[[i]], ...), error = function(e) {\n .     stop(remote_install_error(remotes[[i]], e))\n . })",
      "4. tryCatchList(expr, classes, parentenv, handlers)",
      "5. tryCatchOne(expr, names, parentenv, handlers[[1L]])",
      "6. value[[3L]](cond)"
     ]
    }
   ],
   "source": [
    "#installing packages\n",
    "\n",
    "remotes::install_github(\"satijalab/seurat\", \"seurat5\", quiet = TRUE)"
   ]
  },
  {
   "cell_type": "code",
   "execution_count": 4,
   "metadata": {
    "vscode": {
     "languageId": "r"
    }
   },
   "outputs": [
    {
     "ename": "ERROR",
     "evalue": "Error in library(seurat): there is no package called ‘seurat’\n",
     "output_type": "error",
     "traceback": [
      "Error in library(seurat): there is no package called ‘seurat’\nTraceback:\n",
      "1. library(seurat)"
     ]
    }
   ],
   "source": [
    "library(seurat)"
   ]
  },
  {
   "cell_type": "code",
   "execution_count": 1,
   "metadata": {
    "vscode": {
     "languageId": "r"
    }
   },
   "outputs": [
    {
     "name": "stderr",
     "output_type": "stream",
     "text": [
      "\n",
      "Attaching package: ‘dplyr’\n",
      "\n",
      "\n",
      "The following objects are masked from ‘package:stats’:\n",
      "\n",
      "    filter, lag\n",
      "\n",
      "\n",
      "The following objects are masked from ‘package:base’:\n",
      "\n",
      "    intersect, setdiff, setequal, union\n",
      "\n",
      "\n"
     ]
    },
    {
     "ename": "ERROR",
     "evalue": "Error in library(Seurat): there is no package called ‘Seurat’\n",
     "output_type": "error",
     "traceback": [
      "Error in library(Seurat): there is no package called ‘Seurat’\nTraceback:\n",
      "1. library(Seurat)"
     ]
    }
   ],
   "source": [
    "library(dplyr)\n",
    "library(Seurat)\n",
    "library(patchwork)"
   ]
  },
  {
   "cell_type": "code",
   "execution_count": null,
   "metadata": {
    "vscode": {
     "languageId": "r"
    }
   },
   "outputs": [],
   "source": [
    "#file currently in tar, need to unzip using archive browser extension in vscode"
   ]
  },
  {
   "cell_type": "code",
   "execution_count": null,
   "metadata": {
    "vscode": {
     "languageId": "r"
    }
   },
   "outputs": [],
   "source": [
    "#load in the data\n",
    "scdata <- Read10X_h5()"
   ]
  }
 ],
 "metadata": {
  "kernelspec": {
   "display_name": "R",
   "language": "R",
   "name": "ir"
  },
  "language_info": {
   "codemirror_mode": "r",
   "file_extension": ".r",
   "mimetype": "text/x-r-source",
   "name": "R",
   "pygments_lexer": "r",
   "version": "4.3.1"
  }
 },
 "nbformat": 4,
 "nbformat_minor": 2
}
