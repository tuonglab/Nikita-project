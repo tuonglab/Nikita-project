{
 "cells": [
  {
   "cell_type": "markdown",
   "metadata": {},
   "source": [
    "#### He et al 2023, GSE219197\n",
    "\n",
    "File exported: GSE219197_RAW.tar (TAR of H5), currently stored on RDM\n",
    "\n",
    "move from rdm to scratch (bash):\n",
    "\n",
    "'cd /scratch/user/s4436039/scdata/GSE219197'\n",
    "\n",
    "'rsync -azvhP /QRISdata/Q5935/nikita/scdata/GSE219197/GSE219197_RAW.tar /scratch/user/s4436039/scdata/GSE219197'\n",
    "\n",
    "The following import is based off the seurat tutorial "
   ]
  },
  {
   "cell_type": "code",
   "execution_count": 5,
   "metadata": {
    "vscode": {
     "languageId": "r"
    }
   },
   "outputs": [
    {
     "name": "stderr",
     "output_type": "stream",
     "text": [
      "also installing the dependencies ‘RcppArmadillo’, ‘SeuratObject’, ‘igraph’, ‘leiden’, ‘RSpectra’, ‘sctransform’, ‘RcppEigen’\n",
      "\n",
      "\n",
      "Warning message in install.packages(\"Seurat\"):\n",
      "“installation of package ‘RcppArmadillo’ had non-zero exit status”\n",
      "Warning message in install.packages(\"Seurat\"):\n",
      "“installation of package ‘igraph’ had non-zero exit status”\n",
      "Warning message in install.packages(\"Seurat\"):\n",
      "“installation of package ‘RcppEigen’ had non-zero exit status”\n",
      "Warning message in install.packages(\"Seurat\"):\n",
      "“installation of package ‘SeuratObject’ had non-zero exit status”\n",
      "Warning message in install.packages(\"Seurat\"):\n",
      "“installation of package ‘leiden’ had non-zero exit status”\n",
      "Warning message in install.packages(\"Seurat\"):\n",
      "“installation of package ‘RSpectra’ had non-zero exit status”\n",
      "Warning message in install.packages(\"Seurat\"):\n",
      "“installation of package ‘sctransform’ had non-zero exit status”\n",
      "Warning message in install.packages(\"Seurat\"):\n",
      "“installation of package ‘Seurat’ had non-zero exit status”\n",
      "Updating HTML index of packages in '.Library'\n",
      "\n",
      "Making 'packages.html' ...\n",
      " done\n",
      "\n"
     ]
    }
   ],
   "source": [
    "install.packages('Seurat')"
   ]
  },
  {
   "cell_type": "code",
   "execution_count": 9,
   "metadata": {
    "vscode": {
     "languageId": "r"
    }
   },
   "outputs": [
    {
     "name": "stderr",
     "output_type": "stream",
     "text": [
      "Warning message in install.packages(\"RcppArmadillo\"):\n",
      "“installation of package ‘RcppArmadillo’ had non-zero exit status”\n",
      "Updating HTML index of packages in '.Library'\n",
      "\n",
      "Making 'packages.html' ...\n",
      " done\n",
      "\n"
     ]
    }
   ],
   "source": [
    "install.packages(\"RcppArmadillo\")"
   ]
  },
  {
   "cell_type": "code",
   "execution_count": 10,
   "metadata": {
    "vscode": {
     "languageId": "r"
    }
   },
   "outputs": [
    {
     "name": "stderr",
     "output_type": "stream",
     "text": [
      "also installing the dependency ‘RcppEigen’\n",
      "\n",
      "\n",
      "Warning message in install.packages(\"SeuratObject\"):\n",
      "“installation of package ‘RcppEigen’ had non-zero exit status”\n",
      "Warning message in install.packages(\"SeuratObject\"):\n",
      "“installation of package ‘SeuratObject’ had non-zero exit status”\n",
      "Updating HTML index of packages in '.Library'\n",
      "\n",
      "Making 'packages.html' ...\n",
      " done\n",
      "\n"
     ]
    }
   ],
   "source": [
    "install.packages(\"SeuratObject\")"
   ]
  },
  {
   "cell_type": "code",
   "execution_count": 11,
   "metadata": {
    "vscode": {
     "languageId": "r"
    }
   },
   "outputs": [
    {
     "ename": "ERROR",
     "evalue": "Error in library(SeuratObject): there is no package called ‘SeuratObject’\n",
     "output_type": "error",
     "traceback": [
      "Error in library(SeuratObject): there is no package called ‘SeuratObject’\nTraceback:\n",
      "1. library(SeuratObject)"
     ]
    }
   ],
   "source": [
    "library(SeuratObject)"
   ]
  },
  {
   "cell_type": "code",
   "execution_count": 8,
   "metadata": {
    "vscode": {
     "languageId": "r"
    }
   },
   "outputs": [
    {
     "ename": "ERROR",
     "evalue": "Error in library(RcppArmadillo): there is no package called ‘RcppArmadillo’\n",
     "output_type": "error",
     "traceback": [
      "Error in library(RcppArmadillo): there is no package called ‘RcppArmadillo’\nTraceback:\n",
      "1. library(RcppArmadillo)"
     ]
    }
   ],
   "source": [
    "library(RcppArmadillo)"
   ]
  },
  {
   "cell_type": "code",
   "execution_count": 6,
   "metadata": {
    "vscode": {
     "languageId": "r"
    }
   },
   "outputs": [
    {
     "ename": "ERROR",
     "evalue": "Error in library(Seurat): there is no package called ‘Seurat’\n",
     "output_type": "error",
     "traceback": [
      "Error in library(Seurat): there is no package called ‘Seurat’\nTraceback:\n",
      "1. library(Seurat)"
     ]
    }
   ],
   "source": [
    "library(Seurat)"
   ]
  },
  {
   "cell_type": "code",
   "execution_count": 1,
   "metadata": {
    "vscode": {
     "languageId": "r"
    }
   },
   "outputs": [
    {
     "name": "stderr",
     "output_type": "stream",
     "text": [
      "\n",
      "Attaching package: ‘dplyr’\n",
      "\n",
      "\n",
      "The following objects are masked from ‘package:stats’:\n",
      "\n",
      "    filter, lag\n",
      "\n",
      "\n",
      "The following objects are masked from ‘package:base’:\n",
      "\n",
      "    intersect, setdiff, setequal, union\n",
      "\n",
      "\n"
     ]
    },
    {
     "ename": "ERROR",
     "evalue": "Error in library(Seurat): there is no package called ‘Seurat’\n",
     "output_type": "error",
     "traceback": [
      "Error in library(Seurat): there is no package called ‘Seurat’\nTraceback:\n",
      "1. library(Seurat)"
     ]
    }
   ],
   "source": [
    "library(dplyr)\n",
    "library(Seurat)\n",
    "library(patchwork)"
   ]
  },
  {
   "cell_type": "code",
   "execution_count": null,
   "metadata": {
    "vscode": {
     "languageId": "r"
    }
   },
   "outputs": [],
   "source": [
    "#file currently in tar, need to unzip using archive browser extension in vscode"
   ]
  },
  {
   "cell_type": "code",
   "execution_count": null,
   "metadata": {
    "vscode": {
     "languageId": "r"
    }
   },
   "outputs": [],
   "source": [
    "#load in the data\n",
    "scdata <- Read10X_h5()"
   ]
  }
 ],
 "metadata": {
  "kernelspec": {
   "display_name": "R",
   "language": "R",
   "name": "ir"
  },
  "language_info": {
   "codemirror_mode": "r",
   "file_extension": ".r",
   "mimetype": "text/x-r-source",
   "name": "R",
   "pygments_lexer": "r",
   "version": "4.3.1"
  }
 },
 "nbformat": 4,
 "nbformat_minor": 2
}
