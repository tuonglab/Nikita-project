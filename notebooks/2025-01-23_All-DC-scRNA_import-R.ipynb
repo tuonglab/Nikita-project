{
 "cells": [
  {
   "cell_type": "markdown",
   "metadata": {},
   "source": [
    "# importing scRNAseq data from in vitro derived DC2"
   ]
  },
  {
   "cell_type": "markdown",
   "metadata": {},
   "source": [
    "### I have 4 folders: \n",
    "\n",
    "* CB2-B7-B14-18-M1-FT7G-GEX.filtered_feature_bc_matrix\n",
    "* CB2-B7-B14-18-M1-FT7G15-GEX.filtered_feature_bc_matrix\n",
    "* CB2-B7-B14-18-OP9-FT7G-GEX.filtered_feature_bc_matrix\n",
    "* CB2-B7-B14-18-OP9-FT7G15-GEX.filtered_feature_bc_matrix\n",
    "\n",
    "### These folders represent the conditions: \n",
    "* AllDC cytokines on DL1 feeders\n",
    "* AllDC cytokines + IL-15 on DL1 feeders\n",
    "* AllDC cytokines on OP9 feeders\n",
    "* AllDC cytokines + IL-15 on OP9 feeders\n",
    "\n",
    "### First only interested in condition 1 and 3 (no IL-15)\n",
    "\n",
    "### Note: each condition was three donor cords pooled (multiplexed by hashing so can be deconvuluted)"
   ]
  },
  {
   "cell_type": "code",
   "execution_count": 2,
   "metadata": {
    "vscode": {
     "languageId": "r"
    }
   },
   "outputs": [
    {
     "data": {
      "text/html": [
       "'/scratch/user/s4436039/Nikita-project'"
      ],
      "text/latex": [
       "'/scratch/user/s4436039/Nikita-project'"
      ],
      "text/markdown": [
       "'/scratch/user/s4436039/Nikita-project'"
      ],
      "text/plain": [
       "[1] \"/scratch/user/s4436039/Nikita-project\""
      ]
     },
     "metadata": {},
     "output_type": "display_data"
    },
    {
     "data": {
      "text/html": [
       "'/scratch/user/s4436039/sc_AllDC/data'"
      ],
      "text/latex": [
       "'/scratch/user/s4436039/sc\\_AllDC/data'"
      ],
      "text/markdown": [
       "'/scratch/user/s4436039/sc_AllDC/data'"
      ],
      "text/plain": [
       "[1] \"/scratch/user/s4436039/sc_AllDC/data\""
      ]
     },
     "metadata": {},
     "output_type": "display_data"
    }
   ],
   "source": [
    "#set wd\n",
    "getwd()\n",
    "setwd('/scratch/user/s4436039/sc_AllDC/data')\n",
    "getwd()"
   ]
  },
  {
   "cell_type": "code",
   "execution_count": 3,
   "metadata": {
    "vscode": {
     "languageId": "r"
    }
   },
   "outputs": [
    {
     "name": "stderr",
     "output_type": "stream",
     "text": [
      "\n",
      "Attaching package: ‘dplyr’\n",
      "\n",
      "\n",
      "The following objects are masked from ‘package:stats’:\n",
      "\n",
      "    filter, lag\n",
      "\n",
      "\n",
      "The following objects are masked from ‘package:base’:\n",
      "\n",
      "    intersect, setdiff, setequal, union\n",
      "\n",
      "\n",
      "Loading required package: SeuratObject\n",
      "\n",
      "Loading required package: sp\n",
      "\n",
      "\n",
      "Attaching package: ‘SeuratObject’\n",
      "\n",
      "\n",
      "The following objects are masked from ‘package:base’:\n",
      "\n",
      "    intersect, t\n",
      "\n",
      "\n"
     ]
    }
   ],
   "source": [
    "#Load packages\n",
    "library(dplyr)\n",
    "library(Seurat)\n",
    "library(patchwork)"
   ]
  },
  {
   "cell_type": "code",
   "execution_count": 4,
   "metadata": {
    "vscode": {
     "languageId": "r"
    }
   },
   "outputs": [],
   "source": [
    "#load all datasets\n",
    "DL1.data <- Read10X(data.dir = \"/scratch/user/s4436039/sc_AllDC/data/CB2-B7-B14-18-M1-FT7G-GEX.filtered_feature_bc_matrix\")\n",
    "OP9.data <- Read10X(data.dir = \"/scratch/user/s4436039/sc_AllDC/data/CB2-B7-B14-18-OP9-FT7G-GEX.filtered_feature_bc_matrix\")"
   ]
  },
  {
   "cell_type": "code",
   "execution_count": 6,
   "metadata": {
    "vscode": {
     "languageId": "r"
    }
   },
   "outputs": [],
   "source": [
    "#Add dataset info to colnames\n",
    "colnames(DL1.data) <- paste0(\"AllDC_DL1_\", colnames(DL1.data))\n",
    "colnames(OP9.data) <- paste0(\"AllDC_OP9_\", colnames(OP9.data))"
   ]
  },
  {
   "cell_type": "code",
   "execution_count": 7,
   "metadata": {
    "vscode": {
     "languageId": "r"
    }
   },
   "outputs": [
    {
     "data": {
      "text/html": [
       "<style>\n",
       ".list-inline {list-style: none; margin:0; padding: 0}\n",
       ".list-inline>li {display: inline-block}\n",
       ".list-inline>li:not(:last-child)::after {content: \"\\00b7\"; padding: 0 .5ex}\n",
       "</style>\n",
       "<ol class=list-inline><li>'AllDC_DL1_AAACCCAAGAAATGGG-1'</li><li>'AllDC_DL1_AAACCCAAGATTGAGT-1'</li><li>'AllDC_DL1_AAACCCAAGCGAGGAG-1'</li><li>'AllDC_DL1_AAACCCAAGCTAATCC-1'</li><li>'AllDC_DL1_AAACCCAAGCTGACTT-1'</li><li>'AllDC_DL1_AAACCCAAGTATGGCG-1'</li></ol>\n"
      ],
      "text/latex": [
       "\\begin{enumerate*}\n",
       "\\item 'AllDC\\_DL1\\_AAACCCAAGAAATGGG-1'\n",
       "\\item 'AllDC\\_DL1\\_AAACCCAAGATTGAGT-1'\n",
       "\\item 'AllDC\\_DL1\\_AAACCCAAGCGAGGAG-1'\n",
       "\\item 'AllDC\\_DL1\\_AAACCCAAGCTAATCC-1'\n",
       "\\item 'AllDC\\_DL1\\_AAACCCAAGCTGACTT-1'\n",
       "\\item 'AllDC\\_DL1\\_AAACCCAAGTATGGCG-1'\n",
       "\\end{enumerate*}\n"
      ],
      "text/markdown": [
       "1. 'AllDC_DL1_AAACCCAAGAAATGGG-1'\n",
       "2. 'AllDC_DL1_AAACCCAAGATTGAGT-1'\n",
       "3. 'AllDC_DL1_AAACCCAAGCGAGGAG-1'\n",
       "4. 'AllDC_DL1_AAACCCAAGCTAATCC-1'\n",
       "5. 'AllDC_DL1_AAACCCAAGCTGACTT-1'\n",
       "6. 'AllDC_DL1_AAACCCAAGTATGGCG-1'\n",
       "\n",
       "\n"
      ],
      "text/plain": [
       "[1] \"AllDC_DL1_AAACCCAAGAAATGGG-1\" \"AllDC_DL1_AAACCCAAGATTGAGT-1\"\n",
       "[3] \"AllDC_DL1_AAACCCAAGCGAGGAG-1\" \"AllDC_DL1_AAACCCAAGCTAATCC-1\"\n",
       "[5] \"AllDC_DL1_AAACCCAAGCTGACTT-1\" \"AllDC_DL1_AAACCCAAGTATGGCG-1\""
      ]
     },
     "metadata": {},
     "output_type": "display_data"
    },
    {
     "data": {
      "text/html": [
       "<style>\n",
       ".list-inline {list-style: none; margin:0; padding: 0}\n",
       ".list-inline>li {display: inline-block}\n",
       ".list-inline>li:not(:last-child)::after {content: \"\\00b7\"; padding: 0 .5ex}\n",
       "</style>\n",
       "<ol class=list-inline><li>'AllDC_OP9_AAACCCAAGAGAGTTT-1'</li><li>'AllDC_OP9_AAACCCAAGATTACCC-1'</li><li>'AllDC_OP9_AAACCCAAGCAGTCTT-1'</li><li>'AllDC_OP9_AAACCCAAGCGTTCCG-1'</li><li>'AllDC_OP9_AAACCCAAGTCGAAGC-1'</li><li>'AllDC_OP9_AAACCCAAGTGCACAG-1'</li></ol>\n"
      ],
      "text/latex": [
       "\\begin{enumerate*}\n",
       "\\item 'AllDC\\_OP9\\_AAACCCAAGAGAGTTT-1'\n",
       "\\item 'AllDC\\_OP9\\_AAACCCAAGATTACCC-1'\n",
       "\\item 'AllDC\\_OP9\\_AAACCCAAGCAGTCTT-1'\n",
       "\\item 'AllDC\\_OP9\\_AAACCCAAGCGTTCCG-1'\n",
       "\\item 'AllDC\\_OP9\\_AAACCCAAGTCGAAGC-1'\n",
       "\\item 'AllDC\\_OP9\\_AAACCCAAGTGCACAG-1'\n",
       "\\end{enumerate*}\n"
      ],
      "text/markdown": [
       "1. 'AllDC_OP9_AAACCCAAGAGAGTTT-1'\n",
       "2. 'AllDC_OP9_AAACCCAAGATTACCC-1'\n",
       "3. 'AllDC_OP9_AAACCCAAGCAGTCTT-1'\n",
       "4. 'AllDC_OP9_AAACCCAAGCGTTCCG-1'\n",
       "5. 'AllDC_OP9_AAACCCAAGTCGAAGC-1'\n",
       "6. 'AllDC_OP9_AAACCCAAGTGCACAG-1'\n",
       "\n",
       "\n"
      ],
      "text/plain": [
       "[1] \"AllDC_OP9_AAACCCAAGAGAGTTT-1\" \"AllDC_OP9_AAACCCAAGATTACCC-1\"\n",
       "[3] \"AllDC_OP9_AAACCCAAGCAGTCTT-1\" \"AllDC_OP9_AAACCCAAGCGTTCCG-1\"\n",
       "[5] \"AllDC_OP9_AAACCCAAGTCGAAGC-1\" \"AllDC_OP9_AAACCCAAGTGCACAG-1\""
      ]
     },
     "metadata": {},
     "output_type": "display_data"
    }
   ],
   "source": [
    "head(colnames(DL1.data))\n",
    "head(colnames(OP9.data))"
   ]
  },
  {
   "cell_type": "code",
   "execution_count": 8,
   "metadata": {
    "vscode": {
     "languageId": "r"
    }
   },
   "outputs": [],
   "source": [
    "#create seperate seurat object for each sample\n",
    "DL1 <- CreateSeuratObject(counts = DL1.data, project = \"AllDC_DL1\", min.features = 200)\n",
    "#add metadata to sample\n",
    "DL1@meta.data$culture_type <- \"AllDC DL1\"\n",
    "\n",
    "#create seperate seurat object for each sample\n",
    "OP9 <- CreateSeuratObject(counts = OP9.data, project = \"AllDC_OP9\", min.features = 200)\n",
    "#add metadata to sample\n",
    "OP9@meta.data$culture_type <- \"AllDC OP9\""
   ]
  },
  {
   "cell_type": "code",
   "execution_count": 9,
   "metadata": {
    "vscode": {
     "languageId": "r"
    }
   },
   "outputs": [
    {
     "data": {
      "text/html": [
       "<table class=\"dataframe\">\n",
       "<caption>A data.frame: 6 × 4</caption>\n",
       "<thead>\n",
       "\t<tr><th></th><th scope=col>orig.ident</th><th scope=col>nCount_RNA</th><th scope=col>nFeature_RNA</th><th scope=col>culture_type</th></tr>\n",
       "\t<tr><th></th><th scope=col>&lt;fct&gt;</th><th scope=col>&lt;dbl&gt;</th><th scope=col>&lt;int&gt;</th><th scope=col>&lt;chr&gt;</th></tr>\n",
       "</thead>\n",
       "<tbody>\n",
       "\t<tr><th scope=row>AllDC_DL1_AAACCCAAGAAATGGG-1</th><td>AllDC</td><td> 4643</td><td>1871</td><td>AllDC DL1</td></tr>\n",
       "\t<tr><th scope=row>AllDC_DL1_AAACCCAAGATTGAGT-1</th><td>AllDC</td><td> 2458</td><td>1122</td><td>AllDC DL1</td></tr>\n",
       "\t<tr><th scope=row>AllDC_DL1_AAACCCAAGCGAGGAG-1</th><td>AllDC</td><td> 9698</td><td>3014</td><td>AllDC DL1</td></tr>\n",
       "\t<tr><th scope=row>AllDC_DL1_AAACCCAAGCTAATCC-1</th><td>AllDC</td><td>25688</td><td>4973</td><td>AllDC DL1</td></tr>\n",
       "\t<tr><th scope=row>AllDC_DL1_AAACCCAAGCTGACTT-1</th><td>AllDC</td><td> 2125</td><td> 972</td><td>AllDC DL1</td></tr>\n",
       "\t<tr><th scope=row>AllDC_DL1_AAACCCAAGTATGGCG-1</th><td>AllDC</td><td> 8639</td><td>2956</td><td>AllDC DL1</td></tr>\n",
       "</tbody>\n",
       "</table>\n"
      ],
      "text/latex": [
       "A data.frame: 6 × 4\n",
       "\\begin{tabular}{r|llll}\n",
       "  & orig.ident & nCount\\_RNA & nFeature\\_RNA & culture\\_type\\\\\n",
       "  & <fct> & <dbl> & <int> & <chr>\\\\\n",
       "\\hline\n",
       "\tAllDC\\_DL1\\_AAACCCAAGAAATGGG-1 & AllDC &  4643 & 1871 & AllDC DL1\\\\\n",
       "\tAllDC\\_DL1\\_AAACCCAAGATTGAGT-1 & AllDC &  2458 & 1122 & AllDC DL1\\\\\n",
       "\tAllDC\\_DL1\\_AAACCCAAGCGAGGAG-1 & AllDC &  9698 & 3014 & AllDC DL1\\\\\n",
       "\tAllDC\\_DL1\\_AAACCCAAGCTAATCC-1 & AllDC & 25688 & 4973 & AllDC DL1\\\\\n",
       "\tAllDC\\_DL1\\_AAACCCAAGCTGACTT-1 & AllDC &  2125 &  972 & AllDC DL1\\\\\n",
       "\tAllDC\\_DL1\\_AAACCCAAGTATGGCG-1 & AllDC &  8639 & 2956 & AllDC DL1\\\\\n",
       "\\end{tabular}\n"
      ],
      "text/markdown": [
       "\n",
       "A data.frame: 6 × 4\n",
       "\n",
       "| <!--/--> | orig.ident &lt;fct&gt; | nCount_RNA &lt;dbl&gt; | nFeature_RNA &lt;int&gt; | culture_type &lt;chr&gt; |\n",
       "|---|---|---|---|---|\n",
       "| AllDC_DL1_AAACCCAAGAAATGGG-1 | AllDC |  4643 | 1871 | AllDC DL1 |\n",
       "| AllDC_DL1_AAACCCAAGATTGAGT-1 | AllDC |  2458 | 1122 | AllDC DL1 |\n",
       "| AllDC_DL1_AAACCCAAGCGAGGAG-1 | AllDC |  9698 | 3014 | AllDC DL1 |\n",
       "| AllDC_DL1_AAACCCAAGCTAATCC-1 | AllDC | 25688 | 4973 | AllDC DL1 |\n",
       "| AllDC_DL1_AAACCCAAGCTGACTT-1 | AllDC |  2125 |  972 | AllDC DL1 |\n",
       "| AllDC_DL1_AAACCCAAGTATGGCG-1 | AllDC |  8639 | 2956 | AllDC DL1 |\n",
       "\n"
      ],
      "text/plain": [
       "                             orig.ident nCount_RNA nFeature_RNA culture_type\n",
       "AllDC_DL1_AAACCCAAGAAATGGG-1 AllDC       4643      1871         AllDC DL1   \n",
       "AllDC_DL1_AAACCCAAGATTGAGT-1 AllDC       2458      1122         AllDC DL1   \n",
       "AllDC_DL1_AAACCCAAGCGAGGAG-1 AllDC       9698      3014         AllDC DL1   \n",
       "AllDC_DL1_AAACCCAAGCTAATCC-1 AllDC      25688      4973         AllDC DL1   \n",
       "AllDC_DL1_AAACCCAAGCTGACTT-1 AllDC       2125       972         AllDC DL1   \n",
       "AllDC_DL1_AAACCCAAGTATGGCG-1 AllDC       8639      2956         AllDC DL1   "
      ]
     },
     "metadata": {},
     "output_type": "display_data"
    },
    {
     "data": {
      "text/html": [
       "<table class=\"dataframe\">\n",
       "<caption>A data.frame: 6 × 4</caption>\n",
       "<thead>\n",
       "\t<tr><th></th><th scope=col>orig.ident</th><th scope=col>nCount_RNA</th><th scope=col>nFeature_RNA</th><th scope=col>culture_type</th></tr>\n",
       "\t<tr><th></th><th scope=col>&lt;fct&gt;</th><th scope=col>&lt;dbl&gt;</th><th scope=col>&lt;int&gt;</th><th scope=col>&lt;chr&gt;</th></tr>\n",
       "</thead>\n",
       "<tbody>\n",
       "\t<tr><th scope=row>AllDC_OP9_AAACCCAAGAGAGTTT-1</th><td>AllDC</td><td> 8321</td><td>2472</td><td>AllDC OP9</td></tr>\n",
       "\t<tr><th scope=row>AllDC_OP9_AAACCCAAGATTACCC-1</th><td>AllDC</td><td> 8258</td><td>2271</td><td>AllDC OP9</td></tr>\n",
       "\t<tr><th scope=row>AllDC_OP9_AAACCCAAGCAGTCTT-1</th><td>AllDC</td><td> 2276</td><td>1142</td><td>AllDC OP9</td></tr>\n",
       "\t<tr><th scope=row>AllDC_OP9_AAACCCAAGCGTTCCG-1</th><td>AllDC</td><td>26035</td><td>5249</td><td>AllDC OP9</td></tr>\n",
       "\t<tr><th scope=row>AllDC_OP9_AAACCCAAGTCGAAGC-1</th><td>AllDC</td><td>11427</td><td>3275</td><td>AllDC OP9</td></tr>\n",
       "\t<tr><th scope=row>AllDC_OP9_AAACCCAAGTGCACAG-1</th><td>AllDC</td><td> 7002</td><td>2424</td><td>AllDC OP9</td></tr>\n",
       "</tbody>\n",
       "</table>\n"
      ],
      "text/latex": [
       "A data.frame: 6 × 4\n",
       "\\begin{tabular}{r|llll}\n",
       "  & orig.ident & nCount\\_RNA & nFeature\\_RNA & culture\\_type\\\\\n",
       "  & <fct> & <dbl> & <int> & <chr>\\\\\n",
       "\\hline\n",
       "\tAllDC\\_OP9\\_AAACCCAAGAGAGTTT-1 & AllDC &  8321 & 2472 & AllDC OP9\\\\\n",
       "\tAllDC\\_OP9\\_AAACCCAAGATTACCC-1 & AllDC &  8258 & 2271 & AllDC OP9\\\\\n",
       "\tAllDC\\_OP9\\_AAACCCAAGCAGTCTT-1 & AllDC &  2276 & 1142 & AllDC OP9\\\\\n",
       "\tAllDC\\_OP9\\_AAACCCAAGCGTTCCG-1 & AllDC & 26035 & 5249 & AllDC OP9\\\\\n",
       "\tAllDC\\_OP9\\_AAACCCAAGTCGAAGC-1 & AllDC & 11427 & 3275 & AllDC OP9\\\\\n",
       "\tAllDC\\_OP9\\_AAACCCAAGTGCACAG-1 & AllDC &  7002 & 2424 & AllDC OP9\\\\\n",
       "\\end{tabular}\n"
      ],
      "text/markdown": [
       "\n",
       "A data.frame: 6 × 4\n",
       "\n",
       "| <!--/--> | orig.ident &lt;fct&gt; | nCount_RNA &lt;dbl&gt; | nFeature_RNA &lt;int&gt; | culture_type &lt;chr&gt; |\n",
       "|---|---|---|---|---|\n",
       "| AllDC_OP9_AAACCCAAGAGAGTTT-1 | AllDC |  8321 | 2472 | AllDC OP9 |\n",
       "| AllDC_OP9_AAACCCAAGATTACCC-1 | AllDC |  8258 | 2271 | AllDC OP9 |\n",
       "| AllDC_OP9_AAACCCAAGCAGTCTT-1 | AllDC |  2276 | 1142 | AllDC OP9 |\n",
       "| AllDC_OP9_AAACCCAAGCGTTCCG-1 | AllDC | 26035 | 5249 | AllDC OP9 |\n",
       "| AllDC_OP9_AAACCCAAGTCGAAGC-1 | AllDC | 11427 | 3275 | AllDC OP9 |\n",
       "| AllDC_OP9_AAACCCAAGTGCACAG-1 | AllDC |  7002 | 2424 | AllDC OP9 |\n",
       "\n"
      ],
      "text/plain": [
       "                             orig.ident nCount_RNA nFeature_RNA culture_type\n",
       "AllDC_OP9_AAACCCAAGAGAGTTT-1 AllDC       8321      2472         AllDC OP9   \n",
       "AllDC_OP9_AAACCCAAGATTACCC-1 AllDC       8258      2271         AllDC OP9   \n",
       "AllDC_OP9_AAACCCAAGCAGTCTT-1 AllDC       2276      1142         AllDC OP9   \n",
       "AllDC_OP9_AAACCCAAGCGTTCCG-1 AllDC      26035      5249         AllDC OP9   \n",
       "AllDC_OP9_AAACCCAAGTCGAAGC-1 AllDC      11427      3275         AllDC OP9   \n",
       "AllDC_OP9_AAACCCAAGTGCACAG-1 AllDC       7002      2424         AllDC OP9   "
      ]
     },
     "metadata": {},
     "output_type": "display_data"
    }
   ],
   "source": [
    "head(DL1@meta.data)\n",
    "head(OP9@meta.data)"
   ]
  },
  {
   "cell_type": "code",
   "execution_count": 10,
   "metadata": {
    "vscode": {
     "languageId": "r"
    }
   },
   "outputs": [],
   "source": [
    "#Merge seurat objects\n",
    "\n",
    "AllDC <- merge(DL1, y = c(OP9), project = \"AllDC\")"
   ]
  },
  {
   "cell_type": "code",
   "execution_count": 11,
   "metadata": {
    "vscode": {
     "languageId": "r"
    }
   },
   "outputs": [
    {
     "data": {
      "text/plain": [
       "An object of class Seurat \n",
       "36601 features across 81526 samples within 1 assay \n",
       "Active assay: RNA (36601 features, 0 variable features)\n",
       " 2 layers present: counts.AllDC_DL1, counts.AllDC_OP9"
      ]
     },
     "metadata": {},
     "output_type": "display_data"
    },
    {
     "data": {
      "text/html": [
       "<table class=\"dataframe\">\n",
       "<caption>A data.frame: 6 × 4</caption>\n",
       "<thead>\n",
       "\t<tr><th></th><th scope=col>orig.ident</th><th scope=col>nCount_RNA</th><th scope=col>nFeature_RNA</th><th scope=col>culture_type</th></tr>\n",
       "\t<tr><th></th><th scope=col>&lt;chr&gt;</th><th scope=col>&lt;dbl&gt;</th><th scope=col>&lt;int&gt;</th><th scope=col>&lt;chr&gt;</th></tr>\n",
       "</thead>\n",
       "<tbody>\n",
       "\t<tr><th scope=row>AllDC_DL1_AAACCCAAGAAATGGG-1</th><td>AllDC</td><td> 4643</td><td>1871</td><td>AllDC DL1</td></tr>\n",
       "\t<tr><th scope=row>AllDC_DL1_AAACCCAAGATTGAGT-1</th><td>AllDC</td><td> 2458</td><td>1122</td><td>AllDC DL1</td></tr>\n",
       "\t<tr><th scope=row>AllDC_DL1_AAACCCAAGCGAGGAG-1</th><td>AllDC</td><td> 9698</td><td>3014</td><td>AllDC DL1</td></tr>\n",
       "\t<tr><th scope=row>AllDC_DL1_AAACCCAAGCTAATCC-1</th><td>AllDC</td><td>25688</td><td>4973</td><td>AllDC DL1</td></tr>\n",
       "\t<tr><th scope=row>AllDC_DL1_AAACCCAAGCTGACTT-1</th><td>AllDC</td><td> 2125</td><td> 972</td><td>AllDC DL1</td></tr>\n",
       "\t<tr><th scope=row>AllDC_DL1_AAACCCAAGTATGGCG-1</th><td>AllDC</td><td> 8639</td><td>2956</td><td>AllDC DL1</td></tr>\n",
       "</tbody>\n",
       "</table>\n"
      ],
      "text/latex": [
       "A data.frame: 6 × 4\n",
       "\\begin{tabular}{r|llll}\n",
       "  & orig.ident & nCount\\_RNA & nFeature\\_RNA & culture\\_type\\\\\n",
       "  & <chr> & <dbl> & <int> & <chr>\\\\\n",
       "\\hline\n",
       "\tAllDC\\_DL1\\_AAACCCAAGAAATGGG-1 & AllDC &  4643 & 1871 & AllDC DL1\\\\\n",
       "\tAllDC\\_DL1\\_AAACCCAAGATTGAGT-1 & AllDC &  2458 & 1122 & AllDC DL1\\\\\n",
       "\tAllDC\\_DL1\\_AAACCCAAGCGAGGAG-1 & AllDC &  9698 & 3014 & AllDC DL1\\\\\n",
       "\tAllDC\\_DL1\\_AAACCCAAGCTAATCC-1 & AllDC & 25688 & 4973 & AllDC DL1\\\\\n",
       "\tAllDC\\_DL1\\_AAACCCAAGCTGACTT-1 & AllDC &  2125 &  972 & AllDC DL1\\\\\n",
       "\tAllDC\\_DL1\\_AAACCCAAGTATGGCG-1 & AllDC &  8639 & 2956 & AllDC DL1\\\\\n",
       "\\end{tabular}\n"
      ],
      "text/markdown": [
       "\n",
       "A data.frame: 6 × 4\n",
       "\n",
       "| <!--/--> | orig.ident &lt;chr&gt; | nCount_RNA &lt;dbl&gt; | nFeature_RNA &lt;int&gt; | culture_type &lt;chr&gt; |\n",
       "|---|---|---|---|---|\n",
       "| AllDC_DL1_AAACCCAAGAAATGGG-1 | AllDC |  4643 | 1871 | AllDC DL1 |\n",
       "| AllDC_DL1_AAACCCAAGATTGAGT-1 | AllDC |  2458 | 1122 | AllDC DL1 |\n",
       "| AllDC_DL1_AAACCCAAGCGAGGAG-1 | AllDC |  9698 | 3014 | AllDC DL1 |\n",
       "| AllDC_DL1_AAACCCAAGCTAATCC-1 | AllDC | 25688 | 4973 | AllDC DL1 |\n",
       "| AllDC_DL1_AAACCCAAGCTGACTT-1 | AllDC |  2125 |  972 | AllDC DL1 |\n",
       "| AllDC_DL1_AAACCCAAGTATGGCG-1 | AllDC |  8639 | 2956 | AllDC DL1 |\n",
       "\n"
      ],
      "text/plain": [
       "                             orig.ident nCount_RNA nFeature_RNA culture_type\n",
       "AllDC_DL1_AAACCCAAGAAATGGG-1 AllDC       4643      1871         AllDC DL1   \n",
       "AllDC_DL1_AAACCCAAGATTGAGT-1 AllDC       2458      1122         AllDC DL1   \n",
       "AllDC_DL1_AAACCCAAGCGAGGAG-1 AllDC       9698      3014         AllDC DL1   \n",
       "AllDC_DL1_AAACCCAAGCTAATCC-1 AllDC      25688      4973         AllDC DL1   \n",
       "AllDC_DL1_AAACCCAAGCTGACTT-1 AllDC       2125       972         AllDC DL1   \n",
       "AllDC_DL1_AAACCCAAGTATGGCG-1 AllDC       8639      2956         AllDC DL1   "
      ]
     },
     "metadata": {},
     "output_type": "display_data"
    },
    {
     "data": {
      "text/html": [
       "<table class=\"dataframe\">\n",
       "<caption>A data.frame: 6 × 4</caption>\n",
       "<thead>\n",
       "\t<tr><th></th><th scope=col>orig.ident</th><th scope=col>nCount_RNA</th><th scope=col>nFeature_RNA</th><th scope=col>culture_type</th></tr>\n",
       "\t<tr><th></th><th scope=col>&lt;chr&gt;</th><th scope=col>&lt;dbl&gt;</th><th scope=col>&lt;int&gt;</th><th scope=col>&lt;chr&gt;</th></tr>\n",
       "</thead>\n",
       "<tbody>\n",
       "\t<tr><th scope=row>AllDC_OP9_TTTGTTGTCCAATCCC-1</th><td>AllDC</td><td>12143</td><td>3074</td><td>AllDC OP9</td></tr>\n",
       "\t<tr><th scope=row>AllDC_OP9_TTTGTTGTCCACGTCT-1</th><td>AllDC</td><td>15457</td><td>3573</td><td>AllDC OP9</td></tr>\n",
       "\t<tr><th scope=row>AllDC_OP9_TTTGTTGTCCATACTT-1</th><td>AllDC</td><td> 3965</td><td>1527</td><td>AllDC OP9</td></tr>\n",
       "\t<tr><th scope=row>AllDC_OP9_TTTGTTGTCGCACGAC-1</th><td>AllDC</td><td> 7444</td><td>2237</td><td>AllDC OP9</td></tr>\n",
       "\t<tr><th scope=row>AllDC_OP9_TTTGTTGTCGGTAAGG-1</th><td>AllDC</td><td> 1841</td><td> 988</td><td>AllDC OP9</td></tr>\n",
       "\t<tr><th scope=row>AllDC_OP9_TTTGTTGTCTCTCAAT-1</th><td>AllDC</td><td> 7144</td><td>2463</td><td>AllDC OP9</td></tr>\n",
       "</tbody>\n",
       "</table>\n"
      ],
      "text/latex": [
       "A data.frame: 6 × 4\n",
       "\\begin{tabular}{r|llll}\n",
       "  & orig.ident & nCount\\_RNA & nFeature\\_RNA & culture\\_type\\\\\n",
       "  & <chr> & <dbl> & <int> & <chr>\\\\\n",
       "\\hline\n",
       "\tAllDC\\_OP9\\_TTTGTTGTCCAATCCC-1 & AllDC & 12143 & 3074 & AllDC OP9\\\\\n",
       "\tAllDC\\_OP9\\_TTTGTTGTCCACGTCT-1 & AllDC & 15457 & 3573 & AllDC OP9\\\\\n",
       "\tAllDC\\_OP9\\_TTTGTTGTCCATACTT-1 & AllDC &  3965 & 1527 & AllDC OP9\\\\\n",
       "\tAllDC\\_OP9\\_TTTGTTGTCGCACGAC-1 & AllDC &  7444 & 2237 & AllDC OP9\\\\\n",
       "\tAllDC\\_OP9\\_TTTGTTGTCGGTAAGG-1 & AllDC &  1841 &  988 & AllDC OP9\\\\\n",
       "\tAllDC\\_OP9\\_TTTGTTGTCTCTCAAT-1 & AllDC &  7144 & 2463 & AllDC OP9\\\\\n",
       "\\end{tabular}\n"
      ],
      "text/markdown": [
       "\n",
       "A data.frame: 6 × 4\n",
       "\n",
       "| <!--/--> | orig.ident &lt;chr&gt; | nCount_RNA &lt;dbl&gt; | nFeature_RNA &lt;int&gt; | culture_type &lt;chr&gt; |\n",
       "|---|---|---|---|---|\n",
       "| AllDC_OP9_TTTGTTGTCCAATCCC-1 | AllDC | 12143 | 3074 | AllDC OP9 |\n",
       "| AllDC_OP9_TTTGTTGTCCACGTCT-1 | AllDC | 15457 | 3573 | AllDC OP9 |\n",
       "| AllDC_OP9_TTTGTTGTCCATACTT-1 | AllDC |  3965 | 1527 | AllDC OP9 |\n",
       "| AllDC_OP9_TTTGTTGTCGCACGAC-1 | AllDC |  7444 | 2237 | AllDC OP9 |\n",
       "| AllDC_OP9_TTTGTTGTCGGTAAGG-1 | AllDC |  1841 |  988 | AllDC OP9 |\n",
       "| AllDC_OP9_TTTGTTGTCTCTCAAT-1 | AllDC |  7144 | 2463 | AllDC OP9 |\n",
       "\n"
      ],
      "text/plain": [
       "                             orig.ident nCount_RNA nFeature_RNA culture_type\n",
       "AllDC_OP9_TTTGTTGTCCAATCCC-1 AllDC      12143      3074         AllDC OP9   \n",
       "AllDC_OP9_TTTGTTGTCCACGTCT-1 AllDC      15457      3573         AllDC OP9   \n",
       "AllDC_OP9_TTTGTTGTCCATACTT-1 AllDC       3965      1527         AllDC OP9   \n",
       "AllDC_OP9_TTTGTTGTCGCACGAC-1 AllDC       7444      2237         AllDC OP9   \n",
       "AllDC_OP9_TTTGTTGTCGGTAAGG-1 AllDC       1841       988         AllDC OP9   \n",
       "AllDC_OP9_TTTGTTGTCTCTCAAT-1 AllDC       7144      2463         AllDC OP9   "
      ]
     },
     "metadata": {},
     "output_type": "display_data"
    }
   ],
   "source": [
    "AllDC\n",
    "head(AllDC@meta.data)\n",
    "tail(AllDC@meta.data)"
   ]
  },
  {
   "cell_type": "code",
   "execution_count": 12,
   "metadata": {
    "vscode": {
     "languageId": "r"
    }
   },
   "outputs": [],
   "source": [
    "#Save the object at this point so it can be loaded in without running steps above\n",
    "saveRDS(AllDC, file = \"/scratch/user/s4436039/sc_AllDC/AllDC.RDS\")"
   ]
  },
  {
   "cell_type": "markdown",
   "metadata": {},
   "source": [
    "# Convert to h5ad for analysis in python"
   ]
  },
  {
   "cell_type": "code",
   "execution_count": 13,
   "metadata": {
    "vscode": {
     "languageId": "r"
    }
   },
   "outputs": [
    {
     "name": "stderr",
     "output_type": "stream",
     "text": [
      "Loading required package: reticulate\n",
      "\n"
     ]
    }
   ],
   "source": [
    "library(sceasy)\n",
    "library(reticulate)"
   ]
  },
  {
   "cell_type": "code",
   "execution_count": 14,
   "metadata": {
    "vscode": {
     "languageId": "r"
    }
   },
   "outputs": [],
   "source": [
    "AllDC <- JoinLayers(AllDC)"
   ]
  },
  {
   "cell_type": "code",
   "execution_count": 15,
   "metadata": {
    "vscode": {
     "languageId": "r"
    }
   },
   "outputs": [
    {
     "name": "stderr",
     "output_type": "stream",
     "text": [
      "Warning message:\n",
      "“Layer ‘data’ is empty”\n",
      "Warning message:\n",
      "“Layer ‘scale.data’ is empty”\n"
     ]
    }
   ],
   "source": [
    "sce <- as.SingleCellExperiment(AllDC)"
   ]
  },
  {
   "cell_type": "code",
   "execution_count": 17,
   "metadata": {
    "vscode": {
     "languageId": "r"
    }
   },
   "outputs": [
    {
     "name": "stderr",
     "output_type": "stream",
     "text": [
      "Warning message in .regularise_df(as.data.frame(SummarizedExperiment::colData(obj)), :\n",
      "“Dropping single category variables:orig.ident, ident”\n"
     ]
    },
    {
     "data": {
      "text/plain": [
       "AnnData object with n_obs × n_vars = 81526 × 36601\n",
       "    obs: 'nCount_RNA', 'nFeature_RNA', 'culture_type'\n",
       "    var: 'name'"
      ]
     },
     "metadata": {},
     "output_type": "display_data"
    }
   ],
   "source": [
    "sceasy::convertFormat(sce, from=\"sce\", to=\"anndata\", outFile=\"/scratch/user/s4436039/sc_AllDC/AllDC.h5ad\")"
   ]
  }
 ],
 "metadata": {
  "kernelspec": {
   "display_name": "R",
   "language": "R",
   "name": "ir"
  },
  "language_info": {
   "codemirror_mode": "r",
   "file_extension": ".r",
   "mimetype": "text/x-r-source",
   "name": "R",
   "pygments_lexer": "r",
   "version": "4.3.3"
  }
 },
 "nbformat": 4,
 "nbformat_minor": 2
}
