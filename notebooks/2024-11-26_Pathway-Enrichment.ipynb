{
 "cells": [
  {
   "cell_type": "markdown",
   "metadata": {},
   "source": [
    "# Pathway enrichment"
   ]
  },
  {
   "cell_type": "markdown",
   "metadata": {},
   "source": [
    "* Using `msigdbr` package in R to download GSEA pathway gene sets"
   ]
  },
  {
   "cell_type": "code",
   "execution_count": 1,
   "metadata": {
    "vscode": {
     "languageId": "r"
    }
   },
   "outputs": [
    {
     "data": {
      "text/html": [
       "'/scratch/user/s4436039/Nikita-project'"
      ],
      "text/latex": [
       "'/scratch/user/s4436039/Nikita-project'"
      ],
      "text/markdown": [
       "'/scratch/user/s4436039/Nikita-project'"
      ],
      "text/plain": [
       "[1] \"/scratch/user/s4436039/Nikita-project\""
      ]
     },
     "metadata": {},
     "output_type": "display_data"
    },
    {
     "data": {
      "text/html": [
       "'/scratch/user/s4436039/scdata/Pathway-sets'"
      ],
      "text/latex": [
       "'/scratch/user/s4436039/scdata/Pathway-sets'"
      ],
      "text/markdown": [
       "'/scratch/user/s4436039/scdata/Pathway-sets'"
      ],
      "text/plain": [
       "[1] \"/scratch/user/s4436039/scdata/Pathway-sets\""
      ]
     },
     "metadata": {},
     "output_type": "display_data"
    }
   ],
   "source": [
    "#set wd\n",
    "getwd()\n",
    "setwd('/scratch/user/s4436039/scdata/Pathway-sets')\n",
    "getwd()"
   ]
  },
  {
   "cell_type": "code",
   "execution_count": 3,
   "metadata": {
    "vscode": {
     "languageId": "r"
    }
   },
   "outputs": [],
   "source": [
    "library(msigdbr)"
   ]
  },
  {
   "cell_type": "code",
   "execution_count": 4,
   "metadata": {
    "vscode": {
     "languageId": "r"
    }
   },
   "outputs": [
    {
     "data": {
      "text/html": [
       "<table class=\"dataframe\">\n",
       "<caption>A tibble: 23 × 3</caption>\n",
       "<thead>\n",
       "\t<tr><th scope=col>gs_cat</th><th scope=col>gs_subcat</th><th scope=col>num_genesets</th></tr>\n",
       "\t<tr><th scope=col>&lt;chr&gt;</th><th scope=col>&lt;chr&gt;</th><th scope=col>&lt;int&gt;</th></tr>\n",
       "</thead>\n",
       "<tbody>\n",
       "\t<tr><td>C1</td><td>               </td><td> 299</td></tr>\n",
       "\t<tr><td>C2</td><td>CGP            </td><td>3384</td></tr>\n",
       "\t<tr><td>C2</td><td>CP             </td><td>  29</td></tr>\n",
       "\t<tr><td>C2</td><td>CP:BIOCARTA    </td><td> 292</td></tr>\n",
       "\t<tr><td>C2</td><td>CP:KEGG        </td><td> 186</td></tr>\n",
       "\t<tr><td>C2</td><td>CP:PID         </td><td> 196</td></tr>\n",
       "\t<tr><td>C2</td><td>CP:REACTOME    </td><td>1615</td></tr>\n",
       "\t<tr><td>C2</td><td>CP:WIKIPATHWAYS</td><td> 664</td></tr>\n",
       "\t<tr><td>C3</td><td>MIR:MIRDB      </td><td>2377</td></tr>\n",
       "\t<tr><td>C3</td><td>MIR:MIR_Legacy </td><td> 221</td></tr>\n",
       "\t<tr><td>C3</td><td>TFT:GTRD       </td><td> 518</td></tr>\n",
       "\t<tr><td>C3</td><td>TFT:TFT_Legacy </td><td> 610</td></tr>\n",
       "\t<tr><td>C4</td><td>CGN            </td><td> 427</td></tr>\n",
       "\t<tr><td>C4</td><td>CM             </td><td> 431</td></tr>\n",
       "\t<tr><td>C5</td><td>GO:BP          </td><td>7658</td></tr>\n",
       "\t<tr><td>C5</td><td>GO:CC          </td><td>1006</td></tr>\n",
       "\t<tr><td>C5</td><td>GO:MF          </td><td>1738</td></tr>\n",
       "\t<tr><td>C5</td><td>HPO            </td><td>5071</td></tr>\n",
       "\t<tr><td>C6</td><td>               </td><td> 189</td></tr>\n",
       "\t<tr><td>C7</td><td>IMMUNESIGDB    </td><td>4872</td></tr>\n",
       "\t<tr><td>C7</td><td>VAX            </td><td> 347</td></tr>\n",
       "\t<tr><td>C8</td><td>               </td><td> 700</td></tr>\n",
       "\t<tr><td>H </td><td>               </td><td>  50</td></tr>\n",
       "</tbody>\n",
       "</table>\n"
      ],
      "text/latex": [
       "A tibble: 23 × 3\n",
       "\\begin{tabular}{lll}\n",
       " gs\\_cat & gs\\_subcat & num\\_genesets\\\\\n",
       " <chr> & <chr> & <int>\\\\\n",
       "\\hline\n",
       "\t C1 &                 &  299\\\\\n",
       "\t C2 & CGP             & 3384\\\\\n",
       "\t C2 & CP              &   29\\\\\n",
       "\t C2 & CP:BIOCARTA     &  292\\\\\n",
       "\t C2 & CP:KEGG         &  186\\\\\n",
       "\t C2 & CP:PID          &  196\\\\\n",
       "\t C2 & CP:REACTOME     & 1615\\\\\n",
       "\t C2 & CP:WIKIPATHWAYS &  664\\\\\n",
       "\t C3 & MIR:MIRDB       & 2377\\\\\n",
       "\t C3 & MIR:MIR\\_Legacy  &  221\\\\\n",
       "\t C3 & TFT:GTRD        &  518\\\\\n",
       "\t C3 & TFT:TFT\\_Legacy  &  610\\\\\n",
       "\t C4 & CGN             &  427\\\\\n",
       "\t C4 & CM              &  431\\\\\n",
       "\t C5 & GO:BP           & 7658\\\\\n",
       "\t C5 & GO:CC           & 1006\\\\\n",
       "\t C5 & GO:MF           & 1738\\\\\n",
       "\t C5 & HPO             & 5071\\\\\n",
       "\t C6 &                 &  189\\\\\n",
       "\t C7 & IMMUNESIGDB     & 4872\\\\\n",
       "\t C7 & VAX             &  347\\\\\n",
       "\t C8 &                 &  700\\\\\n",
       "\t H  &                 &   50\\\\\n",
       "\\end{tabular}\n"
      ],
      "text/markdown": [
       "\n",
       "A tibble: 23 × 3\n",
       "\n",
       "| gs_cat &lt;chr&gt; | gs_subcat &lt;chr&gt; | num_genesets &lt;int&gt; |\n",
       "|---|---|---|\n",
       "| C1 | <!----> |  299 |\n",
       "| C2 | CGP             | 3384 |\n",
       "| C2 | CP              |   29 |\n",
       "| C2 | CP:BIOCARTA     |  292 |\n",
       "| C2 | CP:KEGG         |  186 |\n",
       "| C2 | CP:PID          |  196 |\n",
       "| C2 | CP:REACTOME     | 1615 |\n",
       "| C2 | CP:WIKIPATHWAYS |  664 |\n",
       "| C3 | MIR:MIRDB       | 2377 |\n",
       "| C3 | MIR:MIR_Legacy  |  221 |\n",
       "| C3 | TFT:GTRD        |  518 |\n",
       "| C3 | TFT:TFT_Legacy  |  610 |\n",
       "| C4 | CGN             |  427 |\n",
       "| C4 | CM              |  431 |\n",
       "| C5 | GO:BP           | 7658 |\n",
       "| C5 | GO:CC           | 1006 |\n",
       "| C5 | GO:MF           | 1738 |\n",
       "| C5 | HPO             | 5071 |\n",
       "| C6 | <!----> |  189 |\n",
       "| C7 | IMMUNESIGDB     | 4872 |\n",
       "| C7 | VAX             |  347 |\n",
       "| C8 | <!----> |  700 |\n",
       "| H  | <!----> |   50 |\n",
       "\n"
      ],
      "text/plain": [
       "   gs_cat gs_subcat       num_genesets\n",
       "1  C1                      299        \n",
       "2  C2     CGP             3384        \n",
       "3  C2     CP                29        \n",
       "4  C2     CP:BIOCARTA      292        \n",
       "5  C2     CP:KEGG          186        \n",
       "6  C2     CP:PID           196        \n",
       "7  C2     CP:REACTOME     1615        \n",
       "8  C2     CP:WIKIPATHWAYS  664        \n",
       "9  C3     MIR:MIRDB       2377        \n",
       "10 C3     MIR:MIR_Legacy   221        \n",
       "11 C3     TFT:GTRD         518        \n",
       "12 C3     TFT:TFT_Legacy   610        \n",
       "13 C4     CGN              427        \n",
       "14 C4     CM               431        \n",
       "15 C5     GO:BP           7658        \n",
       "16 C5     GO:CC           1006        \n",
       "17 C5     GO:MF           1738        \n",
       "18 C5     HPO             5071        \n",
       "19 C6                      189        \n",
       "20 C7     IMMUNESIGDB     4872        \n",
       "21 C7     VAX              347        \n",
       "22 C8                      700        \n",
       "23 H                        50        "
      ]
     },
     "metadata": {},
     "output_type": "display_data"
    }
   ],
   "source": [
    "msigdbr_collections()"
   ]
  },
  {
   "cell_type": "code",
   "execution_count": 5,
   "metadata": {
    "vscode": {
     "languageId": "r"
    }
   },
   "outputs": [
    {
     "data": {
      "text/html": [
       "<table class=\"dataframe\">\n",
       "<caption>A tibble: 20 × 2</caption>\n",
       "<thead>\n",
       "\t<tr><th scope=col>species_name</th><th scope=col>species_common_name</th></tr>\n",
       "\t<tr><th scope=col>&lt;chr&gt;</th><th scope=col>&lt;chr&gt;</th></tr>\n",
       "</thead>\n",
       "<tbody>\n",
       "\t<tr><td>Anolis carolinensis            </td><td>Carolina anole, green anole                                            </td></tr>\n",
       "\t<tr><td>Bos taurus                     </td><td>bovine, cattle, cow, dairy cow, domestic cattle, domestic cow, ox, oxen</td></tr>\n",
       "\t<tr><td>Caenorhabditis elegans         </td><td>NA                                                                     </td></tr>\n",
       "\t<tr><td>Canis lupus familiaris         </td><td>dog, dogs                                                              </td></tr>\n",
       "\t<tr><td>Danio rerio                    </td><td>leopard danio, zebra danio, zebra fish, zebrafish                      </td></tr>\n",
       "\t<tr><td>Drosophila melanogaster        </td><td>fruit fly                                                              </td></tr>\n",
       "\t<tr><td>Equus caballus                 </td><td>domestic horse, equine, horse                                          </td></tr>\n",
       "\t<tr><td>Felis catus                    </td><td>cat, cats, domestic cat                                                </td></tr>\n",
       "\t<tr><td>Gallus gallus                  </td><td>bantam, chicken, chickens, Gallus domesticus                           </td></tr>\n",
       "\t<tr><td>Homo sapiens                   </td><td>human                                                                  </td></tr>\n",
       "\t<tr><td>Macaca mulatta                 </td><td>rhesus macaque, rhesus macaques, Rhesus monkey, rhesus monkeys         </td></tr>\n",
       "\t<tr><td>Monodelphis domestica          </td><td>gray short-tailed opossum                                              </td></tr>\n",
       "\t<tr><td>Mus musculus                   </td><td>house mouse, mouse                                                     </td></tr>\n",
       "\t<tr><td>Ornithorhynchus anatinus       </td><td>duck-billed platypus, duckbill platypus, platypus                      </td></tr>\n",
       "\t<tr><td>Pan troglodytes                </td><td>chimpanzee                                                             </td></tr>\n",
       "\t<tr><td>Rattus norvegicus              </td><td>brown rat, Norway rat, rat, rats                                       </td></tr>\n",
       "\t<tr><td>Saccharomyces cerevisiae       </td><td>baker's yeast, brewer's yeast, S. cerevisiae                           </td></tr>\n",
       "\t<tr><td>Schizosaccharomyces pombe 972h-</td><td>NA                                                                     </td></tr>\n",
       "\t<tr><td>Sus scrofa                     </td><td>pig, pigs, swine, wild boar                                            </td></tr>\n",
       "\t<tr><td>Xenopus tropicalis             </td><td>tropical clawed frog, western clawed frog                              </td></tr>\n",
       "</tbody>\n",
       "</table>\n"
      ],
      "text/latex": [
       "A tibble: 20 × 2\n",
       "\\begin{tabular}{ll}\n",
       " species\\_name & species\\_common\\_name\\\\\n",
       " <chr> & <chr>\\\\\n",
       "\\hline\n",
       "\t Anolis carolinensis             & Carolina anole, green anole                                            \\\\\n",
       "\t Bos taurus                      & bovine, cattle, cow, dairy cow, domestic cattle, domestic cow, ox, oxen\\\\\n",
       "\t Caenorhabditis elegans          & NA                                                                     \\\\\n",
       "\t Canis lupus familiaris          & dog, dogs                                                              \\\\\n",
       "\t Danio rerio                     & leopard danio, zebra danio, zebra fish, zebrafish                      \\\\\n",
       "\t Drosophila melanogaster         & fruit fly                                                              \\\\\n",
       "\t Equus caballus                  & domestic horse, equine, horse                                          \\\\\n",
       "\t Felis catus                     & cat, cats, domestic cat                                                \\\\\n",
       "\t Gallus gallus                   & bantam, chicken, chickens, Gallus domesticus                           \\\\\n",
       "\t Homo sapiens                    & human                                                                  \\\\\n",
       "\t Macaca mulatta                  & rhesus macaque, rhesus macaques, Rhesus monkey, rhesus monkeys         \\\\\n",
       "\t Monodelphis domestica           & gray short-tailed opossum                                              \\\\\n",
       "\t Mus musculus                    & house mouse, mouse                                                     \\\\\n",
       "\t Ornithorhynchus anatinus        & duck-billed platypus, duckbill platypus, platypus                      \\\\\n",
       "\t Pan troglodytes                 & chimpanzee                                                             \\\\\n",
       "\t Rattus norvegicus               & brown rat, Norway rat, rat, rats                                       \\\\\n",
       "\t Saccharomyces cerevisiae        & baker's yeast, brewer's yeast, S. cerevisiae                           \\\\\n",
       "\t Schizosaccharomyces pombe 972h- & NA                                                                     \\\\\n",
       "\t Sus scrofa                      & pig, pigs, swine, wild boar                                            \\\\\n",
       "\t Xenopus tropicalis              & tropical clawed frog, western clawed frog                              \\\\\n",
       "\\end{tabular}\n"
      ],
      "text/markdown": [
       "\n",
       "A tibble: 20 × 2\n",
       "\n",
       "| species_name &lt;chr&gt; | species_common_name &lt;chr&gt; |\n",
       "|---|---|\n",
       "| Anolis carolinensis             | Carolina anole, green anole                                             |\n",
       "| Bos taurus                      | bovine, cattle, cow, dairy cow, domestic cattle, domestic cow, ox, oxen |\n",
       "| Caenorhabditis elegans          | NA                                                                      |\n",
       "| Canis lupus familiaris          | dog, dogs                                                               |\n",
       "| Danio rerio                     | leopard danio, zebra danio, zebra fish, zebrafish                       |\n",
       "| Drosophila melanogaster         | fruit fly                                                               |\n",
       "| Equus caballus                  | domestic horse, equine, horse                                           |\n",
       "| Felis catus                     | cat, cats, domestic cat                                                 |\n",
       "| Gallus gallus                   | bantam, chicken, chickens, Gallus domesticus                            |\n",
       "| Homo sapiens                    | human                                                                   |\n",
       "| Macaca mulatta                  | rhesus macaque, rhesus macaques, Rhesus monkey, rhesus monkeys          |\n",
       "| Monodelphis domestica           | gray short-tailed opossum                                               |\n",
       "| Mus musculus                    | house mouse, mouse                                                      |\n",
       "| Ornithorhynchus anatinus        | duck-billed platypus, duckbill platypus, platypus                       |\n",
       "| Pan troglodytes                 | chimpanzee                                                              |\n",
       "| Rattus norvegicus               | brown rat, Norway rat, rat, rats                                        |\n",
       "| Saccharomyces cerevisiae        | baker's yeast, brewer's yeast, S. cerevisiae                            |\n",
       "| Schizosaccharomyces pombe 972h- | NA                                                                      |\n",
       "| Sus scrofa                      | pig, pigs, swine, wild boar                                             |\n",
       "| Xenopus tropicalis              | tropical clawed frog, western clawed frog                               |\n",
       "\n"
      ],
      "text/plain": [
       "   species_name                   \n",
       "1  Anolis carolinensis            \n",
       "2  Bos taurus                     \n",
       "3  Caenorhabditis elegans         \n",
       "4  Canis lupus familiaris         \n",
       "5  Danio rerio                    \n",
       "6  Drosophila melanogaster        \n",
       "7  Equus caballus                 \n",
       "8  Felis catus                    \n",
       "9  Gallus gallus                  \n",
       "10 Homo sapiens                   \n",
       "11 Macaca mulatta                 \n",
       "12 Monodelphis domestica          \n",
       "13 Mus musculus                   \n",
       "14 Ornithorhynchus anatinus       \n",
       "15 Pan troglodytes                \n",
       "16 Rattus norvegicus              \n",
       "17 Saccharomyces cerevisiae       \n",
       "18 Schizosaccharomyces pombe 972h-\n",
       "19 Sus scrofa                     \n",
       "20 Xenopus tropicalis             \n",
       "   species_common_name                                                    \n",
       "1  Carolina anole, green anole                                            \n",
       "2  bovine, cattle, cow, dairy cow, domestic cattle, domestic cow, ox, oxen\n",
       "3  NA                                                                     \n",
       "4  dog, dogs                                                              \n",
       "5  leopard danio, zebra danio, zebra fish, zebrafish                      \n",
       "6  fruit fly                                                              \n",
       "7  domestic horse, equine, horse                                          \n",
       "8  cat, cats, domestic cat                                                \n",
       "9  bantam, chicken, chickens, Gallus domesticus                           \n",
       "10 human                                                                  \n",
       "11 rhesus macaque, rhesus macaques, Rhesus monkey, rhesus monkeys         \n",
       "12 gray short-tailed opossum                                              \n",
       "13 house mouse, mouse                                                     \n",
       "14 duck-billed platypus, duckbill platypus, platypus                      \n",
       "15 chimpanzee                                                             \n",
       "16 brown rat, Norway rat, rat, rats                                       \n",
       "17 baker's yeast, brewer's yeast, S. cerevisiae                           \n",
       "18 NA                                                                     \n",
       "19 pig, pigs, swine, wild boar                                            \n",
       "20 tropical clawed frog, western clawed frog                              "
      ]
     },
     "metadata": {},
     "output_type": "display_data"
    }
   ],
   "source": [
    "msigdbr_species()"
   ]
  },
  {
   "cell_type": "markdown",
   "metadata": {},
   "source": [
    "## Pathways of interest: \n",
    "* Cat: H --> Hallmark gene sets (well-defined biological states or processes)\n",
    "* Cat: C2 --> curated gene sets --> KEGG_MEDICUS"
   ]
  },
  {
   "cell_type": "code",
   "execution_count": null,
   "metadata": {
    "vscode": {
     "languageId": "r"
    }
   },
   "outputs": [],
   "source": [
    "#get KEGG human gene sets\n",
    "KEGG_sets = msigdbr(species = \"human\", category = \"C2\")\n",
    "head(h_gene_sets)"
   ]
  }
 ],
 "metadata": {
  "kernelspec": {
   "display_name": "R",
   "language": "R",
   "name": "ir"
  },
  "language_info": {
   "codemirror_mode": "r",
   "file_extension": ".r",
   "mimetype": "text/x-r-source",
   "name": "R",
   "pygments_lexer": "r",
   "version": "4.3.3"
  }
 },
 "nbformat": 4,
 "nbformat_minor": 2
}
