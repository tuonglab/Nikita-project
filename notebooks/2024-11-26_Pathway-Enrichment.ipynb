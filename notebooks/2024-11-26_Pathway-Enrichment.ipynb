{
 "cells": [
  {
   "cell_type": "markdown",
   "metadata": {},
   "source": [
    "# Pathway enrichment"
   ]
  },
  {
   "cell_type": "markdown",
   "metadata": {},
   "source": [
    "* Using `msigdbr` package in R to download GSEA pathway gene sets\n",
    "* initially download Hallmark gene sets"
   ]
  },
  {
   "cell_type": "code",
   "execution_count": 1,
   "metadata": {
    "vscode": {
     "languageId": "r"
    }
   },
   "outputs": [
    {
     "data": {
      "text/html": [
       "'/scratch/user/s4436039/Nikita-project'"
      ],
      "text/latex": [
       "'/scratch/user/s4436039/Nikita-project'"
      ],
      "text/markdown": [
       "'/scratch/user/s4436039/Nikita-project'"
      ],
      "text/plain": [
       "[1] \"/scratch/user/s4436039/Nikita-project\""
      ]
     },
     "metadata": {},
     "output_type": "display_data"
    },
    {
     "data": {
      "text/html": [
       "'/scratch/user/s4436039/scdata/Pathway-sets'"
      ],
      "text/latex": [
       "'/scratch/user/s4436039/scdata/Pathway-sets'"
      ],
      "text/markdown": [
       "'/scratch/user/s4436039/scdata/Pathway-sets'"
      ],
      "text/plain": [
       "[1] \"/scratch/user/s4436039/scdata/Pathway-sets\""
      ]
     },
     "metadata": {},
     "output_type": "display_data"
    }
   ],
   "source": [
    "#set wd\n",
    "getwd()\n",
    "setwd('/scratch/user/s4436039/scdata/Pathway-sets')\n",
    "getwd()"
   ]
  },
  {
   "cell_type": "code",
   "execution_count": 2,
   "metadata": {
    "vscode": {
     "languageId": "r"
    }
   },
   "outputs": [],
   "source": [
    "library(msigdbr)"
   ]
  },
  {
   "cell_type": "code",
   "execution_count": 3,
   "metadata": {
    "vscode": {
     "languageId": "r"
    }
   },
   "outputs": [
    {
     "data": {
      "text/html": [
       "<table class=\"dataframe\">\n",
       "<caption>A tibble: 23 × 3</caption>\n",
       "<thead>\n",
       "\t<tr><th scope=col>gs_cat</th><th scope=col>gs_subcat</th><th scope=col>num_genesets</th></tr>\n",
       "\t<tr><th scope=col>&lt;chr&gt;</th><th scope=col>&lt;chr&gt;</th><th scope=col>&lt;int&gt;</th></tr>\n",
       "</thead>\n",
       "<tbody>\n",
       "\t<tr><td>C1</td><td>               </td><td> 299</td></tr>\n",
       "\t<tr><td>C2</td><td>CGP            </td><td>3384</td></tr>\n",
       "\t<tr><td>C2</td><td>CP             </td><td>  29</td></tr>\n",
       "\t<tr><td>C2</td><td>CP:BIOCARTA    </td><td> 292</td></tr>\n",
       "\t<tr><td>C2</td><td>CP:KEGG        </td><td> 186</td></tr>\n",
       "\t<tr><td>C2</td><td>CP:PID         </td><td> 196</td></tr>\n",
       "\t<tr><td>C2</td><td>CP:REACTOME    </td><td>1615</td></tr>\n",
       "\t<tr><td>C2</td><td>CP:WIKIPATHWAYS</td><td> 664</td></tr>\n",
       "\t<tr><td>C3</td><td>MIR:MIRDB      </td><td>2377</td></tr>\n",
       "\t<tr><td>C3</td><td>MIR:MIR_Legacy </td><td> 221</td></tr>\n",
       "\t<tr><td>C3</td><td>TFT:GTRD       </td><td> 518</td></tr>\n",
       "\t<tr><td>C3</td><td>TFT:TFT_Legacy </td><td> 610</td></tr>\n",
       "\t<tr><td>C4</td><td>CGN            </td><td> 427</td></tr>\n",
       "\t<tr><td>C4</td><td>CM             </td><td> 431</td></tr>\n",
       "\t<tr><td>C5</td><td>GO:BP          </td><td>7658</td></tr>\n",
       "\t<tr><td>C5</td><td>GO:CC          </td><td>1006</td></tr>\n",
       "\t<tr><td>C5</td><td>GO:MF          </td><td>1738</td></tr>\n",
       "\t<tr><td>C5</td><td>HPO            </td><td>5071</td></tr>\n",
       "\t<tr><td>C6</td><td>               </td><td> 189</td></tr>\n",
       "\t<tr><td>C7</td><td>IMMUNESIGDB    </td><td>4872</td></tr>\n",
       "\t<tr><td>C7</td><td>VAX            </td><td> 347</td></tr>\n",
       "\t<tr><td>C8</td><td>               </td><td> 700</td></tr>\n",
       "\t<tr><td>H </td><td>               </td><td>  50</td></tr>\n",
       "</tbody>\n",
       "</table>\n"
      ],
      "text/latex": [
       "A tibble: 23 × 3\n",
       "\\begin{tabular}{lll}\n",
       " gs\\_cat & gs\\_subcat & num\\_genesets\\\\\n",
       " <chr> & <chr> & <int>\\\\\n",
       "\\hline\n",
       "\t C1 &                 &  299\\\\\n",
       "\t C2 & CGP             & 3384\\\\\n",
       "\t C2 & CP              &   29\\\\\n",
       "\t C2 & CP:BIOCARTA     &  292\\\\\n",
       "\t C2 & CP:KEGG         &  186\\\\\n",
       "\t C2 & CP:PID          &  196\\\\\n",
       "\t C2 & CP:REACTOME     & 1615\\\\\n",
       "\t C2 & CP:WIKIPATHWAYS &  664\\\\\n",
       "\t C3 & MIR:MIRDB       & 2377\\\\\n",
       "\t C3 & MIR:MIR\\_Legacy  &  221\\\\\n",
       "\t C3 & TFT:GTRD        &  518\\\\\n",
       "\t C3 & TFT:TFT\\_Legacy  &  610\\\\\n",
       "\t C4 & CGN             &  427\\\\\n",
       "\t C4 & CM              &  431\\\\\n",
       "\t C5 & GO:BP           & 7658\\\\\n",
       "\t C5 & GO:CC           & 1006\\\\\n",
       "\t C5 & GO:MF           & 1738\\\\\n",
       "\t C5 & HPO             & 5071\\\\\n",
       "\t C6 &                 &  189\\\\\n",
       "\t C7 & IMMUNESIGDB     & 4872\\\\\n",
       "\t C7 & VAX             &  347\\\\\n",
       "\t C8 &                 &  700\\\\\n",
       "\t H  &                 &   50\\\\\n",
       "\\end{tabular}\n"
      ],
      "text/markdown": [
       "\n",
       "A tibble: 23 × 3\n",
       "\n",
       "| gs_cat &lt;chr&gt; | gs_subcat &lt;chr&gt; | num_genesets &lt;int&gt; |\n",
       "|---|---|---|\n",
       "| C1 | <!----> |  299 |\n",
       "| C2 | CGP             | 3384 |\n",
       "| C2 | CP              |   29 |\n",
       "| C2 | CP:BIOCARTA     |  292 |\n",
       "| C2 | CP:KEGG         |  186 |\n",
       "| C2 | CP:PID          |  196 |\n",
       "| C2 | CP:REACTOME     | 1615 |\n",
       "| C2 | CP:WIKIPATHWAYS |  664 |\n",
       "| C3 | MIR:MIRDB       | 2377 |\n",
       "| C3 | MIR:MIR_Legacy  |  221 |\n",
       "| C3 | TFT:GTRD        |  518 |\n",
       "| C3 | TFT:TFT_Legacy  |  610 |\n",
       "| C4 | CGN             |  427 |\n",
       "| C4 | CM              |  431 |\n",
       "| C5 | GO:BP           | 7658 |\n",
       "| C5 | GO:CC           | 1006 |\n",
       "| C5 | GO:MF           | 1738 |\n",
       "| C5 | HPO             | 5071 |\n",
       "| C6 | <!----> |  189 |\n",
       "| C7 | IMMUNESIGDB     | 4872 |\n",
       "| C7 | VAX             |  347 |\n",
       "| C8 | <!----> |  700 |\n",
       "| H  | <!----> |   50 |\n",
       "\n"
      ],
      "text/plain": [
       "   gs_cat gs_subcat       num_genesets\n",
       "1  C1                      299        \n",
       "2  C2     CGP             3384        \n",
       "3  C2     CP                29        \n",
       "4  C2     CP:BIOCARTA      292        \n",
       "5  C2     CP:KEGG          186        \n",
       "6  C2     CP:PID           196        \n",
       "7  C2     CP:REACTOME     1615        \n",
       "8  C2     CP:WIKIPATHWAYS  664        \n",
       "9  C3     MIR:MIRDB       2377        \n",
       "10 C3     MIR:MIR_Legacy   221        \n",
       "11 C3     TFT:GTRD         518        \n",
       "12 C3     TFT:TFT_Legacy   610        \n",
       "13 C4     CGN              427        \n",
       "14 C4     CM               431        \n",
       "15 C5     GO:BP           7658        \n",
       "16 C5     GO:CC           1006        \n",
       "17 C5     GO:MF           1738        \n",
       "18 C5     HPO             5071        \n",
       "19 C6                      189        \n",
       "20 C7     IMMUNESIGDB     4872        \n",
       "21 C7     VAX              347        \n",
       "22 C8                      700        \n",
       "23 H                        50        "
      ]
     },
     "metadata": {},
     "output_type": "display_data"
    }
   ],
   "source": [
    "msigdbr_collections()"
   ]
  },
  {
   "cell_type": "code",
   "execution_count": 4,
   "metadata": {
    "vscode": {
     "languageId": "r"
    }
   },
   "outputs": [
    {
     "data": {
      "text/html": [
       "<table class=\"dataframe\">\n",
       "<caption>A tibble: 20 × 2</caption>\n",
       "<thead>\n",
       "\t<tr><th scope=col>species_name</th><th scope=col>species_common_name</th></tr>\n",
       "\t<tr><th scope=col>&lt;chr&gt;</th><th scope=col>&lt;chr&gt;</th></tr>\n",
       "</thead>\n",
       "<tbody>\n",
       "\t<tr><td>Anolis carolinensis            </td><td>Carolina anole, green anole                                            </td></tr>\n",
       "\t<tr><td>Bos taurus                     </td><td>bovine, cattle, cow, dairy cow, domestic cattle, domestic cow, ox, oxen</td></tr>\n",
       "\t<tr><td>Caenorhabditis elegans         </td><td>NA                                                                     </td></tr>\n",
       "\t<tr><td>Canis lupus familiaris         </td><td>dog, dogs                                                              </td></tr>\n",
       "\t<tr><td>Danio rerio                    </td><td>leopard danio, zebra danio, zebra fish, zebrafish                      </td></tr>\n",
       "\t<tr><td>Drosophila melanogaster        </td><td>fruit fly                                                              </td></tr>\n",
       "\t<tr><td>Equus caballus                 </td><td>domestic horse, equine, horse                                          </td></tr>\n",
       "\t<tr><td>Felis catus                    </td><td>cat, cats, domestic cat                                                </td></tr>\n",
       "\t<tr><td>Gallus gallus                  </td><td>bantam, chicken, chickens, Gallus domesticus                           </td></tr>\n",
       "\t<tr><td>Homo sapiens                   </td><td>human                                                                  </td></tr>\n",
       "\t<tr><td>Macaca mulatta                 </td><td>rhesus macaque, rhesus macaques, Rhesus monkey, rhesus monkeys         </td></tr>\n",
       "\t<tr><td>Monodelphis domestica          </td><td>gray short-tailed opossum                                              </td></tr>\n",
       "\t<tr><td>Mus musculus                   </td><td>house mouse, mouse                                                     </td></tr>\n",
       "\t<tr><td>Ornithorhynchus anatinus       </td><td>duck-billed platypus, duckbill platypus, platypus                      </td></tr>\n",
       "\t<tr><td>Pan troglodytes                </td><td>chimpanzee                                                             </td></tr>\n",
       "\t<tr><td>Rattus norvegicus              </td><td>brown rat, Norway rat, rat, rats                                       </td></tr>\n",
       "\t<tr><td>Saccharomyces cerevisiae       </td><td>baker's yeast, brewer's yeast, S. cerevisiae                           </td></tr>\n",
       "\t<tr><td>Schizosaccharomyces pombe 972h-</td><td>NA                                                                     </td></tr>\n",
       "\t<tr><td>Sus scrofa                     </td><td>pig, pigs, swine, wild boar                                            </td></tr>\n",
       "\t<tr><td>Xenopus tropicalis             </td><td>tropical clawed frog, western clawed frog                              </td></tr>\n",
       "</tbody>\n",
       "</table>\n"
      ],
      "text/latex": [
       "A tibble: 20 × 2\n",
       "\\begin{tabular}{ll}\n",
       " species\\_name & species\\_common\\_name\\\\\n",
       " <chr> & <chr>\\\\\n",
       "\\hline\n",
       "\t Anolis carolinensis             & Carolina anole, green anole                                            \\\\\n",
       "\t Bos taurus                      & bovine, cattle, cow, dairy cow, domestic cattle, domestic cow, ox, oxen\\\\\n",
       "\t Caenorhabditis elegans          & NA                                                                     \\\\\n",
       "\t Canis lupus familiaris          & dog, dogs                                                              \\\\\n",
       "\t Danio rerio                     & leopard danio, zebra danio, zebra fish, zebrafish                      \\\\\n",
       "\t Drosophila melanogaster         & fruit fly                                                              \\\\\n",
       "\t Equus caballus                  & domestic horse, equine, horse                                          \\\\\n",
       "\t Felis catus                     & cat, cats, domestic cat                                                \\\\\n",
       "\t Gallus gallus                   & bantam, chicken, chickens, Gallus domesticus                           \\\\\n",
       "\t Homo sapiens                    & human                                                                  \\\\\n",
       "\t Macaca mulatta                  & rhesus macaque, rhesus macaques, Rhesus monkey, rhesus monkeys         \\\\\n",
       "\t Monodelphis domestica           & gray short-tailed opossum                                              \\\\\n",
       "\t Mus musculus                    & house mouse, mouse                                                     \\\\\n",
       "\t Ornithorhynchus anatinus        & duck-billed platypus, duckbill platypus, platypus                      \\\\\n",
       "\t Pan troglodytes                 & chimpanzee                                                             \\\\\n",
       "\t Rattus norvegicus               & brown rat, Norway rat, rat, rats                                       \\\\\n",
       "\t Saccharomyces cerevisiae        & baker's yeast, brewer's yeast, S. cerevisiae                           \\\\\n",
       "\t Schizosaccharomyces pombe 972h- & NA                                                                     \\\\\n",
       "\t Sus scrofa                      & pig, pigs, swine, wild boar                                            \\\\\n",
       "\t Xenopus tropicalis              & tropical clawed frog, western clawed frog                              \\\\\n",
       "\\end{tabular}\n"
      ],
      "text/markdown": [
       "\n",
       "A tibble: 20 × 2\n",
       "\n",
       "| species_name &lt;chr&gt; | species_common_name &lt;chr&gt; |\n",
       "|---|---|\n",
       "| Anolis carolinensis             | Carolina anole, green anole                                             |\n",
       "| Bos taurus                      | bovine, cattle, cow, dairy cow, domestic cattle, domestic cow, ox, oxen |\n",
       "| Caenorhabditis elegans          | NA                                                                      |\n",
       "| Canis lupus familiaris          | dog, dogs                                                               |\n",
       "| Danio rerio                     | leopard danio, zebra danio, zebra fish, zebrafish                       |\n",
       "| Drosophila melanogaster         | fruit fly                                                               |\n",
       "| Equus caballus                  | domestic horse, equine, horse                                           |\n",
       "| Felis catus                     | cat, cats, domestic cat                                                 |\n",
       "| Gallus gallus                   | bantam, chicken, chickens, Gallus domesticus                            |\n",
       "| Homo sapiens                    | human                                                                   |\n",
       "| Macaca mulatta                  | rhesus macaque, rhesus macaques, Rhesus monkey, rhesus monkeys          |\n",
       "| Monodelphis domestica           | gray short-tailed opossum                                               |\n",
       "| Mus musculus                    | house mouse, mouse                                                      |\n",
       "| Ornithorhynchus anatinus        | duck-billed platypus, duckbill platypus, platypus                       |\n",
       "| Pan troglodytes                 | chimpanzee                                                              |\n",
       "| Rattus norvegicus               | brown rat, Norway rat, rat, rats                                        |\n",
       "| Saccharomyces cerevisiae        | baker's yeast, brewer's yeast, S. cerevisiae                            |\n",
       "| Schizosaccharomyces pombe 972h- | NA                                                                      |\n",
       "| Sus scrofa                      | pig, pigs, swine, wild boar                                             |\n",
       "| Xenopus tropicalis              | tropical clawed frog, western clawed frog                               |\n",
       "\n"
      ],
      "text/plain": [
       "   species_name                   \n",
       "1  Anolis carolinensis            \n",
       "2  Bos taurus                     \n",
       "3  Caenorhabditis elegans         \n",
       "4  Canis lupus familiaris         \n",
       "5  Danio rerio                    \n",
       "6  Drosophila melanogaster        \n",
       "7  Equus caballus                 \n",
       "8  Felis catus                    \n",
       "9  Gallus gallus                  \n",
       "10 Homo sapiens                   \n",
       "11 Macaca mulatta                 \n",
       "12 Monodelphis domestica          \n",
       "13 Mus musculus                   \n",
       "14 Ornithorhynchus anatinus       \n",
       "15 Pan troglodytes                \n",
       "16 Rattus norvegicus              \n",
       "17 Saccharomyces cerevisiae       \n",
       "18 Schizosaccharomyces pombe 972h-\n",
       "19 Sus scrofa                     \n",
       "20 Xenopus tropicalis             \n",
       "   species_common_name                                                    \n",
       "1  Carolina anole, green anole                                            \n",
       "2  bovine, cattle, cow, dairy cow, domestic cattle, domestic cow, ox, oxen\n",
       "3  NA                                                                     \n",
       "4  dog, dogs                                                              \n",
       "5  leopard danio, zebra danio, zebra fish, zebrafish                      \n",
       "6  fruit fly                                                              \n",
       "7  domestic horse, equine, horse                                          \n",
       "8  cat, cats, domestic cat                                                \n",
       "9  bantam, chicken, chickens, Gallus domesticus                           \n",
       "10 human                                                                  \n",
       "11 rhesus macaque, rhesus macaques, Rhesus monkey, rhesus monkeys         \n",
       "12 gray short-tailed opossum                                              \n",
       "13 house mouse, mouse                                                     \n",
       "14 duck-billed platypus, duckbill platypus, platypus                      \n",
       "15 chimpanzee                                                             \n",
       "16 brown rat, Norway rat, rat, rats                                       \n",
       "17 baker's yeast, brewer's yeast, S. cerevisiae                           \n",
       "18 NA                                                                     \n",
       "19 pig, pigs, swine, wild boar                                            \n",
       "20 tropical clawed frog, western clawed frog                              "
      ]
     },
     "metadata": {},
     "output_type": "display_data"
    }
   ],
   "source": [
    "msigdbr_species()"
   ]
  },
  {
   "cell_type": "code",
   "execution_count": 5,
   "metadata": {
    "vscode": {
     "languageId": "r"
    }
   },
   "outputs": [
    {
     "data": {
      "text/html": [
       "<table class=\"dataframe\">\n",
       "<caption>A tibble: 6 × 15</caption>\n",
       "<thead>\n",
       "\t<tr><th scope=col>gs_cat</th><th scope=col>gs_subcat</th><th scope=col>gs_name</th><th scope=col>gene_symbol</th><th scope=col>entrez_gene</th><th scope=col>ensembl_gene</th><th scope=col>human_gene_symbol</th><th scope=col>human_entrez_gene</th><th scope=col>human_ensembl_gene</th><th scope=col>gs_id</th><th scope=col>gs_pmid</th><th scope=col>gs_geoid</th><th scope=col>gs_exact_source</th><th scope=col>gs_url</th><th scope=col>gs_description</th></tr>\n",
       "\t<tr><th scope=col>&lt;chr&gt;</th><th scope=col>&lt;chr&gt;</th><th scope=col>&lt;chr&gt;</th><th scope=col>&lt;chr&gt;</th><th scope=col>&lt;int&gt;</th><th scope=col>&lt;chr&gt;</th><th scope=col>&lt;chr&gt;</th><th scope=col>&lt;int&gt;</th><th scope=col>&lt;chr&gt;</th><th scope=col>&lt;chr&gt;</th><th scope=col>&lt;chr&gt;</th><th scope=col>&lt;chr&gt;</th><th scope=col>&lt;chr&gt;</th><th scope=col>&lt;chr&gt;</th><th scope=col>&lt;chr&gt;</th></tr>\n",
       "</thead>\n",
       "<tbody>\n",
       "\t<tr><td>H</td><td></td><td>HALLMARK_ADIPOGENESIS</td><td>ABCA1</td><td>   19</td><td>ENSG00000165029</td><td>ABCA1</td><td>   19</td><td>ENSG00000165029</td><td>M5905</td><td>26771021</td><td></td><td></td><td></td><td>Genes up-regulated during adipocyte differentiation (adipogenesis).</td></tr>\n",
       "\t<tr><td>H</td><td></td><td>HALLMARK_ADIPOGENESIS</td><td>ABCB8</td><td>11194</td><td>ENSG00000197150</td><td>ABCB8</td><td>11194</td><td>ENSG00000197150</td><td>M5905</td><td>26771021</td><td></td><td></td><td></td><td>Genes up-regulated during adipocyte differentiation (adipogenesis).</td></tr>\n",
       "\t<tr><td>H</td><td></td><td>HALLMARK_ADIPOGENESIS</td><td>ACAA2</td><td>10449</td><td>ENSG00000167315</td><td>ACAA2</td><td>10449</td><td>ENSG00000167315</td><td>M5905</td><td>26771021</td><td></td><td></td><td></td><td>Genes up-regulated during adipocyte differentiation (adipogenesis).</td></tr>\n",
       "\t<tr><td>H</td><td></td><td>HALLMARK_ADIPOGENESIS</td><td>ACADL</td><td>   33</td><td>ENSG00000115361</td><td>ACADL</td><td>   33</td><td>ENSG00000115361</td><td>M5905</td><td>26771021</td><td></td><td></td><td></td><td>Genes up-regulated during adipocyte differentiation (adipogenesis).</td></tr>\n",
       "\t<tr><td>H</td><td></td><td>HALLMARK_ADIPOGENESIS</td><td>ACADM</td><td>   34</td><td>ENSG00000117054</td><td>ACADM</td><td>   34</td><td>ENSG00000117054</td><td>M5905</td><td>26771021</td><td></td><td></td><td></td><td>Genes up-regulated during adipocyte differentiation (adipogenesis).</td></tr>\n",
       "\t<tr><td>H</td><td></td><td>HALLMARK_ADIPOGENESIS</td><td>ACADS</td><td>   35</td><td>ENSG00000122971</td><td>ACADS</td><td>   35</td><td>ENSG00000122971</td><td>M5905</td><td>26771021</td><td></td><td></td><td></td><td>Genes up-regulated during adipocyte differentiation (adipogenesis).</td></tr>\n",
       "</tbody>\n",
       "</table>\n"
      ],
      "text/latex": [
       "A tibble: 6 × 15\n",
       "\\begin{tabular}{lllllllllllllll}\n",
       " gs\\_cat & gs\\_subcat & gs\\_name & gene\\_symbol & entrez\\_gene & ensembl\\_gene & human\\_gene\\_symbol & human\\_entrez\\_gene & human\\_ensembl\\_gene & gs\\_id & gs\\_pmid & gs\\_geoid & gs\\_exact\\_source & gs\\_url & gs\\_description\\\\\n",
       " <chr> & <chr> & <chr> & <chr> & <int> & <chr> & <chr> & <int> & <chr> & <chr> & <chr> & <chr> & <chr> & <chr> & <chr>\\\\\n",
       "\\hline\n",
       "\t H &  & HALLMARK\\_ADIPOGENESIS & ABCA1 &    19 & ENSG00000165029 & ABCA1 &    19 & ENSG00000165029 & M5905 & 26771021 &  &  &  & Genes up-regulated during adipocyte differentiation (adipogenesis).\\\\\n",
       "\t H &  & HALLMARK\\_ADIPOGENESIS & ABCB8 & 11194 & ENSG00000197150 & ABCB8 & 11194 & ENSG00000197150 & M5905 & 26771021 &  &  &  & Genes up-regulated during adipocyte differentiation (adipogenesis).\\\\\n",
       "\t H &  & HALLMARK\\_ADIPOGENESIS & ACAA2 & 10449 & ENSG00000167315 & ACAA2 & 10449 & ENSG00000167315 & M5905 & 26771021 &  &  &  & Genes up-regulated during adipocyte differentiation (adipogenesis).\\\\\n",
       "\t H &  & HALLMARK\\_ADIPOGENESIS & ACADL &    33 & ENSG00000115361 & ACADL &    33 & ENSG00000115361 & M5905 & 26771021 &  &  &  & Genes up-regulated during adipocyte differentiation (adipogenesis).\\\\\n",
       "\t H &  & HALLMARK\\_ADIPOGENESIS & ACADM &    34 & ENSG00000117054 & ACADM &    34 & ENSG00000117054 & M5905 & 26771021 &  &  &  & Genes up-regulated during adipocyte differentiation (adipogenesis).\\\\\n",
       "\t H &  & HALLMARK\\_ADIPOGENESIS & ACADS &    35 & ENSG00000122971 & ACADS &    35 & ENSG00000122971 & M5905 & 26771021 &  &  &  & Genes up-regulated during adipocyte differentiation (adipogenesis).\\\\\n",
       "\\end{tabular}\n"
      ],
      "text/markdown": [
       "\n",
       "A tibble: 6 × 15\n",
       "\n",
       "| gs_cat &lt;chr&gt; | gs_subcat &lt;chr&gt; | gs_name &lt;chr&gt; | gene_symbol &lt;chr&gt; | entrez_gene &lt;int&gt; | ensembl_gene &lt;chr&gt; | human_gene_symbol &lt;chr&gt; | human_entrez_gene &lt;int&gt; | human_ensembl_gene &lt;chr&gt; | gs_id &lt;chr&gt; | gs_pmid &lt;chr&gt; | gs_geoid &lt;chr&gt; | gs_exact_source &lt;chr&gt; | gs_url &lt;chr&gt; | gs_description &lt;chr&gt; |\n",
       "|---|---|---|---|---|---|---|---|---|---|---|---|---|---|---|\n",
       "| H | <!----> | HALLMARK_ADIPOGENESIS | ABCA1 |    19 | ENSG00000165029 | ABCA1 |    19 | ENSG00000165029 | M5905 | 26771021 | <!----> | <!----> | <!----> | Genes up-regulated during adipocyte differentiation (adipogenesis). |\n",
       "| H | <!----> | HALLMARK_ADIPOGENESIS | ABCB8 | 11194 | ENSG00000197150 | ABCB8 | 11194 | ENSG00000197150 | M5905 | 26771021 | <!----> | <!----> | <!----> | Genes up-regulated during adipocyte differentiation (adipogenesis). |\n",
       "| H | <!----> | HALLMARK_ADIPOGENESIS | ACAA2 | 10449 | ENSG00000167315 | ACAA2 | 10449 | ENSG00000167315 | M5905 | 26771021 | <!----> | <!----> | <!----> | Genes up-regulated during adipocyte differentiation (adipogenesis). |\n",
       "| H | <!----> | HALLMARK_ADIPOGENESIS | ACADL |    33 | ENSG00000115361 | ACADL |    33 | ENSG00000115361 | M5905 | 26771021 | <!----> | <!----> | <!----> | Genes up-regulated during adipocyte differentiation (adipogenesis). |\n",
       "| H | <!----> | HALLMARK_ADIPOGENESIS | ACADM |    34 | ENSG00000117054 | ACADM |    34 | ENSG00000117054 | M5905 | 26771021 | <!----> | <!----> | <!----> | Genes up-regulated during adipocyte differentiation (adipogenesis). |\n",
       "| H | <!----> | HALLMARK_ADIPOGENESIS | ACADS |    35 | ENSG00000122971 | ACADS |    35 | ENSG00000122971 | M5905 | 26771021 | <!----> | <!----> | <!----> | Genes up-regulated during adipocyte differentiation (adipogenesis). |\n",
       "\n"
      ],
      "text/plain": [
       "  gs_cat gs_subcat gs_name               gene_symbol entrez_gene\n",
       "1 H                HALLMARK_ADIPOGENESIS ABCA1          19      \n",
       "2 H                HALLMARK_ADIPOGENESIS ABCB8       11194      \n",
       "3 H                HALLMARK_ADIPOGENESIS ACAA2       10449      \n",
       "4 H                HALLMARK_ADIPOGENESIS ACADL          33      \n",
       "5 H                HALLMARK_ADIPOGENESIS ACADM          34      \n",
       "6 H                HALLMARK_ADIPOGENESIS ACADS          35      \n",
       "  ensembl_gene    human_gene_symbol human_entrez_gene human_ensembl_gene gs_id\n",
       "1 ENSG00000165029 ABCA1                19             ENSG00000165029    M5905\n",
       "2 ENSG00000197150 ABCB8             11194             ENSG00000197150    M5905\n",
       "3 ENSG00000167315 ACAA2             10449             ENSG00000167315    M5905\n",
       "4 ENSG00000115361 ACADL                33             ENSG00000115361    M5905\n",
       "5 ENSG00000117054 ACADM                34             ENSG00000117054    M5905\n",
       "6 ENSG00000122971 ACADS                35             ENSG00000122971    M5905\n",
       "  gs_pmid  gs_geoid gs_exact_source gs_url\n",
       "1 26771021                                \n",
       "2 26771021                                \n",
       "3 26771021                                \n",
       "4 26771021                                \n",
       "5 26771021                                \n",
       "6 26771021                                \n",
       "  gs_description                                                     \n",
       "1 Genes up-regulated during adipocyte differentiation (adipogenesis).\n",
       "2 Genes up-regulated during adipocyte differentiation (adipogenesis).\n",
       "3 Genes up-regulated during adipocyte differentiation (adipogenesis).\n",
       "4 Genes up-regulated during adipocyte differentiation (adipogenesis).\n",
       "5 Genes up-regulated during adipocyte differentiation (adipogenesis).\n",
       "6 Genes up-regulated during adipocyte differentiation (adipogenesis)."
      ]
     },
     "metadata": {},
     "output_type": "display_data"
    }
   ],
   "source": [
    "#download human hallmark gene sets\n",
    "h_gene_sets = msigdbr(species = \"human\", category = \"H\")\n",
    "head(h_gene_sets)"
   ]
  },
  {
   "cell_type": "code",
   "execution_count": 7,
   "metadata": {
    "vscode": {
     "languageId": "r"
    }
   },
   "outputs": [
    {
     "data": {
      "text/html": [
       "<style>\n",
       ".list-inline {list-style: none; margin:0; padding: 0}\n",
       ".list-inline>li {display: inline-block}\n",
       ".list-inline>li:not(:last-child)::after {content: \"\\00b7\"; padding: 0 .5ex}\n",
       "</style>\n",
       "<ol class=list-inline><li>'HALLMARK_ADIPOGENESIS'</li><li>'HALLMARK_ALLOGRAFT_REJECTION'</li><li>'HALLMARK_ANDROGEN_RESPONSE'</li><li>'HALLMARK_ANGIOGENESIS'</li><li>'HALLMARK_APICAL_JUNCTION'</li><li>'HALLMARK_APICAL_SURFACE'</li><li>'HALLMARK_APOPTOSIS'</li><li>'HALLMARK_BILE_ACID_METABOLISM'</li><li>'HALLMARK_CHOLESTEROL_HOMEOSTASIS'</li><li>'HALLMARK_COAGULATION'</li><li>'HALLMARK_COMPLEMENT'</li><li>'HALLMARK_DNA_REPAIR'</li><li>'HALLMARK_E2F_TARGETS'</li><li>'HALLMARK_EPITHELIAL_MESENCHYMAL_TRANSITION'</li><li>'HALLMARK_ESTROGEN_RESPONSE_EARLY'</li><li>'HALLMARK_ESTROGEN_RESPONSE_LATE'</li><li>'HALLMARK_FATTY_ACID_METABOLISM'</li><li>'HALLMARK_G2M_CHECKPOINT'</li><li>'HALLMARK_GLYCOLYSIS'</li><li>'HALLMARK_HEDGEHOG_SIGNALING'</li><li>'HALLMARK_HEME_METABOLISM'</li><li>'HALLMARK_HYPOXIA'</li><li>'HALLMARK_IL2_STAT5_SIGNALING'</li><li>'HALLMARK_IL6_JAK_STAT3_SIGNALING'</li><li>'HALLMARK_INFLAMMATORY_RESPONSE'</li><li>'HALLMARK_INTERFERON_ALPHA_RESPONSE'</li><li>'HALLMARK_INTERFERON_GAMMA_RESPONSE'</li><li>'HALLMARK_KRAS_SIGNALING_DN'</li><li>'HALLMARK_KRAS_SIGNALING_UP'</li><li>'HALLMARK_MITOTIC_SPINDLE'</li><li>'HALLMARK_MTORC1_SIGNALING'</li><li>'HALLMARK_MYC_TARGETS_V1'</li><li>'HALLMARK_MYC_TARGETS_V2'</li><li>'HALLMARK_MYOGENESIS'</li><li>'HALLMARK_NOTCH_SIGNALING'</li><li>'HALLMARK_OXIDATIVE_PHOSPHORYLATION'</li><li>'HALLMARK_P53_PATHWAY'</li><li>'HALLMARK_PANCREAS_BETA_CELLS'</li><li>'HALLMARK_PEROXISOME'</li><li>'HALLMARK_PI3K_AKT_MTOR_SIGNALING'</li><li>'HALLMARK_PROTEIN_SECRETION'</li><li>'HALLMARK_REACTIVE_OXYGEN_SPECIES_PATHWAY'</li><li>'HALLMARK_SPERMATOGENESIS'</li><li>'HALLMARK_TGF_BETA_SIGNALING'</li><li>'HALLMARK_TNFA_SIGNALING_VIA_NFKB'</li><li>'HALLMARK_UNFOLDED_PROTEIN_RESPONSE'</li><li>'HALLMARK_UV_RESPONSE_DN'</li><li>'HALLMARK_UV_RESPONSE_UP'</li><li>'HALLMARK_WNT_BETA_CATENIN_SIGNALING'</li><li>'HALLMARK_XENOBIOTIC_METABOLISM'</li></ol>\n"
      ],
      "text/latex": [
       "\\begin{enumerate*}\n",
       "\\item 'HALLMARK\\_ADIPOGENESIS'\n",
       "\\item 'HALLMARK\\_ALLOGRAFT\\_REJECTION'\n",
       "\\item 'HALLMARK\\_ANDROGEN\\_RESPONSE'\n",
       "\\item 'HALLMARK\\_ANGIOGENESIS'\n",
       "\\item 'HALLMARK\\_APICAL\\_JUNCTION'\n",
       "\\item 'HALLMARK\\_APICAL\\_SURFACE'\n",
       "\\item 'HALLMARK\\_APOPTOSIS'\n",
       "\\item 'HALLMARK\\_BILE\\_ACID\\_METABOLISM'\n",
       "\\item 'HALLMARK\\_CHOLESTEROL\\_HOMEOSTASIS'\n",
       "\\item 'HALLMARK\\_COAGULATION'\n",
       "\\item 'HALLMARK\\_COMPLEMENT'\n",
       "\\item 'HALLMARK\\_DNA\\_REPAIR'\n",
       "\\item 'HALLMARK\\_E2F\\_TARGETS'\n",
       "\\item 'HALLMARK\\_EPITHELIAL\\_MESENCHYMAL\\_TRANSITION'\n",
       "\\item 'HALLMARK\\_ESTROGEN\\_RESPONSE\\_EARLY'\n",
       "\\item 'HALLMARK\\_ESTROGEN\\_RESPONSE\\_LATE'\n",
       "\\item 'HALLMARK\\_FATTY\\_ACID\\_METABOLISM'\n",
       "\\item 'HALLMARK\\_G2M\\_CHECKPOINT'\n",
       "\\item 'HALLMARK\\_GLYCOLYSIS'\n",
       "\\item 'HALLMARK\\_HEDGEHOG\\_SIGNALING'\n",
       "\\item 'HALLMARK\\_HEME\\_METABOLISM'\n",
       "\\item 'HALLMARK\\_HYPOXIA'\n",
       "\\item 'HALLMARK\\_IL2\\_STAT5\\_SIGNALING'\n",
       "\\item 'HALLMARK\\_IL6\\_JAK\\_STAT3\\_SIGNALING'\n",
       "\\item 'HALLMARK\\_INFLAMMATORY\\_RESPONSE'\n",
       "\\item 'HALLMARK\\_INTERFERON\\_ALPHA\\_RESPONSE'\n",
       "\\item 'HALLMARK\\_INTERFERON\\_GAMMA\\_RESPONSE'\n",
       "\\item 'HALLMARK\\_KRAS\\_SIGNALING\\_DN'\n",
       "\\item 'HALLMARK\\_KRAS\\_SIGNALING\\_UP'\n",
       "\\item 'HALLMARK\\_MITOTIC\\_SPINDLE'\n",
       "\\item 'HALLMARK\\_MTORC1\\_SIGNALING'\n",
       "\\item 'HALLMARK\\_MYC\\_TARGETS\\_V1'\n",
       "\\item 'HALLMARK\\_MYC\\_TARGETS\\_V2'\n",
       "\\item 'HALLMARK\\_MYOGENESIS'\n",
       "\\item 'HALLMARK\\_NOTCH\\_SIGNALING'\n",
       "\\item 'HALLMARK\\_OXIDATIVE\\_PHOSPHORYLATION'\n",
       "\\item 'HALLMARK\\_P53\\_PATHWAY'\n",
       "\\item 'HALLMARK\\_PANCREAS\\_BETA\\_CELLS'\n",
       "\\item 'HALLMARK\\_PEROXISOME'\n",
       "\\item 'HALLMARK\\_PI3K\\_AKT\\_MTOR\\_SIGNALING'\n",
       "\\item 'HALLMARK\\_PROTEIN\\_SECRETION'\n",
       "\\item 'HALLMARK\\_REACTIVE\\_OXYGEN\\_SPECIES\\_PATHWAY'\n",
       "\\item 'HALLMARK\\_SPERMATOGENESIS'\n",
       "\\item 'HALLMARK\\_TGF\\_BETA\\_SIGNALING'\n",
       "\\item 'HALLMARK\\_TNFA\\_SIGNALING\\_VIA\\_NFKB'\n",
       "\\item 'HALLMARK\\_UNFOLDED\\_PROTEIN\\_RESPONSE'\n",
       "\\item 'HALLMARK\\_UV\\_RESPONSE\\_DN'\n",
       "\\item 'HALLMARK\\_UV\\_RESPONSE\\_UP'\n",
       "\\item 'HALLMARK\\_WNT\\_BETA\\_CATENIN\\_SIGNALING'\n",
       "\\item 'HALLMARK\\_XENOBIOTIC\\_METABOLISM'\n",
       "\\end{enumerate*}\n"
      ],
      "text/markdown": [
       "1. 'HALLMARK_ADIPOGENESIS'\n",
       "2. 'HALLMARK_ALLOGRAFT_REJECTION'\n",
       "3. 'HALLMARK_ANDROGEN_RESPONSE'\n",
       "4. 'HALLMARK_ANGIOGENESIS'\n",
       "5. 'HALLMARK_APICAL_JUNCTION'\n",
       "6. 'HALLMARK_APICAL_SURFACE'\n",
       "7. 'HALLMARK_APOPTOSIS'\n",
       "8. 'HALLMARK_BILE_ACID_METABOLISM'\n",
       "9. 'HALLMARK_CHOLESTEROL_HOMEOSTASIS'\n",
       "10. 'HALLMARK_COAGULATION'\n",
       "11. 'HALLMARK_COMPLEMENT'\n",
       "12. 'HALLMARK_DNA_REPAIR'\n",
       "13. 'HALLMARK_E2F_TARGETS'\n",
       "14. 'HALLMARK_EPITHELIAL_MESENCHYMAL_TRANSITION'\n",
       "15. 'HALLMARK_ESTROGEN_RESPONSE_EARLY'\n",
       "16. 'HALLMARK_ESTROGEN_RESPONSE_LATE'\n",
       "17. 'HALLMARK_FATTY_ACID_METABOLISM'\n",
       "18. 'HALLMARK_G2M_CHECKPOINT'\n",
       "19. 'HALLMARK_GLYCOLYSIS'\n",
       "20. 'HALLMARK_HEDGEHOG_SIGNALING'\n",
       "21. 'HALLMARK_HEME_METABOLISM'\n",
       "22. 'HALLMARK_HYPOXIA'\n",
       "23. 'HALLMARK_IL2_STAT5_SIGNALING'\n",
       "24. 'HALLMARK_IL6_JAK_STAT3_SIGNALING'\n",
       "25. 'HALLMARK_INFLAMMATORY_RESPONSE'\n",
       "26. 'HALLMARK_INTERFERON_ALPHA_RESPONSE'\n",
       "27. 'HALLMARK_INTERFERON_GAMMA_RESPONSE'\n",
       "28. 'HALLMARK_KRAS_SIGNALING_DN'\n",
       "29. 'HALLMARK_KRAS_SIGNALING_UP'\n",
       "30. 'HALLMARK_MITOTIC_SPINDLE'\n",
       "31. 'HALLMARK_MTORC1_SIGNALING'\n",
       "32. 'HALLMARK_MYC_TARGETS_V1'\n",
       "33. 'HALLMARK_MYC_TARGETS_V2'\n",
       "34. 'HALLMARK_MYOGENESIS'\n",
       "35. 'HALLMARK_NOTCH_SIGNALING'\n",
       "36. 'HALLMARK_OXIDATIVE_PHOSPHORYLATION'\n",
       "37. 'HALLMARK_P53_PATHWAY'\n",
       "38. 'HALLMARK_PANCREAS_BETA_CELLS'\n",
       "39. 'HALLMARK_PEROXISOME'\n",
       "40. 'HALLMARK_PI3K_AKT_MTOR_SIGNALING'\n",
       "41. 'HALLMARK_PROTEIN_SECRETION'\n",
       "42. 'HALLMARK_REACTIVE_OXYGEN_SPECIES_PATHWAY'\n",
       "43. 'HALLMARK_SPERMATOGENESIS'\n",
       "44. 'HALLMARK_TGF_BETA_SIGNALING'\n",
       "45. 'HALLMARK_TNFA_SIGNALING_VIA_NFKB'\n",
       "46. 'HALLMARK_UNFOLDED_PROTEIN_RESPONSE'\n",
       "47. 'HALLMARK_UV_RESPONSE_DN'\n",
       "48. 'HALLMARK_UV_RESPONSE_UP'\n",
       "49. 'HALLMARK_WNT_BETA_CATENIN_SIGNALING'\n",
       "50. 'HALLMARK_XENOBIOTIC_METABOLISM'\n",
       "\n",
       "\n"
      ],
      "text/plain": [
       " [1] \"HALLMARK_ADIPOGENESIS\"                     \n",
       " [2] \"HALLMARK_ALLOGRAFT_REJECTION\"              \n",
       " [3] \"HALLMARK_ANDROGEN_RESPONSE\"                \n",
       " [4] \"HALLMARK_ANGIOGENESIS\"                     \n",
       " [5] \"HALLMARK_APICAL_JUNCTION\"                  \n",
       " [6] \"HALLMARK_APICAL_SURFACE\"                   \n",
       " [7] \"HALLMARK_APOPTOSIS\"                        \n",
       " [8] \"HALLMARK_BILE_ACID_METABOLISM\"             \n",
       " [9] \"HALLMARK_CHOLESTEROL_HOMEOSTASIS\"          \n",
       "[10] \"HALLMARK_COAGULATION\"                      \n",
       "[11] \"HALLMARK_COMPLEMENT\"                       \n",
       "[12] \"HALLMARK_DNA_REPAIR\"                       \n",
       "[13] \"HALLMARK_E2F_TARGETS\"                      \n",
       "[14] \"HALLMARK_EPITHELIAL_MESENCHYMAL_TRANSITION\"\n",
       "[15] \"HALLMARK_ESTROGEN_RESPONSE_EARLY\"          \n",
       "[16] \"HALLMARK_ESTROGEN_RESPONSE_LATE\"           \n",
       "[17] \"HALLMARK_FATTY_ACID_METABOLISM\"            \n",
       "[18] \"HALLMARK_G2M_CHECKPOINT\"                   \n",
       "[19] \"HALLMARK_GLYCOLYSIS\"                       \n",
       "[20] \"HALLMARK_HEDGEHOG_SIGNALING\"               \n",
       "[21] \"HALLMARK_HEME_METABOLISM\"                  \n",
       "[22] \"HALLMARK_HYPOXIA\"                          \n",
       "[23] \"HALLMARK_IL2_STAT5_SIGNALING\"              \n",
       "[24] \"HALLMARK_IL6_JAK_STAT3_SIGNALING\"          \n",
       "[25] \"HALLMARK_INFLAMMATORY_RESPONSE\"            \n",
       "[26] \"HALLMARK_INTERFERON_ALPHA_RESPONSE\"        \n",
       "[27] \"HALLMARK_INTERFERON_GAMMA_RESPONSE\"        \n",
       "[28] \"HALLMARK_KRAS_SIGNALING_DN\"                \n",
       "[29] \"HALLMARK_KRAS_SIGNALING_UP\"                \n",
       "[30] \"HALLMARK_MITOTIC_SPINDLE\"                  \n",
       "[31] \"HALLMARK_MTORC1_SIGNALING\"                 \n",
       "[32] \"HALLMARK_MYC_TARGETS_V1\"                   \n",
       "[33] \"HALLMARK_MYC_TARGETS_V2\"                   \n",
       "[34] \"HALLMARK_MYOGENESIS\"                       \n",
       "[35] \"HALLMARK_NOTCH_SIGNALING\"                  \n",
       "[36] \"HALLMARK_OXIDATIVE_PHOSPHORYLATION\"        \n",
       "[37] \"HALLMARK_P53_PATHWAY\"                      \n",
       "[38] \"HALLMARK_PANCREAS_BETA_CELLS\"              \n",
       "[39] \"HALLMARK_PEROXISOME\"                       \n",
       "[40] \"HALLMARK_PI3K_AKT_MTOR_SIGNALING\"          \n",
       "[41] \"HALLMARK_PROTEIN_SECRETION\"                \n",
       "[42] \"HALLMARK_REACTIVE_OXYGEN_SPECIES_PATHWAY\"  \n",
       "[43] \"HALLMARK_SPERMATOGENESIS\"                  \n",
       "[44] \"HALLMARK_TGF_BETA_SIGNALING\"               \n",
       "[45] \"HALLMARK_TNFA_SIGNALING_VIA_NFKB\"          \n",
       "[46] \"HALLMARK_UNFOLDED_PROTEIN_RESPONSE\"        \n",
       "[47] \"HALLMARK_UV_RESPONSE_DN\"                   \n",
       "[48] \"HALLMARK_UV_RESPONSE_UP\"                   \n",
       "[49] \"HALLMARK_WNT_BETA_CATENIN_SIGNALING\"       \n",
       "[50] \"HALLMARK_XENOBIOTIC_METABOLISM\"            "
      ]
     },
     "metadata": {},
     "output_type": "display_data"
    }
   ],
   "source": [
    "unique(h_gene_sets$gs_name)"
   ]
  },
  {
   "cell_type": "code",
   "execution_count": 9,
   "metadata": {
    "vscode": {
     "languageId": "r"
    }
   },
   "outputs": [
    {
     "data": {
      "text/html": [
       "<table class=\"dataframe\">\n",
       "<caption>A tibble: 6 × 15</caption>\n",
       "<thead>\n",
       "\t<tr><th scope=col>gs_cat</th><th scope=col>gs_subcat</th><th scope=col>gs_name</th><th scope=col>gene_symbol</th><th scope=col>entrez_gene</th><th scope=col>ensembl_gene</th><th scope=col>human_gene_symbol</th><th scope=col>human_entrez_gene</th><th scope=col>human_ensembl_gene</th><th scope=col>gs_id</th><th scope=col>gs_pmid</th><th scope=col>gs_geoid</th><th scope=col>gs_exact_source</th><th scope=col>gs_url</th><th scope=col>gs_description</th></tr>\n",
       "\t<tr><th scope=col>&lt;chr&gt;</th><th scope=col>&lt;chr&gt;</th><th scope=col>&lt;chr&gt;</th><th scope=col>&lt;chr&gt;</th><th scope=col>&lt;int&gt;</th><th scope=col>&lt;chr&gt;</th><th scope=col>&lt;chr&gt;</th><th scope=col>&lt;int&gt;</th><th scope=col>&lt;chr&gt;</th><th scope=col>&lt;chr&gt;</th><th scope=col>&lt;chr&gt;</th><th scope=col>&lt;chr&gt;</th><th scope=col>&lt;chr&gt;</th><th scope=col>&lt;chr&gt;</th><th scope=col>&lt;chr&gt;</th></tr>\n",
       "</thead>\n",
       "<tbody>\n",
       "\t<tr><td>H</td><td></td><td>HALLMARK_ADIPOGENESIS</td><td>ABCA1</td><td>   19</td><td>ENSG00000165029</td><td>ABCA1</td><td>   19</td><td>ENSG00000165029</td><td>M5905</td><td>26771021</td><td></td><td></td><td></td><td>Genes up-regulated during adipocyte differentiation (adipogenesis).</td></tr>\n",
       "\t<tr><td>H</td><td></td><td>HALLMARK_ADIPOGENESIS</td><td>ABCB8</td><td>11194</td><td>ENSG00000197150</td><td>ABCB8</td><td>11194</td><td>ENSG00000197150</td><td>M5905</td><td>26771021</td><td></td><td></td><td></td><td>Genes up-regulated during adipocyte differentiation (adipogenesis).</td></tr>\n",
       "\t<tr><td>H</td><td></td><td>HALLMARK_ADIPOGENESIS</td><td>ACAA2</td><td>10449</td><td>ENSG00000167315</td><td>ACAA2</td><td>10449</td><td>ENSG00000167315</td><td>M5905</td><td>26771021</td><td></td><td></td><td></td><td>Genes up-regulated during adipocyte differentiation (adipogenesis).</td></tr>\n",
       "\t<tr><td>H</td><td></td><td>HALLMARK_ADIPOGENESIS</td><td>ACADL</td><td>   33</td><td>ENSG00000115361</td><td>ACADL</td><td>   33</td><td>ENSG00000115361</td><td>M5905</td><td>26771021</td><td></td><td></td><td></td><td>Genes up-regulated during adipocyte differentiation (adipogenesis).</td></tr>\n",
       "\t<tr><td>H</td><td></td><td>HALLMARK_ADIPOGENESIS</td><td>ACADM</td><td>   34</td><td>ENSG00000117054</td><td>ACADM</td><td>   34</td><td>ENSG00000117054</td><td>M5905</td><td>26771021</td><td></td><td></td><td></td><td>Genes up-regulated during adipocyte differentiation (adipogenesis).</td></tr>\n",
       "\t<tr><td>H</td><td></td><td>HALLMARK_ADIPOGENESIS</td><td>ACADS</td><td>   35</td><td>ENSG00000122971</td><td>ACADS</td><td>   35</td><td>ENSG00000122971</td><td>M5905</td><td>26771021</td><td></td><td></td><td></td><td>Genes up-regulated during adipocyte differentiation (adipogenesis).</td></tr>\n",
       "</tbody>\n",
       "</table>\n"
      ],
      "text/latex": [
       "A tibble: 6 × 15\n",
       "\\begin{tabular}{lllllllllllllll}\n",
       " gs\\_cat & gs\\_subcat & gs\\_name & gene\\_symbol & entrez\\_gene & ensembl\\_gene & human\\_gene\\_symbol & human\\_entrez\\_gene & human\\_ensembl\\_gene & gs\\_id & gs\\_pmid & gs\\_geoid & gs\\_exact\\_source & gs\\_url & gs\\_description\\\\\n",
       " <chr> & <chr> & <chr> & <chr> & <int> & <chr> & <chr> & <int> & <chr> & <chr> & <chr> & <chr> & <chr> & <chr> & <chr>\\\\\n",
       "\\hline\n",
       "\t H &  & HALLMARK\\_ADIPOGENESIS & ABCA1 &    19 & ENSG00000165029 & ABCA1 &    19 & ENSG00000165029 & M5905 & 26771021 &  &  &  & Genes up-regulated during adipocyte differentiation (adipogenesis).\\\\\n",
       "\t H &  & HALLMARK\\_ADIPOGENESIS & ABCB8 & 11194 & ENSG00000197150 & ABCB8 & 11194 & ENSG00000197150 & M5905 & 26771021 &  &  &  & Genes up-regulated during adipocyte differentiation (adipogenesis).\\\\\n",
       "\t H &  & HALLMARK\\_ADIPOGENESIS & ACAA2 & 10449 & ENSG00000167315 & ACAA2 & 10449 & ENSG00000167315 & M5905 & 26771021 &  &  &  & Genes up-regulated during adipocyte differentiation (adipogenesis).\\\\\n",
       "\t H &  & HALLMARK\\_ADIPOGENESIS & ACADL &    33 & ENSG00000115361 & ACADL &    33 & ENSG00000115361 & M5905 & 26771021 &  &  &  & Genes up-regulated during adipocyte differentiation (adipogenesis).\\\\\n",
       "\t H &  & HALLMARK\\_ADIPOGENESIS & ACADM &    34 & ENSG00000117054 & ACADM &    34 & ENSG00000117054 & M5905 & 26771021 &  &  &  & Genes up-regulated during adipocyte differentiation (adipogenesis).\\\\\n",
       "\t H &  & HALLMARK\\_ADIPOGENESIS & ACADS &    35 & ENSG00000122971 & ACADS &    35 & ENSG00000122971 & M5905 & 26771021 &  &  &  & Genes up-regulated during adipocyte differentiation (adipogenesis).\\\\\n",
       "\\end{tabular}\n"
      ],
      "text/markdown": [
       "\n",
       "A tibble: 6 × 15\n",
       "\n",
       "| gs_cat &lt;chr&gt; | gs_subcat &lt;chr&gt; | gs_name &lt;chr&gt; | gene_symbol &lt;chr&gt; | entrez_gene &lt;int&gt; | ensembl_gene &lt;chr&gt; | human_gene_symbol &lt;chr&gt; | human_entrez_gene &lt;int&gt; | human_ensembl_gene &lt;chr&gt; | gs_id &lt;chr&gt; | gs_pmid &lt;chr&gt; | gs_geoid &lt;chr&gt; | gs_exact_source &lt;chr&gt; | gs_url &lt;chr&gt; | gs_description &lt;chr&gt; |\n",
       "|---|---|---|---|---|---|---|---|---|---|---|---|---|---|---|\n",
       "| H | <!----> | HALLMARK_ADIPOGENESIS | ABCA1 |    19 | ENSG00000165029 | ABCA1 |    19 | ENSG00000165029 | M5905 | 26771021 | <!----> | <!----> | <!----> | Genes up-regulated during adipocyte differentiation (adipogenesis). |\n",
       "| H | <!----> | HALLMARK_ADIPOGENESIS | ABCB8 | 11194 | ENSG00000197150 | ABCB8 | 11194 | ENSG00000197150 | M5905 | 26771021 | <!----> | <!----> | <!----> | Genes up-regulated during adipocyte differentiation (adipogenesis). |\n",
       "| H | <!----> | HALLMARK_ADIPOGENESIS | ACAA2 | 10449 | ENSG00000167315 | ACAA2 | 10449 | ENSG00000167315 | M5905 | 26771021 | <!----> | <!----> | <!----> | Genes up-regulated during adipocyte differentiation (adipogenesis). |\n",
       "| H | <!----> | HALLMARK_ADIPOGENESIS | ACADL |    33 | ENSG00000115361 | ACADL |    33 | ENSG00000115361 | M5905 | 26771021 | <!----> | <!----> | <!----> | Genes up-regulated during adipocyte differentiation (adipogenesis). |\n",
       "| H | <!----> | HALLMARK_ADIPOGENESIS | ACADM |    34 | ENSG00000117054 | ACADM |    34 | ENSG00000117054 | M5905 | 26771021 | <!----> | <!----> | <!----> | Genes up-regulated during adipocyte differentiation (adipogenesis). |\n",
       "| H | <!----> | HALLMARK_ADIPOGENESIS | ACADS |    35 | ENSG00000122971 | ACADS |    35 | ENSG00000122971 | M5905 | 26771021 | <!----> | <!----> | <!----> | Genes up-regulated during adipocyte differentiation (adipogenesis). |\n",
       "\n"
      ],
      "text/plain": [
       "  gs_cat gs_subcat gs_name               gene_symbol entrez_gene\n",
       "1 H                HALLMARK_ADIPOGENESIS ABCA1          19      \n",
       "2 H                HALLMARK_ADIPOGENESIS ABCB8       11194      \n",
       "3 H                HALLMARK_ADIPOGENESIS ACAA2       10449      \n",
       "4 H                HALLMARK_ADIPOGENESIS ACADL          33      \n",
       "5 H                HALLMARK_ADIPOGENESIS ACADM          34      \n",
       "6 H                HALLMARK_ADIPOGENESIS ACADS          35      \n",
       "  ensembl_gene    human_gene_symbol human_entrez_gene human_ensembl_gene gs_id\n",
       "1 ENSG00000165029 ABCA1                19             ENSG00000165029    M5905\n",
       "2 ENSG00000197150 ABCB8             11194             ENSG00000197150    M5905\n",
       "3 ENSG00000167315 ACAA2             10449             ENSG00000167315    M5905\n",
       "4 ENSG00000115361 ACADL                33             ENSG00000115361    M5905\n",
       "5 ENSG00000117054 ACADM                34             ENSG00000117054    M5905\n",
       "6 ENSG00000122971 ACADS                35             ENSG00000122971    M5905\n",
       "  gs_pmid  gs_geoid gs_exact_source gs_url\n",
       "1 26771021                                \n",
       "2 26771021                                \n",
       "3 26771021                                \n",
       "4 26771021                                \n",
       "5 26771021                                \n",
       "6 26771021                                \n",
       "  gs_description                                                     \n",
       "1 Genes up-regulated during adipocyte differentiation (adipogenesis).\n",
       "2 Genes up-regulated during adipocyte differentiation (adipogenesis).\n",
       "3 Genes up-regulated during adipocyte differentiation (adipogenesis).\n",
       "4 Genes up-regulated during adipocyte differentiation (adipogenesis).\n",
       "5 Genes up-regulated during adipocyte differentiation (adipogenesis).\n",
       "6 Genes up-regulated during adipocyte differentiation (adipogenesis)."
      ]
     },
     "metadata": {},
     "output_type": "display_data"
    }
   ],
   "source": [
    "#seperate table based on gs_name (dataframe becomes a list of smaller dataframes based on gs_name)\n",
    "h_sets_list <- split(h_gene_sets, h_gene_sets$gs_name)\n",
    "head(h_sets_list$HALLMARK_ADIPOGENESIS)"
   ]
  },
  {
   "cell_type": "code",
   "execution_count": 14,
   "metadata": {
    "vscode": {
     "languageId": "r"
    }
   },
   "outputs": [],
   "source": [
    "#save as a excel file (each sheet will be a seperate gene set/ dataframe)\n",
    "library(openxlsx)\n",
    "\n",
    "# Assign numeric sheet names (keeping it as the gene_set names made the sheet names too long)\n",
    "numeric_names <- paste0(\"Sheet\", seq_along(h_sets_list))\n",
    "\n",
    "# Write to Excel\n",
    "write.xlsx(h_sets_list, file = \"hallmark_sets.xlsx\", sheetName = numeric_names)"
   ]
  }
 ],
 "metadata": {
  "kernelspec": {
   "display_name": "R",
   "language": "R",
   "name": "ir"
  },
  "language_info": {
   "codemirror_mode": "r",
   "file_extension": ".r",
   "mimetype": "text/x-r-source",
   "name": "R",
   "pygments_lexer": "r",
   "version": "4.3.3"
  }
 },
 "nbformat": 4,
 "nbformat_minor": 2
}
