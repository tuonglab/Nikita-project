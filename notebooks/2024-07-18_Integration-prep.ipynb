{
 "cells": [
  {
   "cell_type": "markdown",
   "metadata": {},
   "source": [
    "This notebook is for preparing all datasets for integration. \n",
    "\n",
    "This involves:\n",
    "* reading in each dataset\n",
    "* check metadata all correct\n",
    "* add additional metadata regarding site and cancer_subtype\n",
    "* add metadata for sample_type_major\n",
    "* add metadata for integration_id --> samples that are not biologically distinct (eg. two biopsies from one tumour) get same id\n",
    "* use integration id to merge layers --> layers in dataset will represent how they will be integrated \n",
    "* exclude any samples with <100 myeloid cells\n",
    "* record number of cells\n",
    "\n",
    "Backing up to rdm: \n",
    "``` bash\n",
    "rsync -azvhp /scratch/user/s4436039/scdata/Myeloid_Cells/Myeloid_Cells_Integrate/ /QRISdata/Q5935/nikita/scdata/Myeloid_Cells/Myeloid_Cells_Integrate\n",
    "```"
   ]
  },
  {
   "cell_type": "code",
   "execution_count": 1,
   "metadata": {
    "vscode": {
     "languageId": "r"
    }
   },
   "outputs": [
    {
     "data": {
      "text/html": [
       "'/scratch/user/s4436039/Nikita-project'"
      ],
      "text/latex": [
       "'/scratch/user/s4436039/Nikita-project'"
      ],
      "text/markdown": [
       "'/scratch/user/s4436039/Nikita-project'"
      ],
      "text/plain": [
       "[1] \"/scratch/user/s4436039/Nikita-project\""
      ]
     },
     "metadata": {},
     "output_type": "display_data"
    },
    {
     "data": {
      "text/html": [
       "'/scratch/user/s4436039/scdata/Myeloid_Cells'"
      ],
      "text/latex": [
       "'/scratch/user/s4436039/scdata/Myeloid\\_Cells'"
      ],
      "text/markdown": [
       "'/scratch/user/s4436039/scdata/Myeloid_Cells'"
      ],
      "text/plain": [
       "[1] \"/scratch/user/s4436039/scdata/Myeloid_Cells\""
      ]
     },
     "metadata": {},
     "output_type": "display_data"
    }
   ],
   "source": [
    "#set wd\n",
    "getwd()\n",
    "setwd('/scratch/user/s4436039/scdata/Myeloid_Cells')\n",
    "getwd()"
   ]
  },
  {
   "cell_type": "code",
   "execution_count": 2,
   "metadata": {
    "vscode": {
     "languageId": "r"
    }
   },
   "outputs": [
    {
     "name": "stderr",
     "output_type": "stream",
     "text": [
      "\n",
      "Attaching package: ‘dplyr’\n",
      "\n",
      "\n",
      "The following objects are masked from ‘package:stats’:\n",
      "\n",
      "    filter, lag\n",
      "\n",
      "\n",
      "The following objects are masked from ‘package:base’:\n",
      "\n",
      "    intersect, setdiff, setequal, union\n",
      "\n",
      "\n",
      "Loading required package: SeuratObject\n",
      "\n",
      "Loading required package: sp\n",
      "\n",
      "\n",
      "Attaching package: ‘SeuratObject’\n",
      "\n",
      "\n",
      "The following object is masked from ‘package:base’:\n",
      "\n",
      "    intersect\n",
      "\n",
      "\n"
     ]
    }
   ],
   "source": [
    "#Load packages\n",
    "library(dplyr)\n",
    "library(Seurat)\n",
    "library(patchwork)"
   ]
  },
  {
   "cell_type": "markdown",
   "metadata": {},
   "source": [
    "## GSE184880"
   ]
  },
  {
   "cell_type": "code",
   "execution_count": 41,
   "metadata": {
    "vscode": {
     "languageId": "r"
    }
   },
   "outputs": [],
   "source": [
    "HGSOC <- readRDS(\"/scratch/user/s4436039/scdata/Myeloid_Cells/GSE184880_myeloid.RDS\")"
   ]
  },
  {
   "cell_type": "code",
   "execution_count": 42,
   "metadata": {
    "vscode": {
     "languageId": "r"
    }
   },
   "outputs": [
    {
     "data": {
      "text/plain": [
       "An object of class Seurat \n",
       "27984 features across 7799 samples within 1 assay \n",
       "Active assay: RNA (27984 features, 2000 variable features)\n",
       " 25 layers present: counts.1, counts.2, counts.3, counts.4, counts.5, counts.6, counts.7, counts.8, counts.9, counts.10, counts.11, counts.12, data.1, data.2, data.3, data.4, data.5, data.6, data.7, data.8, data.9, data.10, data.11, data.12, scale.data\n",
       " 2 dimensional reductions calculated: pca, umap"
      ]
     },
     "metadata": {},
     "output_type": "display_data"
    },
    {
     "data": {
      "text/html": [
       "'GSE184880'"
      ],
      "text/latex": [
       "'GSE184880'"
      ],
      "text/markdown": [
       "'GSE184880'"
      ],
      "text/plain": [
       "[1] \"GSE184880\""
      ]
     },
     "metadata": {},
     "output_type": "display_data"
    },
    {
     "data": {
      "text/html": [
       "<table class=\"dataframe\">\n",
       "<caption>A data.frame: 6 × 10</caption>\n",
       "<thead>\n",
       "\t<tr><th></th><th scope=col>orig.ident</th><th scope=col>nCount_RNA</th><th scope=col>nFeature_RNA</th><th scope=col>sample_type</th><th scope=col>cancer_type</th><th scope=col>patient_id</th><th scope=col>sample_id</th><th scope=col>percent.mt</th><th scope=col>RNA_snn_res.0.2</th><th scope=col>seurat_clusters</th></tr>\n",
       "\t<tr><th></th><th scope=col>&lt;chr&gt;</th><th scope=col>&lt;dbl&gt;</th><th scope=col>&lt;int&gt;</th><th scope=col>&lt;chr&gt;</th><th scope=col>&lt;chr&gt;</th><th scope=col>&lt;chr&gt;</th><th scope=col>&lt;chr&gt;</th><th scope=col>&lt;dbl&gt;</th><th scope=col>&lt;fct&gt;</th><th scope=col>&lt;fct&gt;</th></tr>\n",
       "</thead>\n",
       "<tbody>\n",
       "\t<tr><th scope=row>GSE184880_Cancer1_AAACCCACAGCTGCCA-1</th><td>GSE184880</td><td> 9374</td><td>2655</td><td>tumour</td><td>HGSOC</td><td>Cancer1</td><td>GSE184880_HGSOC_Cancer1</td><td>15.980371</td><td>1</td><td>1</td></tr>\n",
       "\t<tr><th scope=row>GSE184880_Cancer1_AAACCCACATGACGGA-1</th><td>GSE184880</td><td> 2659</td><td>1246</td><td>tumour</td><td>HGSOC</td><td>Cancer1</td><td>GSE184880_HGSOC_Cancer1</td><td> 8.837909</td><td>1</td><td>1</td></tr>\n",
       "\t<tr><th scope=row>GSE184880_Cancer1_AAACGAACAGTAGTGG-1</th><td>GSE184880</td><td> 3020</td><td>1206</td><td>tumour</td><td>HGSOC</td><td>Cancer1</td><td>GSE184880_HGSOC_Cancer1</td><td>13.807947</td><td>1</td><td>1</td></tr>\n",
       "\t<tr><th scope=row>GSE184880_Cancer1_AAACGAATCACCCTCA-1</th><td>GSE184880</td><td>50940</td><td>6660</td><td>tumour</td><td>HGSOC</td><td>Cancer1</td><td>GSE184880_HGSOC_Cancer1</td><td> 8.531606</td><td>1</td><td>1</td></tr>\n",
       "\t<tr><th scope=row>GSE184880_Cancer1_AAACGCTTCTCCACTG-1</th><td>GSE184880</td><td>10129</td><td>2880</td><td>tumour</td><td>HGSOC</td><td>Cancer1</td><td>GSE184880_HGSOC_Cancer1</td><td>11.225195</td><td>1</td><td>1</td></tr>\n",
       "\t<tr><th scope=row>GSE184880_Cancer1_AAACGCTTCTGCTCTG-1</th><td>GSE184880</td><td>12756</td><td>3352</td><td>tumour</td><td>HGSOC</td><td>Cancer1</td><td>GSE184880_HGSOC_Cancer1</td><td> 9.321104</td><td>1</td><td>1</td></tr>\n",
       "</tbody>\n",
       "</table>\n"
      ],
      "text/latex": [
       "A data.frame: 6 × 10\n",
       "\\begin{tabular}{r|llllllllll}\n",
       "  & orig.ident & nCount\\_RNA & nFeature\\_RNA & sample\\_type & cancer\\_type & patient\\_id & sample\\_id & percent.mt & RNA\\_snn\\_res.0.2 & seurat\\_clusters\\\\\n",
       "  & <chr> & <dbl> & <int> & <chr> & <chr> & <chr> & <chr> & <dbl> & <fct> & <fct>\\\\\n",
       "\\hline\n",
       "\tGSE184880\\_Cancer1\\_AAACCCACAGCTGCCA-1 & GSE184880 &  9374 & 2655 & tumour & HGSOC & Cancer1 & GSE184880\\_HGSOC\\_Cancer1 & 15.980371 & 1 & 1\\\\\n",
       "\tGSE184880\\_Cancer1\\_AAACCCACATGACGGA-1 & GSE184880 &  2659 & 1246 & tumour & HGSOC & Cancer1 & GSE184880\\_HGSOC\\_Cancer1 &  8.837909 & 1 & 1\\\\\n",
       "\tGSE184880\\_Cancer1\\_AAACGAACAGTAGTGG-1 & GSE184880 &  3020 & 1206 & tumour & HGSOC & Cancer1 & GSE184880\\_HGSOC\\_Cancer1 & 13.807947 & 1 & 1\\\\\n",
       "\tGSE184880\\_Cancer1\\_AAACGAATCACCCTCA-1 & GSE184880 & 50940 & 6660 & tumour & HGSOC & Cancer1 & GSE184880\\_HGSOC\\_Cancer1 &  8.531606 & 1 & 1\\\\\n",
       "\tGSE184880\\_Cancer1\\_AAACGCTTCTCCACTG-1 & GSE184880 & 10129 & 2880 & tumour & HGSOC & Cancer1 & GSE184880\\_HGSOC\\_Cancer1 & 11.225195 & 1 & 1\\\\\n",
       "\tGSE184880\\_Cancer1\\_AAACGCTTCTGCTCTG-1 & GSE184880 & 12756 & 3352 & tumour & HGSOC & Cancer1 & GSE184880\\_HGSOC\\_Cancer1 &  9.321104 & 1 & 1\\\\\n",
       "\\end{tabular}\n"
      ],
      "text/markdown": [
       "\n",
       "A data.frame: 6 × 10\n",
       "\n",
       "| <!--/--> | orig.ident &lt;chr&gt; | nCount_RNA &lt;dbl&gt; | nFeature_RNA &lt;int&gt; | sample_type &lt;chr&gt; | cancer_type &lt;chr&gt; | patient_id &lt;chr&gt; | sample_id &lt;chr&gt; | percent.mt &lt;dbl&gt; | RNA_snn_res.0.2 &lt;fct&gt; | seurat_clusters &lt;fct&gt; |\n",
       "|---|---|---|---|---|---|---|---|---|---|---|\n",
       "| GSE184880_Cancer1_AAACCCACAGCTGCCA-1 | GSE184880 |  9374 | 2655 | tumour | HGSOC | Cancer1 | GSE184880_HGSOC_Cancer1 | 15.980371 | 1 | 1 |\n",
       "| GSE184880_Cancer1_AAACCCACATGACGGA-1 | GSE184880 |  2659 | 1246 | tumour | HGSOC | Cancer1 | GSE184880_HGSOC_Cancer1 |  8.837909 | 1 | 1 |\n",
       "| GSE184880_Cancer1_AAACGAACAGTAGTGG-1 | GSE184880 |  3020 | 1206 | tumour | HGSOC | Cancer1 | GSE184880_HGSOC_Cancer1 | 13.807947 | 1 | 1 |\n",
       "| GSE184880_Cancer1_AAACGAATCACCCTCA-1 | GSE184880 | 50940 | 6660 | tumour | HGSOC | Cancer1 | GSE184880_HGSOC_Cancer1 |  8.531606 | 1 | 1 |\n",
       "| GSE184880_Cancer1_AAACGCTTCTCCACTG-1 | GSE184880 | 10129 | 2880 | tumour | HGSOC | Cancer1 | GSE184880_HGSOC_Cancer1 | 11.225195 | 1 | 1 |\n",
       "| GSE184880_Cancer1_AAACGCTTCTGCTCTG-1 | GSE184880 | 12756 | 3352 | tumour | HGSOC | Cancer1 | GSE184880_HGSOC_Cancer1 |  9.321104 | 1 | 1 |\n",
       "\n"
      ],
      "text/plain": [
       "                                     orig.ident nCount_RNA nFeature_RNA\n",
       "GSE184880_Cancer1_AAACCCACAGCTGCCA-1 GSE184880   9374      2655        \n",
       "GSE184880_Cancer1_AAACCCACATGACGGA-1 GSE184880   2659      1246        \n",
       "GSE184880_Cancer1_AAACGAACAGTAGTGG-1 GSE184880   3020      1206        \n",
       "GSE184880_Cancer1_AAACGAATCACCCTCA-1 GSE184880  50940      6660        \n",
       "GSE184880_Cancer1_AAACGCTTCTCCACTG-1 GSE184880  10129      2880        \n",
       "GSE184880_Cancer1_AAACGCTTCTGCTCTG-1 GSE184880  12756      3352        \n",
       "                                     sample_type cancer_type patient_id\n",
       "GSE184880_Cancer1_AAACCCACAGCTGCCA-1 tumour      HGSOC       Cancer1   \n",
       "GSE184880_Cancer1_AAACCCACATGACGGA-1 tumour      HGSOC       Cancer1   \n",
       "GSE184880_Cancer1_AAACGAACAGTAGTGG-1 tumour      HGSOC       Cancer1   \n",
       "GSE184880_Cancer1_AAACGAATCACCCTCA-1 tumour      HGSOC       Cancer1   \n",
       "GSE184880_Cancer1_AAACGCTTCTCCACTG-1 tumour      HGSOC       Cancer1   \n",
       "GSE184880_Cancer1_AAACGCTTCTGCTCTG-1 tumour      HGSOC       Cancer1   \n",
       "                                     sample_id               percent.mt\n",
       "GSE184880_Cancer1_AAACCCACAGCTGCCA-1 GSE184880_HGSOC_Cancer1 15.980371 \n",
       "GSE184880_Cancer1_AAACCCACATGACGGA-1 GSE184880_HGSOC_Cancer1  8.837909 \n",
       "GSE184880_Cancer1_AAACGAACAGTAGTGG-1 GSE184880_HGSOC_Cancer1 13.807947 \n",
       "GSE184880_Cancer1_AAACGAATCACCCTCA-1 GSE184880_HGSOC_Cancer1  8.531606 \n",
       "GSE184880_Cancer1_AAACGCTTCTCCACTG-1 GSE184880_HGSOC_Cancer1 11.225195 \n",
       "GSE184880_Cancer1_AAACGCTTCTGCTCTG-1 GSE184880_HGSOC_Cancer1  9.321104 \n",
       "                                     RNA_snn_res.0.2 seurat_clusters\n",
       "GSE184880_Cancer1_AAACCCACAGCTGCCA-1 1               1              \n",
       "GSE184880_Cancer1_AAACCCACATGACGGA-1 1               1              \n",
       "GSE184880_Cancer1_AAACGAACAGTAGTGG-1 1               1              \n",
       "GSE184880_Cancer1_AAACGAATCACCCTCA-1 1               1              \n",
       "GSE184880_Cancer1_AAACGCTTCTCCACTG-1 1               1              \n",
       "GSE184880_Cancer1_AAACGCTTCTGCTCTG-1 1               1              "
      ]
     },
     "metadata": {},
     "output_type": "display_data"
    }
   ],
   "source": [
    "HGSOC\n",
    "HGSOC@project.name\n",
    "head(HGSOC@meta.data)"
   ]
  },
  {
   "cell_type": "code",
   "execution_count": 43,
   "metadata": {
    "vscode": {
     "languageId": "r"
    }
   },
   "outputs": [
    {
     "data": {
      "text/plain": [
       "\n",
       "Healthy_ovary        tumour \n",
       "         1457          6342 "
      ]
     },
     "metadata": {},
     "output_type": "display_data"
    },
    {
     "data": {
      "text/plain": [
       "\n",
       "Healthy   HGSOC \n",
       "   1457    6342 "
      ]
     },
     "metadata": {},
     "output_type": "display_data"
    },
    {
     "data": {
      "text/plain": [
       "\n",
       "Cancer1 Cancer2 Cancer3 Cancer4 Cancer5 Cancer6 Cancer7   Norm1   Norm2   Norm3 \n",
       "   2298    1080     577     792     695     652     248      54     281     360 \n",
       "  Norm4   Norm5 \n",
       "    193     569 "
      ]
     },
     "metadata": {},
     "output_type": "display_data"
    },
    {
     "data": {
      "text/plain": [
       "\n",
       "GSE184880_Healthy_Norm1 GSE184880_Healthy_Norm2 GSE184880_Healthy_Norm3 \n",
       "                     54                     281                     360 \n",
       "GSE184880_Healthy_Norm4 GSE184880_Healthy_Norm5 GSE184880_HGSOC_Cancer1 \n",
       "                    193                     569                    2298 \n",
       "GSE184880_HGSOC_Cancer2 GSE184880_HGSOC_Cancer3 GSE184880_HGSOC_Cancer4 \n",
       "                   1080                     577                     792 \n",
       "GSE184880_HGSOC_Cancer5 GSE184880_HGSOC_Cancer6 GSE184880_HGSOC_Cancer7 \n",
       "                    695                     652                     248 "
      ]
     },
     "metadata": {},
     "output_type": "display_data"
    }
   ],
   "source": [
    "table(HGSOC$sample_type)\n",
    "table(HGSOC$cancer_type)\n",
    "table(HGSOC$patient_id)\n",
    "table(HGSOC$sample_id)"
   ]
  },
  {
   "cell_type": "code",
   "execution_count": 44,
   "metadata": {
    "vscode": {
     "languageId": "r"
    }
   },
   "outputs": [],
   "source": [
    "#set site metadata\n",
    "HGSOC@meta.data$site <- \"ovary\""
   ]
  },
  {
   "cell_type": "code",
   "execution_count": 45,
   "metadata": {
    "vscode": {
     "languageId": "r"
    }
   },
   "outputs": [],
   "source": [
    "#set subtype metadata\n",
    "\n",
    "#split by cancer_type\n",
    "HGSOC_tumour <- subset(HGSOC, subset = cancer_type %in% c(\"HGSOC\"))\n",
    "HGSOC_healthy <- subset(HGSOC, subset = cancer_type %in% c(\"Healthy\"))\n",
    "\n",
    "HGSOC_tumour@meta.data$cancer_subtype <- \"HGSOC\"\n",
    "HGSOC_healthy@meta.data$cancer_subtype <- \"NA\"\n",
    "\n",
    "HGSOC_tumour@meta.data$sample_type_major <- \"primary tumour\"\n",
    "HGSOC_healthy@meta.data$sample_type_major <- \"healthy\"\n",
    "\n",
    "#Merge seurat objects back together\n",
    "HGSOC <- merge(HGSOC_tumour, y = c(HGSOC_healthy), project = \"GSE184880\")"
   ]
  },
  {
   "cell_type": "code",
   "execution_count": 46,
   "metadata": {
    "vscode": {
     "languageId": "r"
    }
   },
   "outputs": [],
   "source": [
    "#set integration_id metadata\n",
    "HGSOC@meta.data$integration_id <- HGSOC@meta.data$sample_id"
   ]
  },
  {
   "cell_type": "code",
   "execution_count": 47,
   "metadata": {
    "vscode": {
     "languageId": "r"
    }
   },
   "outputs": [
    {
     "data": {
      "text/plain": [
       "An object of class Seurat \n",
       "27984 features across 7799 samples within 1 assay \n",
       "Active assay: RNA (27984 features, 2000 variable features)\n",
       " 26 layers present: counts.1.1, counts.10.2, counts.11.2, counts.12.2, counts.2.1, counts.3.1, counts.4.1, counts.5.1, counts.6.1, counts.7.1, data.1.1, data.2.1, data.3.1, data.4.1, data.5.1, data.6.1, data.7.1, scale.data.1, counts.8.2, counts.9.2, data.8.2, data.9.2, data.10.2, data.11.2, data.12.2, scale.data.2"
      ]
     },
     "metadata": {},
     "output_type": "display_data"
    },
    {
     "data": {
      "text/html": [
       "'GSE184880'"
      ],
      "text/latex": [
       "'GSE184880'"
      ],
      "text/markdown": [
       "'GSE184880'"
      ],
      "text/plain": [
       "[1] \"GSE184880\""
      ]
     },
     "metadata": {},
     "output_type": "display_data"
    },
    {
     "data": {
      "text/html": [
       "<table class=\"dataframe\">\n",
       "<caption>A data.frame: 6 × 14</caption>\n",
       "<thead>\n",
       "\t<tr><th></th><th scope=col>orig.ident</th><th scope=col>nCount_RNA</th><th scope=col>nFeature_RNA</th><th scope=col>sample_type</th><th scope=col>cancer_type</th><th scope=col>patient_id</th><th scope=col>sample_id</th><th scope=col>percent.mt</th><th scope=col>RNA_snn_res.0.2</th><th scope=col>seurat_clusters</th><th scope=col>site</th><th scope=col>cancer_subtype</th><th scope=col>sample_type_major</th><th scope=col>integration_id</th></tr>\n",
       "\t<tr><th></th><th scope=col>&lt;chr&gt;</th><th scope=col>&lt;dbl&gt;</th><th scope=col>&lt;int&gt;</th><th scope=col>&lt;chr&gt;</th><th scope=col>&lt;chr&gt;</th><th scope=col>&lt;chr&gt;</th><th scope=col>&lt;chr&gt;</th><th scope=col>&lt;dbl&gt;</th><th scope=col>&lt;chr&gt;</th><th scope=col>&lt;chr&gt;</th><th scope=col>&lt;chr&gt;</th><th scope=col>&lt;chr&gt;</th><th scope=col>&lt;chr&gt;</th><th scope=col>&lt;chr&gt;</th></tr>\n",
       "</thead>\n",
       "<tbody>\n",
       "\t<tr><th scope=row>GSE184880_Cancer1_AAACCCACAGCTGCCA-1</th><td>GSE184880</td><td> 9374</td><td>2655</td><td>tumour</td><td>HGSOC</td><td>Cancer1</td><td>GSE184880_HGSOC_Cancer1</td><td>15.980371</td><td>1</td><td>1</td><td>ovary</td><td>HGSOC</td><td>primary tumour</td><td>GSE184880_HGSOC_Cancer1</td></tr>\n",
       "\t<tr><th scope=row>GSE184880_Cancer1_AAACCCACATGACGGA-1</th><td>GSE184880</td><td> 2659</td><td>1246</td><td>tumour</td><td>HGSOC</td><td>Cancer1</td><td>GSE184880_HGSOC_Cancer1</td><td> 8.837909</td><td>1</td><td>1</td><td>ovary</td><td>HGSOC</td><td>primary tumour</td><td>GSE184880_HGSOC_Cancer1</td></tr>\n",
       "\t<tr><th scope=row>GSE184880_Cancer1_AAACGAACAGTAGTGG-1</th><td>GSE184880</td><td> 3020</td><td>1206</td><td>tumour</td><td>HGSOC</td><td>Cancer1</td><td>GSE184880_HGSOC_Cancer1</td><td>13.807947</td><td>1</td><td>1</td><td>ovary</td><td>HGSOC</td><td>primary tumour</td><td>GSE184880_HGSOC_Cancer1</td></tr>\n",
       "\t<tr><th scope=row>GSE184880_Cancer1_AAACGAATCACCCTCA-1</th><td>GSE184880</td><td>50940</td><td>6660</td><td>tumour</td><td>HGSOC</td><td>Cancer1</td><td>GSE184880_HGSOC_Cancer1</td><td> 8.531606</td><td>1</td><td>1</td><td>ovary</td><td>HGSOC</td><td>primary tumour</td><td>GSE184880_HGSOC_Cancer1</td></tr>\n",
       "\t<tr><th scope=row>GSE184880_Cancer1_AAACGCTTCTCCACTG-1</th><td>GSE184880</td><td>10129</td><td>2880</td><td>tumour</td><td>HGSOC</td><td>Cancer1</td><td>GSE184880_HGSOC_Cancer1</td><td>11.225195</td><td>1</td><td>1</td><td>ovary</td><td>HGSOC</td><td>primary tumour</td><td>GSE184880_HGSOC_Cancer1</td></tr>\n",
       "\t<tr><th scope=row>GSE184880_Cancer1_AAACGCTTCTGCTCTG-1</th><td>GSE184880</td><td>12756</td><td>3352</td><td>tumour</td><td>HGSOC</td><td>Cancer1</td><td>GSE184880_HGSOC_Cancer1</td><td> 9.321104</td><td>1</td><td>1</td><td>ovary</td><td>HGSOC</td><td>primary tumour</td><td>GSE184880_HGSOC_Cancer1</td></tr>\n",
       "</tbody>\n",
       "</table>\n"
      ],
      "text/latex": [
       "A data.frame: 6 × 14\n",
       "\\begin{tabular}{r|llllllllllllll}\n",
       "  & orig.ident & nCount\\_RNA & nFeature\\_RNA & sample\\_type & cancer\\_type & patient\\_id & sample\\_id & percent.mt & RNA\\_snn\\_res.0.2 & seurat\\_clusters & site & cancer\\_subtype & sample\\_type\\_major & integration\\_id\\\\\n",
       "  & <chr> & <dbl> & <int> & <chr> & <chr> & <chr> & <chr> & <dbl> & <chr> & <chr> & <chr> & <chr> & <chr> & <chr>\\\\\n",
       "\\hline\n",
       "\tGSE184880\\_Cancer1\\_AAACCCACAGCTGCCA-1 & GSE184880 &  9374 & 2655 & tumour & HGSOC & Cancer1 & GSE184880\\_HGSOC\\_Cancer1 & 15.980371 & 1 & 1 & ovary & HGSOC & primary tumour & GSE184880\\_HGSOC\\_Cancer1\\\\\n",
       "\tGSE184880\\_Cancer1\\_AAACCCACATGACGGA-1 & GSE184880 &  2659 & 1246 & tumour & HGSOC & Cancer1 & GSE184880\\_HGSOC\\_Cancer1 &  8.837909 & 1 & 1 & ovary & HGSOC & primary tumour & GSE184880\\_HGSOC\\_Cancer1\\\\\n",
       "\tGSE184880\\_Cancer1\\_AAACGAACAGTAGTGG-1 & GSE184880 &  3020 & 1206 & tumour & HGSOC & Cancer1 & GSE184880\\_HGSOC\\_Cancer1 & 13.807947 & 1 & 1 & ovary & HGSOC & primary tumour & GSE184880\\_HGSOC\\_Cancer1\\\\\n",
       "\tGSE184880\\_Cancer1\\_AAACGAATCACCCTCA-1 & GSE184880 & 50940 & 6660 & tumour & HGSOC & Cancer1 & GSE184880\\_HGSOC\\_Cancer1 &  8.531606 & 1 & 1 & ovary & HGSOC & primary tumour & GSE184880\\_HGSOC\\_Cancer1\\\\\n",
       "\tGSE184880\\_Cancer1\\_AAACGCTTCTCCACTG-1 & GSE184880 & 10129 & 2880 & tumour & HGSOC & Cancer1 & GSE184880\\_HGSOC\\_Cancer1 & 11.225195 & 1 & 1 & ovary & HGSOC & primary tumour & GSE184880\\_HGSOC\\_Cancer1\\\\\n",
       "\tGSE184880\\_Cancer1\\_AAACGCTTCTGCTCTG-1 & GSE184880 & 12756 & 3352 & tumour & HGSOC & Cancer1 & GSE184880\\_HGSOC\\_Cancer1 &  9.321104 & 1 & 1 & ovary & HGSOC & primary tumour & GSE184880\\_HGSOC\\_Cancer1\\\\\n",
       "\\end{tabular}\n"
      ],
      "text/markdown": [
       "\n",
       "A data.frame: 6 × 14\n",
       "\n",
       "| <!--/--> | orig.ident &lt;chr&gt; | nCount_RNA &lt;dbl&gt; | nFeature_RNA &lt;int&gt; | sample_type &lt;chr&gt; | cancer_type &lt;chr&gt; | patient_id &lt;chr&gt; | sample_id &lt;chr&gt; | percent.mt &lt;dbl&gt; | RNA_snn_res.0.2 &lt;chr&gt; | seurat_clusters &lt;chr&gt; | site &lt;chr&gt; | cancer_subtype &lt;chr&gt; | sample_type_major &lt;chr&gt; | integration_id &lt;chr&gt; |\n",
       "|---|---|---|---|---|---|---|---|---|---|---|---|---|---|---|\n",
       "| GSE184880_Cancer1_AAACCCACAGCTGCCA-1 | GSE184880 |  9374 | 2655 | tumour | HGSOC | Cancer1 | GSE184880_HGSOC_Cancer1 | 15.980371 | 1 | 1 | ovary | HGSOC | primary tumour | GSE184880_HGSOC_Cancer1 |\n",
       "| GSE184880_Cancer1_AAACCCACATGACGGA-1 | GSE184880 |  2659 | 1246 | tumour | HGSOC | Cancer1 | GSE184880_HGSOC_Cancer1 |  8.837909 | 1 | 1 | ovary | HGSOC | primary tumour | GSE184880_HGSOC_Cancer1 |\n",
       "| GSE184880_Cancer1_AAACGAACAGTAGTGG-1 | GSE184880 |  3020 | 1206 | tumour | HGSOC | Cancer1 | GSE184880_HGSOC_Cancer1 | 13.807947 | 1 | 1 | ovary | HGSOC | primary tumour | GSE184880_HGSOC_Cancer1 |\n",
       "| GSE184880_Cancer1_AAACGAATCACCCTCA-1 | GSE184880 | 50940 | 6660 | tumour | HGSOC | Cancer1 | GSE184880_HGSOC_Cancer1 |  8.531606 | 1 | 1 | ovary | HGSOC | primary tumour | GSE184880_HGSOC_Cancer1 |\n",
       "| GSE184880_Cancer1_AAACGCTTCTCCACTG-1 | GSE184880 | 10129 | 2880 | tumour | HGSOC | Cancer1 | GSE184880_HGSOC_Cancer1 | 11.225195 | 1 | 1 | ovary | HGSOC | primary tumour | GSE184880_HGSOC_Cancer1 |\n",
       "| GSE184880_Cancer1_AAACGCTTCTGCTCTG-1 | GSE184880 | 12756 | 3352 | tumour | HGSOC | Cancer1 | GSE184880_HGSOC_Cancer1 |  9.321104 | 1 | 1 | ovary | HGSOC | primary tumour | GSE184880_HGSOC_Cancer1 |\n",
       "\n"
      ],
      "text/plain": [
       "                                     orig.ident nCount_RNA nFeature_RNA\n",
       "GSE184880_Cancer1_AAACCCACAGCTGCCA-1 GSE184880   9374      2655        \n",
       "GSE184880_Cancer1_AAACCCACATGACGGA-1 GSE184880   2659      1246        \n",
       "GSE184880_Cancer1_AAACGAACAGTAGTGG-1 GSE184880   3020      1206        \n",
       "GSE184880_Cancer1_AAACGAATCACCCTCA-1 GSE184880  50940      6660        \n",
       "GSE184880_Cancer1_AAACGCTTCTCCACTG-1 GSE184880  10129      2880        \n",
       "GSE184880_Cancer1_AAACGCTTCTGCTCTG-1 GSE184880  12756      3352        \n",
       "                                     sample_type cancer_type patient_id\n",
       "GSE184880_Cancer1_AAACCCACAGCTGCCA-1 tumour      HGSOC       Cancer1   \n",
       "GSE184880_Cancer1_AAACCCACATGACGGA-1 tumour      HGSOC       Cancer1   \n",
       "GSE184880_Cancer1_AAACGAACAGTAGTGG-1 tumour      HGSOC       Cancer1   \n",
       "GSE184880_Cancer1_AAACGAATCACCCTCA-1 tumour      HGSOC       Cancer1   \n",
       "GSE184880_Cancer1_AAACGCTTCTCCACTG-1 tumour      HGSOC       Cancer1   \n",
       "GSE184880_Cancer1_AAACGCTTCTGCTCTG-1 tumour      HGSOC       Cancer1   \n",
       "                                     sample_id               percent.mt\n",
       "GSE184880_Cancer1_AAACCCACAGCTGCCA-1 GSE184880_HGSOC_Cancer1 15.980371 \n",
       "GSE184880_Cancer1_AAACCCACATGACGGA-1 GSE184880_HGSOC_Cancer1  8.837909 \n",
       "GSE184880_Cancer1_AAACGAACAGTAGTGG-1 GSE184880_HGSOC_Cancer1 13.807947 \n",
       "GSE184880_Cancer1_AAACGAATCACCCTCA-1 GSE184880_HGSOC_Cancer1  8.531606 \n",
       "GSE184880_Cancer1_AAACGCTTCTCCACTG-1 GSE184880_HGSOC_Cancer1 11.225195 \n",
       "GSE184880_Cancer1_AAACGCTTCTGCTCTG-1 GSE184880_HGSOC_Cancer1  9.321104 \n",
       "                                     RNA_snn_res.0.2 seurat_clusters site \n",
       "GSE184880_Cancer1_AAACCCACAGCTGCCA-1 1               1               ovary\n",
       "GSE184880_Cancer1_AAACCCACATGACGGA-1 1               1               ovary\n",
       "GSE184880_Cancer1_AAACGAACAGTAGTGG-1 1               1               ovary\n",
       "GSE184880_Cancer1_AAACGAATCACCCTCA-1 1               1               ovary\n",
       "GSE184880_Cancer1_AAACGCTTCTCCACTG-1 1               1               ovary\n",
       "GSE184880_Cancer1_AAACGCTTCTGCTCTG-1 1               1               ovary\n",
       "                                     cancer_subtype sample_type_major\n",
       "GSE184880_Cancer1_AAACCCACAGCTGCCA-1 HGSOC          primary tumour   \n",
       "GSE184880_Cancer1_AAACCCACATGACGGA-1 HGSOC          primary tumour   \n",
       "GSE184880_Cancer1_AAACGAACAGTAGTGG-1 HGSOC          primary tumour   \n",
       "GSE184880_Cancer1_AAACGAATCACCCTCA-1 HGSOC          primary tumour   \n",
       "GSE184880_Cancer1_AAACGCTTCTCCACTG-1 HGSOC          primary tumour   \n",
       "GSE184880_Cancer1_AAACGCTTCTGCTCTG-1 HGSOC          primary tumour   \n",
       "                                     integration_id         \n",
       "GSE184880_Cancer1_AAACCCACAGCTGCCA-1 GSE184880_HGSOC_Cancer1\n",
       "GSE184880_Cancer1_AAACCCACATGACGGA-1 GSE184880_HGSOC_Cancer1\n",
       "GSE184880_Cancer1_AAACGAACAGTAGTGG-1 GSE184880_HGSOC_Cancer1\n",
       "GSE184880_Cancer1_AAACGAATCACCCTCA-1 GSE184880_HGSOC_Cancer1\n",
       "GSE184880_Cancer1_AAACGCTTCTCCACTG-1 GSE184880_HGSOC_Cancer1\n",
       "GSE184880_Cancer1_AAACGCTTCTGCTCTG-1 GSE184880_HGSOC_Cancer1"
      ]
     },
     "metadata": {},
     "output_type": "display_data"
    }
   ],
   "source": [
    "HGSOC\n",
    "HGSOC@project.name\n",
    "head(HGSOC@meta.data)"
   ]
  },
  {
   "cell_type": "code",
   "execution_count": 48,
   "metadata": {
    "vscode": {
     "languageId": "r"
    }
   },
   "outputs": [
    {
     "data": {
      "text/plain": [
       "\n",
       "GSE184880_Healthy_Norm1 GSE184880_Healthy_Norm2 GSE184880_Healthy_Norm3 \n",
       "                     54                     281                     360 \n",
       "GSE184880_Healthy_Norm4 GSE184880_Healthy_Norm5 GSE184880_HGSOC_Cancer1 \n",
       "                    193                     569                    2298 \n",
       "GSE184880_HGSOC_Cancer2 GSE184880_HGSOC_Cancer3 GSE184880_HGSOC_Cancer4 \n",
       "                   1080                     577                     792 \n",
       "GSE184880_HGSOC_Cancer5 GSE184880_HGSOC_Cancer6 GSE184880_HGSOC_Cancer7 \n",
       "                    695                     652                     248 "
      ]
     },
     "metadata": {},
     "output_type": "display_data"
    },
    {
     "data": {
      "text/plain": [
       "\n",
       "GSE184880_Healthy_Norm2 GSE184880_Healthy_Norm3 GSE184880_Healthy_Norm4 \n",
       "                    281                     360                     193 \n",
       "GSE184880_Healthy_Norm5 GSE184880_HGSOC_Cancer1 GSE184880_HGSOC_Cancer2 \n",
       "                    569                    2298                    1080 \n",
       "GSE184880_HGSOC_Cancer3 GSE184880_HGSOC_Cancer4 GSE184880_HGSOC_Cancer5 \n",
       "                    577                     792                     695 \n",
       "GSE184880_HGSOC_Cancer6 GSE184880_HGSOC_Cancer7 \n",
       "                    652                     248 "
      ]
     },
     "metadata": {},
     "output_type": "display_data"
    }
   ],
   "source": [
    "#exclude any samples with <100 cells\n",
    "table(HGSOC$integration_id)\n",
    "#exclude Norm1\n",
    "HGSOC <- subset(HGSOC, !(subset = integration_id %in% c(\"GSE184880_Healthy_Norm1\")))\n",
    "table(HGSOC$integration_id)"
   ]
  },
  {
   "cell_type": "code",
   "execution_count": 49,
   "metadata": {
    "vscode": {
     "languageId": "r"
    }
   },
   "outputs": [
    {
     "data": {
      "text/html": [
       "<style>\n",
       ".list-inline {list-style: none; margin:0; padding: 0}\n",
       ".list-inline>li {display: inline-block}\n",
       ".list-inline>li:not(:last-child)::after {content: \"\\00b7\"; padding: 0 .5ex}\n",
       "</style>\n",
       "<ol class=list-inline><li>'counts.1.1'</li><li>'counts.10.2'</li><li>'counts.11.2'</li><li>'counts.12.2'</li><li>'counts.2.1'</li><li>'counts.3.1'</li><li>'counts.4.1'</li><li>'counts.5.1'</li><li>'counts.6.1'</li><li>'counts.7.1'</li><li>'data.1.1'</li><li>'data.2.1'</li><li>'data.3.1'</li><li>'data.4.1'</li><li>'data.5.1'</li><li>'data.6.1'</li><li>'data.7.1'</li><li>'scale.data.1'</li><li>'counts.9.2'</li><li>'data.9.2'</li><li>'data.10.2'</li><li>'data.11.2'</li><li>'data.12.2'</li><li>'scale.data.2'</li></ol>\n"
      ],
      "text/latex": [
       "\\begin{enumerate*}\n",
       "\\item 'counts.1.1'\n",
       "\\item 'counts.10.2'\n",
       "\\item 'counts.11.2'\n",
       "\\item 'counts.12.2'\n",
       "\\item 'counts.2.1'\n",
       "\\item 'counts.3.1'\n",
       "\\item 'counts.4.1'\n",
       "\\item 'counts.5.1'\n",
       "\\item 'counts.6.1'\n",
       "\\item 'counts.7.1'\n",
       "\\item 'data.1.1'\n",
       "\\item 'data.2.1'\n",
       "\\item 'data.3.1'\n",
       "\\item 'data.4.1'\n",
       "\\item 'data.5.1'\n",
       "\\item 'data.6.1'\n",
       "\\item 'data.7.1'\n",
       "\\item 'scale.data.1'\n",
       "\\item 'counts.9.2'\n",
       "\\item 'data.9.2'\n",
       "\\item 'data.10.2'\n",
       "\\item 'data.11.2'\n",
       "\\item 'data.12.2'\n",
       "\\item 'scale.data.2'\n",
       "\\end{enumerate*}\n"
      ],
      "text/markdown": [
       "1. 'counts.1.1'\n",
       "2. 'counts.10.2'\n",
       "3. 'counts.11.2'\n",
       "4. 'counts.12.2'\n",
       "5. 'counts.2.1'\n",
       "6. 'counts.3.1'\n",
       "7. 'counts.4.1'\n",
       "8. 'counts.5.1'\n",
       "9. 'counts.6.1'\n",
       "10. 'counts.7.1'\n",
       "11. 'data.1.1'\n",
       "12. 'data.2.1'\n",
       "13. 'data.3.1'\n",
       "14. 'data.4.1'\n",
       "15. 'data.5.1'\n",
       "16. 'data.6.1'\n",
       "17. 'data.7.1'\n",
       "18. 'scale.data.1'\n",
       "19. 'counts.9.2'\n",
       "20. 'data.9.2'\n",
       "21. 'data.10.2'\n",
       "22. 'data.11.2'\n",
       "23. 'data.12.2'\n",
       "24. 'scale.data.2'\n",
       "\n",
       "\n"
      ],
      "text/plain": [
       " [1] \"counts.1.1\"   \"counts.10.2\"  \"counts.11.2\"  \"counts.12.2\"  \"counts.2.1\"  \n",
       " [6] \"counts.3.1\"   \"counts.4.1\"   \"counts.5.1\"   \"counts.6.1\"   \"counts.7.1\"  \n",
       "[11] \"data.1.1\"     \"data.2.1\"     \"data.3.1\"     \"data.4.1\"     \"data.5.1\"    \n",
       "[16] \"data.6.1\"     \"data.7.1\"     \"scale.data.1\" \"counts.9.2\"   \"data.9.2\"    \n",
       "[21] \"data.10.2\"    \"data.11.2\"    \"data.12.2\"    \"scale.data.2\""
      ]
     },
     "metadata": {},
     "output_type": "display_data"
    },
    {
     "data": {
      "text/html": [
       "<style>\n",
       ".list-inline {list-style: none; margin:0; padding: 0}\n",
       ".list-inline>li {display: inline-block}\n",
       ".list-inline>li:not(:last-child)::after {content: \"\\00b7\"; padding: 0 .5ex}\n",
       "</style>\n",
       "<ol class=list-inline><li>'scale.data'</li><li>'data'</li><li>'counts'</li></ol>\n"
      ],
      "text/latex": [
       "\\begin{enumerate*}\n",
       "\\item 'scale.data'\n",
       "\\item 'data'\n",
       "\\item 'counts'\n",
       "\\end{enumerate*}\n"
      ],
      "text/markdown": [
       "1. 'scale.data'\n",
       "2. 'data'\n",
       "3. 'counts'\n",
       "\n",
       "\n"
      ],
      "text/plain": [
       "[1] \"scale.data\" \"data\"       \"counts\"    "
      ]
     },
     "metadata": {},
     "output_type": "display_data"
    },
    {
     "name": "stderr",
     "output_type": "stream",
     "text": [
      "Splitting ‘counts’, ‘data’ layers. Not splitting ‘scale.data’. If you would like to split other layers, set in `layers` argument.\n",
      "\n"
     ]
    },
    {
     "data": {
      "text/html": [
       "<style>\n",
       ".list-inline {list-style: none; margin:0; padding: 0}\n",
       ".list-inline>li {display: inline-block}\n",
       ".list-inline>li:not(:last-child)::after {content: \"\\00b7\"; padding: 0 .5ex}\n",
       "</style>\n",
       "<ol class=list-inline><li>'counts.GSE184880_HGSOC_Cancer1'</li><li>'counts.GSE184880_HGSOC_Cancer2'</li><li>'counts.GSE184880_HGSOC_Cancer3'</li><li>'counts.GSE184880_HGSOC_Cancer4'</li><li>'counts.GSE184880_HGSOC_Cancer5'</li><li>'counts.GSE184880_HGSOC_Cancer6'</li><li>'counts.GSE184880_HGSOC_Cancer7'</li><li>'counts.GSE184880_Healthy_Norm2'</li><li>'counts.GSE184880_Healthy_Norm3'</li><li>'counts.GSE184880_Healthy_Norm4'</li><li>'counts.GSE184880_Healthy_Norm5'</li><li>'scale.data'</li><li>'data.GSE184880_HGSOC_Cancer1'</li><li>'data.GSE184880_HGSOC_Cancer2'</li><li>'data.GSE184880_HGSOC_Cancer3'</li><li>'data.GSE184880_HGSOC_Cancer4'</li><li>'data.GSE184880_HGSOC_Cancer5'</li><li>'data.GSE184880_HGSOC_Cancer6'</li><li>'data.GSE184880_HGSOC_Cancer7'</li><li>'data.GSE184880_Healthy_Norm2'</li><li>'data.GSE184880_Healthy_Norm3'</li><li>'data.GSE184880_Healthy_Norm4'</li><li>'data.GSE184880_Healthy_Norm5'</li></ol>\n"
      ],
      "text/latex": [
       "\\begin{enumerate*}\n",
       "\\item 'counts.GSE184880\\_HGSOC\\_Cancer1'\n",
       "\\item 'counts.GSE184880\\_HGSOC\\_Cancer2'\n",
       "\\item 'counts.GSE184880\\_HGSOC\\_Cancer3'\n",
       "\\item 'counts.GSE184880\\_HGSOC\\_Cancer4'\n",
       "\\item 'counts.GSE184880\\_HGSOC\\_Cancer5'\n",
       "\\item 'counts.GSE184880\\_HGSOC\\_Cancer6'\n",
       "\\item 'counts.GSE184880\\_HGSOC\\_Cancer7'\n",
       "\\item 'counts.GSE184880\\_Healthy\\_Norm2'\n",
       "\\item 'counts.GSE184880\\_Healthy\\_Norm3'\n",
       "\\item 'counts.GSE184880\\_Healthy\\_Norm4'\n",
       "\\item 'counts.GSE184880\\_Healthy\\_Norm5'\n",
       "\\item 'scale.data'\n",
       "\\item 'data.GSE184880\\_HGSOC\\_Cancer1'\n",
       "\\item 'data.GSE184880\\_HGSOC\\_Cancer2'\n",
       "\\item 'data.GSE184880\\_HGSOC\\_Cancer3'\n",
       "\\item 'data.GSE184880\\_HGSOC\\_Cancer4'\n",
       "\\item 'data.GSE184880\\_HGSOC\\_Cancer5'\n",
       "\\item 'data.GSE184880\\_HGSOC\\_Cancer6'\n",
       "\\item 'data.GSE184880\\_HGSOC\\_Cancer7'\n",
       "\\item 'data.GSE184880\\_Healthy\\_Norm2'\n",
       "\\item 'data.GSE184880\\_Healthy\\_Norm3'\n",
       "\\item 'data.GSE184880\\_Healthy\\_Norm4'\n",
       "\\item 'data.GSE184880\\_Healthy\\_Norm5'\n",
       "\\end{enumerate*}\n"
      ],
      "text/markdown": [
       "1. 'counts.GSE184880_HGSOC_Cancer1'\n",
       "2. 'counts.GSE184880_HGSOC_Cancer2'\n",
       "3. 'counts.GSE184880_HGSOC_Cancer3'\n",
       "4. 'counts.GSE184880_HGSOC_Cancer4'\n",
       "5. 'counts.GSE184880_HGSOC_Cancer5'\n",
       "6. 'counts.GSE184880_HGSOC_Cancer6'\n",
       "7. 'counts.GSE184880_HGSOC_Cancer7'\n",
       "8. 'counts.GSE184880_Healthy_Norm2'\n",
       "9. 'counts.GSE184880_Healthy_Norm3'\n",
       "10. 'counts.GSE184880_Healthy_Norm4'\n",
       "11. 'counts.GSE184880_Healthy_Norm5'\n",
       "12. 'scale.data'\n",
       "13. 'data.GSE184880_HGSOC_Cancer1'\n",
       "14. 'data.GSE184880_HGSOC_Cancer2'\n",
       "15. 'data.GSE184880_HGSOC_Cancer3'\n",
       "16. 'data.GSE184880_HGSOC_Cancer4'\n",
       "17. 'data.GSE184880_HGSOC_Cancer5'\n",
       "18. 'data.GSE184880_HGSOC_Cancer6'\n",
       "19. 'data.GSE184880_HGSOC_Cancer7'\n",
       "20. 'data.GSE184880_Healthy_Norm2'\n",
       "21. 'data.GSE184880_Healthy_Norm3'\n",
       "22. 'data.GSE184880_Healthy_Norm4'\n",
       "23. 'data.GSE184880_Healthy_Norm5'\n",
       "\n",
       "\n"
      ],
      "text/plain": [
       " [1] \"counts.GSE184880_HGSOC_Cancer1\" \"counts.GSE184880_HGSOC_Cancer2\"\n",
       " [3] \"counts.GSE184880_HGSOC_Cancer3\" \"counts.GSE184880_HGSOC_Cancer4\"\n",
       " [5] \"counts.GSE184880_HGSOC_Cancer5\" \"counts.GSE184880_HGSOC_Cancer6\"\n",
       " [7] \"counts.GSE184880_HGSOC_Cancer7\" \"counts.GSE184880_Healthy_Norm2\"\n",
       " [9] \"counts.GSE184880_Healthy_Norm3\" \"counts.GSE184880_Healthy_Norm4\"\n",
       "[11] \"counts.GSE184880_Healthy_Norm5\" \"scale.data\"                    \n",
       "[13] \"data.GSE184880_HGSOC_Cancer1\"   \"data.GSE184880_HGSOC_Cancer2\"  \n",
       "[15] \"data.GSE184880_HGSOC_Cancer3\"   \"data.GSE184880_HGSOC_Cancer4\"  \n",
       "[17] \"data.GSE184880_HGSOC_Cancer5\"   \"data.GSE184880_HGSOC_Cancer6\"  \n",
       "[19] \"data.GSE184880_HGSOC_Cancer7\"   \"data.GSE184880_Healthy_Norm2\"  \n",
       "[21] \"data.GSE184880_Healthy_Norm3\"   \"data.GSE184880_Healthy_Norm4\"  \n",
       "[23] \"data.GSE184880_Healthy_Norm5\"  "
      ]
     },
     "metadata": {},
     "output_type": "display_data"
    }
   ],
   "source": [
    "#join layers and then split them by integration_id\n",
    "Layers(HGSOC[[\"RNA\"]])\n",
    "#join layers\n",
    "HGSOC[[\"RNA\"]] <- JoinLayers(HGSOC[[\"RNA\"]])\n",
    "Layers(HGSOC[[\"RNA\"]])\n",
    "#split layers\n",
    "HGSOC[[\"RNA\"]] <- split(HGSOC[[\"RNA\"]], f = HGSOC$integration_id)\n",
    "Layers(HGSOC[[\"RNA\"]])\n"
   ]
  },
  {
   "cell_type": "code",
   "execution_count": 50,
   "metadata": {
    "vscode": {
     "languageId": "r"
    }
   },
   "outputs": [
    {
     "data": {
      "text/plain": [
       "\n",
       "GSE184880_Healthy_Norm2 GSE184880_Healthy_Norm3 GSE184880_Healthy_Norm4 \n",
       "                    281                     360                     193 \n",
       "GSE184880_Healthy_Norm5 GSE184880_HGSOC_Cancer1 GSE184880_HGSOC_Cancer2 \n",
       "                    569                    2298                    1080 \n",
       "GSE184880_HGSOC_Cancer3 GSE184880_HGSOC_Cancer4 GSE184880_HGSOC_Cancer5 \n",
       "                    577                     792                     695 \n",
       "GSE184880_HGSOC_Cancer6 GSE184880_HGSOC_Cancer7 \n",
       "                    652                     248 "
      ]
     },
     "metadata": {},
     "output_type": "display_data"
    }
   ],
   "source": [
    "#record number of cells\n",
    "table(HGSOC$integration_id)"
   ]
  },
  {
   "cell_type": "code",
   "execution_count": 51,
   "metadata": {
    "vscode": {
     "languageId": "r"
    }
   },
   "outputs": [],
   "source": [
    "#re-export seurat object ready for integration\n",
    "saveRDS(HGSOC, \"/scratch/user/s4436039/scdata/Myeloid_Cells/Myeloid_Cells_Integrate/GSE184880_myeloid_int.RDS\")"
   ]
  },
  {
   "cell_type": "code",
   "execution_count": 52,
   "metadata": {
    "vscode": {
     "languageId": "r"
    }
   },
   "outputs": [],
   "source": [
    "#remove all objects in R\n",
    "rm(list = ls())"
   ]
  },
  {
   "cell_type": "markdown",
   "metadata": {},
   "source": [
    "## GSE213243"
   ]
  },
  {
   "cell_type": "code",
   "execution_count": 53,
   "metadata": {
    "vscode": {
     "languageId": "r"
    }
   },
   "outputs": [],
   "source": [
    "HGSOC_tu <- readRDS(\"/scratch/user/s4436039/scdata/Myeloid_Cells/GSE213243_Tumour_myeloid.RDS\")\n",
    "HGSOC_As <- readRDS(\"/scratch/user/s4436039/scdata/Myeloid_Cells/GSE213243_Ascites_myeloid.RDS\")"
   ]
  },
  {
   "cell_type": "code",
   "execution_count": 54,
   "metadata": {
    "vscode": {
     "languageId": "r"
    }
   },
   "outputs": [
    {
     "data": {
      "text/plain": [
       "An object of class Seurat \n",
       "58825 features across 804 samples within 1 assay \n",
       "Active assay: RNA (58825 features, 2000 variable features)\n",
       " 3 layers present: counts, data, scale.data\n",
       " 2 dimensional reductions calculated: pca, umap"
      ]
     },
     "metadata": {},
     "output_type": "display_data"
    },
    {
     "data": {
      "text/html": [
       "'GSE213243'"
      ],
      "text/latex": [
       "'GSE213243'"
      ],
      "text/markdown": [
       "'GSE213243'"
      ],
      "text/plain": [
       "[1] \"GSE213243\""
      ]
     },
     "metadata": {},
     "output_type": "display_data"
    },
    {
     "data": {
      "text/html": [
       "<table class=\"dataframe\">\n",
       "<caption>A data.frame: 6 × 10</caption>\n",
       "<thead>\n",
       "\t<tr><th></th><th scope=col>orig.ident</th><th scope=col>nCount_RNA</th><th scope=col>nFeature_RNA</th><th scope=col>sample_type</th><th scope=col>cancer_type</th><th scope=col>patient_id</th><th scope=col>sample_id</th><th scope=col>percent.mt</th><th scope=col>RNA_snn_res.0.5</th><th scope=col>seurat_clusters</th></tr>\n",
       "\t<tr><th></th><th scope=col>&lt;fct&gt;</th><th scope=col>&lt;dbl&gt;</th><th scope=col>&lt;int&gt;</th><th scope=col>&lt;chr&gt;</th><th scope=col>&lt;chr&gt;</th><th scope=col>&lt;chr&gt;</th><th scope=col>&lt;chr&gt;</th><th scope=col>&lt;dbl&gt;</th><th scope=col>&lt;fct&gt;</th><th scope=col>&lt;fct&gt;</th></tr>\n",
       "</thead>\n",
       "<tbody>\n",
       "\t<tr><th scope=row>GSE213243_tumour_AAAGGTACACGCAGTC-1</th><td>GSE213243</td><td> 8050</td><td>2780</td><td>tumour</td><td>HGSOC</td><td>pt-1</td><td>GSE213243_HGSOC_tumour</td><td>19.962733</td><td>3</td><td>3</td></tr>\n",
       "\t<tr><th scope=row>GSE213243_tumour_AAATGGACACACGCCA-1</th><td>GSE213243</td><td> 5854</td><td>2467</td><td>tumour</td><td>HGSOC</td><td>pt-1</td><td>GSE213243_HGSOC_tumour</td><td> 4.936795</td><td>3</td><td>3</td></tr>\n",
       "\t<tr><th scope=row>GSE213243_tumour_AACAAAGCAATTTCCT-1</th><td>GSE213243</td><td> 6073</td><td>2541</td><td>tumour</td><td>HGSOC</td><td>pt-1</td><td>GSE213243_HGSOC_tumour</td><td> 6.323069</td><td>3</td><td>3</td></tr>\n",
       "\t<tr><th scope=row>GSE213243_tumour_AACACACGTAGCTTTG-1</th><td>GSE213243</td><td>13497</td><td>3862</td><td>tumour</td><td>HGSOC</td><td>pt-1</td><td>GSE213243_HGSOC_tumour</td><td> 5.319701</td><td>3</td><td>3</td></tr>\n",
       "\t<tr><th scope=row>GSE213243_tumour_AACACACTCGCTGTTC-1</th><td>GSE213243</td><td> 8644</td><td>3306</td><td>tumour</td><td>HGSOC</td><td>pt-1</td><td>GSE213243_HGSOC_tumour</td><td>10.596946</td><td>3</td><td>3</td></tr>\n",
       "\t<tr><th scope=row>GSE213243_tumour_AACAGGGCAACCCTAA-1</th><td>GSE213243</td><td> 6263</td><td>2562</td><td>tumour</td><td>HGSOC</td><td>pt-1</td><td>GSE213243_HGSOC_tumour</td><td> 3.544627</td><td>3</td><td>3</td></tr>\n",
       "</tbody>\n",
       "</table>\n"
      ],
      "text/latex": [
       "A data.frame: 6 × 10\n",
       "\\begin{tabular}{r|llllllllll}\n",
       "  & orig.ident & nCount\\_RNA & nFeature\\_RNA & sample\\_type & cancer\\_type & patient\\_id & sample\\_id & percent.mt & RNA\\_snn\\_res.0.5 & seurat\\_clusters\\\\\n",
       "  & <fct> & <dbl> & <int> & <chr> & <chr> & <chr> & <chr> & <dbl> & <fct> & <fct>\\\\\n",
       "\\hline\n",
       "\tGSE213243\\_tumour\\_AAAGGTACACGCAGTC-1 & GSE213243 &  8050 & 2780 & tumour & HGSOC & pt-1 & GSE213243\\_HGSOC\\_tumour & 19.962733 & 3 & 3\\\\\n",
       "\tGSE213243\\_tumour\\_AAATGGACACACGCCA-1 & GSE213243 &  5854 & 2467 & tumour & HGSOC & pt-1 & GSE213243\\_HGSOC\\_tumour &  4.936795 & 3 & 3\\\\\n",
       "\tGSE213243\\_tumour\\_AACAAAGCAATTTCCT-1 & GSE213243 &  6073 & 2541 & tumour & HGSOC & pt-1 & GSE213243\\_HGSOC\\_tumour &  6.323069 & 3 & 3\\\\\n",
       "\tGSE213243\\_tumour\\_AACACACGTAGCTTTG-1 & GSE213243 & 13497 & 3862 & tumour & HGSOC & pt-1 & GSE213243\\_HGSOC\\_tumour &  5.319701 & 3 & 3\\\\\n",
       "\tGSE213243\\_tumour\\_AACACACTCGCTGTTC-1 & GSE213243 &  8644 & 3306 & tumour & HGSOC & pt-1 & GSE213243\\_HGSOC\\_tumour & 10.596946 & 3 & 3\\\\\n",
       "\tGSE213243\\_tumour\\_AACAGGGCAACCCTAA-1 & GSE213243 &  6263 & 2562 & tumour & HGSOC & pt-1 & GSE213243\\_HGSOC\\_tumour &  3.544627 & 3 & 3\\\\\n",
       "\\end{tabular}\n"
      ],
      "text/markdown": [
       "\n",
       "A data.frame: 6 × 10\n",
       "\n",
       "| <!--/--> | orig.ident &lt;fct&gt; | nCount_RNA &lt;dbl&gt; | nFeature_RNA &lt;int&gt; | sample_type &lt;chr&gt; | cancer_type &lt;chr&gt; | patient_id &lt;chr&gt; | sample_id &lt;chr&gt; | percent.mt &lt;dbl&gt; | RNA_snn_res.0.5 &lt;fct&gt; | seurat_clusters &lt;fct&gt; |\n",
       "|---|---|---|---|---|---|---|---|---|---|---|\n",
       "| GSE213243_tumour_AAAGGTACACGCAGTC-1 | GSE213243 |  8050 | 2780 | tumour | HGSOC | pt-1 | GSE213243_HGSOC_tumour | 19.962733 | 3 | 3 |\n",
       "| GSE213243_tumour_AAATGGACACACGCCA-1 | GSE213243 |  5854 | 2467 | tumour | HGSOC | pt-1 | GSE213243_HGSOC_tumour |  4.936795 | 3 | 3 |\n",
       "| GSE213243_tumour_AACAAAGCAATTTCCT-1 | GSE213243 |  6073 | 2541 | tumour | HGSOC | pt-1 | GSE213243_HGSOC_tumour |  6.323069 | 3 | 3 |\n",
       "| GSE213243_tumour_AACACACGTAGCTTTG-1 | GSE213243 | 13497 | 3862 | tumour | HGSOC | pt-1 | GSE213243_HGSOC_tumour |  5.319701 | 3 | 3 |\n",
       "| GSE213243_tumour_AACACACTCGCTGTTC-1 | GSE213243 |  8644 | 3306 | tumour | HGSOC | pt-1 | GSE213243_HGSOC_tumour | 10.596946 | 3 | 3 |\n",
       "| GSE213243_tumour_AACAGGGCAACCCTAA-1 | GSE213243 |  6263 | 2562 | tumour | HGSOC | pt-1 | GSE213243_HGSOC_tumour |  3.544627 | 3 | 3 |\n",
       "\n"
      ],
      "text/plain": [
       "                                    orig.ident nCount_RNA nFeature_RNA\n",
       "GSE213243_tumour_AAAGGTACACGCAGTC-1 GSE213243   8050      2780        \n",
       "GSE213243_tumour_AAATGGACACACGCCA-1 GSE213243   5854      2467        \n",
       "GSE213243_tumour_AACAAAGCAATTTCCT-1 GSE213243   6073      2541        \n",
       "GSE213243_tumour_AACACACGTAGCTTTG-1 GSE213243  13497      3862        \n",
       "GSE213243_tumour_AACACACTCGCTGTTC-1 GSE213243   8644      3306        \n",
       "GSE213243_tumour_AACAGGGCAACCCTAA-1 GSE213243   6263      2562        \n",
       "                                    sample_type cancer_type patient_id\n",
       "GSE213243_tumour_AAAGGTACACGCAGTC-1 tumour      HGSOC       pt-1      \n",
       "GSE213243_tumour_AAATGGACACACGCCA-1 tumour      HGSOC       pt-1      \n",
       "GSE213243_tumour_AACAAAGCAATTTCCT-1 tumour      HGSOC       pt-1      \n",
       "GSE213243_tumour_AACACACGTAGCTTTG-1 tumour      HGSOC       pt-1      \n",
       "GSE213243_tumour_AACACACTCGCTGTTC-1 tumour      HGSOC       pt-1      \n",
       "GSE213243_tumour_AACAGGGCAACCCTAA-1 tumour      HGSOC       pt-1      \n",
       "                                    sample_id              percent.mt\n",
       "GSE213243_tumour_AAAGGTACACGCAGTC-1 GSE213243_HGSOC_tumour 19.962733 \n",
       "GSE213243_tumour_AAATGGACACACGCCA-1 GSE213243_HGSOC_tumour  4.936795 \n",
       "GSE213243_tumour_AACAAAGCAATTTCCT-1 GSE213243_HGSOC_tumour  6.323069 \n",
       "GSE213243_tumour_AACACACGTAGCTTTG-1 GSE213243_HGSOC_tumour  5.319701 \n",
       "GSE213243_tumour_AACACACTCGCTGTTC-1 GSE213243_HGSOC_tumour 10.596946 \n",
       "GSE213243_tumour_AACAGGGCAACCCTAA-1 GSE213243_HGSOC_tumour  3.544627 \n",
       "                                    RNA_snn_res.0.5 seurat_clusters\n",
       "GSE213243_tumour_AAAGGTACACGCAGTC-1 3               3              \n",
       "GSE213243_tumour_AAATGGACACACGCCA-1 3               3              \n",
       "GSE213243_tumour_AACAAAGCAATTTCCT-1 3               3              \n",
       "GSE213243_tumour_AACACACGTAGCTTTG-1 3               3              \n",
       "GSE213243_tumour_AACACACTCGCTGTTC-1 3               3              \n",
       "GSE213243_tumour_AACAGGGCAACCCTAA-1 3               3              "
      ]
     },
     "metadata": {},
     "output_type": "display_data"
    },
    {
     "data": {
      "text/plain": [
       "An object of class Seurat \n",
       "58825 features across 2688 samples within 1 assay \n",
       "Active assay: RNA (58825 features, 2000 variable features)\n",
       " 3 layers present: counts, data, scale.data\n",
       " 2 dimensional reductions calculated: pca, umap"
      ]
     },
     "metadata": {},
     "output_type": "display_data"
    },
    {
     "data": {
      "text/html": [
       "'GSE213243'"
      ],
      "text/latex": [
       "'GSE213243'"
      ],
      "text/markdown": [
       "'GSE213243'"
      ],
      "text/plain": [
       "[1] \"GSE213243\""
      ]
     },
     "metadata": {},
     "output_type": "display_data"
    },
    {
     "data": {
      "text/html": [
       "<table class=\"dataframe\">\n",
       "<caption>A data.frame: 6 × 10</caption>\n",
       "<thead>\n",
       "\t<tr><th></th><th scope=col>orig.ident</th><th scope=col>nCount_RNA</th><th scope=col>nFeature_RNA</th><th scope=col>sample_type</th><th scope=col>cancer_type</th><th scope=col>patient_id</th><th scope=col>sample_id</th><th scope=col>percent.mt</th><th scope=col>RNA_snn_res.0.5</th><th scope=col>seurat_clusters</th></tr>\n",
       "\t<tr><th></th><th scope=col>&lt;fct&gt;</th><th scope=col>&lt;dbl&gt;</th><th scope=col>&lt;int&gt;</th><th scope=col>&lt;chr&gt;</th><th scope=col>&lt;chr&gt;</th><th scope=col>&lt;chr&gt;</th><th scope=col>&lt;chr&gt;</th><th scope=col>&lt;dbl&gt;</th><th scope=col>&lt;fct&gt;</th><th scope=col>&lt;fct&gt;</th></tr>\n",
       "</thead>\n",
       "<tbody>\n",
       "\t<tr><th scope=row>GSE213243_ascites_AAACCCAAGTAGCAAT-2</th><td>GSE213243</td><td>16943</td><td>4684</td><td>ascites</td><td>HGSOC</td><td>pt-1</td><td>GSE213243_HGSOC_ascites</td><td> 7.572449</td><td>5</td><td>5</td></tr>\n",
       "\t<tr><th scope=row>GSE213243_ascites_AAACCCACAGTCGTTA-2</th><td>GSE213243</td><td>14219</td><td>3822</td><td>ascites</td><td>HGSOC</td><td>pt-1</td><td>GSE213243_HGSOC_ascites</td><td> 5.021450</td><td>1</td><td>1</td></tr>\n",
       "\t<tr><th scope=row>GSE213243_ascites_AAACCCATCCGTAGTA-2</th><td>GSE213243</td><td>15634</td><td>4224</td><td>ascites</td><td>HGSOC</td><td>pt-1</td><td>GSE213243_HGSOC_ascites</td><td> 6.556224</td><td>5</td><td>5</td></tr>\n",
       "\t<tr><th scope=row>GSE213243_ascites_AAACGAAAGTGCTCGC-2</th><td>GSE213243</td><td> 3007</td><td>1377</td><td>ascites</td><td>HGSOC</td><td>pt-1</td><td>GSE213243_HGSOC_ascites</td><td>28.766212</td><td>6</td><td>6</td></tr>\n",
       "\t<tr><th scope=row>GSE213243_ascites_AAACGAAGTATGGTAA-2</th><td>GSE213243</td><td>13828</td><td>4227</td><td>ascites</td><td>HGSOC</td><td>pt-1</td><td>GSE213243_HGSOC_ascites</td><td> 4.122071</td><td>5</td><td>5</td></tr>\n",
       "\t<tr><th scope=row>GSE213243_ascites_AAACGCTAGTATCTGC-2</th><td>GSE213243</td><td>12945</td><td>3944</td><td>ascites</td><td>HGSOC</td><td>pt-1</td><td>GSE213243_HGSOC_ascites</td><td> 8.937814</td><td>6</td><td>6</td></tr>\n",
       "</tbody>\n",
       "</table>\n"
      ],
      "text/latex": [
       "A data.frame: 6 × 10\n",
       "\\begin{tabular}{r|llllllllll}\n",
       "  & orig.ident & nCount\\_RNA & nFeature\\_RNA & sample\\_type & cancer\\_type & patient\\_id & sample\\_id & percent.mt & RNA\\_snn\\_res.0.5 & seurat\\_clusters\\\\\n",
       "  & <fct> & <dbl> & <int> & <chr> & <chr> & <chr> & <chr> & <dbl> & <fct> & <fct>\\\\\n",
       "\\hline\n",
       "\tGSE213243\\_ascites\\_AAACCCAAGTAGCAAT-2 & GSE213243 & 16943 & 4684 & ascites & HGSOC & pt-1 & GSE213243\\_HGSOC\\_ascites &  7.572449 & 5 & 5\\\\\n",
       "\tGSE213243\\_ascites\\_AAACCCACAGTCGTTA-2 & GSE213243 & 14219 & 3822 & ascites & HGSOC & pt-1 & GSE213243\\_HGSOC\\_ascites &  5.021450 & 1 & 1\\\\\n",
       "\tGSE213243\\_ascites\\_AAACCCATCCGTAGTA-2 & GSE213243 & 15634 & 4224 & ascites & HGSOC & pt-1 & GSE213243\\_HGSOC\\_ascites &  6.556224 & 5 & 5\\\\\n",
       "\tGSE213243\\_ascites\\_AAACGAAAGTGCTCGC-2 & GSE213243 &  3007 & 1377 & ascites & HGSOC & pt-1 & GSE213243\\_HGSOC\\_ascites & 28.766212 & 6 & 6\\\\\n",
       "\tGSE213243\\_ascites\\_AAACGAAGTATGGTAA-2 & GSE213243 & 13828 & 4227 & ascites & HGSOC & pt-1 & GSE213243\\_HGSOC\\_ascites &  4.122071 & 5 & 5\\\\\n",
       "\tGSE213243\\_ascites\\_AAACGCTAGTATCTGC-2 & GSE213243 & 12945 & 3944 & ascites & HGSOC & pt-1 & GSE213243\\_HGSOC\\_ascites &  8.937814 & 6 & 6\\\\\n",
       "\\end{tabular}\n"
      ],
      "text/markdown": [
       "\n",
       "A data.frame: 6 × 10\n",
       "\n",
       "| <!--/--> | orig.ident &lt;fct&gt; | nCount_RNA &lt;dbl&gt; | nFeature_RNA &lt;int&gt; | sample_type &lt;chr&gt; | cancer_type &lt;chr&gt; | patient_id &lt;chr&gt; | sample_id &lt;chr&gt; | percent.mt &lt;dbl&gt; | RNA_snn_res.0.5 &lt;fct&gt; | seurat_clusters &lt;fct&gt; |\n",
       "|---|---|---|---|---|---|---|---|---|---|---|\n",
       "| GSE213243_ascites_AAACCCAAGTAGCAAT-2 | GSE213243 | 16943 | 4684 | ascites | HGSOC | pt-1 | GSE213243_HGSOC_ascites |  7.572449 | 5 | 5 |\n",
       "| GSE213243_ascites_AAACCCACAGTCGTTA-2 | GSE213243 | 14219 | 3822 | ascites | HGSOC | pt-1 | GSE213243_HGSOC_ascites |  5.021450 | 1 | 1 |\n",
       "| GSE213243_ascites_AAACCCATCCGTAGTA-2 | GSE213243 | 15634 | 4224 | ascites | HGSOC | pt-1 | GSE213243_HGSOC_ascites |  6.556224 | 5 | 5 |\n",
       "| GSE213243_ascites_AAACGAAAGTGCTCGC-2 | GSE213243 |  3007 | 1377 | ascites | HGSOC | pt-1 | GSE213243_HGSOC_ascites | 28.766212 | 6 | 6 |\n",
       "| GSE213243_ascites_AAACGAAGTATGGTAA-2 | GSE213243 | 13828 | 4227 | ascites | HGSOC | pt-1 | GSE213243_HGSOC_ascites |  4.122071 | 5 | 5 |\n",
       "| GSE213243_ascites_AAACGCTAGTATCTGC-2 | GSE213243 | 12945 | 3944 | ascites | HGSOC | pt-1 | GSE213243_HGSOC_ascites |  8.937814 | 6 | 6 |\n",
       "\n"
      ],
      "text/plain": [
       "                                     orig.ident nCount_RNA nFeature_RNA\n",
       "GSE213243_ascites_AAACCCAAGTAGCAAT-2 GSE213243  16943      4684        \n",
       "GSE213243_ascites_AAACCCACAGTCGTTA-2 GSE213243  14219      3822        \n",
       "GSE213243_ascites_AAACCCATCCGTAGTA-2 GSE213243  15634      4224        \n",
       "GSE213243_ascites_AAACGAAAGTGCTCGC-2 GSE213243   3007      1377        \n",
       "GSE213243_ascites_AAACGAAGTATGGTAA-2 GSE213243  13828      4227        \n",
       "GSE213243_ascites_AAACGCTAGTATCTGC-2 GSE213243  12945      3944        \n",
       "                                     sample_type cancer_type patient_id\n",
       "GSE213243_ascites_AAACCCAAGTAGCAAT-2 ascites     HGSOC       pt-1      \n",
       "GSE213243_ascites_AAACCCACAGTCGTTA-2 ascites     HGSOC       pt-1      \n",
       "GSE213243_ascites_AAACCCATCCGTAGTA-2 ascites     HGSOC       pt-1      \n",
       "GSE213243_ascites_AAACGAAAGTGCTCGC-2 ascites     HGSOC       pt-1      \n",
       "GSE213243_ascites_AAACGAAGTATGGTAA-2 ascites     HGSOC       pt-1      \n",
       "GSE213243_ascites_AAACGCTAGTATCTGC-2 ascites     HGSOC       pt-1      \n",
       "                                     sample_id               percent.mt\n",
       "GSE213243_ascites_AAACCCAAGTAGCAAT-2 GSE213243_HGSOC_ascites  7.572449 \n",
       "GSE213243_ascites_AAACCCACAGTCGTTA-2 GSE213243_HGSOC_ascites  5.021450 \n",
       "GSE213243_ascites_AAACCCATCCGTAGTA-2 GSE213243_HGSOC_ascites  6.556224 \n",
       "GSE213243_ascites_AAACGAAAGTGCTCGC-2 GSE213243_HGSOC_ascites 28.766212 \n",
       "GSE213243_ascites_AAACGAAGTATGGTAA-2 GSE213243_HGSOC_ascites  4.122071 \n",
       "GSE213243_ascites_AAACGCTAGTATCTGC-2 GSE213243_HGSOC_ascites  8.937814 \n",
       "                                     RNA_snn_res.0.5 seurat_clusters\n",
       "GSE213243_ascites_AAACCCAAGTAGCAAT-2 5               5              \n",
       "GSE213243_ascites_AAACCCACAGTCGTTA-2 1               1              \n",
       "GSE213243_ascites_AAACCCATCCGTAGTA-2 5               5              \n",
       "GSE213243_ascites_AAACGAAAGTGCTCGC-2 6               6              \n",
       "GSE213243_ascites_AAACGAAGTATGGTAA-2 5               5              \n",
       "GSE213243_ascites_AAACGCTAGTATCTGC-2 6               6              "
      ]
     },
     "metadata": {},
     "output_type": "display_data"
    }
   ],
   "source": [
    "HGSOC_tu\n",
    "HGSOC_tu@project.name\n",
    "head(HGSOC_tu@meta.data)\n",
    "\n",
    "HGSOC_As\n",
    "HGSOC_As@project.name\n",
    "head(HGSOC_As@meta.data)"
   ]
  },
  {
   "cell_type": "code",
   "execution_count": 55,
   "metadata": {
    "vscode": {
     "languageId": "r"
    }
   },
   "outputs": [
    {
     "data": {
      "text/plain": [
       "\n",
       "tumour \n",
       "   804 "
      ]
     },
     "metadata": {},
     "output_type": "display_data"
    },
    {
     "data": {
      "text/plain": [
       "\n",
       "HGSOC \n",
       "  804 "
      ]
     },
     "metadata": {},
     "output_type": "display_data"
    },
    {
     "data": {
      "text/plain": [
       "\n",
       "pt-1 \n",
       " 804 "
      ]
     },
     "metadata": {},
     "output_type": "display_data"
    },
    {
     "data": {
      "text/plain": [
       "\n",
       "GSE213243_HGSOC_tumour \n",
       "                   804 "
      ]
     },
     "metadata": {},
     "output_type": "display_data"
    },
    {
     "data": {
      "text/plain": [
       "\n",
       "ascites \n",
       "   2688 "
      ]
     },
     "metadata": {},
     "output_type": "display_data"
    },
    {
     "data": {
      "text/plain": [
       "\n",
       "HGSOC \n",
       " 2688 "
      ]
     },
     "metadata": {},
     "output_type": "display_data"
    },
    {
     "data": {
      "text/plain": [
       "\n",
       "pt-1 \n",
       "2688 "
      ]
     },
     "metadata": {},
     "output_type": "display_data"
    },
    {
     "data": {
      "text/plain": [
       "\n",
       "GSE213243_HGSOC_ascites \n",
       "                   2688 "
      ]
     },
     "metadata": {},
     "output_type": "display_data"
    }
   ],
   "source": [
    "table(HGSOC_tu$sample_type)\n",
    "table(HGSOC_tu$cancer_type)\n",
    "table(HGSOC_tu$patient_id)\n",
    "table(HGSOC_tu$sample_id)\n",
    "\n",
    "table(HGSOC_As$sample_type)\n",
    "table(HGSOC_As$cancer_type)\n",
    "table(HGSOC_As$patient_id)\n",
    "table(HGSOC_As$sample_id)"
   ]
  },
  {
   "cell_type": "code",
   "execution_count": 56,
   "metadata": {
    "vscode": {
     "languageId": "r"
    }
   },
   "outputs": [],
   "source": [
    "#set site metadata\n",
    "HGSOC_tu@meta.data$site <- \"ovary\"\n",
    "HGSOC_As@meta.data$site <- \"ascites fluid\"\n",
    "\n",
    "HGSOC_tu@meta.data$sample_type_major <- \"primary tumour\"\n",
    "HGSOC_As@meta.data$sample_type_major <- \"ascites\""
   ]
  },
  {
   "cell_type": "code",
   "execution_count": 57,
   "metadata": {
    "vscode": {
     "languageId": "r"
    }
   },
   "outputs": [],
   "source": [
    "#set subtype metadata\n",
    "\n",
    "#split by cancer_type\n",
    "HGSOC_tu@meta.data$cancer_subtype <- \"HGSOC\"\n",
    "HGSOC_As@meta.data$cancer_subtype <- \"HGSOC\""
   ]
  },
  {
   "cell_type": "code",
   "execution_count": 58,
   "metadata": {
    "vscode": {
     "languageId": "r"
    }
   },
   "outputs": [],
   "source": [
    "#merge objects\n",
    "HGSOC <- merge(HGSOC_tu, y = c(HGSOC_As), project = \"GSE213243\")"
   ]
  },
  {
   "cell_type": "code",
   "execution_count": 59,
   "metadata": {
    "vscode": {
     "languageId": "r"
    }
   },
   "outputs": [],
   "source": [
    "#set integration_id metadata\n",
    "HGSOC@meta.data$integration_id <- HGSOC@meta.data$sample_id"
   ]
  },
  {
   "cell_type": "code",
   "execution_count": 60,
   "metadata": {
    "vscode": {
     "languageId": "r"
    }
   },
   "outputs": [
    {
     "data": {
      "text/plain": [
       "An object of class Seurat \n",
       "58825 features across 3492 samples within 1 assay \n",
       "Active assay: RNA (58825 features, 2000 variable features)\n",
       " 6 layers present: counts.1, counts.2, data.1, scale.data.1, data.2, scale.data.2"
      ]
     },
     "metadata": {},
     "output_type": "display_data"
    },
    {
     "data": {
      "text/html": [
       "'GSE213243'"
      ],
      "text/latex": [
       "'GSE213243'"
      ],
      "text/markdown": [
       "'GSE213243'"
      ],
      "text/plain": [
       "[1] \"GSE213243\""
      ]
     },
     "metadata": {},
     "output_type": "display_data"
    },
    {
     "data": {
      "text/html": [
       "<table class=\"dataframe\">\n",
       "<caption>A data.frame: 6 × 14</caption>\n",
       "<thead>\n",
       "\t<tr><th></th><th scope=col>orig.ident</th><th scope=col>nCount_RNA</th><th scope=col>nFeature_RNA</th><th scope=col>sample_type</th><th scope=col>cancer_type</th><th scope=col>patient_id</th><th scope=col>sample_id</th><th scope=col>percent.mt</th><th scope=col>RNA_snn_res.0.5</th><th scope=col>seurat_clusters</th><th scope=col>site</th><th scope=col>sample_type_major</th><th scope=col>cancer_subtype</th><th scope=col>integration_id</th></tr>\n",
       "\t<tr><th></th><th scope=col>&lt;chr&gt;</th><th scope=col>&lt;dbl&gt;</th><th scope=col>&lt;int&gt;</th><th scope=col>&lt;chr&gt;</th><th scope=col>&lt;chr&gt;</th><th scope=col>&lt;chr&gt;</th><th scope=col>&lt;chr&gt;</th><th scope=col>&lt;dbl&gt;</th><th scope=col>&lt;chr&gt;</th><th scope=col>&lt;chr&gt;</th><th scope=col>&lt;chr&gt;</th><th scope=col>&lt;chr&gt;</th><th scope=col>&lt;chr&gt;</th><th scope=col>&lt;chr&gt;</th></tr>\n",
       "</thead>\n",
       "<tbody>\n",
       "\t<tr><th scope=row>GSE213243_tumour_AAAGGTACACGCAGTC-1</th><td>GSE213243</td><td> 8050</td><td>2780</td><td>tumour</td><td>HGSOC</td><td>pt-1</td><td>GSE213243_HGSOC_tumour</td><td>19.962733</td><td>3</td><td>3</td><td>ovary</td><td>primary tumour</td><td>HGSOC</td><td>GSE213243_HGSOC_tumour</td></tr>\n",
       "\t<tr><th scope=row>GSE213243_tumour_AAATGGACACACGCCA-1</th><td>GSE213243</td><td> 5854</td><td>2467</td><td>tumour</td><td>HGSOC</td><td>pt-1</td><td>GSE213243_HGSOC_tumour</td><td> 4.936795</td><td>3</td><td>3</td><td>ovary</td><td>primary tumour</td><td>HGSOC</td><td>GSE213243_HGSOC_tumour</td></tr>\n",
       "\t<tr><th scope=row>GSE213243_tumour_AACAAAGCAATTTCCT-1</th><td>GSE213243</td><td> 6073</td><td>2541</td><td>tumour</td><td>HGSOC</td><td>pt-1</td><td>GSE213243_HGSOC_tumour</td><td> 6.323069</td><td>3</td><td>3</td><td>ovary</td><td>primary tumour</td><td>HGSOC</td><td>GSE213243_HGSOC_tumour</td></tr>\n",
       "\t<tr><th scope=row>GSE213243_tumour_AACACACGTAGCTTTG-1</th><td>GSE213243</td><td>13497</td><td>3862</td><td>tumour</td><td>HGSOC</td><td>pt-1</td><td>GSE213243_HGSOC_tumour</td><td> 5.319701</td><td>3</td><td>3</td><td>ovary</td><td>primary tumour</td><td>HGSOC</td><td>GSE213243_HGSOC_tumour</td></tr>\n",
       "\t<tr><th scope=row>GSE213243_tumour_AACACACTCGCTGTTC-1</th><td>GSE213243</td><td> 8644</td><td>3306</td><td>tumour</td><td>HGSOC</td><td>pt-1</td><td>GSE213243_HGSOC_tumour</td><td>10.596946</td><td>3</td><td>3</td><td>ovary</td><td>primary tumour</td><td>HGSOC</td><td>GSE213243_HGSOC_tumour</td></tr>\n",
       "\t<tr><th scope=row>GSE213243_tumour_AACAGGGCAACCCTAA-1</th><td>GSE213243</td><td> 6263</td><td>2562</td><td>tumour</td><td>HGSOC</td><td>pt-1</td><td>GSE213243_HGSOC_tumour</td><td> 3.544627</td><td>3</td><td>3</td><td>ovary</td><td>primary tumour</td><td>HGSOC</td><td>GSE213243_HGSOC_tumour</td></tr>\n",
       "</tbody>\n",
       "</table>\n"
      ],
      "text/latex": [
       "A data.frame: 6 × 14\n",
       "\\begin{tabular}{r|llllllllllllll}\n",
       "  & orig.ident & nCount\\_RNA & nFeature\\_RNA & sample\\_type & cancer\\_type & patient\\_id & sample\\_id & percent.mt & RNA\\_snn\\_res.0.5 & seurat\\_clusters & site & sample\\_type\\_major & cancer\\_subtype & integration\\_id\\\\\n",
       "  & <chr> & <dbl> & <int> & <chr> & <chr> & <chr> & <chr> & <dbl> & <chr> & <chr> & <chr> & <chr> & <chr> & <chr>\\\\\n",
       "\\hline\n",
       "\tGSE213243\\_tumour\\_AAAGGTACACGCAGTC-1 & GSE213243 &  8050 & 2780 & tumour & HGSOC & pt-1 & GSE213243\\_HGSOC\\_tumour & 19.962733 & 3 & 3 & ovary & primary tumour & HGSOC & GSE213243\\_HGSOC\\_tumour\\\\\n",
       "\tGSE213243\\_tumour\\_AAATGGACACACGCCA-1 & GSE213243 &  5854 & 2467 & tumour & HGSOC & pt-1 & GSE213243\\_HGSOC\\_tumour &  4.936795 & 3 & 3 & ovary & primary tumour & HGSOC & GSE213243\\_HGSOC\\_tumour\\\\\n",
       "\tGSE213243\\_tumour\\_AACAAAGCAATTTCCT-1 & GSE213243 &  6073 & 2541 & tumour & HGSOC & pt-1 & GSE213243\\_HGSOC\\_tumour &  6.323069 & 3 & 3 & ovary & primary tumour & HGSOC & GSE213243\\_HGSOC\\_tumour\\\\\n",
       "\tGSE213243\\_tumour\\_AACACACGTAGCTTTG-1 & GSE213243 & 13497 & 3862 & tumour & HGSOC & pt-1 & GSE213243\\_HGSOC\\_tumour &  5.319701 & 3 & 3 & ovary & primary tumour & HGSOC & GSE213243\\_HGSOC\\_tumour\\\\\n",
       "\tGSE213243\\_tumour\\_AACACACTCGCTGTTC-1 & GSE213243 &  8644 & 3306 & tumour & HGSOC & pt-1 & GSE213243\\_HGSOC\\_tumour & 10.596946 & 3 & 3 & ovary & primary tumour & HGSOC & GSE213243\\_HGSOC\\_tumour\\\\\n",
       "\tGSE213243\\_tumour\\_AACAGGGCAACCCTAA-1 & GSE213243 &  6263 & 2562 & tumour & HGSOC & pt-1 & GSE213243\\_HGSOC\\_tumour &  3.544627 & 3 & 3 & ovary & primary tumour & HGSOC & GSE213243\\_HGSOC\\_tumour\\\\\n",
       "\\end{tabular}\n"
      ],
      "text/markdown": [
       "\n",
       "A data.frame: 6 × 14\n",
       "\n",
       "| <!--/--> | orig.ident &lt;chr&gt; | nCount_RNA &lt;dbl&gt; | nFeature_RNA &lt;int&gt; | sample_type &lt;chr&gt; | cancer_type &lt;chr&gt; | patient_id &lt;chr&gt; | sample_id &lt;chr&gt; | percent.mt &lt;dbl&gt; | RNA_snn_res.0.5 &lt;chr&gt; | seurat_clusters &lt;chr&gt; | site &lt;chr&gt; | sample_type_major &lt;chr&gt; | cancer_subtype &lt;chr&gt; | integration_id &lt;chr&gt; |\n",
       "|---|---|---|---|---|---|---|---|---|---|---|---|---|---|---|\n",
       "| GSE213243_tumour_AAAGGTACACGCAGTC-1 | GSE213243 |  8050 | 2780 | tumour | HGSOC | pt-1 | GSE213243_HGSOC_tumour | 19.962733 | 3 | 3 | ovary | primary tumour | HGSOC | GSE213243_HGSOC_tumour |\n",
       "| GSE213243_tumour_AAATGGACACACGCCA-1 | GSE213243 |  5854 | 2467 | tumour | HGSOC | pt-1 | GSE213243_HGSOC_tumour |  4.936795 | 3 | 3 | ovary | primary tumour | HGSOC | GSE213243_HGSOC_tumour |\n",
       "| GSE213243_tumour_AACAAAGCAATTTCCT-1 | GSE213243 |  6073 | 2541 | tumour | HGSOC | pt-1 | GSE213243_HGSOC_tumour |  6.323069 | 3 | 3 | ovary | primary tumour | HGSOC | GSE213243_HGSOC_tumour |\n",
       "| GSE213243_tumour_AACACACGTAGCTTTG-1 | GSE213243 | 13497 | 3862 | tumour | HGSOC | pt-1 | GSE213243_HGSOC_tumour |  5.319701 | 3 | 3 | ovary | primary tumour | HGSOC | GSE213243_HGSOC_tumour |\n",
       "| GSE213243_tumour_AACACACTCGCTGTTC-1 | GSE213243 |  8644 | 3306 | tumour | HGSOC | pt-1 | GSE213243_HGSOC_tumour | 10.596946 | 3 | 3 | ovary | primary tumour | HGSOC | GSE213243_HGSOC_tumour |\n",
       "| GSE213243_tumour_AACAGGGCAACCCTAA-1 | GSE213243 |  6263 | 2562 | tumour | HGSOC | pt-1 | GSE213243_HGSOC_tumour |  3.544627 | 3 | 3 | ovary | primary tumour | HGSOC | GSE213243_HGSOC_tumour |\n",
       "\n"
      ],
      "text/plain": [
       "                                    orig.ident nCount_RNA nFeature_RNA\n",
       "GSE213243_tumour_AAAGGTACACGCAGTC-1 GSE213243   8050      2780        \n",
       "GSE213243_tumour_AAATGGACACACGCCA-1 GSE213243   5854      2467        \n",
       "GSE213243_tumour_AACAAAGCAATTTCCT-1 GSE213243   6073      2541        \n",
       "GSE213243_tumour_AACACACGTAGCTTTG-1 GSE213243  13497      3862        \n",
       "GSE213243_tumour_AACACACTCGCTGTTC-1 GSE213243   8644      3306        \n",
       "GSE213243_tumour_AACAGGGCAACCCTAA-1 GSE213243   6263      2562        \n",
       "                                    sample_type cancer_type patient_id\n",
       "GSE213243_tumour_AAAGGTACACGCAGTC-1 tumour      HGSOC       pt-1      \n",
       "GSE213243_tumour_AAATGGACACACGCCA-1 tumour      HGSOC       pt-1      \n",
       "GSE213243_tumour_AACAAAGCAATTTCCT-1 tumour      HGSOC       pt-1      \n",
       "GSE213243_tumour_AACACACGTAGCTTTG-1 tumour      HGSOC       pt-1      \n",
       "GSE213243_tumour_AACACACTCGCTGTTC-1 tumour      HGSOC       pt-1      \n",
       "GSE213243_tumour_AACAGGGCAACCCTAA-1 tumour      HGSOC       pt-1      \n",
       "                                    sample_id              percent.mt\n",
       "GSE213243_tumour_AAAGGTACACGCAGTC-1 GSE213243_HGSOC_tumour 19.962733 \n",
       "GSE213243_tumour_AAATGGACACACGCCA-1 GSE213243_HGSOC_tumour  4.936795 \n",
       "GSE213243_tumour_AACAAAGCAATTTCCT-1 GSE213243_HGSOC_tumour  6.323069 \n",
       "GSE213243_tumour_AACACACGTAGCTTTG-1 GSE213243_HGSOC_tumour  5.319701 \n",
       "GSE213243_tumour_AACACACTCGCTGTTC-1 GSE213243_HGSOC_tumour 10.596946 \n",
       "GSE213243_tumour_AACAGGGCAACCCTAA-1 GSE213243_HGSOC_tumour  3.544627 \n",
       "                                    RNA_snn_res.0.5 seurat_clusters site \n",
       "GSE213243_tumour_AAAGGTACACGCAGTC-1 3               3               ovary\n",
       "GSE213243_tumour_AAATGGACACACGCCA-1 3               3               ovary\n",
       "GSE213243_tumour_AACAAAGCAATTTCCT-1 3               3               ovary\n",
       "GSE213243_tumour_AACACACGTAGCTTTG-1 3               3               ovary\n",
       "GSE213243_tumour_AACACACTCGCTGTTC-1 3               3               ovary\n",
       "GSE213243_tumour_AACAGGGCAACCCTAA-1 3               3               ovary\n",
       "                                    sample_type_major cancer_subtype\n",
       "GSE213243_tumour_AAAGGTACACGCAGTC-1 primary tumour    HGSOC         \n",
       "GSE213243_tumour_AAATGGACACACGCCA-1 primary tumour    HGSOC         \n",
       "GSE213243_tumour_AACAAAGCAATTTCCT-1 primary tumour    HGSOC         \n",
       "GSE213243_tumour_AACACACGTAGCTTTG-1 primary tumour    HGSOC         \n",
       "GSE213243_tumour_AACACACTCGCTGTTC-1 primary tumour    HGSOC         \n",
       "GSE213243_tumour_AACAGGGCAACCCTAA-1 primary tumour    HGSOC         \n",
       "                                    integration_id        \n",
       "GSE213243_tumour_AAAGGTACACGCAGTC-1 GSE213243_HGSOC_tumour\n",
       "GSE213243_tumour_AAATGGACACACGCCA-1 GSE213243_HGSOC_tumour\n",
       "GSE213243_tumour_AACAAAGCAATTTCCT-1 GSE213243_HGSOC_tumour\n",
       "GSE213243_tumour_AACACACGTAGCTTTG-1 GSE213243_HGSOC_tumour\n",
       "GSE213243_tumour_AACACACTCGCTGTTC-1 GSE213243_HGSOC_tumour\n",
       "GSE213243_tumour_AACAGGGCAACCCTAA-1 GSE213243_HGSOC_tumour"
      ]
     },
     "metadata": {},
     "output_type": "display_data"
    },
    {
     "data": {
      "text/html": [
       "<table class=\"dataframe\">\n",
       "<caption>A data.frame: 6 × 14</caption>\n",
       "<thead>\n",
       "\t<tr><th></th><th scope=col>orig.ident</th><th scope=col>nCount_RNA</th><th scope=col>nFeature_RNA</th><th scope=col>sample_type</th><th scope=col>cancer_type</th><th scope=col>patient_id</th><th scope=col>sample_id</th><th scope=col>percent.mt</th><th scope=col>RNA_snn_res.0.5</th><th scope=col>seurat_clusters</th><th scope=col>site</th><th scope=col>sample_type_major</th><th scope=col>cancer_subtype</th><th scope=col>integration_id</th></tr>\n",
       "\t<tr><th></th><th scope=col>&lt;chr&gt;</th><th scope=col>&lt;dbl&gt;</th><th scope=col>&lt;int&gt;</th><th scope=col>&lt;chr&gt;</th><th scope=col>&lt;chr&gt;</th><th scope=col>&lt;chr&gt;</th><th scope=col>&lt;chr&gt;</th><th scope=col>&lt;dbl&gt;</th><th scope=col>&lt;chr&gt;</th><th scope=col>&lt;chr&gt;</th><th scope=col>&lt;chr&gt;</th><th scope=col>&lt;chr&gt;</th><th scope=col>&lt;chr&gt;</th><th scope=col>&lt;chr&gt;</th></tr>\n",
       "</thead>\n",
       "<tbody>\n",
       "\t<tr><th scope=row>GSE213243_ascites_TTTGATCGTTAGGCCC-2</th><td>GSE213243</td><td>20342</td><td>4702</td><td>ascites</td><td>HGSOC</td><td>pt-1</td><td>GSE213243_HGSOC_ascites</td><td> 5.899125</td><td>5</td><td>5</td><td>ascites fluid</td><td>ascites</td><td>HGSOC</td><td>GSE213243_HGSOC_ascites</td></tr>\n",
       "\t<tr><th scope=row>GSE213243_ascites_TTTGATCTCTCGGCTT-2</th><td>GSE213243</td><td> 1614</td><td> 820</td><td>ascites</td><td>HGSOC</td><td>pt-1</td><td>GSE213243_HGSOC_ascites</td><td>34.262701</td><td>1</td><td>1</td><td>ascites fluid</td><td>ascites</td><td>HGSOC</td><td>GSE213243_HGSOC_ascites</td></tr>\n",
       "\t<tr><th scope=row>GSE213243_ascites_TTTGGAGCACGTCTCT-2</th><td>GSE213243</td><td>10549</td><td>3639</td><td>ascites</td><td>HGSOC</td><td>pt-1</td><td>GSE213243_HGSOC_ascites</td><td>11.119537</td><td>6</td><td>6</td><td>ascites fluid</td><td>ascites</td><td>HGSOC</td><td>GSE213243_HGSOC_ascites</td></tr>\n",
       "\t<tr><th scope=row>GSE213243_ascites_TTTGGAGGTCCTGGGT-2</th><td>GSE213243</td><td> 4613</td><td>2061</td><td>ascites</td><td>HGSOC</td><td>pt-1</td><td>GSE213243_HGSOC_ascites</td><td>12.421418</td><td>1</td><td>1</td><td>ascites fluid</td><td>ascites</td><td>HGSOC</td><td>GSE213243_HGSOC_ascites</td></tr>\n",
       "\t<tr><th scope=row>GSE213243_ascites_TTTGGTTCATCCTATT-2</th><td>GSE213243</td><td> 6073</td><td>2678</td><td>ascites</td><td>HGSOC</td><td>pt-1</td><td>GSE213243_HGSOC_ascites</td><td>11.954553</td><td>1</td><td>1</td><td>ascites fluid</td><td>ascites</td><td>HGSOC</td><td>GSE213243_HGSOC_ascites</td></tr>\n",
       "\t<tr><th scope=row>GSE213243_ascites_TTTGTTGCATGATGCT-2</th><td>GSE213243</td><td>14293</td><td>4430</td><td>ascites</td><td>HGSOC</td><td>pt-1</td><td>GSE213243_HGSOC_ascites</td><td> 5.044427</td><td>6</td><td>6</td><td>ascites fluid</td><td>ascites</td><td>HGSOC</td><td>GSE213243_HGSOC_ascites</td></tr>\n",
       "</tbody>\n",
       "</table>\n"
      ],
      "text/latex": [
       "A data.frame: 6 × 14\n",
       "\\begin{tabular}{r|llllllllllllll}\n",
       "  & orig.ident & nCount\\_RNA & nFeature\\_RNA & sample\\_type & cancer\\_type & patient\\_id & sample\\_id & percent.mt & RNA\\_snn\\_res.0.5 & seurat\\_clusters & site & sample\\_type\\_major & cancer\\_subtype & integration\\_id\\\\\n",
       "  & <chr> & <dbl> & <int> & <chr> & <chr> & <chr> & <chr> & <dbl> & <chr> & <chr> & <chr> & <chr> & <chr> & <chr>\\\\\n",
       "\\hline\n",
       "\tGSE213243\\_ascites\\_TTTGATCGTTAGGCCC-2 & GSE213243 & 20342 & 4702 & ascites & HGSOC & pt-1 & GSE213243\\_HGSOC\\_ascites &  5.899125 & 5 & 5 & ascites fluid & ascites & HGSOC & GSE213243\\_HGSOC\\_ascites\\\\\n",
       "\tGSE213243\\_ascites\\_TTTGATCTCTCGGCTT-2 & GSE213243 &  1614 &  820 & ascites & HGSOC & pt-1 & GSE213243\\_HGSOC\\_ascites & 34.262701 & 1 & 1 & ascites fluid & ascites & HGSOC & GSE213243\\_HGSOC\\_ascites\\\\\n",
       "\tGSE213243\\_ascites\\_TTTGGAGCACGTCTCT-2 & GSE213243 & 10549 & 3639 & ascites & HGSOC & pt-1 & GSE213243\\_HGSOC\\_ascites & 11.119537 & 6 & 6 & ascites fluid & ascites & HGSOC & GSE213243\\_HGSOC\\_ascites\\\\\n",
       "\tGSE213243\\_ascites\\_TTTGGAGGTCCTGGGT-2 & GSE213243 &  4613 & 2061 & ascites & HGSOC & pt-1 & GSE213243\\_HGSOC\\_ascites & 12.421418 & 1 & 1 & ascites fluid & ascites & HGSOC & GSE213243\\_HGSOC\\_ascites\\\\\n",
       "\tGSE213243\\_ascites\\_TTTGGTTCATCCTATT-2 & GSE213243 &  6073 & 2678 & ascites & HGSOC & pt-1 & GSE213243\\_HGSOC\\_ascites & 11.954553 & 1 & 1 & ascites fluid & ascites & HGSOC & GSE213243\\_HGSOC\\_ascites\\\\\n",
       "\tGSE213243\\_ascites\\_TTTGTTGCATGATGCT-2 & GSE213243 & 14293 & 4430 & ascites & HGSOC & pt-1 & GSE213243\\_HGSOC\\_ascites &  5.044427 & 6 & 6 & ascites fluid & ascites & HGSOC & GSE213243\\_HGSOC\\_ascites\\\\\n",
       "\\end{tabular}\n"
      ],
      "text/markdown": [
       "\n",
       "A data.frame: 6 × 14\n",
       "\n",
       "| <!--/--> | orig.ident &lt;chr&gt; | nCount_RNA &lt;dbl&gt; | nFeature_RNA &lt;int&gt; | sample_type &lt;chr&gt; | cancer_type &lt;chr&gt; | patient_id &lt;chr&gt; | sample_id &lt;chr&gt; | percent.mt &lt;dbl&gt; | RNA_snn_res.0.5 &lt;chr&gt; | seurat_clusters &lt;chr&gt; | site &lt;chr&gt; | sample_type_major &lt;chr&gt; | cancer_subtype &lt;chr&gt; | integration_id &lt;chr&gt; |\n",
       "|---|---|---|---|---|---|---|---|---|---|---|---|---|---|---|\n",
       "| GSE213243_ascites_TTTGATCGTTAGGCCC-2 | GSE213243 | 20342 | 4702 | ascites | HGSOC | pt-1 | GSE213243_HGSOC_ascites |  5.899125 | 5 | 5 | ascites fluid | ascites | HGSOC | GSE213243_HGSOC_ascites |\n",
       "| GSE213243_ascites_TTTGATCTCTCGGCTT-2 | GSE213243 |  1614 |  820 | ascites | HGSOC | pt-1 | GSE213243_HGSOC_ascites | 34.262701 | 1 | 1 | ascites fluid | ascites | HGSOC | GSE213243_HGSOC_ascites |\n",
       "| GSE213243_ascites_TTTGGAGCACGTCTCT-2 | GSE213243 | 10549 | 3639 | ascites | HGSOC | pt-1 | GSE213243_HGSOC_ascites | 11.119537 | 6 | 6 | ascites fluid | ascites | HGSOC | GSE213243_HGSOC_ascites |\n",
       "| GSE213243_ascites_TTTGGAGGTCCTGGGT-2 | GSE213243 |  4613 | 2061 | ascites | HGSOC | pt-1 | GSE213243_HGSOC_ascites | 12.421418 | 1 | 1 | ascites fluid | ascites | HGSOC | GSE213243_HGSOC_ascites |\n",
       "| GSE213243_ascites_TTTGGTTCATCCTATT-2 | GSE213243 |  6073 | 2678 | ascites | HGSOC | pt-1 | GSE213243_HGSOC_ascites | 11.954553 | 1 | 1 | ascites fluid | ascites | HGSOC | GSE213243_HGSOC_ascites |\n",
       "| GSE213243_ascites_TTTGTTGCATGATGCT-2 | GSE213243 | 14293 | 4430 | ascites | HGSOC | pt-1 | GSE213243_HGSOC_ascites |  5.044427 | 6 | 6 | ascites fluid | ascites | HGSOC | GSE213243_HGSOC_ascites |\n",
       "\n"
      ],
      "text/plain": [
       "                                     orig.ident nCount_RNA nFeature_RNA\n",
       "GSE213243_ascites_TTTGATCGTTAGGCCC-2 GSE213243  20342      4702        \n",
       "GSE213243_ascites_TTTGATCTCTCGGCTT-2 GSE213243   1614       820        \n",
       "GSE213243_ascites_TTTGGAGCACGTCTCT-2 GSE213243  10549      3639        \n",
       "GSE213243_ascites_TTTGGAGGTCCTGGGT-2 GSE213243   4613      2061        \n",
       "GSE213243_ascites_TTTGGTTCATCCTATT-2 GSE213243   6073      2678        \n",
       "GSE213243_ascites_TTTGTTGCATGATGCT-2 GSE213243  14293      4430        \n",
       "                                     sample_type cancer_type patient_id\n",
       "GSE213243_ascites_TTTGATCGTTAGGCCC-2 ascites     HGSOC       pt-1      \n",
       "GSE213243_ascites_TTTGATCTCTCGGCTT-2 ascites     HGSOC       pt-1      \n",
       "GSE213243_ascites_TTTGGAGCACGTCTCT-2 ascites     HGSOC       pt-1      \n",
       "GSE213243_ascites_TTTGGAGGTCCTGGGT-2 ascites     HGSOC       pt-1      \n",
       "GSE213243_ascites_TTTGGTTCATCCTATT-2 ascites     HGSOC       pt-1      \n",
       "GSE213243_ascites_TTTGTTGCATGATGCT-2 ascites     HGSOC       pt-1      \n",
       "                                     sample_id               percent.mt\n",
       "GSE213243_ascites_TTTGATCGTTAGGCCC-2 GSE213243_HGSOC_ascites  5.899125 \n",
       "GSE213243_ascites_TTTGATCTCTCGGCTT-2 GSE213243_HGSOC_ascites 34.262701 \n",
       "GSE213243_ascites_TTTGGAGCACGTCTCT-2 GSE213243_HGSOC_ascites 11.119537 \n",
       "GSE213243_ascites_TTTGGAGGTCCTGGGT-2 GSE213243_HGSOC_ascites 12.421418 \n",
       "GSE213243_ascites_TTTGGTTCATCCTATT-2 GSE213243_HGSOC_ascites 11.954553 \n",
       "GSE213243_ascites_TTTGTTGCATGATGCT-2 GSE213243_HGSOC_ascites  5.044427 \n",
       "                                     RNA_snn_res.0.5 seurat_clusters\n",
       "GSE213243_ascites_TTTGATCGTTAGGCCC-2 5               5              \n",
       "GSE213243_ascites_TTTGATCTCTCGGCTT-2 1               1              \n",
       "GSE213243_ascites_TTTGGAGCACGTCTCT-2 6               6              \n",
       "GSE213243_ascites_TTTGGAGGTCCTGGGT-2 1               1              \n",
       "GSE213243_ascites_TTTGGTTCATCCTATT-2 1               1              \n",
       "GSE213243_ascites_TTTGTTGCATGATGCT-2 6               6              \n",
       "                                     site          sample_type_major\n",
       "GSE213243_ascites_TTTGATCGTTAGGCCC-2 ascites fluid ascites          \n",
       "GSE213243_ascites_TTTGATCTCTCGGCTT-2 ascites fluid ascites          \n",
       "GSE213243_ascites_TTTGGAGCACGTCTCT-2 ascites fluid ascites          \n",
       "GSE213243_ascites_TTTGGAGGTCCTGGGT-2 ascites fluid ascites          \n",
       "GSE213243_ascites_TTTGGTTCATCCTATT-2 ascites fluid ascites          \n",
       "GSE213243_ascites_TTTGTTGCATGATGCT-2 ascites fluid ascites          \n",
       "                                     cancer_subtype integration_id         \n",
       "GSE213243_ascites_TTTGATCGTTAGGCCC-2 HGSOC          GSE213243_HGSOC_ascites\n",
       "GSE213243_ascites_TTTGATCTCTCGGCTT-2 HGSOC          GSE213243_HGSOC_ascites\n",
       "GSE213243_ascites_TTTGGAGCACGTCTCT-2 HGSOC          GSE213243_HGSOC_ascites\n",
       "GSE213243_ascites_TTTGGAGGTCCTGGGT-2 HGSOC          GSE213243_HGSOC_ascites\n",
       "GSE213243_ascites_TTTGGTTCATCCTATT-2 HGSOC          GSE213243_HGSOC_ascites\n",
       "GSE213243_ascites_TTTGTTGCATGATGCT-2 HGSOC          GSE213243_HGSOC_ascites"
      ]
     },
     "metadata": {},
     "output_type": "display_data"
    }
   ],
   "source": [
    "HGSOC\n",
    "HGSOC@project.name\n",
    "head(HGSOC@meta.data)\n",
    "tail(HGSOC@meta.data)"
   ]
  },
  {
   "cell_type": "code",
   "execution_count": 61,
   "metadata": {
    "vscode": {
     "languageId": "r"
    }
   },
   "outputs": [
    {
     "data": {
      "text/plain": [
       "\n",
       "GSE213243_HGSOC_ascites  GSE213243_HGSOC_tumour \n",
       "                   2688                     804 "
      ]
     },
     "metadata": {},
     "output_type": "display_data"
    }
   ],
   "source": [
    "#exclude any samples with <100 cells\n",
    "table(HGSOC$integration_id)\n",
    "#none to exclude"
   ]
  },
  {
   "cell_type": "code",
   "execution_count": 62,
   "metadata": {
    "vscode": {
     "languageId": "r"
    }
   },
   "outputs": [
    {
     "data": {
      "text/html": [
       "<style>\n",
       ".list-inline {list-style: none; margin:0; padding: 0}\n",
       ".list-inline>li {display: inline-block}\n",
       ".list-inline>li:not(:last-child)::after {content: \"\\00b7\"; padding: 0 .5ex}\n",
       "</style>\n",
       "<ol class=list-inline><li>'counts.1'</li><li>'counts.2'</li><li>'data.1'</li><li>'scale.data.1'</li><li>'data.2'</li><li>'scale.data.2'</li></ol>\n"
      ],
      "text/latex": [
       "\\begin{enumerate*}\n",
       "\\item 'counts.1'\n",
       "\\item 'counts.2'\n",
       "\\item 'data.1'\n",
       "\\item 'scale.data.1'\n",
       "\\item 'data.2'\n",
       "\\item 'scale.data.2'\n",
       "\\end{enumerate*}\n"
      ],
      "text/markdown": [
       "1. 'counts.1'\n",
       "2. 'counts.2'\n",
       "3. 'data.1'\n",
       "4. 'scale.data.1'\n",
       "5. 'data.2'\n",
       "6. 'scale.data.2'\n",
       "\n",
       "\n"
      ],
      "text/plain": [
       "[1] \"counts.1\"     \"counts.2\"     \"data.1\"       \"scale.data.1\" \"data.2\"      \n",
       "[6] \"scale.data.2\""
      ]
     },
     "metadata": {},
     "output_type": "display_data"
    },
    {
     "data": {
      "text/html": [
       "<style>\n",
       ".list-inline {list-style: none; margin:0; padding: 0}\n",
       ".list-inline>li {display: inline-block}\n",
       ".list-inline>li:not(:last-child)::after {content: \"\\00b7\"; padding: 0 .5ex}\n",
       "</style>\n",
       "<ol class=list-inline><li>'scale.data'</li><li>'data'</li><li>'counts'</li></ol>\n"
      ],
      "text/latex": [
       "\\begin{enumerate*}\n",
       "\\item 'scale.data'\n",
       "\\item 'data'\n",
       "\\item 'counts'\n",
       "\\end{enumerate*}\n"
      ],
      "text/markdown": [
       "1. 'scale.data'\n",
       "2. 'data'\n",
       "3. 'counts'\n",
       "\n",
       "\n"
      ],
      "text/plain": [
       "[1] \"scale.data\" \"data\"       \"counts\"    "
      ]
     },
     "metadata": {},
     "output_type": "display_data"
    },
    {
     "name": "stderr",
     "output_type": "stream",
     "text": [
      "Splitting ‘counts’, ‘data’ layers. Not splitting ‘scale.data’. If you would like to split other layers, set in `layers` argument.\n",
      "\n"
     ]
    },
    {
     "data": {
      "text/html": [
       "<style>\n",
       ".list-inline {list-style: none; margin:0; padding: 0}\n",
       ".list-inline>li {display: inline-block}\n",
       ".list-inline>li:not(:last-child)::after {content: \"\\00b7\"; padding: 0 .5ex}\n",
       "</style>\n",
       "<ol class=list-inline><li>'counts.GSE213243_HGSOC_tumour'</li><li>'counts.GSE213243_HGSOC_ascites'</li><li>'scale.data'</li><li>'data.GSE213243_HGSOC_tumour'</li><li>'data.GSE213243_HGSOC_ascites'</li></ol>\n"
      ],
      "text/latex": [
       "\\begin{enumerate*}\n",
       "\\item 'counts.GSE213243\\_HGSOC\\_tumour'\n",
       "\\item 'counts.GSE213243\\_HGSOC\\_ascites'\n",
       "\\item 'scale.data'\n",
       "\\item 'data.GSE213243\\_HGSOC\\_tumour'\n",
       "\\item 'data.GSE213243\\_HGSOC\\_ascites'\n",
       "\\end{enumerate*}\n"
      ],
      "text/markdown": [
       "1. 'counts.GSE213243_HGSOC_tumour'\n",
       "2. 'counts.GSE213243_HGSOC_ascites'\n",
       "3. 'scale.data'\n",
       "4. 'data.GSE213243_HGSOC_tumour'\n",
       "5. 'data.GSE213243_HGSOC_ascites'\n",
       "\n",
       "\n"
      ],
      "text/plain": [
       "[1] \"counts.GSE213243_HGSOC_tumour\"  \"counts.GSE213243_HGSOC_ascites\"\n",
       "[3] \"scale.data\"                     \"data.GSE213243_HGSOC_tumour\"   \n",
       "[5] \"data.GSE213243_HGSOC_ascites\"  "
      ]
     },
     "metadata": {},
     "output_type": "display_data"
    }
   ],
   "source": [
    "#join layers and then split them by integration_id\n",
    "Layers(HGSOC[[\"RNA\"]])\n",
    "#join layers\n",
    "HGSOC[[\"RNA\"]] <- JoinLayers(HGSOC[[\"RNA\"]])\n",
    "Layers(HGSOC[[\"RNA\"]])\n",
    "#split layers\n",
    "HGSOC[[\"RNA\"]] <- split(HGSOC[[\"RNA\"]], f = HGSOC$integration_id)\n",
    "Layers(HGSOC[[\"RNA\"]])\n"
   ]
  },
  {
   "cell_type": "code",
   "execution_count": 63,
   "metadata": {
    "vscode": {
     "languageId": "r"
    }
   },
   "outputs": [
    {
     "data": {
      "text/plain": [
       "\n",
       "GSE213243_HGSOC_ascites  GSE213243_HGSOC_tumour \n",
       "                   2688                     804 "
      ]
     },
     "metadata": {},
     "output_type": "display_data"
    }
   ],
   "source": [
    "#record number of cells\n",
    "table(HGSOC$integration_id)"
   ]
  },
  {
   "cell_type": "code",
   "execution_count": 64,
   "metadata": {
    "vscode": {
     "languageId": "r"
    }
   },
   "outputs": [],
   "source": [
    "#re-export seurat object ready for integration\n",
    "saveRDS(HGSOC, \"/scratch/user/s4436039/scdata/Myeloid_Cells/Myeloid_Cells_Integrate/GSE213243_myeloid_int.RDS\")"
   ]
  },
  {
   "cell_type": "code",
   "execution_count": 65,
   "metadata": {
    "vscode": {
     "languageId": "r"
    }
   },
   "outputs": [],
   "source": [
    "#remove all objects in R\n",
    "rm(list = ls())"
   ]
  },
  {
   "cell_type": "markdown",
   "metadata": {},
   "source": [
    "## GSE217517"
   ]
  },
  {
   "cell_type": "code",
   "execution_count": 66,
   "metadata": {
    "vscode": {
     "languageId": "r"
    }
   },
   "outputs": [],
   "source": [
    "HGSOC <- readRDS(\"/scratch/user/s4436039/scdata/Myeloid_Cells/GSE217517_myeloid.RDS\")"
   ]
  },
  {
   "cell_type": "code",
   "execution_count": 67,
   "metadata": {
    "vscode": {
     "languageId": "r"
    }
   },
   "outputs": [
    {
     "data": {
      "text/plain": [
       "An object of class Seurat \n",
       "36601 features across 8457 samples within 1 assay \n",
       "Active assay: RNA (36601 features, 2000 variable features)\n",
       " 17 layers present: counts.1, counts.2, counts.3, counts.4, counts.5, counts.6, counts.7, counts.8, data.1, data.2, data.3, data.4, data.5, data.6, data.7, data.8, scale.data\n",
       " 2 dimensional reductions calculated: pca, umap"
      ]
     },
     "metadata": {},
     "output_type": "display_data"
    },
    {
     "data": {
      "text/html": [
       "'GSE217517'"
      ],
      "text/latex": [
       "'GSE217517'"
      ],
      "text/markdown": [
       "'GSE217517'"
      ],
      "text/plain": [
       "[1] \"GSE217517\""
      ]
     },
     "metadata": {},
     "output_type": "display_data"
    },
    {
     "data": {
      "text/html": [
       "<table class=\"dataframe\">\n",
       "<caption>A data.frame: 6 × 11</caption>\n",
       "<thead>\n",
       "\t<tr><th></th><th scope=col>orig.ident</th><th scope=col>nCount_RNA</th><th scope=col>nFeature_RNA</th><th scope=col>sample_type</th><th scope=col>cancer_type</th><th scope=col>patient_id</th><th scope=col>sample_id</th><th scope=col>percent.mt</th><th scope=col>RNA_snn_res.0.5</th><th scope=col>seurat_clusters</th><th scope=col>RNA_snn_res.0.2</th></tr>\n",
       "\t<tr><th></th><th scope=col>&lt;chr&gt;</th><th scope=col>&lt;dbl&gt;</th><th scope=col>&lt;int&gt;</th><th scope=col>&lt;chr&gt;</th><th scope=col>&lt;chr&gt;</th><th scope=col>&lt;chr&gt;</th><th scope=col>&lt;chr&gt;</th><th scope=col>&lt;dbl&gt;</th><th scope=col>&lt;fct&gt;</th><th scope=col>&lt;fct&gt;</th><th scope=col>&lt;fct&gt;</th></tr>\n",
       "</thead>\n",
       "<tbody>\n",
       "\t<tr><th scope=row>GSE217517_pt1_AAACGAAAGAACCCGA-1</th><td>GSE217517</td><td> 7268</td><td>2217</td><td>tumour</td><td>HGSOC</td><td>pt1</td><td>GSE217517_HGSOC_pt1</td><td> 3.769950</td><td>9</td><td>1</td><td>1</td></tr>\n",
       "\t<tr><th scope=row>GSE217517_pt1_AAAGAACCAGGGCTTC-1</th><td>GSE217517</td><td>20132</td><td>4339</td><td>tumour</td><td>HGSOC</td><td>pt1</td><td>GSE217517_HGSOC_pt1</td><td> 7.634612</td><td>5</td><td>1</td><td>1</td></tr>\n",
       "\t<tr><th scope=row>GSE217517_pt1_AAAGAACTCCATGAGT-1</th><td>GSE217517</td><td> 4183</td><td>1410</td><td>tumour</td><td>HGSOC</td><td>pt1</td><td>GSE217517_HGSOC_pt1</td><td>35.142242</td><td>9</td><td>1</td><td>1</td></tr>\n",
       "\t<tr><th scope=row>GSE217517_pt1_AAAGGATTCTATTTCG-1</th><td>GSE217517</td><td> 3037</td><td>1274</td><td>tumour</td><td>HGSOC</td><td>pt1</td><td>GSE217517_HGSOC_pt1</td><td> 6.914718</td><td>9</td><td>1</td><td>1</td></tr>\n",
       "\t<tr><th scope=row>GSE217517_pt1_AAATGGACACTGAGGA-1</th><td>GSE217517</td><td> 9516</td><td>2822</td><td>tumour</td><td>HGSOC</td><td>pt1</td><td>GSE217517_HGSOC_pt1</td><td> 2.847835</td><td>5</td><td>1</td><td>1</td></tr>\n",
       "\t<tr><th scope=row>GSE217517_pt1_AACAGGGGTCATCGGC-1</th><td>GSE217517</td><td>22104</td><td>4611</td><td>tumour</td><td>HGSOC</td><td>pt1</td><td>GSE217517_HGSOC_pt1</td><td> 7.695440</td><td>9</td><td>1</td><td>1</td></tr>\n",
       "</tbody>\n",
       "</table>\n"
      ],
      "text/latex": [
       "A data.frame: 6 × 11\n",
       "\\begin{tabular}{r|lllllllllll}\n",
       "  & orig.ident & nCount\\_RNA & nFeature\\_RNA & sample\\_type & cancer\\_type & patient\\_id & sample\\_id & percent.mt & RNA\\_snn\\_res.0.5 & seurat\\_clusters & RNA\\_snn\\_res.0.2\\\\\n",
       "  & <chr> & <dbl> & <int> & <chr> & <chr> & <chr> & <chr> & <dbl> & <fct> & <fct> & <fct>\\\\\n",
       "\\hline\n",
       "\tGSE217517\\_pt1\\_AAACGAAAGAACCCGA-1 & GSE217517 &  7268 & 2217 & tumour & HGSOC & pt1 & GSE217517\\_HGSOC\\_pt1 &  3.769950 & 9 & 1 & 1\\\\\n",
       "\tGSE217517\\_pt1\\_AAAGAACCAGGGCTTC-1 & GSE217517 & 20132 & 4339 & tumour & HGSOC & pt1 & GSE217517\\_HGSOC\\_pt1 &  7.634612 & 5 & 1 & 1\\\\\n",
       "\tGSE217517\\_pt1\\_AAAGAACTCCATGAGT-1 & GSE217517 &  4183 & 1410 & tumour & HGSOC & pt1 & GSE217517\\_HGSOC\\_pt1 & 35.142242 & 9 & 1 & 1\\\\\n",
       "\tGSE217517\\_pt1\\_AAAGGATTCTATTTCG-1 & GSE217517 &  3037 & 1274 & tumour & HGSOC & pt1 & GSE217517\\_HGSOC\\_pt1 &  6.914718 & 9 & 1 & 1\\\\\n",
       "\tGSE217517\\_pt1\\_AAATGGACACTGAGGA-1 & GSE217517 &  9516 & 2822 & tumour & HGSOC & pt1 & GSE217517\\_HGSOC\\_pt1 &  2.847835 & 5 & 1 & 1\\\\\n",
       "\tGSE217517\\_pt1\\_AACAGGGGTCATCGGC-1 & GSE217517 & 22104 & 4611 & tumour & HGSOC & pt1 & GSE217517\\_HGSOC\\_pt1 &  7.695440 & 9 & 1 & 1\\\\\n",
       "\\end{tabular}\n"
      ],
      "text/markdown": [
       "\n",
       "A data.frame: 6 × 11\n",
       "\n",
       "| <!--/--> | orig.ident &lt;chr&gt; | nCount_RNA &lt;dbl&gt; | nFeature_RNA &lt;int&gt; | sample_type &lt;chr&gt; | cancer_type &lt;chr&gt; | patient_id &lt;chr&gt; | sample_id &lt;chr&gt; | percent.mt &lt;dbl&gt; | RNA_snn_res.0.5 &lt;fct&gt; | seurat_clusters &lt;fct&gt; | RNA_snn_res.0.2 &lt;fct&gt; |\n",
       "|---|---|---|---|---|---|---|---|---|---|---|---|\n",
       "| GSE217517_pt1_AAACGAAAGAACCCGA-1 | GSE217517 |  7268 | 2217 | tumour | HGSOC | pt1 | GSE217517_HGSOC_pt1 |  3.769950 | 9 | 1 | 1 |\n",
       "| GSE217517_pt1_AAAGAACCAGGGCTTC-1 | GSE217517 | 20132 | 4339 | tumour | HGSOC | pt1 | GSE217517_HGSOC_pt1 |  7.634612 | 5 | 1 | 1 |\n",
       "| GSE217517_pt1_AAAGAACTCCATGAGT-1 | GSE217517 |  4183 | 1410 | tumour | HGSOC | pt1 | GSE217517_HGSOC_pt1 | 35.142242 | 9 | 1 | 1 |\n",
       "| GSE217517_pt1_AAAGGATTCTATTTCG-1 | GSE217517 |  3037 | 1274 | tumour | HGSOC | pt1 | GSE217517_HGSOC_pt1 |  6.914718 | 9 | 1 | 1 |\n",
       "| GSE217517_pt1_AAATGGACACTGAGGA-1 | GSE217517 |  9516 | 2822 | tumour | HGSOC | pt1 | GSE217517_HGSOC_pt1 |  2.847835 | 5 | 1 | 1 |\n",
       "| GSE217517_pt1_AACAGGGGTCATCGGC-1 | GSE217517 | 22104 | 4611 | tumour | HGSOC | pt1 | GSE217517_HGSOC_pt1 |  7.695440 | 9 | 1 | 1 |\n",
       "\n"
      ],
      "text/plain": [
       "                                 orig.ident nCount_RNA nFeature_RNA sample_type\n",
       "GSE217517_pt1_AAACGAAAGAACCCGA-1 GSE217517   7268      2217         tumour     \n",
       "GSE217517_pt1_AAAGAACCAGGGCTTC-1 GSE217517  20132      4339         tumour     \n",
       "GSE217517_pt1_AAAGAACTCCATGAGT-1 GSE217517   4183      1410         tumour     \n",
       "GSE217517_pt1_AAAGGATTCTATTTCG-1 GSE217517   3037      1274         tumour     \n",
       "GSE217517_pt1_AAATGGACACTGAGGA-1 GSE217517   9516      2822         tumour     \n",
       "GSE217517_pt1_AACAGGGGTCATCGGC-1 GSE217517  22104      4611         tumour     \n",
       "                                 cancer_type patient_id sample_id          \n",
       "GSE217517_pt1_AAACGAAAGAACCCGA-1 HGSOC       pt1        GSE217517_HGSOC_pt1\n",
       "GSE217517_pt1_AAAGAACCAGGGCTTC-1 HGSOC       pt1        GSE217517_HGSOC_pt1\n",
       "GSE217517_pt1_AAAGAACTCCATGAGT-1 HGSOC       pt1        GSE217517_HGSOC_pt1\n",
       "GSE217517_pt1_AAAGGATTCTATTTCG-1 HGSOC       pt1        GSE217517_HGSOC_pt1\n",
       "GSE217517_pt1_AAATGGACACTGAGGA-1 HGSOC       pt1        GSE217517_HGSOC_pt1\n",
       "GSE217517_pt1_AACAGGGGTCATCGGC-1 HGSOC       pt1        GSE217517_HGSOC_pt1\n",
       "                                 percent.mt RNA_snn_res.0.5 seurat_clusters\n",
       "GSE217517_pt1_AAACGAAAGAACCCGA-1  3.769950  9               1              \n",
       "GSE217517_pt1_AAAGAACCAGGGCTTC-1  7.634612  5               1              \n",
       "GSE217517_pt1_AAAGAACTCCATGAGT-1 35.142242  9               1              \n",
       "GSE217517_pt1_AAAGGATTCTATTTCG-1  6.914718  9               1              \n",
       "GSE217517_pt1_AAATGGACACTGAGGA-1  2.847835  5               1              \n",
       "GSE217517_pt1_AACAGGGGTCATCGGC-1  7.695440  9               1              \n",
       "                                 RNA_snn_res.0.2\n",
       "GSE217517_pt1_AAACGAAAGAACCCGA-1 1              \n",
       "GSE217517_pt1_AAAGAACCAGGGCTTC-1 1              \n",
       "GSE217517_pt1_AAAGAACTCCATGAGT-1 1              \n",
       "GSE217517_pt1_AAAGGATTCTATTTCG-1 1              \n",
       "GSE217517_pt1_AAATGGACACTGAGGA-1 1              \n",
       "GSE217517_pt1_AACAGGGGTCATCGGC-1 1              "
      ]
     },
     "metadata": {},
     "output_type": "display_data"
    }
   ],
   "source": [
    "HGSOC\n",
    "HGSOC@project.name\n",
    "head(HGSOC@meta.data)"
   ]
  },
  {
   "cell_type": "code",
   "execution_count": 68,
   "metadata": {
    "vscode": {
     "languageId": "r"
    }
   },
   "outputs": [
    {
     "data": {
      "text/plain": [
       "\n",
       "tumour \n",
       "  8457 "
      ]
     },
     "metadata": {},
     "output_type": "display_data"
    },
    {
     "data": {
      "text/plain": [
       "\n",
       "HGSOC \n",
       " 8457 "
      ]
     },
     "metadata": {},
     "output_type": "display_data"
    },
    {
     "data": {
      "text/plain": [
       "\n",
       " pt1  pt2  pt3  pt4  pt5  pt6  pt7  pt8 \n",
       " 842  966 2678 1517 1004   37 1054  359 "
      ]
     },
     "metadata": {},
     "output_type": "display_data"
    },
    {
     "data": {
      "text/plain": [
       "\n",
       "GSE217517_HGSOC_pt1 GSE217517_HGSOC_pt2 GSE217517_HGSOC_pt3 GSE217517_HGSOC_pt4 \n",
       "                842                 966                2678                1517 \n",
       "GSE217517_HGSOC_pt5 GSE217517_HGSOC_pt6 GSE217517_HGSOC_pt7 GSE217517_HGSOC_pt8 \n",
       "               1004                  37                1054                 359 "
      ]
     },
     "metadata": {},
     "output_type": "display_data"
    }
   ],
   "source": [
    "table(HGSOC$sample_type)\n",
    "table(HGSOC$cancer_type)\n",
    "table(HGSOC$patient_id)\n",
    "table(HGSOC$sample_id)"
   ]
  },
  {
   "cell_type": "code",
   "execution_count": 70,
   "metadata": {
    "vscode": {
     "languageId": "r"
    }
   },
   "outputs": [],
   "source": [
    "#set site metadata\n",
    "HGSOC@meta.data$site <- \"ovary\"\n",
    "HGSOC@meta.data$sample_type_major <- \"primary tumour\""
   ]
  },
  {
   "cell_type": "code",
   "execution_count": 71,
   "metadata": {
    "vscode": {
     "languageId": "r"
    }
   },
   "outputs": [],
   "source": [
    "#set subtype metadata\n",
    "HGSOC@meta.data$cancer_subtype <- \"HGSOC\""
   ]
  },
  {
   "cell_type": "code",
   "execution_count": 72,
   "metadata": {
    "vscode": {
     "languageId": "r"
    }
   },
   "outputs": [],
   "source": [
    "#set integration_id metadata\n",
    "HGSOC@meta.data$integration_id <- HGSOC@meta.data$sample_id"
   ]
  },
  {
   "cell_type": "code",
   "execution_count": 73,
   "metadata": {
    "vscode": {
     "languageId": "r"
    }
   },
   "outputs": [
    {
     "data": {
      "text/plain": [
       "An object of class Seurat \n",
       "36601 features across 8457 samples within 1 assay \n",
       "Active assay: RNA (36601 features, 2000 variable features)\n",
       " 17 layers present: counts.1, counts.2, counts.3, counts.4, counts.5, counts.6, counts.7, counts.8, data.1, data.2, data.3, data.4, data.5, data.6, data.7, data.8, scale.data\n",
       " 2 dimensional reductions calculated: pca, umap"
      ]
     },
     "metadata": {},
     "output_type": "display_data"
    },
    {
     "data": {
      "text/html": [
       "'GSE217517'"
      ],
      "text/latex": [
       "'GSE217517'"
      ],
      "text/markdown": [
       "'GSE217517'"
      ],
      "text/plain": [
       "[1] \"GSE217517\""
      ]
     },
     "metadata": {},
     "output_type": "display_data"
    },
    {
     "data": {
      "text/html": [
       "<table class=\"dataframe\">\n",
       "<caption>A data.frame: 6 × 15</caption>\n",
       "<thead>\n",
       "\t<tr><th></th><th scope=col>orig.ident</th><th scope=col>nCount_RNA</th><th scope=col>nFeature_RNA</th><th scope=col>sample_type</th><th scope=col>cancer_type</th><th scope=col>patient_id</th><th scope=col>sample_id</th><th scope=col>percent.mt</th><th scope=col>RNA_snn_res.0.5</th><th scope=col>seurat_clusters</th><th scope=col>RNA_snn_res.0.2</th><th scope=col>site</th><th scope=col>sample_type_major</th><th scope=col>cancer_subtype</th><th scope=col>integration_id</th></tr>\n",
       "\t<tr><th></th><th scope=col>&lt;chr&gt;</th><th scope=col>&lt;dbl&gt;</th><th scope=col>&lt;int&gt;</th><th scope=col>&lt;chr&gt;</th><th scope=col>&lt;chr&gt;</th><th scope=col>&lt;chr&gt;</th><th scope=col>&lt;chr&gt;</th><th scope=col>&lt;dbl&gt;</th><th scope=col>&lt;fct&gt;</th><th scope=col>&lt;fct&gt;</th><th scope=col>&lt;fct&gt;</th><th scope=col>&lt;chr&gt;</th><th scope=col>&lt;chr&gt;</th><th scope=col>&lt;chr&gt;</th><th scope=col>&lt;chr&gt;</th></tr>\n",
       "</thead>\n",
       "<tbody>\n",
       "\t<tr><th scope=row>GSE217517_pt1_AAACGAAAGAACCCGA-1</th><td>GSE217517</td><td> 7268</td><td>2217</td><td>tumour</td><td>HGSOC</td><td>pt1</td><td>GSE217517_HGSOC_pt1</td><td> 3.769950</td><td>9</td><td>1</td><td>1</td><td>ovary</td><td>primary tumour</td><td>HGSOC</td><td>GSE217517_HGSOC_pt1</td></tr>\n",
       "\t<tr><th scope=row>GSE217517_pt1_AAAGAACCAGGGCTTC-1</th><td>GSE217517</td><td>20132</td><td>4339</td><td>tumour</td><td>HGSOC</td><td>pt1</td><td>GSE217517_HGSOC_pt1</td><td> 7.634612</td><td>5</td><td>1</td><td>1</td><td>ovary</td><td>primary tumour</td><td>HGSOC</td><td>GSE217517_HGSOC_pt1</td></tr>\n",
       "\t<tr><th scope=row>GSE217517_pt1_AAAGAACTCCATGAGT-1</th><td>GSE217517</td><td> 4183</td><td>1410</td><td>tumour</td><td>HGSOC</td><td>pt1</td><td>GSE217517_HGSOC_pt1</td><td>35.142242</td><td>9</td><td>1</td><td>1</td><td>ovary</td><td>primary tumour</td><td>HGSOC</td><td>GSE217517_HGSOC_pt1</td></tr>\n",
       "\t<tr><th scope=row>GSE217517_pt1_AAAGGATTCTATTTCG-1</th><td>GSE217517</td><td> 3037</td><td>1274</td><td>tumour</td><td>HGSOC</td><td>pt1</td><td>GSE217517_HGSOC_pt1</td><td> 6.914718</td><td>9</td><td>1</td><td>1</td><td>ovary</td><td>primary tumour</td><td>HGSOC</td><td>GSE217517_HGSOC_pt1</td></tr>\n",
       "\t<tr><th scope=row>GSE217517_pt1_AAATGGACACTGAGGA-1</th><td>GSE217517</td><td> 9516</td><td>2822</td><td>tumour</td><td>HGSOC</td><td>pt1</td><td>GSE217517_HGSOC_pt1</td><td> 2.847835</td><td>5</td><td>1</td><td>1</td><td>ovary</td><td>primary tumour</td><td>HGSOC</td><td>GSE217517_HGSOC_pt1</td></tr>\n",
       "\t<tr><th scope=row>GSE217517_pt1_AACAGGGGTCATCGGC-1</th><td>GSE217517</td><td>22104</td><td>4611</td><td>tumour</td><td>HGSOC</td><td>pt1</td><td>GSE217517_HGSOC_pt1</td><td> 7.695440</td><td>9</td><td>1</td><td>1</td><td>ovary</td><td>primary tumour</td><td>HGSOC</td><td>GSE217517_HGSOC_pt1</td></tr>\n",
       "</tbody>\n",
       "</table>\n"
      ],
      "text/latex": [
       "A data.frame: 6 × 15\n",
       "\\begin{tabular}{r|lllllllllllllll}\n",
       "  & orig.ident & nCount\\_RNA & nFeature\\_RNA & sample\\_type & cancer\\_type & patient\\_id & sample\\_id & percent.mt & RNA\\_snn\\_res.0.5 & seurat\\_clusters & RNA\\_snn\\_res.0.2 & site & sample\\_type\\_major & cancer\\_subtype & integration\\_id\\\\\n",
       "  & <chr> & <dbl> & <int> & <chr> & <chr> & <chr> & <chr> & <dbl> & <fct> & <fct> & <fct> & <chr> & <chr> & <chr> & <chr>\\\\\n",
       "\\hline\n",
       "\tGSE217517\\_pt1\\_AAACGAAAGAACCCGA-1 & GSE217517 &  7268 & 2217 & tumour & HGSOC & pt1 & GSE217517\\_HGSOC\\_pt1 &  3.769950 & 9 & 1 & 1 & ovary & primary tumour & HGSOC & GSE217517\\_HGSOC\\_pt1\\\\\n",
       "\tGSE217517\\_pt1\\_AAAGAACCAGGGCTTC-1 & GSE217517 & 20132 & 4339 & tumour & HGSOC & pt1 & GSE217517\\_HGSOC\\_pt1 &  7.634612 & 5 & 1 & 1 & ovary & primary tumour & HGSOC & GSE217517\\_HGSOC\\_pt1\\\\\n",
       "\tGSE217517\\_pt1\\_AAAGAACTCCATGAGT-1 & GSE217517 &  4183 & 1410 & tumour & HGSOC & pt1 & GSE217517\\_HGSOC\\_pt1 & 35.142242 & 9 & 1 & 1 & ovary & primary tumour & HGSOC & GSE217517\\_HGSOC\\_pt1\\\\\n",
       "\tGSE217517\\_pt1\\_AAAGGATTCTATTTCG-1 & GSE217517 &  3037 & 1274 & tumour & HGSOC & pt1 & GSE217517\\_HGSOC\\_pt1 &  6.914718 & 9 & 1 & 1 & ovary & primary tumour & HGSOC & GSE217517\\_HGSOC\\_pt1\\\\\n",
       "\tGSE217517\\_pt1\\_AAATGGACACTGAGGA-1 & GSE217517 &  9516 & 2822 & tumour & HGSOC & pt1 & GSE217517\\_HGSOC\\_pt1 &  2.847835 & 5 & 1 & 1 & ovary & primary tumour & HGSOC & GSE217517\\_HGSOC\\_pt1\\\\\n",
       "\tGSE217517\\_pt1\\_AACAGGGGTCATCGGC-1 & GSE217517 & 22104 & 4611 & tumour & HGSOC & pt1 & GSE217517\\_HGSOC\\_pt1 &  7.695440 & 9 & 1 & 1 & ovary & primary tumour & HGSOC & GSE217517\\_HGSOC\\_pt1\\\\\n",
       "\\end{tabular}\n"
      ],
      "text/markdown": [
       "\n",
       "A data.frame: 6 × 15\n",
       "\n",
       "| <!--/--> | orig.ident &lt;chr&gt; | nCount_RNA &lt;dbl&gt; | nFeature_RNA &lt;int&gt; | sample_type &lt;chr&gt; | cancer_type &lt;chr&gt; | patient_id &lt;chr&gt; | sample_id &lt;chr&gt; | percent.mt &lt;dbl&gt; | RNA_snn_res.0.5 &lt;fct&gt; | seurat_clusters &lt;fct&gt; | RNA_snn_res.0.2 &lt;fct&gt; | site &lt;chr&gt; | sample_type_major &lt;chr&gt; | cancer_subtype &lt;chr&gt; | integration_id &lt;chr&gt; |\n",
       "|---|---|---|---|---|---|---|---|---|---|---|---|---|---|---|---|\n",
       "| GSE217517_pt1_AAACGAAAGAACCCGA-1 | GSE217517 |  7268 | 2217 | tumour | HGSOC | pt1 | GSE217517_HGSOC_pt1 |  3.769950 | 9 | 1 | 1 | ovary | primary tumour | HGSOC | GSE217517_HGSOC_pt1 |\n",
       "| GSE217517_pt1_AAAGAACCAGGGCTTC-1 | GSE217517 | 20132 | 4339 | tumour | HGSOC | pt1 | GSE217517_HGSOC_pt1 |  7.634612 | 5 | 1 | 1 | ovary | primary tumour | HGSOC | GSE217517_HGSOC_pt1 |\n",
       "| GSE217517_pt1_AAAGAACTCCATGAGT-1 | GSE217517 |  4183 | 1410 | tumour | HGSOC | pt1 | GSE217517_HGSOC_pt1 | 35.142242 | 9 | 1 | 1 | ovary | primary tumour | HGSOC | GSE217517_HGSOC_pt1 |\n",
       "| GSE217517_pt1_AAAGGATTCTATTTCG-1 | GSE217517 |  3037 | 1274 | tumour | HGSOC | pt1 | GSE217517_HGSOC_pt1 |  6.914718 | 9 | 1 | 1 | ovary | primary tumour | HGSOC | GSE217517_HGSOC_pt1 |\n",
       "| GSE217517_pt1_AAATGGACACTGAGGA-1 | GSE217517 |  9516 | 2822 | tumour | HGSOC | pt1 | GSE217517_HGSOC_pt1 |  2.847835 | 5 | 1 | 1 | ovary | primary tumour | HGSOC | GSE217517_HGSOC_pt1 |\n",
       "| GSE217517_pt1_AACAGGGGTCATCGGC-1 | GSE217517 | 22104 | 4611 | tumour | HGSOC | pt1 | GSE217517_HGSOC_pt1 |  7.695440 | 9 | 1 | 1 | ovary | primary tumour | HGSOC | GSE217517_HGSOC_pt1 |\n",
       "\n"
      ],
      "text/plain": [
       "                                 orig.ident nCount_RNA nFeature_RNA sample_type\n",
       "GSE217517_pt1_AAACGAAAGAACCCGA-1 GSE217517   7268      2217         tumour     \n",
       "GSE217517_pt1_AAAGAACCAGGGCTTC-1 GSE217517  20132      4339         tumour     \n",
       "GSE217517_pt1_AAAGAACTCCATGAGT-1 GSE217517   4183      1410         tumour     \n",
       "GSE217517_pt1_AAAGGATTCTATTTCG-1 GSE217517   3037      1274         tumour     \n",
       "GSE217517_pt1_AAATGGACACTGAGGA-1 GSE217517   9516      2822         tumour     \n",
       "GSE217517_pt1_AACAGGGGTCATCGGC-1 GSE217517  22104      4611         tumour     \n",
       "                                 cancer_type patient_id sample_id          \n",
       "GSE217517_pt1_AAACGAAAGAACCCGA-1 HGSOC       pt1        GSE217517_HGSOC_pt1\n",
       "GSE217517_pt1_AAAGAACCAGGGCTTC-1 HGSOC       pt1        GSE217517_HGSOC_pt1\n",
       "GSE217517_pt1_AAAGAACTCCATGAGT-1 HGSOC       pt1        GSE217517_HGSOC_pt1\n",
       "GSE217517_pt1_AAAGGATTCTATTTCG-1 HGSOC       pt1        GSE217517_HGSOC_pt1\n",
       "GSE217517_pt1_AAATGGACACTGAGGA-1 HGSOC       pt1        GSE217517_HGSOC_pt1\n",
       "GSE217517_pt1_AACAGGGGTCATCGGC-1 HGSOC       pt1        GSE217517_HGSOC_pt1\n",
       "                                 percent.mt RNA_snn_res.0.5 seurat_clusters\n",
       "GSE217517_pt1_AAACGAAAGAACCCGA-1  3.769950  9               1              \n",
       "GSE217517_pt1_AAAGAACCAGGGCTTC-1  7.634612  5               1              \n",
       "GSE217517_pt1_AAAGAACTCCATGAGT-1 35.142242  9               1              \n",
       "GSE217517_pt1_AAAGGATTCTATTTCG-1  6.914718  9               1              \n",
       "GSE217517_pt1_AAATGGACACTGAGGA-1  2.847835  5               1              \n",
       "GSE217517_pt1_AACAGGGGTCATCGGC-1  7.695440  9               1              \n",
       "                                 RNA_snn_res.0.2 site  sample_type_major\n",
       "GSE217517_pt1_AAACGAAAGAACCCGA-1 1               ovary primary tumour   \n",
       "GSE217517_pt1_AAAGAACCAGGGCTTC-1 1               ovary primary tumour   \n",
       "GSE217517_pt1_AAAGAACTCCATGAGT-1 1               ovary primary tumour   \n",
       "GSE217517_pt1_AAAGGATTCTATTTCG-1 1               ovary primary tumour   \n",
       "GSE217517_pt1_AAATGGACACTGAGGA-1 1               ovary primary tumour   \n",
       "GSE217517_pt1_AACAGGGGTCATCGGC-1 1               ovary primary tumour   \n",
       "                                 cancer_subtype integration_id     \n",
       "GSE217517_pt1_AAACGAAAGAACCCGA-1 HGSOC          GSE217517_HGSOC_pt1\n",
       "GSE217517_pt1_AAAGAACCAGGGCTTC-1 HGSOC          GSE217517_HGSOC_pt1\n",
       "GSE217517_pt1_AAAGAACTCCATGAGT-1 HGSOC          GSE217517_HGSOC_pt1\n",
       "GSE217517_pt1_AAAGGATTCTATTTCG-1 HGSOC          GSE217517_HGSOC_pt1\n",
       "GSE217517_pt1_AAATGGACACTGAGGA-1 HGSOC          GSE217517_HGSOC_pt1\n",
       "GSE217517_pt1_AACAGGGGTCATCGGC-1 HGSOC          GSE217517_HGSOC_pt1"
      ]
     },
     "metadata": {},
     "output_type": "display_data"
    }
   ],
   "source": [
    "HGSOC\n",
    "HGSOC@project.name\n",
    "head(HGSOC@meta.data)"
   ]
  },
  {
   "cell_type": "code",
   "execution_count": 74,
   "metadata": {
    "vscode": {
     "languageId": "r"
    }
   },
   "outputs": [
    {
     "data": {
      "text/plain": [
       "\n",
       "GSE217517_HGSOC_pt1 GSE217517_HGSOC_pt2 GSE217517_HGSOC_pt3 GSE217517_HGSOC_pt4 \n",
       "                842                 966                2678                1517 \n",
       "GSE217517_HGSOC_pt5 GSE217517_HGSOC_pt6 GSE217517_HGSOC_pt7 GSE217517_HGSOC_pt8 \n",
       "               1004                  37                1054                 359 "
      ]
     },
     "metadata": {},
     "output_type": "display_data"
    },
    {
     "data": {
      "text/plain": [
       "\n",
       "GSE217517_HGSOC_pt1 GSE217517_HGSOC_pt2 GSE217517_HGSOC_pt3 GSE217517_HGSOC_pt4 \n",
       "                842                 966                2678                1517 \n",
       "GSE217517_HGSOC_pt5 GSE217517_HGSOC_pt7 GSE217517_HGSOC_pt8 \n",
       "               1004                1054                 359 "
      ]
     },
     "metadata": {},
     "output_type": "display_data"
    }
   ],
   "source": [
    "#exclude any samples with <100 cells\n",
    "table(HGSOC$integration_id)\n",
    "#exclude patient 6\n",
    "HGSOC <- subset(HGSOC, !(subset = integration_id %in% c(\"GSE217517_HGSOC_pt6\")))\n",
    "table(HGSOC$integration_id)"
   ]
  },
  {
   "cell_type": "code",
   "execution_count": 75,
   "metadata": {
    "vscode": {
     "languageId": "r"
    }
   },
   "outputs": [
    {
     "data": {
      "text/html": [
       "<style>\n",
       ".list-inline {list-style: none; margin:0; padding: 0}\n",
       ".list-inline>li {display: inline-block}\n",
       ".list-inline>li:not(:last-child)::after {content: \"\\00b7\"; padding: 0 .5ex}\n",
       "</style>\n",
       "<ol class=list-inline><li>'counts.1'</li><li>'counts.2'</li><li>'counts.3'</li><li>'counts.4'</li><li>'counts.5'</li><li>'counts.7'</li><li>'counts.8'</li><li>'data.1'</li><li>'data.2'</li><li>'data.3'</li><li>'data.4'</li><li>'data.5'</li><li>'data.7'</li><li>'data.8'</li><li>'scale.data'</li></ol>\n"
      ],
      "text/latex": [
       "\\begin{enumerate*}\n",
       "\\item 'counts.1'\n",
       "\\item 'counts.2'\n",
       "\\item 'counts.3'\n",
       "\\item 'counts.4'\n",
       "\\item 'counts.5'\n",
       "\\item 'counts.7'\n",
       "\\item 'counts.8'\n",
       "\\item 'data.1'\n",
       "\\item 'data.2'\n",
       "\\item 'data.3'\n",
       "\\item 'data.4'\n",
       "\\item 'data.5'\n",
       "\\item 'data.7'\n",
       "\\item 'data.8'\n",
       "\\item 'scale.data'\n",
       "\\end{enumerate*}\n"
      ],
      "text/markdown": [
       "1. 'counts.1'\n",
       "2. 'counts.2'\n",
       "3. 'counts.3'\n",
       "4. 'counts.4'\n",
       "5. 'counts.5'\n",
       "6. 'counts.7'\n",
       "7. 'counts.8'\n",
       "8. 'data.1'\n",
       "9. 'data.2'\n",
       "10. 'data.3'\n",
       "11. 'data.4'\n",
       "12. 'data.5'\n",
       "13. 'data.7'\n",
       "14. 'data.8'\n",
       "15. 'scale.data'\n",
       "\n",
       "\n"
      ],
      "text/plain": [
       " [1] \"counts.1\"   \"counts.2\"   \"counts.3\"   \"counts.4\"   \"counts.5\"  \n",
       " [6] \"counts.7\"   \"counts.8\"   \"data.1\"     \"data.2\"     \"data.3\"    \n",
       "[11] \"data.4\"     \"data.5\"     \"data.7\"     \"data.8\"     \"scale.data\""
      ]
     },
     "metadata": {},
     "output_type": "display_data"
    },
    {
     "data": {
      "text/html": [
       "<style>\n",
       ".list-inline {list-style: none; margin:0; padding: 0}\n",
       ".list-inline>li {display: inline-block}\n",
       ".list-inline>li:not(:last-child)::after {content: \"\\00b7\"; padding: 0 .5ex}\n",
       "</style>\n",
       "<ol class=list-inline><li>'data'</li><li>'counts'</li><li>'scale.data'</li></ol>\n"
      ],
      "text/latex": [
       "\\begin{enumerate*}\n",
       "\\item 'data'\n",
       "\\item 'counts'\n",
       "\\item 'scale.data'\n",
       "\\end{enumerate*}\n"
      ],
      "text/markdown": [
       "1. 'data'\n",
       "2. 'counts'\n",
       "3. 'scale.data'\n",
       "\n",
       "\n"
      ],
      "text/plain": [
       "[1] \"data\"       \"counts\"     \"scale.data\""
      ]
     },
     "metadata": {},
     "output_type": "display_data"
    },
    {
     "name": "stderr",
     "output_type": "stream",
     "text": [
      "Splitting ‘counts’, ‘data’ layers. Not splitting ‘scale.data’. If you would like to split other layers, set in `layers` argument.\n",
      "\n"
     ]
    },
    {
     "data": {
      "text/html": [
       "<style>\n",
       ".list-inline {list-style: none; margin:0; padding: 0}\n",
       ".list-inline>li {display: inline-block}\n",
       ".list-inline>li:not(:last-child)::after {content: \"\\00b7\"; padding: 0 .5ex}\n",
       "</style>\n",
       "<ol class=list-inline><li>'data.GSE217517_HGSOC_pt1'</li><li>'data.GSE217517_HGSOC_pt2'</li><li>'data.GSE217517_HGSOC_pt3'</li><li>'data.GSE217517_HGSOC_pt4'</li><li>'data.GSE217517_HGSOC_pt5'</li><li>'data.GSE217517_HGSOC_pt7'</li><li>'data.GSE217517_HGSOC_pt8'</li><li>'scale.data'</li><li>'counts.GSE217517_HGSOC_pt1'</li><li>'counts.GSE217517_HGSOC_pt2'</li><li>'counts.GSE217517_HGSOC_pt3'</li><li>'counts.GSE217517_HGSOC_pt4'</li><li>'counts.GSE217517_HGSOC_pt5'</li><li>'counts.GSE217517_HGSOC_pt7'</li><li>'counts.GSE217517_HGSOC_pt8'</li></ol>\n"
      ],
      "text/latex": [
       "\\begin{enumerate*}\n",
       "\\item 'data.GSE217517\\_HGSOC\\_pt1'\n",
       "\\item 'data.GSE217517\\_HGSOC\\_pt2'\n",
       "\\item 'data.GSE217517\\_HGSOC\\_pt3'\n",
       "\\item 'data.GSE217517\\_HGSOC\\_pt4'\n",
       "\\item 'data.GSE217517\\_HGSOC\\_pt5'\n",
       "\\item 'data.GSE217517\\_HGSOC\\_pt7'\n",
       "\\item 'data.GSE217517\\_HGSOC\\_pt8'\n",
       "\\item 'scale.data'\n",
       "\\item 'counts.GSE217517\\_HGSOC\\_pt1'\n",
       "\\item 'counts.GSE217517\\_HGSOC\\_pt2'\n",
       "\\item 'counts.GSE217517\\_HGSOC\\_pt3'\n",
       "\\item 'counts.GSE217517\\_HGSOC\\_pt4'\n",
       "\\item 'counts.GSE217517\\_HGSOC\\_pt5'\n",
       "\\item 'counts.GSE217517\\_HGSOC\\_pt7'\n",
       "\\item 'counts.GSE217517\\_HGSOC\\_pt8'\n",
       "\\end{enumerate*}\n"
      ],
      "text/markdown": [
       "1. 'data.GSE217517_HGSOC_pt1'\n",
       "2. 'data.GSE217517_HGSOC_pt2'\n",
       "3. 'data.GSE217517_HGSOC_pt3'\n",
       "4. 'data.GSE217517_HGSOC_pt4'\n",
       "5. 'data.GSE217517_HGSOC_pt5'\n",
       "6. 'data.GSE217517_HGSOC_pt7'\n",
       "7. 'data.GSE217517_HGSOC_pt8'\n",
       "8. 'scale.data'\n",
       "9. 'counts.GSE217517_HGSOC_pt1'\n",
       "10. 'counts.GSE217517_HGSOC_pt2'\n",
       "11. 'counts.GSE217517_HGSOC_pt3'\n",
       "12. 'counts.GSE217517_HGSOC_pt4'\n",
       "13. 'counts.GSE217517_HGSOC_pt5'\n",
       "14. 'counts.GSE217517_HGSOC_pt7'\n",
       "15. 'counts.GSE217517_HGSOC_pt8'\n",
       "\n",
       "\n"
      ],
      "text/plain": [
       " [1] \"data.GSE217517_HGSOC_pt1\"   \"data.GSE217517_HGSOC_pt2\"  \n",
       " [3] \"data.GSE217517_HGSOC_pt3\"   \"data.GSE217517_HGSOC_pt4\"  \n",
       " [5] \"data.GSE217517_HGSOC_pt5\"   \"data.GSE217517_HGSOC_pt7\"  \n",
       " [7] \"data.GSE217517_HGSOC_pt8\"   \"scale.data\"                \n",
       " [9] \"counts.GSE217517_HGSOC_pt1\" \"counts.GSE217517_HGSOC_pt2\"\n",
       "[11] \"counts.GSE217517_HGSOC_pt3\" \"counts.GSE217517_HGSOC_pt4\"\n",
       "[13] \"counts.GSE217517_HGSOC_pt5\" \"counts.GSE217517_HGSOC_pt7\"\n",
       "[15] \"counts.GSE217517_HGSOC_pt8\""
      ]
     },
     "metadata": {},
     "output_type": "display_data"
    }
   ],
   "source": [
    "#join layers and then split them by integration_id\n",
    "Layers(HGSOC[[\"RNA\"]])\n",
    "#join layers\n",
    "HGSOC[[\"RNA\"]] <- JoinLayers(HGSOC[[\"RNA\"]])\n",
    "Layers(HGSOC[[\"RNA\"]])\n",
    "#split layers\n",
    "HGSOC[[\"RNA\"]] <- split(HGSOC[[\"RNA\"]], f = HGSOC$integration_id)\n",
    "Layers(HGSOC[[\"RNA\"]])\n"
   ]
  },
  {
   "cell_type": "code",
   "execution_count": 76,
   "metadata": {
    "vscode": {
     "languageId": "r"
    }
   },
   "outputs": [
    {
     "data": {
      "text/plain": [
       "\n",
       "GSE217517_HGSOC_pt1 GSE217517_HGSOC_pt2 GSE217517_HGSOC_pt3 GSE217517_HGSOC_pt4 \n",
       "                842                 966                2678                1517 \n",
       "GSE217517_HGSOC_pt5 GSE217517_HGSOC_pt7 GSE217517_HGSOC_pt8 \n",
       "               1004                1054                 359 "
      ]
     },
     "metadata": {},
     "output_type": "display_data"
    }
   ],
   "source": [
    "#record number of cells\n",
    "table(HGSOC$integration_id)"
   ]
  },
  {
   "cell_type": "code",
   "execution_count": 77,
   "metadata": {
    "vscode": {
     "languageId": "r"
    }
   },
   "outputs": [],
   "source": [
    "#re-export seurat object ready for integration\n",
    "saveRDS(HGSOC, \"/scratch/user/s4436039/scdata/Myeloid_Cells/Myeloid_Cells_Integrate/GSE217517_myeloid_int.RDS\")"
   ]
  },
  {
   "cell_type": "code",
   "execution_count": 78,
   "metadata": {
    "vscode": {
     "languageId": "r"
    }
   },
   "outputs": [],
   "source": [
    "#remove all objects in R\n",
    "rm(list = ls())"
   ]
  },
  {
   "cell_type": "markdown",
   "metadata": {},
   "source": [
    "## PRJCA005422"
   ]
  },
  {
   "cell_type": "code",
   "execution_count": 79,
   "metadata": {
    "vscode": {
     "languageId": "r"
    }
   },
   "outputs": [],
   "source": [
    "HGSOC_As <- readRDS(\"/scratch/user/s4436039/scdata/Myeloid_Cells/PRJCA005422_ascites_myeloid.RDS\")\n",
    "HGSOC_Tu <- readRDS(\"/scratch/user/s4436039/scdata/Myeloid_Cells/PRJCA005422_tumour_myeloid.RDS\")"
   ]
  },
  {
   "cell_type": "code",
   "execution_count": 80,
   "metadata": {
    "vscode": {
     "languageId": "r"
    }
   },
   "outputs": [
    {
     "data": {
      "text/plain": [
       "An object of class Seurat \n",
       "27127 features across 16120 samples within 1 assay \n",
       "Active assay: RNA (27127 features, 2000 variable features)\n",
       " 3 layers present: counts, data, scale.data\n",
       " 2 dimensional reductions calculated: pca, umap"
      ]
     },
     "metadata": {},
     "output_type": "display_data"
    },
    {
     "data": {
      "text/html": [
       "'SeuratProject'"
      ],
      "text/latex": [
       "'SeuratProject'"
      ],
      "text/markdown": [
       "'SeuratProject'"
      ],
      "text/plain": [
       "[1] \"SeuratProject\""
      ]
     },
     "metadata": {},
     "output_type": "display_data"
    },
    {
     "data": {
      "text/html": [
       "<table class=\"dataframe\">\n",
       "<caption>A data.frame: 6 × 24</caption>\n",
       "<thead>\n",
       "\t<tr><th></th><th scope=col>orig.ident</th><th scope=col>nCount_RNA</th><th scope=col>nFeature_RNA</th><th scope=col>Cellname</th><th scope=col>Samples</th><th scope=col>Groups</th><th scope=col>Patients</th><th scope=col>percent.mt</th><th scope=col>percent.ribo</th><th scope=col>percent.HSP</th><th scope=col>⋯</th><th scope=col>maintypes_2</th><th scope=col>maintypes_3</th><th scope=col>UMAP_1</th><th scope=col>UMAP_2</th><th scope=col>sample_type</th><th scope=col>cancer_type</th><th scope=col>patient_id</th><th scope=col>sample_id</th><th scope=col>RNA_snn_res.0.2</th><th scope=col>seurat_clusters</th></tr>\n",
       "\t<tr><th></th><th scope=col>&lt;fct&gt;</th><th scope=col>&lt;dbl&gt;</th><th scope=col>&lt;int&gt;</th><th scope=col>&lt;chr&gt;</th><th scope=col>&lt;chr&gt;</th><th scope=col>&lt;fct&gt;</th><th scope=col>&lt;fct&gt;</th><th scope=col>&lt;dbl&gt;</th><th scope=col>&lt;dbl&gt;</th><th scope=col>&lt;dbl&gt;</th><th scope=col>⋯</th><th scope=col>&lt;fct&gt;</th><th scope=col>&lt;chr&gt;</th><th scope=col>&lt;dbl&gt;</th><th scope=col>&lt;dbl&gt;</th><th scope=col>&lt;fct&gt;</th><th scope=col>&lt;chr&gt;</th><th scope=col>&lt;fct&gt;</th><th scope=col>&lt;chr&gt;</th><th scope=col>&lt;fct&gt;</th><th scope=col>&lt;fct&gt;</th></tr>\n",
       "</thead>\n",
       "<tbody>\n",
       "\t<tr><th scope=row>PRJCA005422_EOC1_FS_cell_AACACGTGTCGGCACT</th><td>EOC1</td><td>24353</td><td>1770</td><td>EOC1_FS_cell_AACACGTGTCGGCACT</td><td>HGSOC1_AS</td><td>Ascites</td><td>HGSOC1</td><td>0.8007227</td><td> 3.859894</td><td>0.1519320</td><td>⋯</td><td>B                  </td><td>Lymphoid cells     </td><td> 0.1662883</td><td>13.255426</td><td>Ascites</td><td>HGSOC</td><td>HGSOC1</td><td>PRJCA005422_HGSOC1_AS</td><td>8</td><td>8</td></tr>\n",
       "\t<tr><th scope=row>PRJCA005422_EOC1_FS_cell_AACCGCGTCCCTAACC</th><td>EOC1</td><td>  531</td><td> 365</td><td>EOC1_FS_cell_AACCGCGTCCCTAACC</td><td>HGSOC1_AS</td><td>Ascites</td><td>HGSOC1</td><td>5.6497175</td><td>18.796992</td><td>0.1879699</td><td>⋯</td><td>B                  </td><td>Lymphoid cells     </td><td>-6.0097427</td><td>11.557367</td><td>Ascites</td><td>HGSOC</td><td>HGSOC1</td><td>PRJCA005422_HGSOC1_AS</td><td>4</td><td>4</td></tr>\n",
       "\t<tr><th scope=row>PRJCA005422_EOC1_FS_cell_AACTCCCAGTTTCCTT</th><td>EOC1</td><td> 9273</td><td>3128</td><td>EOC1_FS_cell_AACTCCCAGTTTCCTT</td><td>HGSOC1_AS</td><td>Ascites</td><td>HGSOC1</td><td>3.5479349</td><td>10.673854</td><td>0.4743935</td><td>⋯</td><td>Proliferative cells</td><td>Proliferative cells</td><td> 2.3708313</td><td> 2.942190</td><td>Ascites</td><td>HGSOC</td><td>HGSOC1</td><td>PRJCA005422_HGSOC1_AS</td><td>8</td><td>8</td></tr>\n",
       "\t<tr><th scope=row>PRJCA005422_EOC1_FS_cell_AAGGCAGGTTAAAGTG</th><td>EOC1</td><td> 4757</td><td>2120</td><td>EOC1_FS_cell_AAGGCAGGTTAAAGTG</td><td>HGSOC1_AS</td><td>Ascites</td><td>HGSOC1</td><td>9.7750683</td><td>15.762926</td><td>0.6094998</td><td>⋯</td><td>Proliferative cells</td><td>Proliferative cells</td><td> 2.5225659</td><td> 2.890291</td><td>Ascites</td><td>HGSOC</td><td>HGSOC1</td><td>PRJCA005422_HGSOC1_AS</td><td>8</td><td>8</td></tr>\n",
       "\t<tr><th scope=row>PRJCA005422_EOC1_FS_cell_AAGGCAGTCAACACTG</th><td>EOC1</td><td>19574</td><td>3727</td><td>EOC1_FS_cell_AAGGCAGTCAACACTG</td><td>HGSOC1_AS</td><td>Ascites</td><td>HGSOC1</td><td>7.1319097</td><td>24.638570</td><td>0.3473819</td><td>⋯</td><td>Proliferative cells</td><td>Proliferative cells</td><td> 1.6956519</td><td> 3.476046</td><td>Ascites</td><td>HGSOC</td><td>HGSOC1</td><td>PRJCA005422_HGSOC1_AS</td><td>8</td><td>8</td></tr>\n",
       "\t<tr><th scope=row>PRJCA005422_EOC1_FS_cell_ACACCAAAGCTAACTC</th><td>EOC1</td><td>22514</td><td>3971</td><td>EOC1_FS_cell_ACACCAAAGCTAACTC</td><td>HGSOC1_AS</td><td>Ascites</td><td>HGSOC1</td><td>5.7208848</td><td>20.034642</td><td>0.7683425</td><td>⋯</td><td>Proliferative cells</td><td>Proliferative cells</td><td> 2.0638140</td><td>12.254530</td><td>Ascites</td><td>HGSOC</td><td>HGSOC1</td><td>PRJCA005422_HGSOC1_AS</td><td>8</td><td>8</td></tr>\n",
       "</tbody>\n",
       "</table>\n"
      ],
      "text/latex": [
       "A data.frame: 6 × 24\n",
       "\\begin{tabular}{r|lllllllllllllllllllll}\n",
       "  & orig.ident & nCount\\_RNA & nFeature\\_RNA & Cellname & Samples & Groups & Patients & percent.mt & percent.ribo & percent.HSP & ⋯ & maintypes\\_2 & maintypes\\_3 & UMAP\\_1 & UMAP\\_2 & sample\\_type & cancer\\_type & patient\\_id & sample\\_id & RNA\\_snn\\_res.0.2 & seurat\\_clusters\\\\\n",
       "  & <fct> & <dbl> & <int> & <chr> & <chr> & <fct> & <fct> & <dbl> & <dbl> & <dbl> & ⋯ & <fct> & <chr> & <dbl> & <dbl> & <fct> & <chr> & <fct> & <chr> & <fct> & <fct>\\\\\n",
       "\\hline\n",
       "\tPRJCA005422\\_EOC1\\_FS\\_cell\\_AACACGTGTCGGCACT & EOC1 & 24353 & 1770 & EOC1\\_FS\\_cell\\_AACACGTGTCGGCACT & HGSOC1\\_AS & Ascites & HGSOC1 & 0.8007227 &  3.859894 & 0.1519320 & ⋯ & B                   & Lymphoid cells      &  0.1662883 & 13.255426 & Ascites & HGSOC & HGSOC1 & PRJCA005422\\_HGSOC1\\_AS & 8 & 8\\\\\n",
       "\tPRJCA005422\\_EOC1\\_FS\\_cell\\_AACCGCGTCCCTAACC & EOC1 &   531 &  365 & EOC1\\_FS\\_cell\\_AACCGCGTCCCTAACC & HGSOC1\\_AS & Ascites & HGSOC1 & 5.6497175 & 18.796992 & 0.1879699 & ⋯ & B                   & Lymphoid cells      & -6.0097427 & 11.557367 & Ascites & HGSOC & HGSOC1 & PRJCA005422\\_HGSOC1\\_AS & 4 & 4\\\\\n",
       "\tPRJCA005422\\_EOC1\\_FS\\_cell\\_AACTCCCAGTTTCCTT & EOC1 &  9273 & 3128 & EOC1\\_FS\\_cell\\_AACTCCCAGTTTCCTT & HGSOC1\\_AS & Ascites & HGSOC1 & 3.5479349 & 10.673854 & 0.4743935 & ⋯ & Proliferative cells & Proliferative cells &  2.3708313 &  2.942190 & Ascites & HGSOC & HGSOC1 & PRJCA005422\\_HGSOC1\\_AS & 8 & 8\\\\\n",
       "\tPRJCA005422\\_EOC1\\_FS\\_cell\\_AAGGCAGGTTAAAGTG & EOC1 &  4757 & 2120 & EOC1\\_FS\\_cell\\_AAGGCAGGTTAAAGTG & HGSOC1\\_AS & Ascites & HGSOC1 & 9.7750683 & 15.762926 & 0.6094998 & ⋯ & Proliferative cells & Proliferative cells &  2.5225659 &  2.890291 & Ascites & HGSOC & HGSOC1 & PRJCA005422\\_HGSOC1\\_AS & 8 & 8\\\\\n",
       "\tPRJCA005422\\_EOC1\\_FS\\_cell\\_AAGGCAGTCAACACTG & EOC1 & 19574 & 3727 & EOC1\\_FS\\_cell\\_AAGGCAGTCAACACTG & HGSOC1\\_AS & Ascites & HGSOC1 & 7.1319097 & 24.638570 & 0.3473819 & ⋯ & Proliferative cells & Proliferative cells &  1.6956519 &  3.476046 & Ascites & HGSOC & HGSOC1 & PRJCA005422\\_HGSOC1\\_AS & 8 & 8\\\\\n",
       "\tPRJCA005422\\_EOC1\\_FS\\_cell\\_ACACCAAAGCTAACTC & EOC1 & 22514 & 3971 & EOC1\\_FS\\_cell\\_ACACCAAAGCTAACTC & HGSOC1\\_AS & Ascites & HGSOC1 & 5.7208848 & 20.034642 & 0.7683425 & ⋯ & Proliferative cells & Proliferative cells &  2.0638140 & 12.254530 & Ascites & HGSOC & HGSOC1 & PRJCA005422\\_HGSOC1\\_AS & 8 & 8\\\\\n",
       "\\end{tabular}\n"
      ],
      "text/markdown": [
       "\n",
       "A data.frame: 6 × 24\n",
       "\n",
       "| <!--/--> | orig.ident &lt;fct&gt; | nCount_RNA &lt;dbl&gt; | nFeature_RNA &lt;int&gt; | Cellname &lt;chr&gt; | Samples &lt;chr&gt; | Groups &lt;fct&gt; | Patients &lt;fct&gt; | percent.mt &lt;dbl&gt; | percent.ribo &lt;dbl&gt; | percent.HSP &lt;dbl&gt; | ⋯ ⋯ | maintypes_2 &lt;fct&gt; | maintypes_3 &lt;chr&gt; | UMAP_1 &lt;dbl&gt; | UMAP_2 &lt;dbl&gt; | sample_type &lt;fct&gt; | cancer_type &lt;chr&gt; | patient_id &lt;fct&gt; | sample_id &lt;chr&gt; | RNA_snn_res.0.2 &lt;fct&gt; | seurat_clusters &lt;fct&gt; |\n",
       "|---|---|---|---|---|---|---|---|---|---|---|---|---|---|---|---|---|---|---|---|---|---|\n",
       "| PRJCA005422_EOC1_FS_cell_AACACGTGTCGGCACT | EOC1 | 24353 | 1770 | EOC1_FS_cell_AACACGTGTCGGCACT | HGSOC1_AS | Ascites | HGSOC1 | 0.8007227 |  3.859894 | 0.1519320 | ⋯ | B                   | Lymphoid cells      |  0.1662883 | 13.255426 | Ascites | HGSOC | HGSOC1 | PRJCA005422_HGSOC1_AS | 8 | 8 |\n",
       "| PRJCA005422_EOC1_FS_cell_AACCGCGTCCCTAACC | EOC1 |   531 |  365 | EOC1_FS_cell_AACCGCGTCCCTAACC | HGSOC1_AS | Ascites | HGSOC1 | 5.6497175 | 18.796992 | 0.1879699 | ⋯ | B                   | Lymphoid cells      | -6.0097427 | 11.557367 | Ascites | HGSOC | HGSOC1 | PRJCA005422_HGSOC1_AS | 4 | 4 |\n",
       "| PRJCA005422_EOC1_FS_cell_AACTCCCAGTTTCCTT | EOC1 |  9273 | 3128 | EOC1_FS_cell_AACTCCCAGTTTCCTT | HGSOC1_AS | Ascites | HGSOC1 | 3.5479349 | 10.673854 | 0.4743935 | ⋯ | Proliferative cells | Proliferative cells |  2.3708313 |  2.942190 | Ascites | HGSOC | HGSOC1 | PRJCA005422_HGSOC1_AS | 8 | 8 |\n",
       "| PRJCA005422_EOC1_FS_cell_AAGGCAGGTTAAAGTG | EOC1 |  4757 | 2120 | EOC1_FS_cell_AAGGCAGGTTAAAGTG | HGSOC1_AS | Ascites | HGSOC1 | 9.7750683 | 15.762926 | 0.6094998 | ⋯ | Proliferative cells | Proliferative cells |  2.5225659 |  2.890291 | Ascites | HGSOC | HGSOC1 | PRJCA005422_HGSOC1_AS | 8 | 8 |\n",
       "| PRJCA005422_EOC1_FS_cell_AAGGCAGTCAACACTG | EOC1 | 19574 | 3727 | EOC1_FS_cell_AAGGCAGTCAACACTG | HGSOC1_AS | Ascites | HGSOC1 | 7.1319097 | 24.638570 | 0.3473819 | ⋯ | Proliferative cells | Proliferative cells |  1.6956519 |  3.476046 | Ascites | HGSOC | HGSOC1 | PRJCA005422_HGSOC1_AS | 8 | 8 |\n",
       "| PRJCA005422_EOC1_FS_cell_ACACCAAAGCTAACTC | EOC1 | 22514 | 3971 | EOC1_FS_cell_ACACCAAAGCTAACTC | HGSOC1_AS | Ascites | HGSOC1 | 5.7208848 | 20.034642 | 0.7683425 | ⋯ | Proliferative cells | Proliferative cells |  2.0638140 | 12.254530 | Ascites | HGSOC | HGSOC1 | PRJCA005422_HGSOC1_AS | 8 | 8 |\n",
       "\n"
      ],
      "text/plain": [
       "                                          orig.ident nCount_RNA nFeature_RNA\n",
       "PRJCA005422_EOC1_FS_cell_AACACGTGTCGGCACT EOC1       24353      1770        \n",
       "PRJCA005422_EOC1_FS_cell_AACCGCGTCCCTAACC EOC1         531       365        \n",
       "PRJCA005422_EOC1_FS_cell_AACTCCCAGTTTCCTT EOC1        9273      3128        \n",
       "PRJCA005422_EOC1_FS_cell_AAGGCAGGTTAAAGTG EOC1        4757      2120        \n",
       "PRJCA005422_EOC1_FS_cell_AAGGCAGTCAACACTG EOC1       19574      3727        \n",
       "PRJCA005422_EOC1_FS_cell_ACACCAAAGCTAACTC EOC1       22514      3971        \n",
       "                                          Cellname                     \n",
       "PRJCA005422_EOC1_FS_cell_AACACGTGTCGGCACT EOC1_FS_cell_AACACGTGTCGGCACT\n",
       "PRJCA005422_EOC1_FS_cell_AACCGCGTCCCTAACC EOC1_FS_cell_AACCGCGTCCCTAACC\n",
       "PRJCA005422_EOC1_FS_cell_AACTCCCAGTTTCCTT EOC1_FS_cell_AACTCCCAGTTTCCTT\n",
       "PRJCA005422_EOC1_FS_cell_AAGGCAGGTTAAAGTG EOC1_FS_cell_AAGGCAGGTTAAAGTG\n",
       "PRJCA005422_EOC1_FS_cell_AAGGCAGTCAACACTG EOC1_FS_cell_AAGGCAGTCAACACTG\n",
       "PRJCA005422_EOC1_FS_cell_ACACCAAAGCTAACTC EOC1_FS_cell_ACACCAAAGCTAACTC\n",
       "                                          Samples   Groups  Patients percent.mt\n",
       "PRJCA005422_EOC1_FS_cell_AACACGTGTCGGCACT HGSOC1_AS Ascites HGSOC1   0.8007227 \n",
       "PRJCA005422_EOC1_FS_cell_AACCGCGTCCCTAACC HGSOC1_AS Ascites HGSOC1   5.6497175 \n",
       "PRJCA005422_EOC1_FS_cell_AACTCCCAGTTTCCTT HGSOC1_AS Ascites HGSOC1   3.5479349 \n",
       "PRJCA005422_EOC1_FS_cell_AAGGCAGGTTAAAGTG HGSOC1_AS Ascites HGSOC1   9.7750683 \n",
       "PRJCA005422_EOC1_FS_cell_AAGGCAGTCAACACTG HGSOC1_AS Ascites HGSOC1   7.1319097 \n",
       "PRJCA005422_EOC1_FS_cell_ACACCAAAGCTAACTC HGSOC1_AS Ascites HGSOC1   5.7208848 \n",
       "                                          percent.ribo percent.HSP ⋯\n",
       "PRJCA005422_EOC1_FS_cell_AACACGTGTCGGCACT  3.859894    0.1519320   ⋯\n",
       "PRJCA005422_EOC1_FS_cell_AACCGCGTCCCTAACC 18.796992    0.1879699   ⋯\n",
       "PRJCA005422_EOC1_FS_cell_AACTCCCAGTTTCCTT 10.673854    0.4743935   ⋯\n",
       "PRJCA005422_EOC1_FS_cell_AAGGCAGGTTAAAGTG 15.762926    0.6094998   ⋯\n",
       "PRJCA005422_EOC1_FS_cell_AAGGCAGTCAACACTG 24.638570    0.3473819   ⋯\n",
       "PRJCA005422_EOC1_FS_cell_ACACCAAAGCTAACTC 20.034642    0.7683425   ⋯\n",
       "                                          maintypes_2        \n",
       "PRJCA005422_EOC1_FS_cell_AACACGTGTCGGCACT B                  \n",
       "PRJCA005422_EOC1_FS_cell_AACCGCGTCCCTAACC B                  \n",
       "PRJCA005422_EOC1_FS_cell_AACTCCCAGTTTCCTT Proliferative cells\n",
       "PRJCA005422_EOC1_FS_cell_AAGGCAGGTTAAAGTG Proliferative cells\n",
       "PRJCA005422_EOC1_FS_cell_AAGGCAGTCAACACTG Proliferative cells\n",
       "PRJCA005422_EOC1_FS_cell_ACACCAAAGCTAACTC Proliferative cells\n",
       "                                          maintypes_3         UMAP_1    \n",
       "PRJCA005422_EOC1_FS_cell_AACACGTGTCGGCACT Lymphoid cells       0.1662883\n",
       "PRJCA005422_EOC1_FS_cell_AACCGCGTCCCTAACC Lymphoid cells      -6.0097427\n",
       "PRJCA005422_EOC1_FS_cell_AACTCCCAGTTTCCTT Proliferative cells  2.3708313\n",
       "PRJCA005422_EOC1_FS_cell_AAGGCAGGTTAAAGTG Proliferative cells  2.5225659\n",
       "PRJCA005422_EOC1_FS_cell_AAGGCAGTCAACACTG Proliferative cells  1.6956519\n",
       "PRJCA005422_EOC1_FS_cell_ACACCAAAGCTAACTC Proliferative cells  2.0638140\n",
       "                                          UMAP_2    sample_type cancer_type\n",
       "PRJCA005422_EOC1_FS_cell_AACACGTGTCGGCACT 13.255426 Ascites     HGSOC      \n",
       "PRJCA005422_EOC1_FS_cell_AACCGCGTCCCTAACC 11.557367 Ascites     HGSOC      \n",
       "PRJCA005422_EOC1_FS_cell_AACTCCCAGTTTCCTT  2.942190 Ascites     HGSOC      \n",
       "PRJCA005422_EOC1_FS_cell_AAGGCAGGTTAAAGTG  2.890291 Ascites     HGSOC      \n",
       "PRJCA005422_EOC1_FS_cell_AAGGCAGTCAACACTG  3.476046 Ascites     HGSOC      \n",
       "PRJCA005422_EOC1_FS_cell_ACACCAAAGCTAACTC 12.254530 Ascites     HGSOC      \n",
       "                                          patient_id sample_id            \n",
       "PRJCA005422_EOC1_FS_cell_AACACGTGTCGGCACT HGSOC1     PRJCA005422_HGSOC1_AS\n",
       "PRJCA005422_EOC1_FS_cell_AACCGCGTCCCTAACC HGSOC1     PRJCA005422_HGSOC1_AS\n",
       "PRJCA005422_EOC1_FS_cell_AACTCCCAGTTTCCTT HGSOC1     PRJCA005422_HGSOC1_AS\n",
       "PRJCA005422_EOC1_FS_cell_AAGGCAGGTTAAAGTG HGSOC1     PRJCA005422_HGSOC1_AS\n",
       "PRJCA005422_EOC1_FS_cell_AAGGCAGTCAACACTG HGSOC1     PRJCA005422_HGSOC1_AS\n",
       "PRJCA005422_EOC1_FS_cell_ACACCAAAGCTAACTC HGSOC1     PRJCA005422_HGSOC1_AS\n",
       "                                          RNA_snn_res.0.2 seurat_clusters\n",
       "PRJCA005422_EOC1_FS_cell_AACACGTGTCGGCACT 8               8              \n",
       "PRJCA005422_EOC1_FS_cell_AACCGCGTCCCTAACC 4               4              \n",
       "PRJCA005422_EOC1_FS_cell_AACTCCCAGTTTCCTT 8               8              \n",
       "PRJCA005422_EOC1_FS_cell_AAGGCAGGTTAAAGTG 8               8              \n",
       "PRJCA005422_EOC1_FS_cell_AAGGCAGTCAACACTG 8               8              \n",
       "PRJCA005422_EOC1_FS_cell_ACACCAAAGCTAACTC 8               8              "
      ]
     },
     "metadata": {},
     "output_type": "display_data"
    },
    {
     "data": {
      "text/plain": [
       "An object of class Seurat \n",
       "27127 features across 13256 samples within 1 assay \n",
       "Active assay: RNA (27127 features, 2000 variable features)\n",
       " 3 layers present: counts, data, scale.data\n",
       " 2 dimensional reductions calculated: pca, umap"
      ]
     },
     "metadata": {},
     "output_type": "display_data"
    },
    {
     "data": {
      "text/html": [
       "'SeuratProject'"
      ],
      "text/latex": [
       "'SeuratProject'"
      ],
      "text/markdown": [
       "'SeuratProject'"
      ],
      "text/plain": [
       "[1] \"SeuratProject\""
      ]
     },
     "metadata": {},
     "output_type": "display_data"
    },
    {
     "data": {
      "text/html": [
       "<table class=\"dataframe\">\n",
       "<caption>A data.frame: 6 × 24</caption>\n",
       "<thead>\n",
       "\t<tr><th></th><th scope=col>orig.ident</th><th scope=col>nCount_RNA</th><th scope=col>nFeature_RNA</th><th scope=col>Cellname</th><th scope=col>Samples</th><th scope=col>Groups</th><th scope=col>Patients</th><th scope=col>percent.mt</th><th scope=col>percent.ribo</th><th scope=col>percent.HSP</th><th scope=col>⋯</th><th scope=col>maintypes_2</th><th scope=col>maintypes_3</th><th scope=col>UMAP_1</th><th scope=col>UMAP_2</th><th scope=col>sample_type</th><th scope=col>cancer_type</th><th scope=col>patient_id</th><th scope=col>sample_id</th><th scope=col>RNA_snn_res.0.2</th><th scope=col>seurat_clusters</th></tr>\n",
       "\t<tr><th></th><th scope=col>&lt;fct&gt;</th><th scope=col>&lt;dbl&gt;</th><th scope=col>&lt;int&gt;</th><th scope=col>&lt;chr&gt;</th><th scope=col>&lt;chr&gt;</th><th scope=col>&lt;fct&gt;</th><th scope=col>&lt;fct&gt;</th><th scope=col>&lt;dbl&gt;</th><th scope=col>&lt;dbl&gt;</th><th scope=col>&lt;dbl&gt;</th><th scope=col>⋯</th><th scope=col>&lt;fct&gt;</th><th scope=col>&lt;chr&gt;</th><th scope=col>&lt;dbl&gt;</th><th scope=col>&lt;dbl&gt;</th><th scope=col>&lt;fct&gt;</th><th scope=col>&lt;chr&gt;</th><th scope=col>&lt;fct&gt;</th><th scope=col>&lt;chr&gt;</th><th scope=col>&lt;fct&gt;</th><th scope=col>&lt;fct&gt;</th></tr>\n",
       "</thead>\n",
       "<tbody>\n",
       "\t<tr><th scope=row>PRJCA005422_EOC1_OC_cell_CCACGGACACCAGGCT</th><td>EOC1</td><td> 631</td><td>422</td><td>EOC1_OC_cell_CCACGGACACCAGGCT</td><td>HGSOC1_PT</td><td>Primary Tumor   </td><td>HGSOC1</td><td>5.0713154</td><td>16.45570</td><td>1.2658228</td><td>⋯</td><td>Proliferative cells</td><td>Proliferative cells</td><td>1.570391</td><td>2.864907</td><td>Primary Tumor   </td><td>HGSOC</td><td>HGSOC1</td><td>PRJCA005422_HGSOC1_PT</td><td>0</td><td>0</td></tr>\n",
       "\t<tr><th scope=row>PRJCA005422_EOC1_OC_cell_CCTACACAGAGTCTGG</th><td>EOC1</td><td> 639</td><td>368</td><td>EOC1_OC_cell_CCTACACAGAGTCTGG</td><td>HGSOC1_PT</td><td>Primary Tumor   </td><td>HGSOC1</td><td>3.7558685</td><td>25.00000</td><td>1.4062500</td><td>⋯</td><td>Proliferative cells</td><td>Proliferative cells</td><td>2.063956</td><td>3.946421</td><td>Primary Tumor   </td><td>HGSOC</td><td>HGSOC1</td><td>PRJCA005422_HGSOC1_PT</td><td>0</td><td>0</td></tr>\n",
       "\t<tr><th scope=row>PRJCA005422_EOC1_TM_cell_AGTTGGTTCACGCATA</th><td>EOC1</td><td> 651</td><td>394</td><td>EOC1_TM_cell_AGTTGGTTCACGCATA</td><td>HGSOC1_MT</td><td>Metastatic Tumor</td><td>HGSOC1</td><td>0.4608295</td><td>26.72811</td><td>0.1536098</td><td>⋯</td><td>Proliferative cells</td><td>Proliferative cells</td><td>1.906724</td><td>3.602650</td><td>Metastatic Tumor</td><td>HGSOC</td><td>HGSOC1</td><td>PRJCA005422_HGSOC1_MT</td><td>0</td><td>0</td></tr>\n",
       "\t<tr><th scope=row>PRJCA005422_EOC1_TM_cell_CGATCGGCACGCTTTC</th><td>EOC1</td><td>1480</td><td>787</td><td>EOC1_TM_cell_CGATCGGCACGCTTTC</td><td>HGSOC1_MT</td><td>Metastatic Tumor</td><td>HGSOC1</td><td>0.4054054</td><td>25.60811</td><td>0.6081081</td><td>⋯</td><td>Proliferative cells</td><td>Proliferative cells</td><td>2.014700</td><td>3.495903</td><td>Metastatic Tumor</td><td>HGSOC</td><td>HGSOC1</td><td>PRJCA005422_HGSOC1_MT</td><td>0</td><td>0</td></tr>\n",
       "\t<tr><th scope=row>PRJCA005422_EOC1_TM_cell_CTCTAATTCTTTACGT</th><td>EOC1</td><td>1067</td><td>522</td><td>EOC1_TM_cell_CTCTAATTCTTTACGT</td><td>HGSOC1_MT</td><td>Metastatic Tumor</td><td>HGSOC1</td><td>1.2183693</td><td>38.23805</td><td>0.1874414</td><td>⋯</td><td>Proliferative cells</td><td>Proliferative cells</td><td>1.414386</td><td>3.496294</td><td>Metastatic Tumor</td><td>HGSOC</td><td>HGSOC1</td><td>PRJCA005422_HGSOC1_MT</td><td>0</td><td>0</td></tr>\n",
       "\t<tr><th scope=row>PRJCA005422_EOC1_TM_cell_GCCTCTACACGGTTTA</th><td>EOC1</td><td>1629</td><td>792</td><td>EOC1_TM_cell_GCCTCTACACGGTTTA</td><td>HGSOC1_MT</td><td>Metastatic Tumor</td><td>HGSOC1</td><td>0.0000000</td><td>26.27379</td><td>0.9821977</td><td>⋯</td><td>Proliferative cells</td><td>Proliferative cells</td><td>1.583880</td><td>3.464499</td><td>Metastatic Tumor</td><td>HGSOC</td><td>HGSOC1</td><td>PRJCA005422_HGSOC1_MT</td><td>0</td><td>0</td></tr>\n",
       "</tbody>\n",
       "</table>\n"
      ],
      "text/latex": [
       "A data.frame: 6 × 24\n",
       "\\begin{tabular}{r|lllllllllllllllllllll}\n",
       "  & orig.ident & nCount\\_RNA & nFeature\\_RNA & Cellname & Samples & Groups & Patients & percent.mt & percent.ribo & percent.HSP & ⋯ & maintypes\\_2 & maintypes\\_3 & UMAP\\_1 & UMAP\\_2 & sample\\_type & cancer\\_type & patient\\_id & sample\\_id & RNA\\_snn\\_res.0.2 & seurat\\_clusters\\\\\n",
       "  & <fct> & <dbl> & <int> & <chr> & <chr> & <fct> & <fct> & <dbl> & <dbl> & <dbl> & ⋯ & <fct> & <chr> & <dbl> & <dbl> & <fct> & <chr> & <fct> & <chr> & <fct> & <fct>\\\\\n",
       "\\hline\n",
       "\tPRJCA005422\\_EOC1\\_OC\\_cell\\_CCACGGACACCAGGCT & EOC1 &  631 & 422 & EOC1\\_OC\\_cell\\_CCACGGACACCAGGCT & HGSOC1\\_PT & Primary Tumor    & HGSOC1 & 5.0713154 & 16.45570 & 1.2658228 & ⋯ & Proliferative cells & Proliferative cells & 1.570391 & 2.864907 & Primary Tumor    & HGSOC & HGSOC1 & PRJCA005422\\_HGSOC1\\_PT & 0 & 0\\\\\n",
       "\tPRJCA005422\\_EOC1\\_OC\\_cell\\_CCTACACAGAGTCTGG & EOC1 &  639 & 368 & EOC1\\_OC\\_cell\\_CCTACACAGAGTCTGG & HGSOC1\\_PT & Primary Tumor    & HGSOC1 & 3.7558685 & 25.00000 & 1.4062500 & ⋯ & Proliferative cells & Proliferative cells & 2.063956 & 3.946421 & Primary Tumor    & HGSOC & HGSOC1 & PRJCA005422\\_HGSOC1\\_PT & 0 & 0\\\\\n",
       "\tPRJCA005422\\_EOC1\\_TM\\_cell\\_AGTTGGTTCACGCATA & EOC1 &  651 & 394 & EOC1\\_TM\\_cell\\_AGTTGGTTCACGCATA & HGSOC1\\_MT & Metastatic Tumor & HGSOC1 & 0.4608295 & 26.72811 & 0.1536098 & ⋯ & Proliferative cells & Proliferative cells & 1.906724 & 3.602650 & Metastatic Tumor & HGSOC & HGSOC1 & PRJCA005422\\_HGSOC1\\_MT & 0 & 0\\\\\n",
       "\tPRJCA005422\\_EOC1\\_TM\\_cell\\_CGATCGGCACGCTTTC & EOC1 & 1480 & 787 & EOC1\\_TM\\_cell\\_CGATCGGCACGCTTTC & HGSOC1\\_MT & Metastatic Tumor & HGSOC1 & 0.4054054 & 25.60811 & 0.6081081 & ⋯ & Proliferative cells & Proliferative cells & 2.014700 & 3.495903 & Metastatic Tumor & HGSOC & HGSOC1 & PRJCA005422\\_HGSOC1\\_MT & 0 & 0\\\\\n",
       "\tPRJCA005422\\_EOC1\\_TM\\_cell\\_CTCTAATTCTTTACGT & EOC1 & 1067 & 522 & EOC1\\_TM\\_cell\\_CTCTAATTCTTTACGT & HGSOC1\\_MT & Metastatic Tumor & HGSOC1 & 1.2183693 & 38.23805 & 0.1874414 & ⋯ & Proliferative cells & Proliferative cells & 1.414386 & 3.496294 & Metastatic Tumor & HGSOC & HGSOC1 & PRJCA005422\\_HGSOC1\\_MT & 0 & 0\\\\\n",
       "\tPRJCA005422\\_EOC1\\_TM\\_cell\\_GCCTCTACACGGTTTA & EOC1 & 1629 & 792 & EOC1\\_TM\\_cell\\_GCCTCTACACGGTTTA & HGSOC1\\_MT & Metastatic Tumor & HGSOC1 & 0.0000000 & 26.27379 & 0.9821977 & ⋯ & Proliferative cells & Proliferative cells & 1.583880 & 3.464499 & Metastatic Tumor & HGSOC & HGSOC1 & PRJCA005422\\_HGSOC1\\_MT & 0 & 0\\\\\n",
       "\\end{tabular}\n"
      ],
      "text/markdown": [
       "\n",
       "A data.frame: 6 × 24\n",
       "\n",
       "| <!--/--> | orig.ident &lt;fct&gt; | nCount_RNA &lt;dbl&gt; | nFeature_RNA &lt;int&gt; | Cellname &lt;chr&gt; | Samples &lt;chr&gt; | Groups &lt;fct&gt; | Patients &lt;fct&gt; | percent.mt &lt;dbl&gt; | percent.ribo &lt;dbl&gt; | percent.HSP &lt;dbl&gt; | ⋯ ⋯ | maintypes_2 &lt;fct&gt; | maintypes_3 &lt;chr&gt; | UMAP_1 &lt;dbl&gt; | UMAP_2 &lt;dbl&gt; | sample_type &lt;fct&gt; | cancer_type &lt;chr&gt; | patient_id &lt;fct&gt; | sample_id &lt;chr&gt; | RNA_snn_res.0.2 &lt;fct&gt; | seurat_clusters &lt;fct&gt; |\n",
       "|---|---|---|---|---|---|---|---|---|---|---|---|---|---|---|---|---|---|---|---|---|---|\n",
       "| PRJCA005422_EOC1_OC_cell_CCACGGACACCAGGCT | EOC1 |  631 | 422 | EOC1_OC_cell_CCACGGACACCAGGCT | HGSOC1_PT | Primary Tumor    | HGSOC1 | 5.0713154 | 16.45570 | 1.2658228 | ⋯ | Proliferative cells | Proliferative cells | 1.570391 | 2.864907 | Primary Tumor    | HGSOC | HGSOC1 | PRJCA005422_HGSOC1_PT | 0 | 0 |\n",
       "| PRJCA005422_EOC1_OC_cell_CCTACACAGAGTCTGG | EOC1 |  639 | 368 | EOC1_OC_cell_CCTACACAGAGTCTGG | HGSOC1_PT | Primary Tumor    | HGSOC1 | 3.7558685 | 25.00000 | 1.4062500 | ⋯ | Proliferative cells | Proliferative cells | 2.063956 | 3.946421 | Primary Tumor    | HGSOC | HGSOC1 | PRJCA005422_HGSOC1_PT | 0 | 0 |\n",
       "| PRJCA005422_EOC1_TM_cell_AGTTGGTTCACGCATA | EOC1 |  651 | 394 | EOC1_TM_cell_AGTTGGTTCACGCATA | HGSOC1_MT | Metastatic Tumor | HGSOC1 | 0.4608295 | 26.72811 | 0.1536098 | ⋯ | Proliferative cells | Proliferative cells | 1.906724 | 3.602650 | Metastatic Tumor | HGSOC | HGSOC1 | PRJCA005422_HGSOC1_MT | 0 | 0 |\n",
       "| PRJCA005422_EOC1_TM_cell_CGATCGGCACGCTTTC | EOC1 | 1480 | 787 | EOC1_TM_cell_CGATCGGCACGCTTTC | HGSOC1_MT | Metastatic Tumor | HGSOC1 | 0.4054054 | 25.60811 | 0.6081081 | ⋯ | Proliferative cells | Proliferative cells | 2.014700 | 3.495903 | Metastatic Tumor | HGSOC | HGSOC1 | PRJCA005422_HGSOC1_MT | 0 | 0 |\n",
       "| PRJCA005422_EOC1_TM_cell_CTCTAATTCTTTACGT | EOC1 | 1067 | 522 | EOC1_TM_cell_CTCTAATTCTTTACGT | HGSOC1_MT | Metastatic Tumor | HGSOC1 | 1.2183693 | 38.23805 | 0.1874414 | ⋯ | Proliferative cells | Proliferative cells | 1.414386 | 3.496294 | Metastatic Tumor | HGSOC | HGSOC1 | PRJCA005422_HGSOC1_MT | 0 | 0 |\n",
       "| PRJCA005422_EOC1_TM_cell_GCCTCTACACGGTTTA | EOC1 | 1629 | 792 | EOC1_TM_cell_GCCTCTACACGGTTTA | HGSOC1_MT | Metastatic Tumor | HGSOC1 | 0.0000000 | 26.27379 | 0.9821977 | ⋯ | Proliferative cells | Proliferative cells | 1.583880 | 3.464499 | Metastatic Tumor | HGSOC | HGSOC1 | PRJCA005422_HGSOC1_MT | 0 | 0 |\n",
       "\n"
      ],
      "text/plain": [
       "                                          orig.ident nCount_RNA nFeature_RNA\n",
       "PRJCA005422_EOC1_OC_cell_CCACGGACACCAGGCT EOC1        631       422         \n",
       "PRJCA005422_EOC1_OC_cell_CCTACACAGAGTCTGG EOC1        639       368         \n",
       "PRJCA005422_EOC1_TM_cell_AGTTGGTTCACGCATA EOC1        651       394         \n",
       "PRJCA005422_EOC1_TM_cell_CGATCGGCACGCTTTC EOC1       1480       787         \n",
       "PRJCA005422_EOC1_TM_cell_CTCTAATTCTTTACGT EOC1       1067       522         \n",
       "PRJCA005422_EOC1_TM_cell_GCCTCTACACGGTTTA EOC1       1629       792         \n",
       "                                          Cellname                     \n",
       "PRJCA005422_EOC1_OC_cell_CCACGGACACCAGGCT EOC1_OC_cell_CCACGGACACCAGGCT\n",
       "PRJCA005422_EOC1_OC_cell_CCTACACAGAGTCTGG EOC1_OC_cell_CCTACACAGAGTCTGG\n",
       "PRJCA005422_EOC1_TM_cell_AGTTGGTTCACGCATA EOC1_TM_cell_AGTTGGTTCACGCATA\n",
       "PRJCA005422_EOC1_TM_cell_CGATCGGCACGCTTTC EOC1_TM_cell_CGATCGGCACGCTTTC\n",
       "PRJCA005422_EOC1_TM_cell_CTCTAATTCTTTACGT EOC1_TM_cell_CTCTAATTCTTTACGT\n",
       "PRJCA005422_EOC1_TM_cell_GCCTCTACACGGTTTA EOC1_TM_cell_GCCTCTACACGGTTTA\n",
       "                                          Samples   Groups           Patients\n",
       "PRJCA005422_EOC1_OC_cell_CCACGGACACCAGGCT HGSOC1_PT Primary Tumor    HGSOC1  \n",
       "PRJCA005422_EOC1_OC_cell_CCTACACAGAGTCTGG HGSOC1_PT Primary Tumor    HGSOC1  \n",
       "PRJCA005422_EOC1_TM_cell_AGTTGGTTCACGCATA HGSOC1_MT Metastatic Tumor HGSOC1  \n",
       "PRJCA005422_EOC1_TM_cell_CGATCGGCACGCTTTC HGSOC1_MT Metastatic Tumor HGSOC1  \n",
       "PRJCA005422_EOC1_TM_cell_CTCTAATTCTTTACGT HGSOC1_MT Metastatic Tumor HGSOC1  \n",
       "PRJCA005422_EOC1_TM_cell_GCCTCTACACGGTTTA HGSOC1_MT Metastatic Tumor HGSOC1  \n",
       "                                          percent.mt percent.ribo percent.HSP ⋯\n",
       "PRJCA005422_EOC1_OC_cell_CCACGGACACCAGGCT 5.0713154  16.45570     1.2658228   ⋯\n",
       "PRJCA005422_EOC1_OC_cell_CCTACACAGAGTCTGG 3.7558685  25.00000     1.4062500   ⋯\n",
       "PRJCA005422_EOC1_TM_cell_AGTTGGTTCACGCATA 0.4608295  26.72811     0.1536098   ⋯\n",
       "PRJCA005422_EOC1_TM_cell_CGATCGGCACGCTTTC 0.4054054  25.60811     0.6081081   ⋯\n",
       "PRJCA005422_EOC1_TM_cell_CTCTAATTCTTTACGT 1.2183693  38.23805     0.1874414   ⋯\n",
       "PRJCA005422_EOC1_TM_cell_GCCTCTACACGGTTTA 0.0000000  26.27379     0.9821977   ⋯\n",
       "                                          maintypes_2        \n",
       "PRJCA005422_EOC1_OC_cell_CCACGGACACCAGGCT Proliferative cells\n",
       "PRJCA005422_EOC1_OC_cell_CCTACACAGAGTCTGG Proliferative cells\n",
       "PRJCA005422_EOC1_TM_cell_AGTTGGTTCACGCATA Proliferative cells\n",
       "PRJCA005422_EOC1_TM_cell_CGATCGGCACGCTTTC Proliferative cells\n",
       "PRJCA005422_EOC1_TM_cell_CTCTAATTCTTTACGT Proliferative cells\n",
       "PRJCA005422_EOC1_TM_cell_GCCTCTACACGGTTTA Proliferative cells\n",
       "                                          maintypes_3         UMAP_1   UMAP_2  \n",
       "PRJCA005422_EOC1_OC_cell_CCACGGACACCAGGCT Proliferative cells 1.570391 2.864907\n",
       "PRJCA005422_EOC1_OC_cell_CCTACACAGAGTCTGG Proliferative cells 2.063956 3.946421\n",
       "PRJCA005422_EOC1_TM_cell_AGTTGGTTCACGCATA Proliferative cells 1.906724 3.602650\n",
       "PRJCA005422_EOC1_TM_cell_CGATCGGCACGCTTTC Proliferative cells 2.014700 3.495903\n",
       "PRJCA005422_EOC1_TM_cell_CTCTAATTCTTTACGT Proliferative cells 1.414386 3.496294\n",
       "PRJCA005422_EOC1_TM_cell_GCCTCTACACGGTTTA Proliferative cells 1.583880 3.464499\n",
       "                                          sample_type      cancer_type\n",
       "PRJCA005422_EOC1_OC_cell_CCACGGACACCAGGCT Primary Tumor    HGSOC      \n",
       "PRJCA005422_EOC1_OC_cell_CCTACACAGAGTCTGG Primary Tumor    HGSOC      \n",
       "PRJCA005422_EOC1_TM_cell_AGTTGGTTCACGCATA Metastatic Tumor HGSOC      \n",
       "PRJCA005422_EOC1_TM_cell_CGATCGGCACGCTTTC Metastatic Tumor HGSOC      \n",
       "PRJCA005422_EOC1_TM_cell_CTCTAATTCTTTACGT Metastatic Tumor HGSOC      \n",
       "PRJCA005422_EOC1_TM_cell_GCCTCTACACGGTTTA Metastatic Tumor HGSOC      \n",
       "                                          patient_id sample_id            \n",
       "PRJCA005422_EOC1_OC_cell_CCACGGACACCAGGCT HGSOC1     PRJCA005422_HGSOC1_PT\n",
       "PRJCA005422_EOC1_OC_cell_CCTACACAGAGTCTGG HGSOC1     PRJCA005422_HGSOC1_PT\n",
       "PRJCA005422_EOC1_TM_cell_AGTTGGTTCACGCATA HGSOC1     PRJCA005422_HGSOC1_MT\n",
       "PRJCA005422_EOC1_TM_cell_CGATCGGCACGCTTTC HGSOC1     PRJCA005422_HGSOC1_MT\n",
       "PRJCA005422_EOC1_TM_cell_CTCTAATTCTTTACGT HGSOC1     PRJCA005422_HGSOC1_MT\n",
       "PRJCA005422_EOC1_TM_cell_GCCTCTACACGGTTTA HGSOC1     PRJCA005422_HGSOC1_MT\n",
       "                                          RNA_snn_res.0.2 seurat_clusters\n",
       "PRJCA005422_EOC1_OC_cell_CCACGGACACCAGGCT 0               0              \n",
       "PRJCA005422_EOC1_OC_cell_CCTACACAGAGTCTGG 0               0              \n",
       "PRJCA005422_EOC1_TM_cell_AGTTGGTTCACGCATA 0               0              \n",
       "PRJCA005422_EOC1_TM_cell_CGATCGGCACGCTTTC 0               0              \n",
       "PRJCA005422_EOC1_TM_cell_CTCTAATTCTTTACGT 0               0              \n",
       "PRJCA005422_EOC1_TM_cell_GCCTCTACACGGTTTA 0               0              "
      ]
     },
     "metadata": {},
     "output_type": "display_data"
    }
   ],
   "source": [
    "HGSOC_As\n",
    "HGSOC_As@project.name\n",
    "head(HGSOC_As@meta.data)\n",
    "\n",
    "HGSOC_Tu\n",
    "HGSOC_Tu@project.name\n",
    "head(HGSOC_Tu@meta.data)"
   ]
  },
  {
   "cell_type": "code",
   "execution_count": 81,
   "metadata": {
    "vscode": {
     "languageId": "r"
    }
   },
   "outputs": [
    {
     "data": {
      "text/plain": [
       "\n",
       "   Primary Tumor Metastatic Tumor       Lymph Node          Ascites \n",
       "               0                0                0            16120 \n",
       "            PBMC \n",
       "               0 "
      ]
     },
     "metadata": {},
     "output_type": "display_data"
    },
    {
     "data": {
      "text/plain": [
       "\n",
       "HGSOC \n",
       "16120 "
      ]
     },
     "metadata": {},
     "output_type": "display_data"
    },
    {
     "data": {
      "text/plain": [
       "\n",
       " HGSOC1  HGSOC2  HGSOC3  HGSOC4  HGSOC5  HGSOC6  HGSOC7  HGSOC8  HGSOC9 HGSOC10 \n",
       "   1149    6695     662       0    1743     829       0    1110    3589     343 \n",
       "   ECO1    UOC1   OCCC1      C1 \n",
       "      0       0       0       0 "
      ]
     },
     "metadata": {},
     "output_type": "display_data"
    },
    {
     "data": {
      "text/plain": [
       "\n",
       " PRJCA005422_HGSOC1_AS PRJCA005422_HGSOC10_AS  PRJCA005422_HGSOC2_AS \n",
       "                  1149                    343                   6695 \n",
       " PRJCA005422_HGSOC3_AS  PRJCA005422_HGSOC5_AS  PRJCA005422_HGSOC6_AS \n",
       "                   662                   1743                    829 \n",
       " PRJCA005422_HGSOC8_AS  PRJCA005422_HGSOC9_AS \n",
       "                  1110                   3589 "
      ]
     },
     "metadata": {},
     "output_type": "display_data"
    },
    {
     "data": {
      "text/plain": [
       "\n",
       "   Primary Tumor Metastatic Tumor       Lymph Node          Ascites \n",
       "            8041             5215                0                0 \n",
       "            PBMC \n",
       "               0 "
      ]
     },
     "metadata": {},
     "output_type": "display_data"
    },
    {
     "data": {
      "text/plain": [
       "\n",
       "HGSOC \n",
       "13256 "
      ]
     },
     "metadata": {},
     "output_type": "display_data"
    },
    {
     "data": {
      "text/plain": [
       "\n",
       " HGSOC1  HGSOC2  HGSOC3  HGSOC4  HGSOC5  HGSOC6  HGSOC7  HGSOC8  HGSOC9 HGSOC10 \n",
       "   2639     633    3523    1104      70    2150    1179     121    1087     750 \n",
       "   ECO1    UOC1   OCCC1      C1 \n",
       "      0       0       0       0 "
      ]
     },
     "metadata": {},
     "output_type": "display_data"
    },
    {
     "data": {
      "text/plain": [
       "\n",
       " PRJCA005422_HGSOC1_MT  PRJCA005422_HGSOC1_PT PRJCA005422_HGSOC10_PT \n",
       "                  1231                   1408                    750 \n",
       " PRJCA005422_HGSOC2_PT  PRJCA005422_HGSOC3_MT  PRJCA005422_HGSOC3_PT \n",
       "                   633                   1711                   1812 \n",
       " PRJCA005422_HGSOC4_MT  PRJCA005422_HGSOC4_PT  PRJCA005422_HGSOC5_PT \n",
       "                   816                    288                     70 \n",
       " PRJCA005422_HGSOC6_MT  PRJCA005422_HGSOC6_PT  PRJCA005422_HGSOC7_PT \n",
       "                  1457                    693                   1179 \n",
       " PRJCA005422_HGSOC8_PT  PRJCA005422_HGSOC9_PT \n",
       "                   121                   1087 "
      ]
     },
     "metadata": {},
     "output_type": "display_data"
    }
   ],
   "source": [
    "table(HGSOC_As$sample_type)\n",
    "table(HGSOC_As$cancer_type)\n",
    "table(HGSOC_As$patient_id)\n",
    "table(HGSOC_As$sample_id)\n",
    "\n",
    "table(HGSOC_Tu$sample_type)\n",
    "table(HGSOC_Tu$cancer_type)\n",
    "table(HGSOC_Tu$patient_id)\n",
    "table(HGSOC_Tu$sample_id)"
   ]
  },
  {
   "cell_type": "code",
   "execution_count": 82,
   "metadata": {
    "vscode": {
     "languageId": "r"
    }
   },
   "outputs": [],
   "source": [
    "#set site metadata\n",
    "HGSOC_As@meta.data$site <- \"ascites fluid\"\n",
    "HGSOC_As@meta.data$sample_type_major <- \"ascites\"\n",
    "\n",
    "#HGSOC_Tu need to split up primary and mets by location\n",
    "HGSOC_Pr <- subset(HGSOC_Tu, subset = sample_type %in% c(\"Primary Tumor\"))\n",
    "HGSOC_Me <- subset(HGSOC_Tu, subset = sample_type %in% c(\"Metastatic Tumor\"))\n",
    "\n",
    "HGSOC_Pr@meta.data$site <- \"ovary\"\n",
    "HGSOC_Me@meta.data$site <- \"omentum\"\n",
    "\n",
    "HGSOC_Pr@meta.data$sample_type_major <- \"primary tumour\"\n",
    "HGSOC_Me@meta.data$sample_type_major <- \"metastatic tumour\"\n",
    "\n",
    "#Merge seurat objects back together\n",
    "HGSOC <- merge(HGSOC_As, y = c(HGSOC_Pr, HGSOC_Me), project = \"PRJCA005422\")"
   ]
  },
  {
   "cell_type": "code",
   "execution_count": 84,
   "metadata": {
    "vscode": {
     "languageId": "r"
    }
   },
   "outputs": [],
   "source": [
    "#set subtype metadata\n",
    "HGSOC@meta.data$cancer_subtype <- \"HGSOC\""
   ]
  },
  {
   "cell_type": "code",
   "execution_count": 85,
   "metadata": {
    "vscode": {
     "languageId": "r"
    }
   },
   "outputs": [],
   "source": [
    "#set integration_id metadata\n",
    "HGSOC@meta.data$integration_id <- HGSOC@meta.data$sample_id"
   ]
  },
  {
   "cell_type": "code",
   "execution_count": 86,
   "metadata": {
    "vscode": {
     "languageId": "r"
    }
   },
   "outputs": [
    {
     "data": {
      "text/plain": [
       "An object of class Seurat \n",
       "27127 features across 29376 samples within 1 assay \n",
       "Active assay: RNA (27127 features, 2000 variable features)\n",
       " 9 layers present: counts.1, counts.2, counts.3, data.1, scale.data.1, data.2, scale.data.2, data.3, scale.data.3"
      ]
     },
     "metadata": {},
     "output_type": "display_data"
    },
    {
     "data": {
      "text/html": [
       "'PRJCA005422'"
      ],
      "text/latex": [
       "'PRJCA005422'"
      ],
      "text/markdown": [
       "'PRJCA005422'"
      ],
      "text/plain": [
       "[1] \"PRJCA005422\""
      ]
     },
     "metadata": {},
     "output_type": "display_data"
    },
    {
     "data": {
      "text/html": [
       "<table class=\"dataframe\">\n",
       "<caption>A data.frame: 6 × 28</caption>\n",
       "<thead>\n",
       "\t<tr><th></th><th scope=col>orig.ident</th><th scope=col>nCount_RNA</th><th scope=col>nFeature_RNA</th><th scope=col>Cellname</th><th scope=col>Samples</th><th scope=col>Groups</th><th scope=col>Patients</th><th scope=col>percent.mt</th><th scope=col>percent.ribo</th><th scope=col>percent.HSP</th><th scope=col>⋯</th><th scope=col>sample_type</th><th scope=col>cancer_type</th><th scope=col>patient_id</th><th scope=col>sample_id</th><th scope=col>RNA_snn_res.0.2</th><th scope=col>seurat_clusters</th><th scope=col>site</th><th scope=col>sample_type_major</th><th scope=col>cancer_subtype</th><th scope=col>integration_id</th></tr>\n",
       "\t<tr><th></th><th scope=col>&lt;chr&gt;</th><th scope=col>&lt;dbl&gt;</th><th scope=col>&lt;int&gt;</th><th scope=col>&lt;chr&gt;</th><th scope=col>&lt;chr&gt;</th><th scope=col>&lt;chr&gt;</th><th scope=col>&lt;chr&gt;</th><th scope=col>&lt;dbl&gt;</th><th scope=col>&lt;dbl&gt;</th><th scope=col>&lt;dbl&gt;</th><th scope=col>⋯</th><th scope=col>&lt;chr&gt;</th><th scope=col>&lt;chr&gt;</th><th scope=col>&lt;chr&gt;</th><th scope=col>&lt;chr&gt;</th><th scope=col>&lt;chr&gt;</th><th scope=col>&lt;chr&gt;</th><th scope=col>&lt;chr&gt;</th><th scope=col>&lt;chr&gt;</th><th scope=col>&lt;chr&gt;</th><th scope=col>&lt;chr&gt;</th></tr>\n",
       "</thead>\n",
       "<tbody>\n",
       "\t<tr><th scope=row>PRJCA005422_EOC1_FS_cell_AACACGTGTCGGCACT</th><td>EOC1</td><td>24353</td><td>1770</td><td>EOC1_FS_cell_AACACGTGTCGGCACT</td><td>HGSOC1_AS</td><td>Ascites</td><td>HGSOC1</td><td>0.8007227</td><td> 3.859894</td><td>0.1519320</td><td>⋯</td><td>Ascites</td><td>HGSOC</td><td>HGSOC1</td><td>PRJCA005422_HGSOC1_AS</td><td>8</td><td>8</td><td>ascites fluid</td><td>ascites</td><td>HGSOC</td><td>PRJCA005422_HGSOC1_AS</td></tr>\n",
       "\t<tr><th scope=row>PRJCA005422_EOC1_FS_cell_AACCGCGTCCCTAACC</th><td>EOC1</td><td>  531</td><td> 365</td><td>EOC1_FS_cell_AACCGCGTCCCTAACC</td><td>HGSOC1_AS</td><td>Ascites</td><td>HGSOC1</td><td>5.6497175</td><td>18.796992</td><td>0.1879699</td><td>⋯</td><td>Ascites</td><td>HGSOC</td><td>HGSOC1</td><td>PRJCA005422_HGSOC1_AS</td><td>4</td><td>4</td><td>ascites fluid</td><td>ascites</td><td>HGSOC</td><td>PRJCA005422_HGSOC1_AS</td></tr>\n",
       "\t<tr><th scope=row>PRJCA005422_EOC1_FS_cell_AACTCCCAGTTTCCTT</th><td>EOC1</td><td> 9273</td><td>3128</td><td>EOC1_FS_cell_AACTCCCAGTTTCCTT</td><td>HGSOC1_AS</td><td>Ascites</td><td>HGSOC1</td><td>3.5479349</td><td>10.673854</td><td>0.4743935</td><td>⋯</td><td>Ascites</td><td>HGSOC</td><td>HGSOC1</td><td>PRJCA005422_HGSOC1_AS</td><td>8</td><td>8</td><td>ascites fluid</td><td>ascites</td><td>HGSOC</td><td>PRJCA005422_HGSOC1_AS</td></tr>\n",
       "\t<tr><th scope=row>PRJCA005422_EOC1_FS_cell_AAGGCAGGTTAAAGTG</th><td>EOC1</td><td> 4757</td><td>2120</td><td>EOC1_FS_cell_AAGGCAGGTTAAAGTG</td><td>HGSOC1_AS</td><td>Ascites</td><td>HGSOC1</td><td>9.7750683</td><td>15.762926</td><td>0.6094998</td><td>⋯</td><td>Ascites</td><td>HGSOC</td><td>HGSOC1</td><td>PRJCA005422_HGSOC1_AS</td><td>8</td><td>8</td><td>ascites fluid</td><td>ascites</td><td>HGSOC</td><td>PRJCA005422_HGSOC1_AS</td></tr>\n",
       "\t<tr><th scope=row>PRJCA005422_EOC1_FS_cell_AAGGCAGTCAACACTG</th><td>EOC1</td><td>19574</td><td>3727</td><td>EOC1_FS_cell_AAGGCAGTCAACACTG</td><td>HGSOC1_AS</td><td>Ascites</td><td>HGSOC1</td><td>7.1319097</td><td>24.638570</td><td>0.3473819</td><td>⋯</td><td>Ascites</td><td>HGSOC</td><td>HGSOC1</td><td>PRJCA005422_HGSOC1_AS</td><td>8</td><td>8</td><td>ascites fluid</td><td>ascites</td><td>HGSOC</td><td>PRJCA005422_HGSOC1_AS</td></tr>\n",
       "\t<tr><th scope=row>PRJCA005422_EOC1_FS_cell_ACACCAAAGCTAACTC</th><td>EOC1</td><td>22514</td><td>3971</td><td>EOC1_FS_cell_ACACCAAAGCTAACTC</td><td>HGSOC1_AS</td><td>Ascites</td><td>HGSOC1</td><td>5.7208848</td><td>20.034642</td><td>0.7683425</td><td>⋯</td><td>Ascites</td><td>HGSOC</td><td>HGSOC1</td><td>PRJCA005422_HGSOC1_AS</td><td>8</td><td>8</td><td>ascites fluid</td><td>ascites</td><td>HGSOC</td><td>PRJCA005422_HGSOC1_AS</td></tr>\n",
       "</tbody>\n",
       "</table>\n"
      ],
      "text/latex": [
       "A data.frame: 6 × 28\n",
       "\\begin{tabular}{r|lllllllllllllllllllll}\n",
       "  & orig.ident & nCount\\_RNA & nFeature\\_RNA & Cellname & Samples & Groups & Patients & percent.mt & percent.ribo & percent.HSP & ⋯ & sample\\_type & cancer\\_type & patient\\_id & sample\\_id & RNA\\_snn\\_res.0.2 & seurat\\_clusters & site & sample\\_type\\_major & cancer\\_subtype & integration\\_id\\\\\n",
       "  & <chr> & <dbl> & <int> & <chr> & <chr> & <chr> & <chr> & <dbl> & <dbl> & <dbl> & ⋯ & <chr> & <chr> & <chr> & <chr> & <chr> & <chr> & <chr> & <chr> & <chr> & <chr>\\\\\n",
       "\\hline\n",
       "\tPRJCA005422\\_EOC1\\_FS\\_cell\\_AACACGTGTCGGCACT & EOC1 & 24353 & 1770 & EOC1\\_FS\\_cell\\_AACACGTGTCGGCACT & HGSOC1\\_AS & Ascites & HGSOC1 & 0.8007227 &  3.859894 & 0.1519320 & ⋯ & Ascites & HGSOC & HGSOC1 & PRJCA005422\\_HGSOC1\\_AS & 8 & 8 & ascites fluid & ascites & HGSOC & PRJCA005422\\_HGSOC1\\_AS\\\\\n",
       "\tPRJCA005422\\_EOC1\\_FS\\_cell\\_AACCGCGTCCCTAACC & EOC1 &   531 &  365 & EOC1\\_FS\\_cell\\_AACCGCGTCCCTAACC & HGSOC1\\_AS & Ascites & HGSOC1 & 5.6497175 & 18.796992 & 0.1879699 & ⋯ & Ascites & HGSOC & HGSOC1 & PRJCA005422\\_HGSOC1\\_AS & 4 & 4 & ascites fluid & ascites & HGSOC & PRJCA005422\\_HGSOC1\\_AS\\\\\n",
       "\tPRJCA005422\\_EOC1\\_FS\\_cell\\_AACTCCCAGTTTCCTT & EOC1 &  9273 & 3128 & EOC1\\_FS\\_cell\\_AACTCCCAGTTTCCTT & HGSOC1\\_AS & Ascites & HGSOC1 & 3.5479349 & 10.673854 & 0.4743935 & ⋯ & Ascites & HGSOC & HGSOC1 & PRJCA005422\\_HGSOC1\\_AS & 8 & 8 & ascites fluid & ascites & HGSOC & PRJCA005422\\_HGSOC1\\_AS\\\\\n",
       "\tPRJCA005422\\_EOC1\\_FS\\_cell\\_AAGGCAGGTTAAAGTG & EOC1 &  4757 & 2120 & EOC1\\_FS\\_cell\\_AAGGCAGGTTAAAGTG & HGSOC1\\_AS & Ascites & HGSOC1 & 9.7750683 & 15.762926 & 0.6094998 & ⋯ & Ascites & HGSOC & HGSOC1 & PRJCA005422\\_HGSOC1\\_AS & 8 & 8 & ascites fluid & ascites & HGSOC & PRJCA005422\\_HGSOC1\\_AS\\\\\n",
       "\tPRJCA005422\\_EOC1\\_FS\\_cell\\_AAGGCAGTCAACACTG & EOC1 & 19574 & 3727 & EOC1\\_FS\\_cell\\_AAGGCAGTCAACACTG & HGSOC1\\_AS & Ascites & HGSOC1 & 7.1319097 & 24.638570 & 0.3473819 & ⋯ & Ascites & HGSOC & HGSOC1 & PRJCA005422\\_HGSOC1\\_AS & 8 & 8 & ascites fluid & ascites & HGSOC & PRJCA005422\\_HGSOC1\\_AS\\\\\n",
       "\tPRJCA005422\\_EOC1\\_FS\\_cell\\_ACACCAAAGCTAACTC & EOC1 & 22514 & 3971 & EOC1\\_FS\\_cell\\_ACACCAAAGCTAACTC & HGSOC1\\_AS & Ascites & HGSOC1 & 5.7208848 & 20.034642 & 0.7683425 & ⋯ & Ascites & HGSOC & HGSOC1 & PRJCA005422\\_HGSOC1\\_AS & 8 & 8 & ascites fluid & ascites & HGSOC & PRJCA005422\\_HGSOC1\\_AS\\\\\n",
       "\\end{tabular}\n"
      ],
      "text/markdown": [
       "\n",
       "A data.frame: 6 × 28\n",
       "\n",
       "| <!--/--> | orig.ident &lt;chr&gt; | nCount_RNA &lt;dbl&gt; | nFeature_RNA &lt;int&gt; | Cellname &lt;chr&gt; | Samples &lt;chr&gt; | Groups &lt;chr&gt; | Patients &lt;chr&gt; | percent.mt &lt;dbl&gt; | percent.ribo &lt;dbl&gt; | percent.HSP &lt;dbl&gt; | ⋯ ⋯ | sample_type &lt;chr&gt; | cancer_type &lt;chr&gt; | patient_id &lt;chr&gt; | sample_id &lt;chr&gt; | RNA_snn_res.0.2 &lt;chr&gt; | seurat_clusters &lt;chr&gt; | site &lt;chr&gt; | sample_type_major &lt;chr&gt; | cancer_subtype &lt;chr&gt; | integration_id &lt;chr&gt; |\n",
       "|---|---|---|---|---|---|---|---|---|---|---|---|---|---|---|---|---|---|---|---|---|---|\n",
       "| PRJCA005422_EOC1_FS_cell_AACACGTGTCGGCACT | EOC1 | 24353 | 1770 | EOC1_FS_cell_AACACGTGTCGGCACT | HGSOC1_AS | Ascites | HGSOC1 | 0.8007227 |  3.859894 | 0.1519320 | ⋯ | Ascites | HGSOC | HGSOC1 | PRJCA005422_HGSOC1_AS | 8 | 8 | ascites fluid | ascites | HGSOC | PRJCA005422_HGSOC1_AS |\n",
       "| PRJCA005422_EOC1_FS_cell_AACCGCGTCCCTAACC | EOC1 |   531 |  365 | EOC1_FS_cell_AACCGCGTCCCTAACC | HGSOC1_AS | Ascites | HGSOC1 | 5.6497175 | 18.796992 | 0.1879699 | ⋯ | Ascites | HGSOC | HGSOC1 | PRJCA005422_HGSOC1_AS | 4 | 4 | ascites fluid | ascites | HGSOC | PRJCA005422_HGSOC1_AS |\n",
       "| PRJCA005422_EOC1_FS_cell_AACTCCCAGTTTCCTT | EOC1 |  9273 | 3128 | EOC1_FS_cell_AACTCCCAGTTTCCTT | HGSOC1_AS | Ascites | HGSOC1 | 3.5479349 | 10.673854 | 0.4743935 | ⋯ | Ascites | HGSOC | HGSOC1 | PRJCA005422_HGSOC1_AS | 8 | 8 | ascites fluid | ascites | HGSOC | PRJCA005422_HGSOC1_AS |\n",
       "| PRJCA005422_EOC1_FS_cell_AAGGCAGGTTAAAGTG | EOC1 |  4757 | 2120 | EOC1_FS_cell_AAGGCAGGTTAAAGTG | HGSOC1_AS | Ascites | HGSOC1 | 9.7750683 | 15.762926 | 0.6094998 | ⋯ | Ascites | HGSOC | HGSOC1 | PRJCA005422_HGSOC1_AS | 8 | 8 | ascites fluid | ascites | HGSOC | PRJCA005422_HGSOC1_AS |\n",
       "| PRJCA005422_EOC1_FS_cell_AAGGCAGTCAACACTG | EOC1 | 19574 | 3727 | EOC1_FS_cell_AAGGCAGTCAACACTG | HGSOC1_AS | Ascites | HGSOC1 | 7.1319097 | 24.638570 | 0.3473819 | ⋯ | Ascites | HGSOC | HGSOC1 | PRJCA005422_HGSOC1_AS | 8 | 8 | ascites fluid | ascites | HGSOC | PRJCA005422_HGSOC1_AS |\n",
       "| PRJCA005422_EOC1_FS_cell_ACACCAAAGCTAACTC | EOC1 | 22514 | 3971 | EOC1_FS_cell_ACACCAAAGCTAACTC | HGSOC1_AS | Ascites | HGSOC1 | 5.7208848 | 20.034642 | 0.7683425 | ⋯ | Ascites | HGSOC | HGSOC1 | PRJCA005422_HGSOC1_AS | 8 | 8 | ascites fluid | ascites | HGSOC | PRJCA005422_HGSOC1_AS |\n",
       "\n"
      ],
      "text/plain": [
       "                                          orig.ident nCount_RNA nFeature_RNA\n",
       "PRJCA005422_EOC1_FS_cell_AACACGTGTCGGCACT EOC1       24353      1770        \n",
       "PRJCA005422_EOC1_FS_cell_AACCGCGTCCCTAACC EOC1         531       365        \n",
       "PRJCA005422_EOC1_FS_cell_AACTCCCAGTTTCCTT EOC1        9273      3128        \n",
       "PRJCA005422_EOC1_FS_cell_AAGGCAGGTTAAAGTG EOC1        4757      2120        \n",
       "PRJCA005422_EOC1_FS_cell_AAGGCAGTCAACACTG EOC1       19574      3727        \n",
       "PRJCA005422_EOC1_FS_cell_ACACCAAAGCTAACTC EOC1       22514      3971        \n",
       "                                          Cellname                     \n",
       "PRJCA005422_EOC1_FS_cell_AACACGTGTCGGCACT EOC1_FS_cell_AACACGTGTCGGCACT\n",
       "PRJCA005422_EOC1_FS_cell_AACCGCGTCCCTAACC EOC1_FS_cell_AACCGCGTCCCTAACC\n",
       "PRJCA005422_EOC1_FS_cell_AACTCCCAGTTTCCTT EOC1_FS_cell_AACTCCCAGTTTCCTT\n",
       "PRJCA005422_EOC1_FS_cell_AAGGCAGGTTAAAGTG EOC1_FS_cell_AAGGCAGGTTAAAGTG\n",
       "PRJCA005422_EOC1_FS_cell_AAGGCAGTCAACACTG EOC1_FS_cell_AAGGCAGTCAACACTG\n",
       "PRJCA005422_EOC1_FS_cell_ACACCAAAGCTAACTC EOC1_FS_cell_ACACCAAAGCTAACTC\n",
       "                                          Samples   Groups  Patients percent.mt\n",
       "PRJCA005422_EOC1_FS_cell_AACACGTGTCGGCACT HGSOC1_AS Ascites HGSOC1   0.8007227 \n",
       "PRJCA005422_EOC1_FS_cell_AACCGCGTCCCTAACC HGSOC1_AS Ascites HGSOC1   5.6497175 \n",
       "PRJCA005422_EOC1_FS_cell_AACTCCCAGTTTCCTT HGSOC1_AS Ascites HGSOC1   3.5479349 \n",
       "PRJCA005422_EOC1_FS_cell_AAGGCAGGTTAAAGTG HGSOC1_AS Ascites HGSOC1   9.7750683 \n",
       "PRJCA005422_EOC1_FS_cell_AAGGCAGTCAACACTG HGSOC1_AS Ascites HGSOC1   7.1319097 \n",
       "PRJCA005422_EOC1_FS_cell_ACACCAAAGCTAACTC HGSOC1_AS Ascites HGSOC1   5.7208848 \n",
       "                                          percent.ribo percent.HSP ⋯\n",
       "PRJCA005422_EOC1_FS_cell_AACACGTGTCGGCACT  3.859894    0.1519320   ⋯\n",
       "PRJCA005422_EOC1_FS_cell_AACCGCGTCCCTAACC 18.796992    0.1879699   ⋯\n",
       "PRJCA005422_EOC1_FS_cell_AACTCCCAGTTTCCTT 10.673854    0.4743935   ⋯\n",
       "PRJCA005422_EOC1_FS_cell_AAGGCAGGTTAAAGTG 15.762926    0.6094998   ⋯\n",
       "PRJCA005422_EOC1_FS_cell_AAGGCAGTCAACACTG 24.638570    0.3473819   ⋯\n",
       "PRJCA005422_EOC1_FS_cell_ACACCAAAGCTAACTC 20.034642    0.7683425   ⋯\n",
       "                                          sample_type cancer_type patient_id\n",
       "PRJCA005422_EOC1_FS_cell_AACACGTGTCGGCACT Ascites     HGSOC       HGSOC1    \n",
       "PRJCA005422_EOC1_FS_cell_AACCGCGTCCCTAACC Ascites     HGSOC       HGSOC1    \n",
       "PRJCA005422_EOC1_FS_cell_AACTCCCAGTTTCCTT Ascites     HGSOC       HGSOC1    \n",
       "PRJCA005422_EOC1_FS_cell_AAGGCAGGTTAAAGTG Ascites     HGSOC       HGSOC1    \n",
       "PRJCA005422_EOC1_FS_cell_AAGGCAGTCAACACTG Ascites     HGSOC       HGSOC1    \n",
       "PRJCA005422_EOC1_FS_cell_ACACCAAAGCTAACTC Ascites     HGSOC       HGSOC1    \n",
       "                                          sample_id             RNA_snn_res.0.2\n",
       "PRJCA005422_EOC1_FS_cell_AACACGTGTCGGCACT PRJCA005422_HGSOC1_AS 8              \n",
       "PRJCA005422_EOC1_FS_cell_AACCGCGTCCCTAACC PRJCA005422_HGSOC1_AS 4              \n",
       "PRJCA005422_EOC1_FS_cell_AACTCCCAGTTTCCTT PRJCA005422_HGSOC1_AS 8              \n",
       "PRJCA005422_EOC1_FS_cell_AAGGCAGGTTAAAGTG PRJCA005422_HGSOC1_AS 8              \n",
       "PRJCA005422_EOC1_FS_cell_AAGGCAGTCAACACTG PRJCA005422_HGSOC1_AS 8              \n",
       "PRJCA005422_EOC1_FS_cell_ACACCAAAGCTAACTC PRJCA005422_HGSOC1_AS 8              \n",
       "                                          seurat_clusters site         \n",
       "PRJCA005422_EOC1_FS_cell_AACACGTGTCGGCACT 8               ascites fluid\n",
       "PRJCA005422_EOC1_FS_cell_AACCGCGTCCCTAACC 4               ascites fluid\n",
       "PRJCA005422_EOC1_FS_cell_AACTCCCAGTTTCCTT 8               ascites fluid\n",
       "PRJCA005422_EOC1_FS_cell_AAGGCAGGTTAAAGTG 8               ascites fluid\n",
       "PRJCA005422_EOC1_FS_cell_AAGGCAGTCAACACTG 8               ascites fluid\n",
       "PRJCA005422_EOC1_FS_cell_ACACCAAAGCTAACTC 8               ascites fluid\n",
       "                                          sample_type_major cancer_subtype\n",
       "PRJCA005422_EOC1_FS_cell_AACACGTGTCGGCACT ascites           HGSOC         \n",
       "PRJCA005422_EOC1_FS_cell_AACCGCGTCCCTAACC ascites           HGSOC         \n",
       "PRJCA005422_EOC1_FS_cell_AACTCCCAGTTTCCTT ascites           HGSOC         \n",
       "PRJCA005422_EOC1_FS_cell_AAGGCAGGTTAAAGTG ascites           HGSOC         \n",
       "PRJCA005422_EOC1_FS_cell_AAGGCAGTCAACACTG ascites           HGSOC         \n",
       "PRJCA005422_EOC1_FS_cell_ACACCAAAGCTAACTC ascites           HGSOC         \n",
       "                                          integration_id       \n",
       "PRJCA005422_EOC1_FS_cell_AACACGTGTCGGCACT PRJCA005422_HGSOC1_AS\n",
       "PRJCA005422_EOC1_FS_cell_AACCGCGTCCCTAACC PRJCA005422_HGSOC1_AS\n",
       "PRJCA005422_EOC1_FS_cell_AACTCCCAGTTTCCTT PRJCA005422_HGSOC1_AS\n",
       "PRJCA005422_EOC1_FS_cell_AAGGCAGGTTAAAGTG PRJCA005422_HGSOC1_AS\n",
       "PRJCA005422_EOC1_FS_cell_AAGGCAGTCAACACTG PRJCA005422_HGSOC1_AS\n",
       "PRJCA005422_EOC1_FS_cell_ACACCAAAGCTAACTC PRJCA005422_HGSOC1_AS"
      ]
     },
     "metadata": {},
     "output_type": "display_data"
    }
   ],
   "source": [
    "HGSOC\n",
    "HGSOC@project.name\n",
    "head(HGSOC@meta.data)"
   ]
  },
  {
   "cell_type": "code",
   "execution_count": 87,
   "metadata": {
    "vscode": {
     "languageId": "r"
    }
   },
   "outputs": [
    {
     "data": {
      "text/plain": [
       "\n",
       " PRJCA005422_HGSOC1_AS  PRJCA005422_HGSOC1_MT  PRJCA005422_HGSOC1_PT \n",
       "                  1149                   1231                   1408 \n",
       "PRJCA005422_HGSOC10_AS PRJCA005422_HGSOC10_PT  PRJCA005422_HGSOC2_AS \n",
       "                   343                    750                   6695 \n",
       " PRJCA005422_HGSOC2_PT  PRJCA005422_HGSOC3_AS  PRJCA005422_HGSOC3_MT \n",
       "                   633                    662                   1711 \n",
       " PRJCA005422_HGSOC3_PT  PRJCA005422_HGSOC4_MT  PRJCA005422_HGSOC4_PT \n",
       "                  1812                    816                    288 \n",
       " PRJCA005422_HGSOC5_AS  PRJCA005422_HGSOC5_PT  PRJCA005422_HGSOC6_AS \n",
       "                  1743                     70                    829 \n",
       " PRJCA005422_HGSOC6_MT  PRJCA005422_HGSOC6_PT  PRJCA005422_HGSOC7_PT \n",
       "                  1457                    693                   1179 \n",
       " PRJCA005422_HGSOC8_AS  PRJCA005422_HGSOC8_PT  PRJCA005422_HGSOC9_AS \n",
       "                  1110                    121                   3589 \n",
       " PRJCA005422_HGSOC9_PT \n",
       "                  1087 "
      ]
     },
     "metadata": {},
     "output_type": "display_data"
    },
    {
     "data": {
      "text/plain": [
       "\n",
       " PRJCA005422_HGSOC1_AS  PRJCA005422_HGSOC1_MT  PRJCA005422_HGSOC1_PT \n",
       "                  1149                   1231                   1408 \n",
       "PRJCA005422_HGSOC10_AS PRJCA005422_HGSOC10_PT  PRJCA005422_HGSOC2_AS \n",
       "                   343                    750                   6695 \n",
       " PRJCA005422_HGSOC2_PT  PRJCA005422_HGSOC3_AS  PRJCA005422_HGSOC3_MT \n",
       "                   633                    662                   1711 \n",
       " PRJCA005422_HGSOC3_PT  PRJCA005422_HGSOC4_MT  PRJCA005422_HGSOC4_PT \n",
       "                  1812                    816                    288 \n",
       " PRJCA005422_HGSOC5_AS  PRJCA005422_HGSOC6_AS  PRJCA005422_HGSOC6_MT \n",
       "                  1743                    829                   1457 \n",
       " PRJCA005422_HGSOC6_PT  PRJCA005422_HGSOC7_PT  PRJCA005422_HGSOC8_AS \n",
       "                   693                   1179                   1110 \n",
       " PRJCA005422_HGSOC8_PT  PRJCA005422_HGSOC9_AS  PRJCA005422_HGSOC9_PT \n",
       "                   121                   3589                   1087 "
      ]
     },
     "metadata": {},
     "output_type": "display_data"
    }
   ],
   "source": [
    "#exclude any samples with <100 cells\n",
    "table(HGSOC$integration_id)\n",
    "#exclude patient HGSOC5 primary tumour\n",
    "HGSOC <- subset(HGSOC, !(subset = integration_id %in% c(\"PRJCA005422_HGSOC5_PT\")))\n",
    "table(HGSOC$integration_id)"
   ]
  },
  {
   "cell_type": "code",
   "execution_count": 88,
   "metadata": {
    "vscode": {
     "languageId": "r"
    }
   },
   "outputs": [
    {
     "data": {
      "text/html": [
       "<style>\n",
       ".list-inline {list-style: none; margin:0; padding: 0}\n",
       ".list-inline>li {display: inline-block}\n",
       ".list-inline>li:not(:last-child)::after {content: \"\\00b7\"; padding: 0 .5ex}\n",
       "</style>\n",
       "<ol class=list-inline><li>'counts.1'</li><li>'counts.2'</li><li>'counts.3'</li><li>'data.1'</li><li>'scale.data.1'</li><li>'data.2'</li><li>'scale.data.2'</li><li>'data.3'</li><li>'scale.data.3'</li></ol>\n"
      ],
      "text/latex": [
       "\\begin{enumerate*}\n",
       "\\item 'counts.1'\n",
       "\\item 'counts.2'\n",
       "\\item 'counts.3'\n",
       "\\item 'data.1'\n",
       "\\item 'scale.data.1'\n",
       "\\item 'data.2'\n",
       "\\item 'scale.data.2'\n",
       "\\item 'data.3'\n",
       "\\item 'scale.data.3'\n",
       "\\end{enumerate*}\n"
      ],
      "text/markdown": [
       "1. 'counts.1'\n",
       "2. 'counts.2'\n",
       "3. 'counts.3'\n",
       "4. 'data.1'\n",
       "5. 'scale.data.1'\n",
       "6. 'data.2'\n",
       "7. 'scale.data.2'\n",
       "8. 'data.3'\n",
       "9. 'scale.data.3'\n",
       "\n",
       "\n"
      ],
      "text/plain": [
       "[1] \"counts.1\"     \"counts.2\"     \"counts.3\"     \"data.1\"       \"scale.data.1\"\n",
       "[6] \"data.2\"       \"scale.data.2\" \"data.3\"       \"scale.data.3\""
      ]
     },
     "metadata": {},
     "output_type": "display_data"
    },
    {
     "data": {
      "text/html": [
       "<style>\n",
       ".list-inline {list-style: none; margin:0; padding: 0}\n",
       ".list-inline>li {display: inline-block}\n",
       ".list-inline>li:not(:last-child)::after {content: \"\\00b7\"; padding: 0 .5ex}\n",
       "</style>\n",
       "<ol class=list-inline><li>'scale.data'</li><li>'data'</li><li>'counts'</li></ol>\n"
      ],
      "text/latex": [
       "\\begin{enumerate*}\n",
       "\\item 'scale.data'\n",
       "\\item 'data'\n",
       "\\item 'counts'\n",
       "\\end{enumerate*}\n"
      ],
      "text/markdown": [
       "1. 'scale.data'\n",
       "2. 'data'\n",
       "3. 'counts'\n",
       "\n",
       "\n"
      ],
      "text/plain": [
       "[1] \"scale.data\" \"data\"       \"counts\"    "
      ]
     },
     "metadata": {},
     "output_type": "display_data"
    },
    {
     "name": "stderr",
     "output_type": "stream",
     "text": [
      "Splitting ‘counts’, ‘data’ layers. Not splitting ‘scale.data’. If you would like to split other layers, set in `layers` argument.\n",
      "\n"
     ]
    },
    {
     "data": {
      "text/html": [
       "<style>\n",
       ".list-inline {list-style: none; margin:0; padding: 0}\n",
       ".list-inline>li {display: inline-block}\n",
       ".list-inline>li:not(:last-child)::after {content: \"\\00b7\"; padding: 0 .5ex}\n",
       "</style>\n",
       "<ol class=list-inline><li>'counts.PRJCA005422_HGSOC1_AS'</li><li>'counts.PRJCA005422_HGSOC3_AS'</li><li>'counts.PRJCA005422_HGSOC2_AS'</li><li>'counts.PRJCA005422_HGSOC6_AS'</li><li>'counts.PRJCA005422_HGSOC5_AS'</li><li>'counts.PRJCA005422_HGSOC8_AS'</li><li>'counts.PRJCA005422_HGSOC9_AS'</li><li>'counts.PRJCA005422_HGSOC10_AS'</li><li>'counts.PRJCA005422_HGSOC1_PT'</li><li>'counts.PRJCA005422_HGSOC3_PT'</li><li>'counts.PRJCA005422_HGSOC2_PT'</li><li>'counts.PRJCA005422_HGSOC7_PT'</li><li>'counts.PRJCA005422_HGSOC6_PT'</li><li>'counts.PRJCA005422_HGSOC4_PT'</li><li>'counts.PRJCA005422_HGSOC8_PT'</li><li>'counts.PRJCA005422_HGSOC9_PT'</li><li>'counts.PRJCA005422_HGSOC10_PT'</li><li>'counts.PRJCA005422_HGSOC1_MT'</li><li>'counts.PRJCA005422_HGSOC3_MT'</li><li>'counts.PRJCA005422_HGSOC6_MT'</li><li>'counts.PRJCA005422_HGSOC4_MT'</li><li>'scale.data'</li><li>'data.PRJCA005422_HGSOC1_AS'</li><li>'data.PRJCA005422_HGSOC3_AS'</li><li>'data.PRJCA005422_HGSOC2_AS'</li><li>'data.PRJCA005422_HGSOC6_AS'</li><li>'data.PRJCA005422_HGSOC5_AS'</li><li>'data.PRJCA005422_HGSOC8_AS'</li><li>'data.PRJCA005422_HGSOC9_AS'</li><li>'data.PRJCA005422_HGSOC10_AS'</li><li>'data.PRJCA005422_HGSOC1_PT'</li><li>'data.PRJCA005422_HGSOC3_PT'</li><li>'data.PRJCA005422_HGSOC2_PT'</li><li>'data.PRJCA005422_HGSOC7_PT'</li><li>'data.PRJCA005422_HGSOC6_PT'</li><li>'data.PRJCA005422_HGSOC4_PT'</li><li>'data.PRJCA005422_HGSOC8_PT'</li><li>'data.PRJCA005422_HGSOC9_PT'</li><li>'data.PRJCA005422_HGSOC10_PT'</li><li>'data.PRJCA005422_HGSOC1_MT'</li><li>'data.PRJCA005422_HGSOC3_MT'</li><li>'data.PRJCA005422_HGSOC6_MT'</li><li>'data.PRJCA005422_HGSOC4_MT'</li></ol>\n"
      ],
      "text/latex": [
       "\\begin{enumerate*}\n",
       "\\item 'counts.PRJCA005422\\_HGSOC1\\_AS'\n",
       "\\item 'counts.PRJCA005422\\_HGSOC3\\_AS'\n",
       "\\item 'counts.PRJCA005422\\_HGSOC2\\_AS'\n",
       "\\item 'counts.PRJCA005422\\_HGSOC6\\_AS'\n",
       "\\item 'counts.PRJCA005422\\_HGSOC5\\_AS'\n",
       "\\item 'counts.PRJCA005422\\_HGSOC8\\_AS'\n",
       "\\item 'counts.PRJCA005422\\_HGSOC9\\_AS'\n",
       "\\item 'counts.PRJCA005422\\_HGSOC10\\_AS'\n",
       "\\item 'counts.PRJCA005422\\_HGSOC1\\_PT'\n",
       "\\item 'counts.PRJCA005422\\_HGSOC3\\_PT'\n",
       "\\item 'counts.PRJCA005422\\_HGSOC2\\_PT'\n",
       "\\item 'counts.PRJCA005422\\_HGSOC7\\_PT'\n",
       "\\item 'counts.PRJCA005422\\_HGSOC6\\_PT'\n",
       "\\item 'counts.PRJCA005422\\_HGSOC4\\_PT'\n",
       "\\item 'counts.PRJCA005422\\_HGSOC8\\_PT'\n",
       "\\item 'counts.PRJCA005422\\_HGSOC9\\_PT'\n",
       "\\item 'counts.PRJCA005422\\_HGSOC10\\_PT'\n",
       "\\item 'counts.PRJCA005422\\_HGSOC1\\_MT'\n",
       "\\item 'counts.PRJCA005422\\_HGSOC3\\_MT'\n",
       "\\item 'counts.PRJCA005422\\_HGSOC6\\_MT'\n",
       "\\item 'counts.PRJCA005422\\_HGSOC4\\_MT'\n",
       "\\item 'scale.data'\n",
       "\\item 'data.PRJCA005422\\_HGSOC1\\_AS'\n",
       "\\item 'data.PRJCA005422\\_HGSOC3\\_AS'\n",
       "\\item 'data.PRJCA005422\\_HGSOC2\\_AS'\n",
       "\\item 'data.PRJCA005422\\_HGSOC6\\_AS'\n",
       "\\item 'data.PRJCA005422\\_HGSOC5\\_AS'\n",
       "\\item 'data.PRJCA005422\\_HGSOC8\\_AS'\n",
       "\\item 'data.PRJCA005422\\_HGSOC9\\_AS'\n",
       "\\item 'data.PRJCA005422\\_HGSOC10\\_AS'\n",
       "\\item 'data.PRJCA005422\\_HGSOC1\\_PT'\n",
       "\\item 'data.PRJCA005422\\_HGSOC3\\_PT'\n",
       "\\item 'data.PRJCA005422\\_HGSOC2\\_PT'\n",
       "\\item 'data.PRJCA005422\\_HGSOC7\\_PT'\n",
       "\\item 'data.PRJCA005422\\_HGSOC6\\_PT'\n",
       "\\item 'data.PRJCA005422\\_HGSOC4\\_PT'\n",
       "\\item 'data.PRJCA005422\\_HGSOC8\\_PT'\n",
       "\\item 'data.PRJCA005422\\_HGSOC9\\_PT'\n",
       "\\item 'data.PRJCA005422\\_HGSOC10\\_PT'\n",
       "\\item 'data.PRJCA005422\\_HGSOC1\\_MT'\n",
       "\\item 'data.PRJCA005422\\_HGSOC3\\_MT'\n",
       "\\item 'data.PRJCA005422\\_HGSOC6\\_MT'\n",
       "\\item 'data.PRJCA005422\\_HGSOC4\\_MT'\n",
       "\\end{enumerate*}\n"
      ],
      "text/markdown": [
       "1. 'counts.PRJCA005422_HGSOC1_AS'\n",
       "2. 'counts.PRJCA005422_HGSOC3_AS'\n",
       "3. 'counts.PRJCA005422_HGSOC2_AS'\n",
       "4. 'counts.PRJCA005422_HGSOC6_AS'\n",
       "5. 'counts.PRJCA005422_HGSOC5_AS'\n",
       "6. 'counts.PRJCA005422_HGSOC8_AS'\n",
       "7. 'counts.PRJCA005422_HGSOC9_AS'\n",
       "8. 'counts.PRJCA005422_HGSOC10_AS'\n",
       "9. 'counts.PRJCA005422_HGSOC1_PT'\n",
       "10. 'counts.PRJCA005422_HGSOC3_PT'\n",
       "11. 'counts.PRJCA005422_HGSOC2_PT'\n",
       "12. 'counts.PRJCA005422_HGSOC7_PT'\n",
       "13. 'counts.PRJCA005422_HGSOC6_PT'\n",
       "14. 'counts.PRJCA005422_HGSOC4_PT'\n",
       "15. 'counts.PRJCA005422_HGSOC8_PT'\n",
       "16. 'counts.PRJCA005422_HGSOC9_PT'\n",
       "17. 'counts.PRJCA005422_HGSOC10_PT'\n",
       "18. 'counts.PRJCA005422_HGSOC1_MT'\n",
       "19. 'counts.PRJCA005422_HGSOC3_MT'\n",
       "20. 'counts.PRJCA005422_HGSOC6_MT'\n",
       "21. 'counts.PRJCA005422_HGSOC4_MT'\n",
       "22. 'scale.data'\n",
       "23. 'data.PRJCA005422_HGSOC1_AS'\n",
       "24. 'data.PRJCA005422_HGSOC3_AS'\n",
       "25. 'data.PRJCA005422_HGSOC2_AS'\n",
       "26. 'data.PRJCA005422_HGSOC6_AS'\n",
       "27. 'data.PRJCA005422_HGSOC5_AS'\n",
       "28. 'data.PRJCA005422_HGSOC8_AS'\n",
       "29. 'data.PRJCA005422_HGSOC9_AS'\n",
       "30. 'data.PRJCA005422_HGSOC10_AS'\n",
       "31. 'data.PRJCA005422_HGSOC1_PT'\n",
       "32. 'data.PRJCA005422_HGSOC3_PT'\n",
       "33. 'data.PRJCA005422_HGSOC2_PT'\n",
       "34. 'data.PRJCA005422_HGSOC7_PT'\n",
       "35. 'data.PRJCA005422_HGSOC6_PT'\n",
       "36. 'data.PRJCA005422_HGSOC4_PT'\n",
       "37. 'data.PRJCA005422_HGSOC8_PT'\n",
       "38. 'data.PRJCA005422_HGSOC9_PT'\n",
       "39. 'data.PRJCA005422_HGSOC10_PT'\n",
       "40. 'data.PRJCA005422_HGSOC1_MT'\n",
       "41. 'data.PRJCA005422_HGSOC3_MT'\n",
       "42. 'data.PRJCA005422_HGSOC6_MT'\n",
       "43. 'data.PRJCA005422_HGSOC4_MT'\n",
       "\n",
       "\n"
      ],
      "text/plain": [
       " [1] \"counts.PRJCA005422_HGSOC1_AS\"  \"counts.PRJCA005422_HGSOC3_AS\" \n",
       " [3] \"counts.PRJCA005422_HGSOC2_AS\"  \"counts.PRJCA005422_HGSOC6_AS\" \n",
       " [5] \"counts.PRJCA005422_HGSOC5_AS\"  \"counts.PRJCA005422_HGSOC8_AS\" \n",
       " [7] \"counts.PRJCA005422_HGSOC9_AS\"  \"counts.PRJCA005422_HGSOC10_AS\"\n",
       " [9] \"counts.PRJCA005422_HGSOC1_PT\"  \"counts.PRJCA005422_HGSOC3_PT\" \n",
       "[11] \"counts.PRJCA005422_HGSOC2_PT\"  \"counts.PRJCA005422_HGSOC7_PT\" \n",
       "[13] \"counts.PRJCA005422_HGSOC6_PT\"  \"counts.PRJCA005422_HGSOC4_PT\" \n",
       "[15] \"counts.PRJCA005422_HGSOC8_PT\"  \"counts.PRJCA005422_HGSOC9_PT\" \n",
       "[17] \"counts.PRJCA005422_HGSOC10_PT\" \"counts.PRJCA005422_HGSOC1_MT\" \n",
       "[19] \"counts.PRJCA005422_HGSOC3_MT\"  \"counts.PRJCA005422_HGSOC6_MT\" \n",
       "[21] \"counts.PRJCA005422_HGSOC4_MT\"  \"scale.data\"                   \n",
       "[23] \"data.PRJCA005422_HGSOC1_AS\"    \"data.PRJCA005422_HGSOC3_AS\"   \n",
       "[25] \"data.PRJCA005422_HGSOC2_AS\"    \"data.PRJCA005422_HGSOC6_AS\"   \n",
       "[27] \"data.PRJCA005422_HGSOC5_AS\"    \"data.PRJCA005422_HGSOC8_AS\"   \n",
       "[29] \"data.PRJCA005422_HGSOC9_AS\"    \"data.PRJCA005422_HGSOC10_AS\"  \n",
       "[31] \"data.PRJCA005422_HGSOC1_PT\"    \"data.PRJCA005422_HGSOC3_PT\"   \n",
       "[33] \"data.PRJCA005422_HGSOC2_PT\"    \"data.PRJCA005422_HGSOC7_PT\"   \n",
       "[35] \"data.PRJCA005422_HGSOC6_PT\"    \"data.PRJCA005422_HGSOC4_PT\"   \n",
       "[37] \"data.PRJCA005422_HGSOC8_PT\"    \"data.PRJCA005422_HGSOC9_PT\"   \n",
       "[39] \"data.PRJCA005422_HGSOC10_PT\"   \"data.PRJCA005422_HGSOC1_MT\"   \n",
       "[41] \"data.PRJCA005422_HGSOC3_MT\"    \"data.PRJCA005422_HGSOC6_MT\"   \n",
       "[43] \"data.PRJCA005422_HGSOC4_MT\"   "
      ]
     },
     "metadata": {},
     "output_type": "display_data"
    }
   ],
   "source": [
    "#join layers and then split them by integration_id\n",
    "Layers(HGSOC[[\"RNA\"]])\n",
    "#join layers\n",
    "HGSOC[[\"RNA\"]] <- JoinLayers(HGSOC[[\"RNA\"]])\n",
    "Layers(HGSOC[[\"RNA\"]])\n",
    "#split layers\n",
    "HGSOC[[\"RNA\"]] <- split(HGSOC[[\"RNA\"]], f = HGSOC$integration_id)\n",
    "Layers(HGSOC[[\"RNA\"]])\n"
   ]
  },
  {
   "cell_type": "code",
   "execution_count": 89,
   "metadata": {
    "vscode": {
     "languageId": "r"
    }
   },
   "outputs": [
    {
     "data": {
      "text/plain": [
       "An object of class Seurat \n",
       "27127 features across 29306 samples within 1 assay \n",
       "Active assay: RNA (27127 features, 2000 variable features)\n",
       " 43 layers present: counts.PRJCA005422_HGSOC1_AS, counts.PRJCA005422_HGSOC3_AS, counts.PRJCA005422_HGSOC2_AS, counts.PRJCA005422_HGSOC6_AS, counts.PRJCA005422_HGSOC5_AS, counts.PRJCA005422_HGSOC8_AS, counts.PRJCA005422_HGSOC9_AS, counts.PRJCA005422_HGSOC10_AS, counts.PRJCA005422_HGSOC1_PT, counts.PRJCA005422_HGSOC3_PT, counts.PRJCA005422_HGSOC2_PT, counts.PRJCA005422_HGSOC7_PT, counts.PRJCA005422_HGSOC6_PT, counts.PRJCA005422_HGSOC4_PT, counts.PRJCA005422_HGSOC8_PT, counts.PRJCA005422_HGSOC9_PT, counts.PRJCA005422_HGSOC10_PT, counts.PRJCA005422_HGSOC1_MT, counts.PRJCA005422_HGSOC3_MT, counts.PRJCA005422_HGSOC6_MT, counts.PRJCA005422_HGSOC4_MT, scale.data, data.PRJCA005422_HGSOC1_AS, data.PRJCA005422_HGSOC3_AS, data.PRJCA005422_HGSOC2_AS, data.PRJCA005422_HGSOC6_AS, data.PRJCA005422_HGSOC5_AS, data.PRJCA005422_HGSOC8_AS, data.PRJCA005422_HGSOC9_AS, data.PRJCA005422_HGSOC10_AS, data.PRJCA005422_HGSOC1_PT, data.PRJCA005422_HGSOC3_PT, data.PRJCA005422_HGSOC2_PT, data.PRJCA005422_HGSOC7_PT, data.PRJCA005422_HGSOC6_PT, data.PRJCA005422_HGSOC4_PT, data.PRJCA005422_HGSOC8_PT, data.PRJCA005422_HGSOC9_PT, data.PRJCA005422_HGSOC10_PT, data.PRJCA005422_HGSOC1_MT, data.PRJCA005422_HGSOC3_MT, data.PRJCA005422_HGSOC6_MT, data.PRJCA005422_HGSOC4_MT"
      ]
     },
     "metadata": {},
     "output_type": "display_data"
    },
    {
     "data": {
      "text/html": [
       "'PRJCA005422'"
      ],
      "text/latex": [
       "'PRJCA005422'"
      ],
      "text/markdown": [
       "'PRJCA005422'"
      ],
      "text/plain": [
       "[1] \"PRJCA005422\""
      ]
     },
     "metadata": {},
     "output_type": "display_data"
    },
    {
     "data": {
      "text/html": [
       "<table class=\"dataframe\">\n",
       "<caption>A data.frame: 6 × 28</caption>\n",
       "<thead>\n",
       "\t<tr><th></th><th scope=col>orig.ident</th><th scope=col>nCount_RNA</th><th scope=col>nFeature_RNA</th><th scope=col>Cellname</th><th scope=col>Samples</th><th scope=col>Groups</th><th scope=col>Patients</th><th scope=col>percent.mt</th><th scope=col>percent.ribo</th><th scope=col>percent.HSP</th><th scope=col>⋯</th><th scope=col>sample_type</th><th scope=col>cancer_type</th><th scope=col>patient_id</th><th scope=col>sample_id</th><th scope=col>RNA_snn_res.0.2</th><th scope=col>seurat_clusters</th><th scope=col>site</th><th scope=col>sample_type_major</th><th scope=col>cancer_subtype</th><th scope=col>integration_id</th></tr>\n",
       "\t<tr><th></th><th scope=col>&lt;chr&gt;</th><th scope=col>&lt;dbl&gt;</th><th scope=col>&lt;int&gt;</th><th scope=col>&lt;chr&gt;</th><th scope=col>&lt;chr&gt;</th><th scope=col>&lt;chr&gt;</th><th scope=col>&lt;chr&gt;</th><th scope=col>&lt;dbl&gt;</th><th scope=col>&lt;dbl&gt;</th><th scope=col>&lt;dbl&gt;</th><th scope=col>⋯</th><th scope=col>&lt;chr&gt;</th><th scope=col>&lt;chr&gt;</th><th scope=col>&lt;chr&gt;</th><th scope=col>&lt;chr&gt;</th><th scope=col>&lt;chr&gt;</th><th scope=col>&lt;chr&gt;</th><th scope=col>&lt;chr&gt;</th><th scope=col>&lt;chr&gt;</th><th scope=col>&lt;chr&gt;</th><th scope=col>&lt;chr&gt;</th></tr>\n",
       "</thead>\n",
       "<tbody>\n",
       "\t<tr><th scope=row>PRJCA005422_EOC1_FS_cell_AACACGTGTCGGCACT</th><td>EOC1</td><td>24353</td><td>1770</td><td>EOC1_FS_cell_AACACGTGTCGGCACT</td><td>HGSOC1_AS</td><td>Ascites</td><td>HGSOC1</td><td>0.8007227</td><td> 3.859894</td><td>0.1519320</td><td>⋯</td><td>Ascites</td><td>HGSOC</td><td>HGSOC1</td><td>PRJCA005422_HGSOC1_AS</td><td>8</td><td>8</td><td>ascites fluid</td><td>ascites</td><td>HGSOC</td><td>PRJCA005422_HGSOC1_AS</td></tr>\n",
       "\t<tr><th scope=row>PRJCA005422_EOC1_FS_cell_AACCGCGTCCCTAACC</th><td>EOC1</td><td>  531</td><td> 365</td><td>EOC1_FS_cell_AACCGCGTCCCTAACC</td><td>HGSOC1_AS</td><td>Ascites</td><td>HGSOC1</td><td>5.6497175</td><td>18.796992</td><td>0.1879699</td><td>⋯</td><td>Ascites</td><td>HGSOC</td><td>HGSOC1</td><td>PRJCA005422_HGSOC1_AS</td><td>4</td><td>4</td><td>ascites fluid</td><td>ascites</td><td>HGSOC</td><td>PRJCA005422_HGSOC1_AS</td></tr>\n",
       "\t<tr><th scope=row>PRJCA005422_EOC1_FS_cell_AACTCCCAGTTTCCTT</th><td>EOC1</td><td> 9273</td><td>3128</td><td>EOC1_FS_cell_AACTCCCAGTTTCCTT</td><td>HGSOC1_AS</td><td>Ascites</td><td>HGSOC1</td><td>3.5479349</td><td>10.673854</td><td>0.4743935</td><td>⋯</td><td>Ascites</td><td>HGSOC</td><td>HGSOC1</td><td>PRJCA005422_HGSOC1_AS</td><td>8</td><td>8</td><td>ascites fluid</td><td>ascites</td><td>HGSOC</td><td>PRJCA005422_HGSOC1_AS</td></tr>\n",
       "\t<tr><th scope=row>PRJCA005422_EOC1_FS_cell_AAGGCAGGTTAAAGTG</th><td>EOC1</td><td> 4757</td><td>2120</td><td>EOC1_FS_cell_AAGGCAGGTTAAAGTG</td><td>HGSOC1_AS</td><td>Ascites</td><td>HGSOC1</td><td>9.7750683</td><td>15.762926</td><td>0.6094998</td><td>⋯</td><td>Ascites</td><td>HGSOC</td><td>HGSOC1</td><td>PRJCA005422_HGSOC1_AS</td><td>8</td><td>8</td><td>ascites fluid</td><td>ascites</td><td>HGSOC</td><td>PRJCA005422_HGSOC1_AS</td></tr>\n",
       "\t<tr><th scope=row>PRJCA005422_EOC1_FS_cell_AAGGCAGTCAACACTG</th><td>EOC1</td><td>19574</td><td>3727</td><td>EOC1_FS_cell_AAGGCAGTCAACACTG</td><td>HGSOC1_AS</td><td>Ascites</td><td>HGSOC1</td><td>7.1319097</td><td>24.638570</td><td>0.3473819</td><td>⋯</td><td>Ascites</td><td>HGSOC</td><td>HGSOC1</td><td>PRJCA005422_HGSOC1_AS</td><td>8</td><td>8</td><td>ascites fluid</td><td>ascites</td><td>HGSOC</td><td>PRJCA005422_HGSOC1_AS</td></tr>\n",
       "\t<tr><th scope=row>PRJCA005422_EOC1_FS_cell_ACACCAAAGCTAACTC</th><td>EOC1</td><td>22514</td><td>3971</td><td>EOC1_FS_cell_ACACCAAAGCTAACTC</td><td>HGSOC1_AS</td><td>Ascites</td><td>HGSOC1</td><td>5.7208848</td><td>20.034642</td><td>0.7683425</td><td>⋯</td><td>Ascites</td><td>HGSOC</td><td>HGSOC1</td><td>PRJCA005422_HGSOC1_AS</td><td>8</td><td>8</td><td>ascites fluid</td><td>ascites</td><td>HGSOC</td><td>PRJCA005422_HGSOC1_AS</td></tr>\n",
       "</tbody>\n",
       "</table>\n"
      ],
      "text/latex": [
       "A data.frame: 6 × 28\n",
       "\\begin{tabular}{r|lllllllllllllllllllll}\n",
       "  & orig.ident & nCount\\_RNA & nFeature\\_RNA & Cellname & Samples & Groups & Patients & percent.mt & percent.ribo & percent.HSP & ⋯ & sample\\_type & cancer\\_type & patient\\_id & sample\\_id & RNA\\_snn\\_res.0.2 & seurat\\_clusters & site & sample\\_type\\_major & cancer\\_subtype & integration\\_id\\\\\n",
       "  & <chr> & <dbl> & <int> & <chr> & <chr> & <chr> & <chr> & <dbl> & <dbl> & <dbl> & ⋯ & <chr> & <chr> & <chr> & <chr> & <chr> & <chr> & <chr> & <chr> & <chr> & <chr>\\\\\n",
       "\\hline\n",
       "\tPRJCA005422\\_EOC1\\_FS\\_cell\\_AACACGTGTCGGCACT & EOC1 & 24353 & 1770 & EOC1\\_FS\\_cell\\_AACACGTGTCGGCACT & HGSOC1\\_AS & Ascites & HGSOC1 & 0.8007227 &  3.859894 & 0.1519320 & ⋯ & Ascites & HGSOC & HGSOC1 & PRJCA005422\\_HGSOC1\\_AS & 8 & 8 & ascites fluid & ascites & HGSOC & PRJCA005422\\_HGSOC1\\_AS\\\\\n",
       "\tPRJCA005422\\_EOC1\\_FS\\_cell\\_AACCGCGTCCCTAACC & EOC1 &   531 &  365 & EOC1\\_FS\\_cell\\_AACCGCGTCCCTAACC & HGSOC1\\_AS & Ascites & HGSOC1 & 5.6497175 & 18.796992 & 0.1879699 & ⋯ & Ascites & HGSOC & HGSOC1 & PRJCA005422\\_HGSOC1\\_AS & 4 & 4 & ascites fluid & ascites & HGSOC & PRJCA005422\\_HGSOC1\\_AS\\\\\n",
       "\tPRJCA005422\\_EOC1\\_FS\\_cell\\_AACTCCCAGTTTCCTT & EOC1 &  9273 & 3128 & EOC1\\_FS\\_cell\\_AACTCCCAGTTTCCTT & HGSOC1\\_AS & Ascites & HGSOC1 & 3.5479349 & 10.673854 & 0.4743935 & ⋯ & Ascites & HGSOC & HGSOC1 & PRJCA005422\\_HGSOC1\\_AS & 8 & 8 & ascites fluid & ascites & HGSOC & PRJCA005422\\_HGSOC1\\_AS\\\\\n",
       "\tPRJCA005422\\_EOC1\\_FS\\_cell\\_AAGGCAGGTTAAAGTG & EOC1 &  4757 & 2120 & EOC1\\_FS\\_cell\\_AAGGCAGGTTAAAGTG & HGSOC1\\_AS & Ascites & HGSOC1 & 9.7750683 & 15.762926 & 0.6094998 & ⋯ & Ascites & HGSOC & HGSOC1 & PRJCA005422\\_HGSOC1\\_AS & 8 & 8 & ascites fluid & ascites & HGSOC & PRJCA005422\\_HGSOC1\\_AS\\\\\n",
       "\tPRJCA005422\\_EOC1\\_FS\\_cell\\_AAGGCAGTCAACACTG & EOC1 & 19574 & 3727 & EOC1\\_FS\\_cell\\_AAGGCAGTCAACACTG & HGSOC1\\_AS & Ascites & HGSOC1 & 7.1319097 & 24.638570 & 0.3473819 & ⋯ & Ascites & HGSOC & HGSOC1 & PRJCA005422\\_HGSOC1\\_AS & 8 & 8 & ascites fluid & ascites & HGSOC & PRJCA005422\\_HGSOC1\\_AS\\\\\n",
       "\tPRJCA005422\\_EOC1\\_FS\\_cell\\_ACACCAAAGCTAACTC & EOC1 & 22514 & 3971 & EOC1\\_FS\\_cell\\_ACACCAAAGCTAACTC & HGSOC1\\_AS & Ascites & HGSOC1 & 5.7208848 & 20.034642 & 0.7683425 & ⋯ & Ascites & HGSOC & HGSOC1 & PRJCA005422\\_HGSOC1\\_AS & 8 & 8 & ascites fluid & ascites & HGSOC & PRJCA005422\\_HGSOC1\\_AS\\\\\n",
       "\\end{tabular}\n"
      ],
      "text/markdown": [
       "\n",
       "A data.frame: 6 × 28\n",
       "\n",
       "| <!--/--> | orig.ident &lt;chr&gt; | nCount_RNA &lt;dbl&gt; | nFeature_RNA &lt;int&gt; | Cellname &lt;chr&gt; | Samples &lt;chr&gt; | Groups &lt;chr&gt; | Patients &lt;chr&gt; | percent.mt &lt;dbl&gt; | percent.ribo &lt;dbl&gt; | percent.HSP &lt;dbl&gt; | ⋯ ⋯ | sample_type &lt;chr&gt; | cancer_type &lt;chr&gt; | patient_id &lt;chr&gt; | sample_id &lt;chr&gt; | RNA_snn_res.0.2 &lt;chr&gt; | seurat_clusters &lt;chr&gt; | site &lt;chr&gt; | sample_type_major &lt;chr&gt; | cancer_subtype &lt;chr&gt; | integration_id &lt;chr&gt; |\n",
       "|---|---|---|---|---|---|---|---|---|---|---|---|---|---|---|---|---|---|---|---|---|---|\n",
       "| PRJCA005422_EOC1_FS_cell_AACACGTGTCGGCACT | EOC1 | 24353 | 1770 | EOC1_FS_cell_AACACGTGTCGGCACT | HGSOC1_AS | Ascites | HGSOC1 | 0.8007227 |  3.859894 | 0.1519320 | ⋯ | Ascites | HGSOC | HGSOC1 | PRJCA005422_HGSOC1_AS | 8 | 8 | ascites fluid | ascites | HGSOC | PRJCA005422_HGSOC1_AS |\n",
       "| PRJCA005422_EOC1_FS_cell_AACCGCGTCCCTAACC | EOC1 |   531 |  365 | EOC1_FS_cell_AACCGCGTCCCTAACC | HGSOC1_AS | Ascites | HGSOC1 | 5.6497175 | 18.796992 | 0.1879699 | ⋯ | Ascites | HGSOC | HGSOC1 | PRJCA005422_HGSOC1_AS | 4 | 4 | ascites fluid | ascites | HGSOC | PRJCA005422_HGSOC1_AS |\n",
       "| PRJCA005422_EOC1_FS_cell_AACTCCCAGTTTCCTT | EOC1 |  9273 | 3128 | EOC1_FS_cell_AACTCCCAGTTTCCTT | HGSOC1_AS | Ascites | HGSOC1 | 3.5479349 | 10.673854 | 0.4743935 | ⋯ | Ascites | HGSOC | HGSOC1 | PRJCA005422_HGSOC1_AS | 8 | 8 | ascites fluid | ascites | HGSOC | PRJCA005422_HGSOC1_AS |\n",
       "| PRJCA005422_EOC1_FS_cell_AAGGCAGGTTAAAGTG | EOC1 |  4757 | 2120 | EOC1_FS_cell_AAGGCAGGTTAAAGTG | HGSOC1_AS | Ascites | HGSOC1 | 9.7750683 | 15.762926 | 0.6094998 | ⋯ | Ascites | HGSOC | HGSOC1 | PRJCA005422_HGSOC1_AS | 8 | 8 | ascites fluid | ascites | HGSOC | PRJCA005422_HGSOC1_AS |\n",
       "| PRJCA005422_EOC1_FS_cell_AAGGCAGTCAACACTG | EOC1 | 19574 | 3727 | EOC1_FS_cell_AAGGCAGTCAACACTG | HGSOC1_AS | Ascites | HGSOC1 | 7.1319097 | 24.638570 | 0.3473819 | ⋯ | Ascites | HGSOC | HGSOC1 | PRJCA005422_HGSOC1_AS | 8 | 8 | ascites fluid | ascites | HGSOC | PRJCA005422_HGSOC1_AS |\n",
       "| PRJCA005422_EOC1_FS_cell_ACACCAAAGCTAACTC | EOC1 | 22514 | 3971 | EOC1_FS_cell_ACACCAAAGCTAACTC | HGSOC1_AS | Ascites | HGSOC1 | 5.7208848 | 20.034642 | 0.7683425 | ⋯ | Ascites | HGSOC | HGSOC1 | PRJCA005422_HGSOC1_AS | 8 | 8 | ascites fluid | ascites | HGSOC | PRJCA005422_HGSOC1_AS |\n",
       "\n"
      ],
      "text/plain": [
       "                                          orig.ident nCount_RNA nFeature_RNA\n",
       "PRJCA005422_EOC1_FS_cell_AACACGTGTCGGCACT EOC1       24353      1770        \n",
       "PRJCA005422_EOC1_FS_cell_AACCGCGTCCCTAACC EOC1         531       365        \n",
       "PRJCA005422_EOC1_FS_cell_AACTCCCAGTTTCCTT EOC1        9273      3128        \n",
       "PRJCA005422_EOC1_FS_cell_AAGGCAGGTTAAAGTG EOC1        4757      2120        \n",
       "PRJCA005422_EOC1_FS_cell_AAGGCAGTCAACACTG EOC1       19574      3727        \n",
       "PRJCA005422_EOC1_FS_cell_ACACCAAAGCTAACTC EOC1       22514      3971        \n",
       "                                          Cellname                     \n",
       "PRJCA005422_EOC1_FS_cell_AACACGTGTCGGCACT EOC1_FS_cell_AACACGTGTCGGCACT\n",
       "PRJCA005422_EOC1_FS_cell_AACCGCGTCCCTAACC EOC1_FS_cell_AACCGCGTCCCTAACC\n",
       "PRJCA005422_EOC1_FS_cell_AACTCCCAGTTTCCTT EOC1_FS_cell_AACTCCCAGTTTCCTT\n",
       "PRJCA005422_EOC1_FS_cell_AAGGCAGGTTAAAGTG EOC1_FS_cell_AAGGCAGGTTAAAGTG\n",
       "PRJCA005422_EOC1_FS_cell_AAGGCAGTCAACACTG EOC1_FS_cell_AAGGCAGTCAACACTG\n",
       "PRJCA005422_EOC1_FS_cell_ACACCAAAGCTAACTC EOC1_FS_cell_ACACCAAAGCTAACTC\n",
       "                                          Samples   Groups  Patients percent.mt\n",
       "PRJCA005422_EOC1_FS_cell_AACACGTGTCGGCACT HGSOC1_AS Ascites HGSOC1   0.8007227 \n",
       "PRJCA005422_EOC1_FS_cell_AACCGCGTCCCTAACC HGSOC1_AS Ascites HGSOC1   5.6497175 \n",
       "PRJCA005422_EOC1_FS_cell_AACTCCCAGTTTCCTT HGSOC1_AS Ascites HGSOC1   3.5479349 \n",
       "PRJCA005422_EOC1_FS_cell_AAGGCAGGTTAAAGTG HGSOC1_AS Ascites HGSOC1   9.7750683 \n",
       "PRJCA005422_EOC1_FS_cell_AAGGCAGTCAACACTG HGSOC1_AS Ascites HGSOC1   7.1319097 \n",
       "PRJCA005422_EOC1_FS_cell_ACACCAAAGCTAACTC HGSOC1_AS Ascites HGSOC1   5.7208848 \n",
       "                                          percent.ribo percent.HSP ⋯\n",
       "PRJCA005422_EOC1_FS_cell_AACACGTGTCGGCACT  3.859894    0.1519320   ⋯\n",
       "PRJCA005422_EOC1_FS_cell_AACCGCGTCCCTAACC 18.796992    0.1879699   ⋯\n",
       "PRJCA005422_EOC1_FS_cell_AACTCCCAGTTTCCTT 10.673854    0.4743935   ⋯\n",
       "PRJCA005422_EOC1_FS_cell_AAGGCAGGTTAAAGTG 15.762926    0.6094998   ⋯\n",
       "PRJCA005422_EOC1_FS_cell_AAGGCAGTCAACACTG 24.638570    0.3473819   ⋯\n",
       "PRJCA005422_EOC1_FS_cell_ACACCAAAGCTAACTC 20.034642    0.7683425   ⋯\n",
       "                                          sample_type cancer_type patient_id\n",
       "PRJCA005422_EOC1_FS_cell_AACACGTGTCGGCACT Ascites     HGSOC       HGSOC1    \n",
       "PRJCA005422_EOC1_FS_cell_AACCGCGTCCCTAACC Ascites     HGSOC       HGSOC1    \n",
       "PRJCA005422_EOC1_FS_cell_AACTCCCAGTTTCCTT Ascites     HGSOC       HGSOC1    \n",
       "PRJCA005422_EOC1_FS_cell_AAGGCAGGTTAAAGTG Ascites     HGSOC       HGSOC1    \n",
       "PRJCA005422_EOC1_FS_cell_AAGGCAGTCAACACTG Ascites     HGSOC       HGSOC1    \n",
       "PRJCA005422_EOC1_FS_cell_ACACCAAAGCTAACTC Ascites     HGSOC       HGSOC1    \n",
       "                                          sample_id             RNA_snn_res.0.2\n",
       "PRJCA005422_EOC1_FS_cell_AACACGTGTCGGCACT PRJCA005422_HGSOC1_AS 8              \n",
       "PRJCA005422_EOC1_FS_cell_AACCGCGTCCCTAACC PRJCA005422_HGSOC1_AS 4              \n",
       "PRJCA005422_EOC1_FS_cell_AACTCCCAGTTTCCTT PRJCA005422_HGSOC1_AS 8              \n",
       "PRJCA005422_EOC1_FS_cell_AAGGCAGGTTAAAGTG PRJCA005422_HGSOC1_AS 8              \n",
       "PRJCA005422_EOC1_FS_cell_AAGGCAGTCAACACTG PRJCA005422_HGSOC1_AS 8              \n",
       "PRJCA005422_EOC1_FS_cell_ACACCAAAGCTAACTC PRJCA005422_HGSOC1_AS 8              \n",
       "                                          seurat_clusters site         \n",
       "PRJCA005422_EOC1_FS_cell_AACACGTGTCGGCACT 8               ascites fluid\n",
       "PRJCA005422_EOC1_FS_cell_AACCGCGTCCCTAACC 4               ascites fluid\n",
       "PRJCA005422_EOC1_FS_cell_AACTCCCAGTTTCCTT 8               ascites fluid\n",
       "PRJCA005422_EOC1_FS_cell_AAGGCAGGTTAAAGTG 8               ascites fluid\n",
       "PRJCA005422_EOC1_FS_cell_AAGGCAGTCAACACTG 8               ascites fluid\n",
       "PRJCA005422_EOC1_FS_cell_ACACCAAAGCTAACTC 8               ascites fluid\n",
       "                                          sample_type_major cancer_subtype\n",
       "PRJCA005422_EOC1_FS_cell_AACACGTGTCGGCACT ascites           HGSOC         \n",
       "PRJCA005422_EOC1_FS_cell_AACCGCGTCCCTAACC ascites           HGSOC         \n",
       "PRJCA005422_EOC1_FS_cell_AACTCCCAGTTTCCTT ascites           HGSOC         \n",
       "PRJCA005422_EOC1_FS_cell_AAGGCAGGTTAAAGTG ascites           HGSOC         \n",
       "PRJCA005422_EOC1_FS_cell_AAGGCAGTCAACACTG ascites           HGSOC         \n",
       "PRJCA005422_EOC1_FS_cell_ACACCAAAGCTAACTC ascites           HGSOC         \n",
       "                                          integration_id       \n",
       "PRJCA005422_EOC1_FS_cell_AACACGTGTCGGCACT PRJCA005422_HGSOC1_AS\n",
       "PRJCA005422_EOC1_FS_cell_AACCGCGTCCCTAACC PRJCA005422_HGSOC1_AS\n",
       "PRJCA005422_EOC1_FS_cell_AACTCCCAGTTTCCTT PRJCA005422_HGSOC1_AS\n",
       "PRJCA005422_EOC1_FS_cell_AAGGCAGGTTAAAGTG PRJCA005422_HGSOC1_AS\n",
       "PRJCA005422_EOC1_FS_cell_AAGGCAGTCAACACTG PRJCA005422_HGSOC1_AS\n",
       "PRJCA005422_EOC1_FS_cell_ACACCAAAGCTAACTC PRJCA005422_HGSOC1_AS"
      ]
     },
     "metadata": {},
     "output_type": "display_data"
    },
    {
     "data": {
      "text/html": [
       "<table class=\"dataframe\">\n",
       "<caption>A data.frame: 6 × 28</caption>\n",
       "<thead>\n",
       "\t<tr><th></th><th scope=col>orig.ident</th><th scope=col>nCount_RNA</th><th scope=col>nFeature_RNA</th><th scope=col>Cellname</th><th scope=col>Samples</th><th scope=col>Groups</th><th scope=col>Patients</th><th scope=col>percent.mt</th><th scope=col>percent.ribo</th><th scope=col>percent.HSP</th><th scope=col>⋯</th><th scope=col>sample_type</th><th scope=col>cancer_type</th><th scope=col>patient_id</th><th scope=col>sample_id</th><th scope=col>RNA_snn_res.0.2</th><th scope=col>seurat_clusters</th><th scope=col>site</th><th scope=col>sample_type_major</th><th scope=col>cancer_subtype</th><th scope=col>integration_id</th></tr>\n",
       "\t<tr><th></th><th scope=col>&lt;chr&gt;</th><th scope=col>&lt;dbl&gt;</th><th scope=col>&lt;int&gt;</th><th scope=col>&lt;chr&gt;</th><th scope=col>&lt;chr&gt;</th><th scope=col>&lt;chr&gt;</th><th scope=col>&lt;chr&gt;</th><th scope=col>&lt;dbl&gt;</th><th scope=col>&lt;dbl&gt;</th><th scope=col>&lt;dbl&gt;</th><th scope=col>⋯</th><th scope=col>&lt;chr&gt;</th><th scope=col>&lt;chr&gt;</th><th scope=col>&lt;chr&gt;</th><th scope=col>&lt;chr&gt;</th><th scope=col>&lt;chr&gt;</th><th scope=col>&lt;chr&gt;</th><th scope=col>&lt;chr&gt;</th><th scope=col>&lt;chr&gt;</th><th scope=col>&lt;chr&gt;</th><th scope=col>&lt;chr&gt;</th></tr>\n",
       "</thead>\n",
       "<tbody>\n",
       "\t<tr><th scope=row>PRJCA005422_EOC4_TM_cell_TTTCCTCGTTCAACCA</th><td>EOC4</td><td>12786</td><td>3090</td><td>EOC4_TM_cell_TTTCCTCGTTCAACCA</td><td>HGSOC4_MT</td><td>Metastatic Tumor</td><td>HGSOC4</td><td>0.9619897</td><td> 7.382498</td><td>0.4223039</td><td>⋯</td><td>Metastatic Tumor</td><td>HGSOC</td><td>HGSOC4</td><td>PRJCA005422_HGSOC4_MT</td><td>0</td><td>0</td><td>omentum</td><td>metastatic tumour</td><td>HGSOC</td><td>PRJCA005422_HGSOC4_MT</td></tr>\n",
       "\t<tr><th scope=row>PRJCA005422_EOC4_TM_cell_TTTCCTCTCTGGTATG</th><td>EOC4</td><td>13288</td><td>3440</td><td>EOC4_TM_cell_TTTCCTCTCTGGTATG</td><td>HGSOC4_MT</td><td>Metastatic Tumor</td><td>HGSOC4</td><td>3.6950632</td><td>15.937994</td><td>0.3988261</td><td>⋯</td><td>Metastatic Tumor</td><td>HGSOC</td><td>HGSOC4</td><td>PRJCA005422_HGSOC4_MT</td><td>0</td><td>0</td><td>omentum</td><td>metastatic tumour</td><td>HGSOC</td><td>PRJCA005422_HGSOC4_MT</td></tr>\n",
       "\t<tr><th scope=row>PRJCA005422_EOC4_TM_cell_TTTCCTCTCTGGTTCC</th><td>EOC4</td><td>16083</td><td>3128</td><td>EOC4_TM_cell_TTTCCTCTCTGGTTCC</td><td>HGSOC4_MT</td><td>Metastatic Tumor</td><td>HGSOC4</td><td>2.8352919</td><td> 7.181049</td><td>0.3295200</td><td>⋯</td><td>Metastatic Tumor</td><td>HGSOC</td><td>HGSOC4</td><td>PRJCA005422_HGSOC4_MT</td><td>0</td><td>0</td><td>omentum</td><td>metastatic tumour</td><td>HGSOC</td><td>PRJCA005422_HGSOC4_MT</td></tr>\n",
       "\t<tr><th scope=row>PRJCA005422_EOC4_TM_cell_TTTCCTCTCTGTCTCG</th><td>EOC4</td><td>23953</td><td>4481</td><td>EOC4_TM_cell_TTTCCTCTCTGTCTCG</td><td>HGSOC4_MT</td><td>Metastatic Tumor</td><td>HGSOC4</td><td>2.9140400</td><td> 8.449176</td><td>0.4049259</td><td>⋯</td><td>Metastatic Tumor</td><td>HGSOC</td><td>HGSOC4</td><td>PRJCA005422_HGSOC4_MT</td><td>0</td><td>0</td><td>omentum</td><td>metastatic tumour</td><td>HGSOC</td><td>PRJCA005422_HGSOC4_MT</td></tr>\n",
       "\t<tr><th scope=row>PRJCA005422_EOC4_TM_cell_TTTGCGCAGGAGTCTG</th><td>EOC4</td><td>17788</td><td>3363</td><td>EOC4_TM_cell_TTTGCGCAGGAGTCTG</td><td>HGSOC4_MT</td><td>Metastatic Tumor</td><td>HGSOC4</td><td>4.1207556</td><td>15.797167</td><td>0.3879020</td><td>⋯</td><td>Metastatic Tumor</td><td>HGSOC</td><td>HGSOC4</td><td>PRJCA005422_HGSOC4_MT</td><td>0</td><td>0</td><td>omentum</td><td>metastatic tumour</td><td>HGSOC</td><td>PRJCA005422_HGSOC4_MT</td></tr>\n",
       "\t<tr><th scope=row>PRJCA005422_EOC4_TM_cell_TTTGTCATCCCAACGG</th><td>EOC4</td><td>16918</td><td>3537</td><td>EOC4_TM_cell_TTTGTCATCCCAACGG</td><td>HGSOC4_MT</td><td>Metastatic Tumor</td><td>HGSOC4</td><td>7.4063128</td><td>20.745907</td><td>0.4787517</td><td>⋯</td><td>Metastatic Tumor</td><td>HGSOC</td><td>HGSOC4</td><td>PRJCA005422_HGSOC4_MT</td><td>0</td><td>0</td><td>omentum</td><td>metastatic tumour</td><td>HGSOC</td><td>PRJCA005422_HGSOC4_MT</td></tr>\n",
       "</tbody>\n",
       "</table>\n"
      ],
      "text/latex": [
       "A data.frame: 6 × 28\n",
       "\\begin{tabular}{r|lllllllllllllllllllll}\n",
       "  & orig.ident & nCount\\_RNA & nFeature\\_RNA & Cellname & Samples & Groups & Patients & percent.mt & percent.ribo & percent.HSP & ⋯ & sample\\_type & cancer\\_type & patient\\_id & sample\\_id & RNA\\_snn\\_res.0.2 & seurat\\_clusters & site & sample\\_type\\_major & cancer\\_subtype & integration\\_id\\\\\n",
       "  & <chr> & <dbl> & <int> & <chr> & <chr> & <chr> & <chr> & <dbl> & <dbl> & <dbl> & ⋯ & <chr> & <chr> & <chr> & <chr> & <chr> & <chr> & <chr> & <chr> & <chr> & <chr>\\\\\n",
       "\\hline\n",
       "\tPRJCA005422\\_EOC4\\_TM\\_cell\\_TTTCCTCGTTCAACCA & EOC4 & 12786 & 3090 & EOC4\\_TM\\_cell\\_TTTCCTCGTTCAACCA & HGSOC4\\_MT & Metastatic Tumor & HGSOC4 & 0.9619897 &  7.382498 & 0.4223039 & ⋯ & Metastatic Tumor & HGSOC & HGSOC4 & PRJCA005422\\_HGSOC4\\_MT & 0 & 0 & omentum & metastatic tumour & HGSOC & PRJCA005422\\_HGSOC4\\_MT\\\\\n",
       "\tPRJCA005422\\_EOC4\\_TM\\_cell\\_TTTCCTCTCTGGTATG & EOC4 & 13288 & 3440 & EOC4\\_TM\\_cell\\_TTTCCTCTCTGGTATG & HGSOC4\\_MT & Metastatic Tumor & HGSOC4 & 3.6950632 & 15.937994 & 0.3988261 & ⋯ & Metastatic Tumor & HGSOC & HGSOC4 & PRJCA005422\\_HGSOC4\\_MT & 0 & 0 & omentum & metastatic tumour & HGSOC & PRJCA005422\\_HGSOC4\\_MT\\\\\n",
       "\tPRJCA005422\\_EOC4\\_TM\\_cell\\_TTTCCTCTCTGGTTCC & EOC4 & 16083 & 3128 & EOC4\\_TM\\_cell\\_TTTCCTCTCTGGTTCC & HGSOC4\\_MT & Metastatic Tumor & HGSOC4 & 2.8352919 &  7.181049 & 0.3295200 & ⋯ & Metastatic Tumor & HGSOC & HGSOC4 & PRJCA005422\\_HGSOC4\\_MT & 0 & 0 & omentum & metastatic tumour & HGSOC & PRJCA005422\\_HGSOC4\\_MT\\\\\n",
       "\tPRJCA005422\\_EOC4\\_TM\\_cell\\_TTTCCTCTCTGTCTCG & EOC4 & 23953 & 4481 & EOC4\\_TM\\_cell\\_TTTCCTCTCTGTCTCG & HGSOC4\\_MT & Metastatic Tumor & HGSOC4 & 2.9140400 &  8.449176 & 0.4049259 & ⋯ & Metastatic Tumor & HGSOC & HGSOC4 & PRJCA005422\\_HGSOC4\\_MT & 0 & 0 & omentum & metastatic tumour & HGSOC & PRJCA005422\\_HGSOC4\\_MT\\\\\n",
       "\tPRJCA005422\\_EOC4\\_TM\\_cell\\_TTTGCGCAGGAGTCTG & EOC4 & 17788 & 3363 & EOC4\\_TM\\_cell\\_TTTGCGCAGGAGTCTG & HGSOC4\\_MT & Metastatic Tumor & HGSOC4 & 4.1207556 & 15.797167 & 0.3879020 & ⋯ & Metastatic Tumor & HGSOC & HGSOC4 & PRJCA005422\\_HGSOC4\\_MT & 0 & 0 & omentum & metastatic tumour & HGSOC & PRJCA005422\\_HGSOC4\\_MT\\\\\n",
       "\tPRJCA005422\\_EOC4\\_TM\\_cell\\_TTTGTCATCCCAACGG & EOC4 & 16918 & 3537 & EOC4\\_TM\\_cell\\_TTTGTCATCCCAACGG & HGSOC4\\_MT & Metastatic Tumor & HGSOC4 & 7.4063128 & 20.745907 & 0.4787517 & ⋯ & Metastatic Tumor & HGSOC & HGSOC4 & PRJCA005422\\_HGSOC4\\_MT & 0 & 0 & omentum & metastatic tumour & HGSOC & PRJCA005422\\_HGSOC4\\_MT\\\\\n",
       "\\end{tabular}\n"
      ],
      "text/markdown": [
       "\n",
       "A data.frame: 6 × 28\n",
       "\n",
       "| <!--/--> | orig.ident &lt;chr&gt; | nCount_RNA &lt;dbl&gt; | nFeature_RNA &lt;int&gt; | Cellname &lt;chr&gt; | Samples &lt;chr&gt; | Groups &lt;chr&gt; | Patients &lt;chr&gt; | percent.mt &lt;dbl&gt; | percent.ribo &lt;dbl&gt; | percent.HSP &lt;dbl&gt; | ⋯ ⋯ | sample_type &lt;chr&gt; | cancer_type &lt;chr&gt; | patient_id &lt;chr&gt; | sample_id &lt;chr&gt; | RNA_snn_res.0.2 &lt;chr&gt; | seurat_clusters &lt;chr&gt; | site &lt;chr&gt; | sample_type_major &lt;chr&gt; | cancer_subtype &lt;chr&gt; | integration_id &lt;chr&gt; |\n",
       "|---|---|---|---|---|---|---|---|---|---|---|---|---|---|---|---|---|---|---|---|---|---|\n",
       "| PRJCA005422_EOC4_TM_cell_TTTCCTCGTTCAACCA | EOC4 | 12786 | 3090 | EOC4_TM_cell_TTTCCTCGTTCAACCA | HGSOC4_MT | Metastatic Tumor | HGSOC4 | 0.9619897 |  7.382498 | 0.4223039 | ⋯ | Metastatic Tumor | HGSOC | HGSOC4 | PRJCA005422_HGSOC4_MT | 0 | 0 | omentum | metastatic tumour | HGSOC | PRJCA005422_HGSOC4_MT |\n",
       "| PRJCA005422_EOC4_TM_cell_TTTCCTCTCTGGTATG | EOC4 | 13288 | 3440 | EOC4_TM_cell_TTTCCTCTCTGGTATG | HGSOC4_MT | Metastatic Tumor | HGSOC4 | 3.6950632 | 15.937994 | 0.3988261 | ⋯ | Metastatic Tumor | HGSOC | HGSOC4 | PRJCA005422_HGSOC4_MT | 0 | 0 | omentum | metastatic tumour | HGSOC | PRJCA005422_HGSOC4_MT |\n",
       "| PRJCA005422_EOC4_TM_cell_TTTCCTCTCTGGTTCC | EOC4 | 16083 | 3128 | EOC4_TM_cell_TTTCCTCTCTGGTTCC | HGSOC4_MT | Metastatic Tumor | HGSOC4 | 2.8352919 |  7.181049 | 0.3295200 | ⋯ | Metastatic Tumor | HGSOC | HGSOC4 | PRJCA005422_HGSOC4_MT | 0 | 0 | omentum | metastatic tumour | HGSOC | PRJCA005422_HGSOC4_MT |\n",
       "| PRJCA005422_EOC4_TM_cell_TTTCCTCTCTGTCTCG | EOC4 | 23953 | 4481 | EOC4_TM_cell_TTTCCTCTCTGTCTCG | HGSOC4_MT | Metastatic Tumor | HGSOC4 | 2.9140400 |  8.449176 | 0.4049259 | ⋯ | Metastatic Tumor | HGSOC | HGSOC4 | PRJCA005422_HGSOC4_MT | 0 | 0 | omentum | metastatic tumour | HGSOC | PRJCA005422_HGSOC4_MT |\n",
       "| PRJCA005422_EOC4_TM_cell_TTTGCGCAGGAGTCTG | EOC4 | 17788 | 3363 | EOC4_TM_cell_TTTGCGCAGGAGTCTG | HGSOC4_MT | Metastatic Tumor | HGSOC4 | 4.1207556 | 15.797167 | 0.3879020 | ⋯ | Metastatic Tumor | HGSOC | HGSOC4 | PRJCA005422_HGSOC4_MT | 0 | 0 | omentum | metastatic tumour | HGSOC | PRJCA005422_HGSOC4_MT |\n",
       "| PRJCA005422_EOC4_TM_cell_TTTGTCATCCCAACGG | EOC4 | 16918 | 3537 | EOC4_TM_cell_TTTGTCATCCCAACGG | HGSOC4_MT | Metastatic Tumor | HGSOC4 | 7.4063128 | 20.745907 | 0.4787517 | ⋯ | Metastatic Tumor | HGSOC | HGSOC4 | PRJCA005422_HGSOC4_MT | 0 | 0 | omentum | metastatic tumour | HGSOC | PRJCA005422_HGSOC4_MT |\n",
       "\n"
      ],
      "text/plain": [
       "                                          orig.ident nCount_RNA nFeature_RNA\n",
       "PRJCA005422_EOC4_TM_cell_TTTCCTCGTTCAACCA EOC4       12786      3090        \n",
       "PRJCA005422_EOC4_TM_cell_TTTCCTCTCTGGTATG EOC4       13288      3440        \n",
       "PRJCA005422_EOC4_TM_cell_TTTCCTCTCTGGTTCC EOC4       16083      3128        \n",
       "PRJCA005422_EOC4_TM_cell_TTTCCTCTCTGTCTCG EOC4       23953      4481        \n",
       "PRJCA005422_EOC4_TM_cell_TTTGCGCAGGAGTCTG EOC4       17788      3363        \n",
       "PRJCA005422_EOC4_TM_cell_TTTGTCATCCCAACGG EOC4       16918      3537        \n",
       "                                          Cellname                     \n",
       "PRJCA005422_EOC4_TM_cell_TTTCCTCGTTCAACCA EOC4_TM_cell_TTTCCTCGTTCAACCA\n",
       "PRJCA005422_EOC4_TM_cell_TTTCCTCTCTGGTATG EOC4_TM_cell_TTTCCTCTCTGGTATG\n",
       "PRJCA005422_EOC4_TM_cell_TTTCCTCTCTGGTTCC EOC4_TM_cell_TTTCCTCTCTGGTTCC\n",
       "PRJCA005422_EOC4_TM_cell_TTTCCTCTCTGTCTCG EOC4_TM_cell_TTTCCTCTCTGTCTCG\n",
       "PRJCA005422_EOC4_TM_cell_TTTGCGCAGGAGTCTG EOC4_TM_cell_TTTGCGCAGGAGTCTG\n",
       "PRJCA005422_EOC4_TM_cell_TTTGTCATCCCAACGG EOC4_TM_cell_TTTGTCATCCCAACGG\n",
       "                                          Samples   Groups           Patients\n",
       "PRJCA005422_EOC4_TM_cell_TTTCCTCGTTCAACCA HGSOC4_MT Metastatic Tumor HGSOC4  \n",
       "PRJCA005422_EOC4_TM_cell_TTTCCTCTCTGGTATG HGSOC4_MT Metastatic Tumor HGSOC4  \n",
       "PRJCA005422_EOC4_TM_cell_TTTCCTCTCTGGTTCC HGSOC4_MT Metastatic Tumor HGSOC4  \n",
       "PRJCA005422_EOC4_TM_cell_TTTCCTCTCTGTCTCG HGSOC4_MT Metastatic Tumor HGSOC4  \n",
       "PRJCA005422_EOC4_TM_cell_TTTGCGCAGGAGTCTG HGSOC4_MT Metastatic Tumor HGSOC4  \n",
       "PRJCA005422_EOC4_TM_cell_TTTGTCATCCCAACGG HGSOC4_MT Metastatic Tumor HGSOC4  \n",
       "                                          percent.mt percent.ribo percent.HSP ⋯\n",
       "PRJCA005422_EOC4_TM_cell_TTTCCTCGTTCAACCA 0.9619897   7.382498    0.4223039   ⋯\n",
       "PRJCA005422_EOC4_TM_cell_TTTCCTCTCTGGTATG 3.6950632  15.937994    0.3988261   ⋯\n",
       "PRJCA005422_EOC4_TM_cell_TTTCCTCTCTGGTTCC 2.8352919   7.181049    0.3295200   ⋯\n",
       "PRJCA005422_EOC4_TM_cell_TTTCCTCTCTGTCTCG 2.9140400   8.449176    0.4049259   ⋯\n",
       "PRJCA005422_EOC4_TM_cell_TTTGCGCAGGAGTCTG 4.1207556  15.797167    0.3879020   ⋯\n",
       "PRJCA005422_EOC4_TM_cell_TTTGTCATCCCAACGG 7.4063128  20.745907    0.4787517   ⋯\n",
       "                                          sample_type      cancer_type\n",
       "PRJCA005422_EOC4_TM_cell_TTTCCTCGTTCAACCA Metastatic Tumor HGSOC      \n",
       "PRJCA005422_EOC4_TM_cell_TTTCCTCTCTGGTATG Metastatic Tumor HGSOC      \n",
       "PRJCA005422_EOC4_TM_cell_TTTCCTCTCTGGTTCC Metastatic Tumor HGSOC      \n",
       "PRJCA005422_EOC4_TM_cell_TTTCCTCTCTGTCTCG Metastatic Tumor HGSOC      \n",
       "PRJCA005422_EOC4_TM_cell_TTTGCGCAGGAGTCTG Metastatic Tumor HGSOC      \n",
       "PRJCA005422_EOC4_TM_cell_TTTGTCATCCCAACGG Metastatic Tumor HGSOC      \n",
       "                                          patient_id sample_id            \n",
       "PRJCA005422_EOC4_TM_cell_TTTCCTCGTTCAACCA HGSOC4     PRJCA005422_HGSOC4_MT\n",
       "PRJCA005422_EOC4_TM_cell_TTTCCTCTCTGGTATG HGSOC4     PRJCA005422_HGSOC4_MT\n",
       "PRJCA005422_EOC4_TM_cell_TTTCCTCTCTGGTTCC HGSOC4     PRJCA005422_HGSOC4_MT\n",
       "PRJCA005422_EOC4_TM_cell_TTTCCTCTCTGTCTCG HGSOC4     PRJCA005422_HGSOC4_MT\n",
       "PRJCA005422_EOC4_TM_cell_TTTGCGCAGGAGTCTG HGSOC4     PRJCA005422_HGSOC4_MT\n",
       "PRJCA005422_EOC4_TM_cell_TTTGTCATCCCAACGG HGSOC4     PRJCA005422_HGSOC4_MT\n",
       "                                          RNA_snn_res.0.2 seurat_clusters\n",
       "PRJCA005422_EOC4_TM_cell_TTTCCTCGTTCAACCA 0               0              \n",
       "PRJCA005422_EOC4_TM_cell_TTTCCTCTCTGGTATG 0               0              \n",
       "PRJCA005422_EOC4_TM_cell_TTTCCTCTCTGGTTCC 0               0              \n",
       "PRJCA005422_EOC4_TM_cell_TTTCCTCTCTGTCTCG 0               0              \n",
       "PRJCA005422_EOC4_TM_cell_TTTGCGCAGGAGTCTG 0               0              \n",
       "PRJCA005422_EOC4_TM_cell_TTTGTCATCCCAACGG 0               0              \n",
       "                                          site    sample_type_major\n",
       "PRJCA005422_EOC4_TM_cell_TTTCCTCGTTCAACCA omentum metastatic tumour\n",
       "PRJCA005422_EOC4_TM_cell_TTTCCTCTCTGGTATG omentum metastatic tumour\n",
       "PRJCA005422_EOC4_TM_cell_TTTCCTCTCTGGTTCC omentum metastatic tumour\n",
       "PRJCA005422_EOC4_TM_cell_TTTCCTCTCTGTCTCG omentum metastatic tumour\n",
       "PRJCA005422_EOC4_TM_cell_TTTGCGCAGGAGTCTG omentum metastatic tumour\n",
       "PRJCA005422_EOC4_TM_cell_TTTGTCATCCCAACGG omentum metastatic tumour\n",
       "                                          cancer_subtype integration_id       \n",
       "PRJCA005422_EOC4_TM_cell_TTTCCTCGTTCAACCA HGSOC          PRJCA005422_HGSOC4_MT\n",
       "PRJCA005422_EOC4_TM_cell_TTTCCTCTCTGGTATG HGSOC          PRJCA005422_HGSOC4_MT\n",
       "PRJCA005422_EOC4_TM_cell_TTTCCTCTCTGGTTCC HGSOC          PRJCA005422_HGSOC4_MT\n",
       "PRJCA005422_EOC4_TM_cell_TTTCCTCTCTGTCTCG HGSOC          PRJCA005422_HGSOC4_MT\n",
       "PRJCA005422_EOC4_TM_cell_TTTGCGCAGGAGTCTG HGSOC          PRJCA005422_HGSOC4_MT\n",
       "PRJCA005422_EOC4_TM_cell_TTTGTCATCCCAACGG HGSOC          PRJCA005422_HGSOC4_MT"
      ]
     },
     "metadata": {},
     "output_type": "display_data"
    },
    {
     "data": {
      "text/plain": [
       "\n",
       " PRJCA005422_HGSOC1_AS  PRJCA005422_HGSOC1_MT  PRJCA005422_HGSOC1_PT \n",
       "                  1149                   1231                   1408 \n",
       "PRJCA005422_HGSOC10_AS PRJCA005422_HGSOC10_PT  PRJCA005422_HGSOC2_AS \n",
       "                   343                    750                   6695 \n",
       " PRJCA005422_HGSOC2_PT  PRJCA005422_HGSOC3_AS  PRJCA005422_HGSOC3_MT \n",
       "                   633                    662                   1711 \n",
       " PRJCA005422_HGSOC3_PT  PRJCA005422_HGSOC4_MT  PRJCA005422_HGSOC4_PT \n",
       "                  1812                    816                    288 \n",
       " PRJCA005422_HGSOC5_AS  PRJCA005422_HGSOC6_AS  PRJCA005422_HGSOC6_MT \n",
       "                  1743                    829                   1457 \n",
       " PRJCA005422_HGSOC6_PT  PRJCA005422_HGSOC7_PT  PRJCA005422_HGSOC8_AS \n",
       "                   693                   1179                   1110 \n",
       " PRJCA005422_HGSOC8_PT  PRJCA005422_HGSOC9_AS  PRJCA005422_HGSOC9_PT \n",
       "                   121                   3589                   1087 "
      ]
     },
     "metadata": {},
     "output_type": "display_data"
    }
   ],
   "source": [
    "#record number of cells\n",
    "HGSOC\n",
    "HGSOC@project.name\n",
    "head(HGSOC@meta.data)\n",
    "tail(HGSOC@meta.data)\n",
    "table(HGSOC$integration_id)"
   ]
  },
  {
   "cell_type": "code",
   "execution_count": 90,
   "metadata": {
    "vscode": {
     "languageId": "r"
    }
   },
   "outputs": [],
   "source": [
    "#re-export seurat object ready for integration\n",
    "saveRDS(HGSOC, \"/scratch/user/s4436039/scdata/Myeloid_Cells/Myeloid_Cells_Integrate/PRJCA005422_myeloid_int.RDS\")"
   ]
  },
  {
   "cell_type": "code",
   "execution_count": 91,
   "metadata": {
    "vscode": {
     "languageId": "r"
    }
   },
   "outputs": [],
   "source": [
    "#remove all objects in R\n",
    "rm(list = ls())"
   ]
  },
  {
   "cell_type": "markdown",
   "metadata": {},
   "source": [
    "## GSE200218"
   ]
  },
  {
   "cell_type": "code",
   "execution_count": 123,
   "metadata": {
    "vscode": {
     "languageId": "r"
    }
   },
   "outputs": [],
   "source": [
    "MEL <- readRDS(\"/scratch/user/s4436039/scdata/Myeloid_Cells/GSE200218_myeloid.RDS\")"
   ]
  },
  {
   "cell_type": "code",
   "execution_count": 124,
   "metadata": {
    "vscode": {
     "languageId": "r"
    }
   },
   "outputs": [
    {
     "data": {
      "text/plain": [
       "An object of class Seurat \n",
       "36601 features across 10371 samples within 1 assay \n",
       "Active assay: RNA (36601 features, 2000 variable features)\n",
       " 11 layers present: counts.1, counts.2, counts.3, counts.4, counts.5, data.1, data.2, data.3, data.4, data.5, scale.data\n",
       " 2 dimensional reductions calculated: pca, umap"
      ]
     },
     "metadata": {},
     "output_type": "display_data"
    },
    {
     "data": {
      "text/html": [
       "'GSE200218'"
      ],
      "text/latex": [
       "'GSE200218'"
      ],
      "text/markdown": [
       "'GSE200218'"
      ],
      "text/plain": [
       "[1] \"GSE200218\""
      ]
     },
     "metadata": {},
     "output_type": "display_data"
    },
    {
     "data": {
      "text/html": [
       "<table class=\"dataframe\">\n",
       "<caption>A data.frame: 6 × 10</caption>\n",
       "<thead>\n",
       "\t<tr><th></th><th scope=col>orig.ident</th><th scope=col>nCount_RNA</th><th scope=col>nFeature_RNA</th><th scope=col>sample_type</th><th scope=col>cancer_type</th><th scope=col>patient_id</th><th scope=col>sample_id</th><th scope=col>percent.mt</th><th scope=col>RNA_snn_res.0.2</th><th scope=col>seurat_clusters</th></tr>\n",
       "\t<tr><th></th><th scope=col>&lt;chr&gt;</th><th scope=col>&lt;dbl&gt;</th><th scope=col>&lt;int&gt;</th><th scope=col>&lt;chr&gt;</th><th scope=col>&lt;chr&gt;</th><th scope=col>&lt;chr&gt;</th><th scope=col>&lt;chr&gt;</th><th scope=col>&lt;dbl&gt;</th><th scope=col>&lt;fct&gt;</th><th scope=col>&lt;fct&gt;</th></tr>\n",
       "</thead>\n",
       "<tbody>\n",
       "\t<tr><th scope=row>GSE200218_MBM01_AAACCTGAGCTGCAAG-1</th><td>GSE200218</td><td>15791</td><td>4063</td><td>metastasis</td><td>melanoma brain mets</td><td>MBM01</td><td>GSE200218_MBM01</td><td>4.439238</td><td>0</td><td>0</td></tr>\n",
       "\t<tr><th scope=row>GSE200218_MBM01_AAACCTGCAATCGGTT-1</th><td>GSE200218</td><td>29993</td><td>5932</td><td>metastasis</td><td>melanoma brain mets</td><td>MBM01</td><td>GSE200218_MBM01</td><td>3.270763</td><td>2</td><td>2</td></tr>\n",
       "\t<tr><th scope=row>GSE200218_MBM01_AAACCTGGTACTTGAC-1</th><td>GSE200218</td><td>21267</td><td>5177</td><td>metastasis</td><td>melanoma brain mets</td><td>MBM01</td><td>GSE200218_MBM01</td><td>3.282080</td><td>7</td><td>7</td></tr>\n",
       "\t<tr><th scope=row>GSE200218_MBM01_AAACCTGGTTAAGATG-1</th><td>GSE200218</td><td>25744</td><td>5563</td><td>metastasis</td><td>melanoma brain mets</td><td>MBM01</td><td>GSE200218_MBM01</td><td>3.899938</td><td>0</td><td>0</td></tr>\n",
       "\t<tr><th scope=row>GSE200218_MBM01_AAACCTGTCACGGTTA-1</th><td>GSE200218</td><td>14369</td><td>3779</td><td>metastasis</td><td>melanoma brain mets</td><td>MBM01</td><td>GSE200218_MBM01</td><td>3.257012</td><td>0</td><td>0</td></tr>\n",
       "\t<tr><th scope=row>GSE200218_MBM01_AAACCTGTCCGCATCT-1</th><td>GSE200218</td><td> 3921</td><td>2039</td><td>metastasis</td><td>melanoma brain mets</td><td>MBM01</td><td>GSE200218_MBM01</td><td>4.412140</td><td>0</td><td>0</td></tr>\n",
       "</tbody>\n",
       "</table>\n"
      ],
      "text/latex": [
       "A data.frame: 6 × 10\n",
       "\\begin{tabular}{r|llllllllll}\n",
       "  & orig.ident & nCount\\_RNA & nFeature\\_RNA & sample\\_type & cancer\\_type & patient\\_id & sample\\_id & percent.mt & RNA\\_snn\\_res.0.2 & seurat\\_clusters\\\\\n",
       "  & <chr> & <dbl> & <int> & <chr> & <chr> & <chr> & <chr> & <dbl> & <fct> & <fct>\\\\\n",
       "\\hline\n",
       "\tGSE200218\\_MBM01\\_AAACCTGAGCTGCAAG-1 & GSE200218 & 15791 & 4063 & metastasis & melanoma brain mets & MBM01 & GSE200218\\_MBM01 & 4.439238 & 0 & 0\\\\\n",
       "\tGSE200218\\_MBM01\\_AAACCTGCAATCGGTT-1 & GSE200218 & 29993 & 5932 & metastasis & melanoma brain mets & MBM01 & GSE200218\\_MBM01 & 3.270763 & 2 & 2\\\\\n",
       "\tGSE200218\\_MBM01\\_AAACCTGGTACTTGAC-1 & GSE200218 & 21267 & 5177 & metastasis & melanoma brain mets & MBM01 & GSE200218\\_MBM01 & 3.282080 & 7 & 7\\\\\n",
       "\tGSE200218\\_MBM01\\_AAACCTGGTTAAGATG-1 & GSE200218 & 25744 & 5563 & metastasis & melanoma brain mets & MBM01 & GSE200218\\_MBM01 & 3.899938 & 0 & 0\\\\\n",
       "\tGSE200218\\_MBM01\\_AAACCTGTCACGGTTA-1 & GSE200218 & 14369 & 3779 & metastasis & melanoma brain mets & MBM01 & GSE200218\\_MBM01 & 3.257012 & 0 & 0\\\\\n",
       "\tGSE200218\\_MBM01\\_AAACCTGTCCGCATCT-1 & GSE200218 &  3921 & 2039 & metastasis & melanoma brain mets & MBM01 & GSE200218\\_MBM01 & 4.412140 & 0 & 0\\\\\n",
       "\\end{tabular}\n"
      ],
      "text/markdown": [
       "\n",
       "A data.frame: 6 × 10\n",
       "\n",
       "| <!--/--> | orig.ident &lt;chr&gt; | nCount_RNA &lt;dbl&gt; | nFeature_RNA &lt;int&gt; | sample_type &lt;chr&gt; | cancer_type &lt;chr&gt; | patient_id &lt;chr&gt; | sample_id &lt;chr&gt; | percent.mt &lt;dbl&gt; | RNA_snn_res.0.2 &lt;fct&gt; | seurat_clusters &lt;fct&gt; |\n",
       "|---|---|---|---|---|---|---|---|---|---|---|\n",
       "| GSE200218_MBM01_AAACCTGAGCTGCAAG-1 | GSE200218 | 15791 | 4063 | metastasis | melanoma brain mets | MBM01 | GSE200218_MBM01 | 4.439238 | 0 | 0 |\n",
       "| GSE200218_MBM01_AAACCTGCAATCGGTT-1 | GSE200218 | 29993 | 5932 | metastasis | melanoma brain mets | MBM01 | GSE200218_MBM01 | 3.270763 | 2 | 2 |\n",
       "| GSE200218_MBM01_AAACCTGGTACTTGAC-1 | GSE200218 | 21267 | 5177 | metastasis | melanoma brain mets | MBM01 | GSE200218_MBM01 | 3.282080 | 7 | 7 |\n",
       "| GSE200218_MBM01_AAACCTGGTTAAGATG-1 | GSE200218 | 25744 | 5563 | metastasis | melanoma brain mets | MBM01 | GSE200218_MBM01 | 3.899938 | 0 | 0 |\n",
       "| GSE200218_MBM01_AAACCTGTCACGGTTA-1 | GSE200218 | 14369 | 3779 | metastasis | melanoma brain mets | MBM01 | GSE200218_MBM01 | 3.257012 | 0 | 0 |\n",
       "| GSE200218_MBM01_AAACCTGTCCGCATCT-1 | GSE200218 |  3921 | 2039 | metastasis | melanoma brain mets | MBM01 | GSE200218_MBM01 | 4.412140 | 0 | 0 |\n",
       "\n"
      ],
      "text/plain": [
       "                                   orig.ident nCount_RNA nFeature_RNA\n",
       "GSE200218_MBM01_AAACCTGAGCTGCAAG-1 GSE200218  15791      4063        \n",
       "GSE200218_MBM01_AAACCTGCAATCGGTT-1 GSE200218  29993      5932        \n",
       "GSE200218_MBM01_AAACCTGGTACTTGAC-1 GSE200218  21267      5177        \n",
       "GSE200218_MBM01_AAACCTGGTTAAGATG-1 GSE200218  25744      5563        \n",
       "GSE200218_MBM01_AAACCTGTCACGGTTA-1 GSE200218  14369      3779        \n",
       "GSE200218_MBM01_AAACCTGTCCGCATCT-1 GSE200218   3921      2039        \n",
       "                                   sample_type cancer_type         patient_id\n",
       "GSE200218_MBM01_AAACCTGAGCTGCAAG-1 metastasis  melanoma brain mets MBM01     \n",
       "GSE200218_MBM01_AAACCTGCAATCGGTT-1 metastasis  melanoma brain mets MBM01     \n",
       "GSE200218_MBM01_AAACCTGGTACTTGAC-1 metastasis  melanoma brain mets MBM01     \n",
       "GSE200218_MBM01_AAACCTGGTTAAGATG-1 metastasis  melanoma brain mets MBM01     \n",
       "GSE200218_MBM01_AAACCTGTCACGGTTA-1 metastasis  melanoma brain mets MBM01     \n",
       "GSE200218_MBM01_AAACCTGTCCGCATCT-1 metastasis  melanoma brain mets MBM01     \n",
       "                                   sample_id       percent.mt RNA_snn_res.0.2\n",
       "GSE200218_MBM01_AAACCTGAGCTGCAAG-1 GSE200218_MBM01 4.439238   0              \n",
       "GSE200218_MBM01_AAACCTGCAATCGGTT-1 GSE200218_MBM01 3.270763   2              \n",
       "GSE200218_MBM01_AAACCTGGTACTTGAC-1 GSE200218_MBM01 3.282080   7              \n",
       "GSE200218_MBM01_AAACCTGGTTAAGATG-1 GSE200218_MBM01 3.899938   0              \n",
       "GSE200218_MBM01_AAACCTGTCACGGTTA-1 GSE200218_MBM01 3.257012   0              \n",
       "GSE200218_MBM01_AAACCTGTCCGCATCT-1 GSE200218_MBM01 4.412140   0              \n",
       "                                   seurat_clusters\n",
       "GSE200218_MBM01_AAACCTGAGCTGCAAG-1 0              \n",
       "GSE200218_MBM01_AAACCTGCAATCGGTT-1 2              \n",
       "GSE200218_MBM01_AAACCTGGTACTTGAC-1 7              \n",
       "GSE200218_MBM01_AAACCTGGTTAAGATG-1 0              \n",
       "GSE200218_MBM01_AAACCTGTCACGGTTA-1 0              \n",
       "GSE200218_MBM01_AAACCTGTCCGCATCT-1 0              "
      ]
     },
     "metadata": {},
     "output_type": "display_data"
    }
   ],
   "source": [
    "MEL\n",
    "MEL@project.name\n",
    "head(MEL@meta.data)"
   ]
  },
  {
   "cell_type": "code",
   "execution_count": 125,
   "metadata": {
    "vscode": {
     "languageId": "r"
    }
   },
   "outputs": [
    {
     "data": {
      "text/plain": [
       "\n",
       "metastasis \n",
       "     10371 "
      ]
     },
     "metadata": {},
     "output_type": "display_data"
    },
    {
     "data": {
      "text/plain": [
       "\n",
       "melanoma brain mets \n",
       "              10371 "
      ]
     },
     "metadata": {},
     "output_type": "display_data"
    },
    {
     "data": {
      "text/plain": [
       "\n",
       "MBM01 MBM02 MBM03 MBM04 MBM05 \n",
       " 1411  2035  1945  3143  1837 "
      ]
     },
     "metadata": {},
     "output_type": "display_data"
    },
    {
     "data": {
      "text/plain": [
       "\n",
       "GSE200218_MBM01 GSE200218_MBM02 GSE200218_MBM03 GSE200218_MBM04 GSE200218_MBM05 \n",
       "           1411            2035            1945            3143            1837 "
      ]
     },
     "metadata": {},
     "output_type": "display_data"
    }
   ],
   "source": [
    "table(MEL$sample_type)\n",
    "table(MEL$cancer_type)\n",
    "table(MEL$patient_id)\n",
    "table(MEL$sample_id)"
   ]
  },
  {
   "cell_type": "code",
   "execution_count": 126,
   "metadata": {
    "vscode": {
     "languageId": "r"
    }
   },
   "outputs": [],
   "source": [
    "#set site and sample_type_major metadata\n",
    "MEL@meta.data$site <- \"brain\"\n",
    "MEL@meta.data$sample_type_major <- \"metastatic tumour\""
   ]
  },
  {
   "cell_type": "code",
   "execution_count": 127,
   "metadata": {
    "vscode": {
     "languageId": "r"
    }
   },
   "outputs": [],
   "source": [
    "#set subtype metadata\n",
    "MEL@meta.data$cancer_subtype <- \"Melanoma\""
   ]
  },
  {
   "cell_type": "code",
   "execution_count": 128,
   "metadata": {
    "vscode": {
     "languageId": "r"
    }
   },
   "outputs": [],
   "source": [
    "#set integration_id metadata\n",
    "MEL@meta.data$integration_id <- MEL@meta.data$sample_id"
   ]
  },
  {
   "cell_type": "code",
   "execution_count": 129,
   "metadata": {
    "vscode": {
     "languageId": "r"
    }
   },
   "outputs": [
    {
     "data": {
      "text/plain": [
       "An object of class Seurat \n",
       "36601 features across 10371 samples within 1 assay \n",
       "Active assay: RNA (36601 features, 2000 variable features)\n",
       " 11 layers present: counts.1, counts.2, counts.3, counts.4, counts.5, data.1, data.2, data.3, data.4, data.5, scale.data\n",
       " 2 dimensional reductions calculated: pca, umap"
      ]
     },
     "metadata": {},
     "output_type": "display_data"
    },
    {
     "data": {
      "text/html": [
       "'GSE200218'"
      ],
      "text/latex": [
       "'GSE200218'"
      ],
      "text/markdown": [
       "'GSE200218'"
      ],
      "text/plain": [
       "[1] \"GSE200218\""
      ]
     },
     "metadata": {},
     "output_type": "display_data"
    },
    {
     "data": {
      "text/html": [
       "<table class=\"dataframe\">\n",
       "<caption>A data.frame: 6 × 14</caption>\n",
       "<thead>\n",
       "\t<tr><th></th><th scope=col>orig.ident</th><th scope=col>nCount_RNA</th><th scope=col>nFeature_RNA</th><th scope=col>sample_type</th><th scope=col>cancer_type</th><th scope=col>patient_id</th><th scope=col>sample_id</th><th scope=col>percent.mt</th><th scope=col>RNA_snn_res.0.2</th><th scope=col>seurat_clusters</th><th scope=col>site</th><th scope=col>sample_type_major</th><th scope=col>cancer_subtype</th><th scope=col>integration_id</th></tr>\n",
       "\t<tr><th></th><th scope=col>&lt;chr&gt;</th><th scope=col>&lt;dbl&gt;</th><th scope=col>&lt;int&gt;</th><th scope=col>&lt;chr&gt;</th><th scope=col>&lt;chr&gt;</th><th scope=col>&lt;chr&gt;</th><th scope=col>&lt;chr&gt;</th><th scope=col>&lt;dbl&gt;</th><th scope=col>&lt;fct&gt;</th><th scope=col>&lt;fct&gt;</th><th scope=col>&lt;chr&gt;</th><th scope=col>&lt;chr&gt;</th><th scope=col>&lt;chr&gt;</th><th scope=col>&lt;chr&gt;</th></tr>\n",
       "</thead>\n",
       "<tbody>\n",
       "\t<tr><th scope=row>GSE200218_MBM01_AAACCTGAGCTGCAAG-1</th><td>GSE200218</td><td>15791</td><td>4063</td><td>metastasis</td><td>melanoma brain mets</td><td>MBM01</td><td>GSE200218_MBM01</td><td>4.439238</td><td>0</td><td>0</td><td>brain</td><td>metastatic tumour</td><td>Melanoma</td><td>GSE200218_MBM01</td></tr>\n",
       "\t<tr><th scope=row>GSE200218_MBM01_AAACCTGCAATCGGTT-1</th><td>GSE200218</td><td>29993</td><td>5932</td><td>metastasis</td><td>melanoma brain mets</td><td>MBM01</td><td>GSE200218_MBM01</td><td>3.270763</td><td>2</td><td>2</td><td>brain</td><td>metastatic tumour</td><td>Melanoma</td><td>GSE200218_MBM01</td></tr>\n",
       "\t<tr><th scope=row>GSE200218_MBM01_AAACCTGGTACTTGAC-1</th><td>GSE200218</td><td>21267</td><td>5177</td><td>metastasis</td><td>melanoma brain mets</td><td>MBM01</td><td>GSE200218_MBM01</td><td>3.282080</td><td>7</td><td>7</td><td>brain</td><td>metastatic tumour</td><td>Melanoma</td><td>GSE200218_MBM01</td></tr>\n",
       "\t<tr><th scope=row>GSE200218_MBM01_AAACCTGGTTAAGATG-1</th><td>GSE200218</td><td>25744</td><td>5563</td><td>metastasis</td><td>melanoma brain mets</td><td>MBM01</td><td>GSE200218_MBM01</td><td>3.899938</td><td>0</td><td>0</td><td>brain</td><td>metastatic tumour</td><td>Melanoma</td><td>GSE200218_MBM01</td></tr>\n",
       "\t<tr><th scope=row>GSE200218_MBM01_AAACCTGTCACGGTTA-1</th><td>GSE200218</td><td>14369</td><td>3779</td><td>metastasis</td><td>melanoma brain mets</td><td>MBM01</td><td>GSE200218_MBM01</td><td>3.257012</td><td>0</td><td>0</td><td>brain</td><td>metastatic tumour</td><td>Melanoma</td><td>GSE200218_MBM01</td></tr>\n",
       "\t<tr><th scope=row>GSE200218_MBM01_AAACCTGTCCGCATCT-1</th><td>GSE200218</td><td> 3921</td><td>2039</td><td>metastasis</td><td>melanoma brain mets</td><td>MBM01</td><td>GSE200218_MBM01</td><td>4.412140</td><td>0</td><td>0</td><td>brain</td><td>metastatic tumour</td><td>Melanoma</td><td>GSE200218_MBM01</td></tr>\n",
       "</tbody>\n",
       "</table>\n"
      ],
      "text/latex": [
       "A data.frame: 6 × 14\n",
       "\\begin{tabular}{r|llllllllllllll}\n",
       "  & orig.ident & nCount\\_RNA & nFeature\\_RNA & sample\\_type & cancer\\_type & patient\\_id & sample\\_id & percent.mt & RNA\\_snn\\_res.0.2 & seurat\\_clusters & site & sample\\_type\\_major & cancer\\_subtype & integration\\_id\\\\\n",
       "  & <chr> & <dbl> & <int> & <chr> & <chr> & <chr> & <chr> & <dbl> & <fct> & <fct> & <chr> & <chr> & <chr> & <chr>\\\\\n",
       "\\hline\n",
       "\tGSE200218\\_MBM01\\_AAACCTGAGCTGCAAG-1 & GSE200218 & 15791 & 4063 & metastasis & melanoma brain mets & MBM01 & GSE200218\\_MBM01 & 4.439238 & 0 & 0 & brain & metastatic tumour & Melanoma & GSE200218\\_MBM01\\\\\n",
       "\tGSE200218\\_MBM01\\_AAACCTGCAATCGGTT-1 & GSE200218 & 29993 & 5932 & metastasis & melanoma brain mets & MBM01 & GSE200218\\_MBM01 & 3.270763 & 2 & 2 & brain & metastatic tumour & Melanoma & GSE200218\\_MBM01\\\\\n",
       "\tGSE200218\\_MBM01\\_AAACCTGGTACTTGAC-1 & GSE200218 & 21267 & 5177 & metastasis & melanoma brain mets & MBM01 & GSE200218\\_MBM01 & 3.282080 & 7 & 7 & brain & metastatic tumour & Melanoma & GSE200218\\_MBM01\\\\\n",
       "\tGSE200218\\_MBM01\\_AAACCTGGTTAAGATG-1 & GSE200218 & 25744 & 5563 & metastasis & melanoma brain mets & MBM01 & GSE200218\\_MBM01 & 3.899938 & 0 & 0 & brain & metastatic tumour & Melanoma & GSE200218\\_MBM01\\\\\n",
       "\tGSE200218\\_MBM01\\_AAACCTGTCACGGTTA-1 & GSE200218 & 14369 & 3779 & metastasis & melanoma brain mets & MBM01 & GSE200218\\_MBM01 & 3.257012 & 0 & 0 & brain & metastatic tumour & Melanoma & GSE200218\\_MBM01\\\\\n",
       "\tGSE200218\\_MBM01\\_AAACCTGTCCGCATCT-1 & GSE200218 &  3921 & 2039 & metastasis & melanoma brain mets & MBM01 & GSE200218\\_MBM01 & 4.412140 & 0 & 0 & brain & metastatic tumour & Melanoma & GSE200218\\_MBM01\\\\\n",
       "\\end{tabular}\n"
      ],
      "text/markdown": [
       "\n",
       "A data.frame: 6 × 14\n",
       "\n",
       "| <!--/--> | orig.ident &lt;chr&gt; | nCount_RNA &lt;dbl&gt; | nFeature_RNA &lt;int&gt; | sample_type &lt;chr&gt; | cancer_type &lt;chr&gt; | patient_id &lt;chr&gt; | sample_id &lt;chr&gt; | percent.mt &lt;dbl&gt; | RNA_snn_res.0.2 &lt;fct&gt; | seurat_clusters &lt;fct&gt; | site &lt;chr&gt; | sample_type_major &lt;chr&gt; | cancer_subtype &lt;chr&gt; | integration_id &lt;chr&gt; |\n",
       "|---|---|---|---|---|---|---|---|---|---|---|---|---|---|---|\n",
       "| GSE200218_MBM01_AAACCTGAGCTGCAAG-1 | GSE200218 | 15791 | 4063 | metastasis | melanoma brain mets | MBM01 | GSE200218_MBM01 | 4.439238 | 0 | 0 | brain | metastatic tumour | Melanoma | GSE200218_MBM01 |\n",
       "| GSE200218_MBM01_AAACCTGCAATCGGTT-1 | GSE200218 | 29993 | 5932 | metastasis | melanoma brain mets | MBM01 | GSE200218_MBM01 | 3.270763 | 2 | 2 | brain | metastatic tumour | Melanoma | GSE200218_MBM01 |\n",
       "| GSE200218_MBM01_AAACCTGGTACTTGAC-1 | GSE200218 | 21267 | 5177 | metastasis | melanoma brain mets | MBM01 | GSE200218_MBM01 | 3.282080 | 7 | 7 | brain | metastatic tumour | Melanoma | GSE200218_MBM01 |\n",
       "| GSE200218_MBM01_AAACCTGGTTAAGATG-1 | GSE200218 | 25744 | 5563 | metastasis | melanoma brain mets | MBM01 | GSE200218_MBM01 | 3.899938 | 0 | 0 | brain | metastatic tumour | Melanoma | GSE200218_MBM01 |\n",
       "| GSE200218_MBM01_AAACCTGTCACGGTTA-1 | GSE200218 | 14369 | 3779 | metastasis | melanoma brain mets | MBM01 | GSE200218_MBM01 | 3.257012 | 0 | 0 | brain | metastatic tumour | Melanoma | GSE200218_MBM01 |\n",
       "| GSE200218_MBM01_AAACCTGTCCGCATCT-1 | GSE200218 |  3921 | 2039 | metastasis | melanoma brain mets | MBM01 | GSE200218_MBM01 | 4.412140 | 0 | 0 | brain | metastatic tumour | Melanoma | GSE200218_MBM01 |\n",
       "\n"
      ],
      "text/plain": [
       "                                   orig.ident nCount_RNA nFeature_RNA\n",
       "GSE200218_MBM01_AAACCTGAGCTGCAAG-1 GSE200218  15791      4063        \n",
       "GSE200218_MBM01_AAACCTGCAATCGGTT-1 GSE200218  29993      5932        \n",
       "GSE200218_MBM01_AAACCTGGTACTTGAC-1 GSE200218  21267      5177        \n",
       "GSE200218_MBM01_AAACCTGGTTAAGATG-1 GSE200218  25744      5563        \n",
       "GSE200218_MBM01_AAACCTGTCACGGTTA-1 GSE200218  14369      3779        \n",
       "GSE200218_MBM01_AAACCTGTCCGCATCT-1 GSE200218   3921      2039        \n",
       "                                   sample_type cancer_type         patient_id\n",
       "GSE200218_MBM01_AAACCTGAGCTGCAAG-1 metastasis  melanoma brain mets MBM01     \n",
       "GSE200218_MBM01_AAACCTGCAATCGGTT-1 metastasis  melanoma brain mets MBM01     \n",
       "GSE200218_MBM01_AAACCTGGTACTTGAC-1 metastasis  melanoma brain mets MBM01     \n",
       "GSE200218_MBM01_AAACCTGGTTAAGATG-1 metastasis  melanoma brain mets MBM01     \n",
       "GSE200218_MBM01_AAACCTGTCACGGTTA-1 metastasis  melanoma brain mets MBM01     \n",
       "GSE200218_MBM01_AAACCTGTCCGCATCT-1 metastasis  melanoma brain mets MBM01     \n",
       "                                   sample_id       percent.mt RNA_snn_res.0.2\n",
       "GSE200218_MBM01_AAACCTGAGCTGCAAG-1 GSE200218_MBM01 4.439238   0              \n",
       "GSE200218_MBM01_AAACCTGCAATCGGTT-1 GSE200218_MBM01 3.270763   2              \n",
       "GSE200218_MBM01_AAACCTGGTACTTGAC-1 GSE200218_MBM01 3.282080   7              \n",
       "GSE200218_MBM01_AAACCTGGTTAAGATG-1 GSE200218_MBM01 3.899938   0              \n",
       "GSE200218_MBM01_AAACCTGTCACGGTTA-1 GSE200218_MBM01 3.257012   0              \n",
       "GSE200218_MBM01_AAACCTGTCCGCATCT-1 GSE200218_MBM01 4.412140   0              \n",
       "                                   seurat_clusters site  sample_type_major\n",
       "GSE200218_MBM01_AAACCTGAGCTGCAAG-1 0               brain metastatic tumour\n",
       "GSE200218_MBM01_AAACCTGCAATCGGTT-1 2               brain metastatic tumour\n",
       "GSE200218_MBM01_AAACCTGGTACTTGAC-1 7               brain metastatic tumour\n",
       "GSE200218_MBM01_AAACCTGGTTAAGATG-1 0               brain metastatic tumour\n",
       "GSE200218_MBM01_AAACCTGTCACGGTTA-1 0               brain metastatic tumour\n",
       "GSE200218_MBM01_AAACCTGTCCGCATCT-1 0               brain metastatic tumour\n",
       "                                   cancer_subtype integration_id \n",
       "GSE200218_MBM01_AAACCTGAGCTGCAAG-1 Melanoma       GSE200218_MBM01\n",
       "GSE200218_MBM01_AAACCTGCAATCGGTT-1 Melanoma       GSE200218_MBM01\n",
       "GSE200218_MBM01_AAACCTGGTACTTGAC-1 Melanoma       GSE200218_MBM01\n",
       "GSE200218_MBM01_AAACCTGGTTAAGATG-1 Melanoma       GSE200218_MBM01\n",
       "GSE200218_MBM01_AAACCTGTCACGGTTA-1 Melanoma       GSE200218_MBM01\n",
       "GSE200218_MBM01_AAACCTGTCCGCATCT-1 Melanoma       GSE200218_MBM01"
      ]
     },
     "metadata": {},
     "output_type": "display_data"
    }
   ],
   "source": [
    "MEL\n",
    "MEL@project.name\n",
    "head(MEL@meta.data)"
   ]
  },
  {
   "cell_type": "code",
   "execution_count": 130,
   "metadata": {
    "vscode": {
     "languageId": "r"
    }
   },
   "outputs": [
    {
     "data": {
      "text/plain": [
       "\n",
       "GSE200218_MBM01 GSE200218_MBM02 GSE200218_MBM03 GSE200218_MBM04 GSE200218_MBM05 \n",
       "           1411            2035            1945            3143            1837 "
      ]
     },
     "metadata": {},
     "output_type": "display_data"
    }
   ],
   "source": [
    "#exclude any samples with <100 cells\n",
    "table(MEL$integration_id)\n",
    "#none to exclude"
   ]
  },
  {
   "cell_type": "code",
   "execution_count": 131,
   "metadata": {
    "vscode": {
     "languageId": "r"
    }
   },
   "outputs": [
    {
     "data": {
      "text/html": [
       "<style>\n",
       ".list-inline {list-style: none; margin:0; padding: 0}\n",
       ".list-inline>li {display: inline-block}\n",
       ".list-inline>li:not(:last-child)::after {content: \"\\00b7\"; padding: 0 .5ex}\n",
       "</style>\n",
       "<ol class=list-inline><li>'counts.1'</li><li>'counts.2'</li><li>'counts.3'</li><li>'counts.4'</li><li>'counts.5'</li><li>'data.1'</li><li>'data.2'</li><li>'data.3'</li><li>'data.4'</li><li>'data.5'</li><li>'scale.data'</li></ol>\n"
      ],
      "text/latex": [
       "\\begin{enumerate*}\n",
       "\\item 'counts.1'\n",
       "\\item 'counts.2'\n",
       "\\item 'counts.3'\n",
       "\\item 'counts.4'\n",
       "\\item 'counts.5'\n",
       "\\item 'data.1'\n",
       "\\item 'data.2'\n",
       "\\item 'data.3'\n",
       "\\item 'data.4'\n",
       "\\item 'data.5'\n",
       "\\item 'scale.data'\n",
       "\\end{enumerate*}\n"
      ],
      "text/markdown": [
       "1. 'counts.1'\n",
       "2. 'counts.2'\n",
       "3. 'counts.3'\n",
       "4. 'counts.4'\n",
       "5. 'counts.5'\n",
       "6. 'data.1'\n",
       "7. 'data.2'\n",
       "8. 'data.3'\n",
       "9. 'data.4'\n",
       "10. 'data.5'\n",
       "11. 'scale.data'\n",
       "\n",
       "\n"
      ],
      "text/plain": [
       " [1] \"counts.1\"   \"counts.2\"   \"counts.3\"   \"counts.4\"   \"counts.5\"  \n",
       " [6] \"data.1\"     \"data.2\"     \"data.3\"     \"data.4\"     \"data.5\"    \n",
       "[11] \"scale.data\""
      ]
     },
     "metadata": {},
     "output_type": "display_data"
    },
    {
     "data": {
      "text/html": [
       "<style>\n",
       ".list-inline {list-style: none; margin:0; padding: 0}\n",
       ".list-inline>li {display: inline-block}\n",
       ".list-inline>li:not(:last-child)::after {content: \"\\00b7\"; padding: 0 .5ex}\n",
       "</style>\n",
       "<ol class=list-inline><li>'data'</li><li>'counts'</li><li>'scale.data'</li></ol>\n"
      ],
      "text/latex": [
       "\\begin{enumerate*}\n",
       "\\item 'data'\n",
       "\\item 'counts'\n",
       "\\item 'scale.data'\n",
       "\\end{enumerate*}\n"
      ],
      "text/markdown": [
       "1. 'data'\n",
       "2. 'counts'\n",
       "3. 'scale.data'\n",
       "\n",
       "\n"
      ],
      "text/plain": [
       "[1] \"data\"       \"counts\"     \"scale.data\""
      ]
     },
     "metadata": {},
     "output_type": "display_data"
    },
    {
     "name": "stderr",
     "output_type": "stream",
     "text": [
      "Splitting ‘counts’, ‘data’ layers. Not splitting ‘scale.data’. If you would like to split other layers, set in `layers` argument.\n",
      "\n"
     ]
    },
    {
     "data": {
      "text/html": [
       "<style>\n",
       ".list-inline {list-style: none; margin:0; padding: 0}\n",
       ".list-inline>li {display: inline-block}\n",
       ".list-inline>li:not(:last-child)::after {content: \"\\00b7\"; padding: 0 .5ex}\n",
       "</style>\n",
       "<ol class=list-inline><li>'data.GSE200218_MBM01'</li><li>'data.GSE200218_MBM02'</li><li>'data.GSE200218_MBM03'</li><li>'data.GSE200218_MBM04'</li><li>'data.GSE200218_MBM05'</li><li>'scale.data'</li><li>'counts.GSE200218_MBM01'</li><li>'counts.GSE200218_MBM02'</li><li>'counts.GSE200218_MBM03'</li><li>'counts.GSE200218_MBM04'</li><li>'counts.GSE200218_MBM05'</li></ol>\n"
      ],
      "text/latex": [
       "\\begin{enumerate*}\n",
       "\\item 'data.GSE200218\\_MBM01'\n",
       "\\item 'data.GSE200218\\_MBM02'\n",
       "\\item 'data.GSE200218\\_MBM03'\n",
       "\\item 'data.GSE200218\\_MBM04'\n",
       "\\item 'data.GSE200218\\_MBM05'\n",
       "\\item 'scale.data'\n",
       "\\item 'counts.GSE200218\\_MBM01'\n",
       "\\item 'counts.GSE200218\\_MBM02'\n",
       "\\item 'counts.GSE200218\\_MBM03'\n",
       "\\item 'counts.GSE200218\\_MBM04'\n",
       "\\item 'counts.GSE200218\\_MBM05'\n",
       "\\end{enumerate*}\n"
      ],
      "text/markdown": [
       "1. 'data.GSE200218_MBM01'\n",
       "2. 'data.GSE200218_MBM02'\n",
       "3. 'data.GSE200218_MBM03'\n",
       "4. 'data.GSE200218_MBM04'\n",
       "5. 'data.GSE200218_MBM05'\n",
       "6. 'scale.data'\n",
       "7. 'counts.GSE200218_MBM01'\n",
       "8. 'counts.GSE200218_MBM02'\n",
       "9. 'counts.GSE200218_MBM03'\n",
       "10. 'counts.GSE200218_MBM04'\n",
       "11. 'counts.GSE200218_MBM05'\n",
       "\n",
       "\n"
      ],
      "text/plain": [
       " [1] \"data.GSE200218_MBM01\"   \"data.GSE200218_MBM02\"   \"data.GSE200218_MBM03\"  \n",
       " [4] \"data.GSE200218_MBM04\"   \"data.GSE200218_MBM05\"   \"scale.data\"            \n",
       " [7] \"counts.GSE200218_MBM01\" \"counts.GSE200218_MBM02\" \"counts.GSE200218_MBM03\"\n",
       "[10] \"counts.GSE200218_MBM04\" \"counts.GSE200218_MBM05\""
      ]
     },
     "metadata": {},
     "output_type": "display_data"
    }
   ],
   "source": [
    "#join layers and then split them by integration_id\n",
    "Layers(MEL[[\"RNA\"]])\n",
    "#join layers\n",
    "MEL[[\"RNA\"]] <- JoinLayers(MEL[[\"RNA\"]])\n",
    "Layers(MEL[[\"RNA\"]])\n",
    "#split layers\n",
    "MEL[[\"RNA\"]] <- split(MEL[[\"RNA\"]], f = MEL$integration_id)\n",
    "Layers(MEL[[\"RNA\"]])\n"
   ]
  },
  {
   "cell_type": "code",
   "execution_count": 132,
   "metadata": {
    "vscode": {
     "languageId": "r"
    }
   },
   "outputs": [
    {
     "data": {
      "text/plain": [
       "An object of class Seurat \n",
       "36601 features across 10371 samples within 1 assay \n",
       "Active assay: RNA (36601 features, 2000 variable features)\n",
       " 11 layers present: data.GSE200218_MBM01, data.GSE200218_MBM02, data.GSE200218_MBM03, data.GSE200218_MBM04, data.GSE200218_MBM05, scale.data, counts.GSE200218_MBM01, counts.GSE200218_MBM02, counts.GSE200218_MBM03, counts.GSE200218_MBM04, counts.GSE200218_MBM05\n",
       " 2 dimensional reductions calculated: pca, umap"
      ]
     },
     "metadata": {},
     "output_type": "display_data"
    },
    {
     "data": {
      "text/html": [
       "'GSE200218'"
      ],
      "text/latex": [
       "'GSE200218'"
      ],
      "text/markdown": [
       "'GSE200218'"
      ],
      "text/plain": [
       "[1] \"GSE200218\""
      ]
     },
     "metadata": {},
     "output_type": "display_data"
    },
    {
     "data": {
      "text/html": [
       "<table class=\"dataframe\">\n",
       "<caption>A data.frame: 6 × 14</caption>\n",
       "<thead>\n",
       "\t<tr><th></th><th scope=col>orig.ident</th><th scope=col>nCount_RNA</th><th scope=col>nFeature_RNA</th><th scope=col>sample_type</th><th scope=col>cancer_type</th><th scope=col>patient_id</th><th scope=col>sample_id</th><th scope=col>percent.mt</th><th scope=col>RNA_snn_res.0.2</th><th scope=col>seurat_clusters</th><th scope=col>site</th><th scope=col>sample_type_major</th><th scope=col>cancer_subtype</th><th scope=col>integration_id</th></tr>\n",
       "\t<tr><th></th><th scope=col>&lt;chr&gt;</th><th scope=col>&lt;dbl&gt;</th><th scope=col>&lt;int&gt;</th><th scope=col>&lt;chr&gt;</th><th scope=col>&lt;chr&gt;</th><th scope=col>&lt;chr&gt;</th><th scope=col>&lt;chr&gt;</th><th scope=col>&lt;dbl&gt;</th><th scope=col>&lt;fct&gt;</th><th scope=col>&lt;fct&gt;</th><th scope=col>&lt;chr&gt;</th><th scope=col>&lt;chr&gt;</th><th scope=col>&lt;chr&gt;</th><th scope=col>&lt;chr&gt;</th></tr>\n",
       "</thead>\n",
       "<tbody>\n",
       "\t<tr><th scope=row>GSE200218_MBM01_AAACCTGAGCTGCAAG-1</th><td>GSE200218</td><td>15791</td><td>4063</td><td>metastasis</td><td>melanoma brain mets</td><td>MBM01</td><td>GSE200218_MBM01</td><td>4.439238</td><td>0</td><td>0</td><td>brain</td><td>metastatic tumour</td><td>Melanoma</td><td>GSE200218_MBM01</td></tr>\n",
       "\t<tr><th scope=row>GSE200218_MBM01_AAACCTGCAATCGGTT-1</th><td>GSE200218</td><td>29993</td><td>5932</td><td>metastasis</td><td>melanoma brain mets</td><td>MBM01</td><td>GSE200218_MBM01</td><td>3.270763</td><td>2</td><td>2</td><td>brain</td><td>metastatic tumour</td><td>Melanoma</td><td>GSE200218_MBM01</td></tr>\n",
       "\t<tr><th scope=row>GSE200218_MBM01_AAACCTGGTACTTGAC-1</th><td>GSE200218</td><td>21267</td><td>5177</td><td>metastasis</td><td>melanoma brain mets</td><td>MBM01</td><td>GSE200218_MBM01</td><td>3.282080</td><td>7</td><td>7</td><td>brain</td><td>metastatic tumour</td><td>Melanoma</td><td>GSE200218_MBM01</td></tr>\n",
       "\t<tr><th scope=row>GSE200218_MBM01_AAACCTGGTTAAGATG-1</th><td>GSE200218</td><td>25744</td><td>5563</td><td>metastasis</td><td>melanoma brain mets</td><td>MBM01</td><td>GSE200218_MBM01</td><td>3.899938</td><td>0</td><td>0</td><td>brain</td><td>metastatic tumour</td><td>Melanoma</td><td>GSE200218_MBM01</td></tr>\n",
       "\t<tr><th scope=row>GSE200218_MBM01_AAACCTGTCACGGTTA-1</th><td>GSE200218</td><td>14369</td><td>3779</td><td>metastasis</td><td>melanoma brain mets</td><td>MBM01</td><td>GSE200218_MBM01</td><td>3.257012</td><td>0</td><td>0</td><td>brain</td><td>metastatic tumour</td><td>Melanoma</td><td>GSE200218_MBM01</td></tr>\n",
       "\t<tr><th scope=row>GSE200218_MBM01_AAACCTGTCCGCATCT-1</th><td>GSE200218</td><td> 3921</td><td>2039</td><td>metastasis</td><td>melanoma brain mets</td><td>MBM01</td><td>GSE200218_MBM01</td><td>4.412140</td><td>0</td><td>0</td><td>brain</td><td>metastatic tumour</td><td>Melanoma</td><td>GSE200218_MBM01</td></tr>\n",
       "</tbody>\n",
       "</table>\n"
      ],
      "text/latex": [
       "A data.frame: 6 × 14\n",
       "\\begin{tabular}{r|llllllllllllll}\n",
       "  & orig.ident & nCount\\_RNA & nFeature\\_RNA & sample\\_type & cancer\\_type & patient\\_id & sample\\_id & percent.mt & RNA\\_snn\\_res.0.2 & seurat\\_clusters & site & sample\\_type\\_major & cancer\\_subtype & integration\\_id\\\\\n",
       "  & <chr> & <dbl> & <int> & <chr> & <chr> & <chr> & <chr> & <dbl> & <fct> & <fct> & <chr> & <chr> & <chr> & <chr>\\\\\n",
       "\\hline\n",
       "\tGSE200218\\_MBM01\\_AAACCTGAGCTGCAAG-1 & GSE200218 & 15791 & 4063 & metastasis & melanoma brain mets & MBM01 & GSE200218\\_MBM01 & 4.439238 & 0 & 0 & brain & metastatic tumour & Melanoma & GSE200218\\_MBM01\\\\\n",
       "\tGSE200218\\_MBM01\\_AAACCTGCAATCGGTT-1 & GSE200218 & 29993 & 5932 & metastasis & melanoma brain mets & MBM01 & GSE200218\\_MBM01 & 3.270763 & 2 & 2 & brain & metastatic tumour & Melanoma & GSE200218\\_MBM01\\\\\n",
       "\tGSE200218\\_MBM01\\_AAACCTGGTACTTGAC-1 & GSE200218 & 21267 & 5177 & metastasis & melanoma brain mets & MBM01 & GSE200218\\_MBM01 & 3.282080 & 7 & 7 & brain & metastatic tumour & Melanoma & GSE200218\\_MBM01\\\\\n",
       "\tGSE200218\\_MBM01\\_AAACCTGGTTAAGATG-1 & GSE200218 & 25744 & 5563 & metastasis & melanoma brain mets & MBM01 & GSE200218\\_MBM01 & 3.899938 & 0 & 0 & brain & metastatic tumour & Melanoma & GSE200218\\_MBM01\\\\\n",
       "\tGSE200218\\_MBM01\\_AAACCTGTCACGGTTA-1 & GSE200218 & 14369 & 3779 & metastasis & melanoma brain mets & MBM01 & GSE200218\\_MBM01 & 3.257012 & 0 & 0 & brain & metastatic tumour & Melanoma & GSE200218\\_MBM01\\\\\n",
       "\tGSE200218\\_MBM01\\_AAACCTGTCCGCATCT-1 & GSE200218 &  3921 & 2039 & metastasis & melanoma brain mets & MBM01 & GSE200218\\_MBM01 & 4.412140 & 0 & 0 & brain & metastatic tumour & Melanoma & GSE200218\\_MBM01\\\\\n",
       "\\end{tabular}\n"
      ],
      "text/markdown": [
       "\n",
       "A data.frame: 6 × 14\n",
       "\n",
       "| <!--/--> | orig.ident &lt;chr&gt; | nCount_RNA &lt;dbl&gt; | nFeature_RNA &lt;int&gt; | sample_type &lt;chr&gt; | cancer_type &lt;chr&gt; | patient_id &lt;chr&gt; | sample_id &lt;chr&gt; | percent.mt &lt;dbl&gt; | RNA_snn_res.0.2 &lt;fct&gt; | seurat_clusters &lt;fct&gt; | site &lt;chr&gt; | sample_type_major &lt;chr&gt; | cancer_subtype &lt;chr&gt; | integration_id &lt;chr&gt; |\n",
       "|---|---|---|---|---|---|---|---|---|---|---|---|---|---|---|\n",
       "| GSE200218_MBM01_AAACCTGAGCTGCAAG-1 | GSE200218 | 15791 | 4063 | metastasis | melanoma brain mets | MBM01 | GSE200218_MBM01 | 4.439238 | 0 | 0 | brain | metastatic tumour | Melanoma | GSE200218_MBM01 |\n",
       "| GSE200218_MBM01_AAACCTGCAATCGGTT-1 | GSE200218 | 29993 | 5932 | metastasis | melanoma brain mets | MBM01 | GSE200218_MBM01 | 3.270763 | 2 | 2 | brain | metastatic tumour | Melanoma | GSE200218_MBM01 |\n",
       "| GSE200218_MBM01_AAACCTGGTACTTGAC-1 | GSE200218 | 21267 | 5177 | metastasis | melanoma brain mets | MBM01 | GSE200218_MBM01 | 3.282080 | 7 | 7 | brain | metastatic tumour | Melanoma | GSE200218_MBM01 |\n",
       "| GSE200218_MBM01_AAACCTGGTTAAGATG-1 | GSE200218 | 25744 | 5563 | metastasis | melanoma brain mets | MBM01 | GSE200218_MBM01 | 3.899938 | 0 | 0 | brain | metastatic tumour | Melanoma | GSE200218_MBM01 |\n",
       "| GSE200218_MBM01_AAACCTGTCACGGTTA-1 | GSE200218 | 14369 | 3779 | metastasis | melanoma brain mets | MBM01 | GSE200218_MBM01 | 3.257012 | 0 | 0 | brain | metastatic tumour | Melanoma | GSE200218_MBM01 |\n",
       "| GSE200218_MBM01_AAACCTGTCCGCATCT-1 | GSE200218 |  3921 | 2039 | metastasis | melanoma brain mets | MBM01 | GSE200218_MBM01 | 4.412140 | 0 | 0 | brain | metastatic tumour | Melanoma | GSE200218_MBM01 |\n",
       "\n"
      ],
      "text/plain": [
       "                                   orig.ident nCount_RNA nFeature_RNA\n",
       "GSE200218_MBM01_AAACCTGAGCTGCAAG-1 GSE200218  15791      4063        \n",
       "GSE200218_MBM01_AAACCTGCAATCGGTT-1 GSE200218  29993      5932        \n",
       "GSE200218_MBM01_AAACCTGGTACTTGAC-1 GSE200218  21267      5177        \n",
       "GSE200218_MBM01_AAACCTGGTTAAGATG-1 GSE200218  25744      5563        \n",
       "GSE200218_MBM01_AAACCTGTCACGGTTA-1 GSE200218  14369      3779        \n",
       "GSE200218_MBM01_AAACCTGTCCGCATCT-1 GSE200218   3921      2039        \n",
       "                                   sample_type cancer_type         patient_id\n",
       "GSE200218_MBM01_AAACCTGAGCTGCAAG-1 metastasis  melanoma brain mets MBM01     \n",
       "GSE200218_MBM01_AAACCTGCAATCGGTT-1 metastasis  melanoma brain mets MBM01     \n",
       "GSE200218_MBM01_AAACCTGGTACTTGAC-1 metastasis  melanoma brain mets MBM01     \n",
       "GSE200218_MBM01_AAACCTGGTTAAGATG-1 metastasis  melanoma brain mets MBM01     \n",
       "GSE200218_MBM01_AAACCTGTCACGGTTA-1 metastasis  melanoma brain mets MBM01     \n",
       "GSE200218_MBM01_AAACCTGTCCGCATCT-1 metastasis  melanoma brain mets MBM01     \n",
       "                                   sample_id       percent.mt RNA_snn_res.0.2\n",
       "GSE200218_MBM01_AAACCTGAGCTGCAAG-1 GSE200218_MBM01 4.439238   0              \n",
       "GSE200218_MBM01_AAACCTGCAATCGGTT-1 GSE200218_MBM01 3.270763   2              \n",
       "GSE200218_MBM01_AAACCTGGTACTTGAC-1 GSE200218_MBM01 3.282080   7              \n",
       "GSE200218_MBM01_AAACCTGGTTAAGATG-1 GSE200218_MBM01 3.899938   0              \n",
       "GSE200218_MBM01_AAACCTGTCACGGTTA-1 GSE200218_MBM01 3.257012   0              \n",
       "GSE200218_MBM01_AAACCTGTCCGCATCT-1 GSE200218_MBM01 4.412140   0              \n",
       "                                   seurat_clusters site  sample_type_major\n",
       "GSE200218_MBM01_AAACCTGAGCTGCAAG-1 0               brain metastatic tumour\n",
       "GSE200218_MBM01_AAACCTGCAATCGGTT-1 2               brain metastatic tumour\n",
       "GSE200218_MBM01_AAACCTGGTACTTGAC-1 7               brain metastatic tumour\n",
       "GSE200218_MBM01_AAACCTGGTTAAGATG-1 0               brain metastatic tumour\n",
       "GSE200218_MBM01_AAACCTGTCACGGTTA-1 0               brain metastatic tumour\n",
       "GSE200218_MBM01_AAACCTGTCCGCATCT-1 0               brain metastatic tumour\n",
       "                                   cancer_subtype integration_id \n",
       "GSE200218_MBM01_AAACCTGAGCTGCAAG-1 Melanoma       GSE200218_MBM01\n",
       "GSE200218_MBM01_AAACCTGCAATCGGTT-1 Melanoma       GSE200218_MBM01\n",
       "GSE200218_MBM01_AAACCTGGTACTTGAC-1 Melanoma       GSE200218_MBM01\n",
       "GSE200218_MBM01_AAACCTGGTTAAGATG-1 Melanoma       GSE200218_MBM01\n",
       "GSE200218_MBM01_AAACCTGTCACGGTTA-1 Melanoma       GSE200218_MBM01\n",
       "GSE200218_MBM01_AAACCTGTCCGCATCT-1 Melanoma       GSE200218_MBM01"
      ]
     },
     "metadata": {},
     "output_type": "display_data"
    },
    {
     "data": {
      "text/html": [
       "<table class=\"dataframe\">\n",
       "<caption>A data.frame: 6 × 14</caption>\n",
       "<thead>\n",
       "\t<tr><th></th><th scope=col>orig.ident</th><th scope=col>nCount_RNA</th><th scope=col>nFeature_RNA</th><th scope=col>sample_type</th><th scope=col>cancer_type</th><th scope=col>patient_id</th><th scope=col>sample_id</th><th scope=col>percent.mt</th><th scope=col>RNA_snn_res.0.2</th><th scope=col>seurat_clusters</th><th scope=col>site</th><th scope=col>sample_type_major</th><th scope=col>cancer_subtype</th><th scope=col>integration_id</th></tr>\n",
       "\t<tr><th></th><th scope=col>&lt;chr&gt;</th><th scope=col>&lt;dbl&gt;</th><th scope=col>&lt;int&gt;</th><th scope=col>&lt;chr&gt;</th><th scope=col>&lt;chr&gt;</th><th scope=col>&lt;chr&gt;</th><th scope=col>&lt;chr&gt;</th><th scope=col>&lt;dbl&gt;</th><th scope=col>&lt;fct&gt;</th><th scope=col>&lt;fct&gt;</th><th scope=col>&lt;chr&gt;</th><th scope=col>&lt;chr&gt;</th><th scope=col>&lt;chr&gt;</th><th scope=col>&lt;chr&gt;</th></tr>\n",
       "</thead>\n",
       "<tbody>\n",
       "\t<tr><th scope=row>GSE200218_MBM05_TTTGCGCTCATGCTCC-1</th><td>GSE200218</td><td> 9728</td><td>2563</td><td>metastasis</td><td>melanoma brain mets</td><td>MBM05</td><td>GSE200218_MBM05</td><td> 9.477796</td><td>0</td><td>0</td><td>brain</td><td>metastatic tumour</td><td>Melanoma</td><td>GSE200218_MBM05</td></tr>\n",
       "\t<tr><th scope=row>GSE200218_MBM05_TTTGCGCTCCTCGCAT-1</th><td>GSE200218</td><td>13511</td><td>3309</td><td>metastasis</td><td>melanoma brain mets</td><td>MBM05</td><td>GSE200218_MBM05</td><td> 3.449042</td><td>2</td><td>2</td><td>brain</td><td>metastatic tumour</td><td>Melanoma</td><td>GSE200218_MBM05</td></tr>\n",
       "\t<tr><th scope=row>GSE200218_MBM05_TTTGGTTTCTCTAAGG-1</th><td>GSE200218</td><td>15440</td><td>3540</td><td>metastasis</td><td>melanoma brain mets</td><td>MBM05</td><td>GSE200218_MBM05</td><td> 4.410622</td><td>2</td><td>2</td><td>brain</td><td>metastatic tumour</td><td>Melanoma</td><td>GSE200218_MBM05</td></tr>\n",
       "\t<tr><th scope=row>GSE200218_MBM05_TTTGTCAAGATGGCGT-1</th><td>GSE200218</td><td>10913</td><td>2889</td><td>metastasis</td><td>melanoma brain mets</td><td>MBM05</td><td>GSE200218_MBM05</td><td> 4.370934</td><td>2</td><td>2</td><td>brain</td><td>metastatic tumour</td><td>Melanoma</td><td>GSE200218_MBM05</td></tr>\n",
       "\t<tr><th scope=row>GSE200218_MBM05_TTTGTCAAGTTAGGTA-1</th><td>GSE200218</td><td> 5539</td><td>2048</td><td>metastasis</td><td>melanoma brain mets</td><td>MBM05</td><td>GSE200218_MBM05</td><td> 5.361979</td><td>0</td><td>0</td><td>brain</td><td>metastatic tumour</td><td>Melanoma</td><td>GSE200218_MBM05</td></tr>\n",
       "\t<tr><th scope=row>GSE200218_MBM05_TTTGTCATCTTGGGTA-1</th><td>GSE200218</td><td> 1780</td><td>1076</td><td>metastasis</td><td>melanoma brain mets</td><td>MBM05</td><td>GSE200218_MBM05</td><td>10.561798</td><td>7</td><td>7</td><td>brain</td><td>metastatic tumour</td><td>Melanoma</td><td>GSE200218_MBM05</td></tr>\n",
       "</tbody>\n",
       "</table>\n"
      ],
      "text/latex": [
       "A data.frame: 6 × 14\n",
       "\\begin{tabular}{r|llllllllllllll}\n",
       "  & orig.ident & nCount\\_RNA & nFeature\\_RNA & sample\\_type & cancer\\_type & patient\\_id & sample\\_id & percent.mt & RNA\\_snn\\_res.0.2 & seurat\\_clusters & site & sample\\_type\\_major & cancer\\_subtype & integration\\_id\\\\\n",
       "  & <chr> & <dbl> & <int> & <chr> & <chr> & <chr> & <chr> & <dbl> & <fct> & <fct> & <chr> & <chr> & <chr> & <chr>\\\\\n",
       "\\hline\n",
       "\tGSE200218\\_MBM05\\_TTTGCGCTCATGCTCC-1 & GSE200218 &  9728 & 2563 & metastasis & melanoma brain mets & MBM05 & GSE200218\\_MBM05 &  9.477796 & 0 & 0 & brain & metastatic tumour & Melanoma & GSE200218\\_MBM05\\\\\n",
       "\tGSE200218\\_MBM05\\_TTTGCGCTCCTCGCAT-1 & GSE200218 & 13511 & 3309 & metastasis & melanoma brain mets & MBM05 & GSE200218\\_MBM05 &  3.449042 & 2 & 2 & brain & metastatic tumour & Melanoma & GSE200218\\_MBM05\\\\\n",
       "\tGSE200218\\_MBM05\\_TTTGGTTTCTCTAAGG-1 & GSE200218 & 15440 & 3540 & metastasis & melanoma brain mets & MBM05 & GSE200218\\_MBM05 &  4.410622 & 2 & 2 & brain & metastatic tumour & Melanoma & GSE200218\\_MBM05\\\\\n",
       "\tGSE200218\\_MBM05\\_TTTGTCAAGATGGCGT-1 & GSE200218 & 10913 & 2889 & metastasis & melanoma brain mets & MBM05 & GSE200218\\_MBM05 &  4.370934 & 2 & 2 & brain & metastatic tumour & Melanoma & GSE200218\\_MBM05\\\\\n",
       "\tGSE200218\\_MBM05\\_TTTGTCAAGTTAGGTA-1 & GSE200218 &  5539 & 2048 & metastasis & melanoma brain mets & MBM05 & GSE200218\\_MBM05 &  5.361979 & 0 & 0 & brain & metastatic tumour & Melanoma & GSE200218\\_MBM05\\\\\n",
       "\tGSE200218\\_MBM05\\_TTTGTCATCTTGGGTA-1 & GSE200218 &  1780 & 1076 & metastasis & melanoma brain mets & MBM05 & GSE200218\\_MBM05 & 10.561798 & 7 & 7 & brain & metastatic tumour & Melanoma & GSE200218\\_MBM05\\\\\n",
       "\\end{tabular}\n"
      ],
      "text/markdown": [
       "\n",
       "A data.frame: 6 × 14\n",
       "\n",
       "| <!--/--> | orig.ident &lt;chr&gt; | nCount_RNA &lt;dbl&gt; | nFeature_RNA &lt;int&gt; | sample_type &lt;chr&gt; | cancer_type &lt;chr&gt; | patient_id &lt;chr&gt; | sample_id &lt;chr&gt; | percent.mt &lt;dbl&gt; | RNA_snn_res.0.2 &lt;fct&gt; | seurat_clusters &lt;fct&gt; | site &lt;chr&gt; | sample_type_major &lt;chr&gt; | cancer_subtype &lt;chr&gt; | integration_id &lt;chr&gt; |\n",
       "|---|---|---|---|---|---|---|---|---|---|---|---|---|---|---|\n",
       "| GSE200218_MBM05_TTTGCGCTCATGCTCC-1 | GSE200218 |  9728 | 2563 | metastasis | melanoma brain mets | MBM05 | GSE200218_MBM05 |  9.477796 | 0 | 0 | brain | metastatic tumour | Melanoma | GSE200218_MBM05 |\n",
       "| GSE200218_MBM05_TTTGCGCTCCTCGCAT-1 | GSE200218 | 13511 | 3309 | metastasis | melanoma brain mets | MBM05 | GSE200218_MBM05 |  3.449042 | 2 | 2 | brain | metastatic tumour | Melanoma | GSE200218_MBM05 |\n",
       "| GSE200218_MBM05_TTTGGTTTCTCTAAGG-1 | GSE200218 | 15440 | 3540 | metastasis | melanoma brain mets | MBM05 | GSE200218_MBM05 |  4.410622 | 2 | 2 | brain | metastatic tumour | Melanoma | GSE200218_MBM05 |\n",
       "| GSE200218_MBM05_TTTGTCAAGATGGCGT-1 | GSE200218 | 10913 | 2889 | metastasis | melanoma brain mets | MBM05 | GSE200218_MBM05 |  4.370934 | 2 | 2 | brain | metastatic tumour | Melanoma | GSE200218_MBM05 |\n",
       "| GSE200218_MBM05_TTTGTCAAGTTAGGTA-1 | GSE200218 |  5539 | 2048 | metastasis | melanoma brain mets | MBM05 | GSE200218_MBM05 |  5.361979 | 0 | 0 | brain | metastatic tumour | Melanoma | GSE200218_MBM05 |\n",
       "| GSE200218_MBM05_TTTGTCATCTTGGGTA-1 | GSE200218 |  1780 | 1076 | metastasis | melanoma brain mets | MBM05 | GSE200218_MBM05 | 10.561798 | 7 | 7 | brain | metastatic tumour | Melanoma | GSE200218_MBM05 |\n",
       "\n"
      ],
      "text/plain": [
       "                                   orig.ident nCount_RNA nFeature_RNA\n",
       "GSE200218_MBM05_TTTGCGCTCATGCTCC-1 GSE200218   9728      2563        \n",
       "GSE200218_MBM05_TTTGCGCTCCTCGCAT-1 GSE200218  13511      3309        \n",
       "GSE200218_MBM05_TTTGGTTTCTCTAAGG-1 GSE200218  15440      3540        \n",
       "GSE200218_MBM05_TTTGTCAAGATGGCGT-1 GSE200218  10913      2889        \n",
       "GSE200218_MBM05_TTTGTCAAGTTAGGTA-1 GSE200218   5539      2048        \n",
       "GSE200218_MBM05_TTTGTCATCTTGGGTA-1 GSE200218   1780      1076        \n",
       "                                   sample_type cancer_type         patient_id\n",
       "GSE200218_MBM05_TTTGCGCTCATGCTCC-1 metastasis  melanoma brain mets MBM05     \n",
       "GSE200218_MBM05_TTTGCGCTCCTCGCAT-1 metastasis  melanoma brain mets MBM05     \n",
       "GSE200218_MBM05_TTTGGTTTCTCTAAGG-1 metastasis  melanoma brain mets MBM05     \n",
       "GSE200218_MBM05_TTTGTCAAGATGGCGT-1 metastasis  melanoma brain mets MBM05     \n",
       "GSE200218_MBM05_TTTGTCAAGTTAGGTA-1 metastasis  melanoma brain mets MBM05     \n",
       "GSE200218_MBM05_TTTGTCATCTTGGGTA-1 metastasis  melanoma brain mets MBM05     \n",
       "                                   sample_id       percent.mt RNA_snn_res.0.2\n",
       "GSE200218_MBM05_TTTGCGCTCATGCTCC-1 GSE200218_MBM05  9.477796  0              \n",
       "GSE200218_MBM05_TTTGCGCTCCTCGCAT-1 GSE200218_MBM05  3.449042  2              \n",
       "GSE200218_MBM05_TTTGGTTTCTCTAAGG-1 GSE200218_MBM05  4.410622  2              \n",
       "GSE200218_MBM05_TTTGTCAAGATGGCGT-1 GSE200218_MBM05  4.370934  2              \n",
       "GSE200218_MBM05_TTTGTCAAGTTAGGTA-1 GSE200218_MBM05  5.361979  0              \n",
       "GSE200218_MBM05_TTTGTCATCTTGGGTA-1 GSE200218_MBM05 10.561798  7              \n",
       "                                   seurat_clusters site  sample_type_major\n",
       "GSE200218_MBM05_TTTGCGCTCATGCTCC-1 0               brain metastatic tumour\n",
       "GSE200218_MBM05_TTTGCGCTCCTCGCAT-1 2               brain metastatic tumour\n",
       "GSE200218_MBM05_TTTGGTTTCTCTAAGG-1 2               brain metastatic tumour\n",
       "GSE200218_MBM05_TTTGTCAAGATGGCGT-1 2               brain metastatic tumour\n",
       "GSE200218_MBM05_TTTGTCAAGTTAGGTA-1 0               brain metastatic tumour\n",
       "GSE200218_MBM05_TTTGTCATCTTGGGTA-1 7               brain metastatic tumour\n",
       "                                   cancer_subtype integration_id \n",
       "GSE200218_MBM05_TTTGCGCTCATGCTCC-1 Melanoma       GSE200218_MBM05\n",
       "GSE200218_MBM05_TTTGCGCTCCTCGCAT-1 Melanoma       GSE200218_MBM05\n",
       "GSE200218_MBM05_TTTGGTTTCTCTAAGG-1 Melanoma       GSE200218_MBM05\n",
       "GSE200218_MBM05_TTTGTCAAGATGGCGT-1 Melanoma       GSE200218_MBM05\n",
       "GSE200218_MBM05_TTTGTCAAGTTAGGTA-1 Melanoma       GSE200218_MBM05\n",
       "GSE200218_MBM05_TTTGTCATCTTGGGTA-1 Melanoma       GSE200218_MBM05"
      ]
     },
     "metadata": {},
     "output_type": "display_data"
    },
    {
     "data": {
      "text/plain": [
       "\n",
       "GSE200218_MBM01 GSE200218_MBM02 GSE200218_MBM03 GSE200218_MBM04 GSE200218_MBM05 \n",
       "           1411            2035            1945            3143            1837 "
      ]
     },
     "metadata": {},
     "output_type": "display_data"
    }
   ],
   "source": [
    "#record number of cells\n",
    "MEL\n",
    "MEL@project.name\n",
    "head(MEL@meta.data)\n",
    "tail(MEL@meta.data)\n",
    "table(MEL$integration_id)"
   ]
  },
  {
   "cell_type": "code",
   "execution_count": 134,
   "metadata": {
    "vscode": {
     "languageId": "r"
    }
   },
   "outputs": [],
   "source": [
    "#re-export seurat object ready for integration\n",
    "saveRDS(MEL, \"/scratch/user/s4436039/scdata/Myeloid_Cells/Myeloid_Cells_Integrate/GSE200218_myeloid_int.RDS\")"
   ]
  },
  {
   "cell_type": "code",
   "execution_count": 135,
   "metadata": {
    "vscode": {
     "languageId": "r"
    }
   },
   "outputs": [],
   "source": [
    "#remove all objects in R\n",
    "rm(list = ls())"
   ]
  },
  {
   "cell_type": "markdown",
   "metadata": {},
   "source": [
    "## GSE215120"
   ]
  },
  {
   "cell_type": "code",
   "execution_count": 136,
   "metadata": {
    "vscode": {
     "languageId": "r"
    }
   },
   "outputs": [],
   "source": [
    "MEL_Ac <- readRDS(\"/scratch/user/s4436039/scdata/Myeloid_Cells/GSE215120_AcMEL_myeloid.RDS\")\n",
    "MEL_Cu <- readRDS(\"/scratch/user/s4436039/scdata/Myeloid_Cells/GSE215120_CuMEL_myeloid.RDS\")"
   ]
  },
  {
   "cell_type": "code",
   "execution_count": 137,
   "metadata": {
    "vscode": {
     "languageId": "r"
    }
   },
   "outputs": [
    {
     "data": {
      "text/plain": [
       "An object of class Seurat \n",
       "33538 features across 787 samples within 1 assay \n",
       "Active assay: RNA (33538 features, 2000 variable features)\n",
       " 13 layers present: counts.1, counts.2, counts.3, counts.4, counts.5, counts.6, data.1, data.2, data.3, data.4, data.5, data.6, scale.data\n",
       " 2 dimensional reductions calculated: pca, umap"
      ]
     },
     "metadata": {},
     "output_type": "display_data"
    },
    {
     "data": {
      "text/html": [
       "'GSE215120'"
      ],
      "text/latex": [
       "'GSE215120'"
      ],
      "text/markdown": [
       "'GSE215120'"
      ],
      "text/plain": [
       "[1] \"GSE215120\""
      ]
     },
     "metadata": {},
     "output_type": "display_data"
    },
    {
     "data": {
      "text/html": [
       "<table class=\"dataframe\">\n",
       "<caption>A data.frame: 6 × 10</caption>\n",
       "<thead>\n",
       "\t<tr><th></th><th scope=col>orig.ident</th><th scope=col>nCount_RNA</th><th scope=col>nFeature_RNA</th><th scope=col>sample_type</th><th scope=col>cancer_type</th><th scope=col>patient_id</th><th scope=col>sample_id</th><th scope=col>percent.mt</th><th scope=col>RNA_snn_res.0.2</th><th scope=col>seurat_clusters</th></tr>\n",
       "\t<tr><th></th><th scope=col>&lt;chr&gt;</th><th scope=col>&lt;dbl&gt;</th><th scope=col>&lt;int&gt;</th><th scope=col>&lt;chr&gt;</th><th scope=col>&lt;chr&gt;</th><th scope=col>&lt;chr&gt;</th><th scope=col>&lt;chr&gt;</th><th scope=col>&lt;dbl&gt;</th><th scope=col>&lt;fct&gt;</th><th scope=col>&lt;fct&gt;</th></tr>\n",
       "</thead>\n",
       "<tbody>\n",
       "\t<tr><th scope=row>GSE215120_AM1_AAACCTGGTTGCTCCT-1</th><td>GSE215120</td><td>20298</td><td>3789</td><td>tumour</td><td>Acral Melanoma</td><td>AM1</td><td>GSE215120_Acral_MEL_AM1</td><td>0.9754656</td><td>12</td><td>12</td></tr>\n",
       "\t<tr><th scope=row>GSE215120_AM1_AAAGATGTCCAAATGC-1</th><td>GSE215120</td><td> 5574</td><td>1721</td><td>tumour</td><td>Acral Melanoma</td><td>AM1</td><td>GSE215120_Acral_MEL_AM1</td><td>6.0459275</td><td>12</td><td>12</td></tr>\n",
       "\t<tr><th scope=row>GSE215120_AM1_AAAGTAGTCGGTGTTA-1</th><td>GSE215120</td><td>13432</td><td>2759</td><td>tumour</td><td>Acral Melanoma</td><td>AM1</td><td>GSE215120_Acral_MEL_AM1</td><td>2.1515783</td><td>12</td><td>12</td></tr>\n",
       "\t<tr><th scope=row>GSE215120_AM1_AAATGCCCAGAGCCAA-1</th><td>GSE215120</td><td>17143</td><td>2659</td><td>tumour</td><td>Acral Melanoma</td><td>AM1</td><td>GSE215120_Acral_MEL_AM1</td><td>1.2249898</td><td>12</td><td>12</td></tr>\n",
       "\t<tr><th scope=row>GSE215120_AM1_AAATGCCGTTTGGCGC-1</th><td>GSE215120</td><td> 3603</td><td>1012</td><td>tumour</td><td>Acral Melanoma</td><td>AM1</td><td>GSE215120_Acral_MEL_AM1</td><td>3.6081044</td><td>12</td><td>12</td></tr>\n",
       "\t<tr><th scope=row>GSE215120_AM1_AAATGCCTCATGTCCC-1</th><td>GSE215120</td><td>14482</td><td>2882</td><td>tumour</td><td>Acral Melanoma</td><td>AM1</td><td>GSE215120_Acral_MEL_AM1</td><td>1.0357685</td><td>12</td><td>12</td></tr>\n",
       "</tbody>\n",
       "</table>\n"
      ],
      "text/latex": [
       "A data.frame: 6 × 10\n",
       "\\begin{tabular}{r|llllllllll}\n",
       "  & orig.ident & nCount\\_RNA & nFeature\\_RNA & sample\\_type & cancer\\_type & patient\\_id & sample\\_id & percent.mt & RNA\\_snn\\_res.0.2 & seurat\\_clusters\\\\\n",
       "  & <chr> & <dbl> & <int> & <chr> & <chr> & <chr> & <chr> & <dbl> & <fct> & <fct>\\\\\n",
       "\\hline\n",
       "\tGSE215120\\_AM1\\_AAACCTGGTTGCTCCT-1 & GSE215120 & 20298 & 3789 & tumour & Acral Melanoma & AM1 & GSE215120\\_Acral\\_MEL\\_AM1 & 0.9754656 & 12 & 12\\\\\n",
       "\tGSE215120\\_AM1\\_AAAGATGTCCAAATGC-1 & GSE215120 &  5574 & 1721 & tumour & Acral Melanoma & AM1 & GSE215120\\_Acral\\_MEL\\_AM1 & 6.0459275 & 12 & 12\\\\\n",
       "\tGSE215120\\_AM1\\_AAAGTAGTCGGTGTTA-1 & GSE215120 & 13432 & 2759 & tumour & Acral Melanoma & AM1 & GSE215120\\_Acral\\_MEL\\_AM1 & 2.1515783 & 12 & 12\\\\\n",
       "\tGSE215120\\_AM1\\_AAATGCCCAGAGCCAA-1 & GSE215120 & 17143 & 2659 & tumour & Acral Melanoma & AM1 & GSE215120\\_Acral\\_MEL\\_AM1 & 1.2249898 & 12 & 12\\\\\n",
       "\tGSE215120\\_AM1\\_AAATGCCGTTTGGCGC-1 & GSE215120 &  3603 & 1012 & tumour & Acral Melanoma & AM1 & GSE215120\\_Acral\\_MEL\\_AM1 & 3.6081044 & 12 & 12\\\\\n",
       "\tGSE215120\\_AM1\\_AAATGCCTCATGTCCC-1 & GSE215120 & 14482 & 2882 & tumour & Acral Melanoma & AM1 & GSE215120\\_Acral\\_MEL\\_AM1 & 1.0357685 & 12 & 12\\\\\n",
       "\\end{tabular}\n"
      ],
      "text/markdown": [
       "\n",
       "A data.frame: 6 × 10\n",
       "\n",
       "| <!--/--> | orig.ident &lt;chr&gt; | nCount_RNA &lt;dbl&gt; | nFeature_RNA &lt;int&gt; | sample_type &lt;chr&gt; | cancer_type &lt;chr&gt; | patient_id &lt;chr&gt; | sample_id &lt;chr&gt; | percent.mt &lt;dbl&gt; | RNA_snn_res.0.2 &lt;fct&gt; | seurat_clusters &lt;fct&gt; |\n",
       "|---|---|---|---|---|---|---|---|---|---|---|\n",
       "| GSE215120_AM1_AAACCTGGTTGCTCCT-1 | GSE215120 | 20298 | 3789 | tumour | Acral Melanoma | AM1 | GSE215120_Acral_MEL_AM1 | 0.9754656 | 12 | 12 |\n",
       "| GSE215120_AM1_AAAGATGTCCAAATGC-1 | GSE215120 |  5574 | 1721 | tumour | Acral Melanoma | AM1 | GSE215120_Acral_MEL_AM1 | 6.0459275 | 12 | 12 |\n",
       "| GSE215120_AM1_AAAGTAGTCGGTGTTA-1 | GSE215120 | 13432 | 2759 | tumour | Acral Melanoma | AM1 | GSE215120_Acral_MEL_AM1 | 2.1515783 | 12 | 12 |\n",
       "| GSE215120_AM1_AAATGCCCAGAGCCAA-1 | GSE215120 | 17143 | 2659 | tumour | Acral Melanoma | AM1 | GSE215120_Acral_MEL_AM1 | 1.2249898 | 12 | 12 |\n",
       "| GSE215120_AM1_AAATGCCGTTTGGCGC-1 | GSE215120 |  3603 | 1012 | tumour | Acral Melanoma | AM1 | GSE215120_Acral_MEL_AM1 | 3.6081044 | 12 | 12 |\n",
       "| GSE215120_AM1_AAATGCCTCATGTCCC-1 | GSE215120 | 14482 | 2882 | tumour | Acral Melanoma | AM1 | GSE215120_Acral_MEL_AM1 | 1.0357685 | 12 | 12 |\n",
       "\n"
      ],
      "text/plain": [
       "                                 orig.ident nCount_RNA nFeature_RNA sample_type\n",
       "GSE215120_AM1_AAACCTGGTTGCTCCT-1 GSE215120  20298      3789         tumour     \n",
       "GSE215120_AM1_AAAGATGTCCAAATGC-1 GSE215120   5574      1721         tumour     \n",
       "GSE215120_AM1_AAAGTAGTCGGTGTTA-1 GSE215120  13432      2759         tumour     \n",
       "GSE215120_AM1_AAATGCCCAGAGCCAA-1 GSE215120  17143      2659         tumour     \n",
       "GSE215120_AM1_AAATGCCGTTTGGCGC-1 GSE215120   3603      1012         tumour     \n",
       "GSE215120_AM1_AAATGCCTCATGTCCC-1 GSE215120  14482      2882         tumour     \n",
       "                                 cancer_type    patient_id\n",
       "GSE215120_AM1_AAACCTGGTTGCTCCT-1 Acral Melanoma AM1       \n",
       "GSE215120_AM1_AAAGATGTCCAAATGC-1 Acral Melanoma AM1       \n",
       "GSE215120_AM1_AAAGTAGTCGGTGTTA-1 Acral Melanoma AM1       \n",
       "GSE215120_AM1_AAATGCCCAGAGCCAA-1 Acral Melanoma AM1       \n",
       "GSE215120_AM1_AAATGCCGTTTGGCGC-1 Acral Melanoma AM1       \n",
       "GSE215120_AM1_AAATGCCTCATGTCCC-1 Acral Melanoma AM1       \n",
       "                                 sample_id               percent.mt\n",
       "GSE215120_AM1_AAACCTGGTTGCTCCT-1 GSE215120_Acral_MEL_AM1 0.9754656 \n",
       "GSE215120_AM1_AAAGATGTCCAAATGC-1 GSE215120_Acral_MEL_AM1 6.0459275 \n",
       "GSE215120_AM1_AAAGTAGTCGGTGTTA-1 GSE215120_Acral_MEL_AM1 2.1515783 \n",
       "GSE215120_AM1_AAATGCCCAGAGCCAA-1 GSE215120_Acral_MEL_AM1 1.2249898 \n",
       "GSE215120_AM1_AAATGCCGTTTGGCGC-1 GSE215120_Acral_MEL_AM1 3.6081044 \n",
       "GSE215120_AM1_AAATGCCTCATGTCCC-1 GSE215120_Acral_MEL_AM1 1.0357685 \n",
       "                                 RNA_snn_res.0.2 seurat_clusters\n",
       "GSE215120_AM1_AAACCTGGTTGCTCCT-1 12              12             \n",
       "GSE215120_AM1_AAAGATGTCCAAATGC-1 12              12             \n",
       "GSE215120_AM1_AAAGTAGTCGGTGTTA-1 12              12             \n",
       "GSE215120_AM1_AAATGCCCAGAGCCAA-1 12              12             \n",
       "GSE215120_AM1_AAATGCCGTTTGGCGC-1 12              12             \n",
       "GSE215120_AM1_AAATGCCTCATGTCCC-1 12              12             "
      ]
     },
     "metadata": {},
     "output_type": "display_data"
    },
    {
     "data": {
      "text/plain": [
       "An object of class Seurat \n",
       "33538 features across 427 samples within 1 assay \n",
       "Active assay: RNA (33538 features, 2000 variable features)\n",
       " 9 layers present: counts.1, counts.2, counts.3, counts.4, data.1, data.2, data.3, data.4, scale.data\n",
       " 2 dimensional reductions calculated: pca, umap"
      ]
     },
     "metadata": {},
     "output_type": "display_data"
    },
    {
     "data": {
      "text/html": [
       "'GSE215120'"
      ],
      "text/latex": [
       "'GSE215120'"
      ],
      "text/markdown": [
       "'GSE215120'"
      ],
      "text/plain": [
       "[1] \"GSE215120\""
      ]
     },
     "metadata": {},
     "output_type": "display_data"
    },
    {
     "data": {
      "text/html": [
       "<table class=\"dataframe\">\n",
       "<caption>A data.frame: 6 × 10</caption>\n",
       "<thead>\n",
       "\t<tr><th></th><th scope=col>orig.ident</th><th scope=col>nCount_RNA</th><th scope=col>nFeature_RNA</th><th scope=col>sample_type</th><th scope=col>cancer_type</th><th scope=col>patient_id</th><th scope=col>sample_id</th><th scope=col>percent.mt</th><th scope=col>RNA_snn_res.0.2</th><th scope=col>seurat_clusters</th></tr>\n",
       "\t<tr><th></th><th scope=col>&lt;chr&gt;</th><th scope=col>&lt;dbl&gt;</th><th scope=col>&lt;int&gt;</th><th scope=col>&lt;chr&gt;</th><th scope=col>&lt;chr&gt;</th><th scope=col>&lt;chr&gt;</th><th scope=col>&lt;chr&gt;</th><th scope=col>&lt;dbl&gt;</th><th scope=col>&lt;fct&gt;</th><th scope=col>&lt;fct&gt;</th></tr>\n",
       "</thead>\n",
       "<tbody>\n",
       "\t<tr><th scope=row>GSE215120_CM1_AAATGCCCATTACCTT-1</th><td>GSE215120</td><td> 7596</td><td>1914</td><td>tumour</td><td>Cutaneous Melanoma</td><td>CM1</td><td>GSE215120_Cut_MEL_CM1</td><td>3.1200632</td><td>11</td><td>11</td></tr>\n",
       "\t<tr><th scope=row>GSE215120_CM1_AACTCCCAGCCGATTT-1</th><td>GSE215120</td><td> 4828</td><td>1341</td><td>tumour</td><td>Cutaneous Melanoma</td><td>CM1</td><td>GSE215120_Cut_MEL_CM1</td><td>0.9113505</td><td>11</td><td>11</td></tr>\n",
       "\t<tr><th scope=row>GSE215120_CM1_AACTCCCTCGGCGCAT-1</th><td>GSE215120</td><td> 7064</td><td>1684</td><td>tumour</td><td>Cutaneous Melanoma</td><td>CM1</td><td>GSE215120_Cut_MEL_CM1</td><td>2.5622877</td><td>11</td><td>11</td></tr>\n",
       "\t<tr><th scope=row>GSE215120_CM1_AATCCAGTCAGGCCCA-1</th><td>GSE215120</td><td>10178</td><td>2223</td><td>tumour</td><td>Cutaneous Melanoma</td><td>CM1</td><td>GSE215120_Cut_MEL_CM1</td><td>2.0141482</td><td>11</td><td>11</td></tr>\n",
       "\t<tr><th scope=row>GSE215120_CM1_ACACCAAGTCTTCTCG-1</th><td>GSE215120</td><td> 5097</td><td>1378</td><td>tumour</td><td>Cutaneous Melanoma</td><td>CM1</td><td>GSE215120_Cut_MEL_CM1</td><td>0.3923877</td><td>11</td><td>11</td></tr>\n",
       "\t<tr><th scope=row>GSE215120_CM1_ACACCCTCAATACGCT-1</th><td>GSE215120</td><td> 7358</td><td>1667</td><td>tumour</td><td>Cutaneous Melanoma</td><td>CM1</td><td>GSE215120_Cut_MEL_CM1</td><td>2.1337320</td><td>11</td><td>11</td></tr>\n",
       "</tbody>\n",
       "</table>\n"
      ],
      "text/latex": [
       "A data.frame: 6 × 10\n",
       "\\begin{tabular}{r|llllllllll}\n",
       "  & orig.ident & nCount\\_RNA & nFeature\\_RNA & sample\\_type & cancer\\_type & patient\\_id & sample\\_id & percent.mt & RNA\\_snn\\_res.0.2 & seurat\\_clusters\\\\\n",
       "  & <chr> & <dbl> & <int> & <chr> & <chr> & <chr> & <chr> & <dbl> & <fct> & <fct>\\\\\n",
       "\\hline\n",
       "\tGSE215120\\_CM1\\_AAATGCCCATTACCTT-1 & GSE215120 &  7596 & 1914 & tumour & Cutaneous Melanoma & CM1 & GSE215120\\_Cut\\_MEL\\_CM1 & 3.1200632 & 11 & 11\\\\\n",
       "\tGSE215120\\_CM1\\_AACTCCCAGCCGATTT-1 & GSE215120 &  4828 & 1341 & tumour & Cutaneous Melanoma & CM1 & GSE215120\\_Cut\\_MEL\\_CM1 & 0.9113505 & 11 & 11\\\\\n",
       "\tGSE215120\\_CM1\\_AACTCCCTCGGCGCAT-1 & GSE215120 &  7064 & 1684 & tumour & Cutaneous Melanoma & CM1 & GSE215120\\_Cut\\_MEL\\_CM1 & 2.5622877 & 11 & 11\\\\\n",
       "\tGSE215120\\_CM1\\_AATCCAGTCAGGCCCA-1 & GSE215120 & 10178 & 2223 & tumour & Cutaneous Melanoma & CM1 & GSE215120\\_Cut\\_MEL\\_CM1 & 2.0141482 & 11 & 11\\\\\n",
       "\tGSE215120\\_CM1\\_ACACCAAGTCTTCTCG-1 & GSE215120 &  5097 & 1378 & tumour & Cutaneous Melanoma & CM1 & GSE215120\\_Cut\\_MEL\\_CM1 & 0.3923877 & 11 & 11\\\\\n",
       "\tGSE215120\\_CM1\\_ACACCCTCAATACGCT-1 & GSE215120 &  7358 & 1667 & tumour & Cutaneous Melanoma & CM1 & GSE215120\\_Cut\\_MEL\\_CM1 & 2.1337320 & 11 & 11\\\\\n",
       "\\end{tabular}\n"
      ],
      "text/markdown": [
       "\n",
       "A data.frame: 6 × 10\n",
       "\n",
       "| <!--/--> | orig.ident &lt;chr&gt; | nCount_RNA &lt;dbl&gt; | nFeature_RNA &lt;int&gt; | sample_type &lt;chr&gt; | cancer_type &lt;chr&gt; | patient_id &lt;chr&gt; | sample_id &lt;chr&gt; | percent.mt &lt;dbl&gt; | RNA_snn_res.0.2 &lt;fct&gt; | seurat_clusters &lt;fct&gt; |\n",
       "|---|---|---|---|---|---|---|---|---|---|---|\n",
       "| GSE215120_CM1_AAATGCCCATTACCTT-1 | GSE215120 |  7596 | 1914 | tumour | Cutaneous Melanoma | CM1 | GSE215120_Cut_MEL_CM1 | 3.1200632 | 11 | 11 |\n",
       "| GSE215120_CM1_AACTCCCAGCCGATTT-1 | GSE215120 |  4828 | 1341 | tumour | Cutaneous Melanoma | CM1 | GSE215120_Cut_MEL_CM1 | 0.9113505 | 11 | 11 |\n",
       "| GSE215120_CM1_AACTCCCTCGGCGCAT-1 | GSE215120 |  7064 | 1684 | tumour | Cutaneous Melanoma | CM1 | GSE215120_Cut_MEL_CM1 | 2.5622877 | 11 | 11 |\n",
       "| GSE215120_CM1_AATCCAGTCAGGCCCA-1 | GSE215120 | 10178 | 2223 | tumour | Cutaneous Melanoma | CM1 | GSE215120_Cut_MEL_CM1 | 2.0141482 | 11 | 11 |\n",
       "| GSE215120_CM1_ACACCAAGTCTTCTCG-1 | GSE215120 |  5097 | 1378 | tumour | Cutaneous Melanoma | CM1 | GSE215120_Cut_MEL_CM1 | 0.3923877 | 11 | 11 |\n",
       "| GSE215120_CM1_ACACCCTCAATACGCT-1 | GSE215120 |  7358 | 1667 | tumour | Cutaneous Melanoma | CM1 | GSE215120_Cut_MEL_CM1 | 2.1337320 | 11 | 11 |\n",
       "\n"
      ],
      "text/plain": [
       "                                 orig.ident nCount_RNA nFeature_RNA sample_type\n",
       "GSE215120_CM1_AAATGCCCATTACCTT-1 GSE215120   7596      1914         tumour     \n",
       "GSE215120_CM1_AACTCCCAGCCGATTT-1 GSE215120   4828      1341         tumour     \n",
       "GSE215120_CM1_AACTCCCTCGGCGCAT-1 GSE215120   7064      1684         tumour     \n",
       "GSE215120_CM1_AATCCAGTCAGGCCCA-1 GSE215120  10178      2223         tumour     \n",
       "GSE215120_CM1_ACACCAAGTCTTCTCG-1 GSE215120   5097      1378         tumour     \n",
       "GSE215120_CM1_ACACCCTCAATACGCT-1 GSE215120   7358      1667         tumour     \n",
       "                                 cancer_type        patient_id\n",
       "GSE215120_CM1_AAATGCCCATTACCTT-1 Cutaneous Melanoma CM1       \n",
       "GSE215120_CM1_AACTCCCAGCCGATTT-1 Cutaneous Melanoma CM1       \n",
       "GSE215120_CM1_AACTCCCTCGGCGCAT-1 Cutaneous Melanoma CM1       \n",
       "GSE215120_CM1_AATCCAGTCAGGCCCA-1 Cutaneous Melanoma CM1       \n",
       "GSE215120_CM1_ACACCAAGTCTTCTCG-1 Cutaneous Melanoma CM1       \n",
       "GSE215120_CM1_ACACCCTCAATACGCT-1 Cutaneous Melanoma CM1       \n",
       "                                 sample_id             percent.mt\n",
       "GSE215120_CM1_AAATGCCCATTACCTT-1 GSE215120_Cut_MEL_CM1 3.1200632 \n",
       "GSE215120_CM1_AACTCCCAGCCGATTT-1 GSE215120_Cut_MEL_CM1 0.9113505 \n",
       "GSE215120_CM1_AACTCCCTCGGCGCAT-1 GSE215120_Cut_MEL_CM1 2.5622877 \n",
       "GSE215120_CM1_AATCCAGTCAGGCCCA-1 GSE215120_Cut_MEL_CM1 2.0141482 \n",
       "GSE215120_CM1_ACACCAAGTCTTCTCG-1 GSE215120_Cut_MEL_CM1 0.3923877 \n",
       "GSE215120_CM1_ACACCCTCAATACGCT-1 GSE215120_Cut_MEL_CM1 2.1337320 \n",
       "                                 RNA_snn_res.0.2 seurat_clusters\n",
       "GSE215120_CM1_AAATGCCCATTACCTT-1 11              11             \n",
       "GSE215120_CM1_AACTCCCAGCCGATTT-1 11              11             \n",
       "GSE215120_CM1_AACTCCCTCGGCGCAT-1 11              11             \n",
       "GSE215120_CM1_AATCCAGTCAGGCCCA-1 11              11             \n",
       "GSE215120_CM1_ACACCAAGTCTTCTCG-1 11              11             \n",
       "GSE215120_CM1_ACACCCTCAATACGCT-1 11              11             "
      ]
     },
     "metadata": {},
     "output_type": "display_data"
    }
   ],
   "source": [
    "MEL_Ac\n",
    "MEL_Ac@project.name\n",
    "head(MEL_Ac@meta.data)\n",
    "\n",
    "MEL_Cu\n",
    "MEL_Cu@project.name\n",
    "head(MEL_Cu@meta.data)"
   ]
  },
  {
   "cell_type": "code",
   "execution_count": 138,
   "metadata": {
    "vscode": {
     "languageId": "r"
    }
   },
   "outputs": [
    {
     "data": {
      "text/plain": [
       "\n",
       "tumour \n",
       "   787 "
      ]
     },
     "metadata": {},
     "output_type": "display_data"
    },
    {
     "data": {
      "text/plain": [
       "\n",
       "Acral Melanoma \n",
       "           787 "
      ]
     },
     "metadata": {},
     "output_type": "display_data"
    },
    {
     "data": {
      "text/plain": [
       "\n",
       "AM1 AM2 AM3 AM4 AM5 AM6 \n",
       "260  23 101   9 279 115 "
      ]
     },
     "metadata": {},
     "output_type": "display_data"
    },
    {
     "data": {
      "text/plain": [
       "\n",
       "GSE215120_Acral_MEL_AM1 GSE215120_Acral_MEL_AM2 GSE215120_Acral_MEL_AM3 \n",
       "                    260                      23                     101 \n",
       "GSE215120_Acral_MEL_AM4 GSE215120_Acral_MEL_AM5 GSE215120_Acral_MEL_AM6 \n",
       "                      9                     279                     115 "
      ]
     },
     "metadata": {},
     "output_type": "display_data"
    },
    {
     "data": {
      "text/plain": [
       "\n",
       "LN metastasis        tumour \n",
       "          162           265 "
      ]
     },
     "metadata": {},
     "output_type": "display_data"
    },
    {
     "data": {
      "text/plain": [
       "\n",
       "Cutaneous Melanoma \n",
       "               427 "
      ]
     },
     "metadata": {},
     "output_type": "display_data"
    },
    {
     "data": {
      "text/plain": [
       "\n",
       "CM1 CM2 CM3 \n",
       "295  32 100 "
      ]
     },
     "metadata": {},
     "output_type": "display_data"
    },
    {
     "data": {
      "text/plain": [
       "\n",
       " GSE215120_Cut_MEL_CM1  GSE215120_Cut_MEL_CM2  GSE215120_Cut_MEL_CM3 \n",
       "                   133                     32                    100 \n",
       "GSE215120_MEL_mets_CM1 \n",
       "                   162 "
      ]
     },
     "metadata": {},
     "output_type": "display_data"
    }
   ],
   "source": [
    "table(MEL_Ac$sample_type)\n",
    "table(MEL_Ac$cancer_type)\n",
    "table(MEL_Ac$patient_id)\n",
    "table(MEL_Ac$sample_id)\n",
    "\n",
    "table(MEL_Cu$sample_type)\n",
    "table(MEL_Cu$cancer_type)\n",
    "table(MEL_Cu$patient_id)\n",
    "table(MEL_Cu$sample_id)"
   ]
  },
  {
   "cell_type": "code",
   "execution_count": 139,
   "metadata": {
    "vscode": {
     "languageId": "r"
    }
   },
   "outputs": [],
   "source": [
    "#split by cancer_type\n",
    "MEL_Cu_Tu <- subset(MEL_Cu, subset = sample_type %in% c(\"tumour\"))\n",
    "MEL_Cu_LN <- subset(MEL_Cu, subset = sample_type %in% c(\"LN metastasis\"))\n",
    "\n",
    "#set site and sample_type_major metadata\n",
    "MEL_Ac@meta.data$site <- \"skin\"\n",
    "MEL_Cu_Tu@meta.data$site <- \"skin\"\n",
    "MEL_Cu_LN@meta.data$site <- \"lymph node\"\n",
    "\n",
    "MEL_Ac@meta.data$sample_type_major <- \"primary tumour\"\n",
    "MEL_Cu_Tu@meta.data$sample_type_major <- \"primary tumour\"\n",
    "MEL_Cu_LN@meta.data$sample_type_major <- \"metastatic tumour\"\n",
    "\n",
    "#set subtype metadata\n",
    "MEL_Ac@meta.data$cancer_subtype <- \"Acral Melanoma\"\n",
    "MEL_Cu_Tu@meta.data$cancer_subtype <- \"Melanoma\"\n",
    "MEL_Cu_LN@meta.data$cancer_subtype <- \"Melanoma\"\n",
    "\n",
    "#Merge seurat objects back together\n",
    "MEL <- merge(MEL_Ac, y = c(MEL_Cu_Tu, MEL_Cu_LN), project = \"GSE215120\")"
   ]
  },
  {
   "cell_type": "code",
   "execution_count": 140,
   "metadata": {
    "vscode": {
     "languageId": "r"
    }
   },
   "outputs": [],
   "source": [
    "#set integration_id metadata\n",
    "MEL@meta.data$integration_id <- MEL@meta.data$sample_id"
   ]
  },
  {
   "cell_type": "code",
   "execution_count": 141,
   "metadata": {
    "vscode": {
     "languageId": "r"
    }
   },
   "outputs": [
    {
     "data": {
      "text/plain": [
       "An object of class Seurat \n",
       "33538 features across 1214 samples within 1 assay \n",
       "Active assay: RNA (33538 features, 2000 variable features)\n",
       " 23 layers present: counts.1.1, counts.1.2, counts.2.1, counts.2.2, counts.3.1, counts.3.2, counts.4.1, counts.4.3, counts.5.1, counts.6.1, data.1.1, data.2.1, data.3.1, data.4.1, data.5.1, data.6.1, scale.data.1, data.1.2, data.2.2, data.3.2, scale.data.2, data.4.3, scale.data.3"
      ]
     },
     "metadata": {},
     "output_type": "display_data"
    },
    {
     "data": {
      "text/html": [
       "'GSE215120'"
      ],
      "text/latex": [
       "'GSE215120'"
      ],
      "text/markdown": [
       "'GSE215120'"
      ],
      "text/plain": [
       "[1] \"GSE215120\""
      ]
     },
     "metadata": {},
     "output_type": "display_data"
    },
    {
     "data": {
      "text/html": [
       "<table class=\"dataframe\">\n",
       "<caption>A data.frame: 6 × 14</caption>\n",
       "<thead>\n",
       "\t<tr><th></th><th scope=col>orig.ident</th><th scope=col>nCount_RNA</th><th scope=col>nFeature_RNA</th><th scope=col>sample_type</th><th scope=col>cancer_type</th><th scope=col>patient_id</th><th scope=col>sample_id</th><th scope=col>percent.mt</th><th scope=col>RNA_snn_res.0.2</th><th scope=col>seurat_clusters</th><th scope=col>site</th><th scope=col>sample_type_major</th><th scope=col>cancer_subtype</th><th scope=col>integration_id</th></tr>\n",
       "\t<tr><th></th><th scope=col>&lt;chr&gt;</th><th scope=col>&lt;dbl&gt;</th><th scope=col>&lt;int&gt;</th><th scope=col>&lt;chr&gt;</th><th scope=col>&lt;chr&gt;</th><th scope=col>&lt;chr&gt;</th><th scope=col>&lt;chr&gt;</th><th scope=col>&lt;dbl&gt;</th><th scope=col>&lt;chr&gt;</th><th scope=col>&lt;chr&gt;</th><th scope=col>&lt;chr&gt;</th><th scope=col>&lt;chr&gt;</th><th scope=col>&lt;chr&gt;</th><th scope=col>&lt;chr&gt;</th></tr>\n",
       "</thead>\n",
       "<tbody>\n",
       "\t<tr><th scope=row>GSE215120_AM1_AAACCTGGTTGCTCCT-1</th><td>GSE215120</td><td>20298</td><td>3789</td><td>tumour</td><td>Acral Melanoma</td><td>AM1</td><td>GSE215120_Acral_MEL_AM1</td><td>0.9754656</td><td>12</td><td>12</td><td>skin</td><td>primary tumour</td><td>Acral Melanoma</td><td>GSE215120_Acral_MEL_AM1</td></tr>\n",
       "\t<tr><th scope=row>GSE215120_AM1_AAAGATGTCCAAATGC-1</th><td>GSE215120</td><td> 5574</td><td>1721</td><td>tumour</td><td>Acral Melanoma</td><td>AM1</td><td>GSE215120_Acral_MEL_AM1</td><td>6.0459275</td><td>12</td><td>12</td><td>skin</td><td>primary tumour</td><td>Acral Melanoma</td><td>GSE215120_Acral_MEL_AM1</td></tr>\n",
       "\t<tr><th scope=row>GSE215120_AM1_AAAGTAGTCGGTGTTA-1</th><td>GSE215120</td><td>13432</td><td>2759</td><td>tumour</td><td>Acral Melanoma</td><td>AM1</td><td>GSE215120_Acral_MEL_AM1</td><td>2.1515783</td><td>12</td><td>12</td><td>skin</td><td>primary tumour</td><td>Acral Melanoma</td><td>GSE215120_Acral_MEL_AM1</td></tr>\n",
       "\t<tr><th scope=row>GSE215120_AM1_AAATGCCCAGAGCCAA-1</th><td>GSE215120</td><td>17143</td><td>2659</td><td>tumour</td><td>Acral Melanoma</td><td>AM1</td><td>GSE215120_Acral_MEL_AM1</td><td>1.2249898</td><td>12</td><td>12</td><td>skin</td><td>primary tumour</td><td>Acral Melanoma</td><td>GSE215120_Acral_MEL_AM1</td></tr>\n",
       "\t<tr><th scope=row>GSE215120_AM1_AAATGCCGTTTGGCGC-1</th><td>GSE215120</td><td> 3603</td><td>1012</td><td>tumour</td><td>Acral Melanoma</td><td>AM1</td><td>GSE215120_Acral_MEL_AM1</td><td>3.6081044</td><td>12</td><td>12</td><td>skin</td><td>primary tumour</td><td>Acral Melanoma</td><td>GSE215120_Acral_MEL_AM1</td></tr>\n",
       "\t<tr><th scope=row>GSE215120_AM1_AAATGCCTCATGTCCC-1</th><td>GSE215120</td><td>14482</td><td>2882</td><td>tumour</td><td>Acral Melanoma</td><td>AM1</td><td>GSE215120_Acral_MEL_AM1</td><td>1.0357685</td><td>12</td><td>12</td><td>skin</td><td>primary tumour</td><td>Acral Melanoma</td><td>GSE215120_Acral_MEL_AM1</td></tr>\n",
       "</tbody>\n",
       "</table>\n"
      ],
      "text/latex": [
       "A data.frame: 6 × 14\n",
       "\\begin{tabular}{r|llllllllllllll}\n",
       "  & orig.ident & nCount\\_RNA & nFeature\\_RNA & sample\\_type & cancer\\_type & patient\\_id & sample\\_id & percent.mt & RNA\\_snn\\_res.0.2 & seurat\\_clusters & site & sample\\_type\\_major & cancer\\_subtype & integration\\_id\\\\\n",
       "  & <chr> & <dbl> & <int> & <chr> & <chr> & <chr> & <chr> & <dbl> & <chr> & <chr> & <chr> & <chr> & <chr> & <chr>\\\\\n",
       "\\hline\n",
       "\tGSE215120\\_AM1\\_AAACCTGGTTGCTCCT-1 & GSE215120 & 20298 & 3789 & tumour & Acral Melanoma & AM1 & GSE215120\\_Acral\\_MEL\\_AM1 & 0.9754656 & 12 & 12 & skin & primary tumour & Acral Melanoma & GSE215120\\_Acral\\_MEL\\_AM1\\\\\n",
       "\tGSE215120\\_AM1\\_AAAGATGTCCAAATGC-1 & GSE215120 &  5574 & 1721 & tumour & Acral Melanoma & AM1 & GSE215120\\_Acral\\_MEL\\_AM1 & 6.0459275 & 12 & 12 & skin & primary tumour & Acral Melanoma & GSE215120\\_Acral\\_MEL\\_AM1\\\\\n",
       "\tGSE215120\\_AM1\\_AAAGTAGTCGGTGTTA-1 & GSE215120 & 13432 & 2759 & tumour & Acral Melanoma & AM1 & GSE215120\\_Acral\\_MEL\\_AM1 & 2.1515783 & 12 & 12 & skin & primary tumour & Acral Melanoma & GSE215120\\_Acral\\_MEL\\_AM1\\\\\n",
       "\tGSE215120\\_AM1\\_AAATGCCCAGAGCCAA-1 & GSE215120 & 17143 & 2659 & tumour & Acral Melanoma & AM1 & GSE215120\\_Acral\\_MEL\\_AM1 & 1.2249898 & 12 & 12 & skin & primary tumour & Acral Melanoma & GSE215120\\_Acral\\_MEL\\_AM1\\\\\n",
       "\tGSE215120\\_AM1\\_AAATGCCGTTTGGCGC-1 & GSE215120 &  3603 & 1012 & tumour & Acral Melanoma & AM1 & GSE215120\\_Acral\\_MEL\\_AM1 & 3.6081044 & 12 & 12 & skin & primary tumour & Acral Melanoma & GSE215120\\_Acral\\_MEL\\_AM1\\\\\n",
       "\tGSE215120\\_AM1\\_AAATGCCTCATGTCCC-1 & GSE215120 & 14482 & 2882 & tumour & Acral Melanoma & AM1 & GSE215120\\_Acral\\_MEL\\_AM1 & 1.0357685 & 12 & 12 & skin & primary tumour & Acral Melanoma & GSE215120\\_Acral\\_MEL\\_AM1\\\\\n",
       "\\end{tabular}\n"
      ],
      "text/markdown": [
       "\n",
       "A data.frame: 6 × 14\n",
       "\n",
       "| <!--/--> | orig.ident &lt;chr&gt; | nCount_RNA &lt;dbl&gt; | nFeature_RNA &lt;int&gt; | sample_type &lt;chr&gt; | cancer_type &lt;chr&gt; | patient_id &lt;chr&gt; | sample_id &lt;chr&gt; | percent.mt &lt;dbl&gt; | RNA_snn_res.0.2 &lt;chr&gt; | seurat_clusters &lt;chr&gt; | site &lt;chr&gt; | sample_type_major &lt;chr&gt; | cancer_subtype &lt;chr&gt; | integration_id &lt;chr&gt; |\n",
       "|---|---|---|---|---|---|---|---|---|---|---|---|---|---|---|\n",
       "| GSE215120_AM1_AAACCTGGTTGCTCCT-1 | GSE215120 | 20298 | 3789 | tumour | Acral Melanoma | AM1 | GSE215120_Acral_MEL_AM1 | 0.9754656 | 12 | 12 | skin | primary tumour | Acral Melanoma | GSE215120_Acral_MEL_AM1 |\n",
       "| GSE215120_AM1_AAAGATGTCCAAATGC-1 | GSE215120 |  5574 | 1721 | tumour | Acral Melanoma | AM1 | GSE215120_Acral_MEL_AM1 | 6.0459275 | 12 | 12 | skin | primary tumour | Acral Melanoma | GSE215120_Acral_MEL_AM1 |\n",
       "| GSE215120_AM1_AAAGTAGTCGGTGTTA-1 | GSE215120 | 13432 | 2759 | tumour | Acral Melanoma | AM1 | GSE215120_Acral_MEL_AM1 | 2.1515783 | 12 | 12 | skin | primary tumour | Acral Melanoma | GSE215120_Acral_MEL_AM1 |\n",
       "| GSE215120_AM1_AAATGCCCAGAGCCAA-1 | GSE215120 | 17143 | 2659 | tumour | Acral Melanoma | AM1 | GSE215120_Acral_MEL_AM1 | 1.2249898 | 12 | 12 | skin | primary tumour | Acral Melanoma | GSE215120_Acral_MEL_AM1 |\n",
       "| GSE215120_AM1_AAATGCCGTTTGGCGC-1 | GSE215120 |  3603 | 1012 | tumour | Acral Melanoma | AM1 | GSE215120_Acral_MEL_AM1 | 3.6081044 | 12 | 12 | skin | primary tumour | Acral Melanoma | GSE215120_Acral_MEL_AM1 |\n",
       "| GSE215120_AM1_AAATGCCTCATGTCCC-1 | GSE215120 | 14482 | 2882 | tumour | Acral Melanoma | AM1 | GSE215120_Acral_MEL_AM1 | 1.0357685 | 12 | 12 | skin | primary tumour | Acral Melanoma | GSE215120_Acral_MEL_AM1 |\n",
       "\n"
      ],
      "text/plain": [
       "                                 orig.ident nCount_RNA nFeature_RNA sample_type\n",
       "GSE215120_AM1_AAACCTGGTTGCTCCT-1 GSE215120  20298      3789         tumour     \n",
       "GSE215120_AM1_AAAGATGTCCAAATGC-1 GSE215120   5574      1721         tumour     \n",
       "GSE215120_AM1_AAAGTAGTCGGTGTTA-1 GSE215120  13432      2759         tumour     \n",
       "GSE215120_AM1_AAATGCCCAGAGCCAA-1 GSE215120  17143      2659         tumour     \n",
       "GSE215120_AM1_AAATGCCGTTTGGCGC-1 GSE215120   3603      1012         tumour     \n",
       "GSE215120_AM1_AAATGCCTCATGTCCC-1 GSE215120  14482      2882         tumour     \n",
       "                                 cancer_type    patient_id\n",
       "GSE215120_AM1_AAACCTGGTTGCTCCT-1 Acral Melanoma AM1       \n",
       "GSE215120_AM1_AAAGATGTCCAAATGC-1 Acral Melanoma AM1       \n",
       "GSE215120_AM1_AAAGTAGTCGGTGTTA-1 Acral Melanoma AM1       \n",
       "GSE215120_AM1_AAATGCCCAGAGCCAA-1 Acral Melanoma AM1       \n",
       "GSE215120_AM1_AAATGCCGTTTGGCGC-1 Acral Melanoma AM1       \n",
       "GSE215120_AM1_AAATGCCTCATGTCCC-1 Acral Melanoma AM1       \n",
       "                                 sample_id               percent.mt\n",
       "GSE215120_AM1_AAACCTGGTTGCTCCT-1 GSE215120_Acral_MEL_AM1 0.9754656 \n",
       "GSE215120_AM1_AAAGATGTCCAAATGC-1 GSE215120_Acral_MEL_AM1 6.0459275 \n",
       "GSE215120_AM1_AAAGTAGTCGGTGTTA-1 GSE215120_Acral_MEL_AM1 2.1515783 \n",
       "GSE215120_AM1_AAATGCCCAGAGCCAA-1 GSE215120_Acral_MEL_AM1 1.2249898 \n",
       "GSE215120_AM1_AAATGCCGTTTGGCGC-1 GSE215120_Acral_MEL_AM1 3.6081044 \n",
       "GSE215120_AM1_AAATGCCTCATGTCCC-1 GSE215120_Acral_MEL_AM1 1.0357685 \n",
       "                                 RNA_snn_res.0.2 seurat_clusters site\n",
       "GSE215120_AM1_AAACCTGGTTGCTCCT-1 12              12              skin\n",
       "GSE215120_AM1_AAAGATGTCCAAATGC-1 12              12              skin\n",
       "GSE215120_AM1_AAAGTAGTCGGTGTTA-1 12              12              skin\n",
       "GSE215120_AM1_AAATGCCCAGAGCCAA-1 12              12              skin\n",
       "GSE215120_AM1_AAATGCCGTTTGGCGC-1 12              12              skin\n",
       "GSE215120_AM1_AAATGCCTCATGTCCC-1 12              12              skin\n",
       "                                 sample_type_major cancer_subtype\n",
       "GSE215120_AM1_AAACCTGGTTGCTCCT-1 primary tumour    Acral Melanoma\n",
       "GSE215120_AM1_AAAGATGTCCAAATGC-1 primary tumour    Acral Melanoma\n",
       "GSE215120_AM1_AAAGTAGTCGGTGTTA-1 primary tumour    Acral Melanoma\n",
       "GSE215120_AM1_AAATGCCCAGAGCCAA-1 primary tumour    Acral Melanoma\n",
       "GSE215120_AM1_AAATGCCGTTTGGCGC-1 primary tumour    Acral Melanoma\n",
       "GSE215120_AM1_AAATGCCTCATGTCCC-1 primary tumour    Acral Melanoma\n",
       "                                 integration_id         \n",
       "GSE215120_AM1_AAACCTGGTTGCTCCT-1 GSE215120_Acral_MEL_AM1\n",
       "GSE215120_AM1_AAAGATGTCCAAATGC-1 GSE215120_Acral_MEL_AM1\n",
       "GSE215120_AM1_AAAGTAGTCGGTGTTA-1 GSE215120_Acral_MEL_AM1\n",
       "GSE215120_AM1_AAATGCCCAGAGCCAA-1 GSE215120_Acral_MEL_AM1\n",
       "GSE215120_AM1_AAATGCCGTTTGGCGC-1 GSE215120_Acral_MEL_AM1\n",
       "GSE215120_AM1_AAATGCCTCATGTCCC-1 GSE215120_Acral_MEL_AM1"
      ]
     },
     "metadata": {},
     "output_type": "display_data"
    }
   ],
   "source": [
    "MEL\n",
    "MEL@project.name\n",
    "head(MEL@meta.data)"
   ]
  },
  {
   "cell_type": "code",
   "execution_count": 142,
   "metadata": {
    "vscode": {
     "languageId": "r"
    }
   },
   "outputs": [
    {
     "data": {
      "text/plain": [
       "\n",
       "GSE215120_Acral_MEL_AM1 GSE215120_Acral_MEL_AM2 GSE215120_Acral_MEL_AM3 \n",
       "                    260                      23                     101 \n",
       "GSE215120_Acral_MEL_AM4 GSE215120_Acral_MEL_AM5 GSE215120_Acral_MEL_AM6 \n",
       "                      9                     279                     115 \n",
       "  GSE215120_Cut_MEL_CM1   GSE215120_Cut_MEL_CM2   GSE215120_Cut_MEL_CM3 \n",
       "                    133                      32                     100 \n",
       " GSE215120_MEL_mets_CM1 \n",
       "                    162 "
      ]
     },
     "metadata": {},
     "output_type": "display_data"
    },
    {
     "data": {
      "text/plain": [
       "\n",
       "GSE215120_Acral_MEL_AM1 GSE215120_Acral_MEL_AM3 GSE215120_Acral_MEL_AM5 \n",
       "                    260                     101                     279 \n",
       "GSE215120_Acral_MEL_AM6   GSE215120_Cut_MEL_CM1   GSE215120_Cut_MEL_CM3 \n",
       "                    115                     133                     100 \n",
       " GSE215120_MEL_mets_CM1 \n",
       "                    162 "
      ]
     },
     "metadata": {},
     "output_type": "display_data"
    }
   ],
   "source": [
    "#exclude any samples with <100 cells\n",
    "table(MEL$integration_id)\n",
    "#exclude AM2, AM4, CM2\n",
    "MEL <- subset(MEL, !(subset = integration_id %in% c(\"GSE215120_Acral_MEL_AM2\",\"GSE215120_Acral_MEL_AM4\",\"GSE215120_Cut_MEL_CM2\")))\n",
    "table(MEL$integration_id)"
   ]
  },
  {
   "cell_type": "code",
   "execution_count": 143,
   "metadata": {
    "vscode": {
     "languageId": "r"
    }
   },
   "outputs": [
    {
     "data": {
      "text/html": [
       "<style>\n",
       ".list-inline {list-style: none; margin:0; padding: 0}\n",
       ".list-inline>li {display: inline-block}\n",
       ".list-inline>li:not(:last-child)::after {content: \"\\00b7\"; padding: 0 .5ex}\n",
       "</style>\n",
       "<ol class=list-inline><li>'counts.1.1'</li><li>'counts.1.2'</li><li>'counts.3.1'</li><li>'counts.3.2'</li><li>'counts.4.3'</li><li>'counts.5.1'</li><li>'counts.6.1'</li><li>'data.1.1'</li><li>'data.3.1'</li><li>'data.5.1'</li><li>'data.6.1'</li><li>'scale.data.1'</li><li>'data.1.2'</li><li>'data.3.2'</li><li>'scale.data.2'</li><li>'data.4.3'</li><li>'scale.data.3'</li></ol>\n"
      ],
      "text/latex": [
       "\\begin{enumerate*}\n",
       "\\item 'counts.1.1'\n",
       "\\item 'counts.1.2'\n",
       "\\item 'counts.3.1'\n",
       "\\item 'counts.3.2'\n",
       "\\item 'counts.4.3'\n",
       "\\item 'counts.5.1'\n",
       "\\item 'counts.6.1'\n",
       "\\item 'data.1.1'\n",
       "\\item 'data.3.1'\n",
       "\\item 'data.5.1'\n",
       "\\item 'data.6.1'\n",
       "\\item 'scale.data.1'\n",
       "\\item 'data.1.2'\n",
       "\\item 'data.3.2'\n",
       "\\item 'scale.data.2'\n",
       "\\item 'data.4.3'\n",
       "\\item 'scale.data.3'\n",
       "\\end{enumerate*}\n"
      ],
      "text/markdown": [
       "1. 'counts.1.1'\n",
       "2. 'counts.1.2'\n",
       "3. 'counts.3.1'\n",
       "4. 'counts.3.2'\n",
       "5. 'counts.4.3'\n",
       "6. 'counts.5.1'\n",
       "7. 'counts.6.1'\n",
       "8. 'data.1.1'\n",
       "9. 'data.3.1'\n",
       "10. 'data.5.1'\n",
       "11. 'data.6.1'\n",
       "12. 'scale.data.1'\n",
       "13. 'data.1.2'\n",
       "14. 'data.3.2'\n",
       "15. 'scale.data.2'\n",
       "16. 'data.4.3'\n",
       "17. 'scale.data.3'\n",
       "\n",
       "\n"
      ],
      "text/plain": [
       " [1] \"counts.1.1\"   \"counts.1.2\"   \"counts.3.1\"   \"counts.3.2\"   \"counts.4.3\"  \n",
       " [6] \"counts.5.1\"   \"counts.6.1\"   \"data.1.1\"     \"data.3.1\"     \"data.5.1\"    \n",
       "[11] \"data.6.1\"     \"scale.data.1\" \"data.1.2\"     \"data.3.2\"     \"scale.data.2\"\n",
       "[16] \"data.4.3\"     \"scale.data.3\""
      ]
     },
     "metadata": {},
     "output_type": "display_data"
    },
    {
     "data": {
      "text/html": [
       "<style>\n",
       ".list-inline {list-style: none; margin:0; padding: 0}\n",
       ".list-inline>li {display: inline-block}\n",
       ".list-inline>li:not(:last-child)::after {content: \"\\00b7\"; padding: 0 .5ex}\n",
       "</style>\n",
       "<ol class=list-inline><li>'scale.data'</li><li>'data'</li><li>'counts'</li></ol>\n"
      ],
      "text/latex": [
       "\\begin{enumerate*}\n",
       "\\item 'scale.data'\n",
       "\\item 'data'\n",
       "\\item 'counts'\n",
       "\\end{enumerate*}\n"
      ],
      "text/markdown": [
       "1. 'scale.data'\n",
       "2. 'data'\n",
       "3. 'counts'\n",
       "\n",
       "\n"
      ],
      "text/plain": [
       "[1] \"scale.data\" \"data\"       \"counts\"    "
      ]
     },
     "metadata": {},
     "output_type": "display_data"
    },
    {
     "name": "stderr",
     "output_type": "stream",
     "text": [
      "Splitting ‘counts’, ‘data’ layers. Not splitting ‘scale.data’. If you would like to split other layers, set in `layers` argument.\n",
      "\n"
     ]
    },
    {
     "data": {
      "text/html": [
       "<style>\n",
       ".list-inline {list-style: none; margin:0; padding: 0}\n",
       ".list-inline>li {display: inline-block}\n",
       ".list-inline>li:not(:last-child)::after {content: \"\\00b7\"; padding: 0 .5ex}\n",
       "</style>\n",
       "<ol class=list-inline><li>'counts.GSE215120_Acral_MEL_AM1'</li><li>'counts.GSE215120_Acral_MEL_AM3'</li><li>'counts.GSE215120_Acral_MEL_AM5'</li><li>'counts.GSE215120_Acral_MEL_AM6'</li><li>'counts.GSE215120_Cut_MEL_CM1'</li><li>'counts.GSE215120_Cut_MEL_CM3'</li><li>'counts.GSE215120_MEL_mets_CM1'</li><li>'scale.data'</li><li>'data.GSE215120_Acral_MEL_AM1'</li><li>'data.GSE215120_Acral_MEL_AM3'</li><li>'data.GSE215120_Acral_MEL_AM5'</li><li>'data.GSE215120_Acral_MEL_AM6'</li><li>'data.GSE215120_Cut_MEL_CM1'</li><li>'data.GSE215120_Cut_MEL_CM3'</li><li>'data.GSE215120_MEL_mets_CM1'</li></ol>\n"
      ],
      "text/latex": [
       "\\begin{enumerate*}\n",
       "\\item 'counts.GSE215120\\_Acral\\_MEL\\_AM1'\n",
       "\\item 'counts.GSE215120\\_Acral\\_MEL\\_AM3'\n",
       "\\item 'counts.GSE215120\\_Acral\\_MEL\\_AM5'\n",
       "\\item 'counts.GSE215120\\_Acral\\_MEL\\_AM6'\n",
       "\\item 'counts.GSE215120\\_Cut\\_MEL\\_CM1'\n",
       "\\item 'counts.GSE215120\\_Cut\\_MEL\\_CM3'\n",
       "\\item 'counts.GSE215120\\_MEL\\_mets\\_CM1'\n",
       "\\item 'scale.data'\n",
       "\\item 'data.GSE215120\\_Acral\\_MEL\\_AM1'\n",
       "\\item 'data.GSE215120\\_Acral\\_MEL\\_AM3'\n",
       "\\item 'data.GSE215120\\_Acral\\_MEL\\_AM5'\n",
       "\\item 'data.GSE215120\\_Acral\\_MEL\\_AM6'\n",
       "\\item 'data.GSE215120\\_Cut\\_MEL\\_CM1'\n",
       "\\item 'data.GSE215120\\_Cut\\_MEL\\_CM3'\n",
       "\\item 'data.GSE215120\\_MEL\\_mets\\_CM1'\n",
       "\\end{enumerate*}\n"
      ],
      "text/markdown": [
       "1. 'counts.GSE215120_Acral_MEL_AM1'\n",
       "2. 'counts.GSE215120_Acral_MEL_AM3'\n",
       "3. 'counts.GSE215120_Acral_MEL_AM5'\n",
       "4. 'counts.GSE215120_Acral_MEL_AM6'\n",
       "5. 'counts.GSE215120_Cut_MEL_CM1'\n",
       "6. 'counts.GSE215120_Cut_MEL_CM3'\n",
       "7. 'counts.GSE215120_MEL_mets_CM1'\n",
       "8. 'scale.data'\n",
       "9. 'data.GSE215120_Acral_MEL_AM1'\n",
       "10. 'data.GSE215120_Acral_MEL_AM3'\n",
       "11. 'data.GSE215120_Acral_MEL_AM5'\n",
       "12. 'data.GSE215120_Acral_MEL_AM6'\n",
       "13. 'data.GSE215120_Cut_MEL_CM1'\n",
       "14. 'data.GSE215120_Cut_MEL_CM3'\n",
       "15. 'data.GSE215120_MEL_mets_CM1'\n",
       "\n",
       "\n"
      ],
      "text/plain": [
       " [1] \"counts.GSE215120_Acral_MEL_AM1\" \"counts.GSE215120_Acral_MEL_AM3\"\n",
       " [3] \"counts.GSE215120_Acral_MEL_AM5\" \"counts.GSE215120_Acral_MEL_AM6\"\n",
       " [5] \"counts.GSE215120_Cut_MEL_CM1\"   \"counts.GSE215120_Cut_MEL_CM3\"  \n",
       " [7] \"counts.GSE215120_MEL_mets_CM1\"  \"scale.data\"                    \n",
       " [9] \"data.GSE215120_Acral_MEL_AM1\"   \"data.GSE215120_Acral_MEL_AM3\"  \n",
       "[11] \"data.GSE215120_Acral_MEL_AM5\"   \"data.GSE215120_Acral_MEL_AM6\"  \n",
       "[13] \"data.GSE215120_Cut_MEL_CM1\"     \"data.GSE215120_Cut_MEL_CM3\"    \n",
       "[15] \"data.GSE215120_MEL_mets_CM1\"   "
      ]
     },
     "metadata": {},
     "output_type": "display_data"
    }
   ],
   "source": [
    "#join layers and then split them by integration_id\n",
    "Layers(MEL[[\"RNA\"]])\n",
    "#join layers\n",
    "MEL[[\"RNA\"]] <- JoinLayers(MEL[[\"RNA\"]])\n",
    "Layers(MEL[[\"RNA\"]])\n",
    "#split layers\n",
    "MEL[[\"RNA\"]] <- split(MEL[[\"RNA\"]], f = MEL$integration_id)\n",
    "Layers(MEL[[\"RNA\"]])\n"
   ]
  },
  {
   "cell_type": "code",
   "execution_count": 144,
   "metadata": {
    "vscode": {
     "languageId": "r"
    }
   },
   "outputs": [
    {
     "data": {
      "text/plain": [
       "An object of class Seurat \n",
       "33538 features across 1150 samples within 1 assay \n",
       "Active assay: RNA (33538 features, 2000 variable features)\n",
       " 15 layers present: counts.GSE215120_Acral_MEL_AM1, counts.GSE215120_Acral_MEL_AM3, counts.GSE215120_Acral_MEL_AM5, counts.GSE215120_Acral_MEL_AM6, counts.GSE215120_Cut_MEL_CM1, counts.GSE215120_Cut_MEL_CM3, counts.GSE215120_MEL_mets_CM1, scale.data, data.GSE215120_Acral_MEL_AM1, data.GSE215120_Acral_MEL_AM3, data.GSE215120_Acral_MEL_AM5, data.GSE215120_Acral_MEL_AM6, data.GSE215120_Cut_MEL_CM1, data.GSE215120_Cut_MEL_CM3, data.GSE215120_MEL_mets_CM1"
      ]
     },
     "metadata": {},
     "output_type": "display_data"
    },
    {
     "data": {
      "text/html": [
       "'GSE215120'"
      ],
      "text/latex": [
       "'GSE215120'"
      ],
      "text/markdown": [
       "'GSE215120'"
      ],
      "text/plain": [
       "[1] \"GSE215120\""
      ]
     },
     "metadata": {},
     "output_type": "display_data"
    },
    {
     "data": {
      "text/html": [
       "<table class=\"dataframe\">\n",
       "<caption>A data.frame: 6 × 14</caption>\n",
       "<thead>\n",
       "\t<tr><th></th><th scope=col>orig.ident</th><th scope=col>nCount_RNA</th><th scope=col>nFeature_RNA</th><th scope=col>sample_type</th><th scope=col>cancer_type</th><th scope=col>patient_id</th><th scope=col>sample_id</th><th scope=col>percent.mt</th><th scope=col>RNA_snn_res.0.2</th><th scope=col>seurat_clusters</th><th scope=col>site</th><th scope=col>sample_type_major</th><th scope=col>cancer_subtype</th><th scope=col>integration_id</th></tr>\n",
       "\t<tr><th></th><th scope=col>&lt;chr&gt;</th><th scope=col>&lt;dbl&gt;</th><th scope=col>&lt;int&gt;</th><th scope=col>&lt;chr&gt;</th><th scope=col>&lt;chr&gt;</th><th scope=col>&lt;chr&gt;</th><th scope=col>&lt;chr&gt;</th><th scope=col>&lt;dbl&gt;</th><th scope=col>&lt;chr&gt;</th><th scope=col>&lt;chr&gt;</th><th scope=col>&lt;chr&gt;</th><th scope=col>&lt;chr&gt;</th><th scope=col>&lt;chr&gt;</th><th scope=col>&lt;chr&gt;</th></tr>\n",
       "</thead>\n",
       "<tbody>\n",
       "\t<tr><th scope=row>GSE215120_AM1_AAACCTGGTTGCTCCT-1</th><td>GSE215120</td><td>20298</td><td>3789</td><td>tumour</td><td>Acral Melanoma</td><td>AM1</td><td>GSE215120_Acral_MEL_AM1</td><td>0.9754656</td><td>12</td><td>12</td><td>skin</td><td>primary tumour</td><td>Acral Melanoma</td><td>GSE215120_Acral_MEL_AM1</td></tr>\n",
       "\t<tr><th scope=row>GSE215120_AM1_AAAGATGTCCAAATGC-1</th><td>GSE215120</td><td> 5574</td><td>1721</td><td>tumour</td><td>Acral Melanoma</td><td>AM1</td><td>GSE215120_Acral_MEL_AM1</td><td>6.0459275</td><td>12</td><td>12</td><td>skin</td><td>primary tumour</td><td>Acral Melanoma</td><td>GSE215120_Acral_MEL_AM1</td></tr>\n",
       "\t<tr><th scope=row>GSE215120_AM1_AAAGTAGTCGGTGTTA-1</th><td>GSE215120</td><td>13432</td><td>2759</td><td>tumour</td><td>Acral Melanoma</td><td>AM1</td><td>GSE215120_Acral_MEL_AM1</td><td>2.1515783</td><td>12</td><td>12</td><td>skin</td><td>primary tumour</td><td>Acral Melanoma</td><td>GSE215120_Acral_MEL_AM1</td></tr>\n",
       "\t<tr><th scope=row>GSE215120_AM1_AAATGCCCAGAGCCAA-1</th><td>GSE215120</td><td>17143</td><td>2659</td><td>tumour</td><td>Acral Melanoma</td><td>AM1</td><td>GSE215120_Acral_MEL_AM1</td><td>1.2249898</td><td>12</td><td>12</td><td>skin</td><td>primary tumour</td><td>Acral Melanoma</td><td>GSE215120_Acral_MEL_AM1</td></tr>\n",
       "\t<tr><th scope=row>GSE215120_AM1_AAATGCCGTTTGGCGC-1</th><td>GSE215120</td><td> 3603</td><td>1012</td><td>tumour</td><td>Acral Melanoma</td><td>AM1</td><td>GSE215120_Acral_MEL_AM1</td><td>3.6081044</td><td>12</td><td>12</td><td>skin</td><td>primary tumour</td><td>Acral Melanoma</td><td>GSE215120_Acral_MEL_AM1</td></tr>\n",
       "\t<tr><th scope=row>GSE215120_AM1_AAATGCCTCATGTCCC-1</th><td>GSE215120</td><td>14482</td><td>2882</td><td>tumour</td><td>Acral Melanoma</td><td>AM1</td><td>GSE215120_Acral_MEL_AM1</td><td>1.0357685</td><td>12</td><td>12</td><td>skin</td><td>primary tumour</td><td>Acral Melanoma</td><td>GSE215120_Acral_MEL_AM1</td></tr>\n",
       "</tbody>\n",
       "</table>\n"
      ],
      "text/latex": [
       "A data.frame: 6 × 14\n",
       "\\begin{tabular}{r|llllllllllllll}\n",
       "  & orig.ident & nCount\\_RNA & nFeature\\_RNA & sample\\_type & cancer\\_type & patient\\_id & sample\\_id & percent.mt & RNA\\_snn\\_res.0.2 & seurat\\_clusters & site & sample\\_type\\_major & cancer\\_subtype & integration\\_id\\\\\n",
       "  & <chr> & <dbl> & <int> & <chr> & <chr> & <chr> & <chr> & <dbl> & <chr> & <chr> & <chr> & <chr> & <chr> & <chr>\\\\\n",
       "\\hline\n",
       "\tGSE215120\\_AM1\\_AAACCTGGTTGCTCCT-1 & GSE215120 & 20298 & 3789 & tumour & Acral Melanoma & AM1 & GSE215120\\_Acral\\_MEL\\_AM1 & 0.9754656 & 12 & 12 & skin & primary tumour & Acral Melanoma & GSE215120\\_Acral\\_MEL\\_AM1\\\\\n",
       "\tGSE215120\\_AM1\\_AAAGATGTCCAAATGC-1 & GSE215120 &  5574 & 1721 & tumour & Acral Melanoma & AM1 & GSE215120\\_Acral\\_MEL\\_AM1 & 6.0459275 & 12 & 12 & skin & primary tumour & Acral Melanoma & GSE215120\\_Acral\\_MEL\\_AM1\\\\\n",
       "\tGSE215120\\_AM1\\_AAAGTAGTCGGTGTTA-1 & GSE215120 & 13432 & 2759 & tumour & Acral Melanoma & AM1 & GSE215120\\_Acral\\_MEL\\_AM1 & 2.1515783 & 12 & 12 & skin & primary tumour & Acral Melanoma & GSE215120\\_Acral\\_MEL\\_AM1\\\\\n",
       "\tGSE215120\\_AM1\\_AAATGCCCAGAGCCAA-1 & GSE215120 & 17143 & 2659 & tumour & Acral Melanoma & AM1 & GSE215120\\_Acral\\_MEL\\_AM1 & 1.2249898 & 12 & 12 & skin & primary tumour & Acral Melanoma & GSE215120\\_Acral\\_MEL\\_AM1\\\\\n",
       "\tGSE215120\\_AM1\\_AAATGCCGTTTGGCGC-1 & GSE215120 &  3603 & 1012 & tumour & Acral Melanoma & AM1 & GSE215120\\_Acral\\_MEL\\_AM1 & 3.6081044 & 12 & 12 & skin & primary tumour & Acral Melanoma & GSE215120\\_Acral\\_MEL\\_AM1\\\\\n",
       "\tGSE215120\\_AM1\\_AAATGCCTCATGTCCC-1 & GSE215120 & 14482 & 2882 & tumour & Acral Melanoma & AM1 & GSE215120\\_Acral\\_MEL\\_AM1 & 1.0357685 & 12 & 12 & skin & primary tumour & Acral Melanoma & GSE215120\\_Acral\\_MEL\\_AM1\\\\\n",
       "\\end{tabular}\n"
      ],
      "text/markdown": [
       "\n",
       "A data.frame: 6 × 14\n",
       "\n",
       "| <!--/--> | orig.ident &lt;chr&gt; | nCount_RNA &lt;dbl&gt; | nFeature_RNA &lt;int&gt; | sample_type &lt;chr&gt; | cancer_type &lt;chr&gt; | patient_id &lt;chr&gt; | sample_id &lt;chr&gt; | percent.mt &lt;dbl&gt; | RNA_snn_res.0.2 &lt;chr&gt; | seurat_clusters &lt;chr&gt; | site &lt;chr&gt; | sample_type_major &lt;chr&gt; | cancer_subtype &lt;chr&gt; | integration_id &lt;chr&gt; |\n",
       "|---|---|---|---|---|---|---|---|---|---|---|---|---|---|---|\n",
       "| GSE215120_AM1_AAACCTGGTTGCTCCT-1 | GSE215120 | 20298 | 3789 | tumour | Acral Melanoma | AM1 | GSE215120_Acral_MEL_AM1 | 0.9754656 | 12 | 12 | skin | primary tumour | Acral Melanoma | GSE215120_Acral_MEL_AM1 |\n",
       "| GSE215120_AM1_AAAGATGTCCAAATGC-1 | GSE215120 |  5574 | 1721 | tumour | Acral Melanoma | AM1 | GSE215120_Acral_MEL_AM1 | 6.0459275 | 12 | 12 | skin | primary tumour | Acral Melanoma | GSE215120_Acral_MEL_AM1 |\n",
       "| GSE215120_AM1_AAAGTAGTCGGTGTTA-1 | GSE215120 | 13432 | 2759 | tumour | Acral Melanoma | AM1 | GSE215120_Acral_MEL_AM1 | 2.1515783 | 12 | 12 | skin | primary tumour | Acral Melanoma | GSE215120_Acral_MEL_AM1 |\n",
       "| GSE215120_AM1_AAATGCCCAGAGCCAA-1 | GSE215120 | 17143 | 2659 | tumour | Acral Melanoma | AM1 | GSE215120_Acral_MEL_AM1 | 1.2249898 | 12 | 12 | skin | primary tumour | Acral Melanoma | GSE215120_Acral_MEL_AM1 |\n",
       "| GSE215120_AM1_AAATGCCGTTTGGCGC-1 | GSE215120 |  3603 | 1012 | tumour | Acral Melanoma | AM1 | GSE215120_Acral_MEL_AM1 | 3.6081044 | 12 | 12 | skin | primary tumour | Acral Melanoma | GSE215120_Acral_MEL_AM1 |\n",
       "| GSE215120_AM1_AAATGCCTCATGTCCC-1 | GSE215120 | 14482 | 2882 | tumour | Acral Melanoma | AM1 | GSE215120_Acral_MEL_AM1 | 1.0357685 | 12 | 12 | skin | primary tumour | Acral Melanoma | GSE215120_Acral_MEL_AM1 |\n",
       "\n"
      ],
      "text/plain": [
       "                                 orig.ident nCount_RNA nFeature_RNA sample_type\n",
       "GSE215120_AM1_AAACCTGGTTGCTCCT-1 GSE215120  20298      3789         tumour     \n",
       "GSE215120_AM1_AAAGATGTCCAAATGC-1 GSE215120   5574      1721         tumour     \n",
       "GSE215120_AM1_AAAGTAGTCGGTGTTA-1 GSE215120  13432      2759         tumour     \n",
       "GSE215120_AM1_AAATGCCCAGAGCCAA-1 GSE215120  17143      2659         tumour     \n",
       "GSE215120_AM1_AAATGCCGTTTGGCGC-1 GSE215120   3603      1012         tumour     \n",
       "GSE215120_AM1_AAATGCCTCATGTCCC-1 GSE215120  14482      2882         tumour     \n",
       "                                 cancer_type    patient_id\n",
       "GSE215120_AM1_AAACCTGGTTGCTCCT-1 Acral Melanoma AM1       \n",
       "GSE215120_AM1_AAAGATGTCCAAATGC-1 Acral Melanoma AM1       \n",
       "GSE215120_AM1_AAAGTAGTCGGTGTTA-1 Acral Melanoma AM1       \n",
       "GSE215120_AM1_AAATGCCCAGAGCCAA-1 Acral Melanoma AM1       \n",
       "GSE215120_AM1_AAATGCCGTTTGGCGC-1 Acral Melanoma AM1       \n",
       "GSE215120_AM1_AAATGCCTCATGTCCC-1 Acral Melanoma AM1       \n",
       "                                 sample_id               percent.mt\n",
       "GSE215120_AM1_AAACCTGGTTGCTCCT-1 GSE215120_Acral_MEL_AM1 0.9754656 \n",
       "GSE215120_AM1_AAAGATGTCCAAATGC-1 GSE215120_Acral_MEL_AM1 6.0459275 \n",
       "GSE215120_AM1_AAAGTAGTCGGTGTTA-1 GSE215120_Acral_MEL_AM1 2.1515783 \n",
       "GSE215120_AM1_AAATGCCCAGAGCCAA-1 GSE215120_Acral_MEL_AM1 1.2249898 \n",
       "GSE215120_AM1_AAATGCCGTTTGGCGC-1 GSE215120_Acral_MEL_AM1 3.6081044 \n",
       "GSE215120_AM1_AAATGCCTCATGTCCC-1 GSE215120_Acral_MEL_AM1 1.0357685 \n",
       "                                 RNA_snn_res.0.2 seurat_clusters site\n",
       "GSE215120_AM1_AAACCTGGTTGCTCCT-1 12              12              skin\n",
       "GSE215120_AM1_AAAGATGTCCAAATGC-1 12              12              skin\n",
       "GSE215120_AM1_AAAGTAGTCGGTGTTA-1 12              12              skin\n",
       "GSE215120_AM1_AAATGCCCAGAGCCAA-1 12              12              skin\n",
       "GSE215120_AM1_AAATGCCGTTTGGCGC-1 12              12              skin\n",
       "GSE215120_AM1_AAATGCCTCATGTCCC-1 12              12              skin\n",
       "                                 sample_type_major cancer_subtype\n",
       "GSE215120_AM1_AAACCTGGTTGCTCCT-1 primary tumour    Acral Melanoma\n",
       "GSE215120_AM1_AAAGATGTCCAAATGC-1 primary tumour    Acral Melanoma\n",
       "GSE215120_AM1_AAAGTAGTCGGTGTTA-1 primary tumour    Acral Melanoma\n",
       "GSE215120_AM1_AAATGCCCAGAGCCAA-1 primary tumour    Acral Melanoma\n",
       "GSE215120_AM1_AAATGCCGTTTGGCGC-1 primary tumour    Acral Melanoma\n",
       "GSE215120_AM1_AAATGCCTCATGTCCC-1 primary tumour    Acral Melanoma\n",
       "                                 integration_id         \n",
       "GSE215120_AM1_AAACCTGGTTGCTCCT-1 GSE215120_Acral_MEL_AM1\n",
       "GSE215120_AM1_AAAGATGTCCAAATGC-1 GSE215120_Acral_MEL_AM1\n",
       "GSE215120_AM1_AAAGTAGTCGGTGTTA-1 GSE215120_Acral_MEL_AM1\n",
       "GSE215120_AM1_AAATGCCCAGAGCCAA-1 GSE215120_Acral_MEL_AM1\n",
       "GSE215120_AM1_AAATGCCGTTTGGCGC-1 GSE215120_Acral_MEL_AM1\n",
       "GSE215120_AM1_AAATGCCTCATGTCCC-1 GSE215120_Acral_MEL_AM1"
      ]
     },
     "metadata": {},
     "output_type": "display_data"
    },
    {
     "data": {
      "text/html": [
       "<table class=\"dataframe\">\n",
       "<caption>A data.frame: 6 × 14</caption>\n",
       "<thead>\n",
       "\t<tr><th></th><th scope=col>orig.ident</th><th scope=col>nCount_RNA</th><th scope=col>nFeature_RNA</th><th scope=col>sample_type</th><th scope=col>cancer_type</th><th scope=col>patient_id</th><th scope=col>sample_id</th><th scope=col>percent.mt</th><th scope=col>RNA_snn_res.0.2</th><th scope=col>seurat_clusters</th><th scope=col>site</th><th scope=col>sample_type_major</th><th scope=col>cancer_subtype</th><th scope=col>integration_id</th></tr>\n",
       "\t<tr><th></th><th scope=col>&lt;chr&gt;</th><th scope=col>&lt;dbl&gt;</th><th scope=col>&lt;int&gt;</th><th scope=col>&lt;chr&gt;</th><th scope=col>&lt;chr&gt;</th><th scope=col>&lt;chr&gt;</th><th scope=col>&lt;chr&gt;</th><th scope=col>&lt;dbl&gt;</th><th scope=col>&lt;chr&gt;</th><th scope=col>&lt;chr&gt;</th><th scope=col>&lt;chr&gt;</th><th scope=col>&lt;chr&gt;</th><th scope=col>&lt;chr&gt;</th><th scope=col>&lt;chr&gt;</th></tr>\n",
       "</thead>\n",
       "<tbody>\n",
       "\t<tr><th scope=row>GSE215120_CM1_mets_TTGGTTTAGTGCAACG-1</th><td>GSE215120</td><td> 627</td><td> 355</td><td>LN metastasis</td><td>Cutaneous Melanoma</td><td>CM1</td><td>GSE215120_MEL_mets_CM1</td><td> 3.668262</td><td>11</td><td>11</td><td>lymph node</td><td>metastatic tumour</td><td>Melanoma</td><td>GSE215120_MEL_mets_CM1</td></tr>\n",
       "\t<tr><th scope=row>GSE215120_CM1_mets_TTTAGTCAGTTCTCTT-1</th><td>GSE215120</td><td>2740</td><td> 748</td><td>LN metastasis</td><td>Cutaneous Melanoma</td><td>CM1</td><td>GSE215120_MEL_mets_CM1</td><td> 4.197080</td><td>11</td><td>11</td><td>lymph node</td><td>metastatic tumour</td><td>Melanoma</td><td>GSE215120_MEL_mets_CM1</td></tr>\n",
       "\t<tr><th scope=row>GSE215120_CM1_mets_TTTCACACACCGGAAA-1</th><td>GSE215120</td><td>1174</td><td> 529</td><td>LN metastasis</td><td>Cutaneous Melanoma</td><td>CM1</td><td>GSE215120_MEL_mets_CM1</td><td>22.146508</td><td>11</td><td>11</td><td>lymph node</td><td>metastatic tumour</td><td>Melanoma</td><td>GSE215120_MEL_mets_CM1</td></tr>\n",
       "\t<tr><th scope=row>GSE215120_CM1_mets_TTTCATGTCCACTAGA-1</th><td>GSE215120</td><td> 732</td><td> 395</td><td>LN metastasis</td><td>Cutaneous Melanoma</td><td>CM1</td><td>GSE215120_MEL_mets_CM1</td><td> 2.322404</td><td>11</td><td>11</td><td>lymph node</td><td>metastatic tumour</td><td>Melanoma</td><td>GSE215120_MEL_mets_CM1</td></tr>\n",
       "\t<tr><th scope=row>GSE215120_CM1_mets_TTTGGAGGTTGAGAGC-1</th><td>GSE215120</td><td>4265</td><td>1376</td><td>LN metastasis</td><td>Cutaneous Melanoma</td><td>CM1</td><td>GSE215120_MEL_mets_CM1</td><td> 4.220399</td><td>11</td><td>11</td><td>lymph node</td><td>metastatic tumour</td><td>Melanoma</td><td>GSE215120_MEL_mets_CM1</td></tr>\n",
       "\t<tr><th scope=row>GSE215120_CM1_mets_TTTGGTTTCGAGGCAA-1</th><td>GSE215120</td><td> 671</td><td> 384</td><td>LN metastasis</td><td>Cutaneous Melanoma</td><td>CM1</td><td>GSE215120_MEL_mets_CM1</td><td> 1.043219</td><td>11</td><td>11</td><td>lymph node</td><td>metastatic tumour</td><td>Melanoma</td><td>GSE215120_MEL_mets_CM1</td></tr>\n",
       "</tbody>\n",
       "</table>\n"
      ],
      "text/latex": [
       "A data.frame: 6 × 14\n",
       "\\begin{tabular}{r|llllllllllllll}\n",
       "  & orig.ident & nCount\\_RNA & nFeature\\_RNA & sample\\_type & cancer\\_type & patient\\_id & sample\\_id & percent.mt & RNA\\_snn\\_res.0.2 & seurat\\_clusters & site & sample\\_type\\_major & cancer\\_subtype & integration\\_id\\\\\n",
       "  & <chr> & <dbl> & <int> & <chr> & <chr> & <chr> & <chr> & <dbl> & <chr> & <chr> & <chr> & <chr> & <chr> & <chr>\\\\\n",
       "\\hline\n",
       "\tGSE215120\\_CM1\\_mets\\_TTGGTTTAGTGCAACG-1 & GSE215120 &  627 &  355 & LN metastasis & Cutaneous Melanoma & CM1 & GSE215120\\_MEL\\_mets\\_CM1 &  3.668262 & 11 & 11 & lymph node & metastatic tumour & Melanoma & GSE215120\\_MEL\\_mets\\_CM1\\\\\n",
       "\tGSE215120\\_CM1\\_mets\\_TTTAGTCAGTTCTCTT-1 & GSE215120 & 2740 &  748 & LN metastasis & Cutaneous Melanoma & CM1 & GSE215120\\_MEL\\_mets\\_CM1 &  4.197080 & 11 & 11 & lymph node & metastatic tumour & Melanoma & GSE215120\\_MEL\\_mets\\_CM1\\\\\n",
       "\tGSE215120\\_CM1\\_mets\\_TTTCACACACCGGAAA-1 & GSE215120 & 1174 &  529 & LN metastasis & Cutaneous Melanoma & CM1 & GSE215120\\_MEL\\_mets\\_CM1 & 22.146508 & 11 & 11 & lymph node & metastatic tumour & Melanoma & GSE215120\\_MEL\\_mets\\_CM1\\\\\n",
       "\tGSE215120\\_CM1\\_mets\\_TTTCATGTCCACTAGA-1 & GSE215120 &  732 &  395 & LN metastasis & Cutaneous Melanoma & CM1 & GSE215120\\_MEL\\_mets\\_CM1 &  2.322404 & 11 & 11 & lymph node & metastatic tumour & Melanoma & GSE215120\\_MEL\\_mets\\_CM1\\\\\n",
       "\tGSE215120\\_CM1\\_mets\\_TTTGGAGGTTGAGAGC-1 & GSE215120 & 4265 & 1376 & LN metastasis & Cutaneous Melanoma & CM1 & GSE215120\\_MEL\\_mets\\_CM1 &  4.220399 & 11 & 11 & lymph node & metastatic tumour & Melanoma & GSE215120\\_MEL\\_mets\\_CM1\\\\\n",
       "\tGSE215120\\_CM1\\_mets\\_TTTGGTTTCGAGGCAA-1 & GSE215120 &  671 &  384 & LN metastasis & Cutaneous Melanoma & CM1 & GSE215120\\_MEL\\_mets\\_CM1 &  1.043219 & 11 & 11 & lymph node & metastatic tumour & Melanoma & GSE215120\\_MEL\\_mets\\_CM1\\\\\n",
       "\\end{tabular}\n"
      ],
      "text/markdown": [
       "\n",
       "A data.frame: 6 × 14\n",
       "\n",
       "| <!--/--> | orig.ident &lt;chr&gt; | nCount_RNA &lt;dbl&gt; | nFeature_RNA &lt;int&gt; | sample_type &lt;chr&gt; | cancer_type &lt;chr&gt; | patient_id &lt;chr&gt; | sample_id &lt;chr&gt; | percent.mt &lt;dbl&gt; | RNA_snn_res.0.2 &lt;chr&gt; | seurat_clusters &lt;chr&gt; | site &lt;chr&gt; | sample_type_major &lt;chr&gt; | cancer_subtype &lt;chr&gt; | integration_id &lt;chr&gt; |\n",
       "|---|---|---|---|---|---|---|---|---|---|---|---|---|---|---|\n",
       "| GSE215120_CM1_mets_TTGGTTTAGTGCAACG-1 | GSE215120 |  627 |  355 | LN metastasis | Cutaneous Melanoma | CM1 | GSE215120_MEL_mets_CM1 |  3.668262 | 11 | 11 | lymph node | metastatic tumour | Melanoma | GSE215120_MEL_mets_CM1 |\n",
       "| GSE215120_CM1_mets_TTTAGTCAGTTCTCTT-1 | GSE215120 | 2740 |  748 | LN metastasis | Cutaneous Melanoma | CM1 | GSE215120_MEL_mets_CM1 |  4.197080 | 11 | 11 | lymph node | metastatic tumour | Melanoma | GSE215120_MEL_mets_CM1 |\n",
       "| GSE215120_CM1_mets_TTTCACACACCGGAAA-1 | GSE215120 | 1174 |  529 | LN metastasis | Cutaneous Melanoma | CM1 | GSE215120_MEL_mets_CM1 | 22.146508 | 11 | 11 | lymph node | metastatic tumour | Melanoma | GSE215120_MEL_mets_CM1 |\n",
       "| GSE215120_CM1_mets_TTTCATGTCCACTAGA-1 | GSE215120 |  732 |  395 | LN metastasis | Cutaneous Melanoma | CM1 | GSE215120_MEL_mets_CM1 |  2.322404 | 11 | 11 | lymph node | metastatic tumour | Melanoma | GSE215120_MEL_mets_CM1 |\n",
       "| GSE215120_CM1_mets_TTTGGAGGTTGAGAGC-1 | GSE215120 | 4265 | 1376 | LN metastasis | Cutaneous Melanoma | CM1 | GSE215120_MEL_mets_CM1 |  4.220399 | 11 | 11 | lymph node | metastatic tumour | Melanoma | GSE215120_MEL_mets_CM1 |\n",
       "| GSE215120_CM1_mets_TTTGGTTTCGAGGCAA-1 | GSE215120 |  671 |  384 | LN metastasis | Cutaneous Melanoma | CM1 | GSE215120_MEL_mets_CM1 |  1.043219 | 11 | 11 | lymph node | metastatic tumour | Melanoma | GSE215120_MEL_mets_CM1 |\n",
       "\n"
      ],
      "text/plain": [
       "                                      orig.ident nCount_RNA nFeature_RNA\n",
       "GSE215120_CM1_mets_TTGGTTTAGTGCAACG-1 GSE215120   627        355        \n",
       "GSE215120_CM1_mets_TTTAGTCAGTTCTCTT-1 GSE215120  2740        748        \n",
       "GSE215120_CM1_mets_TTTCACACACCGGAAA-1 GSE215120  1174        529        \n",
       "GSE215120_CM1_mets_TTTCATGTCCACTAGA-1 GSE215120   732        395        \n",
       "GSE215120_CM1_mets_TTTGGAGGTTGAGAGC-1 GSE215120  4265       1376        \n",
       "GSE215120_CM1_mets_TTTGGTTTCGAGGCAA-1 GSE215120   671        384        \n",
       "                                      sample_type   cancer_type       \n",
       "GSE215120_CM1_mets_TTGGTTTAGTGCAACG-1 LN metastasis Cutaneous Melanoma\n",
       "GSE215120_CM1_mets_TTTAGTCAGTTCTCTT-1 LN metastasis Cutaneous Melanoma\n",
       "GSE215120_CM1_mets_TTTCACACACCGGAAA-1 LN metastasis Cutaneous Melanoma\n",
       "GSE215120_CM1_mets_TTTCATGTCCACTAGA-1 LN metastasis Cutaneous Melanoma\n",
       "GSE215120_CM1_mets_TTTGGAGGTTGAGAGC-1 LN metastasis Cutaneous Melanoma\n",
       "GSE215120_CM1_mets_TTTGGTTTCGAGGCAA-1 LN metastasis Cutaneous Melanoma\n",
       "                                      patient_id sample_id             \n",
       "GSE215120_CM1_mets_TTGGTTTAGTGCAACG-1 CM1        GSE215120_MEL_mets_CM1\n",
       "GSE215120_CM1_mets_TTTAGTCAGTTCTCTT-1 CM1        GSE215120_MEL_mets_CM1\n",
       "GSE215120_CM1_mets_TTTCACACACCGGAAA-1 CM1        GSE215120_MEL_mets_CM1\n",
       "GSE215120_CM1_mets_TTTCATGTCCACTAGA-1 CM1        GSE215120_MEL_mets_CM1\n",
       "GSE215120_CM1_mets_TTTGGAGGTTGAGAGC-1 CM1        GSE215120_MEL_mets_CM1\n",
       "GSE215120_CM1_mets_TTTGGTTTCGAGGCAA-1 CM1        GSE215120_MEL_mets_CM1\n",
       "                                      percent.mt RNA_snn_res.0.2\n",
       "GSE215120_CM1_mets_TTGGTTTAGTGCAACG-1  3.668262  11             \n",
       "GSE215120_CM1_mets_TTTAGTCAGTTCTCTT-1  4.197080  11             \n",
       "GSE215120_CM1_mets_TTTCACACACCGGAAA-1 22.146508  11             \n",
       "GSE215120_CM1_mets_TTTCATGTCCACTAGA-1  2.322404  11             \n",
       "GSE215120_CM1_mets_TTTGGAGGTTGAGAGC-1  4.220399  11             \n",
       "GSE215120_CM1_mets_TTTGGTTTCGAGGCAA-1  1.043219  11             \n",
       "                                      seurat_clusters site      \n",
       "GSE215120_CM1_mets_TTGGTTTAGTGCAACG-1 11              lymph node\n",
       "GSE215120_CM1_mets_TTTAGTCAGTTCTCTT-1 11              lymph node\n",
       "GSE215120_CM1_mets_TTTCACACACCGGAAA-1 11              lymph node\n",
       "GSE215120_CM1_mets_TTTCATGTCCACTAGA-1 11              lymph node\n",
       "GSE215120_CM1_mets_TTTGGAGGTTGAGAGC-1 11              lymph node\n",
       "GSE215120_CM1_mets_TTTGGTTTCGAGGCAA-1 11              lymph node\n",
       "                                      sample_type_major cancer_subtype\n",
       "GSE215120_CM1_mets_TTGGTTTAGTGCAACG-1 metastatic tumour Melanoma      \n",
       "GSE215120_CM1_mets_TTTAGTCAGTTCTCTT-1 metastatic tumour Melanoma      \n",
       "GSE215120_CM1_mets_TTTCACACACCGGAAA-1 metastatic tumour Melanoma      \n",
       "GSE215120_CM1_mets_TTTCATGTCCACTAGA-1 metastatic tumour Melanoma      \n",
       "GSE215120_CM1_mets_TTTGGAGGTTGAGAGC-1 metastatic tumour Melanoma      \n",
       "GSE215120_CM1_mets_TTTGGTTTCGAGGCAA-1 metastatic tumour Melanoma      \n",
       "                                      integration_id        \n",
       "GSE215120_CM1_mets_TTGGTTTAGTGCAACG-1 GSE215120_MEL_mets_CM1\n",
       "GSE215120_CM1_mets_TTTAGTCAGTTCTCTT-1 GSE215120_MEL_mets_CM1\n",
       "GSE215120_CM1_mets_TTTCACACACCGGAAA-1 GSE215120_MEL_mets_CM1\n",
       "GSE215120_CM1_mets_TTTCATGTCCACTAGA-1 GSE215120_MEL_mets_CM1\n",
       "GSE215120_CM1_mets_TTTGGAGGTTGAGAGC-1 GSE215120_MEL_mets_CM1\n",
       "GSE215120_CM1_mets_TTTGGTTTCGAGGCAA-1 GSE215120_MEL_mets_CM1"
      ]
     },
     "metadata": {},
     "output_type": "display_data"
    },
    {
     "data": {
      "text/plain": [
       "\n",
       "GSE215120_Acral_MEL_AM1 GSE215120_Acral_MEL_AM3 GSE215120_Acral_MEL_AM5 \n",
       "                    260                     101                     279 \n",
       "GSE215120_Acral_MEL_AM6   GSE215120_Cut_MEL_CM1   GSE215120_Cut_MEL_CM3 \n",
       "                    115                     133                     100 \n",
       " GSE215120_MEL_mets_CM1 \n",
       "                    162 "
      ]
     },
     "metadata": {},
     "output_type": "display_data"
    }
   ],
   "source": [
    "#record number of cells\n",
    "MEL\n",
    "MEL@project.name\n",
    "head(MEL@meta.data)\n",
    "tail(MEL@meta.data)\n",
    "table(MEL$integration_id)"
   ]
  },
  {
   "cell_type": "code",
   "execution_count": 145,
   "metadata": {
    "vscode": {
     "languageId": "r"
    }
   },
   "outputs": [],
   "source": [
    "#re-export seurat object ready for integration\n",
    "saveRDS(MEL, \"/scratch/user/s4436039/scdata/Myeloid_Cells/Myeloid_Cells_Integrate/GSE215120_myeloid_int.RDS\")"
   ]
  },
  {
   "cell_type": "code",
   "execution_count": 146,
   "metadata": {
    "vscode": {
     "languageId": "r"
    }
   },
   "outputs": [],
   "source": [
    "#remove all objects in R\n",
    "rm(list = ls())"
   ]
  },
  {
   "cell_type": "markdown",
   "metadata": {},
   "source": [
    "## PRJNA907381"
   ]
  },
  {
   "cell_type": "code",
   "execution_count": 147,
   "metadata": {
    "vscode": {
     "languageId": "r"
    }
   },
   "outputs": [],
   "source": [
    "MEL <- readRDS(\"/scratch/user/s4436039/scdata/Myeloid_Cells/PRJNA907381_myeloid.RDS\")"
   ]
  },
  {
   "cell_type": "code",
   "execution_count": 148,
   "metadata": {
    "vscode": {
     "languageId": "r"
    }
   },
   "outputs": [
    {
     "data": {
      "text/plain": [
       "An object of class Seurat \n",
       "36601 features across 2723 samples within 1 assay \n",
       "Active assay: RNA (36601 features, 2000 variable features)\n",
       " 17 layers present: counts.1, counts.2, counts.3, counts.4, counts.5, counts.6, counts.7, counts.8, data.1, data.2, data.3, data.4, data.5, data.6, data.7, data.8, scale.data\n",
       " 2 dimensional reductions calculated: pca, umap"
      ]
     },
     "metadata": {},
     "output_type": "display_data"
    },
    {
     "data": {
      "text/html": [
       "'PRJNA907381'"
      ],
      "text/latex": [
       "'PRJNA907381'"
      ],
      "text/markdown": [
       "'PRJNA907381'"
      ],
      "text/plain": [
       "[1] \"PRJNA907381\""
      ]
     },
     "metadata": {},
     "output_type": "display_data"
    },
    {
     "data": {
      "text/html": [
       "<table class=\"dataframe\">\n",
       "<caption>A data.frame: 6 × 10</caption>\n",
       "<thead>\n",
       "\t<tr><th></th><th scope=col>orig.ident</th><th scope=col>nCount_RNA</th><th scope=col>nFeature_RNA</th><th scope=col>sample_type</th><th scope=col>cancer_type</th><th scope=col>patient_id</th><th scope=col>sample_id</th><th scope=col>percent.mt</th><th scope=col>RNA_snn_res.0.2</th><th scope=col>seurat_clusters</th></tr>\n",
       "\t<tr><th></th><th scope=col>&lt;chr&gt;</th><th scope=col>&lt;dbl&gt;</th><th scope=col>&lt;int&gt;</th><th scope=col>&lt;chr&gt;</th><th scope=col>&lt;chr&gt;</th><th scope=col>&lt;chr&gt;</th><th scope=col>&lt;chr&gt;</th><th scope=col>&lt;dbl&gt;</th><th scope=col>&lt;fct&gt;</th><th scope=col>&lt;fct&gt;</th></tr>\n",
       "</thead>\n",
       "<tbody>\n",
       "\t<tr><th scope=row>PRJNA907381_MEL022_iLN_AAAGAACCAGCGCGTT-1</th><td>PRJNA907381</td><td>17285</td><td>3704</td><td>LN mets</td><td>Metastatic Melanoma</td><td>MEL022</td><td>PRJNA907381_MEL022_iLN</td><td>2.100087</td><td>6</td><td>6</td></tr>\n",
       "\t<tr><th scope=row>PRJNA907381_MEL022_iLN_AAAGGGCTCCATAGAC-1</th><td>PRJNA907381</td><td>42925</td><td>6544</td><td>LN mets</td><td>Metastatic Melanoma</td><td>MEL022</td><td>PRJNA907381_MEL022_iLN</td><td>3.934770</td><td>6</td><td>6</td></tr>\n",
       "\t<tr><th scope=row>PRJNA907381_MEL022_iLN_AACAAAGCAAGTATAG-1</th><td>PRJNA907381</td><td>16549</td><td>3569</td><td>LN mets</td><td>Metastatic Melanoma</td><td>MEL022</td><td>PRJNA907381_MEL022_iLN</td><td>6.689226</td><td>6</td><td>6</td></tr>\n",
       "\t<tr><th scope=row>PRJNA907381_MEL022_iLN_AACAAGACAGGATTCT-1</th><td>PRJNA907381</td><td>18108</td><td>3854</td><td>LN mets</td><td>Metastatic Melanoma</td><td>MEL022</td><td>PRJNA907381_MEL022_iLN</td><td>4.870775</td><td>6</td><td>6</td></tr>\n",
       "\t<tr><th scope=row>PRJNA907381_MEL022_iLN_AACCACATCTTTCCAA-1</th><td>PRJNA907381</td><td>31754</td><td>5097</td><td>LN mets</td><td>Metastatic Melanoma</td><td>MEL022</td><td>PRJNA907381_MEL022_iLN</td><td>3.231089</td><td>6</td><td>6</td></tr>\n",
       "\t<tr><th scope=row>PRJNA907381_MEL022_iLN_AACCATGAGAAGTCTA-1</th><td>PRJNA907381</td><td>26158</td><td>4705</td><td>LN mets</td><td>Metastatic Melanoma</td><td>MEL022</td><td>PRJNA907381_MEL022_iLN</td><td>4.908632</td><td>6</td><td>6</td></tr>\n",
       "</tbody>\n",
       "</table>\n"
      ],
      "text/latex": [
       "A data.frame: 6 × 10\n",
       "\\begin{tabular}{r|llllllllll}\n",
       "  & orig.ident & nCount\\_RNA & nFeature\\_RNA & sample\\_type & cancer\\_type & patient\\_id & sample\\_id & percent.mt & RNA\\_snn\\_res.0.2 & seurat\\_clusters\\\\\n",
       "  & <chr> & <dbl> & <int> & <chr> & <chr> & <chr> & <chr> & <dbl> & <fct> & <fct>\\\\\n",
       "\\hline\n",
       "\tPRJNA907381\\_MEL022\\_iLN\\_AAAGAACCAGCGCGTT-1 & PRJNA907381 & 17285 & 3704 & LN mets & Metastatic Melanoma & MEL022 & PRJNA907381\\_MEL022\\_iLN & 2.100087 & 6 & 6\\\\\n",
       "\tPRJNA907381\\_MEL022\\_iLN\\_AAAGGGCTCCATAGAC-1 & PRJNA907381 & 42925 & 6544 & LN mets & Metastatic Melanoma & MEL022 & PRJNA907381\\_MEL022\\_iLN & 3.934770 & 6 & 6\\\\\n",
       "\tPRJNA907381\\_MEL022\\_iLN\\_AACAAAGCAAGTATAG-1 & PRJNA907381 & 16549 & 3569 & LN mets & Metastatic Melanoma & MEL022 & PRJNA907381\\_MEL022\\_iLN & 6.689226 & 6 & 6\\\\\n",
       "\tPRJNA907381\\_MEL022\\_iLN\\_AACAAGACAGGATTCT-1 & PRJNA907381 & 18108 & 3854 & LN mets & Metastatic Melanoma & MEL022 & PRJNA907381\\_MEL022\\_iLN & 4.870775 & 6 & 6\\\\\n",
       "\tPRJNA907381\\_MEL022\\_iLN\\_AACCACATCTTTCCAA-1 & PRJNA907381 & 31754 & 5097 & LN mets & Metastatic Melanoma & MEL022 & PRJNA907381\\_MEL022\\_iLN & 3.231089 & 6 & 6\\\\\n",
       "\tPRJNA907381\\_MEL022\\_iLN\\_AACCATGAGAAGTCTA-1 & PRJNA907381 & 26158 & 4705 & LN mets & Metastatic Melanoma & MEL022 & PRJNA907381\\_MEL022\\_iLN & 4.908632 & 6 & 6\\\\\n",
       "\\end{tabular}\n"
      ],
      "text/markdown": [
       "\n",
       "A data.frame: 6 × 10\n",
       "\n",
       "| <!--/--> | orig.ident &lt;chr&gt; | nCount_RNA &lt;dbl&gt; | nFeature_RNA &lt;int&gt; | sample_type &lt;chr&gt; | cancer_type &lt;chr&gt; | patient_id &lt;chr&gt; | sample_id &lt;chr&gt; | percent.mt &lt;dbl&gt; | RNA_snn_res.0.2 &lt;fct&gt; | seurat_clusters &lt;fct&gt; |\n",
       "|---|---|---|---|---|---|---|---|---|---|---|\n",
       "| PRJNA907381_MEL022_iLN_AAAGAACCAGCGCGTT-1 | PRJNA907381 | 17285 | 3704 | LN mets | Metastatic Melanoma | MEL022 | PRJNA907381_MEL022_iLN | 2.100087 | 6 | 6 |\n",
       "| PRJNA907381_MEL022_iLN_AAAGGGCTCCATAGAC-1 | PRJNA907381 | 42925 | 6544 | LN mets | Metastatic Melanoma | MEL022 | PRJNA907381_MEL022_iLN | 3.934770 | 6 | 6 |\n",
       "| PRJNA907381_MEL022_iLN_AACAAAGCAAGTATAG-1 | PRJNA907381 | 16549 | 3569 | LN mets | Metastatic Melanoma | MEL022 | PRJNA907381_MEL022_iLN | 6.689226 | 6 | 6 |\n",
       "| PRJNA907381_MEL022_iLN_AACAAGACAGGATTCT-1 | PRJNA907381 | 18108 | 3854 | LN mets | Metastatic Melanoma | MEL022 | PRJNA907381_MEL022_iLN | 4.870775 | 6 | 6 |\n",
       "| PRJNA907381_MEL022_iLN_AACCACATCTTTCCAA-1 | PRJNA907381 | 31754 | 5097 | LN mets | Metastatic Melanoma | MEL022 | PRJNA907381_MEL022_iLN | 3.231089 | 6 | 6 |\n",
       "| PRJNA907381_MEL022_iLN_AACCATGAGAAGTCTA-1 | PRJNA907381 | 26158 | 4705 | LN mets | Metastatic Melanoma | MEL022 | PRJNA907381_MEL022_iLN | 4.908632 | 6 | 6 |\n",
       "\n"
      ],
      "text/plain": [
       "                                          orig.ident  nCount_RNA nFeature_RNA\n",
       "PRJNA907381_MEL022_iLN_AAAGAACCAGCGCGTT-1 PRJNA907381 17285      3704        \n",
       "PRJNA907381_MEL022_iLN_AAAGGGCTCCATAGAC-1 PRJNA907381 42925      6544        \n",
       "PRJNA907381_MEL022_iLN_AACAAAGCAAGTATAG-1 PRJNA907381 16549      3569        \n",
       "PRJNA907381_MEL022_iLN_AACAAGACAGGATTCT-1 PRJNA907381 18108      3854        \n",
       "PRJNA907381_MEL022_iLN_AACCACATCTTTCCAA-1 PRJNA907381 31754      5097        \n",
       "PRJNA907381_MEL022_iLN_AACCATGAGAAGTCTA-1 PRJNA907381 26158      4705        \n",
       "                                          sample_type cancer_type        \n",
       "PRJNA907381_MEL022_iLN_AAAGAACCAGCGCGTT-1 LN mets     Metastatic Melanoma\n",
       "PRJNA907381_MEL022_iLN_AAAGGGCTCCATAGAC-1 LN mets     Metastatic Melanoma\n",
       "PRJNA907381_MEL022_iLN_AACAAAGCAAGTATAG-1 LN mets     Metastatic Melanoma\n",
       "PRJNA907381_MEL022_iLN_AACAAGACAGGATTCT-1 LN mets     Metastatic Melanoma\n",
       "PRJNA907381_MEL022_iLN_AACCACATCTTTCCAA-1 LN mets     Metastatic Melanoma\n",
       "PRJNA907381_MEL022_iLN_AACCATGAGAAGTCTA-1 LN mets     Metastatic Melanoma\n",
       "                                          patient_id sample_id             \n",
       "PRJNA907381_MEL022_iLN_AAAGAACCAGCGCGTT-1 MEL022     PRJNA907381_MEL022_iLN\n",
       "PRJNA907381_MEL022_iLN_AAAGGGCTCCATAGAC-1 MEL022     PRJNA907381_MEL022_iLN\n",
       "PRJNA907381_MEL022_iLN_AACAAAGCAAGTATAG-1 MEL022     PRJNA907381_MEL022_iLN\n",
       "PRJNA907381_MEL022_iLN_AACAAGACAGGATTCT-1 MEL022     PRJNA907381_MEL022_iLN\n",
       "PRJNA907381_MEL022_iLN_AACCACATCTTTCCAA-1 MEL022     PRJNA907381_MEL022_iLN\n",
       "PRJNA907381_MEL022_iLN_AACCATGAGAAGTCTA-1 MEL022     PRJNA907381_MEL022_iLN\n",
       "                                          percent.mt RNA_snn_res.0.2\n",
       "PRJNA907381_MEL022_iLN_AAAGAACCAGCGCGTT-1 2.100087   6              \n",
       "PRJNA907381_MEL022_iLN_AAAGGGCTCCATAGAC-1 3.934770   6              \n",
       "PRJNA907381_MEL022_iLN_AACAAAGCAAGTATAG-1 6.689226   6              \n",
       "PRJNA907381_MEL022_iLN_AACAAGACAGGATTCT-1 4.870775   6              \n",
       "PRJNA907381_MEL022_iLN_AACCACATCTTTCCAA-1 3.231089   6              \n",
       "PRJNA907381_MEL022_iLN_AACCATGAGAAGTCTA-1 4.908632   6              \n",
       "                                          seurat_clusters\n",
       "PRJNA907381_MEL022_iLN_AAAGAACCAGCGCGTT-1 6              \n",
       "PRJNA907381_MEL022_iLN_AAAGGGCTCCATAGAC-1 6              \n",
       "PRJNA907381_MEL022_iLN_AACAAAGCAAGTATAG-1 6              \n",
       "PRJNA907381_MEL022_iLN_AACAAGACAGGATTCT-1 6              \n",
       "PRJNA907381_MEL022_iLN_AACCACATCTTTCCAA-1 6              \n",
       "PRJNA907381_MEL022_iLN_AACCATGAGAAGTCTA-1 6              "
      ]
     },
     "metadata": {},
     "output_type": "display_data"
    }
   ],
   "source": [
    "MEL\n",
    "MEL@project.name\n",
    "head(MEL@meta.data)"
   ]
  },
  {
   "cell_type": "code",
   "execution_count": 149,
   "metadata": {
    "vscode": {
     "languageId": "r"
    }
   },
   "outputs": [
    {
     "data": {
      "text/plain": [
       "\n",
       "      LN mets uninvolved LN \n",
       "         1536          1187 "
      ]
     },
     "metadata": {},
     "output_type": "display_data"
    },
    {
     "data": {
      "text/plain": [
       "\n",
       "            Healthy Metastatic Melanoma \n",
       "               1187                1536 "
      ]
     },
     "metadata": {},
     "output_type": "display_data"
    },
    {
     "data": {
      "text/plain": [
       "\n",
       "MEL002 MEL009 MEL014 MEL018 MEL022 \n",
       "   614    404    743    785    177 "
      ]
     },
     "metadata": {},
     "output_type": "display_data"
    },
    {
     "data": {
      "text/plain": [
       "\n",
       "PRJNA907381_MEL002_iLN PRJNA907381_MEL002_uLN PRJNA907381_MEL009_iLN \n",
       "                   164                    450                    404 \n",
       "PRJNA907381_MEL014_iLN PRJNA907381_MEL014_uLN PRJNA907381_MEL018_iLN \n",
       "                   422                    321                    369 \n",
       "PRJNA907381_MEL018_uLN PRJNA907381_MEL022_iLN \n",
       "                   416                    177 "
      ]
     },
     "metadata": {},
     "output_type": "display_data"
    }
   ],
   "source": [
    "table(MEL$sample_type)\n",
    "table(MEL$cancer_type)\n",
    "table(MEL$patient_id)\n",
    "table(MEL$sample_id)"
   ]
  },
  {
   "cell_type": "code",
   "execution_count": 150,
   "metadata": {
    "vscode": {
     "languageId": "r"
    }
   },
   "outputs": [],
   "source": [
    "#split by cancer_type\n",
    "MEL_Tu <- subset(MEL, subset = cancer_type %in% c(\"Metastatic Melanoma\"))\n",
    "MEL_H <- subset(MEL, subset = cancer_type %in% c(\"Healthy\"))\n",
    "\n",
    "#set site and sample_type_major metadata\n",
    "MEL_Tu@meta.data$site <- \"lymph node\"\n",
    "MEL_H@meta.data$site <- \"lymph node\"\n",
    "\n",
    "MEL_Tu@meta.data$sample_type_major <- \"metastatic tumour\"\n",
    "MEL_H@meta.data$sample_type_major <- \"healthy\"\n",
    "\n",
    "#set subtype metadata\n",
    "MEL_Tu@meta.data$cancer_subtype <- \"Melanoma\"\n",
    "MEL_H@meta.data$cancer_subtype <- \"NA\"\n",
    "\n",
    "#Merge seurat objects back together\n",
    "MEL <- merge(MEL_Tu, y = c(MEL_H), project = \"PRJNA907381\")"
   ]
  },
  {
   "cell_type": "markdown",
   "metadata": {},
   "source": [
    "## Up to here"
   ]
  },
  {
   "cell_type": "code",
   "execution_count": null,
   "metadata": {
    "vscode": {
     "languageId": "r"
    }
   },
   "outputs": [],
   "source": [
    "#set integration_id metadata\n",
    "MEL@meta.data$integration_id <- MEL@meta.data$sample_id"
   ]
  },
  {
   "cell_type": "code",
   "execution_count": null,
   "metadata": {
    "vscode": {
     "languageId": "r"
    }
   },
   "outputs": [
    {
     "data": {
      "text/plain": [
       "An object of class Seurat \n",
       "33538 features across 1214 samples within 1 assay \n",
       "Active assay: RNA (33538 features, 2000 variable features)\n",
       " 23 layers present: counts.1.1, counts.1.2, counts.2.1, counts.2.2, counts.3.1, counts.3.2, counts.4.1, counts.4.3, counts.5.1, counts.6.1, data.1.1, data.2.1, data.3.1, data.4.1, data.5.1, data.6.1, scale.data.1, data.1.2, data.2.2, data.3.2, scale.data.2, data.4.3, scale.data.3"
      ]
     },
     "metadata": {},
     "output_type": "display_data"
    },
    {
     "data": {
      "text/html": [
       "'GSE215120'"
      ],
      "text/latex": [
       "'GSE215120'"
      ],
      "text/markdown": [
       "'GSE215120'"
      ],
      "text/plain": [
       "[1] \"GSE215120\""
      ]
     },
     "metadata": {},
     "output_type": "display_data"
    },
    {
     "data": {
      "text/html": [
       "<table class=\"dataframe\">\n",
       "<caption>A data.frame: 6 × 14</caption>\n",
       "<thead>\n",
       "\t<tr><th></th><th scope=col>orig.ident</th><th scope=col>nCount_RNA</th><th scope=col>nFeature_RNA</th><th scope=col>sample_type</th><th scope=col>cancer_type</th><th scope=col>patient_id</th><th scope=col>sample_id</th><th scope=col>percent.mt</th><th scope=col>RNA_snn_res.0.2</th><th scope=col>seurat_clusters</th><th scope=col>site</th><th scope=col>sample_type_major</th><th scope=col>cancer_subtype</th><th scope=col>integration_id</th></tr>\n",
       "\t<tr><th></th><th scope=col>&lt;chr&gt;</th><th scope=col>&lt;dbl&gt;</th><th scope=col>&lt;int&gt;</th><th scope=col>&lt;chr&gt;</th><th scope=col>&lt;chr&gt;</th><th scope=col>&lt;chr&gt;</th><th scope=col>&lt;chr&gt;</th><th scope=col>&lt;dbl&gt;</th><th scope=col>&lt;chr&gt;</th><th scope=col>&lt;chr&gt;</th><th scope=col>&lt;chr&gt;</th><th scope=col>&lt;chr&gt;</th><th scope=col>&lt;chr&gt;</th><th scope=col>&lt;chr&gt;</th></tr>\n",
       "</thead>\n",
       "<tbody>\n",
       "\t<tr><th scope=row>GSE215120_AM1_AAACCTGGTTGCTCCT-1</th><td>GSE215120</td><td>20298</td><td>3789</td><td>tumour</td><td>Acral Melanoma</td><td>AM1</td><td>GSE215120_Acral_MEL_AM1</td><td>0.9754656</td><td>12</td><td>12</td><td>skin</td><td>primary tumour</td><td>Acral Melanoma</td><td>GSE215120_Acral_MEL_AM1</td></tr>\n",
       "\t<tr><th scope=row>GSE215120_AM1_AAAGATGTCCAAATGC-1</th><td>GSE215120</td><td> 5574</td><td>1721</td><td>tumour</td><td>Acral Melanoma</td><td>AM1</td><td>GSE215120_Acral_MEL_AM1</td><td>6.0459275</td><td>12</td><td>12</td><td>skin</td><td>primary tumour</td><td>Acral Melanoma</td><td>GSE215120_Acral_MEL_AM1</td></tr>\n",
       "\t<tr><th scope=row>GSE215120_AM1_AAAGTAGTCGGTGTTA-1</th><td>GSE215120</td><td>13432</td><td>2759</td><td>tumour</td><td>Acral Melanoma</td><td>AM1</td><td>GSE215120_Acral_MEL_AM1</td><td>2.1515783</td><td>12</td><td>12</td><td>skin</td><td>primary tumour</td><td>Acral Melanoma</td><td>GSE215120_Acral_MEL_AM1</td></tr>\n",
       "\t<tr><th scope=row>GSE215120_AM1_AAATGCCCAGAGCCAA-1</th><td>GSE215120</td><td>17143</td><td>2659</td><td>tumour</td><td>Acral Melanoma</td><td>AM1</td><td>GSE215120_Acral_MEL_AM1</td><td>1.2249898</td><td>12</td><td>12</td><td>skin</td><td>primary tumour</td><td>Acral Melanoma</td><td>GSE215120_Acral_MEL_AM1</td></tr>\n",
       "\t<tr><th scope=row>GSE215120_AM1_AAATGCCGTTTGGCGC-1</th><td>GSE215120</td><td> 3603</td><td>1012</td><td>tumour</td><td>Acral Melanoma</td><td>AM1</td><td>GSE215120_Acral_MEL_AM1</td><td>3.6081044</td><td>12</td><td>12</td><td>skin</td><td>primary tumour</td><td>Acral Melanoma</td><td>GSE215120_Acral_MEL_AM1</td></tr>\n",
       "\t<tr><th scope=row>GSE215120_AM1_AAATGCCTCATGTCCC-1</th><td>GSE215120</td><td>14482</td><td>2882</td><td>tumour</td><td>Acral Melanoma</td><td>AM1</td><td>GSE215120_Acral_MEL_AM1</td><td>1.0357685</td><td>12</td><td>12</td><td>skin</td><td>primary tumour</td><td>Acral Melanoma</td><td>GSE215120_Acral_MEL_AM1</td></tr>\n",
       "</tbody>\n",
       "</table>\n"
      ],
      "text/latex": [
       "A data.frame: 6 × 14\n",
       "\\begin{tabular}{r|llllllllllllll}\n",
       "  & orig.ident & nCount\\_RNA & nFeature\\_RNA & sample\\_type & cancer\\_type & patient\\_id & sample\\_id & percent.mt & RNA\\_snn\\_res.0.2 & seurat\\_clusters & site & sample\\_type\\_major & cancer\\_subtype & integration\\_id\\\\\n",
       "  & <chr> & <dbl> & <int> & <chr> & <chr> & <chr> & <chr> & <dbl> & <chr> & <chr> & <chr> & <chr> & <chr> & <chr>\\\\\n",
       "\\hline\n",
       "\tGSE215120\\_AM1\\_AAACCTGGTTGCTCCT-1 & GSE215120 & 20298 & 3789 & tumour & Acral Melanoma & AM1 & GSE215120\\_Acral\\_MEL\\_AM1 & 0.9754656 & 12 & 12 & skin & primary tumour & Acral Melanoma & GSE215120\\_Acral\\_MEL\\_AM1\\\\\n",
       "\tGSE215120\\_AM1\\_AAAGATGTCCAAATGC-1 & GSE215120 &  5574 & 1721 & tumour & Acral Melanoma & AM1 & GSE215120\\_Acral\\_MEL\\_AM1 & 6.0459275 & 12 & 12 & skin & primary tumour & Acral Melanoma & GSE215120\\_Acral\\_MEL\\_AM1\\\\\n",
       "\tGSE215120\\_AM1\\_AAAGTAGTCGGTGTTA-1 & GSE215120 & 13432 & 2759 & tumour & Acral Melanoma & AM1 & GSE215120\\_Acral\\_MEL\\_AM1 & 2.1515783 & 12 & 12 & skin & primary tumour & Acral Melanoma & GSE215120\\_Acral\\_MEL\\_AM1\\\\\n",
       "\tGSE215120\\_AM1\\_AAATGCCCAGAGCCAA-1 & GSE215120 & 17143 & 2659 & tumour & Acral Melanoma & AM1 & GSE215120\\_Acral\\_MEL\\_AM1 & 1.2249898 & 12 & 12 & skin & primary tumour & Acral Melanoma & GSE215120\\_Acral\\_MEL\\_AM1\\\\\n",
       "\tGSE215120\\_AM1\\_AAATGCCGTTTGGCGC-1 & GSE215120 &  3603 & 1012 & tumour & Acral Melanoma & AM1 & GSE215120\\_Acral\\_MEL\\_AM1 & 3.6081044 & 12 & 12 & skin & primary tumour & Acral Melanoma & GSE215120\\_Acral\\_MEL\\_AM1\\\\\n",
       "\tGSE215120\\_AM1\\_AAATGCCTCATGTCCC-1 & GSE215120 & 14482 & 2882 & tumour & Acral Melanoma & AM1 & GSE215120\\_Acral\\_MEL\\_AM1 & 1.0357685 & 12 & 12 & skin & primary tumour & Acral Melanoma & GSE215120\\_Acral\\_MEL\\_AM1\\\\\n",
       "\\end{tabular}\n"
      ],
      "text/markdown": [
       "\n",
       "A data.frame: 6 × 14\n",
       "\n",
       "| <!--/--> | orig.ident &lt;chr&gt; | nCount_RNA &lt;dbl&gt; | nFeature_RNA &lt;int&gt; | sample_type &lt;chr&gt; | cancer_type &lt;chr&gt; | patient_id &lt;chr&gt; | sample_id &lt;chr&gt; | percent.mt &lt;dbl&gt; | RNA_snn_res.0.2 &lt;chr&gt; | seurat_clusters &lt;chr&gt; | site &lt;chr&gt; | sample_type_major &lt;chr&gt; | cancer_subtype &lt;chr&gt; | integration_id &lt;chr&gt; |\n",
       "|---|---|---|---|---|---|---|---|---|---|---|---|---|---|---|\n",
       "| GSE215120_AM1_AAACCTGGTTGCTCCT-1 | GSE215120 | 20298 | 3789 | tumour | Acral Melanoma | AM1 | GSE215120_Acral_MEL_AM1 | 0.9754656 | 12 | 12 | skin | primary tumour | Acral Melanoma | GSE215120_Acral_MEL_AM1 |\n",
       "| GSE215120_AM1_AAAGATGTCCAAATGC-1 | GSE215120 |  5574 | 1721 | tumour | Acral Melanoma | AM1 | GSE215120_Acral_MEL_AM1 | 6.0459275 | 12 | 12 | skin | primary tumour | Acral Melanoma | GSE215120_Acral_MEL_AM1 |\n",
       "| GSE215120_AM1_AAAGTAGTCGGTGTTA-1 | GSE215120 | 13432 | 2759 | tumour | Acral Melanoma | AM1 | GSE215120_Acral_MEL_AM1 | 2.1515783 | 12 | 12 | skin | primary tumour | Acral Melanoma | GSE215120_Acral_MEL_AM1 |\n",
       "| GSE215120_AM1_AAATGCCCAGAGCCAA-1 | GSE215120 | 17143 | 2659 | tumour | Acral Melanoma | AM1 | GSE215120_Acral_MEL_AM1 | 1.2249898 | 12 | 12 | skin | primary tumour | Acral Melanoma | GSE215120_Acral_MEL_AM1 |\n",
       "| GSE215120_AM1_AAATGCCGTTTGGCGC-1 | GSE215120 |  3603 | 1012 | tumour | Acral Melanoma | AM1 | GSE215120_Acral_MEL_AM1 | 3.6081044 | 12 | 12 | skin | primary tumour | Acral Melanoma | GSE215120_Acral_MEL_AM1 |\n",
       "| GSE215120_AM1_AAATGCCTCATGTCCC-1 | GSE215120 | 14482 | 2882 | tumour | Acral Melanoma | AM1 | GSE215120_Acral_MEL_AM1 | 1.0357685 | 12 | 12 | skin | primary tumour | Acral Melanoma | GSE215120_Acral_MEL_AM1 |\n",
       "\n"
      ],
      "text/plain": [
       "                                 orig.ident nCount_RNA nFeature_RNA sample_type\n",
       "GSE215120_AM1_AAACCTGGTTGCTCCT-1 GSE215120  20298      3789         tumour     \n",
       "GSE215120_AM1_AAAGATGTCCAAATGC-1 GSE215120   5574      1721         tumour     \n",
       "GSE215120_AM1_AAAGTAGTCGGTGTTA-1 GSE215120  13432      2759         tumour     \n",
       "GSE215120_AM1_AAATGCCCAGAGCCAA-1 GSE215120  17143      2659         tumour     \n",
       "GSE215120_AM1_AAATGCCGTTTGGCGC-1 GSE215120   3603      1012         tumour     \n",
       "GSE215120_AM1_AAATGCCTCATGTCCC-1 GSE215120  14482      2882         tumour     \n",
       "                                 cancer_type    patient_id\n",
       "GSE215120_AM1_AAACCTGGTTGCTCCT-1 Acral Melanoma AM1       \n",
       "GSE215120_AM1_AAAGATGTCCAAATGC-1 Acral Melanoma AM1       \n",
       "GSE215120_AM1_AAAGTAGTCGGTGTTA-1 Acral Melanoma AM1       \n",
       "GSE215120_AM1_AAATGCCCAGAGCCAA-1 Acral Melanoma AM1       \n",
       "GSE215120_AM1_AAATGCCGTTTGGCGC-1 Acral Melanoma AM1       \n",
       "GSE215120_AM1_AAATGCCTCATGTCCC-1 Acral Melanoma AM1       \n",
       "                                 sample_id               percent.mt\n",
       "GSE215120_AM1_AAACCTGGTTGCTCCT-1 GSE215120_Acral_MEL_AM1 0.9754656 \n",
       "GSE215120_AM1_AAAGATGTCCAAATGC-1 GSE215120_Acral_MEL_AM1 6.0459275 \n",
       "GSE215120_AM1_AAAGTAGTCGGTGTTA-1 GSE215120_Acral_MEL_AM1 2.1515783 \n",
       "GSE215120_AM1_AAATGCCCAGAGCCAA-1 GSE215120_Acral_MEL_AM1 1.2249898 \n",
       "GSE215120_AM1_AAATGCCGTTTGGCGC-1 GSE215120_Acral_MEL_AM1 3.6081044 \n",
       "GSE215120_AM1_AAATGCCTCATGTCCC-1 GSE215120_Acral_MEL_AM1 1.0357685 \n",
       "                                 RNA_snn_res.0.2 seurat_clusters site\n",
       "GSE215120_AM1_AAACCTGGTTGCTCCT-1 12              12              skin\n",
       "GSE215120_AM1_AAAGATGTCCAAATGC-1 12              12              skin\n",
       "GSE215120_AM1_AAAGTAGTCGGTGTTA-1 12              12              skin\n",
       "GSE215120_AM1_AAATGCCCAGAGCCAA-1 12              12              skin\n",
       "GSE215120_AM1_AAATGCCGTTTGGCGC-1 12              12              skin\n",
       "GSE215120_AM1_AAATGCCTCATGTCCC-1 12              12              skin\n",
       "                                 sample_type_major cancer_subtype\n",
       "GSE215120_AM1_AAACCTGGTTGCTCCT-1 primary tumour    Acral Melanoma\n",
       "GSE215120_AM1_AAAGATGTCCAAATGC-1 primary tumour    Acral Melanoma\n",
       "GSE215120_AM1_AAAGTAGTCGGTGTTA-1 primary tumour    Acral Melanoma\n",
       "GSE215120_AM1_AAATGCCCAGAGCCAA-1 primary tumour    Acral Melanoma\n",
       "GSE215120_AM1_AAATGCCGTTTGGCGC-1 primary tumour    Acral Melanoma\n",
       "GSE215120_AM1_AAATGCCTCATGTCCC-1 primary tumour    Acral Melanoma\n",
       "                                 integration_id         \n",
       "GSE215120_AM1_AAACCTGGTTGCTCCT-1 GSE215120_Acral_MEL_AM1\n",
       "GSE215120_AM1_AAAGATGTCCAAATGC-1 GSE215120_Acral_MEL_AM1\n",
       "GSE215120_AM1_AAAGTAGTCGGTGTTA-1 GSE215120_Acral_MEL_AM1\n",
       "GSE215120_AM1_AAATGCCCAGAGCCAA-1 GSE215120_Acral_MEL_AM1\n",
       "GSE215120_AM1_AAATGCCGTTTGGCGC-1 GSE215120_Acral_MEL_AM1\n",
       "GSE215120_AM1_AAATGCCTCATGTCCC-1 GSE215120_Acral_MEL_AM1"
      ]
     },
     "metadata": {},
     "output_type": "display_data"
    }
   ],
   "source": [
    "MEL\n",
    "MEL@project.name\n",
    "head(MEL@meta.data)"
   ]
  },
  {
   "cell_type": "code",
   "execution_count": null,
   "metadata": {
    "vscode": {
     "languageId": "r"
    }
   },
   "outputs": [
    {
     "data": {
      "text/plain": [
       "\n",
       "GSE215120_Acral_MEL_AM1 GSE215120_Acral_MEL_AM2 GSE215120_Acral_MEL_AM3 \n",
       "                    260                      23                     101 \n",
       "GSE215120_Acral_MEL_AM4 GSE215120_Acral_MEL_AM5 GSE215120_Acral_MEL_AM6 \n",
       "                      9                     279                     115 \n",
       "  GSE215120_Cut_MEL_CM1   GSE215120_Cut_MEL_CM2   GSE215120_Cut_MEL_CM3 \n",
       "                    133                      32                     100 \n",
       " GSE215120_MEL_mets_CM1 \n",
       "                    162 "
      ]
     },
     "metadata": {},
     "output_type": "display_data"
    },
    {
     "data": {
      "text/plain": [
       "\n",
       "GSE215120_Acral_MEL_AM1 GSE215120_Acral_MEL_AM3 GSE215120_Acral_MEL_AM5 \n",
       "                    260                     101                     279 \n",
       "GSE215120_Acral_MEL_AM6   GSE215120_Cut_MEL_CM1   GSE215120_Cut_MEL_CM3 \n",
       "                    115                     133                     100 \n",
       " GSE215120_MEL_mets_CM1 \n",
       "                    162 "
      ]
     },
     "metadata": {},
     "output_type": "display_data"
    }
   ],
   "source": [
    "#exclude any samples with <100 cells\n",
    "table(MEL$integration_id)\n",
    "#exclude AM2, AM4, CM2\n",
    "MEL <- subset(MEL, !(subset = integration_id %in% c(\"GSE215120_Acral_MEL_AM2\",\"GSE215120_Acral_MEL_AM4\",\"GSE215120_Cut_MEL_CM2\")))\n",
    "table(MEL$integration_id)"
   ]
  },
  {
   "cell_type": "code",
   "execution_count": null,
   "metadata": {
    "vscode": {
     "languageId": "r"
    }
   },
   "outputs": [
    {
     "data": {
      "text/html": [
       "<style>\n",
       ".list-inline {list-style: none; margin:0; padding: 0}\n",
       ".list-inline>li {display: inline-block}\n",
       ".list-inline>li:not(:last-child)::after {content: \"\\00b7\"; padding: 0 .5ex}\n",
       "</style>\n",
       "<ol class=list-inline><li>'counts.1.1'</li><li>'counts.1.2'</li><li>'counts.3.1'</li><li>'counts.3.2'</li><li>'counts.4.3'</li><li>'counts.5.1'</li><li>'counts.6.1'</li><li>'data.1.1'</li><li>'data.3.1'</li><li>'data.5.1'</li><li>'data.6.1'</li><li>'scale.data.1'</li><li>'data.1.2'</li><li>'data.3.2'</li><li>'scale.data.2'</li><li>'data.4.3'</li><li>'scale.data.3'</li></ol>\n"
      ],
      "text/latex": [
       "\\begin{enumerate*}\n",
       "\\item 'counts.1.1'\n",
       "\\item 'counts.1.2'\n",
       "\\item 'counts.3.1'\n",
       "\\item 'counts.3.2'\n",
       "\\item 'counts.4.3'\n",
       "\\item 'counts.5.1'\n",
       "\\item 'counts.6.1'\n",
       "\\item 'data.1.1'\n",
       "\\item 'data.3.1'\n",
       "\\item 'data.5.1'\n",
       "\\item 'data.6.1'\n",
       "\\item 'scale.data.1'\n",
       "\\item 'data.1.2'\n",
       "\\item 'data.3.2'\n",
       "\\item 'scale.data.2'\n",
       "\\item 'data.4.3'\n",
       "\\item 'scale.data.3'\n",
       "\\end{enumerate*}\n"
      ],
      "text/markdown": [
       "1. 'counts.1.1'\n",
       "2. 'counts.1.2'\n",
       "3. 'counts.3.1'\n",
       "4. 'counts.3.2'\n",
       "5. 'counts.4.3'\n",
       "6. 'counts.5.1'\n",
       "7. 'counts.6.1'\n",
       "8. 'data.1.1'\n",
       "9. 'data.3.1'\n",
       "10. 'data.5.1'\n",
       "11. 'data.6.1'\n",
       "12. 'scale.data.1'\n",
       "13. 'data.1.2'\n",
       "14. 'data.3.2'\n",
       "15. 'scale.data.2'\n",
       "16. 'data.4.3'\n",
       "17. 'scale.data.3'\n",
       "\n",
       "\n"
      ],
      "text/plain": [
       " [1] \"counts.1.1\"   \"counts.1.2\"   \"counts.3.1\"   \"counts.3.2\"   \"counts.4.3\"  \n",
       " [6] \"counts.5.1\"   \"counts.6.1\"   \"data.1.1\"     \"data.3.1\"     \"data.5.1\"    \n",
       "[11] \"data.6.1\"     \"scale.data.1\" \"data.1.2\"     \"data.3.2\"     \"scale.data.2\"\n",
       "[16] \"data.4.3\"     \"scale.data.3\""
      ]
     },
     "metadata": {},
     "output_type": "display_data"
    },
    {
     "data": {
      "text/html": [
       "<style>\n",
       ".list-inline {list-style: none; margin:0; padding: 0}\n",
       ".list-inline>li {display: inline-block}\n",
       ".list-inline>li:not(:last-child)::after {content: \"\\00b7\"; padding: 0 .5ex}\n",
       "</style>\n",
       "<ol class=list-inline><li>'scale.data'</li><li>'data'</li><li>'counts'</li></ol>\n"
      ],
      "text/latex": [
       "\\begin{enumerate*}\n",
       "\\item 'scale.data'\n",
       "\\item 'data'\n",
       "\\item 'counts'\n",
       "\\end{enumerate*}\n"
      ],
      "text/markdown": [
       "1. 'scale.data'\n",
       "2. 'data'\n",
       "3. 'counts'\n",
       "\n",
       "\n"
      ],
      "text/plain": [
       "[1] \"scale.data\" \"data\"       \"counts\"    "
      ]
     },
     "metadata": {},
     "output_type": "display_data"
    },
    {
     "name": "stderr",
     "output_type": "stream",
     "text": [
      "Splitting ‘counts’, ‘data’ layers. Not splitting ‘scale.data’. If you would like to split other layers, set in `layers` argument.\n",
      "\n"
     ]
    },
    {
     "data": {
      "text/html": [
       "<style>\n",
       ".list-inline {list-style: none; margin:0; padding: 0}\n",
       ".list-inline>li {display: inline-block}\n",
       ".list-inline>li:not(:last-child)::after {content: \"\\00b7\"; padding: 0 .5ex}\n",
       "</style>\n",
       "<ol class=list-inline><li>'counts.GSE215120_Acral_MEL_AM1'</li><li>'counts.GSE215120_Acral_MEL_AM3'</li><li>'counts.GSE215120_Acral_MEL_AM5'</li><li>'counts.GSE215120_Acral_MEL_AM6'</li><li>'counts.GSE215120_Cut_MEL_CM1'</li><li>'counts.GSE215120_Cut_MEL_CM3'</li><li>'counts.GSE215120_MEL_mets_CM1'</li><li>'scale.data'</li><li>'data.GSE215120_Acral_MEL_AM1'</li><li>'data.GSE215120_Acral_MEL_AM3'</li><li>'data.GSE215120_Acral_MEL_AM5'</li><li>'data.GSE215120_Acral_MEL_AM6'</li><li>'data.GSE215120_Cut_MEL_CM1'</li><li>'data.GSE215120_Cut_MEL_CM3'</li><li>'data.GSE215120_MEL_mets_CM1'</li></ol>\n"
      ],
      "text/latex": [
       "\\begin{enumerate*}\n",
       "\\item 'counts.GSE215120\\_Acral\\_MEL\\_AM1'\n",
       "\\item 'counts.GSE215120\\_Acral\\_MEL\\_AM3'\n",
       "\\item 'counts.GSE215120\\_Acral\\_MEL\\_AM5'\n",
       "\\item 'counts.GSE215120\\_Acral\\_MEL\\_AM6'\n",
       "\\item 'counts.GSE215120\\_Cut\\_MEL\\_CM1'\n",
       "\\item 'counts.GSE215120\\_Cut\\_MEL\\_CM3'\n",
       "\\item 'counts.GSE215120\\_MEL\\_mets\\_CM1'\n",
       "\\item 'scale.data'\n",
       "\\item 'data.GSE215120\\_Acral\\_MEL\\_AM1'\n",
       "\\item 'data.GSE215120\\_Acral\\_MEL\\_AM3'\n",
       "\\item 'data.GSE215120\\_Acral\\_MEL\\_AM5'\n",
       "\\item 'data.GSE215120\\_Acral\\_MEL\\_AM6'\n",
       "\\item 'data.GSE215120\\_Cut\\_MEL\\_CM1'\n",
       "\\item 'data.GSE215120\\_Cut\\_MEL\\_CM3'\n",
       "\\item 'data.GSE215120\\_MEL\\_mets\\_CM1'\n",
       "\\end{enumerate*}\n"
      ],
      "text/markdown": [
       "1. 'counts.GSE215120_Acral_MEL_AM1'\n",
       "2. 'counts.GSE215120_Acral_MEL_AM3'\n",
       "3. 'counts.GSE215120_Acral_MEL_AM5'\n",
       "4. 'counts.GSE215120_Acral_MEL_AM6'\n",
       "5. 'counts.GSE215120_Cut_MEL_CM1'\n",
       "6. 'counts.GSE215120_Cut_MEL_CM3'\n",
       "7. 'counts.GSE215120_MEL_mets_CM1'\n",
       "8. 'scale.data'\n",
       "9. 'data.GSE215120_Acral_MEL_AM1'\n",
       "10. 'data.GSE215120_Acral_MEL_AM3'\n",
       "11. 'data.GSE215120_Acral_MEL_AM5'\n",
       "12. 'data.GSE215120_Acral_MEL_AM6'\n",
       "13. 'data.GSE215120_Cut_MEL_CM1'\n",
       "14. 'data.GSE215120_Cut_MEL_CM3'\n",
       "15. 'data.GSE215120_MEL_mets_CM1'\n",
       "\n",
       "\n"
      ],
      "text/plain": [
       " [1] \"counts.GSE215120_Acral_MEL_AM1\" \"counts.GSE215120_Acral_MEL_AM3\"\n",
       " [3] \"counts.GSE215120_Acral_MEL_AM5\" \"counts.GSE215120_Acral_MEL_AM6\"\n",
       " [5] \"counts.GSE215120_Cut_MEL_CM1\"   \"counts.GSE215120_Cut_MEL_CM3\"  \n",
       " [7] \"counts.GSE215120_MEL_mets_CM1\"  \"scale.data\"                    \n",
       " [9] \"data.GSE215120_Acral_MEL_AM1\"   \"data.GSE215120_Acral_MEL_AM3\"  \n",
       "[11] \"data.GSE215120_Acral_MEL_AM5\"   \"data.GSE215120_Acral_MEL_AM6\"  \n",
       "[13] \"data.GSE215120_Cut_MEL_CM1\"     \"data.GSE215120_Cut_MEL_CM3\"    \n",
       "[15] \"data.GSE215120_MEL_mets_CM1\"   "
      ]
     },
     "metadata": {},
     "output_type": "display_data"
    }
   ],
   "source": [
    "#join layers and then split them by integration_id\n",
    "Layers(MEL[[\"RNA\"]])\n",
    "#join layers\n",
    "MEL[[\"RNA\"]] <- JoinLayers(MEL[[\"RNA\"]])\n",
    "Layers(MEL[[\"RNA\"]])\n",
    "#split layers\n",
    "MEL[[\"RNA\"]] <- split(MEL[[\"RNA\"]], f = MEL$integration_id)\n",
    "Layers(MEL[[\"RNA\"]])\n"
   ]
  },
  {
   "cell_type": "code",
   "execution_count": null,
   "metadata": {
    "vscode": {
     "languageId": "r"
    }
   },
   "outputs": [
    {
     "data": {
      "text/plain": [
       "An object of class Seurat \n",
       "33538 features across 1150 samples within 1 assay \n",
       "Active assay: RNA (33538 features, 2000 variable features)\n",
       " 15 layers present: counts.GSE215120_Acral_MEL_AM1, counts.GSE215120_Acral_MEL_AM3, counts.GSE215120_Acral_MEL_AM5, counts.GSE215120_Acral_MEL_AM6, counts.GSE215120_Cut_MEL_CM1, counts.GSE215120_Cut_MEL_CM3, counts.GSE215120_MEL_mets_CM1, scale.data, data.GSE215120_Acral_MEL_AM1, data.GSE215120_Acral_MEL_AM3, data.GSE215120_Acral_MEL_AM5, data.GSE215120_Acral_MEL_AM6, data.GSE215120_Cut_MEL_CM1, data.GSE215120_Cut_MEL_CM3, data.GSE215120_MEL_mets_CM1"
      ]
     },
     "metadata": {},
     "output_type": "display_data"
    },
    {
     "data": {
      "text/html": [
       "'GSE215120'"
      ],
      "text/latex": [
       "'GSE215120'"
      ],
      "text/markdown": [
       "'GSE215120'"
      ],
      "text/plain": [
       "[1] \"GSE215120\""
      ]
     },
     "metadata": {},
     "output_type": "display_data"
    },
    {
     "data": {
      "text/html": [
       "<table class=\"dataframe\">\n",
       "<caption>A data.frame: 6 × 14</caption>\n",
       "<thead>\n",
       "\t<tr><th></th><th scope=col>orig.ident</th><th scope=col>nCount_RNA</th><th scope=col>nFeature_RNA</th><th scope=col>sample_type</th><th scope=col>cancer_type</th><th scope=col>patient_id</th><th scope=col>sample_id</th><th scope=col>percent.mt</th><th scope=col>RNA_snn_res.0.2</th><th scope=col>seurat_clusters</th><th scope=col>site</th><th scope=col>sample_type_major</th><th scope=col>cancer_subtype</th><th scope=col>integration_id</th></tr>\n",
       "\t<tr><th></th><th scope=col>&lt;chr&gt;</th><th scope=col>&lt;dbl&gt;</th><th scope=col>&lt;int&gt;</th><th scope=col>&lt;chr&gt;</th><th scope=col>&lt;chr&gt;</th><th scope=col>&lt;chr&gt;</th><th scope=col>&lt;chr&gt;</th><th scope=col>&lt;dbl&gt;</th><th scope=col>&lt;chr&gt;</th><th scope=col>&lt;chr&gt;</th><th scope=col>&lt;chr&gt;</th><th scope=col>&lt;chr&gt;</th><th scope=col>&lt;chr&gt;</th><th scope=col>&lt;chr&gt;</th></tr>\n",
       "</thead>\n",
       "<tbody>\n",
       "\t<tr><th scope=row>GSE215120_AM1_AAACCTGGTTGCTCCT-1</th><td>GSE215120</td><td>20298</td><td>3789</td><td>tumour</td><td>Acral Melanoma</td><td>AM1</td><td>GSE215120_Acral_MEL_AM1</td><td>0.9754656</td><td>12</td><td>12</td><td>skin</td><td>primary tumour</td><td>Acral Melanoma</td><td>GSE215120_Acral_MEL_AM1</td></tr>\n",
       "\t<tr><th scope=row>GSE215120_AM1_AAAGATGTCCAAATGC-1</th><td>GSE215120</td><td> 5574</td><td>1721</td><td>tumour</td><td>Acral Melanoma</td><td>AM1</td><td>GSE215120_Acral_MEL_AM1</td><td>6.0459275</td><td>12</td><td>12</td><td>skin</td><td>primary tumour</td><td>Acral Melanoma</td><td>GSE215120_Acral_MEL_AM1</td></tr>\n",
       "\t<tr><th scope=row>GSE215120_AM1_AAAGTAGTCGGTGTTA-1</th><td>GSE215120</td><td>13432</td><td>2759</td><td>tumour</td><td>Acral Melanoma</td><td>AM1</td><td>GSE215120_Acral_MEL_AM1</td><td>2.1515783</td><td>12</td><td>12</td><td>skin</td><td>primary tumour</td><td>Acral Melanoma</td><td>GSE215120_Acral_MEL_AM1</td></tr>\n",
       "\t<tr><th scope=row>GSE215120_AM1_AAATGCCCAGAGCCAA-1</th><td>GSE215120</td><td>17143</td><td>2659</td><td>tumour</td><td>Acral Melanoma</td><td>AM1</td><td>GSE215120_Acral_MEL_AM1</td><td>1.2249898</td><td>12</td><td>12</td><td>skin</td><td>primary tumour</td><td>Acral Melanoma</td><td>GSE215120_Acral_MEL_AM1</td></tr>\n",
       "\t<tr><th scope=row>GSE215120_AM1_AAATGCCGTTTGGCGC-1</th><td>GSE215120</td><td> 3603</td><td>1012</td><td>tumour</td><td>Acral Melanoma</td><td>AM1</td><td>GSE215120_Acral_MEL_AM1</td><td>3.6081044</td><td>12</td><td>12</td><td>skin</td><td>primary tumour</td><td>Acral Melanoma</td><td>GSE215120_Acral_MEL_AM1</td></tr>\n",
       "\t<tr><th scope=row>GSE215120_AM1_AAATGCCTCATGTCCC-1</th><td>GSE215120</td><td>14482</td><td>2882</td><td>tumour</td><td>Acral Melanoma</td><td>AM1</td><td>GSE215120_Acral_MEL_AM1</td><td>1.0357685</td><td>12</td><td>12</td><td>skin</td><td>primary tumour</td><td>Acral Melanoma</td><td>GSE215120_Acral_MEL_AM1</td></tr>\n",
       "</tbody>\n",
       "</table>\n"
      ],
      "text/latex": [
       "A data.frame: 6 × 14\n",
       "\\begin{tabular}{r|llllllllllllll}\n",
       "  & orig.ident & nCount\\_RNA & nFeature\\_RNA & sample\\_type & cancer\\_type & patient\\_id & sample\\_id & percent.mt & RNA\\_snn\\_res.0.2 & seurat\\_clusters & site & sample\\_type\\_major & cancer\\_subtype & integration\\_id\\\\\n",
       "  & <chr> & <dbl> & <int> & <chr> & <chr> & <chr> & <chr> & <dbl> & <chr> & <chr> & <chr> & <chr> & <chr> & <chr>\\\\\n",
       "\\hline\n",
       "\tGSE215120\\_AM1\\_AAACCTGGTTGCTCCT-1 & GSE215120 & 20298 & 3789 & tumour & Acral Melanoma & AM1 & GSE215120\\_Acral\\_MEL\\_AM1 & 0.9754656 & 12 & 12 & skin & primary tumour & Acral Melanoma & GSE215120\\_Acral\\_MEL\\_AM1\\\\\n",
       "\tGSE215120\\_AM1\\_AAAGATGTCCAAATGC-1 & GSE215120 &  5574 & 1721 & tumour & Acral Melanoma & AM1 & GSE215120\\_Acral\\_MEL\\_AM1 & 6.0459275 & 12 & 12 & skin & primary tumour & Acral Melanoma & GSE215120\\_Acral\\_MEL\\_AM1\\\\\n",
       "\tGSE215120\\_AM1\\_AAAGTAGTCGGTGTTA-1 & GSE215120 & 13432 & 2759 & tumour & Acral Melanoma & AM1 & GSE215120\\_Acral\\_MEL\\_AM1 & 2.1515783 & 12 & 12 & skin & primary tumour & Acral Melanoma & GSE215120\\_Acral\\_MEL\\_AM1\\\\\n",
       "\tGSE215120\\_AM1\\_AAATGCCCAGAGCCAA-1 & GSE215120 & 17143 & 2659 & tumour & Acral Melanoma & AM1 & GSE215120\\_Acral\\_MEL\\_AM1 & 1.2249898 & 12 & 12 & skin & primary tumour & Acral Melanoma & GSE215120\\_Acral\\_MEL\\_AM1\\\\\n",
       "\tGSE215120\\_AM1\\_AAATGCCGTTTGGCGC-1 & GSE215120 &  3603 & 1012 & tumour & Acral Melanoma & AM1 & GSE215120\\_Acral\\_MEL\\_AM1 & 3.6081044 & 12 & 12 & skin & primary tumour & Acral Melanoma & GSE215120\\_Acral\\_MEL\\_AM1\\\\\n",
       "\tGSE215120\\_AM1\\_AAATGCCTCATGTCCC-1 & GSE215120 & 14482 & 2882 & tumour & Acral Melanoma & AM1 & GSE215120\\_Acral\\_MEL\\_AM1 & 1.0357685 & 12 & 12 & skin & primary tumour & Acral Melanoma & GSE215120\\_Acral\\_MEL\\_AM1\\\\\n",
       "\\end{tabular}\n"
      ],
      "text/markdown": [
       "\n",
       "A data.frame: 6 × 14\n",
       "\n",
       "| <!--/--> | orig.ident &lt;chr&gt; | nCount_RNA &lt;dbl&gt; | nFeature_RNA &lt;int&gt; | sample_type &lt;chr&gt; | cancer_type &lt;chr&gt; | patient_id &lt;chr&gt; | sample_id &lt;chr&gt; | percent.mt &lt;dbl&gt; | RNA_snn_res.0.2 &lt;chr&gt; | seurat_clusters &lt;chr&gt; | site &lt;chr&gt; | sample_type_major &lt;chr&gt; | cancer_subtype &lt;chr&gt; | integration_id &lt;chr&gt; |\n",
       "|---|---|---|---|---|---|---|---|---|---|---|---|---|---|---|\n",
       "| GSE215120_AM1_AAACCTGGTTGCTCCT-1 | GSE215120 | 20298 | 3789 | tumour | Acral Melanoma | AM1 | GSE215120_Acral_MEL_AM1 | 0.9754656 | 12 | 12 | skin | primary tumour | Acral Melanoma | GSE215120_Acral_MEL_AM1 |\n",
       "| GSE215120_AM1_AAAGATGTCCAAATGC-1 | GSE215120 |  5574 | 1721 | tumour | Acral Melanoma | AM1 | GSE215120_Acral_MEL_AM1 | 6.0459275 | 12 | 12 | skin | primary tumour | Acral Melanoma | GSE215120_Acral_MEL_AM1 |\n",
       "| GSE215120_AM1_AAAGTAGTCGGTGTTA-1 | GSE215120 | 13432 | 2759 | tumour | Acral Melanoma | AM1 | GSE215120_Acral_MEL_AM1 | 2.1515783 | 12 | 12 | skin | primary tumour | Acral Melanoma | GSE215120_Acral_MEL_AM1 |\n",
       "| GSE215120_AM1_AAATGCCCAGAGCCAA-1 | GSE215120 | 17143 | 2659 | tumour | Acral Melanoma | AM1 | GSE215120_Acral_MEL_AM1 | 1.2249898 | 12 | 12 | skin | primary tumour | Acral Melanoma | GSE215120_Acral_MEL_AM1 |\n",
       "| GSE215120_AM1_AAATGCCGTTTGGCGC-1 | GSE215120 |  3603 | 1012 | tumour | Acral Melanoma | AM1 | GSE215120_Acral_MEL_AM1 | 3.6081044 | 12 | 12 | skin | primary tumour | Acral Melanoma | GSE215120_Acral_MEL_AM1 |\n",
       "| GSE215120_AM1_AAATGCCTCATGTCCC-1 | GSE215120 | 14482 | 2882 | tumour | Acral Melanoma | AM1 | GSE215120_Acral_MEL_AM1 | 1.0357685 | 12 | 12 | skin | primary tumour | Acral Melanoma | GSE215120_Acral_MEL_AM1 |\n",
       "\n"
      ],
      "text/plain": [
       "                                 orig.ident nCount_RNA nFeature_RNA sample_type\n",
       "GSE215120_AM1_AAACCTGGTTGCTCCT-1 GSE215120  20298      3789         tumour     \n",
       "GSE215120_AM1_AAAGATGTCCAAATGC-1 GSE215120   5574      1721         tumour     \n",
       "GSE215120_AM1_AAAGTAGTCGGTGTTA-1 GSE215120  13432      2759         tumour     \n",
       "GSE215120_AM1_AAATGCCCAGAGCCAA-1 GSE215120  17143      2659         tumour     \n",
       "GSE215120_AM1_AAATGCCGTTTGGCGC-1 GSE215120   3603      1012         tumour     \n",
       "GSE215120_AM1_AAATGCCTCATGTCCC-1 GSE215120  14482      2882         tumour     \n",
       "                                 cancer_type    patient_id\n",
       "GSE215120_AM1_AAACCTGGTTGCTCCT-1 Acral Melanoma AM1       \n",
       "GSE215120_AM1_AAAGATGTCCAAATGC-1 Acral Melanoma AM1       \n",
       "GSE215120_AM1_AAAGTAGTCGGTGTTA-1 Acral Melanoma AM1       \n",
       "GSE215120_AM1_AAATGCCCAGAGCCAA-1 Acral Melanoma AM1       \n",
       "GSE215120_AM1_AAATGCCGTTTGGCGC-1 Acral Melanoma AM1       \n",
       "GSE215120_AM1_AAATGCCTCATGTCCC-1 Acral Melanoma AM1       \n",
       "                                 sample_id               percent.mt\n",
       "GSE215120_AM1_AAACCTGGTTGCTCCT-1 GSE215120_Acral_MEL_AM1 0.9754656 \n",
       "GSE215120_AM1_AAAGATGTCCAAATGC-1 GSE215120_Acral_MEL_AM1 6.0459275 \n",
       "GSE215120_AM1_AAAGTAGTCGGTGTTA-1 GSE215120_Acral_MEL_AM1 2.1515783 \n",
       "GSE215120_AM1_AAATGCCCAGAGCCAA-1 GSE215120_Acral_MEL_AM1 1.2249898 \n",
       "GSE215120_AM1_AAATGCCGTTTGGCGC-1 GSE215120_Acral_MEL_AM1 3.6081044 \n",
       "GSE215120_AM1_AAATGCCTCATGTCCC-1 GSE215120_Acral_MEL_AM1 1.0357685 \n",
       "                                 RNA_snn_res.0.2 seurat_clusters site\n",
       "GSE215120_AM1_AAACCTGGTTGCTCCT-1 12              12              skin\n",
       "GSE215120_AM1_AAAGATGTCCAAATGC-1 12              12              skin\n",
       "GSE215120_AM1_AAAGTAGTCGGTGTTA-1 12              12              skin\n",
       "GSE215120_AM1_AAATGCCCAGAGCCAA-1 12              12              skin\n",
       "GSE215120_AM1_AAATGCCGTTTGGCGC-1 12              12              skin\n",
       "GSE215120_AM1_AAATGCCTCATGTCCC-1 12              12              skin\n",
       "                                 sample_type_major cancer_subtype\n",
       "GSE215120_AM1_AAACCTGGTTGCTCCT-1 primary tumour    Acral Melanoma\n",
       "GSE215120_AM1_AAAGATGTCCAAATGC-1 primary tumour    Acral Melanoma\n",
       "GSE215120_AM1_AAAGTAGTCGGTGTTA-1 primary tumour    Acral Melanoma\n",
       "GSE215120_AM1_AAATGCCCAGAGCCAA-1 primary tumour    Acral Melanoma\n",
       "GSE215120_AM1_AAATGCCGTTTGGCGC-1 primary tumour    Acral Melanoma\n",
       "GSE215120_AM1_AAATGCCTCATGTCCC-1 primary tumour    Acral Melanoma\n",
       "                                 integration_id         \n",
       "GSE215120_AM1_AAACCTGGTTGCTCCT-1 GSE215120_Acral_MEL_AM1\n",
       "GSE215120_AM1_AAAGATGTCCAAATGC-1 GSE215120_Acral_MEL_AM1\n",
       "GSE215120_AM1_AAAGTAGTCGGTGTTA-1 GSE215120_Acral_MEL_AM1\n",
       "GSE215120_AM1_AAATGCCCAGAGCCAA-1 GSE215120_Acral_MEL_AM1\n",
       "GSE215120_AM1_AAATGCCGTTTGGCGC-1 GSE215120_Acral_MEL_AM1\n",
       "GSE215120_AM1_AAATGCCTCATGTCCC-1 GSE215120_Acral_MEL_AM1"
      ]
     },
     "metadata": {},
     "output_type": "display_data"
    },
    {
     "data": {
      "text/html": [
       "<table class=\"dataframe\">\n",
       "<caption>A data.frame: 6 × 14</caption>\n",
       "<thead>\n",
       "\t<tr><th></th><th scope=col>orig.ident</th><th scope=col>nCount_RNA</th><th scope=col>nFeature_RNA</th><th scope=col>sample_type</th><th scope=col>cancer_type</th><th scope=col>patient_id</th><th scope=col>sample_id</th><th scope=col>percent.mt</th><th scope=col>RNA_snn_res.0.2</th><th scope=col>seurat_clusters</th><th scope=col>site</th><th scope=col>sample_type_major</th><th scope=col>cancer_subtype</th><th scope=col>integration_id</th></tr>\n",
       "\t<tr><th></th><th scope=col>&lt;chr&gt;</th><th scope=col>&lt;dbl&gt;</th><th scope=col>&lt;int&gt;</th><th scope=col>&lt;chr&gt;</th><th scope=col>&lt;chr&gt;</th><th scope=col>&lt;chr&gt;</th><th scope=col>&lt;chr&gt;</th><th scope=col>&lt;dbl&gt;</th><th scope=col>&lt;chr&gt;</th><th scope=col>&lt;chr&gt;</th><th scope=col>&lt;chr&gt;</th><th scope=col>&lt;chr&gt;</th><th scope=col>&lt;chr&gt;</th><th scope=col>&lt;chr&gt;</th></tr>\n",
       "</thead>\n",
       "<tbody>\n",
       "\t<tr><th scope=row>GSE215120_CM1_mets_TTGGTTTAGTGCAACG-1</th><td>GSE215120</td><td> 627</td><td> 355</td><td>LN metastasis</td><td>Cutaneous Melanoma</td><td>CM1</td><td>GSE215120_MEL_mets_CM1</td><td> 3.668262</td><td>11</td><td>11</td><td>lymph node</td><td>metastatic tumour</td><td>Melanoma</td><td>GSE215120_MEL_mets_CM1</td></tr>\n",
       "\t<tr><th scope=row>GSE215120_CM1_mets_TTTAGTCAGTTCTCTT-1</th><td>GSE215120</td><td>2740</td><td> 748</td><td>LN metastasis</td><td>Cutaneous Melanoma</td><td>CM1</td><td>GSE215120_MEL_mets_CM1</td><td> 4.197080</td><td>11</td><td>11</td><td>lymph node</td><td>metastatic tumour</td><td>Melanoma</td><td>GSE215120_MEL_mets_CM1</td></tr>\n",
       "\t<tr><th scope=row>GSE215120_CM1_mets_TTTCACACACCGGAAA-1</th><td>GSE215120</td><td>1174</td><td> 529</td><td>LN metastasis</td><td>Cutaneous Melanoma</td><td>CM1</td><td>GSE215120_MEL_mets_CM1</td><td>22.146508</td><td>11</td><td>11</td><td>lymph node</td><td>metastatic tumour</td><td>Melanoma</td><td>GSE215120_MEL_mets_CM1</td></tr>\n",
       "\t<tr><th scope=row>GSE215120_CM1_mets_TTTCATGTCCACTAGA-1</th><td>GSE215120</td><td> 732</td><td> 395</td><td>LN metastasis</td><td>Cutaneous Melanoma</td><td>CM1</td><td>GSE215120_MEL_mets_CM1</td><td> 2.322404</td><td>11</td><td>11</td><td>lymph node</td><td>metastatic tumour</td><td>Melanoma</td><td>GSE215120_MEL_mets_CM1</td></tr>\n",
       "\t<tr><th scope=row>GSE215120_CM1_mets_TTTGGAGGTTGAGAGC-1</th><td>GSE215120</td><td>4265</td><td>1376</td><td>LN metastasis</td><td>Cutaneous Melanoma</td><td>CM1</td><td>GSE215120_MEL_mets_CM1</td><td> 4.220399</td><td>11</td><td>11</td><td>lymph node</td><td>metastatic tumour</td><td>Melanoma</td><td>GSE215120_MEL_mets_CM1</td></tr>\n",
       "\t<tr><th scope=row>GSE215120_CM1_mets_TTTGGTTTCGAGGCAA-1</th><td>GSE215120</td><td> 671</td><td> 384</td><td>LN metastasis</td><td>Cutaneous Melanoma</td><td>CM1</td><td>GSE215120_MEL_mets_CM1</td><td> 1.043219</td><td>11</td><td>11</td><td>lymph node</td><td>metastatic tumour</td><td>Melanoma</td><td>GSE215120_MEL_mets_CM1</td></tr>\n",
       "</tbody>\n",
       "</table>\n"
      ],
      "text/latex": [
       "A data.frame: 6 × 14\n",
       "\\begin{tabular}{r|llllllllllllll}\n",
       "  & orig.ident & nCount\\_RNA & nFeature\\_RNA & sample\\_type & cancer\\_type & patient\\_id & sample\\_id & percent.mt & RNA\\_snn\\_res.0.2 & seurat\\_clusters & site & sample\\_type\\_major & cancer\\_subtype & integration\\_id\\\\\n",
       "  & <chr> & <dbl> & <int> & <chr> & <chr> & <chr> & <chr> & <dbl> & <chr> & <chr> & <chr> & <chr> & <chr> & <chr>\\\\\n",
       "\\hline\n",
       "\tGSE215120\\_CM1\\_mets\\_TTGGTTTAGTGCAACG-1 & GSE215120 &  627 &  355 & LN metastasis & Cutaneous Melanoma & CM1 & GSE215120\\_MEL\\_mets\\_CM1 &  3.668262 & 11 & 11 & lymph node & metastatic tumour & Melanoma & GSE215120\\_MEL\\_mets\\_CM1\\\\\n",
       "\tGSE215120\\_CM1\\_mets\\_TTTAGTCAGTTCTCTT-1 & GSE215120 & 2740 &  748 & LN metastasis & Cutaneous Melanoma & CM1 & GSE215120\\_MEL\\_mets\\_CM1 &  4.197080 & 11 & 11 & lymph node & metastatic tumour & Melanoma & GSE215120\\_MEL\\_mets\\_CM1\\\\\n",
       "\tGSE215120\\_CM1\\_mets\\_TTTCACACACCGGAAA-1 & GSE215120 & 1174 &  529 & LN metastasis & Cutaneous Melanoma & CM1 & GSE215120\\_MEL\\_mets\\_CM1 & 22.146508 & 11 & 11 & lymph node & metastatic tumour & Melanoma & GSE215120\\_MEL\\_mets\\_CM1\\\\\n",
       "\tGSE215120\\_CM1\\_mets\\_TTTCATGTCCACTAGA-1 & GSE215120 &  732 &  395 & LN metastasis & Cutaneous Melanoma & CM1 & GSE215120\\_MEL\\_mets\\_CM1 &  2.322404 & 11 & 11 & lymph node & metastatic tumour & Melanoma & GSE215120\\_MEL\\_mets\\_CM1\\\\\n",
       "\tGSE215120\\_CM1\\_mets\\_TTTGGAGGTTGAGAGC-1 & GSE215120 & 4265 & 1376 & LN metastasis & Cutaneous Melanoma & CM1 & GSE215120\\_MEL\\_mets\\_CM1 &  4.220399 & 11 & 11 & lymph node & metastatic tumour & Melanoma & GSE215120\\_MEL\\_mets\\_CM1\\\\\n",
       "\tGSE215120\\_CM1\\_mets\\_TTTGGTTTCGAGGCAA-1 & GSE215120 &  671 &  384 & LN metastasis & Cutaneous Melanoma & CM1 & GSE215120\\_MEL\\_mets\\_CM1 &  1.043219 & 11 & 11 & lymph node & metastatic tumour & Melanoma & GSE215120\\_MEL\\_mets\\_CM1\\\\\n",
       "\\end{tabular}\n"
      ],
      "text/markdown": [
       "\n",
       "A data.frame: 6 × 14\n",
       "\n",
       "| <!--/--> | orig.ident &lt;chr&gt; | nCount_RNA &lt;dbl&gt; | nFeature_RNA &lt;int&gt; | sample_type &lt;chr&gt; | cancer_type &lt;chr&gt; | patient_id &lt;chr&gt; | sample_id &lt;chr&gt; | percent.mt &lt;dbl&gt; | RNA_snn_res.0.2 &lt;chr&gt; | seurat_clusters &lt;chr&gt; | site &lt;chr&gt; | sample_type_major &lt;chr&gt; | cancer_subtype &lt;chr&gt; | integration_id &lt;chr&gt; |\n",
       "|---|---|---|---|---|---|---|---|---|---|---|---|---|---|---|\n",
       "| GSE215120_CM1_mets_TTGGTTTAGTGCAACG-1 | GSE215120 |  627 |  355 | LN metastasis | Cutaneous Melanoma | CM1 | GSE215120_MEL_mets_CM1 |  3.668262 | 11 | 11 | lymph node | metastatic tumour | Melanoma | GSE215120_MEL_mets_CM1 |\n",
       "| GSE215120_CM1_mets_TTTAGTCAGTTCTCTT-1 | GSE215120 | 2740 |  748 | LN metastasis | Cutaneous Melanoma | CM1 | GSE215120_MEL_mets_CM1 |  4.197080 | 11 | 11 | lymph node | metastatic tumour | Melanoma | GSE215120_MEL_mets_CM1 |\n",
       "| GSE215120_CM1_mets_TTTCACACACCGGAAA-1 | GSE215120 | 1174 |  529 | LN metastasis | Cutaneous Melanoma | CM1 | GSE215120_MEL_mets_CM1 | 22.146508 | 11 | 11 | lymph node | metastatic tumour | Melanoma | GSE215120_MEL_mets_CM1 |\n",
       "| GSE215120_CM1_mets_TTTCATGTCCACTAGA-1 | GSE215120 |  732 |  395 | LN metastasis | Cutaneous Melanoma | CM1 | GSE215120_MEL_mets_CM1 |  2.322404 | 11 | 11 | lymph node | metastatic tumour | Melanoma | GSE215120_MEL_mets_CM1 |\n",
       "| GSE215120_CM1_mets_TTTGGAGGTTGAGAGC-1 | GSE215120 | 4265 | 1376 | LN metastasis | Cutaneous Melanoma | CM1 | GSE215120_MEL_mets_CM1 |  4.220399 | 11 | 11 | lymph node | metastatic tumour | Melanoma | GSE215120_MEL_mets_CM1 |\n",
       "| GSE215120_CM1_mets_TTTGGTTTCGAGGCAA-1 | GSE215120 |  671 |  384 | LN metastasis | Cutaneous Melanoma | CM1 | GSE215120_MEL_mets_CM1 |  1.043219 | 11 | 11 | lymph node | metastatic tumour | Melanoma | GSE215120_MEL_mets_CM1 |\n",
       "\n"
      ],
      "text/plain": [
       "                                      orig.ident nCount_RNA nFeature_RNA\n",
       "GSE215120_CM1_mets_TTGGTTTAGTGCAACG-1 GSE215120   627        355        \n",
       "GSE215120_CM1_mets_TTTAGTCAGTTCTCTT-1 GSE215120  2740        748        \n",
       "GSE215120_CM1_mets_TTTCACACACCGGAAA-1 GSE215120  1174        529        \n",
       "GSE215120_CM1_mets_TTTCATGTCCACTAGA-1 GSE215120   732        395        \n",
       "GSE215120_CM1_mets_TTTGGAGGTTGAGAGC-1 GSE215120  4265       1376        \n",
       "GSE215120_CM1_mets_TTTGGTTTCGAGGCAA-1 GSE215120   671        384        \n",
       "                                      sample_type   cancer_type       \n",
       "GSE215120_CM1_mets_TTGGTTTAGTGCAACG-1 LN metastasis Cutaneous Melanoma\n",
       "GSE215120_CM1_mets_TTTAGTCAGTTCTCTT-1 LN metastasis Cutaneous Melanoma\n",
       "GSE215120_CM1_mets_TTTCACACACCGGAAA-1 LN metastasis Cutaneous Melanoma\n",
       "GSE215120_CM1_mets_TTTCATGTCCACTAGA-1 LN metastasis Cutaneous Melanoma\n",
       "GSE215120_CM1_mets_TTTGGAGGTTGAGAGC-1 LN metastasis Cutaneous Melanoma\n",
       "GSE215120_CM1_mets_TTTGGTTTCGAGGCAA-1 LN metastasis Cutaneous Melanoma\n",
       "                                      patient_id sample_id             \n",
       "GSE215120_CM1_mets_TTGGTTTAGTGCAACG-1 CM1        GSE215120_MEL_mets_CM1\n",
       "GSE215120_CM1_mets_TTTAGTCAGTTCTCTT-1 CM1        GSE215120_MEL_mets_CM1\n",
       "GSE215120_CM1_mets_TTTCACACACCGGAAA-1 CM1        GSE215120_MEL_mets_CM1\n",
       "GSE215120_CM1_mets_TTTCATGTCCACTAGA-1 CM1        GSE215120_MEL_mets_CM1\n",
       "GSE215120_CM1_mets_TTTGGAGGTTGAGAGC-1 CM1        GSE215120_MEL_mets_CM1\n",
       "GSE215120_CM1_mets_TTTGGTTTCGAGGCAA-1 CM1        GSE215120_MEL_mets_CM1\n",
       "                                      percent.mt RNA_snn_res.0.2\n",
       "GSE215120_CM1_mets_TTGGTTTAGTGCAACG-1  3.668262  11             \n",
       "GSE215120_CM1_mets_TTTAGTCAGTTCTCTT-1  4.197080  11             \n",
       "GSE215120_CM1_mets_TTTCACACACCGGAAA-1 22.146508  11             \n",
       "GSE215120_CM1_mets_TTTCATGTCCACTAGA-1  2.322404  11             \n",
       "GSE215120_CM1_mets_TTTGGAGGTTGAGAGC-1  4.220399  11             \n",
       "GSE215120_CM1_mets_TTTGGTTTCGAGGCAA-1  1.043219  11             \n",
       "                                      seurat_clusters site      \n",
       "GSE215120_CM1_mets_TTGGTTTAGTGCAACG-1 11              lymph node\n",
       "GSE215120_CM1_mets_TTTAGTCAGTTCTCTT-1 11              lymph node\n",
       "GSE215120_CM1_mets_TTTCACACACCGGAAA-1 11              lymph node\n",
       "GSE215120_CM1_mets_TTTCATGTCCACTAGA-1 11              lymph node\n",
       "GSE215120_CM1_mets_TTTGGAGGTTGAGAGC-1 11              lymph node\n",
       "GSE215120_CM1_mets_TTTGGTTTCGAGGCAA-1 11              lymph node\n",
       "                                      sample_type_major cancer_subtype\n",
       "GSE215120_CM1_mets_TTGGTTTAGTGCAACG-1 metastatic tumour Melanoma      \n",
       "GSE215120_CM1_mets_TTTAGTCAGTTCTCTT-1 metastatic tumour Melanoma      \n",
       "GSE215120_CM1_mets_TTTCACACACCGGAAA-1 metastatic tumour Melanoma      \n",
       "GSE215120_CM1_mets_TTTCATGTCCACTAGA-1 metastatic tumour Melanoma      \n",
       "GSE215120_CM1_mets_TTTGGAGGTTGAGAGC-1 metastatic tumour Melanoma      \n",
       "GSE215120_CM1_mets_TTTGGTTTCGAGGCAA-1 metastatic tumour Melanoma      \n",
       "                                      integration_id        \n",
       "GSE215120_CM1_mets_TTGGTTTAGTGCAACG-1 GSE215120_MEL_mets_CM1\n",
       "GSE215120_CM1_mets_TTTAGTCAGTTCTCTT-1 GSE215120_MEL_mets_CM1\n",
       "GSE215120_CM1_mets_TTTCACACACCGGAAA-1 GSE215120_MEL_mets_CM1\n",
       "GSE215120_CM1_mets_TTTCATGTCCACTAGA-1 GSE215120_MEL_mets_CM1\n",
       "GSE215120_CM1_mets_TTTGGAGGTTGAGAGC-1 GSE215120_MEL_mets_CM1\n",
       "GSE215120_CM1_mets_TTTGGTTTCGAGGCAA-1 GSE215120_MEL_mets_CM1"
      ]
     },
     "metadata": {},
     "output_type": "display_data"
    },
    {
     "data": {
      "text/plain": [
       "\n",
       "GSE215120_Acral_MEL_AM1 GSE215120_Acral_MEL_AM3 GSE215120_Acral_MEL_AM5 \n",
       "                    260                     101                     279 \n",
       "GSE215120_Acral_MEL_AM6   GSE215120_Cut_MEL_CM1   GSE215120_Cut_MEL_CM3 \n",
       "                    115                     133                     100 \n",
       " GSE215120_MEL_mets_CM1 \n",
       "                    162 "
      ]
     },
     "metadata": {},
     "output_type": "display_data"
    }
   ],
   "source": [
    "#record number of cells\n",
    "MEL\n",
    "MEL@project.name\n",
    "head(MEL@meta.data)\n",
    "tail(MEL@meta.data)\n",
    "table(MEL$integration_id)"
   ]
  },
  {
   "cell_type": "code",
   "execution_count": null,
   "metadata": {
    "vscode": {
     "languageId": "r"
    }
   },
   "outputs": [],
   "source": [
    "#re-export seurat object ready for integration\n",
    "saveRDS(MEL, \"/scratch/user/s4436039/scdata/Myeloid_Cells/Myeloid_Cells_Integrate/GSE215120_myeloid_int.RDS\")"
   ]
  },
  {
   "cell_type": "code",
   "execution_count": null,
   "metadata": {
    "vscode": {
     "languageId": "r"
    }
   },
   "outputs": [],
   "source": [
    "#remove all objects in R\n",
    "rm(list = ls())"
   ]
  }
 ],
 "metadata": {
  "kernelspec": {
   "display_name": "R",
   "language": "R",
   "name": "ir"
  },
  "language_info": {
   "codemirror_mode": "r",
   "file_extension": ".r",
   "mimetype": "text/x-r-source",
   "name": "R",
   "pygments_lexer": "r",
   "version": "4.3.3"
  }
 },
 "nbformat": 4,
 "nbformat_minor": 2
}
