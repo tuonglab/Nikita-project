{
 "cells": [
  {
   "cell_type": "markdown",
   "metadata": {},
   "source": [
    "This notebook is for preparing all datasets for integration. \n",
    "\n",
    "This involves:\n",
    "* reading in each dataset\n",
    "* check metadata all correct\n",
    "* add additional metadata regarding site and cancer_subtype\n",
    "* add metadata for integration_id --> samples that are not biologically distinct (eg. two biopsies from one tumour) get same id\n",
    "* use integration id to merge layers --> layers in dataset will represent how they will be integrated \n",
    "* exclude any samples with <100 myeloid cells\n",
    "* record number of cells\n",
    "\n",
    "Backing up to rdm: \n",
    "``` bash\n",
    "rsync -azvhp /scratch/user/s4436039/scdata/Myeloid_Cells/Myeloid_Cells_Integrate/ /QRISdata/Q5935/nikita/scdata/Myeloid_Cells/Myeloid_Cells_Integrate\n",
    "```"
   ]
  },
  {
   "cell_type": "code",
   "execution_count": 1,
   "metadata": {
    "vscode": {
     "languageId": "r"
    }
   },
   "outputs": [
    {
     "data": {
      "text/html": [
       "'/scratch/user/s4436039/Nikita-project'"
      ],
      "text/latex": [
       "'/scratch/user/s4436039/Nikita-project'"
      ],
      "text/markdown": [
       "'/scratch/user/s4436039/Nikita-project'"
      ],
      "text/plain": [
       "[1] \"/scratch/user/s4436039/Nikita-project\""
      ]
     },
     "metadata": {},
     "output_type": "display_data"
    },
    {
     "data": {
      "text/html": [
       "'/scratch/user/s4436039/scdata/Myeloid_Cells'"
      ],
      "text/latex": [
       "'/scratch/user/s4436039/scdata/Myeloid\\_Cells'"
      ],
      "text/markdown": [
       "'/scratch/user/s4436039/scdata/Myeloid_Cells'"
      ],
      "text/plain": [
       "[1] \"/scratch/user/s4436039/scdata/Myeloid_Cells\""
      ]
     },
     "metadata": {},
     "output_type": "display_data"
    }
   ],
   "source": [
    "#set wd\n",
    "getwd()\n",
    "setwd('/scratch/user/s4436039/scdata/Myeloid_Cells')\n",
    "getwd()"
   ]
  },
  {
   "cell_type": "code",
   "execution_count": 2,
   "metadata": {
    "vscode": {
     "languageId": "r"
    }
   },
   "outputs": [
    {
     "name": "stderr",
     "output_type": "stream",
     "text": [
      "\n",
      "Attaching package: ‘dplyr’\n",
      "\n",
      "\n",
      "The following objects are masked from ‘package:stats’:\n",
      "\n",
      "    filter, lag\n",
      "\n",
      "\n",
      "The following objects are masked from ‘package:base’:\n",
      "\n",
      "    intersect, setdiff, setequal, union\n",
      "\n",
      "\n",
      "Loading required package: SeuratObject\n",
      "\n",
      "Loading required package: sp\n",
      "\n",
      "\n",
      "Attaching package: ‘SeuratObject’\n",
      "\n",
      "\n",
      "The following object is masked from ‘package:base’:\n",
      "\n",
      "    intersect\n",
      "\n",
      "\n"
     ]
    }
   ],
   "source": [
    "#Load packages\n",
    "library(dplyr)\n",
    "library(Seurat)\n",
    "library(patchwork)"
   ]
  },
  {
   "cell_type": "markdown",
   "metadata": {},
   "source": [
    "## GSE184880"
   ]
  },
  {
   "cell_type": "code",
   "execution_count": 12,
   "metadata": {
    "vscode": {
     "languageId": "r"
    }
   },
   "outputs": [],
   "source": [
    "HGSOC <- readRDS(\"/scratch/user/s4436039/scdata/Myeloid_Cells/GSE184880_myeloid.RDS\")"
   ]
  },
  {
   "cell_type": "code",
   "execution_count": 13,
   "metadata": {
    "vscode": {
     "languageId": "r"
    }
   },
   "outputs": [
    {
     "data": {
      "text/plain": [
       "An object of class Seurat \n",
       "27984 features across 7799 samples within 1 assay \n",
       "Active assay: RNA (27984 features, 2000 variable features)\n",
       " 25 layers present: counts.1, counts.2, counts.3, counts.4, counts.5, counts.6, counts.7, counts.8, counts.9, counts.10, counts.11, counts.12, data.1, data.2, data.3, data.4, data.5, data.6, data.7, data.8, data.9, data.10, data.11, data.12, scale.data\n",
       " 2 dimensional reductions calculated: pca, umap"
      ]
     },
     "metadata": {},
     "output_type": "display_data"
    },
    {
     "data": {
      "text/html": [
       "'GSE184880'"
      ],
      "text/latex": [
       "'GSE184880'"
      ],
      "text/markdown": [
       "'GSE184880'"
      ],
      "text/plain": [
       "[1] \"GSE184880\""
      ]
     },
     "metadata": {},
     "output_type": "display_data"
    },
    {
     "data": {
      "text/html": [
       "<table class=\"dataframe\">\n",
       "<caption>A data.frame: 6 × 10</caption>\n",
       "<thead>\n",
       "\t<tr><th></th><th scope=col>orig.ident</th><th scope=col>nCount_RNA</th><th scope=col>nFeature_RNA</th><th scope=col>sample_type</th><th scope=col>cancer_type</th><th scope=col>patient_id</th><th scope=col>sample_id</th><th scope=col>percent.mt</th><th scope=col>RNA_snn_res.0.2</th><th scope=col>seurat_clusters</th></tr>\n",
       "\t<tr><th></th><th scope=col>&lt;chr&gt;</th><th scope=col>&lt;dbl&gt;</th><th scope=col>&lt;int&gt;</th><th scope=col>&lt;chr&gt;</th><th scope=col>&lt;chr&gt;</th><th scope=col>&lt;chr&gt;</th><th scope=col>&lt;chr&gt;</th><th scope=col>&lt;dbl&gt;</th><th scope=col>&lt;fct&gt;</th><th scope=col>&lt;fct&gt;</th></tr>\n",
       "</thead>\n",
       "<tbody>\n",
       "\t<tr><th scope=row>GSE184880_Cancer1_AAACCCACAGCTGCCA-1</th><td>GSE184880</td><td> 9374</td><td>2655</td><td>tumour</td><td>HGSOC</td><td>Cancer1</td><td>GSE184880_HGSOC_Cancer1</td><td>15.980371</td><td>1</td><td>1</td></tr>\n",
       "\t<tr><th scope=row>GSE184880_Cancer1_AAACCCACATGACGGA-1</th><td>GSE184880</td><td> 2659</td><td>1246</td><td>tumour</td><td>HGSOC</td><td>Cancer1</td><td>GSE184880_HGSOC_Cancer1</td><td> 8.837909</td><td>1</td><td>1</td></tr>\n",
       "\t<tr><th scope=row>GSE184880_Cancer1_AAACGAACAGTAGTGG-1</th><td>GSE184880</td><td> 3020</td><td>1206</td><td>tumour</td><td>HGSOC</td><td>Cancer1</td><td>GSE184880_HGSOC_Cancer1</td><td>13.807947</td><td>1</td><td>1</td></tr>\n",
       "\t<tr><th scope=row>GSE184880_Cancer1_AAACGAATCACCCTCA-1</th><td>GSE184880</td><td>50940</td><td>6660</td><td>tumour</td><td>HGSOC</td><td>Cancer1</td><td>GSE184880_HGSOC_Cancer1</td><td> 8.531606</td><td>1</td><td>1</td></tr>\n",
       "\t<tr><th scope=row>GSE184880_Cancer1_AAACGCTTCTCCACTG-1</th><td>GSE184880</td><td>10129</td><td>2880</td><td>tumour</td><td>HGSOC</td><td>Cancer1</td><td>GSE184880_HGSOC_Cancer1</td><td>11.225195</td><td>1</td><td>1</td></tr>\n",
       "\t<tr><th scope=row>GSE184880_Cancer1_AAACGCTTCTGCTCTG-1</th><td>GSE184880</td><td>12756</td><td>3352</td><td>tumour</td><td>HGSOC</td><td>Cancer1</td><td>GSE184880_HGSOC_Cancer1</td><td> 9.321104</td><td>1</td><td>1</td></tr>\n",
       "</tbody>\n",
       "</table>\n"
      ],
      "text/latex": [
       "A data.frame: 6 × 10\n",
       "\\begin{tabular}{r|llllllllll}\n",
       "  & orig.ident & nCount\\_RNA & nFeature\\_RNA & sample\\_type & cancer\\_type & patient\\_id & sample\\_id & percent.mt & RNA\\_snn\\_res.0.2 & seurat\\_clusters\\\\\n",
       "  & <chr> & <dbl> & <int> & <chr> & <chr> & <chr> & <chr> & <dbl> & <fct> & <fct>\\\\\n",
       "\\hline\n",
       "\tGSE184880\\_Cancer1\\_AAACCCACAGCTGCCA-1 & GSE184880 &  9374 & 2655 & tumour & HGSOC & Cancer1 & GSE184880\\_HGSOC\\_Cancer1 & 15.980371 & 1 & 1\\\\\n",
       "\tGSE184880\\_Cancer1\\_AAACCCACATGACGGA-1 & GSE184880 &  2659 & 1246 & tumour & HGSOC & Cancer1 & GSE184880\\_HGSOC\\_Cancer1 &  8.837909 & 1 & 1\\\\\n",
       "\tGSE184880\\_Cancer1\\_AAACGAACAGTAGTGG-1 & GSE184880 &  3020 & 1206 & tumour & HGSOC & Cancer1 & GSE184880\\_HGSOC\\_Cancer1 & 13.807947 & 1 & 1\\\\\n",
       "\tGSE184880\\_Cancer1\\_AAACGAATCACCCTCA-1 & GSE184880 & 50940 & 6660 & tumour & HGSOC & Cancer1 & GSE184880\\_HGSOC\\_Cancer1 &  8.531606 & 1 & 1\\\\\n",
       "\tGSE184880\\_Cancer1\\_AAACGCTTCTCCACTG-1 & GSE184880 & 10129 & 2880 & tumour & HGSOC & Cancer1 & GSE184880\\_HGSOC\\_Cancer1 & 11.225195 & 1 & 1\\\\\n",
       "\tGSE184880\\_Cancer1\\_AAACGCTTCTGCTCTG-1 & GSE184880 & 12756 & 3352 & tumour & HGSOC & Cancer1 & GSE184880\\_HGSOC\\_Cancer1 &  9.321104 & 1 & 1\\\\\n",
       "\\end{tabular}\n"
      ],
      "text/markdown": [
       "\n",
       "A data.frame: 6 × 10\n",
       "\n",
       "| <!--/--> | orig.ident &lt;chr&gt; | nCount_RNA &lt;dbl&gt; | nFeature_RNA &lt;int&gt; | sample_type &lt;chr&gt; | cancer_type &lt;chr&gt; | patient_id &lt;chr&gt; | sample_id &lt;chr&gt; | percent.mt &lt;dbl&gt; | RNA_snn_res.0.2 &lt;fct&gt; | seurat_clusters &lt;fct&gt; |\n",
       "|---|---|---|---|---|---|---|---|---|---|---|\n",
       "| GSE184880_Cancer1_AAACCCACAGCTGCCA-1 | GSE184880 |  9374 | 2655 | tumour | HGSOC | Cancer1 | GSE184880_HGSOC_Cancer1 | 15.980371 | 1 | 1 |\n",
       "| GSE184880_Cancer1_AAACCCACATGACGGA-1 | GSE184880 |  2659 | 1246 | tumour | HGSOC | Cancer1 | GSE184880_HGSOC_Cancer1 |  8.837909 | 1 | 1 |\n",
       "| GSE184880_Cancer1_AAACGAACAGTAGTGG-1 | GSE184880 |  3020 | 1206 | tumour | HGSOC | Cancer1 | GSE184880_HGSOC_Cancer1 | 13.807947 | 1 | 1 |\n",
       "| GSE184880_Cancer1_AAACGAATCACCCTCA-1 | GSE184880 | 50940 | 6660 | tumour | HGSOC | Cancer1 | GSE184880_HGSOC_Cancer1 |  8.531606 | 1 | 1 |\n",
       "| GSE184880_Cancer1_AAACGCTTCTCCACTG-1 | GSE184880 | 10129 | 2880 | tumour | HGSOC | Cancer1 | GSE184880_HGSOC_Cancer1 | 11.225195 | 1 | 1 |\n",
       "| GSE184880_Cancer1_AAACGCTTCTGCTCTG-1 | GSE184880 | 12756 | 3352 | tumour | HGSOC | Cancer1 | GSE184880_HGSOC_Cancer1 |  9.321104 | 1 | 1 |\n",
       "\n"
      ],
      "text/plain": [
       "                                     orig.ident nCount_RNA nFeature_RNA\n",
       "GSE184880_Cancer1_AAACCCACAGCTGCCA-1 GSE184880   9374      2655        \n",
       "GSE184880_Cancer1_AAACCCACATGACGGA-1 GSE184880   2659      1246        \n",
       "GSE184880_Cancer1_AAACGAACAGTAGTGG-1 GSE184880   3020      1206        \n",
       "GSE184880_Cancer1_AAACGAATCACCCTCA-1 GSE184880  50940      6660        \n",
       "GSE184880_Cancer1_AAACGCTTCTCCACTG-1 GSE184880  10129      2880        \n",
       "GSE184880_Cancer1_AAACGCTTCTGCTCTG-1 GSE184880  12756      3352        \n",
       "                                     sample_type cancer_type patient_id\n",
       "GSE184880_Cancer1_AAACCCACAGCTGCCA-1 tumour      HGSOC       Cancer1   \n",
       "GSE184880_Cancer1_AAACCCACATGACGGA-1 tumour      HGSOC       Cancer1   \n",
       "GSE184880_Cancer1_AAACGAACAGTAGTGG-1 tumour      HGSOC       Cancer1   \n",
       "GSE184880_Cancer1_AAACGAATCACCCTCA-1 tumour      HGSOC       Cancer1   \n",
       "GSE184880_Cancer1_AAACGCTTCTCCACTG-1 tumour      HGSOC       Cancer1   \n",
       "GSE184880_Cancer1_AAACGCTTCTGCTCTG-1 tumour      HGSOC       Cancer1   \n",
       "                                     sample_id               percent.mt\n",
       "GSE184880_Cancer1_AAACCCACAGCTGCCA-1 GSE184880_HGSOC_Cancer1 15.980371 \n",
       "GSE184880_Cancer1_AAACCCACATGACGGA-1 GSE184880_HGSOC_Cancer1  8.837909 \n",
       "GSE184880_Cancer1_AAACGAACAGTAGTGG-1 GSE184880_HGSOC_Cancer1 13.807947 \n",
       "GSE184880_Cancer1_AAACGAATCACCCTCA-1 GSE184880_HGSOC_Cancer1  8.531606 \n",
       "GSE184880_Cancer1_AAACGCTTCTCCACTG-1 GSE184880_HGSOC_Cancer1 11.225195 \n",
       "GSE184880_Cancer1_AAACGCTTCTGCTCTG-1 GSE184880_HGSOC_Cancer1  9.321104 \n",
       "                                     RNA_snn_res.0.2 seurat_clusters\n",
       "GSE184880_Cancer1_AAACCCACAGCTGCCA-1 1               1              \n",
       "GSE184880_Cancer1_AAACCCACATGACGGA-1 1               1              \n",
       "GSE184880_Cancer1_AAACGAACAGTAGTGG-1 1               1              \n",
       "GSE184880_Cancer1_AAACGAATCACCCTCA-1 1               1              \n",
       "GSE184880_Cancer1_AAACGCTTCTCCACTG-1 1               1              \n",
       "GSE184880_Cancer1_AAACGCTTCTGCTCTG-1 1               1              "
      ]
     },
     "metadata": {},
     "output_type": "display_data"
    }
   ],
   "source": [
    "HGSOC\n",
    "HGSOC@project.name\n",
    "head(HGSOC@meta.data)"
   ]
  },
  {
   "cell_type": "code",
   "execution_count": 15,
   "metadata": {
    "vscode": {
     "languageId": "r"
    }
   },
   "outputs": [
    {
     "data": {
      "text/plain": [
       "\n",
       "Healthy_ovary        tumour \n",
       "         1457          6342 "
      ]
     },
     "metadata": {},
     "output_type": "display_data"
    },
    {
     "data": {
      "text/plain": [
       "\n",
       "Healthy   HGSOC \n",
       "   1457    6342 "
      ]
     },
     "metadata": {},
     "output_type": "display_data"
    },
    {
     "data": {
      "text/plain": [
       "\n",
       "Cancer1 Cancer2 Cancer3 Cancer4 Cancer5 Cancer6 Cancer7   Norm1   Norm2   Norm3 \n",
       "   2298    1080     577     792     695     652     248      54     281     360 \n",
       "  Norm4   Norm5 \n",
       "    193     569 "
      ]
     },
     "metadata": {},
     "output_type": "display_data"
    },
    {
     "data": {
      "text/plain": [
       "\n",
       "GSE184880_Healthy_Norm1 GSE184880_Healthy_Norm2 GSE184880_Healthy_Norm3 \n",
       "                     54                     281                     360 \n",
       "GSE184880_Healthy_Norm4 GSE184880_Healthy_Norm5 GSE184880_HGSOC_Cancer1 \n",
       "                    193                     569                    2298 \n",
       "GSE184880_HGSOC_Cancer2 GSE184880_HGSOC_Cancer3 GSE184880_HGSOC_Cancer4 \n",
       "                   1080                     577                     792 \n",
       "GSE184880_HGSOC_Cancer5 GSE184880_HGSOC_Cancer6 GSE184880_HGSOC_Cancer7 \n",
       "                    695                     652                     248 "
      ]
     },
     "metadata": {},
     "output_type": "display_data"
    }
   ],
   "source": [
    "table(HGSOC$sample_type)\n",
    "table(HGSOC$cancer_type)\n",
    "table(HGSOC$patient_id)\n",
    "table(HGSOC$sample_id)"
   ]
  },
  {
   "cell_type": "code",
   "execution_count": 16,
   "metadata": {
    "vscode": {
     "languageId": "r"
    }
   },
   "outputs": [],
   "source": [
    "#set site metadata\n",
    "HGSOC@meta.data$site <- \"ovary\""
   ]
  },
  {
   "cell_type": "code",
   "execution_count": 17,
   "metadata": {
    "vscode": {
     "languageId": "r"
    }
   },
   "outputs": [],
   "source": [
    "#set subtype metadata\n",
    "\n",
    "#split by cancer_type\n",
    "HGSOC_tumour <- subset(HGSOC, subset = cancer_type %in% c(\"HGSOC\"))\n",
    "HGSOC_healthy <- subset(HGSOC, subset = cancer_type %in% c(\"Healthy\"))\n",
    "\n",
    "HGSOC_tumour@meta.data$cancer_subtype <- \"HGSOC\"\n",
    "HGSOC_healthy@meta.data$cancer_subtype <- \"NA\"\n",
    "\n",
    "#Merge seurat objects back together\n",
    "HGSOC <- merge(HGSOC_tumour, y = c(HGSOC_healthy), project = \"GSE184880\")"
   ]
  },
  {
   "cell_type": "code",
   "execution_count": 19,
   "metadata": {
    "vscode": {
     "languageId": "r"
    }
   },
   "outputs": [],
   "source": [
    "#set integration_id metadata\n",
    "HGSOC@meta.data$integration_id <- HGSOC@meta.data$sample_id"
   ]
  },
  {
   "cell_type": "code",
   "execution_count": 20,
   "metadata": {
    "vscode": {
     "languageId": "r"
    }
   },
   "outputs": [
    {
     "data": {
      "text/plain": [
       "An object of class Seurat \n",
       "27984 features across 7799 samples within 1 assay \n",
       "Active assay: RNA (27984 features, 2000 variable features)\n",
       " 26 layers present: counts.1.1, counts.10.2, counts.11.2, counts.12.2, counts.2.1, counts.3.1, counts.4.1, counts.5.1, counts.6.1, counts.7.1, data.1.1, data.2.1, data.3.1, data.4.1, data.5.1, data.6.1, data.7.1, scale.data.1, counts.8.2, counts.9.2, data.8.2, data.9.2, data.10.2, data.11.2, data.12.2, scale.data.2"
      ]
     },
     "metadata": {},
     "output_type": "display_data"
    },
    {
     "data": {
      "text/html": [
       "'GSE184880'"
      ],
      "text/latex": [
       "'GSE184880'"
      ],
      "text/markdown": [
       "'GSE184880'"
      ],
      "text/plain": [
       "[1] \"GSE184880\""
      ]
     },
     "metadata": {},
     "output_type": "display_data"
    },
    {
     "data": {
      "text/html": [
       "<table class=\"dataframe\">\n",
       "<caption>A data.frame: 6 × 13</caption>\n",
       "<thead>\n",
       "\t<tr><th></th><th scope=col>orig.ident</th><th scope=col>nCount_RNA</th><th scope=col>nFeature_RNA</th><th scope=col>sample_type</th><th scope=col>cancer_type</th><th scope=col>patient_id</th><th scope=col>sample_id</th><th scope=col>percent.mt</th><th scope=col>RNA_snn_res.0.2</th><th scope=col>seurat_clusters</th><th scope=col>site</th><th scope=col>cancer_subtype</th><th scope=col>integration_id</th></tr>\n",
       "\t<tr><th></th><th scope=col>&lt;chr&gt;</th><th scope=col>&lt;dbl&gt;</th><th scope=col>&lt;int&gt;</th><th scope=col>&lt;chr&gt;</th><th scope=col>&lt;chr&gt;</th><th scope=col>&lt;chr&gt;</th><th scope=col>&lt;chr&gt;</th><th scope=col>&lt;dbl&gt;</th><th scope=col>&lt;chr&gt;</th><th scope=col>&lt;chr&gt;</th><th scope=col>&lt;chr&gt;</th><th scope=col>&lt;chr&gt;</th><th scope=col>&lt;chr&gt;</th></tr>\n",
       "</thead>\n",
       "<tbody>\n",
       "\t<tr><th scope=row>GSE184880_Cancer1_AAACCCACAGCTGCCA-1</th><td>GSE184880</td><td> 9374</td><td>2655</td><td>tumour</td><td>HGSOC</td><td>Cancer1</td><td>GSE184880_HGSOC_Cancer1</td><td>15.980371</td><td>1</td><td>1</td><td>ovary</td><td>HGSOC</td><td>GSE184880_HGSOC_Cancer1</td></tr>\n",
       "\t<tr><th scope=row>GSE184880_Cancer1_AAACCCACATGACGGA-1</th><td>GSE184880</td><td> 2659</td><td>1246</td><td>tumour</td><td>HGSOC</td><td>Cancer1</td><td>GSE184880_HGSOC_Cancer1</td><td> 8.837909</td><td>1</td><td>1</td><td>ovary</td><td>HGSOC</td><td>GSE184880_HGSOC_Cancer1</td></tr>\n",
       "\t<tr><th scope=row>GSE184880_Cancer1_AAACGAACAGTAGTGG-1</th><td>GSE184880</td><td> 3020</td><td>1206</td><td>tumour</td><td>HGSOC</td><td>Cancer1</td><td>GSE184880_HGSOC_Cancer1</td><td>13.807947</td><td>1</td><td>1</td><td>ovary</td><td>HGSOC</td><td>GSE184880_HGSOC_Cancer1</td></tr>\n",
       "\t<tr><th scope=row>GSE184880_Cancer1_AAACGAATCACCCTCA-1</th><td>GSE184880</td><td>50940</td><td>6660</td><td>tumour</td><td>HGSOC</td><td>Cancer1</td><td>GSE184880_HGSOC_Cancer1</td><td> 8.531606</td><td>1</td><td>1</td><td>ovary</td><td>HGSOC</td><td>GSE184880_HGSOC_Cancer1</td></tr>\n",
       "\t<tr><th scope=row>GSE184880_Cancer1_AAACGCTTCTCCACTG-1</th><td>GSE184880</td><td>10129</td><td>2880</td><td>tumour</td><td>HGSOC</td><td>Cancer1</td><td>GSE184880_HGSOC_Cancer1</td><td>11.225195</td><td>1</td><td>1</td><td>ovary</td><td>HGSOC</td><td>GSE184880_HGSOC_Cancer1</td></tr>\n",
       "\t<tr><th scope=row>GSE184880_Cancer1_AAACGCTTCTGCTCTG-1</th><td>GSE184880</td><td>12756</td><td>3352</td><td>tumour</td><td>HGSOC</td><td>Cancer1</td><td>GSE184880_HGSOC_Cancer1</td><td> 9.321104</td><td>1</td><td>1</td><td>ovary</td><td>HGSOC</td><td>GSE184880_HGSOC_Cancer1</td></tr>\n",
       "</tbody>\n",
       "</table>\n"
      ],
      "text/latex": [
       "A data.frame: 6 × 13\n",
       "\\begin{tabular}{r|lllllllllllll}\n",
       "  & orig.ident & nCount\\_RNA & nFeature\\_RNA & sample\\_type & cancer\\_type & patient\\_id & sample\\_id & percent.mt & RNA\\_snn\\_res.0.2 & seurat\\_clusters & site & cancer\\_subtype & integration\\_id\\\\\n",
       "  & <chr> & <dbl> & <int> & <chr> & <chr> & <chr> & <chr> & <dbl> & <chr> & <chr> & <chr> & <chr> & <chr>\\\\\n",
       "\\hline\n",
       "\tGSE184880\\_Cancer1\\_AAACCCACAGCTGCCA-1 & GSE184880 &  9374 & 2655 & tumour & HGSOC & Cancer1 & GSE184880\\_HGSOC\\_Cancer1 & 15.980371 & 1 & 1 & ovary & HGSOC & GSE184880\\_HGSOC\\_Cancer1\\\\\n",
       "\tGSE184880\\_Cancer1\\_AAACCCACATGACGGA-1 & GSE184880 &  2659 & 1246 & tumour & HGSOC & Cancer1 & GSE184880\\_HGSOC\\_Cancer1 &  8.837909 & 1 & 1 & ovary & HGSOC & GSE184880\\_HGSOC\\_Cancer1\\\\\n",
       "\tGSE184880\\_Cancer1\\_AAACGAACAGTAGTGG-1 & GSE184880 &  3020 & 1206 & tumour & HGSOC & Cancer1 & GSE184880\\_HGSOC\\_Cancer1 & 13.807947 & 1 & 1 & ovary & HGSOC & GSE184880\\_HGSOC\\_Cancer1\\\\\n",
       "\tGSE184880\\_Cancer1\\_AAACGAATCACCCTCA-1 & GSE184880 & 50940 & 6660 & tumour & HGSOC & Cancer1 & GSE184880\\_HGSOC\\_Cancer1 &  8.531606 & 1 & 1 & ovary & HGSOC & GSE184880\\_HGSOC\\_Cancer1\\\\\n",
       "\tGSE184880\\_Cancer1\\_AAACGCTTCTCCACTG-1 & GSE184880 & 10129 & 2880 & tumour & HGSOC & Cancer1 & GSE184880\\_HGSOC\\_Cancer1 & 11.225195 & 1 & 1 & ovary & HGSOC & GSE184880\\_HGSOC\\_Cancer1\\\\\n",
       "\tGSE184880\\_Cancer1\\_AAACGCTTCTGCTCTG-1 & GSE184880 & 12756 & 3352 & tumour & HGSOC & Cancer1 & GSE184880\\_HGSOC\\_Cancer1 &  9.321104 & 1 & 1 & ovary & HGSOC & GSE184880\\_HGSOC\\_Cancer1\\\\\n",
       "\\end{tabular}\n"
      ],
      "text/markdown": [
       "\n",
       "A data.frame: 6 × 13\n",
       "\n",
       "| <!--/--> | orig.ident &lt;chr&gt; | nCount_RNA &lt;dbl&gt; | nFeature_RNA &lt;int&gt; | sample_type &lt;chr&gt; | cancer_type &lt;chr&gt; | patient_id &lt;chr&gt; | sample_id &lt;chr&gt; | percent.mt &lt;dbl&gt; | RNA_snn_res.0.2 &lt;chr&gt; | seurat_clusters &lt;chr&gt; | site &lt;chr&gt; | cancer_subtype &lt;chr&gt; | integration_id &lt;chr&gt; |\n",
       "|---|---|---|---|---|---|---|---|---|---|---|---|---|---|\n",
       "| GSE184880_Cancer1_AAACCCACAGCTGCCA-1 | GSE184880 |  9374 | 2655 | tumour | HGSOC | Cancer1 | GSE184880_HGSOC_Cancer1 | 15.980371 | 1 | 1 | ovary | HGSOC | GSE184880_HGSOC_Cancer1 |\n",
       "| GSE184880_Cancer1_AAACCCACATGACGGA-1 | GSE184880 |  2659 | 1246 | tumour | HGSOC | Cancer1 | GSE184880_HGSOC_Cancer1 |  8.837909 | 1 | 1 | ovary | HGSOC | GSE184880_HGSOC_Cancer1 |\n",
       "| GSE184880_Cancer1_AAACGAACAGTAGTGG-1 | GSE184880 |  3020 | 1206 | tumour | HGSOC | Cancer1 | GSE184880_HGSOC_Cancer1 | 13.807947 | 1 | 1 | ovary | HGSOC | GSE184880_HGSOC_Cancer1 |\n",
       "| GSE184880_Cancer1_AAACGAATCACCCTCA-1 | GSE184880 | 50940 | 6660 | tumour | HGSOC | Cancer1 | GSE184880_HGSOC_Cancer1 |  8.531606 | 1 | 1 | ovary | HGSOC | GSE184880_HGSOC_Cancer1 |\n",
       "| GSE184880_Cancer1_AAACGCTTCTCCACTG-1 | GSE184880 | 10129 | 2880 | tumour | HGSOC | Cancer1 | GSE184880_HGSOC_Cancer1 | 11.225195 | 1 | 1 | ovary | HGSOC | GSE184880_HGSOC_Cancer1 |\n",
       "| GSE184880_Cancer1_AAACGCTTCTGCTCTG-1 | GSE184880 | 12756 | 3352 | tumour | HGSOC | Cancer1 | GSE184880_HGSOC_Cancer1 |  9.321104 | 1 | 1 | ovary | HGSOC | GSE184880_HGSOC_Cancer1 |\n",
       "\n"
      ],
      "text/plain": [
       "                                     orig.ident nCount_RNA nFeature_RNA\n",
       "GSE184880_Cancer1_AAACCCACAGCTGCCA-1 GSE184880   9374      2655        \n",
       "GSE184880_Cancer1_AAACCCACATGACGGA-1 GSE184880   2659      1246        \n",
       "GSE184880_Cancer1_AAACGAACAGTAGTGG-1 GSE184880   3020      1206        \n",
       "GSE184880_Cancer1_AAACGAATCACCCTCA-1 GSE184880  50940      6660        \n",
       "GSE184880_Cancer1_AAACGCTTCTCCACTG-1 GSE184880  10129      2880        \n",
       "GSE184880_Cancer1_AAACGCTTCTGCTCTG-1 GSE184880  12756      3352        \n",
       "                                     sample_type cancer_type patient_id\n",
       "GSE184880_Cancer1_AAACCCACAGCTGCCA-1 tumour      HGSOC       Cancer1   \n",
       "GSE184880_Cancer1_AAACCCACATGACGGA-1 tumour      HGSOC       Cancer1   \n",
       "GSE184880_Cancer1_AAACGAACAGTAGTGG-1 tumour      HGSOC       Cancer1   \n",
       "GSE184880_Cancer1_AAACGAATCACCCTCA-1 tumour      HGSOC       Cancer1   \n",
       "GSE184880_Cancer1_AAACGCTTCTCCACTG-1 tumour      HGSOC       Cancer1   \n",
       "GSE184880_Cancer1_AAACGCTTCTGCTCTG-1 tumour      HGSOC       Cancer1   \n",
       "                                     sample_id               percent.mt\n",
       "GSE184880_Cancer1_AAACCCACAGCTGCCA-1 GSE184880_HGSOC_Cancer1 15.980371 \n",
       "GSE184880_Cancer1_AAACCCACATGACGGA-1 GSE184880_HGSOC_Cancer1  8.837909 \n",
       "GSE184880_Cancer1_AAACGAACAGTAGTGG-1 GSE184880_HGSOC_Cancer1 13.807947 \n",
       "GSE184880_Cancer1_AAACGAATCACCCTCA-1 GSE184880_HGSOC_Cancer1  8.531606 \n",
       "GSE184880_Cancer1_AAACGCTTCTCCACTG-1 GSE184880_HGSOC_Cancer1 11.225195 \n",
       "GSE184880_Cancer1_AAACGCTTCTGCTCTG-1 GSE184880_HGSOC_Cancer1  9.321104 \n",
       "                                     RNA_snn_res.0.2 seurat_clusters site \n",
       "GSE184880_Cancer1_AAACCCACAGCTGCCA-1 1               1               ovary\n",
       "GSE184880_Cancer1_AAACCCACATGACGGA-1 1               1               ovary\n",
       "GSE184880_Cancer1_AAACGAACAGTAGTGG-1 1               1               ovary\n",
       "GSE184880_Cancer1_AAACGAATCACCCTCA-1 1               1               ovary\n",
       "GSE184880_Cancer1_AAACGCTTCTCCACTG-1 1               1               ovary\n",
       "GSE184880_Cancer1_AAACGCTTCTGCTCTG-1 1               1               ovary\n",
       "                                     cancer_subtype integration_id         \n",
       "GSE184880_Cancer1_AAACCCACAGCTGCCA-1 HGSOC          GSE184880_HGSOC_Cancer1\n",
       "GSE184880_Cancer1_AAACCCACATGACGGA-1 HGSOC          GSE184880_HGSOC_Cancer1\n",
       "GSE184880_Cancer1_AAACGAACAGTAGTGG-1 HGSOC          GSE184880_HGSOC_Cancer1\n",
       "GSE184880_Cancer1_AAACGAATCACCCTCA-1 HGSOC          GSE184880_HGSOC_Cancer1\n",
       "GSE184880_Cancer1_AAACGCTTCTCCACTG-1 HGSOC          GSE184880_HGSOC_Cancer1\n",
       "GSE184880_Cancer1_AAACGCTTCTGCTCTG-1 HGSOC          GSE184880_HGSOC_Cancer1"
      ]
     },
     "metadata": {},
     "output_type": "display_data"
    }
   ],
   "source": [
    "HGSOC\n",
    "HGSOC@project.name\n",
    "head(HGSOC@meta.data)"
   ]
  },
  {
   "cell_type": "code",
   "execution_count": 30,
   "metadata": {
    "vscode": {
     "languageId": "r"
    }
   },
   "outputs": [
    {
     "data": {
      "text/plain": [
       "\n",
       "GSE184880_Healthy_Norm1 GSE184880_Healthy_Norm2 GSE184880_Healthy_Norm3 \n",
       "                     54                     281                     360 \n",
       "GSE184880_Healthy_Norm4 GSE184880_Healthy_Norm5 GSE184880_HGSOC_Cancer1 \n",
       "                    193                     569                    2298 \n",
       "GSE184880_HGSOC_Cancer2 GSE184880_HGSOC_Cancer3 GSE184880_HGSOC_Cancer4 \n",
       "                   1080                     577                     792 \n",
       "GSE184880_HGSOC_Cancer5 GSE184880_HGSOC_Cancer6 GSE184880_HGSOC_Cancer7 \n",
       "                    695                     652                     248 "
      ]
     },
     "metadata": {},
     "output_type": "display_data"
    },
    {
     "data": {
      "text/plain": [
       "\n",
       "GSE184880_Healthy_Norm2 GSE184880_Healthy_Norm3 GSE184880_Healthy_Norm4 \n",
       "                    281                     360                     193 \n",
       "GSE184880_Healthy_Norm5 GSE184880_HGSOC_Cancer1 GSE184880_HGSOC_Cancer2 \n",
       "                    569                    2298                    1080 \n",
       "GSE184880_HGSOC_Cancer3 GSE184880_HGSOC_Cancer4 GSE184880_HGSOC_Cancer5 \n",
       "                    577                     792                     695 \n",
       "GSE184880_HGSOC_Cancer6 GSE184880_HGSOC_Cancer7 \n",
       "                    652                     248 "
      ]
     },
     "metadata": {},
     "output_type": "display_data"
    }
   ],
   "source": [
    "#exclude any samples with <100 cells\n",
    "table(HGSOC$integration_id)\n",
    "#exclude Norm1\n",
    "HGSOC <- subset(HGSOC, !(subset = integration_id %in% c(\"GSE184880_Healthy_Norm1\")))\n",
    "table(HGSOC$integration_id)"
   ]
  },
  {
   "cell_type": "code",
   "execution_count": 31,
   "metadata": {
    "vscode": {
     "languageId": "r"
    }
   },
   "outputs": [
    {
     "data": {
      "text/html": [
       "<style>\n",
       ".list-inline {list-style: none; margin:0; padding: 0}\n",
       ".list-inline>li {display: inline-block}\n",
       ".list-inline>li:not(:last-child)::after {content: \"\\00b7\"; padding: 0 .5ex}\n",
       "</style>\n",
       "<ol class=list-inline><li>'data.GSE184880_HGSOC_Cancer1'</li><li>'data.GSE184880_HGSOC_Cancer2'</li><li>'data.GSE184880_HGSOC_Cancer3'</li><li>'data.GSE184880_HGSOC_Cancer4'</li><li>'data.GSE184880_HGSOC_Cancer5'</li><li>'data.GSE184880_HGSOC_Cancer6'</li><li>'data.GSE184880_HGSOC_Cancer7'</li><li>'data.GSE184880_Healthy_Norm2'</li><li>'data.GSE184880_Healthy_Norm3'</li><li>'data.GSE184880_Healthy_Norm4'</li><li>'data.GSE184880_Healthy_Norm5'</li><li>'scale.data'</li><li>'counts.GSE184880_HGSOC_Cancer1'</li><li>'counts.GSE184880_HGSOC_Cancer2'</li><li>'counts.GSE184880_HGSOC_Cancer3'</li><li>'counts.GSE184880_HGSOC_Cancer4'</li><li>'counts.GSE184880_HGSOC_Cancer5'</li><li>'counts.GSE184880_HGSOC_Cancer6'</li><li>'counts.GSE184880_HGSOC_Cancer7'</li><li>'counts.GSE184880_Healthy_Norm2'</li><li>'counts.GSE184880_Healthy_Norm3'</li><li>'counts.GSE184880_Healthy_Norm4'</li><li>'counts.GSE184880_Healthy_Norm5'</li></ol>\n"
      ],
      "text/latex": [
       "\\begin{enumerate*}\n",
       "\\item 'data.GSE184880\\_HGSOC\\_Cancer1'\n",
       "\\item 'data.GSE184880\\_HGSOC\\_Cancer2'\n",
       "\\item 'data.GSE184880\\_HGSOC\\_Cancer3'\n",
       "\\item 'data.GSE184880\\_HGSOC\\_Cancer4'\n",
       "\\item 'data.GSE184880\\_HGSOC\\_Cancer5'\n",
       "\\item 'data.GSE184880\\_HGSOC\\_Cancer6'\n",
       "\\item 'data.GSE184880\\_HGSOC\\_Cancer7'\n",
       "\\item 'data.GSE184880\\_Healthy\\_Norm2'\n",
       "\\item 'data.GSE184880\\_Healthy\\_Norm3'\n",
       "\\item 'data.GSE184880\\_Healthy\\_Norm4'\n",
       "\\item 'data.GSE184880\\_Healthy\\_Norm5'\n",
       "\\item 'scale.data'\n",
       "\\item 'counts.GSE184880\\_HGSOC\\_Cancer1'\n",
       "\\item 'counts.GSE184880\\_HGSOC\\_Cancer2'\n",
       "\\item 'counts.GSE184880\\_HGSOC\\_Cancer3'\n",
       "\\item 'counts.GSE184880\\_HGSOC\\_Cancer4'\n",
       "\\item 'counts.GSE184880\\_HGSOC\\_Cancer5'\n",
       "\\item 'counts.GSE184880\\_HGSOC\\_Cancer6'\n",
       "\\item 'counts.GSE184880\\_HGSOC\\_Cancer7'\n",
       "\\item 'counts.GSE184880\\_Healthy\\_Norm2'\n",
       "\\item 'counts.GSE184880\\_Healthy\\_Norm3'\n",
       "\\item 'counts.GSE184880\\_Healthy\\_Norm4'\n",
       "\\item 'counts.GSE184880\\_Healthy\\_Norm5'\n",
       "\\end{enumerate*}\n"
      ],
      "text/markdown": [
       "1. 'data.GSE184880_HGSOC_Cancer1'\n",
       "2. 'data.GSE184880_HGSOC_Cancer2'\n",
       "3. 'data.GSE184880_HGSOC_Cancer3'\n",
       "4. 'data.GSE184880_HGSOC_Cancer4'\n",
       "5. 'data.GSE184880_HGSOC_Cancer5'\n",
       "6. 'data.GSE184880_HGSOC_Cancer6'\n",
       "7. 'data.GSE184880_HGSOC_Cancer7'\n",
       "8. 'data.GSE184880_Healthy_Norm2'\n",
       "9. 'data.GSE184880_Healthy_Norm3'\n",
       "10. 'data.GSE184880_Healthy_Norm4'\n",
       "11. 'data.GSE184880_Healthy_Norm5'\n",
       "12. 'scale.data'\n",
       "13. 'counts.GSE184880_HGSOC_Cancer1'\n",
       "14. 'counts.GSE184880_HGSOC_Cancer2'\n",
       "15. 'counts.GSE184880_HGSOC_Cancer3'\n",
       "16. 'counts.GSE184880_HGSOC_Cancer4'\n",
       "17. 'counts.GSE184880_HGSOC_Cancer5'\n",
       "18. 'counts.GSE184880_HGSOC_Cancer6'\n",
       "19. 'counts.GSE184880_HGSOC_Cancer7'\n",
       "20. 'counts.GSE184880_Healthy_Norm2'\n",
       "21. 'counts.GSE184880_Healthy_Norm3'\n",
       "22. 'counts.GSE184880_Healthy_Norm4'\n",
       "23. 'counts.GSE184880_Healthy_Norm5'\n",
       "\n",
       "\n"
      ],
      "text/plain": [
       " [1] \"data.GSE184880_HGSOC_Cancer1\"   \"data.GSE184880_HGSOC_Cancer2\"  \n",
       " [3] \"data.GSE184880_HGSOC_Cancer3\"   \"data.GSE184880_HGSOC_Cancer4\"  \n",
       " [5] \"data.GSE184880_HGSOC_Cancer5\"   \"data.GSE184880_HGSOC_Cancer6\"  \n",
       " [7] \"data.GSE184880_HGSOC_Cancer7\"   \"data.GSE184880_Healthy_Norm2\"  \n",
       " [9] \"data.GSE184880_Healthy_Norm3\"   \"data.GSE184880_Healthy_Norm4\"  \n",
       "[11] \"data.GSE184880_Healthy_Norm5\"   \"scale.data\"                    \n",
       "[13] \"counts.GSE184880_HGSOC_Cancer1\" \"counts.GSE184880_HGSOC_Cancer2\"\n",
       "[15] \"counts.GSE184880_HGSOC_Cancer3\" \"counts.GSE184880_HGSOC_Cancer4\"\n",
       "[17] \"counts.GSE184880_HGSOC_Cancer5\" \"counts.GSE184880_HGSOC_Cancer6\"\n",
       "[19] \"counts.GSE184880_HGSOC_Cancer7\" \"counts.GSE184880_Healthy_Norm2\"\n",
       "[21] \"counts.GSE184880_Healthy_Norm3\" \"counts.GSE184880_Healthy_Norm4\"\n",
       "[23] \"counts.GSE184880_Healthy_Norm5\""
      ]
     },
     "metadata": {},
     "output_type": "display_data"
    },
    {
     "data": {
      "text/html": [
       "<style>\n",
       ".list-inline {list-style: none; margin:0; padding: 0}\n",
       ".list-inline>li {display: inline-block}\n",
       ".list-inline>li:not(:last-child)::after {content: \"\\00b7\"; padding: 0 .5ex}\n",
       "</style>\n",
       "<ol class=list-inline><li>'data'</li><li>'counts'</li><li>'scale.data'</li></ol>\n"
      ],
      "text/latex": [
       "\\begin{enumerate*}\n",
       "\\item 'data'\n",
       "\\item 'counts'\n",
       "\\item 'scale.data'\n",
       "\\end{enumerate*}\n"
      ],
      "text/markdown": [
       "1. 'data'\n",
       "2. 'counts'\n",
       "3. 'scale.data'\n",
       "\n",
       "\n"
      ],
      "text/plain": [
       "[1] \"data\"       \"counts\"     \"scale.data\""
      ]
     },
     "metadata": {},
     "output_type": "display_data"
    },
    {
     "name": "stderr",
     "output_type": "stream",
     "text": [
      "Splitting ‘counts’, ‘data’ layers. Not splitting ‘scale.data’. If you would like to split other layers, set in `layers` argument.\n",
      "\n"
     ]
    },
    {
     "data": {
      "text/html": [
       "<style>\n",
       ".list-inline {list-style: none; margin:0; padding: 0}\n",
       ".list-inline>li {display: inline-block}\n",
       ".list-inline>li:not(:last-child)::after {content: \"\\00b7\"; padding: 0 .5ex}\n",
       "</style>\n",
       "<ol class=list-inline><li>'data.GSE184880_HGSOC_Cancer1'</li><li>'data.GSE184880_HGSOC_Cancer2'</li><li>'data.GSE184880_HGSOC_Cancer3'</li><li>'data.GSE184880_HGSOC_Cancer4'</li><li>'data.GSE184880_HGSOC_Cancer5'</li><li>'data.GSE184880_HGSOC_Cancer6'</li><li>'data.GSE184880_HGSOC_Cancer7'</li><li>'data.GSE184880_Healthy_Norm2'</li><li>'data.GSE184880_Healthy_Norm3'</li><li>'data.GSE184880_Healthy_Norm4'</li><li>'data.GSE184880_Healthy_Norm5'</li><li>'scale.data'</li><li>'counts.GSE184880_HGSOC_Cancer1'</li><li>'counts.GSE184880_HGSOC_Cancer2'</li><li>'counts.GSE184880_HGSOC_Cancer3'</li><li>'counts.GSE184880_HGSOC_Cancer4'</li><li>'counts.GSE184880_HGSOC_Cancer5'</li><li>'counts.GSE184880_HGSOC_Cancer6'</li><li>'counts.GSE184880_HGSOC_Cancer7'</li><li>'counts.GSE184880_Healthy_Norm2'</li><li>'counts.GSE184880_Healthy_Norm3'</li><li>'counts.GSE184880_Healthy_Norm4'</li><li>'counts.GSE184880_Healthy_Norm5'</li></ol>\n"
      ],
      "text/latex": [
       "\\begin{enumerate*}\n",
       "\\item 'data.GSE184880\\_HGSOC\\_Cancer1'\n",
       "\\item 'data.GSE184880\\_HGSOC\\_Cancer2'\n",
       "\\item 'data.GSE184880\\_HGSOC\\_Cancer3'\n",
       "\\item 'data.GSE184880\\_HGSOC\\_Cancer4'\n",
       "\\item 'data.GSE184880\\_HGSOC\\_Cancer5'\n",
       "\\item 'data.GSE184880\\_HGSOC\\_Cancer6'\n",
       "\\item 'data.GSE184880\\_HGSOC\\_Cancer7'\n",
       "\\item 'data.GSE184880\\_Healthy\\_Norm2'\n",
       "\\item 'data.GSE184880\\_Healthy\\_Norm3'\n",
       "\\item 'data.GSE184880\\_Healthy\\_Norm4'\n",
       "\\item 'data.GSE184880\\_Healthy\\_Norm5'\n",
       "\\item 'scale.data'\n",
       "\\item 'counts.GSE184880\\_HGSOC\\_Cancer1'\n",
       "\\item 'counts.GSE184880\\_HGSOC\\_Cancer2'\n",
       "\\item 'counts.GSE184880\\_HGSOC\\_Cancer3'\n",
       "\\item 'counts.GSE184880\\_HGSOC\\_Cancer4'\n",
       "\\item 'counts.GSE184880\\_HGSOC\\_Cancer5'\n",
       "\\item 'counts.GSE184880\\_HGSOC\\_Cancer6'\n",
       "\\item 'counts.GSE184880\\_HGSOC\\_Cancer7'\n",
       "\\item 'counts.GSE184880\\_Healthy\\_Norm2'\n",
       "\\item 'counts.GSE184880\\_Healthy\\_Norm3'\n",
       "\\item 'counts.GSE184880\\_Healthy\\_Norm4'\n",
       "\\item 'counts.GSE184880\\_Healthy\\_Norm5'\n",
       "\\end{enumerate*}\n"
      ],
      "text/markdown": [
       "1. 'data.GSE184880_HGSOC_Cancer1'\n",
       "2. 'data.GSE184880_HGSOC_Cancer2'\n",
       "3. 'data.GSE184880_HGSOC_Cancer3'\n",
       "4. 'data.GSE184880_HGSOC_Cancer4'\n",
       "5. 'data.GSE184880_HGSOC_Cancer5'\n",
       "6. 'data.GSE184880_HGSOC_Cancer6'\n",
       "7. 'data.GSE184880_HGSOC_Cancer7'\n",
       "8. 'data.GSE184880_Healthy_Norm2'\n",
       "9. 'data.GSE184880_Healthy_Norm3'\n",
       "10. 'data.GSE184880_Healthy_Norm4'\n",
       "11. 'data.GSE184880_Healthy_Norm5'\n",
       "12. 'scale.data'\n",
       "13. 'counts.GSE184880_HGSOC_Cancer1'\n",
       "14. 'counts.GSE184880_HGSOC_Cancer2'\n",
       "15. 'counts.GSE184880_HGSOC_Cancer3'\n",
       "16. 'counts.GSE184880_HGSOC_Cancer4'\n",
       "17. 'counts.GSE184880_HGSOC_Cancer5'\n",
       "18. 'counts.GSE184880_HGSOC_Cancer6'\n",
       "19. 'counts.GSE184880_HGSOC_Cancer7'\n",
       "20. 'counts.GSE184880_Healthy_Norm2'\n",
       "21. 'counts.GSE184880_Healthy_Norm3'\n",
       "22. 'counts.GSE184880_Healthy_Norm4'\n",
       "23. 'counts.GSE184880_Healthy_Norm5'\n",
       "\n",
       "\n"
      ],
      "text/plain": [
       " [1] \"data.GSE184880_HGSOC_Cancer1\"   \"data.GSE184880_HGSOC_Cancer2\"  \n",
       " [3] \"data.GSE184880_HGSOC_Cancer3\"   \"data.GSE184880_HGSOC_Cancer4\"  \n",
       " [5] \"data.GSE184880_HGSOC_Cancer5\"   \"data.GSE184880_HGSOC_Cancer6\"  \n",
       " [7] \"data.GSE184880_HGSOC_Cancer7\"   \"data.GSE184880_Healthy_Norm2\"  \n",
       " [9] \"data.GSE184880_Healthy_Norm3\"   \"data.GSE184880_Healthy_Norm4\"  \n",
       "[11] \"data.GSE184880_Healthy_Norm5\"   \"scale.data\"                    \n",
       "[13] \"counts.GSE184880_HGSOC_Cancer1\" \"counts.GSE184880_HGSOC_Cancer2\"\n",
       "[15] \"counts.GSE184880_HGSOC_Cancer3\" \"counts.GSE184880_HGSOC_Cancer4\"\n",
       "[17] \"counts.GSE184880_HGSOC_Cancer5\" \"counts.GSE184880_HGSOC_Cancer6\"\n",
       "[19] \"counts.GSE184880_HGSOC_Cancer7\" \"counts.GSE184880_Healthy_Norm2\"\n",
       "[21] \"counts.GSE184880_Healthy_Norm3\" \"counts.GSE184880_Healthy_Norm4\"\n",
       "[23] \"counts.GSE184880_Healthy_Norm5\""
      ]
     },
     "metadata": {},
     "output_type": "display_data"
    }
   ],
   "source": [
    "#join layers and then split them by integration_id\n",
    "Layers(HGSOC[[\"RNA\"]])\n",
    "#join layers\n",
    "HGSOC[[\"RNA\"]] <- JoinLayers(HGSOC[[\"RNA\"]])\n",
    "Layers(HGSOC[[\"RNA\"]])\n",
    "#split layers\n",
    "HGSOC[[\"RNA\"]] <- split(HGSOC[[\"RNA\"]], f = HGSOC$integration_id)\n",
    "Layers(HGSOC[[\"RNA\"]])\n"
   ]
  },
  {
   "cell_type": "code",
   "execution_count": 33,
   "metadata": {
    "vscode": {
     "languageId": "r"
    }
   },
   "outputs": [
    {
     "data": {
      "text/plain": [
       "\n",
       "GSE184880_Healthy_Norm2 GSE184880_Healthy_Norm3 GSE184880_Healthy_Norm4 \n",
       "                    281                     360                     193 \n",
       "GSE184880_Healthy_Norm5 GSE184880_HGSOC_Cancer1 GSE184880_HGSOC_Cancer2 \n",
       "                    569                    2298                    1080 \n",
       "GSE184880_HGSOC_Cancer3 GSE184880_HGSOC_Cancer4 GSE184880_HGSOC_Cancer5 \n",
       "                    577                     792                     695 \n",
       "GSE184880_HGSOC_Cancer6 GSE184880_HGSOC_Cancer7 \n",
       "                    652                     248 "
      ]
     },
     "metadata": {},
     "output_type": "display_data"
    }
   ],
   "source": [
    "#record number of cells\n",
    "table(HGSOC$integration_id)"
   ]
  },
  {
   "cell_type": "code",
   "execution_count": 34,
   "metadata": {
    "vscode": {
     "languageId": "r"
    }
   },
   "outputs": [],
   "source": [
    "#re-export seurat object ready for integration\n",
    "saveRDS(HGSOC, \"/scratch/user/s4436039/scdata/Myeloid_Cells/Myeloid_Cells_Integrate/GSE184880_myeloid_int.RDS\")"
   ]
  },
  {
   "cell_type": "code",
   "execution_count": 36,
   "metadata": {
    "vscode": {
     "languageId": "r"
    }
   },
   "outputs": [],
   "source": [
    "#remove all objects in R\n",
    "rm(list = ls())"
   ]
  },
  {
   "cell_type": "markdown",
   "metadata": {},
   "source": [
    "## GSE213243"
   ]
  },
  {
   "cell_type": "code",
   "execution_count": 44,
   "metadata": {
    "vscode": {
     "languageId": "r"
    }
   },
   "outputs": [],
   "source": [
    "HGSOC_tu <- readRDS(\"/scratch/user/s4436039/scdata/Myeloid_Cells/GSE213243_Tumour_myeloid.RDS\")\n",
    "HGSOC_As <- readRDS(\"/scratch/user/s4436039/scdata/Myeloid_Cells/GSE213243_Ascites_myeloid.RDS\")"
   ]
  },
  {
   "cell_type": "code",
   "execution_count": 45,
   "metadata": {
    "vscode": {
     "languageId": "r"
    }
   },
   "outputs": [
    {
     "data": {
      "text/plain": [
       "An object of class Seurat \n",
       "58825 features across 804 samples within 1 assay \n",
       "Active assay: RNA (58825 features, 2000 variable features)\n",
       " 3 layers present: counts, data, scale.data\n",
       " 2 dimensional reductions calculated: pca, umap"
      ]
     },
     "metadata": {},
     "output_type": "display_data"
    },
    {
     "data": {
      "text/html": [
       "'GSE213243'"
      ],
      "text/latex": [
       "'GSE213243'"
      ],
      "text/markdown": [
       "'GSE213243'"
      ],
      "text/plain": [
       "[1] \"GSE213243\""
      ]
     },
     "metadata": {},
     "output_type": "display_data"
    },
    {
     "data": {
      "text/html": [
       "<table class=\"dataframe\">\n",
       "<caption>A data.frame: 6 × 10</caption>\n",
       "<thead>\n",
       "\t<tr><th></th><th scope=col>orig.ident</th><th scope=col>nCount_RNA</th><th scope=col>nFeature_RNA</th><th scope=col>sample_type</th><th scope=col>cancer_type</th><th scope=col>patient_id</th><th scope=col>sample_id</th><th scope=col>percent.mt</th><th scope=col>RNA_snn_res.0.5</th><th scope=col>seurat_clusters</th></tr>\n",
       "\t<tr><th></th><th scope=col>&lt;fct&gt;</th><th scope=col>&lt;dbl&gt;</th><th scope=col>&lt;int&gt;</th><th scope=col>&lt;chr&gt;</th><th scope=col>&lt;chr&gt;</th><th scope=col>&lt;chr&gt;</th><th scope=col>&lt;chr&gt;</th><th scope=col>&lt;dbl&gt;</th><th scope=col>&lt;fct&gt;</th><th scope=col>&lt;fct&gt;</th></tr>\n",
       "</thead>\n",
       "<tbody>\n",
       "\t<tr><th scope=row>GSE213243_tumour_AAAGGTACACGCAGTC-1</th><td>GSE213243</td><td> 8050</td><td>2780</td><td>tumour</td><td>HGSOC</td><td>pt-1</td><td>GSE213243_HGSOC_tumour</td><td>19.962733</td><td>3</td><td>3</td></tr>\n",
       "\t<tr><th scope=row>GSE213243_tumour_AAATGGACACACGCCA-1</th><td>GSE213243</td><td> 5854</td><td>2467</td><td>tumour</td><td>HGSOC</td><td>pt-1</td><td>GSE213243_HGSOC_tumour</td><td> 4.936795</td><td>3</td><td>3</td></tr>\n",
       "\t<tr><th scope=row>GSE213243_tumour_AACAAAGCAATTTCCT-1</th><td>GSE213243</td><td> 6073</td><td>2541</td><td>tumour</td><td>HGSOC</td><td>pt-1</td><td>GSE213243_HGSOC_tumour</td><td> 6.323069</td><td>3</td><td>3</td></tr>\n",
       "\t<tr><th scope=row>GSE213243_tumour_AACACACGTAGCTTTG-1</th><td>GSE213243</td><td>13497</td><td>3862</td><td>tumour</td><td>HGSOC</td><td>pt-1</td><td>GSE213243_HGSOC_tumour</td><td> 5.319701</td><td>3</td><td>3</td></tr>\n",
       "\t<tr><th scope=row>GSE213243_tumour_AACACACTCGCTGTTC-1</th><td>GSE213243</td><td> 8644</td><td>3306</td><td>tumour</td><td>HGSOC</td><td>pt-1</td><td>GSE213243_HGSOC_tumour</td><td>10.596946</td><td>3</td><td>3</td></tr>\n",
       "\t<tr><th scope=row>GSE213243_tumour_AACAGGGCAACCCTAA-1</th><td>GSE213243</td><td> 6263</td><td>2562</td><td>tumour</td><td>HGSOC</td><td>pt-1</td><td>GSE213243_HGSOC_tumour</td><td> 3.544627</td><td>3</td><td>3</td></tr>\n",
       "</tbody>\n",
       "</table>\n"
      ],
      "text/latex": [
       "A data.frame: 6 × 10\n",
       "\\begin{tabular}{r|llllllllll}\n",
       "  & orig.ident & nCount\\_RNA & nFeature\\_RNA & sample\\_type & cancer\\_type & patient\\_id & sample\\_id & percent.mt & RNA\\_snn\\_res.0.5 & seurat\\_clusters\\\\\n",
       "  & <fct> & <dbl> & <int> & <chr> & <chr> & <chr> & <chr> & <dbl> & <fct> & <fct>\\\\\n",
       "\\hline\n",
       "\tGSE213243\\_tumour\\_AAAGGTACACGCAGTC-1 & GSE213243 &  8050 & 2780 & tumour & HGSOC & pt-1 & GSE213243\\_HGSOC\\_tumour & 19.962733 & 3 & 3\\\\\n",
       "\tGSE213243\\_tumour\\_AAATGGACACACGCCA-1 & GSE213243 &  5854 & 2467 & tumour & HGSOC & pt-1 & GSE213243\\_HGSOC\\_tumour &  4.936795 & 3 & 3\\\\\n",
       "\tGSE213243\\_tumour\\_AACAAAGCAATTTCCT-1 & GSE213243 &  6073 & 2541 & tumour & HGSOC & pt-1 & GSE213243\\_HGSOC\\_tumour &  6.323069 & 3 & 3\\\\\n",
       "\tGSE213243\\_tumour\\_AACACACGTAGCTTTG-1 & GSE213243 & 13497 & 3862 & tumour & HGSOC & pt-1 & GSE213243\\_HGSOC\\_tumour &  5.319701 & 3 & 3\\\\\n",
       "\tGSE213243\\_tumour\\_AACACACTCGCTGTTC-1 & GSE213243 &  8644 & 3306 & tumour & HGSOC & pt-1 & GSE213243\\_HGSOC\\_tumour & 10.596946 & 3 & 3\\\\\n",
       "\tGSE213243\\_tumour\\_AACAGGGCAACCCTAA-1 & GSE213243 &  6263 & 2562 & tumour & HGSOC & pt-1 & GSE213243\\_HGSOC\\_tumour &  3.544627 & 3 & 3\\\\\n",
       "\\end{tabular}\n"
      ],
      "text/markdown": [
       "\n",
       "A data.frame: 6 × 10\n",
       "\n",
       "| <!--/--> | orig.ident &lt;fct&gt; | nCount_RNA &lt;dbl&gt; | nFeature_RNA &lt;int&gt; | sample_type &lt;chr&gt; | cancer_type &lt;chr&gt; | patient_id &lt;chr&gt; | sample_id &lt;chr&gt; | percent.mt &lt;dbl&gt; | RNA_snn_res.0.5 &lt;fct&gt; | seurat_clusters &lt;fct&gt; |\n",
       "|---|---|---|---|---|---|---|---|---|---|---|\n",
       "| GSE213243_tumour_AAAGGTACACGCAGTC-1 | GSE213243 |  8050 | 2780 | tumour | HGSOC | pt-1 | GSE213243_HGSOC_tumour | 19.962733 | 3 | 3 |\n",
       "| GSE213243_tumour_AAATGGACACACGCCA-1 | GSE213243 |  5854 | 2467 | tumour | HGSOC | pt-1 | GSE213243_HGSOC_tumour |  4.936795 | 3 | 3 |\n",
       "| GSE213243_tumour_AACAAAGCAATTTCCT-1 | GSE213243 |  6073 | 2541 | tumour | HGSOC | pt-1 | GSE213243_HGSOC_tumour |  6.323069 | 3 | 3 |\n",
       "| GSE213243_tumour_AACACACGTAGCTTTG-1 | GSE213243 | 13497 | 3862 | tumour | HGSOC | pt-1 | GSE213243_HGSOC_tumour |  5.319701 | 3 | 3 |\n",
       "| GSE213243_tumour_AACACACTCGCTGTTC-1 | GSE213243 |  8644 | 3306 | tumour | HGSOC | pt-1 | GSE213243_HGSOC_tumour | 10.596946 | 3 | 3 |\n",
       "| GSE213243_tumour_AACAGGGCAACCCTAA-1 | GSE213243 |  6263 | 2562 | tumour | HGSOC | pt-1 | GSE213243_HGSOC_tumour |  3.544627 | 3 | 3 |\n",
       "\n"
      ],
      "text/plain": [
       "                                    orig.ident nCount_RNA nFeature_RNA\n",
       "GSE213243_tumour_AAAGGTACACGCAGTC-1 GSE213243   8050      2780        \n",
       "GSE213243_tumour_AAATGGACACACGCCA-1 GSE213243   5854      2467        \n",
       "GSE213243_tumour_AACAAAGCAATTTCCT-1 GSE213243   6073      2541        \n",
       "GSE213243_tumour_AACACACGTAGCTTTG-1 GSE213243  13497      3862        \n",
       "GSE213243_tumour_AACACACTCGCTGTTC-1 GSE213243   8644      3306        \n",
       "GSE213243_tumour_AACAGGGCAACCCTAA-1 GSE213243   6263      2562        \n",
       "                                    sample_type cancer_type patient_id\n",
       "GSE213243_tumour_AAAGGTACACGCAGTC-1 tumour      HGSOC       pt-1      \n",
       "GSE213243_tumour_AAATGGACACACGCCA-1 tumour      HGSOC       pt-1      \n",
       "GSE213243_tumour_AACAAAGCAATTTCCT-1 tumour      HGSOC       pt-1      \n",
       "GSE213243_tumour_AACACACGTAGCTTTG-1 tumour      HGSOC       pt-1      \n",
       "GSE213243_tumour_AACACACTCGCTGTTC-1 tumour      HGSOC       pt-1      \n",
       "GSE213243_tumour_AACAGGGCAACCCTAA-1 tumour      HGSOC       pt-1      \n",
       "                                    sample_id              percent.mt\n",
       "GSE213243_tumour_AAAGGTACACGCAGTC-1 GSE213243_HGSOC_tumour 19.962733 \n",
       "GSE213243_tumour_AAATGGACACACGCCA-1 GSE213243_HGSOC_tumour  4.936795 \n",
       "GSE213243_tumour_AACAAAGCAATTTCCT-1 GSE213243_HGSOC_tumour  6.323069 \n",
       "GSE213243_tumour_AACACACGTAGCTTTG-1 GSE213243_HGSOC_tumour  5.319701 \n",
       "GSE213243_tumour_AACACACTCGCTGTTC-1 GSE213243_HGSOC_tumour 10.596946 \n",
       "GSE213243_tumour_AACAGGGCAACCCTAA-1 GSE213243_HGSOC_tumour  3.544627 \n",
       "                                    RNA_snn_res.0.5 seurat_clusters\n",
       "GSE213243_tumour_AAAGGTACACGCAGTC-1 3               3              \n",
       "GSE213243_tumour_AAATGGACACACGCCA-1 3               3              \n",
       "GSE213243_tumour_AACAAAGCAATTTCCT-1 3               3              \n",
       "GSE213243_tumour_AACACACGTAGCTTTG-1 3               3              \n",
       "GSE213243_tumour_AACACACTCGCTGTTC-1 3               3              \n",
       "GSE213243_tumour_AACAGGGCAACCCTAA-1 3               3              "
      ]
     },
     "metadata": {},
     "output_type": "display_data"
    },
    {
     "data": {
      "text/plain": [
       "An object of class Seurat \n",
       "58825 features across 2688 samples within 1 assay \n",
       "Active assay: RNA (58825 features, 2000 variable features)\n",
       " 3 layers present: counts, data, scale.data\n",
       " 2 dimensional reductions calculated: pca, umap"
      ]
     },
     "metadata": {},
     "output_type": "display_data"
    },
    {
     "data": {
      "text/html": [
       "'GSE213243'"
      ],
      "text/latex": [
       "'GSE213243'"
      ],
      "text/markdown": [
       "'GSE213243'"
      ],
      "text/plain": [
       "[1] \"GSE213243\""
      ]
     },
     "metadata": {},
     "output_type": "display_data"
    },
    {
     "data": {
      "text/html": [
       "<table class=\"dataframe\">\n",
       "<caption>A data.frame: 6 × 10</caption>\n",
       "<thead>\n",
       "\t<tr><th></th><th scope=col>orig.ident</th><th scope=col>nCount_RNA</th><th scope=col>nFeature_RNA</th><th scope=col>sample_type</th><th scope=col>cancer_type</th><th scope=col>patient_id</th><th scope=col>sample_id</th><th scope=col>percent.mt</th><th scope=col>RNA_snn_res.0.5</th><th scope=col>seurat_clusters</th></tr>\n",
       "\t<tr><th></th><th scope=col>&lt;fct&gt;</th><th scope=col>&lt;dbl&gt;</th><th scope=col>&lt;int&gt;</th><th scope=col>&lt;chr&gt;</th><th scope=col>&lt;chr&gt;</th><th scope=col>&lt;chr&gt;</th><th scope=col>&lt;chr&gt;</th><th scope=col>&lt;dbl&gt;</th><th scope=col>&lt;fct&gt;</th><th scope=col>&lt;fct&gt;</th></tr>\n",
       "</thead>\n",
       "<tbody>\n",
       "\t<tr><th scope=row>GSE213243_ascites_AAACCCAAGTAGCAAT-2</th><td>GSE213243</td><td>16943</td><td>4684</td><td>ascites</td><td>HGSOC</td><td>pt-1</td><td>GSE213243_HGSOC_ascites</td><td> 7.572449</td><td>5</td><td>5</td></tr>\n",
       "\t<tr><th scope=row>GSE213243_ascites_AAACCCACAGTCGTTA-2</th><td>GSE213243</td><td>14219</td><td>3822</td><td>ascites</td><td>HGSOC</td><td>pt-1</td><td>GSE213243_HGSOC_ascites</td><td> 5.021450</td><td>1</td><td>1</td></tr>\n",
       "\t<tr><th scope=row>GSE213243_ascites_AAACCCATCCGTAGTA-2</th><td>GSE213243</td><td>15634</td><td>4224</td><td>ascites</td><td>HGSOC</td><td>pt-1</td><td>GSE213243_HGSOC_ascites</td><td> 6.556224</td><td>5</td><td>5</td></tr>\n",
       "\t<tr><th scope=row>GSE213243_ascites_AAACGAAAGTGCTCGC-2</th><td>GSE213243</td><td> 3007</td><td>1377</td><td>ascites</td><td>HGSOC</td><td>pt-1</td><td>GSE213243_HGSOC_ascites</td><td>28.766212</td><td>6</td><td>6</td></tr>\n",
       "\t<tr><th scope=row>GSE213243_ascites_AAACGAAGTATGGTAA-2</th><td>GSE213243</td><td>13828</td><td>4227</td><td>ascites</td><td>HGSOC</td><td>pt-1</td><td>GSE213243_HGSOC_ascites</td><td> 4.122071</td><td>5</td><td>5</td></tr>\n",
       "\t<tr><th scope=row>GSE213243_ascites_AAACGCTAGTATCTGC-2</th><td>GSE213243</td><td>12945</td><td>3944</td><td>ascites</td><td>HGSOC</td><td>pt-1</td><td>GSE213243_HGSOC_ascites</td><td> 8.937814</td><td>6</td><td>6</td></tr>\n",
       "</tbody>\n",
       "</table>\n"
      ],
      "text/latex": [
       "A data.frame: 6 × 10\n",
       "\\begin{tabular}{r|llllllllll}\n",
       "  & orig.ident & nCount\\_RNA & nFeature\\_RNA & sample\\_type & cancer\\_type & patient\\_id & sample\\_id & percent.mt & RNA\\_snn\\_res.0.5 & seurat\\_clusters\\\\\n",
       "  & <fct> & <dbl> & <int> & <chr> & <chr> & <chr> & <chr> & <dbl> & <fct> & <fct>\\\\\n",
       "\\hline\n",
       "\tGSE213243\\_ascites\\_AAACCCAAGTAGCAAT-2 & GSE213243 & 16943 & 4684 & ascites & HGSOC & pt-1 & GSE213243\\_HGSOC\\_ascites &  7.572449 & 5 & 5\\\\\n",
       "\tGSE213243\\_ascites\\_AAACCCACAGTCGTTA-2 & GSE213243 & 14219 & 3822 & ascites & HGSOC & pt-1 & GSE213243\\_HGSOC\\_ascites &  5.021450 & 1 & 1\\\\\n",
       "\tGSE213243\\_ascites\\_AAACCCATCCGTAGTA-2 & GSE213243 & 15634 & 4224 & ascites & HGSOC & pt-1 & GSE213243\\_HGSOC\\_ascites &  6.556224 & 5 & 5\\\\\n",
       "\tGSE213243\\_ascites\\_AAACGAAAGTGCTCGC-2 & GSE213243 &  3007 & 1377 & ascites & HGSOC & pt-1 & GSE213243\\_HGSOC\\_ascites & 28.766212 & 6 & 6\\\\\n",
       "\tGSE213243\\_ascites\\_AAACGAAGTATGGTAA-2 & GSE213243 & 13828 & 4227 & ascites & HGSOC & pt-1 & GSE213243\\_HGSOC\\_ascites &  4.122071 & 5 & 5\\\\\n",
       "\tGSE213243\\_ascites\\_AAACGCTAGTATCTGC-2 & GSE213243 & 12945 & 3944 & ascites & HGSOC & pt-1 & GSE213243\\_HGSOC\\_ascites &  8.937814 & 6 & 6\\\\\n",
       "\\end{tabular}\n"
      ],
      "text/markdown": [
       "\n",
       "A data.frame: 6 × 10\n",
       "\n",
       "| <!--/--> | orig.ident &lt;fct&gt; | nCount_RNA &lt;dbl&gt; | nFeature_RNA &lt;int&gt; | sample_type &lt;chr&gt; | cancer_type &lt;chr&gt; | patient_id &lt;chr&gt; | sample_id &lt;chr&gt; | percent.mt &lt;dbl&gt; | RNA_snn_res.0.5 &lt;fct&gt; | seurat_clusters &lt;fct&gt; |\n",
       "|---|---|---|---|---|---|---|---|---|---|---|\n",
       "| GSE213243_ascites_AAACCCAAGTAGCAAT-2 | GSE213243 | 16943 | 4684 | ascites | HGSOC | pt-1 | GSE213243_HGSOC_ascites |  7.572449 | 5 | 5 |\n",
       "| GSE213243_ascites_AAACCCACAGTCGTTA-2 | GSE213243 | 14219 | 3822 | ascites | HGSOC | pt-1 | GSE213243_HGSOC_ascites |  5.021450 | 1 | 1 |\n",
       "| GSE213243_ascites_AAACCCATCCGTAGTA-2 | GSE213243 | 15634 | 4224 | ascites | HGSOC | pt-1 | GSE213243_HGSOC_ascites |  6.556224 | 5 | 5 |\n",
       "| GSE213243_ascites_AAACGAAAGTGCTCGC-2 | GSE213243 |  3007 | 1377 | ascites | HGSOC | pt-1 | GSE213243_HGSOC_ascites | 28.766212 | 6 | 6 |\n",
       "| GSE213243_ascites_AAACGAAGTATGGTAA-2 | GSE213243 | 13828 | 4227 | ascites | HGSOC | pt-1 | GSE213243_HGSOC_ascites |  4.122071 | 5 | 5 |\n",
       "| GSE213243_ascites_AAACGCTAGTATCTGC-2 | GSE213243 | 12945 | 3944 | ascites | HGSOC | pt-1 | GSE213243_HGSOC_ascites |  8.937814 | 6 | 6 |\n",
       "\n"
      ],
      "text/plain": [
       "                                     orig.ident nCount_RNA nFeature_RNA\n",
       "GSE213243_ascites_AAACCCAAGTAGCAAT-2 GSE213243  16943      4684        \n",
       "GSE213243_ascites_AAACCCACAGTCGTTA-2 GSE213243  14219      3822        \n",
       "GSE213243_ascites_AAACCCATCCGTAGTA-2 GSE213243  15634      4224        \n",
       "GSE213243_ascites_AAACGAAAGTGCTCGC-2 GSE213243   3007      1377        \n",
       "GSE213243_ascites_AAACGAAGTATGGTAA-2 GSE213243  13828      4227        \n",
       "GSE213243_ascites_AAACGCTAGTATCTGC-2 GSE213243  12945      3944        \n",
       "                                     sample_type cancer_type patient_id\n",
       "GSE213243_ascites_AAACCCAAGTAGCAAT-2 ascites     HGSOC       pt-1      \n",
       "GSE213243_ascites_AAACCCACAGTCGTTA-2 ascites     HGSOC       pt-1      \n",
       "GSE213243_ascites_AAACCCATCCGTAGTA-2 ascites     HGSOC       pt-1      \n",
       "GSE213243_ascites_AAACGAAAGTGCTCGC-2 ascites     HGSOC       pt-1      \n",
       "GSE213243_ascites_AAACGAAGTATGGTAA-2 ascites     HGSOC       pt-1      \n",
       "GSE213243_ascites_AAACGCTAGTATCTGC-2 ascites     HGSOC       pt-1      \n",
       "                                     sample_id               percent.mt\n",
       "GSE213243_ascites_AAACCCAAGTAGCAAT-2 GSE213243_HGSOC_ascites  7.572449 \n",
       "GSE213243_ascites_AAACCCACAGTCGTTA-2 GSE213243_HGSOC_ascites  5.021450 \n",
       "GSE213243_ascites_AAACCCATCCGTAGTA-2 GSE213243_HGSOC_ascites  6.556224 \n",
       "GSE213243_ascites_AAACGAAAGTGCTCGC-2 GSE213243_HGSOC_ascites 28.766212 \n",
       "GSE213243_ascites_AAACGAAGTATGGTAA-2 GSE213243_HGSOC_ascites  4.122071 \n",
       "GSE213243_ascites_AAACGCTAGTATCTGC-2 GSE213243_HGSOC_ascites  8.937814 \n",
       "                                     RNA_snn_res.0.5 seurat_clusters\n",
       "GSE213243_ascites_AAACCCAAGTAGCAAT-2 5               5              \n",
       "GSE213243_ascites_AAACCCACAGTCGTTA-2 1               1              \n",
       "GSE213243_ascites_AAACCCATCCGTAGTA-2 5               5              \n",
       "GSE213243_ascites_AAACGAAAGTGCTCGC-2 6               6              \n",
       "GSE213243_ascites_AAACGAAGTATGGTAA-2 5               5              \n",
       "GSE213243_ascites_AAACGCTAGTATCTGC-2 6               6              "
      ]
     },
     "metadata": {},
     "output_type": "display_data"
    }
   ],
   "source": [
    "HGSOC_tu\n",
    "HGSOC_tu@project.name\n",
    "head(HGSOC_tu@meta.data)\n",
    "\n",
    "HGSOC_As\n",
    "HGSOC_As@project.name\n",
    "head(HGSOC_As@meta.data)"
   ]
  },
  {
   "cell_type": "code",
   "execution_count": 46,
   "metadata": {
    "vscode": {
     "languageId": "r"
    }
   },
   "outputs": [
    {
     "data": {
      "text/plain": [
       "\n",
       "tumour \n",
       "   804 "
      ]
     },
     "metadata": {},
     "output_type": "display_data"
    },
    {
     "data": {
      "text/plain": [
       "\n",
       "HGSOC \n",
       "  804 "
      ]
     },
     "metadata": {},
     "output_type": "display_data"
    },
    {
     "data": {
      "text/plain": [
       "\n",
       "pt-1 \n",
       " 804 "
      ]
     },
     "metadata": {},
     "output_type": "display_data"
    },
    {
     "data": {
      "text/plain": [
       "\n",
       "GSE213243_HGSOC_tumour \n",
       "                   804 "
      ]
     },
     "metadata": {},
     "output_type": "display_data"
    },
    {
     "data": {
      "text/plain": [
       "\n",
       "ascites \n",
       "   2688 "
      ]
     },
     "metadata": {},
     "output_type": "display_data"
    },
    {
     "data": {
      "text/plain": [
       "\n",
       "HGSOC \n",
       " 2688 "
      ]
     },
     "metadata": {},
     "output_type": "display_data"
    },
    {
     "data": {
      "text/plain": [
       "\n",
       "pt-1 \n",
       "2688 "
      ]
     },
     "metadata": {},
     "output_type": "display_data"
    },
    {
     "data": {
      "text/plain": [
       "\n",
       "GSE213243_HGSOC_ascites \n",
       "                   2688 "
      ]
     },
     "metadata": {},
     "output_type": "display_data"
    }
   ],
   "source": [
    "table(HGSOC_tu$sample_type)\n",
    "table(HGSOC_tu$cancer_type)\n",
    "table(HGSOC_tu$patient_id)\n",
    "table(HGSOC_tu$sample_id)\n",
    "\n",
    "table(HGSOC_As$sample_type)\n",
    "table(HGSOC_As$cancer_type)\n",
    "table(HGSOC_As$patient_id)\n",
    "table(HGSOC_As$sample_id)"
   ]
  },
  {
   "cell_type": "code",
   "execution_count": 47,
   "metadata": {
    "vscode": {
     "languageId": "r"
    }
   },
   "outputs": [],
   "source": [
    "#set site metadata\n",
    "HGSOC_tu@meta.data$site <- \"ovary\"\n",
    "HGSOC_As@meta.data$site <- \"ascites fluid\""
   ]
  },
  {
   "cell_type": "code",
   "execution_count": 48,
   "metadata": {
    "vscode": {
     "languageId": "r"
    }
   },
   "outputs": [],
   "source": [
    "#set subtype metadata\n",
    "\n",
    "#split by cancer_type\n",
    "HGSOC_tu@meta.data$cancer_subtype <- \"HGSOC\"\n",
    "HGSOC_As@meta.data$cancer_subtype <- \"HGSOC\""
   ]
  },
  {
   "cell_type": "code",
   "execution_count": 49,
   "metadata": {
    "vscode": {
     "languageId": "r"
    }
   },
   "outputs": [],
   "source": [
    "#merge objects\n",
    "HGSOC <- merge(HGSOC_tu, y = c(HGSOC_As), project = \"GSE213243\")"
   ]
  },
  {
   "cell_type": "code",
   "execution_count": 50,
   "metadata": {
    "vscode": {
     "languageId": "r"
    }
   },
   "outputs": [],
   "source": [
    "#set integration_id metadata\n",
    "HGSOC@meta.data$integration_id <- HGSOC@meta.data$sample_id"
   ]
  },
  {
   "cell_type": "code",
   "execution_count": 52,
   "metadata": {
    "vscode": {
     "languageId": "r"
    }
   },
   "outputs": [
    {
     "data": {
      "text/plain": [
       "An object of class Seurat \n",
       "58825 features across 3492 samples within 1 assay \n",
       "Active assay: RNA (58825 features, 2000 variable features)\n",
       " 6 layers present: counts.1, counts.2, data.1, scale.data.1, data.2, scale.data.2"
      ]
     },
     "metadata": {},
     "output_type": "display_data"
    },
    {
     "data": {
      "text/html": [
       "'GSE213243'"
      ],
      "text/latex": [
       "'GSE213243'"
      ],
      "text/markdown": [
       "'GSE213243'"
      ],
      "text/plain": [
       "[1] \"GSE213243\""
      ]
     },
     "metadata": {},
     "output_type": "display_data"
    },
    {
     "data": {
      "text/html": [
       "<table class=\"dataframe\">\n",
       "<caption>A data.frame: 6 × 13</caption>\n",
       "<thead>\n",
       "\t<tr><th></th><th scope=col>orig.ident</th><th scope=col>nCount_RNA</th><th scope=col>nFeature_RNA</th><th scope=col>sample_type</th><th scope=col>cancer_type</th><th scope=col>patient_id</th><th scope=col>sample_id</th><th scope=col>percent.mt</th><th scope=col>RNA_snn_res.0.5</th><th scope=col>seurat_clusters</th><th scope=col>site</th><th scope=col>cancer_subtype</th><th scope=col>integration_id</th></tr>\n",
       "\t<tr><th></th><th scope=col>&lt;chr&gt;</th><th scope=col>&lt;dbl&gt;</th><th scope=col>&lt;int&gt;</th><th scope=col>&lt;chr&gt;</th><th scope=col>&lt;chr&gt;</th><th scope=col>&lt;chr&gt;</th><th scope=col>&lt;chr&gt;</th><th scope=col>&lt;dbl&gt;</th><th scope=col>&lt;chr&gt;</th><th scope=col>&lt;chr&gt;</th><th scope=col>&lt;chr&gt;</th><th scope=col>&lt;chr&gt;</th><th scope=col>&lt;chr&gt;</th></tr>\n",
       "</thead>\n",
       "<tbody>\n",
       "\t<tr><th scope=row>GSE213243_tumour_AAAGGTACACGCAGTC-1</th><td>GSE213243</td><td> 8050</td><td>2780</td><td>tumour</td><td>HGSOC</td><td>pt-1</td><td>GSE213243_HGSOC_tumour</td><td>19.962733</td><td>3</td><td>3</td><td>ovary</td><td>HGSOC</td><td>GSE213243_HGSOC_tumour</td></tr>\n",
       "\t<tr><th scope=row>GSE213243_tumour_AAATGGACACACGCCA-1</th><td>GSE213243</td><td> 5854</td><td>2467</td><td>tumour</td><td>HGSOC</td><td>pt-1</td><td>GSE213243_HGSOC_tumour</td><td> 4.936795</td><td>3</td><td>3</td><td>ovary</td><td>HGSOC</td><td>GSE213243_HGSOC_tumour</td></tr>\n",
       "\t<tr><th scope=row>GSE213243_tumour_AACAAAGCAATTTCCT-1</th><td>GSE213243</td><td> 6073</td><td>2541</td><td>tumour</td><td>HGSOC</td><td>pt-1</td><td>GSE213243_HGSOC_tumour</td><td> 6.323069</td><td>3</td><td>3</td><td>ovary</td><td>HGSOC</td><td>GSE213243_HGSOC_tumour</td></tr>\n",
       "\t<tr><th scope=row>GSE213243_tumour_AACACACGTAGCTTTG-1</th><td>GSE213243</td><td>13497</td><td>3862</td><td>tumour</td><td>HGSOC</td><td>pt-1</td><td>GSE213243_HGSOC_tumour</td><td> 5.319701</td><td>3</td><td>3</td><td>ovary</td><td>HGSOC</td><td>GSE213243_HGSOC_tumour</td></tr>\n",
       "\t<tr><th scope=row>GSE213243_tumour_AACACACTCGCTGTTC-1</th><td>GSE213243</td><td> 8644</td><td>3306</td><td>tumour</td><td>HGSOC</td><td>pt-1</td><td>GSE213243_HGSOC_tumour</td><td>10.596946</td><td>3</td><td>3</td><td>ovary</td><td>HGSOC</td><td>GSE213243_HGSOC_tumour</td></tr>\n",
       "\t<tr><th scope=row>GSE213243_tumour_AACAGGGCAACCCTAA-1</th><td>GSE213243</td><td> 6263</td><td>2562</td><td>tumour</td><td>HGSOC</td><td>pt-1</td><td>GSE213243_HGSOC_tumour</td><td> 3.544627</td><td>3</td><td>3</td><td>ovary</td><td>HGSOC</td><td>GSE213243_HGSOC_tumour</td></tr>\n",
       "</tbody>\n",
       "</table>\n"
      ],
      "text/latex": [
       "A data.frame: 6 × 13\n",
       "\\begin{tabular}{r|lllllllllllll}\n",
       "  & orig.ident & nCount\\_RNA & nFeature\\_RNA & sample\\_type & cancer\\_type & patient\\_id & sample\\_id & percent.mt & RNA\\_snn\\_res.0.5 & seurat\\_clusters & site & cancer\\_subtype & integration\\_id\\\\\n",
       "  & <chr> & <dbl> & <int> & <chr> & <chr> & <chr> & <chr> & <dbl> & <chr> & <chr> & <chr> & <chr> & <chr>\\\\\n",
       "\\hline\n",
       "\tGSE213243\\_tumour\\_AAAGGTACACGCAGTC-1 & GSE213243 &  8050 & 2780 & tumour & HGSOC & pt-1 & GSE213243\\_HGSOC\\_tumour & 19.962733 & 3 & 3 & ovary & HGSOC & GSE213243\\_HGSOC\\_tumour\\\\\n",
       "\tGSE213243\\_tumour\\_AAATGGACACACGCCA-1 & GSE213243 &  5854 & 2467 & tumour & HGSOC & pt-1 & GSE213243\\_HGSOC\\_tumour &  4.936795 & 3 & 3 & ovary & HGSOC & GSE213243\\_HGSOC\\_tumour\\\\\n",
       "\tGSE213243\\_tumour\\_AACAAAGCAATTTCCT-1 & GSE213243 &  6073 & 2541 & tumour & HGSOC & pt-1 & GSE213243\\_HGSOC\\_tumour &  6.323069 & 3 & 3 & ovary & HGSOC & GSE213243\\_HGSOC\\_tumour\\\\\n",
       "\tGSE213243\\_tumour\\_AACACACGTAGCTTTG-1 & GSE213243 & 13497 & 3862 & tumour & HGSOC & pt-1 & GSE213243\\_HGSOC\\_tumour &  5.319701 & 3 & 3 & ovary & HGSOC & GSE213243\\_HGSOC\\_tumour\\\\\n",
       "\tGSE213243\\_tumour\\_AACACACTCGCTGTTC-1 & GSE213243 &  8644 & 3306 & tumour & HGSOC & pt-1 & GSE213243\\_HGSOC\\_tumour & 10.596946 & 3 & 3 & ovary & HGSOC & GSE213243\\_HGSOC\\_tumour\\\\\n",
       "\tGSE213243\\_tumour\\_AACAGGGCAACCCTAA-1 & GSE213243 &  6263 & 2562 & tumour & HGSOC & pt-1 & GSE213243\\_HGSOC\\_tumour &  3.544627 & 3 & 3 & ovary & HGSOC & GSE213243\\_HGSOC\\_tumour\\\\\n",
       "\\end{tabular}\n"
      ],
      "text/markdown": [
       "\n",
       "A data.frame: 6 × 13\n",
       "\n",
       "| <!--/--> | orig.ident &lt;chr&gt; | nCount_RNA &lt;dbl&gt; | nFeature_RNA &lt;int&gt; | sample_type &lt;chr&gt; | cancer_type &lt;chr&gt; | patient_id &lt;chr&gt; | sample_id &lt;chr&gt; | percent.mt &lt;dbl&gt; | RNA_snn_res.0.5 &lt;chr&gt; | seurat_clusters &lt;chr&gt; | site &lt;chr&gt; | cancer_subtype &lt;chr&gt; | integration_id &lt;chr&gt; |\n",
       "|---|---|---|---|---|---|---|---|---|---|---|---|---|---|\n",
       "| GSE213243_tumour_AAAGGTACACGCAGTC-1 | GSE213243 |  8050 | 2780 | tumour | HGSOC | pt-1 | GSE213243_HGSOC_tumour | 19.962733 | 3 | 3 | ovary | HGSOC | GSE213243_HGSOC_tumour |\n",
       "| GSE213243_tumour_AAATGGACACACGCCA-1 | GSE213243 |  5854 | 2467 | tumour | HGSOC | pt-1 | GSE213243_HGSOC_tumour |  4.936795 | 3 | 3 | ovary | HGSOC | GSE213243_HGSOC_tumour |\n",
       "| GSE213243_tumour_AACAAAGCAATTTCCT-1 | GSE213243 |  6073 | 2541 | tumour | HGSOC | pt-1 | GSE213243_HGSOC_tumour |  6.323069 | 3 | 3 | ovary | HGSOC | GSE213243_HGSOC_tumour |\n",
       "| GSE213243_tumour_AACACACGTAGCTTTG-1 | GSE213243 | 13497 | 3862 | tumour | HGSOC | pt-1 | GSE213243_HGSOC_tumour |  5.319701 | 3 | 3 | ovary | HGSOC | GSE213243_HGSOC_tumour |\n",
       "| GSE213243_tumour_AACACACTCGCTGTTC-1 | GSE213243 |  8644 | 3306 | tumour | HGSOC | pt-1 | GSE213243_HGSOC_tumour | 10.596946 | 3 | 3 | ovary | HGSOC | GSE213243_HGSOC_tumour |\n",
       "| GSE213243_tumour_AACAGGGCAACCCTAA-1 | GSE213243 |  6263 | 2562 | tumour | HGSOC | pt-1 | GSE213243_HGSOC_tumour |  3.544627 | 3 | 3 | ovary | HGSOC | GSE213243_HGSOC_tumour |\n",
       "\n"
      ],
      "text/plain": [
       "                                    orig.ident nCount_RNA nFeature_RNA\n",
       "GSE213243_tumour_AAAGGTACACGCAGTC-1 GSE213243   8050      2780        \n",
       "GSE213243_tumour_AAATGGACACACGCCA-1 GSE213243   5854      2467        \n",
       "GSE213243_tumour_AACAAAGCAATTTCCT-1 GSE213243   6073      2541        \n",
       "GSE213243_tumour_AACACACGTAGCTTTG-1 GSE213243  13497      3862        \n",
       "GSE213243_tumour_AACACACTCGCTGTTC-1 GSE213243   8644      3306        \n",
       "GSE213243_tumour_AACAGGGCAACCCTAA-1 GSE213243   6263      2562        \n",
       "                                    sample_type cancer_type patient_id\n",
       "GSE213243_tumour_AAAGGTACACGCAGTC-1 tumour      HGSOC       pt-1      \n",
       "GSE213243_tumour_AAATGGACACACGCCA-1 tumour      HGSOC       pt-1      \n",
       "GSE213243_tumour_AACAAAGCAATTTCCT-1 tumour      HGSOC       pt-1      \n",
       "GSE213243_tumour_AACACACGTAGCTTTG-1 tumour      HGSOC       pt-1      \n",
       "GSE213243_tumour_AACACACTCGCTGTTC-1 tumour      HGSOC       pt-1      \n",
       "GSE213243_tumour_AACAGGGCAACCCTAA-1 tumour      HGSOC       pt-1      \n",
       "                                    sample_id              percent.mt\n",
       "GSE213243_tumour_AAAGGTACACGCAGTC-1 GSE213243_HGSOC_tumour 19.962733 \n",
       "GSE213243_tumour_AAATGGACACACGCCA-1 GSE213243_HGSOC_tumour  4.936795 \n",
       "GSE213243_tumour_AACAAAGCAATTTCCT-1 GSE213243_HGSOC_tumour  6.323069 \n",
       "GSE213243_tumour_AACACACGTAGCTTTG-1 GSE213243_HGSOC_tumour  5.319701 \n",
       "GSE213243_tumour_AACACACTCGCTGTTC-1 GSE213243_HGSOC_tumour 10.596946 \n",
       "GSE213243_tumour_AACAGGGCAACCCTAA-1 GSE213243_HGSOC_tumour  3.544627 \n",
       "                                    RNA_snn_res.0.5 seurat_clusters site \n",
       "GSE213243_tumour_AAAGGTACACGCAGTC-1 3               3               ovary\n",
       "GSE213243_tumour_AAATGGACACACGCCA-1 3               3               ovary\n",
       "GSE213243_tumour_AACAAAGCAATTTCCT-1 3               3               ovary\n",
       "GSE213243_tumour_AACACACGTAGCTTTG-1 3               3               ovary\n",
       "GSE213243_tumour_AACACACTCGCTGTTC-1 3               3               ovary\n",
       "GSE213243_tumour_AACAGGGCAACCCTAA-1 3               3               ovary\n",
       "                                    cancer_subtype integration_id        \n",
       "GSE213243_tumour_AAAGGTACACGCAGTC-1 HGSOC          GSE213243_HGSOC_tumour\n",
       "GSE213243_tumour_AAATGGACACACGCCA-1 HGSOC          GSE213243_HGSOC_tumour\n",
       "GSE213243_tumour_AACAAAGCAATTTCCT-1 HGSOC          GSE213243_HGSOC_tumour\n",
       "GSE213243_tumour_AACACACGTAGCTTTG-1 HGSOC          GSE213243_HGSOC_tumour\n",
       "GSE213243_tumour_AACACACTCGCTGTTC-1 HGSOC          GSE213243_HGSOC_tumour\n",
       "GSE213243_tumour_AACAGGGCAACCCTAA-1 HGSOC          GSE213243_HGSOC_tumour"
      ]
     },
     "metadata": {},
     "output_type": "display_data"
    },
    {
     "data": {
      "text/html": [
       "<table class=\"dataframe\">\n",
       "<caption>A data.frame: 6 × 13</caption>\n",
       "<thead>\n",
       "\t<tr><th></th><th scope=col>orig.ident</th><th scope=col>nCount_RNA</th><th scope=col>nFeature_RNA</th><th scope=col>sample_type</th><th scope=col>cancer_type</th><th scope=col>patient_id</th><th scope=col>sample_id</th><th scope=col>percent.mt</th><th scope=col>RNA_snn_res.0.5</th><th scope=col>seurat_clusters</th><th scope=col>site</th><th scope=col>cancer_subtype</th><th scope=col>integration_id</th></tr>\n",
       "\t<tr><th></th><th scope=col>&lt;chr&gt;</th><th scope=col>&lt;dbl&gt;</th><th scope=col>&lt;int&gt;</th><th scope=col>&lt;chr&gt;</th><th scope=col>&lt;chr&gt;</th><th scope=col>&lt;chr&gt;</th><th scope=col>&lt;chr&gt;</th><th scope=col>&lt;dbl&gt;</th><th scope=col>&lt;chr&gt;</th><th scope=col>&lt;chr&gt;</th><th scope=col>&lt;chr&gt;</th><th scope=col>&lt;chr&gt;</th><th scope=col>&lt;chr&gt;</th></tr>\n",
       "</thead>\n",
       "<tbody>\n",
       "\t<tr><th scope=row>GSE213243_ascites_TTTGATCGTTAGGCCC-2</th><td>GSE213243</td><td>20342</td><td>4702</td><td>ascites</td><td>HGSOC</td><td>pt-1</td><td>GSE213243_HGSOC_ascites</td><td> 5.899125</td><td>5</td><td>5</td><td>ascites fluid</td><td>HGSOC</td><td>GSE213243_HGSOC_ascites</td></tr>\n",
       "\t<tr><th scope=row>GSE213243_ascites_TTTGATCTCTCGGCTT-2</th><td>GSE213243</td><td> 1614</td><td> 820</td><td>ascites</td><td>HGSOC</td><td>pt-1</td><td>GSE213243_HGSOC_ascites</td><td>34.262701</td><td>1</td><td>1</td><td>ascites fluid</td><td>HGSOC</td><td>GSE213243_HGSOC_ascites</td></tr>\n",
       "\t<tr><th scope=row>GSE213243_ascites_TTTGGAGCACGTCTCT-2</th><td>GSE213243</td><td>10549</td><td>3639</td><td>ascites</td><td>HGSOC</td><td>pt-1</td><td>GSE213243_HGSOC_ascites</td><td>11.119537</td><td>6</td><td>6</td><td>ascites fluid</td><td>HGSOC</td><td>GSE213243_HGSOC_ascites</td></tr>\n",
       "\t<tr><th scope=row>GSE213243_ascites_TTTGGAGGTCCTGGGT-2</th><td>GSE213243</td><td> 4613</td><td>2061</td><td>ascites</td><td>HGSOC</td><td>pt-1</td><td>GSE213243_HGSOC_ascites</td><td>12.421418</td><td>1</td><td>1</td><td>ascites fluid</td><td>HGSOC</td><td>GSE213243_HGSOC_ascites</td></tr>\n",
       "\t<tr><th scope=row>GSE213243_ascites_TTTGGTTCATCCTATT-2</th><td>GSE213243</td><td> 6073</td><td>2678</td><td>ascites</td><td>HGSOC</td><td>pt-1</td><td>GSE213243_HGSOC_ascites</td><td>11.954553</td><td>1</td><td>1</td><td>ascites fluid</td><td>HGSOC</td><td>GSE213243_HGSOC_ascites</td></tr>\n",
       "\t<tr><th scope=row>GSE213243_ascites_TTTGTTGCATGATGCT-2</th><td>GSE213243</td><td>14293</td><td>4430</td><td>ascites</td><td>HGSOC</td><td>pt-1</td><td>GSE213243_HGSOC_ascites</td><td> 5.044427</td><td>6</td><td>6</td><td>ascites fluid</td><td>HGSOC</td><td>GSE213243_HGSOC_ascites</td></tr>\n",
       "</tbody>\n",
       "</table>\n"
      ],
      "text/latex": [
       "A data.frame: 6 × 13\n",
       "\\begin{tabular}{r|lllllllllllll}\n",
       "  & orig.ident & nCount\\_RNA & nFeature\\_RNA & sample\\_type & cancer\\_type & patient\\_id & sample\\_id & percent.mt & RNA\\_snn\\_res.0.5 & seurat\\_clusters & site & cancer\\_subtype & integration\\_id\\\\\n",
       "  & <chr> & <dbl> & <int> & <chr> & <chr> & <chr> & <chr> & <dbl> & <chr> & <chr> & <chr> & <chr> & <chr>\\\\\n",
       "\\hline\n",
       "\tGSE213243\\_ascites\\_TTTGATCGTTAGGCCC-2 & GSE213243 & 20342 & 4702 & ascites & HGSOC & pt-1 & GSE213243\\_HGSOC\\_ascites &  5.899125 & 5 & 5 & ascites fluid & HGSOC & GSE213243\\_HGSOC\\_ascites\\\\\n",
       "\tGSE213243\\_ascites\\_TTTGATCTCTCGGCTT-2 & GSE213243 &  1614 &  820 & ascites & HGSOC & pt-1 & GSE213243\\_HGSOC\\_ascites & 34.262701 & 1 & 1 & ascites fluid & HGSOC & GSE213243\\_HGSOC\\_ascites\\\\\n",
       "\tGSE213243\\_ascites\\_TTTGGAGCACGTCTCT-2 & GSE213243 & 10549 & 3639 & ascites & HGSOC & pt-1 & GSE213243\\_HGSOC\\_ascites & 11.119537 & 6 & 6 & ascites fluid & HGSOC & GSE213243\\_HGSOC\\_ascites\\\\\n",
       "\tGSE213243\\_ascites\\_TTTGGAGGTCCTGGGT-2 & GSE213243 &  4613 & 2061 & ascites & HGSOC & pt-1 & GSE213243\\_HGSOC\\_ascites & 12.421418 & 1 & 1 & ascites fluid & HGSOC & GSE213243\\_HGSOC\\_ascites\\\\\n",
       "\tGSE213243\\_ascites\\_TTTGGTTCATCCTATT-2 & GSE213243 &  6073 & 2678 & ascites & HGSOC & pt-1 & GSE213243\\_HGSOC\\_ascites & 11.954553 & 1 & 1 & ascites fluid & HGSOC & GSE213243\\_HGSOC\\_ascites\\\\\n",
       "\tGSE213243\\_ascites\\_TTTGTTGCATGATGCT-2 & GSE213243 & 14293 & 4430 & ascites & HGSOC & pt-1 & GSE213243\\_HGSOC\\_ascites &  5.044427 & 6 & 6 & ascites fluid & HGSOC & GSE213243\\_HGSOC\\_ascites\\\\\n",
       "\\end{tabular}\n"
      ],
      "text/markdown": [
       "\n",
       "A data.frame: 6 × 13\n",
       "\n",
       "| <!--/--> | orig.ident &lt;chr&gt; | nCount_RNA &lt;dbl&gt; | nFeature_RNA &lt;int&gt; | sample_type &lt;chr&gt; | cancer_type &lt;chr&gt; | patient_id &lt;chr&gt; | sample_id &lt;chr&gt; | percent.mt &lt;dbl&gt; | RNA_snn_res.0.5 &lt;chr&gt; | seurat_clusters &lt;chr&gt; | site &lt;chr&gt; | cancer_subtype &lt;chr&gt; | integration_id &lt;chr&gt; |\n",
       "|---|---|---|---|---|---|---|---|---|---|---|---|---|---|\n",
       "| GSE213243_ascites_TTTGATCGTTAGGCCC-2 | GSE213243 | 20342 | 4702 | ascites | HGSOC | pt-1 | GSE213243_HGSOC_ascites |  5.899125 | 5 | 5 | ascites fluid | HGSOC | GSE213243_HGSOC_ascites |\n",
       "| GSE213243_ascites_TTTGATCTCTCGGCTT-2 | GSE213243 |  1614 |  820 | ascites | HGSOC | pt-1 | GSE213243_HGSOC_ascites | 34.262701 | 1 | 1 | ascites fluid | HGSOC | GSE213243_HGSOC_ascites |\n",
       "| GSE213243_ascites_TTTGGAGCACGTCTCT-2 | GSE213243 | 10549 | 3639 | ascites | HGSOC | pt-1 | GSE213243_HGSOC_ascites | 11.119537 | 6 | 6 | ascites fluid | HGSOC | GSE213243_HGSOC_ascites |\n",
       "| GSE213243_ascites_TTTGGAGGTCCTGGGT-2 | GSE213243 |  4613 | 2061 | ascites | HGSOC | pt-1 | GSE213243_HGSOC_ascites | 12.421418 | 1 | 1 | ascites fluid | HGSOC | GSE213243_HGSOC_ascites |\n",
       "| GSE213243_ascites_TTTGGTTCATCCTATT-2 | GSE213243 |  6073 | 2678 | ascites | HGSOC | pt-1 | GSE213243_HGSOC_ascites | 11.954553 | 1 | 1 | ascites fluid | HGSOC | GSE213243_HGSOC_ascites |\n",
       "| GSE213243_ascites_TTTGTTGCATGATGCT-2 | GSE213243 | 14293 | 4430 | ascites | HGSOC | pt-1 | GSE213243_HGSOC_ascites |  5.044427 | 6 | 6 | ascites fluid | HGSOC | GSE213243_HGSOC_ascites |\n",
       "\n"
      ],
      "text/plain": [
       "                                     orig.ident nCount_RNA nFeature_RNA\n",
       "GSE213243_ascites_TTTGATCGTTAGGCCC-2 GSE213243  20342      4702        \n",
       "GSE213243_ascites_TTTGATCTCTCGGCTT-2 GSE213243   1614       820        \n",
       "GSE213243_ascites_TTTGGAGCACGTCTCT-2 GSE213243  10549      3639        \n",
       "GSE213243_ascites_TTTGGAGGTCCTGGGT-2 GSE213243   4613      2061        \n",
       "GSE213243_ascites_TTTGGTTCATCCTATT-2 GSE213243   6073      2678        \n",
       "GSE213243_ascites_TTTGTTGCATGATGCT-2 GSE213243  14293      4430        \n",
       "                                     sample_type cancer_type patient_id\n",
       "GSE213243_ascites_TTTGATCGTTAGGCCC-2 ascites     HGSOC       pt-1      \n",
       "GSE213243_ascites_TTTGATCTCTCGGCTT-2 ascites     HGSOC       pt-1      \n",
       "GSE213243_ascites_TTTGGAGCACGTCTCT-2 ascites     HGSOC       pt-1      \n",
       "GSE213243_ascites_TTTGGAGGTCCTGGGT-2 ascites     HGSOC       pt-1      \n",
       "GSE213243_ascites_TTTGGTTCATCCTATT-2 ascites     HGSOC       pt-1      \n",
       "GSE213243_ascites_TTTGTTGCATGATGCT-2 ascites     HGSOC       pt-1      \n",
       "                                     sample_id               percent.mt\n",
       "GSE213243_ascites_TTTGATCGTTAGGCCC-2 GSE213243_HGSOC_ascites  5.899125 \n",
       "GSE213243_ascites_TTTGATCTCTCGGCTT-2 GSE213243_HGSOC_ascites 34.262701 \n",
       "GSE213243_ascites_TTTGGAGCACGTCTCT-2 GSE213243_HGSOC_ascites 11.119537 \n",
       "GSE213243_ascites_TTTGGAGGTCCTGGGT-2 GSE213243_HGSOC_ascites 12.421418 \n",
       "GSE213243_ascites_TTTGGTTCATCCTATT-2 GSE213243_HGSOC_ascites 11.954553 \n",
       "GSE213243_ascites_TTTGTTGCATGATGCT-2 GSE213243_HGSOC_ascites  5.044427 \n",
       "                                     RNA_snn_res.0.5 seurat_clusters\n",
       "GSE213243_ascites_TTTGATCGTTAGGCCC-2 5               5              \n",
       "GSE213243_ascites_TTTGATCTCTCGGCTT-2 1               1              \n",
       "GSE213243_ascites_TTTGGAGCACGTCTCT-2 6               6              \n",
       "GSE213243_ascites_TTTGGAGGTCCTGGGT-2 1               1              \n",
       "GSE213243_ascites_TTTGGTTCATCCTATT-2 1               1              \n",
       "GSE213243_ascites_TTTGTTGCATGATGCT-2 6               6              \n",
       "                                     site          cancer_subtype\n",
       "GSE213243_ascites_TTTGATCGTTAGGCCC-2 ascites fluid HGSOC         \n",
       "GSE213243_ascites_TTTGATCTCTCGGCTT-2 ascites fluid HGSOC         \n",
       "GSE213243_ascites_TTTGGAGCACGTCTCT-2 ascites fluid HGSOC         \n",
       "GSE213243_ascites_TTTGGAGGTCCTGGGT-2 ascites fluid HGSOC         \n",
       "GSE213243_ascites_TTTGGTTCATCCTATT-2 ascites fluid HGSOC         \n",
       "GSE213243_ascites_TTTGTTGCATGATGCT-2 ascites fluid HGSOC         \n",
       "                                     integration_id         \n",
       "GSE213243_ascites_TTTGATCGTTAGGCCC-2 GSE213243_HGSOC_ascites\n",
       "GSE213243_ascites_TTTGATCTCTCGGCTT-2 GSE213243_HGSOC_ascites\n",
       "GSE213243_ascites_TTTGGAGCACGTCTCT-2 GSE213243_HGSOC_ascites\n",
       "GSE213243_ascites_TTTGGAGGTCCTGGGT-2 GSE213243_HGSOC_ascites\n",
       "GSE213243_ascites_TTTGGTTCATCCTATT-2 GSE213243_HGSOC_ascites\n",
       "GSE213243_ascites_TTTGTTGCATGATGCT-2 GSE213243_HGSOC_ascites"
      ]
     },
     "metadata": {},
     "output_type": "display_data"
    }
   ],
   "source": [
    "HGSOC\n",
    "HGSOC@project.name\n",
    "head(HGSOC@meta.data)\n",
    "tail(HGSOC@meta.data)"
   ]
  },
  {
   "cell_type": "code",
   "execution_count": 54,
   "metadata": {
    "vscode": {
     "languageId": "r"
    }
   },
   "outputs": [
    {
     "data": {
      "text/plain": [
       "\n",
       "GSE213243_HGSOC_ascites  GSE213243_HGSOC_tumour \n",
       "                   2688                     804 "
      ]
     },
     "metadata": {},
     "output_type": "display_data"
    }
   ],
   "source": [
    "#exclude any samples with <100 cells\n",
    "table(HGSOC$integration_id)\n",
    "#none to exclude"
   ]
  },
  {
   "cell_type": "code",
   "execution_count": 55,
   "metadata": {
    "vscode": {
     "languageId": "r"
    }
   },
   "outputs": [
    {
     "data": {
      "text/html": [
       "<style>\n",
       ".list-inline {list-style: none; margin:0; padding: 0}\n",
       ".list-inline>li {display: inline-block}\n",
       ".list-inline>li:not(:last-child)::after {content: \"\\00b7\"; padding: 0 .5ex}\n",
       "</style>\n",
       "<ol class=list-inline><li>'counts.1'</li><li>'counts.2'</li><li>'data.1'</li><li>'scale.data.1'</li><li>'data.2'</li><li>'scale.data.2'</li></ol>\n"
      ],
      "text/latex": [
       "\\begin{enumerate*}\n",
       "\\item 'counts.1'\n",
       "\\item 'counts.2'\n",
       "\\item 'data.1'\n",
       "\\item 'scale.data.1'\n",
       "\\item 'data.2'\n",
       "\\item 'scale.data.2'\n",
       "\\end{enumerate*}\n"
      ],
      "text/markdown": [
       "1. 'counts.1'\n",
       "2. 'counts.2'\n",
       "3. 'data.1'\n",
       "4. 'scale.data.1'\n",
       "5. 'data.2'\n",
       "6. 'scale.data.2'\n",
       "\n",
       "\n"
      ],
      "text/plain": [
       "[1] \"counts.1\"     \"counts.2\"     \"data.1\"       \"scale.data.1\" \"data.2\"      \n",
       "[6] \"scale.data.2\""
      ]
     },
     "metadata": {},
     "output_type": "display_data"
    },
    {
     "data": {
      "text/html": [
       "<style>\n",
       ".list-inline {list-style: none; margin:0; padding: 0}\n",
       ".list-inline>li {display: inline-block}\n",
       ".list-inline>li:not(:last-child)::after {content: \"\\00b7\"; padding: 0 .5ex}\n",
       "</style>\n",
       "<ol class=list-inline><li>'scale.data'</li><li>'data'</li><li>'counts'</li></ol>\n"
      ],
      "text/latex": [
       "\\begin{enumerate*}\n",
       "\\item 'scale.data'\n",
       "\\item 'data'\n",
       "\\item 'counts'\n",
       "\\end{enumerate*}\n"
      ],
      "text/markdown": [
       "1. 'scale.data'\n",
       "2. 'data'\n",
       "3. 'counts'\n",
       "\n",
       "\n"
      ],
      "text/plain": [
       "[1] \"scale.data\" \"data\"       \"counts\"    "
      ]
     },
     "metadata": {},
     "output_type": "display_data"
    },
    {
     "name": "stderr",
     "output_type": "stream",
     "text": [
      "Splitting ‘counts’, ‘data’ layers. Not splitting ‘scale.data’. If you would like to split other layers, set in `layers` argument.\n",
      "\n"
     ]
    },
    {
     "data": {
      "text/html": [
       "<style>\n",
       ".list-inline {list-style: none; margin:0; padding: 0}\n",
       ".list-inline>li {display: inline-block}\n",
       ".list-inline>li:not(:last-child)::after {content: \"\\00b7\"; padding: 0 .5ex}\n",
       "</style>\n",
       "<ol class=list-inline><li>'counts.GSE213243_HGSOC_tumour'</li><li>'counts.GSE213243_HGSOC_ascites'</li><li>'scale.data'</li><li>'data.GSE213243_HGSOC_tumour'</li><li>'data.GSE213243_HGSOC_ascites'</li></ol>\n"
      ],
      "text/latex": [
       "\\begin{enumerate*}\n",
       "\\item 'counts.GSE213243\\_HGSOC\\_tumour'\n",
       "\\item 'counts.GSE213243\\_HGSOC\\_ascites'\n",
       "\\item 'scale.data'\n",
       "\\item 'data.GSE213243\\_HGSOC\\_tumour'\n",
       "\\item 'data.GSE213243\\_HGSOC\\_ascites'\n",
       "\\end{enumerate*}\n"
      ],
      "text/markdown": [
       "1. 'counts.GSE213243_HGSOC_tumour'\n",
       "2. 'counts.GSE213243_HGSOC_ascites'\n",
       "3. 'scale.data'\n",
       "4. 'data.GSE213243_HGSOC_tumour'\n",
       "5. 'data.GSE213243_HGSOC_ascites'\n",
       "\n",
       "\n"
      ],
      "text/plain": [
       "[1] \"counts.GSE213243_HGSOC_tumour\"  \"counts.GSE213243_HGSOC_ascites\"\n",
       "[3] \"scale.data\"                     \"data.GSE213243_HGSOC_tumour\"   \n",
       "[5] \"data.GSE213243_HGSOC_ascites\"  "
      ]
     },
     "metadata": {},
     "output_type": "display_data"
    }
   ],
   "source": [
    "#join layers and then split them by integration_id\n",
    "Layers(HGSOC[[\"RNA\"]])\n",
    "#join layers\n",
    "HGSOC[[\"RNA\"]] <- JoinLayers(HGSOC[[\"RNA\"]])\n",
    "Layers(HGSOC[[\"RNA\"]])\n",
    "#split layers\n",
    "HGSOC[[\"RNA\"]] <- split(HGSOC[[\"RNA\"]], f = HGSOC$integration_id)\n",
    "Layers(HGSOC[[\"RNA\"]])\n"
   ]
  },
  {
   "cell_type": "code",
   "execution_count": 56,
   "metadata": {
    "vscode": {
     "languageId": "r"
    }
   },
   "outputs": [
    {
     "data": {
      "text/plain": [
       "\n",
       "GSE213243_HGSOC_ascites  GSE213243_HGSOC_tumour \n",
       "                   2688                     804 "
      ]
     },
     "metadata": {},
     "output_type": "display_data"
    }
   ],
   "source": [
    "#record number of cells\n",
    "table(HGSOC$integration_id)"
   ]
  },
  {
   "cell_type": "code",
   "execution_count": 57,
   "metadata": {
    "vscode": {
     "languageId": "r"
    }
   },
   "outputs": [],
   "source": [
    "#re-export seurat object ready for integration\n",
    "saveRDS(HGSOC, \"/scratch/user/s4436039/scdata/Myeloid_Cells/Myeloid_Cells_Integrate/GSE213243_myeloid_int.RDS\")"
   ]
  },
  {
   "cell_type": "code",
   "execution_count": 58,
   "metadata": {
    "vscode": {
     "languageId": "r"
    }
   },
   "outputs": [],
   "source": [
    "#remove all objects in R\n",
    "rm(list = ls())"
   ]
  },
  {
   "cell_type": "code",
   "execution_count": null,
   "metadata": {
    "vscode": {
     "languageId": "r"
    }
   },
   "outputs": [],
   "source": [
    "HGSOC_tu <- readRDS(\"/scratch/user/s4436039/scdata/Myeloid_Cells/GSE213243_Tumour_myeloid.RDS\")\n",
    "HGSOC_As <- readRDS(\"/scratch/user/s4436039/scdata/Myeloid_Cells/GSE213243_Ascites_myeloid.RDS\")"
   ]
  },
  {
   "cell_type": "code",
   "execution_count": null,
   "metadata": {
    "vscode": {
     "languageId": "r"
    }
   },
   "outputs": [
    {
     "data": {
      "text/plain": [
       "An object of class Seurat \n",
       "58825 features across 804 samples within 1 assay \n",
       "Active assay: RNA (58825 features, 2000 variable features)\n",
       " 3 layers present: counts, data, scale.data\n",
       " 2 dimensional reductions calculated: pca, umap"
      ]
     },
     "metadata": {},
     "output_type": "display_data"
    },
    {
     "data": {
      "text/html": [
       "'GSE213243'"
      ],
      "text/latex": [
       "'GSE213243'"
      ],
      "text/markdown": [
       "'GSE213243'"
      ],
      "text/plain": [
       "[1] \"GSE213243\""
      ]
     },
     "metadata": {},
     "output_type": "display_data"
    },
    {
     "data": {
      "text/html": [
       "<table class=\"dataframe\">\n",
       "<caption>A data.frame: 6 × 10</caption>\n",
       "<thead>\n",
       "\t<tr><th></th><th scope=col>orig.ident</th><th scope=col>nCount_RNA</th><th scope=col>nFeature_RNA</th><th scope=col>sample_type</th><th scope=col>cancer_type</th><th scope=col>patient_id</th><th scope=col>sample_id</th><th scope=col>percent.mt</th><th scope=col>RNA_snn_res.0.5</th><th scope=col>seurat_clusters</th></tr>\n",
       "\t<tr><th></th><th scope=col>&lt;fct&gt;</th><th scope=col>&lt;dbl&gt;</th><th scope=col>&lt;int&gt;</th><th scope=col>&lt;chr&gt;</th><th scope=col>&lt;chr&gt;</th><th scope=col>&lt;chr&gt;</th><th scope=col>&lt;chr&gt;</th><th scope=col>&lt;dbl&gt;</th><th scope=col>&lt;fct&gt;</th><th scope=col>&lt;fct&gt;</th></tr>\n",
       "</thead>\n",
       "<tbody>\n",
       "\t<tr><th scope=row>GSE213243_tumour_AAAGGTACACGCAGTC-1</th><td>GSE213243</td><td> 8050</td><td>2780</td><td>tumour</td><td>HGSOC</td><td>pt-1</td><td>GSE213243_HGSOC_tumour</td><td>19.962733</td><td>3</td><td>3</td></tr>\n",
       "\t<tr><th scope=row>GSE213243_tumour_AAATGGACACACGCCA-1</th><td>GSE213243</td><td> 5854</td><td>2467</td><td>tumour</td><td>HGSOC</td><td>pt-1</td><td>GSE213243_HGSOC_tumour</td><td> 4.936795</td><td>3</td><td>3</td></tr>\n",
       "\t<tr><th scope=row>GSE213243_tumour_AACAAAGCAATTTCCT-1</th><td>GSE213243</td><td> 6073</td><td>2541</td><td>tumour</td><td>HGSOC</td><td>pt-1</td><td>GSE213243_HGSOC_tumour</td><td> 6.323069</td><td>3</td><td>3</td></tr>\n",
       "\t<tr><th scope=row>GSE213243_tumour_AACACACGTAGCTTTG-1</th><td>GSE213243</td><td>13497</td><td>3862</td><td>tumour</td><td>HGSOC</td><td>pt-1</td><td>GSE213243_HGSOC_tumour</td><td> 5.319701</td><td>3</td><td>3</td></tr>\n",
       "\t<tr><th scope=row>GSE213243_tumour_AACACACTCGCTGTTC-1</th><td>GSE213243</td><td> 8644</td><td>3306</td><td>tumour</td><td>HGSOC</td><td>pt-1</td><td>GSE213243_HGSOC_tumour</td><td>10.596946</td><td>3</td><td>3</td></tr>\n",
       "\t<tr><th scope=row>GSE213243_tumour_AACAGGGCAACCCTAA-1</th><td>GSE213243</td><td> 6263</td><td>2562</td><td>tumour</td><td>HGSOC</td><td>pt-1</td><td>GSE213243_HGSOC_tumour</td><td> 3.544627</td><td>3</td><td>3</td></tr>\n",
       "</tbody>\n",
       "</table>\n"
      ],
      "text/latex": [
       "A data.frame: 6 × 10\n",
       "\\begin{tabular}{r|llllllllll}\n",
       "  & orig.ident & nCount\\_RNA & nFeature\\_RNA & sample\\_type & cancer\\_type & patient\\_id & sample\\_id & percent.mt & RNA\\_snn\\_res.0.5 & seurat\\_clusters\\\\\n",
       "  & <fct> & <dbl> & <int> & <chr> & <chr> & <chr> & <chr> & <dbl> & <fct> & <fct>\\\\\n",
       "\\hline\n",
       "\tGSE213243\\_tumour\\_AAAGGTACACGCAGTC-1 & GSE213243 &  8050 & 2780 & tumour & HGSOC & pt-1 & GSE213243\\_HGSOC\\_tumour & 19.962733 & 3 & 3\\\\\n",
       "\tGSE213243\\_tumour\\_AAATGGACACACGCCA-1 & GSE213243 &  5854 & 2467 & tumour & HGSOC & pt-1 & GSE213243\\_HGSOC\\_tumour &  4.936795 & 3 & 3\\\\\n",
       "\tGSE213243\\_tumour\\_AACAAAGCAATTTCCT-1 & GSE213243 &  6073 & 2541 & tumour & HGSOC & pt-1 & GSE213243\\_HGSOC\\_tumour &  6.323069 & 3 & 3\\\\\n",
       "\tGSE213243\\_tumour\\_AACACACGTAGCTTTG-1 & GSE213243 & 13497 & 3862 & tumour & HGSOC & pt-1 & GSE213243\\_HGSOC\\_tumour &  5.319701 & 3 & 3\\\\\n",
       "\tGSE213243\\_tumour\\_AACACACTCGCTGTTC-1 & GSE213243 &  8644 & 3306 & tumour & HGSOC & pt-1 & GSE213243\\_HGSOC\\_tumour & 10.596946 & 3 & 3\\\\\n",
       "\tGSE213243\\_tumour\\_AACAGGGCAACCCTAA-1 & GSE213243 &  6263 & 2562 & tumour & HGSOC & pt-1 & GSE213243\\_HGSOC\\_tumour &  3.544627 & 3 & 3\\\\\n",
       "\\end{tabular}\n"
      ],
      "text/markdown": [
       "\n",
       "A data.frame: 6 × 10\n",
       "\n",
       "| <!--/--> | orig.ident &lt;fct&gt; | nCount_RNA &lt;dbl&gt; | nFeature_RNA &lt;int&gt; | sample_type &lt;chr&gt; | cancer_type &lt;chr&gt; | patient_id &lt;chr&gt; | sample_id &lt;chr&gt; | percent.mt &lt;dbl&gt; | RNA_snn_res.0.5 &lt;fct&gt; | seurat_clusters &lt;fct&gt; |\n",
       "|---|---|---|---|---|---|---|---|---|---|---|\n",
       "| GSE213243_tumour_AAAGGTACACGCAGTC-1 | GSE213243 |  8050 | 2780 | tumour | HGSOC | pt-1 | GSE213243_HGSOC_tumour | 19.962733 | 3 | 3 |\n",
       "| GSE213243_tumour_AAATGGACACACGCCA-1 | GSE213243 |  5854 | 2467 | tumour | HGSOC | pt-1 | GSE213243_HGSOC_tumour |  4.936795 | 3 | 3 |\n",
       "| GSE213243_tumour_AACAAAGCAATTTCCT-1 | GSE213243 |  6073 | 2541 | tumour | HGSOC | pt-1 | GSE213243_HGSOC_tumour |  6.323069 | 3 | 3 |\n",
       "| GSE213243_tumour_AACACACGTAGCTTTG-1 | GSE213243 | 13497 | 3862 | tumour | HGSOC | pt-1 | GSE213243_HGSOC_tumour |  5.319701 | 3 | 3 |\n",
       "| GSE213243_tumour_AACACACTCGCTGTTC-1 | GSE213243 |  8644 | 3306 | tumour | HGSOC | pt-1 | GSE213243_HGSOC_tumour | 10.596946 | 3 | 3 |\n",
       "| GSE213243_tumour_AACAGGGCAACCCTAA-1 | GSE213243 |  6263 | 2562 | tumour | HGSOC | pt-1 | GSE213243_HGSOC_tumour |  3.544627 | 3 | 3 |\n",
       "\n"
      ],
      "text/plain": [
       "                                    orig.ident nCount_RNA nFeature_RNA\n",
       "GSE213243_tumour_AAAGGTACACGCAGTC-1 GSE213243   8050      2780        \n",
       "GSE213243_tumour_AAATGGACACACGCCA-1 GSE213243   5854      2467        \n",
       "GSE213243_tumour_AACAAAGCAATTTCCT-1 GSE213243   6073      2541        \n",
       "GSE213243_tumour_AACACACGTAGCTTTG-1 GSE213243  13497      3862        \n",
       "GSE213243_tumour_AACACACTCGCTGTTC-1 GSE213243   8644      3306        \n",
       "GSE213243_tumour_AACAGGGCAACCCTAA-1 GSE213243   6263      2562        \n",
       "                                    sample_type cancer_type patient_id\n",
       "GSE213243_tumour_AAAGGTACACGCAGTC-1 tumour      HGSOC       pt-1      \n",
       "GSE213243_tumour_AAATGGACACACGCCA-1 tumour      HGSOC       pt-1      \n",
       "GSE213243_tumour_AACAAAGCAATTTCCT-1 tumour      HGSOC       pt-1      \n",
       "GSE213243_tumour_AACACACGTAGCTTTG-1 tumour      HGSOC       pt-1      \n",
       "GSE213243_tumour_AACACACTCGCTGTTC-1 tumour      HGSOC       pt-1      \n",
       "GSE213243_tumour_AACAGGGCAACCCTAA-1 tumour      HGSOC       pt-1      \n",
       "                                    sample_id              percent.mt\n",
       "GSE213243_tumour_AAAGGTACACGCAGTC-1 GSE213243_HGSOC_tumour 19.962733 \n",
       "GSE213243_tumour_AAATGGACACACGCCA-1 GSE213243_HGSOC_tumour  4.936795 \n",
       "GSE213243_tumour_AACAAAGCAATTTCCT-1 GSE213243_HGSOC_tumour  6.323069 \n",
       "GSE213243_tumour_AACACACGTAGCTTTG-1 GSE213243_HGSOC_tumour  5.319701 \n",
       "GSE213243_tumour_AACACACTCGCTGTTC-1 GSE213243_HGSOC_tumour 10.596946 \n",
       "GSE213243_tumour_AACAGGGCAACCCTAA-1 GSE213243_HGSOC_tumour  3.544627 \n",
       "                                    RNA_snn_res.0.5 seurat_clusters\n",
       "GSE213243_tumour_AAAGGTACACGCAGTC-1 3               3              \n",
       "GSE213243_tumour_AAATGGACACACGCCA-1 3               3              \n",
       "GSE213243_tumour_AACAAAGCAATTTCCT-1 3               3              \n",
       "GSE213243_tumour_AACACACGTAGCTTTG-1 3               3              \n",
       "GSE213243_tumour_AACACACTCGCTGTTC-1 3               3              \n",
       "GSE213243_tumour_AACAGGGCAACCCTAA-1 3               3              "
      ]
     },
     "metadata": {},
     "output_type": "display_data"
    },
    {
     "data": {
      "text/plain": [
       "An object of class Seurat \n",
       "58825 features across 2688 samples within 1 assay \n",
       "Active assay: RNA (58825 features, 2000 variable features)\n",
       " 3 layers present: counts, data, scale.data\n",
       " 2 dimensional reductions calculated: pca, umap"
      ]
     },
     "metadata": {},
     "output_type": "display_data"
    },
    {
     "data": {
      "text/html": [
       "'GSE213243'"
      ],
      "text/latex": [
       "'GSE213243'"
      ],
      "text/markdown": [
       "'GSE213243'"
      ],
      "text/plain": [
       "[1] \"GSE213243\""
      ]
     },
     "metadata": {},
     "output_type": "display_data"
    },
    {
     "data": {
      "text/html": [
       "<table class=\"dataframe\">\n",
       "<caption>A data.frame: 6 × 10</caption>\n",
       "<thead>\n",
       "\t<tr><th></th><th scope=col>orig.ident</th><th scope=col>nCount_RNA</th><th scope=col>nFeature_RNA</th><th scope=col>sample_type</th><th scope=col>cancer_type</th><th scope=col>patient_id</th><th scope=col>sample_id</th><th scope=col>percent.mt</th><th scope=col>RNA_snn_res.0.5</th><th scope=col>seurat_clusters</th></tr>\n",
       "\t<tr><th></th><th scope=col>&lt;fct&gt;</th><th scope=col>&lt;dbl&gt;</th><th scope=col>&lt;int&gt;</th><th scope=col>&lt;chr&gt;</th><th scope=col>&lt;chr&gt;</th><th scope=col>&lt;chr&gt;</th><th scope=col>&lt;chr&gt;</th><th scope=col>&lt;dbl&gt;</th><th scope=col>&lt;fct&gt;</th><th scope=col>&lt;fct&gt;</th></tr>\n",
       "</thead>\n",
       "<tbody>\n",
       "\t<tr><th scope=row>GSE213243_ascites_AAACCCAAGTAGCAAT-2</th><td>GSE213243</td><td>16943</td><td>4684</td><td>ascites</td><td>HGSOC</td><td>pt-1</td><td>GSE213243_HGSOC_ascites</td><td> 7.572449</td><td>5</td><td>5</td></tr>\n",
       "\t<tr><th scope=row>GSE213243_ascites_AAACCCACAGTCGTTA-2</th><td>GSE213243</td><td>14219</td><td>3822</td><td>ascites</td><td>HGSOC</td><td>pt-1</td><td>GSE213243_HGSOC_ascites</td><td> 5.021450</td><td>1</td><td>1</td></tr>\n",
       "\t<tr><th scope=row>GSE213243_ascites_AAACCCATCCGTAGTA-2</th><td>GSE213243</td><td>15634</td><td>4224</td><td>ascites</td><td>HGSOC</td><td>pt-1</td><td>GSE213243_HGSOC_ascites</td><td> 6.556224</td><td>5</td><td>5</td></tr>\n",
       "\t<tr><th scope=row>GSE213243_ascites_AAACGAAAGTGCTCGC-2</th><td>GSE213243</td><td> 3007</td><td>1377</td><td>ascites</td><td>HGSOC</td><td>pt-1</td><td>GSE213243_HGSOC_ascites</td><td>28.766212</td><td>6</td><td>6</td></tr>\n",
       "\t<tr><th scope=row>GSE213243_ascites_AAACGAAGTATGGTAA-2</th><td>GSE213243</td><td>13828</td><td>4227</td><td>ascites</td><td>HGSOC</td><td>pt-1</td><td>GSE213243_HGSOC_ascites</td><td> 4.122071</td><td>5</td><td>5</td></tr>\n",
       "\t<tr><th scope=row>GSE213243_ascites_AAACGCTAGTATCTGC-2</th><td>GSE213243</td><td>12945</td><td>3944</td><td>ascites</td><td>HGSOC</td><td>pt-1</td><td>GSE213243_HGSOC_ascites</td><td> 8.937814</td><td>6</td><td>6</td></tr>\n",
       "</tbody>\n",
       "</table>\n"
      ],
      "text/latex": [
       "A data.frame: 6 × 10\n",
       "\\begin{tabular}{r|llllllllll}\n",
       "  & orig.ident & nCount\\_RNA & nFeature\\_RNA & sample\\_type & cancer\\_type & patient\\_id & sample\\_id & percent.mt & RNA\\_snn\\_res.0.5 & seurat\\_clusters\\\\\n",
       "  & <fct> & <dbl> & <int> & <chr> & <chr> & <chr> & <chr> & <dbl> & <fct> & <fct>\\\\\n",
       "\\hline\n",
       "\tGSE213243\\_ascites\\_AAACCCAAGTAGCAAT-2 & GSE213243 & 16943 & 4684 & ascites & HGSOC & pt-1 & GSE213243\\_HGSOC\\_ascites &  7.572449 & 5 & 5\\\\\n",
       "\tGSE213243\\_ascites\\_AAACCCACAGTCGTTA-2 & GSE213243 & 14219 & 3822 & ascites & HGSOC & pt-1 & GSE213243\\_HGSOC\\_ascites &  5.021450 & 1 & 1\\\\\n",
       "\tGSE213243\\_ascites\\_AAACCCATCCGTAGTA-2 & GSE213243 & 15634 & 4224 & ascites & HGSOC & pt-1 & GSE213243\\_HGSOC\\_ascites &  6.556224 & 5 & 5\\\\\n",
       "\tGSE213243\\_ascites\\_AAACGAAAGTGCTCGC-2 & GSE213243 &  3007 & 1377 & ascites & HGSOC & pt-1 & GSE213243\\_HGSOC\\_ascites & 28.766212 & 6 & 6\\\\\n",
       "\tGSE213243\\_ascites\\_AAACGAAGTATGGTAA-2 & GSE213243 & 13828 & 4227 & ascites & HGSOC & pt-1 & GSE213243\\_HGSOC\\_ascites &  4.122071 & 5 & 5\\\\\n",
       "\tGSE213243\\_ascites\\_AAACGCTAGTATCTGC-2 & GSE213243 & 12945 & 3944 & ascites & HGSOC & pt-1 & GSE213243\\_HGSOC\\_ascites &  8.937814 & 6 & 6\\\\\n",
       "\\end{tabular}\n"
      ],
      "text/markdown": [
       "\n",
       "A data.frame: 6 × 10\n",
       "\n",
       "| <!--/--> | orig.ident &lt;fct&gt; | nCount_RNA &lt;dbl&gt; | nFeature_RNA &lt;int&gt; | sample_type &lt;chr&gt; | cancer_type &lt;chr&gt; | patient_id &lt;chr&gt; | sample_id &lt;chr&gt; | percent.mt &lt;dbl&gt; | RNA_snn_res.0.5 &lt;fct&gt; | seurat_clusters &lt;fct&gt; |\n",
       "|---|---|---|---|---|---|---|---|---|---|---|\n",
       "| GSE213243_ascites_AAACCCAAGTAGCAAT-2 | GSE213243 | 16943 | 4684 | ascites | HGSOC | pt-1 | GSE213243_HGSOC_ascites |  7.572449 | 5 | 5 |\n",
       "| GSE213243_ascites_AAACCCACAGTCGTTA-2 | GSE213243 | 14219 | 3822 | ascites | HGSOC | pt-1 | GSE213243_HGSOC_ascites |  5.021450 | 1 | 1 |\n",
       "| GSE213243_ascites_AAACCCATCCGTAGTA-2 | GSE213243 | 15634 | 4224 | ascites | HGSOC | pt-1 | GSE213243_HGSOC_ascites |  6.556224 | 5 | 5 |\n",
       "| GSE213243_ascites_AAACGAAAGTGCTCGC-2 | GSE213243 |  3007 | 1377 | ascites | HGSOC | pt-1 | GSE213243_HGSOC_ascites | 28.766212 | 6 | 6 |\n",
       "| GSE213243_ascites_AAACGAAGTATGGTAA-2 | GSE213243 | 13828 | 4227 | ascites | HGSOC | pt-1 | GSE213243_HGSOC_ascites |  4.122071 | 5 | 5 |\n",
       "| GSE213243_ascites_AAACGCTAGTATCTGC-2 | GSE213243 | 12945 | 3944 | ascites | HGSOC | pt-1 | GSE213243_HGSOC_ascites |  8.937814 | 6 | 6 |\n",
       "\n"
      ],
      "text/plain": [
       "                                     orig.ident nCount_RNA nFeature_RNA\n",
       "GSE213243_ascites_AAACCCAAGTAGCAAT-2 GSE213243  16943      4684        \n",
       "GSE213243_ascites_AAACCCACAGTCGTTA-2 GSE213243  14219      3822        \n",
       "GSE213243_ascites_AAACCCATCCGTAGTA-2 GSE213243  15634      4224        \n",
       "GSE213243_ascites_AAACGAAAGTGCTCGC-2 GSE213243   3007      1377        \n",
       "GSE213243_ascites_AAACGAAGTATGGTAA-2 GSE213243  13828      4227        \n",
       "GSE213243_ascites_AAACGCTAGTATCTGC-2 GSE213243  12945      3944        \n",
       "                                     sample_type cancer_type patient_id\n",
       "GSE213243_ascites_AAACCCAAGTAGCAAT-2 ascites     HGSOC       pt-1      \n",
       "GSE213243_ascites_AAACCCACAGTCGTTA-2 ascites     HGSOC       pt-1      \n",
       "GSE213243_ascites_AAACCCATCCGTAGTA-2 ascites     HGSOC       pt-1      \n",
       "GSE213243_ascites_AAACGAAAGTGCTCGC-2 ascites     HGSOC       pt-1      \n",
       "GSE213243_ascites_AAACGAAGTATGGTAA-2 ascites     HGSOC       pt-1      \n",
       "GSE213243_ascites_AAACGCTAGTATCTGC-2 ascites     HGSOC       pt-1      \n",
       "                                     sample_id               percent.mt\n",
       "GSE213243_ascites_AAACCCAAGTAGCAAT-2 GSE213243_HGSOC_ascites  7.572449 \n",
       "GSE213243_ascites_AAACCCACAGTCGTTA-2 GSE213243_HGSOC_ascites  5.021450 \n",
       "GSE213243_ascites_AAACCCATCCGTAGTA-2 GSE213243_HGSOC_ascites  6.556224 \n",
       "GSE213243_ascites_AAACGAAAGTGCTCGC-2 GSE213243_HGSOC_ascites 28.766212 \n",
       "GSE213243_ascites_AAACGAAGTATGGTAA-2 GSE213243_HGSOC_ascites  4.122071 \n",
       "GSE213243_ascites_AAACGCTAGTATCTGC-2 GSE213243_HGSOC_ascites  8.937814 \n",
       "                                     RNA_snn_res.0.5 seurat_clusters\n",
       "GSE213243_ascites_AAACCCAAGTAGCAAT-2 5               5              \n",
       "GSE213243_ascites_AAACCCACAGTCGTTA-2 1               1              \n",
       "GSE213243_ascites_AAACCCATCCGTAGTA-2 5               5              \n",
       "GSE213243_ascites_AAACGAAAGTGCTCGC-2 6               6              \n",
       "GSE213243_ascites_AAACGAAGTATGGTAA-2 5               5              \n",
       "GSE213243_ascites_AAACGCTAGTATCTGC-2 6               6              "
      ]
     },
     "metadata": {},
     "output_type": "display_data"
    }
   ],
   "source": [
    "HGSOC_tu\n",
    "HGSOC_tu@project.name\n",
    "head(HGSOC_tu@meta.data)\n",
    "\n",
    "HGSOC_As\n",
    "HGSOC_As@project.name\n",
    "head(HGSOC_As@meta.data)"
   ]
  },
  {
   "cell_type": "code",
   "execution_count": null,
   "metadata": {
    "vscode": {
     "languageId": "r"
    }
   },
   "outputs": [
    {
     "data": {
      "text/plain": [
       "\n",
       "tumour \n",
       "   804 "
      ]
     },
     "metadata": {},
     "output_type": "display_data"
    },
    {
     "data": {
      "text/plain": [
       "\n",
       "HGSOC \n",
       "  804 "
      ]
     },
     "metadata": {},
     "output_type": "display_data"
    },
    {
     "data": {
      "text/plain": [
       "\n",
       "pt-1 \n",
       " 804 "
      ]
     },
     "metadata": {},
     "output_type": "display_data"
    },
    {
     "data": {
      "text/plain": [
       "\n",
       "GSE213243_HGSOC_tumour \n",
       "                   804 "
      ]
     },
     "metadata": {},
     "output_type": "display_data"
    },
    {
     "data": {
      "text/plain": [
       "\n",
       "ascites \n",
       "   2688 "
      ]
     },
     "metadata": {},
     "output_type": "display_data"
    },
    {
     "data": {
      "text/plain": [
       "\n",
       "HGSOC \n",
       " 2688 "
      ]
     },
     "metadata": {},
     "output_type": "display_data"
    },
    {
     "data": {
      "text/plain": [
       "\n",
       "pt-1 \n",
       "2688 "
      ]
     },
     "metadata": {},
     "output_type": "display_data"
    },
    {
     "data": {
      "text/plain": [
       "\n",
       "GSE213243_HGSOC_ascites \n",
       "                   2688 "
      ]
     },
     "metadata": {},
     "output_type": "display_data"
    }
   ],
   "source": [
    "table(HGSOC_tu$sample_type)\n",
    "table(HGSOC_tu$cancer_type)\n",
    "table(HGSOC_tu$patient_id)\n",
    "table(HGSOC_tu$sample_id)\n",
    "\n",
    "table(HGSOC_As$sample_type)\n",
    "table(HGSOC_As$cancer_type)\n",
    "table(HGSOC_As$patient_id)\n",
    "table(HGSOC_As$sample_id)"
   ]
  },
  {
   "cell_type": "code",
   "execution_count": null,
   "metadata": {
    "vscode": {
     "languageId": "r"
    }
   },
   "outputs": [],
   "source": [
    "#set site metadata\n",
    "HGSOC_tu@meta.data$site <- \"ovary\"\n",
    "HGSOC_As@meta.data$site <- \"ascites fluid\""
   ]
  },
  {
   "cell_type": "code",
   "execution_count": null,
   "metadata": {
    "vscode": {
     "languageId": "r"
    }
   },
   "outputs": [],
   "source": [
    "#set subtype metadata\n",
    "\n",
    "#split by cancer_type\n",
    "HGSOC_tu@meta.data$cancer_subtype <- \"HGSOC\"\n",
    "HGSOC_As@meta.data$cancer_subtype <- \"HGSOC\""
   ]
  },
  {
   "cell_type": "code",
   "execution_count": null,
   "metadata": {
    "vscode": {
     "languageId": "r"
    }
   },
   "outputs": [],
   "source": [
    "#merge objects\n",
    "HGSOC <- merge(HGSOC_tu, y = c(HGSOC_As), project = \"GSE213243\")"
   ]
  },
  {
   "cell_type": "code",
   "execution_count": null,
   "metadata": {
    "vscode": {
     "languageId": "r"
    }
   },
   "outputs": [],
   "source": [
    "#set integration_id metadata\n",
    "HGSOC@meta.data$integration_id <- HGSOC@meta.data$sample_id"
   ]
  },
  {
   "cell_type": "code",
   "execution_count": null,
   "metadata": {
    "vscode": {
     "languageId": "r"
    }
   },
   "outputs": [
    {
     "data": {
      "text/plain": [
       "An object of class Seurat \n",
       "58825 features across 3492 samples within 1 assay \n",
       "Active assay: RNA (58825 features, 2000 variable features)\n",
       " 6 layers present: counts.1, counts.2, data.1, scale.data.1, data.2, scale.data.2"
      ]
     },
     "metadata": {},
     "output_type": "display_data"
    },
    {
     "data": {
      "text/html": [
       "'GSE213243'"
      ],
      "text/latex": [
       "'GSE213243'"
      ],
      "text/markdown": [
       "'GSE213243'"
      ],
      "text/plain": [
       "[1] \"GSE213243\""
      ]
     },
     "metadata": {},
     "output_type": "display_data"
    },
    {
     "data": {
      "text/html": [
       "<table class=\"dataframe\">\n",
       "<caption>A data.frame: 6 × 13</caption>\n",
       "<thead>\n",
       "\t<tr><th></th><th scope=col>orig.ident</th><th scope=col>nCount_RNA</th><th scope=col>nFeature_RNA</th><th scope=col>sample_type</th><th scope=col>cancer_type</th><th scope=col>patient_id</th><th scope=col>sample_id</th><th scope=col>percent.mt</th><th scope=col>RNA_snn_res.0.5</th><th scope=col>seurat_clusters</th><th scope=col>site</th><th scope=col>cancer_subtype</th><th scope=col>integration_id</th></tr>\n",
       "\t<tr><th></th><th scope=col>&lt;chr&gt;</th><th scope=col>&lt;dbl&gt;</th><th scope=col>&lt;int&gt;</th><th scope=col>&lt;chr&gt;</th><th scope=col>&lt;chr&gt;</th><th scope=col>&lt;chr&gt;</th><th scope=col>&lt;chr&gt;</th><th scope=col>&lt;dbl&gt;</th><th scope=col>&lt;chr&gt;</th><th scope=col>&lt;chr&gt;</th><th scope=col>&lt;chr&gt;</th><th scope=col>&lt;chr&gt;</th><th scope=col>&lt;chr&gt;</th></tr>\n",
       "</thead>\n",
       "<tbody>\n",
       "\t<tr><th scope=row>GSE213243_tumour_AAAGGTACACGCAGTC-1</th><td>GSE213243</td><td> 8050</td><td>2780</td><td>tumour</td><td>HGSOC</td><td>pt-1</td><td>GSE213243_HGSOC_tumour</td><td>19.962733</td><td>3</td><td>3</td><td>ovary</td><td>HGSOC</td><td>GSE213243_HGSOC_tumour</td></tr>\n",
       "\t<tr><th scope=row>GSE213243_tumour_AAATGGACACACGCCA-1</th><td>GSE213243</td><td> 5854</td><td>2467</td><td>tumour</td><td>HGSOC</td><td>pt-1</td><td>GSE213243_HGSOC_tumour</td><td> 4.936795</td><td>3</td><td>3</td><td>ovary</td><td>HGSOC</td><td>GSE213243_HGSOC_tumour</td></tr>\n",
       "\t<tr><th scope=row>GSE213243_tumour_AACAAAGCAATTTCCT-1</th><td>GSE213243</td><td> 6073</td><td>2541</td><td>tumour</td><td>HGSOC</td><td>pt-1</td><td>GSE213243_HGSOC_tumour</td><td> 6.323069</td><td>3</td><td>3</td><td>ovary</td><td>HGSOC</td><td>GSE213243_HGSOC_tumour</td></tr>\n",
       "\t<tr><th scope=row>GSE213243_tumour_AACACACGTAGCTTTG-1</th><td>GSE213243</td><td>13497</td><td>3862</td><td>tumour</td><td>HGSOC</td><td>pt-1</td><td>GSE213243_HGSOC_tumour</td><td> 5.319701</td><td>3</td><td>3</td><td>ovary</td><td>HGSOC</td><td>GSE213243_HGSOC_tumour</td></tr>\n",
       "\t<tr><th scope=row>GSE213243_tumour_AACACACTCGCTGTTC-1</th><td>GSE213243</td><td> 8644</td><td>3306</td><td>tumour</td><td>HGSOC</td><td>pt-1</td><td>GSE213243_HGSOC_tumour</td><td>10.596946</td><td>3</td><td>3</td><td>ovary</td><td>HGSOC</td><td>GSE213243_HGSOC_tumour</td></tr>\n",
       "\t<tr><th scope=row>GSE213243_tumour_AACAGGGCAACCCTAA-1</th><td>GSE213243</td><td> 6263</td><td>2562</td><td>tumour</td><td>HGSOC</td><td>pt-1</td><td>GSE213243_HGSOC_tumour</td><td> 3.544627</td><td>3</td><td>3</td><td>ovary</td><td>HGSOC</td><td>GSE213243_HGSOC_tumour</td></tr>\n",
       "</tbody>\n",
       "</table>\n"
      ],
      "text/latex": [
       "A data.frame: 6 × 13\n",
       "\\begin{tabular}{r|lllllllllllll}\n",
       "  & orig.ident & nCount\\_RNA & nFeature\\_RNA & sample\\_type & cancer\\_type & patient\\_id & sample\\_id & percent.mt & RNA\\_snn\\_res.0.5 & seurat\\_clusters & site & cancer\\_subtype & integration\\_id\\\\\n",
       "  & <chr> & <dbl> & <int> & <chr> & <chr> & <chr> & <chr> & <dbl> & <chr> & <chr> & <chr> & <chr> & <chr>\\\\\n",
       "\\hline\n",
       "\tGSE213243\\_tumour\\_AAAGGTACACGCAGTC-1 & GSE213243 &  8050 & 2780 & tumour & HGSOC & pt-1 & GSE213243\\_HGSOC\\_tumour & 19.962733 & 3 & 3 & ovary & HGSOC & GSE213243\\_HGSOC\\_tumour\\\\\n",
       "\tGSE213243\\_tumour\\_AAATGGACACACGCCA-1 & GSE213243 &  5854 & 2467 & tumour & HGSOC & pt-1 & GSE213243\\_HGSOC\\_tumour &  4.936795 & 3 & 3 & ovary & HGSOC & GSE213243\\_HGSOC\\_tumour\\\\\n",
       "\tGSE213243\\_tumour\\_AACAAAGCAATTTCCT-1 & GSE213243 &  6073 & 2541 & tumour & HGSOC & pt-1 & GSE213243\\_HGSOC\\_tumour &  6.323069 & 3 & 3 & ovary & HGSOC & GSE213243\\_HGSOC\\_tumour\\\\\n",
       "\tGSE213243\\_tumour\\_AACACACGTAGCTTTG-1 & GSE213243 & 13497 & 3862 & tumour & HGSOC & pt-1 & GSE213243\\_HGSOC\\_tumour &  5.319701 & 3 & 3 & ovary & HGSOC & GSE213243\\_HGSOC\\_tumour\\\\\n",
       "\tGSE213243\\_tumour\\_AACACACTCGCTGTTC-1 & GSE213243 &  8644 & 3306 & tumour & HGSOC & pt-1 & GSE213243\\_HGSOC\\_tumour & 10.596946 & 3 & 3 & ovary & HGSOC & GSE213243\\_HGSOC\\_tumour\\\\\n",
       "\tGSE213243\\_tumour\\_AACAGGGCAACCCTAA-1 & GSE213243 &  6263 & 2562 & tumour & HGSOC & pt-1 & GSE213243\\_HGSOC\\_tumour &  3.544627 & 3 & 3 & ovary & HGSOC & GSE213243\\_HGSOC\\_tumour\\\\\n",
       "\\end{tabular}\n"
      ],
      "text/markdown": [
       "\n",
       "A data.frame: 6 × 13\n",
       "\n",
       "| <!--/--> | orig.ident &lt;chr&gt; | nCount_RNA &lt;dbl&gt; | nFeature_RNA &lt;int&gt; | sample_type &lt;chr&gt; | cancer_type &lt;chr&gt; | patient_id &lt;chr&gt; | sample_id &lt;chr&gt; | percent.mt &lt;dbl&gt; | RNA_snn_res.0.5 &lt;chr&gt; | seurat_clusters &lt;chr&gt; | site &lt;chr&gt; | cancer_subtype &lt;chr&gt; | integration_id &lt;chr&gt; |\n",
       "|---|---|---|---|---|---|---|---|---|---|---|---|---|---|\n",
       "| GSE213243_tumour_AAAGGTACACGCAGTC-1 | GSE213243 |  8050 | 2780 | tumour | HGSOC | pt-1 | GSE213243_HGSOC_tumour | 19.962733 | 3 | 3 | ovary | HGSOC | GSE213243_HGSOC_tumour |\n",
       "| GSE213243_tumour_AAATGGACACACGCCA-1 | GSE213243 |  5854 | 2467 | tumour | HGSOC | pt-1 | GSE213243_HGSOC_tumour |  4.936795 | 3 | 3 | ovary | HGSOC | GSE213243_HGSOC_tumour |\n",
       "| GSE213243_tumour_AACAAAGCAATTTCCT-1 | GSE213243 |  6073 | 2541 | tumour | HGSOC | pt-1 | GSE213243_HGSOC_tumour |  6.323069 | 3 | 3 | ovary | HGSOC | GSE213243_HGSOC_tumour |\n",
       "| GSE213243_tumour_AACACACGTAGCTTTG-1 | GSE213243 | 13497 | 3862 | tumour | HGSOC | pt-1 | GSE213243_HGSOC_tumour |  5.319701 | 3 | 3 | ovary | HGSOC | GSE213243_HGSOC_tumour |\n",
       "| GSE213243_tumour_AACACACTCGCTGTTC-1 | GSE213243 |  8644 | 3306 | tumour | HGSOC | pt-1 | GSE213243_HGSOC_tumour | 10.596946 | 3 | 3 | ovary | HGSOC | GSE213243_HGSOC_tumour |\n",
       "| GSE213243_tumour_AACAGGGCAACCCTAA-1 | GSE213243 |  6263 | 2562 | tumour | HGSOC | pt-1 | GSE213243_HGSOC_tumour |  3.544627 | 3 | 3 | ovary | HGSOC | GSE213243_HGSOC_tumour |\n",
       "\n"
      ],
      "text/plain": [
       "                                    orig.ident nCount_RNA nFeature_RNA\n",
       "GSE213243_tumour_AAAGGTACACGCAGTC-1 GSE213243   8050      2780        \n",
       "GSE213243_tumour_AAATGGACACACGCCA-1 GSE213243   5854      2467        \n",
       "GSE213243_tumour_AACAAAGCAATTTCCT-1 GSE213243   6073      2541        \n",
       "GSE213243_tumour_AACACACGTAGCTTTG-1 GSE213243  13497      3862        \n",
       "GSE213243_tumour_AACACACTCGCTGTTC-1 GSE213243   8644      3306        \n",
       "GSE213243_tumour_AACAGGGCAACCCTAA-1 GSE213243   6263      2562        \n",
       "                                    sample_type cancer_type patient_id\n",
       "GSE213243_tumour_AAAGGTACACGCAGTC-1 tumour      HGSOC       pt-1      \n",
       "GSE213243_tumour_AAATGGACACACGCCA-1 tumour      HGSOC       pt-1      \n",
       "GSE213243_tumour_AACAAAGCAATTTCCT-1 tumour      HGSOC       pt-1      \n",
       "GSE213243_tumour_AACACACGTAGCTTTG-1 tumour      HGSOC       pt-1      \n",
       "GSE213243_tumour_AACACACTCGCTGTTC-1 tumour      HGSOC       pt-1      \n",
       "GSE213243_tumour_AACAGGGCAACCCTAA-1 tumour      HGSOC       pt-1      \n",
       "                                    sample_id              percent.mt\n",
       "GSE213243_tumour_AAAGGTACACGCAGTC-1 GSE213243_HGSOC_tumour 19.962733 \n",
       "GSE213243_tumour_AAATGGACACACGCCA-1 GSE213243_HGSOC_tumour  4.936795 \n",
       "GSE213243_tumour_AACAAAGCAATTTCCT-1 GSE213243_HGSOC_tumour  6.323069 \n",
       "GSE213243_tumour_AACACACGTAGCTTTG-1 GSE213243_HGSOC_tumour  5.319701 \n",
       "GSE213243_tumour_AACACACTCGCTGTTC-1 GSE213243_HGSOC_tumour 10.596946 \n",
       "GSE213243_tumour_AACAGGGCAACCCTAA-1 GSE213243_HGSOC_tumour  3.544627 \n",
       "                                    RNA_snn_res.0.5 seurat_clusters site \n",
       "GSE213243_tumour_AAAGGTACACGCAGTC-1 3               3               ovary\n",
       "GSE213243_tumour_AAATGGACACACGCCA-1 3               3               ovary\n",
       "GSE213243_tumour_AACAAAGCAATTTCCT-1 3               3               ovary\n",
       "GSE213243_tumour_AACACACGTAGCTTTG-1 3               3               ovary\n",
       "GSE213243_tumour_AACACACTCGCTGTTC-1 3               3               ovary\n",
       "GSE213243_tumour_AACAGGGCAACCCTAA-1 3               3               ovary\n",
       "                                    cancer_subtype integration_id        \n",
       "GSE213243_tumour_AAAGGTACACGCAGTC-1 HGSOC          GSE213243_HGSOC_tumour\n",
       "GSE213243_tumour_AAATGGACACACGCCA-1 HGSOC          GSE213243_HGSOC_tumour\n",
       "GSE213243_tumour_AACAAAGCAATTTCCT-1 HGSOC          GSE213243_HGSOC_tumour\n",
       "GSE213243_tumour_AACACACGTAGCTTTG-1 HGSOC          GSE213243_HGSOC_tumour\n",
       "GSE213243_tumour_AACACACTCGCTGTTC-1 HGSOC          GSE213243_HGSOC_tumour\n",
       "GSE213243_tumour_AACAGGGCAACCCTAA-1 HGSOC          GSE213243_HGSOC_tumour"
      ]
     },
     "metadata": {},
     "output_type": "display_data"
    },
    {
     "data": {
      "text/html": [
       "<table class=\"dataframe\">\n",
       "<caption>A data.frame: 6 × 13</caption>\n",
       "<thead>\n",
       "\t<tr><th></th><th scope=col>orig.ident</th><th scope=col>nCount_RNA</th><th scope=col>nFeature_RNA</th><th scope=col>sample_type</th><th scope=col>cancer_type</th><th scope=col>patient_id</th><th scope=col>sample_id</th><th scope=col>percent.mt</th><th scope=col>RNA_snn_res.0.5</th><th scope=col>seurat_clusters</th><th scope=col>site</th><th scope=col>cancer_subtype</th><th scope=col>integration_id</th></tr>\n",
       "\t<tr><th></th><th scope=col>&lt;chr&gt;</th><th scope=col>&lt;dbl&gt;</th><th scope=col>&lt;int&gt;</th><th scope=col>&lt;chr&gt;</th><th scope=col>&lt;chr&gt;</th><th scope=col>&lt;chr&gt;</th><th scope=col>&lt;chr&gt;</th><th scope=col>&lt;dbl&gt;</th><th scope=col>&lt;chr&gt;</th><th scope=col>&lt;chr&gt;</th><th scope=col>&lt;chr&gt;</th><th scope=col>&lt;chr&gt;</th><th scope=col>&lt;chr&gt;</th></tr>\n",
       "</thead>\n",
       "<tbody>\n",
       "\t<tr><th scope=row>GSE213243_ascites_TTTGATCGTTAGGCCC-2</th><td>GSE213243</td><td>20342</td><td>4702</td><td>ascites</td><td>HGSOC</td><td>pt-1</td><td>GSE213243_HGSOC_ascites</td><td> 5.899125</td><td>5</td><td>5</td><td>ascites fluid</td><td>HGSOC</td><td>GSE213243_HGSOC_ascites</td></tr>\n",
       "\t<tr><th scope=row>GSE213243_ascites_TTTGATCTCTCGGCTT-2</th><td>GSE213243</td><td> 1614</td><td> 820</td><td>ascites</td><td>HGSOC</td><td>pt-1</td><td>GSE213243_HGSOC_ascites</td><td>34.262701</td><td>1</td><td>1</td><td>ascites fluid</td><td>HGSOC</td><td>GSE213243_HGSOC_ascites</td></tr>\n",
       "\t<tr><th scope=row>GSE213243_ascites_TTTGGAGCACGTCTCT-2</th><td>GSE213243</td><td>10549</td><td>3639</td><td>ascites</td><td>HGSOC</td><td>pt-1</td><td>GSE213243_HGSOC_ascites</td><td>11.119537</td><td>6</td><td>6</td><td>ascites fluid</td><td>HGSOC</td><td>GSE213243_HGSOC_ascites</td></tr>\n",
       "\t<tr><th scope=row>GSE213243_ascites_TTTGGAGGTCCTGGGT-2</th><td>GSE213243</td><td> 4613</td><td>2061</td><td>ascites</td><td>HGSOC</td><td>pt-1</td><td>GSE213243_HGSOC_ascites</td><td>12.421418</td><td>1</td><td>1</td><td>ascites fluid</td><td>HGSOC</td><td>GSE213243_HGSOC_ascites</td></tr>\n",
       "\t<tr><th scope=row>GSE213243_ascites_TTTGGTTCATCCTATT-2</th><td>GSE213243</td><td> 6073</td><td>2678</td><td>ascites</td><td>HGSOC</td><td>pt-1</td><td>GSE213243_HGSOC_ascites</td><td>11.954553</td><td>1</td><td>1</td><td>ascites fluid</td><td>HGSOC</td><td>GSE213243_HGSOC_ascites</td></tr>\n",
       "\t<tr><th scope=row>GSE213243_ascites_TTTGTTGCATGATGCT-2</th><td>GSE213243</td><td>14293</td><td>4430</td><td>ascites</td><td>HGSOC</td><td>pt-1</td><td>GSE213243_HGSOC_ascites</td><td> 5.044427</td><td>6</td><td>6</td><td>ascites fluid</td><td>HGSOC</td><td>GSE213243_HGSOC_ascites</td></tr>\n",
       "</tbody>\n",
       "</table>\n"
      ],
      "text/latex": [
       "A data.frame: 6 × 13\n",
       "\\begin{tabular}{r|lllllllllllll}\n",
       "  & orig.ident & nCount\\_RNA & nFeature\\_RNA & sample\\_type & cancer\\_type & patient\\_id & sample\\_id & percent.mt & RNA\\_snn\\_res.0.5 & seurat\\_clusters & site & cancer\\_subtype & integration\\_id\\\\\n",
       "  & <chr> & <dbl> & <int> & <chr> & <chr> & <chr> & <chr> & <dbl> & <chr> & <chr> & <chr> & <chr> & <chr>\\\\\n",
       "\\hline\n",
       "\tGSE213243\\_ascites\\_TTTGATCGTTAGGCCC-2 & GSE213243 & 20342 & 4702 & ascites & HGSOC & pt-1 & GSE213243\\_HGSOC\\_ascites &  5.899125 & 5 & 5 & ascites fluid & HGSOC & GSE213243\\_HGSOC\\_ascites\\\\\n",
       "\tGSE213243\\_ascites\\_TTTGATCTCTCGGCTT-2 & GSE213243 &  1614 &  820 & ascites & HGSOC & pt-1 & GSE213243\\_HGSOC\\_ascites & 34.262701 & 1 & 1 & ascites fluid & HGSOC & GSE213243\\_HGSOC\\_ascites\\\\\n",
       "\tGSE213243\\_ascites\\_TTTGGAGCACGTCTCT-2 & GSE213243 & 10549 & 3639 & ascites & HGSOC & pt-1 & GSE213243\\_HGSOC\\_ascites & 11.119537 & 6 & 6 & ascites fluid & HGSOC & GSE213243\\_HGSOC\\_ascites\\\\\n",
       "\tGSE213243\\_ascites\\_TTTGGAGGTCCTGGGT-2 & GSE213243 &  4613 & 2061 & ascites & HGSOC & pt-1 & GSE213243\\_HGSOC\\_ascites & 12.421418 & 1 & 1 & ascites fluid & HGSOC & GSE213243\\_HGSOC\\_ascites\\\\\n",
       "\tGSE213243\\_ascites\\_TTTGGTTCATCCTATT-2 & GSE213243 &  6073 & 2678 & ascites & HGSOC & pt-1 & GSE213243\\_HGSOC\\_ascites & 11.954553 & 1 & 1 & ascites fluid & HGSOC & GSE213243\\_HGSOC\\_ascites\\\\\n",
       "\tGSE213243\\_ascites\\_TTTGTTGCATGATGCT-2 & GSE213243 & 14293 & 4430 & ascites & HGSOC & pt-1 & GSE213243\\_HGSOC\\_ascites &  5.044427 & 6 & 6 & ascites fluid & HGSOC & GSE213243\\_HGSOC\\_ascites\\\\\n",
       "\\end{tabular}\n"
      ],
      "text/markdown": [
       "\n",
       "A data.frame: 6 × 13\n",
       "\n",
       "| <!--/--> | orig.ident &lt;chr&gt; | nCount_RNA &lt;dbl&gt; | nFeature_RNA &lt;int&gt; | sample_type &lt;chr&gt; | cancer_type &lt;chr&gt; | patient_id &lt;chr&gt; | sample_id &lt;chr&gt; | percent.mt &lt;dbl&gt; | RNA_snn_res.0.5 &lt;chr&gt; | seurat_clusters &lt;chr&gt; | site &lt;chr&gt; | cancer_subtype &lt;chr&gt; | integration_id &lt;chr&gt; |\n",
       "|---|---|---|---|---|---|---|---|---|---|---|---|---|---|\n",
       "| GSE213243_ascites_TTTGATCGTTAGGCCC-2 | GSE213243 | 20342 | 4702 | ascites | HGSOC | pt-1 | GSE213243_HGSOC_ascites |  5.899125 | 5 | 5 | ascites fluid | HGSOC | GSE213243_HGSOC_ascites |\n",
       "| GSE213243_ascites_TTTGATCTCTCGGCTT-2 | GSE213243 |  1614 |  820 | ascites | HGSOC | pt-1 | GSE213243_HGSOC_ascites | 34.262701 | 1 | 1 | ascites fluid | HGSOC | GSE213243_HGSOC_ascites |\n",
       "| GSE213243_ascites_TTTGGAGCACGTCTCT-2 | GSE213243 | 10549 | 3639 | ascites | HGSOC | pt-1 | GSE213243_HGSOC_ascites | 11.119537 | 6 | 6 | ascites fluid | HGSOC | GSE213243_HGSOC_ascites |\n",
       "| GSE213243_ascites_TTTGGAGGTCCTGGGT-2 | GSE213243 |  4613 | 2061 | ascites | HGSOC | pt-1 | GSE213243_HGSOC_ascites | 12.421418 | 1 | 1 | ascites fluid | HGSOC | GSE213243_HGSOC_ascites |\n",
       "| GSE213243_ascites_TTTGGTTCATCCTATT-2 | GSE213243 |  6073 | 2678 | ascites | HGSOC | pt-1 | GSE213243_HGSOC_ascites | 11.954553 | 1 | 1 | ascites fluid | HGSOC | GSE213243_HGSOC_ascites |\n",
       "| GSE213243_ascites_TTTGTTGCATGATGCT-2 | GSE213243 | 14293 | 4430 | ascites | HGSOC | pt-1 | GSE213243_HGSOC_ascites |  5.044427 | 6 | 6 | ascites fluid | HGSOC | GSE213243_HGSOC_ascites |\n",
       "\n"
      ],
      "text/plain": [
       "                                     orig.ident nCount_RNA nFeature_RNA\n",
       "GSE213243_ascites_TTTGATCGTTAGGCCC-2 GSE213243  20342      4702        \n",
       "GSE213243_ascites_TTTGATCTCTCGGCTT-2 GSE213243   1614       820        \n",
       "GSE213243_ascites_TTTGGAGCACGTCTCT-2 GSE213243  10549      3639        \n",
       "GSE213243_ascites_TTTGGAGGTCCTGGGT-2 GSE213243   4613      2061        \n",
       "GSE213243_ascites_TTTGGTTCATCCTATT-2 GSE213243   6073      2678        \n",
       "GSE213243_ascites_TTTGTTGCATGATGCT-2 GSE213243  14293      4430        \n",
       "                                     sample_type cancer_type patient_id\n",
       "GSE213243_ascites_TTTGATCGTTAGGCCC-2 ascites     HGSOC       pt-1      \n",
       "GSE213243_ascites_TTTGATCTCTCGGCTT-2 ascites     HGSOC       pt-1      \n",
       "GSE213243_ascites_TTTGGAGCACGTCTCT-2 ascites     HGSOC       pt-1      \n",
       "GSE213243_ascites_TTTGGAGGTCCTGGGT-2 ascites     HGSOC       pt-1      \n",
       "GSE213243_ascites_TTTGGTTCATCCTATT-2 ascites     HGSOC       pt-1      \n",
       "GSE213243_ascites_TTTGTTGCATGATGCT-2 ascites     HGSOC       pt-1      \n",
       "                                     sample_id               percent.mt\n",
       "GSE213243_ascites_TTTGATCGTTAGGCCC-2 GSE213243_HGSOC_ascites  5.899125 \n",
       "GSE213243_ascites_TTTGATCTCTCGGCTT-2 GSE213243_HGSOC_ascites 34.262701 \n",
       "GSE213243_ascites_TTTGGAGCACGTCTCT-2 GSE213243_HGSOC_ascites 11.119537 \n",
       "GSE213243_ascites_TTTGGAGGTCCTGGGT-2 GSE213243_HGSOC_ascites 12.421418 \n",
       "GSE213243_ascites_TTTGGTTCATCCTATT-2 GSE213243_HGSOC_ascites 11.954553 \n",
       "GSE213243_ascites_TTTGTTGCATGATGCT-2 GSE213243_HGSOC_ascites  5.044427 \n",
       "                                     RNA_snn_res.0.5 seurat_clusters\n",
       "GSE213243_ascites_TTTGATCGTTAGGCCC-2 5               5              \n",
       "GSE213243_ascites_TTTGATCTCTCGGCTT-2 1               1              \n",
       "GSE213243_ascites_TTTGGAGCACGTCTCT-2 6               6              \n",
       "GSE213243_ascites_TTTGGAGGTCCTGGGT-2 1               1              \n",
       "GSE213243_ascites_TTTGGTTCATCCTATT-2 1               1              \n",
       "GSE213243_ascites_TTTGTTGCATGATGCT-2 6               6              \n",
       "                                     site          cancer_subtype\n",
       "GSE213243_ascites_TTTGATCGTTAGGCCC-2 ascites fluid HGSOC         \n",
       "GSE213243_ascites_TTTGATCTCTCGGCTT-2 ascites fluid HGSOC         \n",
       "GSE213243_ascites_TTTGGAGCACGTCTCT-2 ascites fluid HGSOC         \n",
       "GSE213243_ascites_TTTGGAGGTCCTGGGT-2 ascites fluid HGSOC         \n",
       "GSE213243_ascites_TTTGGTTCATCCTATT-2 ascites fluid HGSOC         \n",
       "GSE213243_ascites_TTTGTTGCATGATGCT-2 ascites fluid HGSOC         \n",
       "                                     integration_id         \n",
       "GSE213243_ascites_TTTGATCGTTAGGCCC-2 GSE213243_HGSOC_ascites\n",
       "GSE213243_ascites_TTTGATCTCTCGGCTT-2 GSE213243_HGSOC_ascites\n",
       "GSE213243_ascites_TTTGGAGCACGTCTCT-2 GSE213243_HGSOC_ascites\n",
       "GSE213243_ascites_TTTGGAGGTCCTGGGT-2 GSE213243_HGSOC_ascites\n",
       "GSE213243_ascites_TTTGGTTCATCCTATT-2 GSE213243_HGSOC_ascites\n",
       "GSE213243_ascites_TTTGTTGCATGATGCT-2 GSE213243_HGSOC_ascites"
      ]
     },
     "metadata": {},
     "output_type": "display_data"
    }
   ],
   "source": [
    "HGSOC\n",
    "HGSOC@project.name\n",
    "head(HGSOC@meta.data)\n",
    "tail(HGSOC@meta.data)"
   ]
  },
  {
   "cell_type": "code",
   "execution_count": null,
   "metadata": {
    "vscode": {
     "languageId": "r"
    }
   },
   "outputs": [
    {
     "data": {
      "text/plain": [
       "\n",
       "GSE213243_HGSOC_ascites  GSE213243_HGSOC_tumour \n",
       "                   2688                     804 "
      ]
     },
     "metadata": {},
     "output_type": "display_data"
    }
   ],
   "source": [
    "#exclude any samples with <100 cells\n",
    "table(HGSOC$integration_id)\n",
    "#none to exclude"
   ]
  },
  {
   "cell_type": "code",
   "execution_count": null,
   "metadata": {
    "vscode": {
     "languageId": "r"
    }
   },
   "outputs": [
    {
     "data": {
      "text/html": [
       "<style>\n",
       ".list-inline {list-style: none; margin:0; padding: 0}\n",
       ".list-inline>li {display: inline-block}\n",
       ".list-inline>li:not(:last-child)::after {content: \"\\00b7\"; padding: 0 .5ex}\n",
       "</style>\n",
       "<ol class=list-inline><li>'counts.1'</li><li>'counts.2'</li><li>'data.1'</li><li>'scale.data.1'</li><li>'data.2'</li><li>'scale.data.2'</li></ol>\n"
      ],
      "text/latex": [
       "\\begin{enumerate*}\n",
       "\\item 'counts.1'\n",
       "\\item 'counts.2'\n",
       "\\item 'data.1'\n",
       "\\item 'scale.data.1'\n",
       "\\item 'data.2'\n",
       "\\item 'scale.data.2'\n",
       "\\end{enumerate*}\n"
      ],
      "text/markdown": [
       "1. 'counts.1'\n",
       "2. 'counts.2'\n",
       "3. 'data.1'\n",
       "4. 'scale.data.1'\n",
       "5. 'data.2'\n",
       "6. 'scale.data.2'\n",
       "\n",
       "\n"
      ],
      "text/plain": [
       "[1] \"counts.1\"     \"counts.2\"     \"data.1\"       \"scale.data.1\" \"data.2\"      \n",
       "[6] \"scale.data.2\""
      ]
     },
     "metadata": {},
     "output_type": "display_data"
    },
    {
     "data": {
      "text/html": [
       "<style>\n",
       ".list-inline {list-style: none; margin:0; padding: 0}\n",
       ".list-inline>li {display: inline-block}\n",
       ".list-inline>li:not(:last-child)::after {content: \"\\00b7\"; padding: 0 .5ex}\n",
       "</style>\n",
       "<ol class=list-inline><li>'scale.data'</li><li>'data'</li><li>'counts'</li></ol>\n"
      ],
      "text/latex": [
       "\\begin{enumerate*}\n",
       "\\item 'scale.data'\n",
       "\\item 'data'\n",
       "\\item 'counts'\n",
       "\\end{enumerate*}\n"
      ],
      "text/markdown": [
       "1. 'scale.data'\n",
       "2. 'data'\n",
       "3. 'counts'\n",
       "\n",
       "\n"
      ],
      "text/plain": [
       "[1] \"scale.data\" \"data\"       \"counts\"    "
      ]
     },
     "metadata": {},
     "output_type": "display_data"
    },
    {
     "name": "stderr",
     "output_type": "stream",
     "text": [
      "Splitting ‘counts’, ‘data’ layers. Not splitting ‘scale.data’. If you would like to split other layers, set in `layers` argument.\n",
      "\n"
     ]
    },
    {
     "data": {
      "text/html": [
       "<style>\n",
       ".list-inline {list-style: none; margin:0; padding: 0}\n",
       ".list-inline>li {display: inline-block}\n",
       ".list-inline>li:not(:last-child)::after {content: \"\\00b7\"; padding: 0 .5ex}\n",
       "</style>\n",
       "<ol class=list-inline><li>'counts.GSE213243_HGSOC_tumour'</li><li>'counts.GSE213243_HGSOC_ascites'</li><li>'scale.data'</li><li>'data.GSE213243_HGSOC_tumour'</li><li>'data.GSE213243_HGSOC_ascites'</li></ol>\n"
      ],
      "text/latex": [
       "\\begin{enumerate*}\n",
       "\\item 'counts.GSE213243\\_HGSOC\\_tumour'\n",
       "\\item 'counts.GSE213243\\_HGSOC\\_ascites'\n",
       "\\item 'scale.data'\n",
       "\\item 'data.GSE213243\\_HGSOC\\_tumour'\n",
       "\\item 'data.GSE213243\\_HGSOC\\_ascites'\n",
       "\\end{enumerate*}\n"
      ],
      "text/markdown": [
       "1. 'counts.GSE213243_HGSOC_tumour'\n",
       "2. 'counts.GSE213243_HGSOC_ascites'\n",
       "3. 'scale.data'\n",
       "4. 'data.GSE213243_HGSOC_tumour'\n",
       "5. 'data.GSE213243_HGSOC_ascites'\n",
       "\n",
       "\n"
      ],
      "text/plain": [
       "[1] \"counts.GSE213243_HGSOC_tumour\"  \"counts.GSE213243_HGSOC_ascites\"\n",
       "[3] \"scale.data\"                     \"data.GSE213243_HGSOC_tumour\"   \n",
       "[5] \"data.GSE213243_HGSOC_ascites\"  "
      ]
     },
     "metadata": {},
     "output_type": "display_data"
    }
   ],
   "source": [
    "#join layers and then split them by integration_id\n",
    "Layers(HGSOC[[\"RNA\"]])\n",
    "#join layers\n",
    "HGSOC[[\"RNA\"]] <- JoinLayers(HGSOC[[\"RNA\"]])\n",
    "Layers(HGSOC[[\"RNA\"]])\n",
    "#split layers\n",
    "HGSOC[[\"RNA\"]] <- split(HGSOC[[\"RNA\"]], f = HGSOC$integration_id)\n",
    "Layers(HGSOC[[\"RNA\"]])\n"
   ]
  },
  {
   "cell_type": "code",
   "execution_count": null,
   "metadata": {
    "vscode": {
     "languageId": "r"
    }
   },
   "outputs": [
    {
     "data": {
      "text/plain": [
       "\n",
       "GSE213243_HGSOC_ascites  GSE213243_HGSOC_tumour \n",
       "                   2688                     804 "
      ]
     },
     "metadata": {},
     "output_type": "display_data"
    }
   ],
   "source": [
    "#record number of cells\n",
    "table(HGSOC$integration_id)"
   ]
  },
  {
   "cell_type": "code",
   "execution_count": null,
   "metadata": {
    "vscode": {
     "languageId": "r"
    }
   },
   "outputs": [],
   "source": [
    "#re-export seurat object ready for integration\n",
    "saveRDS(HGSOC, \"/scratch/user/s4436039/scdata/Myeloid_Cells/Myeloid_Cells_Integrate/GSE213243_myeloid_int.RDS\")"
   ]
  },
  {
   "cell_type": "code",
   "execution_count": null,
   "metadata": {
    "vscode": {
     "languageId": "r"
    }
   },
   "outputs": [],
   "source": [
    "#remove all objects in R\n",
    "rm(list = ls())"
   ]
  },
  {
   "cell_type": "markdown",
   "metadata": {},
   "source": [
    "## GSE217517"
   ]
  },
  {
   "cell_type": "code",
   "execution_count": 59,
   "metadata": {
    "vscode": {
     "languageId": "r"
    }
   },
   "outputs": [],
   "source": [
    "HGSOC <- readRDS(\"/scratch/user/s4436039/scdata/Myeloid_Cells/GSE217517_myeloid.RDS\")"
   ]
  },
  {
   "cell_type": "code",
   "execution_count": 60,
   "metadata": {
    "vscode": {
     "languageId": "r"
    }
   },
   "outputs": [
    {
     "data": {
      "text/plain": [
       "An object of class Seurat \n",
       "36601 features across 8457 samples within 1 assay \n",
       "Active assay: RNA (36601 features, 2000 variable features)\n",
       " 17 layers present: counts.1, counts.2, counts.3, counts.4, counts.5, counts.6, counts.7, counts.8, data.1, data.2, data.3, data.4, data.5, data.6, data.7, data.8, scale.data\n",
       " 2 dimensional reductions calculated: pca, umap"
      ]
     },
     "metadata": {},
     "output_type": "display_data"
    },
    {
     "data": {
      "text/html": [
       "'GSE217517'"
      ],
      "text/latex": [
       "'GSE217517'"
      ],
      "text/markdown": [
       "'GSE217517'"
      ],
      "text/plain": [
       "[1] \"GSE217517\""
      ]
     },
     "metadata": {},
     "output_type": "display_data"
    },
    {
     "data": {
      "text/html": [
       "<table class=\"dataframe\">\n",
       "<caption>A data.frame: 6 × 11</caption>\n",
       "<thead>\n",
       "\t<tr><th></th><th scope=col>orig.ident</th><th scope=col>nCount_RNA</th><th scope=col>nFeature_RNA</th><th scope=col>sample_type</th><th scope=col>cancer_type</th><th scope=col>patient_id</th><th scope=col>sample_id</th><th scope=col>percent.mt</th><th scope=col>RNA_snn_res.0.5</th><th scope=col>seurat_clusters</th><th scope=col>RNA_snn_res.0.2</th></tr>\n",
       "\t<tr><th></th><th scope=col>&lt;chr&gt;</th><th scope=col>&lt;dbl&gt;</th><th scope=col>&lt;int&gt;</th><th scope=col>&lt;chr&gt;</th><th scope=col>&lt;chr&gt;</th><th scope=col>&lt;chr&gt;</th><th scope=col>&lt;chr&gt;</th><th scope=col>&lt;dbl&gt;</th><th scope=col>&lt;fct&gt;</th><th scope=col>&lt;fct&gt;</th><th scope=col>&lt;fct&gt;</th></tr>\n",
       "</thead>\n",
       "<tbody>\n",
       "\t<tr><th scope=row>GSE217517_pt1_AAACGAAAGAACCCGA-1</th><td>GSE217517</td><td> 7268</td><td>2217</td><td>tumour</td><td>HGSOC</td><td>pt1</td><td>GSE217517_HGSOC_pt1</td><td> 3.769950</td><td>9</td><td>1</td><td>1</td></tr>\n",
       "\t<tr><th scope=row>GSE217517_pt1_AAAGAACCAGGGCTTC-1</th><td>GSE217517</td><td>20132</td><td>4339</td><td>tumour</td><td>HGSOC</td><td>pt1</td><td>GSE217517_HGSOC_pt1</td><td> 7.634612</td><td>5</td><td>1</td><td>1</td></tr>\n",
       "\t<tr><th scope=row>GSE217517_pt1_AAAGAACTCCATGAGT-1</th><td>GSE217517</td><td> 4183</td><td>1410</td><td>tumour</td><td>HGSOC</td><td>pt1</td><td>GSE217517_HGSOC_pt1</td><td>35.142242</td><td>9</td><td>1</td><td>1</td></tr>\n",
       "\t<tr><th scope=row>GSE217517_pt1_AAAGGATTCTATTTCG-1</th><td>GSE217517</td><td> 3037</td><td>1274</td><td>tumour</td><td>HGSOC</td><td>pt1</td><td>GSE217517_HGSOC_pt1</td><td> 6.914718</td><td>9</td><td>1</td><td>1</td></tr>\n",
       "\t<tr><th scope=row>GSE217517_pt1_AAATGGACACTGAGGA-1</th><td>GSE217517</td><td> 9516</td><td>2822</td><td>tumour</td><td>HGSOC</td><td>pt1</td><td>GSE217517_HGSOC_pt1</td><td> 2.847835</td><td>5</td><td>1</td><td>1</td></tr>\n",
       "\t<tr><th scope=row>GSE217517_pt1_AACAGGGGTCATCGGC-1</th><td>GSE217517</td><td>22104</td><td>4611</td><td>tumour</td><td>HGSOC</td><td>pt1</td><td>GSE217517_HGSOC_pt1</td><td> 7.695440</td><td>9</td><td>1</td><td>1</td></tr>\n",
       "</tbody>\n",
       "</table>\n"
      ],
      "text/latex": [
       "A data.frame: 6 × 11\n",
       "\\begin{tabular}{r|lllllllllll}\n",
       "  & orig.ident & nCount\\_RNA & nFeature\\_RNA & sample\\_type & cancer\\_type & patient\\_id & sample\\_id & percent.mt & RNA\\_snn\\_res.0.5 & seurat\\_clusters & RNA\\_snn\\_res.0.2\\\\\n",
       "  & <chr> & <dbl> & <int> & <chr> & <chr> & <chr> & <chr> & <dbl> & <fct> & <fct> & <fct>\\\\\n",
       "\\hline\n",
       "\tGSE217517\\_pt1\\_AAACGAAAGAACCCGA-1 & GSE217517 &  7268 & 2217 & tumour & HGSOC & pt1 & GSE217517\\_HGSOC\\_pt1 &  3.769950 & 9 & 1 & 1\\\\\n",
       "\tGSE217517\\_pt1\\_AAAGAACCAGGGCTTC-1 & GSE217517 & 20132 & 4339 & tumour & HGSOC & pt1 & GSE217517\\_HGSOC\\_pt1 &  7.634612 & 5 & 1 & 1\\\\\n",
       "\tGSE217517\\_pt1\\_AAAGAACTCCATGAGT-1 & GSE217517 &  4183 & 1410 & tumour & HGSOC & pt1 & GSE217517\\_HGSOC\\_pt1 & 35.142242 & 9 & 1 & 1\\\\\n",
       "\tGSE217517\\_pt1\\_AAAGGATTCTATTTCG-1 & GSE217517 &  3037 & 1274 & tumour & HGSOC & pt1 & GSE217517\\_HGSOC\\_pt1 &  6.914718 & 9 & 1 & 1\\\\\n",
       "\tGSE217517\\_pt1\\_AAATGGACACTGAGGA-1 & GSE217517 &  9516 & 2822 & tumour & HGSOC & pt1 & GSE217517\\_HGSOC\\_pt1 &  2.847835 & 5 & 1 & 1\\\\\n",
       "\tGSE217517\\_pt1\\_AACAGGGGTCATCGGC-1 & GSE217517 & 22104 & 4611 & tumour & HGSOC & pt1 & GSE217517\\_HGSOC\\_pt1 &  7.695440 & 9 & 1 & 1\\\\\n",
       "\\end{tabular}\n"
      ],
      "text/markdown": [
       "\n",
       "A data.frame: 6 × 11\n",
       "\n",
       "| <!--/--> | orig.ident &lt;chr&gt; | nCount_RNA &lt;dbl&gt; | nFeature_RNA &lt;int&gt; | sample_type &lt;chr&gt; | cancer_type &lt;chr&gt; | patient_id &lt;chr&gt; | sample_id &lt;chr&gt; | percent.mt &lt;dbl&gt; | RNA_snn_res.0.5 &lt;fct&gt; | seurat_clusters &lt;fct&gt; | RNA_snn_res.0.2 &lt;fct&gt; |\n",
       "|---|---|---|---|---|---|---|---|---|---|---|---|\n",
       "| GSE217517_pt1_AAACGAAAGAACCCGA-1 | GSE217517 |  7268 | 2217 | tumour | HGSOC | pt1 | GSE217517_HGSOC_pt1 |  3.769950 | 9 | 1 | 1 |\n",
       "| GSE217517_pt1_AAAGAACCAGGGCTTC-1 | GSE217517 | 20132 | 4339 | tumour | HGSOC | pt1 | GSE217517_HGSOC_pt1 |  7.634612 | 5 | 1 | 1 |\n",
       "| GSE217517_pt1_AAAGAACTCCATGAGT-1 | GSE217517 |  4183 | 1410 | tumour | HGSOC | pt1 | GSE217517_HGSOC_pt1 | 35.142242 | 9 | 1 | 1 |\n",
       "| GSE217517_pt1_AAAGGATTCTATTTCG-1 | GSE217517 |  3037 | 1274 | tumour | HGSOC | pt1 | GSE217517_HGSOC_pt1 |  6.914718 | 9 | 1 | 1 |\n",
       "| GSE217517_pt1_AAATGGACACTGAGGA-1 | GSE217517 |  9516 | 2822 | tumour | HGSOC | pt1 | GSE217517_HGSOC_pt1 |  2.847835 | 5 | 1 | 1 |\n",
       "| GSE217517_pt1_AACAGGGGTCATCGGC-1 | GSE217517 | 22104 | 4611 | tumour | HGSOC | pt1 | GSE217517_HGSOC_pt1 |  7.695440 | 9 | 1 | 1 |\n",
       "\n"
      ],
      "text/plain": [
       "                                 orig.ident nCount_RNA nFeature_RNA sample_type\n",
       "GSE217517_pt1_AAACGAAAGAACCCGA-1 GSE217517   7268      2217         tumour     \n",
       "GSE217517_pt1_AAAGAACCAGGGCTTC-1 GSE217517  20132      4339         tumour     \n",
       "GSE217517_pt1_AAAGAACTCCATGAGT-1 GSE217517   4183      1410         tumour     \n",
       "GSE217517_pt1_AAAGGATTCTATTTCG-1 GSE217517   3037      1274         tumour     \n",
       "GSE217517_pt1_AAATGGACACTGAGGA-1 GSE217517   9516      2822         tumour     \n",
       "GSE217517_pt1_AACAGGGGTCATCGGC-1 GSE217517  22104      4611         tumour     \n",
       "                                 cancer_type patient_id sample_id          \n",
       "GSE217517_pt1_AAACGAAAGAACCCGA-1 HGSOC       pt1        GSE217517_HGSOC_pt1\n",
       "GSE217517_pt1_AAAGAACCAGGGCTTC-1 HGSOC       pt1        GSE217517_HGSOC_pt1\n",
       "GSE217517_pt1_AAAGAACTCCATGAGT-1 HGSOC       pt1        GSE217517_HGSOC_pt1\n",
       "GSE217517_pt1_AAAGGATTCTATTTCG-1 HGSOC       pt1        GSE217517_HGSOC_pt1\n",
       "GSE217517_pt1_AAATGGACACTGAGGA-1 HGSOC       pt1        GSE217517_HGSOC_pt1\n",
       "GSE217517_pt1_AACAGGGGTCATCGGC-1 HGSOC       pt1        GSE217517_HGSOC_pt1\n",
       "                                 percent.mt RNA_snn_res.0.5 seurat_clusters\n",
       "GSE217517_pt1_AAACGAAAGAACCCGA-1  3.769950  9               1              \n",
       "GSE217517_pt1_AAAGAACCAGGGCTTC-1  7.634612  5               1              \n",
       "GSE217517_pt1_AAAGAACTCCATGAGT-1 35.142242  9               1              \n",
       "GSE217517_pt1_AAAGGATTCTATTTCG-1  6.914718  9               1              \n",
       "GSE217517_pt1_AAATGGACACTGAGGA-1  2.847835  5               1              \n",
       "GSE217517_pt1_AACAGGGGTCATCGGC-1  7.695440  9               1              \n",
       "                                 RNA_snn_res.0.2\n",
       "GSE217517_pt1_AAACGAAAGAACCCGA-1 1              \n",
       "GSE217517_pt1_AAAGAACCAGGGCTTC-1 1              \n",
       "GSE217517_pt1_AAAGAACTCCATGAGT-1 1              \n",
       "GSE217517_pt1_AAAGGATTCTATTTCG-1 1              \n",
       "GSE217517_pt1_AAATGGACACTGAGGA-1 1              \n",
       "GSE217517_pt1_AACAGGGGTCATCGGC-1 1              "
      ]
     },
     "metadata": {},
     "output_type": "display_data"
    }
   ],
   "source": [
    "HGSOC\n",
    "HGSOC@project.name\n",
    "head(HGSOC@meta.data)"
   ]
  },
  {
   "cell_type": "code",
   "execution_count": 61,
   "metadata": {
    "vscode": {
     "languageId": "r"
    }
   },
   "outputs": [
    {
     "data": {
      "text/plain": [
       "\n",
       "tumour \n",
       "  8457 "
      ]
     },
     "metadata": {},
     "output_type": "display_data"
    },
    {
     "data": {
      "text/plain": [
       "\n",
       "HGSOC \n",
       " 8457 "
      ]
     },
     "metadata": {},
     "output_type": "display_data"
    },
    {
     "data": {
      "text/plain": [
       "\n",
       " pt1  pt2  pt3  pt4  pt5  pt6  pt7  pt8 \n",
       " 842  966 2678 1517 1004   37 1054  359 "
      ]
     },
     "metadata": {},
     "output_type": "display_data"
    },
    {
     "data": {
      "text/plain": [
       "\n",
       "GSE217517_HGSOC_pt1 GSE217517_HGSOC_pt2 GSE217517_HGSOC_pt3 GSE217517_HGSOC_pt4 \n",
       "                842                 966                2678                1517 \n",
       "GSE217517_HGSOC_pt5 GSE217517_HGSOC_pt6 GSE217517_HGSOC_pt7 GSE217517_HGSOC_pt8 \n",
       "               1004                  37                1054                 359 "
      ]
     },
     "metadata": {},
     "output_type": "display_data"
    }
   ],
   "source": [
    "table(HGSOC$sample_type)\n",
    "table(HGSOC$cancer_type)\n",
    "table(HGSOC$patient_id)\n",
    "table(HGSOC$sample_id)"
   ]
  },
  {
   "cell_type": "code",
   "execution_count": 62,
   "metadata": {
    "vscode": {
     "languageId": "r"
    }
   },
   "outputs": [],
   "source": [
    "#set site metadata\n",
    "HGSOC@meta.data$site <- \"ovary\""
   ]
  },
  {
   "cell_type": "code",
   "execution_count": 63,
   "metadata": {
    "vscode": {
     "languageId": "r"
    }
   },
   "outputs": [],
   "source": [
    "#set subtype metadata\n",
    "HGSOC@meta.data$cancer_subtype <- \"HGSOC\""
   ]
  },
  {
   "cell_type": "code",
   "execution_count": 64,
   "metadata": {
    "vscode": {
     "languageId": "r"
    }
   },
   "outputs": [],
   "source": [
    "#set integration_id metadata\n",
    "HGSOC@meta.data$integration_id <- HGSOC@meta.data$sample_id"
   ]
  },
  {
   "cell_type": "code",
   "execution_count": 65,
   "metadata": {
    "vscode": {
     "languageId": "r"
    }
   },
   "outputs": [
    {
     "data": {
      "text/plain": [
       "An object of class Seurat \n",
       "36601 features across 8457 samples within 1 assay \n",
       "Active assay: RNA (36601 features, 2000 variable features)\n",
       " 17 layers present: counts.1, counts.2, counts.3, counts.4, counts.5, counts.6, counts.7, counts.8, data.1, data.2, data.3, data.4, data.5, data.6, data.7, data.8, scale.data\n",
       " 2 dimensional reductions calculated: pca, umap"
      ]
     },
     "metadata": {},
     "output_type": "display_data"
    },
    {
     "data": {
      "text/html": [
       "'GSE217517'"
      ],
      "text/latex": [
       "'GSE217517'"
      ],
      "text/markdown": [
       "'GSE217517'"
      ],
      "text/plain": [
       "[1] \"GSE217517\""
      ]
     },
     "metadata": {},
     "output_type": "display_data"
    },
    {
     "data": {
      "text/html": [
       "<table class=\"dataframe\">\n",
       "<caption>A data.frame: 6 × 14</caption>\n",
       "<thead>\n",
       "\t<tr><th></th><th scope=col>orig.ident</th><th scope=col>nCount_RNA</th><th scope=col>nFeature_RNA</th><th scope=col>sample_type</th><th scope=col>cancer_type</th><th scope=col>patient_id</th><th scope=col>sample_id</th><th scope=col>percent.mt</th><th scope=col>RNA_snn_res.0.5</th><th scope=col>seurat_clusters</th><th scope=col>RNA_snn_res.0.2</th><th scope=col>site</th><th scope=col>cancer_subtype</th><th scope=col>integration_id</th></tr>\n",
       "\t<tr><th></th><th scope=col>&lt;chr&gt;</th><th scope=col>&lt;dbl&gt;</th><th scope=col>&lt;int&gt;</th><th scope=col>&lt;chr&gt;</th><th scope=col>&lt;chr&gt;</th><th scope=col>&lt;chr&gt;</th><th scope=col>&lt;chr&gt;</th><th scope=col>&lt;dbl&gt;</th><th scope=col>&lt;fct&gt;</th><th scope=col>&lt;fct&gt;</th><th scope=col>&lt;fct&gt;</th><th scope=col>&lt;chr&gt;</th><th scope=col>&lt;chr&gt;</th><th scope=col>&lt;chr&gt;</th></tr>\n",
       "</thead>\n",
       "<tbody>\n",
       "\t<tr><th scope=row>GSE217517_pt1_AAACGAAAGAACCCGA-1</th><td>GSE217517</td><td> 7268</td><td>2217</td><td>tumour</td><td>HGSOC</td><td>pt1</td><td>GSE217517_HGSOC_pt1</td><td> 3.769950</td><td>9</td><td>1</td><td>1</td><td>ovary</td><td>HGSOC</td><td>GSE217517_HGSOC_pt1</td></tr>\n",
       "\t<tr><th scope=row>GSE217517_pt1_AAAGAACCAGGGCTTC-1</th><td>GSE217517</td><td>20132</td><td>4339</td><td>tumour</td><td>HGSOC</td><td>pt1</td><td>GSE217517_HGSOC_pt1</td><td> 7.634612</td><td>5</td><td>1</td><td>1</td><td>ovary</td><td>HGSOC</td><td>GSE217517_HGSOC_pt1</td></tr>\n",
       "\t<tr><th scope=row>GSE217517_pt1_AAAGAACTCCATGAGT-1</th><td>GSE217517</td><td> 4183</td><td>1410</td><td>tumour</td><td>HGSOC</td><td>pt1</td><td>GSE217517_HGSOC_pt1</td><td>35.142242</td><td>9</td><td>1</td><td>1</td><td>ovary</td><td>HGSOC</td><td>GSE217517_HGSOC_pt1</td></tr>\n",
       "\t<tr><th scope=row>GSE217517_pt1_AAAGGATTCTATTTCG-1</th><td>GSE217517</td><td> 3037</td><td>1274</td><td>tumour</td><td>HGSOC</td><td>pt1</td><td>GSE217517_HGSOC_pt1</td><td> 6.914718</td><td>9</td><td>1</td><td>1</td><td>ovary</td><td>HGSOC</td><td>GSE217517_HGSOC_pt1</td></tr>\n",
       "\t<tr><th scope=row>GSE217517_pt1_AAATGGACACTGAGGA-1</th><td>GSE217517</td><td> 9516</td><td>2822</td><td>tumour</td><td>HGSOC</td><td>pt1</td><td>GSE217517_HGSOC_pt1</td><td> 2.847835</td><td>5</td><td>1</td><td>1</td><td>ovary</td><td>HGSOC</td><td>GSE217517_HGSOC_pt1</td></tr>\n",
       "\t<tr><th scope=row>GSE217517_pt1_AACAGGGGTCATCGGC-1</th><td>GSE217517</td><td>22104</td><td>4611</td><td>tumour</td><td>HGSOC</td><td>pt1</td><td>GSE217517_HGSOC_pt1</td><td> 7.695440</td><td>9</td><td>1</td><td>1</td><td>ovary</td><td>HGSOC</td><td>GSE217517_HGSOC_pt1</td></tr>\n",
       "</tbody>\n",
       "</table>\n"
      ],
      "text/latex": [
       "A data.frame: 6 × 14\n",
       "\\begin{tabular}{r|llllllllllllll}\n",
       "  & orig.ident & nCount\\_RNA & nFeature\\_RNA & sample\\_type & cancer\\_type & patient\\_id & sample\\_id & percent.mt & RNA\\_snn\\_res.0.5 & seurat\\_clusters & RNA\\_snn\\_res.0.2 & site & cancer\\_subtype & integration\\_id\\\\\n",
       "  & <chr> & <dbl> & <int> & <chr> & <chr> & <chr> & <chr> & <dbl> & <fct> & <fct> & <fct> & <chr> & <chr> & <chr>\\\\\n",
       "\\hline\n",
       "\tGSE217517\\_pt1\\_AAACGAAAGAACCCGA-1 & GSE217517 &  7268 & 2217 & tumour & HGSOC & pt1 & GSE217517\\_HGSOC\\_pt1 &  3.769950 & 9 & 1 & 1 & ovary & HGSOC & GSE217517\\_HGSOC\\_pt1\\\\\n",
       "\tGSE217517\\_pt1\\_AAAGAACCAGGGCTTC-1 & GSE217517 & 20132 & 4339 & tumour & HGSOC & pt1 & GSE217517\\_HGSOC\\_pt1 &  7.634612 & 5 & 1 & 1 & ovary & HGSOC & GSE217517\\_HGSOC\\_pt1\\\\\n",
       "\tGSE217517\\_pt1\\_AAAGAACTCCATGAGT-1 & GSE217517 &  4183 & 1410 & tumour & HGSOC & pt1 & GSE217517\\_HGSOC\\_pt1 & 35.142242 & 9 & 1 & 1 & ovary & HGSOC & GSE217517\\_HGSOC\\_pt1\\\\\n",
       "\tGSE217517\\_pt1\\_AAAGGATTCTATTTCG-1 & GSE217517 &  3037 & 1274 & tumour & HGSOC & pt1 & GSE217517\\_HGSOC\\_pt1 &  6.914718 & 9 & 1 & 1 & ovary & HGSOC & GSE217517\\_HGSOC\\_pt1\\\\\n",
       "\tGSE217517\\_pt1\\_AAATGGACACTGAGGA-1 & GSE217517 &  9516 & 2822 & tumour & HGSOC & pt1 & GSE217517\\_HGSOC\\_pt1 &  2.847835 & 5 & 1 & 1 & ovary & HGSOC & GSE217517\\_HGSOC\\_pt1\\\\\n",
       "\tGSE217517\\_pt1\\_AACAGGGGTCATCGGC-1 & GSE217517 & 22104 & 4611 & tumour & HGSOC & pt1 & GSE217517\\_HGSOC\\_pt1 &  7.695440 & 9 & 1 & 1 & ovary & HGSOC & GSE217517\\_HGSOC\\_pt1\\\\\n",
       "\\end{tabular}\n"
      ],
      "text/markdown": [
       "\n",
       "A data.frame: 6 × 14\n",
       "\n",
       "| <!--/--> | orig.ident &lt;chr&gt; | nCount_RNA &lt;dbl&gt; | nFeature_RNA &lt;int&gt; | sample_type &lt;chr&gt; | cancer_type &lt;chr&gt; | patient_id &lt;chr&gt; | sample_id &lt;chr&gt; | percent.mt &lt;dbl&gt; | RNA_snn_res.0.5 &lt;fct&gt; | seurat_clusters &lt;fct&gt; | RNA_snn_res.0.2 &lt;fct&gt; | site &lt;chr&gt; | cancer_subtype &lt;chr&gt; | integration_id &lt;chr&gt; |\n",
       "|---|---|---|---|---|---|---|---|---|---|---|---|---|---|---|\n",
       "| GSE217517_pt1_AAACGAAAGAACCCGA-1 | GSE217517 |  7268 | 2217 | tumour | HGSOC | pt1 | GSE217517_HGSOC_pt1 |  3.769950 | 9 | 1 | 1 | ovary | HGSOC | GSE217517_HGSOC_pt1 |\n",
       "| GSE217517_pt1_AAAGAACCAGGGCTTC-1 | GSE217517 | 20132 | 4339 | tumour | HGSOC | pt1 | GSE217517_HGSOC_pt1 |  7.634612 | 5 | 1 | 1 | ovary | HGSOC | GSE217517_HGSOC_pt1 |\n",
       "| GSE217517_pt1_AAAGAACTCCATGAGT-1 | GSE217517 |  4183 | 1410 | tumour | HGSOC | pt1 | GSE217517_HGSOC_pt1 | 35.142242 | 9 | 1 | 1 | ovary | HGSOC | GSE217517_HGSOC_pt1 |\n",
       "| GSE217517_pt1_AAAGGATTCTATTTCG-1 | GSE217517 |  3037 | 1274 | tumour | HGSOC | pt1 | GSE217517_HGSOC_pt1 |  6.914718 | 9 | 1 | 1 | ovary | HGSOC | GSE217517_HGSOC_pt1 |\n",
       "| GSE217517_pt1_AAATGGACACTGAGGA-1 | GSE217517 |  9516 | 2822 | tumour | HGSOC | pt1 | GSE217517_HGSOC_pt1 |  2.847835 | 5 | 1 | 1 | ovary | HGSOC | GSE217517_HGSOC_pt1 |\n",
       "| GSE217517_pt1_AACAGGGGTCATCGGC-1 | GSE217517 | 22104 | 4611 | tumour | HGSOC | pt1 | GSE217517_HGSOC_pt1 |  7.695440 | 9 | 1 | 1 | ovary | HGSOC | GSE217517_HGSOC_pt1 |\n",
       "\n"
      ],
      "text/plain": [
       "                                 orig.ident nCount_RNA nFeature_RNA sample_type\n",
       "GSE217517_pt1_AAACGAAAGAACCCGA-1 GSE217517   7268      2217         tumour     \n",
       "GSE217517_pt1_AAAGAACCAGGGCTTC-1 GSE217517  20132      4339         tumour     \n",
       "GSE217517_pt1_AAAGAACTCCATGAGT-1 GSE217517   4183      1410         tumour     \n",
       "GSE217517_pt1_AAAGGATTCTATTTCG-1 GSE217517   3037      1274         tumour     \n",
       "GSE217517_pt1_AAATGGACACTGAGGA-1 GSE217517   9516      2822         tumour     \n",
       "GSE217517_pt1_AACAGGGGTCATCGGC-1 GSE217517  22104      4611         tumour     \n",
       "                                 cancer_type patient_id sample_id          \n",
       "GSE217517_pt1_AAACGAAAGAACCCGA-1 HGSOC       pt1        GSE217517_HGSOC_pt1\n",
       "GSE217517_pt1_AAAGAACCAGGGCTTC-1 HGSOC       pt1        GSE217517_HGSOC_pt1\n",
       "GSE217517_pt1_AAAGAACTCCATGAGT-1 HGSOC       pt1        GSE217517_HGSOC_pt1\n",
       "GSE217517_pt1_AAAGGATTCTATTTCG-1 HGSOC       pt1        GSE217517_HGSOC_pt1\n",
       "GSE217517_pt1_AAATGGACACTGAGGA-1 HGSOC       pt1        GSE217517_HGSOC_pt1\n",
       "GSE217517_pt1_AACAGGGGTCATCGGC-1 HGSOC       pt1        GSE217517_HGSOC_pt1\n",
       "                                 percent.mt RNA_snn_res.0.5 seurat_clusters\n",
       "GSE217517_pt1_AAACGAAAGAACCCGA-1  3.769950  9               1              \n",
       "GSE217517_pt1_AAAGAACCAGGGCTTC-1  7.634612  5               1              \n",
       "GSE217517_pt1_AAAGAACTCCATGAGT-1 35.142242  9               1              \n",
       "GSE217517_pt1_AAAGGATTCTATTTCG-1  6.914718  9               1              \n",
       "GSE217517_pt1_AAATGGACACTGAGGA-1  2.847835  5               1              \n",
       "GSE217517_pt1_AACAGGGGTCATCGGC-1  7.695440  9               1              \n",
       "                                 RNA_snn_res.0.2 site  cancer_subtype\n",
       "GSE217517_pt1_AAACGAAAGAACCCGA-1 1               ovary HGSOC         \n",
       "GSE217517_pt1_AAAGAACCAGGGCTTC-1 1               ovary HGSOC         \n",
       "GSE217517_pt1_AAAGAACTCCATGAGT-1 1               ovary HGSOC         \n",
       "GSE217517_pt1_AAAGGATTCTATTTCG-1 1               ovary HGSOC         \n",
       "GSE217517_pt1_AAATGGACACTGAGGA-1 1               ovary HGSOC         \n",
       "GSE217517_pt1_AACAGGGGTCATCGGC-1 1               ovary HGSOC         \n",
       "                                 integration_id     \n",
       "GSE217517_pt1_AAACGAAAGAACCCGA-1 GSE217517_HGSOC_pt1\n",
       "GSE217517_pt1_AAAGAACCAGGGCTTC-1 GSE217517_HGSOC_pt1\n",
       "GSE217517_pt1_AAAGAACTCCATGAGT-1 GSE217517_HGSOC_pt1\n",
       "GSE217517_pt1_AAAGGATTCTATTTCG-1 GSE217517_HGSOC_pt1\n",
       "GSE217517_pt1_AAATGGACACTGAGGA-1 GSE217517_HGSOC_pt1\n",
       "GSE217517_pt1_AACAGGGGTCATCGGC-1 GSE217517_HGSOC_pt1"
      ]
     },
     "metadata": {},
     "output_type": "display_data"
    }
   ],
   "source": [
    "HGSOC\n",
    "HGSOC@project.name\n",
    "head(HGSOC@meta.data)"
   ]
  },
  {
   "cell_type": "code",
   "execution_count": 67,
   "metadata": {
    "vscode": {
     "languageId": "r"
    }
   },
   "outputs": [
    {
     "data": {
      "text/plain": [
       "\n",
       "GSE217517_HGSOC_pt1 GSE217517_HGSOC_pt2 GSE217517_HGSOC_pt3 GSE217517_HGSOC_pt4 \n",
       "                842                 966                2678                1517 \n",
       "GSE217517_HGSOC_pt5 GSE217517_HGSOC_pt6 GSE217517_HGSOC_pt7 GSE217517_HGSOC_pt8 \n",
       "               1004                  37                1054                 359 "
      ]
     },
     "metadata": {},
     "output_type": "display_data"
    },
    {
     "data": {
      "text/plain": [
       "\n",
       "GSE217517_HGSOC_pt1 GSE217517_HGSOC_pt2 GSE217517_HGSOC_pt3 GSE217517_HGSOC_pt4 \n",
       "                842                 966                2678                1517 \n",
       "GSE217517_HGSOC_pt5 GSE217517_HGSOC_pt7 GSE217517_HGSOC_pt8 \n",
       "               1004                1054                 359 "
      ]
     },
     "metadata": {},
     "output_type": "display_data"
    }
   ],
   "source": [
    "#exclude any samples with <100 cells\n",
    "table(HGSOC$integration_id)\n",
    "#exclude patient 6\n",
    "HGSOC <- subset(HGSOC, !(subset = integration_id %in% c(\"GSE217517_HGSOC_pt6\")))\n",
    "table(HGSOC$integration_id)"
   ]
  },
  {
   "cell_type": "code",
   "execution_count": 68,
   "metadata": {
    "vscode": {
     "languageId": "r"
    }
   },
   "outputs": [
    {
     "data": {
      "text/html": [
       "<style>\n",
       ".list-inline {list-style: none; margin:0; padding: 0}\n",
       ".list-inline>li {display: inline-block}\n",
       ".list-inline>li:not(:last-child)::after {content: \"\\00b7\"; padding: 0 .5ex}\n",
       "</style>\n",
       "<ol class=list-inline><li>'counts.1'</li><li>'counts.2'</li><li>'counts.3'</li><li>'counts.4'</li><li>'counts.5'</li><li>'counts.7'</li><li>'counts.8'</li><li>'data.1'</li><li>'data.2'</li><li>'data.3'</li><li>'data.4'</li><li>'data.5'</li><li>'data.7'</li><li>'data.8'</li><li>'scale.data'</li></ol>\n"
      ],
      "text/latex": [
       "\\begin{enumerate*}\n",
       "\\item 'counts.1'\n",
       "\\item 'counts.2'\n",
       "\\item 'counts.3'\n",
       "\\item 'counts.4'\n",
       "\\item 'counts.5'\n",
       "\\item 'counts.7'\n",
       "\\item 'counts.8'\n",
       "\\item 'data.1'\n",
       "\\item 'data.2'\n",
       "\\item 'data.3'\n",
       "\\item 'data.4'\n",
       "\\item 'data.5'\n",
       "\\item 'data.7'\n",
       "\\item 'data.8'\n",
       "\\item 'scale.data'\n",
       "\\end{enumerate*}\n"
      ],
      "text/markdown": [
       "1. 'counts.1'\n",
       "2. 'counts.2'\n",
       "3. 'counts.3'\n",
       "4. 'counts.4'\n",
       "5. 'counts.5'\n",
       "6. 'counts.7'\n",
       "7. 'counts.8'\n",
       "8. 'data.1'\n",
       "9. 'data.2'\n",
       "10. 'data.3'\n",
       "11. 'data.4'\n",
       "12. 'data.5'\n",
       "13. 'data.7'\n",
       "14. 'data.8'\n",
       "15. 'scale.data'\n",
       "\n",
       "\n"
      ],
      "text/plain": [
       " [1] \"counts.1\"   \"counts.2\"   \"counts.3\"   \"counts.4\"   \"counts.5\"  \n",
       " [6] \"counts.7\"   \"counts.8\"   \"data.1\"     \"data.2\"     \"data.3\"    \n",
       "[11] \"data.4\"     \"data.5\"     \"data.7\"     \"data.8\"     \"scale.data\""
      ]
     },
     "metadata": {},
     "output_type": "display_data"
    },
    {
     "data": {
      "text/html": [
       "<style>\n",
       ".list-inline {list-style: none; margin:0; padding: 0}\n",
       ".list-inline>li {display: inline-block}\n",
       ".list-inline>li:not(:last-child)::after {content: \"\\00b7\"; padding: 0 .5ex}\n",
       "</style>\n",
       "<ol class=list-inline><li>'data'</li><li>'counts'</li><li>'scale.data'</li></ol>\n"
      ],
      "text/latex": [
       "\\begin{enumerate*}\n",
       "\\item 'data'\n",
       "\\item 'counts'\n",
       "\\item 'scale.data'\n",
       "\\end{enumerate*}\n"
      ],
      "text/markdown": [
       "1. 'data'\n",
       "2. 'counts'\n",
       "3. 'scale.data'\n",
       "\n",
       "\n"
      ],
      "text/plain": [
       "[1] \"data\"       \"counts\"     \"scale.data\""
      ]
     },
     "metadata": {},
     "output_type": "display_data"
    },
    {
     "name": "stderr",
     "output_type": "stream",
     "text": [
      "Splitting ‘counts’, ‘data’ layers. Not splitting ‘scale.data’. If you would like to split other layers, set in `layers` argument.\n",
      "\n"
     ]
    },
    {
     "data": {
      "text/html": [
       "<style>\n",
       ".list-inline {list-style: none; margin:0; padding: 0}\n",
       ".list-inline>li {display: inline-block}\n",
       ".list-inline>li:not(:last-child)::after {content: \"\\00b7\"; padding: 0 .5ex}\n",
       "</style>\n",
       "<ol class=list-inline><li>'data.GSE217517_HGSOC_pt1'</li><li>'data.GSE217517_HGSOC_pt2'</li><li>'data.GSE217517_HGSOC_pt3'</li><li>'data.GSE217517_HGSOC_pt4'</li><li>'data.GSE217517_HGSOC_pt5'</li><li>'data.GSE217517_HGSOC_pt7'</li><li>'data.GSE217517_HGSOC_pt8'</li><li>'scale.data'</li><li>'counts.GSE217517_HGSOC_pt1'</li><li>'counts.GSE217517_HGSOC_pt2'</li><li>'counts.GSE217517_HGSOC_pt3'</li><li>'counts.GSE217517_HGSOC_pt4'</li><li>'counts.GSE217517_HGSOC_pt5'</li><li>'counts.GSE217517_HGSOC_pt7'</li><li>'counts.GSE217517_HGSOC_pt8'</li></ol>\n"
      ],
      "text/latex": [
       "\\begin{enumerate*}\n",
       "\\item 'data.GSE217517\\_HGSOC\\_pt1'\n",
       "\\item 'data.GSE217517\\_HGSOC\\_pt2'\n",
       "\\item 'data.GSE217517\\_HGSOC\\_pt3'\n",
       "\\item 'data.GSE217517\\_HGSOC\\_pt4'\n",
       "\\item 'data.GSE217517\\_HGSOC\\_pt5'\n",
       "\\item 'data.GSE217517\\_HGSOC\\_pt7'\n",
       "\\item 'data.GSE217517\\_HGSOC\\_pt8'\n",
       "\\item 'scale.data'\n",
       "\\item 'counts.GSE217517\\_HGSOC\\_pt1'\n",
       "\\item 'counts.GSE217517\\_HGSOC\\_pt2'\n",
       "\\item 'counts.GSE217517\\_HGSOC\\_pt3'\n",
       "\\item 'counts.GSE217517\\_HGSOC\\_pt4'\n",
       "\\item 'counts.GSE217517\\_HGSOC\\_pt5'\n",
       "\\item 'counts.GSE217517\\_HGSOC\\_pt7'\n",
       "\\item 'counts.GSE217517\\_HGSOC\\_pt8'\n",
       "\\end{enumerate*}\n"
      ],
      "text/markdown": [
       "1. 'data.GSE217517_HGSOC_pt1'\n",
       "2. 'data.GSE217517_HGSOC_pt2'\n",
       "3. 'data.GSE217517_HGSOC_pt3'\n",
       "4. 'data.GSE217517_HGSOC_pt4'\n",
       "5. 'data.GSE217517_HGSOC_pt5'\n",
       "6. 'data.GSE217517_HGSOC_pt7'\n",
       "7. 'data.GSE217517_HGSOC_pt8'\n",
       "8. 'scale.data'\n",
       "9. 'counts.GSE217517_HGSOC_pt1'\n",
       "10. 'counts.GSE217517_HGSOC_pt2'\n",
       "11. 'counts.GSE217517_HGSOC_pt3'\n",
       "12. 'counts.GSE217517_HGSOC_pt4'\n",
       "13. 'counts.GSE217517_HGSOC_pt5'\n",
       "14. 'counts.GSE217517_HGSOC_pt7'\n",
       "15. 'counts.GSE217517_HGSOC_pt8'\n",
       "\n",
       "\n"
      ],
      "text/plain": [
       " [1] \"data.GSE217517_HGSOC_pt1\"   \"data.GSE217517_HGSOC_pt2\"  \n",
       " [3] \"data.GSE217517_HGSOC_pt3\"   \"data.GSE217517_HGSOC_pt4\"  \n",
       " [5] \"data.GSE217517_HGSOC_pt5\"   \"data.GSE217517_HGSOC_pt7\"  \n",
       " [7] \"data.GSE217517_HGSOC_pt8\"   \"scale.data\"                \n",
       " [9] \"counts.GSE217517_HGSOC_pt1\" \"counts.GSE217517_HGSOC_pt2\"\n",
       "[11] \"counts.GSE217517_HGSOC_pt3\" \"counts.GSE217517_HGSOC_pt4\"\n",
       "[13] \"counts.GSE217517_HGSOC_pt5\" \"counts.GSE217517_HGSOC_pt7\"\n",
       "[15] \"counts.GSE217517_HGSOC_pt8\""
      ]
     },
     "metadata": {},
     "output_type": "display_data"
    }
   ],
   "source": [
    "#join layers and then split them by integration_id\n",
    "Layers(HGSOC[[\"RNA\"]])\n",
    "#join layers\n",
    "HGSOC[[\"RNA\"]] <- JoinLayers(HGSOC[[\"RNA\"]])\n",
    "Layers(HGSOC[[\"RNA\"]])\n",
    "#split layers\n",
    "HGSOC[[\"RNA\"]] <- split(HGSOC[[\"RNA\"]], f = HGSOC$integration_id)\n",
    "Layers(HGSOC[[\"RNA\"]])\n"
   ]
  },
  {
   "cell_type": "code",
   "execution_count": 69,
   "metadata": {
    "vscode": {
     "languageId": "r"
    }
   },
   "outputs": [
    {
     "data": {
      "text/plain": [
       "\n",
       "GSE217517_HGSOC_pt1 GSE217517_HGSOC_pt2 GSE217517_HGSOC_pt3 GSE217517_HGSOC_pt4 \n",
       "                842                 966                2678                1517 \n",
       "GSE217517_HGSOC_pt5 GSE217517_HGSOC_pt7 GSE217517_HGSOC_pt8 \n",
       "               1004                1054                 359 "
      ]
     },
     "metadata": {},
     "output_type": "display_data"
    }
   ],
   "source": [
    "#record number of cells\n",
    "table(HGSOC$integration_id)"
   ]
  },
  {
   "cell_type": "code",
   "execution_count": 70,
   "metadata": {
    "vscode": {
     "languageId": "r"
    }
   },
   "outputs": [],
   "source": [
    "#re-export seurat object ready for integration\n",
    "saveRDS(HGSOC, \"/scratch/user/s4436039/scdata/Myeloid_Cells/Myeloid_Cells_Integrate/GSE217517_myeloid_int.RDS\")"
   ]
  },
  {
   "cell_type": "code",
   "execution_count": 71,
   "metadata": {
    "vscode": {
     "languageId": "r"
    }
   },
   "outputs": [],
   "source": [
    "#remove all objects in R\n",
    "rm(list = ls())"
   ]
  }
 ],
 "metadata": {
  "kernelspec": {
   "display_name": "R",
   "language": "R",
   "name": "ir"
  },
  "language_info": {
   "codemirror_mode": "r",
   "file_extension": ".r",
   "mimetype": "text/x-r-source",
   "name": "R",
   "pygments_lexer": "r",
   "version": "4.3.3"
  }
 },
 "nbformat": 4,
 "nbformat_minor": 2
}
