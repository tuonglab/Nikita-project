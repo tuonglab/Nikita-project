{
 "cells": [
  {
   "cell_type": "markdown",
   "metadata": {},
   "source": [
    "This notebook is for preparing all datasets for integration. \n",
    "\n",
    "This involves:\n",
    "* reading in each dataset\n",
    "* check metadata all correct\n",
    "* add additional metadata regarding site and cancer_subtype\n",
    "* add metadata for sample_type_major\n",
    "* add metadata for integration_id --> samples that are not biologically distinct (eg. two biopsies from one tumour) get same id\n",
    "* use integration id to merge layers --> layers in dataset will represent how they will be integrated \n",
    "* exclude any samples with <100 myeloid cells\n",
    "* record number of cells\n",
    "\n",
    "Backing up to rdm: \n",
    "``` bash\n",
    "rsync -azvhp /scratch/user/s4436039/scdata/Myeloid_Cells/Myeloid_Cells_Integrate/ /QRISdata/Q5935/nikita/scdata/Myeloid_Cells/Myeloid_Cells_Integrate\n",
    "```"
   ]
  },
  {
   "cell_type": "code",
   "execution_count": 1,
   "metadata": {
    "vscode": {
     "languageId": "r"
    }
   },
   "outputs": [
    {
     "data": {
      "text/html": [
       "'/scratch/user/s4436039/Nikita-project'"
      ],
      "text/latex": [
       "'/scratch/user/s4436039/Nikita-project'"
      ],
      "text/markdown": [
       "'/scratch/user/s4436039/Nikita-project'"
      ],
      "text/plain": [
       "[1] \"/scratch/user/s4436039/Nikita-project\""
      ]
     },
     "metadata": {},
     "output_type": "display_data"
    },
    {
     "data": {
      "text/html": [
       "'/scratch/user/s4436039/scdata/Myeloid_Cells'"
      ],
      "text/latex": [
       "'/scratch/user/s4436039/scdata/Myeloid\\_Cells'"
      ],
      "text/markdown": [
       "'/scratch/user/s4436039/scdata/Myeloid_Cells'"
      ],
      "text/plain": [
       "[1] \"/scratch/user/s4436039/scdata/Myeloid_Cells\""
      ]
     },
     "metadata": {},
     "output_type": "display_data"
    }
   ],
   "source": [
    "#set wd\n",
    "getwd()\n",
    "setwd('/scratch/user/s4436039/scdata/Myeloid_Cells')\n",
    "getwd()"
   ]
  },
  {
   "cell_type": "code",
   "execution_count": 2,
   "metadata": {
    "vscode": {
     "languageId": "r"
    }
   },
   "outputs": [
    {
     "name": "stderr",
     "output_type": "stream",
     "text": [
      "\n",
      "Attaching package: ‘dplyr’\n",
      "\n",
      "\n",
      "The following objects are masked from ‘package:stats’:\n",
      "\n",
      "    filter, lag\n",
      "\n",
      "\n",
      "The following objects are masked from ‘package:base’:\n",
      "\n",
      "    intersect, setdiff, setequal, union\n",
      "\n",
      "\n",
      "Loading required package: SeuratObject\n",
      "\n",
      "Loading required package: sp\n",
      "\n",
      "\n",
      "Attaching package: ‘SeuratObject’\n",
      "\n",
      "\n",
      "The following object is masked from ‘package:base’:\n",
      "\n",
      "    intersect\n",
      "\n",
      "\n"
     ]
    }
   ],
   "source": [
    "#Load packages\n",
    "library(dplyr)\n",
    "library(Seurat)\n",
    "library(patchwork)"
   ]
  },
  {
   "cell_type": "markdown",
   "metadata": {},
   "source": [
    "## GSE184880"
   ]
  },
  {
   "cell_type": "code",
   "execution_count": 41,
   "metadata": {
    "vscode": {
     "languageId": "r"
    }
   },
   "outputs": [],
   "source": [
    "HGSOC <- readRDS(\"/scratch/user/s4436039/scdata/Myeloid_Cells/GSE184880_myeloid.RDS\")"
   ]
  },
  {
   "cell_type": "code",
   "execution_count": 42,
   "metadata": {
    "vscode": {
     "languageId": "r"
    }
   },
   "outputs": [
    {
     "data": {
      "text/plain": [
       "An object of class Seurat \n",
       "27984 features across 7799 samples within 1 assay \n",
       "Active assay: RNA (27984 features, 2000 variable features)\n",
       " 25 layers present: counts.1, counts.2, counts.3, counts.4, counts.5, counts.6, counts.7, counts.8, counts.9, counts.10, counts.11, counts.12, data.1, data.2, data.3, data.4, data.5, data.6, data.7, data.8, data.9, data.10, data.11, data.12, scale.data\n",
       " 2 dimensional reductions calculated: pca, umap"
      ]
     },
     "metadata": {},
     "output_type": "display_data"
    },
    {
     "data": {
      "text/html": [
       "'GSE184880'"
      ],
      "text/latex": [
       "'GSE184880'"
      ],
      "text/markdown": [
       "'GSE184880'"
      ],
      "text/plain": [
       "[1] \"GSE184880\""
      ]
     },
     "metadata": {},
     "output_type": "display_data"
    },
    {
     "data": {
      "text/html": [
       "<table class=\"dataframe\">\n",
       "<caption>A data.frame: 6 × 10</caption>\n",
       "<thead>\n",
       "\t<tr><th></th><th scope=col>orig.ident</th><th scope=col>nCount_RNA</th><th scope=col>nFeature_RNA</th><th scope=col>sample_type</th><th scope=col>cancer_type</th><th scope=col>patient_id</th><th scope=col>sample_id</th><th scope=col>percent.mt</th><th scope=col>RNA_snn_res.0.2</th><th scope=col>seurat_clusters</th></tr>\n",
       "\t<tr><th></th><th scope=col>&lt;chr&gt;</th><th scope=col>&lt;dbl&gt;</th><th scope=col>&lt;int&gt;</th><th scope=col>&lt;chr&gt;</th><th scope=col>&lt;chr&gt;</th><th scope=col>&lt;chr&gt;</th><th scope=col>&lt;chr&gt;</th><th scope=col>&lt;dbl&gt;</th><th scope=col>&lt;fct&gt;</th><th scope=col>&lt;fct&gt;</th></tr>\n",
       "</thead>\n",
       "<tbody>\n",
       "\t<tr><th scope=row>GSE184880_Cancer1_AAACCCACAGCTGCCA-1</th><td>GSE184880</td><td> 9374</td><td>2655</td><td>tumour</td><td>HGSOC</td><td>Cancer1</td><td>GSE184880_HGSOC_Cancer1</td><td>15.980371</td><td>1</td><td>1</td></tr>\n",
       "\t<tr><th scope=row>GSE184880_Cancer1_AAACCCACATGACGGA-1</th><td>GSE184880</td><td> 2659</td><td>1246</td><td>tumour</td><td>HGSOC</td><td>Cancer1</td><td>GSE184880_HGSOC_Cancer1</td><td> 8.837909</td><td>1</td><td>1</td></tr>\n",
       "\t<tr><th scope=row>GSE184880_Cancer1_AAACGAACAGTAGTGG-1</th><td>GSE184880</td><td> 3020</td><td>1206</td><td>tumour</td><td>HGSOC</td><td>Cancer1</td><td>GSE184880_HGSOC_Cancer1</td><td>13.807947</td><td>1</td><td>1</td></tr>\n",
       "\t<tr><th scope=row>GSE184880_Cancer1_AAACGAATCACCCTCA-1</th><td>GSE184880</td><td>50940</td><td>6660</td><td>tumour</td><td>HGSOC</td><td>Cancer1</td><td>GSE184880_HGSOC_Cancer1</td><td> 8.531606</td><td>1</td><td>1</td></tr>\n",
       "\t<tr><th scope=row>GSE184880_Cancer1_AAACGCTTCTCCACTG-1</th><td>GSE184880</td><td>10129</td><td>2880</td><td>tumour</td><td>HGSOC</td><td>Cancer1</td><td>GSE184880_HGSOC_Cancer1</td><td>11.225195</td><td>1</td><td>1</td></tr>\n",
       "\t<tr><th scope=row>GSE184880_Cancer1_AAACGCTTCTGCTCTG-1</th><td>GSE184880</td><td>12756</td><td>3352</td><td>tumour</td><td>HGSOC</td><td>Cancer1</td><td>GSE184880_HGSOC_Cancer1</td><td> 9.321104</td><td>1</td><td>1</td></tr>\n",
       "</tbody>\n",
       "</table>\n"
      ],
      "text/latex": [
       "A data.frame: 6 × 10\n",
       "\\begin{tabular}{r|llllllllll}\n",
       "  & orig.ident & nCount\\_RNA & nFeature\\_RNA & sample\\_type & cancer\\_type & patient\\_id & sample\\_id & percent.mt & RNA\\_snn\\_res.0.2 & seurat\\_clusters\\\\\n",
       "  & <chr> & <dbl> & <int> & <chr> & <chr> & <chr> & <chr> & <dbl> & <fct> & <fct>\\\\\n",
       "\\hline\n",
       "\tGSE184880\\_Cancer1\\_AAACCCACAGCTGCCA-1 & GSE184880 &  9374 & 2655 & tumour & HGSOC & Cancer1 & GSE184880\\_HGSOC\\_Cancer1 & 15.980371 & 1 & 1\\\\\n",
       "\tGSE184880\\_Cancer1\\_AAACCCACATGACGGA-1 & GSE184880 &  2659 & 1246 & tumour & HGSOC & Cancer1 & GSE184880\\_HGSOC\\_Cancer1 &  8.837909 & 1 & 1\\\\\n",
       "\tGSE184880\\_Cancer1\\_AAACGAACAGTAGTGG-1 & GSE184880 &  3020 & 1206 & tumour & HGSOC & Cancer1 & GSE184880\\_HGSOC\\_Cancer1 & 13.807947 & 1 & 1\\\\\n",
       "\tGSE184880\\_Cancer1\\_AAACGAATCACCCTCA-1 & GSE184880 & 50940 & 6660 & tumour & HGSOC & Cancer1 & GSE184880\\_HGSOC\\_Cancer1 &  8.531606 & 1 & 1\\\\\n",
       "\tGSE184880\\_Cancer1\\_AAACGCTTCTCCACTG-1 & GSE184880 & 10129 & 2880 & tumour & HGSOC & Cancer1 & GSE184880\\_HGSOC\\_Cancer1 & 11.225195 & 1 & 1\\\\\n",
       "\tGSE184880\\_Cancer1\\_AAACGCTTCTGCTCTG-1 & GSE184880 & 12756 & 3352 & tumour & HGSOC & Cancer1 & GSE184880\\_HGSOC\\_Cancer1 &  9.321104 & 1 & 1\\\\\n",
       "\\end{tabular}\n"
      ],
      "text/markdown": [
       "\n",
       "A data.frame: 6 × 10\n",
       "\n",
       "| <!--/--> | orig.ident &lt;chr&gt; | nCount_RNA &lt;dbl&gt; | nFeature_RNA &lt;int&gt; | sample_type &lt;chr&gt; | cancer_type &lt;chr&gt; | patient_id &lt;chr&gt; | sample_id &lt;chr&gt; | percent.mt &lt;dbl&gt; | RNA_snn_res.0.2 &lt;fct&gt; | seurat_clusters &lt;fct&gt; |\n",
       "|---|---|---|---|---|---|---|---|---|---|---|\n",
       "| GSE184880_Cancer1_AAACCCACAGCTGCCA-1 | GSE184880 |  9374 | 2655 | tumour | HGSOC | Cancer1 | GSE184880_HGSOC_Cancer1 | 15.980371 | 1 | 1 |\n",
       "| GSE184880_Cancer1_AAACCCACATGACGGA-1 | GSE184880 |  2659 | 1246 | tumour | HGSOC | Cancer1 | GSE184880_HGSOC_Cancer1 |  8.837909 | 1 | 1 |\n",
       "| GSE184880_Cancer1_AAACGAACAGTAGTGG-1 | GSE184880 |  3020 | 1206 | tumour | HGSOC | Cancer1 | GSE184880_HGSOC_Cancer1 | 13.807947 | 1 | 1 |\n",
       "| GSE184880_Cancer1_AAACGAATCACCCTCA-1 | GSE184880 | 50940 | 6660 | tumour | HGSOC | Cancer1 | GSE184880_HGSOC_Cancer1 |  8.531606 | 1 | 1 |\n",
       "| GSE184880_Cancer1_AAACGCTTCTCCACTG-1 | GSE184880 | 10129 | 2880 | tumour | HGSOC | Cancer1 | GSE184880_HGSOC_Cancer1 | 11.225195 | 1 | 1 |\n",
       "| GSE184880_Cancer1_AAACGCTTCTGCTCTG-1 | GSE184880 | 12756 | 3352 | tumour | HGSOC | Cancer1 | GSE184880_HGSOC_Cancer1 |  9.321104 | 1 | 1 |\n",
       "\n"
      ],
      "text/plain": [
       "                                     orig.ident nCount_RNA nFeature_RNA\n",
       "GSE184880_Cancer1_AAACCCACAGCTGCCA-1 GSE184880   9374      2655        \n",
       "GSE184880_Cancer1_AAACCCACATGACGGA-1 GSE184880   2659      1246        \n",
       "GSE184880_Cancer1_AAACGAACAGTAGTGG-1 GSE184880   3020      1206        \n",
       "GSE184880_Cancer1_AAACGAATCACCCTCA-1 GSE184880  50940      6660        \n",
       "GSE184880_Cancer1_AAACGCTTCTCCACTG-1 GSE184880  10129      2880        \n",
       "GSE184880_Cancer1_AAACGCTTCTGCTCTG-1 GSE184880  12756      3352        \n",
       "                                     sample_type cancer_type patient_id\n",
       "GSE184880_Cancer1_AAACCCACAGCTGCCA-1 tumour      HGSOC       Cancer1   \n",
       "GSE184880_Cancer1_AAACCCACATGACGGA-1 tumour      HGSOC       Cancer1   \n",
       "GSE184880_Cancer1_AAACGAACAGTAGTGG-1 tumour      HGSOC       Cancer1   \n",
       "GSE184880_Cancer1_AAACGAATCACCCTCA-1 tumour      HGSOC       Cancer1   \n",
       "GSE184880_Cancer1_AAACGCTTCTCCACTG-1 tumour      HGSOC       Cancer1   \n",
       "GSE184880_Cancer1_AAACGCTTCTGCTCTG-1 tumour      HGSOC       Cancer1   \n",
       "                                     sample_id               percent.mt\n",
       "GSE184880_Cancer1_AAACCCACAGCTGCCA-1 GSE184880_HGSOC_Cancer1 15.980371 \n",
       "GSE184880_Cancer1_AAACCCACATGACGGA-1 GSE184880_HGSOC_Cancer1  8.837909 \n",
       "GSE184880_Cancer1_AAACGAACAGTAGTGG-1 GSE184880_HGSOC_Cancer1 13.807947 \n",
       "GSE184880_Cancer1_AAACGAATCACCCTCA-1 GSE184880_HGSOC_Cancer1  8.531606 \n",
       "GSE184880_Cancer1_AAACGCTTCTCCACTG-1 GSE184880_HGSOC_Cancer1 11.225195 \n",
       "GSE184880_Cancer1_AAACGCTTCTGCTCTG-1 GSE184880_HGSOC_Cancer1  9.321104 \n",
       "                                     RNA_snn_res.0.2 seurat_clusters\n",
       "GSE184880_Cancer1_AAACCCACAGCTGCCA-1 1               1              \n",
       "GSE184880_Cancer1_AAACCCACATGACGGA-1 1               1              \n",
       "GSE184880_Cancer1_AAACGAACAGTAGTGG-1 1               1              \n",
       "GSE184880_Cancer1_AAACGAATCACCCTCA-1 1               1              \n",
       "GSE184880_Cancer1_AAACGCTTCTCCACTG-1 1               1              \n",
       "GSE184880_Cancer1_AAACGCTTCTGCTCTG-1 1               1              "
      ]
     },
     "metadata": {},
     "output_type": "display_data"
    }
   ],
   "source": [
    "HGSOC\n",
    "HGSOC@project.name\n",
    "head(HGSOC@meta.data)"
   ]
  },
  {
   "cell_type": "code",
   "execution_count": 43,
   "metadata": {
    "vscode": {
     "languageId": "r"
    }
   },
   "outputs": [
    {
     "data": {
      "text/plain": [
       "\n",
       "Healthy_ovary        tumour \n",
       "         1457          6342 "
      ]
     },
     "metadata": {},
     "output_type": "display_data"
    },
    {
     "data": {
      "text/plain": [
       "\n",
       "Healthy   HGSOC \n",
       "   1457    6342 "
      ]
     },
     "metadata": {},
     "output_type": "display_data"
    },
    {
     "data": {
      "text/plain": [
       "\n",
       "Cancer1 Cancer2 Cancer3 Cancer4 Cancer5 Cancer6 Cancer7   Norm1   Norm2   Norm3 \n",
       "   2298    1080     577     792     695     652     248      54     281     360 \n",
       "  Norm4   Norm5 \n",
       "    193     569 "
      ]
     },
     "metadata": {},
     "output_type": "display_data"
    },
    {
     "data": {
      "text/plain": [
       "\n",
       "GSE184880_Healthy_Norm1 GSE184880_Healthy_Norm2 GSE184880_Healthy_Norm3 \n",
       "                     54                     281                     360 \n",
       "GSE184880_Healthy_Norm4 GSE184880_Healthy_Norm5 GSE184880_HGSOC_Cancer1 \n",
       "                    193                     569                    2298 \n",
       "GSE184880_HGSOC_Cancer2 GSE184880_HGSOC_Cancer3 GSE184880_HGSOC_Cancer4 \n",
       "                   1080                     577                     792 \n",
       "GSE184880_HGSOC_Cancer5 GSE184880_HGSOC_Cancer6 GSE184880_HGSOC_Cancer7 \n",
       "                    695                     652                     248 "
      ]
     },
     "metadata": {},
     "output_type": "display_data"
    }
   ],
   "source": [
    "table(HGSOC$sample_type)\n",
    "table(HGSOC$cancer_type)\n",
    "table(HGSOC$patient_id)\n",
    "table(HGSOC$sample_id)"
   ]
  },
  {
   "cell_type": "code",
   "execution_count": 44,
   "metadata": {
    "vscode": {
     "languageId": "r"
    }
   },
   "outputs": [],
   "source": [
    "#set site metadata\n",
    "HGSOC@meta.data$site <- \"ovary\""
   ]
  },
  {
   "cell_type": "code",
   "execution_count": 45,
   "metadata": {
    "vscode": {
     "languageId": "r"
    }
   },
   "outputs": [],
   "source": [
    "#set subtype metadata\n",
    "\n",
    "#split by cancer_type\n",
    "HGSOC_tumour <- subset(HGSOC, subset = cancer_type %in% c(\"HGSOC\"))\n",
    "HGSOC_healthy <- subset(HGSOC, subset = cancer_type %in% c(\"Healthy\"))\n",
    "\n",
    "HGSOC_tumour@meta.data$cancer_subtype <- \"HGSOC\"\n",
    "HGSOC_healthy@meta.data$cancer_subtype <- \"NA\"\n",
    "\n",
    "HGSOC_tumour@meta.data$sample_type_major <- \"primary tumour\"\n",
    "HGSOC_healthy@meta.data$sample_type_major <- \"healthy\"\n",
    "\n",
    "#Merge seurat objects back together\n",
    "HGSOC <- merge(HGSOC_tumour, y = c(HGSOC_healthy), project = \"GSE184880\")"
   ]
  },
  {
   "cell_type": "code",
   "execution_count": 46,
   "metadata": {
    "vscode": {
     "languageId": "r"
    }
   },
   "outputs": [],
   "source": [
    "#set integration_id metadata\n",
    "HGSOC@meta.data$integration_id <- HGSOC@meta.data$sample_id"
   ]
  },
  {
   "cell_type": "code",
   "execution_count": 47,
   "metadata": {
    "vscode": {
     "languageId": "r"
    }
   },
   "outputs": [
    {
     "data": {
      "text/plain": [
       "An object of class Seurat \n",
       "27984 features across 7799 samples within 1 assay \n",
       "Active assay: RNA (27984 features, 2000 variable features)\n",
       " 26 layers present: counts.1.1, counts.10.2, counts.11.2, counts.12.2, counts.2.1, counts.3.1, counts.4.1, counts.5.1, counts.6.1, counts.7.1, data.1.1, data.2.1, data.3.1, data.4.1, data.5.1, data.6.1, data.7.1, scale.data.1, counts.8.2, counts.9.2, data.8.2, data.9.2, data.10.2, data.11.2, data.12.2, scale.data.2"
      ]
     },
     "metadata": {},
     "output_type": "display_data"
    },
    {
     "data": {
      "text/html": [
       "'GSE184880'"
      ],
      "text/latex": [
       "'GSE184880'"
      ],
      "text/markdown": [
       "'GSE184880'"
      ],
      "text/plain": [
       "[1] \"GSE184880\""
      ]
     },
     "metadata": {},
     "output_type": "display_data"
    },
    {
     "data": {
      "text/html": [
       "<table class=\"dataframe\">\n",
       "<caption>A data.frame: 6 × 14</caption>\n",
       "<thead>\n",
       "\t<tr><th></th><th scope=col>orig.ident</th><th scope=col>nCount_RNA</th><th scope=col>nFeature_RNA</th><th scope=col>sample_type</th><th scope=col>cancer_type</th><th scope=col>patient_id</th><th scope=col>sample_id</th><th scope=col>percent.mt</th><th scope=col>RNA_snn_res.0.2</th><th scope=col>seurat_clusters</th><th scope=col>site</th><th scope=col>cancer_subtype</th><th scope=col>sample_type_major</th><th scope=col>integration_id</th></tr>\n",
       "\t<tr><th></th><th scope=col>&lt;chr&gt;</th><th scope=col>&lt;dbl&gt;</th><th scope=col>&lt;int&gt;</th><th scope=col>&lt;chr&gt;</th><th scope=col>&lt;chr&gt;</th><th scope=col>&lt;chr&gt;</th><th scope=col>&lt;chr&gt;</th><th scope=col>&lt;dbl&gt;</th><th scope=col>&lt;chr&gt;</th><th scope=col>&lt;chr&gt;</th><th scope=col>&lt;chr&gt;</th><th scope=col>&lt;chr&gt;</th><th scope=col>&lt;chr&gt;</th><th scope=col>&lt;chr&gt;</th></tr>\n",
       "</thead>\n",
       "<tbody>\n",
       "\t<tr><th scope=row>GSE184880_Cancer1_AAACCCACAGCTGCCA-1</th><td>GSE184880</td><td> 9374</td><td>2655</td><td>tumour</td><td>HGSOC</td><td>Cancer1</td><td>GSE184880_HGSOC_Cancer1</td><td>15.980371</td><td>1</td><td>1</td><td>ovary</td><td>HGSOC</td><td>primary tumour</td><td>GSE184880_HGSOC_Cancer1</td></tr>\n",
       "\t<tr><th scope=row>GSE184880_Cancer1_AAACCCACATGACGGA-1</th><td>GSE184880</td><td> 2659</td><td>1246</td><td>tumour</td><td>HGSOC</td><td>Cancer1</td><td>GSE184880_HGSOC_Cancer1</td><td> 8.837909</td><td>1</td><td>1</td><td>ovary</td><td>HGSOC</td><td>primary tumour</td><td>GSE184880_HGSOC_Cancer1</td></tr>\n",
       "\t<tr><th scope=row>GSE184880_Cancer1_AAACGAACAGTAGTGG-1</th><td>GSE184880</td><td> 3020</td><td>1206</td><td>tumour</td><td>HGSOC</td><td>Cancer1</td><td>GSE184880_HGSOC_Cancer1</td><td>13.807947</td><td>1</td><td>1</td><td>ovary</td><td>HGSOC</td><td>primary tumour</td><td>GSE184880_HGSOC_Cancer1</td></tr>\n",
       "\t<tr><th scope=row>GSE184880_Cancer1_AAACGAATCACCCTCA-1</th><td>GSE184880</td><td>50940</td><td>6660</td><td>tumour</td><td>HGSOC</td><td>Cancer1</td><td>GSE184880_HGSOC_Cancer1</td><td> 8.531606</td><td>1</td><td>1</td><td>ovary</td><td>HGSOC</td><td>primary tumour</td><td>GSE184880_HGSOC_Cancer1</td></tr>\n",
       "\t<tr><th scope=row>GSE184880_Cancer1_AAACGCTTCTCCACTG-1</th><td>GSE184880</td><td>10129</td><td>2880</td><td>tumour</td><td>HGSOC</td><td>Cancer1</td><td>GSE184880_HGSOC_Cancer1</td><td>11.225195</td><td>1</td><td>1</td><td>ovary</td><td>HGSOC</td><td>primary tumour</td><td>GSE184880_HGSOC_Cancer1</td></tr>\n",
       "\t<tr><th scope=row>GSE184880_Cancer1_AAACGCTTCTGCTCTG-1</th><td>GSE184880</td><td>12756</td><td>3352</td><td>tumour</td><td>HGSOC</td><td>Cancer1</td><td>GSE184880_HGSOC_Cancer1</td><td> 9.321104</td><td>1</td><td>1</td><td>ovary</td><td>HGSOC</td><td>primary tumour</td><td>GSE184880_HGSOC_Cancer1</td></tr>\n",
       "</tbody>\n",
       "</table>\n"
      ],
      "text/latex": [
       "A data.frame: 6 × 14\n",
       "\\begin{tabular}{r|llllllllllllll}\n",
       "  & orig.ident & nCount\\_RNA & nFeature\\_RNA & sample\\_type & cancer\\_type & patient\\_id & sample\\_id & percent.mt & RNA\\_snn\\_res.0.2 & seurat\\_clusters & site & cancer\\_subtype & sample\\_type\\_major & integration\\_id\\\\\n",
       "  & <chr> & <dbl> & <int> & <chr> & <chr> & <chr> & <chr> & <dbl> & <chr> & <chr> & <chr> & <chr> & <chr> & <chr>\\\\\n",
       "\\hline\n",
       "\tGSE184880\\_Cancer1\\_AAACCCACAGCTGCCA-1 & GSE184880 &  9374 & 2655 & tumour & HGSOC & Cancer1 & GSE184880\\_HGSOC\\_Cancer1 & 15.980371 & 1 & 1 & ovary & HGSOC & primary tumour & GSE184880\\_HGSOC\\_Cancer1\\\\\n",
       "\tGSE184880\\_Cancer1\\_AAACCCACATGACGGA-1 & GSE184880 &  2659 & 1246 & tumour & HGSOC & Cancer1 & GSE184880\\_HGSOC\\_Cancer1 &  8.837909 & 1 & 1 & ovary & HGSOC & primary tumour & GSE184880\\_HGSOC\\_Cancer1\\\\\n",
       "\tGSE184880\\_Cancer1\\_AAACGAACAGTAGTGG-1 & GSE184880 &  3020 & 1206 & tumour & HGSOC & Cancer1 & GSE184880\\_HGSOC\\_Cancer1 & 13.807947 & 1 & 1 & ovary & HGSOC & primary tumour & GSE184880\\_HGSOC\\_Cancer1\\\\\n",
       "\tGSE184880\\_Cancer1\\_AAACGAATCACCCTCA-1 & GSE184880 & 50940 & 6660 & tumour & HGSOC & Cancer1 & GSE184880\\_HGSOC\\_Cancer1 &  8.531606 & 1 & 1 & ovary & HGSOC & primary tumour & GSE184880\\_HGSOC\\_Cancer1\\\\\n",
       "\tGSE184880\\_Cancer1\\_AAACGCTTCTCCACTG-1 & GSE184880 & 10129 & 2880 & tumour & HGSOC & Cancer1 & GSE184880\\_HGSOC\\_Cancer1 & 11.225195 & 1 & 1 & ovary & HGSOC & primary tumour & GSE184880\\_HGSOC\\_Cancer1\\\\\n",
       "\tGSE184880\\_Cancer1\\_AAACGCTTCTGCTCTG-1 & GSE184880 & 12756 & 3352 & tumour & HGSOC & Cancer1 & GSE184880\\_HGSOC\\_Cancer1 &  9.321104 & 1 & 1 & ovary & HGSOC & primary tumour & GSE184880\\_HGSOC\\_Cancer1\\\\\n",
       "\\end{tabular}\n"
      ],
      "text/markdown": [
       "\n",
       "A data.frame: 6 × 14\n",
       "\n",
       "| <!--/--> | orig.ident &lt;chr&gt; | nCount_RNA &lt;dbl&gt; | nFeature_RNA &lt;int&gt; | sample_type &lt;chr&gt; | cancer_type &lt;chr&gt; | patient_id &lt;chr&gt; | sample_id &lt;chr&gt; | percent.mt &lt;dbl&gt; | RNA_snn_res.0.2 &lt;chr&gt; | seurat_clusters &lt;chr&gt; | site &lt;chr&gt; | cancer_subtype &lt;chr&gt; | sample_type_major &lt;chr&gt; | integration_id &lt;chr&gt; |\n",
       "|---|---|---|---|---|---|---|---|---|---|---|---|---|---|---|\n",
       "| GSE184880_Cancer1_AAACCCACAGCTGCCA-1 | GSE184880 |  9374 | 2655 | tumour | HGSOC | Cancer1 | GSE184880_HGSOC_Cancer1 | 15.980371 | 1 | 1 | ovary | HGSOC | primary tumour | GSE184880_HGSOC_Cancer1 |\n",
       "| GSE184880_Cancer1_AAACCCACATGACGGA-1 | GSE184880 |  2659 | 1246 | tumour | HGSOC | Cancer1 | GSE184880_HGSOC_Cancer1 |  8.837909 | 1 | 1 | ovary | HGSOC | primary tumour | GSE184880_HGSOC_Cancer1 |\n",
       "| GSE184880_Cancer1_AAACGAACAGTAGTGG-1 | GSE184880 |  3020 | 1206 | tumour | HGSOC | Cancer1 | GSE184880_HGSOC_Cancer1 | 13.807947 | 1 | 1 | ovary | HGSOC | primary tumour | GSE184880_HGSOC_Cancer1 |\n",
       "| GSE184880_Cancer1_AAACGAATCACCCTCA-1 | GSE184880 | 50940 | 6660 | tumour | HGSOC | Cancer1 | GSE184880_HGSOC_Cancer1 |  8.531606 | 1 | 1 | ovary | HGSOC | primary tumour | GSE184880_HGSOC_Cancer1 |\n",
       "| GSE184880_Cancer1_AAACGCTTCTCCACTG-1 | GSE184880 | 10129 | 2880 | tumour | HGSOC | Cancer1 | GSE184880_HGSOC_Cancer1 | 11.225195 | 1 | 1 | ovary | HGSOC | primary tumour | GSE184880_HGSOC_Cancer1 |\n",
       "| GSE184880_Cancer1_AAACGCTTCTGCTCTG-1 | GSE184880 | 12756 | 3352 | tumour | HGSOC | Cancer1 | GSE184880_HGSOC_Cancer1 |  9.321104 | 1 | 1 | ovary | HGSOC | primary tumour | GSE184880_HGSOC_Cancer1 |\n",
       "\n"
      ],
      "text/plain": [
       "                                     orig.ident nCount_RNA nFeature_RNA\n",
       "GSE184880_Cancer1_AAACCCACAGCTGCCA-1 GSE184880   9374      2655        \n",
       "GSE184880_Cancer1_AAACCCACATGACGGA-1 GSE184880   2659      1246        \n",
       "GSE184880_Cancer1_AAACGAACAGTAGTGG-1 GSE184880   3020      1206        \n",
       "GSE184880_Cancer1_AAACGAATCACCCTCA-1 GSE184880  50940      6660        \n",
       "GSE184880_Cancer1_AAACGCTTCTCCACTG-1 GSE184880  10129      2880        \n",
       "GSE184880_Cancer1_AAACGCTTCTGCTCTG-1 GSE184880  12756      3352        \n",
       "                                     sample_type cancer_type patient_id\n",
       "GSE184880_Cancer1_AAACCCACAGCTGCCA-1 tumour      HGSOC       Cancer1   \n",
       "GSE184880_Cancer1_AAACCCACATGACGGA-1 tumour      HGSOC       Cancer1   \n",
       "GSE184880_Cancer1_AAACGAACAGTAGTGG-1 tumour      HGSOC       Cancer1   \n",
       "GSE184880_Cancer1_AAACGAATCACCCTCA-1 tumour      HGSOC       Cancer1   \n",
       "GSE184880_Cancer1_AAACGCTTCTCCACTG-1 tumour      HGSOC       Cancer1   \n",
       "GSE184880_Cancer1_AAACGCTTCTGCTCTG-1 tumour      HGSOC       Cancer1   \n",
       "                                     sample_id               percent.mt\n",
       "GSE184880_Cancer1_AAACCCACAGCTGCCA-1 GSE184880_HGSOC_Cancer1 15.980371 \n",
       "GSE184880_Cancer1_AAACCCACATGACGGA-1 GSE184880_HGSOC_Cancer1  8.837909 \n",
       "GSE184880_Cancer1_AAACGAACAGTAGTGG-1 GSE184880_HGSOC_Cancer1 13.807947 \n",
       "GSE184880_Cancer1_AAACGAATCACCCTCA-1 GSE184880_HGSOC_Cancer1  8.531606 \n",
       "GSE184880_Cancer1_AAACGCTTCTCCACTG-1 GSE184880_HGSOC_Cancer1 11.225195 \n",
       "GSE184880_Cancer1_AAACGCTTCTGCTCTG-1 GSE184880_HGSOC_Cancer1  9.321104 \n",
       "                                     RNA_snn_res.0.2 seurat_clusters site \n",
       "GSE184880_Cancer1_AAACCCACAGCTGCCA-1 1               1               ovary\n",
       "GSE184880_Cancer1_AAACCCACATGACGGA-1 1               1               ovary\n",
       "GSE184880_Cancer1_AAACGAACAGTAGTGG-1 1               1               ovary\n",
       "GSE184880_Cancer1_AAACGAATCACCCTCA-1 1               1               ovary\n",
       "GSE184880_Cancer1_AAACGCTTCTCCACTG-1 1               1               ovary\n",
       "GSE184880_Cancer1_AAACGCTTCTGCTCTG-1 1               1               ovary\n",
       "                                     cancer_subtype sample_type_major\n",
       "GSE184880_Cancer1_AAACCCACAGCTGCCA-1 HGSOC          primary tumour   \n",
       "GSE184880_Cancer1_AAACCCACATGACGGA-1 HGSOC          primary tumour   \n",
       "GSE184880_Cancer1_AAACGAACAGTAGTGG-1 HGSOC          primary tumour   \n",
       "GSE184880_Cancer1_AAACGAATCACCCTCA-1 HGSOC          primary tumour   \n",
       "GSE184880_Cancer1_AAACGCTTCTCCACTG-1 HGSOC          primary tumour   \n",
       "GSE184880_Cancer1_AAACGCTTCTGCTCTG-1 HGSOC          primary tumour   \n",
       "                                     integration_id         \n",
       "GSE184880_Cancer1_AAACCCACAGCTGCCA-1 GSE184880_HGSOC_Cancer1\n",
       "GSE184880_Cancer1_AAACCCACATGACGGA-1 GSE184880_HGSOC_Cancer1\n",
       "GSE184880_Cancer1_AAACGAACAGTAGTGG-1 GSE184880_HGSOC_Cancer1\n",
       "GSE184880_Cancer1_AAACGAATCACCCTCA-1 GSE184880_HGSOC_Cancer1\n",
       "GSE184880_Cancer1_AAACGCTTCTCCACTG-1 GSE184880_HGSOC_Cancer1\n",
       "GSE184880_Cancer1_AAACGCTTCTGCTCTG-1 GSE184880_HGSOC_Cancer1"
      ]
     },
     "metadata": {},
     "output_type": "display_data"
    }
   ],
   "source": [
    "HGSOC\n",
    "HGSOC@project.name\n",
    "head(HGSOC@meta.data)"
   ]
  },
  {
   "cell_type": "code",
   "execution_count": 48,
   "metadata": {
    "vscode": {
     "languageId": "r"
    }
   },
   "outputs": [
    {
     "data": {
      "text/plain": [
       "\n",
       "GSE184880_Healthy_Norm1 GSE184880_Healthy_Norm2 GSE184880_Healthy_Norm3 \n",
       "                     54                     281                     360 \n",
       "GSE184880_Healthy_Norm4 GSE184880_Healthy_Norm5 GSE184880_HGSOC_Cancer1 \n",
       "                    193                     569                    2298 \n",
       "GSE184880_HGSOC_Cancer2 GSE184880_HGSOC_Cancer3 GSE184880_HGSOC_Cancer4 \n",
       "                   1080                     577                     792 \n",
       "GSE184880_HGSOC_Cancer5 GSE184880_HGSOC_Cancer6 GSE184880_HGSOC_Cancer7 \n",
       "                    695                     652                     248 "
      ]
     },
     "metadata": {},
     "output_type": "display_data"
    },
    {
     "data": {
      "text/plain": [
       "\n",
       "GSE184880_Healthy_Norm2 GSE184880_Healthy_Norm3 GSE184880_Healthy_Norm4 \n",
       "                    281                     360                     193 \n",
       "GSE184880_Healthy_Norm5 GSE184880_HGSOC_Cancer1 GSE184880_HGSOC_Cancer2 \n",
       "                    569                    2298                    1080 \n",
       "GSE184880_HGSOC_Cancer3 GSE184880_HGSOC_Cancer4 GSE184880_HGSOC_Cancer5 \n",
       "                    577                     792                     695 \n",
       "GSE184880_HGSOC_Cancer6 GSE184880_HGSOC_Cancer7 \n",
       "                    652                     248 "
      ]
     },
     "metadata": {},
     "output_type": "display_data"
    }
   ],
   "source": [
    "#exclude any samples with <100 cells\n",
    "table(HGSOC$integration_id)\n",
    "#exclude Norm1\n",
    "HGSOC <- subset(HGSOC, !(subset = integration_id %in% c(\"GSE184880_Healthy_Norm1\")))\n",
    "table(HGSOC$integration_id)"
   ]
  },
  {
   "cell_type": "code",
   "execution_count": 49,
   "metadata": {
    "vscode": {
     "languageId": "r"
    }
   },
   "outputs": [
    {
     "data": {
      "text/html": [
       "<style>\n",
       ".list-inline {list-style: none; margin:0; padding: 0}\n",
       ".list-inline>li {display: inline-block}\n",
       ".list-inline>li:not(:last-child)::after {content: \"\\00b7\"; padding: 0 .5ex}\n",
       "</style>\n",
       "<ol class=list-inline><li>'counts.1.1'</li><li>'counts.10.2'</li><li>'counts.11.2'</li><li>'counts.12.2'</li><li>'counts.2.1'</li><li>'counts.3.1'</li><li>'counts.4.1'</li><li>'counts.5.1'</li><li>'counts.6.1'</li><li>'counts.7.1'</li><li>'data.1.1'</li><li>'data.2.1'</li><li>'data.3.1'</li><li>'data.4.1'</li><li>'data.5.1'</li><li>'data.6.1'</li><li>'data.7.1'</li><li>'scale.data.1'</li><li>'counts.9.2'</li><li>'data.9.2'</li><li>'data.10.2'</li><li>'data.11.2'</li><li>'data.12.2'</li><li>'scale.data.2'</li></ol>\n"
      ],
      "text/latex": [
       "\\begin{enumerate*}\n",
       "\\item 'counts.1.1'\n",
       "\\item 'counts.10.2'\n",
       "\\item 'counts.11.2'\n",
       "\\item 'counts.12.2'\n",
       "\\item 'counts.2.1'\n",
       "\\item 'counts.3.1'\n",
       "\\item 'counts.4.1'\n",
       "\\item 'counts.5.1'\n",
       "\\item 'counts.6.1'\n",
       "\\item 'counts.7.1'\n",
       "\\item 'data.1.1'\n",
       "\\item 'data.2.1'\n",
       "\\item 'data.3.1'\n",
       "\\item 'data.4.1'\n",
       "\\item 'data.5.1'\n",
       "\\item 'data.6.1'\n",
       "\\item 'data.7.1'\n",
       "\\item 'scale.data.1'\n",
       "\\item 'counts.9.2'\n",
       "\\item 'data.9.2'\n",
       "\\item 'data.10.2'\n",
       "\\item 'data.11.2'\n",
       "\\item 'data.12.2'\n",
       "\\item 'scale.data.2'\n",
       "\\end{enumerate*}\n"
      ],
      "text/markdown": [
       "1. 'counts.1.1'\n",
       "2. 'counts.10.2'\n",
       "3. 'counts.11.2'\n",
       "4. 'counts.12.2'\n",
       "5. 'counts.2.1'\n",
       "6. 'counts.3.1'\n",
       "7. 'counts.4.1'\n",
       "8. 'counts.5.1'\n",
       "9. 'counts.6.1'\n",
       "10. 'counts.7.1'\n",
       "11. 'data.1.1'\n",
       "12. 'data.2.1'\n",
       "13. 'data.3.1'\n",
       "14. 'data.4.1'\n",
       "15. 'data.5.1'\n",
       "16. 'data.6.1'\n",
       "17. 'data.7.1'\n",
       "18. 'scale.data.1'\n",
       "19. 'counts.9.2'\n",
       "20. 'data.9.2'\n",
       "21. 'data.10.2'\n",
       "22. 'data.11.2'\n",
       "23. 'data.12.2'\n",
       "24. 'scale.data.2'\n",
       "\n",
       "\n"
      ],
      "text/plain": [
       " [1] \"counts.1.1\"   \"counts.10.2\"  \"counts.11.2\"  \"counts.12.2\"  \"counts.2.1\"  \n",
       " [6] \"counts.3.1\"   \"counts.4.1\"   \"counts.5.1\"   \"counts.6.1\"   \"counts.7.1\"  \n",
       "[11] \"data.1.1\"     \"data.2.1\"     \"data.3.1\"     \"data.4.1\"     \"data.5.1\"    \n",
       "[16] \"data.6.1\"     \"data.7.1\"     \"scale.data.1\" \"counts.9.2\"   \"data.9.2\"    \n",
       "[21] \"data.10.2\"    \"data.11.2\"    \"data.12.2\"    \"scale.data.2\""
      ]
     },
     "metadata": {},
     "output_type": "display_data"
    },
    {
     "data": {
      "text/html": [
       "<style>\n",
       ".list-inline {list-style: none; margin:0; padding: 0}\n",
       ".list-inline>li {display: inline-block}\n",
       ".list-inline>li:not(:last-child)::after {content: \"\\00b7\"; padding: 0 .5ex}\n",
       "</style>\n",
       "<ol class=list-inline><li>'scale.data'</li><li>'data'</li><li>'counts'</li></ol>\n"
      ],
      "text/latex": [
       "\\begin{enumerate*}\n",
       "\\item 'scale.data'\n",
       "\\item 'data'\n",
       "\\item 'counts'\n",
       "\\end{enumerate*}\n"
      ],
      "text/markdown": [
       "1. 'scale.data'\n",
       "2. 'data'\n",
       "3. 'counts'\n",
       "\n",
       "\n"
      ],
      "text/plain": [
       "[1] \"scale.data\" \"data\"       \"counts\"    "
      ]
     },
     "metadata": {},
     "output_type": "display_data"
    },
    {
     "name": "stderr",
     "output_type": "stream",
     "text": [
      "Splitting ‘counts’, ‘data’ layers. Not splitting ‘scale.data’. If you would like to split other layers, set in `layers` argument.\n",
      "\n"
     ]
    },
    {
     "data": {
      "text/html": [
       "<style>\n",
       ".list-inline {list-style: none; margin:0; padding: 0}\n",
       ".list-inline>li {display: inline-block}\n",
       ".list-inline>li:not(:last-child)::after {content: \"\\00b7\"; padding: 0 .5ex}\n",
       "</style>\n",
       "<ol class=list-inline><li>'counts.GSE184880_HGSOC_Cancer1'</li><li>'counts.GSE184880_HGSOC_Cancer2'</li><li>'counts.GSE184880_HGSOC_Cancer3'</li><li>'counts.GSE184880_HGSOC_Cancer4'</li><li>'counts.GSE184880_HGSOC_Cancer5'</li><li>'counts.GSE184880_HGSOC_Cancer6'</li><li>'counts.GSE184880_HGSOC_Cancer7'</li><li>'counts.GSE184880_Healthy_Norm2'</li><li>'counts.GSE184880_Healthy_Norm3'</li><li>'counts.GSE184880_Healthy_Norm4'</li><li>'counts.GSE184880_Healthy_Norm5'</li><li>'scale.data'</li><li>'data.GSE184880_HGSOC_Cancer1'</li><li>'data.GSE184880_HGSOC_Cancer2'</li><li>'data.GSE184880_HGSOC_Cancer3'</li><li>'data.GSE184880_HGSOC_Cancer4'</li><li>'data.GSE184880_HGSOC_Cancer5'</li><li>'data.GSE184880_HGSOC_Cancer6'</li><li>'data.GSE184880_HGSOC_Cancer7'</li><li>'data.GSE184880_Healthy_Norm2'</li><li>'data.GSE184880_Healthy_Norm3'</li><li>'data.GSE184880_Healthy_Norm4'</li><li>'data.GSE184880_Healthy_Norm5'</li></ol>\n"
      ],
      "text/latex": [
       "\\begin{enumerate*}\n",
       "\\item 'counts.GSE184880\\_HGSOC\\_Cancer1'\n",
       "\\item 'counts.GSE184880\\_HGSOC\\_Cancer2'\n",
       "\\item 'counts.GSE184880\\_HGSOC\\_Cancer3'\n",
       "\\item 'counts.GSE184880\\_HGSOC\\_Cancer4'\n",
       "\\item 'counts.GSE184880\\_HGSOC\\_Cancer5'\n",
       "\\item 'counts.GSE184880\\_HGSOC\\_Cancer6'\n",
       "\\item 'counts.GSE184880\\_HGSOC\\_Cancer7'\n",
       "\\item 'counts.GSE184880\\_Healthy\\_Norm2'\n",
       "\\item 'counts.GSE184880\\_Healthy\\_Norm3'\n",
       "\\item 'counts.GSE184880\\_Healthy\\_Norm4'\n",
       "\\item 'counts.GSE184880\\_Healthy\\_Norm5'\n",
       "\\item 'scale.data'\n",
       "\\item 'data.GSE184880\\_HGSOC\\_Cancer1'\n",
       "\\item 'data.GSE184880\\_HGSOC\\_Cancer2'\n",
       "\\item 'data.GSE184880\\_HGSOC\\_Cancer3'\n",
       "\\item 'data.GSE184880\\_HGSOC\\_Cancer4'\n",
       "\\item 'data.GSE184880\\_HGSOC\\_Cancer5'\n",
       "\\item 'data.GSE184880\\_HGSOC\\_Cancer6'\n",
       "\\item 'data.GSE184880\\_HGSOC\\_Cancer7'\n",
       "\\item 'data.GSE184880\\_Healthy\\_Norm2'\n",
       "\\item 'data.GSE184880\\_Healthy\\_Norm3'\n",
       "\\item 'data.GSE184880\\_Healthy\\_Norm4'\n",
       "\\item 'data.GSE184880\\_Healthy\\_Norm5'\n",
       "\\end{enumerate*}\n"
      ],
      "text/markdown": [
       "1. 'counts.GSE184880_HGSOC_Cancer1'\n",
       "2. 'counts.GSE184880_HGSOC_Cancer2'\n",
       "3. 'counts.GSE184880_HGSOC_Cancer3'\n",
       "4. 'counts.GSE184880_HGSOC_Cancer4'\n",
       "5. 'counts.GSE184880_HGSOC_Cancer5'\n",
       "6. 'counts.GSE184880_HGSOC_Cancer6'\n",
       "7. 'counts.GSE184880_HGSOC_Cancer7'\n",
       "8. 'counts.GSE184880_Healthy_Norm2'\n",
       "9. 'counts.GSE184880_Healthy_Norm3'\n",
       "10. 'counts.GSE184880_Healthy_Norm4'\n",
       "11. 'counts.GSE184880_Healthy_Norm5'\n",
       "12. 'scale.data'\n",
       "13. 'data.GSE184880_HGSOC_Cancer1'\n",
       "14. 'data.GSE184880_HGSOC_Cancer2'\n",
       "15. 'data.GSE184880_HGSOC_Cancer3'\n",
       "16. 'data.GSE184880_HGSOC_Cancer4'\n",
       "17. 'data.GSE184880_HGSOC_Cancer5'\n",
       "18. 'data.GSE184880_HGSOC_Cancer6'\n",
       "19. 'data.GSE184880_HGSOC_Cancer7'\n",
       "20. 'data.GSE184880_Healthy_Norm2'\n",
       "21. 'data.GSE184880_Healthy_Norm3'\n",
       "22. 'data.GSE184880_Healthy_Norm4'\n",
       "23. 'data.GSE184880_Healthy_Norm5'\n",
       "\n",
       "\n"
      ],
      "text/plain": [
       " [1] \"counts.GSE184880_HGSOC_Cancer1\" \"counts.GSE184880_HGSOC_Cancer2\"\n",
       " [3] \"counts.GSE184880_HGSOC_Cancer3\" \"counts.GSE184880_HGSOC_Cancer4\"\n",
       " [5] \"counts.GSE184880_HGSOC_Cancer5\" \"counts.GSE184880_HGSOC_Cancer6\"\n",
       " [7] \"counts.GSE184880_HGSOC_Cancer7\" \"counts.GSE184880_Healthy_Norm2\"\n",
       " [9] \"counts.GSE184880_Healthy_Norm3\" \"counts.GSE184880_Healthy_Norm4\"\n",
       "[11] \"counts.GSE184880_Healthy_Norm5\" \"scale.data\"                    \n",
       "[13] \"data.GSE184880_HGSOC_Cancer1\"   \"data.GSE184880_HGSOC_Cancer2\"  \n",
       "[15] \"data.GSE184880_HGSOC_Cancer3\"   \"data.GSE184880_HGSOC_Cancer4\"  \n",
       "[17] \"data.GSE184880_HGSOC_Cancer5\"   \"data.GSE184880_HGSOC_Cancer6\"  \n",
       "[19] \"data.GSE184880_HGSOC_Cancer7\"   \"data.GSE184880_Healthy_Norm2\"  \n",
       "[21] \"data.GSE184880_Healthy_Norm3\"   \"data.GSE184880_Healthy_Norm4\"  \n",
       "[23] \"data.GSE184880_Healthy_Norm5\"  "
      ]
     },
     "metadata": {},
     "output_type": "display_data"
    }
   ],
   "source": [
    "#join layers and then split them by integration_id\n",
    "Layers(HGSOC[[\"RNA\"]])\n",
    "#join layers\n",
    "HGSOC[[\"RNA\"]] <- JoinLayers(HGSOC[[\"RNA\"]])\n",
    "Layers(HGSOC[[\"RNA\"]])\n",
    "#split layers\n",
    "HGSOC[[\"RNA\"]] <- split(HGSOC[[\"RNA\"]], f = HGSOC$integration_id)\n",
    "Layers(HGSOC[[\"RNA\"]])\n"
   ]
  },
  {
   "cell_type": "code",
   "execution_count": 50,
   "metadata": {
    "vscode": {
     "languageId": "r"
    }
   },
   "outputs": [
    {
     "data": {
      "text/plain": [
       "\n",
       "GSE184880_Healthy_Norm2 GSE184880_Healthy_Norm3 GSE184880_Healthy_Norm4 \n",
       "                    281                     360                     193 \n",
       "GSE184880_Healthy_Norm5 GSE184880_HGSOC_Cancer1 GSE184880_HGSOC_Cancer2 \n",
       "                    569                    2298                    1080 \n",
       "GSE184880_HGSOC_Cancer3 GSE184880_HGSOC_Cancer4 GSE184880_HGSOC_Cancer5 \n",
       "                    577                     792                     695 \n",
       "GSE184880_HGSOC_Cancer6 GSE184880_HGSOC_Cancer7 \n",
       "                    652                     248 "
      ]
     },
     "metadata": {},
     "output_type": "display_data"
    }
   ],
   "source": [
    "#record number of cells\n",
    "table(HGSOC$integration_id)"
   ]
  },
  {
   "cell_type": "code",
   "execution_count": 51,
   "metadata": {
    "vscode": {
     "languageId": "r"
    }
   },
   "outputs": [],
   "source": [
    "#re-export seurat object ready for integration\n",
    "saveRDS(HGSOC, \"/scratch/user/s4436039/scdata/Myeloid_Cells/Myeloid_Cells_Integrate/GSE184880_myeloid_int.RDS\")"
   ]
  },
  {
   "cell_type": "code",
   "execution_count": 52,
   "metadata": {
    "vscode": {
     "languageId": "r"
    }
   },
   "outputs": [],
   "source": [
    "#remove all objects in R\n",
    "rm(list = ls())"
   ]
  },
  {
   "cell_type": "markdown",
   "metadata": {},
   "source": [
    "## GSE213243"
   ]
  },
  {
   "cell_type": "code",
   "execution_count": 53,
   "metadata": {
    "vscode": {
     "languageId": "r"
    }
   },
   "outputs": [],
   "source": [
    "HGSOC_tu <- readRDS(\"/scratch/user/s4436039/scdata/Myeloid_Cells/GSE213243_Tumour_myeloid.RDS\")\n",
    "HGSOC_As <- readRDS(\"/scratch/user/s4436039/scdata/Myeloid_Cells/GSE213243_Ascites_myeloid.RDS\")"
   ]
  },
  {
   "cell_type": "code",
   "execution_count": 54,
   "metadata": {
    "vscode": {
     "languageId": "r"
    }
   },
   "outputs": [
    {
     "data": {
      "text/plain": [
       "An object of class Seurat \n",
       "58825 features across 804 samples within 1 assay \n",
       "Active assay: RNA (58825 features, 2000 variable features)\n",
       " 3 layers present: counts, data, scale.data\n",
       " 2 dimensional reductions calculated: pca, umap"
      ]
     },
     "metadata": {},
     "output_type": "display_data"
    },
    {
     "data": {
      "text/html": [
       "'GSE213243'"
      ],
      "text/latex": [
       "'GSE213243'"
      ],
      "text/markdown": [
       "'GSE213243'"
      ],
      "text/plain": [
       "[1] \"GSE213243\""
      ]
     },
     "metadata": {},
     "output_type": "display_data"
    },
    {
     "data": {
      "text/html": [
       "<table class=\"dataframe\">\n",
       "<caption>A data.frame: 6 × 10</caption>\n",
       "<thead>\n",
       "\t<tr><th></th><th scope=col>orig.ident</th><th scope=col>nCount_RNA</th><th scope=col>nFeature_RNA</th><th scope=col>sample_type</th><th scope=col>cancer_type</th><th scope=col>patient_id</th><th scope=col>sample_id</th><th scope=col>percent.mt</th><th scope=col>RNA_snn_res.0.5</th><th scope=col>seurat_clusters</th></tr>\n",
       "\t<tr><th></th><th scope=col>&lt;fct&gt;</th><th scope=col>&lt;dbl&gt;</th><th scope=col>&lt;int&gt;</th><th scope=col>&lt;chr&gt;</th><th scope=col>&lt;chr&gt;</th><th scope=col>&lt;chr&gt;</th><th scope=col>&lt;chr&gt;</th><th scope=col>&lt;dbl&gt;</th><th scope=col>&lt;fct&gt;</th><th scope=col>&lt;fct&gt;</th></tr>\n",
       "</thead>\n",
       "<tbody>\n",
       "\t<tr><th scope=row>GSE213243_tumour_AAAGGTACACGCAGTC-1</th><td>GSE213243</td><td> 8050</td><td>2780</td><td>tumour</td><td>HGSOC</td><td>pt-1</td><td>GSE213243_HGSOC_tumour</td><td>19.962733</td><td>3</td><td>3</td></tr>\n",
       "\t<tr><th scope=row>GSE213243_tumour_AAATGGACACACGCCA-1</th><td>GSE213243</td><td> 5854</td><td>2467</td><td>tumour</td><td>HGSOC</td><td>pt-1</td><td>GSE213243_HGSOC_tumour</td><td> 4.936795</td><td>3</td><td>3</td></tr>\n",
       "\t<tr><th scope=row>GSE213243_tumour_AACAAAGCAATTTCCT-1</th><td>GSE213243</td><td> 6073</td><td>2541</td><td>tumour</td><td>HGSOC</td><td>pt-1</td><td>GSE213243_HGSOC_tumour</td><td> 6.323069</td><td>3</td><td>3</td></tr>\n",
       "\t<tr><th scope=row>GSE213243_tumour_AACACACGTAGCTTTG-1</th><td>GSE213243</td><td>13497</td><td>3862</td><td>tumour</td><td>HGSOC</td><td>pt-1</td><td>GSE213243_HGSOC_tumour</td><td> 5.319701</td><td>3</td><td>3</td></tr>\n",
       "\t<tr><th scope=row>GSE213243_tumour_AACACACTCGCTGTTC-1</th><td>GSE213243</td><td> 8644</td><td>3306</td><td>tumour</td><td>HGSOC</td><td>pt-1</td><td>GSE213243_HGSOC_tumour</td><td>10.596946</td><td>3</td><td>3</td></tr>\n",
       "\t<tr><th scope=row>GSE213243_tumour_AACAGGGCAACCCTAA-1</th><td>GSE213243</td><td> 6263</td><td>2562</td><td>tumour</td><td>HGSOC</td><td>pt-1</td><td>GSE213243_HGSOC_tumour</td><td> 3.544627</td><td>3</td><td>3</td></tr>\n",
       "</tbody>\n",
       "</table>\n"
      ],
      "text/latex": [
       "A data.frame: 6 × 10\n",
       "\\begin{tabular}{r|llllllllll}\n",
       "  & orig.ident & nCount\\_RNA & nFeature\\_RNA & sample\\_type & cancer\\_type & patient\\_id & sample\\_id & percent.mt & RNA\\_snn\\_res.0.5 & seurat\\_clusters\\\\\n",
       "  & <fct> & <dbl> & <int> & <chr> & <chr> & <chr> & <chr> & <dbl> & <fct> & <fct>\\\\\n",
       "\\hline\n",
       "\tGSE213243\\_tumour\\_AAAGGTACACGCAGTC-1 & GSE213243 &  8050 & 2780 & tumour & HGSOC & pt-1 & GSE213243\\_HGSOC\\_tumour & 19.962733 & 3 & 3\\\\\n",
       "\tGSE213243\\_tumour\\_AAATGGACACACGCCA-1 & GSE213243 &  5854 & 2467 & tumour & HGSOC & pt-1 & GSE213243\\_HGSOC\\_tumour &  4.936795 & 3 & 3\\\\\n",
       "\tGSE213243\\_tumour\\_AACAAAGCAATTTCCT-1 & GSE213243 &  6073 & 2541 & tumour & HGSOC & pt-1 & GSE213243\\_HGSOC\\_tumour &  6.323069 & 3 & 3\\\\\n",
       "\tGSE213243\\_tumour\\_AACACACGTAGCTTTG-1 & GSE213243 & 13497 & 3862 & tumour & HGSOC & pt-1 & GSE213243\\_HGSOC\\_tumour &  5.319701 & 3 & 3\\\\\n",
       "\tGSE213243\\_tumour\\_AACACACTCGCTGTTC-1 & GSE213243 &  8644 & 3306 & tumour & HGSOC & pt-1 & GSE213243\\_HGSOC\\_tumour & 10.596946 & 3 & 3\\\\\n",
       "\tGSE213243\\_tumour\\_AACAGGGCAACCCTAA-1 & GSE213243 &  6263 & 2562 & tumour & HGSOC & pt-1 & GSE213243\\_HGSOC\\_tumour &  3.544627 & 3 & 3\\\\\n",
       "\\end{tabular}\n"
      ],
      "text/markdown": [
       "\n",
       "A data.frame: 6 × 10\n",
       "\n",
       "| <!--/--> | orig.ident &lt;fct&gt; | nCount_RNA &lt;dbl&gt; | nFeature_RNA &lt;int&gt; | sample_type &lt;chr&gt; | cancer_type &lt;chr&gt; | patient_id &lt;chr&gt; | sample_id &lt;chr&gt; | percent.mt &lt;dbl&gt; | RNA_snn_res.0.5 &lt;fct&gt; | seurat_clusters &lt;fct&gt; |\n",
       "|---|---|---|---|---|---|---|---|---|---|---|\n",
       "| GSE213243_tumour_AAAGGTACACGCAGTC-1 | GSE213243 |  8050 | 2780 | tumour | HGSOC | pt-1 | GSE213243_HGSOC_tumour | 19.962733 | 3 | 3 |\n",
       "| GSE213243_tumour_AAATGGACACACGCCA-1 | GSE213243 |  5854 | 2467 | tumour | HGSOC | pt-1 | GSE213243_HGSOC_tumour |  4.936795 | 3 | 3 |\n",
       "| GSE213243_tumour_AACAAAGCAATTTCCT-1 | GSE213243 |  6073 | 2541 | tumour | HGSOC | pt-1 | GSE213243_HGSOC_tumour |  6.323069 | 3 | 3 |\n",
       "| GSE213243_tumour_AACACACGTAGCTTTG-1 | GSE213243 | 13497 | 3862 | tumour | HGSOC | pt-1 | GSE213243_HGSOC_tumour |  5.319701 | 3 | 3 |\n",
       "| GSE213243_tumour_AACACACTCGCTGTTC-1 | GSE213243 |  8644 | 3306 | tumour | HGSOC | pt-1 | GSE213243_HGSOC_tumour | 10.596946 | 3 | 3 |\n",
       "| GSE213243_tumour_AACAGGGCAACCCTAA-1 | GSE213243 |  6263 | 2562 | tumour | HGSOC | pt-1 | GSE213243_HGSOC_tumour |  3.544627 | 3 | 3 |\n",
       "\n"
      ],
      "text/plain": [
       "                                    orig.ident nCount_RNA nFeature_RNA\n",
       "GSE213243_tumour_AAAGGTACACGCAGTC-1 GSE213243   8050      2780        \n",
       "GSE213243_tumour_AAATGGACACACGCCA-1 GSE213243   5854      2467        \n",
       "GSE213243_tumour_AACAAAGCAATTTCCT-1 GSE213243   6073      2541        \n",
       "GSE213243_tumour_AACACACGTAGCTTTG-1 GSE213243  13497      3862        \n",
       "GSE213243_tumour_AACACACTCGCTGTTC-1 GSE213243   8644      3306        \n",
       "GSE213243_tumour_AACAGGGCAACCCTAA-1 GSE213243   6263      2562        \n",
       "                                    sample_type cancer_type patient_id\n",
       "GSE213243_tumour_AAAGGTACACGCAGTC-1 tumour      HGSOC       pt-1      \n",
       "GSE213243_tumour_AAATGGACACACGCCA-1 tumour      HGSOC       pt-1      \n",
       "GSE213243_tumour_AACAAAGCAATTTCCT-1 tumour      HGSOC       pt-1      \n",
       "GSE213243_tumour_AACACACGTAGCTTTG-1 tumour      HGSOC       pt-1      \n",
       "GSE213243_tumour_AACACACTCGCTGTTC-1 tumour      HGSOC       pt-1      \n",
       "GSE213243_tumour_AACAGGGCAACCCTAA-1 tumour      HGSOC       pt-1      \n",
       "                                    sample_id              percent.mt\n",
       "GSE213243_tumour_AAAGGTACACGCAGTC-1 GSE213243_HGSOC_tumour 19.962733 \n",
       "GSE213243_tumour_AAATGGACACACGCCA-1 GSE213243_HGSOC_tumour  4.936795 \n",
       "GSE213243_tumour_AACAAAGCAATTTCCT-1 GSE213243_HGSOC_tumour  6.323069 \n",
       "GSE213243_tumour_AACACACGTAGCTTTG-1 GSE213243_HGSOC_tumour  5.319701 \n",
       "GSE213243_tumour_AACACACTCGCTGTTC-1 GSE213243_HGSOC_tumour 10.596946 \n",
       "GSE213243_tumour_AACAGGGCAACCCTAA-1 GSE213243_HGSOC_tumour  3.544627 \n",
       "                                    RNA_snn_res.0.5 seurat_clusters\n",
       "GSE213243_tumour_AAAGGTACACGCAGTC-1 3               3              \n",
       "GSE213243_tumour_AAATGGACACACGCCA-1 3               3              \n",
       "GSE213243_tumour_AACAAAGCAATTTCCT-1 3               3              \n",
       "GSE213243_tumour_AACACACGTAGCTTTG-1 3               3              \n",
       "GSE213243_tumour_AACACACTCGCTGTTC-1 3               3              \n",
       "GSE213243_tumour_AACAGGGCAACCCTAA-1 3               3              "
      ]
     },
     "metadata": {},
     "output_type": "display_data"
    },
    {
     "data": {
      "text/plain": [
       "An object of class Seurat \n",
       "58825 features across 2688 samples within 1 assay \n",
       "Active assay: RNA (58825 features, 2000 variable features)\n",
       " 3 layers present: counts, data, scale.data\n",
       " 2 dimensional reductions calculated: pca, umap"
      ]
     },
     "metadata": {},
     "output_type": "display_data"
    },
    {
     "data": {
      "text/html": [
       "'GSE213243'"
      ],
      "text/latex": [
       "'GSE213243'"
      ],
      "text/markdown": [
       "'GSE213243'"
      ],
      "text/plain": [
       "[1] \"GSE213243\""
      ]
     },
     "metadata": {},
     "output_type": "display_data"
    },
    {
     "data": {
      "text/html": [
       "<table class=\"dataframe\">\n",
       "<caption>A data.frame: 6 × 10</caption>\n",
       "<thead>\n",
       "\t<tr><th></th><th scope=col>orig.ident</th><th scope=col>nCount_RNA</th><th scope=col>nFeature_RNA</th><th scope=col>sample_type</th><th scope=col>cancer_type</th><th scope=col>patient_id</th><th scope=col>sample_id</th><th scope=col>percent.mt</th><th scope=col>RNA_snn_res.0.5</th><th scope=col>seurat_clusters</th></tr>\n",
       "\t<tr><th></th><th scope=col>&lt;fct&gt;</th><th scope=col>&lt;dbl&gt;</th><th scope=col>&lt;int&gt;</th><th scope=col>&lt;chr&gt;</th><th scope=col>&lt;chr&gt;</th><th scope=col>&lt;chr&gt;</th><th scope=col>&lt;chr&gt;</th><th scope=col>&lt;dbl&gt;</th><th scope=col>&lt;fct&gt;</th><th scope=col>&lt;fct&gt;</th></tr>\n",
       "</thead>\n",
       "<tbody>\n",
       "\t<tr><th scope=row>GSE213243_ascites_AAACCCAAGTAGCAAT-2</th><td>GSE213243</td><td>16943</td><td>4684</td><td>ascites</td><td>HGSOC</td><td>pt-1</td><td>GSE213243_HGSOC_ascites</td><td> 7.572449</td><td>5</td><td>5</td></tr>\n",
       "\t<tr><th scope=row>GSE213243_ascites_AAACCCACAGTCGTTA-2</th><td>GSE213243</td><td>14219</td><td>3822</td><td>ascites</td><td>HGSOC</td><td>pt-1</td><td>GSE213243_HGSOC_ascites</td><td> 5.021450</td><td>1</td><td>1</td></tr>\n",
       "\t<tr><th scope=row>GSE213243_ascites_AAACCCATCCGTAGTA-2</th><td>GSE213243</td><td>15634</td><td>4224</td><td>ascites</td><td>HGSOC</td><td>pt-1</td><td>GSE213243_HGSOC_ascites</td><td> 6.556224</td><td>5</td><td>5</td></tr>\n",
       "\t<tr><th scope=row>GSE213243_ascites_AAACGAAAGTGCTCGC-2</th><td>GSE213243</td><td> 3007</td><td>1377</td><td>ascites</td><td>HGSOC</td><td>pt-1</td><td>GSE213243_HGSOC_ascites</td><td>28.766212</td><td>6</td><td>6</td></tr>\n",
       "\t<tr><th scope=row>GSE213243_ascites_AAACGAAGTATGGTAA-2</th><td>GSE213243</td><td>13828</td><td>4227</td><td>ascites</td><td>HGSOC</td><td>pt-1</td><td>GSE213243_HGSOC_ascites</td><td> 4.122071</td><td>5</td><td>5</td></tr>\n",
       "\t<tr><th scope=row>GSE213243_ascites_AAACGCTAGTATCTGC-2</th><td>GSE213243</td><td>12945</td><td>3944</td><td>ascites</td><td>HGSOC</td><td>pt-1</td><td>GSE213243_HGSOC_ascites</td><td> 8.937814</td><td>6</td><td>6</td></tr>\n",
       "</tbody>\n",
       "</table>\n"
      ],
      "text/latex": [
       "A data.frame: 6 × 10\n",
       "\\begin{tabular}{r|llllllllll}\n",
       "  & orig.ident & nCount\\_RNA & nFeature\\_RNA & sample\\_type & cancer\\_type & patient\\_id & sample\\_id & percent.mt & RNA\\_snn\\_res.0.5 & seurat\\_clusters\\\\\n",
       "  & <fct> & <dbl> & <int> & <chr> & <chr> & <chr> & <chr> & <dbl> & <fct> & <fct>\\\\\n",
       "\\hline\n",
       "\tGSE213243\\_ascites\\_AAACCCAAGTAGCAAT-2 & GSE213243 & 16943 & 4684 & ascites & HGSOC & pt-1 & GSE213243\\_HGSOC\\_ascites &  7.572449 & 5 & 5\\\\\n",
       "\tGSE213243\\_ascites\\_AAACCCACAGTCGTTA-2 & GSE213243 & 14219 & 3822 & ascites & HGSOC & pt-1 & GSE213243\\_HGSOC\\_ascites &  5.021450 & 1 & 1\\\\\n",
       "\tGSE213243\\_ascites\\_AAACCCATCCGTAGTA-2 & GSE213243 & 15634 & 4224 & ascites & HGSOC & pt-1 & GSE213243\\_HGSOC\\_ascites &  6.556224 & 5 & 5\\\\\n",
       "\tGSE213243\\_ascites\\_AAACGAAAGTGCTCGC-2 & GSE213243 &  3007 & 1377 & ascites & HGSOC & pt-1 & GSE213243\\_HGSOC\\_ascites & 28.766212 & 6 & 6\\\\\n",
       "\tGSE213243\\_ascites\\_AAACGAAGTATGGTAA-2 & GSE213243 & 13828 & 4227 & ascites & HGSOC & pt-1 & GSE213243\\_HGSOC\\_ascites &  4.122071 & 5 & 5\\\\\n",
       "\tGSE213243\\_ascites\\_AAACGCTAGTATCTGC-2 & GSE213243 & 12945 & 3944 & ascites & HGSOC & pt-1 & GSE213243\\_HGSOC\\_ascites &  8.937814 & 6 & 6\\\\\n",
       "\\end{tabular}\n"
      ],
      "text/markdown": [
       "\n",
       "A data.frame: 6 × 10\n",
       "\n",
       "| <!--/--> | orig.ident &lt;fct&gt; | nCount_RNA &lt;dbl&gt; | nFeature_RNA &lt;int&gt; | sample_type &lt;chr&gt; | cancer_type &lt;chr&gt; | patient_id &lt;chr&gt; | sample_id &lt;chr&gt; | percent.mt &lt;dbl&gt; | RNA_snn_res.0.5 &lt;fct&gt; | seurat_clusters &lt;fct&gt; |\n",
       "|---|---|---|---|---|---|---|---|---|---|---|\n",
       "| GSE213243_ascites_AAACCCAAGTAGCAAT-2 | GSE213243 | 16943 | 4684 | ascites | HGSOC | pt-1 | GSE213243_HGSOC_ascites |  7.572449 | 5 | 5 |\n",
       "| GSE213243_ascites_AAACCCACAGTCGTTA-2 | GSE213243 | 14219 | 3822 | ascites | HGSOC | pt-1 | GSE213243_HGSOC_ascites |  5.021450 | 1 | 1 |\n",
       "| GSE213243_ascites_AAACCCATCCGTAGTA-2 | GSE213243 | 15634 | 4224 | ascites | HGSOC | pt-1 | GSE213243_HGSOC_ascites |  6.556224 | 5 | 5 |\n",
       "| GSE213243_ascites_AAACGAAAGTGCTCGC-2 | GSE213243 |  3007 | 1377 | ascites | HGSOC | pt-1 | GSE213243_HGSOC_ascites | 28.766212 | 6 | 6 |\n",
       "| GSE213243_ascites_AAACGAAGTATGGTAA-2 | GSE213243 | 13828 | 4227 | ascites | HGSOC | pt-1 | GSE213243_HGSOC_ascites |  4.122071 | 5 | 5 |\n",
       "| GSE213243_ascites_AAACGCTAGTATCTGC-2 | GSE213243 | 12945 | 3944 | ascites | HGSOC | pt-1 | GSE213243_HGSOC_ascites |  8.937814 | 6 | 6 |\n",
       "\n"
      ],
      "text/plain": [
       "                                     orig.ident nCount_RNA nFeature_RNA\n",
       "GSE213243_ascites_AAACCCAAGTAGCAAT-2 GSE213243  16943      4684        \n",
       "GSE213243_ascites_AAACCCACAGTCGTTA-2 GSE213243  14219      3822        \n",
       "GSE213243_ascites_AAACCCATCCGTAGTA-2 GSE213243  15634      4224        \n",
       "GSE213243_ascites_AAACGAAAGTGCTCGC-2 GSE213243   3007      1377        \n",
       "GSE213243_ascites_AAACGAAGTATGGTAA-2 GSE213243  13828      4227        \n",
       "GSE213243_ascites_AAACGCTAGTATCTGC-2 GSE213243  12945      3944        \n",
       "                                     sample_type cancer_type patient_id\n",
       "GSE213243_ascites_AAACCCAAGTAGCAAT-2 ascites     HGSOC       pt-1      \n",
       "GSE213243_ascites_AAACCCACAGTCGTTA-2 ascites     HGSOC       pt-1      \n",
       "GSE213243_ascites_AAACCCATCCGTAGTA-2 ascites     HGSOC       pt-1      \n",
       "GSE213243_ascites_AAACGAAAGTGCTCGC-2 ascites     HGSOC       pt-1      \n",
       "GSE213243_ascites_AAACGAAGTATGGTAA-2 ascites     HGSOC       pt-1      \n",
       "GSE213243_ascites_AAACGCTAGTATCTGC-2 ascites     HGSOC       pt-1      \n",
       "                                     sample_id               percent.mt\n",
       "GSE213243_ascites_AAACCCAAGTAGCAAT-2 GSE213243_HGSOC_ascites  7.572449 \n",
       "GSE213243_ascites_AAACCCACAGTCGTTA-2 GSE213243_HGSOC_ascites  5.021450 \n",
       "GSE213243_ascites_AAACCCATCCGTAGTA-2 GSE213243_HGSOC_ascites  6.556224 \n",
       "GSE213243_ascites_AAACGAAAGTGCTCGC-2 GSE213243_HGSOC_ascites 28.766212 \n",
       "GSE213243_ascites_AAACGAAGTATGGTAA-2 GSE213243_HGSOC_ascites  4.122071 \n",
       "GSE213243_ascites_AAACGCTAGTATCTGC-2 GSE213243_HGSOC_ascites  8.937814 \n",
       "                                     RNA_snn_res.0.5 seurat_clusters\n",
       "GSE213243_ascites_AAACCCAAGTAGCAAT-2 5               5              \n",
       "GSE213243_ascites_AAACCCACAGTCGTTA-2 1               1              \n",
       "GSE213243_ascites_AAACCCATCCGTAGTA-2 5               5              \n",
       "GSE213243_ascites_AAACGAAAGTGCTCGC-2 6               6              \n",
       "GSE213243_ascites_AAACGAAGTATGGTAA-2 5               5              \n",
       "GSE213243_ascites_AAACGCTAGTATCTGC-2 6               6              "
      ]
     },
     "metadata": {},
     "output_type": "display_data"
    }
   ],
   "source": [
    "HGSOC_tu\n",
    "HGSOC_tu@project.name\n",
    "head(HGSOC_tu@meta.data)\n",
    "\n",
    "HGSOC_As\n",
    "HGSOC_As@project.name\n",
    "head(HGSOC_As@meta.data)"
   ]
  },
  {
   "cell_type": "code",
   "execution_count": 55,
   "metadata": {
    "vscode": {
     "languageId": "r"
    }
   },
   "outputs": [
    {
     "data": {
      "text/plain": [
       "\n",
       "tumour \n",
       "   804 "
      ]
     },
     "metadata": {},
     "output_type": "display_data"
    },
    {
     "data": {
      "text/plain": [
       "\n",
       "HGSOC \n",
       "  804 "
      ]
     },
     "metadata": {},
     "output_type": "display_data"
    },
    {
     "data": {
      "text/plain": [
       "\n",
       "pt-1 \n",
       " 804 "
      ]
     },
     "metadata": {},
     "output_type": "display_data"
    },
    {
     "data": {
      "text/plain": [
       "\n",
       "GSE213243_HGSOC_tumour \n",
       "                   804 "
      ]
     },
     "metadata": {},
     "output_type": "display_data"
    },
    {
     "data": {
      "text/plain": [
       "\n",
       "ascites \n",
       "   2688 "
      ]
     },
     "metadata": {},
     "output_type": "display_data"
    },
    {
     "data": {
      "text/plain": [
       "\n",
       "HGSOC \n",
       " 2688 "
      ]
     },
     "metadata": {},
     "output_type": "display_data"
    },
    {
     "data": {
      "text/plain": [
       "\n",
       "pt-1 \n",
       "2688 "
      ]
     },
     "metadata": {},
     "output_type": "display_data"
    },
    {
     "data": {
      "text/plain": [
       "\n",
       "GSE213243_HGSOC_ascites \n",
       "                   2688 "
      ]
     },
     "metadata": {},
     "output_type": "display_data"
    }
   ],
   "source": [
    "table(HGSOC_tu$sample_type)\n",
    "table(HGSOC_tu$cancer_type)\n",
    "table(HGSOC_tu$patient_id)\n",
    "table(HGSOC_tu$sample_id)\n",
    "\n",
    "table(HGSOC_As$sample_type)\n",
    "table(HGSOC_As$cancer_type)\n",
    "table(HGSOC_As$patient_id)\n",
    "table(HGSOC_As$sample_id)"
   ]
  },
  {
   "cell_type": "code",
   "execution_count": 56,
   "metadata": {
    "vscode": {
     "languageId": "r"
    }
   },
   "outputs": [],
   "source": [
    "#set site metadata\n",
    "HGSOC_tu@meta.data$site <- \"ovary\"\n",
    "HGSOC_As@meta.data$site <- \"ascites fluid\"\n",
    "\n",
    "HGSOC_tu@meta.data$sample_type_major <- \"primary tumour\"\n",
    "HGSOC_As@meta.data$sample_type_major <- \"ascites\""
   ]
  },
  {
   "cell_type": "code",
   "execution_count": 57,
   "metadata": {
    "vscode": {
     "languageId": "r"
    }
   },
   "outputs": [],
   "source": [
    "#set subtype metadata\n",
    "\n",
    "#split by cancer_type\n",
    "HGSOC_tu@meta.data$cancer_subtype <- \"HGSOC\"\n",
    "HGSOC_As@meta.data$cancer_subtype <- \"HGSOC\""
   ]
  },
  {
   "cell_type": "code",
   "execution_count": 58,
   "metadata": {
    "vscode": {
     "languageId": "r"
    }
   },
   "outputs": [],
   "source": [
    "#merge objects\n",
    "HGSOC <- merge(HGSOC_tu, y = c(HGSOC_As), project = \"GSE213243\")"
   ]
  },
  {
   "cell_type": "code",
   "execution_count": 59,
   "metadata": {
    "vscode": {
     "languageId": "r"
    }
   },
   "outputs": [],
   "source": [
    "#set integration_id metadata\n",
    "HGSOC@meta.data$integration_id <- HGSOC@meta.data$sample_id"
   ]
  },
  {
   "cell_type": "code",
   "execution_count": 60,
   "metadata": {
    "vscode": {
     "languageId": "r"
    }
   },
   "outputs": [
    {
     "data": {
      "text/plain": [
       "An object of class Seurat \n",
       "58825 features across 3492 samples within 1 assay \n",
       "Active assay: RNA (58825 features, 2000 variable features)\n",
       " 6 layers present: counts.1, counts.2, data.1, scale.data.1, data.2, scale.data.2"
      ]
     },
     "metadata": {},
     "output_type": "display_data"
    },
    {
     "data": {
      "text/html": [
       "'GSE213243'"
      ],
      "text/latex": [
       "'GSE213243'"
      ],
      "text/markdown": [
       "'GSE213243'"
      ],
      "text/plain": [
       "[1] \"GSE213243\""
      ]
     },
     "metadata": {},
     "output_type": "display_data"
    },
    {
     "data": {
      "text/html": [
       "<table class=\"dataframe\">\n",
       "<caption>A data.frame: 6 × 14</caption>\n",
       "<thead>\n",
       "\t<tr><th></th><th scope=col>orig.ident</th><th scope=col>nCount_RNA</th><th scope=col>nFeature_RNA</th><th scope=col>sample_type</th><th scope=col>cancer_type</th><th scope=col>patient_id</th><th scope=col>sample_id</th><th scope=col>percent.mt</th><th scope=col>RNA_snn_res.0.5</th><th scope=col>seurat_clusters</th><th scope=col>site</th><th scope=col>sample_type_major</th><th scope=col>cancer_subtype</th><th scope=col>integration_id</th></tr>\n",
       "\t<tr><th></th><th scope=col>&lt;chr&gt;</th><th scope=col>&lt;dbl&gt;</th><th scope=col>&lt;int&gt;</th><th scope=col>&lt;chr&gt;</th><th scope=col>&lt;chr&gt;</th><th scope=col>&lt;chr&gt;</th><th scope=col>&lt;chr&gt;</th><th scope=col>&lt;dbl&gt;</th><th scope=col>&lt;chr&gt;</th><th scope=col>&lt;chr&gt;</th><th scope=col>&lt;chr&gt;</th><th scope=col>&lt;chr&gt;</th><th scope=col>&lt;chr&gt;</th><th scope=col>&lt;chr&gt;</th></tr>\n",
       "</thead>\n",
       "<tbody>\n",
       "\t<tr><th scope=row>GSE213243_tumour_AAAGGTACACGCAGTC-1</th><td>GSE213243</td><td> 8050</td><td>2780</td><td>tumour</td><td>HGSOC</td><td>pt-1</td><td>GSE213243_HGSOC_tumour</td><td>19.962733</td><td>3</td><td>3</td><td>ovary</td><td>primary tumour</td><td>HGSOC</td><td>GSE213243_HGSOC_tumour</td></tr>\n",
       "\t<tr><th scope=row>GSE213243_tumour_AAATGGACACACGCCA-1</th><td>GSE213243</td><td> 5854</td><td>2467</td><td>tumour</td><td>HGSOC</td><td>pt-1</td><td>GSE213243_HGSOC_tumour</td><td> 4.936795</td><td>3</td><td>3</td><td>ovary</td><td>primary tumour</td><td>HGSOC</td><td>GSE213243_HGSOC_tumour</td></tr>\n",
       "\t<tr><th scope=row>GSE213243_tumour_AACAAAGCAATTTCCT-1</th><td>GSE213243</td><td> 6073</td><td>2541</td><td>tumour</td><td>HGSOC</td><td>pt-1</td><td>GSE213243_HGSOC_tumour</td><td> 6.323069</td><td>3</td><td>3</td><td>ovary</td><td>primary tumour</td><td>HGSOC</td><td>GSE213243_HGSOC_tumour</td></tr>\n",
       "\t<tr><th scope=row>GSE213243_tumour_AACACACGTAGCTTTG-1</th><td>GSE213243</td><td>13497</td><td>3862</td><td>tumour</td><td>HGSOC</td><td>pt-1</td><td>GSE213243_HGSOC_tumour</td><td> 5.319701</td><td>3</td><td>3</td><td>ovary</td><td>primary tumour</td><td>HGSOC</td><td>GSE213243_HGSOC_tumour</td></tr>\n",
       "\t<tr><th scope=row>GSE213243_tumour_AACACACTCGCTGTTC-1</th><td>GSE213243</td><td> 8644</td><td>3306</td><td>tumour</td><td>HGSOC</td><td>pt-1</td><td>GSE213243_HGSOC_tumour</td><td>10.596946</td><td>3</td><td>3</td><td>ovary</td><td>primary tumour</td><td>HGSOC</td><td>GSE213243_HGSOC_tumour</td></tr>\n",
       "\t<tr><th scope=row>GSE213243_tumour_AACAGGGCAACCCTAA-1</th><td>GSE213243</td><td> 6263</td><td>2562</td><td>tumour</td><td>HGSOC</td><td>pt-1</td><td>GSE213243_HGSOC_tumour</td><td> 3.544627</td><td>3</td><td>3</td><td>ovary</td><td>primary tumour</td><td>HGSOC</td><td>GSE213243_HGSOC_tumour</td></tr>\n",
       "</tbody>\n",
       "</table>\n"
      ],
      "text/latex": [
       "A data.frame: 6 × 14\n",
       "\\begin{tabular}{r|llllllllllllll}\n",
       "  & orig.ident & nCount\\_RNA & nFeature\\_RNA & sample\\_type & cancer\\_type & patient\\_id & sample\\_id & percent.mt & RNA\\_snn\\_res.0.5 & seurat\\_clusters & site & sample\\_type\\_major & cancer\\_subtype & integration\\_id\\\\\n",
       "  & <chr> & <dbl> & <int> & <chr> & <chr> & <chr> & <chr> & <dbl> & <chr> & <chr> & <chr> & <chr> & <chr> & <chr>\\\\\n",
       "\\hline\n",
       "\tGSE213243\\_tumour\\_AAAGGTACACGCAGTC-1 & GSE213243 &  8050 & 2780 & tumour & HGSOC & pt-1 & GSE213243\\_HGSOC\\_tumour & 19.962733 & 3 & 3 & ovary & primary tumour & HGSOC & GSE213243\\_HGSOC\\_tumour\\\\\n",
       "\tGSE213243\\_tumour\\_AAATGGACACACGCCA-1 & GSE213243 &  5854 & 2467 & tumour & HGSOC & pt-1 & GSE213243\\_HGSOC\\_tumour &  4.936795 & 3 & 3 & ovary & primary tumour & HGSOC & GSE213243\\_HGSOC\\_tumour\\\\\n",
       "\tGSE213243\\_tumour\\_AACAAAGCAATTTCCT-1 & GSE213243 &  6073 & 2541 & tumour & HGSOC & pt-1 & GSE213243\\_HGSOC\\_tumour &  6.323069 & 3 & 3 & ovary & primary tumour & HGSOC & GSE213243\\_HGSOC\\_tumour\\\\\n",
       "\tGSE213243\\_tumour\\_AACACACGTAGCTTTG-1 & GSE213243 & 13497 & 3862 & tumour & HGSOC & pt-1 & GSE213243\\_HGSOC\\_tumour &  5.319701 & 3 & 3 & ovary & primary tumour & HGSOC & GSE213243\\_HGSOC\\_tumour\\\\\n",
       "\tGSE213243\\_tumour\\_AACACACTCGCTGTTC-1 & GSE213243 &  8644 & 3306 & tumour & HGSOC & pt-1 & GSE213243\\_HGSOC\\_tumour & 10.596946 & 3 & 3 & ovary & primary tumour & HGSOC & GSE213243\\_HGSOC\\_tumour\\\\\n",
       "\tGSE213243\\_tumour\\_AACAGGGCAACCCTAA-1 & GSE213243 &  6263 & 2562 & tumour & HGSOC & pt-1 & GSE213243\\_HGSOC\\_tumour &  3.544627 & 3 & 3 & ovary & primary tumour & HGSOC & GSE213243\\_HGSOC\\_tumour\\\\\n",
       "\\end{tabular}\n"
      ],
      "text/markdown": [
       "\n",
       "A data.frame: 6 × 14\n",
       "\n",
       "| <!--/--> | orig.ident &lt;chr&gt; | nCount_RNA &lt;dbl&gt; | nFeature_RNA &lt;int&gt; | sample_type &lt;chr&gt; | cancer_type &lt;chr&gt; | patient_id &lt;chr&gt; | sample_id &lt;chr&gt; | percent.mt &lt;dbl&gt; | RNA_snn_res.0.5 &lt;chr&gt; | seurat_clusters &lt;chr&gt; | site &lt;chr&gt; | sample_type_major &lt;chr&gt; | cancer_subtype &lt;chr&gt; | integration_id &lt;chr&gt; |\n",
       "|---|---|---|---|---|---|---|---|---|---|---|---|---|---|---|\n",
       "| GSE213243_tumour_AAAGGTACACGCAGTC-1 | GSE213243 |  8050 | 2780 | tumour | HGSOC | pt-1 | GSE213243_HGSOC_tumour | 19.962733 | 3 | 3 | ovary | primary tumour | HGSOC | GSE213243_HGSOC_tumour |\n",
       "| GSE213243_tumour_AAATGGACACACGCCA-1 | GSE213243 |  5854 | 2467 | tumour | HGSOC | pt-1 | GSE213243_HGSOC_tumour |  4.936795 | 3 | 3 | ovary | primary tumour | HGSOC | GSE213243_HGSOC_tumour |\n",
       "| GSE213243_tumour_AACAAAGCAATTTCCT-1 | GSE213243 |  6073 | 2541 | tumour | HGSOC | pt-1 | GSE213243_HGSOC_tumour |  6.323069 | 3 | 3 | ovary | primary tumour | HGSOC | GSE213243_HGSOC_tumour |\n",
       "| GSE213243_tumour_AACACACGTAGCTTTG-1 | GSE213243 | 13497 | 3862 | tumour | HGSOC | pt-1 | GSE213243_HGSOC_tumour |  5.319701 | 3 | 3 | ovary | primary tumour | HGSOC | GSE213243_HGSOC_tumour |\n",
       "| GSE213243_tumour_AACACACTCGCTGTTC-1 | GSE213243 |  8644 | 3306 | tumour | HGSOC | pt-1 | GSE213243_HGSOC_tumour | 10.596946 | 3 | 3 | ovary | primary tumour | HGSOC | GSE213243_HGSOC_tumour |\n",
       "| GSE213243_tumour_AACAGGGCAACCCTAA-1 | GSE213243 |  6263 | 2562 | tumour | HGSOC | pt-1 | GSE213243_HGSOC_tumour |  3.544627 | 3 | 3 | ovary | primary tumour | HGSOC | GSE213243_HGSOC_tumour |\n",
       "\n"
      ],
      "text/plain": [
       "                                    orig.ident nCount_RNA nFeature_RNA\n",
       "GSE213243_tumour_AAAGGTACACGCAGTC-1 GSE213243   8050      2780        \n",
       "GSE213243_tumour_AAATGGACACACGCCA-1 GSE213243   5854      2467        \n",
       "GSE213243_tumour_AACAAAGCAATTTCCT-1 GSE213243   6073      2541        \n",
       "GSE213243_tumour_AACACACGTAGCTTTG-1 GSE213243  13497      3862        \n",
       "GSE213243_tumour_AACACACTCGCTGTTC-1 GSE213243   8644      3306        \n",
       "GSE213243_tumour_AACAGGGCAACCCTAA-1 GSE213243   6263      2562        \n",
       "                                    sample_type cancer_type patient_id\n",
       "GSE213243_tumour_AAAGGTACACGCAGTC-1 tumour      HGSOC       pt-1      \n",
       "GSE213243_tumour_AAATGGACACACGCCA-1 tumour      HGSOC       pt-1      \n",
       "GSE213243_tumour_AACAAAGCAATTTCCT-1 tumour      HGSOC       pt-1      \n",
       "GSE213243_tumour_AACACACGTAGCTTTG-1 tumour      HGSOC       pt-1      \n",
       "GSE213243_tumour_AACACACTCGCTGTTC-1 tumour      HGSOC       pt-1      \n",
       "GSE213243_tumour_AACAGGGCAACCCTAA-1 tumour      HGSOC       pt-1      \n",
       "                                    sample_id              percent.mt\n",
       "GSE213243_tumour_AAAGGTACACGCAGTC-1 GSE213243_HGSOC_tumour 19.962733 \n",
       "GSE213243_tumour_AAATGGACACACGCCA-1 GSE213243_HGSOC_tumour  4.936795 \n",
       "GSE213243_tumour_AACAAAGCAATTTCCT-1 GSE213243_HGSOC_tumour  6.323069 \n",
       "GSE213243_tumour_AACACACGTAGCTTTG-1 GSE213243_HGSOC_tumour  5.319701 \n",
       "GSE213243_tumour_AACACACTCGCTGTTC-1 GSE213243_HGSOC_tumour 10.596946 \n",
       "GSE213243_tumour_AACAGGGCAACCCTAA-1 GSE213243_HGSOC_tumour  3.544627 \n",
       "                                    RNA_snn_res.0.5 seurat_clusters site \n",
       "GSE213243_tumour_AAAGGTACACGCAGTC-1 3               3               ovary\n",
       "GSE213243_tumour_AAATGGACACACGCCA-1 3               3               ovary\n",
       "GSE213243_tumour_AACAAAGCAATTTCCT-1 3               3               ovary\n",
       "GSE213243_tumour_AACACACGTAGCTTTG-1 3               3               ovary\n",
       "GSE213243_tumour_AACACACTCGCTGTTC-1 3               3               ovary\n",
       "GSE213243_tumour_AACAGGGCAACCCTAA-1 3               3               ovary\n",
       "                                    sample_type_major cancer_subtype\n",
       "GSE213243_tumour_AAAGGTACACGCAGTC-1 primary tumour    HGSOC         \n",
       "GSE213243_tumour_AAATGGACACACGCCA-1 primary tumour    HGSOC         \n",
       "GSE213243_tumour_AACAAAGCAATTTCCT-1 primary tumour    HGSOC         \n",
       "GSE213243_tumour_AACACACGTAGCTTTG-1 primary tumour    HGSOC         \n",
       "GSE213243_tumour_AACACACTCGCTGTTC-1 primary tumour    HGSOC         \n",
       "GSE213243_tumour_AACAGGGCAACCCTAA-1 primary tumour    HGSOC         \n",
       "                                    integration_id        \n",
       "GSE213243_tumour_AAAGGTACACGCAGTC-1 GSE213243_HGSOC_tumour\n",
       "GSE213243_tumour_AAATGGACACACGCCA-1 GSE213243_HGSOC_tumour\n",
       "GSE213243_tumour_AACAAAGCAATTTCCT-1 GSE213243_HGSOC_tumour\n",
       "GSE213243_tumour_AACACACGTAGCTTTG-1 GSE213243_HGSOC_tumour\n",
       "GSE213243_tumour_AACACACTCGCTGTTC-1 GSE213243_HGSOC_tumour\n",
       "GSE213243_tumour_AACAGGGCAACCCTAA-1 GSE213243_HGSOC_tumour"
      ]
     },
     "metadata": {},
     "output_type": "display_data"
    },
    {
     "data": {
      "text/html": [
       "<table class=\"dataframe\">\n",
       "<caption>A data.frame: 6 × 14</caption>\n",
       "<thead>\n",
       "\t<tr><th></th><th scope=col>orig.ident</th><th scope=col>nCount_RNA</th><th scope=col>nFeature_RNA</th><th scope=col>sample_type</th><th scope=col>cancer_type</th><th scope=col>patient_id</th><th scope=col>sample_id</th><th scope=col>percent.mt</th><th scope=col>RNA_snn_res.0.5</th><th scope=col>seurat_clusters</th><th scope=col>site</th><th scope=col>sample_type_major</th><th scope=col>cancer_subtype</th><th scope=col>integration_id</th></tr>\n",
       "\t<tr><th></th><th scope=col>&lt;chr&gt;</th><th scope=col>&lt;dbl&gt;</th><th scope=col>&lt;int&gt;</th><th scope=col>&lt;chr&gt;</th><th scope=col>&lt;chr&gt;</th><th scope=col>&lt;chr&gt;</th><th scope=col>&lt;chr&gt;</th><th scope=col>&lt;dbl&gt;</th><th scope=col>&lt;chr&gt;</th><th scope=col>&lt;chr&gt;</th><th scope=col>&lt;chr&gt;</th><th scope=col>&lt;chr&gt;</th><th scope=col>&lt;chr&gt;</th><th scope=col>&lt;chr&gt;</th></tr>\n",
       "</thead>\n",
       "<tbody>\n",
       "\t<tr><th scope=row>GSE213243_ascites_TTTGATCGTTAGGCCC-2</th><td>GSE213243</td><td>20342</td><td>4702</td><td>ascites</td><td>HGSOC</td><td>pt-1</td><td>GSE213243_HGSOC_ascites</td><td> 5.899125</td><td>5</td><td>5</td><td>ascites fluid</td><td>ascites</td><td>HGSOC</td><td>GSE213243_HGSOC_ascites</td></tr>\n",
       "\t<tr><th scope=row>GSE213243_ascites_TTTGATCTCTCGGCTT-2</th><td>GSE213243</td><td> 1614</td><td> 820</td><td>ascites</td><td>HGSOC</td><td>pt-1</td><td>GSE213243_HGSOC_ascites</td><td>34.262701</td><td>1</td><td>1</td><td>ascites fluid</td><td>ascites</td><td>HGSOC</td><td>GSE213243_HGSOC_ascites</td></tr>\n",
       "\t<tr><th scope=row>GSE213243_ascites_TTTGGAGCACGTCTCT-2</th><td>GSE213243</td><td>10549</td><td>3639</td><td>ascites</td><td>HGSOC</td><td>pt-1</td><td>GSE213243_HGSOC_ascites</td><td>11.119537</td><td>6</td><td>6</td><td>ascites fluid</td><td>ascites</td><td>HGSOC</td><td>GSE213243_HGSOC_ascites</td></tr>\n",
       "\t<tr><th scope=row>GSE213243_ascites_TTTGGAGGTCCTGGGT-2</th><td>GSE213243</td><td> 4613</td><td>2061</td><td>ascites</td><td>HGSOC</td><td>pt-1</td><td>GSE213243_HGSOC_ascites</td><td>12.421418</td><td>1</td><td>1</td><td>ascites fluid</td><td>ascites</td><td>HGSOC</td><td>GSE213243_HGSOC_ascites</td></tr>\n",
       "\t<tr><th scope=row>GSE213243_ascites_TTTGGTTCATCCTATT-2</th><td>GSE213243</td><td> 6073</td><td>2678</td><td>ascites</td><td>HGSOC</td><td>pt-1</td><td>GSE213243_HGSOC_ascites</td><td>11.954553</td><td>1</td><td>1</td><td>ascites fluid</td><td>ascites</td><td>HGSOC</td><td>GSE213243_HGSOC_ascites</td></tr>\n",
       "\t<tr><th scope=row>GSE213243_ascites_TTTGTTGCATGATGCT-2</th><td>GSE213243</td><td>14293</td><td>4430</td><td>ascites</td><td>HGSOC</td><td>pt-1</td><td>GSE213243_HGSOC_ascites</td><td> 5.044427</td><td>6</td><td>6</td><td>ascites fluid</td><td>ascites</td><td>HGSOC</td><td>GSE213243_HGSOC_ascites</td></tr>\n",
       "</tbody>\n",
       "</table>\n"
      ],
      "text/latex": [
       "A data.frame: 6 × 14\n",
       "\\begin{tabular}{r|llllllllllllll}\n",
       "  & orig.ident & nCount\\_RNA & nFeature\\_RNA & sample\\_type & cancer\\_type & patient\\_id & sample\\_id & percent.mt & RNA\\_snn\\_res.0.5 & seurat\\_clusters & site & sample\\_type\\_major & cancer\\_subtype & integration\\_id\\\\\n",
       "  & <chr> & <dbl> & <int> & <chr> & <chr> & <chr> & <chr> & <dbl> & <chr> & <chr> & <chr> & <chr> & <chr> & <chr>\\\\\n",
       "\\hline\n",
       "\tGSE213243\\_ascites\\_TTTGATCGTTAGGCCC-2 & GSE213243 & 20342 & 4702 & ascites & HGSOC & pt-1 & GSE213243\\_HGSOC\\_ascites &  5.899125 & 5 & 5 & ascites fluid & ascites & HGSOC & GSE213243\\_HGSOC\\_ascites\\\\\n",
       "\tGSE213243\\_ascites\\_TTTGATCTCTCGGCTT-2 & GSE213243 &  1614 &  820 & ascites & HGSOC & pt-1 & GSE213243\\_HGSOC\\_ascites & 34.262701 & 1 & 1 & ascites fluid & ascites & HGSOC & GSE213243\\_HGSOC\\_ascites\\\\\n",
       "\tGSE213243\\_ascites\\_TTTGGAGCACGTCTCT-2 & GSE213243 & 10549 & 3639 & ascites & HGSOC & pt-1 & GSE213243\\_HGSOC\\_ascites & 11.119537 & 6 & 6 & ascites fluid & ascites & HGSOC & GSE213243\\_HGSOC\\_ascites\\\\\n",
       "\tGSE213243\\_ascites\\_TTTGGAGGTCCTGGGT-2 & GSE213243 &  4613 & 2061 & ascites & HGSOC & pt-1 & GSE213243\\_HGSOC\\_ascites & 12.421418 & 1 & 1 & ascites fluid & ascites & HGSOC & GSE213243\\_HGSOC\\_ascites\\\\\n",
       "\tGSE213243\\_ascites\\_TTTGGTTCATCCTATT-2 & GSE213243 &  6073 & 2678 & ascites & HGSOC & pt-1 & GSE213243\\_HGSOC\\_ascites & 11.954553 & 1 & 1 & ascites fluid & ascites & HGSOC & GSE213243\\_HGSOC\\_ascites\\\\\n",
       "\tGSE213243\\_ascites\\_TTTGTTGCATGATGCT-2 & GSE213243 & 14293 & 4430 & ascites & HGSOC & pt-1 & GSE213243\\_HGSOC\\_ascites &  5.044427 & 6 & 6 & ascites fluid & ascites & HGSOC & GSE213243\\_HGSOC\\_ascites\\\\\n",
       "\\end{tabular}\n"
      ],
      "text/markdown": [
       "\n",
       "A data.frame: 6 × 14\n",
       "\n",
       "| <!--/--> | orig.ident &lt;chr&gt; | nCount_RNA &lt;dbl&gt; | nFeature_RNA &lt;int&gt; | sample_type &lt;chr&gt; | cancer_type &lt;chr&gt; | patient_id &lt;chr&gt; | sample_id &lt;chr&gt; | percent.mt &lt;dbl&gt; | RNA_snn_res.0.5 &lt;chr&gt; | seurat_clusters &lt;chr&gt; | site &lt;chr&gt; | sample_type_major &lt;chr&gt; | cancer_subtype &lt;chr&gt; | integration_id &lt;chr&gt; |\n",
       "|---|---|---|---|---|---|---|---|---|---|---|---|---|---|---|\n",
       "| GSE213243_ascites_TTTGATCGTTAGGCCC-2 | GSE213243 | 20342 | 4702 | ascites | HGSOC | pt-1 | GSE213243_HGSOC_ascites |  5.899125 | 5 | 5 | ascites fluid | ascites | HGSOC | GSE213243_HGSOC_ascites |\n",
       "| GSE213243_ascites_TTTGATCTCTCGGCTT-2 | GSE213243 |  1614 |  820 | ascites | HGSOC | pt-1 | GSE213243_HGSOC_ascites | 34.262701 | 1 | 1 | ascites fluid | ascites | HGSOC | GSE213243_HGSOC_ascites |\n",
       "| GSE213243_ascites_TTTGGAGCACGTCTCT-2 | GSE213243 | 10549 | 3639 | ascites | HGSOC | pt-1 | GSE213243_HGSOC_ascites | 11.119537 | 6 | 6 | ascites fluid | ascites | HGSOC | GSE213243_HGSOC_ascites |\n",
       "| GSE213243_ascites_TTTGGAGGTCCTGGGT-2 | GSE213243 |  4613 | 2061 | ascites | HGSOC | pt-1 | GSE213243_HGSOC_ascites | 12.421418 | 1 | 1 | ascites fluid | ascites | HGSOC | GSE213243_HGSOC_ascites |\n",
       "| GSE213243_ascites_TTTGGTTCATCCTATT-2 | GSE213243 |  6073 | 2678 | ascites | HGSOC | pt-1 | GSE213243_HGSOC_ascites | 11.954553 | 1 | 1 | ascites fluid | ascites | HGSOC | GSE213243_HGSOC_ascites |\n",
       "| GSE213243_ascites_TTTGTTGCATGATGCT-2 | GSE213243 | 14293 | 4430 | ascites | HGSOC | pt-1 | GSE213243_HGSOC_ascites |  5.044427 | 6 | 6 | ascites fluid | ascites | HGSOC | GSE213243_HGSOC_ascites |\n",
       "\n"
      ],
      "text/plain": [
       "                                     orig.ident nCount_RNA nFeature_RNA\n",
       "GSE213243_ascites_TTTGATCGTTAGGCCC-2 GSE213243  20342      4702        \n",
       "GSE213243_ascites_TTTGATCTCTCGGCTT-2 GSE213243   1614       820        \n",
       "GSE213243_ascites_TTTGGAGCACGTCTCT-2 GSE213243  10549      3639        \n",
       "GSE213243_ascites_TTTGGAGGTCCTGGGT-2 GSE213243   4613      2061        \n",
       "GSE213243_ascites_TTTGGTTCATCCTATT-2 GSE213243   6073      2678        \n",
       "GSE213243_ascites_TTTGTTGCATGATGCT-2 GSE213243  14293      4430        \n",
       "                                     sample_type cancer_type patient_id\n",
       "GSE213243_ascites_TTTGATCGTTAGGCCC-2 ascites     HGSOC       pt-1      \n",
       "GSE213243_ascites_TTTGATCTCTCGGCTT-2 ascites     HGSOC       pt-1      \n",
       "GSE213243_ascites_TTTGGAGCACGTCTCT-2 ascites     HGSOC       pt-1      \n",
       "GSE213243_ascites_TTTGGAGGTCCTGGGT-2 ascites     HGSOC       pt-1      \n",
       "GSE213243_ascites_TTTGGTTCATCCTATT-2 ascites     HGSOC       pt-1      \n",
       "GSE213243_ascites_TTTGTTGCATGATGCT-2 ascites     HGSOC       pt-1      \n",
       "                                     sample_id               percent.mt\n",
       "GSE213243_ascites_TTTGATCGTTAGGCCC-2 GSE213243_HGSOC_ascites  5.899125 \n",
       "GSE213243_ascites_TTTGATCTCTCGGCTT-2 GSE213243_HGSOC_ascites 34.262701 \n",
       "GSE213243_ascites_TTTGGAGCACGTCTCT-2 GSE213243_HGSOC_ascites 11.119537 \n",
       "GSE213243_ascites_TTTGGAGGTCCTGGGT-2 GSE213243_HGSOC_ascites 12.421418 \n",
       "GSE213243_ascites_TTTGGTTCATCCTATT-2 GSE213243_HGSOC_ascites 11.954553 \n",
       "GSE213243_ascites_TTTGTTGCATGATGCT-2 GSE213243_HGSOC_ascites  5.044427 \n",
       "                                     RNA_snn_res.0.5 seurat_clusters\n",
       "GSE213243_ascites_TTTGATCGTTAGGCCC-2 5               5              \n",
       "GSE213243_ascites_TTTGATCTCTCGGCTT-2 1               1              \n",
       "GSE213243_ascites_TTTGGAGCACGTCTCT-2 6               6              \n",
       "GSE213243_ascites_TTTGGAGGTCCTGGGT-2 1               1              \n",
       "GSE213243_ascites_TTTGGTTCATCCTATT-2 1               1              \n",
       "GSE213243_ascites_TTTGTTGCATGATGCT-2 6               6              \n",
       "                                     site          sample_type_major\n",
       "GSE213243_ascites_TTTGATCGTTAGGCCC-2 ascites fluid ascites          \n",
       "GSE213243_ascites_TTTGATCTCTCGGCTT-2 ascites fluid ascites          \n",
       "GSE213243_ascites_TTTGGAGCACGTCTCT-2 ascites fluid ascites          \n",
       "GSE213243_ascites_TTTGGAGGTCCTGGGT-2 ascites fluid ascites          \n",
       "GSE213243_ascites_TTTGGTTCATCCTATT-2 ascites fluid ascites          \n",
       "GSE213243_ascites_TTTGTTGCATGATGCT-2 ascites fluid ascites          \n",
       "                                     cancer_subtype integration_id         \n",
       "GSE213243_ascites_TTTGATCGTTAGGCCC-2 HGSOC          GSE213243_HGSOC_ascites\n",
       "GSE213243_ascites_TTTGATCTCTCGGCTT-2 HGSOC          GSE213243_HGSOC_ascites\n",
       "GSE213243_ascites_TTTGGAGCACGTCTCT-2 HGSOC          GSE213243_HGSOC_ascites\n",
       "GSE213243_ascites_TTTGGAGGTCCTGGGT-2 HGSOC          GSE213243_HGSOC_ascites\n",
       "GSE213243_ascites_TTTGGTTCATCCTATT-2 HGSOC          GSE213243_HGSOC_ascites\n",
       "GSE213243_ascites_TTTGTTGCATGATGCT-2 HGSOC          GSE213243_HGSOC_ascites"
      ]
     },
     "metadata": {},
     "output_type": "display_data"
    }
   ],
   "source": [
    "HGSOC\n",
    "HGSOC@project.name\n",
    "head(HGSOC@meta.data)\n",
    "tail(HGSOC@meta.data)"
   ]
  },
  {
   "cell_type": "code",
   "execution_count": 61,
   "metadata": {
    "vscode": {
     "languageId": "r"
    }
   },
   "outputs": [
    {
     "data": {
      "text/plain": [
       "\n",
       "GSE213243_HGSOC_ascites  GSE213243_HGSOC_tumour \n",
       "                   2688                     804 "
      ]
     },
     "metadata": {},
     "output_type": "display_data"
    }
   ],
   "source": [
    "#exclude any samples with <100 cells\n",
    "table(HGSOC$integration_id)\n",
    "#none to exclude"
   ]
  },
  {
   "cell_type": "code",
   "execution_count": 62,
   "metadata": {
    "vscode": {
     "languageId": "r"
    }
   },
   "outputs": [
    {
     "data": {
      "text/html": [
       "<style>\n",
       ".list-inline {list-style: none; margin:0; padding: 0}\n",
       ".list-inline>li {display: inline-block}\n",
       ".list-inline>li:not(:last-child)::after {content: \"\\00b7\"; padding: 0 .5ex}\n",
       "</style>\n",
       "<ol class=list-inline><li>'counts.1'</li><li>'counts.2'</li><li>'data.1'</li><li>'scale.data.1'</li><li>'data.2'</li><li>'scale.data.2'</li></ol>\n"
      ],
      "text/latex": [
       "\\begin{enumerate*}\n",
       "\\item 'counts.1'\n",
       "\\item 'counts.2'\n",
       "\\item 'data.1'\n",
       "\\item 'scale.data.1'\n",
       "\\item 'data.2'\n",
       "\\item 'scale.data.2'\n",
       "\\end{enumerate*}\n"
      ],
      "text/markdown": [
       "1. 'counts.1'\n",
       "2. 'counts.2'\n",
       "3. 'data.1'\n",
       "4. 'scale.data.1'\n",
       "5. 'data.2'\n",
       "6. 'scale.data.2'\n",
       "\n",
       "\n"
      ],
      "text/plain": [
       "[1] \"counts.1\"     \"counts.2\"     \"data.1\"       \"scale.data.1\" \"data.2\"      \n",
       "[6] \"scale.data.2\""
      ]
     },
     "metadata": {},
     "output_type": "display_data"
    },
    {
     "data": {
      "text/html": [
       "<style>\n",
       ".list-inline {list-style: none; margin:0; padding: 0}\n",
       ".list-inline>li {display: inline-block}\n",
       ".list-inline>li:not(:last-child)::after {content: \"\\00b7\"; padding: 0 .5ex}\n",
       "</style>\n",
       "<ol class=list-inline><li>'scale.data'</li><li>'data'</li><li>'counts'</li></ol>\n"
      ],
      "text/latex": [
       "\\begin{enumerate*}\n",
       "\\item 'scale.data'\n",
       "\\item 'data'\n",
       "\\item 'counts'\n",
       "\\end{enumerate*}\n"
      ],
      "text/markdown": [
       "1. 'scale.data'\n",
       "2. 'data'\n",
       "3. 'counts'\n",
       "\n",
       "\n"
      ],
      "text/plain": [
       "[1] \"scale.data\" \"data\"       \"counts\"    "
      ]
     },
     "metadata": {},
     "output_type": "display_data"
    },
    {
     "name": "stderr",
     "output_type": "stream",
     "text": [
      "Splitting ‘counts’, ‘data’ layers. Not splitting ‘scale.data’. If you would like to split other layers, set in `layers` argument.\n",
      "\n"
     ]
    },
    {
     "data": {
      "text/html": [
       "<style>\n",
       ".list-inline {list-style: none; margin:0; padding: 0}\n",
       ".list-inline>li {display: inline-block}\n",
       ".list-inline>li:not(:last-child)::after {content: \"\\00b7\"; padding: 0 .5ex}\n",
       "</style>\n",
       "<ol class=list-inline><li>'counts.GSE213243_HGSOC_tumour'</li><li>'counts.GSE213243_HGSOC_ascites'</li><li>'scale.data'</li><li>'data.GSE213243_HGSOC_tumour'</li><li>'data.GSE213243_HGSOC_ascites'</li></ol>\n"
      ],
      "text/latex": [
       "\\begin{enumerate*}\n",
       "\\item 'counts.GSE213243\\_HGSOC\\_tumour'\n",
       "\\item 'counts.GSE213243\\_HGSOC\\_ascites'\n",
       "\\item 'scale.data'\n",
       "\\item 'data.GSE213243\\_HGSOC\\_tumour'\n",
       "\\item 'data.GSE213243\\_HGSOC\\_ascites'\n",
       "\\end{enumerate*}\n"
      ],
      "text/markdown": [
       "1. 'counts.GSE213243_HGSOC_tumour'\n",
       "2. 'counts.GSE213243_HGSOC_ascites'\n",
       "3. 'scale.data'\n",
       "4. 'data.GSE213243_HGSOC_tumour'\n",
       "5. 'data.GSE213243_HGSOC_ascites'\n",
       "\n",
       "\n"
      ],
      "text/plain": [
       "[1] \"counts.GSE213243_HGSOC_tumour\"  \"counts.GSE213243_HGSOC_ascites\"\n",
       "[3] \"scale.data\"                     \"data.GSE213243_HGSOC_tumour\"   \n",
       "[5] \"data.GSE213243_HGSOC_ascites\"  "
      ]
     },
     "metadata": {},
     "output_type": "display_data"
    }
   ],
   "source": [
    "#join layers and then split them by integration_id\n",
    "Layers(HGSOC[[\"RNA\"]])\n",
    "#join layers\n",
    "HGSOC[[\"RNA\"]] <- JoinLayers(HGSOC[[\"RNA\"]])\n",
    "Layers(HGSOC[[\"RNA\"]])\n",
    "#split layers\n",
    "HGSOC[[\"RNA\"]] <- split(HGSOC[[\"RNA\"]], f = HGSOC$integration_id)\n",
    "Layers(HGSOC[[\"RNA\"]])\n"
   ]
  },
  {
   "cell_type": "code",
   "execution_count": 63,
   "metadata": {
    "vscode": {
     "languageId": "r"
    }
   },
   "outputs": [
    {
     "data": {
      "text/plain": [
       "\n",
       "GSE213243_HGSOC_ascites  GSE213243_HGSOC_tumour \n",
       "                   2688                     804 "
      ]
     },
     "metadata": {},
     "output_type": "display_data"
    }
   ],
   "source": [
    "#record number of cells\n",
    "table(HGSOC$integration_id)"
   ]
  },
  {
   "cell_type": "code",
   "execution_count": 64,
   "metadata": {
    "vscode": {
     "languageId": "r"
    }
   },
   "outputs": [],
   "source": [
    "#re-export seurat object ready for integration\n",
    "saveRDS(HGSOC, \"/scratch/user/s4436039/scdata/Myeloid_Cells/Myeloid_Cells_Integrate/GSE213243_myeloid_int.RDS\")"
   ]
  },
  {
   "cell_type": "code",
   "execution_count": 65,
   "metadata": {
    "vscode": {
     "languageId": "r"
    }
   },
   "outputs": [],
   "source": [
    "#remove all objects in R\n",
    "rm(list = ls())"
   ]
  },
  {
   "cell_type": "markdown",
   "metadata": {},
   "source": [
    "## GSE217517"
   ]
  },
  {
   "cell_type": "code",
   "execution_count": 66,
   "metadata": {
    "vscode": {
     "languageId": "r"
    }
   },
   "outputs": [],
   "source": [
    "HGSOC <- readRDS(\"/scratch/user/s4436039/scdata/Myeloid_Cells/GSE217517_myeloid.RDS\")"
   ]
  },
  {
   "cell_type": "code",
   "execution_count": 67,
   "metadata": {
    "vscode": {
     "languageId": "r"
    }
   },
   "outputs": [
    {
     "data": {
      "text/plain": [
       "An object of class Seurat \n",
       "36601 features across 8457 samples within 1 assay \n",
       "Active assay: RNA (36601 features, 2000 variable features)\n",
       " 17 layers present: counts.1, counts.2, counts.3, counts.4, counts.5, counts.6, counts.7, counts.8, data.1, data.2, data.3, data.4, data.5, data.6, data.7, data.8, scale.data\n",
       " 2 dimensional reductions calculated: pca, umap"
      ]
     },
     "metadata": {},
     "output_type": "display_data"
    },
    {
     "data": {
      "text/html": [
       "'GSE217517'"
      ],
      "text/latex": [
       "'GSE217517'"
      ],
      "text/markdown": [
       "'GSE217517'"
      ],
      "text/plain": [
       "[1] \"GSE217517\""
      ]
     },
     "metadata": {},
     "output_type": "display_data"
    },
    {
     "data": {
      "text/html": [
       "<table class=\"dataframe\">\n",
       "<caption>A data.frame: 6 × 11</caption>\n",
       "<thead>\n",
       "\t<tr><th></th><th scope=col>orig.ident</th><th scope=col>nCount_RNA</th><th scope=col>nFeature_RNA</th><th scope=col>sample_type</th><th scope=col>cancer_type</th><th scope=col>patient_id</th><th scope=col>sample_id</th><th scope=col>percent.mt</th><th scope=col>RNA_snn_res.0.5</th><th scope=col>seurat_clusters</th><th scope=col>RNA_snn_res.0.2</th></tr>\n",
       "\t<tr><th></th><th scope=col>&lt;chr&gt;</th><th scope=col>&lt;dbl&gt;</th><th scope=col>&lt;int&gt;</th><th scope=col>&lt;chr&gt;</th><th scope=col>&lt;chr&gt;</th><th scope=col>&lt;chr&gt;</th><th scope=col>&lt;chr&gt;</th><th scope=col>&lt;dbl&gt;</th><th scope=col>&lt;fct&gt;</th><th scope=col>&lt;fct&gt;</th><th scope=col>&lt;fct&gt;</th></tr>\n",
       "</thead>\n",
       "<tbody>\n",
       "\t<tr><th scope=row>GSE217517_pt1_AAACGAAAGAACCCGA-1</th><td>GSE217517</td><td> 7268</td><td>2217</td><td>tumour</td><td>HGSOC</td><td>pt1</td><td>GSE217517_HGSOC_pt1</td><td> 3.769950</td><td>9</td><td>1</td><td>1</td></tr>\n",
       "\t<tr><th scope=row>GSE217517_pt1_AAAGAACCAGGGCTTC-1</th><td>GSE217517</td><td>20132</td><td>4339</td><td>tumour</td><td>HGSOC</td><td>pt1</td><td>GSE217517_HGSOC_pt1</td><td> 7.634612</td><td>5</td><td>1</td><td>1</td></tr>\n",
       "\t<tr><th scope=row>GSE217517_pt1_AAAGAACTCCATGAGT-1</th><td>GSE217517</td><td> 4183</td><td>1410</td><td>tumour</td><td>HGSOC</td><td>pt1</td><td>GSE217517_HGSOC_pt1</td><td>35.142242</td><td>9</td><td>1</td><td>1</td></tr>\n",
       "\t<tr><th scope=row>GSE217517_pt1_AAAGGATTCTATTTCG-1</th><td>GSE217517</td><td> 3037</td><td>1274</td><td>tumour</td><td>HGSOC</td><td>pt1</td><td>GSE217517_HGSOC_pt1</td><td> 6.914718</td><td>9</td><td>1</td><td>1</td></tr>\n",
       "\t<tr><th scope=row>GSE217517_pt1_AAATGGACACTGAGGA-1</th><td>GSE217517</td><td> 9516</td><td>2822</td><td>tumour</td><td>HGSOC</td><td>pt1</td><td>GSE217517_HGSOC_pt1</td><td> 2.847835</td><td>5</td><td>1</td><td>1</td></tr>\n",
       "\t<tr><th scope=row>GSE217517_pt1_AACAGGGGTCATCGGC-1</th><td>GSE217517</td><td>22104</td><td>4611</td><td>tumour</td><td>HGSOC</td><td>pt1</td><td>GSE217517_HGSOC_pt1</td><td> 7.695440</td><td>9</td><td>1</td><td>1</td></tr>\n",
       "</tbody>\n",
       "</table>\n"
      ],
      "text/latex": [
       "A data.frame: 6 × 11\n",
       "\\begin{tabular}{r|lllllllllll}\n",
       "  & orig.ident & nCount\\_RNA & nFeature\\_RNA & sample\\_type & cancer\\_type & patient\\_id & sample\\_id & percent.mt & RNA\\_snn\\_res.0.5 & seurat\\_clusters & RNA\\_snn\\_res.0.2\\\\\n",
       "  & <chr> & <dbl> & <int> & <chr> & <chr> & <chr> & <chr> & <dbl> & <fct> & <fct> & <fct>\\\\\n",
       "\\hline\n",
       "\tGSE217517\\_pt1\\_AAACGAAAGAACCCGA-1 & GSE217517 &  7268 & 2217 & tumour & HGSOC & pt1 & GSE217517\\_HGSOC\\_pt1 &  3.769950 & 9 & 1 & 1\\\\\n",
       "\tGSE217517\\_pt1\\_AAAGAACCAGGGCTTC-1 & GSE217517 & 20132 & 4339 & tumour & HGSOC & pt1 & GSE217517\\_HGSOC\\_pt1 &  7.634612 & 5 & 1 & 1\\\\\n",
       "\tGSE217517\\_pt1\\_AAAGAACTCCATGAGT-1 & GSE217517 &  4183 & 1410 & tumour & HGSOC & pt1 & GSE217517\\_HGSOC\\_pt1 & 35.142242 & 9 & 1 & 1\\\\\n",
       "\tGSE217517\\_pt1\\_AAAGGATTCTATTTCG-1 & GSE217517 &  3037 & 1274 & tumour & HGSOC & pt1 & GSE217517\\_HGSOC\\_pt1 &  6.914718 & 9 & 1 & 1\\\\\n",
       "\tGSE217517\\_pt1\\_AAATGGACACTGAGGA-1 & GSE217517 &  9516 & 2822 & tumour & HGSOC & pt1 & GSE217517\\_HGSOC\\_pt1 &  2.847835 & 5 & 1 & 1\\\\\n",
       "\tGSE217517\\_pt1\\_AACAGGGGTCATCGGC-1 & GSE217517 & 22104 & 4611 & tumour & HGSOC & pt1 & GSE217517\\_HGSOC\\_pt1 &  7.695440 & 9 & 1 & 1\\\\\n",
       "\\end{tabular}\n"
      ],
      "text/markdown": [
       "\n",
       "A data.frame: 6 × 11\n",
       "\n",
       "| <!--/--> | orig.ident &lt;chr&gt; | nCount_RNA &lt;dbl&gt; | nFeature_RNA &lt;int&gt; | sample_type &lt;chr&gt; | cancer_type &lt;chr&gt; | patient_id &lt;chr&gt; | sample_id &lt;chr&gt; | percent.mt &lt;dbl&gt; | RNA_snn_res.0.5 &lt;fct&gt; | seurat_clusters &lt;fct&gt; | RNA_snn_res.0.2 &lt;fct&gt; |\n",
       "|---|---|---|---|---|---|---|---|---|---|---|---|\n",
       "| GSE217517_pt1_AAACGAAAGAACCCGA-1 | GSE217517 |  7268 | 2217 | tumour | HGSOC | pt1 | GSE217517_HGSOC_pt1 |  3.769950 | 9 | 1 | 1 |\n",
       "| GSE217517_pt1_AAAGAACCAGGGCTTC-1 | GSE217517 | 20132 | 4339 | tumour | HGSOC | pt1 | GSE217517_HGSOC_pt1 |  7.634612 | 5 | 1 | 1 |\n",
       "| GSE217517_pt1_AAAGAACTCCATGAGT-1 | GSE217517 |  4183 | 1410 | tumour | HGSOC | pt1 | GSE217517_HGSOC_pt1 | 35.142242 | 9 | 1 | 1 |\n",
       "| GSE217517_pt1_AAAGGATTCTATTTCG-1 | GSE217517 |  3037 | 1274 | tumour | HGSOC | pt1 | GSE217517_HGSOC_pt1 |  6.914718 | 9 | 1 | 1 |\n",
       "| GSE217517_pt1_AAATGGACACTGAGGA-1 | GSE217517 |  9516 | 2822 | tumour | HGSOC | pt1 | GSE217517_HGSOC_pt1 |  2.847835 | 5 | 1 | 1 |\n",
       "| GSE217517_pt1_AACAGGGGTCATCGGC-1 | GSE217517 | 22104 | 4611 | tumour | HGSOC | pt1 | GSE217517_HGSOC_pt1 |  7.695440 | 9 | 1 | 1 |\n",
       "\n"
      ],
      "text/plain": [
       "                                 orig.ident nCount_RNA nFeature_RNA sample_type\n",
       "GSE217517_pt1_AAACGAAAGAACCCGA-1 GSE217517   7268      2217         tumour     \n",
       "GSE217517_pt1_AAAGAACCAGGGCTTC-1 GSE217517  20132      4339         tumour     \n",
       "GSE217517_pt1_AAAGAACTCCATGAGT-1 GSE217517   4183      1410         tumour     \n",
       "GSE217517_pt1_AAAGGATTCTATTTCG-1 GSE217517   3037      1274         tumour     \n",
       "GSE217517_pt1_AAATGGACACTGAGGA-1 GSE217517   9516      2822         tumour     \n",
       "GSE217517_pt1_AACAGGGGTCATCGGC-1 GSE217517  22104      4611         tumour     \n",
       "                                 cancer_type patient_id sample_id          \n",
       "GSE217517_pt1_AAACGAAAGAACCCGA-1 HGSOC       pt1        GSE217517_HGSOC_pt1\n",
       "GSE217517_pt1_AAAGAACCAGGGCTTC-1 HGSOC       pt1        GSE217517_HGSOC_pt1\n",
       "GSE217517_pt1_AAAGAACTCCATGAGT-1 HGSOC       pt1        GSE217517_HGSOC_pt1\n",
       "GSE217517_pt1_AAAGGATTCTATTTCG-1 HGSOC       pt1        GSE217517_HGSOC_pt1\n",
       "GSE217517_pt1_AAATGGACACTGAGGA-1 HGSOC       pt1        GSE217517_HGSOC_pt1\n",
       "GSE217517_pt1_AACAGGGGTCATCGGC-1 HGSOC       pt1        GSE217517_HGSOC_pt1\n",
       "                                 percent.mt RNA_snn_res.0.5 seurat_clusters\n",
       "GSE217517_pt1_AAACGAAAGAACCCGA-1  3.769950  9               1              \n",
       "GSE217517_pt1_AAAGAACCAGGGCTTC-1  7.634612  5               1              \n",
       "GSE217517_pt1_AAAGAACTCCATGAGT-1 35.142242  9               1              \n",
       "GSE217517_pt1_AAAGGATTCTATTTCG-1  6.914718  9               1              \n",
       "GSE217517_pt1_AAATGGACACTGAGGA-1  2.847835  5               1              \n",
       "GSE217517_pt1_AACAGGGGTCATCGGC-1  7.695440  9               1              \n",
       "                                 RNA_snn_res.0.2\n",
       "GSE217517_pt1_AAACGAAAGAACCCGA-1 1              \n",
       "GSE217517_pt1_AAAGAACCAGGGCTTC-1 1              \n",
       "GSE217517_pt1_AAAGAACTCCATGAGT-1 1              \n",
       "GSE217517_pt1_AAAGGATTCTATTTCG-1 1              \n",
       "GSE217517_pt1_AAATGGACACTGAGGA-1 1              \n",
       "GSE217517_pt1_AACAGGGGTCATCGGC-1 1              "
      ]
     },
     "metadata": {},
     "output_type": "display_data"
    }
   ],
   "source": [
    "HGSOC\n",
    "HGSOC@project.name\n",
    "head(HGSOC@meta.data)"
   ]
  },
  {
   "cell_type": "code",
   "execution_count": 68,
   "metadata": {
    "vscode": {
     "languageId": "r"
    }
   },
   "outputs": [
    {
     "data": {
      "text/plain": [
       "\n",
       "tumour \n",
       "  8457 "
      ]
     },
     "metadata": {},
     "output_type": "display_data"
    },
    {
     "data": {
      "text/plain": [
       "\n",
       "HGSOC \n",
       " 8457 "
      ]
     },
     "metadata": {},
     "output_type": "display_data"
    },
    {
     "data": {
      "text/plain": [
       "\n",
       " pt1  pt2  pt3  pt4  pt5  pt6  pt7  pt8 \n",
       " 842  966 2678 1517 1004   37 1054  359 "
      ]
     },
     "metadata": {},
     "output_type": "display_data"
    },
    {
     "data": {
      "text/plain": [
       "\n",
       "GSE217517_HGSOC_pt1 GSE217517_HGSOC_pt2 GSE217517_HGSOC_pt3 GSE217517_HGSOC_pt4 \n",
       "                842                 966                2678                1517 \n",
       "GSE217517_HGSOC_pt5 GSE217517_HGSOC_pt6 GSE217517_HGSOC_pt7 GSE217517_HGSOC_pt8 \n",
       "               1004                  37                1054                 359 "
      ]
     },
     "metadata": {},
     "output_type": "display_data"
    }
   ],
   "source": [
    "table(HGSOC$sample_type)\n",
    "table(HGSOC$cancer_type)\n",
    "table(HGSOC$patient_id)\n",
    "table(HGSOC$sample_id)"
   ]
  },
  {
   "cell_type": "code",
   "execution_count": 70,
   "metadata": {
    "vscode": {
     "languageId": "r"
    }
   },
   "outputs": [],
   "source": [
    "#set site metadata\n",
    "HGSOC@meta.data$site <- \"ovary\"\n",
    "HGSOC@meta.data$sample_type_major <- \"primary tumour\""
   ]
  },
  {
   "cell_type": "code",
   "execution_count": 71,
   "metadata": {
    "vscode": {
     "languageId": "r"
    }
   },
   "outputs": [],
   "source": [
    "#set subtype metadata\n",
    "HGSOC@meta.data$cancer_subtype <- \"HGSOC\""
   ]
  },
  {
   "cell_type": "code",
   "execution_count": 72,
   "metadata": {
    "vscode": {
     "languageId": "r"
    }
   },
   "outputs": [],
   "source": [
    "#set integration_id metadata\n",
    "HGSOC@meta.data$integration_id <- HGSOC@meta.data$sample_id"
   ]
  },
  {
   "cell_type": "code",
   "execution_count": 73,
   "metadata": {
    "vscode": {
     "languageId": "r"
    }
   },
   "outputs": [
    {
     "data": {
      "text/plain": [
       "An object of class Seurat \n",
       "36601 features across 8457 samples within 1 assay \n",
       "Active assay: RNA (36601 features, 2000 variable features)\n",
       " 17 layers present: counts.1, counts.2, counts.3, counts.4, counts.5, counts.6, counts.7, counts.8, data.1, data.2, data.3, data.4, data.5, data.6, data.7, data.8, scale.data\n",
       " 2 dimensional reductions calculated: pca, umap"
      ]
     },
     "metadata": {},
     "output_type": "display_data"
    },
    {
     "data": {
      "text/html": [
       "'GSE217517'"
      ],
      "text/latex": [
       "'GSE217517'"
      ],
      "text/markdown": [
       "'GSE217517'"
      ],
      "text/plain": [
       "[1] \"GSE217517\""
      ]
     },
     "metadata": {},
     "output_type": "display_data"
    },
    {
     "data": {
      "text/html": [
       "<table class=\"dataframe\">\n",
       "<caption>A data.frame: 6 × 15</caption>\n",
       "<thead>\n",
       "\t<tr><th></th><th scope=col>orig.ident</th><th scope=col>nCount_RNA</th><th scope=col>nFeature_RNA</th><th scope=col>sample_type</th><th scope=col>cancer_type</th><th scope=col>patient_id</th><th scope=col>sample_id</th><th scope=col>percent.mt</th><th scope=col>RNA_snn_res.0.5</th><th scope=col>seurat_clusters</th><th scope=col>RNA_snn_res.0.2</th><th scope=col>site</th><th scope=col>sample_type_major</th><th scope=col>cancer_subtype</th><th scope=col>integration_id</th></tr>\n",
       "\t<tr><th></th><th scope=col>&lt;chr&gt;</th><th scope=col>&lt;dbl&gt;</th><th scope=col>&lt;int&gt;</th><th scope=col>&lt;chr&gt;</th><th scope=col>&lt;chr&gt;</th><th scope=col>&lt;chr&gt;</th><th scope=col>&lt;chr&gt;</th><th scope=col>&lt;dbl&gt;</th><th scope=col>&lt;fct&gt;</th><th scope=col>&lt;fct&gt;</th><th scope=col>&lt;fct&gt;</th><th scope=col>&lt;chr&gt;</th><th scope=col>&lt;chr&gt;</th><th scope=col>&lt;chr&gt;</th><th scope=col>&lt;chr&gt;</th></tr>\n",
       "</thead>\n",
       "<tbody>\n",
       "\t<tr><th scope=row>GSE217517_pt1_AAACGAAAGAACCCGA-1</th><td>GSE217517</td><td> 7268</td><td>2217</td><td>tumour</td><td>HGSOC</td><td>pt1</td><td>GSE217517_HGSOC_pt1</td><td> 3.769950</td><td>9</td><td>1</td><td>1</td><td>ovary</td><td>primary tumour</td><td>HGSOC</td><td>GSE217517_HGSOC_pt1</td></tr>\n",
       "\t<tr><th scope=row>GSE217517_pt1_AAAGAACCAGGGCTTC-1</th><td>GSE217517</td><td>20132</td><td>4339</td><td>tumour</td><td>HGSOC</td><td>pt1</td><td>GSE217517_HGSOC_pt1</td><td> 7.634612</td><td>5</td><td>1</td><td>1</td><td>ovary</td><td>primary tumour</td><td>HGSOC</td><td>GSE217517_HGSOC_pt1</td></tr>\n",
       "\t<tr><th scope=row>GSE217517_pt1_AAAGAACTCCATGAGT-1</th><td>GSE217517</td><td> 4183</td><td>1410</td><td>tumour</td><td>HGSOC</td><td>pt1</td><td>GSE217517_HGSOC_pt1</td><td>35.142242</td><td>9</td><td>1</td><td>1</td><td>ovary</td><td>primary tumour</td><td>HGSOC</td><td>GSE217517_HGSOC_pt1</td></tr>\n",
       "\t<tr><th scope=row>GSE217517_pt1_AAAGGATTCTATTTCG-1</th><td>GSE217517</td><td> 3037</td><td>1274</td><td>tumour</td><td>HGSOC</td><td>pt1</td><td>GSE217517_HGSOC_pt1</td><td> 6.914718</td><td>9</td><td>1</td><td>1</td><td>ovary</td><td>primary tumour</td><td>HGSOC</td><td>GSE217517_HGSOC_pt1</td></tr>\n",
       "\t<tr><th scope=row>GSE217517_pt1_AAATGGACACTGAGGA-1</th><td>GSE217517</td><td> 9516</td><td>2822</td><td>tumour</td><td>HGSOC</td><td>pt1</td><td>GSE217517_HGSOC_pt1</td><td> 2.847835</td><td>5</td><td>1</td><td>1</td><td>ovary</td><td>primary tumour</td><td>HGSOC</td><td>GSE217517_HGSOC_pt1</td></tr>\n",
       "\t<tr><th scope=row>GSE217517_pt1_AACAGGGGTCATCGGC-1</th><td>GSE217517</td><td>22104</td><td>4611</td><td>tumour</td><td>HGSOC</td><td>pt1</td><td>GSE217517_HGSOC_pt1</td><td> 7.695440</td><td>9</td><td>1</td><td>1</td><td>ovary</td><td>primary tumour</td><td>HGSOC</td><td>GSE217517_HGSOC_pt1</td></tr>\n",
       "</tbody>\n",
       "</table>\n"
      ],
      "text/latex": [
       "A data.frame: 6 × 15\n",
       "\\begin{tabular}{r|lllllllllllllll}\n",
       "  & orig.ident & nCount\\_RNA & nFeature\\_RNA & sample\\_type & cancer\\_type & patient\\_id & sample\\_id & percent.mt & RNA\\_snn\\_res.0.5 & seurat\\_clusters & RNA\\_snn\\_res.0.2 & site & sample\\_type\\_major & cancer\\_subtype & integration\\_id\\\\\n",
       "  & <chr> & <dbl> & <int> & <chr> & <chr> & <chr> & <chr> & <dbl> & <fct> & <fct> & <fct> & <chr> & <chr> & <chr> & <chr>\\\\\n",
       "\\hline\n",
       "\tGSE217517\\_pt1\\_AAACGAAAGAACCCGA-1 & GSE217517 &  7268 & 2217 & tumour & HGSOC & pt1 & GSE217517\\_HGSOC\\_pt1 &  3.769950 & 9 & 1 & 1 & ovary & primary tumour & HGSOC & GSE217517\\_HGSOC\\_pt1\\\\\n",
       "\tGSE217517\\_pt1\\_AAAGAACCAGGGCTTC-1 & GSE217517 & 20132 & 4339 & tumour & HGSOC & pt1 & GSE217517\\_HGSOC\\_pt1 &  7.634612 & 5 & 1 & 1 & ovary & primary tumour & HGSOC & GSE217517\\_HGSOC\\_pt1\\\\\n",
       "\tGSE217517\\_pt1\\_AAAGAACTCCATGAGT-1 & GSE217517 &  4183 & 1410 & tumour & HGSOC & pt1 & GSE217517\\_HGSOC\\_pt1 & 35.142242 & 9 & 1 & 1 & ovary & primary tumour & HGSOC & GSE217517\\_HGSOC\\_pt1\\\\\n",
       "\tGSE217517\\_pt1\\_AAAGGATTCTATTTCG-1 & GSE217517 &  3037 & 1274 & tumour & HGSOC & pt1 & GSE217517\\_HGSOC\\_pt1 &  6.914718 & 9 & 1 & 1 & ovary & primary tumour & HGSOC & GSE217517\\_HGSOC\\_pt1\\\\\n",
       "\tGSE217517\\_pt1\\_AAATGGACACTGAGGA-1 & GSE217517 &  9516 & 2822 & tumour & HGSOC & pt1 & GSE217517\\_HGSOC\\_pt1 &  2.847835 & 5 & 1 & 1 & ovary & primary tumour & HGSOC & GSE217517\\_HGSOC\\_pt1\\\\\n",
       "\tGSE217517\\_pt1\\_AACAGGGGTCATCGGC-1 & GSE217517 & 22104 & 4611 & tumour & HGSOC & pt1 & GSE217517\\_HGSOC\\_pt1 &  7.695440 & 9 & 1 & 1 & ovary & primary tumour & HGSOC & GSE217517\\_HGSOC\\_pt1\\\\\n",
       "\\end{tabular}\n"
      ],
      "text/markdown": [
       "\n",
       "A data.frame: 6 × 15\n",
       "\n",
       "| <!--/--> | orig.ident &lt;chr&gt; | nCount_RNA &lt;dbl&gt; | nFeature_RNA &lt;int&gt; | sample_type &lt;chr&gt; | cancer_type &lt;chr&gt; | patient_id &lt;chr&gt; | sample_id &lt;chr&gt; | percent.mt &lt;dbl&gt; | RNA_snn_res.0.5 &lt;fct&gt; | seurat_clusters &lt;fct&gt; | RNA_snn_res.0.2 &lt;fct&gt; | site &lt;chr&gt; | sample_type_major &lt;chr&gt; | cancer_subtype &lt;chr&gt; | integration_id &lt;chr&gt; |\n",
       "|---|---|---|---|---|---|---|---|---|---|---|---|---|---|---|---|\n",
       "| GSE217517_pt1_AAACGAAAGAACCCGA-1 | GSE217517 |  7268 | 2217 | tumour | HGSOC | pt1 | GSE217517_HGSOC_pt1 |  3.769950 | 9 | 1 | 1 | ovary | primary tumour | HGSOC | GSE217517_HGSOC_pt1 |\n",
       "| GSE217517_pt1_AAAGAACCAGGGCTTC-1 | GSE217517 | 20132 | 4339 | tumour | HGSOC | pt1 | GSE217517_HGSOC_pt1 |  7.634612 | 5 | 1 | 1 | ovary | primary tumour | HGSOC | GSE217517_HGSOC_pt1 |\n",
       "| GSE217517_pt1_AAAGAACTCCATGAGT-1 | GSE217517 |  4183 | 1410 | tumour | HGSOC | pt1 | GSE217517_HGSOC_pt1 | 35.142242 | 9 | 1 | 1 | ovary | primary tumour | HGSOC | GSE217517_HGSOC_pt1 |\n",
       "| GSE217517_pt1_AAAGGATTCTATTTCG-1 | GSE217517 |  3037 | 1274 | tumour | HGSOC | pt1 | GSE217517_HGSOC_pt1 |  6.914718 | 9 | 1 | 1 | ovary | primary tumour | HGSOC | GSE217517_HGSOC_pt1 |\n",
       "| GSE217517_pt1_AAATGGACACTGAGGA-1 | GSE217517 |  9516 | 2822 | tumour | HGSOC | pt1 | GSE217517_HGSOC_pt1 |  2.847835 | 5 | 1 | 1 | ovary | primary tumour | HGSOC | GSE217517_HGSOC_pt1 |\n",
       "| GSE217517_pt1_AACAGGGGTCATCGGC-1 | GSE217517 | 22104 | 4611 | tumour | HGSOC | pt1 | GSE217517_HGSOC_pt1 |  7.695440 | 9 | 1 | 1 | ovary | primary tumour | HGSOC | GSE217517_HGSOC_pt1 |\n",
       "\n"
      ],
      "text/plain": [
       "                                 orig.ident nCount_RNA nFeature_RNA sample_type\n",
       "GSE217517_pt1_AAACGAAAGAACCCGA-1 GSE217517   7268      2217         tumour     \n",
       "GSE217517_pt1_AAAGAACCAGGGCTTC-1 GSE217517  20132      4339         tumour     \n",
       "GSE217517_pt1_AAAGAACTCCATGAGT-1 GSE217517   4183      1410         tumour     \n",
       "GSE217517_pt1_AAAGGATTCTATTTCG-1 GSE217517   3037      1274         tumour     \n",
       "GSE217517_pt1_AAATGGACACTGAGGA-1 GSE217517   9516      2822         tumour     \n",
       "GSE217517_pt1_AACAGGGGTCATCGGC-1 GSE217517  22104      4611         tumour     \n",
       "                                 cancer_type patient_id sample_id          \n",
       "GSE217517_pt1_AAACGAAAGAACCCGA-1 HGSOC       pt1        GSE217517_HGSOC_pt1\n",
       "GSE217517_pt1_AAAGAACCAGGGCTTC-1 HGSOC       pt1        GSE217517_HGSOC_pt1\n",
       "GSE217517_pt1_AAAGAACTCCATGAGT-1 HGSOC       pt1        GSE217517_HGSOC_pt1\n",
       "GSE217517_pt1_AAAGGATTCTATTTCG-1 HGSOC       pt1        GSE217517_HGSOC_pt1\n",
       "GSE217517_pt1_AAATGGACACTGAGGA-1 HGSOC       pt1        GSE217517_HGSOC_pt1\n",
       "GSE217517_pt1_AACAGGGGTCATCGGC-1 HGSOC       pt1        GSE217517_HGSOC_pt1\n",
       "                                 percent.mt RNA_snn_res.0.5 seurat_clusters\n",
       "GSE217517_pt1_AAACGAAAGAACCCGA-1  3.769950  9               1              \n",
       "GSE217517_pt1_AAAGAACCAGGGCTTC-1  7.634612  5               1              \n",
       "GSE217517_pt1_AAAGAACTCCATGAGT-1 35.142242  9               1              \n",
       "GSE217517_pt1_AAAGGATTCTATTTCG-1  6.914718  9               1              \n",
       "GSE217517_pt1_AAATGGACACTGAGGA-1  2.847835  5               1              \n",
       "GSE217517_pt1_AACAGGGGTCATCGGC-1  7.695440  9               1              \n",
       "                                 RNA_snn_res.0.2 site  sample_type_major\n",
       "GSE217517_pt1_AAACGAAAGAACCCGA-1 1               ovary primary tumour   \n",
       "GSE217517_pt1_AAAGAACCAGGGCTTC-1 1               ovary primary tumour   \n",
       "GSE217517_pt1_AAAGAACTCCATGAGT-1 1               ovary primary tumour   \n",
       "GSE217517_pt1_AAAGGATTCTATTTCG-1 1               ovary primary tumour   \n",
       "GSE217517_pt1_AAATGGACACTGAGGA-1 1               ovary primary tumour   \n",
       "GSE217517_pt1_AACAGGGGTCATCGGC-1 1               ovary primary tumour   \n",
       "                                 cancer_subtype integration_id     \n",
       "GSE217517_pt1_AAACGAAAGAACCCGA-1 HGSOC          GSE217517_HGSOC_pt1\n",
       "GSE217517_pt1_AAAGAACCAGGGCTTC-1 HGSOC          GSE217517_HGSOC_pt1\n",
       "GSE217517_pt1_AAAGAACTCCATGAGT-1 HGSOC          GSE217517_HGSOC_pt1\n",
       "GSE217517_pt1_AAAGGATTCTATTTCG-1 HGSOC          GSE217517_HGSOC_pt1\n",
       "GSE217517_pt1_AAATGGACACTGAGGA-1 HGSOC          GSE217517_HGSOC_pt1\n",
       "GSE217517_pt1_AACAGGGGTCATCGGC-1 HGSOC          GSE217517_HGSOC_pt1"
      ]
     },
     "metadata": {},
     "output_type": "display_data"
    }
   ],
   "source": [
    "HGSOC\n",
    "HGSOC@project.name\n",
    "head(HGSOC@meta.data)"
   ]
  },
  {
   "cell_type": "code",
   "execution_count": 74,
   "metadata": {
    "vscode": {
     "languageId": "r"
    }
   },
   "outputs": [
    {
     "data": {
      "text/plain": [
       "\n",
       "GSE217517_HGSOC_pt1 GSE217517_HGSOC_pt2 GSE217517_HGSOC_pt3 GSE217517_HGSOC_pt4 \n",
       "                842                 966                2678                1517 \n",
       "GSE217517_HGSOC_pt5 GSE217517_HGSOC_pt6 GSE217517_HGSOC_pt7 GSE217517_HGSOC_pt8 \n",
       "               1004                  37                1054                 359 "
      ]
     },
     "metadata": {},
     "output_type": "display_data"
    },
    {
     "data": {
      "text/plain": [
       "\n",
       "GSE217517_HGSOC_pt1 GSE217517_HGSOC_pt2 GSE217517_HGSOC_pt3 GSE217517_HGSOC_pt4 \n",
       "                842                 966                2678                1517 \n",
       "GSE217517_HGSOC_pt5 GSE217517_HGSOC_pt7 GSE217517_HGSOC_pt8 \n",
       "               1004                1054                 359 "
      ]
     },
     "metadata": {},
     "output_type": "display_data"
    }
   ],
   "source": [
    "#exclude any samples with <100 cells\n",
    "table(HGSOC$integration_id)\n",
    "#exclude patient 6\n",
    "HGSOC <- subset(HGSOC, !(subset = integration_id %in% c(\"GSE217517_HGSOC_pt6\")))\n",
    "table(HGSOC$integration_id)"
   ]
  },
  {
   "cell_type": "code",
   "execution_count": 75,
   "metadata": {
    "vscode": {
     "languageId": "r"
    }
   },
   "outputs": [
    {
     "data": {
      "text/html": [
       "<style>\n",
       ".list-inline {list-style: none; margin:0; padding: 0}\n",
       ".list-inline>li {display: inline-block}\n",
       ".list-inline>li:not(:last-child)::after {content: \"\\00b7\"; padding: 0 .5ex}\n",
       "</style>\n",
       "<ol class=list-inline><li>'counts.1'</li><li>'counts.2'</li><li>'counts.3'</li><li>'counts.4'</li><li>'counts.5'</li><li>'counts.7'</li><li>'counts.8'</li><li>'data.1'</li><li>'data.2'</li><li>'data.3'</li><li>'data.4'</li><li>'data.5'</li><li>'data.7'</li><li>'data.8'</li><li>'scale.data'</li></ol>\n"
      ],
      "text/latex": [
       "\\begin{enumerate*}\n",
       "\\item 'counts.1'\n",
       "\\item 'counts.2'\n",
       "\\item 'counts.3'\n",
       "\\item 'counts.4'\n",
       "\\item 'counts.5'\n",
       "\\item 'counts.7'\n",
       "\\item 'counts.8'\n",
       "\\item 'data.1'\n",
       "\\item 'data.2'\n",
       "\\item 'data.3'\n",
       "\\item 'data.4'\n",
       "\\item 'data.5'\n",
       "\\item 'data.7'\n",
       "\\item 'data.8'\n",
       "\\item 'scale.data'\n",
       "\\end{enumerate*}\n"
      ],
      "text/markdown": [
       "1. 'counts.1'\n",
       "2. 'counts.2'\n",
       "3. 'counts.3'\n",
       "4. 'counts.4'\n",
       "5. 'counts.5'\n",
       "6. 'counts.7'\n",
       "7. 'counts.8'\n",
       "8. 'data.1'\n",
       "9. 'data.2'\n",
       "10. 'data.3'\n",
       "11. 'data.4'\n",
       "12. 'data.5'\n",
       "13. 'data.7'\n",
       "14. 'data.8'\n",
       "15. 'scale.data'\n",
       "\n",
       "\n"
      ],
      "text/plain": [
       " [1] \"counts.1\"   \"counts.2\"   \"counts.3\"   \"counts.4\"   \"counts.5\"  \n",
       " [6] \"counts.7\"   \"counts.8\"   \"data.1\"     \"data.2\"     \"data.3\"    \n",
       "[11] \"data.4\"     \"data.5\"     \"data.7\"     \"data.8\"     \"scale.data\""
      ]
     },
     "metadata": {},
     "output_type": "display_data"
    },
    {
     "data": {
      "text/html": [
       "<style>\n",
       ".list-inline {list-style: none; margin:0; padding: 0}\n",
       ".list-inline>li {display: inline-block}\n",
       ".list-inline>li:not(:last-child)::after {content: \"\\00b7\"; padding: 0 .5ex}\n",
       "</style>\n",
       "<ol class=list-inline><li>'data'</li><li>'counts'</li><li>'scale.data'</li></ol>\n"
      ],
      "text/latex": [
       "\\begin{enumerate*}\n",
       "\\item 'data'\n",
       "\\item 'counts'\n",
       "\\item 'scale.data'\n",
       "\\end{enumerate*}\n"
      ],
      "text/markdown": [
       "1. 'data'\n",
       "2. 'counts'\n",
       "3. 'scale.data'\n",
       "\n",
       "\n"
      ],
      "text/plain": [
       "[1] \"data\"       \"counts\"     \"scale.data\""
      ]
     },
     "metadata": {},
     "output_type": "display_data"
    },
    {
     "name": "stderr",
     "output_type": "stream",
     "text": [
      "Splitting ‘counts’, ‘data’ layers. Not splitting ‘scale.data’. If you would like to split other layers, set in `layers` argument.\n",
      "\n"
     ]
    },
    {
     "data": {
      "text/html": [
       "<style>\n",
       ".list-inline {list-style: none; margin:0; padding: 0}\n",
       ".list-inline>li {display: inline-block}\n",
       ".list-inline>li:not(:last-child)::after {content: \"\\00b7\"; padding: 0 .5ex}\n",
       "</style>\n",
       "<ol class=list-inline><li>'data.GSE217517_HGSOC_pt1'</li><li>'data.GSE217517_HGSOC_pt2'</li><li>'data.GSE217517_HGSOC_pt3'</li><li>'data.GSE217517_HGSOC_pt4'</li><li>'data.GSE217517_HGSOC_pt5'</li><li>'data.GSE217517_HGSOC_pt7'</li><li>'data.GSE217517_HGSOC_pt8'</li><li>'scale.data'</li><li>'counts.GSE217517_HGSOC_pt1'</li><li>'counts.GSE217517_HGSOC_pt2'</li><li>'counts.GSE217517_HGSOC_pt3'</li><li>'counts.GSE217517_HGSOC_pt4'</li><li>'counts.GSE217517_HGSOC_pt5'</li><li>'counts.GSE217517_HGSOC_pt7'</li><li>'counts.GSE217517_HGSOC_pt8'</li></ol>\n"
      ],
      "text/latex": [
       "\\begin{enumerate*}\n",
       "\\item 'data.GSE217517\\_HGSOC\\_pt1'\n",
       "\\item 'data.GSE217517\\_HGSOC\\_pt2'\n",
       "\\item 'data.GSE217517\\_HGSOC\\_pt3'\n",
       "\\item 'data.GSE217517\\_HGSOC\\_pt4'\n",
       "\\item 'data.GSE217517\\_HGSOC\\_pt5'\n",
       "\\item 'data.GSE217517\\_HGSOC\\_pt7'\n",
       "\\item 'data.GSE217517\\_HGSOC\\_pt8'\n",
       "\\item 'scale.data'\n",
       "\\item 'counts.GSE217517\\_HGSOC\\_pt1'\n",
       "\\item 'counts.GSE217517\\_HGSOC\\_pt2'\n",
       "\\item 'counts.GSE217517\\_HGSOC\\_pt3'\n",
       "\\item 'counts.GSE217517\\_HGSOC\\_pt4'\n",
       "\\item 'counts.GSE217517\\_HGSOC\\_pt5'\n",
       "\\item 'counts.GSE217517\\_HGSOC\\_pt7'\n",
       "\\item 'counts.GSE217517\\_HGSOC\\_pt8'\n",
       "\\end{enumerate*}\n"
      ],
      "text/markdown": [
       "1. 'data.GSE217517_HGSOC_pt1'\n",
       "2. 'data.GSE217517_HGSOC_pt2'\n",
       "3. 'data.GSE217517_HGSOC_pt3'\n",
       "4. 'data.GSE217517_HGSOC_pt4'\n",
       "5. 'data.GSE217517_HGSOC_pt5'\n",
       "6. 'data.GSE217517_HGSOC_pt7'\n",
       "7. 'data.GSE217517_HGSOC_pt8'\n",
       "8. 'scale.data'\n",
       "9. 'counts.GSE217517_HGSOC_pt1'\n",
       "10. 'counts.GSE217517_HGSOC_pt2'\n",
       "11. 'counts.GSE217517_HGSOC_pt3'\n",
       "12. 'counts.GSE217517_HGSOC_pt4'\n",
       "13. 'counts.GSE217517_HGSOC_pt5'\n",
       "14. 'counts.GSE217517_HGSOC_pt7'\n",
       "15. 'counts.GSE217517_HGSOC_pt8'\n",
       "\n",
       "\n"
      ],
      "text/plain": [
       " [1] \"data.GSE217517_HGSOC_pt1\"   \"data.GSE217517_HGSOC_pt2\"  \n",
       " [3] \"data.GSE217517_HGSOC_pt3\"   \"data.GSE217517_HGSOC_pt4\"  \n",
       " [5] \"data.GSE217517_HGSOC_pt5\"   \"data.GSE217517_HGSOC_pt7\"  \n",
       " [7] \"data.GSE217517_HGSOC_pt8\"   \"scale.data\"                \n",
       " [9] \"counts.GSE217517_HGSOC_pt1\" \"counts.GSE217517_HGSOC_pt2\"\n",
       "[11] \"counts.GSE217517_HGSOC_pt3\" \"counts.GSE217517_HGSOC_pt4\"\n",
       "[13] \"counts.GSE217517_HGSOC_pt5\" \"counts.GSE217517_HGSOC_pt7\"\n",
       "[15] \"counts.GSE217517_HGSOC_pt8\""
      ]
     },
     "metadata": {},
     "output_type": "display_data"
    }
   ],
   "source": [
    "#join layers and then split them by integration_id\n",
    "Layers(HGSOC[[\"RNA\"]])\n",
    "#join layers\n",
    "HGSOC[[\"RNA\"]] <- JoinLayers(HGSOC[[\"RNA\"]])\n",
    "Layers(HGSOC[[\"RNA\"]])\n",
    "#split layers\n",
    "HGSOC[[\"RNA\"]] <- split(HGSOC[[\"RNA\"]], f = HGSOC$integration_id)\n",
    "Layers(HGSOC[[\"RNA\"]])\n"
   ]
  },
  {
   "cell_type": "code",
   "execution_count": 76,
   "metadata": {
    "vscode": {
     "languageId": "r"
    }
   },
   "outputs": [
    {
     "data": {
      "text/plain": [
       "\n",
       "GSE217517_HGSOC_pt1 GSE217517_HGSOC_pt2 GSE217517_HGSOC_pt3 GSE217517_HGSOC_pt4 \n",
       "                842                 966                2678                1517 \n",
       "GSE217517_HGSOC_pt5 GSE217517_HGSOC_pt7 GSE217517_HGSOC_pt8 \n",
       "               1004                1054                 359 "
      ]
     },
     "metadata": {},
     "output_type": "display_data"
    }
   ],
   "source": [
    "#record number of cells\n",
    "table(HGSOC$integration_id)"
   ]
  },
  {
   "cell_type": "code",
   "execution_count": 77,
   "metadata": {
    "vscode": {
     "languageId": "r"
    }
   },
   "outputs": [],
   "source": [
    "#re-export seurat object ready for integration\n",
    "saveRDS(HGSOC, \"/scratch/user/s4436039/scdata/Myeloid_Cells/Myeloid_Cells_Integrate/GSE217517_myeloid_int.RDS\")"
   ]
  },
  {
   "cell_type": "code",
   "execution_count": 78,
   "metadata": {
    "vscode": {
     "languageId": "r"
    }
   },
   "outputs": [],
   "source": [
    "#remove all objects in R\n",
    "rm(list = ls())"
   ]
  },
  {
   "cell_type": "markdown",
   "metadata": {},
   "source": [
    "## PRJCA005422"
   ]
  },
  {
   "cell_type": "code",
   "execution_count": 79,
   "metadata": {
    "vscode": {
     "languageId": "r"
    }
   },
   "outputs": [],
   "source": [
    "HGSOC_As <- readRDS(\"/scratch/user/s4436039/scdata/Myeloid_Cells/PRJCA005422_ascites_myeloid.RDS\")\n",
    "HGSOC_Tu <- readRDS(\"/scratch/user/s4436039/scdata/Myeloid_Cells/PRJCA005422_tumour_myeloid.RDS\")"
   ]
  },
  {
   "cell_type": "code",
   "execution_count": 80,
   "metadata": {
    "vscode": {
     "languageId": "r"
    }
   },
   "outputs": [
    {
     "data": {
      "text/plain": [
       "An object of class Seurat \n",
       "27127 features across 16120 samples within 1 assay \n",
       "Active assay: RNA (27127 features, 2000 variable features)\n",
       " 3 layers present: counts, data, scale.data\n",
       " 2 dimensional reductions calculated: pca, umap"
      ]
     },
     "metadata": {},
     "output_type": "display_data"
    },
    {
     "data": {
      "text/html": [
       "'SeuratProject'"
      ],
      "text/latex": [
       "'SeuratProject'"
      ],
      "text/markdown": [
       "'SeuratProject'"
      ],
      "text/plain": [
       "[1] \"SeuratProject\""
      ]
     },
     "metadata": {},
     "output_type": "display_data"
    },
    {
     "data": {
      "text/html": [
       "<table class=\"dataframe\">\n",
       "<caption>A data.frame: 6 × 24</caption>\n",
       "<thead>\n",
       "\t<tr><th></th><th scope=col>orig.ident</th><th scope=col>nCount_RNA</th><th scope=col>nFeature_RNA</th><th scope=col>Cellname</th><th scope=col>Samples</th><th scope=col>Groups</th><th scope=col>Patients</th><th scope=col>percent.mt</th><th scope=col>percent.ribo</th><th scope=col>percent.HSP</th><th scope=col>⋯</th><th scope=col>maintypes_2</th><th scope=col>maintypes_3</th><th scope=col>UMAP_1</th><th scope=col>UMAP_2</th><th scope=col>sample_type</th><th scope=col>cancer_type</th><th scope=col>patient_id</th><th scope=col>sample_id</th><th scope=col>RNA_snn_res.0.2</th><th scope=col>seurat_clusters</th></tr>\n",
       "\t<tr><th></th><th scope=col>&lt;fct&gt;</th><th scope=col>&lt;dbl&gt;</th><th scope=col>&lt;int&gt;</th><th scope=col>&lt;chr&gt;</th><th scope=col>&lt;chr&gt;</th><th scope=col>&lt;fct&gt;</th><th scope=col>&lt;fct&gt;</th><th scope=col>&lt;dbl&gt;</th><th scope=col>&lt;dbl&gt;</th><th scope=col>&lt;dbl&gt;</th><th scope=col>⋯</th><th scope=col>&lt;fct&gt;</th><th scope=col>&lt;chr&gt;</th><th scope=col>&lt;dbl&gt;</th><th scope=col>&lt;dbl&gt;</th><th scope=col>&lt;fct&gt;</th><th scope=col>&lt;chr&gt;</th><th scope=col>&lt;fct&gt;</th><th scope=col>&lt;chr&gt;</th><th scope=col>&lt;fct&gt;</th><th scope=col>&lt;fct&gt;</th></tr>\n",
       "</thead>\n",
       "<tbody>\n",
       "\t<tr><th scope=row>PRJCA005422_EOC1_FS_cell_AACACGTGTCGGCACT</th><td>EOC1</td><td>24353</td><td>1770</td><td>EOC1_FS_cell_AACACGTGTCGGCACT</td><td>HGSOC1_AS</td><td>Ascites</td><td>HGSOC1</td><td>0.8007227</td><td> 3.859894</td><td>0.1519320</td><td>⋯</td><td>B                  </td><td>Lymphoid cells     </td><td> 0.1662883</td><td>13.255426</td><td>Ascites</td><td>HGSOC</td><td>HGSOC1</td><td>PRJCA005422_HGSOC1_AS</td><td>8</td><td>8</td></tr>\n",
       "\t<tr><th scope=row>PRJCA005422_EOC1_FS_cell_AACCGCGTCCCTAACC</th><td>EOC1</td><td>  531</td><td> 365</td><td>EOC1_FS_cell_AACCGCGTCCCTAACC</td><td>HGSOC1_AS</td><td>Ascites</td><td>HGSOC1</td><td>5.6497175</td><td>18.796992</td><td>0.1879699</td><td>⋯</td><td>B                  </td><td>Lymphoid cells     </td><td>-6.0097427</td><td>11.557367</td><td>Ascites</td><td>HGSOC</td><td>HGSOC1</td><td>PRJCA005422_HGSOC1_AS</td><td>4</td><td>4</td></tr>\n",
       "\t<tr><th scope=row>PRJCA005422_EOC1_FS_cell_AACTCCCAGTTTCCTT</th><td>EOC1</td><td> 9273</td><td>3128</td><td>EOC1_FS_cell_AACTCCCAGTTTCCTT</td><td>HGSOC1_AS</td><td>Ascites</td><td>HGSOC1</td><td>3.5479349</td><td>10.673854</td><td>0.4743935</td><td>⋯</td><td>Proliferative cells</td><td>Proliferative cells</td><td> 2.3708313</td><td> 2.942190</td><td>Ascites</td><td>HGSOC</td><td>HGSOC1</td><td>PRJCA005422_HGSOC1_AS</td><td>8</td><td>8</td></tr>\n",
       "\t<tr><th scope=row>PRJCA005422_EOC1_FS_cell_AAGGCAGGTTAAAGTG</th><td>EOC1</td><td> 4757</td><td>2120</td><td>EOC1_FS_cell_AAGGCAGGTTAAAGTG</td><td>HGSOC1_AS</td><td>Ascites</td><td>HGSOC1</td><td>9.7750683</td><td>15.762926</td><td>0.6094998</td><td>⋯</td><td>Proliferative cells</td><td>Proliferative cells</td><td> 2.5225659</td><td> 2.890291</td><td>Ascites</td><td>HGSOC</td><td>HGSOC1</td><td>PRJCA005422_HGSOC1_AS</td><td>8</td><td>8</td></tr>\n",
       "\t<tr><th scope=row>PRJCA005422_EOC1_FS_cell_AAGGCAGTCAACACTG</th><td>EOC1</td><td>19574</td><td>3727</td><td>EOC1_FS_cell_AAGGCAGTCAACACTG</td><td>HGSOC1_AS</td><td>Ascites</td><td>HGSOC1</td><td>7.1319097</td><td>24.638570</td><td>0.3473819</td><td>⋯</td><td>Proliferative cells</td><td>Proliferative cells</td><td> 1.6956519</td><td> 3.476046</td><td>Ascites</td><td>HGSOC</td><td>HGSOC1</td><td>PRJCA005422_HGSOC1_AS</td><td>8</td><td>8</td></tr>\n",
       "\t<tr><th scope=row>PRJCA005422_EOC1_FS_cell_ACACCAAAGCTAACTC</th><td>EOC1</td><td>22514</td><td>3971</td><td>EOC1_FS_cell_ACACCAAAGCTAACTC</td><td>HGSOC1_AS</td><td>Ascites</td><td>HGSOC1</td><td>5.7208848</td><td>20.034642</td><td>0.7683425</td><td>⋯</td><td>Proliferative cells</td><td>Proliferative cells</td><td> 2.0638140</td><td>12.254530</td><td>Ascites</td><td>HGSOC</td><td>HGSOC1</td><td>PRJCA005422_HGSOC1_AS</td><td>8</td><td>8</td></tr>\n",
       "</tbody>\n",
       "</table>\n"
      ],
      "text/latex": [
       "A data.frame: 6 × 24\n",
       "\\begin{tabular}{r|lllllllllllllllllllll}\n",
       "  & orig.ident & nCount\\_RNA & nFeature\\_RNA & Cellname & Samples & Groups & Patients & percent.mt & percent.ribo & percent.HSP & ⋯ & maintypes\\_2 & maintypes\\_3 & UMAP\\_1 & UMAP\\_2 & sample\\_type & cancer\\_type & patient\\_id & sample\\_id & RNA\\_snn\\_res.0.2 & seurat\\_clusters\\\\\n",
       "  & <fct> & <dbl> & <int> & <chr> & <chr> & <fct> & <fct> & <dbl> & <dbl> & <dbl> & ⋯ & <fct> & <chr> & <dbl> & <dbl> & <fct> & <chr> & <fct> & <chr> & <fct> & <fct>\\\\\n",
       "\\hline\n",
       "\tPRJCA005422\\_EOC1\\_FS\\_cell\\_AACACGTGTCGGCACT & EOC1 & 24353 & 1770 & EOC1\\_FS\\_cell\\_AACACGTGTCGGCACT & HGSOC1\\_AS & Ascites & HGSOC1 & 0.8007227 &  3.859894 & 0.1519320 & ⋯ & B                   & Lymphoid cells      &  0.1662883 & 13.255426 & Ascites & HGSOC & HGSOC1 & PRJCA005422\\_HGSOC1\\_AS & 8 & 8\\\\\n",
       "\tPRJCA005422\\_EOC1\\_FS\\_cell\\_AACCGCGTCCCTAACC & EOC1 &   531 &  365 & EOC1\\_FS\\_cell\\_AACCGCGTCCCTAACC & HGSOC1\\_AS & Ascites & HGSOC1 & 5.6497175 & 18.796992 & 0.1879699 & ⋯ & B                   & Lymphoid cells      & -6.0097427 & 11.557367 & Ascites & HGSOC & HGSOC1 & PRJCA005422\\_HGSOC1\\_AS & 4 & 4\\\\\n",
       "\tPRJCA005422\\_EOC1\\_FS\\_cell\\_AACTCCCAGTTTCCTT & EOC1 &  9273 & 3128 & EOC1\\_FS\\_cell\\_AACTCCCAGTTTCCTT & HGSOC1\\_AS & Ascites & HGSOC1 & 3.5479349 & 10.673854 & 0.4743935 & ⋯ & Proliferative cells & Proliferative cells &  2.3708313 &  2.942190 & Ascites & HGSOC & HGSOC1 & PRJCA005422\\_HGSOC1\\_AS & 8 & 8\\\\\n",
       "\tPRJCA005422\\_EOC1\\_FS\\_cell\\_AAGGCAGGTTAAAGTG & EOC1 &  4757 & 2120 & EOC1\\_FS\\_cell\\_AAGGCAGGTTAAAGTG & HGSOC1\\_AS & Ascites & HGSOC1 & 9.7750683 & 15.762926 & 0.6094998 & ⋯ & Proliferative cells & Proliferative cells &  2.5225659 &  2.890291 & Ascites & HGSOC & HGSOC1 & PRJCA005422\\_HGSOC1\\_AS & 8 & 8\\\\\n",
       "\tPRJCA005422\\_EOC1\\_FS\\_cell\\_AAGGCAGTCAACACTG & EOC1 & 19574 & 3727 & EOC1\\_FS\\_cell\\_AAGGCAGTCAACACTG & HGSOC1\\_AS & Ascites & HGSOC1 & 7.1319097 & 24.638570 & 0.3473819 & ⋯ & Proliferative cells & Proliferative cells &  1.6956519 &  3.476046 & Ascites & HGSOC & HGSOC1 & PRJCA005422\\_HGSOC1\\_AS & 8 & 8\\\\\n",
       "\tPRJCA005422\\_EOC1\\_FS\\_cell\\_ACACCAAAGCTAACTC & EOC1 & 22514 & 3971 & EOC1\\_FS\\_cell\\_ACACCAAAGCTAACTC & HGSOC1\\_AS & Ascites & HGSOC1 & 5.7208848 & 20.034642 & 0.7683425 & ⋯ & Proliferative cells & Proliferative cells &  2.0638140 & 12.254530 & Ascites & HGSOC & HGSOC1 & PRJCA005422\\_HGSOC1\\_AS & 8 & 8\\\\\n",
       "\\end{tabular}\n"
      ],
      "text/markdown": [
       "\n",
       "A data.frame: 6 × 24\n",
       "\n",
       "| <!--/--> | orig.ident &lt;fct&gt; | nCount_RNA &lt;dbl&gt; | nFeature_RNA &lt;int&gt; | Cellname &lt;chr&gt; | Samples &lt;chr&gt; | Groups &lt;fct&gt; | Patients &lt;fct&gt; | percent.mt &lt;dbl&gt; | percent.ribo &lt;dbl&gt; | percent.HSP &lt;dbl&gt; | ⋯ ⋯ | maintypes_2 &lt;fct&gt; | maintypes_3 &lt;chr&gt; | UMAP_1 &lt;dbl&gt; | UMAP_2 &lt;dbl&gt; | sample_type &lt;fct&gt; | cancer_type &lt;chr&gt; | patient_id &lt;fct&gt; | sample_id &lt;chr&gt; | RNA_snn_res.0.2 &lt;fct&gt; | seurat_clusters &lt;fct&gt; |\n",
       "|---|---|---|---|---|---|---|---|---|---|---|---|---|---|---|---|---|---|---|---|---|---|\n",
       "| PRJCA005422_EOC1_FS_cell_AACACGTGTCGGCACT | EOC1 | 24353 | 1770 | EOC1_FS_cell_AACACGTGTCGGCACT | HGSOC1_AS | Ascites | HGSOC1 | 0.8007227 |  3.859894 | 0.1519320 | ⋯ | B                   | Lymphoid cells      |  0.1662883 | 13.255426 | Ascites | HGSOC | HGSOC1 | PRJCA005422_HGSOC1_AS | 8 | 8 |\n",
       "| PRJCA005422_EOC1_FS_cell_AACCGCGTCCCTAACC | EOC1 |   531 |  365 | EOC1_FS_cell_AACCGCGTCCCTAACC | HGSOC1_AS | Ascites | HGSOC1 | 5.6497175 | 18.796992 | 0.1879699 | ⋯ | B                   | Lymphoid cells      | -6.0097427 | 11.557367 | Ascites | HGSOC | HGSOC1 | PRJCA005422_HGSOC1_AS | 4 | 4 |\n",
       "| PRJCA005422_EOC1_FS_cell_AACTCCCAGTTTCCTT | EOC1 |  9273 | 3128 | EOC1_FS_cell_AACTCCCAGTTTCCTT | HGSOC1_AS | Ascites | HGSOC1 | 3.5479349 | 10.673854 | 0.4743935 | ⋯ | Proliferative cells | Proliferative cells |  2.3708313 |  2.942190 | Ascites | HGSOC | HGSOC1 | PRJCA005422_HGSOC1_AS | 8 | 8 |\n",
       "| PRJCA005422_EOC1_FS_cell_AAGGCAGGTTAAAGTG | EOC1 |  4757 | 2120 | EOC1_FS_cell_AAGGCAGGTTAAAGTG | HGSOC1_AS | Ascites | HGSOC1 | 9.7750683 | 15.762926 | 0.6094998 | ⋯ | Proliferative cells | Proliferative cells |  2.5225659 |  2.890291 | Ascites | HGSOC | HGSOC1 | PRJCA005422_HGSOC1_AS | 8 | 8 |\n",
       "| PRJCA005422_EOC1_FS_cell_AAGGCAGTCAACACTG | EOC1 | 19574 | 3727 | EOC1_FS_cell_AAGGCAGTCAACACTG | HGSOC1_AS | Ascites | HGSOC1 | 7.1319097 | 24.638570 | 0.3473819 | ⋯ | Proliferative cells | Proliferative cells |  1.6956519 |  3.476046 | Ascites | HGSOC | HGSOC1 | PRJCA005422_HGSOC1_AS | 8 | 8 |\n",
       "| PRJCA005422_EOC1_FS_cell_ACACCAAAGCTAACTC | EOC1 | 22514 | 3971 | EOC1_FS_cell_ACACCAAAGCTAACTC | HGSOC1_AS | Ascites | HGSOC1 | 5.7208848 | 20.034642 | 0.7683425 | ⋯ | Proliferative cells | Proliferative cells |  2.0638140 | 12.254530 | Ascites | HGSOC | HGSOC1 | PRJCA005422_HGSOC1_AS | 8 | 8 |\n",
       "\n"
      ],
      "text/plain": [
       "                                          orig.ident nCount_RNA nFeature_RNA\n",
       "PRJCA005422_EOC1_FS_cell_AACACGTGTCGGCACT EOC1       24353      1770        \n",
       "PRJCA005422_EOC1_FS_cell_AACCGCGTCCCTAACC EOC1         531       365        \n",
       "PRJCA005422_EOC1_FS_cell_AACTCCCAGTTTCCTT EOC1        9273      3128        \n",
       "PRJCA005422_EOC1_FS_cell_AAGGCAGGTTAAAGTG EOC1        4757      2120        \n",
       "PRJCA005422_EOC1_FS_cell_AAGGCAGTCAACACTG EOC1       19574      3727        \n",
       "PRJCA005422_EOC1_FS_cell_ACACCAAAGCTAACTC EOC1       22514      3971        \n",
       "                                          Cellname                     \n",
       "PRJCA005422_EOC1_FS_cell_AACACGTGTCGGCACT EOC1_FS_cell_AACACGTGTCGGCACT\n",
       "PRJCA005422_EOC1_FS_cell_AACCGCGTCCCTAACC EOC1_FS_cell_AACCGCGTCCCTAACC\n",
       "PRJCA005422_EOC1_FS_cell_AACTCCCAGTTTCCTT EOC1_FS_cell_AACTCCCAGTTTCCTT\n",
       "PRJCA005422_EOC1_FS_cell_AAGGCAGGTTAAAGTG EOC1_FS_cell_AAGGCAGGTTAAAGTG\n",
       "PRJCA005422_EOC1_FS_cell_AAGGCAGTCAACACTG EOC1_FS_cell_AAGGCAGTCAACACTG\n",
       "PRJCA005422_EOC1_FS_cell_ACACCAAAGCTAACTC EOC1_FS_cell_ACACCAAAGCTAACTC\n",
       "                                          Samples   Groups  Patients percent.mt\n",
       "PRJCA005422_EOC1_FS_cell_AACACGTGTCGGCACT HGSOC1_AS Ascites HGSOC1   0.8007227 \n",
       "PRJCA005422_EOC1_FS_cell_AACCGCGTCCCTAACC HGSOC1_AS Ascites HGSOC1   5.6497175 \n",
       "PRJCA005422_EOC1_FS_cell_AACTCCCAGTTTCCTT HGSOC1_AS Ascites HGSOC1   3.5479349 \n",
       "PRJCA005422_EOC1_FS_cell_AAGGCAGGTTAAAGTG HGSOC1_AS Ascites HGSOC1   9.7750683 \n",
       "PRJCA005422_EOC1_FS_cell_AAGGCAGTCAACACTG HGSOC1_AS Ascites HGSOC1   7.1319097 \n",
       "PRJCA005422_EOC1_FS_cell_ACACCAAAGCTAACTC HGSOC1_AS Ascites HGSOC1   5.7208848 \n",
       "                                          percent.ribo percent.HSP ⋯\n",
       "PRJCA005422_EOC1_FS_cell_AACACGTGTCGGCACT  3.859894    0.1519320   ⋯\n",
       "PRJCA005422_EOC1_FS_cell_AACCGCGTCCCTAACC 18.796992    0.1879699   ⋯\n",
       "PRJCA005422_EOC1_FS_cell_AACTCCCAGTTTCCTT 10.673854    0.4743935   ⋯\n",
       "PRJCA005422_EOC1_FS_cell_AAGGCAGGTTAAAGTG 15.762926    0.6094998   ⋯\n",
       "PRJCA005422_EOC1_FS_cell_AAGGCAGTCAACACTG 24.638570    0.3473819   ⋯\n",
       "PRJCA005422_EOC1_FS_cell_ACACCAAAGCTAACTC 20.034642    0.7683425   ⋯\n",
       "                                          maintypes_2        \n",
       "PRJCA005422_EOC1_FS_cell_AACACGTGTCGGCACT B                  \n",
       "PRJCA005422_EOC1_FS_cell_AACCGCGTCCCTAACC B                  \n",
       "PRJCA005422_EOC1_FS_cell_AACTCCCAGTTTCCTT Proliferative cells\n",
       "PRJCA005422_EOC1_FS_cell_AAGGCAGGTTAAAGTG Proliferative cells\n",
       "PRJCA005422_EOC1_FS_cell_AAGGCAGTCAACACTG Proliferative cells\n",
       "PRJCA005422_EOC1_FS_cell_ACACCAAAGCTAACTC Proliferative cells\n",
       "                                          maintypes_3         UMAP_1    \n",
       "PRJCA005422_EOC1_FS_cell_AACACGTGTCGGCACT Lymphoid cells       0.1662883\n",
       "PRJCA005422_EOC1_FS_cell_AACCGCGTCCCTAACC Lymphoid cells      -6.0097427\n",
       "PRJCA005422_EOC1_FS_cell_AACTCCCAGTTTCCTT Proliferative cells  2.3708313\n",
       "PRJCA005422_EOC1_FS_cell_AAGGCAGGTTAAAGTG Proliferative cells  2.5225659\n",
       "PRJCA005422_EOC1_FS_cell_AAGGCAGTCAACACTG Proliferative cells  1.6956519\n",
       "PRJCA005422_EOC1_FS_cell_ACACCAAAGCTAACTC Proliferative cells  2.0638140\n",
       "                                          UMAP_2    sample_type cancer_type\n",
       "PRJCA005422_EOC1_FS_cell_AACACGTGTCGGCACT 13.255426 Ascites     HGSOC      \n",
       "PRJCA005422_EOC1_FS_cell_AACCGCGTCCCTAACC 11.557367 Ascites     HGSOC      \n",
       "PRJCA005422_EOC1_FS_cell_AACTCCCAGTTTCCTT  2.942190 Ascites     HGSOC      \n",
       "PRJCA005422_EOC1_FS_cell_AAGGCAGGTTAAAGTG  2.890291 Ascites     HGSOC      \n",
       "PRJCA005422_EOC1_FS_cell_AAGGCAGTCAACACTG  3.476046 Ascites     HGSOC      \n",
       "PRJCA005422_EOC1_FS_cell_ACACCAAAGCTAACTC 12.254530 Ascites     HGSOC      \n",
       "                                          patient_id sample_id            \n",
       "PRJCA005422_EOC1_FS_cell_AACACGTGTCGGCACT HGSOC1     PRJCA005422_HGSOC1_AS\n",
       "PRJCA005422_EOC1_FS_cell_AACCGCGTCCCTAACC HGSOC1     PRJCA005422_HGSOC1_AS\n",
       "PRJCA005422_EOC1_FS_cell_AACTCCCAGTTTCCTT HGSOC1     PRJCA005422_HGSOC1_AS\n",
       "PRJCA005422_EOC1_FS_cell_AAGGCAGGTTAAAGTG HGSOC1     PRJCA005422_HGSOC1_AS\n",
       "PRJCA005422_EOC1_FS_cell_AAGGCAGTCAACACTG HGSOC1     PRJCA005422_HGSOC1_AS\n",
       "PRJCA005422_EOC1_FS_cell_ACACCAAAGCTAACTC HGSOC1     PRJCA005422_HGSOC1_AS\n",
       "                                          RNA_snn_res.0.2 seurat_clusters\n",
       "PRJCA005422_EOC1_FS_cell_AACACGTGTCGGCACT 8               8              \n",
       "PRJCA005422_EOC1_FS_cell_AACCGCGTCCCTAACC 4               4              \n",
       "PRJCA005422_EOC1_FS_cell_AACTCCCAGTTTCCTT 8               8              \n",
       "PRJCA005422_EOC1_FS_cell_AAGGCAGGTTAAAGTG 8               8              \n",
       "PRJCA005422_EOC1_FS_cell_AAGGCAGTCAACACTG 8               8              \n",
       "PRJCA005422_EOC1_FS_cell_ACACCAAAGCTAACTC 8               8              "
      ]
     },
     "metadata": {},
     "output_type": "display_data"
    },
    {
     "data": {
      "text/plain": [
       "An object of class Seurat \n",
       "27127 features across 13256 samples within 1 assay \n",
       "Active assay: RNA (27127 features, 2000 variable features)\n",
       " 3 layers present: counts, data, scale.data\n",
       " 2 dimensional reductions calculated: pca, umap"
      ]
     },
     "metadata": {},
     "output_type": "display_data"
    },
    {
     "data": {
      "text/html": [
       "'SeuratProject'"
      ],
      "text/latex": [
       "'SeuratProject'"
      ],
      "text/markdown": [
       "'SeuratProject'"
      ],
      "text/plain": [
       "[1] \"SeuratProject\""
      ]
     },
     "metadata": {},
     "output_type": "display_data"
    },
    {
     "data": {
      "text/html": [
       "<table class=\"dataframe\">\n",
       "<caption>A data.frame: 6 × 24</caption>\n",
       "<thead>\n",
       "\t<tr><th></th><th scope=col>orig.ident</th><th scope=col>nCount_RNA</th><th scope=col>nFeature_RNA</th><th scope=col>Cellname</th><th scope=col>Samples</th><th scope=col>Groups</th><th scope=col>Patients</th><th scope=col>percent.mt</th><th scope=col>percent.ribo</th><th scope=col>percent.HSP</th><th scope=col>⋯</th><th scope=col>maintypes_2</th><th scope=col>maintypes_3</th><th scope=col>UMAP_1</th><th scope=col>UMAP_2</th><th scope=col>sample_type</th><th scope=col>cancer_type</th><th scope=col>patient_id</th><th scope=col>sample_id</th><th scope=col>RNA_snn_res.0.2</th><th scope=col>seurat_clusters</th></tr>\n",
       "\t<tr><th></th><th scope=col>&lt;fct&gt;</th><th scope=col>&lt;dbl&gt;</th><th scope=col>&lt;int&gt;</th><th scope=col>&lt;chr&gt;</th><th scope=col>&lt;chr&gt;</th><th scope=col>&lt;fct&gt;</th><th scope=col>&lt;fct&gt;</th><th scope=col>&lt;dbl&gt;</th><th scope=col>&lt;dbl&gt;</th><th scope=col>&lt;dbl&gt;</th><th scope=col>⋯</th><th scope=col>&lt;fct&gt;</th><th scope=col>&lt;chr&gt;</th><th scope=col>&lt;dbl&gt;</th><th scope=col>&lt;dbl&gt;</th><th scope=col>&lt;fct&gt;</th><th scope=col>&lt;chr&gt;</th><th scope=col>&lt;fct&gt;</th><th scope=col>&lt;chr&gt;</th><th scope=col>&lt;fct&gt;</th><th scope=col>&lt;fct&gt;</th></tr>\n",
       "</thead>\n",
       "<tbody>\n",
       "\t<tr><th scope=row>PRJCA005422_EOC1_OC_cell_CCACGGACACCAGGCT</th><td>EOC1</td><td> 631</td><td>422</td><td>EOC1_OC_cell_CCACGGACACCAGGCT</td><td>HGSOC1_PT</td><td>Primary Tumor   </td><td>HGSOC1</td><td>5.0713154</td><td>16.45570</td><td>1.2658228</td><td>⋯</td><td>Proliferative cells</td><td>Proliferative cells</td><td>1.570391</td><td>2.864907</td><td>Primary Tumor   </td><td>HGSOC</td><td>HGSOC1</td><td>PRJCA005422_HGSOC1_PT</td><td>0</td><td>0</td></tr>\n",
       "\t<tr><th scope=row>PRJCA005422_EOC1_OC_cell_CCTACACAGAGTCTGG</th><td>EOC1</td><td> 639</td><td>368</td><td>EOC1_OC_cell_CCTACACAGAGTCTGG</td><td>HGSOC1_PT</td><td>Primary Tumor   </td><td>HGSOC1</td><td>3.7558685</td><td>25.00000</td><td>1.4062500</td><td>⋯</td><td>Proliferative cells</td><td>Proliferative cells</td><td>2.063956</td><td>3.946421</td><td>Primary Tumor   </td><td>HGSOC</td><td>HGSOC1</td><td>PRJCA005422_HGSOC1_PT</td><td>0</td><td>0</td></tr>\n",
       "\t<tr><th scope=row>PRJCA005422_EOC1_TM_cell_AGTTGGTTCACGCATA</th><td>EOC1</td><td> 651</td><td>394</td><td>EOC1_TM_cell_AGTTGGTTCACGCATA</td><td>HGSOC1_MT</td><td>Metastatic Tumor</td><td>HGSOC1</td><td>0.4608295</td><td>26.72811</td><td>0.1536098</td><td>⋯</td><td>Proliferative cells</td><td>Proliferative cells</td><td>1.906724</td><td>3.602650</td><td>Metastatic Tumor</td><td>HGSOC</td><td>HGSOC1</td><td>PRJCA005422_HGSOC1_MT</td><td>0</td><td>0</td></tr>\n",
       "\t<tr><th scope=row>PRJCA005422_EOC1_TM_cell_CGATCGGCACGCTTTC</th><td>EOC1</td><td>1480</td><td>787</td><td>EOC1_TM_cell_CGATCGGCACGCTTTC</td><td>HGSOC1_MT</td><td>Metastatic Tumor</td><td>HGSOC1</td><td>0.4054054</td><td>25.60811</td><td>0.6081081</td><td>⋯</td><td>Proliferative cells</td><td>Proliferative cells</td><td>2.014700</td><td>3.495903</td><td>Metastatic Tumor</td><td>HGSOC</td><td>HGSOC1</td><td>PRJCA005422_HGSOC1_MT</td><td>0</td><td>0</td></tr>\n",
       "\t<tr><th scope=row>PRJCA005422_EOC1_TM_cell_CTCTAATTCTTTACGT</th><td>EOC1</td><td>1067</td><td>522</td><td>EOC1_TM_cell_CTCTAATTCTTTACGT</td><td>HGSOC1_MT</td><td>Metastatic Tumor</td><td>HGSOC1</td><td>1.2183693</td><td>38.23805</td><td>0.1874414</td><td>⋯</td><td>Proliferative cells</td><td>Proliferative cells</td><td>1.414386</td><td>3.496294</td><td>Metastatic Tumor</td><td>HGSOC</td><td>HGSOC1</td><td>PRJCA005422_HGSOC1_MT</td><td>0</td><td>0</td></tr>\n",
       "\t<tr><th scope=row>PRJCA005422_EOC1_TM_cell_GCCTCTACACGGTTTA</th><td>EOC1</td><td>1629</td><td>792</td><td>EOC1_TM_cell_GCCTCTACACGGTTTA</td><td>HGSOC1_MT</td><td>Metastatic Tumor</td><td>HGSOC1</td><td>0.0000000</td><td>26.27379</td><td>0.9821977</td><td>⋯</td><td>Proliferative cells</td><td>Proliferative cells</td><td>1.583880</td><td>3.464499</td><td>Metastatic Tumor</td><td>HGSOC</td><td>HGSOC1</td><td>PRJCA005422_HGSOC1_MT</td><td>0</td><td>0</td></tr>\n",
       "</tbody>\n",
       "</table>\n"
      ],
      "text/latex": [
       "A data.frame: 6 × 24\n",
       "\\begin{tabular}{r|lllllllllllllllllllll}\n",
       "  & orig.ident & nCount\\_RNA & nFeature\\_RNA & Cellname & Samples & Groups & Patients & percent.mt & percent.ribo & percent.HSP & ⋯ & maintypes\\_2 & maintypes\\_3 & UMAP\\_1 & UMAP\\_2 & sample\\_type & cancer\\_type & patient\\_id & sample\\_id & RNA\\_snn\\_res.0.2 & seurat\\_clusters\\\\\n",
       "  & <fct> & <dbl> & <int> & <chr> & <chr> & <fct> & <fct> & <dbl> & <dbl> & <dbl> & ⋯ & <fct> & <chr> & <dbl> & <dbl> & <fct> & <chr> & <fct> & <chr> & <fct> & <fct>\\\\\n",
       "\\hline\n",
       "\tPRJCA005422\\_EOC1\\_OC\\_cell\\_CCACGGACACCAGGCT & EOC1 &  631 & 422 & EOC1\\_OC\\_cell\\_CCACGGACACCAGGCT & HGSOC1\\_PT & Primary Tumor    & HGSOC1 & 5.0713154 & 16.45570 & 1.2658228 & ⋯ & Proliferative cells & Proliferative cells & 1.570391 & 2.864907 & Primary Tumor    & HGSOC & HGSOC1 & PRJCA005422\\_HGSOC1\\_PT & 0 & 0\\\\\n",
       "\tPRJCA005422\\_EOC1\\_OC\\_cell\\_CCTACACAGAGTCTGG & EOC1 &  639 & 368 & EOC1\\_OC\\_cell\\_CCTACACAGAGTCTGG & HGSOC1\\_PT & Primary Tumor    & HGSOC1 & 3.7558685 & 25.00000 & 1.4062500 & ⋯ & Proliferative cells & Proliferative cells & 2.063956 & 3.946421 & Primary Tumor    & HGSOC & HGSOC1 & PRJCA005422\\_HGSOC1\\_PT & 0 & 0\\\\\n",
       "\tPRJCA005422\\_EOC1\\_TM\\_cell\\_AGTTGGTTCACGCATA & EOC1 &  651 & 394 & EOC1\\_TM\\_cell\\_AGTTGGTTCACGCATA & HGSOC1\\_MT & Metastatic Tumor & HGSOC1 & 0.4608295 & 26.72811 & 0.1536098 & ⋯ & Proliferative cells & Proliferative cells & 1.906724 & 3.602650 & Metastatic Tumor & HGSOC & HGSOC1 & PRJCA005422\\_HGSOC1\\_MT & 0 & 0\\\\\n",
       "\tPRJCA005422\\_EOC1\\_TM\\_cell\\_CGATCGGCACGCTTTC & EOC1 & 1480 & 787 & EOC1\\_TM\\_cell\\_CGATCGGCACGCTTTC & HGSOC1\\_MT & Metastatic Tumor & HGSOC1 & 0.4054054 & 25.60811 & 0.6081081 & ⋯ & Proliferative cells & Proliferative cells & 2.014700 & 3.495903 & Metastatic Tumor & HGSOC & HGSOC1 & PRJCA005422\\_HGSOC1\\_MT & 0 & 0\\\\\n",
       "\tPRJCA005422\\_EOC1\\_TM\\_cell\\_CTCTAATTCTTTACGT & EOC1 & 1067 & 522 & EOC1\\_TM\\_cell\\_CTCTAATTCTTTACGT & HGSOC1\\_MT & Metastatic Tumor & HGSOC1 & 1.2183693 & 38.23805 & 0.1874414 & ⋯ & Proliferative cells & Proliferative cells & 1.414386 & 3.496294 & Metastatic Tumor & HGSOC & HGSOC1 & PRJCA005422\\_HGSOC1\\_MT & 0 & 0\\\\\n",
       "\tPRJCA005422\\_EOC1\\_TM\\_cell\\_GCCTCTACACGGTTTA & EOC1 & 1629 & 792 & EOC1\\_TM\\_cell\\_GCCTCTACACGGTTTA & HGSOC1\\_MT & Metastatic Tumor & HGSOC1 & 0.0000000 & 26.27379 & 0.9821977 & ⋯ & Proliferative cells & Proliferative cells & 1.583880 & 3.464499 & Metastatic Tumor & HGSOC & HGSOC1 & PRJCA005422\\_HGSOC1\\_MT & 0 & 0\\\\\n",
       "\\end{tabular}\n"
      ],
      "text/markdown": [
       "\n",
       "A data.frame: 6 × 24\n",
       "\n",
       "| <!--/--> | orig.ident &lt;fct&gt; | nCount_RNA &lt;dbl&gt; | nFeature_RNA &lt;int&gt; | Cellname &lt;chr&gt; | Samples &lt;chr&gt; | Groups &lt;fct&gt; | Patients &lt;fct&gt; | percent.mt &lt;dbl&gt; | percent.ribo &lt;dbl&gt; | percent.HSP &lt;dbl&gt; | ⋯ ⋯ | maintypes_2 &lt;fct&gt; | maintypes_3 &lt;chr&gt; | UMAP_1 &lt;dbl&gt; | UMAP_2 &lt;dbl&gt; | sample_type &lt;fct&gt; | cancer_type &lt;chr&gt; | patient_id &lt;fct&gt; | sample_id &lt;chr&gt; | RNA_snn_res.0.2 &lt;fct&gt; | seurat_clusters &lt;fct&gt; |\n",
       "|---|---|---|---|---|---|---|---|---|---|---|---|---|---|---|---|---|---|---|---|---|---|\n",
       "| PRJCA005422_EOC1_OC_cell_CCACGGACACCAGGCT | EOC1 |  631 | 422 | EOC1_OC_cell_CCACGGACACCAGGCT | HGSOC1_PT | Primary Tumor    | HGSOC1 | 5.0713154 | 16.45570 | 1.2658228 | ⋯ | Proliferative cells | Proliferative cells | 1.570391 | 2.864907 | Primary Tumor    | HGSOC | HGSOC1 | PRJCA005422_HGSOC1_PT | 0 | 0 |\n",
       "| PRJCA005422_EOC1_OC_cell_CCTACACAGAGTCTGG | EOC1 |  639 | 368 | EOC1_OC_cell_CCTACACAGAGTCTGG | HGSOC1_PT | Primary Tumor    | HGSOC1 | 3.7558685 | 25.00000 | 1.4062500 | ⋯ | Proliferative cells | Proliferative cells | 2.063956 | 3.946421 | Primary Tumor    | HGSOC | HGSOC1 | PRJCA005422_HGSOC1_PT | 0 | 0 |\n",
       "| PRJCA005422_EOC1_TM_cell_AGTTGGTTCACGCATA | EOC1 |  651 | 394 | EOC1_TM_cell_AGTTGGTTCACGCATA | HGSOC1_MT | Metastatic Tumor | HGSOC1 | 0.4608295 | 26.72811 | 0.1536098 | ⋯ | Proliferative cells | Proliferative cells | 1.906724 | 3.602650 | Metastatic Tumor | HGSOC | HGSOC1 | PRJCA005422_HGSOC1_MT | 0 | 0 |\n",
       "| PRJCA005422_EOC1_TM_cell_CGATCGGCACGCTTTC | EOC1 | 1480 | 787 | EOC1_TM_cell_CGATCGGCACGCTTTC | HGSOC1_MT | Metastatic Tumor | HGSOC1 | 0.4054054 | 25.60811 | 0.6081081 | ⋯ | Proliferative cells | Proliferative cells | 2.014700 | 3.495903 | Metastatic Tumor | HGSOC | HGSOC1 | PRJCA005422_HGSOC1_MT | 0 | 0 |\n",
       "| PRJCA005422_EOC1_TM_cell_CTCTAATTCTTTACGT | EOC1 | 1067 | 522 | EOC1_TM_cell_CTCTAATTCTTTACGT | HGSOC1_MT | Metastatic Tumor | HGSOC1 | 1.2183693 | 38.23805 | 0.1874414 | ⋯ | Proliferative cells | Proliferative cells | 1.414386 | 3.496294 | Metastatic Tumor | HGSOC | HGSOC1 | PRJCA005422_HGSOC1_MT | 0 | 0 |\n",
       "| PRJCA005422_EOC1_TM_cell_GCCTCTACACGGTTTA | EOC1 | 1629 | 792 | EOC1_TM_cell_GCCTCTACACGGTTTA | HGSOC1_MT | Metastatic Tumor | HGSOC1 | 0.0000000 | 26.27379 | 0.9821977 | ⋯ | Proliferative cells | Proliferative cells | 1.583880 | 3.464499 | Metastatic Tumor | HGSOC | HGSOC1 | PRJCA005422_HGSOC1_MT | 0 | 0 |\n",
       "\n"
      ],
      "text/plain": [
       "                                          orig.ident nCount_RNA nFeature_RNA\n",
       "PRJCA005422_EOC1_OC_cell_CCACGGACACCAGGCT EOC1        631       422         \n",
       "PRJCA005422_EOC1_OC_cell_CCTACACAGAGTCTGG EOC1        639       368         \n",
       "PRJCA005422_EOC1_TM_cell_AGTTGGTTCACGCATA EOC1        651       394         \n",
       "PRJCA005422_EOC1_TM_cell_CGATCGGCACGCTTTC EOC1       1480       787         \n",
       "PRJCA005422_EOC1_TM_cell_CTCTAATTCTTTACGT EOC1       1067       522         \n",
       "PRJCA005422_EOC1_TM_cell_GCCTCTACACGGTTTA EOC1       1629       792         \n",
       "                                          Cellname                     \n",
       "PRJCA005422_EOC1_OC_cell_CCACGGACACCAGGCT EOC1_OC_cell_CCACGGACACCAGGCT\n",
       "PRJCA005422_EOC1_OC_cell_CCTACACAGAGTCTGG EOC1_OC_cell_CCTACACAGAGTCTGG\n",
       "PRJCA005422_EOC1_TM_cell_AGTTGGTTCACGCATA EOC1_TM_cell_AGTTGGTTCACGCATA\n",
       "PRJCA005422_EOC1_TM_cell_CGATCGGCACGCTTTC EOC1_TM_cell_CGATCGGCACGCTTTC\n",
       "PRJCA005422_EOC1_TM_cell_CTCTAATTCTTTACGT EOC1_TM_cell_CTCTAATTCTTTACGT\n",
       "PRJCA005422_EOC1_TM_cell_GCCTCTACACGGTTTA EOC1_TM_cell_GCCTCTACACGGTTTA\n",
       "                                          Samples   Groups           Patients\n",
       "PRJCA005422_EOC1_OC_cell_CCACGGACACCAGGCT HGSOC1_PT Primary Tumor    HGSOC1  \n",
       "PRJCA005422_EOC1_OC_cell_CCTACACAGAGTCTGG HGSOC1_PT Primary Tumor    HGSOC1  \n",
       "PRJCA005422_EOC1_TM_cell_AGTTGGTTCACGCATA HGSOC1_MT Metastatic Tumor HGSOC1  \n",
       "PRJCA005422_EOC1_TM_cell_CGATCGGCACGCTTTC HGSOC1_MT Metastatic Tumor HGSOC1  \n",
       "PRJCA005422_EOC1_TM_cell_CTCTAATTCTTTACGT HGSOC1_MT Metastatic Tumor HGSOC1  \n",
       "PRJCA005422_EOC1_TM_cell_GCCTCTACACGGTTTA HGSOC1_MT Metastatic Tumor HGSOC1  \n",
       "                                          percent.mt percent.ribo percent.HSP ⋯\n",
       "PRJCA005422_EOC1_OC_cell_CCACGGACACCAGGCT 5.0713154  16.45570     1.2658228   ⋯\n",
       "PRJCA005422_EOC1_OC_cell_CCTACACAGAGTCTGG 3.7558685  25.00000     1.4062500   ⋯\n",
       "PRJCA005422_EOC1_TM_cell_AGTTGGTTCACGCATA 0.4608295  26.72811     0.1536098   ⋯\n",
       "PRJCA005422_EOC1_TM_cell_CGATCGGCACGCTTTC 0.4054054  25.60811     0.6081081   ⋯\n",
       "PRJCA005422_EOC1_TM_cell_CTCTAATTCTTTACGT 1.2183693  38.23805     0.1874414   ⋯\n",
       "PRJCA005422_EOC1_TM_cell_GCCTCTACACGGTTTA 0.0000000  26.27379     0.9821977   ⋯\n",
       "                                          maintypes_2        \n",
       "PRJCA005422_EOC1_OC_cell_CCACGGACACCAGGCT Proliferative cells\n",
       "PRJCA005422_EOC1_OC_cell_CCTACACAGAGTCTGG Proliferative cells\n",
       "PRJCA005422_EOC1_TM_cell_AGTTGGTTCACGCATA Proliferative cells\n",
       "PRJCA005422_EOC1_TM_cell_CGATCGGCACGCTTTC Proliferative cells\n",
       "PRJCA005422_EOC1_TM_cell_CTCTAATTCTTTACGT Proliferative cells\n",
       "PRJCA005422_EOC1_TM_cell_GCCTCTACACGGTTTA Proliferative cells\n",
       "                                          maintypes_3         UMAP_1   UMAP_2  \n",
       "PRJCA005422_EOC1_OC_cell_CCACGGACACCAGGCT Proliferative cells 1.570391 2.864907\n",
       "PRJCA005422_EOC1_OC_cell_CCTACACAGAGTCTGG Proliferative cells 2.063956 3.946421\n",
       "PRJCA005422_EOC1_TM_cell_AGTTGGTTCACGCATA Proliferative cells 1.906724 3.602650\n",
       "PRJCA005422_EOC1_TM_cell_CGATCGGCACGCTTTC Proliferative cells 2.014700 3.495903\n",
       "PRJCA005422_EOC1_TM_cell_CTCTAATTCTTTACGT Proliferative cells 1.414386 3.496294\n",
       "PRJCA005422_EOC1_TM_cell_GCCTCTACACGGTTTA Proliferative cells 1.583880 3.464499\n",
       "                                          sample_type      cancer_type\n",
       "PRJCA005422_EOC1_OC_cell_CCACGGACACCAGGCT Primary Tumor    HGSOC      \n",
       "PRJCA005422_EOC1_OC_cell_CCTACACAGAGTCTGG Primary Tumor    HGSOC      \n",
       "PRJCA005422_EOC1_TM_cell_AGTTGGTTCACGCATA Metastatic Tumor HGSOC      \n",
       "PRJCA005422_EOC1_TM_cell_CGATCGGCACGCTTTC Metastatic Tumor HGSOC      \n",
       "PRJCA005422_EOC1_TM_cell_CTCTAATTCTTTACGT Metastatic Tumor HGSOC      \n",
       "PRJCA005422_EOC1_TM_cell_GCCTCTACACGGTTTA Metastatic Tumor HGSOC      \n",
       "                                          patient_id sample_id            \n",
       "PRJCA005422_EOC1_OC_cell_CCACGGACACCAGGCT HGSOC1     PRJCA005422_HGSOC1_PT\n",
       "PRJCA005422_EOC1_OC_cell_CCTACACAGAGTCTGG HGSOC1     PRJCA005422_HGSOC1_PT\n",
       "PRJCA005422_EOC1_TM_cell_AGTTGGTTCACGCATA HGSOC1     PRJCA005422_HGSOC1_MT\n",
       "PRJCA005422_EOC1_TM_cell_CGATCGGCACGCTTTC HGSOC1     PRJCA005422_HGSOC1_MT\n",
       "PRJCA005422_EOC1_TM_cell_CTCTAATTCTTTACGT HGSOC1     PRJCA005422_HGSOC1_MT\n",
       "PRJCA005422_EOC1_TM_cell_GCCTCTACACGGTTTA HGSOC1     PRJCA005422_HGSOC1_MT\n",
       "                                          RNA_snn_res.0.2 seurat_clusters\n",
       "PRJCA005422_EOC1_OC_cell_CCACGGACACCAGGCT 0               0              \n",
       "PRJCA005422_EOC1_OC_cell_CCTACACAGAGTCTGG 0               0              \n",
       "PRJCA005422_EOC1_TM_cell_AGTTGGTTCACGCATA 0               0              \n",
       "PRJCA005422_EOC1_TM_cell_CGATCGGCACGCTTTC 0               0              \n",
       "PRJCA005422_EOC1_TM_cell_CTCTAATTCTTTACGT 0               0              \n",
       "PRJCA005422_EOC1_TM_cell_GCCTCTACACGGTTTA 0               0              "
      ]
     },
     "metadata": {},
     "output_type": "display_data"
    }
   ],
   "source": [
    "HGSOC_As\n",
    "HGSOC_As@project.name\n",
    "head(HGSOC_As@meta.data)\n",
    "\n",
    "HGSOC_Tu\n",
    "HGSOC_Tu@project.name\n",
    "head(HGSOC_Tu@meta.data)"
   ]
  },
  {
   "cell_type": "code",
   "execution_count": 81,
   "metadata": {
    "vscode": {
     "languageId": "r"
    }
   },
   "outputs": [
    {
     "data": {
      "text/plain": [
       "\n",
       "   Primary Tumor Metastatic Tumor       Lymph Node          Ascites \n",
       "               0                0                0            16120 \n",
       "            PBMC \n",
       "               0 "
      ]
     },
     "metadata": {},
     "output_type": "display_data"
    },
    {
     "data": {
      "text/plain": [
       "\n",
       "HGSOC \n",
       "16120 "
      ]
     },
     "metadata": {},
     "output_type": "display_data"
    },
    {
     "data": {
      "text/plain": [
       "\n",
       " HGSOC1  HGSOC2  HGSOC3  HGSOC4  HGSOC5  HGSOC6  HGSOC7  HGSOC8  HGSOC9 HGSOC10 \n",
       "   1149    6695     662       0    1743     829       0    1110    3589     343 \n",
       "   ECO1    UOC1   OCCC1      C1 \n",
       "      0       0       0       0 "
      ]
     },
     "metadata": {},
     "output_type": "display_data"
    },
    {
     "data": {
      "text/plain": [
       "\n",
       " PRJCA005422_HGSOC1_AS PRJCA005422_HGSOC10_AS  PRJCA005422_HGSOC2_AS \n",
       "                  1149                    343                   6695 \n",
       " PRJCA005422_HGSOC3_AS  PRJCA005422_HGSOC5_AS  PRJCA005422_HGSOC6_AS \n",
       "                   662                   1743                    829 \n",
       " PRJCA005422_HGSOC8_AS  PRJCA005422_HGSOC9_AS \n",
       "                  1110                   3589 "
      ]
     },
     "metadata": {},
     "output_type": "display_data"
    },
    {
     "data": {
      "text/plain": [
       "\n",
       "   Primary Tumor Metastatic Tumor       Lymph Node          Ascites \n",
       "            8041             5215                0                0 \n",
       "            PBMC \n",
       "               0 "
      ]
     },
     "metadata": {},
     "output_type": "display_data"
    },
    {
     "data": {
      "text/plain": [
       "\n",
       "HGSOC \n",
       "13256 "
      ]
     },
     "metadata": {},
     "output_type": "display_data"
    },
    {
     "data": {
      "text/plain": [
       "\n",
       " HGSOC1  HGSOC2  HGSOC3  HGSOC4  HGSOC5  HGSOC6  HGSOC7  HGSOC8  HGSOC9 HGSOC10 \n",
       "   2639     633    3523    1104      70    2150    1179     121    1087     750 \n",
       "   ECO1    UOC1   OCCC1      C1 \n",
       "      0       0       0       0 "
      ]
     },
     "metadata": {},
     "output_type": "display_data"
    },
    {
     "data": {
      "text/plain": [
       "\n",
       " PRJCA005422_HGSOC1_MT  PRJCA005422_HGSOC1_PT PRJCA005422_HGSOC10_PT \n",
       "                  1231                   1408                    750 \n",
       " PRJCA005422_HGSOC2_PT  PRJCA005422_HGSOC3_MT  PRJCA005422_HGSOC3_PT \n",
       "                   633                   1711                   1812 \n",
       " PRJCA005422_HGSOC4_MT  PRJCA005422_HGSOC4_PT  PRJCA005422_HGSOC5_PT \n",
       "                   816                    288                     70 \n",
       " PRJCA005422_HGSOC6_MT  PRJCA005422_HGSOC6_PT  PRJCA005422_HGSOC7_PT \n",
       "                  1457                    693                   1179 \n",
       " PRJCA005422_HGSOC8_PT  PRJCA005422_HGSOC9_PT \n",
       "                   121                   1087 "
      ]
     },
     "metadata": {},
     "output_type": "display_data"
    }
   ],
   "source": [
    "table(HGSOC_As$sample_type)\n",
    "table(HGSOC_As$cancer_type)\n",
    "table(HGSOC_As$patient_id)\n",
    "table(HGSOC_As$sample_id)\n",
    "\n",
    "table(HGSOC_Tu$sample_type)\n",
    "table(HGSOC_Tu$cancer_type)\n",
    "table(HGSOC_Tu$patient_id)\n",
    "table(HGSOC_Tu$sample_id)"
   ]
  },
  {
   "cell_type": "code",
   "execution_count": 82,
   "metadata": {
    "vscode": {
     "languageId": "r"
    }
   },
   "outputs": [],
   "source": [
    "#set site metadata\n",
    "HGSOC_As@meta.data$site <- \"ascites fluid\"\n",
    "HGSOC_As@meta.data$sample_type_major <- \"ascites\"\n",
    "\n",
    "#HGSOC_Tu need to split up primary and mets by location\n",
    "HGSOC_Pr <- subset(HGSOC_Tu, subset = sample_type %in% c(\"Primary Tumor\"))\n",
    "HGSOC_Me <- subset(HGSOC_Tu, subset = sample_type %in% c(\"Metastatic Tumor\"))\n",
    "\n",
    "HGSOC_Pr@meta.data$site <- \"ovary\"\n",
    "HGSOC_Me@meta.data$site <- \"omentum\"\n",
    "\n",
    "HGSOC_Pr@meta.data$sample_type_major <- \"primary tumour\"\n",
    "HGSOC_Me@meta.data$sample_type_major <- \"metastatic tumour\"\n",
    "\n",
    "#Merge seurat objects back together\n",
    "HGSOC <- merge(HGSOC_As, y = c(HGSOC_Pr, HGSOC_Me), project = \"PRJCA005422\")"
   ]
  },
  {
   "cell_type": "code",
   "execution_count": 84,
   "metadata": {
    "vscode": {
     "languageId": "r"
    }
   },
   "outputs": [],
   "source": [
    "#set subtype metadata\n",
    "HGSOC@meta.data$cancer_subtype <- \"HGSOC\""
   ]
  },
  {
   "cell_type": "code",
   "execution_count": 85,
   "metadata": {
    "vscode": {
     "languageId": "r"
    }
   },
   "outputs": [],
   "source": [
    "#set integration_id metadata\n",
    "HGSOC@meta.data$integration_id <- HGSOC@meta.data$sample_id"
   ]
  },
  {
   "cell_type": "code",
   "execution_count": 86,
   "metadata": {
    "vscode": {
     "languageId": "r"
    }
   },
   "outputs": [
    {
     "data": {
      "text/plain": [
       "An object of class Seurat \n",
       "27127 features across 29376 samples within 1 assay \n",
       "Active assay: RNA (27127 features, 2000 variable features)\n",
       " 9 layers present: counts.1, counts.2, counts.3, data.1, scale.data.1, data.2, scale.data.2, data.3, scale.data.3"
      ]
     },
     "metadata": {},
     "output_type": "display_data"
    },
    {
     "data": {
      "text/html": [
       "'PRJCA005422'"
      ],
      "text/latex": [
       "'PRJCA005422'"
      ],
      "text/markdown": [
       "'PRJCA005422'"
      ],
      "text/plain": [
       "[1] \"PRJCA005422\""
      ]
     },
     "metadata": {},
     "output_type": "display_data"
    },
    {
     "data": {
      "text/html": [
       "<table class=\"dataframe\">\n",
       "<caption>A data.frame: 6 × 28</caption>\n",
       "<thead>\n",
       "\t<tr><th></th><th scope=col>orig.ident</th><th scope=col>nCount_RNA</th><th scope=col>nFeature_RNA</th><th scope=col>Cellname</th><th scope=col>Samples</th><th scope=col>Groups</th><th scope=col>Patients</th><th scope=col>percent.mt</th><th scope=col>percent.ribo</th><th scope=col>percent.HSP</th><th scope=col>⋯</th><th scope=col>sample_type</th><th scope=col>cancer_type</th><th scope=col>patient_id</th><th scope=col>sample_id</th><th scope=col>RNA_snn_res.0.2</th><th scope=col>seurat_clusters</th><th scope=col>site</th><th scope=col>sample_type_major</th><th scope=col>cancer_subtype</th><th scope=col>integration_id</th></tr>\n",
       "\t<tr><th></th><th scope=col>&lt;chr&gt;</th><th scope=col>&lt;dbl&gt;</th><th scope=col>&lt;int&gt;</th><th scope=col>&lt;chr&gt;</th><th scope=col>&lt;chr&gt;</th><th scope=col>&lt;chr&gt;</th><th scope=col>&lt;chr&gt;</th><th scope=col>&lt;dbl&gt;</th><th scope=col>&lt;dbl&gt;</th><th scope=col>&lt;dbl&gt;</th><th scope=col>⋯</th><th scope=col>&lt;chr&gt;</th><th scope=col>&lt;chr&gt;</th><th scope=col>&lt;chr&gt;</th><th scope=col>&lt;chr&gt;</th><th scope=col>&lt;chr&gt;</th><th scope=col>&lt;chr&gt;</th><th scope=col>&lt;chr&gt;</th><th scope=col>&lt;chr&gt;</th><th scope=col>&lt;chr&gt;</th><th scope=col>&lt;chr&gt;</th></tr>\n",
       "</thead>\n",
       "<tbody>\n",
       "\t<tr><th scope=row>PRJCA005422_EOC1_FS_cell_AACACGTGTCGGCACT</th><td>EOC1</td><td>24353</td><td>1770</td><td>EOC1_FS_cell_AACACGTGTCGGCACT</td><td>HGSOC1_AS</td><td>Ascites</td><td>HGSOC1</td><td>0.8007227</td><td> 3.859894</td><td>0.1519320</td><td>⋯</td><td>Ascites</td><td>HGSOC</td><td>HGSOC1</td><td>PRJCA005422_HGSOC1_AS</td><td>8</td><td>8</td><td>ascites fluid</td><td>ascites</td><td>HGSOC</td><td>PRJCA005422_HGSOC1_AS</td></tr>\n",
       "\t<tr><th scope=row>PRJCA005422_EOC1_FS_cell_AACCGCGTCCCTAACC</th><td>EOC1</td><td>  531</td><td> 365</td><td>EOC1_FS_cell_AACCGCGTCCCTAACC</td><td>HGSOC1_AS</td><td>Ascites</td><td>HGSOC1</td><td>5.6497175</td><td>18.796992</td><td>0.1879699</td><td>⋯</td><td>Ascites</td><td>HGSOC</td><td>HGSOC1</td><td>PRJCA005422_HGSOC1_AS</td><td>4</td><td>4</td><td>ascites fluid</td><td>ascites</td><td>HGSOC</td><td>PRJCA005422_HGSOC1_AS</td></tr>\n",
       "\t<tr><th scope=row>PRJCA005422_EOC1_FS_cell_AACTCCCAGTTTCCTT</th><td>EOC1</td><td> 9273</td><td>3128</td><td>EOC1_FS_cell_AACTCCCAGTTTCCTT</td><td>HGSOC1_AS</td><td>Ascites</td><td>HGSOC1</td><td>3.5479349</td><td>10.673854</td><td>0.4743935</td><td>⋯</td><td>Ascites</td><td>HGSOC</td><td>HGSOC1</td><td>PRJCA005422_HGSOC1_AS</td><td>8</td><td>8</td><td>ascites fluid</td><td>ascites</td><td>HGSOC</td><td>PRJCA005422_HGSOC1_AS</td></tr>\n",
       "\t<tr><th scope=row>PRJCA005422_EOC1_FS_cell_AAGGCAGGTTAAAGTG</th><td>EOC1</td><td> 4757</td><td>2120</td><td>EOC1_FS_cell_AAGGCAGGTTAAAGTG</td><td>HGSOC1_AS</td><td>Ascites</td><td>HGSOC1</td><td>9.7750683</td><td>15.762926</td><td>0.6094998</td><td>⋯</td><td>Ascites</td><td>HGSOC</td><td>HGSOC1</td><td>PRJCA005422_HGSOC1_AS</td><td>8</td><td>8</td><td>ascites fluid</td><td>ascites</td><td>HGSOC</td><td>PRJCA005422_HGSOC1_AS</td></tr>\n",
       "\t<tr><th scope=row>PRJCA005422_EOC1_FS_cell_AAGGCAGTCAACACTG</th><td>EOC1</td><td>19574</td><td>3727</td><td>EOC1_FS_cell_AAGGCAGTCAACACTG</td><td>HGSOC1_AS</td><td>Ascites</td><td>HGSOC1</td><td>7.1319097</td><td>24.638570</td><td>0.3473819</td><td>⋯</td><td>Ascites</td><td>HGSOC</td><td>HGSOC1</td><td>PRJCA005422_HGSOC1_AS</td><td>8</td><td>8</td><td>ascites fluid</td><td>ascites</td><td>HGSOC</td><td>PRJCA005422_HGSOC1_AS</td></tr>\n",
       "\t<tr><th scope=row>PRJCA005422_EOC1_FS_cell_ACACCAAAGCTAACTC</th><td>EOC1</td><td>22514</td><td>3971</td><td>EOC1_FS_cell_ACACCAAAGCTAACTC</td><td>HGSOC1_AS</td><td>Ascites</td><td>HGSOC1</td><td>5.7208848</td><td>20.034642</td><td>0.7683425</td><td>⋯</td><td>Ascites</td><td>HGSOC</td><td>HGSOC1</td><td>PRJCA005422_HGSOC1_AS</td><td>8</td><td>8</td><td>ascites fluid</td><td>ascites</td><td>HGSOC</td><td>PRJCA005422_HGSOC1_AS</td></tr>\n",
       "</tbody>\n",
       "</table>\n"
      ],
      "text/latex": [
       "A data.frame: 6 × 28\n",
       "\\begin{tabular}{r|lllllllllllllllllllll}\n",
       "  & orig.ident & nCount\\_RNA & nFeature\\_RNA & Cellname & Samples & Groups & Patients & percent.mt & percent.ribo & percent.HSP & ⋯ & sample\\_type & cancer\\_type & patient\\_id & sample\\_id & RNA\\_snn\\_res.0.2 & seurat\\_clusters & site & sample\\_type\\_major & cancer\\_subtype & integration\\_id\\\\\n",
       "  & <chr> & <dbl> & <int> & <chr> & <chr> & <chr> & <chr> & <dbl> & <dbl> & <dbl> & ⋯ & <chr> & <chr> & <chr> & <chr> & <chr> & <chr> & <chr> & <chr> & <chr> & <chr>\\\\\n",
       "\\hline\n",
       "\tPRJCA005422\\_EOC1\\_FS\\_cell\\_AACACGTGTCGGCACT & EOC1 & 24353 & 1770 & EOC1\\_FS\\_cell\\_AACACGTGTCGGCACT & HGSOC1\\_AS & Ascites & HGSOC1 & 0.8007227 &  3.859894 & 0.1519320 & ⋯ & Ascites & HGSOC & HGSOC1 & PRJCA005422\\_HGSOC1\\_AS & 8 & 8 & ascites fluid & ascites & HGSOC & PRJCA005422\\_HGSOC1\\_AS\\\\\n",
       "\tPRJCA005422\\_EOC1\\_FS\\_cell\\_AACCGCGTCCCTAACC & EOC1 &   531 &  365 & EOC1\\_FS\\_cell\\_AACCGCGTCCCTAACC & HGSOC1\\_AS & Ascites & HGSOC1 & 5.6497175 & 18.796992 & 0.1879699 & ⋯ & Ascites & HGSOC & HGSOC1 & PRJCA005422\\_HGSOC1\\_AS & 4 & 4 & ascites fluid & ascites & HGSOC & PRJCA005422\\_HGSOC1\\_AS\\\\\n",
       "\tPRJCA005422\\_EOC1\\_FS\\_cell\\_AACTCCCAGTTTCCTT & EOC1 &  9273 & 3128 & EOC1\\_FS\\_cell\\_AACTCCCAGTTTCCTT & HGSOC1\\_AS & Ascites & HGSOC1 & 3.5479349 & 10.673854 & 0.4743935 & ⋯ & Ascites & HGSOC & HGSOC1 & PRJCA005422\\_HGSOC1\\_AS & 8 & 8 & ascites fluid & ascites & HGSOC & PRJCA005422\\_HGSOC1\\_AS\\\\\n",
       "\tPRJCA005422\\_EOC1\\_FS\\_cell\\_AAGGCAGGTTAAAGTG & EOC1 &  4757 & 2120 & EOC1\\_FS\\_cell\\_AAGGCAGGTTAAAGTG & HGSOC1\\_AS & Ascites & HGSOC1 & 9.7750683 & 15.762926 & 0.6094998 & ⋯ & Ascites & HGSOC & HGSOC1 & PRJCA005422\\_HGSOC1\\_AS & 8 & 8 & ascites fluid & ascites & HGSOC & PRJCA005422\\_HGSOC1\\_AS\\\\\n",
       "\tPRJCA005422\\_EOC1\\_FS\\_cell\\_AAGGCAGTCAACACTG & EOC1 & 19574 & 3727 & EOC1\\_FS\\_cell\\_AAGGCAGTCAACACTG & HGSOC1\\_AS & Ascites & HGSOC1 & 7.1319097 & 24.638570 & 0.3473819 & ⋯ & Ascites & HGSOC & HGSOC1 & PRJCA005422\\_HGSOC1\\_AS & 8 & 8 & ascites fluid & ascites & HGSOC & PRJCA005422\\_HGSOC1\\_AS\\\\\n",
       "\tPRJCA005422\\_EOC1\\_FS\\_cell\\_ACACCAAAGCTAACTC & EOC1 & 22514 & 3971 & EOC1\\_FS\\_cell\\_ACACCAAAGCTAACTC & HGSOC1\\_AS & Ascites & HGSOC1 & 5.7208848 & 20.034642 & 0.7683425 & ⋯ & Ascites & HGSOC & HGSOC1 & PRJCA005422\\_HGSOC1\\_AS & 8 & 8 & ascites fluid & ascites & HGSOC & PRJCA005422\\_HGSOC1\\_AS\\\\\n",
       "\\end{tabular}\n"
      ],
      "text/markdown": [
       "\n",
       "A data.frame: 6 × 28\n",
       "\n",
       "| <!--/--> | orig.ident &lt;chr&gt; | nCount_RNA &lt;dbl&gt; | nFeature_RNA &lt;int&gt; | Cellname &lt;chr&gt; | Samples &lt;chr&gt; | Groups &lt;chr&gt; | Patients &lt;chr&gt; | percent.mt &lt;dbl&gt; | percent.ribo &lt;dbl&gt; | percent.HSP &lt;dbl&gt; | ⋯ ⋯ | sample_type &lt;chr&gt; | cancer_type &lt;chr&gt; | patient_id &lt;chr&gt; | sample_id &lt;chr&gt; | RNA_snn_res.0.2 &lt;chr&gt; | seurat_clusters &lt;chr&gt; | site &lt;chr&gt; | sample_type_major &lt;chr&gt; | cancer_subtype &lt;chr&gt; | integration_id &lt;chr&gt; |\n",
       "|---|---|---|---|---|---|---|---|---|---|---|---|---|---|---|---|---|---|---|---|---|---|\n",
       "| PRJCA005422_EOC1_FS_cell_AACACGTGTCGGCACT | EOC1 | 24353 | 1770 | EOC1_FS_cell_AACACGTGTCGGCACT | HGSOC1_AS | Ascites | HGSOC1 | 0.8007227 |  3.859894 | 0.1519320 | ⋯ | Ascites | HGSOC | HGSOC1 | PRJCA005422_HGSOC1_AS | 8 | 8 | ascites fluid | ascites | HGSOC | PRJCA005422_HGSOC1_AS |\n",
       "| PRJCA005422_EOC1_FS_cell_AACCGCGTCCCTAACC | EOC1 |   531 |  365 | EOC1_FS_cell_AACCGCGTCCCTAACC | HGSOC1_AS | Ascites | HGSOC1 | 5.6497175 | 18.796992 | 0.1879699 | ⋯ | Ascites | HGSOC | HGSOC1 | PRJCA005422_HGSOC1_AS | 4 | 4 | ascites fluid | ascites | HGSOC | PRJCA005422_HGSOC1_AS |\n",
       "| PRJCA005422_EOC1_FS_cell_AACTCCCAGTTTCCTT | EOC1 |  9273 | 3128 | EOC1_FS_cell_AACTCCCAGTTTCCTT | HGSOC1_AS | Ascites | HGSOC1 | 3.5479349 | 10.673854 | 0.4743935 | ⋯ | Ascites | HGSOC | HGSOC1 | PRJCA005422_HGSOC1_AS | 8 | 8 | ascites fluid | ascites | HGSOC | PRJCA005422_HGSOC1_AS |\n",
       "| PRJCA005422_EOC1_FS_cell_AAGGCAGGTTAAAGTG | EOC1 |  4757 | 2120 | EOC1_FS_cell_AAGGCAGGTTAAAGTG | HGSOC1_AS | Ascites | HGSOC1 | 9.7750683 | 15.762926 | 0.6094998 | ⋯ | Ascites | HGSOC | HGSOC1 | PRJCA005422_HGSOC1_AS | 8 | 8 | ascites fluid | ascites | HGSOC | PRJCA005422_HGSOC1_AS |\n",
       "| PRJCA005422_EOC1_FS_cell_AAGGCAGTCAACACTG | EOC1 | 19574 | 3727 | EOC1_FS_cell_AAGGCAGTCAACACTG | HGSOC1_AS | Ascites | HGSOC1 | 7.1319097 | 24.638570 | 0.3473819 | ⋯ | Ascites | HGSOC | HGSOC1 | PRJCA005422_HGSOC1_AS | 8 | 8 | ascites fluid | ascites | HGSOC | PRJCA005422_HGSOC1_AS |\n",
       "| PRJCA005422_EOC1_FS_cell_ACACCAAAGCTAACTC | EOC1 | 22514 | 3971 | EOC1_FS_cell_ACACCAAAGCTAACTC | HGSOC1_AS | Ascites | HGSOC1 | 5.7208848 | 20.034642 | 0.7683425 | ⋯ | Ascites | HGSOC | HGSOC1 | PRJCA005422_HGSOC1_AS | 8 | 8 | ascites fluid | ascites | HGSOC | PRJCA005422_HGSOC1_AS |\n",
       "\n"
      ],
      "text/plain": [
       "                                          orig.ident nCount_RNA nFeature_RNA\n",
       "PRJCA005422_EOC1_FS_cell_AACACGTGTCGGCACT EOC1       24353      1770        \n",
       "PRJCA005422_EOC1_FS_cell_AACCGCGTCCCTAACC EOC1         531       365        \n",
       "PRJCA005422_EOC1_FS_cell_AACTCCCAGTTTCCTT EOC1        9273      3128        \n",
       "PRJCA005422_EOC1_FS_cell_AAGGCAGGTTAAAGTG EOC1        4757      2120        \n",
       "PRJCA005422_EOC1_FS_cell_AAGGCAGTCAACACTG EOC1       19574      3727        \n",
       "PRJCA005422_EOC1_FS_cell_ACACCAAAGCTAACTC EOC1       22514      3971        \n",
       "                                          Cellname                     \n",
       "PRJCA005422_EOC1_FS_cell_AACACGTGTCGGCACT EOC1_FS_cell_AACACGTGTCGGCACT\n",
       "PRJCA005422_EOC1_FS_cell_AACCGCGTCCCTAACC EOC1_FS_cell_AACCGCGTCCCTAACC\n",
       "PRJCA005422_EOC1_FS_cell_AACTCCCAGTTTCCTT EOC1_FS_cell_AACTCCCAGTTTCCTT\n",
       "PRJCA005422_EOC1_FS_cell_AAGGCAGGTTAAAGTG EOC1_FS_cell_AAGGCAGGTTAAAGTG\n",
       "PRJCA005422_EOC1_FS_cell_AAGGCAGTCAACACTG EOC1_FS_cell_AAGGCAGTCAACACTG\n",
       "PRJCA005422_EOC1_FS_cell_ACACCAAAGCTAACTC EOC1_FS_cell_ACACCAAAGCTAACTC\n",
       "                                          Samples   Groups  Patients percent.mt\n",
       "PRJCA005422_EOC1_FS_cell_AACACGTGTCGGCACT HGSOC1_AS Ascites HGSOC1   0.8007227 \n",
       "PRJCA005422_EOC1_FS_cell_AACCGCGTCCCTAACC HGSOC1_AS Ascites HGSOC1   5.6497175 \n",
       "PRJCA005422_EOC1_FS_cell_AACTCCCAGTTTCCTT HGSOC1_AS Ascites HGSOC1   3.5479349 \n",
       "PRJCA005422_EOC1_FS_cell_AAGGCAGGTTAAAGTG HGSOC1_AS Ascites HGSOC1   9.7750683 \n",
       "PRJCA005422_EOC1_FS_cell_AAGGCAGTCAACACTG HGSOC1_AS Ascites HGSOC1   7.1319097 \n",
       "PRJCA005422_EOC1_FS_cell_ACACCAAAGCTAACTC HGSOC1_AS Ascites HGSOC1   5.7208848 \n",
       "                                          percent.ribo percent.HSP ⋯\n",
       "PRJCA005422_EOC1_FS_cell_AACACGTGTCGGCACT  3.859894    0.1519320   ⋯\n",
       "PRJCA005422_EOC1_FS_cell_AACCGCGTCCCTAACC 18.796992    0.1879699   ⋯\n",
       "PRJCA005422_EOC1_FS_cell_AACTCCCAGTTTCCTT 10.673854    0.4743935   ⋯\n",
       "PRJCA005422_EOC1_FS_cell_AAGGCAGGTTAAAGTG 15.762926    0.6094998   ⋯\n",
       "PRJCA005422_EOC1_FS_cell_AAGGCAGTCAACACTG 24.638570    0.3473819   ⋯\n",
       "PRJCA005422_EOC1_FS_cell_ACACCAAAGCTAACTC 20.034642    0.7683425   ⋯\n",
       "                                          sample_type cancer_type patient_id\n",
       "PRJCA005422_EOC1_FS_cell_AACACGTGTCGGCACT Ascites     HGSOC       HGSOC1    \n",
       "PRJCA005422_EOC1_FS_cell_AACCGCGTCCCTAACC Ascites     HGSOC       HGSOC1    \n",
       "PRJCA005422_EOC1_FS_cell_AACTCCCAGTTTCCTT Ascites     HGSOC       HGSOC1    \n",
       "PRJCA005422_EOC1_FS_cell_AAGGCAGGTTAAAGTG Ascites     HGSOC       HGSOC1    \n",
       "PRJCA005422_EOC1_FS_cell_AAGGCAGTCAACACTG Ascites     HGSOC       HGSOC1    \n",
       "PRJCA005422_EOC1_FS_cell_ACACCAAAGCTAACTC Ascites     HGSOC       HGSOC1    \n",
       "                                          sample_id             RNA_snn_res.0.2\n",
       "PRJCA005422_EOC1_FS_cell_AACACGTGTCGGCACT PRJCA005422_HGSOC1_AS 8              \n",
       "PRJCA005422_EOC1_FS_cell_AACCGCGTCCCTAACC PRJCA005422_HGSOC1_AS 4              \n",
       "PRJCA005422_EOC1_FS_cell_AACTCCCAGTTTCCTT PRJCA005422_HGSOC1_AS 8              \n",
       "PRJCA005422_EOC1_FS_cell_AAGGCAGGTTAAAGTG PRJCA005422_HGSOC1_AS 8              \n",
       "PRJCA005422_EOC1_FS_cell_AAGGCAGTCAACACTG PRJCA005422_HGSOC1_AS 8              \n",
       "PRJCA005422_EOC1_FS_cell_ACACCAAAGCTAACTC PRJCA005422_HGSOC1_AS 8              \n",
       "                                          seurat_clusters site         \n",
       "PRJCA005422_EOC1_FS_cell_AACACGTGTCGGCACT 8               ascites fluid\n",
       "PRJCA005422_EOC1_FS_cell_AACCGCGTCCCTAACC 4               ascites fluid\n",
       "PRJCA005422_EOC1_FS_cell_AACTCCCAGTTTCCTT 8               ascites fluid\n",
       "PRJCA005422_EOC1_FS_cell_AAGGCAGGTTAAAGTG 8               ascites fluid\n",
       "PRJCA005422_EOC1_FS_cell_AAGGCAGTCAACACTG 8               ascites fluid\n",
       "PRJCA005422_EOC1_FS_cell_ACACCAAAGCTAACTC 8               ascites fluid\n",
       "                                          sample_type_major cancer_subtype\n",
       "PRJCA005422_EOC1_FS_cell_AACACGTGTCGGCACT ascites           HGSOC         \n",
       "PRJCA005422_EOC1_FS_cell_AACCGCGTCCCTAACC ascites           HGSOC         \n",
       "PRJCA005422_EOC1_FS_cell_AACTCCCAGTTTCCTT ascites           HGSOC         \n",
       "PRJCA005422_EOC1_FS_cell_AAGGCAGGTTAAAGTG ascites           HGSOC         \n",
       "PRJCA005422_EOC1_FS_cell_AAGGCAGTCAACACTG ascites           HGSOC         \n",
       "PRJCA005422_EOC1_FS_cell_ACACCAAAGCTAACTC ascites           HGSOC         \n",
       "                                          integration_id       \n",
       "PRJCA005422_EOC1_FS_cell_AACACGTGTCGGCACT PRJCA005422_HGSOC1_AS\n",
       "PRJCA005422_EOC1_FS_cell_AACCGCGTCCCTAACC PRJCA005422_HGSOC1_AS\n",
       "PRJCA005422_EOC1_FS_cell_AACTCCCAGTTTCCTT PRJCA005422_HGSOC1_AS\n",
       "PRJCA005422_EOC1_FS_cell_AAGGCAGGTTAAAGTG PRJCA005422_HGSOC1_AS\n",
       "PRJCA005422_EOC1_FS_cell_AAGGCAGTCAACACTG PRJCA005422_HGSOC1_AS\n",
       "PRJCA005422_EOC1_FS_cell_ACACCAAAGCTAACTC PRJCA005422_HGSOC1_AS"
      ]
     },
     "metadata": {},
     "output_type": "display_data"
    }
   ],
   "source": [
    "HGSOC\n",
    "HGSOC@project.name\n",
    "head(HGSOC@meta.data)"
   ]
  },
  {
   "cell_type": "code",
   "execution_count": 87,
   "metadata": {
    "vscode": {
     "languageId": "r"
    }
   },
   "outputs": [
    {
     "data": {
      "text/plain": [
       "\n",
       " PRJCA005422_HGSOC1_AS  PRJCA005422_HGSOC1_MT  PRJCA005422_HGSOC1_PT \n",
       "                  1149                   1231                   1408 \n",
       "PRJCA005422_HGSOC10_AS PRJCA005422_HGSOC10_PT  PRJCA005422_HGSOC2_AS \n",
       "                   343                    750                   6695 \n",
       " PRJCA005422_HGSOC2_PT  PRJCA005422_HGSOC3_AS  PRJCA005422_HGSOC3_MT \n",
       "                   633                    662                   1711 \n",
       " PRJCA005422_HGSOC3_PT  PRJCA005422_HGSOC4_MT  PRJCA005422_HGSOC4_PT \n",
       "                  1812                    816                    288 \n",
       " PRJCA005422_HGSOC5_AS  PRJCA005422_HGSOC5_PT  PRJCA005422_HGSOC6_AS \n",
       "                  1743                     70                    829 \n",
       " PRJCA005422_HGSOC6_MT  PRJCA005422_HGSOC6_PT  PRJCA005422_HGSOC7_PT \n",
       "                  1457                    693                   1179 \n",
       " PRJCA005422_HGSOC8_AS  PRJCA005422_HGSOC8_PT  PRJCA005422_HGSOC9_AS \n",
       "                  1110                    121                   3589 \n",
       " PRJCA005422_HGSOC9_PT \n",
       "                  1087 "
      ]
     },
     "metadata": {},
     "output_type": "display_data"
    },
    {
     "data": {
      "text/plain": [
       "\n",
       " PRJCA005422_HGSOC1_AS  PRJCA005422_HGSOC1_MT  PRJCA005422_HGSOC1_PT \n",
       "                  1149                   1231                   1408 \n",
       "PRJCA005422_HGSOC10_AS PRJCA005422_HGSOC10_PT  PRJCA005422_HGSOC2_AS \n",
       "                   343                    750                   6695 \n",
       " PRJCA005422_HGSOC2_PT  PRJCA005422_HGSOC3_AS  PRJCA005422_HGSOC3_MT \n",
       "                   633                    662                   1711 \n",
       " PRJCA005422_HGSOC3_PT  PRJCA005422_HGSOC4_MT  PRJCA005422_HGSOC4_PT \n",
       "                  1812                    816                    288 \n",
       " PRJCA005422_HGSOC5_AS  PRJCA005422_HGSOC6_AS  PRJCA005422_HGSOC6_MT \n",
       "                  1743                    829                   1457 \n",
       " PRJCA005422_HGSOC6_PT  PRJCA005422_HGSOC7_PT  PRJCA005422_HGSOC8_AS \n",
       "                   693                   1179                   1110 \n",
       " PRJCA005422_HGSOC8_PT  PRJCA005422_HGSOC9_AS  PRJCA005422_HGSOC9_PT \n",
       "                   121                   3589                   1087 "
      ]
     },
     "metadata": {},
     "output_type": "display_data"
    }
   ],
   "source": [
    "#exclude any samples with <100 cells\n",
    "table(HGSOC$integration_id)\n",
    "#exclude patient HGSOC5 primary tumour\n",
    "HGSOC <- subset(HGSOC, !(subset = integration_id %in% c(\"PRJCA005422_HGSOC5_PT\")))\n",
    "table(HGSOC$integration_id)"
   ]
  },
  {
   "cell_type": "code",
   "execution_count": 88,
   "metadata": {
    "vscode": {
     "languageId": "r"
    }
   },
   "outputs": [
    {
     "data": {
      "text/html": [
       "<style>\n",
       ".list-inline {list-style: none; margin:0; padding: 0}\n",
       ".list-inline>li {display: inline-block}\n",
       ".list-inline>li:not(:last-child)::after {content: \"\\00b7\"; padding: 0 .5ex}\n",
       "</style>\n",
       "<ol class=list-inline><li>'counts.1'</li><li>'counts.2'</li><li>'counts.3'</li><li>'data.1'</li><li>'scale.data.1'</li><li>'data.2'</li><li>'scale.data.2'</li><li>'data.3'</li><li>'scale.data.3'</li></ol>\n"
      ],
      "text/latex": [
       "\\begin{enumerate*}\n",
       "\\item 'counts.1'\n",
       "\\item 'counts.2'\n",
       "\\item 'counts.3'\n",
       "\\item 'data.1'\n",
       "\\item 'scale.data.1'\n",
       "\\item 'data.2'\n",
       "\\item 'scale.data.2'\n",
       "\\item 'data.3'\n",
       "\\item 'scale.data.3'\n",
       "\\end{enumerate*}\n"
      ],
      "text/markdown": [
       "1. 'counts.1'\n",
       "2. 'counts.2'\n",
       "3. 'counts.3'\n",
       "4. 'data.1'\n",
       "5. 'scale.data.1'\n",
       "6. 'data.2'\n",
       "7. 'scale.data.2'\n",
       "8. 'data.3'\n",
       "9. 'scale.data.3'\n",
       "\n",
       "\n"
      ],
      "text/plain": [
       "[1] \"counts.1\"     \"counts.2\"     \"counts.3\"     \"data.1\"       \"scale.data.1\"\n",
       "[6] \"data.2\"       \"scale.data.2\" \"data.3\"       \"scale.data.3\""
      ]
     },
     "metadata": {},
     "output_type": "display_data"
    },
    {
     "data": {
      "text/html": [
       "<style>\n",
       ".list-inline {list-style: none; margin:0; padding: 0}\n",
       ".list-inline>li {display: inline-block}\n",
       ".list-inline>li:not(:last-child)::after {content: \"\\00b7\"; padding: 0 .5ex}\n",
       "</style>\n",
       "<ol class=list-inline><li>'scale.data'</li><li>'data'</li><li>'counts'</li></ol>\n"
      ],
      "text/latex": [
       "\\begin{enumerate*}\n",
       "\\item 'scale.data'\n",
       "\\item 'data'\n",
       "\\item 'counts'\n",
       "\\end{enumerate*}\n"
      ],
      "text/markdown": [
       "1. 'scale.data'\n",
       "2. 'data'\n",
       "3. 'counts'\n",
       "\n",
       "\n"
      ],
      "text/plain": [
       "[1] \"scale.data\" \"data\"       \"counts\"    "
      ]
     },
     "metadata": {},
     "output_type": "display_data"
    },
    {
     "name": "stderr",
     "output_type": "stream",
     "text": [
      "Splitting ‘counts’, ‘data’ layers. Not splitting ‘scale.data’. If you would like to split other layers, set in `layers` argument.\n",
      "\n"
     ]
    },
    {
     "data": {
      "text/html": [
       "<style>\n",
       ".list-inline {list-style: none; margin:0; padding: 0}\n",
       ".list-inline>li {display: inline-block}\n",
       ".list-inline>li:not(:last-child)::after {content: \"\\00b7\"; padding: 0 .5ex}\n",
       "</style>\n",
       "<ol class=list-inline><li>'counts.PRJCA005422_HGSOC1_AS'</li><li>'counts.PRJCA005422_HGSOC3_AS'</li><li>'counts.PRJCA005422_HGSOC2_AS'</li><li>'counts.PRJCA005422_HGSOC6_AS'</li><li>'counts.PRJCA005422_HGSOC5_AS'</li><li>'counts.PRJCA005422_HGSOC8_AS'</li><li>'counts.PRJCA005422_HGSOC9_AS'</li><li>'counts.PRJCA005422_HGSOC10_AS'</li><li>'counts.PRJCA005422_HGSOC1_PT'</li><li>'counts.PRJCA005422_HGSOC3_PT'</li><li>'counts.PRJCA005422_HGSOC2_PT'</li><li>'counts.PRJCA005422_HGSOC7_PT'</li><li>'counts.PRJCA005422_HGSOC6_PT'</li><li>'counts.PRJCA005422_HGSOC4_PT'</li><li>'counts.PRJCA005422_HGSOC8_PT'</li><li>'counts.PRJCA005422_HGSOC9_PT'</li><li>'counts.PRJCA005422_HGSOC10_PT'</li><li>'counts.PRJCA005422_HGSOC1_MT'</li><li>'counts.PRJCA005422_HGSOC3_MT'</li><li>'counts.PRJCA005422_HGSOC6_MT'</li><li>'counts.PRJCA005422_HGSOC4_MT'</li><li>'scale.data'</li><li>'data.PRJCA005422_HGSOC1_AS'</li><li>'data.PRJCA005422_HGSOC3_AS'</li><li>'data.PRJCA005422_HGSOC2_AS'</li><li>'data.PRJCA005422_HGSOC6_AS'</li><li>'data.PRJCA005422_HGSOC5_AS'</li><li>'data.PRJCA005422_HGSOC8_AS'</li><li>'data.PRJCA005422_HGSOC9_AS'</li><li>'data.PRJCA005422_HGSOC10_AS'</li><li>'data.PRJCA005422_HGSOC1_PT'</li><li>'data.PRJCA005422_HGSOC3_PT'</li><li>'data.PRJCA005422_HGSOC2_PT'</li><li>'data.PRJCA005422_HGSOC7_PT'</li><li>'data.PRJCA005422_HGSOC6_PT'</li><li>'data.PRJCA005422_HGSOC4_PT'</li><li>'data.PRJCA005422_HGSOC8_PT'</li><li>'data.PRJCA005422_HGSOC9_PT'</li><li>'data.PRJCA005422_HGSOC10_PT'</li><li>'data.PRJCA005422_HGSOC1_MT'</li><li>'data.PRJCA005422_HGSOC3_MT'</li><li>'data.PRJCA005422_HGSOC6_MT'</li><li>'data.PRJCA005422_HGSOC4_MT'</li></ol>\n"
      ],
      "text/latex": [
       "\\begin{enumerate*}\n",
       "\\item 'counts.PRJCA005422\\_HGSOC1\\_AS'\n",
       "\\item 'counts.PRJCA005422\\_HGSOC3\\_AS'\n",
       "\\item 'counts.PRJCA005422\\_HGSOC2\\_AS'\n",
       "\\item 'counts.PRJCA005422\\_HGSOC6\\_AS'\n",
       "\\item 'counts.PRJCA005422\\_HGSOC5\\_AS'\n",
       "\\item 'counts.PRJCA005422\\_HGSOC8\\_AS'\n",
       "\\item 'counts.PRJCA005422\\_HGSOC9\\_AS'\n",
       "\\item 'counts.PRJCA005422\\_HGSOC10\\_AS'\n",
       "\\item 'counts.PRJCA005422\\_HGSOC1\\_PT'\n",
       "\\item 'counts.PRJCA005422\\_HGSOC3\\_PT'\n",
       "\\item 'counts.PRJCA005422\\_HGSOC2\\_PT'\n",
       "\\item 'counts.PRJCA005422\\_HGSOC7\\_PT'\n",
       "\\item 'counts.PRJCA005422\\_HGSOC6\\_PT'\n",
       "\\item 'counts.PRJCA005422\\_HGSOC4\\_PT'\n",
       "\\item 'counts.PRJCA005422\\_HGSOC8\\_PT'\n",
       "\\item 'counts.PRJCA005422\\_HGSOC9\\_PT'\n",
       "\\item 'counts.PRJCA005422\\_HGSOC10\\_PT'\n",
       "\\item 'counts.PRJCA005422\\_HGSOC1\\_MT'\n",
       "\\item 'counts.PRJCA005422\\_HGSOC3\\_MT'\n",
       "\\item 'counts.PRJCA005422\\_HGSOC6\\_MT'\n",
       "\\item 'counts.PRJCA005422\\_HGSOC4\\_MT'\n",
       "\\item 'scale.data'\n",
       "\\item 'data.PRJCA005422\\_HGSOC1\\_AS'\n",
       "\\item 'data.PRJCA005422\\_HGSOC3\\_AS'\n",
       "\\item 'data.PRJCA005422\\_HGSOC2\\_AS'\n",
       "\\item 'data.PRJCA005422\\_HGSOC6\\_AS'\n",
       "\\item 'data.PRJCA005422\\_HGSOC5\\_AS'\n",
       "\\item 'data.PRJCA005422\\_HGSOC8\\_AS'\n",
       "\\item 'data.PRJCA005422\\_HGSOC9\\_AS'\n",
       "\\item 'data.PRJCA005422\\_HGSOC10\\_AS'\n",
       "\\item 'data.PRJCA005422\\_HGSOC1\\_PT'\n",
       "\\item 'data.PRJCA005422\\_HGSOC3\\_PT'\n",
       "\\item 'data.PRJCA005422\\_HGSOC2\\_PT'\n",
       "\\item 'data.PRJCA005422\\_HGSOC7\\_PT'\n",
       "\\item 'data.PRJCA005422\\_HGSOC6\\_PT'\n",
       "\\item 'data.PRJCA005422\\_HGSOC4\\_PT'\n",
       "\\item 'data.PRJCA005422\\_HGSOC8\\_PT'\n",
       "\\item 'data.PRJCA005422\\_HGSOC9\\_PT'\n",
       "\\item 'data.PRJCA005422\\_HGSOC10\\_PT'\n",
       "\\item 'data.PRJCA005422\\_HGSOC1\\_MT'\n",
       "\\item 'data.PRJCA005422\\_HGSOC3\\_MT'\n",
       "\\item 'data.PRJCA005422\\_HGSOC6\\_MT'\n",
       "\\item 'data.PRJCA005422\\_HGSOC4\\_MT'\n",
       "\\end{enumerate*}\n"
      ],
      "text/markdown": [
       "1. 'counts.PRJCA005422_HGSOC1_AS'\n",
       "2. 'counts.PRJCA005422_HGSOC3_AS'\n",
       "3. 'counts.PRJCA005422_HGSOC2_AS'\n",
       "4. 'counts.PRJCA005422_HGSOC6_AS'\n",
       "5. 'counts.PRJCA005422_HGSOC5_AS'\n",
       "6. 'counts.PRJCA005422_HGSOC8_AS'\n",
       "7. 'counts.PRJCA005422_HGSOC9_AS'\n",
       "8. 'counts.PRJCA005422_HGSOC10_AS'\n",
       "9. 'counts.PRJCA005422_HGSOC1_PT'\n",
       "10. 'counts.PRJCA005422_HGSOC3_PT'\n",
       "11. 'counts.PRJCA005422_HGSOC2_PT'\n",
       "12. 'counts.PRJCA005422_HGSOC7_PT'\n",
       "13. 'counts.PRJCA005422_HGSOC6_PT'\n",
       "14. 'counts.PRJCA005422_HGSOC4_PT'\n",
       "15. 'counts.PRJCA005422_HGSOC8_PT'\n",
       "16. 'counts.PRJCA005422_HGSOC9_PT'\n",
       "17. 'counts.PRJCA005422_HGSOC10_PT'\n",
       "18. 'counts.PRJCA005422_HGSOC1_MT'\n",
       "19. 'counts.PRJCA005422_HGSOC3_MT'\n",
       "20. 'counts.PRJCA005422_HGSOC6_MT'\n",
       "21. 'counts.PRJCA005422_HGSOC4_MT'\n",
       "22. 'scale.data'\n",
       "23. 'data.PRJCA005422_HGSOC1_AS'\n",
       "24. 'data.PRJCA005422_HGSOC3_AS'\n",
       "25. 'data.PRJCA005422_HGSOC2_AS'\n",
       "26. 'data.PRJCA005422_HGSOC6_AS'\n",
       "27. 'data.PRJCA005422_HGSOC5_AS'\n",
       "28. 'data.PRJCA005422_HGSOC8_AS'\n",
       "29. 'data.PRJCA005422_HGSOC9_AS'\n",
       "30. 'data.PRJCA005422_HGSOC10_AS'\n",
       "31. 'data.PRJCA005422_HGSOC1_PT'\n",
       "32. 'data.PRJCA005422_HGSOC3_PT'\n",
       "33. 'data.PRJCA005422_HGSOC2_PT'\n",
       "34. 'data.PRJCA005422_HGSOC7_PT'\n",
       "35. 'data.PRJCA005422_HGSOC6_PT'\n",
       "36. 'data.PRJCA005422_HGSOC4_PT'\n",
       "37. 'data.PRJCA005422_HGSOC8_PT'\n",
       "38. 'data.PRJCA005422_HGSOC9_PT'\n",
       "39. 'data.PRJCA005422_HGSOC10_PT'\n",
       "40. 'data.PRJCA005422_HGSOC1_MT'\n",
       "41. 'data.PRJCA005422_HGSOC3_MT'\n",
       "42. 'data.PRJCA005422_HGSOC6_MT'\n",
       "43. 'data.PRJCA005422_HGSOC4_MT'\n",
       "\n",
       "\n"
      ],
      "text/plain": [
       " [1] \"counts.PRJCA005422_HGSOC1_AS\"  \"counts.PRJCA005422_HGSOC3_AS\" \n",
       " [3] \"counts.PRJCA005422_HGSOC2_AS\"  \"counts.PRJCA005422_HGSOC6_AS\" \n",
       " [5] \"counts.PRJCA005422_HGSOC5_AS\"  \"counts.PRJCA005422_HGSOC8_AS\" \n",
       " [7] \"counts.PRJCA005422_HGSOC9_AS\"  \"counts.PRJCA005422_HGSOC10_AS\"\n",
       " [9] \"counts.PRJCA005422_HGSOC1_PT\"  \"counts.PRJCA005422_HGSOC3_PT\" \n",
       "[11] \"counts.PRJCA005422_HGSOC2_PT\"  \"counts.PRJCA005422_HGSOC7_PT\" \n",
       "[13] \"counts.PRJCA005422_HGSOC6_PT\"  \"counts.PRJCA005422_HGSOC4_PT\" \n",
       "[15] \"counts.PRJCA005422_HGSOC8_PT\"  \"counts.PRJCA005422_HGSOC9_PT\" \n",
       "[17] \"counts.PRJCA005422_HGSOC10_PT\" \"counts.PRJCA005422_HGSOC1_MT\" \n",
       "[19] \"counts.PRJCA005422_HGSOC3_MT\"  \"counts.PRJCA005422_HGSOC6_MT\" \n",
       "[21] \"counts.PRJCA005422_HGSOC4_MT\"  \"scale.data\"                   \n",
       "[23] \"data.PRJCA005422_HGSOC1_AS\"    \"data.PRJCA005422_HGSOC3_AS\"   \n",
       "[25] \"data.PRJCA005422_HGSOC2_AS\"    \"data.PRJCA005422_HGSOC6_AS\"   \n",
       "[27] \"data.PRJCA005422_HGSOC5_AS\"    \"data.PRJCA005422_HGSOC8_AS\"   \n",
       "[29] \"data.PRJCA005422_HGSOC9_AS\"    \"data.PRJCA005422_HGSOC10_AS\"  \n",
       "[31] \"data.PRJCA005422_HGSOC1_PT\"    \"data.PRJCA005422_HGSOC3_PT\"   \n",
       "[33] \"data.PRJCA005422_HGSOC2_PT\"    \"data.PRJCA005422_HGSOC7_PT\"   \n",
       "[35] \"data.PRJCA005422_HGSOC6_PT\"    \"data.PRJCA005422_HGSOC4_PT\"   \n",
       "[37] \"data.PRJCA005422_HGSOC8_PT\"    \"data.PRJCA005422_HGSOC9_PT\"   \n",
       "[39] \"data.PRJCA005422_HGSOC10_PT\"   \"data.PRJCA005422_HGSOC1_MT\"   \n",
       "[41] \"data.PRJCA005422_HGSOC3_MT\"    \"data.PRJCA005422_HGSOC6_MT\"   \n",
       "[43] \"data.PRJCA005422_HGSOC4_MT\"   "
      ]
     },
     "metadata": {},
     "output_type": "display_data"
    }
   ],
   "source": [
    "#join layers and then split them by integration_id\n",
    "Layers(HGSOC[[\"RNA\"]])\n",
    "#join layers\n",
    "HGSOC[[\"RNA\"]] <- JoinLayers(HGSOC[[\"RNA\"]])\n",
    "Layers(HGSOC[[\"RNA\"]])\n",
    "#split layers\n",
    "HGSOC[[\"RNA\"]] <- split(HGSOC[[\"RNA\"]], f = HGSOC$integration_id)\n",
    "Layers(HGSOC[[\"RNA\"]])\n"
   ]
  },
  {
   "cell_type": "code",
   "execution_count": 89,
   "metadata": {
    "vscode": {
     "languageId": "r"
    }
   },
   "outputs": [
    {
     "data": {
      "text/plain": [
       "An object of class Seurat \n",
       "27127 features across 29306 samples within 1 assay \n",
       "Active assay: RNA (27127 features, 2000 variable features)\n",
       " 43 layers present: counts.PRJCA005422_HGSOC1_AS, counts.PRJCA005422_HGSOC3_AS, counts.PRJCA005422_HGSOC2_AS, counts.PRJCA005422_HGSOC6_AS, counts.PRJCA005422_HGSOC5_AS, counts.PRJCA005422_HGSOC8_AS, counts.PRJCA005422_HGSOC9_AS, counts.PRJCA005422_HGSOC10_AS, counts.PRJCA005422_HGSOC1_PT, counts.PRJCA005422_HGSOC3_PT, counts.PRJCA005422_HGSOC2_PT, counts.PRJCA005422_HGSOC7_PT, counts.PRJCA005422_HGSOC6_PT, counts.PRJCA005422_HGSOC4_PT, counts.PRJCA005422_HGSOC8_PT, counts.PRJCA005422_HGSOC9_PT, counts.PRJCA005422_HGSOC10_PT, counts.PRJCA005422_HGSOC1_MT, counts.PRJCA005422_HGSOC3_MT, counts.PRJCA005422_HGSOC6_MT, counts.PRJCA005422_HGSOC4_MT, scale.data, data.PRJCA005422_HGSOC1_AS, data.PRJCA005422_HGSOC3_AS, data.PRJCA005422_HGSOC2_AS, data.PRJCA005422_HGSOC6_AS, data.PRJCA005422_HGSOC5_AS, data.PRJCA005422_HGSOC8_AS, data.PRJCA005422_HGSOC9_AS, data.PRJCA005422_HGSOC10_AS, data.PRJCA005422_HGSOC1_PT, data.PRJCA005422_HGSOC3_PT, data.PRJCA005422_HGSOC2_PT, data.PRJCA005422_HGSOC7_PT, data.PRJCA005422_HGSOC6_PT, data.PRJCA005422_HGSOC4_PT, data.PRJCA005422_HGSOC8_PT, data.PRJCA005422_HGSOC9_PT, data.PRJCA005422_HGSOC10_PT, data.PRJCA005422_HGSOC1_MT, data.PRJCA005422_HGSOC3_MT, data.PRJCA005422_HGSOC6_MT, data.PRJCA005422_HGSOC4_MT"
      ]
     },
     "metadata": {},
     "output_type": "display_data"
    },
    {
     "data": {
      "text/html": [
       "'PRJCA005422'"
      ],
      "text/latex": [
       "'PRJCA005422'"
      ],
      "text/markdown": [
       "'PRJCA005422'"
      ],
      "text/plain": [
       "[1] \"PRJCA005422\""
      ]
     },
     "metadata": {},
     "output_type": "display_data"
    },
    {
     "data": {
      "text/html": [
       "<table class=\"dataframe\">\n",
       "<caption>A data.frame: 6 × 28</caption>\n",
       "<thead>\n",
       "\t<tr><th></th><th scope=col>orig.ident</th><th scope=col>nCount_RNA</th><th scope=col>nFeature_RNA</th><th scope=col>Cellname</th><th scope=col>Samples</th><th scope=col>Groups</th><th scope=col>Patients</th><th scope=col>percent.mt</th><th scope=col>percent.ribo</th><th scope=col>percent.HSP</th><th scope=col>⋯</th><th scope=col>sample_type</th><th scope=col>cancer_type</th><th scope=col>patient_id</th><th scope=col>sample_id</th><th scope=col>RNA_snn_res.0.2</th><th scope=col>seurat_clusters</th><th scope=col>site</th><th scope=col>sample_type_major</th><th scope=col>cancer_subtype</th><th scope=col>integration_id</th></tr>\n",
       "\t<tr><th></th><th scope=col>&lt;chr&gt;</th><th scope=col>&lt;dbl&gt;</th><th scope=col>&lt;int&gt;</th><th scope=col>&lt;chr&gt;</th><th scope=col>&lt;chr&gt;</th><th scope=col>&lt;chr&gt;</th><th scope=col>&lt;chr&gt;</th><th scope=col>&lt;dbl&gt;</th><th scope=col>&lt;dbl&gt;</th><th scope=col>&lt;dbl&gt;</th><th scope=col>⋯</th><th scope=col>&lt;chr&gt;</th><th scope=col>&lt;chr&gt;</th><th scope=col>&lt;chr&gt;</th><th scope=col>&lt;chr&gt;</th><th scope=col>&lt;chr&gt;</th><th scope=col>&lt;chr&gt;</th><th scope=col>&lt;chr&gt;</th><th scope=col>&lt;chr&gt;</th><th scope=col>&lt;chr&gt;</th><th scope=col>&lt;chr&gt;</th></tr>\n",
       "</thead>\n",
       "<tbody>\n",
       "\t<tr><th scope=row>PRJCA005422_EOC1_FS_cell_AACACGTGTCGGCACT</th><td>EOC1</td><td>24353</td><td>1770</td><td>EOC1_FS_cell_AACACGTGTCGGCACT</td><td>HGSOC1_AS</td><td>Ascites</td><td>HGSOC1</td><td>0.8007227</td><td> 3.859894</td><td>0.1519320</td><td>⋯</td><td>Ascites</td><td>HGSOC</td><td>HGSOC1</td><td>PRJCA005422_HGSOC1_AS</td><td>8</td><td>8</td><td>ascites fluid</td><td>ascites</td><td>HGSOC</td><td>PRJCA005422_HGSOC1_AS</td></tr>\n",
       "\t<tr><th scope=row>PRJCA005422_EOC1_FS_cell_AACCGCGTCCCTAACC</th><td>EOC1</td><td>  531</td><td> 365</td><td>EOC1_FS_cell_AACCGCGTCCCTAACC</td><td>HGSOC1_AS</td><td>Ascites</td><td>HGSOC1</td><td>5.6497175</td><td>18.796992</td><td>0.1879699</td><td>⋯</td><td>Ascites</td><td>HGSOC</td><td>HGSOC1</td><td>PRJCA005422_HGSOC1_AS</td><td>4</td><td>4</td><td>ascites fluid</td><td>ascites</td><td>HGSOC</td><td>PRJCA005422_HGSOC1_AS</td></tr>\n",
       "\t<tr><th scope=row>PRJCA005422_EOC1_FS_cell_AACTCCCAGTTTCCTT</th><td>EOC1</td><td> 9273</td><td>3128</td><td>EOC1_FS_cell_AACTCCCAGTTTCCTT</td><td>HGSOC1_AS</td><td>Ascites</td><td>HGSOC1</td><td>3.5479349</td><td>10.673854</td><td>0.4743935</td><td>⋯</td><td>Ascites</td><td>HGSOC</td><td>HGSOC1</td><td>PRJCA005422_HGSOC1_AS</td><td>8</td><td>8</td><td>ascites fluid</td><td>ascites</td><td>HGSOC</td><td>PRJCA005422_HGSOC1_AS</td></tr>\n",
       "\t<tr><th scope=row>PRJCA005422_EOC1_FS_cell_AAGGCAGGTTAAAGTG</th><td>EOC1</td><td> 4757</td><td>2120</td><td>EOC1_FS_cell_AAGGCAGGTTAAAGTG</td><td>HGSOC1_AS</td><td>Ascites</td><td>HGSOC1</td><td>9.7750683</td><td>15.762926</td><td>0.6094998</td><td>⋯</td><td>Ascites</td><td>HGSOC</td><td>HGSOC1</td><td>PRJCA005422_HGSOC1_AS</td><td>8</td><td>8</td><td>ascites fluid</td><td>ascites</td><td>HGSOC</td><td>PRJCA005422_HGSOC1_AS</td></tr>\n",
       "\t<tr><th scope=row>PRJCA005422_EOC1_FS_cell_AAGGCAGTCAACACTG</th><td>EOC1</td><td>19574</td><td>3727</td><td>EOC1_FS_cell_AAGGCAGTCAACACTG</td><td>HGSOC1_AS</td><td>Ascites</td><td>HGSOC1</td><td>7.1319097</td><td>24.638570</td><td>0.3473819</td><td>⋯</td><td>Ascites</td><td>HGSOC</td><td>HGSOC1</td><td>PRJCA005422_HGSOC1_AS</td><td>8</td><td>8</td><td>ascites fluid</td><td>ascites</td><td>HGSOC</td><td>PRJCA005422_HGSOC1_AS</td></tr>\n",
       "\t<tr><th scope=row>PRJCA005422_EOC1_FS_cell_ACACCAAAGCTAACTC</th><td>EOC1</td><td>22514</td><td>3971</td><td>EOC1_FS_cell_ACACCAAAGCTAACTC</td><td>HGSOC1_AS</td><td>Ascites</td><td>HGSOC1</td><td>5.7208848</td><td>20.034642</td><td>0.7683425</td><td>⋯</td><td>Ascites</td><td>HGSOC</td><td>HGSOC1</td><td>PRJCA005422_HGSOC1_AS</td><td>8</td><td>8</td><td>ascites fluid</td><td>ascites</td><td>HGSOC</td><td>PRJCA005422_HGSOC1_AS</td></tr>\n",
       "</tbody>\n",
       "</table>\n"
      ],
      "text/latex": [
       "A data.frame: 6 × 28\n",
       "\\begin{tabular}{r|lllllllllllllllllllll}\n",
       "  & orig.ident & nCount\\_RNA & nFeature\\_RNA & Cellname & Samples & Groups & Patients & percent.mt & percent.ribo & percent.HSP & ⋯ & sample\\_type & cancer\\_type & patient\\_id & sample\\_id & RNA\\_snn\\_res.0.2 & seurat\\_clusters & site & sample\\_type\\_major & cancer\\_subtype & integration\\_id\\\\\n",
       "  & <chr> & <dbl> & <int> & <chr> & <chr> & <chr> & <chr> & <dbl> & <dbl> & <dbl> & ⋯ & <chr> & <chr> & <chr> & <chr> & <chr> & <chr> & <chr> & <chr> & <chr> & <chr>\\\\\n",
       "\\hline\n",
       "\tPRJCA005422\\_EOC1\\_FS\\_cell\\_AACACGTGTCGGCACT & EOC1 & 24353 & 1770 & EOC1\\_FS\\_cell\\_AACACGTGTCGGCACT & HGSOC1\\_AS & Ascites & HGSOC1 & 0.8007227 &  3.859894 & 0.1519320 & ⋯ & Ascites & HGSOC & HGSOC1 & PRJCA005422\\_HGSOC1\\_AS & 8 & 8 & ascites fluid & ascites & HGSOC & PRJCA005422\\_HGSOC1\\_AS\\\\\n",
       "\tPRJCA005422\\_EOC1\\_FS\\_cell\\_AACCGCGTCCCTAACC & EOC1 &   531 &  365 & EOC1\\_FS\\_cell\\_AACCGCGTCCCTAACC & HGSOC1\\_AS & Ascites & HGSOC1 & 5.6497175 & 18.796992 & 0.1879699 & ⋯ & Ascites & HGSOC & HGSOC1 & PRJCA005422\\_HGSOC1\\_AS & 4 & 4 & ascites fluid & ascites & HGSOC & PRJCA005422\\_HGSOC1\\_AS\\\\\n",
       "\tPRJCA005422\\_EOC1\\_FS\\_cell\\_AACTCCCAGTTTCCTT & EOC1 &  9273 & 3128 & EOC1\\_FS\\_cell\\_AACTCCCAGTTTCCTT & HGSOC1\\_AS & Ascites & HGSOC1 & 3.5479349 & 10.673854 & 0.4743935 & ⋯ & Ascites & HGSOC & HGSOC1 & PRJCA005422\\_HGSOC1\\_AS & 8 & 8 & ascites fluid & ascites & HGSOC & PRJCA005422\\_HGSOC1\\_AS\\\\\n",
       "\tPRJCA005422\\_EOC1\\_FS\\_cell\\_AAGGCAGGTTAAAGTG & EOC1 &  4757 & 2120 & EOC1\\_FS\\_cell\\_AAGGCAGGTTAAAGTG & HGSOC1\\_AS & Ascites & HGSOC1 & 9.7750683 & 15.762926 & 0.6094998 & ⋯ & Ascites & HGSOC & HGSOC1 & PRJCA005422\\_HGSOC1\\_AS & 8 & 8 & ascites fluid & ascites & HGSOC & PRJCA005422\\_HGSOC1\\_AS\\\\\n",
       "\tPRJCA005422\\_EOC1\\_FS\\_cell\\_AAGGCAGTCAACACTG & EOC1 & 19574 & 3727 & EOC1\\_FS\\_cell\\_AAGGCAGTCAACACTG & HGSOC1\\_AS & Ascites & HGSOC1 & 7.1319097 & 24.638570 & 0.3473819 & ⋯ & Ascites & HGSOC & HGSOC1 & PRJCA005422\\_HGSOC1\\_AS & 8 & 8 & ascites fluid & ascites & HGSOC & PRJCA005422\\_HGSOC1\\_AS\\\\\n",
       "\tPRJCA005422\\_EOC1\\_FS\\_cell\\_ACACCAAAGCTAACTC & EOC1 & 22514 & 3971 & EOC1\\_FS\\_cell\\_ACACCAAAGCTAACTC & HGSOC1\\_AS & Ascites & HGSOC1 & 5.7208848 & 20.034642 & 0.7683425 & ⋯ & Ascites & HGSOC & HGSOC1 & PRJCA005422\\_HGSOC1\\_AS & 8 & 8 & ascites fluid & ascites & HGSOC & PRJCA005422\\_HGSOC1\\_AS\\\\\n",
       "\\end{tabular}\n"
      ],
      "text/markdown": [
       "\n",
       "A data.frame: 6 × 28\n",
       "\n",
       "| <!--/--> | orig.ident &lt;chr&gt; | nCount_RNA &lt;dbl&gt; | nFeature_RNA &lt;int&gt; | Cellname &lt;chr&gt; | Samples &lt;chr&gt; | Groups &lt;chr&gt; | Patients &lt;chr&gt; | percent.mt &lt;dbl&gt; | percent.ribo &lt;dbl&gt; | percent.HSP &lt;dbl&gt; | ⋯ ⋯ | sample_type &lt;chr&gt; | cancer_type &lt;chr&gt; | patient_id &lt;chr&gt; | sample_id &lt;chr&gt; | RNA_snn_res.0.2 &lt;chr&gt; | seurat_clusters &lt;chr&gt; | site &lt;chr&gt; | sample_type_major &lt;chr&gt; | cancer_subtype &lt;chr&gt; | integration_id &lt;chr&gt; |\n",
       "|---|---|---|---|---|---|---|---|---|---|---|---|---|---|---|---|---|---|---|---|---|---|\n",
       "| PRJCA005422_EOC1_FS_cell_AACACGTGTCGGCACT | EOC1 | 24353 | 1770 | EOC1_FS_cell_AACACGTGTCGGCACT | HGSOC1_AS | Ascites | HGSOC1 | 0.8007227 |  3.859894 | 0.1519320 | ⋯ | Ascites | HGSOC | HGSOC1 | PRJCA005422_HGSOC1_AS | 8 | 8 | ascites fluid | ascites | HGSOC | PRJCA005422_HGSOC1_AS |\n",
       "| PRJCA005422_EOC1_FS_cell_AACCGCGTCCCTAACC | EOC1 |   531 |  365 | EOC1_FS_cell_AACCGCGTCCCTAACC | HGSOC1_AS | Ascites | HGSOC1 | 5.6497175 | 18.796992 | 0.1879699 | ⋯ | Ascites | HGSOC | HGSOC1 | PRJCA005422_HGSOC1_AS | 4 | 4 | ascites fluid | ascites | HGSOC | PRJCA005422_HGSOC1_AS |\n",
       "| PRJCA005422_EOC1_FS_cell_AACTCCCAGTTTCCTT | EOC1 |  9273 | 3128 | EOC1_FS_cell_AACTCCCAGTTTCCTT | HGSOC1_AS | Ascites | HGSOC1 | 3.5479349 | 10.673854 | 0.4743935 | ⋯ | Ascites | HGSOC | HGSOC1 | PRJCA005422_HGSOC1_AS | 8 | 8 | ascites fluid | ascites | HGSOC | PRJCA005422_HGSOC1_AS |\n",
       "| PRJCA005422_EOC1_FS_cell_AAGGCAGGTTAAAGTG | EOC1 |  4757 | 2120 | EOC1_FS_cell_AAGGCAGGTTAAAGTG | HGSOC1_AS | Ascites | HGSOC1 | 9.7750683 | 15.762926 | 0.6094998 | ⋯ | Ascites | HGSOC | HGSOC1 | PRJCA005422_HGSOC1_AS | 8 | 8 | ascites fluid | ascites | HGSOC | PRJCA005422_HGSOC1_AS |\n",
       "| PRJCA005422_EOC1_FS_cell_AAGGCAGTCAACACTG | EOC1 | 19574 | 3727 | EOC1_FS_cell_AAGGCAGTCAACACTG | HGSOC1_AS | Ascites | HGSOC1 | 7.1319097 | 24.638570 | 0.3473819 | ⋯ | Ascites | HGSOC | HGSOC1 | PRJCA005422_HGSOC1_AS | 8 | 8 | ascites fluid | ascites | HGSOC | PRJCA005422_HGSOC1_AS |\n",
       "| PRJCA005422_EOC1_FS_cell_ACACCAAAGCTAACTC | EOC1 | 22514 | 3971 | EOC1_FS_cell_ACACCAAAGCTAACTC | HGSOC1_AS | Ascites | HGSOC1 | 5.7208848 | 20.034642 | 0.7683425 | ⋯ | Ascites | HGSOC | HGSOC1 | PRJCA005422_HGSOC1_AS | 8 | 8 | ascites fluid | ascites | HGSOC | PRJCA005422_HGSOC1_AS |\n",
       "\n"
      ],
      "text/plain": [
       "                                          orig.ident nCount_RNA nFeature_RNA\n",
       "PRJCA005422_EOC1_FS_cell_AACACGTGTCGGCACT EOC1       24353      1770        \n",
       "PRJCA005422_EOC1_FS_cell_AACCGCGTCCCTAACC EOC1         531       365        \n",
       "PRJCA005422_EOC1_FS_cell_AACTCCCAGTTTCCTT EOC1        9273      3128        \n",
       "PRJCA005422_EOC1_FS_cell_AAGGCAGGTTAAAGTG EOC1        4757      2120        \n",
       "PRJCA005422_EOC1_FS_cell_AAGGCAGTCAACACTG EOC1       19574      3727        \n",
       "PRJCA005422_EOC1_FS_cell_ACACCAAAGCTAACTC EOC1       22514      3971        \n",
       "                                          Cellname                     \n",
       "PRJCA005422_EOC1_FS_cell_AACACGTGTCGGCACT EOC1_FS_cell_AACACGTGTCGGCACT\n",
       "PRJCA005422_EOC1_FS_cell_AACCGCGTCCCTAACC EOC1_FS_cell_AACCGCGTCCCTAACC\n",
       "PRJCA005422_EOC1_FS_cell_AACTCCCAGTTTCCTT EOC1_FS_cell_AACTCCCAGTTTCCTT\n",
       "PRJCA005422_EOC1_FS_cell_AAGGCAGGTTAAAGTG EOC1_FS_cell_AAGGCAGGTTAAAGTG\n",
       "PRJCA005422_EOC1_FS_cell_AAGGCAGTCAACACTG EOC1_FS_cell_AAGGCAGTCAACACTG\n",
       "PRJCA005422_EOC1_FS_cell_ACACCAAAGCTAACTC EOC1_FS_cell_ACACCAAAGCTAACTC\n",
       "                                          Samples   Groups  Patients percent.mt\n",
       "PRJCA005422_EOC1_FS_cell_AACACGTGTCGGCACT HGSOC1_AS Ascites HGSOC1   0.8007227 \n",
       "PRJCA005422_EOC1_FS_cell_AACCGCGTCCCTAACC HGSOC1_AS Ascites HGSOC1   5.6497175 \n",
       "PRJCA005422_EOC1_FS_cell_AACTCCCAGTTTCCTT HGSOC1_AS Ascites HGSOC1   3.5479349 \n",
       "PRJCA005422_EOC1_FS_cell_AAGGCAGGTTAAAGTG HGSOC1_AS Ascites HGSOC1   9.7750683 \n",
       "PRJCA005422_EOC1_FS_cell_AAGGCAGTCAACACTG HGSOC1_AS Ascites HGSOC1   7.1319097 \n",
       "PRJCA005422_EOC1_FS_cell_ACACCAAAGCTAACTC HGSOC1_AS Ascites HGSOC1   5.7208848 \n",
       "                                          percent.ribo percent.HSP ⋯\n",
       "PRJCA005422_EOC1_FS_cell_AACACGTGTCGGCACT  3.859894    0.1519320   ⋯\n",
       "PRJCA005422_EOC1_FS_cell_AACCGCGTCCCTAACC 18.796992    0.1879699   ⋯\n",
       "PRJCA005422_EOC1_FS_cell_AACTCCCAGTTTCCTT 10.673854    0.4743935   ⋯\n",
       "PRJCA005422_EOC1_FS_cell_AAGGCAGGTTAAAGTG 15.762926    0.6094998   ⋯\n",
       "PRJCA005422_EOC1_FS_cell_AAGGCAGTCAACACTG 24.638570    0.3473819   ⋯\n",
       "PRJCA005422_EOC1_FS_cell_ACACCAAAGCTAACTC 20.034642    0.7683425   ⋯\n",
       "                                          sample_type cancer_type patient_id\n",
       "PRJCA005422_EOC1_FS_cell_AACACGTGTCGGCACT Ascites     HGSOC       HGSOC1    \n",
       "PRJCA005422_EOC1_FS_cell_AACCGCGTCCCTAACC Ascites     HGSOC       HGSOC1    \n",
       "PRJCA005422_EOC1_FS_cell_AACTCCCAGTTTCCTT Ascites     HGSOC       HGSOC1    \n",
       "PRJCA005422_EOC1_FS_cell_AAGGCAGGTTAAAGTG Ascites     HGSOC       HGSOC1    \n",
       "PRJCA005422_EOC1_FS_cell_AAGGCAGTCAACACTG Ascites     HGSOC       HGSOC1    \n",
       "PRJCA005422_EOC1_FS_cell_ACACCAAAGCTAACTC Ascites     HGSOC       HGSOC1    \n",
       "                                          sample_id             RNA_snn_res.0.2\n",
       "PRJCA005422_EOC1_FS_cell_AACACGTGTCGGCACT PRJCA005422_HGSOC1_AS 8              \n",
       "PRJCA005422_EOC1_FS_cell_AACCGCGTCCCTAACC PRJCA005422_HGSOC1_AS 4              \n",
       "PRJCA005422_EOC1_FS_cell_AACTCCCAGTTTCCTT PRJCA005422_HGSOC1_AS 8              \n",
       "PRJCA005422_EOC1_FS_cell_AAGGCAGGTTAAAGTG PRJCA005422_HGSOC1_AS 8              \n",
       "PRJCA005422_EOC1_FS_cell_AAGGCAGTCAACACTG PRJCA005422_HGSOC1_AS 8              \n",
       "PRJCA005422_EOC1_FS_cell_ACACCAAAGCTAACTC PRJCA005422_HGSOC1_AS 8              \n",
       "                                          seurat_clusters site         \n",
       "PRJCA005422_EOC1_FS_cell_AACACGTGTCGGCACT 8               ascites fluid\n",
       "PRJCA005422_EOC1_FS_cell_AACCGCGTCCCTAACC 4               ascites fluid\n",
       "PRJCA005422_EOC1_FS_cell_AACTCCCAGTTTCCTT 8               ascites fluid\n",
       "PRJCA005422_EOC1_FS_cell_AAGGCAGGTTAAAGTG 8               ascites fluid\n",
       "PRJCA005422_EOC1_FS_cell_AAGGCAGTCAACACTG 8               ascites fluid\n",
       "PRJCA005422_EOC1_FS_cell_ACACCAAAGCTAACTC 8               ascites fluid\n",
       "                                          sample_type_major cancer_subtype\n",
       "PRJCA005422_EOC1_FS_cell_AACACGTGTCGGCACT ascites           HGSOC         \n",
       "PRJCA005422_EOC1_FS_cell_AACCGCGTCCCTAACC ascites           HGSOC         \n",
       "PRJCA005422_EOC1_FS_cell_AACTCCCAGTTTCCTT ascites           HGSOC         \n",
       "PRJCA005422_EOC1_FS_cell_AAGGCAGGTTAAAGTG ascites           HGSOC         \n",
       "PRJCA005422_EOC1_FS_cell_AAGGCAGTCAACACTG ascites           HGSOC         \n",
       "PRJCA005422_EOC1_FS_cell_ACACCAAAGCTAACTC ascites           HGSOC         \n",
       "                                          integration_id       \n",
       "PRJCA005422_EOC1_FS_cell_AACACGTGTCGGCACT PRJCA005422_HGSOC1_AS\n",
       "PRJCA005422_EOC1_FS_cell_AACCGCGTCCCTAACC PRJCA005422_HGSOC1_AS\n",
       "PRJCA005422_EOC1_FS_cell_AACTCCCAGTTTCCTT PRJCA005422_HGSOC1_AS\n",
       "PRJCA005422_EOC1_FS_cell_AAGGCAGGTTAAAGTG PRJCA005422_HGSOC1_AS\n",
       "PRJCA005422_EOC1_FS_cell_AAGGCAGTCAACACTG PRJCA005422_HGSOC1_AS\n",
       "PRJCA005422_EOC1_FS_cell_ACACCAAAGCTAACTC PRJCA005422_HGSOC1_AS"
      ]
     },
     "metadata": {},
     "output_type": "display_data"
    },
    {
     "data": {
      "text/html": [
       "<table class=\"dataframe\">\n",
       "<caption>A data.frame: 6 × 28</caption>\n",
       "<thead>\n",
       "\t<tr><th></th><th scope=col>orig.ident</th><th scope=col>nCount_RNA</th><th scope=col>nFeature_RNA</th><th scope=col>Cellname</th><th scope=col>Samples</th><th scope=col>Groups</th><th scope=col>Patients</th><th scope=col>percent.mt</th><th scope=col>percent.ribo</th><th scope=col>percent.HSP</th><th scope=col>⋯</th><th scope=col>sample_type</th><th scope=col>cancer_type</th><th scope=col>patient_id</th><th scope=col>sample_id</th><th scope=col>RNA_snn_res.0.2</th><th scope=col>seurat_clusters</th><th scope=col>site</th><th scope=col>sample_type_major</th><th scope=col>cancer_subtype</th><th scope=col>integration_id</th></tr>\n",
       "\t<tr><th></th><th scope=col>&lt;chr&gt;</th><th scope=col>&lt;dbl&gt;</th><th scope=col>&lt;int&gt;</th><th scope=col>&lt;chr&gt;</th><th scope=col>&lt;chr&gt;</th><th scope=col>&lt;chr&gt;</th><th scope=col>&lt;chr&gt;</th><th scope=col>&lt;dbl&gt;</th><th scope=col>&lt;dbl&gt;</th><th scope=col>&lt;dbl&gt;</th><th scope=col>⋯</th><th scope=col>&lt;chr&gt;</th><th scope=col>&lt;chr&gt;</th><th scope=col>&lt;chr&gt;</th><th scope=col>&lt;chr&gt;</th><th scope=col>&lt;chr&gt;</th><th scope=col>&lt;chr&gt;</th><th scope=col>&lt;chr&gt;</th><th scope=col>&lt;chr&gt;</th><th scope=col>&lt;chr&gt;</th><th scope=col>&lt;chr&gt;</th></tr>\n",
       "</thead>\n",
       "<tbody>\n",
       "\t<tr><th scope=row>PRJCA005422_EOC4_TM_cell_TTTCCTCGTTCAACCA</th><td>EOC4</td><td>12786</td><td>3090</td><td>EOC4_TM_cell_TTTCCTCGTTCAACCA</td><td>HGSOC4_MT</td><td>Metastatic Tumor</td><td>HGSOC4</td><td>0.9619897</td><td> 7.382498</td><td>0.4223039</td><td>⋯</td><td>Metastatic Tumor</td><td>HGSOC</td><td>HGSOC4</td><td>PRJCA005422_HGSOC4_MT</td><td>0</td><td>0</td><td>omentum</td><td>metastatic tumour</td><td>HGSOC</td><td>PRJCA005422_HGSOC4_MT</td></tr>\n",
       "\t<tr><th scope=row>PRJCA005422_EOC4_TM_cell_TTTCCTCTCTGGTATG</th><td>EOC4</td><td>13288</td><td>3440</td><td>EOC4_TM_cell_TTTCCTCTCTGGTATG</td><td>HGSOC4_MT</td><td>Metastatic Tumor</td><td>HGSOC4</td><td>3.6950632</td><td>15.937994</td><td>0.3988261</td><td>⋯</td><td>Metastatic Tumor</td><td>HGSOC</td><td>HGSOC4</td><td>PRJCA005422_HGSOC4_MT</td><td>0</td><td>0</td><td>omentum</td><td>metastatic tumour</td><td>HGSOC</td><td>PRJCA005422_HGSOC4_MT</td></tr>\n",
       "\t<tr><th scope=row>PRJCA005422_EOC4_TM_cell_TTTCCTCTCTGGTTCC</th><td>EOC4</td><td>16083</td><td>3128</td><td>EOC4_TM_cell_TTTCCTCTCTGGTTCC</td><td>HGSOC4_MT</td><td>Metastatic Tumor</td><td>HGSOC4</td><td>2.8352919</td><td> 7.181049</td><td>0.3295200</td><td>⋯</td><td>Metastatic Tumor</td><td>HGSOC</td><td>HGSOC4</td><td>PRJCA005422_HGSOC4_MT</td><td>0</td><td>0</td><td>omentum</td><td>metastatic tumour</td><td>HGSOC</td><td>PRJCA005422_HGSOC4_MT</td></tr>\n",
       "\t<tr><th scope=row>PRJCA005422_EOC4_TM_cell_TTTCCTCTCTGTCTCG</th><td>EOC4</td><td>23953</td><td>4481</td><td>EOC4_TM_cell_TTTCCTCTCTGTCTCG</td><td>HGSOC4_MT</td><td>Metastatic Tumor</td><td>HGSOC4</td><td>2.9140400</td><td> 8.449176</td><td>0.4049259</td><td>⋯</td><td>Metastatic Tumor</td><td>HGSOC</td><td>HGSOC4</td><td>PRJCA005422_HGSOC4_MT</td><td>0</td><td>0</td><td>omentum</td><td>metastatic tumour</td><td>HGSOC</td><td>PRJCA005422_HGSOC4_MT</td></tr>\n",
       "\t<tr><th scope=row>PRJCA005422_EOC4_TM_cell_TTTGCGCAGGAGTCTG</th><td>EOC4</td><td>17788</td><td>3363</td><td>EOC4_TM_cell_TTTGCGCAGGAGTCTG</td><td>HGSOC4_MT</td><td>Metastatic Tumor</td><td>HGSOC4</td><td>4.1207556</td><td>15.797167</td><td>0.3879020</td><td>⋯</td><td>Metastatic Tumor</td><td>HGSOC</td><td>HGSOC4</td><td>PRJCA005422_HGSOC4_MT</td><td>0</td><td>0</td><td>omentum</td><td>metastatic tumour</td><td>HGSOC</td><td>PRJCA005422_HGSOC4_MT</td></tr>\n",
       "\t<tr><th scope=row>PRJCA005422_EOC4_TM_cell_TTTGTCATCCCAACGG</th><td>EOC4</td><td>16918</td><td>3537</td><td>EOC4_TM_cell_TTTGTCATCCCAACGG</td><td>HGSOC4_MT</td><td>Metastatic Tumor</td><td>HGSOC4</td><td>7.4063128</td><td>20.745907</td><td>0.4787517</td><td>⋯</td><td>Metastatic Tumor</td><td>HGSOC</td><td>HGSOC4</td><td>PRJCA005422_HGSOC4_MT</td><td>0</td><td>0</td><td>omentum</td><td>metastatic tumour</td><td>HGSOC</td><td>PRJCA005422_HGSOC4_MT</td></tr>\n",
       "</tbody>\n",
       "</table>\n"
      ],
      "text/latex": [
       "A data.frame: 6 × 28\n",
       "\\begin{tabular}{r|lllllllllllllllllllll}\n",
       "  & orig.ident & nCount\\_RNA & nFeature\\_RNA & Cellname & Samples & Groups & Patients & percent.mt & percent.ribo & percent.HSP & ⋯ & sample\\_type & cancer\\_type & patient\\_id & sample\\_id & RNA\\_snn\\_res.0.2 & seurat\\_clusters & site & sample\\_type\\_major & cancer\\_subtype & integration\\_id\\\\\n",
       "  & <chr> & <dbl> & <int> & <chr> & <chr> & <chr> & <chr> & <dbl> & <dbl> & <dbl> & ⋯ & <chr> & <chr> & <chr> & <chr> & <chr> & <chr> & <chr> & <chr> & <chr> & <chr>\\\\\n",
       "\\hline\n",
       "\tPRJCA005422\\_EOC4\\_TM\\_cell\\_TTTCCTCGTTCAACCA & EOC4 & 12786 & 3090 & EOC4\\_TM\\_cell\\_TTTCCTCGTTCAACCA & HGSOC4\\_MT & Metastatic Tumor & HGSOC4 & 0.9619897 &  7.382498 & 0.4223039 & ⋯ & Metastatic Tumor & HGSOC & HGSOC4 & PRJCA005422\\_HGSOC4\\_MT & 0 & 0 & omentum & metastatic tumour & HGSOC & PRJCA005422\\_HGSOC4\\_MT\\\\\n",
       "\tPRJCA005422\\_EOC4\\_TM\\_cell\\_TTTCCTCTCTGGTATG & EOC4 & 13288 & 3440 & EOC4\\_TM\\_cell\\_TTTCCTCTCTGGTATG & HGSOC4\\_MT & Metastatic Tumor & HGSOC4 & 3.6950632 & 15.937994 & 0.3988261 & ⋯ & Metastatic Tumor & HGSOC & HGSOC4 & PRJCA005422\\_HGSOC4\\_MT & 0 & 0 & omentum & metastatic tumour & HGSOC & PRJCA005422\\_HGSOC4\\_MT\\\\\n",
       "\tPRJCA005422\\_EOC4\\_TM\\_cell\\_TTTCCTCTCTGGTTCC & EOC4 & 16083 & 3128 & EOC4\\_TM\\_cell\\_TTTCCTCTCTGGTTCC & HGSOC4\\_MT & Metastatic Tumor & HGSOC4 & 2.8352919 &  7.181049 & 0.3295200 & ⋯ & Metastatic Tumor & HGSOC & HGSOC4 & PRJCA005422\\_HGSOC4\\_MT & 0 & 0 & omentum & metastatic tumour & HGSOC & PRJCA005422\\_HGSOC4\\_MT\\\\\n",
       "\tPRJCA005422\\_EOC4\\_TM\\_cell\\_TTTCCTCTCTGTCTCG & EOC4 & 23953 & 4481 & EOC4\\_TM\\_cell\\_TTTCCTCTCTGTCTCG & HGSOC4\\_MT & Metastatic Tumor & HGSOC4 & 2.9140400 &  8.449176 & 0.4049259 & ⋯ & Metastatic Tumor & HGSOC & HGSOC4 & PRJCA005422\\_HGSOC4\\_MT & 0 & 0 & omentum & metastatic tumour & HGSOC & PRJCA005422\\_HGSOC4\\_MT\\\\\n",
       "\tPRJCA005422\\_EOC4\\_TM\\_cell\\_TTTGCGCAGGAGTCTG & EOC4 & 17788 & 3363 & EOC4\\_TM\\_cell\\_TTTGCGCAGGAGTCTG & HGSOC4\\_MT & Metastatic Tumor & HGSOC4 & 4.1207556 & 15.797167 & 0.3879020 & ⋯ & Metastatic Tumor & HGSOC & HGSOC4 & PRJCA005422\\_HGSOC4\\_MT & 0 & 0 & omentum & metastatic tumour & HGSOC & PRJCA005422\\_HGSOC4\\_MT\\\\\n",
       "\tPRJCA005422\\_EOC4\\_TM\\_cell\\_TTTGTCATCCCAACGG & EOC4 & 16918 & 3537 & EOC4\\_TM\\_cell\\_TTTGTCATCCCAACGG & HGSOC4\\_MT & Metastatic Tumor & HGSOC4 & 7.4063128 & 20.745907 & 0.4787517 & ⋯ & Metastatic Tumor & HGSOC & HGSOC4 & PRJCA005422\\_HGSOC4\\_MT & 0 & 0 & omentum & metastatic tumour & HGSOC & PRJCA005422\\_HGSOC4\\_MT\\\\\n",
       "\\end{tabular}\n"
      ],
      "text/markdown": [
       "\n",
       "A data.frame: 6 × 28\n",
       "\n",
       "| <!--/--> | orig.ident &lt;chr&gt; | nCount_RNA &lt;dbl&gt; | nFeature_RNA &lt;int&gt; | Cellname &lt;chr&gt; | Samples &lt;chr&gt; | Groups &lt;chr&gt; | Patients &lt;chr&gt; | percent.mt &lt;dbl&gt; | percent.ribo &lt;dbl&gt; | percent.HSP &lt;dbl&gt; | ⋯ ⋯ | sample_type &lt;chr&gt; | cancer_type &lt;chr&gt; | patient_id &lt;chr&gt; | sample_id &lt;chr&gt; | RNA_snn_res.0.2 &lt;chr&gt; | seurat_clusters &lt;chr&gt; | site &lt;chr&gt; | sample_type_major &lt;chr&gt; | cancer_subtype &lt;chr&gt; | integration_id &lt;chr&gt; |\n",
       "|---|---|---|---|---|---|---|---|---|---|---|---|---|---|---|---|---|---|---|---|---|---|\n",
       "| PRJCA005422_EOC4_TM_cell_TTTCCTCGTTCAACCA | EOC4 | 12786 | 3090 | EOC4_TM_cell_TTTCCTCGTTCAACCA | HGSOC4_MT | Metastatic Tumor | HGSOC4 | 0.9619897 |  7.382498 | 0.4223039 | ⋯ | Metastatic Tumor | HGSOC | HGSOC4 | PRJCA005422_HGSOC4_MT | 0 | 0 | omentum | metastatic tumour | HGSOC | PRJCA005422_HGSOC4_MT |\n",
       "| PRJCA005422_EOC4_TM_cell_TTTCCTCTCTGGTATG | EOC4 | 13288 | 3440 | EOC4_TM_cell_TTTCCTCTCTGGTATG | HGSOC4_MT | Metastatic Tumor | HGSOC4 | 3.6950632 | 15.937994 | 0.3988261 | ⋯ | Metastatic Tumor | HGSOC | HGSOC4 | PRJCA005422_HGSOC4_MT | 0 | 0 | omentum | metastatic tumour | HGSOC | PRJCA005422_HGSOC4_MT |\n",
       "| PRJCA005422_EOC4_TM_cell_TTTCCTCTCTGGTTCC | EOC4 | 16083 | 3128 | EOC4_TM_cell_TTTCCTCTCTGGTTCC | HGSOC4_MT | Metastatic Tumor | HGSOC4 | 2.8352919 |  7.181049 | 0.3295200 | ⋯ | Metastatic Tumor | HGSOC | HGSOC4 | PRJCA005422_HGSOC4_MT | 0 | 0 | omentum | metastatic tumour | HGSOC | PRJCA005422_HGSOC4_MT |\n",
       "| PRJCA005422_EOC4_TM_cell_TTTCCTCTCTGTCTCG | EOC4 | 23953 | 4481 | EOC4_TM_cell_TTTCCTCTCTGTCTCG | HGSOC4_MT | Metastatic Tumor | HGSOC4 | 2.9140400 |  8.449176 | 0.4049259 | ⋯ | Metastatic Tumor | HGSOC | HGSOC4 | PRJCA005422_HGSOC4_MT | 0 | 0 | omentum | metastatic tumour | HGSOC | PRJCA005422_HGSOC4_MT |\n",
       "| PRJCA005422_EOC4_TM_cell_TTTGCGCAGGAGTCTG | EOC4 | 17788 | 3363 | EOC4_TM_cell_TTTGCGCAGGAGTCTG | HGSOC4_MT | Metastatic Tumor | HGSOC4 | 4.1207556 | 15.797167 | 0.3879020 | ⋯ | Metastatic Tumor | HGSOC | HGSOC4 | PRJCA005422_HGSOC4_MT | 0 | 0 | omentum | metastatic tumour | HGSOC | PRJCA005422_HGSOC4_MT |\n",
       "| PRJCA005422_EOC4_TM_cell_TTTGTCATCCCAACGG | EOC4 | 16918 | 3537 | EOC4_TM_cell_TTTGTCATCCCAACGG | HGSOC4_MT | Metastatic Tumor | HGSOC4 | 7.4063128 | 20.745907 | 0.4787517 | ⋯ | Metastatic Tumor | HGSOC | HGSOC4 | PRJCA005422_HGSOC4_MT | 0 | 0 | omentum | metastatic tumour | HGSOC | PRJCA005422_HGSOC4_MT |\n",
       "\n"
      ],
      "text/plain": [
       "                                          orig.ident nCount_RNA nFeature_RNA\n",
       "PRJCA005422_EOC4_TM_cell_TTTCCTCGTTCAACCA EOC4       12786      3090        \n",
       "PRJCA005422_EOC4_TM_cell_TTTCCTCTCTGGTATG EOC4       13288      3440        \n",
       "PRJCA005422_EOC4_TM_cell_TTTCCTCTCTGGTTCC EOC4       16083      3128        \n",
       "PRJCA005422_EOC4_TM_cell_TTTCCTCTCTGTCTCG EOC4       23953      4481        \n",
       "PRJCA005422_EOC4_TM_cell_TTTGCGCAGGAGTCTG EOC4       17788      3363        \n",
       "PRJCA005422_EOC4_TM_cell_TTTGTCATCCCAACGG EOC4       16918      3537        \n",
       "                                          Cellname                     \n",
       "PRJCA005422_EOC4_TM_cell_TTTCCTCGTTCAACCA EOC4_TM_cell_TTTCCTCGTTCAACCA\n",
       "PRJCA005422_EOC4_TM_cell_TTTCCTCTCTGGTATG EOC4_TM_cell_TTTCCTCTCTGGTATG\n",
       "PRJCA005422_EOC4_TM_cell_TTTCCTCTCTGGTTCC EOC4_TM_cell_TTTCCTCTCTGGTTCC\n",
       "PRJCA005422_EOC4_TM_cell_TTTCCTCTCTGTCTCG EOC4_TM_cell_TTTCCTCTCTGTCTCG\n",
       "PRJCA005422_EOC4_TM_cell_TTTGCGCAGGAGTCTG EOC4_TM_cell_TTTGCGCAGGAGTCTG\n",
       "PRJCA005422_EOC4_TM_cell_TTTGTCATCCCAACGG EOC4_TM_cell_TTTGTCATCCCAACGG\n",
       "                                          Samples   Groups           Patients\n",
       "PRJCA005422_EOC4_TM_cell_TTTCCTCGTTCAACCA HGSOC4_MT Metastatic Tumor HGSOC4  \n",
       "PRJCA005422_EOC4_TM_cell_TTTCCTCTCTGGTATG HGSOC4_MT Metastatic Tumor HGSOC4  \n",
       "PRJCA005422_EOC4_TM_cell_TTTCCTCTCTGGTTCC HGSOC4_MT Metastatic Tumor HGSOC4  \n",
       "PRJCA005422_EOC4_TM_cell_TTTCCTCTCTGTCTCG HGSOC4_MT Metastatic Tumor HGSOC4  \n",
       "PRJCA005422_EOC4_TM_cell_TTTGCGCAGGAGTCTG HGSOC4_MT Metastatic Tumor HGSOC4  \n",
       "PRJCA005422_EOC4_TM_cell_TTTGTCATCCCAACGG HGSOC4_MT Metastatic Tumor HGSOC4  \n",
       "                                          percent.mt percent.ribo percent.HSP ⋯\n",
       "PRJCA005422_EOC4_TM_cell_TTTCCTCGTTCAACCA 0.9619897   7.382498    0.4223039   ⋯\n",
       "PRJCA005422_EOC4_TM_cell_TTTCCTCTCTGGTATG 3.6950632  15.937994    0.3988261   ⋯\n",
       "PRJCA005422_EOC4_TM_cell_TTTCCTCTCTGGTTCC 2.8352919   7.181049    0.3295200   ⋯\n",
       "PRJCA005422_EOC4_TM_cell_TTTCCTCTCTGTCTCG 2.9140400   8.449176    0.4049259   ⋯\n",
       "PRJCA005422_EOC4_TM_cell_TTTGCGCAGGAGTCTG 4.1207556  15.797167    0.3879020   ⋯\n",
       "PRJCA005422_EOC4_TM_cell_TTTGTCATCCCAACGG 7.4063128  20.745907    0.4787517   ⋯\n",
       "                                          sample_type      cancer_type\n",
       "PRJCA005422_EOC4_TM_cell_TTTCCTCGTTCAACCA Metastatic Tumor HGSOC      \n",
       "PRJCA005422_EOC4_TM_cell_TTTCCTCTCTGGTATG Metastatic Tumor HGSOC      \n",
       "PRJCA005422_EOC4_TM_cell_TTTCCTCTCTGGTTCC Metastatic Tumor HGSOC      \n",
       "PRJCA005422_EOC4_TM_cell_TTTCCTCTCTGTCTCG Metastatic Tumor HGSOC      \n",
       "PRJCA005422_EOC4_TM_cell_TTTGCGCAGGAGTCTG Metastatic Tumor HGSOC      \n",
       "PRJCA005422_EOC4_TM_cell_TTTGTCATCCCAACGG Metastatic Tumor HGSOC      \n",
       "                                          patient_id sample_id            \n",
       "PRJCA005422_EOC4_TM_cell_TTTCCTCGTTCAACCA HGSOC4     PRJCA005422_HGSOC4_MT\n",
       "PRJCA005422_EOC4_TM_cell_TTTCCTCTCTGGTATG HGSOC4     PRJCA005422_HGSOC4_MT\n",
       "PRJCA005422_EOC4_TM_cell_TTTCCTCTCTGGTTCC HGSOC4     PRJCA005422_HGSOC4_MT\n",
       "PRJCA005422_EOC4_TM_cell_TTTCCTCTCTGTCTCG HGSOC4     PRJCA005422_HGSOC4_MT\n",
       "PRJCA005422_EOC4_TM_cell_TTTGCGCAGGAGTCTG HGSOC4     PRJCA005422_HGSOC4_MT\n",
       "PRJCA005422_EOC4_TM_cell_TTTGTCATCCCAACGG HGSOC4     PRJCA005422_HGSOC4_MT\n",
       "                                          RNA_snn_res.0.2 seurat_clusters\n",
       "PRJCA005422_EOC4_TM_cell_TTTCCTCGTTCAACCA 0               0              \n",
       "PRJCA005422_EOC4_TM_cell_TTTCCTCTCTGGTATG 0               0              \n",
       "PRJCA005422_EOC4_TM_cell_TTTCCTCTCTGGTTCC 0               0              \n",
       "PRJCA005422_EOC4_TM_cell_TTTCCTCTCTGTCTCG 0               0              \n",
       "PRJCA005422_EOC4_TM_cell_TTTGCGCAGGAGTCTG 0               0              \n",
       "PRJCA005422_EOC4_TM_cell_TTTGTCATCCCAACGG 0               0              \n",
       "                                          site    sample_type_major\n",
       "PRJCA005422_EOC4_TM_cell_TTTCCTCGTTCAACCA omentum metastatic tumour\n",
       "PRJCA005422_EOC4_TM_cell_TTTCCTCTCTGGTATG omentum metastatic tumour\n",
       "PRJCA005422_EOC4_TM_cell_TTTCCTCTCTGGTTCC omentum metastatic tumour\n",
       "PRJCA005422_EOC4_TM_cell_TTTCCTCTCTGTCTCG omentum metastatic tumour\n",
       "PRJCA005422_EOC4_TM_cell_TTTGCGCAGGAGTCTG omentum metastatic tumour\n",
       "PRJCA005422_EOC4_TM_cell_TTTGTCATCCCAACGG omentum metastatic tumour\n",
       "                                          cancer_subtype integration_id       \n",
       "PRJCA005422_EOC4_TM_cell_TTTCCTCGTTCAACCA HGSOC          PRJCA005422_HGSOC4_MT\n",
       "PRJCA005422_EOC4_TM_cell_TTTCCTCTCTGGTATG HGSOC          PRJCA005422_HGSOC4_MT\n",
       "PRJCA005422_EOC4_TM_cell_TTTCCTCTCTGGTTCC HGSOC          PRJCA005422_HGSOC4_MT\n",
       "PRJCA005422_EOC4_TM_cell_TTTCCTCTCTGTCTCG HGSOC          PRJCA005422_HGSOC4_MT\n",
       "PRJCA005422_EOC4_TM_cell_TTTGCGCAGGAGTCTG HGSOC          PRJCA005422_HGSOC4_MT\n",
       "PRJCA005422_EOC4_TM_cell_TTTGTCATCCCAACGG HGSOC          PRJCA005422_HGSOC4_MT"
      ]
     },
     "metadata": {},
     "output_type": "display_data"
    },
    {
     "data": {
      "text/plain": [
       "\n",
       " PRJCA005422_HGSOC1_AS  PRJCA005422_HGSOC1_MT  PRJCA005422_HGSOC1_PT \n",
       "                  1149                   1231                   1408 \n",
       "PRJCA005422_HGSOC10_AS PRJCA005422_HGSOC10_PT  PRJCA005422_HGSOC2_AS \n",
       "                   343                    750                   6695 \n",
       " PRJCA005422_HGSOC2_PT  PRJCA005422_HGSOC3_AS  PRJCA005422_HGSOC3_MT \n",
       "                   633                    662                   1711 \n",
       " PRJCA005422_HGSOC3_PT  PRJCA005422_HGSOC4_MT  PRJCA005422_HGSOC4_PT \n",
       "                  1812                    816                    288 \n",
       " PRJCA005422_HGSOC5_AS  PRJCA005422_HGSOC6_AS  PRJCA005422_HGSOC6_MT \n",
       "                  1743                    829                   1457 \n",
       " PRJCA005422_HGSOC6_PT  PRJCA005422_HGSOC7_PT  PRJCA005422_HGSOC8_AS \n",
       "                   693                   1179                   1110 \n",
       " PRJCA005422_HGSOC8_PT  PRJCA005422_HGSOC9_AS  PRJCA005422_HGSOC9_PT \n",
       "                   121                   3589                   1087 "
      ]
     },
     "metadata": {},
     "output_type": "display_data"
    }
   ],
   "source": [
    "#record number of cells\n",
    "HGSOC\n",
    "HGSOC@project.name\n",
    "head(HGSOC@meta.data)\n",
    "tail(HGSOC@meta.data)\n",
    "table(HGSOC$integration_id)"
   ]
  },
  {
   "cell_type": "code",
   "execution_count": 90,
   "metadata": {
    "vscode": {
     "languageId": "r"
    }
   },
   "outputs": [],
   "source": [
    "#re-export seurat object ready for integration\n",
    "saveRDS(HGSOC, \"/scratch/user/s4436039/scdata/Myeloid_Cells/Myeloid_Cells_Integrate/PRJCA005422_myeloid_int.RDS\")"
   ]
  },
  {
   "cell_type": "code",
   "execution_count": 91,
   "metadata": {
    "vscode": {
     "languageId": "r"
    }
   },
   "outputs": [],
   "source": [
    "#remove all objects in R\n",
    "rm(list = ls())"
   ]
  },
  {
   "cell_type": "markdown",
   "metadata": {},
   "source": [
    "## GSE200218"
   ]
  },
  {
   "cell_type": "code",
   "execution_count": 123,
   "metadata": {
    "vscode": {
     "languageId": "r"
    }
   },
   "outputs": [],
   "source": [
    "MEL <- readRDS(\"/scratch/user/s4436039/scdata/Myeloid_Cells/GSE200218_myeloid.RDS\")"
   ]
  },
  {
   "cell_type": "code",
   "execution_count": 124,
   "metadata": {
    "vscode": {
     "languageId": "r"
    }
   },
   "outputs": [
    {
     "data": {
      "text/plain": [
       "An object of class Seurat \n",
       "36601 features across 10371 samples within 1 assay \n",
       "Active assay: RNA (36601 features, 2000 variable features)\n",
       " 11 layers present: counts.1, counts.2, counts.3, counts.4, counts.5, data.1, data.2, data.3, data.4, data.5, scale.data\n",
       " 2 dimensional reductions calculated: pca, umap"
      ]
     },
     "metadata": {},
     "output_type": "display_data"
    },
    {
     "data": {
      "text/html": [
       "'GSE200218'"
      ],
      "text/latex": [
       "'GSE200218'"
      ],
      "text/markdown": [
       "'GSE200218'"
      ],
      "text/plain": [
       "[1] \"GSE200218\""
      ]
     },
     "metadata": {},
     "output_type": "display_data"
    },
    {
     "data": {
      "text/html": [
       "<table class=\"dataframe\">\n",
       "<caption>A data.frame: 6 × 10</caption>\n",
       "<thead>\n",
       "\t<tr><th></th><th scope=col>orig.ident</th><th scope=col>nCount_RNA</th><th scope=col>nFeature_RNA</th><th scope=col>sample_type</th><th scope=col>cancer_type</th><th scope=col>patient_id</th><th scope=col>sample_id</th><th scope=col>percent.mt</th><th scope=col>RNA_snn_res.0.2</th><th scope=col>seurat_clusters</th></tr>\n",
       "\t<tr><th></th><th scope=col>&lt;chr&gt;</th><th scope=col>&lt;dbl&gt;</th><th scope=col>&lt;int&gt;</th><th scope=col>&lt;chr&gt;</th><th scope=col>&lt;chr&gt;</th><th scope=col>&lt;chr&gt;</th><th scope=col>&lt;chr&gt;</th><th scope=col>&lt;dbl&gt;</th><th scope=col>&lt;fct&gt;</th><th scope=col>&lt;fct&gt;</th></tr>\n",
       "</thead>\n",
       "<tbody>\n",
       "\t<tr><th scope=row>GSE200218_MBM01_AAACCTGAGCTGCAAG-1</th><td>GSE200218</td><td>15791</td><td>4063</td><td>metastasis</td><td>melanoma brain mets</td><td>MBM01</td><td>GSE200218_MBM01</td><td>4.439238</td><td>0</td><td>0</td></tr>\n",
       "\t<tr><th scope=row>GSE200218_MBM01_AAACCTGCAATCGGTT-1</th><td>GSE200218</td><td>29993</td><td>5932</td><td>metastasis</td><td>melanoma brain mets</td><td>MBM01</td><td>GSE200218_MBM01</td><td>3.270763</td><td>2</td><td>2</td></tr>\n",
       "\t<tr><th scope=row>GSE200218_MBM01_AAACCTGGTACTTGAC-1</th><td>GSE200218</td><td>21267</td><td>5177</td><td>metastasis</td><td>melanoma brain mets</td><td>MBM01</td><td>GSE200218_MBM01</td><td>3.282080</td><td>7</td><td>7</td></tr>\n",
       "\t<tr><th scope=row>GSE200218_MBM01_AAACCTGGTTAAGATG-1</th><td>GSE200218</td><td>25744</td><td>5563</td><td>metastasis</td><td>melanoma brain mets</td><td>MBM01</td><td>GSE200218_MBM01</td><td>3.899938</td><td>0</td><td>0</td></tr>\n",
       "\t<tr><th scope=row>GSE200218_MBM01_AAACCTGTCACGGTTA-1</th><td>GSE200218</td><td>14369</td><td>3779</td><td>metastasis</td><td>melanoma brain mets</td><td>MBM01</td><td>GSE200218_MBM01</td><td>3.257012</td><td>0</td><td>0</td></tr>\n",
       "\t<tr><th scope=row>GSE200218_MBM01_AAACCTGTCCGCATCT-1</th><td>GSE200218</td><td> 3921</td><td>2039</td><td>metastasis</td><td>melanoma brain mets</td><td>MBM01</td><td>GSE200218_MBM01</td><td>4.412140</td><td>0</td><td>0</td></tr>\n",
       "</tbody>\n",
       "</table>\n"
      ],
      "text/latex": [
       "A data.frame: 6 × 10\n",
       "\\begin{tabular}{r|llllllllll}\n",
       "  & orig.ident & nCount\\_RNA & nFeature\\_RNA & sample\\_type & cancer\\_type & patient\\_id & sample\\_id & percent.mt & RNA\\_snn\\_res.0.2 & seurat\\_clusters\\\\\n",
       "  & <chr> & <dbl> & <int> & <chr> & <chr> & <chr> & <chr> & <dbl> & <fct> & <fct>\\\\\n",
       "\\hline\n",
       "\tGSE200218\\_MBM01\\_AAACCTGAGCTGCAAG-1 & GSE200218 & 15791 & 4063 & metastasis & melanoma brain mets & MBM01 & GSE200218\\_MBM01 & 4.439238 & 0 & 0\\\\\n",
       "\tGSE200218\\_MBM01\\_AAACCTGCAATCGGTT-1 & GSE200218 & 29993 & 5932 & metastasis & melanoma brain mets & MBM01 & GSE200218\\_MBM01 & 3.270763 & 2 & 2\\\\\n",
       "\tGSE200218\\_MBM01\\_AAACCTGGTACTTGAC-1 & GSE200218 & 21267 & 5177 & metastasis & melanoma brain mets & MBM01 & GSE200218\\_MBM01 & 3.282080 & 7 & 7\\\\\n",
       "\tGSE200218\\_MBM01\\_AAACCTGGTTAAGATG-1 & GSE200218 & 25744 & 5563 & metastasis & melanoma brain mets & MBM01 & GSE200218\\_MBM01 & 3.899938 & 0 & 0\\\\\n",
       "\tGSE200218\\_MBM01\\_AAACCTGTCACGGTTA-1 & GSE200218 & 14369 & 3779 & metastasis & melanoma brain mets & MBM01 & GSE200218\\_MBM01 & 3.257012 & 0 & 0\\\\\n",
       "\tGSE200218\\_MBM01\\_AAACCTGTCCGCATCT-1 & GSE200218 &  3921 & 2039 & metastasis & melanoma brain mets & MBM01 & GSE200218\\_MBM01 & 4.412140 & 0 & 0\\\\\n",
       "\\end{tabular}\n"
      ],
      "text/markdown": [
       "\n",
       "A data.frame: 6 × 10\n",
       "\n",
       "| <!--/--> | orig.ident &lt;chr&gt; | nCount_RNA &lt;dbl&gt; | nFeature_RNA &lt;int&gt; | sample_type &lt;chr&gt; | cancer_type &lt;chr&gt; | patient_id &lt;chr&gt; | sample_id &lt;chr&gt; | percent.mt &lt;dbl&gt; | RNA_snn_res.0.2 &lt;fct&gt; | seurat_clusters &lt;fct&gt; |\n",
       "|---|---|---|---|---|---|---|---|---|---|---|\n",
       "| GSE200218_MBM01_AAACCTGAGCTGCAAG-1 | GSE200218 | 15791 | 4063 | metastasis | melanoma brain mets | MBM01 | GSE200218_MBM01 | 4.439238 | 0 | 0 |\n",
       "| GSE200218_MBM01_AAACCTGCAATCGGTT-1 | GSE200218 | 29993 | 5932 | metastasis | melanoma brain mets | MBM01 | GSE200218_MBM01 | 3.270763 | 2 | 2 |\n",
       "| GSE200218_MBM01_AAACCTGGTACTTGAC-1 | GSE200218 | 21267 | 5177 | metastasis | melanoma brain mets | MBM01 | GSE200218_MBM01 | 3.282080 | 7 | 7 |\n",
       "| GSE200218_MBM01_AAACCTGGTTAAGATG-1 | GSE200218 | 25744 | 5563 | metastasis | melanoma brain mets | MBM01 | GSE200218_MBM01 | 3.899938 | 0 | 0 |\n",
       "| GSE200218_MBM01_AAACCTGTCACGGTTA-1 | GSE200218 | 14369 | 3779 | metastasis | melanoma brain mets | MBM01 | GSE200218_MBM01 | 3.257012 | 0 | 0 |\n",
       "| GSE200218_MBM01_AAACCTGTCCGCATCT-1 | GSE200218 |  3921 | 2039 | metastasis | melanoma brain mets | MBM01 | GSE200218_MBM01 | 4.412140 | 0 | 0 |\n",
       "\n"
      ],
      "text/plain": [
       "                                   orig.ident nCount_RNA nFeature_RNA\n",
       "GSE200218_MBM01_AAACCTGAGCTGCAAG-1 GSE200218  15791      4063        \n",
       "GSE200218_MBM01_AAACCTGCAATCGGTT-1 GSE200218  29993      5932        \n",
       "GSE200218_MBM01_AAACCTGGTACTTGAC-1 GSE200218  21267      5177        \n",
       "GSE200218_MBM01_AAACCTGGTTAAGATG-1 GSE200218  25744      5563        \n",
       "GSE200218_MBM01_AAACCTGTCACGGTTA-1 GSE200218  14369      3779        \n",
       "GSE200218_MBM01_AAACCTGTCCGCATCT-1 GSE200218   3921      2039        \n",
       "                                   sample_type cancer_type         patient_id\n",
       "GSE200218_MBM01_AAACCTGAGCTGCAAG-1 metastasis  melanoma brain mets MBM01     \n",
       "GSE200218_MBM01_AAACCTGCAATCGGTT-1 metastasis  melanoma brain mets MBM01     \n",
       "GSE200218_MBM01_AAACCTGGTACTTGAC-1 metastasis  melanoma brain mets MBM01     \n",
       "GSE200218_MBM01_AAACCTGGTTAAGATG-1 metastasis  melanoma brain mets MBM01     \n",
       "GSE200218_MBM01_AAACCTGTCACGGTTA-1 metastasis  melanoma brain mets MBM01     \n",
       "GSE200218_MBM01_AAACCTGTCCGCATCT-1 metastasis  melanoma brain mets MBM01     \n",
       "                                   sample_id       percent.mt RNA_snn_res.0.2\n",
       "GSE200218_MBM01_AAACCTGAGCTGCAAG-1 GSE200218_MBM01 4.439238   0              \n",
       "GSE200218_MBM01_AAACCTGCAATCGGTT-1 GSE200218_MBM01 3.270763   2              \n",
       "GSE200218_MBM01_AAACCTGGTACTTGAC-1 GSE200218_MBM01 3.282080   7              \n",
       "GSE200218_MBM01_AAACCTGGTTAAGATG-1 GSE200218_MBM01 3.899938   0              \n",
       "GSE200218_MBM01_AAACCTGTCACGGTTA-1 GSE200218_MBM01 3.257012   0              \n",
       "GSE200218_MBM01_AAACCTGTCCGCATCT-1 GSE200218_MBM01 4.412140   0              \n",
       "                                   seurat_clusters\n",
       "GSE200218_MBM01_AAACCTGAGCTGCAAG-1 0              \n",
       "GSE200218_MBM01_AAACCTGCAATCGGTT-1 2              \n",
       "GSE200218_MBM01_AAACCTGGTACTTGAC-1 7              \n",
       "GSE200218_MBM01_AAACCTGGTTAAGATG-1 0              \n",
       "GSE200218_MBM01_AAACCTGTCACGGTTA-1 0              \n",
       "GSE200218_MBM01_AAACCTGTCCGCATCT-1 0              "
      ]
     },
     "metadata": {},
     "output_type": "display_data"
    }
   ],
   "source": [
    "MEL\n",
    "MEL@project.name\n",
    "head(MEL@meta.data)"
   ]
  },
  {
   "cell_type": "code",
   "execution_count": 125,
   "metadata": {
    "vscode": {
     "languageId": "r"
    }
   },
   "outputs": [
    {
     "data": {
      "text/plain": [
       "\n",
       "metastasis \n",
       "     10371 "
      ]
     },
     "metadata": {},
     "output_type": "display_data"
    },
    {
     "data": {
      "text/plain": [
       "\n",
       "melanoma brain mets \n",
       "              10371 "
      ]
     },
     "metadata": {},
     "output_type": "display_data"
    },
    {
     "data": {
      "text/plain": [
       "\n",
       "MBM01 MBM02 MBM03 MBM04 MBM05 \n",
       " 1411  2035  1945  3143  1837 "
      ]
     },
     "metadata": {},
     "output_type": "display_data"
    },
    {
     "data": {
      "text/plain": [
       "\n",
       "GSE200218_MBM01 GSE200218_MBM02 GSE200218_MBM03 GSE200218_MBM04 GSE200218_MBM05 \n",
       "           1411            2035            1945            3143            1837 "
      ]
     },
     "metadata": {},
     "output_type": "display_data"
    }
   ],
   "source": [
    "table(MEL$sample_type)\n",
    "table(MEL$cancer_type)\n",
    "table(MEL$patient_id)\n",
    "table(MEL$sample_id)"
   ]
  },
  {
   "cell_type": "code",
   "execution_count": 126,
   "metadata": {
    "vscode": {
     "languageId": "r"
    }
   },
   "outputs": [],
   "source": [
    "#set site and sample_type_major metadata\n",
    "MEL@meta.data$site <- \"brain\"\n",
    "MEL@meta.data$sample_type_major <- \"metastatic tumour\""
   ]
  },
  {
   "cell_type": "code",
   "execution_count": 127,
   "metadata": {
    "vscode": {
     "languageId": "r"
    }
   },
   "outputs": [],
   "source": [
    "#set subtype metadata\n",
    "MEL@meta.data$cancer_subtype <- \"Melanoma\""
   ]
  },
  {
   "cell_type": "code",
   "execution_count": 128,
   "metadata": {
    "vscode": {
     "languageId": "r"
    }
   },
   "outputs": [],
   "source": [
    "#set integration_id metadata\n",
    "MEL@meta.data$integration_id <- MEL@meta.data$sample_id"
   ]
  },
  {
   "cell_type": "code",
   "execution_count": 129,
   "metadata": {
    "vscode": {
     "languageId": "r"
    }
   },
   "outputs": [
    {
     "data": {
      "text/plain": [
       "An object of class Seurat \n",
       "36601 features across 10371 samples within 1 assay \n",
       "Active assay: RNA (36601 features, 2000 variable features)\n",
       " 11 layers present: counts.1, counts.2, counts.3, counts.4, counts.5, data.1, data.2, data.3, data.4, data.5, scale.data\n",
       " 2 dimensional reductions calculated: pca, umap"
      ]
     },
     "metadata": {},
     "output_type": "display_data"
    },
    {
     "data": {
      "text/html": [
       "'GSE200218'"
      ],
      "text/latex": [
       "'GSE200218'"
      ],
      "text/markdown": [
       "'GSE200218'"
      ],
      "text/plain": [
       "[1] \"GSE200218\""
      ]
     },
     "metadata": {},
     "output_type": "display_data"
    },
    {
     "data": {
      "text/html": [
       "<table class=\"dataframe\">\n",
       "<caption>A data.frame: 6 × 14</caption>\n",
       "<thead>\n",
       "\t<tr><th></th><th scope=col>orig.ident</th><th scope=col>nCount_RNA</th><th scope=col>nFeature_RNA</th><th scope=col>sample_type</th><th scope=col>cancer_type</th><th scope=col>patient_id</th><th scope=col>sample_id</th><th scope=col>percent.mt</th><th scope=col>RNA_snn_res.0.2</th><th scope=col>seurat_clusters</th><th scope=col>site</th><th scope=col>sample_type_major</th><th scope=col>cancer_subtype</th><th scope=col>integration_id</th></tr>\n",
       "\t<tr><th></th><th scope=col>&lt;chr&gt;</th><th scope=col>&lt;dbl&gt;</th><th scope=col>&lt;int&gt;</th><th scope=col>&lt;chr&gt;</th><th scope=col>&lt;chr&gt;</th><th scope=col>&lt;chr&gt;</th><th scope=col>&lt;chr&gt;</th><th scope=col>&lt;dbl&gt;</th><th scope=col>&lt;fct&gt;</th><th scope=col>&lt;fct&gt;</th><th scope=col>&lt;chr&gt;</th><th scope=col>&lt;chr&gt;</th><th scope=col>&lt;chr&gt;</th><th scope=col>&lt;chr&gt;</th></tr>\n",
       "</thead>\n",
       "<tbody>\n",
       "\t<tr><th scope=row>GSE200218_MBM01_AAACCTGAGCTGCAAG-1</th><td>GSE200218</td><td>15791</td><td>4063</td><td>metastasis</td><td>melanoma brain mets</td><td>MBM01</td><td>GSE200218_MBM01</td><td>4.439238</td><td>0</td><td>0</td><td>brain</td><td>metastatic tumour</td><td>Melanoma</td><td>GSE200218_MBM01</td></tr>\n",
       "\t<tr><th scope=row>GSE200218_MBM01_AAACCTGCAATCGGTT-1</th><td>GSE200218</td><td>29993</td><td>5932</td><td>metastasis</td><td>melanoma brain mets</td><td>MBM01</td><td>GSE200218_MBM01</td><td>3.270763</td><td>2</td><td>2</td><td>brain</td><td>metastatic tumour</td><td>Melanoma</td><td>GSE200218_MBM01</td></tr>\n",
       "\t<tr><th scope=row>GSE200218_MBM01_AAACCTGGTACTTGAC-1</th><td>GSE200218</td><td>21267</td><td>5177</td><td>metastasis</td><td>melanoma brain mets</td><td>MBM01</td><td>GSE200218_MBM01</td><td>3.282080</td><td>7</td><td>7</td><td>brain</td><td>metastatic tumour</td><td>Melanoma</td><td>GSE200218_MBM01</td></tr>\n",
       "\t<tr><th scope=row>GSE200218_MBM01_AAACCTGGTTAAGATG-1</th><td>GSE200218</td><td>25744</td><td>5563</td><td>metastasis</td><td>melanoma brain mets</td><td>MBM01</td><td>GSE200218_MBM01</td><td>3.899938</td><td>0</td><td>0</td><td>brain</td><td>metastatic tumour</td><td>Melanoma</td><td>GSE200218_MBM01</td></tr>\n",
       "\t<tr><th scope=row>GSE200218_MBM01_AAACCTGTCACGGTTA-1</th><td>GSE200218</td><td>14369</td><td>3779</td><td>metastasis</td><td>melanoma brain mets</td><td>MBM01</td><td>GSE200218_MBM01</td><td>3.257012</td><td>0</td><td>0</td><td>brain</td><td>metastatic tumour</td><td>Melanoma</td><td>GSE200218_MBM01</td></tr>\n",
       "\t<tr><th scope=row>GSE200218_MBM01_AAACCTGTCCGCATCT-1</th><td>GSE200218</td><td> 3921</td><td>2039</td><td>metastasis</td><td>melanoma brain mets</td><td>MBM01</td><td>GSE200218_MBM01</td><td>4.412140</td><td>0</td><td>0</td><td>brain</td><td>metastatic tumour</td><td>Melanoma</td><td>GSE200218_MBM01</td></tr>\n",
       "</tbody>\n",
       "</table>\n"
      ],
      "text/latex": [
       "A data.frame: 6 × 14\n",
       "\\begin{tabular}{r|llllllllllllll}\n",
       "  & orig.ident & nCount\\_RNA & nFeature\\_RNA & sample\\_type & cancer\\_type & patient\\_id & sample\\_id & percent.mt & RNA\\_snn\\_res.0.2 & seurat\\_clusters & site & sample\\_type\\_major & cancer\\_subtype & integration\\_id\\\\\n",
       "  & <chr> & <dbl> & <int> & <chr> & <chr> & <chr> & <chr> & <dbl> & <fct> & <fct> & <chr> & <chr> & <chr> & <chr>\\\\\n",
       "\\hline\n",
       "\tGSE200218\\_MBM01\\_AAACCTGAGCTGCAAG-1 & GSE200218 & 15791 & 4063 & metastasis & melanoma brain mets & MBM01 & GSE200218\\_MBM01 & 4.439238 & 0 & 0 & brain & metastatic tumour & Melanoma & GSE200218\\_MBM01\\\\\n",
       "\tGSE200218\\_MBM01\\_AAACCTGCAATCGGTT-1 & GSE200218 & 29993 & 5932 & metastasis & melanoma brain mets & MBM01 & GSE200218\\_MBM01 & 3.270763 & 2 & 2 & brain & metastatic tumour & Melanoma & GSE200218\\_MBM01\\\\\n",
       "\tGSE200218\\_MBM01\\_AAACCTGGTACTTGAC-1 & GSE200218 & 21267 & 5177 & metastasis & melanoma brain mets & MBM01 & GSE200218\\_MBM01 & 3.282080 & 7 & 7 & brain & metastatic tumour & Melanoma & GSE200218\\_MBM01\\\\\n",
       "\tGSE200218\\_MBM01\\_AAACCTGGTTAAGATG-1 & GSE200218 & 25744 & 5563 & metastasis & melanoma brain mets & MBM01 & GSE200218\\_MBM01 & 3.899938 & 0 & 0 & brain & metastatic tumour & Melanoma & GSE200218\\_MBM01\\\\\n",
       "\tGSE200218\\_MBM01\\_AAACCTGTCACGGTTA-1 & GSE200218 & 14369 & 3779 & metastasis & melanoma brain mets & MBM01 & GSE200218\\_MBM01 & 3.257012 & 0 & 0 & brain & metastatic tumour & Melanoma & GSE200218\\_MBM01\\\\\n",
       "\tGSE200218\\_MBM01\\_AAACCTGTCCGCATCT-1 & GSE200218 &  3921 & 2039 & metastasis & melanoma brain mets & MBM01 & GSE200218\\_MBM01 & 4.412140 & 0 & 0 & brain & metastatic tumour & Melanoma & GSE200218\\_MBM01\\\\\n",
       "\\end{tabular}\n"
      ],
      "text/markdown": [
       "\n",
       "A data.frame: 6 × 14\n",
       "\n",
       "| <!--/--> | orig.ident &lt;chr&gt; | nCount_RNA &lt;dbl&gt; | nFeature_RNA &lt;int&gt; | sample_type &lt;chr&gt; | cancer_type &lt;chr&gt; | patient_id &lt;chr&gt; | sample_id &lt;chr&gt; | percent.mt &lt;dbl&gt; | RNA_snn_res.0.2 &lt;fct&gt; | seurat_clusters &lt;fct&gt; | site &lt;chr&gt; | sample_type_major &lt;chr&gt; | cancer_subtype &lt;chr&gt; | integration_id &lt;chr&gt; |\n",
       "|---|---|---|---|---|---|---|---|---|---|---|---|---|---|---|\n",
       "| GSE200218_MBM01_AAACCTGAGCTGCAAG-1 | GSE200218 | 15791 | 4063 | metastasis | melanoma brain mets | MBM01 | GSE200218_MBM01 | 4.439238 | 0 | 0 | brain | metastatic tumour | Melanoma | GSE200218_MBM01 |\n",
       "| GSE200218_MBM01_AAACCTGCAATCGGTT-1 | GSE200218 | 29993 | 5932 | metastasis | melanoma brain mets | MBM01 | GSE200218_MBM01 | 3.270763 | 2 | 2 | brain | metastatic tumour | Melanoma | GSE200218_MBM01 |\n",
       "| GSE200218_MBM01_AAACCTGGTACTTGAC-1 | GSE200218 | 21267 | 5177 | metastasis | melanoma brain mets | MBM01 | GSE200218_MBM01 | 3.282080 | 7 | 7 | brain | metastatic tumour | Melanoma | GSE200218_MBM01 |\n",
       "| GSE200218_MBM01_AAACCTGGTTAAGATG-1 | GSE200218 | 25744 | 5563 | metastasis | melanoma brain mets | MBM01 | GSE200218_MBM01 | 3.899938 | 0 | 0 | brain | metastatic tumour | Melanoma | GSE200218_MBM01 |\n",
       "| GSE200218_MBM01_AAACCTGTCACGGTTA-1 | GSE200218 | 14369 | 3779 | metastasis | melanoma brain mets | MBM01 | GSE200218_MBM01 | 3.257012 | 0 | 0 | brain | metastatic tumour | Melanoma | GSE200218_MBM01 |\n",
       "| GSE200218_MBM01_AAACCTGTCCGCATCT-1 | GSE200218 |  3921 | 2039 | metastasis | melanoma brain mets | MBM01 | GSE200218_MBM01 | 4.412140 | 0 | 0 | brain | metastatic tumour | Melanoma | GSE200218_MBM01 |\n",
       "\n"
      ],
      "text/plain": [
       "                                   orig.ident nCount_RNA nFeature_RNA\n",
       "GSE200218_MBM01_AAACCTGAGCTGCAAG-1 GSE200218  15791      4063        \n",
       "GSE200218_MBM01_AAACCTGCAATCGGTT-1 GSE200218  29993      5932        \n",
       "GSE200218_MBM01_AAACCTGGTACTTGAC-1 GSE200218  21267      5177        \n",
       "GSE200218_MBM01_AAACCTGGTTAAGATG-1 GSE200218  25744      5563        \n",
       "GSE200218_MBM01_AAACCTGTCACGGTTA-1 GSE200218  14369      3779        \n",
       "GSE200218_MBM01_AAACCTGTCCGCATCT-1 GSE200218   3921      2039        \n",
       "                                   sample_type cancer_type         patient_id\n",
       "GSE200218_MBM01_AAACCTGAGCTGCAAG-1 metastasis  melanoma brain mets MBM01     \n",
       "GSE200218_MBM01_AAACCTGCAATCGGTT-1 metastasis  melanoma brain mets MBM01     \n",
       "GSE200218_MBM01_AAACCTGGTACTTGAC-1 metastasis  melanoma brain mets MBM01     \n",
       "GSE200218_MBM01_AAACCTGGTTAAGATG-1 metastasis  melanoma brain mets MBM01     \n",
       "GSE200218_MBM01_AAACCTGTCACGGTTA-1 metastasis  melanoma brain mets MBM01     \n",
       "GSE200218_MBM01_AAACCTGTCCGCATCT-1 metastasis  melanoma brain mets MBM01     \n",
       "                                   sample_id       percent.mt RNA_snn_res.0.2\n",
       "GSE200218_MBM01_AAACCTGAGCTGCAAG-1 GSE200218_MBM01 4.439238   0              \n",
       "GSE200218_MBM01_AAACCTGCAATCGGTT-1 GSE200218_MBM01 3.270763   2              \n",
       "GSE200218_MBM01_AAACCTGGTACTTGAC-1 GSE200218_MBM01 3.282080   7              \n",
       "GSE200218_MBM01_AAACCTGGTTAAGATG-1 GSE200218_MBM01 3.899938   0              \n",
       "GSE200218_MBM01_AAACCTGTCACGGTTA-1 GSE200218_MBM01 3.257012   0              \n",
       "GSE200218_MBM01_AAACCTGTCCGCATCT-1 GSE200218_MBM01 4.412140   0              \n",
       "                                   seurat_clusters site  sample_type_major\n",
       "GSE200218_MBM01_AAACCTGAGCTGCAAG-1 0               brain metastatic tumour\n",
       "GSE200218_MBM01_AAACCTGCAATCGGTT-1 2               brain metastatic tumour\n",
       "GSE200218_MBM01_AAACCTGGTACTTGAC-1 7               brain metastatic tumour\n",
       "GSE200218_MBM01_AAACCTGGTTAAGATG-1 0               brain metastatic tumour\n",
       "GSE200218_MBM01_AAACCTGTCACGGTTA-1 0               brain metastatic tumour\n",
       "GSE200218_MBM01_AAACCTGTCCGCATCT-1 0               brain metastatic tumour\n",
       "                                   cancer_subtype integration_id \n",
       "GSE200218_MBM01_AAACCTGAGCTGCAAG-1 Melanoma       GSE200218_MBM01\n",
       "GSE200218_MBM01_AAACCTGCAATCGGTT-1 Melanoma       GSE200218_MBM01\n",
       "GSE200218_MBM01_AAACCTGGTACTTGAC-1 Melanoma       GSE200218_MBM01\n",
       "GSE200218_MBM01_AAACCTGGTTAAGATG-1 Melanoma       GSE200218_MBM01\n",
       "GSE200218_MBM01_AAACCTGTCACGGTTA-1 Melanoma       GSE200218_MBM01\n",
       "GSE200218_MBM01_AAACCTGTCCGCATCT-1 Melanoma       GSE200218_MBM01"
      ]
     },
     "metadata": {},
     "output_type": "display_data"
    }
   ],
   "source": [
    "MEL\n",
    "MEL@project.name\n",
    "head(MEL@meta.data)"
   ]
  },
  {
   "cell_type": "code",
   "execution_count": 130,
   "metadata": {
    "vscode": {
     "languageId": "r"
    }
   },
   "outputs": [
    {
     "data": {
      "text/plain": [
       "\n",
       "GSE200218_MBM01 GSE200218_MBM02 GSE200218_MBM03 GSE200218_MBM04 GSE200218_MBM05 \n",
       "           1411            2035            1945            3143            1837 "
      ]
     },
     "metadata": {},
     "output_type": "display_data"
    }
   ],
   "source": [
    "#exclude any samples with <100 cells\n",
    "table(MEL$integration_id)\n",
    "#none to exclude"
   ]
  },
  {
   "cell_type": "code",
   "execution_count": 131,
   "metadata": {
    "vscode": {
     "languageId": "r"
    }
   },
   "outputs": [
    {
     "data": {
      "text/html": [
       "<style>\n",
       ".list-inline {list-style: none; margin:0; padding: 0}\n",
       ".list-inline>li {display: inline-block}\n",
       ".list-inline>li:not(:last-child)::after {content: \"\\00b7\"; padding: 0 .5ex}\n",
       "</style>\n",
       "<ol class=list-inline><li>'counts.1'</li><li>'counts.2'</li><li>'counts.3'</li><li>'counts.4'</li><li>'counts.5'</li><li>'data.1'</li><li>'data.2'</li><li>'data.3'</li><li>'data.4'</li><li>'data.5'</li><li>'scale.data'</li></ol>\n"
      ],
      "text/latex": [
       "\\begin{enumerate*}\n",
       "\\item 'counts.1'\n",
       "\\item 'counts.2'\n",
       "\\item 'counts.3'\n",
       "\\item 'counts.4'\n",
       "\\item 'counts.5'\n",
       "\\item 'data.1'\n",
       "\\item 'data.2'\n",
       "\\item 'data.3'\n",
       "\\item 'data.4'\n",
       "\\item 'data.5'\n",
       "\\item 'scale.data'\n",
       "\\end{enumerate*}\n"
      ],
      "text/markdown": [
       "1. 'counts.1'\n",
       "2. 'counts.2'\n",
       "3. 'counts.3'\n",
       "4. 'counts.4'\n",
       "5. 'counts.5'\n",
       "6. 'data.1'\n",
       "7. 'data.2'\n",
       "8. 'data.3'\n",
       "9. 'data.4'\n",
       "10. 'data.5'\n",
       "11. 'scale.data'\n",
       "\n",
       "\n"
      ],
      "text/plain": [
       " [1] \"counts.1\"   \"counts.2\"   \"counts.3\"   \"counts.4\"   \"counts.5\"  \n",
       " [6] \"data.1\"     \"data.2\"     \"data.3\"     \"data.4\"     \"data.5\"    \n",
       "[11] \"scale.data\""
      ]
     },
     "metadata": {},
     "output_type": "display_data"
    },
    {
     "data": {
      "text/html": [
       "<style>\n",
       ".list-inline {list-style: none; margin:0; padding: 0}\n",
       ".list-inline>li {display: inline-block}\n",
       ".list-inline>li:not(:last-child)::after {content: \"\\00b7\"; padding: 0 .5ex}\n",
       "</style>\n",
       "<ol class=list-inline><li>'data'</li><li>'counts'</li><li>'scale.data'</li></ol>\n"
      ],
      "text/latex": [
       "\\begin{enumerate*}\n",
       "\\item 'data'\n",
       "\\item 'counts'\n",
       "\\item 'scale.data'\n",
       "\\end{enumerate*}\n"
      ],
      "text/markdown": [
       "1. 'data'\n",
       "2. 'counts'\n",
       "3. 'scale.data'\n",
       "\n",
       "\n"
      ],
      "text/plain": [
       "[1] \"data\"       \"counts\"     \"scale.data\""
      ]
     },
     "metadata": {},
     "output_type": "display_data"
    },
    {
     "name": "stderr",
     "output_type": "stream",
     "text": [
      "Splitting ‘counts’, ‘data’ layers. Not splitting ‘scale.data’. If you would like to split other layers, set in `layers` argument.\n",
      "\n"
     ]
    },
    {
     "data": {
      "text/html": [
       "<style>\n",
       ".list-inline {list-style: none; margin:0; padding: 0}\n",
       ".list-inline>li {display: inline-block}\n",
       ".list-inline>li:not(:last-child)::after {content: \"\\00b7\"; padding: 0 .5ex}\n",
       "</style>\n",
       "<ol class=list-inline><li>'data.GSE200218_MBM01'</li><li>'data.GSE200218_MBM02'</li><li>'data.GSE200218_MBM03'</li><li>'data.GSE200218_MBM04'</li><li>'data.GSE200218_MBM05'</li><li>'scale.data'</li><li>'counts.GSE200218_MBM01'</li><li>'counts.GSE200218_MBM02'</li><li>'counts.GSE200218_MBM03'</li><li>'counts.GSE200218_MBM04'</li><li>'counts.GSE200218_MBM05'</li></ol>\n"
      ],
      "text/latex": [
       "\\begin{enumerate*}\n",
       "\\item 'data.GSE200218\\_MBM01'\n",
       "\\item 'data.GSE200218\\_MBM02'\n",
       "\\item 'data.GSE200218\\_MBM03'\n",
       "\\item 'data.GSE200218\\_MBM04'\n",
       "\\item 'data.GSE200218\\_MBM05'\n",
       "\\item 'scale.data'\n",
       "\\item 'counts.GSE200218\\_MBM01'\n",
       "\\item 'counts.GSE200218\\_MBM02'\n",
       "\\item 'counts.GSE200218\\_MBM03'\n",
       "\\item 'counts.GSE200218\\_MBM04'\n",
       "\\item 'counts.GSE200218\\_MBM05'\n",
       "\\end{enumerate*}\n"
      ],
      "text/markdown": [
       "1. 'data.GSE200218_MBM01'\n",
       "2. 'data.GSE200218_MBM02'\n",
       "3. 'data.GSE200218_MBM03'\n",
       "4. 'data.GSE200218_MBM04'\n",
       "5. 'data.GSE200218_MBM05'\n",
       "6. 'scale.data'\n",
       "7. 'counts.GSE200218_MBM01'\n",
       "8. 'counts.GSE200218_MBM02'\n",
       "9. 'counts.GSE200218_MBM03'\n",
       "10. 'counts.GSE200218_MBM04'\n",
       "11. 'counts.GSE200218_MBM05'\n",
       "\n",
       "\n"
      ],
      "text/plain": [
       " [1] \"data.GSE200218_MBM01\"   \"data.GSE200218_MBM02\"   \"data.GSE200218_MBM03\"  \n",
       " [4] \"data.GSE200218_MBM04\"   \"data.GSE200218_MBM05\"   \"scale.data\"            \n",
       " [7] \"counts.GSE200218_MBM01\" \"counts.GSE200218_MBM02\" \"counts.GSE200218_MBM03\"\n",
       "[10] \"counts.GSE200218_MBM04\" \"counts.GSE200218_MBM05\""
      ]
     },
     "metadata": {},
     "output_type": "display_data"
    }
   ],
   "source": [
    "#join layers and then split them by integration_id\n",
    "Layers(MEL[[\"RNA\"]])\n",
    "#join layers\n",
    "MEL[[\"RNA\"]] <- JoinLayers(MEL[[\"RNA\"]])\n",
    "Layers(MEL[[\"RNA\"]])\n",
    "#split layers\n",
    "MEL[[\"RNA\"]] <- split(MEL[[\"RNA\"]], f = MEL$integration_id)\n",
    "Layers(MEL[[\"RNA\"]])\n"
   ]
  },
  {
   "cell_type": "code",
   "execution_count": 132,
   "metadata": {
    "vscode": {
     "languageId": "r"
    }
   },
   "outputs": [
    {
     "data": {
      "text/plain": [
       "An object of class Seurat \n",
       "36601 features across 10371 samples within 1 assay \n",
       "Active assay: RNA (36601 features, 2000 variable features)\n",
       " 11 layers present: data.GSE200218_MBM01, data.GSE200218_MBM02, data.GSE200218_MBM03, data.GSE200218_MBM04, data.GSE200218_MBM05, scale.data, counts.GSE200218_MBM01, counts.GSE200218_MBM02, counts.GSE200218_MBM03, counts.GSE200218_MBM04, counts.GSE200218_MBM05\n",
       " 2 dimensional reductions calculated: pca, umap"
      ]
     },
     "metadata": {},
     "output_type": "display_data"
    },
    {
     "data": {
      "text/html": [
       "'GSE200218'"
      ],
      "text/latex": [
       "'GSE200218'"
      ],
      "text/markdown": [
       "'GSE200218'"
      ],
      "text/plain": [
       "[1] \"GSE200218\""
      ]
     },
     "metadata": {},
     "output_type": "display_data"
    },
    {
     "data": {
      "text/html": [
       "<table class=\"dataframe\">\n",
       "<caption>A data.frame: 6 × 14</caption>\n",
       "<thead>\n",
       "\t<tr><th></th><th scope=col>orig.ident</th><th scope=col>nCount_RNA</th><th scope=col>nFeature_RNA</th><th scope=col>sample_type</th><th scope=col>cancer_type</th><th scope=col>patient_id</th><th scope=col>sample_id</th><th scope=col>percent.mt</th><th scope=col>RNA_snn_res.0.2</th><th scope=col>seurat_clusters</th><th scope=col>site</th><th scope=col>sample_type_major</th><th scope=col>cancer_subtype</th><th scope=col>integration_id</th></tr>\n",
       "\t<tr><th></th><th scope=col>&lt;chr&gt;</th><th scope=col>&lt;dbl&gt;</th><th scope=col>&lt;int&gt;</th><th scope=col>&lt;chr&gt;</th><th scope=col>&lt;chr&gt;</th><th scope=col>&lt;chr&gt;</th><th scope=col>&lt;chr&gt;</th><th scope=col>&lt;dbl&gt;</th><th scope=col>&lt;fct&gt;</th><th scope=col>&lt;fct&gt;</th><th scope=col>&lt;chr&gt;</th><th scope=col>&lt;chr&gt;</th><th scope=col>&lt;chr&gt;</th><th scope=col>&lt;chr&gt;</th></tr>\n",
       "</thead>\n",
       "<tbody>\n",
       "\t<tr><th scope=row>GSE200218_MBM01_AAACCTGAGCTGCAAG-1</th><td>GSE200218</td><td>15791</td><td>4063</td><td>metastasis</td><td>melanoma brain mets</td><td>MBM01</td><td>GSE200218_MBM01</td><td>4.439238</td><td>0</td><td>0</td><td>brain</td><td>metastatic tumour</td><td>Melanoma</td><td>GSE200218_MBM01</td></tr>\n",
       "\t<tr><th scope=row>GSE200218_MBM01_AAACCTGCAATCGGTT-1</th><td>GSE200218</td><td>29993</td><td>5932</td><td>metastasis</td><td>melanoma brain mets</td><td>MBM01</td><td>GSE200218_MBM01</td><td>3.270763</td><td>2</td><td>2</td><td>brain</td><td>metastatic tumour</td><td>Melanoma</td><td>GSE200218_MBM01</td></tr>\n",
       "\t<tr><th scope=row>GSE200218_MBM01_AAACCTGGTACTTGAC-1</th><td>GSE200218</td><td>21267</td><td>5177</td><td>metastasis</td><td>melanoma brain mets</td><td>MBM01</td><td>GSE200218_MBM01</td><td>3.282080</td><td>7</td><td>7</td><td>brain</td><td>metastatic tumour</td><td>Melanoma</td><td>GSE200218_MBM01</td></tr>\n",
       "\t<tr><th scope=row>GSE200218_MBM01_AAACCTGGTTAAGATG-1</th><td>GSE200218</td><td>25744</td><td>5563</td><td>metastasis</td><td>melanoma brain mets</td><td>MBM01</td><td>GSE200218_MBM01</td><td>3.899938</td><td>0</td><td>0</td><td>brain</td><td>metastatic tumour</td><td>Melanoma</td><td>GSE200218_MBM01</td></tr>\n",
       "\t<tr><th scope=row>GSE200218_MBM01_AAACCTGTCACGGTTA-1</th><td>GSE200218</td><td>14369</td><td>3779</td><td>metastasis</td><td>melanoma brain mets</td><td>MBM01</td><td>GSE200218_MBM01</td><td>3.257012</td><td>0</td><td>0</td><td>brain</td><td>metastatic tumour</td><td>Melanoma</td><td>GSE200218_MBM01</td></tr>\n",
       "\t<tr><th scope=row>GSE200218_MBM01_AAACCTGTCCGCATCT-1</th><td>GSE200218</td><td> 3921</td><td>2039</td><td>metastasis</td><td>melanoma brain mets</td><td>MBM01</td><td>GSE200218_MBM01</td><td>4.412140</td><td>0</td><td>0</td><td>brain</td><td>metastatic tumour</td><td>Melanoma</td><td>GSE200218_MBM01</td></tr>\n",
       "</tbody>\n",
       "</table>\n"
      ],
      "text/latex": [
       "A data.frame: 6 × 14\n",
       "\\begin{tabular}{r|llllllllllllll}\n",
       "  & orig.ident & nCount\\_RNA & nFeature\\_RNA & sample\\_type & cancer\\_type & patient\\_id & sample\\_id & percent.mt & RNA\\_snn\\_res.0.2 & seurat\\_clusters & site & sample\\_type\\_major & cancer\\_subtype & integration\\_id\\\\\n",
       "  & <chr> & <dbl> & <int> & <chr> & <chr> & <chr> & <chr> & <dbl> & <fct> & <fct> & <chr> & <chr> & <chr> & <chr>\\\\\n",
       "\\hline\n",
       "\tGSE200218\\_MBM01\\_AAACCTGAGCTGCAAG-1 & GSE200218 & 15791 & 4063 & metastasis & melanoma brain mets & MBM01 & GSE200218\\_MBM01 & 4.439238 & 0 & 0 & brain & metastatic tumour & Melanoma & GSE200218\\_MBM01\\\\\n",
       "\tGSE200218\\_MBM01\\_AAACCTGCAATCGGTT-1 & GSE200218 & 29993 & 5932 & metastasis & melanoma brain mets & MBM01 & GSE200218\\_MBM01 & 3.270763 & 2 & 2 & brain & metastatic tumour & Melanoma & GSE200218\\_MBM01\\\\\n",
       "\tGSE200218\\_MBM01\\_AAACCTGGTACTTGAC-1 & GSE200218 & 21267 & 5177 & metastasis & melanoma brain mets & MBM01 & GSE200218\\_MBM01 & 3.282080 & 7 & 7 & brain & metastatic tumour & Melanoma & GSE200218\\_MBM01\\\\\n",
       "\tGSE200218\\_MBM01\\_AAACCTGGTTAAGATG-1 & GSE200218 & 25744 & 5563 & metastasis & melanoma brain mets & MBM01 & GSE200218\\_MBM01 & 3.899938 & 0 & 0 & brain & metastatic tumour & Melanoma & GSE200218\\_MBM01\\\\\n",
       "\tGSE200218\\_MBM01\\_AAACCTGTCACGGTTA-1 & GSE200218 & 14369 & 3779 & metastasis & melanoma brain mets & MBM01 & GSE200218\\_MBM01 & 3.257012 & 0 & 0 & brain & metastatic tumour & Melanoma & GSE200218\\_MBM01\\\\\n",
       "\tGSE200218\\_MBM01\\_AAACCTGTCCGCATCT-1 & GSE200218 &  3921 & 2039 & metastasis & melanoma brain mets & MBM01 & GSE200218\\_MBM01 & 4.412140 & 0 & 0 & brain & metastatic tumour & Melanoma & GSE200218\\_MBM01\\\\\n",
       "\\end{tabular}\n"
      ],
      "text/markdown": [
       "\n",
       "A data.frame: 6 × 14\n",
       "\n",
       "| <!--/--> | orig.ident &lt;chr&gt; | nCount_RNA &lt;dbl&gt; | nFeature_RNA &lt;int&gt; | sample_type &lt;chr&gt; | cancer_type &lt;chr&gt; | patient_id &lt;chr&gt; | sample_id &lt;chr&gt; | percent.mt &lt;dbl&gt; | RNA_snn_res.0.2 &lt;fct&gt; | seurat_clusters &lt;fct&gt; | site &lt;chr&gt; | sample_type_major &lt;chr&gt; | cancer_subtype &lt;chr&gt; | integration_id &lt;chr&gt; |\n",
       "|---|---|---|---|---|---|---|---|---|---|---|---|---|---|---|\n",
       "| GSE200218_MBM01_AAACCTGAGCTGCAAG-1 | GSE200218 | 15791 | 4063 | metastasis | melanoma brain mets | MBM01 | GSE200218_MBM01 | 4.439238 | 0 | 0 | brain | metastatic tumour | Melanoma | GSE200218_MBM01 |\n",
       "| GSE200218_MBM01_AAACCTGCAATCGGTT-1 | GSE200218 | 29993 | 5932 | metastasis | melanoma brain mets | MBM01 | GSE200218_MBM01 | 3.270763 | 2 | 2 | brain | metastatic tumour | Melanoma | GSE200218_MBM01 |\n",
       "| GSE200218_MBM01_AAACCTGGTACTTGAC-1 | GSE200218 | 21267 | 5177 | metastasis | melanoma brain mets | MBM01 | GSE200218_MBM01 | 3.282080 | 7 | 7 | brain | metastatic tumour | Melanoma | GSE200218_MBM01 |\n",
       "| GSE200218_MBM01_AAACCTGGTTAAGATG-1 | GSE200218 | 25744 | 5563 | metastasis | melanoma brain mets | MBM01 | GSE200218_MBM01 | 3.899938 | 0 | 0 | brain | metastatic tumour | Melanoma | GSE200218_MBM01 |\n",
       "| GSE200218_MBM01_AAACCTGTCACGGTTA-1 | GSE200218 | 14369 | 3779 | metastasis | melanoma brain mets | MBM01 | GSE200218_MBM01 | 3.257012 | 0 | 0 | brain | metastatic tumour | Melanoma | GSE200218_MBM01 |\n",
       "| GSE200218_MBM01_AAACCTGTCCGCATCT-1 | GSE200218 |  3921 | 2039 | metastasis | melanoma brain mets | MBM01 | GSE200218_MBM01 | 4.412140 | 0 | 0 | brain | metastatic tumour | Melanoma | GSE200218_MBM01 |\n",
       "\n"
      ],
      "text/plain": [
       "                                   orig.ident nCount_RNA nFeature_RNA\n",
       "GSE200218_MBM01_AAACCTGAGCTGCAAG-1 GSE200218  15791      4063        \n",
       "GSE200218_MBM01_AAACCTGCAATCGGTT-1 GSE200218  29993      5932        \n",
       "GSE200218_MBM01_AAACCTGGTACTTGAC-1 GSE200218  21267      5177        \n",
       "GSE200218_MBM01_AAACCTGGTTAAGATG-1 GSE200218  25744      5563        \n",
       "GSE200218_MBM01_AAACCTGTCACGGTTA-1 GSE200218  14369      3779        \n",
       "GSE200218_MBM01_AAACCTGTCCGCATCT-1 GSE200218   3921      2039        \n",
       "                                   sample_type cancer_type         patient_id\n",
       "GSE200218_MBM01_AAACCTGAGCTGCAAG-1 metastasis  melanoma brain mets MBM01     \n",
       "GSE200218_MBM01_AAACCTGCAATCGGTT-1 metastasis  melanoma brain mets MBM01     \n",
       "GSE200218_MBM01_AAACCTGGTACTTGAC-1 metastasis  melanoma brain mets MBM01     \n",
       "GSE200218_MBM01_AAACCTGGTTAAGATG-1 metastasis  melanoma brain mets MBM01     \n",
       "GSE200218_MBM01_AAACCTGTCACGGTTA-1 metastasis  melanoma brain mets MBM01     \n",
       "GSE200218_MBM01_AAACCTGTCCGCATCT-1 metastasis  melanoma brain mets MBM01     \n",
       "                                   sample_id       percent.mt RNA_snn_res.0.2\n",
       "GSE200218_MBM01_AAACCTGAGCTGCAAG-1 GSE200218_MBM01 4.439238   0              \n",
       "GSE200218_MBM01_AAACCTGCAATCGGTT-1 GSE200218_MBM01 3.270763   2              \n",
       "GSE200218_MBM01_AAACCTGGTACTTGAC-1 GSE200218_MBM01 3.282080   7              \n",
       "GSE200218_MBM01_AAACCTGGTTAAGATG-1 GSE200218_MBM01 3.899938   0              \n",
       "GSE200218_MBM01_AAACCTGTCACGGTTA-1 GSE200218_MBM01 3.257012   0              \n",
       "GSE200218_MBM01_AAACCTGTCCGCATCT-1 GSE200218_MBM01 4.412140   0              \n",
       "                                   seurat_clusters site  sample_type_major\n",
       "GSE200218_MBM01_AAACCTGAGCTGCAAG-1 0               brain metastatic tumour\n",
       "GSE200218_MBM01_AAACCTGCAATCGGTT-1 2               brain metastatic tumour\n",
       "GSE200218_MBM01_AAACCTGGTACTTGAC-1 7               brain metastatic tumour\n",
       "GSE200218_MBM01_AAACCTGGTTAAGATG-1 0               brain metastatic tumour\n",
       "GSE200218_MBM01_AAACCTGTCACGGTTA-1 0               brain metastatic tumour\n",
       "GSE200218_MBM01_AAACCTGTCCGCATCT-1 0               brain metastatic tumour\n",
       "                                   cancer_subtype integration_id \n",
       "GSE200218_MBM01_AAACCTGAGCTGCAAG-1 Melanoma       GSE200218_MBM01\n",
       "GSE200218_MBM01_AAACCTGCAATCGGTT-1 Melanoma       GSE200218_MBM01\n",
       "GSE200218_MBM01_AAACCTGGTACTTGAC-1 Melanoma       GSE200218_MBM01\n",
       "GSE200218_MBM01_AAACCTGGTTAAGATG-1 Melanoma       GSE200218_MBM01\n",
       "GSE200218_MBM01_AAACCTGTCACGGTTA-1 Melanoma       GSE200218_MBM01\n",
       "GSE200218_MBM01_AAACCTGTCCGCATCT-1 Melanoma       GSE200218_MBM01"
      ]
     },
     "metadata": {},
     "output_type": "display_data"
    },
    {
     "data": {
      "text/html": [
       "<table class=\"dataframe\">\n",
       "<caption>A data.frame: 6 × 14</caption>\n",
       "<thead>\n",
       "\t<tr><th></th><th scope=col>orig.ident</th><th scope=col>nCount_RNA</th><th scope=col>nFeature_RNA</th><th scope=col>sample_type</th><th scope=col>cancer_type</th><th scope=col>patient_id</th><th scope=col>sample_id</th><th scope=col>percent.mt</th><th scope=col>RNA_snn_res.0.2</th><th scope=col>seurat_clusters</th><th scope=col>site</th><th scope=col>sample_type_major</th><th scope=col>cancer_subtype</th><th scope=col>integration_id</th></tr>\n",
       "\t<tr><th></th><th scope=col>&lt;chr&gt;</th><th scope=col>&lt;dbl&gt;</th><th scope=col>&lt;int&gt;</th><th scope=col>&lt;chr&gt;</th><th scope=col>&lt;chr&gt;</th><th scope=col>&lt;chr&gt;</th><th scope=col>&lt;chr&gt;</th><th scope=col>&lt;dbl&gt;</th><th scope=col>&lt;fct&gt;</th><th scope=col>&lt;fct&gt;</th><th scope=col>&lt;chr&gt;</th><th scope=col>&lt;chr&gt;</th><th scope=col>&lt;chr&gt;</th><th scope=col>&lt;chr&gt;</th></tr>\n",
       "</thead>\n",
       "<tbody>\n",
       "\t<tr><th scope=row>GSE200218_MBM05_TTTGCGCTCATGCTCC-1</th><td>GSE200218</td><td> 9728</td><td>2563</td><td>metastasis</td><td>melanoma brain mets</td><td>MBM05</td><td>GSE200218_MBM05</td><td> 9.477796</td><td>0</td><td>0</td><td>brain</td><td>metastatic tumour</td><td>Melanoma</td><td>GSE200218_MBM05</td></tr>\n",
       "\t<tr><th scope=row>GSE200218_MBM05_TTTGCGCTCCTCGCAT-1</th><td>GSE200218</td><td>13511</td><td>3309</td><td>metastasis</td><td>melanoma brain mets</td><td>MBM05</td><td>GSE200218_MBM05</td><td> 3.449042</td><td>2</td><td>2</td><td>brain</td><td>metastatic tumour</td><td>Melanoma</td><td>GSE200218_MBM05</td></tr>\n",
       "\t<tr><th scope=row>GSE200218_MBM05_TTTGGTTTCTCTAAGG-1</th><td>GSE200218</td><td>15440</td><td>3540</td><td>metastasis</td><td>melanoma brain mets</td><td>MBM05</td><td>GSE200218_MBM05</td><td> 4.410622</td><td>2</td><td>2</td><td>brain</td><td>metastatic tumour</td><td>Melanoma</td><td>GSE200218_MBM05</td></tr>\n",
       "\t<tr><th scope=row>GSE200218_MBM05_TTTGTCAAGATGGCGT-1</th><td>GSE200218</td><td>10913</td><td>2889</td><td>metastasis</td><td>melanoma brain mets</td><td>MBM05</td><td>GSE200218_MBM05</td><td> 4.370934</td><td>2</td><td>2</td><td>brain</td><td>metastatic tumour</td><td>Melanoma</td><td>GSE200218_MBM05</td></tr>\n",
       "\t<tr><th scope=row>GSE200218_MBM05_TTTGTCAAGTTAGGTA-1</th><td>GSE200218</td><td> 5539</td><td>2048</td><td>metastasis</td><td>melanoma brain mets</td><td>MBM05</td><td>GSE200218_MBM05</td><td> 5.361979</td><td>0</td><td>0</td><td>brain</td><td>metastatic tumour</td><td>Melanoma</td><td>GSE200218_MBM05</td></tr>\n",
       "\t<tr><th scope=row>GSE200218_MBM05_TTTGTCATCTTGGGTA-1</th><td>GSE200218</td><td> 1780</td><td>1076</td><td>metastasis</td><td>melanoma brain mets</td><td>MBM05</td><td>GSE200218_MBM05</td><td>10.561798</td><td>7</td><td>7</td><td>brain</td><td>metastatic tumour</td><td>Melanoma</td><td>GSE200218_MBM05</td></tr>\n",
       "</tbody>\n",
       "</table>\n"
      ],
      "text/latex": [
       "A data.frame: 6 × 14\n",
       "\\begin{tabular}{r|llllllllllllll}\n",
       "  & orig.ident & nCount\\_RNA & nFeature\\_RNA & sample\\_type & cancer\\_type & patient\\_id & sample\\_id & percent.mt & RNA\\_snn\\_res.0.2 & seurat\\_clusters & site & sample\\_type\\_major & cancer\\_subtype & integration\\_id\\\\\n",
       "  & <chr> & <dbl> & <int> & <chr> & <chr> & <chr> & <chr> & <dbl> & <fct> & <fct> & <chr> & <chr> & <chr> & <chr>\\\\\n",
       "\\hline\n",
       "\tGSE200218\\_MBM05\\_TTTGCGCTCATGCTCC-1 & GSE200218 &  9728 & 2563 & metastasis & melanoma brain mets & MBM05 & GSE200218\\_MBM05 &  9.477796 & 0 & 0 & brain & metastatic tumour & Melanoma & GSE200218\\_MBM05\\\\\n",
       "\tGSE200218\\_MBM05\\_TTTGCGCTCCTCGCAT-1 & GSE200218 & 13511 & 3309 & metastasis & melanoma brain mets & MBM05 & GSE200218\\_MBM05 &  3.449042 & 2 & 2 & brain & metastatic tumour & Melanoma & GSE200218\\_MBM05\\\\\n",
       "\tGSE200218\\_MBM05\\_TTTGGTTTCTCTAAGG-1 & GSE200218 & 15440 & 3540 & metastasis & melanoma brain mets & MBM05 & GSE200218\\_MBM05 &  4.410622 & 2 & 2 & brain & metastatic tumour & Melanoma & GSE200218\\_MBM05\\\\\n",
       "\tGSE200218\\_MBM05\\_TTTGTCAAGATGGCGT-1 & GSE200218 & 10913 & 2889 & metastasis & melanoma brain mets & MBM05 & GSE200218\\_MBM05 &  4.370934 & 2 & 2 & brain & metastatic tumour & Melanoma & GSE200218\\_MBM05\\\\\n",
       "\tGSE200218\\_MBM05\\_TTTGTCAAGTTAGGTA-1 & GSE200218 &  5539 & 2048 & metastasis & melanoma brain mets & MBM05 & GSE200218\\_MBM05 &  5.361979 & 0 & 0 & brain & metastatic tumour & Melanoma & GSE200218\\_MBM05\\\\\n",
       "\tGSE200218\\_MBM05\\_TTTGTCATCTTGGGTA-1 & GSE200218 &  1780 & 1076 & metastasis & melanoma brain mets & MBM05 & GSE200218\\_MBM05 & 10.561798 & 7 & 7 & brain & metastatic tumour & Melanoma & GSE200218\\_MBM05\\\\\n",
       "\\end{tabular}\n"
      ],
      "text/markdown": [
       "\n",
       "A data.frame: 6 × 14\n",
       "\n",
       "| <!--/--> | orig.ident &lt;chr&gt; | nCount_RNA &lt;dbl&gt; | nFeature_RNA &lt;int&gt; | sample_type &lt;chr&gt; | cancer_type &lt;chr&gt; | patient_id &lt;chr&gt; | sample_id &lt;chr&gt; | percent.mt &lt;dbl&gt; | RNA_snn_res.0.2 &lt;fct&gt; | seurat_clusters &lt;fct&gt; | site &lt;chr&gt; | sample_type_major &lt;chr&gt; | cancer_subtype &lt;chr&gt; | integration_id &lt;chr&gt; |\n",
       "|---|---|---|---|---|---|---|---|---|---|---|---|---|---|---|\n",
       "| GSE200218_MBM05_TTTGCGCTCATGCTCC-1 | GSE200218 |  9728 | 2563 | metastasis | melanoma brain mets | MBM05 | GSE200218_MBM05 |  9.477796 | 0 | 0 | brain | metastatic tumour | Melanoma | GSE200218_MBM05 |\n",
       "| GSE200218_MBM05_TTTGCGCTCCTCGCAT-1 | GSE200218 | 13511 | 3309 | metastasis | melanoma brain mets | MBM05 | GSE200218_MBM05 |  3.449042 | 2 | 2 | brain | metastatic tumour | Melanoma | GSE200218_MBM05 |\n",
       "| GSE200218_MBM05_TTTGGTTTCTCTAAGG-1 | GSE200218 | 15440 | 3540 | metastasis | melanoma brain mets | MBM05 | GSE200218_MBM05 |  4.410622 | 2 | 2 | brain | metastatic tumour | Melanoma | GSE200218_MBM05 |\n",
       "| GSE200218_MBM05_TTTGTCAAGATGGCGT-1 | GSE200218 | 10913 | 2889 | metastasis | melanoma brain mets | MBM05 | GSE200218_MBM05 |  4.370934 | 2 | 2 | brain | metastatic tumour | Melanoma | GSE200218_MBM05 |\n",
       "| GSE200218_MBM05_TTTGTCAAGTTAGGTA-1 | GSE200218 |  5539 | 2048 | metastasis | melanoma brain mets | MBM05 | GSE200218_MBM05 |  5.361979 | 0 | 0 | brain | metastatic tumour | Melanoma | GSE200218_MBM05 |\n",
       "| GSE200218_MBM05_TTTGTCATCTTGGGTA-1 | GSE200218 |  1780 | 1076 | metastasis | melanoma brain mets | MBM05 | GSE200218_MBM05 | 10.561798 | 7 | 7 | brain | metastatic tumour | Melanoma | GSE200218_MBM05 |\n",
       "\n"
      ],
      "text/plain": [
       "                                   orig.ident nCount_RNA nFeature_RNA\n",
       "GSE200218_MBM05_TTTGCGCTCATGCTCC-1 GSE200218   9728      2563        \n",
       "GSE200218_MBM05_TTTGCGCTCCTCGCAT-1 GSE200218  13511      3309        \n",
       "GSE200218_MBM05_TTTGGTTTCTCTAAGG-1 GSE200218  15440      3540        \n",
       "GSE200218_MBM05_TTTGTCAAGATGGCGT-1 GSE200218  10913      2889        \n",
       "GSE200218_MBM05_TTTGTCAAGTTAGGTA-1 GSE200218   5539      2048        \n",
       "GSE200218_MBM05_TTTGTCATCTTGGGTA-1 GSE200218   1780      1076        \n",
       "                                   sample_type cancer_type         patient_id\n",
       "GSE200218_MBM05_TTTGCGCTCATGCTCC-1 metastasis  melanoma brain mets MBM05     \n",
       "GSE200218_MBM05_TTTGCGCTCCTCGCAT-1 metastasis  melanoma brain mets MBM05     \n",
       "GSE200218_MBM05_TTTGGTTTCTCTAAGG-1 metastasis  melanoma brain mets MBM05     \n",
       "GSE200218_MBM05_TTTGTCAAGATGGCGT-1 metastasis  melanoma brain mets MBM05     \n",
       "GSE200218_MBM05_TTTGTCAAGTTAGGTA-1 metastasis  melanoma brain mets MBM05     \n",
       "GSE200218_MBM05_TTTGTCATCTTGGGTA-1 metastasis  melanoma brain mets MBM05     \n",
       "                                   sample_id       percent.mt RNA_snn_res.0.2\n",
       "GSE200218_MBM05_TTTGCGCTCATGCTCC-1 GSE200218_MBM05  9.477796  0              \n",
       "GSE200218_MBM05_TTTGCGCTCCTCGCAT-1 GSE200218_MBM05  3.449042  2              \n",
       "GSE200218_MBM05_TTTGGTTTCTCTAAGG-1 GSE200218_MBM05  4.410622  2              \n",
       "GSE200218_MBM05_TTTGTCAAGATGGCGT-1 GSE200218_MBM05  4.370934  2              \n",
       "GSE200218_MBM05_TTTGTCAAGTTAGGTA-1 GSE200218_MBM05  5.361979  0              \n",
       "GSE200218_MBM05_TTTGTCATCTTGGGTA-1 GSE200218_MBM05 10.561798  7              \n",
       "                                   seurat_clusters site  sample_type_major\n",
       "GSE200218_MBM05_TTTGCGCTCATGCTCC-1 0               brain metastatic tumour\n",
       "GSE200218_MBM05_TTTGCGCTCCTCGCAT-1 2               brain metastatic tumour\n",
       "GSE200218_MBM05_TTTGGTTTCTCTAAGG-1 2               brain metastatic tumour\n",
       "GSE200218_MBM05_TTTGTCAAGATGGCGT-1 2               brain metastatic tumour\n",
       "GSE200218_MBM05_TTTGTCAAGTTAGGTA-1 0               brain metastatic tumour\n",
       "GSE200218_MBM05_TTTGTCATCTTGGGTA-1 7               brain metastatic tumour\n",
       "                                   cancer_subtype integration_id \n",
       "GSE200218_MBM05_TTTGCGCTCATGCTCC-1 Melanoma       GSE200218_MBM05\n",
       "GSE200218_MBM05_TTTGCGCTCCTCGCAT-1 Melanoma       GSE200218_MBM05\n",
       "GSE200218_MBM05_TTTGGTTTCTCTAAGG-1 Melanoma       GSE200218_MBM05\n",
       "GSE200218_MBM05_TTTGTCAAGATGGCGT-1 Melanoma       GSE200218_MBM05\n",
       "GSE200218_MBM05_TTTGTCAAGTTAGGTA-1 Melanoma       GSE200218_MBM05\n",
       "GSE200218_MBM05_TTTGTCATCTTGGGTA-1 Melanoma       GSE200218_MBM05"
      ]
     },
     "metadata": {},
     "output_type": "display_data"
    },
    {
     "data": {
      "text/plain": [
       "\n",
       "GSE200218_MBM01 GSE200218_MBM02 GSE200218_MBM03 GSE200218_MBM04 GSE200218_MBM05 \n",
       "           1411            2035            1945            3143            1837 "
      ]
     },
     "metadata": {},
     "output_type": "display_data"
    }
   ],
   "source": [
    "#record number of cells\n",
    "MEL\n",
    "MEL@project.name\n",
    "head(MEL@meta.data)\n",
    "tail(MEL@meta.data)\n",
    "table(MEL$integration_id)"
   ]
  },
  {
   "cell_type": "code",
   "execution_count": 134,
   "metadata": {
    "vscode": {
     "languageId": "r"
    }
   },
   "outputs": [],
   "source": [
    "#re-export seurat object ready for integration\n",
    "saveRDS(MEL, \"/scratch/user/s4436039/scdata/Myeloid_Cells/Myeloid_Cells_Integrate/GSE200218_myeloid_int.RDS\")"
   ]
  },
  {
   "cell_type": "code",
   "execution_count": 135,
   "metadata": {
    "vscode": {
     "languageId": "r"
    }
   },
   "outputs": [],
   "source": [
    "#remove all objects in R\n",
    "rm(list = ls())"
   ]
  },
  {
   "cell_type": "markdown",
   "metadata": {},
   "source": [
    "## GSE215120"
   ]
  },
  {
   "cell_type": "code",
   "execution_count": 136,
   "metadata": {
    "vscode": {
     "languageId": "r"
    }
   },
   "outputs": [],
   "source": [
    "MEL_Ac <- readRDS(\"/scratch/user/s4436039/scdata/Myeloid_Cells/GSE215120_AcMEL_myeloid.RDS\")\n",
    "MEL_Cu <- readRDS(\"/scratch/user/s4436039/scdata/Myeloid_Cells/GSE215120_CuMEL_myeloid.RDS\")"
   ]
  },
  {
   "cell_type": "code",
   "execution_count": 137,
   "metadata": {
    "vscode": {
     "languageId": "r"
    }
   },
   "outputs": [
    {
     "data": {
      "text/plain": [
       "An object of class Seurat \n",
       "33538 features across 787 samples within 1 assay \n",
       "Active assay: RNA (33538 features, 2000 variable features)\n",
       " 13 layers present: counts.1, counts.2, counts.3, counts.4, counts.5, counts.6, data.1, data.2, data.3, data.4, data.5, data.6, scale.data\n",
       " 2 dimensional reductions calculated: pca, umap"
      ]
     },
     "metadata": {},
     "output_type": "display_data"
    },
    {
     "data": {
      "text/html": [
       "'GSE215120'"
      ],
      "text/latex": [
       "'GSE215120'"
      ],
      "text/markdown": [
       "'GSE215120'"
      ],
      "text/plain": [
       "[1] \"GSE215120\""
      ]
     },
     "metadata": {},
     "output_type": "display_data"
    },
    {
     "data": {
      "text/html": [
       "<table class=\"dataframe\">\n",
       "<caption>A data.frame: 6 × 10</caption>\n",
       "<thead>\n",
       "\t<tr><th></th><th scope=col>orig.ident</th><th scope=col>nCount_RNA</th><th scope=col>nFeature_RNA</th><th scope=col>sample_type</th><th scope=col>cancer_type</th><th scope=col>patient_id</th><th scope=col>sample_id</th><th scope=col>percent.mt</th><th scope=col>RNA_snn_res.0.2</th><th scope=col>seurat_clusters</th></tr>\n",
       "\t<tr><th></th><th scope=col>&lt;chr&gt;</th><th scope=col>&lt;dbl&gt;</th><th scope=col>&lt;int&gt;</th><th scope=col>&lt;chr&gt;</th><th scope=col>&lt;chr&gt;</th><th scope=col>&lt;chr&gt;</th><th scope=col>&lt;chr&gt;</th><th scope=col>&lt;dbl&gt;</th><th scope=col>&lt;fct&gt;</th><th scope=col>&lt;fct&gt;</th></tr>\n",
       "</thead>\n",
       "<tbody>\n",
       "\t<tr><th scope=row>GSE215120_AM1_AAACCTGGTTGCTCCT-1</th><td>GSE215120</td><td>20298</td><td>3789</td><td>tumour</td><td>Acral Melanoma</td><td>AM1</td><td>GSE215120_Acral_MEL_AM1</td><td>0.9754656</td><td>12</td><td>12</td></tr>\n",
       "\t<tr><th scope=row>GSE215120_AM1_AAAGATGTCCAAATGC-1</th><td>GSE215120</td><td> 5574</td><td>1721</td><td>tumour</td><td>Acral Melanoma</td><td>AM1</td><td>GSE215120_Acral_MEL_AM1</td><td>6.0459275</td><td>12</td><td>12</td></tr>\n",
       "\t<tr><th scope=row>GSE215120_AM1_AAAGTAGTCGGTGTTA-1</th><td>GSE215120</td><td>13432</td><td>2759</td><td>tumour</td><td>Acral Melanoma</td><td>AM1</td><td>GSE215120_Acral_MEL_AM1</td><td>2.1515783</td><td>12</td><td>12</td></tr>\n",
       "\t<tr><th scope=row>GSE215120_AM1_AAATGCCCAGAGCCAA-1</th><td>GSE215120</td><td>17143</td><td>2659</td><td>tumour</td><td>Acral Melanoma</td><td>AM1</td><td>GSE215120_Acral_MEL_AM1</td><td>1.2249898</td><td>12</td><td>12</td></tr>\n",
       "\t<tr><th scope=row>GSE215120_AM1_AAATGCCGTTTGGCGC-1</th><td>GSE215120</td><td> 3603</td><td>1012</td><td>tumour</td><td>Acral Melanoma</td><td>AM1</td><td>GSE215120_Acral_MEL_AM1</td><td>3.6081044</td><td>12</td><td>12</td></tr>\n",
       "\t<tr><th scope=row>GSE215120_AM1_AAATGCCTCATGTCCC-1</th><td>GSE215120</td><td>14482</td><td>2882</td><td>tumour</td><td>Acral Melanoma</td><td>AM1</td><td>GSE215120_Acral_MEL_AM1</td><td>1.0357685</td><td>12</td><td>12</td></tr>\n",
       "</tbody>\n",
       "</table>\n"
      ],
      "text/latex": [
       "A data.frame: 6 × 10\n",
       "\\begin{tabular}{r|llllllllll}\n",
       "  & orig.ident & nCount\\_RNA & nFeature\\_RNA & sample\\_type & cancer\\_type & patient\\_id & sample\\_id & percent.mt & RNA\\_snn\\_res.0.2 & seurat\\_clusters\\\\\n",
       "  & <chr> & <dbl> & <int> & <chr> & <chr> & <chr> & <chr> & <dbl> & <fct> & <fct>\\\\\n",
       "\\hline\n",
       "\tGSE215120\\_AM1\\_AAACCTGGTTGCTCCT-1 & GSE215120 & 20298 & 3789 & tumour & Acral Melanoma & AM1 & GSE215120\\_Acral\\_MEL\\_AM1 & 0.9754656 & 12 & 12\\\\\n",
       "\tGSE215120\\_AM1\\_AAAGATGTCCAAATGC-1 & GSE215120 &  5574 & 1721 & tumour & Acral Melanoma & AM1 & GSE215120\\_Acral\\_MEL\\_AM1 & 6.0459275 & 12 & 12\\\\\n",
       "\tGSE215120\\_AM1\\_AAAGTAGTCGGTGTTA-1 & GSE215120 & 13432 & 2759 & tumour & Acral Melanoma & AM1 & GSE215120\\_Acral\\_MEL\\_AM1 & 2.1515783 & 12 & 12\\\\\n",
       "\tGSE215120\\_AM1\\_AAATGCCCAGAGCCAA-1 & GSE215120 & 17143 & 2659 & tumour & Acral Melanoma & AM1 & GSE215120\\_Acral\\_MEL\\_AM1 & 1.2249898 & 12 & 12\\\\\n",
       "\tGSE215120\\_AM1\\_AAATGCCGTTTGGCGC-1 & GSE215120 &  3603 & 1012 & tumour & Acral Melanoma & AM1 & GSE215120\\_Acral\\_MEL\\_AM1 & 3.6081044 & 12 & 12\\\\\n",
       "\tGSE215120\\_AM1\\_AAATGCCTCATGTCCC-1 & GSE215120 & 14482 & 2882 & tumour & Acral Melanoma & AM1 & GSE215120\\_Acral\\_MEL\\_AM1 & 1.0357685 & 12 & 12\\\\\n",
       "\\end{tabular}\n"
      ],
      "text/markdown": [
       "\n",
       "A data.frame: 6 × 10\n",
       "\n",
       "| <!--/--> | orig.ident &lt;chr&gt; | nCount_RNA &lt;dbl&gt; | nFeature_RNA &lt;int&gt; | sample_type &lt;chr&gt; | cancer_type &lt;chr&gt; | patient_id &lt;chr&gt; | sample_id &lt;chr&gt; | percent.mt &lt;dbl&gt; | RNA_snn_res.0.2 &lt;fct&gt; | seurat_clusters &lt;fct&gt; |\n",
       "|---|---|---|---|---|---|---|---|---|---|---|\n",
       "| GSE215120_AM1_AAACCTGGTTGCTCCT-1 | GSE215120 | 20298 | 3789 | tumour | Acral Melanoma | AM1 | GSE215120_Acral_MEL_AM1 | 0.9754656 | 12 | 12 |\n",
       "| GSE215120_AM1_AAAGATGTCCAAATGC-1 | GSE215120 |  5574 | 1721 | tumour | Acral Melanoma | AM1 | GSE215120_Acral_MEL_AM1 | 6.0459275 | 12 | 12 |\n",
       "| GSE215120_AM1_AAAGTAGTCGGTGTTA-1 | GSE215120 | 13432 | 2759 | tumour | Acral Melanoma | AM1 | GSE215120_Acral_MEL_AM1 | 2.1515783 | 12 | 12 |\n",
       "| GSE215120_AM1_AAATGCCCAGAGCCAA-1 | GSE215120 | 17143 | 2659 | tumour | Acral Melanoma | AM1 | GSE215120_Acral_MEL_AM1 | 1.2249898 | 12 | 12 |\n",
       "| GSE215120_AM1_AAATGCCGTTTGGCGC-1 | GSE215120 |  3603 | 1012 | tumour | Acral Melanoma | AM1 | GSE215120_Acral_MEL_AM1 | 3.6081044 | 12 | 12 |\n",
       "| GSE215120_AM1_AAATGCCTCATGTCCC-1 | GSE215120 | 14482 | 2882 | tumour | Acral Melanoma | AM1 | GSE215120_Acral_MEL_AM1 | 1.0357685 | 12 | 12 |\n",
       "\n"
      ],
      "text/plain": [
       "                                 orig.ident nCount_RNA nFeature_RNA sample_type\n",
       "GSE215120_AM1_AAACCTGGTTGCTCCT-1 GSE215120  20298      3789         tumour     \n",
       "GSE215120_AM1_AAAGATGTCCAAATGC-1 GSE215120   5574      1721         tumour     \n",
       "GSE215120_AM1_AAAGTAGTCGGTGTTA-1 GSE215120  13432      2759         tumour     \n",
       "GSE215120_AM1_AAATGCCCAGAGCCAA-1 GSE215120  17143      2659         tumour     \n",
       "GSE215120_AM1_AAATGCCGTTTGGCGC-1 GSE215120   3603      1012         tumour     \n",
       "GSE215120_AM1_AAATGCCTCATGTCCC-1 GSE215120  14482      2882         tumour     \n",
       "                                 cancer_type    patient_id\n",
       "GSE215120_AM1_AAACCTGGTTGCTCCT-1 Acral Melanoma AM1       \n",
       "GSE215120_AM1_AAAGATGTCCAAATGC-1 Acral Melanoma AM1       \n",
       "GSE215120_AM1_AAAGTAGTCGGTGTTA-1 Acral Melanoma AM1       \n",
       "GSE215120_AM1_AAATGCCCAGAGCCAA-1 Acral Melanoma AM1       \n",
       "GSE215120_AM1_AAATGCCGTTTGGCGC-1 Acral Melanoma AM1       \n",
       "GSE215120_AM1_AAATGCCTCATGTCCC-1 Acral Melanoma AM1       \n",
       "                                 sample_id               percent.mt\n",
       "GSE215120_AM1_AAACCTGGTTGCTCCT-1 GSE215120_Acral_MEL_AM1 0.9754656 \n",
       "GSE215120_AM1_AAAGATGTCCAAATGC-1 GSE215120_Acral_MEL_AM1 6.0459275 \n",
       "GSE215120_AM1_AAAGTAGTCGGTGTTA-1 GSE215120_Acral_MEL_AM1 2.1515783 \n",
       "GSE215120_AM1_AAATGCCCAGAGCCAA-1 GSE215120_Acral_MEL_AM1 1.2249898 \n",
       "GSE215120_AM1_AAATGCCGTTTGGCGC-1 GSE215120_Acral_MEL_AM1 3.6081044 \n",
       "GSE215120_AM1_AAATGCCTCATGTCCC-1 GSE215120_Acral_MEL_AM1 1.0357685 \n",
       "                                 RNA_snn_res.0.2 seurat_clusters\n",
       "GSE215120_AM1_AAACCTGGTTGCTCCT-1 12              12             \n",
       "GSE215120_AM1_AAAGATGTCCAAATGC-1 12              12             \n",
       "GSE215120_AM1_AAAGTAGTCGGTGTTA-1 12              12             \n",
       "GSE215120_AM1_AAATGCCCAGAGCCAA-1 12              12             \n",
       "GSE215120_AM1_AAATGCCGTTTGGCGC-1 12              12             \n",
       "GSE215120_AM1_AAATGCCTCATGTCCC-1 12              12             "
      ]
     },
     "metadata": {},
     "output_type": "display_data"
    },
    {
     "data": {
      "text/plain": [
       "An object of class Seurat \n",
       "33538 features across 427 samples within 1 assay \n",
       "Active assay: RNA (33538 features, 2000 variable features)\n",
       " 9 layers present: counts.1, counts.2, counts.3, counts.4, data.1, data.2, data.3, data.4, scale.data\n",
       " 2 dimensional reductions calculated: pca, umap"
      ]
     },
     "metadata": {},
     "output_type": "display_data"
    },
    {
     "data": {
      "text/html": [
       "'GSE215120'"
      ],
      "text/latex": [
       "'GSE215120'"
      ],
      "text/markdown": [
       "'GSE215120'"
      ],
      "text/plain": [
       "[1] \"GSE215120\""
      ]
     },
     "metadata": {},
     "output_type": "display_data"
    },
    {
     "data": {
      "text/html": [
       "<table class=\"dataframe\">\n",
       "<caption>A data.frame: 6 × 10</caption>\n",
       "<thead>\n",
       "\t<tr><th></th><th scope=col>orig.ident</th><th scope=col>nCount_RNA</th><th scope=col>nFeature_RNA</th><th scope=col>sample_type</th><th scope=col>cancer_type</th><th scope=col>patient_id</th><th scope=col>sample_id</th><th scope=col>percent.mt</th><th scope=col>RNA_snn_res.0.2</th><th scope=col>seurat_clusters</th></tr>\n",
       "\t<tr><th></th><th scope=col>&lt;chr&gt;</th><th scope=col>&lt;dbl&gt;</th><th scope=col>&lt;int&gt;</th><th scope=col>&lt;chr&gt;</th><th scope=col>&lt;chr&gt;</th><th scope=col>&lt;chr&gt;</th><th scope=col>&lt;chr&gt;</th><th scope=col>&lt;dbl&gt;</th><th scope=col>&lt;fct&gt;</th><th scope=col>&lt;fct&gt;</th></tr>\n",
       "</thead>\n",
       "<tbody>\n",
       "\t<tr><th scope=row>GSE215120_CM1_AAATGCCCATTACCTT-1</th><td>GSE215120</td><td> 7596</td><td>1914</td><td>tumour</td><td>Cutaneous Melanoma</td><td>CM1</td><td>GSE215120_Cut_MEL_CM1</td><td>3.1200632</td><td>11</td><td>11</td></tr>\n",
       "\t<tr><th scope=row>GSE215120_CM1_AACTCCCAGCCGATTT-1</th><td>GSE215120</td><td> 4828</td><td>1341</td><td>tumour</td><td>Cutaneous Melanoma</td><td>CM1</td><td>GSE215120_Cut_MEL_CM1</td><td>0.9113505</td><td>11</td><td>11</td></tr>\n",
       "\t<tr><th scope=row>GSE215120_CM1_AACTCCCTCGGCGCAT-1</th><td>GSE215120</td><td> 7064</td><td>1684</td><td>tumour</td><td>Cutaneous Melanoma</td><td>CM1</td><td>GSE215120_Cut_MEL_CM1</td><td>2.5622877</td><td>11</td><td>11</td></tr>\n",
       "\t<tr><th scope=row>GSE215120_CM1_AATCCAGTCAGGCCCA-1</th><td>GSE215120</td><td>10178</td><td>2223</td><td>tumour</td><td>Cutaneous Melanoma</td><td>CM1</td><td>GSE215120_Cut_MEL_CM1</td><td>2.0141482</td><td>11</td><td>11</td></tr>\n",
       "\t<tr><th scope=row>GSE215120_CM1_ACACCAAGTCTTCTCG-1</th><td>GSE215120</td><td> 5097</td><td>1378</td><td>tumour</td><td>Cutaneous Melanoma</td><td>CM1</td><td>GSE215120_Cut_MEL_CM1</td><td>0.3923877</td><td>11</td><td>11</td></tr>\n",
       "\t<tr><th scope=row>GSE215120_CM1_ACACCCTCAATACGCT-1</th><td>GSE215120</td><td> 7358</td><td>1667</td><td>tumour</td><td>Cutaneous Melanoma</td><td>CM1</td><td>GSE215120_Cut_MEL_CM1</td><td>2.1337320</td><td>11</td><td>11</td></tr>\n",
       "</tbody>\n",
       "</table>\n"
      ],
      "text/latex": [
       "A data.frame: 6 × 10\n",
       "\\begin{tabular}{r|llllllllll}\n",
       "  & orig.ident & nCount\\_RNA & nFeature\\_RNA & sample\\_type & cancer\\_type & patient\\_id & sample\\_id & percent.mt & RNA\\_snn\\_res.0.2 & seurat\\_clusters\\\\\n",
       "  & <chr> & <dbl> & <int> & <chr> & <chr> & <chr> & <chr> & <dbl> & <fct> & <fct>\\\\\n",
       "\\hline\n",
       "\tGSE215120\\_CM1\\_AAATGCCCATTACCTT-1 & GSE215120 &  7596 & 1914 & tumour & Cutaneous Melanoma & CM1 & GSE215120\\_Cut\\_MEL\\_CM1 & 3.1200632 & 11 & 11\\\\\n",
       "\tGSE215120\\_CM1\\_AACTCCCAGCCGATTT-1 & GSE215120 &  4828 & 1341 & tumour & Cutaneous Melanoma & CM1 & GSE215120\\_Cut\\_MEL\\_CM1 & 0.9113505 & 11 & 11\\\\\n",
       "\tGSE215120\\_CM1\\_AACTCCCTCGGCGCAT-1 & GSE215120 &  7064 & 1684 & tumour & Cutaneous Melanoma & CM1 & GSE215120\\_Cut\\_MEL\\_CM1 & 2.5622877 & 11 & 11\\\\\n",
       "\tGSE215120\\_CM1\\_AATCCAGTCAGGCCCA-1 & GSE215120 & 10178 & 2223 & tumour & Cutaneous Melanoma & CM1 & GSE215120\\_Cut\\_MEL\\_CM1 & 2.0141482 & 11 & 11\\\\\n",
       "\tGSE215120\\_CM1\\_ACACCAAGTCTTCTCG-1 & GSE215120 &  5097 & 1378 & tumour & Cutaneous Melanoma & CM1 & GSE215120\\_Cut\\_MEL\\_CM1 & 0.3923877 & 11 & 11\\\\\n",
       "\tGSE215120\\_CM1\\_ACACCCTCAATACGCT-1 & GSE215120 &  7358 & 1667 & tumour & Cutaneous Melanoma & CM1 & GSE215120\\_Cut\\_MEL\\_CM1 & 2.1337320 & 11 & 11\\\\\n",
       "\\end{tabular}\n"
      ],
      "text/markdown": [
       "\n",
       "A data.frame: 6 × 10\n",
       "\n",
       "| <!--/--> | orig.ident &lt;chr&gt; | nCount_RNA &lt;dbl&gt; | nFeature_RNA &lt;int&gt; | sample_type &lt;chr&gt; | cancer_type &lt;chr&gt; | patient_id &lt;chr&gt; | sample_id &lt;chr&gt; | percent.mt &lt;dbl&gt; | RNA_snn_res.0.2 &lt;fct&gt; | seurat_clusters &lt;fct&gt; |\n",
       "|---|---|---|---|---|---|---|---|---|---|---|\n",
       "| GSE215120_CM1_AAATGCCCATTACCTT-1 | GSE215120 |  7596 | 1914 | tumour | Cutaneous Melanoma | CM1 | GSE215120_Cut_MEL_CM1 | 3.1200632 | 11 | 11 |\n",
       "| GSE215120_CM1_AACTCCCAGCCGATTT-1 | GSE215120 |  4828 | 1341 | tumour | Cutaneous Melanoma | CM1 | GSE215120_Cut_MEL_CM1 | 0.9113505 | 11 | 11 |\n",
       "| GSE215120_CM1_AACTCCCTCGGCGCAT-1 | GSE215120 |  7064 | 1684 | tumour | Cutaneous Melanoma | CM1 | GSE215120_Cut_MEL_CM1 | 2.5622877 | 11 | 11 |\n",
       "| GSE215120_CM1_AATCCAGTCAGGCCCA-1 | GSE215120 | 10178 | 2223 | tumour | Cutaneous Melanoma | CM1 | GSE215120_Cut_MEL_CM1 | 2.0141482 | 11 | 11 |\n",
       "| GSE215120_CM1_ACACCAAGTCTTCTCG-1 | GSE215120 |  5097 | 1378 | tumour | Cutaneous Melanoma | CM1 | GSE215120_Cut_MEL_CM1 | 0.3923877 | 11 | 11 |\n",
       "| GSE215120_CM1_ACACCCTCAATACGCT-1 | GSE215120 |  7358 | 1667 | tumour | Cutaneous Melanoma | CM1 | GSE215120_Cut_MEL_CM1 | 2.1337320 | 11 | 11 |\n",
       "\n"
      ],
      "text/plain": [
       "                                 orig.ident nCount_RNA nFeature_RNA sample_type\n",
       "GSE215120_CM1_AAATGCCCATTACCTT-1 GSE215120   7596      1914         tumour     \n",
       "GSE215120_CM1_AACTCCCAGCCGATTT-1 GSE215120   4828      1341         tumour     \n",
       "GSE215120_CM1_AACTCCCTCGGCGCAT-1 GSE215120   7064      1684         tumour     \n",
       "GSE215120_CM1_AATCCAGTCAGGCCCA-1 GSE215120  10178      2223         tumour     \n",
       "GSE215120_CM1_ACACCAAGTCTTCTCG-1 GSE215120   5097      1378         tumour     \n",
       "GSE215120_CM1_ACACCCTCAATACGCT-1 GSE215120   7358      1667         tumour     \n",
       "                                 cancer_type        patient_id\n",
       "GSE215120_CM1_AAATGCCCATTACCTT-1 Cutaneous Melanoma CM1       \n",
       "GSE215120_CM1_AACTCCCAGCCGATTT-1 Cutaneous Melanoma CM1       \n",
       "GSE215120_CM1_AACTCCCTCGGCGCAT-1 Cutaneous Melanoma CM1       \n",
       "GSE215120_CM1_AATCCAGTCAGGCCCA-1 Cutaneous Melanoma CM1       \n",
       "GSE215120_CM1_ACACCAAGTCTTCTCG-1 Cutaneous Melanoma CM1       \n",
       "GSE215120_CM1_ACACCCTCAATACGCT-1 Cutaneous Melanoma CM1       \n",
       "                                 sample_id             percent.mt\n",
       "GSE215120_CM1_AAATGCCCATTACCTT-1 GSE215120_Cut_MEL_CM1 3.1200632 \n",
       "GSE215120_CM1_AACTCCCAGCCGATTT-1 GSE215120_Cut_MEL_CM1 0.9113505 \n",
       "GSE215120_CM1_AACTCCCTCGGCGCAT-1 GSE215120_Cut_MEL_CM1 2.5622877 \n",
       "GSE215120_CM1_AATCCAGTCAGGCCCA-1 GSE215120_Cut_MEL_CM1 2.0141482 \n",
       "GSE215120_CM1_ACACCAAGTCTTCTCG-1 GSE215120_Cut_MEL_CM1 0.3923877 \n",
       "GSE215120_CM1_ACACCCTCAATACGCT-1 GSE215120_Cut_MEL_CM1 2.1337320 \n",
       "                                 RNA_snn_res.0.2 seurat_clusters\n",
       "GSE215120_CM1_AAATGCCCATTACCTT-1 11              11             \n",
       "GSE215120_CM1_AACTCCCAGCCGATTT-1 11              11             \n",
       "GSE215120_CM1_AACTCCCTCGGCGCAT-1 11              11             \n",
       "GSE215120_CM1_AATCCAGTCAGGCCCA-1 11              11             \n",
       "GSE215120_CM1_ACACCAAGTCTTCTCG-1 11              11             \n",
       "GSE215120_CM1_ACACCCTCAATACGCT-1 11              11             "
      ]
     },
     "metadata": {},
     "output_type": "display_data"
    }
   ],
   "source": [
    "MEL_Ac\n",
    "MEL_Ac@project.name\n",
    "head(MEL_Ac@meta.data)\n",
    "\n",
    "MEL_Cu\n",
    "MEL_Cu@project.name\n",
    "head(MEL_Cu@meta.data)"
   ]
  },
  {
   "cell_type": "code",
   "execution_count": 138,
   "metadata": {
    "vscode": {
     "languageId": "r"
    }
   },
   "outputs": [
    {
     "data": {
      "text/plain": [
       "\n",
       "tumour \n",
       "   787 "
      ]
     },
     "metadata": {},
     "output_type": "display_data"
    },
    {
     "data": {
      "text/plain": [
       "\n",
       "Acral Melanoma \n",
       "           787 "
      ]
     },
     "metadata": {},
     "output_type": "display_data"
    },
    {
     "data": {
      "text/plain": [
       "\n",
       "AM1 AM2 AM3 AM4 AM5 AM6 \n",
       "260  23 101   9 279 115 "
      ]
     },
     "metadata": {},
     "output_type": "display_data"
    },
    {
     "data": {
      "text/plain": [
       "\n",
       "GSE215120_Acral_MEL_AM1 GSE215120_Acral_MEL_AM2 GSE215120_Acral_MEL_AM3 \n",
       "                    260                      23                     101 \n",
       "GSE215120_Acral_MEL_AM4 GSE215120_Acral_MEL_AM5 GSE215120_Acral_MEL_AM6 \n",
       "                      9                     279                     115 "
      ]
     },
     "metadata": {},
     "output_type": "display_data"
    },
    {
     "data": {
      "text/plain": [
       "\n",
       "LN metastasis        tumour \n",
       "          162           265 "
      ]
     },
     "metadata": {},
     "output_type": "display_data"
    },
    {
     "data": {
      "text/plain": [
       "\n",
       "Cutaneous Melanoma \n",
       "               427 "
      ]
     },
     "metadata": {},
     "output_type": "display_data"
    },
    {
     "data": {
      "text/plain": [
       "\n",
       "CM1 CM2 CM3 \n",
       "295  32 100 "
      ]
     },
     "metadata": {},
     "output_type": "display_data"
    },
    {
     "data": {
      "text/plain": [
       "\n",
       " GSE215120_Cut_MEL_CM1  GSE215120_Cut_MEL_CM2  GSE215120_Cut_MEL_CM3 \n",
       "                   133                     32                    100 \n",
       "GSE215120_MEL_mets_CM1 \n",
       "                   162 "
      ]
     },
     "metadata": {},
     "output_type": "display_data"
    }
   ],
   "source": [
    "table(MEL_Ac$sample_type)\n",
    "table(MEL_Ac$cancer_type)\n",
    "table(MEL_Ac$patient_id)\n",
    "table(MEL_Ac$sample_id)\n",
    "\n",
    "table(MEL_Cu$sample_type)\n",
    "table(MEL_Cu$cancer_type)\n",
    "table(MEL_Cu$patient_id)\n",
    "table(MEL_Cu$sample_id)"
   ]
  },
  {
   "cell_type": "code",
   "execution_count": 139,
   "metadata": {
    "vscode": {
     "languageId": "r"
    }
   },
   "outputs": [],
   "source": [
    "#split by cancer_type\n",
    "MEL_Cu_Tu <- subset(MEL_Cu, subset = sample_type %in% c(\"tumour\"))\n",
    "MEL_Cu_LN <- subset(MEL_Cu, subset = sample_type %in% c(\"LN metastasis\"))\n",
    "\n",
    "#set site and sample_type_major metadata\n",
    "MEL_Ac@meta.data$site <- \"skin\"\n",
    "MEL_Cu_Tu@meta.data$site <- \"skin\"\n",
    "MEL_Cu_LN@meta.data$site <- \"lymph node\"\n",
    "\n",
    "MEL_Ac@meta.data$sample_type_major <- \"primary tumour\"\n",
    "MEL_Cu_Tu@meta.data$sample_type_major <- \"primary tumour\"\n",
    "MEL_Cu_LN@meta.data$sample_type_major <- \"metastatic tumour\"\n",
    "\n",
    "#set subtype metadata\n",
    "MEL_Ac@meta.data$cancer_subtype <- \"Acral Melanoma\"\n",
    "MEL_Cu_Tu@meta.data$cancer_subtype <- \"Melanoma\"\n",
    "MEL_Cu_LN@meta.data$cancer_subtype <- \"Melanoma\"\n",
    "\n",
    "#Merge seurat objects back together\n",
    "MEL <- merge(MEL_Ac, y = c(MEL_Cu_Tu, MEL_Cu_LN), project = \"GSE215120\")"
   ]
  },
  {
   "cell_type": "code",
   "execution_count": 140,
   "metadata": {
    "vscode": {
     "languageId": "r"
    }
   },
   "outputs": [],
   "source": [
    "#set integration_id metadata\n",
    "MEL@meta.data$integration_id <- MEL@meta.data$sample_id"
   ]
  },
  {
   "cell_type": "code",
   "execution_count": 141,
   "metadata": {
    "vscode": {
     "languageId": "r"
    }
   },
   "outputs": [
    {
     "data": {
      "text/plain": [
       "An object of class Seurat \n",
       "33538 features across 1214 samples within 1 assay \n",
       "Active assay: RNA (33538 features, 2000 variable features)\n",
       " 23 layers present: counts.1.1, counts.1.2, counts.2.1, counts.2.2, counts.3.1, counts.3.2, counts.4.1, counts.4.3, counts.5.1, counts.6.1, data.1.1, data.2.1, data.3.1, data.4.1, data.5.1, data.6.1, scale.data.1, data.1.2, data.2.2, data.3.2, scale.data.2, data.4.3, scale.data.3"
      ]
     },
     "metadata": {},
     "output_type": "display_data"
    },
    {
     "data": {
      "text/html": [
       "'GSE215120'"
      ],
      "text/latex": [
       "'GSE215120'"
      ],
      "text/markdown": [
       "'GSE215120'"
      ],
      "text/plain": [
       "[1] \"GSE215120\""
      ]
     },
     "metadata": {},
     "output_type": "display_data"
    },
    {
     "data": {
      "text/html": [
       "<table class=\"dataframe\">\n",
       "<caption>A data.frame: 6 × 14</caption>\n",
       "<thead>\n",
       "\t<tr><th></th><th scope=col>orig.ident</th><th scope=col>nCount_RNA</th><th scope=col>nFeature_RNA</th><th scope=col>sample_type</th><th scope=col>cancer_type</th><th scope=col>patient_id</th><th scope=col>sample_id</th><th scope=col>percent.mt</th><th scope=col>RNA_snn_res.0.2</th><th scope=col>seurat_clusters</th><th scope=col>site</th><th scope=col>sample_type_major</th><th scope=col>cancer_subtype</th><th scope=col>integration_id</th></tr>\n",
       "\t<tr><th></th><th scope=col>&lt;chr&gt;</th><th scope=col>&lt;dbl&gt;</th><th scope=col>&lt;int&gt;</th><th scope=col>&lt;chr&gt;</th><th scope=col>&lt;chr&gt;</th><th scope=col>&lt;chr&gt;</th><th scope=col>&lt;chr&gt;</th><th scope=col>&lt;dbl&gt;</th><th scope=col>&lt;chr&gt;</th><th scope=col>&lt;chr&gt;</th><th scope=col>&lt;chr&gt;</th><th scope=col>&lt;chr&gt;</th><th scope=col>&lt;chr&gt;</th><th scope=col>&lt;chr&gt;</th></tr>\n",
       "</thead>\n",
       "<tbody>\n",
       "\t<tr><th scope=row>GSE215120_AM1_AAACCTGGTTGCTCCT-1</th><td>GSE215120</td><td>20298</td><td>3789</td><td>tumour</td><td>Acral Melanoma</td><td>AM1</td><td>GSE215120_Acral_MEL_AM1</td><td>0.9754656</td><td>12</td><td>12</td><td>skin</td><td>primary tumour</td><td>Acral Melanoma</td><td>GSE215120_Acral_MEL_AM1</td></tr>\n",
       "\t<tr><th scope=row>GSE215120_AM1_AAAGATGTCCAAATGC-1</th><td>GSE215120</td><td> 5574</td><td>1721</td><td>tumour</td><td>Acral Melanoma</td><td>AM1</td><td>GSE215120_Acral_MEL_AM1</td><td>6.0459275</td><td>12</td><td>12</td><td>skin</td><td>primary tumour</td><td>Acral Melanoma</td><td>GSE215120_Acral_MEL_AM1</td></tr>\n",
       "\t<tr><th scope=row>GSE215120_AM1_AAAGTAGTCGGTGTTA-1</th><td>GSE215120</td><td>13432</td><td>2759</td><td>tumour</td><td>Acral Melanoma</td><td>AM1</td><td>GSE215120_Acral_MEL_AM1</td><td>2.1515783</td><td>12</td><td>12</td><td>skin</td><td>primary tumour</td><td>Acral Melanoma</td><td>GSE215120_Acral_MEL_AM1</td></tr>\n",
       "\t<tr><th scope=row>GSE215120_AM1_AAATGCCCAGAGCCAA-1</th><td>GSE215120</td><td>17143</td><td>2659</td><td>tumour</td><td>Acral Melanoma</td><td>AM1</td><td>GSE215120_Acral_MEL_AM1</td><td>1.2249898</td><td>12</td><td>12</td><td>skin</td><td>primary tumour</td><td>Acral Melanoma</td><td>GSE215120_Acral_MEL_AM1</td></tr>\n",
       "\t<tr><th scope=row>GSE215120_AM1_AAATGCCGTTTGGCGC-1</th><td>GSE215120</td><td> 3603</td><td>1012</td><td>tumour</td><td>Acral Melanoma</td><td>AM1</td><td>GSE215120_Acral_MEL_AM1</td><td>3.6081044</td><td>12</td><td>12</td><td>skin</td><td>primary tumour</td><td>Acral Melanoma</td><td>GSE215120_Acral_MEL_AM1</td></tr>\n",
       "\t<tr><th scope=row>GSE215120_AM1_AAATGCCTCATGTCCC-1</th><td>GSE215120</td><td>14482</td><td>2882</td><td>tumour</td><td>Acral Melanoma</td><td>AM1</td><td>GSE215120_Acral_MEL_AM1</td><td>1.0357685</td><td>12</td><td>12</td><td>skin</td><td>primary tumour</td><td>Acral Melanoma</td><td>GSE215120_Acral_MEL_AM1</td></tr>\n",
       "</tbody>\n",
       "</table>\n"
      ],
      "text/latex": [
       "A data.frame: 6 × 14\n",
       "\\begin{tabular}{r|llllllllllllll}\n",
       "  & orig.ident & nCount\\_RNA & nFeature\\_RNA & sample\\_type & cancer\\_type & patient\\_id & sample\\_id & percent.mt & RNA\\_snn\\_res.0.2 & seurat\\_clusters & site & sample\\_type\\_major & cancer\\_subtype & integration\\_id\\\\\n",
       "  & <chr> & <dbl> & <int> & <chr> & <chr> & <chr> & <chr> & <dbl> & <chr> & <chr> & <chr> & <chr> & <chr> & <chr>\\\\\n",
       "\\hline\n",
       "\tGSE215120\\_AM1\\_AAACCTGGTTGCTCCT-1 & GSE215120 & 20298 & 3789 & tumour & Acral Melanoma & AM1 & GSE215120\\_Acral\\_MEL\\_AM1 & 0.9754656 & 12 & 12 & skin & primary tumour & Acral Melanoma & GSE215120\\_Acral\\_MEL\\_AM1\\\\\n",
       "\tGSE215120\\_AM1\\_AAAGATGTCCAAATGC-1 & GSE215120 &  5574 & 1721 & tumour & Acral Melanoma & AM1 & GSE215120\\_Acral\\_MEL\\_AM1 & 6.0459275 & 12 & 12 & skin & primary tumour & Acral Melanoma & GSE215120\\_Acral\\_MEL\\_AM1\\\\\n",
       "\tGSE215120\\_AM1\\_AAAGTAGTCGGTGTTA-1 & GSE215120 & 13432 & 2759 & tumour & Acral Melanoma & AM1 & GSE215120\\_Acral\\_MEL\\_AM1 & 2.1515783 & 12 & 12 & skin & primary tumour & Acral Melanoma & GSE215120\\_Acral\\_MEL\\_AM1\\\\\n",
       "\tGSE215120\\_AM1\\_AAATGCCCAGAGCCAA-1 & GSE215120 & 17143 & 2659 & tumour & Acral Melanoma & AM1 & GSE215120\\_Acral\\_MEL\\_AM1 & 1.2249898 & 12 & 12 & skin & primary tumour & Acral Melanoma & GSE215120\\_Acral\\_MEL\\_AM1\\\\\n",
       "\tGSE215120\\_AM1\\_AAATGCCGTTTGGCGC-1 & GSE215120 &  3603 & 1012 & tumour & Acral Melanoma & AM1 & GSE215120\\_Acral\\_MEL\\_AM1 & 3.6081044 & 12 & 12 & skin & primary tumour & Acral Melanoma & GSE215120\\_Acral\\_MEL\\_AM1\\\\\n",
       "\tGSE215120\\_AM1\\_AAATGCCTCATGTCCC-1 & GSE215120 & 14482 & 2882 & tumour & Acral Melanoma & AM1 & GSE215120\\_Acral\\_MEL\\_AM1 & 1.0357685 & 12 & 12 & skin & primary tumour & Acral Melanoma & GSE215120\\_Acral\\_MEL\\_AM1\\\\\n",
       "\\end{tabular}\n"
      ],
      "text/markdown": [
       "\n",
       "A data.frame: 6 × 14\n",
       "\n",
       "| <!--/--> | orig.ident &lt;chr&gt; | nCount_RNA &lt;dbl&gt; | nFeature_RNA &lt;int&gt; | sample_type &lt;chr&gt; | cancer_type &lt;chr&gt; | patient_id &lt;chr&gt; | sample_id &lt;chr&gt; | percent.mt &lt;dbl&gt; | RNA_snn_res.0.2 &lt;chr&gt; | seurat_clusters &lt;chr&gt; | site &lt;chr&gt; | sample_type_major &lt;chr&gt; | cancer_subtype &lt;chr&gt; | integration_id &lt;chr&gt; |\n",
       "|---|---|---|---|---|---|---|---|---|---|---|---|---|---|---|\n",
       "| GSE215120_AM1_AAACCTGGTTGCTCCT-1 | GSE215120 | 20298 | 3789 | tumour | Acral Melanoma | AM1 | GSE215120_Acral_MEL_AM1 | 0.9754656 | 12 | 12 | skin | primary tumour | Acral Melanoma | GSE215120_Acral_MEL_AM1 |\n",
       "| GSE215120_AM1_AAAGATGTCCAAATGC-1 | GSE215120 |  5574 | 1721 | tumour | Acral Melanoma | AM1 | GSE215120_Acral_MEL_AM1 | 6.0459275 | 12 | 12 | skin | primary tumour | Acral Melanoma | GSE215120_Acral_MEL_AM1 |\n",
       "| GSE215120_AM1_AAAGTAGTCGGTGTTA-1 | GSE215120 | 13432 | 2759 | tumour | Acral Melanoma | AM1 | GSE215120_Acral_MEL_AM1 | 2.1515783 | 12 | 12 | skin | primary tumour | Acral Melanoma | GSE215120_Acral_MEL_AM1 |\n",
       "| GSE215120_AM1_AAATGCCCAGAGCCAA-1 | GSE215120 | 17143 | 2659 | tumour | Acral Melanoma | AM1 | GSE215120_Acral_MEL_AM1 | 1.2249898 | 12 | 12 | skin | primary tumour | Acral Melanoma | GSE215120_Acral_MEL_AM1 |\n",
       "| GSE215120_AM1_AAATGCCGTTTGGCGC-1 | GSE215120 |  3603 | 1012 | tumour | Acral Melanoma | AM1 | GSE215120_Acral_MEL_AM1 | 3.6081044 | 12 | 12 | skin | primary tumour | Acral Melanoma | GSE215120_Acral_MEL_AM1 |\n",
       "| GSE215120_AM1_AAATGCCTCATGTCCC-1 | GSE215120 | 14482 | 2882 | tumour | Acral Melanoma | AM1 | GSE215120_Acral_MEL_AM1 | 1.0357685 | 12 | 12 | skin | primary tumour | Acral Melanoma | GSE215120_Acral_MEL_AM1 |\n",
       "\n"
      ],
      "text/plain": [
       "                                 orig.ident nCount_RNA nFeature_RNA sample_type\n",
       "GSE215120_AM1_AAACCTGGTTGCTCCT-1 GSE215120  20298      3789         tumour     \n",
       "GSE215120_AM1_AAAGATGTCCAAATGC-1 GSE215120   5574      1721         tumour     \n",
       "GSE215120_AM1_AAAGTAGTCGGTGTTA-1 GSE215120  13432      2759         tumour     \n",
       "GSE215120_AM1_AAATGCCCAGAGCCAA-1 GSE215120  17143      2659         tumour     \n",
       "GSE215120_AM1_AAATGCCGTTTGGCGC-1 GSE215120   3603      1012         tumour     \n",
       "GSE215120_AM1_AAATGCCTCATGTCCC-1 GSE215120  14482      2882         tumour     \n",
       "                                 cancer_type    patient_id\n",
       "GSE215120_AM1_AAACCTGGTTGCTCCT-1 Acral Melanoma AM1       \n",
       "GSE215120_AM1_AAAGATGTCCAAATGC-1 Acral Melanoma AM1       \n",
       "GSE215120_AM1_AAAGTAGTCGGTGTTA-1 Acral Melanoma AM1       \n",
       "GSE215120_AM1_AAATGCCCAGAGCCAA-1 Acral Melanoma AM1       \n",
       "GSE215120_AM1_AAATGCCGTTTGGCGC-1 Acral Melanoma AM1       \n",
       "GSE215120_AM1_AAATGCCTCATGTCCC-1 Acral Melanoma AM1       \n",
       "                                 sample_id               percent.mt\n",
       "GSE215120_AM1_AAACCTGGTTGCTCCT-1 GSE215120_Acral_MEL_AM1 0.9754656 \n",
       "GSE215120_AM1_AAAGATGTCCAAATGC-1 GSE215120_Acral_MEL_AM1 6.0459275 \n",
       "GSE215120_AM1_AAAGTAGTCGGTGTTA-1 GSE215120_Acral_MEL_AM1 2.1515783 \n",
       "GSE215120_AM1_AAATGCCCAGAGCCAA-1 GSE215120_Acral_MEL_AM1 1.2249898 \n",
       "GSE215120_AM1_AAATGCCGTTTGGCGC-1 GSE215120_Acral_MEL_AM1 3.6081044 \n",
       "GSE215120_AM1_AAATGCCTCATGTCCC-1 GSE215120_Acral_MEL_AM1 1.0357685 \n",
       "                                 RNA_snn_res.0.2 seurat_clusters site\n",
       "GSE215120_AM1_AAACCTGGTTGCTCCT-1 12              12              skin\n",
       "GSE215120_AM1_AAAGATGTCCAAATGC-1 12              12              skin\n",
       "GSE215120_AM1_AAAGTAGTCGGTGTTA-1 12              12              skin\n",
       "GSE215120_AM1_AAATGCCCAGAGCCAA-1 12              12              skin\n",
       "GSE215120_AM1_AAATGCCGTTTGGCGC-1 12              12              skin\n",
       "GSE215120_AM1_AAATGCCTCATGTCCC-1 12              12              skin\n",
       "                                 sample_type_major cancer_subtype\n",
       "GSE215120_AM1_AAACCTGGTTGCTCCT-1 primary tumour    Acral Melanoma\n",
       "GSE215120_AM1_AAAGATGTCCAAATGC-1 primary tumour    Acral Melanoma\n",
       "GSE215120_AM1_AAAGTAGTCGGTGTTA-1 primary tumour    Acral Melanoma\n",
       "GSE215120_AM1_AAATGCCCAGAGCCAA-1 primary tumour    Acral Melanoma\n",
       "GSE215120_AM1_AAATGCCGTTTGGCGC-1 primary tumour    Acral Melanoma\n",
       "GSE215120_AM1_AAATGCCTCATGTCCC-1 primary tumour    Acral Melanoma\n",
       "                                 integration_id         \n",
       "GSE215120_AM1_AAACCTGGTTGCTCCT-1 GSE215120_Acral_MEL_AM1\n",
       "GSE215120_AM1_AAAGATGTCCAAATGC-1 GSE215120_Acral_MEL_AM1\n",
       "GSE215120_AM1_AAAGTAGTCGGTGTTA-1 GSE215120_Acral_MEL_AM1\n",
       "GSE215120_AM1_AAATGCCCAGAGCCAA-1 GSE215120_Acral_MEL_AM1\n",
       "GSE215120_AM1_AAATGCCGTTTGGCGC-1 GSE215120_Acral_MEL_AM1\n",
       "GSE215120_AM1_AAATGCCTCATGTCCC-1 GSE215120_Acral_MEL_AM1"
      ]
     },
     "metadata": {},
     "output_type": "display_data"
    }
   ],
   "source": [
    "MEL\n",
    "MEL@project.name\n",
    "head(MEL@meta.data)"
   ]
  },
  {
   "cell_type": "code",
   "execution_count": 142,
   "metadata": {
    "vscode": {
     "languageId": "r"
    }
   },
   "outputs": [
    {
     "data": {
      "text/plain": [
       "\n",
       "GSE215120_Acral_MEL_AM1 GSE215120_Acral_MEL_AM2 GSE215120_Acral_MEL_AM3 \n",
       "                    260                      23                     101 \n",
       "GSE215120_Acral_MEL_AM4 GSE215120_Acral_MEL_AM5 GSE215120_Acral_MEL_AM6 \n",
       "                      9                     279                     115 \n",
       "  GSE215120_Cut_MEL_CM1   GSE215120_Cut_MEL_CM2   GSE215120_Cut_MEL_CM3 \n",
       "                    133                      32                     100 \n",
       " GSE215120_MEL_mets_CM1 \n",
       "                    162 "
      ]
     },
     "metadata": {},
     "output_type": "display_data"
    },
    {
     "data": {
      "text/plain": [
       "\n",
       "GSE215120_Acral_MEL_AM1 GSE215120_Acral_MEL_AM3 GSE215120_Acral_MEL_AM5 \n",
       "                    260                     101                     279 \n",
       "GSE215120_Acral_MEL_AM6   GSE215120_Cut_MEL_CM1   GSE215120_Cut_MEL_CM3 \n",
       "                    115                     133                     100 \n",
       " GSE215120_MEL_mets_CM1 \n",
       "                    162 "
      ]
     },
     "metadata": {},
     "output_type": "display_data"
    }
   ],
   "source": [
    "#exclude any samples with <100 cells\n",
    "table(MEL$integration_id)\n",
    "#exclude AM2, AM4, CM2\n",
    "MEL <- subset(MEL, !(subset = integration_id %in% c(\"GSE215120_Acral_MEL_AM2\",\"GSE215120_Acral_MEL_AM4\",\"GSE215120_Cut_MEL_CM2\")))\n",
    "table(MEL$integration_id)"
   ]
  },
  {
   "cell_type": "code",
   "execution_count": 143,
   "metadata": {
    "vscode": {
     "languageId": "r"
    }
   },
   "outputs": [
    {
     "data": {
      "text/html": [
       "<style>\n",
       ".list-inline {list-style: none; margin:0; padding: 0}\n",
       ".list-inline>li {display: inline-block}\n",
       ".list-inline>li:not(:last-child)::after {content: \"\\00b7\"; padding: 0 .5ex}\n",
       "</style>\n",
       "<ol class=list-inline><li>'counts.1.1'</li><li>'counts.1.2'</li><li>'counts.3.1'</li><li>'counts.3.2'</li><li>'counts.4.3'</li><li>'counts.5.1'</li><li>'counts.6.1'</li><li>'data.1.1'</li><li>'data.3.1'</li><li>'data.5.1'</li><li>'data.6.1'</li><li>'scale.data.1'</li><li>'data.1.2'</li><li>'data.3.2'</li><li>'scale.data.2'</li><li>'data.4.3'</li><li>'scale.data.3'</li></ol>\n"
      ],
      "text/latex": [
       "\\begin{enumerate*}\n",
       "\\item 'counts.1.1'\n",
       "\\item 'counts.1.2'\n",
       "\\item 'counts.3.1'\n",
       "\\item 'counts.3.2'\n",
       "\\item 'counts.4.3'\n",
       "\\item 'counts.5.1'\n",
       "\\item 'counts.6.1'\n",
       "\\item 'data.1.1'\n",
       "\\item 'data.3.1'\n",
       "\\item 'data.5.1'\n",
       "\\item 'data.6.1'\n",
       "\\item 'scale.data.1'\n",
       "\\item 'data.1.2'\n",
       "\\item 'data.3.2'\n",
       "\\item 'scale.data.2'\n",
       "\\item 'data.4.3'\n",
       "\\item 'scale.data.3'\n",
       "\\end{enumerate*}\n"
      ],
      "text/markdown": [
       "1. 'counts.1.1'\n",
       "2. 'counts.1.2'\n",
       "3. 'counts.3.1'\n",
       "4. 'counts.3.2'\n",
       "5. 'counts.4.3'\n",
       "6. 'counts.5.1'\n",
       "7. 'counts.6.1'\n",
       "8. 'data.1.1'\n",
       "9. 'data.3.1'\n",
       "10. 'data.5.1'\n",
       "11. 'data.6.1'\n",
       "12. 'scale.data.1'\n",
       "13. 'data.1.2'\n",
       "14. 'data.3.2'\n",
       "15. 'scale.data.2'\n",
       "16. 'data.4.3'\n",
       "17. 'scale.data.3'\n",
       "\n",
       "\n"
      ],
      "text/plain": [
       " [1] \"counts.1.1\"   \"counts.1.2\"   \"counts.3.1\"   \"counts.3.2\"   \"counts.4.3\"  \n",
       " [6] \"counts.5.1\"   \"counts.6.1\"   \"data.1.1\"     \"data.3.1\"     \"data.5.1\"    \n",
       "[11] \"data.6.1\"     \"scale.data.1\" \"data.1.2\"     \"data.3.2\"     \"scale.data.2\"\n",
       "[16] \"data.4.3\"     \"scale.data.3\""
      ]
     },
     "metadata": {},
     "output_type": "display_data"
    },
    {
     "data": {
      "text/html": [
       "<style>\n",
       ".list-inline {list-style: none; margin:0; padding: 0}\n",
       ".list-inline>li {display: inline-block}\n",
       ".list-inline>li:not(:last-child)::after {content: \"\\00b7\"; padding: 0 .5ex}\n",
       "</style>\n",
       "<ol class=list-inline><li>'scale.data'</li><li>'data'</li><li>'counts'</li></ol>\n"
      ],
      "text/latex": [
       "\\begin{enumerate*}\n",
       "\\item 'scale.data'\n",
       "\\item 'data'\n",
       "\\item 'counts'\n",
       "\\end{enumerate*}\n"
      ],
      "text/markdown": [
       "1. 'scale.data'\n",
       "2. 'data'\n",
       "3. 'counts'\n",
       "\n",
       "\n"
      ],
      "text/plain": [
       "[1] \"scale.data\" \"data\"       \"counts\"    "
      ]
     },
     "metadata": {},
     "output_type": "display_data"
    },
    {
     "name": "stderr",
     "output_type": "stream",
     "text": [
      "Splitting ‘counts’, ‘data’ layers. Not splitting ‘scale.data’. If you would like to split other layers, set in `layers` argument.\n",
      "\n"
     ]
    },
    {
     "data": {
      "text/html": [
       "<style>\n",
       ".list-inline {list-style: none; margin:0; padding: 0}\n",
       ".list-inline>li {display: inline-block}\n",
       ".list-inline>li:not(:last-child)::after {content: \"\\00b7\"; padding: 0 .5ex}\n",
       "</style>\n",
       "<ol class=list-inline><li>'counts.GSE215120_Acral_MEL_AM1'</li><li>'counts.GSE215120_Acral_MEL_AM3'</li><li>'counts.GSE215120_Acral_MEL_AM5'</li><li>'counts.GSE215120_Acral_MEL_AM6'</li><li>'counts.GSE215120_Cut_MEL_CM1'</li><li>'counts.GSE215120_Cut_MEL_CM3'</li><li>'counts.GSE215120_MEL_mets_CM1'</li><li>'scale.data'</li><li>'data.GSE215120_Acral_MEL_AM1'</li><li>'data.GSE215120_Acral_MEL_AM3'</li><li>'data.GSE215120_Acral_MEL_AM5'</li><li>'data.GSE215120_Acral_MEL_AM6'</li><li>'data.GSE215120_Cut_MEL_CM1'</li><li>'data.GSE215120_Cut_MEL_CM3'</li><li>'data.GSE215120_MEL_mets_CM1'</li></ol>\n"
      ],
      "text/latex": [
       "\\begin{enumerate*}\n",
       "\\item 'counts.GSE215120\\_Acral\\_MEL\\_AM1'\n",
       "\\item 'counts.GSE215120\\_Acral\\_MEL\\_AM3'\n",
       "\\item 'counts.GSE215120\\_Acral\\_MEL\\_AM5'\n",
       "\\item 'counts.GSE215120\\_Acral\\_MEL\\_AM6'\n",
       "\\item 'counts.GSE215120\\_Cut\\_MEL\\_CM1'\n",
       "\\item 'counts.GSE215120\\_Cut\\_MEL\\_CM3'\n",
       "\\item 'counts.GSE215120\\_MEL\\_mets\\_CM1'\n",
       "\\item 'scale.data'\n",
       "\\item 'data.GSE215120\\_Acral\\_MEL\\_AM1'\n",
       "\\item 'data.GSE215120\\_Acral\\_MEL\\_AM3'\n",
       "\\item 'data.GSE215120\\_Acral\\_MEL\\_AM5'\n",
       "\\item 'data.GSE215120\\_Acral\\_MEL\\_AM6'\n",
       "\\item 'data.GSE215120\\_Cut\\_MEL\\_CM1'\n",
       "\\item 'data.GSE215120\\_Cut\\_MEL\\_CM3'\n",
       "\\item 'data.GSE215120\\_MEL\\_mets\\_CM1'\n",
       "\\end{enumerate*}\n"
      ],
      "text/markdown": [
       "1. 'counts.GSE215120_Acral_MEL_AM1'\n",
       "2. 'counts.GSE215120_Acral_MEL_AM3'\n",
       "3. 'counts.GSE215120_Acral_MEL_AM5'\n",
       "4. 'counts.GSE215120_Acral_MEL_AM6'\n",
       "5. 'counts.GSE215120_Cut_MEL_CM1'\n",
       "6. 'counts.GSE215120_Cut_MEL_CM3'\n",
       "7. 'counts.GSE215120_MEL_mets_CM1'\n",
       "8. 'scale.data'\n",
       "9. 'data.GSE215120_Acral_MEL_AM1'\n",
       "10. 'data.GSE215120_Acral_MEL_AM3'\n",
       "11. 'data.GSE215120_Acral_MEL_AM5'\n",
       "12. 'data.GSE215120_Acral_MEL_AM6'\n",
       "13. 'data.GSE215120_Cut_MEL_CM1'\n",
       "14. 'data.GSE215120_Cut_MEL_CM3'\n",
       "15. 'data.GSE215120_MEL_mets_CM1'\n",
       "\n",
       "\n"
      ],
      "text/plain": [
       " [1] \"counts.GSE215120_Acral_MEL_AM1\" \"counts.GSE215120_Acral_MEL_AM3\"\n",
       " [3] \"counts.GSE215120_Acral_MEL_AM5\" \"counts.GSE215120_Acral_MEL_AM6\"\n",
       " [5] \"counts.GSE215120_Cut_MEL_CM1\"   \"counts.GSE215120_Cut_MEL_CM3\"  \n",
       " [7] \"counts.GSE215120_MEL_mets_CM1\"  \"scale.data\"                    \n",
       " [9] \"data.GSE215120_Acral_MEL_AM1\"   \"data.GSE215120_Acral_MEL_AM3\"  \n",
       "[11] \"data.GSE215120_Acral_MEL_AM5\"   \"data.GSE215120_Acral_MEL_AM6\"  \n",
       "[13] \"data.GSE215120_Cut_MEL_CM1\"     \"data.GSE215120_Cut_MEL_CM3\"    \n",
       "[15] \"data.GSE215120_MEL_mets_CM1\"   "
      ]
     },
     "metadata": {},
     "output_type": "display_data"
    }
   ],
   "source": [
    "#join layers and then split them by integration_id\n",
    "Layers(MEL[[\"RNA\"]])\n",
    "#join layers\n",
    "MEL[[\"RNA\"]] <- JoinLayers(MEL[[\"RNA\"]])\n",
    "Layers(MEL[[\"RNA\"]])\n",
    "#split layers\n",
    "MEL[[\"RNA\"]] <- split(MEL[[\"RNA\"]], f = MEL$integration_id)\n",
    "Layers(MEL[[\"RNA\"]])\n"
   ]
  },
  {
   "cell_type": "code",
   "execution_count": 144,
   "metadata": {
    "vscode": {
     "languageId": "r"
    }
   },
   "outputs": [
    {
     "data": {
      "text/plain": [
       "An object of class Seurat \n",
       "33538 features across 1150 samples within 1 assay \n",
       "Active assay: RNA (33538 features, 2000 variable features)\n",
       " 15 layers present: counts.GSE215120_Acral_MEL_AM1, counts.GSE215120_Acral_MEL_AM3, counts.GSE215120_Acral_MEL_AM5, counts.GSE215120_Acral_MEL_AM6, counts.GSE215120_Cut_MEL_CM1, counts.GSE215120_Cut_MEL_CM3, counts.GSE215120_MEL_mets_CM1, scale.data, data.GSE215120_Acral_MEL_AM1, data.GSE215120_Acral_MEL_AM3, data.GSE215120_Acral_MEL_AM5, data.GSE215120_Acral_MEL_AM6, data.GSE215120_Cut_MEL_CM1, data.GSE215120_Cut_MEL_CM3, data.GSE215120_MEL_mets_CM1"
      ]
     },
     "metadata": {},
     "output_type": "display_data"
    },
    {
     "data": {
      "text/html": [
       "'GSE215120'"
      ],
      "text/latex": [
       "'GSE215120'"
      ],
      "text/markdown": [
       "'GSE215120'"
      ],
      "text/plain": [
       "[1] \"GSE215120\""
      ]
     },
     "metadata": {},
     "output_type": "display_data"
    },
    {
     "data": {
      "text/html": [
       "<table class=\"dataframe\">\n",
       "<caption>A data.frame: 6 × 14</caption>\n",
       "<thead>\n",
       "\t<tr><th></th><th scope=col>orig.ident</th><th scope=col>nCount_RNA</th><th scope=col>nFeature_RNA</th><th scope=col>sample_type</th><th scope=col>cancer_type</th><th scope=col>patient_id</th><th scope=col>sample_id</th><th scope=col>percent.mt</th><th scope=col>RNA_snn_res.0.2</th><th scope=col>seurat_clusters</th><th scope=col>site</th><th scope=col>sample_type_major</th><th scope=col>cancer_subtype</th><th scope=col>integration_id</th></tr>\n",
       "\t<tr><th></th><th scope=col>&lt;chr&gt;</th><th scope=col>&lt;dbl&gt;</th><th scope=col>&lt;int&gt;</th><th scope=col>&lt;chr&gt;</th><th scope=col>&lt;chr&gt;</th><th scope=col>&lt;chr&gt;</th><th scope=col>&lt;chr&gt;</th><th scope=col>&lt;dbl&gt;</th><th scope=col>&lt;chr&gt;</th><th scope=col>&lt;chr&gt;</th><th scope=col>&lt;chr&gt;</th><th scope=col>&lt;chr&gt;</th><th scope=col>&lt;chr&gt;</th><th scope=col>&lt;chr&gt;</th></tr>\n",
       "</thead>\n",
       "<tbody>\n",
       "\t<tr><th scope=row>GSE215120_AM1_AAACCTGGTTGCTCCT-1</th><td>GSE215120</td><td>20298</td><td>3789</td><td>tumour</td><td>Acral Melanoma</td><td>AM1</td><td>GSE215120_Acral_MEL_AM1</td><td>0.9754656</td><td>12</td><td>12</td><td>skin</td><td>primary tumour</td><td>Acral Melanoma</td><td>GSE215120_Acral_MEL_AM1</td></tr>\n",
       "\t<tr><th scope=row>GSE215120_AM1_AAAGATGTCCAAATGC-1</th><td>GSE215120</td><td> 5574</td><td>1721</td><td>tumour</td><td>Acral Melanoma</td><td>AM1</td><td>GSE215120_Acral_MEL_AM1</td><td>6.0459275</td><td>12</td><td>12</td><td>skin</td><td>primary tumour</td><td>Acral Melanoma</td><td>GSE215120_Acral_MEL_AM1</td></tr>\n",
       "\t<tr><th scope=row>GSE215120_AM1_AAAGTAGTCGGTGTTA-1</th><td>GSE215120</td><td>13432</td><td>2759</td><td>tumour</td><td>Acral Melanoma</td><td>AM1</td><td>GSE215120_Acral_MEL_AM1</td><td>2.1515783</td><td>12</td><td>12</td><td>skin</td><td>primary tumour</td><td>Acral Melanoma</td><td>GSE215120_Acral_MEL_AM1</td></tr>\n",
       "\t<tr><th scope=row>GSE215120_AM1_AAATGCCCAGAGCCAA-1</th><td>GSE215120</td><td>17143</td><td>2659</td><td>tumour</td><td>Acral Melanoma</td><td>AM1</td><td>GSE215120_Acral_MEL_AM1</td><td>1.2249898</td><td>12</td><td>12</td><td>skin</td><td>primary tumour</td><td>Acral Melanoma</td><td>GSE215120_Acral_MEL_AM1</td></tr>\n",
       "\t<tr><th scope=row>GSE215120_AM1_AAATGCCGTTTGGCGC-1</th><td>GSE215120</td><td> 3603</td><td>1012</td><td>tumour</td><td>Acral Melanoma</td><td>AM1</td><td>GSE215120_Acral_MEL_AM1</td><td>3.6081044</td><td>12</td><td>12</td><td>skin</td><td>primary tumour</td><td>Acral Melanoma</td><td>GSE215120_Acral_MEL_AM1</td></tr>\n",
       "\t<tr><th scope=row>GSE215120_AM1_AAATGCCTCATGTCCC-1</th><td>GSE215120</td><td>14482</td><td>2882</td><td>tumour</td><td>Acral Melanoma</td><td>AM1</td><td>GSE215120_Acral_MEL_AM1</td><td>1.0357685</td><td>12</td><td>12</td><td>skin</td><td>primary tumour</td><td>Acral Melanoma</td><td>GSE215120_Acral_MEL_AM1</td></tr>\n",
       "</tbody>\n",
       "</table>\n"
      ],
      "text/latex": [
       "A data.frame: 6 × 14\n",
       "\\begin{tabular}{r|llllllllllllll}\n",
       "  & orig.ident & nCount\\_RNA & nFeature\\_RNA & sample\\_type & cancer\\_type & patient\\_id & sample\\_id & percent.mt & RNA\\_snn\\_res.0.2 & seurat\\_clusters & site & sample\\_type\\_major & cancer\\_subtype & integration\\_id\\\\\n",
       "  & <chr> & <dbl> & <int> & <chr> & <chr> & <chr> & <chr> & <dbl> & <chr> & <chr> & <chr> & <chr> & <chr> & <chr>\\\\\n",
       "\\hline\n",
       "\tGSE215120\\_AM1\\_AAACCTGGTTGCTCCT-1 & GSE215120 & 20298 & 3789 & tumour & Acral Melanoma & AM1 & GSE215120\\_Acral\\_MEL\\_AM1 & 0.9754656 & 12 & 12 & skin & primary tumour & Acral Melanoma & GSE215120\\_Acral\\_MEL\\_AM1\\\\\n",
       "\tGSE215120\\_AM1\\_AAAGATGTCCAAATGC-1 & GSE215120 &  5574 & 1721 & tumour & Acral Melanoma & AM1 & GSE215120\\_Acral\\_MEL\\_AM1 & 6.0459275 & 12 & 12 & skin & primary tumour & Acral Melanoma & GSE215120\\_Acral\\_MEL\\_AM1\\\\\n",
       "\tGSE215120\\_AM1\\_AAAGTAGTCGGTGTTA-1 & GSE215120 & 13432 & 2759 & tumour & Acral Melanoma & AM1 & GSE215120\\_Acral\\_MEL\\_AM1 & 2.1515783 & 12 & 12 & skin & primary tumour & Acral Melanoma & GSE215120\\_Acral\\_MEL\\_AM1\\\\\n",
       "\tGSE215120\\_AM1\\_AAATGCCCAGAGCCAA-1 & GSE215120 & 17143 & 2659 & tumour & Acral Melanoma & AM1 & GSE215120\\_Acral\\_MEL\\_AM1 & 1.2249898 & 12 & 12 & skin & primary tumour & Acral Melanoma & GSE215120\\_Acral\\_MEL\\_AM1\\\\\n",
       "\tGSE215120\\_AM1\\_AAATGCCGTTTGGCGC-1 & GSE215120 &  3603 & 1012 & tumour & Acral Melanoma & AM1 & GSE215120\\_Acral\\_MEL\\_AM1 & 3.6081044 & 12 & 12 & skin & primary tumour & Acral Melanoma & GSE215120\\_Acral\\_MEL\\_AM1\\\\\n",
       "\tGSE215120\\_AM1\\_AAATGCCTCATGTCCC-1 & GSE215120 & 14482 & 2882 & tumour & Acral Melanoma & AM1 & GSE215120\\_Acral\\_MEL\\_AM1 & 1.0357685 & 12 & 12 & skin & primary tumour & Acral Melanoma & GSE215120\\_Acral\\_MEL\\_AM1\\\\\n",
       "\\end{tabular}\n"
      ],
      "text/markdown": [
       "\n",
       "A data.frame: 6 × 14\n",
       "\n",
       "| <!--/--> | orig.ident &lt;chr&gt; | nCount_RNA &lt;dbl&gt; | nFeature_RNA &lt;int&gt; | sample_type &lt;chr&gt; | cancer_type &lt;chr&gt; | patient_id &lt;chr&gt; | sample_id &lt;chr&gt; | percent.mt &lt;dbl&gt; | RNA_snn_res.0.2 &lt;chr&gt; | seurat_clusters &lt;chr&gt; | site &lt;chr&gt; | sample_type_major &lt;chr&gt; | cancer_subtype &lt;chr&gt; | integration_id &lt;chr&gt; |\n",
       "|---|---|---|---|---|---|---|---|---|---|---|---|---|---|---|\n",
       "| GSE215120_AM1_AAACCTGGTTGCTCCT-1 | GSE215120 | 20298 | 3789 | tumour | Acral Melanoma | AM1 | GSE215120_Acral_MEL_AM1 | 0.9754656 | 12 | 12 | skin | primary tumour | Acral Melanoma | GSE215120_Acral_MEL_AM1 |\n",
       "| GSE215120_AM1_AAAGATGTCCAAATGC-1 | GSE215120 |  5574 | 1721 | tumour | Acral Melanoma | AM1 | GSE215120_Acral_MEL_AM1 | 6.0459275 | 12 | 12 | skin | primary tumour | Acral Melanoma | GSE215120_Acral_MEL_AM1 |\n",
       "| GSE215120_AM1_AAAGTAGTCGGTGTTA-1 | GSE215120 | 13432 | 2759 | tumour | Acral Melanoma | AM1 | GSE215120_Acral_MEL_AM1 | 2.1515783 | 12 | 12 | skin | primary tumour | Acral Melanoma | GSE215120_Acral_MEL_AM1 |\n",
       "| GSE215120_AM1_AAATGCCCAGAGCCAA-1 | GSE215120 | 17143 | 2659 | tumour | Acral Melanoma | AM1 | GSE215120_Acral_MEL_AM1 | 1.2249898 | 12 | 12 | skin | primary tumour | Acral Melanoma | GSE215120_Acral_MEL_AM1 |\n",
       "| GSE215120_AM1_AAATGCCGTTTGGCGC-1 | GSE215120 |  3603 | 1012 | tumour | Acral Melanoma | AM1 | GSE215120_Acral_MEL_AM1 | 3.6081044 | 12 | 12 | skin | primary tumour | Acral Melanoma | GSE215120_Acral_MEL_AM1 |\n",
       "| GSE215120_AM1_AAATGCCTCATGTCCC-1 | GSE215120 | 14482 | 2882 | tumour | Acral Melanoma | AM1 | GSE215120_Acral_MEL_AM1 | 1.0357685 | 12 | 12 | skin | primary tumour | Acral Melanoma | GSE215120_Acral_MEL_AM1 |\n",
       "\n"
      ],
      "text/plain": [
       "                                 orig.ident nCount_RNA nFeature_RNA sample_type\n",
       "GSE215120_AM1_AAACCTGGTTGCTCCT-1 GSE215120  20298      3789         tumour     \n",
       "GSE215120_AM1_AAAGATGTCCAAATGC-1 GSE215120   5574      1721         tumour     \n",
       "GSE215120_AM1_AAAGTAGTCGGTGTTA-1 GSE215120  13432      2759         tumour     \n",
       "GSE215120_AM1_AAATGCCCAGAGCCAA-1 GSE215120  17143      2659         tumour     \n",
       "GSE215120_AM1_AAATGCCGTTTGGCGC-1 GSE215120   3603      1012         tumour     \n",
       "GSE215120_AM1_AAATGCCTCATGTCCC-1 GSE215120  14482      2882         tumour     \n",
       "                                 cancer_type    patient_id\n",
       "GSE215120_AM1_AAACCTGGTTGCTCCT-1 Acral Melanoma AM1       \n",
       "GSE215120_AM1_AAAGATGTCCAAATGC-1 Acral Melanoma AM1       \n",
       "GSE215120_AM1_AAAGTAGTCGGTGTTA-1 Acral Melanoma AM1       \n",
       "GSE215120_AM1_AAATGCCCAGAGCCAA-1 Acral Melanoma AM1       \n",
       "GSE215120_AM1_AAATGCCGTTTGGCGC-1 Acral Melanoma AM1       \n",
       "GSE215120_AM1_AAATGCCTCATGTCCC-1 Acral Melanoma AM1       \n",
       "                                 sample_id               percent.mt\n",
       "GSE215120_AM1_AAACCTGGTTGCTCCT-1 GSE215120_Acral_MEL_AM1 0.9754656 \n",
       "GSE215120_AM1_AAAGATGTCCAAATGC-1 GSE215120_Acral_MEL_AM1 6.0459275 \n",
       "GSE215120_AM1_AAAGTAGTCGGTGTTA-1 GSE215120_Acral_MEL_AM1 2.1515783 \n",
       "GSE215120_AM1_AAATGCCCAGAGCCAA-1 GSE215120_Acral_MEL_AM1 1.2249898 \n",
       "GSE215120_AM1_AAATGCCGTTTGGCGC-1 GSE215120_Acral_MEL_AM1 3.6081044 \n",
       "GSE215120_AM1_AAATGCCTCATGTCCC-1 GSE215120_Acral_MEL_AM1 1.0357685 \n",
       "                                 RNA_snn_res.0.2 seurat_clusters site\n",
       "GSE215120_AM1_AAACCTGGTTGCTCCT-1 12              12              skin\n",
       "GSE215120_AM1_AAAGATGTCCAAATGC-1 12              12              skin\n",
       "GSE215120_AM1_AAAGTAGTCGGTGTTA-1 12              12              skin\n",
       "GSE215120_AM1_AAATGCCCAGAGCCAA-1 12              12              skin\n",
       "GSE215120_AM1_AAATGCCGTTTGGCGC-1 12              12              skin\n",
       "GSE215120_AM1_AAATGCCTCATGTCCC-1 12              12              skin\n",
       "                                 sample_type_major cancer_subtype\n",
       "GSE215120_AM1_AAACCTGGTTGCTCCT-1 primary tumour    Acral Melanoma\n",
       "GSE215120_AM1_AAAGATGTCCAAATGC-1 primary tumour    Acral Melanoma\n",
       "GSE215120_AM1_AAAGTAGTCGGTGTTA-1 primary tumour    Acral Melanoma\n",
       "GSE215120_AM1_AAATGCCCAGAGCCAA-1 primary tumour    Acral Melanoma\n",
       "GSE215120_AM1_AAATGCCGTTTGGCGC-1 primary tumour    Acral Melanoma\n",
       "GSE215120_AM1_AAATGCCTCATGTCCC-1 primary tumour    Acral Melanoma\n",
       "                                 integration_id         \n",
       "GSE215120_AM1_AAACCTGGTTGCTCCT-1 GSE215120_Acral_MEL_AM1\n",
       "GSE215120_AM1_AAAGATGTCCAAATGC-1 GSE215120_Acral_MEL_AM1\n",
       "GSE215120_AM1_AAAGTAGTCGGTGTTA-1 GSE215120_Acral_MEL_AM1\n",
       "GSE215120_AM1_AAATGCCCAGAGCCAA-1 GSE215120_Acral_MEL_AM1\n",
       "GSE215120_AM1_AAATGCCGTTTGGCGC-1 GSE215120_Acral_MEL_AM1\n",
       "GSE215120_AM1_AAATGCCTCATGTCCC-1 GSE215120_Acral_MEL_AM1"
      ]
     },
     "metadata": {},
     "output_type": "display_data"
    },
    {
     "data": {
      "text/html": [
       "<table class=\"dataframe\">\n",
       "<caption>A data.frame: 6 × 14</caption>\n",
       "<thead>\n",
       "\t<tr><th></th><th scope=col>orig.ident</th><th scope=col>nCount_RNA</th><th scope=col>nFeature_RNA</th><th scope=col>sample_type</th><th scope=col>cancer_type</th><th scope=col>patient_id</th><th scope=col>sample_id</th><th scope=col>percent.mt</th><th scope=col>RNA_snn_res.0.2</th><th scope=col>seurat_clusters</th><th scope=col>site</th><th scope=col>sample_type_major</th><th scope=col>cancer_subtype</th><th scope=col>integration_id</th></tr>\n",
       "\t<tr><th></th><th scope=col>&lt;chr&gt;</th><th scope=col>&lt;dbl&gt;</th><th scope=col>&lt;int&gt;</th><th scope=col>&lt;chr&gt;</th><th scope=col>&lt;chr&gt;</th><th scope=col>&lt;chr&gt;</th><th scope=col>&lt;chr&gt;</th><th scope=col>&lt;dbl&gt;</th><th scope=col>&lt;chr&gt;</th><th scope=col>&lt;chr&gt;</th><th scope=col>&lt;chr&gt;</th><th scope=col>&lt;chr&gt;</th><th scope=col>&lt;chr&gt;</th><th scope=col>&lt;chr&gt;</th></tr>\n",
       "</thead>\n",
       "<tbody>\n",
       "\t<tr><th scope=row>GSE215120_CM1_mets_TTGGTTTAGTGCAACG-1</th><td>GSE215120</td><td> 627</td><td> 355</td><td>LN metastasis</td><td>Cutaneous Melanoma</td><td>CM1</td><td>GSE215120_MEL_mets_CM1</td><td> 3.668262</td><td>11</td><td>11</td><td>lymph node</td><td>metastatic tumour</td><td>Melanoma</td><td>GSE215120_MEL_mets_CM1</td></tr>\n",
       "\t<tr><th scope=row>GSE215120_CM1_mets_TTTAGTCAGTTCTCTT-1</th><td>GSE215120</td><td>2740</td><td> 748</td><td>LN metastasis</td><td>Cutaneous Melanoma</td><td>CM1</td><td>GSE215120_MEL_mets_CM1</td><td> 4.197080</td><td>11</td><td>11</td><td>lymph node</td><td>metastatic tumour</td><td>Melanoma</td><td>GSE215120_MEL_mets_CM1</td></tr>\n",
       "\t<tr><th scope=row>GSE215120_CM1_mets_TTTCACACACCGGAAA-1</th><td>GSE215120</td><td>1174</td><td> 529</td><td>LN metastasis</td><td>Cutaneous Melanoma</td><td>CM1</td><td>GSE215120_MEL_mets_CM1</td><td>22.146508</td><td>11</td><td>11</td><td>lymph node</td><td>metastatic tumour</td><td>Melanoma</td><td>GSE215120_MEL_mets_CM1</td></tr>\n",
       "\t<tr><th scope=row>GSE215120_CM1_mets_TTTCATGTCCACTAGA-1</th><td>GSE215120</td><td> 732</td><td> 395</td><td>LN metastasis</td><td>Cutaneous Melanoma</td><td>CM1</td><td>GSE215120_MEL_mets_CM1</td><td> 2.322404</td><td>11</td><td>11</td><td>lymph node</td><td>metastatic tumour</td><td>Melanoma</td><td>GSE215120_MEL_mets_CM1</td></tr>\n",
       "\t<tr><th scope=row>GSE215120_CM1_mets_TTTGGAGGTTGAGAGC-1</th><td>GSE215120</td><td>4265</td><td>1376</td><td>LN metastasis</td><td>Cutaneous Melanoma</td><td>CM1</td><td>GSE215120_MEL_mets_CM1</td><td> 4.220399</td><td>11</td><td>11</td><td>lymph node</td><td>metastatic tumour</td><td>Melanoma</td><td>GSE215120_MEL_mets_CM1</td></tr>\n",
       "\t<tr><th scope=row>GSE215120_CM1_mets_TTTGGTTTCGAGGCAA-1</th><td>GSE215120</td><td> 671</td><td> 384</td><td>LN metastasis</td><td>Cutaneous Melanoma</td><td>CM1</td><td>GSE215120_MEL_mets_CM1</td><td> 1.043219</td><td>11</td><td>11</td><td>lymph node</td><td>metastatic tumour</td><td>Melanoma</td><td>GSE215120_MEL_mets_CM1</td></tr>\n",
       "</tbody>\n",
       "</table>\n"
      ],
      "text/latex": [
       "A data.frame: 6 × 14\n",
       "\\begin{tabular}{r|llllllllllllll}\n",
       "  & orig.ident & nCount\\_RNA & nFeature\\_RNA & sample\\_type & cancer\\_type & patient\\_id & sample\\_id & percent.mt & RNA\\_snn\\_res.0.2 & seurat\\_clusters & site & sample\\_type\\_major & cancer\\_subtype & integration\\_id\\\\\n",
       "  & <chr> & <dbl> & <int> & <chr> & <chr> & <chr> & <chr> & <dbl> & <chr> & <chr> & <chr> & <chr> & <chr> & <chr>\\\\\n",
       "\\hline\n",
       "\tGSE215120\\_CM1\\_mets\\_TTGGTTTAGTGCAACG-1 & GSE215120 &  627 &  355 & LN metastasis & Cutaneous Melanoma & CM1 & GSE215120\\_MEL\\_mets\\_CM1 &  3.668262 & 11 & 11 & lymph node & metastatic tumour & Melanoma & GSE215120\\_MEL\\_mets\\_CM1\\\\\n",
       "\tGSE215120\\_CM1\\_mets\\_TTTAGTCAGTTCTCTT-1 & GSE215120 & 2740 &  748 & LN metastasis & Cutaneous Melanoma & CM1 & GSE215120\\_MEL\\_mets\\_CM1 &  4.197080 & 11 & 11 & lymph node & metastatic tumour & Melanoma & GSE215120\\_MEL\\_mets\\_CM1\\\\\n",
       "\tGSE215120\\_CM1\\_mets\\_TTTCACACACCGGAAA-1 & GSE215120 & 1174 &  529 & LN metastasis & Cutaneous Melanoma & CM1 & GSE215120\\_MEL\\_mets\\_CM1 & 22.146508 & 11 & 11 & lymph node & metastatic tumour & Melanoma & GSE215120\\_MEL\\_mets\\_CM1\\\\\n",
       "\tGSE215120\\_CM1\\_mets\\_TTTCATGTCCACTAGA-1 & GSE215120 &  732 &  395 & LN metastasis & Cutaneous Melanoma & CM1 & GSE215120\\_MEL\\_mets\\_CM1 &  2.322404 & 11 & 11 & lymph node & metastatic tumour & Melanoma & GSE215120\\_MEL\\_mets\\_CM1\\\\\n",
       "\tGSE215120\\_CM1\\_mets\\_TTTGGAGGTTGAGAGC-1 & GSE215120 & 4265 & 1376 & LN metastasis & Cutaneous Melanoma & CM1 & GSE215120\\_MEL\\_mets\\_CM1 &  4.220399 & 11 & 11 & lymph node & metastatic tumour & Melanoma & GSE215120\\_MEL\\_mets\\_CM1\\\\\n",
       "\tGSE215120\\_CM1\\_mets\\_TTTGGTTTCGAGGCAA-1 & GSE215120 &  671 &  384 & LN metastasis & Cutaneous Melanoma & CM1 & GSE215120\\_MEL\\_mets\\_CM1 &  1.043219 & 11 & 11 & lymph node & metastatic tumour & Melanoma & GSE215120\\_MEL\\_mets\\_CM1\\\\\n",
       "\\end{tabular}\n"
      ],
      "text/markdown": [
       "\n",
       "A data.frame: 6 × 14\n",
       "\n",
       "| <!--/--> | orig.ident &lt;chr&gt; | nCount_RNA &lt;dbl&gt; | nFeature_RNA &lt;int&gt; | sample_type &lt;chr&gt; | cancer_type &lt;chr&gt; | patient_id &lt;chr&gt; | sample_id &lt;chr&gt; | percent.mt &lt;dbl&gt; | RNA_snn_res.0.2 &lt;chr&gt; | seurat_clusters &lt;chr&gt; | site &lt;chr&gt; | sample_type_major &lt;chr&gt; | cancer_subtype &lt;chr&gt; | integration_id &lt;chr&gt; |\n",
       "|---|---|---|---|---|---|---|---|---|---|---|---|---|---|---|\n",
       "| GSE215120_CM1_mets_TTGGTTTAGTGCAACG-1 | GSE215120 |  627 |  355 | LN metastasis | Cutaneous Melanoma | CM1 | GSE215120_MEL_mets_CM1 |  3.668262 | 11 | 11 | lymph node | metastatic tumour | Melanoma | GSE215120_MEL_mets_CM1 |\n",
       "| GSE215120_CM1_mets_TTTAGTCAGTTCTCTT-1 | GSE215120 | 2740 |  748 | LN metastasis | Cutaneous Melanoma | CM1 | GSE215120_MEL_mets_CM1 |  4.197080 | 11 | 11 | lymph node | metastatic tumour | Melanoma | GSE215120_MEL_mets_CM1 |\n",
       "| GSE215120_CM1_mets_TTTCACACACCGGAAA-1 | GSE215120 | 1174 |  529 | LN metastasis | Cutaneous Melanoma | CM1 | GSE215120_MEL_mets_CM1 | 22.146508 | 11 | 11 | lymph node | metastatic tumour | Melanoma | GSE215120_MEL_mets_CM1 |\n",
       "| GSE215120_CM1_mets_TTTCATGTCCACTAGA-1 | GSE215120 |  732 |  395 | LN metastasis | Cutaneous Melanoma | CM1 | GSE215120_MEL_mets_CM1 |  2.322404 | 11 | 11 | lymph node | metastatic tumour | Melanoma | GSE215120_MEL_mets_CM1 |\n",
       "| GSE215120_CM1_mets_TTTGGAGGTTGAGAGC-1 | GSE215120 | 4265 | 1376 | LN metastasis | Cutaneous Melanoma | CM1 | GSE215120_MEL_mets_CM1 |  4.220399 | 11 | 11 | lymph node | metastatic tumour | Melanoma | GSE215120_MEL_mets_CM1 |\n",
       "| GSE215120_CM1_mets_TTTGGTTTCGAGGCAA-1 | GSE215120 |  671 |  384 | LN metastasis | Cutaneous Melanoma | CM1 | GSE215120_MEL_mets_CM1 |  1.043219 | 11 | 11 | lymph node | metastatic tumour | Melanoma | GSE215120_MEL_mets_CM1 |\n",
       "\n"
      ],
      "text/plain": [
       "                                      orig.ident nCount_RNA nFeature_RNA\n",
       "GSE215120_CM1_mets_TTGGTTTAGTGCAACG-1 GSE215120   627        355        \n",
       "GSE215120_CM1_mets_TTTAGTCAGTTCTCTT-1 GSE215120  2740        748        \n",
       "GSE215120_CM1_mets_TTTCACACACCGGAAA-1 GSE215120  1174        529        \n",
       "GSE215120_CM1_mets_TTTCATGTCCACTAGA-1 GSE215120   732        395        \n",
       "GSE215120_CM1_mets_TTTGGAGGTTGAGAGC-1 GSE215120  4265       1376        \n",
       "GSE215120_CM1_mets_TTTGGTTTCGAGGCAA-1 GSE215120   671        384        \n",
       "                                      sample_type   cancer_type       \n",
       "GSE215120_CM1_mets_TTGGTTTAGTGCAACG-1 LN metastasis Cutaneous Melanoma\n",
       "GSE215120_CM1_mets_TTTAGTCAGTTCTCTT-1 LN metastasis Cutaneous Melanoma\n",
       "GSE215120_CM1_mets_TTTCACACACCGGAAA-1 LN metastasis Cutaneous Melanoma\n",
       "GSE215120_CM1_mets_TTTCATGTCCACTAGA-1 LN metastasis Cutaneous Melanoma\n",
       "GSE215120_CM1_mets_TTTGGAGGTTGAGAGC-1 LN metastasis Cutaneous Melanoma\n",
       "GSE215120_CM1_mets_TTTGGTTTCGAGGCAA-1 LN metastasis Cutaneous Melanoma\n",
       "                                      patient_id sample_id             \n",
       "GSE215120_CM1_mets_TTGGTTTAGTGCAACG-1 CM1        GSE215120_MEL_mets_CM1\n",
       "GSE215120_CM1_mets_TTTAGTCAGTTCTCTT-1 CM1        GSE215120_MEL_mets_CM1\n",
       "GSE215120_CM1_mets_TTTCACACACCGGAAA-1 CM1        GSE215120_MEL_mets_CM1\n",
       "GSE215120_CM1_mets_TTTCATGTCCACTAGA-1 CM1        GSE215120_MEL_mets_CM1\n",
       "GSE215120_CM1_mets_TTTGGAGGTTGAGAGC-1 CM1        GSE215120_MEL_mets_CM1\n",
       "GSE215120_CM1_mets_TTTGGTTTCGAGGCAA-1 CM1        GSE215120_MEL_mets_CM1\n",
       "                                      percent.mt RNA_snn_res.0.2\n",
       "GSE215120_CM1_mets_TTGGTTTAGTGCAACG-1  3.668262  11             \n",
       "GSE215120_CM1_mets_TTTAGTCAGTTCTCTT-1  4.197080  11             \n",
       "GSE215120_CM1_mets_TTTCACACACCGGAAA-1 22.146508  11             \n",
       "GSE215120_CM1_mets_TTTCATGTCCACTAGA-1  2.322404  11             \n",
       "GSE215120_CM1_mets_TTTGGAGGTTGAGAGC-1  4.220399  11             \n",
       "GSE215120_CM1_mets_TTTGGTTTCGAGGCAA-1  1.043219  11             \n",
       "                                      seurat_clusters site      \n",
       "GSE215120_CM1_mets_TTGGTTTAGTGCAACG-1 11              lymph node\n",
       "GSE215120_CM1_mets_TTTAGTCAGTTCTCTT-1 11              lymph node\n",
       "GSE215120_CM1_mets_TTTCACACACCGGAAA-1 11              lymph node\n",
       "GSE215120_CM1_mets_TTTCATGTCCACTAGA-1 11              lymph node\n",
       "GSE215120_CM1_mets_TTTGGAGGTTGAGAGC-1 11              lymph node\n",
       "GSE215120_CM1_mets_TTTGGTTTCGAGGCAA-1 11              lymph node\n",
       "                                      sample_type_major cancer_subtype\n",
       "GSE215120_CM1_mets_TTGGTTTAGTGCAACG-1 metastatic tumour Melanoma      \n",
       "GSE215120_CM1_mets_TTTAGTCAGTTCTCTT-1 metastatic tumour Melanoma      \n",
       "GSE215120_CM1_mets_TTTCACACACCGGAAA-1 metastatic tumour Melanoma      \n",
       "GSE215120_CM1_mets_TTTCATGTCCACTAGA-1 metastatic tumour Melanoma      \n",
       "GSE215120_CM1_mets_TTTGGAGGTTGAGAGC-1 metastatic tumour Melanoma      \n",
       "GSE215120_CM1_mets_TTTGGTTTCGAGGCAA-1 metastatic tumour Melanoma      \n",
       "                                      integration_id        \n",
       "GSE215120_CM1_mets_TTGGTTTAGTGCAACG-1 GSE215120_MEL_mets_CM1\n",
       "GSE215120_CM1_mets_TTTAGTCAGTTCTCTT-1 GSE215120_MEL_mets_CM1\n",
       "GSE215120_CM1_mets_TTTCACACACCGGAAA-1 GSE215120_MEL_mets_CM1\n",
       "GSE215120_CM1_mets_TTTCATGTCCACTAGA-1 GSE215120_MEL_mets_CM1\n",
       "GSE215120_CM1_mets_TTTGGAGGTTGAGAGC-1 GSE215120_MEL_mets_CM1\n",
       "GSE215120_CM1_mets_TTTGGTTTCGAGGCAA-1 GSE215120_MEL_mets_CM1"
      ]
     },
     "metadata": {},
     "output_type": "display_data"
    },
    {
     "data": {
      "text/plain": [
       "\n",
       "GSE215120_Acral_MEL_AM1 GSE215120_Acral_MEL_AM3 GSE215120_Acral_MEL_AM5 \n",
       "                    260                     101                     279 \n",
       "GSE215120_Acral_MEL_AM6   GSE215120_Cut_MEL_CM1   GSE215120_Cut_MEL_CM3 \n",
       "                    115                     133                     100 \n",
       " GSE215120_MEL_mets_CM1 \n",
       "                    162 "
      ]
     },
     "metadata": {},
     "output_type": "display_data"
    }
   ],
   "source": [
    "#record number of cells\n",
    "MEL\n",
    "MEL@project.name\n",
    "head(MEL@meta.data)\n",
    "tail(MEL@meta.data)\n",
    "table(MEL$integration_id)"
   ]
  },
  {
   "cell_type": "code",
   "execution_count": 145,
   "metadata": {
    "vscode": {
     "languageId": "r"
    }
   },
   "outputs": [],
   "source": [
    "#re-export seurat object ready for integration\n",
    "saveRDS(MEL, \"/scratch/user/s4436039/scdata/Myeloid_Cells/Myeloid_Cells_Integrate/GSE215120_myeloid_int.RDS\")"
   ]
  },
  {
   "cell_type": "code",
   "execution_count": 146,
   "metadata": {
    "vscode": {
     "languageId": "r"
    }
   },
   "outputs": [],
   "source": [
    "#remove all objects in R\n",
    "rm(list = ls())"
   ]
  },
  {
   "cell_type": "markdown",
   "metadata": {},
   "source": [
    "## PRJNA907381"
   ]
  },
  {
   "cell_type": "code",
   "execution_count": 3,
   "metadata": {
    "vscode": {
     "languageId": "r"
    }
   },
   "outputs": [],
   "source": [
    "MEL <- readRDS(\"/scratch/user/s4436039/scdata/Myeloid_Cells/PRJNA907381_myeloid.RDS\")"
   ]
  },
  {
   "cell_type": "code",
   "execution_count": 4,
   "metadata": {
    "vscode": {
     "languageId": "r"
    }
   },
   "outputs": [
    {
     "data": {
      "text/plain": [
       "An object of class Seurat \n",
       "36601 features across 2723 samples within 1 assay \n",
       "Active assay: RNA (36601 features, 2000 variable features)\n",
       " 17 layers present: counts.1, counts.2, counts.3, counts.4, counts.5, counts.6, counts.7, counts.8, data.1, data.2, data.3, data.4, data.5, data.6, data.7, data.8, scale.data\n",
       " 2 dimensional reductions calculated: pca, umap"
      ]
     },
     "metadata": {},
     "output_type": "display_data"
    },
    {
     "data": {
      "text/html": [
       "'PRJNA907381'"
      ],
      "text/latex": [
       "'PRJNA907381'"
      ],
      "text/markdown": [
       "'PRJNA907381'"
      ],
      "text/plain": [
       "[1] \"PRJNA907381\""
      ]
     },
     "metadata": {},
     "output_type": "display_data"
    },
    {
     "data": {
      "text/html": [
       "<table class=\"dataframe\">\n",
       "<caption>A data.frame: 6 × 10</caption>\n",
       "<thead>\n",
       "\t<tr><th></th><th scope=col>orig.ident</th><th scope=col>nCount_RNA</th><th scope=col>nFeature_RNA</th><th scope=col>sample_type</th><th scope=col>cancer_type</th><th scope=col>patient_id</th><th scope=col>sample_id</th><th scope=col>percent.mt</th><th scope=col>RNA_snn_res.0.2</th><th scope=col>seurat_clusters</th></tr>\n",
       "\t<tr><th></th><th scope=col>&lt;chr&gt;</th><th scope=col>&lt;dbl&gt;</th><th scope=col>&lt;int&gt;</th><th scope=col>&lt;chr&gt;</th><th scope=col>&lt;chr&gt;</th><th scope=col>&lt;chr&gt;</th><th scope=col>&lt;chr&gt;</th><th scope=col>&lt;dbl&gt;</th><th scope=col>&lt;fct&gt;</th><th scope=col>&lt;fct&gt;</th></tr>\n",
       "</thead>\n",
       "<tbody>\n",
       "\t<tr><th scope=row>PRJNA907381_MEL022_iLN_AAAGAACCAGCGCGTT-1</th><td>PRJNA907381</td><td>17285</td><td>3704</td><td>LN mets</td><td>Metastatic Melanoma</td><td>MEL022</td><td>PRJNA907381_MEL022_iLN</td><td>2.100087</td><td>6</td><td>6</td></tr>\n",
       "\t<tr><th scope=row>PRJNA907381_MEL022_iLN_AAAGGGCTCCATAGAC-1</th><td>PRJNA907381</td><td>42925</td><td>6544</td><td>LN mets</td><td>Metastatic Melanoma</td><td>MEL022</td><td>PRJNA907381_MEL022_iLN</td><td>3.934770</td><td>6</td><td>6</td></tr>\n",
       "\t<tr><th scope=row>PRJNA907381_MEL022_iLN_AACAAAGCAAGTATAG-1</th><td>PRJNA907381</td><td>16549</td><td>3569</td><td>LN mets</td><td>Metastatic Melanoma</td><td>MEL022</td><td>PRJNA907381_MEL022_iLN</td><td>6.689226</td><td>6</td><td>6</td></tr>\n",
       "\t<tr><th scope=row>PRJNA907381_MEL022_iLN_AACAAGACAGGATTCT-1</th><td>PRJNA907381</td><td>18108</td><td>3854</td><td>LN mets</td><td>Metastatic Melanoma</td><td>MEL022</td><td>PRJNA907381_MEL022_iLN</td><td>4.870775</td><td>6</td><td>6</td></tr>\n",
       "\t<tr><th scope=row>PRJNA907381_MEL022_iLN_AACCACATCTTTCCAA-1</th><td>PRJNA907381</td><td>31754</td><td>5097</td><td>LN mets</td><td>Metastatic Melanoma</td><td>MEL022</td><td>PRJNA907381_MEL022_iLN</td><td>3.231089</td><td>6</td><td>6</td></tr>\n",
       "\t<tr><th scope=row>PRJNA907381_MEL022_iLN_AACCATGAGAAGTCTA-1</th><td>PRJNA907381</td><td>26158</td><td>4705</td><td>LN mets</td><td>Metastatic Melanoma</td><td>MEL022</td><td>PRJNA907381_MEL022_iLN</td><td>4.908632</td><td>6</td><td>6</td></tr>\n",
       "</tbody>\n",
       "</table>\n"
      ],
      "text/latex": [
       "A data.frame: 6 × 10\n",
       "\\begin{tabular}{r|llllllllll}\n",
       "  & orig.ident & nCount\\_RNA & nFeature\\_RNA & sample\\_type & cancer\\_type & patient\\_id & sample\\_id & percent.mt & RNA\\_snn\\_res.0.2 & seurat\\_clusters\\\\\n",
       "  & <chr> & <dbl> & <int> & <chr> & <chr> & <chr> & <chr> & <dbl> & <fct> & <fct>\\\\\n",
       "\\hline\n",
       "\tPRJNA907381\\_MEL022\\_iLN\\_AAAGAACCAGCGCGTT-1 & PRJNA907381 & 17285 & 3704 & LN mets & Metastatic Melanoma & MEL022 & PRJNA907381\\_MEL022\\_iLN & 2.100087 & 6 & 6\\\\\n",
       "\tPRJNA907381\\_MEL022\\_iLN\\_AAAGGGCTCCATAGAC-1 & PRJNA907381 & 42925 & 6544 & LN mets & Metastatic Melanoma & MEL022 & PRJNA907381\\_MEL022\\_iLN & 3.934770 & 6 & 6\\\\\n",
       "\tPRJNA907381\\_MEL022\\_iLN\\_AACAAAGCAAGTATAG-1 & PRJNA907381 & 16549 & 3569 & LN mets & Metastatic Melanoma & MEL022 & PRJNA907381\\_MEL022\\_iLN & 6.689226 & 6 & 6\\\\\n",
       "\tPRJNA907381\\_MEL022\\_iLN\\_AACAAGACAGGATTCT-1 & PRJNA907381 & 18108 & 3854 & LN mets & Metastatic Melanoma & MEL022 & PRJNA907381\\_MEL022\\_iLN & 4.870775 & 6 & 6\\\\\n",
       "\tPRJNA907381\\_MEL022\\_iLN\\_AACCACATCTTTCCAA-1 & PRJNA907381 & 31754 & 5097 & LN mets & Metastatic Melanoma & MEL022 & PRJNA907381\\_MEL022\\_iLN & 3.231089 & 6 & 6\\\\\n",
       "\tPRJNA907381\\_MEL022\\_iLN\\_AACCATGAGAAGTCTA-1 & PRJNA907381 & 26158 & 4705 & LN mets & Metastatic Melanoma & MEL022 & PRJNA907381\\_MEL022\\_iLN & 4.908632 & 6 & 6\\\\\n",
       "\\end{tabular}\n"
      ],
      "text/markdown": [
       "\n",
       "A data.frame: 6 × 10\n",
       "\n",
       "| <!--/--> | orig.ident &lt;chr&gt; | nCount_RNA &lt;dbl&gt; | nFeature_RNA &lt;int&gt; | sample_type &lt;chr&gt; | cancer_type &lt;chr&gt; | patient_id &lt;chr&gt; | sample_id &lt;chr&gt; | percent.mt &lt;dbl&gt; | RNA_snn_res.0.2 &lt;fct&gt; | seurat_clusters &lt;fct&gt; |\n",
       "|---|---|---|---|---|---|---|---|---|---|---|\n",
       "| PRJNA907381_MEL022_iLN_AAAGAACCAGCGCGTT-1 | PRJNA907381 | 17285 | 3704 | LN mets | Metastatic Melanoma | MEL022 | PRJNA907381_MEL022_iLN | 2.100087 | 6 | 6 |\n",
       "| PRJNA907381_MEL022_iLN_AAAGGGCTCCATAGAC-1 | PRJNA907381 | 42925 | 6544 | LN mets | Metastatic Melanoma | MEL022 | PRJNA907381_MEL022_iLN | 3.934770 | 6 | 6 |\n",
       "| PRJNA907381_MEL022_iLN_AACAAAGCAAGTATAG-1 | PRJNA907381 | 16549 | 3569 | LN mets | Metastatic Melanoma | MEL022 | PRJNA907381_MEL022_iLN | 6.689226 | 6 | 6 |\n",
       "| PRJNA907381_MEL022_iLN_AACAAGACAGGATTCT-1 | PRJNA907381 | 18108 | 3854 | LN mets | Metastatic Melanoma | MEL022 | PRJNA907381_MEL022_iLN | 4.870775 | 6 | 6 |\n",
       "| PRJNA907381_MEL022_iLN_AACCACATCTTTCCAA-1 | PRJNA907381 | 31754 | 5097 | LN mets | Metastatic Melanoma | MEL022 | PRJNA907381_MEL022_iLN | 3.231089 | 6 | 6 |\n",
       "| PRJNA907381_MEL022_iLN_AACCATGAGAAGTCTA-1 | PRJNA907381 | 26158 | 4705 | LN mets | Metastatic Melanoma | MEL022 | PRJNA907381_MEL022_iLN | 4.908632 | 6 | 6 |\n",
       "\n"
      ],
      "text/plain": [
       "                                          orig.ident  nCount_RNA nFeature_RNA\n",
       "PRJNA907381_MEL022_iLN_AAAGAACCAGCGCGTT-1 PRJNA907381 17285      3704        \n",
       "PRJNA907381_MEL022_iLN_AAAGGGCTCCATAGAC-1 PRJNA907381 42925      6544        \n",
       "PRJNA907381_MEL022_iLN_AACAAAGCAAGTATAG-1 PRJNA907381 16549      3569        \n",
       "PRJNA907381_MEL022_iLN_AACAAGACAGGATTCT-1 PRJNA907381 18108      3854        \n",
       "PRJNA907381_MEL022_iLN_AACCACATCTTTCCAA-1 PRJNA907381 31754      5097        \n",
       "PRJNA907381_MEL022_iLN_AACCATGAGAAGTCTA-1 PRJNA907381 26158      4705        \n",
       "                                          sample_type cancer_type        \n",
       "PRJNA907381_MEL022_iLN_AAAGAACCAGCGCGTT-1 LN mets     Metastatic Melanoma\n",
       "PRJNA907381_MEL022_iLN_AAAGGGCTCCATAGAC-1 LN mets     Metastatic Melanoma\n",
       "PRJNA907381_MEL022_iLN_AACAAAGCAAGTATAG-1 LN mets     Metastatic Melanoma\n",
       "PRJNA907381_MEL022_iLN_AACAAGACAGGATTCT-1 LN mets     Metastatic Melanoma\n",
       "PRJNA907381_MEL022_iLN_AACCACATCTTTCCAA-1 LN mets     Metastatic Melanoma\n",
       "PRJNA907381_MEL022_iLN_AACCATGAGAAGTCTA-1 LN mets     Metastatic Melanoma\n",
       "                                          patient_id sample_id             \n",
       "PRJNA907381_MEL022_iLN_AAAGAACCAGCGCGTT-1 MEL022     PRJNA907381_MEL022_iLN\n",
       "PRJNA907381_MEL022_iLN_AAAGGGCTCCATAGAC-1 MEL022     PRJNA907381_MEL022_iLN\n",
       "PRJNA907381_MEL022_iLN_AACAAAGCAAGTATAG-1 MEL022     PRJNA907381_MEL022_iLN\n",
       "PRJNA907381_MEL022_iLN_AACAAGACAGGATTCT-1 MEL022     PRJNA907381_MEL022_iLN\n",
       "PRJNA907381_MEL022_iLN_AACCACATCTTTCCAA-1 MEL022     PRJNA907381_MEL022_iLN\n",
       "PRJNA907381_MEL022_iLN_AACCATGAGAAGTCTA-1 MEL022     PRJNA907381_MEL022_iLN\n",
       "                                          percent.mt RNA_snn_res.0.2\n",
       "PRJNA907381_MEL022_iLN_AAAGAACCAGCGCGTT-1 2.100087   6              \n",
       "PRJNA907381_MEL022_iLN_AAAGGGCTCCATAGAC-1 3.934770   6              \n",
       "PRJNA907381_MEL022_iLN_AACAAAGCAAGTATAG-1 6.689226   6              \n",
       "PRJNA907381_MEL022_iLN_AACAAGACAGGATTCT-1 4.870775   6              \n",
       "PRJNA907381_MEL022_iLN_AACCACATCTTTCCAA-1 3.231089   6              \n",
       "PRJNA907381_MEL022_iLN_AACCATGAGAAGTCTA-1 4.908632   6              \n",
       "                                          seurat_clusters\n",
       "PRJNA907381_MEL022_iLN_AAAGAACCAGCGCGTT-1 6              \n",
       "PRJNA907381_MEL022_iLN_AAAGGGCTCCATAGAC-1 6              \n",
       "PRJNA907381_MEL022_iLN_AACAAAGCAAGTATAG-1 6              \n",
       "PRJNA907381_MEL022_iLN_AACAAGACAGGATTCT-1 6              \n",
       "PRJNA907381_MEL022_iLN_AACCACATCTTTCCAA-1 6              \n",
       "PRJNA907381_MEL022_iLN_AACCATGAGAAGTCTA-1 6              "
      ]
     },
     "metadata": {},
     "output_type": "display_data"
    }
   ],
   "source": [
    "MEL\n",
    "MEL@project.name\n",
    "head(MEL@meta.data)"
   ]
  },
  {
   "cell_type": "code",
   "execution_count": 5,
   "metadata": {
    "vscode": {
     "languageId": "r"
    }
   },
   "outputs": [
    {
     "data": {
      "text/plain": [
       "\n",
       "      LN mets uninvolved LN \n",
       "         1536          1187 "
      ]
     },
     "metadata": {},
     "output_type": "display_data"
    },
    {
     "data": {
      "text/plain": [
       "\n",
       "            Healthy Metastatic Melanoma \n",
       "               1187                1536 "
      ]
     },
     "metadata": {},
     "output_type": "display_data"
    },
    {
     "data": {
      "text/plain": [
       "\n",
       "MEL002 MEL009 MEL014 MEL018 MEL022 \n",
       "   614    404    743    785    177 "
      ]
     },
     "metadata": {},
     "output_type": "display_data"
    },
    {
     "data": {
      "text/plain": [
       "\n",
       "PRJNA907381_MEL002_iLN PRJNA907381_MEL002_uLN PRJNA907381_MEL009_iLN \n",
       "                   164                    450                    404 \n",
       "PRJNA907381_MEL014_iLN PRJNA907381_MEL014_uLN PRJNA907381_MEL018_iLN \n",
       "                   422                    321                    369 \n",
       "PRJNA907381_MEL018_uLN PRJNA907381_MEL022_iLN \n",
       "                   416                    177 "
      ]
     },
     "metadata": {},
     "output_type": "display_data"
    }
   ],
   "source": [
    "table(MEL$sample_type)\n",
    "table(MEL$cancer_type)\n",
    "table(MEL$patient_id)\n",
    "table(MEL$sample_id)"
   ]
  },
  {
   "cell_type": "code",
   "execution_count": 6,
   "metadata": {
    "vscode": {
     "languageId": "r"
    }
   },
   "outputs": [],
   "source": [
    "#split by cancer_type\n",
    "MEL_Tu <- subset(MEL, subset = cancer_type %in% c(\"Metastatic Melanoma\"))\n",
    "MEL_H <- subset(MEL, subset = cancer_type %in% c(\"Healthy\"))\n",
    "\n",
    "#set site and sample_type_major metadata\n",
    "MEL_Tu@meta.data$site <- \"lymph node\"\n",
    "MEL_H@meta.data$site <- \"lymph node\"\n",
    "\n",
    "MEL_Tu@meta.data$sample_type_major <- \"metastatic tumour\"\n",
    "MEL_H@meta.data$sample_type_major <- \"healthy\"\n",
    "\n",
    "#set subtype metadata\n",
    "MEL_Tu@meta.data$cancer_subtype <- \"Melanoma\"\n",
    "MEL_H@meta.data$cancer_subtype <- \"NA\"\n",
    "\n",
    "#Merge seurat objects back together\n",
    "MEL <- merge(MEL_Tu, y = c(MEL_H), project = \"PRJNA907381\")"
   ]
  },
  {
   "cell_type": "code",
   "execution_count": 7,
   "metadata": {
    "vscode": {
     "languageId": "r"
    }
   },
   "outputs": [],
   "source": [
    "#set integration_id metadata\n",
    "MEL@meta.data$integration_id <- MEL@meta.data$sample_id"
   ]
  },
  {
   "cell_type": "code",
   "execution_count": 9,
   "metadata": {
    "vscode": {
     "languageId": "r"
    }
   },
   "outputs": [
    {
     "data": {
      "text/plain": [
       "An object of class Seurat \n",
       "36601 features across 2723 samples within 1 assay \n",
       "Active assay: RNA (36601 features, 2000 variable features)\n",
       " 18 layers present: counts.1.1, counts.3.1, counts.5.1, counts.6.1, counts.8.1, data.1.1, data.3.1, data.5.1, data.6.1, data.8.1, scale.data.1, counts.2.2, counts.4.2, counts.7.2, data.2.2, data.4.2, data.7.2, scale.data.2"
      ]
     },
     "metadata": {},
     "output_type": "display_data"
    },
    {
     "data": {
      "text/html": [
       "'PRJNA907381'"
      ],
      "text/latex": [
       "'PRJNA907381'"
      ],
      "text/markdown": [
       "'PRJNA907381'"
      ],
      "text/plain": [
       "[1] \"PRJNA907381\""
      ]
     },
     "metadata": {},
     "output_type": "display_data"
    },
    {
     "data": {
      "text/html": [
       "<table class=\"dataframe\">\n",
       "<caption>A data.frame: 6 × 14</caption>\n",
       "<thead>\n",
       "\t<tr><th></th><th scope=col>orig.ident</th><th scope=col>nCount_RNA</th><th scope=col>nFeature_RNA</th><th scope=col>sample_type</th><th scope=col>cancer_type</th><th scope=col>patient_id</th><th scope=col>sample_id</th><th scope=col>percent.mt</th><th scope=col>RNA_snn_res.0.2</th><th scope=col>seurat_clusters</th><th scope=col>site</th><th scope=col>sample_type_major</th><th scope=col>cancer_subtype</th><th scope=col>integration_id</th></tr>\n",
       "\t<tr><th></th><th scope=col>&lt;chr&gt;</th><th scope=col>&lt;dbl&gt;</th><th scope=col>&lt;int&gt;</th><th scope=col>&lt;chr&gt;</th><th scope=col>&lt;chr&gt;</th><th scope=col>&lt;chr&gt;</th><th scope=col>&lt;chr&gt;</th><th scope=col>&lt;dbl&gt;</th><th scope=col>&lt;chr&gt;</th><th scope=col>&lt;chr&gt;</th><th scope=col>&lt;chr&gt;</th><th scope=col>&lt;chr&gt;</th><th scope=col>&lt;chr&gt;</th><th scope=col>&lt;chr&gt;</th></tr>\n",
       "</thead>\n",
       "<tbody>\n",
       "\t<tr><th scope=row>PRJNA907381_MEL022_iLN_AAAGAACCAGCGCGTT-1</th><td>PRJNA907381</td><td>17285</td><td>3704</td><td>LN mets</td><td>Metastatic Melanoma</td><td>MEL022</td><td>PRJNA907381_MEL022_iLN</td><td>2.100087</td><td>6</td><td>6</td><td>lymph node</td><td>metastatic tumour</td><td>Melanoma</td><td>PRJNA907381_MEL022_iLN</td></tr>\n",
       "\t<tr><th scope=row>PRJNA907381_MEL022_iLN_AAAGGGCTCCATAGAC-1</th><td>PRJNA907381</td><td>42925</td><td>6544</td><td>LN mets</td><td>Metastatic Melanoma</td><td>MEL022</td><td>PRJNA907381_MEL022_iLN</td><td>3.934770</td><td>6</td><td>6</td><td>lymph node</td><td>metastatic tumour</td><td>Melanoma</td><td>PRJNA907381_MEL022_iLN</td></tr>\n",
       "\t<tr><th scope=row>PRJNA907381_MEL022_iLN_AACAAAGCAAGTATAG-1</th><td>PRJNA907381</td><td>16549</td><td>3569</td><td>LN mets</td><td>Metastatic Melanoma</td><td>MEL022</td><td>PRJNA907381_MEL022_iLN</td><td>6.689226</td><td>6</td><td>6</td><td>lymph node</td><td>metastatic tumour</td><td>Melanoma</td><td>PRJNA907381_MEL022_iLN</td></tr>\n",
       "\t<tr><th scope=row>PRJNA907381_MEL022_iLN_AACAAGACAGGATTCT-1</th><td>PRJNA907381</td><td>18108</td><td>3854</td><td>LN mets</td><td>Metastatic Melanoma</td><td>MEL022</td><td>PRJNA907381_MEL022_iLN</td><td>4.870775</td><td>6</td><td>6</td><td>lymph node</td><td>metastatic tumour</td><td>Melanoma</td><td>PRJNA907381_MEL022_iLN</td></tr>\n",
       "\t<tr><th scope=row>PRJNA907381_MEL022_iLN_AACCACATCTTTCCAA-1</th><td>PRJNA907381</td><td>31754</td><td>5097</td><td>LN mets</td><td>Metastatic Melanoma</td><td>MEL022</td><td>PRJNA907381_MEL022_iLN</td><td>3.231089</td><td>6</td><td>6</td><td>lymph node</td><td>metastatic tumour</td><td>Melanoma</td><td>PRJNA907381_MEL022_iLN</td></tr>\n",
       "\t<tr><th scope=row>PRJNA907381_MEL022_iLN_AACCATGAGAAGTCTA-1</th><td>PRJNA907381</td><td>26158</td><td>4705</td><td>LN mets</td><td>Metastatic Melanoma</td><td>MEL022</td><td>PRJNA907381_MEL022_iLN</td><td>4.908632</td><td>6</td><td>6</td><td>lymph node</td><td>metastatic tumour</td><td>Melanoma</td><td>PRJNA907381_MEL022_iLN</td></tr>\n",
       "</tbody>\n",
       "</table>\n"
      ],
      "text/latex": [
       "A data.frame: 6 × 14\n",
       "\\begin{tabular}{r|llllllllllllll}\n",
       "  & orig.ident & nCount\\_RNA & nFeature\\_RNA & sample\\_type & cancer\\_type & patient\\_id & sample\\_id & percent.mt & RNA\\_snn\\_res.0.2 & seurat\\_clusters & site & sample\\_type\\_major & cancer\\_subtype & integration\\_id\\\\\n",
       "  & <chr> & <dbl> & <int> & <chr> & <chr> & <chr> & <chr> & <dbl> & <chr> & <chr> & <chr> & <chr> & <chr> & <chr>\\\\\n",
       "\\hline\n",
       "\tPRJNA907381\\_MEL022\\_iLN\\_AAAGAACCAGCGCGTT-1 & PRJNA907381 & 17285 & 3704 & LN mets & Metastatic Melanoma & MEL022 & PRJNA907381\\_MEL022\\_iLN & 2.100087 & 6 & 6 & lymph node & metastatic tumour & Melanoma & PRJNA907381\\_MEL022\\_iLN\\\\\n",
       "\tPRJNA907381\\_MEL022\\_iLN\\_AAAGGGCTCCATAGAC-1 & PRJNA907381 & 42925 & 6544 & LN mets & Metastatic Melanoma & MEL022 & PRJNA907381\\_MEL022\\_iLN & 3.934770 & 6 & 6 & lymph node & metastatic tumour & Melanoma & PRJNA907381\\_MEL022\\_iLN\\\\\n",
       "\tPRJNA907381\\_MEL022\\_iLN\\_AACAAAGCAAGTATAG-1 & PRJNA907381 & 16549 & 3569 & LN mets & Metastatic Melanoma & MEL022 & PRJNA907381\\_MEL022\\_iLN & 6.689226 & 6 & 6 & lymph node & metastatic tumour & Melanoma & PRJNA907381\\_MEL022\\_iLN\\\\\n",
       "\tPRJNA907381\\_MEL022\\_iLN\\_AACAAGACAGGATTCT-1 & PRJNA907381 & 18108 & 3854 & LN mets & Metastatic Melanoma & MEL022 & PRJNA907381\\_MEL022\\_iLN & 4.870775 & 6 & 6 & lymph node & metastatic tumour & Melanoma & PRJNA907381\\_MEL022\\_iLN\\\\\n",
       "\tPRJNA907381\\_MEL022\\_iLN\\_AACCACATCTTTCCAA-1 & PRJNA907381 & 31754 & 5097 & LN mets & Metastatic Melanoma & MEL022 & PRJNA907381\\_MEL022\\_iLN & 3.231089 & 6 & 6 & lymph node & metastatic tumour & Melanoma & PRJNA907381\\_MEL022\\_iLN\\\\\n",
       "\tPRJNA907381\\_MEL022\\_iLN\\_AACCATGAGAAGTCTA-1 & PRJNA907381 & 26158 & 4705 & LN mets & Metastatic Melanoma & MEL022 & PRJNA907381\\_MEL022\\_iLN & 4.908632 & 6 & 6 & lymph node & metastatic tumour & Melanoma & PRJNA907381\\_MEL022\\_iLN\\\\\n",
       "\\end{tabular}\n"
      ],
      "text/markdown": [
       "\n",
       "A data.frame: 6 × 14\n",
       "\n",
       "| <!--/--> | orig.ident &lt;chr&gt; | nCount_RNA &lt;dbl&gt; | nFeature_RNA &lt;int&gt; | sample_type &lt;chr&gt; | cancer_type &lt;chr&gt; | patient_id &lt;chr&gt; | sample_id &lt;chr&gt; | percent.mt &lt;dbl&gt; | RNA_snn_res.0.2 &lt;chr&gt; | seurat_clusters &lt;chr&gt; | site &lt;chr&gt; | sample_type_major &lt;chr&gt; | cancer_subtype &lt;chr&gt; | integration_id &lt;chr&gt; |\n",
       "|---|---|---|---|---|---|---|---|---|---|---|---|---|---|---|\n",
       "| PRJNA907381_MEL022_iLN_AAAGAACCAGCGCGTT-1 | PRJNA907381 | 17285 | 3704 | LN mets | Metastatic Melanoma | MEL022 | PRJNA907381_MEL022_iLN | 2.100087 | 6 | 6 | lymph node | metastatic tumour | Melanoma | PRJNA907381_MEL022_iLN |\n",
       "| PRJNA907381_MEL022_iLN_AAAGGGCTCCATAGAC-1 | PRJNA907381 | 42925 | 6544 | LN mets | Metastatic Melanoma | MEL022 | PRJNA907381_MEL022_iLN | 3.934770 | 6 | 6 | lymph node | metastatic tumour | Melanoma | PRJNA907381_MEL022_iLN |\n",
       "| PRJNA907381_MEL022_iLN_AACAAAGCAAGTATAG-1 | PRJNA907381 | 16549 | 3569 | LN mets | Metastatic Melanoma | MEL022 | PRJNA907381_MEL022_iLN | 6.689226 | 6 | 6 | lymph node | metastatic tumour | Melanoma | PRJNA907381_MEL022_iLN |\n",
       "| PRJNA907381_MEL022_iLN_AACAAGACAGGATTCT-1 | PRJNA907381 | 18108 | 3854 | LN mets | Metastatic Melanoma | MEL022 | PRJNA907381_MEL022_iLN | 4.870775 | 6 | 6 | lymph node | metastatic tumour | Melanoma | PRJNA907381_MEL022_iLN |\n",
       "| PRJNA907381_MEL022_iLN_AACCACATCTTTCCAA-1 | PRJNA907381 | 31754 | 5097 | LN mets | Metastatic Melanoma | MEL022 | PRJNA907381_MEL022_iLN | 3.231089 | 6 | 6 | lymph node | metastatic tumour | Melanoma | PRJNA907381_MEL022_iLN |\n",
       "| PRJNA907381_MEL022_iLN_AACCATGAGAAGTCTA-1 | PRJNA907381 | 26158 | 4705 | LN mets | Metastatic Melanoma | MEL022 | PRJNA907381_MEL022_iLN | 4.908632 | 6 | 6 | lymph node | metastatic tumour | Melanoma | PRJNA907381_MEL022_iLN |\n",
       "\n"
      ],
      "text/plain": [
       "                                          orig.ident  nCount_RNA nFeature_RNA\n",
       "PRJNA907381_MEL022_iLN_AAAGAACCAGCGCGTT-1 PRJNA907381 17285      3704        \n",
       "PRJNA907381_MEL022_iLN_AAAGGGCTCCATAGAC-1 PRJNA907381 42925      6544        \n",
       "PRJNA907381_MEL022_iLN_AACAAAGCAAGTATAG-1 PRJNA907381 16549      3569        \n",
       "PRJNA907381_MEL022_iLN_AACAAGACAGGATTCT-1 PRJNA907381 18108      3854        \n",
       "PRJNA907381_MEL022_iLN_AACCACATCTTTCCAA-1 PRJNA907381 31754      5097        \n",
       "PRJNA907381_MEL022_iLN_AACCATGAGAAGTCTA-1 PRJNA907381 26158      4705        \n",
       "                                          sample_type cancer_type        \n",
       "PRJNA907381_MEL022_iLN_AAAGAACCAGCGCGTT-1 LN mets     Metastatic Melanoma\n",
       "PRJNA907381_MEL022_iLN_AAAGGGCTCCATAGAC-1 LN mets     Metastatic Melanoma\n",
       "PRJNA907381_MEL022_iLN_AACAAAGCAAGTATAG-1 LN mets     Metastatic Melanoma\n",
       "PRJNA907381_MEL022_iLN_AACAAGACAGGATTCT-1 LN mets     Metastatic Melanoma\n",
       "PRJNA907381_MEL022_iLN_AACCACATCTTTCCAA-1 LN mets     Metastatic Melanoma\n",
       "PRJNA907381_MEL022_iLN_AACCATGAGAAGTCTA-1 LN mets     Metastatic Melanoma\n",
       "                                          patient_id sample_id             \n",
       "PRJNA907381_MEL022_iLN_AAAGAACCAGCGCGTT-1 MEL022     PRJNA907381_MEL022_iLN\n",
       "PRJNA907381_MEL022_iLN_AAAGGGCTCCATAGAC-1 MEL022     PRJNA907381_MEL022_iLN\n",
       "PRJNA907381_MEL022_iLN_AACAAAGCAAGTATAG-1 MEL022     PRJNA907381_MEL022_iLN\n",
       "PRJNA907381_MEL022_iLN_AACAAGACAGGATTCT-1 MEL022     PRJNA907381_MEL022_iLN\n",
       "PRJNA907381_MEL022_iLN_AACCACATCTTTCCAA-1 MEL022     PRJNA907381_MEL022_iLN\n",
       "PRJNA907381_MEL022_iLN_AACCATGAGAAGTCTA-1 MEL022     PRJNA907381_MEL022_iLN\n",
       "                                          percent.mt RNA_snn_res.0.2\n",
       "PRJNA907381_MEL022_iLN_AAAGAACCAGCGCGTT-1 2.100087   6              \n",
       "PRJNA907381_MEL022_iLN_AAAGGGCTCCATAGAC-1 3.934770   6              \n",
       "PRJNA907381_MEL022_iLN_AACAAAGCAAGTATAG-1 6.689226   6              \n",
       "PRJNA907381_MEL022_iLN_AACAAGACAGGATTCT-1 4.870775   6              \n",
       "PRJNA907381_MEL022_iLN_AACCACATCTTTCCAA-1 3.231089   6              \n",
       "PRJNA907381_MEL022_iLN_AACCATGAGAAGTCTA-1 4.908632   6              \n",
       "                                          seurat_clusters site      \n",
       "PRJNA907381_MEL022_iLN_AAAGAACCAGCGCGTT-1 6               lymph node\n",
       "PRJNA907381_MEL022_iLN_AAAGGGCTCCATAGAC-1 6               lymph node\n",
       "PRJNA907381_MEL022_iLN_AACAAAGCAAGTATAG-1 6               lymph node\n",
       "PRJNA907381_MEL022_iLN_AACAAGACAGGATTCT-1 6               lymph node\n",
       "PRJNA907381_MEL022_iLN_AACCACATCTTTCCAA-1 6               lymph node\n",
       "PRJNA907381_MEL022_iLN_AACCATGAGAAGTCTA-1 6               lymph node\n",
       "                                          sample_type_major cancer_subtype\n",
       "PRJNA907381_MEL022_iLN_AAAGAACCAGCGCGTT-1 metastatic tumour Melanoma      \n",
       "PRJNA907381_MEL022_iLN_AAAGGGCTCCATAGAC-1 metastatic tumour Melanoma      \n",
       "PRJNA907381_MEL022_iLN_AACAAAGCAAGTATAG-1 metastatic tumour Melanoma      \n",
       "PRJNA907381_MEL022_iLN_AACAAGACAGGATTCT-1 metastatic tumour Melanoma      \n",
       "PRJNA907381_MEL022_iLN_AACCACATCTTTCCAA-1 metastatic tumour Melanoma      \n",
       "PRJNA907381_MEL022_iLN_AACCATGAGAAGTCTA-1 metastatic tumour Melanoma      \n",
       "                                          integration_id        \n",
       "PRJNA907381_MEL022_iLN_AAAGAACCAGCGCGTT-1 PRJNA907381_MEL022_iLN\n",
       "PRJNA907381_MEL022_iLN_AAAGGGCTCCATAGAC-1 PRJNA907381_MEL022_iLN\n",
       "PRJNA907381_MEL022_iLN_AACAAAGCAAGTATAG-1 PRJNA907381_MEL022_iLN\n",
       "PRJNA907381_MEL022_iLN_AACAAGACAGGATTCT-1 PRJNA907381_MEL022_iLN\n",
       "PRJNA907381_MEL022_iLN_AACCACATCTTTCCAA-1 PRJNA907381_MEL022_iLN\n",
       "PRJNA907381_MEL022_iLN_AACCATGAGAAGTCTA-1 PRJNA907381_MEL022_iLN"
      ]
     },
     "metadata": {},
     "output_type": "display_data"
    },
    {
     "data": {
      "text/html": [
       "<table class=\"dataframe\">\n",
       "<caption>A data.frame: 6 × 14</caption>\n",
       "<thead>\n",
       "\t<tr><th></th><th scope=col>orig.ident</th><th scope=col>nCount_RNA</th><th scope=col>nFeature_RNA</th><th scope=col>sample_type</th><th scope=col>cancer_type</th><th scope=col>patient_id</th><th scope=col>sample_id</th><th scope=col>percent.mt</th><th scope=col>RNA_snn_res.0.2</th><th scope=col>seurat_clusters</th><th scope=col>site</th><th scope=col>sample_type_major</th><th scope=col>cancer_subtype</th><th scope=col>integration_id</th></tr>\n",
       "\t<tr><th></th><th scope=col>&lt;chr&gt;</th><th scope=col>&lt;dbl&gt;</th><th scope=col>&lt;int&gt;</th><th scope=col>&lt;chr&gt;</th><th scope=col>&lt;chr&gt;</th><th scope=col>&lt;chr&gt;</th><th scope=col>&lt;chr&gt;</th><th scope=col>&lt;dbl&gt;</th><th scope=col>&lt;chr&gt;</th><th scope=col>&lt;chr&gt;</th><th scope=col>&lt;chr&gt;</th><th scope=col>&lt;chr&gt;</th><th scope=col>&lt;chr&gt;</th><th scope=col>&lt;chr&gt;</th></tr>\n",
       "</thead>\n",
       "<tbody>\n",
       "\t<tr><th scope=row>PRJNA907381_MEL002_uLN_TTTACCACAAATCAAG-1</th><td>PRJNA907381</td><td>34326</td><td>5679</td><td>uninvolved LN</td><td>Healthy</td><td>MEL002</td><td>PRJNA907381_MEL002_uLN</td><td> 3.629902</td><td>6 </td><td>6 </td><td>lymph node</td><td>healthy</td><td>NA</td><td>PRJNA907381_MEL002_uLN</td></tr>\n",
       "\t<tr><th scope=row>PRJNA907381_MEL002_uLN_TTTATGCGTTGCCGCA-1</th><td>PRJNA907381</td><td>20339</td><td>4758</td><td>uninvolved LN</td><td>Healthy</td><td>MEL002</td><td>PRJNA907381_MEL002_uLN</td><td> 6.544078</td><td>6 </td><td>6 </td><td>lymph node</td><td>healthy</td><td>NA</td><td>PRJNA907381_MEL002_uLN</td></tr>\n",
       "\t<tr><th scope=row>PRJNA907381_MEL002_uLN_TTTCATGTCGACGACC-1</th><td>PRJNA907381</td><td>30296</td><td>5207</td><td>uninvolved LN</td><td>Healthy</td><td>MEL002</td><td>PRJNA907381_MEL002_uLN</td><td> 3.383285</td><td>6 </td><td>6 </td><td>lymph node</td><td>healthy</td><td>NA</td><td>PRJNA907381_MEL002_uLN</td></tr>\n",
       "\t<tr><th scope=row>PRJNA907381_MEL002_uLN_TTTCCTCGTTCGAACT-1</th><td>PRJNA907381</td><td>50410</td><td>5915</td><td>uninvolved LN</td><td>Healthy</td><td>MEL002</td><td>PRJNA907381_MEL002_uLN</td><td> 4.558619</td><td>16</td><td>16</td><td>lymph node</td><td>healthy</td><td>NA</td><td>PRJNA907381_MEL002_uLN</td></tr>\n",
       "\t<tr><th scope=row>PRJNA907381_MEL002_uLN_TTTGGAGAGTTCTCTT-1</th><td>PRJNA907381</td><td>13123</td><td>2408</td><td>uninvolved LN</td><td>Healthy</td><td>MEL002</td><td>PRJNA907381_MEL002_uLN</td><td>15.133735</td><td>6 </td><td>6 </td><td>lymph node</td><td>healthy</td><td>NA</td><td>PRJNA907381_MEL002_uLN</td></tr>\n",
       "\t<tr><th scope=row>PRJNA907381_MEL002_uLN_TTTGGTTAGTGGCGAT-1</th><td>PRJNA907381</td><td>25688</td><td>5435</td><td>uninvolved LN</td><td>Healthy</td><td>MEL002</td><td>PRJNA907381_MEL002_uLN</td><td> 7.423700</td><td>6 </td><td>6 </td><td>lymph node</td><td>healthy</td><td>NA</td><td>PRJNA907381_MEL002_uLN</td></tr>\n",
       "</tbody>\n",
       "</table>\n"
      ],
      "text/latex": [
       "A data.frame: 6 × 14\n",
       "\\begin{tabular}{r|llllllllllllll}\n",
       "  & orig.ident & nCount\\_RNA & nFeature\\_RNA & sample\\_type & cancer\\_type & patient\\_id & sample\\_id & percent.mt & RNA\\_snn\\_res.0.2 & seurat\\_clusters & site & sample\\_type\\_major & cancer\\_subtype & integration\\_id\\\\\n",
       "  & <chr> & <dbl> & <int> & <chr> & <chr> & <chr> & <chr> & <dbl> & <chr> & <chr> & <chr> & <chr> & <chr> & <chr>\\\\\n",
       "\\hline\n",
       "\tPRJNA907381\\_MEL002\\_uLN\\_TTTACCACAAATCAAG-1 & PRJNA907381 & 34326 & 5679 & uninvolved LN & Healthy & MEL002 & PRJNA907381\\_MEL002\\_uLN &  3.629902 & 6  & 6  & lymph node & healthy & NA & PRJNA907381\\_MEL002\\_uLN\\\\\n",
       "\tPRJNA907381\\_MEL002\\_uLN\\_TTTATGCGTTGCCGCA-1 & PRJNA907381 & 20339 & 4758 & uninvolved LN & Healthy & MEL002 & PRJNA907381\\_MEL002\\_uLN &  6.544078 & 6  & 6  & lymph node & healthy & NA & PRJNA907381\\_MEL002\\_uLN\\\\\n",
       "\tPRJNA907381\\_MEL002\\_uLN\\_TTTCATGTCGACGACC-1 & PRJNA907381 & 30296 & 5207 & uninvolved LN & Healthy & MEL002 & PRJNA907381\\_MEL002\\_uLN &  3.383285 & 6  & 6  & lymph node & healthy & NA & PRJNA907381\\_MEL002\\_uLN\\\\\n",
       "\tPRJNA907381\\_MEL002\\_uLN\\_TTTCCTCGTTCGAACT-1 & PRJNA907381 & 50410 & 5915 & uninvolved LN & Healthy & MEL002 & PRJNA907381\\_MEL002\\_uLN &  4.558619 & 16 & 16 & lymph node & healthy & NA & PRJNA907381\\_MEL002\\_uLN\\\\\n",
       "\tPRJNA907381\\_MEL002\\_uLN\\_TTTGGAGAGTTCTCTT-1 & PRJNA907381 & 13123 & 2408 & uninvolved LN & Healthy & MEL002 & PRJNA907381\\_MEL002\\_uLN & 15.133735 & 6  & 6  & lymph node & healthy & NA & PRJNA907381\\_MEL002\\_uLN\\\\\n",
       "\tPRJNA907381\\_MEL002\\_uLN\\_TTTGGTTAGTGGCGAT-1 & PRJNA907381 & 25688 & 5435 & uninvolved LN & Healthy & MEL002 & PRJNA907381\\_MEL002\\_uLN &  7.423700 & 6  & 6  & lymph node & healthy & NA & PRJNA907381\\_MEL002\\_uLN\\\\\n",
       "\\end{tabular}\n"
      ],
      "text/markdown": [
       "\n",
       "A data.frame: 6 × 14\n",
       "\n",
       "| <!--/--> | orig.ident &lt;chr&gt; | nCount_RNA &lt;dbl&gt; | nFeature_RNA &lt;int&gt; | sample_type &lt;chr&gt; | cancer_type &lt;chr&gt; | patient_id &lt;chr&gt; | sample_id &lt;chr&gt; | percent.mt &lt;dbl&gt; | RNA_snn_res.0.2 &lt;chr&gt; | seurat_clusters &lt;chr&gt; | site &lt;chr&gt; | sample_type_major &lt;chr&gt; | cancer_subtype &lt;chr&gt; | integration_id &lt;chr&gt; |\n",
       "|---|---|---|---|---|---|---|---|---|---|---|---|---|---|---|\n",
       "| PRJNA907381_MEL002_uLN_TTTACCACAAATCAAG-1 | PRJNA907381 | 34326 | 5679 | uninvolved LN | Healthy | MEL002 | PRJNA907381_MEL002_uLN |  3.629902 | 6  | 6  | lymph node | healthy | NA | PRJNA907381_MEL002_uLN |\n",
       "| PRJNA907381_MEL002_uLN_TTTATGCGTTGCCGCA-1 | PRJNA907381 | 20339 | 4758 | uninvolved LN | Healthy | MEL002 | PRJNA907381_MEL002_uLN |  6.544078 | 6  | 6  | lymph node | healthy | NA | PRJNA907381_MEL002_uLN |\n",
       "| PRJNA907381_MEL002_uLN_TTTCATGTCGACGACC-1 | PRJNA907381 | 30296 | 5207 | uninvolved LN | Healthy | MEL002 | PRJNA907381_MEL002_uLN |  3.383285 | 6  | 6  | lymph node | healthy | NA | PRJNA907381_MEL002_uLN |\n",
       "| PRJNA907381_MEL002_uLN_TTTCCTCGTTCGAACT-1 | PRJNA907381 | 50410 | 5915 | uninvolved LN | Healthy | MEL002 | PRJNA907381_MEL002_uLN |  4.558619 | 16 | 16 | lymph node | healthy | NA | PRJNA907381_MEL002_uLN |\n",
       "| PRJNA907381_MEL002_uLN_TTTGGAGAGTTCTCTT-1 | PRJNA907381 | 13123 | 2408 | uninvolved LN | Healthy | MEL002 | PRJNA907381_MEL002_uLN | 15.133735 | 6  | 6  | lymph node | healthy | NA | PRJNA907381_MEL002_uLN |\n",
       "| PRJNA907381_MEL002_uLN_TTTGGTTAGTGGCGAT-1 | PRJNA907381 | 25688 | 5435 | uninvolved LN | Healthy | MEL002 | PRJNA907381_MEL002_uLN |  7.423700 | 6  | 6  | lymph node | healthy | NA | PRJNA907381_MEL002_uLN |\n",
       "\n"
      ],
      "text/plain": [
       "                                          orig.ident  nCount_RNA nFeature_RNA\n",
       "PRJNA907381_MEL002_uLN_TTTACCACAAATCAAG-1 PRJNA907381 34326      5679        \n",
       "PRJNA907381_MEL002_uLN_TTTATGCGTTGCCGCA-1 PRJNA907381 20339      4758        \n",
       "PRJNA907381_MEL002_uLN_TTTCATGTCGACGACC-1 PRJNA907381 30296      5207        \n",
       "PRJNA907381_MEL002_uLN_TTTCCTCGTTCGAACT-1 PRJNA907381 50410      5915        \n",
       "PRJNA907381_MEL002_uLN_TTTGGAGAGTTCTCTT-1 PRJNA907381 13123      2408        \n",
       "PRJNA907381_MEL002_uLN_TTTGGTTAGTGGCGAT-1 PRJNA907381 25688      5435        \n",
       "                                          sample_type   cancer_type patient_id\n",
       "PRJNA907381_MEL002_uLN_TTTACCACAAATCAAG-1 uninvolved LN Healthy     MEL002    \n",
       "PRJNA907381_MEL002_uLN_TTTATGCGTTGCCGCA-1 uninvolved LN Healthy     MEL002    \n",
       "PRJNA907381_MEL002_uLN_TTTCATGTCGACGACC-1 uninvolved LN Healthy     MEL002    \n",
       "PRJNA907381_MEL002_uLN_TTTCCTCGTTCGAACT-1 uninvolved LN Healthy     MEL002    \n",
       "PRJNA907381_MEL002_uLN_TTTGGAGAGTTCTCTT-1 uninvolved LN Healthy     MEL002    \n",
       "PRJNA907381_MEL002_uLN_TTTGGTTAGTGGCGAT-1 uninvolved LN Healthy     MEL002    \n",
       "                                          sample_id              percent.mt\n",
       "PRJNA907381_MEL002_uLN_TTTACCACAAATCAAG-1 PRJNA907381_MEL002_uLN  3.629902 \n",
       "PRJNA907381_MEL002_uLN_TTTATGCGTTGCCGCA-1 PRJNA907381_MEL002_uLN  6.544078 \n",
       "PRJNA907381_MEL002_uLN_TTTCATGTCGACGACC-1 PRJNA907381_MEL002_uLN  3.383285 \n",
       "PRJNA907381_MEL002_uLN_TTTCCTCGTTCGAACT-1 PRJNA907381_MEL002_uLN  4.558619 \n",
       "PRJNA907381_MEL002_uLN_TTTGGAGAGTTCTCTT-1 PRJNA907381_MEL002_uLN 15.133735 \n",
       "PRJNA907381_MEL002_uLN_TTTGGTTAGTGGCGAT-1 PRJNA907381_MEL002_uLN  7.423700 \n",
       "                                          RNA_snn_res.0.2 seurat_clusters\n",
       "PRJNA907381_MEL002_uLN_TTTACCACAAATCAAG-1 6               6              \n",
       "PRJNA907381_MEL002_uLN_TTTATGCGTTGCCGCA-1 6               6              \n",
       "PRJNA907381_MEL002_uLN_TTTCATGTCGACGACC-1 6               6              \n",
       "PRJNA907381_MEL002_uLN_TTTCCTCGTTCGAACT-1 16              16             \n",
       "PRJNA907381_MEL002_uLN_TTTGGAGAGTTCTCTT-1 6               6              \n",
       "PRJNA907381_MEL002_uLN_TTTGGTTAGTGGCGAT-1 6               6              \n",
       "                                          site       sample_type_major\n",
       "PRJNA907381_MEL002_uLN_TTTACCACAAATCAAG-1 lymph node healthy          \n",
       "PRJNA907381_MEL002_uLN_TTTATGCGTTGCCGCA-1 lymph node healthy          \n",
       "PRJNA907381_MEL002_uLN_TTTCATGTCGACGACC-1 lymph node healthy          \n",
       "PRJNA907381_MEL002_uLN_TTTCCTCGTTCGAACT-1 lymph node healthy          \n",
       "PRJNA907381_MEL002_uLN_TTTGGAGAGTTCTCTT-1 lymph node healthy          \n",
       "PRJNA907381_MEL002_uLN_TTTGGTTAGTGGCGAT-1 lymph node healthy          \n",
       "                                          cancer_subtype integration_id        \n",
       "PRJNA907381_MEL002_uLN_TTTACCACAAATCAAG-1 NA             PRJNA907381_MEL002_uLN\n",
       "PRJNA907381_MEL002_uLN_TTTATGCGTTGCCGCA-1 NA             PRJNA907381_MEL002_uLN\n",
       "PRJNA907381_MEL002_uLN_TTTCATGTCGACGACC-1 NA             PRJNA907381_MEL002_uLN\n",
       "PRJNA907381_MEL002_uLN_TTTCCTCGTTCGAACT-1 NA             PRJNA907381_MEL002_uLN\n",
       "PRJNA907381_MEL002_uLN_TTTGGAGAGTTCTCTT-1 NA             PRJNA907381_MEL002_uLN\n",
       "PRJNA907381_MEL002_uLN_TTTGGTTAGTGGCGAT-1 NA             PRJNA907381_MEL002_uLN"
      ]
     },
     "metadata": {},
     "output_type": "display_data"
    }
   ],
   "source": [
    "MEL\n",
    "MEL@project.name\n",
    "head(MEL@meta.data)\n",
    "tail(MEL@meta.data)"
   ]
  },
  {
   "cell_type": "code",
   "execution_count": 11,
   "metadata": {
    "vscode": {
     "languageId": "r"
    }
   },
   "outputs": [
    {
     "data": {
      "text/plain": [
       "\n",
       "PRJNA907381_MEL002_iLN PRJNA907381_MEL002_uLN PRJNA907381_MEL009_iLN \n",
       "                   164                    450                    404 \n",
       "PRJNA907381_MEL014_iLN PRJNA907381_MEL014_uLN PRJNA907381_MEL018_iLN \n",
       "                   422                    321                    369 \n",
       "PRJNA907381_MEL018_uLN PRJNA907381_MEL022_iLN \n",
       "                   416                    177 "
      ]
     },
     "metadata": {},
     "output_type": "display_data"
    }
   ],
   "source": [
    "#exclude any samples with <100 cells\n",
    "table(MEL$integration_id)\n",
    "#none to exclude"
   ]
  },
  {
   "cell_type": "code",
   "execution_count": 12,
   "metadata": {
    "vscode": {
     "languageId": "r"
    }
   },
   "outputs": [
    {
     "data": {
      "text/html": [
       "<style>\n",
       ".list-inline {list-style: none; margin:0; padding: 0}\n",
       ".list-inline>li {display: inline-block}\n",
       ".list-inline>li:not(:last-child)::after {content: \"\\00b7\"; padding: 0 .5ex}\n",
       "</style>\n",
       "<ol class=list-inline><li>'counts.1.1'</li><li>'counts.3.1'</li><li>'counts.5.1'</li><li>'counts.6.1'</li><li>'counts.8.1'</li><li>'data.1.1'</li><li>'data.3.1'</li><li>'data.5.1'</li><li>'data.6.1'</li><li>'data.8.1'</li><li>'scale.data.1'</li><li>'counts.2.2'</li><li>'counts.4.2'</li><li>'counts.7.2'</li><li>'data.2.2'</li><li>'data.4.2'</li><li>'data.7.2'</li><li>'scale.data.2'</li></ol>\n"
      ],
      "text/latex": [
       "\\begin{enumerate*}\n",
       "\\item 'counts.1.1'\n",
       "\\item 'counts.3.1'\n",
       "\\item 'counts.5.1'\n",
       "\\item 'counts.6.1'\n",
       "\\item 'counts.8.1'\n",
       "\\item 'data.1.1'\n",
       "\\item 'data.3.1'\n",
       "\\item 'data.5.1'\n",
       "\\item 'data.6.1'\n",
       "\\item 'data.8.1'\n",
       "\\item 'scale.data.1'\n",
       "\\item 'counts.2.2'\n",
       "\\item 'counts.4.2'\n",
       "\\item 'counts.7.2'\n",
       "\\item 'data.2.2'\n",
       "\\item 'data.4.2'\n",
       "\\item 'data.7.2'\n",
       "\\item 'scale.data.2'\n",
       "\\end{enumerate*}\n"
      ],
      "text/markdown": [
       "1. 'counts.1.1'\n",
       "2. 'counts.3.1'\n",
       "3. 'counts.5.1'\n",
       "4. 'counts.6.1'\n",
       "5. 'counts.8.1'\n",
       "6. 'data.1.1'\n",
       "7. 'data.3.1'\n",
       "8. 'data.5.1'\n",
       "9. 'data.6.1'\n",
       "10. 'data.8.1'\n",
       "11. 'scale.data.1'\n",
       "12. 'counts.2.2'\n",
       "13. 'counts.4.2'\n",
       "14. 'counts.7.2'\n",
       "15. 'data.2.2'\n",
       "16. 'data.4.2'\n",
       "17. 'data.7.2'\n",
       "18. 'scale.data.2'\n",
       "\n",
       "\n"
      ],
      "text/plain": [
       " [1] \"counts.1.1\"   \"counts.3.1\"   \"counts.5.1\"   \"counts.6.1\"   \"counts.8.1\"  \n",
       " [6] \"data.1.1\"     \"data.3.1\"     \"data.5.1\"     \"data.6.1\"     \"data.8.1\"    \n",
       "[11] \"scale.data.1\" \"counts.2.2\"   \"counts.4.2\"   \"counts.7.2\"   \"data.2.2\"    \n",
       "[16] \"data.4.2\"     \"data.7.2\"     \"scale.data.2\""
      ]
     },
     "metadata": {},
     "output_type": "display_data"
    },
    {
     "data": {
      "text/html": [
       "<style>\n",
       ".list-inline {list-style: none; margin:0; padding: 0}\n",
       ".list-inline>li {display: inline-block}\n",
       ".list-inline>li:not(:last-child)::after {content: \"\\00b7\"; padding: 0 .5ex}\n",
       "</style>\n",
       "<ol class=list-inline><li>'scale.data'</li><li>'data'</li><li>'counts'</li></ol>\n"
      ],
      "text/latex": [
       "\\begin{enumerate*}\n",
       "\\item 'scale.data'\n",
       "\\item 'data'\n",
       "\\item 'counts'\n",
       "\\end{enumerate*}\n"
      ],
      "text/markdown": [
       "1. 'scale.data'\n",
       "2. 'data'\n",
       "3. 'counts'\n",
       "\n",
       "\n"
      ],
      "text/plain": [
       "[1] \"scale.data\" \"data\"       \"counts\"    "
      ]
     },
     "metadata": {},
     "output_type": "display_data"
    },
    {
     "name": "stderr",
     "output_type": "stream",
     "text": [
      "Splitting ‘counts’, ‘data’ layers. Not splitting ‘scale.data’. If you would like to split other layers, set in `layers` argument.\n",
      "\n"
     ]
    },
    {
     "data": {
      "text/html": [
       "<style>\n",
       ".list-inline {list-style: none; margin:0; padding: 0}\n",
       ".list-inline>li {display: inline-block}\n",
       ".list-inline>li:not(:last-child)::after {content: \"\\00b7\"; padding: 0 .5ex}\n",
       "</style>\n",
       "<ol class=list-inline><li>'counts.PRJNA907381_MEL022_iLN'</li><li>'counts.PRJNA907381_MEL018_iLN'</li><li>'counts.PRJNA907381_MEL014_iLN'</li><li>'counts.PRJNA907381_MEL009_iLN'</li><li>'counts.PRJNA907381_MEL002_iLN'</li><li>'counts.PRJNA907381_MEL018_uLN'</li><li>'counts.PRJNA907381_MEL014_uLN'</li><li>'counts.PRJNA907381_MEL002_uLN'</li><li>'scale.data'</li><li>'data.PRJNA907381_MEL022_iLN'</li><li>'data.PRJNA907381_MEL018_iLN'</li><li>'data.PRJNA907381_MEL014_iLN'</li><li>'data.PRJNA907381_MEL009_iLN'</li><li>'data.PRJNA907381_MEL002_iLN'</li><li>'data.PRJNA907381_MEL018_uLN'</li><li>'data.PRJNA907381_MEL014_uLN'</li><li>'data.PRJNA907381_MEL002_uLN'</li></ol>\n"
      ],
      "text/latex": [
       "\\begin{enumerate*}\n",
       "\\item 'counts.PRJNA907381\\_MEL022\\_iLN'\n",
       "\\item 'counts.PRJNA907381\\_MEL018\\_iLN'\n",
       "\\item 'counts.PRJNA907381\\_MEL014\\_iLN'\n",
       "\\item 'counts.PRJNA907381\\_MEL009\\_iLN'\n",
       "\\item 'counts.PRJNA907381\\_MEL002\\_iLN'\n",
       "\\item 'counts.PRJNA907381\\_MEL018\\_uLN'\n",
       "\\item 'counts.PRJNA907381\\_MEL014\\_uLN'\n",
       "\\item 'counts.PRJNA907381\\_MEL002\\_uLN'\n",
       "\\item 'scale.data'\n",
       "\\item 'data.PRJNA907381\\_MEL022\\_iLN'\n",
       "\\item 'data.PRJNA907381\\_MEL018\\_iLN'\n",
       "\\item 'data.PRJNA907381\\_MEL014\\_iLN'\n",
       "\\item 'data.PRJNA907381\\_MEL009\\_iLN'\n",
       "\\item 'data.PRJNA907381\\_MEL002\\_iLN'\n",
       "\\item 'data.PRJNA907381\\_MEL018\\_uLN'\n",
       "\\item 'data.PRJNA907381\\_MEL014\\_uLN'\n",
       "\\item 'data.PRJNA907381\\_MEL002\\_uLN'\n",
       "\\end{enumerate*}\n"
      ],
      "text/markdown": [
       "1. 'counts.PRJNA907381_MEL022_iLN'\n",
       "2. 'counts.PRJNA907381_MEL018_iLN'\n",
       "3. 'counts.PRJNA907381_MEL014_iLN'\n",
       "4. 'counts.PRJNA907381_MEL009_iLN'\n",
       "5. 'counts.PRJNA907381_MEL002_iLN'\n",
       "6. 'counts.PRJNA907381_MEL018_uLN'\n",
       "7. 'counts.PRJNA907381_MEL014_uLN'\n",
       "8. 'counts.PRJNA907381_MEL002_uLN'\n",
       "9. 'scale.data'\n",
       "10. 'data.PRJNA907381_MEL022_iLN'\n",
       "11. 'data.PRJNA907381_MEL018_iLN'\n",
       "12. 'data.PRJNA907381_MEL014_iLN'\n",
       "13. 'data.PRJNA907381_MEL009_iLN'\n",
       "14. 'data.PRJNA907381_MEL002_iLN'\n",
       "15. 'data.PRJNA907381_MEL018_uLN'\n",
       "16. 'data.PRJNA907381_MEL014_uLN'\n",
       "17. 'data.PRJNA907381_MEL002_uLN'\n",
       "\n",
       "\n"
      ],
      "text/plain": [
       " [1] \"counts.PRJNA907381_MEL022_iLN\" \"counts.PRJNA907381_MEL018_iLN\"\n",
       " [3] \"counts.PRJNA907381_MEL014_iLN\" \"counts.PRJNA907381_MEL009_iLN\"\n",
       " [5] \"counts.PRJNA907381_MEL002_iLN\" \"counts.PRJNA907381_MEL018_uLN\"\n",
       " [7] \"counts.PRJNA907381_MEL014_uLN\" \"counts.PRJNA907381_MEL002_uLN\"\n",
       " [9] \"scale.data\"                    \"data.PRJNA907381_MEL022_iLN\"  \n",
       "[11] \"data.PRJNA907381_MEL018_iLN\"   \"data.PRJNA907381_MEL014_iLN\"  \n",
       "[13] \"data.PRJNA907381_MEL009_iLN\"   \"data.PRJNA907381_MEL002_iLN\"  \n",
       "[15] \"data.PRJNA907381_MEL018_uLN\"   \"data.PRJNA907381_MEL014_uLN\"  \n",
       "[17] \"data.PRJNA907381_MEL002_uLN\"  "
      ]
     },
     "metadata": {},
     "output_type": "display_data"
    }
   ],
   "source": [
    "#join layers and then split them by integration_id\n",
    "Layers(MEL[[\"RNA\"]])\n",
    "#join layers\n",
    "MEL[[\"RNA\"]] <- JoinLayers(MEL[[\"RNA\"]])\n",
    "Layers(MEL[[\"RNA\"]])\n",
    "#split layers\n",
    "MEL[[\"RNA\"]] <- split(MEL[[\"RNA\"]], f = MEL$integration_id)\n",
    "Layers(MEL[[\"RNA\"]])\n"
   ]
  },
  {
   "cell_type": "code",
   "execution_count": 13,
   "metadata": {
    "vscode": {
     "languageId": "r"
    }
   },
   "outputs": [
    {
     "data": {
      "text/plain": [
       "An object of class Seurat \n",
       "36601 features across 2723 samples within 1 assay \n",
       "Active assay: RNA (36601 features, 2000 variable features)\n",
       " 17 layers present: counts.PRJNA907381_MEL022_iLN, counts.PRJNA907381_MEL018_iLN, counts.PRJNA907381_MEL014_iLN, counts.PRJNA907381_MEL009_iLN, counts.PRJNA907381_MEL002_iLN, counts.PRJNA907381_MEL018_uLN, counts.PRJNA907381_MEL014_uLN, counts.PRJNA907381_MEL002_uLN, scale.data, data.PRJNA907381_MEL022_iLN, data.PRJNA907381_MEL018_iLN, data.PRJNA907381_MEL014_iLN, data.PRJNA907381_MEL009_iLN, data.PRJNA907381_MEL002_iLN, data.PRJNA907381_MEL018_uLN, data.PRJNA907381_MEL014_uLN, data.PRJNA907381_MEL002_uLN"
      ]
     },
     "metadata": {},
     "output_type": "display_data"
    },
    {
     "data": {
      "text/html": [
       "'PRJNA907381'"
      ],
      "text/latex": [
       "'PRJNA907381'"
      ],
      "text/markdown": [
       "'PRJNA907381'"
      ],
      "text/plain": [
       "[1] \"PRJNA907381\""
      ]
     },
     "metadata": {},
     "output_type": "display_data"
    },
    {
     "data": {
      "text/html": [
       "<table class=\"dataframe\">\n",
       "<caption>A data.frame: 6 × 14</caption>\n",
       "<thead>\n",
       "\t<tr><th></th><th scope=col>orig.ident</th><th scope=col>nCount_RNA</th><th scope=col>nFeature_RNA</th><th scope=col>sample_type</th><th scope=col>cancer_type</th><th scope=col>patient_id</th><th scope=col>sample_id</th><th scope=col>percent.mt</th><th scope=col>RNA_snn_res.0.2</th><th scope=col>seurat_clusters</th><th scope=col>site</th><th scope=col>sample_type_major</th><th scope=col>cancer_subtype</th><th scope=col>integration_id</th></tr>\n",
       "\t<tr><th></th><th scope=col>&lt;chr&gt;</th><th scope=col>&lt;dbl&gt;</th><th scope=col>&lt;int&gt;</th><th scope=col>&lt;chr&gt;</th><th scope=col>&lt;chr&gt;</th><th scope=col>&lt;chr&gt;</th><th scope=col>&lt;chr&gt;</th><th scope=col>&lt;dbl&gt;</th><th scope=col>&lt;chr&gt;</th><th scope=col>&lt;chr&gt;</th><th scope=col>&lt;chr&gt;</th><th scope=col>&lt;chr&gt;</th><th scope=col>&lt;chr&gt;</th><th scope=col>&lt;chr&gt;</th></tr>\n",
       "</thead>\n",
       "<tbody>\n",
       "\t<tr><th scope=row>PRJNA907381_MEL022_iLN_AAAGAACCAGCGCGTT-1</th><td>PRJNA907381</td><td>17285</td><td>3704</td><td>LN mets</td><td>Metastatic Melanoma</td><td>MEL022</td><td>PRJNA907381_MEL022_iLN</td><td>2.100087</td><td>6</td><td>6</td><td>lymph node</td><td>metastatic tumour</td><td>Melanoma</td><td>PRJNA907381_MEL022_iLN</td></tr>\n",
       "\t<tr><th scope=row>PRJNA907381_MEL022_iLN_AAAGGGCTCCATAGAC-1</th><td>PRJNA907381</td><td>42925</td><td>6544</td><td>LN mets</td><td>Metastatic Melanoma</td><td>MEL022</td><td>PRJNA907381_MEL022_iLN</td><td>3.934770</td><td>6</td><td>6</td><td>lymph node</td><td>metastatic tumour</td><td>Melanoma</td><td>PRJNA907381_MEL022_iLN</td></tr>\n",
       "\t<tr><th scope=row>PRJNA907381_MEL022_iLN_AACAAAGCAAGTATAG-1</th><td>PRJNA907381</td><td>16549</td><td>3569</td><td>LN mets</td><td>Metastatic Melanoma</td><td>MEL022</td><td>PRJNA907381_MEL022_iLN</td><td>6.689226</td><td>6</td><td>6</td><td>lymph node</td><td>metastatic tumour</td><td>Melanoma</td><td>PRJNA907381_MEL022_iLN</td></tr>\n",
       "\t<tr><th scope=row>PRJNA907381_MEL022_iLN_AACAAGACAGGATTCT-1</th><td>PRJNA907381</td><td>18108</td><td>3854</td><td>LN mets</td><td>Metastatic Melanoma</td><td>MEL022</td><td>PRJNA907381_MEL022_iLN</td><td>4.870775</td><td>6</td><td>6</td><td>lymph node</td><td>metastatic tumour</td><td>Melanoma</td><td>PRJNA907381_MEL022_iLN</td></tr>\n",
       "\t<tr><th scope=row>PRJNA907381_MEL022_iLN_AACCACATCTTTCCAA-1</th><td>PRJNA907381</td><td>31754</td><td>5097</td><td>LN mets</td><td>Metastatic Melanoma</td><td>MEL022</td><td>PRJNA907381_MEL022_iLN</td><td>3.231089</td><td>6</td><td>6</td><td>lymph node</td><td>metastatic tumour</td><td>Melanoma</td><td>PRJNA907381_MEL022_iLN</td></tr>\n",
       "\t<tr><th scope=row>PRJNA907381_MEL022_iLN_AACCATGAGAAGTCTA-1</th><td>PRJNA907381</td><td>26158</td><td>4705</td><td>LN mets</td><td>Metastatic Melanoma</td><td>MEL022</td><td>PRJNA907381_MEL022_iLN</td><td>4.908632</td><td>6</td><td>6</td><td>lymph node</td><td>metastatic tumour</td><td>Melanoma</td><td>PRJNA907381_MEL022_iLN</td></tr>\n",
       "</tbody>\n",
       "</table>\n"
      ],
      "text/latex": [
       "A data.frame: 6 × 14\n",
       "\\begin{tabular}{r|llllllllllllll}\n",
       "  & orig.ident & nCount\\_RNA & nFeature\\_RNA & sample\\_type & cancer\\_type & patient\\_id & sample\\_id & percent.mt & RNA\\_snn\\_res.0.2 & seurat\\_clusters & site & sample\\_type\\_major & cancer\\_subtype & integration\\_id\\\\\n",
       "  & <chr> & <dbl> & <int> & <chr> & <chr> & <chr> & <chr> & <dbl> & <chr> & <chr> & <chr> & <chr> & <chr> & <chr>\\\\\n",
       "\\hline\n",
       "\tPRJNA907381\\_MEL022\\_iLN\\_AAAGAACCAGCGCGTT-1 & PRJNA907381 & 17285 & 3704 & LN mets & Metastatic Melanoma & MEL022 & PRJNA907381\\_MEL022\\_iLN & 2.100087 & 6 & 6 & lymph node & metastatic tumour & Melanoma & PRJNA907381\\_MEL022\\_iLN\\\\\n",
       "\tPRJNA907381\\_MEL022\\_iLN\\_AAAGGGCTCCATAGAC-1 & PRJNA907381 & 42925 & 6544 & LN mets & Metastatic Melanoma & MEL022 & PRJNA907381\\_MEL022\\_iLN & 3.934770 & 6 & 6 & lymph node & metastatic tumour & Melanoma & PRJNA907381\\_MEL022\\_iLN\\\\\n",
       "\tPRJNA907381\\_MEL022\\_iLN\\_AACAAAGCAAGTATAG-1 & PRJNA907381 & 16549 & 3569 & LN mets & Metastatic Melanoma & MEL022 & PRJNA907381\\_MEL022\\_iLN & 6.689226 & 6 & 6 & lymph node & metastatic tumour & Melanoma & PRJNA907381\\_MEL022\\_iLN\\\\\n",
       "\tPRJNA907381\\_MEL022\\_iLN\\_AACAAGACAGGATTCT-1 & PRJNA907381 & 18108 & 3854 & LN mets & Metastatic Melanoma & MEL022 & PRJNA907381\\_MEL022\\_iLN & 4.870775 & 6 & 6 & lymph node & metastatic tumour & Melanoma & PRJNA907381\\_MEL022\\_iLN\\\\\n",
       "\tPRJNA907381\\_MEL022\\_iLN\\_AACCACATCTTTCCAA-1 & PRJNA907381 & 31754 & 5097 & LN mets & Metastatic Melanoma & MEL022 & PRJNA907381\\_MEL022\\_iLN & 3.231089 & 6 & 6 & lymph node & metastatic tumour & Melanoma & PRJNA907381\\_MEL022\\_iLN\\\\\n",
       "\tPRJNA907381\\_MEL022\\_iLN\\_AACCATGAGAAGTCTA-1 & PRJNA907381 & 26158 & 4705 & LN mets & Metastatic Melanoma & MEL022 & PRJNA907381\\_MEL022\\_iLN & 4.908632 & 6 & 6 & lymph node & metastatic tumour & Melanoma & PRJNA907381\\_MEL022\\_iLN\\\\\n",
       "\\end{tabular}\n"
      ],
      "text/markdown": [
       "\n",
       "A data.frame: 6 × 14\n",
       "\n",
       "| <!--/--> | orig.ident &lt;chr&gt; | nCount_RNA &lt;dbl&gt; | nFeature_RNA &lt;int&gt; | sample_type &lt;chr&gt; | cancer_type &lt;chr&gt; | patient_id &lt;chr&gt; | sample_id &lt;chr&gt; | percent.mt &lt;dbl&gt; | RNA_snn_res.0.2 &lt;chr&gt; | seurat_clusters &lt;chr&gt; | site &lt;chr&gt; | sample_type_major &lt;chr&gt; | cancer_subtype &lt;chr&gt; | integration_id &lt;chr&gt; |\n",
       "|---|---|---|---|---|---|---|---|---|---|---|---|---|---|---|\n",
       "| PRJNA907381_MEL022_iLN_AAAGAACCAGCGCGTT-1 | PRJNA907381 | 17285 | 3704 | LN mets | Metastatic Melanoma | MEL022 | PRJNA907381_MEL022_iLN | 2.100087 | 6 | 6 | lymph node | metastatic tumour | Melanoma | PRJNA907381_MEL022_iLN |\n",
       "| PRJNA907381_MEL022_iLN_AAAGGGCTCCATAGAC-1 | PRJNA907381 | 42925 | 6544 | LN mets | Metastatic Melanoma | MEL022 | PRJNA907381_MEL022_iLN | 3.934770 | 6 | 6 | lymph node | metastatic tumour | Melanoma | PRJNA907381_MEL022_iLN |\n",
       "| PRJNA907381_MEL022_iLN_AACAAAGCAAGTATAG-1 | PRJNA907381 | 16549 | 3569 | LN mets | Metastatic Melanoma | MEL022 | PRJNA907381_MEL022_iLN | 6.689226 | 6 | 6 | lymph node | metastatic tumour | Melanoma | PRJNA907381_MEL022_iLN |\n",
       "| PRJNA907381_MEL022_iLN_AACAAGACAGGATTCT-1 | PRJNA907381 | 18108 | 3854 | LN mets | Metastatic Melanoma | MEL022 | PRJNA907381_MEL022_iLN | 4.870775 | 6 | 6 | lymph node | metastatic tumour | Melanoma | PRJNA907381_MEL022_iLN |\n",
       "| PRJNA907381_MEL022_iLN_AACCACATCTTTCCAA-1 | PRJNA907381 | 31754 | 5097 | LN mets | Metastatic Melanoma | MEL022 | PRJNA907381_MEL022_iLN | 3.231089 | 6 | 6 | lymph node | metastatic tumour | Melanoma | PRJNA907381_MEL022_iLN |\n",
       "| PRJNA907381_MEL022_iLN_AACCATGAGAAGTCTA-1 | PRJNA907381 | 26158 | 4705 | LN mets | Metastatic Melanoma | MEL022 | PRJNA907381_MEL022_iLN | 4.908632 | 6 | 6 | lymph node | metastatic tumour | Melanoma | PRJNA907381_MEL022_iLN |\n",
       "\n"
      ],
      "text/plain": [
       "                                          orig.ident  nCount_RNA nFeature_RNA\n",
       "PRJNA907381_MEL022_iLN_AAAGAACCAGCGCGTT-1 PRJNA907381 17285      3704        \n",
       "PRJNA907381_MEL022_iLN_AAAGGGCTCCATAGAC-1 PRJNA907381 42925      6544        \n",
       "PRJNA907381_MEL022_iLN_AACAAAGCAAGTATAG-1 PRJNA907381 16549      3569        \n",
       "PRJNA907381_MEL022_iLN_AACAAGACAGGATTCT-1 PRJNA907381 18108      3854        \n",
       "PRJNA907381_MEL022_iLN_AACCACATCTTTCCAA-1 PRJNA907381 31754      5097        \n",
       "PRJNA907381_MEL022_iLN_AACCATGAGAAGTCTA-1 PRJNA907381 26158      4705        \n",
       "                                          sample_type cancer_type        \n",
       "PRJNA907381_MEL022_iLN_AAAGAACCAGCGCGTT-1 LN mets     Metastatic Melanoma\n",
       "PRJNA907381_MEL022_iLN_AAAGGGCTCCATAGAC-1 LN mets     Metastatic Melanoma\n",
       "PRJNA907381_MEL022_iLN_AACAAAGCAAGTATAG-1 LN mets     Metastatic Melanoma\n",
       "PRJNA907381_MEL022_iLN_AACAAGACAGGATTCT-1 LN mets     Metastatic Melanoma\n",
       "PRJNA907381_MEL022_iLN_AACCACATCTTTCCAA-1 LN mets     Metastatic Melanoma\n",
       "PRJNA907381_MEL022_iLN_AACCATGAGAAGTCTA-1 LN mets     Metastatic Melanoma\n",
       "                                          patient_id sample_id             \n",
       "PRJNA907381_MEL022_iLN_AAAGAACCAGCGCGTT-1 MEL022     PRJNA907381_MEL022_iLN\n",
       "PRJNA907381_MEL022_iLN_AAAGGGCTCCATAGAC-1 MEL022     PRJNA907381_MEL022_iLN\n",
       "PRJNA907381_MEL022_iLN_AACAAAGCAAGTATAG-1 MEL022     PRJNA907381_MEL022_iLN\n",
       "PRJNA907381_MEL022_iLN_AACAAGACAGGATTCT-1 MEL022     PRJNA907381_MEL022_iLN\n",
       "PRJNA907381_MEL022_iLN_AACCACATCTTTCCAA-1 MEL022     PRJNA907381_MEL022_iLN\n",
       "PRJNA907381_MEL022_iLN_AACCATGAGAAGTCTA-1 MEL022     PRJNA907381_MEL022_iLN\n",
       "                                          percent.mt RNA_snn_res.0.2\n",
       "PRJNA907381_MEL022_iLN_AAAGAACCAGCGCGTT-1 2.100087   6              \n",
       "PRJNA907381_MEL022_iLN_AAAGGGCTCCATAGAC-1 3.934770   6              \n",
       "PRJNA907381_MEL022_iLN_AACAAAGCAAGTATAG-1 6.689226   6              \n",
       "PRJNA907381_MEL022_iLN_AACAAGACAGGATTCT-1 4.870775   6              \n",
       "PRJNA907381_MEL022_iLN_AACCACATCTTTCCAA-1 3.231089   6              \n",
       "PRJNA907381_MEL022_iLN_AACCATGAGAAGTCTA-1 4.908632   6              \n",
       "                                          seurat_clusters site      \n",
       "PRJNA907381_MEL022_iLN_AAAGAACCAGCGCGTT-1 6               lymph node\n",
       "PRJNA907381_MEL022_iLN_AAAGGGCTCCATAGAC-1 6               lymph node\n",
       "PRJNA907381_MEL022_iLN_AACAAAGCAAGTATAG-1 6               lymph node\n",
       "PRJNA907381_MEL022_iLN_AACAAGACAGGATTCT-1 6               lymph node\n",
       "PRJNA907381_MEL022_iLN_AACCACATCTTTCCAA-1 6               lymph node\n",
       "PRJNA907381_MEL022_iLN_AACCATGAGAAGTCTA-1 6               lymph node\n",
       "                                          sample_type_major cancer_subtype\n",
       "PRJNA907381_MEL022_iLN_AAAGAACCAGCGCGTT-1 metastatic tumour Melanoma      \n",
       "PRJNA907381_MEL022_iLN_AAAGGGCTCCATAGAC-1 metastatic tumour Melanoma      \n",
       "PRJNA907381_MEL022_iLN_AACAAAGCAAGTATAG-1 metastatic tumour Melanoma      \n",
       "PRJNA907381_MEL022_iLN_AACAAGACAGGATTCT-1 metastatic tumour Melanoma      \n",
       "PRJNA907381_MEL022_iLN_AACCACATCTTTCCAA-1 metastatic tumour Melanoma      \n",
       "PRJNA907381_MEL022_iLN_AACCATGAGAAGTCTA-1 metastatic tumour Melanoma      \n",
       "                                          integration_id        \n",
       "PRJNA907381_MEL022_iLN_AAAGAACCAGCGCGTT-1 PRJNA907381_MEL022_iLN\n",
       "PRJNA907381_MEL022_iLN_AAAGGGCTCCATAGAC-1 PRJNA907381_MEL022_iLN\n",
       "PRJNA907381_MEL022_iLN_AACAAAGCAAGTATAG-1 PRJNA907381_MEL022_iLN\n",
       "PRJNA907381_MEL022_iLN_AACAAGACAGGATTCT-1 PRJNA907381_MEL022_iLN\n",
       "PRJNA907381_MEL022_iLN_AACCACATCTTTCCAA-1 PRJNA907381_MEL022_iLN\n",
       "PRJNA907381_MEL022_iLN_AACCATGAGAAGTCTA-1 PRJNA907381_MEL022_iLN"
      ]
     },
     "metadata": {},
     "output_type": "display_data"
    },
    {
     "data": {
      "text/html": [
       "<table class=\"dataframe\">\n",
       "<caption>A data.frame: 6 × 14</caption>\n",
       "<thead>\n",
       "\t<tr><th></th><th scope=col>orig.ident</th><th scope=col>nCount_RNA</th><th scope=col>nFeature_RNA</th><th scope=col>sample_type</th><th scope=col>cancer_type</th><th scope=col>patient_id</th><th scope=col>sample_id</th><th scope=col>percent.mt</th><th scope=col>RNA_snn_res.0.2</th><th scope=col>seurat_clusters</th><th scope=col>site</th><th scope=col>sample_type_major</th><th scope=col>cancer_subtype</th><th scope=col>integration_id</th></tr>\n",
       "\t<tr><th></th><th scope=col>&lt;chr&gt;</th><th scope=col>&lt;dbl&gt;</th><th scope=col>&lt;int&gt;</th><th scope=col>&lt;chr&gt;</th><th scope=col>&lt;chr&gt;</th><th scope=col>&lt;chr&gt;</th><th scope=col>&lt;chr&gt;</th><th scope=col>&lt;dbl&gt;</th><th scope=col>&lt;chr&gt;</th><th scope=col>&lt;chr&gt;</th><th scope=col>&lt;chr&gt;</th><th scope=col>&lt;chr&gt;</th><th scope=col>&lt;chr&gt;</th><th scope=col>&lt;chr&gt;</th></tr>\n",
       "</thead>\n",
       "<tbody>\n",
       "\t<tr><th scope=row>PRJNA907381_MEL002_uLN_TTTACCACAAATCAAG-1</th><td>PRJNA907381</td><td>34326</td><td>5679</td><td>uninvolved LN</td><td>Healthy</td><td>MEL002</td><td>PRJNA907381_MEL002_uLN</td><td> 3.629902</td><td>6 </td><td>6 </td><td>lymph node</td><td>healthy</td><td>NA</td><td>PRJNA907381_MEL002_uLN</td></tr>\n",
       "\t<tr><th scope=row>PRJNA907381_MEL002_uLN_TTTATGCGTTGCCGCA-1</th><td>PRJNA907381</td><td>20339</td><td>4758</td><td>uninvolved LN</td><td>Healthy</td><td>MEL002</td><td>PRJNA907381_MEL002_uLN</td><td> 6.544078</td><td>6 </td><td>6 </td><td>lymph node</td><td>healthy</td><td>NA</td><td>PRJNA907381_MEL002_uLN</td></tr>\n",
       "\t<tr><th scope=row>PRJNA907381_MEL002_uLN_TTTCATGTCGACGACC-1</th><td>PRJNA907381</td><td>30296</td><td>5207</td><td>uninvolved LN</td><td>Healthy</td><td>MEL002</td><td>PRJNA907381_MEL002_uLN</td><td> 3.383285</td><td>6 </td><td>6 </td><td>lymph node</td><td>healthy</td><td>NA</td><td>PRJNA907381_MEL002_uLN</td></tr>\n",
       "\t<tr><th scope=row>PRJNA907381_MEL002_uLN_TTTCCTCGTTCGAACT-1</th><td>PRJNA907381</td><td>50410</td><td>5915</td><td>uninvolved LN</td><td>Healthy</td><td>MEL002</td><td>PRJNA907381_MEL002_uLN</td><td> 4.558619</td><td>16</td><td>16</td><td>lymph node</td><td>healthy</td><td>NA</td><td>PRJNA907381_MEL002_uLN</td></tr>\n",
       "\t<tr><th scope=row>PRJNA907381_MEL002_uLN_TTTGGAGAGTTCTCTT-1</th><td>PRJNA907381</td><td>13123</td><td>2408</td><td>uninvolved LN</td><td>Healthy</td><td>MEL002</td><td>PRJNA907381_MEL002_uLN</td><td>15.133735</td><td>6 </td><td>6 </td><td>lymph node</td><td>healthy</td><td>NA</td><td>PRJNA907381_MEL002_uLN</td></tr>\n",
       "\t<tr><th scope=row>PRJNA907381_MEL002_uLN_TTTGGTTAGTGGCGAT-1</th><td>PRJNA907381</td><td>25688</td><td>5435</td><td>uninvolved LN</td><td>Healthy</td><td>MEL002</td><td>PRJNA907381_MEL002_uLN</td><td> 7.423700</td><td>6 </td><td>6 </td><td>lymph node</td><td>healthy</td><td>NA</td><td>PRJNA907381_MEL002_uLN</td></tr>\n",
       "</tbody>\n",
       "</table>\n"
      ],
      "text/latex": [
       "A data.frame: 6 × 14\n",
       "\\begin{tabular}{r|llllllllllllll}\n",
       "  & orig.ident & nCount\\_RNA & nFeature\\_RNA & sample\\_type & cancer\\_type & patient\\_id & sample\\_id & percent.mt & RNA\\_snn\\_res.0.2 & seurat\\_clusters & site & sample\\_type\\_major & cancer\\_subtype & integration\\_id\\\\\n",
       "  & <chr> & <dbl> & <int> & <chr> & <chr> & <chr> & <chr> & <dbl> & <chr> & <chr> & <chr> & <chr> & <chr> & <chr>\\\\\n",
       "\\hline\n",
       "\tPRJNA907381\\_MEL002\\_uLN\\_TTTACCACAAATCAAG-1 & PRJNA907381 & 34326 & 5679 & uninvolved LN & Healthy & MEL002 & PRJNA907381\\_MEL002\\_uLN &  3.629902 & 6  & 6  & lymph node & healthy & NA & PRJNA907381\\_MEL002\\_uLN\\\\\n",
       "\tPRJNA907381\\_MEL002\\_uLN\\_TTTATGCGTTGCCGCA-1 & PRJNA907381 & 20339 & 4758 & uninvolved LN & Healthy & MEL002 & PRJNA907381\\_MEL002\\_uLN &  6.544078 & 6  & 6  & lymph node & healthy & NA & PRJNA907381\\_MEL002\\_uLN\\\\\n",
       "\tPRJNA907381\\_MEL002\\_uLN\\_TTTCATGTCGACGACC-1 & PRJNA907381 & 30296 & 5207 & uninvolved LN & Healthy & MEL002 & PRJNA907381\\_MEL002\\_uLN &  3.383285 & 6  & 6  & lymph node & healthy & NA & PRJNA907381\\_MEL002\\_uLN\\\\\n",
       "\tPRJNA907381\\_MEL002\\_uLN\\_TTTCCTCGTTCGAACT-1 & PRJNA907381 & 50410 & 5915 & uninvolved LN & Healthy & MEL002 & PRJNA907381\\_MEL002\\_uLN &  4.558619 & 16 & 16 & lymph node & healthy & NA & PRJNA907381\\_MEL002\\_uLN\\\\\n",
       "\tPRJNA907381\\_MEL002\\_uLN\\_TTTGGAGAGTTCTCTT-1 & PRJNA907381 & 13123 & 2408 & uninvolved LN & Healthy & MEL002 & PRJNA907381\\_MEL002\\_uLN & 15.133735 & 6  & 6  & lymph node & healthy & NA & PRJNA907381\\_MEL002\\_uLN\\\\\n",
       "\tPRJNA907381\\_MEL002\\_uLN\\_TTTGGTTAGTGGCGAT-1 & PRJNA907381 & 25688 & 5435 & uninvolved LN & Healthy & MEL002 & PRJNA907381\\_MEL002\\_uLN &  7.423700 & 6  & 6  & lymph node & healthy & NA & PRJNA907381\\_MEL002\\_uLN\\\\\n",
       "\\end{tabular}\n"
      ],
      "text/markdown": [
       "\n",
       "A data.frame: 6 × 14\n",
       "\n",
       "| <!--/--> | orig.ident &lt;chr&gt; | nCount_RNA &lt;dbl&gt; | nFeature_RNA &lt;int&gt; | sample_type &lt;chr&gt; | cancer_type &lt;chr&gt; | patient_id &lt;chr&gt; | sample_id &lt;chr&gt; | percent.mt &lt;dbl&gt; | RNA_snn_res.0.2 &lt;chr&gt; | seurat_clusters &lt;chr&gt; | site &lt;chr&gt; | sample_type_major &lt;chr&gt; | cancer_subtype &lt;chr&gt; | integration_id &lt;chr&gt; |\n",
       "|---|---|---|---|---|---|---|---|---|---|---|---|---|---|---|\n",
       "| PRJNA907381_MEL002_uLN_TTTACCACAAATCAAG-1 | PRJNA907381 | 34326 | 5679 | uninvolved LN | Healthy | MEL002 | PRJNA907381_MEL002_uLN |  3.629902 | 6  | 6  | lymph node | healthy | NA | PRJNA907381_MEL002_uLN |\n",
       "| PRJNA907381_MEL002_uLN_TTTATGCGTTGCCGCA-1 | PRJNA907381 | 20339 | 4758 | uninvolved LN | Healthy | MEL002 | PRJNA907381_MEL002_uLN |  6.544078 | 6  | 6  | lymph node | healthy | NA | PRJNA907381_MEL002_uLN |\n",
       "| PRJNA907381_MEL002_uLN_TTTCATGTCGACGACC-1 | PRJNA907381 | 30296 | 5207 | uninvolved LN | Healthy | MEL002 | PRJNA907381_MEL002_uLN |  3.383285 | 6  | 6  | lymph node | healthy | NA | PRJNA907381_MEL002_uLN |\n",
       "| PRJNA907381_MEL002_uLN_TTTCCTCGTTCGAACT-1 | PRJNA907381 | 50410 | 5915 | uninvolved LN | Healthy | MEL002 | PRJNA907381_MEL002_uLN |  4.558619 | 16 | 16 | lymph node | healthy | NA | PRJNA907381_MEL002_uLN |\n",
       "| PRJNA907381_MEL002_uLN_TTTGGAGAGTTCTCTT-1 | PRJNA907381 | 13123 | 2408 | uninvolved LN | Healthy | MEL002 | PRJNA907381_MEL002_uLN | 15.133735 | 6  | 6  | lymph node | healthy | NA | PRJNA907381_MEL002_uLN |\n",
       "| PRJNA907381_MEL002_uLN_TTTGGTTAGTGGCGAT-1 | PRJNA907381 | 25688 | 5435 | uninvolved LN | Healthy | MEL002 | PRJNA907381_MEL002_uLN |  7.423700 | 6  | 6  | lymph node | healthy | NA | PRJNA907381_MEL002_uLN |\n",
       "\n"
      ],
      "text/plain": [
       "                                          orig.ident  nCount_RNA nFeature_RNA\n",
       "PRJNA907381_MEL002_uLN_TTTACCACAAATCAAG-1 PRJNA907381 34326      5679        \n",
       "PRJNA907381_MEL002_uLN_TTTATGCGTTGCCGCA-1 PRJNA907381 20339      4758        \n",
       "PRJNA907381_MEL002_uLN_TTTCATGTCGACGACC-1 PRJNA907381 30296      5207        \n",
       "PRJNA907381_MEL002_uLN_TTTCCTCGTTCGAACT-1 PRJNA907381 50410      5915        \n",
       "PRJNA907381_MEL002_uLN_TTTGGAGAGTTCTCTT-1 PRJNA907381 13123      2408        \n",
       "PRJNA907381_MEL002_uLN_TTTGGTTAGTGGCGAT-1 PRJNA907381 25688      5435        \n",
       "                                          sample_type   cancer_type patient_id\n",
       "PRJNA907381_MEL002_uLN_TTTACCACAAATCAAG-1 uninvolved LN Healthy     MEL002    \n",
       "PRJNA907381_MEL002_uLN_TTTATGCGTTGCCGCA-1 uninvolved LN Healthy     MEL002    \n",
       "PRJNA907381_MEL002_uLN_TTTCATGTCGACGACC-1 uninvolved LN Healthy     MEL002    \n",
       "PRJNA907381_MEL002_uLN_TTTCCTCGTTCGAACT-1 uninvolved LN Healthy     MEL002    \n",
       "PRJNA907381_MEL002_uLN_TTTGGAGAGTTCTCTT-1 uninvolved LN Healthy     MEL002    \n",
       "PRJNA907381_MEL002_uLN_TTTGGTTAGTGGCGAT-1 uninvolved LN Healthy     MEL002    \n",
       "                                          sample_id              percent.mt\n",
       "PRJNA907381_MEL002_uLN_TTTACCACAAATCAAG-1 PRJNA907381_MEL002_uLN  3.629902 \n",
       "PRJNA907381_MEL002_uLN_TTTATGCGTTGCCGCA-1 PRJNA907381_MEL002_uLN  6.544078 \n",
       "PRJNA907381_MEL002_uLN_TTTCATGTCGACGACC-1 PRJNA907381_MEL002_uLN  3.383285 \n",
       "PRJNA907381_MEL002_uLN_TTTCCTCGTTCGAACT-1 PRJNA907381_MEL002_uLN  4.558619 \n",
       "PRJNA907381_MEL002_uLN_TTTGGAGAGTTCTCTT-1 PRJNA907381_MEL002_uLN 15.133735 \n",
       "PRJNA907381_MEL002_uLN_TTTGGTTAGTGGCGAT-1 PRJNA907381_MEL002_uLN  7.423700 \n",
       "                                          RNA_snn_res.0.2 seurat_clusters\n",
       "PRJNA907381_MEL002_uLN_TTTACCACAAATCAAG-1 6               6              \n",
       "PRJNA907381_MEL002_uLN_TTTATGCGTTGCCGCA-1 6               6              \n",
       "PRJNA907381_MEL002_uLN_TTTCATGTCGACGACC-1 6               6              \n",
       "PRJNA907381_MEL002_uLN_TTTCCTCGTTCGAACT-1 16              16             \n",
       "PRJNA907381_MEL002_uLN_TTTGGAGAGTTCTCTT-1 6               6              \n",
       "PRJNA907381_MEL002_uLN_TTTGGTTAGTGGCGAT-1 6               6              \n",
       "                                          site       sample_type_major\n",
       "PRJNA907381_MEL002_uLN_TTTACCACAAATCAAG-1 lymph node healthy          \n",
       "PRJNA907381_MEL002_uLN_TTTATGCGTTGCCGCA-1 lymph node healthy          \n",
       "PRJNA907381_MEL002_uLN_TTTCATGTCGACGACC-1 lymph node healthy          \n",
       "PRJNA907381_MEL002_uLN_TTTCCTCGTTCGAACT-1 lymph node healthy          \n",
       "PRJNA907381_MEL002_uLN_TTTGGAGAGTTCTCTT-1 lymph node healthy          \n",
       "PRJNA907381_MEL002_uLN_TTTGGTTAGTGGCGAT-1 lymph node healthy          \n",
       "                                          cancer_subtype integration_id        \n",
       "PRJNA907381_MEL002_uLN_TTTACCACAAATCAAG-1 NA             PRJNA907381_MEL002_uLN\n",
       "PRJNA907381_MEL002_uLN_TTTATGCGTTGCCGCA-1 NA             PRJNA907381_MEL002_uLN\n",
       "PRJNA907381_MEL002_uLN_TTTCATGTCGACGACC-1 NA             PRJNA907381_MEL002_uLN\n",
       "PRJNA907381_MEL002_uLN_TTTCCTCGTTCGAACT-1 NA             PRJNA907381_MEL002_uLN\n",
       "PRJNA907381_MEL002_uLN_TTTGGAGAGTTCTCTT-1 NA             PRJNA907381_MEL002_uLN\n",
       "PRJNA907381_MEL002_uLN_TTTGGTTAGTGGCGAT-1 NA             PRJNA907381_MEL002_uLN"
      ]
     },
     "metadata": {},
     "output_type": "display_data"
    },
    {
     "data": {
      "text/plain": [
       "\n",
       "PRJNA907381_MEL002_iLN PRJNA907381_MEL002_uLN PRJNA907381_MEL009_iLN \n",
       "                   164                    450                    404 \n",
       "PRJNA907381_MEL014_iLN PRJNA907381_MEL014_uLN PRJNA907381_MEL018_iLN \n",
       "                   422                    321                    369 \n",
       "PRJNA907381_MEL018_uLN PRJNA907381_MEL022_iLN \n",
       "                   416                    177 "
      ]
     },
     "metadata": {},
     "output_type": "display_data"
    }
   ],
   "source": [
    "#record number of cells\n",
    "MEL\n",
    "MEL@project.name\n",
    "head(MEL@meta.data)\n",
    "tail(MEL@meta.data)\n",
    "table(MEL$integration_id)"
   ]
  },
  {
   "cell_type": "code",
   "execution_count": 14,
   "metadata": {
    "vscode": {
     "languageId": "r"
    }
   },
   "outputs": [],
   "source": [
    "#re-export seurat object ready for integration\n",
    "saveRDS(MEL, \"/scratch/user/s4436039/scdata/Myeloid_Cells/Myeloid_Cells_Integrate/PRJNA907381_myeloid_int.RDS\")"
   ]
  },
  {
   "cell_type": "code",
   "execution_count": 15,
   "metadata": {
    "vscode": {
     "languageId": "r"
    }
   },
   "outputs": [],
   "source": [
    "#remove all objects in R\n",
    "rm(list = ls())"
   ]
  },
  {
   "cell_type": "markdown",
   "metadata": {},
   "source": [
    "## GSE161529"
   ]
  },
  {
   "cell_type": "code",
   "execution_count": 16,
   "metadata": {
    "vscode": {
     "languageId": "r"
    }
   },
   "outputs": [],
   "source": [
    "BRE <- readRDS(\"/scratch/user/s4436039/scdata/Myeloid_Cells/GSE161529_myeloid.RDS\")"
   ]
  },
  {
   "cell_type": "code",
   "execution_count": 17,
   "metadata": {
    "vscode": {
     "languageId": "r"
    }
   },
   "outputs": [
    {
     "data": {
      "text/plain": [
       "An object of class Seurat \n",
       "33538 features across 24082 samples within 1 assay \n",
       "Active assay: RNA (33538 features, 2000 variable features)\n",
       " 117 layers present: counts.1, counts.2, counts.3, counts.4, counts.5, counts.6, counts.7, counts.8, counts.9, counts.10, counts.11, counts.12, counts.13, counts.14, counts.15, counts.16, counts.17, counts.18, counts.19, counts.20, counts.21, counts.22, counts.23, counts.24, counts.25, counts.26, counts.27, counts.28, counts.29, counts.30, counts.31, counts.32, counts.33, counts.34, counts.35, counts.36, counts.37, counts.38, counts.39, counts.40, counts.41, counts.42, counts.43, counts.44, counts.45, counts.46, counts.47, counts.48, counts.49, counts.50, counts.51, counts.52, counts.53, counts.54, counts.55, counts.56, counts.57, counts.58, data.1, data.2, data.3, data.4, data.5, data.6, data.7, data.8, data.9, data.10, data.11, data.12, data.13, data.14, data.15, data.16, data.17, data.18, data.19, data.20, data.21, data.22, data.23, data.24, data.25, data.26, data.27, data.28, data.29, data.30, data.31, data.32, data.33, data.34, data.35, data.36, data.37, data.38, data.39, data.40, data.41, data.42, data.43, data.44, data.45, data.46, data.47, data.48, data.49, data.50, data.51, data.52, data.53, data.54, data.55, data.56, data.57, data.58, scale.data\n",
       " 2 dimensional reductions calculated: pca, umap"
      ]
     },
     "metadata": {},
     "output_type": "display_data"
    },
    {
     "data": {
      "text/html": [
       "'GSE161529'"
      ],
      "text/latex": [
       "'GSE161529'"
      ],
      "text/markdown": [
       "'GSE161529'"
      ],
      "text/plain": [
       "[1] \"GSE161529\""
      ]
     },
     "metadata": {},
     "output_type": "display_data"
    },
    {
     "data": {
      "text/html": [
       "<table class=\"dataframe\">\n",
       "<caption>A data.frame: 6 × 10</caption>\n",
       "<thead>\n",
       "\t<tr><th></th><th scope=col>orig.ident</th><th scope=col>nCount_RNA</th><th scope=col>nFeature_RNA</th><th scope=col>sample_type</th><th scope=col>cancer_type</th><th scope=col>patient_id</th><th scope=col>sample_id</th><th scope=col>percent.mt</th><th scope=col>RNA_snn_res.0.2</th><th scope=col>seurat_clusters</th></tr>\n",
       "\t<tr><th></th><th scope=col>&lt;chr&gt;</th><th scope=col>&lt;dbl&gt;</th><th scope=col>&lt;int&gt;</th><th scope=col>&lt;chr&gt;</th><th scope=col>&lt;chr&gt;</th><th scope=col>&lt;chr&gt;</th><th scope=col>&lt;chr&gt;</th><th scope=col>&lt;dbl&gt;</th><th scope=col>&lt;fct&gt;</th><th scope=col>&lt;fct&gt;</th></tr>\n",
       "</thead>\n",
       "<tbody>\n",
       "\t<tr><th scope=row>GSE161529_B10023_AAAGCAATCCAGTATG-1</th><td>GSE161529</td><td> 576</td><td> 348</td><td>pre-neoplastic</td><td>BRCA1 pre-neoplastic</td><td>0023</td><td>GSE161529_pre-neo_B10023</td><td>5.555556</td><td>1</td><td>1</td></tr>\n",
       "\t<tr><th scope=row>GSE161529_B10023_AACTCCCCACAAGACG-1</th><td>GSE161529</td><td>1279</td><td> 534</td><td>pre-neoplastic</td><td>BRCA1 pre-neoplastic</td><td>0023</td><td>GSE161529_pre-neo_B10023</td><td>2.345582</td><td>1</td><td>1</td></tr>\n",
       "\t<tr><th scope=row>GSE161529_B10023_AAGGTTCTCCTTGCCA-1</th><td>GSE161529</td><td>3314</td><td>1095</td><td>pre-neoplastic</td><td>BRCA1 pre-neoplastic</td><td>0023</td><td>GSE161529_pre-neo_B10023</td><td>4.405552</td><td>1</td><td>1</td></tr>\n",
       "\t<tr><th scope=row>GSE161529_B10023_ACATACGGTGGCGAAT-1</th><td>GSE161529</td><td>2616</td><td> 922</td><td>pre-neoplastic</td><td>BRCA1 pre-neoplastic</td><td>0023</td><td>GSE161529_pre-neo_B10023</td><td>2.561162</td><td>1</td><td>1</td></tr>\n",
       "\t<tr><th scope=row>GSE161529_B10023_ACCCACTCATATGGTC-1</th><td>GSE161529</td><td>3568</td><td>1209</td><td>pre-neoplastic</td><td>BRCA1 pre-neoplastic</td><td>0023</td><td>GSE161529_pre-neo_B10023</td><td>3.559417</td><td>1</td><td>1</td></tr>\n",
       "\t<tr><th scope=row>GSE161529_B10023_ACTGCTCTCATGCAAC-1</th><td>GSE161529</td><td>1140</td><td> 463</td><td>pre-neoplastic</td><td>BRCA1 pre-neoplastic</td><td>0023</td><td>GSE161529_pre-neo_B10023</td><td>8.421053</td><td>1</td><td>1</td></tr>\n",
       "</tbody>\n",
       "</table>\n"
      ],
      "text/latex": [
       "A data.frame: 6 × 10\n",
       "\\begin{tabular}{r|llllllllll}\n",
       "  & orig.ident & nCount\\_RNA & nFeature\\_RNA & sample\\_type & cancer\\_type & patient\\_id & sample\\_id & percent.mt & RNA\\_snn\\_res.0.2 & seurat\\_clusters\\\\\n",
       "  & <chr> & <dbl> & <int> & <chr> & <chr> & <chr> & <chr> & <dbl> & <fct> & <fct>\\\\\n",
       "\\hline\n",
       "\tGSE161529\\_B10023\\_AAAGCAATCCAGTATG-1 & GSE161529 &  576 &  348 & pre-neoplastic & BRCA1 pre-neoplastic & 0023 & GSE161529\\_pre-neo\\_B10023 & 5.555556 & 1 & 1\\\\\n",
       "\tGSE161529\\_B10023\\_AACTCCCCACAAGACG-1 & GSE161529 & 1279 &  534 & pre-neoplastic & BRCA1 pre-neoplastic & 0023 & GSE161529\\_pre-neo\\_B10023 & 2.345582 & 1 & 1\\\\\n",
       "\tGSE161529\\_B10023\\_AAGGTTCTCCTTGCCA-1 & GSE161529 & 3314 & 1095 & pre-neoplastic & BRCA1 pre-neoplastic & 0023 & GSE161529\\_pre-neo\\_B10023 & 4.405552 & 1 & 1\\\\\n",
       "\tGSE161529\\_B10023\\_ACATACGGTGGCGAAT-1 & GSE161529 & 2616 &  922 & pre-neoplastic & BRCA1 pre-neoplastic & 0023 & GSE161529\\_pre-neo\\_B10023 & 2.561162 & 1 & 1\\\\\n",
       "\tGSE161529\\_B10023\\_ACCCACTCATATGGTC-1 & GSE161529 & 3568 & 1209 & pre-neoplastic & BRCA1 pre-neoplastic & 0023 & GSE161529\\_pre-neo\\_B10023 & 3.559417 & 1 & 1\\\\\n",
       "\tGSE161529\\_B10023\\_ACTGCTCTCATGCAAC-1 & GSE161529 & 1140 &  463 & pre-neoplastic & BRCA1 pre-neoplastic & 0023 & GSE161529\\_pre-neo\\_B10023 & 8.421053 & 1 & 1\\\\\n",
       "\\end{tabular}\n"
      ],
      "text/markdown": [
       "\n",
       "A data.frame: 6 × 10\n",
       "\n",
       "| <!--/--> | orig.ident &lt;chr&gt; | nCount_RNA &lt;dbl&gt; | nFeature_RNA &lt;int&gt; | sample_type &lt;chr&gt; | cancer_type &lt;chr&gt; | patient_id &lt;chr&gt; | sample_id &lt;chr&gt; | percent.mt &lt;dbl&gt; | RNA_snn_res.0.2 &lt;fct&gt; | seurat_clusters &lt;fct&gt; |\n",
       "|---|---|---|---|---|---|---|---|---|---|---|\n",
       "| GSE161529_B10023_AAAGCAATCCAGTATG-1 | GSE161529 |  576 |  348 | pre-neoplastic | BRCA1 pre-neoplastic | 0023 | GSE161529_pre-neo_B10023 | 5.555556 | 1 | 1 |\n",
       "| GSE161529_B10023_AACTCCCCACAAGACG-1 | GSE161529 | 1279 |  534 | pre-neoplastic | BRCA1 pre-neoplastic | 0023 | GSE161529_pre-neo_B10023 | 2.345582 | 1 | 1 |\n",
       "| GSE161529_B10023_AAGGTTCTCCTTGCCA-1 | GSE161529 | 3314 | 1095 | pre-neoplastic | BRCA1 pre-neoplastic | 0023 | GSE161529_pre-neo_B10023 | 4.405552 | 1 | 1 |\n",
       "| GSE161529_B10023_ACATACGGTGGCGAAT-1 | GSE161529 | 2616 |  922 | pre-neoplastic | BRCA1 pre-neoplastic | 0023 | GSE161529_pre-neo_B10023 | 2.561162 | 1 | 1 |\n",
       "| GSE161529_B10023_ACCCACTCATATGGTC-1 | GSE161529 | 3568 | 1209 | pre-neoplastic | BRCA1 pre-neoplastic | 0023 | GSE161529_pre-neo_B10023 | 3.559417 | 1 | 1 |\n",
       "| GSE161529_B10023_ACTGCTCTCATGCAAC-1 | GSE161529 | 1140 |  463 | pre-neoplastic | BRCA1 pre-neoplastic | 0023 | GSE161529_pre-neo_B10023 | 8.421053 | 1 | 1 |\n",
       "\n"
      ],
      "text/plain": [
       "                                    orig.ident nCount_RNA nFeature_RNA\n",
       "GSE161529_B10023_AAAGCAATCCAGTATG-1 GSE161529   576        348        \n",
       "GSE161529_B10023_AACTCCCCACAAGACG-1 GSE161529  1279        534        \n",
       "GSE161529_B10023_AAGGTTCTCCTTGCCA-1 GSE161529  3314       1095        \n",
       "GSE161529_B10023_ACATACGGTGGCGAAT-1 GSE161529  2616        922        \n",
       "GSE161529_B10023_ACCCACTCATATGGTC-1 GSE161529  3568       1209        \n",
       "GSE161529_B10023_ACTGCTCTCATGCAAC-1 GSE161529  1140        463        \n",
       "                                    sample_type    cancer_type         \n",
       "GSE161529_B10023_AAAGCAATCCAGTATG-1 pre-neoplastic BRCA1 pre-neoplastic\n",
       "GSE161529_B10023_AACTCCCCACAAGACG-1 pre-neoplastic BRCA1 pre-neoplastic\n",
       "GSE161529_B10023_AAGGTTCTCCTTGCCA-1 pre-neoplastic BRCA1 pre-neoplastic\n",
       "GSE161529_B10023_ACATACGGTGGCGAAT-1 pre-neoplastic BRCA1 pre-neoplastic\n",
       "GSE161529_B10023_ACCCACTCATATGGTC-1 pre-neoplastic BRCA1 pre-neoplastic\n",
       "GSE161529_B10023_ACTGCTCTCATGCAAC-1 pre-neoplastic BRCA1 pre-neoplastic\n",
       "                                    patient_id sample_id               \n",
       "GSE161529_B10023_AAAGCAATCCAGTATG-1 0023       GSE161529_pre-neo_B10023\n",
       "GSE161529_B10023_AACTCCCCACAAGACG-1 0023       GSE161529_pre-neo_B10023\n",
       "GSE161529_B10023_AAGGTTCTCCTTGCCA-1 0023       GSE161529_pre-neo_B10023\n",
       "GSE161529_B10023_ACATACGGTGGCGAAT-1 0023       GSE161529_pre-neo_B10023\n",
       "GSE161529_B10023_ACCCACTCATATGGTC-1 0023       GSE161529_pre-neo_B10023\n",
       "GSE161529_B10023_ACTGCTCTCATGCAAC-1 0023       GSE161529_pre-neo_B10023\n",
       "                                    percent.mt RNA_snn_res.0.2 seurat_clusters\n",
       "GSE161529_B10023_AAAGCAATCCAGTATG-1 5.555556   1               1              \n",
       "GSE161529_B10023_AACTCCCCACAAGACG-1 2.345582   1               1              \n",
       "GSE161529_B10023_AAGGTTCTCCTTGCCA-1 4.405552   1               1              \n",
       "GSE161529_B10023_ACATACGGTGGCGAAT-1 2.561162   1               1              \n",
       "GSE161529_B10023_ACCCACTCATATGGTC-1 3.559417   1               1              \n",
       "GSE161529_B10023_ACTGCTCTCATGCAAC-1 8.421053   1               1              "
      ]
     },
     "metadata": {},
     "output_type": "display_data"
    }
   ],
   "source": [
    "BRE\n",
    "BRE@project.name\n",
    "head(BRE@meta.data)"
   ]
  },
  {
   "cell_type": "code",
   "execution_count": 18,
   "metadata": {
    "vscode": {
     "languageId": "r"
    }
   },
   "outputs": [
    {
     "data": {
      "text/plain": [
       "\n",
       "Healthy breast        LN mets pre-neoplastic         tumour \n",
       "          1136            979            287          21680 "
      ]
     },
     "metadata": {},
     "output_type": "display_data"
    },
    {
     "data": {
      "text/plain": [
       "\n",
       "      BRCA1 pre-neoplastic                 BRCA1 TNBC \n",
       "                       287                       4946 \n",
       "          ER breast cancer      ER breast cancer mets \n",
       "                      9298                        976 \n",
       "                   Healthy         HER2 breast cancer \n",
       "                      1136                       4076 \n",
       "     male ER breast cancer male ER breast cancer mets \n",
       "                      1673                          3 \n",
       "                      TNBC \n",
       "                      1687 "
      ]
     },
     "metadata": {},
     "output_type": "display_data"
    },
    {
     "data": {
      "text/plain": [
       "\n",
       "0001 0019 0021 0023 0025 0029 0031 0032 0033 0040 0042 0043 0056 0064 0068 0069 \n",
       " 452  122    6  117  578  416  905  100   73  637 2116 1454   74  246   10   60 \n",
       "0090 0092 0095 0106 0114 0125 0126 0131 0135 0151 0161 0163 0167 0169 0173 0176 \n",
       " 129   50   44  285  494  201  474   49  684  290  161  475  681  433 1610  979 \n",
       "0177 0178 0230 0233 0275 0288 0308 0319 0337 0342 0360 0372 0554 0894 4031 \n",
       "3084 1666   22  203    4    2  377  495 1594   57  202  118 1754   40   59 "
      ]
     },
     "metadata": {},
     "output_type": "display_data"
    },
    {
     "data": {
      "text/plain": [
       "\n",
       "      GSE161529_BRCA1_TNBC_0131       GSE161529_BRCA1_TNBC_0177 \n",
       "                             49                            3084 \n",
       "      GSE161529_BRCA1_TNBC_0554       GSE161529_BRCA1_TNBC_4031 \n",
       "                           1754                              59 \n",
       "     GSE161529_ER_breast_ER0001      GSE161529_ER_breast_ER0025 \n",
       "                            452                             578 \n",
       "  GSE161529_ER_breast_ER0029_7C   GSE161529_ER_breast_ER0029_9C \n",
       "                            248                             168 \n",
       "     GSE161529_ER_breast_ER0032      GSE161529_ER_breast_ER0040 \n",
       "                            100                             350 \n",
       "     GSE161529_ER_breast_ER0042      GSE161529_ER_breast_ER0043 \n",
       "                           2116                            1448 \n",
       "     GSE161529_ER_breast_ER0056      GSE161529_ER_breast_ER0064 \n",
       "                             20                             154 \n",
       "     GSE161529_ER_breast_ER0114      GSE161529_ER_breast_ER0125 \n",
       "                            250                             201 \n",
       "     GSE161529_ER_breast_ER0151      GSE161529_ER_breast_ER0163 \n",
       "                            290                             475 \n",
       "     GSE161529_ER_breast_ER0167      GSE161529_ER_breast_ER0173 \n",
       "                            396                            1355 \n",
       "     GSE161529_ER_breast_ER0319      GSE161529_ER_breast_ER0360 \n",
       "                            495                             202 \n",
       "GSE161529_ER_breast_mets_ER0040 GSE161529_ER_breast_mets_ER0043 \n",
       "                            287                               6 \n",
       "GSE161529_ER_breast_mets_ER0056 GSE161529_ER_breast_mets_ER0064 \n",
       "                             54                              89 \n",
       "GSE161529_ER_breast_mets_ER0167 GSE161529_ER_breast_mets_ER0173 \n",
       "                            285                             255 \n",
       "  GSE161529_Healthy_breast_0019   GSE161529_Healthy_breast_0021 \n",
       "                            122                               6 \n",
       "  GSE161529_Healthy_breast_0023   GSE161529_Healthy_breast_0064 \n",
       "                             72                               3 \n",
       "  GSE161529_Healthy_breast_0092   GSE161529_Healthy_breast_0095 \n",
       "                             50                              44 \n",
       "  GSE161529_Healthy_breast_0169   GSE161529_Healthy_breast_0230 \n",
       "                            433                              22 \n",
       "  GSE161529_Healthy_breast_0233   GSE161529_Healthy_breast_0275 \n",
       "                            203                               4 \n",
       "  GSE161529_Healthy_breast_0288   GSE161529_Healthy_breast_0342 \n",
       "                              2                              57 \n",
       "  GSE161529_Healthy_breast_0372      GSE161529_HER2_breast_0031 \n",
       "                            118                             905 \n",
       "     GSE161529_HER2_breast_0069      GSE161529_HER2_breast_0161 \n",
       "                             60                             161 \n",
       "     GSE161529_HER2_breast_0176      GSE161529_HER2_breast_0308 \n",
       "                            979                             377 \n",
       "     GSE161529_HER2_breast_0337       GSE161529_mER_breast_0068 \n",
       "                           1594                               7 \n",
       "      GSE161529_mER_breast_0178  GSE161529_mER_breast_mets_0068 \n",
       "                           1666                               3 \n",
       "       GSE161529_pre-neo_B10023        GSE161529_pre-neo_B10033 \n",
       "                             45                              73 \n",
       "       GSE161529_pre-neo_B10090        GSE161529_pre-neo_B10894 \n",
       "                            129                              40 \n",
       "            GSE161529_TNBC_0106             GSE161529_TNBC_0114 \n",
       "                            285                             244 \n",
       "            GSE161529_TNBC_0126             GSE161529_TNBC_0135 \n",
       "                            474                             684 "
      ]
     },
     "metadata": {},
     "output_type": "display_data"
    }
   ],
   "source": [
    "table(BRE$sample_type)\n",
    "table(BRE$cancer_type)\n",
    "table(BRE$patient_id)\n",
    "table(BRE$sample_id)"
   ]
  },
  {
   "cell_type": "code",
   "execution_count": 19,
   "metadata": {
    "vscode": {
     "languageId": "r"
    }
   },
   "outputs": [
    {
     "data": {
      "text/plain": [
       "\n",
       "      BRCA1 pre-neoplastic                 BRCA1 TNBC \n",
       "                       287                       4946 \n",
       "          ER breast cancer      ER breast cancer mets \n",
       "                      9298                        976 \n",
       "                   Healthy         HER2 breast cancer \n",
       "                      1136                       4076 \n",
       "     male ER breast cancer male ER breast cancer mets \n",
       "                      1673                          3 \n",
       "                      TNBC \n",
       "                      1687 "
      ]
     },
     "metadata": {},
     "output_type": "display_data"
    }
   ],
   "source": [
    "table(BRE$cancer_type)"
   ]
  },
  {
   "cell_type": "code",
   "execution_count": 20,
   "metadata": {
    "vscode": {
     "languageId": "r"
    }
   },
   "outputs": [],
   "source": [
    "#set site metadata, split by sample_type\n",
    "BRE_H <- subset(BRE, subset = sample_type %in% c(\"Healthy breast\"))\n",
    "BRE_LN <- subset(BRE, subset = sample_type %in% c(\"LN mets\"))\n",
    "BRE_pre <- subset(BRE, subset = sample_type %in% c(\"pre-neoplastic\"))\n",
    "BRE_T <- subset(BRE, subset = sample_type %in% c(\"tumour\"))\n",
    "\n",
    "BRE_H@meta.data$site <- \"breast\"\n",
    "BRE_LN@meta.data$site <- \"lymph node\"\n",
    "BRE_pre@meta.data$site <- \"breast\"\n",
    "BRE_T@meta.data$site <- \"breast\"\n",
    "\n",
    "#set sample_type_major metadata\n",
    "BRE_H@meta.data$sample_type_major <- \"healthy\"\n",
    "BRE_LN@meta.data$sample_type_major <- \"metastatic tumour\"\n",
    "BRE_pre@meta.data$sample_type_major <- \"pre-neoplastic BRCA1\"\n",
    "BRE_T@meta.data$sample_type_major <- \"primary tumour\"\n",
    "\n",
    "#merge back together \n",
    "BRE <- merge(BRE_H, y = c(BRE_LN, BRE_pre, BRE_T), project = \"GSE161529\")\n",
    "\n",
    "#set cancer_subtype metadata, split by cancer_type \n",
    "BRE_pre <- subset(BRE, subset = cancer_type %in% c(\"BRCA1 pre-neoplastic\"))\n",
    "BRE_B_TNBC <- subset(BRE, subset = cancer_type %in% c(\"BRCA1 TNBC\"))\n",
    "BRE_ER <- subset(BRE, subset = cancer_type %in% c(\"ER breast cancer\"))\n",
    "BRE_ER_mets <- subset(BRE, subset = cancer_type %in% c(\"ER breast cancer mets\"))\n",
    "BRE_H <- subset(BRE, subset = cancer_type %in% c(\"Healthy\"))\n",
    "BRE_HER2 <- subset(BRE, subset = cancer_type %in% c(\"HER2 breast cancer\"))\n",
    "BRE_m_ER <- subset(BRE, subset = cancer_type %in% c(\"male ER breast cancer\"))\n",
    "BRE_m_ER_mets <- subset(BRE, subset = cancer_type %in% c(\"male ER breast cancer mets\"))\n",
    "BRE_TNBC <- subset(BRE, subset = cancer_type %in% c(\"TNBC\"))\n",
    "\n",
    "BRE_pre@meta.data$cancer_subtype <- \"NA\"\n",
    "BRE_B_TNBC@meta.data$cancer_subtype <- \"BRCA1 TNBC\" \n",
    "BRE_ER@meta.data$cancer_subtype <- \"ER Breast Cancer\" \n",
    "BRE_ER_mets@meta.data$cancer_subtype <- \"ER Breast Cancer\" \n",
    "BRE_H@meta.data$cancer_subtype <- \"NA\" \n",
    "BRE_HER2@meta.data$cancer_subtype <- \"HER2 Breast Cancer\" \n",
    "BRE_m_ER@meta.data$cancer_subtype <- \"male ER Breast Cancer\" \n",
    "BRE_m_ER_mets@meta.data$cancer_subtype <- \"male ER Breast Cancer\" \n",
    "BRE_TNBC@meta.data$cancer_subtype <- \"TNBC\" \n",
    "\n",
    "#merge back together \n",
    "BRE <- merge(BRE_pre, y = c(BRE_B_TNBC, BRE_ER, BRE_ER_mets, BRE_H, BRE_HER2, BRE_m_ER, BRE_m_ER_mets, BRE_TNBC), project = \"GSE161529\")"
   ]
  },
  {
   "cell_type": "code",
   "execution_count": 21,
   "metadata": {
    "vscode": {
     "languageId": "r"
    }
   },
   "outputs": [],
   "source": [
    "#set integration_id metadata\n",
    "BRE@meta.data$integration_id <- BRE@meta.data$sample_id"
   ]
  },
  {
   "cell_type": "code",
   "execution_count": 22,
   "metadata": {
    "vscode": {
     "languageId": "r"
    }
   },
   "outputs": [
    {
     "data": {
      "text/plain": [
       "An object of class Seurat \n",
       "33538 features across 24082 samples within 1 assay \n",
       "Active assay: RNA (33538 features, 2000 variable features)\n",
       " 125 layers present: counts.1.3.1, counts.2.3.1, counts.3.3.1, counts.4.3.1, data.1.3.1, data.2.3.1, data.3.3.1, data.4.3.1, scale.data.3.1, counts.55.4.2, counts.56.4.2, counts.57.4.2, counts.58.4.2, data.55.4.2, data.56.4.2, data.57.4.2, data.58.4.2, scale.data.4.2, counts.5.4.3, counts.6.4.3, counts.7.4.3, counts.8.4.3, counts.9.4.3, counts.10.4.3, counts.12.4.3, counts.13.4.3, counts.15.4.3, counts.17.4.3, counts.19.4.3, counts.20.4.3, counts.21.4.3, counts.22.4.3, counts.23.4.3, counts.25.4.3, counts.27.4.3, counts.28.4.3, data.5.4.3, data.6.4.3, data.7.4.3, data.8.4.3, data.9.4.3, data.10.4.3, data.12.4.3, data.13.4.3, data.15.4.3, data.17.4.3, data.19.4.3, data.20.4.3, data.21.4.3, data.22.4.3, data.23.4.3, data.25.4.3, data.27.4.3, data.28.4.3, scale.data.4.3, counts.11.2.4, counts.14.2.4, counts.16.2.4, counts.18.2.4, counts.24.2.4, counts.26.2.4, data.11.2.4, data.14.2.4, data.16.2.4, data.18.2.4, data.24.2.4, data.26.2.4, scale.data.2.4, counts.38.1.5, counts.39.1.5, counts.40.1.5, counts.41.1.5, counts.42.1.5, counts.43.1.5, counts.44.1.5, counts.45.1.5, counts.46.1.5, counts.47.1.5, counts.48.1.5, counts.49.1.5, counts.50.1.5, data.38.1.5, data.39.1.5, data.40.1.5, data.41.1.5, data.42.1.5, data.43.1.5, data.44.1.5, data.45.1.5, data.46.1.5, data.47.1.5, data.48.1.5, data.49.1.5, data.50.1.5, scale.data.1.5, counts.29.4.6, counts.30.4.6, counts.31.4.6, counts.32.4.6, counts.33.4.6, counts.34.4.6, data.29.4.6, data.30.4.6, data.31.4.6, data.32.4.6, data.33.4.6, data.34.4.6, scale.data.4.6, counts.35.4.7, counts.37.4.7, data.35.4.7, data.37.4.7, scale.data.4.7, counts.36.2.8, data.36.2.8, scale.data.2.8, counts.51.4.9, counts.52.4.9, counts.53.4.9, counts.54.4.9, data.51.4.9, data.52.4.9, data.53.4.9, data.54.4.9, scale.data.4.9"
      ]
     },
     "metadata": {},
     "output_type": "display_data"
    },
    {
     "data": {
      "text/html": [
       "'GSE161529'"
      ],
      "text/latex": [
       "'GSE161529'"
      ],
      "text/markdown": [
       "'GSE161529'"
      ],
      "text/plain": [
       "[1] \"GSE161529\""
      ]
     },
     "metadata": {},
     "output_type": "display_data"
    },
    {
     "data": {
      "text/html": [
       "<table class=\"dataframe\">\n",
       "<caption>A data.frame: 6 × 14</caption>\n",
       "<thead>\n",
       "\t<tr><th></th><th scope=col>orig.ident</th><th scope=col>nCount_RNA</th><th scope=col>nFeature_RNA</th><th scope=col>sample_type</th><th scope=col>cancer_type</th><th scope=col>patient_id</th><th scope=col>sample_id</th><th scope=col>percent.mt</th><th scope=col>RNA_snn_res.0.2</th><th scope=col>seurat_clusters</th><th scope=col>site</th><th scope=col>sample_type_major</th><th scope=col>cancer_subtype</th><th scope=col>integration_id</th></tr>\n",
       "\t<tr><th></th><th scope=col>&lt;chr&gt;</th><th scope=col>&lt;dbl&gt;</th><th scope=col>&lt;int&gt;</th><th scope=col>&lt;chr&gt;</th><th scope=col>&lt;chr&gt;</th><th scope=col>&lt;chr&gt;</th><th scope=col>&lt;chr&gt;</th><th scope=col>&lt;dbl&gt;</th><th scope=col>&lt;chr&gt;</th><th scope=col>&lt;chr&gt;</th><th scope=col>&lt;chr&gt;</th><th scope=col>&lt;chr&gt;</th><th scope=col>&lt;chr&gt;</th><th scope=col>&lt;chr&gt;</th></tr>\n",
       "</thead>\n",
       "<tbody>\n",
       "\t<tr><th scope=row>GSE161529_B10023_AAAGCAATCCAGTATG-1</th><td>GSE161529</td><td> 576</td><td> 348</td><td>pre-neoplastic</td><td>BRCA1 pre-neoplastic</td><td>0023</td><td>GSE161529_pre-neo_B10023</td><td>5.555556</td><td>1</td><td>1</td><td>breast</td><td>pre-neoplastic BRCA1</td><td>NA</td><td>GSE161529_pre-neo_B10023</td></tr>\n",
       "\t<tr><th scope=row>GSE161529_B10023_AACTCCCCACAAGACG-1</th><td>GSE161529</td><td>1279</td><td> 534</td><td>pre-neoplastic</td><td>BRCA1 pre-neoplastic</td><td>0023</td><td>GSE161529_pre-neo_B10023</td><td>2.345582</td><td>1</td><td>1</td><td>breast</td><td>pre-neoplastic BRCA1</td><td>NA</td><td>GSE161529_pre-neo_B10023</td></tr>\n",
       "\t<tr><th scope=row>GSE161529_B10023_AAGGTTCTCCTTGCCA-1</th><td>GSE161529</td><td>3314</td><td>1095</td><td>pre-neoplastic</td><td>BRCA1 pre-neoplastic</td><td>0023</td><td>GSE161529_pre-neo_B10023</td><td>4.405552</td><td>1</td><td>1</td><td>breast</td><td>pre-neoplastic BRCA1</td><td>NA</td><td>GSE161529_pre-neo_B10023</td></tr>\n",
       "\t<tr><th scope=row>GSE161529_B10023_ACATACGGTGGCGAAT-1</th><td>GSE161529</td><td>2616</td><td> 922</td><td>pre-neoplastic</td><td>BRCA1 pre-neoplastic</td><td>0023</td><td>GSE161529_pre-neo_B10023</td><td>2.561162</td><td>1</td><td>1</td><td>breast</td><td>pre-neoplastic BRCA1</td><td>NA</td><td>GSE161529_pre-neo_B10023</td></tr>\n",
       "\t<tr><th scope=row>GSE161529_B10023_ACCCACTCATATGGTC-1</th><td>GSE161529</td><td>3568</td><td>1209</td><td>pre-neoplastic</td><td>BRCA1 pre-neoplastic</td><td>0023</td><td>GSE161529_pre-neo_B10023</td><td>3.559417</td><td>1</td><td>1</td><td>breast</td><td>pre-neoplastic BRCA1</td><td>NA</td><td>GSE161529_pre-neo_B10023</td></tr>\n",
       "\t<tr><th scope=row>GSE161529_B10023_ACTGCTCTCATGCAAC-1</th><td>GSE161529</td><td>1140</td><td> 463</td><td>pre-neoplastic</td><td>BRCA1 pre-neoplastic</td><td>0023</td><td>GSE161529_pre-neo_B10023</td><td>8.421053</td><td>1</td><td>1</td><td>breast</td><td>pre-neoplastic BRCA1</td><td>NA</td><td>GSE161529_pre-neo_B10023</td></tr>\n",
       "</tbody>\n",
       "</table>\n"
      ],
      "text/latex": [
       "A data.frame: 6 × 14\n",
       "\\begin{tabular}{r|llllllllllllll}\n",
       "  & orig.ident & nCount\\_RNA & nFeature\\_RNA & sample\\_type & cancer\\_type & patient\\_id & sample\\_id & percent.mt & RNA\\_snn\\_res.0.2 & seurat\\_clusters & site & sample\\_type\\_major & cancer\\_subtype & integration\\_id\\\\\n",
       "  & <chr> & <dbl> & <int> & <chr> & <chr> & <chr> & <chr> & <dbl> & <chr> & <chr> & <chr> & <chr> & <chr> & <chr>\\\\\n",
       "\\hline\n",
       "\tGSE161529\\_B10023\\_AAAGCAATCCAGTATG-1 & GSE161529 &  576 &  348 & pre-neoplastic & BRCA1 pre-neoplastic & 0023 & GSE161529\\_pre-neo\\_B10023 & 5.555556 & 1 & 1 & breast & pre-neoplastic BRCA1 & NA & GSE161529\\_pre-neo\\_B10023\\\\\n",
       "\tGSE161529\\_B10023\\_AACTCCCCACAAGACG-1 & GSE161529 & 1279 &  534 & pre-neoplastic & BRCA1 pre-neoplastic & 0023 & GSE161529\\_pre-neo\\_B10023 & 2.345582 & 1 & 1 & breast & pre-neoplastic BRCA1 & NA & GSE161529\\_pre-neo\\_B10023\\\\\n",
       "\tGSE161529\\_B10023\\_AAGGTTCTCCTTGCCA-1 & GSE161529 & 3314 & 1095 & pre-neoplastic & BRCA1 pre-neoplastic & 0023 & GSE161529\\_pre-neo\\_B10023 & 4.405552 & 1 & 1 & breast & pre-neoplastic BRCA1 & NA & GSE161529\\_pre-neo\\_B10023\\\\\n",
       "\tGSE161529\\_B10023\\_ACATACGGTGGCGAAT-1 & GSE161529 & 2616 &  922 & pre-neoplastic & BRCA1 pre-neoplastic & 0023 & GSE161529\\_pre-neo\\_B10023 & 2.561162 & 1 & 1 & breast & pre-neoplastic BRCA1 & NA & GSE161529\\_pre-neo\\_B10023\\\\\n",
       "\tGSE161529\\_B10023\\_ACCCACTCATATGGTC-1 & GSE161529 & 3568 & 1209 & pre-neoplastic & BRCA1 pre-neoplastic & 0023 & GSE161529\\_pre-neo\\_B10023 & 3.559417 & 1 & 1 & breast & pre-neoplastic BRCA1 & NA & GSE161529\\_pre-neo\\_B10023\\\\\n",
       "\tGSE161529\\_B10023\\_ACTGCTCTCATGCAAC-1 & GSE161529 & 1140 &  463 & pre-neoplastic & BRCA1 pre-neoplastic & 0023 & GSE161529\\_pre-neo\\_B10023 & 8.421053 & 1 & 1 & breast & pre-neoplastic BRCA1 & NA & GSE161529\\_pre-neo\\_B10023\\\\\n",
       "\\end{tabular}\n"
      ],
      "text/markdown": [
       "\n",
       "A data.frame: 6 × 14\n",
       "\n",
       "| <!--/--> | orig.ident &lt;chr&gt; | nCount_RNA &lt;dbl&gt; | nFeature_RNA &lt;int&gt; | sample_type &lt;chr&gt; | cancer_type &lt;chr&gt; | patient_id &lt;chr&gt; | sample_id &lt;chr&gt; | percent.mt &lt;dbl&gt; | RNA_snn_res.0.2 &lt;chr&gt; | seurat_clusters &lt;chr&gt; | site &lt;chr&gt; | sample_type_major &lt;chr&gt; | cancer_subtype &lt;chr&gt; | integration_id &lt;chr&gt; |\n",
       "|---|---|---|---|---|---|---|---|---|---|---|---|---|---|---|\n",
       "| GSE161529_B10023_AAAGCAATCCAGTATG-1 | GSE161529 |  576 |  348 | pre-neoplastic | BRCA1 pre-neoplastic | 0023 | GSE161529_pre-neo_B10023 | 5.555556 | 1 | 1 | breast | pre-neoplastic BRCA1 | NA | GSE161529_pre-neo_B10023 |\n",
       "| GSE161529_B10023_AACTCCCCACAAGACG-1 | GSE161529 | 1279 |  534 | pre-neoplastic | BRCA1 pre-neoplastic | 0023 | GSE161529_pre-neo_B10023 | 2.345582 | 1 | 1 | breast | pre-neoplastic BRCA1 | NA | GSE161529_pre-neo_B10023 |\n",
       "| GSE161529_B10023_AAGGTTCTCCTTGCCA-1 | GSE161529 | 3314 | 1095 | pre-neoplastic | BRCA1 pre-neoplastic | 0023 | GSE161529_pre-neo_B10023 | 4.405552 | 1 | 1 | breast | pre-neoplastic BRCA1 | NA | GSE161529_pre-neo_B10023 |\n",
       "| GSE161529_B10023_ACATACGGTGGCGAAT-1 | GSE161529 | 2616 |  922 | pre-neoplastic | BRCA1 pre-neoplastic | 0023 | GSE161529_pre-neo_B10023 | 2.561162 | 1 | 1 | breast | pre-neoplastic BRCA1 | NA | GSE161529_pre-neo_B10023 |\n",
       "| GSE161529_B10023_ACCCACTCATATGGTC-1 | GSE161529 | 3568 | 1209 | pre-neoplastic | BRCA1 pre-neoplastic | 0023 | GSE161529_pre-neo_B10023 | 3.559417 | 1 | 1 | breast | pre-neoplastic BRCA1 | NA | GSE161529_pre-neo_B10023 |\n",
       "| GSE161529_B10023_ACTGCTCTCATGCAAC-1 | GSE161529 | 1140 |  463 | pre-neoplastic | BRCA1 pre-neoplastic | 0023 | GSE161529_pre-neo_B10023 | 8.421053 | 1 | 1 | breast | pre-neoplastic BRCA1 | NA | GSE161529_pre-neo_B10023 |\n",
       "\n"
      ],
      "text/plain": [
       "                                    orig.ident nCount_RNA nFeature_RNA\n",
       "GSE161529_B10023_AAAGCAATCCAGTATG-1 GSE161529   576        348        \n",
       "GSE161529_B10023_AACTCCCCACAAGACG-1 GSE161529  1279        534        \n",
       "GSE161529_B10023_AAGGTTCTCCTTGCCA-1 GSE161529  3314       1095        \n",
       "GSE161529_B10023_ACATACGGTGGCGAAT-1 GSE161529  2616        922        \n",
       "GSE161529_B10023_ACCCACTCATATGGTC-1 GSE161529  3568       1209        \n",
       "GSE161529_B10023_ACTGCTCTCATGCAAC-1 GSE161529  1140        463        \n",
       "                                    sample_type    cancer_type         \n",
       "GSE161529_B10023_AAAGCAATCCAGTATG-1 pre-neoplastic BRCA1 pre-neoplastic\n",
       "GSE161529_B10023_AACTCCCCACAAGACG-1 pre-neoplastic BRCA1 pre-neoplastic\n",
       "GSE161529_B10023_AAGGTTCTCCTTGCCA-1 pre-neoplastic BRCA1 pre-neoplastic\n",
       "GSE161529_B10023_ACATACGGTGGCGAAT-1 pre-neoplastic BRCA1 pre-neoplastic\n",
       "GSE161529_B10023_ACCCACTCATATGGTC-1 pre-neoplastic BRCA1 pre-neoplastic\n",
       "GSE161529_B10023_ACTGCTCTCATGCAAC-1 pre-neoplastic BRCA1 pre-neoplastic\n",
       "                                    patient_id sample_id               \n",
       "GSE161529_B10023_AAAGCAATCCAGTATG-1 0023       GSE161529_pre-neo_B10023\n",
       "GSE161529_B10023_AACTCCCCACAAGACG-1 0023       GSE161529_pre-neo_B10023\n",
       "GSE161529_B10023_AAGGTTCTCCTTGCCA-1 0023       GSE161529_pre-neo_B10023\n",
       "GSE161529_B10023_ACATACGGTGGCGAAT-1 0023       GSE161529_pre-neo_B10023\n",
       "GSE161529_B10023_ACCCACTCATATGGTC-1 0023       GSE161529_pre-neo_B10023\n",
       "GSE161529_B10023_ACTGCTCTCATGCAAC-1 0023       GSE161529_pre-neo_B10023\n",
       "                                    percent.mt RNA_snn_res.0.2 seurat_clusters\n",
       "GSE161529_B10023_AAAGCAATCCAGTATG-1 5.555556   1               1              \n",
       "GSE161529_B10023_AACTCCCCACAAGACG-1 2.345582   1               1              \n",
       "GSE161529_B10023_AAGGTTCTCCTTGCCA-1 4.405552   1               1              \n",
       "GSE161529_B10023_ACATACGGTGGCGAAT-1 2.561162   1               1              \n",
       "GSE161529_B10023_ACCCACTCATATGGTC-1 3.559417   1               1              \n",
       "GSE161529_B10023_ACTGCTCTCATGCAAC-1 8.421053   1               1              \n",
       "                                    site   sample_type_major    cancer_subtype\n",
       "GSE161529_B10023_AAAGCAATCCAGTATG-1 breast pre-neoplastic BRCA1 NA            \n",
       "GSE161529_B10023_AACTCCCCACAAGACG-1 breast pre-neoplastic BRCA1 NA            \n",
       "GSE161529_B10023_AAGGTTCTCCTTGCCA-1 breast pre-neoplastic BRCA1 NA            \n",
       "GSE161529_B10023_ACATACGGTGGCGAAT-1 breast pre-neoplastic BRCA1 NA            \n",
       "GSE161529_B10023_ACCCACTCATATGGTC-1 breast pre-neoplastic BRCA1 NA            \n",
       "GSE161529_B10023_ACTGCTCTCATGCAAC-1 breast pre-neoplastic BRCA1 NA            \n",
       "                                    integration_id          \n",
       "GSE161529_B10023_AAAGCAATCCAGTATG-1 GSE161529_pre-neo_B10023\n",
       "GSE161529_B10023_AACTCCCCACAAGACG-1 GSE161529_pre-neo_B10023\n",
       "GSE161529_B10023_AAGGTTCTCCTTGCCA-1 GSE161529_pre-neo_B10023\n",
       "GSE161529_B10023_ACATACGGTGGCGAAT-1 GSE161529_pre-neo_B10023\n",
       "GSE161529_B10023_ACCCACTCATATGGTC-1 GSE161529_pre-neo_B10023\n",
       "GSE161529_B10023_ACTGCTCTCATGCAAC-1 GSE161529_pre-neo_B10023"
      ]
     },
     "metadata": {},
     "output_type": "display_data"
    },
    {
     "data": {
      "text/html": [
       "<table class=\"dataframe\">\n",
       "<caption>A data.frame: 6 × 14</caption>\n",
       "<thead>\n",
       "\t<tr><th></th><th scope=col>orig.ident</th><th scope=col>nCount_RNA</th><th scope=col>nFeature_RNA</th><th scope=col>sample_type</th><th scope=col>cancer_type</th><th scope=col>patient_id</th><th scope=col>sample_id</th><th scope=col>percent.mt</th><th scope=col>RNA_snn_res.0.2</th><th scope=col>seurat_clusters</th><th scope=col>site</th><th scope=col>sample_type_major</th><th scope=col>cancer_subtype</th><th scope=col>integration_id</th></tr>\n",
       "\t<tr><th></th><th scope=col>&lt;chr&gt;</th><th scope=col>&lt;dbl&gt;</th><th scope=col>&lt;int&gt;</th><th scope=col>&lt;chr&gt;</th><th scope=col>&lt;chr&gt;</th><th scope=col>&lt;chr&gt;</th><th scope=col>&lt;chr&gt;</th><th scope=col>&lt;dbl&gt;</th><th scope=col>&lt;chr&gt;</th><th scope=col>&lt;chr&gt;</th><th scope=col>&lt;chr&gt;</th><th scope=col>&lt;chr&gt;</th><th scope=col>&lt;chr&gt;</th><th scope=col>&lt;chr&gt;</th></tr>\n",
       "</thead>\n",
       "<tbody>\n",
       "\t<tr><th scope=row>GSE161529_TN0135_TTTCCTCTCGAGAGCA-1</th><td>GSE161529</td><td>3019</td><td>1094</td><td>tumour</td><td>TNBC</td><td>0135</td><td>GSE161529_TNBC_0135</td><td>2.517390</td><td>1</td><td>1</td><td>breast</td><td>primary tumour</td><td>TNBC</td><td>GSE161529_TNBC_0135</td></tr>\n",
       "\t<tr><th scope=row>GSE161529_TN0135_TTTGCGCCACGGTTTA-1</th><td>GSE161529</td><td>2429</td><td> 906</td><td>tumour</td><td>TNBC</td><td>0135</td><td>GSE161529_TNBC_0135</td><td>3.252367</td><td>1</td><td>1</td><td>breast</td><td>primary tumour</td><td>TNBC</td><td>GSE161529_TNBC_0135</td></tr>\n",
       "\t<tr><th scope=row>GSE161529_TN0135_TTTGCGCGTAAACGCG-1</th><td>GSE161529</td><td>9095</td><td>2480</td><td>tumour</td><td>TNBC</td><td>0135</td><td>GSE161529_TNBC_0135</td><td>5.178670</td><td>1</td><td>1</td><td>breast</td><td>primary tumour</td><td>TNBC</td><td>GSE161529_TNBC_0135</td></tr>\n",
       "\t<tr><th scope=row>GSE161529_TN0135_TTTGGTTTCGACCAGC-1</th><td>GSE161529</td><td>3207</td><td>1341</td><td>tumour</td><td>TNBC</td><td>0135</td><td>GSE161529_TNBC_0135</td><td>4.708450</td><td>1</td><td>1</td><td>breast</td><td>primary tumour</td><td>TNBC</td><td>GSE161529_TNBC_0135</td></tr>\n",
       "\t<tr><th scope=row>GSE161529_TN0135_TTTGTCAAGTCCGTAT-1</th><td>GSE161529</td><td>4551</td><td>1365</td><td>tumour</td><td>TNBC</td><td>0135</td><td>GSE161529_TNBC_0135</td><td>2.966381</td><td>1</td><td>1</td><td>breast</td><td>primary tumour</td><td>TNBC</td><td>GSE161529_TNBC_0135</td></tr>\n",
       "\t<tr><th scope=row>GSE161529_TN0135_TTTGTCACACAGGAGT-1</th><td>GSE161529</td><td>5355</td><td>1455</td><td>tumour</td><td>TNBC</td><td>0135</td><td>GSE161529_TNBC_0135</td><td>2.745098</td><td>1</td><td>1</td><td>breast</td><td>primary tumour</td><td>TNBC</td><td>GSE161529_TNBC_0135</td></tr>\n",
       "</tbody>\n",
       "</table>\n"
      ],
      "text/latex": [
       "A data.frame: 6 × 14\n",
       "\\begin{tabular}{r|llllllllllllll}\n",
       "  & orig.ident & nCount\\_RNA & nFeature\\_RNA & sample\\_type & cancer\\_type & patient\\_id & sample\\_id & percent.mt & RNA\\_snn\\_res.0.2 & seurat\\_clusters & site & sample\\_type\\_major & cancer\\_subtype & integration\\_id\\\\\n",
       "  & <chr> & <dbl> & <int> & <chr> & <chr> & <chr> & <chr> & <dbl> & <chr> & <chr> & <chr> & <chr> & <chr> & <chr>\\\\\n",
       "\\hline\n",
       "\tGSE161529\\_TN0135\\_TTTCCTCTCGAGAGCA-1 & GSE161529 & 3019 & 1094 & tumour & TNBC & 0135 & GSE161529\\_TNBC\\_0135 & 2.517390 & 1 & 1 & breast & primary tumour & TNBC & GSE161529\\_TNBC\\_0135\\\\\n",
       "\tGSE161529\\_TN0135\\_TTTGCGCCACGGTTTA-1 & GSE161529 & 2429 &  906 & tumour & TNBC & 0135 & GSE161529\\_TNBC\\_0135 & 3.252367 & 1 & 1 & breast & primary tumour & TNBC & GSE161529\\_TNBC\\_0135\\\\\n",
       "\tGSE161529\\_TN0135\\_TTTGCGCGTAAACGCG-1 & GSE161529 & 9095 & 2480 & tumour & TNBC & 0135 & GSE161529\\_TNBC\\_0135 & 5.178670 & 1 & 1 & breast & primary tumour & TNBC & GSE161529\\_TNBC\\_0135\\\\\n",
       "\tGSE161529\\_TN0135\\_TTTGGTTTCGACCAGC-1 & GSE161529 & 3207 & 1341 & tumour & TNBC & 0135 & GSE161529\\_TNBC\\_0135 & 4.708450 & 1 & 1 & breast & primary tumour & TNBC & GSE161529\\_TNBC\\_0135\\\\\n",
       "\tGSE161529\\_TN0135\\_TTTGTCAAGTCCGTAT-1 & GSE161529 & 4551 & 1365 & tumour & TNBC & 0135 & GSE161529\\_TNBC\\_0135 & 2.966381 & 1 & 1 & breast & primary tumour & TNBC & GSE161529\\_TNBC\\_0135\\\\\n",
       "\tGSE161529\\_TN0135\\_TTTGTCACACAGGAGT-1 & GSE161529 & 5355 & 1455 & tumour & TNBC & 0135 & GSE161529\\_TNBC\\_0135 & 2.745098 & 1 & 1 & breast & primary tumour & TNBC & GSE161529\\_TNBC\\_0135\\\\\n",
       "\\end{tabular}\n"
      ],
      "text/markdown": [
       "\n",
       "A data.frame: 6 × 14\n",
       "\n",
       "| <!--/--> | orig.ident &lt;chr&gt; | nCount_RNA &lt;dbl&gt; | nFeature_RNA &lt;int&gt; | sample_type &lt;chr&gt; | cancer_type &lt;chr&gt; | patient_id &lt;chr&gt; | sample_id &lt;chr&gt; | percent.mt &lt;dbl&gt; | RNA_snn_res.0.2 &lt;chr&gt; | seurat_clusters &lt;chr&gt; | site &lt;chr&gt; | sample_type_major &lt;chr&gt; | cancer_subtype &lt;chr&gt; | integration_id &lt;chr&gt; |\n",
       "|---|---|---|---|---|---|---|---|---|---|---|---|---|---|---|\n",
       "| GSE161529_TN0135_TTTCCTCTCGAGAGCA-1 | GSE161529 | 3019 | 1094 | tumour | TNBC | 0135 | GSE161529_TNBC_0135 | 2.517390 | 1 | 1 | breast | primary tumour | TNBC | GSE161529_TNBC_0135 |\n",
       "| GSE161529_TN0135_TTTGCGCCACGGTTTA-1 | GSE161529 | 2429 |  906 | tumour | TNBC | 0135 | GSE161529_TNBC_0135 | 3.252367 | 1 | 1 | breast | primary tumour | TNBC | GSE161529_TNBC_0135 |\n",
       "| GSE161529_TN0135_TTTGCGCGTAAACGCG-1 | GSE161529 | 9095 | 2480 | tumour | TNBC | 0135 | GSE161529_TNBC_0135 | 5.178670 | 1 | 1 | breast | primary tumour | TNBC | GSE161529_TNBC_0135 |\n",
       "| GSE161529_TN0135_TTTGGTTTCGACCAGC-1 | GSE161529 | 3207 | 1341 | tumour | TNBC | 0135 | GSE161529_TNBC_0135 | 4.708450 | 1 | 1 | breast | primary tumour | TNBC | GSE161529_TNBC_0135 |\n",
       "| GSE161529_TN0135_TTTGTCAAGTCCGTAT-1 | GSE161529 | 4551 | 1365 | tumour | TNBC | 0135 | GSE161529_TNBC_0135 | 2.966381 | 1 | 1 | breast | primary tumour | TNBC | GSE161529_TNBC_0135 |\n",
       "| GSE161529_TN0135_TTTGTCACACAGGAGT-1 | GSE161529 | 5355 | 1455 | tumour | TNBC | 0135 | GSE161529_TNBC_0135 | 2.745098 | 1 | 1 | breast | primary tumour | TNBC | GSE161529_TNBC_0135 |\n",
       "\n"
      ],
      "text/plain": [
       "                                    orig.ident nCount_RNA nFeature_RNA\n",
       "GSE161529_TN0135_TTTCCTCTCGAGAGCA-1 GSE161529  3019       1094        \n",
       "GSE161529_TN0135_TTTGCGCCACGGTTTA-1 GSE161529  2429        906        \n",
       "GSE161529_TN0135_TTTGCGCGTAAACGCG-1 GSE161529  9095       2480        \n",
       "GSE161529_TN0135_TTTGGTTTCGACCAGC-1 GSE161529  3207       1341        \n",
       "GSE161529_TN0135_TTTGTCAAGTCCGTAT-1 GSE161529  4551       1365        \n",
       "GSE161529_TN0135_TTTGTCACACAGGAGT-1 GSE161529  5355       1455        \n",
       "                                    sample_type cancer_type patient_id\n",
       "GSE161529_TN0135_TTTCCTCTCGAGAGCA-1 tumour      TNBC        0135      \n",
       "GSE161529_TN0135_TTTGCGCCACGGTTTA-1 tumour      TNBC        0135      \n",
       "GSE161529_TN0135_TTTGCGCGTAAACGCG-1 tumour      TNBC        0135      \n",
       "GSE161529_TN0135_TTTGGTTTCGACCAGC-1 tumour      TNBC        0135      \n",
       "GSE161529_TN0135_TTTGTCAAGTCCGTAT-1 tumour      TNBC        0135      \n",
       "GSE161529_TN0135_TTTGTCACACAGGAGT-1 tumour      TNBC        0135      \n",
       "                                    sample_id           percent.mt\n",
       "GSE161529_TN0135_TTTCCTCTCGAGAGCA-1 GSE161529_TNBC_0135 2.517390  \n",
       "GSE161529_TN0135_TTTGCGCCACGGTTTA-1 GSE161529_TNBC_0135 3.252367  \n",
       "GSE161529_TN0135_TTTGCGCGTAAACGCG-1 GSE161529_TNBC_0135 5.178670  \n",
       "GSE161529_TN0135_TTTGGTTTCGACCAGC-1 GSE161529_TNBC_0135 4.708450  \n",
       "GSE161529_TN0135_TTTGTCAAGTCCGTAT-1 GSE161529_TNBC_0135 2.966381  \n",
       "GSE161529_TN0135_TTTGTCACACAGGAGT-1 GSE161529_TNBC_0135 2.745098  \n",
       "                                    RNA_snn_res.0.2 seurat_clusters site  \n",
       "GSE161529_TN0135_TTTCCTCTCGAGAGCA-1 1               1               breast\n",
       "GSE161529_TN0135_TTTGCGCCACGGTTTA-1 1               1               breast\n",
       "GSE161529_TN0135_TTTGCGCGTAAACGCG-1 1               1               breast\n",
       "GSE161529_TN0135_TTTGGTTTCGACCAGC-1 1               1               breast\n",
       "GSE161529_TN0135_TTTGTCAAGTCCGTAT-1 1               1               breast\n",
       "GSE161529_TN0135_TTTGTCACACAGGAGT-1 1               1               breast\n",
       "                                    sample_type_major cancer_subtype\n",
       "GSE161529_TN0135_TTTCCTCTCGAGAGCA-1 primary tumour    TNBC          \n",
       "GSE161529_TN0135_TTTGCGCCACGGTTTA-1 primary tumour    TNBC          \n",
       "GSE161529_TN0135_TTTGCGCGTAAACGCG-1 primary tumour    TNBC          \n",
       "GSE161529_TN0135_TTTGGTTTCGACCAGC-1 primary tumour    TNBC          \n",
       "GSE161529_TN0135_TTTGTCAAGTCCGTAT-1 primary tumour    TNBC          \n",
       "GSE161529_TN0135_TTTGTCACACAGGAGT-1 primary tumour    TNBC          \n",
       "                                    integration_id     \n",
       "GSE161529_TN0135_TTTCCTCTCGAGAGCA-1 GSE161529_TNBC_0135\n",
       "GSE161529_TN0135_TTTGCGCCACGGTTTA-1 GSE161529_TNBC_0135\n",
       "GSE161529_TN0135_TTTGCGCGTAAACGCG-1 GSE161529_TNBC_0135\n",
       "GSE161529_TN0135_TTTGGTTTCGACCAGC-1 GSE161529_TNBC_0135\n",
       "GSE161529_TN0135_TTTGTCAAGTCCGTAT-1 GSE161529_TNBC_0135\n",
       "GSE161529_TN0135_TTTGTCACACAGGAGT-1 GSE161529_TNBC_0135"
      ]
     },
     "metadata": {},
     "output_type": "display_data"
    }
   ],
   "source": [
    "BRE\n",
    "BRE@project.name\n",
    "head(BRE@meta.data)\n",
    "tail(BRE@meta.data)"
   ]
  },
  {
   "cell_type": "code",
   "execution_count": 24,
   "metadata": {
    "vscode": {
     "languageId": "r"
    }
   },
   "outputs": [
    {
     "data": {
      "text/plain": [
       "\n",
       "      GSE161529_BRCA1_TNBC_0131       GSE161529_BRCA1_TNBC_0177 \n",
       "                             49                            3084 \n",
       "      GSE161529_BRCA1_TNBC_0554       GSE161529_BRCA1_TNBC_4031 \n",
       "                           1754                              59 \n",
       "     GSE161529_ER_breast_ER0001      GSE161529_ER_breast_ER0025 \n",
       "                            452                             578 \n",
       "  GSE161529_ER_breast_ER0029_7C   GSE161529_ER_breast_ER0029_9C \n",
       "                            248                             168 \n",
       "     GSE161529_ER_breast_ER0032      GSE161529_ER_breast_ER0040 \n",
       "                            100                             350 \n",
       "     GSE161529_ER_breast_ER0042      GSE161529_ER_breast_ER0043 \n",
       "                           2116                            1448 \n",
       "     GSE161529_ER_breast_ER0056      GSE161529_ER_breast_ER0064 \n",
       "                             20                             154 \n",
       "     GSE161529_ER_breast_ER0114      GSE161529_ER_breast_ER0125 \n",
       "                            250                             201 \n",
       "     GSE161529_ER_breast_ER0151      GSE161529_ER_breast_ER0163 \n",
       "                            290                             475 \n",
       "     GSE161529_ER_breast_ER0167      GSE161529_ER_breast_ER0173 \n",
       "                            396                            1355 \n",
       "     GSE161529_ER_breast_ER0319      GSE161529_ER_breast_ER0360 \n",
       "                            495                             202 \n",
       "GSE161529_ER_breast_mets_ER0040 GSE161529_ER_breast_mets_ER0043 \n",
       "                            287                               6 \n",
       "GSE161529_ER_breast_mets_ER0056 GSE161529_ER_breast_mets_ER0064 \n",
       "                             54                              89 \n",
       "GSE161529_ER_breast_mets_ER0167 GSE161529_ER_breast_mets_ER0173 \n",
       "                            285                             255 \n",
       "  GSE161529_Healthy_breast_0019   GSE161529_Healthy_breast_0021 \n",
       "                            122                               6 \n",
       "  GSE161529_Healthy_breast_0023   GSE161529_Healthy_breast_0064 \n",
       "                             72                               3 \n",
       "  GSE161529_Healthy_breast_0092   GSE161529_Healthy_breast_0095 \n",
       "                             50                              44 \n",
       "  GSE161529_Healthy_breast_0169   GSE161529_Healthy_breast_0230 \n",
       "                            433                              22 \n",
       "  GSE161529_Healthy_breast_0233   GSE161529_Healthy_breast_0275 \n",
       "                            203                               4 \n",
       "  GSE161529_Healthy_breast_0288   GSE161529_Healthy_breast_0342 \n",
       "                              2                              57 \n",
       "  GSE161529_Healthy_breast_0372      GSE161529_HER2_breast_0031 \n",
       "                            118                             905 \n",
       "     GSE161529_HER2_breast_0069      GSE161529_HER2_breast_0161 \n",
       "                             60                             161 \n",
       "     GSE161529_HER2_breast_0176      GSE161529_HER2_breast_0308 \n",
       "                            979                             377 \n",
       "     GSE161529_HER2_breast_0337       GSE161529_mER_breast_0068 \n",
       "                           1594                               7 \n",
       "      GSE161529_mER_breast_0178  GSE161529_mER_breast_mets_0068 \n",
       "                           1666                               3 \n",
       "       GSE161529_pre-neo_B10023        GSE161529_pre-neo_B10033 \n",
       "                             45                              73 \n",
       "       GSE161529_pre-neo_B10090        GSE161529_pre-neo_B10894 \n",
       "                            129                              40 \n",
       "            GSE161529_TNBC_0106             GSE161529_TNBC_0114 \n",
       "                            285                             244 \n",
       "            GSE161529_TNBC_0126             GSE161529_TNBC_0135 \n",
       "                            474                             684 "
      ]
     },
     "metadata": {},
     "output_type": "display_data"
    },
    {
     "data": {
      "text/plain": [
       "\n",
       "      GSE161529_BRCA1_TNBC_0177       GSE161529_BRCA1_TNBC_0554 \n",
       "                           3084                            1754 \n",
       "     GSE161529_ER_breast_ER0001      GSE161529_ER_breast_ER0025 \n",
       "                            452                             578 \n",
       "  GSE161529_ER_breast_ER0029_7C   GSE161529_ER_breast_ER0029_9C \n",
       "                            248                             168 \n",
       "     GSE161529_ER_breast_ER0032      GSE161529_ER_breast_ER0040 \n",
       "                            100                             350 \n",
       "     GSE161529_ER_breast_ER0042      GSE161529_ER_breast_ER0043 \n",
       "                           2116                            1448 \n",
       "     GSE161529_ER_breast_ER0064      GSE161529_ER_breast_ER0114 \n",
       "                            154                             250 \n",
       "     GSE161529_ER_breast_ER0125      GSE161529_ER_breast_ER0151 \n",
       "                            201                             290 \n",
       "     GSE161529_ER_breast_ER0163      GSE161529_ER_breast_ER0167 \n",
       "                            475                             396 \n",
       "     GSE161529_ER_breast_ER0173      GSE161529_ER_breast_ER0319 \n",
       "                           1355                             495 \n",
       "     GSE161529_ER_breast_ER0360 GSE161529_ER_breast_mets_ER0040 \n",
       "                            202                             287 \n",
       "GSE161529_ER_breast_mets_ER0167 GSE161529_ER_breast_mets_ER0173 \n",
       "                            285                             255 \n",
       "  GSE161529_Healthy_breast_0019   GSE161529_Healthy_breast_0169 \n",
       "                            122                             433 \n",
       "  GSE161529_Healthy_breast_0233   GSE161529_Healthy_breast_0372 \n",
       "                            203                             118 \n",
       "     GSE161529_HER2_breast_0031      GSE161529_HER2_breast_0161 \n",
       "                            905                             161 \n",
       "     GSE161529_HER2_breast_0176      GSE161529_HER2_breast_0308 \n",
       "                            979                             377 \n",
       "     GSE161529_HER2_breast_0337       GSE161529_mER_breast_0178 \n",
       "                           1594                            1666 \n",
       "       GSE161529_pre-neo_B10090             GSE161529_TNBC_0106 \n",
       "                            129                             285 \n",
       "            GSE161529_TNBC_0114             GSE161529_TNBC_0126 \n",
       "                            244                             474 \n",
       "            GSE161529_TNBC_0135 \n",
       "                            684 "
      ]
     },
     "metadata": {},
     "output_type": "display_data"
    }
   ],
   "source": [
    "#exclude any samples with <100 cells\n",
    "table(BRE$integration_id)\n",
    "#exclude 21 samples\n",
    "BRE <- subset(BRE, !(subset = integration_id %in% c(\"GSE161529_BRCA1_TNBC_0131\",\"GSE161529_BRCA1_TNBC_4031\",\"GSE161529_ER_breast_ER0056\",\"GSE161529_ER_breast_mets_ER0043\",\"GSE161529_ER_breast_mets_ER0056\",\"GSE161529_ER_breast_mets_ER0064\",\"GSE161529_Healthy_breast_0021\",\"GSE161529_Healthy_breast_0023\",\"GSE161529_Healthy_breast_0064\",\"GSE161529_Healthy_breast_0092\",\"GSE161529_Healthy_breast_0095\",\"GSE161529_Healthy_breast_0230\",\"GSE161529_Healthy_breast_0275\",\"GSE161529_Healthy_breast_0288\",\"GSE161529_Healthy_breast_0342\",\"GSE161529_HER2_breast_0069\",\"GSE161529_mER_breast_0068\",\"GSE161529_mER_breast_mets_0068\",\"GSE161529_pre-neo_B10023\",\"GSE161529_pre-neo_B10033\",\"GSE161529_pre-neo_B10894\")))\n",
    "table(BRE$integration_id)"
   ]
  },
  {
   "cell_type": "code",
   "execution_count": 25,
   "metadata": {
    "vscode": {
     "languageId": "r"
    }
   },
   "outputs": [
    {
     "data": {
      "text/plain": [
       "\n",
       "Healthy breast        LN mets pre-neoplastic         tumour \n",
       "           876            827            129          21485 "
      ]
     },
     "metadata": {},
     "output_type": "display_data"
    },
    {
     "data": {
      "text/plain": [
       "\n",
       " BRCA1 pre-neoplastic            BRCA1 TNBC      ER breast cancer \n",
       "                  129                  4838                  9278 \n",
       "ER breast cancer mets               Healthy    HER2 breast cancer \n",
       "                  827                   876                  4016 \n",
       "male ER breast cancer                  TNBC \n",
       "                 1666                  1687 "
      ]
     },
     "metadata": {},
     "output_type": "display_data"
    },
    {
     "data": {
      "text/plain": [
       "\n",
       "0001 0019 0025 0029 0031 0032 0040 0042 0043 0064 0090 0106 0114 0125 0126 0135 \n",
       " 452  122  578  416  905  100  637 2116 1448  154  129  285  494  201  474  684 \n",
       "0151 0161 0163 0167 0169 0173 0176 0177 0178 0233 0308 0319 0337 0360 0372 0554 \n",
       " 290  161  475  681  433 1610  979 3084 1666  203  377  495 1594  202  118 1754 "
      ]
     },
     "metadata": {},
     "output_type": "display_data"
    },
    {
     "data": {
      "text/plain": [
       "\n",
       "      GSE161529_BRCA1_TNBC_0177       GSE161529_BRCA1_TNBC_0554 \n",
       "                           3084                            1754 \n",
       "     GSE161529_ER_breast_ER0001      GSE161529_ER_breast_ER0025 \n",
       "                            452                             578 \n",
       "  GSE161529_ER_breast_ER0029_7C   GSE161529_ER_breast_ER0029_9C \n",
       "                            248                             168 \n",
       "     GSE161529_ER_breast_ER0032      GSE161529_ER_breast_ER0040 \n",
       "                            100                             350 \n",
       "     GSE161529_ER_breast_ER0042      GSE161529_ER_breast_ER0043 \n",
       "                           2116                            1448 \n",
       "     GSE161529_ER_breast_ER0064      GSE161529_ER_breast_ER0114 \n",
       "                            154                             250 \n",
       "     GSE161529_ER_breast_ER0125      GSE161529_ER_breast_ER0151 \n",
       "                            201                             290 \n",
       "     GSE161529_ER_breast_ER0163      GSE161529_ER_breast_ER0167 \n",
       "                            475                             396 \n",
       "     GSE161529_ER_breast_ER0173      GSE161529_ER_breast_ER0319 \n",
       "                           1355                             495 \n",
       "     GSE161529_ER_breast_ER0360 GSE161529_ER_breast_mets_ER0040 \n",
       "                            202                             287 \n",
       "GSE161529_ER_breast_mets_ER0167 GSE161529_ER_breast_mets_ER0173 \n",
       "                            285                             255 \n",
       "  GSE161529_Healthy_breast_0019   GSE161529_Healthy_breast_0169 \n",
       "                            122                             433 \n",
       "  GSE161529_Healthy_breast_0233   GSE161529_Healthy_breast_0372 \n",
       "                            203                             118 \n",
       "     GSE161529_HER2_breast_0031      GSE161529_HER2_breast_0161 \n",
       "                            905                             161 \n",
       "     GSE161529_HER2_breast_0176      GSE161529_HER2_breast_0308 \n",
       "                            979                             377 \n",
       "     GSE161529_HER2_breast_0337       GSE161529_mER_breast_0178 \n",
       "                           1594                            1666 \n",
       "       GSE161529_pre-neo_B10090             GSE161529_TNBC_0106 \n",
       "                            129                             285 \n",
       "            GSE161529_TNBC_0114             GSE161529_TNBC_0126 \n",
       "                            244                             474 \n",
       "            GSE161529_TNBC_0135 \n",
       "                            684 "
      ]
     },
     "metadata": {},
     "output_type": "display_data"
    }
   ],
   "source": [
    "#check all categories still present\n",
    "table(BRE$sample_type)\n",
    "table(BRE$cancer_type)\n",
    "table(BRE$patient_id)\n",
    "table(BRE$sample_id)"
   ]
  },
  {
   "cell_type": "code",
   "execution_count": 26,
   "metadata": {
    "vscode": {
     "languageId": "r"
    }
   },
   "outputs": [
    {
     "data": {
      "text/plain": [
       "\n",
       "      GSE161529_BRCA1_TNBC_0177       GSE161529_BRCA1_TNBC_0554 \n",
       "                           3084                            1754 \n",
       "     GSE161529_ER_breast_ER0001      GSE161529_ER_breast_ER0025 \n",
       "                            452                             578 \n",
       "  GSE161529_ER_breast_ER0029_7C   GSE161529_ER_breast_ER0029_9C \n",
       "                            248                             168 \n",
       "     GSE161529_ER_breast_ER0032      GSE161529_ER_breast_ER0040 \n",
       "                            100                             350 \n",
       "     GSE161529_ER_breast_ER0042      GSE161529_ER_breast_ER0043 \n",
       "                           2116                            1448 \n",
       "     GSE161529_ER_breast_ER0064      GSE161529_ER_breast_ER0114 \n",
       "                            154                             250 \n",
       "     GSE161529_ER_breast_ER0125      GSE161529_ER_breast_ER0151 \n",
       "                            201                             290 \n",
       "     GSE161529_ER_breast_ER0163      GSE161529_ER_breast_ER0167 \n",
       "                            475                             396 \n",
       "     GSE161529_ER_breast_ER0173      GSE161529_ER_breast_ER0319 \n",
       "                           1355                             495 \n",
       "     GSE161529_ER_breast_ER0360 GSE161529_ER_breast_mets_ER0040 \n",
       "                            202                             287 \n",
       "GSE161529_ER_breast_mets_ER0167 GSE161529_ER_breast_mets_ER0173 \n",
       "                            285                             255 \n",
       "  GSE161529_Healthy_breast_0019   GSE161529_Healthy_breast_0169 \n",
       "                            122                             433 \n",
       "  GSE161529_Healthy_breast_0233   GSE161529_Healthy_breast_0372 \n",
       "                            203                             118 \n",
       "     GSE161529_HER2_breast_0031      GSE161529_HER2_breast_0161 \n",
       "                            905                             161 \n",
       "     GSE161529_HER2_breast_0176      GSE161529_HER2_breast_0308 \n",
       "                            979                             377 \n",
       "     GSE161529_HER2_breast_0337             GSE161529_TNBC_0106 \n",
       "                           1594                             285 \n",
       "            GSE161529_TNBC_0114             GSE161529_TNBC_0126 \n",
       "                            244                             474 \n",
       "            GSE161529_TNBC_0135 \n",
       "                            684 "
      ]
     },
     "metadata": {},
     "output_type": "display_data"
    }
   ],
   "source": [
    "#as only one pre-neo BRCA1 sample left decided to exclude category, same with male ER Breast Cancer\n",
    "BRE <- subset(BRE, !(subset = integration_id %in% c(\"GSE161529_pre-neo_B10090\",\"GSE161529_mER_breast_0178\")))\n",
    "table(BRE$integration_id)"
   ]
  },
  {
   "cell_type": "code",
   "execution_count": 28,
   "metadata": {
    "vscode": {
     "languageId": "r"
    }
   },
   "outputs": [
    {
     "data": {
      "text/plain": [
       "\n",
       "Healthy breast        LN mets         tumour \n",
       "           876            827          19819 "
      ]
     },
     "metadata": {},
     "output_type": "display_data"
    },
    {
     "data": {
      "text/plain": [
       "\n",
       "           BRCA1 TNBC      ER breast cancer ER breast cancer mets \n",
       "                 4838                  9278                   827 \n",
       "              Healthy    HER2 breast cancer                  TNBC \n",
       "                  876                  4016                  1687 "
      ]
     },
     "metadata": {},
     "output_type": "display_data"
    },
    {
     "data": {
      "text/plain": [
       "\n",
       "0001 0019 0025 0029 0031 0032 0040 0042 0043 0064 0106 0114 0125 0126 0135 0151 \n",
       " 452  122  578  416  905  100  637 2116 1448  154  285  494  201  474  684  290 \n",
       "0161 0163 0167 0169 0173 0176 0177 0233 0308 0319 0337 0360 0372 0554 \n",
       " 161  475  681  433 1610  979 3084  203  377  495 1594  202  118 1754 "
      ]
     },
     "metadata": {},
     "output_type": "display_data"
    },
    {
     "data": {
      "text/plain": [
       "\n",
       "      GSE161529_BRCA1_TNBC_0177       GSE161529_BRCA1_TNBC_0554 \n",
       "                           3084                            1754 \n",
       "     GSE161529_ER_breast_ER0001      GSE161529_ER_breast_ER0025 \n",
       "                            452                             578 \n",
       "  GSE161529_ER_breast_ER0029_7C   GSE161529_ER_breast_ER0029_9C \n",
       "                            248                             168 \n",
       "     GSE161529_ER_breast_ER0032      GSE161529_ER_breast_ER0040 \n",
       "                            100                             350 \n",
       "     GSE161529_ER_breast_ER0042      GSE161529_ER_breast_ER0043 \n",
       "                           2116                            1448 \n",
       "     GSE161529_ER_breast_ER0064      GSE161529_ER_breast_ER0114 \n",
       "                            154                             250 \n",
       "     GSE161529_ER_breast_ER0125      GSE161529_ER_breast_ER0151 \n",
       "                            201                             290 \n",
       "     GSE161529_ER_breast_ER0163      GSE161529_ER_breast_ER0167 \n",
       "                            475                             396 \n",
       "     GSE161529_ER_breast_ER0173      GSE161529_ER_breast_ER0319 \n",
       "                           1355                             495 \n",
       "     GSE161529_ER_breast_ER0360 GSE161529_ER_breast_mets_ER0040 \n",
       "                            202                             287 \n",
       "GSE161529_ER_breast_mets_ER0167 GSE161529_ER_breast_mets_ER0173 \n",
       "                            285                             255 \n",
       "  GSE161529_Healthy_breast_0019   GSE161529_Healthy_breast_0169 \n",
       "                            122                             433 \n",
       "  GSE161529_Healthy_breast_0233   GSE161529_Healthy_breast_0372 \n",
       "                            203                             118 \n",
       "     GSE161529_HER2_breast_0031      GSE161529_HER2_breast_0161 \n",
       "                            905                             161 \n",
       "     GSE161529_HER2_breast_0176      GSE161529_HER2_breast_0308 \n",
       "                            979                             377 \n",
       "     GSE161529_HER2_breast_0337             GSE161529_TNBC_0106 \n",
       "                           1594                             285 \n",
       "            GSE161529_TNBC_0114             GSE161529_TNBC_0126 \n",
       "                            244                             474 \n",
       "            GSE161529_TNBC_0135 \n",
       "                            684 "
      ]
     },
     "metadata": {},
     "output_type": "display_data"
    },
    {
     "data": {
      "text/plain": [
       "\n",
       "    breast lymph node \n",
       "     20695        827 "
      ]
     },
     "metadata": {},
     "output_type": "display_data"
    },
    {
     "data": {
      "text/plain": [
       "\n",
       "        BRCA1 TNBC   ER Breast Cancer HER2 Breast Cancer                 NA \n",
       "              4838              10105               4016                876 \n",
       "              TNBC \n",
       "              1687 "
      ]
     },
     "metadata": {},
     "output_type": "display_data"
    },
    {
     "data": {
      "text/plain": [
       "\n",
       "          healthy metastatic tumour    primary tumour \n",
       "              876               827             19819 "
      ]
     },
     "metadata": {},
     "output_type": "display_data"
    }
   ],
   "source": [
    "#check what categories still present\n",
    "table(BRE$sample_type)\n",
    "table(BRE$cancer_type)\n",
    "table(BRE$patient_id)\n",
    "table(BRE$sample_id)\n",
    "table(BRE$site)\n",
    "table(BRE$cancer_subtype)\n",
    "table(BRE$sample_type_major)"
   ]
  },
  {
   "cell_type": "code",
   "execution_count": 31,
   "metadata": {
    "vscode": {
     "languageId": "r"
    }
   },
   "outputs": [],
   "source": [
    "#realised two samples are not biologically distinct: GSE161529_ER_breast_ER0029_7C and  GSE161529_ER_breast_ER0029_9C\n",
    "#need to ammend integration_id so they have the same\n",
    "\n",
    "BRE_29 <- subset(BRE, subset = integration_id %in% c(\"GSE161529_ER_breast_ER0029_7C\",\"GSE161529_ER_breast_ER0029_9C\"))\n",
    "BRE_else <- subset(BRE, !(subset = integration_id %in% c(\"GSE161529_ER_breast_ER0029_7C\",\"GSE161529_ER_breast_ER0029_9C\")))\n",
    "\n",
    "BRE_29@meta.data$integration_id <- \"GSE161529_ER_breast_ER0029\""
   ]
  },
  {
   "cell_type": "code",
   "execution_count": 32,
   "metadata": {
    "vscode": {
     "languageId": "r"
    }
   },
   "outputs": [],
   "source": [
    "BRE <- merge(BRE_29, y = c(BRE_else), project = \"GSE161529\")"
   ]
  },
  {
   "cell_type": "code",
   "execution_count": 34,
   "metadata": {
    "vscode": {
     "languageId": "r"
    }
   },
   "outputs": [
    {
     "data": {
      "text/plain": [
       "An object of class Seurat \n",
       "33538 features across 21522 samples within 1 assay \n",
       "Active assay: RNA (33538 features, 2000 variable features)\n",
       " 72 layers present: counts.GSE161529_ER_breast_ER0029_7C.1, counts.GSE161529_ER_breast_ER0029_9C.1, scale.data.1, data.GSE161529_ER_breast_ER0029_7C.1, data.GSE161529_ER_breast_ER0029_9C.1, counts.GSE161529_BRCA1_TNBC_0177.2, counts.GSE161529_BRCA1_TNBC_0554.2, counts.GSE161529_ER_breast_ER0001.2, counts.GSE161529_ER_breast_ER0025.2, counts.GSE161529_ER_breast_ER0032.2, counts.GSE161529_ER_breast_ER0040.2, counts.GSE161529_ER_breast_ER0042.2, counts.GSE161529_ER_breast_ER0043.2, counts.GSE161529_ER_breast_ER0064.2, counts.GSE161529_ER_breast_ER0114.2, counts.GSE161529_ER_breast_ER0125.2, counts.GSE161529_ER_breast_ER0151.2, counts.GSE161529_ER_breast_ER0163.2, counts.GSE161529_ER_breast_ER0167.2, counts.GSE161529_ER_breast_ER0173.2, counts.GSE161529_ER_breast_ER0319.2, counts.GSE161529_ER_breast_ER0360.2, counts.GSE161529_ER_breast_mets_ER0040.2, counts.GSE161529_ER_breast_mets_ER0167.2, counts.GSE161529_ER_breast_mets_ER0173.2, counts.GSE161529_Healthy_breast_0019.2, counts.GSE161529_Healthy_breast_0169.2, counts.GSE161529_Healthy_breast_0233.2, counts.GSE161529_Healthy_breast_0372.2, counts.GSE161529_HER2_breast_0031.2, counts.GSE161529_HER2_breast_0161.2, counts.GSE161529_HER2_breast_0176.2, counts.GSE161529_HER2_breast_0308.2, counts.GSE161529_HER2_breast_0337.2, counts.GSE161529_TNBC_0106.2, counts.GSE161529_TNBC_0114.2, counts.GSE161529_TNBC_0126.2, counts.GSE161529_TNBC_0135.2, scale.data.2, data.GSE161529_BRCA1_TNBC_0177.2, data.GSE161529_BRCA1_TNBC_0554.2, data.GSE161529_ER_breast_ER0001.2, data.GSE161529_ER_breast_ER0025.2, data.GSE161529_ER_breast_ER0032.2, data.GSE161529_ER_breast_ER0040.2, data.GSE161529_ER_breast_ER0042.2, data.GSE161529_ER_breast_ER0043.2, data.GSE161529_ER_breast_ER0064.2, data.GSE161529_ER_breast_ER0114.2, data.GSE161529_ER_breast_ER0125.2, data.GSE161529_ER_breast_ER0151.2, data.GSE161529_ER_breast_ER0163.2, data.GSE161529_ER_breast_ER0167.2, data.GSE161529_ER_breast_ER0173.2, data.GSE161529_ER_breast_ER0319.2, data.GSE161529_ER_breast_ER0360.2, data.GSE161529_ER_breast_mets_ER0040.2, data.GSE161529_ER_breast_mets_ER0167.2, data.GSE161529_ER_breast_mets_ER0173.2, data.GSE161529_Healthy_breast_0019.2, data.GSE161529_Healthy_breast_0169.2, data.GSE161529_Healthy_breast_0233.2, data.GSE161529_Healthy_breast_0372.2, data.GSE161529_HER2_breast_0031.2, data.GSE161529_HER2_breast_0161.2, data.GSE161529_HER2_breast_0176.2, data.GSE161529_HER2_breast_0308.2, data.GSE161529_HER2_breast_0337.2, data.GSE161529_TNBC_0106.2, data.GSE161529_TNBC_0114.2, data.GSE161529_TNBC_0126.2, data.GSE161529_TNBC_0135.2"
      ]
     },
     "metadata": {},
     "output_type": "display_data"
    },
    {
     "data": {
      "text/plain": [
       "\n",
       "      GSE161529_BRCA1_TNBC_0177       GSE161529_BRCA1_TNBC_0554 \n",
       "                           3084                            1754 \n",
       "     GSE161529_ER_breast_ER0001      GSE161529_ER_breast_ER0025 \n",
       "                            452                             578 \n",
       "     GSE161529_ER_breast_ER0029      GSE161529_ER_breast_ER0032 \n",
       "                            416                             100 \n",
       "     GSE161529_ER_breast_ER0040      GSE161529_ER_breast_ER0042 \n",
       "                            350                            2116 \n",
       "     GSE161529_ER_breast_ER0043      GSE161529_ER_breast_ER0064 \n",
       "                           1448                             154 \n",
       "     GSE161529_ER_breast_ER0114      GSE161529_ER_breast_ER0125 \n",
       "                            250                             201 \n",
       "     GSE161529_ER_breast_ER0151      GSE161529_ER_breast_ER0163 \n",
       "                            290                             475 \n",
       "     GSE161529_ER_breast_ER0167      GSE161529_ER_breast_ER0173 \n",
       "                            396                            1355 \n",
       "     GSE161529_ER_breast_ER0319      GSE161529_ER_breast_ER0360 \n",
       "                            495                             202 \n",
       "GSE161529_ER_breast_mets_ER0040 GSE161529_ER_breast_mets_ER0167 \n",
       "                            287                             285 \n",
       "GSE161529_ER_breast_mets_ER0173   GSE161529_Healthy_breast_0019 \n",
       "                            255                             122 \n",
       "  GSE161529_Healthy_breast_0169   GSE161529_Healthy_breast_0233 \n",
       "                            433                             203 \n",
       "  GSE161529_Healthy_breast_0372      GSE161529_HER2_breast_0031 \n",
       "                            118                             905 \n",
       "     GSE161529_HER2_breast_0161      GSE161529_HER2_breast_0176 \n",
       "                            161                             979 \n",
       "     GSE161529_HER2_breast_0308      GSE161529_HER2_breast_0337 \n",
       "                            377                            1594 \n",
       "            GSE161529_TNBC_0106             GSE161529_TNBC_0114 \n",
       "                            285                             244 \n",
       "            GSE161529_TNBC_0126             GSE161529_TNBC_0135 \n",
       "                            474                             684 "
      ]
     },
     "metadata": {},
     "output_type": "display_data"
    }
   ],
   "source": [
    "BRE\n",
    "table(BRE$integration_id)"
   ]
  },
  {
   "cell_type": "code",
   "execution_count": 35,
   "metadata": {
    "vscode": {
     "languageId": "r"
    }
   },
   "outputs": [
    {
     "data": {
      "text/html": [
       "<style>\n",
       ".list-inline {list-style: none; margin:0; padding: 0}\n",
       ".list-inline>li {display: inline-block}\n",
       ".list-inline>li:not(:last-child)::after {content: \"\\00b7\"; padding: 0 .5ex}\n",
       "</style>\n",
       "<ol class=list-inline><li>'counts.GSE161529_ER_breast_ER0029_7C.1'</li><li>'counts.GSE161529_ER_breast_ER0029_9C.1'</li><li>'scale.data.1'</li><li>'data.GSE161529_ER_breast_ER0029_7C.1'</li><li>'data.GSE161529_ER_breast_ER0029_9C.1'</li><li>'counts.GSE161529_BRCA1_TNBC_0177.2'</li><li>'counts.GSE161529_BRCA1_TNBC_0554.2'</li><li>'counts.GSE161529_ER_breast_ER0001.2'</li><li>'counts.GSE161529_ER_breast_ER0025.2'</li><li>'counts.GSE161529_ER_breast_ER0032.2'</li><li>'counts.GSE161529_ER_breast_ER0040.2'</li><li>'counts.GSE161529_ER_breast_ER0042.2'</li><li>'counts.GSE161529_ER_breast_ER0043.2'</li><li>'counts.GSE161529_ER_breast_ER0064.2'</li><li>'counts.GSE161529_ER_breast_ER0114.2'</li><li>'counts.GSE161529_ER_breast_ER0125.2'</li><li>'counts.GSE161529_ER_breast_ER0151.2'</li><li>'counts.GSE161529_ER_breast_ER0163.2'</li><li>'counts.GSE161529_ER_breast_ER0167.2'</li><li>'counts.GSE161529_ER_breast_ER0173.2'</li><li>'counts.GSE161529_ER_breast_ER0319.2'</li><li>'counts.GSE161529_ER_breast_ER0360.2'</li><li>'counts.GSE161529_ER_breast_mets_ER0040.2'</li><li>'counts.GSE161529_ER_breast_mets_ER0167.2'</li><li>'counts.GSE161529_ER_breast_mets_ER0173.2'</li><li>'counts.GSE161529_Healthy_breast_0019.2'</li><li>'counts.GSE161529_Healthy_breast_0169.2'</li><li>'counts.GSE161529_Healthy_breast_0233.2'</li><li>'counts.GSE161529_Healthy_breast_0372.2'</li><li>'counts.GSE161529_HER2_breast_0031.2'</li><li>'counts.GSE161529_HER2_breast_0161.2'</li><li>'counts.GSE161529_HER2_breast_0176.2'</li><li>'counts.GSE161529_HER2_breast_0308.2'</li><li>'counts.GSE161529_HER2_breast_0337.2'</li><li>'counts.GSE161529_TNBC_0106.2'</li><li>'counts.GSE161529_TNBC_0114.2'</li><li>'counts.GSE161529_TNBC_0126.2'</li><li>'counts.GSE161529_TNBC_0135.2'</li><li>'scale.data.2'</li><li>'data.GSE161529_BRCA1_TNBC_0177.2'</li><li>'data.GSE161529_BRCA1_TNBC_0554.2'</li><li>'data.GSE161529_ER_breast_ER0001.2'</li><li>'data.GSE161529_ER_breast_ER0025.2'</li><li>'data.GSE161529_ER_breast_ER0032.2'</li><li>'data.GSE161529_ER_breast_ER0040.2'</li><li>'data.GSE161529_ER_breast_ER0042.2'</li><li>'data.GSE161529_ER_breast_ER0043.2'</li><li>'data.GSE161529_ER_breast_ER0064.2'</li><li>'data.GSE161529_ER_breast_ER0114.2'</li><li>'data.GSE161529_ER_breast_ER0125.2'</li><li>'data.GSE161529_ER_breast_ER0151.2'</li><li>'data.GSE161529_ER_breast_ER0163.2'</li><li>'data.GSE161529_ER_breast_ER0167.2'</li><li>'data.GSE161529_ER_breast_ER0173.2'</li><li>'data.GSE161529_ER_breast_ER0319.2'</li><li>'data.GSE161529_ER_breast_ER0360.2'</li><li>'data.GSE161529_ER_breast_mets_ER0040.2'</li><li>'data.GSE161529_ER_breast_mets_ER0167.2'</li><li>'data.GSE161529_ER_breast_mets_ER0173.2'</li><li>'data.GSE161529_Healthy_breast_0019.2'</li><li>'data.GSE161529_Healthy_breast_0169.2'</li><li>'data.GSE161529_Healthy_breast_0233.2'</li><li>'data.GSE161529_Healthy_breast_0372.2'</li><li>'data.GSE161529_HER2_breast_0031.2'</li><li>'data.GSE161529_HER2_breast_0161.2'</li><li>'data.GSE161529_HER2_breast_0176.2'</li><li>'data.GSE161529_HER2_breast_0308.2'</li><li>'data.GSE161529_HER2_breast_0337.2'</li><li>'data.GSE161529_TNBC_0106.2'</li><li>'data.GSE161529_TNBC_0114.2'</li><li>'data.GSE161529_TNBC_0126.2'</li><li>'data.GSE161529_TNBC_0135.2'</li></ol>\n"
      ],
      "text/latex": [
       "\\begin{enumerate*}\n",
       "\\item 'counts.GSE161529\\_ER\\_breast\\_ER0029\\_7C.1'\n",
       "\\item 'counts.GSE161529\\_ER\\_breast\\_ER0029\\_9C.1'\n",
       "\\item 'scale.data.1'\n",
       "\\item 'data.GSE161529\\_ER\\_breast\\_ER0029\\_7C.1'\n",
       "\\item 'data.GSE161529\\_ER\\_breast\\_ER0029\\_9C.1'\n",
       "\\item 'counts.GSE161529\\_BRCA1\\_TNBC\\_0177.2'\n",
       "\\item 'counts.GSE161529\\_BRCA1\\_TNBC\\_0554.2'\n",
       "\\item 'counts.GSE161529\\_ER\\_breast\\_ER0001.2'\n",
       "\\item 'counts.GSE161529\\_ER\\_breast\\_ER0025.2'\n",
       "\\item 'counts.GSE161529\\_ER\\_breast\\_ER0032.2'\n",
       "\\item 'counts.GSE161529\\_ER\\_breast\\_ER0040.2'\n",
       "\\item 'counts.GSE161529\\_ER\\_breast\\_ER0042.2'\n",
       "\\item 'counts.GSE161529\\_ER\\_breast\\_ER0043.2'\n",
       "\\item 'counts.GSE161529\\_ER\\_breast\\_ER0064.2'\n",
       "\\item 'counts.GSE161529\\_ER\\_breast\\_ER0114.2'\n",
       "\\item 'counts.GSE161529\\_ER\\_breast\\_ER0125.2'\n",
       "\\item 'counts.GSE161529\\_ER\\_breast\\_ER0151.2'\n",
       "\\item 'counts.GSE161529\\_ER\\_breast\\_ER0163.2'\n",
       "\\item 'counts.GSE161529\\_ER\\_breast\\_ER0167.2'\n",
       "\\item 'counts.GSE161529\\_ER\\_breast\\_ER0173.2'\n",
       "\\item 'counts.GSE161529\\_ER\\_breast\\_ER0319.2'\n",
       "\\item 'counts.GSE161529\\_ER\\_breast\\_ER0360.2'\n",
       "\\item 'counts.GSE161529\\_ER\\_breast\\_mets\\_ER0040.2'\n",
       "\\item 'counts.GSE161529\\_ER\\_breast\\_mets\\_ER0167.2'\n",
       "\\item 'counts.GSE161529\\_ER\\_breast\\_mets\\_ER0173.2'\n",
       "\\item 'counts.GSE161529\\_Healthy\\_breast\\_0019.2'\n",
       "\\item 'counts.GSE161529\\_Healthy\\_breast\\_0169.2'\n",
       "\\item 'counts.GSE161529\\_Healthy\\_breast\\_0233.2'\n",
       "\\item 'counts.GSE161529\\_Healthy\\_breast\\_0372.2'\n",
       "\\item 'counts.GSE161529\\_HER2\\_breast\\_0031.2'\n",
       "\\item 'counts.GSE161529\\_HER2\\_breast\\_0161.2'\n",
       "\\item 'counts.GSE161529\\_HER2\\_breast\\_0176.2'\n",
       "\\item 'counts.GSE161529\\_HER2\\_breast\\_0308.2'\n",
       "\\item 'counts.GSE161529\\_HER2\\_breast\\_0337.2'\n",
       "\\item 'counts.GSE161529\\_TNBC\\_0106.2'\n",
       "\\item 'counts.GSE161529\\_TNBC\\_0114.2'\n",
       "\\item 'counts.GSE161529\\_TNBC\\_0126.2'\n",
       "\\item 'counts.GSE161529\\_TNBC\\_0135.2'\n",
       "\\item 'scale.data.2'\n",
       "\\item 'data.GSE161529\\_BRCA1\\_TNBC\\_0177.2'\n",
       "\\item 'data.GSE161529\\_BRCA1\\_TNBC\\_0554.2'\n",
       "\\item 'data.GSE161529\\_ER\\_breast\\_ER0001.2'\n",
       "\\item 'data.GSE161529\\_ER\\_breast\\_ER0025.2'\n",
       "\\item 'data.GSE161529\\_ER\\_breast\\_ER0032.2'\n",
       "\\item 'data.GSE161529\\_ER\\_breast\\_ER0040.2'\n",
       "\\item 'data.GSE161529\\_ER\\_breast\\_ER0042.2'\n",
       "\\item 'data.GSE161529\\_ER\\_breast\\_ER0043.2'\n",
       "\\item 'data.GSE161529\\_ER\\_breast\\_ER0064.2'\n",
       "\\item 'data.GSE161529\\_ER\\_breast\\_ER0114.2'\n",
       "\\item 'data.GSE161529\\_ER\\_breast\\_ER0125.2'\n",
       "\\item 'data.GSE161529\\_ER\\_breast\\_ER0151.2'\n",
       "\\item 'data.GSE161529\\_ER\\_breast\\_ER0163.2'\n",
       "\\item 'data.GSE161529\\_ER\\_breast\\_ER0167.2'\n",
       "\\item 'data.GSE161529\\_ER\\_breast\\_ER0173.2'\n",
       "\\item 'data.GSE161529\\_ER\\_breast\\_ER0319.2'\n",
       "\\item 'data.GSE161529\\_ER\\_breast\\_ER0360.2'\n",
       "\\item 'data.GSE161529\\_ER\\_breast\\_mets\\_ER0040.2'\n",
       "\\item 'data.GSE161529\\_ER\\_breast\\_mets\\_ER0167.2'\n",
       "\\item 'data.GSE161529\\_ER\\_breast\\_mets\\_ER0173.2'\n",
       "\\item 'data.GSE161529\\_Healthy\\_breast\\_0019.2'\n",
       "\\item 'data.GSE161529\\_Healthy\\_breast\\_0169.2'\n",
       "\\item 'data.GSE161529\\_Healthy\\_breast\\_0233.2'\n",
       "\\item 'data.GSE161529\\_Healthy\\_breast\\_0372.2'\n",
       "\\item 'data.GSE161529\\_HER2\\_breast\\_0031.2'\n",
       "\\item 'data.GSE161529\\_HER2\\_breast\\_0161.2'\n",
       "\\item 'data.GSE161529\\_HER2\\_breast\\_0176.2'\n",
       "\\item 'data.GSE161529\\_HER2\\_breast\\_0308.2'\n",
       "\\item 'data.GSE161529\\_HER2\\_breast\\_0337.2'\n",
       "\\item 'data.GSE161529\\_TNBC\\_0106.2'\n",
       "\\item 'data.GSE161529\\_TNBC\\_0114.2'\n",
       "\\item 'data.GSE161529\\_TNBC\\_0126.2'\n",
       "\\item 'data.GSE161529\\_TNBC\\_0135.2'\n",
       "\\end{enumerate*}\n"
      ],
      "text/markdown": [
       "1. 'counts.GSE161529_ER_breast_ER0029_7C.1'\n",
       "2. 'counts.GSE161529_ER_breast_ER0029_9C.1'\n",
       "3. 'scale.data.1'\n",
       "4. 'data.GSE161529_ER_breast_ER0029_7C.1'\n",
       "5. 'data.GSE161529_ER_breast_ER0029_9C.1'\n",
       "6. 'counts.GSE161529_BRCA1_TNBC_0177.2'\n",
       "7. 'counts.GSE161529_BRCA1_TNBC_0554.2'\n",
       "8. 'counts.GSE161529_ER_breast_ER0001.2'\n",
       "9. 'counts.GSE161529_ER_breast_ER0025.2'\n",
       "10. 'counts.GSE161529_ER_breast_ER0032.2'\n",
       "11. 'counts.GSE161529_ER_breast_ER0040.2'\n",
       "12. 'counts.GSE161529_ER_breast_ER0042.2'\n",
       "13. 'counts.GSE161529_ER_breast_ER0043.2'\n",
       "14. 'counts.GSE161529_ER_breast_ER0064.2'\n",
       "15. 'counts.GSE161529_ER_breast_ER0114.2'\n",
       "16. 'counts.GSE161529_ER_breast_ER0125.2'\n",
       "17. 'counts.GSE161529_ER_breast_ER0151.2'\n",
       "18. 'counts.GSE161529_ER_breast_ER0163.2'\n",
       "19. 'counts.GSE161529_ER_breast_ER0167.2'\n",
       "20. 'counts.GSE161529_ER_breast_ER0173.2'\n",
       "21. 'counts.GSE161529_ER_breast_ER0319.2'\n",
       "22. 'counts.GSE161529_ER_breast_ER0360.2'\n",
       "23. 'counts.GSE161529_ER_breast_mets_ER0040.2'\n",
       "24. 'counts.GSE161529_ER_breast_mets_ER0167.2'\n",
       "25. 'counts.GSE161529_ER_breast_mets_ER0173.2'\n",
       "26. 'counts.GSE161529_Healthy_breast_0019.2'\n",
       "27. 'counts.GSE161529_Healthy_breast_0169.2'\n",
       "28. 'counts.GSE161529_Healthy_breast_0233.2'\n",
       "29. 'counts.GSE161529_Healthy_breast_0372.2'\n",
       "30. 'counts.GSE161529_HER2_breast_0031.2'\n",
       "31. 'counts.GSE161529_HER2_breast_0161.2'\n",
       "32. 'counts.GSE161529_HER2_breast_0176.2'\n",
       "33. 'counts.GSE161529_HER2_breast_0308.2'\n",
       "34. 'counts.GSE161529_HER2_breast_0337.2'\n",
       "35. 'counts.GSE161529_TNBC_0106.2'\n",
       "36. 'counts.GSE161529_TNBC_0114.2'\n",
       "37. 'counts.GSE161529_TNBC_0126.2'\n",
       "38. 'counts.GSE161529_TNBC_0135.2'\n",
       "39. 'scale.data.2'\n",
       "40. 'data.GSE161529_BRCA1_TNBC_0177.2'\n",
       "41. 'data.GSE161529_BRCA1_TNBC_0554.2'\n",
       "42. 'data.GSE161529_ER_breast_ER0001.2'\n",
       "43. 'data.GSE161529_ER_breast_ER0025.2'\n",
       "44. 'data.GSE161529_ER_breast_ER0032.2'\n",
       "45. 'data.GSE161529_ER_breast_ER0040.2'\n",
       "46. 'data.GSE161529_ER_breast_ER0042.2'\n",
       "47. 'data.GSE161529_ER_breast_ER0043.2'\n",
       "48. 'data.GSE161529_ER_breast_ER0064.2'\n",
       "49. 'data.GSE161529_ER_breast_ER0114.2'\n",
       "50. 'data.GSE161529_ER_breast_ER0125.2'\n",
       "51. 'data.GSE161529_ER_breast_ER0151.2'\n",
       "52. 'data.GSE161529_ER_breast_ER0163.2'\n",
       "53. 'data.GSE161529_ER_breast_ER0167.2'\n",
       "54. 'data.GSE161529_ER_breast_ER0173.2'\n",
       "55. 'data.GSE161529_ER_breast_ER0319.2'\n",
       "56. 'data.GSE161529_ER_breast_ER0360.2'\n",
       "57. 'data.GSE161529_ER_breast_mets_ER0040.2'\n",
       "58. 'data.GSE161529_ER_breast_mets_ER0167.2'\n",
       "59. 'data.GSE161529_ER_breast_mets_ER0173.2'\n",
       "60. 'data.GSE161529_Healthy_breast_0019.2'\n",
       "61. 'data.GSE161529_Healthy_breast_0169.2'\n",
       "62. 'data.GSE161529_Healthy_breast_0233.2'\n",
       "63. 'data.GSE161529_Healthy_breast_0372.2'\n",
       "64. 'data.GSE161529_HER2_breast_0031.2'\n",
       "65. 'data.GSE161529_HER2_breast_0161.2'\n",
       "66. 'data.GSE161529_HER2_breast_0176.2'\n",
       "67. 'data.GSE161529_HER2_breast_0308.2'\n",
       "68. 'data.GSE161529_HER2_breast_0337.2'\n",
       "69. 'data.GSE161529_TNBC_0106.2'\n",
       "70. 'data.GSE161529_TNBC_0114.2'\n",
       "71. 'data.GSE161529_TNBC_0126.2'\n",
       "72. 'data.GSE161529_TNBC_0135.2'\n",
       "\n",
       "\n"
      ],
      "text/plain": [
       " [1] \"counts.GSE161529_ER_breast_ER0029_7C.1\"  \n",
       " [2] \"counts.GSE161529_ER_breast_ER0029_9C.1\"  \n",
       " [3] \"scale.data.1\"                            \n",
       " [4] \"data.GSE161529_ER_breast_ER0029_7C.1\"    \n",
       " [5] \"data.GSE161529_ER_breast_ER0029_9C.1\"    \n",
       " [6] \"counts.GSE161529_BRCA1_TNBC_0177.2\"      \n",
       " [7] \"counts.GSE161529_BRCA1_TNBC_0554.2\"      \n",
       " [8] \"counts.GSE161529_ER_breast_ER0001.2\"     \n",
       " [9] \"counts.GSE161529_ER_breast_ER0025.2\"     \n",
       "[10] \"counts.GSE161529_ER_breast_ER0032.2\"     \n",
       "[11] \"counts.GSE161529_ER_breast_ER0040.2\"     \n",
       "[12] \"counts.GSE161529_ER_breast_ER0042.2\"     \n",
       "[13] \"counts.GSE161529_ER_breast_ER0043.2\"     \n",
       "[14] \"counts.GSE161529_ER_breast_ER0064.2\"     \n",
       "[15] \"counts.GSE161529_ER_breast_ER0114.2\"     \n",
       "[16] \"counts.GSE161529_ER_breast_ER0125.2\"     \n",
       "[17] \"counts.GSE161529_ER_breast_ER0151.2\"     \n",
       "[18] \"counts.GSE161529_ER_breast_ER0163.2\"     \n",
       "[19] \"counts.GSE161529_ER_breast_ER0167.2\"     \n",
       "[20] \"counts.GSE161529_ER_breast_ER0173.2\"     \n",
       "[21] \"counts.GSE161529_ER_breast_ER0319.2\"     \n",
       "[22] \"counts.GSE161529_ER_breast_ER0360.2\"     \n",
       "[23] \"counts.GSE161529_ER_breast_mets_ER0040.2\"\n",
       "[24] \"counts.GSE161529_ER_breast_mets_ER0167.2\"\n",
       "[25] \"counts.GSE161529_ER_breast_mets_ER0173.2\"\n",
       "[26] \"counts.GSE161529_Healthy_breast_0019.2\"  \n",
       "[27] \"counts.GSE161529_Healthy_breast_0169.2\"  \n",
       "[28] \"counts.GSE161529_Healthy_breast_0233.2\"  \n",
       "[29] \"counts.GSE161529_Healthy_breast_0372.2\"  \n",
       "[30] \"counts.GSE161529_HER2_breast_0031.2\"     \n",
       "[31] \"counts.GSE161529_HER2_breast_0161.2\"     \n",
       "[32] \"counts.GSE161529_HER2_breast_0176.2\"     \n",
       "[33] \"counts.GSE161529_HER2_breast_0308.2\"     \n",
       "[34] \"counts.GSE161529_HER2_breast_0337.2\"     \n",
       "[35] \"counts.GSE161529_TNBC_0106.2\"            \n",
       "[36] \"counts.GSE161529_TNBC_0114.2\"            \n",
       "[37] \"counts.GSE161529_TNBC_0126.2\"            \n",
       "[38] \"counts.GSE161529_TNBC_0135.2\"            \n",
       "[39] \"scale.data.2\"                            \n",
       "[40] \"data.GSE161529_BRCA1_TNBC_0177.2\"        \n",
       "[41] \"data.GSE161529_BRCA1_TNBC_0554.2\"        \n",
       "[42] \"data.GSE161529_ER_breast_ER0001.2\"       \n",
       "[43] \"data.GSE161529_ER_breast_ER0025.2\"       \n",
       "[44] \"data.GSE161529_ER_breast_ER0032.2\"       \n",
       "[45] \"data.GSE161529_ER_breast_ER0040.2\"       \n",
       "[46] \"data.GSE161529_ER_breast_ER0042.2\"       \n",
       "[47] \"data.GSE161529_ER_breast_ER0043.2\"       \n",
       "[48] \"data.GSE161529_ER_breast_ER0064.2\"       \n",
       "[49] \"data.GSE161529_ER_breast_ER0114.2\"       \n",
       "[50] \"data.GSE161529_ER_breast_ER0125.2\"       \n",
       "[51] \"data.GSE161529_ER_breast_ER0151.2\"       \n",
       "[52] \"data.GSE161529_ER_breast_ER0163.2\"       \n",
       "[53] \"data.GSE161529_ER_breast_ER0167.2\"       \n",
       "[54] \"data.GSE161529_ER_breast_ER0173.2\"       \n",
       "[55] \"data.GSE161529_ER_breast_ER0319.2\"       \n",
       "[56] \"data.GSE161529_ER_breast_ER0360.2\"       \n",
       "[57] \"data.GSE161529_ER_breast_mets_ER0040.2\"  \n",
       "[58] \"data.GSE161529_ER_breast_mets_ER0167.2\"  \n",
       "[59] \"data.GSE161529_ER_breast_mets_ER0173.2\"  \n",
       "[60] \"data.GSE161529_Healthy_breast_0019.2\"    \n",
       "[61] \"data.GSE161529_Healthy_breast_0169.2\"    \n",
       "[62] \"data.GSE161529_Healthy_breast_0233.2\"    \n",
       "[63] \"data.GSE161529_Healthy_breast_0372.2\"    \n",
       "[64] \"data.GSE161529_HER2_breast_0031.2\"       \n",
       "[65] \"data.GSE161529_HER2_breast_0161.2\"       \n",
       "[66] \"data.GSE161529_HER2_breast_0176.2\"       \n",
       "[67] \"data.GSE161529_HER2_breast_0308.2\"       \n",
       "[68] \"data.GSE161529_HER2_breast_0337.2\"       \n",
       "[69] \"data.GSE161529_TNBC_0106.2\"              \n",
       "[70] \"data.GSE161529_TNBC_0114.2\"              \n",
       "[71] \"data.GSE161529_TNBC_0126.2\"              \n",
       "[72] \"data.GSE161529_TNBC_0135.2\"              "
      ]
     },
     "metadata": {},
     "output_type": "display_data"
    },
    {
     "data": {
      "text/html": [
       "<style>\n",
       ".list-inline {list-style: none; margin:0; padding: 0}\n",
       ".list-inline>li {display: inline-block}\n",
       ".list-inline>li:not(:last-child)::after {content: \"\\00b7\"; padding: 0 .5ex}\n",
       "</style>\n",
       "<ol class=list-inline><li>'scale.data'</li><li>'data'</li><li>'counts'</li></ol>\n"
      ],
      "text/latex": [
       "\\begin{enumerate*}\n",
       "\\item 'scale.data'\n",
       "\\item 'data'\n",
       "\\item 'counts'\n",
       "\\end{enumerate*}\n"
      ],
      "text/markdown": [
       "1. 'scale.data'\n",
       "2. 'data'\n",
       "3. 'counts'\n",
       "\n",
       "\n"
      ],
      "text/plain": [
       "[1] \"scale.data\" \"data\"       \"counts\"    "
      ]
     },
     "metadata": {},
     "output_type": "display_data"
    },
    {
     "name": "stderr",
     "output_type": "stream",
     "text": [
      "Splitting ‘counts’, ‘data’ layers. Not splitting ‘scale.data’. If you would like to split other layers, set in `layers` argument.\n",
      "\n"
     ]
    },
    {
     "data": {
      "text/html": [
       "<style>\n",
       ".list-inline {list-style: none; margin:0; padding: 0}\n",
       ".list-inline>li {display: inline-block}\n",
       ".list-inline>li:not(:last-child)::after {content: \"\\00b7\"; padding: 0 .5ex}\n",
       "</style>\n",
       "<ol class=list-inline><li>'counts.GSE161529_ER_breast_ER0029'</li><li>'counts.GSE161529_BRCA1_TNBC_0177'</li><li>'counts.GSE161529_BRCA1_TNBC_0554'</li><li>'counts.GSE161529_ER_breast_ER0001'</li><li>'counts.GSE161529_ER_breast_ER0025'</li><li>'counts.GSE161529_ER_breast_ER0032'</li><li>'counts.GSE161529_ER_breast_ER0040'</li><li>'counts.GSE161529_ER_breast_ER0042'</li><li>'counts.GSE161529_ER_breast_ER0043'</li><li>'counts.GSE161529_ER_breast_ER0064'</li><li>'counts.GSE161529_ER_breast_ER0114'</li><li>'counts.GSE161529_ER_breast_ER0125'</li><li>'counts.GSE161529_ER_breast_ER0151'</li><li>'counts.GSE161529_ER_breast_ER0163'</li><li>'counts.GSE161529_ER_breast_ER0167'</li><li>'counts.GSE161529_ER_breast_ER0173'</li><li>'counts.GSE161529_ER_breast_ER0319'</li><li>'counts.GSE161529_ER_breast_ER0360'</li><li>'counts.GSE161529_ER_breast_mets_ER0040'</li><li>'counts.GSE161529_ER_breast_mets_ER0167'</li><li>'counts.GSE161529_ER_breast_mets_ER0173'</li><li>'counts.GSE161529_Healthy_breast_0019'</li><li>'counts.GSE161529_Healthy_breast_0169'</li><li>'counts.GSE161529_Healthy_breast_0233'</li><li>'counts.GSE161529_Healthy_breast_0372'</li><li>'counts.GSE161529_HER2_breast_0031'</li><li>'counts.GSE161529_HER2_breast_0161'</li><li>'counts.GSE161529_HER2_breast_0176'</li><li>'counts.GSE161529_HER2_breast_0308'</li><li>'counts.GSE161529_HER2_breast_0337'</li><li>'counts.GSE161529_TNBC_0106'</li><li>'counts.GSE161529_TNBC_0114'</li><li>'counts.GSE161529_TNBC_0126'</li><li>'counts.GSE161529_TNBC_0135'</li><li>'scale.data'</li><li>'data.GSE161529_ER_breast_ER0029'</li><li>'data.GSE161529_BRCA1_TNBC_0177'</li><li>'data.GSE161529_BRCA1_TNBC_0554'</li><li>'data.GSE161529_ER_breast_ER0001'</li><li>'data.GSE161529_ER_breast_ER0025'</li><li>'data.GSE161529_ER_breast_ER0032'</li><li>'data.GSE161529_ER_breast_ER0040'</li><li>'data.GSE161529_ER_breast_ER0042'</li><li>'data.GSE161529_ER_breast_ER0043'</li><li>'data.GSE161529_ER_breast_ER0064'</li><li>'data.GSE161529_ER_breast_ER0114'</li><li>'data.GSE161529_ER_breast_ER0125'</li><li>'data.GSE161529_ER_breast_ER0151'</li><li>'data.GSE161529_ER_breast_ER0163'</li><li>'data.GSE161529_ER_breast_ER0167'</li><li>'data.GSE161529_ER_breast_ER0173'</li><li>'data.GSE161529_ER_breast_ER0319'</li><li>'data.GSE161529_ER_breast_ER0360'</li><li>'data.GSE161529_ER_breast_mets_ER0040'</li><li>'data.GSE161529_ER_breast_mets_ER0167'</li><li>'data.GSE161529_ER_breast_mets_ER0173'</li><li>'data.GSE161529_Healthy_breast_0019'</li><li>'data.GSE161529_Healthy_breast_0169'</li><li>'data.GSE161529_Healthy_breast_0233'</li><li>'data.GSE161529_Healthy_breast_0372'</li><li>'data.GSE161529_HER2_breast_0031'</li><li>'data.GSE161529_HER2_breast_0161'</li><li>'data.GSE161529_HER2_breast_0176'</li><li>'data.GSE161529_HER2_breast_0308'</li><li>'data.GSE161529_HER2_breast_0337'</li><li>'data.GSE161529_TNBC_0106'</li><li>'data.GSE161529_TNBC_0114'</li><li>'data.GSE161529_TNBC_0126'</li><li>'data.GSE161529_TNBC_0135'</li></ol>\n"
      ],
      "text/latex": [
       "\\begin{enumerate*}\n",
       "\\item 'counts.GSE161529\\_ER\\_breast\\_ER0029'\n",
       "\\item 'counts.GSE161529\\_BRCA1\\_TNBC\\_0177'\n",
       "\\item 'counts.GSE161529\\_BRCA1\\_TNBC\\_0554'\n",
       "\\item 'counts.GSE161529\\_ER\\_breast\\_ER0001'\n",
       "\\item 'counts.GSE161529\\_ER\\_breast\\_ER0025'\n",
       "\\item 'counts.GSE161529\\_ER\\_breast\\_ER0032'\n",
       "\\item 'counts.GSE161529\\_ER\\_breast\\_ER0040'\n",
       "\\item 'counts.GSE161529\\_ER\\_breast\\_ER0042'\n",
       "\\item 'counts.GSE161529\\_ER\\_breast\\_ER0043'\n",
       "\\item 'counts.GSE161529\\_ER\\_breast\\_ER0064'\n",
       "\\item 'counts.GSE161529\\_ER\\_breast\\_ER0114'\n",
       "\\item 'counts.GSE161529\\_ER\\_breast\\_ER0125'\n",
       "\\item 'counts.GSE161529\\_ER\\_breast\\_ER0151'\n",
       "\\item 'counts.GSE161529\\_ER\\_breast\\_ER0163'\n",
       "\\item 'counts.GSE161529\\_ER\\_breast\\_ER0167'\n",
       "\\item 'counts.GSE161529\\_ER\\_breast\\_ER0173'\n",
       "\\item 'counts.GSE161529\\_ER\\_breast\\_ER0319'\n",
       "\\item 'counts.GSE161529\\_ER\\_breast\\_ER0360'\n",
       "\\item 'counts.GSE161529\\_ER\\_breast\\_mets\\_ER0040'\n",
       "\\item 'counts.GSE161529\\_ER\\_breast\\_mets\\_ER0167'\n",
       "\\item 'counts.GSE161529\\_ER\\_breast\\_mets\\_ER0173'\n",
       "\\item 'counts.GSE161529\\_Healthy\\_breast\\_0019'\n",
       "\\item 'counts.GSE161529\\_Healthy\\_breast\\_0169'\n",
       "\\item 'counts.GSE161529\\_Healthy\\_breast\\_0233'\n",
       "\\item 'counts.GSE161529\\_Healthy\\_breast\\_0372'\n",
       "\\item 'counts.GSE161529\\_HER2\\_breast\\_0031'\n",
       "\\item 'counts.GSE161529\\_HER2\\_breast\\_0161'\n",
       "\\item 'counts.GSE161529\\_HER2\\_breast\\_0176'\n",
       "\\item 'counts.GSE161529\\_HER2\\_breast\\_0308'\n",
       "\\item 'counts.GSE161529\\_HER2\\_breast\\_0337'\n",
       "\\item 'counts.GSE161529\\_TNBC\\_0106'\n",
       "\\item 'counts.GSE161529\\_TNBC\\_0114'\n",
       "\\item 'counts.GSE161529\\_TNBC\\_0126'\n",
       "\\item 'counts.GSE161529\\_TNBC\\_0135'\n",
       "\\item 'scale.data'\n",
       "\\item 'data.GSE161529\\_ER\\_breast\\_ER0029'\n",
       "\\item 'data.GSE161529\\_BRCA1\\_TNBC\\_0177'\n",
       "\\item 'data.GSE161529\\_BRCA1\\_TNBC\\_0554'\n",
       "\\item 'data.GSE161529\\_ER\\_breast\\_ER0001'\n",
       "\\item 'data.GSE161529\\_ER\\_breast\\_ER0025'\n",
       "\\item 'data.GSE161529\\_ER\\_breast\\_ER0032'\n",
       "\\item 'data.GSE161529\\_ER\\_breast\\_ER0040'\n",
       "\\item 'data.GSE161529\\_ER\\_breast\\_ER0042'\n",
       "\\item 'data.GSE161529\\_ER\\_breast\\_ER0043'\n",
       "\\item 'data.GSE161529\\_ER\\_breast\\_ER0064'\n",
       "\\item 'data.GSE161529\\_ER\\_breast\\_ER0114'\n",
       "\\item 'data.GSE161529\\_ER\\_breast\\_ER0125'\n",
       "\\item 'data.GSE161529\\_ER\\_breast\\_ER0151'\n",
       "\\item 'data.GSE161529\\_ER\\_breast\\_ER0163'\n",
       "\\item 'data.GSE161529\\_ER\\_breast\\_ER0167'\n",
       "\\item 'data.GSE161529\\_ER\\_breast\\_ER0173'\n",
       "\\item 'data.GSE161529\\_ER\\_breast\\_ER0319'\n",
       "\\item 'data.GSE161529\\_ER\\_breast\\_ER0360'\n",
       "\\item 'data.GSE161529\\_ER\\_breast\\_mets\\_ER0040'\n",
       "\\item 'data.GSE161529\\_ER\\_breast\\_mets\\_ER0167'\n",
       "\\item 'data.GSE161529\\_ER\\_breast\\_mets\\_ER0173'\n",
       "\\item 'data.GSE161529\\_Healthy\\_breast\\_0019'\n",
       "\\item 'data.GSE161529\\_Healthy\\_breast\\_0169'\n",
       "\\item 'data.GSE161529\\_Healthy\\_breast\\_0233'\n",
       "\\item 'data.GSE161529\\_Healthy\\_breast\\_0372'\n",
       "\\item 'data.GSE161529\\_HER2\\_breast\\_0031'\n",
       "\\item 'data.GSE161529\\_HER2\\_breast\\_0161'\n",
       "\\item 'data.GSE161529\\_HER2\\_breast\\_0176'\n",
       "\\item 'data.GSE161529\\_HER2\\_breast\\_0308'\n",
       "\\item 'data.GSE161529\\_HER2\\_breast\\_0337'\n",
       "\\item 'data.GSE161529\\_TNBC\\_0106'\n",
       "\\item 'data.GSE161529\\_TNBC\\_0114'\n",
       "\\item 'data.GSE161529\\_TNBC\\_0126'\n",
       "\\item 'data.GSE161529\\_TNBC\\_0135'\n",
       "\\end{enumerate*}\n"
      ],
      "text/markdown": [
       "1. 'counts.GSE161529_ER_breast_ER0029'\n",
       "2. 'counts.GSE161529_BRCA1_TNBC_0177'\n",
       "3. 'counts.GSE161529_BRCA1_TNBC_0554'\n",
       "4. 'counts.GSE161529_ER_breast_ER0001'\n",
       "5. 'counts.GSE161529_ER_breast_ER0025'\n",
       "6. 'counts.GSE161529_ER_breast_ER0032'\n",
       "7. 'counts.GSE161529_ER_breast_ER0040'\n",
       "8. 'counts.GSE161529_ER_breast_ER0042'\n",
       "9. 'counts.GSE161529_ER_breast_ER0043'\n",
       "10. 'counts.GSE161529_ER_breast_ER0064'\n",
       "11. 'counts.GSE161529_ER_breast_ER0114'\n",
       "12. 'counts.GSE161529_ER_breast_ER0125'\n",
       "13. 'counts.GSE161529_ER_breast_ER0151'\n",
       "14. 'counts.GSE161529_ER_breast_ER0163'\n",
       "15. 'counts.GSE161529_ER_breast_ER0167'\n",
       "16. 'counts.GSE161529_ER_breast_ER0173'\n",
       "17. 'counts.GSE161529_ER_breast_ER0319'\n",
       "18. 'counts.GSE161529_ER_breast_ER0360'\n",
       "19. 'counts.GSE161529_ER_breast_mets_ER0040'\n",
       "20. 'counts.GSE161529_ER_breast_mets_ER0167'\n",
       "21. 'counts.GSE161529_ER_breast_mets_ER0173'\n",
       "22. 'counts.GSE161529_Healthy_breast_0019'\n",
       "23. 'counts.GSE161529_Healthy_breast_0169'\n",
       "24. 'counts.GSE161529_Healthy_breast_0233'\n",
       "25. 'counts.GSE161529_Healthy_breast_0372'\n",
       "26. 'counts.GSE161529_HER2_breast_0031'\n",
       "27. 'counts.GSE161529_HER2_breast_0161'\n",
       "28. 'counts.GSE161529_HER2_breast_0176'\n",
       "29. 'counts.GSE161529_HER2_breast_0308'\n",
       "30. 'counts.GSE161529_HER2_breast_0337'\n",
       "31. 'counts.GSE161529_TNBC_0106'\n",
       "32. 'counts.GSE161529_TNBC_0114'\n",
       "33. 'counts.GSE161529_TNBC_0126'\n",
       "34. 'counts.GSE161529_TNBC_0135'\n",
       "35. 'scale.data'\n",
       "36. 'data.GSE161529_ER_breast_ER0029'\n",
       "37. 'data.GSE161529_BRCA1_TNBC_0177'\n",
       "38. 'data.GSE161529_BRCA1_TNBC_0554'\n",
       "39. 'data.GSE161529_ER_breast_ER0001'\n",
       "40. 'data.GSE161529_ER_breast_ER0025'\n",
       "41. 'data.GSE161529_ER_breast_ER0032'\n",
       "42. 'data.GSE161529_ER_breast_ER0040'\n",
       "43. 'data.GSE161529_ER_breast_ER0042'\n",
       "44. 'data.GSE161529_ER_breast_ER0043'\n",
       "45. 'data.GSE161529_ER_breast_ER0064'\n",
       "46. 'data.GSE161529_ER_breast_ER0114'\n",
       "47. 'data.GSE161529_ER_breast_ER0125'\n",
       "48. 'data.GSE161529_ER_breast_ER0151'\n",
       "49. 'data.GSE161529_ER_breast_ER0163'\n",
       "50. 'data.GSE161529_ER_breast_ER0167'\n",
       "51. 'data.GSE161529_ER_breast_ER0173'\n",
       "52. 'data.GSE161529_ER_breast_ER0319'\n",
       "53. 'data.GSE161529_ER_breast_ER0360'\n",
       "54. 'data.GSE161529_ER_breast_mets_ER0040'\n",
       "55. 'data.GSE161529_ER_breast_mets_ER0167'\n",
       "56. 'data.GSE161529_ER_breast_mets_ER0173'\n",
       "57. 'data.GSE161529_Healthy_breast_0019'\n",
       "58. 'data.GSE161529_Healthy_breast_0169'\n",
       "59. 'data.GSE161529_Healthy_breast_0233'\n",
       "60. 'data.GSE161529_Healthy_breast_0372'\n",
       "61. 'data.GSE161529_HER2_breast_0031'\n",
       "62. 'data.GSE161529_HER2_breast_0161'\n",
       "63. 'data.GSE161529_HER2_breast_0176'\n",
       "64. 'data.GSE161529_HER2_breast_0308'\n",
       "65. 'data.GSE161529_HER2_breast_0337'\n",
       "66. 'data.GSE161529_TNBC_0106'\n",
       "67. 'data.GSE161529_TNBC_0114'\n",
       "68. 'data.GSE161529_TNBC_0126'\n",
       "69. 'data.GSE161529_TNBC_0135'\n",
       "\n",
       "\n"
      ],
      "text/plain": [
       " [1] \"counts.GSE161529_ER_breast_ER0029\"     \n",
       " [2] \"counts.GSE161529_BRCA1_TNBC_0177\"      \n",
       " [3] \"counts.GSE161529_BRCA1_TNBC_0554\"      \n",
       " [4] \"counts.GSE161529_ER_breast_ER0001\"     \n",
       " [5] \"counts.GSE161529_ER_breast_ER0025\"     \n",
       " [6] \"counts.GSE161529_ER_breast_ER0032\"     \n",
       " [7] \"counts.GSE161529_ER_breast_ER0040\"     \n",
       " [8] \"counts.GSE161529_ER_breast_ER0042\"     \n",
       " [9] \"counts.GSE161529_ER_breast_ER0043\"     \n",
       "[10] \"counts.GSE161529_ER_breast_ER0064\"     \n",
       "[11] \"counts.GSE161529_ER_breast_ER0114\"     \n",
       "[12] \"counts.GSE161529_ER_breast_ER0125\"     \n",
       "[13] \"counts.GSE161529_ER_breast_ER0151\"     \n",
       "[14] \"counts.GSE161529_ER_breast_ER0163\"     \n",
       "[15] \"counts.GSE161529_ER_breast_ER0167\"     \n",
       "[16] \"counts.GSE161529_ER_breast_ER0173\"     \n",
       "[17] \"counts.GSE161529_ER_breast_ER0319\"     \n",
       "[18] \"counts.GSE161529_ER_breast_ER0360\"     \n",
       "[19] \"counts.GSE161529_ER_breast_mets_ER0040\"\n",
       "[20] \"counts.GSE161529_ER_breast_mets_ER0167\"\n",
       "[21] \"counts.GSE161529_ER_breast_mets_ER0173\"\n",
       "[22] \"counts.GSE161529_Healthy_breast_0019\"  \n",
       "[23] \"counts.GSE161529_Healthy_breast_0169\"  \n",
       "[24] \"counts.GSE161529_Healthy_breast_0233\"  \n",
       "[25] \"counts.GSE161529_Healthy_breast_0372\"  \n",
       "[26] \"counts.GSE161529_HER2_breast_0031\"     \n",
       "[27] \"counts.GSE161529_HER2_breast_0161\"     \n",
       "[28] \"counts.GSE161529_HER2_breast_0176\"     \n",
       "[29] \"counts.GSE161529_HER2_breast_0308\"     \n",
       "[30] \"counts.GSE161529_HER2_breast_0337\"     \n",
       "[31] \"counts.GSE161529_TNBC_0106\"            \n",
       "[32] \"counts.GSE161529_TNBC_0114\"            \n",
       "[33] \"counts.GSE161529_TNBC_0126\"            \n",
       "[34] \"counts.GSE161529_TNBC_0135\"            \n",
       "[35] \"scale.data\"                            \n",
       "[36] \"data.GSE161529_ER_breast_ER0029\"       \n",
       "[37] \"data.GSE161529_BRCA1_TNBC_0177\"        \n",
       "[38] \"data.GSE161529_BRCA1_TNBC_0554\"        \n",
       "[39] \"data.GSE161529_ER_breast_ER0001\"       \n",
       "[40] \"data.GSE161529_ER_breast_ER0025\"       \n",
       "[41] \"data.GSE161529_ER_breast_ER0032\"       \n",
       "[42] \"data.GSE161529_ER_breast_ER0040\"       \n",
       "[43] \"data.GSE161529_ER_breast_ER0042\"       \n",
       "[44] \"data.GSE161529_ER_breast_ER0043\"       \n",
       "[45] \"data.GSE161529_ER_breast_ER0064\"       \n",
       "[46] \"data.GSE161529_ER_breast_ER0114\"       \n",
       "[47] \"data.GSE161529_ER_breast_ER0125\"       \n",
       "[48] \"data.GSE161529_ER_breast_ER0151\"       \n",
       "[49] \"data.GSE161529_ER_breast_ER0163\"       \n",
       "[50] \"data.GSE161529_ER_breast_ER0167\"       \n",
       "[51] \"data.GSE161529_ER_breast_ER0173\"       \n",
       "[52] \"data.GSE161529_ER_breast_ER0319\"       \n",
       "[53] \"data.GSE161529_ER_breast_ER0360\"       \n",
       "[54] \"data.GSE161529_ER_breast_mets_ER0040\"  \n",
       "[55] \"data.GSE161529_ER_breast_mets_ER0167\"  \n",
       "[56] \"data.GSE161529_ER_breast_mets_ER0173\"  \n",
       "[57] \"data.GSE161529_Healthy_breast_0019\"    \n",
       "[58] \"data.GSE161529_Healthy_breast_0169\"    \n",
       "[59] \"data.GSE161529_Healthy_breast_0233\"    \n",
       "[60] \"data.GSE161529_Healthy_breast_0372\"    \n",
       "[61] \"data.GSE161529_HER2_breast_0031\"       \n",
       "[62] \"data.GSE161529_HER2_breast_0161\"       \n",
       "[63] \"data.GSE161529_HER2_breast_0176\"       \n",
       "[64] \"data.GSE161529_HER2_breast_0308\"       \n",
       "[65] \"data.GSE161529_HER2_breast_0337\"       \n",
       "[66] \"data.GSE161529_TNBC_0106\"              \n",
       "[67] \"data.GSE161529_TNBC_0114\"              \n",
       "[68] \"data.GSE161529_TNBC_0126\"              \n",
       "[69] \"data.GSE161529_TNBC_0135\"              "
      ]
     },
     "metadata": {},
     "output_type": "display_data"
    }
   ],
   "source": [
    "#join layers and then split them by integration_id\n",
    "Layers(BRE[[\"RNA\"]])\n",
    "#join layers\n",
    "BRE[[\"RNA\"]] <- JoinLayers(BRE[[\"RNA\"]])\n",
    "Layers(BRE[[\"RNA\"]])\n",
    "#split layers\n",
    "BRE[[\"RNA\"]] <- split(BRE[[\"RNA\"]], f = BRE$integration_id)\n",
    "Layers(BRE[[\"RNA\"]])\n"
   ]
  },
  {
   "cell_type": "code",
   "execution_count": 36,
   "metadata": {
    "vscode": {
     "languageId": "r"
    }
   },
   "outputs": [
    {
     "data": {
      "text/plain": [
       "An object of class Seurat \n",
       "33538 features across 21522 samples within 1 assay \n",
       "Active assay: RNA (33538 features, 2000 variable features)\n",
       " 69 layers present: counts.GSE161529_ER_breast_ER0029, counts.GSE161529_BRCA1_TNBC_0177, counts.GSE161529_BRCA1_TNBC_0554, counts.GSE161529_ER_breast_ER0001, counts.GSE161529_ER_breast_ER0025, counts.GSE161529_ER_breast_ER0032, counts.GSE161529_ER_breast_ER0040, counts.GSE161529_ER_breast_ER0042, counts.GSE161529_ER_breast_ER0043, counts.GSE161529_ER_breast_ER0064, counts.GSE161529_ER_breast_ER0114, counts.GSE161529_ER_breast_ER0125, counts.GSE161529_ER_breast_ER0151, counts.GSE161529_ER_breast_ER0163, counts.GSE161529_ER_breast_ER0167, counts.GSE161529_ER_breast_ER0173, counts.GSE161529_ER_breast_ER0319, counts.GSE161529_ER_breast_ER0360, counts.GSE161529_ER_breast_mets_ER0040, counts.GSE161529_ER_breast_mets_ER0167, counts.GSE161529_ER_breast_mets_ER0173, counts.GSE161529_Healthy_breast_0019, counts.GSE161529_Healthy_breast_0169, counts.GSE161529_Healthy_breast_0233, counts.GSE161529_Healthy_breast_0372, counts.GSE161529_HER2_breast_0031, counts.GSE161529_HER2_breast_0161, counts.GSE161529_HER2_breast_0176, counts.GSE161529_HER2_breast_0308, counts.GSE161529_HER2_breast_0337, counts.GSE161529_TNBC_0106, counts.GSE161529_TNBC_0114, counts.GSE161529_TNBC_0126, counts.GSE161529_TNBC_0135, scale.data, data.GSE161529_ER_breast_ER0029, data.GSE161529_BRCA1_TNBC_0177, data.GSE161529_BRCA1_TNBC_0554, data.GSE161529_ER_breast_ER0001, data.GSE161529_ER_breast_ER0025, data.GSE161529_ER_breast_ER0032, data.GSE161529_ER_breast_ER0040, data.GSE161529_ER_breast_ER0042, data.GSE161529_ER_breast_ER0043, data.GSE161529_ER_breast_ER0064, data.GSE161529_ER_breast_ER0114, data.GSE161529_ER_breast_ER0125, data.GSE161529_ER_breast_ER0151, data.GSE161529_ER_breast_ER0163, data.GSE161529_ER_breast_ER0167, data.GSE161529_ER_breast_ER0173, data.GSE161529_ER_breast_ER0319, data.GSE161529_ER_breast_ER0360, data.GSE161529_ER_breast_mets_ER0040, data.GSE161529_ER_breast_mets_ER0167, data.GSE161529_ER_breast_mets_ER0173, data.GSE161529_Healthy_breast_0019, data.GSE161529_Healthy_breast_0169, data.GSE161529_Healthy_breast_0233, data.GSE161529_Healthy_breast_0372, data.GSE161529_HER2_breast_0031, data.GSE161529_HER2_breast_0161, data.GSE161529_HER2_breast_0176, data.GSE161529_HER2_breast_0308, data.GSE161529_HER2_breast_0337, data.GSE161529_TNBC_0106, data.GSE161529_TNBC_0114, data.GSE161529_TNBC_0126, data.GSE161529_TNBC_0135"
      ]
     },
     "metadata": {},
     "output_type": "display_data"
    },
    {
     "data": {
      "text/html": [
       "'GSE161529'"
      ],
      "text/latex": [
       "'GSE161529'"
      ],
      "text/markdown": [
       "'GSE161529'"
      ],
      "text/plain": [
       "[1] \"GSE161529\""
      ]
     },
     "metadata": {},
     "output_type": "display_data"
    },
    {
     "data": {
      "text/html": [
       "<table class=\"dataframe\">\n",
       "<caption>A data.frame: 6 × 14</caption>\n",
       "<thead>\n",
       "\t<tr><th></th><th scope=col>orig.ident</th><th scope=col>nCount_RNA</th><th scope=col>nFeature_RNA</th><th scope=col>sample_type</th><th scope=col>cancer_type</th><th scope=col>patient_id</th><th scope=col>sample_id</th><th scope=col>percent.mt</th><th scope=col>RNA_snn_res.0.2</th><th scope=col>seurat_clusters</th><th scope=col>site</th><th scope=col>sample_type_major</th><th scope=col>cancer_subtype</th><th scope=col>integration_id</th></tr>\n",
       "\t<tr><th></th><th scope=col>&lt;chr&gt;</th><th scope=col>&lt;dbl&gt;</th><th scope=col>&lt;int&gt;</th><th scope=col>&lt;chr&gt;</th><th scope=col>&lt;chr&gt;</th><th scope=col>&lt;chr&gt;</th><th scope=col>&lt;chr&gt;</th><th scope=col>&lt;dbl&gt;</th><th scope=col>&lt;chr&gt;</th><th scope=col>&lt;chr&gt;</th><th scope=col>&lt;chr&gt;</th><th scope=col>&lt;chr&gt;</th><th scope=col>&lt;chr&gt;</th><th scope=col>&lt;chr&gt;</th></tr>\n",
       "</thead>\n",
       "<tbody>\n",
       "\t<tr><th scope=row>GSE161529_ER0029_7C_AAAGTAGAGGAGTTGC-1</th><td>GSE161529</td><td>1592</td><td> 723</td><td>tumour</td><td>ER breast cancer</td><td>0029</td><td>GSE161529_ER_breast_ER0029_7C</td><td>4.899497</td><td>1</td><td>1</td><td>breast</td><td>primary tumour</td><td>ER Breast Cancer</td><td>GSE161529_ER_breast_ER0029</td></tr>\n",
       "\t<tr><th scope=row>GSE161529_ER0029_7C_AAATGCCAGCTGTCTA-1</th><td>GSE161529</td><td> 812</td><td> 443</td><td>tumour</td><td>ER breast cancer</td><td>0029</td><td>GSE161529_ER_breast_ER0029_7C</td><td>2.463054</td><td>1</td><td>1</td><td>breast</td><td>primary tumour</td><td>ER Breast Cancer</td><td>GSE161529_ER_breast_ER0029</td></tr>\n",
       "\t<tr><th scope=row>GSE161529_ER0029_7C_AAATGCCTCAAACAAG-1</th><td>GSE161529</td><td>2514</td><td>1017</td><td>tumour</td><td>ER breast cancer</td><td>0029</td><td>GSE161529_ER_breast_ER0029_7C</td><td>3.778839</td><td>1</td><td>1</td><td>breast</td><td>primary tumour</td><td>ER Breast Cancer</td><td>GSE161529_ER_breast_ER0029</td></tr>\n",
       "\t<tr><th scope=row>GSE161529_ER0029_7C_AACACGTTCTTAACCT-1</th><td>GSE161529</td><td>2614</td><td>1052</td><td>tumour</td><td>ER breast cancer</td><td>0029</td><td>GSE161529_ER_breast_ER0029_7C</td><td>4.208110</td><td>1</td><td>1</td><td>breast</td><td>primary tumour</td><td>ER Breast Cancer</td><td>GSE161529_ER_breast_ER0029</td></tr>\n",
       "\t<tr><th scope=row>GSE161529_ER0029_7C_AACCATGGTACCGAGA-1</th><td>GSE161529</td><td>2055</td><td> 857</td><td>tumour</td><td>ER breast cancer</td><td>0029</td><td>GSE161529_ER_breast_ER0029_7C</td><td>7.055961</td><td>1</td><td>1</td><td>breast</td><td>primary tumour</td><td>ER Breast Cancer</td><td>GSE161529_ER_breast_ER0029</td></tr>\n",
       "\t<tr><th scope=row>GSE161529_ER0029_7C_AACTCCCAGGCTAGCA-1</th><td>GSE161529</td><td>7702</td><td>2304</td><td>tumour</td><td>ER breast cancer</td><td>0029</td><td>GSE161529_ER_breast_ER0029_7C</td><td>3.791223</td><td>1</td><td>1</td><td>breast</td><td>primary tumour</td><td>ER Breast Cancer</td><td>GSE161529_ER_breast_ER0029</td></tr>\n",
       "</tbody>\n",
       "</table>\n"
      ],
      "text/latex": [
       "A data.frame: 6 × 14\n",
       "\\begin{tabular}{r|llllllllllllll}\n",
       "  & orig.ident & nCount\\_RNA & nFeature\\_RNA & sample\\_type & cancer\\_type & patient\\_id & sample\\_id & percent.mt & RNA\\_snn\\_res.0.2 & seurat\\_clusters & site & sample\\_type\\_major & cancer\\_subtype & integration\\_id\\\\\n",
       "  & <chr> & <dbl> & <int> & <chr> & <chr> & <chr> & <chr> & <dbl> & <chr> & <chr> & <chr> & <chr> & <chr> & <chr>\\\\\n",
       "\\hline\n",
       "\tGSE161529\\_ER0029\\_7C\\_AAAGTAGAGGAGTTGC-1 & GSE161529 & 1592 &  723 & tumour & ER breast cancer & 0029 & GSE161529\\_ER\\_breast\\_ER0029\\_7C & 4.899497 & 1 & 1 & breast & primary tumour & ER Breast Cancer & GSE161529\\_ER\\_breast\\_ER0029\\\\\n",
       "\tGSE161529\\_ER0029\\_7C\\_AAATGCCAGCTGTCTA-1 & GSE161529 &  812 &  443 & tumour & ER breast cancer & 0029 & GSE161529\\_ER\\_breast\\_ER0029\\_7C & 2.463054 & 1 & 1 & breast & primary tumour & ER Breast Cancer & GSE161529\\_ER\\_breast\\_ER0029\\\\\n",
       "\tGSE161529\\_ER0029\\_7C\\_AAATGCCTCAAACAAG-1 & GSE161529 & 2514 & 1017 & tumour & ER breast cancer & 0029 & GSE161529\\_ER\\_breast\\_ER0029\\_7C & 3.778839 & 1 & 1 & breast & primary tumour & ER Breast Cancer & GSE161529\\_ER\\_breast\\_ER0029\\\\\n",
       "\tGSE161529\\_ER0029\\_7C\\_AACACGTTCTTAACCT-1 & GSE161529 & 2614 & 1052 & tumour & ER breast cancer & 0029 & GSE161529\\_ER\\_breast\\_ER0029\\_7C & 4.208110 & 1 & 1 & breast & primary tumour & ER Breast Cancer & GSE161529\\_ER\\_breast\\_ER0029\\\\\n",
       "\tGSE161529\\_ER0029\\_7C\\_AACCATGGTACCGAGA-1 & GSE161529 & 2055 &  857 & tumour & ER breast cancer & 0029 & GSE161529\\_ER\\_breast\\_ER0029\\_7C & 7.055961 & 1 & 1 & breast & primary tumour & ER Breast Cancer & GSE161529\\_ER\\_breast\\_ER0029\\\\\n",
       "\tGSE161529\\_ER0029\\_7C\\_AACTCCCAGGCTAGCA-1 & GSE161529 & 7702 & 2304 & tumour & ER breast cancer & 0029 & GSE161529\\_ER\\_breast\\_ER0029\\_7C & 3.791223 & 1 & 1 & breast & primary tumour & ER Breast Cancer & GSE161529\\_ER\\_breast\\_ER0029\\\\\n",
       "\\end{tabular}\n"
      ],
      "text/markdown": [
       "\n",
       "A data.frame: 6 × 14\n",
       "\n",
       "| <!--/--> | orig.ident &lt;chr&gt; | nCount_RNA &lt;dbl&gt; | nFeature_RNA &lt;int&gt; | sample_type &lt;chr&gt; | cancer_type &lt;chr&gt; | patient_id &lt;chr&gt; | sample_id &lt;chr&gt; | percent.mt &lt;dbl&gt; | RNA_snn_res.0.2 &lt;chr&gt; | seurat_clusters &lt;chr&gt; | site &lt;chr&gt; | sample_type_major &lt;chr&gt; | cancer_subtype &lt;chr&gt; | integration_id &lt;chr&gt; |\n",
       "|---|---|---|---|---|---|---|---|---|---|---|---|---|---|---|\n",
       "| GSE161529_ER0029_7C_AAAGTAGAGGAGTTGC-1 | GSE161529 | 1592 |  723 | tumour | ER breast cancer | 0029 | GSE161529_ER_breast_ER0029_7C | 4.899497 | 1 | 1 | breast | primary tumour | ER Breast Cancer | GSE161529_ER_breast_ER0029 |\n",
       "| GSE161529_ER0029_7C_AAATGCCAGCTGTCTA-1 | GSE161529 |  812 |  443 | tumour | ER breast cancer | 0029 | GSE161529_ER_breast_ER0029_7C | 2.463054 | 1 | 1 | breast | primary tumour | ER Breast Cancer | GSE161529_ER_breast_ER0029 |\n",
       "| GSE161529_ER0029_7C_AAATGCCTCAAACAAG-1 | GSE161529 | 2514 | 1017 | tumour | ER breast cancer | 0029 | GSE161529_ER_breast_ER0029_7C | 3.778839 | 1 | 1 | breast | primary tumour | ER Breast Cancer | GSE161529_ER_breast_ER0029 |\n",
       "| GSE161529_ER0029_7C_AACACGTTCTTAACCT-1 | GSE161529 | 2614 | 1052 | tumour | ER breast cancer | 0029 | GSE161529_ER_breast_ER0029_7C | 4.208110 | 1 | 1 | breast | primary tumour | ER Breast Cancer | GSE161529_ER_breast_ER0029 |\n",
       "| GSE161529_ER0029_7C_AACCATGGTACCGAGA-1 | GSE161529 | 2055 |  857 | tumour | ER breast cancer | 0029 | GSE161529_ER_breast_ER0029_7C | 7.055961 | 1 | 1 | breast | primary tumour | ER Breast Cancer | GSE161529_ER_breast_ER0029 |\n",
       "| GSE161529_ER0029_7C_AACTCCCAGGCTAGCA-1 | GSE161529 | 7702 | 2304 | tumour | ER breast cancer | 0029 | GSE161529_ER_breast_ER0029_7C | 3.791223 | 1 | 1 | breast | primary tumour | ER Breast Cancer | GSE161529_ER_breast_ER0029 |\n",
       "\n"
      ],
      "text/plain": [
       "                                       orig.ident nCount_RNA nFeature_RNA\n",
       "GSE161529_ER0029_7C_AAAGTAGAGGAGTTGC-1 GSE161529  1592        723        \n",
       "GSE161529_ER0029_7C_AAATGCCAGCTGTCTA-1 GSE161529   812        443        \n",
       "GSE161529_ER0029_7C_AAATGCCTCAAACAAG-1 GSE161529  2514       1017        \n",
       "GSE161529_ER0029_7C_AACACGTTCTTAACCT-1 GSE161529  2614       1052        \n",
       "GSE161529_ER0029_7C_AACCATGGTACCGAGA-1 GSE161529  2055        857        \n",
       "GSE161529_ER0029_7C_AACTCCCAGGCTAGCA-1 GSE161529  7702       2304        \n",
       "                                       sample_type cancer_type      patient_id\n",
       "GSE161529_ER0029_7C_AAAGTAGAGGAGTTGC-1 tumour      ER breast cancer 0029      \n",
       "GSE161529_ER0029_7C_AAATGCCAGCTGTCTA-1 tumour      ER breast cancer 0029      \n",
       "GSE161529_ER0029_7C_AAATGCCTCAAACAAG-1 tumour      ER breast cancer 0029      \n",
       "GSE161529_ER0029_7C_AACACGTTCTTAACCT-1 tumour      ER breast cancer 0029      \n",
       "GSE161529_ER0029_7C_AACCATGGTACCGAGA-1 tumour      ER breast cancer 0029      \n",
       "GSE161529_ER0029_7C_AACTCCCAGGCTAGCA-1 tumour      ER breast cancer 0029      \n",
       "                                       sample_id                     percent.mt\n",
       "GSE161529_ER0029_7C_AAAGTAGAGGAGTTGC-1 GSE161529_ER_breast_ER0029_7C 4.899497  \n",
       "GSE161529_ER0029_7C_AAATGCCAGCTGTCTA-1 GSE161529_ER_breast_ER0029_7C 2.463054  \n",
       "GSE161529_ER0029_7C_AAATGCCTCAAACAAG-1 GSE161529_ER_breast_ER0029_7C 3.778839  \n",
       "GSE161529_ER0029_7C_AACACGTTCTTAACCT-1 GSE161529_ER_breast_ER0029_7C 4.208110  \n",
       "GSE161529_ER0029_7C_AACCATGGTACCGAGA-1 GSE161529_ER_breast_ER0029_7C 7.055961  \n",
       "GSE161529_ER0029_7C_AACTCCCAGGCTAGCA-1 GSE161529_ER_breast_ER0029_7C 3.791223  \n",
       "                                       RNA_snn_res.0.2 seurat_clusters site  \n",
       "GSE161529_ER0029_7C_AAAGTAGAGGAGTTGC-1 1               1               breast\n",
       "GSE161529_ER0029_7C_AAATGCCAGCTGTCTA-1 1               1               breast\n",
       "GSE161529_ER0029_7C_AAATGCCTCAAACAAG-1 1               1               breast\n",
       "GSE161529_ER0029_7C_AACACGTTCTTAACCT-1 1               1               breast\n",
       "GSE161529_ER0029_7C_AACCATGGTACCGAGA-1 1               1               breast\n",
       "GSE161529_ER0029_7C_AACTCCCAGGCTAGCA-1 1               1               breast\n",
       "                                       sample_type_major cancer_subtype  \n",
       "GSE161529_ER0029_7C_AAAGTAGAGGAGTTGC-1 primary tumour    ER Breast Cancer\n",
       "GSE161529_ER0029_7C_AAATGCCAGCTGTCTA-1 primary tumour    ER Breast Cancer\n",
       "GSE161529_ER0029_7C_AAATGCCTCAAACAAG-1 primary tumour    ER Breast Cancer\n",
       "GSE161529_ER0029_7C_AACACGTTCTTAACCT-1 primary tumour    ER Breast Cancer\n",
       "GSE161529_ER0029_7C_AACCATGGTACCGAGA-1 primary tumour    ER Breast Cancer\n",
       "GSE161529_ER0029_7C_AACTCCCAGGCTAGCA-1 primary tumour    ER Breast Cancer\n",
       "                                       integration_id            \n",
       "GSE161529_ER0029_7C_AAAGTAGAGGAGTTGC-1 GSE161529_ER_breast_ER0029\n",
       "GSE161529_ER0029_7C_AAATGCCAGCTGTCTA-1 GSE161529_ER_breast_ER0029\n",
       "GSE161529_ER0029_7C_AAATGCCTCAAACAAG-1 GSE161529_ER_breast_ER0029\n",
       "GSE161529_ER0029_7C_AACACGTTCTTAACCT-1 GSE161529_ER_breast_ER0029\n",
       "GSE161529_ER0029_7C_AACCATGGTACCGAGA-1 GSE161529_ER_breast_ER0029\n",
       "GSE161529_ER0029_7C_AACTCCCAGGCTAGCA-1 GSE161529_ER_breast_ER0029"
      ]
     },
     "metadata": {},
     "output_type": "display_data"
    },
    {
     "data": {
      "text/html": [
       "<table class=\"dataframe\">\n",
       "<caption>A data.frame: 6 × 14</caption>\n",
       "<thead>\n",
       "\t<tr><th></th><th scope=col>orig.ident</th><th scope=col>nCount_RNA</th><th scope=col>nFeature_RNA</th><th scope=col>sample_type</th><th scope=col>cancer_type</th><th scope=col>patient_id</th><th scope=col>sample_id</th><th scope=col>percent.mt</th><th scope=col>RNA_snn_res.0.2</th><th scope=col>seurat_clusters</th><th scope=col>site</th><th scope=col>sample_type_major</th><th scope=col>cancer_subtype</th><th scope=col>integration_id</th></tr>\n",
       "\t<tr><th></th><th scope=col>&lt;chr&gt;</th><th scope=col>&lt;dbl&gt;</th><th scope=col>&lt;int&gt;</th><th scope=col>&lt;chr&gt;</th><th scope=col>&lt;chr&gt;</th><th scope=col>&lt;chr&gt;</th><th scope=col>&lt;chr&gt;</th><th scope=col>&lt;dbl&gt;</th><th scope=col>&lt;chr&gt;</th><th scope=col>&lt;chr&gt;</th><th scope=col>&lt;chr&gt;</th><th scope=col>&lt;chr&gt;</th><th scope=col>&lt;chr&gt;</th><th scope=col>&lt;chr&gt;</th></tr>\n",
       "</thead>\n",
       "<tbody>\n",
       "\t<tr><th scope=row>GSE161529_TN0135_TTTCCTCTCGAGAGCA-1</th><td>GSE161529</td><td>3019</td><td>1094</td><td>tumour</td><td>TNBC</td><td>0135</td><td>GSE161529_TNBC_0135</td><td>2.517390</td><td>1</td><td>1</td><td>breast</td><td>primary tumour</td><td>TNBC</td><td>GSE161529_TNBC_0135</td></tr>\n",
       "\t<tr><th scope=row>GSE161529_TN0135_TTTGCGCCACGGTTTA-1</th><td>GSE161529</td><td>2429</td><td> 906</td><td>tumour</td><td>TNBC</td><td>0135</td><td>GSE161529_TNBC_0135</td><td>3.252367</td><td>1</td><td>1</td><td>breast</td><td>primary tumour</td><td>TNBC</td><td>GSE161529_TNBC_0135</td></tr>\n",
       "\t<tr><th scope=row>GSE161529_TN0135_TTTGCGCGTAAACGCG-1</th><td>GSE161529</td><td>9095</td><td>2480</td><td>tumour</td><td>TNBC</td><td>0135</td><td>GSE161529_TNBC_0135</td><td>5.178670</td><td>1</td><td>1</td><td>breast</td><td>primary tumour</td><td>TNBC</td><td>GSE161529_TNBC_0135</td></tr>\n",
       "\t<tr><th scope=row>GSE161529_TN0135_TTTGGTTTCGACCAGC-1</th><td>GSE161529</td><td>3207</td><td>1341</td><td>tumour</td><td>TNBC</td><td>0135</td><td>GSE161529_TNBC_0135</td><td>4.708450</td><td>1</td><td>1</td><td>breast</td><td>primary tumour</td><td>TNBC</td><td>GSE161529_TNBC_0135</td></tr>\n",
       "\t<tr><th scope=row>GSE161529_TN0135_TTTGTCAAGTCCGTAT-1</th><td>GSE161529</td><td>4551</td><td>1365</td><td>tumour</td><td>TNBC</td><td>0135</td><td>GSE161529_TNBC_0135</td><td>2.966381</td><td>1</td><td>1</td><td>breast</td><td>primary tumour</td><td>TNBC</td><td>GSE161529_TNBC_0135</td></tr>\n",
       "\t<tr><th scope=row>GSE161529_TN0135_TTTGTCACACAGGAGT-1</th><td>GSE161529</td><td>5355</td><td>1455</td><td>tumour</td><td>TNBC</td><td>0135</td><td>GSE161529_TNBC_0135</td><td>2.745098</td><td>1</td><td>1</td><td>breast</td><td>primary tumour</td><td>TNBC</td><td>GSE161529_TNBC_0135</td></tr>\n",
       "</tbody>\n",
       "</table>\n"
      ],
      "text/latex": [
       "A data.frame: 6 × 14\n",
       "\\begin{tabular}{r|llllllllllllll}\n",
       "  & orig.ident & nCount\\_RNA & nFeature\\_RNA & sample\\_type & cancer\\_type & patient\\_id & sample\\_id & percent.mt & RNA\\_snn\\_res.0.2 & seurat\\_clusters & site & sample\\_type\\_major & cancer\\_subtype & integration\\_id\\\\\n",
       "  & <chr> & <dbl> & <int> & <chr> & <chr> & <chr> & <chr> & <dbl> & <chr> & <chr> & <chr> & <chr> & <chr> & <chr>\\\\\n",
       "\\hline\n",
       "\tGSE161529\\_TN0135\\_TTTCCTCTCGAGAGCA-1 & GSE161529 & 3019 & 1094 & tumour & TNBC & 0135 & GSE161529\\_TNBC\\_0135 & 2.517390 & 1 & 1 & breast & primary tumour & TNBC & GSE161529\\_TNBC\\_0135\\\\\n",
       "\tGSE161529\\_TN0135\\_TTTGCGCCACGGTTTA-1 & GSE161529 & 2429 &  906 & tumour & TNBC & 0135 & GSE161529\\_TNBC\\_0135 & 3.252367 & 1 & 1 & breast & primary tumour & TNBC & GSE161529\\_TNBC\\_0135\\\\\n",
       "\tGSE161529\\_TN0135\\_TTTGCGCGTAAACGCG-1 & GSE161529 & 9095 & 2480 & tumour & TNBC & 0135 & GSE161529\\_TNBC\\_0135 & 5.178670 & 1 & 1 & breast & primary tumour & TNBC & GSE161529\\_TNBC\\_0135\\\\\n",
       "\tGSE161529\\_TN0135\\_TTTGGTTTCGACCAGC-1 & GSE161529 & 3207 & 1341 & tumour & TNBC & 0135 & GSE161529\\_TNBC\\_0135 & 4.708450 & 1 & 1 & breast & primary tumour & TNBC & GSE161529\\_TNBC\\_0135\\\\\n",
       "\tGSE161529\\_TN0135\\_TTTGTCAAGTCCGTAT-1 & GSE161529 & 4551 & 1365 & tumour & TNBC & 0135 & GSE161529\\_TNBC\\_0135 & 2.966381 & 1 & 1 & breast & primary tumour & TNBC & GSE161529\\_TNBC\\_0135\\\\\n",
       "\tGSE161529\\_TN0135\\_TTTGTCACACAGGAGT-1 & GSE161529 & 5355 & 1455 & tumour & TNBC & 0135 & GSE161529\\_TNBC\\_0135 & 2.745098 & 1 & 1 & breast & primary tumour & TNBC & GSE161529\\_TNBC\\_0135\\\\\n",
       "\\end{tabular}\n"
      ],
      "text/markdown": [
       "\n",
       "A data.frame: 6 × 14\n",
       "\n",
       "| <!--/--> | orig.ident &lt;chr&gt; | nCount_RNA &lt;dbl&gt; | nFeature_RNA &lt;int&gt; | sample_type &lt;chr&gt; | cancer_type &lt;chr&gt; | patient_id &lt;chr&gt; | sample_id &lt;chr&gt; | percent.mt &lt;dbl&gt; | RNA_snn_res.0.2 &lt;chr&gt; | seurat_clusters &lt;chr&gt; | site &lt;chr&gt; | sample_type_major &lt;chr&gt; | cancer_subtype &lt;chr&gt; | integration_id &lt;chr&gt; |\n",
       "|---|---|---|---|---|---|---|---|---|---|---|---|---|---|---|\n",
       "| GSE161529_TN0135_TTTCCTCTCGAGAGCA-1 | GSE161529 | 3019 | 1094 | tumour | TNBC | 0135 | GSE161529_TNBC_0135 | 2.517390 | 1 | 1 | breast | primary tumour | TNBC | GSE161529_TNBC_0135 |\n",
       "| GSE161529_TN0135_TTTGCGCCACGGTTTA-1 | GSE161529 | 2429 |  906 | tumour | TNBC | 0135 | GSE161529_TNBC_0135 | 3.252367 | 1 | 1 | breast | primary tumour | TNBC | GSE161529_TNBC_0135 |\n",
       "| GSE161529_TN0135_TTTGCGCGTAAACGCG-1 | GSE161529 | 9095 | 2480 | tumour | TNBC | 0135 | GSE161529_TNBC_0135 | 5.178670 | 1 | 1 | breast | primary tumour | TNBC | GSE161529_TNBC_0135 |\n",
       "| GSE161529_TN0135_TTTGGTTTCGACCAGC-1 | GSE161529 | 3207 | 1341 | tumour | TNBC | 0135 | GSE161529_TNBC_0135 | 4.708450 | 1 | 1 | breast | primary tumour | TNBC | GSE161529_TNBC_0135 |\n",
       "| GSE161529_TN0135_TTTGTCAAGTCCGTAT-1 | GSE161529 | 4551 | 1365 | tumour | TNBC | 0135 | GSE161529_TNBC_0135 | 2.966381 | 1 | 1 | breast | primary tumour | TNBC | GSE161529_TNBC_0135 |\n",
       "| GSE161529_TN0135_TTTGTCACACAGGAGT-1 | GSE161529 | 5355 | 1455 | tumour | TNBC | 0135 | GSE161529_TNBC_0135 | 2.745098 | 1 | 1 | breast | primary tumour | TNBC | GSE161529_TNBC_0135 |\n",
       "\n"
      ],
      "text/plain": [
       "                                    orig.ident nCount_RNA nFeature_RNA\n",
       "GSE161529_TN0135_TTTCCTCTCGAGAGCA-1 GSE161529  3019       1094        \n",
       "GSE161529_TN0135_TTTGCGCCACGGTTTA-1 GSE161529  2429        906        \n",
       "GSE161529_TN0135_TTTGCGCGTAAACGCG-1 GSE161529  9095       2480        \n",
       "GSE161529_TN0135_TTTGGTTTCGACCAGC-1 GSE161529  3207       1341        \n",
       "GSE161529_TN0135_TTTGTCAAGTCCGTAT-1 GSE161529  4551       1365        \n",
       "GSE161529_TN0135_TTTGTCACACAGGAGT-1 GSE161529  5355       1455        \n",
       "                                    sample_type cancer_type patient_id\n",
       "GSE161529_TN0135_TTTCCTCTCGAGAGCA-1 tumour      TNBC        0135      \n",
       "GSE161529_TN0135_TTTGCGCCACGGTTTA-1 tumour      TNBC        0135      \n",
       "GSE161529_TN0135_TTTGCGCGTAAACGCG-1 tumour      TNBC        0135      \n",
       "GSE161529_TN0135_TTTGGTTTCGACCAGC-1 tumour      TNBC        0135      \n",
       "GSE161529_TN0135_TTTGTCAAGTCCGTAT-1 tumour      TNBC        0135      \n",
       "GSE161529_TN0135_TTTGTCACACAGGAGT-1 tumour      TNBC        0135      \n",
       "                                    sample_id           percent.mt\n",
       "GSE161529_TN0135_TTTCCTCTCGAGAGCA-1 GSE161529_TNBC_0135 2.517390  \n",
       "GSE161529_TN0135_TTTGCGCCACGGTTTA-1 GSE161529_TNBC_0135 3.252367  \n",
       "GSE161529_TN0135_TTTGCGCGTAAACGCG-1 GSE161529_TNBC_0135 5.178670  \n",
       "GSE161529_TN0135_TTTGGTTTCGACCAGC-1 GSE161529_TNBC_0135 4.708450  \n",
       "GSE161529_TN0135_TTTGTCAAGTCCGTAT-1 GSE161529_TNBC_0135 2.966381  \n",
       "GSE161529_TN0135_TTTGTCACACAGGAGT-1 GSE161529_TNBC_0135 2.745098  \n",
       "                                    RNA_snn_res.0.2 seurat_clusters site  \n",
       "GSE161529_TN0135_TTTCCTCTCGAGAGCA-1 1               1               breast\n",
       "GSE161529_TN0135_TTTGCGCCACGGTTTA-1 1               1               breast\n",
       "GSE161529_TN0135_TTTGCGCGTAAACGCG-1 1               1               breast\n",
       "GSE161529_TN0135_TTTGGTTTCGACCAGC-1 1               1               breast\n",
       "GSE161529_TN0135_TTTGTCAAGTCCGTAT-1 1               1               breast\n",
       "GSE161529_TN0135_TTTGTCACACAGGAGT-1 1               1               breast\n",
       "                                    sample_type_major cancer_subtype\n",
       "GSE161529_TN0135_TTTCCTCTCGAGAGCA-1 primary tumour    TNBC          \n",
       "GSE161529_TN0135_TTTGCGCCACGGTTTA-1 primary tumour    TNBC          \n",
       "GSE161529_TN0135_TTTGCGCGTAAACGCG-1 primary tumour    TNBC          \n",
       "GSE161529_TN0135_TTTGGTTTCGACCAGC-1 primary tumour    TNBC          \n",
       "GSE161529_TN0135_TTTGTCAAGTCCGTAT-1 primary tumour    TNBC          \n",
       "GSE161529_TN0135_TTTGTCACACAGGAGT-1 primary tumour    TNBC          \n",
       "                                    integration_id     \n",
       "GSE161529_TN0135_TTTCCTCTCGAGAGCA-1 GSE161529_TNBC_0135\n",
       "GSE161529_TN0135_TTTGCGCCACGGTTTA-1 GSE161529_TNBC_0135\n",
       "GSE161529_TN0135_TTTGCGCGTAAACGCG-1 GSE161529_TNBC_0135\n",
       "GSE161529_TN0135_TTTGGTTTCGACCAGC-1 GSE161529_TNBC_0135\n",
       "GSE161529_TN0135_TTTGTCAAGTCCGTAT-1 GSE161529_TNBC_0135\n",
       "GSE161529_TN0135_TTTGTCACACAGGAGT-1 GSE161529_TNBC_0135"
      ]
     },
     "metadata": {},
     "output_type": "display_data"
    },
    {
     "data": {
      "text/plain": [
       "\n",
       "      GSE161529_BRCA1_TNBC_0177       GSE161529_BRCA1_TNBC_0554 \n",
       "                           3084                            1754 \n",
       "     GSE161529_ER_breast_ER0001      GSE161529_ER_breast_ER0025 \n",
       "                            452                             578 \n",
       "     GSE161529_ER_breast_ER0029      GSE161529_ER_breast_ER0032 \n",
       "                            416                             100 \n",
       "     GSE161529_ER_breast_ER0040      GSE161529_ER_breast_ER0042 \n",
       "                            350                            2116 \n",
       "     GSE161529_ER_breast_ER0043      GSE161529_ER_breast_ER0064 \n",
       "                           1448                             154 \n",
       "     GSE161529_ER_breast_ER0114      GSE161529_ER_breast_ER0125 \n",
       "                            250                             201 \n",
       "     GSE161529_ER_breast_ER0151      GSE161529_ER_breast_ER0163 \n",
       "                            290                             475 \n",
       "     GSE161529_ER_breast_ER0167      GSE161529_ER_breast_ER0173 \n",
       "                            396                            1355 \n",
       "     GSE161529_ER_breast_ER0319      GSE161529_ER_breast_ER0360 \n",
       "                            495                             202 \n",
       "GSE161529_ER_breast_mets_ER0040 GSE161529_ER_breast_mets_ER0167 \n",
       "                            287                             285 \n",
       "GSE161529_ER_breast_mets_ER0173   GSE161529_Healthy_breast_0019 \n",
       "                            255                             122 \n",
       "  GSE161529_Healthy_breast_0169   GSE161529_Healthy_breast_0233 \n",
       "                            433                             203 \n",
       "  GSE161529_Healthy_breast_0372      GSE161529_HER2_breast_0031 \n",
       "                            118                             905 \n",
       "     GSE161529_HER2_breast_0161      GSE161529_HER2_breast_0176 \n",
       "                            161                             979 \n",
       "     GSE161529_HER2_breast_0308      GSE161529_HER2_breast_0337 \n",
       "                            377                            1594 \n",
       "            GSE161529_TNBC_0106             GSE161529_TNBC_0114 \n",
       "                            285                             244 \n",
       "            GSE161529_TNBC_0126             GSE161529_TNBC_0135 \n",
       "                            474                             684 "
      ]
     },
     "metadata": {},
     "output_type": "display_data"
    }
   ],
   "source": [
    "#record number of cells\n",
    "BRE\n",
    "BRE@project.name\n",
    "head(BRE@meta.data)\n",
    "tail(BRE@meta.data)\n",
    "table(BRE$integration_id)"
   ]
  },
  {
   "cell_type": "code",
   "execution_count": 37,
   "metadata": {
    "vscode": {
     "languageId": "r"
    }
   },
   "outputs": [],
   "source": [
    "#re-export seurat object ready for integration\n",
    "saveRDS(BRE, \"/scratch/user/s4436039/scdata/Myeloid_Cells/Myeloid_Cells_Integrate/GSE161529_myeloid_int.RDS\")"
   ]
  },
  {
   "cell_type": "code",
   "execution_count": 38,
   "metadata": {
    "vscode": {
     "languageId": "r"
    }
   },
   "outputs": [],
   "source": [
    "#remove all objects in R\n",
    "rm(list = ls())"
   ]
  },
  {
   "cell_type": "markdown",
   "metadata": {},
   "source": [
    "## GSE176078"
   ]
  },
  {
   "cell_type": "code",
   "execution_count": 3,
   "metadata": {
    "vscode": {
     "languageId": "r"
    }
   },
   "outputs": [],
   "source": [
    "BRE <- readRDS(\"/scratch/user/s4436039/scdata/Myeloid_Cells/GSE176078_myeloid.RDS\")"
   ]
  },
  {
   "cell_type": "code",
   "execution_count": 5,
   "metadata": {
    "vscode": {
     "languageId": "r"
    }
   },
   "outputs": [
    {
     "data": {
      "text/plain": [
       "An object of class Seurat \n",
       "29733 features across 9374 samples within 1 assay \n",
       "Active assay: RNA (29733 features, 2000 variable features)\n",
       " 53 layers present: counts.1, counts.2, counts.3, counts.4, counts.5, counts.6, counts.7, counts.8, counts.9, counts.10, counts.11, counts.12, counts.13, counts.14, counts.15, counts.16, counts.17, counts.18, counts.19, counts.20, counts.21, counts.22, counts.23, counts.24, counts.25, counts.26, data.1, data.2, data.3, data.4, data.5, data.6, data.7, data.8, data.9, data.10, data.11, data.12, data.13, data.14, data.15, data.16, data.17, data.18, data.19, data.20, data.21, data.22, data.23, data.24, data.25, data.26, scale.data\n",
       " 2 dimensional reductions calculated: pca, umap"
      ]
     },
     "metadata": {},
     "output_type": "display_data"
    },
    {
     "data": {
      "text/html": [
       "'GSE176078'"
      ],
      "text/latex": [
       "'GSE176078'"
      ],
      "text/markdown": [
       "'GSE176078'"
      ],
      "text/plain": [
       "[1] \"GSE176078\""
      ]
     },
     "metadata": {},
     "output_type": "display_data"
    },
    {
     "data": {
      "text/html": [
       "<table class=\"dataframe\">\n",
       "<caption>A data.frame: 6 × 16</caption>\n",
       "<thead>\n",
       "\t<tr><th></th><th scope=col>orig.ident</th><th scope=col>nCount_RNA</th><th scope=col>nFeature_RNA</th><th scope=col>X</th><th scope=col>percent.mito</th><th scope=col>subtype</th><th scope=col>celltype_subset</th><th scope=col>celltype_minor</th><th scope=col>celltype_major</th><th scope=col>sample_type</th><th scope=col>cancer_type</th><th scope=col>patient_id</th><th scope=col>sample_id</th><th scope=col>percent.mt</th><th scope=col>RNA_snn_res.0.2</th><th scope=col>seurat_clusters</th></tr>\n",
       "\t<tr><th></th><th scope=col>&lt;chr&gt;</th><th scope=col>&lt;dbl&gt;</th><th scope=col>&lt;int&gt;</th><th scope=col>&lt;chr&gt;</th><th scope=col>&lt;dbl&gt;</th><th scope=col>&lt;chr&gt;</th><th scope=col>&lt;chr&gt;</th><th scope=col>&lt;chr&gt;</th><th scope=col>&lt;chr&gt;</th><th scope=col>&lt;chr&gt;</th><th scope=col>&lt;chr&gt;</th><th scope=col>&lt;chr&gt;</th><th scope=col>&lt;chr&gt;</th><th scope=col>&lt;dbl&gt;</th><th scope=col>&lt;fct&gt;</th><th scope=col>&lt;fct&gt;</th></tr>\n",
       "</thead>\n",
       "<tbody>\n",
       "\t<tr><th scope=row>GSE176078_HER2_CID3586_AACCATGCAGGTCGTC</th><td>CID3586</td><td> 6925</td><td>1897</td><td>CID3586_AACCATGCAGGTCGTC</td><td>2.194946</td><td>HER2+</td><td>Myeloid_c10_Macrophage_1_EGR1</td><td>Macrophage</td><td>Myeloid</td><td>tumour</td><td>HER2 Breast Cancer</td><td>CID3586</td><td>GSE176078_HER2_breast_CID3586</td><td>2.194946</td><td>1</td><td>1</td></tr>\n",
       "\t<tr><th scope=row>GSE176078_HER2_CID3586_AACTTTCGTGACCAAG</th><td>CID3586</td><td> 8552</td><td>2318</td><td>CID3586_AACTTTCGTGACCAAG</td><td>2.958372</td><td>HER2+</td><td>Myeloid_c10_Macrophage_1_EGR1</td><td>Macrophage</td><td>Myeloid</td><td>tumour</td><td>HER2 Breast Cancer</td><td>CID3586</td><td>GSE176078_HER2_breast_CID3586</td><td>2.958372</td><td>1</td><td>1</td></tr>\n",
       "\t<tr><th scope=row>GSE176078_HER2_CID3586_AAGGTTCAGTCCTCCT</th><td>CID3586</td><td> 9355</td><td>2382</td><td>CID3586_AAGGTTCAGTCCTCCT</td><td>2.501336</td><td>HER2+</td><td>Myeloid_c10_Macrophage_1_EGR1</td><td>Macrophage</td><td>Myeloid</td><td>tumour</td><td>HER2 Breast Cancer</td><td>CID3586</td><td>GSE176078_HER2_breast_CID3586</td><td>2.501336</td><td>1</td><td>1</td></tr>\n",
       "\t<tr><th scope=row>GSE176078_HER2_CID3586_ACTATCTGTCTAAAGA</th><td>CID3586</td><td>16706</td><td>2903</td><td>CID3586_ACTATCTGTCTAAAGA</td><td>4.579193</td><td>HER2+</td><td>Myeloid_c10_Macrophage_1_EGR1</td><td>Macrophage</td><td>Myeloid</td><td>tumour</td><td>HER2 Breast Cancer</td><td>CID3586</td><td>GSE176078_HER2_breast_CID3586</td><td>4.579193</td><td>1</td><td>1</td></tr>\n",
       "\t<tr><th scope=row>GSE176078_HER2_CID3586_ATTACTCAGACTTTCG</th><td>CID3586</td><td> 9537</td><td>2520</td><td>CID3586_ATTACTCAGACTTTCG</td><td>3.827199</td><td>HER2+</td><td>Myeloid_c10_Macrophage_1_EGR1</td><td>Macrophage</td><td>Myeloid</td><td>tumour</td><td>HER2 Breast Cancer</td><td>CID3586</td><td>GSE176078_HER2_breast_CID3586</td><td>3.827199</td><td>1</td><td>1</td></tr>\n",
       "\t<tr><th scope=row>GSE176078_HER2_CID3586_CACTCCAGTTCGCTAA</th><td>CID3586</td><td> 9162</td><td>2323</td><td>CID3586_CACTCCAGTTCGCTAA</td><td>2.619515</td><td>HER2+</td><td>Myeloid_c10_Macrophage_1_EGR1</td><td>Macrophage</td><td>Myeloid</td><td>tumour</td><td>HER2 Breast Cancer</td><td>CID3586</td><td>GSE176078_HER2_breast_CID3586</td><td>2.619515</td><td>1</td><td>1</td></tr>\n",
       "</tbody>\n",
       "</table>\n"
      ],
      "text/latex": [
       "A data.frame: 6 × 16\n",
       "\\begin{tabular}{r|llllllllllllllll}\n",
       "  & orig.ident & nCount\\_RNA & nFeature\\_RNA & X & percent.mito & subtype & celltype\\_subset & celltype\\_minor & celltype\\_major & sample\\_type & cancer\\_type & patient\\_id & sample\\_id & percent.mt & RNA\\_snn\\_res.0.2 & seurat\\_clusters\\\\\n",
       "  & <chr> & <dbl> & <int> & <chr> & <dbl> & <chr> & <chr> & <chr> & <chr> & <chr> & <chr> & <chr> & <chr> & <dbl> & <fct> & <fct>\\\\\n",
       "\\hline\n",
       "\tGSE176078\\_HER2\\_CID3586\\_AACCATGCAGGTCGTC & CID3586 &  6925 & 1897 & CID3586\\_AACCATGCAGGTCGTC & 2.194946 & HER2+ & Myeloid\\_c10\\_Macrophage\\_1\\_EGR1 & Macrophage & Myeloid & tumour & HER2 Breast Cancer & CID3586 & GSE176078\\_HER2\\_breast\\_CID3586 & 2.194946 & 1 & 1\\\\\n",
       "\tGSE176078\\_HER2\\_CID3586\\_AACTTTCGTGACCAAG & CID3586 &  8552 & 2318 & CID3586\\_AACTTTCGTGACCAAG & 2.958372 & HER2+ & Myeloid\\_c10\\_Macrophage\\_1\\_EGR1 & Macrophage & Myeloid & tumour & HER2 Breast Cancer & CID3586 & GSE176078\\_HER2\\_breast\\_CID3586 & 2.958372 & 1 & 1\\\\\n",
       "\tGSE176078\\_HER2\\_CID3586\\_AAGGTTCAGTCCTCCT & CID3586 &  9355 & 2382 & CID3586\\_AAGGTTCAGTCCTCCT & 2.501336 & HER2+ & Myeloid\\_c10\\_Macrophage\\_1\\_EGR1 & Macrophage & Myeloid & tumour & HER2 Breast Cancer & CID3586 & GSE176078\\_HER2\\_breast\\_CID3586 & 2.501336 & 1 & 1\\\\\n",
       "\tGSE176078\\_HER2\\_CID3586\\_ACTATCTGTCTAAAGA & CID3586 & 16706 & 2903 & CID3586\\_ACTATCTGTCTAAAGA & 4.579193 & HER2+ & Myeloid\\_c10\\_Macrophage\\_1\\_EGR1 & Macrophage & Myeloid & tumour & HER2 Breast Cancer & CID3586 & GSE176078\\_HER2\\_breast\\_CID3586 & 4.579193 & 1 & 1\\\\\n",
       "\tGSE176078\\_HER2\\_CID3586\\_ATTACTCAGACTTTCG & CID3586 &  9537 & 2520 & CID3586\\_ATTACTCAGACTTTCG & 3.827199 & HER2+ & Myeloid\\_c10\\_Macrophage\\_1\\_EGR1 & Macrophage & Myeloid & tumour & HER2 Breast Cancer & CID3586 & GSE176078\\_HER2\\_breast\\_CID3586 & 3.827199 & 1 & 1\\\\\n",
       "\tGSE176078\\_HER2\\_CID3586\\_CACTCCAGTTCGCTAA & CID3586 &  9162 & 2323 & CID3586\\_CACTCCAGTTCGCTAA & 2.619515 & HER2+ & Myeloid\\_c10\\_Macrophage\\_1\\_EGR1 & Macrophage & Myeloid & tumour & HER2 Breast Cancer & CID3586 & GSE176078\\_HER2\\_breast\\_CID3586 & 2.619515 & 1 & 1\\\\\n",
       "\\end{tabular}\n"
      ],
      "text/markdown": [
       "\n",
       "A data.frame: 6 × 16\n",
       "\n",
       "| <!--/--> | orig.ident &lt;chr&gt; | nCount_RNA &lt;dbl&gt; | nFeature_RNA &lt;int&gt; | X &lt;chr&gt; | percent.mito &lt;dbl&gt; | subtype &lt;chr&gt; | celltype_subset &lt;chr&gt; | celltype_minor &lt;chr&gt; | celltype_major &lt;chr&gt; | sample_type &lt;chr&gt; | cancer_type &lt;chr&gt; | patient_id &lt;chr&gt; | sample_id &lt;chr&gt; | percent.mt &lt;dbl&gt; | RNA_snn_res.0.2 &lt;fct&gt; | seurat_clusters &lt;fct&gt; |\n",
       "|---|---|---|---|---|---|---|---|---|---|---|---|---|---|---|---|---|\n",
       "| GSE176078_HER2_CID3586_AACCATGCAGGTCGTC | CID3586 |  6925 | 1897 | CID3586_AACCATGCAGGTCGTC | 2.194946 | HER2+ | Myeloid_c10_Macrophage_1_EGR1 | Macrophage | Myeloid | tumour | HER2 Breast Cancer | CID3586 | GSE176078_HER2_breast_CID3586 | 2.194946 | 1 | 1 |\n",
       "| GSE176078_HER2_CID3586_AACTTTCGTGACCAAG | CID3586 |  8552 | 2318 | CID3586_AACTTTCGTGACCAAG | 2.958372 | HER2+ | Myeloid_c10_Macrophage_1_EGR1 | Macrophage | Myeloid | tumour | HER2 Breast Cancer | CID3586 | GSE176078_HER2_breast_CID3586 | 2.958372 | 1 | 1 |\n",
       "| GSE176078_HER2_CID3586_AAGGTTCAGTCCTCCT | CID3586 |  9355 | 2382 | CID3586_AAGGTTCAGTCCTCCT | 2.501336 | HER2+ | Myeloid_c10_Macrophage_1_EGR1 | Macrophage | Myeloid | tumour | HER2 Breast Cancer | CID3586 | GSE176078_HER2_breast_CID3586 | 2.501336 | 1 | 1 |\n",
       "| GSE176078_HER2_CID3586_ACTATCTGTCTAAAGA | CID3586 | 16706 | 2903 | CID3586_ACTATCTGTCTAAAGA | 4.579193 | HER2+ | Myeloid_c10_Macrophage_1_EGR1 | Macrophage | Myeloid | tumour | HER2 Breast Cancer | CID3586 | GSE176078_HER2_breast_CID3586 | 4.579193 | 1 | 1 |\n",
       "| GSE176078_HER2_CID3586_ATTACTCAGACTTTCG | CID3586 |  9537 | 2520 | CID3586_ATTACTCAGACTTTCG | 3.827199 | HER2+ | Myeloid_c10_Macrophage_1_EGR1 | Macrophage | Myeloid | tumour | HER2 Breast Cancer | CID3586 | GSE176078_HER2_breast_CID3586 | 3.827199 | 1 | 1 |\n",
       "| GSE176078_HER2_CID3586_CACTCCAGTTCGCTAA | CID3586 |  9162 | 2323 | CID3586_CACTCCAGTTCGCTAA | 2.619515 | HER2+ | Myeloid_c10_Macrophage_1_EGR1 | Macrophage | Myeloid | tumour | HER2 Breast Cancer | CID3586 | GSE176078_HER2_breast_CID3586 | 2.619515 | 1 | 1 |\n",
       "\n"
      ],
      "text/plain": [
       "                                        orig.ident nCount_RNA nFeature_RNA\n",
       "GSE176078_HER2_CID3586_AACCATGCAGGTCGTC CID3586     6925      1897        \n",
       "GSE176078_HER2_CID3586_AACTTTCGTGACCAAG CID3586     8552      2318        \n",
       "GSE176078_HER2_CID3586_AAGGTTCAGTCCTCCT CID3586     9355      2382        \n",
       "GSE176078_HER2_CID3586_ACTATCTGTCTAAAGA CID3586    16706      2903        \n",
       "GSE176078_HER2_CID3586_ATTACTCAGACTTTCG CID3586     9537      2520        \n",
       "GSE176078_HER2_CID3586_CACTCCAGTTCGCTAA CID3586     9162      2323        \n",
       "                                        X                        percent.mito\n",
       "GSE176078_HER2_CID3586_AACCATGCAGGTCGTC CID3586_AACCATGCAGGTCGTC 2.194946    \n",
       "GSE176078_HER2_CID3586_AACTTTCGTGACCAAG CID3586_AACTTTCGTGACCAAG 2.958372    \n",
       "GSE176078_HER2_CID3586_AAGGTTCAGTCCTCCT CID3586_AAGGTTCAGTCCTCCT 2.501336    \n",
       "GSE176078_HER2_CID3586_ACTATCTGTCTAAAGA CID3586_ACTATCTGTCTAAAGA 4.579193    \n",
       "GSE176078_HER2_CID3586_ATTACTCAGACTTTCG CID3586_ATTACTCAGACTTTCG 3.827199    \n",
       "GSE176078_HER2_CID3586_CACTCCAGTTCGCTAA CID3586_CACTCCAGTTCGCTAA 2.619515    \n",
       "                                        subtype celltype_subset              \n",
       "GSE176078_HER2_CID3586_AACCATGCAGGTCGTC HER2+   Myeloid_c10_Macrophage_1_EGR1\n",
       "GSE176078_HER2_CID3586_AACTTTCGTGACCAAG HER2+   Myeloid_c10_Macrophage_1_EGR1\n",
       "GSE176078_HER2_CID3586_AAGGTTCAGTCCTCCT HER2+   Myeloid_c10_Macrophage_1_EGR1\n",
       "GSE176078_HER2_CID3586_ACTATCTGTCTAAAGA HER2+   Myeloid_c10_Macrophage_1_EGR1\n",
       "GSE176078_HER2_CID3586_ATTACTCAGACTTTCG HER2+   Myeloid_c10_Macrophage_1_EGR1\n",
       "GSE176078_HER2_CID3586_CACTCCAGTTCGCTAA HER2+   Myeloid_c10_Macrophage_1_EGR1\n",
       "                                        celltype_minor celltype_major\n",
       "GSE176078_HER2_CID3586_AACCATGCAGGTCGTC Macrophage     Myeloid       \n",
       "GSE176078_HER2_CID3586_AACTTTCGTGACCAAG Macrophage     Myeloid       \n",
       "GSE176078_HER2_CID3586_AAGGTTCAGTCCTCCT Macrophage     Myeloid       \n",
       "GSE176078_HER2_CID3586_ACTATCTGTCTAAAGA Macrophage     Myeloid       \n",
       "GSE176078_HER2_CID3586_ATTACTCAGACTTTCG Macrophage     Myeloid       \n",
       "GSE176078_HER2_CID3586_CACTCCAGTTCGCTAA Macrophage     Myeloid       \n",
       "                                        sample_type cancer_type       \n",
       "GSE176078_HER2_CID3586_AACCATGCAGGTCGTC tumour      HER2 Breast Cancer\n",
       "GSE176078_HER2_CID3586_AACTTTCGTGACCAAG tumour      HER2 Breast Cancer\n",
       "GSE176078_HER2_CID3586_AAGGTTCAGTCCTCCT tumour      HER2 Breast Cancer\n",
       "GSE176078_HER2_CID3586_ACTATCTGTCTAAAGA tumour      HER2 Breast Cancer\n",
       "GSE176078_HER2_CID3586_ATTACTCAGACTTTCG tumour      HER2 Breast Cancer\n",
       "GSE176078_HER2_CID3586_CACTCCAGTTCGCTAA tumour      HER2 Breast Cancer\n",
       "                                        patient_id\n",
       "GSE176078_HER2_CID3586_AACCATGCAGGTCGTC CID3586   \n",
       "GSE176078_HER2_CID3586_AACTTTCGTGACCAAG CID3586   \n",
       "GSE176078_HER2_CID3586_AAGGTTCAGTCCTCCT CID3586   \n",
       "GSE176078_HER2_CID3586_ACTATCTGTCTAAAGA CID3586   \n",
       "GSE176078_HER2_CID3586_ATTACTCAGACTTTCG CID3586   \n",
       "GSE176078_HER2_CID3586_CACTCCAGTTCGCTAA CID3586   \n",
       "                                        sample_id                    \n",
       "GSE176078_HER2_CID3586_AACCATGCAGGTCGTC GSE176078_HER2_breast_CID3586\n",
       "GSE176078_HER2_CID3586_AACTTTCGTGACCAAG GSE176078_HER2_breast_CID3586\n",
       "GSE176078_HER2_CID3586_AAGGTTCAGTCCTCCT GSE176078_HER2_breast_CID3586\n",
       "GSE176078_HER2_CID3586_ACTATCTGTCTAAAGA GSE176078_HER2_breast_CID3586\n",
       "GSE176078_HER2_CID3586_ATTACTCAGACTTTCG GSE176078_HER2_breast_CID3586\n",
       "GSE176078_HER2_CID3586_CACTCCAGTTCGCTAA GSE176078_HER2_breast_CID3586\n",
       "                                        percent.mt RNA_snn_res.0.2\n",
       "GSE176078_HER2_CID3586_AACCATGCAGGTCGTC 2.194946   1              \n",
       "GSE176078_HER2_CID3586_AACTTTCGTGACCAAG 2.958372   1              \n",
       "GSE176078_HER2_CID3586_AAGGTTCAGTCCTCCT 2.501336   1              \n",
       "GSE176078_HER2_CID3586_ACTATCTGTCTAAAGA 4.579193   1              \n",
       "GSE176078_HER2_CID3586_ATTACTCAGACTTTCG 3.827199   1              \n",
       "GSE176078_HER2_CID3586_CACTCCAGTTCGCTAA 2.619515   1              \n",
       "                                        seurat_clusters\n",
       "GSE176078_HER2_CID3586_AACCATGCAGGTCGTC 1              \n",
       "GSE176078_HER2_CID3586_AACTTTCGTGACCAAG 1              \n",
       "GSE176078_HER2_CID3586_AAGGTTCAGTCCTCCT 1              \n",
       "GSE176078_HER2_CID3586_ACTATCTGTCTAAAGA 1              \n",
       "GSE176078_HER2_CID3586_ATTACTCAGACTTTCG 1              \n",
       "GSE176078_HER2_CID3586_CACTCCAGTTCGCTAA 1              "
      ]
     },
     "metadata": {},
     "output_type": "display_data"
    }
   ],
   "source": [
    "BRE\n",
    "BRE@project.name\n",
    "head(BRE@meta.data)"
   ]
  },
  {
   "cell_type": "code",
   "execution_count": 6,
   "metadata": {
    "vscode": {
     "languageId": "r"
    }
   },
   "outputs": [
    {
     "data": {
      "text/plain": [
       "\n",
       "tumour \n",
       "  9374 "
      ]
     },
     "metadata": {},
     "output_type": "display_data"
    },
    {
     "data": {
      "text/plain": [
       "\n",
       "  ER Breast Cancer HER2 Breast Cancer               TNBC \n",
       "              1691               1341               6342 "
      ]
     },
     "metadata": {},
     "output_type": "display_data"
    },
    {
     "data": {
      "text/plain": [
       "\n",
       " CID3586  CID3838  CID3921  CID3941  CID3946  CID3948  CID3963  CID4040 \n",
       "     143      445      376       36      157      116      476       47 \n",
       " CID4066  CID4067 CID4290A  CID4398 CID44041  CID4461  CID4463  CID4465 \n",
       "     213      263      339      198      103       44      101      177 \n",
       " CID4471  CID4495 CID44971 CID44991  CID4513  CID4515 CID45171  CID4523 \n",
       "     250      889      608      199     2845      529      164      359 \n",
       "CID4530N  CID4535 \n",
       "      87      210 "
      ]
     },
     "metadata": {},
     "output_type": "display_data"
    },
    {
     "data": {
      "text/plain": [
       "\n",
       "   GSE176078_ER_breast_CID3941    GSE176078_ER_breast_CID3948 \n",
       "                            36                            116 \n",
       "   GSE176078_ER_breast_CID4040    GSE176078_ER_breast_CID4067 \n",
       "                            47                            263 \n",
       "  GSE176078_ER_breast_CID4290A    GSE176078_ER_breast_CID4398 \n",
       "                           339                            198 \n",
       "   GSE176078_ER_breast_CID4461    GSE176078_ER_breast_CID4463 \n",
       "                            44                            101 \n",
       "   GSE176078_ER_breast_CID4471   GSE176078_ER_breast_CID4530N \n",
       "                           250                             87 \n",
       "   GSE176078_ER_breast_CID4535  GSE176078_HER2_breast_CID3586 \n",
       "                           210                            143 \n",
       " GSE176078_HER2_breast_CID3838  GSE176078_HER2_breast_CID3921 \n",
       "                           445                            376 \n",
       " GSE176078_HER2_breast_CID4066 GSE176078_HER2_breast_CID45171 \n",
       "                           213                            164 \n",
       "        GSE176078_TNBC_CID3946         GSE176078_TNBC_CID3963 \n",
       "                           157                            476 \n",
       "       GSE176078_TNBC_CID44041         GSE176078_TNBC_CID4465 \n",
       "                           103                            177 \n",
       "        GSE176078_TNBC_CID4495        GSE176078_TNBC_CID44971 \n",
       "                           889                            608 \n",
       "       GSE176078_TNBC_CID44991         GSE176078_TNBC_CID4513 \n",
       "                           199                           2845 \n",
       "        GSE176078_TNBC_CID4515         GSE176078_TNBC_CID4523 \n",
       "                           529                            359 "
      ]
     },
     "metadata": {},
     "output_type": "display_data"
    }
   ],
   "source": [
    "table(BRE$sample_type)\n",
    "table(BRE$cancer_type)\n",
    "table(BRE$patient_id)\n",
    "table(BRE$sample_id)"
   ]
  },
  {
   "cell_type": "code",
   "execution_count": 9,
   "metadata": {
    "vscode": {
     "languageId": "r"
    }
   },
   "outputs": [],
   "source": [
    "#set site metadata\n",
    "BRE@meta.data$site <- \"breast\"\n",
    "\n",
    "#set sample_type_major\n",
    "BRE@meta.data$sample_type_major <- \"primary tumour\""
   ]
  },
  {
   "cell_type": "code",
   "execution_count": 11,
   "metadata": {
    "vscode": {
     "languageId": "r"
    }
   },
   "outputs": [],
   "source": [
    "#set cancer_subtype metadata\n",
    "BRE@meta.data$cancer_subtype <- BRE@meta.data$cancer_type"
   ]
  },
  {
   "cell_type": "code",
   "execution_count": 13,
   "metadata": {
    "vscode": {
     "languageId": "r"
    }
   },
   "outputs": [],
   "source": [
    "#set integration_id metadata\n",
    "BRE@meta.data$integration_id <- BRE@meta.data$sample_id"
   ]
  },
  {
   "cell_type": "code",
   "execution_count": 14,
   "metadata": {
    "vscode": {
     "languageId": "r"
    }
   },
   "outputs": [
    {
     "data": {
      "text/plain": [
       "An object of class Seurat \n",
       "29733 features across 9374 samples within 1 assay \n",
       "Active assay: RNA (29733 features, 2000 variable features)\n",
       " 53 layers present: counts.1, counts.2, counts.3, counts.4, counts.5, counts.6, counts.7, counts.8, counts.9, counts.10, counts.11, counts.12, counts.13, counts.14, counts.15, counts.16, counts.17, counts.18, counts.19, counts.20, counts.21, counts.22, counts.23, counts.24, counts.25, counts.26, data.1, data.2, data.3, data.4, data.5, data.6, data.7, data.8, data.9, data.10, data.11, data.12, data.13, data.14, data.15, data.16, data.17, data.18, data.19, data.20, data.21, data.22, data.23, data.24, data.25, data.26, scale.data\n",
       " 2 dimensional reductions calculated: pca, umap"
      ]
     },
     "metadata": {},
     "output_type": "display_data"
    },
    {
     "data": {
      "text/html": [
       "'GSE176078'"
      ],
      "text/latex": [
       "'GSE176078'"
      ],
      "text/markdown": [
       "'GSE176078'"
      ],
      "text/plain": [
       "[1] \"GSE176078\""
      ]
     },
     "metadata": {},
     "output_type": "display_data"
    },
    {
     "data": {
      "text/html": [
       "<table class=\"dataframe\">\n",
       "<caption>A data.frame: 6 × 20</caption>\n",
       "<thead>\n",
       "\t<tr><th></th><th scope=col>orig.ident</th><th scope=col>nCount_RNA</th><th scope=col>nFeature_RNA</th><th scope=col>X</th><th scope=col>percent.mito</th><th scope=col>subtype</th><th scope=col>celltype_subset</th><th scope=col>celltype_minor</th><th scope=col>celltype_major</th><th scope=col>sample_type</th><th scope=col>cancer_type</th><th scope=col>patient_id</th><th scope=col>sample_id</th><th scope=col>percent.mt</th><th scope=col>RNA_snn_res.0.2</th><th scope=col>seurat_clusters</th><th scope=col>site</th><th scope=col>sample_type_major</th><th scope=col>cancer_subtype</th><th scope=col>integration_id</th></tr>\n",
       "\t<tr><th></th><th scope=col>&lt;chr&gt;</th><th scope=col>&lt;dbl&gt;</th><th scope=col>&lt;int&gt;</th><th scope=col>&lt;chr&gt;</th><th scope=col>&lt;dbl&gt;</th><th scope=col>&lt;chr&gt;</th><th scope=col>&lt;chr&gt;</th><th scope=col>&lt;chr&gt;</th><th scope=col>&lt;chr&gt;</th><th scope=col>&lt;chr&gt;</th><th scope=col>&lt;chr&gt;</th><th scope=col>&lt;chr&gt;</th><th scope=col>&lt;chr&gt;</th><th scope=col>&lt;dbl&gt;</th><th scope=col>&lt;fct&gt;</th><th scope=col>&lt;fct&gt;</th><th scope=col>&lt;chr&gt;</th><th scope=col>&lt;chr&gt;</th><th scope=col>&lt;chr&gt;</th><th scope=col>&lt;chr&gt;</th></tr>\n",
       "</thead>\n",
       "<tbody>\n",
       "\t<tr><th scope=row>GSE176078_HER2_CID3586_AACCATGCAGGTCGTC</th><td>CID3586</td><td> 6925</td><td>1897</td><td>CID3586_AACCATGCAGGTCGTC</td><td>2.194946</td><td>HER2+</td><td>Myeloid_c10_Macrophage_1_EGR1</td><td>Macrophage</td><td>Myeloid</td><td>tumour</td><td>HER2 Breast Cancer</td><td>CID3586</td><td>GSE176078_HER2_breast_CID3586</td><td>2.194946</td><td>1</td><td>1</td><td>breast</td><td>primary tumour</td><td>HER2 Breast Cancer</td><td>GSE176078_HER2_breast_CID3586</td></tr>\n",
       "\t<tr><th scope=row>GSE176078_HER2_CID3586_AACTTTCGTGACCAAG</th><td>CID3586</td><td> 8552</td><td>2318</td><td>CID3586_AACTTTCGTGACCAAG</td><td>2.958372</td><td>HER2+</td><td>Myeloid_c10_Macrophage_1_EGR1</td><td>Macrophage</td><td>Myeloid</td><td>tumour</td><td>HER2 Breast Cancer</td><td>CID3586</td><td>GSE176078_HER2_breast_CID3586</td><td>2.958372</td><td>1</td><td>1</td><td>breast</td><td>primary tumour</td><td>HER2 Breast Cancer</td><td>GSE176078_HER2_breast_CID3586</td></tr>\n",
       "\t<tr><th scope=row>GSE176078_HER2_CID3586_AAGGTTCAGTCCTCCT</th><td>CID3586</td><td> 9355</td><td>2382</td><td>CID3586_AAGGTTCAGTCCTCCT</td><td>2.501336</td><td>HER2+</td><td>Myeloid_c10_Macrophage_1_EGR1</td><td>Macrophage</td><td>Myeloid</td><td>tumour</td><td>HER2 Breast Cancer</td><td>CID3586</td><td>GSE176078_HER2_breast_CID3586</td><td>2.501336</td><td>1</td><td>1</td><td>breast</td><td>primary tumour</td><td>HER2 Breast Cancer</td><td>GSE176078_HER2_breast_CID3586</td></tr>\n",
       "\t<tr><th scope=row>GSE176078_HER2_CID3586_ACTATCTGTCTAAAGA</th><td>CID3586</td><td>16706</td><td>2903</td><td>CID3586_ACTATCTGTCTAAAGA</td><td>4.579193</td><td>HER2+</td><td>Myeloid_c10_Macrophage_1_EGR1</td><td>Macrophage</td><td>Myeloid</td><td>tumour</td><td>HER2 Breast Cancer</td><td>CID3586</td><td>GSE176078_HER2_breast_CID3586</td><td>4.579193</td><td>1</td><td>1</td><td>breast</td><td>primary tumour</td><td>HER2 Breast Cancer</td><td>GSE176078_HER2_breast_CID3586</td></tr>\n",
       "\t<tr><th scope=row>GSE176078_HER2_CID3586_ATTACTCAGACTTTCG</th><td>CID3586</td><td> 9537</td><td>2520</td><td>CID3586_ATTACTCAGACTTTCG</td><td>3.827199</td><td>HER2+</td><td>Myeloid_c10_Macrophage_1_EGR1</td><td>Macrophage</td><td>Myeloid</td><td>tumour</td><td>HER2 Breast Cancer</td><td>CID3586</td><td>GSE176078_HER2_breast_CID3586</td><td>3.827199</td><td>1</td><td>1</td><td>breast</td><td>primary tumour</td><td>HER2 Breast Cancer</td><td>GSE176078_HER2_breast_CID3586</td></tr>\n",
       "\t<tr><th scope=row>GSE176078_HER2_CID3586_CACTCCAGTTCGCTAA</th><td>CID3586</td><td> 9162</td><td>2323</td><td>CID3586_CACTCCAGTTCGCTAA</td><td>2.619515</td><td>HER2+</td><td>Myeloid_c10_Macrophage_1_EGR1</td><td>Macrophage</td><td>Myeloid</td><td>tumour</td><td>HER2 Breast Cancer</td><td>CID3586</td><td>GSE176078_HER2_breast_CID3586</td><td>2.619515</td><td>1</td><td>1</td><td>breast</td><td>primary tumour</td><td>HER2 Breast Cancer</td><td>GSE176078_HER2_breast_CID3586</td></tr>\n",
       "</tbody>\n",
       "</table>\n"
      ],
      "text/latex": [
       "A data.frame: 6 × 20\n",
       "\\begin{tabular}{r|llllllllllllllllllll}\n",
       "  & orig.ident & nCount\\_RNA & nFeature\\_RNA & X & percent.mito & subtype & celltype\\_subset & celltype\\_minor & celltype\\_major & sample\\_type & cancer\\_type & patient\\_id & sample\\_id & percent.mt & RNA\\_snn\\_res.0.2 & seurat\\_clusters & site & sample\\_type\\_major & cancer\\_subtype & integration\\_id\\\\\n",
       "  & <chr> & <dbl> & <int> & <chr> & <dbl> & <chr> & <chr> & <chr> & <chr> & <chr> & <chr> & <chr> & <chr> & <dbl> & <fct> & <fct> & <chr> & <chr> & <chr> & <chr>\\\\\n",
       "\\hline\n",
       "\tGSE176078\\_HER2\\_CID3586\\_AACCATGCAGGTCGTC & CID3586 &  6925 & 1897 & CID3586\\_AACCATGCAGGTCGTC & 2.194946 & HER2+ & Myeloid\\_c10\\_Macrophage\\_1\\_EGR1 & Macrophage & Myeloid & tumour & HER2 Breast Cancer & CID3586 & GSE176078\\_HER2\\_breast\\_CID3586 & 2.194946 & 1 & 1 & breast & primary tumour & HER2 Breast Cancer & GSE176078\\_HER2\\_breast\\_CID3586\\\\\n",
       "\tGSE176078\\_HER2\\_CID3586\\_AACTTTCGTGACCAAG & CID3586 &  8552 & 2318 & CID3586\\_AACTTTCGTGACCAAG & 2.958372 & HER2+ & Myeloid\\_c10\\_Macrophage\\_1\\_EGR1 & Macrophage & Myeloid & tumour & HER2 Breast Cancer & CID3586 & GSE176078\\_HER2\\_breast\\_CID3586 & 2.958372 & 1 & 1 & breast & primary tumour & HER2 Breast Cancer & GSE176078\\_HER2\\_breast\\_CID3586\\\\\n",
       "\tGSE176078\\_HER2\\_CID3586\\_AAGGTTCAGTCCTCCT & CID3586 &  9355 & 2382 & CID3586\\_AAGGTTCAGTCCTCCT & 2.501336 & HER2+ & Myeloid\\_c10\\_Macrophage\\_1\\_EGR1 & Macrophage & Myeloid & tumour & HER2 Breast Cancer & CID3586 & GSE176078\\_HER2\\_breast\\_CID3586 & 2.501336 & 1 & 1 & breast & primary tumour & HER2 Breast Cancer & GSE176078\\_HER2\\_breast\\_CID3586\\\\\n",
       "\tGSE176078\\_HER2\\_CID3586\\_ACTATCTGTCTAAAGA & CID3586 & 16706 & 2903 & CID3586\\_ACTATCTGTCTAAAGA & 4.579193 & HER2+ & Myeloid\\_c10\\_Macrophage\\_1\\_EGR1 & Macrophage & Myeloid & tumour & HER2 Breast Cancer & CID3586 & GSE176078\\_HER2\\_breast\\_CID3586 & 4.579193 & 1 & 1 & breast & primary tumour & HER2 Breast Cancer & GSE176078\\_HER2\\_breast\\_CID3586\\\\\n",
       "\tGSE176078\\_HER2\\_CID3586\\_ATTACTCAGACTTTCG & CID3586 &  9537 & 2520 & CID3586\\_ATTACTCAGACTTTCG & 3.827199 & HER2+ & Myeloid\\_c10\\_Macrophage\\_1\\_EGR1 & Macrophage & Myeloid & tumour & HER2 Breast Cancer & CID3586 & GSE176078\\_HER2\\_breast\\_CID3586 & 3.827199 & 1 & 1 & breast & primary tumour & HER2 Breast Cancer & GSE176078\\_HER2\\_breast\\_CID3586\\\\\n",
       "\tGSE176078\\_HER2\\_CID3586\\_CACTCCAGTTCGCTAA & CID3586 &  9162 & 2323 & CID3586\\_CACTCCAGTTCGCTAA & 2.619515 & HER2+ & Myeloid\\_c10\\_Macrophage\\_1\\_EGR1 & Macrophage & Myeloid & tumour & HER2 Breast Cancer & CID3586 & GSE176078\\_HER2\\_breast\\_CID3586 & 2.619515 & 1 & 1 & breast & primary tumour & HER2 Breast Cancer & GSE176078\\_HER2\\_breast\\_CID3586\\\\\n",
       "\\end{tabular}\n"
      ],
      "text/markdown": [
       "\n",
       "A data.frame: 6 × 20\n",
       "\n",
       "| <!--/--> | orig.ident &lt;chr&gt; | nCount_RNA &lt;dbl&gt; | nFeature_RNA &lt;int&gt; | X &lt;chr&gt; | percent.mito &lt;dbl&gt; | subtype &lt;chr&gt; | celltype_subset &lt;chr&gt; | celltype_minor &lt;chr&gt; | celltype_major &lt;chr&gt; | sample_type &lt;chr&gt; | cancer_type &lt;chr&gt; | patient_id &lt;chr&gt; | sample_id &lt;chr&gt; | percent.mt &lt;dbl&gt; | RNA_snn_res.0.2 &lt;fct&gt; | seurat_clusters &lt;fct&gt; | site &lt;chr&gt; | sample_type_major &lt;chr&gt; | cancer_subtype &lt;chr&gt; | integration_id &lt;chr&gt; |\n",
       "|---|---|---|---|---|---|---|---|---|---|---|---|---|---|---|---|---|---|---|---|---|\n",
       "| GSE176078_HER2_CID3586_AACCATGCAGGTCGTC | CID3586 |  6925 | 1897 | CID3586_AACCATGCAGGTCGTC | 2.194946 | HER2+ | Myeloid_c10_Macrophage_1_EGR1 | Macrophage | Myeloid | tumour | HER2 Breast Cancer | CID3586 | GSE176078_HER2_breast_CID3586 | 2.194946 | 1 | 1 | breast | primary tumour | HER2 Breast Cancer | GSE176078_HER2_breast_CID3586 |\n",
       "| GSE176078_HER2_CID3586_AACTTTCGTGACCAAG | CID3586 |  8552 | 2318 | CID3586_AACTTTCGTGACCAAG | 2.958372 | HER2+ | Myeloid_c10_Macrophage_1_EGR1 | Macrophage | Myeloid | tumour | HER2 Breast Cancer | CID3586 | GSE176078_HER2_breast_CID3586 | 2.958372 | 1 | 1 | breast | primary tumour | HER2 Breast Cancer | GSE176078_HER2_breast_CID3586 |\n",
       "| GSE176078_HER2_CID3586_AAGGTTCAGTCCTCCT | CID3586 |  9355 | 2382 | CID3586_AAGGTTCAGTCCTCCT | 2.501336 | HER2+ | Myeloid_c10_Macrophage_1_EGR1 | Macrophage | Myeloid | tumour | HER2 Breast Cancer | CID3586 | GSE176078_HER2_breast_CID3586 | 2.501336 | 1 | 1 | breast | primary tumour | HER2 Breast Cancer | GSE176078_HER2_breast_CID3586 |\n",
       "| GSE176078_HER2_CID3586_ACTATCTGTCTAAAGA | CID3586 | 16706 | 2903 | CID3586_ACTATCTGTCTAAAGA | 4.579193 | HER2+ | Myeloid_c10_Macrophage_1_EGR1 | Macrophage | Myeloid | tumour | HER2 Breast Cancer | CID3586 | GSE176078_HER2_breast_CID3586 | 4.579193 | 1 | 1 | breast | primary tumour | HER2 Breast Cancer | GSE176078_HER2_breast_CID3586 |\n",
       "| GSE176078_HER2_CID3586_ATTACTCAGACTTTCG | CID3586 |  9537 | 2520 | CID3586_ATTACTCAGACTTTCG | 3.827199 | HER2+ | Myeloid_c10_Macrophage_1_EGR1 | Macrophage | Myeloid | tumour | HER2 Breast Cancer | CID3586 | GSE176078_HER2_breast_CID3586 | 3.827199 | 1 | 1 | breast | primary tumour | HER2 Breast Cancer | GSE176078_HER2_breast_CID3586 |\n",
       "| GSE176078_HER2_CID3586_CACTCCAGTTCGCTAA | CID3586 |  9162 | 2323 | CID3586_CACTCCAGTTCGCTAA | 2.619515 | HER2+ | Myeloid_c10_Macrophage_1_EGR1 | Macrophage | Myeloid | tumour | HER2 Breast Cancer | CID3586 | GSE176078_HER2_breast_CID3586 | 2.619515 | 1 | 1 | breast | primary tumour | HER2 Breast Cancer | GSE176078_HER2_breast_CID3586 |\n",
       "\n"
      ],
      "text/plain": [
       "                                        orig.ident nCount_RNA nFeature_RNA\n",
       "GSE176078_HER2_CID3586_AACCATGCAGGTCGTC CID3586     6925      1897        \n",
       "GSE176078_HER2_CID3586_AACTTTCGTGACCAAG CID3586     8552      2318        \n",
       "GSE176078_HER2_CID3586_AAGGTTCAGTCCTCCT CID3586     9355      2382        \n",
       "GSE176078_HER2_CID3586_ACTATCTGTCTAAAGA CID3586    16706      2903        \n",
       "GSE176078_HER2_CID3586_ATTACTCAGACTTTCG CID3586     9537      2520        \n",
       "GSE176078_HER2_CID3586_CACTCCAGTTCGCTAA CID3586     9162      2323        \n",
       "                                        X                        percent.mito\n",
       "GSE176078_HER2_CID3586_AACCATGCAGGTCGTC CID3586_AACCATGCAGGTCGTC 2.194946    \n",
       "GSE176078_HER2_CID3586_AACTTTCGTGACCAAG CID3586_AACTTTCGTGACCAAG 2.958372    \n",
       "GSE176078_HER2_CID3586_AAGGTTCAGTCCTCCT CID3586_AAGGTTCAGTCCTCCT 2.501336    \n",
       "GSE176078_HER2_CID3586_ACTATCTGTCTAAAGA CID3586_ACTATCTGTCTAAAGA 4.579193    \n",
       "GSE176078_HER2_CID3586_ATTACTCAGACTTTCG CID3586_ATTACTCAGACTTTCG 3.827199    \n",
       "GSE176078_HER2_CID3586_CACTCCAGTTCGCTAA CID3586_CACTCCAGTTCGCTAA 2.619515    \n",
       "                                        subtype celltype_subset              \n",
       "GSE176078_HER2_CID3586_AACCATGCAGGTCGTC HER2+   Myeloid_c10_Macrophage_1_EGR1\n",
       "GSE176078_HER2_CID3586_AACTTTCGTGACCAAG HER2+   Myeloid_c10_Macrophage_1_EGR1\n",
       "GSE176078_HER2_CID3586_AAGGTTCAGTCCTCCT HER2+   Myeloid_c10_Macrophage_1_EGR1\n",
       "GSE176078_HER2_CID3586_ACTATCTGTCTAAAGA HER2+   Myeloid_c10_Macrophage_1_EGR1\n",
       "GSE176078_HER2_CID3586_ATTACTCAGACTTTCG HER2+   Myeloid_c10_Macrophage_1_EGR1\n",
       "GSE176078_HER2_CID3586_CACTCCAGTTCGCTAA HER2+   Myeloid_c10_Macrophage_1_EGR1\n",
       "                                        celltype_minor celltype_major\n",
       "GSE176078_HER2_CID3586_AACCATGCAGGTCGTC Macrophage     Myeloid       \n",
       "GSE176078_HER2_CID3586_AACTTTCGTGACCAAG Macrophage     Myeloid       \n",
       "GSE176078_HER2_CID3586_AAGGTTCAGTCCTCCT Macrophage     Myeloid       \n",
       "GSE176078_HER2_CID3586_ACTATCTGTCTAAAGA Macrophage     Myeloid       \n",
       "GSE176078_HER2_CID3586_ATTACTCAGACTTTCG Macrophage     Myeloid       \n",
       "GSE176078_HER2_CID3586_CACTCCAGTTCGCTAA Macrophage     Myeloid       \n",
       "                                        sample_type cancer_type       \n",
       "GSE176078_HER2_CID3586_AACCATGCAGGTCGTC tumour      HER2 Breast Cancer\n",
       "GSE176078_HER2_CID3586_AACTTTCGTGACCAAG tumour      HER2 Breast Cancer\n",
       "GSE176078_HER2_CID3586_AAGGTTCAGTCCTCCT tumour      HER2 Breast Cancer\n",
       "GSE176078_HER2_CID3586_ACTATCTGTCTAAAGA tumour      HER2 Breast Cancer\n",
       "GSE176078_HER2_CID3586_ATTACTCAGACTTTCG tumour      HER2 Breast Cancer\n",
       "GSE176078_HER2_CID3586_CACTCCAGTTCGCTAA tumour      HER2 Breast Cancer\n",
       "                                        patient_id\n",
       "GSE176078_HER2_CID3586_AACCATGCAGGTCGTC CID3586   \n",
       "GSE176078_HER2_CID3586_AACTTTCGTGACCAAG CID3586   \n",
       "GSE176078_HER2_CID3586_AAGGTTCAGTCCTCCT CID3586   \n",
       "GSE176078_HER2_CID3586_ACTATCTGTCTAAAGA CID3586   \n",
       "GSE176078_HER2_CID3586_ATTACTCAGACTTTCG CID3586   \n",
       "GSE176078_HER2_CID3586_CACTCCAGTTCGCTAA CID3586   \n",
       "                                        sample_id                    \n",
       "GSE176078_HER2_CID3586_AACCATGCAGGTCGTC GSE176078_HER2_breast_CID3586\n",
       "GSE176078_HER2_CID3586_AACTTTCGTGACCAAG GSE176078_HER2_breast_CID3586\n",
       "GSE176078_HER2_CID3586_AAGGTTCAGTCCTCCT GSE176078_HER2_breast_CID3586\n",
       "GSE176078_HER2_CID3586_ACTATCTGTCTAAAGA GSE176078_HER2_breast_CID3586\n",
       "GSE176078_HER2_CID3586_ATTACTCAGACTTTCG GSE176078_HER2_breast_CID3586\n",
       "GSE176078_HER2_CID3586_CACTCCAGTTCGCTAA GSE176078_HER2_breast_CID3586\n",
       "                                        percent.mt RNA_snn_res.0.2\n",
       "GSE176078_HER2_CID3586_AACCATGCAGGTCGTC 2.194946   1              \n",
       "GSE176078_HER2_CID3586_AACTTTCGTGACCAAG 2.958372   1              \n",
       "GSE176078_HER2_CID3586_AAGGTTCAGTCCTCCT 2.501336   1              \n",
       "GSE176078_HER2_CID3586_ACTATCTGTCTAAAGA 4.579193   1              \n",
       "GSE176078_HER2_CID3586_ATTACTCAGACTTTCG 3.827199   1              \n",
       "GSE176078_HER2_CID3586_CACTCCAGTTCGCTAA 2.619515   1              \n",
       "                                        seurat_clusters site  \n",
       "GSE176078_HER2_CID3586_AACCATGCAGGTCGTC 1               breast\n",
       "GSE176078_HER2_CID3586_AACTTTCGTGACCAAG 1               breast\n",
       "GSE176078_HER2_CID3586_AAGGTTCAGTCCTCCT 1               breast\n",
       "GSE176078_HER2_CID3586_ACTATCTGTCTAAAGA 1               breast\n",
       "GSE176078_HER2_CID3586_ATTACTCAGACTTTCG 1               breast\n",
       "GSE176078_HER2_CID3586_CACTCCAGTTCGCTAA 1               breast\n",
       "                                        sample_type_major cancer_subtype    \n",
       "GSE176078_HER2_CID3586_AACCATGCAGGTCGTC primary tumour    HER2 Breast Cancer\n",
       "GSE176078_HER2_CID3586_AACTTTCGTGACCAAG primary tumour    HER2 Breast Cancer\n",
       "GSE176078_HER2_CID3586_AAGGTTCAGTCCTCCT primary tumour    HER2 Breast Cancer\n",
       "GSE176078_HER2_CID3586_ACTATCTGTCTAAAGA primary tumour    HER2 Breast Cancer\n",
       "GSE176078_HER2_CID3586_ATTACTCAGACTTTCG primary tumour    HER2 Breast Cancer\n",
       "GSE176078_HER2_CID3586_CACTCCAGTTCGCTAA primary tumour    HER2 Breast Cancer\n",
       "                                        integration_id               \n",
       "GSE176078_HER2_CID3586_AACCATGCAGGTCGTC GSE176078_HER2_breast_CID3586\n",
       "GSE176078_HER2_CID3586_AACTTTCGTGACCAAG GSE176078_HER2_breast_CID3586\n",
       "GSE176078_HER2_CID3586_AAGGTTCAGTCCTCCT GSE176078_HER2_breast_CID3586\n",
       "GSE176078_HER2_CID3586_ACTATCTGTCTAAAGA GSE176078_HER2_breast_CID3586\n",
       "GSE176078_HER2_CID3586_ATTACTCAGACTTTCG GSE176078_HER2_breast_CID3586\n",
       "GSE176078_HER2_CID3586_CACTCCAGTTCGCTAA GSE176078_HER2_breast_CID3586"
      ]
     },
     "metadata": {},
     "output_type": "display_data"
    }
   ],
   "source": [
    "BRE\n",
    "BRE@project.name\n",
    "head(BRE@meta.data)"
   ]
  },
  {
   "cell_type": "code",
   "execution_count": 17,
   "metadata": {
    "vscode": {
     "languageId": "r"
    }
   },
   "outputs": [
    {
     "data": {
      "text/plain": [
       "\n",
       "   GSE176078_ER_breast_CID3941    GSE176078_ER_breast_CID3948 \n",
       "                            36                            116 \n",
       "   GSE176078_ER_breast_CID4040    GSE176078_ER_breast_CID4067 \n",
       "                            47                            263 \n",
       "  GSE176078_ER_breast_CID4290A    GSE176078_ER_breast_CID4398 \n",
       "                           339                            198 \n",
       "   GSE176078_ER_breast_CID4461    GSE176078_ER_breast_CID4463 \n",
       "                            44                            101 \n",
       "   GSE176078_ER_breast_CID4471   GSE176078_ER_breast_CID4530N \n",
       "                           250                             87 \n",
       "   GSE176078_ER_breast_CID4535  GSE176078_HER2_breast_CID3586 \n",
       "                           210                            143 \n",
       " GSE176078_HER2_breast_CID3838  GSE176078_HER2_breast_CID3921 \n",
       "                           445                            376 \n",
       " GSE176078_HER2_breast_CID4066 GSE176078_HER2_breast_CID45171 \n",
       "                           213                            164 \n",
       "        GSE176078_TNBC_CID3946         GSE176078_TNBC_CID3963 \n",
       "                           157                            476 \n",
       "       GSE176078_TNBC_CID44041         GSE176078_TNBC_CID4465 \n",
       "                           103                            177 \n",
       "        GSE176078_TNBC_CID4495        GSE176078_TNBC_CID44971 \n",
       "                           889                            608 \n",
       "       GSE176078_TNBC_CID44991         GSE176078_TNBC_CID4513 \n",
       "                           199                           2845 \n",
       "        GSE176078_TNBC_CID4515         GSE176078_TNBC_CID4523 \n",
       "                           529                            359 "
      ]
     },
     "metadata": {},
     "output_type": "display_data"
    },
    {
     "data": {
      "text/plain": [
       "\n",
       "   GSE176078_ER_breast_CID3948    GSE176078_ER_breast_CID4067 \n",
       "                           116                            263 \n",
       "  GSE176078_ER_breast_CID4290A    GSE176078_ER_breast_CID4398 \n",
       "                           339                            198 \n",
       "   GSE176078_ER_breast_CID4463    GSE176078_ER_breast_CID4471 \n",
       "                           101                            250 \n",
       "   GSE176078_ER_breast_CID4535  GSE176078_HER2_breast_CID3586 \n",
       "                           210                            143 \n",
       " GSE176078_HER2_breast_CID3838  GSE176078_HER2_breast_CID3921 \n",
       "                           445                            376 \n",
       " GSE176078_HER2_breast_CID4066 GSE176078_HER2_breast_CID45171 \n",
       "                           213                            164 \n",
       "        GSE176078_TNBC_CID3946         GSE176078_TNBC_CID3963 \n",
       "                           157                            476 \n",
       "       GSE176078_TNBC_CID44041         GSE176078_TNBC_CID4465 \n",
       "                           103                            177 \n",
       "        GSE176078_TNBC_CID4495        GSE176078_TNBC_CID44971 \n",
       "                           889                            608 \n",
       "       GSE176078_TNBC_CID44991         GSE176078_TNBC_CID4513 \n",
       "                           199                           2845 \n",
       "        GSE176078_TNBC_CID4515         GSE176078_TNBC_CID4523 \n",
       "                           529                            359 "
      ]
     },
     "metadata": {},
     "output_type": "display_data"
    }
   ],
   "source": [
    "#exclude any samples with <100 cells\n",
    "table(BRE$integration_id)\n",
    "#exclude ER_breast_CID3941, ER_breast_CID4040, ER_breast_CID4461, ER_breast_CID4530N\n",
    "BRE <- subset(BRE, !(subset = integration_id %in% c(\"GSE176078_ER_breast_CID3941\",\"GSE176078_ER_breast_CID4040\",\"GSE176078_ER_breast_CID4461\",\"GSE176078_ER_breast_CID4530N\")))\n",
    "table(BRE$integration_id)"
   ]
  },
  {
   "cell_type": "code",
   "execution_count": 18,
   "metadata": {
    "vscode": {
     "languageId": "r"
    }
   },
   "outputs": [
    {
     "data": {
      "text/html": [
       "<style>\n",
       ".list-inline {list-style: none; margin:0; padding: 0}\n",
       ".list-inline>li {display: inline-block}\n",
       ".list-inline>li:not(:last-child)::after {content: \"\\00b7\"; padding: 0 .5ex}\n",
       "</style>\n",
       "<ol class=list-inline><li>'counts.1'</li><li>'counts.2'</li><li>'counts.3'</li><li>'counts.5'</li><li>'counts.6'</li><li>'counts.7'</li><li>'counts.9'</li><li>'counts.10'</li><li>'counts.11'</li><li>'counts.12'</li><li>'counts.14'</li><li>'counts.15'</li><li>'counts.16'</li><li>'counts.17'</li><li>'counts.18'</li><li>'counts.19'</li><li>'counts.20'</li><li>'counts.22'</li><li>'counts.23'</li><li>'counts.24'</li><li>'counts.25'</li><li>'counts.26'</li><li>'data.1'</li><li>'data.2'</li><li>'data.3'</li><li>'data.5'</li><li>'data.6'</li><li>'data.7'</li><li>'data.9'</li><li>'data.10'</li><li>'data.11'</li><li>'data.12'</li><li>'data.14'</li><li>'data.15'</li><li>'data.16'</li><li>'data.17'</li><li>'data.18'</li><li>'data.19'</li><li>'data.20'</li><li>'data.22'</li><li>'data.23'</li><li>'data.24'</li><li>'data.25'</li><li>'data.26'</li><li>'scale.data'</li></ol>\n"
      ],
      "text/latex": [
       "\\begin{enumerate*}\n",
       "\\item 'counts.1'\n",
       "\\item 'counts.2'\n",
       "\\item 'counts.3'\n",
       "\\item 'counts.5'\n",
       "\\item 'counts.6'\n",
       "\\item 'counts.7'\n",
       "\\item 'counts.9'\n",
       "\\item 'counts.10'\n",
       "\\item 'counts.11'\n",
       "\\item 'counts.12'\n",
       "\\item 'counts.14'\n",
       "\\item 'counts.15'\n",
       "\\item 'counts.16'\n",
       "\\item 'counts.17'\n",
       "\\item 'counts.18'\n",
       "\\item 'counts.19'\n",
       "\\item 'counts.20'\n",
       "\\item 'counts.22'\n",
       "\\item 'counts.23'\n",
       "\\item 'counts.24'\n",
       "\\item 'counts.25'\n",
       "\\item 'counts.26'\n",
       "\\item 'data.1'\n",
       "\\item 'data.2'\n",
       "\\item 'data.3'\n",
       "\\item 'data.5'\n",
       "\\item 'data.6'\n",
       "\\item 'data.7'\n",
       "\\item 'data.9'\n",
       "\\item 'data.10'\n",
       "\\item 'data.11'\n",
       "\\item 'data.12'\n",
       "\\item 'data.14'\n",
       "\\item 'data.15'\n",
       "\\item 'data.16'\n",
       "\\item 'data.17'\n",
       "\\item 'data.18'\n",
       "\\item 'data.19'\n",
       "\\item 'data.20'\n",
       "\\item 'data.22'\n",
       "\\item 'data.23'\n",
       "\\item 'data.24'\n",
       "\\item 'data.25'\n",
       "\\item 'data.26'\n",
       "\\item 'scale.data'\n",
       "\\end{enumerate*}\n"
      ],
      "text/markdown": [
       "1. 'counts.1'\n",
       "2. 'counts.2'\n",
       "3. 'counts.3'\n",
       "4. 'counts.5'\n",
       "5. 'counts.6'\n",
       "6. 'counts.7'\n",
       "7. 'counts.9'\n",
       "8. 'counts.10'\n",
       "9. 'counts.11'\n",
       "10. 'counts.12'\n",
       "11. 'counts.14'\n",
       "12. 'counts.15'\n",
       "13. 'counts.16'\n",
       "14. 'counts.17'\n",
       "15. 'counts.18'\n",
       "16. 'counts.19'\n",
       "17. 'counts.20'\n",
       "18. 'counts.22'\n",
       "19. 'counts.23'\n",
       "20. 'counts.24'\n",
       "21. 'counts.25'\n",
       "22. 'counts.26'\n",
       "23. 'data.1'\n",
       "24. 'data.2'\n",
       "25. 'data.3'\n",
       "26. 'data.5'\n",
       "27. 'data.6'\n",
       "28. 'data.7'\n",
       "29. 'data.9'\n",
       "30. 'data.10'\n",
       "31. 'data.11'\n",
       "32. 'data.12'\n",
       "33. 'data.14'\n",
       "34. 'data.15'\n",
       "35. 'data.16'\n",
       "36. 'data.17'\n",
       "37. 'data.18'\n",
       "38. 'data.19'\n",
       "39. 'data.20'\n",
       "40. 'data.22'\n",
       "41. 'data.23'\n",
       "42. 'data.24'\n",
       "43. 'data.25'\n",
       "44. 'data.26'\n",
       "45. 'scale.data'\n",
       "\n",
       "\n"
      ],
      "text/plain": [
       " [1] \"counts.1\"   \"counts.2\"   \"counts.3\"   \"counts.5\"   \"counts.6\"  \n",
       " [6] \"counts.7\"   \"counts.9\"   \"counts.10\"  \"counts.11\"  \"counts.12\" \n",
       "[11] \"counts.14\"  \"counts.15\"  \"counts.16\"  \"counts.17\"  \"counts.18\" \n",
       "[16] \"counts.19\"  \"counts.20\"  \"counts.22\"  \"counts.23\"  \"counts.24\" \n",
       "[21] \"counts.25\"  \"counts.26\"  \"data.1\"     \"data.2\"     \"data.3\"    \n",
       "[26] \"data.5\"     \"data.6\"     \"data.7\"     \"data.9\"     \"data.10\"   \n",
       "[31] \"data.11\"    \"data.12\"    \"data.14\"    \"data.15\"    \"data.16\"   \n",
       "[36] \"data.17\"    \"data.18\"    \"data.19\"    \"data.20\"    \"data.22\"   \n",
       "[41] \"data.23\"    \"data.24\"    \"data.25\"    \"data.26\"    \"scale.data\""
      ]
     },
     "metadata": {},
     "output_type": "display_data"
    },
    {
     "data": {
      "text/html": [
       "<style>\n",
       ".list-inline {list-style: none; margin:0; padding: 0}\n",
       ".list-inline>li {display: inline-block}\n",
       ".list-inline>li:not(:last-child)::after {content: \"\\00b7\"; padding: 0 .5ex}\n",
       "</style>\n",
       "<ol class=list-inline><li>'data'</li><li>'counts'</li><li>'scale.data'</li></ol>\n"
      ],
      "text/latex": [
       "\\begin{enumerate*}\n",
       "\\item 'data'\n",
       "\\item 'counts'\n",
       "\\item 'scale.data'\n",
       "\\end{enumerate*}\n"
      ],
      "text/markdown": [
       "1. 'data'\n",
       "2. 'counts'\n",
       "3. 'scale.data'\n",
       "\n",
       "\n"
      ],
      "text/plain": [
       "[1] \"data\"       \"counts\"     \"scale.data\""
      ]
     },
     "metadata": {},
     "output_type": "display_data"
    },
    {
     "name": "stderr",
     "output_type": "stream",
     "text": [
      "Splitting ‘counts’, ‘data’ layers. Not splitting ‘scale.data’. If you would like to split other layers, set in `layers` argument.\n",
      "\n"
     ]
    },
    {
     "data": {
      "text/html": [
       "<style>\n",
       ".list-inline {list-style: none; margin:0; padding: 0}\n",
       ".list-inline>li {display: inline-block}\n",
       ".list-inline>li:not(:last-child)::after {content: \"\\00b7\"; padding: 0 .5ex}\n",
       "</style>\n",
       "<ol class=list-inline><li>'data.GSE176078_HER2_breast_CID3586'</li><li>'data.GSE176078_HER2_breast_CID3838'</li><li>'data.GSE176078_HER2_breast_CID3921'</li><li>'data.GSE176078_TNBC_CID3946'</li><li>'data.GSE176078_ER_breast_CID3948'</li><li>'data.GSE176078_TNBC_CID3963'</li><li>'data.GSE176078_HER2_breast_CID4066'</li><li>'data.GSE176078_ER_breast_CID4067'</li><li>'data.GSE176078_ER_breast_CID4290A'</li><li>'data.GSE176078_ER_breast_CID4398'</li><li>'data.GSE176078_ER_breast_CID4463'</li><li>'data.GSE176078_TNBC_CID4465'</li><li>'data.GSE176078_ER_breast_CID4471'</li><li>'data.GSE176078_TNBC_CID4495'</li><li>'data.GSE176078_TNBC_CID4513'</li><li>'data.GSE176078_TNBC_CID4515'</li><li>'data.GSE176078_TNBC_CID4523'</li><li>'data.GSE176078_ER_breast_CID4535'</li><li>'data.GSE176078_TNBC_CID44041'</li><li>'data.GSE176078_TNBC_CID44971'</li><li>'data.GSE176078_TNBC_CID44991'</li><li>'data.GSE176078_HER2_breast_CID45171'</li><li>'scale.data'</li><li>'counts.GSE176078_HER2_breast_CID3586'</li><li>'counts.GSE176078_HER2_breast_CID3838'</li><li>'counts.GSE176078_HER2_breast_CID3921'</li><li>'counts.GSE176078_TNBC_CID3946'</li><li>'counts.GSE176078_ER_breast_CID3948'</li><li>'counts.GSE176078_TNBC_CID3963'</li><li>'counts.GSE176078_HER2_breast_CID4066'</li><li>'counts.GSE176078_ER_breast_CID4067'</li><li>'counts.GSE176078_ER_breast_CID4290A'</li><li>'counts.GSE176078_ER_breast_CID4398'</li><li>'counts.GSE176078_ER_breast_CID4463'</li><li>'counts.GSE176078_TNBC_CID4465'</li><li>'counts.GSE176078_ER_breast_CID4471'</li><li>'counts.GSE176078_TNBC_CID4495'</li><li>'counts.GSE176078_TNBC_CID4513'</li><li>'counts.GSE176078_TNBC_CID4515'</li><li>'counts.GSE176078_TNBC_CID4523'</li><li>'counts.GSE176078_ER_breast_CID4535'</li><li>'counts.GSE176078_TNBC_CID44041'</li><li>'counts.GSE176078_TNBC_CID44971'</li><li>'counts.GSE176078_TNBC_CID44991'</li><li>'counts.GSE176078_HER2_breast_CID45171'</li></ol>\n"
      ],
      "text/latex": [
       "\\begin{enumerate*}\n",
       "\\item 'data.GSE176078\\_HER2\\_breast\\_CID3586'\n",
       "\\item 'data.GSE176078\\_HER2\\_breast\\_CID3838'\n",
       "\\item 'data.GSE176078\\_HER2\\_breast\\_CID3921'\n",
       "\\item 'data.GSE176078\\_TNBC\\_CID3946'\n",
       "\\item 'data.GSE176078\\_ER\\_breast\\_CID3948'\n",
       "\\item 'data.GSE176078\\_TNBC\\_CID3963'\n",
       "\\item 'data.GSE176078\\_HER2\\_breast\\_CID4066'\n",
       "\\item 'data.GSE176078\\_ER\\_breast\\_CID4067'\n",
       "\\item 'data.GSE176078\\_ER\\_breast\\_CID4290A'\n",
       "\\item 'data.GSE176078\\_ER\\_breast\\_CID4398'\n",
       "\\item 'data.GSE176078\\_ER\\_breast\\_CID4463'\n",
       "\\item 'data.GSE176078\\_TNBC\\_CID4465'\n",
       "\\item 'data.GSE176078\\_ER\\_breast\\_CID4471'\n",
       "\\item 'data.GSE176078\\_TNBC\\_CID4495'\n",
       "\\item 'data.GSE176078\\_TNBC\\_CID4513'\n",
       "\\item 'data.GSE176078\\_TNBC\\_CID4515'\n",
       "\\item 'data.GSE176078\\_TNBC\\_CID4523'\n",
       "\\item 'data.GSE176078\\_ER\\_breast\\_CID4535'\n",
       "\\item 'data.GSE176078\\_TNBC\\_CID44041'\n",
       "\\item 'data.GSE176078\\_TNBC\\_CID44971'\n",
       "\\item 'data.GSE176078\\_TNBC\\_CID44991'\n",
       "\\item 'data.GSE176078\\_HER2\\_breast\\_CID45171'\n",
       "\\item 'scale.data'\n",
       "\\item 'counts.GSE176078\\_HER2\\_breast\\_CID3586'\n",
       "\\item 'counts.GSE176078\\_HER2\\_breast\\_CID3838'\n",
       "\\item 'counts.GSE176078\\_HER2\\_breast\\_CID3921'\n",
       "\\item 'counts.GSE176078\\_TNBC\\_CID3946'\n",
       "\\item 'counts.GSE176078\\_ER\\_breast\\_CID3948'\n",
       "\\item 'counts.GSE176078\\_TNBC\\_CID3963'\n",
       "\\item 'counts.GSE176078\\_HER2\\_breast\\_CID4066'\n",
       "\\item 'counts.GSE176078\\_ER\\_breast\\_CID4067'\n",
       "\\item 'counts.GSE176078\\_ER\\_breast\\_CID4290A'\n",
       "\\item 'counts.GSE176078\\_ER\\_breast\\_CID4398'\n",
       "\\item 'counts.GSE176078\\_ER\\_breast\\_CID4463'\n",
       "\\item 'counts.GSE176078\\_TNBC\\_CID4465'\n",
       "\\item 'counts.GSE176078\\_ER\\_breast\\_CID4471'\n",
       "\\item 'counts.GSE176078\\_TNBC\\_CID4495'\n",
       "\\item 'counts.GSE176078\\_TNBC\\_CID4513'\n",
       "\\item 'counts.GSE176078\\_TNBC\\_CID4515'\n",
       "\\item 'counts.GSE176078\\_TNBC\\_CID4523'\n",
       "\\item 'counts.GSE176078\\_ER\\_breast\\_CID4535'\n",
       "\\item 'counts.GSE176078\\_TNBC\\_CID44041'\n",
       "\\item 'counts.GSE176078\\_TNBC\\_CID44971'\n",
       "\\item 'counts.GSE176078\\_TNBC\\_CID44991'\n",
       "\\item 'counts.GSE176078\\_HER2\\_breast\\_CID45171'\n",
       "\\end{enumerate*}\n"
      ],
      "text/markdown": [
       "1. 'data.GSE176078_HER2_breast_CID3586'\n",
       "2. 'data.GSE176078_HER2_breast_CID3838'\n",
       "3. 'data.GSE176078_HER2_breast_CID3921'\n",
       "4. 'data.GSE176078_TNBC_CID3946'\n",
       "5. 'data.GSE176078_ER_breast_CID3948'\n",
       "6. 'data.GSE176078_TNBC_CID3963'\n",
       "7. 'data.GSE176078_HER2_breast_CID4066'\n",
       "8. 'data.GSE176078_ER_breast_CID4067'\n",
       "9. 'data.GSE176078_ER_breast_CID4290A'\n",
       "10. 'data.GSE176078_ER_breast_CID4398'\n",
       "11. 'data.GSE176078_ER_breast_CID4463'\n",
       "12. 'data.GSE176078_TNBC_CID4465'\n",
       "13. 'data.GSE176078_ER_breast_CID4471'\n",
       "14. 'data.GSE176078_TNBC_CID4495'\n",
       "15. 'data.GSE176078_TNBC_CID4513'\n",
       "16. 'data.GSE176078_TNBC_CID4515'\n",
       "17. 'data.GSE176078_TNBC_CID4523'\n",
       "18. 'data.GSE176078_ER_breast_CID4535'\n",
       "19. 'data.GSE176078_TNBC_CID44041'\n",
       "20. 'data.GSE176078_TNBC_CID44971'\n",
       "21. 'data.GSE176078_TNBC_CID44991'\n",
       "22. 'data.GSE176078_HER2_breast_CID45171'\n",
       "23. 'scale.data'\n",
       "24. 'counts.GSE176078_HER2_breast_CID3586'\n",
       "25. 'counts.GSE176078_HER2_breast_CID3838'\n",
       "26. 'counts.GSE176078_HER2_breast_CID3921'\n",
       "27. 'counts.GSE176078_TNBC_CID3946'\n",
       "28. 'counts.GSE176078_ER_breast_CID3948'\n",
       "29. 'counts.GSE176078_TNBC_CID3963'\n",
       "30. 'counts.GSE176078_HER2_breast_CID4066'\n",
       "31. 'counts.GSE176078_ER_breast_CID4067'\n",
       "32. 'counts.GSE176078_ER_breast_CID4290A'\n",
       "33. 'counts.GSE176078_ER_breast_CID4398'\n",
       "34. 'counts.GSE176078_ER_breast_CID4463'\n",
       "35. 'counts.GSE176078_TNBC_CID4465'\n",
       "36. 'counts.GSE176078_ER_breast_CID4471'\n",
       "37. 'counts.GSE176078_TNBC_CID4495'\n",
       "38. 'counts.GSE176078_TNBC_CID4513'\n",
       "39. 'counts.GSE176078_TNBC_CID4515'\n",
       "40. 'counts.GSE176078_TNBC_CID4523'\n",
       "41. 'counts.GSE176078_ER_breast_CID4535'\n",
       "42. 'counts.GSE176078_TNBC_CID44041'\n",
       "43. 'counts.GSE176078_TNBC_CID44971'\n",
       "44. 'counts.GSE176078_TNBC_CID44991'\n",
       "45. 'counts.GSE176078_HER2_breast_CID45171'\n",
       "\n",
       "\n"
      ],
      "text/plain": [
       " [1] \"data.GSE176078_HER2_breast_CID3586\"   \n",
       " [2] \"data.GSE176078_HER2_breast_CID3838\"   \n",
       " [3] \"data.GSE176078_HER2_breast_CID3921\"   \n",
       " [4] \"data.GSE176078_TNBC_CID3946\"          \n",
       " [5] \"data.GSE176078_ER_breast_CID3948\"     \n",
       " [6] \"data.GSE176078_TNBC_CID3963\"          \n",
       " [7] \"data.GSE176078_HER2_breast_CID4066\"   \n",
       " [8] \"data.GSE176078_ER_breast_CID4067\"     \n",
       " [9] \"data.GSE176078_ER_breast_CID4290A\"    \n",
       "[10] \"data.GSE176078_ER_breast_CID4398\"     \n",
       "[11] \"data.GSE176078_ER_breast_CID4463\"     \n",
       "[12] \"data.GSE176078_TNBC_CID4465\"          \n",
       "[13] \"data.GSE176078_ER_breast_CID4471\"     \n",
       "[14] \"data.GSE176078_TNBC_CID4495\"          \n",
       "[15] \"data.GSE176078_TNBC_CID4513\"          \n",
       "[16] \"data.GSE176078_TNBC_CID4515\"          \n",
       "[17] \"data.GSE176078_TNBC_CID4523\"          \n",
       "[18] \"data.GSE176078_ER_breast_CID4535\"     \n",
       "[19] \"data.GSE176078_TNBC_CID44041\"         \n",
       "[20] \"data.GSE176078_TNBC_CID44971\"         \n",
       "[21] \"data.GSE176078_TNBC_CID44991\"         \n",
       "[22] \"data.GSE176078_HER2_breast_CID45171\"  \n",
       "[23] \"scale.data\"                           \n",
       "[24] \"counts.GSE176078_HER2_breast_CID3586\" \n",
       "[25] \"counts.GSE176078_HER2_breast_CID3838\" \n",
       "[26] \"counts.GSE176078_HER2_breast_CID3921\" \n",
       "[27] \"counts.GSE176078_TNBC_CID3946\"        \n",
       "[28] \"counts.GSE176078_ER_breast_CID3948\"   \n",
       "[29] \"counts.GSE176078_TNBC_CID3963\"        \n",
       "[30] \"counts.GSE176078_HER2_breast_CID4066\" \n",
       "[31] \"counts.GSE176078_ER_breast_CID4067\"   \n",
       "[32] \"counts.GSE176078_ER_breast_CID4290A\"  \n",
       "[33] \"counts.GSE176078_ER_breast_CID4398\"   \n",
       "[34] \"counts.GSE176078_ER_breast_CID4463\"   \n",
       "[35] \"counts.GSE176078_TNBC_CID4465\"        \n",
       "[36] \"counts.GSE176078_ER_breast_CID4471\"   \n",
       "[37] \"counts.GSE176078_TNBC_CID4495\"        \n",
       "[38] \"counts.GSE176078_TNBC_CID4513\"        \n",
       "[39] \"counts.GSE176078_TNBC_CID4515\"        \n",
       "[40] \"counts.GSE176078_TNBC_CID4523\"        \n",
       "[41] \"counts.GSE176078_ER_breast_CID4535\"   \n",
       "[42] \"counts.GSE176078_TNBC_CID44041\"       \n",
       "[43] \"counts.GSE176078_TNBC_CID44971\"       \n",
       "[44] \"counts.GSE176078_TNBC_CID44991\"       \n",
       "[45] \"counts.GSE176078_HER2_breast_CID45171\""
      ]
     },
     "metadata": {},
     "output_type": "display_data"
    }
   ],
   "source": [
    "#join layers and then split them by integration_id\n",
    "Layers(BRE[[\"RNA\"]])\n",
    "#join layers\n",
    "BRE[[\"RNA\"]] <- JoinLayers(BRE[[\"RNA\"]])\n",
    "Layers(BRE[[\"RNA\"]])\n",
    "#split layers\n",
    "BRE[[\"RNA\"]] <- split(BRE[[\"RNA\"]], f = BRE$integration_id)\n",
    "Layers(BRE[[\"RNA\"]])\n"
   ]
  },
  {
   "cell_type": "code",
   "execution_count": 20,
   "metadata": {
    "vscode": {
     "languageId": "r"
    }
   },
   "outputs": [
    {
     "data": {
      "text/plain": [
       "\n",
       "   GSE176078_ER_breast_CID3948    GSE176078_ER_breast_CID4067 \n",
       "                           116                            263 \n",
       "  GSE176078_ER_breast_CID4290A    GSE176078_ER_breast_CID4398 \n",
       "                           339                            198 \n",
       "   GSE176078_ER_breast_CID4463    GSE176078_ER_breast_CID4471 \n",
       "                           101                            250 \n",
       "   GSE176078_ER_breast_CID4535  GSE176078_HER2_breast_CID3586 \n",
       "                           210                            143 \n",
       " GSE176078_HER2_breast_CID3838  GSE176078_HER2_breast_CID3921 \n",
       "                           445                            376 \n",
       " GSE176078_HER2_breast_CID4066 GSE176078_HER2_breast_CID45171 \n",
       "                           213                            164 \n",
       "        GSE176078_TNBC_CID3946         GSE176078_TNBC_CID3963 \n",
       "                           157                            476 \n",
       "       GSE176078_TNBC_CID44041         GSE176078_TNBC_CID4465 \n",
       "                           103                            177 \n",
       "        GSE176078_TNBC_CID4495        GSE176078_TNBC_CID44971 \n",
       "                           889                            608 \n",
       "       GSE176078_TNBC_CID44991         GSE176078_TNBC_CID4513 \n",
       "                           199                           2845 \n",
       "        GSE176078_TNBC_CID4515         GSE176078_TNBC_CID4523 \n",
       "                           529                            359 "
      ]
     },
     "metadata": {},
     "output_type": "display_data"
    },
    {
     "data": {
      "text/plain": [
       "An object of class Seurat \n",
       "29733 features across 9160 samples within 1 assay \n",
       "Active assay: RNA (29733 features, 2000 variable features)\n",
       " 45 layers present: data.GSE176078_HER2_breast_CID3586, data.GSE176078_HER2_breast_CID3838, data.GSE176078_HER2_breast_CID3921, data.GSE176078_TNBC_CID3946, data.GSE176078_ER_breast_CID3948, data.GSE176078_TNBC_CID3963, data.GSE176078_HER2_breast_CID4066, data.GSE176078_ER_breast_CID4067, data.GSE176078_ER_breast_CID4290A, data.GSE176078_ER_breast_CID4398, data.GSE176078_ER_breast_CID4463, data.GSE176078_TNBC_CID4465, data.GSE176078_ER_breast_CID4471, data.GSE176078_TNBC_CID4495, data.GSE176078_TNBC_CID4513, data.GSE176078_TNBC_CID4515, data.GSE176078_TNBC_CID4523, data.GSE176078_ER_breast_CID4535, data.GSE176078_TNBC_CID44041, data.GSE176078_TNBC_CID44971, data.GSE176078_TNBC_CID44991, data.GSE176078_HER2_breast_CID45171, scale.data, counts.GSE176078_HER2_breast_CID3586, counts.GSE176078_HER2_breast_CID3838, counts.GSE176078_HER2_breast_CID3921, counts.GSE176078_TNBC_CID3946, counts.GSE176078_ER_breast_CID3948, counts.GSE176078_TNBC_CID3963, counts.GSE176078_HER2_breast_CID4066, counts.GSE176078_ER_breast_CID4067, counts.GSE176078_ER_breast_CID4290A, counts.GSE176078_ER_breast_CID4398, counts.GSE176078_ER_breast_CID4463, counts.GSE176078_TNBC_CID4465, counts.GSE176078_ER_breast_CID4471, counts.GSE176078_TNBC_CID4495, counts.GSE176078_TNBC_CID4513, counts.GSE176078_TNBC_CID4515, counts.GSE176078_TNBC_CID4523, counts.GSE176078_ER_breast_CID4535, counts.GSE176078_TNBC_CID44041, counts.GSE176078_TNBC_CID44971, counts.GSE176078_TNBC_CID44991, counts.GSE176078_HER2_breast_CID45171\n",
       " 2 dimensional reductions calculated: pca, umap"
      ]
     },
     "metadata": {},
     "output_type": "display_data"
    }
   ],
   "source": [
    "#record number of cells\n",
    "table(BRE$integration_id)\n",
    "BRE"
   ]
  },
  {
   "cell_type": "code",
   "execution_count": 21,
   "metadata": {
    "vscode": {
     "languageId": "r"
    }
   },
   "outputs": [],
   "source": [
    "#re-export seurat object ready for integration\n",
    "saveRDS(BRE, \"/scratch/user/s4436039/scdata/Myeloid_Cells/Myeloid_Cells_Integrate/GSE176078_myeloid_int.RDS\")"
   ]
  },
  {
   "cell_type": "code",
   "execution_count": 22,
   "metadata": {
    "vscode": {
     "languageId": "r"
    }
   },
   "outputs": [],
   "source": [
    "#remove all objects in R\n",
    "rm(list = ls())"
   ]
  },
  {
   "cell_type": "markdown",
   "metadata": {},
   "source": [
    "## GSE195861"
   ]
  },
  {
   "cell_type": "code",
   "execution_count": 27,
   "metadata": {
    "vscode": {
     "languageId": "r"
    }
   },
   "outputs": [],
   "source": [
    "BRE <- readRDS(\"/scratch/user/s4436039/scdata/Myeloid_Cells/GSE195861_myeloid.RDS\")"
   ]
  },
  {
   "cell_type": "code",
   "execution_count": 28,
   "metadata": {
    "vscode": {
     "languageId": "r"
    }
   },
   "outputs": [
    {
     "data": {
      "text/plain": [
       "An object of class Seurat \n",
       "33538 features across 15286 samples within 1 assay \n",
       "Active assay: RNA (33538 features, 2000 variable features)\n",
       " 41 layers present: counts.1, counts.2, counts.3, counts.4, counts.5, counts.6, counts.7, counts.8, counts.9, counts.10, counts.11, counts.12, counts.13, counts.14, counts.15, counts.16, counts.17, counts.18, counts.19, counts.20, data.1, data.2, data.3, data.4, data.5, data.6, data.7, data.8, data.9, data.10, data.11, data.12, data.13, data.14, data.15, data.16, data.17, data.18, data.19, data.20, scale.data\n",
       " 2 dimensional reductions calculated: pca, umap"
      ]
     },
     "metadata": {},
     "output_type": "display_data"
    },
    {
     "data": {
      "text/html": [
       "'GSE195861'"
      ],
      "text/latex": [
       "'GSE195861'"
      ],
      "text/markdown": [
       "'GSE195861'"
      ],
      "text/plain": [
       "[1] \"GSE195861\""
      ]
     },
     "metadata": {},
     "output_type": "display_data"
    },
    {
     "data": {
      "text/html": [
       "<table class=\"dataframe\">\n",
       "<caption>A data.frame: 6 × 10</caption>\n",
       "<thead>\n",
       "\t<tr><th></th><th scope=col>orig.ident</th><th scope=col>nCount_RNA</th><th scope=col>nFeature_RNA</th><th scope=col>sample_type</th><th scope=col>cancer_type</th><th scope=col>patient_id</th><th scope=col>sample_id</th><th scope=col>percent.mt</th><th scope=col>RNA_snn_res.0.2</th><th scope=col>seurat_clusters</th></tr>\n",
       "\t<tr><th></th><th scope=col>&lt;chr&gt;</th><th scope=col>&lt;dbl&gt;</th><th scope=col>&lt;int&gt;</th><th scope=col>&lt;chr&gt;</th><th scope=col>&lt;chr&gt;</th><th scope=col>&lt;chr&gt;</th><th scope=col>&lt;chr&gt;</th><th scope=col>&lt;dbl&gt;</th><th scope=col>&lt;fct&gt;</th><th scope=col>&lt;fct&gt;</th></tr>\n",
       "</thead>\n",
       "<tbody>\n",
       "\t<tr><th scope=row>GSE195861_Healthy_AAACGAACACTGGACC-1</th><td>GSE195861</td><td>  736</td><td> 427</td><td>Healthy_breast</td><td>Healthy</td><td>Norm1</td><td>GSE195861_Healthy</td><td> 1.766304</td><td>4</td><td>4</td></tr>\n",
       "\t<tr><th scope=row>GSE195861_Healthy_AAATGGAGTCCAGGTC-1</th><td>GSE195861</td><td> 1038</td><td> 585</td><td>Healthy_breast</td><td>Healthy</td><td>Norm1</td><td>GSE195861_Healthy</td><td>10.693642</td><td>1</td><td>1</td></tr>\n",
       "\t<tr><th scope=row>GSE195861_Healthy_AACAAAGAGTCATCCA-1</th><td>GSE195861</td><td>18003</td><td>4395</td><td>Healthy_breast</td><td>Healthy</td><td>Norm1</td><td>GSE195861_Healthy</td><td>10.381603</td><td>1</td><td>1</td></tr>\n",
       "\t<tr><th scope=row>GSE195861_Healthy_AACCATGCACGACAAG-1</th><td>GSE195861</td><td> 1212</td><td> 825</td><td>Healthy_breast</td><td>Healthy</td><td>Norm1</td><td>GSE195861_Healthy</td><td> 1.732673</td><td>1</td><td>1</td></tr>\n",
       "\t<tr><th scope=row>GSE195861_Healthy_AACGTCAGTAGACAAT-1</th><td>GSE195861</td><td>  680</td><td> 462</td><td>Healthy_breast</td><td>Healthy</td><td>Norm1</td><td>GSE195861_Healthy</td><td> 3.970588</td><td>1</td><td>1</td></tr>\n",
       "\t<tr><th scope=row>GSE195861_Healthy_AAGCGTTCAGATAAAC-1</th><td>GSE195861</td><td> 2446</td><td>1053</td><td>Healthy_breast</td><td>Healthy</td><td>Norm1</td><td>GSE195861_Healthy</td><td> 2.085037</td><td>1</td><td>1</td></tr>\n",
       "</tbody>\n",
       "</table>\n"
      ],
      "text/latex": [
       "A data.frame: 6 × 10\n",
       "\\begin{tabular}{r|llllllllll}\n",
       "  & orig.ident & nCount\\_RNA & nFeature\\_RNA & sample\\_type & cancer\\_type & patient\\_id & sample\\_id & percent.mt & RNA\\_snn\\_res.0.2 & seurat\\_clusters\\\\\n",
       "  & <chr> & <dbl> & <int> & <chr> & <chr> & <chr> & <chr> & <dbl> & <fct> & <fct>\\\\\n",
       "\\hline\n",
       "\tGSE195861\\_Healthy\\_AAACGAACACTGGACC-1 & GSE195861 &   736 &  427 & Healthy\\_breast & Healthy & Norm1 & GSE195861\\_Healthy &  1.766304 & 4 & 4\\\\\n",
       "\tGSE195861\\_Healthy\\_AAATGGAGTCCAGGTC-1 & GSE195861 &  1038 &  585 & Healthy\\_breast & Healthy & Norm1 & GSE195861\\_Healthy & 10.693642 & 1 & 1\\\\\n",
       "\tGSE195861\\_Healthy\\_AACAAAGAGTCATCCA-1 & GSE195861 & 18003 & 4395 & Healthy\\_breast & Healthy & Norm1 & GSE195861\\_Healthy & 10.381603 & 1 & 1\\\\\n",
       "\tGSE195861\\_Healthy\\_AACCATGCACGACAAG-1 & GSE195861 &  1212 &  825 & Healthy\\_breast & Healthy & Norm1 & GSE195861\\_Healthy &  1.732673 & 1 & 1\\\\\n",
       "\tGSE195861\\_Healthy\\_AACGTCAGTAGACAAT-1 & GSE195861 &   680 &  462 & Healthy\\_breast & Healthy & Norm1 & GSE195861\\_Healthy &  3.970588 & 1 & 1\\\\\n",
       "\tGSE195861\\_Healthy\\_AAGCGTTCAGATAAAC-1 & GSE195861 &  2446 & 1053 & Healthy\\_breast & Healthy & Norm1 & GSE195861\\_Healthy &  2.085037 & 1 & 1\\\\\n",
       "\\end{tabular}\n"
      ],
      "text/markdown": [
       "\n",
       "A data.frame: 6 × 10\n",
       "\n",
       "| <!--/--> | orig.ident &lt;chr&gt; | nCount_RNA &lt;dbl&gt; | nFeature_RNA &lt;int&gt; | sample_type &lt;chr&gt; | cancer_type &lt;chr&gt; | patient_id &lt;chr&gt; | sample_id &lt;chr&gt; | percent.mt &lt;dbl&gt; | RNA_snn_res.0.2 &lt;fct&gt; | seurat_clusters &lt;fct&gt; |\n",
       "|---|---|---|---|---|---|---|---|---|---|---|\n",
       "| GSE195861_Healthy_AAACGAACACTGGACC-1 | GSE195861 |   736 |  427 | Healthy_breast | Healthy | Norm1 | GSE195861_Healthy |  1.766304 | 4 | 4 |\n",
       "| GSE195861_Healthy_AAATGGAGTCCAGGTC-1 | GSE195861 |  1038 |  585 | Healthy_breast | Healthy | Norm1 | GSE195861_Healthy | 10.693642 | 1 | 1 |\n",
       "| GSE195861_Healthy_AACAAAGAGTCATCCA-1 | GSE195861 | 18003 | 4395 | Healthy_breast | Healthy | Norm1 | GSE195861_Healthy | 10.381603 | 1 | 1 |\n",
       "| GSE195861_Healthy_AACCATGCACGACAAG-1 | GSE195861 |  1212 |  825 | Healthy_breast | Healthy | Norm1 | GSE195861_Healthy |  1.732673 | 1 | 1 |\n",
       "| GSE195861_Healthy_AACGTCAGTAGACAAT-1 | GSE195861 |   680 |  462 | Healthy_breast | Healthy | Norm1 | GSE195861_Healthy |  3.970588 | 1 | 1 |\n",
       "| GSE195861_Healthy_AAGCGTTCAGATAAAC-1 | GSE195861 |  2446 | 1053 | Healthy_breast | Healthy | Norm1 | GSE195861_Healthy |  2.085037 | 1 | 1 |\n",
       "\n"
      ],
      "text/plain": [
       "                                     orig.ident nCount_RNA nFeature_RNA\n",
       "GSE195861_Healthy_AAACGAACACTGGACC-1 GSE195861    736       427        \n",
       "GSE195861_Healthy_AAATGGAGTCCAGGTC-1 GSE195861   1038       585        \n",
       "GSE195861_Healthy_AACAAAGAGTCATCCA-1 GSE195861  18003      4395        \n",
       "GSE195861_Healthy_AACCATGCACGACAAG-1 GSE195861   1212       825        \n",
       "GSE195861_Healthy_AACGTCAGTAGACAAT-1 GSE195861    680       462        \n",
       "GSE195861_Healthy_AAGCGTTCAGATAAAC-1 GSE195861   2446      1053        \n",
       "                                     sample_type    cancer_type patient_id\n",
       "GSE195861_Healthy_AAACGAACACTGGACC-1 Healthy_breast Healthy     Norm1     \n",
       "GSE195861_Healthy_AAATGGAGTCCAGGTC-1 Healthy_breast Healthy     Norm1     \n",
       "GSE195861_Healthy_AACAAAGAGTCATCCA-1 Healthy_breast Healthy     Norm1     \n",
       "GSE195861_Healthy_AACCATGCACGACAAG-1 Healthy_breast Healthy     Norm1     \n",
       "GSE195861_Healthy_AACGTCAGTAGACAAT-1 Healthy_breast Healthy     Norm1     \n",
       "GSE195861_Healthy_AAGCGTTCAGATAAAC-1 Healthy_breast Healthy     Norm1     \n",
       "                                     sample_id         percent.mt\n",
       "GSE195861_Healthy_AAACGAACACTGGACC-1 GSE195861_Healthy  1.766304 \n",
       "GSE195861_Healthy_AAATGGAGTCCAGGTC-1 GSE195861_Healthy 10.693642 \n",
       "GSE195861_Healthy_AACAAAGAGTCATCCA-1 GSE195861_Healthy 10.381603 \n",
       "GSE195861_Healthy_AACCATGCACGACAAG-1 GSE195861_Healthy  1.732673 \n",
       "GSE195861_Healthy_AACGTCAGTAGACAAT-1 GSE195861_Healthy  3.970588 \n",
       "GSE195861_Healthy_AAGCGTTCAGATAAAC-1 GSE195861_Healthy  2.085037 \n",
       "                                     RNA_snn_res.0.2 seurat_clusters\n",
       "GSE195861_Healthy_AAACGAACACTGGACC-1 4               4              \n",
       "GSE195861_Healthy_AAATGGAGTCCAGGTC-1 1               1              \n",
       "GSE195861_Healthy_AACAAAGAGTCATCCA-1 1               1              \n",
       "GSE195861_Healthy_AACCATGCACGACAAG-1 1               1              \n",
       "GSE195861_Healthy_AACGTCAGTAGACAAT-1 1               1              \n",
       "GSE195861_Healthy_AAGCGTTCAGATAAAC-1 1               1              "
      ]
     },
     "metadata": {},
     "output_type": "display_data"
    }
   ],
   "source": [
    "BRE\n",
    "BRE@project.name\n",
    "head(BRE@meta.data)"
   ]
  },
  {
   "cell_type": "code",
   "execution_count": 29,
   "metadata": {
    "vscode": {
     "languageId": "r"
    }
   },
   "outputs": [
    {
     "data": {
      "text/plain": [
       "\n",
       "Healthy_breast         LN_met         tumour \n",
       "           158           1278          13850 "
      ]
     },
     "metadata": {},
     "output_type": "display_data"
    },
    {
     "data": {
      "text/plain": [
       "\n",
       "   DCIS Healthy     IDC \n",
       "  12436     158    2692 "
      ]
     },
     "metadata": {},
     "output_type": "display_data"
    },
    {
     "data": {
      "text/plain": [
       "\n",
       "Norm1   pt1  pt10  pt11  pt12  pt13   pt2   pt3   pt4   pt5   pt6   pt7   pt8 \n",
       "  158    62   274   131   254   246 10629   432   163   705   172   273   596 \n",
       "  pt9 \n",
       " 1191 "
      ]
     },
     "metadata": {},
     "output_type": "display_data"
    },
    {
     "data": {
      "text/plain": [
       "\n",
       "GSE195861_DCIS_tumour_pt1 GSE195861_DCIS_tumour_pt2 GSE195861_DCIS_tumour_pt3 \n",
       "                       62                     10629                       432 \n",
       "GSE195861_DCIS_tumour_pt4 GSE195861_DCIS_tumour_pt5 GSE195861_DCIS_tumour_pt6 \n",
       "                      163                       705                       172 \n",
       "GSE195861_DCIS_tumour_pt7         GSE195861_Healthy GSE195861_IDC_LN-met_pt10 \n",
       "                      273                       158                       197 \n",
       "GSE195861_IDC_LN-met_pt11 GSE195861_IDC_LN-met_pt12 GSE195861_IDC_LN-met_pt13 \n",
       "                       97                       145                       155 \n",
       " GSE195861_IDC_LN-met_pt8  GSE195861_IDC_LN-met_pt9 GSE195861_IDC_tumour_pt10 \n",
       "                      240                       444                        77 \n",
       "GSE195861_IDC_tumour_pt11 GSE195861_IDC_tumour_pt12 GSE195861_IDC_tumour_pt13 \n",
       "                       34                       109                        91 \n",
       " GSE195861_IDC_tumour_pt8  GSE195861_IDC_tumour_pt9 \n",
       "                      356                       747 "
      ]
     },
     "metadata": {},
     "output_type": "display_data"
    }
   ],
   "source": [
    "table(BRE$sample_type)\n",
    "table(BRE$cancer_type)\n",
    "table(BRE$patient_id)\n",
    "table(BRE$sample_id)"
   ]
  },
  {
   "cell_type": "code",
   "execution_count": 32,
   "metadata": {
    "vscode": {
     "languageId": "r"
    }
   },
   "outputs": [],
   "source": [
    "#set site metadata\n",
    "\n",
    "#split by sample_type\n",
    "BRE_H <- subset(BRE, subset = sample_type %in% c(\"Healthy_breast\"))\n",
    "BRE_LN <- subset(BRE, subset = sample_type %in% c(\"LN_met\"))\n",
    "BRE_T <- subset(BRE, subset = sample_type %in% c(\"tumour\"))\n",
    "\n",
    "BRE_H@meta.data$site <- \"breast\"\n",
    "BRE_LN@meta.data$site <- \"lymph node\"\n",
    "BRE_T@meta.data$site <- \"breast\"\n",
    "\n",
    "BRE_H@meta.data$sample_type_major <- \"healthy\"\n",
    "BRE_LN@meta.data$sample_type_major <- \"metastatic tumour\"\n",
    "BRE_T@meta.data$sample_type_major <- \"primary tumour\"\n",
    "\n",
    "#merge back together \n",
    "BRE <- merge(BRE_H, y = c(BRE_LN, BRE_T), project = \"GSE195861\")"
   ]
  },
  {
   "cell_type": "code",
   "execution_count": 33,
   "metadata": {
    "vscode": {
     "languageId": "r"
    }
   },
   "outputs": [],
   "source": [
    "#set cancer_subtype metadata\n",
    "\n",
    "#split by cancer_type\n",
    "BRE_D <- subset(BRE, subset = cancer_type %in% c(\"DCIS\"))\n",
    "BRE_H <- subset(BRE, subset = cancer_type %in% c(\"Healthy\"))\n",
    "BRE_I <- subset(BRE, subset = cancer_type %in% c(\"IDC\"))\n",
    "\n",
    "BRE_D@meta.data$cancer_subtype <- \"Breast DCIS\"\n",
    "BRE_H@meta.data$cancer_subtype <- \"NA\"\n",
    "BRE_I@meta.data$cancer_subtype <- \"Breast IDC\"\n",
    "\n",
    "#merge back together \n",
    "BRE <- merge(BRE_D, y = c(BRE_H, BRE_I), project = \"GSE195861\")"
   ]
  },
  {
   "cell_type": "code",
   "execution_count": 34,
   "metadata": {
    "vscode": {
     "languageId": "r"
    }
   },
   "outputs": [],
   "source": [
    "#set integration_id metadata\n",
    "BRE@meta.data$integration_id <- BRE@meta.data$sample_id"
   ]
  },
  {
   "cell_type": "code",
   "execution_count": 35,
   "metadata": {
    "vscode": {
     "languageId": "r"
    }
   },
   "outputs": [
    {
     "data": {
      "text/plain": [
       "An object of class Seurat \n",
       "33538 features across 15286 samples within 1 assay \n",
       "Active assay: RNA (33538 features, 2000 variable features)\n",
       " 44 layers present: counts.2.3.3.1, counts.3.3.3.1, counts.4.3.3.1, counts.5.3.3.1, counts.6.3.3.1, counts.7.3.3.1, counts.8.3.3.1, data.2.3.3.1, data.3.3.3.1, data.4.3.3.1, data.5.3.3.1, data.6.3.3.1, data.7.3.3.1, data.8.3.3.1, scale.data.3.3.1, counts.1.1.1.2, data.1.1.1.2, scale.data.1.1.2, counts.15.2.2.3, counts.16.2.2.3, counts.17.2.2.3, counts.18.2.2.3, counts.19.2.2.3, counts.20.2.2.3, data.15.2.2.3, data.16.2.2.3, data.17.2.2.3, data.18.2.2.3, data.19.2.2.3, data.20.2.2.3, scale.data.2.2.3, counts.10.3.3.3, counts.11.3.3.3, counts.12.3.3.3, counts.13.3.3.3, counts.14.3.3.3, counts.9.3.3.3, data.9.3.3.3, data.10.3.3.3, data.11.3.3.3, data.12.3.3.3, data.13.3.3.3, data.14.3.3.3, scale.data.3.3.3"
      ]
     },
     "metadata": {},
     "output_type": "display_data"
    },
    {
     "data": {
      "text/html": [
       "'GSE195861'"
      ],
      "text/latex": [
       "'GSE195861'"
      ],
      "text/markdown": [
       "'GSE195861'"
      ],
      "text/plain": [
       "[1] \"GSE195861\""
      ]
     },
     "metadata": {},
     "output_type": "display_data"
    },
    {
     "data": {
      "text/html": [
       "<table class=\"dataframe\">\n",
       "<caption>A data.frame: 6 × 14</caption>\n",
       "<thead>\n",
       "\t<tr><th></th><th scope=col>orig.ident</th><th scope=col>nCount_RNA</th><th scope=col>nFeature_RNA</th><th scope=col>sample_type</th><th scope=col>cancer_type</th><th scope=col>patient_id</th><th scope=col>sample_id</th><th scope=col>percent.mt</th><th scope=col>RNA_snn_res.0.2</th><th scope=col>seurat_clusters</th><th scope=col>site</th><th scope=col>sample_type_major</th><th scope=col>cancer_subtype</th><th scope=col>integration_id</th></tr>\n",
       "\t<tr><th></th><th scope=col>&lt;chr&gt;</th><th scope=col>&lt;dbl&gt;</th><th scope=col>&lt;int&gt;</th><th scope=col>&lt;chr&gt;</th><th scope=col>&lt;chr&gt;</th><th scope=col>&lt;chr&gt;</th><th scope=col>&lt;chr&gt;</th><th scope=col>&lt;dbl&gt;</th><th scope=col>&lt;chr&gt;</th><th scope=col>&lt;chr&gt;</th><th scope=col>&lt;chr&gt;</th><th scope=col>&lt;chr&gt;</th><th scope=col>&lt;chr&gt;</th><th scope=col>&lt;chr&gt;</th></tr>\n",
       "</thead>\n",
       "<tbody>\n",
       "\t<tr><th scope=row>GSE195861_DCIS_tumour_pt1_AAAGGATCAAATCAGA-1</th><td>GSE195861</td><td> 95030</td><td>7236</td><td>tumour</td><td>DCIS</td><td>pt1</td><td>GSE195861_DCIS_tumour_pt1</td><td>0.689256</td><td>4</td><td>4</td><td>breast</td><td>primary tumour</td><td>Breast DCIS</td><td>GSE195861_DCIS_tumour_pt1</td></tr>\n",
       "\t<tr><th scope=row>GSE195861_DCIS_tumour_pt1_AAATGGACAATTGCTG-1</th><td>GSE195861</td><td>116697</td><td>8039</td><td>tumour</td><td>DCIS</td><td>pt1</td><td>GSE195861_DCIS_tumour_pt1</td><td>4.363437</td><td>4</td><td>4</td><td>breast</td><td>primary tumour</td><td>Breast DCIS</td><td>GSE195861_DCIS_tumour_pt1</td></tr>\n",
       "\t<tr><th scope=row>GSE195861_DCIS_tumour_pt1_AACCTTTCAGCAATTC-1</th><td>GSE195861</td><td> 65271</td><td>7326</td><td>tumour</td><td>DCIS</td><td>pt1</td><td>GSE195861_DCIS_tumour_pt1</td><td>5.464908</td><td>4</td><td>4</td><td>breast</td><td>primary tumour</td><td>Breast DCIS</td><td>GSE195861_DCIS_tumour_pt1</td></tr>\n",
       "\t<tr><th scope=row>GSE195861_DCIS_tumour_pt1_ACAAAGACATCTTCGC-1</th><td>GSE195861</td><td> 26262</td><td>4457</td><td>tumour</td><td>DCIS</td><td>pt1</td><td>GSE195861_DCIS_tumour_pt1</td><td>8.278120</td><td>1</td><td>1</td><td>breast</td><td>primary tumour</td><td>Breast DCIS</td><td>GSE195861_DCIS_tumour_pt1</td></tr>\n",
       "\t<tr><th scope=row>GSE195861_DCIS_tumour_pt1_ACAAAGAGTGCCTATA-1</th><td>GSE195861</td><td>   862</td><td> 417</td><td>tumour</td><td>DCIS</td><td>pt1</td><td>GSE195861_DCIS_tumour_pt1</td><td>6.380510</td><td>4</td><td>4</td><td>breast</td><td>primary tumour</td><td>Breast DCIS</td><td>GSE195861_DCIS_tumour_pt1</td></tr>\n",
       "\t<tr><th scope=row>GSE195861_DCIS_tumour_pt1_ACAAGCTGTGTCATGT-1</th><td>GSE195861</td><td>  4024</td><td>1333</td><td>tumour</td><td>DCIS</td><td>pt1</td><td>GSE195861_DCIS_tumour_pt1</td><td>4.324056</td><td>4</td><td>4</td><td>breast</td><td>primary tumour</td><td>Breast DCIS</td><td>GSE195861_DCIS_tumour_pt1</td></tr>\n",
       "</tbody>\n",
       "</table>\n"
      ],
      "text/latex": [
       "A data.frame: 6 × 14\n",
       "\\begin{tabular}{r|llllllllllllll}\n",
       "  & orig.ident & nCount\\_RNA & nFeature\\_RNA & sample\\_type & cancer\\_type & patient\\_id & sample\\_id & percent.mt & RNA\\_snn\\_res.0.2 & seurat\\_clusters & site & sample\\_type\\_major & cancer\\_subtype & integration\\_id\\\\\n",
       "  & <chr> & <dbl> & <int> & <chr> & <chr> & <chr> & <chr> & <dbl> & <chr> & <chr> & <chr> & <chr> & <chr> & <chr>\\\\\n",
       "\\hline\n",
       "\tGSE195861\\_DCIS\\_tumour\\_pt1\\_AAAGGATCAAATCAGA-1 & GSE195861 &  95030 & 7236 & tumour & DCIS & pt1 & GSE195861\\_DCIS\\_tumour\\_pt1 & 0.689256 & 4 & 4 & breast & primary tumour & Breast DCIS & GSE195861\\_DCIS\\_tumour\\_pt1\\\\\n",
       "\tGSE195861\\_DCIS\\_tumour\\_pt1\\_AAATGGACAATTGCTG-1 & GSE195861 & 116697 & 8039 & tumour & DCIS & pt1 & GSE195861\\_DCIS\\_tumour\\_pt1 & 4.363437 & 4 & 4 & breast & primary tumour & Breast DCIS & GSE195861\\_DCIS\\_tumour\\_pt1\\\\\n",
       "\tGSE195861\\_DCIS\\_tumour\\_pt1\\_AACCTTTCAGCAATTC-1 & GSE195861 &  65271 & 7326 & tumour & DCIS & pt1 & GSE195861\\_DCIS\\_tumour\\_pt1 & 5.464908 & 4 & 4 & breast & primary tumour & Breast DCIS & GSE195861\\_DCIS\\_tumour\\_pt1\\\\\n",
       "\tGSE195861\\_DCIS\\_tumour\\_pt1\\_ACAAAGACATCTTCGC-1 & GSE195861 &  26262 & 4457 & tumour & DCIS & pt1 & GSE195861\\_DCIS\\_tumour\\_pt1 & 8.278120 & 1 & 1 & breast & primary tumour & Breast DCIS & GSE195861\\_DCIS\\_tumour\\_pt1\\\\\n",
       "\tGSE195861\\_DCIS\\_tumour\\_pt1\\_ACAAAGAGTGCCTATA-1 & GSE195861 &    862 &  417 & tumour & DCIS & pt1 & GSE195861\\_DCIS\\_tumour\\_pt1 & 6.380510 & 4 & 4 & breast & primary tumour & Breast DCIS & GSE195861\\_DCIS\\_tumour\\_pt1\\\\\n",
       "\tGSE195861\\_DCIS\\_tumour\\_pt1\\_ACAAGCTGTGTCATGT-1 & GSE195861 &   4024 & 1333 & tumour & DCIS & pt1 & GSE195861\\_DCIS\\_tumour\\_pt1 & 4.324056 & 4 & 4 & breast & primary tumour & Breast DCIS & GSE195861\\_DCIS\\_tumour\\_pt1\\\\\n",
       "\\end{tabular}\n"
      ],
      "text/markdown": [
       "\n",
       "A data.frame: 6 × 14\n",
       "\n",
       "| <!--/--> | orig.ident &lt;chr&gt; | nCount_RNA &lt;dbl&gt; | nFeature_RNA &lt;int&gt; | sample_type &lt;chr&gt; | cancer_type &lt;chr&gt; | patient_id &lt;chr&gt; | sample_id &lt;chr&gt; | percent.mt &lt;dbl&gt; | RNA_snn_res.0.2 &lt;chr&gt; | seurat_clusters &lt;chr&gt; | site &lt;chr&gt; | sample_type_major &lt;chr&gt; | cancer_subtype &lt;chr&gt; | integration_id &lt;chr&gt; |\n",
       "|---|---|---|---|---|---|---|---|---|---|---|---|---|---|---|\n",
       "| GSE195861_DCIS_tumour_pt1_AAAGGATCAAATCAGA-1 | GSE195861 |  95030 | 7236 | tumour | DCIS | pt1 | GSE195861_DCIS_tumour_pt1 | 0.689256 | 4 | 4 | breast | primary tumour | Breast DCIS | GSE195861_DCIS_tumour_pt1 |\n",
       "| GSE195861_DCIS_tumour_pt1_AAATGGACAATTGCTG-1 | GSE195861 | 116697 | 8039 | tumour | DCIS | pt1 | GSE195861_DCIS_tumour_pt1 | 4.363437 | 4 | 4 | breast | primary tumour | Breast DCIS | GSE195861_DCIS_tumour_pt1 |\n",
       "| GSE195861_DCIS_tumour_pt1_AACCTTTCAGCAATTC-1 | GSE195861 |  65271 | 7326 | tumour | DCIS | pt1 | GSE195861_DCIS_tumour_pt1 | 5.464908 | 4 | 4 | breast | primary tumour | Breast DCIS | GSE195861_DCIS_tumour_pt1 |\n",
       "| GSE195861_DCIS_tumour_pt1_ACAAAGACATCTTCGC-1 | GSE195861 |  26262 | 4457 | tumour | DCIS | pt1 | GSE195861_DCIS_tumour_pt1 | 8.278120 | 1 | 1 | breast | primary tumour | Breast DCIS | GSE195861_DCIS_tumour_pt1 |\n",
       "| GSE195861_DCIS_tumour_pt1_ACAAAGAGTGCCTATA-1 | GSE195861 |    862 |  417 | tumour | DCIS | pt1 | GSE195861_DCIS_tumour_pt1 | 6.380510 | 4 | 4 | breast | primary tumour | Breast DCIS | GSE195861_DCIS_tumour_pt1 |\n",
       "| GSE195861_DCIS_tumour_pt1_ACAAGCTGTGTCATGT-1 | GSE195861 |   4024 | 1333 | tumour | DCIS | pt1 | GSE195861_DCIS_tumour_pt1 | 4.324056 | 4 | 4 | breast | primary tumour | Breast DCIS | GSE195861_DCIS_tumour_pt1 |\n",
       "\n"
      ],
      "text/plain": [
       "                                             orig.ident nCount_RNA nFeature_RNA\n",
       "GSE195861_DCIS_tumour_pt1_AAAGGATCAAATCAGA-1 GSE195861   95030     7236        \n",
       "GSE195861_DCIS_tumour_pt1_AAATGGACAATTGCTG-1 GSE195861  116697     8039        \n",
       "GSE195861_DCIS_tumour_pt1_AACCTTTCAGCAATTC-1 GSE195861   65271     7326        \n",
       "GSE195861_DCIS_tumour_pt1_ACAAAGACATCTTCGC-1 GSE195861   26262     4457        \n",
       "GSE195861_DCIS_tumour_pt1_ACAAAGAGTGCCTATA-1 GSE195861     862      417        \n",
       "GSE195861_DCIS_tumour_pt1_ACAAGCTGTGTCATGT-1 GSE195861    4024     1333        \n",
       "                                             sample_type cancer_type patient_id\n",
       "GSE195861_DCIS_tumour_pt1_AAAGGATCAAATCAGA-1 tumour      DCIS        pt1       \n",
       "GSE195861_DCIS_tumour_pt1_AAATGGACAATTGCTG-1 tumour      DCIS        pt1       \n",
       "GSE195861_DCIS_tumour_pt1_AACCTTTCAGCAATTC-1 tumour      DCIS        pt1       \n",
       "GSE195861_DCIS_tumour_pt1_ACAAAGACATCTTCGC-1 tumour      DCIS        pt1       \n",
       "GSE195861_DCIS_tumour_pt1_ACAAAGAGTGCCTATA-1 tumour      DCIS        pt1       \n",
       "GSE195861_DCIS_tumour_pt1_ACAAGCTGTGTCATGT-1 tumour      DCIS        pt1       \n",
       "                                             sample_id                \n",
       "GSE195861_DCIS_tumour_pt1_AAAGGATCAAATCAGA-1 GSE195861_DCIS_tumour_pt1\n",
       "GSE195861_DCIS_tumour_pt1_AAATGGACAATTGCTG-1 GSE195861_DCIS_tumour_pt1\n",
       "GSE195861_DCIS_tumour_pt1_AACCTTTCAGCAATTC-1 GSE195861_DCIS_tumour_pt1\n",
       "GSE195861_DCIS_tumour_pt1_ACAAAGACATCTTCGC-1 GSE195861_DCIS_tumour_pt1\n",
       "GSE195861_DCIS_tumour_pt1_ACAAAGAGTGCCTATA-1 GSE195861_DCIS_tumour_pt1\n",
       "GSE195861_DCIS_tumour_pt1_ACAAGCTGTGTCATGT-1 GSE195861_DCIS_tumour_pt1\n",
       "                                             percent.mt RNA_snn_res.0.2\n",
       "GSE195861_DCIS_tumour_pt1_AAAGGATCAAATCAGA-1 0.689256   4              \n",
       "GSE195861_DCIS_tumour_pt1_AAATGGACAATTGCTG-1 4.363437   4              \n",
       "GSE195861_DCIS_tumour_pt1_AACCTTTCAGCAATTC-1 5.464908   4              \n",
       "GSE195861_DCIS_tumour_pt1_ACAAAGACATCTTCGC-1 8.278120   1              \n",
       "GSE195861_DCIS_tumour_pt1_ACAAAGAGTGCCTATA-1 6.380510   4              \n",
       "GSE195861_DCIS_tumour_pt1_ACAAGCTGTGTCATGT-1 4.324056   4              \n",
       "                                             seurat_clusters site  \n",
       "GSE195861_DCIS_tumour_pt1_AAAGGATCAAATCAGA-1 4               breast\n",
       "GSE195861_DCIS_tumour_pt1_AAATGGACAATTGCTG-1 4               breast\n",
       "GSE195861_DCIS_tumour_pt1_AACCTTTCAGCAATTC-1 4               breast\n",
       "GSE195861_DCIS_tumour_pt1_ACAAAGACATCTTCGC-1 1               breast\n",
       "GSE195861_DCIS_tumour_pt1_ACAAAGAGTGCCTATA-1 4               breast\n",
       "GSE195861_DCIS_tumour_pt1_ACAAGCTGTGTCATGT-1 4               breast\n",
       "                                             sample_type_major cancer_subtype\n",
       "GSE195861_DCIS_tumour_pt1_AAAGGATCAAATCAGA-1 primary tumour    Breast DCIS   \n",
       "GSE195861_DCIS_tumour_pt1_AAATGGACAATTGCTG-1 primary tumour    Breast DCIS   \n",
       "GSE195861_DCIS_tumour_pt1_AACCTTTCAGCAATTC-1 primary tumour    Breast DCIS   \n",
       "GSE195861_DCIS_tumour_pt1_ACAAAGACATCTTCGC-1 primary tumour    Breast DCIS   \n",
       "GSE195861_DCIS_tumour_pt1_ACAAAGAGTGCCTATA-1 primary tumour    Breast DCIS   \n",
       "GSE195861_DCIS_tumour_pt1_ACAAGCTGTGTCATGT-1 primary tumour    Breast DCIS   \n",
       "                                             integration_id           \n",
       "GSE195861_DCIS_tumour_pt1_AAAGGATCAAATCAGA-1 GSE195861_DCIS_tumour_pt1\n",
       "GSE195861_DCIS_tumour_pt1_AAATGGACAATTGCTG-1 GSE195861_DCIS_tumour_pt1\n",
       "GSE195861_DCIS_tumour_pt1_AACCTTTCAGCAATTC-1 GSE195861_DCIS_tumour_pt1\n",
       "GSE195861_DCIS_tumour_pt1_ACAAAGACATCTTCGC-1 GSE195861_DCIS_tumour_pt1\n",
       "GSE195861_DCIS_tumour_pt1_ACAAAGAGTGCCTATA-1 GSE195861_DCIS_tumour_pt1\n",
       "GSE195861_DCIS_tumour_pt1_ACAAGCTGTGTCATGT-1 GSE195861_DCIS_tumour_pt1"
      ]
     },
     "metadata": {},
     "output_type": "display_data"
    }
   ],
   "source": [
    "BRE\n",
    "BRE@project.name\n",
    "head(BRE@meta.data)"
   ]
  },
  {
   "cell_type": "code",
   "execution_count": 37,
   "metadata": {
    "vscode": {
     "languageId": "r"
    }
   },
   "outputs": [
    {
     "data": {
      "text/plain": [
       "\n",
       "GSE195861_DCIS_tumour_pt1 GSE195861_DCIS_tumour_pt2 GSE195861_DCIS_tumour_pt3 \n",
       "                       62                     10629                       432 \n",
       "GSE195861_DCIS_tumour_pt4 GSE195861_DCIS_tumour_pt5 GSE195861_DCIS_tumour_pt6 \n",
       "                      163                       705                       172 \n",
       "GSE195861_DCIS_tumour_pt7         GSE195861_Healthy GSE195861_IDC_LN-met_pt10 \n",
       "                      273                       158                       197 \n",
       "GSE195861_IDC_LN-met_pt11 GSE195861_IDC_LN-met_pt12 GSE195861_IDC_LN-met_pt13 \n",
       "                       97                       145                       155 \n",
       " GSE195861_IDC_LN-met_pt8  GSE195861_IDC_LN-met_pt9 GSE195861_IDC_tumour_pt10 \n",
       "                      240                       444                        77 \n",
       "GSE195861_IDC_tumour_pt11 GSE195861_IDC_tumour_pt12 GSE195861_IDC_tumour_pt13 \n",
       "                       34                       109                        91 \n",
       " GSE195861_IDC_tumour_pt8  GSE195861_IDC_tumour_pt9 \n",
       "                      356                       747 "
      ]
     },
     "metadata": {},
     "output_type": "display_data"
    },
    {
     "data": {
      "text/plain": [
       "\n",
       "GSE195861_DCIS_tumour_pt2 GSE195861_DCIS_tumour_pt3 GSE195861_DCIS_tumour_pt4 \n",
       "                    10629                       432                       163 \n",
       "GSE195861_DCIS_tumour_pt5 GSE195861_DCIS_tumour_pt6 GSE195861_DCIS_tumour_pt7 \n",
       "                      705                       172                       273 \n",
       "        GSE195861_Healthy GSE195861_IDC_LN-met_pt10 GSE195861_IDC_LN-met_pt12 \n",
       "                      158                       197                       145 \n",
       "GSE195861_IDC_LN-met_pt13  GSE195861_IDC_LN-met_pt8  GSE195861_IDC_LN-met_pt9 \n",
       "                      155                       240                       444 \n",
       "GSE195861_IDC_tumour_pt12  GSE195861_IDC_tumour_pt8  GSE195861_IDC_tumour_pt9 \n",
       "                      109                       356                       747 "
      ]
     },
     "metadata": {},
     "output_type": "display_data"
    }
   ],
   "source": [
    "#exclude any samples with <100 cells\n",
    "table(BRE$integration_id)\n",
    "#exclude GSE195861_DCIS_tumour_pt1, GSE195861_IDC_LN-met_pt11, GSE195861_IDC_tumour_pt10, GSE195861_IDC_tumour_pt11, GSE195861_IDC_tumour_pt13\n",
    "BRE <- subset(BRE, !(subset = integration_id %in% c(\"GSE195861_DCIS_tumour_pt1\",\"GSE195861_IDC_LN-met_pt11\",\"GSE195861_IDC_tumour_pt10\",\"GSE195861_IDC_tumour_pt11\",\"GSE195861_IDC_tumour_pt13\")))\n",
    "table(BRE$integration_id)"
   ]
  },
  {
   "cell_type": "code",
   "execution_count": 38,
   "metadata": {
    "vscode": {
     "languageId": "r"
    }
   },
   "outputs": [
    {
     "data": {
      "text/html": [
       "<style>\n",
       ".list-inline {list-style: none; margin:0; padding: 0}\n",
       ".list-inline>li {display: inline-block}\n",
       ".list-inline>li:not(:last-child)::after {content: \"\\00b7\"; padding: 0 .5ex}\n",
       "</style>\n",
       "<ol class=list-inline><li>'counts.3.3.3.1'</li><li>'counts.4.3.3.1'</li><li>'counts.5.3.3.1'</li><li>'counts.6.3.3.1'</li><li>'counts.7.3.3.1'</li><li>'counts.8.3.3.1'</li><li>'data.3.3.3.1'</li><li>'data.4.3.3.1'</li><li>'data.5.3.3.1'</li><li>'data.6.3.3.1'</li><li>'data.7.3.3.1'</li><li>'data.8.3.3.1'</li><li>'scale.data.3.3.1'</li><li>'counts.1.1.1.2'</li><li>'data.1.1.1.2'</li><li>'scale.data.1.1.2'</li><li>'counts.15.2.2.3'</li><li>'counts.16.2.2.3'</li><li>'counts.17.2.2.3'</li><li>'counts.19.2.2.3'</li><li>'counts.20.2.2.3'</li><li>'data.15.2.2.3'</li><li>'data.16.2.2.3'</li><li>'data.17.2.2.3'</li><li>'data.19.2.2.3'</li><li>'data.20.2.2.3'</li><li>'scale.data.2.2.3'</li><li>'counts.10.3.3.3'</li><li>'counts.13.3.3.3'</li><li>'counts.9.3.3.3'</li><li>'data.9.3.3.3'</li><li>'data.10.3.3.3'</li><li>'data.13.3.3.3'</li><li>'scale.data.3.3.3'</li></ol>\n"
      ],
      "text/latex": [
       "\\begin{enumerate*}\n",
       "\\item 'counts.3.3.3.1'\n",
       "\\item 'counts.4.3.3.1'\n",
       "\\item 'counts.5.3.3.1'\n",
       "\\item 'counts.6.3.3.1'\n",
       "\\item 'counts.7.3.3.1'\n",
       "\\item 'counts.8.3.3.1'\n",
       "\\item 'data.3.3.3.1'\n",
       "\\item 'data.4.3.3.1'\n",
       "\\item 'data.5.3.3.1'\n",
       "\\item 'data.6.3.3.1'\n",
       "\\item 'data.7.3.3.1'\n",
       "\\item 'data.8.3.3.1'\n",
       "\\item 'scale.data.3.3.1'\n",
       "\\item 'counts.1.1.1.2'\n",
       "\\item 'data.1.1.1.2'\n",
       "\\item 'scale.data.1.1.2'\n",
       "\\item 'counts.15.2.2.3'\n",
       "\\item 'counts.16.2.2.3'\n",
       "\\item 'counts.17.2.2.3'\n",
       "\\item 'counts.19.2.2.3'\n",
       "\\item 'counts.20.2.2.3'\n",
       "\\item 'data.15.2.2.3'\n",
       "\\item 'data.16.2.2.3'\n",
       "\\item 'data.17.2.2.3'\n",
       "\\item 'data.19.2.2.3'\n",
       "\\item 'data.20.2.2.3'\n",
       "\\item 'scale.data.2.2.3'\n",
       "\\item 'counts.10.3.3.3'\n",
       "\\item 'counts.13.3.3.3'\n",
       "\\item 'counts.9.3.3.3'\n",
       "\\item 'data.9.3.3.3'\n",
       "\\item 'data.10.3.3.3'\n",
       "\\item 'data.13.3.3.3'\n",
       "\\item 'scale.data.3.3.3'\n",
       "\\end{enumerate*}\n"
      ],
      "text/markdown": [
       "1. 'counts.3.3.3.1'\n",
       "2. 'counts.4.3.3.1'\n",
       "3. 'counts.5.3.3.1'\n",
       "4. 'counts.6.3.3.1'\n",
       "5. 'counts.7.3.3.1'\n",
       "6. 'counts.8.3.3.1'\n",
       "7. 'data.3.3.3.1'\n",
       "8. 'data.4.3.3.1'\n",
       "9. 'data.5.3.3.1'\n",
       "10. 'data.6.3.3.1'\n",
       "11. 'data.7.3.3.1'\n",
       "12. 'data.8.3.3.1'\n",
       "13. 'scale.data.3.3.1'\n",
       "14. 'counts.1.1.1.2'\n",
       "15. 'data.1.1.1.2'\n",
       "16. 'scale.data.1.1.2'\n",
       "17. 'counts.15.2.2.3'\n",
       "18. 'counts.16.2.2.3'\n",
       "19. 'counts.17.2.2.3'\n",
       "20. 'counts.19.2.2.3'\n",
       "21. 'counts.20.2.2.3'\n",
       "22. 'data.15.2.2.3'\n",
       "23. 'data.16.2.2.3'\n",
       "24. 'data.17.2.2.3'\n",
       "25. 'data.19.2.2.3'\n",
       "26. 'data.20.2.2.3'\n",
       "27. 'scale.data.2.2.3'\n",
       "28. 'counts.10.3.3.3'\n",
       "29. 'counts.13.3.3.3'\n",
       "30. 'counts.9.3.3.3'\n",
       "31. 'data.9.3.3.3'\n",
       "32. 'data.10.3.3.3'\n",
       "33. 'data.13.3.3.3'\n",
       "34. 'scale.data.3.3.3'\n",
       "\n",
       "\n"
      ],
      "text/plain": [
       " [1] \"counts.3.3.3.1\"   \"counts.4.3.3.1\"   \"counts.5.3.3.1\"   \"counts.6.3.3.1\"  \n",
       " [5] \"counts.7.3.3.1\"   \"counts.8.3.3.1\"   \"data.3.3.3.1\"     \"data.4.3.3.1\"    \n",
       " [9] \"data.5.3.3.1\"     \"data.6.3.3.1\"     \"data.7.3.3.1\"     \"data.8.3.3.1\"    \n",
       "[13] \"scale.data.3.3.1\" \"counts.1.1.1.2\"   \"data.1.1.1.2\"     \"scale.data.1.1.2\"\n",
       "[17] \"counts.15.2.2.3\"  \"counts.16.2.2.3\"  \"counts.17.2.2.3\"  \"counts.19.2.2.3\" \n",
       "[21] \"counts.20.2.2.3\"  \"data.15.2.2.3\"    \"data.16.2.2.3\"    \"data.17.2.2.3\"   \n",
       "[25] \"data.19.2.2.3\"    \"data.20.2.2.3\"    \"scale.data.2.2.3\" \"counts.10.3.3.3\" \n",
       "[29] \"counts.13.3.3.3\"  \"counts.9.3.3.3\"   \"data.9.3.3.3\"     \"data.10.3.3.3\"   \n",
       "[33] \"data.13.3.3.3\"    \"scale.data.3.3.3\""
      ]
     },
     "metadata": {},
     "output_type": "display_data"
    },
    {
     "data": {
      "text/html": [
       "<style>\n",
       ".list-inline {list-style: none; margin:0; padding: 0}\n",
       ".list-inline>li {display: inline-block}\n",
       ".list-inline>li:not(:last-child)::after {content: \"\\00b7\"; padding: 0 .5ex}\n",
       "</style>\n",
       "<ol class=list-inline><li>'scale.data'</li><li>'data'</li><li>'counts'</li></ol>\n"
      ],
      "text/latex": [
       "\\begin{enumerate*}\n",
       "\\item 'scale.data'\n",
       "\\item 'data'\n",
       "\\item 'counts'\n",
       "\\end{enumerate*}\n"
      ],
      "text/markdown": [
       "1. 'scale.data'\n",
       "2. 'data'\n",
       "3. 'counts'\n",
       "\n",
       "\n"
      ],
      "text/plain": [
       "[1] \"scale.data\" \"data\"       \"counts\"    "
      ]
     },
     "metadata": {},
     "output_type": "display_data"
    },
    {
     "name": "stderr",
     "output_type": "stream",
     "text": [
      "Splitting ‘counts’, ‘data’ layers. Not splitting ‘scale.data’. If you would like to split other layers, set in `layers` argument.\n",
      "\n"
     ]
    },
    {
     "data": {
      "text/html": [
       "<style>\n",
       ".list-inline {list-style: none; margin:0; padding: 0}\n",
       ".list-inline>li {display: inline-block}\n",
       ".list-inline>li:not(:last-child)::after {content: \"\\00b7\"; padding: 0 .5ex}\n",
       "</style>\n",
       "<ol class=list-inline><li>'counts.GSE195861_DCIS_tumour_pt2'</li><li>'counts.GSE195861_DCIS_tumour_pt3'</li><li>'counts.GSE195861_DCIS_tumour_pt4'</li><li>'counts.GSE195861_DCIS_tumour_pt5'</li><li>'counts.GSE195861_DCIS_tumour_pt6'</li><li>'counts.GSE195861_DCIS_tumour_pt7'</li><li>'counts.GSE195861_Healthy'</li><li>'counts.GSE195861_IDC_LN-met_pt8'</li><li>'counts.GSE195861_IDC_LN-met_pt9'</li><li>'counts.GSE195861_IDC_LN-met_pt10'</li><li>'counts.GSE195861_IDC_LN-met_pt12'</li><li>'counts.GSE195861_IDC_LN-met_pt13'</li><li>'counts.GSE195861_IDC_tumour_pt8'</li><li>'counts.GSE195861_IDC_tumour_pt9'</li><li>'counts.GSE195861_IDC_tumour_pt12'</li><li>'scale.data'</li><li>'data.GSE195861_DCIS_tumour_pt2'</li><li>'data.GSE195861_DCIS_tumour_pt3'</li><li>'data.GSE195861_DCIS_tumour_pt4'</li><li>'data.GSE195861_DCIS_tumour_pt5'</li><li>'data.GSE195861_DCIS_tumour_pt6'</li><li>'data.GSE195861_DCIS_tumour_pt7'</li><li>'data.GSE195861_Healthy'</li><li>'data.GSE195861_IDC_LN-met_pt8'</li><li>'data.GSE195861_IDC_LN-met_pt9'</li><li>'data.GSE195861_IDC_LN-met_pt10'</li><li>'data.GSE195861_IDC_LN-met_pt12'</li><li>'data.GSE195861_IDC_LN-met_pt13'</li><li>'data.GSE195861_IDC_tumour_pt8'</li><li>'data.GSE195861_IDC_tumour_pt9'</li><li>'data.GSE195861_IDC_tumour_pt12'</li></ol>\n"
      ],
      "text/latex": [
       "\\begin{enumerate*}\n",
       "\\item 'counts.GSE195861\\_DCIS\\_tumour\\_pt2'\n",
       "\\item 'counts.GSE195861\\_DCIS\\_tumour\\_pt3'\n",
       "\\item 'counts.GSE195861\\_DCIS\\_tumour\\_pt4'\n",
       "\\item 'counts.GSE195861\\_DCIS\\_tumour\\_pt5'\n",
       "\\item 'counts.GSE195861\\_DCIS\\_tumour\\_pt6'\n",
       "\\item 'counts.GSE195861\\_DCIS\\_tumour\\_pt7'\n",
       "\\item 'counts.GSE195861\\_Healthy'\n",
       "\\item 'counts.GSE195861\\_IDC\\_LN-met\\_pt8'\n",
       "\\item 'counts.GSE195861\\_IDC\\_LN-met\\_pt9'\n",
       "\\item 'counts.GSE195861\\_IDC\\_LN-met\\_pt10'\n",
       "\\item 'counts.GSE195861\\_IDC\\_LN-met\\_pt12'\n",
       "\\item 'counts.GSE195861\\_IDC\\_LN-met\\_pt13'\n",
       "\\item 'counts.GSE195861\\_IDC\\_tumour\\_pt8'\n",
       "\\item 'counts.GSE195861\\_IDC\\_tumour\\_pt9'\n",
       "\\item 'counts.GSE195861\\_IDC\\_tumour\\_pt12'\n",
       "\\item 'scale.data'\n",
       "\\item 'data.GSE195861\\_DCIS\\_tumour\\_pt2'\n",
       "\\item 'data.GSE195861\\_DCIS\\_tumour\\_pt3'\n",
       "\\item 'data.GSE195861\\_DCIS\\_tumour\\_pt4'\n",
       "\\item 'data.GSE195861\\_DCIS\\_tumour\\_pt5'\n",
       "\\item 'data.GSE195861\\_DCIS\\_tumour\\_pt6'\n",
       "\\item 'data.GSE195861\\_DCIS\\_tumour\\_pt7'\n",
       "\\item 'data.GSE195861\\_Healthy'\n",
       "\\item 'data.GSE195861\\_IDC\\_LN-met\\_pt8'\n",
       "\\item 'data.GSE195861\\_IDC\\_LN-met\\_pt9'\n",
       "\\item 'data.GSE195861\\_IDC\\_LN-met\\_pt10'\n",
       "\\item 'data.GSE195861\\_IDC\\_LN-met\\_pt12'\n",
       "\\item 'data.GSE195861\\_IDC\\_LN-met\\_pt13'\n",
       "\\item 'data.GSE195861\\_IDC\\_tumour\\_pt8'\n",
       "\\item 'data.GSE195861\\_IDC\\_tumour\\_pt9'\n",
       "\\item 'data.GSE195861\\_IDC\\_tumour\\_pt12'\n",
       "\\end{enumerate*}\n"
      ],
      "text/markdown": [
       "1. 'counts.GSE195861_DCIS_tumour_pt2'\n",
       "2. 'counts.GSE195861_DCIS_tumour_pt3'\n",
       "3. 'counts.GSE195861_DCIS_tumour_pt4'\n",
       "4. 'counts.GSE195861_DCIS_tumour_pt5'\n",
       "5. 'counts.GSE195861_DCIS_tumour_pt6'\n",
       "6. 'counts.GSE195861_DCIS_tumour_pt7'\n",
       "7. 'counts.GSE195861_Healthy'\n",
       "8. 'counts.GSE195861_IDC_LN-met_pt8'\n",
       "9. 'counts.GSE195861_IDC_LN-met_pt9'\n",
       "10. 'counts.GSE195861_IDC_LN-met_pt10'\n",
       "11. 'counts.GSE195861_IDC_LN-met_pt12'\n",
       "12. 'counts.GSE195861_IDC_LN-met_pt13'\n",
       "13. 'counts.GSE195861_IDC_tumour_pt8'\n",
       "14. 'counts.GSE195861_IDC_tumour_pt9'\n",
       "15. 'counts.GSE195861_IDC_tumour_pt12'\n",
       "16. 'scale.data'\n",
       "17. 'data.GSE195861_DCIS_tumour_pt2'\n",
       "18. 'data.GSE195861_DCIS_tumour_pt3'\n",
       "19. 'data.GSE195861_DCIS_tumour_pt4'\n",
       "20. 'data.GSE195861_DCIS_tumour_pt5'\n",
       "21. 'data.GSE195861_DCIS_tumour_pt6'\n",
       "22. 'data.GSE195861_DCIS_tumour_pt7'\n",
       "23. 'data.GSE195861_Healthy'\n",
       "24. 'data.GSE195861_IDC_LN-met_pt8'\n",
       "25. 'data.GSE195861_IDC_LN-met_pt9'\n",
       "26. 'data.GSE195861_IDC_LN-met_pt10'\n",
       "27. 'data.GSE195861_IDC_LN-met_pt12'\n",
       "28. 'data.GSE195861_IDC_LN-met_pt13'\n",
       "29. 'data.GSE195861_IDC_tumour_pt8'\n",
       "30. 'data.GSE195861_IDC_tumour_pt9'\n",
       "31. 'data.GSE195861_IDC_tumour_pt12'\n",
       "\n",
       "\n"
      ],
      "text/plain": [
       " [1] \"counts.GSE195861_DCIS_tumour_pt2\" \"counts.GSE195861_DCIS_tumour_pt3\"\n",
       " [3] \"counts.GSE195861_DCIS_tumour_pt4\" \"counts.GSE195861_DCIS_tumour_pt5\"\n",
       " [5] \"counts.GSE195861_DCIS_tumour_pt6\" \"counts.GSE195861_DCIS_tumour_pt7\"\n",
       " [7] \"counts.GSE195861_Healthy\"         \"counts.GSE195861_IDC_LN-met_pt8\" \n",
       " [9] \"counts.GSE195861_IDC_LN-met_pt9\"  \"counts.GSE195861_IDC_LN-met_pt10\"\n",
       "[11] \"counts.GSE195861_IDC_LN-met_pt12\" \"counts.GSE195861_IDC_LN-met_pt13\"\n",
       "[13] \"counts.GSE195861_IDC_tumour_pt8\"  \"counts.GSE195861_IDC_tumour_pt9\" \n",
       "[15] \"counts.GSE195861_IDC_tumour_pt12\" \"scale.data\"                      \n",
       "[17] \"data.GSE195861_DCIS_tumour_pt2\"   \"data.GSE195861_DCIS_tumour_pt3\"  \n",
       "[19] \"data.GSE195861_DCIS_tumour_pt4\"   \"data.GSE195861_DCIS_tumour_pt5\"  \n",
       "[21] \"data.GSE195861_DCIS_tumour_pt6\"   \"data.GSE195861_DCIS_tumour_pt7\"  \n",
       "[23] \"data.GSE195861_Healthy\"           \"data.GSE195861_IDC_LN-met_pt8\"   \n",
       "[25] \"data.GSE195861_IDC_LN-met_pt9\"    \"data.GSE195861_IDC_LN-met_pt10\"  \n",
       "[27] \"data.GSE195861_IDC_LN-met_pt12\"   \"data.GSE195861_IDC_LN-met_pt13\"  \n",
       "[29] \"data.GSE195861_IDC_tumour_pt8\"    \"data.GSE195861_IDC_tumour_pt9\"   \n",
       "[31] \"data.GSE195861_IDC_tumour_pt12\"  "
      ]
     },
     "metadata": {},
     "output_type": "display_data"
    }
   ],
   "source": [
    "#join layers and then split them by integration_id\n",
    "Layers(BRE[[\"RNA\"]])\n",
    "#join layers\n",
    "BRE[[\"RNA\"]] <- JoinLayers(BRE[[\"RNA\"]])\n",
    "Layers(BRE[[\"RNA\"]])\n",
    "#split layers\n",
    "BRE[[\"RNA\"]] <- split(BRE[[\"RNA\"]], f = BRE$integration_id)\n",
    "Layers(BRE[[\"RNA\"]])\n"
   ]
  },
  {
   "cell_type": "code",
   "execution_count": 39,
   "metadata": {
    "vscode": {
     "languageId": "r"
    }
   },
   "outputs": [
    {
     "data": {
      "text/plain": [
       "\n",
       "GSE195861_DCIS_tumour_pt2 GSE195861_DCIS_tumour_pt3 GSE195861_DCIS_tumour_pt4 \n",
       "                    10629                       432                       163 \n",
       "GSE195861_DCIS_tumour_pt5 GSE195861_DCIS_tumour_pt6 GSE195861_DCIS_tumour_pt7 \n",
       "                      705                       172                       273 \n",
       "        GSE195861_Healthy GSE195861_IDC_LN-met_pt10 GSE195861_IDC_LN-met_pt12 \n",
       "                      158                       197                       145 \n",
       "GSE195861_IDC_LN-met_pt13  GSE195861_IDC_LN-met_pt8  GSE195861_IDC_LN-met_pt9 \n",
       "                      155                       240                       444 \n",
       "GSE195861_IDC_tumour_pt12  GSE195861_IDC_tumour_pt8  GSE195861_IDC_tumour_pt9 \n",
       "                      109                       356                       747 "
      ]
     },
     "metadata": {},
     "output_type": "display_data"
    },
    {
     "data": {
      "text/plain": [
       "An object of class Seurat \n",
       "33538 features across 14925 samples within 1 assay \n",
       "Active assay: RNA (33538 features, 2000 variable features)\n",
       " 31 layers present: counts.GSE195861_DCIS_tumour_pt2, counts.GSE195861_DCIS_tumour_pt3, counts.GSE195861_DCIS_tumour_pt4, counts.GSE195861_DCIS_tumour_pt5, counts.GSE195861_DCIS_tumour_pt6, counts.GSE195861_DCIS_tumour_pt7, counts.GSE195861_Healthy, counts.GSE195861_IDC_LN-met_pt8, counts.GSE195861_IDC_LN-met_pt9, counts.GSE195861_IDC_LN-met_pt10, counts.GSE195861_IDC_LN-met_pt12, counts.GSE195861_IDC_LN-met_pt13, counts.GSE195861_IDC_tumour_pt8, counts.GSE195861_IDC_tumour_pt9, counts.GSE195861_IDC_tumour_pt12, scale.data, data.GSE195861_DCIS_tumour_pt2, data.GSE195861_DCIS_tumour_pt3, data.GSE195861_DCIS_tumour_pt4, data.GSE195861_DCIS_tumour_pt5, data.GSE195861_DCIS_tumour_pt6, data.GSE195861_DCIS_tumour_pt7, data.GSE195861_Healthy, data.GSE195861_IDC_LN-met_pt8, data.GSE195861_IDC_LN-met_pt9, data.GSE195861_IDC_LN-met_pt10, data.GSE195861_IDC_LN-met_pt12, data.GSE195861_IDC_LN-met_pt13, data.GSE195861_IDC_tumour_pt8, data.GSE195861_IDC_tumour_pt9, data.GSE195861_IDC_tumour_pt12"
      ]
     },
     "metadata": {},
     "output_type": "display_data"
    }
   ],
   "source": [
    "#record number of cells\n",
    "table(BRE$integration_id)\n",
    "BRE"
   ]
  },
  {
   "cell_type": "code",
   "execution_count": 40,
   "metadata": {
    "vscode": {
     "languageId": "r"
    }
   },
   "outputs": [],
   "source": [
    "#re-export seurat object ready for integration\n",
    "saveRDS(BRE, \"/scratch/user/s4436039/scdata/Myeloid_Cells/Myeloid_Cells_Integrate/GSE195861_myeloid_int.RDS\")"
   ]
  },
  {
   "cell_type": "code",
   "execution_count": 41,
   "metadata": {
    "vscode": {
     "languageId": "r"
    }
   },
   "outputs": [],
   "source": [
    "#remove all objects in R\n",
    "rm(list = ls())"
   ]
  },
  {
   "cell_type": "markdown",
   "metadata": {},
   "source": [
    "## GSE199515 "
   ]
  },
  {
   "cell_type": "code",
   "execution_count": 3,
   "metadata": {
    "vscode": {
     "languageId": "r"
    }
   },
   "outputs": [],
   "source": [
    "BRE <- readRDS(\"/scratch/user/s4436039/scdata/Myeloid_Cells/GSE199515_myeloid.RDS\")"
   ]
  },
  {
   "cell_type": "code",
   "execution_count": 4,
   "metadata": {
    "vscode": {
     "languageId": "r"
    }
   },
   "outputs": [
    {
     "data": {
      "text/plain": [
       "An object of class Seurat \n",
       "33694 features across 499 samples within 1 assay \n",
       "Active assay: RNA (33694 features, 2000 variable features)\n",
       " 7 layers present: counts.1, counts.2, counts.3, data.1, data.2, data.3, scale.data\n",
       " 2 dimensional reductions calculated: pca, umap"
      ]
     },
     "metadata": {},
     "output_type": "display_data"
    },
    {
     "data": {
      "text/html": [
       "'GSE199515'"
      ],
      "text/latex": [
       "'GSE199515'"
      ],
      "text/markdown": [
       "'GSE199515'"
      ],
      "text/plain": [
       "[1] \"GSE199515\""
      ]
     },
     "metadata": {},
     "output_type": "display_data"
    },
    {
     "data": {
      "text/html": [
       "<table class=\"dataframe\">\n",
       "<caption>A data.frame: 6 × 10</caption>\n",
       "<thead>\n",
       "\t<tr><th></th><th scope=col>orig.ident</th><th scope=col>nCount_RNA</th><th scope=col>nFeature_RNA</th><th scope=col>sample_type</th><th scope=col>cancer_type</th><th scope=col>patient_id</th><th scope=col>sample_id</th><th scope=col>percent.mt</th><th scope=col>RNA_snn_res.0.2</th><th scope=col>seurat_clusters</th></tr>\n",
       "\t<tr><th></th><th scope=col>&lt;chr&gt;</th><th scope=col>&lt;dbl&gt;</th><th scope=col>&lt;int&gt;</th><th scope=col>&lt;chr&gt;</th><th scope=col>&lt;chr&gt;</th><th scope=col>&lt;chr&gt;</th><th scope=col>&lt;chr&gt;</th><th scope=col>&lt;dbl&gt;</th><th scope=col>&lt;fct&gt;</th><th scope=col>&lt;fct&gt;</th></tr>\n",
       "</thead>\n",
       "<tbody>\n",
       "\t<tr><th scope=row>GSE199515_TNBC1_AAACCTGCACGGATAG-1</th><td>GSE199515</td><td>3229</td><td>1175</td><td>tumour</td><td>TNBC</td><td>TNBC1</td><td>GSE199515_TNBC1</td><td> 1.982038</td><td>6</td><td>6</td></tr>\n",
       "\t<tr><th scope=row>GSE199515_TNBC1_AAACGGGTCGTAGGTT-1</th><td>GSE199515</td><td>3356</td><td>1058</td><td>tumour</td><td>TNBC</td><td>TNBC1</td><td>GSE199515_TNBC1</td><td> 2.532777</td><td>6</td><td>6</td></tr>\n",
       "\t<tr><th scope=row>GSE199515_TNBC1_AAAGATGTCATTGCGA-1</th><td>GSE199515</td><td>4532</td><td>1215</td><td>tumour</td><td>TNBC</td><td>TNBC1</td><td>GSE199515_TNBC1</td><td> 2.250662</td><td>6</td><td>6</td></tr>\n",
       "\t<tr><th scope=row>GSE199515_TNBC1_AACTCCCAGTAATCCC-1</th><td>GSE199515</td><td>4175</td><td> 999</td><td>tumour</td><td>TNBC</td><td>TNBC1</td><td>GSE199515_TNBC1</td><td> 3.664671</td><td>6</td><td>6</td></tr>\n",
       "\t<tr><th scope=row>GSE199515_TNBC1_AACTCCCTCTCTGTCG-1</th><td>GSE199515</td><td>2921</td><td> 908</td><td>tumour</td><td>TNBC</td><td>TNBC1</td><td>GSE199515_TNBC1</td><td>11.982198</td><td>6</td><td>6</td></tr>\n",
       "\t<tr><th scope=row>GSE199515_TNBC1_AAGGAGCGTTCCGTCT-1</th><td>GSE199515</td><td>3657</td><td>1308</td><td>tumour</td><td>TNBC</td><td>TNBC1</td><td>GSE199515_TNBC1</td><td> 3.773585</td><td>6</td><td>6</td></tr>\n",
       "</tbody>\n",
       "</table>\n"
      ],
      "text/latex": [
       "A data.frame: 6 × 10\n",
       "\\begin{tabular}{r|llllllllll}\n",
       "  & orig.ident & nCount\\_RNA & nFeature\\_RNA & sample\\_type & cancer\\_type & patient\\_id & sample\\_id & percent.mt & RNA\\_snn\\_res.0.2 & seurat\\_clusters\\\\\n",
       "  & <chr> & <dbl> & <int> & <chr> & <chr> & <chr> & <chr> & <dbl> & <fct> & <fct>\\\\\n",
       "\\hline\n",
       "\tGSE199515\\_TNBC1\\_AAACCTGCACGGATAG-1 & GSE199515 & 3229 & 1175 & tumour & TNBC & TNBC1 & GSE199515\\_TNBC1 &  1.982038 & 6 & 6\\\\\n",
       "\tGSE199515\\_TNBC1\\_AAACGGGTCGTAGGTT-1 & GSE199515 & 3356 & 1058 & tumour & TNBC & TNBC1 & GSE199515\\_TNBC1 &  2.532777 & 6 & 6\\\\\n",
       "\tGSE199515\\_TNBC1\\_AAAGATGTCATTGCGA-1 & GSE199515 & 4532 & 1215 & tumour & TNBC & TNBC1 & GSE199515\\_TNBC1 &  2.250662 & 6 & 6\\\\\n",
       "\tGSE199515\\_TNBC1\\_AACTCCCAGTAATCCC-1 & GSE199515 & 4175 &  999 & tumour & TNBC & TNBC1 & GSE199515\\_TNBC1 &  3.664671 & 6 & 6\\\\\n",
       "\tGSE199515\\_TNBC1\\_AACTCCCTCTCTGTCG-1 & GSE199515 & 2921 &  908 & tumour & TNBC & TNBC1 & GSE199515\\_TNBC1 & 11.982198 & 6 & 6\\\\\n",
       "\tGSE199515\\_TNBC1\\_AAGGAGCGTTCCGTCT-1 & GSE199515 & 3657 & 1308 & tumour & TNBC & TNBC1 & GSE199515\\_TNBC1 &  3.773585 & 6 & 6\\\\\n",
       "\\end{tabular}\n"
      ],
      "text/markdown": [
       "\n",
       "A data.frame: 6 × 10\n",
       "\n",
       "| <!--/--> | orig.ident &lt;chr&gt; | nCount_RNA &lt;dbl&gt; | nFeature_RNA &lt;int&gt; | sample_type &lt;chr&gt; | cancer_type &lt;chr&gt; | patient_id &lt;chr&gt; | sample_id &lt;chr&gt; | percent.mt &lt;dbl&gt; | RNA_snn_res.0.2 &lt;fct&gt; | seurat_clusters &lt;fct&gt; |\n",
       "|---|---|---|---|---|---|---|---|---|---|---|\n",
       "| GSE199515_TNBC1_AAACCTGCACGGATAG-1 | GSE199515 | 3229 | 1175 | tumour | TNBC | TNBC1 | GSE199515_TNBC1 |  1.982038 | 6 | 6 |\n",
       "| GSE199515_TNBC1_AAACGGGTCGTAGGTT-1 | GSE199515 | 3356 | 1058 | tumour | TNBC | TNBC1 | GSE199515_TNBC1 |  2.532777 | 6 | 6 |\n",
       "| GSE199515_TNBC1_AAAGATGTCATTGCGA-1 | GSE199515 | 4532 | 1215 | tumour | TNBC | TNBC1 | GSE199515_TNBC1 |  2.250662 | 6 | 6 |\n",
       "| GSE199515_TNBC1_AACTCCCAGTAATCCC-1 | GSE199515 | 4175 |  999 | tumour | TNBC | TNBC1 | GSE199515_TNBC1 |  3.664671 | 6 | 6 |\n",
       "| GSE199515_TNBC1_AACTCCCTCTCTGTCG-1 | GSE199515 | 2921 |  908 | tumour | TNBC | TNBC1 | GSE199515_TNBC1 | 11.982198 | 6 | 6 |\n",
       "| GSE199515_TNBC1_AAGGAGCGTTCCGTCT-1 | GSE199515 | 3657 | 1308 | tumour | TNBC | TNBC1 | GSE199515_TNBC1 |  3.773585 | 6 | 6 |\n",
       "\n"
      ],
      "text/plain": [
       "                                   orig.ident nCount_RNA nFeature_RNA\n",
       "GSE199515_TNBC1_AAACCTGCACGGATAG-1 GSE199515  3229       1175        \n",
       "GSE199515_TNBC1_AAACGGGTCGTAGGTT-1 GSE199515  3356       1058        \n",
       "GSE199515_TNBC1_AAAGATGTCATTGCGA-1 GSE199515  4532       1215        \n",
       "GSE199515_TNBC1_AACTCCCAGTAATCCC-1 GSE199515  4175        999        \n",
       "GSE199515_TNBC1_AACTCCCTCTCTGTCG-1 GSE199515  2921        908        \n",
       "GSE199515_TNBC1_AAGGAGCGTTCCGTCT-1 GSE199515  3657       1308        \n",
       "                                   sample_type cancer_type patient_id\n",
       "GSE199515_TNBC1_AAACCTGCACGGATAG-1 tumour      TNBC        TNBC1     \n",
       "GSE199515_TNBC1_AAACGGGTCGTAGGTT-1 tumour      TNBC        TNBC1     \n",
       "GSE199515_TNBC1_AAAGATGTCATTGCGA-1 tumour      TNBC        TNBC1     \n",
       "GSE199515_TNBC1_AACTCCCAGTAATCCC-1 tumour      TNBC        TNBC1     \n",
       "GSE199515_TNBC1_AACTCCCTCTCTGTCG-1 tumour      TNBC        TNBC1     \n",
       "GSE199515_TNBC1_AAGGAGCGTTCCGTCT-1 tumour      TNBC        TNBC1     \n",
       "                                   sample_id       percent.mt RNA_snn_res.0.2\n",
       "GSE199515_TNBC1_AAACCTGCACGGATAG-1 GSE199515_TNBC1  1.982038  6              \n",
       "GSE199515_TNBC1_AAACGGGTCGTAGGTT-1 GSE199515_TNBC1  2.532777  6              \n",
       "GSE199515_TNBC1_AAAGATGTCATTGCGA-1 GSE199515_TNBC1  2.250662  6              \n",
       "GSE199515_TNBC1_AACTCCCAGTAATCCC-1 GSE199515_TNBC1  3.664671  6              \n",
       "GSE199515_TNBC1_AACTCCCTCTCTGTCG-1 GSE199515_TNBC1 11.982198  6              \n",
       "GSE199515_TNBC1_AAGGAGCGTTCCGTCT-1 GSE199515_TNBC1  3.773585  6              \n",
       "                                   seurat_clusters\n",
       "GSE199515_TNBC1_AAACCTGCACGGATAG-1 6              \n",
       "GSE199515_TNBC1_AAACGGGTCGTAGGTT-1 6              \n",
       "GSE199515_TNBC1_AAAGATGTCATTGCGA-1 6              \n",
       "GSE199515_TNBC1_AACTCCCAGTAATCCC-1 6              \n",
       "GSE199515_TNBC1_AACTCCCTCTCTGTCG-1 6              \n",
       "GSE199515_TNBC1_AAGGAGCGTTCCGTCT-1 6              "
      ]
     },
     "metadata": {},
     "output_type": "display_data"
    }
   ],
   "source": [
    "BRE\n",
    "BRE@project.name\n",
    "head(BRE@meta.data)"
   ]
  },
  {
   "cell_type": "code",
   "execution_count": 5,
   "metadata": {
    "vscode": {
     "languageId": "r"
    }
   },
   "outputs": [
    {
     "data": {
      "text/plain": [
       "\n",
       "tumour \n",
       "   499 "
      ]
     },
     "metadata": {},
     "output_type": "display_data"
    },
    {
     "data": {
      "text/plain": [
       "\n",
       "TNBC \n",
       " 499 "
      ]
     },
     "metadata": {},
     "output_type": "display_data"
    },
    {
     "data": {
      "text/plain": [
       "\n",
       "TNBC1 TNBC2 TNBC3 \n",
       "  301    64   134 "
      ]
     },
     "metadata": {},
     "output_type": "display_data"
    },
    {
     "data": {
      "text/plain": [
       "\n",
       "GSE199515_TNBC1 GSE199515_TNBC2 GSE199515_TNBC3 \n",
       "            301              64             134 "
      ]
     },
     "metadata": {},
     "output_type": "display_data"
    }
   ],
   "source": [
    "table(BRE$sample_type)\n",
    "table(BRE$cancer_type)\n",
    "table(BRE$patient_id)\n",
    "table(BRE$sample_id)"
   ]
  },
  {
   "cell_type": "code",
   "execution_count": 6,
   "metadata": {
    "vscode": {
     "languageId": "r"
    }
   },
   "outputs": [],
   "source": [
    "#set site metadata\n",
    "BRE@meta.data$site <- \"breast\"\n",
    "#set sample_type_major metadata\n",
    "BRE@meta.data$sample_type_major <- \"primary tumour\"\n",
    "#set cancer_subtype metadata\n",
    "BRE@meta.data$cancer_subtype <- \"TNBC\"\n",
    "#set integration_id metadata\n",
    "BRE@meta.data$integration_id <- BRE@meta.data$sample_id"
   ]
  },
  {
   "cell_type": "code",
   "execution_count": 7,
   "metadata": {
    "vscode": {
     "languageId": "r"
    }
   },
   "outputs": [
    {
     "data": {
      "text/plain": [
       "An object of class Seurat \n",
       "33694 features across 499 samples within 1 assay \n",
       "Active assay: RNA (33694 features, 2000 variable features)\n",
       " 7 layers present: counts.1, counts.2, counts.3, data.1, data.2, data.3, scale.data\n",
       " 2 dimensional reductions calculated: pca, umap"
      ]
     },
     "metadata": {},
     "output_type": "display_data"
    },
    {
     "data": {
      "text/html": [
       "'GSE199515'"
      ],
      "text/latex": [
       "'GSE199515'"
      ],
      "text/markdown": [
       "'GSE199515'"
      ],
      "text/plain": [
       "[1] \"GSE199515\""
      ]
     },
     "metadata": {},
     "output_type": "display_data"
    },
    {
     "data": {
      "text/html": [
       "<table class=\"dataframe\">\n",
       "<caption>A data.frame: 6 × 14</caption>\n",
       "<thead>\n",
       "\t<tr><th></th><th scope=col>orig.ident</th><th scope=col>nCount_RNA</th><th scope=col>nFeature_RNA</th><th scope=col>sample_type</th><th scope=col>cancer_type</th><th scope=col>patient_id</th><th scope=col>sample_id</th><th scope=col>percent.mt</th><th scope=col>RNA_snn_res.0.2</th><th scope=col>seurat_clusters</th><th scope=col>site</th><th scope=col>sample_type_major</th><th scope=col>cancer_subtype</th><th scope=col>integration_id</th></tr>\n",
       "\t<tr><th></th><th scope=col>&lt;chr&gt;</th><th scope=col>&lt;dbl&gt;</th><th scope=col>&lt;int&gt;</th><th scope=col>&lt;chr&gt;</th><th scope=col>&lt;chr&gt;</th><th scope=col>&lt;chr&gt;</th><th scope=col>&lt;chr&gt;</th><th scope=col>&lt;dbl&gt;</th><th scope=col>&lt;fct&gt;</th><th scope=col>&lt;fct&gt;</th><th scope=col>&lt;chr&gt;</th><th scope=col>&lt;chr&gt;</th><th scope=col>&lt;chr&gt;</th><th scope=col>&lt;chr&gt;</th></tr>\n",
       "</thead>\n",
       "<tbody>\n",
       "\t<tr><th scope=row>GSE199515_TNBC1_AAACCTGCACGGATAG-1</th><td>GSE199515</td><td>3229</td><td>1175</td><td>tumour</td><td>TNBC</td><td>TNBC1</td><td>GSE199515_TNBC1</td><td> 1.982038</td><td>6</td><td>6</td><td>breast</td><td>primary tumour</td><td>TNBC</td><td>GSE199515_TNBC1</td></tr>\n",
       "\t<tr><th scope=row>GSE199515_TNBC1_AAACGGGTCGTAGGTT-1</th><td>GSE199515</td><td>3356</td><td>1058</td><td>tumour</td><td>TNBC</td><td>TNBC1</td><td>GSE199515_TNBC1</td><td> 2.532777</td><td>6</td><td>6</td><td>breast</td><td>primary tumour</td><td>TNBC</td><td>GSE199515_TNBC1</td></tr>\n",
       "\t<tr><th scope=row>GSE199515_TNBC1_AAAGATGTCATTGCGA-1</th><td>GSE199515</td><td>4532</td><td>1215</td><td>tumour</td><td>TNBC</td><td>TNBC1</td><td>GSE199515_TNBC1</td><td> 2.250662</td><td>6</td><td>6</td><td>breast</td><td>primary tumour</td><td>TNBC</td><td>GSE199515_TNBC1</td></tr>\n",
       "\t<tr><th scope=row>GSE199515_TNBC1_AACTCCCAGTAATCCC-1</th><td>GSE199515</td><td>4175</td><td> 999</td><td>tumour</td><td>TNBC</td><td>TNBC1</td><td>GSE199515_TNBC1</td><td> 3.664671</td><td>6</td><td>6</td><td>breast</td><td>primary tumour</td><td>TNBC</td><td>GSE199515_TNBC1</td></tr>\n",
       "\t<tr><th scope=row>GSE199515_TNBC1_AACTCCCTCTCTGTCG-1</th><td>GSE199515</td><td>2921</td><td> 908</td><td>tumour</td><td>TNBC</td><td>TNBC1</td><td>GSE199515_TNBC1</td><td>11.982198</td><td>6</td><td>6</td><td>breast</td><td>primary tumour</td><td>TNBC</td><td>GSE199515_TNBC1</td></tr>\n",
       "\t<tr><th scope=row>GSE199515_TNBC1_AAGGAGCGTTCCGTCT-1</th><td>GSE199515</td><td>3657</td><td>1308</td><td>tumour</td><td>TNBC</td><td>TNBC1</td><td>GSE199515_TNBC1</td><td> 3.773585</td><td>6</td><td>6</td><td>breast</td><td>primary tumour</td><td>TNBC</td><td>GSE199515_TNBC1</td></tr>\n",
       "</tbody>\n",
       "</table>\n"
      ],
      "text/latex": [
       "A data.frame: 6 × 14\n",
       "\\begin{tabular}{r|llllllllllllll}\n",
       "  & orig.ident & nCount\\_RNA & nFeature\\_RNA & sample\\_type & cancer\\_type & patient\\_id & sample\\_id & percent.mt & RNA\\_snn\\_res.0.2 & seurat\\_clusters & site & sample\\_type\\_major & cancer\\_subtype & integration\\_id\\\\\n",
       "  & <chr> & <dbl> & <int> & <chr> & <chr> & <chr> & <chr> & <dbl> & <fct> & <fct> & <chr> & <chr> & <chr> & <chr>\\\\\n",
       "\\hline\n",
       "\tGSE199515\\_TNBC1\\_AAACCTGCACGGATAG-1 & GSE199515 & 3229 & 1175 & tumour & TNBC & TNBC1 & GSE199515\\_TNBC1 &  1.982038 & 6 & 6 & breast & primary tumour & TNBC & GSE199515\\_TNBC1\\\\\n",
       "\tGSE199515\\_TNBC1\\_AAACGGGTCGTAGGTT-1 & GSE199515 & 3356 & 1058 & tumour & TNBC & TNBC1 & GSE199515\\_TNBC1 &  2.532777 & 6 & 6 & breast & primary tumour & TNBC & GSE199515\\_TNBC1\\\\\n",
       "\tGSE199515\\_TNBC1\\_AAAGATGTCATTGCGA-1 & GSE199515 & 4532 & 1215 & tumour & TNBC & TNBC1 & GSE199515\\_TNBC1 &  2.250662 & 6 & 6 & breast & primary tumour & TNBC & GSE199515\\_TNBC1\\\\\n",
       "\tGSE199515\\_TNBC1\\_AACTCCCAGTAATCCC-1 & GSE199515 & 4175 &  999 & tumour & TNBC & TNBC1 & GSE199515\\_TNBC1 &  3.664671 & 6 & 6 & breast & primary tumour & TNBC & GSE199515\\_TNBC1\\\\\n",
       "\tGSE199515\\_TNBC1\\_AACTCCCTCTCTGTCG-1 & GSE199515 & 2921 &  908 & tumour & TNBC & TNBC1 & GSE199515\\_TNBC1 & 11.982198 & 6 & 6 & breast & primary tumour & TNBC & GSE199515\\_TNBC1\\\\\n",
       "\tGSE199515\\_TNBC1\\_AAGGAGCGTTCCGTCT-1 & GSE199515 & 3657 & 1308 & tumour & TNBC & TNBC1 & GSE199515\\_TNBC1 &  3.773585 & 6 & 6 & breast & primary tumour & TNBC & GSE199515\\_TNBC1\\\\\n",
       "\\end{tabular}\n"
      ],
      "text/markdown": [
       "\n",
       "A data.frame: 6 × 14\n",
       "\n",
       "| <!--/--> | orig.ident &lt;chr&gt; | nCount_RNA &lt;dbl&gt; | nFeature_RNA &lt;int&gt; | sample_type &lt;chr&gt; | cancer_type &lt;chr&gt; | patient_id &lt;chr&gt; | sample_id &lt;chr&gt; | percent.mt &lt;dbl&gt; | RNA_snn_res.0.2 &lt;fct&gt; | seurat_clusters &lt;fct&gt; | site &lt;chr&gt; | sample_type_major &lt;chr&gt; | cancer_subtype &lt;chr&gt; | integration_id &lt;chr&gt; |\n",
       "|---|---|---|---|---|---|---|---|---|---|---|---|---|---|---|\n",
       "| GSE199515_TNBC1_AAACCTGCACGGATAG-1 | GSE199515 | 3229 | 1175 | tumour | TNBC | TNBC1 | GSE199515_TNBC1 |  1.982038 | 6 | 6 | breast | primary tumour | TNBC | GSE199515_TNBC1 |\n",
       "| GSE199515_TNBC1_AAACGGGTCGTAGGTT-1 | GSE199515 | 3356 | 1058 | tumour | TNBC | TNBC1 | GSE199515_TNBC1 |  2.532777 | 6 | 6 | breast | primary tumour | TNBC | GSE199515_TNBC1 |\n",
       "| GSE199515_TNBC1_AAAGATGTCATTGCGA-1 | GSE199515 | 4532 | 1215 | tumour | TNBC | TNBC1 | GSE199515_TNBC1 |  2.250662 | 6 | 6 | breast | primary tumour | TNBC | GSE199515_TNBC1 |\n",
       "| GSE199515_TNBC1_AACTCCCAGTAATCCC-1 | GSE199515 | 4175 |  999 | tumour | TNBC | TNBC1 | GSE199515_TNBC1 |  3.664671 | 6 | 6 | breast | primary tumour | TNBC | GSE199515_TNBC1 |\n",
       "| GSE199515_TNBC1_AACTCCCTCTCTGTCG-1 | GSE199515 | 2921 |  908 | tumour | TNBC | TNBC1 | GSE199515_TNBC1 | 11.982198 | 6 | 6 | breast | primary tumour | TNBC | GSE199515_TNBC1 |\n",
       "| GSE199515_TNBC1_AAGGAGCGTTCCGTCT-1 | GSE199515 | 3657 | 1308 | tumour | TNBC | TNBC1 | GSE199515_TNBC1 |  3.773585 | 6 | 6 | breast | primary tumour | TNBC | GSE199515_TNBC1 |\n",
       "\n"
      ],
      "text/plain": [
       "                                   orig.ident nCount_RNA nFeature_RNA\n",
       "GSE199515_TNBC1_AAACCTGCACGGATAG-1 GSE199515  3229       1175        \n",
       "GSE199515_TNBC1_AAACGGGTCGTAGGTT-1 GSE199515  3356       1058        \n",
       "GSE199515_TNBC1_AAAGATGTCATTGCGA-1 GSE199515  4532       1215        \n",
       "GSE199515_TNBC1_AACTCCCAGTAATCCC-1 GSE199515  4175        999        \n",
       "GSE199515_TNBC1_AACTCCCTCTCTGTCG-1 GSE199515  2921        908        \n",
       "GSE199515_TNBC1_AAGGAGCGTTCCGTCT-1 GSE199515  3657       1308        \n",
       "                                   sample_type cancer_type patient_id\n",
       "GSE199515_TNBC1_AAACCTGCACGGATAG-1 tumour      TNBC        TNBC1     \n",
       "GSE199515_TNBC1_AAACGGGTCGTAGGTT-1 tumour      TNBC        TNBC1     \n",
       "GSE199515_TNBC1_AAAGATGTCATTGCGA-1 tumour      TNBC        TNBC1     \n",
       "GSE199515_TNBC1_AACTCCCAGTAATCCC-1 tumour      TNBC        TNBC1     \n",
       "GSE199515_TNBC1_AACTCCCTCTCTGTCG-1 tumour      TNBC        TNBC1     \n",
       "GSE199515_TNBC1_AAGGAGCGTTCCGTCT-1 tumour      TNBC        TNBC1     \n",
       "                                   sample_id       percent.mt RNA_snn_res.0.2\n",
       "GSE199515_TNBC1_AAACCTGCACGGATAG-1 GSE199515_TNBC1  1.982038  6              \n",
       "GSE199515_TNBC1_AAACGGGTCGTAGGTT-1 GSE199515_TNBC1  2.532777  6              \n",
       "GSE199515_TNBC1_AAAGATGTCATTGCGA-1 GSE199515_TNBC1  2.250662  6              \n",
       "GSE199515_TNBC1_AACTCCCAGTAATCCC-1 GSE199515_TNBC1  3.664671  6              \n",
       "GSE199515_TNBC1_AACTCCCTCTCTGTCG-1 GSE199515_TNBC1 11.982198  6              \n",
       "GSE199515_TNBC1_AAGGAGCGTTCCGTCT-1 GSE199515_TNBC1  3.773585  6              \n",
       "                                   seurat_clusters site   sample_type_major\n",
       "GSE199515_TNBC1_AAACCTGCACGGATAG-1 6               breast primary tumour   \n",
       "GSE199515_TNBC1_AAACGGGTCGTAGGTT-1 6               breast primary tumour   \n",
       "GSE199515_TNBC1_AAAGATGTCATTGCGA-1 6               breast primary tumour   \n",
       "GSE199515_TNBC1_AACTCCCAGTAATCCC-1 6               breast primary tumour   \n",
       "GSE199515_TNBC1_AACTCCCTCTCTGTCG-1 6               breast primary tumour   \n",
       "GSE199515_TNBC1_AAGGAGCGTTCCGTCT-1 6               breast primary tumour   \n",
       "                                   cancer_subtype integration_id \n",
       "GSE199515_TNBC1_AAACCTGCACGGATAG-1 TNBC           GSE199515_TNBC1\n",
       "GSE199515_TNBC1_AAACGGGTCGTAGGTT-1 TNBC           GSE199515_TNBC1\n",
       "GSE199515_TNBC1_AAAGATGTCATTGCGA-1 TNBC           GSE199515_TNBC1\n",
       "GSE199515_TNBC1_AACTCCCAGTAATCCC-1 TNBC           GSE199515_TNBC1\n",
       "GSE199515_TNBC1_AACTCCCTCTCTGTCG-1 TNBC           GSE199515_TNBC1\n",
       "GSE199515_TNBC1_AAGGAGCGTTCCGTCT-1 TNBC           GSE199515_TNBC1"
      ]
     },
     "metadata": {},
     "output_type": "display_data"
    }
   ],
   "source": [
    "BRE\n",
    "BRE@project.name\n",
    "head(BRE@meta.data)"
   ]
  },
  {
   "cell_type": "code",
   "execution_count": 9,
   "metadata": {
    "vscode": {
     "languageId": "r"
    }
   },
   "outputs": [
    {
     "data": {
      "text/plain": [
       "\n",
       "GSE199515_TNBC1 GSE199515_TNBC2 GSE199515_TNBC3 \n",
       "            301              64             134 "
      ]
     },
     "metadata": {},
     "output_type": "display_data"
    },
    {
     "data": {
      "text/plain": [
       "\n",
       "GSE199515_TNBC1 GSE199515_TNBC3 \n",
       "            301             134 "
      ]
     },
     "metadata": {},
     "output_type": "display_data"
    }
   ],
   "source": [
    "#exclude any samples with <100 cells\n",
    "table(BRE$integration_id)\n",
    "#exclude TNBC2\n",
    "BRE <- subset(BRE, !(subset = integration_id %in% c(\"GSE199515_TNBC2\")))\n",
    "table(BRE$integration_id)"
   ]
  },
  {
   "cell_type": "code",
   "execution_count": 10,
   "metadata": {
    "vscode": {
     "languageId": "r"
    }
   },
   "outputs": [
    {
     "data": {
      "text/html": [
       "<style>\n",
       ".list-inline {list-style: none; margin:0; padding: 0}\n",
       ".list-inline>li {display: inline-block}\n",
       ".list-inline>li:not(:last-child)::after {content: \"\\00b7\"; padding: 0 .5ex}\n",
       "</style>\n",
       "<ol class=list-inline><li>'counts.1'</li><li>'counts.3'</li><li>'data.1'</li><li>'data.3'</li><li>'scale.data'</li></ol>\n"
      ],
      "text/latex": [
       "\\begin{enumerate*}\n",
       "\\item 'counts.1'\n",
       "\\item 'counts.3'\n",
       "\\item 'data.1'\n",
       "\\item 'data.3'\n",
       "\\item 'scale.data'\n",
       "\\end{enumerate*}\n"
      ],
      "text/markdown": [
       "1. 'counts.1'\n",
       "2. 'counts.3'\n",
       "3. 'data.1'\n",
       "4. 'data.3'\n",
       "5. 'scale.data'\n",
       "\n",
       "\n"
      ],
      "text/plain": [
       "[1] \"counts.1\"   \"counts.3\"   \"data.1\"     \"data.3\"     \"scale.data\""
      ]
     },
     "metadata": {},
     "output_type": "display_data"
    },
    {
     "data": {
      "text/html": [
       "<style>\n",
       ".list-inline {list-style: none; margin:0; padding: 0}\n",
       ".list-inline>li {display: inline-block}\n",
       ".list-inline>li:not(:last-child)::after {content: \"\\00b7\"; padding: 0 .5ex}\n",
       "</style>\n",
       "<ol class=list-inline><li>'data'</li><li>'counts'</li><li>'scale.data'</li></ol>\n"
      ],
      "text/latex": [
       "\\begin{enumerate*}\n",
       "\\item 'data'\n",
       "\\item 'counts'\n",
       "\\item 'scale.data'\n",
       "\\end{enumerate*}\n"
      ],
      "text/markdown": [
       "1. 'data'\n",
       "2. 'counts'\n",
       "3. 'scale.data'\n",
       "\n",
       "\n"
      ],
      "text/plain": [
       "[1] \"data\"       \"counts\"     \"scale.data\""
      ]
     },
     "metadata": {},
     "output_type": "display_data"
    },
    {
     "name": "stderr",
     "output_type": "stream",
     "text": [
      "Splitting ‘counts’, ‘data’ layers. Not splitting ‘scale.data’. If you would like to split other layers, set in `layers` argument.\n",
      "\n"
     ]
    },
    {
     "data": {
      "text/html": [
       "<style>\n",
       ".list-inline {list-style: none; margin:0; padding: 0}\n",
       ".list-inline>li {display: inline-block}\n",
       ".list-inline>li:not(:last-child)::after {content: \"\\00b7\"; padding: 0 .5ex}\n",
       "</style>\n",
       "<ol class=list-inline><li>'data.GSE199515_TNBC1'</li><li>'data.GSE199515_TNBC3'</li><li>'scale.data'</li><li>'counts.GSE199515_TNBC1'</li><li>'counts.GSE199515_TNBC3'</li></ol>\n"
      ],
      "text/latex": [
       "\\begin{enumerate*}\n",
       "\\item 'data.GSE199515\\_TNBC1'\n",
       "\\item 'data.GSE199515\\_TNBC3'\n",
       "\\item 'scale.data'\n",
       "\\item 'counts.GSE199515\\_TNBC1'\n",
       "\\item 'counts.GSE199515\\_TNBC3'\n",
       "\\end{enumerate*}\n"
      ],
      "text/markdown": [
       "1. 'data.GSE199515_TNBC1'\n",
       "2. 'data.GSE199515_TNBC3'\n",
       "3. 'scale.data'\n",
       "4. 'counts.GSE199515_TNBC1'\n",
       "5. 'counts.GSE199515_TNBC3'\n",
       "\n",
       "\n"
      ],
      "text/plain": [
       "[1] \"data.GSE199515_TNBC1\"   \"data.GSE199515_TNBC3\"   \"scale.data\"            \n",
       "[4] \"counts.GSE199515_TNBC1\" \"counts.GSE199515_TNBC3\""
      ]
     },
     "metadata": {},
     "output_type": "display_data"
    }
   ],
   "source": [
    "#join layers and then split them by integration_id\n",
    "Layers(BRE[[\"RNA\"]])\n",
    "#join layers\n",
    "BRE[[\"RNA\"]] <- JoinLayers(BRE[[\"RNA\"]])\n",
    "Layers(BRE[[\"RNA\"]])\n",
    "#split layers\n",
    "BRE[[\"RNA\"]] <- split(BRE[[\"RNA\"]], f = BRE$integration_id)\n",
    "Layers(BRE[[\"RNA\"]])\n"
   ]
  },
  {
   "cell_type": "code",
   "execution_count": 11,
   "metadata": {
    "vscode": {
     "languageId": "r"
    }
   },
   "outputs": [
    {
     "data": {
      "text/plain": [
       "\n",
       "GSE199515_TNBC1 GSE199515_TNBC3 \n",
       "            301             134 "
      ]
     },
     "metadata": {},
     "output_type": "display_data"
    },
    {
     "data": {
      "text/plain": [
       "An object of class Seurat \n",
       "33694 features across 435 samples within 1 assay \n",
       "Active assay: RNA (33694 features, 2000 variable features)\n",
       " 5 layers present: data.GSE199515_TNBC1, data.GSE199515_TNBC3, scale.data, counts.GSE199515_TNBC1, counts.GSE199515_TNBC3\n",
       " 2 dimensional reductions calculated: pca, umap"
      ]
     },
     "metadata": {},
     "output_type": "display_data"
    }
   ],
   "source": [
    "#record number of cells\n",
    "table(BRE$integration_id)\n",
    "BRE"
   ]
  },
  {
   "cell_type": "code",
   "execution_count": 12,
   "metadata": {
    "vscode": {
     "languageId": "r"
    }
   },
   "outputs": [],
   "source": [
    "#re-export seurat object ready for integration\n",
    "saveRDS(BRE, \"/scratch/user/s4436039/scdata/Myeloid_Cells/Myeloid_Cells_Integrate/GSE199515_myeloid_int.RDS\")"
   ]
  },
  {
   "cell_type": "code",
   "execution_count": 13,
   "metadata": {
    "vscode": {
     "languageId": "r"
    }
   },
   "outputs": [],
   "source": [
    "#remove all objects in R\n",
    "rm(list = ls())"
   ]
  },
  {
   "cell_type": "markdown",
   "metadata": {},
   "source": [
    "## GSE225600"
   ]
  },
  {
   "cell_type": "code",
   "execution_count": 14,
   "metadata": {
    "vscode": {
     "languageId": "r"
    }
   },
   "outputs": [],
   "source": [
    "BRE <- readRDS(\"/scratch/user/s4436039/scdata/Myeloid_Cells/GSE225600_myeloid.RDS\")"
   ]
  },
  {
   "cell_type": "code",
   "execution_count": 15,
   "metadata": {
    "vscode": {
     "languageId": "r"
    }
   },
   "outputs": [
    {
     "data": {
      "text/plain": [
       "An object of class Seurat \n",
       "36601 features across 2135 samples within 1 assay \n",
       "Active assay: RNA (36601 features, 2000 variable features)\n",
       " 17 layers present: counts.1, counts.2, counts.3, counts.4, counts.5, counts.6, counts.7, counts.8, data.1, data.2, data.3, data.4, data.5, data.6, data.7, data.8, scale.data\n",
       " 2 dimensional reductions calculated: pca, umap"
      ]
     },
     "metadata": {},
     "output_type": "display_data"
    },
    {
     "data": {
      "text/html": [
       "'GSE225600'"
      ],
      "text/latex": [
       "'GSE225600'"
      ],
      "text/markdown": [
       "'GSE225600'"
      ],
      "text/plain": [
       "[1] \"GSE225600\""
      ]
     },
     "metadata": {},
     "output_type": "display_data"
    },
    {
     "data": {
      "text/html": [
       "<table class=\"dataframe\">\n",
       "<caption>A data.frame: 6 × 11</caption>\n",
       "<thead>\n",
       "\t<tr><th></th><th scope=col>orig.ident</th><th scope=col>nCount_RNA</th><th scope=col>nFeature_RNA</th><th scope=col>cancer_type</th><th scope=col>sample_meta</th><th scope=col>sample_type</th><th scope=col>patient_id</th><th scope=col>sample_id</th><th scope=col>percent.mt</th><th scope=col>RNA_snn_res.0.2</th><th scope=col>seurat_clusters</th></tr>\n",
       "\t<tr><th></th><th scope=col>&lt;chr&gt;</th><th scope=col>&lt;dbl&gt;</th><th scope=col>&lt;int&gt;</th><th scope=col>&lt;chr&gt;</th><th scope=col>&lt;chr&gt;</th><th scope=col>&lt;chr&gt;</th><th scope=col>&lt;chr&gt;</th><th scope=col>&lt;chr&gt;</th><th scope=col>&lt;dbl&gt;</th><th scope=col>&lt;fct&gt;</th><th scope=col>&lt;fct&gt;</th></tr>\n",
       "</thead>\n",
       "<tbody>\n",
       "\t<tr><th scope=row>GSE225600_LN_mets_pt2_AAAGGATCAATGAAAC-L2</th><td>GSE225600</td><td>1343</td><td>616</td><td>breast cancer</td><td>L2</td><td>LN mets</td><td>pt2</td><td>GSE225600_BC_LN_mets_pt2</td><td> 5.807893</td><td>8</td><td>8</td></tr>\n",
       "\t<tr><th scope=row>GSE225600_LN_mets_pt2_AAAGTGATCAATCGGT-L2</th><td>GSE225600</td><td> 579</td><td>439</td><td>breast cancer</td><td>L2</td><td>LN mets</td><td>pt2</td><td>GSE225600_BC_LN_mets_pt2</td><td> 2.417962</td><td>8</td><td>8</td></tr>\n",
       "\t<tr><th scope=row>GSE225600_LN_mets_pt2_AACAACCAGCAAGCCA-L2</th><td>GSE225600</td><td> 621</td><td>443</td><td>breast cancer</td><td>L2</td><td>LN mets</td><td>pt2</td><td>GSE225600_BC_LN_mets_pt2</td><td> 4.186795</td><td>8</td><td>8</td></tr>\n",
       "\t<tr><th scope=row>GSE225600_LN_mets_pt2_AACACACTCTAATTCC-L2</th><td>GSE225600</td><td>1096</td><td>680</td><td>breast cancer</td><td>L2</td><td>LN mets</td><td>pt2</td><td>GSE225600_BC_LN_mets_pt2</td><td> 4.379562</td><td>8</td><td>8</td></tr>\n",
       "\t<tr><th scope=row>GSE225600_LN_mets_pt2_AACCATGCAACCACGC-L2</th><td>GSE225600</td><td> 407</td><td>294</td><td>breast cancer</td><td>L2</td><td>LN mets</td><td>pt2</td><td>GSE225600_BC_LN_mets_pt2</td><td>13.267813</td><td>8</td><td>8</td></tr>\n",
       "\t<tr><th scope=row>GSE225600_LN_mets_pt2_AACCCAAAGTAGTCAA-L2</th><td>GSE225600</td><td> 606</td><td>279</td><td>breast cancer</td><td>L2</td><td>LN mets</td><td>pt2</td><td>GSE225600_BC_LN_mets_pt2</td><td>42.574257</td><td>8</td><td>8</td></tr>\n",
       "</tbody>\n",
       "</table>\n"
      ],
      "text/latex": [
       "A data.frame: 6 × 11\n",
       "\\begin{tabular}{r|lllllllllll}\n",
       "  & orig.ident & nCount\\_RNA & nFeature\\_RNA & cancer\\_type & sample\\_meta & sample\\_type & patient\\_id & sample\\_id & percent.mt & RNA\\_snn\\_res.0.2 & seurat\\_clusters\\\\\n",
       "  & <chr> & <dbl> & <int> & <chr> & <chr> & <chr> & <chr> & <chr> & <dbl> & <fct> & <fct>\\\\\n",
       "\\hline\n",
       "\tGSE225600\\_LN\\_mets\\_pt2\\_AAAGGATCAATGAAAC-L2 & GSE225600 & 1343 & 616 & breast cancer & L2 & LN mets & pt2 & GSE225600\\_BC\\_LN\\_mets\\_pt2 &  5.807893 & 8 & 8\\\\\n",
       "\tGSE225600\\_LN\\_mets\\_pt2\\_AAAGTGATCAATCGGT-L2 & GSE225600 &  579 & 439 & breast cancer & L2 & LN mets & pt2 & GSE225600\\_BC\\_LN\\_mets\\_pt2 &  2.417962 & 8 & 8\\\\\n",
       "\tGSE225600\\_LN\\_mets\\_pt2\\_AACAACCAGCAAGCCA-L2 & GSE225600 &  621 & 443 & breast cancer & L2 & LN mets & pt2 & GSE225600\\_BC\\_LN\\_mets\\_pt2 &  4.186795 & 8 & 8\\\\\n",
       "\tGSE225600\\_LN\\_mets\\_pt2\\_AACACACTCTAATTCC-L2 & GSE225600 & 1096 & 680 & breast cancer & L2 & LN mets & pt2 & GSE225600\\_BC\\_LN\\_mets\\_pt2 &  4.379562 & 8 & 8\\\\\n",
       "\tGSE225600\\_LN\\_mets\\_pt2\\_AACCATGCAACCACGC-L2 & GSE225600 &  407 & 294 & breast cancer & L2 & LN mets & pt2 & GSE225600\\_BC\\_LN\\_mets\\_pt2 & 13.267813 & 8 & 8\\\\\n",
       "\tGSE225600\\_LN\\_mets\\_pt2\\_AACCCAAAGTAGTCAA-L2 & GSE225600 &  606 & 279 & breast cancer & L2 & LN mets & pt2 & GSE225600\\_BC\\_LN\\_mets\\_pt2 & 42.574257 & 8 & 8\\\\\n",
       "\\end{tabular}\n"
      ],
      "text/markdown": [
       "\n",
       "A data.frame: 6 × 11\n",
       "\n",
       "| <!--/--> | orig.ident &lt;chr&gt; | nCount_RNA &lt;dbl&gt; | nFeature_RNA &lt;int&gt; | cancer_type &lt;chr&gt; | sample_meta &lt;chr&gt; | sample_type &lt;chr&gt; | patient_id &lt;chr&gt; | sample_id &lt;chr&gt; | percent.mt &lt;dbl&gt; | RNA_snn_res.0.2 &lt;fct&gt; | seurat_clusters &lt;fct&gt; |\n",
       "|---|---|---|---|---|---|---|---|---|---|---|---|\n",
       "| GSE225600_LN_mets_pt2_AAAGGATCAATGAAAC-L2 | GSE225600 | 1343 | 616 | breast cancer | L2 | LN mets | pt2 | GSE225600_BC_LN_mets_pt2 |  5.807893 | 8 | 8 |\n",
       "| GSE225600_LN_mets_pt2_AAAGTGATCAATCGGT-L2 | GSE225600 |  579 | 439 | breast cancer | L2 | LN mets | pt2 | GSE225600_BC_LN_mets_pt2 |  2.417962 | 8 | 8 |\n",
       "| GSE225600_LN_mets_pt2_AACAACCAGCAAGCCA-L2 | GSE225600 |  621 | 443 | breast cancer | L2 | LN mets | pt2 | GSE225600_BC_LN_mets_pt2 |  4.186795 | 8 | 8 |\n",
       "| GSE225600_LN_mets_pt2_AACACACTCTAATTCC-L2 | GSE225600 | 1096 | 680 | breast cancer | L2 | LN mets | pt2 | GSE225600_BC_LN_mets_pt2 |  4.379562 | 8 | 8 |\n",
       "| GSE225600_LN_mets_pt2_AACCATGCAACCACGC-L2 | GSE225600 |  407 | 294 | breast cancer | L2 | LN mets | pt2 | GSE225600_BC_LN_mets_pt2 | 13.267813 | 8 | 8 |\n",
       "| GSE225600_LN_mets_pt2_AACCCAAAGTAGTCAA-L2 | GSE225600 |  606 | 279 | breast cancer | L2 | LN mets | pt2 | GSE225600_BC_LN_mets_pt2 | 42.574257 | 8 | 8 |\n",
       "\n"
      ],
      "text/plain": [
       "                                          orig.ident nCount_RNA nFeature_RNA\n",
       "GSE225600_LN_mets_pt2_AAAGGATCAATGAAAC-L2 GSE225600  1343       616         \n",
       "GSE225600_LN_mets_pt2_AAAGTGATCAATCGGT-L2 GSE225600   579       439         \n",
       "GSE225600_LN_mets_pt2_AACAACCAGCAAGCCA-L2 GSE225600   621       443         \n",
       "GSE225600_LN_mets_pt2_AACACACTCTAATTCC-L2 GSE225600  1096       680         \n",
       "GSE225600_LN_mets_pt2_AACCATGCAACCACGC-L2 GSE225600   407       294         \n",
       "GSE225600_LN_mets_pt2_AACCCAAAGTAGTCAA-L2 GSE225600   606       279         \n",
       "                                          cancer_type   sample_meta sample_type\n",
       "GSE225600_LN_mets_pt2_AAAGGATCAATGAAAC-L2 breast cancer L2          LN mets    \n",
       "GSE225600_LN_mets_pt2_AAAGTGATCAATCGGT-L2 breast cancer L2          LN mets    \n",
       "GSE225600_LN_mets_pt2_AACAACCAGCAAGCCA-L2 breast cancer L2          LN mets    \n",
       "GSE225600_LN_mets_pt2_AACACACTCTAATTCC-L2 breast cancer L2          LN mets    \n",
       "GSE225600_LN_mets_pt2_AACCATGCAACCACGC-L2 breast cancer L2          LN mets    \n",
       "GSE225600_LN_mets_pt2_AACCCAAAGTAGTCAA-L2 breast cancer L2          LN mets    \n",
       "                                          patient_id sample_id               \n",
       "GSE225600_LN_mets_pt2_AAAGGATCAATGAAAC-L2 pt2        GSE225600_BC_LN_mets_pt2\n",
       "GSE225600_LN_mets_pt2_AAAGTGATCAATCGGT-L2 pt2        GSE225600_BC_LN_mets_pt2\n",
       "GSE225600_LN_mets_pt2_AACAACCAGCAAGCCA-L2 pt2        GSE225600_BC_LN_mets_pt2\n",
       "GSE225600_LN_mets_pt2_AACACACTCTAATTCC-L2 pt2        GSE225600_BC_LN_mets_pt2\n",
       "GSE225600_LN_mets_pt2_AACCATGCAACCACGC-L2 pt2        GSE225600_BC_LN_mets_pt2\n",
       "GSE225600_LN_mets_pt2_AACCCAAAGTAGTCAA-L2 pt2        GSE225600_BC_LN_mets_pt2\n",
       "                                          percent.mt RNA_snn_res.0.2\n",
       "GSE225600_LN_mets_pt2_AAAGGATCAATGAAAC-L2  5.807893  8              \n",
       "GSE225600_LN_mets_pt2_AAAGTGATCAATCGGT-L2  2.417962  8              \n",
       "GSE225600_LN_mets_pt2_AACAACCAGCAAGCCA-L2  4.186795  8              \n",
       "GSE225600_LN_mets_pt2_AACACACTCTAATTCC-L2  4.379562  8              \n",
       "GSE225600_LN_mets_pt2_AACCATGCAACCACGC-L2 13.267813  8              \n",
       "GSE225600_LN_mets_pt2_AACCCAAAGTAGTCAA-L2 42.574257  8              \n",
       "                                          seurat_clusters\n",
       "GSE225600_LN_mets_pt2_AAAGGATCAATGAAAC-L2 8              \n",
       "GSE225600_LN_mets_pt2_AAAGTGATCAATCGGT-L2 8              \n",
       "GSE225600_LN_mets_pt2_AACAACCAGCAAGCCA-L2 8              \n",
       "GSE225600_LN_mets_pt2_AACACACTCTAATTCC-L2 8              \n",
       "GSE225600_LN_mets_pt2_AACCATGCAACCACGC-L2 8              \n",
       "GSE225600_LN_mets_pt2_AACCCAAAGTAGTCAA-L2 8              "
      ]
     },
     "metadata": {},
     "output_type": "display_data"
    }
   ],
   "source": [
    "BRE\n",
    "BRE@project.name\n",
    "head(BRE@meta.data)"
   ]
  },
  {
   "cell_type": "code",
   "execution_count": 16,
   "metadata": {
    "vscode": {
     "languageId": "r"
    }
   },
   "outputs": [
    {
     "data": {
      "text/plain": [
       "\n",
       "LN mets  tumour \n",
       "    794    1341 "
      ]
     },
     "metadata": {},
     "output_type": "display_data"
    },
    {
     "data": {
      "text/plain": [
       "\n",
       "breast cancer \n",
       "         2135 "
      ]
     },
     "metadata": {},
     "output_type": "display_data"
    },
    {
     "data": {
      "text/plain": [
       "\n",
       "pt2 pt3 pt6 pt7 \n",
       "501 180 601 853 "
      ]
     },
     "metadata": {},
     "output_type": "display_data"
    },
    {
     "data": {
      "text/plain": [
       "\n",
       "   GSE225600_BC_LN_mets_pt2    GSE225600_BC_LN_mets_pt3 \n",
       "                        328                          94 \n",
       "   GSE225600_BC_LN_mets_pt6    GSE225600_BC_LN_mets_pt7 \n",
       "                         67                         305 \n",
       "GSE225600_breast_tumour_pt2 GSE225600_breast_tumour_pt3 \n",
       "                        173                          86 \n",
       "GSE225600_breast_tumour_pt6 GSE225600_breast_tumour_pt7 \n",
       "                        534                         548 "
      ]
     },
     "metadata": {},
     "output_type": "display_data"
    }
   ],
   "source": [
    "table(BRE$sample_type)\n",
    "table(BRE$cancer_type)\n",
    "table(BRE$patient_id)\n",
    "table(BRE$sample_id)"
   ]
  },
  {
   "cell_type": "code",
   "execution_count": 17,
   "metadata": {
    "vscode": {
     "languageId": "r"
    }
   },
   "outputs": [],
   "source": [
    "#set site and sample_type_major metadata\n",
    "\n",
    "#split by sample_type\n",
    "BRE_LN <- subset(BRE, subset = sample_type %in% c(\"LN mets\"))\n",
    "BRE_T <- subset(BRE, subset = sample_type %in% c(\"tumour\"))\n",
    "\n",
    "BRE_LN@meta.data$site <- \"lymph node\"\n",
    "BRE_T@meta.data$site <- \"breast\"\n",
    "\n",
    "BRE_LN@meta.data$sample_type_major <- \"metastatic tumour\"\n",
    "BRE_T@meta.data$sample_type_major <- \"primary tumour\"\n",
    "\n",
    "#merge back together \n",
    "BRE <- merge(BRE_LN, y = c(BRE_T), project = \"GSE225600\")"
   ]
  },
  {
   "cell_type": "code",
   "execution_count": 18,
   "metadata": {
    "vscode": {
     "languageId": "r"
    }
   },
   "outputs": [],
   "source": [
    "#set cancer_subtype metadata\n",
    "BRE@meta.data$cancer_subtype <- \"Breast IDC\""
   ]
  },
  {
   "cell_type": "code",
   "execution_count": 19,
   "metadata": {
    "vscode": {
     "languageId": "r"
    }
   },
   "outputs": [],
   "source": [
    "#set integration_id metadata\n",
    "BRE@meta.data$integration_id <- BRE@meta.data$sample_id"
   ]
  },
  {
   "cell_type": "code",
   "execution_count": 20,
   "metadata": {
    "vscode": {
     "languageId": "r"
    }
   },
   "outputs": [
    {
     "data": {
      "text/plain": [
       "An object of class Seurat \n",
       "36601 features across 2135 samples within 1 assay \n",
       "Active assay: RNA (36601 features, 2000 variable features)\n",
       " 18 layers present: counts.1.1, counts.2.1, counts.3.1, counts.4.1, data.1.1, data.2.1, data.3.1, data.4.1, scale.data.1, counts.5.2, counts.6.2, counts.7.2, counts.8.2, data.5.2, data.6.2, data.7.2, data.8.2, scale.data.2"
      ]
     },
     "metadata": {},
     "output_type": "display_data"
    },
    {
     "data": {
      "text/html": [
       "'GSE225600'"
      ],
      "text/latex": [
       "'GSE225600'"
      ],
      "text/markdown": [
       "'GSE225600'"
      ],
      "text/plain": [
       "[1] \"GSE225600\""
      ]
     },
     "metadata": {},
     "output_type": "display_data"
    },
    {
     "data": {
      "text/html": [
       "<table class=\"dataframe\">\n",
       "<caption>A data.frame: 6 × 15</caption>\n",
       "<thead>\n",
       "\t<tr><th></th><th scope=col>orig.ident</th><th scope=col>nCount_RNA</th><th scope=col>nFeature_RNA</th><th scope=col>cancer_type</th><th scope=col>sample_meta</th><th scope=col>sample_type</th><th scope=col>patient_id</th><th scope=col>sample_id</th><th scope=col>percent.mt</th><th scope=col>RNA_snn_res.0.2</th><th scope=col>seurat_clusters</th><th scope=col>site</th><th scope=col>sample_type_major</th><th scope=col>cancer_subtype</th><th scope=col>integration_id</th></tr>\n",
       "\t<tr><th></th><th scope=col>&lt;chr&gt;</th><th scope=col>&lt;dbl&gt;</th><th scope=col>&lt;int&gt;</th><th scope=col>&lt;chr&gt;</th><th scope=col>&lt;chr&gt;</th><th scope=col>&lt;chr&gt;</th><th scope=col>&lt;chr&gt;</th><th scope=col>&lt;chr&gt;</th><th scope=col>&lt;dbl&gt;</th><th scope=col>&lt;chr&gt;</th><th scope=col>&lt;chr&gt;</th><th scope=col>&lt;chr&gt;</th><th scope=col>&lt;chr&gt;</th><th scope=col>&lt;chr&gt;</th><th scope=col>&lt;chr&gt;</th></tr>\n",
       "</thead>\n",
       "<tbody>\n",
       "\t<tr><th scope=row>GSE225600_LN_mets_pt2_AAAGGATCAATGAAAC-L2</th><td>GSE225600</td><td>1343</td><td>616</td><td>breast cancer</td><td>L2</td><td>LN mets</td><td>pt2</td><td>GSE225600_BC_LN_mets_pt2</td><td> 5.807893</td><td>8</td><td>8</td><td>lymph node</td><td>metastatic tumour</td><td>Breast IDC</td><td>GSE225600_BC_LN_mets_pt2</td></tr>\n",
       "\t<tr><th scope=row>GSE225600_LN_mets_pt2_AAAGTGATCAATCGGT-L2</th><td>GSE225600</td><td> 579</td><td>439</td><td>breast cancer</td><td>L2</td><td>LN mets</td><td>pt2</td><td>GSE225600_BC_LN_mets_pt2</td><td> 2.417962</td><td>8</td><td>8</td><td>lymph node</td><td>metastatic tumour</td><td>Breast IDC</td><td>GSE225600_BC_LN_mets_pt2</td></tr>\n",
       "\t<tr><th scope=row>GSE225600_LN_mets_pt2_AACAACCAGCAAGCCA-L2</th><td>GSE225600</td><td> 621</td><td>443</td><td>breast cancer</td><td>L2</td><td>LN mets</td><td>pt2</td><td>GSE225600_BC_LN_mets_pt2</td><td> 4.186795</td><td>8</td><td>8</td><td>lymph node</td><td>metastatic tumour</td><td>Breast IDC</td><td>GSE225600_BC_LN_mets_pt2</td></tr>\n",
       "\t<tr><th scope=row>GSE225600_LN_mets_pt2_AACACACTCTAATTCC-L2</th><td>GSE225600</td><td>1096</td><td>680</td><td>breast cancer</td><td>L2</td><td>LN mets</td><td>pt2</td><td>GSE225600_BC_LN_mets_pt2</td><td> 4.379562</td><td>8</td><td>8</td><td>lymph node</td><td>metastatic tumour</td><td>Breast IDC</td><td>GSE225600_BC_LN_mets_pt2</td></tr>\n",
       "\t<tr><th scope=row>GSE225600_LN_mets_pt2_AACCATGCAACCACGC-L2</th><td>GSE225600</td><td> 407</td><td>294</td><td>breast cancer</td><td>L2</td><td>LN mets</td><td>pt2</td><td>GSE225600_BC_LN_mets_pt2</td><td>13.267813</td><td>8</td><td>8</td><td>lymph node</td><td>metastatic tumour</td><td>Breast IDC</td><td>GSE225600_BC_LN_mets_pt2</td></tr>\n",
       "\t<tr><th scope=row>GSE225600_LN_mets_pt2_AACCCAAAGTAGTCAA-L2</th><td>GSE225600</td><td> 606</td><td>279</td><td>breast cancer</td><td>L2</td><td>LN mets</td><td>pt2</td><td>GSE225600_BC_LN_mets_pt2</td><td>42.574257</td><td>8</td><td>8</td><td>lymph node</td><td>metastatic tumour</td><td>Breast IDC</td><td>GSE225600_BC_LN_mets_pt2</td></tr>\n",
       "</tbody>\n",
       "</table>\n"
      ],
      "text/latex": [
       "A data.frame: 6 × 15\n",
       "\\begin{tabular}{r|lllllllllllllll}\n",
       "  & orig.ident & nCount\\_RNA & nFeature\\_RNA & cancer\\_type & sample\\_meta & sample\\_type & patient\\_id & sample\\_id & percent.mt & RNA\\_snn\\_res.0.2 & seurat\\_clusters & site & sample\\_type\\_major & cancer\\_subtype & integration\\_id\\\\\n",
       "  & <chr> & <dbl> & <int> & <chr> & <chr> & <chr> & <chr> & <chr> & <dbl> & <chr> & <chr> & <chr> & <chr> & <chr> & <chr>\\\\\n",
       "\\hline\n",
       "\tGSE225600\\_LN\\_mets\\_pt2\\_AAAGGATCAATGAAAC-L2 & GSE225600 & 1343 & 616 & breast cancer & L2 & LN mets & pt2 & GSE225600\\_BC\\_LN\\_mets\\_pt2 &  5.807893 & 8 & 8 & lymph node & metastatic tumour & Breast IDC & GSE225600\\_BC\\_LN\\_mets\\_pt2\\\\\n",
       "\tGSE225600\\_LN\\_mets\\_pt2\\_AAAGTGATCAATCGGT-L2 & GSE225600 &  579 & 439 & breast cancer & L2 & LN mets & pt2 & GSE225600\\_BC\\_LN\\_mets\\_pt2 &  2.417962 & 8 & 8 & lymph node & metastatic tumour & Breast IDC & GSE225600\\_BC\\_LN\\_mets\\_pt2\\\\\n",
       "\tGSE225600\\_LN\\_mets\\_pt2\\_AACAACCAGCAAGCCA-L2 & GSE225600 &  621 & 443 & breast cancer & L2 & LN mets & pt2 & GSE225600\\_BC\\_LN\\_mets\\_pt2 &  4.186795 & 8 & 8 & lymph node & metastatic tumour & Breast IDC & GSE225600\\_BC\\_LN\\_mets\\_pt2\\\\\n",
       "\tGSE225600\\_LN\\_mets\\_pt2\\_AACACACTCTAATTCC-L2 & GSE225600 & 1096 & 680 & breast cancer & L2 & LN mets & pt2 & GSE225600\\_BC\\_LN\\_mets\\_pt2 &  4.379562 & 8 & 8 & lymph node & metastatic tumour & Breast IDC & GSE225600\\_BC\\_LN\\_mets\\_pt2\\\\\n",
       "\tGSE225600\\_LN\\_mets\\_pt2\\_AACCATGCAACCACGC-L2 & GSE225600 &  407 & 294 & breast cancer & L2 & LN mets & pt2 & GSE225600\\_BC\\_LN\\_mets\\_pt2 & 13.267813 & 8 & 8 & lymph node & metastatic tumour & Breast IDC & GSE225600\\_BC\\_LN\\_mets\\_pt2\\\\\n",
       "\tGSE225600\\_LN\\_mets\\_pt2\\_AACCCAAAGTAGTCAA-L2 & GSE225600 &  606 & 279 & breast cancer & L2 & LN mets & pt2 & GSE225600\\_BC\\_LN\\_mets\\_pt2 & 42.574257 & 8 & 8 & lymph node & metastatic tumour & Breast IDC & GSE225600\\_BC\\_LN\\_mets\\_pt2\\\\\n",
       "\\end{tabular}\n"
      ],
      "text/markdown": [
       "\n",
       "A data.frame: 6 × 15\n",
       "\n",
       "| <!--/--> | orig.ident &lt;chr&gt; | nCount_RNA &lt;dbl&gt; | nFeature_RNA &lt;int&gt; | cancer_type &lt;chr&gt; | sample_meta &lt;chr&gt; | sample_type &lt;chr&gt; | patient_id &lt;chr&gt; | sample_id &lt;chr&gt; | percent.mt &lt;dbl&gt; | RNA_snn_res.0.2 &lt;chr&gt; | seurat_clusters &lt;chr&gt; | site &lt;chr&gt; | sample_type_major &lt;chr&gt; | cancer_subtype &lt;chr&gt; | integration_id &lt;chr&gt; |\n",
       "|---|---|---|---|---|---|---|---|---|---|---|---|---|---|---|---|\n",
       "| GSE225600_LN_mets_pt2_AAAGGATCAATGAAAC-L2 | GSE225600 | 1343 | 616 | breast cancer | L2 | LN mets | pt2 | GSE225600_BC_LN_mets_pt2 |  5.807893 | 8 | 8 | lymph node | metastatic tumour | Breast IDC | GSE225600_BC_LN_mets_pt2 |\n",
       "| GSE225600_LN_mets_pt2_AAAGTGATCAATCGGT-L2 | GSE225600 |  579 | 439 | breast cancer | L2 | LN mets | pt2 | GSE225600_BC_LN_mets_pt2 |  2.417962 | 8 | 8 | lymph node | metastatic tumour | Breast IDC | GSE225600_BC_LN_mets_pt2 |\n",
       "| GSE225600_LN_mets_pt2_AACAACCAGCAAGCCA-L2 | GSE225600 |  621 | 443 | breast cancer | L2 | LN mets | pt2 | GSE225600_BC_LN_mets_pt2 |  4.186795 | 8 | 8 | lymph node | metastatic tumour | Breast IDC | GSE225600_BC_LN_mets_pt2 |\n",
       "| GSE225600_LN_mets_pt2_AACACACTCTAATTCC-L2 | GSE225600 | 1096 | 680 | breast cancer | L2 | LN mets | pt2 | GSE225600_BC_LN_mets_pt2 |  4.379562 | 8 | 8 | lymph node | metastatic tumour | Breast IDC | GSE225600_BC_LN_mets_pt2 |\n",
       "| GSE225600_LN_mets_pt2_AACCATGCAACCACGC-L2 | GSE225600 |  407 | 294 | breast cancer | L2 | LN mets | pt2 | GSE225600_BC_LN_mets_pt2 | 13.267813 | 8 | 8 | lymph node | metastatic tumour | Breast IDC | GSE225600_BC_LN_mets_pt2 |\n",
       "| GSE225600_LN_mets_pt2_AACCCAAAGTAGTCAA-L2 | GSE225600 |  606 | 279 | breast cancer | L2 | LN mets | pt2 | GSE225600_BC_LN_mets_pt2 | 42.574257 | 8 | 8 | lymph node | metastatic tumour | Breast IDC | GSE225600_BC_LN_mets_pt2 |\n",
       "\n"
      ],
      "text/plain": [
       "                                          orig.ident nCount_RNA nFeature_RNA\n",
       "GSE225600_LN_mets_pt2_AAAGGATCAATGAAAC-L2 GSE225600  1343       616         \n",
       "GSE225600_LN_mets_pt2_AAAGTGATCAATCGGT-L2 GSE225600   579       439         \n",
       "GSE225600_LN_mets_pt2_AACAACCAGCAAGCCA-L2 GSE225600   621       443         \n",
       "GSE225600_LN_mets_pt2_AACACACTCTAATTCC-L2 GSE225600  1096       680         \n",
       "GSE225600_LN_mets_pt2_AACCATGCAACCACGC-L2 GSE225600   407       294         \n",
       "GSE225600_LN_mets_pt2_AACCCAAAGTAGTCAA-L2 GSE225600   606       279         \n",
       "                                          cancer_type   sample_meta sample_type\n",
       "GSE225600_LN_mets_pt2_AAAGGATCAATGAAAC-L2 breast cancer L2          LN mets    \n",
       "GSE225600_LN_mets_pt2_AAAGTGATCAATCGGT-L2 breast cancer L2          LN mets    \n",
       "GSE225600_LN_mets_pt2_AACAACCAGCAAGCCA-L2 breast cancer L2          LN mets    \n",
       "GSE225600_LN_mets_pt2_AACACACTCTAATTCC-L2 breast cancer L2          LN mets    \n",
       "GSE225600_LN_mets_pt2_AACCATGCAACCACGC-L2 breast cancer L2          LN mets    \n",
       "GSE225600_LN_mets_pt2_AACCCAAAGTAGTCAA-L2 breast cancer L2          LN mets    \n",
       "                                          patient_id sample_id               \n",
       "GSE225600_LN_mets_pt2_AAAGGATCAATGAAAC-L2 pt2        GSE225600_BC_LN_mets_pt2\n",
       "GSE225600_LN_mets_pt2_AAAGTGATCAATCGGT-L2 pt2        GSE225600_BC_LN_mets_pt2\n",
       "GSE225600_LN_mets_pt2_AACAACCAGCAAGCCA-L2 pt2        GSE225600_BC_LN_mets_pt2\n",
       "GSE225600_LN_mets_pt2_AACACACTCTAATTCC-L2 pt2        GSE225600_BC_LN_mets_pt2\n",
       "GSE225600_LN_mets_pt2_AACCATGCAACCACGC-L2 pt2        GSE225600_BC_LN_mets_pt2\n",
       "GSE225600_LN_mets_pt2_AACCCAAAGTAGTCAA-L2 pt2        GSE225600_BC_LN_mets_pt2\n",
       "                                          percent.mt RNA_snn_res.0.2\n",
       "GSE225600_LN_mets_pt2_AAAGGATCAATGAAAC-L2  5.807893  8              \n",
       "GSE225600_LN_mets_pt2_AAAGTGATCAATCGGT-L2  2.417962  8              \n",
       "GSE225600_LN_mets_pt2_AACAACCAGCAAGCCA-L2  4.186795  8              \n",
       "GSE225600_LN_mets_pt2_AACACACTCTAATTCC-L2  4.379562  8              \n",
       "GSE225600_LN_mets_pt2_AACCATGCAACCACGC-L2 13.267813  8              \n",
       "GSE225600_LN_mets_pt2_AACCCAAAGTAGTCAA-L2 42.574257  8              \n",
       "                                          seurat_clusters site      \n",
       "GSE225600_LN_mets_pt2_AAAGGATCAATGAAAC-L2 8               lymph node\n",
       "GSE225600_LN_mets_pt2_AAAGTGATCAATCGGT-L2 8               lymph node\n",
       "GSE225600_LN_mets_pt2_AACAACCAGCAAGCCA-L2 8               lymph node\n",
       "GSE225600_LN_mets_pt2_AACACACTCTAATTCC-L2 8               lymph node\n",
       "GSE225600_LN_mets_pt2_AACCATGCAACCACGC-L2 8               lymph node\n",
       "GSE225600_LN_mets_pt2_AACCCAAAGTAGTCAA-L2 8               lymph node\n",
       "                                          sample_type_major cancer_subtype\n",
       "GSE225600_LN_mets_pt2_AAAGGATCAATGAAAC-L2 metastatic tumour Breast IDC    \n",
       "GSE225600_LN_mets_pt2_AAAGTGATCAATCGGT-L2 metastatic tumour Breast IDC    \n",
       "GSE225600_LN_mets_pt2_AACAACCAGCAAGCCA-L2 metastatic tumour Breast IDC    \n",
       "GSE225600_LN_mets_pt2_AACACACTCTAATTCC-L2 metastatic tumour Breast IDC    \n",
       "GSE225600_LN_mets_pt2_AACCATGCAACCACGC-L2 metastatic tumour Breast IDC    \n",
       "GSE225600_LN_mets_pt2_AACCCAAAGTAGTCAA-L2 metastatic tumour Breast IDC    \n",
       "                                          integration_id          \n",
       "GSE225600_LN_mets_pt2_AAAGGATCAATGAAAC-L2 GSE225600_BC_LN_mets_pt2\n",
       "GSE225600_LN_mets_pt2_AAAGTGATCAATCGGT-L2 GSE225600_BC_LN_mets_pt2\n",
       "GSE225600_LN_mets_pt2_AACAACCAGCAAGCCA-L2 GSE225600_BC_LN_mets_pt2\n",
       "GSE225600_LN_mets_pt2_AACACACTCTAATTCC-L2 GSE225600_BC_LN_mets_pt2\n",
       "GSE225600_LN_mets_pt2_AACCATGCAACCACGC-L2 GSE225600_BC_LN_mets_pt2\n",
       "GSE225600_LN_mets_pt2_AACCCAAAGTAGTCAA-L2 GSE225600_BC_LN_mets_pt2"
      ]
     },
     "metadata": {},
     "output_type": "display_data"
    }
   ],
   "source": [
    "BRE\n",
    "BRE@project.name\n",
    "head(BRE@meta.data)"
   ]
  },
  {
   "cell_type": "code",
   "execution_count": 22,
   "metadata": {
    "vscode": {
     "languageId": "r"
    }
   },
   "outputs": [
    {
     "data": {
      "text/plain": [
       "\n",
       "   GSE225600_BC_LN_mets_pt2    GSE225600_BC_LN_mets_pt3 \n",
       "                        328                          94 \n",
       "   GSE225600_BC_LN_mets_pt6    GSE225600_BC_LN_mets_pt7 \n",
       "                         67                         305 \n",
       "GSE225600_breast_tumour_pt2 GSE225600_breast_tumour_pt3 \n",
       "                        173                          86 \n",
       "GSE225600_breast_tumour_pt6 GSE225600_breast_tumour_pt7 \n",
       "                        534                         548 "
      ]
     },
     "metadata": {},
     "output_type": "display_data"
    },
    {
     "data": {
      "text/plain": [
       "\n",
       "   GSE225600_BC_LN_mets_pt2    GSE225600_BC_LN_mets_pt7 \n",
       "                        328                         305 \n",
       "GSE225600_breast_tumour_pt2 GSE225600_breast_tumour_pt6 \n",
       "                        173                         534 \n",
       "GSE225600_breast_tumour_pt7 \n",
       "                        548 "
      ]
     },
     "metadata": {},
     "output_type": "display_data"
    }
   ],
   "source": [
    "#exclude any samples with <100 cells\n",
    "table(BRE$integration_id)\n",
    "#exclude LN_pt3, LN_pt6, T_pt3\n",
    "BRE <- subset(BRE, !(subset = integration_id %in% c(\"GSE225600_BC_LN_mets_pt3\",\"GSE225600_BC_LN_mets_pt6\",\"GSE225600_breast_tumour_pt3\")))\n",
    "table(BRE$integration_id)"
   ]
  },
  {
   "cell_type": "code",
   "execution_count": 23,
   "metadata": {
    "vscode": {
     "languageId": "r"
    }
   },
   "outputs": [
    {
     "data": {
      "text/html": [
       "<style>\n",
       ".list-inline {list-style: none; margin:0; padding: 0}\n",
       ".list-inline>li {display: inline-block}\n",
       ".list-inline>li:not(:last-child)::after {content: \"\\00b7\"; padding: 0 .5ex}\n",
       "</style>\n",
       "<ol class=list-inline><li>'counts.1.1'</li><li>'counts.4.1'</li><li>'data.1.1'</li><li>'data.4.1'</li><li>'scale.data.1'</li><li>'counts.5.2'</li><li>'counts.7.2'</li><li>'counts.8.2'</li><li>'data.5.2'</li><li>'data.7.2'</li><li>'data.8.2'</li><li>'scale.data.2'</li></ol>\n"
      ],
      "text/latex": [
       "\\begin{enumerate*}\n",
       "\\item 'counts.1.1'\n",
       "\\item 'counts.4.1'\n",
       "\\item 'data.1.1'\n",
       "\\item 'data.4.1'\n",
       "\\item 'scale.data.1'\n",
       "\\item 'counts.5.2'\n",
       "\\item 'counts.7.2'\n",
       "\\item 'counts.8.2'\n",
       "\\item 'data.5.2'\n",
       "\\item 'data.7.2'\n",
       "\\item 'data.8.2'\n",
       "\\item 'scale.data.2'\n",
       "\\end{enumerate*}\n"
      ],
      "text/markdown": [
       "1. 'counts.1.1'\n",
       "2. 'counts.4.1'\n",
       "3. 'data.1.1'\n",
       "4. 'data.4.1'\n",
       "5. 'scale.data.1'\n",
       "6. 'counts.5.2'\n",
       "7. 'counts.7.2'\n",
       "8. 'counts.8.2'\n",
       "9. 'data.5.2'\n",
       "10. 'data.7.2'\n",
       "11. 'data.8.2'\n",
       "12. 'scale.data.2'\n",
       "\n",
       "\n"
      ],
      "text/plain": [
       " [1] \"counts.1.1\"   \"counts.4.1\"   \"data.1.1\"     \"data.4.1\"     \"scale.data.1\"\n",
       " [6] \"counts.5.2\"   \"counts.7.2\"   \"counts.8.2\"   \"data.5.2\"     \"data.7.2\"    \n",
       "[11] \"data.8.2\"     \"scale.data.2\""
      ]
     },
     "metadata": {},
     "output_type": "display_data"
    },
    {
     "data": {
      "text/html": [
       "<style>\n",
       ".list-inline {list-style: none; margin:0; padding: 0}\n",
       ".list-inline>li {display: inline-block}\n",
       ".list-inline>li:not(:last-child)::after {content: \"\\00b7\"; padding: 0 .5ex}\n",
       "</style>\n",
       "<ol class=list-inline><li>'scale.data'</li><li>'data'</li><li>'counts'</li></ol>\n"
      ],
      "text/latex": [
       "\\begin{enumerate*}\n",
       "\\item 'scale.data'\n",
       "\\item 'data'\n",
       "\\item 'counts'\n",
       "\\end{enumerate*}\n"
      ],
      "text/markdown": [
       "1. 'scale.data'\n",
       "2. 'data'\n",
       "3. 'counts'\n",
       "\n",
       "\n"
      ],
      "text/plain": [
       "[1] \"scale.data\" \"data\"       \"counts\"    "
      ]
     },
     "metadata": {},
     "output_type": "display_data"
    },
    {
     "name": "stderr",
     "output_type": "stream",
     "text": [
      "Splitting ‘counts’, ‘data’ layers. Not splitting ‘scale.data’. If you would like to split other layers, set in `layers` argument.\n",
      "\n"
     ]
    },
    {
     "data": {
      "text/html": [
       "<style>\n",
       ".list-inline {list-style: none; margin:0; padding: 0}\n",
       ".list-inline>li {display: inline-block}\n",
       ".list-inline>li:not(:last-child)::after {content: \"\\00b7\"; padding: 0 .5ex}\n",
       "</style>\n",
       "<ol class=list-inline><li>'counts.GSE225600_BC_LN_mets_pt2'</li><li>'counts.GSE225600_BC_LN_mets_pt7'</li><li>'counts.GSE225600_breast_tumour_pt2'</li><li>'counts.GSE225600_breast_tumour_pt6'</li><li>'counts.GSE225600_breast_tumour_pt7'</li><li>'scale.data'</li><li>'data.GSE225600_BC_LN_mets_pt2'</li><li>'data.GSE225600_BC_LN_mets_pt7'</li><li>'data.GSE225600_breast_tumour_pt2'</li><li>'data.GSE225600_breast_tumour_pt6'</li><li>'data.GSE225600_breast_tumour_pt7'</li></ol>\n"
      ],
      "text/latex": [
       "\\begin{enumerate*}\n",
       "\\item 'counts.GSE225600\\_BC\\_LN\\_mets\\_pt2'\n",
       "\\item 'counts.GSE225600\\_BC\\_LN\\_mets\\_pt7'\n",
       "\\item 'counts.GSE225600\\_breast\\_tumour\\_pt2'\n",
       "\\item 'counts.GSE225600\\_breast\\_tumour\\_pt6'\n",
       "\\item 'counts.GSE225600\\_breast\\_tumour\\_pt7'\n",
       "\\item 'scale.data'\n",
       "\\item 'data.GSE225600\\_BC\\_LN\\_mets\\_pt2'\n",
       "\\item 'data.GSE225600\\_BC\\_LN\\_mets\\_pt7'\n",
       "\\item 'data.GSE225600\\_breast\\_tumour\\_pt2'\n",
       "\\item 'data.GSE225600\\_breast\\_tumour\\_pt6'\n",
       "\\item 'data.GSE225600\\_breast\\_tumour\\_pt7'\n",
       "\\end{enumerate*}\n"
      ],
      "text/markdown": [
       "1. 'counts.GSE225600_BC_LN_mets_pt2'\n",
       "2. 'counts.GSE225600_BC_LN_mets_pt7'\n",
       "3. 'counts.GSE225600_breast_tumour_pt2'\n",
       "4. 'counts.GSE225600_breast_tumour_pt6'\n",
       "5. 'counts.GSE225600_breast_tumour_pt7'\n",
       "6. 'scale.data'\n",
       "7. 'data.GSE225600_BC_LN_mets_pt2'\n",
       "8. 'data.GSE225600_BC_LN_mets_pt7'\n",
       "9. 'data.GSE225600_breast_tumour_pt2'\n",
       "10. 'data.GSE225600_breast_tumour_pt6'\n",
       "11. 'data.GSE225600_breast_tumour_pt7'\n",
       "\n",
       "\n"
      ],
      "text/plain": [
       " [1] \"counts.GSE225600_BC_LN_mets_pt2\"    \"counts.GSE225600_BC_LN_mets_pt7\"   \n",
       " [3] \"counts.GSE225600_breast_tumour_pt2\" \"counts.GSE225600_breast_tumour_pt6\"\n",
       " [5] \"counts.GSE225600_breast_tumour_pt7\" \"scale.data\"                        \n",
       " [7] \"data.GSE225600_BC_LN_mets_pt2\"      \"data.GSE225600_BC_LN_mets_pt7\"     \n",
       " [9] \"data.GSE225600_breast_tumour_pt2\"   \"data.GSE225600_breast_tumour_pt6\"  \n",
       "[11] \"data.GSE225600_breast_tumour_pt7\"  "
      ]
     },
     "metadata": {},
     "output_type": "display_data"
    }
   ],
   "source": [
    "#join layers and then split them by integration_id\n",
    "Layers(BRE[[\"RNA\"]])\n",
    "#join layers\n",
    "BRE[[\"RNA\"]] <- JoinLayers(BRE[[\"RNA\"]])\n",
    "Layers(BRE[[\"RNA\"]])\n",
    "#split layers\n",
    "BRE[[\"RNA\"]] <- split(BRE[[\"RNA\"]], f = BRE$integration_id)\n",
    "Layers(BRE[[\"RNA\"]])\n"
   ]
  },
  {
   "cell_type": "code",
   "execution_count": 25,
   "metadata": {
    "vscode": {
     "languageId": "r"
    }
   },
   "outputs": [
    {
     "data": {
      "text/plain": [
       "\n",
       "   GSE225600_BC_LN_mets_pt2    GSE225600_BC_LN_mets_pt7 \n",
       "                        328                         305 \n",
       "GSE225600_breast_tumour_pt2 GSE225600_breast_tumour_pt6 \n",
       "                        173                         534 \n",
       "GSE225600_breast_tumour_pt7 \n",
       "                        548 "
      ]
     },
     "metadata": {},
     "output_type": "display_data"
    },
    {
     "data": {
      "text/html": [
       "'GSE225600'"
      ],
      "text/latex": [
       "'GSE225600'"
      ],
      "text/markdown": [
       "'GSE225600'"
      ],
      "text/plain": [
       "[1] \"GSE225600\""
      ]
     },
     "metadata": {},
     "output_type": "display_data"
    },
    {
     "data": {
      "text/plain": [
       "An object of class Seurat \n",
       "36601 features across 1888 samples within 1 assay \n",
       "Active assay: RNA (36601 features, 2000 variable features)\n",
       " 11 layers present: counts.GSE225600_BC_LN_mets_pt2, counts.GSE225600_BC_LN_mets_pt7, counts.GSE225600_breast_tumour_pt2, counts.GSE225600_breast_tumour_pt6, counts.GSE225600_breast_tumour_pt7, scale.data, data.GSE225600_BC_LN_mets_pt2, data.GSE225600_BC_LN_mets_pt7, data.GSE225600_breast_tumour_pt2, data.GSE225600_breast_tumour_pt6, data.GSE225600_breast_tumour_pt7"
      ]
     },
     "metadata": {},
     "output_type": "display_data"
    }
   ],
   "source": [
    "#record number of cells\n",
    "table(BRE$integration_id)\n",
    "BRE@project.name\n",
    "BRE"
   ]
  },
  {
   "cell_type": "code",
   "execution_count": 26,
   "metadata": {
    "vscode": {
     "languageId": "r"
    }
   },
   "outputs": [],
   "source": [
    "#re-export seurat object ready for integration\n",
    "saveRDS(BRE, \"/scratch/user/s4436039/scdata/Myeloid_Cells/Myeloid_Cells_Integrate/GSE225600_myeloid_int.RDS\")"
   ]
  },
  {
   "cell_type": "code",
   "execution_count": 27,
   "metadata": {
    "vscode": {
     "languageId": "r"
    }
   },
   "outputs": [],
   "source": [
    "#remove all objects in R\n",
    "rm(list = ls())"
   ]
  },
  {
   "cell_type": "markdown",
   "metadata": {},
   "source": [
    "## GSE162498"
   ]
  },
  {
   "cell_type": "code",
   "execution_count": 28,
   "metadata": {
    "vscode": {
     "languageId": "r"
    }
   },
   "outputs": [],
   "source": [
    "LUNG <- readRDS(\"/scratch/user/s4436039/scdata/Myeloid_Cells/GSE162498_myeloid.RDS\")"
   ]
  },
  {
   "cell_type": "code",
   "execution_count": 29,
   "metadata": {
    "vscode": {
     "languageId": "r"
    }
   },
   "outputs": [
    {
     "data": {
      "text/plain": [
       "An object of class Seurat \n",
       "45068 features across 28781 samples within 1 assay \n",
       "Active assay: RNA (45068 features, 2000 variable features)\n",
       " 27 layers present: counts.1, counts.2, counts.3, counts.4, counts.5, counts.6, counts.7, counts.8, counts.9, counts.10, counts.11, counts.12, counts.13, data.1, data.2, data.3, data.4, data.5, data.6, data.7, data.8, data.9, data.10, data.11, data.12, data.13, scale.data\n",
       " 2 dimensional reductions calculated: pca, umap"
      ]
     },
     "metadata": {},
     "output_type": "display_data"
    },
    {
     "data": {
      "text/html": [
       "'GSE162498'"
      ],
      "text/latex": [
       "'GSE162498'"
      ],
      "text/markdown": [
       "'GSE162498'"
      ],
      "text/plain": [
       "[1] \"GSE162498\""
      ]
     },
     "metadata": {},
     "output_type": "display_data"
    },
    {
     "data": {
      "text/html": [
       "<table class=\"dataframe\">\n",
       "<caption>A data.frame: 6 × 10</caption>\n",
       "<thead>\n",
       "\t<tr><th></th><th scope=col>orig.ident</th><th scope=col>nCount_RNA</th><th scope=col>nFeature_RNA</th><th scope=col>sample_type</th><th scope=col>cancer_type</th><th scope=col>patient_id</th><th scope=col>sample_id</th><th scope=col>percent.mt</th><th scope=col>RNA_snn_res.0.2</th><th scope=col>seurat_clusters</th></tr>\n",
       "\t<tr><th></th><th scope=col>&lt;chr&gt;</th><th scope=col>&lt;dbl&gt;</th><th scope=col>&lt;int&gt;</th><th scope=col>&lt;chr&gt;</th><th scope=col>&lt;chr&gt;</th><th scope=col>&lt;chr&gt;</th><th scope=col>&lt;chr&gt;</th><th scope=col>&lt;dbl&gt;</th><th scope=col>&lt;fct&gt;</th><th scope=col>&lt;fct&gt;</th></tr>\n",
       "</thead>\n",
       "<tbody>\n",
       "\t<tr><th scope=row>GSE162498_NSCLC_P34_AAACGGGCATAGTAAG-1</th><td>GSE162498</td><td>  980</td><td> 450</td><td>tumour</td><td>NSCLC</td><td>P34</td><td>GSE162498_NSCLC_P34</td><td> 8.265306</td><td>4</td><td>4</td></tr>\n",
       "\t<tr><th scope=row>GSE162498_NSCLC_P34_AAAGTAGCAAACTGCT-1</th><td>GSE162498</td><td>11484</td><td>2224</td><td>tumour</td><td>NSCLC</td><td>P34</td><td>GSE162498_NSCLC_P34</td><td> 3.692093</td><td>8</td><td>8</td></tr>\n",
       "\t<tr><th scope=row>GSE162498_NSCLC_P34_AAATGCCCAGTCGATT-1</th><td>GSE162498</td><td>  524</td><td> 200</td><td>tumour</td><td>NSCLC</td><td>P34</td><td>GSE162498_NSCLC_P34</td><td>17.557252</td><td>4</td><td>4</td></tr>\n",
       "\t<tr><th scope=row>GSE162498_NSCLC_P34_AAATGCCGTCACACGC-1</th><td>GSE162498</td><td> 3104</td><td> 300</td><td>tumour</td><td>NSCLC</td><td>P34</td><td>GSE162498_NSCLC_P34</td><td>83.827320</td><td>9</td><td>9</td></tr>\n",
       "\t<tr><th scope=row>GSE162498_NSCLC_P34_AACACGTAGATACACA-1</th><td>GSE162498</td><td>  604</td><td> 311</td><td>tumour</td><td>NSCLC</td><td>P34</td><td>GSE162498_NSCLC_P34</td><td>17.218543</td><td>4</td><td>4</td></tr>\n",
       "\t<tr><th scope=row>GSE162498_NSCLC_P34_AACACGTCAGGGTACA-1</th><td>GSE162498</td><td>15436</td><td>3018</td><td>tumour</td><td>NSCLC</td><td>P34</td><td>GSE162498_NSCLC_P34</td><td> 5.934180</td><td>8</td><td>8</td></tr>\n",
       "</tbody>\n",
       "</table>\n"
      ],
      "text/latex": [
       "A data.frame: 6 × 10\n",
       "\\begin{tabular}{r|llllllllll}\n",
       "  & orig.ident & nCount\\_RNA & nFeature\\_RNA & sample\\_type & cancer\\_type & patient\\_id & sample\\_id & percent.mt & RNA\\_snn\\_res.0.2 & seurat\\_clusters\\\\\n",
       "  & <chr> & <dbl> & <int> & <chr> & <chr> & <chr> & <chr> & <dbl> & <fct> & <fct>\\\\\n",
       "\\hline\n",
       "\tGSE162498\\_NSCLC\\_P34\\_AAACGGGCATAGTAAG-1 & GSE162498 &   980 &  450 & tumour & NSCLC & P34 & GSE162498\\_NSCLC\\_P34 &  8.265306 & 4 & 4\\\\\n",
       "\tGSE162498\\_NSCLC\\_P34\\_AAAGTAGCAAACTGCT-1 & GSE162498 & 11484 & 2224 & tumour & NSCLC & P34 & GSE162498\\_NSCLC\\_P34 &  3.692093 & 8 & 8\\\\\n",
       "\tGSE162498\\_NSCLC\\_P34\\_AAATGCCCAGTCGATT-1 & GSE162498 &   524 &  200 & tumour & NSCLC & P34 & GSE162498\\_NSCLC\\_P34 & 17.557252 & 4 & 4\\\\\n",
       "\tGSE162498\\_NSCLC\\_P34\\_AAATGCCGTCACACGC-1 & GSE162498 &  3104 &  300 & tumour & NSCLC & P34 & GSE162498\\_NSCLC\\_P34 & 83.827320 & 9 & 9\\\\\n",
       "\tGSE162498\\_NSCLC\\_P34\\_AACACGTAGATACACA-1 & GSE162498 &   604 &  311 & tumour & NSCLC & P34 & GSE162498\\_NSCLC\\_P34 & 17.218543 & 4 & 4\\\\\n",
       "\tGSE162498\\_NSCLC\\_P34\\_AACACGTCAGGGTACA-1 & GSE162498 & 15436 & 3018 & tumour & NSCLC & P34 & GSE162498\\_NSCLC\\_P34 &  5.934180 & 8 & 8\\\\\n",
       "\\end{tabular}\n"
      ],
      "text/markdown": [
       "\n",
       "A data.frame: 6 × 10\n",
       "\n",
       "| <!--/--> | orig.ident &lt;chr&gt; | nCount_RNA &lt;dbl&gt; | nFeature_RNA &lt;int&gt; | sample_type &lt;chr&gt; | cancer_type &lt;chr&gt; | patient_id &lt;chr&gt; | sample_id &lt;chr&gt; | percent.mt &lt;dbl&gt; | RNA_snn_res.0.2 &lt;fct&gt; | seurat_clusters &lt;fct&gt; |\n",
       "|---|---|---|---|---|---|---|---|---|---|---|\n",
       "| GSE162498_NSCLC_P34_AAACGGGCATAGTAAG-1 | GSE162498 |   980 |  450 | tumour | NSCLC | P34 | GSE162498_NSCLC_P34 |  8.265306 | 4 | 4 |\n",
       "| GSE162498_NSCLC_P34_AAAGTAGCAAACTGCT-1 | GSE162498 | 11484 | 2224 | tumour | NSCLC | P34 | GSE162498_NSCLC_P34 |  3.692093 | 8 | 8 |\n",
       "| GSE162498_NSCLC_P34_AAATGCCCAGTCGATT-1 | GSE162498 |   524 |  200 | tumour | NSCLC | P34 | GSE162498_NSCLC_P34 | 17.557252 | 4 | 4 |\n",
       "| GSE162498_NSCLC_P34_AAATGCCGTCACACGC-1 | GSE162498 |  3104 |  300 | tumour | NSCLC | P34 | GSE162498_NSCLC_P34 | 83.827320 | 9 | 9 |\n",
       "| GSE162498_NSCLC_P34_AACACGTAGATACACA-1 | GSE162498 |   604 |  311 | tumour | NSCLC | P34 | GSE162498_NSCLC_P34 | 17.218543 | 4 | 4 |\n",
       "| GSE162498_NSCLC_P34_AACACGTCAGGGTACA-1 | GSE162498 | 15436 | 3018 | tumour | NSCLC | P34 | GSE162498_NSCLC_P34 |  5.934180 | 8 | 8 |\n",
       "\n"
      ],
      "text/plain": [
       "                                       orig.ident nCount_RNA nFeature_RNA\n",
       "GSE162498_NSCLC_P34_AAACGGGCATAGTAAG-1 GSE162498    980       450        \n",
       "GSE162498_NSCLC_P34_AAAGTAGCAAACTGCT-1 GSE162498  11484      2224        \n",
       "GSE162498_NSCLC_P34_AAATGCCCAGTCGATT-1 GSE162498    524       200        \n",
       "GSE162498_NSCLC_P34_AAATGCCGTCACACGC-1 GSE162498   3104       300        \n",
       "GSE162498_NSCLC_P34_AACACGTAGATACACA-1 GSE162498    604       311        \n",
       "GSE162498_NSCLC_P34_AACACGTCAGGGTACA-1 GSE162498  15436      3018        \n",
       "                                       sample_type cancer_type patient_id\n",
       "GSE162498_NSCLC_P34_AAACGGGCATAGTAAG-1 tumour      NSCLC       P34       \n",
       "GSE162498_NSCLC_P34_AAAGTAGCAAACTGCT-1 tumour      NSCLC       P34       \n",
       "GSE162498_NSCLC_P34_AAATGCCCAGTCGATT-1 tumour      NSCLC       P34       \n",
       "GSE162498_NSCLC_P34_AAATGCCGTCACACGC-1 tumour      NSCLC       P34       \n",
       "GSE162498_NSCLC_P34_AACACGTAGATACACA-1 tumour      NSCLC       P34       \n",
       "GSE162498_NSCLC_P34_AACACGTCAGGGTACA-1 tumour      NSCLC       P34       \n",
       "                                       sample_id           percent.mt\n",
       "GSE162498_NSCLC_P34_AAACGGGCATAGTAAG-1 GSE162498_NSCLC_P34  8.265306 \n",
       "GSE162498_NSCLC_P34_AAAGTAGCAAACTGCT-1 GSE162498_NSCLC_P34  3.692093 \n",
       "GSE162498_NSCLC_P34_AAATGCCCAGTCGATT-1 GSE162498_NSCLC_P34 17.557252 \n",
       "GSE162498_NSCLC_P34_AAATGCCGTCACACGC-1 GSE162498_NSCLC_P34 83.827320 \n",
       "GSE162498_NSCLC_P34_AACACGTAGATACACA-1 GSE162498_NSCLC_P34 17.218543 \n",
       "GSE162498_NSCLC_P34_AACACGTCAGGGTACA-1 GSE162498_NSCLC_P34  5.934180 \n",
       "                                       RNA_snn_res.0.2 seurat_clusters\n",
       "GSE162498_NSCLC_P34_AAACGGGCATAGTAAG-1 4               4              \n",
       "GSE162498_NSCLC_P34_AAAGTAGCAAACTGCT-1 8               8              \n",
       "GSE162498_NSCLC_P34_AAATGCCCAGTCGATT-1 4               4              \n",
       "GSE162498_NSCLC_P34_AAATGCCGTCACACGC-1 9               9              \n",
       "GSE162498_NSCLC_P34_AACACGTAGATACACA-1 4               4              \n",
       "GSE162498_NSCLC_P34_AACACGTCAGGGTACA-1 8               8              "
      ]
     },
     "metadata": {},
     "output_type": "display_data"
    }
   ],
   "source": [
    "LUNG\n",
    "LUNG@project.name\n",
    "head(LUNG@meta.data)"
   ]
  },
  {
   "cell_type": "code",
   "execution_count": 30,
   "metadata": {
    "vscode": {
     "languageId": "r"
    }
   },
   "outputs": [
    {
     "data": {
      "text/plain": [
       "\n",
       "adjacent healthy           tumour \n",
       "            2024            26757 "
      ]
     },
     "metadata": {},
     "output_type": "display_data"
    },
    {
     "data": {
      "text/plain": [
       "\n",
       "healthy   NSCLC \n",
       "   2024   26757 "
      ]
     },
     "metadata": {},
     "output_type": "display_data"
    },
    {
     "data": {
      "text/plain": [
       "\n",
       " P34  P35  P42  P43  P46  P47  P55  P57  P58  P60  P61 \n",
       " 482  685 4404 1868  999 7144 1579 5809  680 2654 2477 "
      ]
     },
     "metadata": {},
     "output_type": "display_data"
    },
    {
     "data": {
      "text/plain": [
       "\n",
       "GSE162498_healthy_P60 GSE162498_healthy_P61   GSE162498_NSCLC_P34 \n",
       "                  809                  1215                   482 \n",
       "  GSE162498_NSCLC_P35   GSE162498_NSCLC_P42   GSE162498_NSCLC_P43 \n",
       "                  685                  4404                  1868 \n",
       "  GSE162498_NSCLC_P46   GSE162498_NSCLC_P47   GSE162498_NSCLC_P55 \n",
       "                  999                  7144                  1579 \n",
       "  GSE162498_NSCLC_P57   GSE162498_NSCLC_P58   GSE162498_NSCLC_P60 \n",
       "                 5809                   680                  1845 \n",
       "  GSE162498_NSCLC_P61 \n",
       "                 1262 "
      ]
     },
     "metadata": {},
     "output_type": "display_data"
    }
   ],
   "source": [
    "table(LUNG$sample_type)\n",
    "table(LUNG$cancer_type)\n",
    "table(LUNG$patient_id)\n",
    "table(LUNG$sample_id)"
   ]
  },
  {
   "cell_type": "code",
   "execution_count": 31,
   "metadata": {
    "vscode": {
     "languageId": "r"
    }
   },
   "outputs": [],
   "source": [
    "#set site metadata\n",
    "LUNG@meta.data$site <- \"lung\"\n",
    "\n",
    "#set sample_type_major metadata\n",
    "\n",
    "#split by cancer_type\n",
    "LUNG_H <- subset(LUNG, subset = cancer_type %in% c(\"healthy\"))\n",
    "LUNG_T <- subset(LUNG, subset = cancer_type %in% c(\"NSCLC\"))\n",
    "\n",
    "LUNG_H@meta.data$sample_type_major <- \"healthy\"\n",
    "LUNG_T@meta.data$sample_type_major <- \"primary tumour\"\n",
    "\n",
    "#set cancer_subtype metadata\n",
    "LUNG_H@meta.data$cancer_subtype <- \"NA\"\n",
    "LUNG_T@meta.data$cancer_subtype <- \"NSCLC\"\n",
    "\n",
    "#merge back together \n",
    "LUNG <- merge(LUNG_H, y = c(LUNG_T), project = \"GSE162498\")"
   ]
  },
  {
   "cell_type": "code",
   "execution_count": 32,
   "metadata": {
    "vscode": {
     "languageId": "r"
    }
   },
   "outputs": [],
   "source": [
    "#set integration_id metadata\n",
    "LUNG@meta.data$integration_id <- LUNG@meta.data$sample_id"
   ]
  },
  {
   "cell_type": "code",
   "execution_count": 33,
   "metadata": {
    "vscode": {
     "languageId": "r"
    }
   },
   "outputs": [
    {
     "data": {
      "text/plain": [
       "An object of class Seurat \n",
       "45068 features across 28781 samples within 1 assay \n",
       "Active assay: RNA (45068 features, 2000 variable features)\n",
       " 28 layers present: counts.10.1, counts.12.1, data.10.1, data.12.1, scale.data.1, counts.1.2, counts.2.2, counts.3.2, counts.4.2, counts.5.2, counts.6.2, counts.7.2, counts.8.2, counts.9.2, counts.11.2, counts.13.2, data.1.2, data.2.2, data.3.2, data.4.2, data.5.2, data.6.2, data.7.2, data.8.2, data.9.2, data.11.2, data.13.2, scale.data.2"
      ]
     },
     "metadata": {},
     "output_type": "display_data"
    },
    {
     "data": {
      "text/html": [
       "'GSE162498'"
      ],
      "text/latex": [
       "'GSE162498'"
      ],
      "text/markdown": [
       "'GSE162498'"
      ],
      "text/plain": [
       "[1] \"GSE162498\""
      ]
     },
     "metadata": {},
     "output_type": "display_data"
    },
    {
     "data": {
      "text/html": [
       "<table class=\"dataframe\">\n",
       "<caption>A data.frame: 6 × 14</caption>\n",
       "<thead>\n",
       "\t<tr><th></th><th scope=col>orig.ident</th><th scope=col>nCount_RNA</th><th scope=col>nFeature_RNA</th><th scope=col>sample_type</th><th scope=col>cancer_type</th><th scope=col>patient_id</th><th scope=col>sample_id</th><th scope=col>percent.mt</th><th scope=col>RNA_snn_res.0.2</th><th scope=col>seurat_clusters</th><th scope=col>site</th><th scope=col>sample_type_major</th><th scope=col>cancer_subtype</th><th scope=col>integration_id</th></tr>\n",
       "\t<tr><th></th><th scope=col>&lt;chr&gt;</th><th scope=col>&lt;dbl&gt;</th><th scope=col>&lt;int&gt;</th><th scope=col>&lt;chr&gt;</th><th scope=col>&lt;chr&gt;</th><th scope=col>&lt;chr&gt;</th><th scope=col>&lt;chr&gt;</th><th scope=col>&lt;dbl&gt;</th><th scope=col>&lt;chr&gt;</th><th scope=col>&lt;chr&gt;</th><th scope=col>&lt;chr&gt;</th><th scope=col>&lt;chr&gt;</th><th scope=col>&lt;chr&gt;</th><th scope=col>&lt;chr&gt;</th></tr>\n",
       "</thead>\n",
       "<tbody>\n",
       "\t<tr><th scope=row>GSE162498_Healthy_P60_AAACCTGGTTCCACTC-1</th><td>GSE162498</td><td>1608</td><td>763</td><td>adjacent healthy</td><td>healthy</td><td>P60</td><td>GSE162498_healthy_P60</td><td> 9.328358</td><td>4</td><td>4</td><td>lung</td><td>healthy</td><td>NA</td><td>GSE162498_healthy_P60</td></tr>\n",
       "\t<tr><th scope=row>GSE162498_Healthy_P60_AAACCTGTCTCCGGTT-1</th><td>GSE162498</td><td>1054</td><td>502</td><td>adjacent healthy</td><td>healthy</td><td>P60</td><td>GSE162498_healthy_P60</td><td>21.157495</td><td>4</td><td>4</td><td>lung</td><td>healthy</td><td>NA</td><td>GSE162498_healthy_P60</td></tr>\n",
       "\t<tr><th scope=row>GSE162498_Healthy_P60_AAACGGGCAATAGAGT-1</th><td>GSE162498</td><td>1262</td><td>718</td><td>adjacent healthy</td><td>healthy</td><td>P60</td><td>GSE162498_healthy_P60</td><td>13.946117</td><td>4</td><td>4</td><td>lung</td><td>healthy</td><td>NA</td><td>GSE162498_healthy_P60</td></tr>\n",
       "\t<tr><th scope=row>GSE162498_Healthy_P60_AAACGGGGTTGTGGCC-1</th><td>GSE162498</td><td>1373</td><td>790</td><td>adjacent healthy</td><td>healthy</td><td>P60</td><td>GSE162498_healthy_P60</td><td>13.692644</td><td>4</td><td>4</td><td>lung</td><td>healthy</td><td>NA</td><td>GSE162498_healthy_P60</td></tr>\n",
       "\t<tr><th scope=row>GSE162498_Healthy_P60_AAAGATGCAGTCAGAG-1</th><td>GSE162498</td><td> 853</td><td>520</td><td>adjacent healthy</td><td>healthy</td><td>P60</td><td>GSE162498_healthy_P60</td><td>13.130129</td><td>4</td><td>4</td><td>lung</td><td>healthy</td><td>NA</td><td>GSE162498_healthy_P60</td></tr>\n",
       "\t<tr><th scope=row>GSE162498_Healthy_P60_AAAGATGGTCAAAGCG-1</th><td>GSE162498</td><td> 583</td><td>358</td><td>adjacent healthy</td><td>healthy</td><td>P60</td><td>GSE162498_healthy_P60</td><td> 1.029160</td><td>6</td><td>6</td><td>lung</td><td>healthy</td><td>NA</td><td>GSE162498_healthy_P60</td></tr>\n",
       "</tbody>\n",
       "</table>\n"
      ],
      "text/latex": [
       "A data.frame: 6 × 14\n",
       "\\begin{tabular}{r|llllllllllllll}\n",
       "  & orig.ident & nCount\\_RNA & nFeature\\_RNA & sample\\_type & cancer\\_type & patient\\_id & sample\\_id & percent.mt & RNA\\_snn\\_res.0.2 & seurat\\_clusters & site & sample\\_type\\_major & cancer\\_subtype & integration\\_id\\\\\n",
       "  & <chr> & <dbl> & <int> & <chr> & <chr> & <chr> & <chr> & <dbl> & <chr> & <chr> & <chr> & <chr> & <chr> & <chr>\\\\\n",
       "\\hline\n",
       "\tGSE162498\\_Healthy\\_P60\\_AAACCTGGTTCCACTC-1 & GSE162498 & 1608 & 763 & adjacent healthy & healthy & P60 & GSE162498\\_healthy\\_P60 &  9.328358 & 4 & 4 & lung & healthy & NA & GSE162498\\_healthy\\_P60\\\\\n",
       "\tGSE162498\\_Healthy\\_P60\\_AAACCTGTCTCCGGTT-1 & GSE162498 & 1054 & 502 & adjacent healthy & healthy & P60 & GSE162498\\_healthy\\_P60 & 21.157495 & 4 & 4 & lung & healthy & NA & GSE162498\\_healthy\\_P60\\\\\n",
       "\tGSE162498\\_Healthy\\_P60\\_AAACGGGCAATAGAGT-1 & GSE162498 & 1262 & 718 & adjacent healthy & healthy & P60 & GSE162498\\_healthy\\_P60 & 13.946117 & 4 & 4 & lung & healthy & NA & GSE162498\\_healthy\\_P60\\\\\n",
       "\tGSE162498\\_Healthy\\_P60\\_AAACGGGGTTGTGGCC-1 & GSE162498 & 1373 & 790 & adjacent healthy & healthy & P60 & GSE162498\\_healthy\\_P60 & 13.692644 & 4 & 4 & lung & healthy & NA & GSE162498\\_healthy\\_P60\\\\\n",
       "\tGSE162498\\_Healthy\\_P60\\_AAAGATGCAGTCAGAG-1 & GSE162498 &  853 & 520 & adjacent healthy & healthy & P60 & GSE162498\\_healthy\\_P60 & 13.130129 & 4 & 4 & lung & healthy & NA & GSE162498\\_healthy\\_P60\\\\\n",
       "\tGSE162498\\_Healthy\\_P60\\_AAAGATGGTCAAAGCG-1 & GSE162498 &  583 & 358 & adjacent healthy & healthy & P60 & GSE162498\\_healthy\\_P60 &  1.029160 & 6 & 6 & lung & healthy & NA & GSE162498\\_healthy\\_P60\\\\\n",
       "\\end{tabular}\n"
      ],
      "text/markdown": [
       "\n",
       "A data.frame: 6 × 14\n",
       "\n",
       "| <!--/--> | orig.ident &lt;chr&gt; | nCount_RNA &lt;dbl&gt; | nFeature_RNA &lt;int&gt; | sample_type &lt;chr&gt; | cancer_type &lt;chr&gt; | patient_id &lt;chr&gt; | sample_id &lt;chr&gt; | percent.mt &lt;dbl&gt; | RNA_snn_res.0.2 &lt;chr&gt; | seurat_clusters &lt;chr&gt; | site &lt;chr&gt; | sample_type_major &lt;chr&gt; | cancer_subtype &lt;chr&gt; | integration_id &lt;chr&gt; |\n",
       "|---|---|---|---|---|---|---|---|---|---|---|---|---|---|---|\n",
       "| GSE162498_Healthy_P60_AAACCTGGTTCCACTC-1 | GSE162498 | 1608 | 763 | adjacent healthy | healthy | P60 | GSE162498_healthy_P60 |  9.328358 | 4 | 4 | lung | healthy | NA | GSE162498_healthy_P60 |\n",
       "| GSE162498_Healthy_P60_AAACCTGTCTCCGGTT-1 | GSE162498 | 1054 | 502 | adjacent healthy | healthy | P60 | GSE162498_healthy_P60 | 21.157495 | 4 | 4 | lung | healthy | NA | GSE162498_healthy_P60 |\n",
       "| GSE162498_Healthy_P60_AAACGGGCAATAGAGT-1 | GSE162498 | 1262 | 718 | adjacent healthy | healthy | P60 | GSE162498_healthy_P60 | 13.946117 | 4 | 4 | lung | healthy | NA | GSE162498_healthy_P60 |\n",
       "| GSE162498_Healthy_P60_AAACGGGGTTGTGGCC-1 | GSE162498 | 1373 | 790 | adjacent healthy | healthy | P60 | GSE162498_healthy_P60 | 13.692644 | 4 | 4 | lung | healthy | NA | GSE162498_healthy_P60 |\n",
       "| GSE162498_Healthy_P60_AAAGATGCAGTCAGAG-1 | GSE162498 |  853 | 520 | adjacent healthy | healthy | P60 | GSE162498_healthy_P60 | 13.130129 | 4 | 4 | lung | healthy | NA | GSE162498_healthy_P60 |\n",
       "| GSE162498_Healthy_P60_AAAGATGGTCAAAGCG-1 | GSE162498 |  583 | 358 | adjacent healthy | healthy | P60 | GSE162498_healthy_P60 |  1.029160 | 6 | 6 | lung | healthy | NA | GSE162498_healthy_P60 |\n",
       "\n"
      ],
      "text/plain": [
       "                                         orig.ident nCount_RNA nFeature_RNA\n",
       "GSE162498_Healthy_P60_AAACCTGGTTCCACTC-1 GSE162498  1608       763         \n",
       "GSE162498_Healthy_P60_AAACCTGTCTCCGGTT-1 GSE162498  1054       502         \n",
       "GSE162498_Healthy_P60_AAACGGGCAATAGAGT-1 GSE162498  1262       718         \n",
       "GSE162498_Healthy_P60_AAACGGGGTTGTGGCC-1 GSE162498  1373       790         \n",
       "GSE162498_Healthy_P60_AAAGATGCAGTCAGAG-1 GSE162498   853       520         \n",
       "GSE162498_Healthy_P60_AAAGATGGTCAAAGCG-1 GSE162498   583       358         \n",
       "                                         sample_type      cancer_type\n",
       "GSE162498_Healthy_P60_AAACCTGGTTCCACTC-1 adjacent healthy healthy    \n",
       "GSE162498_Healthy_P60_AAACCTGTCTCCGGTT-1 adjacent healthy healthy    \n",
       "GSE162498_Healthy_P60_AAACGGGCAATAGAGT-1 adjacent healthy healthy    \n",
       "GSE162498_Healthy_P60_AAACGGGGTTGTGGCC-1 adjacent healthy healthy    \n",
       "GSE162498_Healthy_P60_AAAGATGCAGTCAGAG-1 adjacent healthy healthy    \n",
       "GSE162498_Healthy_P60_AAAGATGGTCAAAGCG-1 adjacent healthy healthy    \n",
       "                                         patient_id sample_id            \n",
       "GSE162498_Healthy_P60_AAACCTGGTTCCACTC-1 P60        GSE162498_healthy_P60\n",
       "GSE162498_Healthy_P60_AAACCTGTCTCCGGTT-1 P60        GSE162498_healthy_P60\n",
       "GSE162498_Healthy_P60_AAACGGGCAATAGAGT-1 P60        GSE162498_healthy_P60\n",
       "GSE162498_Healthy_P60_AAACGGGGTTGTGGCC-1 P60        GSE162498_healthy_P60\n",
       "GSE162498_Healthy_P60_AAAGATGCAGTCAGAG-1 P60        GSE162498_healthy_P60\n",
       "GSE162498_Healthy_P60_AAAGATGGTCAAAGCG-1 P60        GSE162498_healthy_P60\n",
       "                                         percent.mt RNA_snn_res.0.2\n",
       "GSE162498_Healthy_P60_AAACCTGGTTCCACTC-1  9.328358  4              \n",
       "GSE162498_Healthy_P60_AAACCTGTCTCCGGTT-1 21.157495  4              \n",
       "GSE162498_Healthy_P60_AAACGGGCAATAGAGT-1 13.946117  4              \n",
       "GSE162498_Healthy_P60_AAACGGGGTTGTGGCC-1 13.692644  4              \n",
       "GSE162498_Healthy_P60_AAAGATGCAGTCAGAG-1 13.130129  4              \n",
       "GSE162498_Healthy_P60_AAAGATGGTCAAAGCG-1  1.029160  6              \n",
       "                                         seurat_clusters site sample_type_major\n",
       "GSE162498_Healthy_P60_AAACCTGGTTCCACTC-1 4               lung healthy          \n",
       "GSE162498_Healthy_P60_AAACCTGTCTCCGGTT-1 4               lung healthy          \n",
       "GSE162498_Healthy_P60_AAACGGGCAATAGAGT-1 4               lung healthy          \n",
       "GSE162498_Healthy_P60_AAACGGGGTTGTGGCC-1 4               lung healthy          \n",
       "GSE162498_Healthy_P60_AAAGATGCAGTCAGAG-1 4               lung healthy          \n",
       "GSE162498_Healthy_P60_AAAGATGGTCAAAGCG-1 6               lung healthy          \n",
       "                                         cancer_subtype integration_id       \n",
       "GSE162498_Healthy_P60_AAACCTGGTTCCACTC-1 NA             GSE162498_healthy_P60\n",
       "GSE162498_Healthy_P60_AAACCTGTCTCCGGTT-1 NA             GSE162498_healthy_P60\n",
       "GSE162498_Healthy_P60_AAACGGGCAATAGAGT-1 NA             GSE162498_healthy_P60\n",
       "GSE162498_Healthy_P60_AAACGGGGTTGTGGCC-1 NA             GSE162498_healthy_P60\n",
       "GSE162498_Healthy_P60_AAAGATGCAGTCAGAG-1 NA             GSE162498_healthy_P60\n",
       "GSE162498_Healthy_P60_AAAGATGGTCAAAGCG-1 NA             GSE162498_healthy_P60"
      ]
     },
     "metadata": {},
     "output_type": "display_data"
    }
   ],
   "source": [
    "LUNG\n",
    "LUNG@project.name\n",
    "head(LUNG@meta.data)"
   ]
  },
  {
   "cell_type": "code",
   "execution_count": 35,
   "metadata": {
    "vscode": {
     "languageId": "r"
    }
   },
   "outputs": [
    {
     "data": {
      "text/plain": [
       "\n",
       "GSE162498_healthy_P60 GSE162498_healthy_P61   GSE162498_NSCLC_P34 \n",
       "                  809                  1215                   482 \n",
       "  GSE162498_NSCLC_P35   GSE162498_NSCLC_P42   GSE162498_NSCLC_P43 \n",
       "                  685                  4404                  1868 \n",
       "  GSE162498_NSCLC_P46   GSE162498_NSCLC_P47   GSE162498_NSCLC_P55 \n",
       "                  999                  7144                  1579 \n",
       "  GSE162498_NSCLC_P57   GSE162498_NSCLC_P58   GSE162498_NSCLC_P60 \n",
       "                 5809                   680                  1845 \n",
       "  GSE162498_NSCLC_P61 \n",
       "                 1262 "
      ]
     },
     "metadata": {},
     "output_type": "display_data"
    }
   ],
   "source": [
    "#exclude any samples with <100 cells\n",
    "table(LUNG$integration_id)\n",
    "#none to exclude \n",
    "#BRE <- subset(BRE, !(subset = integration_id %in% c(\"\")))\n",
    "#table(BRE$integration_id)"
   ]
  },
  {
   "cell_type": "code",
   "execution_count": 36,
   "metadata": {
    "vscode": {
     "languageId": "r"
    }
   },
   "outputs": [
    {
     "data": {
      "text/html": [
       "<style>\n",
       ".list-inline {list-style: none; margin:0; padding: 0}\n",
       ".list-inline>li {display: inline-block}\n",
       ".list-inline>li:not(:last-child)::after {content: \"\\00b7\"; padding: 0 .5ex}\n",
       "</style>\n",
       "<ol class=list-inline><li>'counts.10.1'</li><li>'counts.12.1'</li><li>'data.10.1'</li><li>'data.12.1'</li><li>'scale.data.1'</li><li>'counts.1.2'</li><li>'counts.2.2'</li><li>'counts.3.2'</li><li>'counts.4.2'</li><li>'counts.5.2'</li><li>'counts.6.2'</li><li>'counts.7.2'</li><li>'counts.8.2'</li><li>'counts.9.2'</li><li>'counts.11.2'</li><li>'counts.13.2'</li><li>'data.1.2'</li><li>'data.2.2'</li><li>'data.3.2'</li><li>'data.4.2'</li><li>'data.5.2'</li><li>'data.6.2'</li><li>'data.7.2'</li><li>'data.8.2'</li><li>'data.9.2'</li><li>'data.11.2'</li><li>'data.13.2'</li><li>'scale.data.2'</li></ol>\n"
      ],
      "text/latex": [
       "\\begin{enumerate*}\n",
       "\\item 'counts.10.1'\n",
       "\\item 'counts.12.1'\n",
       "\\item 'data.10.1'\n",
       "\\item 'data.12.1'\n",
       "\\item 'scale.data.1'\n",
       "\\item 'counts.1.2'\n",
       "\\item 'counts.2.2'\n",
       "\\item 'counts.3.2'\n",
       "\\item 'counts.4.2'\n",
       "\\item 'counts.5.2'\n",
       "\\item 'counts.6.2'\n",
       "\\item 'counts.7.2'\n",
       "\\item 'counts.8.2'\n",
       "\\item 'counts.9.2'\n",
       "\\item 'counts.11.2'\n",
       "\\item 'counts.13.2'\n",
       "\\item 'data.1.2'\n",
       "\\item 'data.2.2'\n",
       "\\item 'data.3.2'\n",
       "\\item 'data.4.2'\n",
       "\\item 'data.5.2'\n",
       "\\item 'data.6.2'\n",
       "\\item 'data.7.2'\n",
       "\\item 'data.8.2'\n",
       "\\item 'data.9.2'\n",
       "\\item 'data.11.2'\n",
       "\\item 'data.13.2'\n",
       "\\item 'scale.data.2'\n",
       "\\end{enumerate*}\n"
      ],
      "text/markdown": [
       "1. 'counts.10.1'\n",
       "2. 'counts.12.1'\n",
       "3. 'data.10.1'\n",
       "4. 'data.12.1'\n",
       "5. 'scale.data.1'\n",
       "6. 'counts.1.2'\n",
       "7. 'counts.2.2'\n",
       "8. 'counts.3.2'\n",
       "9. 'counts.4.2'\n",
       "10. 'counts.5.2'\n",
       "11. 'counts.6.2'\n",
       "12. 'counts.7.2'\n",
       "13. 'counts.8.2'\n",
       "14. 'counts.9.2'\n",
       "15. 'counts.11.2'\n",
       "16. 'counts.13.2'\n",
       "17. 'data.1.2'\n",
       "18. 'data.2.2'\n",
       "19. 'data.3.2'\n",
       "20. 'data.4.2'\n",
       "21. 'data.5.2'\n",
       "22. 'data.6.2'\n",
       "23. 'data.7.2'\n",
       "24. 'data.8.2'\n",
       "25. 'data.9.2'\n",
       "26. 'data.11.2'\n",
       "27. 'data.13.2'\n",
       "28. 'scale.data.2'\n",
       "\n",
       "\n"
      ],
      "text/plain": [
       " [1] \"counts.10.1\"  \"counts.12.1\"  \"data.10.1\"    \"data.12.1\"    \"scale.data.1\"\n",
       " [6] \"counts.1.2\"   \"counts.2.2\"   \"counts.3.2\"   \"counts.4.2\"   \"counts.5.2\"  \n",
       "[11] \"counts.6.2\"   \"counts.7.2\"   \"counts.8.2\"   \"counts.9.2\"   \"counts.11.2\" \n",
       "[16] \"counts.13.2\"  \"data.1.2\"     \"data.2.2\"     \"data.3.2\"     \"data.4.2\"    \n",
       "[21] \"data.5.2\"     \"data.6.2\"     \"data.7.2\"     \"data.8.2\"     \"data.9.2\"    \n",
       "[26] \"data.11.2\"    \"data.13.2\"    \"scale.data.2\""
      ]
     },
     "metadata": {},
     "output_type": "display_data"
    },
    {
     "data": {
      "text/html": [
       "<style>\n",
       ".list-inline {list-style: none; margin:0; padding: 0}\n",
       ".list-inline>li {display: inline-block}\n",
       ".list-inline>li:not(:last-child)::after {content: \"\\00b7\"; padding: 0 .5ex}\n",
       "</style>\n",
       "<ol class=list-inline><li>'scale.data'</li><li>'data'</li><li>'counts'</li></ol>\n"
      ],
      "text/latex": [
       "\\begin{enumerate*}\n",
       "\\item 'scale.data'\n",
       "\\item 'data'\n",
       "\\item 'counts'\n",
       "\\end{enumerate*}\n"
      ],
      "text/markdown": [
       "1. 'scale.data'\n",
       "2. 'data'\n",
       "3. 'counts'\n",
       "\n",
       "\n"
      ],
      "text/plain": [
       "[1] \"scale.data\" \"data\"       \"counts\"    "
      ]
     },
     "metadata": {},
     "output_type": "display_data"
    },
    {
     "name": "stderr",
     "output_type": "stream",
     "text": [
      "Splitting ‘counts’, ‘data’ layers. Not splitting ‘scale.data’. If you would like to split other layers, set in `layers` argument.\n",
      "\n"
     ]
    },
    {
     "data": {
      "text/html": [
       "<style>\n",
       ".list-inline {list-style: none; margin:0; padding: 0}\n",
       ".list-inline>li {display: inline-block}\n",
       ".list-inline>li:not(:last-child)::after {content: \"\\00b7\"; padding: 0 .5ex}\n",
       "</style>\n",
       "<ol class=list-inline><li>'counts.GSE162498_healthy_P60'</li><li>'counts.GSE162498_healthy_P61'</li><li>'counts.GSE162498_NSCLC_P34'</li><li>'counts.GSE162498_NSCLC_P35'</li><li>'counts.GSE162498_NSCLC_P42'</li><li>'counts.GSE162498_NSCLC_P43'</li><li>'counts.GSE162498_NSCLC_P46'</li><li>'counts.GSE162498_NSCLC_P47'</li><li>'counts.GSE162498_NSCLC_P55'</li><li>'counts.GSE162498_NSCLC_P57'</li><li>'counts.GSE162498_NSCLC_P58'</li><li>'counts.GSE162498_NSCLC_P60'</li><li>'counts.GSE162498_NSCLC_P61'</li><li>'scale.data'</li><li>'data.GSE162498_healthy_P60'</li><li>'data.GSE162498_healthy_P61'</li><li>'data.GSE162498_NSCLC_P34'</li><li>'data.GSE162498_NSCLC_P35'</li><li>'data.GSE162498_NSCLC_P42'</li><li>'data.GSE162498_NSCLC_P43'</li><li>'data.GSE162498_NSCLC_P46'</li><li>'data.GSE162498_NSCLC_P47'</li><li>'data.GSE162498_NSCLC_P55'</li><li>'data.GSE162498_NSCLC_P57'</li><li>'data.GSE162498_NSCLC_P58'</li><li>'data.GSE162498_NSCLC_P60'</li><li>'data.GSE162498_NSCLC_P61'</li></ol>\n"
      ],
      "text/latex": [
       "\\begin{enumerate*}\n",
       "\\item 'counts.GSE162498\\_healthy\\_P60'\n",
       "\\item 'counts.GSE162498\\_healthy\\_P61'\n",
       "\\item 'counts.GSE162498\\_NSCLC\\_P34'\n",
       "\\item 'counts.GSE162498\\_NSCLC\\_P35'\n",
       "\\item 'counts.GSE162498\\_NSCLC\\_P42'\n",
       "\\item 'counts.GSE162498\\_NSCLC\\_P43'\n",
       "\\item 'counts.GSE162498\\_NSCLC\\_P46'\n",
       "\\item 'counts.GSE162498\\_NSCLC\\_P47'\n",
       "\\item 'counts.GSE162498\\_NSCLC\\_P55'\n",
       "\\item 'counts.GSE162498\\_NSCLC\\_P57'\n",
       "\\item 'counts.GSE162498\\_NSCLC\\_P58'\n",
       "\\item 'counts.GSE162498\\_NSCLC\\_P60'\n",
       "\\item 'counts.GSE162498\\_NSCLC\\_P61'\n",
       "\\item 'scale.data'\n",
       "\\item 'data.GSE162498\\_healthy\\_P60'\n",
       "\\item 'data.GSE162498\\_healthy\\_P61'\n",
       "\\item 'data.GSE162498\\_NSCLC\\_P34'\n",
       "\\item 'data.GSE162498\\_NSCLC\\_P35'\n",
       "\\item 'data.GSE162498\\_NSCLC\\_P42'\n",
       "\\item 'data.GSE162498\\_NSCLC\\_P43'\n",
       "\\item 'data.GSE162498\\_NSCLC\\_P46'\n",
       "\\item 'data.GSE162498\\_NSCLC\\_P47'\n",
       "\\item 'data.GSE162498\\_NSCLC\\_P55'\n",
       "\\item 'data.GSE162498\\_NSCLC\\_P57'\n",
       "\\item 'data.GSE162498\\_NSCLC\\_P58'\n",
       "\\item 'data.GSE162498\\_NSCLC\\_P60'\n",
       "\\item 'data.GSE162498\\_NSCLC\\_P61'\n",
       "\\end{enumerate*}\n"
      ],
      "text/markdown": [
       "1. 'counts.GSE162498_healthy_P60'\n",
       "2. 'counts.GSE162498_healthy_P61'\n",
       "3. 'counts.GSE162498_NSCLC_P34'\n",
       "4. 'counts.GSE162498_NSCLC_P35'\n",
       "5. 'counts.GSE162498_NSCLC_P42'\n",
       "6. 'counts.GSE162498_NSCLC_P43'\n",
       "7. 'counts.GSE162498_NSCLC_P46'\n",
       "8. 'counts.GSE162498_NSCLC_P47'\n",
       "9. 'counts.GSE162498_NSCLC_P55'\n",
       "10. 'counts.GSE162498_NSCLC_P57'\n",
       "11. 'counts.GSE162498_NSCLC_P58'\n",
       "12. 'counts.GSE162498_NSCLC_P60'\n",
       "13. 'counts.GSE162498_NSCLC_P61'\n",
       "14. 'scale.data'\n",
       "15. 'data.GSE162498_healthy_P60'\n",
       "16. 'data.GSE162498_healthy_P61'\n",
       "17. 'data.GSE162498_NSCLC_P34'\n",
       "18. 'data.GSE162498_NSCLC_P35'\n",
       "19. 'data.GSE162498_NSCLC_P42'\n",
       "20. 'data.GSE162498_NSCLC_P43'\n",
       "21. 'data.GSE162498_NSCLC_P46'\n",
       "22. 'data.GSE162498_NSCLC_P47'\n",
       "23. 'data.GSE162498_NSCLC_P55'\n",
       "24. 'data.GSE162498_NSCLC_P57'\n",
       "25. 'data.GSE162498_NSCLC_P58'\n",
       "26. 'data.GSE162498_NSCLC_P60'\n",
       "27. 'data.GSE162498_NSCLC_P61'\n",
       "\n",
       "\n"
      ],
      "text/plain": [
       " [1] \"counts.GSE162498_healthy_P60\" \"counts.GSE162498_healthy_P61\"\n",
       " [3] \"counts.GSE162498_NSCLC_P34\"   \"counts.GSE162498_NSCLC_P35\"  \n",
       " [5] \"counts.GSE162498_NSCLC_P42\"   \"counts.GSE162498_NSCLC_P43\"  \n",
       " [7] \"counts.GSE162498_NSCLC_P46\"   \"counts.GSE162498_NSCLC_P47\"  \n",
       " [9] \"counts.GSE162498_NSCLC_P55\"   \"counts.GSE162498_NSCLC_P57\"  \n",
       "[11] \"counts.GSE162498_NSCLC_P58\"   \"counts.GSE162498_NSCLC_P60\"  \n",
       "[13] \"counts.GSE162498_NSCLC_P61\"   \"scale.data\"                  \n",
       "[15] \"data.GSE162498_healthy_P60\"   \"data.GSE162498_healthy_P61\"  \n",
       "[17] \"data.GSE162498_NSCLC_P34\"     \"data.GSE162498_NSCLC_P35\"    \n",
       "[19] \"data.GSE162498_NSCLC_P42\"     \"data.GSE162498_NSCLC_P43\"    \n",
       "[21] \"data.GSE162498_NSCLC_P46\"     \"data.GSE162498_NSCLC_P47\"    \n",
       "[23] \"data.GSE162498_NSCLC_P55\"     \"data.GSE162498_NSCLC_P57\"    \n",
       "[25] \"data.GSE162498_NSCLC_P58\"     \"data.GSE162498_NSCLC_P60\"    \n",
       "[27] \"data.GSE162498_NSCLC_P61\"    "
      ]
     },
     "metadata": {},
     "output_type": "display_data"
    }
   ],
   "source": [
    "#join layers and then split them by integration_id\n",
    "Layers(LUNG[[\"RNA\"]])\n",
    "#join layers\n",
    "LUNG[[\"RNA\"]] <- JoinLayers(LUNG[[\"RNA\"]])\n",
    "Layers(LUNG[[\"RNA\"]])\n",
    "#split layers\n",
    "LUNG[[\"RNA\"]] <- split(LUNG[[\"RNA\"]], f = LUNG$integration_id)\n",
    "Layers(LUNG[[\"RNA\"]])\n"
   ]
  },
  {
   "cell_type": "code",
   "execution_count": 38,
   "metadata": {
    "vscode": {
     "languageId": "r"
    }
   },
   "outputs": [
    {
     "data": {
      "text/plain": [
       "\n",
       "GSE162498_healthy_P60 GSE162498_healthy_P61   GSE162498_NSCLC_P34 \n",
       "                  809                  1215                   482 \n",
       "  GSE162498_NSCLC_P35   GSE162498_NSCLC_P42   GSE162498_NSCLC_P43 \n",
       "                  685                  4404                  1868 \n",
       "  GSE162498_NSCLC_P46   GSE162498_NSCLC_P47   GSE162498_NSCLC_P55 \n",
       "                  999                  7144                  1579 \n",
       "  GSE162498_NSCLC_P57   GSE162498_NSCLC_P58   GSE162498_NSCLC_P60 \n",
       "                 5809                   680                  1845 \n",
       "  GSE162498_NSCLC_P61 \n",
       "                 1262 "
      ]
     },
     "metadata": {},
     "output_type": "display_data"
    },
    {
     "data": {
      "text/plain": [
       "An object of class Seurat \n",
       "45068 features across 28781 samples within 1 assay \n",
       "Active assay: RNA (45068 features, 2000 variable features)\n",
       " 27 layers present: counts.GSE162498_healthy_P60, counts.GSE162498_healthy_P61, counts.GSE162498_NSCLC_P34, counts.GSE162498_NSCLC_P35, counts.GSE162498_NSCLC_P42, counts.GSE162498_NSCLC_P43, counts.GSE162498_NSCLC_P46, counts.GSE162498_NSCLC_P47, counts.GSE162498_NSCLC_P55, counts.GSE162498_NSCLC_P57, counts.GSE162498_NSCLC_P58, counts.GSE162498_NSCLC_P60, counts.GSE162498_NSCLC_P61, scale.data, data.GSE162498_healthy_P60, data.GSE162498_healthy_P61, data.GSE162498_NSCLC_P34, data.GSE162498_NSCLC_P35, data.GSE162498_NSCLC_P42, data.GSE162498_NSCLC_P43, data.GSE162498_NSCLC_P46, data.GSE162498_NSCLC_P47, data.GSE162498_NSCLC_P55, data.GSE162498_NSCLC_P57, data.GSE162498_NSCLC_P58, data.GSE162498_NSCLC_P60, data.GSE162498_NSCLC_P61"
      ]
     },
     "metadata": {},
     "output_type": "display_data"
    },
    {
     "data": {
      "text/html": [
       "'GSE162498'"
      ],
      "text/latex": [
       "'GSE162498'"
      ],
      "text/markdown": [
       "'GSE162498'"
      ],
      "text/plain": [
       "[1] \"GSE162498\""
      ]
     },
     "metadata": {},
     "output_type": "display_data"
    }
   ],
   "source": [
    "#record number of cells\n",
    "table(LUNG$integration_id)\n",
    "LUNG\n",
    "LUNG@project.name"
   ]
  },
  {
   "cell_type": "code",
   "execution_count": 39,
   "metadata": {
    "vscode": {
     "languageId": "r"
    }
   },
   "outputs": [],
   "source": [
    "#re-export seurat object ready for integration\n",
    "saveRDS(LUNG, \"/scratch/user/s4436039/scdata/Myeloid_Cells/Myeloid_Cells_Integrate/GSE162498_myeloid_int.RDS\")"
   ]
  },
  {
   "cell_type": "code",
   "execution_count": 40,
   "metadata": {
    "vscode": {
     "languageId": "r"
    }
   },
   "outputs": [],
   "source": [
    "#remove all objects in R\n",
    "rm(list = ls())"
   ]
  },
  {
   "cell_type": "markdown",
   "metadata": {},
   "source": [
    "## GSE131907"
   ]
  },
  {
   "cell_type": "markdown",
   "metadata": {},
   "source": [
    "* note: these were originally labelled LUAD but in paper they say that LUAD is the most common subtype of NSCLC, so to be consistent with other datasets will define cancer_subtype here as MSCLC"
   ]
  },
  {
   "cell_type": "code",
   "execution_count": 41,
   "metadata": {
    "vscode": {
     "languageId": "r"
    }
   },
   "outputs": [],
   "source": [
    "LUNG <- readRDS(\"/scratch/user/s4436039/scdata/Myeloid_Cells/GSE131907_myeloid.RDS\")"
   ]
  },
  {
   "cell_type": "code",
   "execution_count": 43,
   "metadata": {
    "vscode": {
     "languageId": "r"
    }
   },
   "outputs": [
    {
     "data": {
      "text/plain": [
       "An object of class Seurat \n",
       "29634 features across 36524 samples within 1 assay \n",
       "Active assay: RNA (29634 features, 2000 variable features)\n",
       " 87 layers present: counts.1, counts.2, counts.3, counts.4, counts.5, counts.6, counts.7, counts.8, counts.9, counts.10, counts.11, counts.12, counts.13, counts.14, counts.15, counts.16, counts.17, counts.18, counts.19, counts.20, counts.21, counts.22, counts.23, counts.24, counts.25, counts.26, counts.27, counts.28, counts.29, counts.30, counts.31, counts.32, counts.33, counts.34, counts.35, counts.36, counts.37, counts.38, counts.39, counts.40, counts.41, counts.42, counts.43, data.1, data.2, data.3, data.4, data.5, data.6, data.7, data.8, data.9, data.10, data.11, data.12, data.13, data.14, data.15, data.16, data.17, data.18, data.19, data.20, data.21, data.22, data.23, data.24, data.25, data.26, data.27, data.28, data.29, data.30, data.31, data.32, data.33, data.34, data.35, data.36, data.37, data.38, data.39, data.40, data.41, data.42, data.43, scale.data\n",
       " 2 dimensional reductions calculated: pca, umap"
      ]
     },
     "metadata": {},
     "output_type": "display_data"
    },
    {
     "data": {
      "text/html": [
       "'GSE131907'"
      ],
      "text/latex": [
       "'GSE131907'"
      ],
      "text/markdown": [
       "'GSE131907'"
      ],
      "text/plain": [
       "[1] \"GSE131907\""
      ]
     },
     "metadata": {},
     "output_type": "display_data"
    },
    {
     "data": {
      "text/html": [
       "<table class=\"dataframe\">\n",
       "<caption>A data.frame: 6 × 11</caption>\n",
       "<thead>\n",
       "\t<tr><th></th><th scope=col>orig.ident</th><th scope=col>nCount_RNA</th><th scope=col>nFeature_RNA</th><th scope=col>sample_meta</th><th scope=col>sample_type</th><th scope=col>cancer_type</th><th scope=col>patient_id</th><th scope=col>sample_id</th><th scope=col>percent.mt</th><th scope=col>RNA_snn_res.0.2</th><th scope=col>seurat_clusters</th></tr>\n",
       "\t<tr><th></th><th scope=col>&lt;chr&gt;</th><th scope=col>&lt;dbl&gt;</th><th scope=col>&lt;int&gt;</th><th scope=col>&lt;chr&gt;</th><th scope=col>&lt;chr&gt;</th><th scope=col>&lt;chr&gt;</th><th scope=col>&lt;chr&gt;</th><th scope=col>&lt;chr&gt;</th><th scope=col>&lt;dbl&gt;</th><th scope=col>&lt;fct&gt;</th><th scope=col>&lt;fct&gt;</th></tr>\n",
       "</thead>\n",
       "<tbody>\n",
       "\t<tr><th scope=row>GSE131907_LUAD_Tu_T0006_AAACCTGAGTTGCAGG_LUNG_T06</th><td>GSE131907</td><td> 1695</td><td> 711</td><td>LUNG_T06</td><td>tumour</td><td>LUAD</td><td>Pt_0006</td><td>GSE131907_LUAD_T0006</td><td>9.498525</td><td>1</td><td>1</td></tr>\n",
       "\t<tr><th scope=row>GSE131907_LUAD_Tu_T0006_AAACCTGTCCAGAAGG_LUNG_T06</th><td>GSE131907</td><td> 9826</td><td>2260</td><td>LUNG_T06</td><td>tumour</td><td>LUAD</td><td>Pt_0006</td><td>GSE131907_LUAD_T0006</td><td>2.869937</td><td>1</td><td>1</td></tr>\n",
       "\t<tr><th scope=row>GSE131907_LUAD_Tu_T0006_AAAGATGTCTCATTCA_LUNG_T06</th><td>GSE131907</td><td>13178</td><td>3079</td><td>LUNG_T06</td><td>tumour</td><td>LUAD</td><td>Pt_0006</td><td>GSE131907_LUAD_T0006</td><td>4.932463</td><td>1</td><td>1</td></tr>\n",
       "\t<tr><th scope=row>GSE131907_LUAD_Tu_T0006_AAAGCAAGTAATTGGA_LUNG_T06</th><td>GSE131907</td><td> 6779</td><td>1826</td><td>LUNG_T06</td><td>tumour</td><td>LUAD</td><td>Pt_0006</td><td>GSE131907_LUAD_T0006</td><td>4.912229</td><td>1</td><td>1</td></tr>\n",
       "\t<tr><th scope=row>GSE131907_LUAD_Tu_T0006_AAATGCCCATTACGAC_LUNG_T06</th><td>GSE131907</td><td>24381</td><td>4356</td><td>LUNG_T06</td><td>tumour</td><td>LUAD</td><td>Pt_0006</td><td>GSE131907_LUAD_T0006</td><td>4.335343</td><td>1</td><td>1</td></tr>\n",
       "\t<tr><th scope=row>GSE131907_LUAD_Tu_T0006_AAATGCCTCGTGGGAA_LUNG_T06</th><td>GSE131907</td><td> 9638</td><td>2226</td><td>LUNG_T06</td><td>tumour</td><td>LUAD</td><td>Pt_0006</td><td>GSE131907_LUAD_T0006</td><td>3.662586</td><td>1</td><td>1</td></tr>\n",
       "</tbody>\n",
       "</table>\n"
      ],
      "text/latex": [
       "A data.frame: 6 × 11\n",
       "\\begin{tabular}{r|lllllllllll}\n",
       "  & orig.ident & nCount\\_RNA & nFeature\\_RNA & sample\\_meta & sample\\_type & cancer\\_type & patient\\_id & sample\\_id & percent.mt & RNA\\_snn\\_res.0.2 & seurat\\_clusters\\\\\n",
       "  & <chr> & <dbl> & <int> & <chr> & <chr> & <chr> & <chr> & <chr> & <dbl> & <fct> & <fct>\\\\\n",
       "\\hline\n",
       "\tGSE131907\\_LUAD\\_Tu\\_T0006\\_AAACCTGAGTTGCAGG\\_LUNG\\_T06 & GSE131907 &  1695 &  711 & LUNG\\_T06 & tumour & LUAD & Pt\\_0006 & GSE131907\\_LUAD\\_T0006 & 9.498525 & 1 & 1\\\\\n",
       "\tGSE131907\\_LUAD\\_Tu\\_T0006\\_AAACCTGTCCAGAAGG\\_LUNG\\_T06 & GSE131907 &  9826 & 2260 & LUNG\\_T06 & tumour & LUAD & Pt\\_0006 & GSE131907\\_LUAD\\_T0006 & 2.869937 & 1 & 1\\\\\n",
       "\tGSE131907\\_LUAD\\_Tu\\_T0006\\_AAAGATGTCTCATTCA\\_LUNG\\_T06 & GSE131907 & 13178 & 3079 & LUNG\\_T06 & tumour & LUAD & Pt\\_0006 & GSE131907\\_LUAD\\_T0006 & 4.932463 & 1 & 1\\\\\n",
       "\tGSE131907\\_LUAD\\_Tu\\_T0006\\_AAAGCAAGTAATTGGA\\_LUNG\\_T06 & GSE131907 &  6779 & 1826 & LUNG\\_T06 & tumour & LUAD & Pt\\_0006 & GSE131907\\_LUAD\\_T0006 & 4.912229 & 1 & 1\\\\\n",
       "\tGSE131907\\_LUAD\\_Tu\\_T0006\\_AAATGCCCATTACGAC\\_LUNG\\_T06 & GSE131907 & 24381 & 4356 & LUNG\\_T06 & tumour & LUAD & Pt\\_0006 & GSE131907\\_LUAD\\_T0006 & 4.335343 & 1 & 1\\\\\n",
       "\tGSE131907\\_LUAD\\_Tu\\_T0006\\_AAATGCCTCGTGGGAA\\_LUNG\\_T06 & GSE131907 &  9638 & 2226 & LUNG\\_T06 & tumour & LUAD & Pt\\_0006 & GSE131907\\_LUAD\\_T0006 & 3.662586 & 1 & 1\\\\\n",
       "\\end{tabular}\n"
      ],
      "text/markdown": [
       "\n",
       "A data.frame: 6 × 11\n",
       "\n",
       "| <!--/--> | orig.ident &lt;chr&gt; | nCount_RNA &lt;dbl&gt; | nFeature_RNA &lt;int&gt; | sample_meta &lt;chr&gt; | sample_type &lt;chr&gt; | cancer_type &lt;chr&gt; | patient_id &lt;chr&gt; | sample_id &lt;chr&gt; | percent.mt &lt;dbl&gt; | RNA_snn_res.0.2 &lt;fct&gt; | seurat_clusters &lt;fct&gt; |\n",
       "|---|---|---|---|---|---|---|---|---|---|---|---|\n",
       "| GSE131907_LUAD_Tu_T0006_AAACCTGAGTTGCAGG_LUNG_T06 | GSE131907 |  1695 |  711 | LUNG_T06 | tumour | LUAD | Pt_0006 | GSE131907_LUAD_T0006 | 9.498525 | 1 | 1 |\n",
       "| GSE131907_LUAD_Tu_T0006_AAACCTGTCCAGAAGG_LUNG_T06 | GSE131907 |  9826 | 2260 | LUNG_T06 | tumour | LUAD | Pt_0006 | GSE131907_LUAD_T0006 | 2.869937 | 1 | 1 |\n",
       "| GSE131907_LUAD_Tu_T0006_AAAGATGTCTCATTCA_LUNG_T06 | GSE131907 | 13178 | 3079 | LUNG_T06 | tumour | LUAD | Pt_0006 | GSE131907_LUAD_T0006 | 4.932463 | 1 | 1 |\n",
       "| GSE131907_LUAD_Tu_T0006_AAAGCAAGTAATTGGA_LUNG_T06 | GSE131907 |  6779 | 1826 | LUNG_T06 | tumour | LUAD | Pt_0006 | GSE131907_LUAD_T0006 | 4.912229 | 1 | 1 |\n",
       "| GSE131907_LUAD_Tu_T0006_AAATGCCCATTACGAC_LUNG_T06 | GSE131907 | 24381 | 4356 | LUNG_T06 | tumour | LUAD | Pt_0006 | GSE131907_LUAD_T0006 | 4.335343 | 1 | 1 |\n",
       "| GSE131907_LUAD_Tu_T0006_AAATGCCTCGTGGGAA_LUNG_T06 | GSE131907 |  9638 | 2226 | LUNG_T06 | tumour | LUAD | Pt_0006 | GSE131907_LUAD_T0006 | 3.662586 | 1 | 1 |\n",
       "\n"
      ],
      "text/plain": [
       "                                                  orig.ident nCount_RNA\n",
       "GSE131907_LUAD_Tu_T0006_AAACCTGAGTTGCAGG_LUNG_T06 GSE131907   1695     \n",
       "GSE131907_LUAD_Tu_T0006_AAACCTGTCCAGAAGG_LUNG_T06 GSE131907   9826     \n",
       "GSE131907_LUAD_Tu_T0006_AAAGATGTCTCATTCA_LUNG_T06 GSE131907  13178     \n",
       "GSE131907_LUAD_Tu_T0006_AAAGCAAGTAATTGGA_LUNG_T06 GSE131907   6779     \n",
       "GSE131907_LUAD_Tu_T0006_AAATGCCCATTACGAC_LUNG_T06 GSE131907  24381     \n",
       "GSE131907_LUAD_Tu_T0006_AAATGCCTCGTGGGAA_LUNG_T06 GSE131907   9638     \n",
       "                                                  nFeature_RNA sample_meta\n",
       "GSE131907_LUAD_Tu_T0006_AAACCTGAGTTGCAGG_LUNG_T06  711         LUNG_T06   \n",
       "GSE131907_LUAD_Tu_T0006_AAACCTGTCCAGAAGG_LUNG_T06 2260         LUNG_T06   \n",
       "GSE131907_LUAD_Tu_T0006_AAAGATGTCTCATTCA_LUNG_T06 3079         LUNG_T06   \n",
       "GSE131907_LUAD_Tu_T0006_AAAGCAAGTAATTGGA_LUNG_T06 1826         LUNG_T06   \n",
       "GSE131907_LUAD_Tu_T0006_AAATGCCCATTACGAC_LUNG_T06 4356         LUNG_T06   \n",
       "GSE131907_LUAD_Tu_T0006_AAATGCCTCGTGGGAA_LUNG_T06 2226         LUNG_T06   \n",
       "                                                  sample_type cancer_type\n",
       "GSE131907_LUAD_Tu_T0006_AAACCTGAGTTGCAGG_LUNG_T06 tumour      LUAD       \n",
       "GSE131907_LUAD_Tu_T0006_AAACCTGTCCAGAAGG_LUNG_T06 tumour      LUAD       \n",
       "GSE131907_LUAD_Tu_T0006_AAAGATGTCTCATTCA_LUNG_T06 tumour      LUAD       \n",
       "GSE131907_LUAD_Tu_T0006_AAAGCAAGTAATTGGA_LUNG_T06 tumour      LUAD       \n",
       "GSE131907_LUAD_Tu_T0006_AAATGCCCATTACGAC_LUNG_T06 tumour      LUAD       \n",
       "GSE131907_LUAD_Tu_T0006_AAATGCCTCGTGGGAA_LUNG_T06 tumour      LUAD       \n",
       "                                                  patient_id\n",
       "GSE131907_LUAD_Tu_T0006_AAACCTGAGTTGCAGG_LUNG_T06 Pt_0006   \n",
       "GSE131907_LUAD_Tu_T0006_AAACCTGTCCAGAAGG_LUNG_T06 Pt_0006   \n",
       "GSE131907_LUAD_Tu_T0006_AAAGATGTCTCATTCA_LUNG_T06 Pt_0006   \n",
       "GSE131907_LUAD_Tu_T0006_AAAGCAAGTAATTGGA_LUNG_T06 Pt_0006   \n",
       "GSE131907_LUAD_Tu_T0006_AAATGCCCATTACGAC_LUNG_T06 Pt_0006   \n",
       "GSE131907_LUAD_Tu_T0006_AAATGCCTCGTGGGAA_LUNG_T06 Pt_0006   \n",
       "                                                  sample_id           \n",
       "GSE131907_LUAD_Tu_T0006_AAACCTGAGTTGCAGG_LUNG_T06 GSE131907_LUAD_T0006\n",
       "GSE131907_LUAD_Tu_T0006_AAACCTGTCCAGAAGG_LUNG_T06 GSE131907_LUAD_T0006\n",
       "GSE131907_LUAD_Tu_T0006_AAAGATGTCTCATTCA_LUNG_T06 GSE131907_LUAD_T0006\n",
       "GSE131907_LUAD_Tu_T0006_AAAGCAAGTAATTGGA_LUNG_T06 GSE131907_LUAD_T0006\n",
       "GSE131907_LUAD_Tu_T0006_AAATGCCCATTACGAC_LUNG_T06 GSE131907_LUAD_T0006\n",
       "GSE131907_LUAD_Tu_T0006_AAATGCCTCGTGGGAA_LUNG_T06 GSE131907_LUAD_T0006\n",
       "                                                  percent.mt RNA_snn_res.0.2\n",
       "GSE131907_LUAD_Tu_T0006_AAACCTGAGTTGCAGG_LUNG_T06 9.498525   1              \n",
       "GSE131907_LUAD_Tu_T0006_AAACCTGTCCAGAAGG_LUNG_T06 2.869937   1              \n",
       "GSE131907_LUAD_Tu_T0006_AAAGATGTCTCATTCA_LUNG_T06 4.932463   1              \n",
       "GSE131907_LUAD_Tu_T0006_AAAGCAAGTAATTGGA_LUNG_T06 4.912229   1              \n",
       "GSE131907_LUAD_Tu_T0006_AAATGCCCATTACGAC_LUNG_T06 4.335343   1              \n",
       "GSE131907_LUAD_Tu_T0006_AAATGCCTCGTGGGAA_LUNG_T06 3.662586   1              \n",
       "                                                  seurat_clusters\n",
       "GSE131907_LUAD_Tu_T0006_AAACCTGAGTTGCAGG_LUNG_T06 1              \n",
       "GSE131907_LUAD_Tu_T0006_AAACCTGTCCAGAAGG_LUNG_T06 1              \n",
       "GSE131907_LUAD_Tu_T0006_AAAGATGTCTCATTCA_LUNG_T06 1              \n",
       "GSE131907_LUAD_Tu_T0006_AAAGCAAGTAATTGGA_LUNG_T06 1              \n",
       "GSE131907_LUAD_Tu_T0006_AAATGCCCATTACGAC_LUNG_T06 1              \n",
       "GSE131907_LUAD_Tu_T0006_AAATGCCTCGTGGGAA_LUNG_T06 1              "
      ]
     },
     "metadata": {},
     "output_type": "display_data"
    }
   ],
   "source": [
    "LUNG\n",
    "LUNG@project.name\n",
    "head(LUNG@meta.data)"
   ]
  },
  {
   "cell_type": "code",
   "execution_count": 45,
   "metadata": {
    "vscode": {
     "languageId": "r"
    }
   },
   "outputs": [
    {
     "data": {
      "text/plain": [
       "\n",
       "  brain mets Healthy Lung      LN mets       tumour \n",
       "        5405        16531         4953         9635 "
      ]
     },
     "metadata": {},
     "output_type": "display_data"
    },
    {
     "data": {
      "text/plain": [
       "\n",
       "Healthy    LUAD \n",
       "  16531   19993 "
      ]
     },
     "metadata": {},
     "output_type": "display_data"
    },
    {
     "data": {
      "text/plain": [
       "\n",
       "Pt_0001 Pt_0006 Pt_0008 Pt_0009 Pt_0018 Pt_0019 Pt_0020 Pt_0025 Pt_0028 Pt_0030 \n",
       "   1311    1825    1581    2608    3021    2302    4368     581    1760    1890 \n",
       "Pt_0031 Pt_0034 Pt_1006 Pt_1010 Pt_1011 Pt_1012 Pt_1013 Pt_1015 Pt_1019 Pt_1028 \n",
       "   1737    2016     368     766     732    2062     138     310     322     100 \n",
       "Pt_1049 Pt_1051 Pt_1058 Pt_3002 Pt_3003 Pt_3004 Pt_3006 Pt_3007 Pt_3012 Pt_3013 \n",
       "    272     623     426     812     101     328     433     273     259     552 \n",
       "Pt_3016 Pt_3017 Pt_3019 \n",
       "    177     695    1775 "
      ]
     },
     "metadata": {},
     "output_type": "display_data"
    },
    {
     "data": {
      "text/plain": [
       "\n",
       "GSE131907_Healthy_N0001 GSE131907_Healthy_N0006 GSE131907_Healthy_N0008 \n",
       "                   1311                    1272                    1324 \n",
       "GSE131907_Healthy_N0009 GSE131907_Healthy_N0018 GSE131907_Healthy_N0019 \n",
       "                   1144                    2050                    1144 \n",
       "GSE131907_Healthy_N0020 GSE131907_Healthy_N0028 GSE131907_Healthy_N0030 \n",
       "                   3489                     783                     955 \n",
       "GSE131907_Healthy_N0031 GSE131907_Healthy_N0034    GSE131907_LUAD_B3002 \n",
       "                   1337                    1722                     812 \n",
       "   GSE131907_LUAD_B3003    GSE131907_LUAD_B3004    GSE131907_LUAD_B3006 \n",
       "                    101                     328                     433 \n",
       "   GSE131907_LUAD_B3007    GSE131907_LUAD_B3012    GSE131907_LUAD_B3013 \n",
       "                    273                     259                     552 \n",
       "   GSE131907_LUAD_B3016    GSE131907_LUAD_B3017    GSE131907_LUAD_B3019 \n",
       "                    177                     695                    1775 \n",
       "   GSE131907_LUAD_L1010    GSE131907_LUAD_L1011    GSE131907_LUAD_L1012 \n",
       "                    766                     732                    2062 \n",
       "   GSE131907_LUAD_L1013    GSE131907_LUAD_L1015    GSE131907_LUAD_L1019 \n",
       "                    138                     310                     322 \n",
       "   GSE131907_LUAD_L1051    GSE131907_LUAD_T0006    GSE131907_LUAD_T0008 \n",
       "                    623                     553                     257 \n",
       "   GSE131907_LUAD_T0009    GSE131907_LUAD_T0018    GSE131907_LUAD_T0019 \n",
       "                   1464                     971                    1158 \n",
       "   GSE131907_LUAD_T0020    GSE131907_LUAD_T0025    GSE131907_LUAD_T0028 \n",
       "                    879                     581                     977 \n",
       "   GSE131907_LUAD_T0030    GSE131907_LUAD_T0031    GSE131907_LUAD_T0034 \n",
       "                    935                     400                     294 \n",
       "   GSE131907_LUAD_T1006    GSE131907_LUAD_T1028    GSE131907_LUAD_T1049 \n",
       "                    368                     100                     272 \n",
       "   GSE131907_LUAD_T1058 \n",
       "                    426 "
      ]
     },
     "metadata": {},
     "output_type": "display_data"
    }
   ],
   "source": [
    "table(LUNG$sample_type)\n",
    "table(LUNG$cancer_type)\n",
    "table(LUNG$patient_id)\n",
    "table(LUNG$sample_id)"
   ]
  },
  {
   "cell_type": "code",
   "execution_count": 47,
   "metadata": {
    "vscode": {
     "languageId": "r"
    }
   },
   "outputs": [],
   "source": [
    "#split by sample_type\n",
    "LUNG_B <- subset(LUNG, subset = sample_type %in% c(\"brain mets\"))\n",
    "LUNG_H <- subset(LUNG, subset = sample_type %in% c(\"Healthy Lung\"))\n",
    "LUNG_LN <- subset(LUNG, subset = sample_type %in% c(\"LN mets\"))\n",
    "LUNG_T <- subset(LUNG, subset = sample_type %in% c(\"tumour\"))\n",
    "\n",
    "#set site metadata\n",
    "LUNG_B@meta.data$site <- \"brain\"\n",
    "LUNG_H@meta.data$site <- \"lung\"\n",
    "LUNG_LN@meta.data$site <- \"lymph node\"\n",
    "LUNG_T@meta.data$site <- \"lung\"\n",
    "\n",
    "#set sample_type_major metadata\n",
    "LUNG_B@meta.data$sample_type_major <- \"metastatic tumour\"\n",
    "LUNG_H@meta.data$sample_type_major <- \"healthy\"\n",
    "LUNG_LN@meta.data$sample_type_major <- \"metastatic tumour\"\n",
    "LUNG_T@meta.data$sample_type_major <- \"primary tumour\"\n",
    "\n",
    "#set cancer_subtype metadata\n",
    "LUNG_B@meta.data$cancer_subtype <- \"NSCLC\"\n",
    "LUNG_H@meta.data$cancer_subtype <- \"NA\"\n",
    "LUNG_LN@meta.data$cancer_subtype <- \"NSCLC\"\n",
    "LUNG_T@meta.data$cancer_subtype <- \"NSCLC\"\n",
    "\n",
    "#merge back together \n",
    "LUNG <- merge(LUNG_B, y = c(LUNG_H, LUNG_LN, LUNG_T), project = \"GSE131907\")"
   ]
  },
  {
   "cell_type": "markdown",
   "metadata": {},
   "source": [
    "# up to here"
   ]
  },
  {
   "cell_type": "code",
   "execution_count": null,
   "metadata": {
    "vscode": {
     "languageId": "r"
    }
   },
   "outputs": [],
   "source": [
    "#set integration_id metadata\n",
    "LUNG@meta.data$integration_id <- LUNG@meta.data$sample_id"
   ]
  },
  {
   "cell_type": "code",
   "execution_count": null,
   "metadata": {
    "vscode": {
     "languageId": "r"
    }
   },
   "outputs": [
    {
     "data": {
      "text/plain": [
       "An object of class Seurat \n",
       "45068 features across 28781 samples within 1 assay \n",
       "Active assay: RNA (45068 features, 2000 variable features)\n",
       " 28 layers present: counts.10.1, counts.12.1, data.10.1, data.12.1, scale.data.1, counts.1.2, counts.2.2, counts.3.2, counts.4.2, counts.5.2, counts.6.2, counts.7.2, counts.8.2, counts.9.2, counts.11.2, counts.13.2, data.1.2, data.2.2, data.3.2, data.4.2, data.5.2, data.6.2, data.7.2, data.8.2, data.9.2, data.11.2, data.13.2, scale.data.2"
      ]
     },
     "metadata": {},
     "output_type": "display_data"
    },
    {
     "data": {
      "text/html": [
       "'GSE162498'"
      ],
      "text/latex": [
       "'GSE162498'"
      ],
      "text/markdown": [
       "'GSE162498'"
      ],
      "text/plain": [
       "[1] \"GSE162498\""
      ]
     },
     "metadata": {},
     "output_type": "display_data"
    },
    {
     "data": {
      "text/html": [
       "<table class=\"dataframe\">\n",
       "<caption>A data.frame: 6 × 14</caption>\n",
       "<thead>\n",
       "\t<tr><th></th><th scope=col>orig.ident</th><th scope=col>nCount_RNA</th><th scope=col>nFeature_RNA</th><th scope=col>sample_type</th><th scope=col>cancer_type</th><th scope=col>patient_id</th><th scope=col>sample_id</th><th scope=col>percent.mt</th><th scope=col>RNA_snn_res.0.2</th><th scope=col>seurat_clusters</th><th scope=col>site</th><th scope=col>sample_type_major</th><th scope=col>cancer_subtype</th><th scope=col>integration_id</th></tr>\n",
       "\t<tr><th></th><th scope=col>&lt;chr&gt;</th><th scope=col>&lt;dbl&gt;</th><th scope=col>&lt;int&gt;</th><th scope=col>&lt;chr&gt;</th><th scope=col>&lt;chr&gt;</th><th scope=col>&lt;chr&gt;</th><th scope=col>&lt;chr&gt;</th><th scope=col>&lt;dbl&gt;</th><th scope=col>&lt;chr&gt;</th><th scope=col>&lt;chr&gt;</th><th scope=col>&lt;chr&gt;</th><th scope=col>&lt;chr&gt;</th><th scope=col>&lt;chr&gt;</th><th scope=col>&lt;chr&gt;</th></tr>\n",
       "</thead>\n",
       "<tbody>\n",
       "\t<tr><th scope=row>GSE162498_Healthy_P60_AAACCTGGTTCCACTC-1</th><td>GSE162498</td><td>1608</td><td>763</td><td>adjacent healthy</td><td>healthy</td><td>P60</td><td>GSE162498_healthy_P60</td><td> 9.328358</td><td>4</td><td>4</td><td>lung</td><td>healthy</td><td>NA</td><td>GSE162498_healthy_P60</td></tr>\n",
       "\t<tr><th scope=row>GSE162498_Healthy_P60_AAACCTGTCTCCGGTT-1</th><td>GSE162498</td><td>1054</td><td>502</td><td>adjacent healthy</td><td>healthy</td><td>P60</td><td>GSE162498_healthy_P60</td><td>21.157495</td><td>4</td><td>4</td><td>lung</td><td>healthy</td><td>NA</td><td>GSE162498_healthy_P60</td></tr>\n",
       "\t<tr><th scope=row>GSE162498_Healthy_P60_AAACGGGCAATAGAGT-1</th><td>GSE162498</td><td>1262</td><td>718</td><td>adjacent healthy</td><td>healthy</td><td>P60</td><td>GSE162498_healthy_P60</td><td>13.946117</td><td>4</td><td>4</td><td>lung</td><td>healthy</td><td>NA</td><td>GSE162498_healthy_P60</td></tr>\n",
       "\t<tr><th scope=row>GSE162498_Healthy_P60_AAACGGGGTTGTGGCC-1</th><td>GSE162498</td><td>1373</td><td>790</td><td>adjacent healthy</td><td>healthy</td><td>P60</td><td>GSE162498_healthy_P60</td><td>13.692644</td><td>4</td><td>4</td><td>lung</td><td>healthy</td><td>NA</td><td>GSE162498_healthy_P60</td></tr>\n",
       "\t<tr><th scope=row>GSE162498_Healthy_P60_AAAGATGCAGTCAGAG-1</th><td>GSE162498</td><td> 853</td><td>520</td><td>adjacent healthy</td><td>healthy</td><td>P60</td><td>GSE162498_healthy_P60</td><td>13.130129</td><td>4</td><td>4</td><td>lung</td><td>healthy</td><td>NA</td><td>GSE162498_healthy_P60</td></tr>\n",
       "\t<tr><th scope=row>GSE162498_Healthy_P60_AAAGATGGTCAAAGCG-1</th><td>GSE162498</td><td> 583</td><td>358</td><td>adjacent healthy</td><td>healthy</td><td>P60</td><td>GSE162498_healthy_P60</td><td> 1.029160</td><td>6</td><td>6</td><td>lung</td><td>healthy</td><td>NA</td><td>GSE162498_healthy_P60</td></tr>\n",
       "</tbody>\n",
       "</table>\n"
      ],
      "text/latex": [
       "A data.frame: 6 × 14\n",
       "\\begin{tabular}{r|llllllllllllll}\n",
       "  & orig.ident & nCount\\_RNA & nFeature\\_RNA & sample\\_type & cancer\\_type & patient\\_id & sample\\_id & percent.mt & RNA\\_snn\\_res.0.2 & seurat\\_clusters & site & sample\\_type\\_major & cancer\\_subtype & integration\\_id\\\\\n",
       "  & <chr> & <dbl> & <int> & <chr> & <chr> & <chr> & <chr> & <dbl> & <chr> & <chr> & <chr> & <chr> & <chr> & <chr>\\\\\n",
       "\\hline\n",
       "\tGSE162498\\_Healthy\\_P60\\_AAACCTGGTTCCACTC-1 & GSE162498 & 1608 & 763 & adjacent healthy & healthy & P60 & GSE162498\\_healthy\\_P60 &  9.328358 & 4 & 4 & lung & healthy & NA & GSE162498\\_healthy\\_P60\\\\\n",
       "\tGSE162498\\_Healthy\\_P60\\_AAACCTGTCTCCGGTT-1 & GSE162498 & 1054 & 502 & adjacent healthy & healthy & P60 & GSE162498\\_healthy\\_P60 & 21.157495 & 4 & 4 & lung & healthy & NA & GSE162498\\_healthy\\_P60\\\\\n",
       "\tGSE162498\\_Healthy\\_P60\\_AAACGGGCAATAGAGT-1 & GSE162498 & 1262 & 718 & adjacent healthy & healthy & P60 & GSE162498\\_healthy\\_P60 & 13.946117 & 4 & 4 & lung & healthy & NA & GSE162498\\_healthy\\_P60\\\\\n",
       "\tGSE162498\\_Healthy\\_P60\\_AAACGGGGTTGTGGCC-1 & GSE162498 & 1373 & 790 & adjacent healthy & healthy & P60 & GSE162498\\_healthy\\_P60 & 13.692644 & 4 & 4 & lung & healthy & NA & GSE162498\\_healthy\\_P60\\\\\n",
       "\tGSE162498\\_Healthy\\_P60\\_AAAGATGCAGTCAGAG-1 & GSE162498 &  853 & 520 & adjacent healthy & healthy & P60 & GSE162498\\_healthy\\_P60 & 13.130129 & 4 & 4 & lung & healthy & NA & GSE162498\\_healthy\\_P60\\\\\n",
       "\tGSE162498\\_Healthy\\_P60\\_AAAGATGGTCAAAGCG-1 & GSE162498 &  583 & 358 & adjacent healthy & healthy & P60 & GSE162498\\_healthy\\_P60 &  1.029160 & 6 & 6 & lung & healthy & NA & GSE162498\\_healthy\\_P60\\\\\n",
       "\\end{tabular}\n"
      ],
      "text/markdown": [
       "\n",
       "A data.frame: 6 × 14\n",
       "\n",
       "| <!--/--> | orig.ident &lt;chr&gt; | nCount_RNA &lt;dbl&gt; | nFeature_RNA &lt;int&gt; | sample_type &lt;chr&gt; | cancer_type &lt;chr&gt; | patient_id &lt;chr&gt; | sample_id &lt;chr&gt; | percent.mt &lt;dbl&gt; | RNA_snn_res.0.2 &lt;chr&gt; | seurat_clusters &lt;chr&gt; | site &lt;chr&gt; | sample_type_major &lt;chr&gt; | cancer_subtype &lt;chr&gt; | integration_id &lt;chr&gt; |\n",
       "|---|---|---|---|---|---|---|---|---|---|---|---|---|---|---|\n",
       "| GSE162498_Healthy_P60_AAACCTGGTTCCACTC-1 | GSE162498 | 1608 | 763 | adjacent healthy | healthy | P60 | GSE162498_healthy_P60 |  9.328358 | 4 | 4 | lung | healthy | NA | GSE162498_healthy_P60 |\n",
       "| GSE162498_Healthy_P60_AAACCTGTCTCCGGTT-1 | GSE162498 | 1054 | 502 | adjacent healthy | healthy | P60 | GSE162498_healthy_P60 | 21.157495 | 4 | 4 | lung | healthy | NA | GSE162498_healthy_P60 |\n",
       "| GSE162498_Healthy_P60_AAACGGGCAATAGAGT-1 | GSE162498 | 1262 | 718 | adjacent healthy | healthy | P60 | GSE162498_healthy_P60 | 13.946117 | 4 | 4 | lung | healthy | NA | GSE162498_healthy_P60 |\n",
       "| GSE162498_Healthy_P60_AAACGGGGTTGTGGCC-1 | GSE162498 | 1373 | 790 | adjacent healthy | healthy | P60 | GSE162498_healthy_P60 | 13.692644 | 4 | 4 | lung | healthy | NA | GSE162498_healthy_P60 |\n",
       "| GSE162498_Healthy_P60_AAAGATGCAGTCAGAG-1 | GSE162498 |  853 | 520 | adjacent healthy | healthy | P60 | GSE162498_healthy_P60 | 13.130129 | 4 | 4 | lung | healthy | NA | GSE162498_healthy_P60 |\n",
       "| GSE162498_Healthy_P60_AAAGATGGTCAAAGCG-1 | GSE162498 |  583 | 358 | adjacent healthy | healthy | P60 | GSE162498_healthy_P60 |  1.029160 | 6 | 6 | lung | healthy | NA | GSE162498_healthy_P60 |\n",
       "\n"
      ],
      "text/plain": [
       "                                         orig.ident nCount_RNA nFeature_RNA\n",
       "GSE162498_Healthy_P60_AAACCTGGTTCCACTC-1 GSE162498  1608       763         \n",
       "GSE162498_Healthy_P60_AAACCTGTCTCCGGTT-1 GSE162498  1054       502         \n",
       "GSE162498_Healthy_P60_AAACGGGCAATAGAGT-1 GSE162498  1262       718         \n",
       "GSE162498_Healthy_P60_AAACGGGGTTGTGGCC-1 GSE162498  1373       790         \n",
       "GSE162498_Healthy_P60_AAAGATGCAGTCAGAG-1 GSE162498   853       520         \n",
       "GSE162498_Healthy_P60_AAAGATGGTCAAAGCG-1 GSE162498   583       358         \n",
       "                                         sample_type      cancer_type\n",
       "GSE162498_Healthy_P60_AAACCTGGTTCCACTC-1 adjacent healthy healthy    \n",
       "GSE162498_Healthy_P60_AAACCTGTCTCCGGTT-1 adjacent healthy healthy    \n",
       "GSE162498_Healthy_P60_AAACGGGCAATAGAGT-1 adjacent healthy healthy    \n",
       "GSE162498_Healthy_P60_AAACGGGGTTGTGGCC-1 adjacent healthy healthy    \n",
       "GSE162498_Healthy_P60_AAAGATGCAGTCAGAG-1 adjacent healthy healthy    \n",
       "GSE162498_Healthy_P60_AAAGATGGTCAAAGCG-1 adjacent healthy healthy    \n",
       "                                         patient_id sample_id            \n",
       "GSE162498_Healthy_P60_AAACCTGGTTCCACTC-1 P60        GSE162498_healthy_P60\n",
       "GSE162498_Healthy_P60_AAACCTGTCTCCGGTT-1 P60        GSE162498_healthy_P60\n",
       "GSE162498_Healthy_P60_AAACGGGCAATAGAGT-1 P60        GSE162498_healthy_P60\n",
       "GSE162498_Healthy_P60_AAACGGGGTTGTGGCC-1 P60        GSE162498_healthy_P60\n",
       "GSE162498_Healthy_P60_AAAGATGCAGTCAGAG-1 P60        GSE162498_healthy_P60\n",
       "GSE162498_Healthy_P60_AAAGATGGTCAAAGCG-1 P60        GSE162498_healthy_P60\n",
       "                                         percent.mt RNA_snn_res.0.2\n",
       "GSE162498_Healthy_P60_AAACCTGGTTCCACTC-1  9.328358  4              \n",
       "GSE162498_Healthy_P60_AAACCTGTCTCCGGTT-1 21.157495  4              \n",
       "GSE162498_Healthy_P60_AAACGGGCAATAGAGT-1 13.946117  4              \n",
       "GSE162498_Healthy_P60_AAACGGGGTTGTGGCC-1 13.692644  4              \n",
       "GSE162498_Healthy_P60_AAAGATGCAGTCAGAG-1 13.130129  4              \n",
       "GSE162498_Healthy_P60_AAAGATGGTCAAAGCG-1  1.029160  6              \n",
       "                                         seurat_clusters site sample_type_major\n",
       "GSE162498_Healthy_P60_AAACCTGGTTCCACTC-1 4               lung healthy          \n",
       "GSE162498_Healthy_P60_AAACCTGTCTCCGGTT-1 4               lung healthy          \n",
       "GSE162498_Healthy_P60_AAACGGGCAATAGAGT-1 4               lung healthy          \n",
       "GSE162498_Healthy_P60_AAACGGGGTTGTGGCC-1 4               lung healthy          \n",
       "GSE162498_Healthy_P60_AAAGATGCAGTCAGAG-1 4               lung healthy          \n",
       "GSE162498_Healthy_P60_AAAGATGGTCAAAGCG-1 6               lung healthy          \n",
       "                                         cancer_subtype integration_id       \n",
       "GSE162498_Healthy_P60_AAACCTGGTTCCACTC-1 NA             GSE162498_healthy_P60\n",
       "GSE162498_Healthy_P60_AAACCTGTCTCCGGTT-1 NA             GSE162498_healthy_P60\n",
       "GSE162498_Healthy_P60_AAACGGGCAATAGAGT-1 NA             GSE162498_healthy_P60\n",
       "GSE162498_Healthy_P60_AAACGGGGTTGTGGCC-1 NA             GSE162498_healthy_P60\n",
       "GSE162498_Healthy_P60_AAAGATGCAGTCAGAG-1 NA             GSE162498_healthy_P60\n",
       "GSE162498_Healthy_P60_AAAGATGGTCAAAGCG-1 NA             GSE162498_healthy_P60"
      ]
     },
     "metadata": {},
     "output_type": "display_data"
    }
   ],
   "source": [
    "LUNG\n",
    "LUNG@project.name\n",
    "head(LUNG@meta.data)"
   ]
  },
  {
   "cell_type": "code",
   "execution_count": null,
   "metadata": {
    "vscode": {
     "languageId": "r"
    }
   },
   "outputs": [
    {
     "data": {
      "text/plain": [
       "\n",
       "GSE162498_healthy_P60 GSE162498_healthy_P61   GSE162498_NSCLC_P34 \n",
       "                  809                  1215                   482 \n",
       "  GSE162498_NSCLC_P35   GSE162498_NSCLC_P42   GSE162498_NSCLC_P43 \n",
       "                  685                  4404                  1868 \n",
       "  GSE162498_NSCLC_P46   GSE162498_NSCLC_P47   GSE162498_NSCLC_P55 \n",
       "                  999                  7144                  1579 \n",
       "  GSE162498_NSCLC_P57   GSE162498_NSCLC_P58   GSE162498_NSCLC_P60 \n",
       "                 5809                   680                  1845 \n",
       "  GSE162498_NSCLC_P61 \n",
       "                 1262 "
      ]
     },
     "metadata": {},
     "output_type": "display_data"
    }
   ],
   "source": [
    "#exclude any samples with <100 cells\n",
    "table(LUNG$integration_id)\n",
    "#none to exclude \n",
    "#BRE <- subset(BRE, !(subset = integration_id %in% c(\"\")))\n",
    "#table(BRE$integration_id)"
   ]
  },
  {
   "cell_type": "code",
   "execution_count": null,
   "metadata": {
    "vscode": {
     "languageId": "r"
    }
   },
   "outputs": [
    {
     "data": {
      "text/html": [
       "<style>\n",
       ".list-inline {list-style: none; margin:0; padding: 0}\n",
       ".list-inline>li {display: inline-block}\n",
       ".list-inline>li:not(:last-child)::after {content: \"\\00b7\"; padding: 0 .5ex}\n",
       "</style>\n",
       "<ol class=list-inline><li>'counts.10.1'</li><li>'counts.12.1'</li><li>'data.10.1'</li><li>'data.12.1'</li><li>'scale.data.1'</li><li>'counts.1.2'</li><li>'counts.2.2'</li><li>'counts.3.2'</li><li>'counts.4.2'</li><li>'counts.5.2'</li><li>'counts.6.2'</li><li>'counts.7.2'</li><li>'counts.8.2'</li><li>'counts.9.2'</li><li>'counts.11.2'</li><li>'counts.13.2'</li><li>'data.1.2'</li><li>'data.2.2'</li><li>'data.3.2'</li><li>'data.4.2'</li><li>'data.5.2'</li><li>'data.6.2'</li><li>'data.7.2'</li><li>'data.8.2'</li><li>'data.9.2'</li><li>'data.11.2'</li><li>'data.13.2'</li><li>'scale.data.2'</li></ol>\n"
      ],
      "text/latex": [
       "\\begin{enumerate*}\n",
       "\\item 'counts.10.1'\n",
       "\\item 'counts.12.1'\n",
       "\\item 'data.10.1'\n",
       "\\item 'data.12.1'\n",
       "\\item 'scale.data.1'\n",
       "\\item 'counts.1.2'\n",
       "\\item 'counts.2.2'\n",
       "\\item 'counts.3.2'\n",
       "\\item 'counts.4.2'\n",
       "\\item 'counts.5.2'\n",
       "\\item 'counts.6.2'\n",
       "\\item 'counts.7.2'\n",
       "\\item 'counts.8.2'\n",
       "\\item 'counts.9.2'\n",
       "\\item 'counts.11.2'\n",
       "\\item 'counts.13.2'\n",
       "\\item 'data.1.2'\n",
       "\\item 'data.2.2'\n",
       "\\item 'data.3.2'\n",
       "\\item 'data.4.2'\n",
       "\\item 'data.5.2'\n",
       "\\item 'data.6.2'\n",
       "\\item 'data.7.2'\n",
       "\\item 'data.8.2'\n",
       "\\item 'data.9.2'\n",
       "\\item 'data.11.2'\n",
       "\\item 'data.13.2'\n",
       "\\item 'scale.data.2'\n",
       "\\end{enumerate*}\n"
      ],
      "text/markdown": [
       "1. 'counts.10.1'\n",
       "2. 'counts.12.1'\n",
       "3. 'data.10.1'\n",
       "4. 'data.12.1'\n",
       "5. 'scale.data.1'\n",
       "6. 'counts.1.2'\n",
       "7. 'counts.2.2'\n",
       "8. 'counts.3.2'\n",
       "9. 'counts.4.2'\n",
       "10. 'counts.5.2'\n",
       "11. 'counts.6.2'\n",
       "12. 'counts.7.2'\n",
       "13. 'counts.8.2'\n",
       "14. 'counts.9.2'\n",
       "15. 'counts.11.2'\n",
       "16. 'counts.13.2'\n",
       "17. 'data.1.2'\n",
       "18. 'data.2.2'\n",
       "19. 'data.3.2'\n",
       "20. 'data.4.2'\n",
       "21. 'data.5.2'\n",
       "22. 'data.6.2'\n",
       "23. 'data.7.2'\n",
       "24. 'data.8.2'\n",
       "25. 'data.9.2'\n",
       "26. 'data.11.2'\n",
       "27. 'data.13.2'\n",
       "28. 'scale.data.2'\n",
       "\n",
       "\n"
      ],
      "text/plain": [
       " [1] \"counts.10.1\"  \"counts.12.1\"  \"data.10.1\"    \"data.12.1\"    \"scale.data.1\"\n",
       " [6] \"counts.1.2\"   \"counts.2.2\"   \"counts.3.2\"   \"counts.4.2\"   \"counts.5.2\"  \n",
       "[11] \"counts.6.2\"   \"counts.7.2\"   \"counts.8.2\"   \"counts.9.2\"   \"counts.11.2\" \n",
       "[16] \"counts.13.2\"  \"data.1.2\"     \"data.2.2\"     \"data.3.2\"     \"data.4.2\"    \n",
       "[21] \"data.5.2\"     \"data.6.2\"     \"data.7.2\"     \"data.8.2\"     \"data.9.2\"    \n",
       "[26] \"data.11.2\"    \"data.13.2\"    \"scale.data.2\""
      ]
     },
     "metadata": {},
     "output_type": "display_data"
    },
    {
     "data": {
      "text/html": [
       "<style>\n",
       ".list-inline {list-style: none; margin:0; padding: 0}\n",
       ".list-inline>li {display: inline-block}\n",
       ".list-inline>li:not(:last-child)::after {content: \"\\00b7\"; padding: 0 .5ex}\n",
       "</style>\n",
       "<ol class=list-inline><li>'scale.data'</li><li>'data'</li><li>'counts'</li></ol>\n"
      ],
      "text/latex": [
       "\\begin{enumerate*}\n",
       "\\item 'scale.data'\n",
       "\\item 'data'\n",
       "\\item 'counts'\n",
       "\\end{enumerate*}\n"
      ],
      "text/markdown": [
       "1. 'scale.data'\n",
       "2. 'data'\n",
       "3. 'counts'\n",
       "\n",
       "\n"
      ],
      "text/plain": [
       "[1] \"scale.data\" \"data\"       \"counts\"    "
      ]
     },
     "metadata": {},
     "output_type": "display_data"
    },
    {
     "name": "stderr",
     "output_type": "stream",
     "text": [
      "Splitting ‘counts’, ‘data’ layers. Not splitting ‘scale.data’. If you would like to split other layers, set in `layers` argument.\n",
      "\n"
     ]
    },
    {
     "data": {
      "text/html": [
       "<style>\n",
       ".list-inline {list-style: none; margin:0; padding: 0}\n",
       ".list-inline>li {display: inline-block}\n",
       ".list-inline>li:not(:last-child)::after {content: \"\\00b7\"; padding: 0 .5ex}\n",
       "</style>\n",
       "<ol class=list-inline><li>'counts.GSE162498_healthy_P60'</li><li>'counts.GSE162498_healthy_P61'</li><li>'counts.GSE162498_NSCLC_P34'</li><li>'counts.GSE162498_NSCLC_P35'</li><li>'counts.GSE162498_NSCLC_P42'</li><li>'counts.GSE162498_NSCLC_P43'</li><li>'counts.GSE162498_NSCLC_P46'</li><li>'counts.GSE162498_NSCLC_P47'</li><li>'counts.GSE162498_NSCLC_P55'</li><li>'counts.GSE162498_NSCLC_P57'</li><li>'counts.GSE162498_NSCLC_P58'</li><li>'counts.GSE162498_NSCLC_P60'</li><li>'counts.GSE162498_NSCLC_P61'</li><li>'scale.data'</li><li>'data.GSE162498_healthy_P60'</li><li>'data.GSE162498_healthy_P61'</li><li>'data.GSE162498_NSCLC_P34'</li><li>'data.GSE162498_NSCLC_P35'</li><li>'data.GSE162498_NSCLC_P42'</li><li>'data.GSE162498_NSCLC_P43'</li><li>'data.GSE162498_NSCLC_P46'</li><li>'data.GSE162498_NSCLC_P47'</li><li>'data.GSE162498_NSCLC_P55'</li><li>'data.GSE162498_NSCLC_P57'</li><li>'data.GSE162498_NSCLC_P58'</li><li>'data.GSE162498_NSCLC_P60'</li><li>'data.GSE162498_NSCLC_P61'</li></ol>\n"
      ],
      "text/latex": [
       "\\begin{enumerate*}\n",
       "\\item 'counts.GSE162498\\_healthy\\_P60'\n",
       "\\item 'counts.GSE162498\\_healthy\\_P61'\n",
       "\\item 'counts.GSE162498\\_NSCLC\\_P34'\n",
       "\\item 'counts.GSE162498\\_NSCLC\\_P35'\n",
       "\\item 'counts.GSE162498\\_NSCLC\\_P42'\n",
       "\\item 'counts.GSE162498\\_NSCLC\\_P43'\n",
       "\\item 'counts.GSE162498\\_NSCLC\\_P46'\n",
       "\\item 'counts.GSE162498\\_NSCLC\\_P47'\n",
       "\\item 'counts.GSE162498\\_NSCLC\\_P55'\n",
       "\\item 'counts.GSE162498\\_NSCLC\\_P57'\n",
       "\\item 'counts.GSE162498\\_NSCLC\\_P58'\n",
       "\\item 'counts.GSE162498\\_NSCLC\\_P60'\n",
       "\\item 'counts.GSE162498\\_NSCLC\\_P61'\n",
       "\\item 'scale.data'\n",
       "\\item 'data.GSE162498\\_healthy\\_P60'\n",
       "\\item 'data.GSE162498\\_healthy\\_P61'\n",
       "\\item 'data.GSE162498\\_NSCLC\\_P34'\n",
       "\\item 'data.GSE162498\\_NSCLC\\_P35'\n",
       "\\item 'data.GSE162498\\_NSCLC\\_P42'\n",
       "\\item 'data.GSE162498\\_NSCLC\\_P43'\n",
       "\\item 'data.GSE162498\\_NSCLC\\_P46'\n",
       "\\item 'data.GSE162498\\_NSCLC\\_P47'\n",
       "\\item 'data.GSE162498\\_NSCLC\\_P55'\n",
       "\\item 'data.GSE162498\\_NSCLC\\_P57'\n",
       "\\item 'data.GSE162498\\_NSCLC\\_P58'\n",
       "\\item 'data.GSE162498\\_NSCLC\\_P60'\n",
       "\\item 'data.GSE162498\\_NSCLC\\_P61'\n",
       "\\end{enumerate*}\n"
      ],
      "text/markdown": [
       "1. 'counts.GSE162498_healthy_P60'\n",
       "2. 'counts.GSE162498_healthy_P61'\n",
       "3. 'counts.GSE162498_NSCLC_P34'\n",
       "4. 'counts.GSE162498_NSCLC_P35'\n",
       "5. 'counts.GSE162498_NSCLC_P42'\n",
       "6. 'counts.GSE162498_NSCLC_P43'\n",
       "7. 'counts.GSE162498_NSCLC_P46'\n",
       "8. 'counts.GSE162498_NSCLC_P47'\n",
       "9. 'counts.GSE162498_NSCLC_P55'\n",
       "10. 'counts.GSE162498_NSCLC_P57'\n",
       "11. 'counts.GSE162498_NSCLC_P58'\n",
       "12. 'counts.GSE162498_NSCLC_P60'\n",
       "13. 'counts.GSE162498_NSCLC_P61'\n",
       "14. 'scale.data'\n",
       "15. 'data.GSE162498_healthy_P60'\n",
       "16. 'data.GSE162498_healthy_P61'\n",
       "17. 'data.GSE162498_NSCLC_P34'\n",
       "18. 'data.GSE162498_NSCLC_P35'\n",
       "19. 'data.GSE162498_NSCLC_P42'\n",
       "20. 'data.GSE162498_NSCLC_P43'\n",
       "21. 'data.GSE162498_NSCLC_P46'\n",
       "22. 'data.GSE162498_NSCLC_P47'\n",
       "23. 'data.GSE162498_NSCLC_P55'\n",
       "24. 'data.GSE162498_NSCLC_P57'\n",
       "25. 'data.GSE162498_NSCLC_P58'\n",
       "26. 'data.GSE162498_NSCLC_P60'\n",
       "27. 'data.GSE162498_NSCLC_P61'\n",
       "\n",
       "\n"
      ],
      "text/plain": [
       " [1] \"counts.GSE162498_healthy_P60\" \"counts.GSE162498_healthy_P61\"\n",
       " [3] \"counts.GSE162498_NSCLC_P34\"   \"counts.GSE162498_NSCLC_P35\"  \n",
       " [5] \"counts.GSE162498_NSCLC_P42\"   \"counts.GSE162498_NSCLC_P43\"  \n",
       " [7] \"counts.GSE162498_NSCLC_P46\"   \"counts.GSE162498_NSCLC_P47\"  \n",
       " [9] \"counts.GSE162498_NSCLC_P55\"   \"counts.GSE162498_NSCLC_P57\"  \n",
       "[11] \"counts.GSE162498_NSCLC_P58\"   \"counts.GSE162498_NSCLC_P60\"  \n",
       "[13] \"counts.GSE162498_NSCLC_P61\"   \"scale.data\"                  \n",
       "[15] \"data.GSE162498_healthy_P60\"   \"data.GSE162498_healthy_P61\"  \n",
       "[17] \"data.GSE162498_NSCLC_P34\"     \"data.GSE162498_NSCLC_P35\"    \n",
       "[19] \"data.GSE162498_NSCLC_P42\"     \"data.GSE162498_NSCLC_P43\"    \n",
       "[21] \"data.GSE162498_NSCLC_P46\"     \"data.GSE162498_NSCLC_P47\"    \n",
       "[23] \"data.GSE162498_NSCLC_P55\"     \"data.GSE162498_NSCLC_P57\"    \n",
       "[25] \"data.GSE162498_NSCLC_P58\"     \"data.GSE162498_NSCLC_P60\"    \n",
       "[27] \"data.GSE162498_NSCLC_P61\"    "
      ]
     },
     "metadata": {},
     "output_type": "display_data"
    }
   ],
   "source": [
    "#join layers and then split them by integration_id\n",
    "Layers(LUNG[[\"RNA\"]])\n",
    "#join layers\n",
    "LUNG[[\"RNA\"]] <- JoinLayers(LUNG[[\"RNA\"]])\n",
    "Layers(LUNG[[\"RNA\"]])\n",
    "#split layers\n",
    "LUNG[[\"RNA\"]] <- split(LUNG[[\"RNA\"]], f = LUNG$integration_id)\n",
    "Layers(LUNG[[\"RNA\"]])\n"
   ]
  },
  {
   "cell_type": "code",
   "execution_count": null,
   "metadata": {
    "vscode": {
     "languageId": "r"
    }
   },
   "outputs": [
    {
     "data": {
      "text/plain": [
       "\n",
       "GSE162498_healthy_P60 GSE162498_healthy_P61   GSE162498_NSCLC_P34 \n",
       "                  809                  1215                   482 \n",
       "  GSE162498_NSCLC_P35   GSE162498_NSCLC_P42   GSE162498_NSCLC_P43 \n",
       "                  685                  4404                  1868 \n",
       "  GSE162498_NSCLC_P46   GSE162498_NSCLC_P47   GSE162498_NSCLC_P55 \n",
       "                  999                  7144                  1579 \n",
       "  GSE162498_NSCLC_P57   GSE162498_NSCLC_P58   GSE162498_NSCLC_P60 \n",
       "                 5809                   680                  1845 \n",
       "  GSE162498_NSCLC_P61 \n",
       "                 1262 "
      ]
     },
     "metadata": {},
     "output_type": "display_data"
    },
    {
     "data": {
      "text/plain": [
       "An object of class Seurat \n",
       "45068 features across 28781 samples within 1 assay \n",
       "Active assay: RNA (45068 features, 2000 variable features)\n",
       " 27 layers present: counts.GSE162498_healthy_P60, counts.GSE162498_healthy_P61, counts.GSE162498_NSCLC_P34, counts.GSE162498_NSCLC_P35, counts.GSE162498_NSCLC_P42, counts.GSE162498_NSCLC_P43, counts.GSE162498_NSCLC_P46, counts.GSE162498_NSCLC_P47, counts.GSE162498_NSCLC_P55, counts.GSE162498_NSCLC_P57, counts.GSE162498_NSCLC_P58, counts.GSE162498_NSCLC_P60, counts.GSE162498_NSCLC_P61, scale.data, data.GSE162498_healthy_P60, data.GSE162498_healthy_P61, data.GSE162498_NSCLC_P34, data.GSE162498_NSCLC_P35, data.GSE162498_NSCLC_P42, data.GSE162498_NSCLC_P43, data.GSE162498_NSCLC_P46, data.GSE162498_NSCLC_P47, data.GSE162498_NSCLC_P55, data.GSE162498_NSCLC_P57, data.GSE162498_NSCLC_P58, data.GSE162498_NSCLC_P60, data.GSE162498_NSCLC_P61"
      ]
     },
     "metadata": {},
     "output_type": "display_data"
    },
    {
     "data": {
      "text/html": [
       "'GSE162498'"
      ],
      "text/latex": [
       "'GSE162498'"
      ],
      "text/markdown": [
       "'GSE162498'"
      ],
      "text/plain": [
       "[1] \"GSE162498\""
      ]
     },
     "metadata": {},
     "output_type": "display_data"
    }
   ],
   "source": [
    "#record number of cells\n",
    "table(LUNG$integration_id)\n",
    "LUNG\n",
    "LUNG@project.name"
   ]
  },
  {
   "cell_type": "code",
   "execution_count": null,
   "metadata": {
    "vscode": {
     "languageId": "r"
    }
   },
   "outputs": [],
   "source": [
    "#re-export seurat object ready for integration\n",
    "saveRDS(LUNG, \"/scratch/user/s4436039/scdata/Myeloid_Cells/Myeloid_Cells_Integrate/GSE162498_myeloid_int.RDS\")"
   ]
  },
  {
   "cell_type": "code",
   "execution_count": null,
   "metadata": {
    "vscode": {
     "languageId": "r"
    }
   },
   "outputs": [],
   "source": [
    "#remove all objects in R\n",
    "rm(list = ls())"
   ]
  }
 ],
 "metadata": {
  "kernelspec": {
   "display_name": "R",
   "language": "R",
   "name": "ir"
  },
  "language_info": {
   "codemirror_mode": "r",
   "file_extension": ".r",
   "mimetype": "text/x-r-source",
   "name": "R",
   "pygments_lexer": "r",
   "version": "4.3.3"
  }
 },
 "nbformat": 4,
 "nbformat_minor": 2
}
