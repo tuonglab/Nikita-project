{
 "cells": [
  {
   "cell_type": "markdown",
   "id": "fdf57a71",
   "metadata": {},
   "source": [
    "# Preparing objects to share with paper"
   ]
  },
  {
   "cell_type": "code",
   "execution_count": 1,
   "id": "4b4f5a61",
   "metadata": {},
   "outputs": [],
   "source": [
    "#load packages I need\n",
    "import os\n",
    "import scanpy as sc\n",
    "import pandas as pd\n",
    "import matplotlib.pyplot as plt"
   ]
  },
  {
   "cell_type": "code",
   "execution_count": 2,
   "id": "5ee3d6fe",
   "metadata": {},
   "outputs": [
    {
     "data": {
      "text/plain": [
       "'/scratch/user/s4436039/scdata/Myeloid_Objects'"
      ]
     },
     "execution_count": 2,
     "metadata": {},
     "output_type": "execute_result"
    }
   ],
   "source": [
    "#set current directory \n",
    "os.chdir('/scratch/user/s4436039/scdata/Myeloid_Objects')\n",
    "os.getcwd()"
   ]
  },
  {
   "cell_type": "code",
   "execution_count": 3,
   "id": "19fafd71",
   "metadata": {},
   "outputs": [],
   "source": [
    "# read in data\n",
    "data_atlas = sc.read_h5ad('NRclean_clustered2.h5ad')\n",
    "data_AllDC = sc.read_h5ad('20250617_AllDC_bbknn.h5ad')\n",
    "data_DC2 = sc.read_h5ad('20250629_DC2_bbknn_clustered2.h5ad')\n",
    "data_scvi = sc.read_h5ad('NRclean_scVI_Data.h5ad')"
   ]
  },
  {
   "cell_type": "markdown",
   "id": "3b217f00",
   "metadata": {},
   "source": [
    "# Make consistent metadata columns"
   ]
  },
  {
   "cell_type": "markdown",
   "id": "7c4795d6",
   "metadata": {},
   "source": [
    "### Check everything has all the columns I need"
   ]
  },
  {
   "cell_type": "code",
   "execution_count": 4,
   "id": "06a32f4f",
   "metadata": {},
   "outputs": [
    {
     "data": {
      "text/plain": [
       "AnnData object with n_obs × n_vars = 29887 × 1746\n",
       "    obs: 'nCount_RNA', 'nFeature_RNA', 'sample_type', 'cancer_type', 'patient_id', 'sample_id', 'percent.mt', 'site', 'sample_type_major', 'cancer_subtype', 'integration_id', 'ident', 'dataset_id', 'n_genes_by_counts', 'log1p_n_genes_by_counts', 'total_counts', 'log1p_total_counts', 'pct_counts_in_top_50_genes', 'pct_counts_in_top_100_genes', 'pct_counts_in_top_200_genes', 'pct_counts_in_top_500_genes', 'total_counts_mt', 'log1p_total_counts_mt', 'pct_counts_mt', 'S_score', 'G2M_score', 'keep_or_remove', 'leiden', 'celltype', 'leiden_DC', 'leiden_DC_v2', 'exclude_annots', 'leiden_M', 'Technology', 'NR_annotations_simple', 'sample_type_major2', 'cancer_with_H', 'cancer_broadest', 'patient_treatment', 'DC1_sig', 'DC2_sig', 'DC3_sig', 'mregDC_sig'\n",
       "    var: 'name', 'mt', 'n_cells_by_counts', 'mean_counts', 'log1p_mean_counts', 'pct_dropout_by_counts', 'total_counts', 'log1p_total_counts', 'n_cells', 'highly_variable', 'means', 'dispersions', 'dispersions_norm', 'mean', 'std'\n",
       "    uns: 'NR_annotations_simple_colors', 'dendrogram_NR_annotations_simple', 'hvg', 'log1p', 'neighbors', 'pca', 'rank_genes_groups', 'umap'\n",
       "    obsm: 'X_pca', 'X_umap'\n",
       "    varm: 'PCs'\n",
       "    obsp: 'connectivities', 'distances'"
      ]
     },
     "execution_count": 4,
     "metadata": {},
     "output_type": "execute_result"
    }
   ],
   "source": [
    "data_AllDC"
   ]
  },
  {
   "cell_type": "code",
   "execution_count": 5,
   "id": "cfa04fdf",
   "metadata": {},
   "outputs": [],
   "source": [
    "# For data_AllDC copy NR_annotations_simple to new column called MyeloidAPC_Subsets\n",
    "data_AllDC.obs['MyeloidAPC_Subsets'] = data_AllDC.obs['NR_annotations_simple']"
   ]
  },
  {
   "cell_type": "code",
   "execution_count": 6,
   "id": "69c77b6d",
   "metadata": {},
   "outputs": [
    {
     "data": {
      "text/plain": [
       "AnnData object with n_obs × n_vars = 16643 × 2001\n",
       "    obs: 'nCount_RNA', 'nFeature_RNA', 'sample_type', 'cancer_type', 'patient_id', 'sample_id', 'percent.mt', 'site', 'sample_type_major', 'cancer_subtype', 'integration_id', 'ident', 'dataset_id', 'n_genes_by_counts', 'log1p_n_genes_by_counts', 'total_counts', 'log1p_total_counts', 'pct_counts_in_top_50_genes', 'pct_counts_in_top_100_genes', 'pct_counts_in_top_200_genes', 'pct_counts_in_top_500_genes', 'total_counts_mt', 'log1p_total_counts_mt', 'pct_counts_mt', 'S_score', 'G2M_score', 'keep_or_remove', 'leiden', 'celltype', 'leiden_DC', 'leiden_DC_v2', 'exclude_annots', 'leiden_M', 'Technology', 'NR_annotations_simple', 'sample_type_major2', 'cancer_with_H', 'cancer_broadest', 'patient_treatment', 'Guimaraes_DC2_FCER1A', 'Guimaraes_DC2_AREG', 'Guimaraes_Cheng_DC2_CD207/CD1A', 'Guimaraes_DC3_CD14', 'Guimaraes_DC4_FCGR3A', 'Guimaraes_DC_CXCL2', 'Cheng_DC2_CXCR4', 'Cheng_DC2_IL1B', 'Cheng_DC2_FCN1', 'Cheng_DC2_ISG15', 'Cheng_DC2_CXCL9', 'DC3_sig', '2025-DC2-true_02', '2025-DC2-true_05', '2025-DC2-true_08', '2025-DC2-true_08_sub5', '2025-DC2-true_08_sub5-1', 'cDC2A_sig', 'cDC2B_sig', 'cDC2_A-B', 'cDC2_Atlas_Subclusters', 'DC_CD207_Moon_sig', 'cDC2A_Minutti_sig', 'DC2_CD207_Gui_sig', 'DC2_CD1A_Cheng_sig'\n",
       "    var: 'name', 'mt', 'n_cells_by_counts', 'mean_counts', 'log1p_mean_counts', 'pct_dropout_by_counts', 'total_counts', 'log1p_total_counts', 'n_cells', 'highly_variable', 'means', 'dispersions', 'dispersions_norm', 'mean', 'std'\n",
       "    uns: '2025-DC2-true_02', '2025-DC2-true_02_colors', '2025-DC2-true_05', '2025-DC2-true_05_colors', '2025-DC2-true_08', '2025-DC2-true_08_colors', '2025-DC2-true_08_sub5', '2025-DC2-true_08_sub5-1', '2025-DC2-true_08_sub5-1_colors', '2025-DC2-true_08_sub5_colors', 'NR_annotations_simple_colors', 'cDC2_A-B_colors', 'cDC2_Atlas_Subclusters_colors', 'degs_cDC2A_vs_cDC2B', 'hvg', 'log1p', 'neighbors', 'pca', 'rank_genes_groups', 'umap'\n",
       "    obsm: 'X_pca', 'X_umap'\n",
       "    varm: 'PCs'\n",
       "    obsp: 'connectivities', 'distances'"
      ]
     },
     "execution_count": 6,
     "metadata": {},
     "output_type": "execute_result"
    }
   ],
   "source": [
    "data_DC2"
   ]
  },
  {
   "cell_type": "code",
   "execution_count": 7,
   "id": "6b00e8cd",
   "metadata": {},
   "outputs": [],
   "source": [
    "# For data_DC2 copy NR_annotations_simple to new column called MyeloidAPC_Subsets\n",
    "data_DC2.obs['MyeloidAPC_Subsets'] = data_DC2.obs['NR_annotations_simple']"
   ]
  },
  {
   "cell_type": "code",
   "execution_count": 8,
   "id": "dcddd688",
   "metadata": {},
   "outputs": [
    {
     "data": {
      "text/plain": [
       "AnnData object with n_obs × n_vars = 498023 × 1264\n",
       "    obs: 'nCount_RNA', 'nFeature_RNA', 'sample_type', 'cancer_type', 'patient_id', 'sample_id', 'percent.mt', 'site', 'sample_type_major', 'cancer_subtype', 'integration_id', 'ident', 'dataset_id', 'Technology', 'NR_annotations_simple', 'sample_type_major2', 'cancer_with_H', 'cancer_broadest', 'patient_treatment', '_scvi_batch', '_scvi_labels'\n",
       "    var: 'name', 'highly_variable', 'means', 'dispersions', 'dispersions_norm', 'mean', 'std'\n",
       "    uns: '_scvi_manager_uuid', '_scvi_uuid', 'hvg', 'integration_id_colors', 'log1p', 'neighbors', 'pca', 'umap'\n",
       "    obsm: 'X_pca', 'X_scVI', 'X_umap'\n",
       "    varm: 'PCs'\n",
       "    layers: 'counts'\n",
       "    obsp: 'connectivities', 'distances'"
      ]
     },
     "execution_count": 8,
     "metadata": {},
     "output_type": "execute_result"
    }
   ],
   "source": [
    "data_scvi"
   ]
  },
  {
   "cell_type": "code",
   "execution_count": 9,
   "id": "fdfe0b2e",
   "metadata": {},
   "outputs": [],
   "source": [
    "# For data_scvi make MyeloidAPC_Subsets\n",
    "data_scvi.obs[\"MyeloidAPC_Subsets\"] = data_scvi.obs[\"NR_annotations_simple\"].map(\n",
    "    {\n",
    "        \"Tissue resident macrophage\": \"Tissue resident macrophage\",\n",
    "        \"Classical monocytes\": \"Classical monocytes\",\n",
    "        \"non-classical monocytes\": \"non-classical monocytes\",\n",
    "        \"cDC2\": \"cDC2\",\n",
    "        \"cDC1\": \"cDC1\",\n",
    "        \"KI-67+ Tissue resident macrophage\": \"Tissue resident macrophage\",\n",
    "        \"mregDC\": \"mregDC\",\n",
    "    }\n",
    ")"
   ]
  },
  {
   "cell_type": "code",
   "execution_count": 10,
   "id": "7e2c02aa",
   "metadata": {},
   "outputs": [
    {
     "data": {
      "text/plain": [
       "MyeloidAPC_Subsets\n",
       "Tissue resident macrophage    381441\n",
       "Classical monocytes            57086\n",
       "non-classical monocytes        29255\n",
       "cDC2                           17391\n",
       "cDC1                            6730\n",
       "mregDC                          6120\n",
       "Name: count, dtype: int64"
      ]
     },
     "execution_count": 10,
     "metadata": {},
     "output_type": "execute_result"
    }
   ],
   "source": [
    "data_scvi.obs[\"MyeloidAPC_Subsets\"].value_counts()"
   ]
  },
  {
   "cell_type": "markdown",
   "id": "8df2e433",
   "metadata": {},
   "source": [
    "# Remove unnecessary metadata columns from each object"
   ]
  },
  {
   "cell_type": "markdown",
   "id": "f7994fd4",
   "metadata": {},
   "source": [
    "## data_atlas"
   ]
  },
  {
   "cell_type": "code",
   "execution_count": 11,
   "id": "84ed28bd",
   "metadata": {},
   "outputs": [
    {
     "data": {
      "text/plain": [
       "AnnData object with n_obs × n_vars = 498023 × 1268\n",
       "    obs: 'nCount_RNA', 'nFeature_RNA', 'sample_type', 'cancer_type', 'patient_id', 'sample_id', 'percent.mt', 'site', 'sample_type_major', 'cancer_subtype', 'integration_id', 'ident', 'dataset_id', 'n_genes_by_counts', 'log1p_n_genes_by_counts', 'total_counts', 'log1p_total_counts', 'pct_counts_in_top_50_genes', 'pct_counts_in_top_100_genes', 'pct_counts_in_top_200_genes', 'pct_counts_in_top_500_genes', 'total_counts_mt', 'log1p_total_counts_mt', 'pct_counts_mt', 'S_score', 'G2M_score', 'keep_or_remove', 'leiden', 'celltype', 'leiden_DC', 'leiden_DC_v2', 'exclude_annots', 'leiden_M', 'Technology', 'cancer_type_broad', 'clean-leiden_0.8', 'clean-subcluster', 'clean-subcluster-v2', 'YS_sig', 'HSC_sig', 'CD5nDC2_up_vDC3', 'DC3_up_vCD5nDC2', 'CD5pDC2_up_vDC3', 'DC3_up_vCD5pDC2', 'DC3_up_vMono', 'Mono_up_vDC3', 'DC1_sig', 'DC2_sig', 'DC3_sig', 'DC_Axl_sig', 'DC2_up_DC3', 'DC3_up_DC2', 'mregDC_sig', 'cDC1_mregDC', 'cDC2_mregDC', 'NR_annotations', 'NR_annotations_simple', 'sample_type_major2', 'cancer_with_H', 'cancer_broadest', 'CytoTRACE_DC_Predicted_order', 'AHR(+)', 'ATF3(+)', 'BACH2(+)', 'BATF(+)', 'BHLHE40(+)', 'BHLHE41(+)', 'CREM(+)', 'DDIT3(+)', 'ELF3(+)', 'ETS1(+)', 'FOSL2(+)', 'GATA3(+)', 'HIF1A(+)', 'IKZF2(+)', 'IRF1(+)', 'IRF4(+)', 'IRF8(+)', 'JUN(+)', 'KLF12(+)', 'KLF4(+)', 'MAF(+)', 'MAFF(+)', 'NFE2(+)', 'NFKB1(+)', 'NFKB2(+)', 'NR1H3(+)', 'PRDM1(+)', 'REL(+)', 'SOX4(+)', 'TCF7L2(+)', 'patient_treatment', 'MyeloidAPC_Subsets'\n",
       "    var: 'name', 'mt', 'n_cells_by_counts', 'mean_counts', 'log1p_mean_counts', 'pct_dropout_by_counts', 'total_counts', 'log1p_total_counts', 'highly_variable', 'means', 'dispersions', 'dispersions_norm', 'mean', 'std'\n",
       "    uns: 'MyeloidAPC_Subsets_colors', 'NR_annotations_colors', 'NR_annotations_simple_colors', 'cancer_type_broad_colors', 'clean-leiden_0.8', 'clean-leiden_0.8_colors', 'clean-subcluster', 'clean-subcluster-v2', 'clean-subcluster-v2_colors', 'clean-subcluster_colors', 'dendrogram_NR_annotations_simple', 'hvg', 'log1p', 'neighbors', 'pca', 'rank_genes_groups', 'sample_type_major2_colors', 'site_colors', 'umap'\n",
       "    obsm: 'X_pca', 'X_pca_harmony', 'X_umap'\n",
       "    varm: 'PCs'\n",
       "    obsp: 'connectivities', 'distances'"
      ]
     },
     "execution_count": 11,
     "metadata": {},
     "output_type": "execute_result"
    }
   ],
   "source": [
    "data_atlas"
   ]
  },
  {
   "cell_type": "markdown",
   "id": "58bcc962",
   "metadata": {},
   "source": [
    "### Remove the following columns from data_atlas\n",
    "'sample_type', 'cancer_type', 'patient_id', 'sample_id', 'sample_type_major', 'leiden', 'celltype', 'leiden_DC', 'leiden_DC_v2', 'exclude_annots', 'leiden_M', 'cancer_type_broad', 'clean-leiden_0.8', 'clean-subcluster', 'clean-subcluster-v2', 'YS_sig', 'HSC_sig', 'CD5nDC2_up_vDC3', 'DC3_up_vCD5nDC2', 'CD5pDC2_up_vDC3', 'DC3_up_vCD5pDC2', 'DC3_up_vMono', 'Mono_up_vDC3', 'DC1_sig', 'DC2_sig', 'DC3_sig', 'DC_Axl_sig', 'DC2_up_DC3', 'DC3_up_DC2', 'mregDC_sig', 'cDC1_mregDC', 'cDC2_mregDC', 'NR_annotations', 'NR_annotations_simple', 'cancer_with_H', 'CytoTRACE_DC_Predicted_order', 'AHR(+)', 'ATF3(+)', 'BACH2(+)', 'BATF(+)', 'BHLHE40(+)', 'BHLHE41(+)', 'CREM(+)', 'DDIT3(+)', 'ELF3(+)', 'ETS1(+)', 'FOSL2(+)', 'GATA3(+)', 'HIF1A(+)', 'IKZF2(+)', 'IRF1(+)', 'IRF4(+)', 'IRF8(+)', 'JUN(+)', 'KLF12(+)', 'KLF4(+)', 'MAF(+)', 'MAFF(+)', 'NFE2(+)', 'NFKB1(+)', 'NFKB2(+)', 'NR1H3(+)', 'PRDM1(+)', 'REL(+)', 'SOX4(+)', 'TCF7L2(+)', 'keep_or_remove'\n",
    "\n",
    "### Keep:\n",
    "'nCount_RNA', 'nFeature_RNA', 'percent.mt', 'site','cancer_subtype', 'integration_id', 'ident', 'dataset_id','n_genes_by_counts', 'log1p_n_genes_by_counts', 'total_counts', 'log1p_total_counts', 'pct_counts_in_top_50_genes', 'pct_counts_in_top_100_genes', 'pct_counts_in_top_200_genes', 'pct_counts_in_top_500_genes', 'total_counts_mt', 'log1p_total_counts_mt', 'pct_counts_mt', 'S_score', 'G2M_score', 'Technology','sample_type_major2', 'cancer_broadest','patient_treatment', 'MyeloidAPC_Subsets'\n"
   ]
  },
  {
   "cell_type": "code",
   "execution_count": 12,
   "id": "a9e5fffc",
   "metadata": {},
   "outputs": [],
   "source": [
    "data_atlas.obs.drop(columns=['sample_type', 'cancer_type', 'patient_id', 'sample_id', 'sample_type_major', 'leiden', 'celltype', 'leiden_DC', 'leiden_DC_v2', 'exclude_annots', 'leiden_M', \n",
    "                             'cancer_type_broad', 'clean-leiden_0.8', 'clean-subcluster', 'clean-subcluster-v2', 'YS_sig', 'HSC_sig', 'CD5nDC2_up_vDC3', 'DC3_up_vCD5nDC2', 'CD5pDC2_up_vDC3', \n",
    "                             'DC3_up_vCD5pDC2', 'DC3_up_vMono', 'Mono_up_vDC3', 'DC1_sig', 'DC2_sig', 'DC3_sig', 'DC_Axl_sig', 'DC2_up_DC3', 'DC3_up_DC2', 'mregDC_sig', 'cDC1_mregDC', \n",
    "                             'cDC2_mregDC', 'NR_annotations', 'NR_annotations_simple', 'cancer_with_H', 'CytoTRACE_DC_Predicted_order', 'AHR(+)', 'ATF3(+)', 'BACH2(+)', 'BATF(+)', 'BHLHE40(+)', \n",
    "                             'BHLHE41(+)', 'CREM(+)', 'DDIT3(+)', 'ELF3(+)', 'ETS1(+)', 'FOSL2(+)', 'GATA3(+)', 'HIF1A(+)', 'IKZF2(+)', 'IRF1(+)', 'IRF4(+)', 'IRF8(+)', 'JUN(+)', 'KLF12(+)', \n",
    "                             'KLF4(+)', 'MAF(+)', 'MAFF(+)', 'NFE2(+)', 'NFKB1(+)', 'NFKB2(+)', 'NR1H3(+)', 'PRDM1(+)', 'REL(+)', 'SOX4(+)', 'TCF7L2(+)', 'keep_or_remove'], inplace=True)"
   ]
  },
  {
   "cell_type": "code",
   "execution_count": 13,
   "id": "57de4d89",
   "metadata": {},
   "outputs": [
    {
     "data": {
      "text/plain": [
       "AnnData object with n_obs × n_vars = 498023 × 1268\n",
       "    obs: 'nCount_RNA', 'nFeature_RNA', 'percent.mt', 'site', 'cancer_subtype', 'integration_id', 'ident', 'dataset_id', 'n_genes_by_counts', 'log1p_n_genes_by_counts', 'total_counts', 'log1p_total_counts', 'pct_counts_in_top_50_genes', 'pct_counts_in_top_100_genes', 'pct_counts_in_top_200_genes', 'pct_counts_in_top_500_genes', 'total_counts_mt', 'log1p_total_counts_mt', 'pct_counts_mt', 'S_score', 'G2M_score', 'Technology', 'sample_type_major2', 'cancer_broadest', 'patient_treatment', 'MyeloidAPC_Subsets'\n",
       "    var: 'name', 'mt', 'n_cells_by_counts', 'mean_counts', 'log1p_mean_counts', 'pct_dropout_by_counts', 'total_counts', 'log1p_total_counts', 'highly_variable', 'means', 'dispersions', 'dispersions_norm', 'mean', 'std'\n",
       "    uns: 'MyeloidAPC_Subsets_colors', 'NR_annotations_colors', 'NR_annotations_simple_colors', 'cancer_type_broad_colors', 'clean-leiden_0.8', 'clean-leiden_0.8_colors', 'clean-subcluster', 'clean-subcluster-v2', 'clean-subcluster-v2_colors', 'clean-subcluster_colors', 'dendrogram_NR_annotations_simple', 'hvg', 'log1p', 'neighbors', 'pca', 'rank_genes_groups', 'sample_type_major2_colors', 'site_colors', 'umap'\n",
       "    obsm: 'X_pca', 'X_pca_harmony', 'X_umap'\n",
       "    varm: 'PCs'\n",
       "    obsp: 'connectivities', 'distances'"
      ]
     },
     "execution_count": 13,
     "metadata": {},
     "output_type": "execute_result"
    }
   ],
   "source": [
    "data_atlas"
   ]
  },
  {
   "cell_type": "markdown",
   "id": "f9acc1a4",
   "metadata": {},
   "source": [
    "## data_AllDC"
   ]
  },
  {
   "cell_type": "code",
   "execution_count": 14,
   "id": "c182f0ac",
   "metadata": {},
   "outputs": [
    {
     "data": {
      "text/plain": [
       "AnnData object with n_obs × n_vars = 29887 × 1746\n",
       "    obs: 'nCount_RNA', 'nFeature_RNA', 'sample_type', 'cancer_type', 'patient_id', 'sample_id', 'percent.mt', 'site', 'sample_type_major', 'cancer_subtype', 'integration_id', 'ident', 'dataset_id', 'n_genes_by_counts', 'log1p_n_genes_by_counts', 'total_counts', 'log1p_total_counts', 'pct_counts_in_top_50_genes', 'pct_counts_in_top_100_genes', 'pct_counts_in_top_200_genes', 'pct_counts_in_top_500_genes', 'total_counts_mt', 'log1p_total_counts_mt', 'pct_counts_mt', 'S_score', 'G2M_score', 'keep_or_remove', 'leiden', 'celltype', 'leiden_DC', 'leiden_DC_v2', 'exclude_annots', 'leiden_M', 'Technology', 'NR_annotations_simple', 'sample_type_major2', 'cancer_with_H', 'cancer_broadest', 'patient_treatment', 'DC1_sig', 'DC2_sig', 'DC3_sig', 'mregDC_sig', 'MyeloidAPC_Subsets'\n",
       "    var: 'name', 'mt', 'n_cells_by_counts', 'mean_counts', 'log1p_mean_counts', 'pct_dropout_by_counts', 'total_counts', 'log1p_total_counts', 'n_cells', 'highly_variable', 'means', 'dispersions', 'dispersions_norm', 'mean', 'std'\n",
       "    uns: 'NR_annotations_simple_colors', 'dendrogram_NR_annotations_simple', 'hvg', 'log1p', 'neighbors', 'pca', 'rank_genes_groups', 'umap'\n",
       "    obsm: 'X_pca', 'X_umap'\n",
       "    varm: 'PCs'\n",
       "    obsp: 'connectivities', 'distances'"
      ]
     },
     "execution_count": 14,
     "metadata": {},
     "output_type": "execute_result"
    }
   ],
   "source": [
    "data_AllDC"
   ]
  },
  {
   "cell_type": "markdown",
   "id": "a88c0c62",
   "metadata": {},
   "source": [
    "### Remove the following columns from data_AllDC\n",
    "'sample_type', 'cancer_type', 'patient_id', 'sample_id', 'sample_type_major', 'leiden', 'celltype', 'leiden_DC', 'leiden_DC_v2', 'exclude_annots', 'leiden_M', 'NR_annotations_simple', 'cancer_with_H', 'keep_or_remove', 'DC1_sig', 'DC2_sig', 'DC3_sig', 'mregDC_sig'\n",
    "\n",
    "### Keep:\n",
    "'nCount_RNA', 'nFeature_RNA', 'percent.mt', 'site','cancer_subtype', 'integration_id', 'ident', 'dataset_id','n_genes_by_counts', 'log1p_n_genes_by_counts', 'total_counts', 'log1p_total_counts', 'pct_counts_in_top_50_genes', 'pct_counts_in_top_100_genes', 'pct_counts_in_top_200_genes', 'pct_counts_in_top_500_genes', 'total_counts_mt', 'log1p_total_counts_mt', 'pct_counts_mt', 'S_score', 'G2M_score', 'Technology','sample_type_major2', 'cancer_broadest','patient_treatment', 'MyeloidAPC_Subsets'\n"
   ]
  },
  {
   "cell_type": "code",
   "execution_count": 15,
   "id": "0d2b0757",
   "metadata": {},
   "outputs": [],
   "source": [
    "data_AllDC.obs.drop(columns=['sample_type', 'cancer_type', 'patient_id', 'sample_id', 'sample_type_major', 'leiden', 'celltype', 'leiden_DC', 'leiden_DC_v2', 'exclude_annots', 'leiden_M', \n",
    "                             'NR_annotations_simple', 'cancer_with_H', 'keep_or_remove', 'DC1_sig', 'DC2_sig', 'DC3_sig', 'mregDC_sig'], inplace=True)"
   ]
  },
  {
   "cell_type": "code",
   "execution_count": 17,
   "id": "2b3d943a",
   "metadata": {},
   "outputs": [
    {
     "data": {
      "text/plain": [
       "AnnData object with n_obs × n_vars = 29887 × 1746\n",
       "    obs: 'nCount_RNA', 'nFeature_RNA', 'percent.mt', 'site', 'cancer_subtype', 'integration_id', 'ident', 'dataset_id', 'n_genes_by_counts', 'log1p_n_genes_by_counts', 'total_counts', 'log1p_total_counts', 'pct_counts_in_top_50_genes', 'pct_counts_in_top_100_genes', 'pct_counts_in_top_200_genes', 'pct_counts_in_top_500_genes', 'total_counts_mt', 'log1p_total_counts_mt', 'pct_counts_mt', 'S_score', 'G2M_score', 'Technology', 'sample_type_major2', 'cancer_broadest', 'patient_treatment', 'MyeloidAPC_Subsets'\n",
       "    var: 'name', 'mt', 'n_cells_by_counts', 'mean_counts', 'log1p_mean_counts', 'pct_dropout_by_counts', 'total_counts', 'log1p_total_counts', 'n_cells', 'highly_variable', 'means', 'dispersions', 'dispersions_norm', 'mean', 'std'\n",
       "    uns: 'NR_annotations_simple_colors', 'dendrogram_NR_annotations_simple', 'hvg', 'log1p', 'neighbors', 'pca', 'rank_genes_groups', 'umap'\n",
       "    obsm: 'X_pca', 'X_umap'\n",
       "    varm: 'PCs'\n",
       "    obsp: 'connectivities', 'distances'"
      ]
     },
     "execution_count": 17,
     "metadata": {},
     "output_type": "execute_result"
    }
   ],
   "source": [
    "data_AllDC"
   ]
  },
  {
   "cell_type": "markdown",
   "id": "e0012850",
   "metadata": {},
   "source": [
    "## data_DC2"
   ]
  },
  {
   "cell_type": "code",
   "execution_count": 18,
   "id": "49cf1530",
   "metadata": {},
   "outputs": [
    {
     "data": {
      "text/plain": [
       "AnnData object with n_obs × n_vars = 16643 × 2001\n",
       "    obs: 'nCount_RNA', 'nFeature_RNA', 'sample_type', 'cancer_type', 'patient_id', 'sample_id', 'percent.mt', 'site', 'sample_type_major', 'cancer_subtype', 'integration_id', 'ident', 'dataset_id', 'n_genes_by_counts', 'log1p_n_genes_by_counts', 'total_counts', 'log1p_total_counts', 'pct_counts_in_top_50_genes', 'pct_counts_in_top_100_genes', 'pct_counts_in_top_200_genes', 'pct_counts_in_top_500_genes', 'total_counts_mt', 'log1p_total_counts_mt', 'pct_counts_mt', 'S_score', 'G2M_score', 'keep_or_remove', 'leiden', 'celltype', 'leiden_DC', 'leiden_DC_v2', 'exclude_annots', 'leiden_M', 'Technology', 'NR_annotations_simple', 'sample_type_major2', 'cancer_with_H', 'cancer_broadest', 'patient_treatment', 'Guimaraes_DC2_FCER1A', 'Guimaraes_DC2_AREG', 'Guimaraes_Cheng_DC2_CD207/CD1A', 'Guimaraes_DC3_CD14', 'Guimaraes_DC4_FCGR3A', 'Guimaraes_DC_CXCL2', 'Cheng_DC2_CXCR4', 'Cheng_DC2_IL1B', 'Cheng_DC2_FCN1', 'Cheng_DC2_ISG15', 'Cheng_DC2_CXCL9', 'DC3_sig', '2025-DC2-true_02', '2025-DC2-true_05', '2025-DC2-true_08', '2025-DC2-true_08_sub5', '2025-DC2-true_08_sub5-1', 'cDC2A_sig', 'cDC2B_sig', 'cDC2_A-B', 'cDC2_Atlas_Subclusters', 'DC_CD207_Moon_sig', 'cDC2A_Minutti_sig', 'DC2_CD207_Gui_sig', 'DC2_CD1A_Cheng_sig', 'MyeloidAPC_Subsets'\n",
       "    var: 'name', 'mt', 'n_cells_by_counts', 'mean_counts', 'log1p_mean_counts', 'pct_dropout_by_counts', 'total_counts', 'log1p_total_counts', 'n_cells', 'highly_variable', 'means', 'dispersions', 'dispersions_norm', 'mean', 'std'\n",
       "    uns: '2025-DC2-true_02', '2025-DC2-true_02_colors', '2025-DC2-true_05', '2025-DC2-true_05_colors', '2025-DC2-true_08', '2025-DC2-true_08_colors', '2025-DC2-true_08_sub5', '2025-DC2-true_08_sub5-1', '2025-DC2-true_08_sub5-1_colors', '2025-DC2-true_08_sub5_colors', 'NR_annotations_simple_colors', 'cDC2_A-B_colors', 'cDC2_Atlas_Subclusters_colors', 'degs_cDC2A_vs_cDC2B', 'hvg', 'log1p', 'neighbors', 'pca', 'rank_genes_groups', 'umap'\n",
       "    obsm: 'X_pca', 'X_umap'\n",
       "    varm: 'PCs'\n",
       "    obsp: 'connectivities', 'distances'"
      ]
     },
     "execution_count": 18,
     "metadata": {},
     "output_type": "execute_result"
    }
   ],
   "source": [
    "data_DC2"
   ]
  },
  {
   "cell_type": "markdown",
   "id": "d4a90184",
   "metadata": {},
   "source": [
    "### Remove the following columns from data_DC2\n",
    "'sample_type', 'cancer_type', 'patient_id', 'sample_id', 'sample_type_major', 'keep_or_remove', 'leiden', 'celltype', 'leiden_DC', 'leiden_DC_v2', 'exclude_annots', 'leiden_M','NR_annotations_simple', 'cancer_with_H', 'Guimaraes_DC2_FCER1A', 'Guimaraes_DC2_AREG', 'Guimaraes_Cheng_DC2_CD207/CD1A', 'Guimaraes_DC3_CD14', 'Guimaraes_DC4_FCGR3A', 'Guimaraes_DC_CXCL2', 'Cheng_DC2_CXCR4', 'Cheng_DC2_IL1B', 'Cheng_DC2_FCN1', 'Cheng_DC2_ISG15', 'Cheng_DC2_CXCL9', 'DC3_sig', '2025-DC2-true_02', '2025-DC2-true_05', '2025-DC2-true_08', '2025-DC2-true_08_sub5', '2025-DC2-true_08_sub5-1', 'cDC2A_sig', 'cDC2B_sig', 'DC_CD207_Moon_sig', 'cDC2A_Minutti_sig', 'DC2_CD207_Gui_sig', 'DC2_CD1A_Cheng_sig'\n",
    "\n",
    "\n",
    "### Keep:\n",
    "'nCount_RNA', 'nFeature_RNA', 'percent.mt', 'site','cancer_subtype', 'integration_id', 'ident', 'dataset_id','n_genes_by_counts', 'log1p_n_genes_by_counts', 'total_counts', 'log1p_total_counts', 'pct_counts_in_top_50_genes', 'pct_counts_in_top_100_genes', 'pct_counts_in_top_200_genes', 'pct_counts_in_top_500_genes', 'total_counts_mt', 'log1p_total_counts_mt', 'pct_counts_mt', 'S_score', 'G2M_score', 'Technology','sample_type_major2', 'cancer_broadest','patient_treatment', 'MyeloidAPC_Subsets', 'cDC2_A-B', 'cDC2_Atlas_Subclusters',\n"
   ]
  },
  {
   "cell_type": "code",
   "execution_count": 19,
   "id": "19686884",
   "metadata": {},
   "outputs": [],
   "source": [
    "data_DC2.obs.drop(columns=['sample_type', 'cancer_type', 'patient_id', 'sample_id', 'sample_type_major', 'keep_or_remove', 'leiden', 'celltype', 'leiden_DC', 'leiden_DC_v2', 'exclude_annots', \n",
    "                           'leiden_M','NR_annotations_simple', 'cancer_with_H', 'Guimaraes_DC2_FCER1A', 'Guimaraes_DC2_AREG', 'Guimaraes_Cheng_DC2_CD207/CD1A', 'Guimaraes_DC3_CD14', \n",
    "                           'Guimaraes_DC4_FCGR3A', 'Guimaraes_DC_CXCL2', 'Cheng_DC2_CXCR4', 'Cheng_DC2_IL1B', 'Cheng_DC2_FCN1', 'Cheng_DC2_ISG15', 'Cheng_DC2_CXCL9', 'DC3_sig', \n",
    "                           '2025-DC2-true_02', '2025-DC2-true_05', '2025-DC2-true_08', '2025-DC2-true_08_sub5', '2025-DC2-true_08_sub5-1', 'cDC2A_sig', 'cDC2B_sig', 'DC_CD207_Moon_sig', \n",
    "                           'cDC2A_Minutti_sig', 'DC2_CD207_Gui_sig', 'DC2_CD1A_Cheng_sig'], inplace=True)"
   ]
  },
  {
   "cell_type": "code",
   "execution_count": 20,
   "id": "0b87de62",
   "metadata": {},
   "outputs": [
    {
     "data": {
      "text/plain": [
       "AnnData object with n_obs × n_vars = 16643 × 2001\n",
       "    obs: 'nCount_RNA', 'nFeature_RNA', 'percent.mt', 'site', 'cancer_subtype', 'integration_id', 'ident', 'dataset_id', 'n_genes_by_counts', 'log1p_n_genes_by_counts', 'total_counts', 'log1p_total_counts', 'pct_counts_in_top_50_genes', 'pct_counts_in_top_100_genes', 'pct_counts_in_top_200_genes', 'pct_counts_in_top_500_genes', 'total_counts_mt', 'log1p_total_counts_mt', 'pct_counts_mt', 'S_score', 'G2M_score', 'Technology', 'sample_type_major2', 'cancer_broadest', 'patient_treatment', 'cDC2_A-B', 'cDC2_Atlas_Subclusters', 'MyeloidAPC_Subsets'\n",
       "    var: 'name', 'mt', 'n_cells_by_counts', 'mean_counts', 'log1p_mean_counts', 'pct_dropout_by_counts', 'total_counts', 'log1p_total_counts', 'n_cells', 'highly_variable', 'means', 'dispersions', 'dispersions_norm', 'mean', 'std'\n",
       "    uns: '2025-DC2-true_02', '2025-DC2-true_02_colors', '2025-DC2-true_05', '2025-DC2-true_05_colors', '2025-DC2-true_08', '2025-DC2-true_08_colors', '2025-DC2-true_08_sub5', '2025-DC2-true_08_sub5-1', '2025-DC2-true_08_sub5-1_colors', '2025-DC2-true_08_sub5_colors', 'NR_annotations_simple_colors', 'cDC2_A-B_colors', 'cDC2_Atlas_Subclusters_colors', 'degs_cDC2A_vs_cDC2B', 'hvg', 'log1p', 'neighbors', 'pca', 'rank_genes_groups', 'umap'\n",
       "    obsm: 'X_pca', 'X_umap'\n",
       "    varm: 'PCs'\n",
       "    obsp: 'connectivities', 'distances'"
      ]
     },
     "execution_count": 20,
     "metadata": {},
     "output_type": "execute_result"
    }
   ],
   "source": [
    "data_DC2"
   ]
  },
  {
   "cell_type": "markdown",
   "id": "80711efb",
   "metadata": {},
   "source": [
    "## data_scvi"
   ]
  },
  {
   "cell_type": "code",
   "execution_count": 21,
   "id": "90d95629",
   "metadata": {},
   "outputs": [
    {
     "data": {
      "text/plain": [
       "AnnData object with n_obs × n_vars = 498023 × 1264\n",
       "    obs: 'nCount_RNA', 'nFeature_RNA', 'sample_type', 'cancer_type', 'patient_id', 'sample_id', 'percent.mt', 'site', 'sample_type_major', 'cancer_subtype', 'integration_id', 'ident', 'dataset_id', 'Technology', 'NR_annotations_simple', 'sample_type_major2', 'cancer_with_H', 'cancer_broadest', 'patient_treatment', '_scvi_batch', '_scvi_labels', 'MyeloidAPC_Subsets'\n",
       "    var: 'name', 'highly_variable', 'means', 'dispersions', 'dispersions_norm', 'mean', 'std'\n",
       "    uns: '_scvi_manager_uuid', '_scvi_uuid', 'hvg', 'integration_id_colors', 'log1p', 'neighbors', 'pca', 'umap'\n",
       "    obsm: 'X_pca', 'X_scVI', 'X_umap'\n",
       "    varm: 'PCs'\n",
       "    layers: 'counts'\n",
       "    obsp: 'connectivities', 'distances'"
      ]
     },
     "execution_count": 21,
     "metadata": {},
     "output_type": "execute_result"
    }
   ],
   "source": [
    "data_scvi"
   ]
  },
  {
   "cell_type": "markdown",
   "id": "ee5e36a9",
   "metadata": {},
   "source": [
    "### Remove the following columns from data_scvi\n",
    "'sample_type', 'cancer_type', 'patient_id', 'sample_id', 'sample_type_major', 'NR_annotations_simple', 'cancer_with_H' \n",
    "\n",
    "\n",
    "### Keep:\n",
    "'nCount_RNA', 'nFeature_RNA', 'percent.mt', 'site','cancer_subtype', 'integration_id', 'ident', 'dataset_id','Technology','sample_type_major2', 'cancer_broadest','patient_treatment', , '_scvi_batch', '_scvi_labels', 'MyeloidAPC_Subsets'\n"
   ]
  },
  {
   "cell_type": "code",
   "execution_count": 22,
   "id": "a2cb4f9c",
   "metadata": {},
   "outputs": [],
   "source": [
    "data_scvi.obs.drop(columns=['sample_type', 'cancer_type', 'patient_id', 'sample_id', 'sample_type_major', 'NR_annotations_simple', 'cancer_with_H','_scvi_batch','_scvi_labels'], inplace=True)"
   ]
  },
  {
   "cell_type": "code",
   "execution_count": 23,
   "id": "03be5ab4",
   "metadata": {},
   "outputs": [
    {
     "data": {
      "text/plain": [
       "AnnData object with n_obs × n_vars = 498023 × 1264\n",
       "    obs: 'nCount_RNA', 'nFeature_RNA', 'percent.mt', 'site', 'cancer_subtype', 'integration_id', 'ident', 'dataset_id', 'Technology', 'sample_type_major2', 'cancer_broadest', 'patient_treatment', 'MyeloidAPC_Subsets'\n",
       "    var: 'name', 'highly_variable', 'means', 'dispersions', 'dispersions_norm', 'mean', 'std'\n",
       "    uns: '_scvi_manager_uuid', '_scvi_uuid', 'hvg', 'integration_id_colors', 'log1p', 'neighbors', 'pca', 'umap'\n",
       "    obsm: 'X_pca', 'X_scVI', 'X_umap'\n",
       "    varm: 'PCs'\n",
       "    layers: 'counts'\n",
       "    obsp: 'connectivities', 'distances'"
      ]
     },
     "execution_count": 23,
     "metadata": {},
     "output_type": "execute_result"
    }
   ],
   "source": [
    "data_scvi"
   ]
  },
  {
   "cell_type": "markdown",
   "id": "1c13bbeb",
   "metadata": {},
   "source": [
    "# Visualise each object and check it appears as in manuscript - set colours"
   ]
  },
  {
   "cell_type": "code",
   "execution_count": 27,
   "id": "42909336",
   "metadata": {},
   "outputs": [
    {
     "data": {
      "text/plain": [
       "AnnData object with n_obs × n_vars = 498023 × 1268\n",
       "    obs: 'nCount_RNA', 'nFeature_RNA', 'percent.mt', 'site', 'cancer_subtype', 'integration_id', 'ident', 'dataset_id', 'n_genes_by_counts', 'log1p_n_genes_by_counts', 'total_counts', 'log1p_total_counts', 'pct_counts_in_top_50_genes', 'pct_counts_in_top_100_genes', 'pct_counts_in_top_200_genes', 'pct_counts_in_top_500_genes', 'total_counts_mt', 'log1p_total_counts_mt', 'pct_counts_mt', 'S_score', 'G2M_score', 'Technology', 'sample_type_major2', 'cancer_broadest', 'patient_treatment', 'MyeloidAPC_Subsets'\n",
       "    var: 'name', 'mt', 'n_cells_by_counts', 'mean_counts', 'log1p_mean_counts', 'pct_dropout_by_counts', 'total_counts', 'log1p_total_counts', 'highly_variable', 'means', 'dispersions', 'dispersions_norm', 'mean', 'std'\n",
       "    uns: 'MyeloidAPC_Subsets_colors', 'NR_annotations_colors', 'NR_annotations_simple_colors', 'cancer_type_broad_colors', 'clean-leiden_0.8', 'clean-leiden_0.8_colors', 'clean-subcluster', 'clean-subcluster-v2', 'clean-subcluster-v2_colors', 'clean-subcluster_colors', 'dendrogram_NR_annotations_simple', 'hvg', 'log1p', 'neighbors', 'pca', 'rank_genes_groups', 'sample_type_major2_colors', 'site_colors', 'umap'\n",
       "    obsm: 'X_pca', 'X_pca_harmony', 'X_umap'\n",
       "    varm: 'PCs'\n",
       "    obsp: 'connectivities', 'distances'"
      ]
     },
     "execution_count": 27,
     "metadata": {},
     "output_type": "execute_result"
    }
   ],
   "source": [
    "data_atlas"
   ]
  },
  {
   "cell_type": "code",
   "execution_count": 25,
   "id": "6c89a3e5",
   "metadata": {},
   "outputs": [],
   "source": [
    "# Set colours for MyeloidAPC_Subsets plot:\n",
    "data_atlas.uns[\"MyeloidAPC_Subsets_colors\"] = ['#d62728', '#279e68', '#e377c2', '#aa40fc', '#8c564b', '#5fa6e6']  "
   ]
  },
  {
   "cell_type": "code",
   "execution_count": 29,
   "id": "bd16a60e",
   "metadata": {},
   "outputs": [
    {
     "data": {
      "image/png": "[encoded data removed]",
      "text/plain": [
       "<Figure size 300x300 with 1 Axes>"
      ]
     },
     "metadata": {},
     "output_type": "display_data"
    }
   ],
   "source": [
    "#plotting \n",
    "with plt.rc_context({\"figure.figsize\": (3, 3)}):\n",
    "    sc.pl.umap(data_atlas, color=[\"MyeloidAPC_Subsets\"], ncols=1, size=5)"
   ]
  },
  {
   "cell_type": "code",
   "execution_count": 30,
   "id": "c6751044",
   "metadata": {},
   "outputs": [
    {
     "data": {
      "text/plain": [
       "AnnData object with n_obs × n_vars = 29887 × 1746\n",
       "    obs: 'nCount_RNA', 'nFeature_RNA', 'percent.mt', 'site', 'cancer_subtype', 'integration_id', 'ident', 'dataset_id', 'n_genes_by_counts', 'log1p_n_genes_by_counts', 'total_counts', 'log1p_total_counts', 'pct_counts_in_top_50_genes', 'pct_counts_in_top_100_genes', 'pct_counts_in_top_200_genes', 'pct_counts_in_top_500_genes', 'total_counts_mt', 'log1p_total_counts_mt', 'pct_counts_mt', 'S_score', 'G2M_score', 'Technology', 'sample_type_major2', 'cancer_broadest', 'patient_treatment', 'MyeloidAPC_Subsets'\n",
       "    var: 'name', 'mt', 'n_cells_by_counts', 'mean_counts', 'log1p_mean_counts', 'pct_dropout_by_counts', 'total_counts', 'log1p_total_counts', 'n_cells', 'highly_variable', 'means', 'dispersions', 'dispersions_norm', 'mean', 'std'\n",
       "    uns: 'NR_annotations_simple_colors', 'dendrogram_NR_annotations_simple', 'hvg', 'log1p', 'neighbors', 'pca', 'rank_genes_groups', 'umap'\n",
       "    obsm: 'X_pca', 'X_umap'\n",
       "    varm: 'PCs'\n",
       "    obsp: 'connectivities', 'distances'"
      ]
     },
     "execution_count": 30,
     "metadata": {},
     "output_type": "execute_result"
    }
   ],
   "source": [
    "data_AllDC"
   ]
  },
  {
   "cell_type": "code",
   "execution_count": 32,
   "id": "a7527201",
   "metadata": {},
   "outputs": [],
   "source": [
    "# Set colours for MyeloidAPC_Subsets plot:\n",
    "data_AllDC.uns[\"MyeloidAPC_Subsets_colors\"] = ['#e377c2', '#aa40fc', '#8c564b']  "
   ]
  },
  {
   "cell_type": "code",
   "execution_count": 33,
   "id": "2101db8d",
   "metadata": {},
   "outputs": [
    {
     "data": {
      "image/png": "[encoded data removed]",
      "text/plain": [
       "<Figure size 300x300 with 1 Axes>"
      ]
     },
     "metadata": {},
     "output_type": "display_data"
    }
   ],
   "source": [
    "#plotting \n",
    "with plt.rc_context({\"figure.figsize\": (3, 3)}):\n",
    "    sc.pl.umap(data_AllDC, color=[\"MyeloidAPC_Subsets\"], ncols=1, size=5)"
   ]
  },
  {
   "cell_type": "markdown",
   "id": "9d076f27",
   "metadata": {},
   "source": [
    "## Add cDC2A/cDC2B annotations to data_AllDC"
   ]
  },
  {
   "cell_type": "code",
   "execution_count": 35,
   "id": "0db1e781",
   "metadata": {},
   "outputs": [],
   "source": [
    "#copy metadata column\n",
    "data_AllDC.obs['MyeloidAPC_Subsets_with_cDC2AB'] = data_AllDC.obs['MyeloidAPC_Subsets']"
   ]
  },
  {
   "cell_type": "code",
   "execution_count": null,
   "id": "250bc13c",
   "metadata": {},
   "outputs": [],
   "source": [
    "#define cells in data_DC2\n",
    "common_cells = data_DC2.obs_names.intersection(data_AllDC.obs_names)"
   ]
  },
  {
   "cell_type": "code",
   "execution_count": 39,
   "id": "57dcb35f",
   "metadata": {},
   "outputs": [],
   "source": [
    "# Now update label for only those cells\n",
    "data_AllDC.obs.loc[common_cells, 'MyeloidAPC_Subsets_cDC2AB'] = data_DC2.obs.loc[common_cells, 'cDC2_A-B']"
   ]
  },
  {
   "cell_type": "code",
   "execution_count": 40,
   "id": "724837a0",
   "metadata": {},
   "outputs": [
    {
     "data": {
      "text/html": [
       "<div>\n",
       "<style scoped>\n",
       "    .dataframe tbody tr th:only-of-type {\n",
       "        vertical-align: middle;\n",
       "    }\n",
       "\n",
       "    .dataframe tbody tr th {\n",
       "        vertical-align: top;\n",
       "    }\n",
       "\n",
       "    .dataframe thead th {\n",
       "        text-align: right;\n",
       "    }\n",
       "</style>\n",
       "<table border=\"1\" class=\"dataframe\">\n",
       "  <thead>\n",
       "    <tr style=\"text-align: right;\">\n",
       "      <th></th>\n",
       "      <th>MyeloidAPC_Subsets</th>\n",
       "      <th>MyeloidAPC_Subsets_cDC2AB</th>\n",
       "    </tr>\n",
       "  </thead>\n",
       "  <tbody>\n",
       "    <tr>\n",
       "      <th>GSE215120_AM1_AAATGCCCAGAGCCAA-1</th>\n",
       "      <td>cDC2</td>\n",
       "      <td>cDC2B</td>\n",
       "    </tr>\n",
       "    <tr>\n",
       "      <th>GSE215120_AM1_ACACTGATCCACTGGG-1</th>\n",
       "      <td>cDC2</td>\n",
       "      <td>cDC2B</td>\n",
       "    </tr>\n",
       "    <tr>\n",
       "      <th>GSE215120_AM1_ACAGCCGCAAACCTAC-1</th>\n",
       "      <td>cDC2</td>\n",
       "      <td>cDC2B</td>\n",
       "    </tr>\n",
       "    <tr>\n",
       "      <th>GSE215120_AM1_ACCAGTAAGACTGGGT-1</th>\n",
       "      <td>cDC1</td>\n",
       "      <td>NaN</td>\n",
       "    </tr>\n",
       "    <tr>\n",
       "      <th>GSE215120_AM1_ACGTCAACAAGGACTG-1</th>\n",
       "      <td>cDC1</td>\n",
       "      <td>NaN</td>\n",
       "    </tr>\n",
       "  </tbody>\n",
       "</table>\n",
       "</div>"
      ],
      "text/plain": [
       "                                 MyeloidAPC_Subsets MyeloidAPC_Subsets_cDC2AB\n",
       "GSE215120_AM1_AAATGCCCAGAGCCAA-1               cDC2                     cDC2B\n",
       "GSE215120_AM1_ACACTGATCCACTGGG-1               cDC2                     cDC2B\n",
       "GSE215120_AM1_ACAGCCGCAAACCTAC-1               cDC2                     cDC2B\n",
       "GSE215120_AM1_ACCAGTAAGACTGGGT-1               cDC1                       NaN\n",
       "GSE215120_AM1_ACGTCAACAAGGACTG-1               cDC1                       NaN"
      ]
     },
     "execution_count": 40,
     "metadata": {},
     "output_type": "execute_result"
    }
   ],
   "source": [
    "# Preview result\n",
    "data_AllDC.obs[['MyeloidAPC_Subsets', 'MyeloidAPC_Subsets_cDC2AB']].head()"
   ]
  },
  {
   "cell_type": "code",
   "execution_count": 34,
   "id": "a8d2bc54",
   "metadata": {},
   "outputs": [
    {
     "data": {
      "text/plain": [
       "AnnData object with n_obs × n_vars = 16643 × 2001\n",
       "    obs: 'nCount_RNA', 'nFeature_RNA', 'percent.mt', 'site', 'cancer_subtype', 'integration_id', 'ident', 'dataset_id', 'n_genes_by_counts', 'log1p_n_genes_by_counts', 'total_counts', 'log1p_total_counts', 'pct_counts_in_top_50_genes', 'pct_counts_in_top_100_genes', 'pct_counts_in_top_200_genes', 'pct_counts_in_top_500_genes', 'total_counts_mt', 'log1p_total_counts_mt', 'pct_counts_mt', 'S_score', 'G2M_score', 'Technology', 'sample_type_major2', 'cancer_broadest', 'patient_treatment', 'cDC2_A-B', 'cDC2_Atlas_Subclusters', 'MyeloidAPC_Subsets'\n",
       "    var: 'name', 'mt', 'n_cells_by_counts', 'mean_counts', 'log1p_mean_counts', 'pct_dropout_by_counts', 'total_counts', 'log1p_total_counts', 'n_cells', 'highly_variable', 'means', 'dispersions', 'dispersions_norm', 'mean', 'std'\n",
       "    uns: '2025-DC2-true_02', '2025-DC2-true_02_colors', '2025-DC2-true_05', '2025-DC2-true_05_colors', '2025-DC2-true_08', '2025-DC2-true_08_colors', '2025-DC2-true_08_sub5', '2025-DC2-true_08_sub5-1', '2025-DC2-true_08_sub5-1_colors', '2025-DC2-true_08_sub5_colors', 'NR_annotations_simple_colors', 'cDC2_A-B_colors', 'cDC2_Atlas_Subclusters_colors', 'degs_cDC2A_vs_cDC2B', 'hvg', 'log1p', 'neighbors', 'pca', 'rank_genes_groups', 'umap'\n",
       "    obsm: 'X_pca', 'X_umap'\n",
       "    varm: 'PCs'\n",
       "    obsp: 'connectivities', 'distances'"
      ]
     },
     "execution_count": 34,
     "metadata": {},
     "output_type": "execute_result"
    }
   ],
   "source": [
    "data_DC2"
   ]
  },
  {
   "cell_type": "code",
   "execution_count": null,
   "id": "3faade2c",
   "metadata": {},
   "outputs": [],
   "source": []
  },
  {
   "cell_type": "code",
   "execution_count": null,
   "metadata": {},
   "outputs": [],
   "source": []
  },
  {
   "cell_type": "code",
   "execution_count": null,
   "metadata": {},
   "outputs": [],
   "source": []
  },
  {
   "cell_type": "code",
   "execution_count": null,
   "id": "8998851d",
   "metadata": {},
   "outputs": [],
   "source": [
    "# export object: \n",
    "data_atlas.write_h5ad(\"MyeloidAPC_Atlas_Share.h5ad\", compression=\"gzip\")"
   ]
  }
 ],
 "metadata": {
  "kernelspec": {
   "display_name": "Python 3 (ipykernel)",
   "language": "python",
   "name": "python3"
  },
  "language_info": {
   "codemirror_mode": {
    "name": "ipython",
    "version": 3
   },
   "file_extension": ".py",
   "mimetype": "text/x-python",
   "name": "python",
   "nbconvert_exporter": "python",
   "pygments_lexer": "ipython3",
   "version": "3.12.3"
  }
 },
 "nbformat": 4,
 "nbformat_minor": 5
}
