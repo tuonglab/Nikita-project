{
 "cells": [
  {
   "cell_type": "markdown",
   "id": "b5c88213",
   "metadata": {},
   "source": [
    "# scvi prep\n",
    "\n",
    "* Going to perform scvi integration to show results are comparable to harmony integration. Xiaohan will perform integration, however scvi needs to be done on raw data so preparing raw object here (take original raw object but then remove cells that were excluding during cleaning and transfer relevant metadata)"
   ]
  },
  {
   "cell_type": "code",
   "execution_count": 1,
   "id": "aa7c9bdb",
   "metadata": {},
   "outputs": [],
   "source": [
    "import scanpy as sc\n",
    "import os\n",
    "import pandas as pd"
   ]
  },
  {
   "cell_type": "code",
   "execution_count": 3,
   "id": "823728f6",
   "metadata": {},
   "outputs": [],
   "source": [
    "#read in the files\n",
    "data_raw = sc.read_h5ad('/scratch/user/s4436039/scdata/Myeloid_Objects/NR_data_intersect.h5ad') #raw data\n",
    "data_clean = sc.read_h5ad('/scratch/user/s4436039/scdata/Python_Integration_Sep/NRclean_clustered2.h5ad') #cleaned but processed data"
   ]
  },
  {
   "cell_type": "code",
   "execution_count": 4,
   "id": "a8a2ecc3",
   "metadata": {},
   "outputs": [
    {
     "data": {
      "text/plain": [
       "AnnData object with n_obs × n_vars = 623908 × 15074\n",
       "    obs: 'nCount_RNA', 'nFeature_RNA', 'sample_type', 'cancer_type', 'patient_id', 'sample_id', 'percent.mt', 'site', 'sample_type_major', 'cancer_subtype', 'integration_id', 'ident', 'dataset_id'\n",
       "    var: 'name'"
      ]
     },
     "execution_count": 4,
     "metadata": {},
     "output_type": "execute_result"
    }
   ],
   "source": [
    "data_raw"
   ]
  },
  {
   "cell_type": "code",
   "execution_count": 5,
   "id": "ef0e9a41",
   "metadata": {},
   "outputs": [
    {
     "data": {
      "text/plain": [
       "AnnData object with n_obs × n_vars = 498023 × 1268\n",
       "    obs: 'nCount_RNA', 'nFeature_RNA', 'sample_type', 'cancer_type', 'patient_id', 'sample_id', 'percent.mt', 'site', 'sample_type_major', 'cancer_subtype', 'integration_id', 'ident', 'dataset_id', 'n_genes_by_counts', 'log1p_n_genes_by_counts', 'total_counts', 'log1p_total_counts', 'pct_counts_in_top_50_genes', 'pct_counts_in_top_100_genes', 'pct_counts_in_top_200_genes', 'pct_counts_in_top_500_genes', 'total_counts_mt', 'log1p_total_counts_mt', 'pct_counts_mt', 'S_score', 'G2M_score', 'keep_or_remove', 'leiden', 'celltype', 'leiden_DC', 'leiden_DC_v2', 'exclude_annots', 'leiden_M', 'Technology', 'cancer_type_broad', 'clean-leiden_0.8', 'clean-subcluster', 'clean-subcluster-v2', 'YS_sig', 'HSC_sig', 'CD5nDC2_up_vDC3', 'DC3_up_vCD5nDC2', 'CD5pDC2_up_vDC3', 'DC3_up_vCD5pDC2', 'DC3_up_vMono', 'Mono_up_vDC3', 'DC1_sig', 'DC2_sig', 'DC3_sig', 'DC_Axl_sig', 'DC2_up_DC3', 'DC3_up_DC2', 'mregDC_sig', 'cDC1_mregDC', 'cDC2_mregDC', 'NR_annotations', 'NR_annotations_simple', 'sample_type_major2', 'cancer_with_H', 'cancer_broadest', 'CytoTRACE_DC_Predicted_order', 'AHR(+)', 'ATF3(+)', 'BACH2(+)', 'BATF(+)', 'BHLHE40(+)', 'BHLHE41(+)', 'CREM(+)', 'DDIT3(+)', 'ELF3(+)', 'ETS1(+)', 'FOSL2(+)', 'GATA3(+)', 'HIF1A(+)', 'IKZF2(+)', 'IRF1(+)', 'IRF4(+)', 'IRF8(+)', 'JUN(+)', 'KLF12(+)', 'KLF4(+)', 'MAF(+)', 'MAFF(+)', 'NFE2(+)', 'NFKB1(+)', 'NFKB2(+)', 'NR1H3(+)', 'PRDM1(+)', 'REL(+)', 'SOX4(+)', 'TCF7L2(+)', 'patient_treatment'\n",
       "    var: 'name', 'mt', 'n_cells_by_counts', 'mean_counts', 'log1p_mean_counts', 'pct_dropout_by_counts', 'total_counts', 'log1p_total_counts', 'highly_variable', 'means', 'dispersions', 'dispersions_norm', 'mean', 'std'\n",
       "    uns: 'NR_annotations_colors', 'NR_annotations_simple_colors', 'cancer_type_broad_colors', 'clean-leiden_0.8', 'clean-leiden_0.8_colors', 'clean-subcluster', 'clean-subcluster-v2', 'clean-subcluster-v2_colors', 'clean-subcluster_colors', 'dendrogram_NR_annotations_simple', 'hvg', 'log1p', 'neighbors', 'pca', 'rank_genes_groups', 'sample_type_major2_colors', 'site_colors', 'umap'\n",
       "    obsm: 'X_pca', 'X_pca_harmony', 'X_umap'\n",
       "    varm: 'PCs'\n",
       "    obsp: 'connectivities', 'distances'"
      ]
     },
     "execution_count": 5,
     "metadata": {},
     "output_type": "execute_result"
    }
   ],
   "source": [
    "data_clean"
   ]
  },
  {
   "cell_type": "markdown",
   "id": "60656e02",
   "metadata": {},
   "source": [
    "### subset data_raw to only the cells in data_clean based on barcode:"
   ]
  },
  {
   "cell_type": "code",
   "execution_count": 6,
   "id": "c1de61ce",
   "metadata": {},
   "outputs": [],
   "source": [
    "# Get the list of barcodes (cell names) in data_clean\n",
    "barcodes_to_keep = data_clean.obs.index"
   ]
  },
  {
   "cell_type": "code",
   "execution_count": 7,
   "id": "4ff8a012",
   "metadata": {},
   "outputs": [],
   "source": [
    "# subset data_raw to just those in data_clean\n",
    "data_raw_subset = data_raw[data_raw.obs.index.isin(barcodes_to_keep), :]"
   ]
  },
  {
   "cell_type": "code",
   "execution_count": 8,
   "id": "c5d07a91",
   "metadata": {},
   "outputs": [
    {
     "data": {
      "text/plain": [
       "View of AnnData object with n_obs × n_vars = 498023 × 15074\n",
       "    obs: 'nCount_RNA', 'nFeature_RNA', 'sample_type', 'cancer_type', 'patient_id', 'sample_id', 'percent.mt', 'site', 'sample_type_major', 'cancer_subtype', 'integration_id', 'ident', 'dataset_id'\n",
       "    var: 'name'"
      ]
     },
     "execution_count": 8,
     "metadata": {},
     "output_type": "execute_result"
    }
   ],
   "source": [
    "data_raw_subset"
   ]
  },
  {
   "cell_type": "markdown",
   "id": "58747320",
   "metadata": {},
   "source": [
    "### Transfer desired metadata to data_raw_subset\n",
    "* Technology\n",
    "* NR_annotations_simple\n",
    "* sample_type_major2\n",
    "* cancer_with_H\n",
    "* cancer_broadest\n",
    "* patient_treatment"
   ]
  },
  {
   "cell_type": "code",
   "execution_count": 9,
   "id": "9bc36359",
   "metadata": {},
   "outputs": [],
   "source": [
    "meta_columns = ['Technology','NR_annotations_simple','sample_type_major2','cancer_with_H','cancer_broadest','patient_treatment']"
   ]
  },
  {
   "cell_type": "code",
   "execution_count": 10,
   "id": "3e068d65",
   "metadata": {},
   "outputs": [],
   "source": [
    "# Subset the metadata in data_clean to match data_raw_subset's barcodes\n",
    "metadata_to_transfer = data_clean.obs.loc[data_raw_subset.obs.index, meta_columns]"
   ]
  },
  {
   "cell_type": "code",
   "execution_count": 11,
   "id": "d54c2f49",
   "metadata": {},
   "outputs": [
    {
     "name": "stderr",
     "output_type": "stream",
     "text": [
      "/scratch/temp/13900702/ipykernel_408597/3367624112.py:3: ImplicitModificationWarning: Trying to modify attribute `.obs` of view, initializing view as actual.\n",
      "  data_raw_subset.obs[col] = metadata_to_transfer[col]\n"
     ]
    }
   ],
   "source": [
    "# Add these columns to data_raw_subset's obs\n",
    "for col in meta_columns:\n",
    "    data_raw_subset.obs[col] = metadata_to_transfer[col]"
   ]
  },
  {
   "cell_type": "code",
   "execution_count": 12,
   "id": "492170cf",
   "metadata": {},
   "outputs": [
    {
     "data": {
      "text/html": [
       "<div>\n",
       "<style scoped>\n",
       "    .dataframe tbody tr th:only-of-type {\n",
       "        vertical-align: middle;\n",
       "    }\n",
       "\n",
       "    .dataframe tbody tr th {\n",
       "        vertical-align: top;\n",
       "    }\n",
       "\n",
       "    .dataframe thead th {\n",
       "        text-align: right;\n",
       "    }\n",
       "</style>\n",
       "<table border=\"1\" class=\"dataframe\">\n",
       "  <thead>\n",
       "    <tr style=\"text-align: right;\">\n",
       "      <th></th>\n",
       "      <th>nCount_RNA</th>\n",
       "      <th>nFeature_RNA</th>\n",
       "      <th>sample_type</th>\n",
       "      <th>cancer_type</th>\n",
       "      <th>patient_id</th>\n",
       "      <th>sample_id</th>\n",
       "      <th>percent.mt</th>\n",
       "      <th>site</th>\n",
       "      <th>sample_type_major</th>\n",
       "      <th>cancer_subtype</th>\n",
       "      <th>integration_id</th>\n",
       "      <th>ident</th>\n",
       "      <th>dataset_id</th>\n",
       "      <th>Technology</th>\n",
       "      <th>NR_annotations_simple</th>\n",
       "      <th>sample_type_major2</th>\n",
       "      <th>cancer_with_H</th>\n",
       "      <th>cancer_broadest</th>\n",
       "      <th>patient_treatment</th>\n",
       "    </tr>\n",
       "  </thead>\n",
       "  <tbody>\n",
       "    <tr>\n",
       "      <th>GSE180661_HGSOC_SPECTRUM-OV-045_S1_CD45P_LEFT_OVARY_TTTCATGGTTACCTGA</th>\n",
       "      <td>-4.499666</td>\n",
       "      <td>-9.853381</td>\n",
       "      <td>Adnexa</td>\n",
       "      <td>HGSOC</td>\n",
       "      <td>Left Adnexa</td>\n",
       "      <td>SPECTRUM-OV-045_S1_CD45P_LEFT_OVARY</td>\n",
       "      <td>1779.0</td>\n",
       "      <td>ovary</td>\n",
       "      <td>primary tumour</td>\n",
       "      <td>HGSOC</td>\n",
       "      <td>GSE180661_SPECTRUM-OV-045_S1_CD45P_LEFT_OVARY</td>\n",
       "      <td>all_integrated_intersect</td>\n",
       "      <td>GSE180661</td>\n",
       "      <td>10x3'</td>\n",
       "      <td>Classical monocytes</td>\n",
       "      <td>primary tumour</td>\n",
       "      <td>HGSOC</td>\n",
       "      <td>HGSOC</td>\n",
       "      <td>Treatment naive</td>\n",
       "    </tr>\n",
       "    <tr>\n",
       "      <th>GSE180661_HGSOC_SPECTRUM-OV-045_S1_CD45P_LEFT_OVARY_TTTCGATGTGACGTCC</th>\n",
       "      <td>-4.871771</td>\n",
       "      <td>-10.337130</td>\n",
       "      <td>Adnexa</td>\n",
       "      <td>HGSOC</td>\n",
       "      <td>Left Adnexa</td>\n",
       "      <td>SPECTRUM-OV-045_S1_CD45P_LEFT_OVARY</td>\n",
       "      <td>1541.0</td>\n",
       "      <td>ovary</td>\n",
       "      <td>primary tumour</td>\n",
       "      <td>HGSOC</td>\n",
       "      <td>GSE180661_SPECTRUM-OV-045_S1_CD45P_LEFT_OVARY</td>\n",
       "      <td>all_integrated_intersect</td>\n",
       "      <td>GSE180661</td>\n",
       "      <td>10x3'</td>\n",
       "      <td>Classical monocytes</td>\n",
       "      <td>primary tumour</td>\n",
       "      <td>HGSOC</td>\n",
       "      <td>HGSOC</td>\n",
       "      <td>Treatment naive</td>\n",
       "    </tr>\n",
       "    <tr>\n",
       "      <th>GSE180661_HGSOC_SPECTRUM-OV-045_S1_CD45P_LEFT_OVARY_TTTCGATTCTGCGAGC</th>\n",
       "      <td>-4.766977</td>\n",
       "      <td>-8.292435</td>\n",
       "      <td>Adnexa</td>\n",
       "      <td>HGSOC</td>\n",
       "      <td>Left Adnexa</td>\n",
       "      <td>SPECTRUM-OV-045_S1_CD45P_LEFT_OVARY</td>\n",
       "      <td>2596.0</td>\n",
       "      <td>ovary</td>\n",
       "      <td>primary tumour</td>\n",
       "      <td>HGSOC</td>\n",
       "      <td>GSE180661_SPECTRUM-OV-045_S1_CD45P_LEFT_OVARY</td>\n",
       "      <td>all_integrated_intersect</td>\n",
       "      <td>GSE180661</td>\n",
       "      <td>10x3'</td>\n",
       "      <td>Tissue resident macrophage</td>\n",
       "      <td>primary tumour</td>\n",
       "      <td>HGSOC</td>\n",
       "      <td>HGSOC</td>\n",
       "      <td>Treatment naive</td>\n",
       "    </tr>\n",
       "    <tr>\n",
       "      <th>GSE180661_HGSOC_SPECTRUM-OV-045_S1_CD45P_LEFT_OVARY_TTTGATCGTTGCTCCT</th>\n",
       "      <td>-4.133310</td>\n",
       "      <td>-8.758132</td>\n",
       "      <td>Adnexa</td>\n",
       "      <td>HGSOC</td>\n",
       "      <td>Left Adnexa</td>\n",
       "      <td>SPECTRUM-OV-045_S1_CD45P_LEFT_OVARY</td>\n",
       "      <td>1200.0</td>\n",
       "      <td>ovary</td>\n",
       "      <td>primary tumour</td>\n",
       "      <td>HGSOC</td>\n",
       "      <td>GSE180661_SPECTRUM-OV-045_S1_CD45P_LEFT_OVARY</td>\n",
       "      <td>all_integrated_intersect</td>\n",
       "      <td>GSE180661</td>\n",
       "      <td>10x3'</td>\n",
       "      <td>Tissue resident macrophage</td>\n",
       "      <td>primary tumour</td>\n",
       "      <td>HGSOC</td>\n",
       "      <td>HGSOC</td>\n",
       "      <td>Treatment naive</td>\n",
       "    </tr>\n",
       "    <tr>\n",
       "      <th>GSE180661_HGSOC_SPECTRUM-OV-045_S1_CD45P_LEFT_OVARY_TTTGGTTGTGTACAGG</th>\n",
       "      <td>-4.476278</td>\n",
       "      <td>-10.355681</td>\n",
       "      <td>Adnexa</td>\n",
       "      <td>HGSOC</td>\n",
       "      <td>Left Adnexa</td>\n",
       "      <td>SPECTRUM-OV-045_S1_CD45P_LEFT_OVARY</td>\n",
       "      <td>1895.0</td>\n",
       "      <td>ovary</td>\n",
       "      <td>primary tumour</td>\n",
       "      <td>HGSOC</td>\n",
       "      <td>GSE180661_SPECTRUM-OV-045_S1_CD45P_LEFT_OVARY</td>\n",
       "      <td>all_integrated_intersect</td>\n",
       "      <td>GSE180661</td>\n",
       "      <td>10x3'</td>\n",
       "      <td>Classical monocytes</td>\n",
       "      <td>primary tumour</td>\n",
       "      <td>HGSOC</td>\n",
       "      <td>HGSOC</td>\n",
       "      <td>Treatment naive</td>\n",
       "    </tr>\n",
       "  </tbody>\n",
       "</table>\n",
       "</div>"
      ],
      "text/plain": [
       "                                                    nCount_RNA  nFeature_RNA  \\\n",
       "GSE180661_HGSOC_SPECTRUM-OV-045_S1_CD45P_LEFT_O...   -4.499666     -9.853381   \n",
       "GSE180661_HGSOC_SPECTRUM-OV-045_S1_CD45P_LEFT_O...   -4.871771    -10.337130   \n",
       "GSE180661_HGSOC_SPECTRUM-OV-045_S1_CD45P_LEFT_O...   -4.766977     -8.292435   \n",
       "GSE180661_HGSOC_SPECTRUM-OV-045_S1_CD45P_LEFT_O...   -4.133310     -8.758132   \n",
       "GSE180661_HGSOC_SPECTRUM-OV-045_S1_CD45P_LEFT_O...   -4.476278    -10.355681   \n",
       "\n",
       "                                                   sample_type cancer_type  \\\n",
       "GSE180661_HGSOC_SPECTRUM-OV-045_S1_CD45P_LEFT_O...      Adnexa       HGSOC   \n",
       "GSE180661_HGSOC_SPECTRUM-OV-045_S1_CD45P_LEFT_O...      Adnexa       HGSOC   \n",
       "GSE180661_HGSOC_SPECTRUM-OV-045_S1_CD45P_LEFT_O...      Adnexa       HGSOC   \n",
       "GSE180661_HGSOC_SPECTRUM-OV-045_S1_CD45P_LEFT_O...      Adnexa       HGSOC   \n",
       "GSE180661_HGSOC_SPECTRUM-OV-045_S1_CD45P_LEFT_O...      Adnexa       HGSOC   \n",
       "\n",
       "                                                     patient_id  \\\n",
       "GSE180661_HGSOC_SPECTRUM-OV-045_S1_CD45P_LEFT_O...  Left Adnexa   \n",
       "GSE180661_HGSOC_SPECTRUM-OV-045_S1_CD45P_LEFT_O...  Left Adnexa   \n",
       "GSE180661_HGSOC_SPECTRUM-OV-045_S1_CD45P_LEFT_O...  Left Adnexa   \n",
       "GSE180661_HGSOC_SPECTRUM-OV-045_S1_CD45P_LEFT_O...  Left Adnexa   \n",
       "GSE180661_HGSOC_SPECTRUM-OV-045_S1_CD45P_LEFT_O...  Left Adnexa   \n",
       "\n",
       "                                                                              sample_id  \\\n",
       "GSE180661_HGSOC_SPECTRUM-OV-045_S1_CD45P_LEFT_O...  SPECTRUM-OV-045_S1_CD45P_LEFT_OVARY   \n",
       "GSE180661_HGSOC_SPECTRUM-OV-045_S1_CD45P_LEFT_O...  SPECTRUM-OV-045_S1_CD45P_LEFT_OVARY   \n",
       "GSE180661_HGSOC_SPECTRUM-OV-045_S1_CD45P_LEFT_O...  SPECTRUM-OV-045_S1_CD45P_LEFT_OVARY   \n",
       "GSE180661_HGSOC_SPECTRUM-OV-045_S1_CD45P_LEFT_O...  SPECTRUM-OV-045_S1_CD45P_LEFT_OVARY   \n",
       "GSE180661_HGSOC_SPECTRUM-OV-045_S1_CD45P_LEFT_O...  SPECTRUM-OV-045_S1_CD45P_LEFT_OVARY   \n",
       "\n",
       "                                                    percent.mt   site  \\\n",
       "GSE180661_HGSOC_SPECTRUM-OV-045_S1_CD45P_LEFT_O...      1779.0  ovary   \n",
       "GSE180661_HGSOC_SPECTRUM-OV-045_S1_CD45P_LEFT_O...      1541.0  ovary   \n",
       "GSE180661_HGSOC_SPECTRUM-OV-045_S1_CD45P_LEFT_O...      2596.0  ovary   \n",
       "GSE180661_HGSOC_SPECTRUM-OV-045_S1_CD45P_LEFT_O...      1200.0  ovary   \n",
       "GSE180661_HGSOC_SPECTRUM-OV-045_S1_CD45P_LEFT_O...      1895.0  ovary   \n",
       "\n",
       "                                                   sample_type_major  \\\n",
       "GSE180661_HGSOC_SPECTRUM-OV-045_S1_CD45P_LEFT_O...    primary tumour   \n",
       "GSE180661_HGSOC_SPECTRUM-OV-045_S1_CD45P_LEFT_O...    primary tumour   \n",
       "GSE180661_HGSOC_SPECTRUM-OV-045_S1_CD45P_LEFT_O...    primary tumour   \n",
       "GSE180661_HGSOC_SPECTRUM-OV-045_S1_CD45P_LEFT_O...    primary tumour   \n",
       "GSE180661_HGSOC_SPECTRUM-OV-045_S1_CD45P_LEFT_O...    primary tumour   \n",
       "\n",
       "                                                   cancer_subtype  \\\n",
       "GSE180661_HGSOC_SPECTRUM-OV-045_S1_CD45P_LEFT_O...          HGSOC   \n",
       "GSE180661_HGSOC_SPECTRUM-OV-045_S1_CD45P_LEFT_O...          HGSOC   \n",
       "GSE180661_HGSOC_SPECTRUM-OV-045_S1_CD45P_LEFT_O...          HGSOC   \n",
       "GSE180661_HGSOC_SPECTRUM-OV-045_S1_CD45P_LEFT_O...          HGSOC   \n",
       "GSE180661_HGSOC_SPECTRUM-OV-045_S1_CD45P_LEFT_O...          HGSOC   \n",
       "\n",
       "                                                                                   integration_id  \\\n",
       "GSE180661_HGSOC_SPECTRUM-OV-045_S1_CD45P_LEFT_O...  GSE180661_SPECTRUM-OV-045_S1_CD45P_LEFT_OVARY   \n",
       "GSE180661_HGSOC_SPECTRUM-OV-045_S1_CD45P_LEFT_O...  GSE180661_SPECTRUM-OV-045_S1_CD45P_LEFT_OVARY   \n",
       "GSE180661_HGSOC_SPECTRUM-OV-045_S1_CD45P_LEFT_O...  GSE180661_SPECTRUM-OV-045_S1_CD45P_LEFT_OVARY   \n",
       "GSE180661_HGSOC_SPECTRUM-OV-045_S1_CD45P_LEFT_O...  GSE180661_SPECTRUM-OV-045_S1_CD45P_LEFT_OVARY   \n",
       "GSE180661_HGSOC_SPECTRUM-OV-045_S1_CD45P_LEFT_O...  GSE180661_SPECTRUM-OV-045_S1_CD45P_LEFT_OVARY   \n",
       "\n",
       "                                                                       ident  \\\n",
       "GSE180661_HGSOC_SPECTRUM-OV-045_S1_CD45P_LEFT_O...  all_integrated_intersect   \n",
       "GSE180661_HGSOC_SPECTRUM-OV-045_S1_CD45P_LEFT_O...  all_integrated_intersect   \n",
       "GSE180661_HGSOC_SPECTRUM-OV-045_S1_CD45P_LEFT_O...  all_integrated_intersect   \n",
       "GSE180661_HGSOC_SPECTRUM-OV-045_S1_CD45P_LEFT_O...  all_integrated_intersect   \n",
       "GSE180661_HGSOC_SPECTRUM-OV-045_S1_CD45P_LEFT_O...  all_integrated_intersect   \n",
       "\n",
       "                                                   dataset_id Technology  \\\n",
       "GSE180661_HGSOC_SPECTRUM-OV-045_S1_CD45P_LEFT_O...  GSE180661      10x3'   \n",
       "GSE180661_HGSOC_SPECTRUM-OV-045_S1_CD45P_LEFT_O...  GSE180661      10x3'   \n",
       "GSE180661_HGSOC_SPECTRUM-OV-045_S1_CD45P_LEFT_O...  GSE180661      10x3'   \n",
       "GSE180661_HGSOC_SPECTRUM-OV-045_S1_CD45P_LEFT_O...  GSE180661      10x3'   \n",
       "GSE180661_HGSOC_SPECTRUM-OV-045_S1_CD45P_LEFT_O...  GSE180661      10x3'   \n",
       "\n",
       "                                                         NR_annotations_simple  \\\n",
       "GSE180661_HGSOC_SPECTRUM-OV-045_S1_CD45P_LEFT_O...         Classical monocytes   \n",
       "GSE180661_HGSOC_SPECTRUM-OV-045_S1_CD45P_LEFT_O...         Classical monocytes   \n",
       "GSE180661_HGSOC_SPECTRUM-OV-045_S1_CD45P_LEFT_O...  Tissue resident macrophage   \n",
       "GSE180661_HGSOC_SPECTRUM-OV-045_S1_CD45P_LEFT_O...  Tissue resident macrophage   \n",
       "GSE180661_HGSOC_SPECTRUM-OV-045_S1_CD45P_LEFT_O...         Classical monocytes   \n",
       "\n",
       "                                                   sample_type_major2  \\\n",
       "GSE180661_HGSOC_SPECTRUM-OV-045_S1_CD45P_LEFT_O...     primary tumour   \n",
       "GSE180661_HGSOC_SPECTRUM-OV-045_S1_CD45P_LEFT_O...     primary tumour   \n",
       "GSE180661_HGSOC_SPECTRUM-OV-045_S1_CD45P_LEFT_O...     primary tumour   \n",
       "GSE180661_HGSOC_SPECTRUM-OV-045_S1_CD45P_LEFT_O...     primary tumour   \n",
       "GSE180661_HGSOC_SPECTRUM-OV-045_S1_CD45P_LEFT_O...     primary tumour   \n",
       "\n",
       "                                                   cancer_with_H  \\\n",
       "GSE180661_HGSOC_SPECTRUM-OV-045_S1_CD45P_LEFT_O...         HGSOC   \n",
       "GSE180661_HGSOC_SPECTRUM-OV-045_S1_CD45P_LEFT_O...         HGSOC   \n",
       "GSE180661_HGSOC_SPECTRUM-OV-045_S1_CD45P_LEFT_O...         HGSOC   \n",
       "GSE180661_HGSOC_SPECTRUM-OV-045_S1_CD45P_LEFT_O...         HGSOC   \n",
       "GSE180661_HGSOC_SPECTRUM-OV-045_S1_CD45P_LEFT_O...         HGSOC   \n",
       "\n",
       "                                                   cancer_broadest  \\\n",
       "GSE180661_HGSOC_SPECTRUM-OV-045_S1_CD45P_LEFT_O...           HGSOC   \n",
       "GSE180661_HGSOC_SPECTRUM-OV-045_S1_CD45P_LEFT_O...           HGSOC   \n",
       "GSE180661_HGSOC_SPECTRUM-OV-045_S1_CD45P_LEFT_O...           HGSOC   \n",
       "GSE180661_HGSOC_SPECTRUM-OV-045_S1_CD45P_LEFT_O...           HGSOC   \n",
       "GSE180661_HGSOC_SPECTRUM-OV-045_S1_CD45P_LEFT_O...           HGSOC   \n",
       "\n",
       "                                                   patient_treatment  \n",
       "GSE180661_HGSOC_SPECTRUM-OV-045_S1_CD45P_LEFT_O...   Treatment naive  \n",
       "GSE180661_HGSOC_SPECTRUM-OV-045_S1_CD45P_LEFT_O...   Treatment naive  \n",
       "GSE180661_HGSOC_SPECTRUM-OV-045_S1_CD45P_LEFT_O...   Treatment naive  \n",
       "GSE180661_HGSOC_SPECTRUM-OV-045_S1_CD45P_LEFT_O...   Treatment naive  \n",
       "GSE180661_HGSOC_SPECTRUM-OV-045_S1_CD45P_LEFT_O...   Treatment naive  "
      ]
     },
     "execution_count": 12,
     "metadata": {},
     "output_type": "execute_result"
    }
   ],
   "source": [
    "# Verify that the metadata was transferred\n",
    "data_raw_subset.obs.tail()"
   ]
  },
  {
   "cell_type": "code",
   "execution_count": 13,
   "id": "850934c4",
   "metadata": {},
   "outputs": [
    {
     "data": {
      "text/plain": [
       "AnnData object with n_obs × n_vars = 498023 × 15074\n",
       "    obs: 'nCount_RNA', 'nFeature_RNA', 'sample_type', 'cancer_type', 'patient_id', 'sample_id', 'percent.mt', 'site', 'sample_type_major', 'cancer_subtype', 'integration_id', 'ident', 'dataset_id', 'Technology', 'NR_annotations_simple', 'sample_type_major2', 'cancer_with_H', 'cancer_broadest', 'patient_treatment'\n",
       "    var: 'name'"
      ]
     },
     "execution_count": 13,
     "metadata": {},
     "output_type": "execute_result"
    }
   ],
   "source": [
    "data_raw_subset"
   ]
  },
  {
   "cell_type": "code",
   "execution_count": 14,
   "id": "a31fca3c",
   "metadata": {},
   "outputs": [],
   "source": [
    "#set directory \n",
    "os.chdir('/scratch/user/s4436039/scdata/Myeloid_Objects')"
   ]
  },
  {
   "cell_type": "code",
   "execution_count": 15,
   "id": "8f232cce",
   "metadata": {},
   "outputs": [],
   "source": [
    "#export raw cleaned myeloid object as a h5ad object \n",
    "data_raw_subset.write_h5ad(\"NRclean_Raw_Data.h5ad\", compression=\"gzip\")"
   ]
  },
  {
   "cell_type": "markdown",
   "id": "5b7ec617",
   "metadata": {},
   "source": [
    "``` rsync -azvhp /scratch/user/s4436039/scdata/Myeloid_Objects/NRclean_Raw_Data.h5ad /QRISdata/Q5935/nikita/scdata/2025-04-29_Raw-data-for-scvi/ ```"
   ]
  },
  {
   "cell_type": "markdown",
   "id": "9db9e67a",
   "metadata": {},
   "source": [
    "### This object will then undergo scvi integration by Xiaohan"
   ]
  }
 ],
 "metadata": {
  "kernelspec": {
   "display_name": "Python 3 (ipykernel)",
   "language": "python",
   "name": "python3"
  },
  "language_info": {
   "codemirror_mode": {
    "name": "ipython",
    "version": 3
   },
   "file_extension": ".py",
   "mimetype": "text/x-python",
   "name": "python",
   "nbconvert_exporter": "python",
   "pygments_lexer": "ipython3",
   "version": "3.12.3"
  }
 },
 "nbformat": 4,
 "nbformat_minor": 5
}
