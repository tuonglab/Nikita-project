{
 "cells": [
  {
   "cell_type": "markdown",
   "metadata": {},
   "source": [
    "### import package and set directory"
   ]
  },
  {
   "cell_type": "code",
   "execution_count": 102,
   "metadata": {},
   "outputs": [],
   "source": [
    "import os\n",
    "import scanpy as sc\n",
    "import pandas as pd\n",
    "import seaborn as sns\n",
    "from scipy.stats import normaltest\n",
    "\n",
    "import pingouin as pg\n",
    "\n",
    "import matplotlib.pyplot as plt\n",
    "\n",
    "from statannotations.Annotator import Annotator"
   ]
  },
  {
   "cell_type": "code",
   "execution_count": 4,
   "metadata": {},
   "outputs": [
    {
     "data": {
      "text/plain": [
       "'/scratch/user/s4436039/scdata/Python_Integration_Sep'"
      ]
     },
     "execution_count": 4,
     "metadata": {},
     "output_type": "execute_result"
    }
   ],
   "source": [
    "#show current directory \n",
    "os.getcwd()\n",
    "os.chdir('/scratch/user/s4436039/scdata/Python_Integration_Sep')\n",
    "os.getcwd()"
   ]
  },
  {
   "cell_type": "markdown",
   "metadata": {},
   "source": [
    "# Read in the data"
   ]
  },
  {
   "cell_type": "code",
   "execution_count": 5,
   "metadata": {},
   "outputs": [],
   "source": [
    "# read in data\n",
    "data = sc.read_h5ad('NRclean_clustered.h5ad')"
   ]
  },
  {
   "cell_type": "code",
   "execution_count": 6,
   "metadata": {},
   "outputs": [],
   "source": [
    "data_P = data[data.obs[\"sample_type_major2\"] == \"primary tumour\"]\n",
    "\n",
    "data_DC1 = data_P[data_P.obs[\"NR_annotations_simple\"] == \"cDC1\"]\n",
    "data_DC2 = data_P[data_P.obs[\"NR_annotations_simple\"] == \"cDC2\"]\n",
    "data_mregDC = data_P[data_P.obs[\"NR_annotations_simple\"] == \"mregDC\"]"
   ]
  },
  {
   "cell_type": "markdown",
   "metadata": {},
   "source": [
    "# Import KEGG sets"
   ]
  },
  {
   "cell_type": "code",
   "execution_count": 7,
   "metadata": {},
   "outputs": [],
   "source": [
    "os.chdir('/scratch/user/s4436039/scdata/Pathway-sets')\n",
    "K_sets = pd.read_excel(\"kegg_sets.xlsx\", sheet_name=None)\n",
    "os.chdir('/scratch/user/s4436039/scdata/Python_Integration_Sep')"
   ]
  },
  {
   "cell_type": "code",
   "execution_count": 8,
   "metadata": {},
   "outputs": [
    {
     "name": "stdout",
     "output_type": "stream",
     "text": [
      "dict_keys(['Sheet1', 'Sheet2', 'Sheet3', 'Sheet4', 'Sheet5', 'Sheet6', 'Sheet7', 'Sheet8', 'Sheet9', 'Sheet10', 'Sheet11', 'Sheet12', 'Sheet13', 'Sheet14', 'Sheet15', 'Sheet16', 'Sheet17', 'Sheet18', 'Sheet19', 'Sheet20', 'Sheet21', 'Sheet22', 'Sheet23', 'Sheet24', 'Sheet25', 'Sheet26', 'Sheet27', 'Sheet28', 'Sheet29', 'Sheet30', 'Sheet31', 'Sheet32', 'Sheet33', 'Sheet34', 'Sheet35', 'Sheet36', 'Sheet37', 'Sheet38', 'Sheet39', 'Sheet40', 'Sheet41', 'Sheet42', 'Sheet43', 'Sheet44', 'Sheet45', 'Sheet46', 'Sheet47', 'Sheet48', 'Sheet49', 'Sheet50', 'Sheet51', 'Sheet52', 'Sheet53', 'Sheet54', 'Sheet55', 'Sheet56', 'Sheet57', 'Sheet58', 'Sheet59', 'Sheet60', 'Sheet61', 'Sheet62', 'Sheet63', 'Sheet64', 'Sheet65', 'Sheet66', 'Sheet67', 'Sheet68', 'Sheet69', 'Sheet70', 'Sheet71', 'Sheet72', 'Sheet73', 'Sheet74', 'Sheet75', 'Sheet76', 'Sheet77', 'Sheet78', 'Sheet79', 'Sheet80', 'Sheet81', 'Sheet82', 'Sheet83', 'Sheet84', 'Sheet85', 'Sheet86', 'Sheet87', 'Sheet88', 'Sheet89', 'Sheet90', 'Sheet91', 'Sheet92', 'Sheet93', 'Sheet94', 'Sheet95', 'Sheet96', 'Sheet97', 'Sheet98', 'Sheet99', 'Sheet100', 'Sheet101', 'Sheet102', 'Sheet103', 'Sheet104', 'Sheet105', 'Sheet106', 'Sheet107', 'Sheet108', 'Sheet109', 'Sheet110', 'Sheet111', 'Sheet112', 'Sheet113', 'Sheet114', 'Sheet115', 'Sheet116', 'Sheet117', 'Sheet118', 'Sheet119', 'Sheet120', 'Sheet121', 'Sheet122', 'Sheet123', 'Sheet124', 'Sheet125', 'Sheet126', 'Sheet127', 'Sheet128', 'Sheet129', 'Sheet130', 'Sheet131', 'Sheet132', 'Sheet133', 'Sheet134', 'Sheet135', 'Sheet136', 'Sheet137', 'Sheet138', 'Sheet139', 'Sheet140', 'Sheet141', 'Sheet142', 'Sheet143', 'Sheet144', 'Sheet145', 'Sheet146', 'Sheet147', 'Sheet148', 'Sheet149', 'Sheet150', 'Sheet151', 'Sheet152', 'Sheet153', 'Sheet154', 'Sheet155', 'Sheet156', 'Sheet157', 'Sheet158', 'Sheet159', 'Sheet160', 'Sheet161', 'Sheet162', 'Sheet163', 'Sheet164', 'Sheet165', 'Sheet166', 'Sheet167', 'Sheet168', 'Sheet169', 'Sheet170', 'Sheet171', 'Sheet172', 'Sheet173', 'Sheet174', 'Sheet175', 'Sheet176', 'Sheet177', 'Sheet178', 'Sheet179', 'Sheet180', 'Sheet181', 'Sheet182', 'Sheet183', 'Sheet184', 'Sheet185', 'Sheet186'])\n"
     ]
    }
   ],
   "source": [
    "# Print the sheet names\n",
    "print(K_sets.keys())"
   ]
  },
  {
   "cell_type": "code",
   "execution_count": 9,
   "metadata": {},
   "outputs": [
    {
     "name": "stdout",
     "output_type": "stream",
     "text": [
      "dict_keys(['KEGG_ABC_TRANSPORTERS', 'KEGG_ACUTE_MYELOID_LEUKEMIA', 'KEGG_ADHERENS_JUNCTION', 'KEGG_ADIPOCYTOKINE_SIGNALING_PATHWAY', 'KEGG_ALANINE_ASPARTATE_AND_GLUTAMATE_METABOLISM', 'KEGG_ALDOSTERONE_REGULATED_SODIUM_REABSORPTION', 'KEGG_ALLOGRAFT_REJECTION', 'KEGG_ALPHA_LINOLENIC_ACID_METABOLISM', 'KEGG_ALZHEIMERS_DISEASE', 'KEGG_AMINO_SUGAR_AND_NUCLEOTIDE_SUGAR_METABOLISM', 'KEGG_AMINOACYL_TRNA_BIOSYNTHESIS', 'KEGG_AMYOTROPHIC_LATERAL_SCLEROSIS_ALS', 'KEGG_ANTIGEN_PROCESSING_AND_PRESENTATION', 'KEGG_APOPTOSIS', 'KEGG_ARACHIDONIC_ACID_METABOLISM', 'KEGG_ARGININE_AND_PROLINE_METABOLISM', 'KEGG_ARRHYTHMOGENIC_RIGHT_VENTRICULAR_CARDIOMYOPATHY_ARVC', 'KEGG_ASCORBATE_AND_ALDARATE_METABOLISM', 'KEGG_ASTHMA', 'KEGG_AUTOIMMUNE_THYROID_DISEASE', 'KEGG_AXON_GUIDANCE', 'KEGG_B_CELL_RECEPTOR_SIGNALING_PATHWAY', 'KEGG_BASAL_CELL_CARCINOMA', 'KEGG_BASAL_TRANSCRIPTION_FACTORS', 'KEGG_BASE_EXCISION_REPAIR', 'KEGG_BETA_ALANINE_METABOLISM', 'KEGG_BIOSYNTHESIS_OF_UNSATURATED_FATTY_ACIDS', 'KEGG_BLADDER_CANCER', 'KEGG_BUTANOATE_METABOLISM', 'KEGG_CALCIUM_SIGNALING_PATHWAY', 'KEGG_CARDIAC_MUSCLE_CONTRACTION', 'KEGG_CELL_ADHESION_MOLECULES_CAMS', 'KEGG_CELL_CYCLE', 'KEGG_CHEMOKINE_SIGNALING_PATHWAY', 'KEGG_CHRONIC_MYELOID_LEUKEMIA', 'KEGG_CIRCADIAN_RHYTHM_MAMMAL', 'KEGG_CITRATE_CYCLE_TCA_CYCLE', 'KEGG_COLORECTAL_CANCER', 'KEGG_COMPLEMENT_AND_COAGULATION_CASCADES', 'KEGG_CYSTEINE_AND_METHIONINE_METABOLISM', 'KEGG_CYTOKINE_CYTOKINE_RECEPTOR_INTERACTION', 'KEGG_CYTOSOLIC_DNA_SENSING_PATHWAY', 'KEGG_DILATED_CARDIOMYOPATHY', 'KEGG_DNA_REPLICATION', 'KEGG_DORSO_VENTRAL_AXIS_FORMATION', 'KEGG_DRUG_METABOLISM_CYTOCHROME_P450', 'KEGG_DRUG_METABOLISM_OTHER_ENZYMES', 'KEGG_ECM_RECEPTOR_INTERACTION', 'KEGG_ENDOCYTOSIS', 'KEGG_ENDOMETRIAL_CANCER', 'KEGG_EPITHELIAL_CELL_SIGNALING_IN_HELICOBACTER_PYLORI_INFECTION', 'KEGG_ERBB_SIGNALING_PATHWAY', 'KEGG_ETHER_LIPID_METABOLISM', 'KEGG_FATTY_ACID_METABOLISM', 'KEGG_FC_EPSILON_RI_SIGNALING_PATHWAY', 'KEGG_FC_GAMMA_R_MEDIATED_PHAGOCYTOSIS', 'KEGG_FOCAL_ADHESION', 'KEGG_FOLATE_BIOSYNTHESIS', 'KEGG_FRUCTOSE_AND_MANNOSE_METABOLISM', 'KEGG_GALACTOSE_METABOLISM', 'KEGG_GAP_JUNCTION', 'KEGG_GLIOMA', 'KEGG_GLUTATHIONE_METABOLISM', 'KEGG_GLYCEROLIPID_METABOLISM', 'KEGG_GLYCEROPHOSPHOLIPID_METABOLISM', 'KEGG_GLYCINE_SERINE_AND_THREONINE_METABOLISM', 'KEGG_GLYCOLYSIS_GLUCONEOGENESIS', 'KEGG_GLYCOSAMINOGLYCAN_BIOSYNTHESIS_CHONDROITIN_SULFATE', 'KEGG_GLYCOSAMINOGLYCAN_BIOSYNTHESIS_HEPARAN_SULFATE', 'KEGG_GLYCOSAMINOGLYCAN_BIOSYNTHESIS_KERATAN_SULFATE', 'KEGG_GLYCOSAMINOGLYCAN_DEGRADATION', 'KEGG_GLYCOSPHINGOLIPID_BIOSYNTHESIS_GANGLIO_SERIES', 'KEGG_GLYCOSPHINGOLIPID_BIOSYNTHESIS_GLOBO_SERIES', 'KEGG_GLYCOSPHINGOLIPID_BIOSYNTHESIS_LACTO_AND_NEOLACTO_SERIES', 'KEGG_GLYCOSYLPHOSPHATIDYLINOSITOL_GPI_ANCHOR_BIOSYNTHESIS', 'KEGG_GLYOXYLATE_AND_DICARBOXYLATE_METABOLISM', 'KEGG_GNRH_SIGNALING_PATHWAY', 'KEGG_GRAFT_VERSUS_HOST_DISEASE', 'KEGG_HEDGEHOG_SIGNALING_PATHWAY', 'KEGG_HEMATOPOIETIC_CELL_LINEAGE', 'KEGG_HISTIDINE_METABOLISM', 'KEGG_HOMOLOGOUS_RECOMBINATION', 'KEGG_HUNTINGTONS_DISEASE', 'KEGG_HYPERTROPHIC_CARDIOMYOPATHY_HCM', 'KEGG_INOSITOL_PHOSPHATE_METABOLISM', 'KEGG_INSULIN_SIGNALING_PATHWAY', 'KEGG_INTESTINAL_IMMUNE_NETWORK_FOR_IGA_PRODUCTION', 'KEGG_JAK_STAT_SIGNALING_PATHWAY', 'KEGG_LEISHMANIA_INFECTION', 'KEGG_LEUKOCYTE_TRANSENDOTHELIAL_MIGRATION', 'KEGG_LIMONENE_AND_PINENE_DEGRADATION', 'KEGG_LINOLEIC_ACID_METABOLISM', 'KEGG_LONG_TERM_DEPRESSION', 'KEGG_LONG_TERM_POTENTIATION', 'KEGG_LYSINE_DEGRADATION', 'KEGG_LYSOSOME', 'KEGG_MAPK_SIGNALING_PATHWAY', 'KEGG_MATURITY_ONSET_DIABETES_OF_THE_YOUNG', 'KEGG_MELANOGENESIS', 'KEGG_MELANOMA', 'KEGG_METABOLISM_OF_XENOBIOTICS_BY_CYTOCHROME_P450', 'KEGG_MISMATCH_REPAIR', 'KEGG_MTOR_SIGNALING_PATHWAY', 'KEGG_N_GLYCAN_BIOSYNTHESIS', 'KEGG_NATURAL_KILLER_CELL_MEDIATED_CYTOTOXICITY', 'KEGG_NEUROACTIVE_LIGAND_RECEPTOR_INTERACTION', 'KEGG_NEUROTROPHIN_SIGNALING_PATHWAY', 'KEGG_NICOTINATE_AND_NICOTINAMIDE_METABOLISM', 'KEGG_NITROGEN_METABOLISM', 'KEGG_NOD_LIKE_RECEPTOR_SIGNALING_PATHWAY', 'KEGG_NON_HOMOLOGOUS_END_JOINING', 'KEGG_NON_SMALL_CELL_LUNG_CANCER', 'KEGG_NOTCH_SIGNALING_PATHWAY', 'KEGG_NUCLEOTIDE_EXCISION_REPAIR', 'KEGG_O_GLYCAN_BIOSYNTHESIS', 'KEGG_OLFACTORY_TRANSDUCTION', 'KEGG_ONE_CARBON_POOL_BY_FOLATE', 'KEGG_OOCYTE_MEIOSIS', 'KEGG_OTHER_GLYCAN_DEGRADATION', 'KEGG_OXIDATIVE_PHOSPHORYLATION', 'KEGG_P53_SIGNALING_PATHWAY', 'KEGG_PANCREATIC_CANCER', 'KEGG_PANTOTHENATE_AND_COA_BIOSYNTHESIS', 'KEGG_PARKINSONS_DISEASE', 'KEGG_PATHOGENIC_ESCHERICHIA_COLI_INFECTION', 'KEGG_PATHWAYS_IN_CANCER', 'KEGG_PENTOSE_AND_GLUCURONATE_INTERCONVERSIONS', 'KEGG_PENTOSE_PHOSPHATE_PATHWAY', 'KEGG_PEROXISOME', 'KEGG_PHENYLALANINE_METABOLISM', 'KEGG_PHOSPHATIDYLINOSITOL_SIGNALING_SYSTEM', 'KEGG_PORPHYRIN_AND_CHLOROPHYLL_METABOLISM', 'KEGG_PPAR_SIGNALING_PATHWAY', 'KEGG_PRIMARY_BILE_ACID_BIOSYNTHESIS', 'KEGG_PRIMARY_IMMUNODEFICIENCY', 'KEGG_PRION_DISEASES', 'KEGG_PROGESTERONE_MEDIATED_OOCYTE_MATURATION', 'KEGG_PROPANOATE_METABOLISM', 'KEGG_PROSTATE_CANCER', 'KEGG_PROTEASOME', 'KEGG_PROTEIN_EXPORT', 'KEGG_PROXIMAL_TUBULE_BICARBONATE_RECLAMATION', 'KEGG_PURINE_METABOLISM', 'KEGG_PYRIMIDINE_METABOLISM', 'KEGG_PYRUVATE_METABOLISM', 'KEGG_REGULATION_OF_ACTIN_CYTOSKELETON', 'KEGG_REGULATION_OF_AUTOPHAGY', 'KEGG_RENAL_CELL_CARCINOMA', 'KEGG_RENIN_ANGIOTENSIN_SYSTEM', 'KEGG_RETINOL_METABOLISM', 'KEGG_RIBOFLAVIN_METABOLISM', 'KEGG_RIBOSOME', 'KEGG_RIG_I_LIKE_RECEPTOR_SIGNALING_PATHWAY', 'KEGG_RNA_DEGRADATION', 'KEGG_RNA_POLYMERASE', 'KEGG_SELENOAMINO_ACID_METABOLISM', 'KEGG_SMALL_CELL_LUNG_CANCER', 'KEGG_SNARE_INTERACTIONS_IN_VESICULAR_TRANSPORT', 'KEGG_SPHINGOLIPID_METABOLISM', 'KEGG_SPLICEOSOME', 'KEGG_STARCH_AND_SUCROSE_METABOLISM', 'KEGG_STEROID_BIOSYNTHESIS', 'KEGG_STEROID_HORMONE_BIOSYNTHESIS', 'KEGG_SULFUR_METABOLISM', 'KEGG_SYSTEMIC_LUPUS_ERYTHEMATOSUS', 'KEGG_T_CELL_RECEPTOR_SIGNALING_PATHWAY', 'KEGG_TASTE_TRANSDUCTION', 'KEGG_TAURINE_AND_HYPOTAURINE_METABOLISM', 'KEGG_TERPENOID_BACKBONE_BIOSYNTHESIS', 'KEGG_TGF_BETA_SIGNALING_PATHWAY', 'KEGG_THYROID_CANCER', 'KEGG_TIGHT_JUNCTION', 'KEGG_TOLL_LIKE_RECEPTOR_SIGNALING_PATHWAY', 'KEGG_TRYPTOPHAN_METABOLISM', 'KEGG_TYPE_I_DIABETES_MELLITUS', 'KEGG_TYPE_II_DIABETES_MELLITUS', 'KEGG_TYROSINE_METABOLISM', 'KEGG_UBIQUITIN_MEDIATED_PROTEOLYSIS', 'KEGG_VALINE_LEUCINE_AND_ISOLEUCINE_BIOSYNTHESIS', 'KEGG_VALINE_LEUCINE_AND_ISOLEUCINE_DEGRADATION', 'KEGG_VASCULAR_SMOOTH_MUSCLE_CONTRACTION', 'KEGG_VASOPRESSIN_REGULATED_WATER_REABSORPTION', 'KEGG_VEGF_SIGNALING_PATHWAY', 'KEGG_VIBRIO_CHOLERAE_INFECTION', 'KEGG_VIRAL_MYOCARDITIS', 'KEGG_WNT_SIGNALING_PATHWAY'])\n"
     ]
    }
   ],
   "source": [
    "# Change keys to be gene set name (the first value in the 'gs_name' column) instead of Sheet1 etc \n",
    "K_sets2 = {df[\"gs_name\"].iloc[0]: df for _, df in K_sets.items()}\n",
    "K_sets = K_sets2\n",
    "\n",
    "# Result\n",
    "print(K_sets.keys())"
   ]
  },
  {
   "cell_type": "code",
   "execution_count": 10,
   "metadata": {},
   "outputs": [],
   "source": [
    "# Keys to include in new dictionary\n",
    "keys_include = [\"KEGG_ADIPOCYTOKINE_SIGNALING_PATHWAY\",\n",
    "\"KEGG_ANTIGEN_PROCESSING_AND_PRESENTATION\",\n",
    "\"KEGG_APOPTOSIS\",\n",
    "\"KEGG_CALCIUM_SIGNALING_PATHWAY\",\n",
    "\"KEGG_CELL_ADHESION_MOLECULES_CAMS\",\n",
    "\"KEGG_CHEMOKINE_SIGNALING_PATHWAY\",\n",
    "\"KEGG_CYTOKINE_CYTOKINE_RECEPTOR_INTERACTION\",\n",
    "\"KEGG_CYTOSOLIC_DNA_SENSING_PATHWAY\",\n",
    "\"KEGG_ENDOCYTOSIS\",\n",
    "\"KEGG_FATTY_ACID_METABOLISM\",\n",
    "\"KEGG_FC_GAMMA_R_MEDIATED_PHAGOCYTOSIS\",\n",
    "\"KEGG_GLYCOLYSIS_GLUCONEOGENESIS\",\n",
    "\"KEGG_JAK_STAT_SIGNALING_PATHWAY\",\n",
    "\"KEGG_MAPK_SIGNALING_PATHWAY\",\n",
    "\"KEGG_NOD_LIKE_RECEPTOR_SIGNALING_PATHWAY\",\n",
    "\"KEGG_NOTCH_SIGNALING_PATHWAY\",\n",
    "\"KEGG_OXIDATIVE_PHOSPHORYLATION\",\n",
    "\"KEGG_PROTEASOME\",\n",
    "\"KEGG_PROTEIN_EXPORT\",\n",
    "\"KEGG_TGF_BETA_SIGNALING_PATHWAY\",\n",
    "\"KEGG_TOLL_LIKE_RECEPTOR_SIGNALING_PATHWAY\",\n",
    "\"KEGG_TYROSINE_METABOLISM\",\n",
    "\"KEGG_UBIQUITIN_MEDIATED_PROTEOLYSIS\",\n",
    "\"KEGG_VEGF_SIGNALING_PATHWAY\"]"
   ]
  },
  {
   "cell_type": "code",
   "execution_count": 13,
   "metadata": {},
   "outputs": [],
   "source": [
    "# create a new dictionary with select keys (pathway sets)\n",
    "K_sets_sub = {key: K_sets[key] for key in keys_include if key in K_sets}"
   ]
  },
  {
   "cell_type": "code",
   "execution_count": 12,
   "metadata": {},
   "outputs": [
    {
     "name": "stdout",
     "output_type": "stream",
     "text": [
      "dict_keys(['KEGG_ADIPOCYTOKINE_SIGNALING_PATHWAY', 'KEGG_ANTIGEN_PROCESSING_AND_PRESENTATION', 'KEGG_APOPTOSIS', 'KEGG_CALCIUM_SIGNALING_PATHWAY', 'KEGG_CELL_ADHESION_MOLECULES_CAMS', 'KEGG_CHEMOKINE_SIGNALING_PATHWAY', 'KEGG_CYTOKINE_CYTOKINE_RECEPTOR_INTERACTION', 'KEGG_CYTOSOLIC_DNA_SENSING_PATHWAY', 'KEGG_ENDOCYTOSIS', 'KEGG_FATTY_ACID_METABOLISM', 'KEGG_FC_GAMMA_R_MEDIATED_PHAGOCYTOSIS', 'KEGG_GLYCOLYSIS_GLUCONEOGENESIS', 'KEGG_JAK_STAT_SIGNALING_PATHWAY', 'KEGG_MAPK_SIGNALING_PATHWAY', 'KEGG_NOD_LIKE_RECEPTOR_SIGNALING_PATHWAY', 'KEGG_NOTCH_SIGNALING_PATHWAY', 'KEGG_OXIDATIVE_PHOSPHORYLATION', 'KEGG_PROTEASOME', 'KEGG_PROTEIN_EXPORT', 'KEGG_TGF_BETA_SIGNALING_PATHWAY', 'KEGG_TOLL_LIKE_RECEPTOR_SIGNALING_PATHWAY', 'KEGG_TYROSINE_METABOLISM', 'KEGG_UBIQUITIN_MEDIATED_PROTEOLYSIS', 'KEGG_VEGF_SIGNALING_PATHWAY'])\n"
     ]
    }
   ],
   "source": [
    "print(K_sets_sub.keys())"
   ]
  },
  {
   "cell_type": "code",
   "execution_count": 14,
   "metadata": {},
   "outputs": [],
   "source": [
    "adipocytokine_df = K_sets_sub[\"KEGG_ADIPOCYTOKINE_SIGNALING_PATHWAY\"]\n",
    "adipocytokine_genes = adipocytokine_df[\"human_gene_symbol\"]\n",
    "adipocytokine_list = adipocytokine_genes.tolist()"
   ]
  },
  {
   "cell_type": "code",
   "execution_count": 15,
   "metadata": {},
   "outputs": [
    {
     "name": "stdout",
     "output_type": "stream",
     "text": [
      "WARNING: genes are not in var_names and ignored: Index(['ADIPOQ', 'AGRP', 'G6PC1', 'G6PC2', 'IRS4', 'LEP', 'NPY', 'PCK1',\n",
      "       'PRKAG3'],\n",
      "      dtype='object')\n",
      "WARNING: genes are not in var_names and ignored: Index(['ADIPOQ', 'AGRP', 'G6PC1', 'G6PC2', 'IRS4', 'LEP', 'NPY', 'PCK1',\n",
      "       'PRKAG3'],\n",
      "      dtype='object')\n"
     ]
    },
    {
     "name": "stderr",
     "output_type": "stream",
     "text": [
      "/home/s4436039/miniforge3/envs/env/lib/python3.12/site-packages/scanpy/tools/_score_genes.py:176: ImplicitModificationWarning: Trying to modify attribute `.obs` of view, initializing view as actual.\n",
      "  adata.obs[score_name] = pd.Series(\n"
     ]
    },
    {
     "name": "stdout",
     "output_type": "stream",
     "text": [
      "WARNING: genes are not in var_names and ignored: Index(['ADIPOQ', 'AGRP', 'G6PC1', 'G6PC2', 'IRS4', 'LEP', 'NPY', 'PCK1',\n",
      "       'PRKAG3'],\n",
      "      dtype='object')\n"
     ]
    },
    {
     "name": "stderr",
     "output_type": "stream",
     "text": [
      "/home/s4436039/miniforge3/envs/env/lib/python3.12/site-packages/scanpy/tools/_score_genes.py:176: ImplicitModificationWarning: Trying to modify attribute `.obs` of view, initializing view as actual.\n",
      "  adata.obs[score_name] = pd.Series(\n",
      "/home/s4436039/miniforge3/envs/env/lib/python3.12/site-packages/scanpy/tools/_score_genes.py:176: ImplicitModificationWarning: Trying to modify attribute `.obs` of view, initializing view as actual.\n",
      "  adata.obs[score_name] = pd.Series(\n"
     ]
    }
   ],
   "source": [
    "#score DC for gene set:\n",
    "sc.tl.score_genes(data_DC1, gene_list=adipocytokine_list, score_name=f\"adipocytokine_score\")\n",
    "sc.tl.score_genes(data_DC2, gene_list=adipocytokine_list, score_name=f\"adipocytokine_score\")\n",
    "sc.tl.score_genes(data_mregDC, gene_list=adipocytokine_list, score_name=f\"adipocytokine_score\")"
   ]
  },
  {
   "cell_type": "code",
   "execution_count": null,
   "metadata": {},
   "outputs": [],
   "source": [
    "score_column = \"adipocytokine_score\""
   ]
  },
  {
   "cell_type": "code",
   "execution_count": 151,
   "metadata": {},
   "outputs": [],
   "source": [
    "custom_order = ['HGSOC','Acral Melanoma','Breast Cancer','CRC','GAC','GBM','HCC','HNSCC','Melanoma','NPC','NSCLC','PDAC','iCCA']"
   ]
  },
  {
   "cell_type": "markdown",
   "metadata": {},
   "source": [
    "## generate scores and export to excel for prism"
   ]
  },
  {
   "cell_type": "markdown",
   "metadata": {},
   "source": [
    "### DC1"
   ]
  },
  {
   "cell_type": "code",
   "execution_count": null,
   "metadata": {},
   "outputs": [
    {
     "name": "stderr",
     "output_type": "stream",
     "text": [
      "/scratch/temp/11894104/ipykernel_2945541/1118147617.py:2: FutureWarning: The default of observed=False is deprecated and will be changed to True in a future version of pandas. Pass observed=False to retain current behavior or observed=True to adopt the future default and silence this warning.\n",
      "  score_DC1 = data_DC1.obs.groupby(\"integration_id\")[score_column].mean().reset_index()\n",
      "/scratch/temp/11894104/ipykernel_2945541/1118147617.py:12: FutureWarning: The default of observed=False is deprecated and will be changed to True in a future version of pandas. Pass observed=False to retain current behavior or observed=True to adopt the future default and silence this warning.\n",
      "  score_DC1['replicate'] = score_DC1.groupby('cancer_type_broad').cumcount()\n"
     ]
    },
    {
     "data": {
      "text/plain": [
       "(13, 96)"
      ]
     },
     "execution_count": 146,
     "metadata": {},
     "output_type": "execute_result"
    }
   ],
   "source": [
    "# Group by 'integration_id' and calculate the mean score for each group\n",
    "score_DC1 = data_DC1.obs.groupby(\"integration_id\")[score_column].mean().reset_index()\n",
    "\n",
    "# Merge with 'cancer_type_broad' by matching the 'integration_id'\n",
    "score_DC1 = score_DC1.merge(\n",
    "    data_DC1.obs[[\"integration_id\", \"cancer_type_broad\", \"NR_annotations_simple\"]].drop_duplicates(),\n",
    "    on=\"integration_id\",\n",
    "    how=\"left\"\n",
    ")\n",
    "\n",
    "# convert to layout for prism (cancer types as rows with replicates as columns)\n",
    "score_DC1['replicate'] = score_DC1.groupby('cancer_type_broad').cumcount()\n",
    "pivoted_df_DC1 = score_DC1.pivot(index='cancer_type_broad', columns='replicate', values='adipocytokine_score')\n",
    "# Reindex the rows based on custom order\n",
    "pivoted_df_DC1 = pivoted_df_DC1.reindex(custom_order)\n",
    "pivoted_df_DC1.shape"
   ]
  },
  {
   "cell_type": "markdown",
   "metadata": {},
   "source": [
    "### DC2:"
   ]
  },
  {
   "cell_type": "code",
   "execution_count": null,
   "metadata": {},
   "outputs": [
    {
     "name": "stderr",
     "output_type": "stream",
     "text": [
      "/scratch/temp/11894104/ipykernel_2945541/1451442245.py:2: FutureWarning: The default of observed=False is deprecated and will be changed to True in a future version of pandas. Pass observed=False to retain current behavior or observed=True to adopt the future default and silence this warning.\n",
      "  score_DC2 = data_DC2.obs.groupby(\"integration_id\")[score_column].mean().reset_index()\n",
      "/scratch/temp/11894104/ipykernel_2945541/1451442245.py:12: FutureWarning: The default of observed=False is deprecated and will be changed to True in a future version of pandas. Pass observed=False to retain current behavior or observed=True to adopt the future default and silence this warning.\n",
      "  score_DC2['replicate'] = score_DC2.groupby('cancer_type_broad').cumcount()\n"
     ]
    },
    {
     "data": {
      "text/plain": [
       "(13, 98)"
      ]
     },
     "execution_count": 147,
     "metadata": {},
     "output_type": "execute_result"
    }
   ],
   "source": [
    "# Group by 'integration_id' and calculate the mean score for each group\n",
    "score_DC2 = data_DC2.obs.groupby(\"integration_id\")[score_column].mean().reset_index()\n",
    "\n",
    "# Merge with 'cancer_type_broad' by matching the 'integration_id'\n",
    "score_DC2 = score_DC2.merge(\n",
    "    data_DC2.obs[[\"integration_id\", \"cancer_type_broad\", \"NR_annotations_simple\"]].drop_duplicates(),\n",
    "    on=\"integration_id\",\n",
    "    how=\"left\"\n",
    ")\n",
    "\n",
    "# convert to layout for prism (cancer types as rows with replicates as columns)\n",
    "score_DC2['replicate'] = score_DC2.groupby('cancer_type_broad').cumcount()\n",
    "pivoted_df_DC2 = score_DC2.pivot(index='cancer_type_broad', columns='replicate', values='adipocytokine_score')\n",
    "# Reindex the rows based on custom order\n",
    "pivoted_df_DC2 = pivoted_df_DC2.reindex(custom_order)\n",
    "pivoted_df_DC2.shape"
   ]
  },
  {
   "cell_type": "markdown",
   "metadata": {},
   "source": [
    "### mregDC:"
   ]
  },
  {
   "cell_type": "code",
   "execution_count": null,
   "metadata": {},
   "outputs": [
    {
     "name": "stderr",
     "output_type": "stream",
     "text": [
      "/scratch/temp/11894104/ipykernel_2945541/3433637666.py:2: FutureWarning: The default of observed=False is deprecated and will be changed to True in a future version of pandas. Pass observed=False to retain current behavior or observed=True to adopt the future default and silence this warning.\n",
      "  score_mregDC = data_mregDC.obs.groupby(\"integration_id\")[score_column].mean().reset_index()\n",
      "/scratch/temp/11894104/ipykernel_2945541/3433637666.py:12: FutureWarning: The default of observed=False is deprecated and will be changed to True in a future version of pandas. Pass observed=False to retain current behavior or observed=True to adopt the future default and silence this warning.\n",
      "  score_mregDC['replicate'] = score_mregDC.groupby('cancer_type_broad').cumcount()\n"
     ]
    },
    {
     "data": {
      "text/plain": [
       "(13, 97)"
      ]
     },
     "execution_count": 148,
     "metadata": {},
     "output_type": "execute_result"
    }
   ],
   "source": [
    "# Group by 'integration_id' and calculate the mean score for each group\n",
    "score_mregDC = data_mregDC.obs.groupby(\"integration_id\")[score_column].mean().reset_index()\n",
    "\n",
    "# Merge with 'cancer_type_broad' by matching the 'integration_id'\n",
    "score_mregDC = score_mregDC.merge(\n",
    "    data_mregDC.obs[[\"integration_id\", \"cancer_type_broad\", \"NR_annotations_simple\"]].drop_duplicates(),\n",
    "    on=\"integration_id\",\n",
    "    how=\"left\"\n",
    ")\n",
    "\n",
    "# convert to layout for prism (cancer types as rows with replicates as columns)\n",
    "score_mregDC['replicate'] = score_mregDC.groupby('cancer_type_broad').cumcount()\n",
    "pivoted_df_mregDC = score_mregDC.pivot(index='cancer_type_broad', columns='replicate', values='adipocytokine_score')\n",
    "# Reindex the rows based on custom order\n",
    "pivoted_df_mregDC = pivoted_df_mregDC.reindex(custom_order)\n",
    "pivoted_df_mregDC.shape"
   ]
  },
  {
   "cell_type": "markdown",
   "metadata": {},
   "source": [
    "### Export to excel"
   ]
  },
  {
   "cell_type": "code",
   "execution_count": 139,
   "metadata": {},
   "outputs": [],
   "source": [
    "with pd.ExcelWriter('Adipocytokine.xlsx') as writer:\n",
    "    pivoted_df_DC1.to_excel(writer, sheet_name='DC1')\n",
    "    pivoted_df_DC2.to_excel(writer, sheet_name='DC2')\n",
    "    pivoted_df_mregDC.to_excel(writer, sheet_name='mregDC')"
   ]
  },
  {
   "cell_type": "markdown",
   "metadata": {},
   "source": [
    "# Normality test\n",
    "* based on D'Agostino and Pearson's test\n",
    "* if normal: do one-way anova and Tukeys multiple comparisons\n",
    "* if not normal: do Kruskal-Wallis with Dunn's test for multiple comparisons"
   ]
  },
  {
   "cell_type": "code",
   "execution_count": null,
   "metadata": {},
   "outputs": [
    {
     "name": "stdout",
     "output_type": "stream",
     "text": [
      "Adipocytokine:  5.943422902767891e-28\n"
     ]
    }
   ],
   "source": [
    "print(\"Adipocytokine: \", normaltest(sample_scores_df[\"adipocytokine_score\"]).pvalue)"
   ]
  },
  {
   "cell_type": "code",
   "execution_count": null,
   "metadata": {},
   "outputs": [
    {
     "name": "stdout",
     "output_type": "stream",
     "text": [
      "                            W          pval  normal\n",
      "adipocytokine_score  0.900184  5.405815e-14   False\n"
     ]
    }
   ],
   "source": [
    "print(pg.normality(sample_scores_df))"
   ]
  },
  {
   "cell_type": "markdown",
   "metadata": {},
   "source": [
    "# Kruskal Wallis test with Dunn's Test"
   ]
  },
  {
   "cell_type": "code",
   "execution_count": 32,
   "metadata": {},
   "outputs": [
    {
     "name": "stdout",
     "output_type": "stream",
     "text": [
      "Kruskal-Wallis Test Results:\n",
      "                    Source  ddof1          H     p-unc\n",
      "Kruskal  cancer_type_broad     12  38.043434  0.000151\n"
     ]
    }
   ],
   "source": [
    "# Perform Kruskal-Wallis test\n",
    "kruskal_results = pg.kruskal(data=sample_scores_df, dv='adipocytokine_score', between='cancer_type_broad')\n",
    "\n",
    "print(\"Kruskal-Wallis Test Results:\")\n",
    "print(kruskal_results)"
   ]
  },
  {
   "cell_type": "code",
   "execution_count": 40,
   "metadata": {},
   "outputs": [],
   "source": [
    "import scikit_posthocs as sp"
   ]
  },
  {
   "cell_type": "code",
   "execution_count": 105,
   "metadata": {},
   "outputs": [
    {
     "name": "stderr",
     "output_type": "stream",
     "text": [
      "/home/s4436039/miniforge3/envs/env/lib/python3.12/site-packages/scikit_posthocs/_posthocs.py:368: FutureWarning: The default of observed=False is deprecated and will be changed to True in a future version of pandas. Pass observed=False to retain current behavior or observed=True to adopt the future default and silence this warning.\n",
      "  x_lens = x.groupby(_group_col)[_val_col].count()\n",
      "/home/s4436039/miniforge3/envs/env/lib/python3.12/site-packages/scikit_posthocs/_posthocs.py:371: FutureWarning: The default of observed=False is deprecated and will be changed to True in a future version of pandas. Pass observed=False to retain current behavior or observed=True to adopt the future default and silence this warning.\n",
      "  x_ranks_avg = x.groupby(_group_col)[\"ranks\"].mean()\n"
     ]
    },
    {
     "data": {
      "text/html": [
       "<div>\n",
       "<style scoped>\n",
       "    .dataframe tbody tr th:only-of-type {\n",
       "        vertical-align: middle;\n",
       "    }\n",
       "\n",
       "    .dataframe tbody tr th {\n",
       "        vertical-align: top;\n",
       "    }\n",
       "\n",
       "    .dataframe thead th {\n",
       "        text-align: right;\n",
       "    }\n",
       "</style>\n",
       "<table border=\"1\" class=\"dataframe\">\n",
       "  <thead>\n",
       "    <tr style=\"text-align: right;\">\n",
       "      <th></th>\n",
       "      <th>Acral Melanoma</th>\n",
       "      <th>Breast Cancer</th>\n",
       "      <th>CRC</th>\n",
       "      <th>GAC</th>\n",
       "      <th>GBM</th>\n",
       "      <th>HCC</th>\n",
       "      <th>HGSOC</th>\n",
       "      <th>HNSCC</th>\n",
       "      <th>Melanoma</th>\n",
       "      <th>NPC</th>\n",
       "      <th>NSCLC</th>\n",
       "      <th>PDAC</th>\n",
       "      <th>iCCA</th>\n",
       "    </tr>\n",
       "  </thead>\n",
       "  <tbody>\n",
       "    <tr>\n",
       "      <th>Acral Melanoma</th>\n",
       "      <td>1.000000</td>\n",
       "      <td>0.173743</td>\n",
       "      <td>0.098648</td>\n",
       "      <td>1.0</td>\n",
       "      <td>1.000000</td>\n",
       "      <td>0.117243</td>\n",
       "      <td>0.388805</td>\n",
       "      <td>0.933343</td>\n",
       "      <td>1.0</td>\n",
       "      <td>1.0</td>\n",
       "      <td>0.177358</td>\n",
       "      <td>0.162958</td>\n",
       "      <td>1.0</td>\n",
       "    </tr>\n",
       "    <tr>\n",
       "      <th>Breast Cancer</th>\n",
       "      <td>0.173743</td>\n",
       "      <td>1.000000</td>\n",
       "      <td>1.000000</td>\n",
       "      <td>1.0</td>\n",
       "      <td>0.004503</td>\n",
       "      <td>1.000000</td>\n",
       "      <td>1.000000</td>\n",
       "      <td>1.000000</td>\n",
       "      <td>1.0</td>\n",
       "      <td>1.0</td>\n",
       "      <td>1.000000</td>\n",
       "      <td>1.000000</td>\n",
       "      <td>1.0</td>\n",
       "    </tr>\n",
       "    <tr>\n",
       "      <th>CRC</th>\n",
       "      <td>0.098648</td>\n",
       "      <td>1.000000</td>\n",
       "      <td>1.000000</td>\n",
       "      <td>1.0</td>\n",
       "      <td>0.062749</td>\n",
       "      <td>1.000000</td>\n",
       "      <td>1.000000</td>\n",
       "      <td>1.000000</td>\n",
       "      <td>1.0</td>\n",
       "      <td>1.0</td>\n",
       "      <td>1.000000</td>\n",
       "      <td>1.000000</td>\n",
       "      <td>1.0</td>\n",
       "    </tr>\n",
       "    <tr>\n",
       "      <th>GAC</th>\n",
       "      <td>1.000000</td>\n",
       "      <td>1.000000</td>\n",
       "      <td>1.000000</td>\n",
       "      <td>1.0</td>\n",
       "      <td>1.000000</td>\n",
       "      <td>1.000000</td>\n",
       "      <td>1.000000</td>\n",
       "      <td>1.000000</td>\n",
       "      <td>1.0</td>\n",
       "      <td>1.0</td>\n",
       "      <td>1.000000</td>\n",
       "      <td>1.000000</td>\n",
       "      <td>1.0</td>\n",
       "    </tr>\n",
       "    <tr>\n",
       "      <th>GBM</th>\n",
       "      <td>1.000000</td>\n",
       "      <td>0.004503</td>\n",
       "      <td>0.062749</td>\n",
       "      <td>1.0</td>\n",
       "      <td>1.000000</td>\n",
       "      <td>0.099816</td>\n",
       "      <td>0.031235</td>\n",
       "      <td>0.205738</td>\n",
       "      <td>1.0</td>\n",
       "      <td>1.0</td>\n",
       "      <td>0.006853</td>\n",
       "      <td>0.092996</td>\n",
       "      <td>1.0</td>\n",
       "    </tr>\n",
       "    <tr>\n",
       "      <th>HCC</th>\n",
       "      <td>0.117243</td>\n",
       "      <td>1.000000</td>\n",
       "      <td>1.000000</td>\n",
       "      <td>1.0</td>\n",
       "      <td>0.099816</td>\n",
       "      <td>1.000000</td>\n",
       "      <td>1.000000</td>\n",
       "      <td>1.000000</td>\n",
       "      <td>1.0</td>\n",
       "      <td>1.0</td>\n",
       "      <td>1.000000</td>\n",
       "      <td>1.000000</td>\n",
       "      <td>1.0</td>\n",
       "    </tr>\n",
       "    <tr>\n",
       "      <th>HGSOC</th>\n",
       "      <td>0.388805</td>\n",
       "      <td>1.000000</td>\n",
       "      <td>1.000000</td>\n",
       "      <td>1.0</td>\n",
       "      <td>0.031235</td>\n",
       "      <td>1.000000</td>\n",
       "      <td>1.000000</td>\n",
       "      <td>1.000000</td>\n",
       "      <td>1.0</td>\n",
       "      <td>1.0</td>\n",
       "      <td>1.000000</td>\n",
       "      <td>1.000000</td>\n",
       "      <td>1.0</td>\n",
       "    </tr>\n",
       "    <tr>\n",
       "      <th>HNSCC</th>\n",
       "      <td>0.933343</td>\n",
       "      <td>1.000000</td>\n",
       "      <td>1.000000</td>\n",
       "      <td>1.0</td>\n",
       "      <td>0.205738</td>\n",
       "      <td>1.000000</td>\n",
       "      <td>1.000000</td>\n",
       "      <td>1.000000</td>\n",
       "      <td>1.0</td>\n",
       "      <td>1.0</td>\n",
       "      <td>1.000000</td>\n",
       "      <td>1.000000</td>\n",
       "      <td>1.0</td>\n",
       "    </tr>\n",
       "    <tr>\n",
       "      <th>Melanoma</th>\n",
       "      <td>1.000000</td>\n",
       "      <td>1.000000</td>\n",
       "      <td>1.000000</td>\n",
       "      <td>1.0</td>\n",
       "      <td>1.000000</td>\n",
       "      <td>1.000000</td>\n",
       "      <td>1.000000</td>\n",
       "      <td>1.000000</td>\n",
       "      <td>1.0</td>\n",
       "      <td>1.0</td>\n",
       "      <td>1.000000</td>\n",
       "      <td>1.000000</td>\n",
       "      <td>1.0</td>\n",
       "    </tr>\n",
       "    <tr>\n",
       "      <th>NPC</th>\n",
       "      <td>1.000000</td>\n",
       "      <td>1.000000</td>\n",
       "      <td>1.000000</td>\n",
       "      <td>1.0</td>\n",
       "      <td>1.000000</td>\n",
       "      <td>1.000000</td>\n",
       "      <td>1.000000</td>\n",
       "      <td>1.000000</td>\n",
       "      <td>1.0</td>\n",
       "      <td>1.0</td>\n",
       "      <td>1.000000</td>\n",
       "      <td>1.000000</td>\n",
       "      <td>1.0</td>\n",
       "    </tr>\n",
       "    <tr>\n",
       "      <th>NSCLC</th>\n",
       "      <td>0.177358</td>\n",
       "      <td>1.000000</td>\n",
       "      <td>1.000000</td>\n",
       "      <td>1.0</td>\n",
       "      <td>0.006853</td>\n",
       "      <td>1.000000</td>\n",
       "      <td>1.000000</td>\n",
       "      <td>1.000000</td>\n",
       "      <td>1.0</td>\n",
       "      <td>1.0</td>\n",
       "      <td>1.000000</td>\n",
       "      <td>1.000000</td>\n",
       "      <td>1.0</td>\n",
       "    </tr>\n",
       "    <tr>\n",
       "      <th>PDAC</th>\n",
       "      <td>0.162958</td>\n",
       "      <td>1.000000</td>\n",
       "      <td>1.000000</td>\n",
       "      <td>1.0</td>\n",
       "      <td>0.092996</td>\n",
       "      <td>1.000000</td>\n",
       "      <td>1.000000</td>\n",
       "      <td>1.000000</td>\n",
       "      <td>1.0</td>\n",
       "      <td>1.0</td>\n",
       "      <td>1.000000</td>\n",
       "      <td>1.000000</td>\n",
       "      <td>1.0</td>\n",
       "    </tr>\n",
       "    <tr>\n",
       "      <th>iCCA</th>\n",
       "      <td>1.000000</td>\n",
       "      <td>1.000000</td>\n",
       "      <td>1.000000</td>\n",
       "      <td>1.0</td>\n",
       "      <td>1.000000</td>\n",
       "      <td>1.000000</td>\n",
       "      <td>1.000000</td>\n",
       "      <td>1.000000</td>\n",
       "      <td>1.0</td>\n",
       "      <td>1.0</td>\n",
       "      <td>1.000000</td>\n",
       "      <td>1.000000</td>\n",
       "      <td>1.0</td>\n",
       "    </tr>\n",
       "  </tbody>\n",
       "</table>\n",
       "</div>"
      ],
      "text/plain": [
       "                Acral Melanoma  Breast Cancer       CRC  GAC       GBM  \\\n",
       "Acral Melanoma        1.000000       0.173743  0.098648  1.0  1.000000   \n",
       "Breast Cancer         0.173743       1.000000  1.000000  1.0  0.004503   \n",
       "CRC                   0.098648       1.000000  1.000000  1.0  0.062749   \n",
       "GAC                   1.000000       1.000000  1.000000  1.0  1.000000   \n",
       "GBM                   1.000000       0.004503  0.062749  1.0  1.000000   \n",
       "HCC                   0.117243       1.000000  1.000000  1.0  0.099816   \n",
       "HGSOC                 0.388805       1.000000  1.000000  1.0  0.031235   \n",
       "HNSCC                 0.933343       1.000000  1.000000  1.0  0.205738   \n",
       "Melanoma              1.000000       1.000000  1.000000  1.0  1.000000   \n",
       "NPC                   1.000000       1.000000  1.000000  1.0  1.000000   \n",
       "NSCLC                 0.177358       1.000000  1.000000  1.0  0.006853   \n",
       "PDAC                  0.162958       1.000000  1.000000  1.0  0.092996   \n",
       "iCCA                  1.000000       1.000000  1.000000  1.0  1.000000   \n",
       "\n",
       "                     HCC     HGSOC     HNSCC  Melanoma  NPC     NSCLC  \\\n",
       "Acral Melanoma  0.117243  0.388805  0.933343       1.0  1.0  0.177358   \n",
       "Breast Cancer   1.000000  1.000000  1.000000       1.0  1.0  1.000000   \n",
       "CRC             1.000000  1.000000  1.000000       1.0  1.0  1.000000   \n",
       "GAC             1.000000  1.000000  1.000000       1.0  1.0  1.000000   \n",
       "GBM             0.099816  0.031235  0.205738       1.0  1.0  0.006853   \n",
       "HCC             1.000000  1.000000  1.000000       1.0  1.0  1.000000   \n",
       "HGSOC           1.000000  1.000000  1.000000       1.0  1.0  1.000000   \n",
       "HNSCC           1.000000  1.000000  1.000000       1.0  1.0  1.000000   \n",
       "Melanoma        1.000000  1.000000  1.000000       1.0  1.0  1.000000   \n",
       "NPC             1.000000  1.000000  1.000000       1.0  1.0  1.000000   \n",
       "NSCLC           1.000000  1.000000  1.000000       1.0  1.0  1.000000   \n",
       "PDAC            1.000000  1.000000  1.000000       1.0  1.0  1.000000   \n",
       "iCCA            1.000000  1.000000  1.000000       1.0  1.0  1.000000   \n",
       "\n",
       "                    PDAC  iCCA  \n",
       "Acral Melanoma  0.162958   1.0  \n",
       "Breast Cancer   1.000000   1.0  \n",
       "CRC             1.000000   1.0  \n",
       "GAC             1.000000   1.0  \n",
       "GBM             0.092996   1.0  \n",
       "HCC             1.000000   1.0  \n",
       "HGSOC           1.000000   1.0  \n",
       "HNSCC           1.000000   1.0  \n",
       "Melanoma        1.000000   1.0  \n",
       "NPC             1.000000   1.0  \n",
       "NSCLC           1.000000   1.0  \n",
       "PDAC            1.000000   1.0  \n",
       "iCCA            1.000000   1.0  "
      ]
     },
     "execution_count": 105,
     "metadata": {},
     "output_type": "execute_result"
    }
   ],
   "source": [
    "# Perform Dunn's test\n",
    "dunn_results = sp.posthoc_dunn(\n",
    "    sample_scores_df,\n",
    "    val_col='adipocytokine_score',  # Column with the scores\n",
    "    group_col='cancer_type_broad', # Column with the group labels\n",
    "    p_adjust='bonferroni'          # Adjust p-values\n",
    ")\n",
    "\n",
    "dunn_results"
   ]
  },
  {
   "cell_type": "code",
   "execution_count": 126,
   "metadata": {},
   "outputs": [
    {
     "name": "stdout",
     "output_type": "stream",
     "text": [
      "                Acral Melanoma  Breast Cancer    CRC    GAC    GBM    HCC  \\\n",
      "Acral Melanoma           False          False  False  False  False  False   \n",
      "Breast Cancer            False          False  False  False   True  False   \n",
      "CRC                      False          False  False  False  False  False   \n",
      "GAC                      False          False  False  False  False  False   \n",
      "GBM                      False           True  False  False  False  False   \n",
      "HCC                      False          False  False  False  False  False   \n",
      "HGSOC                    False          False  False  False   True  False   \n",
      "HNSCC                    False          False  False  False  False  False   \n",
      "Melanoma                 False          False  False  False  False  False   \n",
      "NPC                      False          False  False  False  False  False   \n",
      "NSCLC                    False          False  False  False   True  False   \n",
      "PDAC                     False          False  False  False  False  False   \n",
      "iCCA                     False          False  False  False  False  False   \n",
      "\n",
      "                HGSOC  HNSCC  Melanoma    NPC  NSCLC   PDAC   iCCA  \n",
      "Acral Melanoma  False  False     False  False  False  False  False  \n",
      "Breast Cancer   False  False     False  False  False  False  False  \n",
      "CRC             False  False     False  False  False  False  False  \n",
      "GAC             False  False     False  False  False  False  False  \n",
      "GBM              True  False     False  False   True  False  False  \n",
      "HCC             False  False     False  False  False  False  False  \n",
      "HGSOC           False  False     False  False  False  False  False  \n",
      "HNSCC           False  False     False  False  False  False  False  \n",
      "Melanoma        False  False     False  False  False  False  False  \n",
      "NPC             False  False     False  False  False  False  False  \n",
      "NSCLC           False  False     False  False  False  False  False  \n",
      "PDAC            False  False     False  False  False  False  False  \n",
      "iCCA            False  False     False  False  False  False  False  \n"
     ]
    }
   ],
   "source": [
    "print(dunn_results < 0.05)"
   ]
  },
  {
   "cell_type": "code",
   "execution_count": 99,
   "metadata": {},
   "outputs": [],
   "source": [
    "pairs = [('GBM', 'Breast Cancer'),\n",
    "         ('HGSOC', 'GBM'),\n",
    "         ('NSCLC', 'GBM')]"
   ]
  },
  {
   "cell_type": "code",
   "execution_count": 118,
   "metadata": {},
   "outputs": [],
   "source": [
    "# Prepare p-values for the pairs of interest\n",
    "annotations = {}\n",
    "for pair in pairs:\n",
    "    # Extract the p-value for each pair from dunn_results (row: pair[0], column: pair[1])\n",
    "    p_val = dunn_results.loc[pair[0], pair[1]]\n",
    "    \n",
    "    # Format p-value as a string and add it to the annotations dictionary\n",
    "    annotations[pair] = f\"p = {p_val:.3f}\""
   ]
  },
  {
   "cell_type": "code",
   "execution_count": 119,
   "metadata": {},
   "outputs": [
    {
     "data": {
      "text/plain": [
       "{('GBM', 'Breast Cancer'): 'p = 0.005',\n",
       " ('HGSOC', 'GBM'): 'p = 0.031',\n",
       " ('NSCLC', 'GBM'): 'p = 0.007'}"
      ]
     },
     "execution_count": 119,
     "metadata": {},
     "output_type": "execute_result"
    }
   ],
   "source": [
    "annotations"
   ]
  },
  {
   "cell_type": "code",
   "execution_count": 120,
   "metadata": {},
   "outputs": [
    {
     "name": "stderr",
     "output_type": "stream",
     "text": [
      "/scratch/temp/11894104/ipykernel_2945541/4206527068.py:4: FutureWarning: \n",
      "\n",
      "Passing `palette` without assigning `hue` is deprecated and will be removed in v0.14.0. Assign the `x` variable to `hue` and set `legend=False` for the same effect.\n",
      "\n",
      "  sns.boxplot(data=sample_scores_df,\n"
     ]
    },
    {
     "ename": "KeyError",
     "evalue": "1",
     "output_type": "error",
     "traceback": [
      "\u001b[0;31m---------------------------------------------------------------------------\u001b[0m",
      "\u001b[0;31mKeyError\u001b[0m                                  Traceback (most recent call last)",
      "Cell \u001b[0;32mIn[120], line 25\u001b[0m\n\u001b[1;32m     18\u001b[0m plotting_parameters \u001b[38;5;241m=\u001b[39m {\n\u001b[1;32m     19\u001b[0m     \u001b[38;5;124m'\u001b[39m\u001b[38;5;124mdata\u001b[39m\u001b[38;5;124m'\u001b[39m:    sample_scores_df,\n\u001b[1;32m     20\u001b[0m     \u001b[38;5;124m'\u001b[39m\u001b[38;5;124mx\u001b[39m\u001b[38;5;124m'\u001b[39m:       \u001b[38;5;124m'\u001b[39m\u001b[38;5;124mcancer_type_broad\u001b[39m\u001b[38;5;124m'\u001b[39m,\n\u001b[1;32m     21\u001b[0m     \u001b[38;5;124m'\u001b[39m\u001b[38;5;124my\u001b[39m\u001b[38;5;124m'\u001b[39m:       \u001b[38;5;124m'\u001b[39m\u001b[38;5;124madipocytokine_score\u001b[39m\u001b[38;5;124m'\u001b[39m,\n\u001b[1;32m     22\u001b[0m }\n\u001b[1;32m     24\u001b[0m annotator \u001b[38;5;241m=\u001b[39m Annotator(ax, pairs, data\u001b[38;5;241m=\u001b[39msample_scores_df, x\u001b[38;5;241m=\u001b[39m\u001b[38;5;124m'\u001b[39m\u001b[38;5;124mcancer_type_broad\u001b[39m\u001b[38;5;124m'\u001b[39m, y\u001b[38;5;241m=\u001b[39m\u001b[38;5;124m'\u001b[39m\u001b[38;5;124madipocytokine_score\u001b[39m\u001b[38;5;124m'\u001b[39m)\n\u001b[0;32m---> 25\u001b[0m \u001b[43mannotator\u001b[49m\u001b[38;5;241;43m.\u001b[39;49m\u001b[43mset_custom_annotations\u001b[49m\u001b[43m(\u001b[49m\u001b[43mannotations\u001b[49m\u001b[43m)\u001b[49m\n\u001b[1;32m     26\u001b[0m annotator\u001b[38;5;241m.\u001b[39mannotate()\n\u001b[1;32m     28\u001b[0m \u001b[38;5;66;03m# Optional: Set plot labels and title\u001b[39;00m\n",
      "File \u001b[0;32m~/miniforge3/envs/env/lib/python3.12/site-packages/statannotations/Annotator.py:368\u001b[0m, in \u001b[0;36mAnnotator.set_custom_annotations\u001b[0;34m(self, text_annot_custom)\u001b[0m\n\u001b[1;32m    364\u001b[0m \u001b[38;5;28mself\u001b[39m\u001b[38;5;241m.\u001b[39m_check_has_plotter()\n\u001b[1;32m    366\u001b[0m \u001b[38;5;28mself\u001b[39m\u001b[38;5;241m.\u001b[39m_check_correct_number_custom_annotations(text_annot_custom)\n\u001b[1;32m    367\u001b[0m \u001b[38;5;28mself\u001b[39m\u001b[38;5;241m.\u001b[39mannotations \u001b[38;5;241m=\u001b[39m [\n\u001b[0;32m--> 368\u001b[0m     Annotation(struct, \u001b[38;5;28;43mself\u001b[39;49m\u001b[38;5;241;43m.\u001b[39;49m\u001b[43m_value_for_group_struct\u001b[49m\u001b[43m(\u001b[49m\u001b[43mtext_annot_custom\u001b[49m\u001b[43m,\u001b[49m\u001b[43m \u001b[49m\u001b[43mstruct\u001b[49m\u001b[43m[\u001b[49m\u001b[38;5;241;43m0\u001b[39;49m\u001b[43m]\u001b[49m\u001b[43m)\u001b[49m)\n\u001b[1;32m    369\u001b[0m     \u001b[38;5;28;01mfor\u001b[39;00m struct \u001b[38;5;129;01min\u001b[39;00m \u001b[38;5;28mself\u001b[39m\u001b[38;5;241m.\u001b[39m_struct_pairs\n\u001b[1;32m    370\u001b[0m ]\n\u001b[1;32m    371\u001b[0m \u001b[38;5;28mself\u001b[39m\u001b[38;5;241m.\u001b[39mshow_test_name \u001b[38;5;241m=\u001b[39m \u001b[38;5;28;01mFalse\u001b[39;00m\n\u001b[1;32m    372\u001b[0m \u001b[38;5;28mself\u001b[39m\u001b[38;5;241m.\u001b[39m_deactivate_configured_warning()\n",
      "File \u001b[0;32m~/miniforge3/envs/env/lib/python3.12/site-packages/statannotations/Annotator.py:644\u001b[0m, in \u001b[0;36mAnnotator._value_for_group_struct\u001b[0;34m(values, group_struct)\u001b[0m\n\u001b[1;32m    642\u001b[0m \u001b[38;5;129m@staticmethod\u001b[39m\n\u001b[1;32m    643\u001b[0m \u001b[38;5;28;01mdef\u001b[39;00m \u001b[38;5;21m_value_for_group_struct\u001b[39m(values, group_struct):\n\u001b[0;32m--> 644\u001b[0m     \u001b[38;5;28;01mreturn\u001b[39;00m \u001b[43mvalues\u001b[49m\u001b[43m[\u001b[49m\u001b[43mgroup_struct\u001b[49m\u001b[43m[\u001b[49m\u001b[38;5;124;43m'\u001b[39;49m\u001b[38;5;124;43mi_group_pair\u001b[39;49m\u001b[38;5;124;43m'\u001b[39;49m\u001b[43m]\u001b[49m\u001b[43m]\u001b[49m\n",
      "\u001b[0;31mKeyError\u001b[0m: 1"
     ]
    },
    {
     "data": {
      "image/png": "[encoded data removed]",
      "text/plain": [
       "<Figure size 1000x600 with 1 Axes>"
      ]
     },
     "metadata": {},
     "output_type": "display_data"
    }
   ],
   "source": [
    "fig, ax = plt.subplots(figsize=(10, 6))\n",
    "\n",
    "# Plot the boxplot\n",
    "sns.boxplot(data=sample_scores_df, \n",
    "            x='cancer_type_broad', \n",
    "            y='adipocytokine_score',\n",
    "            palette = \"Set2\",\n",
    "            showfliers=False, \n",
    "            ax=ax)\n",
    "\n",
    "# Overlay individual data points as a scatter (strip plot)\n",
    "sns.stripplot(data=sample_scores_df,\n",
    "              x=\"cancer_type_broad\", \n",
    "              y=\"adipocytokine_score\",  \n",
    "              color=\"black\", size=5, jitter=True, alpha=0.7, dodge=True,\n",
    "              ax=ax)\n",
    "\n",
    "plotting_parameters = {\n",
    "    'data':    sample_scores_df,\n",
    "    'x':       'cancer_type_broad',\n",
    "    'y':       'adipocytokine_score',\n",
    "}\n",
    "\n",
    "annotator = Annotator(ax, pairs, data=sample_scores_df, x='cancer_type_broad', y='adipocytokine_score')\n",
    "annotator.set_custom_annotations(annotations)\n",
    "annotator.annotate()\n",
    "\n",
    "# Optional: Set plot labels and title\n",
    "ax.set_xlabel('Cancer Type')\n",
    "ax.set_ylabel('Adipocytokine Score')\n",
    "ax.set_title('Adipocytokine score per cancer type for cDC1')\n",
    "plt.xticks(rotation=90)\n",
    "\n",
    "# Show the plot\n",
    "plt.show()"
   ]
  },
  {
   "cell_type": "code",
   "execution_count": null,
   "metadata": {},
   "outputs": [],
   "source": [
    "fig, ax = plt.subplots(figsize=(10, 6))\n",
    "\n",
    "# Plot the boxplot\n",
    "sns.boxplot(data=sample_scores_df, \n",
    "            x='cancer_type_broad', \n",
    "            y='adipocytokine_score',\n",
    "            palette = \"Set2\",\n",
    "            showfliers=False, \n",
    "            ax=ax)\n",
    "\n",
    "annotator = Annotator(ax, pairs, data=sample_scores_df, x='cancer_type_broad', y='adipocytokine_score')\n",
    "annotator.set_custom_annotations(annotations)\n",
    "annotator.annotate()\n",
    "\n",
    "# Optional: Set plot labels and title\n",
    "ax.set_xlabel('Cancer Type')\n",
    "ax.set_ylabel('Adipocytokine Score')\n",
    "ax.set_title('Adipocytokine score per cancer type for cDC1')\n",
    "plt.xticks(rotation=90)\n",
    "\n",
    "# Show the plot\n",
    "plt.show()"
   ]
  },
  {
   "cell_type": "code",
   "execution_count": 122,
   "metadata": {},
   "outputs": [
    {
     "name": "stderr",
     "output_type": "stream",
     "text": [
      "/scratch/temp/11894104/ipykernel_2945541/1857511454.py:4: FutureWarning: \n",
      "\n",
      "Passing `palette` without assigning `hue` is deprecated and will be removed in v0.14.0. Assign the `x` variable to `hue` and set `legend=False` for the same effect.\n",
      "\n",
      "  sns.boxplot(data=sample_scores_df,\n"
     ]
    },
    {
     "data": {
      "image/png": "[encoded data removed]",
      "text/plain": [
       "<Figure size 1000x600 with 1 Axes>"
      ]
     },
     "metadata": {},
     "output_type": "display_data"
    }
   ],
   "source": [
    "fig, ax = plt.subplots(figsize=(10, 6))\n",
    "\n",
    "# Plot the boxplot\n",
    "sns.boxplot(data=sample_scores_df, \n",
    "            x='cancer_type_broad', \n",
    "            y='adipocytokine_score',\n",
    "            palette = \"Set2\",\n",
    "            showfliers=False, \n",
    "            ax=ax)\n",
    "\n",
    "# Show the plot\n",
    "plt.show()"
   ]
  },
  {
   "cell_type": "code",
   "execution_count": 116,
   "metadata": {},
   "outputs": [
    {
     "ename": "TypeError",
     "evalue": "object of type 'numpy.float64' has no len()",
     "output_type": "error",
     "traceback": [
      "\u001b[0;31m---------------------------------------------------------------------------\u001b[0m",
      "\u001b[0;31mTypeError\u001b[0m                                 Traceback (most recent call last)",
      "Cell \u001b[0;32mIn[116], line 17\u001b[0m\n\u001b[1;32m     15\u001b[0m \u001b[38;5;28;01mfor\u001b[39;00m cancer1, cancer2 \u001b[38;5;129;01min\u001b[39;00m comparisons:\n\u001b[1;32m     16\u001b[0m     p_value \u001b[38;5;241m=\u001b[39m dunn_results\u001b[38;5;241m.\u001b[39mloc[cancer1, cancer2]\n\u001b[0;32m---> 17\u001b[0m     \u001b[43mannotator\u001b[49m\u001b[38;5;241;43m.\u001b[39;49m\u001b[43mset_custom_annotations\u001b[49m\u001b[43m(\u001b[49m\u001b[43mp_value\u001b[49m\u001b[43m)\u001b[49m\n\u001b[1;32m     19\u001b[0m annotator\u001b[38;5;241m.\u001b[39mannotate()\n\u001b[1;32m     21\u001b[0m \u001b[38;5;66;03m# 4. Final plot formatting\u001b[39;00m\n",
      "File \u001b[0;32m~/miniforge3/envs/env/lib/python3.12/site-packages/statannotations/Annotator.py:366\u001b[0m, in \u001b[0;36mAnnotator.set_custom_annotations\u001b[0;34m(self, text_annot_custom)\u001b[0m\n\u001b[1;32m    361\u001b[0m \u001b[38;5;250m\u001b[39m\u001b[38;5;124;03m\"\"\"\u001b[39;00m\n\u001b[1;32m    362\u001b[0m \u001b[38;5;124;03m:param text_annot_custom: List of strings to annotate for each `pair`\u001b[39;00m\n\u001b[1;32m    363\u001b[0m \u001b[38;5;124;03m\"\"\"\u001b[39;00m\n\u001b[1;32m    364\u001b[0m \u001b[38;5;28mself\u001b[39m\u001b[38;5;241m.\u001b[39m_check_has_plotter()\n\u001b[0;32m--> 366\u001b[0m \u001b[38;5;28;43mself\u001b[39;49m\u001b[38;5;241;43m.\u001b[39;49m\u001b[43m_check_correct_number_custom_annotations\u001b[49m\u001b[43m(\u001b[49m\u001b[43mtext_annot_custom\u001b[49m\u001b[43m)\u001b[49m\n\u001b[1;32m    367\u001b[0m \u001b[38;5;28mself\u001b[39m\u001b[38;5;241m.\u001b[39mannotations \u001b[38;5;241m=\u001b[39m [\n\u001b[1;32m    368\u001b[0m     Annotation(struct, \u001b[38;5;28mself\u001b[39m\u001b[38;5;241m.\u001b[39m_value_for_group_struct(text_annot_custom, struct[\u001b[38;5;241m0\u001b[39m]))\n\u001b[1;32m    369\u001b[0m     \u001b[38;5;28;01mfor\u001b[39;00m struct \u001b[38;5;129;01min\u001b[39;00m \u001b[38;5;28mself\u001b[39m\u001b[38;5;241m.\u001b[39m_struct_pairs\n\u001b[1;32m    370\u001b[0m ]\n\u001b[1;32m    371\u001b[0m \u001b[38;5;28mself\u001b[39m\u001b[38;5;241m.\u001b[39mshow_test_name \u001b[38;5;241m=\u001b[39m \u001b[38;5;28;01mFalse\u001b[39;00m\n",
      "File \u001b[0;32m~/miniforge3/envs/env/lib/python3.12/site-packages/statannotations/Annotator.py:616\u001b[0m, in \u001b[0;36mAnnotator._check_correct_number_custom_annotations\u001b[0;34m(self, text_annot_custom)\u001b[0m\n\u001b[1;32m    613\u001b[0m \u001b[38;5;28;01mif\u001b[39;00m text_annot_custom \u001b[38;5;129;01mis\u001b[39;00m \u001b[38;5;28;01mNone\u001b[39;00m:  \u001b[38;5;66;03m# pragma: no cover\u001b[39;00m\n\u001b[1;32m    614\u001b[0m     \u001b[38;5;28;01mreturn\u001b[39;00m\n\u001b[0;32m--> 616\u001b[0m \u001b[38;5;28;01mif\u001b[39;00m \u001b[38;5;28;43mlen\u001b[39;49m\u001b[43m(\u001b[49m\u001b[43mtext_annot_custom\u001b[49m\u001b[43m)\u001b[49m \u001b[38;5;241m!=\u001b[39m \u001b[38;5;28mlen\u001b[39m(\u001b[38;5;28mself\u001b[39m\u001b[38;5;241m.\u001b[39m_struct_pairs):  \u001b[38;5;66;03m# pragma: no branch\u001b[39;00m\n\u001b[1;32m    617\u001b[0m     \u001b[38;5;28;01mraise\u001b[39;00m \u001b[38;5;167;01mValueError\u001b[39;00m(\n\u001b[1;32m    618\u001b[0m         \u001b[38;5;124m\"\u001b[39m\u001b[38;5;124m`text_annot_custom` should be of same length as `pairs`.\u001b[39m\u001b[38;5;124m\"\u001b[39m\n\u001b[1;32m    619\u001b[0m     )\n",
      "\u001b[0;31mTypeError\u001b[0m: object of type 'numpy.float64' has no len()"
     ]
    },
    {
     "data": {
      "image/png": "[encoded data removed]",
      "text/plain": [
       "<Figure size 1000x600 with 1 Axes>"
      ]
     },
     "metadata": {},
     "output_type": "display_data"
    }
   ],
   "source": [
    "plt.figure(figsize=(10, 6))\n",
    "ax = sns.boxplot(x='cancer_type_broad', y='adipocytokine_score', data=sample_scores_df)\n",
    "\n",
    "# 2. Specify the selected comparisons and their corresponding p-values\n",
    "comparisons = [\n",
    "    ('HGSOC', 'GBM'),\n",
    "    ('GBM', 'Breast Cancer'),\n",
    "    ('NSCLC', 'GBM')\n",
    "]\n",
    "\n",
    "# 3. Annotate the plot with p-values from the Dunn's test using Annotator\n",
    "annotator = Annotator(ax, pairs=comparisons, data=sample_scores_df, x='cancer_type_broad', y='adipocytokine_score')\n",
    "\n",
    "# Add annotations (p-values from Dunn's test)\n",
    "for cancer1, cancer2 in comparisons:\n",
    "    p_value = dunn_results.loc[cancer1, cancer2]\n",
    "    annotator.set_custom_annotations(p_value)\n",
    "\n",
    "annotator.annotate()\n",
    "\n",
    "# 4. Final plot formatting\n",
    "plt.title('Adipocytokine Score by Cancer Type with Dunn\\'s Test Annotations')\n",
    "plt.xticks(rotation=45)\n",
    "plt.tight_layout()\n",
    "plt.show()"
   ]
  },
  {
   "cell_type": "code",
   "execution_count": null,
   "metadata": {},
   "outputs": [],
   "source": []
  },
  {
   "cell_type": "code",
   "execution_count": null,
   "metadata": {},
   "outputs": [],
   "source": []
  },
  {
   "cell_type": "markdown",
   "metadata": {},
   "source": [
    "# Following tutorial for graphing: "
   ]
  },
  {
   "cell_type": "code",
   "execution_count": 52,
   "metadata": {},
   "outputs": [
    {
     "data": {
      "text/html": [
       "<div>\n",
       "<style scoped>\n",
       "    .dataframe tbody tr th:only-of-type {\n",
       "        vertical-align: middle;\n",
       "    }\n",
       "\n",
       "    .dataframe tbody tr th {\n",
       "        vertical-align: top;\n",
       "    }\n",
       "\n",
       "    .dataframe thead th {\n",
       "        text-align: right;\n",
       "    }\n",
       "</style>\n",
       "<table border=\"1\" class=\"dataframe\">\n",
       "  <thead>\n",
       "    <tr style=\"text-align: right;\">\n",
       "      <th></th>\n",
       "      <th>ID</th>\n",
       "      <th>Name</th>\n",
       "      <th>Category</th>\n",
       "      <th>Subcategory</th>\n",
       "      <th>Country</th>\n",
       "      <th>Launched</th>\n",
       "      <th>Deadline</th>\n",
       "      <th>Goal</th>\n",
       "      <th>Pledged</th>\n",
       "      <th>Backers</th>\n",
       "      <th>State</th>\n",
       "    </tr>\n",
       "  </thead>\n",
       "  <tbody>\n",
       "    <tr>\n",
       "      <th>0</th>\n",
       "      <td>1860890148</td>\n",
       "      <td>Grace Jones Does Not Give A F$#% T-Shirt (limi...</td>\n",
       "      <td>Fashion</td>\n",
       "      <td>Fashion</td>\n",
       "      <td>United States</td>\n",
       "      <td>2009-04-21 21:02:48</td>\n",
       "      <td>2009-05-31</td>\n",
       "      <td>1000</td>\n",
       "      <td>625</td>\n",
       "      <td>30</td>\n",
       "      <td>Failed</td>\n",
       "    </tr>\n",
       "    <tr>\n",
       "      <th>1</th>\n",
       "      <td>709707365</td>\n",
       "      <td>CRYSTAL ANTLERS UNTITLED MOVIE</td>\n",
       "      <td>Film &amp; Video</td>\n",
       "      <td>Shorts</td>\n",
       "      <td>United States</td>\n",
       "      <td>2009-04-23 00:07:53</td>\n",
       "      <td>2009-07-20</td>\n",
       "      <td>80000</td>\n",
       "      <td>22</td>\n",
       "      <td>3</td>\n",
       "      <td>Failed</td>\n",
       "    </tr>\n",
       "    <tr>\n",
       "      <th>2</th>\n",
       "      <td>1703704063</td>\n",
       "      <td>drawing for dollars</td>\n",
       "      <td>Art</td>\n",
       "      <td>Illustration</td>\n",
       "      <td>United States</td>\n",
       "      <td>2009-04-24 21:52:03</td>\n",
       "      <td>2009-05-03</td>\n",
       "      <td>20</td>\n",
       "      <td>35</td>\n",
       "      <td>3</td>\n",
       "      <td>Successful</td>\n",
       "    </tr>\n",
       "    <tr>\n",
       "      <th>3</th>\n",
       "      <td>727286</td>\n",
       "      <td>Offline Wikipedia iPhone app</td>\n",
       "      <td>Technology</td>\n",
       "      <td>Software</td>\n",
       "      <td>United States</td>\n",
       "      <td>2009-04-25 17:36:21</td>\n",
       "      <td>2009-07-14</td>\n",
       "      <td>99</td>\n",
       "      <td>145</td>\n",
       "      <td>25</td>\n",
       "      <td>Successful</td>\n",
       "    </tr>\n",
       "    <tr>\n",
       "      <th>4</th>\n",
       "      <td>1622952265</td>\n",
       "      <td>Pantshirts</td>\n",
       "      <td>Fashion</td>\n",
       "      <td>Fashion</td>\n",
       "      <td>United States</td>\n",
       "      <td>2009-04-27 14:10:39</td>\n",
       "      <td>2009-05-26</td>\n",
       "      <td>1900</td>\n",
       "      <td>387</td>\n",
       "      <td>10</td>\n",
       "      <td>Failed</td>\n",
       "    </tr>\n",
       "  </tbody>\n",
       "</table>\n",
       "</div>"
      ],
      "text/plain": [
       "           ID                                               Name  \\\n",
       "0  1860890148  Grace Jones Does Not Give A F$#% T-Shirt (limi...   \n",
       "1   709707365                     CRYSTAL ANTLERS UNTITLED MOVIE   \n",
       "2  1703704063                                drawing for dollars   \n",
       "3      727286                       Offline Wikipedia iPhone app   \n",
       "4  1622952265                                         Pantshirts   \n",
       "\n",
       "       Category   Subcategory        Country             Launched    Deadline  \\\n",
       "0       Fashion       Fashion  United States  2009-04-21 21:02:48  2009-05-31   \n",
       "1  Film & Video        Shorts  United States  2009-04-23 00:07:53  2009-07-20   \n",
       "2           Art  Illustration  United States  2009-04-24 21:52:03  2009-05-03   \n",
       "3    Technology      Software  United States  2009-04-25 17:36:21  2009-07-14   \n",
       "4       Fashion       Fashion  United States  2009-04-27 14:10:39  2009-05-26   \n",
       "\n",
       "    Goal  Pledged  Backers       State  \n",
       "0   1000      625       30      Failed  \n",
       "1  80000       22        3      Failed  \n",
       "2     20       35        3  Successful  \n",
       "3     99      145       25  Successful  \n",
       "4   1900      387       10      Failed  "
      ]
     },
     "execution_count": 52,
     "metadata": {},
     "output_type": "execute_result"
    }
   ],
   "source": [
    "dataset = pd.read_csv('kickstarter_projects.csv')\n",
    "dataset.head()"
   ]
  },
  {
   "cell_type": "code",
   "execution_count": null,
   "metadata": {},
   "outputs": [],
   "source": []
  },
  {
   "cell_type": "code",
   "execution_count": 62,
   "metadata": {},
   "outputs": [],
   "source": [
    "from python_utils import *"
   ]
  },
  {
   "cell_type": "code",
   "execution_count": 71,
   "metadata": {},
   "outputs": [],
   "source": [
    "import matplotlib.pyplot as plt"
   ]
  },
  {
   "cell_type": "code",
   "execution_count": 64,
   "metadata": {},
   "outputs": [],
   "source": [
    "tech = dataset.loc[(dataset.Category=='Technology'), :]"
   ]
  },
  {
   "cell_type": "code",
   "execution_count": 65,
   "metadata": {},
   "outputs": [],
   "source": [
    "rfs = tech.loc[(tech.Subcategory.isin((\"Robots\", \"Flight\", \"Sound\"))), :]"
   ]
  },
  {
   "cell_type": "code",
   "execution_count": 74,
   "metadata": {},
   "outputs": [
    {
     "data": {
      "text/html": [
       "<div>\n",
       "<style scoped>\n",
       "    .dataframe tbody tr th:only-of-type {\n",
       "        vertical-align: middle;\n",
       "    }\n",
       "\n",
       "    .dataframe tbody tr th {\n",
       "        vertical-align: top;\n",
       "    }\n",
       "\n",
       "    .dataframe thead th {\n",
       "        text-align: right;\n",
       "    }\n",
       "</style>\n",
       "<table border=\"1\" class=\"dataframe\">\n",
       "  <thead>\n",
       "    <tr style=\"text-align: right;\">\n",
       "      <th></th>\n",
       "      <th>ID</th>\n",
       "      <th>Name</th>\n",
       "      <th>Category</th>\n",
       "      <th>Subcategory</th>\n",
       "      <th>Country</th>\n",
       "      <th>Launched</th>\n",
       "      <th>Deadline</th>\n",
       "      <th>Goal</th>\n",
       "      <th>Pledged</th>\n",
       "      <th>Backers</th>\n",
       "      <th>State</th>\n",
       "    </tr>\n",
       "  </thead>\n",
       "  <tbody>\n",
       "    <tr>\n",
       "      <th>11056</th>\n",
       "      <td>1533748311</td>\n",
       "      <td>Bilibot :  an Affordable Robotics Platform</td>\n",
       "      <td>Technology</td>\n",
       "      <td>Robots</td>\n",
       "      <td>United States</td>\n",
       "      <td>2010-12-10 16:06:24</td>\n",
       "      <td>2011-01-19</td>\n",
       "      <td>5000</td>\n",
       "      <td>5665</td>\n",
       "      <td>19</td>\n",
       "      <td>Successful</td>\n",
       "    </tr>\n",
       "    <tr>\n",
       "      <th>15196</th>\n",
       "      <td>276100515</td>\n",
       "      <td>Protei, Open Hardware Oil Spill Cleaning Saili...</td>\n",
       "      <td>Technology</td>\n",
       "      <td>Robots</td>\n",
       "      <td>United States</td>\n",
       "      <td>2011-02-28 02:47:34</td>\n",
       "      <td>2011-04-12</td>\n",
       "      <td>27500</td>\n",
       "      <td>33796</td>\n",
       "      <td>331</td>\n",
       "      <td>Successful</td>\n",
       "    </tr>\n",
       "    <tr>\n",
       "      <th>16709</th>\n",
       "      <td>692625590</td>\n",
       "      <td>BarBot 2011 - Robots Need YOU!</td>\n",
       "      <td>Technology</td>\n",
       "      <td>Robots</td>\n",
       "      <td>United States</td>\n",
       "      <td>2011-03-22 23:43:39</td>\n",
       "      <td>2011-04-02</td>\n",
       "      <td>743</td>\n",
       "      <td>861</td>\n",
       "      <td>28</td>\n",
       "      <td>Successful</td>\n",
       "    </tr>\n",
       "    <tr>\n",
       "      <th>17162</th>\n",
       "      <td>528924747</td>\n",
       "      <td>Scout- the Autonomous Transatlantic Boat</td>\n",
       "      <td>Technology</td>\n",
       "      <td>Robots</td>\n",
       "      <td>United States</td>\n",
       "      <td>2011-03-30 20:15:42</td>\n",
       "      <td>2011-05-09</td>\n",
       "      <td>2500</td>\n",
       "      <td>3424</td>\n",
       "      <td>73</td>\n",
       "      <td>Successful</td>\n",
       "    </tr>\n",
       "    <tr>\n",
       "      <th>17175</th>\n",
       "      <td>496282362</td>\n",
       "      <td>Digital Modular Theremin</td>\n",
       "      <td>Technology</td>\n",
       "      <td>Sound</td>\n",
       "      <td>United States</td>\n",
       "      <td>2011-03-30 21:27:34</td>\n",
       "      <td>2011-05-29</td>\n",
       "      <td>1025</td>\n",
       "      <td>1140</td>\n",
       "      <td>24</td>\n",
       "      <td>Successful</td>\n",
       "    </tr>\n",
       "    <tr>\n",
       "      <th>...</th>\n",
       "      <td>...</td>\n",
       "      <td>...</td>\n",
       "      <td>...</td>\n",
       "      <td>...</td>\n",
       "      <td>...</td>\n",
       "      <td>...</td>\n",
       "      <td>...</td>\n",
       "      <td>...</td>\n",
       "      <td>...</td>\n",
       "      <td>...</td>\n",
       "      <td>...</td>\n",
       "    </tr>\n",
       "    <tr>\n",
       "      <th>373770</th>\n",
       "      <td>753056989</td>\n",
       "      <td>LOBEBEATZ The first ever Wireless gauged speak...</td>\n",
       "      <td>Technology</td>\n",
       "      <td>Sound</td>\n",
       "      <td>United States</td>\n",
       "      <td>2017-12-16 17:44:18</td>\n",
       "      <td>2018-01-15</td>\n",
       "      <td>15000</td>\n",
       "      <td>755</td>\n",
       "      <td>10</td>\n",
       "      <td>Live</td>\n",
       "    </tr>\n",
       "    <tr>\n",
       "      <th>374017</th>\n",
       "      <td>1649709990</td>\n",
       "      <td>XUFOY GO Guitar Pick / Plectrum for fast playing</td>\n",
       "      <td>Technology</td>\n",
       "      <td>Sound</td>\n",
       "      <td>Germany</td>\n",
       "      <td>2017-12-19 20:40:03</td>\n",
       "      <td>2018-01-08</td>\n",
       "      <td>2670</td>\n",
       "      <td>1251</td>\n",
       "      <td>56</td>\n",
       "      <td>Live</td>\n",
       "    </tr>\n",
       "    <tr>\n",
       "      <th>374078</th>\n",
       "      <td>1889158145</td>\n",
       "      <td>PITTA - Transformative Autonomous 4K Selfie Drone</td>\n",
       "      <td>Technology</td>\n",
       "      <td>Flight</td>\n",
       "      <td>United States</td>\n",
       "      <td>2017-12-20 15:13:13</td>\n",
       "      <td>2018-02-03</td>\n",
       "      <td>50000</td>\n",
       "      <td>270291</td>\n",
       "      <td>854</td>\n",
       "      <td>Live</td>\n",
       "    </tr>\n",
       "    <tr>\n",
       "      <th>374268</th>\n",
       "      <td>2077555302</td>\n",
       "      <td>Synth-a-Seesia</td>\n",
       "      <td>Technology</td>\n",
       "      <td>Sound</td>\n",
       "      <td>United States</td>\n",
       "      <td>2017-12-22 21:58:42</td>\n",
       "      <td>2018-01-21</td>\n",
       "      <td>20000</td>\n",
       "      <td>2225</td>\n",
       "      <td>9</td>\n",
       "      <td>Live</td>\n",
       "    </tr>\n",
       "    <tr>\n",
       "      <th>374304</th>\n",
       "      <td>1733437086</td>\n",
       "      <td>The Most Affordable Bluetooth Headphone with D...</td>\n",
       "      <td>Technology</td>\n",
       "      <td>Sound</td>\n",
       "      <td>Hong Kong</td>\n",
       "      <td>2017-12-23 06:57:02</td>\n",
       "      <td>2018-01-22</td>\n",
       "      <td>12781</td>\n",
       "      <td>4162</td>\n",
       "      <td>67</td>\n",
       "      <td>Live</td>\n",
       "    </tr>\n",
       "  </tbody>\n",
       "</table>\n",
       "<p>1667 rows × 11 columns</p>\n",
       "</div>"
      ],
      "text/plain": [
       "                ID                                               Name  \\\n",
       "11056   1533748311         Bilibot :  an Affordable Robotics Platform   \n",
       "15196    276100515  Protei, Open Hardware Oil Spill Cleaning Saili...   \n",
       "16709    692625590                     BarBot 2011 - Robots Need YOU!   \n",
       "17162    528924747           Scout- the Autonomous Transatlantic Boat   \n",
       "17175    496282362                           Digital Modular Theremin   \n",
       "...            ...                                                ...   \n",
       "373770   753056989  LOBEBEATZ The first ever Wireless gauged speak...   \n",
       "374017  1649709990   XUFOY GO Guitar Pick / Plectrum for fast playing   \n",
       "374078  1889158145  PITTA - Transformative Autonomous 4K Selfie Drone   \n",
       "374268  2077555302                                     Synth-a-Seesia   \n",
       "374304  1733437086  The Most Affordable Bluetooth Headphone with D...   \n",
       "\n",
       "          Category Subcategory        Country             Launched  \\\n",
       "11056   Technology      Robots  United States  2010-12-10 16:06:24   \n",
       "15196   Technology      Robots  United States  2011-02-28 02:47:34   \n",
       "16709   Technology      Robots  United States  2011-03-22 23:43:39   \n",
       "17162   Technology      Robots  United States  2011-03-30 20:15:42   \n",
       "17175   Technology       Sound  United States  2011-03-30 21:27:34   \n",
       "...            ...         ...            ...                  ...   \n",
       "373770  Technology       Sound  United States  2017-12-16 17:44:18   \n",
       "374017  Technology       Sound        Germany  2017-12-19 20:40:03   \n",
       "374078  Technology      Flight  United States  2017-12-20 15:13:13   \n",
       "374268  Technology       Sound  United States  2017-12-22 21:58:42   \n",
       "374304  Technology       Sound      Hong Kong  2017-12-23 06:57:02   \n",
       "\n",
       "          Deadline   Goal  Pledged  Backers       State  \n",
       "11056   2011-01-19   5000     5665       19  Successful  \n",
       "15196   2011-04-12  27500    33796      331  Successful  \n",
       "16709   2011-04-02    743      861       28  Successful  \n",
       "17162   2011-05-09   2500     3424       73  Successful  \n",
       "17175   2011-05-29   1025     1140       24  Successful  \n",
       "...            ...    ...      ...      ...         ...  \n",
       "373770  2018-01-15  15000      755       10        Live  \n",
       "374017  2018-01-08   2670     1251       56        Live  \n",
       "374078  2018-02-03  50000   270291      854        Live  \n",
       "374268  2018-01-21  20000     2225        9        Live  \n",
       "374304  2018-01-22  12781     4162       67        Live  \n",
       "\n",
       "[1667 rows x 11 columns]"
      ]
     },
     "execution_count": 74,
     "metadata": {},
     "output_type": "execute_result"
    }
   ],
   "source": [
    "rfs"
   ]
  },
  {
   "cell_type": "code",
   "execution_count": 66,
   "metadata": {},
   "outputs": [],
   "source": [
    "subcat_palette = sns.dark_palette(\"#8BF\", reverse=True, n_colors=5)\n",
    "states_palette = sns.color_palette(\"YlGnBu\", n_colors=5)\n",
    "\n",
    "states_order = [\"Successful\", \"Failed\", \"Live\", \"Suspended\", \"Canceled\"]\n",
    "subcat_order = ['Robots', 'Flight', 'Sound']"
   ]
  },
  {
   "cell_type": "code",
   "execution_count": null,
   "metadata": {},
   "outputs": [],
   "source": []
  },
  {
   "cell_type": "code",
   "execution_count": 81,
   "metadata": {},
   "outputs": [
    {
     "ename": "NameError",
     "evalue": "name 'Annotator' is not defined",
     "output_type": "error",
     "traceback": [
      "\u001b[0;31m---------------------------------------------------------------------------\u001b[0m",
      "\u001b[0;31mNameError\u001b[0m                                 Traceback (most recent call last)",
      "Cell \u001b[0;32mIn[81], line 8\u001b[0m\n\u001b[1;32m      5\u001b[0m ax \u001b[38;5;241m=\u001b[39m sns\u001b[38;5;241m.\u001b[39mboxplot(ax\u001b[38;5;241m=\u001b[39max)\n\u001b[1;32m      7\u001b[0m \u001b[38;5;66;03m# Add annotations\u001b[39;00m\n\u001b[0;32m----> 8\u001b[0m annotator \u001b[38;5;241m=\u001b[39m \u001b[43mAnnotator\u001b[49m(ax, pairs, \u001b[38;5;241m*\u001b[39m\u001b[38;5;241m*\u001b[39mhue_plot_params)\n\u001b[1;32m      9\u001b[0m annotator\u001b[38;5;241m.\u001b[39mconfigure(test\u001b[38;5;241m=\u001b[39m\u001b[38;5;124m\"\u001b[39m\u001b[38;5;124mMann-Whitney\u001b[39m\u001b[38;5;124m\"\u001b[39m, comparisons_correction\u001b[38;5;241m=\u001b[39m\u001b[38;5;124m\"\u001b[39m\u001b[38;5;124mbonferroni\u001b[39m\u001b[38;5;124m\"\u001b[39m)\n\u001b[1;32m     10\u001b[0m _, corrected_results \u001b[38;5;241m=\u001b[39m annotator\u001b[38;5;241m.\u001b[39mapply_and_annotate()\n",
      "\u001b[0;31mNameError\u001b[0m: name 'Annotator' is not defined"
     ]
    }
   ],
   "source": [
    "with sns.plotting_context(\"notebook\", font_scale=1.4):\n",
    "    # Create new plot\n",
    "\n",
    "    # Plot with seaborn\n",
    "    ax = sns.boxplot(ax=ax)\n",
    "\n",
    "    # Add annotations\n",
    "    annotator = Annotator(ax, pairs, **hue_plot_params)\n",
    "    annotator.configure(test=\"Mann-Whitney\", comparisons_correction=\"bonferroni\")\n",
    "    _, corrected_results = annotator.apply_and_annotate()\n",
    "\n",
    "    # Label and show\n",
    "    add_legend(ax)\n",
    "    label_plot_for_states(ax)\n",
    "    plt.show()"
   ]
  }
 ],
 "metadata": {
  "kernelspec": {
   "display_name": "Python 3 (ipykernel)",
   "language": "python",
   "name": "python3"
  }
 },
 "nbformat": 4,
 "nbformat_minor": 2
}
