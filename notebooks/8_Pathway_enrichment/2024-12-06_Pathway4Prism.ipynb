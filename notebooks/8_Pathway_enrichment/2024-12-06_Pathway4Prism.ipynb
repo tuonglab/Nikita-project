{
 "cells": [
  {
   "cell_type": "markdown",
   "metadata": {},
   "source": [
    "# Overlaying pathways of interest on DC from my atlas - using only primary cancer samples"
   ]
  },
  {
   "cell_type": "markdown",
   "metadata": {},
   "source": [
    "### import package and set directory"
   ]
  },
  {
   "cell_type": "code",
   "execution_count": 1,
   "metadata": {},
   "outputs": [],
   "source": [
    "import os\n",
    "import scanpy as sc\n",
    "import pandas as pd\n",
    "import seaborn as sns\n",
    "import matplotlib.pyplot as plt"
   ]
  },
  {
   "cell_type": "code",
   "execution_count": 2,
   "metadata": {},
   "outputs": [
    {
     "data": {
      "text/plain": [
       "'/scratch/user/s4436039/scdata/Python_Integration_Sep'"
      ]
     },
     "execution_count": 2,
     "metadata": {},
     "output_type": "execute_result"
    }
   ],
   "source": [
    "#show current directory \n",
    "os.getcwd()\n",
    "os.chdir('/scratch/user/s4436039/scdata/Python_Integration_Sep')\n",
    "os.getcwd()"
   ]
  },
  {
   "cell_type": "markdown",
   "metadata": {},
   "source": [
    "# Read in the data"
   ]
  },
  {
   "cell_type": "code",
   "execution_count": 3,
   "metadata": {},
   "outputs": [],
   "source": [
    "# read in data\n",
    "data = sc.read_h5ad('NRclean_clustered2.h5ad')"
   ]
  },
  {
   "cell_type": "code",
   "execution_count": 4,
   "metadata": {},
   "outputs": [],
   "source": [
    "data_P = data[data.obs[\"sample_type_major2\"] == \"primary tumour\"]\n",
    "\n",
    "data_DC1 = data_P[data_P.obs[\"NR_annotations_simple\"] == \"cDC1\"]\n",
    "data_DC2 = data_P[data_P.obs[\"NR_annotations_simple\"] == \"cDC2\"]\n",
    "data_mregDC = data_P[data_P.obs[\"NR_annotations_simple\"] == \"mregDC\"]"
   ]
  },
  {
   "cell_type": "markdown",
   "metadata": {},
   "source": [
    "# Import KEGG sets"
   ]
  },
  {
   "cell_type": "code",
   "execution_count": 5,
   "metadata": {},
   "outputs": [],
   "source": [
    "os.chdir('/scratch/user/s4436039/scdata/Pathway-sets')\n",
    "K_sets = pd.read_excel(\"kegg_sets.xlsx\", sheet_name=None)\n",
    "os.chdir('/scratch/user/s4436039/scdata/Python_Integration_Sep')"
   ]
  },
  {
   "cell_type": "code",
   "execution_count": 6,
   "metadata": {},
   "outputs": [
    {
     "name": "stdout",
     "output_type": "stream",
     "text": [
      "dict_keys(['Sheet1', 'Sheet2', 'Sheet3', 'Sheet4', 'Sheet5', 'Sheet6', 'Sheet7', 'Sheet8', 'Sheet9', 'Sheet10', 'Sheet11', 'Sheet12', 'Sheet13', 'Sheet14', 'Sheet15', 'Sheet16', 'Sheet17', 'Sheet18', 'Sheet19', 'Sheet20', 'Sheet21', 'Sheet22', 'Sheet23', 'Sheet24', 'Sheet25', 'Sheet26', 'Sheet27', 'Sheet28', 'Sheet29', 'Sheet30', 'Sheet31', 'Sheet32', 'Sheet33', 'Sheet34', 'Sheet35', 'Sheet36', 'Sheet37', 'Sheet38', 'Sheet39', 'Sheet40', 'Sheet41', 'Sheet42', 'Sheet43', 'Sheet44', 'Sheet45', 'Sheet46', 'Sheet47', 'Sheet48', 'Sheet49', 'Sheet50', 'Sheet51', 'Sheet52', 'Sheet53', 'Sheet54', 'Sheet55', 'Sheet56', 'Sheet57', 'Sheet58', 'Sheet59', 'Sheet60', 'Sheet61', 'Sheet62', 'Sheet63', 'Sheet64', 'Sheet65', 'Sheet66', 'Sheet67', 'Sheet68', 'Sheet69', 'Sheet70', 'Sheet71', 'Sheet72', 'Sheet73', 'Sheet74', 'Sheet75', 'Sheet76', 'Sheet77', 'Sheet78', 'Sheet79', 'Sheet80', 'Sheet81', 'Sheet82', 'Sheet83', 'Sheet84', 'Sheet85', 'Sheet86', 'Sheet87', 'Sheet88', 'Sheet89', 'Sheet90', 'Sheet91', 'Sheet92', 'Sheet93', 'Sheet94', 'Sheet95', 'Sheet96', 'Sheet97', 'Sheet98', 'Sheet99', 'Sheet100', 'Sheet101', 'Sheet102', 'Sheet103', 'Sheet104', 'Sheet105', 'Sheet106', 'Sheet107', 'Sheet108', 'Sheet109', 'Sheet110', 'Sheet111', 'Sheet112', 'Sheet113', 'Sheet114', 'Sheet115', 'Sheet116', 'Sheet117', 'Sheet118', 'Sheet119', 'Sheet120', 'Sheet121', 'Sheet122', 'Sheet123', 'Sheet124', 'Sheet125', 'Sheet126', 'Sheet127', 'Sheet128', 'Sheet129', 'Sheet130', 'Sheet131', 'Sheet132', 'Sheet133', 'Sheet134', 'Sheet135', 'Sheet136', 'Sheet137', 'Sheet138', 'Sheet139', 'Sheet140', 'Sheet141', 'Sheet142', 'Sheet143', 'Sheet144', 'Sheet145', 'Sheet146', 'Sheet147', 'Sheet148', 'Sheet149', 'Sheet150', 'Sheet151', 'Sheet152', 'Sheet153', 'Sheet154', 'Sheet155', 'Sheet156', 'Sheet157', 'Sheet158', 'Sheet159', 'Sheet160', 'Sheet161', 'Sheet162', 'Sheet163', 'Sheet164', 'Sheet165', 'Sheet166', 'Sheet167', 'Sheet168', 'Sheet169', 'Sheet170', 'Sheet171', 'Sheet172', 'Sheet173', 'Sheet174', 'Sheet175', 'Sheet176', 'Sheet177', 'Sheet178', 'Sheet179', 'Sheet180', 'Sheet181', 'Sheet182', 'Sheet183', 'Sheet184', 'Sheet185', 'Sheet186'])\n"
     ]
    }
   ],
   "source": [
    "# Print the sheet names\n",
    "print(K_sets.keys())"
   ]
  },
  {
   "cell_type": "code",
   "execution_count": 7,
   "metadata": {},
   "outputs": [
    {
     "name": "stdout",
     "output_type": "stream",
     "text": [
      "dict_keys(['KEGG_ABC_TRANSPORTERS', 'KEGG_ACUTE_MYELOID_LEUKEMIA', 'KEGG_ADHERENS_JUNCTION', 'KEGG_ADIPOCYTOKINE_SIGNALING_PATHWAY', 'KEGG_ALANINE_ASPARTATE_AND_GLUTAMATE_METABOLISM', 'KEGG_ALDOSTERONE_REGULATED_SODIUM_REABSORPTION', 'KEGG_ALLOGRAFT_REJECTION', 'KEGG_ALPHA_LINOLENIC_ACID_METABOLISM', 'KEGG_ALZHEIMERS_DISEASE', 'KEGG_AMINO_SUGAR_AND_NUCLEOTIDE_SUGAR_METABOLISM', 'KEGG_AMINOACYL_TRNA_BIOSYNTHESIS', 'KEGG_AMYOTROPHIC_LATERAL_SCLEROSIS_ALS', 'KEGG_ANTIGEN_PROCESSING_AND_PRESENTATION', 'KEGG_APOPTOSIS', 'KEGG_ARACHIDONIC_ACID_METABOLISM', 'KEGG_ARGININE_AND_PROLINE_METABOLISM', 'KEGG_ARRHYTHMOGENIC_RIGHT_VENTRICULAR_CARDIOMYOPATHY_ARVC', 'KEGG_ASCORBATE_AND_ALDARATE_METABOLISM', 'KEGG_ASTHMA', 'KEGG_AUTOIMMUNE_THYROID_DISEASE', 'KEGG_AXON_GUIDANCE', 'KEGG_B_CELL_RECEPTOR_SIGNALING_PATHWAY', 'KEGG_BASAL_CELL_CARCINOMA', 'KEGG_BASAL_TRANSCRIPTION_FACTORS', 'KEGG_BASE_EXCISION_REPAIR', 'KEGG_BETA_ALANINE_METABOLISM', 'KEGG_BIOSYNTHESIS_OF_UNSATURATED_FATTY_ACIDS', 'KEGG_BLADDER_CANCER', 'KEGG_BUTANOATE_METABOLISM', 'KEGG_CALCIUM_SIGNALING_PATHWAY', 'KEGG_CARDIAC_MUSCLE_CONTRACTION', 'KEGG_CELL_ADHESION_MOLECULES_CAMS', 'KEGG_CELL_CYCLE', 'KEGG_CHEMOKINE_SIGNALING_PATHWAY', 'KEGG_CHRONIC_MYELOID_LEUKEMIA', 'KEGG_CIRCADIAN_RHYTHM_MAMMAL', 'KEGG_CITRATE_CYCLE_TCA_CYCLE', 'KEGG_COLORECTAL_CANCER', 'KEGG_COMPLEMENT_AND_COAGULATION_CASCADES', 'KEGG_CYSTEINE_AND_METHIONINE_METABOLISM', 'KEGG_CYTOKINE_CYTOKINE_RECEPTOR_INTERACTION', 'KEGG_CYTOSOLIC_DNA_SENSING_PATHWAY', 'KEGG_DILATED_CARDIOMYOPATHY', 'KEGG_DNA_REPLICATION', 'KEGG_DORSO_VENTRAL_AXIS_FORMATION', 'KEGG_DRUG_METABOLISM_CYTOCHROME_P450', 'KEGG_DRUG_METABOLISM_OTHER_ENZYMES', 'KEGG_ECM_RECEPTOR_INTERACTION', 'KEGG_ENDOCYTOSIS', 'KEGG_ENDOMETRIAL_CANCER', 'KEGG_EPITHELIAL_CELL_SIGNALING_IN_HELICOBACTER_PYLORI_INFECTION', 'KEGG_ERBB_SIGNALING_PATHWAY', 'KEGG_ETHER_LIPID_METABOLISM', 'KEGG_FATTY_ACID_METABOLISM', 'KEGG_FC_EPSILON_RI_SIGNALING_PATHWAY', 'KEGG_FC_GAMMA_R_MEDIATED_PHAGOCYTOSIS', 'KEGG_FOCAL_ADHESION', 'KEGG_FOLATE_BIOSYNTHESIS', 'KEGG_FRUCTOSE_AND_MANNOSE_METABOLISM', 'KEGG_GALACTOSE_METABOLISM', 'KEGG_GAP_JUNCTION', 'KEGG_GLIOMA', 'KEGG_GLUTATHIONE_METABOLISM', 'KEGG_GLYCEROLIPID_METABOLISM', 'KEGG_GLYCEROPHOSPHOLIPID_METABOLISM', 'KEGG_GLYCINE_SERINE_AND_THREONINE_METABOLISM', 'KEGG_GLYCOLYSIS_GLUCONEOGENESIS', 'KEGG_GLYCOSAMINOGLYCAN_BIOSYNTHESIS_CHONDROITIN_SULFATE', 'KEGG_GLYCOSAMINOGLYCAN_BIOSYNTHESIS_HEPARAN_SULFATE', 'KEGG_GLYCOSAMINOGLYCAN_BIOSYNTHESIS_KERATAN_SULFATE', 'KEGG_GLYCOSAMINOGLYCAN_DEGRADATION', 'KEGG_GLYCOSPHINGOLIPID_BIOSYNTHESIS_GANGLIO_SERIES', 'KEGG_GLYCOSPHINGOLIPID_BIOSYNTHESIS_GLOBO_SERIES', 'KEGG_GLYCOSPHINGOLIPID_BIOSYNTHESIS_LACTO_AND_NEOLACTO_SERIES', 'KEGG_GLYCOSYLPHOSPHATIDYLINOSITOL_GPI_ANCHOR_BIOSYNTHESIS', 'KEGG_GLYOXYLATE_AND_DICARBOXYLATE_METABOLISM', 'KEGG_GNRH_SIGNALING_PATHWAY', 'KEGG_GRAFT_VERSUS_HOST_DISEASE', 'KEGG_HEDGEHOG_SIGNALING_PATHWAY', 'KEGG_HEMATOPOIETIC_CELL_LINEAGE', 'KEGG_HISTIDINE_METABOLISM', 'KEGG_HOMOLOGOUS_RECOMBINATION', 'KEGG_HUNTINGTONS_DISEASE', 'KEGG_HYPERTROPHIC_CARDIOMYOPATHY_HCM', 'KEGG_INOSITOL_PHOSPHATE_METABOLISM', 'KEGG_INSULIN_SIGNALING_PATHWAY', 'KEGG_INTESTINAL_IMMUNE_NETWORK_FOR_IGA_PRODUCTION', 'KEGG_JAK_STAT_SIGNALING_PATHWAY', 'KEGG_LEISHMANIA_INFECTION', 'KEGG_LEUKOCYTE_TRANSENDOTHELIAL_MIGRATION', 'KEGG_LIMONENE_AND_PINENE_DEGRADATION', 'KEGG_LINOLEIC_ACID_METABOLISM', 'KEGG_LONG_TERM_DEPRESSION', 'KEGG_LONG_TERM_POTENTIATION', 'KEGG_LYSINE_DEGRADATION', 'KEGG_LYSOSOME', 'KEGG_MAPK_SIGNALING_PATHWAY', 'KEGG_MATURITY_ONSET_DIABETES_OF_THE_YOUNG', 'KEGG_MELANOGENESIS', 'KEGG_MELANOMA', 'KEGG_METABOLISM_OF_XENOBIOTICS_BY_CYTOCHROME_P450', 'KEGG_MISMATCH_REPAIR', 'KEGG_MTOR_SIGNALING_PATHWAY', 'KEGG_N_GLYCAN_BIOSYNTHESIS', 'KEGG_NATURAL_KILLER_CELL_MEDIATED_CYTOTOXICITY', 'KEGG_NEUROACTIVE_LIGAND_RECEPTOR_INTERACTION', 'KEGG_NEUROTROPHIN_SIGNALING_PATHWAY', 'KEGG_NICOTINATE_AND_NICOTINAMIDE_METABOLISM', 'KEGG_NITROGEN_METABOLISM', 'KEGG_NOD_LIKE_RECEPTOR_SIGNALING_PATHWAY', 'KEGG_NON_HOMOLOGOUS_END_JOINING', 'KEGG_NON_SMALL_CELL_LUNG_CANCER', 'KEGG_NOTCH_SIGNALING_PATHWAY', 'KEGG_NUCLEOTIDE_EXCISION_REPAIR', 'KEGG_O_GLYCAN_BIOSYNTHESIS', 'KEGG_OLFACTORY_TRANSDUCTION', 'KEGG_ONE_CARBON_POOL_BY_FOLATE', 'KEGG_OOCYTE_MEIOSIS', 'KEGG_OTHER_GLYCAN_DEGRADATION', 'KEGG_OXIDATIVE_PHOSPHORYLATION', 'KEGG_P53_SIGNALING_PATHWAY', 'KEGG_PANCREATIC_CANCER', 'KEGG_PANTOTHENATE_AND_COA_BIOSYNTHESIS', 'KEGG_PARKINSONS_DISEASE', 'KEGG_PATHOGENIC_ESCHERICHIA_COLI_INFECTION', 'KEGG_PATHWAYS_IN_CANCER', 'KEGG_PENTOSE_AND_GLUCURONATE_INTERCONVERSIONS', 'KEGG_PENTOSE_PHOSPHATE_PATHWAY', 'KEGG_PEROXISOME', 'KEGG_PHENYLALANINE_METABOLISM', 'KEGG_PHOSPHATIDYLINOSITOL_SIGNALING_SYSTEM', 'KEGG_PORPHYRIN_AND_CHLOROPHYLL_METABOLISM', 'KEGG_PPAR_SIGNALING_PATHWAY', 'KEGG_PRIMARY_BILE_ACID_BIOSYNTHESIS', 'KEGG_PRIMARY_IMMUNODEFICIENCY', 'KEGG_PRION_DISEASES', 'KEGG_PROGESTERONE_MEDIATED_OOCYTE_MATURATION', 'KEGG_PROPANOATE_METABOLISM', 'KEGG_PROSTATE_CANCER', 'KEGG_PROTEASOME', 'KEGG_PROTEIN_EXPORT', 'KEGG_PROXIMAL_TUBULE_BICARBONATE_RECLAMATION', 'KEGG_PURINE_METABOLISM', 'KEGG_PYRIMIDINE_METABOLISM', 'KEGG_PYRUVATE_METABOLISM', 'KEGG_REGULATION_OF_ACTIN_CYTOSKELETON', 'KEGG_REGULATION_OF_AUTOPHAGY', 'KEGG_RENAL_CELL_CARCINOMA', 'KEGG_RENIN_ANGIOTENSIN_SYSTEM', 'KEGG_RETINOL_METABOLISM', 'KEGG_RIBOFLAVIN_METABOLISM', 'KEGG_RIBOSOME', 'KEGG_RIG_I_LIKE_RECEPTOR_SIGNALING_PATHWAY', 'KEGG_RNA_DEGRADATION', 'KEGG_RNA_POLYMERASE', 'KEGG_SELENOAMINO_ACID_METABOLISM', 'KEGG_SMALL_CELL_LUNG_CANCER', 'KEGG_SNARE_INTERACTIONS_IN_VESICULAR_TRANSPORT', 'KEGG_SPHINGOLIPID_METABOLISM', 'KEGG_SPLICEOSOME', 'KEGG_STARCH_AND_SUCROSE_METABOLISM', 'KEGG_STEROID_BIOSYNTHESIS', 'KEGG_STEROID_HORMONE_BIOSYNTHESIS', 'KEGG_SULFUR_METABOLISM', 'KEGG_SYSTEMIC_LUPUS_ERYTHEMATOSUS', 'KEGG_T_CELL_RECEPTOR_SIGNALING_PATHWAY', 'KEGG_TASTE_TRANSDUCTION', 'KEGG_TAURINE_AND_HYPOTAURINE_METABOLISM', 'KEGG_TERPENOID_BACKBONE_BIOSYNTHESIS', 'KEGG_TGF_BETA_SIGNALING_PATHWAY', 'KEGG_THYROID_CANCER', 'KEGG_TIGHT_JUNCTION', 'KEGG_TOLL_LIKE_RECEPTOR_SIGNALING_PATHWAY', 'KEGG_TRYPTOPHAN_METABOLISM', 'KEGG_TYPE_I_DIABETES_MELLITUS', 'KEGG_TYPE_II_DIABETES_MELLITUS', 'KEGG_TYROSINE_METABOLISM', 'KEGG_UBIQUITIN_MEDIATED_PROTEOLYSIS', 'KEGG_VALINE_LEUCINE_AND_ISOLEUCINE_BIOSYNTHESIS', 'KEGG_VALINE_LEUCINE_AND_ISOLEUCINE_DEGRADATION', 'KEGG_VASCULAR_SMOOTH_MUSCLE_CONTRACTION', 'KEGG_VASOPRESSIN_REGULATED_WATER_REABSORPTION', 'KEGG_VEGF_SIGNALING_PATHWAY', 'KEGG_VIBRIO_CHOLERAE_INFECTION', 'KEGG_VIRAL_MYOCARDITIS', 'KEGG_WNT_SIGNALING_PATHWAY'])\n"
     ]
    }
   ],
   "source": [
    "# Change keys to be gene set name (the first value in the 'gs_name' column) instead of Sheet1 etc \n",
    "K_sets2 = {df[\"gs_name\"].iloc[0]: df for _, df in K_sets.items()}\n",
    "K_sets = K_sets2\n",
    "\n",
    "# Result\n",
    "print(K_sets.keys())"
   ]
  },
  {
   "cell_type": "code",
   "execution_count": 8,
   "metadata": {},
   "outputs": [],
   "source": [
    "# Keys to include in new dictionary\n",
    "keys_include = [\"KEGG_ADIPOCYTOKINE_SIGNALING_PATHWAY\",\n",
    "\"KEGG_ANTIGEN_PROCESSING_AND_PRESENTATION\",\n",
    "\"KEGG_APOPTOSIS\",\n",
    "\"KEGG_CALCIUM_SIGNALING_PATHWAY\",\n",
    "\"KEGG_CELL_ADHESION_MOLECULES_CAMS\",\n",
    "\"KEGG_CHEMOKINE_SIGNALING_PATHWAY\",\n",
    "\"KEGG_CYTOKINE_CYTOKINE_RECEPTOR_INTERACTION\",\n",
    "\"KEGG_CYTOSOLIC_DNA_SENSING_PATHWAY\",\n",
    "\"KEGG_ENDOCYTOSIS\",\n",
    "\"KEGG_FATTY_ACID_METABOLISM\",\n",
    "\"KEGG_FC_GAMMA_R_MEDIATED_PHAGOCYTOSIS\",\n",
    "\"KEGG_GLYCOLYSIS_GLUCONEOGENESIS\",\n",
    "\"KEGG_JAK_STAT_SIGNALING_PATHWAY\",\n",
    "\"KEGG_MAPK_SIGNALING_PATHWAY\",\n",
    "\"KEGG_NOD_LIKE_RECEPTOR_SIGNALING_PATHWAY\",\n",
    "\"KEGG_NOTCH_SIGNALING_PATHWAY\",\n",
    "\"KEGG_OXIDATIVE_PHOSPHORYLATION\",\n",
    "\"KEGG_PROTEASOME\",\n",
    "\"KEGG_PROTEIN_EXPORT\",\n",
    "\"KEGG_TGF_BETA_SIGNALING_PATHWAY\",\n",
    "\"KEGG_TOLL_LIKE_RECEPTOR_SIGNALING_PATHWAY\",\n",
    "\"KEGG_TYROSINE_METABOLISM\",\n",
    "\"KEGG_UBIQUITIN_MEDIATED_PROTEOLYSIS\",\n",
    "\"KEGG_VEGF_SIGNALING_PATHWAY\"]"
   ]
  },
  {
   "cell_type": "code",
   "execution_count": 9,
   "metadata": {},
   "outputs": [],
   "source": [
    "# create a new dictionary with select keys (pathway sets)\n",
    "K_sets_sub = {key: K_sets[key] for key in keys_include if key in K_sets}"
   ]
  },
  {
   "cell_type": "code",
   "execution_count": 10,
   "metadata": {},
   "outputs": [
    {
     "name": "stdout",
     "output_type": "stream",
     "text": [
      "dict_keys(['KEGG_ADIPOCYTOKINE_SIGNALING_PATHWAY', 'KEGG_ANTIGEN_PROCESSING_AND_PRESENTATION', 'KEGG_APOPTOSIS', 'KEGG_CALCIUM_SIGNALING_PATHWAY', 'KEGG_CELL_ADHESION_MOLECULES_CAMS', 'KEGG_CHEMOKINE_SIGNALING_PATHWAY', 'KEGG_CYTOKINE_CYTOKINE_RECEPTOR_INTERACTION', 'KEGG_CYTOSOLIC_DNA_SENSING_PATHWAY', 'KEGG_ENDOCYTOSIS', 'KEGG_FATTY_ACID_METABOLISM', 'KEGG_FC_GAMMA_R_MEDIATED_PHAGOCYTOSIS', 'KEGG_GLYCOLYSIS_GLUCONEOGENESIS', 'KEGG_JAK_STAT_SIGNALING_PATHWAY', 'KEGG_MAPK_SIGNALING_PATHWAY', 'KEGG_NOD_LIKE_RECEPTOR_SIGNALING_PATHWAY', 'KEGG_NOTCH_SIGNALING_PATHWAY', 'KEGG_OXIDATIVE_PHOSPHORYLATION', 'KEGG_PROTEASOME', 'KEGG_PROTEIN_EXPORT', 'KEGG_TGF_BETA_SIGNALING_PATHWAY', 'KEGG_TOLL_LIKE_RECEPTOR_SIGNALING_PATHWAY', 'KEGG_TYROSINE_METABOLISM', 'KEGG_UBIQUITIN_MEDIATED_PROTEOLYSIS', 'KEGG_VEGF_SIGNALING_PATHWAY'])\n"
     ]
    }
   ],
   "source": [
    "print(K_sets_sub.keys())"
   ]
  },
  {
   "cell_type": "code",
   "execution_count": 11,
   "metadata": {},
   "outputs": [],
   "source": [
    "custom_order = ['HGSOC','BC','CRC','GAC','GBM','HCC','HNSCC','MEL','NPC','NSCLC','PDAC','iCCA']"
   ]
  },
  {
   "cell_type": "code",
   "execution_count": 13,
   "metadata": {},
   "outputs": [
    {
     "data": {
      "text/plain": [
       "'/scratch/user/s4436039/scdata/Pathway4Prism'"
      ]
     },
     "execution_count": 13,
     "metadata": {},
     "output_type": "execute_result"
    }
   ],
   "source": [
    "#set current directory \n",
    "os.chdir('/scratch/user/s4436039/scdata/Pathway4Prism')\n",
    "os.getcwd()"
   ]
  },
  {
   "cell_type": "markdown",
   "metadata": {},
   "source": [
    "# loop through all pathways and export an excel containing scores per sample, grouped by cancer type, for each DC subset"
   ]
  },
  {
   "cell_type": "code",
   "execution_count": 14,
   "metadata": {},
   "outputs": [
    {
     "name": "stdout",
     "output_type": "stream",
     "text": [
      "WARNING: genes are not in var_names and ignored: Index(['ADIPOQ', 'AGRP', 'G6PC1', 'G6PC2', 'IRS4', 'LEP', 'NPY', 'PCK1',\n",
      "       'PRKAG3'],\n",
      "      dtype='object')\n"
     ]
    },
    {
     "name": "stdout",
     "output_type": "stream",
     "text": [
      "WARNING: genes are not in var_names and ignored: Index(['ADIPOQ', 'AGRP', 'G6PC1', 'G6PC2', 'IRS4', 'LEP', 'NPY', 'PCK1',\n",
      "       'PRKAG3'],\n",
      "      dtype='object')\n"
     ]
    },
    {
     "name": "stderr",
     "output_type": "stream",
     "text": [
      "/home/s4436039/miniforge3/envs/env/lib/python3.12/site-packages/scanpy/tools/_score_genes.py:176: ImplicitModificationWarning: Trying to modify attribute `.obs` of view, initializing view as actual.\n",
      "  adata.obs[score_name] = pd.Series(\n"
     ]
    },
    {
     "name": "stdout",
     "output_type": "stream",
     "text": [
      "WARNING: genes are not in var_names and ignored: Index(['ADIPOQ', 'AGRP', 'G6PC1', 'G6PC2', 'IRS4', 'LEP', 'NPY', 'PCK1',\n",
      "       'PRKAG3'],\n",
      "      dtype='object')\n"
     ]
    },
    {
     "name": "stderr",
     "output_type": "stream",
     "text": [
      "/home/s4436039/miniforge3/envs/env/lib/python3.12/site-packages/scanpy/tools/_score_genes.py:176: ImplicitModificationWarning: Trying to modify attribute `.obs` of view, initializing view as actual.\n",
      "  adata.obs[score_name] = pd.Series(\n",
      "/home/s4436039/miniforge3/envs/env/lib/python3.12/site-packages/scanpy/tools/_score_genes.py:176: ImplicitModificationWarning: Trying to modify attribute `.obs` of view, initializing view as actual.\n",
      "  adata.obs[score_name] = pd.Series(\n",
      "/scratch/temp/11907333/ipykernel_3686815/3113065282.py:15: FutureWarning: The default of observed=False is deprecated and will be changed to True in a future version of pandas. Pass observed=False to retain current behavior or observed=True to adopt the future default and silence this warning.\n",
      "  score_DC1 = data_DC1.obs.groupby(\"integration_id\")[score_column].mean().reset_index()\n",
      "/scratch/temp/11907333/ipykernel_3686815/3113065282.py:25: FutureWarning: The default of observed=False is deprecated and will be changed to True in a future version of pandas. Pass observed=False to retain current behavior or observed=True to adopt the future default and silence this warning.\n",
      "  score_DC1['replicate'] = score_DC1.groupby('cancer_broadest').cumcount()\n",
      "/scratch/temp/11907333/ipykernel_3686815/3113065282.py:34: FutureWarning: The default of observed=False is deprecated and will be changed to True in a future version of pandas. Pass observed=False to retain current behavior or observed=True to adopt the future default and silence this warning.\n",
      "  score_DC2 = data_DC2.obs.groupby(\"integration_id\")[score_column].mean().reset_index()\n",
      "/scratch/temp/11907333/ipykernel_3686815/3113065282.py:44: FutureWarning: The default of observed=False is deprecated and will be changed to True in a future version of pandas. Pass observed=False to retain current behavior or observed=True to adopt the future default and silence this warning.\n",
      "  score_DC2['replicate'] = score_DC2.groupby('cancer_broadest').cumcount()\n",
      "/scratch/temp/11907333/ipykernel_3686815/3113065282.py:52: FutureWarning: The default of observed=False is deprecated and will be changed to True in a future version of pandas. Pass observed=False to retain current behavior or observed=True to adopt the future default and silence this warning.\n",
      "  score_mregDC = data_mregDC.obs.groupby(\"integration_id\")[score_column].mean().reset_index()\n",
      "/scratch/temp/11907333/ipykernel_3686815/3113065282.py:62: FutureWarning: The default of observed=False is deprecated and will be changed to True in a future version of pandas. Pass observed=False to retain current behavior or observed=True to adopt the future default and silence this warning.\n",
      "  score_mregDC['replicate'] = score_mregDC.groupby('cancer_broadest').cumcount()\n"
     ]
    },
    {
     "name": "stdout",
     "output_type": "stream",
     "text": [
      "WARNING: genes are not in var_names and ignored: Index(['HLA-DRB3', 'HLA-DRB4', 'IFNA1', 'IFNA10', 'IFNA13', 'IFNA14', 'IFNA16',\n",
      "       'IFNA17', 'IFNA2', 'IFNA21', 'IFNA4', 'IFNA5', 'IFNA6', 'IFNA7',\n",
      "       'IFNA8', 'KIR2DL2', 'KIR2DL5A', 'KIR2DS1', 'KIR2DS3', 'KIR2DS4',\n",
      "       'KIR2DS5'],\n",
      "      dtype='object')\n",
      "WARNING: genes are not in var_names and ignored: Index(['HLA-DRB3', 'HLA-DRB4', 'IFNA1', 'IFNA10', 'IFNA13', 'IFNA14', 'IFNA16',\n",
      "       'IFNA17', 'IFNA2', 'IFNA21', 'IFNA4', 'IFNA5', 'IFNA6', 'IFNA7',\n",
      "       'IFNA8', 'KIR2DL2', 'KIR2DL5A', 'KIR2DS1', 'KIR2DS3', 'KIR2DS4',\n",
      "       'KIR2DS5'],\n",
      "      dtype='object')\n",
      "WARNING: genes are not in var_names and ignored: Index(['HLA-DRB3', 'HLA-DRB4', 'IFNA1', 'IFNA10', 'IFNA13', 'IFNA14', 'IFNA16',\n",
      "       'IFNA17', 'IFNA2', 'IFNA21', 'IFNA4', 'IFNA5', 'IFNA6', 'IFNA7',\n",
      "       'IFNA8', 'KIR2DL2', 'KIR2DL5A', 'KIR2DS1', 'KIR2DS3', 'KIR2DS4',\n",
      "       'KIR2DS5'],\n",
      "      dtype='object')\n",
      "WARNING: genes are not in var_names and ignored: Index(['CHP2', 'IL3', 'MAP3K14', 'NGF', 'PPP3R2', 'PRKACG'], dtype='object')\n",
      "WARNING: genes are not in var_names and ignored: Index(['CHP2', 'IL3', 'MAP3K14', 'NGF', 'PPP3R2', 'PRKACG'], dtype='object')\n"
     ]
    },
    {
     "name": "stderr",
     "output_type": "stream",
     "text": [
      "/scratch/temp/11907333/ipykernel_3686815/3113065282.py:15: FutureWarning: The default of observed=False is deprecated and will be changed to True in a future version of pandas. Pass observed=False to retain current behavior or observed=True to adopt the future default and silence this warning.\n",
      "  score_DC1 = data_DC1.obs.groupby(\"integration_id\")[score_column].mean().reset_index()\n",
      "/scratch/temp/11907333/ipykernel_3686815/3113065282.py:25: FutureWarning: The default of observed=False is deprecated and will be changed to True in a future version of pandas. Pass observed=False to retain current behavior or observed=True to adopt the future default and silence this warning.\n",
      "  score_DC1['replicate'] = score_DC1.groupby('cancer_broadest').cumcount()\n",
      "/scratch/temp/11907333/ipykernel_3686815/3113065282.py:34: FutureWarning: The default of observed=False is deprecated and will be changed to True in a future version of pandas. Pass observed=False to retain current behavior or observed=True to adopt the future default and silence this warning.\n",
      "  score_DC2 = data_DC2.obs.groupby(\"integration_id\")[score_column].mean().reset_index()\n",
      "/scratch/temp/11907333/ipykernel_3686815/3113065282.py:44: FutureWarning: The default of observed=False is deprecated and will be changed to True in a future version of pandas. Pass observed=False to retain current behavior or observed=True to adopt the future default and silence this warning.\n",
      "  score_DC2['replicate'] = score_DC2.groupby('cancer_broadest').cumcount()\n",
      "/scratch/temp/11907333/ipykernel_3686815/3113065282.py:52: FutureWarning: The default of observed=False is deprecated and will be changed to True in a future version of pandas. Pass observed=False to retain current behavior or observed=True to adopt the future default and silence this warning.\n",
      "  score_mregDC = data_mregDC.obs.groupby(\"integration_id\")[score_column].mean().reset_index()\n",
      "/scratch/temp/11907333/ipykernel_3686815/3113065282.py:62: FutureWarning: The default of observed=False is deprecated and will be changed to True in a future version of pandas. Pass observed=False to retain current behavior or observed=True to adopt the future default and silence this warning.\n",
      "  score_mregDC['replicate'] = score_mregDC.groupby('cancer_broadest').cumcount()\n"
     ]
    },
    {
     "name": "stdout",
     "output_type": "stream",
     "text": [
      "WARNING: genes are not in var_names and ignored: Index(['CHP2', 'IL3', 'MAP3K14', 'NGF', 'PPP3R2', 'PRKACG'], dtype='object')\n",
      "WARNING: genes are not in var_names and ignored: Index(['ADCY2', 'ADCY8', 'ADRA1A', 'ADRA1D', 'AGTR1', 'ATP2B2', 'ATP2B3',\n",
      "       'AVPR1B', 'BDKRB1', 'CACNA1B', 'CACNA1E', 'CACNA1S', 'CAMK2A', 'CCKAR',\n",
      "       'CCKBR', 'CHP2', 'CHRM1', 'CHRM2', 'CHRM5', 'DRD1', 'DRD5', 'GRM1',\n",
      "       'GRM5', 'GRPR', 'HTR2A', 'HTR2C', 'HTR4', 'HTR5A', 'HTR6', 'LHCGR',\n",
      "       'MYLK3', 'P2RX3', 'PLCZ1', 'PLN', 'PPP3R2', 'PRKACG', 'PTGFR',\n",
      "       'SLC25A31', 'TACR3', 'TRHR', 'VDAC2P5'],\n",
      "      dtype='object')\n",
      "WARNING: genes are not in var_names and ignored: Index(['ADCY2', 'ADCY8', 'ADRA1A', 'ADRA1D', 'AGTR1', 'ATP2B2', 'ATP2B3',\n",
      "       'AVPR1B', 'BDKRB1', 'CACNA1B', 'CACNA1E', 'CACNA1S', 'CAMK2A', 'CCKAR',\n",
      "       'CCKBR', 'CHP2', 'CHRM1', 'CHRM2', 'CHRM5', 'DRD1', 'DRD5', 'GRM1',\n",
      "       'GRM5', 'GRPR', 'HTR2A', 'HTR2C', 'HTR4', 'HTR5A', 'HTR6', 'LHCGR',\n",
      "       'MYLK3', 'P2RX3', 'PLCZ1', 'PLN', 'PPP3R2', 'PRKACG', 'PTGFR',\n",
      "       'SLC25A31', 'TACR3', 'TRHR', 'VDAC2P5'],\n",
      "      dtype='object')\n"
     ]
    },
    {
     "name": "stderr",
     "output_type": "stream",
     "text": [
      "/scratch/temp/11907333/ipykernel_3686815/3113065282.py:15: FutureWarning: The default of observed=False is deprecated and will be changed to True in a future version of pandas. Pass observed=False to retain current behavior or observed=True to adopt the future default and silence this warning.\n",
      "  score_DC1 = data_DC1.obs.groupby(\"integration_id\")[score_column].mean().reset_index()\n",
      "/scratch/temp/11907333/ipykernel_3686815/3113065282.py:25: FutureWarning: The default of observed=False is deprecated and will be changed to True in a future version of pandas. Pass observed=False to retain current behavior or observed=True to adopt the future default and silence this warning.\n",
      "  score_DC1['replicate'] = score_DC1.groupby('cancer_broadest').cumcount()\n",
      "/scratch/temp/11907333/ipykernel_3686815/3113065282.py:34: FutureWarning: The default of observed=False is deprecated and will be changed to True in a future version of pandas. Pass observed=False to retain current behavior or observed=True to adopt the future default and silence this warning.\n",
      "  score_DC2 = data_DC2.obs.groupby(\"integration_id\")[score_column].mean().reset_index()\n",
      "/scratch/temp/11907333/ipykernel_3686815/3113065282.py:44: FutureWarning: The default of observed=False is deprecated and will be changed to True in a future version of pandas. Pass observed=False to retain current behavior or observed=True to adopt the future default and silence this warning.\n",
      "  score_DC2['replicate'] = score_DC2.groupby('cancer_broadest').cumcount()\n",
      "/scratch/temp/11907333/ipykernel_3686815/3113065282.py:52: FutureWarning: The default of observed=False is deprecated and will be changed to True in a future version of pandas. Pass observed=False to retain current behavior or observed=True to adopt the future default and silence this warning.\n",
      "  score_mregDC = data_mregDC.obs.groupby(\"integration_id\")[score_column].mean().reset_index()\n",
      "/scratch/temp/11907333/ipykernel_3686815/3113065282.py:62: FutureWarning: The default of observed=False is deprecated and will be changed to True in a future version of pandas. Pass observed=False to retain current behavior or observed=True to adopt the future default and silence this warning.\n",
      "  score_mregDC['replicate'] = score_mregDC.groupby('cancer_broadest').cumcount()\n"
     ]
    },
    {
     "name": "stdout",
     "output_type": "stream",
     "text": [
      "WARNING: genes are not in var_names and ignored: Index(['ADCY2', 'ADCY8', 'ADRA1A', 'ADRA1D', 'AGTR1', 'ATP2B2', 'ATP2B3',\n",
      "       'AVPR1B', 'BDKRB1', 'CACNA1B', 'CACNA1E', 'CACNA1S', 'CAMK2A', 'CCKAR',\n",
      "       'CCKBR', 'CHP2', 'CHRM1', 'CHRM2', 'CHRM5', 'DRD1', 'DRD5', 'GRM1',\n",
      "       'GRM5', 'GRPR', 'HTR2A', 'HTR2C', 'HTR4', 'HTR5A', 'HTR6', 'LHCGR',\n",
      "       'MYLK3', 'P2RX3', 'PLCZ1', 'PLN', 'PPP3R2', 'PRKACG', 'PTGFR',\n",
      "       'SLC25A31', 'TACR3', 'TRHR', 'VDAC2P5'],\n",
      "      dtype='object')\n",
      "WARNING: genes are not in var_names and ignored: Index(['CDH5', 'CLDN17', 'CLDN18', 'CLDN19', 'CLDN2', 'CLDN20', 'CLDN6',\n",
      "       'CLDN8', 'HLA-DRB3', 'HLA-DRB4', 'NECTIN1', 'NECTIN2', 'NECTIN3',\n",
      "       'PECAM1'],\n",
      "      dtype='object')\n"
     ]
    },
    {
     "name": "stderr",
     "output_type": "stream",
     "text": [
      "/scratch/temp/11907333/ipykernel_3686815/3113065282.py:15: FutureWarning: The default of observed=False is deprecated and will be changed to True in a future version of pandas. Pass observed=False to retain current behavior or observed=True to adopt the future default and silence this warning.\n",
      "  score_DC1 = data_DC1.obs.groupby(\"integration_id\")[score_column].mean().reset_index()\n",
      "/scratch/temp/11907333/ipykernel_3686815/3113065282.py:25: FutureWarning: The default of observed=False is deprecated and will be changed to True in a future version of pandas. Pass observed=False to retain current behavior or observed=True to adopt the future default and silence this warning.\n",
      "  score_DC1['replicate'] = score_DC1.groupby('cancer_broadest').cumcount()\n",
      "/scratch/temp/11907333/ipykernel_3686815/3113065282.py:34: FutureWarning: The default of observed=False is deprecated and will be changed to True in a future version of pandas. Pass observed=False to retain current behavior or observed=True to adopt the future default and silence this warning.\n",
      "  score_DC2 = data_DC2.obs.groupby(\"integration_id\")[score_column].mean().reset_index()\n",
      "/scratch/temp/11907333/ipykernel_3686815/3113065282.py:44: FutureWarning: The default of observed=False is deprecated and will be changed to True in a future version of pandas. Pass observed=False to retain current behavior or observed=True to adopt the future default and silence this warning.\n",
      "  score_DC2['replicate'] = score_DC2.groupby('cancer_broadest').cumcount()\n",
      "/scratch/temp/11907333/ipykernel_3686815/3113065282.py:52: FutureWarning: The default of observed=False is deprecated and will be changed to True in a future version of pandas. Pass observed=False to retain current behavior or observed=True to adopt the future default and silence this warning.\n",
      "  score_mregDC = data_mregDC.obs.groupby(\"integration_id\")[score_column].mean().reset_index()\n",
      "/scratch/temp/11907333/ipykernel_3686815/3113065282.py:62: FutureWarning: The default of observed=False is deprecated and will be changed to True in a future version of pandas. Pass observed=False to retain current behavior or observed=True to adopt the future default and silence this warning.\n",
      "  score_mregDC['replicate'] = score_mregDC.groupby('cancer_broadest').cumcount()\n"
     ]
    },
    {
     "name": "stdout",
     "output_type": "stream",
     "text": [
      "WARNING: genes are not in var_names and ignored: Index(['CDH5', 'CLDN17', 'CLDN18', 'CLDN19', 'CLDN2', 'CLDN20', 'CLDN6',\n",
      "       'CLDN8', 'HLA-DRB3', 'HLA-DRB4', 'NECTIN1', 'NECTIN2', 'NECTIN3',\n",
      "       'PECAM1'],\n",
      "      dtype='object')\n",
      "WARNING: genes are not in var_names and ignored: Index(['CDH5', 'CLDN17', 'CLDN18', 'CLDN19', 'CLDN2', 'CLDN20', 'CLDN6',\n",
      "       'CLDN8', 'HLA-DRB3', 'HLA-DRB4', 'NECTIN1', 'NECTIN2', 'NECTIN3',\n",
      "       'PECAM1'],\n",
      "      dtype='object')\n",
      "WARNING: genes are not in var_names and ignored: Index(['ADCY2', 'ADCY8', 'CCL1', 'CCL11', 'CCL14', 'CCL15', 'CCL16', 'CCL3L1',\n",
      "       'CCL3L3', 'CXCL8', 'GNG13', 'GRK1', 'GRK2', 'GRK3', 'PPBPP1', 'PRKACG'],\n",
      "      dtype='object')\n",
      "WARNING: genes are not in var_names and ignored: Index(['ADCY2', 'ADCY8', 'CCL1', 'CCL11', 'CCL14', 'CCL15', 'CCL16', 'CCL3L1',\n",
      "       'CCL3L3', 'CXCL8', 'GNG13', 'GRK1', 'GRK2', 'GRK3', 'PPBPP1', 'PRKACG'],\n",
      "      dtype='object')\n"
     ]
    },
    {
     "name": "stderr",
     "output_type": "stream",
     "text": [
      "/scratch/temp/11907333/ipykernel_3686815/3113065282.py:15: FutureWarning: The default of observed=False is deprecated and will be changed to True in a future version of pandas. Pass observed=False to retain current behavior or observed=True to adopt the future default and silence this warning.\n",
      "  score_DC1 = data_DC1.obs.groupby(\"integration_id\")[score_column].mean().reset_index()\n",
      "/scratch/temp/11907333/ipykernel_3686815/3113065282.py:25: FutureWarning: The default of observed=False is deprecated and will be changed to True in a future version of pandas. Pass observed=False to retain current behavior or observed=True to adopt the future default and silence this warning.\n",
      "  score_DC1['replicate'] = score_DC1.groupby('cancer_broadest').cumcount()\n",
      "/scratch/temp/11907333/ipykernel_3686815/3113065282.py:34: FutureWarning: The default of observed=False is deprecated and will be changed to True in a future version of pandas. Pass observed=False to retain current behavior or observed=True to adopt the future default and silence this warning.\n",
      "  score_DC2 = data_DC2.obs.groupby(\"integration_id\")[score_column].mean().reset_index()\n",
      "/scratch/temp/11907333/ipykernel_3686815/3113065282.py:44: FutureWarning: The default of observed=False is deprecated and will be changed to True in a future version of pandas. Pass observed=False to retain current behavior or observed=True to adopt the future default and silence this warning.\n",
      "  score_DC2['replicate'] = score_DC2.groupby('cancer_broadest').cumcount()\n",
      "/scratch/temp/11907333/ipykernel_3686815/3113065282.py:52: FutureWarning: The default of observed=False is deprecated and will be changed to True in a future version of pandas. Pass observed=False to retain current behavior or observed=True to adopt the future default and silence this warning.\n",
      "  score_mregDC = data_mregDC.obs.groupby(\"integration_id\")[score_column].mean().reset_index()\n",
      "/scratch/temp/11907333/ipykernel_3686815/3113065282.py:62: FutureWarning: The default of observed=False is deprecated and will be changed to True in a future version of pandas. Pass observed=False to retain current behavior or observed=True to adopt the future default and silence this warning.\n",
      "  score_mregDC['replicate'] = score_mregDC.groupby('cancer_broadest').cumcount()\n"
     ]
    },
    {
     "name": "stdout",
     "output_type": "stream",
     "text": [
      "WARNING: genes are not in var_names and ignored: Index(['ADCY2', 'ADCY8', 'CCL1', 'CCL11', 'CCL14', 'CCL15', 'CCL16', 'CCL3L1',\n",
      "       'CCL3L3', 'CXCL8', 'GNG13', 'GRK1', 'GRK2', 'GRK3', 'PPBPP1', 'PRKACG'],\n",
      "      dtype='object')\n",
      "WARNING: genes are not in var_names and ignored: Index(['CCL1', 'CCL11', 'CCL14', 'CCL15', 'CCL16', 'CCL3L1', 'CCL3L3', 'CXCL8',\n",
      "       'EPO', 'GH2', 'IFNA1', 'IFNA10', 'IFNA13', 'IFNA14', 'IFNA16', 'IFNA17',\n",
      "       'IFNA2', 'IFNA21', 'IFNA4', 'IFNA5', 'IFNA6', 'IFNA7', 'IFNA8', 'IFNK',\n",
      "       'IFNL2', 'IFNL3', 'IFNW1', 'IL17B', 'IL25', 'IL3', 'IL4', 'IL5', 'IL9',\n",
      "       'INHBC', 'LEP', 'PPBPP1', 'PRL', 'TGFB1', 'TNFRSF6B', 'VEGFD'],\n",
      "      dtype='object')\n",
      "WARNING: genes are not in var_names and ignored: Index(['CCL1', 'CCL11', 'CCL14', 'CCL15', 'CCL16', 'CCL3L1', 'CCL3L3', 'CXCL8',\n",
      "       'EPO', 'GH2', 'IFNA1', 'IFNA10', 'IFNA13', 'IFNA14', 'IFNA16', 'IFNA17',\n",
      "       'IFNA2', 'IFNA21', 'IFNA4', 'IFNA5', 'IFNA6', 'IFNA7', 'IFNA8', 'IFNK',\n",
      "       'IFNL2', 'IFNL3', 'IFNW1', 'IL17B', 'IL25', 'IL3', 'IL4', 'IL5', 'IL9',\n",
      "       'INHBC', 'LEP', 'PPBPP1', 'PRL', 'TGFB1', 'TNFRSF6B', 'VEGFD'],\n",
      "      dtype='object')\n"
     ]
    },
    {
     "name": "stderr",
     "output_type": "stream",
     "text": [
      "/scratch/temp/11907333/ipykernel_3686815/3113065282.py:15: FutureWarning: The default of observed=False is deprecated and will be changed to True in a future version of pandas. Pass observed=False to retain current behavior or observed=True to adopt the future default and silence this warning.\n",
      "  score_DC1 = data_DC1.obs.groupby(\"integration_id\")[score_column].mean().reset_index()\n",
      "/scratch/temp/11907333/ipykernel_3686815/3113065282.py:25: FutureWarning: The default of observed=False is deprecated and will be changed to True in a future version of pandas. Pass observed=False to retain current behavior or observed=True to adopt the future default and silence this warning.\n",
      "  score_DC1['replicate'] = score_DC1.groupby('cancer_broadest').cumcount()\n",
      "/scratch/temp/11907333/ipykernel_3686815/3113065282.py:34: FutureWarning: The default of observed=False is deprecated and will be changed to True in a future version of pandas. Pass observed=False to retain current behavior or observed=True to adopt the future default and silence this warning.\n",
      "  score_DC2 = data_DC2.obs.groupby(\"integration_id\")[score_column].mean().reset_index()\n",
      "/scratch/temp/11907333/ipykernel_3686815/3113065282.py:44: FutureWarning: The default of observed=False is deprecated and will be changed to True in a future version of pandas. Pass observed=False to retain current behavior or observed=True to adopt the future default and silence this warning.\n",
      "  score_DC2['replicate'] = score_DC2.groupby('cancer_broadest').cumcount()\n",
      "/scratch/temp/11907333/ipykernel_3686815/3113065282.py:52: FutureWarning: The default of observed=False is deprecated and will be changed to True in a future version of pandas. Pass observed=False to retain current behavior or observed=True to adopt the future default and silence this warning.\n",
      "  score_mregDC = data_mregDC.obs.groupby(\"integration_id\")[score_column].mean().reset_index()\n",
      "/scratch/temp/11907333/ipykernel_3686815/3113065282.py:62: FutureWarning: The default of observed=False is deprecated and will be changed to True in a future version of pandas. Pass observed=False to retain current behavior or observed=True to adopt the future default and silence this warning.\n",
      "  score_mregDC['replicate'] = score_mregDC.groupby('cancer_broadest').cumcount()\n"
     ]
    },
    {
     "name": "stdout",
     "output_type": "stream",
     "text": [
      "WARNING: genes are not in var_names and ignored: Index(['CCL1', 'CCL11', 'CCL14', 'CCL15', 'CCL16', 'CCL3L1', 'CCL3L3', 'CXCL8',\n",
      "       'EPO', 'GH2', 'IFNA1', 'IFNA10', 'IFNA13', 'IFNA14', 'IFNA16', 'IFNA17',\n",
      "       'IFNA2', 'IFNA21', 'IFNA4', 'IFNA5', 'IFNA6', 'IFNA7', 'IFNA8', 'IFNK',\n",
      "       'IFNL2', 'IFNL3', 'IFNW1', 'IL17B', 'IL25', 'IL3', 'IL4', 'IL5', 'IL9',\n",
      "       'INHBC', 'LEP', 'PPBPP1', 'PRL', 'TGFB1', 'TNFRSF6B', 'VEGFD'],\n",
      "      dtype='object')\n",
      "WARNING: genes are not in var_names and ignored: Index(['IFNA1', 'IFNA10', 'IFNA13', 'IFNA14', 'IFNA16', 'IFNA17', 'IFNA2',\n",
      "       'IFNA21', 'IFNA4', 'IFNA5', 'IFNA6', 'IFNA7', 'IFNA8', 'STING1'],\n",
      "      dtype='object')\n",
      "WARNING: genes are not in var_names and ignored: Index(['IFNA1', 'IFNA10', 'IFNA13', 'IFNA14', 'IFNA16', 'IFNA17', 'IFNA2',\n",
      "       'IFNA21', 'IFNA4', 'IFNA5', 'IFNA6', 'IFNA7', 'IFNA8', 'STING1'],\n",
      "      dtype='object')\n"
     ]
    },
    {
     "name": "stderr",
     "output_type": "stream",
     "text": [
      "/scratch/temp/11907333/ipykernel_3686815/3113065282.py:15: FutureWarning: The default of observed=False is deprecated and will be changed to True in a future version of pandas. Pass observed=False to retain current behavior or observed=True to adopt the future default and silence this warning.\n",
      "  score_DC1 = data_DC1.obs.groupby(\"integration_id\")[score_column].mean().reset_index()\n",
      "/scratch/temp/11907333/ipykernel_3686815/3113065282.py:25: FutureWarning: The default of observed=False is deprecated and will be changed to True in a future version of pandas. Pass observed=False to retain current behavior or observed=True to adopt the future default and silence this warning.\n",
      "  score_DC1['replicate'] = score_DC1.groupby('cancer_broadest').cumcount()\n",
      "/scratch/temp/11907333/ipykernel_3686815/3113065282.py:34: FutureWarning: The default of observed=False is deprecated and will be changed to True in a future version of pandas. Pass observed=False to retain current behavior or observed=True to adopt the future default and silence this warning.\n",
      "  score_DC2 = data_DC2.obs.groupby(\"integration_id\")[score_column].mean().reset_index()\n",
      "/scratch/temp/11907333/ipykernel_3686815/3113065282.py:44: FutureWarning: The default of observed=False is deprecated and will be changed to True in a future version of pandas. Pass observed=False to retain current behavior or observed=True to adopt the future default and silence this warning.\n",
      "  score_DC2['replicate'] = score_DC2.groupby('cancer_broadest').cumcount()\n",
      "/scratch/temp/11907333/ipykernel_3686815/3113065282.py:52: FutureWarning: The default of observed=False is deprecated and will be changed to True in a future version of pandas. Pass observed=False to retain current behavior or observed=True to adopt the future default and silence this warning.\n",
      "  score_mregDC = data_mregDC.obs.groupby(\"integration_id\")[score_column].mean().reset_index()\n",
      "/scratch/temp/11907333/ipykernel_3686815/3113065282.py:62: FutureWarning: The default of observed=False is deprecated and will be changed to True in a future version of pandas. Pass observed=False to retain current behavior or observed=True to adopt the future default and silence this warning.\n",
      "  score_mregDC['replicate'] = score_mregDC.groupby('cancer_broadest').cumcount()\n"
     ]
    },
    {
     "name": "stdout",
     "output_type": "stream",
     "text": [
      "WARNING: genes are not in var_names and ignored: Index(['IFNA1', 'IFNA10', 'IFNA13', 'IFNA14', 'IFNA16', 'IFNA17', 'IFNA2',\n",
      "       'IFNA21', 'IFNA4', 'IFNA5', 'IFNA6', 'IFNA7', 'IFNA8', 'STING1'],\n",
      "      dtype='object')\n",
      "WARNING: genes are not in var_names and ignored: Index(['GRK1', 'GRK2', 'GRK3', 'PSD2', 'RBSN', 'SH3GL2'], dtype='object')\n",
      "WARNING: genes are not in var_names and ignored: Index(['GRK1', 'GRK2', 'GRK3', 'PSD2', 'RBSN', 'SH3GL2'], dtype='object')\n"
     ]
    },
    {
     "name": "stderr",
     "output_type": "stream",
     "text": [
      "/scratch/temp/11907333/ipykernel_3686815/3113065282.py:15: FutureWarning: The default of observed=False is deprecated and will be changed to True in a future version of pandas. Pass observed=False to retain current behavior or observed=True to adopt the future default and silence this warning.\n",
      "  score_DC1 = data_DC1.obs.groupby(\"integration_id\")[score_column].mean().reset_index()\n",
      "/scratch/temp/11907333/ipykernel_3686815/3113065282.py:25: FutureWarning: The default of observed=False is deprecated and will be changed to True in a future version of pandas. Pass observed=False to retain current behavior or observed=True to adopt the future default and silence this warning.\n",
      "  score_DC1['replicate'] = score_DC1.groupby('cancer_broadest').cumcount()\n",
      "/scratch/temp/11907333/ipykernel_3686815/3113065282.py:34: FutureWarning: The default of observed=False is deprecated and will be changed to True in a future version of pandas. Pass observed=False to retain current behavior or observed=True to adopt the future default and silence this warning.\n",
      "  score_DC2 = data_DC2.obs.groupby(\"integration_id\")[score_column].mean().reset_index()\n",
      "/scratch/temp/11907333/ipykernel_3686815/3113065282.py:44: FutureWarning: The default of observed=False is deprecated and will be changed to True in a future version of pandas. Pass observed=False to retain current behavior or observed=True to adopt the future default and silence this warning.\n",
      "  score_DC2['replicate'] = score_DC2.groupby('cancer_broadest').cumcount()\n",
      "/scratch/temp/11907333/ipykernel_3686815/3113065282.py:52: FutureWarning: The default of observed=False is deprecated and will be changed to True in a future version of pandas. Pass observed=False to retain current behavior or observed=True to adopt the future default and silence this warning.\n",
      "  score_mregDC = data_mregDC.obs.groupby(\"integration_id\")[score_column].mean().reset_index()\n",
      "/scratch/temp/11907333/ipykernel_3686815/3113065282.py:62: FutureWarning: The default of observed=False is deprecated and will be changed to True in a future version of pandas. Pass observed=False to retain current behavior or observed=True to adopt the future default and silence this warning.\n",
      "  score_mregDC['replicate'] = score_mregDC.groupby('cancer_broadest').cumcount()\n"
     ]
    },
    {
     "name": "stdout",
     "output_type": "stream",
     "text": [
      "WARNING: genes are not in var_names and ignored: Index(['GRK1', 'GRK2', 'GRK3', 'PSD2', 'RBSN', 'SH3GL2'], dtype='object')\n",
      "WARNING: genes are not in var_names and ignored: Index(['ADH1A', 'ADH1B', 'ADH1C', 'ADH4', 'ADH6', 'CYP4A11', 'CYP4A22'], dtype='object')\n",
      "WARNING: genes are not in var_names and ignored: Index(['ADH1A', 'ADH1B', 'ADH1C', 'ADH4', 'ADH6', 'CYP4A11', 'CYP4A22'], dtype='object')\n"
     ]
    },
    {
     "name": "stderr",
     "output_type": "stream",
     "text": [
      "/scratch/temp/11907333/ipykernel_3686815/3113065282.py:15: FutureWarning: The default of observed=False is deprecated and will be changed to True in a future version of pandas. Pass observed=False to retain current behavior or observed=True to adopt the future default and silence this warning.\n",
      "  score_DC1 = data_DC1.obs.groupby(\"integration_id\")[score_column].mean().reset_index()\n",
      "/scratch/temp/11907333/ipykernel_3686815/3113065282.py:25: FutureWarning: The default of observed=False is deprecated and will be changed to True in a future version of pandas. Pass observed=False to retain current behavior or observed=True to adopt the future default and silence this warning.\n",
      "  score_DC1['replicate'] = score_DC1.groupby('cancer_broadest').cumcount()\n",
      "/scratch/temp/11907333/ipykernel_3686815/3113065282.py:34: FutureWarning: The default of observed=False is deprecated and will be changed to True in a future version of pandas. Pass observed=False to retain current behavior or observed=True to adopt the future default and silence this warning.\n",
      "  score_DC2 = data_DC2.obs.groupby(\"integration_id\")[score_column].mean().reset_index()\n",
      "/scratch/temp/11907333/ipykernel_3686815/3113065282.py:44: FutureWarning: The default of observed=False is deprecated and will be changed to True in a future version of pandas. Pass observed=False to retain current behavior or observed=True to adopt the future default and silence this warning.\n",
      "  score_DC2['replicate'] = score_DC2.groupby('cancer_broadest').cumcount()\n",
      "/scratch/temp/11907333/ipykernel_3686815/3113065282.py:52: FutureWarning: The default of observed=False is deprecated and will be changed to True in a future version of pandas. Pass observed=False to retain current behavior or observed=True to adopt the future default and silence this warning.\n",
      "  score_mregDC = data_mregDC.obs.groupby(\"integration_id\")[score_column].mean().reset_index()\n",
      "/scratch/temp/11907333/ipykernel_3686815/3113065282.py:62: FutureWarning: The default of observed=False is deprecated and will be changed to True in a future version of pandas. Pass observed=False to retain current behavior or observed=True to adopt the future default and silence this warning.\n",
      "  score_mregDC['replicate'] = score_mregDC.groupby('cancer_broadest').cumcount()\n"
     ]
    },
    {
     "name": "stdout",
     "output_type": "stream",
     "text": [
      "WARNING: genes are not in var_names and ignored: Index(['ADH1A', 'ADH1B', 'ADH1C', 'ADH4', 'ADH6', 'CYP4A11', 'CYP4A22'], dtype='object')\n",
      "WARNING: genes are not in var_names and ignored: Index(['AMPH', 'FCGR2C', 'PLA2G4D', 'PLPP1', 'PLPP2', 'PLPP3'], dtype='object')\n",
      "WARNING: genes are not in var_names and ignored: Index(['AMPH', 'FCGR2C', 'PLA2G4D', 'PLPP1', 'PLPP2', 'PLPP3'], dtype='object')\n"
     ]
    },
    {
     "name": "stderr",
     "output_type": "stream",
     "text": [
      "/scratch/temp/11907333/ipykernel_3686815/3113065282.py:15: FutureWarning: The default of observed=False is deprecated and will be changed to True in a future version of pandas. Pass observed=False to retain current behavior or observed=True to adopt the future default and silence this warning.\n",
      "  score_DC1 = data_DC1.obs.groupby(\"integration_id\")[score_column].mean().reset_index()\n",
      "/scratch/temp/11907333/ipykernel_3686815/3113065282.py:25: FutureWarning: The default of observed=False is deprecated and will be changed to True in a future version of pandas. Pass observed=False to retain current behavior or observed=True to adopt the future default and silence this warning.\n",
      "  score_DC1['replicate'] = score_DC1.groupby('cancer_broadest').cumcount()\n",
      "/scratch/temp/11907333/ipykernel_3686815/3113065282.py:34: FutureWarning: The default of observed=False is deprecated and will be changed to True in a future version of pandas. Pass observed=False to retain current behavior or observed=True to adopt the future default and silence this warning.\n",
      "  score_DC2 = data_DC2.obs.groupby(\"integration_id\")[score_column].mean().reset_index()\n",
      "/scratch/temp/11907333/ipykernel_3686815/3113065282.py:44: FutureWarning: The default of observed=False is deprecated and will be changed to True in a future version of pandas. Pass observed=False to retain current behavior or observed=True to adopt the future default and silence this warning.\n",
      "  score_DC2['replicate'] = score_DC2.groupby('cancer_broadest').cumcount()\n",
      "/scratch/temp/11907333/ipykernel_3686815/3113065282.py:52: FutureWarning: The default of observed=False is deprecated and will be changed to True in a future version of pandas. Pass observed=False to retain current behavior or observed=True to adopt the future default and silence this warning.\n",
      "  score_mregDC = data_mregDC.obs.groupby(\"integration_id\")[score_column].mean().reset_index()\n",
      "/scratch/temp/11907333/ipykernel_3686815/3113065282.py:62: FutureWarning: The default of observed=False is deprecated and will be changed to True in a future version of pandas. Pass observed=False to retain current behavior or observed=True to adopt the future default and silence this warning.\n",
      "  score_mregDC['replicate'] = score_mregDC.groupby('cancer_broadest').cumcount()\n"
     ]
    },
    {
     "name": "stdout",
     "output_type": "stream",
     "text": [
      "WARNING: genes are not in var_names and ignored: Index(['AMPH', 'FCGR2C', 'PLA2G4D', 'PLPP1', 'PLPP2', 'PLPP3'], dtype='object')\n",
      "WARNING: genes are not in var_names and ignored: Index(['ADH1A', 'ADH1B', 'ADH1C', 'ADH4', 'ADH6', 'ALDOB', 'FBP2', 'G6PC1',\n",
      "       'G6PC2', 'LDHAL6B', 'PCK1', 'PDHA2', 'PGAM4', 'PGK2', 'PKLR'],\n",
      "      dtype='object')\n",
      "WARNING: genes are not in var_names and ignored: Index(['ADH1A', 'ADH1B', 'ADH1C', 'ADH4', 'ADH6', 'ALDOB', 'FBP2', 'G6PC1',\n",
      "       'G6PC2', 'LDHAL6B', 'PCK1', 'PDHA2', 'PGAM4', 'PGK2', 'PKLR'],\n",
      "      dtype='object')\n"
     ]
    },
    {
     "name": "stderr",
     "output_type": "stream",
     "text": [
      "/scratch/temp/11907333/ipykernel_3686815/3113065282.py:15: FutureWarning: The default of observed=False is deprecated and will be changed to True in a future version of pandas. Pass observed=False to retain current behavior or observed=True to adopt the future default and silence this warning.\n",
      "  score_DC1 = data_DC1.obs.groupby(\"integration_id\")[score_column].mean().reset_index()\n",
      "/scratch/temp/11907333/ipykernel_3686815/3113065282.py:25: FutureWarning: The default of observed=False is deprecated and will be changed to True in a future version of pandas. Pass observed=False to retain current behavior or observed=True to adopt the future default and silence this warning.\n",
      "  score_DC1['replicate'] = score_DC1.groupby('cancer_broadest').cumcount()\n",
      "/scratch/temp/11907333/ipykernel_3686815/3113065282.py:34: FutureWarning: The default of observed=False is deprecated and will be changed to True in a future version of pandas. Pass observed=False to retain current behavior or observed=True to adopt the future default and silence this warning.\n",
      "  score_DC2 = data_DC2.obs.groupby(\"integration_id\")[score_column].mean().reset_index()\n",
      "/scratch/temp/11907333/ipykernel_3686815/3113065282.py:44: FutureWarning: The default of observed=False is deprecated and will be changed to True in a future version of pandas. Pass observed=False to retain current behavior or observed=True to adopt the future default and silence this warning.\n",
      "  score_DC2['replicate'] = score_DC2.groupby('cancer_broadest').cumcount()\n",
      "/scratch/temp/11907333/ipykernel_3686815/3113065282.py:52: FutureWarning: The default of observed=False is deprecated and will be changed to True in a future version of pandas. Pass observed=False to retain current behavior or observed=True to adopt the future default and silence this warning.\n",
      "  score_mregDC = data_mregDC.obs.groupby(\"integration_id\")[score_column].mean().reset_index()\n",
      "/scratch/temp/11907333/ipykernel_3686815/3113065282.py:62: FutureWarning: The default of observed=False is deprecated and will be changed to True in a future version of pandas. Pass observed=False to retain current behavior or observed=True to adopt the future default and silence this warning.\n",
      "  score_mregDC['replicate'] = score_mregDC.groupby('cancer_broadest').cumcount()\n"
     ]
    },
    {
     "name": "stdout",
     "output_type": "stream",
     "text": [
      "WARNING: genes are not in var_names and ignored: Index(['ADH1A', 'ADH1B', 'ADH1C', 'ADH4', 'ADH6', 'ALDOB', 'FBP2', 'G6PC1',\n",
      "       'G6PC2', 'LDHAL6B', 'PCK1', 'PDHA2', 'PGAM4', 'PGK2', 'PKLR'],\n",
      "      dtype='object')\n",
      "WARNING: genes are not in var_names and ignored: Index(['CSH1', 'EPO', 'GH2', 'IFNA1', 'IFNA10', 'IFNA13', 'IFNA14', 'IFNA16',\n",
      "       'IFNA17', 'IFNA2', 'IFNA21', 'IFNA4', 'IFNA5', 'IFNA6', 'IFNA7',\n",
      "       'IFNA8', 'IFNK', 'IFNL2', 'IFNL3', 'IFNW1', 'IL3', 'IL4', 'IL5', 'IL9',\n",
      "       'LEP', 'PRL'],\n",
      "      dtype='object')\n",
      "WARNING: genes are not in var_names and ignored: Index(['CSH1', 'EPO', 'GH2', 'IFNA1', 'IFNA10', 'IFNA13', 'IFNA14', 'IFNA16',\n",
      "       'IFNA17', 'IFNA2', 'IFNA21', 'IFNA4', 'IFNA5', 'IFNA6', 'IFNA7',\n",
      "       'IFNA8', 'IFNK', 'IFNL2', 'IFNL3', 'IFNW1', 'IL3', 'IL4', 'IL5', 'IL9',\n",
      "       'LEP', 'PRL'],\n",
      "      dtype='object')\n"
     ]
    },
    {
     "name": "stderr",
     "output_type": "stream",
     "text": [
      "/scratch/temp/11907333/ipykernel_3686815/3113065282.py:15: FutureWarning: The default of observed=False is deprecated and will be changed to True in a future version of pandas. Pass observed=False to retain current behavior or observed=True to adopt the future default and silence this warning.\n",
      "  score_DC1 = data_DC1.obs.groupby(\"integration_id\")[score_column].mean().reset_index()\n",
      "/scratch/temp/11907333/ipykernel_3686815/3113065282.py:25: FutureWarning: The default of observed=False is deprecated and will be changed to True in a future version of pandas. Pass observed=False to retain current behavior or observed=True to adopt the future default and silence this warning.\n",
      "  score_DC1['replicate'] = score_DC1.groupby('cancer_broadest').cumcount()\n",
      "/scratch/temp/11907333/ipykernel_3686815/3113065282.py:34: FutureWarning: The default of observed=False is deprecated and will be changed to True in a future version of pandas. Pass observed=False to retain current behavior or observed=True to adopt the future default and silence this warning.\n",
      "  score_DC2 = data_DC2.obs.groupby(\"integration_id\")[score_column].mean().reset_index()\n",
      "/scratch/temp/11907333/ipykernel_3686815/3113065282.py:44: FutureWarning: The default of observed=False is deprecated and will be changed to True in a future version of pandas. Pass observed=False to retain current behavior or observed=True to adopt the future default and silence this warning.\n",
      "  score_DC2['replicate'] = score_DC2.groupby('cancer_broadest').cumcount()\n",
      "/scratch/temp/11907333/ipykernel_3686815/3113065282.py:52: FutureWarning: The default of observed=False is deprecated and will be changed to True in a future version of pandas. Pass observed=False to retain current behavior or observed=True to adopt the future default and silence this warning.\n",
      "  score_mregDC = data_mregDC.obs.groupby(\"integration_id\")[score_column].mean().reset_index()\n",
      "/scratch/temp/11907333/ipykernel_3686815/3113065282.py:62: FutureWarning: The default of observed=False is deprecated and will be changed to True in a future version of pandas. Pass observed=False to retain current behavior or observed=True to adopt the future default and silence this warning.\n",
      "  score_mregDC['replicate'] = score_mregDC.groupby('cancer_broadest').cumcount()\n"
     ]
    },
    {
     "name": "stdout",
     "output_type": "stream",
     "text": [
      "WARNING: genes are not in var_names and ignored: Index(['CSH1', 'EPO', 'GH2', 'IFNA1', 'IFNA10', 'IFNA13', 'IFNA14', 'IFNA16',\n",
      "       'IFNA17', 'IFNA2', 'IFNA21', 'IFNA4', 'IFNA5', 'IFNA6', 'IFNA7',\n",
      "       'IFNA8', 'IFNK', 'IFNL2', 'IFNL3', 'IFNW1', 'IL3', 'IL4', 'IL5', 'IL9',\n",
      "       'LEP', 'PRL'],\n",
      "      dtype='object')\n",
      "WARNING: genes are not in var_names and ignored: Index(['CACNA1B', 'CACNA1E', 'CACNA1S', 'CACNG1', 'CACNG2', 'CACNG3', 'CACNG5',\n",
      "       'CACNG6', 'CACNG7', 'CHP2', 'FGF10', 'FGF16', 'FGF20', 'FGF21', 'FGF23',\n",
      "       'FGF3', 'FGF4', 'FGF5', 'FGF6', 'FLNC', 'JMJD7-PLA2G4B', 'MAP3K14',\n",
      "       'MAP3K20', 'MOS', 'NGF', 'PLA2G12B', 'PLA2G2A', 'PLA2G2C', 'PLA2G2E',\n",
      "       'PLA2G2F', 'PPP3R2', 'PRKACG', 'PTPN5', 'TGFB1'],\n",
      "      dtype='object')\n",
      "WARNING: genes are not in var_names and ignored: Index(['CACNA1B', 'CACNA1E', 'CACNA1S', 'CACNG1', 'CACNG2', 'CACNG3', 'CACNG5',\n",
      "       'CACNG6', 'CACNG7', 'CHP2', 'FGF10', 'FGF16', 'FGF20', 'FGF21', 'FGF23',\n",
      "       'FGF3', 'FGF4', 'FGF5', 'FGF6', 'FLNC', 'JMJD7-PLA2G4B', 'MAP3K14',\n",
      "       'MAP3K20', 'MOS', 'NGF', 'PLA2G12B', 'PLA2G2A', 'PLA2G2C', 'PLA2G2E',\n",
      "       'PLA2G2F', 'PPP3R2', 'PRKACG', 'PTPN5', 'TGFB1'],\n",
      "      dtype='object')\n"
     ]
    },
    {
     "name": "stderr",
     "output_type": "stream",
     "text": [
      "/scratch/temp/11907333/ipykernel_3686815/3113065282.py:15: FutureWarning: The default of observed=False is deprecated and will be changed to True in a future version of pandas. Pass observed=False to retain current behavior or observed=True to adopt the future default and silence this warning.\n",
      "  score_DC1 = data_DC1.obs.groupby(\"integration_id\")[score_column].mean().reset_index()\n",
      "/scratch/temp/11907333/ipykernel_3686815/3113065282.py:25: FutureWarning: The default of observed=False is deprecated and will be changed to True in a future version of pandas. Pass observed=False to retain current behavior or observed=True to adopt the future default and silence this warning.\n",
      "  score_DC1['replicate'] = score_DC1.groupby('cancer_broadest').cumcount()\n",
      "/scratch/temp/11907333/ipykernel_3686815/3113065282.py:34: FutureWarning: The default of observed=False is deprecated and will be changed to True in a future version of pandas. Pass observed=False to retain current behavior or observed=True to adopt the future default and silence this warning.\n",
      "  score_DC2 = data_DC2.obs.groupby(\"integration_id\")[score_column].mean().reset_index()\n",
      "/scratch/temp/11907333/ipykernel_3686815/3113065282.py:44: FutureWarning: The default of observed=False is deprecated and will be changed to True in a future version of pandas. Pass observed=False to retain current behavior or observed=True to adopt the future default and silence this warning.\n",
      "  score_DC2['replicate'] = score_DC2.groupby('cancer_broadest').cumcount()\n",
      "/scratch/temp/11907333/ipykernel_3686815/3113065282.py:52: FutureWarning: The default of observed=False is deprecated and will be changed to True in a future version of pandas. Pass observed=False to retain current behavior or observed=True to adopt the future default and silence this warning.\n",
      "  score_mregDC = data_mregDC.obs.groupby(\"integration_id\")[score_column].mean().reset_index()\n",
      "/scratch/temp/11907333/ipykernel_3686815/3113065282.py:62: FutureWarning: The default of observed=False is deprecated and will be changed to True in a future version of pandas. Pass observed=False to retain current behavior or observed=True to adopt the future default and silence this warning.\n",
      "  score_mregDC['replicate'] = score_mregDC.groupby('cancer_broadest').cumcount()\n"
     ]
    },
    {
     "name": "stdout",
     "output_type": "stream",
     "text": [
      "WARNING: genes are not in var_names and ignored: Index(['CACNA1B', 'CACNA1E', 'CACNA1S', 'CACNG1', 'CACNG2', 'CACNG3', 'CACNG5',\n",
      "       'CACNG6', 'CACNG7', 'CHP2', 'FGF10', 'FGF16', 'FGF20', 'FGF21', 'FGF23',\n",
      "       'FGF3', 'FGF4', 'FGF5', 'FGF6', 'FLNC', 'JMJD7-PLA2G4B', 'MAP3K14',\n",
      "       'MAP3K20', 'MOS', 'NGF', 'PLA2G12B', 'PLA2G2A', 'PLA2G2C', 'PLA2G2E',\n",
      "       'PLA2G2F', 'PPP3R2', 'PRKACG', 'PTPN5', 'TGFB1'],\n",
      "      dtype='object')\n",
      "WARNING: genes are not in var_names and ignored: Index(['CARD18', 'CCL11', 'CXCL8', 'ERBIN'], dtype='object')\n",
      "WARNING: genes are not in var_names and ignored: Index(['CARD18', 'CCL11', 'CXCL8', 'ERBIN'], dtype='object')\n"
     ]
    },
    {
     "name": "stderr",
     "output_type": "stream",
     "text": [
      "/scratch/temp/11907333/ipykernel_3686815/3113065282.py:15: FutureWarning: The default of observed=False is deprecated and will be changed to True in a future version of pandas. Pass observed=False to retain current behavior or observed=True to adopt the future default and silence this warning.\n",
      "  score_DC1 = data_DC1.obs.groupby(\"integration_id\")[score_column].mean().reset_index()\n",
      "/scratch/temp/11907333/ipykernel_3686815/3113065282.py:25: FutureWarning: The default of observed=False is deprecated and will be changed to True in a future version of pandas. Pass observed=False to retain current behavior or observed=True to adopt the future default and silence this warning.\n",
      "  score_DC1['replicate'] = score_DC1.groupby('cancer_broadest').cumcount()\n",
      "/scratch/temp/11907333/ipykernel_3686815/3113065282.py:34: FutureWarning: The default of observed=False is deprecated and will be changed to True in a future version of pandas. Pass observed=False to retain current behavior or observed=True to adopt the future default and silence this warning.\n",
      "  score_DC2 = data_DC2.obs.groupby(\"integration_id\")[score_column].mean().reset_index()\n",
      "/scratch/temp/11907333/ipykernel_3686815/3113065282.py:44: FutureWarning: The default of observed=False is deprecated and will be changed to True in a future version of pandas. Pass observed=False to retain current behavior or observed=True to adopt the future default and silence this warning.\n",
      "  score_DC2['replicate'] = score_DC2.groupby('cancer_broadest').cumcount()\n",
      "/scratch/temp/11907333/ipykernel_3686815/3113065282.py:52: FutureWarning: The default of observed=False is deprecated and will be changed to True in a future version of pandas. Pass observed=False to retain current behavior or observed=True to adopt the future default and silence this warning.\n",
      "  score_mregDC = data_mregDC.obs.groupby(\"integration_id\")[score_column].mean().reset_index()\n",
      "/scratch/temp/11907333/ipykernel_3686815/3113065282.py:62: FutureWarning: The default of observed=False is deprecated and will be changed to True in a future version of pandas. Pass observed=False to retain current behavior or observed=True to adopt the future default and silence this warning.\n",
      "  score_mregDC['replicate'] = score_mregDC.groupby('cancer_broadest').cumcount()\n"
     ]
    },
    {
     "name": "stdout",
     "output_type": "stream",
     "text": [
      "WARNING: genes are not in var_names and ignored: Index(['CARD18', 'CCL11', 'CXCL8', 'ERBIN'], dtype='object')\n",
      "WARNING: genes are not in var_names and ignored: Index(['RBPJL'], dtype='object')\n",
      "WARNING: genes are not in var_names and ignored: Index(['RBPJL'], dtype='object')\n"
     ]
    },
    {
     "name": "stderr",
     "output_type": "stream",
     "text": [
      "/scratch/temp/11907333/ipykernel_3686815/3113065282.py:15: FutureWarning: The default of observed=False is deprecated and will be changed to True in a future version of pandas. Pass observed=False to retain current behavior or observed=True to adopt the future default and silence this warning.\n",
      "  score_DC1 = data_DC1.obs.groupby(\"integration_id\")[score_column].mean().reset_index()\n",
      "/scratch/temp/11907333/ipykernel_3686815/3113065282.py:25: FutureWarning: The default of observed=False is deprecated and will be changed to True in a future version of pandas. Pass observed=False to retain current behavior or observed=True to adopt the future default and silence this warning.\n",
      "  score_DC1['replicate'] = score_DC1.groupby('cancer_broadest').cumcount()\n",
      "/scratch/temp/11907333/ipykernel_3686815/3113065282.py:34: FutureWarning: The default of observed=False is deprecated and will be changed to True in a future version of pandas. Pass observed=False to retain current behavior or observed=True to adopt the future default and silence this warning.\n",
      "  score_DC2 = data_DC2.obs.groupby(\"integration_id\")[score_column].mean().reset_index()\n",
      "/scratch/temp/11907333/ipykernel_3686815/3113065282.py:44: FutureWarning: The default of observed=False is deprecated and will be changed to True in a future version of pandas. Pass observed=False to retain current behavior or observed=True to adopt the future default and silence this warning.\n",
      "  score_DC2['replicate'] = score_DC2.groupby('cancer_broadest').cumcount()\n",
      "/scratch/temp/11907333/ipykernel_3686815/3113065282.py:52: FutureWarning: The default of observed=False is deprecated and will be changed to True in a future version of pandas. Pass observed=False to retain current behavior or observed=True to adopt the future default and silence this warning.\n",
      "  score_mregDC = data_mregDC.obs.groupby(\"integration_id\")[score_column].mean().reset_index()\n",
      "/scratch/temp/11907333/ipykernel_3686815/3113065282.py:62: FutureWarning: The default of observed=False is deprecated and will be changed to True in a future version of pandas. Pass observed=False to retain current behavior or observed=True to adopt the future default and silence this warning.\n",
      "  score_mregDC['replicate'] = score_mregDC.groupby('cancer_broadest').cumcount()\n"
     ]
    },
    {
     "name": "stdout",
     "output_type": "stream",
     "text": [
      "WARNING: genes are not in var_names and ignored: Index(['RBPJL'], dtype='object')\n",
      "WARNING: genes are not in var_names and ignored: Index(['ATP4A', 'ATP4B', 'ATP5F1A', 'ATP5F1B', 'ATP5F1C', 'ATP5F1D', 'ATP5F1E',\n",
      "       'ATP5MC1', 'ATP5MC1P5', 'ATP5MC2', 'ATP5MC3', 'ATP5ME', 'ATP5MF',\n",
      "       'ATP5MG', 'ATP5PB', 'ATP5PD', 'ATP5PF', 'ATP5PO', 'ATP6V1G3', 'COX6A2',\n",
      "       'COX6CP3', 'COX7B2', 'COX8C', 'UQCR10P1', 'UQCRHL'],\n",
      "      dtype='object')\n",
      "WARNING: genes are not in var_names and ignored: Index(['ATP4A', 'ATP4B', 'ATP5F1A', 'ATP5F1B', 'ATP5F1C', 'ATP5F1D', 'ATP5F1E',\n",
      "       'ATP5MC1', 'ATP5MC1P5', 'ATP5MC2', 'ATP5MC3', 'ATP5ME', 'ATP5MF',\n",
      "       'ATP5MG', 'ATP5PB', 'ATP5PD', 'ATP5PF', 'ATP5PO', 'ATP6V1G3', 'COX6A2',\n",
      "       'COX6CP3', 'COX7B2', 'COX8C', 'UQCR10P1', 'UQCRHL'],\n",
      "      dtype='object')\n"
     ]
    },
    {
     "name": "stderr",
     "output_type": "stream",
     "text": [
      "/scratch/temp/11907333/ipykernel_3686815/3113065282.py:15: FutureWarning: The default of observed=False is deprecated and will be changed to True in a future version of pandas. Pass observed=False to retain current behavior or observed=True to adopt the future default and silence this warning.\n",
      "  score_DC1 = data_DC1.obs.groupby(\"integration_id\")[score_column].mean().reset_index()\n",
      "/scratch/temp/11907333/ipykernel_3686815/3113065282.py:25: FutureWarning: The default of observed=False is deprecated and will be changed to True in a future version of pandas. Pass observed=False to retain current behavior or observed=True to adopt the future default and silence this warning.\n",
      "  score_DC1['replicate'] = score_DC1.groupby('cancer_broadest').cumcount()\n",
      "/scratch/temp/11907333/ipykernel_3686815/3113065282.py:34: FutureWarning: The default of observed=False is deprecated and will be changed to True in a future version of pandas. Pass observed=False to retain current behavior or observed=True to adopt the future default and silence this warning.\n",
      "  score_DC2 = data_DC2.obs.groupby(\"integration_id\")[score_column].mean().reset_index()\n",
      "/scratch/temp/11907333/ipykernel_3686815/3113065282.py:44: FutureWarning: The default of observed=False is deprecated and will be changed to True in a future version of pandas. Pass observed=False to retain current behavior or observed=True to adopt the future default and silence this warning.\n",
      "  score_DC2['replicate'] = score_DC2.groupby('cancer_broadest').cumcount()\n",
      "/scratch/temp/11907333/ipykernel_3686815/3113065282.py:52: FutureWarning: The default of observed=False is deprecated and will be changed to True in a future version of pandas. Pass observed=False to retain current behavior or observed=True to adopt the future default and silence this warning.\n",
      "  score_mregDC = data_mregDC.obs.groupby(\"integration_id\")[score_column].mean().reset_index()\n",
      "/scratch/temp/11907333/ipykernel_3686815/3113065282.py:62: FutureWarning: The default of observed=False is deprecated and will be changed to True in a future version of pandas. Pass observed=False to retain current behavior or observed=True to adopt the future default and silence this warning.\n",
      "  score_mregDC['replicate'] = score_mregDC.groupby('cancer_broadest').cumcount()\n"
     ]
    },
    {
     "name": "stdout",
     "output_type": "stream",
     "text": [
      "WARNING: genes are not in var_names and ignored: Index(['ATP4A', 'ATP4B', 'ATP5F1A', 'ATP5F1B', 'ATP5F1C', 'ATP5F1D', 'ATP5F1E',\n",
      "       'ATP5MC1', 'ATP5MC1P5', 'ATP5MC2', 'ATP5MC3', 'ATP5ME', 'ATP5MF',\n",
      "       'ATP5MG', 'ATP5PB', 'ATP5PD', 'ATP5PF', 'ATP5PO', 'ATP6V1G3', 'COX6A2',\n",
      "       'COX6CP3', 'COX7B2', 'COX8C', 'UQCR10P1', 'UQCRHL'],\n",
      "      dtype='object')\n",
      "WARNING: genes are not in var_names and ignored: Index(['PSMA6P4', 'PSMB11', 'PSMC1P4', 'SEM1'], dtype='object')\n",
      "WARNING: genes are not in var_names and ignored: Index(['PSMA6P4', 'PSMB11', 'PSMC1P4', 'SEM1'], dtype='object')\n"
     ]
    },
    {
     "name": "stderr",
     "output_type": "stream",
     "text": [
      "/scratch/temp/11907333/ipykernel_3686815/3113065282.py:15: FutureWarning: The default of observed=False is deprecated and will be changed to True in a future version of pandas. Pass observed=False to retain current behavior or observed=True to adopt the future default and silence this warning.\n",
      "  score_DC1 = data_DC1.obs.groupby(\"integration_id\")[score_column].mean().reset_index()\n",
      "/scratch/temp/11907333/ipykernel_3686815/3113065282.py:25: FutureWarning: The default of observed=False is deprecated and will be changed to True in a future version of pandas. Pass observed=False to retain current behavior or observed=True to adopt the future default and silence this warning.\n",
      "  score_DC1['replicate'] = score_DC1.groupby('cancer_broadest').cumcount()\n",
      "/scratch/temp/11907333/ipykernel_3686815/3113065282.py:34: FutureWarning: The default of observed=False is deprecated and will be changed to True in a future version of pandas. Pass observed=False to retain current behavior or observed=True to adopt the future default and silence this warning.\n",
      "  score_DC2 = data_DC2.obs.groupby(\"integration_id\")[score_column].mean().reset_index()\n",
      "/scratch/temp/11907333/ipykernel_3686815/3113065282.py:44: FutureWarning: The default of observed=False is deprecated and will be changed to True in a future version of pandas. Pass observed=False to retain current behavior or observed=True to adopt the future default and silence this warning.\n",
      "  score_DC2['replicate'] = score_DC2.groupby('cancer_broadest').cumcount()\n",
      "/scratch/temp/11907333/ipykernel_3686815/3113065282.py:52: FutureWarning: The default of observed=False is deprecated and will be changed to True in a future version of pandas. Pass observed=False to retain current behavior or observed=True to adopt the future default and silence this warning.\n",
      "  score_mregDC = data_mregDC.obs.groupby(\"integration_id\")[score_column].mean().reset_index()\n",
      "/scratch/temp/11907333/ipykernel_3686815/3113065282.py:62: FutureWarning: The default of observed=False is deprecated and will be changed to True in a future version of pandas. Pass observed=False to retain current behavior or observed=True to adopt the future default and silence this warning.\n",
      "  score_mregDC['replicate'] = score_mregDC.groupby('cancer_broadest').cumcount()\n"
     ]
    },
    {
     "name": "stdout",
     "output_type": "stream",
     "text": [
      "WARNING: genes are not in var_names and ignored: Index(['PSMA6P4', 'PSMB11', 'PSMC1P4', 'SEM1'], dtype='object')\n"
     ]
    },
    {
     "name": "stderr",
     "output_type": "stream",
     "text": [
      "/scratch/temp/11907333/ipykernel_3686815/3113065282.py:15: FutureWarning: The default of observed=False is deprecated and will be changed to True in a future version of pandas. Pass observed=False to retain current behavior or observed=True to adopt the future default and silence this warning.\n",
      "  score_DC1 = data_DC1.obs.groupby(\"integration_id\")[score_column].mean().reset_index()\n",
      "/scratch/temp/11907333/ipykernel_3686815/3113065282.py:25: FutureWarning: The default of observed=False is deprecated and will be changed to True in a future version of pandas. Pass observed=False to retain current behavior or observed=True to adopt the future default and silence this warning.\n",
      "  score_DC1['replicate'] = score_DC1.groupby('cancer_broadest').cumcount()\n",
      "/scratch/temp/11907333/ipykernel_3686815/3113065282.py:34: FutureWarning: The default of observed=False is deprecated and will be changed to True in a future version of pandas. Pass observed=False to retain current behavior or observed=True to adopt the future default and silence this warning.\n",
      "  score_DC2 = data_DC2.obs.groupby(\"integration_id\")[score_column].mean().reset_index()\n",
      "/scratch/temp/11907333/ipykernel_3686815/3113065282.py:44: FutureWarning: The default of observed=False is deprecated and will be changed to True in a future version of pandas. Pass observed=False to retain current behavior or observed=True to adopt the future default and silence this warning.\n",
      "  score_DC2['replicate'] = score_DC2.groupby('cancer_broadest').cumcount()\n",
      "/scratch/temp/11907333/ipykernel_3686815/3113065282.py:52: FutureWarning: The default of observed=False is deprecated and will be changed to True in a future version of pandas. Pass observed=False to retain current behavior or observed=True to adopt the future default and silence this warning.\n",
      "  score_mregDC = data_mregDC.obs.groupby(\"integration_id\")[score_column].mean().reset_index()\n",
      "/scratch/temp/11907333/ipykernel_3686815/3113065282.py:62: FutureWarning: The default of observed=False is deprecated and will be changed to True in a future version of pandas. Pass observed=False to retain current behavior or observed=True to adopt the future default and silence this warning.\n",
      "  score_mregDC['replicate'] = score_mregDC.groupby('cancer_broadest').cumcount()\n"
     ]
    },
    {
     "name": "stdout",
     "output_type": "stream",
     "text": [
      "WARNING: genes are not in var_names and ignored: Index(['SRP9P1', 'SRPRA'], dtype='object')\n",
      "WARNING: genes are not in var_names and ignored: Index(['SRP9P1', 'SRPRA'], dtype='object')\n",
      "WARNING: genes are not in var_names and ignored: Index(['SRP9P1', 'SRPRA'], dtype='object')\n",
      "WARNING: genes are not in var_names and ignored: Index(['BMP5', 'COMP', 'GDF6', 'INHBC', 'LEFTY1', 'LEFTY2', 'NODAL', 'SKP1P2',\n",
      "       'TGFB1'],\n",
      "      dtype='object')\n",
      "WARNING: genes are not in var_names and ignored: Index(['BMP5', 'COMP', 'GDF6', 'INHBC', 'LEFTY1', 'LEFTY2', 'NODAL', 'SKP1P2',\n",
      "       'TGFB1'],\n",
      "      dtype='object')\n"
     ]
    },
    {
     "name": "stderr",
     "output_type": "stream",
     "text": [
      "/scratch/temp/11907333/ipykernel_3686815/3113065282.py:15: FutureWarning: The default of observed=False is deprecated and will be changed to True in a future version of pandas. Pass observed=False to retain current behavior or observed=True to adopt the future default and silence this warning.\n",
      "  score_DC1 = data_DC1.obs.groupby(\"integration_id\")[score_column].mean().reset_index()\n",
      "/scratch/temp/11907333/ipykernel_3686815/3113065282.py:25: FutureWarning: The default of observed=False is deprecated and will be changed to True in a future version of pandas. Pass observed=False to retain current behavior or observed=True to adopt the future default and silence this warning.\n",
      "  score_DC1['replicate'] = score_DC1.groupby('cancer_broadest').cumcount()\n",
      "/scratch/temp/11907333/ipykernel_3686815/3113065282.py:34: FutureWarning: The default of observed=False is deprecated and will be changed to True in a future version of pandas. Pass observed=False to retain current behavior or observed=True to adopt the future default and silence this warning.\n",
      "  score_DC2 = data_DC2.obs.groupby(\"integration_id\")[score_column].mean().reset_index()\n",
      "/scratch/temp/11907333/ipykernel_3686815/3113065282.py:44: FutureWarning: The default of observed=False is deprecated and will be changed to True in a future version of pandas. Pass observed=False to retain current behavior or observed=True to adopt the future default and silence this warning.\n",
      "  score_DC2['replicate'] = score_DC2.groupby('cancer_broadest').cumcount()\n",
      "/scratch/temp/11907333/ipykernel_3686815/3113065282.py:52: FutureWarning: The default of observed=False is deprecated and will be changed to True in a future version of pandas. Pass observed=False to retain current behavior or observed=True to adopt the future default and silence this warning.\n",
      "  score_mregDC = data_mregDC.obs.groupby(\"integration_id\")[score_column].mean().reset_index()\n",
      "/scratch/temp/11907333/ipykernel_3686815/3113065282.py:62: FutureWarning: The default of observed=False is deprecated and will be changed to True in a future version of pandas. Pass observed=False to retain current behavior or observed=True to adopt the future default and silence this warning.\n",
      "  score_mregDC['replicate'] = score_mregDC.groupby('cancer_broadest').cumcount()\n"
     ]
    },
    {
     "name": "stdout",
     "output_type": "stream",
     "text": [
      "WARNING: genes are not in var_names and ignored: Index(['BMP5', 'COMP', 'GDF6', 'INHBC', 'LEFTY1', 'LEFTY2', 'NODAL', 'SKP1P2',\n",
      "       'TGFB1'],\n",
      "      dtype='object')\n",
      "WARNING: genes are not in var_names and ignored: Index(['CXCL8', 'IFNA1', 'IFNA10', 'IFNA13', 'IFNA14', 'IFNA16', 'IFNA17',\n",
      "       'IFNA2', 'IFNA21', 'IFNA4', 'IFNA5', 'IFNA6', 'IFNA7', 'IFNA8', 'LBP'],\n",
      "      dtype='object')\n",
      "WARNING: genes are not in var_names and ignored: Index(['CXCL8', 'IFNA1', 'IFNA10', 'IFNA13', 'IFNA14', 'IFNA16', 'IFNA17',\n",
      "       'IFNA2', 'IFNA21', 'IFNA4', 'IFNA5', 'IFNA6', 'IFNA7', 'IFNA8', 'LBP'],\n",
      "      dtype='object')\n"
     ]
    },
    {
     "name": "stderr",
     "output_type": "stream",
     "text": [
      "/scratch/temp/11907333/ipykernel_3686815/3113065282.py:15: FutureWarning: The default of observed=False is deprecated and will be changed to True in a future version of pandas. Pass observed=False to retain current behavior or observed=True to adopt the future default and silence this warning.\n",
      "  score_DC1 = data_DC1.obs.groupby(\"integration_id\")[score_column].mean().reset_index()\n",
      "/scratch/temp/11907333/ipykernel_3686815/3113065282.py:25: FutureWarning: The default of observed=False is deprecated and will be changed to True in a future version of pandas. Pass observed=False to retain current behavior or observed=True to adopt the future default and silence this warning.\n",
      "  score_DC1['replicate'] = score_DC1.groupby('cancer_broadest').cumcount()\n",
      "/scratch/temp/11907333/ipykernel_3686815/3113065282.py:34: FutureWarning: The default of observed=False is deprecated and will be changed to True in a future version of pandas. Pass observed=False to retain current behavior or observed=True to adopt the future default and silence this warning.\n",
      "  score_DC2 = data_DC2.obs.groupby(\"integration_id\")[score_column].mean().reset_index()\n",
      "/scratch/temp/11907333/ipykernel_3686815/3113065282.py:44: FutureWarning: The default of observed=False is deprecated and will be changed to True in a future version of pandas. Pass observed=False to retain current behavior or observed=True to adopt the future default and silence this warning.\n",
      "  score_DC2['replicate'] = score_DC2.groupby('cancer_broadest').cumcount()\n",
      "/scratch/temp/11907333/ipykernel_3686815/3113065282.py:52: FutureWarning: The default of observed=False is deprecated and will be changed to True in a future version of pandas. Pass observed=False to retain current behavior or observed=True to adopt the future default and silence this warning.\n",
      "  score_mregDC = data_mregDC.obs.groupby(\"integration_id\")[score_column].mean().reset_index()\n",
      "/scratch/temp/11907333/ipykernel_3686815/3113065282.py:62: FutureWarning: The default of observed=False is deprecated and will be changed to True in a future version of pandas. Pass observed=False to retain current behavior or observed=True to adopt the future default and silence this warning.\n",
      "  score_mregDC['replicate'] = score_mregDC.groupby('cancer_broadest').cumcount()\n"
     ]
    },
    {
     "name": "stdout",
     "output_type": "stream",
     "text": [
      "WARNING: genes are not in var_names and ignored: Index(['CXCL8', 'IFNA1', 'IFNA10', 'IFNA13', 'IFNA14', 'IFNA16', 'IFNA17',\n",
      "       'IFNA2', 'IFNA21', 'IFNA4', 'IFNA5', 'IFNA6', 'IFNA7', 'IFNA8', 'LBP'],\n",
      "      dtype='object')\n",
      "WARNING: genes are not in var_names and ignored: Index(['ADH1A', 'ADH1B', 'ADH1C', 'ADH4', 'ADH6', 'BUD23', 'DCT', 'DDC', 'HPD',\n",
      "       'NAA80', 'TAT', 'TH', 'TYR', 'TYRP1'],\n",
      "      dtype='object')\n",
      "WARNING: genes are not in var_names and ignored: Index(['ADH1A', 'ADH1B', 'ADH1C', 'ADH4', 'ADH6', 'BUD23', 'DCT', 'DDC', 'HPD',\n",
      "       'NAA80', 'TAT', 'TH', 'TYR', 'TYRP1'],\n",
      "      dtype='object')\n"
     ]
    },
    {
     "name": "stderr",
     "output_type": "stream",
     "text": [
      "/scratch/temp/11907333/ipykernel_3686815/3113065282.py:15: FutureWarning: The default of observed=False is deprecated and will be changed to True in a future version of pandas. Pass observed=False to retain current behavior or observed=True to adopt the future default and silence this warning.\n",
      "  score_DC1 = data_DC1.obs.groupby(\"integration_id\")[score_column].mean().reset_index()\n",
      "/scratch/temp/11907333/ipykernel_3686815/3113065282.py:25: FutureWarning: The default of observed=False is deprecated and will be changed to True in a future version of pandas. Pass observed=False to retain current behavior or observed=True to adopt the future default and silence this warning.\n",
      "  score_DC1['replicate'] = score_DC1.groupby('cancer_broadest').cumcount()\n",
      "/scratch/temp/11907333/ipykernel_3686815/3113065282.py:34: FutureWarning: The default of observed=False is deprecated and will be changed to True in a future version of pandas. Pass observed=False to retain current behavior or observed=True to adopt the future default and silence this warning.\n",
      "  score_DC2 = data_DC2.obs.groupby(\"integration_id\")[score_column].mean().reset_index()\n",
      "/scratch/temp/11907333/ipykernel_3686815/3113065282.py:44: FutureWarning: The default of observed=False is deprecated and will be changed to True in a future version of pandas. Pass observed=False to retain current behavior or observed=True to adopt the future default and silence this warning.\n",
      "  score_DC2['replicate'] = score_DC2.groupby('cancer_broadest').cumcount()\n",
      "/scratch/temp/11907333/ipykernel_3686815/3113065282.py:52: FutureWarning: The default of observed=False is deprecated and will be changed to True in a future version of pandas. Pass observed=False to retain current behavior or observed=True to adopt the future default and silence this warning.\n",
      "  score_mregDC = data_mregDC.obs.groupby(\"integration_id\")[score_column].mean().reset_index()\n",
      "/scratch/temp/11907333/ipykernel_3686815/3113065282.py:62: FutureWarning: The default of observed=False is deprecated and will be changed to True in a future version of pandas. Pass observed=False to retain current behavior or observed=True to adopt the future default and silence this warning.\n",
      "  score_mregDC['replicate'] = score_mregDC.groupby('cancer_broadest').cumcount()\n"
     ]
    },
    {
     "name": "stdout",
     "output_type": "stream",
     "text": [
      "WARNING: genes are not in var_names and ignored: Index(['ADH1A', 'ADH1B', 'ADH1C', 'ADH4', 'ADH6', 'BUD23', 'DCT', 'DDC', 'HPD',\n",
      "       'NAA80', 'TAT', 'TH', 'TYR', 'TYRP1'],\n",
      "      dtype='object')\n",
      "WARNING: genes are not in var_names and ignored: Index(['COP1', 'ELOB', 'ELOC', 'PRKN', 'SKP1P2', 'UBE2NL', 'UBE2U'], dtype='object')\n",
      "WARNING: genes are not in var_names and ignored: Index(['COP1', 'ELOB', 'ELOC', 'PRKN', 'SKP1P2', 'UBE2NL', 'UBE2U'], dtype='object')\n"
     ]
    },
    {
     "name": "stderr",
     "output_type": "stream",
     "text": [
      "/scratch/temp/11907333/ipykernel_3686815/3113065282.py:15: FutureWarning: The default of observed=False is deprecated and will be changed to True in a future version of pandas. Pass observed=False to retain current behavior or observed=True to adopt the future default and silence this warning.\n",
      "  score_DC1 = data_DC1.obs.groupby(\"integration_id\")[score_column].mean().reset_index()\n",
      "/scratch/temp/11907333/ipykernel_3686815/3113065282.py:25: FutureWarning: The default of observed=False is deprecated and will be changed to True in a future version of pandas. Pass observed=False to retain current behavior or observed=True to adopt the future default and silence this warning.\n",
      "  score_DC1['replicate'] = score_DC1.groupby('cancer_broadest').cumcount()\n",
      "/scratch/temp/11907333/ipykernel_3686815/3113065282.py:34: FutureWarning: The default of observed=False is deprecated and will be changed to True in a future version of pandas. Pass observed=False to retain current behavior or observed=True to adopt the future default and silence this warning.\n",
      "  score_DC2 = data_DC2.obs.groupby(\"integration_id\")[score_column].mean().reset_index()\n",
      "/scratch/temp/11907333/ipykernel_3686815/3113065282.py:44: FutureWarning: The default of observed=False is deprecated and will be changed to True in a future version of pandas. Pass observed=False to retain current behavior or observed=True to adopt the future default and silence this warning.\n",
      "  score_DC2['replicate'] = score_DC2.groupby('cancer_broadest').cumcount()\n",
      "/scratch/temp/11907333/ipykernel_3686815/3113065282.py:52: FutureWarning: The default of observed=False is deprecated and will be changed to True in a future version of pandas. Pass observed=False to retain current behavior or observed=True to adopt the future default and silence this warning.\n",
      "  score_mregDC = data_mregDC.obs.groupby(\"integration_id\")[score_column].mean().reset_index()\n",
      "/scratch/temp/11907333/ipykernel_3686815/3113065282.py:62: FutureWarning: The default of observed=False is deprecated and will be changed to True in a future version of pandas. Pass observed=False to retain current behavior or observed=True to adopt the future default and silence this warning.\n",
      "  score_mregDC['replicate'] = score_mregDC.groupby('cancer_broadest').cumcount()\n"
     ]
    },
    {
     "name": "stdout",
     "output_type": "stream",
     "text": [
      "WARNING: genes are not in var_names and ignored: Index(['COP1', 'ELOB', 'ELOC', 'PRKN', 'SKP1P2', 'UBE2NL', 'UBE2U'], dtype='object')\n",
      "WARNING: genes are not in var_names and ignored: Index(['CHP2', 'JMJD7-PLA2G4B', 'PLA2G12B', 'PLA2G2A', 'PLA2G2C', 'PLA2G2E',\n",
      "       'PLA2G2F', 'PPP3R2'],\n",
      "      dtype='object')\n",
      "WARNING: genes are not in var_names and ignored: Index(['CHP2', 'JMJD7-PLA2G4B', 'PLA2G12B', 'PLA2G2A', 'PLA2G2C', 'PLA2G2E',\n",
      "       'PLA2G2F', 'PPP3R2'],\n",
      "      dtype='object')\n"
     ]
    },
    {
     "name": "stderr",
     "output_type": "stream",
     "text": [
      "/scratch/temp/11907333/ipykernel_3686815/3113065282.py:15: FutureWarning: The default of observed=False is deprecated and will be changed to True in a future version of pandas. Pass observed=False to retain current behavior or observed=True to adopt the future default and silence this warning.\n",
      "  score_DC1 = data_DC1.obs.groupby(\"integration_id\")[score_column].mean().reset_index()\n",
      "/scratch/temp/11907333/ipykernel_3686815/3113065282.py:25: FutureWarning: The default of observed=False is deprecated and will be changed to True in a future version of pandas. Pass observed=False to retain current behavior or observed=True to adopt the future default and silence this warning.\n",
      "  score_DC1['replicate'] = score_DC1.groupby('cancer_broadest').cumcount()\n",
      "/scratch/temp/11907333/ipykernel_3686815/3113065282.py:34: FutureWarning: The default of observed=False is deprecated and will be changed to True in a future version of pandas. Pass observed=False to retain current behavior or observed=True to adopt the future default and silence this warning.\n",
      "  score_DC2 = data_DC2.obs.groupby(\"integration_id\")[score_column].mean().reset_index()\n",
      "/scratch/temp/11907333/ipykernel_3686815/3113065282.py:44: FutureWarning: The default of observed=False is deprecated and will be changed to True in a future version of pandas. Pass observed=False to retain current behavior or observed=True to adopt the future default and silence this warning.\n",
      "  score_DC2['replicate'] = score_DC2.groupby('cancer_broadest').cumcount()\n",
      "/scratch/temp/11907333/ipykernel_3686815/3113065282.py:52: FutureWarning: The default of observed=False is deprecated and will be changed to True in a future version of pandas. Pass observed=False to retain current behavior or observed=True to adopt the future default and silence this warning.\n",
      "  score_mregDC = data_mregDC.obs.groupby(\"integration_id\")[score_column].mean().reset_index()\n",
      "/scratch/temp/11907333/ipykernel_3686815/3113065282.py:62: FutureWarning: The default of observed=False is deprecated and will be changed to True in a future version of pandas. Pass observed=False to retain current behavior or observed=True to adopt the future default and silence this warning.\n",
      "  score_mregDC['replicate'] = score_mregDC.groupby('cancer_broadest').cumcount()\n"
     ]
    },
    {
     "name": "stdout",
     "output_type": "stream",
     "text": [
      "WARNING: genes are not in var_names and ignored: Index(['CHP2', 'JMJD7-PLA2G4B', 'PLA2G12B', 'PLA2G2A', 'PLA2G2C', 'PLA2G2E',\n",
      "       'PLA2G2F', 'PPP3R2'],\n",
      "      dtype='object')\n"
     ]
    },
    {
     "name": "stderr",
     "output_type": "stream",
     "text": [
      "/scratch/temp/11907333/ipykernel_3686815/3113065282.py:15: FutureWarning: The default of observed=False is deprecated and will be changed to True in a future version of pandas. Pass observed=False to retain current behavior or observed=True to adopt the future default and silence this warning.\n",
      "  score_DC1 = data_DC1.obs.groupby(\"integration_id\")[score_column].mean().reset_index()\n",
      "/scratch/temp/11907333/ipykernel_3686815/3113065282.py:25: FutureWarning: The default of observed=False is deprecated and will be changed to True in a future version of pandas. Pass observed=False to retain current behavior or observed=True to adopt the future default and silence this warning.\n",
      "  score_DC1['replicate'] = score_DC1.groupby('cancer_broadest').cumcount()\n",
      "/scratch/temp/11907333/ipykernel_3686815/3113065282.py:34: FutureWarning: The default of observed=False is deprecated and will be changed to True in a future version of pandas. Pass observed=False to retain current behavior or observed=True to adopt the future default and silence this warning.\n",
      "  score_DC2 = data_DC2.obs.groupby(\"integration_id\")[score_column].mean().reset_index()\n",
      "/scratch/temp/11907333/ipykernel_3686815/3113065282.py:44: FutureWarning: The default of observed=False is deprecated and will be changed to True in a future version of pandas. Pass observed=False to retain current behavior or observed=True to adopt the future default and silence this warning.\n",
      "  score_DC2['replicate'] = score_DC2.groupby('cancer_broadest').cumcount()\n",
      "/scratch/temp/11907333/ipykernel_3686815/3113065282.py:52: FutureWarning: The default of observed=False is deprecated and will be changed to True in a future version of pandas. Pass observed=False to retain current behavior or observed=True to adopt the future default and silence this warning.\n",
      "  score_mregDC = data_mregDC.obs.groupby(\"integration_id\")[score_column].mean().reset_index()\n",
      "/scratch/temp/11907333/ipykernel_3686815/3113065282.py:62: FutureWarning: The default of observed=False is deprecated and will be changed to True in a future version of pandas. Pass observed=False to retain current behavior or observed=True to adopt the future default and silence this warning.\n",
      "  score_mregDC['replicate'] = score_mregDC.groupby('cancer_broadest').cumcount()\n"
     ]
    }
   ],
   "source": [
    "for set_name, gene_set_df in K_sets_sub.items():\n",
    "\n",
    "    gene_set = gene_set_df['human_gene_symbol'].tolist()\n",
    "\n",
    "    #score DC for gene set:\n",
    "    sc.tl.score_genes(data_DC1, gene_list=gene_set, score_name=f\"{set_name}_score\")\n",
    "    sc.tl.score_genes(data_DC2, gene_list=gene_set, score_name=f\"{set_name}_score\")\n",
    "    sc.tl.score_genes(data_mregDC, gene_list=gene_set, score_name=f\"{set_name}_score\")\n",
    "\n",
    "    score_column = f\"{set_name}_score\"\n",
    "\n",
    "    #DC1: \n",
    "\n",
    "    # Group by 'integration_id' and calculate the mean score for each group\n",
    "    score_DC1 = data_DC1.obs.groupby(\"integration_id\")[score_column].mean().reset_index()\n",
    "\n",
    "    # Merge with 'cancer_broadest' by matching the 'integration_id'\n",
    "    score_DC1 = score_DC1.merge(\n",
    "        data_DC1.obs[[\"integration_id\", \"cancer_broadest\", \"NR_annotations_simple\"]].drop_duplicates(),\n",
    "        on=\"integration_id\",\n",
    "        how=\"left\"\n",
    "    )\n",
    "\n",
    "    # convert to layout for prism (cancer types as rows with replicates as columns)\n",
    "    score_DC1['replicate'] = score_DC1.groupby('cancer_broadest').cumcount()\n",
    "    pivoted_df_DC1 = score_DC1.pivot(index='cancer_broadest', columns='replicate', values=score_column)\n",
    "    # Reindex the rows based on custom order\n",
    "    pivoted_df_DC1 = pivoted_df_DC1.reindex(custom_order)\n",
    "    pivoted_df_DC1.shape\n",
    "\n",
    "    #DC2: \n",
    "\n",
    "    # Group by 'integration_id' and calculate the mean score for each group\n",
    "    score_DC2 = data_DC2.obs.groupby(\"integration_id\")[score_column].mean().reset_index()\n",
    "\n",
    "    # Merge with 'cancer_broadest' by matching the 'integration_id'\n",
    "    score_DC2 = score_DC2.merge(\n",
    "        data_DC2.obs[[\"integration_id\", \"cancer_broadest\", \"NR_annotations_simple\"]].drop_duplicates(),\n",
    "        on=\"integration_id\",\n",
    "        how=\"left\"\n",
    "    )\n",
    "\n",
    "    # convert to layout for prism (cancer types as rows with replicates as columns)\n",
    "    score_DC2['replicate'] = score_DC2.groupby('cancer_broadest').cumcount()\n",
    "    pivoted_df_DC2 = score_DC2.pivot(index='cancer_broadest', columns='replicate', values=score_column)\n",
    "    # Reindex the rows based on custom order\n",
    "    pivoted_df_DC2 = pivoted_df_DC2.reindex(custom_order)\n",
    "    pivoted_df_DC2.shape\n",
    "\n",
    "    #mregDC:\n",
    "    # Group by 'integration_id' and calculate the mean score for each group\n",
    "    score_mregDC = data_mregDC.obs.groupby(\"integration_id\")[score_column].mean().reset_index()\n",
    "\n",
    "    # Merge with 'cancer_broadest' by matching the 'integration_id'\n",
    "    score_mregDC = score_mregDC.merge(\n",
    "        data_mregDC.obs[[\"integration_id\", \"cancer_broadest\", \"NR_annotations_simple\"]].drop_duplicates(),\n",
    "        on=\"integration_id\",\n",
    "        how=\"left\"\n",
    "    )\n",
    "\n",
    "    # convert to layout for prism (cancer types as rows with replicates as columns)\n",
    "    score_mregDC['replicate'] = score_mregDC.groupby('cancer_broadest').cumcount()\n",
    "    pivoted_df_mregDC = score_mregDC.pivot(index='cancer_broadest', columns='replicate', values=score_column)\n",
    "    # Reindex the rows based on custom order\n",
    "    pivoted_df_mregDC = pivoted_df_mregDC.reindex(custom_order)\n",
    "    pivoted_df_mregDC.shape\n",
    "\n",
    "    save_name = f\"{set_name}.xlsx\"\n",
    "\n",
    "    with pd.ExcelWriter(save_name) as writer:\n",
    "        pivoted_df_DC1.to_excel(writer, sheet_name='DC1')\n",
    "        pivoted_df_DC2.to_excel(writer, sheet_name='DC2')\n",
    "        pivoted_df_mregDC.to_excel(writer, sheet_name='mregDC')\n"
   ]
  },
  {
   "cell_type": "markdown",
   "metadata": {},
   "source": [
    "# Repeat for hallmark sets"
   ]
  },
  {
   "cell_type": "markdown",
   "metadata": {},
   "source": [
    "### Import Hallmark sets\n",
    "* will be imported as a dictionary where each key is a sheet name, and each value is a dataframe (gene set)"
   ]
  },
  {
   "cell_type": "code",
   "execution_count": 5,
   "metadata": {},
   "outputs": [],
   "source": [
    "os.chdir('/scratch/user/s4436039/scdata/Pathway-sets')\n",
    "H_sets = pd.read_excel(\"hallmark_sets.xlsx\", sheet_name=None)\n",
    "os.chdir('/scratch/user/s4436039/scdata/Python_Integration_Sep')"
   ]
  },
  {
   "cell_type": "code",
   "execution_count": 6,
   "metadata": {},
   "outputs": [
    {
     "name": "stdout",
     "output_type": "stream",
     "text": [
      "dict_keys(['Sheet1', 'Sheet2', 'Sheet3', 'Sheet4', 'Sheet5', 'Sheet6', 'Sheet7', 'Sheet8', 'Sheet9', 'Sheet10', 'Sheet11', 'Sheet12', 'Sheet13', 'Sheet14', 'Sheet15', 'Sheet16', 'Sheet17', 'Sheet18', 'Sheet19', 'Sheet20', 'Sheet21', 'Sheet22', 'Sheet23', 'Sheet24', 'Sheet25', 'Sheet26', 'Sheet27', 'Sheet28', 'Sheet29', 'Sheet30', 'Sheet31', 'Sheet32', 'Sheet33', 'Sheet34', 'Sheet35', 'Sheet36', 'Sheet37', 'Sheet38', 'Sheet39', 'Sheet40', 'Sheet41', 'Sheet42', 'Sheet43', 'Sheet44', 'Sheet45', 'Sheet46', 'Sheet47', 'Sheet48', 'Sheet49', 'Sheet50'])\n"
     ]
    }
   ],
   "source": [
    "# Print the sheet names\n",
    "print(H_sets.keys())"
   ]
  },
  {
   "cell_type": "code",
   "execution_count": 7,
   "metadata": {},
   "outputs": [
    {
     "name": "stdout",
     "output_type": "stream",
     "text": [
      "dict_keys(['HALLMARK_ADIPOGENESIS', 'HALLMARK_ALLOGRAFT_REJECTION', 'HALLMARK_ANDROGEN_RESPONSE', 'HALLMARK_ANGIOGENESIS', 'HALLMARK_APICAL_JUNCTION', 'HALLMARK_APICAL_SURFACE', 'HALLMARK_APOPTOSIS', 'HALLMARK_BILE_ACID_METABOLISM', 'HALLMARK_CHOLESTEROL_HOMEOSTASIS', 'HALLMARK_COAGULATION', 'HALLMARK_COMPLEMENT', 'HALLMARK_DNA_REPAIR', 'HALLMARK_E2F_TARGETS', 'HALLMARK_EPITHELIAL_MESENCHYMAL_TRANSITION', 'HALLMARK_ESTROGEN_RESPONSE_EARLY', 'HALLMARK_ESTROGEN_RESPONSE_LATE', 'HALLMARK_FATTY_ACID_METABOLISM', 'HALLMARK_G2M_CHECKPOINT', 'HALLMARK_GLYCOLYSIS', 'HALLMARK_HEDGEHOG_SIGNALING', 'HALLMARK_HEME_METABOLISM', 'HALLMARK_HYPOXIA', 'HALLMARK_IL2_STAT5_SIGNALING', 'HALLMARK_IL6_JAK_STAT3_SIGNALING', 'HALLMARK_INFLAMMATORY_RESPONSE', 'HALLMARK_INTERFERON_ALPHA_RESPONSE', 'HALLMARK_INTERFERON_GAMMA_RESPONSE', 'HALLMARK_KRAS_SIGNALING_DN', 'HALLMARK_KRAS_SIGNALING_UP', 'HALLMARK_MITOTIC_SPINDLE', 'HALLMARK_MTORC1_SIGNALING', 'HALLMARK_MYC_TARGETS_V1', 'HALLMARK_MYC_TARGETS_V2', 'HALLMARK_MYOGENESIS', 'HALLMARK_NOTCH_SIGNALING', 'HALLMARK_OXIDATIVE_PHOSPHORYLATION', 'HALLMARK_P53_PATHWAY', 'HALLMARK_PANCREAS_BETA_CELLS', 'HALLMARK_PEROXISOME', 'HALLMARK_PI3K_AKT_MTOR_SIGNALING', 'HALLMARK_PROTEIN_SECRETION', 'HALLMARK_REACTIVE_OXYGEN_SPECIES_PATHWAY', 'HALLMARK_SPERMATOGENESIS', 'HALLMARK_TGF_BETA_SIGNALING', 'HALLMARK_TNFA_SIGNALING_VIA_NFKB', 'HALLMARK_UNFOLDED_PROTEIN_RESPONSE', 'HALLMARK_UV_RESPONSE_DN', 'HALLMARK_UV_RESPONSE_UP', 'HALLMARK_WNT_BETA_CATENIN_SIGNALING', 'HALLMARK_XENOBIOTIC_METABOLISM'])\n"
     ]
    }
   ],
   "source": [
    "# Change keys to be gene set name (the first value in the 'gs_name' column) instead of Sheet1 etc \n",
    "H_sets2 = {df[\"gs_name\"].iloc[0]: df for _, df in H_sets.items()}\n",
    "H_sets = H_sets2\n",
    "\n",
    "# Result\n",
    "print(H_sets.keys())"
   ]
  },
  {
   "cell_type": "code",
   "execution_count": 18,
   "metadata": {},
   "outputs": [],
   "source": [
    "# Keys to include in new dictionary\n",
    "keys_include = [\"HALLMARK_APOPTOSIS\",\n",
    "                \"HALLMARK_CHOLESTEROL_HOMEOSTASIS\",\n",
    "                \"HALLMARK_DNA_REPAIR\",\n",
    "                \"HALLMARK_FATTY_ACID_METABOLISM\",\n",
    "                \"HALLMARK_GLYCOLYSIS\",\n",
    "                \"HALLMARK_IL2_STAT5_SIGNALING\",\n",
    "                \"HALLMARK_IL6_JAK_STAT3_SIGNALING\",\n",
    "                \"HALLMARK_INFLAMMATORY_RESPONSE\",\n",
    "                \"HALLMARK_INTERFERON_ALPHA_RESPONSE\",\n",
    "                \"HALLMARK_INTERFERON_GAMMA_RESPONSE\",\n",
    "                \"HALLMARK_KRAS_SIGNALING_DN\",\n",
    "                \"HALLMARK_KRAS_SIGNALING_UP\",\n",
    "                \"HALLMARK_MYC_TARGETS_V1\",\n",
    "                \"HALLMARK_MYC_TARGETS_V2\",\n",
    "                \"HALLMARK_NOTCH_SIGNALING\",\n",
    "                \"HALLMARK_OXIDATIVE_PHOSPHORYLATION\",\n",
    "                \"HALLMARK_PI3K_AKT_MTOR_SIGNALING\",\n",
    "                \"HALLMARK_PROTEIN_SECRETION\",\n",
    "                \"HALLMARK_REACTIVE_OXYGEN_SPECIES_PATHWAY\",\n",
    "                \"HALLMARK_TGF_BETA_SIGNALING\",\n",
    "                \"HALLMARK_TNFA_SIGNALING_VIA_NFKB\"\n",
    "                ]"
   ]
  },
  {
   "cell_type": "code",
   "execution_count": 19,
   "metadata": {},
   "outputs": [],
   "source": [
    "# create a new dictionary with select keys (pathway sets)\n",
    "H_sets_sub = {key: H_sets[key] for key in keys_include if key in H_sets}"
   ]
  },
  {
   "cell_type": "code",
   "execution_count": 20,
   "metadata": {},
   "outputs": [
    {
     "name": "stdout",
     "output_type": "stream",
     "text": [
      "dict_keys(['HALLMARK_APOPTOSIS', 'HALLMARK_CHOLESTEROL_HOMEOSTASIS', 'HALLMARK_DNA_REPAIR', 'HALLMARK_FATTY_ACID_METABOLISM', 'HALLMARK_GLYCOLYSIS', 'HALLMARK_IL2_STAT5_SIGNALING', 'HALLMARK_IL6_JAK_STAT3_SIGNALING', 'HALLMARK_INFLAMMATORY_RESPONSE', 'HALLMARK_INTERFERON_ALPHA_RESPONSE', 'HALLMARK_INTERFERON_GAMMA_RESPONSE', 'HALLMARK_KRAS_SIGNALING_DN', 'HALLMARK_KRAS_SIGNALING_UP', 'HALLMARK_MYC_TARGETS_V1', 'HALLMARK_MYC_TARGETS_V2', 'HALLMARK_NOTCH_SIGNALING', 'HALLMARK_OXIDATIVE_PHOSPHORYLATION', 'HALLMARK_PI3K_AKT_MTOR_SIGNALING', 'HALLMARK_PROTEIN_SECRETION', 'HALLMARK_REACTIVE_OXYGEN_SPECIES_PATHWAY', 'HALLMARK_TGF_BETA_SIGNALING', 'HALLMARK_TNFA_SIGNALING_VIA_NFKB'])\n"
     ]
    }
   ],
   "source": [
    "print(H_sets_sub.keys())"
   ]
  },
  {
   "cell_type": "code",
   "execution_count": 21,
   "metadata": {},
   "outputs": [],
   "source": [
    "custom_order = ['HGSOC','BC','CRC','GAC','GBM','HCC','HNSCC','MEL','NPC','NSCLC','PDAC','iCCA']"
   ]
  },
  {
   "cell_type": "code",
   "execution_count": 22,
   "metadata": {},
   "outputs": [
    {
     "data": {
      "text/plain": [
       "'/scratch/user/s4436039/scdata/Pathway4Prism'"
      ]
     },
     "execution_count": 22,
     "metadata": {},
     "output_type": "execute_result"
    }
   ],
   "source": [
    "#set current directory \n",
    "os.chdir('/scratch/user/s4436039/scdata/Pathway4Prism')\n",
    "os.getcwd()"
   ]
  },
  {
   "cell_type": "markdown",
   "metadata": {},
   "source": [
    "# loop through all pathways and export an excel containing scores per sample, grouped by cancer type, for each DC subset"
   ]
  },
  {
   "cell_type": "code",
   "execution_count": 23,
   "metadata": {},
   "outputs": [
    {
     "name": "stdout",
     "output_type": "stream",
     "text": [
      "WARNING: genes are not in var_names and ignored: Index(['F2', 'GPX1', 'H1-0', 'PLPPR4'], dtype='object')\n",
      "WARNING: genes are not in var_names and ignored: Index(['F2', 'GPX1', 'H1-0', 'PLPPR4'], dtype='object')\n",
      "WARNING: genes are not in var_names and ignored: Index(['F2', 'GPX1', 'H1-0', 'PLPPR4'], dtype='object')\n",
      "WARNING: genes are not in var_names and ignored: Index(['ADH4', 'NIBAN1', 'SEMA3B'], dtype='object')\n",
      "WARNING: genes are not in var_names and ignored: Index(['ADH4', 'NIBAN1', 'SEMA3B'], dtype='object')\n"
     ]
    },
    {
     "name": "stderr",
     "output_type": "stream",
     "text": [
      "/scratch/temp/11907333/ipykernel_3686815/3399175940.py:15: FutureWarning: The default of observed=False is deprecated and will be changed to True in a future version of pandas. Pass observed=False to retain current behavior or observed=True to adopt the future default and silence this warning.\n",
      "  score_DC1 = data_DC1.obs.groupby(\"integration_id\")[score_column].mean().reset_index()\n",
      "/scratch/temp/11907333/ipykernel_3686815/3399175940.py:25: FutureWarning: The default of observed=False is deprecated and will be changed to True in a future version of pandas. Pass observed=False to retain current behavior or observed=True to adopt the future default and silence this warning.\n",
      "  score_DC1['replicate'] = score_DC1.groupby('cancer_broadest').cumcount()\n",
      "/scratch/temp/11907333/ipykernel_3686815/3399175940.py:34: FutureWarning: The default of observed=False is deprecated and will be changed to True in a future version of pandas. Pass observed=False to retain current behavior or observed=True to adopt the future default and silence this warning.\n",
      "  score_DC2 = data_DC2.obs.groupby(\"integration_id\")[score_column].mean().reset_index()\n",
      "/scratch/temp/11907333/ipykernel_3686815/3399175940.py:44: FutureWarning: The default of observed=False is deprecated and will be changed to True in a future version of pandas. Pass observed=False to retain current behavior or observed=True to adopt the future default and silence this warning.\n",
      "  score_DC2['replicate'] = score_DC2.groupby('cancer_broadest').cumcount()\n",
      "/scratch/temp/11907333/ipykernel_3686815/3399175940.py:52: FutureWarning: The default of observed=False is deprecated and will be changed to True in a future version of pandas. Pass observed=False to retain current behavior or observed=True to adopt the future default and silence this warning.\n",
      "  score_mregDC = data_mregDC.obs.groupby(\"integration_id\")[score_column].mean().reset_index()\n",
      "/scratch/temp/11907333/ipykernel_3686815/3399175940.py:62: FutureWarning: The default of observed=False is deprecated and will be changed to True in a future version of pandas. Pass observed=False to retain current behavior or observed=True to adopt the future default and silence this warning.\n",
      "  score_mregDC['replicate'] = score_mregDC.groupby('cancer_broadest').cumcount()\n"
     ]
    },
    {
     "name": "stdout",
     "output_type": "stream",
     "text": [
      "WARNING: genes are not in var_names and ignored: Index(['ADH4', 'NIBAN1', 'SEMA3B'], dtype='object')\n",
      "WARNING: genes are not in var_names and ignored: Index(['ELOA', 'GSDME', 'PDE6G', 'POLR1H'], dtype='object')\n",
      "WARNING: genes are not in var_names and ignored: Index(['ELOA', 'GSDME', 'PDE6G', 'POLR1H'], dtype='object')\n"
     ]
    },
    {
     "name": "stderr",
     "output_type": "stream",
     "text": [
      "/scratch/temp/11907333/ipykernel_3686815/3399175940.py:15: FutureWarning: The default of observed=False is deprecated and will be changed to True in a future version of pandas. Pass observed=False to retain current behavior or observed=True to adopt the future default and silence this warning.\n",
      "  score_DC1 = data_DC1.obs.groupby(\"integration_id\")[score_column].mean().reset_index()\n",
      "/scratch/temp/11907333/ipykernel_3686815/3399175940.py:25: FutureWarning: The default of observed=False is deprecated and will be changed to True in a future version of pandas. Pass observed=False to retain current behavior or observed=True to adopt the future default and silence this warning.\n",
      "  score_DC1['replicate'] = score_DC1.groupby('cancer_broadest').cumcount()\n",
      "/scratch/temp/11907333/ipykernel_3686815/3399175940.py:34: FutureWarning: The default of observed=False is deprecated and will be changed to True in a future version of pandas. Pass observed=False to retain current behavior or observed=True to adopt the future default and silence this warning.\n",
      "  score_DC2 = data_DC2.obs.groupby(\"integration_id\")[score_column].mean().reset_index()\n",
      "/scratch/temp/11907333/ipykernel_3686815/3399175940.py:44: FutureWarning: The default of observed=False is deprecated and will be changed to True in a future version of pandas. Pass observed=False to retain current behavior or observed=True to adopt the future default and silence this warning.\n",
      "  score_DC2['replicate'] = score_DC2.groupby('cancer_broadest').cumcount()\n",
      "/scratch/temp/11907333/ipykernel_3686815/3399175940.py:52: FutureWarning: The default of observed=False is deprecated and will be changed to True in a future version of pandas. Pass observed=False to retain current behavior or observed=True to adopt the future default and silence this warning.\n",
      "  score_mregDC = data_mregDC.obs.groupby(\"integration_id\")[score_column].mean().reset_index()\n",
      "/scratch/temp/11907333/ipykernel_3686815/3399175940.py:62: FutureWarning: The default of observed=False is deprecated and will be changed to True in a future version of pandas. Pass observed=False to retain current behavior or observed=True to adopt the future default and silence this warning.\n",
      "  score_mregDC['replicate'] = score_mregDC.groupby('cancer_broadest').cumcount()\n"
     ]
    },
    {
     "name": "stdout",
     "output_type": "stream",
     "text": [
      "WARNING: genes are not in var_names and ignored: Index(['ELOA', 'GSDME', 'PDE6G', 'POLR1H'], dtype='object')\n",
      "WARNING: genes are not in var_names and ignored: Index(['ADH1C', 'AQP7', 'CIDEA', 'CYP4A11', 'CYP4A22', 'FABP1', 'FABP2',\n",
      "       'GAD2', 'GAPDHS', 'H2AZ1', 'HAO2', 'HMGCS2', 'KMT5A', 'MIX23', 'XIST'],\n",
      "      dtype='object')\n",
      "WARNING: genes are not in var_names and ignored: Index(['ADH1C', 'AQP7', 'CIDEA', 'CYP4A11', 'CYP4A22', 'FABP1', 'FABP2',\n",
      "       'GAD2', 'GAPDHS', 'H2AZ1', 'HAO2', 'HMGCS2', 'KMT5A', 'MIX23', 'XIST'],\n",
      "      dtype='object')\n"
     ]
    },
    {
     "name": "stderr",
     "output_type": "stream",
     "text": [
      "/scratch/temp/11907333/ipykernel_3686815/3399175940.py:15: FutureWarning: The default of observed=False is deprecated and will be changed to True in a future version of pandas. Pass observed=False to retain current behavior or observed=True to adopt the future default and silence this warning.\n",
      "  score_DC1 = data_DC1.obs.groupby(\"integration_id\")[score_column].mean().reset_index()\n",
      "/scratch/temp/11907333/ipykernel_3686815/3399175940.py:25: FutureWarning: The default of observed=False is deprecated and will be changed to True in a future version of pandas. Pass observed=False to retain current behavior or observed=True to adopt the future default and silence this warning.\n",
      "  score_DC1['replicate'] = score_DC1.groupby('cancer_broadest').cumcount()\n",
      "/scratch/temp/11907333/ipykernel_3686815/3399175940.py:34: FutureWarning: The default of observed=False is deprecated and will be changed to True in a future version of pandas. Pass observed=False to retain current behavior or observed=True to adopt the future default and silence this warning.\n",
      "  score_DC2 = data_DC2.obs.groupby(\"integration_id\")[score_column].mean().reset_index()\n",
      "/scratch/temp/11907333/ipykernel_3686815/3399175940.py:44: FutureWarning: The default of observed=False is deprecated and will be changed to True in a future version of pandas. Pass observed=False to retain current behavior or observed=True to adopt the future default and silence this warning.\n",
      "  score_DC2['replicate'] = score_DC2.groupby('cancer_broadest').cumcount()\n",
      "/scratch/temp/11907333/ipykernel_3686815/3399175940.py:52: FutureWarning: The default of observed=False is deprecated and will be changed to True in a future version of pandas. Pass observed=False to retain current behavior or observed=True to adopt the future default and silence this warning.\n",
      "  score_mregDC = data_mregDC.obs.groupby(\"integration_id\")[score_column].mean().reset_index()\n",
      "/scratch/temp/11907333/ipykernel_3686815/3399175940.py:62: FutureWarning: The default of observed=False is deprecated and will be changed to True in a future version of pandas. Pass observed=False to retain current behavior or observed=True to adopt the future default and silence this warning.\n",
      "  score_mregDC['replicate'] = score_mregDC.groupby('cancer_broadest').cumcount()\n"
     ]
    },
    {
     "name": "stdout",
     "output_type": "stream",
     "text": [
      "WARNING: genes are not in var_names and ignored: Index(['ADH1C', 'AQP7', 'CIDEA', 'CYP4A11', 'CYP4A22', 'FABP1', 'FABP2',\n",
      "       'GAD2', 'GAPDHS', 'H2AZ1', 'HAO2', 'HMGCS2', 'KMT5A', 'MIX23', 'XIST'],\n",
      "      dtype='object')\n",
      "WARNING: genes are not in var_names and ignored: Index(['ALDOB', 'ERO1A', 'FBP2', 'GAPDHS', 'GFUS', 'GYS2', 'NOL3', 'PFKFB1',\n",
      "       'PGLS', 'RARS1'],\n",
      "      dtype='object')\n",
      "WARNING: genes are not in var_names and ignored: Index(['ALDOB', 'ERO1A', 'FBP2', 'GAPDHS', 'GFUS', 'GYS2', 'NOL3', 'PFKFB1',\n",
      "       'PGLS', 'RARS1'],\n",
      "      dtype='object')\n"
     ]
    },
    {
     "name": "stderr",
     "output_type": "stream",
     "text": [
      "/scratch/temp/11907333/ipykernel_3686815/3399175940.py:15: FutureWarning: The default of observed=False is deprecated and will be changed to True in a future version of pandas. Pass observed=False to retain current behavior or observed=True to adopt the future default and silence this warning.\n",
      "  score_DC1 = data_DC1.obs.groupby(\"integration_id\")[score_column].mean().reset_index()\n",
      "/scratch/temp/11907333/ipykernel_3686815/3399175940.py:25: FutureWarning: The default of observed=False is deprecated and will be changed to True in a future version of pandas. Pass observed=False to retain current behavior or observed=True to adopt the future default and silence this warning.\n",
      "  score_DC1['replicate'] = score_DC1.groupby('cancer_broadest').cumcount()\n",
      "/scratch/temp/11907333/ipykernel_3686815/3399175940.py:34: FutureWarning: The default of observed=False is deprecated and will be changed to True in a future version of pandas. Pass observed=False to retain current behavior or observed=True to adopt the future default and silence this warning.\n",
      "  score_DC2 = data_DC2.obs.groupby(\"integration_id\")[score_column].mean().reset_index()\n",
      "/scratch/temp/11907333/ipykernel_3686815/3399175940.py:44: FutureWarning: The default of observed=False is deprecated and will be changed to True in a future version of pandas. Pass observed=False to retain current behavior or observed=True to adopt the future default and silence this warning.\n",
      "  score_DC2['replicate'] = score_DC2.groupby('cancer_broadest').cumcount()\n",
      "/scratch/temp/11907333/ipykernel_3686815/3399175940.py:52: FutureWarning: The default of observed=False is deprecated and will be changed to True in a future version of pandas. Pass observed=False to retain current behavior or observed=True to adopt the future default and silence this warning.\n",
      "  score_mregDC = data_mregDC.obs.groupby(\"integration_id\")[score_column].mean().reset_index()\n",
      "/scratch/temp/11907333/ipykernel_3686815/3399175940.py:62: FutureWarning: The default of observed=False is deprecated and will be changed to True in a future version of pandas. Pass observed=False to retain current behavior or observed=True to adopt the future default and silence this warning.\n",
      "  score_mregDC['replicate'] = score_mregDC.groupby('cancer_broadest').cumcount()\n"
     ]
    },
    {
     "name": "stdout",
     "output_type": "stream",
     "text": [
      "WARNING: genes are not in var_names and ignored: Index(['ALDOB', 'ERO1A', 'FBP2', 'GAPDHS', 'GFUS', 'GYS2', 'NOL3', 'PFKFB1',\n",
      "       'PGLS', 'RARS1'],\n",
      "      dtype='object')\n",
      "WARNING: genes are not in var_names and ignored: Index(['EEF1AKMT1', 'ETFBKMT', 'GUCY1B1', 'PLPP1', 'PTH1R'], dtype='object')\n",
      "WARNING: genes are not in var_names and ignored: Index(['EEF1AKMT1', 'ETFBKMT', 'GUCY1B1', 'PLPP1', 'PTH1R'], dtype='object')\n"
     ]
    },
    {
     "name": "stderr",
     "output_type": "stream",
     "text": [
      "/scratch/temp/11907333/ipykernel_3686815/3399175940.py:15: FutureWarning: The default of observed=False is deprecated and will be changed to True in a future version of pandas. Pass observed=False to retain current behavior or observed=True to adopt the future default and silence this warning.\n",
      "  score_DC1 = data_DC1.obs.groupby(\"integration_id\")[score_column].mean().reset_index()\n",
      "/scratch/temp/11907333/ipykernel_3686815/3399175940.py:25: FutureWarning: The default of observed=False is deprecated and will be changed to True in a future version of pandas. Pass observed=False to retain current behavior or observed=True to adopt the future default and silence this warning.\n",
      "  score_DC1['replicate'] = score_DC1.groupby('cancer_broadest').cumcount()\n",
      "/scratch/temp/11907333/ipykernel_3686815/3399175940.py:34: FutureWarning: The default of observed=False is deprecated and will be changed to True in a future version of pandas. Pass observed=False to retain current behavior or observed=True to adopt the future default and silence this warning.\n",
      "  score_DC2 = data_DC2.obs.groupby(\"integration_id\")[score_column].mean().reset_index()\n",
      "/scratch/temp/11907333/ipykernel_3686815/3399175940.py:44: FutureWarning: The default of observed=False is deprecated and will be changed to True in a future version of pandas. Pass observed=False to retain current behavior or observed=True to adopt the future default and silence this warning.\n",
      "  score_DC2['replicate'] = score_DC2.groupby('cancer_broadest').cumcount()\n",
      "/scratch/temp/11907333/ipykernel_3686815/3399175940.py:52: FutureWarning: The default of observed=False is deprecated and will be changed to True in a future version of pandas. Pass observed=False to retain current behavior or observed=True to adopt the future default and silence this warning.\n",
      "  score_mregDC = data_mregDC.obs.groupby(\"integration_id\")[score_column].mean().reset_index()\n",
      "/scratch/temp/11907333/ipykernel_3686815/3399175940.py:62: FutureWarning: The default of observed=False is deprecated and will be changed to True in a future version of pandas. Pass observed=False to retain current behavior or observed=True to adopt the future default and silence this warning.\n",
      "  score_mregDC['replicate'] = score_mregDC.groupby('cancer_broadest').cumcount()\n"
     ]
    },
    {
     "name": "stdout",
     "output_type": "stream",
     "text": [
      "WARNING: genes are not in var_names and ignored: Index(['EEF1AKMT1', 'ETFBKMT', 'GUCY1B1', 'PLPP1', 'PTH1R'], dtype='object')\n",
      "WARNING: genes are not in var_names and ignored: Index(['PLA2G2A', 'REG1A', 'TGFB1'], dtype='object')\n",
      "WARNING: genes are not in var_names and ignored: Index(['PLA2G2A', 'REG1A', 'TGFB1'], dtype='object')\n"
     ]
    },
    {
     "name": "stderr",
     "output_type": "stream",
     "text": [
      "/scratch/temp/11907333/ipykernel_3686815/3399175940.py:15: FutureWarning: The default of observed=False is deprecated and will be changed to True in a future version of pandas. Pass observed=False to retain current behavior or observed=True to adopt the future default and silence this warning.\n",
      "  score_DC1 = data_DC1.obs.groupby(\"integration_id\")[score_column].mean().reset_index()\n",
      "/scratch/temp/11907333/ipykernel_3686815/3399175940.py:25: FutureWarning: The default of observed=False is deprecated and will be changed to True in a future version of pandas. Pass observed=False to retain current behavior or observed=True to adopt the future default and silence this warning.\n",
      "  score_DC1['replicate'] = score_DC1.groupby('cancer_broadest').cumcount()\n",
      "/scratch/temp/11907333/ipykernel_3686815/3399175940.py:34: FutureWarning: The default of observed=False is deprecated and will be changed to True in a future version of pandas. Pass observed=False to retain current behavior or observed=True to adopt the future default and silence this warning.\n",
      "  score_DC2 = data_DC2.obs.groupby(\"integration_id\")[score_column].mean().reset_index()\n",
      "/scratch/temp/11907333/ipykernel_3686815/3399175940.py:44: FutureWarning: The default of observed=False is deprecated and will be changed to True in a future version of pandas. Pass observed=False to retain current behavior or observed=True to adopt the future default and silence this warning.\n",
      "  score_DC2['replicate'] = score_DC2.groupby('cancer_broadest').cumcount()\n",
      "/scratch/temp/11907333/ipykernel_3686815/3399175940.py:52: FutureWarning: The default of observed=False is deprecated and will be changed to True in a future version of pandas. Pass observed=False to retain current behavior or observed=True to adopt the future default and silence this warning.\n",
      "  score_mregDC = data_mregDC.obs.groupby(\"integration_id\")[score_column].mean().reset_index()\n",
      "/scratch/temp/11907333/ipykernel_3686815/3399175940.py:62: FutureWarning: The default of observed=False is deprecated and will be changed to True in a future version of pandas. Pass observed=False to retain current behavior or observed=True to adopt the future default and silence this warning.\n",
      "  score_mregDC['replicate'] = score_mregDC.groupby('cancer_broadest').cumcount()\n"
     ]
    },
    {
     "name": "stdout",
     "output_type": "stream",
     "text": [
      "WARNING: genes are not in var_names and ignored: Index(['PLA2G2A', 'REG1A', 'TGFB1'], dtype='object')\n",
      "WARNING: genes are not in var_names and ignored: Index(['ADGRE1', 'APLNR', 'BDKRB1', 'CXCL8', 'KCNMB2', 'MEP1A', 'NPFFR2',\n",
      "       'OPRK1', 'ROS1', 'SELENOS', 'SLC28A2', 'TACR3', 'VIP'],\n",
      "      dtype='object')\n",
      "WARNING: genes are not in var_names and ignored: Index(['ADGRE1', 'APLNR', 'BDKRB1', 'CXCL8', 'KCNMB2', 'MEP1A', 'NPFFR2',\n",
      "       'OPRK1', 'ROS1', 'SELENOS', 'SLC28A2', 'TACR3', 'VIP'],\n",
      "      dtype='object')\n"
     ]
    },
    {
     "name": "stderr",
     "output_type": "stream",
     "text": [
      "/scratch/temp/11907333/ipykernel_3686815/3399175940.py:15: FutureWarning: The default of observed=False is deprecated and will be changed to True in a future version of pandas. Pass observed=False to retain current behavior or observed=True to adopt the future default and silence this warning.\n",
      "  score_DC1 = data_DC1.obs.groupby(\"integration_id\")[score_column].mean().reset_index()\n",
      "/scratch/temp/11907333/ipykernel_3686815/3399175940.py:25: FutureWarning: The default of observed=False is deprecated and will be changed to True in a future version of pandas. Pass observed=False to retain current behavior or observed=True to adopt the future default and silence this warning.\n",
      "  score_DC1['replicate'] = score_DC1.groupby('cancer_broadest').cumcount()\n",
      "/scratch/temp/11907333/ipykernel_3686815/3399175940.py:34: FutureWarning: The default of observed=False is deprecated and will be changed to True in a future version of pandas. Pass observed=False to retain current behavior or observed=True to adopt the future default and silence this warning.\n",
      "  score_DC2 = data_DC2.obs.groupby(\"integration_id\")[score_column].mean().reset_index()\n",
      "/scratch/temp/11907333/ipykernel_3686815/3399175940.py:44: FutureWarning: The default of observed=False is deprecated and will be changed to True in a future version of pandas. Pass observed=False to retain current behavior or observed=True to adopt the future default and silence this warning.\n",
      "  score_DC2['replicate'] = score_DC2.groupby('cancer_broadest').cumcount()\n",
      "/scratch/temp/11907333/ipykernel_3686815/3399175940.py:52: FutureWarning: The default of observed=False is deprecated and will be changed to True in a future version of pandas. Pass observed=False to retain current behavior or observed=True to adopt the future default and silence this warning.\n",
      "  score_mregDC = data_mregDC.obs.groupby(\"integration_id\")[score_column].mean().reset_index()\n",
      "/scratch/temp/11907333/ipykernel_3686815/3399175940.py:62: FutureWarning: The default of observed=False is deprecated and will be changed to True in a future version of pandas. Pass observed=False to retain current behavior or observed=True to adopt the future default and silence this warning.\n",
      "  score_mregDC['replicate'] = score_mregDC.groupby('cancer_broadest').cumcount()\n"
     ]
    },
    {
     "name": "stdout",
     "output_type": "stream",
     "text": [
      "WARNING: genes are not in var_names and ignored: Index(['ADGRE1', 'APLNR', 'BDKRB1', 'CXCL8', 'KCNMB2', 'MEP1A', 'NPFFR2',\n",
      "       'OPRK1', 'ROS1', 'SELENOS', 'SLC28A2', 'TACR3', 'VIP'],\n",
      "      dtype='object')\n",
      "WARNING: genes are not in var_names and ignored: Index(['TENT5A', 'WARS1'], dtype='object')\n",
      "WARNING: genes are not in var_names and ignored: Index(['TENT5A', 'WARS1'], dtype='object')\n"
     ]
    },
    {
     "name": "stderr",
     "output_type": "stream",
     "text": [
      "/scratch/temp/11907333/ipykernel_3686815/3399175940.py:15: FutureWarning: The default of observed=False is deprecated and will be changed to True in a future version of pandas. Pass observed=False to retain current behavior or observed=True to adopt the future default and silence this warning.\n",
      "  score_DC1 = data_DC1.obs.groupby(\"integration_id\")[score_column].mean().reset_index()\n",
      "/scratch/temp/11907333/ipykernel_3686815/3399175940.py:25: FutureWarning: The default of observed=False is deprecated and will be changed to True in a future version of pandas. Pass observed=False to retain current behavior or observed=True to adopt the future default and silence this warning.\n",
      "  score_DC1['replicate'] = score_DC1.groupby('cancer_broadest').cumcount()\n",
      "/scratch/temp/11907333/ipykernel_3686815/3399175940.py:34: FutureWarning: The default of observed=False is deprecated and will be changed to True in a future version of pandas. Pass observed=False to retain current behavior or observed=True to adopt the future default and silence this warning.\n",
      "  score_DC2 = data_DC2.obs.groupby(\"integration_id\")[score_column].mean().reset_index()\n",
      "/scratch/temp/11907333/ipykernel_3686815/3399175940.py:44: FutureWarning: The default of observed=False is deprecated and will be changed to True in a future version of pandas. Pass observed=False to retain current behavior or observed=True to adopt the future default and silence this warning.\n",
      "  score_DC2['replicate'] = score_DC2.groupby('cancer_broadest').cumcount()\n",
      "/scratch/temp/11907333/ipykernel_3686815/3399175940.py:52: FutureWarning: The default of observed=False is deprecated and will be changed to True in a future version of pandas. Pass observed=False to retain current behavior or observed=True to adopt the future default and silence this warning.\n",
      "  score_mregDC = data_mregDC.obs.groupby(\"integration_id\")[score_column].mean().reset_index()\n",
      "/scratch/temp/11907333/ipykernel_3686815/3399175940.py:62: FutureWarning: The default of observed=False is deprecated and will be changed to True in a future version of pandas. Pass observed=False to retain current behavior or observed=True to adopt the future default and silence this warning.\n",
      "  score_mregDC['replicate'] = score_mregDC.groupby('cancer_broadest').cumcount()\n"
     ]
    },
    {
     "name": "stdout",
     "output_type": "stream",
     "text": [
      "WARNING: genes are not in var_names and ignored: Index(['TENT5A', 'WARS1'], dtype='object')\n",
      "WARNING: genes are not in var_names and ignored: Index(['MARCHF1', 'RNF213', 'WARS1'], dtype='object')\n",
      "WARNING: genes are not in var_names and ignored: Index(['MARCHF1', 'RNF213', 'WARS1'], dtype='object')\n"
     ]
    },
    {
     "name": "stderr",
     "output_type": "stream",
     "text": [
      "/scratch/temp/11907333/ipykernel_3686815/3399175940.py:15: FutureWarning: The default of observed=False is deprecated and will be changed to True in a future version of pandas. Pass observed=False to retain current behavior or observed=True to adopt the future default and silence this warning.\n",
      "  score_DC1 = data_DC1.obs.groupby(\"integration_id\")[score_column].mean().reset_index()\n",
      "/scratch/temp/11907333/ipykernel_3686815/3399175940.py:25: FutureWarning: The default of observed=False is deprecated and will be changed to True in a future version of pandas. Pass observed=False to retain current behavior or observed=True to adopt the future default and silence this warning.\n",
      "  score_DC1['replicate'] = score_DC1.groupby('cancer_broadest').cumcount()\n",
      "/scratch/temp/11907333/ipykernel_3686815/3399175940.py:34: FutureWarning: The default of observed=False is deprecated and will be changed to True in a future version of pandas. Pass observed=False to retain current behavior or observed=True to adopt the future default and silence this warning.\n",
      "  score_DC2 = data_DC2.obs.groupby(\"integration_id\")[score_column].mean().reset_index()\n",
      "/scratch/temp/11907333/ipykernel_3686815/3399175940.py:44: FutureWarning: The default of observed=False is deprecated and will be changed to True in a future version of pandas. Pass observed=False to retain current behavior or observed=True to adopt the future default and silence this warning.\n",
      "  score_DC2['replicate'] = score_DC2.groupby('cancer_broadest').cumcount()\n",
      "/scratch/temp/11907333/ipykernel_3686815/3399175940.py:52: FutureWarning: The default of observed=False is deprecated and will be changed to True in a future version of pandas. Pass observed=False to retain current behavior or observed=True to adopt the future default and silence this warning.\n",
      "  score_mregDC = data_mregDC.obs.groupby(\"integration_id\")[score_column].mean().reset_index()\n",
      "/scratch/temp/11907333/ipykernel_3686815/3399175940.py:62: FutureWarning: The default of observed=False is deprecated and will be changed to True in a future version of pandas. Pass observed=False to retain current behavior or observed=True to adopt the future default and silence this warning.\n",
      "  score_mregDC['replicate'] = score_mregDC.groupby('cancer_broadest').cumcount()\n"
     ]
    },
    {
     "name": "stdout",
     "output_type": "stream",
     "text": [
      "WARNING: genes are not in var_names and ignored: Index(['MARCHF1', 'RNF213', 'WARS1'], dtype='object')\n",
      "WARNING: genes are not in var_names and ignored: Index(['ABCB11', 'ABCG4', 'ACTC1', 'AMBN', 'ATP4A', 'BRDT', 'CACNG1', 'CAPN9',\n",
      "       'CHRNG', 'CLDN8', 'CLPS', 'COQ8A', 'CPB1', 'CYP11B2', 'EPHA5', 'FGF16',\n",
      "       'FSHB', 'GDNF', 'GP2', 'GRID2', 'HTR1B', 'HTR1D', 'IL5', 'INSL5',\n",
      "       'IRS4', 'ITIH3', 'KLK7', 'MACROH2A2', 'MYH7', 'NGB', 'NPY4R', 'NRIP2',\n",
      "       'P2RY4', 'PAX4', 'PCDHB1', 'PRKN', 'PROP1', 'PTGFR', 'SCGB1A1',\n",
      "       'SCN10A', 'SELENOP', 'SERPINA10', 'SLC38A3', 'SMPX', 'SSTR4', 'TCL1A',\n",
      "       'TENT5C', 'TEX15', 'TFAP2B', 'TFF2', 'TLX1', 'TSHB', 'UGT2B17',\n",
      "       'VPS50'],\n",
      "      dtype='object')\n",
      "WARNING: genes are not in var_names and ignored: Index(['ABCB11', 'ABCG4', 'ACTC1', 'AMBN', 'ATP4A', 'BRDT', 'CACNG1', 'CAPN9',\n",
      "       'CHRNG', 'CLDN8', 'CLPS', 'COQ8A', 'CPB1', 'CYP11B2', 'EPHA5', 'FGF16',\n",
      "       'FSHB', 'GDNF', 'GP2', 'GRID2', 'HTR1B', 'HTR1D', 'IL5', 'INSL5',\n",
      "       'IRS4', 'ITIH3', 'KLK7', 'MACROH2A2', 'MYH7', 'NGB', 'NPY4R', 'NRIP2',\n",
      "       'P2RY4', 'PAX4', 'PCDHB1', 'PRKN', 'PROP1', 'PTGFR', 'SCGB1A1',\n",
      "       'SCN10A', 'SELENOP', 'SERPINA10', 'SLC38A3', 'SMPX', 'SSTR4', 'TCL1A',\n",
      "       'TENT5C', 'TEX15', 'TFAP2B', 'TFF2', 'TLX1', 'TSHB', 'UGT2B17',\n",
      "       'VPS50'],\n",
      "      dtype='object')\n"
     ]
    },
    {
     "name": "stderr",
     "output_type": "stream",
     "text": [
      "/scratch/temp/11907333/ipykernel_3686815/3399175940.py:15: FutureWarning: The default of observed=False is deprecated and will be changed to True in a future version of pandas. Pass observed=False to retain current behavior or observed=True to adopt the future default and silence this warning.\n",
      "  score_DC1 = data_DC1.obs.groupby(\"integration_id\")[score_column].mean().reset_index()\n",
      "/scratch/temp/11907333/ipykernel_3686815/3399175940.py:25: FutureWarning: The default of observed=False is deprecated and will be changed to True in a future version of pandas. Pass observed=False to retain current behavior or observed=True to adopt the future default and silence this warning.\n",
      "  score_DC1['replicate'] = score_DC1.groupby('cancer_broadest').cumcount()\n",
      "/scratch/temp/11907333/ipykernel_3686815/3399175940.py:34: FutureWarning: The default of observed=False is deprecated and will be changed to True in a future version of pandas. Pass observed=False to retain current behavior or observed=True to adopt the future default and silence this warning.\n",
      "  score_DC2 = data_DC2.obs.groupby(\"integration_id\")[score_column].mean().reset_index()\n",
      "/scratch/temp/11907333/ipykernel_3686815/3399175940.py:44: FutureWarning: The default of observed=False is deprecated and will be changed to True in a future version of pandas. Pass observed=False to retain current behavior or observed=True to adopt the future default and silence this warning.\n",
      "  score_DC2['replicate'] = score_DC2.groupby('cancer_broadest').cumcount()\n",
      "/scratch/temp/11907333/ipykernel_3686815/3399175940.py:52: FutureWarning: The default of observed=False is deprecated and will be changed to True in a future version of pandas. Pass observed=False to retain current behavior or observed=True to adopt the future default and silence this warning.\n",
      "  score_mregDC = data_mregDC.obs.groupby(\"integration_id\")[score_column].mean().reset_index()\n",
      "/scratch/temp/11907333/ipykernel_3686815/3399175940.py:62: FutureWarning: The default of observed=False is deprecated and will be changed to True in a future version of pandas. Pass observed=False to retain current behavior or observed=True to adopt the future default and silence this warning.\n",
      "  score_mregDC['replicate'] = score_mregDC.groupby('cancer_broadest').cumcount()\n"
     ]
    },
    {
     "name": "stdout",
     "output_type": "stream",
     "text": [
      "WARNING: genes are not in var_names and ignored: Index(['ABCB11', 'ABCG4', 'ACTC1', 'AMBN', 'ATP4A', 'BRDT', 'CACNG1', 'CAPN9',\n",
      "       'CHRNG', 'CLDN8', 'CLPS', 'COQ8A', 'CPB1', 'CYP11B2', 'EPHA5', 'FGF16',\n",
      "       'FSHB', 'GDNF', 'GP2', 'GRID2', 'HTR1B', 'HTR1D', 'IL5', 'INSL5',\n",
      "       'IRS4', 'ITIH3', 'KLK7', 'MACROH2A2', 'MYH7', 'NGB', 'NPY4R', 'NRIP2',\n",
      "       'P2RY4', 'PAX4', 'PCDHB1', 'PRKN', 'PROP1', 'PTGFR', 'SCGB1A1',\n",
      "       'SCN10A', 'SELENOP', 'SERPINA10', 'SLC38A3', 'SMPX', 'SSTR4', 'TCL1A',\n",
      "       'TENT5C', 'TEX15', 'TFAP2B', 'TFF2', 'TLX1', 'TSHB', 'UGT2B17',\n",
      "       'VPS50'],\n",
      "      dtype='object')\n",
      "WARNING: genes are not in var_names and ignored: Index(['ADGRA2', 'ADGRL4', 'ANXA10', 'ARG1', 'CFHR2', 'CIDEA', 'ERO1A',\n",
      "       'GUCY1A1', 'H2BC3', 'HOXD11', 'IGF2', 'NGF', 'NR0B2', 'NR1H4', 'PCP4',\n",
      "       'PECAM1', 'PEG3', 'PRELID3B', 'RBP4', 'RELN', 'SEMA3B', 'SNAP91',\n",
      "       'SPON1', 'TMEM100', 'USH1C'],\n",
      "      dtype='object')\n",
      "WARNING: genes are not in var_names and ignored: Index(['ADGRA2', 'ADGRL4', 'ANXA10', 'ARG1', 'CFHR2', 'CIDEA', 'ERO1A',\n",
      "       'GUCY1A1', 'H2BC3', 'HOXD11', 'IGF2', 'NGF', 'NR0B2', 'NR1H4', 'PCP4',\n",
      "       'PECAM1', 'PEG3', 'PRELID3B', 'RBP4', 'RELN', 'SEMA3B', 'SNAP91',\n",
      "       'SPON1', 'TMEM100', 'USH1C'],\n",
      "      dtype='object')\n"
     ]
    },
    {
     "name": "stderr",
     "output_type": "stream",
     "text": [
      "/scratch/temp/11907333/ipykernel_3686815/3399175940.py:15: FutureWarning: The default of observed=False is deprecated and will be changed to True in a future version of pandas. Pass observed=False to retain current behavior or observed=True to adopt the future default and silence this warning.\n",
      "  score_DC1 = data_DC1.obs.groupby(\"integration_id\")[score_column].mean().reset_index()\n",
      "/scratch/temp/11907333/ipykernel_3686815/3399175940.py:25: FutureWarning: The default of observed=False is deprecated and will be changed to True in a future version of pandas. Pass observed=False to retain current behavior or observed=True to adopt the future default and silence this warning.\n",
      "  score_DC1['replicate'] = score_DC1.groupby('cancer_broadest').cumcount()\n",
      "/scratch/temp/11907333/ipykernel_3686815/3399175940.py:34: FutureWarning: The default of observed=False is deprecated and will be changed to True in a future version of pandas. Pass observed=False to retain current behavior or observed=True to adopt the future default and silence this warning.\n",
      "  score_DC2 = data_DC2.obs.groupby(\"integration_id\")[score_column].mean().reset_index()\n",
      "/scratch/temp/11907333/ipykernel_3686815/3399175940.py:44: FutureWarning: The default of observed=False is deprecated and will be changed to True in a future version of pandas. Pass observed=False to retain current behavior or observed=True to adopt the future default and silence this warning.\n",
      "  score_DC2['replicate'] = score_DC2.groupby('cancer_broadest').cumcount()\n",
      "/scratch/temp/11907333/ipykernel_3686815/3399175940.py:52: FutureWarning: The default of observed=False is deprecated and will be changed to True in a future version of pandas. Pass observed=False to retain current behavior or observed=True to adopt the future default and silence this warning.\n",
      "  score_mregDC = data_mregDC.obs.groupby(\"integration_id\")[score_column].mean().reset_index()\n",
      "/scratch/temp/11907333/ipykernel_3686815/3399175940.py:62: FutureWarning: The default of observed=False is deprecated and will be changed to True in a future version of pandas. Pass observed=False to retain current behavior or observed=True to adopt the future default and silence this warning.\n",
      "  score_mregDC['replicate'] = score_mregDC.groupby('cancer_broadest').cumcount()\n"
     ]
    },
    {
     "name": "stdout",
     "output_type": "stream",
     "text": [
      "WARNING: genes are not in var_names and ignored: Index(['ADGRA2', 'ADGRL4', 'ANXA10', 'ARG1', 'CFHR2', 'CIDEA', 'ERO1A',\n",
      "       'GUCY1A1', 'H2BC3', 'HOXD11', 'IGF2', 'NGF', 'NR0B2', 'NR1H4', 'PCP4',\n",
      "       'PECAM1', 'PEG3', 'PRELID3B', 'RBP4', 'RELN', 'SEMA3B', 'SNAP91',\n",
      "       'SPON1', 'TMEM100', 'USH1C'],\n",
      "      dtype='object')\n"
     ]
    },
    {
     "name": "stderr",
     "output_type": "stream",
     "text": [
      "/scratch/temp/11907333/ipykernel_3686815/3399175940.py:15: FutureWarning: The default of observed=False is deprecated and will be changed to True in a future version of pandas. Pass observed=False to retain current behavior or observed=True to adopt the future default and silence this warning.\n",
      "  score_DC1 = data_DC1.obs.groupby(\"integration_id\")[score_column].mean().reset_index()\n",
      "/scratch/temp/11907333/ipykernel_3686815/3399175940.py:25: FutureWarning: The default of observed=False is deprecated and will be changed to True in a future version of pandas. Pass observed=False to retain current behavior or observed=True to adopt the future default and silence this warning.\n",
      "  score_DC1['replicate'] = score_DC1.groupby('cancer_broadest').cumcount()\n",
      "/scratch/temp/11907333/ipykernel_3686815/3399175940.py:34: FutureWarning: The default of observed=False is deprecated and will be changed to True in a future version of pandas. Pass observed=False to retain current behavior or observed=True to adopt the future default and silence this warning.\n",
      "  score_DC2 = data_DC2.obs.groupby(\"integration_id\")[score_column].mean().reset_index()\n",
      "/scratch/temp/11907333/ipykernel_3686815/3399175940.py:44: FutureWarning: The default of observed=False is deprecated and will be changed to True in a future version of pandas. Pass observed=False to retain current behavior or observed=True to adopt the future default and silence this warning.\n",
      "  score_DC2['replicate'] = score_DC2.groupby('cancer_broadest').cumcount()\n",
      "/scratch/temp/11907333/ipykernel_3686815/3399175940.py:52: FutureWarning: The default of observed=False is deprecated and will be changed to True in a future version of pandas. Pass observed=False to retain current behavior or observed=True to adopt the future default and silence this warning.\n",
      "  score_mregDC = data_mregDC.obs.groupby(\"integration_id\")[score_column].mean().reset_index()\n",
      "/scratch/temp/11907333/ipykernel_3686815/3399175940.py:62: FutureWarning: The default of observed=False is deprecated and will be changed to True in a future version of pandas. Pass observed=False to retain current behavior or observed=True to adopt the future default and silence this warning.\n",
      "  score_mregDC['replicate'] = score_mregDC.groupby('cancer_broadest').cumcount()\n"
     ]
    },
    {
     "name": "stdout",
     "output_type": "stream",
     "text": [
      "WARNING: genes are not in var_names and ignored: Index(['EPRS1', 'H2AZ1', 'IARS1', 'KARS1', 'RACK1', 'TOMM70'], dtype='object')\n",
      "WARNING: genes are not in var_names and ignored: Index(['EPRS1', 'H2AZ1', 'IARS1', 'KARS1', 'RACK1', 'TOMM70'], dtype='object')\n",
      "WARNING: genes are not in var_names and ignored: Index(['EPRS1', 'H2AZ1', 'IARS1', 'KARS1', 'RACK1', 'TOMM70'], dtype='object')\n"
     ]
    },
    {
     "name": "stderr",
     "output_type": "stream",
     "text": [
      "/scratch/temp/11907333/ipykernel_3686815/3399175940.py:15: FutureWarning: The default of observed=False is deprecated and will be changed to True in a future version of pandas. Pass observed=False to retain current behavior or observed=True to adopt the future default and silence this warning.\n",
      "  score_DC1 = data_DC1.obs.groupby(\"integration_id\")[score_column].mean().reset_index()\n",
      "/scratch/temp/11907333/ipykernel_3686815/3399175940.py:25: FutureWarning: The default of observed=False is deprecated and will be changed to True in a future version of pandas. Pass observed=False to retain current behavior or observed=True to adopt the future default and silence this warning.\n",
      "  score_DC1['replicate'] = score_DC1.groupby('cancer_broadest').cumcount()\n",
      "/scratch/temp/11907333/ipykernel_3686815/3399175940.py:34: FutureWarning: The default of observed=False is deprecated and will be changed to True in a future version of pandas. Pass observed=False to retain current behavior or observed=True to adopt the future default and silence this warning.\n",
      "  score_DC2 = data_DC2.obs.groupby(\"integration_id\")[score_column].mean().reset_index()\n",
      "/scratch/temp/11907333/ipykernel_3686815/3399175940.py:44: FutureWarning: The default of observed=False is deprecated and will be changed to True in a future version of pandas. Pass observed=False to retain current behavior or observed=True to adopt the future default and silence this warning.\n",
      "  score_DC2['replicate'] = score_DC2.groupby('cancer_broadest').cumcount()\n",
      "/scratch/temp/11907333/ipykernel_3686815/3399175940.py:52: FutureWarning: The default of observed=False is deprecated and will be changed to True in a future version of pandas. Pass observed=False to retain current behavior or observed=True to adopt the future default and silence this warning.\n",
      "  score_mregDC = data_mregDC.obs.groupby(\"integration_id\")[score_column].mean().reset_index()\n",
      "/scratch/temp/11907333/ipykernel_3686815/3399175940.py:62: FutureWarning: The default of observed=False is deprecated and will be changed to True in a future version of pandas. Pass observed=False to retain current behavior or observed=True to adopt the future default and silence this warning.\n",
      "  score_mregDC['replicate'] = score_mregDC.groupby('cancer_broadest').cumcount()\n"
     ]
    },
    {
     "name": "stdout",
     "output_type": "stream",
     "text": [
      "WARNING: genes are not in var_names and ignored: Index(['WNT2'], dtype='object')\n",
      "WARNING: genes are not in var_names and ignored: Index(['WNT2'], dtype='object')\n"
     ]
    },
    {
     "name": "stderr",
     "output_type": "stream",
     "text": [
      "/scratch/temp/11907333/ipykernel_3686815/3399175940.py:15: FutureWarning: The default of observed=False is deprecated and will be changed to True in a future version of pandas. Pass observed=False to retain current behavior or observed=True to adopt the future default and silence this warning.\n",
      "  score_DC1 = data_DC1.obs.groupby(\"integration_id\")[score_column].mean().reset_index()\n",
      "/scratch/temp/11907333/ipykernel_3686815/3399175940.py:25: FutureWarning: The default of observed=False is deprecated and will be changed to True in a future version of pandas. Pass observed=False to retain current behavior or observed=True to adopt the future default and silence this warning.\n",
      "  score_DC1['replicate'] = score_DC1.groupby('cancer_broadest').cumcount()\n",
      "/scratch/temp/11907333/ipykernel_3686815/3399175940.py:34: FutureWarning: The default of observed=False is deprecated and will be changed to True in a future version of pandas. Pass observed=False to retain current behavior or observed=True to adopt the future default and silence this warning.\n",
      "  score_DC2 = data_DC2.obs.groupby(\"integration_id\")[score_column].mean().reset_index()\n",
      "/scratch/temp/11907333/ipykernel_3686815/3399175940.py:44: FutureWarning: The default of observed=False is deprecated and will be changed to True in a future version of pandas. Pass observed=False to retain current behavior or observed=True to adopt the future default and silence this warning.\n",
      "  score_DC2['replicate'] = score_DC2.groupby('cancer_broadest').cumcount()\n",
      "/scratch/temp/11907333/ipykernel_3686815/3399175940.py:52: FutureWarning: The default of observed=False is deprecated and will be changed to True in a future version of pandas. Pass observed=False to retain current behavior or observed=True to adopt the future default and silence this warning.\n",
      "  score_mregDC = data_mregDC.obs.groupby(\"integration_id\")[score_column].mean().reset_index()\n",
      "/scratch/temp/11907333/ipykernel_3686815/3399175940.py:62: FutureWarning: The default of observed=False is deprecated and will be changed to True in a future version of pandas. Pass observed=False to retain current behavior or observed=True to adopt the future default and silence this warning.\n",
      "  score_mregDC['replicate'] = score_mregDC.groupby('cancer_broadest').cumcount()\n"
     ]
    },
    {
     "name": "stdout",
     "output_type": "stream",
     "text": [
      "WARNING: genes are not in var_names and ignored: Index(['WNT2'], dtype='object')\n",
      "WARNING: genes are not in var_names and ignored: Index(['ATP5F1A', 'ATP5F1B', 'ATP5F1C', 'ATP5F1D', 'ATP5F1E', 'ATP5MC1',\n",
      "       'ATP5MC2', 'ATP5MC3', 'ATP5ME', 'ATP5MF', 'ATP5MG', 'ATP5PB', 'ATP5PD',\n",
      "       'ATP5PF', 'ATP5PO', 'TOMM70'],\n",
      "      dtype='object')\n",
      "WARNING: genes are not in var_names and ignored: Index(['ATP5F1A', 'ATP5F1B', 'ATP5F1C', 'ATP5F1D', 'ATP5F1E', 'ATP5MC1',\n",
      "       'ATP5MC2', 'ATP5MC3', 'ATP5ME', 'ATP5MF', 'ATP5MG', 'ATP5PB', 'ATP5PD',\n",
      "       'ATP5PF', 'ATP5PO', 'TOMM70'],\n",
      "      dtype='object')\n"
     ]
    },
    {
     "name": "stderr",
     "output_type": "stream",
     "text": [
      "/scratch/temp/11907333/ipykernel_3686815/3399175940.py:15: FutureWarning: The default of observed=False is deprecated and will be changed to True in a future version of pandas. Pass observed=False to retain current behavior or observed=True to adopt the future default and silence this warning.\n",
      "  score_DC1 = data_DC1.obs.groupby(\"integration_id\")[score_column].mean().reset_index()\n",
      "/scratch/temp/11907333/ipykernel_3686815/3399175940.py:25: FutureWarning: The default of observed=False is deprecated and will be changed to True in a future version of pandas. Pass observed=False to retain current behavior or observed=True to adopt the future default and silence this warning.\n",
      "  score_DC1['replicate'] = score_DC1.groupby('cancer_broadest').cumcount()\n",
      "/scratch/temp/11907333/ipykernel_3686815/3399175940.py:34: FutureWarning: The default of observed=False is deprecated and will be changed to True in a future version of pandas. Pass observed=False to retain current behavior or observed=True to adopt the future default and silence this warning.\n",
      "  score_DC2 = data_DC2.obs.groupby(\"integration_id\")[score_column].mean().reset_index()\n",
      "/scratch/temp/11907333/ipykernel_3686815/3399175940.py:44: FutureWarning: The default of observed=False is deprecated and will be changed to True in a future version of pandas. Pass observed=False to retain current behavior or observed=True to adopt the future default and silence this warning.\n",
      "  score_DC2['replicate'] = score_DC2.groupby('cancer_broadest').cumcount()\n",
      "/scratch/temp/11907333/ipykernel_3686815/3399175940.py:52: FutureWarning: The default of observed=False is deprecated and will be changed to True in a future version of pandas. Pass observed=False to retain current behavior or observed=True to adopt the future default and silence this warning.\n",
      "  score_mregDC = data_mregDC.obs.groupby(\"integration_id\")[score_column].mean().reset_index()\n",
      "/scratch/temp/11907333/ipykernel_3686815/3399175940.py:62: FutureWarning: The default of observed=False is deprecated and will be changed to True in a future version of pandas. Pass observed=False to retain current behavior or observed=True to adopt the future default and silence this warning.\n",
      "  score_mregDC['replicate'] = score_mregDC.groupby('cancer_broadest').cumcount()\n"
     ]
    },
    {
     "name": "stdout",
     "output_type": "stream",
     "text": [
      "WARNING: genes are not in var_names and ignored: Index(['ATP5F1A', 'ATP5F1B', 'ATP5F1C', 'ATP5F1D', 'ATP5F1E', 'ATP5MC1',\n",
      "       'ATP5MC2', 'ATP5MC3', 'ATP5ME', 'ATP5MF', 'ATP5MG', 'ATP5PB', 'ATP5PD',\n",
      "       'ATP5PF', 'ATP5PO', 'TOMM70'],\n",
      "      dtype='object')\n",
      "WARNING: genes are not in var_names and ignored: Index(['ADCY2', 'FGF6', 'GRK2', 'IL4', 'NGF'], dtype='object')\n",
      "WARNING: genes are not in var_names and ignored: Index(['ADCY2', 'FGF6', 'GRK2', 'IL4', 'NGF'], dtype='object')\n"
     ]
    },
    {
     "name": "stderr",
     "output_type": "stream",
     "text": [
      "/scratch/temp/11907333/ipykernel_3686815/3399175940.py:15: FutureWarning: The default of observed=False is deprecated and will be changed to True in a future version of pandas. Pass observed=False to retain current behavior or observed=True to adopt the future default and silence this warning.\n",
      "  score_DC1 = data_DC1.obs.groupby(\"integration_id\")[score_column].mean().reset_index()\n",
      "/scratch/temp/11907333/ipykernel_3686815/3399175940.py:25: FutureWarning: The default of observed=False is deprecated and will be changed to True in a future version of pandas. Pass observed=False to retain current behavior or observed=True to adopt the future default and silence this warning.\n",
      "  score_DC1['replicate'] = score_DC1.groupby('cancer_broadest').cumcount()\n",
      "/scratch/temp/11907333/ipykernel_3686815/3399175940.py:34: FutureWarning: The default of observed=False is deprecated and will be changed to True in a future version of pandas. Pass observed=False to retain current behavior or observed=True to adopt the future default and silence this warning.\n",
      "  score_DC2 = data_DC2.obs.groupby(\"integration_id\")[score_column].mean().reset_index()\n",
      "/scratch/temp/11907333/ipykernel_3686815/3399175940.py:44: FutureWarning: The default of observed=False is deprecated and will be changed to True in a future version of pandas. Pass observed=False to retain current behavior or observed=True to adopt the future default and silence this warning.\n",
      "  score_DC2['replicate'] = score_DC2.groupby('cancer_broadest').cumcount()\n",
      "/scratch/temp/11907333/ipykernel_3686815/3399175940.py:52: FutureWarning: The default of observed=False is deprecated and will be changed to True in a future version of pandas. Pass observed=False to retain current behavior or observed=True to adopt the future default and silence this warning.\n",
      "  score_mregDC = data_mregDC.obs.groupby(\"integration_id\")[score_column].mean().reset_index()\n",
      "/scratch/temp/11907333/ipykernel_3686815/3399175940.py:62: FutureWarning: The default of observed=False is deprecated and will be changed to True in a future version of pandas. Pass observed=False to retain current behavior or observed=True to adopt the future default and silence this warning.\n",
      "  score_mregDC['replicate'] = score_mregDC.groupby('cancer_broadest').cumcount()\n"
     ]
    },
    {
     "name": "stdout",
     "output_type": "stream",
     "text": [
      "WARNING: genes are not in var_names and ignored: Index(['ADCY2', 'FGF6', 'GRK2', 'IL4', 'NGF'], dtype='object')\n",
      "WARNING: genes are not in var_names and ignored: Index(['DOP1A', 'SEC22B', 'SH3GL2'], dtype='object')\n",
      "WARNING: genes are not in var_names and ignored: Index(['DOP1A', 'SEC22B', 'SH3GL2'], dtype='object')\n"
     ]
    },
    {
     "name": "stderr",
     "output_type": "stream",
     "text": [
      "/scratch/temp/11907333/ipykernel_3686815/3399175940.py:15: FutureWarning: The default of observed=False is deprecated and will be changed to True in a future version of pandas. Pass observed=False to retain current behavior or observed=True to adopt the future default and silence this warning.\n",
      "  score_DC1 = data_DC1.obs.groupby(\"integration_id\")[score_column].mean().reset_index()\n",
      "/scratch/temp/11907333/ipykernel_3686815/3399175940.py:25: FutureWarning: The default of observed=False is deprecated and will be changed to True in a future version of pandas. Pass observed=False to retain current behavior or observed=True to adopt the future default and silence this warning.\n",
      "  score_DC1['replicate'] = score_DC1.groupby('cancer_broadest').cumcount()\n",
      "/scratch/temp/11907333/ipykernel_3686815/3399175940.py:34: FutureWarning: The default of observed=False is deprecated and will be changed to True in a future version of pandas. Pass observed=False to retain current behavior or observed=True to adopt the future default and silence this warning.\n",
      "  score_DC2 = data_DC2.obs.groupby(\"integration_id\")[score_column].mean().reset_index()\n",
      "/scratch/temp/11907333/ipykernel_3686815/3399175940.py:44: FutureWarning: The default of observed=False is deprecated and will be changed to True in a future version of pandas. Pass observed=False to retain current behavior or observed=True to adopt the future default and silence this warning.\n",
      "  score_DC2['replicate'] = score_DC2.groupby('cancer_broadest').cumcount()\n",
      "/scratch/temp/11907333/ipykernel_3686815/3399175940.py:52: FutureWarning: The default of observed=False is deprecated and will be changed to True in a future version of pandas. Pass observed=False to retain current behavior or observed=True to adopt the future default and silence this warning.\n",
      "  score_mregDC = data_mregDC.obs.groupby(\"integration_id\")[score_column].mean().reset_index()\n",
      "/scratch/temp/11907333/ipykernel_3686815/3399175940.py:62: FutureWarning: The default of observed=False is deprecated and will be changed to True in a future version of pandas. Pass observed=False to retain current behavior or observed=True to adopt the future default and silence this warning.\n",
      "  score_mregDC['replicate'] = score_mregDC.groupby('cancer_broadest').cumcount()\n"
     ]
    },
    {
     "name": "stdout",
     "output_type": "stream",
     "text": [
      "WARNING: genes are not in var_names and ignored: Index(['DOP1A', 'SEC22B', 'SH3GL2'], dtype='object')\n",
      "WARNING: genes are not in var_names and ignored: Index(['PTPA', 'SELENOS'], dtype='object')\n",
      "WARNING: genes are not in var_names and ignored: Index(['PTPA', 'SELENOS'], dtype='object')\n"
     ]
    },
    {
     "name": "stderr",
     "output_type": "stream",
     "text": [
      "/scratch/temp/11907333/ipykernel_3686815/3399175940.py:15: FutureWarning: The default of observed=False is deprecated and will be changed to True in a future version of pandas. Pass observed=False to retain current behavior or observed=True to adopt the future default and silence this warning.\n",
      "  score_DC1 = data_DC1.obs.groupby(\"integration_id\")[score_column].mean().reset_index()\n",
      "/scratch/temp/11907333/ipykernel_3686815/3399175940.py:25: FutureWarning: The default of observed=False is deprecated and will be changed to True in a future version of pandas. Pass observed=False to retain current behavior or observed=True to adopt the future default and silence this warning.\n",
      "  score_DC1['replicate'] = score_DC1.groupby('cancer_broadest').cumcount()\n",
      "/scratch/temp/11907333/ipykernel_3686815/3399175940.py:34: FutureWarning: The default of observed=False is deprecated and will be changed to True in a future version of pandas. Pass observed=False to retain current behavior or observed=True to adopt the future default and silence this warning.\n",
      "  score_DC2 = data_DC2.obs.groupby(\"integration_id\")[score_column].mean().reset_index()\n",
      "/scratch/temp/11907333/ipykernel_3686815/3399175940.py:44: FutureWarning: The default of observed=False is deprecated and will be changed to True in a future version of pandas. Pass observed=False to retain current behavior or observed=True to adopt the future default and silence this warning.\n",
      "  score_DC2['replicate'] = score_DC2.groupby('cancer_broadest').cumcount()\n",
      "/scratch/temp/11907333/ipykernel_3686815/3399175940.py:52: FutureWarning: The default of observed=False is deprecated and will be changed to True in a future version of pandas. Pass observed=False to retain current behavior or observed=True to adopt the future default and silence this warning.\n",
      "  score_mregDC = data_mregDC.obs.groupby(\"integration_id\")[score_column].mean().reset_index()\n",
      "/scratch/temp/11907333/ipykernel_3686815/3399175940.py:62: FutureWarning: The default of observed=False is deprecated and will be changed to True in a future version of pandas. Pass observed=False to retain current behavior or observed=True to adopt the future default and silence this warning.\n",
      "  score_mregDC['replicate'] = score_mregDC.groupby('cancer_broadest').cumcount()\n"
     ]
    },
    {
     "name": "stdout",
     "output_type": "stream",
     "text": [
      "WARNING: genes are not in var_names and ignored: Index(['PTPA', 'SELENOS'], dtype='object')\n",
      "WARNING: genes are not in var_names and ignored: Index(['LEFTY2', 'TGFB1'], dtype='object')\n",
      "WARNING: genes are not in var_names and ignored: Index(['LEFTY2', 'TGFB1'], dtype='object')\n"
     ]
    },
    {
     "name": "stderr",
     "output_type": "stream",
     "text": [
      "/scratch/temp/11907333/ipykernel_3686815/3399175940.py:15: FutureWarning: The default of observed=False is deprecated and will be changed to True in a future version of pandas. Pass observed=False to retain current behavior or observed=True to adopt the future default and silence this warning.\n",
      "  score_DC1 = data_DC1.obs.groupby(\"integration_id\")[score_column].mean().reset_index()\n",
      "/scratch/temp/11907333/ipykernel_3686815/3399175940.py:25: FutureWarning: The default of observed=False is deprecated and will be changed to True in a future version of pandas. Pass observed=False to retain current behavior or observed=True to adopt the future default and silence this warning.\n",
      "  score_DC1['replicate'] = score_DC1.groupby('cancer_broadest').cumcount()\n",
      "/scratch/temp/11907333/ipykernel_3686815/3399175940.py:34: FutureWarning: The default of observed=False is deprecated and will be changed to True in a future version of pandas. Pass observed=False to retain current behavior or observed=True to adopt the future default and silence this warning.\n",
      "  score_DC2 = data_DC2.obs.groupby(\"integration_id\")[score_column].mean().reset_index()\n",
      "/scratch/temp/11907333/ipykernel_3686815/3399175940.py:44: FutureWarning: The default of observed=False is deprecated and will be changed to True in a future version of pandas. Pass observed=False to retain current behavior or observed=True to adopt the future default and silence this warning.\n",
      "  score_DC2['replicate'] = score_DC2.groupby('cancer_broadest').cumcount()\n",
      "/scratch/temp/11907333/ipykernel_3686815/3399175940.py:52: FutureWarning: The default of observed=False is deprecated and will be changed to True in a future version of pandas. Pass observed=False to retain current behavior or observed=True to adopt the future default and silence this warning.\n",
      "  score_mregDC = data_mregDC.obs.groupby(\"integration_id\")[score_column].mean().reset_index()\n",
      "/scratch/temp/11907333/ipykernel_3686815/3399175940.py:62: FutureWarning: The default of observed=False is deprecated and will be changed to True in a future version of pandas. Pass observed=False to retain current behavior or observed=True to adopt the future default and silence this warning.\n",
      "  score_mregDC['replicate'] = score_mregDC.groupby('cancer_broadest').cumcount()\n"
     ]
    },
    {
     "name": "stdout",
     "output_type": "stream",
     "text": [
      "WARNING: genes are not in var_names and ignored: Index(['LEFTY2', 'TGFB1'], dtype='object')\n",
      "WARNING: genes are not in var_names and ignored: Index(['CCN1', 'PER1', 'PLPP3'], dtype='object')\n",
      "WARNING: genes are not in var_names and ignored: Index(['CCN1', 'PER1', 'PLPP3'], dtype='object')\n"
     ]
    },
    {
     "name": "stderr",
     "output_type": "stream",
     "text": [
      "/scratch/temp/11907333/ipykernel_3686815/3399175940.py:15: FutureWarning: The default of observed=False is deprecated and will be changed to True in a future version of pandas. Pass observed=False to retain current behavior or observed=True to adopt the future default and silence this warning.\n",
      "  score_DC1 = data_DC1.obs.groupby(\"integration_id\")[score_column].mean().reset_index()\n",
      "/scratch/temp/11907333/ipykernel_3686815/3399175940.py:25: FutureWarning: The default of observed=False is deprecated and will be changed to True in a future version of pandas. Pass observed=False to retain current behavior or observed=True to adopt the future default and silence this warning.\n",
      "  score_DC1['replicate'] = score_DC1.groupby('cancer_broadest').cumcount()\n",
      "/scratch/temp/11907333/ipykernel_3686815/3399175940.py:34: FutureWarning: The default of observed=False is deprecated and will be changed to True in a future version of pandas. Pass observed=False to retain current behavior or observed=True to adopt the future default and silence this warning.\n",
      "  score_DC2 = data_DC2.obs.groupby(\"integration_id\")[score_column].mean().reset_index()\n",
      "/scratch/temp/11907333/ipykernel_3686815/3399175940.py:44: FutureWarning: The default of observed=False is deprecated and will be changed to True in a future version of pandas. Pass observed=False to retain current behavior or observed=True to adopt the future default and silence this warning.\n",
      "  score_DC2['replicate'] = score_DC2.groupby('cancer_broadest').cumcount()\n",
      "/scratch/temp/11907333/ipykernel_3686815/3399175940.py:52: FutureWarning: The default of observed=False is deprecated and will be changed to True in a future version of pandas. Pass observed=False to retain current behavior or observed=True to adopt the future default and silence this warning.\n",
      "  score_mregDC = data_mregDC.obs.groupby(\"integration_id\")[score_column].mean().reset_index()\n",
      "/scratch/temp/11907333/ipykernel_3686815/3399175940.py:62: FutureWarning: The default of observed=False is deprecated and will be changed to True in a future version of pandas. Pass observed=False to retain current behavior or observed=True to adopt the future default and silence this warning.\n",
      "  score_mregDC['replicate'] = score_mregDC.groupby('cancer_broadest').cumcount()\n"
     ]
    },
    {
     "name": "stdout",
     "output_type": "stream",
     "text": [
      "WARNING: genes are not in var_names and ignored: Index(['CCN1', 'PER1', 'PLPP3'], dtype='object')\n"
     ]
    },
    {
     "name": "stderr",
     "output_type": "stream",
     "text": [
      "/scratch/temp/11907333/ipykernel_3686815/3399175940.py:15: FutureWarning: The default of observed=False is deprecated and will be changed to True in a future version of pandas. Pass observed=False to retain current behavior or observed=True to adopt the future default and silence this warning.\n",
      "  score_DC1 = data_DC1.obs.groupby(\"integration_id\")[score_column].mean().reset_index()\n",
      "/scratch/temp/11907333/ipykernel_3686815/3399175940.py:25: FutureWarning: The default of observed=False is deprecated and will be changed to True in a future version of pandas. Pass observed=False to retain current behavior or observed=True to adopt the future default and silence this warning.\n",
      "  score_DC1['replicate'] = score_DC1.groupby('cancer_broadest').cumcount()\n",
      "/scratch/temp/11907333/ipykernel_3686815/3399175940.py:34: FutureWarning: The default of observed=False is deprecated and will be changed to True in a future version of pandas. Pass observed=False to retain current behavior or observed=True to adopt the future default and silence this warning.\n",
      "  score_DC2 = data_DC2.obs.groupby(\"integration_id\")[score_column].mean().reset_index()\n",
      "/scratch/temp/11907333/ipykernel_3686815/3399175940.py:44: FutureWarning: The default of observed=False is deprecated and will be changed to True in a future version of pandas. Pass observed=False to retain current behavior or observed=True to adopt the future default and silence this warning.\n",
      "  score_DC2['replicate'] = score_DC2.groupby('cancer_broadest').cumcount()\n",
      "/scratch/temp/11907333/ipykernel_3686815/3399175940.py:52: FutureWarning: The default of observed=False is deprecated and will be changed to True in a future version of pandas. Pass observed=False to retain current behavior or observed=True to adopt the future default and silence this warning.\n",
      "  score_mregDC = data_mregDC.obs.groupby(\"integration_id\")[score_column].mean().reset_index()\n",
      "/scratch/temp/11907333/ipykernel_3686815/3399175940.py:62: FutureWarning: The default of observed=False is deprecated and will be changed to True in a future version of pandas. Pass observed=False to retain current behavior or observed=True to adopt the future default and silence this warning.\n",
      "  score_mregDC['replicate'] = score_mregDC.groupby('cancer_broadest').cumcount()\n"
     ]
    }
   ],
   "source": [
    "for set_name, gene_set_df in H_sets_sub.items():\n",
    "\n",
    "    gene_set = gene_set_df['human_gene_symbol'].tolist()\n",
    "\n",
    "    #score DC for gene set:\n",
    "    sc.tl.score_genes(data_DC1, gene_list=gene_set, score_name=f\"{set_name}_score\")\n",
    "    sc.tl.score_genes(data_DC2, gene_list=gene_set, score_name=f\"{set_name}_score\")\n",
    "    sc.tl.score_genes(data_mregDC, gene_list=gene_set, score_name=f\"{set_name}_score\")\n",
    "\n",
    "    score_column = f\"{set_name}_score\"\n",
    "\n",
    "    #DC1: \n",
    "\n",
    "    # Group by 'integration_id' and calculate the mean score for each group\n",
    "    score_DC1 = data_DC1.obs.groupby(\"integration_id\")[score_column].mean().reset_index()\n",
    "\n",
    "    # Merge with 'cancer_broadest' by matching the 'integration_id'\n",
    "    score_DC1 = score_DC1.merge(\n",
    "        data_DC1.obs[[\"integration_id\", \"cancer_broadest\", \"NR_annotations_simple\"]].drop_duplicates(),\n",
    "        on=\"integration_id\",\n",
    "        how=\"left\"\n",
    "    )\n",
    "\n",
    "    # convert to layout for prism (cancer types as rows with replicates as columns)\n",
    "    score_DC1['replicate'] = score_DC1.groupby('cancer_broadest').cumcount()\n",
    "    pivoted_df_DC1 = score_DC1.pivot(index='cancer_broadest', columns='replicate', values=score_column)\n",
    "    # Reindex the rows based on custom order\n",
    "    pivoted_df_DC1 = pivoted_df_DC1.reindex(custom_order)\n",
    "    pivoted_df_DC1.shape\n",
    "\n",
    "    #DC2: \n",
    "\n",
    "    # Group by 'integration_id' and calculate the mean score for each group\n",
    "    score_DC2 = data_DC2.obs.groupby(\"integration_id\")[score_column].mean().reset_index()\n",
    "\n",
    "    # Merge with 'cancer_broadest' by matching the 'integration_id'\n",
    "    score_DC2 = score_DC2.merge(\n",
    "        data_DC2.obs[[\"integration_id\", \"cancer_broadest\", \"NR_annotations_simple\"]].drop_duplicates(),\n",
    "        on=\"integration_id\",\n",
    "        how=\"left\"\n",
    "    )\n",
    "\n",
    "    # convert to layout for prism (cancer types as rows with replicates as columns)\n",
    "    score_DC2['replicate'] = score_DC2.groupby('cancer_broadest').cumcount()\n",
    "    pivoted_df_DC2 = score_DC2.pivot(index='cancer_broadest', columns='replicate', values=score_column)\n",
    "    # Reindex the rows based on custom order\n",
    "    pivoted_df_DC2 = pivoted_df_DC2.reindex(custom_order)\n",
    "    pivoted_df_DC2.shape\n",
    "\n",
    "    #mregDC:\n",
    "    # Group by 'integration_id' and calculate the mean score for each group\n",
    "    score_mregDC = data_mregDC.obs.groupby(\"integration_id\")[score_column].mean().reset_index()\n",
    "\n",
    "    # Merge with 'cancer_broadest' by matching the 'integration_id'\n",
    "    score_mregDC = score_mregDC.merge(\n",
    "        data_mregDC.obs[[\"integration_id\", \"cancer_broadest\", \"NR_annotations_simple\"]].drop_duplicates(),\n",
    "        on=\"integration_id\",\n",
    "        how=\"left\"\n",
    "    )\n",
    "\n",
    "    # convert to layout for prism (cancer types as rows with replicates as columns)\n",
    "    score_mregDC['replicate'] = score_mregDC.groupby('cancer_broadest').cumcount()\n",
    "    pivoted_df_mregDC = score_mregDC.pivot(index='cancer_broadest', columns='replicate', values=score_column)\n",
    "    # Reindex the rows based on custom order\n",
    "    pivoted_df_mregDC = pivoted_df_mregDC.reindex(custom_order)\n",
    "    pivoted_df_mregDC.shape\n",
    "\n",
    "    save_name = f\"{set_name}.xlsx\"\n",
    "\n",
    "    with pd.ExcelWriter(save_name) as writer:\n",
    "        pivoted_df_DC1.to_excel(writer, sheet_name='DC1')\n",
    "        pivoted_df_DC2.to_excel(writer, sheet_name='DC2')\n",
    "        pivoted_df_mregDC.to_excel(writer, sheet_name='mregDC')\n"
   ]
  },
  {
   "cell_type": "markdown",
   "metadata": {},
   "source": [
    "# 15 Jan 2025: Using 3 more KEGG sets as they are enriched in in vitro sig"
   ]
  },
  {
   "cell_type": "code",
   "execution_count": 8,
   "metadata": {},
   "outputs": [],
   "source": [
    "# Keys to include in new dictionary\n",
    "keys_include = [\"KEGG_RIBOSOME\",\n",
    "\"KEGG_AUTOIMMUNE_THYROID_DISEASE\",\n",
    "\"KEGG_GRAFT_VERSUS_HOST_DISEASE\"]"
   ]
  },
  {
   "cell_type": "code",
   "execution_count": 9,
   "metadata": {},
   "outputs": [],
   "source": [
    "# create a new dictionary with select keys (pathway sets)\n",
    "K_sets_sub = {key: K_sets[key] for key in keys_include if key in K_sets}"
   ]
  },
  {
   "cell_type": "code",
   "execution_count": 10,
   "metadata": {},
   "outputs": [
    {
     "name": "stdout",
     "output_type": "stream",
     "text": [
      "dict_keys(['KEGG_RIBOSOME', 'KEGG_AUTOIMMUNE_THYROID_DISEASE', 'KEGG_GRAFT_VERSUS_HOST_DISEASE'])\n"
     ]
    }
   ],
   "source": [
    "print(K_sets_sub.keys())"
   ]
  },
  {
   "cell_type": "code",
   "execution_count": 11,
   "metadata": {},
   "outputs": [],
   "source": [
    "custom_order = ['HGSOC','BC','CRC','GAC','GBM','HCC','HNSCC','MEL','NPC','NSCLC','PDAC','iCCA']"
   ]
  },
  {
   "cell_type": "code",
   "execution_count": 12,
   "metadata": {},
   "outputs": [
    {
     "data": {
      "text/plain": [
       "'/scratch/user/s4436039/scdata/Pathway4Prism'"
      ]
     },
     "execution_count": 12,
     "metadata": {},
     "output_type": "execute_result"
    }
   ],
   "source": [
    "#set current directory \n",
    "os.chdir('/scratch/user/s4436039/scdata/Pathway4Prism')\n",
    "os.getcwd()"
   ]
  },
  {
   "cell_type": "code",
   "execution_count": 13,
   "metadata": {},
   "outputs": [
    {
     "name": "stdout",
     "output_type": "stream",
     "text": [
      "WARNING: genes are not in var_names and ignored: Index(['RPL10L', 'RSL24D1P11'], dtype='object')\n",
      "WARNING: genes are not in var_names and ignored: Index(['RPL10L', 'RSL24D1P11'], dtype='object')\n"
     ]
    },
    {
     "name": "stderr",
     "output_type": "stream",
     "text": [
      "/home/s4436039/miniforge3/envs/env/lib/python3.12/site-packages/scanpy/tools/_score_genes.py:176: ImplicitModificationWarning: Trying to modify attribute `.obs` of view, initializing view as actual.\n",
      "  adata.obs[score_name] = pd.Series(\n"
     ]
    },
    {
     "name": "stdout",
     "output_type": "stream",
     "text": [
      "WARNING: genes are not in var_names and ignored: Index(['RPL10L', 'RSL24D1P11'], dtype='object')\n"
     ]
    },
    {
     "name": "stderr",
     "output_type": "stream",
     "text": [
      "/home/s4436039/miniforge3/envs/env/lib/python3.12/site-packages/scanpy/tools/_score_genes.py:176: ImplicitModificationWarning: Trying to modify attribute `.obs` of view, initializing view as actual.\n",
      "  adata.obs[score_name] = pd.Series(\n",
      "/home/s4436039/miniforge3/envs/env/lib/python3.12/site-packages/scanpy/tools/_score_genes.py:176: ImplicitModificationWarning: Trying to modify attribute `.obs` of view, initializing view as actual.\n",
      "  adata.obs[score_name] = pd.Series(\n"
     ]
    },
    {
     "name": "stdout",
     "output_type": "stream",
     "text": [
      "WARNING: genes are not in var_names and ignored: Index(['HLA-DRB3', 'HLA-DRB4', 'IFNA1', 'IFNA10', 'IFNA13', 'IFNA14', 'IFNA16',\n",
      "       'IFNA17', 'IFNA2', 'IFNA21', 'IFNA4', 'IFNA5', 'IFNA6', 'IFNA7',\n",
      "       'IFNA8', 'IL4', 'IL5', 'TSHB'],\n",
      "      dtype='object')\n",
      "WARNING: genes are not in var_names and ignored: Index(['HLA-DRB3', 'HLA-DRB4', 'IFNA1', 'IFNA10', 'IFNA13', 'IFNA14', 'IFNA16',\n",
      "       'IFNA17', 'IFNA2', 'IFNA21', 'IFNA4', 'IFNA5', 'IFNA6', 'IFNA7',\n",
      "       'IFNA8', 'IL4', 'IL5', 'TSHB'],\n",
      "      dtype='object')\n"
     ]
    },
    {
     "name": "stderr",
     "output_type": "stream",
     "text": [
      "/scratch/temp/12202991/ipykernel_803914/3113065282.py:15: FutureWarning: The default of observed=False is deprecated and will be changed to True in a future version of pandas. Pass observed=False to retain current behavior or observed=True to adopt the future default and silence this warning.\n",
      "  score_DC1 = data_DC1.obs.groupby(\"integration_id\")[score_column].mean().reset_index()\n",
      "/scratch/temp/12202991/ipykernel_803914/3113065282.py:25: FutureWarning: The default of observed=False is deprecated and will be changed to True in a future version of pandas. Pass observed=False to retain current behavior or observed=True to adopt the future default and silence this warning.\n",
      "  score_DC1['replicate'] = score_DC1.groupby('cancer_broadest').cumcount()\n",
      "/scratch/temp/12202991/ipykernel_803914/3113065282.py:34: FutureWarning: The default of observed=False is deprecated and will be changed to True in a future version of pandas. Pass observed=False to retain current behavior or observed=True to adopt the future default and silence this warning.\n",
      "  score_DC2 = data_DC2.obs.groupby(\"integration_id\")[score_column].mean().reset_index()\n",
      "/scratch/temp/12202991/ipykernel_803914/3113065282.py:44: FutureWarning: The default of observed=False is deprecated and will be changed to True in a future version of pandas. Pass observed=False to retain current behavior or observed=True to adopt the future default and silence this warning.\n",
      "  score_DC2['replicate'] = score_DC2.groupby('cancer_broadest').cumcount()\n",
      "/scratch/temp/12202991/ipykernel_803914/3113065282.py:52: FutureWarning: The default of observed=False is deprecated and will be changed to True in a future version of pandas. Pass observed=False to retain current behavior or observed=True to adopt the future default and silence this warning.\n",
      "  score_mregDC = data_mregDC.obs.groupby(\"integration_id\")[score_column].mean().reset_index()\n",
      "/scratch/temp/12202991/ipykernel_803914/3113065282.py:62: FutureWarning: The default of observed=False is deprecated and will be changed to True in a future version of pandas. Pass observed=False to retain current behavior or observed=True to adopt the future default and silence this warning.\n",
      "  score_mregDC['replicate'] = score_mregDC.groupby('cancer_broadest').cumcount()\n"
     ]
    },
    {
     "name": "stdout",
     "output_type": "stream",
     "text": [
      "WARNING: genes are not in var_names and ignored: Index(['HLA-DRB3', 'HLA-DRB4', 'IFNA1', 'IFNA10', 'IFNA13', 'IFNA14', 'IFNA16',\n",
      "       'IFNA17', 'IFNA2', 'IFNA21', 'IFNA4', 'IFNA5', 'IFNA6', 'IFNA7',\n",
      "       'IFNA8', 'IL4', 'IL5', 'TSHB'],\n",
      "      dtype='object')\n",
      "WARNING: genes are not in var_names and ignored: Index(['HLA-DRB3', 'HLA-DRB4', 'KIR2DL2', 'KIR2DL5A'], dtype='object')\n",
      "WARNING: genes are not in var_names and ignored: Index(['HLA-DRB3', 'HLA-DRB4', 'KIR2DL2', 'KIR2DL5A'], dtype='object')\n"
     ]
    },
    {
     "name": "stderr",
     "output_type": "stream",
     "text": [
      "/scratch/temp/12202991/ipykernel_803914/3113065282.py:15: FutureWarning: The default of observed=False is deprecated and will be changed to True in a future version of pandas. Pass observed=False to retain current behavior or observed=True to adopt the future default and silence this warning.\n",
      "  score_DC1 = data_DC1.obs.groupby(\"integration_id\")[score_column].mean().reset_index()\n",
      "/scratch/temp/12202991/ipykernel_803914/3113065282.py:25: FutureWarning: The default of observed=False is deprecated and will be changed to True in a future version of pandas. Pass observed=False to retain current behavior or observed=True to adopt the future default and silence this warning.\n",
      "  score_DC1['replicate'] = score_DC1.groupby('cancer_broadest').cumcount()\n",
      "/scratch/temp/12202991/ipykernel_803914/3113065282.py:34: FutureWarning: The default of observed=False is deprecated and will be changed to True in a future version of pandas. Pass observed=False to retain current behavior or observed=True to adopt the future default and silence this warning.\n",
      "  score_DC2 = data_DC2.obs.groupby(\"integration_id\")[score_column].mean().reset_index()\n",
      "/scratch/temp/12202991/ipykernel_803914/3113065282.py:44: FutureWarning: The default of observed=False is deprecated and will be changed to True in a future version of pandas. Pass observed=False to retain current behavior or observed=True to adopt the future default and silence this warning.\n",
      "  score_DC2['replicate'] = score_DC2.groupby('cancer_broadest').cumcount()\n",
      "/scratch/temp/12202991/ipykernel_803914/3113065282.py:52: FutureWarning: The default of observed=False is deprecated and will be changed to True in a future version of pandas. Pass observed=False to retain current behavior or observed=True to adopt the future default and silence this warning.\n",
      "  score_mregDC = data_mregDC.obs.groupby(\"integration_id\")[score_column].mean().reset_index()\n",
      "/scratch/temp/12202991/ipykernel_803914/3113065282.py:62: FutureWarning: The default of observed=False is deprecated and will be changed to True in a future version of pandas. Pass observed=False to retain current behavior or observed=True to adopt the future default and silence this warning.\n",
      "  score_mregDC['replicate'] = score_mregDC.groupby('cancer_broadest').cumcount()\n"
     ]
    },
    {
     "name": "stdout",
     "output_type": "stream",
     "text": [
      "WARNING: genes are not in var_names and ignored: Index(['HLA-DRB3', 'HLA-DRB4', 'KIR2DL2', 'KIR2DL5A'], dtype='object')\n"
     ]
    },
    {
     "name": "stderr",
     "output_type": "stream",
     "text": [
      "/scratch/temp/12202991/ipykernel_803914/3113065282.py:15: FutureWarning: The default of observed=False is deprecated and will be changed to True in a future version of pandas. Pass observed=False to retain current behavior or observed=True to adopt the future default and silence this warning.\n",
      "  score_DC1 = data_DC1.obs.groupby(\"integration_id\")[score_column].mean().reset_index()\n",
      "/scratch/temp/12202991/ipykernel_803914/3113065282.py:25: FutureWarning: The default of observed=False is deprecated and will be changed to True in a future version of pandas. Pass observed=False to retain current behavior or observed=True to adopt the future default and silence this warning.\n",
      "  score_DC1['replicate'] = score_DC1.groupby('cancer_broadest').cumcount()\n",
      "/scratch/temp/12202991/ipykernel_803914/3113065282.py:34: FutureWarning: The default of observed=False is deprecated and will be changed to True in a future version of pandas. Pass observed=False to retain current behavior or observed=True to adopt the future default and silence this warning.\n",
      "  score_DC2 = data_DC2.obs.groupby(\"integration_id\")[score_column].mean().reset_index()\n",
      "/scratch/temp/12202991/ipykernel_803914/3113065282.py:44: FutureWarning: The default of observed=False is deprecated and will be changed to True in a future version of pandas. Pass observed=False to retain current behavior or observed=True to adopt the future default and silence this warning.\n",
      "  score_DC2['replicate'] = score_DC2.groupby('cancer_broadest').cumcount()\n",
      "/scratch/temp/12202991/ipykernel_803914/3113065282.py:52: FutureWarning: The default of observed=False is deprecated and will be changed to True in a future version of pandas. Pass observed=False to retain current behavior or observed=True to adopt the future default and silence this warning.\n",
      "  score_mregDC = data_mregDC.obs.groupby(\"integration_id\")[score_column].mean().reset_index()\n",
      "/scratch/temp/12202991/ipykernel_803914/3113065282.py:62: FutureWarning: The default of observed=False is deprecated and will be changed to True in a future version of pandas. Pass observed=False to retain current behavior or observed=True to adopt the future default and silence this warning.\n",
      "  score_mregDC['replicate'] = score_mregDC.groupby('cancer_broadest').cumcount()\n"
     ]
    }
   ],
   "source": [
    "for set_name, gene_set_df in K_sets_sub.items():\n",
    "\n",
    "    gene_set = gene_set_df['human_gene_symbol'].tolist()\n",
    "\n",
    "    #score DC for gene set:\n",
    "    sc.tl.score_genes(data_DC1, gene_list=gene_set, score_name=f\"{set_name}_score\")\n",
    "    sc.tl.score_genes(data_DC2, gene_list=gene_set, score_name=f\"{set_name}_score\")\n",
    "    sc.tl.score_genes(data_mregDC, gene_list=gene_set, score_name=f\"{set_name}_score\")\n",
    "\n",
    "    score_column = f\"{set_name}_score\"\n",
    "\n",
    "    #DC1: \n",
    "\n",
    "    # Group by 'integration_id' and calculate the mean score for each group\n",
    "    score_DC1 = data_DC1.obs.groupby(\"integration_id\")[score_column].mean().reset_index()\n",
    "\n",
    "    # Merge with 'cancer_broadest' by matching the 'integration_id'\n",
    "    score_DC1 = score_DC1.merge(\n",
    "        data_DC1.obs[[\"integration_id\", \"cancer_broadest\", \"NR_annotations_simple\"]].drop_duplicates(),\n",
    "        on=\"integration_id\",\n",
    "        how=\"left\"\n",
    "    )\n",
    "\n",
    "    # convert to layout for prism (cancer types as rows with replicates as columns)\n",
    "    score_DC1['replicate'] = score_DC1.groupby('cancer_broadest').cumcount()\n",
    "    pivoted_df_DC1 = score_DC1.pivot(index='cancer_broadest', columns='replicate', values=score_column)\n",
    "    # Reindex the rows based on custom order\n",
    "    pivoted_df_DC1 = pivoted_df_DC1.reindex(custom_order)\n",
    "    pivoted_df_DC1.shape\n",
    "\n",
    "    #DC2: \n",
    "\n",
    "    # Group by 'integration_id' and calculate the mean score for each group\n",
    "    score_DC2 = data_DC2.obs.groupby(\"integration_id\")[score_column].mean().reset_index()\n",
    "\n",
    "    # Merge with 'cancer_broadest' by matching the 'integration_id'\n",
    "    score_DC2 = score_DC2.merge(\n",
    "        data_DC2.obs[[\"integration_id\", \"cancer_broadest\", \"NR_annotations_simple\"]].drop_duplicates(),\n",
    "        on=\"integration_id\",\n",
    "        how=\"left\"\n",
    "    )\n",
    "\n",
    "    # convert to layout for prism (cancer types as rows with replicates as columns)\n",
    "    score_DC2['replicate'] = score_DC2.groupby('cancer_broadest').cumcount()\n",
    "    pivoted_df_DC2 = score_DC2.pivot(index='cancer_broadest', columns='replicate', values=score_column)\n",
    "    # Reindex the rows based on custom order\n",
    "    pivoted_df_DC2 = pivoted_df_DC2.reindex(custom_order)\n",
    "    pivoted_df_DC2.shape\n",
    "\n",
    "    #mregDC:\n",
    "    # Group by 'integration_id' and calculate the mean score for each group\n",
    "    score_mregDC = data_mregDC.obs.groupby(\"integration_id\")[score_column].mean().reset_index()\n",
    "\n",
    "    # Merge with 'cancer_broadest' by matching the 'integration_id'\n",
    "    score_mregDC = score_mregDC.merge(\n",
    "        data_mregDC.obs[[\"integration_id\", \"cancer_broadest\", \"NR_annotations_simple\"]].drop_duplicates(),\n",
    "        on=\"integration_id\",\n",
    "        how=\"left\"\n",
    "    )\n",
    "\n",
    "    # convert to layout for prism (cancer types as rows with replicates as columns)\n",
    "    score_mregDC['replicate'] = score_mregDC.groupby('cancer_broadest').cumcount()\n",
    "    pivoted_df_mregDC = score_mregDC.pivot(index='cancer_broadest', columns='replicate', values=score_column)\n",
    "    # Reindex the rows based on custom order\n",
    "    pivoted_df_mregDC = pivoted_df_mregDC.reindex(custom_order)\n",
    "    pivoted_df_mregDC.shape\n",
    "\n",
    "    save_name = f\"{set_name}.xlsx\"\n",
    "\n",
    "    with pd.ExcelWriter(save_name) as writer:\n",
    "        pivoted_df_DC1.to_excel(writer, sheet_name='DC1')\n",
    "        pivoted_df_DC2.to_excel(writer, sheet_name='DC2')\n",
    "        pivoted_df_mregDC.to_excel(writer, sheet_name='mregDC')\n"
   ]
  },
  {
   "cell_type": "markdown",
   "metadata": {},
   "source": [
    "# 23 Feb 2025: Checking if hallmark IFNg is also up in healthy ovary "
   ]
  },
  {
   "cell_type": "code",
   "execution_count": 4,
   "metadata": {},
   "outputs": [],
   "source": [
    "data_H = data[data.obs[\"sample_type_major2\"] == \"healthy\"]\n",
    "\n",
    "data_H_DC1 = data_H[data_H.obs[\"NR_annotations_simple\"] == \"cDC1\"]\n",
    "data_H_DC2 = data_H[data_H.obs[\"NR_annotations_simple\"] == \"cDC2\"]\n",
    "data_H_mregDC = data_H[data_H.obs[\"NR_annotations_simple\"] == \"mregDC\"]\n",
    "\n",
    "data_M = data[data.obs[\"sample_type_major2\"] == \"metastatic tumour\"]\n",
    "\n",
    "data_M_DC1 = data_M[data_M.obs[\"NR_annotations_simple\"] == \"cDC1\"]\n",
    "data_M_DC2 = data_M[data_M.obs[\"NR_annotations_simple\"] == \"cDC2\"]\n",
    "data_M_mregDC = data_M[data_M.obs[\"NR_annotations_simple\"] == \"mregDC\"]"
   ]
  },
  {
   "cell_type": "code",
   "execution_count": 8,
   "metadata": {},
   "outputs": [],
   "source": [
    "# Keys to include in new dictionary\n",
    "keys_include_IFNg = [\"HALLMARK_INTERFERON_GAMMA_RESPONSE\"\n",
    "                ]"
   ]
  },
  {
   "cell_type": "code",
   "execution_count": 9,
   "metadata": {},
   "outputs": [],
   "source": [
    "# create a new dictionary with select keys (pathway sets)\n",
    "H_sets_IFNg = {key: H_sets[key] for key in keys_include_IFNg if key in H_sets}"
   ]
  },
  {
   "cell_type": "code",
   "execution_count": 10,
   "metadata": {},
   "outputs": [
    {
     "name": "stdout",
     "output_type": "stream",
     "text": [
      "dict_keys(['HALLMARK_INTERFERON_GAMMA_RESPONSE'])\n"
     ]
    }
   ],
   "source": [
    "print(H_sets_IFNg.keys())"
   ]
  },
  {
   "cell_type": "code",
   "execution_count": 11,
   "metadata": {},
   "outputs": [],
   "source": [
    "custom_order = ['HGSOC','BC','CRC','GAC','GBM','HCC','HNSCC','MEL','NPC','NSCLC','PDAC','iCCA']"
   ]
  },
  {
   "cell_type": "code",
   "execution_count": 12,
   "metadata": {},
   "outputs": [
    {
     "data": {
      "text/plain": [
       "'/scratch/user/s4436039/scdata/Pathway4Prism'"
      ]
     },
     "execution_count": 12,
     "metadata": {},
     "output_type": "execute_result"
    }
   ],
   "source": [
    "#set current directory \n",
    "os.chdir('/scratch/user/s4436039/scdata/Pathway4Prism')\n",
    "os.getcwd()"
   ]
  },
  {
   "cell_type": "markdown",
   "metadata": {},
   "source": [
    "## loop through all pathways and export an excel containing scores per sample, grouped by cancer type, for each DC subset - Mets"
   ]
  },
  {
   "cell_type": "code",
   "execution_count": 13,
   "metadata": {},
   "outputs": [
    {
     "name": "stdout",
     "output_type": "stream",
     "text": [
      "WARNING: genes are not in var_names and ignored: Index(['MARCHF1', 'RNF213', 'WARS1'], dtype='object')\n",
      "WARNING: genes are not in var_names and ignored: Index(['MARCHF1', 'RNF213', 'WARS1'], dtype='object')\n",
      "WARNING: genes are not in var_names and ignored: Index(['MARCHF1', 'RNF213', 'WARS1'], dtype='object')\n"
     ]
    },
    {
     "name": "stderr",
     "output_type": "stream",
     "text": [
      "/home/s4436039/miniforge3/envs/env/lib/python3.12/site-packages/scanpy/tools/_score_genes.py:176: ImplicitModificationWarning: Trying to modify attribute `.obs` of view, initializing view as actual.\n",
      "  adata.obs[score_name] = pd.Series(\n",
      "/home/s4436039/miniforge3/envs/env/lib/python3.12/site-packages/scanpy/tools/_score_genes.py:176: ImplicitModificationWarning: Trying to modify attribute `.obs` of view, initializing view as actual.\n",
      "  adata.obs[score_name] = pd.Series(\n",
      "/home/s4436039/miniforge3/envs/env/lib/python3.12/site-packages/scanpy/tools/_score_genes.py:176: ImplicitModificationWarning: Trying to modify attribute `.obs` of view, initializing view as actual.\n",
      "  adata.obs[score_name] = pd.Series(\n",
      "/scratch/temp/12627977/ipykernel_3577681/2333314354.py:15: FutureWarning: The default of observed=False is deprecated and will be changed to True in a future version of pandas. Pass observed=False to retain current behavior or observed=True to adopt the future default and silence this warning.\n",
      "  score_DC1 = data_M_DC1.obs.groupby(\"integration_id\")[score_column].mean().reset_index()\n",
      "/scratch/temp/12627977/ipykernel_3577681/2333314354.py:25: FutureWarning: The default of observed=False is deprecated and will be changed to True in a future version of pandas. Pass observed=False to retain current behavior or observed=True to adopt the future default and silence this warning.\n",
      "  score_DC1['replicate'] = score_DC1.groupby('cancer_broadest').cumcount()\n",
      "/scratch/temp/12627977/ipykernel_3577681/2333314354.py:34: FutureWarning: The default of observed=False is deprecated and will be changed to True in a future version of pandas. Pass observed=False to retain current behavior or observed=True to adopt the future default and silence this warning.\n",
      "  score_DC2 = data_M_DC2.obs.groupby(\"integration_id\")[score_column].mean().reset_index()\n",
      "/scratch/temp/12627977/ipykernel_3577681/2333314354.py:44: FutureWarning: The default of observed=False is deprecated and will be changed to True in a future version of pandas. Pass observed=False to retain current behavior or observed=True to adopt the future default and silence this warning.\n",
      "  score_DC2['replicate'] = score_DC2.groupby('cancer_broadest').cumcount()\n",
      "/scratch/temp/12627977/ipykernel_3577681/2333314354.py:52: FutureWarning: The default of observed=False is deprecated and will be changed to True in a future version of pandas. Pass observed=False to retain current behavior or observed=True to adopt the future default and silence this warning.\n",
      "  score_mregDC = data_M_mregDC.obs.groupby(\"integration_id\")[score_column].mean().reset_index()\n",
      "/scratch/temp/12627977/ipykernel_3577681/2333314354.py:62: FutureWarning: The default of observed=False is deprecated and will be changed to True in a future version of pandas. Pass observed=False to retain current behavior or observed=True to adopt the future default and silence this warning.\n",
      "  score_mregDC['replicate'] = score_mregDC.groupby('cancer_broadest').cumcount()\n"
     ]
    }
   ],
   "source": [
    "for set_name, gene_set_df in H_sets_IFNg.items():\n",
    "\n",
    "    gene_set = gene_set_df['human_gene_symbol'].tolist()\n",
    "\n",
    "    #score DC for gene set:\n",
    "    sc.tl.score_genes(data_M_DC1, gene_list=gene_set, score_name=f\"{set_name}_score\")\n",
    "    sc.tl.score_genes(data_M_DC2, gene_list=gene_set, score_name=f\"{set_name}_score\")\n",
    "    sc.tl.score_genes(data_M_mregDC, gene_list=gene_set, score_name=f\"{set_name}_score\")\n",
    "\n",
    "    score_column = f\"{set_name}_score\"\n",
    "\n",
    "    #DC1: \n",
    "\n",
    "    # Group by 'integration_id' and calculate the mean score for each group\n",
    "    score_DC1 = data_M_DC1.obs.groupby(\"integration_id\")[score_column].mean().reset_index()\n",
    "\n",
    "    # Merge with 'cancer_broadest' by matching the 'integration_id'\n",
    "    score_DC1 = score_DC1.merge(\n",
    "        data_M_DC1.obs[[\"integration_id\", \"cancer_broadest\", \"NR_annotations_simple\"]].drop_duplicates(),\n",
    "        on=\"integration_id\",\n",
    "        how=\"left\"\n",
    "    )\n",
    "\n",
    "    # convert to layout for prism (cancer types as rows with replicates as columns)\n",
    "    score_DC1['replicate'] = score_DC1.groupby('cancer_broadest').cumcount()\n",
    "    pivoted_df_DC1 = score_DC1.pivot(index='cancer_broadest', columns='replicate', values=score_column)\n",
    "    # Reindex the rows based on custom order\n",
    "    pivoted_df_DC1 = pivoted_df_DC1.reindex(custom_order)\n",
    "    pivoted_df_DC1.shape\n",
    "\n",
    "    #DC2: \n",
    "\n",
    "    # Group by 'integration_id' and calculate the mean score for each group\n",
    "    score_DC2 = data_M_DC2.obs.groupby(\"integration_id\")[score_column].mean().reset_index()\n",
    "\n",
    "    # Merge with 'cancer_broadest' by matching the 'integration_id'\n",
    "    score_DC2 = score_DC2.merge(\n",
    "        data_M_DC2.obs[[\"integration_id\", \"cancer_broadest\", \"NR_annotations_simple\"]].drop_duplicates(),\n",
    "        on=\"integration_id\",\n",
    "        how=\"left\"\n",
    "    )\n",
    "\n",
    "    # convert to layout for prism (cancer types as rows with replicates as columns)\n",
    "    score_DC2['replicate'] = score_DC2.groupby('cancer_broadest').cumcount()\n",
    "    pivoted_df_DC2 = score_DC2.pivot(index='cancer_broadest', columns='replicate', values=score_column)\n",
    "    # Reindex the rows based on custom order\n",
    "    pivoted_df_DC2 = pivoted_df_DC2.reindex(custom_order)\n",
    "    pivoted_df_DC2.shape\n",
    "\n",
    "    #mregDC:\n",
    "    # Group by 'integration_id' and calculate the mean score for each group\n",
    "    score_mregDC = data_M_mregDC.obs.groupby(\"integration_id\")[score_column].mean().reset_index()\n",
    "\n",
    "    # Merge with 'cancer_broadest' by matching the 'integration_id'\n",
    "    score_mregDC = score_mregDC.merge(\n",
    "        data_M_mregDC.obs[[\"integration_id\", \"cancer_broadest\", \"NR_annotations_simple\"]].drop_duplicates(),\n",
    "        on=\"integration_id\",\n",
    "        how=\"left\"\n",
    "    )\n",
    "\n",
    "    # convert to layout for prism (cancer types as rows with replicates as columns)\n",
    "    score_mregDC['replicate'] = score_mregDC.groupby('cancer_broadest').cumcount()\n",
    "    pivoted_df_mregDC = score_mregDC.pivot(index='cancer_broadest', columns='replicate', values=score_column)\n",
    "    # Reindex the rows based on custom order\n",
    "    pivoted_df_mregDC = pivoted_df_mregDC.reindex(custom_order)\n",
    "    pivoted_df_mregDC.shape\n",
    "\n",
    "    save_name = f\"{set_name}_METASTATIC.xlsx\"\n",
    "\n",
    "    with pd.ExcelWriter(save_name) as writer:\n",
    "        pivoted_df_DC1.to_excel(writer, sheet_name='DC1_METS')\n",
    "        pivoted_df_DC2.to_excel(writer, sheet_name='DC2_METS')\n",
    "        pivoted_df_mregDC.to_excel(writer, sheet_name='mregDC_METS')\n"
   ]
  },
  {
   "cell_type": "markdown",
   "metadata": {},
   "source": [
    "## repeat for healthy:"
   ]
  },
  {
   "cell_type": "code",
   "execution_count": 14,
   "metadata": {},
   "outputs": [],
   "source": [
    "custom_order = ['ovary','breast','colon','liver','lung','lymph node']"
   ]
  },
  {
   "cell_type": "code",
   "execution_count": 15,
   "metadata": {},
   "outputs": [
    {
     "name": "stdout",
     "output_type": "stream",
     "text": [
      "WARNING: genes are not in var_names and ignored: Index(['MARCHF1', 'RNF213', 'WARS1'], dtype='object')\n",
      "WARNING: genes are not in var_names and ignored: Index(['MARCHF1', 'RNF213', 'WARS1'], dtype='object')\n",
      "WARNING: genes are not in var_names and ignored: Index(['MARCHF1', 'RNF213', 'WARS1'], dtype='object')\n"
     ]
    },
    {
     "name": "stderr",
     "output_type": "stream",
     "text": [
      "/home/s4436039/miniforge3/envs/env/lib/python3.12/site-packages/scanpy/tools/_score_genes.py:176: ImplicitModificationWarning: Trying to modify attribute `.obs` of view, initializing view as actual.\n",
      "  adata.obs[score_name] = pd.Series(\n",
      "/home/s4436039/miniforge3/envs/env/lib/python3.12/site-packages/scanpy/tools/_score_genes.py:176: ImplicitModificationWarning: Trying to modify attribute `.obs` of view, initializing view as actual.\n",
      "  adata.obs[score_name] = pd.Series(\n",
      "/home/s4436039/miniforge3/envs/env/lib/python3.12/site-packages/scanpy/tools/_score_genes.py:176: ImplicitModificationWarning: Trying to modify attribute `.obs` of view, initializing view as actual.\n",
      "  adata.obs[score_name] = pd.Series(\n",
      "/scratch/temp/12627977/ipykernel_3577681/3093193140.py:15: FutureWarning: The default of observed=False is deprecated and will be changed to True in a future version of pandas. Pass observed=False to retain current behavior or observed=True to adopt the future default and silence this warning.\n",
      "  score_DC1 = data_H_DC1.obs.groupby(\"integration_id\")[score_column].mean().reset_index()\n",
      "/scratch/temp/12627977/ipykernel_3577681/3093193140.py:25: FutureWarning: The default of observed=False is deprecated and will be changed to True in a future version of pandas. Pass observed=False to retain current behavior or observed=True to adopt the future default and silence this warning.\n",
      "  score_DC1['replicate'] = score_DC1.groupby('site').cumcount()\n",
      "/scratch/temp/12627977/ipykernel_3577681/3093193140.py:34: FutureWarning: The default of observed=False is deprecated and will be changed to True in a future version of pandas. Pass observed=False to retain current behavior or observed=True to adopt the future default and silence this warning.\n",
      "  score_DC2 = data_H_DC2.obs.groupby(\"integration_id\")[score_column].mean().reset_index()\n",
      "/scratch/temp/12627977/ipykernel_3577681/3093193140.py:44: FutureWarning: The default of observed=False is deprecated and will be changed to True in a future version of pandas. Pass observed=False to retain current behavior or observed=True to adopt the future default and silence this warning.\n",
      "  score_DC2['replicate'] = score_DC2.groupby('site').cumcount()\n",
      "/scratch/temp/12627977/ipykernel_3577681/3093193140.py:52: FutureWarning: The default of observed=False is deprecated and will be changed to True in a future version of pandas. Pass observed=False to retain current behavior or observed=True to adopt the future default and silence this warning.\n",
      "  score_mregDC = data_H_mregDC.obs.groupby(\"integration_id\")[score_column].mean().reset_index()\n",
      "/scratch/temp/12627977/ipykernel_3577681/3093193140.py:62: FutureWarning: The default of observed=False is deprecated and will be changed to True in a future version of pandas. Pass observed=False to retain current behavior or observed=True to adopt the future default and silence this warning.\n",
      "  score_mregDC['replicate'] = score_mregDC.groupby('site').cumcount()\n"
     ]
    }
   ],
   "source": [
    "for set_name, gene_set_df in H_sets_IFNg.items():\n",
    "\n",
    "    gene_set = gene_set_df['human_gene_symbol'].tolist()\n",
    "\n",
    "    #score DC for gene set:\n",
    "    sc.tl.score_genes(data_H_DC1, gene_list=gene_set, score_name=f\"{set_name}_score\")\n",
    "    sc.tl.score_genes(data_H_DC2, gene_list=gene_set, score_name=f\"{set_name}_score\")\n",
    "    sc.tl.score_genes(data_H_mregDC, gene_list=gene_set, score_name=f\"{set_name}_score\")\n",
    "\n",
    "    score_column = f\"{set_name}_score\"\n",
    "\n",
    "    #DC1: \n",
    "\n",
    "    # Group by 'integration_id' and calculate the mean score for each group\n",
    "    score_DC1 = data_H_DC1.obs.groupby(\"integration_id\")[score_column].mean().reset_index()\n",
    "\n",
    "    # Merge with 'site' by matching the 'integration_id'\n",
    "    score_DC1 = score_DC1.merge(\n",
    "        data_H_DC1.obs[[\"integration_id\", \"site\", \"NR_annotations_simple\"]].drop_duplicates(),\n",
    "        on=\"integration_id\",\n",
    "        how=\"left\"\n",
    "    )\n",
    "\n",
    "    # convert to layout for prism (cancer types as rows with replicates as columns)\n",
    "    score_DC1['replicate'] = score_DC1.groupby('site').cumcount()\n",
    "    pivoted_df_DC1 = score_DC1.pivot(index='site', columns='replicate', values=score_column)\n",
    "    # Reindex the rows based on custom order\n",
    "    pivoted_df_DC1 = pivoted_df_DC1.reindex(custom_order)\n",
    "    pivoted_df_DC1.shape\n",
    "\n",
    "    #DC2: \n",
    "\n",
    "    # Group by 'integration_id' and calculate the mean score for each group\n",
    "    score_DC2 = data_H_DC2.obs.groupby(\"integration_id\")[score_column].mean().reset_index()\n",
    "\n",
    "    # Merge with 'site' by matching the 'integration_id'\n",
    "    score_DC2 = score_DC2.merge(\n",
    "        data_H_DC2.obs[[\"integration_id\", \"site\", \"NR_annotations_simple\"]].drop_duplicates(),\n",
    "        on=\"integration_id\",\n",
    "        how=\"left\"\n",
    "    )\n",
    "\n",
    "    # convert to layout for prism (cancer types as rows with replicates as columns)\n",
    "    score_DC2['replicate'] = score_DC2.groupby('site').cumcount()\n",
    "    pivoted_df_DC2 = score_DC2.pivot(index='site', columns='replicate', values=score_column)\n",
    "    # Reindex the rows based on custom order\n",
    "    pivoted_df_DC2 = pivoted_df_DC2.reindex(custom_order)\n",
    "    pivoted_df_DC2.shape\n",
    "\n",
    "    #mregDC:\n",
    "    # Group by 'integration_id' and calculate the mean score for each group\n",
    "    score_mregDC = data_H_mregDC.obs.groupby(\"integration_id\")[score_column].mean().reset_index()\n",
    "\n",
    "    # Merge with 'site' by matching the 'integration_id'\n",
    "    score_mregDC = score_mregDC.merge(\n",
    "        data_H_mregDC.obs[[\"integration_id\", \"site\", \"NR_annotations_simple\"]].drop_duplicates(),\n",
    "        on=\"integration_id\",\n",
    "        how=\"left\"\n",
    "    )\n",
    "\n",
    "    # convert to layout for prism (cancer types as rows with replicates as columns)\n",
    "    score_mregDC['replicate'] = score_mregDC.groupby('site').cumcount()\n",
    "    pivoted_df_mregDC = score_mregDC.pivot(index='site', columns='replicate', values=score_column)\n",
    "    # Reindex the rows based on custom order\n",
    "    pivoted_df_mregDC = pivoted_df_mregDC.reindex(custom_order)\n",
    "    pivoted_df_mregDC.shape\n",
    "\n",
    "    save_name = f\"{set_name}_HEALTHY.xlsx\"\n",
    "\n",
    "    with pd.ExcelWriter(save_name) as writer:\n",
    "        pivoted_df_DC1.to_excel(writer, sheet_name='DC1_HEALTHY')\n",
    "        pivoted_df_DC2.to_excel(writer, sheet_name='DC2_HEALTHY')\n",
    "        pivoted_df_mregDC.to_excel(writer, sheet_name='mregDC_HEALTHY')\n"
   ]
  }
 ],
 "metadata": {
  "kernelspec": {
   "display_name": "Python 3 (ipykernel)",
   "language": "python",
   "name": "python3"
  },
  "language_info": {
   "codemirror_mode": {
    "name": "ipython",
    "version": 3
   },
   "file_extension": ".py",
   "mimetype": "text/x-python",
   "name": "python",
   "nbconvert_exporter": "python",
   "pygments_lexer": "ipython3",
   "version": "3.12.3"
  }
 },
 "nbformat": 4,
 "nbformat_minor": 2
}
