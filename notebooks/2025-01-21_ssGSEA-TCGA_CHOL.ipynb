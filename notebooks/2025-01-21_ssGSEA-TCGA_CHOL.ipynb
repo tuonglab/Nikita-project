{
 "cells": [
  {
   "cell_type": "markdown",
   "metadata": {},
   "source": [
    "### ssGSEA analysis on data from TCGA-CHOL dataset (cholangiocarcinoma)"
   ]
  },
  {
   "cell_type": "code",
   "execution_count": 1,
   "metadata": {
    "vscode": {
     "languageId": "r"
    }
   },
   "outputs": [
    {
     "name": "stderr",
     "output_type": "stream",
     "text": [
      "========================================\n",
      "circlize version 0.4.16\n",
      "CRAN page: https://cran.r-project.org/package=circlize\n",
      "Github page: https://github.com/jokergoo/circlize\n",
      "Documentation: https://jokergoo.github.io/circlize_book/book/\n",
      "\n",
      "If you use it in published research, please cite:\n",
      "Gu, Z. circlize implements and enhances circular visualization\n",
      "  in R. Bioinformatics 2014.\n",
      "\n",
      "This message can be suppressed by:\n",
      "  suppressPackageStartupMessages(library(circlize))\n",
      "========================================\n",
      "\n",
      "\n",
      "Loading required package: grid\n",
      "\n",
      "========================================\n",
      "ComplexHeatmap version 2.18.0\n",
      "Bioconductor page: http://bioconductor.org/packages/ComplexHeatmap/\n",
      "Github page: https://github.com/jokergoo/ComplexHeatmap\n",
      "Documentation: http://jokergoo.github.io/ComplexHeatmap-reference\n",
      "\n",
      "If you use it in published research, please cite either one:\n",
      "- Gu, Z. Complex Heatmap Visualization. iMeta 2022.\n",
      "- Gu, Z. Complex heatmaps reveal patterns and correlations in multidimensional \n",
      "    genomic data. Bioinformatics 2016.\n",
      "\n",
      "\n",
      "The new InteractiveComplexHeatmap package can directly export static \n",
      "complex heatmaps into an interactive Shiny app with zero effort. Have a try!\n",
      "\n",
      "This message can be suppressed by:\n",
      "  suppressPackageStartupMessages(library(ComplexHeatmap))\n",
      "========================================\n",
      "\n",
      "\n",
      "Loading required package: MatrixGenerics\n",
      "\n",
      "\n",
      "Attaching package: ‘MatrixGenerics’\n",
      "\n",
      "\n",
      "The following objects are masked from ‘package:matrixStats’:\n",
      "\n",
      "    colAlls, colAnyNAs, colAnys, colAvgsPerRowSet, colCollapse,\n",
      "    colCounts, colCummaxs, colCummins, colCumprods, colCumsums,\n",
      "    colDiffs, colIQRDiffs, colIQRs, colLogSumExps, colMadDiffs,\n",
      "    colMads, colMaxs, colMeans2, colMedians, colMins, colOrderStats,\n",
      "    colProds, colQuantiles, colRanges, colRanks, colSdDiffs, colSds,\n",
      "    colSums2, colTabulates, colVarDiffs, colVars, colWeightedMads,\n",
      "    colWeightedMeans, colWeightedMedians, colWeightedSds,\n",
      "    colWeightedVars, rowAlls, rowAnyNAs, rowAnys, rowAvgsPerColSet,\n",
      "    rowCollapse, rowCounts, rowCummaxs, rowCummins, rowCumprods,\n",
      "    rowCumsums, rowDiffs, rowIQRDiffs, rowIQRs, rowLogSumExps,\n",
      "    rowMadDiffs, rowMads, rowMaxs, rowMeans2, rowMedians, rowMins,\n",
      "    rowOrderStats, rowProds, rowQuantiles, rowRanges, rowRanks,\n",
      "    rowSdDiffs, rowSds, rowSums2, rowTabulates, rowVarDiffs, rowVars,\n",
      "    rowWeightedMads, rowWeightedMeans, rowWeightedMedians,\n",
      "    rowWeightedSds, rowWeightedVars\n",
      "\n",
      "\n",
      "Loading required package: GenomicRanges\n",
      "\n",
      "Loading required package: stats4\n",
      "\n",
      "Loading required package: BiocGenerics\n",
      "\n",
      "\n",
      "Attaching package: ‘BiocGenerics’\n",
      "\n",
      "\n",
      "The following objects are masked from ‘package:stats’:\n",
      "\n",
      "    IQR, mad, sd, var, xtabs\n",
      "\n",
      "\n",
      "The following objects are masked from ‘package:base’:\n",
      "\n",
      "    anyDuplicated, aperm, append, as.data.frame, basename, cbind,\n",
      "    colnames, dirname, do.call, duplicated, eval, evalq, Filter, Find,\n",
      "    get, grep, grepl, intersect, is.unsorted, lapply, Map, mapply,\n",
      "    match, mget, order, paste, pmax, pmax.int, pmin, pmin.int,\n",
      "    Position, rank, rbind, Reduce, rownames, sapply, setdiff, sort,\n",
      "    table, tapply, union, unique, unsplit, which.max, which.min\n",
      "\n",
      "\n",
      "Loading required package: S4Vectors\n",
      "\n",
      "\n",
      "Attaching package: ‘S4Vectors’\n",
      "\n",
      "\n",
      "The following objects are masked from ‘package:data.table’:\n",
      "\n",
      "    first, second\n",
      "\n",
      "\n",
      "The following object is masked from ‘package:utils’:\n",
      "\n",
      "    findMatches\n",
      "\n",
      "\n",
      "The following objects are masked from ‘package:base’:\n",
      "\n",
      "    expand.grid, I, unname\n",
      "\n",
      "\n",
      "Loading required package: IRanges\n",
      "\n",
      "\n",
      "Attaching package: ‘IRanges’\n",
      "\n",
      "\n",
      "The following object is masked from ‘package:data.table’:\n",
      "\n",
      "    shift\n",
      "\n",
      "\n",
      "Loading required package: GenomeInfoDb\n",
      "\n",
      "Loading required package: Biobase\n",
      "\n",
      "Welcome to Bioconductor\n",
      "\n",
      "    Vignettes contain introductory material; view with\n",
      "    'browseVignettes()'. To cite Bioconductor, see\n",
      "    'citation(\"Biobase\")', and for packages 'citation(\"pkgname\")'.\n",
      "\n",
      "\n",
      "\n",
      "Attaching package: ‘Biobase’\n",
      "\n",
      "\n",
      "The following object is masked from ‘package:MatrixGenerics’:\n",
      "\n",
      "    rowMedians\n",
      "\n",
      "\n",
      "The following objects are masked from ‘package:matrixStats’:\n",
      "\n",
      "    anyMissing, rowMedians\n",
      "\n",
      "\n",
      "\n",
      "Attaching package: ‘dplyr’\n",
      "\n",
      "\n",
      "The following object is masked from ‘package:Biobase’:\n",
      "\n",
      "    combine\n",
      "\n",
      "\n",
      "The following objects are masked from ‘package:GenomicRanges’:\n",
      "\n",
      "    intersect, setdiff, union\n",
      "\n",
      "\n",
      "The following object is masked from ‘package:GenomeInfoDb’:\n",
      "\n",
      "    intersect\n",
      "\n",
      "\n",
      "The following objects are masked from ‘package:IRanges’:\n",
      "\n",
      "    collapse, desc, intersect, setdiff, slice, union\n",
      "\n",
      "\n",
      "The following objects are masked from ‘package:S4Vectors’:\n",
      "\n",
      "    first, intersect, rename, setdiff, setequal, union\n",
      "\n",
      "\n",
      "The following objects are masked from ‘package:BiocGenerics’:\n",
      "\n",
      "    combine, intersect, setdiff, union\n",
      "\n",
      "\n",
      "The following objects are masked from ‘package:data.table’:\n",
      "\n",
      "    between, first, last\n",
      "\n",
      "\n",
      "The following object is masked from ‘package:matrixStats’:\n",
      "\n",
      "    count\n",
      "\n",
      "\n",
      "The following objects are masked from ‘package:stats’:\n",
      "\n",
      "    filter, lag\n",
      "\n",
      "\n",
      "The following objects are masked from ‘package:base’:\n",
      "\n",
      "    intersect, setdiff, setequal, union\n",
      "\n",
      "\n"
     ]
    }
   ],
   "source": [
    "library(matrixStats)\n",
    "library(circlize)\n",
    "library(ComplexHeatmap)\n",
    "library(data.table)\n",
    "library(SummarizedExperiment)\n",
    "library(S4Vectors)\n",
    "library(GenomicRanges)\n",
    "library(IRanges)\n",
    "library(dplyr)"
   ]
  },
  {
   "cell_type": "code",
   "execution_count": 2,
   "metadata": {
    "vscode": {
     "languageId": "r"
    }
   },
   "outputs": [],
   "source": [
    "#set working directory (location where TCGA data is stored)\n",
    "setwd(\"/scratch/user/s4436039/TCGA_Data\")"
   ]
  },
  {
   "cell_type": "code",
   "execution_count": 3,
   "metadata": {
    "vscode": {
     "languageId": "r"
    }
   },
   "outputs": [
    {
     "data": {
      "text/plain": [
       "class: RangedSummarizedExperiment \n",
       "dim: 60660 44 \n",
       "metadata(1): data_release\n",
       "assays(6): unstranded stranded_first ... fpkm_unstrand fpkm_uq_unstrand\n",
       "rownames(60660): ENSG00000000003.15 ENSG00000000005.6 ...\n",
       "  ENSG00000288674.1 ENSG00000288675.1\n",
       "rowData names(10): source type ... hgnc_id havana_gene\n",
       "colnames(44): TCGA-ZH-A8Y6-01A-11R-A41I-07 TCGA-W5-AA2Z-01A-11R-A41I-07\n",
       "  ... TCGA-3X-AAVE-01A-11R-A41I-07 TCGA-W5-AA36-01A-11R-A41I-07\n",
       "colData names(204): barcode patient ... paper_20 paper_21"
      ]
     },
     "metadata": {},
     "output_type": "display_data"
    },
    {
     "data": {
      "text/html": [
       "'RangedSummarizedExperiment object of length 60660 with 10 metadata columns'"
      ],
      "text/latex": [
       "'RangedSummarizedExperiment object of length 60660 with 10 metadata columns'"
      ],
      "text/markdown": [
       "'RangedSummarizedExperiment object of length 60660 with 10 metadata columns'"
      ],
      "text/plain": [
       "[1] \"RangedSummarizedExperiment object of length 60660 with 10 metadata columns\""
      ]
     },
     "metadata": {},
     "output_type": "display_data"
    }
   ],
   "source": [
    "# load in data (data was previously downloaded using the TCGAbiolinks package in R and saved as an RDS object)\n",
    "TCGA_CHOL <- readRDS(\"TCGA_CHOL.rds\")\n",
    "TCGA_CHOL\n",
    "summary(TCGA_CHOL)"
   ]
  },
  {
   "cell_type": "code",
   "execution_count": 4,
   "metadata": {
    "vscode": {
     "languageId": "r"
    }
   },
   "outputs": [
    {
     "data": {
      "text/html": [
       "<style>\n",
       ".list-inline {list-style: none; margin:0; padding: 0}\n",
       ".list-inline>li {display: inline-block}\n",
       ".list-inline>li:not(:last-child)::after {content: \"\\00b7\"; padding: 0 .5ex}\n",
       "</style>\n",
       "<ol class=list-inline><li>'Primary Tumor'</li><li>'Solid Tissue Normal'</li></ol>\n"
      ],
      "text/latex": [
       "\\begin{enumerate*}\n",
       "\\item 'Primary Tumor'\n",
       "\\item 'Solid Tissue Normal'\n",
       "\\end{enumerate*}\n"
      ],
      "text/markdown": [
       "1. 'Primary Tumor'\n",
       "2. 'Solid Tissue Normal'\n",
       "\n",
       "\n"
      ],
      "text/plain": [
       "[1] \"Primary Tumor\"       \"Solid Tissue Normal\""
      ]
     },
     "metadata": {},
     "output_type": "display_data"
    }
   ],
   "source": [
    "unique(TCGA_CHOL$sample_type)"
   ]
  },
  {
   "cell_type": "code",
   "execution_count": 5,
   "metadata": {
    "vscode": {
     "languageId": "r"
    }
   },
   "outputs": [
    {
     "data": {
      "text/plain": [
       "\n",
       "      Primary Tumor Solid Tissue Normal \n",
       "                 35                   9 "
      ]
     },
     "metadata": {},
     "output_type": "display_data"
    }
   ],
   "source": [
    "table(colData(TCGA_CHOL)$sample_type)"
   ]
  },
  {
   "cell_type": "code",
   "execution_count": 6,
   "metadata": {
    "vscode": {
     "languageId": "r"
    }
   },
   "outputs": [],
   "source": [
    "# Subset object\n",
    "primary <- TCGA_CHOL[, colData(TCGA_CHOL)$sample_type == \"Primary Tumor\"]"
   ]
  },
  {
   "cell_type": "code",
   "execution_count": 7,
   "metadata": {
    "vscode": {
     "languageId": "r"
    }
   },
   "outputs": [
    {
     "data": {
      "text/plain": [
       "\n",
       "Primary Tumor \n",
       "           35 "
      ]
     },
     "metadata": {},
     "output_type": "display_data"
    }
   ],
   "source": [
    "table(colData(primary)$sample_type)"
   ]
  },
  {
   "cell_type": "code",
   "execution_count": 8,
   "metadata": {
    "vscode": {
     "languageId": "r"
    }
   },
   "outputs": [
    {
     "data": {
      "text/html": [
       "'RangedSummarizedExperiment object of length 60660 with 10 metadata columns'"
      ],
      "text/latex": [
       "'RangedSummarizedExperiment object of length 60660 with 10 metadata columns'"
      ],
      "text/markdown": [
       "'RangedSummarizedExperiment object of length 60660 with 10 metadata columns'"
      ],
      "text/plain": [
       "[1] \"RangedSummarizedExperiment object of length 60660 with 10 metadata columns\""
      ]
     },
     "metadata": {},
     "output_type": "display_data"
    }
   ],
   "source": [
    "summary(primary)"
   ]
  },
  {
   "cell_type": "code",
   "execution_count": 9,
   "metadata": {
    "vscode": {
     "languageId": "r"
    }
   },
   "outputs": [],
   "source": [
    "#define SSGSEA Function\n",
    "#function from https://rpubs.com/pranali018/SSGSEA  \n",
    "\n",
    "ssgsea = function(X, gene_sets, alpha = 0.25, scale = T, norm = F, single = T) {\n",
    "  row_names = rownames(X)\n",
    "  num_genes = nrow(X)\n",
    "  gene_sets = lapply(gene_sets, function(genes) {which(row_names %in% genes)})\n",
    "  \n",
    "  # Ranks for genes\n",
    "  R = matrixStats::colRanks(X, preserveShape = T, ties.method = 'average')\n",
    "  \n",
    "  # Calculate enrichment score (es) for each sample (column)\n",
    "  es = apply(R, 2, function(R_col) {\n",
    "    gene_ranks = order(R_col, decreasing = TRUE)\n",
    "    \n",
    "    # Calc es for each gene set\n",
    "    es_sample = sapply(gene_sets, function(gene_set_idx) {\n",
    "      # pos: match (within the gene set)\n",
    "      # neg: non-match (outside the gene set)\n",
    "      indicator_pos = gene_ranks %in% gene_set_idx\n",
    "      indicator_neg = !indicator_pos\n",
    "      \n",
    "      rank_alpha  = (R_col[gene_ranks] * indicator_pos) ^ alpha\n",
    "      \n",
    "      step_cdf_pos = cumsum(rank_alpha)    / sum(rank_alpha)\n",
    "      step_cdf_neg = cumsum(indicator_neg) / sum(indicator_neg)\n",
    "      \n",
    "      step_cdf_diff = step_cdf_pos - step_cdf_neg\n",
    "      \n",
    "      # Normalize by gene number\n",
    "      if (scale) step_cdf_diff = step_cdf_diff / num_genes\n",
    "      \n",
    "      # Use ssGSEA or not\n",
    "      if (single) {\n",
    "        sum(step_cdf_diff)\n",
    "      } else {\n",
    "        step_cdf_diff[which.max(abs(step_cdf_diff))]\n",
    "      }\n",
    "    })\n",
    "    unlist(es_sample)\n",
    "  })\n",
    "  \n",
    "  if (length(gene_sets) == 1) es = matrix(es, nrow = 1)\n",
    "  \n",
    "  # Normalize by absolute diff between max and min\n",
    "  if (norm) es = es / diff(range(es))\n",
    "  \n",
    "  # Prepare output\n",
    "  rownames(es) = names(gene_sets)\n",
    "  colnames(es) = colnames(X)\n",
    "  return(es)\n",
    "}\n"
   ]
  },
  {
   "cell_type": "code",
   "execution_count": 10,
   "metadata": {
    "vscode": {
     "languageId": "r"
    }
   },
   "outputs": [
    {
     "data": {
      "text/plain": [
       "List of length 6\n",
       "names(6): unstranded stranded_first ... fpkm_unstrand fpkm_uq_unstrand"
      ]
     },
     "metadata": {},
     "output_type": "display_data"
    }
   ],
   "source": [
    "#view the different assays stored\n",
    "assays(primary)"
   ]
  },
  {
   "cell_type": "code",
   "execution_count": 11,
   "metadata": {
    "vscode": {
     "languageId": "r"
    }
   },
   "outputs": [
    {
     "data": {
      "text/html": [
       "<style>\n",
       ".list-inline {list-style: none; margin:0; padding: 0}\n",
       ".list-inline>li {display: inline-block}\n",
       ".list-inline>li:not(:last-child)::after {content: \"\\00b7\"; padding: 0 .5ex}\n",
       "</style>\n",
       "<ol class=list-inline><li>60660</li><li>35</li></ol>\n"
      ],
      "text/latex": [
       "\\begin{enumerate*}\n",
       "\\item 60660\n",
       "\\item 35\n",
       "\\end{enumerate*}\n"
      ],
      "text/markdown": [
       "1. 60660\n",
       "2. 35\n",
       "\n",
       "\n"
      ],
      "text/plain": [
       "[1] 60660    35"
      ]
     },
     "metadata": {},
     "output_type": "display_data"
    },
    {
     "data": {
      "text/html": [
       "<table class=\"dataframe\">\n",
       "<caption>A matrix: 3 × 3 of type dbl</caption>\n",
       "<thead>\n",
       "\t<tr><th></th><th scope=col>TCGA-ZH-A8Y6-01A-11R-A41I-07</th><th scope=col>TCGA-W5-AA2Z-01A-11R-A41I-07</th><th scope=col>TCGA-3X-AAV9-01A-72R-A41I-07</th></tr>\n",
       "</thead>\n",
       "<tbody>\n",
       "\t<tr><th scope=row>ENSG00000000003.15</th><td> 9.1429</td><td>96.2452</td><td>46.7381</td></tr>\n",
       "\t<tr><th scope=row>ENSG00000000005.6</th><td> 0.0000</td><td> 0.0000</td><td> 0.0429</td></tr>\n",
       "\t<tr><th scope=row>ENSG00000000419.13</th><td>78.4939</td><td>83.7932</td><td>94.4815</td></tr>\n",
       "</tbody>\n",
       "</table>\n"
      ],
      "text/latex": [
       "A matrix: 3 × 3 of type dbl\n",
       "\\begin{tabular}{r|lll}\n",
       "  & TCGA-ZH-A8Y6-01A-11R-A41I-07 & TCGA-W5-AA2Z-01A-11R-A41I-07 & TCGA-3X-AAV9-01A-72R-A41I-07\\\\\n",
       "\\hline\n",
       "\tENSG00000000003.15 &  9.1429 & 96.2452 & 46.7381\\\\\n",
       "\tENSG00000000005.6 &  0.0000 &  0.0000 &  0.0429\\\\\n",
       "\tENSG00000000419.13 & 78.4939 & 83.7932 & 94.4815\\\\\n",
       "\\end{tabular}\n"
      ],
      "text/markdown": [
       "\n",
       "A matrix: 3 × 3 of type dbl\n",
       "\n",
       "| <!--/--> | TCGA-ZH-A8Y6-01A-11R-A41I-07 | TCGA-W5-AA2Z-01A-11R-A41I-07 | TCGA-3X-AAV9-01A-72R-A41I-07 |\n",
       "|---|---|---|---|\n",
       "| ENSG00000000003.15 |  9.1429 | 96.2452 | 46.7381 |\n",
       "| ENSG00000000005.6 |  0.0000 |  0.0000 |  0.0429 |\n",
       "| ENSG00000000419.13 | 78.4939 | 83.7932 | 94.4815 |\n",
       "\n"
      ],
      "text/plain": [
       "                   TCGA-ZH-A8Y6-01A-11R-A41I-07 TCGA-W5-AA2Z-01A-11R-A41I-07\n",
       "ENSG00000000003.15  9.1429                      96.2452                     \n",
       "ENSG00000000005.6   0.0000                       0.0000                     \n",
       "ENSG00000000419.13 78.4939                      83.7932                     \n",
       "                   TCGA-3X-AAV9-01A-72R-A41I-07\n",
       "ENSG00000000003.15 46.7381                     \n",
       "ENSG00000000005.6   0.0429                     \n",
       "ENSG00000000419.13 94.4815                     "
      ]
     },
     "metadata": {},
     "output_type": "display_data"
    }
   ],
   "source": [
    "#for this analysis using the tpm_unstrand assay \n",
    "dim(assays(primary)$tpm_unstrand)\n",
    "#set data to tpm_unstand assay for this analysis\n",
    "data <- assays(primary)$tpm_unstrand\n",
    "#view data\n",
    "data[1:3,1:3]"
   ]
  },
  {
   "cell_type": "code",
   "execution_count": 12,
   "metadata": {
    "vscode": {
     "languageId": "r"
    }
   },
   "outputs": [],
   "source": [
    "#convert to matrix\n",
    "data = as.matrix(data)"
   ]
  },
  {
   "cell_type": "code",
   "execution_count": 13,
   "metadata": {
    "vscode": {
     "languageId": "r"
    }
   },
   "outputs": [
    {
     "data": {
      "text/html": [
       "<strong>$gene_id</strong> = <style>\n",
       ".list-inline {list-style: none; margin:0; padding: 0}\n",
       ".list-inline>li {display: inline-block}\n",
       ".list-inline>li:not(:last-child)::after {content: \"\\00b7\"; padding: 0 .5ex}\n",
       "</style>\n",
       "<ol class=list-inline><li>'ENSG00000102962.5'</li><li>'ENSG00000104951.16'</li><li>'ENSG00000198053.12'</li><li>'ENSG00000126353.3'</li><li>'ENSG00000171310.11'</li><li>'ENSG00000180758.12'</li><li>'ENSG00000090104.12'</li><li>'ENSG00000023445.16'</li><li>'ENSG00000056558.11'</li><li>'ENSG00000198223.17'</li><li>'ENSG00000107021.16'</li><li>'ENSG00000078081.8'</li><li>'ENSG00000118242.16'</li><li>'ENSG00000167641.11'</li><li>'ENSG00000198369.10'</li><li>'ENSG00000112149.10'</li><li>'ENSG00000136810.13'</li><li>'ENSG00000172081.14'</li><li>'ENSG00000109320.13'</li><li>'ENSG00000136111.14'</li><li>'ENSG00000123374.11'</li><li>'ENSG00000261040.7'</li><li>'ENSG00000047365.12'</li><li>'ENSG00000160445.11'</li><li>'ENSG00000151726.15'</li><li>'ENSG00000167642.13'</li><li>'ENSG00000161011.20'</li><li>'ENSG00000204634.13'</li><li>'ENSG00000101384.12'</li><li>'ENSG00000278834.1'</li><li>'ENSG00000156127.8'</li><li>'ENSG00000117036.12'</li><li>'ENSG00000171791.14'</li><li>'ENSG00000068796.19'</li><li>'ENSG00000075618.18'</li><li>'ENSG00000118503.15'</li><li>'ENSG00000160050.15'</li><li>'ENSG00000119508.18'</li><li>'ENSG00000115165.10'</li><li>'ENSG00000115956.10'</li><li>'ENSG00000150907.10'</li><li>'ENSG00000025772.8'</li><li>'ENSG00000135148.12'</li><li>'ENSG00000101445.10'</li><li>'ENSG00000121966.7'</li><li>'ENSG00000101017.14'</li><li>'ENSG00000198018.7'</li><li>'ENSG00000124762.14'</li><li>'ENSG00000015475.19'</li><li>'ENSG00000277443.3'</li><li>'ENSG00000138166.6'</li><li>'ENSG00000071054.16'</li><li>'ENSG00000171552.14'</li><li>'ENSG00000172183.15'</li><li>'ENSG00000145860.12'</li><li>'ENSG00000137522.18'</li><li>'ENSG00000183484.12'</li><li>'ENSG00000138670.18'</li><li>'ENSG00000197872.11'</li><li>'ENSG00000084733.11'</li><li>'ENSG00000172292.15'</li><li>'ENSG00000115594.12'</li><li>'ENSG00000101109.12'</li><li>'ENSG00000069493.15'</li><li>'ENSG00000217801.10'</li><li>'ENSG00000177311.11'</li><li>'ENSG00000159128.15'</li><li>'ENSG00000120217.14'</li><li>'ENSG00000136052.9'</li><li>'ENSG00000118257.17'</li><li>'ENSG00000164236.12'</li><li>'ENSG00000169508.7'</li><li>'ENSG00000163389.12'</li><li>'ENSG00000128271.22'</li><li>'ENSG00000102221.14'</li><li>'ENSG00000131773.14'</li><li>'ENSG00000168036.18'</li><li>'ENSG00000137571.11'</li><li>'ENSG00000077150.20'</li><li>'ENSG00000116741.8'</li><li>'ENSG00000106803.10'</li><li>'ENSG00000186187.12'</li><li>'ENSG00000104856.14'</li><li>'ENSG00000151131.11'</li><li>'ENSG00000168310.11'</li><li>'ENSG00000273604.2'</li><li>'ENSG00000059728.11'</li><li>'ENSG00000111540.16'</li><li>'ENSG00000117115.13'</li><li>'ENSG00000136048.14'</li><li>'ENSG00000108389.9'</li><li>'ENSG00000103319.12'</li><li>'ENSG00000111846.19'</li><li>'ENSG00000173166.18'</li><li>'ENSG00000140379.9'</li><li>'ENSG00000101310.17'</li><li>'ENSG00000198355.5'</li><li>'ENSG00000163297.17'</li><li>'ENSG00000166016.6'</li><li>'ENSG00000164484.12'</li></ol>\n"
      ],
      "text/latex": [
       "\\textbf{\\$gene\\_id} = \\begin{enumerate*}\n",
       "\\item 'ENSG00000102962.5'\n",
       "\\item 'ENSG00000104951.16'\n",
       "\\item 'ENSG00000198053.12'\n",
       "\\item 'ENSG00000126353.3'\n",
       "\\item 'ENSG00000171310.11'\n",
       "\\item 'ENSG00000180758.12'\n",
       "\\item 'ENSG00000090104.12'\n",
       "\\item 'ENSG00000023445.16'\n",
       "\\item 'ENSG00000056558.11'\n",
       "\\item 'ENSG00000198223.17'\n",
       "\\item 'ENSG00000107021.16'\n",
       "\\item 'ENSG00000078081.8'\n",
       "\\item 'ENSG00000118242.16'\n",
       "\\item 'ENSG00000167641.11'\n",
       "\\item 'ENSG00000198369.10'\n",
       "\\item 'ENSG00000112149.10'\n",
       "\\item 'ENSG00000136810.13'\n",
       "\\item 'ENSG00000172081.14'\n",
       "\\item 'ENSG00000109320.13'\n",
       "\\item 'ENSG00000136111.14'\n",
       "\\item 'ENSG00000123374.11'\n",
       "\\item 'ENSG00000261040.7'\n",
       "\\item 'ENSG00000047365.12'\n",
       "\\item 'ENSG00000160445.11'\n",
       "\\item 'ENSG00000151726.15'\n",
       "\\item 'ENSG00000167642.13'\n",
       "\\item 'ENSG00000161011.20'\n",
       "\\item 'ENSG00000204634.13'\n",
       "\\item 'ENSG00000101384.12'\n",
       "\\item 'ENSG00000278834.1'\n",
       "\\item 'ENSG00000156127.8'\n",
       "\\item 'ENSG00000117036.12'\n",
       "\\item 'ENSG00000171791.14'\n",
       "\\item 'ENSG00000068796.19'\n",
       "\\item 'ENSG00000075618.18'\n",
       "\\item 'ENSG00000118503.15'\n",
       "\\item 'ENSG00000160050.15'\n",
       "\\item 'ENSG00000119508.18'\n",
       "\\item 'ENSG00000115165.10'\n",
       "\\item 'ENSG00000115956.10'\n",
       "\\item 'ENSG00000150907.10'\n",
       "\\item 'ENSG00000025772.8'\n",
       "\\item 'ENSG00000135148.12'\n",
       "\\item 'ENSG00000101445.10'\n",
       "\\item 'ENSG00000121966.7'\n",
       "\\item 'ENSG00000101017.14'\n",
       "\\item 'ENSG00000198018.7'\n",
       "\\item 'ENSG00000124762.14'\n",
       "\\item 'ENSG00000015475.19'\n",
       "\\item 'ENSG00000277443.3'\n",
       "\\item 'ENSG00000138166.6'\n",
       "\\item 'ENSG00000071054.16'\n",
       "\\item 'ENSG00000171552.14'\n",
       "\\item 'ENSG00000172183.15'\n",
       "\\item 'ENSG00000145860.12'\n",
       "\\item 'ENSG00000137522.18'\n",
       "\\item 'ENSG00000183484.12'\n",
       "\\item 'ENSG00000138670.18'\n",
       "\\item 'ENSG00000197872.11'\n",
       "\\item 'ENSG00000084733.11'\n",
       "\\item 'ENSG00000172292.15'\n",
       "\\item 'ENSG00000115594.12'\n",
       "\\item 'ENSG00000101109.12'\n",
       "\\item 'ENSG00000069493.15'\n",
       "\\item 'ENSG00000217801.10'\n",
       "\\item 'ENSG00000177311.11'\n",
       "\\item 'ENSG00000159128.15'\n",
       "\\item 'ENSG00000120217.14'\n",
       "\\item 'ENSG00000136052.9'\n",
       "\\item 'ENSG00000118257.17'\n",
       "\\item 'ENSG00000164236.12'\n",
       "\\item 'ENSG00000169508.7'\n",
       "\\item 'ENSG00000163389.12'\n",
       "\\item 'ENSG00000128271.22'\n",
       "\\item 'ENSG00000102221.14'\n",
       "\\item 'ENSG00000131773.14'\n",
       "\\item 'ENSG00000168036.18'\n",
       "\\item 'ENSG00000137571.11'\n",
       "\\item 'ENSG00000077150.20'\n",
       "\\item 'ENSG00000116741.8'\n",
       "\\item 'ENSG00000106803.10'\n",
       "\\item 'ENSG00000186187.12'\n",
       "\\item 'ENSG00000104856.14'\n",
       "\\item 'ENSG00000151131.11'\n",
       "\\item 'ENSG00000168310.11'\n",
       "\\item 'ENSG00000273604.2'\n",
       "\\item 'ENSG00000059728.11'\n",
       "\\item 'ENSG00000111540.16'\n",
       "\\item 'ENSG00000117115.13'\n",
       "\\item 'ENSG00000136048.14'\n",
       "\\item 'ENSG00000108389.9'\n",
       "\\item 'ENSG00000103319.12'\n",
       "\\item 'ENSG00000111846.19'\n",
       "\\item 'ENSG00000173166.18'\n",
       "\\item 'ENSG00000140379.9'\n",
       "\\item 'ENSG00000101310.17'\n",
       "\\item 'ENSG00000198355.5'\n",
       "\\item 'ENSG00000163297.17'\n",
       "\\item 'ENSG00000166016.6'\n",
       "\\item 'ENSG00000164484.12'\n",
       "\\end{enumerate*}\n"
      ],
      "text/markdown": [
       "**$gene_id** = 1. 'ENSG00000102962.5'\n",
       "2. 'ENSG00000104951.16'\n",
       "3. 'ENSG00000198053.12'\n",
       "4. 'ENSG00000126353.3'\n",
       "5. 'ENSG00000171310.11'\n",
       "6. 'ENSG00000180758.12'\n",
       "7. 'ENSG00000090104.12'\n",
       "8. 'ENSG00000023445.16'\n",
       "9. 'ENSG00000056558.11'\n",
       "10. 'ENSG00000198223.17'\n",
       "11. 'ENSG00000107021.16'\n",
       "12. 'ENSG00000078081.8'\n",
       "13. 'ENSG00000118242.16'\n",
       "14. 'ENSG00000167641.11'\n",
       "15. 'ENSG00000198369.10'\n",
       "16. 'ENSG00000112149.10'\n",
       "17. 'ENSG00000136810.13'\n",
       "18. 'ENSG00000172081.14'\n",
       "19. 'ENSG00000109320.13'\n",
       "20. 'ENSG00000136111.14'\n",
       "21. 'ENSG00000123374.11'\n",
       "22. 'ENSG00000261040.7'\n",
       "23. 'ENSG00000047365.12'\n",
       "24. 'ENSG00000160445.11'\n",
       "25. 'ENSG00000151726.15'\n",
       "26. 'ENSG00000167642.13'\n",
       "27. 'ENSG00000161011.20'\n",
       "28. 'ENSG00000204634.13'\n",
       "29. 'ENSG00000101384.12'\n",
       "30. 'ENSG00000278834.1'\n",
       "31. 'ENSG00000156127.8'\n",
       "32. 'ENSG00000117036.12'\n",
       "33. 'ENSG00000171791.14'\n",
       "34. 'ENSG00000068796.19'\n",
       "35. 'ENSG00000075618.18'\n",
       "36. 'ENSG00000118503.15'\n",
       "37. 'ENSG00000160050.15'\n",
       "38. 'ENSG00000119508.18'\n",
       "39. 'ENSG00000115165.10'\n",
       "40. 'ENSG00000115956.10'\n",
       "41. 'ENSG00000150907.10'\n",
       "42. 'ENSG00000025772.8'\n",
       "43. 'ENSG00000135148.12'\n",
       "44. 'ENSG00000101445.10'\n",
       "45. 'ENSG00000121966.7'\n",
       "46. 'ENSG00000101017.14'\n",
       "47. 'ENSG00000198018.7'\n",
       "48. 'ENSG00000124762.14'\n",
       "49. 'ENSG00000015475.19'\n",
       "50. 'ENSG00000277443.3'\n",
       "51. 'ENSG00000138166.6'\n",
       "52. 'ENSG00000071054.16'\n",
       "53. 'ENSG00000171552.14'\n",
       "54. 'ENSG00000172183.15'\n",
       "55. 'ENSG00000145860.12'\n",
       "56. 'ENSG00000137522.18'\n",
       "57. 'ENSG00000183484.12'\n",
       "58. 'ENSG00000138670.18'\n",
       "59. 'ENSG00000197872.11'\n",
       "60. 'ENSG00000084733.11'\n",
       "61. 'ENSG00000172292.15'\n",
       "62. 'ENSG00000115594.12'\n",
       "63. 'ENSG00000101109.12'\n",
       "64. 'ENSG00000069493.15'\n",
       "65. 'ENSG00000217801.10'\n",
       "66. 'ENSG00000177311.11'\n",
       "67. 'ENSG00000159128.15'\n",
       "68. 'ENSG00000120217.14'\n",
       "69. 'ENSG00000136052.9'\n",
       "70. 'ENSG00000118257.17'\n",
       "71. 'ENSG00000164236.12'\n",
       "72. 'ENSG00000169508.7'\n",
       "73. 'ENSG00000163389.12'\n",
       "74. 'ENSG00000128271.22'\n",
       "75. 'ENSG00000102221.14'\n",
       "76. 'ENSG00000131773.14'\n",
       "77. 'ENSG00000168036.18'\n",
       "78. 'ENSG00000137571.11'\n",
       "79. 'ENSG00000077150.20'\n",
       "80. 'ENSG00000116741.8'\n",
       "81. 'ENSG00000106803.10'\n",
       "82. 'ENSG00000186187.12'\n",
       "83. 'ENSG00000104856.14'\n",
       "84. 'ENSG00000151131.11'\n",
       "85. 'ENSG00000168310.11'\n",
       "86. 'ENSG00000273604.2'\n",
       "87. 'ENSG00000059728.11'\n",
       "88. 'ENSG00000111540.16'\n",
       "89. 'ENSG00000117115.13'\n",
       "90. 'ENSG00000136048.14'\n",
       "91. 'ENSG00000108389.9'\n",
       "92. 'ENSG00000103319.12'\n",
       "93. 'ENSG00000111846.19'\n",
       "94. 'ENSG00000173166.18'\n",
       "95. 'ENSG00000140379.9'\n",
       "96. 'ENSG00000101310.17'\n",
       "97. 'ENSG00000198355.5'\n",
       "98. 'ENSG00000163297.17'\n",
       "99. 'ENSG00000166016.6'\n",
       "100. 'ENSG00000164484.12'\n",
       "\n",
       "\n"
      ],
      "text/plain": [
       "$gene_id\n",
       "  [1] \"ENSG00000102962.5\"  \"ENSG00000104951.16\" \"ENSG00000198053.12\"\n",
       "  [4] \"ENSG00000126353.3\"  \"ENSG00000171310.11\" \"ENSG00000180758.12\"\n",
       "  [7] \"ENSG00000090104.12\" \"ENSG00000023445.16\" \"ENSG00000056558.11\"\n",
       " [10] \"ENSG00000198223.17\" \"ENSG00000107021.16\" \"ENSG00000078081.8\" \n",
       " [13] \"ENSG00000118242.16\" \"ENSG00000167641.11\" \"ENSG00000198369.10\"\n",
       " [16] \"ENSG00000112149.10\" \"ENSG00000136810.13\" \"ENSG00000172081.14\"\n",
       " [19] \"ENSG00000109320.13\" \"ENSG00000136111.14\" \"ENSG00000123374.11\"\n",
       " [22] \"ENSG00000261040.7\"  \"ENSG00000047365.12\" \"ENSG00000160445.11\"\n",
       " [25] \"ENSG00000151726.15\" \"ENSG00000167642.13\" \"ENSG00000161011.20\"\n",
       " [28] \"ENSG00000204634.13\" \"ENSG00000101384.12\" \"ENSG00000278834.1\" \n",
       " [31] \"ENSG00000156127.8\"  \"ENSG00000117036.12\" \"ENSG00000171791.14\"\n",
       " [34] \"ENSG00000068796.19\" \"ENSG00000075618.18\" \"ENSG00000118503.15\"\n",
       " [37] \"ENSG00000160050.15\" \"ENSG00000119508.18\" \"ENSG00000115165.10\"\n",
       " [40] \"ENSG00000115956.10\" \"ENSG00000150907.10\" \"ENSG00000025772.8\" \n",
       " [43] \"ENSG00000135148.12\" \"ENSG00000101445.10\" \"ENSG00000121966.7\" \n",
       " [46] \"ENSG00000101017.14\" \"ENSG00000198018.7\"  \"ENSG00000124762.14\"\n",
       " [49] \"ENSG00000015475.19\" \"ENSG00000277443.3\"  \"ENSG00000138166.6\" \n",
       " [52] \"ENSG00000071054.16\" \"ENSG00000171552.14\" \"ENSG00000172183.15\"\n",
       " [55] \"ENSG00000145860.12\" \"ENSG00000137522.18\" \"ENSG00000183484.12\"\n",
       " [58] \"ENSG00000138670.18\" \"ENSG00000197872.11\" \"ENSG00000084733.11\"\n",
       " [61] \"ENSG00000172292.15\" \"ENSG00000115594.12\" \"ENSG00000101109.12\"\n",
       " [64] \"ENSG00000069493.15\" \"ENSG00000217801.10\" \"ENSG00000177311.11\"\n",
       " [67] \"ENSG00000159128.15\" \"ENSG00000120217.14\" \"ENSG00000136052.9\" \n",
       " [70] \"ENSG00000118257.17\" \"ENSG00000164236.12\" \"ENSG00000169508.7\" \n",
       " [73] \"ENSG00000163389.12\" \"ENSG00000128271.22\" \"ENSG00000102221.14\"\n",
       " [76] \"ENSG00000131773.14\" \"ENSG00000168036.18\" \"ENSG00000137571.11\"\n",
       " [79] \"ENSG00000077150.20\" \"ENSG00000116741.8\"  \"ENSG00000106803.10\"\n",
       " [82] \"ENSG00000186187.12\" \"ENSG00000104856.14\" \"ENSG00000151131.11\"\n",
       " [85] \"ENSG00000168310.11\" \"ENSG00000273604.2\"  \"ENSG00000059728.11\"\n",
       " [88] \"ENSG00000111540.16\" \"ENSG00000117115.13\" \"ENSG00000136048.14\"\n",
       " [91] \"ENSG00000108389.9\"  \"ENSG00000103319.12\" \"ENSG00000111846.19\"\n",
       " [94] \"ENSG00000173166.18\" \"ENSG00000140379.9\"  \"ENSG00000101310.17\"\n",
       " [97] \"ENSG00000198355.5\"  \"ENSG00000163297.17\" \"ENSG00000166016.6\" \n",
       "[100] \"ENSG00000164484.12\"\n"
      ]
     },
     "metadata": {},
     "output_type": "display_data"
    }
   ],
   "source": [
    "#load in my signature and make it a list (edit this to any signature)\n",
    "sig <- fread(\"ag_pos_vs_dll1_deg_limma.csv\", select = c(\"gene_id\"))\n",
    "sig <- sig[1:100,]\n",
    "sig = as.list(as.data.frame(sig))\n",
    "head(sig)"
   ]
  },
  {
   "cell_type": "code",
   "execution_count": 14,
   "metadata": {
    "vscode": {
     "languageId": "r"
    }
   },
   "outputs": [
    {
     "data": {
      "text/plain": [
       "   user  system elapsed \n",
       "  0.782   0.034   0.820 "
      ]
     },
     "metadata": {},
     "output_type": "display_data"
    }
   ],
   "source": [
    "#Run ssGSEA function\n",
    "#ssgsea: https://rpubs.com/pranali018/SSGSEA\n",
    "system.time(assign('res', ssgsea(data, sig, scale = TRUE, norm = FALSE)))"
   ]
  },
  {
   "cell_type": "code",
   "execution_count": 15,
   "metadata": {
    "vscode": {
     "languageId": "r"
    }
   },
   "outputs": [
    {
     "data": {
      "text/html": [
       "<table class=\"dataframe\">\n",
       "<caption>A matrix: 6 × 1 of type dbl</caption>\n",
       "<thead>\n",
       "\t<tr><th></th><th scope=col>gene_id</th></tr>\n",
       "</thead>\n",
       "<tbody>\n",
       "\t<tr><th scope=row>TCGA-ZH-A8Y6-01A-11R-A41I-07</th><td>0.3622000</td></tr>\n",
       "\t<tr><th scope=row>TCGA-W5-AA2Z-01A-11R-A41I-07</th><td>0.3830868</td></tr>\n",
       "\t<tr><th scope=row>TCGA-3X-AAV9-01A-72R-A41I-07</th><td>0.3979780</td></tr>\n",
       "\t<tr><th scope=row>TCGA-W6-AA0S-01A-11R-A41I-07</th><td>0.3936448</td></tr>\n",
       "\t<tr><th scope=row>TCGA-ZU-A8S4-01A-11R-A41I-07</th><td>0.3901766</td></tr>\n",
       "\t<tr><th scope=row>TCGA-4G-AAZO-01A-12R-A41I-07</th><td>0.3735762</td></tr>\n",
       "</tbody>\n",
       "</table>\n"
      ],
      "text/latex": [
       "A matrix: 6 × 1 of type dbl\n",
       "\\begin{tabular}{r|l}\n",
       "  & gene\\_id\\\\\n",
       "\\hline\n",
       "\tTCGA-ZH-A8Y6-01A-11R-A41I-07 & 0.3622000\\\\\n",
       "\tTCGA-W5-AA2Z-01A-11R-A41I-07 & 0.3830868\\\\\n",
       "\tTCGA-3X-AAV9-01A-72R-A41I-07 & 0.3979780\\\\\n",
       "\tTCGA-W6-AA0S-01A-11R-A41I-07 & 0.3936448\\\\\n",
       "\tTCGA-ZU-A8S4-01A-11R-A41I-07 & 0.3901766\\\\\n",
       "\tTCGA-4G-AAZO-01A-12R-A41I-07 & 0.3735762\\\\\n",
       "\\end{tabular}\n"
      ],
      "text/markdown": [
       "\n",
       "A matrix: 6 × 1 of type dbl\n",
       "\n",
       "| <!--/--> | gene_id |\n",
       "|---|---|\n",
       "| TCGA-ZH-A8Y6-01A-11R-A41I-07 | 0.3622000 |\n",
       "| TCGA-W5-AA2Z-01A-11R-A41I-07 | 0.3830868 |\n",
       "| TCGA-3X-AAV9-01A-72R-A41I-07 | 0.3979780 |\n",
       "| TCGA-W6-AA0S-01A-11R-A41I-07 | 0.3936448 |\n",
       "| TCGA-ZU-A8S4-01A-11R-A41I-07 | 0.3901766 |\n",
       "| TCGA-4G-AAZO-01A-12R-A41I-07 | 0.3735762 |\n",
       "\n"
      ],
      "text/plain": [
       "                             gene_id  \n",
       "TCGA-ZH-A8Y6-01A-11R-A41I-07 0.3622000\n",
       "TCGA-W5-AA2Z-01A-11R-A41I-07 0.3830868\n",
       "TCGA-3X-AAV9-01A-72R-A41I-07 0.3979780\n",
       "TCGA-W6-AA0S-01A-11R-A41I-07 0.3936448\n",
       "TCGA-ZU-A8S4-01A-11R-A41I-07 0.3901766\n",
       "TCGA-4G-AAZO-01A-12R-A41I-07 0.3735762"
      ]
     },
     "metadata": {},
     "output_type": "display_data"
    }
   ],
   "source": [
    "#transpose results\n",
    "res1 = t(res)\n",
    "head(res1)"
   ]
  },
  {
   "cell_type": "code",
   "execution_count": 16,
   "metadata": {
    "vscode": {
     "languageId": "r"
    }
   },
   "outputs": [
    {
     "data": {
      "text/html": [
       "<style>\n",
       ".list-inline {list-style: none; margin:0; padding: 0}\n",
       ".list-inline>li {display: inline-block}\n",
       ".list-inline>li:not(:last-child)::after {content: \"\\00b7\"; padding: 0 .5ex}\n",
       "</style>\n",
       "<ol class=list-inline><li>1</li><li>35</li></ol>\n"
      ],
      "text/latex": [
       "\\begin{enumerate*}\n",
       "\\item 1\n",
       "\\item 35\n",
       "\\end{enumerate*}\n"
      ],
      "text/markdown": [
       "1. 1\n",
       "2. 35\n",
       "\n",
       "\n"
      ],
      "text/plain": [
       "[1]  1 35"
      ]
     },
     "metadata": {},
     "output_type": "display_data"
    },
    {
     "data": {
      "text/html": [
       "<style>\n",
       ".dl-inline {width: auto; margin:0; padding: 0}\n",
       ".dl-inline>dt, .dl-inline>dd {float: none; width: auto; display: inline-block}\n",
       ".dl-inline>dt::after {content: \":\\0020\"; padding-right: .5ex}\n",
       ".dl-inline>dt:not(:first-of-type) {padding-left: .5ex}\n",
       "</style><dl class=dl-inline><dt>TCGA-ZH-A8Y6-01A-11R-A41I-07</dt><dd>-0.884875407741134</dd><dt>TCGA-W5-AA2Z-01A-11R-A41I-07</dt><dd>0.518235388299025</dd><dt>TCGA-3X-AAV9-01A-72R-A41I-07</dt><dd>1.51857617911037</dd><dt>TCGA-W6-AA0S-01A-11R-A41I-07</dt><dd>1.22748659000814</dd><dt>TCGA-ZU-A8S4-01A-11R-A41I-07</dt><dd>0.994501789393608</dd></dl>\n"
      ],
      "text/latex": [
       "\\begin{description*}\n",
       "\\item[TCGA-ZH-A8Y6-01A-11R-A41I-07] -0.884875407741134\n",
       "\\item[TCGA-W5-AA2Z-01A-11R-A41I-07] 0.518235388299025\n",
       "\\item[TCGA-3X-AAV9-01A-72R-A41I-07] 1.51857617911037\n",
       "\\item[TCGA-W6-AA0S-01A-11R-A41I-07] 1.22748659000814\n",
       "\\item[TCGA-ZU-A8S4-01A-11R-A41I-07] 0.994501789393608\n",
       "\\end{description*}\n"
      ],
      "text/markdown": [
       "TCGA-ZH-A8Y6-01A-11R-A41I-07\n",
       ":   -0.884875407741134TCGA-W5-AA2Z-01A-11R-A41I-07\n",
       ":   0.518235388299025TCGA-3X-AAV9-01A-72R-A41I-07\n",
       ":   1.51857617911037TCGA-W6-AA0S-01A-11R-A41I-07\n",
       ":   1.22748659000814TCGA-ZU-A8S4-01A-11R-A41I-07\n",
       ":   0.994501789393608\n",
       "\n"
      ],
      "text/plain": [
       "TCGA-ZH-A8Y6-01A-11R-A41I-07 TCGA-W5-AA2Z-01A-11R-A41I-07 \n",
       "                  -0.8848754                    0.5182354 \n",
       "TCGA-3X-AAV9-01A-72R-A41I-07 TCGA-W6-AA0S-01A-11R-A41I-07 \n",
       "                   1.5185762                    1.2274866 \n",
       "TCGA-ZU-A8S4-01A-11R-A41I-07 \n",
       "                   0.9945018 "
      ]
     },
     "metadata": {},
     "output_type": "display_data"
    }
   ],
   "source": [
    "#calculate mat (ssGSEA Z score - ssgsea output for comparative analysis)\n",
    "mat = (res - rowMeans(res))/(rowSds(as.matrix(res)))[row(res)]\n",
    "dim(mat)\n",
    "mat[1,1:5] "
   ]
  },
  {
   "cell_type": "markdown",
   "metadata": {},
   "source": [
    "#### at this point now have a score for each patient with how enriched that sample is for my signature, the ID here is the \"barcode\"\n",
    "* next want to see how this score correlates with survival etc"
   ]
  },
  {
   "cell_type": "code",
   "execution_count": 17,
   "metadata": {
    "vscode": {
     "languageId": "r"
    }
   },
   "outputs": [
    {
     "data": {
      "text/html": [
       "<style>\n",
       ".list-inline {list-style: none; margin:0; padding: 0}\n",
       ".list-inline>li {display: inline-block}\n",
       ".list-inline>li:not(:last-child)::after {content: \"\\00b7\"; padding: 0 .5ex}\n",
       "</style>\n",
       "<ol class=list-inline><li>'barcode'</li><li>'patient'</li><li>'sample'</li><li>'shortLetterCode'</li><li>'definition'</li><li>'sample_submitter_id'</li><li>'sample_type_id'</li><li>'tumor_descriptor'</li><li>'sample_id'</li><li>'sample_type'</li><li>'days_to_collection'</li><li>'state'</li><li>'initial_weight'</li><li>'preservation_method'</li><li>'pathology_report_uuid'</li><li>'submitter_id'</li><li>'oct_embedded'</li><li>'specimen_type'</li><li>'is_ffpe'</li><li>'tissue_type'</li><li>'synchronous_malignancy'</li><li>'ajcc_pathologic_stage'</li><li>'days_to_diagnosis'</li><li>'treatments'</li><li>'last_known_disease_status'</li><li>'tissue_or_organ_of_origin'</li><li>'days_to_last_follow_up'</li><li>'age_at_diagnosis'</li><li>'primary_diagnosis'</li><li>'prior_malignancy'</li><li>'year_of_diagnosis'</li><li>'prior_treatment'</li><li>'ajcc_staging_system_edition'</li><li>'ajcc_pathologic_t'</li><li>'morphology'</li><li>'ajcc_pathologic_n'</li><li>'ajcc_pathologic_m'</li><li>'classification_of_tumor'</li><li>'diagnosis_id'</li><li>'icd_10_code'</li><li>'site_of_resection_or_biopsy'</li><li>'tumor_grade'</li><li>'progression_or_recurrence'</li><li>'alcohol_history'</li><li>'exposure_id'</li><li>'race'</li><li>'gender'</li><li>'ethnicity'</li><li>'vital_status'</li><li>'age_at_index'</li><li>'days_to_birth'</li><li>'year_of_birth'</li><li>'demographic_id'</li><li>'year_of_death'</li><li>'days_to_death'</li><li>'bcr_patient_barcode'</li><li>'primary_site'</li><li>'project_id'</li><li>'disease_type'</li><li>'name'</li><li>'releasable'</li><li>'released'</li><li>'paper_patient'</li><li>'paper_Sample Type'</li><li>'paper_Copy Number Analysis (Broad)'</li><li>'paper_UNC (Auman)\\r\\nRNA-seq'</li><li>'paper_Methylation (Rhie)'</li><li>'paper_miRNA analysis (Robertson)'</li><li>'paper_Exome/Mutation Analysis (Gingras)'</li><li>'paper_RPPA (MDACC)'</li><li>'paper_mRNA-seq Clusters'</li><li>'paper_TumorMap CHOL/PAAD/LIHC Assignments'</li><li>'paper_CLUE COCs new'</li><li>'paper_mRNA-seq Clusters__1'</li><li>'paper_DNA copy Clusters'</li><li>'paper_Methylation Clusters'</li><li>'paper_miRNA Clusters NMF'</li><li>'paper_lncRNA'</li><li>'paper_HBV Status - British Columbia'</li><li>'paper_HBV Status (RPM&gt;=1.0) - Broad'</li><li>'paper_RPPA Clusters'</li><li>'paper_mutation signature (Gingras)'</li><li>'paper_DNA mutations total'</li><li>'paper_DNA mutation total, coding only'</li><li>'paper_nonsynonymous'</li><li>'paper_FGFR2 fusion'</li><li>'paper_IDH1 hotspot'</li><li>'paper_IDH2 hotspot'</li><li>'paper_ARID1A LOF'</li><li>'paper_BAP1 LOF/mis'</li><li>'paper_PBRM1 LOF/mis'</li><li>'paper_ARID1B LOF/mis'</li><li>'paper_KRAS hotspot'</li><li>'paper_BRAF hotspot'</li><li>'paper_ARAF hotspot'</li><li>'paper_TP53 hotspot/mis'</li><li>'paper_PTEN LOF'</li><li>'paper_PIK3CA hotspot'</li><li>'paper_LKB1 LOF'</li><li>'paper_ALB LOF/hotspot'</li><li>'paper_TERT promoter'</li><li>'paper_ELF3'</li><li>'paper_CDKN2A Del/mis'</li><li>'paper_CDKN2A Del/mis__1'</li><li>'paper_CCND1 Amp'</li><li>'paper_CDK4 Amp'</li><li>'paper_SAV1 Del'</li><li>'paper_QKI Del'</li><li>'paper_percent leukocyte estimated from methylation'</li><li>'paper_DNA hypermethylation frequency'</li><li>'paper_Immune Score'</li><li>'paper_Proliferation Score'</li><li>'paper_IDH Score'</li><li>'paper_FGFR2 Score'</li><li>'paper_Liver Score'</li><li>'paper_Thor sig poor'</li><li>'paper_Mitochondrial Score'</li><li>'paper_Chromatin Modifier Score'</li><li>'paper_MTCorr'</li><li>'paper_Purity'</li><li>'paper_Call_failure_reason'</li><li>'paper_Ploidy'</li><li>'paper_Genome_Doublings'</li><li>'paper_Coverage_for_80_percent_power'</li><li>'paper_Cancer_DNA_fraction'</li><li>'paper_Subclonal_genome_fraction'</li><li>'paper_Country'</li><li>'paper_race'</li><li>'paper_gender'</li><li>'paper_age_at_diagnosis'</li><li>'paper_X__2'</li><li>'paper_histologic subtype'</li><li>'paper_tumor_grade'</li><li>'paper_residual_tumor'</li><li>'paper_ajcc_tumor_pathologic_pt'</li><li>'paper_ajcc_nodes_pathologic_pn'</li><li>'paper_ajcc_metastasis_pathologic_pm'</li><li>'paper_ajcc_pathologic_tumor_stage'</li><li>'paper_Yes=1; No=0'</li><li>'paper_AFP'</li><li>'paper_CA 19-9'</li><li>'paper_total bilirubin'</li><li>'paper_Fibrosis'</li><li>'paper_PNI'</li><li>'paper_Vascular Invasion'</li><li>'paper_adjuvant therapy'</li><li>'paper_vital_status'</li><li>'paper_hist_hepato_carc_fact'</li><li>'paper_new_tumor_event_after_initial_treatment'</li><li>'paper_days to death or last contact'</li><li>'paper_DIFFERENTIATION'</li><li><span style=white-space:pre-wrap>'paper_PERCENT GLAND FORMATION  (rounded to nearest 10%)'</span></li><li>'paper_SUBTYPE (select one)'</li><li>'paper_INFILTRATION OF TUMOR GLANDS BY INFLAMMATION'</li><li>'paper_Lymphocytic - indicate severity'</li><li>'paper_Neutrophilic - indicate severity'</li><li>'paper_Fibrous tissue'</li><li>'paper_TUMOR NECROSIS (fraction of tumor showing confluent necrosis)'</li><li>'paper_PERINEURAL INVASION'</li><li>'paper_LYMPHOVASCULAR INVASION'</li><li>'paper_1p_CHOL_del'</li><li>'paper_1q_CHOL_amp'</li><li>'paper_3p_CHOL_del'</li><li>'paper_4q_CHOL_del'</li><li>'paper_5p_CHOL_amp'</li><li>'paper_6p_CHOL_amp'</li><li>'paper_6q_CHOL_del'</li><li>'paper_8p_CHOL_del'</li><li>'paper_8q_CHOL_amp'</li><li>'paper_9p_CHOL_del'</li><li>'paper_9q_CHOL_del'</li><li>'paper_10p_CHOL_amp'</li><li>'paper_11p_CHOL_del'</li><li>'paper_11q_CHOL_del'</li><li>'paper_13_CHOL_del'</li><li>'paper_14_CHOL_del'</li><li>'paper_17p_CHOL_del'</li><li>'paper_17q_CHOL_amp'</li><li>'paper_18q_CHOL_del'</li><li>'paper_20q_CHOL_amp'</li><li>'paper_21_CHOL_del'</li><li>'paper_22_CHOL_del'</li><li>'paper_22_CHOL_amp'</li><li>'paper_1'</li><li>'paper_2'</li><li>'paper_3'</li><li>'paper_4'</li><li>'paper_5'</li><li>'paper_6'</li><li>'paper_7'</li><li>'paper_8'</li><li>'paper_9'</li><li>'paper_10'</li><li>'paper_11'</li><li>'paper_12'</li><li>'paper_13'</li><li>'paper_14'</li><li>'paper_15'</li><li>'paper_16'</li><li>'paper_17'</li><li>'paper_18'</li><li>'paper_19'</li><li>'paper_20'</li><li>'paper_21'</li></ol>\n"
      ],
      "text/latex": [
       "\\begin{enumerate*}\n",
       "\\item 'barcode'\n",
       "\\item 'patient'\n",
       "\\item 'sample'\n",
       "\\item 'shortLetterCode'\n",
       "\\item 'definition'\n",
       "\\item 'sample\\_submitter\\_id'\n",
       "\\item 'sample\\_type\\_id'\n",
       "\\item 'tumor\\_descriptor'\n",
       "\\item 'sample\\_id'\n",
       "\\item 'sample\\_type'\n",
       "\\item 'days\\_to\\_collection'\n",
       "\\item 'state'\n",
       "\\item 'initial\\_weight'\n",
       "\\item 'preservation\\_method'\n",
       "\\item 'pathology\\_report\\_uuid'\n",
       "\\item 'submitter\\_id'\n",
       "\\item 'oct\\_embedded'\n",
       "\\item 'specimen\\_type'\n",
       "\\item 'is\\_ffpe'\n",
       "\\item 'tissue\\_type'\n",
       "\\item 'synchronous\\_malignancy'\n",
       "\\item 'ajcc\\_pathologic\\_stage'\n",
       "\\item 'days\\_to\\_diagnosis'\n",
       "\\item 'treatments'\n",
       "\\item 'last\\_known\\_disease\\_status'\n",
       "\\item 'tissue\\_or\\_organ\\_of\\_origin'\n",
       "\\item 'days\\_to\\_last\\_follow\\_up'\n",
       "\\item 'age\\_at\\_diagnosis'\n",
       "\\item 'primary\\_diagnosis'\n",
       "\\item 'prior\\_malignancy'\n",
       "\\item 'year\\_of\\_diagnosis'\n",
       "\\item 'prior\\_treatment'\n",
       "\\item 'ajcc\\_staging\\_system\\_edition'\n",
       "\\item 'ajcc\\_pathologic\\_t'\n",
       "\\item 'morphology'\n",
       "\\item 'ajcc\\_pathologic\\_n'\n",
       "\\item 'ajcc\\_pathologic\\_m'\n",
       "\\item 'classification\\_of\\_tumor'\n",
       "\\item 'diagnosis\\_id'\n",
       "\\item 'icd\\_10\\_code'\n",
       "\\item 'site\\_of\\_resection\\_or\\_biopsy'\n",
       "\\item 'tumor\\_grade'\n",
       "\\item 'progression\\_or\\_recurrence'\n",
       "\\item 'alcohol\\_history'\n",
       "\\item 'exposure\\_id'\n",
       "\\item 'race'\n",
       "\\item 'gender'\n",
       "\\item 'ethnicity'\n",
       "\\item 'vital\\_status'\n",
       "\\item 'age\\_at\\_index'\n",
       "\\item 'days\\_to\\_birth'\n",
       "\\item 'year\\_of\\_birth'\n",
       "\\item 'demographic\\_id'\n",
       "\\item 'year\\_of\\_death'\n",
       "\\item 'days\\_to\\_death'\n",
       "\\item 'bcr\\_patient\\_barcode'\n",
       "\\item 'primary\\_site'\n",
       "\\item 'project\\_id'\n",
       "\\item 'disease\\_type'\n",
       "\\item 'name'\n",
       "\\item 'releasable'\n",
       "\\item 'released'\n",
       "\\item 'paper\\_patient'\n",
       "\\item 'paper\\_Sample Type'\n",
       "\\item 'paper\\_Copy Number Analysis (Broad)'\n",
       "\\item 'paper\\_UNC (Auman)\\textbackslash{}r\\textbackslash{}nRNA-seq'\n",
       "\\item 'paper\\_Methylation (Rhie)'\n",
       "\\item 'paper\\_miRNA analysis (Robertson)'\n",
       "\\item 'paper\\_Exome/Mutation Analysis (Gingras)'\n",
       "\\item 'paper\\_RPPA (MDACC)'\n",
       "\\item 'paper\\_mRNA-seq Clusters'\n",
       "\\item 'paper\\_TumorMap CHOL/PAAD/LIHC Assignments'\n",
       "\\item 'paper\\_CLUE COCs new'\n",
       "\\item 'paper\\_mRNA-seq Clusters\\_\\_1'\n",
       "\\item 'paper\\_DNA copy Clusters'\n",
       "\\item 'paper\\_Methylation Clusters'\n",
       "\\item 'paper\\_miRNA Clusters NMF'\n",
       "\\item 'paper\\_lncRNA'\n",
       "\\item 'paper\\_HBV Status - British Columbia'\n",
       "\\item 'paper\\_HBV Status (RPM>=1.0) - Broad'\n",
       "\\item 'paper\\_RPPA Clusters'\n",
       "\\item 'paper\\_mutation signature (Gingras)'\n",
       "\\item 'paper\\_DNA mutations total'\n",
       "\\item 'paper\\_DNA mutation total, coding only'\n",
       "\\item 'paper\\_nonsynonymous'\n",
       "\\item 'paper\\_FGFR2 fusion'\n",
       "\\item 'paper\\_IDH1 hotspot'\n",
       "\\item 'paper\\_IDH2 hotspot'\n",
       "\\item 'paper\\_ARID1A LOF'\n",
       "\\item 'paper\\_BAP1 LOF/mis'\n",
       "\\item 'paper\\_PBRM1 LOF/mis'\n",
       "\\item 'paper\\_ARID1B LOF/mis'\n",
       "\\item 'paper\\_KRAS hotspot'\n",
       "\\item 'paper\\_BRAF hotspot'\n",
       "\\item 'paper\\_ARAF hotspot'\n",
       "\\item 'paper\\_TP53 hotspot/mis'\n",
       "\\item 'paper\\_PTEN LOF'\n",
       "\\item 'paper\\_PIK3CA hotspot'\n",
       "\\item 'paper\\_LKB1 LOF'\n",
       "\\item 'paper\\_ALB LOF/hotspot'\n",
       "\\item 'paper\\_TERT promoter'\n",
       "\\item 'paper\\_ELF3'\n",
       "\\item 'paper\\_CDKN2A Del/mis'\n",
       "\\item 'paper\\_CDKN2A Del/mis\\_\\_1'\n",
       "\\item 'paper\\_CCND1 Amp'\n",
       "\\item 'paper\\_CDK4 Amp'\n",
       "\\item 'paper\\_SAV1 Del'\n",
       "\\item 'paper\\_QKI Del'\n",
       "\\item 'paper\\_percent leukocyte estimated from methylation'\n",
       "\\item 'paper\\_DNA hypermethylation frequency'\n",
       "\\item 'paper\\_Immune Score'\n",
       "\\item 'paper\\_Proliferation Score'\n",
       "\\item 'paper\\_IDH Score'\n",
       "\\item 'paper\\_FGFR2 Score'\n",
       "\\item 'paper\\_Liver Score'\n",
       "\\item 'paper\\_Thor sig poor'\n",
       "\\item 'paper\\_Mitochondrial Score'\n",
       "\\item 'paper\\_Chromatin Modifier Score'\n",
       "\\item 'paper\\_MTCorr'\n",
       "\\item 'paper\\_Purity'\n",
       "\\item 'paper\\_Call\\_failure\\_reason'\n",
       "\\item 'paper\\_Ploidy'\n",
       "\\item 'paper\\_Genome\\_Doublings'\n",
       "\\item 'paper\\_Coverage\\_for\\_80\\_percent\\_power'\n",
       "\\item 'paper\\_Cancer\\_DNA\\_fraction'\n",
       "\\item 'paper\\_Subclonal\\_genome\\_fraction'\n",
       "\\item 'paper\\_Country'\n",
       "\\item 'paper\\_race'\n",
       "\\item 'paper\\_gender'\n",
       "\\item 'paper\\_age\\_at\\_diagnosis'\n",
       "\\item 'paper\\_X\\_\\_2'\n",
       "\\item 'paper\\_histologic subtype'\n",
       "\\item 'paper\\_tumor\\_grade'\n",
       "\\item 'paper\\_residual\\_tumor'\n",
       "\\item 'paper\\_ajcc\\_tumor\\_pathologic\\_pt'\n",
       "\\item 'paper\\_ajcc\\_nodes\\_pathologic\\_pn'\n",
       "\\item 'paper\\_ajcc\\_metastasis\\_pathologic\\_pm'\n",
       "\\item 'paper\\_ajcc\\_pathologic\\_tumor\\_stage'\n",
       "\\item 'paper\\_Yes=1; No=0'\n",
       "\\item 'paper\\_AFP'\n",
       "\\item 'paper\\_CA 19-9'\n",
       "\\item 'paper\\_total bilirubin'\n",
       "\\item 'paper\\_Fibrosis'\n",
       "\\item 'paper\\_PNI'\n",
       "\\item 'paper\\_Vascular Invasion'\n",
       "\\item 'paper\\_adjuvant therapy'\n",
       "\\item 'paper\\_vital\\_status'\n",
       "\\item 'paper\\_hist\\_hepato\\_carc\\_fact'\n",
       "\\item 'paper\\_new\\_tumor\\_event\\_after\\_initial\\_treatment'\n",
       "\\item 'paper\\_days to death or last contact'\n",
       "\\item 'paper\\_DIFFERENTIATION'\n",
       "\\item 'paper\\_PERCENT GLAND FORMATION  (rounded to nearest 10\\%)'\n",
       "\\item 'paper\\_SUBTYPE (select one)'\n",
       "\\item 'paper\\_INFILTRATION OF TUMOR GLANDS BY INFLAMMATION'\n",
       "\\item 'paper\\_Lymphocytic - indicate severity'\n",
       "\\item 'paper\\_Neutrophilic - indicate severity'\n",
       "\\item 'paper\\_Fibrous tissue'\n",
       "\\item 'paper\\_TUMOR NECROSIS (fraction of tumor showing confluent necrosis)'\n",
       "\\item 'paper\\_PERINEURAL INVASION'\n",
       "\\item 'paper\\_LYMPHOVASCULAR INVASION'\n",
       "\\item 'paper\\_1p\\_CHOL\\_del'\n",
       "\\item 'paper\\_1q\\_CHOL\\_amp'\n",
       "\\item 'paper\\_3p\\_CHOL\\_del'\n",
       "\\item 'paper\\_4q\\_CHOL\\_del'\n",
       "\\item 'paper\\_5p\\_CHOL\\_amp'\n",
       "\\item 'paper\\_6p\\_CHOL\\_amp'\n",
       "\\item 'paper\\_6q\\_CHOL\\_del'\n",
       "\\item 'paper\\_8p\\_CHOL\\_del'\n",
       "\\item 'paper\\_8q\\_CHOL\\_amp'\n",
       "\\item 'paper\\_9p\\_CHOL\\_del'\n",
       "\\item 'paper\\_9q\\_CHOL\\_del'\n",
       "\\item 'paper\\_10p\\_CHOL\\_amp'\n",
       "\\item 'paper\\_11p\\_CHOL\\_del'\n",
       "\\item 'paper\\_11q\\_CHOL\\_del'\n",
       "\\item 'paper\\_13\\_CHOL\\_del'\n",
       "\\item 'paper\\_14\\_CHOL\\_del'\n",
       "\\item 'paper\\_17p\\_CHOL\\_del'\n",
       "\\item 'paper\\_17q\\_CHOL\\_amp'\n",
       "\\item 'paper\\_18q\\_CHOL\\_del'\n",
       "\\item 'paper\\_20q\\_CHOL\\_amp'\n",
       "\\item 'paper\\_21\\_CHOL\\_del'\n",
       "\\item 'paper\\_22\\_CHOL\\_del'\n",
       "\\item 'paper\\_22\\_CHOL\\_amp'\n",
       "\\item 'paper\\_1'\n",
       "\\item 'paper\\_2'\n",
       "\\item 'paper\\_3'\n",
       "\\item 'paper\\_4'\n",
       "\\item 'paper\\_5'\n",
       "\\item 'paper\\_6'\n",
       "\\item 'paper\\_7'\n",
       "\\item 'paper\\_8'\n",
       "\\item 'paper\\_9'\n",
       "\\item 'paper\\_10'\n",
       "\\item 'paper\\_11'\n",
       "\\item 'paper\\_12'\n",
       "\\item 'paper\\_13'\n",
       "\\item 'paper\\_14'\n",
       "\\item 'paper\\_15'\n",
       "\\item 'paper\\_16'\n",
       "\\item 'paper\\_17'\n",
       "\\item 'paper\\_18'\n",
       "\\item 'paper\\_19'\n",
       "\\item 'paper\\_20'\n",
       "\\item 'paper\\_21'\n",
       "\\end{enumerate*}\n"
      ],
      "text/markdown": [
       "1. 'barcode'\n",
       "2. 'patient'\n",
       "3. 'sample'\n",
       "4. 'shortLetterCode'\n",
       "5. 'definition'\n",
       "6. 'sample_submitter_id'\n",
       "7. 'sample_type_id'\n",
       "8. 'tumor_descriptor'\n",
       "9. 'sample_id'\n",
       "10. 'sample_type'\n",
       "11. 'days_to_collection'\n",
       "12. 'state'\n",
       "13. 'initial_weight'\n",
       "14. 'preservation_method'\n",
       "15. 'pathology_report_uuid'\n",
       "16. 'submitter_id'\n",
       "17. 'oct_embedded'\n",
       "18. 'specimen_type'\n",
       "19. 'is_ffpe'\n",
       "20. 'tissue_type'\n",
       "21. 'synchronous_malignancy'\n",
       "22. 'ajcc_pathologic_stage'\n",
       "23. 'days_to_diagnosis'\n",
       "24. 'treatments'\n",
       "25. 'last_known_disease_status'\n",
       "26. 'tissue_or_organ_of_origin'\n",
       "27. 'days_to_last_follow_up'\n",
       "28. 'age_at_diagnosis'\n",
       "29. 'primary_diagnosis'\n",
       "30. 'prior_malignancy'\n",
       "31. 'year_of_diagnosis'\n",
       "32. 'prior_treatment'\n",
       "33. 'ajcc_staging_system_edition'\n",
       "34. 'ajcc_pathologic_t'\n",
       "35. 'morphology'\n",
       "36. 'ajcc_pathologic_n'\n",
       "37. 'ajcc_pathologic_m'\n",
       "38. 'classification_of_tumor'\n",
       "39. 'diagnosis_id'\n",
       "40. 'icd_10_code'\n",
       "41. 'site_of_resection_or_biopsy'\n",
       "42. 'tumor_grade'\n",
       "43. 'progression_or_recurrence'\n",
       "44. 'alcohol_history'\n",
       "45. 'exposure_id'\n",
       "46. 'race'\n",
       "47. 'gender'\n",
       "48. 'ethnicity'\n",
       "49. 'vital_status'\n",
       "50. 'age_at_index'\n",
       "51. 'days_to_birth'\n",
       "52. 'year_of_birth'\n",
       "53. 'demographic_id'\n",
       "54. 'year_of_death'\n",
       "55. 'days_to_death'\n",
       "56. 'bcr_patient_barcode'\n",
       "57. 'primary_site'\n",
       "58. 'project_id'\n",
       "59. 'disease_type'\n",
       "60. 'name'\n",
       "61. 'releasable'\n",
       "62. 'released'\n",
       "63. 'paper_patient'\n",
       "64. 'paper_Sample Type'\n",
       "65. 'paper_Copy Number Analysis (Broad)'\n",
       "66. 'paper_UNC (Auman)\\r\\nRNA-seq'\n",
       "67. 'paper_Methylation (Rhie)'\n",
       "68. 'paper_miRNA analysis (Robertson)'\n",
       "69. 'paper_Exome/Mutation Analysis (Gingras)'\n",
       "70. 'paper_RPPA (MDACC)'\n",
       "71. 'paper_mRNA-seq Clusters'\n",
       "72. 'paper_TumorMap CHOL/PAAD/LIHC Assignments'\n",
       "73. 'paper_CLUE COCs new'\n",
       "74. 'paper_mRNA-seq Clusters__1'\n",
       "75. 'paper_DNA copy Clusters'\n",
       "76. 'paper_Methylation Clusters'\n",
       "77. 'paper_miRNA Clusters NMF'\n",
       "78. 'paper_lncRNA'\n",
       "79. 'paper_HBV Status - British Columbia'\n",
       "80. 'paper_HBV Status (RPM&gt;=1.0) - Broad'\n",
       "81. 'paper_RPPA Clusters'\n",
       "82. 'paper_mutation signature (Gingras)'\n",
       "83. 'paper_DNA mutations total'\n",
       "84. 'paper_DNA mutation total, coding only'\n",
       "85. 'paper_nonsynonymous'\n",
       "86. 'paper_FGFR2 fusion'\n",
       "87. 'paper_IDH1 hotspot'\n",
       "88. 'paper_IDH2 hotspot'\n",
       "89. 'paper_ARID1A LOF'\n",
       "90. 'paper_BAP1 LOF/mis'\n",
       "91. 'paper_PBRM1 LOF/mis'\n",
       "92. 'paper_ARID1B LOF/mis'\n",
       "93. 'paper_KRAS hotspot'\n",
       "94. 'paper_BRAF hotspot'\n",
       "95. 'paper_ARAF hotspot'\n",
       "96. 'paper_TP53 hotspot/mis'\n",
       "97. 'paper_PTEN LOF'\n",
       "98. 'paper_PIK3CA hotspot'\n",
       "99. 'paper_LKB1 LOF'\n",
       "100. 'paper_ALB LOF/hotspot'\n",
       "101. 'paper_TERT promoter'\n",
       "102. 'paper_ELF3'\n",
       "103. 'paper_CDKN2A Del/mis'\n",
       "104. 'paper_CDKN2A Del/mis__1'\n",
       "105. 'paper_CCND1 Amp'\n",
       "106. 'paper_CDK4 Amp'\n",
       "107. 'paper_SAV1 Del'\n",
       "108. 'paper_QKI Del'\n",
       "109. 'paper_percent leukocyte estimated from methylation'\n",
       "110. 'paper_DNA hypermethylation frequency'\n",
       "111. 'paper_Immune Score'\n",
       "112. 'paper_Proliferation Score'\n",
       "113. 'paper_IDH Score'\n",
       "114. 'paper_FGFR2 Score'\n",
       "115. 'paper_Liver Score'\n",
       "116. 'paper_Thor sig poor'\n",
       "117. 'paper_Mitochondrial Score'\n",
       "118. 'paper_Chromatin Modifier Score'\n",
       "119. 'paper_MTCorr'\n",
       "120. 'paper_Purity'\n",
       "121. 'paper_Call_failure_reason'\n",
       "122. 'paper_Ploidy'\n",
       "123. 'paper_Genome_Doublings'\n",
       "124. 'paper_Coverage_for_80_percent_power'\n",
       "125. 'paper_Cancer_DNA_fraction'\n",
       "126. 'paper_Subclonal_genome_fraction'\n",
       "127. 'paper_Country'\n",
       "128. 'paper_race'\n",
       "129. 'paper_gender'\n",
       "130. 'paper_age_at_diagnosis'\n",
       "131. 'paper_X__2'\n",
       "132. 'paper_histologic subtype'\n",
       "133. 'paper_tumor_grade'\n",
       "134. 'paper_residual_tumor'\n",
       "135. 'paper_ajcc_tumor_pathologic_pt'\n",
       "136. 'paper_ajcc_nodes_pathologic_pn'\n",
       "137. 'paper_ajcc_metastasis_pathologic_pm'\n",
       "138. 'paper_ajcc_pathologic_tumor_stage'\n",
       "139. 'paper_Yes=1; No=0'\n",
       "140. 'paper_AFP'\n",
       "141. 'paper_CA 19-9'\n",
       "142. 'paper_total bilirubin'\n",
       "143. 'paper_Fibrosis'\n",
       "144. 'paper_PNI'\n",
       "145. 'paper_Vascular Invasion'\n",
       "146. 'paper_adjuvant therapy'\n",
       "147. 'paper_vital_status'\n",
       "148. 'paper_hist_hepato_carc_fact'\n",
       "149. 'paper_new_tumor_event_after_initial_treatment'\n",
       "150. 'paper_days to death or last contact'\n",
       "151. 'paper_DIFFERENTIATION'\n",
       "152. <span style=white-space:pre-wrap>'paper_PERCENT GLAND FORMATION  (rounded to nearest 10%)'</span>\n",
       "153. 'paper_SUBTYPE (select one)'\n",
       "154. 'paper_INFILTRATION OF TUMOR GLANDS BY INFLAMMATION'\n",
       "155. 'paper_Lymphocytic - indicate severity'\n",
       "156. 'paper_Neutrophilic - indicate severity'\n",
       "157. 'paper_Fibrous tissue'\n",
       "158. 'paper_TUMOR NECROSIS (fraction of tumor showing confluent necrosis)'\n",
       "159. 'paper_PERINEURAL INVASION'\n",
       "160. 'paper_LYMPHOVASCULAR INVASION'\n",
       "161. 'paper_1p_CHOL_del'\n",
       "162. 'paper_1q_CHOL_amp'\n",
       "163. 'paper_3p_CHOL_del'\n",
       "164. 'paper_4q_CHOL_del'\n",
       "165. 'paper_5p_CHOL_amp'\n",
       "166. 'paper_6p_CHOL_amp'\n",
       "167. 'paper_6q_CHOL_del'\n",
       "168. 'paper_8p_CHOL_del'\n",
       "169. 'paper_8q_CHOL_amp'\n",
       "170. 'paper_9p_CHOL_del'\n",
       "171. 'paper_9q_CHOL_del'\n",
       "172. 'paper_10p_CHOL_amp'\n",
       "173. 'paper_11p_CHOL_del'\n",
       "174. 'paper_11q_CHOL_del'\n",
       "175. 'paper_13_CHOL_del'\n",
       "176. 'paper_14_CHOL_del'\n",
       "177. 'paper_17p_CHOL_del'\n",
       "178. 'paper_17q_CHOL_amp'\n",
       "179. 'paper_18q_CHOL_del'\n",
       "180. 'paper_20q_CHOL_amp'\n",
       "181. 'paper_21_CHOL_del'\n",
       "182. 'paper_22_CHOL_del'\n",
       "183. 'paper_22_CHOL_amp'\n",
       "184. 'paper_1'\n",
       "185. 'paper_2'\n",
       "186. 'paper_3'\n",
       "187. 'paper_4'\n",
       "188. 'paper_5'\n",
       "189. 'paper_6'\n",
       "190. 'paper_7'\n",
       "191. 'paper_8'\n",
       "192. 'paper_9'\n",
       "193. 'paper_10'\n",
       "194. 'paper_11'\n",
       "195. 'paper_12'\n",
       "196. 'paper_13'\n",
       "197. 'paper_14'\n",
       "198. 'paper_15'\n",
       "199. 'paper_16'\n",
       "200. 'paper_17'\n",
       "201. 'paper_18'\n",
       "202. 'paper_19'\n",
       "203. 'paper_20'\n",
       "204. 'paper_21'\n",
       "\n",
       "\n"
      ],
      "text/plain": [
       "  [1] \"barcode\"                                                            \n",
       "  [2] \"patient\"                                                            \n",
       "  [3] \"sample\"                                                             \n",
       "  [4] \"shortLetterCode\"                                                    \n",
       "  [5] \"definition\"                                                         \n",
       "  [6] \"sample_submitter_id\"                                                \n",
       "  [7] \"sample_type_id\"                                                     \n",
       "  [8] \"tumor_descriptor\"                                                   \n",
       "  [9] \"sample_id\"                                                          \n",
       " [10] \"sample_type\"                                                        \n",
       " [11] \"days_to_collection\"                                                 \n",
       " [12] \"state\"                                                              \n",
       " [13] \"initial_weight\"                                                     \n",
       " [14] \"preservation_method\"                                                \n",
       " [15] \"pathology_report_uuid\"                                              \n",
       " [16] \"submitter_id\"                                                       \n",
       " [17] \"oct_embedded\"                                                       \n",
       " [18] \"specimen_type\"                                                      \n",
       " [19] \"is_ffpe\"                                                            \n",
       " [20] \"tissue_type\"                                                        \n",
       " [21] \"synchronous_malignancy\"                                             \n",
       " [22] \"ajcc_pathologic_stage\"                                              \n",
       " [23] \"days_to_diagnosis\"                                                  \n",
       " [24] \"treatments\"                                                         \n",
       " [25] \"last_known_disease_status\"                                          \n",
       " [26] \"tissue_or_organ_of_origin\"                                          \n",
       " [27] \"days_to_last_follow_up\"                                             \n",
       " [28] \"age_at_diagnosis\"                                                   \n",
       " [29] \"primary_diagnosis\"                                                  \n",
       " [30] \"prior_malignancy\"                                                   \n",
       " [31] \"year_of_diagnosis\"                                                  \n",
       " [32] \"prior_treatment\"                                                    \n",
       " [33] \"ajcc_staging_system_edition\"                                        \n",
       " [34] \"ajcc_pathologic_t\"                                                  \n",
       " [35] \"morphology\"                                                         \n",
       " [36] \"ajcc_pathologic_n\"                                                  \n",
       " [37] \"ajcc_pathologic_m\"                                                  \n",
       " [38] \"classification_of_tumor\"                                            \n",
       " [39] \"diagnosis_id\"                                                       \n",
       " [40] \"icd_10_code\"                                                        \n",
       " [41] \"site_of_resection_or_biopsy\"                                        \n",
       " [42] \"tumor_grade\"                                                        \n",
       " [43] \"progression_or_recurrence\"                                          \n",
       " [44] \"alcohol_history\"                                                    \n",
       " [45] \"exposure_id\"                                                        \n",
       " [46] \"race\"                                                               \n",
       " [47] \"gender\"                                                             \n",
       " [48] \"ethnicity\"                                                          \n",
       " [49] \"vital_status\"                                                       \n",
       " [50] \"age_at_index\"                                                       \n",
       " [51] \"days_to_birth\"                                                      \n",
       " [52] \"year_of_birth\"                                                      \n",
       " [53] \"demographic_id\"                                                     \n",
       " [54] \"year_of_death\"                                                      \n",
       " [55] \"days_to_death\"                                                      \n",
       " [56] \"bcr_patient_barcode\"                                                \n",
       " [57] \"primary_site\"                                                       \n",
       " [58] \"project_id\"                                                         \n",
       " [59] \"disease_type\"                                                       \n",
       " [60] \"name\"                                                               \n",
       " [61] \"releasable\"                                                         \n",
       " [62] \"released\"                                                           \n",
       " [63] \"paper_patient\"                                                      \n",
       " [64] \"paper_Sample Type\"                                                  \n",
       " [65] \"paper_Copy Number Analysis (Broad)\"                                 \n",
       " [66] \"paper_UNC (Auman)\\r\\nRNA-seq\"                                       \n",
       " [67] \"paper_Methylation (Rhie)\"                                           \n",
       " [68] \"paper_miRNA analysis (Robertson)\"                                   \n",
       " [69] \"paper_Exome/Mutation Analysis (Gingras)\"                            \n",
       " [70] \"paper_RPPA (MDACC)\"                                                 \n",
       " [71] \"paper_mRNA-seq Clusters\"                                            \n",
       " [72] \"paper_TumorMap CHOL/PAAD/LIHC Assignments\"                          \n",
       " [73] \"paper_CLUE COCs new\"                                                \n",
       " [74] \"paper_mRNA-seq Clusters__1\"                                         \n",
       " [75] \"paper_DNA copy Clusters\"                                            \n",
       " [76] \"paper_Methylation Clusters\"                                         \n",
       " [77] \"paper_miRNA Clusters NMF\"                                           \n",
       " [78] \"paper_lncRNA\"                                                       \n",
       " [79] \"paper_HBV Status - British Columbia\"                                \n",
       " [80] \"paper_HBV Status (RPM>=1.0) - Broad\"                                \n",
       " [81] \"paper_RPPA Clusters\"                                                \n",
       " [82] \"paper_mutation signature (Gingras)\"                                 \n",
       " [83] \"paper_DNA mutations total\"                                          \n",
       " [84] \"paper_DNA mutation total, coding only\"                              \n",
       " [85] \"paper_nonsynonymous\"                                                \n",
       " [86] \"paper_FGFR2 fusion\"                                                 \n",
       " [87] \"paper_IDH1 hotspot\"                                                 \n",
       " [88] \"paper_IDH2 hotspot\"                                                 \n",
       " [89] \"paper_ARID1A LOF\"                                                   \n",
       " [90] \"paper_BAP1 LOF/mis\"                                                 \n",
       " [91] \"paper_PBRM1 LOF/mis\"                                                \n",
       " [92] \"paper_ARID1B LOF/mis\"                                               \n",
       " [93] \"paper_KRAS hotspot\"                                                 \n",
       " [94] \"paper_BRAF hotspot\"                                                 \n",
       " [95] \"paper_ARAF hotspot\"                                                 \n",
       " [96] \"paper_TP53 hotspot/mis\"                                             \n",
       " [97] \"paper_PTEN LOF\"                                                     \n",
       " [98] \"paper_PIK3CA hotspot\"                                               \n",
       " [99] \"paper_LKB1 LOF\"                                                     \n",
       "[100] \"paper_ALB LOF/hotspot\"                                              \n",
       "[101] \"paper_TERT promoter\"                                                \n",
       "[102] \"paper_ELF3\"                                                         \n",
       "[103] \"paper_CDKN2A Del/mis\"                                               \n",
       "[104] \"paper_CDKN2A Del/mis__1\"                                            \n",
       "[105] \"paper_CCND1 Amp\"                                                    \n",
       "[106] \"paper_CDK4 Amp\"                                                     \n",
       "[107] \"paper_SAV1 Del\"                                                     \n",
       "[108] \"paper_QKI Del\"                                                      \n",
       "[109] \"paper_percent leukocyte estimated from methylation\"                 \n",
       "[110] \"paper_DNA hypermethylation frequency\"                               \n",
       "[111] \"paper_Immune Score\"                                                 \n",
       "[112] \"paper_Proliferation Score\"                                          \n",
       "[113] \"paper_IDH Score\"                                                    \n",
       "[114] \"paper_FGFR2 Score\"                                                  \n",
       "[115] \"paper_Liver Score\"                                                  \n",
       "[116] \"paper_Thor sig poor\"                                                \n",
       "[117] \"paper_Mitochondrial Score\"                                          \n",
       "[118] \"paper_Chromatin Modifier Score\"                                     \n",
       "[119] \"paper_MTCorr\"                                                       \n",
       "[120] \"paper_Purity\"                                                       \n",
       "[121] \"paper_Call_failure_reason\"                                          \n",
       "[122] \"paper_Ploidy\"                                                       \n",
       "[123] \"paper_Genome_Doublings\"                                             \n",
       "[124] \"paper_Coverage_for_80_percent_power\"                                \n",
       "[125] \"paper_Cancer_DNA_fraction\"                                          \n",
       "[126] \"paper_Subclonal_genome_fraction\"                                    \n",
       "[127] \"paper_Country\"                                                      \n",
       "[128] \"paper_race\"                                                         \n",
       "[129] \"paper_gender\"                                                       \n",
       "[130] \"paper_age_at_diagnosis\"                                             \n",
       "[131] \"paper_X__2\"                                                         \n",
       "[132] \"paper_histologic subtype\"                                           \n",
       "[133] \"paper_tumor_grade\"                                                  \n",
       "[134] \"paper_residual_tumor\"                                               \n",
       "[135] \"paper_ajcc_tumor_pathologic_pt\"                                     \n",
       "[136] \"paper_ajcc_nodes_pathologic_pn\"                                     \n",
       "[137] \"paper_ajcc_metastasis_pathologic_pm\"                                \n",
       "[138] \"paper_ajcc_pathologic_tumor_stage\"                                  \n",
       "[139] \"paper_Yes=1; No=0\"                                                  \n",
       "[140] \"paper_AFP\"                                                          \n",
       "[141] \"paper_CA 19-9\"                                                      \n",
       "[142] \"paper_total bilirubin\"                                              \n",
       "[143] \"paper_Fibrosis\"                                                     \n",
       "[144] \"paper_PNI\"                                                          \n",
       "[145] \"paper_Vascular Invasion\"                                            \n",
       "[146] \"paper_adjuvant therapy\"                                             \n",
       "[147] \"paper_vital_status\"                                                 \n",
       "[148] \"paper_hist_hepato_carc_fact\"                                        \n",
       "[149] \"paper_new_tumor_event_after_initial_treatment\"                      \n",
       "[150] \"paper_days to death or last contact\"                                \n",
       "[151] \"paper_DIFFERENTIATION\"                                              \n",
       "[152] \"paper_PERCENT GLAND FORMATION  (rounded to nearest 10%)\"            \n",
       "[153] \"paper_SUBTYPE (select one)\"                                         \n",
       "[154] \"paper_INFILTRATION OF TUMOR GLANDS BY INFLAMMATION\"                 \n",
       "[155] \"paper_Lymphocytic - indicate severity\"                              \n",
       "[156] \"paper_Neutrophilic - indicate severity\"                             \n",
       "[157] \"paper_Fibrous tissue\"                                               \n",
       "[158] \"paper_TUMOR NECROSIS (fraction of tumor showing confluent necrosis)\"\n",
       "[159] \"paper_PERINEURAL INVASION\"                                          \n",
       "[160] \"paper_LYMPHOVASCULAR INVASION\"                                      \n",
       "[161] \"paper_1p_CHOL_del\"                                                  \n",
       "[162] \"paper_1q_CHOL_amp\"                                                  \n",
       "[163] \"paper_3p_CHOL_del\"                                                  \n",
       "[164] \"paper_4q_CHOL_del\"                                                  \n",
       "[165] \"paper_5p_CHOL_amp\"                                                  \n",
       "[166] \"paper_6p_CHOL_amp\"                                                  \n",
       "[167] \"paper_6q_CHOL_del\"                                                  \n",
       "[168] \"paper_8p_CHOL_del\"                                                  \n",
       "[169] \"paper_8q_CHOL_amp\"                                                  \n",
       "[170] \"paper_9p_CHOL_del\"                                                  \n",
       "[171] \"paper_9q_CHOL_del\"                                                  \n",
       "[172] \"paper_10p_CHOL_amp\"                                                 \n",
       "[173] \"paper_11p_CHOL_del\"                                                 \n",
       "[174] \"paper_11q_CHOL_del\"                                                 \n",
       "[175] \"paper_13_CHOL_del\"                                                  \n",
       "[176] \"paper_14_CHOL_del\"                                                  \n",
       "[177] \"paper_17p_CHOL_del\"                                                 \n",
       "[178] \"paper_17q_CHOL_amp\"                                                 \n",
       "[179] \"paper_18q_CHOL_del\"                                                 \n",
       "[180] \"paper_20q_CHOL_amp\"                                                 \n",
       "[181] \"paper_21_CHOL_del\"                                                  \n",
       "[182] \"paper_22_CHOL_del\"                                                  \n",
       "[183] \"paper_22_CHOL_amp\"                                                  \n",
       "[184] \"paper_1\"                                                            \n",
       "[185] \"paper_2\"                                                            \n",
       "[186] \"paper_3\"                                                            \n",
       "[187] \"paper_4\"                                                            \n",
       "[188] \"paper_5\"                                                            \n",
       "[189] \"paper_6\"                                                            \n",
       "[190] \"paper_7\"                                                            \n",
       "[191] \"paper_8\"                                                            \n",
       "[192] \"paper_9\"                                                            \n",
       "[193] \"paper_10\"                                                           \n",
       "[194] \"paper_11\"                                                           \n",
       "[195] \"paper_12\"                                                           \n",
       "[196] \"paper_13\"                                                           \n",
       "[197] \"paper_14\"                                                           \n",
       "[198] \"paper_15\"                                                           \n",
       "[199] \"paper_16\"                                                           \n",
       "[200] \"paper_17\"                                                           \n",
       "[201] \"paper_18\"                                                           \n",
       "[202] \"paper_19\"                                                           \n",
       "[203] \"paper_20\"                                                           \n",
       "[204] \"paper_21\"                                                           "
      ]
     },
     "metadata": {},
     "output_type": "display_data"
    }
   ],
   "source": [
    "#to view the types of data stored for each sample \n",
    "colnames(colData(primary))"
   ]
  },
  {
   "cell_type": "code",
   "execution_count": 18,
   "metadata": {
    "vscode": {
     "languageId": "r"
    }
   },
   "outputs": [
    {
     "data": {
      "text/html": [
       "<style>\n",
       ".list-inline {list-style: none; margin:0; padding: 0}\n",
       ".list-inline>li {display: inline-block}\n",
       ".list-inline>li:not(:last-child)::after {content: \"\\00b7\"; padding: 0 .5ex}\n",
       "</style>\n",
       "<ol class=list-inline><li>35</li><li>1</li></ol>\n"
      ],
      "text/latex": [
       "\\begin{enumerate*}\n",
       "\\item 35\n",
       "\\item 1\n",
       "\\end{enumerate*}\n"
      ],
      "text/markdown": [
       "1. 35\n",
       "2. 1\n",
       "\n",
       "\n"
      ],
      "text/plain": [
       "[1] 35  1"
      ]
     },
     "metadata": {},
     "output_type": "display_data"
    },
    {
     "data": {
      "text/html": [
       "<table class=\"dataframe\">\n",
       "<caption>A matrix: 6 × 1 of type dbl</caption>\n",
       "<thead>\n",
       "\t<tr><th></th><th scope=col>mat</th></tr>\n",
       "</thead>\n",
       "<tbody>\n",
       "\t<tr><th scope=row>TCGA-ZH-A8Y6-01A-11R-A41I-07</th><td>-0.8848754</td></tr>\n",
       "\t<tr><th scope=row>TCGA-W5-AA2Z-01A-11R-A41I-07</th><td> 0.5182354</td></tr>\n",
       "\t<tr><th scope=row>TCGA-3X-AAV9-01A-72R-A41I-07</th><td> 1.5185762</td></tr>\n",
       "\t<tr><th scope=row>TCGA-W6-AA0S-01A-11R-A41I-07</th><td> 1.2274866</td></tr>\n",
       "\t<tr><th scope=row>TCGA-ZU-A8S4-01A-11R-A41I-07</th><td> 0.9945018</td></tr>\n",
       "\t<tr><th scope=row>TCGA-4G-AAZO-01A-12R-A41I-07</th><td>-0.1206586</td></tr>\n",
       "</tbody>\n",
       "</table>\n"
      ],
      "text/latex": [
       "A matrix: 6 × 1 of type dbl\n",
       "\\begin{tabular}{r|l}\n",
       "  & mat\\\\\n",
       "\\hline\n",
       "\tTCGA-ZH-A8Y6-01A-11R-A41I-07 & -0.8848754\\\\\n",
       "\tTCGA-W5-AA2Z-01A-11R-A41I-07 &  0.5182354\\\\\n",
       "\tTCGA-3X-AAV9-01A-72R-A41I-07 &  1.5185762\\\\\n",
       "\tTCGA-W6-AA0S-01A-11R-A41I-07 &  1.2274866\\\\\n",
       "\tTCGA-ZU-A8S4-01A-11R-A41I-07 &  0.9945018\\\\\n",
       "\tTCGA-4G-AAZO-01A-12R-A41I-07 & -0.1206586\\\\\n",
       "\\end{tabular}\n"
      ],
      "text/markdown": [
       "\n",
       "A matrix: 6 × 1 of type dbl\n",
       "\n",
       "| <!--/--> | mat |\n",
       "|---|---|\n",
       "| TCGA-ZH-A8Y6-01A-11R-A41I-07 | -0.8848754 |\n",
       "| TCGA-W5-AA2Z-01A-11R-A41I-07 |  0.5182354 |\n",
       "| TCGA-3X-AAV9-01A-72R-A41I-07 |  1.5185762 |\n",
       "| TCGA-W6-AA0S-01A-11R-A41I-07 |  1.2274866 |\n",
       "| TCGA-ZU-A8S4-01A-11R-A41I-07 |  0.9945018 |\n",
       "| TCGA-4G-AAZO-01A-12R-A41I-07 | -0.1206586 |\n",
       "\n"
      ],
      "text/plain": [
       "                             mat       \n",
       "TCGA-ZH-A8Y6-01A-11R-A41I-07 -0.8848754\n",
       "TCGA-W5-AA2Z-01A-11R-A41I-07  0.5182354\n",
       "TCGA-3X-AAV9-01A-72R-A41I-07  1.5185762\n",
       "TCGA-W6-AA0S-01A-11R-A41I-07  1.2274866\n",
       "TCGA-ZU-A8S4-01A-11R-A41I-07  0.9945018\n",
       "TCGA-4G-AAZO-01A-12R-A41I-07 -0.1206586"
      ]
     },
     "metadata": {},
     "output_type": "display_data"
    }
   ],
   "source": [
    "#change column name\n",
    "mat <- t(mat)\n",
    "dim(mat)\n",
    "colnames(mat) <- c(\"mat\")\n",
    "head(mat)"
   ]
  },
  {
   "cell_type": "code",
   "execution_count": 19,
   "metadata": {
    "vscode": {
     "languageId": "r"
    }
   },
   "outputs": [
    {
     "data": {
      "text/html": [
       "<table class=\"dataframe\">\n",
       "<caption>A matrix: 6 × 4 of type chr</caption>\n",
       "<thead>\n",
       "\t<tr><th></th><th scope=col>mat</th><th scope=col>Days_to_last_follow_up</th><th scope=col>vital_status</th><th scope=col>days_to_death</th></tr>\n",
       "</thead>\n",
       "<tbody>\n",
       "\t<tr><th scope=row>TCGA-ZH-A8Y6-01A-11R-A41I-07</th><td>-0.884875407741134</td><td>519 </td><td>Alive</td><td>NA </td></tr>\n",
       "\t<tr><th scope=row>TCGA-W5-AA2Z-01A-11R-A41I-07</th><td>0.518235388299025 </td><td>1614</td><td>Alive</td><td>NA </td></tr>\n",
       "\t<tr><th scope=row>TCGA-3X-AAV9-01A-72R-A41I-07</th><td>1.51857617911037  </td><td>NA  </td><td>Dead </td><td>339</td></tr>\n",
       "\t<tr><th scope=row>TCGA-W6-AA0S-01A-11R-A41I-07</th><td>1.22748659000814  </td><td>808 </td><td>Alive</td><td>NA </td></tr>\n",
       "\t<tr><th scope=row>TCGA-ZU-A8S4-01A-11R-A41I-07</th><td>0.994501789393608 </td><td>NA  </td><td>Dead </td><td>98 </td></tr>\n",
       "\t<tr><th scope=row>TCGA-4G-AAZO-01A-12R-A41I-07</th><td>-0.120658635796308</td><td>1177</td><td>Alive</td><td>NA </td></tr>\n",
       "</tbody>\n",
       "</table>\n"
      ],
      "text/latex": [
       "A matrix: 6 × 4 of type chr\n",
       "\\begin{tabular}{r|llll}\n",
       "  & mat & Days\\_to\\_last\\_follow\\_up & vital\\_status & days\\_to\\_death\\\\\n",
       "\\hline\n",
       "\tTCGA-ZH-A8Y6-01A-11R-A41I-07 & -0.884875407741134 & 519  & Alive & NA \\\\\n",
       "\tTCGA-W5-AA2Z-01A-11R-A41I-07 & 0.518235388299025  & 1614 & Alive & NA \\\\\n",
       "\tTCGA-3X-AAV9-01A-72R-A41I-07 & 1.51857617911037   & NA   & Dead  & 339\\\\\n",
       "\tTCGA-W6-AA0S-01A-11R-A41I-07 & 1.22748659000814   & 808  & Alive & NA \\\\\n",
       "\tTCGA-ZU-A8S4-01A-11R-A41I-07 & 0.994501789393608  & NA   & Dead  & 98 \\\\\n",
       "\tTCGA-4G-AAZO-01A-12R-A41I-07 & -0.120658635796308 & 1177 & Alive & NA \\\\\n",
       "\\end{tabular}\n"
      ],
      "text/markdown": [
       "\n",
       "A matrix: 6 × 4 of type chr\n",
       "\n",
       "| <!--/--> | mat | Days_to_last_follow_up | vital_status | days_to_death |\n",
       "|---|---|---|---|---|\n",
       "| TCGA-ZH-A8Y6-01A-11R-A41I-07 | -0.884875407741134 | 519  | Alive | NA  |\n",
       "| TCGA-W5-AA2Z-01A-11R-A41I-07 | 0.518235388299025  | 1614 | Alive | NA  |\n",
       "| TCGA-3X-AAV9-01A-72R-A41I-07 | 1.51857617911037   | NA   | Dead  | 339 |\n",
       "| TCGA-W6-AA0S-01A-11R-A41I-07 | 1.22748659000814   | 808  | Alive | NA  |\n",
       "| TCGA-ZU-A8S4-01A-11R-A41I-07 | 0.994501789393608  | NA   | Dead  | 98  |\n",
       "| TCGA-4G-AAZO-01A-12R-A41I-07 | -0.120658635796308 | 1177 | Alive | NA  |\n",
       "\n"
      ],
      "text/plain": [
       "                             mat                Days_to_last_follow_up\n",
       "TCGA-ZH-A8Y6-01A-11R-A41I-07 -0.884875407741134 519                   \n",
       "TCGA-W5-AA2Z-01A-11R-A41I-07 0.518235388299025  1614                  \n",
       "TCGA-3X-AAV9-01A-72R-A41I-07 1.51857617911037   NA                    \n",
       "TCGA-W6-AA0S-01A-11R-A41I-07 1.22748659000814   808                   \n",
       "TCGA-ZU-A8S4-01A-11R-A41I-07 0.994501789393608  NA                    \n",
       "TCGA-4G-AAZO-01A-12R-A41I-07 -0.120658635796308 1177                  \n",
       "                             vital_status days_to_death\n",
       "TCGA-ZH-A8Y6-01A-11R-A41I-07 Alive        NA           \n",
       "TCGA-W5-AA2Z-01A-11R-A41I-07 Alive        NA           \n",
       "TCGA-3X-AAV9-01A-72R-A41I-07 Dead         339          \n",
       "TCGA-W6-AA0S-01A-11R-A41I-07 Alive        NA           \n",
       "TCGA-ZU-A8S4-01A-11R-A41I-07 Dead         98           \n",
       "TCGA-4G-AAZO-01A-12R-A41I-07 Alive        NA           "
      ]
     },
     "metadata": {},
     "output_type": "display_data"
    }
   ],
   "source": [
    "#now look at days to death, plot K-M curved grouped by groups of mat score \n",
    "###following this tutorial: https://www.youtube.com/watch?v=DnygUTAZFmM\n",
    "\n",
    "#making a matrix with all the data I need\n",
    "death_days <- colData(primary)$days_to_death\n",
    "names(death_days) <- row.names(colData(primary))\n",
    "followup_days <- colData(primary)$days_to_last_follow_up\n",
    "names(followup_days) <- row.names(colData(primary))\n",
    "status <- colData(primary)$vital_status\n",
    "names(status) <- row.names(colData(primary))\n",
    "\n",
    "concat_survival <- cbind(mat,followup_days,status,death_days)\n",
    "colnames(concat_survival) <- c(\"mat\",\"Days_to_last_follow_up\",\"vital_status\",\"days_to_death\")\n",
    "head(concat_survival) \n",
    "concat_survival <- as.data.frame(concat_survival)\n",
    "#now I have a table with the above variables for each patient"
   ]
  },
  {
   "cell_type": "code",
   "execution_count": 20,
   "metadata": {
    "vscode": {
     "languageId": "r"
    }
   },
   "outputs": [
    {
     "data": {
      "text/html": [
       "<table class=\"dataframe\">\n",
       "<caption>A data.frame: 6 × 5</caption>\n",
       "<thead>\n",
       "\t<tr><th></th><th scope=col>mat</th><th scope=col>Days_to_last_follow_up</th><th scope=col>vital_status</th><th scope=col>days_to_death</th><th scope=col>deceased</th></tr>\n",
       "\t<tr><th></th><th scope=col>&lt;chr&gt;</th><th scope=col>&lt;chr&gt;</th><th scope=col>&lt;chr&gt;</th><th scope=col>&lt;chr&gt;</th><th scope=col>&lt;lgl&gt;</th></tr>\n",
       "</thead>\n",
       "<tbody>\n",
       "\t<tr><th scope=row>TCGA-ZH-A8Y6-01A-11R-A41I-07</th><td>-0.884875407741134</td><td>519 </td><td>Alive</td><td>NA </td><td>FALSE</td></tr>\n",
       "\t<tr><th scope=row>TCGA-W5-AA2Z-01A-11R-A41I-07</th><td>0.518235388299025 </td><td>1614</td><td>Alive</td><td>NA </td><td>FALSE</td></tr>\n",
       "\t<tr><th scope=row>TCGA-3X-AAV9-01A-72R-A41I-07</th><td>1.51857617911037  </td><td>NA  </td><td>Dead </td><td>339</td><td> TRUE</td></tr>\n",
       "\t<tr><th scope=row>TCGA-W6-AA0S-01A-11R-A41I-07</th><td>1.22748659000814  </td><td>808 </td><td>Alive</td><td>NA </td><td>FALSE</td></tr>\n",
       "\t<tr><th scope=row>TCGA-ZU-A8S4-01A-11R-A41I-07</th><td>0.994501789393608 </td><td>NA  </td><td>Dead </td><td>98 </td><td> TRUE</td></tr>\n",
       "\t<tr><th scope=row>TCGA-4G-AAZO-01A-12R-A41I-07</th><td>-0.120658635796308</td><td>1177</td><td>Alive</td><td>NA </td><td>FALSE</td></tr>\n",
       "</tbody>\n",
       "</table>\n"
      ],
      "text/latex": [
       "A data.frame: 6 × 5\n",
       "\\begin{tabular}{r|lllll}\n",
       "  & mat & Days\\_to\\_last\\_follow\\_up & vital\\_status & days\\_to\\_death & deceased\\\\\n",
       "  & <chr> & <chr> & <chr> & <chr> & <lgl>\\\\\n",
       "\\hline\n",
       "\tTCGA-ZH-A8Y6-01A-11R-A41I-07 & -0.884875407741134 & 519  & Alive & NA  & FALSE\\\\\n",
       "\tTCGA-W5-AA2Z-01A-11R-A41I-07 & 0.518235388299025  & 1614 & Alive & NA  & FALSE\\\\\n",
       "\tTCGA-3X-AAV9-01A-72R-A41I-07 & 1.51857617911037   & NA   & Dead  & 339 &  TRUE\\\\\n",
       "\tTCGA-W6-AA0S-01A-11R-A41I-07 & 1.22748659000814   & 808  & Alive & NA  & FALSE\\\\\n",
       "\tTCGA-ZU-A8S4-01A-11R-A41I-07 & 0.994501789393608  & NA   & Dead  & 98  &  TRUE\\\\\n",
       "\tTCGA-4G-AAZO-01A-12R-A41I-07 & -0.120658635796308 & 1177 & Alive & NA  & FALSE\\\\\n",
       "\\end{tabular}\n"
      ],
      "text/markdown": [
       "\n",
       "A data.frame: 6 × 5\n",
       "\n",
       "| <!--/--> | mat &lt;chr&gt; | Days_to_last_follow_up &lt;chr&gt; | vital_status &lt;chr&gt; | days_to_death &lt;chr&gt; | deceased &lt;lgl&gt; |\n",
       "|---|---|---|---|---|---|\n",
       "| TCGA-ZH-A8Y6-01A-11R-A41I-07 | -0.884875407741134 | 519  | Alive | NA  | FALSE |\n",
       "| TCGA-W5-AA2Z-01A-11R-A41I-07 | 0.518235388299025  | 1614 | Alive | NA  | FALSE |\n",
       "| TCGA-3X-AAV9-01A-72R-A41I-07 | 1.51857617911037   | NA   | Dead  | 339 |  TRUE |\n",
       "| TCGA-W6-AA0S-01A-11R-A41I-07 | 1.22748659000814   | 808  | Alive | NA  | FALSE |\n",
       "| TCGA-ZU-A8S4-01A-11R-A41I-07 | 0.994501789393608  | NA   | Dead  | 98  |  TRUE |\n",
       "| TCGA-4G-AAZO-01A-12R-A41I-07 | -0.120658635796308 | 1177 | Alive | NA  | FALSE |\n",
       "\n"
      ],
      "text/plain": [
       "                             mat                Days_to_last_follow_up\n",
       "TCGA-ZH-A8Y6-01A-11R-A41I-07 -0.884875407741134 519                   \n",
       "TCGA-W5-AA2Z-01A-11R-A41I-07 0.518235388299025  1614                  \n",
       "TCGA-3X-AAV9-01A-72R-A41I-07 1.51857617911037   NA                    \n",
       "TCGA-W6-AA0S-01A-11R-A41I-07 1.22748659000814   808                   \n",
       "TCGA-ZU-A8S4-01A-11R-A41I-07 0.994501789393608  NA                    \n",
       "TCGA-4G-AAZO-01A-12R-A41I-07 -0.120658635796308 1177                  \n",
       "                             vital_status days_to_death deceased\n",
       "TCGA-ZH-A8Y6-01A-11R-A41I-07 Alive        NA            FALSE   \n",
       "TCGA-W5-AA2Z-01A-11R-A41I-07 Alive        NA            FALSE   \n",
       "TCGA-3X-AAV9-01A-72R-A41I-07 Dead         339            TRUE   \n",
       "TCGA-W6-AA0S-01A-11R-A41I-07 Alive        NA            FALSE   \n",
       "TCGA-ZU-A8S4-01A-11R-A41I-07 Dead         98             TRUE   \n",
       "TCGA-4G-AAZO-01A-12R-A41I-07 Alive        NA            FALSE   "
      ]
     },
     "metadata": {},
     "output_type": "display_data"
    }
   ],
   "source": [
    "#make a new column that records whether or not deceased, this will be needed for status in survival anakysis (for censoring)\n",
    "concat_survival$deceased <- ifelse(concat_survival$vital_status == \"Alive\", FALSE, TRUE)\n",
    "head(concat_survival)"
   ]
  },
  {
   "cell_type": "code",
   "execution_count": 21,
   "metadata": {
    "vscode": {
     "languageId": "r"
    }
   },
   "outputs": [
    {
     "data": {
      "text/html": [
       "<table class=\"dataframe\">\n",
       "<caption>A data.frame: 6 × 6</caption>\n",
       "<thead>\n",
       "\t<tr><th></th><th scope=col>mat</th><th scope=col>Days_to_last_follow_up</th><th scope=col>vital_status</th><th scope=col>days_to_death</th><th scope=col>deceased</th><th scope=col>overall_survival</th></tr>\n",
       "\t<tr><th></th><th scope=col>&lt;chr&gt;</th><th scope=col>&lt;chr&gt;</th><th scope=col>&lt;chr&gt;</th><th scope=col>&lt;chr&gt;</th><th scope=col>&lt;lgl&gt;</th><th scope=col>&lt;dbl&gt;</th></tr>\n",
       "</thead>\n",
       "<tbody>\n",
       "\t<tr><th scope=row>TCGA-ZH-A8Y6-01A-11R-A41I-07</th><td>-0.884875407741134</td><td>519 </td><td>Alive</td><td>NA </td><td>FALSE</td><td> 519</td></tr>\n",
       "\t<tr><th scope=row>TCGA-W5-AA2Z-01A-11R-A41I-07</th><td>0.518235388299025 </td><td>1614</td><td>Alive</td><td>NA </td><td>FALSE</td><td>1614</td></tr>\n",
       "\t<tr><th scope=row>TCGA-3X-AAV9-01A-72R-A41I-07</th><td>1.51857617911037  </td><td>NA  </td><td>Dead </td><td>339</td><td> TRUE</td><td> 339</td></tr>\n",
       "\t<tr><th scope=row>TCGA-W6-AA0S-01A-11R-A41I-07</th><td>1.22748659000814  </td><td>808 </td><td>Alive</td><td>NA </td><td>FALSE</td><td> 808</td></tr>\n",
       "\t<tr><th scope=row>TCGA-ZU-A8S4-01A-11R-A41I-07</th><td>0.994501789393608 </td><td>NA  </td><td>Dead </td><td>98 </td><td> TRUE</td><td>  98</td></tr>\n",
       "\t<tr><th scope=row>TCGA-4G-AAZO-01A-12R-A41I-07</th><td>-0.120658635796308</td><td>1177</td><td>Alive</td><td>NA </td><td>FALSE</td><td>1177</td></tr>\n",
       "</tbody>\n",
       "</table>\n"
      ],
      "text/latex": [
       "A data.frame: 6 × 6\n",
       "\\begin{tabular}{r|llllll}\n",
       "  & mat & Days\\_to\\_last\\_follow\\_up & vital\\_status & days\\_to\\_death & deceased & overall\\_survival\\\\\n",
       "  & <chr> & <chr> & <chr> & <chr> & <lgl> & <dbl>\\\\\n",
       "\\hline\n",
       "\tTCGA-ZH-A8Y6-01A-11R-A41I-07 & -0.884875407741134 & 519  & Alive & NA  & FALSE &  519\\\\\n",
       "\tTCGA-W5-AA2Z-01A-11R-A41I-07 & 0.518235388299025  & 1614 & Alive & NA  & FALSE & 1614\\\\\n",
       "\tTCGA-3X-AAV9-01A-72R-A41I-07 & 1.51857617911037   & NA   & Dead  & 339 &  TRUE &  339\\\\\n",
       "\tTCGA-W6-AA0S-01A-11R-A41I-07 & 1.22748659000814   & 808  & Alive & NA  & FALSE &  808\\\\\n",
       "\tTCGA-ZU-A8S4-01A-11R-A41I-07 & 0.994501789393608  & NA   & Dead  & 98  &  TRUE &   98\\\\\n",
       "\tTCGA-4G-AAZO-01A-12R-A41I-07 & -0.120658635796308 & 1177 & Alive & NA  & FALSE & 1177\\\\\n",
       "\\end{tabular}\n"
      ],
      "text/markdown": [
       "\n",
       "A data.frame: 6 × 6\n",
       "\n",
       "| <!--/--> | mat &lt;chr&gt; | Days_to_last_follow_up &lt;chr&gt; | vital_status &lt;chr&gt; | days_to_death &lt;chr&gt; | deceased &lt;lgl&gt; | overall_survival &lt;dbl&gt; |\n",
       "|---|---|---|---|---|---|---|\n",
       "| TCGA-ZH-A8Y6-01A-11R-A41I-07 | -0.884875407741134 | 519  | Alive | NA  | FALSE |  519 |\n",
       "| TCGA-W5-AA2Z-01A-11R-A41I-07 | 0.518235388299025  | 1614 | Alive | NA  | FALSE | 1614 |\n",
       "| TCGA-3X-AAV9-01A-72R-A41I-07 | 1.51857617911037   | NA   | Dead  | 339 |  TRUE |  339 |\n",
       "| TCGA-W6-AA0S-01A-11R-A41I-07 | 1.22748659000814   | 808  | Alive | NA  | FALSE |  808 |\n",
       "| TCGA-ZU-A8S4-01A-11R-A41I-07 | 0.994501789393608  | NA   | Dead  | 98  |  TRUE |   98 |\n",
       "| TCGA-4G-AAZO-01A-12R-A41I-07 | -0.120658635796308 | 1177 | Alive | NA  | FALSE | 1177 |\n",
       "\n"
      ],
      "text/plain": [
       "                             mat                Days_to_last_follow_up\n",
       "TCGA-ZH-A8Y6-01A-11R-A41I-07 -0.884875407741134 519                   \n",
       "TCGA-W5-AA2Z-01A-11R-A41I-07 0.518235388299025  1614                  \n",
       "TCGA-3X-AAV9-01A-72R-A41I-07 1.51857617911037   NA                    \n",
       "TCGA-W6-AA0S-01A-11R-A41I-07 1.22748659000814   808                   \n",
       "TCGA-ZU-A8S4-01A-11R-A41I-07 0.994501789393608  NA                    \n",
       "TCGA-4G-AAZO-01A-12R-A41I-07 -0.120658635796308 1177                  \n",
       "                             vital_status days_to_death deceased\n",
       "TCGA-ZH-A8Y6-01A-11R-A41I-07 Alive        NA            FALSE   \n",
       "TCGA-W5-AA2Z-01A-11R-A41I-07 Alive        NA            FALSE   \n",
       "TCGA-3X-AAV9-01A-72R-A41I-07 Dead         339            TRUE   \n",
       "TCGA-W6-AA0S-01A-11R-A41I-07 Alive        NA            FALSE   \n",
       "TCGA-ZU-A8S4-01A-11R-A41I-07 Dead         98             TRUE   \n",
       "TCGA-4G-AAZO-01A-12R-A41I-07 Alive        NA            FALSE   \n",
       "                             overall_survival\n",
       "TCGA-ZH-A8Y6-01A-11R-A41I-07  519            \n",
       "TCGA-W5-AA2Z-01A-11R-A41I-07 1614            \n",
       "TCGA-3X-AAV9-01A-72R-A41I-07  339            \n",
       "TCGA-W6-AA0S-01A-11R-A41I-07  808            \n",
       "TCGA-ZU-A8S4-01A-11R-A41I-07   98            \n",
       "TCGA-4G-AAZO-01A-12R-A41I-07 1177            "
      ]
     },
     "metadata": {},
     "output_type": "display_data"
    }
   ],
   "source": [
    "#next need to make a \"overall survival\" column that is equal to days to death for dead patients and to days to last follow up for patients who are still alive \n",
    "concat_survival$overall_survival <- ifelse(concat_survival$vital_status == \"Alive\",\n",
    "                                           concat_survival$Days_to_last_follow_up,\n",
    "                                           concat_survival$days_to_death)\n",
    "\n",
    "#convert overall_survival to numeric\n",
    "concat_survival$overall_survival <- as.numeric(concat_survival$overall_survival)\n",
    "\n",
    "head(concat_survival)"
   ]
  },
  {
   "cell_type": "code",
   "execution_count": 22,
   "metadata": {
    "vscode": {
     "languageId": "r"
    }
   },
   "outputs": [
    {
     "name": "stderr",
     "output_type": "stream",
     "text": [
      "Loading required package: ggplot2\n",
      "\n",
      "Loading required package: ggpubr\n",
      "\n",
      "\n",
      "Attaching package: ‘survminer’\n",
      "\n",
      "\n",
      "The following object is masked from ‘package:survival’:\n",
      "\n",
      "    myeloma\n",
      "\n",
      "\n"
     ]
    }
   ],
   "source": [
    "# load packages needed for survival analysis\n",
    "library(survival)\n",
    "library(survminer)"
   ]
  },
  {
   "cell_type": "code",
   "execution_count": 23,
   "metadata": {
    "vscode": {
     "languageId": "r"
    }
   },
   "outputs": [
    {
     "data": {
      "text/html": [
       "<table class=\"dataframe\">\n",
       "<caption>A data.frame: 6 × 7</caption>\n",
       "<thead>\n",
       "\t<tr><th></th><th scope=col>mat</th><th scope=col>Days_to_last_follow_up</th><th scope=col>vital_status</th><th scope=col>days_to_death</th><th scope=col>deceased</th><th scope=col>overall_survival</th><th scope=col>strata</th></tr>\n",
       "\t<tr><th></th><th scope=col>&lt;chr&gt;</th><th scope=col>&lt;chr&gt;</th><th scope=col>&lt;chr&gt;</th><th scope=col>&lt;chr&gt;</th><th scope=col>&lt;lgl&gt;</th><th scope=col>&lt;dbl&gt;</th><th scope=col>&lt;chr&gt;</th></tr>\n",
       "</thead>\n",
       "<tbody>\n",
       "\t<tr><th scope=row>TCGA-ZH-A8Y6-01A-11R-A41I-07</th><td>-0.884875407741134</td><td>519 </td><td>Alive</td><td>NA </td><td>FALSE</td><td> 519</td><td>Middle    </td></tr>\n",
       "\t<tr><th scope=row>TCGA-W5-AA2Z-01A-11R-A41I-07</th><td>0.518235388299025 </td><td>1614</td><td>Alive</td><td>NA </td><td>FALSE</td><td>1614</td><td>Middle    </td></tr>\n",
       "\t<tr><th scope=row>TCGA-3X-AAV9-01A-72R-A41I-07</th><td>1.51857617911037  </td><td>NA  </td><td>Dead </td><td>339</td><td> TRUE</td><td> 339</td><td>Top 33%   </td></tr>\n",
       "\t<tr><th scope=row>TCGA-W6-AA0S-01A-11R-A41I-07</th><td>1.22748659000814  </td><td>808 </td><td>Alive</td><td>NA </td><td>FALSE</td><td> 808</td><td>Top 33%   </td></tr>\n",
       "\t<tr><th scope=row>TCGA-ZU-A8S4-01A-11R-A41I-07</th><td>0.994501789393608 </td><td>NA  </td><td>Dead </td><td>98 </td><td> TRUE</td><td>  98</td><td>Top 33%   </td></tr>\n",
       "\t<tr><th scope=row>TCGA-4G-AAZO-01A-12R-A41I-07</th><td>-0.120658635796308</td><td>1177</td><td>Alive</td><td>NA </td><td>FALSE</td><td>1177</td><td>Bottom 33%</td></tr>\n",
       "</tbody>\n",
       "</table>\n"
      ],
      "text/latex": [
       "A data.frame: 6 × 7\n",
       "\\begin{tabular}{r|lllllll}\n",
       "  & mat & Days\\_to\\_last\\_follow\\_up & vital\\_status & days\\_to\\_death & deceased & overall\\_survival & strata\\\\\n",
       "  & <chr> & <chr> & <chr> & <chr> & <lgl> & <dbl> & <chr>\\\\\n",
       "\\hline\n",
       "\tTCGA-ZH-A8Y6-01A-11R-A41I-07 & -0.884875407741134 & 519  & Alive & NA  & FALSE &  519 & Middle    \\\\\n",
       "\tTCGA-W5-AA2Z-01A-11R-A41I-07 & 0.518235388299025  & 1614 & Alive & NA  & FALSE & 1614 & Middle    \\\\\n",
       "\tTCGA-3X-AAV9-01A-72R-A41I-07 & 1.51857617911037   & NA   & Dead  & 339 &  TRUE &  339 & Top 33\\%   \\\\\n",
       "\tTCGA-W6-AA0S-01A-11R-A41I-07 & 1.22748659000814   & 808  & Alive & NA  & FALSE &  808 & Top 33\\%   \\\\\n",
       "\tTCGA-ZU-A8S4-01A-11R-A41I-07 & 0.994501789393608  & NA   & Dead  & 98  &  TRUE &   98 & Top 33\\%   \\\\\n",
       "\tTCGA-4G-AAZO-01A-12R-A41I-07 & -0.120658635796308 & 1177 & Alive & NA  & FALSE & 1177 & Bottom 33\\%\\\\\n",
       "\\end{tabular}\n"
      ],
      "text/markdown": [
       "\n",
       "A data.frame: 6 × 7\n",
       "\n",
       "| <!--/--> | mat &lt;chr&gt; | Days_to_last_follow_up &lt;chr&gt; | vital_status &lt;chr&gt; | days_to_death &lt;chr&gt; | deceased &lt;lgl&gt; | overall_survival &lt;dbl&gt; | strata &lt;chr&gt; |\n",
       "|---|---|---|---|---|---|---|---|\n",
       "| TCGA-ZH-A8Y6-01A-11R-A41I-07 | -0.884875407741134 | 519  | Alive | NA  | FALSE |  519 | Middle     |\n",
       "| TCGA-W5-AA2Z-01A-11R-A41I-07 | 0.518235388299025  | 1614 | Alive | NA  | FALSE | 1614 | Middle     |\n",
       "| TCGA-3X-AAV9-01A-72R-A41I-07 | 1.51857617911037   | NA   | Dead  | 339 |  TRUE |  339 | Top 33%    |\n",
       "| TCGA-W6-AA0S-01A-11R-A41I-07 | 1.22748659000814   | 808  | Alive | NA  | FALSE |  808 | Top 33%    |\n",
       "| TCGA-ZU-A8S4-01A-11R-A41I-07 | 0.994501789393608  | NA   | Dead  | 98  |  TRUE |   98 | Top 33%    |\n",
       "| TCGA-4G-AAZO-01A-12R-A41I-07 | -0.120658635796308 | 1177 | Alive | NA  | FALSE | 1177 | Bottom 33% |\n",
       "\n"
      ],
      "text/plain": [
       "                             mat                Days_to_last_follow_up\n",
       "TCGA-ZH-A8Y6-01A-11R-A41I-07 -0.884875407741134 519                   \n",
       "TCGA-W5-AA2Z-01A-11R-A41I-07 0.518235388299025  1614                  \n",
       "TCGA-3X-AAV9-01A-72R-A41I-07 1.51857617911037   NA                    \n",
       "TCGA-W6-AA0S-01A-11R-A41I-07 1.22748659000814   808                   \n",
       "TCGA-ZU-A8S4-01A-11R-A41I-07 0.994501789393608  NA                    \n",
       "TCGA-4G-AAZO-01A-12R-A41I-07 -0.120658635796308 1177                  \n",
       "                             vital_status days_to_death deceased\n",
       "TCGA-ZH-A8Y6-01A-11R-A41I-07 Alive        NA            FALSE   \n",
       "TCGA-W5-AA2Z-01A-11R-A41I-07 Alive        NA            FALSE   \n",
       "TCGA-3X-AAV9-01A-72R-A41I-07 Dead         339            TRUE   \n",
       "TCGA-W6-AA0S-01A-11R-A41I-07 Alive        NA            FALSE   \n",
       "TCGA-ZU-A8S4-01A-11R-A41I-07 Dead         98             TRUE   \n",
       "TCGA-4G-AAZO-01A-12R-A41I-07 Alive        NA            FALSE   \n",
       "                             overall_survival strata    \n",
       "TCGA-ZH-A8Y6-01A-11R-A41I-07  519             Middle    \n",
       "TCGA-W5-AA2Z-01A-11R-A41I-07 1614             Middle    \n",
       "TCGA-3X-AAV9-01A-72R-A41I-07  339             Top 33%   \n",
       "TCGA-W6-AA0S-01A-11R-A41I-07  808             Top 33%   \n",
       "TCGA-ZU-A8S4-01A-11R-A41I-07   98             Top 33%   \n",
       "TCGA-4G-AAZO-01A-12R-A41I-07 1177             Bottom 33%"
      ]
     },
     "metadata": {},
     "output_type": "display_data"
    }
   ],
   "source": [
    "#fitting survival curve - prepare data: \n",
    "\n",
    "# for my analysis I wanted to plot top vs bottom third on my KM plot, but could also split 50/50 if you wanted\n",
    "# make variable for either top 33% or bottom 33% mat score\n",
    "#calculate 66th percentile (above this is top 33%) and 33rd percentile (below this is bottom 33%)\n",
    "perc_66 <- quantile(mat, probs = c(0.66))\n",
    "perc_33 <- quantile(mat, probs = c(0.33))\n",
    "\n",
    "concat_survival_Full <- concat_survival\n",
    "concat_survival_Full$strata <- ifelse(concat_survival_Full$mat < perc_33, \"Bottom 33%\",\n",
    "                                  ifelse(concat_survival_Full$mat >perc_66, \"Top 33%\", \"Middle\"))\n",
    "\n",
    "head(concat_survival_Full)"
   ]
  },
  {
   "cell_type": "code",
   "execution_count": 24,
   "metadata": {
    "vscode": {
     "languageId": "r"
    }
   },
   "outputs": [
    {
     "data": {
      "text/html": [
       "<table class=\"dataframe\">\n",
       "<caption>A data.frame: 6 × 7</caption>\n",
       "<thead>\n",
       "\t<tr><th></th><th scope=col>mat</th><th scope=col>Days_to_last_follow_up</th><th scope=col>vital_status</th><th scope=col>days_to_death</th><th scope=col>deceased</th><th scope=col>overall_survival</th><th scope=col>strata</th></tr>\n",
       "\t<tr><th></th><th scope=col>&lt;chr&gt;</th><th scope=col>&lt;chr&gt;</th><th scope=col>&lt;chr&gt;</th><th scope=col>&lt;chr&gt;</th><th scope=col>&lt;lgl&gt;</th><th scope=col>&lt;dbl&gt;</th><th scope=col>&lt;chr&gt;</th></tr>\n",
       "</thead>\n",
       "<tbody>\n",
       "\t<tr><th scope=row>TCGA-3X-AAV9-01A-72R-A41I-07</th><td>1.51857617911037  </td><td>NA  </td><td>Dead </td><td>339</td><td> TRUE</td><td> 339</td><td>Top 33%   </td></tr>\n",
       "\t<tr><th scope=row>TCGA-W6-AA0S-01A-11R-A41I-07</th><td>1.22748659000814  </td><td>808 </td><td>Alive</td><td>NA </td><td>FALSE</td><td> 808</td><td>Top 33%   </td></tr>\n",
       "\t<tr><th scope=row>TCGA-ZU-A8S4-01A-11R-A41I-07</th><td>0.994501789393608 </td><td>NA  </td><td>Dead </td><td>98 </td><td> TRUE</td><td>  98</td><td>Top 33%   </td></tr>\n",
       "\t<tr><th scope=row>TCGA-4G-AAZO-01A-12R-A41I-07</th><td>-0.120658635796308</td><td>1177</td><td>Alive</td><td>NA </td><td>FALSE</td><td>1177</td><td>Bottom 33%</td></tr>\n",
       "\t<tr><th scope=row>TCGA-W5-AA33-01A-11R-A41I-07</th><td>0.908078259210865 </td><td>1449</td><td>Alive</td><td>NA </td><td>FALSE</td><td>1449</td><td>Top 33%   </td></tr>\n",
       "\t<tr><th scope=row>TCGA-WD-A7RX-01A-12R-A41I-07</th><td>0.786930253669341 </td><td>NA  </td><td>Dead </td><td>21 </td><td> TRUE</td><td>  21</td><td>Top 33%   </td></tr>\n",
       "</tbody>\n",
       "</table>\n"
      ],
      "text/latex": [
       "A data.frame: 6 × 7\n",
       "\\begin{tabular}{r|lllllll}\n",
       "  & mat & Days\\_to\\_last\\_follow\\_up & vital\\_status & days\\_to\\_death & deceased & overall\\_survival & strata\\\\\n",
       "  & <chr> & <chr> & <chr> & <chr> & <lgl> & <dbl> & <chr>\\\\\n",
       "\\hline\n",
       "\tTCGA-3X-AAV9-01A-72R-A41I-07 & 1.51857617911037   & NA   & Dead  & 339 &  TRUE &  339 & Top 33\\%   \\\\\n",
       "\tTCGA-W6-AA0S-01A-11R-A41I-07 & 1.22748659000814   & 808  & Alive & NA  & FALSE &  808 & Top 33\\%   \\\\\n",
       "\tTCGA-ZU-A8S4-01A-11R-A41I-07 & 0.994501789393608  & NA   & Dead  & 98  &  TRUE &   98 & Top 33\\%   \\\\\n",
       "\tTCGA-4G-AAZO-01A-12R-A41I-07 & -0.120658635796308 & 1177 & Alive & NA  & FALSE & 1177 & Bottom 33\\%\\\\\n",
       "\tTCGA-W5-AA33-01A-11R-A41I-07 & 0.908078259210865  & 1449 & Alive & NA  & FALSE & 1449 & Top 33\\%   \\\\\n",
       "\tTCGA-WD-A7RX-01A-12R-A41I-07 & 0.786930253669341  & NA   & Dead  & 21  &  TRUE &   21 & Top 33\\%   \\\\\n",
       "\\end{tabular}\n"
      ],
      "text/markdown": [
       "\n",
       "A data.frame: 6 × 7\n",
       "\n",
       "| <!--/--> | mat &lt;chr&gt; | Days_to_last_follow_up &lt;chr&gt; | vital_status &lt;chr&gt; | days_to_death &lt;chr&gt; | deceased &lt;lgl&gt; | overall_survival &lt;dbl&gt; | strata &lt;chr&gt; |\n",
       "|---|---|---|---|---|---|---|---|\n",
       "| TCGA-3X-AAV9-01A-72R-A41I-07 | 1.51857617911037   | NA   | Dead  | 339 |  TRUE |  339 | Top 33%    |\n",
       "| TCGA-W6-AA0S-01A-11R-A41I-07 | 1.22748659000814   | 808  | Alive | NA  | FALSE |  808 | Top 33%    |\n",
       "| TCGA-ZU-A8S4-01A-11R-A41I-07 | 0.994501789393608  | NA   | Dead  | 98  |  TRUE |   98 | Top 33%    |\n",
       "| TCGA-4G-AAZO-01A-12R-A41I-07 | -0.120658635796308 | 1177 | Alive | NA  | FALSE | 1177 | Bottom 33% |\n",
       "| TCGA-W5-AA33-01A-11R-A41I-07 | 0.908078259210865  | 1449 | Alive | NA  | FALSE | 1449 | Top 33%    |\n",
       "| TCGA-WD-A7RX-01A-12R-A41I-07 | 0.786930253669341  | NA   | Dead  | 21  |  TRUE |   21 | Top 33%    |\n",
       "\n"
      ],
      "text/plain": [
       "                             mat                Days_to_last_follow_up\n",
       "TCGA-3X-AAV9-01A-72R-A41I-07 1.51857617911037   NA                    \n",
       "TCGA-W6-AA0S-01A-11R-A41I-07 1.22748659000814   808                   \n",
       "TCGA-ZU-A8S4-01A-11R-A41I-07 0.994501789393608  NA                    \n",
       "TCGA-4G-AAZO-01A-12R-A41I-07 -0.120658635796308 1177                  \n",
       "TCGA-W5-AA33-01A-11R-A41I-07 0.908078259210865  1449                  \n",
       "TCGA-WD-A7RX-01A-12R-A41I-07 0.786930253669341  NA                    \n",
       "                             vital_status days_to_death deceased\n",
       "TCGA-3X-AAV9-01A-72R-A41I-07 Dead         339            TRUE   \n",
       "TCGA-W6-AA0S-01A-11R-A41I-07 Alive        NA            FALSE   \n",
       "TCGA-ZU-A8S4-01A-11R-A41I-07 Dead         98             TRUE   \n",
       "TCGA-4G-AAZO-01A-12R-A41I-07 Alive        NA            FALSE   \n",
       "TCGA-W5-AA33-01A-11R-A41I-07 Alive        NA            FALSE   \n",
       "TCGA-WD-A7RX-01A-12R-A41I-07 Dead         21             TRUE   \n",
       "                             overall_survival strata    \n",
       "TCGA-3X-AAV9-01A-72R-A41I-07  339             Top 33%   \n",
       "TCGA-W6-AA0S-01A-11R-A41I-07  808             Top 33%   \n",
       "TCGA-ZU-A8S4-01A-11R-A41I-07   98             Top 33%   \n",
       "TCGA-4G-AAZO-01A-12R-A41I-07 1177             Bottom 33%\n",
       "TCGA-W5-AA33-01A-11R-A41I-07 1449             Top 33%   \n",
       "TCGA-WD-A7RX-01A-12R-A41I-07   21             Top 33%   "
      ]
     },
     "metadata": {},
     "output_type": "display_data"
    }
   ],
   "source": [
    "#need to remove middle strata from plot\n",
    "concat_survival_Full <- concat_survival_Full %>% filter(strata %in% c(\"Top 33%\", \"Bottom 33%\"))\n",
    "head(concat_survival_Full)"
   ]
  },
  {
   "cell_type": "code",
   "execution_count": 25,
   "metadata": {
    "vscode": {
     "languageId": "r"
    }
   },
   "outputs": [
    {
     "data": {
      "text/plain": [
       "Call: survfit(formula = Surv(overall_survival, deceased) ~ strata, \n",
       "    data = concat_survival_Full)\n",
       "\n",
       "                   n events median 0.95LCL 0.95UCL\n",
       "strata=Bottom 33%  4      3    832     445      NA\n",
       "strata=Top 33%    12      5     NA     385      NA"
      ]
     },
     "metadata": {},
     "output_type": "display_data"
    }
   ],
   "source": [
    "#Fit survival curve\n",
    "fit <- survfit(Surv(overall_survival, deceased) ~ strata, data = concat_survival_Full)\n",
    "fit"
   ]
  },
  {
   "cell_type": "code",
   "execution_count": 26,
   "metadata": {
    "vscode": {
     "languageId": "r"
    }
   },
   "outputs": [
    {
     "data": {
      "image/png": "[encoded data removed]",
      "text/plain": [
       "plot without title"
      ]
     },
     "metadata": {
      "image/png": {
       "height": 360,
       "width": 480
      }
     },
     "output_type": "display_data"
    }
   ],
   "source": [
    "#generate survival plot\n",
    "options(repr.plot.height=6, repr.plot.width=8)\n",
    "ggsurvplot(fit,\n",
    "           data = concat_survival_Full,\n",
    "           pval = T,\n",
    "           risk.table = T,\n",
    "           conf.int = TRUE)"
   ]
  }
 ],
 "metadata": {
  "kernelspec": {
   "display_name": "R",
   "language": "R",
   "name": "ir"
  },
  "language_info": {
   "codemirror_mode": "r",
   "file_extension": ".r",
   "mimetype": "text/x-r-source",
   "name": "R",
   "pygments_lexer": "r",
   "version": "4.3.3"
  }
 },
 "nbformat": 4,
 "nbformat_minor": 2
}
