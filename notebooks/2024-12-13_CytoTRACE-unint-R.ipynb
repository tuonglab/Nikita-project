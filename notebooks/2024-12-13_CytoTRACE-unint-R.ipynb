{
 "cells": [
  {
   "cell_type": "markdown",
   "metadata": {},
   "source": [
    "# CytoTRACE in R on unintegrated (raw) data"
   ]
  },
  {
   "cell_type": "code",
   "execution_count": 1,
   "metadata": {
    "vscode": {
     "languageId": "r"
    }
   },
   "outputs": [
    {
     "data": {
      "text/html": [
       "'/scratch/user/s4436039/Nikita-project'"
      ],
      "text/latex": [
       "'/scratch/user/s4436039/Nikita-project'"
      ],
      "text/markdown": [
       "'/scratch/user/s4436039/Nikita-project'"
      ],
      "text/plain": [
       "[1] \"/scratch/user/s4436039/Nikita-project\""
      ]
     },
     "metadata": {},
     "output_type": "display_data"
    },
    {
     "data": {
      "text/html": [
       "'/scratch/user/s4436039/scdata/CytoTRACE_R'"
      ],
      "text/latex": [
       "'/scratch/user/s4436039/scdata/CytoTRACE\\_R'"
      ],
      "text/markdown": [
       "'/scratch/user/s4436039/scdata/CytoTRACE_R'"
      ],
      "text/plain": [
       "[1] \"/scratch/user/s4436039/scdata/CytoTRACE_R\""
      ]
     },
     "metadata": {},
     "output_type": "display_data"
    }
   ],
   "source": [
    "#set wd\n",
    "getwd()\n",
    "setwd('/scratch/user/s4436039/scdata/CytoTRACE_R')\n",
    "getwd()"
   ]
  },
  {
   "cell_type": "code",
   "execution_count": 2,
   "metadata": {
    "vscode": {
     "languageId": "r"
    }
   },
   "outputs": [
    {
     "name": "stderr",
     "output_type": "stream",
     "text": [
      "Loading required package: SeuratObject\n",
      "\n",
      "Loading required package: sp\n",
      "\n",
      "\n",
      "Attaching package: ‘SeuratObject’\n",
      "\n",
      "\n",
      "The following objects are masked from ‘package:base’:\n",
      "\n",
      "    intersect, t\n",
      "\n",
      "\n",
      "Loading required package: reticulate\n",
      "\n"
     ]
    }
   ],
   "source": [
    "library(Seurat)\n",
    "library(sceasy)\n",
    "library(reticulate)"
   ]
  },
  {
   "cell_type": "code",
   "execution_count": 4,
   "metadata": {
    "vscode": {
     "languageId": "r"
    }
   },
   "outputs": [],
   "source": [
    "h5ad_path = \"/scratch/user/s4436039/scdata/CytoTRACE_R/NR_unint_DC_cytotrace.h5ad\""
   ]
  },
  {
   "cell_type": "code",
   "execution_count": 7,
   "metadata": {
    "vscode": {
     "languageId": "r"
    }
   },
   "outputs": [
    {
     "name": "stdout",
     "output_type": "stream",
     "text": [
      "Using virtual environment '/home/s4436039/.virtualenvs/r-reticulate' ...\n"
     ]
    },
    {
     "name": "stderr",
     "output_type": "stream",
     "text": [
      "+ /home/s4436039/.virtualenvs/r-reticulate/bin/python -m pip install --upgrade --no-user anndata\n",
      "\n"
     ]
    }
   ],
   "source": [
    "reticulate::py_install(\"anndata\")"
   ]
  },
  {
   "cell_type": "code",
   "execution_count": 5,
   "metadata": {
    "vscode": {
     "languageId": "r"
    }
   },
   "outputs": [
    {
     "ename": "ERROR",
     "evalue": "No module named 'anndata'",
     "output_type": "error",
     "traceback": [
      "No module named 'anndata'Traceback:\n",
      "1. func(obj, outFile = outFile, main_layer = main_layer, ...)",
      "2. reticulate::import(\"anndata\", convert = FALSE)",
      "3. py_module_import(module, convert = convert)",
      "4. stop(structure(list(message = \"ModuleNotFoundError: No module named 'anndata'\\nRun `reticulate::py_last_error()` for details.\", \n .     call = py_module_import(module, convert = convert)), class = c(\"python.builtin.ModuleNotFoundError\", \n . \"python.builtin.ImportError\", \"python.builtin.Exception\", \"python.builtin.BaseException\", \n . \"python.builtin.object\", \"error\", \"condition\"), py_object = <environment>))"
     ]
    }
   ],
   "source": [
    "sceasy::convertFormat(h5ad_path, from=\"anndata\", to=\"seurat\",\n",
    "                       outFile='NR_unint_DC_R.rds')"
   ]
  },
  {
   "cell_type": "code",
   "execution_count": null,
   "metadata": {
    "vscode": {
     "languageId": "r"
    }
   },
   "outputs": [],
   "source": [
    "data = readRDS('NR_unint_DC_R.rds')"
   ]
  },
  {
   "cell_type": "code",
   "execution_count": null,
   "metadata": {
    "vscode": {
     "languageId": "r"
    }
   },
   "outputs": [],
   "source": [
    "head(data@meta.data)"
   ]
  },
  {
   "cell_type": "code",
   "execution_count": null,
   "metadata": {
    "vscode": {
     "languageId": "r"
    }
   },
   "outputs": [],
   "source": [
    "library(CytoTRACE)"
   ]
  },
  {
   "cell_type": "code",
   "execution_count": null,
   "metadata": {
    "vscode": {
     "languageId": "r"
    }
   },
   "outputs": [],
   "source": [
    "#extract expression data\n",
    "expression_data <- GetAssayData(data)\n",
    "expression_data <- as.data.frame(as.matrix(expression_data))"
   ]
  },
  {
   "cell_type": "code",
   "execution_count": null,
   "metadata": {
    "vscode": {
     "languageId": "r"
    }
   },
   "outputs": [],
   "source": [
    "# Extract the expression data as a matrix\n",
    "expression_raw <- GetAssayData(data, layer = \"counts\")  # Use slot = \"counts\" for raw counts\n",
    "\n",
    "# Convert to a data frame if needed\n",
    "expression_raw <- as.data.frame(as.matrix(expression_raw))\n",
    "\n",
    "# View the expression data\n",
    "head(expression_raw)"
   ]
  },
  {
   "cell_type": "code",
   "execution_count": null,
   "metadata": {
    "vscode": {
     "languageId": "r"
    }
   },
   "outputs": [],
   "source": [
    "head(expression_data)"
   ]
  },
  {
   "cell_type": "code",
   "execution_count": null,
   "metadata": {
    "vscode": {
     "languageId": "r"
    }
   },
   "outputs": [],
   "source": [
    "#extract annotation data\n",
    "meta <- data@meta.data\n",
    "annotation_data <- data.frame(\n",
    "  cell_id = rownames(meta),  \n",
    "  annotation = meta$NR_annotations_simple  \n",
    ")"
   ]
  },
  {
   "cell_type": "code",
   "execution_count": null,
   "metadata": {
    "vscode": {
     "languageId": "r"
    }
   },
   "outputs": [],
   "source": [
    "head(annotation_data)"
   ]
  },
  {
   "cell_type": "code",
   "execution_count": null,
   "metadata": {
    "vscode": {
     "languageId": "r"
    }
   },
   "outputs": [],
   "source": [
    "# Run cytotrace \n",
    "Results <- CytoTRACE(expression_data)"
   ]
  }
 ],
 "metadata": {
  "kernelspec": {
   "display_name": "R",
   "language": "R",
   "name": "ir"
  },
  "language_info": {
   "codemirror_mode": "r",
   "file_extension": ".r",
   "mimetype": "text/x-r-source",
   "name": "R",
   "pygments_lexer": "r",
   "version": "4.3.3"
  }
 },
 "nbformat": 4,
 "nbformat_minor": 2
}
