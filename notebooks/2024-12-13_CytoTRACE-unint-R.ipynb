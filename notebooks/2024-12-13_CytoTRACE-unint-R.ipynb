{
 "cells": [
  {
   "cell_type": "markdown",
   "metadata": {},
   "source": [
    "# CytoTRACE in R on unintegrated (raw) data"
   ]
  },
  {
   "cell_type": "code",
   "execution_count": 1,
   "metadata": {
    "vscode": {
     "languageId": "r"
    }
   },
   "outputs": [
    {
     "data": {
      "text/html": [
       "'/scratch/user/s4436039/Nikita-project'"
      ],
      "text/latex": [
       "'/scratch/user/s4436039/Nikita-project'"
      ],
      "text/markdown": [
       "'/scratch/user/s4436039/Nikita-project'"
      ],
      "text/plain": [
       "[1] \"/scratch/user/s4436039/Nikita-project\""
      ]
     },
     "metadata": {},
     "output_type": "display_data"
    },
    {
     "data": {
      "text/html": [
       "'/scratch/user/s4436039/scdata/CytoTRACE_R'"
      ],
      "text/latex": [
       "'/scratch/user/s4436039/scdata/CytoTRACE\\_R'"
      ],
      "text/markdown": [
       "'/scratch/user/s4436039/scdata/CytoTRACE_R'"
      ],
      "text/plain": [
       "[1] \"/scratch/user/s4436039/scdata/CytoTRACE_R\""
      ]
     },
     "metadata": {},
     "output_type": "display_data"
    }
   ],
   "source": [
    "#set wd\n",
    "getwd()\n",
    "setwd('/scratch/user/s4436039/scdata/CytoTRACE_R')\n",
    "getwd()"
   ]
  },
  {
   "cell_type": "code",
   "execution_count": 2,
   "metadata": {
    "vscode": {
     "languageId": "r"
    }
   },
   "outputs": [
    {
     "name": "stderr",
     "output_type": "stream",
     "text": [
      "Loading required package: SeuratObject\n",
      "\n",
      "Loading required package: sp\n",
      "\n",
      "\n",
      "Attaching package: ‘SeuratObject’\n",
      "\n",
      "\n",
      "The following objects are masked from ‘package:base’:\n",
      "\n",
      "    intersect, t\n",
      "\n",
      "\n",
      "Loading required package: reticulate\n",
      "\n"
     ]
    }
   ],
   "source": [
    "library(Seurat)\n",
    "library(sceasy)\n",
    "library(reticulate)"
   ]
  },
  {
   "cell_type": "code",
   "execution_count": 3,
   "metadata": {
    "vscode": {
     "languageId": "r"
    }
   },
   "outputs": [],
   "source": [
    "h5ad_path = \"/scratch/user/s4436039/scdata/CytoTRACE_R/NR_unint_DC_cytotrace.h5ad\""
   ]
  },
  {
   "cell_type": "code",
   "execution_count": 7,
   "metadata": {
    "vscode": {
     "languageId": "r"
    }
   },
   "outputs": [
    {
     "name": "stdout",
     "output_type": "stream",
     "text": [
      "Using virtual environment '/home/s4436039/.virtualenvs/r-reticulate' ...\n"
     ]
    },
    {
     "name": "stderr",
     "output_type": "stream",
     "text": [
      "+ /home/s4436039/.virtualenvs/r-reticulate/bin/python -m pip install --upgrade --no-user anndata\n",
      "\n"
     ]
    }
   ],
   "source": [
    "#reticulate::py_install(\"anndata\")"
   ]
  },
  {
   "cell_type": "code",
   "execution_count": 4,
   "metadata": {
    "vscode": {
     "languageId": "r"
    }
   },
   "outputs": [
    {
     "name": "stderr",
     "output_type": "stream",
     "text": [
      "X -> counts\n",
      "\n"
     ]
    },
    {
     "data": {
      "text/plain": [
       "An object of class Seurat \n",
       "15074 features across 30241 samples within 1 assay \n",
       "Active assay: RNA (15074 features, 0 variable features)\n",
       " 2 layers present: counts, data"
      ]
     },
     "metadata": {},
     "output_type": "display_data"
    }
   ],
   "source": [
    "sceasy::convertFormat(h5ad_path, from=\"anndata\", to=\"seurat\",\n",
    "                       outFile='NR_unint_DC_R.rds')"
   ]
  },
  {
   "cell_type": "code",
   "execution_count": 5,
   "metadata": {
    "vscode": {
     "languageId": "r"
    }
   },
   "outputs": [],
   "source": [
    "data = readRDS('NR_unint_DC_R.rds')"
   ]
  },
  {
   "cell_type": "code",
   "execution_count": 6,
   "metadata": {
    "vscode": {
     "languageId": "r"
    }
   },
   "outputs": [
    {
     "data": {
      "text/html": [
       "<table class=\"dataframe\">\n",
       "<caption>A data.frame: 6 × 17</caption>\n",
       "<thead>\n",
       "\t<tr><th></th><th scope=col>nCount_RNA</th><th scope=col>nFeature_RNA</th><th scope=col>sample_type</th><th scope=col>cancer_type</th><th scope=col>patient_id</th><th scope=col>sample_id</th><th scope=col>percent.mt</th><th scope=col>site</th><th scope=col>sample_type_major</th><th scope=col>cancer_subtype</th><th scope=col>integration_id</th><th scope=col>ident</th><th scope=col>dataset_id</th><th scope=col>NR_annotations_simple</th><th scope=col>sample_type_major2</th><th scope=col>cancer_with_H</th><th scope=col>cancer_broadest</th></tr>\n",
       "\t<tr><th></th><th scope=col>&lt;dbl&gt;</th><th scope=col>&lt;dbl&gt;</th><th scope=col>&lt;fct&gt;</th><th scope=col>&lt;fct&gt;</th><th scope=col>&lt;fct&gt;</th><th scope=col>&lt;fct&gt;</th><th scope=col>&lt;dbl&gt;</th><th scope=col>&lt;fct&gt;</th><th scope=col>&lt;fct&gt;</th><th scope=col>&lt;fct&gt;</th><th scope=col>&lt;fct&gt;</th><th scope=col>&lt;fct&gt;</th><th scope=col>&lt;fct&gt;</th><th scope=col>&lt;fct&gt;</th><th scope=col>&lt;fct&gt;</th><th scope=col>&lt;fct&gt;</th><th scope=col>&lt;fct&gt;</th></tr>\n",
       "</thead>\n",
       "<tbody>\n",
       "\t<tr><th scope=row>GSE215120_AM1_AAATGCCCAGAGCCAA-1</th><td>17143</td><td>2659</td><td>tumour</td><td>Acral Melanoma</td><td>AM1</td><td>GSE215120_Acral_MEL_AM1</td><td>1.224990</td><td>skin</td><td>primary tumour</td><td>Acral Melanoma</td><td>GSE215120_Acral_MEL_AM1</td><td>all_integrated_intersect</td><td>GSE215120</td><td>cDC2</td><td>primary tumour</td><td>Acral Melanoma</td><td>MEL</td></tr>\n",
       "\t<tr><th scope=row>GSE215120_AM1_ACACTGATCCACTGGG-1</th><td>18333</td><td>2845</td><td>tumour</td><td>Acral Melanoma</td><td>AM1</td><td>GSE215120_Acral_MEL_AM1</td><td>1.063656</td><td>skin</td><td>primary tumour</td><td>Acral Melanoma</td><td>GSE215120_Acral_MEL_AM1</td><td>all_integrated_intersect</td><td>GSE215120</td><td>cDC2</td><td>primary tumour</td><td>Acral Melanoma</td><td>MEL</td></tr>\n",
       "\t<tr><th scope=row>GSE215120_AM1_ACAGCCGCAAACCTAC-1</th><td>10581</td><td>2182</td><td>tumour</td><td>Acral Melanoma</td><td>AM1</td><td>GSE215120_Acral_MEL_AM1</td><td>2.050846</td><td>skin</td><td>primary tumour</td><td>Acral Melanoma</td><td>GSE215120_Acral_MEL_AM1</td><td>all_integrated_intersect</td><td>GSE215120</td><td>cDC2</td><td>primary tumour</td><td>Acral Melanoma</td><td>MEL</td></tr>\n",
       "\t<tr><th scope=row>GSE215120_AM1_ACCAGTAAGACTGGGT-1</th><td> 8015</td><td>1488</td><td>tumour</td><td>Acral Melanoma</td><td>AM1</td><td>GSE215120_Acral_MEL_AM1</td><td>2.033687</td><td>skin</td><td>primary tumour</td><td>Acral Melanoma</td><td>GSE215120_Acral_MEL_AM1</td><td>all_integrated_intersect</td><td>GSE215120</td><td>cDC1</td><td>primary tumour</td><td>Acral Melanoma</td><td>MEL</td></tr>\n",
       "\t<tr><th scope=row>GSE215120_AM1_ACGTCAACAAGGACTG-1</th><td>25642</td><td>4010</td><td>tumour</td><td>Acral Melanoma</td><td>AM1</td><td>GSE215120_Acral_MEL_AM1</td><td>2.835192</td><td>skin</td><td>primary tumour</td><td>Acral Melanoma</td><td>GSE215120_Acral_MEL_AM1</td><td>all_integrated_intersect</td><td>GSE215120</td><td>cDC1</td><td>primary tumour</td><td>Acral Melanoma</td><td>MEL</td></tr>\n",
       "\t<tr><th scope=row>GSE215120_AM1_ACGTCAATCCGCATCT-1</th><td> 9833</td><td>2074</td><td>tumour</td><td>Acral Melanoma</td><td>AM1</td><td>GSE215120_Acral_MEL_AM1</td><td>1.311909</td><td>skin</td><td>primary tumour</td><td>Acral Melanoma</td><td>GSE215120_Acral_MEL_AM1</td><td>all_integrated_intersect</td><td>GSE215120</td><td>cDC2</td><td>primary tumour</td><td>Acral Melanoma</td><td>MEL</td></tr>\n",
       "</tbody>\n",
       "</table>\n"
      ],
      "text/latex": [
       "A data.frame: 6 × 17\n",
       "\\begin{tabular}{r|lllllllllllllllll}\n",
       "  & nCount\\_RNA & nFeature\\_RNA & sample\\_type & cancer\\_type & patient\\_id & sample\\_id & percent.mt & site & sample\\_type\\_major & cancer\\_subtype & integration\\_id & ident & dataset\\_id & NR\\_annotations\\_simple & sample\\_type\\_major2 & cancer\\_with\\_H & cancer\\_broadest\\\\\n",
       "  & <dbl> & <dbl> & <fct> & <fct> & <fct> & <fct> & <dbl> & <fct> & <fct> & <fct> & <fct> & <fct> & <fct> & <fct> & <fct> & <fct> & <fct>\\\\\n",
       "\\hline\n",
       "\tGSE215120\\_AM1\\_AAATGCCCAGAGCCAA-1 & 17143 & 2659 & tumour & Acral Melanoma & AM1 & GSE215120\\_Acral\\_MEL\\_AM1 & 1.224990 & skin & primary tumour & Acral Melanoma & GSE215120\\_Acral\\_MEL\\_AM1 & all\\_integrated\\_intersect & GSE215120 & cDC2 & primary tumour & Acral Melanoma & MEL\\\\\n",
       "\tGSE215120\\_AM1\\_ACACTGATCCACTGGG-1 & 18333 & 2845 & tumour & Acral Melanoma & AM1 & GSE215120\\_Acral\\_MEL\\_AM1 & 1.063656 & skin & primary tumour & Acral Melanoma & GSE215120\\_Acral\\_MEL\\_AM1 & all\\_integrated\\_intersect & GSE215120 & cDC2 & primary tumour & Acral Melanoma & MEL\\\\\n",
       "\tGSE215120\\_AM1\\_ACAGCCGCAAACCTAC-1 & 10581 & 2182 & tumour & Acral Melanoma & AM1 & GSE215120\\_Acral\\_MEL\\_AM1 & 2.050846 & skin & primary tumour & Acral Melanoma & GSE215120\\_Acral\\_MEL\\_AM1 & all\\_integrated\\_intersect & GSE215120 & cDC2 & primary tumour & Acral Melanoma & MEL\\\\\n",
       "\tGSE215120\\_AM1\\_ACCAGTAAGACTGGGT-1 &  8015 & 1488 & tumour & Acral Melanoma & AM1 & GSE215120\\_Acral\\_MEL\\_AM1 & 2.033687 & skin & primary tumour & Acral Melanoma & GSE215120\\_Acral\\_MEL\\_AM1 & all\\_integrated\\_intersect & GSE215120 & cDC1 & primary tumour & Acral Melanoma & MEL\\\\\n",
       "\tGSE215120\\_AM1\\_ACGTCAACAAGGACTG-1 & 25642 & 4010 & tumour & Acral Melanoma & AM1 & GSE215120\\_Acral\\_MEL\\_AM1 & 2.835192 & skin & primary tumour & Acral Melanoma & GSE215120\\_Acral\\_MEL\\_AM1 & all\\_integrated\\_intersect & GSE215120 & cDC1 & primary tumour & Acral Melanoma & MEL\\\\\n",
       "\tGSE215120\\_AM1\\_ACGTCAATCCGCATCT-1 &  9833 & 2074 & tumour & Acral Melanoma & AM1 & GSE215120\\_Acral\\_MEL\\_AM1 & 1.311909 & skin & primary tumour & Acral Melanoma & GSE215120\\_Acral\\_MEL\\_AM1 & all\\_integrated\\_intersect & GSE215120 & cDC2 & primary tumour & Acral Melanoma & MEL\\\\\n",
       "\\end{tabular}\n"
      ],
      "text/markdown": [
       "\n",
       "A data.frame: 6 × 17\n",
       "\n",
       "| <!--/--> | nCount_RNA &lt;dbl&gt; | nFeature_RNA &lt;dbl&gt; | sample_type &lt;fct&gt; | cancer_type &lt;fct&gt; | patient_id &lt;fct&gt; | sample_id &lt;fct&gt; | percent.mt &lt;dbl&gt; | site &lt;fct&gt; | sample_type_major &lt;fct&gt; | cancer_subtype &lt;fct&gt; | integration_id &lt;fct&gt; | ident &lt;fct&gt; | dataset_id &lt;fct&gt; | NR_annotations_simple &lt;fct&gt; | sample_type_major2 &lt;fct&gt; | cancer_with_H &lt;fct&gt; | cancer_broadest &lt;fct&gt; |\n",
       "|---|---|---|---|---|---|---|---|---|---|---|---|---|---|---|---|---|---|\n",
       "| GSE215120_AM1_AAATGCCCAGAGCCAA-1 | 17143 | 2659 | tumour | Acral Melanoma | AM1 | GSE215120_Acral_MEL_AM1 | 1.224990 | skin | primary tumour | Acral Melanoma | GSE215120_Acral_MEL_AM1 | all_integrated_intersect | GSE215120 | cDC2 | primary tumour | Acral Melanoma | MEL |\n",
       "| GSE215120_AM1_ACACTGATCCACTGGG-1 | 18333 | 2845 | tumour | Acral Melanoma | AM1 | GSE215120_Acral_MEL_AM1 | 1.063656 | skin | primary tumour | Acral Melanoma | GSE215120_Acral_MEL_AM1 | all_integrated_intersect | GSE215120 | cDC2 | primary tumour | Acral Melanoma | MEL |\n",
       "| GSE215120_AM1_ACAGCCGCAAACCTAC-1 | 10581 | 2182 | tumour | Acral Melanoma | AM1 | GSE215120_Acral_MEL_AM1 | 2.050846 | skin | primary tumour | Acral Melanoma | GSE215120_Acral_MEL_AM1 | all_integrated_intersect | GSE215120 | cDC2 | primary tumour | Acral Melanoma | MEL |\n",
       "| GSE215120_AM1_ACCAGTAAGACTGGGT-1 |  8015 | 1488 | tumour | Acral Melanoma | AM1 | GSE215120_Acral_MEL_AM1 | 2.033687 | skin | primary tumour | Acral Melanoma | GSE215120_Acral_MEL_AM1 | all_integrated_intersect | GSE215120 | cDC1 | primary tumour | Acral Melanoma | MEL |\n",
       "| GSE215120_AM1_ACGTCAACAAGGACTG-1 | 25642 | 4010 | tumour | Acral Melanoma | AM1 | GSE215120_Acral_MEL_AM1 | 2.835192 | skin | primary tumour | Acral Melanoma | GSE215120_Acral_MEL_AM1 | all_integrated_intersect | GSE215120 | cDC1 | primary tumour | Acral Melanoma | MEL |\n",
       "| GSE215120_AM1_ACGTCAATCCGCATCT-1 |  9833 | 2074 | tumour | Acral Melanoma | AM1 | GSE215120_Acral_MEL_AM1 | 1.311909 | skin | primary tumour | Acral Melanoma | GSE215120_Acral_MEL_AM1 | all_integrated_intersect | GSE215120 | cDC2 | primary tumour | Acral Melanoma | MEL |\n",
       "\n"
      ],
      "text/plain": [
       "                                 nCount_RNA nFeature_RNA sample_type\n",
       "GSE215120_AM1_AAATGCCCAGAGCCAA-1 17143      2659         tumour     \n",
       "GSE215120_AM1_ACACTGATCCACTGGG-1 18333      2845         tumour     \n",
       "GSE215120_AM1_ACAGCCGCAAACCTAC-1 10581      2182         tumour     \n",
       "GSE215120_AM1_ACCAGTAAGACTGGGT-1  8015      1488         tumour     \n",
       "GSE215120_AM1_ACGTCAACAAGGACTG-1 25642      4010         tumour     \n",
       "GSE215120_AM1_ACGTCAATCCGCATCT-1  9833      2074         tumour     \n",
       "                                 cancer_type    patient_id\n",
       "GSE215120_AM1_AAATGCCCAGAGCCAA-1 Acral Melanoma AM1       \n",
       "GSE215120_AM1_ACACTGATCCACTGGG-1 Acral Melanoma AM1       \n",
       "GSE215120_AM1_ACAGCCGCAAACCTAC-1 Acral Melanoma AM1       \n",
       "GSE215120_AM1_ACCAGTAAGACTGGGT-1 Acral Melanoma AM1       \n",
       "GSE215120_AM1_ACGTCAACAAGGACTG-1 Acral Melanoma AM1       \n",
       "GSE215120_AM1_ACGTCAATCCGCATCT-1 Acral Melanoma AM1       \n",
       "                                 sample_id               percent.mt site\n",
       "GSE215120_AM1_AAATGCCCAGAGCCAA-1 GSE215120_Acral_MEL_AM1 1.224990   skin\n",
       "GSE215120_AM1_ACACTGATCCACTGGG-1 GSE215120_Acral_MEL_AM1 1.063656   skin\n",
       "GSE215120_AM1_ACAGCCGCAAACCTAC-1 GSE215120_Acral_MEL_AM1 2.050846   skin\n",
       "GSE215120_AM1_ACCAGTAAGACTGGGT-1 GSE215120_Acral_MEL_AM1 2.033687   skin\n",
       "GSE215120_AM1_ACGTCAACAAGGACTG-1 GSE215120_Acral_MEL_AM1 2.835192   skin\n",
       "GSE215120_AM1_ACGTCAATCCGCATCT-1 GSE215120_Acral_MEL_AM1 1.311909   skin\n",
       "                                 sample_type_major cancer_subtype\n",
       "GSE215120_AM1_AAATGCCCAGAGCCAA-1 primary tumour    Acral Melanoma\n",
       "GSE215120_AM1_ACACTGATCCACTGGG-1 primary tumour    Acral Melanoma\n",
       "GSE215120_AM1_ACAGCCGCAAACCTAC-1 primary tumour    Acral Melanoma\n",
       "GSE215120_AM1_ACCAGTAAGACTGGGT-1 primary tumour    Acral Melanoma\n",
       "GSE215120_AM1_ACGTCAACAAGGACTG-1 primary tumour    Acral Melanoma\n",
       "GSE215120_AM1_ACGTCAATCCGCATCT-1 primary tumour    Acral Melanoma\n",
       "                                 integration_id         \n",
       "GSE215120_AM1_AAATGCCCAGAGCCAA-1 GSE215120_Acral_MEL_AM1\n",
       "GSE215120_AM1_ACACTGATCCACTGGG-1 GSE215120_Acral_MEL_AM1\n",
       "GSE215120_AM1_ACAGCCGCAAACCTAC-1 GSE215120_Acral_MEL_AM1\n",
       "GSE215120_AM1_ACCAGTAAGACTGGGT-1 GSE215120_Acral_MEL_AM1\n",
       "GSE215120_AM1_ACGTCAACAAGGACTG-1 GSE215120_Acral_MEL_AM1\n",
       "GSE215120_AM1_ACGTCAATCCGCATCT-1 GSE215120_Acral_MEL_AM1\n",
       "                                 ident                    dataset_id\n",
       "GSE215120_AM1_AAATGCCCAGAGCCAA-1 all_integrated_intersect GSE215120 \n",
       "GSE215120_AM1_ACACTGATCCACTGGG-1 all_integrated_intersect GSE215120 \n",
       "GSE215120_AM1_ACAGCCGCAAACCTAC-1 all_integrated_intersect GSE215120 \n",
       "GSE215120_AM1_ACCAGTAAGACTGGGT-1 all_integrated_intersect GSE215120 \n",
       "GSE215120_AM1_ACGTCAACAAGGACTG-1 all_integrated_intersect GSE215120 \n",
       "GSE215120_AM1_ACGTCAATCCGCATCT-1 all_integrated_intersect GSE215120 \n",
       "                                 NR_annotations_simple sample_type_major2\n",
       "GSE215120_AM1_AAATGCCCAGAGCCAA-1 cDC2                  primary tumour    \n",
       "GSE215120_AM1_ACACTGATCCACTGGG-1 cDC2                  primary tumour    \n",
       "GSE215120_AM1_ACAGCCGCAAACCTAC-1 cDC2                  primary tumour    \n",
       "GSE215120_AM1_ACCAGTAAGACTGGGT-1 cDC1                  primary tumour    \n",
       "GSE215120_AM1_ACGTCAACAAGGACTG-1 cDC1                  primary tumour    \n",
       "GSE215120_AM1_ACGTCAATCCGCATCT-1 cDC2                  primary tumour    \n",
       "                                 cancer_with_H  cancer_broadest\n",
       "GSE215120_AM1_AAATGCCCAGAGCCAA-1 Acral Melanoma MEL            \n",
       "GSE215120_AM1_ACACTGATCCACTGGG-1 Acral Melanoma MEL            \n",
       "GSE215120_AM1_ACAGCCGCAAACCTAC-1 Acral Melanoma MEL            \n",
       "GSE215120_AM1_ACCAGTAAGACTGGGT-1 Acral Melanoma MEL            \n",
       "GSE215120_AM1_ACGTCAACAAGGACTG-1 Acral Melanoma MEL            \n",
       "GSE215120_AM1_ACGTCAATCCGCATCT-1 Acral Melanoma MEL            "
      ]
     },
     "metadata": {},
     "output_type": "display_data"
    }
   ],
   "source": [
    "head(data@meta.data)"
   ]
  },
  {
   "cell_type": "code",
   "execution_count": 7,
   "metadata": {
    "vscode": {
     "languageId": "r"
    }
   },
   "outputs": [
    {
     "name": "stderr",
     "output_type": "stream",
     "text": [
      "Welcome to the CytoTRACE R package, a tool for the unbiased prediction of differentiation states in scRNA-seq data. For more information about this method, visit https://cytotrace.stanford.edu.\n",
      "\n",
      "\n",
      "Warning message:\n",
      "“The ScanoramaCT python module is not accessible. The iCytoTRACE function for integration across multiple datasets will be disabled. Please follow the instructions in https://github.com/gunsagargulati/CytoTRACE to install the necessary Python packages for this application.”\n"
     ]
    }
   ],
   "source": [
    "library(CytoTRACE)"
   ]
  },
  {
   "cell_type": "code",
   "execution_count": 8,
   "metadata": {
    "vscode": {
     "languageId": "r"
    }
   },
   "outputs": [
    {
     "name": "stderr",
     "output_type": "stream",
     "text": [
      "Warning message in asMethod(object):\n",
      "“sparse->dense coercion: allocating vector of size 3.4 GiB”\n"
     ]
    }
   ],
   "source": [
    "#extract expression data\n",
    "expression_data <- GetAssayData(data)\n",
    "expression_data <- as.data.frame(as.matrix(expression_data))"
   ]
  },
  {
   "cell_type": "code",
   "execution_count": 9,
   "metadata": {
    "vscode": {
     "languageId": "r"
    }
   },
   "outputs": [
    {
     "data": {
      "text/html": [
       "<table class=\"dataframe\">\n",
       "<caption>A data.frame: 6 × 30241</caption>\n",
       "<thead>\n",
       "\t<tr><th></th><th scope=col>GSE215120_AM1_AAATGCCCAGAGCCAA-1</th><th scope=col>GSE215120_AM1_ACACTGATCCACTGGG-1</th><th scope=col>GSE215120_AM1_ACAGCCGCAAACCTAC-1</th><th scope=col>GSE215120_AM1_ACCAGTAAGACTGGGT-1</th><th scope=col>GSE215120_AM1_ACGTCAACAAGGACTG-1</th><th scope=col>GSE215120_AM1_ACGTCAATCCGCATCT-1</th><th scope=col>GSE215120_AM1_ACTGAGTCAGGCTGAA-1</th><th scope=col>GSE215120_AM1_ACTGTCCGTCTCTTAT-1</th><th scope=col>GSE215120_AM1_ACTTGTTTCTGAAAGA-1</th><th scope=col>GSE215120_AM1_AGAGCTTGTACAGTTC-1</th><th scope=col>⋯</th><th scope=col>GSE180661_HGSOC_SPECTRUM-OV-045_S1_CD45P_LEFT_OVARY_CGGGCATTCTTCTGTA</th><th scope=col>GSE180661_HGSOC_SPECTRUM-OV-045_S1_CD45P_LEFT_OVARY_CTACGGGGTGATCGTT</th><th scope=col>GSE180661_HGSOC_SPECTRUM-OV-045_S1_CD45P_LEFT_OVARY_CTCATGCTCGTTAGAC</th><th scope=col>GSE180661_HGSOC_SPECTRUM-OV-045_S1_CD45P_LEFT_OVARY_CTTGATTAGCAGGTCA</th><th scope=col>GSE180661_HGSOC_SPECTRUM-OV-045_S1_CD45P_LEFT_OVARY_GAGGGATCAAGCGCTC</th><th scope=col>GSE180661_HGSOC_SPECTRUM-OV-045_S1_CD45P_LEFT_OVARY_GTTTACTCAAGGCCTC</th><th scope=col>GSE180661_HGSOC_SPECTRUM-OV-045_S1_CD45P_LEFT_OVARY_TACCGAACAAACCGGA</th><th scope=col>GSE180661_HGSOC_SPECTRUM-OV-045_S1_CD45P_LEFT_OVARY_TCACGCTTCCGTCACT</th><th scope=col>GSE180661_HGSOC_SPECTRUM-OV-045_S1_CD45P_LEFT_OVARY_TGCAGTAGTGTTGCCG</th><th scope=col>GSE180661_HGSOC_SPECTRUM-OV-045_S1_CD45P_LEFT_OVARY_TGTGAGTTCGGAAACG</th></tr>\n",
       "\t<tr><th></th><th scope=col>&lt;dbl&gt;</th><th scope=col>&lt;dbl&gt;</th><th scope=col>&lt;dbl&gt;</th><th scope=col>&lt;dbl&gt;</th><th scope=col>&lt;dbl&gt;</th><th scope=col>&lt;dbl&gt;</th><th scope=col>&lt;dbl&gt;</th><th scope=col>&lt;dbl&gt;</th><th scope=col>&lt;dbl&gt;</th><th scope=col>&lt;dbl&gt;</th><th scope=col>⋯</th><th scope=col>&lt;dbl&gt;</th><th scope=col>&lt;dbl&gt;</th><th scope=col>&lt;dbl&gt;</th><th scope=col>&lt;dbl&gt;</th><th scope=col>&lt;dbl&gt;</th><th scope=col>&lt;dbl&gt;</th><th scope=col>&lt;dbl&gt;</th><th scope=col>&lt;dbl&gt;</th><th scope=col>&lt;dbl&gt;</th><th scope=col>&lt;dbl&gt;</th></tr>\n",
       "</thead>\n",
       "<tbody>\n",
       "\t<tr><th scope=row>FAM87B</th><td>0</td><td>0</td><td>0</td><td>0</td><td>0</td><td>0</td><td>0</td><td>0</td><td>0</td><td>0</td><td>⋯</td><td>0</td><td>0</td><td>0</td><td>0</td><td>0</td><td>0</td><td>0</td><td>0</td><td>0</td><td>0</td></tr>\n",
       "\t<tr><th scope=row>LINC00115</th><td>0</td><td>0</td><td>0</td><td>0</td><td>0</td><td>0</td><td>0</td><td>0</td><td>0</td><td>0</td><td>⋯</td><td>0</td><td>0</td><td>0</td><td>0</td><td>0</td><td>0</td><td>0</td><td>0</td><td>0</td><td>0</td></tr>\n",
       "\t<tr><th scope=row>FAM41C</th><td>0</td><td>0</td><td>0</td><td>0</td><td>0</td><td>0</td><td>0</td><td>0</td><td>0</td><td>0</td><td>⋯</td><td>0</td><td>0</td><td>0</td><td>0</td><td>0</td><td>0</td><td>0</td><td>0</td><td>0</td><td>0</td></tr>\n",
       "\t<tr><th scope=row>SAMD11</th><td>0</td><td>0</td><td>0</td><td>0</td><td>0</td><td>0</td><td>0</td><td>0</td><td>0</td><td>0</td><td>⋯</td><td>0</td><td>0</td><td>0</td><td>0</td><td>0</td><td>0</td><td>0</td><td>0</td><td>0</td><td>0</td></tr>\n",
       "\t<tr><th scope=row>NOC2L</th><td>0</td><td>0</td><td>0</td><td>0</td><td>1</td><td>1</td><td>0</td><td>0</td><td>0</td><td>0</td><td>⋯</td><td>0</td><td>0</td><td>1</td><td>0</td><td>0</td><td>1</td><td>0</td><td>0</td><td>0</td><td>0</td></tr>\n",
       "\t<tr><th scope=row>KLHL17</th><td>0</td><td>0</td><td>0</td><td>0</td><td>0</td><td>0</td><td>0</td><td>0</td><td>0</td><td>0</td><td>⋯</td><td>0</td><td>0</td><td>0</td><td>0</td><td>0</td><td>0</td><td>0</td><td>0</td><td>0</td><td>0</td></tr>\n",
       "</tbody>\n",
       "</table>\n"
      ],
      "text/latex": [
       "A data.frame: 6 × 30241\n",
       "\\begin{tabular}{r|lllllllllllllllllllll}\n",
       "  & GSE215120\\_AM1\\_AAATGCCCAGAGCCAA-1 & GSE215120\\_AM1\\_ACACTGATCCACTGGG-1 & GSE215120\\_AM1\\_ACAGCCGCAAACCTAC-1 & GSE215120\\_AM1\\_ACCAGTAAGACTGGGT-1 & GSE215120\\_AM1\\_ACGTCAACAAGGACTG-1 & GSE215120\\_AM1\\_ACGTCAATCCGCATCT-1 & GSE215120\\_AM1\\_ACTGAGTCAGGCTGAA-1 & GSE215120\\_AM1\\_ACTGTCCGTCTCTTAT-1 & GSE215120\\_AM1\\_ACTTGTTTCTGAAAGA-1 & GSE215120\\_AM1\\_AGAGCTTGTACAGTTC-1 & ⋯ & GSE180661\\_HGSOC\\_SPECTRUM-OV-045\\_S1\\_CD45P\\_LEFT\\_OVARY\\_CGGGCATTCTTCTGTA & GSE180661\\_HGSOC\\_SPECTRUM-OV-045\\_S1\\_CD45P\\_LEFT\\_OVARY\\_CTACGGGGTGATCGTT & GSE180661\\_HGSOC\\_SPECTRUM-OV-045\\_S1\\_CD45P\\_LEFT\\_OVARY\\_CTCATGCTCGTTAGAC & GSE180661\\_HGSOC\\_SPECTRUM-OV-045\\_S1\\_CD45P\\_LEFT\\_OVARY\\_CTTGATTAGCAGGTCA & GSE180661\\_HGSOC\\_SPECTRUM-OV-045\\_S1\\_CD45P\\_LEFT\\_OVARY\\_GAGGGATCAAGCGCTC & GSE180661\\_HGSOC\\_SPECTRUM-OV-045\\_S1\\_CD45P\\_LEFT\\_OVARY\\_GTTTACTCAAGGCCTC & GSE180661\\_HGSOC\\_SPECTRUM-OV-045\\_S1\\_CD45P\\_LEFT\\_OVARY\\_TACCGAACAAACCGGA & GSE180661\\_HGSOC\\_SPECTRUM-OV-045\\_S1\\_CD45P\\_LEFT\\_OVARY\\_TCACGCTTCCGTCACT & GSE180661\\_HGSOC\\_SPECTRUM-OV-045\\_S1\\_CD45P\\_LEFT\\_OVARY\\_TGCAGTAGTGTTGCCG & GSE180661\\_HGSOC\\_SPECTRUM-OV-045\\_S1\\_CD45P\\_LEFT\\_OVARY\\_TGTGAGTTCGGAAACG\\\\\n",
       "  & <dbl> & <dbl> & <dbl> & <dbl> & <dbl> & <dbl> & <dbl> & <dbl> & <dbl> & <dbl> & ⋯ & <dbl> & <dbl> & <dbl> & <dbl> & <dbl> & <dbl> & <dbl> & <dbl> & <dbl> & <dbl>\\\\\n",
       "\\hline\n",
       "\tFAM87B & 0 & 0 & 0 & 0 & 0 & 0 & 0 & 0 & 0 & 0 & ⋯ & 0 & 0 & 0 & 0 & 0 & 0 & 0 & 0 & 0 & 0\\\\\n",
       "\tLINC00115 & 0 & 0 & 0 & 0 & 0 & 0 & 0 & 0 & 0 & 0 & ⋯ & 0 & 0 & 0 & 0 & 0 & 0 & 0 & 0 & 0 & 0\\\\\n",
       "\tFAM41C & 0 & 0 & 0 & 0 & 0 & 0 & 0 & 0 & 0 & 0 & ⋯ & 0 & 0 & 0 & 0 & 0 & 0 & 0 & 0 & 0 & 0\\\\\n",
       "\tSAMD11 & 0 & 0 & 0 & 0 & 0 & 0 & 0 & 0 & 0 & 0 & ⋯ & 0 & 0 & 0 & 0 & 0 & 0 & 0 & 0 & 0 & 0\\\\\n",
       "\tNOC2L & 0 & 0 & 0 & 0 & 1 & 1 & 0 & 0 & 0 & 0 & ⋯ & 0 & 0 & 1 & 0 & 0 & 1 & 0 & 0 & 0 & 0\\\\\n",
       "\tKLHL17 & 0 & 0 & 0 & 0 & 0 & 0 & 0 & 0 & 0 & 0 & ⋯ & 0 & 0 & 0 & 0 & 0 & 0 & 0 & 0 & 0 & 0\\\\\n",
       "\\end{tabular}\n"
      ],
      "text/markdown": [
       "\n",
       "A data.frame: 6 × 30241\n",
       "\n",
       "| <!--/--> | GSE215120_AM1_AAATGCCCAGAGCCAA-1 &lt;dbl&gt; | GSE215120_AM1_ACACTGATCCACTGGG-1 &lt;dbl&gt; | GSE215120_AM1_ACAGCCGCAAACCTAC-1 &lt;dbl&gt; | GSE215120_AM1_ACCAGTAAGACTGGGT-1 &lt;dbl&gt; | GSE215120_AM1_ACGTCAACAAGGACTG-1 &lt;dbl&gt; | GSE215120_AM1_ACGTCAATCCGCATCT-1 &lt;dbl&gt; | GSE215120_AM1_ACTGAGTCAGGCTGAA-1 &lt;dbl&gt; | GSE215120_AM1_ACTGTCCGTCTCTTAT-1 &lt;dbl&gt; | GSE215120_AM1_ACTTGTTTCTGAAAGA-1 &lt;dbl&gt; | GSE215120_AM1_AGAGCTTGTACAGTTC-1 &lt;dbl&gt; | ⋯ ⋯ | GSE180661_HGSOC_SPECTRUM-OV-045_S1_CD45P_LEFT_OVARY_CGGGCATTCTTCTGTA &lt;dbl&gt; | GSE180661_HGSOC_SPECTRUM-OV-045_S1_CD45P_LEFT_OVARY_CTACGGGGTGATCGTT &lt;dbl&gt; | GSE180661_HGSOC_SPECTRUM-OV-045_S1_CD45P_LEFT_OVARY_CTCATGCTCGTTAGAC &lt;dbl&gt; | GSE180661_HGSOC_SPECTRUM-OV-045_S1_CD45P_LEFT_OVARY_CTTGATTAGCAGGTCA &lt;dbl&gt; | GSE180661_HGSOC_SPECTRUM-OV-045_S1_CD45P_LEFT_OVARY_GAGGGATCAAGCGCTC &lt;dbl&gt; | GSE180661_HGSOC_SPECTRUM-OV-045_S1_CD45P_LEFT_OVARY_GTTTACTCAAGGCCTC &lt;dbl&gt; | GSE180661_HGSOC_SPECTRUM-OV-045_S1_CD45P_LEFT_OVARY_TACCGAACAAACCGGA &lt;dbl&gt; | GSE180661_HGSOC_SPECTRUM-OV-045_S1_CD45P_LEFT_OVARY_TCACGCTTCCGTCACT &lt;dbl&gt; | GSE180661_HGSOC_SPECTRUM-OV-045_S1_CD45P_LEFT_OVARY_TGCAGTAGTGTTGCCG &lt;dbl&gt; | GSE180661_HGSOC_SPECTRUM-OV-045_S1_CD45P_LEFT_OVARY_TGTGAGTTCGGAAACG &lt;dbl&gt; |\n",
       "|---|---|---|---|---|---|---|---|---|---|---|---|---|---|---|---|---|---|---|---|---|---|\n",
       "| FAM87B | 0 | 0 | 0 | 0 | 0 | 0 | 0 | 0 | 0 | 0 | ⋯ | 0 | 0 | 0 | 0 | 0 | 0 | 0 | 0 | 0 | 0 |\n",
       "| LINC00115 | 0 | 0 | 0 | 0 | 0 | 0 | 0 | 0 | 0 | 0 | ⋯ | 0 | 0 | 0 | 0 | 0 | 0 | 0 | 0 | 0 | 0 |\n",
       "| FAM41C | 0 | 0 | 0 | 0 | 0 | 0 | 0 | 0 | 0 | 0 | ⋯ | 0 | 0 | 0 | 0 | 0 | 0 | 0 | 0 | 0 | 0 |\n",
       "| SAMD11 | 0 | 0 | 0 | 0 | 0 | 0 | 0 | 0 | 0 | 0 | ⋯ | 0 | 0 | 0 | 0 | 0 | 0 | 0 | 0 | 0 | 0 |\n",
       "| NOC2L | 0 | 0 | 0 | 0 | 1 | 1 | 0 | 0 | 0 | 0 | ⋯ | 0 | 0 | 1 | 0 | 0 | 1 | 0 | 0 | 0 | 0 |\n",
       "| KLHL17 | 0 | 0 | 0 | 0 | 0 | 0 | 0 | 0 | 0 | 0 | ⋯ | 0 | 0 | 0 | 0 | 0 | 0 | 0 | 0 | 0 | 0 |\n",
       "\n"
      ],
      "text/plain": [
       "          GSE215120_AM1_AAATGCCCAGAGCCAA-1 GSE215120_AM1_ACACTGATCCACTGGG-1\n",
       "FAM87B    0                                0                               \n",
       "LINC00115 0                                0                               \n",
       "FAM41C    0                                0                               \n",
       "SAMD11    0                                0                               \n",
       "NOC2L     0                                0                               \n",
       "KLHL17    0                                0                               \n",
       "          GSE215120_AM1_ACAGCCGCAAACCTAC-1 GSE215120_AM1_ACCAGTAAGACTGGGT-1\n",
       "FAM87B    0                                0                               \n",
       "LINC00115 0                                0                               \n",
       "FAM41C    0                                0                               \n",
       "SAMD11    0                                0                               \n",
       "NOC2L     0                                0                               \n",
       "KLHL17    0                                0                               \n",
       "          GSE215120_AM1_ACGTCAACAAGGACTG-1 GSE215120_AM1_ACGTCAATCCGCATCT-1\n",
       "FAM87B    0                                0                               \n",
       "LINC00115 0                                0                               \n",
       "FAM41C    0                                0                               \n",
       "SAMD11    0                                0                               \n",
       "NOC2L     1                                1                               \n",
       "KLHL17    0                                0                               \n",
       "          GSE215120_AM1_ACTGAGTCAGGCTGAA-1 GSE215120_AM1_ACTGTCCGTCTCTTAT-1\n",
       "FAM87B    0                                0                               \n",
       "LINC00115 0                                0                               \n",
       "FAM41C    0                                0                               \n",
       "SAMD11    0                                0                               \n",
       "NOC2L     0                                0                               \n",
       "KLHL17    0                                0                               \n",
       "          GSE215120_AM1_ACTTGTTTCTGAAAGA-1 GSE215120_AM1_AGAGCTTGTACAGTTC-1 ⋯\n",
       "FAM87B    0                                0                                ⋯\n",
       "LINC00115 0                                0                                ⋯\n",
       "FAM41C    0                                0                                ⋯\n",
       "SAMD11    0                                0                                ⋯\n",
       "NOC2L     0                                0                                ⋯\n",
       "KLHL17    0                                0                                ⋯\n",
       "          GSE180661_HGSOC_SPECTRUM-OV-045_S1_CD45P_LEFT_OVARY_CGGGCATTCTTCTGTA\n",
       "FAM87B    0                                                                   \n",
       "LINC00115 0                                                                   \n",
       "FAM41C    0                                                                   \n",
       "SAMD11    0                                                                   \n",
       "NOC2L     0                                                                   \n",
       "KLHL17    0                                                                   \n",
       "          GSE180661_HGSOC_SPECTRUM-OV-045_S1_CD45P_LEFT_OVARY_CTACGGGGTGATCGTT\n",
       "FAM87B    0                                                                   \n",
       "LINC00115 0                                                                   \n",
       "FAM41C    0                                                                   \n",
       "SAMD11    0                                                                   \n",
       "NOC2L     0                                                                   \n",
       "KLHL17    0                                                                   \n",
       "          GSE180661_HGSOC_SPECTRUM-OV-045_S1_CD45P_LEFT_OVARY_CTCATGCTCGTTAGAC\n",
       "FAM87B    0                                                                   \n",
       "LINC00115 0                                                                   \n",
       "FAM41C    0                                                                   \n",
       "SAMD11    0                                                                   \n",
       "NOC2L     1                                                                   \n",
       "KLHL17    0                                                                   \n",
       "          GSE180661_HGSOC_SPECTRUM-OV-045_S1_CD45P_LEFT_OVARY_CTTGATTAGCAGGTCA\n",
       "FAM87B    0                                                                   \n",
       "LINC00115 0                                                                   \n",
       "FAM41C    0                                                                   \n",
       "SAMD11    0                                                                   \n",
       "NOC2L     0                                                                   \n",
       "KLHL17    0                                                                   \n",
       "          GSE180661_HGSOC_SPECTRUM-OV-045_S1_CD45P_LEFT_OVARY_GAGGGATCAAGCGCTC\n",
       "FAM87B    0                                                                   \n",
       "LINC00115 0                                                                   \n",
       "FAM41C    0                                                                   \n",
       "SAMD11    0                                                                   \n",
       "NOC2L     0                                                                   \n",
       "KLHL17    0                                                                   \n",
       "          GSE180661_HGSOC_SPECTRUM-OV-045_S1_CD45P_LEFT_OVARY_GTTTACTCAAGGCCTC\n",
       "FAM87B    0                                                                   \n",
       "LINC00115 0                                                                   \n",
       "FAM41C    0                                                                   \n",
       "SAMD11    0                                                                   \n",
       "NOC2L     1                                                                   \n",
       "KLHL17    0                                                                   \n",
       "          GSE180661_HGSOC_SPECTRUM-OV-045_S1_CD45P_LEFT_OVARY_TACCGAACAAACCGGA\n",
       "FAM87B    0                                                                   \n",
       "LINC00115 0                                                                   \n",
       "FAM41C    0                                                                   \n",
       "SAMD11    0                                                                   \n",
       "NOC2L     0                                                                   \n",
       "KLHL17    0                                                                   \n",
       "          GSE180661_HGSOC_SPECTRUM-OV-045_S1_CD45P_LEFT_OVARY_TCACGCTTCCGTCACT\n",
       "FAM87B    0                                                                   \n",
       "LINC00115 0                                                                   \n",
       "FAM41C    0                                                                   \n",
       "SAMD11    0                                                                   \n",
       "NOC2L     0                                                                   \n",
       "KLHL17    0                                                                   \n",
       "          GSE180661_HGSOC_SPECTRUM-OV-045_S1_CD45P_LEFT_OVARY_TGCAGTAGTGTTGCCG\n",
       "FAM87B    0                                                                   \n",
       "LINC00115 0                                                                   \n",
       "FAM41C    0                                                                   \n",
       "SAMD11    0                                                                   \n",
       "NOC2L     0                                                                   \n",
       "KLHL17    0                                                                   \n",
       "          GSE180661_HGSOC_SPECTRUM-OV-045_S1_CD45P_LEFT_OVARY_TGTGAGTTCGGAAACG\n",
       "FAM87B    0                                                                   \n",
       "LINC00115 0                                                                   \n",
       "FAM41C    0                                                                   \n",
       "SAMD11    0                                                                   \n",
       "NOC2L     0                                                                   \n",
       "KLHL17    0                                                                   "
      ]
     },
     "metadata": {},
     "output_type": "display_data"
    }
   ],
   "source": [
    "head(expression_data)"
   ]
  },
  {
   "cell_type": "code",
   "execution_count": 32,
   "metadata": {
    "vscode": {
     "languageId": "r"
    }
   },
   "outputs": [],
   "source": [
    "#check if any cells are zero for all genes\n",
    "zero_cells <- apply(expression_data, 2, function(x) all(x == 0))"
   ]
  },
  {
   "cell_type": "code",
   "execution_count": 33,
   "metadata": {
    "vscode": {
     "languageId": "r"
    }
   },
   "outputs": [
    {
     "name": "stdout",
     "output_type": "stream",
     "text": [
      "character(0)\n"
     ]
    }
   ],
   "source": [
    "# Identify the columns (cell ids) that are zero for all genes\n",
    "cells_zero_all_genes <- names(zero_cells[zero_cells == TRUE])\n",
    "\n",
    "# Print the result\n",
    "print(cells_zero_all_genes)"
   ]
  },
  {
   "cell_type": "code",
   "execution_count": 65,
   "metadata": {
    "vscode": {
     "languageId": "r"
    }
   },
   "outputs": [],
   "source": [
    "#extract annotation data\n",
    "meta <- data@meta.data\n",
    "annotation_data <- data.frame(\n",
    "  cell_id = rownames(meta),  \n",
    "  annotation = meta$NR_annotations_simple  \n",
    ")"
   ]
  },
  {
   "cell_type": "code",
   "execution_count": 42,
   "metadata": {
    "vscode": {
     "languageId": "r"
    }
   },
   "outputs": [],
   "source": [
    "#annotation_data <- as.matrix(annotation_data)\n",
    "colnames(annotation_data) <- NULL\n",
    "rownames(annotation_data) <- NULL"
   ]
  },
  {
   "cell_type": "code",
   "execution_count": 70,
   "metadata": {
    "vscode": {
     "languageId": "r"
    }
   },
   "outputs": [
    {
     "data": {
      "text/html": [
       "<table class=\"dataframe\">\n",
       "<caption>A data.frame: 6 × 2</caption>\n",
       "<thead>\n",
       "\t<tr><th></th><th scope=col>cell_id</th><th scope=col>annotation</th></tr>\n",
       "\t<tr><th></th><th scope=col>&lt;chr&gt;</th><th scope=col>&lt;fct&gt;</th></tr>\n",
       "</thead>\n",
       "<tbody>\n",
       "\t<tr><th scope=row>1</th><td>GSE215120_AM1_AAATGCCCAGAGCCAA-1</td><td>cDC2</td></tr>\n",
       "\t<tr><th scope=row>2</th><td>GSE215120_AM1_ACACTGATCCACTGGG-1</td><td>cDC2</td></tr>\n",
       "\t<tr><th scope=row>3</th><td>GSE215120_AM1_ACAGCCGCAAACCTAC-1</td><td>cDC2</td></tr>\n",
       "\t<tr><th scope=row>4</th><td>GSE215120_AM1_ACCAGTAAGACTGGGT-1</td><td>cDC1</td></tr>\n",
       "\t<tr><th scope=row>5</th><td>GSE215120_AM1_ACGTCAACAAGGACTG-1</td><td>cDC1</td></tr>\n",
       "\t<tr><th scope=row>6</th><td>GSE215120_AM1_ACGTCAATCCGCATCT-1</td><td>cDC2</td></tr>\n",
       "</tbody>\n",
       "</table>\n"
      ],
      "text/latex": [
       "A data.frame: 6 × 2\n",
       "\\begin{tabular}{r|ll}\n",
       "  & cell\\_id & annotation\\\\\n",
       "  & <chr> & <fct>\\\\\n",
       "\\hline\n",
       "\t1 & GSE215120\\_AM1\\_AAATGCCCAGAGCCAA-1 & cDC2\\\\\n",
       "\t2 & GSE215120\\_AM1\\_ACACTGATCCACTGGG-1 & cDC2\\\\\n",
       "\t3 & GSE215120\\_AM1\\_ACAGCCGCAAACCTAC-1 & cDC2\\\\\n",
       "\t4 & GSE215120\\_AM1\\_ACCAGTAAGACTGGGT-1 & cDC1\\\\\n",
       "\t5 & GSE215120\\_AM1\\_ACGTCAACAAGGACTG-1 & cDC1\\\\\n",
       "\t6 & GSE215120\\_AM1\\_ACGTCAATCCGCATCT-1 & cDC2\\\\\n",
       "\\end{tabular}\n"
      ],
      "text/markdown": [
       "\n",
       "A data.frame: 6 × 2\n",
       "\n",
       "| <!--/--> | cell_id &lt;chr&gt; | annotation &lt;fct&gt; |\n",
       "|---|---|---|\n",
       "| 1 | GSE215120_AM1_AAATGCCCAGAGCCAA-1 | cDC2 |\n",
       "| 2 | GSE215120_AM1_ACACTGATCCACTGGG-1 | cDC2 |\n",
       "| 3 | GSE215120_AM1_ACAGCCGCAAACCTAC-1 | cDC2 |\n",
       "| 4 | GSE215120_AM1_ACCAGTAAGACTGGGT-1 | cDC1 |\n",
       "| 5 | GSE215120_AM1_ACGTCAACAAGGACTG-1 | cDC1 |\n",
       "| 6 | GSE215120_AM1_ACGTCAATCCGCATCT-1 | cDC2 |\n",
       "\n"
      ],
      "text/plain": [
       "  cell_id                          annotation\n",
       "1 GSE215120_AM1_AAATGCCCAGAGCCAA-1 cDC2      \n",
       "2 GSE215120_AM1_ACACTGATCCACTGGG-1 cDC2      \n",
       "3 GSE215120_AM1_ACAGCCGCAAACCTAC-1 cDC2      \n",
       "4 GSE215120_AM1_ACCAGTAAGACTGGGT-1 cDC1      \n",
       "5 GSE215120_AM1_ACGTCAACAAGGACTG-1 cDC1      \n",
       "6 GSE215120_AM1_ACGTCAATCCGCATCT-1 cDC2      "
      ]
     },
     "metadata": {},
     "output_type": "display_data"
    }
   ],
   "source": [
    "head(annotation_data)"
   ]
  },
  {
   "cell_type": "code",
   "execution_count": 69,
   "metadata": {
    "vscode": {
     "languageId": "r"
    }
   },
   "outputs": [
    {
     "data": {
      "text/html": [
       "<style>\n",
       ".list-inline {list-style: none; margin:0; padding: 0}\n",
       ".list-inline>li {display: inline-block}\n",
       ".list-inline>li:not(:last-child)::after {content: \"\\00b7\"; padding: 0 .5ex}\n",
       "</style>\n",
       "<ol class=list-inline><li>15074</li><li>30241</li></ol>\n"
      ],
      "text/latex": [
       "\\begin{enumerate*}\n",
       "\\item 15074\n",
       "\\item 30241\n",
       "\\end{enumerate*}\n"
      ],
      "text/markdown": [
       "1. 15074\n",
       "2. 30241\n",
       "\n",
       "\n"
      ],
      "text/plain": [
       "[1] 15074 30241"
      ]
     },
     "metadata": {},
     "output_type": "display_data"
    },
    {
     "data": {
      "text/html": [
       "<style>\n",
       ".list-inline {list-style: none; margin:0; padding: 0}\n",
       ".list-inline>li {display: inline-block}\n",
       ".list-inline>li:not(:last-child)::after {content: \"\\00b7\"; padding: 0 .5ex}\n",
       "</style>\n",
       "<ol class=list-inline><li>30241</li><li>2</li></ol>\n"
      ],
      "text/latex": [
       "\\begin{enumerate*}\n",
       "\\item 30241\n",
       "\\item 2\n",
       "\\end{enumerate*}\n"
      ],
      "text/markdown": [
       "1. 30241\n",
       "2. 2\n",
       "\n",
       "\n"
      ],
      "text/plain": [
       "[1] 30241     2"
      ]
     },
     "metadata": {},
     "output_type": "display_data"
    }
   ],
   "source": [
    "dim(expression_data)\n",
    "dim(annotation_data)"
   ]
  },
  {
   "cell_type": "code",
   "execution_count": 12,
   "metadata": {
    "vscode": {
     "languageId": "r"
    }
   },
   "outputs": [
    {
     "name": "stderr",
     "output_type": "stream",
     "text": [
      "The number of cells in your dataset exceeds 3,000. CytoTRACE will now be run in fast mode (see documentation). You can multi-thread this run using the 'ncores' flag. To disable fast mode, please indicate 'enableFast = FALSE'.\n",
      "\n",
      "Warning message in CytoTRACE(expression_data):\n",
      "“33 genes have zero expression in the matrix and were filtered”\n",
      "CytoTRACE will be run on 30 sub-sample(s) of approximately 1008 cells each using 1 / 1 core(s)\n",
      "\n",
      "Pre-processing data and generating similarity matrix...\n",
      "\n",
      "Calculating gene counts signature...\n",
      "\n",
      "Smoothing values with NNLS regression and diffusion...\n",
      "\n",
      "Calculating genes associated with CytoTRACE...\n",
      "\n",
      "Done\n",
      "\n"
     ]
    }
   ],
   "source": [
    "# Run cytotrace \n",
    "Results <- CytoTRACE(expression_data)"
   ]
  },
  {
   "cell_type": "code",
   "execution_count": 47,
   "metadata": {
    "vscode": {
     "languageId": "r"
    }
   },
   "outputs": [
    {
     "name": "stdout",
     "output_type": "stream",
     "text": [
      "List of 8\n",
      " $ CytoTRACE    : Named num [1:30241] 0.355 0.37 0.552 0.44 0.747 ...\n",
      "  ..- attr(*, \"names\")= chr [1:30241] \"GSE215120_AM1_AAATGCCCAGAGCCAA-1\" \"GSE215120_AM1_ACACTGATCCACTGGG-1\" \"GSE215120_AM1_ACAGCCGCAAACCTAC-1\" \"GSE215120_AM1_ACCAGTAAGACTGGGT-1\" ...\n",
      " $ CytoTRACErank: Named num [1:30241] 360 376 559 446 755 774 291 320 758 754 ...\n",
      "  ..- attr(*, \"names\")= chr [1:30241] \"GSE215120_AM1_AAATGCCCAGAGCCAA-1\" \"GSE215120_AM1_ACACTGATCCACTGGG-1\" \"GSE215120_AM1_ACAGCCGCAAACCTAC-1\" \"GSE215120_AM1_ACCAGTAAGACTGGGT-1\" ...\n",
      " $ cytoGenes    : Named num [1:15041] 0.788 0.785 0.775 0.774 0.774 ...\n",
      "  ..- attr(*, \"names\")= chr [1:15041] \"RPS14\" \"RPS8\" \"RPL18A\" \"RPSA\" ...\n",
      " $ GCS          : Named num [1:30241] 1.97 1.92 1.72 1.54 2.47 ...\n",
      "  ..- attr(*, \"names\")= chr [1:30241] \"GSE215120_AM1_AAATGCCCAGAGCCAA-1\" \"GSE215120_AM1_ACACTGATCCACTGGG-1\" \"GSE215120_AM1_ACAGCCGCAAACCTAC-1\" \"GSE215120_AM1_ACCAGTAAGACTGGGT-1\" ...\n",
      " $ gcsGenes     : Named num [1:15041] 0.777 0.769 0.762 0.758 0.757 ...\n",
      "  ..- attr(*, \"names\")= chr [1:15041] \"H3F3A\" \"RPL37\" \"UBA52\" \"TPT1\" ...\n",
      " $ Counts       : Named int [1:30241] 2474 2651 2023 1369 3699 1908 1399 1395 1712 2615 ...\n",
      "  ..- attr(*, \"names\")= chr [1:30241] \"GSE215120_AM1_AAATGCCCAGAGCCAA-1\" \"GSE215120_AM1_ACACTGATCCACTGGG-1\" \"GSE215120_AM1_ACAGCCGCAAACCTAC-1\" \"GSE215120_AM1_ACCAGTAAGACTGGGT-1\" ...\n",
      " $ filteredCells: chr(0) \n",
      " $ exprMatrix   : num [1:15041, 1:30241] 0 0 0 0 0 ...\n",
      "  ..- attr(*, \"dimnames\")=List of 2\n",
      "  .. ..$ : chr [1:15041] \"FAM87B\" \"LINC00115\" \"FAM41C\" \"SAMD11\" ...\n",
      "  .. ..$ : chr [1:30241] \"GSE215120_AM1_AAATGCCCAGAGCCAA-1\" \"GSE215120_AM1_ACACTGATCCACTGGG-1\" \"GSE215120_AM1_ACAGCCGCAAACCTAC-1\" \"GSE215120_AM1_ACCAGTAAGACTGGGT-1\" ...\n"
     ]
    }
   ],
   "source": [
    "str(Results)"
   ]
  },
  {
   "cell_type": "code",
   "execution_count": 64,
   "metadata": {
    "vscode": {
     "languageId": "r"
    }
   },
   "outputs": [
    {
     "data": {
      "text/html": [
       "<style>\n",
       ".dl-inline {width: auto; margin:0; padding: 0}\n",
       ".dl-inline>dt, .dl-inline>dd {float: none; width: auto; display: inline-block}\n",
       ".dl-inline>dt::after {content: \":\\0020\"; padding-right: .5ex}\n",
       ".dl-inline>dt:not(:first-of-type) {padding-left: .5ex}\n",
       "</style><dl class=dl-inline><dt>GSE215120_AM1_AAATGCCCAGAGCCAA-1</dt><dd>0.354549975136748</dd><dt>GSE215120_AM1_ACACTGATCCACTGGG-1</dt><dd>0.370462456489309</dd><dt>GSE215120_AM1_ACAGCCGCAAACCTAC-1</dt><dd>0.552461461959224</dd><dt>GSE215120_AM1_ACCAGTAAGACTGGGT-1</dt><dd>0.440079562406763</dd><dt>GSE215120_AM1_ACGTCAACAAGGACTG-1</dt><dd>0.747389358528096</dd></dl>\n"
      ],
      "text/latex": [
       "\\begin{description*}\n",
       "\\item[GSE215120\\textbackslash{}\\_AM1\\textbackslash{}\\_AAATGCCCAGAGCCAA-1] 0.354549975136748\n",
       "\\item[GSE215120\\textbackslash{}\\_AM1\\textbackslash{}\\_ACACTGATCCACTGGG-1] 0.370462456489309\n",
       "\\item[GSE215120\\textbackslash{}\\_AM1\\textbackslash{}\\_ACAGCCGCAAACCTAC-1] 0.552461461959224\n",
       "\\item[GSE215120\\textbackslash{}\\_AM1\\textbackslash{}\\_ACCAGTAAGACTGGGT-1] 0.440079562406763\n",
       "\\item[GSE215120\\textbackslash{}\\_AM1\\textbackslash{}\\_ACGTCAACAAGGACTG-1] 0.747389358528096\n",
       "\\end{description*}\n"
      ],
      "text/markdown": [
       "GSE215120_AM1_AAATGCCCAGAGCCAA-1\n",
       ":   0.354549975136748GSE215120_AM1_ACACTGATCCACTGGG-1\n",
       ":   0.370462456489309GSE215120_AM1_ACAGCCGCAAACCTAC-1\n",
       ":   0.552461461959224GSE215120_AM1_ACCAGTAAGACTGGGT-1\n",
       ":   0.440079562406763GSE215120_AM1_ACGTCAACAAGGACTG-1\n",
       ":   0.747389358528096\n",
       "\n"
      ],
      "text/plain": [
       "GSE215120_AM1_AAATGCCCAGAGCCAA-1 GSE215120_AM1_ACACTGATCCACTGGG-1 \n",
       "                       0.3545500                        0.3704625 \n",
       "GSE215120_AM1_ACAGCCGCAAACCTAC-1 GSE215120_AM1_ACCAGTAAGACTGGGT-1 \n",
       "                       0.5524615                        0.4400796 \n",
       "GSE215120_AM1_ACGTCAACAAGGACTG-1 \n",
       "                       0.7473894 "
      ]
     },
     "metadata": {},
     "output_type": "display_data"
    }
   ],
   "source": [
    "head(Results$CytoTRACE, 5)"
   ]
  },
  {
   "cell_type": "code",
   "execution_count": 53,
   "metadata": {
    "vscode": {
     "languageId": "r"
    }
   },
   "outputs": [
    {
     "data": {
      "text/html": [
       "'numeric'"
      ],
      "text/latex": [
       "'numeric'"
      ],
      "text/markdown": [
       "'numeric'"
      ],
      "text/plain": [
       "[1] \"numeric\""
      ]
     },
     "metadata": {},
     "output_type": "display_data"
    }
   ],
   "source": [
    "class(Results$CytoTRACE)"
   ]
  },
  {
   "cell_type": "code",
   "execution_count": 57,
   "metadata": {
    "vscode": {
     "languageId": "r"
    }
   },
   "outputs": [
    {
     "name": "stdout",
     "output_type": "stream",
     "text": [
      " Named num [1:30241] 0.355 0.37 0.552 0.44 0.747 ...\n",
      " - attr(*, \"names\")= chr [1:30241] \"GSE215120_AM1_AAATGCCCAGAGCCAA-1\" \"GSE215120_AM1_ACACTGATCCACTGGG-1\" \"GSE215120_AM1_ACAGCCGCAAACCTAC-1\" \"GSE215120_AM1_ACCAGTAAGACTGGGT-1\" ...\n"
     ]
    }
   ],
   "source": [
    "# View the structure of the object\n",
    "object_structure <- str(Results$CytoTRACE)"
   ]
  },
  {
   "cell_type": "code",
   "execution_count": 72,
   "metadata": {
    "vscode": {
     "languageId": "r"
    }
   },
   "outputs": [
    {
     "name": "stderr",
     "output_type": "stream",
     "text": [
      "Running t-SNE. To use your own coordinates, use the 'emb' flag.\n",
      "\n"
     ]
    },
    {
     "data": {
      "image/png": "[encoded data removed]",
      "text/plain": [
       "plot without title"
      ]
     },
     "metadata": {
      "image/png": {
       "height": 420,
       "width": 420
      }
     },
     "output_type": "display_data"
    }
   ],
   "source": [
    "plotCytoTRACE(Results, gene = \"LAMP3\")"
   ]
  },
  {
   "cell_type": "code",
   "execution_count": 74,
   "metadata": {
    "vscode": {
     "languageId": "r"
    }
   },
   "outputs": [
    {
     "data": {
      "text/html": [
       "<style>\n",
       ".list-inline {list-style: none; margin:0; padding: 0}\n",
       ".list-inline>li {display: inline-block}\n",
       ".list-inline>li:not(:last-child)::after {content: \"\\00b7\"; padding: 0 .5ex}\n",
       "</style>\n",
       "<ol class=list-inline><li>30241</li><li>2</li></ol>\n"
      ],
      "text/latex": [
       "\\begin{enumerate*}\n",
       "\\item 30241\n",
       "\\item 2\n",
       "\\end{enumerate*}\n"
      ],
      "text/markdown": [
       "1. 30241\n",
       "2. 2\n",
       "\n",
       "\n"
      ],
      "text/plain": [
       "[1] 30241     2"
      ]
     },
     "metadata": {},
     "output_type": "display_data"
    }
   ],
   "source": [
    "dim(annotation_data)"
   ]
  },
  {
   "cell_type": "code",
   "execution_count": 62,
   "metadata": {
    "vscode": {
     "languageId": "r"
    }
   },
   "outputs": [
    {
     "name": "stderr",
     "output_type": "stream",
     "text": [
      "Warning message:\n",
      "“\u001b[1m\u001b[22mThe `guide` argument in `scale_*()` cannot be `FALSE`. This was deprecated in ggplot2 3.3.4.\n",
      "\u001b[36mℹ\u001b[39m Please use \"none\" instead.\n",
      "\u001b[36mℹ\u001b[39m The deprecated feature was likely used in the \u001b[34mCytoTRACE\u001b[39m package.\n",
      "  Please report the issue to the authors.”\n"
     ]
    },
    {
     "data": {
      "text/html": [
       "<strong>pdf:</strong> 2"
      ],
      "text/latex": [
       "\\textbf{pdf:} 2"
      ],
      "text/markdown": [
       "**pdf:** 2"
      ],
      "text/plain": [
       "pdf \n",
       "  2 "
      ]
     },
     "metadata": {},
     "output_type": "display_data"
    }
   ],
   "source": [
    "plotCytoGenes(Results, numOfGenes = 10)"
   ]
  },
  {
   "cell_type": "code",
   "execution_count": 83,
   "metadata": {
    "vscode": {
     "languageId": "r"
    }
   },
   "outputs": [],
   "source": [
    "#convert the CytoTRACE results to dataframe \n",
    "df <- data.frame(CytoTRACE_Predicted_order = Results$CytoTRACE)"
   ]
  },
  {
   "cell_type": "code",
   "execution_count": 84,
   "metadata": {
    "vscode": {
     "languageId": "r"
    }
   },
   "outputs": [
    {
     "data": {
      "text/html": [
       "<table class=\"dataframe\">\n",
       "<caption>A data.frame: 6 × 1</caption>\n",
       "<thead>\n",
       "\t<tr><th></th><th scope=col>CytoTRACE_Predicted_order</th></tr>\n",
       "\t<tr><th></th><th scope=col>&lt;dbl&gt;</th></tr>\n",
       "</thead>\n",
       "<tbody>\n",
       "\t<tr><th scope=row>GSE215120_AM1_AAATGCCCAGAGCCAA-1</th><td>0.3545500</td></tr>\n",
       "\t<tr><th scope=row>GSE215120_AM1_ACACTGATCCACTGGG-1</th><td>0.3704625</td></tr>\n",
       "\t<tr><th scope=row>GSE215120_AM1_ACAGCCGCAAACCTAC-1</th><td>0.5524615</td></tr>\n",
       "\t<tr><th scope=row>GSE215120_AM1_ACCAGTAAGACTGGGT-1</th><td>0.4400796</td></tr>\n",
       "\t<tr><th scope=row>GSE215120_AM1_ACGTCAACAAGGACTG-1</th><td>0.7473894</td></tr>\n",
       "\t<tr><th scope=row>GSE215120_AM1_ACGTCAATCCGCATCT-1</th><td>0.7662854</td></tr>\n",
       "</tbody>\n",
       "</table>\n"
      ],
      "text/latex": [
       "A data.frame: 6 × 1\n",
       "\\begin{tabular}{r|l}\n",
       "  & CytoTRACE\\_Predicted\\_order\\\\\n",
       "  & <dbl>\\\\\n",
       "\\hline\n",
       "\tGSE215120\\_AM1\\_AAATGCCCAGAGCCAA-1 & 0.3545500\\\\\n",
       "\tGSE215120\\_AM1\\_ACACTGATCCACTGGG-1 & 0.3704625\\\\\n",
       "\tGSE215120\\_AM1\\_ACAGCCGCAAACCTAC-1 & 0.5524615\\\\\n",
       "\tGSE215120\\_AM1\\_ACCAGTAAGACTGGGT-1 & 0.4400796\\\\\n",
       "\tGSE215120\\_AM1\\_ACGTCAACAAGGACTG-1 & 0.7473894\\\\\n",
       "\tGSE215120\\_AM1\\_ACGTCAATCCGCATCT-1 & 0.7662854\\\\\n",
       "\\end{tabular}\n"
      ],
      "text/markdown": [
       "\n",
       "A data.frame: 6 × 1\n",
       "\n",
       "| <!--/--> | CytoTRACE_Predicted_order &lt;dbl&gt; |\n",
       "|---|---|\n",
       "| GSE215120_AM1_AAATGCCCAGAGCCAA-1 | 0.3545500 |\n",
       "| GSE215120_AM1_ACACTGATCCACTGGG-1 | 0.3704625 |\n",
       "| GSE215120_AM1_ACAGCCGCAAACCTAC-1 | 0.5524615 |\n",
       "| GSE215120_AM1_ACCAGTAAGACTGGGT-1 | 0.4400796 |\n",
       "| GSE215120_AM1_ACGTCAACAAGGACTG-1 | 0.7473894 |\n",
       "| GSE215120_AM1_ACGTCAATCCGCATCT-1 | 0.7662854 |\n",
       "\n"
      ],
      "text/plain": [
       "                                 CytoTRACE_Predicted_order\n",
       "GSE215120_AM1_AAATGCCCAGAGCCAA-1 0.3545500                \n",
       "GSE215120_AM1_ACACTGATCCACTGGG-1 0.3704625                \n",
       "GSE215120_AM1_ACAGCCGCAAACCTAC-1 0.5524615                \n",
       "GSE215120_AM1_ACCAGTAAGACTGGGT-1 0.4400796                \n",
       "GSE215120_AM1_ACGTCAACAAGGACTG-1 0.7473894                \n",
       "GSE215120_AM1_ACGTCAATCCGCATCT-1 0.7662854                "
      ]
     },
     "metadata": {},
     "output_type": "display_data"
    }
   ],
   "source": [
    "head(df)"
   ]
  },
  {
   "cell_type": "code",
   "execution_count": 85,
   "metadata": {
    "vscode": {
     "languageId": "r"
    }
   },
   "outputs": [],
   "source": [
    "write.csv(df, \"CytoTRACE_Predicted_order_export.csv\", row.names = TRUE)"
   ]
  },
  {
   "cell_type": "code",
   "execution_count": 86,
   "metadata": {
    "vscode": {
     "languageId": "r"
    }
   },
   "outputs": [
    {
     "name": "stdout",
     "output_type": "stream",
     "text": [
      "CytoTRACE              package:CytoTRACE               R Documentation\n",
      "\n",
      "_\bC_\by_\bt_\bo_\bT_\bR_\bA_\bC_\bE\n",
      "\n",
      "_\bD_\be_\bs_\bc_\br_\bi_\bp_\bt_\bi_\bo_\bn:\n",
      "\n",
      "     This function generates single-cell predictions of differentiation\n",
      "     status from scRNA-seq data. It takes in a matrix of gene\n",
      "     expression values where columns are cells and rows are genes.\n",
      "\n",
      "     (Optional) Technical batches can be corrected with ComBat by\n",
      "     inputting a character vector of batch annotations matching the\n",
      "     number of columns (cells) in the matrix. Furthermore, for the\n",
      "     analysis of large datasets (>3,000 cells), users can increase the\n",
      "     speed performance by enabling a subsampling approach for\n",
      "     calculation and using multiple cores.\n",
      "\n",
      "_\bU_\bs_\ba_\bg_\be:\n",
      "\n",
      "     CytoTRACE(\n",
      "       mat,\n",
      "       batch = NULL,\n",
      "       enableFast = TRUE,\n",
      "       ncores = 1,\n",
      "       subsamplesize = 1000\n",
      "     )\n",
      "     \n",
      "_\bA_\br_\bg_\bu_\bm_\be_\bn_\bt_\bs:\n",
      "\n",
      "     mat: matrix of gene expression values where columns are cells and\n",
      "          rows are genes\n",
      "\n",
      "   batch: character vector of length equal to the number of columns\n",
      "          (cells) in the matrix\n",
      "\n",
      "enableFast: boolean indicating whether or not to run CytoTRACE in 'fast\n",
      "          mode' for datasets with >3,000 cells. Fast mode uses a\n",
      "          subsampling approach to reduce runtime.\n",
      "\n",
      "  ncores: integer indicating the number of cores to utilize when\n",
      "          enableFast = TRUE\n",
      "\n",
      "subsamplesize: integer indicating the number of cells to subsample when\n",
      "          enableFast = TRUE\n",
      "\n",
      "_\bV_\ba_\bl_\bu_\be:\n",
      "\n",
      "     a list containing\n",
      "\n",
      "        • CytoTRACE: a numeric vector of the predicted ordering of\n",
      "          single cells from 1.0 (least differentiated) to 0.0 (most\n",
      "          differentiated)\n",
      "\n",
      "        • CytoTRACErank: a numeric vector of the ranked predicted\n",
      "          ordering of single cells by differentiation status. High\n",
      "          ranks correspond to less differentiated cells, while low\n",
      "          ranks correspond to more differentiated cells.\n",
      "\n",
      "        • cytoGenes: a numeric vector of the Pearson correlation of\n",
      "          each gene with CytoTRACE, ordered from highest to lowest\n",
      "\n",
      "        • GCS: a numeric vector of the gene counts signature (geometric\n",
      "          mean of the top 200 genes associated with gene counts)\n",
      "\n",
      "        • gcsGenes: a numeric vector of the Pearson correlation of each\n",
      "          gene with gene counts, ordered from highest to lowest\n",
      "\n",
      "        • Counts: a numeric vector of the number of genes expressed per\n",
      "          single cell (gene counts)\n",
      "\n",
      "        • filteredCells: a character vector of the names of single\n",
      "          cells (columns) that were filtered due to poor quality.\n",
      "\n",
      "        • exprMatrix: a matrix of gene expression values after the\n",
      "          following normalization steps: (i) sequencing depth\n",
      "          normalization by rescaling single-cell transcriptomes to\n",
      "          transcripts per million (TPM) or counts per million (CPM)\n",
      "          (ii) log2-normalization with a pseudo-count of 1, and (iii)\n",
      "          Census normalization (Qiu et al., 2017) to convert the gene\n",
      "          expression matrix to relative transcript counts by rescaling\n",
      "          single-cell transcriptomes to the total number of detectably\n",
      "          expressed genes in that cell.\n",
      "\n",
      "_\bA_\bu_\bt_\bh_\bo_\br(_\bs):\n",
      "\n",
      "     Gunsagar Gulati <cytotrace@gmail.com>\n",
      "\n",
      "_\bR_\be_\bf_\be_\br_\be_\bn_\bc_\be_\bs:\n",
      "\n",
      "     https://doi.org/10.1101/649848\n",
      "\n",
      "_\bS_\be_\be _\bA_\bl_\bs_\bo:\n",
      "\n",
      "     https://cytotrace.stanford.edu\n",
      "\n",
      "_\bE_\bx_\ba_\bm_\bp_\bl_\be_\bs:\n",
      "\n",
      "     #Use the bone marrow 10x scRNA-seq dataset to run CytoTRACE\n",
      "     results <- CytoTRACE(marrow_10x_expr)\n",
      "     \n",
      "     #Run this dataset on fast mode using 1 core\n",
      "     results <- CytoTRACE(marrow_10x_expr, enableFast = TRUE, ncores = 1)\n",
      "     "
     ]
    }
   ],
   "source": [
    "help(CytoTRACE)"
   ]
  }
 ],
 "metadata": {
  "kernelspec": {
   "display_name": "R",
   "language": "R",
   "name": "ir"
  },
  "language_info": {
   "codemirror_mode": "r",
   "file_extension": ".r",
   "mimetype": "text/x-r-source",
   "name": "R",
   "pygments_lexer": "r",
   "version": "4.3.3"
  }
 },
 "nbformat": 4,
 "nbformat_minor": 2
}
