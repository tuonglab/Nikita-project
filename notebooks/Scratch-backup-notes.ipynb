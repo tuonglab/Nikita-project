{
 "cells": [
  {
   "cell_type": "markdown",
   "metadata": {},
   "source": [
    "2025-04-08\n",
    "\n",
    "* sc_AllDC --> copy to nikita/sc_AllDC -- done\n",
    "* TCGA_Data --> copy to nikita/TCGA_datasets -- done\n",
    "* scdata/Pathway4Prism --> copy to nikita/scdata/Python_Objects_Backup_20250408 -- done\n",
    "* scdata/Pseudobulk --> copy to nikita/scdata/Python_Objects_Backup_20250408 -- done\n",
    "* scdata/Python_Integration_Sep --> copy to nikita/scdata/Python_Objects_Backup_20250408\n",
    "* scdata/SCENIC-R --> copy to nikita/scdata/Python_Objects_Backup_20250408 -- done\n",
    "\n",
    "``` bash\n",
    "rsync -azvhp /scratch/user/s4436039/sc_AllDC/ /QRISdata/Q5935/nikita/sc_AllDC\n",
    "\n",
    "rsync -azvhp /scratch/user/s4436039/TCGA_Data/ /QRISdata/Q5935/nikita/TCGA_datasets\n",
    "\n",
    "rsync -azvhp /scratch/user/s4436039/scdata/Pathway4Prism/ /QRISdata/Q5935/nikita/scdata/Python_Objects_Backup_20250408/Pathway4Prism\n",
    "\n",
    "rsync -azvhp /scratch/user/s4436039/scdata/Pseudobulk/ /QRISdata/Q5935/nikita/scdata/Python_Objects_Backup_20250408/Pseudobulk\n",
    "\n",
    "rsync -azvhp /scratch/user/s4436039/scdata/Python_Integration_Sep/ /QRISdata/Q5935/nikita/scdata/Python_Objects_Backup_20250408/Python_Integration_Sep\n",
    "\n",
    "rsync -azvhp /scratch/user/s4436039/scdata/SCENIC-R/ /QRISdata/Q5935/nikita/scdata/Python_Objects_Backup_20250408/SCENIC-R\n",
    "```"
   ]
  }
 ],
 "metadata": {
  "kernelspec": {
   "display_name": "R",
   "language": "R",
   "name": "ir"
  },
  "language_info": {
   "name": "R"
  }
 },
 "nbformat": 4,
 "nbformat_minor": 2
}
