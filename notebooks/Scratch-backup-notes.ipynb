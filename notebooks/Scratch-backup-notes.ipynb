{
 "cells": [
  {
   "cell_type": "markdown",
   "metadata": {},
   "source": [
    "2025-04-08\n",
    "\n",
    "* sc_AllDC --> copy to nikita/sc_AllDC -- done\n",
    "* TCGA_Data --> copy to nikita/TCGA_datasets -- done\n",
    "* scdata/Pathway4Prism --> copy to nikita/scdata/Python_Objects_Backup_20250408 -- done\n",
    "* scdata/Pseudobulk --> copy to nikita/scdata/Python_Objects_Backup_20250408 -- done\n",
    "* scdata/Python_Integration_Sep --> copy to nikita/scdata/Python_Objects_Backup_20250408\n",
    "* scdata/SCENIC-R --> copy to nikita/scdata/Python_Objects_Backup_20250408 -- done\n",
    "\n",
    "``` bash\n",
    "rsync -azvhp /scratch/user/s4436039/sc_AllDC/ /QRISdata/Q5935/nikita/sc_AllDC\n",
    "\n",
    "rsync -azvhp /scratch/user/s4436039/TCGA_Data/ /QRISdata/Q5935/nikita/TCGA_datasets\n",
    "\n",
    "rsync -azvhp /scratch/user/s4436039/scdata/Pathway4Prism/ /QRISdata/Q5935/nikita/scdata/Python_Objects_Backup_20250408/Pathway4Prism\n",
    "\n",
    "rsync -azvhp /scratch/user/s4436039/scdata/Pseudobulk/ /QRISdata/Q5935/nikita/scdata/Python_Objects_Backup_20250408/Pseudobulk\n",
    "\n",
    "rsync -azvhp /scratch/user/s4436039/scdata/Python_Integration_Sep/ /QRISdata/Q5935/nikita/scdata/Python_Objects_Backup_20250408/Python_Integration_Sep\n",
    "\n",
    "rsync -azvhp /scratch/user/s4436039/scdata/SCENIC-R/ /QRISdata/Q5935/nikita/scdata/Python_Objects_Backup_20250408/SCENIC-R\n",
    "```"
   ]
  },
  {
   "cell_type": "markdown",
   "metadata": {},
   "source": [
    "2025-05-27\n",
    "\n",
    "* cNMF --> copy to nikita/scdata/Python_Objects_Backup_20250527/cNMF --\n",
    "* tables/images in Python_Integration_Sep --> copy to nikita/scdata/Python_Objects_Backup_20250527/Python_Integration_Sep -- done\n",
    "* Atlas objects --> all moved to /Myeloid_Objects on scratch and copies to nikita/scdata/Python_Objects_Backup_20250527/Myeloid_Objects on RDM --\n",
    "\n",
    "``` bash\n",
    "rsync -azvhp /scratch/user/s4436039/scdata/cNMF/ /QRISdata/Q5935/nikita/scdata/Python_Objects_Backup_20250527/cNMF\n",
    "\n",
    "mkdir -p /QRISdata/Q5935/nikita/scdata/Python_Objects_Backup_20250527/Python_Integration_Sep\n",
    "rsync -azvhp /scratch/user/s4436039/scdata/Python_Integration_Sep/ /QRISdata/Q5935/nikita/scdata/Python_Objects_Backup_20250527/Python_Integration_Sep\n",
    "\n",
    "mkdir -p /QRISdata/Q5935/nikita/scdata/Python_Objects_Backup_20250527/Myeloid_Objects\n",
    "rsync -azvhp /scratch/user/s4436039/scdata/Myeloid_Objects/ /QRISdata/Q5935/nikita/scdata/Python_Objects_Backup_20250527/Myeloid_Objects\n",
    "\n",
    "```"
   ]
  },
  {
   "cell_type": "markdown",
   "metadata": {},
   "source": [
    "2025-07-28\n",
    "\n",
    "* Brown_Minutti_Data folder --> copy to nikita/scdata/Python_Objects_Backup_20250728/Brown_Minutti_Data -- done\n",
    "* Cheng_meta_download folder --> copy to nikita/scdata/Python_Objects_Backup_20250728/Cheng_meta_download -- done\n",
    "* cNMF folder --> already backed up previously -- done\n",
    "* DC_Visualise folder --> only contains figures (UMAP breakdown by cancer) already downloaded to i drive/ onedrive so dont need to backup here, delete from scratch -- done\n",
    "* GSE225600 folder --> just contains RDS object (already on RDM) and figures already used, don't need to backup here -- done\n",
    "* Myeloid_Objects folder --> *** contained lots of figures/deg lists already exported elsewhere so those were deleted, contains lots of h5ad objects - copied to nikita/scdata/Python_Objects_Backup_20250728/Myeloid_Objects --\n",
    "* Pseudobulk_figures folder --> contains csv's from pseudoblk correlation analysis and figures, copy to nikita/scdata/Python_Objects_Backup_20250728/Pseudobulk_figures -- done\n",
    "* Python_Integration_Sep folder --> lots of exported csvs/figs. Most already backed up last time, new one (2025-05-28_DC_prop_pooled_Ascites.xlsx) manually added to RDM /scdata -- done\n",
    "\n",
    "``` bash\n",
    "\n",
    "mkdir -p /QRISdata/Q5935/nikita/scdata/Python_Objects_Backup_20250728/Brown_Minutti_Data\n",
    "rsync -azvhp /scratch/user/s4436039/scdata/Brown_Minutti_Data/ /QRISdata/Q5935/nikita/scdata/Python_Objects_Backup_20250728/Brown_Minutti_Data\n",
    "\n",
    "mkdir -p /QRISdata/Q5935/nikita/scdata/Python_Objects_Backup_20250728/Cheng_meta_download\n",
    "rsync -azvhp /scratch/user/s4436039/scdata/Cheng_meta_download/ /QRISdata/Q5935/nikita/scdata/Python_Objects_Backup_20250728/Cheng_meta_download\n",
    "\n",
    "mkdir -p /QRISdata/Q5935/nikita/scdata/Python_Objects_Backup_20250728/Pseudobulk_figures\n",
    "rsync -azvhp /scratch/user/s4436039/scdata/Pseudobulk_figures/ /QRISdata/Q5935/nikita/scdata/Python_Objects_Backup_20250728/Pseudobulk_figures\n",
    "\n",
    "mkdir -p /QRISdata/Q5935/nikita/scdata/Python_Objects_Backup_20250728/Myeloid_Objects\n",
    "rsync -azvhp /scratch/user/s4436039/scdata/Myeloid_Objects/ /QRISdata/Q5935/nikita/scdata/Python_Objects_Backup_20250728/Myeloid_Objects\n",
    "\n",
    "```"
   ]
  },
  {
   "cell_type": "markdown",
   "metadata": {},
   "source": [
    "``` bash\n",
    "rsync -azvhp /scratch/user/s4436039/scdata/Myeloid_Objects/MyeloidAPC_Atlas_Share.h5ad /QRISdata/Q5935/nikita/scdata/20250806_Myeloid_Objects_Manuscript_Share\n",
    "rsync -azvhp /scratch/user/s4436039/scdata/Myeloid_Objects/MyeloidAPC_DC_Share.h5ad /QRISdata/Q5935/nikita/scdata/20250806_Myeloid_Objects_Manuscript_Share\n",
    "rsync -azvhp /scratch/user/s4436039/scdata/Myeloid_Objects/MyeloidAPC_DC2_Share.h5ad /QRISdata/Q5935/nikita/scdata/20250806_Myeloid_Objects_Manuscript_Share\n",
    "rsync -azvhp /scratch/user/s4436039/scdata/Myeloid_Objects/MyeloidAPC_SCVI_Share.h5ad /QRISdata/Q5935/nikita/scdata/20250806_Myeloid_Objects_Manuscript_Share"
   ]
  }
 ],
 "metadata": {
  "kernelspec": {
   "display_name": "R",
   "language": "R",
   "name": "ir"
  },
  "language_info": {
   "name": "R"
  }
 },
 "nbformat": 4,
 "nbformat_minor": 2
}
