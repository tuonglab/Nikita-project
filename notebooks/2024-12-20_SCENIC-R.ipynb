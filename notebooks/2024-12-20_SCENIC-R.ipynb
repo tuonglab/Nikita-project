{
 "cells": [
  {
   "cell_type": "markdown",
   "metadata": {},
   "source": [
    "# SCENIC pathway in R\n",
    "* completing in R as head issues with pySCENIC\n",
    "\n",
    "## SCENIC Pipeline involved 3 steps:\n",
    "1. Infer co-expression network (```GRNBoost```)\n",
    "2. analysise TF binding motifs (```RcisTarget```)\n",
    "3. identify cells with active gene sets (gene-network) in scRNAseq data (```AUCell```)\n",
    "\n",
    "https://htmlpreview.github.io/?https://github.com/aertslab/SCENIC/blob/master/inst/doc/SCENIC_Setup.html"
   ]
  },
  {
   "cell_type": "markdown",
   "metadata": {},
   "source": [
    "# Import data (DC only)"
   ]
  },
  {
   "cell_type": "code",
   "execution_count": 2,
   "metadata": {
    "vscode": {
     "languageId": "r"
    }
   },
   "outputs": [
    {
     "data": {
      "text/html": [
       "'/scratch/user/s4436039/scdata/SCENIC-R'"
      ],
      "text/latex": [
       "'/scratch/user/s4436039/scdata/SCENIC-R'"
      ],
      "text/markdown": [
       "'/scratch/user/s4436039/scdata/SCENIC-R'"
      ],
      "text/plain": [
       "[1] \"/scratch/user/s4436039/scdata/SCENIC-R\""
      ]
     },
     "metadata": {},
     "output_type": "display_data"
    }
   ],
   "source": [
    "# set wd\n",
    "setwd('/scratch/user/s4436039/scdata/SCENIC-R')\n",
    "getwd()"
   ]
  },
  {
   "cell_type": "code",
   "execution_count": 3,
   "metadata": {
    "vscode": {
     "languageId": "r"
    }
   },
   "outputs": [
    {
     "name": "stderr",
     "output_type": "stream",
     "text": [
      "Loading required package: SeuratObject\n",
      "\n",
      "Loading required package: sp\n",
      "\n",
      "\n",
      "Attaching package: ‘SeuratObject’\n",
      "\n",
      "\n",
      "The following objects are masked from ‘package:base’:\n",
      "\n",
      "    intersect, t\n",
      "\n",
      "\n",
      "Loading required package: reticulate\n",
      "\n"
     ]
    }
   ],
   "source": [
    "library(Seurat)\n",
    "library(sceasy)\n",
    "library(reticulate)"
   ]
  },
  {
   "cell_type": "code",
   "execution_count": 4,
   "metadata": {
    "vscode": {
     "languageId": "r"
    }
   },
   "outputs": [],
   "source": [
    "h5ad_path = \"/scratch/user/s4436039/scdata/Python_Integration_Sep/NRclean_clustered2_DC.h5ad\""
   ]
  },
  {
   "cell_type": "code",
   "execution_count": 6,
   "metadata": {
    "vscode": {
     "languageId": "r"
    }
   },
   "outputs": [
    {
     "name": "stderr",
     "output_type": "stream",
     "text": [
      "X -> counts\n",
      "\n"
     ]
    },
    {
     "data": {
      "text/plain": [
       "An object of class Seurat \n",
       "1268 features across 30241 samples within 1 assay \n",
       "Active assay: RNA (1268 features, 0 variable features)\n",
       " 2 layers present: counts, data\n",
       " 3 dimensional reductions calculated: pca, pca_harmony, umap"
      ]
     },
     "metadata": {},
     "output_type": "display_data"
    }
   ],
   "source": [
    "sceasy::convertFormat(h5ad_path, from=\"anndata\", to=\"seurat\",\n",
    "                        outFile='NRclean_clustered2_DC.rds')"
   ]
  },
  {
   "cell_type": "code",
   "execution_count": 7,
   "metadata": {
    "vscode": {
     "languageId": "r"
    }
   },
   "outputs": [],
   "source": [
    "data = readRDS('NRclean_clustered2_DC.rds')"
   ]
  },
  {
   "cell_type": "code",
   "execution_count": 9,
   "metadata": {
    "vscode": {
     "languageId": "r"
    }
   },
   "outputs": [
    {
     "data": {
      "text/html": [
       "<table class=\"dataframe\">\n",
       "<caption>A data.frame: 6 × 61</caption>\n",
       "<thead>\n",
       "\t<tr><th></th><th scope=col>nCount_RNA</th><th scope=col>nFeature_RNA</th><th scope=col>sample_type</th><th scope=col>cancer_type</th><th scope=col>patient_id</th><th scope=col>sample_id</th><th scope=col>percent.mt</th><th scope=col>site</th><th scope=col>sample_type_major</th><th scope=col>cancer_subtype</th><th scope=col>⋯</th><th scope=col>DC3_up_DC2</th><th scope=col>mregDC_sig</th><th scope=col>cDC1_mregDC</th><th scope=col>cDC2_mregDC</th><th scope=col>NR_annotations</th><th scope=col>NR_annotations_simple</th><th scope=col>sample_type_major2</th><th scope=col>cancer_with_H</th><th scope=col>cancer_broadest</th><th scope=col>CytoTRACE_DC_Predicted_order</th></tr>\n",
       "\t<tr><th></th><th scope=col>&lt;dbl&gt;</th><th scope=col>&lt;dbl&gt;</th><th scope=col>&lt;fct&gt;</th><th scope=col>&lt;fct&gt;</th><th scope=col>&lt;fct&gt;</th><th scope=col>&lt;fct&gt;</th><th scope=col>&lt;dbl&gt;</th><th scope=col>&lt;fct&gt;</th><th scope=col>&lt;fct&gt;</th><th scope=col>&lt;fct&gt;</th><th scope=col>⋯</th><th scope=col>&lt;dbl&gt;</th><th scope=col>&lt;dbl&gt;</th><th scope=col>&lt;dbl&gt;</th><th scope=col>&lt;dbl&gt;</th><th scope=col>&lt;fct&gt;</th><th scope=col>&lt;fct&gt;</th><th scope=col>&lt;fct&gt;</th><th scope=col>&lt;fct&gt;</th><th scope=col>&lt;fct&gt;</th><th scope=col>&lt;dbl&gt;</th></tr>\n",
       "</thead>\n",
       "<tbody>\n",
       "\t<tr><th scope=row>GSE215120_AM1_AAATGCCCAGAGCCAA-1</th><td>17143</td><td>2659</td><td>tumour</td><td>Acral Melanoma</td><td>AM1</td><td>GSE215120_Acral_MEL_AM1</td><td>1.224990</td><td>skin</td><td>primary tumour</td><td>Acral Melanoma</td><td>⋯</td><td> 0.124529679</td><td> 0.4272291</td><td>0.2594598</td><td>0.4894216</td><td>cDC2</td><td>cDC2</td><td>primary tumour</td><td>Acral Melanoma</td><td>MEL</td><td>0.3545500</td></tr>\n",
       "\t<tr><th scope=row>GSE215120_AM1_ACACTGATCCACTGGG-1</th><td>18333</td><td>2845</td><td>tumour</td><td>Acral Melanoma</td><td>AM1</td><td>GSE215120_Acral_MEL_AM1</td><td>1.063656</td><td>skin</td><td>primary tumour</td><td>Acral Melanoma</td><td>⋯</td><td> 0.226950316</td><td> 0.6178830</td><td>0.2816962</td><td>0.6207678</td><td>cDC2</td><td>cDC2</td><td>primary tumour</td><td>Acral Melanoma</td><td>MEL</td><td>0.3704625</td></tr>\n",
       "\t<tr><th scope=row>GSE215120_AM1_ACAGCCGCAAACCTAC-1</th><td>10581</td><td>2182</td><td>tumour</td><td>Acral Melanoma</td><td>AM1</td><td>GSE215120_Acral_MEL_AM1</td><td>2.050846</td><td>skin</td><td>primary tumour</td><td>Acral Melanoma</td><td>⋯</td><td>-0.007039869</td><td> 0.1021379</td><td>0.2901960</td><td>0.3789101</td><td>cDC2</td><td>cDC2</td><td>primary tumour</td><td>Acral Melanoma</td><td>MEL</td><td>0.5524615</td></tr>\n",
       "\t<tr><th scope=row>GSE215120_AM1_ACCAGTAAGACTGGGT-1</th><td> 8015</td><td>1488</td><td>tumour</td><td>Acral Melanoma</td><td>AM1</td><td>GSE215120_Acral_MEL_AM1</td><td>2.033687</td><td>skin</td><td>primary tumour</td><td>Acral Melanoma</td><td>⋯</td><td> 0.021664478</td><td> 0.3235164</td><td>0.4469735</td><td>0.2238997</td><td>cDC1</td><td>cDC1</td><td>primary tumour</td><td>Acral Melanoma</td><td>MEL</td><td>0.4400796</td></tr>\n",
       "\t<tr><th scope=row>GSE215120_AM1_ACGTCAACAAGGACTG-1</th><td>25642</td><td>4010</td><td>tumour</td><td>Acral Melanoma</td><td>AM1</td><td>GSE215120_Acral_MEL_AM1</td><td>2.835192</td><td>skin</td><td>primary tumour</td><td>Acral Melanoma</td><td>⋯</td><td>-0.066700829</td><td> 0.2114101</td><td>0.3873203</td><td>0.3090685</td><td>cDC1</td><td>cDC1</td><td>primary tumour</td><td>Acral Melanoma</td><td>MEL</td><td>0.7473894</td></tr>\n",
       "\t<tr><th scope=row>GSE215120_AM1_ACGTCAATCCGCATCT-1</th><td> 9833</td><td>2074</td><td>tumour</td><td>Acral Melanoma</td><td>AM1</td><td>GSE215120_Acral_MEL_AM1</td><td>1.311909</td><td>skin</td><td>primary tumour</td><td>Acral Melanoma</td><td>⋯</td><td> 0.050473049</td><td>-0.1005454</td><td>0.1987381</td><td>0.4620914</td><td>cDC2</td><td>cDC2</td><td>primary tumour</td><td>Acral Melanoma</td><td>MEL</td><td>0.7662854</td></tr>\n",
       "</tbody>\n",
       "</table>\n"
      ],
      "text/latex": [
       "A data.frame: 6 × 61\n",
       "\\begin{tabular}{r|lllllllllllllllllllll}\n",
       "  & nCount\\_RNA & nFeature\\_RNA & sample\\_type & cancer\\_type & patient\\_id & sample\\_id & percent.mt & site & sample\\_type\\_major & cancer\\_subtype & ⋯ & DC3\\_up\\_DC2 & mregDC\\_sig & cDC1\\_mregDC & cDC2\\_mregDC & NR\\_annotations & NR\\_annotations\\_simple & sample\\_type\\_major2 & cancer\\_with\\_H & cancer\\_broadest & CytoTRACE\\_DC\\_Predicted\\_order\\\\\n",
       "  & <dbl> & <dbl> & <fct> & <fct> & <fct> & <fct> & <dbl> & <fct> & <fct> & <fct> & ⋯ & <dbl> & <dbl> & <dbl> & <dbl> & <fct> & <fct> & <fct> & <fct> & <fct> & <dbl>\\\\\n",
       "\\hline\n",
       "\tGSE215120\\_AM1\\_AAATGCCCAGAGCCAA-1 & 17143 & 2659 & tumour & Acral Melanoma & AM1 & GSE215120\\_Acral\\_MEL\\_AM1 & 1.224990 & skin & primary tumour & Acral Melanoma & ⋯ &  0.124529679 &  0.4272291 & 0.2594598 & 0.4894216 & cDC2 & cDC2 & primary tumour & Acral Melanoma & MEL & 0.3545500\\\\\n",
       "\tGSE215120\\_AM1\\_ACACTGATCCACTGGG-1 & 18333 & 2845 & tumour & Acral Melanoma & AM1 & GSE215120\\_Acral\\_MEL\\_AM1 & 1.063656 & skin & primary tumour & Acral Melanoma & ⋯ &  0.226950316 &  0.6178830 & 0.2816962 & 0.6207678 & cDC2 & cDC2 & primary tumour & Acral Melanoma & MEL & 0.3704625\\\\\n",
       "\tGSE215120\\_AM1\\_ACAGCCGCAAACCTAC-1 & 10581 & 2182 & tumour & Acral Melanoma & AM1 & GSE215120\\_Acral\\_MEL\\_AM1 & 2.050846 & skin & primary tumour & Acral Melanoma & ⋯ & -0.007039869 &  0.1021379 & 0.2901960 & 0.3789101 & cDC2 & cDC2 & primary tumour & Acral Melanoma & MEL & 0.5524615\\\\\n",
       "\tGSE215120\\_AM1\\_ACCAGTAAGACTGGGT-1 &  8015 & 1488 & tumour & Acral Melanoma & AM1 & GSE215120\\_Acral\\_MEL\\_AM1 & 2.033687 & skin & primary tumour & Acral Melanoma & ⋯ &  0.021664478 &  0.3235164 & 0.4469735 & 0.2238997 & cDC1 & cDC1 & primary tumour & Acral Melanoma & MEL & 0.4400796\\\\\n",
       "\tGSE215120\\_AM1\\_ACGTCAACAAGGACTG-1 & 25642 & 4010 & tumour & Acral Melanoma & AM1 & GSE215120\\_Acral\\_MEL\\_AM1 & 2.835192 & skin & primary tumour & Acral Melanoma & ⋯ & -0.066700829 &  0.2114101 & 0.3873203 & 0.3090685 & cDC1 & cDC1 & primary tumour & Acral Melanoma & MEL & 0.7473894\\\\\n",
       "\tGSE215120\\_AM1\\_ACGTCAATCCGCATCT-1 &  9833 & 2074 & tumour & Acral Melanoma & AM1 & GSE215120\\_Acral\\_MEL\\_AM1 & 1.311909 & skin & primary tumour & Acral Melanoma & ⋯ &  0.050473049 & -0.1005454 & 0.1987381 & 0.4620914 & cDC2 & cDC2 & primary tumour & Acral Melanoma & MEL & 0.7662854\\\\\n",
       "\\end{tabular}\n"
      ],
      "text/markdown": [
       "\n",
       "A data.frame: 6 × 61\n",
       "\n",
       "| <!--/--> | nCount_RNA &lt;dbl&gt; | nFeature_RNA &lt;dbl&gt; | sample_type &lt;fct&gt; | cancer_type &lt;fct&gt; | patient_id &lt;fct&gt; | sample_id &lt;fct&gt; | percent.mt &lt;dbl&gt; | site &lt;fct&gt; | sample_type_major &lt;fct&gt; | cancer_subtype &lt;fct&gt; | ⋯ ⋯ | DC3_up_DC2 &lt;dbl&gt; | mregDC_sig &lt;dbl&gt; | cDC1_mregDC &lt;dbl&gt; | cDC2_mregDC &lt;dbl&gt; | NR_annotations &lt;fct&gt; | NR_annotations_simple &lt;fct&gt; | sample_type_major2 &lt;fct&gt; | cancer_with_H &lt;fct&gt; | cancer_broadest &lt;fct&gt; | CytoTRACE_DC_Predicted_order &lt;dbl&gt; |\n",
       "|---|---|---|---|---|---|---|---|---|---|---|---|---|---|---|---|---|---|---|---|---|---|\n",
       "| GSE215120_AM1_AAATGCCCAGAGCCAA-1 | 17143 | 2659 | tumour | Acral Melanoma | AM1 | GSE215120_Acral_MEL_AM1 | 1.224990 | skin | primary tumour | Acral Melanoma | ⋯ |  0.124529679 |  0.4272291 | 0.2594598 | 0.4894216 | cDC2 | cDC2 | primary tumour | Acral Melanoma | MEL | 0.3545500 |\n",
       "| GSE215120_AM1_ACACTGATCCACTGGG-1 | 18333 | 2845 | tumour | Acral Melanoma | AM1 | GSE215120_Acral_MEL_AM1 | 1.063656 | skin | primary tumour | Acral Melanoma | ⋯ |  0.226950316 |  0.6178830 | 0.2816962 | 0.6207678 | cDC2 | cDC2 | primary tumour | Acral Melanoma | MEL | 0.3704625 |\n",
       "| GSE215120_AM1_ACAGCCGCAAACCTAC-1 | 10581 | 2182 | tumour | Acral Melanoma | AM1 | GSE215120_Acral_MEL_AM1 | 2.050846 | skin | primary tumour | Acral Melanoma | ⋯ | -0.007039869 |  0.1021379 | 0.2901960 | 0.3789101 | cDC2 | cDC2 | primary tumour | Acral Melanoma | MEL | 0.5524615 |\n",
       "| GSE215120_AM1_ACCAGTAAGACTGGGT-1 |  8015 | 1488 | tumour | Acral Melanoma | AM1 | GSE215120_Acral_MEL_AM1 | 2.033687 | skin | primary tumour | Acral Melanoma | ⋯ |  0.021664478 |  0.3235164 | 0.4469735 | 0.2238997 | cDC1 | cDC1 | primary tumour | Acral Melanoma | MEL | 0.4400796 |\n",
       "| GSE215120_AM1_ACGTCAACAAGGACTG-1 | 25642 | 4010 | tumour | Acral Melanoma | AM1 | GSE215120_Acral_MEL_AM1 | 2.835192 | skin | primary tumour | Acral Melanoma | ⋯ | -0.066700829 |  0.2114101 | 0.3873203 | 0.3090685 | cDC1 | cDC1 | primary tumour | Acral Melanoma | MEL | 0.7473894 |\n",
       "| GSE215120_AM1_ACGTCAATCCGCATCT-1 |  9833 | 2074 | tumour | Acral Melanoma | AM1 | GSE215120_Acral_MEL_AM1 | 1.311909 | skin | primary tumour | Acral Melanoma | ⋯ |  0.050473049 | -0.1005454 | 0.1987381 | 0.4620914 | cDC2 | cDC2 | primary tumour | Acral Melanoma | MEL | 0.7662854 |\n",
       "\n"
      ],
      "text/plain": [
       "                                 nCount_RNA nFeature_RNA sample_type\n",
       "GSE215120_AM1_AAATGCCCAGAGCCAA-1 17143      2659         tumour     \n",
       "GSE215120_AM1_ACACTGATCCACTGGG-1 18333      2845         tumour     \n",
       "GSE215120_AM1_ACAGCCGCAAACCTAC-1 10581      2182         tumour     \n",
       "GSE215120_AM1_ACCAGTAAGACTGGGT-1  8015      1488         tumour     \n",
       "GSE215120_AM1_ACGTCAACAAGGACTG-1 25642      4010         tumour     \n",
       "GSE215120_AM1_ACGTCAATCCGCATCT-1  9833      2074         tumour     \n",
       "                                 cancer_type    patient_id\n",
       "GSE215120_AM1_AAATGCCCAGAGCCAA-1 Acral Melanoma AM1       \n",
       "GSE215120_AM1_ACACTGATCCACTGGG-1 Acral Melanoma AM1       \n",
       "GSE215120_AM1_ACAGCCGCAAACCTAC-1 Acral Melanoma AM1       \n",
       "GSE215120_AM1_ACCAGTAAGACTGGGT-1 Acral Melanoma AM1       \n",
       "GSE215120_AM1_ACGTCAACAAGGACTG-1 Acral Melanoma AM1       \n",
       "GSE215120_AM1_ACGTCAATCCGCATCT-1 Acral Melanoma AM1       \n",
       "                                 sample_id               percent.mt site\n",
       "GSE215120_AM1_AAATGCCCAGAGCCAA-1 GSE215120_Acral_MEL_AM1 1.224990   skin\n",
       "GSE215120_AM1_ACACTGATCCACTGGG-1 GSE215120_Acral_MEL_AM1 1.063656   skin\n",
       "GSE215120_AM1_ACAGCCGCAAACCTAC-1 GSE215120_Acral_MEL_AM1 2.050846   skin\n",
       "GSE215120_AM1_ACCAGTAAGACTGGGT-1 GSE215120_Acral_MEL_AM1 2.033687   skin\n",
       "GSE215120_AM1_ACGTCAACAAGGACTG-1 GSE215120_Acral_MEL_AM1 2.835192   skin\n",
       "GSE215120_AM1_ACGTCAATCCGCATCT-1 GSE215120_Acral_MEL_AM1 1.311909   skin\n",
       "                                 sample_type_major cancer_subtype ⋯\n",
       "GSE215120_AM1_AAATGCCCAGAGCCAA-1 primary tumour    Acral Melanoma ⋯\n",
       "GSE215120_AM1_ACACTGATCCACTGGG-1 primary tumour    Acral Melanoma ⋯\n",
       "GSE215120_AM1_ACAGCCGCAAACCTAC-1 primary tumour    Acral Melanoma ⋯\n",
       "GSE215120_AM1_ACCAGTAAGACTGGGT-1 primary tumour    Acral Melanoma ⋯\n",
       "GSE215120_AM1_ACGTCAACAAGGACTG-1 primary tumour    Acral Melanoma ⋯\n",
       "GSE215120_AM1_ACGTCAATCCGCATCT-1 primary tumour    Acral Melanoma ⋯\n",
       "                                 DC3_up_DC2   mregDC_sig cDC1_mregDC\n",
       "GSE215120_AM1_AAATGCCCAGAGCCAA-1  0.124529679  0.4272291 0.2594598  \n",
       "GSE215120_AM1_ACACTGATCCACTGGG-1  0.226950316  0.6178830 0.2816962  \n",
       "GSE215120_AM1_ACAGCCGCAAACCTAC-1 -0.007039869  0.1021379 0.2901960  \n",
       "GSE215120_AM1_ACCAGTAAGACTGGGT-1  0.021664478  0.3235164 0.4469735  \n",
       "GSE215120_AM1_ACGTCAACAAGGACTG-1 -0.066700829  0.2114101 0.3873203  \n",
       "GSE215120_AM1_ACGTCAATCCGCATCT-1  0.050473049 -0.1005454 0.1987381  \n",
       "                                 cDC2_mregDC NR_annotations\n",
       "GSE215120_AM1_AAATGCCCAGAGCCAA-1 0.4894216   cDC2          \n",
       "GSE215120_AM1_ACACTGATCCACTGGG-1 0.6207678   cDC2          \n",
       "GSE215120_AM1_ACAGCCGCAAACCTAC-1 0.3789101   cDC2          \n",
       "GSE215120_AM1_ACCAGTAAGACTGGGT-1 0.2238997   cDC1          \n",
       "GSE215120_AM1_ACGTCAACAAGGACTG-1 0.3090685   cDC1          \n",
       "GSE215120_AM1_ACGTCAATCCGCATCT-1 0.4620914   cDC2          \n",
       "                                 NR_annotations_simple sample_type_major2\n",
       "GSE215120_AM1_AAATGCCCAGAGCCAA-1 cDC2                  primary tumour    \n",
       "GSE215120_AM1_ACACTGATCCACTGGG-1 cDC2                  primary tumour    \n",
       "GSE215120_AM1_ACAGCCGCAAACCTAC-1 cDC2                  primary tumour    \n",
       "GSE215120_AM1_ACCAGTAAGACTGGGT-1 cDC1                  primary tumour    \n",
       "GSE215120_AM1_ACGTCAACAAGGACTG-1 cDC1                  primary tumour    \n",
       "GSE215120_AM1_ACGTCAATCCGCATCT-1 cDC2                  primary tumour    \n",
       "                                 cancer_with_H  cancer_broadest\n",
       "GSE215120_AM1_AAATGCCCAGAGCCAA-1 Acral Melanoma MEL            \n",
       "GSE215120_AM1_ACACTGATCCACTGGG-1 Acral Melanoma MEL            \n",
       "GSE215120_AM1_ACAGCCGCAAACCTAC-1 Acral Melanoma MEL            \n",
       "GSE215120_AM1_ACCAGTAAGACTGGGT-1 Acral Melanoma MEL            \n",
       "GSE215120_AM1_ACGTCAACAAGGACTG-1 Acral Melanoma MEL            \n",
       "GSE215120_AM1_ACGTCAATCCGCATCT-1 Acral Melanoma MEL            \n",
       "                                 CytoTRACE_DC_Predicted_order\n",
       "GSE215120_AM1_AAATGCCCAGAGCCAA-1 0.3545500                   \n",
       "GSE215120_AM1_ACACTGATCCACTGGG-1 0.3704625                   \n",
       "GSE215120_AM1_ACAGCCGCAAACCTAC-1 0.5524615                   \n",
       "GSE215120_AM1_ACCAGTAAGACTGGGT-1 0.4400796                   \n",
       "GSE215120_AM1_ACGTCAACAAGGACTG-1 0.7473894                   \n",
       "GSE215120_AM1_ACGTCAATCCGCATCT-1 0.7662854                   "
      ]
     },
     "metadata": {},
     "output_type": "display_data"
    }
   ],
   "source": [
    "head(data@meta.data)"
   ]
  },
  {
   "cell_type": "markdown",
   "metadata": {},
   "source": [
    "# Generate loom data for input in to SCENIC: "
   ]
  },
  {
   "cell_type": "code",
   "execution_count": 31,
   "metadata": {
    "vscode": {
     "languageId": "r"
    }
   },
   "outputs": [
    {
     "name": "stderr",
     "output_type": "stream",
     "text": [
      "\n",
      "Attaching package: ‘SCopeLoomR’\n",
      "\n",
      "\n",
      "The following object is masked from ‘package:base’:\n",
      "\n",
      "    flush\n",
      "\n",
      "\n"
     ]
    }
   ],
   "source": [
    "library(SCopeLoomR)"
   ]
  },
  {
   "cell_type": "code",
   "execution_count": 10,
   "metadata": {
    "vscode": {
     "languageId": "r"
    }
   },
   "outputs": [],
   "source": [
    "# make object with expression data\n",
    "expression_data <- GetAssayData(data)\n",
    "expression_data <- as.data.frame(as.matrix(expression_data))"
   ]
  },
  {
   "cell_type": "code",
   "execution_count": 11,
   "metadata": {
    "vscode": {
     "languageId": "r"
    }
   },
   "outputs": [
    {
     "data": {
      "text/html": [
       "<table class=\"dataframe\">\n",
       "<caption>A data.frame: 6 × 30241</caption>\n",
       "<thead>\n",
       "\t<tr><th></th><th scope=col>GSE215120_AM1_AAATGCCCAGAGCCAA-1</th><th scope=col>GSE215120_AM1_ACACTGATCCACTGGG-1</th><th scope=col>GSE215120_AM1_ACAGCCGCAAACCTAC-1</th><th scope=col>GSE215120_AM1_ACCAGTAAGACTGGGT-1</th><th scope=col>GSE215120_AM1_ACGTCAACAAGGACTG-1</th><th scope=col>GSE215120_AM1_ACGTCAATCCGCATCT-1</th><th scope=col>GSE215120_AM1_ACTGAGTCAGGCTGAA-1</th><th scope=col>GSE215120_AM1_ACTGTCCGTCTCTTAT-1</th><th scope=col>GSE215120_AM1_ACTTGTTTCTGAAAGA-1</th><th scope=col>GSE215120_AM1_AGAGCTTGTACAGTTC-1</th><th scope=col>⋯</th><th scope=col>GSE180661_HGSOC_SPECTRUM-OV-045_S1_CD45P_LEFT_OVARY_CGGGCATTCTTCTGTA</th><th scope=col>GSE180661_HGSOC_SPECTRUM-OV-045_S1_CD45P_LEFT_OVARY_CTACGGGGTGATCGTT</th><th scope=col>GSE180661_HGSOC_SPECTRUM-OV-045_S1_CD45P_LEFT_OVARY_CTCATGCTCGTTAGAC</th><th scope=col>GSE180661_HGSOC_SPECTRUM-OV-045_S1_CD45P_LEFT_OVARY_CTTGATTAGCAGGTCA</th><th scope=col>GSE180661_HGSOC_SPECTRUM-OV-045_S1_CD45P_LEFT_OVARY_GAGGGATCAAGCGCTC</th><th scope=col>GSE180661_HGSOC_SPECTRUM-OV-045_S1_CD45P_LEFT_OVARY_GTTTACTCAAGGCCTC</th><th scope=col>GSE180661_HGSOC_SPECTRUM-OV-045_S1_CD45P_LEFT_OVARY_TACCGAACAAACCGGA</th><th scope=col>GSE180661_HGSOC_SPECTRUM-OV-045_S1_CD45P_LEFT_OVARY_TCACGCTTCCGTCACT</th><th scope=col>GSE180661_HGSOC_SPECTRUM-OV-045_S1_CD45P_LEFT_OVARY_TGCAGTAGTGTTGCCG</th><th scope=col>GSE180661_HGSOC_SPECTRUM-OV-045_S1_CD45P_LEFT_OVARY_TGTGAGTTCGGAAACG</th></tr>\n",
       "\t<tr><th></th><th scope=col>&lt;dbl&gt;</th><th scope=col>&lt;dbl&gt;</th><th scope=col>&lt;dbl&gt;</th><th scope=col>&lt;dbl&gt;</th><th scope=col>&lt;dbl&gt;</th><th scope=col>&lt;dbl&gt;</th><th scope=col>&lt;dbl&gt;</th><th scope=col>&lt;dbl&gt;</th><th scope=col>&lt;dbl&gt;</th><th scope=col>&lt;dbl&gt;</th><th scope=col>⋯</th><th scope=col>&lt;dbl&gt;</th><th scope=col>&lt;dbl&gt;</th><th scope=col>&lt;dbl&gt;</th><th scope=col>&lt;dbl&gt;</th><th scope=col>&lt;dbl&gt;</th><th scope=col>&lt;dbl&gt;</th><th scope=col>&lt;dbl&gt;</th><th scope=col>&lt;dbl&gt;</th><th scope=col>&lt;dbl&gt;</th><th scope=col>&lt;dbl&gt;</th></tr>\n",
       "</thead>\n",
       "<tbody>\n",
       "\t<tr><th scope=row>HES4</th><td> 2.10042956</td><td> 3.45275483</td><td> 4.21835863</td><td>-0.32335678</td><td>-0.39281808</td><td>-0.33100814</td><td>-0.30674000</td><td>-0.32088230</td><td>-0.31202074</td><td>-0.35627685</td><td>⋯</td><td>-0.30352896</td><td>-0.23608103</td><td>-0.29583627</td><td>-0.23550534</td><td>-0.22692363</td><td>-0.29928685</td><td>-0.29836658</td><td>-0.29131687</td><td>-0.29165102</td><td>-0.27111413</td></tr>\n",
       "\t<tr><th scope=row>ISG15</th><td>-0.38093311</td><td> 0.94410567</td><td> 1.47187286</td><td> 0.22832942</td><td> 0.61383005</td><td> 0.04630722</td><td>-0.98469539</td><td>-0.36453844</td><td>-0.35181972</td><td>-0.22300907</td><td>⋯</td><td>-0.02546914</td><td> 0.93126918</td><td>-0.22630387</td><td>-0.57662320</td><td> 0.73137761</td><td> 0.48386717</td><td> 0.87684225</td><td>-0.90866133</td><td>-0.89511735</td><td>-0.78094494</td></tr>\n",
       "\t<tr><th scope=row>TNFRSF18</th><td> 2.62804255</td><td> 5.65023741</td><td>-0.12298977</td><td>-0.12573380</td><td>-0.10602046</td><td>-0.12463605</td><td>-0.12504777</td><td>-0.12586297</td><td>-0.12499708</td><td>-0.11507615</td><td>⋯</td><td>-0.12445032</td><td>-0.11325698</td><td>-0.12014261</td><td>-0.11343195</td><td>-0.11219064</td><td>-0.12068373</td><td>-0.13158176</td><td>-0.12649585</td><td>-0.12192309</td><td>-0.12320520</td></tr>\n",
       "\t<tr><th scope=row>TNFRSF4</th><td> 5.07010836</td><td> 4.06395330</td><td>-0.17561133</td><td>-0.16576986</td><td>-0.23441743</td><td>-0.18071631</td><td> 5.60853347</td><td>-0.17404046</td><td>-0.16839594</td><td>-0.20787494</td><td>⋯</td><td>-0.15706906</td><td>-0.15253007</td><td>-0.16634682</td><td>-0.14588155</td><td>-0.15756689</td><td>-0.17748924</td><td>-0.14318806</td><td>-0.17085078</td><td>-0.17747921</td><td>-0.15387784</td></tr>\n",
       "\t<tr><th scope=row>ATAD3C</th><td>-0.08303087</td><td>-0.08459465</td><td>-0.07388701</td><td>-0.07005439</td><td>-0.09592259</td><td>-0.07367120</td><td>-0.06989837</td><td>-0.07096651</td><td>-0.07052552</td><td>-0.08444572</td><td>⋯</td><td>-0.06624626</td><td>-0.06325107</td><td>-0.07004899</td><td>-0.06208992</td><td>-0.06473342</td><td>-0.07187153</td><td>-0.06170866</td><td>-0.06710324</td><td>-0.06972128</td><td>-0.06360366</td></tr>\n",
       "\t<tr><th scope=row>PRKCZ</th><td>-0.08844925</td><td>-0.08867859</td><td>-0.08567117</td><td>-0.08457820</td><td>-0.09298853</td><td>-0.08465160</td><td>-0.08381085</td><td>-0.08398513</td><td>-0.08409993</td><td>-0.08863072</td><td>⋯</td><td>-0.08473521</td><td>-0.08654890</td><td>-0.08558704</td><td>-0.08678614</td><td>-0.08616186</td><td>-0.08495224</td><td>-0.08196928</td><td>-0.08244721</td><td>-0.08414816</td><td>-0.08378394</td></tr>\n",
       "</tbody>\n",
       "</table>\n"
      ],
      "text/latex": [
       "A data.frame: 6 × 30241\n",
       "\\begin{tabular}{r|lllllllllllllllllllll}\n",
       "  & GSE215120\\_AM1\\_AAATGCCCAGAGCCAA-1 & GSE215120\\_AM1\\_ACACTGATCCACTGGG-1 & GSE215120\\_AM1\\_ACAGCCGCAAACCTAC-1 & GSE215120\\_AM1\\_ACCAGTAAGACTGGGT-1 & GSE215120\\_AM1\\_ACGTCAACAAGGACTG-1 & GSE215120\\_AM1\\_ACGTCAATCCGCATCT-1 & GSE215120\\_AM1\\_ACTGAGTCAGGCTGAA-1 & GSE215120\\_AM1\\_ACTGTCCGTCTCTTAT-1 & GSE215120\\_AM1\\_ACTTGTTTCTGAAAGA-1 & GSE215120\\_AM1\\_AGAGCTTGTACAGTTC-1 & ⋯ & GSE180661\\_HGSOC\\_SPECTRUM-OV-045\\_S1\\_CD45P\\_LEFT\\_OVARY\\_CGGGCATTCTTCTGTA & GSE180661\\_HGSOC\\_SPECTRUM-OV-045\\_S1\\_CD45P\\_LEFT\\_OVARY\\_CTACGGGGTGATCGTT & GSE180661\\_HGSOC\\_SPECTRUM-OV-045\\_S1\\_CD45P\\_LEFT\\_OVARY\\_CTCATGCTCGTTAGAC & GSE180661\\_HGSOC\\_SPECTRUM-OV-045\\_S1\\_CD45P\\_LEFT\\_OVARY\\_CTTGATTAGCAGGTCA & GSE180661\\_HGSOC\\_SPECTRUM-OV-045\\_S1\\_CD45P\\_LEFT\\_OVARY\\_GAGGGATCAAGCGCTC & GSE180661\\_HGSOC\\_SPECTRUM-OV-045\\_S1\\_CD45P\\_LEFT\\_OVARY\\_GTTTACTCAAGGCCTC & GSE180661\\_HGSOC\\_SPECTRUM-OV-045\\_S1\\_CD45P\\_LEFT\\_OVARY\\_TACCGAACAAACCGGA & GSE180661\\_HGSOC\\_SPECTRUM-OV-045\\_S1\\_CD45P\\_LEFT\\_OVARY\\_TCACGCTTCCGTCACT & GSE180661\\_HGSOC\\_SPECTRUM-OV-045\\_S1\\_CD45P\\_LEFT\\_OVARY\\_TGCAGTAGTGTTGCCG & GSE180661\\_HGSOC\\_SPECTRUM-OV-045\\_S1\\_CD45P\\_LEFT\\_OVARY\\_TGTGAGTTCGGAAACG\\\\\n",
       "  & <dbl> & <dbl> & <dbl> & <dbl> & <dbl> & <dbl> & <dbl> & <dbl> & <dbl> & <dbl> & ⋯ & <dbl> & <dbl> & <dbl> & <dbl> & <dbl> & <dbl> & <dbl> & <dbl> & <dbl> & <dbl>\\\\\n",
       "\\hline\n",
       "\tHES4 &  2.10042956 &  3.45275483 &  4.21835863 & -0.32335678 & -0.39281808 & -0.33100814 & -0.30674000 & -0.32088230 & -0.31202074 & -0.35627685 & ⋯ & -0.30352896 & -0.23608103 & -0.29583627 & -0.23550534 & -0.22692363 & -0.29928685 & -0.29836658 & -0.29131687 & -0.29165102 & -0.27111413\\\\\n",
       "\tISG15 & -0.38093311 &  0.94410567 &  1.47187286 &  0.22832942 &  0.61383005 &  0.04630722 & -0.98469539 & -0.36453844 & -0.35181972 & -0.22300907 & ⋯ & -0.02546914 &  0.93126918 & -0.22630387 & -0.57662320 &  0.73137761 &  0.48386717 &  0.87684225 & -0.90866133 & -0.89511735 & -0.78094494\\\\\n",
       "\tTNFRSF18 &  2.62804255 &  5.65023741 & -0.12298977 & -0.12573380 & -0.10602046 & -0.12463605 & -0.12504777 & -0.12586297 & -0.12499708 & -0.11507615 & ⋯ & -0.12445032 & -0.11325698 & -0.12014261 & -0.11343195 & -0.11219064 & -0.12068373 & -0.13158176 & -0.12649585 & -0.12192309 & -0.12320520\\\\\n",
       "\tTNFRSF4 &  5.07010836 &  4.06395330 & -0.17561133 & -0.16576986 & -0.23441743 & -0.18071631 &  5.60853347 & -0.17404046 & -0.16839594 & -0.20787494 & ⋯ & -0.15706906 & -0.15253007 & -0.16634682 & -0.14588155 & -0.15756689 & -0.17748924 & -0.14318806 & -0.17085078 & -0.17747921 & -0.15387784\\\\\n",
       "\tATAD3C & -0.08303087 & -0.08459465 & -0.07388701 & -0.07005439 & -0.09592259 & -0.07367120 & -0.06989837 & -0.07096651 & -0.07052552 & -0.08444572 & ⋯ & -0.06624626 & -0.06325107 & -0.07004899 & -0.06208992 & -0.06473342 & -0.07187153 & -0.06170866 & -0.06710324 & -0.06972128 & -0.06360366\\\\\n",
       "\tPRKCZ & -0.08844925 & -0.08867859 & -0.08567117 & -0.08457820 & -0.09298853 & -0.08465160 & -0.08381085 & -0.08398513 & -0.08409993 & -0.08863072 & ⋯ & -0.08473521 & -0.08654890 & -0.08558704 & -0.08678614 & -0.08616186 & -0.08495224 & -0.08196928 & -0.08244721 & -0.08414816 & -0.08378394\\\\\n",
       "\\end{tabular}\n"
      ],
      "text/markdown": [
       "\n",
       "A data.frame: 6 × 30241\n",
       "\n",
       "| <!--/--> | GSE215120_AM1_AAATGCCCAGAGCCAA-1 &lt;dbl&gt; | GSE215120_AM1_ACACTGATCCACTGGG-1 &lt;dbl&gt; | GSE215120_AM1_ACAGCCGCAAACCTAC-1 &lt;dbl&gt; | GSE215120_AM1_ACCAGTAAGACTGGGT-1 &lt;dbl&gt; | GSE215120_AM1_ACGTCAACAAGGACTG-1 &lt;dbl&gt; | GSE215120_AM1_ACGTCAATCCGCATCT-1 &lt;dbl&gt; | GSE215120_AM1_ACTGAGTCAGGCTGAA-1 &lt;dbl&gt; | GSE215120_AM1_ACTGTCCGTCTCTTAT-1 &lt;dbl&gt; | GSE215120_AM1_ACTTGTTTCTGAAAGA-1 &lt;dbl&gt; | GSE215120_AM1_AGAGCTTGTACAGTTC-1 &lt;dbl&gt; | ⋯ ⋯ | GSE180661_HGSOC_SPECTRUM-OV-045_S1_CD45P_LEFT_OVARY_CGGGCATTCTTCTGTA &lt;dbl&gt; | GSE180661_HGSOC_SPECTRUM-OV-045_S1_CD45P_LEFT_OVARY_CTACGGGGTGATCGTT &lt;dbl&gt; | GSE180661_HGSOC_SPECTRUM-OV-045_S1_CD45P_LEFT_OVARY_CTCATGCTCGTTAGAC &lt;dbl&gt; | GSE180661_HGSOC_SPECTRUM-OV-045_S1_CD45P_LEFT_OVARY_CTTGATTAGCAGGTCA &lt;dbl&gt; | GSE180661_HGSOC_SPECTRUM-OV-045_S1_CD45P_LEFT_OVARY_GAGGGATCAAGCGCTC &lt;dbl&gt; | GSE180661_HGSOC_SPECTRUM-OV-045_S1_CD45P_LEFT_OVARY_GTTTACTCAAGGCCTC &lt;dbl&gt; | GSE180661_HGSOC_SPECTRUM-OV-045_S1_CD45P_LEFT_OVARY_TACCGAACAAACCGGA &lt;dbl&gt; | GSE180661_HGSOC_SPECTRUM-OV-045_S1_CD45P_LEFT_OVARY_TCACGCTTCCGTCACT &lt;dbl&gt; | GSE180661_HGSOC_SPECTRUM-OV-045_S1_CD45P_LEFT_OVARY_TGCAGTAGTGTTGCCG &lt;dbl&gt; | GSE180661_HGSOC_SPECTRUM-OV-045_S1_CD45P_LEFT_OVARY_TGTGAGTTCGGAAACG &lt;dbl&gt; |\n",
       "|---|---|---|---|---|---|---|---|---|---|---|---|---|---|---|---|---|---|---|---|---|---|\n",
       "| HES4 |  2.10042956 |  3.45275483 |  4.21835863 | -0.32335678 | -0.39281808 | -0.33100814 | -0.30674000 | -0.32088230 | -0.31202074 | -0.35627685 | ⋯ | -0.30352896 | -0.23608103 | -0.29583627 | -0.23550534 | -0.22692363 | -0.29928685 | -0.29836658 | -0.29131687 | -0.29165102 | -0.27111413 |\n",
       "| ISG15 | -0.38093311 |  0.94410567 |  1.47187286 |  0.22832942 |  0.61383005 |  0.04630722 | -0.98469539 | -0.36453844 | -0.35181972 | -0.22300907 | ⋯ | -0.02546914 |  0.93126918 | -0.22630387 | -0.57662320 |  0.73137761 |  0.48386717 |  0.87684225 | -0.90866133 | -0.89511735 | -0.78094494 |\n",
       "| TNFRSF18 |  2.62804255 |  5.65023741 | -0.12298977 | -0.12573380 | -0.10602046 | -0.12463605 | -0.12504777 | -0.12586297 | -0.12499708 | -0.11507615 | ⋯ | -0.12445032 | -0.11325698 | -0.12014261 | -0.11343195 | -0.11219064 | -0.12068373 | -0.13158176 | -0.12649585 | -0.12192309 | -0.12320520 |\n",
       "| TNFRSF4 |  5.07010836 |  4.06395330 | -0.17561133 | -0.16576986 | -0.23441743 | -0.18071631 |  5.60853347 | -0.17404046 | -0.16839594 | -0.20787494 | ⋯ | -0.15706906 | -0.15253007 | -0.16634682 | -0.14588155 | -0.15756689 | -0.17748924 | -0.14318806 | -0.17085078 | -0.17747921 | -0.15387784 |\n",
       "| ATAD3C | -0.08303087 | -0.08459465 | -0.07388701 | -0.07005439 | -0.09592259 | -0.07367120 | -0.06989837 | -0.07096651 | -0.07052552 | -0.08444572 | ⋯ | -0.06624626 | -0.06325107 | -0.07004899 | -0.06208992 | -0.06473342 | -0.07187153 | -0.06170866 | -0.06710324 | -0.06972128 | -0.06360366 |\n",
       "| PRKCZ | -0.08844925 | -0.08867859 | -0.08567117 | -0.08457820 | -0.09298853 | -0.08465160 | -0.08381085 | -0.08398513 | -0.08409993 | -0.08863072 | ⋯ | -0.08473521 | -0.08654890 | -0.08558704 | -0.08678614 | -0.08616186 | -0.08495224 | -0.08196928 | -0.08244721 | -0.08414816 | -0.08378394 |\n",
       "\n"
      ],
      "text/plain": [
       "         GSE215120_AM1_AAATGCCCAGAGCCAA-1 GSE215120_AM1_ACACTGATCCACTGGG-1\n",
       "HES4      2.10042956                       3.45275483                     \n",
       "ISG15    -0.38093311                       0.94410567                     \n",
       "TNFRSF18  2.62804255                       5.65023741                     \n",
       "TNFRSF4   5.07010836                       4.06395330                     \n",
       "ATAD3C   -0.08303087                      -0.08459465                     \n",
       "PRKCZ    -0.08844925                      -0.08867859                     \n",
       "         GSE215120_AM1_ACAGCCGCAAACCTAC-1 GSE215120_AM1_ACCAGTAAGACTGGGT-1\n",
       "HES4      4.21835863                      -0.32335678                     \n",
       "ISG15     1.47187286                       0.22832942                     \n",
       "TNFRSF18 -0.12298977                      -0.12573380                     \n",
       "TNFRSF4  -0.17561133                      -0.16576986                     \n",
       "ATAD3C   -0.07388701                      -0.07005439                     \n",
       "PRKCZ    -0.08567117                      -0.08457820                     \n",
       "         GSE215120_AM1_ACGTCAACAAGGACTG-1 GSE215120_AM1_ACGTCAATCCGCATCT-1\n",
       "HES4     -0.39281808                      -0.33100814                     \n",
       "ISG15     0.61383005                       0.04630722                     \n",
       "TNFRSF18 -0.10602046                      -0.12463605                     \n",
       "TNFRSF4  -0.23441743                      -0.18071631                     \n",
       "ATAD3C   -0.09592259                      -0.07367120                     \n",
       "PRKCZ    -0.09298853                      -0.08465160                     \n",
       "         GSE215120_AM1_ACTGAGTCAGGCTGAA-1 GSE215120_AM1_ACTGTCCGTCTCTTAT-1\n",
       "HES4     -0.30674000                      -0.32088230                     \n",
       "ISG15    -0.98469539                      -0.36453844                     \n",
       "TNFRSF18 -0.12504777                      -0.12586297                     \n",
       "TNFRSF4   5.60853347                      -0.17404046                     \n",
       "ATAD3C   -0.06989837                      -0.07096651                     \n",
       "PRKCZ    -0.08381085                      -0.08398513                     \n",
       "         GSE215120_AM1_ACTTGTTTCTGAAAGA-1 GSE215120_AM1_AGAGCTTGTACAGTTC-1 ⋯\n",
       "HES4     -0.31202074                      -0.35627685                      ⋯\n",
       "ISG15    -0.35181972                      -0.22300907                      ⋯\n",
       "TNFRSF18 -0.12499708                      -0.11507615                      ⋯\n",
       "TNFRSF4  -0.16839594                      -0.20787494                      ⋯\n",
       "ATAD3C   -0.07052552                      -0.08444572                      ⋯\n",
       "PRKCZ    -0.08409993                      -0.08863072                      ⋯\n",
       "         GSE180661_HGSOC_SPECTRUM-OV-045_S1_CD45P_LEFT_OVARY_CGGGCATTCTTCTGTA\n",
       "HES4     -0.30352896                                                         \n",
       "ISG15    -0.02546914                                                         \n",
       "TNFRSF18 -0.12445032                                                         \n",
       "TNFRSF4  -0.15706906                                                         \n",
       "ATAD3C   -0.06624626                                                         \n",
       "PRKCZ    -0.08473521                                                         \n",
       "         GSE180661_HGSOC_SPECTRUM-OV-045_S1_CD45P_LEFT_OVARY_CTACGGGGTGATCGTT\n",
       "HES4     -0.23608103                                                         \n",
       "ISG15     0.93126918                                                         \n",
       "TNFRSF18 -0.11325698                                                         \n",
       "TNFRSF4  -0.15253007                                                         \n",
       "ATAD3C   -0.06325107                                                         \n",
       "PRKCZ    -0.08654890                                                         \n",
       "         GSE180661_HGSOC_SPECTRUM-OV-045_S1_CD45P_LEFT_OVARY_CTCATGCTCGTTAGAC\n",
       "HES4     -0.29583627                                                         \n",
       "ISG15    -0.22630387                                                         \n",
       "TNFRSF18 -0.12014261                                                         \n",
       "TNFRSF4  -0.16634682                                                         \n",
       "ATAD3C   -0.07004899                                                         \n",
       "PRKCZ    -0.08558704                                                         \n",
       "         GSE180661_HGSOC_SPECTRUM-OV-045_S1_CD45P_LEFT_OVARY_CTTGATTAGCAGGTCA\n",
       "HES4     -0.23550534                                                         \n",
       "ISG15    -0.57662320                                                         \n",
       "TNFRSF18 -0.11343195                                                         \n",
       "TNFRSF4  -0.14588155                                                         \n",
       "ATAD3C   -0.06208992                                                         \n",
       "PRKCZ    -0.08678614                                                         \n",
       "         GSE180661_HGSOC_SPECTRUM-OV-045_S1_CD45P_LEFT_OVARY_GAGGGATCAAGCGCTC\n",
       "HES4     -0.22692363                                                         \n",
       "ISG15     0.73137761                                                         \n",
       "TNFRSF18 -0.11219064                                                         \n",
       "TNFRSF4  -0.15756689                                                         \n",
       "ATAD3C   -0.06473342                                                         \n",
       "PRKCZ    -0.08616186                                                         \n",
       "         GSE180661_HGSOC_SPECTRUM-OV-045_S1_CD45P_LEFT_OVARY_GTTTACTCAAGGCCTC\n",
       "HES4     -0.29928685                                                         \n",
       "ISG15     0.48386717                                                         \n",
       "TNFRSF18 -0.12068373                                                         \n",
       "TNFRSF4  -0.17748924                                                         \n",
       "ATAD3C   -0.07187153                                                         \n",
       "PRKCZ    -0.08495224                                                         \n",
       "         GSE180661_HGSOC_SPECTRUM-OV-045_S1_CD45P_LEFT_OVARY_TACCGAACAAACCGGA\n",
       "HES4     -0.29836658                                                         \n",
       "ISG15     0.87684225                                                         \n",
       "TNFRSF18 -0.13158176                                                         \n",
       "TNFRSF4  -0.14318806                                                         \n",
       "ATAD3C   -0.06170866                                                         \n",
       "PRKCZ    -0.08196928                                                         \n",
       "         GSE180661_HGSOC_SPECTRUM-OV-045_S1_CD45P_LEFT_OVARY_TCACGCTTCCGTCACT\n",
       "HES4     -0.29131687                                                         \n",
       "ISG15    -0.90866133                                                         \n",
       "TNFRSF18 -0.12649585                                                         \n",
       "TNFRSF4  -0.17085078                                                         \n",
       "ATAD3C   -0.06710324                                                         \n",
       "PRKCZ    -0.08244721                                                         \n",
       "         GSE180661_HGSOC_SPECTRUM-OV-045_S1_CD45P_LEFT_OVARY_TGCAGTAGTGTTGCCG\n",
       "HES4     -0.29165102                                                         \n",
       "ISG15    -0.89511735                                                         \n",
       "TNFRSF18 -0.12192309                                                         \n",
       "TNFRSF4  -0.17747921                                                         \n",
       "ATAD3C   -0.06972128                                                         \n",
       "PRKCZ    -0.08414816                                                         \n",
       "         GSE180661_HGSOC_SPECTRUM-OV-045_S1_CD45P_LEFT_OVARY_TGTGAGTTCGGAAACG\n",
       "HES4     -0.27111413                                                         \n",
       "ISG15    -0.78094494                                                         \n",
       "TNFRSF18 -0.12320520                                                         \n",
       "TNFRSF4  -0.15387784                                                         \n",
       "ATAD3C   -0.06360366                                                         \n",
       "PRKCZ    -0.08378394                                                         "
      ]
     },
     "metadata": {},
     "output_type": "display_data"
    }
   ],
   "source": [
    "head(expression_data)"
   ]
  },
  {
   "cell_type": "code",
   "execution_count": 21,
   "metadata": {
    "vscode": {
     "languageId": "r"
    }
   },
   "outputs": [],
   "source": [
    "#make data frame with cell annotations\n",
    "metadata <- data@meta.data\n",
    "cellInfo <- data.frame(NR_annotations_simple = metadata$NR_annotations_simple)\n",
    "rownames(cellInfo) <- rownames(data@meta.data)\n",
    "colnames(cellInfo) <- \"NR_annotations_simple\""
   ]
  },
  {
   "cell_type": "code",
   "execution_count": 22,
   "metadata": {
    "vscode": {
     "languageId": "r"
    }
   },
   "outputs": [
    {
     "data": {
      "text/html": [
       "<table class=\"dataframe\">\n",
       "<caption>A data.frame: 6 × 1</caption>\n",
       "<thead>\n",
       "\t<tr><th></th><th scope=col>NR_annotations_simple</th></tr>\n",
       "\t<tr><th></th><th scope=col>&lt;fct&gt;</th></tr>\n",
       "</thead>\n",
       "<tbody>\n",
       "\t<tr><th scope=row>GSE215120_AM1_AAATGCCCAGAGCCAA-1</th><td>cDC2</td></tr>\n",
       "\t<tr><th scope=row>GSE215120_AM1_ACACTGATCCACTGGG-1</th><td>cDC2</td></tr>\n",
       "\t<tr><th scope=row>GSE215120_AM1_ACAGCCGCAAACCTAC-1</th><td>cDC2</td></tr>\n",
       "\t<tr><th scope=row>GSE215120_AM1_ACCAGTAAGACTGGGT-1</th><td>cDC1</td></tr>\n",
       "\t<tr><th scope=row>GSE215120_AM1_ACGTCAACAAGGACTG-1</th><td>cDC1</td></tr>\n",
       "\t<tr><th scope=row>GSE215120_AM1_ACGTCAATCCGCATCT-1</th><td>cDC2</td></tr>\n",
       "</tbody>\n",
       "</table>\n"
      ],
      "text/latex": [
       "A data.frame: 6 × 1\n",
       "\\begin{tabular}{r|l}\n",
       "  & NR\\_annotations\\_simple\\\\\n",
       "  & <fct>\\\\\n",
       "\\hline\n",
       "\tGSE215120\\_AM1\\_AAATGCCCAGAGCCAA-1 & cDC2\\\\\n",
       "\tGSE215120\\_AM1\\_ACACTGATCCACTGGG-1 & cDC2\\\\\n",
       "\tGSE215120\\_AM1\\_ACAGCCGCAAACCTAC-1 & cDC2\\\\\n",
       "\tGSE215120\\_AM1\\_ACCAGTAAGACTGGGT-1 & cDC1\\\\\n",
       "\tGSE215120\\_AM1\\_ACGTCAACAAGGACTG-1 & cDC1\\\\\n",
       "\tGSE215120\\_AM1\\_ACGTCAATCCGCATCT-1 & cDC2\\\\\n",
       "\\end{tabular}\n"
      ],
      "text/markdown": [
       "\n",
       "A data.frame: 6 × 1\n",
       "\n",
       "| <!--/--> | NR_annotations_simple &lt;fct&gt; |\n",
       "|---|---|\n",
       "| GSE215120_AM1_AAATGCCCAGAGCCAA-1 | cDC2 |\n",
       "| GSE215120_AM1_ACACTGATCCACTGGG-1 | cDC2 |\n",
       "| GSE215120_AM1_ACAGCCGCAAACCTAC-1 | cDC2 |\n",
       "| GSE215120_AM1_ACCAGTAAGACTGGGT-1 | cDC1 |\n",
       "| GSE215120_AM1_ACGTCAACAAGGACTG-1 | cDC1 |\n",
       "| GSE215120_AM1_ACGTCAATCCGCATCT-1 | cDC2 |\n",
       "\n"
      ],
      "text/plain": [
       "                                 NR_annotations_simple\n",
       "GSE215120_AM1_AAATGCCCAGAGCCAA-1 cDC2                 \n",
       "GSE215120_AM1_ACACTGATCCACTGGG-1 cDC2                 \n",
       "GSE215120_AM1_ACAGCCGCAAACCTAC-1 cDC2                 \n",
       "GSE215120_AM1_ACCAGTAAGACTGGGT-1 cDC1                 \n",
       "GSE215120_AM1_ACGTCAACAAGGACTG-1 cDC1                 \n",
       "GSE215120_AM1_ACGTCAATCCGCATCT-1 cDC2                 "
      ]
     },
     "metadata": {},
     "output_type": "display_data"
    }
   ],
   "source": [
    "head(cellInfo)"
   ]
  },
  {
   "cell_type": "markdown",
   "metadata": {},
   "source": [
    "### define function for add cell annotations to loom\n",
    "https://bookdown.org/ytliu13207/SingleCellMultiOmicsDataAnalysis/scenic.html"
   ]
  },
  {
   "cell_type": "code",
   "execution_count": 37,
   "metadata": {
    "vscode": {
     "languageId": "r"
    }
   },
   "outputs": [],
   "source": [
    "add_cell_annotation <- function(loom, cellAnnotation)\n",
    "{\n",
    "  cellAnnotation <- data.frame(cellAnnotation)\n",
    "  if(any(c(\"nGene\", \"nUMI\") %in% colnames(cellAnnotation)))\n",
    "  {\n",
    "    warning(\"Columns 'nGene' and 'nUMI' will not be added as annotations to the loom file.\")\n",
    "    cellAnnotation <- cellAnnotation[,colnames(cellAnnotation) != \"nGene\", drop=FALSE]\n",
    "    cellAnnotation <- cellAnnotation[,colnames(cellAnnotation) != \"nUMI\", drop=FALSE]\n",
    "  }\n",
    "  \n",
    "  if(ncol(cellAnnotation)<=0) stop(\"The cell annotation contains no columns\")\n",
    "  if(!all(get_cell_ids(loom) %in% rownames(cellAnnotation))) stop(\"Cell IDs are missing in the annotation\")\n",
    "  \n",
    "  cellAnnotation <- cellAnnotation[get_cell_ids(loom),,drop=FALSE]\n",
    "  # Add annotation\n",
    "  for(cn in colnames(cellAnnotation))\n",
    "  {\n",
    "    add_col_attr(loom=loom, key=cn, value=cellAnnotation[,cn])\n",
    "  }\n",
    "  \n",
    "  invisible(loom)\n",
    "}"
   ]
  },
  {
   "cell_type": "code",
   "execution_count": 40,
   "metadata": {
    "vscode": {
     "languageId": "r"
    }
   },
   "outputs": [
    {
     "name": "stdout",
     "output_type": "stream",
     "text": [
      "[1] \"Adding global attributes...\"\n",
      "[1] \"Adding matrix...\"\n",
      "  |======================================================================| 100%[1] \"Adding column attributes...\"\n"
     ]
    },
    {
     "name": "stderr",
     "output_type": "stream",
     "text": [
      "Warning message in doTryCatch(return(expr), name, parentenv, handler):\n",
      "“Default metric nUMI was not added because the input matrix does not seem to be the raw counts.”\n"
     ]
    },
    {
     "name": "stdout",
     "output_type": "stream",
     "text": [
      "[1] \"Adding default metrics nGene...\"\n"
     ]
    },
    {
     "name": "stderr",
     "output_type": "stream",
     "text": [
      "Warning message in doTryCatch(return(expr), name, parentenv, handler):\n",
      "“No default embedding set for the loom. You'll not be able to visualize it in SCope.”\n"
     ]
    },
    {
     "name": "stdout",
     "output_type": "stream",
     "text": [
      "[1] \"Adding row attributes...\"\n",
      "[1] \"Adding columns graphs...\"\n",
      "[1] \"Adding row graphs...\"\n",
      "[1] \"Adding layers...\"\n"
     ]
    }
   ],
   "source": [
    "# save as a loom file:\n",
    "loom <- build_loom(\"SCENIC-DC-loom.loom\", dgem=expression_data)\n",
    "loom <- add_cell_annotation(loom, cellInfo)\n",
    "close_loom(loom)"
   ]
  },
  {
   "cell_type": "markdown",
   "metadata": {},
   "source": [
    "# Install required packages (only run 1st time)"
   ]
  },
  {
   "cell_type": "code",
   "execution_count": 13,
   "metadata": {
    "vscode": {
     "languageId": "r"
    }
   },
   "outputs": [
    {
     "data": {
      "text/plain": [
       "[1] ‘3.18’"
      ]
     },
     "metadata": {},
     "output_type": "display_data"
    }
   ],
   "source": [
    "if (!requireNamespace(\"BiocManager\", quietly = TRUE)) install.packages(\"BiocManager\")\n",
    "BiocManager::version()"
   ]
  },
  {
   "cell_type": "code",
   "execution_count": 14,
   "metadata": {
    "vscode": {
     "languageId": "r"
    }
   },
   "outputs": [
    {
     "data": {
      "text/html": [
       "'R version 4.3.3 (2024-02-29)'"
      ],
      "text/latex": [
       "'R version 4.3.3 (2024-02-29)'"
      ],
      "text/markdown": [
       "'R version 4.3.3 (2024-02-29)'"
      ],
      "text/plain": [
       "[1] \"R version 4.3.3 (2024-02-29)\""
      ]
     },
     "metadata": {},
     "output_type": "display_data"
    }
   ],
   "source": [
    "R.version.string"
   ]
  },
  {
   "cell_type": "code",
   "execution_count": 15,
   "metadata": {
    "vscode": {
     "languageId": "r"
    }
   },
   "outputs": [
    {
     "name": "stderr",
     "output_type": "stream",
     "text": [
      "'getOption(\"repos\")' replaces Bioconductor standard repositories, see\n",
      "'help(\"repositories\", package = \"BiocManager\")' for details.\n",
      "Replacement repositories:\n",
      "    CRAN: https://cran.r-project.org\n",
      "\n",
      "Bioconductor version 3.18 (BiocManager 1.30.25), R 4.3.3 (2024-02-29)\n",
      "\n",
      "Warning message:\n",
      "“package(s) not installed when version(s) same as or greater than current; use\n",
      "  `force = TRUE` to re-install: 'AUCell'”\n",
      "Installing package(s) 'RcisTarget'\n",
      "\n",
      "Warning message:\n",
      "“package ‘RcisTarget’ is not available for Bioconductor version '3.18'\n",
      "\n",
      "A version of this package for your version of R might be available elsewhere,\n",
      "see the ideas at\n",
      "https://cran.r-project.org/doc/manuals/r-patched/R-admin.html#Installing-packages”\n",
      "Old packages: 'askpass', 'batchelor', 'beachmat', 'BH', 'bit64', 'bslib',\n",
      "  'cachem', 'caTools', 'clue', 'cluster', 'credentials', 'downlit',\n",
      "  'GenomeInfoDb', 'gert', 'gplots', 'HDF5Array', 'hdf5r', 'highr', 'httr2',\n",
      "  'hunspell', 'knitr', 'leidenbase', 'openssl', 'parallelly', 'pillar',\n",
      "  'pkgdown', 'pkgload', 'progressr', 'promises', 'ragg', 'RCurl', 'reprex',\n",
      "  'rmarkdown', 'roxygen2', 'RSQLite', 'segmented', 'sf', 'shiny', 'spam',\n",
      "  'SparseArray', 'spatstat.data', 'spatstat.explore', 'spatstat.geom',\n",
      "  'spatstat.random', 'spdep', 'spelling', 'survival', 'systemfonts',\n",
      "  'testthat', 'textshaping', 'tinytex', 'usethis', 'uuid', 'uwot', 'waldo',\n",
      "  'wk', 'xfun', 'XML', 'yaml', 'zlibbioc'\n",
      "\n",
      "'getOption(\"repos\")' replaces Bioconductor standard repositories, see\n",
      "'help(\"repositories\", package = \"BiocManager\")' for details.\n",
      "Replacement repositories:\n",
      "    CRAN: https://cran.r-project.org\n",
      "\n",
      "Bioconductor version 3.18 (BiocManager 1.30.25), R 4.3.3 (2024-02-29)\n",
      "\n",
      "Installing package(s) 'GRNBoost'\n",
      "\n",
      "Warning message:\n",
      "“package ‘GRNBoost’ is not available for Bioconductor version '3.18'\n",
      "\n",
      "A version of this package for your version of R might be available elsewhere,\n",
      "see the ideas at\n",
      "https://cran.r-project.org/doc/manuals/r-patched/R-admin.html#Installing-packages”\n",
      "Old packages: 'askpass', 'batchelor', 'beachmat', 'BH', 'bit64', 'bslib',\n",
      "  'cachem', 'caTools', 'clue', 'cluster', 'credentials', 'downlit',\n",
      "  'GenomeInfoDb', 'gert', 'gplots', 'HDF5Array', 'hdf5r', 'highr', 'httr2',\n",
      "  'hunspell', 'knitr', 'leidenbase', 'openssl', 'parallelly', 'pillar',\n",
      "  'pkgdown', 'pkgload', 'progressr', 'promises', 'ragg', 'RCurl', 'reprex',\n",
      "  'rmarkdown', 'roxygen2', 'RSQLite', 'segmented', 'sf', 'shiny', 'spam',\n",
      "  'SparseArray', 'spatstat.data', 'spatstat.explore', 'spatstat.geom',\n",
      "  'spatstat.random', 'spdep', 'spelling', 'survival', 'systemfonts',\n",
      "  'testthat', 'textshaping', 'tinytex', 'usethis', 'uuid', 'uwot', 'waldo',\n",
      "  'wk', 'xfun', 'XML', 'yaml', 'zlibbioc'\n",
      "\n"
     ]
    }
   ],
   "source": [
    "BiocManager::install(c(\"AUCell\", \"RcisTarget\"))\n",
    "BiocManager::install(c(\"GRNBoost\"))"
   ]
  },
  {
   "cell_type": "code",
   "execution_count": 16,
   "metadata": {
    "vscode": {
     "languageId": "r"
    }
   },
   "outputs": [
    {
     "name": "stderr",
     "output_type": "stream",
     "text": [
      "'getOption(\"repos\")' replaces Bioconductor standard repositories, see\n",
      "'help(\"repositories\", package = \"BiocManager\")' for details.\n",
      "Replacement repositories:\n",
      "    CRAN: https://cran.r-project.org\n",
      "\n",
      "Bioconductor version 3.18 (BiocManager 1.30.25), R 4.3.3 (2024-02-29)\n",
      "\n",
      "Warning message:\n",
      "“package(s) not installed when version(s) same as or greater than current; use\n",
      "  `force = TRUE` to re-install: 'zoo' 'mixtools'”\n",
      "Installing package(s) 'rbokeh'\n",
      "\n",
      "Warning message:\n",
      "“package ‘rbokeh’ is not available for Bioconductor version '3.18'\n",
      "\n",
      "A version of this package for your version of R might be available elsewhere,\n",
      "see the ideas at\n",
      "https://cran.r-project.org/doc/manuals/r-patched/R-admin.html#Installing-packages”\n",
      "Old packages: 'askpass', 'batchelor', 'beachmat', 'BH', 'bit64', 'bslib',\n",
      "  'cachem', 'caTools', 'clue', 'cluster', 'credentials', 'downlit',\n",
      "  'GenomeInfoDb', 'gert', 'gplots', 'HDF5Array', 'hdf5r', 'highr', 'httr2',\n",
      "  'hunspell', 'knitr', 'leidenbase', 'openssl', 'parallelly', 'pillar',\n",
      "  'pkgdown', 'pkgload', 'progressr', 'promises', 'ragg', 'RCurl', 'reprex',\n",
      "  'rmarkdown', 'roxygen2', 'RSQLite', 'segmented', 'sf', 'shiny', 'spam',\n",
      "  'SparseArray', 'spatstat.data', 'spatstat.explore', 'spatstat.geom',\n",
      "  'spatstat.random', 'spdep', 'spelling', 'survival', 'systemfonts',\n",
      "  'testthat', 'textshaping', 'tinytex', 'usethis', 'uuid', 'uwot', 'waldo',\n",
      "  'wk', 'xfun', 'XML', 'yaml', 'zlibbioc'\n",
      "\n",
      "'getOption(\"repos\")' replaces Bioconductor standard repositories, see\n",
      "'help(\"repositories\", package = \"BiocManager\")' for details.\n",
      "Replacement repositories:\n",
      "    CRAN: https://cran.r-project.org\n",
      "\n",
      "Bioconductor version 3.18 (BiocManager 1.30.25), R 4.3.3 (2024-02-29)\n",
      "\n",
      "Warning message:\n",
      "“package(s) not installed when version(s) same as or greater than current; use\n",
      "  `force = TRUE` to re-install: 'ComplexHeatmap' 'Rtsne'”\n",
      "Installing package(s) 'DT', 'NMF', 'R2HTML'\n",
      "\n",
      "also installing the dependencies ‘registry’, ‘rngtools’, ‘gridBase’\n",
      "\n",
      "\n",
      "Updating HTML index of packages in '.Library'\n",
      "\n",
      "Making 'packages.html' ...\n",
      " done\n",
      "\n",
      "Old packages: 'askpass', 'batchelor', 'beachmat', 'BH', 'bit64', 'bslib',\n",
      "  'cachem', 'caTools', 'clue', 'cluster', 'credentials', 'downlit',\n",
      "  'GenomeInfoDb', 'gert', 'gplots', 'HDF5Array', 'hdf5r', 'highr', 'httr2',\n",
      "  'hunspell', 'knitr', 'leidenbase', 'openssl', 'parallelly', 'pillar',\n",
      "  'pkgdown', 'pkgload', 'progressr', 'promises', 'ragg', 'RCurl', 'reprex',\n",
      "  'rmarkdown', 'roxygen2', 'RSQLite', 'segmented', 'sf', 'shiny', 'spam',\n",
      "  'SparseArray', 'spatstat.data', 'spatstat.explore', 'spatstat.geom',\n",
      "  'spatstat.random', 'spdep', 'spelling', 'survival', 'systemfonts',\n",
      "  'testthat', 'textshaping', 'tinytex', 'usethis', 'uuid', 'uwot', 'waldo',\n",
      "  'wk', 'xfun', 'XML', 'yaml', 'zlibbioc'\n",
      "\n",
      "'getOption(\"repos\")' replaces Bioconductor standard repositories, see\n",
      "'help(\"repositories\", package = \"BiocManager\")' for details.\n",
      "Replacement repositories:\n",
      "    CRAN: https://cran.r-project.org\n",
      "\n",
      "Bioconductor version 3.18 (BiocManager 1.30.25), R 4.3.3 (2024-02-29)\n",
      "\n",
      "Installing package(s) 'doMC', 'doRNG'\n",
      "\n",
      "Updating HTML index of packages in '.Library'\n",
      "\n",
      "Making 'packages.html' ...\n",
      " done\n",
      "\n",
      "Old packages: 'askpass', 'batchelor', 'beachmat', 'BH', 'bit64', 'bslib',\n",
      "  'cachem', 'caTools', 'clue', 'cluster', 'credentials', 'downlit',\n",
      "  'GenomeInfoDb', 'gert', 'gplots', 'HDF5Array', 'hdf5r', 'highr', 'httr2',\n",
      "  'hunspell', 'knitr', 'leidenbase', 'openssl', 'parallelly', 'pillar',\n",
      "  'pkgdown', 'pkgload', 'progressr', 'promises', 'ragg', 'RCurl', 'reprex',\n",
      "  'rmarkdown', 'roxygen2', 'RSQLite', 'segmented', 'sf', 'shiny', 'spam',\n",
      "  'SparseArray', 'spatstat.data', 'spatstat.explore', 'spatstat.geom',\n",
      "  'spatstat.random', 'spdep', 'spelling', 'survival', 'systemfonts',\n",
      "  'testthat', 'textshaping', 'tinytex', 'usethis', 'uuid', 'uwot', 'waldo',\n",
      "  'wk', 'xfun', 'XML', 'yaml', 'zlibbioc'\n",
      "\n",
      "Downloading GitHub repo aertslab/SCopeLoomR@HEAD\n",
      "\n"
     ]
    },
    {
     "name": "stdout",
     "output_type": "stream",
     "text": [
      "XML   (3.99-0.16.1 -> 3.99-0.17) [CRAN]\n",
      "yaml  (2.3.8       -> 2.3.10   ) [CRAN]\n",
      "bit64 (4.0.5       -> 4.5.2    ) [CRAN]\n",
      "rlist (NA          -> 0.4.6.2  ) [CRAN]\n",
      "hdf5r (1.3.10      -> 1.3.11   ) [CRAN]\n"
     ]
    },
    {
     "name": "stderr",
     "output_type": "stream",
     "text": [
      "Installing 5 packages: XML, yaml, bit64, rlist, hdf5r\n",
      "\n",
      "Updating HTML index of packages in '.Library'\n",
      "\n",
      "Making 'packages.html' ...\n",
      " done\n",
      "\n"
     ]
    },
    {
     "name": "stdout",
     "output_type": "stream",
     "text": [
      "\u001b[36m──\u001b[39m \u001b[36mR CMD build\u001b[39m \u001b[36m─────────────────────────────────────────────────────────────────────────────────────────────────────────────────────────────────────────────────────────────────────────────────────────────────────\u001b[39m\n",
      "\u001b[32m✔\u001b[39m  \u001b[90mchecking for file ‘/scratch/temp/12015873/RtmpLUys2U/remotes1f01cf5c5718b9/aertslab-SCopeLoomR-20f4e0a/DESCRIPTION’\u001b[39m\u001b[36m\u001b[39m\n",
      "\u001b[90m─\u001b[39m\u001b[90m  \u001b[39m\u001b[90mpreparing ‘SCopeLoomR’:\u001b[39m\u001b[36m\u001b[39m\n",
      "\u001b[32m✔\u001b[39m  \u001b[90mchecking DESCRIPTION meta-information\u001b[39m\u001b[36m\u001b[39m\n",
      "\u001b[90m─\u001b[39m\u001b[90m  \u001b[39m\u001b[90mchecking for LF line-endings in source and make files and shell scripts\u001b[39m\u001b[36m\u001b[39m\n",
      "\u001b[90m─\u001b[39m\u001b[90m  \u001b[39m\u001b[90mchecking for empty or unneeded directories\u001b[39m\u001b[36m\u001b[39m\n",
      "\u001b[90m─\u001b[39m\u001b[90m  \u001b[39m\u001b[90mbuilding ‘SCopeLoomR_0.13.0.tar.gz’\u001b[39m\u001b[36m\u001b[39m\n",
      "   Warning: invalid uid value replaced by that for user 'nobody'\n",
      "   Warning: invalid gid value replaced by that for user 'nobody'\n",
      "   \n",
      "\r"
     ]
    }
   ],
   "source": [
    "# To score the network on cells (i.e. run AUCell):\n",
    "BiocManager::install(c(\"zoo\", \"mixtools\", \"rbokeh\"))\n",
    "# For various visualizations and perform t-SNEs:\n",
    "BiocManager::install(c(\"DT\", \"NMF\", \"ComplexHeatmap\", \"R2HTML\", \"Rtsne\"))\n",
    "# To support paralell execution (not available in Windows):\n",
    "BiocManager::install(c(\"doMC\", \"doRNG\"))\n",
    "# To export/visualize in http://scope.aertslab.org\n",
    "if (!requireNamespace(\"devtools\", quietly = TRUE)) install.packages(\"devtools\")\n",
    "devtools::install_github(\"aertslab/SCopeLoomR\", build_vignettes = TRUE)"
   ]
  },
  {
   "cell_type": "code",
   "execution_count": 17,
   "metadata": {
    "vscode": {
     "languageId": "r"
    }
   },
   "outputs": [
    {
     "name": "stderr",
     "output_type": "stream",
     "text": [
      "Downloading GitHub repo aertslab/SCENIC@HEAD\n",
      "\n"
     ]
    },
    {
     "name": "stdout",
     "output_type": "stream",
     "text": [
      "cachem       (1.0.8     -> 1.1.0    ) [CRAN]\n",
      "tinytex      (0.50      -> 0.54     ) [CRAN]\n",
      "bslib        (0.7.0     -> 0.8.0    ) [CRAN]\n",
      "askpass      (1.2.0     -> 1.2.1    ) [CRAN]\n",
      "xfun         (0.43      -> 0.49     ) [CRAN]\n",
      "highr        (0.10      -> 0.11     ) [CRAN]\n",
      "openssl      (2.1.2     -> 2.3.0    ) [CRAN]\n",
      "rmarkdown    (2.26      -> 2.29     ) [CRAN]\n",
      "knitr        (1.46      -> 1.49     ) [CRAN]\n",
      "pillar       (1.9.0     -> 1.10.0   ) [CRAN]\n",
      "promises     (1.3.0     -> 1.3.2    ) [CRAN]\n",
      "RCurl        (1.98-1.14 -> 1.98-1.16) [CRAN]\n",
      "segmented    (2.0-4     -> 2.1-3    ) [CRAN]\n",
      "RSQLite      (2.3.6     -> 2.3.9    ) [CRAN]\n",
      "shiny        (1.8.1.1   -> 1.10.0   ) [CRAN]\n",
      "arrow        (NA        -> 18.1.0   ) [CRAN]\n",
      "dynamicTr... (NA        -> 1.63-1   ) [CRAN]\n",
      "RcisTarget   (NA        -> 1.20.0   ) [CRAN]\n",
      "GENIE3       (NA        -> 1.22.0   ) [CRAN]\n"
     ]
    },
    {
     "name": "stderr",
     "output_type": "stream",
     "text": [
      "Skipping 22 packages ahead of CRAN: BiocGenerics, zlibbioc, XVector, GenomeInfoDbData, DelayedArray, S4Arrays, GenomeInfoDb, IRanges, S4Vectors, Biobase, GenomicRanges, MatrixGenerics, Biostrings, KEGGREST, AnnotationDbi, graph, annotate, sparseMatrixStats, SummarizedExperiment, GSEABase, DelayedMatrixStats, AUCell\n",
      "\n",
      "Installing 19 packages: cachem, tinytex, bslib, askpass, xfun, highr, openssl, rmarkdown, knitr, pillar, promises, RCurl, segmented, RSQLite, shiny, arrow, dynamicTreeCut, RcisTarget, GENIE3\n",
      "\n",
      "Warning message in i.p(...):\n",
      "“installation of package ‘arrow’ had non-zero exit status”\n",
      "Warning message in i.p(...):\n",
      "“installation of package ‘RcisTarget’ had non-zero exit status”\n",
      "Updating HTML index of packages in '.Library'\n",
      "\n",
      "Making 'packages.html' ...\n",
      " done\n",
      "\n"
     ]
    },
    {
     "name": "stdout",
     "output_type": "stream",
     "text": [
      "\u001b[36m──\u001b[39m \u001b[36mR CMD build\u001b[39m \u001b[36m─────────────────────────────────────────────────────────────────────────────────────────────────────────────────────────────────────────────────────────────────────────────────────────────────────\u001b[39m\n",
      "\u001b[32m✔\u001b[39m  \u001b[90mchecking for file ‘/scratch/temp/12015873/RtmpLUys2U/remotes1f01cf49e9df65/aertslab-SCENIC-7a74341/DESCRIPTION’\u001b[39m\u001b[36m\u001b[39m\n",
      "\u001b[90m─\u001b[39m\u001b[90m  \u001b[39m\u001b[90mpreparing ‘SCENIC’:\u001b[39m\u001b[36m\u001b[39m\n",
      "\u001b[32m✔\u001b[39m  \u001b[90mchecking DESCRIPTION meta-information\u001b[39m\u001b[36m\u001b[39m\n",
      "\u001b[90m─\u001b[39m\u001b[90m  \u001b[39m\u001b[90mchecking for LF line-endings in source and make files and shell scripts\u001b[39m\u001b[36m\u001b[39m\n",
      "\u001b[90m─\u001b[39m\u001b[90m  \u001b[39m\u001b[90mchecking for empty or unneeded directories\u001b[39m\u001b[36m\u001b[39m\n",
      "\u001b[90m─\u001b[39m\u001b[90m  \u001b[39m\u001b[90mbuilding ‘SCENIC_1.3.1.tar.gz’\u001b[39m\u001b[36m\u001b[39m\n",
      "   Warning: invalid uid value replaced by that for user 'nobody'\n",
      "   Warning: invalid gid value replaced by that for user 'nobody'\n",
      "   \n",
      "\r"
     ]
    },
    {
     "name": "stderr",
     "output_type": "stream",
     "text": [
      "Warning message in i.p(...):\n",
      "“installation of package ‘/scratch/temp/12015873/RtmpLUys2U/file1f01cf6819c10a/SCENIC_1.3.1.tar.gz’ had non-zero exit status”\n"
     ]
    },
    {
     "ename": "ERROR",
     "evalue": "Error in packageVersion(\"SCENIC\"): there is no package called ‘SCENIC’\n",
     "output_type": "error",
     "traceback": [
      "Error in packageVersion(\"SCENIC\"): there is no package called ‘SCENIC’\nTraceback:\n",
      "1. stop(packageNotFoundError(pkg, lib.loc, sys.call()))"
     ]
    }
   ],
   "source": [
    "if (!requireNamespace(\"devtools\", quietly = TRUE)) install.packages(\"devtools\")\n",
    "devtools::install_github(\"aertslab/SCENIC\") \n",
    "packageVersion(\"SCENIC\")"
   ]
  },
  {
   "cell_type": "code",
   "execution_count": null,
   "metadata": {
    "vscode": {
     "languageId": "r"
    }
   },
   "outputs": [],
   "source": [
    "dbFiles <- c(\"https://resources.aertslab.org/cistarget/databases/homo_sapiens/hg19/refseq_r45/mc9nr/gene_based/hg19-500bp-upstream-7species.mc9nr.feather\",\n",
    "\"https://resources.aertslab.org/cistarget/databases/homo_sapiens/hg19/refseq_r45/mc9nr/gene_based/hg19-tss-centered-10kb-7species.mc9nr.feather\")\n",
    "# mc9nr: Motif collection version 9: 24k motifs"
   ]
  }
 ],
 "metadata": {
  "kernelspec": {
   "display_name": "R",
   "language": "R",
   "name": "ir"
  },
  "language_info": {
   "codemirror_mode": "r",
   "file_extension": ".r",
   "mimetype": "text/x-r-source",
   "name": "R",
   "pygments_lexer": "r",
   "version": "4.3.3"
  }
 },
 "nbformat": 4,
 "nbformat_minor": 2
}
