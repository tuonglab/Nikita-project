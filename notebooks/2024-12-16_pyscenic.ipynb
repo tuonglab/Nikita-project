{
 "cells": [
  {
   "cell_type": "code",
   "execution_count": 1,
   "metadata": {},
   "outputs": [],
   "source": [
    "#load packages I need\n",
    "import os\n",
    "import tools\n",
    "import scanpy as sc\n",
    "import pandas as pd\n",
    "import matplotlib.pyplot as plt\n",
    "import pyscenic\n",
    "from pyscenic.aucell import aucell"
   ]
  },
  {
   "cell_type": "code",
   "execution_count": 2,
   "metadata": {},
   "outputs": [
    {
     "data": {
      "text/plain": [
       "'/scratch/user/s4436039/scdata/Python_Integration_Sep'"
      ]
     },
     "execution_count": 2,
     "metadata": {},
     "output_type": "execute_result"
    }
   ],
   "source": [
    "#show current directory \n",
    "os.getcwd()\n",
    "os.chdir('/scratch/user/s4436039/scdata/Python_Integration_Sep')\n",
    "os.getcwd()"
   ]
  },
  {
   "cell_type": "code",
   "execution_count": 3,
   "metadata": {},
   "outputs": [],
   "source": [
    "# read in data\n",
    "data = sc.read_h5ad('NRclean_clustered2.h5ad')"
   ]
  },
  {
   "cell_type": "code",
   "execution_count": 4,
   "metadata": {},
   "outputs": [],
   "source": [
    "#make two versions of the data, once containing just cDC1 and mregDC, and another containing just cDC2 and mregDC\n",
    "data_DC1mreg = data[data.obs[\"NR_annotations_simple\"].isin([\"cDC1\",\"mregDC\"])]\n",
    "data_DC2mreg = data[data.obs[\"NR_annotations_simple\"].isin([\"cDC2\",\"mregDC\"])]"
   ]
  },
  {
   "cell_type": "markdown",
   "metadata": {},
   "source": [
    "# pyscenic:"
   ]
  },
  {
   "cell_type": "markdown",
   "metadata": {},
   "source": [
    "## 1. GRN Inference (gene regulatory network)"
   ]
  },
  {
   "cell_type": "code",
   "execution_count": 26,
   "metadata": {},
   "outputs": [],
   "source": [
    "from arboreto.algo import grnboost2"
   ]
  },
  {
   "cell_type": "code",
   "execution_count": 23,
   "metadata": {},
   "outputs": [],
   "source": [
    "# Extract the gene expression matrix\n",
    "expr_matrix = pd.DataFrame(data_DC1mreg.X, index=data_DC1mreg.obs_names, columns=data_DC1mreg.var_names)"
   ]
  },
  {
   "cell_type": "code",
   "execution_count": 24,
   "metadata": {},
   "outputs": [
    {
     "data": {
      "text/html": [
       "<div>\n",
       "<style scoped>\n",
       "    .dataframe tbody tr th:only-of-type {\n",
       "        vertical-align: middle;\n",
       "    }\n",
       "\n",
       "    .dataframe tbody tr th {\n",
       "        vertical-align: top;\n",
       "    }\n",
       "\n",
       "    .dataframe thead th {\n",
       "        text-align: right;\n",
       "    }\n",
       "</style>\n",
       "<table border=\"1\" class=\"dataframe\">\n",
       "  <thead>\n",
       "    <tr style=\"text-align: right;\">\n",
       "      <th></th>\n",
       "      <th>HES4</th>\n",
       "      <th>ISG15</th>\n",
       "      <th>TNFRSF18</th>\n",
       "      <th>TNFRSF4</th>\n",
       "      <th>ATAD3C</th>\n",
       "      <th>PRKCZ</th>\n",
       "      <th>HES2</th>\n",
       "      <th>TNFRSF25</th>\n",
       "      <th>ERRFI1</th>\n",
       "      <th>RBP7</th>\n",
       "      <th>...</th>\n",
       "      <th>MX1</th>\n",
       "      <th>TFF3</th>\n",
       "      <th>TFF1</th>\n",
       "      <th>CSTB</th>\n",
       "      <th>COL6A1</th>\n",
       "      <th>COL6A2</th>\n",
       "      <th>S100B</th>\n",
       "      <th>MT-ATP8</th>\n",
       "      <th>MT-ND4L</th>\n",
       "      <th>MT-ND6</th>\n",
       "    </tr>\n",
       "  </thead>\n",
       "  <tbody>\n",
       "    <tr>\n",
       "      <th>GSE215120_AM1_ACCAGTAAGACTGGGT-1</th>\n",
       "      <td>-0.323357</td>\n",
       "      <td>0.228329</td>\n",
       "      <td>-0.125734</td>\n",
       "      <td>-0.165770</td>\n",
       "      <td>-0.070054</td>\n",
       "      <td>-0.084578</td>\n",
       "      <td>-0.075738</td>\n",
       "      <td>-0.079652</td>\n",
       "      <td>2.267030</td>\n",
       "      <td>-0.346255</td>\n",
       "      <td>...</td>\n",
       "      <td>-0.764149</td>\n",
       "      <td>-0.100872</td>\n",
       "      <td>-0.082936</td>\n",
       "      <td>-1.006041</td>\n",
       "      <td>-0.121596</td>\n",
       "      <td>-0.109659</td>\n",
       "      <td>-0.321856</td>\n",
       "      <td>-0.552289</td>\n",
       "      <td>-1.038093</td>\n",
       "      <td>0.623567</td>\n",
       "    </tr>\n",
       "    <tr>\n",
       "      <th>GSE215120_AM1_ACGTCAACAAGGACTG-1</th>\n",
       "      <td>-0.392818</td>\n",
       "      <td>0.613830</td>\n",
       "      <td>-0.106020</td>\n",
       "      <td>-0.234417</td>\n",
       "      <td>-0.095923</td>\n",
       "      <td>-0.092989</td>\n",
       "      <td>-0.196529</td>\n",
       "      <td>-0.061677</td>\n",
       "      <td>-0.348859</td>\n",
       "      <td>-0.290299</td>\n",
       "      <td>...</td>\n",
       "      <td>-0.107679</td>\n",
       "      <td>-0.014869</td>\n",
       "      <td>-0.042852</td>\n",
       "      <td>-0.659405</td>\n",
       "      <td>-0.249138</td>\n",
       "      <td>-0.201969</td>\n",
       "      <td>1.861450</td>\n",
       "      <td>-0.423993</td>\n",
       "      <td>-1.248492</td>\n",
       "      <td>-0.433341</td>\n",
       "    </tr>\n",
       "    <tr>\n",
       "      <th>GSE215120_AM1_ACTGAGTCAGGCTGAA-1</th>\n",
       "      <td>-0.306740</td>\n",
       "      <td>-0.984695</td>\n",
       "      <td>-0.125048</td>\n",
       "      <td>5.608533</td>\n",
       "      <td>-0.069898</td>\n",
       "      <td>-0.083811</td>\n",
       "      <td>-0.078175</td>\n",
       "      <td>-0.084302</td>\n",
       "      <td>-0.226265</td>\n",
       "      <td>-0.330249</td>\n",
       "      <td>...</td>\n",
       "      <td>-0.754118</td>\n",
       "      <td>-0.099942</td>\n",
       "      <td>-0.081539</td>\n",
       "      <td>-0.916316</td>\n",
       "      <td>-0.121152</td>\n",
       "      <td>-0.109597</td>\n",
       "      <td>-0.321951</td>\n",
       "      <td>-0.565476</td>\n",
       "      <td>-1.084679</td>\n",
       "      <td>-0.540388</td>\n",
       "    </tr>\n",
       "    <tr>\n",
       "      <th>GSE215120_AM1_ACTGTCCGTCTCTTAT-1</th>\n",
       "      <td>-0.320882</td>\n",
       "      <td>-0.364538</td>\n",
       "      <td>-0.125863</td>\n",
       "      <td>-0.174040</td>\n",
       "      <td>-0.070967</td>\n",
       "      <td>-0.083985</td>\n",
       "      <td>-0.083788</td>\n",
       "      <td>-0.082307</td>\n",
       "      <td>-0.248738</td>\n",
       "      <td>-0.361046</td>\n",
       "      <td>...</td>\n",
       "      <td>-0.773888</td>\n",
       "      <td>-0.085153</td>\n",
       "      <td>-0.068670</td>\n",
       "      <td>-1.037655</td>\n",
       "      <td>-0.119181</td>\n",
       "      <td>-0.108784</td>\n",
       "      <td>1.384639</td>\n",
       "      <td>-0.555693</td>\n",
       "      <td>-1.035306</td>\n",
       "      <td>-0.471768</td>\n",
       "    </tr>\n",
       "    <tr>\n",
       "      <th>GSE215120_AM1_ATAACGCGTAGCGCTC-1</th>\n",
       "      <td>-0.335533</td>\n",
       "      <td>-0.546188</td>\n",
       "      <td>-0.122833</td>\n",
       "      <td>-0.178790</td>\n",
       "      <td>-0.074465</td>\n",
       "      <td>-0.085767</td>\n",
       "      <td>-0.097129</td>\n",
       "      <td>-0.076660</td>\n",
       "      <td>-0.264832</td>\n",
       "      <td>-0.342982</td>\n",
       "      <td>...</td>\n",
       "      <td>-0.832834</td>\n",
       "      <td>-0.082075</td>\n",
       "      <td>-0.072016</td>\n",
       "      <td>0.219361</td>\n",
       "      <td>-0.140774</td>\n",
       "      <td>-0.123798</td>\n",
       "      <td>1.022691</td>\n",
       "      <td>-0.580199</td>\n",
       "      <td>-1.059602</td>\n",
       "      <td>-0.538614</td>\n",
       "    </tr>\n",
       "  </tbody>\n",
       "</table>\n",
       "<p>5 rows × 1268 columns</p>\n",
       "</div>"
      ],
      "text/plain": [
       "                                      HES4     ISG15  TNFRSF18   TNFRSF4  \\\n",
       "GSE215120_AM1_ACCAGTAAGACTGGGT-1 -0.323357  0.228329 -0.125734 -0.165770   \n",
       "GSE215120_AM1_ACGTCAACAAGGACTG-1 -0.392818  0.613830 -0.106020 -0.234417   \n",
       "GSE215120_AM1_ACTGAGTCAGGCTGAA-1 -0.306740 -0.984695 -0.125048  5.608533   \n",
       "GSE215120_AM1_ACTGTCCGTCTCTTAT-1 -0.320882 -0.364538 -0.125863 -0.174040   \n",
       "GSE215120_AM1_ATAACGCGTAGCGCTC-1 -0.335533 -0.546188 -0.122833 -0.178790   \n",
       "\n",
       "                                    ATAD3C     PRKCZ      HES2  TNFRSF25  \\\n",
       "GSE215120_AM1_ACCAGTAAGACTGGGT-1 -0.070054 -0.084578 -0.075738 -0.079652   \n",
       "GSE215120_AM1_ACGTCAACAAGGACTG-1 -0.095923 -0.092989 -0.196529 -0.061677   \n",
       "GSE215120_AM1_ACTGAGTCAGGCTGAA-1 -0.069898 -0.083811 -0.078175 -0.084302   \n",
       "GSE215120_AM1_ACTGTCCGTCTCTTAT-1 -0.070967 -0.083985 -0.083788 -0.082307   \n",
       "GSE215120_AM1_ATAACGCGTAGCGCTC-1 -0.074465 -0.085767 -0.097129 -0.076660   \n",
       "\n",
       "                                    ERRFI1      RBP7  ...       MX1      TFF3  \\\n",
       "GSE215120_AM1_ACCAGTAAGACTGGGT-1  2.267030 -0.346255  ... -0.764149 -0.100872   \n",
       "GSE215120_AM1_ACGTCAACAAGGACTG-1 -0.348859 -0.290299  ... -0.107679 -0.014869   \n",
       "GSE215120_AM1_ACTGAGTCAGGCTGAA-1 -0.226265 -0.330249  ... -0.754118 -0.099942   \n",
       "GSE215120_AM1_ACTGTCCGTCTCTTAT-1 -0.248738 -0.361046  ... -0.773888 -0.085153   \n",
       "GSE215120_AM1_ATAACGCGTAGCGCTC-1 -0.264832 -0.342982  ... -0.832834 -0.082075   \n",
       "\n",
       "                                      TFF1      CSTB    COL6A1    COL6A2  \\\n",
       "GSE215120_AM1_ACCAGTAAGACTGGGT-1 -0.082936 -1.006041 -0.121596 -0.109659   \n",
       "GSE215120_AM1_ACGTCAACAAGGACTG-1 -0.042852 -0.659405 -0.249138 -0.201969   \n",
       "GSE215120_AM1_ACTGAGTCAGGCTGAA-1 -0.081539 -0.916316 -0.121152 -0.109597   \n",
       "GSE215120_AM1_ACTGTCCGTCTCTTAT-1 -0.068670 -1.037655 -0.119181 -0.108784   \n",
       "GSE215120_AM1_ATAACGCGTAGCGCTC-1 -0.072016  0.219361 -0.140774 -0.123798   \n",
       "\n",
       "                                     S100B   MT-ATP8   MT-ND4L    MT-ND6  \n",
       "GSE215120_AM1_ACCAGTAAGACTGGGT-1 -0.321856 -0.552289 -1.038093  0.623567  \n",
       "GSE215120_AM1_ACGTCAACAAGGACTG-1  1.861450 -0.423993 -1.248492 -0.433341  \n",
       "GSE215120_AM1_ACTGAGTCAGGCTGAA-1 -0.321951 -0.565476 -1.084679 -0.540388  \n",
       "GSE215120_AM1_ACTGTCCGTCTCTTAT-1  1.384639 -0.555693 -1.035306 -0.471768  \n",
       "GSE215120_AM1_ATAACGCGTAGCGCTC-1  1.022691 -0.580199 -1.059602 -0.538614  \n",
       "\n",
       "[5 rows x 1268 columns]"
      ]
     },
     "execution_count": 24,
     "metadata": {},
     "output_type": "execute_result"
    }
   ],
   "source": [
    "expr_matrix.head()"
   ]
  },
  {
   "cell_type": "code",
   "execution_count": 27,
   "metadata": {},
   "outputs": [
    {
     "name": "stderr",
     "output_type": "stream",
     "text": [
      "/home/s4436039/miniforge3/envs/env/lib/python3.12/site-packages/distributed/client.py:1613: VersionMismatchWarning: Mismatched versions found\n",
      "\n",
      "+---------+--------+-----------+---------+\n",
      "| Package | Client | Scheduler | Workers |\n",
      "+---------+--------+-----------+---------+\n",
      "| pandas  | 2.2.2  | 2.2.2     | None    |\n",
      "+---------+--------+-----------+---------+\n",
      "  warnings.warn(version_module.VersionMismatchWarning(msg[0][\"warning\"]))\n"
     ]
    },
    {
     "ename": "TypeError",
     "evalue": "Must supply at least one delayed object",
     "output_type": "error",
     "traceback": [
      "\u001b[0;31m---------------------------------------------------------------------------\u001b[0m",
      "\u001b[0;31mTypeError\u001b[0m                                 Traceback (most recent call last)",
      "Cell \u001b[0;32mIn[27], line 3\u001b[0m\n\u001b[1;32m      1\u001b[0m \u001b[38;5;66;03m# Run GRN inference\u001b[39;00m\n\u001b[1;32m      2\u001b[0m \u001b[38;5;66;03m# adjacency list --> potential regulatory relationships between transcription factors and their target genes, identified based on gene expression patterns.\u001b[39;00m\n\u001b[0;32m----> 3\u001b[0m adjacencies \u001b[38;5;241m=\u001b[39m \u001b[43mgrnboost2\u001b[49m\u001b[43m(\u001b[49m\u001b[43mexpression_data\u001b[49m\u001b[38;5;241;43m=\u001b[39;49m\u001b[43mexpr_matrix\u001b[49m\u001b[43m,\u001b[49m\u001b[43m \u001b[49m\u001b[43mgene_names\u001b[49m\u001b[38;5;241;43m=\u001b[39;49m\u001b[43mdata_DC1mreg\u001b[49m\u001b[38;5;241;43m.\u001b[39;49m\u001b[43mvar_names\u001b[49m\u001b[43m)\u001b[49m\n",
      "File \u001b[0;32m~/miniforge3/envs/env/lib/python3.12/site-packages/arboreto/algo.py:39\u001b[0m, in \u001b[0;36mgrnboost2\u001b[0;34m(expression_data, gene_names, tf_names, client_or_address, early_stop_window_length, limit, seed, verbose)\u001b[0m\n\u001b[1;32m     10\u001b[0m \u001b[38;5;28;01mdef\u001b[39;00m \u001b[38;5;21mgrnboost2\u001b[39m(expression_data,\n\u001b[1;32m     11\u001b[0m               gene_names\u001b[38;5;241m=\u001b[39m\u001b[38;5;28;01mNone\u001b[39;00m,\n\u001b[1;32m     12\u001b[0m               tf_names\u001b[38;5;241m=\u001b[39m\u001b[38;5;124m'\u001b[39m\u001b[38;5;124mall\u001b[39m\u001b[38;5;124m'\u001b[39m,\n\u001b[0;32m   (...)\u001b[0m\n\u001b[1;32m     16\u001b[0m               seed\u001b[38;5;241m=\u001b[39m\u001b[38;5;28;01mNone\u001b[39;00m,\n\u001b[1;32m     17\u001b[0m               verbose\u001b[38;5;241m=\u001b[39m\u001b[38;5;28;01mFalse\u001b[39;00m):\n\u001b[1;32m     18\u001b[0m \u001b[38;5;250m    \u001b[39m\u001b[38;5;124;03m\"\"\"\u001b[39;00m\n\u001b[1;32m     19\u001b[0m \u001b[38;5;124;03m    Launch arboreto with [GRNBoost2] profile.\u001b[39;00m\n\u001b[1;32m     20\u001b[0m \n\u001b[0;32m   (...)\u001b[0m\n\u001b[1;32m     36\u001b[0m \u001b[38;5;124;03m    :return: a pandas DataFrame['TF', 'target', 'importance'] representing the inferred gene regulatory links.\u001b[39;00m\n\u001b[1;32m     37\u001b[0m \u001b[38;5;124;03m    \"\"\"\u001b[39;00m\n\u001b[0;32m---> 39\u001b[0m     \u001b[38;5;28;01mreturn\u001b[39;00m \u001b[43mdiy\u001b[49m\u001b[43m(\u001b[49m\u001b[43mexpression_data\u001b[49m\u001b[38;5;241;43m=\u001b[39;49m\u001b[43mexpression_data\u001b[49m\u001b[43m,\u001b[49m\u001b[43m \u001b[49m\u001b[43mregressor_type\u001b[49m\u001b[38;5;241;43m=\u001b[39;49m\u001b[38;5;124;43m'\u001b[39;49m\u001b[38;5;124;43mGBM\u001b[39;49m\u001b[38;5;124;43m'\u001b[39;49m\u001b[43m,\u001b[49m\u001b[43m \u001b[49m\u001b[43mregressor_kwargs\u001b[49m\u001b[38;5;241;43m=\u001b[39;49m\u001b[43mSGBM_KWARGS\u001b[49m\u001b[43m,\u001b[49m\n\u001b[1;32m     40\u001b[0m \u001b[43m               \u001b[49m\u001b[43mgene_names\u001b[49m\u001b[38;5;241;43m=\u001b[39;49m\u001b[43mgene_names\u001b[49m\u001b[43m,\u001b[49m\u001b[43m \u001b[49m\u001b[43mtf_names\u001b[49m\u001b[38;5;241;43m=\u001b[39;49m\u001b[43mtf_names\u001b[49m\u001b[43m,\u001b[49m\u001b[43m \u001b[49m\u001b[43mclient_or_address\u001b[49m\u001b[38;5;241;43m=\u001b[39;49m\u001b[43mclient_or_address\u001b[49m\u001b[43m,\u001b[49m\n\u001b[1;32m     41\u001b[0m \u001b[43m               \u001b[49m\u001b[43mearly_stop_window_length\u001b[49m\u001b[38;5;241;43m=\u001b[39;49m\u001b[43mearly_stop_window_length\u001b[49m\u001b[43m,\u001b[49m\u001b[43m \u001b[49m\u001b[43mlimit\u001b[49m\u001b[38;5;241;43m=\u001b[39;49m\u001b[43mlimit\u001b[49m\u001b[43m,\u001b[49m\u001b[43m \u001b[49m\u001b[43mseed\u001b[49m\u001b[38;5;241;43m=\u001b[39;49m\u001b[43mseed\u001b[49m\u001b[43m,\u001b[49m\u001b[43m \u001b[49m\u001b[43mverbose\u001b[49m\u001b[38;5;241;43m=\u001b[39;49m\u001b[43mverbose\u001b[49m\u001b[43m)\u001b[49m\n",
      "File \u001b[0;32m~/miniforge3/envs/env/lib/python3.12/site-packages/arboreto/algo.py:120\u001b[0m, in \u001b[0;36mdiy\u001b[0;34m(expression_data, regressor_type, regressor_kwargs, gene_names, tf_names, client_or_address, early_stop_window_length, limit, seed, verbose)\u001b[0m\n\u001b[1;32m    117\u001b[0m \u001b[38;5;28;01mif\u001b[39;00m verbose:\n\u001b[1;32m    118\u001b[0m     \u001b[38;5;28mprint\u001b[39m(\u001b[38;5;124m'\u001b[39m\u001b[38;5;124mcreating dask graph\u001b[39m\u001b[38;5;124m'\u001b[39m)\n\u001b[0;32m--> 120\u001b[0m graph \u001b[38;5;241m=\u001b[39m \u001b[43mcreate_graph\u001b[49m\u001b[43m(\u001b[49m\u001b[43mexpression_matrix\u001b[49m\u001b[43m,\u001b[49m\n\u001b[1;32m    121\u001b[0m \u001b[43m                     \u001b[49m\u001b[43mgene_names\u001b[49m\u001b[43m,\u001b[49m\n\u001b[1;32m    122\u001b[0m \u001b[43m                     \u001b[49m\u001b[43mtf_names\u001b[49m\u001b[43m,\u001b[49m\n\u001b[1;32m    123\u001b[0m \u001b[43m                     \u001b[49m\u001b[43mclient\u001b[49m\u001b[38;5;241;43m=\u001b[39;49m\u001b[43mclient\u001b[49m\u001b[43m,\u001b[49m\n\u001b[1;32m    124\u001b[0m \u001b[43m                     \u001b[49m\u001b[43mregressor_type\u001b[49m\u001b[38;5;241;43m=\u001b[39;49m\u001b[43mregressor_type\u001b[49m\u001b[43m,\u001b[49m\n\u001b[1;32m    125\u001b[0m \u001b[43m                     \u001b[49m\u001b[43mregressor_kwargs\u001b[49m\u001b[38;5;241;43m=\u001b[39;49m\u001b[43mregressor_kwargs\u001b[49m\u001b[43m,\u001b[49m\n\u001b[1;32m    126\u001b[0m \u001b[43m                     \u001b[49m\u001b[43mearly_stop_window_length\u001b[49m\u001b[38;5;241;43m=\u001b[39;49m\u001b[43mearly_stop_window_length\u001b[49m\u001b[43m,\u001b[49m\n\u001b[1;32m    127\u001b[0m \u001b[43m                     \u001b[49m\u001b[43mlimit\u001b[49m\u001b[38;5;241;43m=\u001b[39;49m\u001b[43mlimit\u001b[49m\u001b[43m,\u001b[49m\n\u001b[1;32m    128\u001b[0m \u001b[43m                     \u001b[49m\u001b[43mseed\u001b[49m\u001b[38;5;241;43m=\u001b[39;49m\u001b[43mseed\u001b[49m\u001b[43m)\u001b[49m\n\u001b[1;32m    130\u001b[0m \u001b[38;5;28;01mif\u001b[39;00m verbose:\n\u001b[1;32m    131\u001b[0m     \u001b[38;5;28mprint\u001b[39m(\u001b[38;5;124m'\u001b[39m\u001b[38;5;132;01m{}\u001b[39;00m\u001b[38;5;124m partitions\u001b[39m\u001b[38;5;124m'\u001b[39m\u001b[38;5;241m.\u001b[39mformat(graph\u001b[38;5;241m.\u001b[39mnpartitions))\n",
      "File \u001b[0;32m~/miniforge3/envs/env/lib/python3.12/site-packages/arboreto/core.py:450\u001b[0m, in \u001b[0;36mcreate_graph\u001b[0;34m(expression_matrix, gene_names, tf_names, regressor_type, regressor_kwargs, client, target_genes, limit, include_meta, early_stop_window_length, repartition_multiplier, seed)\u001b[0m\n\u001b[1;32m    448\u001b[0m \u001b[38;5;66;03m# gather the DataFrames into one distributed DataFrame\u001b[39;00m\n\u001b[1;32m    449\u001b[0m all_links_df \u001b[38;5;241m=\u001b[39m from_delayed(delayed_link_dfs, meta\u001b[38;5;241m=\u001b[39m_GRN_SCHEMA)\n\u001b[0;32m--> 450\u001b[0m all_meta_df \u001b[38;5;241m=\u001b[39m \u001b[43mfrom_delayed\u001b[49m\u001b[43m(\u001b[49m\u001b[43mdelayed_meta_dfs\u001b[49m\u001b[43m,\u001b[49m\u001b[43m \u001b[49m\u001b[43mmeta\u001b[49m\u001b[38;5;241;43m=\u001b[39;49m\u001b[43m_META_SCHEMA\u001b[49m\u001b[43m)\u001b[49m\n\u001b[1;32m    452\u001b[0m \u001b[38;5;66;03m# optionally limit the number of resulting regulatory links, descending by top importance\u001b[39;00m\n\u001b[1;32m    453\u001b[0m \u001b[38;5;28;01mif\u001b[39;00m limit:\n",
      "File \u001b[0;32m~/miniforge3/envs/env/lib/python3.12/site-packages/dask_expr/io/_delayed.py:119\u001b[0m, in \u001b[0;36mfrom_delayed\u001b[0;34m(dfs, meta, divisions, prefix, verify_meta)\u001b[0m\n\u001b[1;32m    116\u001b[0m     dfs \u001b[38;5;241m=\u001b[39m [dfs]\n\u001b[1;32m    118\u001b[0m \u001b[38;5;28;01mif\u001b[39;00m \u001b[38;5;28mlen\u001b[39m(dfs) \u001b[38;5;241m==\u001b[39m \u001b[38;5;241m0\u001b[39m:\n\u001b[0;32m--> 119\u001b[0m     \u001b[38;5;28;01mraise\u001b[39;00m \u001b[38;5;167;01mTypeError\u001b[39;00m(\u001b[38;5;124m\"\u001b[39m\u001b[38;5;124mMust supply at least one delayed object\u001b[39m\u001b[38;5;124m\"\u001b[39m)\n\u001b[1;32m    121\u001b[0m \u001b[38;5;28;01mif\u001b[39;00m meta \u001b[38;5;129;01mis\u001b[39;00m \u001b[38;5;28;01mNone\u001b[39;00m:\n\u001b[1;32m    122\u001b[0m     meta \u001b[38;5;241m=\u001b[39m delayed(make_meta)(dfs[\u001b[38;5;241m0\u001b[39m])\u001b[38;5;241m.\u001b[39mcompute()\n",
      "\u001b[0;31mTypeError\u001b[0m: Must supply at least one delayed object"
     ]
    }
   ],
   "source": [
    "# Run GRN inference\n",
    "# adjacency list --> potential regulatory relationships between transcription factors and their target genes, identified based on gene expression patterns.\n",
    "adjacencies = grnboost2(expression_data=expr_matrix, gene_names=data_DC1mreg.var_names)"
   ]
  },
  {
   "cell_type": "code",
   "execution_count": null,
   "metadata": {},
   "outputs": [],
   "source": [
    "# Save results\n",
    "adjacencies.to_csv(\"adjacencies.tsv\", sep=\"\\t\", index=False)"
   ]
  },
  {
   "cell_type": "markdown",
   "metadata": {},
   "source": [
    "# following tute:"
   ]
  },
  {
   "cell_type": "code",
   "execution_count": 5,
   "metadata": {},
   "outputs": [
    {
     "data": {
      "text/plain": [
       "'/scratch/user/s4436039/scdata/PySCENIC'"
      ]
     },
     "execution_count": 5,
     "metadata": {},
     "output_type": "execute_result"
    }
   ],
   "source": [
    "os.chdir('/scratch/user/s4436039/scdata/PySCENIC')\n",
    "os.getcwd()"
   ]
  },
  {
   "cell_type": "code",
   "execution_count": 6,
   "metadata": {},
   "outputs": [],
   "source": [
    "# transcription factors list\n",
    "f_tfs = \"allTFs_hg38.txt\" "
   ]
  },
  {
   "cell_type": "code",
   "execution_count": 9,
   "metadata": {},
   "outputs": [],
   "source": [
    "#make expression matrix\n",
    "expr_matrix = pd.DataFrame(data_DC1mreg.X, index=data_DC1mreg.obs_names, columns=data_DC1mreg.var_names)"
   ]
  },
  {
   "cell_type": "code",
   "execution_count": 12,
   "metadata": {},
   "outputs": [],
   "source": [
    "expr_matrix.to_csv('DC1mreg_expr_matrix.tsv', sep='\\t', index=False)"
   ]
  },
  {
   "cell_type": "code",
   "execution_count": 13,
   "metadata": {},
   "outputs": [],
   "source": [
    "f_expr = \"DC1mreg_expr_matrix.tsv\" "
   ]
  },
  {
   "cell_type": "code",
   "execution_count": 15,
   "metadata": {},
   "outputs": [],
   "source": [
    "import loompy as lp\n",
    "import numpy as np"
   ]
  },
  {
   "cell_type": "code",
   "execution_count": 17,
   "metadata": {},
   "outputs": [],
   "source": [
    "# Save the path where you want loom file to save (current directory)\n",
    "f_loom_path_DC1mreg = \"DC1mreg_loom.loom\""
   ]
  },
  {
   "cell_type": "code",
   "execution_count": 18,
   "metadata": {},
   "outputs": [],
   "source": [
    "row_attrs = { \n",
    "    \"Gene\": np.array(data_DC1mreg.var.index) ,\n",
    "}\n",
    "col_attrs = { \n",
    "    \"CellID\":  np.array(data_DC1mreg.obs.index) ,\n",
    "    \"nGene\": np.array( np.sum(data_DC1mreg.X.transpose()>0 , axis=0)).flatten() ,\n",
    "    \"nUMI\": np.array( np.sum(data_DC1mreg.X.transpose() , axis=0)).flatten() ,\n",
    "}\n",
    "\n",
    "lp.create( f_loom_path_DC1mreg, data_DC1mreg.X.transpose(), row_attrs, col_attrs )"
   ]
  },
  {
   "cell_type": "code",
   "execution_count": 19,
   "metadata": {},
   "outputs": [
    {
     "name": "stdout",
     "output_type": "stream",
     "text": [
      "Traceback (most recent call last):\n",
      "  File \"/home/s4436039/miniforge3/envs/env/bin/pyscenic\", line 5, in <module>\n",
      "    from pyscenic.cli.pyscenic import main\n",
      "  File \"/home/s4436039/miniforge3/envs/env/lib/python3.12/site-packages/pyscenic/cli/pyscenic.py\", line 19, in <module>\n",
      "    from arboreto.algo import genie3, grnboost2\n",
      "  File \"/home/s4436039/miniforge3/envs/env/lib/python3.12/site-packages/arboreto/algo.py\", line 5, in <module>\n",
      "    import pandas as pd\n",
      "  File \"/home/s4436039/miniforge3/envs/env/lib/python3.12/site-packages/pandas/__init__.py\", line 49, in <module>\n",
      "    from pandas.core.api import (\n",
      "  File \"/home/s4436039/miniforge3/envs/env/lib/python3.12/site-packages/pandas/core/api.py\", line 47, in <module>\n",
      "    from pandas.core.groupby import (\n",
      "  File \"/home/s4436039/miniforge3/envs/env/lib/python3.12/site-packages/pandas/core/groupby/__init__.py\", line 1, in <module>\n",
      "    from pandas.core.groupby.generic import (\n",
      "  File \"/home/s4436039/miniforge3/envs/env/lib/python3.12/site-packages/pandas/core/groupby/generic.py\", line 68, in <module>\n",
      "    from pandas.core.frame import DataFrame\n",
      "  File \"/home/s4436039/miniforge3/envs/env/lib/python3.12/site-packages/pandas/core/frame.py\", line 149, in <module>\n",
      "    from pandas.core.generic import (\n",
      "  File \"/home/s4436039/miniforge3/envs/env/lib/python3.12/site-packages/pandas/core/generic.py\", line 193, in <module>\n",
      "    from pandas.core.window import (\n",
      "  File \"/home/s4436039/miniforge3/envs/env/lib/python3.12/site-packages/pandas/core/window/__init__.py\", line 1, in <module>\n",
      "    from pandas.core.window.ewm import (\n",
      "  File \"/home/s4436039/miniforge3/envs/env/lib/python3.12/site-packages/pandas/core/window/ewm.py\", line 11, in <module>\n",
      "    import pandas._libs.window.aggregations as window_aggregations\n",
      "ImportError: /lib64/libstdc++.so.6: version `GLIBCXX_3.4.29' not found (required by /home/s4436039/miniforge3/envs/env/lib/python3.12/site-packages/pandas/_libs/window/aggregations.cpython-312-x86_64-linux-gnu.so)\n"
     ]
    }
   ],
   "source": [
    "!pyscenic grn {f_loom_path_DC1mreg} {f_tfs} -o adj.csv --num_workers 20"
   ]
  },
  {
   "cell_type": "code",
   "execution_count": 14,
   "metadata": {},
   "outputs": [
    {
     "name": "stdout",
     "output_type": "stream",
     "text": [
      "Traceback (most recent call last):\n",
      "  File \"/home/s4436039/miniforge3/envs/env/bin/pyscenic\", line 5, in <module>\n",
      "    from pyscenic.cli.pyscenic import main\n",
      "  File \"/home/s4436039/miniforge3/envs/env/lib/python3.12/site-packages/pyscenic/cli/pyscenic.py\", line 19, in <module>\n",
      "    from arboreto.algo import genie3, grnboost2\n",
      "  File \"/home/s4436039/miniforge3/envs/env/lib/python3.12/site-packages/arboreto/algo.py\", line 5, in <module>\n",
      "    import pandas as pd\n",
      "  File \"/home/s4436039/miniforge3/envs/env/lib/python3.12/site-packages/pandas/__init__.py\", line 49, in <module>\n",
      "    from pandas.core.api import (\n",
      "  File \"/home/s4436039/miniforge3/envs/env/lib/python3.12/site-packages/pandas/core/api.py\", line 47, in <module>\n",
      "    from pandas.core.groupby import (\n",
      "  File \"/home/s4436039/miniforge3/envs/env/lib/python3.12/site-packages/pandas/core/groupby/__init__.py\", line 1, in <module>\n",
      "    from pandas.core.groupby.generic import (\n",
      "  File \"/home/s4436039/miniforge3/envs/env/lib/python3.12/site-packages/pandas/core/groupby/generic.py\", line 68, in <module>\n",
      "    from pandas.core.frame import DataFrame\n",
      "  File \"/home/s4436039/miniforge3/envs/env/lib/python3.12/site-packages/pandas/core/frame.py\", line 149, in <module>\n",
      "    from pandas.core.generic import (\n",
      "  File \"/home/s4436039/miniforge3/envs/env/lib/python3.12/site-packages/pandas/core/generic.py\", line 193, in <module>\n",
      "    from pandas.core.window import (\n",
      "  File \"/home/s4436039/miniforge3/envs/env/lib/python3.12/site-packages/pandas/core/window/__init__.py\", line 1, in <module>\n",
      "    from pandas.core.window.ewm import (\n",
      "  File \"/home/s4436039/miniforge3/envs/env/lib/python3.12/site-packages/pandas/core/window/ewm.py\", line 11, in <module>\n",
      "    import pandas._libs.window.aggregations as window_aggregations\n",
      "ImportError: /lib64/libstdc++.so.6: version `GLIBCXX_3.4.29' not found (required by /home/s4436039/miniforge3/envs/env/lib/python3.12/site-packages/pandas/_libs/window/aggregations.cpython-312-x86_64-linux-gnu.so)\n"
     ]
    }
   ],
   "source": [
    "!pyscenic grn {f_expr} {f_tfs} -o adj.csv --num_workers 20"
   ]
  },
  {
   "cell_type": "markdown",
   "metadata": {},
   "source": [
    "## 2. Motif enrichment and pruning the GRN (based on motif enrichment)\n",
    "* to perform pruning need motif rankings and TF lists"
   ]
  },
  {
   "cell_type": "code",
   "execution_count": null,
   "metadata": {},
   "outputs": [],
   "source": [
    "# Replace cisTarget_db/*.feather with the path to your downloaded motif rankings files.\n",
    "# Replace expression.csv with the gene expression matrix."
   ]
  },
  {
   "cell_type": "code",
   "execution_count": null,
   "metadata": {},
   "outputs": [],
   "source": [
    "pyscenic ctx adjacencies.tsv cisTarget_db/*.feather --annotations_fname motifs-v9-nr.hgnc-m0.001-o0.0.tbl --expression_mtx_fname expression.csv --output pruned_networks.csv --num_workers 4"
   ]
  },
  {
   "cell_type": "markdown",
   "metadata": {},
   "source": [
    "## 3. Scoring the cells (using AUCell to determine activity)"
   ]
  },
  {
   "cell_type": "markdown",
   "metadata": {},
   "source": [
    "# other"
   ]
  },
  {
   "cell_type": "markdown",
   "metadata": {},
   "source": [
    "# using pyscenic to extract the regulons\n",
    "* downloaded necessary databases: https://pyscenic.readthedocs.io/en/latest/installation.html\n",
    "* database ranking the genome --> used Homo sapiens - hg38 - refseq_r80 - SCENIC+ databases - Gene based --> hg38_10kbp_up_10kbp_down_full_tx_v10_clust.genes_vs_motifs.rankings.feather\n",
    "* Motif to TF annotations --> "
   ]
  },
  {
   "cell_type": "code",
   "execution_count": null,
   "metadata": {},
   "outputs": [],
   "source": [
    "# using pyscenic to extract the regulons"
   ]
  },
  {
   "cell_type": "code",
   "execution_count": null,
   "metadata": {},
   "outputs": [],
   "source": []
  }
 ],
 "metadata": {
  "kernelspec": {
   "display_name": "Python 3 (ipykernel)",
   "language": "python",
   "name": "python3"
  },
  "language_info": {
   "codemirror_mode": {
    "name": "ipython",
    "version": 3
   },
   "file_extension": ".py",
   "mimetype": "text/x-python",
   "name": "python",
   "nbconvert_exporter": "python",
   "pygments_lexer": "ipython3",
   "version": "3.12.3"
  }
 },
 "nbformat": 4,
 "nbformat_minor": 2
}
