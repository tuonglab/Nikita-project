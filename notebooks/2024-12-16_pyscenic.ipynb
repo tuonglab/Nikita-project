{
 "cells": [
  {
   "cell_type": "markdown",
   "metadata": {},
   "source": [
    "# Performing pyscenic on atlas to idenitify regulons"
   ]
  },
  {
   "cell_type": "markdown",
   "metadata": {},
   "source": [
    "#### problems with pyscenic package and dependencies, therefore instead of running this in my normal environment (env) run this in environment called pyscenic (mamba activate pyscenic) as this package has the correct package versions needed\n",
    "\n",
    "* pyscenic installed on environemnt: https://pyscenic.readthedocs.io/en/latest/installation.html#docker-podman-and-singularity-apptainer-images \n",
    "* pyscenic pipline based on: https://htmlpreview.github.io/?https://github.com/aertslab/SCENICprotocol/blob/master/notebooks/PBMC10k_SCENIC-protocol-CLI.html\n",
    "* GRN inference run using arboreto method: https://pyscenic.readthedocs.io/en/latest/faq.html#i-am-having-problems-with-dask"
   ]
  },
  {
   "cell_type": "code",
   "execution_count": 1,
   "metadata": {},
   "outputs": [
    {
     "name": "stdout",
     "output_type": "stream",
     "text": [
      "scanpy==1.10.3 anndata==0.10.9 umap==0.5.7 numpy==1.23.5 scipy==1.14.1 pandas==2.2.3 scikit-learn==1.6.0 statsmodels==0.14.4 pynndescent==0.5.13\n"
     ]
    }
   ],
   "source": [
    "#load packages I need\n",
    "import os\n",
    "import tools\n",
    "import scanpy as sc\n",
    "import pandas as pd\n",
    "import matplotlib.pyplot as plt\n",
    "import pyscenic\n",
    "from pyscenic.aucell import aucell\n",
    "\n",
    "sc.logging.print_header()"
   ]
  },
  {
   "cell_type": "markdown",
   "metadata": {},
   "source": [
    "# Import h5ad"
   ]
  },
  {
   "cell_type": "code",
   "execution_count": 2,
   "metadata": {},
   "outputs": [
    {
     "data": {
      "text/plain": [
       "'/scratch/user/s4436039/scdata/Python_Integration_Sep'"
      ]
     },
     "execution_count": 2,
     "metadata": {},
     "output_type": "execute_result"
    }
   ],
   "source": [
    "#set current directory \n",
    "os.chdir('/scratch/user/s4436039/scdata/Python_Integration_Sep')\n",
    "os.getcwd()"
   ]
  },
  {
   "cell_type": "code",
   "execution_count": 3,
   "metadata": {},
   "outputs": [],
   "source": [
    "# read in data\n",
    "data = sc.read_h5ad('NRclean_clustered2.h5ad')"
   ]
  },
  {
   "cell_type": "code",
   "execution_count": 4,
   "metadata": {},
   "outputs": [],
   "source": [
    "#make two versions of the data, once containing just cDC1 and mregDC, and another containing just cDC2 and mregDC\n",
    "data_DC1mreg = data[data.obs[\"NR_annotations_simple\"].isin([\"cDC1\",\"mregDC\"])]\n",
    "data_DC2mreg = data[data.obs[\"NR_annotations_simple\"].isin([\"cDC2\",\"mregDC\"])]"
   ]
  },
  {
   "cell_type": "code",
   "execution_count": 2,
   "metadata": {},
   "outputs": [
    {
     "data": {
      "text/plain": [
       "'/scratch/user/s4436039/scdata/PySCENIC'"
      ]
     },
     "execution_count": 2,
     "metadata": {},
     "output_type": "execute_result"
    }
   ],
   "source": [
    "os.chdir('/scratch/user/s4436039/scdata/PySCENIC')\n",
    "os.getcwd()"
   ]
  },
  {
   "cell_type": "markdown",
   "metadata": {},
   "source": [
    "## make loom file with expression data:"
   ]
  },
  {
   "cell_type": "code",
   "execution_count": 10,
   "metadata": {},
   "outputs": [],
   "source": [
    "import loompy as lp\n",
    "import numpy as np"
   ]
  },
  {
   "cell_type": "code",
   "execution_count": 7,
   "metadata": {},
   "outputs": [],
   "source": [
    "# Save the path where you want loom file to save (current directory)\n",
    "f_loom_path_DC1mreg = \"DC1mreg_loom.loom\""
   ]
  },
  {
   "cell_type": "code",
   "execution_count": 7,
   "metadata": {},
   "outputs": [],
   "source": [
    "row_attrs = { \n",
    "    \"Gene\": np.array(data_DC1mreg.var.index) ,\n",
    "}\n",
    "col_attrs = { \n",
    "    \"CellID\":  np.array(data_DC1mreg.obs.index) ,\n",
    "    \"nGene\": np.array( np.sum(data_DC1mreg.X.transpose()>0 , axis=0)).flatten() ,\n",
    "    \"nUMI\": np.array( np.sum(data_DC1mreg.X.transpose() , axis=0)).flatten() ,\n",
    "}\n",
    "\n",
    "lp.create( f_loom_path_DC1mreg, data_DC1mreg.X.transpose(), row_attrs, col_attrs )"
   ]
  },
  {
   "cell_type": "markdown",
   "metadata": {},
   "source": [
    "## 1. GRN Inference - Run GRN pyscenic (20min)\n",
    "* TF list (allTFs_hg38.txt) downloaded from https://resources.aertslab.org/cistarget/tf_lists/ "
   ]
  },
  {
   "cell_type": "code",
   "execution_count": 12,
   "metadata": {},
   "outputs": [
    {
     "data": {
      "text/plain": [
       "'/scratch/user/s4436039/scdata/PySCENIC'"
      ]
     },
     "execution_count": 12,
     "metadata": {},
     "output_type": "execute_result"
    }
   ],
   "source": [
    "os.chdir('/scratch/user/s4436039/scdata/PySCENIC')\n",
    "os.getcwd()"
   ]
  },
  {
   "cell_type": "code",
   "execution_count": 6,
   "metadata": {},
   "outputs": [
    {
     "name": "stdout",
     "output_type": "stream",
     "text": [
      "Loaded expression matrix of 12850 cells and 1268 genes in 0.5796971321105957 seconds...\n",
      "Loaded 1892 TFs...\n",
      "starting grnboost2 using 1 processes...\n",
      "100%|███████████████████████████████████████| 1268/1268 [20:01<00:00,  1.06it/s]\n",
      "Done in 1201.6172795295715 seconds.\n"
     ]
    }
   ],
   "source": [
    "!arboreto_with_multiprocessing.py DC1mreg_loom.loom allTFs_hg38.txt --output adj.tsv --num_workers 1"
   ]
  },
  {
   "cell_type": "code",
   "execution_count": 7,
   "metadata": {},
   "outputs": [],
   "source": [
    "# read in the adjacencies matrix\n",
    "adjacencies = pd.read_csv(\"adj.tsv\", index_col=False, sep='\\t')"
   ]
  },
  {
   "cell_type": "code",
   "execution_count": 8,
   "metadata": {},
   "outputs": [
    {
     "data": {
      "text/html": [
       "<div>\n",
       "<style scoped>\n",
       "    .dataframe tbody tr th:only-of-type {\n",
       "        vertical-align: middle;\n",
       "    }\n",
       "\n",
       "    .dataframe tbody tr th {\n",
       "        vertical-align: top;\n",
       "    }\n",
       "\n",
       "    .dataframe thead th {\n",
       "        text-align: right;\n",
       "    }\n",
       "</style>\n",
       "<table border=\"1\" class=\"dataframe\">\n",
       "  <thead>\n",
       "    <tr style=\"text-align: right;\">\n",
       "      <th></th>\n",
       "      <th>TF</th>\n",
       "      <th>target</th>\n",
       "      <th>importance</th>\n",
       "    </tr>\n",
       "  </thead>\n",
       "  <tbody>\n",
       "    <tr>\n",
       "      <th>0</th>\n",
       "      <td>IRF8</td>\n",
       "      <td>CLEC9A</td>\n",
       "      <td>43.309302</td>\n",
       "    </tr>\n",
       "    <tr>\n",
       "      <th>1</th>\n",
       "      <td>REL</td>\n",
       "      <td>CCR7</td>\n",
       "      <td>25.238298</td>\n",
       "    </tr>\n",
       "    <tr>\n",
       "      <th>2</th>\n",
       "      <td>IRF8</td>\n",
       "      <td>CCR7</td>\n",
       "      <td>25.116283</td>\n",
       "    </tr>\n",
       "    <tr>\n",
       "      <th>3</th>\n",
       "      <td>IRF8</td>\n",
       "      <td>CLNK</td>\n",
       "      <td>22.595391</td>\n",
       "    </tr>\n",
       "    <tr>\n",
       "      <th>4</th>\n",
       "      <td>IRF4</td>\n",
       "      <td>LAMP3</td>\n",
       "      <td>22.553578</td>\n",
       "    </tr>\n",
       "  </tbody>\n",
       "</table>\n",
       "</div>"
      ],
      "text/plain": [
       "     TF  target  importance\n",
       "0  IRF8  CLEC9A   43.309302\n",
       "1   REL    CCR7   25.238298\n",
       "2  IRF8    CCR7   25.116283\n",
       "3  IRF8    CLNK   22.595391\n",
       "4  IRF4   LAMP3   22.553578"
      ]
     },
     "execution_count": 8,
     "metadata": {},
     "output_type": "execute_result"
    }
   ],
   "source": [
    "adjacencies.head()"
   ]
  },
  {
   "cell_type": "markdown",
   "metadata": {},
   "source": [
    "# 2. Cis-Regulatory Analysis - Regulon prediction \n",
    "* output: the regulons in reg.csv - list of adjacencies between a TF and its targets stored in MOTIFS_FNAME\n",
    "* ranking database downloaded from: https://resources.aertslab.org/cistarget/databases/\n",
    "* motif-to-TF database downloaded from: https://resources.aertslab.org/cistarget/motif2tf/"
   ]
  },
  {
   "cell_type": "code",
   "execution_count": 10,
   "metadata": {},
   "outputs": [],
   "source": [
    "# set path to ranking database (.feather)\n",
    "f_db_names = \"/scratch/user/s4436039/scdata/PySCENIC/hg38_10kbp_up_10kbp_down_full_tx_v10_clust.genes_vs_motifs.rankings.feather\""
   ]
  },
  {
   "cell_type": "code",
   "execution_count": 11,
   "metadata": {},
   "outputs": [],
   "source": [
    "# set path to the motif-to-TF mapping database (this database links TF binding motifs to their corresponding TFs)\n",
    "f_motif_path = \"/scratch/user/s4436039/scdata/PySCENIC/motifs-v10nr_clust-nr.hgnc-m0.001-o0.0.tbl\""
   ]
  },
  {
   "cell_type": "code",
   "execution_count": 14,
   "metadata": {},
   "outputs": [],
   "source": [
    "# set path to expression matrix\n",
    "f_loom_path_scenic = \"/scratch/user/s4436039/scdata/PySCENIC/DC1mreg_loom.loom\""
   ]
  },
  {
   "cell_type": "markdown",
   "metadata": {},
   "source": [
    "### ctx step: cis-regulatory motif analysis "
   ]
  },
  {
   "cell_type": "code",
   "execution_count": 15,
   "metadata": {},
   "outputs": [
    {
     "name": "stdout",
     "output_type": "stream",
     "text": [
      "\n",
      "2024-12-18 12:43:35,964 - pyscenic.cli.pyscenic - INFO - Creating modules.\n",
      "\n",
      "2024-12-18 12:43:35,994 - pyscenic.cli.pyscenic - INFO - Loading expression matrix.\n",
      "\n",
      "2024-12-18 12:43:36,638 - pyscenic.utils - INFO - Calculating Pearson correlations.\n",
      "\n",
      "2024-12-18 12:43:36,644 - pyscenic.utils - WARNING - Note on correlation calculation: the default behaviour for calculating the correlations has changed after pySCENIC verion 0.9.16. Previously, the default was to calculate the correlation between a TF and target gene using only cells with non-zero expression values (mask_dropouts=True). The current default is now to use all cells to match the behavior of the R verision of SCENIC. The original settings can be retained by setting 'rho_mask_dropouts=True' in the modules_from_adjacencies function, or '--mask_dropouts' from the CLI.\n",
      "\tDropout masking is currently set to [True].\n",
      "\n",
      "2024-12-18 12:43:40,039 - pyscenic.utils - INFO - Creating modules.\n",
      "\n",
      "2024-12-18 12:43:41,942 - pyscenic.cli.pyscenic - INFO - Loading databases.\n",
      "\n",
      "2024-12-18 12:43:42,142 - pyscenic.cli.pyscenic - INFO - Calculating regulons.\n",
      "\n",
      "2024-12-18 12:43:42,142 - pyscenic.prune - INFO - Using 20 workers.\n",
      "\n",
      "2024-12-18 12:43:42,142 - pyscenic.prune - INFO - Using 20 workers.\n",
      "\n",
      "2024-12-18 12:43:49,978 - pyscenic.prune - INFO - Worker hg38_10kbp_up_10kbp_down_full_tx_v10_clust.genes_vs_motifs.rankings(1): database loaded in memory.\n",
      "\n",
      "2024-12-18 12:43:49,978 - pyscenic.prune - INFO - Worker hg38_10kbp_up_10kbp_down_full_tx_v10_clust.genes_vs_motifs.rankings(1): database loaded in memory.\n",
      "\n",
      "2024-12-18 12:43:50,125 - pyscenic.prune - INFO - Worker hg38_10kbp_up_10kbp_down_full_tx_v10_clust.genes_vs_motifs.rankings(2): database loaded in memory.\n",
      "\n",
      "2024-12-18 12:43:50,125 - pyscenic.prune - INFO - Worker hg38_10kbp_up_10kbp_down_full_tx_v10_clust.genes_vs_motifs.rankings(2): database loaded in memory.\n",
      "\n",
      "2024-12-18 12:43:50,764 - pyscenic.prune - INFO - Worker hg38_10kbp_up_10kbp_down_full_tx_v10_clust.genes_vs_motifs.rankings(9): database loaded in memory.\n",
      "\n",
      "2024-12-18 12:43:51,036 - pyscenic.prune - INFO - Worker hg38_10kbp_up_10kbp_down_full_tx_v10_clust.genes_vs_motifs.rankings(6): database loaded in memory.\n",
      "\n",
      "2024-12-18 12:43:50,764 - pyscenic.prune - INFO - Worker hg38_10kbp_up_10kbp_down_full_tx_v10_clust.genes_vs_motifs.rankings(9): database loaded in memory.\n",
      "\n",
      "2024-12-18 12:43:51,102 - pyscenic.prune - INFO - Worker hg38_10kbp_up_10kbp_down_full_tx_v10_clust.genes_vs_motifs.rankings(3): database loaded in memory.\n",
      "\n",
      "2024-12-18 12:43:51,102 - pyscenic.prune - INFO - Worker hg38_10kbp_up_10kbp_down_full_tx_v10_clust.genes_vs_motifs.rankings(3): database loaded in memory.\n",
      "\n",
      "2024-12-18 12:43:51,139 - pyscenic.prune - INFO - Worker hg38_10kbp_up_10kbp_down_full_tx_v10_clust.genes_vs_motifs.rankings(4): database loaded in memory.\n",
      "\n",
      "2024-12-18 12:43:51,139 - pyscenic.prune - INFO - Worker hg38_10kbp_up_10kbp_down_full_tx_v10_clust.genes_vs_motifs.rankings(4): database loaded in memory.\n",
      "\n",
      "2024-12-18 12:43:51,221 - pyscenic.prune - INFO - Worker hg38_10kbp_up_10kbp_down_full_tx_v10_clust.genes_vs_motifs.rankings(5): database loaded in memory.\n",
      "\n",
      "2024-12-18 12:43:51,221 - pyscenic.prune - INFO - Worker hg38_10kbp_up_10kbp_down_full_tx_v10_clust.genes_vs_motifs.rankings(5): database loaded in memory.\n",
      "\n",
      "2024-12-18 12:43:51,036 - pyscenic.prune - INFO - Worker hg38_10kbp_up_10kbp_down_full_tx_v10_clust.genes_vs_motifs.rankings(6): database loaded in memory.\n",
      "\n",
      "2024-12-18 12:43:51,584 - pyscenic.prune - INFO - Worker hg38_10kbp_up_10kbp_down_full_tx_v10_clust.genes_vs_motifs.rankings(7): database loaded in memory.\n",
      "\n",
      "2024-12-18 12:43:51,584 - pyscenic.prune - INFO - Worker hg38_10kbp_up_10kbp_down_full_tx_v10_clust.genes_vs_motifs.rankings(7): database loaded in memory.\n",
      "\n",
      "2024-12-18 12:43:51,930 - pyscenic.prune - INFO - Worker hg38_10kbp_up_10kbp_down_full_tx_v10_clust.genes_vs_motifs.rankings(8): database loaded in memory.\n",
      "\n",
      "2024-12-18 12:43:51,930 - pyscenic.prune - INFO - Worker hg38_10kbp_up_10kbp_down_full_tx_v10_clust.genes_vs_motifs.rankings(8): database loaded in memory.\n",
      "\n",
      "2024-12-18 12:43:52,085 - pyscenic.prune - INFO - Worker hg38_10kbp_up_10kbp_down_full_tx_v10_clust.genes_vs_motifs.rankings(10): database loaded in memory.\n",
      "\n",
      "2024-12-18 12:43:52,085 - pyscenic.prune - INFO - Worker hg38_10kbp_up_10kbp_down_full_tx_v10_clust.genes_vs_motifs.rankings(10): database loaded in memory.\n",
      "\n",
      "2024-12-18 12:43:52,231 - pyscenic.prune - INFO - Worker hg38_10kbp_up_10kbp_down_full_tx_v10_clust.genes_vs_motifs.rankings(17): database loaded in memory.\n",
      "\n",
      "2024-12-18 12:43:52,231 - pyscenic.prune - INFO - Worker hg38_10kbp_up_10kbp_down_full_tx_v10_clust.genes_vs_motifs.rankings(17): database loaded in memory.\n",
      "\n",
      "2024-12-18 12:43:52,306 - pyscenic.prune - INFO - Worker hg38_10kbp_up_10kbp_down_full_tx_v10_clust.genes_vs_motifs.rankings(12): database loaded in memory.\n",
      "\n",
      "2024-12-18 12:43:52,306 - pyscenic.prune - INFO - Worker hg38_10kbp_up_10kbp_down_full_tx_v10_clust.genes_vs_motifs.rankings(12): database loaded in memory.\n",
      "\n",
      "2024-12-18 12:43:52,710 - pyscenic.prune - INFO - Worker hg38_10kbp_up_10kbp_down_full_tx_v10_clust.genes_vs_motifs.rankings(11): database loaded in memory.\n",
      "\n",
      "2024-12-18 12:43:52,710 - pyscenic.prune - INFO - Worker hg38_10kbp_up_10kbp_down_full_tx_v10_clust.genes_vs_motifs.rankings(11): database loaded in memory.\n",
      "\n",
      "2024-12-18 12:43:52,874 - pyscenic.prune - INFO - Worker hg38_10kbp_up_10kbp_down_full_tx_v10_clust.genes_vs_motifs.rankings(13): database loaded in memory.\n",
      "\n",
      "2024-12-18 12:43:52,874 - pyscenic.prune - INFO - Worker hg38_10kbp_up_10kbp_down_full_tx_v10_clust.genes_vs_motifs.rankings(13): database loaded in memory.\n",
      "\n",
      "2024-12-18 12:43:53,086 - pyscenic.prune - INFO - Worker hg38_10kbp_up_10kbp_down_full_tx_v10_clust.genes_vs_motifs.rankings(14): database loaded in memory.\n",
      "\n",
      "2024-12-18 12:43:53,086 - pyscenic.prune - INFO - Worker hg38_10kbp_up_10kbp_down_full_tx_v10_clust.genes_vs_motifs.rankings(14): database loaded in memory.\n",
      "\n",
      "2024-12-18 12:43:53,209 - pyscenic.prune - INFO - Worker hg38_10kbp_up_10kbp_down_full_tx_v10_clust.genes_vs_motifs.rankings(15): database loaded in memory.\n",
      "\n",
      "2024-12-18 12:43:53,209 - pyscenic.prune - INFO - Worker hg38_10kbp_up_10kbp_down_full_tx_v10_clust.genes_vs_motifs.rankings(15): database loaded in memory.\n",
      "\n",
      "2024-12-18 12:43:53,307 - pyscenic.prune - INFO - Worker hg38_10kbp_up_10kbp_down_full_tx_v10_clust.genes_vs_motifs.rankings(16): database loaded in memory.\n",
      "\n",
      "2024-12-18 12:43:53,307 - pyscenic.prune - INFO - Worker hg38_10kbp_up_10kbp_down_full_tx_v10_clust.genes_vs_motifs.rankings(16): database loaded in memory.\n",
      "\n",
      "2024-12-18 12:43:53,639 - pyscenic.prune - INFO - Worker hg38_10kbp_up_10kbp_down_full_tx_v10_clust.genes_vs_motifs.rankings(20): database loaded in memory.\n",
      "\n",
      "2024-12-18 12:43:53,639 - pyscenic.prune - INFO - Worker hg38_10kbp_up_10kbp_down_full_tx_v10_clust.genes_vs_motifs.rankings(20): database loaded in memory.\n",
      "\n",
      "2024-12-18 12:43:53,941 - pyscenic.prune - INFO - Worker hg38_10kbp_up_10kbp_down_full_tx_v10_clust.genes_vs_motifs.rankings(18): database loaded in memory.\n",
      "\n",
      "2024-12-18 12:43:53,941 - pyscenic.prune - INFO - Worker hg38_10kbp_up_10kbp_down_full_tx_v10_clust.genes_vs_motifs.rankings(18): database loaded in memory.\n",
      "\n",
      "2024-12-18 12:43:53,997 - pyscenic.prune - INFO - Worker hg38_10kbp_up_10kbp_down_full_tx_v10_clust.genes_vs_motifs.rankings(19): database loaded in memory.\n",
      "\n",
      "2024-12-18 12:43:53,997 - pyscenic.prune - INFO - Worker hg38_10kbp_up_10kbp_down_full_tx_v10_clust.genes_vs_motifs.rankings(19): database loaded in memory.\n",
      "\n",
      "2024-12-18 12:43:57,925 - pyscenic.prune - INFO - Worker hg38_10kbp_up_10kbp_down_full_tx_v10_clust.genes_vs_motifs.rankings(4): motif annotations loaded in memory.\n",
      "\n",
      "2024-12-18 12:43:57,925 - pyscenic.prune - INFO - Worker hg38_10kbp_up_10kbp_down_full_tx_v10_clust.genes_vs_motifs.rankings(4): motif annotations loaded in memory.\n",
      "\n",
      "2024-12-18 12:43:58,126 - pyscenic.prune - INFO - Worker hg38_10kbp_up_10kbp_down_full_tx_v10_clust.genes_vs_motifs.rankings(1): motif annotations loaded in memory.\n",
      "\n",
      "2024-12-18 12:43:58,126 - pyscenic.prune - INFO - Worker hg38_10kbp_up_10kbp_down_full_tx_v10_clust.genes_vs_motifs.rankings(1): motif annotations loaded in memory.\n",
      "\n",
      "2024-12-18 12:43:58,826 - pyscenic.prune - INFO - Worker hg38_10kbp_up_10kbp_down_full_tx_v10_clust.genes_vs_motifs.rankings(3): motif annotations loaded in memory.\n",
      "\n",
      "2024-12-18 12:43:58,826 - pyscenic.prune - INFO - Worker hg38_10kbp_up_10kbp_down_full_tx_v10_clust.genes_vs_motifs.rankings(3): motif annotations loaded in memory.\n",
      "\n",
      "2024-12-18 12:43:58,863 - pyscenic.prune - INFO - Worker hg38_10kbp_up_10kbp_down_full_tx_v10_clust.genes_vs_motifs.rankings(2): motif annotations loaded in memory.\n",
      "\n",
      "2024-12-18 12:43:58,863 - pyscenic.prune - INFO - Worker hg38_10kbp_up_10kbp_down_full_tx_v10_clust.genes_vs_motifs.rankings(2): motif annotations loaded in memory.\n",
      "\n",
      "2024-12-18 12:43:58,927 - pyscenic.prune - INFO - Worker hg38_10kbp_up_10kbp_down_full_tx_v10_clust.genes_vs_motifs.rankings(9): motif annotations loaded in memory.\n",
      "\n",
      "2024-12-18 12:43:58,927 - pyscenic.prune - INFO - Worker hg38_10kbp_up_10kbp_down_full_tx_v10_clust.genes_vs_motifs.rankings(9): motif annotations loaded in memory.\n",
      "\n",
      "2024-12-18 12:43:59,048 - pyscenic.prune - INFO - Worker hg38_10kbp_up_10kbp_down_full_tx_v10_clust.genes_vs_motifs.rankings(10): motif annotations loaded in memory.\n",
      "\n",
      "2024-12-18 12:43:59,048 - pyscenic.prune - INFO - Worker hg38_10kbp_up_10kbp_down_full_tx_v10_clust.genes_vs_motifs.rankings(10): motif annotations loaded in memory.\n",
      "\n",
      "2024-12-18 12:43:59,114 - pyscenic.prune - INFO - Worker hg38_10kbp_up_10kbp_down_full_tx_v10_clust.genes_vs_motifs.rankings(6): motif annotations loaded in memory.\n",
      "\n",
      "2024-12-18 12:43:59,114 - pyscenic.prune - INFO - Worker hg38_10kbp_up_10kbp_down_full_tx_v10_clust.genes_vs_motifs.rankings(6): motif annotations loaded in memory.\n",
      "\n",
      "2024-12-18 12:43:59,516 - pyscenic.prune - INFO - Worker hg38_10kbp_up_10kbp_down_full_tx_v10_clust.genes_vs_motifs.rankings(5): motif annotations loaded in memory.\n",
      "\n",
      "2024-12-18 12:43:59,516 - pyscenic.prune - INFO - Worker hg38_10kbp_up_10kbp_down_full_tx_v10_clust.genes_vs_motifs.rankings(5): motif annotations loaded in memory.\n",
      "\n",
      "2024-12-18 12:43:59,536 - pyscenic.prune - INFO - Worker hg38_10kbp_up_10kbp_down_full_tx_v10_clust.genes_vs_motifs.rankings(7): motif annotations loaded in memory.\n",
      "\n",
      "2024-12-18 12:43:59,536 - pyscenic.prune - INFO - Worker hg38_10kbp_up_10kbp_down_full_tx_v10_clust.genes_vs_motifs.rankings(7): motif annotations loaded in memory.\n",
      "\n",
      "2024-12-18 12:43:59,564 - pyscenic.prune - INFO - Worker hg38_10kbp_up_10kbp_down_full_tx_v10_clust.genes_vs_motifs.rankings(8): motif annotations loaded in memory.\n",
      "\n",
      "2024-12-18 12:43:59,564 - pyscenic.prune - INFO - Worker hg38_10kbp_up_10kbp_down_full_tx_v10_clust.genes_vs_motifs.rankings(8): motif annotations loaded in memory.\n",
      "\n",
      "2024-12-18 12:44:00,009 - pyscenic.prune - INFO - Worker hg38_10kbp_up_10kbp_down_full_tx_v10_clust.genes_vs_motifs.rankings(12): motif annotations loaded in memory.\n",
      "\n",
      "2024-12-18 12:44:00,009 - pyscenic.prune - INFO - Worker hg38_10kbp_up_10kbp_down_full_tx_v10_clust.genes_vs_motifs.rankings(12): motif annotations loaded in memory.\n",
      "\n",
      "2024-12-18 12:44:00,119 - pyscenic.prune - INFO - Worker hg38_10kbp_up_10kbp_down_full_tx_v10_clust.genes_vs_motifs.rankings(17): motif annotations loaded in memory.\n",
      "\n",
      "2024-12-18 12:44:00,119 - pyscenic.prune - INFO - Worker hg38_10kbp_up_10kbp_down_full_tx_v10_clust.genes_vs_motifs.rankings(17): motif annotations loaded in memory.\n",
      "\n",
      "2024-12-18 12:44:00,430 - pyscenic.prune - INFO - Worker hg38_10kbp_up_10kbp_down_full_tx_v10_clust.genes_vs_motifs.rankings(11): motif annotations loaded in memory.\n",
      "\n",
      "2024-12-18 12:44:00,430 - pyscenic.prune - INFO - Worker hg38_10kbp_up_10kbp_down_full_tx_v10_clust.genes_vs_motifs.rankings(11): motif annotations loaded in memory.\n",
      "\n",
      "2024-12-18 12:44:00,498 - pyscenic.prune - INFO - Worker hg38_10kbp_up_10kbp_down_full_tx_v10_clust.genes_vs_motifs.rankings(14): motif annotations loaded in memory.\n",
      "\n",
      "2024-12-18 12:44:00,498 - pyscenic.prune - INFO - Worker hg38_10kbp_up_10kbp_down_full_tx_v10_clust.genes_vs_motifs.rankings(14): motif annotations loaded in memory.\n",
      "\n",
      "2024-12-18 12:44:00,564 - pyscenic.prune - INFO - Worker hg38_10kbp_up_10kbp_down_full_tx_v10_clust.genes_vs_motifs.rankings(15): motif annotations loaded in memory.\n",
      "\n",
      "2024-12-18 12:44:00,564 - pyscenic.prune - INFO - Worker hg38_10kbp_up_10kbp_down_full_tx_v10_clust.genes_vs_motifs.rankings(15): motif annotations loaded in memory.\n",
      "\n",
      "2024-12-18 12:44:00,629 - pyscenic.prune - INFO - Worker hg38_10kbp_up_10kbp_down_full_tx_v10_clust.genes_vs_motifs.rankings(13): motif annotations loaded in memory.\n",
      "\n",
      "2024-12-18 12:44:00,629 - pyscenic.prune - INFO - Worker hg38_10kbp_up_10kbp_down_full_tx_v10_clust.genes_vs_motifs.rankings(13): motif annotations loaded in memory.\n",
      "\n",
      "2024-12-18 12:44:00,981 - pyscenic.prune - INFO - Worker hg38_10kbp_up_10kbp_down_full_tx_v10_clust.genes_vs_motifs.rankings(20): motif annotations loaded in memory.\n",
      "\n",
      "2024-12-18 12:44:00,981 - pyscenic.prune - INFO - Worker hg38_10kbp_up_10kbp_down_full_tx_v10_clust.genes_vs_motifs.rankings(20): motif annotations loaded in memory.\n",
      "\n",
      "2024-12-18 12:44:00,996 - pyscenic.prune - INFO - Worker hg38_10kbp_up_10kbp_down_full_tx_v10_clust.genes_vs_motifs.rankings(16): motif annotations loaded in memory.\n",
      "\n",
      "2024-12-18 12:44:00,996 - pyscenic.prune - INFO - Worker hg38_10kbp_up_10kbp_down_full_tx_v10_clust.genes_vs_motifs.rankings(16): motif annotations loaded in memory.\n",
      "\n",
      "2024-12-18 12:44:01,053 - pyscenic.prune - INFO - Worker hg38_10kbp_up_10kbp_down_full_tx_v10_clust.genes_vs_motifs.rankings(19): motif annotations loaded in memory.\n",
      "\n",
      "2024-12-18 12:44:01,053 - pyscenic.prune - INFO - Worker hg38_10kbp_up_10kbp_down_full_tx_v10_clust.genes_vs_motifs.rankings(19): motif annotations loaded in memory.\n",
      "\n",
      "2024-12-18 12:44:01,343 - pyscenic.prune - INFO - Worker hg38_10kbp_up_10kbp_down_full_tx_v10_clust.genes_vs_motifs.rankings(18): motif annotations loaded in memory.\n",
      "\n",
      "2024-12-18 12:44:01,343 - pyscenic.prune - INFO - Worker hg38_10kbp_up_10kbp_down_full_tx_v10_clust.genes_vs_motifs.rankings(18): motif annotations loaded in memory.\n",
      "\n",
      "2024-12-18 12:45:46,340 - pyscenic.prune - INFO - Worker hg38_10kbp_up_10kbp_down_full_tx_v10_clust.genes_vs_motifs.rankings(10): All regulons derived.\n",
      "\n",
      "2024-12-18 12:45:46,340 - pyscenic.prune - INFO - Worker hg38_10kbp_up_10kbp_down_full_tx_v10_clust.genes_vs_motifs.rankings(10): All regulons derived.\n",
      "\n",
      "2024-12-18 12:45:46,451 - pyscenic.prune - INFO - Worker hg38_10kbp_up_10kbp_down_full_tx_v10_clust.genes_vs_motifs.rankings(10): Done.\n",
      "\n",
      "2024-12-18 12:45:46,451 - pyscenic.prune - INFO - Worker hg38_10kbp_up_10kbp_down_full_tx_v10_clust.genes_vs_motifs.rankings(10): Done.\n",
      "\n",
      "2024-12-18 12:45:49,671 - pyscenic.prune - INFO - Worker hg38_10kbp_up_10kbp_down_full_tx_v10_clust.genes_vs_motifs.rankings(20): All regulons derived.\n",
      "\n",
      "2024-12-18 12:45:49,671 - pyscenic.prune - INFO - Worker hg38_10kbp_up_10kbp_down_full_tx_v10_clust.genes_vs_motifs.rankings(20): All regulons derived.\n",
      "\n",
      "2024-12-18 12:45:49,783 - pyscenic.prune - INFO - Worker hg38_10kbp_up_10kbp_down_full_tx_v10_clust.genes_vs_motifs.rankings(20): Done.\n",
      "\n",
      "2024-12-18 12:45:49,783 - pyscenic.prune - INFO - Worker hg38_10kbp_up_10kbp_down_full_tx_v10_clust.genes_vs_motifs.rankings(20): Done.\n",
      "\n",
      "2024-12-18 12:46:03,570 - pyscenic.prune - INFO - Worker hg38_10kbp_up_10kbp_down_full_tx_v10_clust.genes_vs_motifs.rankings(4): All regulons derived.\n",
      "\n",
      "2024-12-18 12:46:03,570 - pyscenic.prune - INFO - Worker hg38_10kbp_up_10kbp_down_full_tx_v10_clust.genes_vs_motifs.rankings(4): All regulons derived.\n",
      "\n",
      "2024-12-18 12:46:03,646 - pyscenic.prune - INFO - Worker hg38_10kbp_up_10kbp_down_full_tx_v10_clust.genes_vs_motifs.rankings(4): Done.\n",
      "\n",
      "2024-12-18 12:46:03,646 - pyscenic.prune - INFO - Worker hg38_10kbp_up_10kbp_down_full_tx_v10_clust.genes_vs_motifs.rankings(4): Done.\n",
      "\n",
      "2024-12-18 12:46:04,044 - pyscenic.prune - INFO - Worker hg38_10kbp_up_10kbp_down_full_tx_v10_clust.genes_vs_motifs.rankings(11): All regulons derived.\n",
      "\n",
      "2024-12-18 12:46:04,044 - pyscenic.prune - INFO - Worker hg38_10kbp_up_10kbp_down_full_tx_v10_clust.genes_vs_motifs.rankings(11): All regulons derived.\n",
      "\n",
      "2024-12-18 12:46:04,104 - pyscenic.prune - INFO - Worker hg38_10kbp_up_10kbp_down_full_tx_v10_clust.genes_vs_motifs.rankings(11): Done.\n",
      "\n",
      "2024-12-18 12:46:04,104 - pyscenic.prune - INFO - Worker hg38_10kbp_up_10kbp_down_full_tx_v10_clust.genes_vs_motifs.rankings(11): Done.\n",
      "\n",
      "2024-12-18 12:46:17,971 - pyscenic.prune - INFO - Worker hg38_10kbp_up_10kbp_down_full_tx_v10_clust.genes_vs_motifs.rankings(1): All regulons derived.\n",
      "\n",
      "2024-12-18 12:46:17,971 - pyscenic.prune - INFO - Worker hg38_10kbp_up_10kbp_down_full_tx_v10_clust.genes_vs_motifs.rankings(1): All regulons derived.\n",
      "\n",
      "2024-12-18 12:46:18,062 - pyscenic.prune - INFO - Worker hg38_10kbp_up_10kbp_down_full_tx_v10_clust.genes_vs_motifs.rankings(1): Done.\n",
      "\n",
      "2024-12-18 12:46:18,062 - pyscenic.prune - INFO - Worker hg38_10kbp_up_10kbp_down_full_tx_v10_clust.genes_vs_motifs.rankings(1): Done.\n",
      "\n",
      "2024-12-18 12:46:20,312 - pyscenic.prune - INFO - Worker hg38_10kbp_up_10kbp_down_full_tx_v10_clust.genes_vs_motifs.rankings(13): All regulons derived.\n",
      "\n",
      "2024-12-18 12:46:20,312 - pyscenic.prune - INFO - Worker hg38_10kbp_up_10kbp_down_full_tx_v10_clust.genes_vs_motifs.rankings(13): All regulons derived.\n",
      "\n",
      "2024-12-18 12:46:20,347 - pyscenic.prune - INFO - Worker hg38_10kbp_up_10kbp_down_full_tx_v10_clust.genes_vs_motifs.rankings(13): Done.\n",
      "\n",
      "2024-12-18 12:46:20,347 - pyscenic.prune - INFO - Worker hg38_10kbp_up_10kbp_down_full_tx_v10_clust.genes_vs_motifs.rankings(13): Done.\n",
      "\n",
      "2024-12-18 12:46:30,239 - pyscenic.prune - INFO - Worker hg38_10kbp_up_10kbp_down_full_tx_v10_clust.genes_vs_motifs.rankings(7): All regulons derived.\n",
      "\n",
      "2024-12-18 12:46:30,239 - pyscenic.prune - INFO - Worker hg38_10kbp_up_10kbp_down_full_tx_v10_clust.genes_vs_motifs.rankings(7): All regulons derived.\n",
      "\n",
      "2024-12-18 12:46:30,268 - pyscenic.prune - INFO - Worker hg38_10kbp_up_10kbp_down_full_tx_v10_clust.genes_vs_motifs.rankings(7): Done.\n",
      "\n",
      "2024-12-18 12:46:30,268 - pyscenic.prune - INFO - Worker hg38_10kbp_up_10kbp_down_full_tx_v10_clust.genes_vs_motifs.rankings(7): Done.\n",
      "\n",
      "2024-12-18 12:46:31,210 - pyscenic.prune - INFO - Worker hg38_10kbp_up_10kbp_down_full_tx_v10_clust.genes_vs_motifs.rankings(2): All regulons derived.\n",
      "\n",
      "2024-12-18 12:46:31,210 - pyscenic.prune - INFO - Worker hg38_10kbp_up_10kbp_down_full_tx_v10_clust.genes_vs_motifs.rankings(2): All regulons derived.\n",
      "\n",
      "2024-12-18 12:46:31,306 - pyscenic.prune - INFO - Worker hg38_10kbp_up_10kbp_down_full_tx_v10_clust.genes_vs_motifs.rankings(2): Done.\n",
      "\n",
      "2024-12-18 12:46:31,306 - pyscenic.prune - INFO - Worker hg38_10kbp_up_10kbp_down_full_tx_v10_clust.genes_vs_motifs.rankings(2): Done.\n",
      "\n",
      "2024-12-18 12:46:31,672 - pyscenic.prune - INFO - Worker hg38_10kbp_up_10kbp_down_full_tx_v10_clust.genes_vs_motifs.rankings(6): All regulons derived.\n",
      "\n",
      "2024-12-18 12:46:31,672 - pyscenic.prune - INFO - Worker hg38_10kbp_up_10kbp_down_full_tx_v10_clust.genes_vs_motifs.rankings(6): All regulons derived.\n",
      "\n",
      "2024-12-18 12:46:31,707 - pyscenic.prune - INFO - Worker hg38_10kbp_up_10kbp_down_full_tx_v10_clust.genes_vs_motifs.rankings(6): Done.\n",
      "\n",
      "2024-12-18 12:46:31,707 - pyscenic.prune - INFO - Worker hg38_10kbp_up_10kbp_down_full_tx_v10_clust.genes_vs_motifs.rankings(6): Done.\n",
      "\n",
      "2024-12-18 12:46:33,222 - pyscenic.prune - INFO - Worker hg38_10kbp_up_10kbp_down_full_tx_v10_clust.genes_vs_motifs.rankings(14): All regulons derived.\n",
      "\n",
      "2024-12-18 12:46:33,222 - pyscenic.prune - INFO - Worker hg38_10kbp_up_10kbp_down_full_tx_v10_clust.genes_vs_motifs.rankings(14): All regulons derived.\n",
      "\n",
      "2024-12-18 12:46:33,288 - pyscenic.prune - INFO - Worker hg38_10kbp_up_10kbp_down_full_tx_v10_clust.genes_vs_motifs.rankings(14): Done.\n",
      "\n",
      "2024-12-18 12:46:33,288 - pyscenic.prune - INFO - Worker hg38_10kbp_up_10kbp_down_full_tx_v10_clust.genes_vs_motifs.rankings(14): Done.\n",
      "\n",
      "2024-12-18 12:46:33,863 - pyscenic.prune - INFO - Worker hg38_10kbp_up_10kbp_down_full_tx_v10_clust.genes_vs_motifs.rankings(16): All regulons derived.\n",
      "\n",
      "2024-12-18 12:46:33,863 - pyscenic.prune - INFO - Worker hg38_10kbp_up_10kbp_down_full_tx_v10_clust.genes_vs_motifs.rankings(16): All regulons derived.\n",
      "\n",
      "2024-12-18 12:46:33,932 - pyscenic.prune - INFO - Worker hg38_10kbp_up_10kbp_down_full_tx_v10_clust.genes_vs_motifs.rankings(16): Done.\n",
      "\n",
      "2024-12-18 12:46:33,932 - pyscenic.prune - INFO - Worker hg38_10kbp_up_10kbp_down_full_tx_v10_clust.genes_vs_motifs.rankings(16): Done.\n",
      "\n",
      "2024-12-18 12:46:34,131 - pyscenic.prune - INFO - Worker hg38_10kbp_up_10kbp_down_full_tx_v10_clust.genes_vs_motifs.rankings(17): All regulons derived.\n",
      "\n",
      "2024-12-18 12:46:34,131 - pyscenic.prune - INFO - Worker hg38_10kbp_up_10kbp_down_full_tx_v10_clust.genes_vs_motifs.rankings(17): All regulons derived.\n",
      "\n",
      "2024-12-18 12:46:34,186 - pyscenic.prune - INFO - Worker hg38_10kbp_up_10kbp_down_full_tx_v10_clust.genes_vs_motifs.rankings(17): Done.\n",
      "\n",
      "2024-12-18 12:46:34,186 - pyscenic.prune - INFO - Worker hg38_10kbp_up_10kbp_down_full_tx_v10_clust.genes_vs_motifs.rankings(17): Done.\n",
      "\n",
      "2024-12-18 12:46:35,260 - pyscenic.prune - INFO - Worker hg38_10kbp_up_10kbp_down_full_tx_v10_clust.genes_vs_motifs.rankings(18): All regulons derived.\n",
      "\n",
      "2024-12-18 12:46:35,260 - pyscenic.prune - INFO - Worker hg38_10kbp_up_10kbp_down_full_tx_v10_clust.genes_vs_motifs.rankings(18): All regulons derived.\n",
      "\n",
      "2024-12-18 12:46:35,319 - pyscenic.prune - INFO - Worker hg38_10kbp_up_10kbp_down_full_tx_v10_clust.genes_vs_motifs.rankings(18): Done.\n",
      "\n",
      "2024-12-18 12:46:35,319 - pyscenic.prune - INFO - Worker hg38_10kbp_up_10kbp_down_full_tx_v10_clust.genes_vs_motifs.rankings(18): Done.\n",
      "\n",
      "2024-12-18 12:46:36,316 - pyscenic.prune - INFO - Worker hg38_10kbp_up_10kbp_down_full_tx_v10_clust.genes_vs_motifs.rankings(19): All regulons derived.\n",
      "\n",
      "2024-12-18 12:46:36,316 - pyscenic.prune - INFO - Worker hg38_10kbp_up_10kbp_down_full_tx_v10_clust.genes_vs_motifs.rankings(19): All regulons derived.\n",
      "\n",
      "2024-12-18 12:46:36,341 - pyscenic.prune - INFO - Worker hg38_10kbp_up_10kbp_down_full_tx_v10_clust.genes_vs_motifs.rankings(19): Done.\n",
      "\n",
      "2024-12-18 12:46:36,341 - pyscenic.prune - INFO - Worker hg38_10kbp_up_10kbp_down_full_tx_v10_clust.genes_vs_motifs.rankings(19): Done.\n",
      "\n",
      "2024-12-18 12:46:39,303 - pyscenic.prune - INFO - Worker hg38_10kbp_up_10kbp_down_full_tx_v10_clust.genes_vs_motifs.rankings(9): All regulons derived.\n",
      "\n",
      "2024-12-18 12:46:39,303 - pyscenic.prune - INFO - Worker hg38_10kbp_up_10kbp_down_full_tx_v10_clust.genes_vs_motifs.rankings(9): All regulons derived.\n",
      "\n",
      "2024-12-18 12:46:39,337 - pyscenic.prune - INFO - Worker hg38_10kbp_up_10kbp_down_full_tx_v10_clust.genes_vs_motifs.rankings(9): Done.\n",
      "\n",
      "2024-12-18 12:46:39,337 - pyscenic.prune - INFO - Worker hg38_10kbp_up_10kbp_down_full_tx_v10_clust.genes_vs_motifs.rankings(9): Done.\n",
      "\n",
      "2024-12-18 12:46:39,733 - pyscenic.prune - INFO - Worker hg38_10kbp_up_10kbp_down_full_tx_v10_clust.genes_vs_motifs.rankings(15): All regulons derived.\n",
      "\n",
      "2024-12-18 12:46:39,733 - pyscenic.prune - INFO - Worker hg38_10kbp_up_10kbp_down_full_tx_v10_clust.genes_vs_motifs.rankings(15): All regulons derived.\n",
      "\n",
      "2024-12-18 12:46:39,768 - pyscenic.prune - INFO - Worker hg38_10kbp_up_10kbp_down_full_tx_v10_clust.genes_vs_motifs.rankings(15): Done.\n",
      "\n",
      "2024-12-18 12:46:39,768 - pyscenic.prune - INFO - Worker hg38_10kbp_up_10kbp_down_full_tx_v10_clust.genes_vs_motifs.rankings(15): Done.\n",
      "\n",
      "2024-12-18 12:46:42,548 - pyscenic.prune - INFO - Worker hg38_10kbp_up_10kbp_down_full_tx_v10_clust.genes_vs_motifs.rankings(8): All regulons derived.\n",
      "\n",
      "2024-12-18 12:46:42,548 - pyscenic.prune - INFO - Worker hg38_10kbp_up_10kbp_down_full_tx_v10_clust.genes_vs_motifs.rankings(8): All regulons derived.\n",
      "\n",
      "2024-12-18 12:46:42,582 - pyscenic.prune - INFO - Worker hg38_10kbp_up_10kbp_down_full_tx_v10_clust.genes_vs_motifs.rankings(8): Done.\n",
      "\n",
      "2024-12-18 12:46:42,582 - pyscenic.prune - INFO - Worker hg38_10kbp_up_10kbp_down_full_tx_v10_clust.genes_vs_motifs.rankings(8): Done.\n",
      "\n",
      "2024-12-18 12:46:43,286 - pyscenic.prune - INFO - Worker hg38_10kbp_up_10kbp_down_full_tx_v10_clust.genes_vs_motifs.rankings(12): All regulons derived.\n",
      "\n",
      "2024-12-18 12:46:43,286 - pyscenic.prune - INFO - Worker hg38_10kbp_up_10kbp_down_full_tx_v10_clust.genes_vs_motifs.rankings(12): All regulons derived.\n",
      "\n",
      "2024-12-18 12:46:43,320 - pyscenic.prune - INFO - Worker hg38_10kbp_up_10kbp_down_full_tx_v10_clust.genes_vs_motifs.rankings(12): Done.\n",
      "\n",
      "2024-12-18 12:46:43,320 - pyscenic.prune - INFO - Worker hg38_10kbp_up_10kbp_down_full_tx_v10_clust.genes_vs_motifs.rankings(12): Done.\n",
      "\n",
      "2024-12-18 12:46:45,306 - pyscenic.prune - INFO - Worker hg38_10kbp_up_10kbp_down_full_tx_v10_clust.genes_vs_motifs.rankings(3): All regulons derived.\n",
      "\n",
      "2024-12-18 12:46:45,306 - pyscenic.prune - INFO - Worker hg38_10kbp_up_10kbp_down_full_tx_v10_clust.genes_vs_motifs.rankings(3): All regulons derived.\n",
      "\n",
      "2024-12-18 12:46:45,310 - pyscenic.prune - INFO - Worker hg38_10kbp_up_10kbp_down_full_tx_v10_clust.genes_vs_motifs.rankings(3): Done.\n",
      "\n",
      "2024-12-18 12:46:45,310 - pyscenic.prune - INFO - Worker hg38_10kbp_up_10kbp_down_full_tx_v10_clust.genes_vs_motifs.rankings(3): Done.\n",
      "\n",
      "2024-12-18 12:46:46,188 - pyscenic.prune - INFO - Worker hg38_10kbp_up_10kbp_down_full_tx_v10_clust.genes_vs_motifs.rankings(5): All regulons derived.\n",
      "\n",
      "2024-12-18 12:46:46,188 - pyscenic.prune - INFO - Worker hg38_10kbp_up_10kbp_down_full_tx_v10_clust.genes_vs_motifs.rankings(5): All regulons derived.\n",
      "\n",
      "2024-12-18 12:46:46,190 - pyscenic.prune - INFO - Worker hg38_10kbp_up_10kbp_down_full_tx_v10_clust.genes_vs_motifs.rankings(5): Done.\n",
      "\n",
      "2024-12-18 12:46:46,190 - pyscenic.prune - INFO - Worker hg38_10kbp_up_10kbp_down_full_tx_v10_clust.genes_vs_motifs.rankings(5): Done.\n",
      "\n",
      "2024-12-18 12:46:46,225 - pyscenic.cli.pyscenic - INFO - Writing results to file.\n"
     ]
    }
   ],
   "source": [
    "!pyscenic ctx adj.tsv \\\n",
    "    {f_db_names} \\\n",
    "    --annotations_fname {f_motif_path} \\\n",
    "    --expression_mtx_fname {f_loom_path_scenic} \\\n",
    "    --output reg.csv \\\n",
    "    --mask_dropouts \\\n",
    "    --num_workers 20"
   ]
  },
  {
   "cell_type": "markdown",
   "metadata": {},
   "source": [
    "# Regulon Activity (aucell)\n",
    "* identifies the activity of these regulons at the single cell level by calculating an enrichment score"
   ]
  },
  {
   "cell_type": "code",
   "execution_count": null,
   "metadata": {},
   "outputs": [],
   "source": []
  },
  {
   "cell_type": "code",
   "execution_count": null,
   "metadata": {},
   "outputs": [],
   "source": []
  },
  {
   "cell_type": "markdown",
   "metadata": {},
   "source": [
    "## 2. Motif enrichment and pruning the GRN (based on motif enrichment)\n",
    "* to perform pruning need motif rankings and TF lists"
   ]
  },
  {
   "cell_type": "markdown",
   "metadata": {},
   "source": [
    "## 3. Scoring the cells (using AUCell to determine activity)"
   ]
  },
  {
   "cell_type": "markdown",
   "metadata": {},
   "source": [
    "# other"
   ]
  },
  {
   "cell_type": "markdown",
   "metadata": {},
   "source": [
    "# using pyscenic to extract the regulons\n",
    "* downloaded necessary databases: https://pyscenic.readthedocs.io/en/latest/installation.html\n",
    "* database ranking the genome --> used Homo sapiens - hg38 - refseq_r80 - SCENIC+ databases - Gene based --> hg38_10kbp_up_10kbp_down_full_tx_v10_clust.genes_vs_motifs.rankings.feather\n",
    "* Motif to TF annotations --> "
   ]
  },
  {
   "cell_type": "code",
   "execution_count": 3,
   "metadata": {},
   "outputs": [],
   "source": [
    "# using pyscenic to extract the regulons"
   ]
  },
  {
   "cell_type": "code",
   "execution_count": null,
   "metadata": {},
   "outputs": [],
   "source": []
  },
  {
   "cell_type": "code",
   "execution_count": null,
   "metadata": {},
   "outputs": [],
   "source": [
    "#make expression matrix\n",
    "expr_matrix = pd.DataFrame(data_DC1mreg.X, index=data_DC1mreg.obs_names, columns=data_DC1mreg.var_names)"
   ]
  },
  {
   "cell_type": "code",
   "execution_count": null,
   "metadata": {},
   "outputs": [],
   "source": [
    "expr_matrix.to_csv('DC1mreg_expr_matrix.tsv', sep='\\t', index=False)"
   ]
  },
  {
   "cell_type": "code",
   "execution_count": null,
   "metadata": {},
   "outputs": [],
   "source": [
    "f_expr = \"DC1mreg_expr_matrix.tsv\" "
   ]
  }
 ],
 "metadata": {
  "kernelspec": {
   "display_name": "Python 3 (ipykernel)",
   "language": "python",
   "name": "python3"
  },
  "language_info": {
   "codemirror_mode": {
    "name": "ipython",
    "version": 3
   },
   "file_extension": ".py",
   "mimetype": "text/x-python",
   "name": "python",
   "nbconvert_exporter": "python",
   "pygments_lexer": "ipython3",
   "version": "3.10.16"
  }
 },
 "nbformat": 4,
 "nbformat_minor": 2
}
