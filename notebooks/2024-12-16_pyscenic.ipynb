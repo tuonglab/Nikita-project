{
 "cells": [
  {
   "cell_type": "code",
   "execution_count": 1,
   "metadata": {},
   "outputs": [],
   "source": [
    "#load packages I need\n",
    "import os\n",
    "import tools\n",
    "import scanpy as sc\n",
    "import pandas as pd\n",
    "import matplotlib.pyplot as plt\n",
    "import pyscenic\n",
    "from pyscenic.aucell import aucell"
   ]
  },
  {
   "cell_type": "code",
   "execution_count": 2,
   "metadata": {},
   "outputs": [
    {
     "data": {
      "text/plain": [
       "'/scratch/user/s4436039/scdata/Python_Integration_Sep'"
      ]
     },
     "execution_count": 2,
     "metadata": {},
     "output_type": "execute_result"
    }
   ],
   "source": [
    "#show current directory \n",
    "os.getcwd()\n",
    "os.chdir('/scratch/user/s4436039/scdata/Python_Integration_Sep')\n",
    "os.getcwd()"
   ]
  },
  {
   "cell_type": "code",
   "execution_count": 3,
   "metadata": {},
   "outputs": [],
   "source": [
    "# read in data\n",
    "data = sc.read_h5ad('NRclean_clustered2.h5ad')"
   ]
  },
  {
   "cell_type": "code",
   "execution_count": 4,
   "metadata": {},
   "outputs": [],
   "source": [
    "#make two versions of the data, once containing just cDC1 and mregDC, and another containing just cDC2 and mregDC\n",
    "data_DC1mreg = data[data.obs[\"NR_annotations_simple\"].isin([\"cDC1\",\"mregDC\"])]\n",
    "data_DC2mreg = data[data.obs[\"NR_annotations_simple\"].isin([\"cDC2\",\"mregDC\"])]"
   ]
  },
  {
   "cell_type": "markdown",
   "metadata": {},
   "source": [
    "# pyscenic:"
   ]
  },
  {
   "cell_type": "markdown",
   "metadata": {},
   "source": [
    "## 1. GRN Inference (gene regulatory network)"
   ]
  },
  {
   "cell_type": "markdown",
   "metadata": {},
   "source": [
    "# following online tute:"
   ]
  },
  {
   "cell_type": "code",
   "execution_count": 5,
   "metadata": {},
   "outputs": [
    {
     "data": {
      "text/plain": [
       "'/scratch/user/s4436039/scdata/PySCENIC'"
      ]
     },
     "execution_count": 5,
     "metadata": {},
     "output_type": "execute_result"
    }
   ],
   "source": [
    "os.chdir('/scratch/user/s4436039/scdata/PySCENIC')\n",
    "os.getcwd()"
   ]
  },
  {
   "cell_type": "code",
   "execution_count": 6,
   "metadata": {},
   "outputs": [],
   "source": [
    "# transcription factors list\n",
    "f_tfs = \"allTFs_hg38.txt\" "
   ]
  },
  {
   "cell_type": "code",
   "execution_count": 9,
   "metadata": {},
   "outputs": [],
   "source": [
    "#make expression matrix\n",
    "expr_matrix = pd.DataFrame(data_DC1mreg.X, index=data_DC1mreg.obs_names, columns=data_DC1mreg.var_names)"
   ]
  },
  {
   "cell_type": "code",
   "execution_count": 12,
   "metadata": {},
   "outputs": [],
   "source": [
    "expr_matrix.to_csv('DC1mreg_expr_matrix.tsv', sep='\\t', index=False)"
   ]
  },
  {
   "cell_type": "code",
   "execution_count": 13,
   "metadata": {},
   "outputs": [],
   "source": [
    "f_expr = \"DC1mreg_expr_matrix.tsv\" "
   ]
  },
  {
   "cell_type": "code",
   "execution_count": 15,
   "metadata": {},
   "outputs": [],
   "source": [
    "import loompy as lp\n",
    "import numpy as np"
   ]
  },
  {
   "cell_type": "code",
   "execution_count": 17,
   "metadata": {},
   "outputs": [],
   "source": [
    "# Save the path where you want loom file to save (current directory)\n",
    "f_loom_path_DC1mreg = \"DC1mreg_loom.loom\""
   ]
  },
  {
   "cell_type": "code",
   "execution_count": 18,
   "metadata": {},
   "outputs": [],
   "source": [
    "row_attrs = { \n",
    "    \"Gene\": np.array(data_DC1mreg.var.index) ,\n",
    "}\n",
    "col_attrs = { \n",
    "    \"CellID\":  np.array(data_DC1mreg.obs.index) ,\n",
    "    \"nGene\": np.array( np.sum(data_DC1mreg.X.transpose()>0 , axis=0)).flatten() ,\n",
    "    \"nUMI\": np.array( np.sum(data_DC1mreg.X.transpose() , axis=0)).flatten() ,\n",
    "}\n",
    "\n",
    "lp.create( f_loom_path_DC1mreg, data_DC1mreg.X.transpose(), row_attrs, col_attrs )"
   ]
  },
  {
   "cell_type": "code",
   "execution_count": 19,
   "metadata": {},
   "outputs": [
    {
     "name": "stdout",
     "output_type": "stream",
     "text": [
      "Traceback (most recent call last):\n",
      "  File \"/home/s4436039/miniforge3/envs/env/bin/pyscenic\", line 5, in <module>\n",
      "    from pyscenic.cli.pyscenic import main\n",
      "  File \"/home/s4436039/miniforge3/envs/env/lib/python3.12/site-packages/pyscenic/cli/pyscenic.py\", line 19, in <module>\n",
      "    from arboreto.algo import genie3, grnboost2\n",
      "  File \"/home/s4436039/miniforge3/envs/env/lib/python3.12/site-packages/arboreto/algo.py\", line 5, in <module>\n",
      "    import pandas as pd\n",
      "  File \"/home/s4436039/miniforge3/envs/env/lib/python3.12/site-packages/pandas/__init__.py\", line 49, in <module>\n",
      "    from pandas.core.api import (\n",
      "  File \"/home/s4436039/miniforge3/envs/env/lib/python3.12/site-packages/pandas/core/api.py\", line 47, in <module>\n",
      "    from pandas.core.groupby import (\n",
      "  File \"/home/s4436039/miniforge3/envs/env/lib/python3.12/site-packages/pandas/core/groupby/__init__.py\", line 1, in <module>\n",
      "    from pandas.core.groupby.generic import (\n",
      "  File \"/home/s4436039/miniforge3/envs/env/lib/python3.12/site-packages/pandas/core/groupby/generic.py\", line 68, in <module>\n",
      "    from pandas.core.frame import DataFrame\n",
      "  File \"/home/s4436039/miniforge3/envs/env/lib/python3.12/site-packages/pandas/core/frame.py\", line 149, in <module>\n",
      "    from pandas.core.generic import (\n",
      "  File \"/home/s4436039/miniforge3/envs/env/lib/python3.12/site-packages/pandas/core/generic.py\", line 193, in <module>\n",
      "    from pandas.core.window import (\n",
      "  File \"/home/s4436039/miniforge3/envs/env/lib/python3.12/site-packages/pandas/core/window/__init__.py\", line 1, in <module>\n",
      "    from pandas.core.window.ewm import (\n",
      "  File \"/home/s4436039/miniforge3/envs/env/lib/python3.12/site-packages/pandas/core/window/ewm.py\", line 11, in <module>\n",
      "    import pandas._libs.window.aggregations as window_aggregations\n",
      "ImportError: /lib64/libstdc++.so.6: version `GLIBCXX_3.4.29' not found (required by /home/s4436039/miniforge3/envs/env/lib/python3.12/site-packages/pandas/_libs/window/aggregations.cpython-312-x86_64-linux-gnu.so)\n"
     ]
    }
   ],
   "source": [
    "!pyscenic grn {f_loom_path_DC1mreg} {f_tfs} -o adj.csv --num_workers 20"
   ]
  },
  {
   "cell_type": "code",
   "execution_count": 14,
   "metadata": {},
   "outputs": [
    {
     "name": "stdout",
     "output_type": "stream",
     "text": [
      "Traceback (most recent call last):\n",
      "  File \"/home/s4436039/miniforge3/envs/env/bin/pyscenic\", line 5, in <module>\n",
      "    from pyscenic.cli.pyscenic import main\n",
      "  File \"/home/s4436039/miniforge3/envs/env/lib/python3.12/site-packages/pyscenic/cli/pyscenic.py\", line 19, in <module>\n",
      "    from arboreto.algo import genie3, grnboost2\n",
      "  File \"/home/s4436039/miniforge3/envs/env/lib/python3.12/site-packages/arboreto/algo.py\", line 5, in <module>\n",
      "    import pandas as pd\n",
      "  File \"/home/s4436039/miniforge3/envs/env/lib/python3.12/site-packages/pandas/__init__.py\", line 49, in <module>\n",
      "    from pandas.core.api import (\n",
      "  File \"/home/s4436039/miniforge3/envs/env/lib/python3.12/site-packages/pandas/core/api.py\", line 47, in <module>\n",
      "    from pandas.core.groupby import (\n",
      "  File \"/home/s4436039/miniforge3/envs/env/lib/python3.12/site-packages/pandas/core/groupby/__init__.py\", line 1, in <module>\n",
      "    from pandas.core.groupby.generic import (\n",
      "  File \"/home/s4436039/miniforge3/envs/env/lib/python3.12/site-packages/pandas/core/groupby/generic.py\", line 68, in <module>\n",
      "    from pandas.core.frame import DataFrame\n",
      "  File \"/home/s4436039/miniforge3/envs/env/lib/python3.12/site-packages/pandas/core/frame.py\", line 149, in <module>\n",
      "    from pandas.core.generic import (\n",
      "  File \"/home/s4436039/miniforge3/envs/env/lib/python3.12/site-packages/pandas/core/generic.py\", line 193, in <module>\n",
      "    from pandas.core.window import (\n",
      "  File \"/home/s4436039/miniforge3/envs/env/lib/python3.12/site-packages/pandas/core/window/__init__.py\", line 1, in <module>\n",
      "    from pandas.core.window.ewm import (\n",
      "  File \"/home/s4436039/miniforge3/envs/env/lib/python3.12/site-packages/pandas/core/window/ewm.py\", line 11, in <module>\n",
      "    import pandas._libs.window.aggregations as window_aggregations\n",
      "ImportError: /lib64/libstdc++.so.6: version `GLIBCXX_3.4.29' not found (required by /home/s4436039/miniforge3/envs/env/lib/python3.12/site-packages/pandas/_libs/window/aggregations.cpython-312-x86_64-linux-gnu.so)\n"
     ]
    }
   ],
   "source": [
    "!pyscenic grn {f_expr} {f_tfs} -o adj.csv --num_workers 20"
   ]
  },
  {
   "cell_type": "markdown",
   "metadata": {},
   "source": [
    "## 2. Motif enrichment and pruning the GRN (based on motif enrichment)\n",
    "* to perform pruning need motif rankings and TF lists"
   ]
  },
  {
   "cell_type": "markdown",
   "metadata": {},
   "source": [
    "## 3. Scoring the cells (using AUCell to determine activity)"
   ]
  },
  {
   "cell_type": "markdown",
   "metadata": {},
   "source": [
    "# other"
   ]
  },
  {
   "cell_type": "markdown",
   "metadata": {},
   "source": [
    "# using pyscenic to extract the regulons\n",
    "* downloaded necessary databases: https://pyscenic.readthedocs.io/en/latest/installation.html\n",
    "* database ranking the genome --> used Homo sapiens - hg38 - refseq_r80 - SCENIC+ databases - Gene based --> hg38_10kbp_up_10kbp_down_full_tx_v10_clust.genes_vs_motifs.rankings.feather\n",
    "* Motif to TF annotations --> "
   ]
  },
  {
   "cell_type": "code",
   "execution_count": null,
   "metadata": {},
   "outputs": [],
   "source": [
    "# using pyscenic to extract the regulons"
   ]
  },
  {
   "cell_type": "code",
   "execution_count": null,
   "metadata": {},
   "outputs": [],
   "source": []
  }
 ],
 "metadata": {
  "kernelspec": {
   "display_name": "Python 3 (ipykernel)",
   "language": "python",
   "name": "python3"
  },
  "language_info": {
   "codemirror_mode": {
    "name": "ipython",
    "version": 3
   },
   "file_extension": ".py",
   "mimetype": "text/x-python",
   "name": "python",
   "nbconvert_exporter": "python",
   "pygments_lexer": "ipython3",
   "version": "3.12.3"
  }
 },
 "nbformat": 4,
 "nbformat_minor": 2
}
