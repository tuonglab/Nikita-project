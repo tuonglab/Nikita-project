{
 "cells": [
  {
   "cell_type": "markdown",
   "id": "a9f77bc7",
   "metadata": {},
   "source": [
    "# Comparing ascites vs tumour/healthy DC"
   ]
  },
  {
   "cell_type": "markdown",
   "id": "e3f188fc",
   "metadata": {},
   "source": [
    "## DC2 previously subclustered and found one cluster (cliser 6) enriched in ascites"
   ]
  },
  {
   "cell_type": "code",
   "execution_count": null,
   "id": "7ba997b0",
   "metadata": {},
   "outputs": [],
   "source": [
    "#load packages I need\n",
    "import os\n",
    "import tools\n",
    "import scanpy as sc\n",
    "import pandas as pd\n",
    "import dandelion as ddl\n",
    "from tqdm import tqdm\n",
    "import matplotlib.pyplot as plt\n",
    "import scanpy.external as sce\n",
    "from matplotlib.pyplot import rc_context\n",
    "import seaborn as sns"
   ]
  },
  {
   "cell_type": "code",
   "execution_count": null,
   "id": "e00ab4ea",
   "metadata": {},
   "outputs": [],
   "source": [
    "#set current directory \n",
    "os.chdir('/scratch/user/s4436039/scdata/Myeloid_Objects')\n",
    "os.getcwd()"
   ]
  },
  {
   "cell_type": "code",
   "execution_count": null,
   "id": "9f797bb2",
   "metadata": {},
   "outputs": [],
   "source": [
    "data_DC2 = sc.read_h5ad('20250629_DC2_bbknn_clustered2.h5ad') "
   ]
  },
  {
   "cell_type": "code",
   "execution_count": null,
   "id": "3102ce06",
   "metadata": {},
   "outputs": [],
   "source": [
    "data_DC2"
   ]
  },
  {
   "cell_type": "code",
   "execution_count": null,
   "id": "b11dc7fe",
   "metadata": {},
   "outputs": [],
   "source": [
    "#plotting \n",
    "with plt.rc_context({\"figure.figsize\": (3, 3)}):\n",
    "    sc.pl.umap(data_DC2, color=[\"cDC2_Atlas_Subclusters\"], ncols=4, size=8)"
   ]
  },
  {
   "cell_type": "code",
   "execution_count": null,
   "id": "10fab5ae",
   "metadata": {},
   "outputs": [],
   "source": [
    "#plotting \n",
    "with plt.rc_context({\"figure.figsize\": (3, 3)}):\n",
    "    sc.pl.umap(data_DC2, color=[\"cDC2_A-B\"], ncols=4, size=8)"
   ]
  },
  {
   "cell_type": "code",
   "execution_count": null,
   "id": "5f453b00",
   "metadata": {},
   "outputs": [],
   "source": [
    "pd.crosstab(data_DC2.obs[\"sample_type_major2\"], data_DC2.obs[\"cDC2_Atlas_Subclusters\"]).apply(\n",
    "    lambda r: r / r.sum() * 100, axis=1\n",
    ").plot.bar(stacked=True, figsize=(4,6))\n",
    "plt.legend(bbox_to_anchor=(1, 0.5), loc=\"center left\", frameon=False)\n",
    "plt.title(\"cDC2 Clusters by Sample Type\")\n",
    "plt.tight_layout()  \n",
    "plt.show()"
   ]
  },
  {
   "cell_type": "markdown",
   "id": "441cd01a",
   "metadata": {},
   "source": [
    "### Calculate DEGs between cluster 6 and other cDC2B"
   ]
  },
  {
   "cell_type": "code",
   "execution_count": null,
   "id": "e05c022e",
   "metadata": {},
   "outputs": [],
   "source": [
    "# subset to cDC2B\n",
    "data_DC2B = data_DC2[data_DC2.obs[\"cDC2_A-B\"] == \"cDC2B\"]"
   ]
  },
  {
   "cell_type": "code",
   "execution_count": null,
   "id": "b7a0a4c4",
   "metadata": {},
   "outputs": [],
   "source": [
    "# check annots\n",
    "print(data_DC2B.obs['cDC2_Atlas_Subclusters'].value_counts())"
   ]
  },
  {
   "cell_type": "code",
   "execution_count": null,
   "id": "7d0f2ed9",
   "metadata": {},
   "outputs": [],
   "source": [
    "#calculate DEG genes between cluster 6 and all others:\n",
    "sc.tl.rank_genes_groups(data_DC2B, groupby=\"cDC2_Atlas_Subclusters\", groups=[\"6\"], reference=\"rest\", method=\"wilcoxon\")"
   ]
  },
  {
   "cell_type": "code",
   "execution_count": null,
   "id": "c0d0c302",
   "metadata": {},
   "outputs": [],
   "source": [
    "with plt.rc_context({\"figure.figsize\": (12, 2)}):\n",
    "    sc.pl.rank_genes_groups_violin(data_DC2B, groups=[\"6\"], n_genes=20, jitter=False, strip=False)"
   ]
  },
  {
   "cell_type": "code",
   "execution_count": null,
   "id": "7b6bc963",
   "metadata": {},
   "outputs": [],
   "source": [
    "# save DEGs\n",
    "DC2_Degs = sc.get.rank_genes_groups_df(data_DC2B, group=\"6\")\n",
    "DC2_Degs.to_csv(\"20251016_DC2B_Degs_c6.csv\", index=False)"
   ]
  },
  {
   "cell_type": "code",
   "execution_count": null,
   "id": "a248f40d",
   "metadata": {},
   "outputs": [],
   "source": [
    "DC2_Degs.head()"
   ]
  },
  {
   "cell_type": "code",
   "execution_count": null,
   "id": "867b3ccb",
   "metadata": {},
   "outputs": [],
   "source": [
    "#plotting \n",
    "with plt.rc_context({\"figure.figsize\": (3, 3)}):\n",
    "    sc.pl.umap(data_DC2, color=[\"sample_type_major2\"], ncols=4, size=8)"
   ]
  },
  {
   "cell_type": "code",
   "execution_count": null,
   "id": "23fce963",
   "metadata": {},
   "outputs": [],
   "source": [
    "with plt.rc_context({\"figure.figsize\": (4, 4)}):\n",
    "    sc.pl.umap(data_DC2, color=\"sample_type_major2\", groups=[\"primary tumour\"], size=10, title=\"primary\", frameon=False, legend_loc=None)\n",
    "    sc.pl.umap(data_DC2, color=\"sample_type_major2\", groups=[\"metastatic tumour\"], size=10, title=\"mets\", frameon=False, legend_loc=None)\n",
    "    sc.pl.umap(data_DC2, color=\"sample_type_major2\", groups=[\"healthy\"], size=10, title=\"healthy\", frameon=False, legend_loc=None)\n",
    "    sc.pl.umap(data_DC2, color=\"sample_type_major2\", groups=[\"ascites\"], size=10, title=\"ascites\", frameon=False, legend_loc=None)"
   ]
  },
  {
   "cell_type": "markdown",
   "id": "955cd34e",
   "metadata": {},
   "source": [
    "# Subset out cDC1 from full DC object. "
   ]
  },
  {
   "cell_type": "code",
   "execution_count": null,
   "id": "1539e0a1",
   "metadata": {},
   "outputs": [],
   "source": [
    "# read in data\n",
    "data = sc.read_h5ad('20250617_AllDC_bbknn.h5ad')"
   ]
  },
  {
   "cell_type": "code",
   "execution_count": null,
   "id": "fae000f7",
   "metadata": {},
   "outputs": [],
   "source": [
    "# read in data\n",
    "data = sc.read_h5ad('20250617_AllDC_bbknn.h5ad')"
   ]
  },
  {
   "cell_type": "code",
   "execution_count": null,
   "id": "bb3d4b65",
   "metadata": {},
   "outputs": [],
   "source": [
    "#plotting \n",
    "with plt.rc_context({\"figure.figsize\": (3, 3)}):\n",
    "    sc.pl.umap(data, color=[\"NR_annotations_simple\"], ncols=4, size=8)"
   ]
  },
  {
   "cell_type": "code",
   "execution_count": null,
   "id": "33dce57e",
   "metadata": {},
   "outputs": [],
   "source": [
    "with plt.rc_context({\"figure.figsize\": (4, 4)}):\n",
    "    sc.pl.umap(data, color=\"sample_type_major2\", groups=[\"primary tumour\"], size=10, title=\"primary\", frameon=False, legend_loc=None)\n",
    "    sc.pl.umap(data, color=\"sample_type_major2\", groups=[\"metastatic tumour\"], size=10, title=\"mets\", frameon=False, legend_loc=None)\n",
    "    sc.pl.umap(data, color=\"sample_type_major2\", groups=[\"healthy\"], size=10, title=\"healthy\", frameon=False, legend_loc=None)\n",
    "    sc.pl.umap(data, color=\"sample_type_major2\", groups=[\"ascites\"], size=10, title=\"ascites\", frameon=False, legend_loc=None)"
   ]
  },
  {
   "cell_type": "code",
   "execution_count": null,
   "id": "10af8c58",
   "metadata": {},
   "outputs": [],
   "source": [
    "pd.crosstab(data.obs[\"sample_type_major2\"], data.obs[\"NR_annotations_simple\"]).apply(\n",
    "    lambda r: r / r.sum() * 100, axis=1\n",
    ").plot.bar(stacked=True, figsize=(4,6))\n",
    "plt.legend(bbox_to_anchor=(1, 0.5), loc=\"center left\", frameon=False)\n",
    "plt.title(\"DC subsets by Sample Type\")\n",
    "plt.tight_layout()  \n",
    "plt.show()"
   ]
  },
  {
   "cell_type": "markdown",
   "id": "13a4a3d0",
   "metadata": {},
   "source": [
    "### Looks like cDC1 are also distinct in ascites, need to read in pre-hvg object, subset out cDC1, repeat clustering, and then caluclate degs:"
   ]
  },
  {
   "cell_type": "code",
   "execution_count": null,
   "id": "ca541f8b",
   "metadata": {},
   "outputs": [],
   "source": [
    "# read in data\n",
    "data_labels = data\n",
    "data_clean_prehvg = sc.read_h5ad('NR_cleandata.h5ad')"
   ]
  }
 ],
 "metadata": {
  "kernelspec": {
   "display_name": "Python 3 (ipykernel)",
   "language": "python",
   "name": "python3"
  }
 },
 "nbformat": 4,
 "nbformat_minor": 5
}
