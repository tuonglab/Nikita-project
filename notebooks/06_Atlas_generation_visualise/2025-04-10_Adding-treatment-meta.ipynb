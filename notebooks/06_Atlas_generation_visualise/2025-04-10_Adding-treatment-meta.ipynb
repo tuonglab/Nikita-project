{
 "cells": [
  {
   "cell_type": "markdown",
   "id": "f6aea9d2",
   "metadata": {},
   "source": [
    "# Adding treatment metadata to atlas"
   ]
  },
  {
   "cell_type": "markdown",
   "id": "b4e76355",
   "metadata": {},
   "source": [
    "### First I want to export a spreadsheet that has each sample as a row with dataset id etc as columns, I can then add treatment details to this in excel"
   ]
  },
  {
   "cell_type": "code",
   "execution_count": 1,
   "id": "58c6f85c",
   "metadata": {},
   "outputs": [],
   "source": [
    "#load packages I need\n",
    "import os\n",
    "import tools\n",
    "import scanpy as sc\n",
    "import pandas as pd"
   ]
  },
  {
   "cell_type": "code",
   "execution_count": 2,
   "id": "cdfe1176",
   "metadata": {},
   "outputs": [
    {
     "data": {
      "text/plain": [
       "'/scratch/user/s4436039/scdata/Python_Integration_Sep'"
      ]
     },
     "execution_count": 2,
     "metadata": {},
     "output_type": "execute_result"
    }
   ],
   "source": [
    "#show current directory \n",
    "os.getcwd()\n",
    "os.chdir('/scratch/user/s4436039/scdata/Python_Integration_Sep')\n",
    "os.getcwd()"
   ]
  },
  {
   "cell_type": "code",
   "execution_count": 3,
   "id": "850f56d6",
   "metadata": {},
   "outputs": [],
   "source": [
    "# read in data\n",
    "data = sc.read_h5ad('NRclean_clustered2.h5ad')\n",
    "data_DC = sc.read_h5ad('NRclean_clustered2_DC.h5ad')"
   ]
  },
  {
   "cell_type": "code",
   "execution_count": 4,
   "id": "b1802009",
   "metadata": {},
   "outputs": [
    {
     "data": {
      "text/plain": [
       "AnnData object with n_obs × n_vars = 498023 × 1268\n",
       "    obs: 'nCount_RNA', 'nFeature_RNA', 'sample_type', 'cancer_type', 'patient_id', 'sample_id', 'percent.mt', 'site', 'sample_type_major', 'cancer_subtype', 'integration_id', 'ident', 'dataset_id', 'n_genes_by_counts', 'log1p_n_genes_by_counts', 'total_counts', 'log1p_total_counts', 'pct_counts_in_top_50_genes', 'pct_counts_in_top_100_genes', 'pct_counts_in_top_200_genes', 'pct_counts_in_top_500_genes', 'total_counts_mt', 'log1p_total_counts_mt', 'pct_counts_mt', 'S_score', 'G2M_score', 'keep_or_remove', 'leiden', 'celltype', 'leiden_DC', 'leiden_DC_v2', 'exclude_annots', 'leiden_M', 'Technology', 'cancer_type_broad', 'clean-leiden_0.8', 'clean-subcluster', 'clean-subcluster-v2', 'YS_sig', 'HSC_sig', 'CD5nDC2_up_vDC3', 'DC3_up_vCD5nDC2', 'CD5pDC2_up_vDC3', 'DC3_up_vCD5pDC2', 'DC3_up_vMono', 'Mono_up_vDC3', 'DC1_sig', 'DC2_sig', 'DC3_sig', 'DC_Axl_sig', 'DC2_up_DC3', 'DC3_up_DC2', 'mregDC_sig', 'cDC1_mregDC', 'cDC2_mregDC', 'NR_annotations', 'NR_annotations_simple', 'sample_type_major2', 'cancer_with_H', 'cancer_broadest', 'CytoTRACE_DC_Predicted_order', 'AHR(+)', 'ATF3(+)', 'BACH2(+)', 'BATF(+)', 'BHLHE40(+)', 'BHLHE41(+)', 'CREM(+)', 'DDIT3(+)', 'ELF3(+)', 'ETS1(+)', 'FOSL2(+)', 'GATA3(+)', 'HIF1A(+)', 'IKZF2(+)', 'IRF1(+)', 'IRF4(+)', 'IRF8(+)', 'JUN(+)', 'KLF12(+)', 'KLF4(+)', 'MAF(+)', 'MAFF(+)', 'NFE2(+)', 'NFKB1(+)', 'NFKB2(+)', 'NR1H3(+)', 'PRDM1(+)', 'REL(+)', 'SOX4(+)', 'TCF7L2(+)'\n",
       "    var: 'name', 'mt', 'n_cells_by_counts', 'mean_counts', 'log1p_mean_counts', 'pct_dropout_by_counts', 'total_counts', 'log1p_total_counts', 'highly_variable', 'means', 'dispersions', 'dispersions_norm', 'mean', 'std'\n",
       "    uns: 'NR_annotations_colors', 'NR_annotations_simple_colors', 'cancer_type_broad_colors', 'clean-leiden_0.8', 'clean-leiden_0.8_colors', 'clean-subcluster', 'clean-subcluster-v2', 'clean-subcluster-v2_colors', 'clean-subcluster_colors', 'dendrogram_NR_annotations_simple', 'hvg', 'log1p', 'neighbors', 'pca', 'rank_genes_groups', 'sample_type_major2_colors', 'site_colors', 'umap'\n",
       "    obsm: 'X_pca', 'X_pca_harmony', 'X_umap'\n",
       "    varm: 'PCs'\n",
       "    obsp: 'connectivities', 'distances'"
      ]
     },
     "execution_count": 4,
     "metadata": {},
     "output_type": "execute_result"
    }
   ],
   "source": [
    "data"
   ]
  },
  {
   "cell_type": "code",
   "execution_count": 5,
   "id": "e2a0ac4f",
   "metadata": {},
   "outputs": [],
   "source": [
    "# Extract relevant columns\n",
    "export_data = data.obs[['integration_id', 'dataset_id', 'sample_type_major', 'site', 'cancer_broadest', 'cancer_subtype', 'cancer_type_broad','patient_id', 'sample_id']]\n",
    "\n",
    "# Drop duplicates to ensure one row per sample (integration_id)\n",
    "export_data_unique = export_data.drop_duplicates(subset=['integration_id'])\n",
    "\n",
    "# Save to CSV\n",
    "export_data_unique.to_csv('20250410_exported_sample_metadata.csv', index=False)"
   ]
  },
  {
   "cell_type": "markdown",
   "id": "d5215b76",
   "metadata": {},
   "source": [
    "### Treatment data now stored in excel file: Group_Data/MR_Groups/RG05. Cancer Immunotherapies/01 Team Research Data/Nikita/3_PhD Project/17_Bioinformatics/sc-RNAseq_Integration/20250410_import_sample_metadata.xlsx\n",
    "\n",
    "* adding to object metadata below:"
   ]
  },
  {
   "cell_type": "code",
   "execution_count": 5,
   "id": "17387208",
   "metadata": {},
   "outputs": [],
   "source": [
    "#make new column\n",
    "data.obs[\"patient_treatment\"] = \"blank\""
   ]
  },
  {
   "cell_type": "code",
   "execution_count": 6,
   "id": "017b369b",
   "metadata": {},
   "outputs": [
    {
     "name": "stdout",
     "output_type": "stream",
     "text": [
      "patient_treatment\n",
      "blank    498023\n",
      "Name: count, dtype: int64\n"
     ]
    }
   ],
   "source": [
    "# check \n",
    "type_counts = data.obs['patient_treatment'].value_counts()\n",
    "print(type_counts)"
   ]
  },
  {
   "cell_type": "code",
   "execution_count": 7,
   "id": "88ccf105",
   "metadata": {},
   "outputs": [],
   "source": [
    "data.obs.loc[data.obs[\"dataset_id\"] == \"GSE112271\", \"patient_treatment\"] = \"Treatment naive\"\n",
    "\n",
    "data.obs.loc[data.obs[\"dataset_id\"] == \"GSE131907\", \"patient_treatment\"] = \"Treatment naive\"\n",
    "data.obs.loc[(data.obs[\"dataset_id\"] == \"GSE131907\") & (data.obs[\"sample_type_major2\"] == \"healthy\"), \"patient_treatment\"] = \"NA healthy\"\n",
    "\n",
    "data.obs.loc[data.obs[\"dataset_id\"] == \"GSE139324\", \"patient_treatment\"] = \"Treatment naive\"\n",
    "\n",
    "data.obs.loc[data.obs[\"dataset_id\"] == \"GSE154778\", \"patient_treatment\"] = \"Unclear\"\n",
    "\n",
    "data.obs.loc[data.obs[\"dataset_id\"] == \"GSE154826\", \"patient_treatment\"] = \"Treatment naive\"\n",
    "data.obs.loc[(data.obs[\"dataset_id\"] == \"GSE154826\") & (data.obs[\"sample_type_major2\"] == \"healthy\"), \"patient_treatment\"] = \"NA healthy\"\n",
    "\n",
    "data.obs.loc[(data.obs[\"dataset_id\"] == \"GSE156405\") & (data.obs[\"sample_type_major2\"] == \"primary tumour\"), \"patient_treatment\"] = \"Treatment naive\"\n",
    "data.obs.loc[(data.obs[\"dataset_id\"] == \"GSE156405\") & (data.obs[\"site\"] == \"liver\"), \"patient_treatment\"] = \"chemotherapy\"\n",
    "data.obs.loc[(data.obs[\"dataset_id\"] == \"GSE156405\") & (data.obs[\"site\"] == \"lung\"), \"patient_treatment\"] = \"cytotoxic drug/immunotherapy\"\n",
    "data.obs.loc[(data.obs[\"dataset_id\"] == \"GSE156405\") & (data.obs[\"site\"] == \"vagina\"), \"patient_treatment\"] = \"chemotherapy\"\n",
    "\n",
    "data.obs.loc[data.obs[\"dataset_id\"] == \"GSE161529\", \"patient_treatment\"] = \"Treatment naive\"\n",
    "data.obs.loc[(data.obs[\"dataset_id\"] == \"GSE161529\") & (data.obs[\"sample_type_major2\"] == \"healthy\"), \"patient_treatment\"] = \"NA healthy\"\n",
    "\n",
    "data.obs.loc[data.obs[\"dataset_id\"] == \"GSE162025\", \"patient_treatment\"] = \"Treatment naive\"\n",
    "\n",
    "data.obs.loc[data.obs[\"dataset_id\"] == \"GSE162498\", \"patient_treatment\"] = \"Treatment naive\"\n",
    "data.obs.loc[(data.obs[\"dataset_id\"] == \"GSE162498\") & (data.obs[\"sample_type_major2\"] == \"healthy\"), \"patient_treatment\"] = \"NA healthy\"\n",
    "\n",
    "data.obs.loc[data.obs[\"dataset_id\"] == \"GSE164690\", \"patient_treatment\"] = \"Treatment naive\"\n",
    "\n",
    "data.obs.loc[data.obs[\"dataset_id\"] == \"GSE167297\", \"patient_treatment\"] = \"Unclear\"\n",
    "\n",
    "data.obs.loc[data.obs[\"dataset_id\"] == \"GSE173468\", \"patient_treatment\"] = \"Unclear\"\n",
    "\n",
    "data.obs.loc[data.obs[\"dataset_id\"] == \"GSE176078\", \"patient_treatment\"] = \"Treatment naive\"\n",
    "data.obs.loc[(data.obs[\"dataset_id\"] == \"GSE176078\") & (data.obs[\"patient_id\"] == \"CID3963\"), \"patient_treatment\"] = \"chemotherapy\"\n",
    "data.obs.loc[(data.obs[\"dataset_id\"] == \"GSE176078\") & (data.obs[\"patient_id\"] == \"CID4066\"), \"patient_treatment\"] = \"chemotherapy\"\n",
    "data.obs.loc[(data.obs[\"dataset_id\"] == \"GSE176078\") & (data.obs[\"patient_id\"] == \"CID4398\"), \"patient_treatment\"] = \"chemotherapy\"\n",
    "data.obs.loc[(data.obs[\"dataset_id\"] == \"GSE176078\") & (data.obs[\"patient_id\"] == \"CID4513\"), \"patient_treatment\"] = \"chemotherapy\"\n",
    "data.obs.loc[(data.obs[\"dataset_id\"] == \"GSE176078\") & (data.obs[\"patient_id\"] == \"CID4523\"), \"patient_treatment\"] = \"chemotherapy\"\n",
    "\n",
    "data.obs.loc[data.obs[\"dataset_id\"] == \"GSE180661\", \"patient_treatment\"] = \"Treatment naive\"\n",
    "\n",
    "data.obs.loc[data.obs[\"dataset_id\"] == \"GSE183916\", \"patient_treatment\"] = \"Unclear\"\n",
    "\n",
    "data.obs.loc[data.obs[\"dataset_id\"] == \"GSE184880\", \"patient_treatment\"] = \"Treatment naive\"\n",
    "data.obs.loc[(data.obs[\"dataset_id\"] == \"GSE184880\") & (data.obs[\"sample_type_major2\"] == \"healthy\"), \"patient_treatment\"] = \"NA healthy\"\n",
    "\n",
    "data.obs.loc[data.obs[\"dataset_id\"] == \"GSE188737\", \"patient_treatment\"] = \"Treatment naive\"\n",
    "\n",
    "data.obs.loc[data.obs[\"dataset_id\"] == \"GSE189903\", \"patient_treatment\"] = \"Unclear\"\n",
    "\n",
    "data.obs.loc[data.obs[\"dataset_id\"] == \"GSE195861\", \"patient_treatment\"] = \"Treatment naive\"\n",
    "data.obs.loc[(data.obs[\"dataset_id\"] == \"GSE195861\") & (data.obs[\"sample_type_major2\"] == \"healthy\"), \"patient_treatment\"] = \"NA healthy\"\n",
    "\n",
    "data.obs.loc[data.obs[\"dataset_id\"] == \"GSE197177\", \"patient_treatment\"] = \"Treatment naive\"\n",
    "\n",
    "data.obs.loc[data.obs[\"dataset_id\"] == \"GSE199515\", \"patient_treatment\"] = \"Unclear\"\n",
    "\n",
    "data.obs.loc[data.obs[\"dataset_id\"] == \"GSE200218\", \"patient_treatment\"] = \"Treatment naive\"\n",
    "\n",
    "data.obs.loc[data.obs[\"dataset_id\"] == \"GSE213243\", \"patient_treatment\"] = \"chemotherapy\"\n",
    "\n",
    "data.obs.loc[data.obs[\"dataset_id\"] == \"GSE214295\", \"patient_treatment\"] = \"Treatment naive\"\n",
    "\n",
    "data.obs.loc[data.obs[\"dataset_id\"] == \"GSE215120\", \"patient_treatment\"] = \"Treatment naive\"\n",
    "\n",
    "data.obs.loc[data.obs[\"dataset_id\"] == \"GSE217517\", \"patient_treatment\"] = \"Treatment naive\"\n",
    "\n",
    "data.obs.loc[data.obs[\"dataset_id\"] == \"GSE223063\", \"patient_treatment\"] = \"Unclear\"\n",
    "\n",
    "data.obs.loc[data.obs[\"dataset_id\"] == \"GSE224090\", \"patient_treatment\"] = \"Unclear\"\n",
    "\n",
    "data.obs.loc[data.obs[\"dataset_id\"] == \"GSE225600\", \"patient_treatment\"] = \"Treatment naive\"\n",
    "\n",
    "data.obs.loc[data.obs[\"dataset_id\"] == \"GSE231535\", \"patient_treatment\"] = \"Unclear\"\n",
    "\n",
    "data.obs.loc[data.obs[\"dataset_id\"] == \"GSE234129\", \"patient_treatment\"] = \"Treatment naive\"\n",
    "\n",
    "data.obs.loc[data.obs[\"dataset_id\"] == \"GSE234933\", \"patient_treatment\"] = \"Unclear\"\n",
    "\n",
    "data.obs.loc[data.obs[\"dataset_id\"] == \"GSE235676\", \"patient_treatment\"] = \"Treatment naive\"\n",
    "data.obs.loc[(data.obs[\"dataset_id\"] == \"GSE235676\") & (data.obs[\"patient_id\"] == \"Pt02\"), \"patient_treatment\"] = \"immunotherapy/targeted therapy\"\n",
    "data.obs.loc[(data.obs[\"dataset_id\"] == \"GSE235676\") & (data.obs[\"patient_id\"] == \"Pt11\"), \"patient_treatment\"] = \"immunotherapy/targeted therapy\"\n",
    "data.obs.loc[(data.obs[\"dataset_id\"] == \"GSE235676\") & (data.obs[\"patient_id\"] == \"Pt15\"), \"patient_treatment\"] = \"immunotherapy/targeted therapy\"\n",
    "data.obs.loc[(data.obs[\"dataset_id\"] == \"GSE235676\") & (data.obs[\"patient_id\"] == \"Pt16\"), \"patient_treatment\"] = \"immunotherapy/targeted therapy\"\n",
    "data.obs.loc[(data.obs[\"dataset_id\"] == \"GSE235676\") & (data.obs[\"patient_id\"] == \"Pt17\"), \"patient_treatment\"] = \"immunotherapy/targeted therapy\"\n",
    "data.obs.loc[(data.obs[\"dataset_id\"] == \"GSE235676\") & (data.obs[\"patient_id\"] == \"Pt18\"), \"patient_treatment\"] = \"immunotherapy/targeted therapy\"\n",
    "\n",
    "data.obs.loc[data.obs[\"dataset_id\"] == \"PMID32561858\", \"patient_treatment\"] = \"Treatment naive\"\n",
    "data.obs.loc[(data.obs[\"dataset_id\"] == \"PMID32561858\") & (data.obs[\"sample_type_major2\"] == \"healthy\"), \"patient_treatment\"] = \"NA healthy\"\n",
    "\n",
    "data.obs.loc[data.obs[\"dataset_id\"] == \"PRJCA005422\", \"patient_treatment\"] = \"Treatment naive\"\n",
    "\n",
    "data.obs.loc[data.obs[\"dataset_id\"] == \"PRJNA907381\", \"patient_treatment\"] = \"Treatment naive\"\n",
    "data.obs.loc[(data.obs[\"dataset_id\"] == \"PRJNA907381\") & (data.obs[\"patient_id\"] == \"MEL022\"), \"patient_treatment\"] = \"immunotherapy\"\n",
    "data.obs.loc[(data.obs[\"dataset_id\"] == \"PRJNA907381\") & (data.obs[\"patient_id\"] == \"MEL009\"), \"patient_treatment\"] = \"immunotherapy\"\n"
   ]
  },
  {
   "cell_type": "code",
   "execution_count": 8,
   "id": "79bd4620",
   "metadata": {},
   "outputs": [
    {
     "name": "stdout",
     "output_type": "stream",
     "text": [
      "patient_treatment\n",
      "Treatment naive                   357394\n",
      "Unclear                            69071\n",
      "NA healthy                         58938\n",
      "chemotherapy                        7382\n",
      "immunotherapy/targeted therapy      4233\n",
      "immunotherapy                        516\n",
      "cytotoxic drug/immunotherapy         489\n",
      "Name: count, dtype: int64\n"
     ]
    }
   ],
   "source": [
    "# check \n",
    "type_counts = data.obs['patient_treatment'].value_counts()\n",
    "print(type_counts)"
   ]
  },
  {
   "cell_type": "markdown",
   "id": "6ef1dd91",
   "metadata": {},
   "source": [
    "### Repeat for DC only object: "
   ]
  },
  {
   "cell_type": "code",
   "execution_count": 9,
   "id": "72d5adf4",
   "metadata": {},
   "outputs": [
    {
     "data": {
      "text/plain": [
       "AnnData object with n_obs × n_vars = 30241 × 1268\n",
       "    obs: 'nCount_RNA', 'nFeature_RNA', 'sample_type', 'cancer_type', 'patient_id', 'sample_id', 'percent.mt', 'site', 'sample_type_major', 'cancer_subtype', 'integration_id', 'ident', 'dataset_id', 'n_genes_by_counts', 'log1p_n_genes_by_counts', 'total_counts', 'log1p_total_counts', 'pct_counts_in_top_50_genes', 'pct_counts_in_top_100_genes', 'pct_counts_in_top_200_genes', 'pct_counts_in_top_500_genes', 'total_counts_mt', 'log1p_total_counts_mt', 'pct_counts_mt', 'S_score', 'G2M_score', 'keep_or_remove', 'leiden', 'celltype', 'leiden_DC', 'leiden_DC_v2', 'exclude_annots', 'leiden_M', 'Technology', 'cancer_type_broad', 'clean-leiden_0.8', 'clean-subcluster', 'clean-subcluster-v2', 'YS_sig', 'HSC_sig', 'CD5nDC2_up_vDC3', 'DC3_up_vCD5nDC2', 'CD5pDC2_up_vDC3', 'DC3_up_vCD5pDC2', 'DC3_up_vMono', 'Mono_up_vDC3', 'DC1_sig', 'DC2_sig', 'DC3_sig', 'DC_Axl_sig', 'DC2_up_DC3', 'DC3_up_DC2', 'mregDC_sig', 'cDC1_mregDC', 'cDC2_mregDC', 'NR_annotations', 'NR_annotations_simple', 'sample_type_major2', 'cancer_with_H', 'cancer_broadest', 'CytoTRACE_DC_Predicted_order'\n",
       "    var: 'name', 'mt', 'n_cells_by_counts', 'mean_counts', 'log1p_mean_counts', 'pct_dropout_by_counts', 'total_counts', 'log1p_total_counts', 'highly_variable', 'means', 'dispersions', 'dispersions_norm', 'mean', 'std'\n",
       "    uns: 'NR_annotations_colors', 'NR_annotations_simple_colors', 'cancer_broadest_colors', 'cancer_type_broad_colors', 'clean-leiden_0.8', 'clean-leiden_0.8_colors', 'clean-subcluster', 'clean-subcluster-v2', 'clean-subcluster-v2_colors', 'clean-subcluster_colors', 'dataset_id_colors', 'dendrogram_NR_annotations_simple', 'hvg', 'log1p', 'neighbors', 'pca', 'rank_genes_groups', 'sample_type_major2_colors', 'site_colors', 'umap'\n",
       "    obsm: 'X_pca', 'X_pca_harmony', 'X_umap'\n",
       "    varm: 'PCs'\n",
       "    obsp: 'connectivities', 'distances'"
      ]
     },
     "execution_count": 9,
     "metadata": {},
     "output_type": "execute_result"
    }
   ],
   "source": [
    "data_DC"
   ]
  },
  {
   "cell_type": "markdown",
   "id": "ac5fb1cc",
   "metadata": {},
   "source": [
    "### Treatment data now stored in excel file: Group_Data/MR_Groups/RG05. Cancer Immunotherapies/01 Team Research Data/Nikita/3_PhD Project/17_Bioinformatics/sc-RNAseq_Integration/20250410_import_sample_metadata.xlsx\n",
    "\n",
    "* adding to object metadata below:"
   ]
  },
  {
   "cell_type": "code",
   "execution_count": 10,
   "id": "6e87a98c",
   "metadata": {},
   "outputs": [],
   "source": [
    "#make new column\n",
    "data_DC.obs[\"patient_treatment\"] = \"blank\""
   ]
  },
  {
   "cell_type": "code",
   "execution_count": 11,
   "id": "1c32596a",
   "metadata": {},
   "outputs": [
    {
     "name": "stdout",
     "output_type": "stream",
     "text": [
      "patient_treatment\n",
      "blank    30241\n",
      "Name: count, dtype: int64\n"
     ]
    }
   ],
   "source": [
    "# check \n",
    "type_counts = data_DC.obs['patient_treatment'].value_counts()\n",
    "print(type_counts)"
   ]
  },
  {
   "cell_type": "code",
   "execution_count": 12,
   "id": "177df96b",
   "metadata": {},
   "outputs": [],
   "source": [
    "data_DC.obs.loc[data_DC.obs[\"dataset_id\"] == \"GSE112271\", \"patient_treatment\"] = \"Treatment naive\"\n",
    "\n",
    "data_DC.obs.loc[data_DC.obs[\"dataset_id\"] == \"GSE131907\", \"patient_treatment\"] = \"Treatment naive\"\n",
    "data_DC.obs.loc[(data_DC.obs[\"dataset_id\"] == \"GSE131907\") & (data_DC.obs[\"sample_type_major2\"] == \"healthy\"), \"patient_treatment\"] = \"NA healthy\"\n",
    "\n",
    "data_DC.obs.loc[data_DC.obs[\"dataset_id\"] == \"GSE139324\", \"patient_treatment\"] = \"Treatment naive\"\n",
    "\n",
    "data_DC.obs.loc[data_DC.obs[\"dataset_id\"] == \"GSE154778\", \"patient_treatment\"] = \"Unclear\"\n",
    "\n",
    "data_DC.obs.loc[data_DC.obs[\"dataset_id\"] == \"GSE154826\", \"patient_treatment\"] = \"Treatment naive\"\n",
    "data_DC.obs.loc[(data_DC.obs[\"dataset_id\"] == \"GSE154826\") & (data_DC.obs[\"sample_type_major2\"] == \"healthy\"), \"patient_treatment\"] = \"NA healthy\"\n",
    "\n",
    "data_DC.obs.loc[(data_DC.obs[\"dataset_id\"] == \"GSE156405\") & (data_DC.obs[\"sample_type_major2\"] == \"primary tumour\"), \"patient_treatment\"] = \"Treatment naive\"\n",
    "data_DC.obs.loc[(data_DC.obs[\"dataset_id\"] == \"GSE156405\") & (data_DC.obs[\"site\"] == \"liver\"), \"patient_treatment\"] = \"chemotherapy\"\n",
    "data_DC.obs.loc[(data_DC.obs[\"dataset_id\"] == \"GSE156405\") & (data_DC.obs[\"site\"] == \"lung\"), \"patient_treatment\"] = \"cytotoxic drug/immunotherapy\"\n",
    "data_DC.obs.loc[(data_DC.obs[\"dataset_id\"] == \"GSE156405\") & (data_DC.obs[\"site\"] == \"vagina\"), \"patient_treatment\"] = \"chemotherapy\"\n",
    "\n",
    "data_DC.obs.loc[data_DC.obs[\"dataset_id\"] == \"GSE161529\", \"patient_treatment\"] = \"Treatment naive\"\n",
    "data_DC.obs.loc[(data_DC.obs[\"dataset_id\"] == \"GSE161529\") & (data_DC.obs[\"sample_type_major2\"] == \"healthy\"), \"patient_treatment\"] = \"NA healthy\"\n",
    "\n",
    "data_DC.obs.loc[data_DC.obs[\"dataset_id\"] == \"GSE162025\", \"patient_treatment\"] = \"Treatment naive\"\n",
    "\n",
    "data_DC.obs.loc[data_DC.obs[\"dataset_id\"] == \"GSE162498\", \"patient_treatment\"] = \"Treatment naive\"\n",
    "data_DC.obs.loc[(data_DC.obs[\"dataset_id\"] == \"GSE162498\") & (data_DC.obs[\"sample_type_major2\"] == \"healthy\"), \"patient_treatment\"] = \"NA healthy\"\n",
    "\n",
    "data_DC.obs.loc[data_DC.obs[\"dataset_id\"] == \"GSE164690\", \"patient_treatment\"] = \"Treatment naive\"\n",
    "\n",
    "data_DC.obs.loc[data_DC.obs[\"dataset_id\"] == \"GSE167297\", \"patient_treatment\"] = \"Unclear\"\n",
    "\n",
    "data_DC.obs.loc[data_DC.obs[\"dataset_id\"] == \"GSE173468\", \"patient_treatment\"] = \"Unclear\"\n",
    "\n",
    "data_DC.obs.loc[data_DC.obs[\"dataset_id\"] == \"GSE176078\", \"patient_treatment\"] = \"Treatment naive\"\n",
    "data_DC.obs.loc[(data_DC.obs[\"dataset_id\"] == \"GSE176078\") & (data_DC.obs[\"patient_id\"] == \"CID3963\"), \"patient_treatment\"] = \"chemotherapy\"\n",
    "data_DC.obs.loc[(data_DC.obs[\"dataset_id\"] == \"GSE176078\") & (data_DC.obs[\"patient_id\"] == \"CID4066\"), \"patient_treatment\"] = \"chemotherapy\"\n",
    "data_DC.obs.loc[(data_DC.obs[\"dataset_id\"] == \"GSE176078\") & (data_DC.obs[\"patient_id\"] == \"CID4398\"), \"patient_treatment\"] = \"chemotherapy\"\n",
    "data_DC.obs.loc[(data_DC.obs[\"dataset_id\"] == \"GSE176078\") & (data_DC.obs[\"patient_id\"] == \"CID4513\"), \"patient_treatment\"] = \"chemotherapy\"\n",
    "data_DC.obs.loc[(data_DC.obs[\"dataset_id\"] == \"GSE176078\") & (data_DC.obs[\"patient_id\"] == \"CID4523\"), \"patient_treatment\"] = \"chemotherapy\"\n",
    "\n",
    "data_DC.obs.loc[data_DC.obs[\"dataset_id\"] == \"GSE180661\", \"patient_treatment\"] = \"Treatment naive\"\n",
    "\n",
    "data_DC.obs.loc[data_DC.obs[\"dataset_id\"] == \"GSE183916\", \"patient_treatment\"] = \"Unclear\"\n",
    "\n",
    "data_DC.obs.loc[data_DC.obs[\"dataset_id\"] == \"GSE184880\", \"patient_treatment\"] = \"Treatment naive\"\n",
    "data_DC.obs.loc[(data_DC.obs[\"dataset_id\"] == \"GSE184880\") & (data_DC.obs[\"sample_type_major2\"] == \"healthy\"), \"patient_treatment\"] = \"NA healthy\"\n",
    "\n",
    "data_DC.obs.loc[data_DC.obs[\"dataset_id\"] == \"GSE188737\", \"patient_treatment\"] = \"Treatment naive\"\n",
    "\n",
    "data_DC.obs.loc[data_DC.obs[\"dataset_id\"] == \"GSE189903\", \"patient_treatment\"] = \"Unclear\"\n",
    "\n",
    "data_DC.obs.loc[data_DC.obs[\"dataset_id\"] == \"GSE195861\", \"patient_treatment\"] = \"Treatment naive\"\n",
    "data_DC.obs.loc[(data_DC.obs[\"dataset_id\"] == \"GSE195861\") & (data_DC.obs[\"sample_type_major2\"] == \"healthy\"), \"patient_treatment\"] = \"NA healthy\"\n",
    "\n",
    "data_DC.obs.loc[data_DC.obs[\"dataset_id\"] == \"GSE197177\", \"patient_treatment\"] = \"Treatment naive\"\n",
    "\n",
    "data_DC.obs.loc[data_DC.obs[\"dataset_id\"] == \"GSE199515\", \"patient_treatment\"] = \"Unclear\"\n",
    "\n",
    "data_DC.obs.loc[data_DC.obs[\"dataset_id\"] == \"GSE200218\", \"patient_treatment\"] = \"Treatment naive\"\n",
    "\n",
    "data_DC.obs.loc[data_DC.obs[\"dataset_id\"] == \"GSE213243\", \"patient_treatment\"] = \"chemotherapy\"\n",
    "\n",
    "data_DC.obs.loc[data_DC.obs[\"dataset_id\"] == \"GSE214295\", \"patient_treatment\"] = \"Treatment naive\"\n",
    "\n",
    "data_DC.obs.loc[data_DC.obs[\"dataset_id\"] == \"GSE215120\", \"patient_treatment\"] = \"Treatment naive\"\n",
    "\n",
    "data_DC.obs.loc[data_DC.obs[\"dataset_id\"] == \"GSE217517\", \"patient_treatment\"] = \"Treatment naive\"\n",
    "\n",
    "data_DC.obs.loc[data_DC.obs[\"dataset_id\"] == \"GSE223063\", \"patient_treatment\"] = \"Unclear\"\n",
    "\n",
    "data_DC.obs.loc[data_DC.obs[\"dataset_id\"] == \"GSE224090\", \"patient_treatment\"] = \"Unclear\"\n",
    "\n",
    "data_DC.obs.loc[data_DC.obs[\"dataset_id\"] == \"GSE225600\", \"patient_treatment\"] = \"Treatment naive\"\n",
    "\n",
    "data_DC.obs.loc[data_DC.obs[\"dataset_id\"] == \"GSE231535\", \"patient_treatment\"] = \"Unclear\"\n",
    "\n",
    "data_DC.obs.loc[data_DC.obs[\"dataset_id\"] == \"GSE234129\", \"patient_treatment\"] = \"Treatment naive\"\n",
    "\n",
    "data_DC.obs.loc[data_DC.obs[\"dataset_id\"] == \"GSE234933\", \"patient_treatment\"] = \"Unclear\"\n",
    "\n",
    "data_DC.obs.loc[data_DC.obs[\"dataset_id\"] == \"GSE235676\", \"patient_treatment\"] = \"Treatment naive\"\n",
    "data_DC.obs.loc[(data_DC.obs[\"dataset_id\"] == \"GSE235676\") & (data_DC.obs[\"patient_id\"] == \"Pt02\"), \"patient_treatment\"] = \"immunotherapy/targeted therapy\"\n",
    "data_DC.obs.loc[(data_DC.obs[\"dataset_id\"] == \"GSE235676\") & (data_DC.obs[\"patient_id\"] == \"Pt11\"), \"patient_treatment\"] = \"immunotherapy/targeted therapy\"\n",
    "data_DC.obs.loc[(data_DC.obs[\"dataset_id\"] == \"GSE235676\") & (data_DC.obs[\"patient_id\"] == \"Pt15\"), \"patient_treatment\"] = \"immunotherapy/targeted therapy\"\n",
    "data_DC.obs.loc[(data_DC.obs[\"dataset_id\"] == \"GSE235676\") & (data_DC.obs[\"patient_id\"] == \"Pt16\"), \"patient_treatment\"] = \"immunotherapy/targeted therapy\"\n",
    "data_DC.obs.loc[(data_DC.obs[\"dataset_id\"] == \"GSE235676\") & (data_DC.obs[\"patient_id\"] == \"Pt17\"), \"patient_treatment\"] = \"immunotherapy/targeted therapy\"\n",
    "data_DC.obs.loc[(data_DC.obs[\"dataset_id\"] == \"GSE235676\") & (data_DC.obs[\"patient_id\"] == \"Pt18\"), \"patient_treatment\"] = \"immunotherapy/targeted therapy\"\n",
    "\n",
    "data_DC.obs.loc[data_DC.obs[\"dataset_id\"] == \"PMID32561858\", \"patient_treatment\"] = \"Treatment naive\"\n",
    "data_DC.obs.loc[(data_DC.obs[\"dataset_id\"] == \"PMID32561858\") & (data_DC.obs[\"sample_type_major2\"] == \"healthy\"), \"patient_treatment\"] = \"NA healthy\"\n",
    "\n",
    "data_DC.obs.loc[data_DC.obs[\"dataset_id\"] == \"PRJCA005422\", \"patient_treatment\"] = \"Treatment naive\"\n",
    "\n",
    "data_DC.obs.loc[data_DC.obs[\"dataset_id\"] == \"PRJNA907381\", \"patient_treatment\"] = \"Treatment naive\"\n",
    "data_DC.obs.loc[(data_DC.obs[\"dataset_id\"] == \"PRJNA907381\") & (data_DC.obs[\"patient_id\"] == \"MEL022\"), \"patient_treatment\"] = \"immunotherapy\"\n",
    "data_DC.obs.loc[(data_DC.obs[\"dataset_id\"] == \"PRJNA907381\") & (data_DC.obs[\"patient_id\"] == \"MEL009\"), \"patient_treatment\"] = \"immunotherapy\"\n"
   ]
  },
  {
   "cell_type": "code",
   "execution_count": 13,
   "id": "bc1b2edc",
   "metadata": {},
   "outputs": [
    {
     "name": "stdout",
     "output_type": "stream",
     "text": [
      "patient_treatment\n",
      "Treatment naive                   20670\n",
      "Unclear                            6028\n",
      "NA healthy                         2536\n",
      "chemotherapy                        685\n",
      "immunotherapy/targeted therapy      163\n",
      "immunotherapy                       145\n",
      "cytotoxic drug/immunotherapy         14\n",
      "Name: count, dtype: int64\n"
     ]
    }
   ],
   "source": [
    "# check \n",
    "type_counts = data_DC.obs['patient_treatment'].value_counts()\n",
    "print(type_counts)"
   ]
  },
  {
   "cell_type": "markdown",
   "id": "0330e547",
   "metadata": {},
   "source": [
    "## Re-export object:"
   ]
  },
  {
   "cell_type": "code",
   "execution_count": 15,
   "id": "e7b28d05",
   "metadata": {},
   "outputs": [],
   "source": [
    "#save object\n",
    "data.write_h5ad(\"NRclean_clustered2.h5ad\", compression=\"gzip\")"
   ]
  },
  {
   "cell_type": "code",
   "execution_count": 14,
   "id": "bfc02c97",
   "metadata": {},
   "outputs": [],
   "source": [
    "#save object\n",
    "data_DC.write_h5ad(\"NRclean_clustered2_DC.h5ad\", compression=\"gzip\")"
   ]
  }
 ],
 "metadata": {
  "kernelspec": {
   "display_name": "Python 3 (ipykernel)",
   "language": "python",
   "name": "python3"
  },
  "language_info": {
   "codemirror_mode": {
    "name": "ipython",
    "version": 3
   },
   "file_extension": ".py",
   "mimetype": "text/x-python",
   "name": "python",
   "nbconvert_exporter": "python",
   "pygments_lexer": "ipython3",
   "version": "3.12.3"
  }
 },
 "nbformat": 4,
 "nbformat_minor": 5
}
