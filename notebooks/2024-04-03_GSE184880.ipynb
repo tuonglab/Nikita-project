{
 "cells": [
  {
   "cell_type": "markdown",
   "metadata": {},
   "source": [
    "##### Steps for reading in dataset (following download), initial QC, dim reduction/clustering and saving out the myeloid cluster for **GSE184880**\n",
    "\n",
    "file previously downloaded:\n",
    "GSE184880_RAW.tar\n",
    "\n",
    "unzipped using \n",
    "``` bash\n",
    "tar -xvf GSE184880_RAW.tar\n",
    "```\n",
    "\n",
    "This gives the following files: \n",
    "* GSM5599220_Norm1.barcodes.tsv.gz\n",
    "* GSM5599220_Norm1.genes.tsv.gz\n",
    "* GSM5599220_Norm1.matrix.mtx.gz\n",
    "* GSM5599221_Norm2.barcodes.tsv.gz\n",
    "* GSM5599221_Norm2.genes.tsv.gz\n",
    "* GSM5599221_Norm2.matrix.mtx.gz\n",
    "* GSM5599222_Norm3.barcodes.tsv.gz\n",
    "* GSM5599222_Norm3.genes.tsv.gz\n",
    "* GSM5599222_Norm3.matrix.mtx.gz\n",
    "* GSM5599223_Norm4.barcodes.tsv.gz\n",
    "* GSM5599223_Norm4.genes.tsv.gz\n",
    "* GSM5599223_Norm4.matrix.mtx.gz\n",
    "* GSM5599224_Norm5.barcodes.tsv.gz\n",
    "* GSM5599224_Norm5.genes.tsv.gz\n",
    "* GSM5599224_Norm5.matrix.mtx.gz\n",
    "* GSM5599225_Cancer1.barcodes.tsv.gz\n",
    "* GSM5599225_Cancer1.genes.tsv.gz\n",
    "* GSM5599225_Cancer1.matrix.mtx.gz\n",
    "* GSM5599226_Cancer2.barcodes.tsv.gz\n",
    "* GSM5599226_Cancer2.genes.tsv.gz\n",
    "* GSM5599226_Cancer2.matrix.mtx.gz\n",
    "* GSM5599227_Cancer3.barcodes.tsv.gz\n",
    "* GSM5599227_Cancer3.genes.tsv.gz\n",
    "* GSM5599227_Cancer3.matrix.mtx.gz\n",
    "* GSM5599228_Cancer4.barcodes.tsv.gz\n",
    "* GSM5599228_Cancer4.genes.tsv.gz\n",
    "* GSM5599228_Cancer4.matrix.mtx.gz\n",
    "* GSM5599229_Cancer5.barcodes.tsv.gz\n",
    "* GSM5599229_Cancer5.genes.tsv.gz\n",
    "* GSM5599229_Cancer5.matrix.mtx.gz\n",
    "* GSM5599230_Cancer6.barcodes.tsv.gz\n",
    "* GSM5599230_Cancer6.genes.tsv.gz\n",
    "* GSM5599230_Cancer6.matrix.mtx.gz\n",
    "* GSM5599231_Cancer7.barcodes.tsv.gz\n",
    "* GSM5599231_Cancer7.genes.tsv.gz\n",
    "* GSM5599231_Cancer7.matrix.mtx.gz\n",
    "\n",
    "Files were then organised into seperate folders for each patient and named with correct file names."
   ]
  },
  {
   "cell_type": "code",
   "execution_count": 1,
   "metadata": {
    "vscode": {
     "languageId": "r"
    }
   },
   "outputs": [
    {
     "data": {
      "text/html": [
       "'/scratch/user/s4436039/Nikita-project'"
      ],
      "text/latex": [
       "'/scratch/user/s4436039/Nikita-project'"
      ],
      "text/markdown": [
       "'/scratch/user/s4436039/Nikita-project'"
      ],
      "text/plain": [
       "[1] \"/scratch/user/s4436039/Nikita-project\""
      ]
     },
     "metadata": {},
     "output_type": "display_data"
    },
    {
     "data": {
      "text/html": [
       "'/scratch/user/s4436039/scdata/GSE184880'"
      ],
      "text/latex": [
       "'/scratch/user/s4436039/scdata/GSE184880'"
      ],
      "text/markdown": [
       "'/scratch/user/s4436039/scdata/GSE184880'"
      ],
      "text/plain": [
       "[1] \"/scratch/user/s4436039/scdata/GSE184880\""
      ]
     },
     "metadata": {},
     "output_type": "display_data"
    }
   ],
   "source": [
    "#set wd\n",
    "getwd()\n",
    "setwd('/scratch/user/s4436039/scdata/GSE184880')\n",
    "getwd()"
   ]
  },
  {
   "cell_type": "code",
   "execution_count": 2,
   "metadata": {
    "vscode": {
     "languageId": "r"
    }
   },
   "outputs": [
    {
     "name": "stderr",
     "output_type": "stream",
     "text": [
      "\n",
      "Attaching package: ‘dplyr’\n",
      "\n",
      "\n",
      "The following objects are masked from ‘package:stats’:\n",
      "\n",
      "    filter, lag\n",
      "\n",
      "\n",
      "The following objects are masked from ‘package:base’:\n",
      "\n",
      "    intersect, setdiff, setequal, union\n",
      "\n",
      "\n",
      "Warning message:\n",
      "“package ‘Seurat’ was built under R version 4.3.2”\n",
      "Loading required package: SeuratObject\n",
      "\n",
      "Loading required package: sp\n",
      "\n",
      "Warning message:\n",
      "“package ‘sp’ was built under R version 4.3.2”\n",
      "\n",
      "Attaching package: ‘SeuratObject’\n",
      "\n",
      "\n",
      "The following object is masked from ‘package:base’:\n",
      "\n",
      "    intersect\n",
      "\n",
      "\n",
      "Warning message:\n",
      "“package ‘patchwork’ was built under R version 4.3.2”\n"
     ]
    }
   ],
   "source": [
    "#Load packages\n",
    "library(dplyr)\n",
    "library(Seurat)\n",
    "library(patchwork)"
   ]
  },
  {
   "cell_type": "code",
   "execution_count": 5,
   "metadata": {
    "vscode": {
     "languageId": "r"
    }
   },
   "outputs": [],
   "source": [
    "#load all datasets\n",
    "OC_Cancer1.data <- Read10X(data.dir = \"/scratch/user/s4436039/scdata/GSE184880/Cancer1\")\n",
    "OC_Cancer2.data <- Read10X(data.dir = \"/scratch/user/s4436039/scdata/GSE184880/Cancer2\")\n",
    "OC_Cancer3.data <- Read10X(data.dir = \"/scratch/user/s4436039/scdata/GSE184880/Cancer3\")\n",
    "OC_Cancer4.data <- Read10X(data.dir = \"/scratch/user/s4436039/scdata/GSE184880/Cancer4\")\n",
    "OC_Cancer5.data <- Read10X(data.dir = \"/scratch/user/s4436039/scdata/GSE184880/Cancer5\")\n",
    "OC_Cancer6.data <- Read10X(data.dir = \"/scratch/user/s4436039/scdata/GSE184880/Cancer6\")\n",
    "OC_Cancer7.data <- Read10X(data.dir = \"/scratch/user/s4436039/scdata/GSE184880/Cancer7\")\n",
    "OC_Norm1.data <- Read10X(data.dir = \"/scratch/user/s4436039/scdata/GSE184880/Norm1\")\n",
    "OC_Norm2.data <- Read10X(data.dir = \"/scratch/user/s4436039/scdata/GSE184880/Norm2\")\n",
    "OC_Norm3.data <- Read10X(data.dir = \"/scratch/user/s4436039/scdata/GSE184880/Norm3\")\n",
    "OC_Norm4.data <- Read10X(data.dir = \"/scratch/user/s4436039/scdata/GSE184880/Norm4\")\n",
    "OC_Norm5.data <- Read10X(data.dir = \"/scratch/user/s4436039/scdata/GSE184880/Norm5\")"
   ]
  },
  {
   "cell_type": "code",
   "execution_count": 9,
   "metadata": {
    "vscode": {
     "languageId": "r"
    }
   },
   "outputs": [
    {
     "data": {
      "text/html": [
       "<style>\n",
       ".list-inline {list-style: none; margin:0; padding: 0}\n",
       ".list-inline>li {display: inline-block}\n",
       ".list-inline>li:not(:last-child)::after {content: \"\\00b7\"; padding: 0 .5ex}\n",
       "</style>\n",
       "<ol class=list-inline><li>'GSE184880_Cancer1_AAACCCAAGTATAGGT-1'</li><li>'GSE184880_Cancer1_AAACCCACAAGGTACG-1'</li><li>'GSE184880_Cancer1_AAACCCACACCATAAC-1'</li><li>'GSE184880_Cancer1_AAACCCACAGCTGCCA-1'</li><li>'GSE184880_Cancer1_AAACCCACATAACAGA-1'</li><li>'GSE184880_Cancer1_AAACCCACATGACGGA-1'</li></ol>\n"
      ],
      "text/latex": [
       "\\begin{enumerate*}\n",
       "\\item 'GSE184880\\_Cancer1\\_AAACCCAAGTATAGGT-1'\n",
       "\\item 'GSE184880\\_Cancer1\\_AAACCCACAAGGTACG-1'\n",
       "\\item 'GSE184880\\_Cancer1\\_AAACCCACACCATAAC-1'\n",
       "\\item 'GSE184880\\_Cancer1\\_AAACCCACAGCTGCCA-1'\n",
       "\\item 'GSE184880\\_Cancer1\\_AAACCCACATAACAGA-1'\n",
       "\\item 'GSE184880\\_Cancer1\\_AAACCCACATGACGGA-1'\n",
       "\\end{enumerate*}\n"
      ],
      "text/markdown": [
       "1. 'GSE184880_Cancer1_AAACCCAAGTATAGGT-1'\n",
       "2. 'GSE184880_Cancer1_AAACCCACAAGGTACG-1'\n",
       "3. 'GSE184880_Cancer1_AAACCCACACCATAAC-1'\n",
       "4. 'GSE184880_Cancer1_AAACCCACAGCTGCCA-1'\n",
       "5. 'GSE184880_Cancer1_AAACCCACATAACAGA-1'\n",
       "6. 'GSE184880_Cancer1_AAACCCACATGACGGA-1'\n",
       "\n",
       "\n"
      ],
      "text/plain": [
       "[1] \"GSE184880_Cancer1_AAACCCAAGTATAGGT-1\"\n",
       "[2] \"GSE184880_Cancer1_AAACCCACAAGGTACG-1\"\n",
       "[3] \"GSE184880_Cancer1_AAACCCACACCATAAC-1\"\n",
       "[4] \"GSE184880_Cancer1_AAACCCACAGCTGCCA-1\"\n",
       "[5] \"GSE184880_Cancer1_AAACCCACATAACAGA-1\"\n",
       "[6] \"GSE184880_Cancer1_AAACCCACATGACGGA-1\""
      ]
     },
     "metadata": {},
     "output_type": "display_data"
    }
   ],
   "source": [
    "head(colnames(OC_Cancer1.data))"
   ]
  },
  {
   "cell_type": "code",
   "execution_count": 11,
   "metadata": {
    "vscode": {
     "languageId": "r"
    }
   },
   "outputs": [],
   "source": [
    "#Add dataset info to colnames\n",
    "colnames(OC_Cancer1.data) <- paste0(\"GSE184880_Cancer1_\", colnames(OC_Cancer1.data))\n",
    "colnames(OC_Cancer2.data) <- paste0(\"GSE184880_Cancer2_\", colnames(OC_Cancer2.data))\n",
    "colnames(OC_Cancer3.data) <- paste0(\"GSE184880_Cancer3_\", colnames(OC_Cancer3.data))\n",
    "colnames(OC_Cancer4.data) <- paste0(\"GSE184880_Cancer4_\", colnames(OC_Cancer4.data))\n",
    "colnames(OC_Cancer5.data) <- paste0(\"GSE184880_Cancer5_\", colnames(OC_Cancer5.data))\n",
    "colnames(OC_Cancer6.data) <- paste0(\"GSE184880_Cancer6_\", colnames(OC_Cancer6.data))\n",
    "colnames(OC_Cancer7.data) <- paste0(\"GSE184880_Cancer7_\", colnames(OC_Cancer7.data))\n",
    "colnames(OC_Norm1.data) <- paste0(\"GSE184880_Norm1_\", colnames(OC_Norm1.data))\n",
    "colnames(OC_Norm2.data) <- paste0(\"GSE184880_Norm2_\", colnames(OC_Norm2.data))\n",
    "colnames(OC_Norm3.data) <- paste0(\"GSE184880_Norm3_\", colnames(OC_Norm3.data))\n",
    "colnames(OC_Norm4.data) <- paste0(\"GSE184880_Norm4_\", colnames(OC_Norm4.data))\n",
    "colnames(OC_Norm5.data) <- paste0(\"GSE184880_Norm5_\", colnames(OC_Norm5.data))"
   ]
  },
  {
   "cell_type": "code",
   "execution_count": 12,
   "metadata": {
    "vscode": {
     "languageId": "r"
    }
   },
   "outputs": [
    {
     "data": {
      "text/html": [
       "<style>\n",
       ".list-inline {list-style: none; margin:0; padding: 0}\n",
       ".list-inline>li {display: inline-block}\n",
       ".list-inline>li:not(:last-child)::after {content: \"\\00b7\"; padding: 0 .5ex}\n",
       "</style>\n",
       "<ol class=list-inline><li>'GSE184880_Cancer1_GSE184880_Cancer1_AAACCCAAGTATAGGT-1'</li><li>'GSE184880_Cancer1_GSE184880_Cancer1_AAACCCACAAGGTACG-1'</li><li>'GSE184880_Cancer1_GSE184880_Cancer1_AAACCCACACCATAAC-1'</li><li>'GSE184880_Cancer1_GSE184880_Cancer1_AAACCCACAGCTGCCA-1'</li><li>'GSE184880_Cancer1_GSE184880_Cancer1_AAACCCACATAACAGA-1'</li><li>'GSE184880_Cancer1_GSE184880_Cancer1_AAACCCACATGACGGA-1'</li></ol>\n"
      ],
      "text/latex": [
       "\\begin{enumerate*}\n",
       "\\item 'GSE184880\\_Cancer1\\_GSE184880\\_Cancer1\\_AAACCCAAGTATAGGT-1'\n",
       "\\item 'GSE184880\\_Cancer1\\_GSE184880\\_Cancer1\\_AAACCCACAAGGTACG-1'\n",
       "\\item 'GSE184880\\_Cancer1\\_GSE184880\\_Cancer1\\_AAACCCACACCATAAC-1'\n",
       "\\item 'GSE184880\\_Cancer1\\_GSE184880\\_Cancer1\\_AAACCCACAGCTGCCA-1'\n",
       "\\item 'GSE184880\\_Cancer1\\_GSE184880\\_Cancer1\\_AAACCCACATAACAGA-1'\n",
       "\\item 'GSE184880\\_Cancer1\\_GSE184880\\_Cancer1\\_AAACCCACATGACGGA-1'\n",
       "\\end{enumerate*}\n"
      ],
      "text/markdown": [
       "1. 'GSE184880_Cancer1_GSE184880_Cancer1_AAACCCAAGTATAGGT-1'\n",
       "2. 'GSE184880_Cancer1_GSE184880_Cancer1_AAACCCACAAGGTACG-1'\n",
       "3. 'GSE184880_Cancer1_GSE184880_Cancer1_AAACCCACACCATAAC-1'\n",
       "4. 'GSE184880_Cancer1_GSE184880_Cancer1_AAACCCACAGCTGCCA-1'\n",
       "5. 'GSE184880_Cancer1_GSE184880_Cancer1_AAACCCACATAACAGA-1'\n",
       "6. 'GSE184880_Cancer1_GSE184880_Cancer1_AAACCCACATGACGGA-1'\n",
       "\n",
       "\n"
      ],
      "text/plain": [
       "[1] \"GSE184880_Cancer1_GSE184880_Cancer1_AAACCCAAGTATAGGT-1\"\n",
       "[2] \"GSE184880_Cancer1_GSE184880_Cancer1_AAACCCACAAGGTACG-1\"\n",
       "[3] \"GSE184880_Cancer1_GSE184880_Cancer1_AAACCCACACCATAAC-1\"\n",
       "[4] \"GSE184880_Cancer1_GSE184880_Cancer1_AAACCCACAGCTGCCA-1\"\n",
       "[5] \"GSE184880_Cancer1_GSE184880_Cancer1_AAACCCACATAACAGA-1\"\n",
       "[6] \"GSE184880_Cancer1_GSE184880_Cancer1_AAACCCACATGACGGA-1\""
      ]
     },
     "metadata": {},
     "output_type": "display_data"
    },
    {
     "data": {
      "text/html": [
       "<style>\n",
       ".list-inline {list-style: none; margin:0; padding: 0}\n",
       ".list-inline>li {display: inline-block}\n",
       ".list-inline>li:not(:last-child)::after {content: \"\\00b7\"; padding: 0 .5ex}\n",
       "</style>\n",
       "<ol class=list-inline><li>'GSE184880_Cancer2_AAACCCACACTTGGCG-1'</li><li>'GSE184880_Cancer2_AAACCCACATAACGGG-1'</li><li>'GSE184880_Cancer2_AAACCCAGTTTCGTTT-1'</li><li>'GSE184880_Cancer2_AAACGAAAGCACGGAT-1'</li><li>'GSE184880_Cancer2_AAACGAAAGCGATCGA-1'</li><li>'GSE184880_Cancer2_AAACGAACAATAAGGT-1'</li></ol>\n"
      ],
      "text/latex": [
       "\\begin{enumerate*}\n",
       "\\item 'GSE184880\\_Cancer2\\_AAACCCACACTTGGCG-1'\n",
       "\\item 'GSE184880\\_Cancer2\\_AAACCCACATAACGGG-1'\n",
       "\\item 'GSE184880\\_Cancer2\\_AAACCCAGTTTCGTTT-1'\n",
       "\\item 'GSE184880\\_Cancer2\\_AAACGAAAGCACGGAT-1'\n",
       "\\item 'GSE184880\\_Cancer2\\_AAACGAAAGCGATCGA-1'\n",
       "\\item 'GSE184880\\_Cancer2\\_AAACGAACAATAAGGT-1'\n",
       "\\end{enumerate*}\n"
      ],
      "text/markdown": [
       "1. 'GSE184880_Cancer2_AAACCCACACTTGGCG-1'\n",
       "2. 'GSE184880_Cancer2_AAACCCACATAACGGG-1'\n",
       "3. 'GSE184880_Cancer2_AAACCCAGTTTCGTTT-1'\n",
       "4. 'GSE184880_Cancer2_AAACGAAAGCACGGAT-1'\n",
       "5. 'GSE184880_Cancer2_AAACGAAAGCGATCGA-1'\n",
       "6. 'GSE184880_Cancer2_AAACGAACAATAAGGT-1'\n",
       "\n",
       "\n"
      ],
      "text/plain": [
       "[1] \"GSE184880_Cancer2_AAACCCACACTTGGCG-1\"\n",
       "[2] \"GSE184880_Cancer2_AAACCCACATAACGGG-1\"\n",
       "[3] \"GSE184880_Cancer2_AAACCCAGTTTCGTTT-1\"\n",
       "[4] \"GSE184880_Cancer2_AAACGAAAGCACGGAT-1\"\n",
       "[5] \"GSE184880_Cancer2_AAACGAAAGCGATCGA-1\"\n",
       "[6] \"GSE184880_Cancer2_AAACGAACAATAAGGT-1\""
      ]
     },
     "metadata": {},
     "output_type": "display_data"
    },
    {
     "data": {
      "text/html": [
       "<style>\n",
       ".list-inline {list-style: none; margin:0; padding: 0}\n",
       ".list-inline>li {display: inline-block}\n",
       ".list-inline>li:not(:last-child)::after {content: \"\\00b7\"; padding: 0 .5ex}\n",
       "</style>\n",
       "<ol class=list-inline><li>'GSE184880_Cancer3_AAACCCAAGGGAGTTC-1'</li><li>'GSE184880_Cancer3_AAACCCAAGTAATTGG-1'</li><li>'GSE184880_Cancer3_AAACCCAAGTCGTTAC-1'</li><li>'GSE184880_Cancer3_AAACCCACAATAGGAT-1'</li><li>'GSE184880_Cancer3_AAACCCACATTGCTTT-1'</li><li>'GSE184880_Cancer3_AAACCCAGTCATCAGT-1'</li></ol>\n"
      ],
      "text/latex": [
       "\\begin{enumerate*}\n",
       "\\item 'GSE184880\\_Cancer3\\_AAACCCAAGGGAGTTC-1'\n",
       "\\item 'GSE184880\\_Cancer3\\_AAACCCAAGTAATTGG-1'\n",
       "\\item 'GSE184880\\_Cancer3\\_AAACCCAAGTCGTTAC-1'\n",
       "\\item 'GSE184880\\_Cancer3\\_AAACCCACAATAGGAT-1'\n",
       "\\item 'GSE184880\\_Cancer3\\_AAACCCACATTGCTTT-1'\n",
       "\\item 'GSE184880\\_Cancer3\\_AAACCCAGTCATCAGT-1'\n",
       "\\end{enumerate*}\n"
      ],
      "text/markdown": [
       "1. 'GSE184880_Cancer3_AAACCCAAGGGAGTTC-1'\n",
       "2. 'GSE184880_Cancer3_AAACCCAAGTAATTGG-1'\n",
       "3. 'GSE184880_Cancer3_AAACCCAAGTCGTTAC-1'\n",
       "4. 'GSE184880_Cancer3_AAACCCACAATAGGAT-1'\n",
       "5. 'GSE184880_Cancer3_AAACCCACATTGCTTT-1'\n",
       "6. 'GSE184880_Cancer3_AAACCCAGTCATCAGT-1'\n",
       "\n",
       "\n"
      ],
      "text/plain": [
       "[1] \"GSE184880_Cancer3_AAACCCAAGGGAGTTC-1\"\n",
       "[2] \"GSE184880_Cancer3_AAACCCAAGTAATTGG-1\"\n",
       "[3] \"GSE184880_Cancer3_AAACCCAAGTCGTTAC-1\"\n",
       "[4] \"GSE184880_Cancer3_AAACCCACAATAGGAT-1\"\n",
       "[5] \"GSE184880_Cancer3_AAACCCACATTGCTTT-1\"\n",
       "[6] \"GSE184880_Cancer3_AAACCCAGTCATCAGT-1\""
      ]
     },
     "metadata": {},
     "output_type": "display_data"
    },
    {
     "data": {
      "text/html": [
       "<style>\n",
       ".list-inline {list-style: none; margin:0; padding: 0}\n",
       ".list-inline>li {display: inline-block}\n",
       ".list-inline>li:not(:last-child)::after {content: \"\\00b7\"; padding: 0 .5ex}\n",
       "</style>\n",
       "<ol class=list-inline><li>'GSE184880_Cancer4_AAACCCAAGTCAATCC-1'</li><li>'GSE184880_Cancer4_AAACCCAGTCTTCAAG-1'</li><li>'GSE184880_Cancer4_AAACCCATCGAGTACT-1'</li><li>'GSE184880_Cancer4_AAACCCATCGTTGTAG-1'</li><li>'GSE184880_Cancer4_AAACCCATCTCAATCT-1'</li><li>'GSE184880_Cancer4_AAACGAAAGTGCACAG-1'</li></ol>\n"
      ],
      "text/latex": [
       "\\begin{enumerate*}\n",
       "\\item 'GSE184880\\_Cancer4\\_AAACCCAAGTCAATCC-1'\n",
       "\\item 'GSE184880\\_Cancer4\\_AAACCCAGTCTTCAAG-1'\n",
       "\\item 'GSE184880\\_Cancer4\\_AAACCCATCGAGTACT-1'\n",
       "\\item 'GSE184880\\_Cancer4\\_AAACCCATCGTTGTAG-1'\n",
       "\\item 'GSE184880\\_Cancer4\\_AAACCCATCTCAATCT-1'\n",
       "\\item 'GSE184880\\_Cancer4\\_AAACGAAAGTGCACAG-1'\n",
       "\\end{enumerate*}\n"
      ],
      "text/markdown": [
       "1. 'GSE184880_Cancer4_AAACCCAAGTCAATCC-1'\n",
       "2. 'GSE184880_Cancer4_AAACCCAGTCTTCAAG-1'\n",
       "3. 'GSE184880_Cancer4_AAACCCATCGAGTACT-1'\n",
       "4. 'GSE184880_Cancer4_AAACCCATCGTTGTAG-1'\n",
       "5. 'GSE184880_Cancer4_AAACCCATCTCAATCT-1'\n",
       "6. 'GSE184880_Cancer4_AAACGAAAGTGCACAG-1'\n",
       "\n",
       "\n"
      ],
      "text/plain": [
       "[1] \"GSE184880_Cancer4_AAACCCAAGTCAATCC-1\"\n",
       "[2] \"GSE184880_Cancer4_AAACCCAGTCTTCAAG-1\"\n",
       "[3] \"GSE184880_Cancer4_AAACCCATCGAGTACT-1\"\n",
       "[4] \"GSE184880_Cancer4_AAACCCATCGTTGTAG-1\"\n",
       "[5] \"GSE184880_Cancer4_AAACCCATCTCAATCT-1\"\n",
       "[6] \"GSE184880_Cancer4_AAACGAAAGTGCACAG-1\""
      ]
     },
     "metadata": {},
     "output_type": "display_data"
    },
    {
     "data": {
      "text/html": [
       "<style>\n",
       ".list-inline {list-style: none; margin:0; padding: 0}\n",
       ".list-inline>li {display: inline-block}\n",
       ".list-inline>li:not(:last-child)::after {content: \"\\00b7\"; padding: 0 .5ex}\n",
       "</style>\n",
       "<ol class=list-inline><li>'GSE184880_Cancer5_AAACCCAAGATAGTCA-1'</li><li>'GSE184880_Cancer5_AAACCCAGTATCGTAC-1'</li><li>'GSE184880_Cancer5_AAACCCATCACCTTAT-1'</li><li>'GSE184880_Cancer5_AAACCCATCCGGCAGT-1'</li><li>'GSE184880_Cancer5_AAACCCATCGTTGTAG-1'</li><li>'GSE184880_Cancer5_AAACCCATCTGCGGGT-1'</li></ol>\n"
      ],
      "text/latex": [
       "\\begin{enumerate*}\n",
       "\\item 'GSE184880\\_Cancer5\\_AAACCCAAGATAGTCA-1'\n",
       "\\item 'GSE184880\\_Cancer5\\_AAACCCAGTATCGTAC-1'\n",
       "\\item 'GSE184880\\_Cancer5\\_AAACCCATCACCTTAT-1'\n",
       "\\item 'GSE184880\\_Cancer5\\_AAACCCATCCGGCAGT-1'\n",
       "\\item 'GSE184880\\_Cancer5\\_AAACCCATCGTTGTAG-1'\n",
       "\\item 'GSE184880\\_Cancer5\\_AAACCCATCTGCGGGT-1'\n",
       "\\end{enumerate*}\n"
      ],
      "text/markdown": [
       "1. 'GSE184880_Cancer5_AAACCCAAGATAGTCA-1'\n",
       "2. 'GSE184880_Cancer5_AAACCCAGTATCGTAC-1'\n",
       "3. 'GSE184880_Cancer5_AAACCCATCACCTTAT-1'\n",
       "4. 'GSE184880_Cancer5_AAACCCATCCGGCAGT-1'\n",
       "5. 'GSE184880_Cancer5_AAACCCATCGTTGTAG-1'\n",
       "6. 'GSE184880_Cancer5_AAACCCATCTGCGGGT-1'\n",
       "\n",
       "\n"
      ],
      "text/plain": [
       "[1] \"GSE184880_Cancer5_AAACCCAAGATAGTCA-1\"\n",
       "[2] \"GSE184880_Cancer5_AAACCCAGTATCGTAC-1\"\n",
       "[3] \"GSE184880_Cancer5_AAACCCATCACCTTAT-1\"\n",
       "[4] \"GSE184880_Cancer5_AAACCCATCCGGCAGT-1\"\n",
       "[5] \"GSE184880_Cancer5_AAACCCATCGTTGTAG-1\"\n",
       "[6] \"GSE184880_Cancer5_AAACCCATCTGCGGGT-1\""
      ]
     },
     "metadata": {},
     "output_type": "display_data"
    },
    {
     "data": {
      "text/html": [
       "<style>\n",
       ".list-inline {list-style: none; margin:0; padding: 0}\n",
       ".list-inline>li {display: inline-block}\n",
       ".list-inline>li:not(:last-child)::after {content: \"\\00b7\"; padding: 0 .5ex}\n",
       "</style>\n",
       "<ol class=list-inline><li>'GSE184880_Cancer6_AAACCCAAGCTGACTT-1'</li><li>'GSE184880_Cancer6_AAACCCAAGGATACAT-1'</li><li>'GSE184880_Cancer6_AAACCCACACAGTCCG-1'</li><li>'GSE184880_Cancer6_AAACCCAGTAACTGCT-1'</li><li>'GSE184880_Cancer6_AAACCCATCAAGTCGT-1'</li><li>'GSE184880_Cancer6_AAACCCATCATGAAAG-1'</li></ol>\n"
      ],
      "text/latex": [
       "\\begin{enumerate*}\n",
       "\\item 'GSE184880\\_Cancer6\\_AAACCCAAGCTGACTT-1'\n",
       "\\item 'GSE184880\\_Cancer6\\_AAACCCAAGGATACAT-1'\n",
       "\\item 'GSE184880\\_Cancer6\\_AAACCCACACAGTCCG-1'\n",
       "\\item 'GSE184880\\_Cancer6\\_AAACCCAGTAACTGCT-1'\n",
       "\\item 'GSE184880\\_Cancer6\\_AAACCCATCAAGTCGT-1'\n",
       "\\item 'GSE184880\\_Cancer6\\_AAACCCATCATGAAAG-1'\n",
       "\\end{enumerate*}\n"
      ],
      "text/markdown": [
       "1. 'GSE184880_Cancer6_AAACCCAAGCTGACTT-1'\n",
       "2. 'GSE184880_Cancer6_AAACCCAAGGATACAT-1'\n",
       "3. 'GSE184880_Cancer6_AAACCCACACAGTCCG-1'\n",
       "4. 'GSE184880_Cancer6_AAACCCAGTAACTGCT-1'\n",
       "5. 'GSE184880_Cancer6_AAACCCATCAAGTCGT-1'\n",
       "6. 'GSE184880_Cancer6_AAACCCATCATGAAAG-1'\n",
       "\n",
       "\n"
      ],
      "text/plain": [
       "[1] \"GSE184880_Cancer6_AAACCCAAGCTGACTT-1\"\n",
       "[2] \"GSE184880_Cancer6_AAACCCAAGGATACAT-1\"\n",
       "[3] \"GSE184880_Cancer6_AAACCCACACAGTCCG-1\"\n",
       "[4] \"GSE184880_Cancer6_AAACCCAGTAACTGCT-1\"\n",
       "[5] \"GSE184880_Cancer6_AAACCCATCAAGTCGT-1\"\n",
       "[6] \"GSE184880_Cancer6_AAACCCATCATGAAAG-1\""
      ]
     },
     "metadata": {},
     "output_type": "display_data"
    },
    {
     "data": {
      "text/html": [
       "<style>\n",
       ".list-inline {list-style: none; margin:0; padding: 0}\n",
       ".list-inline>li {display: inline-block}\n",
       ".list-inline>li:not(:last-child)::after {content: \"\\00b7\"; padding: 0 .5ex}\n",
       "</style>\n",
       "<ol class=list-inline><li>'GSE184880_Cancer7_AAACCCACAAAGCAAT-1'</li><li>'GSE184880_Cancer7_AAACCCATCCGACAGC-1'</li><li>'GSE184880_Cancer7_AAACGAACACGCGTCA-1'</li><li>'GSE184880_Cancer7_AAACGAACAGCTTCGG-1'</li><li>'GSE184880_Cancer7_AAACGAACATACATCG-1'</li><li>'GSE184880_Cancer7_AAACGAACATGACGAG-1'</li></ol>\n"
      ],
      "text/latex": [
       "\\begin{enumerate*}\n",
       "\\item 'GSE184880\\_Cancer7\\_AAACCCACAAAGCAAT-1'\n",
       "\\item 'GSE184880\\_Cancer7\\_AAACCCATCCGACAGC-1'\n",
       "\\item 'GSE184880\\_Cancer7\\_AAACGAACACGCGTCA-1'\n",
       "\\item 'GSE184880\\_Cancer7\\_AAACGAACAGCTTCGG-1'\n",
       "\\item 'GSE184880\\_Cancer7\\_AAACGAACATACATCG-1'\n",
       "\\item 'GSE184880\\_Cancer7\\_AAACGAACATGACGAG-1'\n",
       "\\end{enumerate*}\n"
      ],
      "text/markdown": [
       "1. 'GSE184880_Cancer7_AAACCCACAAAGCAAT-1'\n",
       "2. 'GSE184880_Cancer7_AAACCCATCCGACAGC-1'\n",
       "3. 'GSE184880_Cancer7_AAACGAACACGCGTCA-1'\n",
       "4. 'GSE184880_Cancer7_AAACGAACAGCTTCGG-1'\n",
       "5. 'GSE184880_Cancer7_AAACGAACATACATCG-1'\n",
       "6. 'GSE184880_Cancer7_AAACGAACATGACGAG-1'\n",
       "\n",
       "\n"
      ],
      "text/plain": [
       "[1] \"GSE184880_Cancer7_AAACCCACAAAGCAAT-1\"\n",
       "[2] \"GSE184880_Cancer7_AAACCCATCCGACAGC-1\"\n",
       "[3] \"GSE184880_Cancer7_AAACGAACACGCGTCA-1\"\n",
       "[4] \"GSE184880_Cancer7_AAACGAACAGCTTCGG-1\"\n",
       "[5] \"GSE184880_Cancer7_AAACGAACATACATCG-1\"\n",
       "[6] \"GSE184880_Cancer7_AAACGAACATGACGAG-1\""
      ]
     },
     "metadata": {},
     "output_type": "display_data"
    },
    {
     "data": {
      "text/html": [
       "<style>\n",
       ".list-inline {list-style: none; margin:0; padding: 0}\n",
       ".list-inline>li {display: inline-block}\n",
       ".list-inline>li:not(:last-child)::after {content: \"\\00b7\"; padding: 0 .5ex}\n",
       "</style>\n",
       "<ol class=list-inline><li>'GSE184880_Norm1_AAACCCAAGGACAGCT-1'</li><li>'GSE184880_Norm1_AAACCCAAGGTATCTC-1'</li><li>'GSE184880_Norm1_AAACCCACAAGTGCAG-1'</li><li>'GSE184880_Norm1_AAACCCACACCCTCTA-1'</li><li>'GSE184880_Norm1_AAACCCACACTCCGGA-1'</li><li>'GSE184880_Norm1_AAACCCACAGAGGTTG-1'</li></ol>\n"
      ],
      "text/latex": [
       "\\begin{enumerate*}\n",
       "\\item 'GSE184880\\_Norm1\\_AAACCCAAGGACAGCT-1'\n",
       "\\item 'GSE184880\\_Norm1\\_AAACCCAAGGTATCTC-1'\n",
       "\\item 'GSE184880\\_Norm1\\_AAACCCACAAGTGCAG-1'\n",
       "\\item 'GSE184880\\_Norm1\\_AAACCCACACCCTCTA-1'\n",
       "\\item 'GSE184880\\_Norm1\\_AAACCCACACTCCGGA-1'\n",
       "\\item 'GSE184880\\_Norm1\\_AAACCCACAGAGGTTG-1'\n",
       "\\end{enumerate*}\n"
      ],
      "text/markdown": [
       "1. 'GSE184880_Norm1_AAACCCAAGGACAGCT-1'\n",
       "2. 'GSE184880_Norm1_AAACCCAAGGTATCTC-1'\n",
       "3. 'GSE184880_Norm1_AAACCCACAAGTGCAG-1'\n",
       "4. 'GSE184880_Norm1_AAACCCACACCCTCTA-1'\n",
       "5. 'GSE184880_Norm1_AAACCCACACTCCGGA-1'\n",
       "6. 'GSE184880_Norm1_AAACCCACAGAGGTTG-1'\n",
       "\n",
       "\n"
      ],
      "text/plain": [
       "[1] \"GSE184880_Norm1_AAACCCAAGGACAGCT-1\" \"GSE184880_Norm1_AAACCCAAGGTATCTC-1\"\n",
       "[3] \"GSE184880_Norm1_AAACCCACAAGTGCAG-1\" \"GSE184880_Norm1_AAACCCACACCCTCTA-1\"\n",
       "[5] \"GSE184880_Norm1_AAACCCACACTCCGGA-1\" \"GSE184880_Norm1_AAACCCACAGAGGTTG-1\""
      ]
     },
     "metadata": {},
     "output_type": "display_data"
    },
    {
     "data": {
      "text/html": [
       "<style>\n",
       ".list-inline {list-style: none; margin:0; padding: 0}\n",
       ".list-inline>li {display: inline-block}\n",
       ".list-inline>li:not(:last-child)::after {content: \"\\00b7\"; padding: 0 .5ex}\n",
       "</style>\n",
       "<ol class=list-inline><li>'GSE184880_Norm2_AAACCCAAGCCGTAAG-1'</li><li>'GSE184880_Norm2_AAACCCACACAAGCCC-1'</li><li>'GSE184880_Norm2_AAACCCACACGAAGAC-1'</li><li>'GSE184880_Norm2_AAACCCAGTGGTTCTA-1'</li><li>'GSE184880_Norm2_AAACCCAGTTCGTACA-1'</li><li>'GSE184880_Norm2_AAACCCAGTTTATGCG-1'</li></ol>\n"
      ],
      "text/latex": [
       "\\begin{enumerate*}\n",
       "\\item 'GSE184880\\_Norm2\\_AAACCCAAGCCGTAAG-1'\n",
       "\\item 'GSE184880\\_Norm2\\_AAACCCACACAAGCCC-1'\n",
       "\\item 'GSE184880\\_Norm2\\_AAACCCACACGAAGAC-1'\n",
       "\\item 'GSE184880\\_Norm2\\_AAACCCAGTGGTTCTA-1'\n",
       "\\item 'GSE184880\\_Norm2\\_AAACCCAGTTCGTACA-1'\n",
       "\\item 'GSE184880\\_Norm2\\_AAACCCAGTTTATGCG-1'\n",
       "\\end{enumerate*}\n"
      ],
      "text/markdown": [
       "1. 'GSE184880_Norm2_AAACCCAAGCCGTAAG-1'\n",
       "2. 'GSE184880_Norm2_AAACCCACACAAGCCC-1'\n",
       "3. 'GSE184880_Norm2_AAACCCACACGAAGAC-1'\n",
       "4. 'GSE184880_Norm2_AAACCCAGTGGTTCTA-1'\n",
       "5. 'GSE184880_Norm2_AAACCCAGTTCGTACA-1'\n",
       "6. 'GSE184880_Norm2_AAACCCAGTTTATGCG-1'\n",
       "\n",
       "\n"
      ],
      "text/plain": [
       "[1] \"GSE184880_Norm2_AAACCCAAGCCGTAAG-1\" \"GSE184880_Norm2_AAACCCACACAAGCCC-1\"\n",
       "[3] \"GSE184880_Norm2_AAACCCACACGAAGAC-1\" \"GSE184880_Norm2_AAACCCAGTGGTTCTA-1\"\n",
       "[5] \"GSE184880_Norm2_AAACCCAGTTCGTACA-1\" \"GSE184880_Norm2_AAACCCAGTTTATGCG-1\""
      ]
     },
     "metadata": {},
     "output_type": "display_data"
    },
    {
     "data": {
      "text/html": [
       "<style>\n",
       ".list-inline {list-style: none; margin:0; padding: 0}\n",
       ".list-inline>li {display: inline-block}\n",
       ".list-inline>li:not(:last-child)::after {content: \"\\00b7\"; padding: 0 .5ex}\n",
       "</style>\n",
       "<ol class=list-inline><li>'GSE184880_Norm3_AAACCCAAGACCAAAT-1'</li><li>'GSE184880_Norm3_AAACCCAAGACTCTAC-1'</li><li>'GSE184880_Norm3_AAACCCAAGAGCACTG-1'</li><li>'GSE184880_Norm3_AAACCCAAGCCTGTCG-1'</li><li>'GSE184880_Norm3_AAACCCAAGCTGGAGT-1'</li><li>'GSE184880_Norm3_AAACCCAGTCGAACAG-1'</li></ol>\n"
      ],
      "text/latex": [
       "\\begin{enumerate*}\n",
       "\\item 'GSE184880\\_Norm3\\_AAACCCAAGACCAAAT-1'\n",
       "\\item 'GSE184880\\_Norm3\\_AAACCCAAGACTCTAC-1'\n",
       "\\item 'GSE184880\\_Norm3\\_AAACCCAAGAGCACTG-1'\n",
       "\\item 'GSE184880\\_Norm3\\_AAACCCAAGCCTGTCG-1'\n",
       "\\item 'GSE184880\\_Norm3\\_AAACCCAAGCTGGAGT-1'\n",
       "\\item 'GSE184880\\_Norm3\\_AAACCCAGTCGAACAG-1'\n",
       "\\end{enumerate*}\n"
      ],
      "text/markdown": [
       "1. 'GSE184880_Norm3_AAACCCAAGACCAAAT-1'\n",
       "2. 'GSE184880_Norm3_AAACCCAAGACTCTAC-1'\n",
       "3. 'GSE184880_Norm3_AAACCCAAGAGCACTG-1'\n",
       "4. 'GSE184880_Norm3_AAACCCAAGCCTGTCG-1'\n",
       "5. 'GSE184880_Norm3_AAACCCAAGCTGGAGT-1'\n",
       "6. 'GSE184880_Norm3_AAACCCAGTCGAACAG-1'\n",
       "\n",
       "\n"
      ],
      "text/plain": [
       "[1] \"GSE184880_Norm3_AAACCCAAGACCAAAT-1\" \"GSE184880_Norm3_AAACCCAAGACTCTAC-1\"\n",
       "[3] \"GSE184880_Norm3_AAACCCAAGAGCACTG-1\" \"GSE184880_Norm3_AAACCCAAGCCTGTCG-1\"\n",
       "[5] \"GSE184880_Norm3_AAACCCAAGCTGGAGT-1\" \"GSE184880_Norm3_AAACCCAGTCGAACAG-1\""
      ]
     },
     "metadata": {},
     "output_type": "display_data"
    },
    {
     "data": {
      "text/html": [
       "<style>\n",
       ".list-inline {list-style: none; margin:0; padding: 0}\n",
       ".list-inline>li {display: inline-block}\n",
       ".list-inline>li:not(:last-child)::after {content: \"\\00b7\"; padding: 0 .5ex}\n",
       "</style>\n",
       "<ol class=list-inline><li>'GSE184880_Norm4_AAACCCAAGTGGTGGT-1'</li><li>'GSE184880_Norm4_AAACCCACAACGGTAG-1'</li><li>'GSE184880_Norm4_AAACCCACAATTGCAC-1'</li><li>'GSE184880_Norm4_AAACCCACAGGCGTTC-1'</li><li>'GSE184880_Norm4_AAACCCACATATCTGG-1'</li><li>'GSE184880_Norm4_AAACCCAGTCAGGTGA-1'</li></ol>\n"
      ],
      "text/latex": [
       "\\begin{enumerate*}\n",
       "\\item 'GSE184880\\_Norm4\\_AAACCCAAGTGGTGGT-1'\n",
       "\\item 'GSE184880\\_Norm4\\_AAACCCACAACGGTAG-1'\n",
       "\\item 'GSE184880\\_Norm4\\_AAACCCACAATTGCAC-1'\n",
       "\\item 'GSE184880\\_Norm4\\_AAACCCACAGGCGTTC-1'\n",
       "\\item 'GSE184880\\_Norm4\\_AAACCCACATATCTGG-1'\n",
       "\\item 'GSE184880\\_Norm4\\_AAACCCAGTCAGGTGA-1'\n",
       "\\end{enumerate*}\n"
      ],
      "text/markdown": [
       "1. 'GSE184880_Norm4_AAACCCAAGTGGTGGT-1'\n",
       "2. 'GSE184880_Norm4_AAACCCACAACGGTAG-1'\n",
       "3. 'GSE184880_Norm4_AAACCCACAATTGCAC-1'\n",
       "4. 'GSE184880_Norm4_AAACCCACAGGCGTTC-1'\n",
       "5. 'GSE184880_Norm4_AAACCCACATATCTGG-1'\n",
       "6. 'GSE184880_Norm4_AAACCCAGTCAGGTGA-1'\n",
       "\n",
       "\n"
      ],
      "text/plain": [
       "[1] \"GSE184880_Norm4_AAACCCAAGTGGTGGT-1\" \"GSE184880_Norm4_AAACCCACAACGGTAG-1\"\n",
       "[3] \"GSE184880_Norm4_AAACCCACAATTGCAC-1\" \"GSE184880_Norm4_AAACCCACAGGCGTTC-1\"\n",
       "[5] \"GSE184880_Norm4_AAACCCACATATCTGG-1\" \"GSE184880_Norm4_AAACCCAGTCAGGTGA-1\""
      ]
     },
     "metadata": {},
     "output_type": "display_data"
    },
    {
     "data": {
      "text/html": [
       "<style>\n",
       ".list-inline {list-style: none; margin:0; padding: 0}\n",
       ".list-inline>li {display: inline-block}\n",
       ".list-inline>li:not(:last-child)::after {content: \"\\00b7\"; padding: 0 .5ex}\n",
       "</style>\n",
       "<ol class=list-inline><li>'GSE184880_Norm5_AAACCCAAGTCATCGT-1'</li><li>'GSE184880_Norm5_AAACCCACACGCGTCA-1'</li><li>'GSE184880_Norm5_AAACCCACACTACCCT-1'</li><li>'GSE184880_Norm5_AAACCCACACTTCAGA-1'</li><li>'GSE184880_Norm5_AAACCCAGTACTGGGA-1'</li><li>'GSE184880_Norm5_AAACCCAGTAGAATAC-1'</li></ol>\n"
      ],
      "text/latex": [
       "\\begin{enumerate*}\n",
       "\\item 'GSE184880\\_Norm5\\_AAACCCAAGTCATCGT-1'\n",
       "\\item 'GSE184880\\_Norm5\\_AAACCCACACGCGTCA-1'\n",
       "\\item 'GSE184880\\_Norm5\\_AAACCCACACTACCCT-1'\n",
       "\\item 'GSE184880\\_Norm5\\_AAACCCACACTTCAGA-1'\n",
       "\\item 'GSE184880\\_Norm5\\_AAACCCAGTACTGGGA-1'\n",
       "\\item 'GSE184880\\_Norm5\\_AAACCCAGTAGAATAC-1'\n",
       "\\end{enumerate*}\n"
      ],
      "text/markdown": [
       "1. 'GSE184880_Norm5_AAACCCAAGTCATCGT-1'\n",
       "2. 'GSE184880_Norm5_AAACCCACACGCGTCA-1'\n",
       "3. 'GSE184880_Norm5_AAACCCACACTACCCT-1'\n",
       "4. 'GSE184880_Norm5_AAACCCACACTTCAGA-1'\n",
       "5. 'GSE184880_Norm5_AAACCCAGTACTGGGA-1'\n",
       "6. 'GSE184880_Norm5_AAACCCAGTAGAATAC-1'\n",
       "\n",
       "\n"
      ],
      "text/plain": [
       "[1] \"GSE184880_Norm5_AAACCCAAGTCATCGT-1\" \"GSE184880_Norm5_AAACCCACACGCGTCA-1\"\n",
       "[3] \"GSE184880_Norm5_AAACCCACACTACCCT-1\" \"GSE184880_Norm5_AAACCCACACTTCAGA-1\"\n",
       "[5] \"GSE184880_Norm5_AAACCCAGTACTGGGA-1\" \"GSE184880_Norm5_AAACCCAGTAGAATAC-1\""
      ]
     },
     "metadata": {},
     "output_type": "display_data"
    }
   ],
   "source": [
    "head(colnames(OC_Cancer1.data))\n",
    "head(colnames(OC_Cancer2.data))\n",
    "head(colnames(OC_Cancer3.data))\n",
    "head(colnames(OC_Cancer4.data))\n",
    "head(colnames(OC_Cancer5.data))\n",
    "head(colnames(OC_Cancer6.data))\n",
    "head(colnames(OC_Cancer7.data))\n",
    "head(colnames(OC_Norm1.data))\n",
    "head(colnames(OC_Norm2.data))\n",
    "head(colnames(OC_Norm3.data))\n",
    "head(colnames(OC_Norm4.data))\n",
    "head(colnames(OC_Norm5.data))"
   ]
  }
 ],
 "metadata": {
  "kernelspec": {
   "display_name": "R",
   "language": "R",
   "name": "ir"
  },
  "language_info": {
   "codemirror_mode": "r",
   "file_extension": ".r",
   "mimetype": "text/x-r-source",
   "name": "R",
   "pygments_lexer": "r",
   "version": "4.3.1"
  }
 },
 "nbformat": 4,
 "nbformat_minor": 2
}
