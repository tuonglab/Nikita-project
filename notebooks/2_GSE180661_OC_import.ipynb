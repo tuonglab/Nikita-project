{
 "cells": [
  {
   "cell_type": "markdown",
   "metadata": {},
   "source": [
    "#### Vazquez-Garcia et al 2022, GSE180661\n",
    "\n",
    "Files exported: GSE180661_GEO_cells.tsv.gz and GSE180661_matrix.h5\n",
    "\n",
    "\n",
    "\n",
    "Unpack the file \n",
    "\n",
    "```bash\n",
    "tar -xzvf /scratch/user/s4436039/scdata/GSE180661/GSE180661_GEO_cells.tsv.gz\n",
    "\n",
    "tried gunzip \n",
    "\n",
    "```"
   ]
  },
  {
   "cell_type": "code",
   "execution_count": null,
   "metadata": {
    "vscode": {
     "languageId": "r"
    }
   },
   "outputs": [],
   "source": []
  }
 ],
 "metadata": {
  "kernelspec": {
   "display_name": "R",
   "language": "R",
   "name": "ir"
  },
  "language_info": {
   "codemirror_mode": "r",
   "file_extension": ".r",
   "mimetype": "text/x-r-source",
   "name": "R",
   "pygments_lexer": "r",
   "version": "4.3.1"
  }
 },
 "nbformat": 4,
 "nbformat_minor": 2
}
