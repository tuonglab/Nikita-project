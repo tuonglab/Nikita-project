{
 "cells": [
  {
   "cell_type": "markdown",
   "id": "8404150a",
   "metadata": {},
   "source": [
    "## Generating a stacked bar chart where every row is a sample, showing the proportion of cells in each DC subset, also coloured by cancer type/ site\n",
    "* Using R as this will work better for visualising"
   ]
  },
  {
   "cell_type": "code",
   "execution_count": null,
   "id": "8227aecd",
   "metadata": {},
   "outputs": [],
   "source": []
  }
 ],
 "metadata": {
  "kernelspec": {
   "display_name": "Python 3 (ipykernel)",
   "language": "python",
   "name": "python3"
  }
 },
 "nbformat": 4,
 "nbformat_minor": 5
}
