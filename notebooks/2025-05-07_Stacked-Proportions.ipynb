{
 "cells": [
  {
   "cell_type": "markdown",
   "id": "8404150a",
   "metadata": {},
   "source": [
    "## Generating a stacked bar chart where every row is a sample, showing the proportion of cells in each DC subset, also coloured by cancer type/ site\n",
    "* open obect in python and export dataframe with necessary info\n",
    "* then using R for plotting as this will work better for visualising"
   ]
  },
  {
   "cell_type": "code",
   "execution_count": 1,
   "id": "8227aecd",
   "metadata": {},
   "outputs": [],
   "source": [
    "#load packages I need\n",
    "import os\n",
    "import tools\n",
    "import scanpy as sc\n",
    "import pandas as pd\n",
    "import matplotlib.pyplot as plt"
   ]
  },
  {
   "cell_type": "code",
   "execution_count": 2,
   "id": "151294bd",
   "metadata": {},
   "outputs": [
    {
     "data": {
      "text/plain": [
       "'/scratch/user/s4436039/scdata/Python_Integration_Sep'"
      ]
     },
     "execution_count": 2,
     "metadata": {},
     "output_type": "execute_result"
    }
   ],
   "source": [
    "#show current directory \n",
    "os.chdir('/scratch/user/s4436039/scdata/Python_Integration_Sep')\n",
    "os.getcwd()"
   ]
  },
  {
   "cell_type": "code",
   "execution_count": 3,
   "id": "f4f79980",
   "metadata": {},
   "outputs": [
    {
     "name": "stdout",
     "output_type": "stream",
     "text": [
      "scanpy==1.10.2 anndata==0.10.8 umap==0.5.6 numpy==1.26.4 scipy==1.14.0 pandas==2.2.2 scikit-learn==1.5.0 statsmodels==0.14.2 igraph==0.11.5 pynndescent==0.5.12\n"
     ]
    }
   ],
   "source": [
    "sc.logging.print_header()"
   ]
  },
  {
   "cell_type": "code",
   "execution_count": 4,
   "id": "7b5d07a1",
   "metadata": {},
   "outputs": [],
   "source": [
    "# read in data\n",
    "data = sc.read_h5ad('NRclean_clustered2_DC.h5ad')"
   ]
  },
  {
   "cell_type": "markdown",
   "id": "92a96bb2",
   "metadata": {},
   "source": [
    "## Create dataframe per sample type, containing integration id, proportion of each DC subset, and cancer type"
   ]
  },
  {
   "cell_type": "code",
   "execution_count": 5,
   "id": "a67b4c74",
   "metadata": {},
   "outputs": [],
   "source": [
    "#make an object for each sample type\n",
    "data_P = data[data.obs[\"sample_type_major2\"] == \"primary tumour\"]\n",
    "data_M = data[data.obs[\"sample_type_major2\"] == \"metastatic tumour\"]\n",
    "data_H = data[data.obs[\"sample_type_major2\"] == \"healthy\"]"
   ]
  },
  {
   "cell_type": "markdown",
   "id": "bea7de5c",
   "metadata": {},
   "source": [
    "### Primary:"
   ]
  },
  {
   "cell_type": "code",
   "execution_count": 12,
   "id": "e8ee8f96",
   "metadata": {},
   "outputs": [
    {
     "name": "stderr",
     "output_type": "stream",
     "text": [
      "/scratch/temp/14062515/ipykernel_1841256/719394209.py:11: FutureWarning: The default of observed=False is deprecated and will be changed to True in a future version of pandas. Pass observed=False to retain current behavior or observed=True to adopt the future default and silence this warning.\n",
      "  df.groupby([\"integration_id\", \"cancer_broadest\"])[[\"is_cDC1\", \"is_cDC2\", \"is_mregDC\"]] #groups dataframe by each unique combo of sample_id and cancer type, keeps the booleen columns\n"
     ]
    }
   ],
   "source": [
    "# Create a DataFrame containing just sample, cancer type and annotations \n",
    "df = data_P.obs[[\"integration_id\", \"cancer_broadest\", \"NR_annotations_simple\"]].copy()\n",
    "\n",
    "# Create a new column for each DC type, indicating whether each cell belongs to that type (True vs False)\n",
    "df[\"is_cDC1\"] = df[\"NR_annotations_simple\"] == \"cDC1\"\n",
    "df[\"is_cDC2\"] = df[\"NR_annotations_simple\"] == \"cDC2\"\n",
    "df[\"is_mregDC\"] = df[\"NR_annotations_simple\"] == \"mregDC\"\n",
    "\n",
    "# Calculate proportions of each DC type per sample within each cancer subtype\n",
    "proportion_df = (\n",
    "    df.groupby([\"integration_id\", \"cancer_broadest\"])[[\"is_cDC1\", \"is_cDC2\", \"is_mregDC\"]] #groups dataframe by each unique combo of sample_id and cancer type, keeps the booleen columns \n",
    "    .mean() #calculating the mean of a booleen column gives the proportion of true values \n",
    "    .reset_index()\n",
    "    .rename(columns={\"is_cDC1\": \"cDC1_proportion\", \"is_cDC2\": \"cDC2_proportion\", \"is_mregDC\": \"mregDC_proportion\"}) #rename eg. is_cDC1 column to cDC1_proportion\n",
    ")\n",
    "\n",
    "#delete rows with NaN values\n",
    "proportion_df = proportion_df.dropna(subset=[\"cDC1_proportion\"])\n",
    "\n",
    "proportion_df.head(15)\n",
    "proportion_df.to_csv(\"dc_plot_proportions_primary.csv\", index=False)"
   ]
  },
  {
   "cell_type": "markdown",
   "id": "f20b0c76",
   "metadata": {},
   "source": [
    "### Mets:"
   ]
  },
  {
   "cell_type": "code",
   "execution_count": 13,
   "id": "c10062c8",
   "metadata": {},
   "outputs": [
    {
     "name": "stderr",
     "output_type": "stream",
     "text": [
      "/scratch/temp/14062515/ipykernel_1841256/640742762.py:11: FutureWarning: The default of observed=False is deprecated and will be changed to True in a future version of pandas. Pass observed=False to retain current behavior or observed=True to adopt the future default and silence this warning.\n",
      "  df.groupby([\"integration_id\", \"cancer_broadest\"])[[\"is_cDC1\", \"is_cDC2\", \"is_mregDC\"]] #groups dataframe by each unique combo of sample_id and cancer type, keeps the booleen columns\n"
     ]
    }
   ],
   "source": [
    "# Create a DataFrame containing just sample, cancer type and annotations \n",
    "df = data_M.obs[[\"integration_id\", \"cancer_broadest\", \"NR_annotations_simple\"]].copy()\n",
    "\n",
    "# Create a new column for each DC type, indicating whether each cell belongs to that type (True vs False)\n",
    "df[\"is_cDC1\"] = df[\"NR_annotations_simple\"] == \"cDC1\"\n",
    "df[\"is_cDC2\"] = df[\"NR_annotations_simple\"] == \"cDC2\"\n",
    "df[\"is_mregDC\"] = df[\"NR_annotations_simple\"] == \"mregDC\"\n",
    "\n",
    "# Calculate proportions of each DC type per sample within each cancer subtype\n",
    "proportion_df = (\n",
    "    df.groupby([\"integration_id\", \"cancer_broadest\"])[[\"is_cDC1\", \"is_cDC2\", \"is_mregDC\"]] #groups dataframe by each unique combo of sample_id and cancer type, keeps the booleen columns \n",
    "    .mean() #calculating the mean of a booleen column gives the proportion of true values \n",
    "    .reset_index()\n",
    "    .rename(columns={\"is_cDC1\": \"cDC1_proportion\", \"is_cDC2\": \"cDC2_proportion\", \"is_mregDC\": \"mregDC_proportion\"}) #rename eg. is_cDC1 column to cDC1_proportion\n",
    ")\n",
    "\n",
    "#delete rows with NaN values\n",
    "proportion_df = proportion_df.dropna(subset=[\"cDC1_proportion\"])\n",
    "\n",
    "proportion_df.head(15)\n",
    "proportion_df.to_csv(\"dc_plot_proportions_mets.csv\", index=False)"
   ]
  },
  {
   "cell_type": "markdown",
   "id": "672341c6",
   "metadata": {},
   "source": [
    "### Healthy:"
   ]
  },
  {
   "cell_type": "code",
   "execution_count": 14,
   "id": "0ab31578",
   "metadata": {},
   "outputs": [
    {
     "name": "stderr",
     "output_type": "stream",
     "text": [
      "/scratch/temp/14062515/ipykernel_1841256/3968770656.py:11: FutureWarning: The default of observed=False is deprecated and will be changed to True in a future version of pandas. Pass observed=False to retain current behavior or observed=True to adopt the future default and silence this warning.\n",
      "  df.groupby([\"integration_id\", \"cancer_broadest\"])[[\"is_cDC1\", \"is_cDC2\", \"is_mregDC\"]] #groups dataframe by each unique combo of sample_id and cancer type, keeps the booleen columns\n"
     ]
    }
   ],
   "source": [
    "# Create a DataFrame containing just sample, cancer type and annotations \n",
    "df = data_H.obs[[\"integration_id\", \"cancer_broadest\", \"NR_annotations_simple\"]].copy()\n",
    "\n",
    "# Create a new column for each DC type, indicating whether each cell belongs to that type (True vs False)\n",
    "df[\"is_cDC1\"] = df[\"NR_annotations_simple\"] == \"cDC1\"\n",
    "df[\"is_cDC2\"] = df[\"NR_annotations_simple\"] == \"cDC2\"\n",
    "df[\"is_mregDC\"] = df[\"NR_annotations_simple\"] == \"mregDC\"\n",
    "\n",
    "# Calculate proportions of each DC type per sample within each cancer subtype\n",
    "proportion_df = (\n",
    "    df.groupby([\"integration_id\", \"cancer_broadest\"])[[\"is_cDC1\", \"is_cDC2\", \"is_mregDC\"]] #groups dataframe by each unique combo of sample_id and cancer type, keeps the booleen columns \n",
    "    .mean() #calculating the mean of a booleen column gives the proportion of true values \n",
    "    .reset_index()\n",
    "    .rename(columns={\"is_cDC1\": \"cDC1_proportion\", \"is_cDC2\": \"cDC2_proportion\", \"is_mregDC\": \"mregDC_proportion\"}) #rename eg. is_cDC1 column to cDC1_proportion\n",
    ")\n",
    "\n",
    "#delete rows with NaN values\n",
    "proportion_df = proportion_df.dropna(subset=[\"cDC1_proportion\"])\n",
    "\n",
    "proportion_df.head(15)\n",
    "proportion_df.to_csv(\"dc_plot_proportions_healthy.csv\", index=False)"
   ]
  }
 ],
 "metadata": {
  "kernelspec": {
   "display_name": "Python 3 (ipykernel)",
   "language": "python",
   "name": "python3"
  },
  "language_info": {
   "codemirror_mode": {
    "name": "ipython",
    "version": 3
   },
   "file_extension": ".py",
   "mimetype": "text/x-python",
   "name": "python",
   "nbconvert_exporter": "python",
   "pygments_lexer": "ipython3",
   "version": "3.12.3"
  }
 },
 "nbformat": 4,
 "nbformat_minor": 5
}
