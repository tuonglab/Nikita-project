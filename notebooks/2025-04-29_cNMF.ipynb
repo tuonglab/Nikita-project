{
 "cells": [
  {
   "cell_type": "markdown",
   "id": "7edfc5ca",
   "metadata": {},
   "source": [
    "# Running cNMF on myeloid atlas \n",
    "* starting with raw data but that has been cleaned (cells removed during iterative cleaning removed from this object and meta transferred)"
   ]
  },
  {
   "cell_type": "markdown",
   "id": "7707fec7",
   "metadata": {},
   "source": [
    "### Install packages:\n",
    "\n",
    "``` bash\n",
    "pip install cnmf\n",
    "pip install harmonypy\n",
    "pip install scikit-misc\n",
    "```"
   ]
  },
  {
   "cell_type": "markdown",
   "id": "576114bc",
   "metadata": {},
   "source": [
    "# Following tutorial in package github:"
   ]
  },
  {
   "cell_type": "code",
   "execution_count": 3,
   "id": "1274e62a",
   "metadata": {},
   "outputs": [],
   "source": [
    "import os\n",
    "import pandas as pd\n",
    "import numpy as np\n",
    "from scipy.io import mmread\n",
    "import scipy.sparse as sp\n",
    "import matplotlib.pyplot as plt\n",
    "from IPython.display import Image\n",
    "import scanpy as sc\n",
    "from cnmf import cNMF"
   ]
  },
  {
   "cell_type": "code",
   "execution_count": 4,
   "id": "efd9e83e",
   "metadata": {},
   "outputs": [],
   "source": [
    "# load the data\n",
    "adata = sc.read_h5ad('/scratch/user/s4436039/scdata/Myeloid_Objects/NRclean_Raw_Data.h5ad') #raw cleaned data"
   ]
  },
  {
   "cell_type": "code",
   "execution_count": 6,
   "id": "1bb8f538",
   "metadata": {},
   "outputs": [
    {
     "name": "stdout",
     "output_type": "stream",
     "text": [
      "Index(['nCount_RNA', 'nFeature_RNA', 'sample_type', 'cancer_type',\n",
      "       'patient_id', 'sample_id', 'percent.mt', 'site', 'sample_type_major',\n",
      "       'cancer_subtype', 'integration_id', 'ident', 'dataset_id', 'Technology',\n",
      "       'NR_annotations_simple', 'sample_type_major2', 'cancer_with_H',\n",
      "       'cancer_broadest', 'patient_treatment'],\n",
      "      dtype='object')\n"
     ]
    }
   ],
   "source": [
    "print(adata.obs.columns)"
   ]
  },
  {
   "cell_type": "code",
   "execution_count": 7,
   "id": "b4af63fd",
   "metadata": {},
   "outputs": [
    {
     "name": "stderr",
     "output_type": "stream",
     "text": [
      "/home/s4436039/miniforge3/envs/env/lib/python3.12/site-packages/pandas/core/arraylike.py:399: RuntimeWarning: invalid value encountered in log10\n",
      "  result = getattr(ufunc, method)(*inputs, **kwargs)\n"
     ]
    },
    {
     "data": {
      "image/png": "[encoded data removed]",
      "text/plain": [
       "<Figure size 640x480 with 1 Axes>"
      ]
     },
     "metadata": {},
     "output_type": "display_data"
    }
   ],
   "source": [
    "## plot log10 # counts per cell\n",
    "plt.hist(np.log10(adata.obs['nCount_RNA']), bins=100)\n",
    "_ = plt.xlabel('log10 Counts Per cell')\n",
    "_ = plt.ylabel('# Cells')"
   ]
  }
 ],
 "metadata": {
  "kernelspec": {
   "display_name": "Python 3 (ipykernel)",
   "language": "python",
   "name": "python3"
  },
  "language_info": {
   "codemirror_mode": {
    "name": "ipython",
    "version": 3
   },
   "file_extension": ".py",
   "mimetype": "text/x-python",
   "name": "python",
   "nbconvert_exporter": "python",
   "pygments_lexer": "ipython3",
   "version": "3.12.3"
  }
 },
 "nbformat": 4,
 "nbformat_minor": 5
}
