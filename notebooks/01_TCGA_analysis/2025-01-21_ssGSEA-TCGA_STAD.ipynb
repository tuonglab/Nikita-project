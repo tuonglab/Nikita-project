{
 "cells": [
  {
   "cell_type": "markdown",
   "metadata": {},
   "source": [
    "### ssGSEA analysis on data from TCGA-STAD dataset (stomach adenocarcinoma)"
   ]
  },
  {
   "cell_type": "code",
   "execution_count": 2,
   "metadata": {
    "vscode": {
     "languageId": "r"
    }
   },
   "outputs": [],
   "source": [
    "library(matrixStats)\n",
    "library(circlize)\n",
    "library(ComplexHeatmap)\n",
    "library(data.table)\n",
    "library(SummarizedExperiment)\n",
    "library(S4Vectors)\n",
    "library(GenomicRanges)\n",
    "library(IRanges)\n",
    "library(dplyr)"
   ]
  },
  {
   "cell_type": "code",
   "execution_count": 3,
   "metadata": {
    "vscode": {
     "languageId": "r"
    }
   },
   "outputs": [],
   "source": [
    "#set working directory (location where TCGA data is stored)\n",
    "setwd(\"/scratch/user/s4436039/TCGA_Data\")"
   ]
  },
  {
   "cell_type": "code",
   "execution_count": 4,
   "metadata": {
    "vscode": {
     "languageId": "r"
    }
   },
   "outputs": [
    {
     "data": {
      "text/plain": [
       "class: RangedSummarizedExperiment \n",
       "dim: 60660 448 \n",
       "metadata(1): data_release\n",
       "assays(6): unstranded stranded_first ... fpkm_unstrand fpkm_uq_unstrand\n",
       "rownames(60660): ENSG00000000003.15 ENSG00000000005.6 ...\n",
       "  ENSG00000288674.1 ENSG00000288675.1\n",
       "rowData names(10): source type ... hgnc_id havana_gene\n",
       "colnames(448): TCGA-CG-4444-01A-01R-1157-13\n",
       "  TCGA-BR-8059-01A-11R-2343-13 ... TCGA-D7-A6EV-01A-11R-A31P-31\n",
       "  TCGA-FP-8209-01A-11R-2343-13\n",
       "colData names(113): barcode patient ... paper_CIMP.Category\n",
       "  paper_stringAsFactor"
      ]
     },
     "metadata": {},
     "output_type": "display_data"
    },
    {
     "data": {
      "text/html": [
       "'RangedSummarizedExperiment object of length 60660 with 10 metadata columns'"
      ],
      "text/latex": [
       "'RangedSummarizedExperiment object of length 60660 with 10 metadata columns'"
      ],
      "text/markdown": [
       "'RangedSummarizedExperiment object of length 60660 with 10 metadata columns'"
      ],
      "text/plain": [
       "[1] \"RangedSummarizedExperiment object of length 60660 with 10 metadata columns\""
      ]
     },
     "metadata": {},
     "output_type": "display_data"
    }
   ],
   "source": [
    "# load in data (data was previously downloaded using the TCGAbiolinks package in R and saved as an RDS object)\n",
    "TCGA_STAD <- readRDS(\"TCGA_STAD.rds\")\n",
    "TCGA_STAD\n",
    "summary(TCGA_STAD)"
   ]
  },
  {
   "cell_type": "code",
   "execution_count": 5,
   "metadata": {
    "vscode": {
     "languageId": "r"
    }
   },
   "outputs": [
    {
     "data": {
      "text/html": [
       "<style>\n",
       ".list-inline {list-style: none; margin:0; padding: 0}\n",
       ".list-inline>li {display: inline-block}\n",
       ".list-inline>li:not(:last-child)::after {content: \"\\00b7\"; padding: 0 .5ex}\n",
       "</style>\n",
       "<ol class=list-inline><li>'Primary Tumor'</li><li>'Solid Tissue Normal'</li></ol>\n"
      ],
      "text/latex": [
       "\\begin{enumerate*}\n",
       "\\item 'Primary Tumor'\n",
       "\\item 'Solid Tissue Normal'\n",
       "\\end{enumerate*}\n"
      ],
      "text/markdown": [
       "1. 'Primary Tumor'\n",
       "2. 'Solid Tissue Normal'\n",
       "\n",
       "\n"
      ],
      "text/plain": [
       "[1] \"Primary Tumor\"       \"Solid Tissue Normal\""
      ]
     },
     "metadata": {},
     "output_type": "display_data"
    }
   ],
   "source": [
    "unique(TCGA_STAD$sample_type)"
   ]
  },
  {
   "cell_type": "code",
   "execution_count": 6,
   "metadata": {
    "vscode": {
     "languageId": "r"
    }
   },
   "outputs": [
    {
     "data": {
      "text/plain": [
       "\n",
       "      Primary Tumor Solid Tissue Normal \n",
       "                412                  36 "
      ]
     },
     "metadata": {},
     "output_type": "display_data"
    }
   ],
   "source": [
    "table(colData(TCGA_STAD)$sample_type)"
   ]
  },
  {
   "cell_type": "code",
   "execution_count": 7,
   "metadata": {
    "vscode": {
     "languageId": "r"
    }
   },
   "outputs": [],
   "source": [
    "# Subset object\n",
    "primary <- TCGA_STAD[, colData(TCGA_STAD)$sample_type == \"Primary Tumor\"]"
   ]
  },
  {
   "cell_type": "code",
   "execution_count": 8,
   "metadata": {
    "vscode": {
     "languageId": "r"
    }
   },
   "outputs": [
    {
     "data": {
      "text/plain": [
       "\n",
       "Primary Tumor \n",
       "          412 "
      ]
     },
     "metadata": {},
     "output_type": "display_data"
    }
   ],
   "source": [
    "table(colData(primary)$sample_type)"
   ]
  },
  {
   "cell_type": "code",
   "execution_count": 9,
   "metadata": {
    "vscode": {
     "languageId": "r"
    }
   },
   "outputs": [
    {
     "data": {
      "text/html": [
       "'RangedSummarizedExperiment object of length 60660 with 10 metadata columns'"
      ],
      "text/latex": [
       "'RangedSummarizedExperiment object of length 60660 with 10 metadata columns'"
      ],
      "text/markdown": [
       "'RangedSummarizedExperiment object of length 60660 with 10 metadata columns'"
      ],
      "text/plain": [
       "[1] \"RangedSummarizedExperiment object of length 60660 with 10 metadata columns\""
      ]
     },
     "metadata": {},
     "output_type": "display_data"
    }
   ],
   "source": [
    "summary(primary)"
   ]
  },
  {
   "cell_type": "code",
   "execution_count": 10,
   "metadata": {
    "vscode": {
     "languageId": "r"
    }
   },
   "outputs": [],
   "source": [
    "#define SSGSEA Function\n",
    "#function from https://rpubs.com/pranali018/SSGSEA  \n",
    "\n",
    "ssgsea = function(X, gene_sets, alpha = 0.25, scale = T, norm = F, single = T) {\n",
    "  row_names = rownames(X)\n",
    "  num_genes = nrow(X)\n",
    "  gene_sets = lapply(gene_sets, function(genes) {which(row_names %in% genes)})\n",
    "  \n",
    "  # Ranks for genes\n",
    "  R = matrixStats::colRanks(X, preserveShape = T, ties.method = 'average')\n",
    "  \n",
    "  # Calculate enrichment score (es) for each sample (column)\n",
    "  es = apply(R, 2, function(R_col) {\n",
    "    gene_ranks = order(R_col, decreasing = TRUE)\n",
    "    \n",
    "    # Calc es for each gene set\n",
    "    es_sample = sapply(gene_sets, function(gene_set_idx) {\n",
    "      # pos: match (within the gene set)\n",
    "      # neg: non-match (outside the gene set)\n",
    "      indicator_pos = gene_ranks %in% gene_set_idx\n",
    "      indicator_neg = !indicator_pos\n",
    "      \n",
    "      rank_alpha  = (R_col[gene_ranks] * indicator_pos) ^ alpha\n",
    "      \n",
    "      step_cdf_pos = cumsum(rank_alpha)    / sum(rank_alpha)\n",
    "      step_cdf_neg = cumsum(indicator_neg) / sum(indicator_neg)\n",
    "      \n",
    "      step_cdf_diff = step_cdf_pos - step_cdf_neg\n",
    "      \n",
    "      # Normalize by gene number\n",
    "      if (scale) step_cdf_diff = step_cdf_diff / num_genes\n",
    "      \n",
    "      # Use ssGSEA or not\n",
    "      if (single) {\n",
    "        sum(step_cdf_diff)\n",
    "      } else {\n",
    "        step_cdf_diff[which.max(abs(step_cdf_diff))]\n",
    "      }\n",
    "    })\n",
    "    unlist(es_sample)\n",
    "  })\n",
    "  \n",
    "  if (length(gene_sets) == 1) es = matrix(es, nrow = 1)\n",
    "  \n",
    "  # Normalize by absolute diff between max and min\n",
    "  if (norm) es = es / diff(range(es))\n",
    "  \n",
    "  # Prepare output\n",
    "  rownames(es) = names(gene_sets)\n",
    "  colnames(es) = colnames(X)\n",
    "  return(es)\n",
    "}\n"
   ]
  },
  {
   "cell_type": "code",
   "execution_count": 11,
   "metadata": {
    "vscode": {
     "languageId": "r"
    }
   },
   "outputs": [
    {
     "data": {
      "text/plain": [
       "List of length 6\n",
       "names(6): unstranded stranded_first ... fpkm_unstrand fpkm_uq_unstrand"
      ]
     },
     "metadata": {},
     "output_type": "display_data"
    }
   ],
   "source": [
    "#view the different assays stored\n",
    "assays(primary)"
   ]
  },
  {
   "cell_type": "code",
   "execution_count": 12,
   "metadata": {
    "vscode": {
     "languageId": "r"
    }
   },
   "outputs": [
    {
     "data": {
      "text/html": [
       "<style>\n",
       ".list-inline {list-style: none; margin:0; padding: 0}\n",
       ".list-inline>li {display: inline-block}\n",
       ".list-inline>li:not(:last-child)::after {content: \"\\00b7\"; padding: 0 .5ex}\n",
       "</style>\n",
       "<ol class=list-inline><li>60660</li><li>412</li></ol>\n"
      ],
      "text/latex": [
       "\\begin{enumerate*}\n",
       "\\item 60660\n",
       "\\item 412\n",
       "\\end{enumerate*}\n"
      ],
      "text/markdown": [
       "1. 60660\n",
       "2. 412\n",
       "\n",
       "\n"
      ],
      "text/plain": [
       "[1] 60660   412"
      ]
     },
     "metadata": {},
     "output_type": "display_data"
    },
    {
     "data": {
      "text/html": [
       "<table class=\"dataframe\">\n",
       "<caption>A matrix: 3 × 3 of type dbl</caption>\n",
       "<thead>\n",
       "\t<tr><th></th><th scope=col>TCGA-CG-4444-01A-01R-1157-13</th><th scope=col>TCGA-BR-8059-01A-11R-2343-13</th><th scope=col>TCGA-CG-4438-01A-01R-1157-13</th></tr>\n",
       "</thead>\n",
       "<tbody>\n",
       "\t<tr><th scope=row>ENSG00000000003.15</th><td> 22.2407</td><td>19.6335</td><td> 55.6124</td></tr>\n",
       "\t<tr><th scope=row>ENSG00000000005.6</th><td>  0.0624</td><td> 0.0000</td><td>  0.2615</td></tr>\n",
       "\t<tr><th scope=row>ENSG00000000419.13</th><td>143.5403</td><td>79.6231</td><td>326.7389</td></tr>\n",
       "</tbody>\n",
       "</table>\n"
      ],
      "text/latex": [
       "A matrix: 3 × 3 of type dbl\n",
       "\\begin{tabular}{r|lll}\n",
       "  & TCGA-CG-4444-01A-01R-1157-13 & TCGA-BR-8059-01A-11R-2343-13 & TCGA-CG-4438-01A-01R-1157-13\\\\\n",
       "\\hline\n",
       "\tENSG00000000003.15 &  22.2407 & 19.6335 &  55.6124\\\\\n",
       "\tENSG00000000005.6 &   0.0624 &  0.0000 &   0.2615\\\\\n",
       "\tENSG00000000419.13 & 143.5403 & 79.6231 & 326.7389\\\\\n",
       "\\end{tabular}\n"
      ],
      "text/markdown": [
       "\n",
       "A matrix: 3 × 3 of type dbl\n",
       "\n",
       "| <!--/--> | TCGA-CG-4444-01A-01R-1157-13 | TCGA-BR-8059-01A-11R-2343-13 | TCGA-CG-4438-01A-01R-1157-13 |\n",
       "|---|---|---|---|\n",
       "| ENSG00000000003.15 |  22.2407 | 19.6335 |  55.6124 |\n",
       "| ENSG00000000005.6 |   0.0624 |  0.0000 |   0.2615 |\n",
       "| ENSG00000000419.13 | 143.5403 | 79.6231 | 326.7389 |\n",
       "\n"
      ],
      "text/plain": [
       "                   TCGA-CG-4444-01A-01R-1157-13 TCGA-BR-8059-01A-11R-2343-13\n",
       "ENSG00000000003.15  22.2407                     19.6335                     \n",
       "ENSG00000000005.6    0.0624                      0.0000                     \n",
       "ENSG00000000419.13 143.5403                     79.6231                     \n",
       "                   TCGA-CG-4438-01A-01R-1157-13\n",
       "ENSG00000000003.15  55.6124                    \n",
       "ENSG00000000005.6    0.2615                    \n",
       "ENSG00000000419.13 326.7389                    "
      ]
     },
     "metadata": {},
     "output_type": "display_data"
    }
   ],
   "source": [
    "#for this analysis using the tpm_unstrand assay \n",
    "dim(assays(primary)$tpm_unstrand)\n",
    "#set data to tpm_unstand assay for this analysis\n",
    "data <- assays(primary)$tpm_unstrand\n",
    "#view data\n",
    "data[1:3,1:3]"
   ]
  },
  {
   "cell_type": "code",
   "execution_count": 13,
   "metadata": {
    "vscode": {
     "languageId": "r"
    }
   },
   "outputs": [],
   "source": [
    "#convert to matrix\n",
    "data = as.matrix(data)"
   ]
  },
  {
   "cell_type": "code",
   "execution_count": 14,
   "metadata": {
    "vscode": {
     "languageId": "r"
    }
   },
   "outputs": [
    {
     "data": {
      "text/html": [
       "<strong>$gene_id</strong> = <style>\n",
       ".list-inline {list-style: none; margin:0; padding: 0}\n",
       ".list-inline>li {display: inline-block}\n",
       ".list-inline>li:not(:last-child)::after {content: \"\\00b7\"; padding: 0 .5ex}\n",
       "</style>\n",
       "<ol class=list-inline><li>'ENSG00000102962.5'</li><li>'ENSG00000104951.16'</li><li>'ENSG00000198053.12'</li><li>'ENSG00000126353.3'</li><li>'ENSG00000171310.11'</li><li>'ENSG00000180758.12'</li><li>'ENSG00000090104.12'</li><li>'ENSG00000023445.16'</li><li>'ENSG00000056558.11'</li><li>'ENSG00000198223.17'</li><li>'ENSG00000107021.16'</li><li>'ENSG00000078081.8'</li><li>'ENSG00000118242.16'</li><li>'ENSG00000167641.11'</li><li>'ENSG00000198369.10'</li><li>'ENSG00000112149.10'</li><li>'ENSG00000136810.13'</li><li>'ENSG00000172081.14'</li><li>'ENSG00000109320.13'</li><li>'ENSG00000136111.14'</li><li>'ENSG00000123374.11'</li><li>'ENSG00000261040.7'</li><li>'ENSG00000047365.12'</li><li>'ENSG00000160445.11'</li><li>'ENSG00000151726.15'</li><li>'ENSG00000167642.13'</li><li>'ENSG00000161011.20'</li><li>'ENSG00000204634.13'</li><li>'ENSG00000101384.12'</li><li>'ENSG00000278834.1'</li><li>'ENSG00000156127.8'</li><li>'ENSG00000117036.12'</li><li>'ENSG00000171791.14'</li><li>'ENSG00000068796.19'</li><li>'ENSG00000075618.18'</li><li>'ENSG00000118503.15'</li><li>'ENSG00000160050.15'</li><li>'ENSG00000119508.18'</li><li>'ENSG00000115165.10'</li><li>'ENSG00000115956.10'</li><li>'ENSG00000150907.10'</li><li>'ENSG00000025772.8'</li><li>'ENSG00000135148.12'</li><li>'ENSG00000101445.10'</li><li>'ENSG00000121966.7'</li><li>'ENSG00000101017.14'</li><li>'ENSG00000198018.7'</li><li>'ENSG00000124762.14'</li><li>'ENSG00000015475.19'</li><li>'ENSG00000277443.3'</li><li>'ENSG00000138166.6'</li><li>'ENSG00000071054.16'</li><li>'ENSG00000171552.14'</li><li>'ENSG00000172183.15'</li><li>'ENSG00000145860.12'</li><li>'ENSG00000137522.18'</li><li>'ENSG00000183484.12'</li><li>'ENSG00000138670.18'</li><li>'ENSG00000197872.11'</li><li>'ENSG00000084733.11'</li><li>'ENSG00000172292.15'</li><li>'ENSG00000115594.12'</li><li>'ENSG00000101109.12'</li><li>'ENSG00000069493.15'</li><li>'ENSG00000217801.10'</li><li>'ENSG00000177311.11'</li><li>'ENSG00000159128.15'</li><li>'ENSG00000120217.14'</li><li>'ENSG00000136052.9'</li><li>'ENSG00000118257.17'</li><li>'ENSG00000164236.12'</li><li>'ENSG00000169508.7'</li><li>'ENSG00000163389.12'</li><li>'ENSG00000128271.22'</li><li>'ENSG00000102221.14'</li><li>'ENSG00000131773.14'</li><li>'ENSG00000168036.18'</li><li>'ENSG00000137571.11'</li><li>'ENSG00000077150.20'</li><li>'ENSG00000116741.8'</li><li>'ENSG00000106803.10'</li><li>'ENSG00000186187.12'</li><li>'ENSG00000104856.14'</li><li>'ENSG00000151131.11'</li><li>'ENSG00000168310.11'</li><li>'ENSG00000273604.2'</li><li>'ENSG00000059728.11'</li><li>'ENSG00000111540.16'</li><li>'ENSG00000117115.13'</li><li>'ENSG00000136048.14'</li><li>'ENSG00000108389.9'</li><li>'ENSG00000103319.12'</li><li>'ENSG00000111846.19'</li><li>'ENSG00000173166.18'</li><li>'ENSG00000140379.9'</li><li>'ENSG00000101310.17'</li><li>'ENSG00000198355.5'</li><li>'ENSG00000163297.17'</li><li>'ENSG00000166016.6'</li><li>'ENSG00000164484.12'</li></ol>\n"
      ],
      "text/latex": [
       "\\textbf{\\$gene\\_id} = \\begin{enumerate*}\n",
       "\\item 'ENSG00000102962.5'\n",
       "\\item 'ENSG00000104951.16'\n",
       "\\item 'ENSG00000198053.12'\n",
       "\\item 'ENSG00000126353.3'\n",
       "\\item 'ENSG00000171310.11'\n",
       "\\item 'ENSG00000180758.12'\n",
       "\\item 'ENSG00000090104.12'\n",
       "\\item 'ENSG00000023445.16'\n",
       "\\item 'ENSG00000056558.11'\n",
       "\\item 'ENSG00000198223.17'\n",
       "\\item 'ENSG00000107021.16'\n",
       "\\item 'ENSG00000078081.8'\n",
       "\\item 'ENSG00000118242.16'\n",
       "\\item 'ENSG00000167641.11'\n",
       "\\item 'ENSG00000198369.10'\n",
       "\\item 'ENSG00000112149.10'\n",
       "\\item 'ENSG00000136810.13'\n",
       "\\item 'ENSG00000172081.14'\n",
       "\\item 'ENSG00000109320.13'\n",
       "\\item 'ENSG00000136111.14'\n",
       "\\item 'ENSG00000123374.11'\n",
       "\\item 'ENSG00000261040.7'\n",
       "\\item 'ENSG00000047365.12'\n",
       "\\item 'ENSG00000160445.11'\n",
       "\\item 'ENSG00000151726.15'\n",
       "\\item 'ENSG00000167642.13'\n",
       "\\item 'ENSG00000161011.20'\n",
       "\\item 'ENSG00000204634.13'\n",
       "\\item 'ENSG00000101384.12'\n",
       "\\item 'ENSG00000278834.1'\n",
       "\\item 'ENSG00000156127.8'\n",
       "\\item 'ENSG00000117036.12'\n",
       "\\item 'ENSG00000171791.14'\n",
       "\\item 'ENSG00000068796.19'\n",
       "\\item 'ENSG00000075618.18'\n",
       "\\item 'ENSG00000118503.15'\n",
       "\\item 'ENSG00000160050.15'\n",
       "\\item 'ENSG00000119508.18'\n",
       "\\item 'ENSG00000115165.10'\n",
       "\\item 'ENSG00000115956.10'\n",
       "\\item 'ENSG00000150907.10'\n",
       "\\item 'ENSG00000025772.8'\n",
       "\\item 'ENSG00000135148.12'\n",
       "\\item 'ENSG00000101445.10'\n",
       "\\item 'ENSG00000121966.7'\n",
       "\\item 'ENSG00000101017.14'\n",
       "\\item 'ENSG00000198018.7'\n",
       "\\item 'ENSG00000124762.14'\n",
       "\\item 'ENSG00000015475.19'\n",
       "\\item 'ENSG00000277443.3'\n",
       "\\item 'ENSG00000138166.6'\n",
       "\\item 'ENSG00000071054.16'\n",
       "\\item 'ENSG00000171552.14'\n",
       "\\item 'ENSG00000172183.15'\n",
       "\\item 'ENSG00000145860.12'\n",
       "\\item 'ENSG00000137522.18'\n",
       "\\item 'ENSG00000183484.12'\n",
       "\\item 'ENSG00000138670.18'\n",
       "\\item 'ENSG00000197872.11'\n",
       "\\item 'ENSG00000084733.11'\n",
       "\\item 'ENSG00000172292.15'\n",
       "\\item 'ENSG00000115594.12'\n",
       "\\item 'ENSG00000101109.12'\n",
       "\\item 'ENSG00000069493.15'\n",
       "\\item 'ENSG00000217801.10'\n",
       "\\item 'ENSG00000177311.11'\n",
       "\\item 'ENSG00000159128.15'\n",
       "\\item 'ENSG00000120217.14'\n",
       "\\item 'ENSG00000136052.9'\n",
       "\\item 'ENSG00000118257.17'\n",
       "\\item 'ENSG00000164236.12'\n",
       "\\item 'ENSG00000169508.7'\n",
       "\\item 'ENSG00000163389.12'\n",
       "\\item 'ENSG00000128271.22'\n",
       "\\item 'ENSG00000102221.14'\n",
       "\\item 'ENSG00000131773.14'\n",
       "\\item 'ENSG00000168036.18'\n",
       "\\item 'ENSG00000137571.11'\n",
       "\\item 'ENSG00000077150.20'\n",
       "\\item 'ENSG00000116741.8'\n",
       "\\item 'ENSG00000106803.10'\n",
       "\\item 'ENSG00000186187.12'\n",
       "\\item 'ENSG00000104856.14'\n",
       "\\item 'ENSG00000151131.11'\n",
       "\\item 'ENSG00000168310.11'\n",
       "\\item 'ENSG00000273604.2'\n",
       "\\item 'ENSG00000059728.11'\n",
       "\\item 'ENSG00000111540.16'\n",
       "\\item 'ENSG00000117115.13'\n",
       "\\item 'ENSG00000136048.14'\n",
       "\\item 'ENSG00000108389.9'\n",
       "\\item 'ENSG00000103319.12'\n",
       "\\item 'ENSG00000111846.19'\n",
       "\\item 'ENSG00000173166.18'\n",
       "\\item 'ENSG00000140379.9'\n",
       "\\item 'ENSG00000101310.17'\n",
       "\\item 'ENSG00000198355.5'\n",
       "\\item 'ENSG00000163297.17'\n",
       "\\item 'ENSG00000166016.6'\n",
       "\\item 'ENSG00000164484.12'\n",
       "\\end{enumerate*}\n"
      ],
      "text/markdown": [
       "**$gene_id** = 1. 'ENSG00000102962.5'\n",
       "2. 'ENSG00000104951.16'\n",
       "3. 'ENSG00000198053.12'\n",
       "4. 'ENSG00000126353.3'\n",
       "5. 'ENSG00000171310.11'\n",
       "6. 'ENSG00000180758.12'\n",
       "7. 'ENSG00000090104.12'\n",
       "8. 'ENSG00000023445.16'\n",
       "9. 'ENSG00000056558.11'\n",
       "10. 'ENSG00000198223.17'\n",
       "11. 'ENSG00000107021.16'\n",
       "12. 'ENSG00000078081.8'\n",
       "13. 'ENSG00000118242.16'\n",
       "14. 'ENSG00000167641.11'\n",
       "15. 'ENSG00000198369.10'\n",
       "16. 'ENSG00000112149.10'\n",
       "17. 'ENSG00000136810.13'\n",
       "18. 'ENSG00000172081.14'\n",
       "19. 'ENSG00000109320.13'\n",
       "20. 'ENSG00000136111.14'\n",
       "21. 'ENSG00000123374.11'\n",
       "22. 'ENSG00000261040.7'\n",
       "23. 'ENSG00000047365.12'\n",
       "24. 'ENSG00000160445.11'\n",
       "25. 'ENSG00000151726.15'\n",
       "26. 'ENSG00000167642.13'\n",
       "27. 'ENSG00000161011.20'\n",
       "28. 'ENSG00000204634.13'\n",
       "29. 'ENSG00000101384.12'\n",
       "30. 'ENSG00000278834.1'\n",
       "31. 'ENSG00000156127.8'\n",
       "32. 'ENSG00000117036.12'\n",
       "33. 'ENSG00000171791.14'\n",
       "34. 'ENSG00000068796.19'\n",
       "35. 'ENSG00000075618.18'\n",
       "36. 'ENSG00000118503.15'\n",
       "37. 'ENSG00000160050.15'\n",
       "38. 'ENSG00000119508.18'\n",
       "39. 'ENSG00000115165.10'\n",
       "40. 'ENSG00000115956.10'\n",
       "41. 'ENSG00000150907.10'\n",
       "42. 'ENSG00000025772.8'\n",
       "43. 'ENSG00000135148.12'\n",
       "44. 'ENSG00000101445.10'\n",
       "45. 'ENSG00000121966.7'\n",
       "46. 'ENSG00000101017.14'\n",
       "47. 'ENSG00000198018.7'\n",
       "48. 'ENSG00000124762.14'\n",
       "49. 'ENSG00000015475.19'\n",
       "50. 'ENSG00000277443.3'\n",
       "51. 'ENSG00000138166.6'\n",
       "52. 'ENSG00000071054.16'\n",
       "53. 'ENSG00000171552.14'\n",
       "54. 'ENSG00000172183.15'\n",
       "55. 'ENSG00000145860.12'\n",
       "56. 'ENSG00000137522.18'\n",
       "57. 'ENSG00000183484.12'\n",
       "58. 'ENSG00000138670.18'\n",
       "59. 'ENSG00000197872.11'\n",
       "60. 'ENSG00000084733.11'\n",
       "61. 'ENSG00000172292.15'\n",
       "62. 'ENSG00000115594.12'\n",
       "63. 'ENSG00000101109.12'\n",
       "64. 'ENSG00000069493.15'\n",
       "65. 'ENSG00000217801.10'\n",
       "66. 'ENSG00000177311.11'\n",
       "67. 'ENSG00000159128.15'\n",
       "68. 'ENSG00000120217.14'\n",
       "69. 'ENSG00000136052.9'\n",
       "70. 'ENSG00000118257.17'\n",
       "71. 'ENSG00000164236.12'\n",
       "72. 'ENSG00000169508.7'\n",
       "73. 'ENSG00000163389.12'\n",
       "74. 'ENSG00000128271.22'\n",
       "75. 'ENSG00000102221.14'\n",
       "76. 'ENSG00000131773.14'\n",
       "77. 'ENSG00000168036.18'\n",
       "78. 'ENSG00000137571.11'\n",
       "79. 'ENSG00000077150.20'\n",
       "80. 'ENSG00000116741.8'\n",
       "81. 'ENSG00000106803.10'\n",
       "82. 'ENSG00000186187.12'\n",
       "83. 'ENSG00000104856.14'\n",
       "84. 'ENSG00000151131.11'\n",
       "85. 'ENSG00000168310.11'\n",
       "86. 'ENSG00000273604.2'\n",
       "87. 'ENSG00000059728.11'\n",
       "88. 'ENSG00000111540.16'\n",
       "89. 'ENSG00000117115.13'\n",
       "90. 'ENSG00000136048.14'\n",
       "91. 'ENSG00000108389.9'\n",
       "92. 'ENSG00000103319.12'\n",
       "93. 'ENSG00000111846.19'\n",
       "94. 'ENSG00000173166.18'\n",
       "95. 'ENSG00000140379.9'\n",
       "96. 'ENSG00000101310.17'\n",
       "97. 'ENSG00000198355.5'\n",
       "98. 'ENSG00000163297.17'\n",
       "99. 'ENSG00000166016.6'\n",
       "100. 'ENSG00000164484.12'\n",
       "\n",
       "\n"
      ],
      "text/plain": [
       "$gene_id\n",
       "  [1] \"ENSG00000102962.5\"  \"ENSG00000104951.16\" \"ENSG00000198053.12\"\n",
       "  [4] \"ENSG00000126353.3\"  \"ENSG00000171310.11\" \"ENSG00000180758.12\"\n",
       "  [7] \"ENSG00000090104.12\" \"ENSG00000023445.16\" \"ENSG00000056558.11\"\n",
       " [10] \"ENSG00000198223.17\" \"ENSG00000107021.16\" \"ENSG00000078081.8\" \n",
       " [13] \"ENSG00000118242.16\" \"ENSG00000167641.11\" \"ENSG00000198369.10\"\n",
       " [16] \"ENSG00000112149.10\" \"ENSG00000136810.13\" \"ENSG00000172081.14\"\n",
       " [19] \"ENSG00000109320.13\" \"ENSG00000136111.14\" \"ENSG00000123374.11\"\n",
       " [22] \"ENSG00000261040.7\"  \"ENSG00000047365.12\" \"ENSG00000160445.11\"\n",
       " [25] \"ENSG00000151726.15\" \"ENSG00000167642.13\" \"ENSG00000161011.20\"\n",
       " [28] \"ENSG00000204634.13\" \"ENSG00000101384.12\" \"ENSG00000278834.1\" \n",
       " [31] \"ENSG00000156127.8\"  \"ENSG00000117036.12\" \"ENSG00000171791.14\"\n",
       " [34] \"ENSG00000068796.19\" \"ENSG00000075618.18\" \"ENSG00000118503.15\"\n",
       " [37] \"ENSG00000160050.15\" \"ENSG00000119508.18\" \"ENSG00000115165.10\"\n",
       " [40] \"ENSG00000115956.10\" \"ENSG00000150907.10\" \"ENSG00000025772.8\" \n",
       " [43] \"ENSG00000135148.12\" \"ENSG00000101445.10\" \"ENSG00000121966.7\" \n",
       " [46] \"ENSG00000101017.14\" \"ENSG00000198018.7\"  \"ENSG00000124762.14\"\n",
       " [49] \"ENSG00000015475.19\" \"ENSG00000277443.3\"  \"ENSG00000138166.6\" \n",
       " [52] \"ENSG00000071054.16\" \"ENSG00000171552.14\" \"ENSG00000172183.15\"\n",
       " [55] \"ENSG00000145860.12\" \"ENSG00000137522.18\" \"ENSG00000183484.12\"\n",
       " [58] \"ENSG00000138670.18\" \"ENSG00000197872.11\" \"ENSG00000084733.11\"\n",
       " [61] \"ENSG00000172292.15\" \"ENSG00000115594.12\" \"ENSG00000101109.12\"\n",
       " [64] \"ENSG00000069493.15\" \"ENSG00000217801.10\" \"ENSG00000177311.11\"\n",
       " [67] \"ENSG00000159128.15\" \"ENSG00000120217.14\" \"ENSG00000136052.9\" \n",
       " [70] \"ENSG00000118257.17\" \"ENSG00000164236.12\" \"ENSG00000169508.7\" \n",
       " [73] \"ENSG00000163389.12\" \"ENSG00000128271.22\" \"ENSG00000102221.14\"\n",
       " [76] \"ENSG00000131773.14\" \"ENSG00000168036.18\" \"ENSG00000137571.11\"\n",
       " [79] \"ENSG00000077150.20\" \"ENSG00000116741.8\"  \"ENSG00000106803.10\"\n",
       " [82] \"ENSG00000186187.12\" \"ENSG00000104856.14\" \"ENSG00000151131.11\"\n",
       " [85] \"ENSG00000168310.11\" \"ENSG00000273604.2\"  \"ENSG00000059728.11\"\n",
       " [88] \"ENSG00000111540.16\" \"ENSG00000117115.13\" \"ENSG00000136048.14\"\n",
       " [91] \"ENSG00000108389.9\"  \"ENSG00000103319.12\" \"ENSG00000111846.19\"\n",
       " [94] \"ENSG00000173166.18\" \"ENSG00000140379.9\"  \"ENSG00000101310.17\"\n",
       " [97] \"ENSG00000198355.5\"  \"ENSG00000163297.17\" \"ENSG00000166016.6\" \n",
       "[100] \"ENSG00000164484.12\"\n"
      ]
     },
     "metadata": {},
     "output_type": "display_data"
    }
   ],
   "source": [
    "#load in my signature and make it a list (edit this to any signature)\n",
    "sig <- fread(\"ag_pos_vs_dll1_deg_limma.csv\", select = c(\"gene_id\"))\n",
    "sig <- sig[1:100,]\n",
    "sig = as.list(as.data.frame(sig))\n",
    "head(sig)"
   ]
  },
  {
   "cell_type": "code",
   "execution_count": 15,
   "metadata": {
    "vscode": {
     "languageId": "r"
    }
   },
   "outputs": [
    {
     "data": {
      "text/plain": [
       "   user  system elapsed \n",
       "  4.290   0.553   4.867 "
      ]
     },
     "metadata": {},
     "output_type": "display_data"
    }
   ],
   "source": [
    "#Run ssGSEA function\n",
    "#ssgsea: https://rpubs.com/pranali018/SSGSEA\n",
    "system.time(assign('res', ssgsea(data, sig, scale = TRUE, norm = FALSE)))"
   ]
  },
  {
   "cell_type": "code",
   "execution_count": 16,
   "metadata": {
    "vscode": {
     "languageId": "r"
    }
   },
   "outputs": [
    {
     "data": {
      "text/html": [
       "<table class=\"dataframe\">\n",
       "<caption>A matrix: 6 × 1 of type dbl</caption>\n",
       "<thead>\n",
       "\t<tr><th></th><th scope=col>gene_id</th></tr>\n",
       "</thead>\n",
       "<tbody>\n",
       "\t<tr><th scope=row>TCGA-CG-4444-01A-01R-1157-13</th><td>0.3851515</td></tr>\n",
       "\t<tr><th scope=row>TCGA-BR-8059-01A-11R-2343-13</th><td>0.3796316</td></tr>\n",
       "\t<tr><th scope=row>TCGA-CG-4438-01A-01R-1157-13</th><td>0.3886858</td></tr>\n",
       "\t<tr><th scope=row>TCGA-VQ-A8PB-01A-11R-A39E-31</th><td>0.3791267</td></tr>\n",
       "\t<tr><th scope=row>TCGA-BR-6710-01A-11R-1884-13</th><td>0.3750840</td></tr>\n",
       "\t<tr><th scope=row>TCGA-FP-A4BF-01A-12R-A36D-31</th><td>0.3917383</td></tr>\n",
       "</tbody>\n",
       "</table>\n"
      ],
      "text/latex": [
       "A matrix: 6 × 1 of type dbl\n",
       "\\begin{tabular}{r|l}\n",
       "  & gene\\_id\\\\\n",
       "\\hline\n",
       "\tTCGA-CG-4444-01A-01R-1157-13 & 0.3851515\\\\\n",
       "\tTCGA-BR-8059-01A-11R-2343-13 & 0.3796316\\\\\n",
       "\tTCGA-CG-4438-01A-01R-1157-13 & 0.3886858\\\\\n",
       "\tTCGA-VQ-A8PB-01A-11R-A39E-31 & 0.3791267\\\\\n",
       "\tTCGA-BR-6710-01A-11R-1884-13 & 0.3750840\\\\\n",
       "\tTCGA-FP-A4BF-01A-12R-A36D-31 & 0.3917383\\\\\n",
       "\\end{tabular}\n"
      ],
      "text/markdown": [
       "\n",
       "A matrix: 6 × 1 of type dbl\n",
       "\n",
       "| <!--/--> | gene_id |\n",
       "|---|---|\n",
       "| TCGA-CG-4444-01A-01R-1157-13 | 0.3851515 |\n",
       "| TCGA-BR-8059-01A-11R-2343-13 | 0.3796316 |\n",
       "| TCGA-CG-4438-01A-01R-1157-13 | 0.3886858 |\n",
       "| TCGA-VQ-A8PB-01A-11R-A39E-31 | 0.3791267 |\n",
       "| TCGA-BR-6710-01A-11R-1884-13 | 0.3750840 |\n",
       "| TCGA-FP-A4BF-01A-12R-A36D-31 | 0.3917383 |\n",
       "\n"
      ],
      "text/plain": [
       "                             gene_id  \n",
       "TCGA-CG-4444-01A-01R-1157-13 0.3851515\n",
       "TCGA-BR-8059-01A-11R-2343-13 0.3796316\n",
       "TCGA-CG-4438-01A-01R-1157-13 0.3886858\n",
       "TCGA-VQ-A8PB-01A-11R-A39E-31 0.3791267\n",
       "TCGA-BR-6710-01A-11R-1884-13 0.3750840\n",
       "TCGA-FP-A4BF-01A-12R-A36D-31 0.3917383"
      ]
     },
     "metadata": {},
     "output_type": "display_data"
    }
   ],
   "source": [
    "#transpose results\n",
    "res1 = t(res)\n",
    "head(res1)"
   ]
  },
  {
   "cell_type": "code",
   "execution_count": 17,
   "metadata": {
    "vscode": {
     "languageId": "r"
    }
   },
   "outputs": [
    {
     "data": {
      "text/html": [
       "<style>\n",
       ".list-inline {list-style: none; margin:0; padding: 0}\n",
       ".list-inline>li {display: inline-block}\n",
       ".list-inline>li:not(:last-child)::after {content: \"\\00b7\"; padding: 0 .5ex}\n",
       "</style>\n",
       "<ol class=list-inline><li>1</li><li>412</li></ol>\n"
      ],
      "text/latex": [
       "\\begin{enumerate*}\n",
       "\\item 1\n",
       "\\item 412\n",
       "\\end{enumerate*}\n"
      ],
      "text/markdown": [
       "1. 1\n",
       "2. 412\n",
       "\n",
       "\n"
      ],
      "text/plain": [
       "[1]   1 412"
      ]
     },
     "metadata": {},
     "output_type": "display_data"
    },
    {
     "data": {
      "text/html": [
       "<style>\n",
       ".dl-inline {width: auto; margin:0; padding: 0}\n",
       ".dl-inline>dt, .dl-inline>dd {float: none; width: auto; display: inline-block}\n",
       ".dl-inline>dt::after {content: \":\\0020\"; padding-right: .5ex}\n",
       ".dl-inline>dt:not(:first-of-type) {padding-left: .5ex}\n",
       "</style><dl class=dl-inline><dt>TCGA-CG-4444-01A-01R-1157-13</dt><dd>0.385994472885903</dd><dt>TCGA-BR-8059-01A-11R-2343-13</dt><dd>-0.00767696874327805</dd><dt>TCGA-CG-4438-01A-01R-1157-13</dt><dd>0.638048306958052</dd><dt>TCGA-VQ-A8PB-01A-11R-A39E-31</dt><dd>-0.0436878150310487</dd><dt>TCGA-BR-6710-01A-11R-1884-13</dt><dd>-0.332004676598373</dd></dl>\n"
      ],
      "text/latex": [
       "\\begin{description*}\n",
       "\\item[TCGA-CG-4444-01A-01R-1157-13] 0.385994472885903\n",
       "\\item[TCGA-BR-8059-01A-11R-2343-13] -0.00767696874327805\n",
       "\\item[TCGA-CG-4438-01A-01R-1157-13] 0.638048306958052\n",
       "\\item[TCGA-VQ-A8PB-01A-11R-A39E-31] -0.0436878150310487\n",
       "\\item[TCGA-BR-6710-01A-11R-1884-13] -0.332004676598373\n",
       "\\end{description*}\n"
      ],
      "text/markdown": [
       "TCGA-CG-4444-01A-01R-1157-13\n",
       ":   0.385994472885903TCGA-BR-8059-01A-11R-2343-13\n",
       ":   -0.00767696874327805TCGA-CG-4438-01A-01R-1157-13\n",
       ":   0.638048306958052TCGA-VQ-A8PB-01A-11R-A39E-31\n",
       ":   -0.0436878150310487TCGA-BR-6710-01A-11R-1884-13\n",
       ":   -0.332004676598373\n",
       "\n"
      ],
      "text/plain": [
       "TCGA-CG-4444-01A-01R-1157-13 TCGA-BR-8059-01A-11R-2343-13 \n",
       "                 0.385994473                 -0.007676969 \n",
       "TCGA-CG-4438-01A-01R-1157-13 TCGA-VQ-A8PB-01A-11R-A39E-31 \n",
       "                 0.638048307                 -0.043687815 \n",
       "TCGA-BR-6710-01A-11R-1884-13 \n",
       "                -0.332004677 "
      ]
     },
     "metadata": {},
     "output_type": "display_data"
    }
   ],
   "source": [
    "#calculate mat (ssGSEA Z score - ssgsea output for comparative analysis)\n",
    "mat = (res - rowMeans(res))/(rowSds(as.matrix(res)))[row(res)]\n",
    "dim(mat)\n",
    "mat[1,1:5] "
   ]
  },
  {
   "cell_type": "markdown",
   "metadata": {},
   "source": [
    "#### at this point now have a score for each patient with how enriched that sample is for my signature, the ID here is the \"barcode\"\n",
    "* next want to see how this score correlates with survival etc"
   ]
  },
  {
   "cell_type": "code",
   "execution_count": 18,
   "metadata": {
    "vscode": {
     "languageId": "r"
    }
   },
   "outputs": [
    {
     "data": {
      "text/html": [
       "<style>\n",
       ".list-inline {list-style: none; margin:0; padding: 0}\n",
       ".list-inline>li {display: inline-block}\n",
       ".list-inline>li:not(:last-child)::after {content: \"\\00b7\"; padding: 0 .5ex}\n",
       "</style>\n",
       "<ol class=list-inline><li>'barcode'</li><li>'patient'</li><li>'sample'</li><li>'shortLetterCode'</li><li>'definition'</li><li>'sample_submitter_id'</li><li>'sample_type_id'</li><li>'tumor_descriptor'</li><li>'sample_id'</li><li>'sample_type'</li><li>'composition'</li><li>'days_to_collection'</li><li>'state'</li><li>'initial_weight'</li><li>'preservation_method'</li><li>'intermediate_dimension'</li><li>'pathology_report_uuid'</li><li>'submitter_id'</li><li>'shortest_dimension'</li><li>'oct_embedded'</li><li>'specimen_type'</li><li>'longest_dimension'</li><li>'is_ffpe'</li><li>'tissue_type'</li><li>'synchronous_malignancy'</li><li>'ajcc_pathologic_stage'</li><li>'days_to_diagnosis'</li><li>'treatments'</li><li>'last_known_disease_status'</li><li>'tissue_or_organ_of_origin'</li><li>'days_to_last_follow_up'</li><li>'age_at_diagnosis'</li><li>'primary_diagnosis'</li><li>'prior_malignancy'</li><li>'year_of_diagnosis'</li><li>'prior_treatment'</li><li>'ajcc_staging_system_edition'</li><li>'ajcc_pathologic_t'</li><li>'morphology'</li><li>'ajcc_pathologic_n'</li><li>'ajcc_pathologic_m'</li><li>'classification_of_tumor'</li><li>'diagnosis_id'</li><li>'icd_10_code'</li><li>'site_of_resection_or_biopsy'</li><li>'tumor_grade'</li><li>'progression_or_recurrence'</li><li>'alcohol_history'</li><li>'exposure_id'</li><li>'race'</li><li>'gender'</li><li>'ethnicity'</li><li>'vital_status'</li><li>'age_at_index'</li><li>'days_to_birth'</li><li>'year_of_birth'</li><li>'demographic_id'</li><li>'days_to_death'</li><li>'year_of_death'</li><li>'bcr_patient_barcode'</li><li>'primary_site'</li><li>'project_id'</li><li>'disease_type'</li><li>'name'</li><li>'releasable'</li><li>'released'</li><li>'paper_patient'</li><li>'paper_Lauren.Class'</li><li>'paper_Intestinal.Type.Subclass'</li><li>'paper_Signet.Ring'</li><li>'paper_WHO.Class'</li><li>'paper_Pathologic.T'</li><li>'paper_Pathologic.N'</li><li>'paper_Pathologic.M'</li><li>'paper_TNM.Stage'</li><li>'paper_Anatomic.Region'</li><li>'paper_Residual.Tumor'</li><li>'paper_Age.at.Initial.Diagnosis'</li><li>'paper_Country'</li><li>'paper_Gender'</li><li>'paper_Race'</li><li>'paper_Vital.Status'</li><li>'paper_Days.to.Last.Follow.up'</li><li>'paper_Days.to.Death'</li><li>'paper_Recurrence'</li><li>'paper_Days.to.Recurrence'</li><li>'paper_Molecular.Subtype'</li><li>'paper_Total.Mutation.Rate'</li><li>'paper_Hypermutated'</li><li>'paper_MLH1.Epigenetically.Silenced'</li><li>'paper_CDKN2A.Epigenetically.Silenced'</li><li>'paper_MSI.status'</li><li>'paper_EBV.positive'</li><li>'paper_TP53.mutation'</li><li>'paper_PIK3CA.mutation'</li><li>'paper_KRAS.mutation'</li><li>'paper_ARID1A.mutation'</li><li>'paper_RHOA.mutation'</li><li>'paper_ARHGAP26.ARHGAP6.CLDN18.Rearrangement'</li><li>'paper_MET.Skipped.Exon.2'</li><li>'paper_MET.Skipped.Exons.18.and.19'</li><li>'paper_ABSOLUTE.Ploidy'</li><li>'paper_ABSOLUTE.Purity'</li><li>'paper_Estimated.Leukocyte.Percentage'</li><li>'paper_Percent.Tumor.Nuclei'</li><li>'paper_Percent.Tumor.Cells'</li><li>'paper_Percent.Lymphocyte.Infiltration'</li><li>'paper_Gene.Expression.Cluster'</li><li>'paper_MicroRNA.Expression.Cluster'</li><li>'paper_Copy.Number.Cluster'</li><li>'paper_Methylation.Cluster'</li><li>'paper_CIMP.Category'</li><li>'paper_stringAsFactor'</li></ol>\n"
      ],
      "text/latex": [
       "\\begin{enumerate*}\n",
       "\\item 'barcode'\n",
       "\\item 'patient'\n",
       "\\item 'sample'\n",
       "\\item 'shortLetterCode'\n",
       "\\item 'definition'\n",
       "\\item 'sample\\_submitter\\_id'\n",
       "\\item 'sample\\_type\\_id'\n",
       "\\item 'tumor\\_descriptor'\n",
       "\\item 'sample\\_id'\n",
       "\\item 'sample\\_type'\n",
       "\\item 'composition'\n",
       "\\item 'days\\_to\\_collection'\n",
       "\\item 'state'\n",
       "\\item 'initial\\_weight'\n",
       "\\item 'preservation\\_method'\n",
       "\\item 'intermediate\\_dimension'\n",
       "\\item 'pathology\\_report\\_uuid'\n",
       "\\item 'submitter\\_id'\n",
       "\\item 'shortest\\_dimension'\n",
       "\\item 'oct\\_embedded'\n",
       "\\item 'specimen\\_type'\n",
       "\\item 'longest\\_dimension'\n",
       "\\item 'is\\_ffpe'\n",
       "\\item 'tissue\\_type'\n",
       "\\item 'synchronous\\_malignancy'\n",
       "\\item 'ajcc\\_pathologic\\_stage'\n",
       "\\item 'days\\_to\\_diagnosis'\n",
       "\\item 'treatments'\n",
       "\\item 'last\\_known\\_disease\\_status'\n",
       "\\item 'tissue\\_or\\_organ\\_of\\_origin'\n",
       "\\item 'days\\_to\\_last\\_follow\\_up'\n",
       "\\item 'age\\_at\\_diagnosis'\n",
       "\\item 'primary\\_diagnosis'\n",
       "\\item 'prior\\_malignancy'\n",
       "\\item 'year\\_of\\_diagnosis'\n",
       "\\item 'prior\\_treatment'\n",
       "\\item 'ajcc\\_staging\\_system\\_edition'\n",
       "\\item 'ajcc\\_pathologic\\_t'\n",
       "\\item 'morphology'\n",
       "\\item 'ajcc\\_pathologic\\_n'\n",
       "\\item 'ajcc\\_pathologic\\_m'\n",
       "\\item 'classification\\_of\\_tumor'\n",
       "\\item 'diagnosis\\_id'\n",
       "\\item 'icd\\_10\\_code'\n",
       "\\item 'site\\_of\\_resection\\_or\\_biopsy'\n",
       "\\item 'tumor\\_grade'\n",
       "\\item 'progression\\_or\\_recurrence'\n",
       "\\item 'alcohol\\_history'\n",
       "\\item 'exposure\\_id'\n",
       "\\item 'race'\n",
       "\\item 'gender'\n",
       "\\item 'ethnicity'\n",
       "\\item 'vital\\_status'\n",
       "\\item 'age\\_at\\_index'\n",
       "\\item 'days\\_to\\_birth'\n",
       "\\item 'year\\_of\\_birth'\n",
       "\\item 'demographic\\_id'\n",
       "\\item 'days\\_to\\_death'\n",
       "\\item 'year\\_of\\_death'\n",
       "\\item 'bcr\\_patient\\_barcode'\n",
       "\\item 'primary\\_site'\n",
       "\\item 'project\\_id'\n",
       "\\item 'disease\\_type'\n",
       "\\item 'name'\n",
       "\\item 'releasable'\n",
       "\\item 'released'\n",
       "\\item 'paper\\_patient'\n",
       "\\item 'paper\\_Lauren.Class'\n",
       "\\item 'paper\\_Intestinal.Type.Subclass'\n",
       "\\item 'paper\\_Signet.Ring'\n",
       "\\item 'paper\\_WHO.Class'\n",
       "\\item 'paper\\_Pathologic.T'\n",
       "\\item 'paper\\_Pathologic.N'\n",
       "\\item 'paper\\_Pathologic.M'\n",
       "\\item 'paper\\_TNM.Stage'\n",
       "\\item 'paper\\_Anatomic.Region'\n",
       "\\item 'paper\\_Residual.Tumor'\n",
       "\\item 'paper\\_Age.at.Initial.Diagnosis'\n",
       "\\item 'paper\\_Country'\n",
       "\\item 'paper\\_Gender'\n",
       "\\item 'paper\\_Race'\n",
       "\\item 'paper\\_Vital.Status'\n",
       "\\item 'paper\\_Days.to.Last.Follow.up'\n",
       "\\item 'paper\\_Days.to.Death'\n",
       "\\item 'paper\\_Recurrence'\n",
       "\\item 'paper\\_Days.to.Recurrence'\n",
       "\\item 'paper\\_Molecular.Subtype'\n",
       "\\item 'paper\\_Total.Mutation.Rate'\n",
       "\\item 'paper\\_Hypermutated'\n",
       "\\item 'paper\\_MLH1.Epigenetically.Silenced'\n",
       "\\item 'paper\\_CDKN2A.Epigenetically.Silenced'\n",
       "\\item 'paper\\_MSI.status'\n",
       "\\item 'paper\\_EBV.positive'\n",
       "\\item 'paper\\_TP53.mutation'\n",
       "\\item 'paper\\_PIK3CA.mutation'\n",
       "\\item 'paper\\_KRAS.mutation'\n",
       "\\item 'paper\\_ARID1A.mutation'\n",
       "\\item 'paper\\_RHOA.mutation'\n",
       "\\item 'paper\\_ARHGAP26.ARHGAP6.CLDN18.Rearrangement'\n",
       "\\item 'paper\\_MET.Skipped.Exon.2'\n",
       "\\item 'paper\\_MET.Skipped.Exons.18.and.19'\n",
       "\\item 'paper\\_ABSOLUTE.Ploidy'\n",
       "\\item 'paper\\_ABSOLUTE.Purity'\n",
       "\\item 'paper\\_Estimated.Leukocyte.Percentage'\n",
       "\\item 'paper\\_Percent.Tumor.Nuclei'\n",
       "\\item 'paper\\_Percent.Tumor.Cells'\n",
       "\\item 'paper\\_Percent.Lymphocyte.Infiltration'\n",
       "\\item 'paper\\_Gene.Expression.Cluster'\n",
       "\\item 'paper\\_MicroRNA.Expression.Cluster'\n",
       "\\item 'paper\\_Copy.Number.Cluster'\n",
       "\\item 'paper\\_Methylation.Cluster'\n",
       "\\item 'paper\\_CIMP.Category'\n",
       "\\item 'paper\\_stringAsFactor'\n",
       "\\end{enumerate*}\n"
      ],
      "text/markdown": [
       "1. 'barcode'\n",
       "2. 'patient'\n",
       "3. 'sample'\n",
       "4. 'shortLetterCode'\n",
       "5. 'definition'\n",
       "6. 'sample_submitter_id'\n",
       "7. 'sample_type_id'\n",
       "8. 'tumor_descriptor'\n",
       "9. 'sample_id'\n",
       "10. 'sample_type'\n",
       "11. 'composition'\n",
       "12. 'days_to_collection'\n",
       "13. 'state'\n",
       "14. 'initial_weight'\n",
       "15. 'preservation_method'\n",
       "16. 'intermediate_dimension'\n",
       "17. 'pathology_report_uuid'\n",
       "18. 'submitter_id'\n",
       "19. 'shortest_dimension'\n",
       "20. 'oct_embedded'\n",
       "21. 'specimen_type'\n",
       "22. 'longest_dimension'\n",
       "23. 'is_ffpe'\n",
       "24. 'tissue_type'\n",
       "25. 'synchronous_malignancy'\n",
       "26. 'ajcc_pathologic_stage'\n",
       "27. 'days_to_diagnosis'\n",
       "28. 'treatments'\n",
       "29. 'last_known_disease_status'\n",
       "30. 'tissue_or_organ_of_origin'\n",
       "31. 'days_to_last_follow_up'\n",
       "32. 'age_at_diagnosis'\n",
       "33. 'primary_diagnosis'\n",
       "34. 'prior_malignancy'\n",
       "35. 'year_of_diagnosis'\n",
       "36. 'prior_treatment'\n",
       "37. 'ajcc_staging_system_edition'\n",
       "38. 'ajcc_pathologic_t'\n",
       "39. 'morphology'\n",
       "40. 'ajcc_pathologic_n'\n",
       "41. 'ajcc_pathologic_m'\n",
       "42. 'classification_of_tumor'\n",
       "43. 'diagnosis_id'\n",
       "44. 'icd_10_code'\n",
       "45. 'site_of_resection_or_biopsy'\n",
       "46. 'tumor_grade'\n",
       "47. 'progression_or_recurrence'\n",
       "48. 'alcohol_history'\n",
       "49. 'exposure_id'\n",
       "50. 'race'\n",
       "51. 'gender'\n",
       "52. 'ethnicity'\n",
       "53. 'vital_status'\n",
       "54. 'age_at_index'\n",
       "55. 'days_to_birth'\n",
       "56. 'year_of_birth'\n",
       "57. 'demographic_id'\n",
       "58. 'days_to_death'\n",
       "59. 'year_of_death'\n",
       "60. 'bcr_patient_barcode'\n",
       "61. 'primary_site'\n",
       "62. 'project_id'\n",
       "63. 'disease_type'\n",
       "64. 'name'\n",
       "65. 'releasable'\n",
       "66. 'released'\n",
       "67. 'paper_patient'\n",
       "68. 'paper_Lauren.Class'\n",
       "69. 'paper_Intestinal.Type.Subclass'\n",
       "70. 'paper_Signet.Ring'\n",
       "71. 'paper_WHO.Class'\n",
       "72. 'paper_Pathologic.T'\n",
       "73. 'paper_Pathologic.N'\n",
       "74. 'paper_Pathologic.M'\n",
       "75. 'paper_TNM.Stage'\n",
       "76. 'paper_Anatomic.Region'\n",
       "77. 'paper_Residual.Tumor'\n",
       "78. 'paper_Age.at.Initial.Diagnosis'\n",
       "79. 'paper_Country'\n",
       "80. 'paper_Gender'\n",
       "81. 'paper_Race'\n",
       "82. 'paper_Vital.Status'\n",
       "83. 'paper_Days.to.Last.Follow.up'\n",
       "84. 'paper_Days.to.Death'\n",
       "85. 'paper_Recurrence'\n",
       "86. 'paper_Days.to.Recurrence'\n",
       "87. 'paper_Molecular.Subtype'\n",
       "88. 'paper_Total.Mutation.Rate'\n",
       "89. 'paper_Hypermutated'\n",
       "90. 'paper_MLH1.Epigenetically.Silenced'\n",
       "91. 'paper_CDKN2A.Epigenetically.Silenced'\n",
       "92. 'paper_MSI.status'\n",
       "93. 'paper_EBV.positive'\n",
       "94. 'paper_TP53.mutation'\n",
       "95. 'paper_PIK3CA.mutation'\n",
       "96. 'paper_KRAS.mutation'\n",
       "97. 'paper_ARID1A.mutation'\n",
       "98. 'paper_RHOA.mutation'\n",
       "99. 'paper_ARHGAP26.ARHGAP6.CLDN18.Rearrangement'\n",
       "100. 'paper_MET.Skipped.Exon.2'\n",
       "101. 'paper_MET.Skipped.Exons.18.and.19'\n",
       "102. 'paper_ABSOLUTE.Ploidy'\n",
       "103. 'paper_ABSOLUTE.Purity'\n",
       "104. 'paper_Estimated.Leukocyte.Percentage'\n",
       "105. 'paper_Percent.Tumor.Nuclei'\n",
       "106. 'paper_Percent.Tumor.Cells'\n",
       "107. 'paper_Percent.Lymphocyte.Infiltration'\n",
       "108. 'paper_Gene.Expression.Cluster'\n",
       "109. 'paper_MicroRNA.Expression.Cluster'\n",
       "110. 'paper_Copy.Number.Cluster'\n",
       "111. 'paper_Methylation.Cluster'\n",
       "112. 'paper_CIMP.Category'\n",
       "113. 'paper_stringAsFactor'\n",
       "\n",
       "\n"
      ],
      "text/plain": [
       "  [1] \"barcode\"                                    \n",
       "  [2] \"patient\"                                    \n",
       "  [3] \"sample\"                                     \n",
       "  [4] \"shortLetterCode\"                            \n",
       "  [5] \"definition\"                                 \n",
       "  [6] \"sample_submitter_id\"                        \n",
       "  [7] \"sample_type_id\"                             \n",
       "  [8] \"tumor_descriptor\"                           \n",
       "  [9] \"sample_id\"                                  \n",
       " [10] \"sample_type\"                                \n",
       " [11] \"composition\"                                \n",
       " [12] \"days_to_collection\"                         \n",
       " [13] \"state\"                                      \n",
       " [14] \"initial_weight\"                             \n",
       " [15] \"preservation_method\"                        \n",
       " [16] \"intermediate_dimension\"                     \n",
       " [17] \"pathology_report_uuid\"                      \n",
       " [18] \"submitter_id\"                               \n",
       " [19] \"shortest_dimension\"                         \n",
       " [20] \"oct_embedded\"                               \n",
       " [21] \"specimen_type\"                              \n",
       " [22] \"longest_dimension\"                          \n",
       " [23] \"is_ffpe\"                                    \n",
       " [24] \"tissue_type\"                                \n",
       " [25] \"synchronous_malignancy\"                     \n",
       " [26] \"ajcc_pathologic_stage\"                      \n",
       " [27] \"days_to_diagnosis\"                          \n",
       " [28] \"treatments\"                                 \n",
       " [29] \"last_known_disease_status\"                  \n",
       " [30] \"tissue_or_organ_of_origin\"                  \n",
       " [31] \"days_to_last_follow_up\"                     \n",
       " [32] \"age_at_diagnosis\"                           \n",
       " [33] \"primary_diagnosis\"                          \n",
       " [34] \"prior_malignancy\"                           \n",
       " [35] \"year_of_diagnosis\"                          \n",
       " [36] \"prior_treatment\"                            \n",
       " [37] \"ajcc_staging_system_edition\"                \n",
       " [38] \"ajcc_pathologic_t\"                          \n",
       " [39] \"morphology\"                                 \n",
       " [40] \"ajcc_pathologic_n\"                          \n",
       " [41] \"ajcc_pathologic_m\"                          \n",
       " [42] \"classification_of_tumor\"                    \n",
       " [43] \"diagnosis_id\"                               \n",
       " [44] \"icd_10_code\"                                \n",
       " [45] \"site_of_resection_or_biopsy\"                \n",
       " [46] \"tumor_grade\"                                \n",
       " [47] \"progression_or_recurrence\"                  \n",
       " [48] \"alcohol_history\"                            \n",
       " [49] \"exposure_id\"                                \n",
       " [50] \"race\"                                       \n",
       " [51] \"gender\"                                     \n",
       " [52] \"ethnicity\"                                  \n",
       " [53] \"vital_status\"                               \n",
       " [54] \"age_at_index\"                               \n",
       " [55] \"days_to_birth\"                              \n",
       " [56] \"year_of_birth\"                              \n",
       " [57] \"demographic_id\"                             \n",
       " [58] \"days_to_death\"                              \n",
       " [59] \"year_of_death\"                              \n",
       " [60] \"bcr_patient_barcode\"                        \n",
       " [61] \"primary_site\"                               \n",
       " [62] \"project_id\"                                 \n",
       " [63] \"disease_type\"                               \n",
       " [64] \"name\"                                       \n",
       " [65] \"releasable\"                                 \n",
       " [66] \"released\"                                   \n",
       " [67] \"paper_patient\"                              \n",
       " [68] \"paper_Lauren.Class\"                         \n",
       " [69] \"paper_Intestinal.Type.Subclass\"             \n",
       " [70] \"paper_Signet.Ring\"                          \n",
       " [71] \"paper_WHO.Class\"                            \n",
       " [72] \"paper_Pathologic.T\"                         \n",
       " [73] \"paper_Pathologic.N\"                         \n",
       " [74] \"paper_Pathologic.M\"                         \n",
       " [75] \"paper_TNM.Stage\"                            \n",
       " [76] \"paper_Anatomic.Region\"                      \n",
       " [77] \"paper_Residual.Tumor\"                       \n",
       " [78] \"paper_Age.at.Initial.Diagnosis\"             \n",
       " [79] \"paper_Country\"                              \n",
       " [80] \"paper_Gender\"                               \n",
       " [81] \"paper_Race\"                                 \n",
       " [82] \"paper_Vital.Status\"                         \n",
       " [83] \"paper_Days.to.Last.Follow.up\"               \n",
       " [84] \"paper_Days.to.Death\"                        \n",
       " [85] \"paper_Recurrence\"                           \n",
       " [86] \"paper_Days.to.Recurrence\"                   \n",
       " [87] \"paper_Molecular.Subtype\"                    \n",
       " [88] \"paper_Total.Mutation.Rate\"                  \n",
       " [89] \"paper_Hypermutated\"                         \n",
       " [90] \"paper_MLH1.Epigenetically.Silenced\"         \n",
       " [91] \"paper_CDKN2A.Epigenetically.Silenced\"       \n",
       " [92] \"paper_MSI.status\"                           \n",
       " [93] \"paper_EBV.positive\"                         \n",
       " [94] \"paper_TP53.mutation\"                        \n",
       " [95] \"paper_PIK3CA.mutation\"                      \n",
       " [96] \"paper_KRAS.mutation\"                        \n",
       " [97] \"paper_ARID1A.mutation\"                      \n",
       " [98] \"paper_RHOA.mutation\"                        \n",
       " [99] \"paper_ARHGAP26.ARHGAP6.CLDN18.Rearrangement\"\n",
       "[100] \"paper_MET.Skipped.Exon.2\"                   \n",
       "[101] \"paper_MET.Skipped.Exons.18.and.19\"          \n",
       "[102] \"paper_ABSOLUTE.Ploidy\"                      \n",
       "[103] \"paper_ABSOLUTE.Purity\"                      \n",
       "[104] \"paper_Estimated.Leukocyte.Percentage\"       \n",
       "[105] \"paper_Percent.Tumor.Nuclei\"                 \n",
       "[106] \"paper_Percent.Tumor.Cells\"                  \n",
       "[107] \"paper_Percent.Lymphocyte.Infiltration\"      \n",
       "[108] \"paper_Gene.Expression.Cluster\"              \n",
       "[109] \"paper_MicroRNA.Expression.Cluster\"          \n",
       "[110] \"paper_Copy.Number.Cluster\"                  \n",
       "[111] \"paper_Methylation.Cluster\"                  \n",
       "[112] \"paper_CIMP.Category\"                        \n",
       "[113] \"paper_stringAsFactor\"                       "
      ]
     },
     "metadata": {},
     "output_type": "display_data"
    }
   ],
   "source": [
    "#to view the types of data stored for each sample \n",
    "colnames(colData(primary))"
   ]
  },
  {
   "cell_type": "code",
   "execution_count": 19,
   "metadata": {
    "vscode": {
     "languageId": "r"
    }
   },
   "outputs": [
    {
     "data": {
      "text/html": [
       "<style>\n",
       ".list-inline {list-style: none; margin:0; padding: 0}\n",
       ".list-inline>li {display: inline-block}\n",
       ".list-inline>li:not(:last-child)::after {content: \"\\00b7\"; padding: 0 .5ex}\n",
       "</style>\n",
       "<ol class=list-inline><li>412</li><li>1</li></ol>\n"
      ],
      "text/latex": [
       "\\begin{enumerate*}\n",
       "\\item 412\n",
       "\\item 1\n",
       "\\end{enumerate*}\n"
      ],
      "text/markdown": [
       "1. 412\n",
       "2. 1\n",
       "\n",
       "\n"
      ],
      "text/plain": [
       "[1] 412   1"
      ]
     },
     "metadata": {},
     "output_type": "display_data"
    },
    {
     "data": {
      "text/html": [
       "<table class=\"dataframe\">\n",
       "<caption>A matrix: 6 × 1 of type dbl</caption>\n",
       "<thead>\n",
       "\t<tr><th></th><th scope=col>mat</th></tr>\n",
       "</thead>\n",
       "<tbody>\n",
       "\t<tr><th scope=row>TCGA-CG-4444-01A-01R-1157-13</th><td> 0.385994473</td></tr>\n",
       "\t<tr><th scope=row>TCGA-BR-8059-01A-11R-2343-13</th><td>-0.007676969</td></tr>\n",
       "\t<tr><th scope=row>TCGA-CG-4438-01A-01R-1157-13</th><td> 0.638048307</td></tr>\n",
       "\t<tr><th scope=row>TCGA-VQ-A8PB-01A-11R-A39E-31</th><td>-0.043687815</td></tr>\n",
       "\t<tr><th scope=row>TCGA-BR-6710-01A-11R-1884-13</th><td>-0.332004677</td></tr>\n",
       "\t<tr><th scope=row>TCGA-FP-A4BF-01A-12R-A36D-31</th><td> 0.855747106</td></tr>\n",
       "</tbody>\n",
       "</table>\n"
      ],
      "text/latex": [
       "A matrix: 6 × 1 of type dbl\n",
       "\\begin{tabular}{r|l}\n",
       "  & mat\\\\\n",
       "\\hline\n",
       "\tTCGA-CG-4444-01A-01R-1157-13 &  0.385994473\\\\\n",
       "\tTCGA-BR-8059-01A-11R-2343-13 & -0.007676969\\\\\n",
       "\tTCGA-CG-4438-01A-01R-1157-13 &  0.638048307\\\\\n",
       "\tTCGA-VQ-A8PB-01A-11R-A39E-31 & -0.043687815\\\\\n",
       "\tTCGA-BR-6710-01A-11R-1884-13 & -0.332004677\\\\\n",
       "\tTCGA-FP-A4BF-01A-12R-A36D-31 &  0.855747106\\\\\n",
       "\\end{tabular}\n"
      ],
      "text/markdown": [
       "\n",
       "A matrix: 6 × 1 of type dbl\n",
       "\n",
       "| <!--/--> | mat |\n",
       "|---|---|\n",
       "| TCGA-CG-4444-01A-01R-1157-13 |  0.385994473 |\n",
       "| TCGA-BR-8059-01A-11R-2343-13 | -0.007676969 |\n",
       "| TCGA-CG-4438-01A-01R-1157-13 |  0.638048307 |\n",
       "| TCGA-VQ-A8PB-01A-11R-A39E-31 | -0.043687815 |\n",
       "| TCGA-BR-6710-01A-11R-1884-13 | -0.332004677 |\n",
       "| TCGA-FP-A4BF-01A-12R-A36D-31 |  0.855747106 |\n",
       "\n"
      ],
      "text/plain": [
       "                             mat         \n",
       "TCGA-CG-4444-01A-01R-1157-13  0.385994473\n",
       "TCGA-BR-8059-01A-11R-2343-13 -0.007676969\n",
       "TCGA-CG-4438-01A-01R-1157-13  0.638048307\n",
       "TCGA-VQ-A8PB-01A-11R-A39E-31 -0.043687815\n",
       "TCGA-BR-6710-01A-11R-1884-13 -0.332004677\n",
       "TCGA-FP-A4BF-01A-12R-A36D-31  0.855747106"
      ]
     },
     "metadata": {},
     "output_type": "display_data"
    }
   ],
   "source": [
    "#change column name\n",
    "mat <- t(mat)\n",
    "dim(mat)\n",
    "colnames(mat) <- c(\"mat\")\n",
    "head(mat)"
   ]
  },
  {
   "cell_type": "code",
   "execution_count": 20,
   "metadata": {
    "vscode": {
     "languageId": "r"
    }
   },
   "outputs": [
    {
     "data": {
      "text/html": [
       "<table class=\"dataframe\">\n",
       "<caption>A matrix: 6 × 4 of type chr</caption>\n",
       "<thead>\n",
       "\t<tr><th></th><th scope=col>mat</th><th scope=col>Days_to_last_follow_up</th><th scope=col>vital_status</th><th scope=col>days_to_death</th></tr>\n",
       "</thead>\n",
       "<tbody>\n",
       "\t<tr><th scope=row>TCGA-CG-4444-01A-01R-1157-13</th><td>0.385994472885903   </td><td>1431</td><td>Alive</td><td>NA  </td></tr>\n",
       "\t<tr><th scope=row>TCGA-BR-8059-01A-11R-2343-13</th><td>-0.00767696874327805</td><td>25  </td><td>Dead </td><td>439 </td></tr>\n",
       "\t<tr><th scope=row>TCGA-CG-4438-01A-01R-1157-13</th><td>0.638048306958052   </td><td>1645</td><td>Alive</td><td>NA  </td></tr>\n",
       "\t<tr><th scope=row>TCGA-VQ-A8PB-01A-11R-A39E-31</th><td>-0.0436878150310487 </td><td>1023</td><td>Dead </td><td>1043</td></tr>\n",
       "\t<tr><th scope=row>TCGA-BR-6710-01A-11R-1884-13</th><td>-0.332004676598373  </td><td>273 </td><td>Alive</td><td>NA  </td></tr>\n",
       "\t<tr><th scope=row>TCGA-FP-A4BF-01A-12R-A36D-31</th><td>0.855747106290724   </td><td>47  </td><td>Dead </td><td>168 </td></tr>\n",
       "</tbody>\n",
       "</table>\n"
      ],
      "text/latex": [
       "A matrix: 6 × 4 of type chr\n",
       "\\begin{tabular}{r|llll}\n",
       "  & mat & Days\\_to\\_last\\_follow\\_up & vital\\_status & days\\_to\\_death\\\\\n",
       "\\hline\n",
       "\tTCGA-CG-4444-01A-01R-1157-13 & 0.385994472885903    & 1431 & Alive & NA  \\\\\n",
       "\tTCGA-BR-8059-01A-11R-2343-13 & -0.00767696874327805 & 25   & Dead  & 439 \\\\\n",
       "\tTCGA-CG-4438-01A-01R-1157-13 & 0.638048306958052    & 1645 & Alive & NA  \\\\\n",
       "\tTCGA-VQ-A8PB-01A-11R-A39E-31 & -0.0436878150310487  & 1023 & Dead  & 1043\\\\\n",
       "\tTCGA-BR-6710-01A-11R-1884-13 & -0.332004676598373   & 273  & Alive & NA  \\\\\n",
       "\tTCGA-FP-A4BF-01A-12R-A36D-31 & 0.855747106290724    & 47   & Dead  & 168 \\\\\n",
       "\\end{tabular}\n"
      ],
      "text/markdown": [
       "\n",
       "A matrix: 6 × 4 of type chr\n",
       "\n",
       "| <!--/--> | mat | Days_to_last_follow_up | vital_status | days_to_death |\n",
       "|---|---|---|---|---|\n",
       "| TCGA-CG-4444-01A-01R-1157-13 | 0.385994472885903    | 1431 | Alive | NA   |\n",
       "| TCGA-BR-8059-01A-11R-2343-13 | -0.00767696874327805 | 25   | Dead  | 439  |\n",
       "| TCGA-CG-4438-01A-01R-1157-13 | 0.638048306958052    | 1645 | Alive | NA   |\n",
       "| TCGA-VQ-A8PB-01A-11R-A39E-31 | -0.0436878150310487  | 1023 | Dead  | 1043 |\n",
       "| TCGA-BR-6710-01A-11R-1884-13 | -0.332004676598373   | 273  | Alive | NA   |\n",
       "| TCGA-FP-A4BF-01A-12R-A36D-31 | 0.855747106290724    | 47   | Dead  | 168  |\n",
       "\n"
      ],
      "text/plain": [
       "                             mat                  Days_to_last_follow_up\n",
       "TCGA-CG-4444-01A-01R-1157-13 0.385994472885903    1431                  \n",
       "TCGA-BR-8059-01A-11R-2343-13 -0.00767696874327805 25                    \n",
       "TCGA-CG-4438-01A-01R-1157-13 0.638048306958052    1645                  \n",
       "TCGA-VQ-A8PB-01A-11R-A39E-31 -0.0436878150310487  1023                  \n",
       "TCGA-BR-6710-01A-11R-1884-13 -0.332004676598373   273                   \n",
       "TCGA-FP-A4BF-01A-12R-A36D-31 0.855747106290724    47                    \n",
       "                             vital_status days_to_death\n",
       "TCGA-CG-4444-01A-01R-1157-13 Alive        NA           \n",
       "TCGA-BR-8059-01A-11R-2343-13 Dead         439          \n",
       "TCGA-CG-4438-01A-01R-1157-13 Alive        NA           \n",
       "TCGA-VQ-A8PB-01A-11R-A39E-31 Dead         1043         \n",
       "TCGA-BR-6710-01A-11R-1884-13 Alive        NA           \n",
       "TCGA-FP-A4BF-01A-12R-A36D-31 Dead         168          "
      ]
     },
     "metadata": {},
     "output_type": "display_data"
    }
   ],
   "source": [
    "#now look at days to death, plot K-M curved grouped by groups of mat score \n",
    "###following this tutorial: https://www.youtube.com/watch?v=DnygUTAZFmM\n",
    "\n",
    "#making a matrix with all the data I need\n",
    "death_days <- colData(primary)$days_to_death\n",
    "names(death_days) <- row.names(colData(primary))\n",
    "followup_days <- colData(primary)$days_to_last_follow_up\n",
    "names(followup_days) <- row.names(colData(primary))\n",
    "status <- colData(primary)$vital_status\n",
    "names(status) <- row.names(colData(primary))\n",
    "\n",
    "concat_survival <- cbind(mat,followup_days,status,death_days)\n",
    "colnames(concat_survival) <- c(\"mat\",\"Days_to_last_follow_up\",\"vital_status\",\"days_to_death\")\n",
    "head(concat_survival) \n",
    "concat_survival <- as.data.frame(concat_survival)\n",
    "#now I have a table with the above variables for each patient"
   ]
  },
  {
   "cell_type": "code",
   "execution_count": 21,
   "metadata": {
    "vscode": {
     "languageId": "r"
    }
   },
   "outputs": [
    {
     "data": {
      "text/html": [
       "<table class=\"dataframe\">\n",
       "<caption>A data.frame: 6 × 5</caption>\n",
       "<thead>\n",
       "\t<tr><th></th><th scope=col>mat</th><th scope=col>Days_to_last_follow_up</th><th scope=col>vital_status</th><th scope=col>days_to_death</th><th scope=col>deceased</th></tr>\n",
       "\t<tr><th></th><th scope=col>&lt;chr&gt;</th><th scope=col>&lt;chr&gt;</th><th scope=col>&lt;chr&gt;</th><th scope=col>&lt;chr&gt;</th><th scope=col>&lt;lgl&gt;</th></tr>\n",
       "</thead>\n",
       "<tbody>\n",
       "\t<tr><th scope=row>TCGA-CG-4444-01A-01R-1157-13</th><td>0.385994472885903   </td><td>1431</td><td>Alive</td><td>NA  </td><td>FALSE</td></tr>\n",
       "\t<tr><th scope=row>TCGA-BR-8059-01A-11R-2343-13</th><td>-0.00767696874327805</td><td>25  </td><td>Dead </td><td>439 </td><td> TRUE</td></tr>\n",
       "\t<tr><th scope=row>TCGA-CG-4438-01A-01R-1157-13</th><td>0.638048306958052   </td><td>1645</td><td>Alive</td><td>NA  </td><td>FALSE</td></tr>\n",
       "\t<tr><th scope=row>TCGA-VQ-A8PB-01A-11R-A39E-31</th><td>-0.0436878150310487 </td><td>1023</td><td>Dead </td><td>1043</td><td> TRUE</td></tr>\n",
       "\t<tr><th scope=row>TCGA-BR-6710-01A-11R-1884-13</th><td>-0.332004676598373  </td><td>273 </td><td>Alive</td><td>NA  </td><td>FALSE</td></tr>\n",
       "\t<tr><th scope=row>TCGA-FP-A4BF-01A-12R-A36D-31</th><td>0.855747106290724   </td><td>47  </td><td>Dead </td><td>168 </td><td> TRUE</td></tr>\n",
       "</tbody>\n",
       "</table>\n"
      ],
      "text/latex": [
       "A data.frame: 6 × 5\n",
       "\\begin{tabular}{r|lllll}\n",
       "  & mat & Days\\_to\\_last\\_follow\\_up & vital\\_status & days\\_to\\_death & deceased\\\\\n",
       "  & <chr> & <chr> & <chr> & <chr> & <lgl>\\\\\n",
       "\\hline\n",
       "\tTCGA-CG-4444-01A-01R-1157-13 & 0.385994472885903    & 1431 & Alive & NA   & FALSE\\\\\n",
       "\tTCGA-BR-8059-01A-11R-2343-13 & -0.00767696874327805 & 25   & Dead  & 439  &  TRUE\\\\\n",
       "\tTCGA-CG-4438-01A-01R-1157-13 & 0.638048306958052    & 1645 & Alive & NA   & FALSE\\\\\n",
       "\tTCGA-VQ-A8PB-01A-11R-A39E-31 & -0.0436878150310487  & 1023 & Dead  & 1043 &  TRUE\\\\\n",
       "\tTCGA-BR-6710-01A-11R-1884-13 & -0.332004676598373   & 273  & Alive & NA   & FALSE\\\\\n",
       "\tTCGA-FP-A4BF-01A-12R-A36D-31 & 0.855747106290724    & 47   & Dead  & 168  &  TRUE\\\\\n",
       "\\end{tabular}\n"
      ],
      "text/markdown": [
       "\n",
       "A data.frame: 6 × 5\n",
       "\n",
       "| <!--/--> | mat &lt;chr&gt; | Days_to_last_follow_up &lt;chr&gt; | vital_status &lt;chr&gt; | days_to_death &lt;chr&gt; | deceased &lt;lgl&gt; |\n",
       "|---|---|---|---|---|---|\n",
       "| TCGA-CG-4444-01A-01R-1157-13 | 0.385994472885903    | 1431 | Alive | NA   | FALSE |\n",
       "| TCGA-BR-8059-01A-11R-2343-13 | -0.00767696874327805 | 25   | Dead  | 439  |  TRUE |\n",
       "| TCGA-CG-4438-01A-01R-1157-13 | 0.638048306958052    | 1645 | Alive | NA   | FALSE |\n",
       "| TCGA-VQ-A8PB-01A-11R-A39E-31 | -0.0436878150310487  | 1023 | Dead  | 1043 |  TRUE |\n",
       "| TCGA-BR-6710-01A-11R-1884-13 | -0.332004676598373   | 273  | Alive | NA   | FALSE |\n",
       "| TCGA-FP-A4BF-01A-12R-A36D-31 | 0.855747106290724    | 47   | Dead  | 168  |  TRUE |\n",
       "\n"
      ],
      "text/plain": [
       "                             mat                  Days_to_last_follow_up\n",
       "TCGA-CG-4444-01A-01R-1157-13 0.385994472885903    1431                  \n",
       "TCGA-BR-8059-01A-11R-2343-13 -0.00767696874327805 25                    \n",
       "TCGA-CG-4438-01A-01R-1157-13 0.638048306958052    1645                  \n",
       "TCGA-VQ-A8PB-01A-11R-A39E-31 -0.0436878150310487  1023                  \n",
       "TCGA-BR-6710-01A-11R-1884-13 -0.332004676598373   273                   \n",
       "TCGA-FP-A4BF-01A-12R-A36D-31 0.855747106290724    47                    \n",
       "                             vital_status days_to_death deceased\n",
       "TCGA-CG-4444-01A-01R-1157-13 Alive        NA            FALSE   \n",
       "TCGA-BR-8059-01A-11R-2343-13 Dead         439            TRUE   \n",
       "TCGA-CG-4438-01A-01R-1157-13 Alive        NA            FALSE   \n",
       "TCGA-VQ-A8PB-01A-11R-A39E-31 Dead         1043           TRUE   \n",
       "TCGA-BR-6710-01A-11R-1884-13 Alive        NA            FALSE   \n",
       "TCGA-FP-A4BF-01A-12R-A36D-31 Dead         168            TRUE   "
      ]
     },
     "metadata": {},
     "output_type": "display_data"
    }
   ],
   "source": [
    "#make a new column that records whether or not deceased, this will be needed for status in survival anakysis (for censoring)\n",
    "concat_survival$deceased <- ifelse(concat_survival$vital_status == \"Alive\", FALSE, TRUE)\n",
    "head(concat_survival)"
   ]
  },
  {
   "cell_type": "code",
   "execution_count": 22,
   "metadata": {
    "vscode": {
     "languageId": "r"
    }
   },
   "outputs": [
    {
     "data": {
      "text/html": [
       "<table class=\"dataframe\">\n",
       "<caption>A data.frame: 6 × 6</caption>\n",
       "<thead>\n",
       "\t<tr><th></th><th scope=col>mat</th><th scope=col>Days_to_last_follow_up</th><th scope=col>vital_status</th><th scope=col>days_to_death</th><th scope=col>deceased</th><th scope=col>overall_survival</th></tr>\n",
       "\t<tr><th></th><th scope=col>&lt;chr&gt;</th><th scope=col>&lt;chr&gt;</th><th scope=col>&lt;chr&gt;</th><th scope=col>&lt;chr&gt;</th><th scope=col>&lt;lgl&gt;</th><th scope=col>&lt;dbl&gt;</th></tr>\n",
       "</thead>\n",
       "<tbody>\n",
       "\t<tr><th scope=row>TCGA-CG-4444-01A-01R-1157-13</th><td>0.385994472885903   </td><td>1431</td><td>Alive</td><td>NA  </td><td>FALSE</td><td>1431</td></tr>\n",
       "\t<tr><th scope=row>TCGA-BR-8059-01A-11R-2343-13</th><td>-0.00767696874327805</td><td>25  </td><td>Dead </td><td>439 </td><td> TRUE</td><td> 439</td></tr>\n",
       "\t<tr><th scope=row>TCGA-CG-4438-01A-01R-1157-13</th><td>0.638048306958052   </td><td>1645</td><td>Alive</td><td>NA  </td><td>FALSE</td><td>1645</td></tr>\n",
       "\t<tr><th scope=row>TCGA-VQ-A8PB-01A-11R-A39E-31</th><td>-0.0436878150310487 </td><td>1023</td><td>Dead </td><td>1043</td><td> TRUE</td><td>1043</td></tr>\n",
       "\t<tr><th scope=row>TCGA-BR-6710-01A-11R-1884-13</th><td>-0.332004676598373  </td><td>273 </td><td>Alive</td><td>NA  </td><td>FALSE</td><td> 273</td></tr>\n",
       "\t<tr><th scope=row>TCGA-FP-A4BF-01A-12R-A36D-31</th><td>0.855747106290724   </td><td>47  </td><td>Dead </td><td>168 </td><td> TRUE</td><td> 168</td></tr>\n",
       "</tbody>\n",
       "</table>\n"
      ],
      "text/latex": [
       "A data.frame: 6 × 6\n",
       "\\begin{tabular}{r|llllll}\n",
       "  & mat & Days\\_to\\_last\\_follow\\_up & vital\\_status & days\\_to\\_death & deceased & overall\\_survival\\\\\n",
       "  & <chr> & <chr> & <chr> & <chr> & <lgl> & <dbl>\\\\\n",
       "\\hline\n",
       "\tTCGA-CG-4444-01A-01R-1157-13 & 0.385994472885903    & 1431 & Alive & NA   & FALSE & 1431\\\\\n",
       "\tTCGA-BR-8059-01A-11R-2343-13 & -0.00767696874327805 & 25   & Dead  & 439  &  TRUE &  439\\\\\n",
       "\tTCGA-CG-4438-01A-01R-1157-13 & 0.638048306958052    & 1645 & Alive & NA   & FALSE & 1645\\\\\n",
       "\tTCGA-VQ-A8PB-01A-11R-A39E-31 & -0.0436878150310487  & 1023 & Dead  & 1043 &  TRUE & 1043\\\\\n",
       "\tTCGA-BR-6710-01A-11R-1884-13 & -0.332004676598373   & 273  & Alive & NA   & FALSE &  273\\\\\n",
       "\tTCGA-FP-A4BF-01A-12R-A36D-31 & 0.855747106290724    & 47   & Dead  & 168  &  TRUE &  168\\\\\n",
       "\\end{tabular}\n"
      ],
      "text/markdown": [
       "\n",
       "A data.frame: 6 × 6\n",
       "\n",
       "| <!--/--> | mat &lt;chr&gt; | Days_to_last_follow_up &lt;chr&gt; | vital_status &lt;chr&gt; | days_to_death &lt;chr&gt; | deceased &lt;lgl&gt; | overall_survival &lt;dbl&gt; |\n",
       "|---|---|---|---|---|---|---|\n",
       "| TCGA-CG-4444-01A-01R-1157-13 | 0.385994472885903    | 1431 | Alive | NA   | FALSE | 1431 |\n",
       "| TCGA-BR-8059-01A-11R-2343-13 | -0.00767696874327805 | 25   | Dead  | 439  |  TRUE |  439 |\n",
       "| TCGA-CG-4438-01A-01R-1157-13 | 0.638048306958052    | 1645 | Alive | NA   | FALSE | 1645 |\n",
       "| TCGA-VQ-A8PB-01A-11R-A39E-31 | -0.0436878150310487  | 1023 | Dead  | 1043 |  TRUE | 1043 |\n",
       "| TCGA-BR-6710-01A-11R-1884-13 | -0.332004676598373   | 273  | Alive | NA   | FALSE |  273 |\n",
       "| TCGA-FP-A4BF-01A-12R-A36D-31 | 0.855747106290724    | 47   | Dead  | 168  |  TRUE |  168 |\n",
       "\n"
      ],
      "text/plain": [
       "                             mat                  Days_to_last_follow_up\n",
       "TCGA-CG-4444-01A-01R-1157-13 0.385994472885903    1431                  \n",
       "TCGA-BR-8059-01A-11R-2343-13 -0.00767696874327805 25                    \n",
       "TCGA-CG-4438-01A-01R-1157-13 0.638048306958052    1645                  \n",
       "TCGA-VQ-A8PB-01A-11R-A39E-31 -0.0436878150310487  1023                  \n",
       "TCGA-BR-6710-01A-11R-1884-13 -0.332004676598373   273                   \n",
       "TCGA-FP-A4BF-01A-12R-A36D-31 0.855747106290724    47                    \n",
       "                             vital_status days_to_death deceased\n",
       "TCGA-CG-4444-01A-01R-1157-13 Alive        NA            FALSE   \n",
       "TCGA-BR-8059-01A-11R-2343-13 Dead         439            TRUE   \n",
       "TCGA-CG-4438-01A-01R-1157-13 Alive        NA            FALSE   \n",
       "TCGA-VQ-A8PB-01A-11R-A39E-31 Dead         1043           TRUE   \n",
       "TCGA-BR-6710-01A-11R-1884-13 Alive        NA            FALSE   \n",
       "TCGA-FP-A4BF-01A-12R-A36D-31 Dead         168            TRUE   \n",
       "                             overall_survival\n",
       "TCGA-CG-4444-01A-01R-1157-13 1431            \n",
       "TCGA-BR-8059-01A-11R-2343-13  439            \n",
       "TCGA-CG-4438-01A-01R-1157-13 1645            \n",
       "TCGA-VQ-A8PB-01A-11R-A39E-31 1043            \n",
       "TCGA-BR-6710-01A-11R-1884-13  273            \n",
       "TCGA-FP-A4BF-01A-12R-A36D-31  168            "
      ]
     },
     "metadata": {},
     "output_type": "display_data"
    }
   ],
   "source": [
    "#next need to make a \"overall survival\" column that is equal to days to death for dead patients and to days to last follow up for patients who are still alive \n",
    "concat_survival$overall_survival <- ifelse(concat_survival$vital_status == \"Alive\",\n",
    "                                           concat_survival$Days_to_last_follow_up,\n",
    "                                           concat_survival$days_to_death)\n",
    "\n",
    "#convert overall_survival to numeric\n",
    "concat_survival$overall_survival <- as.numeric(concat_survival$overall_survival)\n",
    "\n",
    "head(concat_survival)"
   ]
  },
  {
   "cell_type": "code",
   "execution_count": 23,
   "metadata": {
    "vscode": {
     "languageId": "r"
    }
   },
   "outputs": [
    {
     "name": "stderr",
     "output_type": "stream",
     "text": [
      "Loading required package: ggplot2\n",
      "\n",
      "Loading required package: ggpubr\n",
      "\n",
      "\n",
      "Attaching package: ‘survminer’\n",
      "\n",
      "\n",
      "The following object is masked from ‘package:survival’:\n",
      "\n",
      "    myeloma\n",
      "\n",
      "\n"
     ]
    }
   ],
   "source": [
    "# load packages needed for survival analysis\n",
    "library(survival)\n",
    "library(survminer)"
   ]
  },
  {
   "cell_type": "code",
   "execution_count": 24,
   "metadata": {
    "vscode": {
     "languageId": "r"
    }
   },
   "outputs": [
    {
     "data": {
      "text/html": [
       "<table class=\"dataframe\">\n",
       "<caption>A data.frame: 6 × 7</caption>\n",
       "<thead>\n",
       "\t<tr><th></th><th scope=col>mat</th><th scope=col>Days_to_last_follow_up</th><th scope=col>vital_status</th><th scope=col>days_to_death</th><th scope=col>deceased</th><th scope=col>overall_survival</th><th scope=col>strata</th></tr>\n",
       "\t<tr><th></th><th scope=col>&lt;chr&gt;</th><th scope=col>&lt;chr&gt;</th><th scope=col>&lt;chr&gt;</th><th scope=col>&lt;chr&gt;</th><th scope=col>&lt;lgl&gt;</th><th scope=col>&lt;dbl&gt;</th><th scope=col>&lt;chr&gt;</th></tr>\n",
       "</thead>\n",
       "<tbody>\n",
       "\t<tr><th scope=row>TCGA-CG-4444-01A-01R-1157-13</th><td>0.385994472885903   </td><td>1431</td><td>Alive</td><td>NA  </td><td>FALSE</td><td>1431</td><td>Middle    </td></tr>\n",
       "\t<tr><th scope=row>TCGA-BR-8059-01A-11R-2343-13</th><td>-0.00767696874327805</td><td>25  </td><td>Dead </td><td>439 </td><td> TRUE</td><td> 439</td><td>Bottom 33%</td></tr>\n",
       "\t<tr><th scope=row>TCGA-CG-4438-01A-01R-1157-13</th><td>0.638048306958052   </td><td>1645</td><td>Alive</td><td>NA  </td><td>FALSE</td><td>1645</td><td>Top 33%   </td></tr>\n",
       "\t<tr><th scope=row>TCGA-VQ-A8PB-01A-11R-A39E-31</th><td>-0.0436878150310487 </td><td>1023</td><td>Dead </td><td>1043</td><td> TRUE</td><td>1043</td><td>Bottom 33%</td></tr>\n",
       "\t<tr><th scope=row>TCGA-BR-6710-01A-11R-1884-13</th><td>-0.332004676598373  </td><td>273 </td><td>Alive</td><td>NA  </td><td>FALSE</td><td> 273</td><td>Bottom 33%</td></tr>\n",
       "\t<tr><th scope=row>TCGA-FP-A4BF-01A-12R-A36D-31</th><td>0.855747106290724   </td><td>47  </td><td>Dead </td><td>168 </td><td> TRUE</td><td> 168</td><td>Top 33%   </td></tr>\n",
       "</tbody>\n",
       "</table>\n"
      ],
      "text/latex": [
       "A data.frame: 6 × 7\n",
       "\\begin{tabular}{r|lllllll}\n",
       "  & mat & Days\\_to\\_last\\_follow\\_up & vital\\_status & days\\_to\\_death & deceased & overall\\_survival & strata\\\\\n",
       "  & <chr> & <chr> & <chr> & <chr> & <lgl> & <dbl> & <chr>\\\\\n",
       "\\hline\n",
       "\tTCGA-CG-4444-01A-01R-1157-13 & 0.385994472885903    & 1431 & Alive & NA   & FALSE & 1431 & Middle    \\\\\n",
       "\tTCGA-BR-8059-01A-11R-2343-13 & -0.00767696874327805 & 25   & Dead  & 439  &  TRUE &  439 & Bottom 33\\%\\\\\n",
       "\tTCGA-CG-4438-01A-01R-1157-13 & 0.638048306958052    & 1645 & Alive & NA   & FALSE & 1645 & Top 33\\%   \\\\\n",
       "\tTCGA-VQ-A8PB-01A-11R-A39E-31 & -0.0436878150310487  & 1023 & Dead  & 1043 &  TRUE & 1043 & Bottom 33\\%\\\\\n",
       "\tTCGA-BR-6710-01A-11R-1884-13 & -0.332004676598373   & 273  & Alive & NA   & FALSE &  273 & Bottom 33\\%\\\\\n",
       "\tTCGA-FP-A4BF-01A-12R-A36D-31 & 0.855747106290724    & 47   & Dead  & 168  &  TRUE &  168 & Top 33\\%   \\\\\n",
       "\\end{tabular}\n"
      ],
      "text/markdown": [
       "\n",
       "A data.frame: 6 × 7\n",
       "\n",
       "| <!--/--> | mat &lt;chr&gt; | Days_to_last_follow_up &lt;chr&gt; | vital_status &lt;chr&gt; | days_to_death &lt;chr&gt; | deceased &lt;lgl&gt; | overall_survival &lt;dbl&gt; | strata &lt;chr&gt; |\n",
       "|---|---|---|---|---|---|---|---|\n",
       "| TCGA-CG-4444-01A-01R-1157-13 | 0.385994472885903    | 1431 | Alive | NA   | FALSE | 1431 | Middle     |\n",
       "| TCGA-BR-8059-01A-11R-2343-13 | -0.00767696874327805 | 25   | Dead  | 439  |  TRUE |  439 | Bottom 33% |\n",
       "| TCGA-CG-4438-01A-01R-1157-13 | 0.638048306958052    | 1645 | Alive | NA   | FALSE | 1645 | Top 33%    |\n",
       "| TCGA-VQ-A8PB-01A-11R-A39E-31 | -0.0436878150310487  | 1023 | Dead  | 1043 |  TRUE | 1043 | Bottom 33% |\n",
       "| TCGA-BR-6710-01A-11R-1884-13 | -0.332004676598373   | 273  | Alive | NA   | FALSE |  273 | Bottom 33% |\n",
       "| TCGA-FP-A4BF-01A-12R-A36D-31 | 0.855747106290724    | 47   | Dead  | 168  |  TRUE |  168 | Top 33%    |\n",
       "\n"
      ],
      "text/plain": [
       "                             mat                  Days_to_last_follow_up\n",
       "TCGA-CG-4444-01A-01R-1157-13 0.385994472885903    1431                  \n",
       "TCGA-BR-8059-01A-11R-2343-13 -0.00767696874327805 25                    \n",
       "TCGA-CG-4438-01A-01R-1157-13 0.638048306958052    1645                  \n",
       "TCGA-VQ-A8PB-01A-11R-A39E-31 -0.0436878150310487  1023                  \n",
       "TCGA-BR-6710-01A-11R-1884-13 -0.332004676598373   273                   \n",
       "TCGA-FP-A4BF-01A-12R-A36D-31 0.855747106290724    47                    \n",
       "                             vital_status days_to_death deceased\n",
       "TCGA-CG-4444-01A-01R-1157-13 Alive        NA            FALSE   \n",
       "TCGA-BR-8059-01A-11R-2343-13 Dead         439            TRUE   \n",
       "TCGA-CG-4438-01A-01R-1157-13 Alive        NA            FALSE   \n",
       "TCGA-VQ-A8PB-01A-11R-A39E-31 Dead         1043           TRUE   \n",
       "TCGA-BR-6710-01A-11R-1884-13 Alive        NA            FALSE   \n",
       "TCGA-FP-A4BF-01A-12R-A36D-31 Dead         168            TRUE   \n",
       "                             overall_survival strata    \n",
       "TCGA-CG-4444-01A-01R-1157-13 1431             Middle    \n",
       "TCGA-BR-8059-01A-11R-2343-13  439             Bottom 33%\n",
       "TCGA-CG-4438-01A-01R-1157-13 1645             Top 33%   \n",
       "TCGA-VQ-A8PB-01A-11R-A39E-31 1043             Bottom 33%\n",
       "TCGA-BR-6710-01A-11R-1884-13  273             Bottom 33%\n",
       "TCGA-FP-A4BF-01A-12R-A36D-31  168             Top 33%   "
      ]
     },
     "metadata": {},
     "output_type": "display_data"
    }
   ],
   "source": [
    "#fitting survival curve - prepare data: \n",
    "\n",
    "# for my analysis I wanted to plot top vs bottom third on my KM plot, but could also split 50/50 if you wanted\n",
    "# make variable for either top 33% or bottom 33% mat score\n",
    "#calculate 66th percentile (above this is top 33%) and 33rd percentile (below this is bottom 33%)\n",
    "perc_66 <- quantile(mat, probs = c(0.66))\n",
    "perc_33 <- quantile(mat, probs = c(0.33))\n",
    "\n",
    "concat_survival_Full <- concat_survival\n",
    "concat_survival_Full$strata <- ifelse(concat_survival_Full$mat < perc_33, \"Bottom 33%\",\n",
    "                                  ifelse(concat_survival_Full$mat >perc_66, \"Top 33%\", \"Middle\"))\n",
    "\n",
    "head(concat_survival_Full)"
   ]
  },
  {
   "cell_type": "code",
   "execution_count": 25,
   "metadata": {
    "vscode": {
     "languageId": "r"
    }
   },
   "outputs": [
    {
     "data": {
      "text/html": [
       "<table class=\"dataframe\">\n",
       "<caption>A data.frame: 6 × 7</caption>\n",
       "<thead>\n",
       "\t<tr><th></th><th scope=col>mat</th><th scope=col>Days_to_last_follow_up</th><th scope=col>vital_status</th><th scope=col>days_to_death</th><th scope=col>deceased</th><th scope=col>overall_survival</th><th scope=col>strata</th></tr>\n",
       "\t<tr><th></th><th scope=col>&lt;chr&gt;</th><th scope=col>&lt;chr&gt;</th><th scope=col>&lt;chr&gt;</th><th scope=col>&lt;chr&gt;</th><th scope=col>&lt;lgl&gt;</th><th scope=col>&lt;dbl&gt;</th><th scope=col>&lt;chr&gt;</th></tr>\n",
       "</thead>\n",
       "<tbody>\n",
       "\t<tr><th scope=row>TCGA-BR-8059-01A-11R-2343-13</th><td>-0.00767696874327805</td><td>25  </td><td>Dead </td><td>439 </td><td> TRUE</td><td> 439</td><td>Bottom 33%</td></tr>\n",
       "\t<tr><th scope=row>TCGA-CG-4438-01A-01R-1157-13</th><td>0.638048306958052   </td><td>1645</td><td>Alive</td><td>NA  </td><td>FALSE</td><td>1645</td><td>Top 33%   </td></tr>\n",
       "\t<tr><th scope=row>TCGA-VQ-A8PB-01A-11R-A39E-31</th><td>-0.0436878150310487 </td><td>1023</td><td>Dead </td><td>1043</td><td> TRUE</td><td>1043</td><td>Bottom 33%</td></tr>\n",
       "\t<tr><th scope=row>TCGA-BR-6710-01A-11R-1884-13</th><td>-0.332004676598373  </td><td>273 </td><td>Alive</td><td>NA  </td><td>FALSE</td><td> 273</td><td>Bottom 33%</td></tr>\n",
       "\t<tr><th scope=row>TCGA-FP-A4BF-01A-12R-A36D-31</th><td>0.855747106290724   </td><td>47  </td><td>Dead </td><td>168 </td><td> TRUE</td><td> 168</td><td>Top 33%   </td></tr>\n",
       "\t<tr><th scope=row>TCGA-CG-4476-01A-01R-1157-13</th><td>0.567088357338806   </td><td>0   </td><td>Alive</td><td>NA  </td><td>FALSE</td><td>   0</td><td>Top 33%   </td></tr>\n",
       "</tbody>\n",
       "</table>\n"
      ],
      "text/latex": [
       "A data.frame: 6 × 7\n",
       "\\begin{tabular}{r|lllllll}\n",
       "  & mat & Days\\_to\\_last\\_follow\\_up & vital\\_status & days\\_to\\_death & deceased & overall\\_survival & strata\\\\\n",
       "  & <chr> & <chr> & <chr> & <chr> & <lgl> & <dbl> & <chr>\\\\\n",
       "\\hline\n",
       "\tTCGA-BR-8059-01A-11R-2343-13 & -0.00767696874327805 & 25   & Dead  & 439  &  TRUE &  439 & Bottom 33\\%\\\\\n",
       "\tTCGA-CG-4438-01A-01R-1157-13 & 0.638048306958052    & 1645 & Alive & NA   & FALSE & 1645 & Top 33\\%   \\\\\n",
       "\tTCGA-VQ-A8PB-01A-11R-A39E-31 & -0.0436878150310487  & 1023 & Dead  & 1043 &  TRUE & 1043 & Bottom 33\\%\\\\\n",
       "\tTCGA-BR-6710-01A-11R-1884-13 & -0.332004676598373   & 273  & Alive & NA   & FALSE &  273 & Bottom 33\\%\\\\\n",
       "\tTCGA-FP-A4BF-01A-12R-A36D-31 & 0.855747106290724    & 47   & Dead  & 168  &  TRUE &  168 & Top 33\\%   \\\\\n",
       "\tTCGA-CG-4476-01A-01R-1157-13 & 0.567088357338806    & 0    & Alive & NA   & FALSE &    0 & Top 33\\%   \\\\\n",
       "\\end{tabular}\n"
      ],
      "text/markdown": [
       "\n",
       "A data.frame: 6 × 7\n",
       "\n",
       "| <!--/--> | mat &lt;chr&gt; | Days_to_last_follow_up &lt;chr&gt; | vital_status &lt;chr&gt; | days_to_death &lt;chr&gt; | deceased &lt;lgl&gt; | overall_survival &lt;dbl&gt; | strata &lt;chr&gt; |\n",
       "|---|---|---|---|---|---|---|---|\n",
       "| TCGA-BR-8059-01A-11R-2343-13 | -0.00767696874327805 | 25   | Dead  | 439  |  TRUE |  439 | Bottom 33% |\n",
       "| TCGA-CG-4438-01A-01R-1157-13 | 0.638048306958052    | 1645 | Alive | NA   | FALSE | 1645 | Top 33%    |\n",
       "| TCGA-VQ-A8PB-01A-11R-A39E-31 | -0.0436878150310487  | 1023 | Dead  | 1043 |  TRUE | 1043 | Bottom 33% |\n",
       "| TCGA-BR-6710-01A-11R-1884-13 | -0.332004676598373   | 273  | Alive | NA   | FALSE |  273 | Bottom 33% |\n",
       "| TCGA-FP-A4BF-01A-12R-A36D-31 | 0.855747106290724    | 47   | Dead  | 168  |  TRUE |  168 | Top 33%    |\n",
       "| TCGA-CG-4476-01A-01R-1157-13 | 0.567088357338806    | 0    | Alive | NA   | FALSE |    0 | Top 33%    |\n",
       "\n"
      ],
      "text/plain": [
       "                             mat                  Days_to_last_follow_up\n",
       "TCGA-BR-8059-01A-11R-2343-13 -0.00767696874327805 25                    \n",
       "TCGA-CG-4438-01A-01R-1157-13 0.638048306958052    1645                  \n",
       "TCGA-VQ-A8PB-01A-11R-A39E-31 -0.0436878150310487  1023                  \n",
       "TCGA-BR-6710-01A-11R-1884-13 -0.332004676598373   273                   \n",
       "TCGA-FP-A4BF-01A-12R-A36D-31 0.855747106290724    47                    \n",
       "TCGA-CG-4476-01A-01R-1157-13 0.567088357338806    0                     \n",
       "                             vital_status days_to_death deceased\n",
       "TCGA-BR-8059-01A-11R-2343-13 Dead         439            TRUE   \n",
       "TCGA-CG-4438-01A-01R-1157-13 Alive        NA            FALSE   \n",
       "TCGA-VQ-A8PB-01A-11R-A39E-31 Dead         1043           TRUE   \n",
       "TCGA-BR-6710-01A-11R-1884-13 Alive        NA            FALSE   \n",
       "TCGA-FP-A4BF-01A-12R-A36D-31 Dead         168            TRUE   \n",
       "TCGA-CG-4476-01A-01R-1157-13 Alive        NA            FALSE   \n",
       "                             overall_survival strata    \n",
       "TCGA-BR-8059-01A-11R-2343-13  439             Bottom 33%\n",
       "TCGA-CG-4438-01A-01R-1157-13 1645             Top 33%   \n",
       "TCGA-VQ-A8PB-01A-11R-A39E-31 1043             Bottom 33%\n",
       "TCGA-BR-6710-01A-11R-1884-13  273             Bottom 33%\n",
       "TCGA-FP-A4BF-01A-12R-A36D-31  168             Top 33%   \n",
       "TCGA-CG-4476-01A-01R-1157-13    0             Top 33%   "
      ]
     },
     "metadata": {},
     "output_type": "display_data"
    }
   ],
   "source": [
    "#need to remove middle strata from plot\n",
    "concat_survival_Full <- concat_survival_Full %>% filter(strata %in% c(\"Top 33%\", \"Bottom 33%\"))\n",
    "head(concat_survival_Full)"
   ]
  },
  {
   "cell_type": "code",
   "execution_count": 26,
   "metadata": {
    "vscode": {
     "languageId": "r"
    }
   },
   "outputs": [
    {
     "data": {
      "text/plain": [
       "Call: survfit(formula = Surv(overall_survival, deceased) ~ strata, \n",
       "    data = concat_survival_Full)\n",
       "\n",
       "   2 observations deleted due to missingness \n",
       "                    n events median 0.95LCL 0.95UCL\n",
       "strata=Bottom 33%  58     23    805     552      NA\n",
       "strata=Top 33%    139     56    940     675      NA"
      ]
     },
     "metadata": {},
     "output_type": "display_data"
    }
   ],
   "source": [
    "#Fit survival curve\n",
    "fit <- survfit(Surv(overall_survival, deceased) ~ strata, data = concat_survival_Full)\n",
    "fit"
   ]
  },
  {
   "cell_type": "code",
   "execution_count": 27,
   "metadata": {
    "vscode": {
     "languageId": "r"
    }
   },
   "outputs": [
    {
     "data": {
      "image/png": "[encoded data removed]",
      "text/plain": [
       "plot without title"
      ]
     },
     "metadata": {
      "image/png": {
       "height": 360,
       "width": 480
      }
     },
     "output_type": "display_data"
    }
   ],
   "source": [
    "#generate survival plot\n",
    "options(repr.plot.height=6, repr.plot.width=8)\n",
    "ggsurvplot(fit,\n",
    "           data = concat_survival_Full,\n",
    "           pval = T,\n",
    "           risk.table = T,\n",
    "           conf.int = TRUE)"
   ]
  }
 ],
 "metadata": {
  "kernelspec": {
   "display_name": "R",
   "language": "R",
   "name": "ir"
  },
  "language_info": {
   "codemirror_mode": "r",
   "file_extension": ".r",
   "mimetype": "text/x-r-source",
   "name": "R",
   "pygments_lexer": "r",
   "version": "4.3.3"
  }
 },
 "nbformat": 4,
 "nbformat_minor": 2
}
