{
 "cells": [
  {
   "cell_type": "markdown",
   "metadata": {},
   "source": [
    "### Integrating myeloid cells from all datasets"
   ]
  },
  {
   "cell_type": "code",
   "execution_count": 1,
   "metadata": {
    "vscode": {
     "languageId": "r"
    }
   },
   "outputs": [
    {
     "data": {
      "text/html": [
       "'/scratch/user/s4436039'"
      ],
      "text/latex": [
       "'/scratch/user/s4436039'"
      ],
      "text/markdown": [
       "'/scratch/user/s4436039'"
      ],
      "text/plain": [
       "[1] \"/scratch/user/s4436039\""
      ]
     },
     "metadata": {},
     "output_type": "display_data"
    },
    {
     "data": {
      "text/html": [
       "'/scratch/user/s4436039/scdata'"
      ],
      "text/latex": [
       "'/scratch/user/s4436039/scdata'"
      ],
      "text/markdown": [
       "'/scratch/user/s4436039/scdata'"
      ],
      "text/plain": [
       "[1] \"/scratch/user/s4436039/scdata\""
      ]
     },
     "metadata": {},
     "output_type": "display_data"
    }
   ],
   "source": [
    "#set wd\n",
    "getwd()\n",
    "setwd('/scratch/user/s4436039/scdata')\n",
    "getwd()"
   ]
  },
  {
   "cell_type": "code",
   "execution_count": 2,
   "metadata": {
    "vscode": {
     "languageId": "r"
    }
   },
   "outputs": [
    {
     "name": "stderr",
     "output_type": "stream",
     "text": [
      "Loading required package: SeuratObject\n",
      "\n",
      "Loading required package: sp\n",
      "\n",
      "\n",
      "Attaching package: ‘SeuratObject’\n",
      "\n",
      "\n",
      "The following objects are masked from ‘package:base’:\n",
      "\n",
      "    intersect, t\n",
      "\n",
      "\n",
      "Loading required package: SummarizedExperiment\n",
      "\n",
      "Loading required package: MatrixGenerics\n",
      "\n",
      "Loading required package: matrixStats\n",
      "\n",
      "\n",
      "Attaching package: ‘MatrixGenerics’\n",
      "\n",
      "\n",
      "The following objects are masked from ‘package:matrixStats’:\n",
      "\n",
      "    colAlls, colAnyNAs, colAnys, colAvgsPerRowSet, colCollapse,\n",
      "    colCounts, colCummaxs, colCummins, colCumprods, colCumsums,\n",
      "    colDiffs, colIQRDiffs, colIQRs, colLogSumExps, colMadDiffs,\n",
      "    colMads, colMaxs, colMeans2, colMedians, colMins, colOrderStats,\n",
      "    colProds, colQuantiles, colRanges, colRanks, colSdDiffs, colSds,\n",
      "    colSums2, colTabulates, colVarDiffs, colVars, colWeightedMads,\n",
      "    colWeightedMeans, colWeightedMedians, colWeightedSds,\n",
      "    colWeightedVars, rowAlls, rowAnyNAs, rowAnys, rowAvgsPerColSet,\n",
      "    rowCollapse, rowCounts, rowCummaxs, rowCummins, rowCumprods,\n",
      "    rowCumsums, rowDiffs, rowIQRDiffs, rowIQRs, rowLogSumExps,\n",
      "    rowMadDiffs, rowMads, rowMaxs, rowMeans2, rowMedians, rowMins,\n",
      "    rowOrderStats, rowProds, rowQuantiles, rowRanges, rowRanks,\n",
      "    rowSdDiffs, rowSds, rowSums2, rowTabulates, rowVarDiffs, rowVars,\n",
      "    rowWeightedMads, rowWeightedMeans, rowWeightedMedians,\n",
      "    rowWeightedSds, rowWeightedVars\n",
      "\n",
      "\n",
      "Loading required package: GenomicRanges\n",
      "\n",
      "Loading required package: stats4\n",
      "\n",
      "Loading required package: BiocGenerics\n",
      "\n",
      "\n",
      "Attaching package: ‘BiocGenerics’\n",
      "\n",
      "\n",
      "The following object is masked from ‘package:SeuratObject’:\n",
      "\n",
      "    intersect\n",
      "\n",
      "\n",
      "The following objects are masked from ‘package:stats’:\n",
      "\n",
      "    IQR, mad, sd, var, xtabs\n",
      "\n",
      "\n",
      "The following objects are masked from ‘package:base’:\n",
      "\n",
      "    anyDuplicated, aperm, append, as.data.frame, basename, cbind,\n",
      "    colnames, dirname, do.call, duplicated, eval, evalq, Filter, Find,\n",
      "    get, grep, grepl, intersect, is.unsorted, lapply, Map, mapply,\n",
      "    match, mget, order, paste, pmax, pmax.int, pmin, pmin.int,\n",
      "    Position, rank, rbind, Reduce, rownames, sapply, setdiff, sort,\n",
      "    table, tapply, union, unique, unsplit, which.max, which.min\n",
      "\n",
      "\n",
      "Loading required package: S4Vectors\n",
      "\n",
      "\n",
      "Attaching package: ‘S4Vectors’\n",
      "\n",
      "\n",
      "The following object is masked from ‘package:utils’:\n",
      "\n",
      "    findMatches\n",
      "\n",
      "\n",
      "The following objects are masked from ‘package:base’:\n",
      "\n",
      "    expand.grid, I, unname\n",
      "\n",
      "\n",
      "Loading required package: IRanges\n",
      "\n",
      "\n",
      "Attaching package: ‘IRanges’\n",
      "\n",
      "\n",
      "The following object is masked from ‘package:sp’:\n",
      "\n",
      "    %over%\n",
      "\n",
      "\n",
      "Loading required package: GenomeInfoDb\n",
      "\n",
      "Loading required package: Biobase\n",
      "\n",
      "Welcome to Bioconductor\n",
      "\n",
      "    Vignettes contain introductory material; view with\n",
      "    'browseVignettes()'. To cite Bioconductor, see\n",
      "    'citation(\"Biobase\")', and for packages 'citation(\"pkgname\")'.\n",
      "\n",
      "\n",
      "\n",
      "Attaching package: ‘Biobase’\n",
      "\n",
      "\n",
      "The following object is masked from ‘package:MatrixGenerics’:\n",
      "\n",
      "    rowMedians\n",
      "\n",
      "\n",
      "The following objects are masked from ‘package:matrixStats’:\n",
      "\n",
      "    anyMissing, rowMedians\n",
      "\n",
      "\n",
      "\n",
      "Attaching package: ‘SummarizedExperiment’\n",
      "\n",
      "\n",
      "The following object is masked from ‘package:Seurat’:\n",
      "\n",
      "    Assays\n",
      "\n",
      "\n",
      "The following object is masked from ‘package:SeuratObject’:\n",
      "\n",
      "    Assays\n",
      "\n",
      "\n"
     ]
    }
   ],
   "source": [
    "library(Seurat)\n",
    "library(SingleCellExperiment)"
   ]
  },
  {
   "cell_type": "code",
   "execution_count": 3,
   "metadata": {
    "vscode": {
     "languageId": "r"
    }
   },
   "outputs": [
    {
     "name": "stderr",
     "output_type": "stream",
     "text": [
      "Loading required package: reticulate\n",
      "\n"
     ]
    }
   ],
   "source": [
    "library(sceasy)\n",
    "library(reticulate)\n",
    "use_condaenv('env')"
   ]
  },
  {
   "cell_type": "code",
   "execution_count": 4,
   "metadata": {
    "vscode": {
     "languageId": "r"
    }
   },
   "outputs": [
    {
     "data": {
      "text/html": [
       "<style>\n",
       ".list-inline {list-style: none; margin:0; padding: 0}\n",
       ".list-inline>li {display: inline-block}\n",
       ".list-inline>li:not(:last-child)::after {content: \"\\00b7\"; padding: 0 .5ex}\n",
       "</style>\n",
       "<ol class=list-inline><li>'GSE112271_myeloid_int.RDS'</li><li>'GSE131907_myeloid_int.RDS'</li><li>'GSE139324_myeloid_int.RDS'</li><li>'GSE154778_myeloid_int.RDS'</li><li>'GSE154826_myeloid_int.RDS'</li><li>'GSE156405_myeloid_int.RDS'</li><li>'GSE161529_myeloid_int.RDS'</li><li>'GSE162025_myeloid_int.RDS'</li><li>'GSE162498_myeloid_int.RDS'</li><li>'GSE164690_myeloid_int.RDS'</li><li>'GSE167297_myeloid_int.RDS'</li><li>'GSE173468_myeloid_int.RDS'</li><li>'GSE176078_myeloid_int.RDS'</li><li>'GSE180661_myeloid_int.RDS'</li><li>'GSE183916_myeloid_int.RDS'</li><li>'GSE184880_myeloid_int.RDS'</li><li>'GSE188737_myeloid_int.RDS'</li><li>'GSE189903_myeloid_int.RDS'</li><li>'GSE195861_myeloid_int.RDS'</li><li>'GSE197177_myeloid_int.RDS'</li><li>'GSE199515_myeloid_int.RDS'</li><li>'GSE200218_myeloid_int.RDS'</li><li>'GSE213243_myeloid_int.RDS'</li><li>'GSE214295_myeloid_int.RDS'</li><li>'GSE215120_myeloid_int.RDS'</li><li>'GSE217517_myeloid_int.RDS'</li><li>'GSE223063_myeloid_int.RDS'</li><li>'GSE224090_myeloid_int.RDS'</li><li>'GSE225600_myeloid_int.RDS'</li><li>'GSE231535_myeloid_int.RDS'</li><li>'GSE234129_myeloid_int.RDS'</li><li>'GSE234933_myeloid_int.RDS'</li><li>'GSE235676_myeloid_int.RDS'</li><li>'PMID32561858_myeloid_int.RDS'</li><li>'PRJCA005422_myeloid_int.RDS'</li><li>'PRJNA907381_myeloid_int.RDS'</li></ol>\n"
      ],
      "text/latex": [
       "\\begin{enumerate*}\n",
       "\\item 'GSE112271\\_myeloid\\_int.RDS'\n",
       "\\item 'GSE131907\\_myeloid\\_int.RDS'\n",
       "\\item 'GSE139324\\_myeloid\\_int.RDS'\n",
       "\\item 'GSE154778\\_myeloid\\_int.RDS'\n",
       "\\item 'GSE154826\\_myeloid\\_int.RDS'\n",
       "\\item 'GSE156405\\_myeloid\\_int.RDS'\n",
       "\\item 'GSE161529\\_myeloid\\_int.RDS'\n",
       "\\item 'GSE162025\\_myeloid\\_int.RDS'\n",
       "\\item 'GSE162498\\_myeloid\\_int.RDS'\n",
       "\\item 'GSE164690\\_myeloid\\_int.RDS'\n",
       "\\item 'GSE167297\\_myeloid\\_int.RDS'\n",
       "\\item 'GSE173468\\_myeloid\\_int.RDS'\n",
       "\\item 'GSE176078\\_myeloid\\_int.RDS'\n",
       "\\item 'GSE180661\\_myeloid\\_int.RDS'\n",
       "\\item 'GSE183916\\_myeloid\\_int.RDS'\n",
       "\\item 'GSE184880\\_myeloid\\_int.RDS'\n",
       "\\item 'GSE188737\\_myeloid\\_int.RDS'\n",
       "\\item 'GSE189903\\_myeloid\\_int.RDS'\n",
       "\\item 'GSE195861\\_myeloid\\_int.RDS'\n",
       "\\item 'GSE197177\\_myeloid\\_int.RDS'\n",
       "\\item 'GSE199515\\_myeloid\\_int.RDS'\n",
       "\\item 'GSE200218\\_myeloid\\_int.RDS'\n",
       "\\item 'GSE213243\\_myeloid\\_int.RDS'\n",
       "\\item 'GSE214295\\_myeloid\\_int.RDS'\n",
       "\\item 'GSE215120\\_myeloid\\_int.RDS'\n",
       "\\item 'GSE217517\\_myeloid\\_int.RDS'\n",
       "\\item 'GSE223063\\_myeloid\\_int.RDS'\n",
       "\\item 'GSE224090\\_myeloid\\_int.RDS'\n",
       "\\item 'GSE225600\\_myeloid\\_int.RDS'\n",
       "\\item 'GSE231535\\_myeloid\\_int.RDS'\n",
       "\\item 'GSE234129\\_myeloid\\_int.RDS'\n",
       "\\item 'GSE234933\\_myeloid\\_int.RDS'\n",
       "\\item 'GSE235676\\_myeloid\\_int.RDS'\n",
       "\\item 'PMID32561858\\_myeloid\\_int.RDS'\n",
       "\\item 'PRJCA005422\\_myeloid\\_int.RDS'\n",
       "\\item 'PRJNA907381\\_myeloid\\_int.RDS'\n",
       "\\end{enumerate*}\n"
      ],
      "text/markdown": [
       "1. 'GSE112271_myeloid_int.RDS'\n",
       "2. 'GSE131907_myeloid_int.RDS'\n",
       "3. 'GSE139324_myeloid_int.RDS'\n",
       "4. 'GSE154778_myeloid_int.RDS'\n",
       "5. 'GSE154826_myeloid_int.RDS'\n",
       "6. 'GSE156405_myeloid_int.RDS'\n",
       "7. 'GSE161529_myeloid_int.RDS'\n",
       "8. 'GSE162025_myeloid_int.RDS'\n",
       "9. 'GSE162498_myeloid_int.RDS'\n",
       "10. 'GSE164690_myeloid_int.RDS'\n",
       "11. 'GSE167297_myeloid_int.RDS'\n",
       "12. 'GSE173468_myeloid_int.RDS'\n",
       "13. 'GSE176078_myeloid_int.RDS'\n",
       "14. 'GSE180661_myeloid_int.RDS'\n",
       "15. 'GSE183916_myeloid_int.RDS'\n",
       "16. 'GSE184880_myeloid_int.RDS'\n",
       "17. 'GSE188737_myeloid_int.RDS'\n",
       "18. 'GSE189903_myeloid_int.RDS'\n",
       "19. 'GSE195861_myeloid_int.RDS'\n",
       "20. 'GSE197177_myeloid_int.RDS'\n",
       "21. 'GSE199515_myeloid_int.RDS'\n",
       "22. 'GSE200218_myeloid_int.RDS'\n",
       "23. 'GSE213243_myeloid_int.RDS'\n",
       "24. 'GSE214295_myeloid_int.RDS'\n",
       "25. 'GSE215120_myeloid_int.RDS'\n",
       "26. 'GSE217517_myeloid_int.RDS'\n",
       "27. 'GSE223063_myeloid_int.RDS'\n",
       "28. 'GSE224090_myeloid_int.RDS'\n",
       "29. 'GSE225600_myeloid_int.RDS'\n",
       "30. 'GSE231535_myeloid_int.RDS'\n",
       "31. 'GSE234129_myeloid_int.RDS'\n",
       "32. 'GSE234933_myeloid_int.RDS'\n",
       "33. 'GSE235676_myeloid_int.RDS'\n",
       "34. 'PMID32561858_myeloid_int.RDS'\n",
       "35. 'PRJCA005422_myeloid_int.RDS'\n",
       "36. 'PRJNA907381_myeloid_int.RDS'\n",
       "\n",
       "\n"
      ],
      "text/plain": [
       " [1] \"GSE112271_myeloid_int.RDS\"    \"GSE131907_myeloid_int.RDS\"   \n",
       " [3] \"GSE139324_myeloid_int.RDS\"    \"GSE154778_myeloid_int.RDS\"   \n",
       " [5] \"GSE154826_myeloid_int.RDS\"    \"GSE156405_myeloid_int.RDS\"   \n",
       " [7] \"GSE161529_myeloid_int.RDS\"    \"GSE162025_myeloid_int.RDS\"   \n",
       " [9] \"GSE162498_myeloid_int.RDS\"    \"GSE164690_myeloid_int.RDS\"   \n",
       "[11] \"GSE167297_myeloid_int.RDS\"    \"GSE173468_myeloid_int.RDS\"   \n",
       "[13] \"GSE176078_myeloid_int.RDS\"    \"GSE180661_myeloid_int.RDS\"   \n",
       "[15] \"GSE183916_myeloid_int.RDS\"    \"GSE184880_myeloid_int.RDS\"   \n",
       "[17] \"GSE188737_myeloid_int.RDS\"    \"GSE189903_myeloid_int.RDS\"   \n",
       "[19] \"GSE195861_myeloid_int.RDS\"    \"GSE197177_myeloid_int.RDS\"   \n",
       "[21] \"GSE199515_myeloid_int.RDS\"    \"GSE200218_myeloid_int.RDS\"   \n",
       "[23] \"GSE213243_myeloid_int.RDS\"    \"GSE214295_myeloid_int.RDS\"   \n",
       "[25] \"GSE215120_myeloid_int.RDS\"    \"GSE217517_myeloid_int.RDS\"   \n",
       "[27] \"GSE223063_myeloid_int.RDS\"    \"GSE224090_myeloid_int.RDS\"   \n",
       "[29] \"GSE225600_myeloid_int.RDS\"    \"GSE231535_myeloid_int.RDS\"   \n",
       "[31] \"GSE234129_myeloid_int.RDS\"    \"GSE234933_myeloid_int.RDS\"   \n",
       "[33] \"GSE235676_myeloid_int.RDS\"    \"PMID32561858_myeloid_int.RDS\"\n",
       "[35] \"PRJCA005422_myeloid_int.RDS\"  \"PRJNA907381_myeloid_int.RDS\" "
      ]
     },
     "metadata": {},
     "output_type": "display_data"
    }
   ],
   "source": [
    "files <- list.files(\"/scratch/user/s4436039/scdata/Myeloid_Cells/Myeloid_Cells_Integrate/\", pattern = \".RDS\")\n",
    "files"
   ]
  },
  {
   "cell_type": "code",
   "execution_count": null,
   "metadata": {
    "vscode": {
     "languageId": "r"
    }
   },
   "outputs": [
    {
     "name": "stdout",
     "output_type": "stream",
     "text": [
      "[1] 1\n"
     ]
    },
    {
     "name": "stdout",
     "output_type": "stream",
     "text": [
      "[1] \"reading in GSE112271_myeloid_int.RDS\"\n",
      "[1] \"Joining layers\"\n",
      "[1] \"Converting to sce\"\n",
      "[1] \"saving as h5ad\"\n"
     ]
    },
    {
     "data": {
      "text/plain": [
       "AnnData object with n_obs × n_vars = 7452 × 32738\n",
       "    obs: 'orig.ident', 'nCount_RNA', 'nFeature_RNA', 'sample_type', 'cancer_type', 'patient_id', 'sample_id', 'percent.mt', 'RNA_snn_res.0.2', 'seurat_clusters', 'site', 'sample_type_major', 'cancer_subtype', 'integration_id', 'dataset_id', 'ident'\n",
       "    var: 'name'"
      ]
     },
     "metadata": {},
     "output_type": "display_data"
    },
    {
     "name": "stdout",
     "output_type": "stream",
     "text": [
      "[1] \"GSE112271_myeloid_int.h5ad saved!\"\n"
     ]
    }
   ],
   "source": [
    "i = 1\n",
    "print(i)\n",
    "print(paste0(\"reading in \", files[i]))\n",
    "seurat_object <- readRDS(file = paste0(\"/scratch/user/s4436039/scdata/Myeloid_Cells/Myeloid_Cells_Integrate/\", files[i]))\n",
    "print(\"Joining layers\")\n",
    "seurat_object <- JoinLayers(seurat_object)\n",
    "print(\"Converting to sce\")\n",
    "sce <- as.SingleCellExperiment(seurat_object)\n",
    "print(\"saving as h5ad\")\n",
    "sceasy::convertFormat(sce, from=\"sce\", to=\"anndata\", outFile=paste0(\"/scratch/user/s4436039/scdata/Myeloid_Cells/Myeloid_Cells_Integrate/\", gsub(\"[.].*\", \".h5ad\", files[i])), drop_single_values=FALSE)\n",
    "print(paste0(gsub(\"[.].*\", \".h5ad\", files[i]), \" saved!\"))"
   ]
  },
  {
   "cell_type": "code",
   "execution_count": null,
   "metadata": {
    "vscode": {
     "languageId": "r"
    }
   },
   "outputs": [
    {
     "name": "stdout",
     "output_type": "stream",
     "text": [
      "[1] 2\n",
      "[1] \"reading in GSE131907_myeloid_int.RDS\"\n",
      "[1] \"Joining layers\"\n",
      "[1] \"Converting to sce\"\n",
      "[1] \"saving as h5ad\"\n"
     ]
    },
    {
     "data": {
      "text/plain": [
       "AnnData object with n_obs × n_vars = 36524 × 29634\n",
       "    obs: 'orig.ident', 'nCount_RNA', 'nFeature_RNA', 'sample_meta', 'sample_type', 'cancer_type', 'patient_id', 'sample_id', 'percent.mt', 'RNA_snn_res.0.2', 'seurat_clusters', 'site', 'sample_type_major', 'cancer_subtype', 'integration_id', 'dataset_id', 'ident'\n",
       "    var: 'name'"
      ]
     },
     "metadata": {},
     "output_type": "display_data"
    },
    {
     "name": "stdout",
     "output_type": "stream",
     "text": [
      "[1] \"GSE131907_myeloid_int.h5ad saved!\"\n"
     ]
    }
   ],
   "source": [
    "i = 2\n",
    "print(i)\n",
    "print(paste0(\"reading in \", files[i]))\n",
    "seurat_object <- readRDS(file = paste0(\"/scratch/user/s4436039/scdata/Myeloid_Cells/Myeloid_Cells_Integrate/\", files[i]))\n",
    "print(\"Joining layers\")\n",
    "seurat_object <- JoinLayers(seurat_object)\n",
    "print(\"Converting to sce\")\n",
    "sce <- as.SingleCellExperiment(seurat_object)\n",
    "print(\"saving as h5ad\")\n",
    "sceasy::convertFormat(sce, from=\"sce\", to=\"anndata\", outFile=paste0(\"/scratch/user/s4436039/scdata/Myeloid_Cells/Myeloid_Cells_Integrate/\", gsub(\"[.].*\", \".h5ad\", files[i])), drop_single_values=FALSE)\n",
    "print(paste0(gsub(\"[.].*\", \".h5ad\", files[i]), \" saved!\"))"
   ]
  },
  {
   "cell_type": "code",
   "execution_count": null,
   "metadata": {
    "vscode": {
     "languageId": "r"
    }
   },
   "outputs": [
    {
     "name": "stdout",
     "output_type": "stream",
     "text": [
      "[1] 3\n",
      "[1] \"reading in GSE139324_myeloid_int.RDS\"\n",
      "[1] \"Joining layers\"\n",
      "[1] \"Converting to sce\"\n",
      "[1] \"saving as h5ad\"\n"
     ]
    },
    {
     "data": {
      "text/plain": [
       "AnnData object with n_obs × n_vars = 8753 × 33694\n",
       "    obs: 'orig.ident', 'nCount_RNA', 'nFeature_RNA', 'sample_type', 'cancer_type', 'patient_id', 'sample_id', 'percent.mt', 'RNA_snn_res.0.2', 'seurat_clusters', 'RNA_snn_res.0.5', 'site', 'sample_type_major', 'cancer_subtype', 'integration_id', 'dataset_id', 'ident'\n",
       "    var: 'name'"
      ]
     },
     "metadata": {},
     "output_type": "display_data"
    },
    {
     "name": "stdout",
     "output_type": "stream",
     "text": [
      "[1] \"GSE139324_myeloid_int.h5ad saved!\"\n"
     ]
    }
   ],
   "source": [
    "i = 3\n",
    "print(i)\n",
    "print(paste0(\"reading in \", files[i]))\n",
    "seurat_object <- readRDS(file = paste0(\"/scratch/user/s4436039/scdata/Myeloid_Cells/Myeloid_Cells_Integrate/\", files[i]))\n",
    "print(\"Joining layers\")\n",
    "seurat_object <- JoinLayers(seurat_object)\n",
    "print(\"Converting to sce\")\n",
    "sce <- as.SingleCellExperiment(seurat_object)\n",
    "print(\"saving as h5ad\")\n",
    "sceasy::convertFormat(sce, from=\"sce\", to=\"anndata\", outFile=paste0(\"/scratch/user/s4436039/scdata/Myeloid_Cells/Myeloid_Cells_Integrate/\", gsub(\"[.].*\", \".h5ad\", files[i])), drop_single_values=FALSE)\n",
    "print(paste0(gsub(\"[.].*\", \".h5ad\", files[i]), \" saved!\"))"
   ]
  },
  {
   "cell_type": "code",
   "execution_count": null,
   "metadata": {
    "vscode": {
     "languageId": "r"
    }
   },
   "outputs": [
    {
     "name": "stdout",
     "output_type": "stream",
     "text": [
      "[1] 4\n",
      "[1] \"reading in GSE154778_myeloid_int.RDS\"\n",
      "[1] \"Joining layers\"\n",
      "[1] \"Converting to sce\"\n",
      "[1] \"saving as h5ad\"\n"
     ]
    },
    {
     "data": {
      "text/plain": [
       "AnnData object with n_obs × n_vars = 1038 × 32738\n",
       "    obs: 'orig.ident', 'nCount_RNA', 'nFeature_RNA', 'sample_type', 'cancer_type', 'patient_id', 'sample_id', 'percent.mt', 'RNA_snn_res.0.2', 'seurat_clusters', 'cancer_subtype', 'integration_id', 'site', 'sample_type_major', 'dataset_id', 'ident'\n",
       "    var: 'name'\n",
       "    obsm: 'X_pca', 'X_umap'"
      ]
     },
     "metadata": {},
     "output_type": "display_data"
    },
    {
     "name": "stdout",
     "output_type": "stream",
     "text": [
      "[1] \"GSE154778_myeloid_int.h5ad saved!\"\n"
     ]
    }
   ],
   "source": [
    "i = 4\n",
    "print(i)\n",
    "print(paste0(\"reading in \", files[i]))\n",
    "seurat_object <- readRDS(file = paste0(\"/scratch/user/s4436039/scdata/Myeloid_Cells/Myeloid_Cells_Integrate/\", files[i]))\n",
    "print(\"Joining layers\")\n",
    "seurat_object <- JoinLayers(seurat_object)\n",
    "print(\"Converting to sce\")\n",
    "sce <- as.SingleCellExperiment(seurat_object)\n",
    "print(\"saving as h5ad\")\n",
    "sceasy::convertFormat(sce, from=\"sce\", to=\"anndata\", outFile=paste0(\"/scratch/user/s4436039/scdata/Myeloid_Cells/Myeloid_Cells_Integrate/\", gsub(\"[.].*\", \".h5ad\", files[i])), drop_single_values=FALSE)\n",
    "print(paste0(gsub(\"[.].*\", \".h5ad\", files[i]), \" saved!\"))"
   ]
  },
  {
   "cell_type": "code",
   "execution_count": null,
   "metadata": {
    "vscode": {
     "languageId": "r"
    }
   },
   "outputs": [
    {
     "name": "stdout",
     "output_type": "stream",
     "text": [
      "[1] 5\n",
      "[1] \"reading in GSE154826_myeloid_int.RDS\"\n",
      "[1] \"Joining layers\"\n",
      "[1] \"Converting to sce\"\n",
      "[1] \"saving as h5ad\"\n"
     ]
    },
    {
     "data": {
      "text/plain": [
       "AnnData object with n_obs × n_vars = 80224 × 33694\n",
       "    obs: 'orig.ident', 'nCount_RNA', 'nFeature_RNA', 'sample_type', 'cancer_type', 'patient_id', 'sample_id', 'site', 'cancer_subtype', 'sample_type_major', 'integration_id', 'percent.mt', 'RNA_snn_res.0.2', 'seurat_clusters', 'ident'\n",
       "    var: 'name'"
      ]
     },
     "metadata": {},
     "output_type": "display_data"
    },
    {
     "name": "stdout",
     "output_type": "stream",
     "text": [
      "[1] \"GSE154826_myeloid_int.h5ad saved!\"\n"
     ]
    }
   ],
   "source": [
    "i = 5\n",
    "print(i)\n",
    "print(paste0(\"reading in \", files[i]))\n",
    "seurat_object <- readRDS(file = paste0(\"/scratch/user/s4436039/scdata/Myeloid_Cells/Myeloid_Cells_Integrate/\", files[i]))\n",
    "print(\"Joining layers\")\n",
    "seurat_object <- JoinLayers(seurat_object)\n",
    "print(\"Converting to sce\")\n",
    "sce <- as.SingleCellExperiment(seurat_object)\n",
    "print(\"saving as h5ad\")\n",
    "sceasy::convertFormat(sce, from=\"sce\", to=\"anndata\", outFile=paste0(\"/scratch/user/s4436039/scdata/Myeloid_Cells/Myeloid_Cells_Integrate/\", gsub(\"[.].*\", \".h5ad\", files[i])), drop_single_values=FALSE)\n",
    "print(paste0(gsub(\"[.].*\", \".h5ad\", files[i]), \" saved!\"))"
   ]
  },
  {
   "cell_type": "code",
   "execution_count": null,
   "metadata": {
    "vscode": {
     "languageId": "r"
    }
   },
   "outputs": [
    {
     "name": "stdout",
     "output_type": "stream",
     "text": [
      "[1] 6\n",
      "[1] \"reading in GSE156405_myeloid_int.RDS\"\n",
      "[1] \"Joining layers\"\n",
      "[1] \"Converting to sce\"\n",
      "[1] \"saving as h5ad\"\n"
     ]
    },
    {
     "data": {
      "text/plain": [
       "AnnData object with n_obs × n_vars = 3472 × 33694\n",
       "    obs: 'orig.ident', 'nCount_RNA', 'nFeature_RNA', 'sample_type', 'cancer_type', 'patient_id', 'sample_id', 'percent.mt', 'RNA_snn_res.0.2', 'seurat_clusters', 'graph_res.0.2', 'RNA_snn_res.0.3', 'cancer_subtype', 'integration_id', 'site', 'sample_type_major', 'dataset_id', 'ident'\n",
       "    var: 'name'"
      ]
     },
     "metadata": {},
     "output_type": "display_data"
    },
    {
     "name": "stdout",
     "output_type": "stream",
     "text": [
      "[1] \"GSE156405_myeloid_int.h5ad saved!\"\n"
     ]
    }
   ],
   "source": [
    "i = 6\n",
    "print(i)\n",
    "print(paste0(\"reading in \", files[i]))\n",
    "seurat_object <- readRDS(file = paste0(\"/scratch/user/s4436039/scdata/Myeloid_Cells/Myeloid_Cells_Integrate/\", files[i]))\n",
    "print(\"Joining layers\")\n",
    "seurat_object <- JoinLayers(seurat_object)\n",
    "print(\"Converting to sce\")\n",
    "sce <- as.SingleCellExperiment(seurat_object)\n",
    "print(\"saving as h5ad\")\n",
    "sceasy::convertFormat(sce, from=\"sce\", to=\"anndata\", outFile=paste0(\"/scratch/user/s4436039/scdata/Myeloid_Cells/Myeloid_Cells_Integrate/\", gsub(\"[.].*\", \".h5ad\", files[i])), drop_single_values=FALSE)\n",
    "print(paste0(gsub(\"[.].*\", \".h5ad\", files[i]), \" saved!\"))"
   ]
  },
  {
   "cell_type": "code",
   "execution_count": null,
   "metadata": {
    "vscode": {
     "languageId": "r"
    }
   },
   "outputs": [
    {
     "name": "stdout",
     "output_type": "stream",
     "text": [
      "[1] 7\n",
      "[1] \"reading in GSE161529_myeloid_int.RDS\"\n",
      "[1] \"Joining layers\"\n",
      "[1] \"Converting to sce\"\n",
      "[1] \"saving as h5ad\"\n"
     ]
    },
    {
     "data": {
      "text/plain": [
       "AnnData object with n_obs × n_vars = 21522 × 33538\n",
       "    obs: 'orig.ident', 'nCount_RNA', 'nFeature_RNA', 'sample_type', 'cancer_type', 'patient_id', 'sample_id', 'percent.mt', 'RNA_snn_res.0.2', 'seurat_clusters', 'site', 'sample_type_major', 'cancer_subtype', 'integration_id', 'dataset_id', 'ident'\n",
       "    var: 'name'"
      ]
     },
     "metadata": {},
     "output_type": "display_data"
    },
    {
     "name": "stdout",
     "output_type": "stream",
     "text": [
      "[1] \"GSE161529_myeloid_int.h5ad saved!\"\n"
     ]
    }
   ],
   "source": [
    "i = 7\n",
    "print(i)\n",
    "print(paste0(\"reading in \", files[i]))\n",
    "seurat_object <- readRDS(file = paste0(\"/scratch/user/s4436039/scdata/Myeloid_Cells/Myeloid_Cells_Integrate/\", files[i]))\n",
    "print(\"Joining layers\")\n",
    "seurat_object <- JoinLayers(seurat_object)\n",
    "print(\"Converting to sce\")\n",
    "sce <- as.SingleCellExperiment(seurat_object)\n",
    "print(\"saving as h5ad\")\n",
    "sceasy::convertFormat(sce, from=\"sce\", to=\"anndata\", outFile=paste0(\"/scratch/user/s4436039/scdata/Myeloid_Cells/Myeloid_Cells_Integrate/\", gsub(\"[.].*\", \".h5ad\", files[i])), drop_single_values=FALSE)\n",
    "print(paste0(gsub(\"[.].*\", \".h5ad\", files[i]), \" saved!\"))"
   ]
  },
  {
   "cell_type": "code",
   "execution_count": null,
   "metadata": {
    "vscode": {
     "languageId": "r"
    }
   },
   "outputs": [
    {
     "name": "stdout",
     "output_type": "stream",
     "text": [
      "[1] 8\n",
      "[1] \"reading in GSE162025_myeloid_int.RDS\"\n",
      "[1] \"Joining layers\"\n",
      "[1] \"Converting to sce\"\n",
      "[1] \"saving as h5ad\"\n"
     ]
    },
    {
     "data": {
      "text/plain": [
       "AnnData object with n_obs × n_vars = 2069 × 20930\n",
       "    obs: 'orig.ident', 'nCount_RNA', 'nFeature_RNA', 'sample_type', 'cancer_type', 'patient_id', 'sample_id', 'percent.mt', 'RNA_snn_res.0.2', 'seurat_clusters', 'RNA_snn_res.0.4', 'site', 'sample_type_major', 'cancer_subtype', 'integration_id', 'dataset_id', 'ident'\n",
       "    var: 'name'\n",
       "    obsm: 'X_pca', 'X_umap'"
      ]
     },
     "metadata": {},
     "output_type": "display_data"
    },
    {
     "name": "stdout",
     "output_type": "stream",
     "text": [
      "[1] \"GSE162025_myeloid_int.h5ad saved!\"\n"
     ]
    }
   ],
   "source": [
    "i = 8\n",
    "print(i)\n",
    "print(paste0(\"reading in \", files[i]))\n",
    "seurat_object <- readRDS(file = paste0(\"/scratch/user/s4436039/scdata/Myeloid_Cells/Myeloid_Cells_Integrate/\", files[i]))\n",
    "print(\"Joining layers\")\n",
    "seurat_object <- JoinLayers(seurat_object)\n",
    "print(\"Converting to sce\")\n",
    "sce <- as.SingleCellExperiment(seurat_object)\n",
    "print(\"saving as h5ad\")\n",
    "sceasy::convertFormat(sce, from=\"sce\", to=\"anndata\", outFile=paste0(\"/scratch/user/s4436039/scdata/Myeloid_Cells/Myeloid_Cells_Integrate/\", gsub(\"[.].*\", \".h5ad\", files[i])), drop_single_values=FALSE)\n",
    "print(paste0(gsub(\"[.].*\", \".h5ad\", files[i]), \" saved!\"))"
   ]
  },
  {
   "cell_type": "code",
   "execution_count": null,
   "metadata": {
    "vscode": {
     "languageId": "r"
    }
   },
   "outputs": [
    {
     "name": "stdout",
     "output_type": "stream",
     "text": [
      "[1] 9\n",
      "[1] \"reading in GSE162498_myeloid_int.RDS\"\n",
      "[1] \"Joining layers\"\n",
      "[1] \"Converting to sce\"\n",
      "[1] \"saving as h5ad\"\n"
     ]
    },
    {
     "data": {
      "text/plain": [
       "AnnData object with n_obs × n_vars = 28781 × 45068\n",
       "    obs: 'orig.ident', 'nCount_RNA', 'nFeature_RNA', 'sample_type', 'cancer_type', 'patient_id', 'sample_id', 'percent.mt', 'RNA_snn_res.0.2', 'seurat_clusters', 'site', 'sample_type_major', 'cancer_subtype', 'integration_id', 'dataset_id', 'ident'\n",
       "    var: 'name'"
      ]
     },
     "metadata": {},
     "output_type": "display_data"
    },
    {
     "name": "stdout",
     "output_type": "stream",
     "text": [
      "[1] \"GSE162498_myeloid_int.h5ad saved!\"\n"
     ]
    }
   ],
   "source": [
    "i = 9\n",
    "print(i)\n",
    "print(paste0(\"reading in \", files[i]))\n",
    "seurat_object <- readRDS(file = paste0(\"/scratch/user/s4436039/scdata/Myeloid_Cells/Myeloid_Cells_Integrate/\", files[i]))\n",
    "print(\"Joining layers\")\n",
    "seurat_object <- JoinLayers(seurat_object)\n",
    "print(\"Converting to sce\")\n",
    "sce <- as.SingleCellExperiment(seurat_object)\n",
    "print(\"saving as h5ad\")\n",
    "sceasy::convertFormat(sce, from=\"sce\", to=\"anndata\", outFile=paste0(\"/scratch/user/s4436039/scdata/Myeloid_Cells/Myeloid_Cells_Integrate/\", gsub(\"[.].*\", \".h5ad\", files[i])), drop_single_values=FALSE)\n",
    "print(paste0(gsub(\"[.].*\", \".h5ad\", files[i]), \" saved!\"))"
   ]
  },
  {
   "cell_type": "code",
   "execution_count": null,
   "metadata": {
    "vscode": {
     "languageId": "r"
    }
   },
   "outputs": [
    {
     "name": "stdout",
     "output_type": "stream",
     "text": [
      "[1] 10\n",
      "[1] \"reading in GSE164690_myeloid_int.RDS\"\n",
      "[1] \"Joining layers\"\n",
      "[1] \"Converting to sce\"\n",
      "[1] \"saving as h5ad\"\n"
     ]
    },
    {
     "data": {
      "text/plain": [
       "AnnData object with n_obs × n_vars = 9526 × 33545\n",
       "    obs: 'orig.ident', 'nCount_RNA', 'nFeature_RNA', 'sample_type', 'cancer_type', 'patient_id', 'sample_id', 'percent.mt', 'RNA_snn_res.0.5', 'seurat_clusters', 'RNA_snn_res.0.2', 'site', 'sample_type_major', 'cancer_subtype', 'integration_id', 'dataset_id', 'ident'\n",
       "    var: 'name'\n",
       "    obsm: 'X_pca', 'X_umap'"
      ]
     },
     "metadata": {},
     "output_type": "display_data"
    },
    {
     "name": "stdout",
     "output_type": "stream",
     "text": [
      "[1] \"GSE164690_myeloid_int.h5ad saved!\"\n"
     ]
    }
   ],
   "source": [
    "i = 10\n",
    "print(i)\n",
    "print(paste0(\"reading in \", files[i]))\n",
    "seurat_object <- readRDS(file = paste0(\"/scratch/user/s4436039/scdata/Myeloid_Cells/Myeloid_Cells_Integrate/\", files[i]))\n",
    "print(\"Joining layers\")\n",
    "seurat_object <- JoinLayers(seurat_object)\n",
    "print(\"Converting to sce\")\n",
    "sce <- as.SingleCellExperiment(seurat_object)\n",
    "print(\"saving as h5ad\")\n",
    "sceasy::convertFormat(sce, from=\"sce\", to=\"anndata\", outFile=paste0(\"/scratch/user/s4436039/scdata/Myeloid_Cells/Myeloid_Cells_Integrate/\", gsub(\"[.].*\", \".h5ad\", files[i])), drop_single_values=FALSE)\n",
    "print(paste0(gsub(\"[.].*\", \".h5ad\", files[i]), \" saved!\"))"
   ]
  },
  {
   "cell_type": "code",
   "execution_count": null,
   "metadata": {
    "vscode": {
     "languageId": "r"
    }
   },
   "outputs": [
    {
     "name": "stdout",
     "output_type": "stream",
     "text": [
      "[1] 11\n",
      "[1] \"reading in GSE167297_myeloid_int.RDS\"\n",
      "[1] \"Joining layers\"\n",
      "[1] \"Converting to sce\"\n",
      "[1] \"saving as h5ad\"\n"
     ]
    },
    {
     "data": {
      "text/plain": [
       "AnnData object with n_obs × n_vars = 2329 × 32738\n",
       "    obs: 'orig.ident', 'nCount_RNA', 'nFeature_RNA', 'sample_type', 'cancer_type', 'patient_id', 'sample_id', 'percent.mt', 'RNA_snn_res.0.2', 'seurat_clusters', 'cancer_subtype', 'site', 'sample_type_major', 'integration_id', 'dataset_id', 'ident'\n",
       "    var: 'name'"
      ]
     },
     "metadata": {},
     "output_type": "display_data"
    },
    {
     "name": "stdout",
     "output_type": "stream",
     "text": [
      "[1] \"GSE167297_myeloid_int.h5ad saved!\"\n"
     ]
    }
   ],
   "source": [
    "i = 11\n",
    "print(i)\n",
    "print(paste0(\"reading in \", files[i]))\n",
    "seurat_object <- readRDS(file = paste0(\"/scratch/user/s4436039/scdata/Myeloid_Cells/Myeloid_Cells_Integrate/\", files[i]))\n",
    "print(\"Joining layers\")\n",
    "seurat_object <- JoinLayers(seurat_object)\n",
    "print(\"Converting to sce\")\n",
    "sce <- as.SingleCellExperiment(seurat_object)\n",
    "print(\"saving as h5ad\")\n",
    "sceasy::convertFormat(sce, from=\"sce\", to=\"anndata\", outFile=paste0(\"/scratch/user/s4436039/scdata/Myeloid_Cells/Myeloid_Cells_Integrate/\", gsub(\"[.].*\", \".h5ad\", files[i])), drop_single_values=FALSE)\n",
    "print(paste0(gsub(\"[.].*\", \".h5ad\", files[i]), \" saved!\"))"
   ]
  },
  {
   "cell_type": "code",
   "execution_count": null,
   "metadata": {
    "vscode": {
     "languageId": "r"
    }
   },
   "outputs": [
    {
     "name": "stdout",
     "output_type": "stream",
     "text": [
      "[1] 12\n",
      "[1] \"reading in GSE173468_myeloid_int.RDS\"\n",
      "[1] \"Joining layers\"\n",
      "[1] \"Converting to sce\"\n",
      "[1] \"saving as h5ad\"\n"
     ]
    },
    {
     "data": {
      "text/plain": [
       "AnnData object with n_obs × n_vars = 4032 × 36601\n",
       "    obs: 'orig.ident', 'nCount_RNA', 'nFeature_RNA', 'sample_type', 'cancer_type', 'patient_id', 'sample_id', 'percent.mt', 'RNA_snn_res.0.2', 'seurat_clusters', 'site', 'sample_type_major', 'cancer_subtype', 'integration_id', 'dataset_id', 'ident'\n",
       "    var: 'name'"
      ]
     },
     "metadata": {},
     "output_type": "display_data"
    },
    {
     "name": "stdout",
     "output_type": "stream",
     "text": [
      "[1] \"GSE173468_myeloid_int.h5ad saved!\"\n"
     ]
    }
   ],
   "source": [
    "i = 12\n",
    "print(i)\n",
    "print(paste0(\"reading in \", files[i]))\n",
    "seurat_object <- readRDS(file = paste0(\"/scratch/user/s4436039/scdata/Myeloid_Cells/Myeloid_Cells_Integrate/\", files[i]))\n",
    "print(\"Joining layers\")\n",
    "seurat_object <- JoinLayers(seurat_object)\n",
    "print(\"Converting to sce\")\n",
    "sce <- as.SingleCellExperiment(seurat_object)\n",
    "print(\"saving as h5ad\")\n",
    "sceasy::convertFormat(sce, from=\"sce\", to=\"anndata\", outFile=paste0(\"/scratch/user/s4436039/scdata/Myeloid_Cells/Myeloid_Cells_Integrate/\", gsub(\"[.].*\", \".h5ad\", files[i])), drop_single_values=FALSE)\n",
    "print(paste0(gsub(\"[.].*\", \".h5ad\", files[i]), \" saved!\"))"
   ]
  },
  {
   "cell_type": "code",
   "execution_count": null,
   "metadata": {
    "vscode": {
     "languageId": "r"
    }
   },
   "outputs": [
    {
     "name": "stdout",
     "output_type": "stream",
     "text": [
      "[1] 13\n",
      "[1] \"reading in GSE176078_myeloid_int.RDS\"\n",
      "[1] \"Joining layers\"\n",
      "[1] \"Converting to sce\"\n",
      "[1] \"saving as h5ad\"\n"
     ]
    },
    {
     "data": {
      "text/plain": [
       "AnnData object with n_obs × n_vars = 9160 × 29733\n",
       "    obs: 'orig.ident', 'nCount_RNA', 'nFeature_RNA', 'X', 'percent.mito', 'subtype', 'celltype_subset', 'celltype_minor', 'celltype_major', 'sample_type', 'cancer_type', 'patient_id', 'sample_id', 'percent.mt', 'RNA_snn_res.0.2', 'seurat_clusters', 'site', 'sample_type_major', 'cancer_subtype', 'integration_id', 'dataset_id', 'ident'\n",
       "    var: 'name'\n",
       "    obsm: 'X_pca', 'X_umap'"
      ]
     },
     "metadata": {},
     "output_type": "display_data"
    },
    {
     "name": "stdout",
     "output_type": "stream",
     "text": [
      "[1] \"GSE176078_myeloid_int.h5ad saved!\"\n"
     ]
    }
   ],
   "source": [
    "i = 13\n",
    "print(i)\n",
    "print(paste0(\"reading in \", files[i]))\n",
    "seurat_object <- readRDS(file = paste0(\"/scratch/user/s4436039/scdata/Myeloid_Cells/Myeloid_Cells_Integrate/\", files[i]))\n",
    "print(\"Joining layers\")\n",
    "seurat_object <- JoinLayers(seurat_object)\n",
    "print(\"Converting to sce\")\n",
    "sce <- as.SingleCellExperiment(seurat_object)\n",
    "print(\"saving as h5ad\")\n",
    "sceasy::convertFormat(sce, from=\"sce\", to=\"anndata\", outFile=paste0(\"/scratch/user/s4436039/scdata/Myeloid_Cells/Myeloid_Cells_Integrate/\", gsub(\"[.].*\", \".h5ad\", files[i])), drop_single_values=FALSE)\n",
    "print(paste0(gsub(\"[.].*\", \".h5ad\", files[i]), \" saved!\"))"
   ]
  },
  {
   "cell_type": "code",
   "execution_count": null,
   "metadata": {
    "vscode": {
     "languageId": "r"
    }
   },
   "outputs": [
    {
     "name": "stdout",
     "output_type": "stream",
     "text": [
      "[1] 14\n",
      "[1] \"reading in GSE180661_myeloid_int.RDS\"\n",
      "[1] \"Joining layers\"\n"
     ]
    }
   ],
   "source": [
    "# too slow\n",
    "# i = 14\n",
    "# print(i)\n",
    "# print(paste0(\"reading in \", files[i]))\n",
    "# seurat_object <- readRDS(file = paste0(\"/scratch/user/s4436039/scdata/Myeloid_Cells/Myeloid_Cells_Integrate/\", files[i]))\n",
    "# print(\"Joining layers\")\n",
    "# seurat_object <- JoinLayers(seurat_object)\n",
    "# print(\"Converting to sce\")\n",
    "# sce <- as.SingleCellExperiment(seurat_object)\n",
    "# print(\"saving as h5ad\")\n",
    "# sceasy::convertFormat(sce, from=\"sce\", to=\"anndata\", outFile=paste0(\"/scratch/user/s4436039/scdata/Myeloid_Cells/Myeloid_Cells_Integrate/\", gsub(\"[.].*\", \".h5ad\", files[i])), drop_single_values=FALSE)\n",
    "# print(paste0(gsub(\"[.].*\", \".h5ad\", files[i]), \" saved!\"))"
   ]
  },
  {
   "cell_type": "code",
   "execution_count": 16,
   "metadata": {
    "vscode": {
     "languageId": "r"
    }
   },
   "outputs": [
    {
     "name": "stdout",
     "output_type": "stream",
     "text": [
      "[1] 14\n"
     ]
    },
    {
     "name": "stdout",
     "output_type": "stream",
     "text": [
      "[1] \"reading in GSE180661_myeloid_int.RDS\"\n",
      "[1] \"processing GSE180661_SPECTRUM-OV-002_S1_CD45P_RIGHT_OVARY\"\n"
     ]
    },
    {
     "name": "stderr",
     "output_type": "stream",
     "text": [
      "Warning message:\n",
      "“Layer ‘scale.data’ is empty”\n",
      "Warning message in .regularise_df(as.data.frame(SummarizedExperiment::colData(obj)), :\n",
      "“Dropping single category variables:sample, cell_type, cluster_label_sub, cell_type_super, patient_id, tumor_subsite, tumor_site, tumor_supersite, sort_parameters, therapy, surgery, sample_type, cancer_type, sample_id, cancer_subtype, sample_type_major, site, integration_id, dataset_id”\n"
     ]
    },
    {
     "name": "stdout",
     "output_type": "stream",
     "text": [
      "[1] \"GSE180661_SPECTRUM-OV-002_S1_CD45P_RIGHT_OVARY_GSE180661_myeloid_int.h5ad saved!\"\n",
      "[1] \"processing GSE180661_SPECTRUM-OV-003_S1_UNSORTED_LEFT_ADNEXA\"\n"
     ]
    },
    {
     "name": "stderr",
     "output_type": "stream",
     "text": [
      "Warning message:\n",
      "“Layer ‘scale.data’ is empty”\n",
      "Warning message in .regularise_df(as.data.frame(SummarizedExperiment::colData(obj)), :\n",
      "“Dropping single category variables:sample, cluster_label_sub, patient_id, tumor_subsite, tumor_site, tumor_supersite, sort_parameters, therapy, surgery, sample_type, cancer_type, sample_id, cancer_subtype, sample_type_major, site, integration_id, dataset_id”\n"
     ]
    },
    {
     "name": "stdout",
     "output_type": "stream",
     "text": [
      "[1] \"GSE180661_SPECTRUM-OV-003_S1_UNSORTED_LEFT_ADNEXA_GSE180661_myeloid_int.h5ad saved!\"\n",
      "[1] \"processing GSE180661_SPECTRUM-OV-003_S1_UNSORTED_RIGHT_ADNEXA\"\n"
     ]
    },
    {
     "name": "stderr",
     "output_type": "stream",
     "text": [
      "Warning message:\n",
      "“Layer ‘scale.data’ is empty”\n",
      "Warning message in .regularise_df(as.data.frame(SummarizedExperiment::colData(obj)), :\n",
      "“Dropping single category variables:sample, cluster_label_sub, patient_id, tumor_subsite, tumor_site, tumor_supersite, sort_parameters, therapy, surgery, sample_type, cancer_type, sample_id, cancer_subtype, sample_type_major, site, integration_id, dataset_id”\n"
     ]
    },
    {
     "name": "stdout",
     "output_type": "stream",
     "text": [
      "[1] \"GSE180661_SPECTRUM-OV-003_S1_UNSORTED_RIGHT_ADNEXA_GSE180661_myeloid_int.h5ad saved!\"\n",
      "[1] \"processing GSE180661_SPECTRUM-OV-009_S1_CD45P_RIGHT_OVARY\"\n"
     ]
    },
    {
     "name": "stderr",
     "output_type": "stream",
     "text": [
      "Warning message:\n",
      "“Layer ‘scale.data’ is empty”\n",
      "Warning message in .regularise_df(as.data.frame(SummarizedExperiment::colData(obj)), :\n",
      "“Dropping single category variables:sample, cluster_label_sub, patient_id, tumor_subsite, tumor_site, tumor_supersite, sort_parameters, therapy, surgery, sample_type, cancer_type, sample_id, cancer_subtype, sample_type_major, site, integration_id, dataset_id”\n"
     ]
    },
    {
     "name": "stdout",
     "output_type": "stream",
     "text": [
      "[1] \"GSE180661_SPECTRUM-OV-009_S1_CD45P_RIGHT_OVARY_GSE180661_myeloid_int.h5ad saved!\"\n",
      "[1] \"processing GSE180661_SPECTRUM-OV-009_S1_CD45P_LEFT_OVARY\"\n"
     ]
    },
    {
     "name": "stderr",
     "output_type": "stream",
     "text": [
      "Warning message:\n",
      "“Layer ‘scale.data’ is empty”\n",
      "Warning message in .regularise_df(as.data.frame(SummarizedExperiment::colData(obj)), :\n",
      "“Dropping single category variables:sample, cluster_label_sub, patient_id, tumor_subsite, tumor_site, tumor_supersite, sort_parameters, therapy, surgery, sample_type, cancer_type, sample_id, cancer_subtype, sample_type_major, site, integration_id, dataset_id”\n"
     ]
    },
    {
     "name": "stdout",
     "output_type": "stream",
     "text": [
      "[1] \"GSE180661_SPECTRUM-OV-009_S1_CD45P_LEFT_OVARY_GSE180661_myeloid_int.h5ad saved!\"\n",
      "[1] \"processing GSE180661_SPECTRUM-OV-014_S1_CD45P_LEFT_OVARY\"\n"
     ]
    },
    {
     "name": "stderr",
     "output_type": "stream",
     "text": [
      "Warning message:\n",
      "“Layer ‘scale.data’ is empty”\n",
      "Warning message in .regularise_df(as.data.frame(SummarizedExperiment::colData(obj)), :\n",
      "“Dropping single category variables:sample, patient_id, tumor_subsite, tumor_site, tumor_supersite, sort_parameters, therapy, surgery, sample_type, cancer_type, sample_id, cancer_subtype, sample_type_major, site, integration_id, dataset_id”\n"
     ]
    },
    {
     "name": "stdout",
     "output_type": "stream",
     "text": [
      "[1] \"GSE180661_SPECTRUM-OV-014_S1_CD45P_LEFT_OVARY_GSE180661_myeloid_int.h5ad saved!\"\n",
      "[1] \"processing GSE180661_SPECTRUM-OV-022_S1_CD45P_RIGHT_ADNEXA\"\n"
     ]
    },
    {
     "name": "stderr",
     "output_type": "stream",
     "text": [
      "Warning message:\n",
      "“Layer ‘scale.data’ is empty”\n",
      "Warning message in .regularise_df(as.data.frame(SummarizedExperiment::colData(obj)), :\n",
      "“Dropping single category variables:sample, cluster_label_sub, patient_id, tumor_subsite, tumor_site, tumor_supersite, sort_parameters, therapy, surgery, sample_type, cancer_type, sample_id, cancer_subtype, sample_type_major, site, integration_id, dataset_id”\n"
     ]
    },
    {
     "name": "stdout",
     "output_type": "stream",
     "text": [
      "[1] \"GSE180661_SPECTRUM-OV-022_S1_CD45P_RIGHT_ADNEXA_GSE180661_myeloid_int.h5ad saved!\"\n",
      "[1] \"processing GSE180661_SPECTRUM-OV-022_S1_CD45P_LEFT_ADNEXA\"\n"
     ]
    },
    {
     "name": "stderr",
     "output_type": "stream",
     "text": [
      "Warning message:\n",
      "“Layer ‘scale.data’ is empty”\n",
      "Warning message in .regularise_df(as.data.frame(SummarizedExperiment::colData(obj)), :\n",
      "“Dropping single category variables:sample, cell_type, cluster_label_sub, cell_type_super, patient_id, tumor_subsite, tumor_site, tumor_supersite, sort_parameters, therapy, surgery, sample_type, cancer_type, sample_id, cancer_subtype, sample_type_major, site, integration_id, dataset_id”\n"
     ]
    },
    {
     "name": "stdout",
     "output_type": "stream",
     "text": [
      "[1] \"GSE180661_SPECTRUM-OV-022_S1_CD45P_LEFT_ADNEXA_GSE180661_myeloid_int.h5ad saved!\"\n",
      "[1] \"processing GSE180661_SPECTRUM-OV-025_S1_CD45P_RIGHT_OVARY\"\n"
     ]
    },
    {
     "name": "stderr",
     "output_type": "stream",
     "text": [
      "Warning message:\n",
      "“Layer ‘scale.data’ is empty”\n",
      "Warning message in .regularise_df(as.data.frame(SummarizedExperiment::colData(obj)), :\n",
      "“Dropping single category variables:sample, cluster_label_sub, patient_id, tumor_subsite, tumor_site, tumor_supersite, sort_parameters, therapy, surgery, sample_type, cancer_type, sample_id, cancer_subtype, sample_type_major, site, integration_id, dataset_id”\n"
     ]
    },
    {
     "name": "stdout",
     "output_type": "stream",
     "text": [
      "[1] \"GSE180661_SPECTRUM-OV-025_S1_CD45P_RIGHT_OVARY_GSE180661_myeloid_int.h5ad saved!\"\n",
      "[1] \"processing GSE180661_SPECTRUM-OV-026_S1_CD45P_RIGHT_OVARY\"\n"
     ]
    },
    {
     "name": "stderr",
     "output_type": "stream",
     "text": [
      "Warning message:\n",
      "“Layer ‘scale.data’ is empty”\n",
      "Warning message in .regularise_df(as.data.frame(SummarizedExperiment::colData(obj)), :\n",
      "“Dropping single category variables:sample, cluster_label_sub, patient_id, tumor_subsite, tumor_site, tumor_supersite, sort_parameters, therapy, surgery, sample_type, cancer_type, sample_id, cancer_subtype, sample_type_major, site, integration_id, dataset_id”\n"
     ]
    },
    {
     "name": "stdout",
     "output_type": "stream",
     "text": [
      "[1] \"GSE180661_SPECTRUM-OV-026_S1_CD45P_RIGHT_OVARY_GSE180661_myeloid_int.h5ad saved!\"\n",
      "[1] \"processing GSE180661_SPECTRUM-OV-026_S1_CD45P_LEFT_ADNEXA\"\n"
     ]
    },
    {
     "name": "stderr",
     "output_type": "stream",
     "text": [
      "Warning message:\n",
      "“Layer ‘scale.data’ is empty”\n",
      "Warning message in .regularise_df(as.data.frame(SummarizedExperiment::colData(obj)), :\n",
      "“Dropping single category variables:sample, cluster_label_sub, patient_id, tumor_subsite, tumor_site, tumor_supersite, sort_parameters, therapy, surgery, sample_type, cancer_type, sample_id, cancer_subtype, sample_type_major, site, integration_id, dataset_id”\n"
     ]
    },
    {
     "name": "stdout",
     "output_type": "stream",
     "text": [
      "[1] \"GSE180661_SPECTRUM-OV-026_S1_CD45P_LEFT_ADNEXA_GSE180661_myeloid_int.h5ad saved!\"\n",
      "[1] \"processing GSE180661_SPECTRUM-OV-031_S1_CD45P_LEFT_FALLOPIAN_TUBE\"\n"
     ]
    },
    {
     "name": "stderr",
     "output_type": "stream",
     "text": [
      "Warning message:\n",
      "“Layer ‘scale.data’ is empty”\n",
      "Warning message in .regularise_df(as.data.frame(SummarizedExperiment::colData(obj)), :\n",
      "“Dropping single category variables:sample, cluster_label_sub, patient_id, tumor_subsite, tumor_site, tumor_supersite, sort_parameters, therapy, surgery, sample_type, cancer_type, sample_id, cancer_subtype, sample_type_major, site, integration_id, dataset_id”\n"
     ]
    },
    {
     "name": "stdout",
     "output_type": "stream",
     "text": [
      "[1] \"GSE180661_SPECTRUM-OV-031_S1_CD45P_LEFT_FALLOPIAN_TUBE_GSE180661_myeloid_int.h5ad saved!\"\n",
      "[1] \"processing GSE180661_SPECTRUM-OV-036_S1_CD45P_RIGHT_ADNEXA\"\n"
     ]
    },
    {
     "name": "stderr",
     "output_type": "stream",
     "text": [
      "Warning message:\n",
      "“Layer ‘scale.data’ is empty”\n",
      "Warning message in .regularise_df(as.data.frame(SummarizedExperiment::colData(obj)), :\n",
      "“Dropping single category variables:sample, cluster_label_sub, patient_id, tumor_subsite, tumor_site, tumor_supersite, sort_parameters, therapy, surgery, sample_type, cancer_type, sample_id, cancer_subtype, sample_type_major, site, integration_id, dataset_id”\n"
     ]
    },
    {
     "name": "stdout",
     "output_type": "stream",
     "text": [
      "[1] \"GSE180661_SPECTRUM-OV-036_S1_CD45P_RIGHT_ADNEXA_GSE180661_myeloid_int.h5ad saved!\"\n",
      "[1] \"processing GSE180661_SPECTRUM-OV-036_S1_CD45P_LEFT_ADNEXA\"\n"
     ]
    },
    {
     "name": "stderr",
     "output_type": "stream",
     "text": [
      "Warning message:\n",
      "“Layer ‘scale.data’ is empty”\n",
      "Warning message in .regularise_df(as.data.frame(SummarizedExperiment::colData(obj)), :\n",
      "“Dropping single category variables:sample, cluster_label_sub, patient_id, tumor_subsite, tumor_site, tumor_supersite, sort_parameters, therapy, surgery, sample_type, cancer_type, sample_id, cancer_subtype, sample_type_major, site, integration_id, dataset_id”\n"
     ]
    },
    {
     "name": "stdout",
     "output_type": "stream",
     "text": [
      "[1] \"GSE180661_SPECTRUM-OV-036_S1_CD45P_LEFT_ADNEXA_GSE180661_myeloid_int.h5ad saved!\"\n",
      "[1] \"processing GSE180661_SPECTRUM-OV-037_S1_CD45P_LEFT_OVARY\"\n"
     ]
    },
    {
     "name": "stderr",
     "output_type": "stream",
     "text": [
      "Warning message:\n",
      "“Layer ‘scale.data’ is empty”\n",
      "Warning message in .regularise_df(as.data.frame(SummarizedExperiment::colData(obj)), :\n",
      "“Dropping single category variables:sample, cluster_label_sub, patient_id, tumor_subsite, tumor_site, tumor_supersite, sort_parameters, therapy, surgery, sample_type, cancer_type, sample_id, cancer_subtype, sample_type_major, site, integration_id, dataset_id”\n"
     ]
    },
    {
     "name": "stdout",
     "output_type": "stream",
     "text": [
      "[1] \"GSE180661_SPECTRUM-OV-037_S1_CD45P_LEFT_OVARY_GSE180661_myeloid_int.h5ad saved!\"\n",
      "[1] \"processing GSE180661_SPECTRUM-OV-041_S1_CD45P_RIGHT_FALLOPIAN_TUBE\"\n"
     ]
    },
    {
     "name": "stderr",
     "output_type": "stream",
     "text": [
      "Warning message:\n",
      "“Layer ‘scale.data’ is empty”\n",
      "Warning message in .regularise_df(as.data.frame(SummarizedExperiment::colData(obj)), :\n",
      "“Dropping single category variables:sample, patient_id, tumor_subsite, tumor_site, tumor_supersite, sort_parameters, therapy, surgery, sample_type, cancer_type, sample_id, cancer_subtype, sample_type_major, site, integration_id, dataset_id”\n"
     ]
    },
    {
     "name": "stdout",
     "output_type": "stream",
     "text": [
      "[1] \"GSE180661_SPECTRUM-OV-041_S1_CD45P_RIGHT_FALLOPIAN_TUBE_GSE180661_myeloid_int.h5ad saved!\"\n",
      "[1] \"processing GSE180661_SPECTRUM-OV-045_S1_CD45P_RIGHT_OVARY\"\n"
     ]
    },
    {
     "name": "stderr",
     "output_type": "stream",
     "text": [
      "Warning message:\n",
      "“Layer ‘scale.data’ is empty”\n",
      "Warning message in .regularise_df(as.data.frame(SummarizedExperiment::colData(obj)), :\n",
      "“Dropping single category variables:sample, cluster_label_sub, patient_id, tumor_subsite, tumor_site, tumor_supersite, sort_parameters, therapy, surgery, sample_type, cancer_type, sample_id, cancer_subtype, sample_type_major, site, integration_id, dataset_id”\n"
     ]
    },
    {
     "name": "stdout",
     "output_type": "stream",
     "text": [
      "[1] \"GSE180661_SPECTRUM-OV-045_S1_CD45P_RIGHT_OVARY_GSE180661_myeloid_int.h5ad saved!\"\n",
      "[1] \"processing GSE180661_SPECTRUM-OV-045_S1_CD45P_LEFT_OVARY\"\n"
     ]
    },
    {
     "name": "stderr",
     "output_type": "stream",
     "text": [
      "Warning message:\n",
      "“Layer ‘scale.data’ is empty”\n",
      "Warning message in .regularise_df(as.data.frame(SummarizedExperiment::colData(obj)), :\n",
      "“Dropping single category variables:sample, cluster_label_sub, patient_id, tumor_subsite, tumor_site, tumor_supersite, sort_parameters, therapy, surgery, sample_type, cancer_type, sample_id, cancer_subtype, sample_type_major, site, integration_id, dataset_id”\n"
     ]
    },
    {
     "name": "stdout",
     "output_type": "stream",
     "text": [
      "[1] \"GSE180661_SPECTRUM-OV-045_S1_CD45P_LEFT_OVARY_GSE180661_myeloid_int.h5ad saved!\"\n",
      "[1] \"processing GSE180661_SPECTRUM-OV-049_S1_CD45P_RIGHT_ADNEXA\"\n"
     ]
    },
    {
     "name": "stderr",
     "output_type": "stream",
     "text": [
      "Warning message:\n",
      "“Layer ‘scale.data’ is empty”\n",
      "Warning message in .regularise_df(as.data.frame(SummarizedExperiment::colData(obj)), :\n",
      "“Dropping single category variables:sample, cluster_label_sub, patient_id, tumor_subsite, tumor_site, tumor_supersite, sort_parameters, therapy, surgery, sample_type, cancer_type, sample_id, cancer_subtype, sample_type_major, site, integration_id, dataset_id”\n"
     ]
    },
    {
     "name": "stdout",
     "output_type": "stream",
     "text": [
      "[1] \"GSE180661_SPECTRUM-OV-049_S1_CD45P_RIGHT_ADNEXA_GSE180661_myeloid_int.h5ad saved!\"\n",
      "[1] \"processing GSE180661_SPECTRUM-OV-050_S1_CD45P_LEFT_OVARY\"\n"
     ]
    },
    {
     "name": "stderr",
     "output_type": "stream",
     "text": [
      "Warning message:\n",
      "“Layer ‘scale.data’ is empty”\n",
      "Warning message in .regularise_df(as.data.frame(SummarizedExperiment::colData(obj)), :\n",
      "“Dropping single category variables:sample, cluster_label_sub, patient_id, tumor_subsite, tumor_site, tumor_supersite, sort_parameters, therapy, surgery, sample_type, cancer_type, sample_id, cancer_subtype, sample_type_major, site, integration_id, dataset_id”\n"
     ]
    },
    {
     "name": "stdout",
     "output_type": "stream",
     "text": [
      "[1] \"GSE180661_SPECTRUM-OV-050_S1_CD45P_LEFT_OVARY_GSE180661_myeloid_int.h5ad saved!\"\n",
      "[1] \"processing GSE180661_SPECTRUM-OV-050_S1_CD45P_RIGHT_OVARY\"\n"
     ]
    },
    {
     "name": "stderr",
     "output_type": "stream",
     "text": [
      "Warning message:\n",
      "“Layer ‘scale.data’ is empty”\n",
      "Warning message in .regularise_df(as.data.frame(SummarizedExperiment::colData(obj)), :\n",
      "“Dropping single category variables:sample, cluster_label_sub, patient_id, tumor_subsite, tumor_site, tumor_supersite, sort_parameters, therapy, surgery, sample_type, cancer_type, sample_id, cancer_subtype, sample_type_major, site, integration_id, dataset_id”\n"
     ]
    },
    {
     "name": "stdout",
     "output_type": "stream",
     "text": [
      "[1] \"GSE180661_SPECTRUM-OV-050_S1_CD45P_RIGHT_OVARY_GSE180661_myeloid_int.h5ad saved!\"\n",
      "[1] \"processing GSE180661_SPECTRUM-OV-051_S1_CD45P_LEFT_ADNEXA\"\n"
     ]
    },
    {
     "name": "stderr",
     "output_type": "stream",
     "text": [
      "Warning message:\n",
      "“Layer ‘scale.data’ is empty”\n",
      "Warning message in .regularise_df(as.data.frame(SummarizedExperiment::colData(obj)), :\n",
      "“Dropping single category variables:sample, cluster_label_sub, patient_id, tumor_subsite, tumor_site, tumor_supersite, sort_parameters, therapy, surgery, sample_type, cancer_type, sample_id, cancer_subtype, sample_type_major, site, integration_id, dataset_id”\n"
     ]
    },
    {
     "name": "stdout",
     "output_type": "stream",
     "text": [
      "[1] \"GSE180661_SPECTRUM-OV-051_S1_CD45P_LEFT_ADNEXA_GSE180661_myeloid_int.h5ad saved!\"\n",
      "[1] \"processing GSE180661_SPECTRUM-OV-052_S1_CD45P_LEFT_ADNEXA\"\n"
     ]
    },
    {
     "name": "stderr",
     "output_type": "stream",
     "text": [
      "Warning message:\n",
      "“Layer ‘scale.data’ is empty”\n",
      "Warning message in .regularise_df(as.data.frame(SummarizedExperiment::colData(obj)), :\n",
      "“Dropping single category variables:sample, cluster_label_sub, patient_id, tumor_subsite, tumor_site, tumor_supersite, sort_parameters, therapy, surgery, sample_type, cancer_type, sample_id, cancer_subtype, sample_type_major, site, integration_id, dataset_id”\n"
     ]
    },
    {
     "name": "stdout",
     "output_type": "stream",
     "text": [
      "[1] \"GSE180661_SPECTRUM-OV-052_S1_CD45P_LEFT_ADNEXA_GSE180661_myeloid_int.h5ad saved!\"\n",
      "[1] \"processing GSE180661_SPECTRUM-OV-053_S1_CD45P_RIGHT_OVARY\"\n"
     ]
    },
    {
     "name": "stderr",
     "output_type": "stream",
     "text": [
      "Warning message:\n",
      "“Layer ‘scale.data’ is empty”\n",
      "Warning message in .regularise_df(as.data.frame(SummarizedExperiment::colData(obj)), :\n",
      "“Dropping single category variables:sample, cluster_label_sub, patient_id, tumor_subsite, tumor_site, tumor_supersite, sort_parameters, therapy, surgery, sample_type, cancer_type, sample_id, cancer_subtype, sample_type_major, site, integration_id, dataset_id”\n"
     ]
    },
    {
     "name": "stdout",
     "output_type": "stream",
     "text": [
      "[1] \"GSE180661_SPECTRUM-OV-053_S1_CD45P_RIGHT_OVARY_GSE180661_myeloid_int.h5ad saved!\"\n",
      "[1] \"processing GSE180661_SPECTRUM-OV-053_S1_CD45P_LEFT_OVARY\"\n"
     ]
    },
    {
     "name": "stderr",
     "output_type": "stream",
     "text": [
      "Warning message:\n",
      "“Layer ‘scale.data’ is empty”\n",
      "Warning message in .regularise_df(as.data.frame(SummarizedExperiment::colData(obj)), :\n",
      "“Dropping single category variables:sample, cluster_label_sub, patient_id, tumor_subsite, tumor_site, tumor_supersite, sort_parameters, therapy, surgery, sample_type, cancer_type, sample_id, cancer_subtype, sample_type_major, site, integration_id, dataset_id”\n"
     ]
    },
    {
     "name": "stdout",
     "output_type": "stream",
     "text": [
      "[1] \"GSE180661_SPECTRUM-OV-053_S1_CD45P_LEFT_OVARY_GSE180661_myeloid_int.h5ad saved!\"\n",
      "[1] \"processing GSE180661_SPECTRUM-OV-054_S1_CD45P_RIGHT_OVARY\"\n"
     ]
    },
    {
     "name": "stderr",
     "output_type": "stream",
     "text": [
      "Warning message:\n",
      "“Layer ‘scale.data’ is empty”\n",
      "Warning message in .regularise_df(as.data.frame(SummarizedExperiment::colData(obj)), :\n",
      "“Dropping single category variables:sample, cluster_label_sub, patient_id, tumor_subsite, tumor_site, tumor_supersite, sort_parameters, therapy, surgery, sample_type, cancer_type, sample_id, cancer_subtype, sample_type_major, site, integration_id, dataset_id”\n"
     ]
    },
    {
     "name": "stdout",
     "output_type": "stream",
     "text": [
      "[1] \"GSE180661_SPECTRUM-OV-054_S1_CD45P_RIGHT_OVARY_GSE180661_myeloid_int.h5ad saved!\"\n",
      "[1] \"processing GSE180661_SPECTRUM-OV-065_S1_CD45P_RIGHT_OVARY\"\n"
     ]
    },
    {
     "name": "stderr",
     "output_type": "stream",
     "text": [
      "Warning message:\n",
      "“Layer ‘scale.data’ is empty”\n",
      "Warning message in .regularise_df(as.data.frame(SummarizedExperiment::colData(obj)), :\n",
      "“Dropping single category variables:sample, cluster_label_sub, patient_id, tumor_subsite, tumor_site, tumor_supersite, sort_parameters, therapy, surgery, sample_type, cancer_type, sample_id, cancer_subtype, sample_type_major, site, integration_id, dataset_id”\n"
     ]
    },
    {
     "name": "stdout",
     "output_type": "stream",
     "text": [
      "[1] \"GSE180661_SPECTRUM-OV-065_S1_CD45P_RIGHT_OVARY_GSE180661_myeloid_int.h5ad saved!\"\n",
      "[1] \"processing GSE180661_SPECTRUM-OV-067_S1_CD45P_RIGHT_OVARY_AND_TUBE\"\n"
     ]
    },
    {
     "name": "stderr",
     "output_type": "stream",
     "text": [
      "Warning message:\n",
      "“Layer ‘scale.data’ is empty”\n",
      "Warning message in .regularise_df(as.data.frame(SummarizedExperiment::colData(obj)), :\n",
      "“Dropping single category variables:sample, patient_id, tumor_subsite, tumor_site, tumor_supersite, sort_parameters, therapy, surgery, sample_type, cancer_type, sample_id, cancer_subtype, sample_type_major, site, integration_id, dataset_id”\n"
     ]
    },
    {
     "name": "stdout",
     "output_type": "stream",
     "text": [
      "[1] \"GSE180661_SPECTRUM-OV-067_S1_CD45P_RIGHT_OVARY_AND_TUBE_GSE180661_myeloid_int.h5ad saved!\"\n",
      "[1] \"processing GSE180661_SPECTRUM-OV-071_S1_CD45P_LEFT_OVARY\"\n"
     ]
    },
    {
     "name": "stderr",
     "output_type": "stream",
     "text": [
      "Warning message:\n",
      "“Layer ‘scale.data’ is empty”\n",
      "Warning message in .regularise_df(as.data.frame(SummarizedExperiment::colData(obj)), :\n",
      "“Dropping single category variables:sample, cell_type, cluster_label_sub, cell_type_super, patient_id, tumor_subsite, tumor_site, tumor_supersite, sort_parameters, therapy, surgery, sample_type, cancer_type, sample_id, cancer_subtype, sample_type_major, site, integration_id, dataset_id”\n"
     ]
    },
    {
     "name": "stdout",
     "output_type": "stream",
     "text": [
      "[1] \"GSE180661_SPECTRUM-OV-071_S1_CD45P_LEFT_OVARY_GSE180661_myeloid_int.h5ad saved!\"\n",
      "[1] \"processing GSE180661_SPECTRUM-OV-071_S1_CD45P_RIGHT_OVARY\"\n"
     ]
    },
    {
     "name": "stderr",
     "output_type": "stream",
     "text": [
      "Warning message:\n",
      "“Layer ‘scale.data’ is empty”\n",
      "Warning message in .regularise_df(as.data.frame(SummarizedExperiment::colData(obj)), :\n",
      "“Dropping single category variables:sample, patient_id, tumor_subsite, tumor_site, tumor_supersite, sort_parameters, therapy, surgery, sample_type, cancer_type, sample_id, cancer_subtype, sample_type_major, site, integration_id, dataset_id”\n"
     ]
    },
    {
     "name": "stdout",
     "output_type": "stream",
     "text": [
      "[1] \"GSE180661_SPECTRUM-OV-071_S1_CD45P_RIGHT_OVARY_GSE180661_myeloid_int.h5ad saved!\"\n",
      "[1] \"processing GSE180661_SPECTRUM-OV-075_S1_CD45P_LEFT_FALLOPIAN_TUBE\"\n"
     ]
    },
    {
     "name": "stderr",
     "output_type": "stream",
     "text": [
      "Warning message:\n",
      "“Layer ‘scale.data’ is empty”\n",
      "Warning message in .regularise_df(as.data.frame(SummarizedExperiment::colData(obj)), :\n",
      "“Dropping single category variables:sample, patient_id, tumor_subsite, tumor_site, tumor_supersite, sort_parameters, therapy, surgery, sample_type, cancer_type, sample_id, cancer_subtype, sample_type_major, site, integration_id, dataset_id”\n"
     ]
    },
    {
     "name": "stdout",
     "output_type": "stream",
     "text": [
      "[1] \"GSE180661_SPECTRUM-OV-075_S1_CD45P_LEFT_FALLOPIAN_TUBE_GSE180661_myeloid_int.h5ad saved!\"\n",
      "[1] \"processing GSE180661_SPECTRUM-OV-075_S1_CD45P_RIGHT_ADNEXA\"\n"
     ]
    },
    {
     "name": "stderr",
     "output_type": "stream",
     "text": [
      "Warning message:\n",
      "“Layer ‘scale.data’ is empty”\n",
      "Warning message in .regularise_df(as.data.frame(SummarizedExperiment::colData(obj)), :\n",
      "“Dropping single category variables:sample, patient_id, tumor_subsite, tumor_site, tumor_supersite, sort_parameters, therapy, surgery, sample_type, cancer_type, sample_id, cancer_subtype, sample_type_major, site, integration_id, dataset_id”\n"
     ]
    },
    {
     "name": "stdout",
     "output_type": "stream",
     "text": [
      "[1] \"GSE180661_SPECTRUM-OV-075_S1_CD45P_RIGHT_ADNEXA_GSE180661_myeloid_int.h5ad saved!\"\n",
      "[1] \"processing GSE180661_SPECTRUM-OV-077_S1_CD45P_LEFT_OVARY\"\n"
     ]
    },
    {
     "name": "stderr",
     "output_type": "stream",
     "text": [
      "Warning message:\n",
      "“Layer ‘scale.data’ is empty”\n",
      "Warning message in .regularise_df(as.data.frame(SummarizedExperiment::colData(obj)), :\n",
      "“Dropping single category variables:sample, patient_id, tumor_subsite, tumor_site, tumor_supersite, sort_parameters, therapy, surgery, sample_type, cancer_type, sample_id, cancer_subtype, sample_type_major, site, integration_id, dataset_id”\n"
     ]
    },
    {
     "name": "stdout",
     "output_type": "stream",
     "text": [
      "[1] \"GSE180661_SPECTRUM-OV-077_S1_CD45P_LEFT_OVARY_GSE180661_myeloid_int.h5ad saved!\"\n",
      "[1] \"processing GSE180661_SPECTRUM-OV-080_S1_CD45P_LEFT_ADNEXA\"\n"
     ]
    },
    {
     "name": "stderr",
     "output_type": "stream",
     "text": [
      "Warning message:\n",
      "“Layer ‘scale.data’ is empty”\n",
      "Warning message in .regularise_df(as.data.frame(SummarizedExperiment::colData(obj)), :\n",
      "“Dropping single category variables:sample, patient_id, tumor_subsite, tumor_site, tumor_supersite, sort_parameters, therapy, surgery, sample_type, cancer_type, sample_id, cancer_subtype, sample_type_major, site, integration_id, dataset_id”\n"
     ]
    },
    {
     "name": "stdout",
     "output_type": "stream",
     "text": [
      "[1] \"GSE180661_SPECTRUM-OV-080_S1_CD45P_LEFT_ADNEXA_GSE180661_myeloid_int.h5ad saved!\"\n",
      "[1] \"processing GSE180661_SPECTRUM-OV-081_S1_CD45P_RIGHT_ADNEXA\"\n"
     ]
    },
    {
     "name": "stderr",
     "output_type": "stream",
     "text": [
      "Warning message:\n",
      "“Layer ‘scale.data’ is empty”\n",
      "Warning message in .regularise_df(as.data.frame(SummarizedExperiment::colData(obj)), :\n",
      "“Dropping single category variables:sample, patient_id, tumor_subsite, tumor_site, tumor_supersite, sort_parameters, therapy, surgery, sample_type, cancer_type, sample_id, cancer_subtype, sample_type_major, site, integration_id, dataset_id”\n"
     ]
    },
    {
     "name": "stdout",
     "output_type": "stream",
     "text": [
      "[1] \"GSE180661_SPECTRUM-OV-081_S1_CD45P_RIGHT_ADNEXA_GSE180661_myeloid_int.h5ad saved!\"\n",
      "[1] \"processing GSE180661_SPECTRUM-OV-082_S1_CD45P_RIGHT_ADNEXA\"\n"
     ]
    },
    {
     "name": "stderr",
     "output_type": "stream",
     "text": [
      "Warning message:\n",
      "“Layer ‘scale.data’ is empty”\n",
      "Warning message in .regularise_df(as.data.frame(SummarizedExperiment::colData(obj)), :\n",
      "“Dropping single category variables:sample, patient_id, tumor_subsite, tumor_site, tumor_supersite, sort_parameters, therapy, surgery, sample_type, cancer_type, sample_id, cancer_subtype, sample_type_major, site, integration_id, dataset_id”\n"
     ]
    },
    {
     "name": "stdout",
     "output_type": "stream",
     "text": [
      "[1] \"GSE180661_SPECTRUM-OV-082_S1_CD45P_RIGHT_ADNEXA_GSE180661_myeloid_int.h5ad saved!\"\n",
      "[1] \"processing GSE180661_SPECTRUM-OV-082_S1_CD45P_LEFT_ADNEXA\"\n"
     ]
    },
    {
     "name": "stderr",
     "output_type": "stream",
     "text": [
      "Warning message:\n",
      "“Layer ‘scale.data’ is empty”\n",
      "Warning message in .regularise_df(as.data.frame(SummarizedExperiment::colData(obj)), :\n",
      "“Dropping single category variables:sample, patient_id, tumor_subsite, tumor_site, tumor_supersite, sort_parameters, therapy, surgery, sample_type, cancer_type, sample_id, cancer_subtype, sample_type_major, site, integration_id, dataset_id”\n"
     ]
    },
    {
     "name": "stdout",
     "output_type": "stream",
     "text": [
      "[1] \"GSE180661_SPECTRUM-OV-082_S1_CD45P_LEFT_ADNEXA_GSE180661_myeloid_int.h5ad saved!\"\n",
      "[1] \"processing GSE180661_SPECTRUM-OV-083_S1_CD45P_LEFT_ADNEXA\"\n"
     ]
    },
    {
     "name": "stderr",
     "output_type": "stream",
     "text": [
      "Warning message:\n",
      "“Layer ‘scale.data’ is empty”\n",
      "Warning message in .regularise_df(as.data.frame(SummarizedExperiment::colData(obj)), :\n",
      "“Dropping single category variables:sample, patient_id, tumor_subsite, tumor_site, tumor_supersite, sort_parameters, therapy, surgery, sample_type, cancer_type, sample_id, cancer_subtype, sample_type_major, site, integration_id, dataset_id”\n"
     ]
    },
    {
     "name": "stdout",
     "output_type": "stream",
     "text": [
      "[1] \"GSE180661_SPECTRUM-OV-083_S1_CD45P_LEFT_ADNEXA_GSE180661_myeloid_int.h5ad saved!\"\n",
      "[1] \"processing GSE180661_SPECTRUM-OV-107_S1_CD45P_RIGHT_ADNEXA\"\n"
     ]
    },
    {
     "name": "stderr",
     "output_type": "stream",
     "text": [
      "Warning message:\n",
      "“Layer ‘scale.data’ is empty”\n",
      "Warning message in .regularise_df(as.data.frame(SummarizedExperiment::colData(obj)), :\n",
      "“Dropping single category variables:sample, patient_id, tumor_subsite, tumor_site, tumor_supersite, sort_parameters, therapy, surgery, sample_type, cancer_type, sample_id, cancer_subtype, sample_type_major, site, integration_id, dataset_id”\n"
     ]
    },
    {
     "name": "stdout",
     "output_type": "stream",
     "text": [
      "[1] \"GSE180661_SPECTRUM-OV-107_S1_CD45P_RIGHT_ADNEXA_GSE180661_myeloid_int.h5ad saved!\"\n",
      "[1] \"processing GSE180661_SPECTRUM-OV-112_S1_CD45P_LEFT_ADNEXA\"\n"
     ]
    },
    {
     "name": "stderr",
     "output_type": "stream",
     "text": [
      "Warning message:\n",
      "“Layer ‘scale.data’ is empty”\n",
      "Warning message in .regularise_df(as.data.frame(SummarizedExperiment::colData(obj)), :\n",
      "“Dropping single category variables:sample, cluster_label_sub, patient_id, tumor_subsite, tumor_site, tumor_supersite, sort_parameters, therapy, surgery, sample_type, cancer_type, sample_id, cancer_subtype, sample_type_major, site, integration_id, dataset_id”\n"
     ]
    },
    {
     "name": "stdout",
     "output_type": "stream",
     "text": [
      "[1] \"GSE180661_SPECTRUM-OV-112_S1_CD45P_LEFT_ADNEXA_GSE180661_myeloid_int.h5ad saved!\"\n",
      "[1] \"processing GSE180661_SPECTRUM-OV-115_S1_CD45P_LEFT_ADNEXA\"\n"
     ]
    },
    {
     "name": "stderr",
     "output_type": "stream",
     "text": [
      "Warning message:\n",
      "“Layer ‘scale.data’ is empty”\n",
      "Warning message in .regularise_df(as.data.frame(SummarizedExperiment::colData(obj)), :\n",
      "“Dropping single category variables:sample, cluster_label_sub, patient_id, tumor_subsite, tumor_site, tumor_supersite, sort_parameters, therapy, surgery, sample_type, cancer_type, sample_id, cancer_subtype, sample_type_major, site, integration_id, dataset_id”\n"
     ]
    },
    {
     "name": "stdout",
     "output_type": "stream",
     "text": [
      "[1] \"GSE180661_SPECTRUM-OV-115_S1_CD45P_LEFT_ADNEXA_GSE180661_myeloid_int.h5ad saved!\"\n",
      "[1] \"processing GSE180661_SPECTRUM-OV-115_S1_CD45P_RIGHT_ADNEXA\"\n"
     ]
    },
    {
     "name": "stderr",
     "output_type": "stream",
     "text": [
      "Warning message:\n",
      "“Layer ‘scale.data’ is empty”\n",
      "Warning message in .regularise_df(as.data.frame(SummarizedExperiment::colData(obj)), :\n",
      "“Dropping single category variables:sample, cluster_label_sub, patient_id, tumor_subsite, tumor_site, tumor_supersite, sort_parameters, therapy, surgery, sample_type, cancer_type, sample_id, cancer_subtype, sample_type_major, site, integration_id, dataset_id”\n"
     ]
    },
    {
     "name": "stdout",
     "output_type": "stream",
     "text": [
      "[1] \"GSE180661_SPECTRUM-OV-115_S1_CD45P_RIGHT_ADNEXA_GSE180661_myeloid_int.h5ad saved!\"\n",
      "[1] \"processing GSE180661_SPECTRUM-OV-116_S1_CD45P_RIGHT_ADNEXA\"\n"
     ]
    },
    {
     "name": "stderr",
     "output_type": "stream",
     "text": [
      "Warning message:\n",
      "“Layer ‘scale.data’ is empty”\n",
      "Warning message in .regularise_df(as.data.frame(SummarizedExperiment::colData(obj)), :\n",
      "“Dropping single category variables:sample, cluster_label_sub, patient_id, tumor_subsite, tumor_site, tumor_supersite, sort_parameters, therapy, surgery, sample_type, cancer_type, sample_id, cancer_subtype, sample_type_major, site, integration_id, dataset_id”\n"
     ]
    },
    {
     "name": "stdout",
     "output_type": "stream",
     "text": [
      "[1] \"GSE180661_SPECTRUM-OV-116_S1_CD45P_RIGHT_ADNEXA_GSE180661_myeloid_int.h5ad saved!\"\n",
      "[1] \"processing GSE180661_SPECTRUM-OV-118_S1_CD45P_RIGHT_ADNEXA\"\n"
     ]
    },
    {
     "name": "stderr",
     "output_type": "stream",
     "text": [
      "Warning message:\n",
      "“Layer ‘scale.data’ is empty”\n",
      "Warning message in .regularise_df(as.data.frame(SummarizedExperiment::colData(obj)), :\n",
      "“Dropping single category variables:sample, cluster_label_sub, patient_id, tumor_subsite, tumor_site, tumor_supersite, sort_parameters, therapy, surgery, sample_type, cancer_type, sample_id, cancer_subtype, sample_type_major, site, integration_id, dataset_id”\n"
     ]
    },
    {
     "name": "stdout",
     "output_type": "stream",
     "text": [
      "[1] \"GSE180661_SPECTRUM-OV-118_S1_CD45P_RIGHT_ADNEXA_GSE180661_myeloid_int.h5ad saved!\"\n",
      "[1] \"processing GSE180661_SPECTRUM-OV-118_S1_CD45P_LEFT_ADNEXA\"\n"
     ]
    },
    {
     "name": "stderr",
     "output_type": "stream",
     "text": [
      "Warning message:\n",
      "“Layer ‘scale.data’ is empty”\n",
      "Warning message in .regularise_df(as.data.frame(SummarizedExperiment::colData(obj)), :\n",
      "“Dropping single category variables:sample, cluster_label_sub, patient_id, tumor_subsite, tumor_site, tumor_supersite, sort_parameters, therapy, surgery, sample_type, cancer_type, sample_id, cancer_subtype, sample_type_major, site, integration_id, dataset_id”\n"
     ]
    },
    {
     "name": "stdout",
     "output_type": "stream",
     "text": [
      "[1] \"GSE180661_SPECTRUM-OV-118_S1_CD45P_LEFT_ADNEXA_GSE180661_myeloid_int.h5ad saved!\"\n",
      "[1] \"processing GSE180661_SPECTRUM-OV-014_S1_CD45P_ASCITES\"\n"
     ]
    },
    {
     "name": "stderr",
     "output_type": "stream",
     "text": [
      "Warning message:\n",
      "“Layer ‘scale.data’ is empty”\n",
      "Warning message in .regularise_df(as.data.frame(SummarizedExperiment::colData(obj)), :\n",
      "“Dropping single category variables:sample, cell_type, cluster_label_sub, cell_type_super, patient_id, tumor_subsite, tumor_site, tumor_supersite, sort_parameters, therapy, surgery, sample_type, cancer_type, sample_id, cancer_subtype, sample_type_major, site, integration_id, dataset_id”\n"
     ]
    },
    {
     "name": "stdout",
     "output_type": "stream",
     "text": [
      "[1] \"GSE180661_SPECTRUM-OV-014_S1_CD45P_ASCITES_GSE180661_myeloid_int.h5ad saved!\"\n",
      "[1] \"processing GSE180661_SPECTRUM-OV-022_S1_CD45P_ASCITES\"\n"
     ]
    },
    {
     "name": "stderr",
     "output_type": "stream",
     "text": [
      "Warning message:\n",
      "“Layer ‘scale.data’ is empty”\n",
      "Warning message in .regularise_df(as.data.frame(SummarizedExperiment::colData(obj)), :\n",
      "“Dropping single category variables:sample, cluster_label_sub, patient_id, tumor_subsite, tumor_site, tumor_supersite, sort_parameters, therapy, surgery, sample_type, cancer_type, sample_id, cancer_subtype, sample_type_major, site, integration_id, dataset_id”\n"
     ]
    },
    {
     "name": "stdout",
     "output_type": "stream",
     "text": [
      "[1] \"GSE180661_SPECTRUM-OV-022_S1_CD45P_ASCITES_GSE180661_myeloid_int.h5ad saved!\"\n",
      "[1] \"processing GSE180661_SPECTRUM-OV-024_S1_CD45P_ASCITES\"\n"
     ]
    },
    {
     "name": "stderr",
     "output_type": "stream",
     "text": [
      "Warning message:\n",
      "“Layer ‘scale.data’ is empty”\n",
      "Warning message in .regularise_df(as.data.frame(SummarizedExperiment::colData(obj)), :\n",
      "“Dropping single category variables:sample, cluster_label_sub, patient_id, tumor_subsite, tumor_site, tumor_supersite, sort_parameters, therapy, surgery, sample_type, cancer_type, sample_id, cancer_subtype, sample_type_major, site, integration_id, dataset_id”\n"
     ]
    },
    {
     "name": "stdout",
     "output_type": "stream",
     "text": [
      "[1] \"GSE180661_SPECTRUM-OV-024_S1_CD45P_ASCITES_GSE180661_myeloid_int.h5ad saved!\"\n",
      "[1] \"processing GSE180661_SPECTRUM-OV-026_S1_CD45P_ASCITES\"\n"
     ]
    },
    {
     "name": "stderr",
     "output_type": "stream",
     "text": [
      "Warning message:\n",
      "“Layer ‘scale.data’ is empty”\n",
      "Warning message in .regularise_df(as.data.frame(SummarizedExperiment::colData(obj)), :\n",
      "“Dropping single category variables:sample, patient_id, tumor_subsite, tumor_site, tumor_supersite, sort_parameters, therapy, surgery, sample_type, cancer_type, sample_id, cancer_subtype, sample_type_major, site, integration_id, dataset_id”\n"
     ]
    },
    {
     "name": "stdout",
     "output_type": "stream",
     "text": [
      "[1] \"GSE180661_SPECTRUM-OV-026_S1_CD45P_ASCITES_GSE180661_myeloid_int.h5ad saved!\"\n",
      "[1] \"processing GSE180661_SPECTRUM-OV-041_S1_CD45P_ASCITES\"\n"
     ]
    },
    {
     "name": "stderr",
     "output_type": "stream",
     "text": [
      "Warning message:\n",
      "“Layer ‘scale.data’ is empty”\n",
      "Warning message in .regularise_df(as.data.frame(SummarizedExperiment::colData(obj)), :\n",
      "“Dropping single category variables:sample, cluster_label_sub, patient_id, tumor_subsite, tumor_site, tumor_supersite, sort_parameters, therapy, surgery, sample_type, cancer_type, sample_id, cancer_subtype, sample_type_major, site, integration_id, dataset_id”\n"
     ]
    },
    {
     "name": "stdout",
     "output_type": "stream",
     "text": [
      "[1] \"GSE180661_SPECTRUM-OV-041_S1_CD45P_ASCITES_GSE180661_myeloid_int.h5ad saved!\"\n",
      "[1] \"processing GSE180661_SPECTRUM-OV-042_S1_CD45P_ASCITES\"\n"
     ]
    },
    {
     "name": "stderr",
     "output_type": "stream",
     "text": [
      "Warning message:\n",
      "“Layer ‘scale.data’ is empty”\n",
      "Warning message in .regularise_df(as.data.frame(SummarizedExperiment::colData(obj)), :\n",
      "“Dropping single category variables:sample, patient_id, tumor_subsite, tumor_site, tumor_supersite, sort_parameters, therapy, surgery, sample_type, cancer_type, sample_id, cancer_subtype, sample_type_major, site, integration_id, dataset_id”\n"
     ]
    },
    {
     "name": "stdout",
     "output_type": "stream",
     "text": [
      "[1] \"GSE180661_SPECTRUM-OV-042_S1_CD45P_ASCITES_GSE180661_myeloid_int.h5ad saved!\"\n",
      "[1] \"processing GSE180661_SPECTRUM-OV-050_S1_CD45P_ASCITES\"\n"
     ]
    },
    {
     "name": "stderr",
     "output_type": "stream",
     "text": [
      "Warning message:\n",
      "“Layer ‘scale.data’ is empty”\n",
      "Warning message in .regularise_df(as.data.frame(SummarizedExperiment::colData(obj)), :\n",
      "“Dropping single category variables:sample, cluster_label_sub, patient_id, tumor_subsite, tumor_site, tumor_supersite, sort_parameters, therapy, surgery, sample_type, cancer_type, sample_id, cancer_subtype, sample_type_major, site, integration_id, dataset_id”\n"
     ]
    },
    {
     "name": "stdout",
     "output_type": "stream",
     "text": [
      "[1] \"GSE180661_SPECTRUM-OV-050_S1_CD45P_ASCITES_GSE180661_myeloid_int.h5ad saved!\"\n",
      "[1] \"processing GSE180661_SPECTRUM-OV-051_S1_CD45P_ASCITES\"\n"
     ]
    },
    {
     "name": "stderr",
     "output_type": "stream",
     "text": [
      "Warning message:\n",
      "“Layer ‘scale.data’ is empty”\n",
      "Warning message in .regularise_df(as.data.frame(SummarizedExperiment::colData(obj)), :\n",
      "“Dropping single category variables:sample, cluster_label_sub, patient_id, tumor_subsite, tumor_site, tumor_supersite, sort_parameters, therapy, surgery, sample_type, cancer_type, sample_id, cancer_subtype, sample_type_major, site, integration_id, dataset_id”\n"
     ]
    },
    {
     "name": "stdout",
     "output_type": "stream",
     "text": [
      "[1] \"GSE180661_SPECTRUM-OV-051_S1_CD45P_ASCITES_GSE180661_myeloid_int.h5ad saved!\"\n",
      "[1] \"processing GSE180661_SPECTRUM-OV-054_S1_CD45P_ASCITES\"\n"
     ]
    },
    {
     "name": "stderr",
     "output_type": "stream",
     "text": [
      "Warning message:\n",
      "“Layer ‘scale.data’ is empty”\n",
      "Warning message in .regularise_df(as.data.frame(SummarizedExperiment::colData(obj)), :\n",
      "“Dropping single category variables:sample, cell_type, cluster_label_sub, cell_type_super, patient_id, tumor_subsite, tumor_site, tumor_supersite, sort_parameters, therapy, surgery, sample_type, cancer_type, sample_id, cancer_subtype, sample_type_major, site, integration_id, dataset_id”\n"
     ]
    },
    {
     "name": "stdout",
     "output_type": "stream",
     "text": [
      "[1] \"GSE180661_SPECTRUM-OV-054_S1_CD45P_ASCITES_GSE180661_myeloid_int.h5ad saved!\"\n",
      "[1] \"processing GSE180661_SPECTRUM-OV-068_S1_CD45P_ASCITES\"\n"
     ]
    },
    {
     "name": "stderr",
     "output_type": "stream",
     "text": [
      "Warning message:\n",
      "“Layer ‘scale.data’ is empty”\n",
      "Warning message in .regularise_df(as.data.frame(SummarizedExperiment::colData(obj)), :\n",
      "“Dropping single category variables:sample, cell_type, cluster_label_sub, cell_type_super, patient_id, tumor_subsite, tumor_site, tumor_supersite, sort_parameters, therapy, surgery, sample_type, cancer_type, sample_id, cancer_subtype, sample_type_major, site, integration_id, dataset_id”\n"
     ]
    },
    {
     "name": "stdout",
     "output_type": "stream",
     "text": [
      "[1] \"GSE180661_SPECTRUM-OV-068_S1_CD45P_ASCITES_GSE180661_myeloid_int.h5ad saved!\"\n",
      "[1] \"processing GSE180661_SPECTRUM-OV-070_S1_CD45P_ASCITES\"\n"
     ]
    },
    {
     "name": "stderr",
     "output_type": "stream",
     "text": [
      "Warning message:\n",
      "“Layer ‘scale.data’ is empty”\n",
      "Warning message in .regularise_df(as.data.frame(SummarizedExperiment::colData(obj)), :\n",
      "“Dropping single category variables:sample, cluster_label_sub, patient_id, tumor_subsite, tumor_site, tumor_supersite, sort_parameters, therapy, surgery, sample_type, cancer_type, sample_id, cancer_subtype, sample_type_major, site, integration_id, dataset_id”\n"
     ]
    },
    {
     "name": "stdout",
     "output_type": "stream",
     "text": [
      "[1] \"GSE180661_SPECTRUM-OV-070_S1_CD45P_ASCITES_GSE180661_myeloid_int.h5ad saved!\"\n",
      "[1] \"processing GSE180661_SPECTRUM-OV-071_S1_CD45P_ASCITES\"\n"
     ]
    },
    {
     "name": "stderr",
     "output_type": "stream",
     "text": [
      "Warning message:\n",
      "“Layer ‘scale.data’ is empty”\n",
      "Warning message in .regularise_df(as.data.frame(SummarizedExperiment::colData(obj)), :\n",
      "“Dropping single category variables:sample, cluster_label_sub, patient_id, tumor_subsite, tumor_site, tumor_supersite, sort_parameters, therapy, surgery, sample_type, cancer_type, sample_id, cancer_subtype, sample_type_major, site, integration_id, dataset_id”\n"
     ]
    },
    {
     "name": "stdout",
     "output_type": "stream",
     "text": [
      "[1] \"GSE180661_SPECTRUM-OV-071_S1_CD45P_ASCITES_GSE180661_myeloid_int.h5ad saved!\"\n",
      "[1] \"processing GSE180661_SPECTRUM-OV-075_S1_CD45P_ASCITES\"\n"
     ]
    },
    {
     "name": "stderr",
     "output_type": "stream",
     "text": [
      "Warning message:\n",
      "“Layer ‘scale.data’ is empty”\n",
      "Warning message in .regularise_df(as.data.frame(SummarizedExperiment::colData(obj)), :\n",
      "“Dropping single category variables:sample, patient_id, tumor_subsite, tumor_site, tumor_supersite, sort_parameters, therapy, surgery, sample_type, cancer_type, sample_id, cancer_subtype, sample_type_major, site, integration_id, dataset_id”\n"
     ]
    },
    {
     "name": "stdout",
     "output_type": "stream",
     "text": [
      "[1] \"GSE180661_SPECTRUM-OV-075_S1_CD45P_ASCITES_GSE180661_myeloid_int.h5ad saved!\"\n",
      "[1] \"processing GSE180661_SPECTRUM-OV-077_S1_CD45P_ASCITES\"\n"
     ]
    },
    {
     "name": "stderr",
     "output_type": "stream",
     "text": [
      "Warning message:\n",
      "“Layer ‘scale.data’ is empty”\n",
      "Warning message in .regularise_df(as.data.frame(SummarizedExperiment::colData(obj)), :\n",
      "“Dropping single category variables:sample, patient_id, tumor_subsite, tumor_site, tumor_supersite, sort_parameters, therapy, surgery, sample_type, cancer_type, sample_id, cancer_subtype, sample_type_major, site, integration_id, dataset_id”\n"
     ]
    },
    {
     "name": "stdout",
     "output_type": "stream",
     "text": [
      "[1] \"GSE180661_SPECTRUM-OV-077_S1_CD45P_ASCITES_GSE180661_myeloid_int.h5ad saved!\"\n",
      "[1] \"processing GSE180661_SPECTRUM-OV-080_S1_CD45P_ASCITES\"\n"
     ]
    },
    {
     "name": "stderr",
     "output_type": "stream",
     "text": [
      "Warning message:\n",
      "“Layer ‘scale.data’ is empty”\n",
      "Warning message in .regularise_df(as.data.frame(SummarizedExperiment::colData(obj)), :\n",
      "“Dropping single category variables:sample, patient_id, tumor_subsite, tumor_site, tumor_supersite, sort_parameters, therapy, surgery, sample_type, cancer_type, sample_id, cancer_subtype, sample_type_major, site, integration_id, dataset_id”\n"
     ]
    },
    {
     "name": "stdout",
     "output_type": "stream",
     "text": [
      "[1] \"GSE180661_SPECTRUM-OV-080_S1_CD45P_ASCITES_GSE180661_myeloid_int.h5ad saved!\"\n",
      "[1] \"processing GSE180661_SPECTRUM-OV-083_S1_CD45P_ASCITES\"\n"
     ]
    },
    {
     "name": "stderr",
     "output_type": "stream",
     "text": [
      "Warning message:\n",
      "“Layer ‘scale.data’ is empty”\n",
      "Warning message in .regularise_df(as.data.frame(SummarizedExperiment::colData(obj)), :\n",
      "“Dropping single category variables:sample, patient_id, tumor_subsite, tumor_site, tumor_supersite, sort_parameters, therapy, surgery, sample_type, cancer_type, sample_id, cancer_subtype, sample_type_major, site, integration_id, dataset_id”\n"
     ]
    },
    {
     "name": "stdout",
     "output_type": "stream",
     "text": [
      "[1] \"GSE180661_SPECTRUM-OV-083_S1_CD45P_ASCITES_GSE180661_myeloid_int.h5ad saved!\"\n",
      "[1] \"processing GSE180661_SPECTRUM-OV-105_S1_CD45P_ASCITES\"\n"
     ]
    },
    {
     "name": "stderr",
     "output_type": "stream",
     "text": [
      "Warning message:\n",
      "“Layer ‘scale.data’ is empty”\n",
      "Warning message in .regularise_df(as.data.frame(SummarizedExperiment::colData(obj)), :\n",
      "“Dropping single category variables:sample, patient_id, tumor_subsite, tumor_site, tumor_supersite, sort_parameters, therapy, surgery, sample_type, cancer_type, sample_id, cancer_subtype, sample_type_major, site, integration_id, dataset_id”\n"
     ]
    },
    {
     "name": "stdout",
     "output_type": "stream",
     "text": [
      "[1] \"GSE180661_SPECTRUM-OV-105_S1_CD45P_ASCITES_GSE180661_myeloid_int.h5ad saved!\"\n",
      "[1] \"processing GSE180661_SPECTRUM-OV-107_S1_CD45P_ASCITES\"\n"
     ]
    },
    {
     "name": "stderr",
     "output_type": "stream",
     "text": [
      "Warning message:\n",
      "“Layer ‘scale.data’ is empty”\n",
      "Warning message in .regularise_df(as.data.frame(SummarizedExperiment::colData(obj)), :\n",
      "“Dropping single category variables:sample, patient_id, tumor_subsite, tumor_site, tumor_supersite, sort_parameters, therapy, surgery, sample_type, cancer_type, sample_id, cancer_subtype, sample_type_major, site, integration_id, dataset_id”\n"
     ]
    },
    {
     "name": "stdout",
     "output_type": "stream",
     "text": [
      "[1] \"GSE180661_SPECTRUM-OV-107_S1_CD45P_ASCITES_GSE180661_myeloid_int.h5ad saved!\"\n",
      "[1] \"processing GSE180661_SPECTRUM-OV-112_S1_CD45P_ASCITES\"\n"
     ]
    },
    {
     "name": "stderr",
     "output_type": "stream",
     "text": [
      "Warning message:\n",
      "“Layer ‘scale.data’ is empty”\n",
      "Warning message in .regularise_df(as.data.frame(SummarizedExperiment::colData(obj)), :\n",
      "“Dropping single category variables:sample, cluster_label_sub, patient_id, tumor_subsite, tumor_site, tumor_supersite, sort_parameters, therapy, surgery, sample_type, cancer_type, sample_id, cancer_subtype, sample_type_major, site, integration_id, dataset_id”\n"
     ]
    },
    {
     "name": "stdout",
     "output_type": "stream",
     "text": [
      "[1] \"GSE180661_SPECTRUM-OV-112_S1_CD45P_ASCITES_GSE180661_myeloid_int.h5ad saved!\"\n",
      "[1] \"processing GSE180661_SPECTRUM-OV-116_S1_CD45P_ASCITES\"\n"
     ]
    },
    {
     "name": "stderr",
     "output_type": "stream",
     "text": [
      "Warning message:\n",
      "“Layer ‘scale.data’ is empty”\n",
      "Warning message in .regularise_df(as.data.frame(SummarizedExperiment::colData(obj)), :\n",
      "“Dropping single category variables:sample, cluster_label_sub, patient_id, tumor_subsite, tumor_site, tumor_supersite, sort_parameters, therapy, surgery, sample_type, cancer_type, sample_id, cancer_subtype, sample_type_major, site, integration_id, dataset_id”\n"
     ]
    },
    {
     "name": "stdout",
     "output_type": "stream",
     "text": [
      "[1] \"GSE180661_SPECTRUM-OV-116_S1_CD45P_ASCITES_GSE180661_myeloid_int.h5ad saved!\"\n",
      "[1] \"processing GSE180661_SPECTRUM-OV-008_S1_CD45P_BOWEL\"\n"
     ]
    },
    {
     "name": "stderr",
     "output_type": "stream",
     "text": [
      "Warning message:\n",
      "“Layer ‘scale.data’ is empty”\n",
      "Warning message in .regularise_df(as.data.frame(SummarizedExperiment::colData(obj)), :\n",
      "“Dropping single category variables:sample, cluster_label_sub, patient_id, tumor_subsite, tumor_site, tumor_supersite, sort_parameters, therapy, surgery, sample_type, cancer_type, sample_id, cancer_subtype, sample_type_major, site, integration_id, dataset_id”\n"
     ]
    },
    {
     "name": "stdout",
     "output_type": "stream",
     "text": [
      "[1] \"GSE180661_SPECTRUM-OV-008_S1_CD45P_BOWEL_GSE180661_myeloid_int.h5ad saved!\"\n",
      "[1] \"processing GSE180661_SPECTRUM-OV-009_S1_CD45P_BOWEL\"\n"
     ]
    },
    {
     "name": "stderr",
     "output_type": "stream",
     "text": [
      "Warning message:\n",
      "“Layer ‘scale.data’ is empty”\n",
      "Warning message in .regularise_df(as.data.frame(SummarizedExperiment::colData(obj)), :\n",
      "“Dropping single category variables:sample, cluster_label_sub, patient_id, tumor_subsite, tumor_site, tumor_supersite, sort_parameters, therapy, surgery, sample_type, cancer_type, sample_id, cancer_subtype, sample_type_major, site, integration_id, dataset_id”\n"
     ]
    },
    {
     "name": "stdout",
     "output_type": "stream",
     "text": [
      "[1] \"GSE180661_SPECTRUM-OV-009_S1_CD45P_BOWEL_GSE180661_myeloid_int.h5ad saved!\"\n",
      "[1] \"processing GSE180661_SPECTRUM-OV-014_S1_CD45P_BOWEL\"\n"
     ]
    },
    {
     "name": "stderr",
     "output_type": "stream",
     "text": [
      "Warning message:\n",
      "“Layer ‘scale.data’ is empty”\n",
      "Warning message in .regularise_df(as.data.frame(SummarizedExperiment::colData(obj)), :\n",
      "“Dropping single category variables:sample, patient_id, tumor_subsite, tumor_site, tumor_supersite, sort_parameters, therapy, surgery, sample_type, cancer_type, sample_id, cancer_subtype, sample_type_major, site, integration_id, dataset_id”\n"
     ]
    },
    {
     "name": "stdout",
     "output_type": "stream",
     "text": [
      "[1] \"GSE180661_SPECTRUM-OV-014_S1_CD45P_BOWEL_GSE180661_myeloid_int.h5ad saved!\"\n",
      "[1] \"processing GSE180661_SPECTRUM-OV-022_S1_CD45P_BOWEL\"\n"
     ]
    },
    {
     "name": "stderr",
     "output_type": "stream",
     "text": [
      "Warning message:\n",
      "“Layer ‘scale.data’ is empty”\n",
      "Warning message in .regularise_df(as.data.frame(SummarizedExperiment::colData(obj)), :\n",
      "“Dropping single category variables:sample, cluster_label_sub, patient_id, tumor_subsite, tumor_site, tumor_supersite, sort_parameters, therapy, surgery, sample_type, cancer_type, sample_id, cancer_subtype, sample_type_major, site, integration_id, dataset_id”\n"
     ]
    },
    {
     "name": "stdout",
     "output_type": "stream",
     "text": [
      "[1] \"GSE180661_SPECTRUM-OV-022_S1_CD45P_BOWEL_GSE180661_myeloid_int.h5ad saved!\"\n",
      "[1] \"processing GSE180661_SPECTRUM-OV-025_S1_CD45P_BOWEL\"\n"
     ]
    },
    {
     "name": "stderr",
     "output_type": "stream",
     "text": [
      "Warning message:\n",
      "“Layer ‘scale.data’ is empty”\n",
      "Warning message in .regularise_df(as.data.frame(SummarizedExperiment::colData(obj)), :\n",
      "“Dropping single category variables:sample, cluster_label_sub, patient_id, tumor_subsite, tumor_site, tumor_supersite, sort_parameters, therapy, surgery, sample_type, cancer_type, sample_id, cancer_subtype, sample_type_major, site, integration_id, dataset_id”\n"
     ]
    },
    {
     "name": "stdout",
     "output_type": "stream",
     "text": [
      "[1] \"GSE180661_SPECTRUM-OV-025_S1_CD45P_BOWEL_GSE180661_myeloid_int.h5ad saved!\"\n",
      "[1] \"processing GSE180661_SPECTRUM-OV-026_S1_CD45P_BOWEL\"\n"
     ]
    },
    {
     "name": "stderr",
     "output_type": "stream",
     "text": [
      "Warning message:\n",
      "“Layer ‘scale.data’ is empty”\n",
      "Warning message in .regularise_df(as.data.frame(SummarizedExperiment::colData(obj)), :\n",
      "“Dropping single category variables:sample, cluster_label_sub, patient_id, tumor_subsite, tumor_site, tumor_supersite, sort_parameters, therapy, surgery, sample_type, cancer_type, sample_id, cancer_subtype, sample_type_major, site, integration_id, dataset_id”\n"
     ]
    },
    {
     "name": "stdout",
     "output_type": "stream",
     "text": [
      "[1] \"GSE180661_SPECTRUM-OV-026_S1_CD45P_BOWEL_GSE180661_myeloid_int.h5ad saved!\"\n",
      "[1] \"processing GSE180661_SPECTRUM-OV-068_S1_CD45P_LARGE_BOWEL\"\n"
     ]
    },
    {
     "name": "stderr",
     "output_type": "stream",
     "text": [
      "Warning message:\n",
      "“Layer ‘scale.data’ is empty”\n",
      "Warning message in .regularise_df(as.data.frame(SummarizedExperiment::colData(obj)), :\n",
      "“Dropping single category variables:sample, cluster_label_sub, patient_id, tumor_subsite, tumor_site, tumor_supersite, sort_parameters, therapy, surgery, sample_type, cancer_type, sample_id, cancer_subtype, sample_type_major, site, integration_id, dataset_id”\n"
     ]
    },
    {
     "name": "stdout",
     "output_type": "stream",
     "text": [
      "[1] \"GSE180661_SPECTRUM-OV-068_S1_CD45P_LARGE_BOWEL_GSE180661_myeloid_int.h5ad saved!\"\n",
      "[1] \"processing GSE180661_SPECTRUM-OV-077_S1_CD45P_CECUM\"\n"
     ]
    },
    {
     "name": "stderr",
     "output_type": "stream",
     "text": [
      "Warning message:\n",
      "“Layer ‘scale.data’ is empty”\n",
      "Warning message in .regularise_df(as.data.frame(SummarizedExperiment::colData(obj)), :\n",
      "“Dropping single category variables:sample, patient_id, tumor_subsite, tumor_site, tumor_supersite, sort_parameters, therapy, surgery, sample_type, cancer_type, sample_id, cancer_subtype, sample_type_major, site, integration_id, dataset_id”\n"
     ]
    },
    {
     "name": "stdout",
     "output_type": "stream",
     "text": [
      "[1] \"GSE180661_SPECTRUM-OV-077_S1_CD45P_CECUM_GSE180661_myeloid_int.h5ad saved!\"\n",
      "[1] \"processing GSE180661_SPECTRUM-OV-082_S1_CD45P_BOWEL\"\n"
     ]
    },
    {
     "name": "stderr",
     "output_type": "stream",
     "text": [
      "Warning message:\n",
      "“Layer ‘scale.data’ is empty”\n",
      "Warning message in .regularise_df(as.data.frame(SummarizedExperiment::colData(obj)), :\n",
      "“Dropping single category variables:sample, patient_id, tumor_subsite, tumor_site, tumor_supersite, sort_parameters, therapy, surgery, sample_type, cancer_type, sample_id, cancer_subtype, sample_type_major, site, integration_id, dataset_id”\n"
     ]
    },
    {
     "name": "stdout",
     "output_type": "stream",
     "text": [
      "[1] \"GSE180661_SPECTRUM-OV-082_S1_CD45P_BOWEL_GSE180661_myeloid_int.h5ad saved!\"\n",
      "[1] \"processing GSE180661_SPECTRUM-OV-090_S1_CD45P_BOWEL\"\n"
     ]
    },
    {
     "name": "stderr",
     "output_type": "stream",
     "text": [
      "Warning message:\n",
      "“Layer ‘scale.data’ is empty”\n",
      "Warning message in .regularise_df(as.data.frame(SummarizedExperiment::colData(obj)), :\n",
      "“Dropping single category variables:sample, patient_id, tumor_subsite, tumor_site, tumor_supersite, sort_parameters, therapy, surgery, sample_type, cancer_type, sample_id, cancer_subtype, sample_type_major, site, integration_id, dataset_id”\n"
     ]
    },
    {
     "name": "stdout",
     "output_type": "stream",
     "text": [
      "[1] \"GSE180661_SPECTRUM-OV-090_S1_CD45P_BOWEL_GSE180661_myeloid_int.h5ad saved!\"\n",
      "[1] \"processing GSE180661_SPECTRUM-OV-107_S1_CD45P_BOWEL\"\n"
     ]
    },
    {
     "name": "stderr",
     "output_type": "stream",
     "text": [
      "Warning message:\n",
      "“Layer ‘scale.data’ is empty”\n",
      "Warning message in .regularise_df(as.data.frame(SummarizedExperiment::colData(obj)), :\n",
      "“Dropping single category variables:sample, patient_id, tumor_subsite, tumor_site, tumor_supersite, sort_parameters, therapy, surgery, sample_type, cancer_type, sample_id, cancer_subtype, sample_type_major, site, integration_id, dataset_id”\n"
     ]
    },
    {
     "name": "stdout",
     "output_type": "stream",
     "text": [
      "[1] \"GSE180661_SPECTRUM-OV-107_S1_CD45P_BOWEL_GSE180661_myeloid_int.h5ad saved!\"\n",
      "[1] \"processing GSE180661_SPECTRUM-OV-110_S1_CD45P_BOWEL\"\n"
     ]
    },
    {
     "name": "stderr",
     "output_type": "stream",
     "text": [
      "Warning message:\n",
      "“Layer ‘scale.data’ is empty”\n",
      "Warning message in .regularise_df(as.data.frame(SummarizedExperiment::colData(obj)), :\n",
      "“Dropping single category variables:sample, cluster_label_sub, patient_id, tumor_subsite, tumor_site, tumor_supersite, sort_parameters, therapy, surgery, sample_type, cancer_type, sample_id, cancer_subtype, sample_type_major, site, integration_id, dataset_id”\n"
     ]
    },
    {
     "name": "stdout",
     "output_type": "stream",
     "text": [
      "[1] \"GSE180661_SPECTRUM-OV-110_S1_CD45P_BOWEL_GSE180661_myeloid_int.h5ad saved!\"\n",
      "[1] \"processing GSE180661_SPECTRUM-OV-002_S1_CD45P_INFRACOLIC_OMENTUM\"\n"
     ]
    },
    {
     "name": "stderr",
     "output_type": "stream",
     "text": [
      "Warning message:\n",
      "“Layer ‘scale.data’ is empty”\n",
      "Warning message in .regularise_df(as.data.frame(SummarizedExperiment::colData(obj)), :\n",
      "“Dropping single category variables:sample, cell_type, cluster_label_sub, cell_type_super, patient_id, tumor_subsite, tumor_site, tumor_supersite, sort_parameters, therapy, surgery, sample_type, cancer_type, sample_id, cancer_subtype, sample_type_major, site, integration_id, dataset_id”\n"
     ]
    },
    {
     "name": "stdout",
     "output_type": "stream",
     "text": [
      "[1] \"GSE180661_SPECTRUM-OV-002_S1_CD45P_INFRACOLIC_OMENTUM_GSE180661_myeloid_int.h5ad saved!\"\n",
      "[1] \"processing GSE180661_SPECTRUM-OV-003_S1_UNSORTED_INFRACOLIC_OMENTUM\"\n"
     ]
    },
    {
     "name": "stderr",
     "output_type": "stream",
     "text": [
      "Warning message:\n",
      "“Layer ‘scale.data’ is empty”\n",
      "Warning message in .regularise_df(as.data.frame(SummarizedExperiment::colData(obj)), :\n",
      "“Dropping single category variables:sample, cluster_label_sub, patient_id, tumor_subsite, tumor_site, tumor_supersite, sort_parameters, therapy, surgery, sample_type, cancer_type, sample_id, cancer_subtype, sample_type_major, site, integration_id, dataset_id”\n"
     ]
    },
    {
     "name": "stdout",
     "output_type": "stream",
     "text": [
      "[1] \"GSE180661_SPECTRUM-OV-003_S1_UNSORTED_INFRACOLIC_OMENTUM_GSE180661_myeloid_int.h5ad saved!\"\n",
      "[1] \"processing GSE180661_SPECTRUM-OV-008_S1_CD45P_INFRACOLIC_OMENTUM\"\n"
     ]
    },
    {
     "name": "stderr",
     "output_type": "stream",
     "text": [
      "Warning message:\n",
      "“Layer ‘scale.data’ is empty”\n",
      "Warning message in .regularise_df(as.data.frame(SummarizedExperiment::colData(obj)), :\n",
      "“Dropping single category variables:sample, cluster_label_sub, patient_id, tumor_subsite, tumor_site, tumor_supersite, sort_parameters, therapy, surgery, sample_type, cancer_type, sample_id, cancer_subtype, sample_type_major, site, integration_id, dataset_id”\n"
     ]
    },
    {
     "name": "stdout",
     "output_type": "stream",
     "text": [
      "[1] \"GSE180661_SPECTRUM-OV-008_S1_CD45P_INFRACOLIC_OMENTUM_GSE180661_myeloid_int.h5ad saved!\"\n",
      "[1] \"processing GSE180661_SPECTRUM-OV-009_S1_CD45P_INFRACOLIC_OMENTUM\"\n"
     ]
    },
    {
     "name": "stderr",
     "output_type": "stream",
     "text": [
      "Warning message:\n",
      "“Layer ‘scale.data’ is empty”\n",
      "Warning message in .regularise_df(as.data.frame(SummarizedExperiment::colData(obj)), :\n",
      "“Dropping single category variables:sample, cluster_label_sub, patient_id, tumor_subsite, tumor_site, tumor_supersite, sort_parameters, therapy, surgery, sample_type, cancer_type, sample_id, cancer_subtype, sample_type_major, site, integration_id, dataset_id”\n"
     ]
    },
    {
     "name": "stdout",
     "output_type": "stream",
     "text": [
      "[1] \"GSE180661_SPECTRUM-OV-009_S1_CD45P_INFRACOLIC_OMENTUM_GSE180661_myeloid_int.h5ad saved!\"\n",
      "[1] \"processing GSE180661_SPECTRUM-OV-024_S1_CD45P_INFRACOLIC_OMENTUM\"\n"
     ]
    },
    {
     "name": "stderr",
     "output_type": "stream",
     "text": [
      "Warning message:\n",
      "“Layer ‘scale.data’ is empty”\n",
      "Warning message in .regularise_df(as.data.frame(SummarizedExperiment::colData(obj)), :\n",
      "“Dropping single category variables:sample, cluster_label_sub, patient_id, tumor_subsite, tumor_site, tumor_supersite, sort_parameters, therapy, surgery, sample_type, cancer_type, sample_id, cancer_subtype, sample_type_major, site, integration_id, dataset_id”\n"
     ]
    },
    {
     "name": "stdout",
     "output_type": "stream",
     "text": [
      "[1] \"GSE180661_SPECTRUM-OV-024_S1_CD45P_INFRACOLIC_OMENTUM_GSE180661_myeloid_int.h5ad saved!\"\n",
      "[1] \"processing GSE180661_SPECTRUM-OV-025_S1_CD45P_INFRACOLIC_OMENTUM\"\n"
     ]
    },
    {
     "name": "stderr",
     "output_type": "stream",
     "text": [
      "Warning message:\n",
      "“Layer ‘scale.data’ is empty”\n",
      "Warning message in .regularise_df(as.data.frame(SummarizedExperiment::colData(obj)), :\n",
      "“Dropping single category variables:sample, cluster_label_sub, patient_id, tumor_subsite, tumor_site, tumor_supersite, sort_parameters, therapy, surgery, sample_type, cancer_type, sample_id, cancer_subtype, sample_type_major, site, integration_id, dataset_id”\n"
     ]
    },
    {
     "name": "stdout",
     "output_type": "stream",
     "text": [
      "[1] \"GSE180661_SPECTRUM-OV-025_S1_CD45P_INFRACOLIC_OMENTUM_GSE180661_myeloid_int.h5ad saved!\"\n",
      "[1] \"processing GSE180661_SPECTRUM-OV-036_S1_CD45P_INFRACOLIC_OMENTUM\"\n"
     ]
    },
    {
     "name": "stderr",
     "output_type": "stream",
     "text": [
      "Warning message:\n",
      "“Layer ‘scale.data’ is empty”\n",
      "Warning message in .regularise_df(as.data.frame(SummarizedExperiment::colData(obj)), :\n",
      "“Dropping single category variables:sample, patient_id, tumor_subsite, tumor_site, tumor_supersite, sort_parameters, therapy, surgery, sample_type, cancer_type, sample_id, cancer_subtype, sample_type_major, site, integration_id, dataset_id”\n"
     ]
    },
    {
     "name": "stdout",
     "output_type": "stream",
     "text": [
      "[1] \"GSE180661_SPECTRUM-OV-036_S1_CD45P_INFRACOLIC_OMENTUM_GSE180661_myeloid_int.h5ad saved!\"\n",
      "[1] \"processing GSE180661_SPECTRUM-OV-037_S1_CD45P_INFRACOLIC_OMENTUM\"\n"
     ]
    },
    {
     "name": "stderr",
     "output_type": "stream",
     "text": [
      "Warning message:\n",
      "“Layer ‘scale.data’ is empty”\n",
      "Warning message in .regularise_df(as.data.frame(SummarizedExperiment::colData(obj)), :\n",
      "“Dropping single category variables:sample, cluster_label_sub, patient_id, tumor_subsite, tumor_site, tumor_supersite, sort_parameters, therapy, surgery, sample_type, cancer_type, sample_id, cancer_subtype, sample_type_major, site, integration_id, dataset_id”\n"
     ]
    },
    {
     "name": "stdout",
     "output_type": "stream",
     "text": [
      "[1] \"GSE180661_SPECTRUM-OV-037_S1_CD45P_INFRACOLIC_OMENTUM_GSE180661_myeloid_int.h5ad saved!\"\n",
      "[1] \"processing GSE180661_SPECTRUM-OV-041_S1_CD45P_INFRACOLIC_OMENTUM\"\n"
     ]
    },
    {
     "name": "stderr",
     "output_type": "stream",
     "text": [
      "Warning message:\n",
      "“Layer ‘scale.data’ is empty”\n",
      "Warning message in .regularise_df(as.data.frame(SummarizedExperiment::colData(obj)), :\n",
      "“Dropping single category variables:sample, cluster_label_sub, patient_id, tumor_subsite, tumor_site, tumor_supersite, sort_parameters, therapy, surgery, sample_type, cancer_type, sample_id, cancer_subtype, sample_type_major, site, integration_id, dataset_id”\n"
     ]
    },
    {
     "name": "stdout",
     "output_type": "stream",
     "text": [
      "[1] \"GSE180661_SPECTRUM-OV-041_S1_CD45P_INFRACOLIC_OMENTUM_GSE180661_myeloid_int.h5ad saved!\"\n",
      "[1] \"processing GSE180661_SPECTRUM-OV-042_S1_CD45P_INFRACOLIC_OMENTUM\"\n"
     ]
    },
    {
     "name": "stderr",
     "output_type": "stream",
     "text": [
      "Warning message:\n",
      "“Layer ‘scale.data’ is empty”\n",
      "Warning message in .regularise_df(as.data.frame(SummarizedExperiment::colData(obj)), :\n",
      "“Dropping single category variables:sample, cluster_label_sub, patient_id, tumor_subsite, tumor_site, tumor_supersite, sort_parameters, therapy, surgery, sample_type, cancer_type, sample_id, cancer_subtype, sample_type_major, site, integration_id, dataset_id”\n"
     ]
    },
    {
     "name": "stdout",
     "output_type": "stream",
     "text": [
      "[1] \"GSE180661_SPECTRUM-OV-042_S1_CD45P_INFRACOLIC_OMENTUM_GSE180661_myeloid_int.h5ad saved!\"\n",
      "[1] \"processing GSE180661_SPECTRUM-OV-045_S1_CD45P_INFRACOLIC_OMENTUM\"\n"
     ]
    },
    {
     "name": "stderr",
     "output_type": "stream",
     "text": [
      "Warning message:\n",
      "“Layer ‘scale.data’ is empty”\n",
      "Warning message in .regularise_df(as.data.frame(SummarizedExperiment::colData(obj)), :\n",
      "“Dropping single category variables:sample, cluster_label_sub, patient_id, tumor_subsite, tumor_site, tumor_supersite, sort_parameters, therapy, surgery, sample_type, cancer_type, sample_id, cancer_subtype, sample_type_major, site, integration_id, dataset_id”\n"
     ]
    },
    {
     "name": "stdout",
     "output_type": "stream",
     "text": [
      "[1] \"GSE180661_SPECTRUM-OV-045_S1_CD45P_INFRACOLIC_OMENTUM_GSE180661_myeloid_int.h5ad saved!\"\n",
      "[1] \"processing GSE180661_SPECTRUM-OV-049_S1_CD45P_INFRACOLIC_OMENTUM\"\n"
     ]
    },
    {
     "name": "stderr",
     "output_type": "stream",
     "text": [
      "Warning message:\n",
      "“Layer ‘scale.data’ is empty”\n",
      "Warning message in .regularise_df(as.data.frame(SummarizedExperiment::colData(obj)), :\n",
      "“Dropping single category variables:sample, cluster_label_sub, patient_id, tumor_subsite, tumor_site, tumor_supersite, sort_parameters, therapy, surgery, sample_type, cancer_type, sample_id, cancer_subtype, sample_type_major, site, integration_id, dataset_id”\n"
     ]
    },
    {
     "name": "stdout",
     "output_type": "stream",
     "text": [
      "[1] \"GSE180661_SPECTRUM-OV-049_S1_CD45P_INFRACOLIC_OMENTUM_GSE180661_myeloid_int.h5ad saved!\"\n",
      "[1] \"processing GSE180661_SPECTRUM-OV-050_S1_CD45P_INFRACOLIC_OMENTUM\"\n"
     ]
    },
    {
     "name": "stderr",
     "output_type": "stream",
     "text": [
      "Warning message:\n",
      "“Layer ‘scale.data’ is empty”\n",
      "Warning message in .regularise_df(as.data.frame(SummarizedExperiment::colData(obj)), :\n",
      "“Dropping single category variables:sample, cluster_label_sub, patient_id, tumor_subsite, tumor_site, tumor_supersite, sort_parameters, therapy, surgery, sample_type, cancer_type, sample_id, cancer_subtype, sample_type_major, site, integration_id, dataset_id”\n"
     ]
    },
    {
     "name": "stdout",
     "output_type": "stream",
     "text": [
      "[1] \"GSE180661_SPECTRUM-OV-050_S1_CD45P_INFRACOLIC_OMENTUM_GSE180661_myeloid_int.h5ad saved!\"\n",
      "[1] \"processing GSE180661_SPECTRUM-OV-052_S1_CD45P_INFRACOLIC_OMENTUM\"\n"
     ]
    },
    {
     "name": "stderr",
     "output_type": "stream",
     "text": [
      "Warning message:\n",
      "“Layer ‘scale.data’ is empty”\n",
      "Warning message in .regularise_df(as.data.frame(SummarizedExperiment::colData(obj)), :\n",
      "“Dropping single category variables:sample, cluster_label_sub, patient_id, tumor_subsite, tumor_site, tumor_supersite, sort_parameters, therapy, surgery, sample_type, cancer_type, sample_id, cancer_subtype, sample_type_major, site, integration_id, dataset_id”\n"
     ]
    },
    {
     "name": "stdout",
     "output_type": "stream",
     "text": [
      "[1] \"GSE180661_SPECTRUM-OV-052_S1_CD45P_INFRACOLIC_OMENTUM_GSE180661_myeloid_int.h5ad saved!\"\n",
      "[1] \"processing GSE180661_SPECTRUM-OV-053_S1_CD45P_INFRACOLIC_OMENTUM\"\n"
     ]
    },
    {
     "name": "stderr",
     "output_type": "stream",
     "text": [
      "Warning message:\n",
      "“Layer ‘scale.data’ is empty”\n",
      "Warning message in .regularise_df(as.data.frame(SummarizedExperiment::colData(obj)), :\n",
      "“Dropping single category variables:sample, cluster_label_sub, patient_id, tumor_subsite, tumor_site, tumor_supersite, sort_parameters, therapy, surgery, sample_type, cancer_type, sample_id, cancer_subtype, sample_type_major, site, integration_id, dataset_id”\n"
     ]
    },
    {
     "name": "stdout",
     "output_type": "stream",
     "text": [
      "[1] \"GSE180661_SPECTRUM-OV-053_S1_CD45P_INFRACOLIC_OMENTUM_GSE180661_myeloid_int.h5ad saved!\"\n",
      "[1] \"processing GSE180661_SPECTRUM-OV-054_S1_CD45P_INFRACOLIC_OMENTUM\"\n"
     ]
    },
    {
     "name": "stderr",
     "output_type": "stream",
     "text": [
      "Warning message:\n",
      "“Layer ‘scale.data’ is empty”\n",
      "Warning message in .regularise_df(as.data.frame(SummarizedExperiment::colData(obj)), :\n",
      "“Dropping single category variables:sample, cluster_label_sub, patient_id, tumor_subsite, tumor_site, tumor_supersite, sort_parameters, therapy, surgery, sample_type, cancer_type, sample_id, cancer_subtype, sample_type_major, site, integration_id, dataset_id”\n"
     ]
    },
    {
     "name": "stdout",
     "output_type": "stream",
     "text": [
      "[1] \"GSE180661_SPECTRUM-OV-054_S1_CD45P_INFRACOLIC_OMENTUM_GSE180661_myeloid_int.h5ad saved!\"\n",
      "[1] \"processing GSE180661_SPECTRUM-OV-065_S1_CD45P_INFRACOLIC_OMENTUM\"\n"
     ]
    },
    {
     "name": "stderr",
     "output_type": "stream",
     "text": [
      "Warning message:\n",
      "“Layer ‘scale.data’ is empty”\n",
      "Warning message in .regularise_df(as.data.frame(SummarizedExperiment::colData(obj)), :\n",
      "“Dropping single category variables:sample, cluster_label_sub, patient_id, tumor_subsite, tumor_site, tumor_supersite, sort_parameters, therapy, surgery, sample_type, cancer_type, sample_id, cancer_subtype, sample_type_major, site, integration_id, dataset_id”\n"
     ]
    },
    {
     "name": "stdout",
     "output_type": "stream",
     "text": [
      "[1] \"GSE180661_SPECTRUM-OV-065_S1_CD45P_INFRACOLIC_OMENTUM_GSE180661_myeloid_int.h5ad saved!\"\n",
      "[1] \"processing GSE180661_SPECTRUM-OV-068_S1_CD45P_INFRACOLIC_OMENTUM\"\n"
     ]
    },
    {
     "name": "stderr",
     "output_type": "stream",
     "text": [
      "Warning message:\n",
      "“Layer ‘scale.data’ is empty”\n",
      "Warning message in .regularise_df(as.data.frame(SummarizedExperiment::colData(obj)), :\n",
      "“Dropping single category variables:sample, cluster_label_sub, patient_id, tumor_subsite, tumor_site, tumor_supersite, sort_parameters, therapy, surgery, sample_type, cancer_type, sample_id, cancer_subtype, sample_type_major, site, integration_id, dataset_id”\n"
     ]
    },
    {
     "name": "stdout",
     "output_type": "stream",
     "text": [
      "[1] \"GSE180661_SPECTRUM-OV-068_S1_CD45P_INFRACOLIC_OMENTUM_GSE180661_myeloid_int.h5ad saved!\"\n",
      "[1] \"processing GSE180661_SPECTRUM-OV-070_S1_CD45P_INFRACOLIC_OMENTUM\"\n"
     ]
    },
    {
     "name": "stderr",
     "output_type": "stream",
     "text": [
      "Warning message:\n",
      "“Layer ‘scale.data’ is empty”\n",
      "Warning message in .regularise_df(as.data.frame(SummarizedExperiment::colData(obj)), :\n",
      "“Dropping single category variables:sample, cluster_label_sub, patient_id, tumor_subsite, tumor_site, tumor_supersite, sort_parameters, therapy, surgery, sample_type, cancer_type, sample_id, cancer_subtype, sample_type_major, site, integration_id, dataset_id”\n"
     ]
    },
    {
     "name": "stdout",
     "output_type": "stream",
     "text": [
      "[1] \"GSE180661_SPECTRUM-OV-070_S1_CD45P_INFRACOLIC_OMENTUM_GSE180661_myeloid_int.h5ad saved!\"\n",
      "[1] \"processing GSE180661_SPECTRUM-OV-075_S1_CD45P_INFRACOLIC_OMENTUM\"\n"
     ]
    },
    {
     "name": "stderr",
     "output_type": "stream",
     "text": [
      "Warning message:\n",
      "“Layer ‘scale.data’ is empty”\n",
      "Warning message in .regularise_df(as.data.frame(SummarizedExperiment::colData(obj)), :\n",
      "“Dropping single category variables:sample, patient_id, tumor_subsite, tumor_site, tumor_supersite, sort_parameters, therapy, surgery, sample_type, cancer_type, sample_id, cancer_subtype, sample_type_major, site, integration_id, dataset_id”\n"
     ]
    },
    {
     "name": "stdout",
     "output_type": "stream",
     "text": [
      "[1] \"GSE180661_SPECTRUM-OV-075_S1_CD45P_INFRACOLIC_OMENTUM_GSE180661_myeloid_int.h5ad saved!\"\n",
      "[1] \"processing GSE180661_SPECTRUM-OV-077_S1_CD45P_INFRACOLIC_OMENTUM\"\n"
     ]
    },
    {
     "name": "stderr",
     "output_type": "stream",
     "text": [
      "Warning message:\n",
      "“Layer ‘scale.data’ is empty”\n",
      "Warning message in .regularise_df(as.data.frame(SummarizedExperiment::colData(obj)), :\n",
      "“Dropping single category variables:sample, patient_id, tumor_subsite, tumor_site, tumor_supersite, sort_parameters, therapy, surgery, sample_type, cancer_type, sample_id, cancer_subtype, sample_type_major, site, integration_id, dataset_id”\n"
     ]
    },
    {
     "name": "stdout",
     "output_type": "stream",
     "text": [
      "[1] \"GSE180661_SPECTRUM-OV-077_S1_CD45P_INFRACOLIC_OMENTUM_GSE180661_myeloid_int.h5ad saved!\"\n",
      "[1] \"processing GSE180661_SPECTRUM-OV-080_S1_CD45P_INFRACOLIC_OMENTUM\"\n"
     ]
    },
    {
     "name": "stderr",
     "output_type": "stream",
     "text": [
      "Warning message:\n",
      "“Layer ‘scale.data’ is empty”\n",
      "Warning message in .regularise_df(as.data.frame(SummarizedExperiment::colData(obj)), :\n",
      "“Dropping single category variables:sample, patient_id, tumor_subsite, tumor_site, tumor_supersite, sort_parameters, therapy, surgery, sample_type, cancer_type, sample_id, cancer_subtype, sample_type_major, site, integration_id, dataset_id”\n"
     ]
    },
    {
     "name": "stdout",
     "output_type": "stream",
     "text": [
      "[1] \"GSE180661_SPECTRUM-OV-080_S1_CD45P_INFRACOLIC_OMENTUM_GSE180661_myeloid_int.h5ad saved!\"\n",
      "[1] \"processing GSE180661_SPECTRUM-OV-081_S1_CD45P_INFRACOLIC_OMENTUM\"\n"
     ]
    },
    {
     "name": "stderr",
     "output_type": "stream",
     "text": [
      "Warning message:\n",
      "“Layer ‘scale.data’ is empty”\n",
      "Warning message in .regularise_df(as.data.frame(SummarizedExperiment::colData(obj)), :\n",
      "“Dropping single category variables:sample, patient_id, tumor_subsite, tumor_site, tumor_supersite, sort_parameters, therapy, surgery, sample_type, cancer_type, sample_id, cancer_subtype, sample_type_major, site, integration_id, dataset_id”\n"
     ]
    },
    {
     "name": "stdout",
     "output_type": "stream",
     "text": [
      "[1] \"GSE180661_SPECTRUM-OV-081_S1_CD45P_INFRACOLIC_OMENTUM_GSE180661_myeloid_int.h5ad saved!\"\n",
      "[1] \"processing GSE180661_SPECTRUM-OV-082_S1_CD45P_INFRACOLIC_OMENTUM\"\n"
     ]
    },
    {
     "name": "stderr",
     "output_type": "stream",
     "text": [
      "Warning message:\n",
      "“Layer ‘scale.data’ is empty”\n",
      "Warning message in .regularise_df(as.data.frame(SummarizedExperiment::colData(obj)), :\n",
      "“Dropping single category variables:sample, patient_id, tumor_subsite, tumor_site, tumor_supersite, sort_parameters, therapy, surgery, sample_type, cancer_type, sample_id, cancer_subtype, sample_type_major, site, integration_id, dataset_id”\n"
     ]
    },
    {
     "name": "stdout",
     "output_type": "stream",
     "text": [
      "[1] \"GSE180661_SPECTRUM-OV-082_S1_CD45P_INFRACOLIC_OMENTUM_GSE180661_myeloid_int.h5ad saved!\"\n",
      "[1] \"processing GSE180661_SPECTRUM-OV-083_S1_CD45P_INFRACOLIC_OMENTUM\"\n"
     ]
    },
    {
     "name": "stderr",
     "output_type": "stream",
     "text": [
      "Warning message:\n",
      "“Layer ‘scale.data’ is empty”\n",
      "Warning message in .regularise_df(as.data.frame(SummarizedExperiment::colData(obj)), :\n",
      "“Dropping single category variables:sample, patient_id, tumor_subsite, tumor_site, tumor_supersite, sort_parameters, therapy, surgery, sample_type, cancer_type, sample_id, cancer_subtype, sample_type_major, site, integration_id, dataset_id”\n"
     ]
    },
    {
     "name": "stdout",
     "output_type": "stream",
     "text": [
      "[1] \"GSE180661_SPECTRUM-OV-083_S1_CD45P_INFRACOLIC_OMENTUM_GSE180661_myeloid_int.h5ad saved!\"\n",
      "[1] \"processing GSE180661_SPECTRUM-OV-090_S1_CD45P_INFRACOLIC_OMENTUM\"\n"
     ]
    },
    {
     "name": "stderr",
     "output_type": "stream",
     "text": [
      "Warning message:\n",
      "“Layer ‘scale.data’ is empty”\n",
      "Warning message in .regularise_df(as.data.frame(SummarizedExperiment::colData(obj)), :\n",
      "“Dropping single category variables:sample, patient_id, tumor_subsite, tumor_site, tumor_supersite, sort_parameters, therapy, surgery, sample_type, cancer_type, sample_id, cancer_subtype, sample_type_major, site, integration_id, dataset_id”\n"
     ]
    },
    {
     "name": "stdout",
     "output_type": "stream",
     "text": [
      "[1] \"GSE180661_SPECTRUM-OV-090_S1_CD45P_INFRACOLIC_OMENTUM_GSE180661_myeloid_int.h5ad saved!\"\n",
      "[1] \"processing GSE180661_SPECTRUM-OV-105_S1_CD45P_INFRACOLIC_OMENTUM\"\n"
     ]
    },
    {
     "name": "stderr",
     "output_type": "stream",
     "text": [
      "Warning message:\n",
      "“Layer ‘scale.data’ is empty”\n",
      "Warning message in .regularise_df(as.data.frame(SummarizedExperiment::colData(obj)), :\n",
      "“Dropping single category variables:sample, patient_id, tumor_subsite, tumor_site, tumor_supersite, sort_parameters, therapy, surgery, sample_type, cancer_type, sample_id, cancer_subtype, sample_type_major, site, integration_id, dataset_id”\n"
     ]
    },
    {
     "name": "stdout",
     "output_type": "stream",
     "text": [
      "[1] \"GSE180661_SPECTRUM-OV-105_S1_CD45P_INFRACOLIC_OMENTUM_GSE180661_myeloid_int.h5ad saved!\"\n",
      "[1] \"processing GSE180661_SPECTRUM-OV-107_S1_CD45P_INFRACOLIC_OMENTUM\"\n"
     ]
    },
    {
     "name": "stderr",
     "output_type": "stream",
     "text": [
      "Warning message:\n",
      "“Layer ‘scale.data’ is empty”\n",
      "Warning message in .regularise_df(as.data.frame(SummarizedExperiment::colData(obj)), :\n",
      "“Dropping single category variables:sample, patient_id, tumor_subsite, tumor_site, tumor_supersite, sort_parameters, therapy, surgery, sample_type, cancer_type, sample_id, cancer_subtype, sample_type_major, site, integration_id, dataset_id”\n"
     ]
    },
    {
     "name": "stdout",
     "output_type": "stream",
     "text": [
      "[1] \"GSE180661_SPECTRUM-OV-107_S1_CD45P_INFRACOLIC_OMENTUM_GSE180661_myeloid_int.h5ad saved!\"\n",
      "[1] \"processing GSE180661_SPECTRUM-OV-110_S1_CD45P_INFRACOLIC_OMENTUM\"\n"
     ]
    },
    {
     "name": "stderr",
     "output_type": "stream",
     "text": [
      "Warning message:\n",
      "“Layer ‘scale.data’ is empty”\n",
      "Warning message in .regularise_df(as.data.frame(SummarizedExperiment::colData(obj)), :\n",
      "“Dropping single category variables:sample, cluster_label_sub, patient_id, tumor_subsite, tumor_site, tumor_supersite, sort_parameters, therapy, surgery, sample_type, cancer_type, sample_id, cancer_subtype, sample_type_major, site, integration_id, dataset_id”\n"
     ]
    },
    {
     "name": "stdout",
     "output_type": "stream",
     "text": [
      "[1] \"GSE180661_SPECTRUM-OV-110_S1_CD45P_INFRACOLIC_OMENTUM_GSE180661_myeloid_int.h5ad saved!\"\n",
      "[1] \"processing GSE180661_SPECTRUM-OV-115_S1_CD45P_INFRACOLIC_OMENTUM\"\n"
     ]
    },
    {
     "name": "stderr",
     "output_type": "stream",
     "text": [
      "Warning message:\n",
      "“Layer ‘scale.data’ is empty”\n",
      "Warning message in .regularise_df(as.data.frame(SummarizedExperiment::colData(obj)), :\n",
      "“Dropping single category variables:sample, cluster_label_sub, patient_id, tumor_subsite, tumor_site, tumor_supersite, sort_parameters, therapy, surgery, sample_type, cancer_type, sample_id, cancer_subtype, sample_type_major, site, integration_id, dataset_id”\n"
     ]
    },
    {
     "name": "stdout",
     "output_type": "stream",
     "text": [
      "[1] \"GSE180661_SPECTRUM-OV-115_S1_CD45P_INFRACOLIC_OMENTUM_GSE180661_myeloid_int.h5ad saved!\"\n",
      "[1] \"processing GSE180661_SPECTRUM-OV-116_S1_CD45P_INFRACOLIC_OMENTUM\"\n"
     ]
    },
    {
     "name": "stderr",
     "output_type": "stream",
     "text": [
      "Warning message:\n",
      "“Layer ‘scale.data’ is empty”\n",
      "Warning message in .regularise_df(as.data.frame(SummarizedExperiment::colData(obj)), :\n",
      "“Dropping single category variables:sample, cluster_label_sub, patient_id, tumor_subsite, tumor_site, tumor_supersite, sort_parameters, therapy, surgery, sample_type, cancer_type, sample_id, cancer_subtype, sample_type_major, site, integration_id, dataset_id”\n"
     ]
    },
    {
     "name": "stdout",
     "output_type": "stream",
     "text": [
      "[1] \"GSE180661_SPECTRUM-OV-116_S1_CD45P_INFRACOLIC_OMENTUM_GSE180661_myeloid_int.h5ad saved!\"\n",
      "[1] \"processing GSE180661_SPECTRUM-OV-003_S1_UNSORTED_PELVIC_PERITONEUM\"\n"
     ]
    },
    {
     "name": "stderr",
     "output_type": "stream",
     "text": [
      "Warning message:\n",
      "“Layer ‘scale.data’ is empty”\n",
      "Warning message in .regularise_df(as.data.frame(SummarizedExperiment::colData(obj)), :\n",
      "“Dropping single category variables:sample, cluster_label_sub, patient_id, tumor_subsite, tumor_site, tumor_supersite, sort_parameters, therapy, surgery, sample_type, cancer_type, sample_id, cancer_subtype, sample_type_major, site, integration_id, dataset_id”\n"
     ]
    },
    {
     "name": "stdout",
     "output_type": "stream",
     "text": [
      "[1] \"GSE180661_SPECTRUM-OV-003_S1_UNSORTED_PELVIC_PERITONEUM_GSE180661_myeloid_int.h5ad saved!\"\n",
      "[1] \"processing GSE180661_SPECTRUM-OV-009_S1_CD45P_PELVIC_PERITONEUM\"\n"
     ]
    },
    {
     "name": "stderr",
     "output_type": "stream",
     "text": [
      "Warning message:\n",
      "“Layer ‘scale.data’ is empty”\n",
      "Warning message in .regularise_df(as.data.frame(SummarizedExperiment::colData(obj)), :\n",
      "“Dropping single category variables:sample, cluster_label_sub, patient_id, tumor_subsite, tumor_site, tumor_supersite, sort_parameters, therapy, surgery, sample_type, cancer_type, sample_id, cancer_subtype, sample_type_major, site, integration_id, dataset_id”\n"
     ]
    },
    {
     "name": "stdout",
     "output_type": "stream",
     "text": [
      "[1] \"GSE180661_SPECTRUM-OV-009_S1_CD45P_PELVIC_PERITONEUM_GSE180661_myeloid_int.h5ad saved!\"\n",
      "[1] \"processing GSE180661_SPECTRUM-OV-014_S1_CD45P_PELVIC_PERITONEUM\"\n"
     ]
    },
    {
     "name": "stderr",
     "output_type": "stream",
     "text": [
      "Warning message:\n",
      "“Layer ‘scale.data’ is empty”\n",
      "Warning message in .regularise_df(as.data.frame(SummarizedExperiment::colData(obj)), :\n",
      "“Dropping single category variables:sample, cluster_label_sub, patient_id, tumor_subsite, tumor_site, tumor_supersite, sort_parameters, therapy, surgery, sample_type, cancer_type, sample_id, cancer_subtype, sample_type_major, site, integration_id, dataset_id”\n"
     ]
    },
    {
     "name": "stdout",
     "output_type": "stream",
     "text": [
      "[1] \"GSE180661_SPECTRUM-OV-014_S1_CD45P_PELVIC_PERITONEUM_GSE180661_myeloid_int.h5ad saved!\"\n",
      "[1] \"processing GSE180661_SPECTRUM-OV-024_S1_CD45P_PELVIC_PERITONEUM\"\n"
     ]
    },
    {
     "name": "stderr",
     "output_type": "stream",
     "text": [
      "Warning message:\n",
      "“Layer ‘scale.data’ is empty”\n",
      "Warning message in .regularise_df(as.data.frame(SummarizedExperiment::colData(obj)), :\n",
      "“Dropping single category variables:sample, cluster_label_sub, patient_id, tumor_subsite, tumor_site, tumor_supersite, sort_parameters, therapy, surgery, sample_type, cancer_type, sample_id, cancer_subtype, sample_type_major, site, integration_id, dataset_id”\n"
     ]
    },
    {
     "name": "stdout",
     "output_type": "stream",
     "text": [
      "[1] \"GSE180661_SPECTRUM-OV-024_S1_CD45P_PELVIC_PERITONEUM_GSE180661_myeloid_int.h5ad saved!\"\n",
      "[1] \"processing GSE180661_SPECTRUM-OV-042_S1_CD45P_PELVIC_PERITONEUM\"\n"
     ]
    },
    {
     "name": "stderr",
     "output_type": "stream",
     "text": [
      "Warning message:\n",
      "“Layer ‘scale.data’ is empty”\n",
      "Warning message in .regularise_df(as.data.frame(SummarizedExperiment::colData(obj)), :\n",
      "“Dropping single category variables:sample, cluster_label_sub, patient_id, tumor_subsite, tumor_site, tumor_supersite, sort_parameters, therapy, surgery, sample_type, cancer_type, sample_id, cancer_subtype, sample_type_major, site, integration_id, dataset_id”\n"
     ]
    },
    {
     "name": "stdout",
     "output_type": "stream",
     "text": [
      "[1] \"GSE180661_SPECTRUM-OV-042_S1_CD45P_PELVIC_PERITONEUM_GSE180661_myeloid_int.h5ad saved!\"\n",
      "[1] \"processing GSE180661_SPECTRUM-OV-070_S1_CD45P_PELVIS\"\n"
     ]
    },
    {
     "name": "stderr",
     "output_type": "stream",
     "text": [
      "Warning message:\n",
      "“Layer ‘scale.data’ is empty”\n",
      "Warning message in .regularise_df(as.data.frame(SummarizedExperiment::colData(obj)), :\n",
      "“Dropping single category variables:sample, cluster_label_sub, patient_id, tumor_subsite, tumor_site, tumor_supersite, sort_parameters, therapy, surgery, sample_type, cancer_type, sample_id, cancer_subtype, sample_type_major, site, integration_id, dataset_id”\n"
     ]
    },
    {
     "name": "stdout",
     "output_type": "stream",
     "text": [
      "[1] \"GSE180661_SPECTRUM-OV-070_S1_CD45P_PELVIS_GSE180661_myeloid_int.h5ad saved!\"\n",
      "[1] \"processing GSE180661_SPECTRUM-OV-071_S1_CD45P_PELVIC_PERITONEAL_TUMOUR\"\n"
     ]
    },
    {
     "name": "stderr",
     "output_type": "stream",
     "text": [
      "Warning message:\n",
      "“Layer ‘scale.data’ is empty”\n",
      "Warning message in .regularise_df(as.data.frame(SummarizedExperiment::colData(obj)), :\n",
      "“Dropping single category variables:sample, cluster_label_sub, patient_id, tumor_subsite, tumor_site, tumor_supersite, sort_parameters, therapy, surgery, sample_type, cancer_type, sample_id, cancer_subtype, sample_type_major, site, integration_id, dataset_id”\n"
     ]
    },
    {
     "name": "stdout",
     "output_type": "stream",
     "text": [
      "[1] \"GSE180661_SPECTRUM-OV-071_S1_CD45P_PELVIC_PERITONEAL_TUMOUR_GSE180661_myeloid_int.h5ad saved!\"\n",
      "[1] \"processing GSE180661_SPECTRUM-OV-080_S1_CD45P_PELVIC_PERITONEUM\"\n"
     ]
    },
    {
     "name": "stderr",
     "output_type": "stream",
     "text": [
      "Warning message:\n",
      "“Layer ‘scale.data’ is empty”\n",
      "Warning message in .regularise_df(as.data.frame(SummarizedExperiment::colData(obj)), :\n",
      "“Dropping single category variables:sample, patient_id, tumor_subsite, tumor_site, tumor_supersite, sort_parameters, therapy, surgery, sample_type, cancer_type, sample_id, cancer_subtype, sample_type_major, site, integration_id, dataset_id”\n"
     ]
    },
    {
     "name": "stdout",
     "output_type": "stream",
     "text": [
      "[1] \"GSE180661_SPECTRUM-OV-080_S1_CD45P_PELVIC_PERITONEUM_GSE180661_myeloid_int.h5ad saved!\"\n",
      "[1] \"processing GSE180661_SPECTRUM-OV-110_S1_CD45P_PELVIC_PERITONEUM\"\n"
     ]
    },
    {
     "name": "stderr",
     "output_type": "stream",
     "text": [
      "Warning message:\n",
      "“Layer ‘scale.data’ is empty”\n",
      "Warning message in .regularise_df(as.data.frame(SummarizedExperiment::colData(obj)), :\n",
      "“Dropping single category variables:sample, cluster_label_sub, patient_id, tumor_subsite, tumor_site, tumor_supersite, sort_parameters, therapy, surgery, sample_type, cancer_type, sample_id, cancer_subtype, sample_type_major, site, integration_id, dataset_id”\n"
     ]
    },
    {
     "name": "stdout",
     "output_type": "stream",
     "text": [
      "[1] \"GSE180661_SPECTRUM-OV-110_S1_CD45P_PELVIC_PERITONEUM_GSE180661_myeloid_int.h5ad saved!\"\n",
      "[1] \"processing GSE180661_SPECTRUM-OV-112_S1_CD45P_PELVIC_PERITONEUM\"\n"
     ]
    },
    {
     "name": "stderr",
     "output_type": "stream",
     "text": [
      "Warning message:\n",
      "“Layer ‘scale.data’ is empty”\n",
      "Warning message in .regularise_df(as.data.frame(SummarizedExperiment::colData(obj)), :\n",
      "“Dropping single category variables:sample, cluster_label_sub, patient_id, tumor_subsite, tumor_site, tumor_supersite, sort_parameters, therapy, surgery, sample_type, cancer_type, sample_id, cancer_subtype, sample_type_major, site, integration_id, dataset_id”\n"
     ]
    },
    {
     "name": "stdout",
     "output_type": "stream",
     "text": [
      "[1] \"GSE180661_SPECTRUM-OV-112_S1_CD45P_PELVIC_PERITONEUM_GSE180661_myeloid_int.h5ad saved!\"\n",
      "[1] \"processing GSE180661_SPECTRUM-OV-115_S1_CD45P_PELVIC_PERITONEUM\"\n"
     ]
    },
    {
     "name": "stderr",
     "output_type": "stream",
     "text": [
      "Warning message:\n",
      "“Layer ‘scale.data’ is empty”\n",
      "Warning message in .regularise_df(as.data.frame(SummarizedExperiment::colData(obj)), :\n",
      "“Dropping single category variables:sample, cluster_label_sub, patient_id, tumor_subsite, tumor_site, tumor_supersite, sort_parameters, therapy, surgery, sample_type, cancer_type, sample_id, cancer_subtype, sample_type_major, site, integration_id, dataset_id”\n"
     ]
    },
    {
     "name": "stdout",
     "output_type": "stream",
     "text": [
      "[1] \"GSE180661_SPECTRUM-OV-115_S1_CD45P_PELVIC_PERITONEUM_GSE180661_myeloid_int.h5ad saved!\"\n",
      "[1] \"processing GSE180661_SPECTRUM-OV-118_S1_CD45P_PELVIC_PERITONEUM\"\n"
     ]
    },
    {
     "name": "stderr",
     "output_type": "stream",
     "text": [
      "Warning message:\n",
      "“Layer ‘scale.data’ is empty”\n",
      "Warning message in .regularise_df(as.data.frame(SummarizedExperiment::colData(obj)), :\n",
      "“Dropping single category variables:sample, cluster_label_sub, patient_id, tumor_subsite, tumor_site, tumor_supersite, sort_parameters, therapy, surgery, sample_type, cancer_type, sample_id, cancer_subtype, sample_type_major, site, integration_id, dataset_id”\n"
     ]
    },
    {
     "name": "stdout",
     "output_type": "stream",
     "text": [
      "[1] \"GSE180661_SPECTRUM-OV-118_S1_CD45P_PELVIC_PERITONEUM_GSE180661_myeloid_int.h5ad saved!\"\n",
      "[1] \"processing GSE180661_SPECTRUM-OV-003_S1_UNSORTED_RIGHT_UPPER_QUADRANT\"\n"
     ]
    },
    {
     "name": "stderr",
     "output_type": "stream",
     "text": [
      "Warning message:\n",
      "“Layer ‘scale.data’ is empty”\n",
      "Warning message in .regularise_df(as.data.frame(SummarizedExperiment::colData(obj)), :\n",
      "“Dropping single category variables:sample, cluster_label_sub, patient_id, tumor_subsite, tumor_site, tumor_supersite, sort_parameters, therapy, surgery, sample_type, cancer_type, sample_id, cancer_subtype, sample_type_major, site, integration_id, dataset_id”\n"
     ]
    },
    {
     "name": "stdout",
     "output_type": "stream",
     "text": [
      "[1] \"GSE180661_SPECTRUM-OV-003_S1_UNSORTED_RIGHT_UPPER_QUADRANT_GSE180661_myeloid_int.h5ad saved!\"\n",
      "[1] \"processing GSE180661_SPECTRUM-OV-003_S1_UNSORTED_LEFT_UPPER_QUADRANT\"\n"
     ]
    },
    {
     "name": "stderr",
     "output_type": "stream",
     "text": [
      "Warning message:\n",
      "“Layer ‘scale.data’ is empty”\n",
      "Warning message in .regularise_df(as.data.frame(SummarizedExperiment::colData(obj)), :\n",
      "“Dropping single category variables:sample, cluster_label_sub, patient_id, tumor_subsite, tumor_site, tumor_supersite, sort_parameters, therapy, surgery, sample_type, cancer_type, sample_id, cancer_subtype, sample_type_major, site, integration_id, dataset_id”\n"
     ]
    },
    {
     "name": "stdout",
     "output_type": "stream",
     "text": [
      "[1] \"GSE180661_SPECTRUM-OV-003_S1_UNSORTED_LEFT_UPPER_QUADRANT_GSE180661_myeloid_int.h5ad saved!\"\n",
      "[1] \"processing GSE180661_SPECTRUM-OV-009_S1_CD45P_RIGHT_UPPER_QUADRANT\"\n"
     ]
    },
    {
     "name": "stderr",
     "output_type": "stream",
     "text": [
      "Warning message:\n",
      "“Layer ‘scale.data’ is empty”\n",
      "Warning message in .regularise_df(as.data.frame(SummarizedExperiment::colData(obj)), :\n",
      "“Dropping single category variables:sample, patient_id, tumor_subsite, tumor_site, tumor_supersite, sort_parameters, therapy, surgery, sample_type, cancer_type, sample_id, cancer_subtype, sample_type_major, site, integration_id, dataset_id”\n"
     ]
    },
    {
     "name": "stdout",
     "output_type": "stream",
     "text": [
      "[1] \"GSE180661_SPECTRUM-OV-009_S1_CD45P_RIGHT_UPPER_QUADRANT_GSE180661_myeloid_int.h5ad saved!\"\n",
      "[1] \"processing GSE180661_SPECTRUM-OV-009_S1_CD45P_LEFT_UPPER_QUADRANT\"\n"
     ]
    },
    {
     "name": "stderr",
     "output_type": "stream",
     "text": [
      "Warning message:\n",
      "“Layer ‘scale.data’ is empty”\n",
      "Warning message in .regularise_df(as.data.frame(SummarizedExperiment::colData(obj)), :\n",
      "“Dropping single category variables:sample, patient_id, tumor_subsite, tumor_site, tumor_supersite, sort_parameters, therapy, surgery, sample_type, cancer_type, sample_id, cancer_subtype, sample_type_major, site, integration_id, dataset_id”\n"
     ]
    },
    {
     "name": "stdout",
     "output_type": "stream",
     "text": [
      "[1] \"GSE180661_SPECTRUM-OV-009_S1_CD45P_LEFT_UPPER_QUADRANT_GSE180661_myeloid_int.h5ad saved!\"\n",
      "[1] \"processing GSE180661_SPECTRUM-OV-014_S1_CD45P_RIGHT_UPPER_QUADRANT\"\n"
     ]
    },
    {
     "name": "stderr",
     "output_type": "stream",
     "text": [
      "Warning message:\n",
      "“Layer ‘scale.data’ is empty”\n",
      "Warning message in .regularise_df(as.data.frame(SummarizedExperiment::colData(obj)), :\n",
      "“Dropping single category variables:sample, cell_type, cluster_label_sub, cell_type_super, patient_id, tumor_subsite, tumor_site, tumor_supersite, sort_parameters, therapy, surgery, sample_type, cancer_type, sample_id, cancer_subtype, sample_type_major, site, integration_id, dataset_id”\n"
     ]
    },
    {
     "name": "stdout",
     "output_type": "stream",
     "text": [
      "[1] \"GSE180661_SPECTRUM-OV-014_S1_CD45P_RIGHT_UPPER_QUADRANT_GSE180661_myeloid_int.h5ad saved!\"\n",
      "[1] \"processing GSE180661_SPECTRUM-OV-024_S1_CD45P_LEFT_UPPER_QUADRANT\"\n"
     ]
    },
    {
     "name": "stderr",
     "output_type": "stream",
     "text": [
      "Warning message:\n",
      "“Layer ‘scale.data’ is empty”\n",
      "Warning message in .regularise_df(as.data.frame(SummarizedExperiment::colData(obj)), :\n",
      "“Dropping single category variables:sample, cluster_label_sub, patient_id, tumor_subsite, tumor_site, tumor_supersite, sort_parameters, therapy, surgery, sample_type, cancer_type, sample_id, cancer_subtype, sample_type_major, site, integration_id, dataset_id”\n"
     ]
    },
    {
     "name": "stdout",
     "output_type": "stream",
     "text": [
      "[1] \"GSE180661_SPECTRUM-OV-024_S1_CD45P_LEFT_UPPER_QUADRANT_GSE180661_myeloid_int.h5ad saved!\"\n",
      "[1] \"processing GSE180661_SPECTRUM-OV-037_S1_CD45P_LUQ_OMENTUM\"\n"
     ]
    },
    {
     "name": "stderr",
     "output_type": "stream",
     "text": [
      "Warning message:\n",
      "“Layer ‘scale.data’ is empty”\n",
      "Warning message in .regularise_df(as.data.frame(SummarizedExperiment::colData(obj)), :\n",
      "“Dropping single category variables:sample, cluster_label_sub, patient_id, tumor_subsite, tumor_site, tumor_supersite, sort_parameters, therapy, surgery, sample_type, cancer_type, sample_id, cancer_subtype, sample_type_major, site, integration_id, dataset_id”\n"
     ]
    },
    {
     "name": "stdout",
     "output_type": "stream",
     "text": [
      "[1] \"GSE180661_SPECTRUM-OV-037_S1_CD45P_LUQ_OMENTUM_GSE180661_myeloid_int.h5ad saved!\"\n",
      "[1] \"processing GSE180661_SPECTRUM-OV-042_S1_CD45P_RIGHT_DIAPHRAGM\"\n"
     ]
    },
    {
     "name": "stderr",
     "output_type": "stream",
     "text": [
      "Warning message:\n",
      "“Layer ‘scale.data’ is empty”\n",
      "Warning message in .regularise_df(as.data.frame(SummarizedExperiment::colData(obj)), :\n",
      "“Dropping single category variables:sample, cluster_label_sub, patient_id, tumor_subsite, tumor_site, tumor_supersite, sort_parameters, therapy, surgery, sample_type, cancer_type, sample_id, cancer_subtype, sample_type_major, site, integration_id, dataset_id”\n"
     ]
    },
    {
     "name": "stdout",
     "output_type": "stream",
     "text": [
      "[1] \"GSE180661_SPECTRUM-OV-042_S1_CD45P_RIGHT_DIAPHRAGM_GSE180661_myeloid_int.h5ad saved!\"\n",
      "[1] \"processing GSE180661_SPECTRUM-OV-053_S1_CD45P_RIGHT_DIAPHRAGM\"\n"
     ]
    },
    {
     "name": "stderr",
     "output_type": "stream",
     "text": [
      "Warning message:\n",
      "“Layer ‘scale.data’ is empty”\n",
      "Warning message in .regularise_df(as.data.frame(SummarizedExperiment::colData(obj)), :\n",
      "“Dropping single category variables:sample, cluster_label_sub, patient_id, tumor_subsite, tumor_site, tumor_supersite, sort_parameters, therapy, surgery, sample_type, cancer_type, sample_id, cancer_subtype, sample_type_major, site, integration_id, dataset_id”\n"
     ]
    },
    {
     "name": "stdout",
     "output_type": "stream",
     "text": [
      "[1] \"GSE180661_SPECTRUM-OV-053_S1_CD45P_RIGHT_DIAPHRAGM_GSE180661_myeloid_int.h5ad saved!\"\n",
      "[1] \"processing GSE180661_SPECTRUM-OV-105_S1_CD45P_RIGHT_UPPER_QUADRANT\"\n"
     ]
    },
    {
     "name": "stderr",
     "output_type": "stream",
     "text": [
      "Warning message:\n",
      "“Layer ‘scale.data’ is empty”\n",
      "Warning message in .regularise_df(as.data.frame(SummarizedExperiment::colData(obj)), :\n",
      "“Dropping single category variables:sample, patient_id, tumor_subsite, tumor_site, tumor_supersite, sort_parameters, therapy, surgery, sample_type, cancer_type, sample_id, cancer_subtype, sample_type_major, site, integration_id, dataset_id”\n"
     ]
    },
    {
     "name": "stdout",
     "output_type": "stream",
     "text": [
      "[1] \"GSE180661_SPECTRUM-OV-105_S1_CD45P_RIGHT_UPPER_QUADRANT_GSE180661_myeloid_int.h5ad saved!\"\n",
      "[1] \"processing GSE180661_SPECTRUM-OV-031_S1_CD45P_INFRARENAL_LYMPH_NODE\"\n"
     ]
    },
    {
     "name": "stderr",
     "output_type": "stream",
     "text": [
      "Warning message:\n",
      "“Layer ‘scale.data’ is empty”\n",
      "Warning message in .regularise_df(as.data.frame(SummarizedExperiment::colData(obj)), :\n",
      "“Dropping single category variables:sample, patient_id, tumor_subsite, tumor_site, tumor_supersite, sort_parameters, therapy, surgery, sample_type, cancer_type, sample_id, cancer_subtype, sample_type_major, site, integration_id, dataset_id”\n"
     ]
    },
    {
     "name": "stdout",
     "output_type": "stream",
     "text": [
      "[1] \"GSE180661_SPECTRUM-OV-031_S1_CD45P_INFRARENAL_LYMPH_NODE_GSE180661_myeloid_int.h5ad saved!\"\n",
      "[1] \"processing GSE180661_SPECTRUM-OV-070_S1_CD45P_HEPATIC_SURFACE\"\n"
     ]
    },
    {
     "name": "stderr",
     "output_type": "stream",
     "text": [
      "Warning message:\n",
      "“Layer ‘scale.data’ is empty”\n",
      "Warning message in .regularise_df(as.data.frame(SummarizedExperiment::colData(obj)), :\n",
      "“Dropping single category variables:sample, cluster_label_sub, patient_id, tumor_subsite, tumor_site, tumor_supersite, sort_parameters, therapy, surgery, sample_type, cancer_type, sample_id, cancer_subtype, sample_type_major, site, integration_id, dataset_id”\n"
     ]
    },
    {
     "name": "stdout",
     "output_type": "stream",
     "text": [
      "[1] \"GSE180661_SPECTRUM-OV-070_S1_CD45P_HEPATIC_SURFACE_GSE180661_myeloid_int.h5ad saved!\"\n",
      "[1] \"processing GSE180661_SPECTRUM-OV-105_S1_CD45P_BLADDER\"\n"
     ]
    },
    {
     "name": "stderr",
     "output_type": "stream",
     "text": [
      "Warning message:\n",
      "“Layer ‘scale.data’ is empty”\n",
      "Warning message in .regularise_df(as.data.frame(SummarizedExperiment::colData(obj)), :\n",
      "“Dropping single category variables:sample, patient_id, tumor_subsite, tumor_site, tumor_supersite, sort_parameters, therapy, surgery, sample_type, cancer_type, sample_id, cancer_subtype, sample_type_major, site, integration_id, dataset_id”\n"
     ]
    },
    {
     "name": "stdout",
     "output_type": "stream",
     "text": [
      "[1] \"GSE180661_SPECTRUM-OV-105_S1_CD45P_BLADDER_GSE180661_myeloid_int.h5ad saved!\"\n",
      "[1] \"processing GSE180661_SPECTRUM-OV-116_S1_CD45P_RIGHT_PARACOLIC_GUTTER\"\n"
     ]
    },
    {
     "name": "stderr",
     "output_type": "stream",
     "text": [
      "Warning message:\n",
      "“Layer ‘scale.data’ is empty”\n",
      "Warning message in .regularise_df(as.data.frame(SummarizedExperiment::colData(obj)), :\n",
      "“Dropping single category variables:sample, cluster_label_sub, patient_id, tumor_subsite, tumor_site, tumor_supersite, sort_parameters, therapy, surgery, sample_type, cancer_type, sample_id, cancer_subtype, sample_type_major, site, integration_id, dataset_id”\n"
     ]
    },
    {
     "name": "stdout",
     "output_type": "stream",
     "text": [
      "[1] \"GSE180661_SPECTRUM-OV-116_S1_CD45P_RIGHT_PARACOLIC_GUTTER_GSE180661_myeloid_int.h5ad saved!\"\n"
     ]
    }
   ],
   "source": [
    "i = 14\n",
    "print(i)\n",
    "print(paste0(\"reading in \", files[i]))\n",
    "seurat_object <- readRDS(file = paste0(\"/scratch/user/s4436039/scdata/Myeloid_Cells/Myeloid_Cells_Integrate/\", files[i]))\n",
    "ids <- unique(seurat_object$integration_id)\n",
    "for (j in seq_along(ids)){\n",
    "    print(paste0(\"processing \", ids[j]))\n",
    "    seurat_subset <- subset(seurat_object,  subset = integration_id == ids[j])\n",
    "    seurat_subset <- JoinLayers(seurat_subset)\n",
    "    sce <- as.SingleCellExperiment(seurat_subset)\n",
    "    sceasy::convertFormat(sce, from=\"sce\", to=\"anndata\", outFile=paste0(\"/scratch/user/s4436039/scdata/Myeloid_Cells/Myeloid_Cells_Integrate/\", ids[j], \"_\", gsub(\"[.].*\", \".h5ad\", files[i])))\n",
    "    print(paste0(ids[j], \"_\", gsub(\"[.].*\", \".h5ad\", files[i]), \" saved!\"))\n",
    "}"
   ]
  },
  {
   "cell_type": "code",
   "execution_count": 17,
   "metadata": {
    "vscode": {
     "languageId": "r"
    }
   },
   "outputs": [],
   "source": [
    "# save the metadata separately\n",
    "write.csv(seurat_object@meta.data, \"/scratch/user/s4436039/scdata/Myeloid_Cells/Myeloid_Cells_Integrate/GSE180661_myeloid_int_metadata.csv\", quote=FALSE)"
   ]
  },
  {
   "cell_type": "code",
   "execution_count": 28,
   "metadata": {
    "vscode": {
     "languageId": "r"
    }
   },
   "outputs": [
    {
     "name": "stdout",
     "output_type": "stream",
     "text": [
      "[1] 15\n",
      "[1] \"reading in GSE183916_myeloid_int.RDS\"\n",
      "[1] \"Joining layers\"\n",
      "[1] \"Converting to sce\"\n"
     ]
    },
    {
     "name": "stderr",
     "output_type": "stream",
     "text": [
      "Warning message:\n",
      "“Layer ‘scale.data’ is empty”\n"
     ]
    },
    {
     "name": "stdout",
     "output_type": "stream",
     "text": [
      "[1] \"saving as h5ad\"\n"
     ]
    },
    {
     "data": {
      "text/plain": [
       "AnnData object with n_obs × n_vars = 1845 × 33808\n",
       "    obs: 'orig.ident', 'nCount_RNA', 'nFeature_RNA', 'loc', 'pat_id', 'sample_type', 'cancer_type', 'patient_id', 'sample_id', 'percent.mt', 'RNA_snn_res.0.2', 'seurat_clusters', 'cancer_subtype', 'integration_id', 'sample_type_major', 'site', 'dataset_id', 'ident'\n",
       "    var: 'name'"
      ]
     },
     "metadata": {},
     "output_type": "display_data"
    },
    {
     "name": "stdout",
     "output_type": "stream",
     "text": [
      "[1] \"GSE183916_myeloid_int.h5ad saved!\"\n"
     ]
    }
   ],
   "source": [
    "i = 15\n",
    "print(i)\n",
    "print(paste0(\"reading in \", files[i]))\n",
    "seurat_object <- readRDS(file = paste0(\"/scratch/user/s4436039/scdata/Myeloid_Cells/Myeloid_Cells_Integrate/\", files[i]))\n",
    "print(\"Joining layers\")\n",
    "seurat_object <- JoinLayers(seurat_object)\n",
    "print(\"Converting to sce\")\n",
    "sce <- as.SingleCellExperiment(seurat_object)\n",
    "print(\"saving as h5ad\")\n",
    "sceasy::convertFormat(sce, from=\"sce\", to=\"anndata\", outFile=paste0(\"/scratch/user/s4436039/scdata/Myeloid_Cells/Myeloid_Cells_Integrate/\", gsub(\"[.].*\", \".h5ad\", files[i])), drop_single_values=FALSE)\n",
    "print(paste0(gsub(\"[.].*\", \".h5ad\", files[i]), \" saved!\"))"
   ]
  },
  {
   "cell_type": "code",
   "execution_count": 29,
   "metadata": {
    "vscode": {
     "languageId": "r"
    }
   },
   "outputs": [
    {
     "name": "stdout",
     "output_type": "stream",
     "text": [
      "[1] 16\n",
      "[1] \"reading in GSE184880_myeloid_int.RDS\"\n",
      "[1] \"Joining layers\"\n",
      "[1] \"Converting to sce\"\n",
      "[1] \"saving as h5ad\"\n"
     ]
    },
    {
     "data": {
      "text/plain": [
       "AnnData object with n_obs × n_vars = 7745 × 27984\n",
       "    obs: 'orig.ident', 'nCount_RNA', 'nFeature_RNA', 'sample_type', 'cancer_type', 'patient_id', 'sample_id', 'percent.mt', 'RNA_snn_res.0.2', 'seurat_clusters', 'site', 'cancer_subtype', 'sample_type_major', 'integration_id', 'dataset_id', 'ident'\n",
       "    var: 'name'"
      ]
     },
     "metadata": {},
     "output_type": "display_data"
    },
    {
     "name": "stdout",
     "output_type": "stream",
     "text": [
      "[1] \"GSE184880_myeloid_int.h5ad saved!\"\n"
     ]
    }
   ],
   "source": [
    "i = 16\n",
    "print(i)\n",
    "print(paste0(\"reading in \", files[i]))\n",
    "seurat_object <- readRDS(file = paste0(\"/scratch/user/s4436039/scdata/Myeloid_Cells/Myeloid_Cells_Integrate/\", files[i]))\n",
    "print(\"Joining layers\")\n",
    "seurat_object <- JoinLayers(seurat_object)\n",
    "print(\"Converting to sce\")\n",
    "sce <- as.SingleCellExperiment(seurat_object)\n",
    "print(\"saving as h5ad\")\n",
    "sceasy::convertFormat(sce, from=\"sce\", to=\"anndata\", outFile=paste0(\"/scratch/user/s4436039/scdata/Myeloid_Cells/Myeloid_Cells_Integrate/\", gsub(\"[.].*\", \".h5ad\", files[i])), drop_single_values=FALSE)\n",
    "print(paste0(gsub(\"[.].*\", \".h5ad\", files[i]), \" saved!\"))"
   ]
  },
  {
   "cell_type": "code",
   "execution_count": 30,
   "metadata": {
    "vscode": {
     "languageId": "r"
    }
   },
   "outputs": [
    {
     "name": "stdout",
     "output_type": "stream",
     "text": [
      "[1] 17\n",
      "[1] \"reading in GSE188737_myeloid_int.RDS\"\n",
      "[1] \"Joining layers\"\n",
      "[1] \"Converting to sce\"\n",
      "[1] \"saving as h5ad\"\n"
     ]
    },
    {
     "data": {
      "text/plain": [
       "AnnData object with n_obs × n_vars = 4668 × 23148\n",
       "    obs: 'orig.ident', 'nCount_RNA', 'nFeature_RNA', 'sampleID', 'percent.mt', 'origin', 'patientID', 'P_Mid', 'seurat_clusters', 'genecount', 'cell_type', 'sample_type', 'cancer_type', 'patient_id', 'sample_id', 'RNA_snn_res.0.2', 'site', 'sample_type_major', 'cancer_subtype', 'integration_id', 'dataset_id', 'ident'\n",
       "    var: 'name'"
      ]
     },
     "metadata": {},
     "output_type": "display_data"
    },
    {
     "name": "stdout",
     "output_type": "stream",
     "text": [
      "[1] \"GSE188737_myeloid_int.h5ad saved!\"\n"
     ]
    }
   ],
   "source": [
    "i = 17\n",
    "print(i)\n",
    "print(paste0(\"reading in \", files[i]))\n",
    "seurat_object <- readRDS(file = paste0(\"/scratch/user/s4436039/scdata/Myeloid_Cells/Myeloid_Cells_Integrate/\", files[i]))\n",
    "print(\"Joining layers\")\n",
    "seurat_object <- JoinLayers(seurat_object)\n",
    "print(\"Converting to sce\")\n",
    "sce <- as.SingleCellExperiment(seurat_object)\n",
    "print(\"saving as h5ad\")\n",
    "sceasy::convertFormat(sce, from=\"sce\", to=\"anndata\", outFile=paste0(\"/scratch/user/s4436039/scdata/Myeloid_Cells/Myeloid_Cells_Integrate/\", gsub(\"[.].*\", \".h5ad\", files[i])), drop_single_values=FALSE)\n",
    "print(paste0(gsub(\"[.].*\", \".h5ad\", files[i]), \" saved!\"))"
   ]
  },
  {
   "cell_type": "code",
   "execution_count": 31,
   "metadata": {
    "vscode": {
     "languageId": "r"
    }
   },
   "outputs": [
    {
     "name": "stdout",
     "output_type": "stream",
     "text": [
      "[1] 18\n",
      "[1] \"reading in GSE189903_myeloid_int.RDS\"\n",
      "[1] \"Joining layers\"\n",
      "[1] \"Converting to sce\"\n",
      "[1] \"saving as h5ad\"\n"
     ]
    },
    {
     "data": {
      "text/plain": [
       "AnnData object with n_obs × n_vars = 18519 × 33538\n",
       "    obs: 'orig.ident', 'nCount_RNA', 'nFeature_RNA', 'sample_type', 'cancer_type', 'patient_id', 'sample_id', 'percent.mt', 'RNA_snn_res.0.2', 'seurat_clusters', 'site', 'sample_type_major', 'cancer_subtype', 'integration_id', 'dataset_id', 'ident'\n",
       "    var: 'name'"
      ]
     },
     "metadata": {},
     "output_type": "display_data"
    },
    {
     "name": "stdout",
     "output_type": "stream",
     "text": [
      "[1] \"GSE189903_myeloid_int.h5ad saved!\"\n"
     ]
    }
   ],
   "source": [
    "i = 18\n",
    "print(i)\n",
    "print(paste0(\"reading in \", files[i]))\n",
    "seurat_object <- readRDS(file = paste0(\"/scratch/user/s4436039/scdata/Myeloid_Cells/Myeloid_Cells_Integrate/\", files[i]))\n",
    "print(\"Joining layers\")\n",
    "seurat_object <- JoinLayers(seurat_object)\n",
    "print(\"Converting to sce\")\n",
    "sce <- as.SingleCellExperiment(seurat_object)\n",
    "print(\"saving as h5ad\")\n",
    "sceasy::convertFormat(sce, from=\"sce\", to=\"anndata\", outFile=paste0(\"/scratch/user/s4436039/scdata/Myeloid_Cells/Myeloid_Cells_Integrate/\", gsub(\"[.].*\", \".h5ad\", files[i])), drop_single_values=FALSE)\n",
    "print(paste0(gsub(\"[.].*\", \".h5ad\", files[i]), \" saved!\"))"
   ]
  },
  {
   "cell_type": "code",
   "execution_count": 32,
   "metadata": {
    "vscode": {
     "languageId": "r"
    }
   },
   "outputs": [
    {
     "name": "stdout",
     "output_type": "stream",
     "text": [
      "[1] 19\n",
      "[1] \"reading in GSE195861_myeloid_int.RDS\"\n",
      "[1] \"Joining layers\"\n",
      "[1] \"Converting to sce\"\n",
      "[1] \"saving as h5ad\"\n"
     ]
    },
    {
     "data": {
      "text/plain": [
       "AnnData object with n_obs × n_vars = 14925 × 33538\n",
       "    obs: 'orig.ident', 'nCount_RNA', 'nFeature_RNA', 'sample_type', 'cancer_type', 'patient_id', 'sample_id', 'percent.mt', 'RNA_snn_res.0.2', 'seurat_clusters', 'site', 'sample_type_major', 'cancer_subtype', 'integration_id', 'dataset_id', 'ident'\n",
       "    var: 'name'"
      ]
     },
     "metadata": {},
     "output_type": "display_data"
    },
    {
     "name": "stdout",
     "output_type": "stream",
     "text": [
      "[1] \"GSE195861_myeloid_int.h5ad saved!\"\n"
     ]
    }
   ],
   "source": [
    "i = 19\n",
    "print(i)\n",
    "print(paste0(\"reading in \", files[i]))\n",
    "seurat_object <- readRDS(file = paste0(\"/scratch/user/s4436039/scdata/Myeloid_Cells/Myeloid_Cells_Integrate/\", files[i]))\n",
    "print(\"Joining layers\")\n",
    "seurat_object <- JoinLayers(seurat_object)\n",
    "print(\"Converting to sce\")\n",
    "sce <- as.SingleCellExperiment(seurat_object)\n",
    "print(\"saving as h5ad\")\n",
    "sceasy::convertFormat(sce, from=\"sce\", to=\"anndata\", outFile=paste0(\"/scratch/user/s4436039/scdata/Myeloid_Cells/Myeloid_Cells_Integrate/\", gsub(\"[.].*\", \".h5ad\", files[i])), drop_single_values=FALSE)\n",
    "print(paste0(gsub(\"[.].*\", \".h5ad\", files[i]), \" saved!\"))"
   ]
  },
  {
   "cell_type": "code",
   "execution_count": 33,
   "metadata": {
    "vscode": {
     "languageId": "r"
    }
   },
   "outputs": [
    {
     "name": "stdout",
     "output_type": "stream",
     "text": [
      "[1] 20\n",
      "[1] \"reading in GSE197177_myeloid_int.RDS\"\n",
      "[1] \"Joining layers\"\n",
      "[1] \"Converting to sce\"\n",
      "[1] \"saving as h5ad\"\n"
     ]
    },
    {
     "data": {
      "text/plain": [
       "AnnData object with n_obs × n_vars = 9625 × 33538\n",
       "    obs: 'orig.ident', 'nCount_RNA', 'nFeature_RNA', 'sample_type', 'cancer_type', 'patient_id', 'sample_id', 'percent.mt', 'RNA_snn_res.0.2', 'seurat_clusters', 'cancer_subtype', 'integration_id', 'site', 'sample_type_major', 'dataset_id', 'ident'\n",
       "    var: 'name'"
      ]
     },
     "metadata": {},
     "output_type": "display_data"
    },
    {
     "name": "stdout",
     "output_type": "stream",
     "text": [
      "[1] \"GSE197177_myeloid_int.h5ad saved!\"\n"
     ]
    }
   ],
   "source": [
    "i = 20\n",
    "print(i)\n",
    "print(paste0(\"reading in \", files[i]))\n",
    "seurat_object <- readRDS(file = paste0(\"/scratch/user/s4436039/scdata/Myeloid_Cells/Myeloid_Cells_Integrate/\", files[i]))\n",
    "print(\"Joining layers\")\n",
    "seurat_object <- JoinLayers(seurat_object)\n",
    "print(\"Converting to sce\")\n",
    "sce <- as.SingleCellExperiment(seurat_object)\n",
    "print(\"saving as h5ad\")\n",
    "sceasy::convertFormat(sce, from=\"sce\", to=\"anndata\", outFile=paste0(\"/scratch/user/s4436039/scdata/Myeloid_Cells/Myeloid_Cells_Integrate/\", gsub(\"[.].*\", \".h5ad\", files[i])), drop_single_values=FALSE)\n",
    "print(paste0(gsub(\"[.].*\", \".h5ad\", files[i]), \" saved!\"))"
   ]
  },
  {
   "cell_type": "code",
   "execution_count": 34,
   "metadata": {
    "vscode": {
     "languageId": "r"
    }
   },
   "outputs": [
    {
     "name": "stdout",
     "output_type": "stream",
     "text": [
      "[1] 21\n",
      "[1] \"reading in GSE199515_myeloid_int.RDS\"\n",
      "[1] \"Joining layers\"\n",
      "[1] \"Converting to sce\"\n",
      "[1] \"saving as h5ad\"\n"
     ]
    },
    {
     "data": {
      "text/plain": [
       "AnnData object with n_obs × n_vars = 435 × 33694\n",
       "    obs: 'orig.ident', 'nCount_RNA', 'nFeature_RNA', 'sample_type', 'cancer_type', 'patient_id', 'sample_id', 'percent.mt', 'RNA_snn_res.0.2', 'seurat_clusters', 'site', 'sample_type_major', 'cancer_subtype', 'integration_id', 'dataset_id', 'ident'\n",
       "    var: 'name'\n",
       "    obsm: 'X_pca', 'X_umap'"
      ]
     },
     "metadata": {},
     "output_type": "display_data"
    },
    {
     "name": "stdout",
     "output_type": "stream",
     "text": [
      "[1] \"GSE199515_myeloid_int.h5ad saved!\"\n"
     ]
    }
   ],
   "source": [
    "i = 21\n",
    "print(i)\n",
    "print(paste0(\"reading in \", files[i]))\n",
    "seurat_object <- readRDS(file = paste0(\"/scratch/user/s4436039/scdata/Myeloid_Cells/Myeloid_Cells_Integrate/\", files[i]))\n",
    "print(\"Joining layers\")\n",
    "seurat_object <- JoinLayers(seurat_object)\n",
    "print(\"Converting to sce\")\n",
    "sce <- as.SingleCellExperiment(seurat_object)\n",
    "print(\"saving as h5ad\")\n",
    "sceasy::convertFormat(sce, from=\"sce\", to=\"anndata\", outFile=paste0(\"/scratch/user/s4436039/scdata/Myeloid_Cells/Myeloid_Cells_Integrate/\", gsub(\"[.].*\", \".h5ad\", files[i])), drop_single_values=FALSE)\n",
    "print(paste0(gsub(\"[.].*\", \".h5ad\", files[i]), \" saved!\"))"
   ]
  },
  {
   "cell_type": "code",
   "execution_count": 35,
   "metadata": {
    "vscode": {
     "languageId": "r"
    }
   },
   "outputs": [
    {
     "name": "stdout",
     "output_type": "stream",
     "text": [
      "[1] 22\n",
      "[1] \"reading in GSE200218_myeloid_int.RDS\"\n",
      "[1] \"Joining layers\"\n",
      "[1] \"Converting to sce\"\n",
      "[1] \"saving as h5ad\"\n"
     ]
    },
    {
     "data": {
      "text/plain": [
       "AnnData object with n_obs × n_vars = 10371 × 36601\n",
       "    obs: 'orig.ident', 'nCount_RNA', 'nFeature_RNA', 'sample_type', 'cancer_type', 'patient_id', 'sample_id', 'percent.mt', 'RNA_snn_res.0.2', 'seurat_clusters', 'site', 'sample_type_major', 'cancer_subtype', 'integration_id', 'dataset_id', 'ident'\n",
       "    var: 'name'\n",
       "    obsm: 'X_pca', 'X_umap'"
      ]
     },
     "metadata": {},
     "output_type": "display_data"
    },
    {
     "name": "stdout",
     "output_type": "stream",
     "text": [
      "[1] \"GSE200218_myeloid_int.h5ad saved!\"\n"
     ]
    }
   ],
   "source": [
    "i = 22\n",
    "print(i)\n",
    "print(paste0(\"reading in \", files[i]))\n",
    "seurat_object <- readRDS(file = paste0(\"/scratch/user/s4436039/scdata/Myeloid_Cells/Myeloid_Cells_Integrate/\", files[i]))\n",
    "print(\"Joining layers\")\n",
    "seurat_object <- JoinLayers(seurat_object)\n",
    "print(\"Converting to sce\")\n",
    "sce <- as.SingleCellExperiment(seurat_object)\n",
    "print(\"saving as h5ad\")\n",
    "sceasy::convertFormat(sce, from=\"sce\", to=\"anndata\", outFile=paste0(\"/scratch/user/s4436039/scdata/Myeloid_Cells/Myeloid_Cells_Integrate/\", gsub(\"[.].*\", \".h5ad\", files[i])), drop_single_values=FALSE)\n",
    "print(paste0(gsub(\"[.].*\", \".h5ad\", files[i]), \" saved!\"))"
   ]
  },
  {
   "cell_type": "code",
   "execution_count": 36,
   "metadata": {
    "vscode": {
     "languageId": "r"
    }
   },
   "outputs": [
    {
     "name": "stdout",
     "output_type": "stream",
     "text": [
      "[1] 23\n",
      "[1] \"reading in GSE213243_myeloid_int.RDS\"\n",
      "[1] \"Joining layers\"\n",
      "[1] \"Converting to sce\"\n",
      "[1] \"saving as h5ad\"\n"
     ]
    },
    {
     "data": {
      "text/plain": [
       "AnnData object with n_obs × n_vars = 3492 × 58825\n",
       "    obs: 'orig.ident', 'nCount_RNA', 'nFeature_RNA', 'sample_type', 'cancer_type', 'patient_id', 'sample_id', 'percent.mt', 'RNA_snn_res.0.5', 'seurat_clusters', 'site', 'sample_type_major', 'cancer_subtype', 'integration_id', 'dataset_id', 'ident'\n",
       "    var: 'name'"
      ]
     },
     "metadata": {},
     "output_type": "display_data"
    },
    {
     "name": "stdout",
     "output_type": "stream",
     "text": [
      "[1] \"GSE213243_myeloid_int.h5ad saved!\"\n"
     ]
    }
   ],
   "source": [
    "i = 23\n",
    "print(i)\n",
    "print(paste0(\"reading in \", files[i]))\n",
    "seurat_object <- readRDS(file = paste0(\"/scratch/user/s4436039/scdata/Myeloid_Cells/Myeloid_Cells_Integrate/\", files[i]))\n",
    "print(\"Joining layers\")\n",
    "seurat_object <- JoinLayers(seurat_object)\n",
    "print(\"Converting to sce\")\n",
    "sce <- as.SingleCellExperiment(seurat_object)\n",
    "print(\"saving as h5ad\")\n",
    "sceasy::convertFormat(sce, from=\"sce\", to=\"anndata\", outFile=paste0(\"/scratch/user/s4436039/scdata/Myeloid_Cells/Myeloid_Cells_Integrate/\", gsub(\"[.].*\", \".h5ad\", files[i])), drop_single_values=FALSE)\n",
    "print(paste0(gsub(\"[.].*\", \".h5ad\", files[i]), \" saved!\"))"
   ]
  },
  {
   "cell_type": "code",
   "execution_count": 37,
   "metadata": {
    "vscode": {
     "languageId": "r"
    }
   },
   "outputs": [
    {
     "name": "stdout",
     "output_type": "stream",
     "text": [
      "[1] 24\n",
      "[1] \"reading in GSE214295_myeloid_int.RDS\"\n",
      "[1] \"Joining layers\"\n",
      "[1] \"Converting to sce\"\n",
      "[1] \"saving as h5ad\"\n"
     ]
    },
    {
     "data": {
      "text/plain": [
       "AnnData object with n_obs × n_vars = 2710 × 36601\n",
       "    obs: 'orig.ident', 'nCount_RNA', 'nFeature_RNA', 'sample_type', 'cancer_type', 'patient_id', 'sample_id', 'percent.mt', 'RNA_snn_res.0.2', 'seurat_clusters', 'cancer_subtype', 'integration_id', 'site', 'sample_type_major', 'dataset_id', 'ident'\n",
       "    var: 'name'\n",
       "    obsm: 'X_pca', 'X_umap'"
      ]
     },
     "metadata": {},
     "output_type": "display_data"
    },
    {
     "name": "stdout",
     "output_type": "stream",
     "text": [
      "[1] \"GSE214295_myeloid_int.h5ad saved!\"\n"
     ]
    }
   ],
   "source": [
    "i = 24\n",
    "print(i)\n",
    "print(paste0(\"reading in \", files[i]))\n",
    "seurat_object <- readRDS(file = paste0(\"/scratch/user/s4436039/scdata/Myeloid_Cells/Myeloid_Cells_Integrate/\", files[i]))\n",
    "print(\"Joining layers\")\n",
    "seurat_object <- JoinLayers(seurat_object)\n",
    "print(\"Converting to sce\")\n",
    "sce <- as.SingleCellExperiment(seurat_object)\n",
    "print(\"saving as h5ad\")\n",
    "sceasy::convertFormat(sce, from=\"sce\", to=\"anndata\", outFile=paste0(\"/scratch/user/s4436039/scdata/Myeloid_Cells/Myeloid_Cells_Integrate/\", gsub(\"[.].*\", \".h5ad\", files[i])), drop_single_values=FALSE)\n",
    "print(paste0(gsub(\"[.].*\", \".h5ad\", files[i]), \" saved!\"))"
   ]
  },
  {
   "cell_type": "code",
   "execution_count": 38,
   "metadata": {
    "vscode": {
     "languageId": "r"
    }
   },
   "outputs": [
    {
     "name": "stdout",
     "output_type": "stream",
     "text": [
      "[1] 25\n",
      "[1] \"reading in GSE215120_myeloid_int.RDS\"\n",
      "[1] \"Joining layers\"\n",
      "[1] \"Converting to sce\"\n",
      "[1] \"saving as h5ad\"\n"
     ]
    },
    {
     "data": {
      "text/plain": [
       "AnnData object with n_obs × n_vars = 1150 × 33538\n",
       "    obs: 'orig.ident', 'nCount_RNA', 'nFeature_RNA', 'sample_type', 'cancer_type', 'patient_id', 'sample_id', 'percent.mt', 'RNA_snn_res.0.2', 'seurat_clusters', 'site', 'sample_type_major', 'cancer_subtype', 'integration_id', 'dataset_id', 'ident'\n",
       "    var: 'name'"
      ]
     },
     "metadata": {},
     "output_type": "display_data"
    },
    {
     "name": "stdout",
     "output_type": "stream",
     "text": [
      "[1] \"GSE215120_myeloid_int.h5ad saved!\"\n"
     ]
    }
   ],
   "source": [
    "i = 25\n",
    "print(i)\n",
    "print(paste0(\"reading in \", files[i]))\n",
    "seurat_object <- readRDS(file = paste0(\"/scratch/user/s4436039/scdata/Myeloid_Cells/Myeloid_Cells_Integrate/\", files[i]))\n",
    "print(\"Joining layers\")\n",
    "seurat_object <- JoinLayers(seurat_object)\n",
    "print(\"Converting to sce\")\n",
    "sce <- as.SingleCellExperiment(seurat_object)\n",
    "print(\"saving as h5ad\")\n",
    "sceasy::convertFormat(sce, from=\"sce\", to=\"anndata\", outFile=paste0(\"/scratch/user/s4436039/scdata/Myeloid_Cells/Myeloid_Cells_Integrate/\", gsub(\"[.].*\", \".h5ad\", files[i])), drop_single_values=FALSE)\n",
    "print(paste0(gsub(\"[.].*\", \".h5ad\", files[i]), \" saved!\"))"
   ]
  },
  {
   "cell_type": "code",
   "execution_count": 39,
   "metadata": {
    "vscode": {
     "languageId": "r"
    }
   },
   "outputs": [
    {
     "name": "stdout",
     "output_type": "stream",
     "text": [
      "[1] 26\n",
      "[1] \"reading in GSE217517_myeloid_int.RDS\"\n",
      "[1] \"Joining layers\"\n",
      "[1] \"Converting to sce\"\n",
      "[1] \"saving as h5ad\"\n"
     ]
    },
    {
     "data": {
      "text/plain": [
       "AnnData object with n_obs × n_vars = 8420 × 36601\n",
       "    obs: 'orig.ident', 'nCount_RNA', 'nFeature_RNA', 'sample_type', 'cancer_type', 'patient_id', 'sample_id', 'percent.mt', 'RNA_snn_res.0.5', 'seurat_clusters', 'RNA_snn_res.0.2', 'site', 'sample_type_major', 'cancer_subtype', 'integration_id', 'dataset_id', 'ident'\n",
       "    var: 'name'\n",
       "    obsm: 'X_pca', 'X_umap'"
      ]
     },
     "metadata": {},
     "output_type": "display_data"
    },
    {
     "name": "stdout",
     "output_type": "stream",
     "text": [
      "[1] \"GSE217517_myeloid_int.h5ad saved!\"\n"
     ]
    }
   ],
   "source": [
    "i = 26\n",
    "print(i)\n",
    "print(paste0(\"reading in \", files[i]))\n",
    "seurat_object <- readRDS(file = paste0(\"/scratch/user/s4436039/scdata/Myeloid_Cells/Myeloid_Cells_Integrate/\", files[i]))\n",
    "print(\"Joining layers\")\n",
    "seurat_object <- JoinLayers(seurat_object)\n",
    "print(\"Converting to sce\")\n",
    "sce <- as.SingleCellExperiment(seurat_object)\n",
    "print(\"saving as h5ad\")\n",
    "sceasy::convertFormat(sce, from=\"sce\", to=\"anndata\", outFile=paste0(\"/scratch/user/s4436039/scdata/Myeloid_Cells/Myeloid_Cells_Integrate/\", gsub(\"[.].*\", \".h5ad\", files[i])), drop_single_values=FALSE)\n",
    "print(paste0(gsub(\"[.].*\", \".h5ad\", files[i]), \" saved!\"))"
   ]
  },
  {
   "cell_type": "code",
   "execution_count": 40,
   "metadata": {
    "vscode": {
     "languageId": "r"
    }
   },
   "outputs": [
    {
     "name": "stdout",
     "output_type": "stream",
     "text": [
      "[1] 27\n",
      "[1] \"reading in GSE223063_myeloid_int.RDS\"\n",
      "[1] \"Joining layers\"\n",
      "[1] \"Converting to sce\"\n",
      "[1] \"saving as h5ad\"\n"
     ]
    },
    {
     "data": {
      "text/plain": [
       "AnnData object with n_obs × n_vars = 6298 × 33538\n",
       "    obs: 'orig.ident', 'nCount_RNA', 'nFeature_RNA', 'sample_type', 'cancer_type', 'patient_id', 'sample_id', 'percent.mt', 'RNA_snn_res.0.2', 'seurat_clusters', 'cancer_subtype', 'site', 'sample_type_major', 'integration_id', 'dataset_id', 'ident'\n",
       "    var: 'name'"
      ]
     },
     "metadata": {},
     "output_type": "display_data"
    },
    {
     "name": "stdout",
     "output_type": "stream",
     "text": [
      "[1] \"GSE223063_myeloid_int.h5ad saved!\"\n"
     ]
    }
   ],
   "source": [
    "i = 27\n",
    "print(i)\n",
    "print(paste0(\"reading in \", files[i]))\n",
    "seurat_object <- readRDS(file = paste0(\"/scratch/user/s4436039/scdata/Myeloid_Cells/Myeloid_Cells_Integrate/\", files[i]))\n",
    "print(\"Joining layers\")\n",
    "seurat_object <- JoinLayers(seurat_object)\n",
    "print(\"Converting to sce\")\n",
    "sce <- as.SingleCellExperiment(seurat_object)\n",
    "print(\"saving as h5ad\")\n",
    "sceasy::convertFormat(sce, from=\"sce\", to=\"anndata\", outFile=paste0(\"/scratch/user/s4436039/scdata/Myeloid_Cells/Myeloid_Cells_Integrate/\", gsub(\"[.].*\", \".h5ad\", files[i])), drop_single_values=FALSE)\n",
    "print(paste0(gsub(\"[.].*\", \".h5ad\", files[i]), \" saved!\"))"
   ]
  },
  {
   "cell_type": "code",
   "execution_count": 41,
   "metadata": {
    "vscode": {
     "languageId": "r"
    }
   },
   "outputs": [
    {
     "name": "stdout",
     "output_type": "stream",
     "text": [
      "[1] 28\n",
      "[1] \"reading in GSE224090_myeloid_int.RDS\"\n",
      "[1] \"Joining layers\"\n",
      "[1] \"Converting to sce\"\n",
      "[1] \"saving as h5ad\"\n"
     ]
    },
    {
     "data": {
      "text/plain": [
       "AnnData object with n_obs × n_vars = 8983 × 36601\n",
       "    obs: 'orig.ident', 'nCount_RNA', 'nFeature_RNA', 'sample_type', 'cancer_type', 'patient_id', 'sample_id', 'percent.mt', 'RNA_snn_res.0.2', 'seurat_clusters', 'cancer_subtype', 'integration_id', 'site', 'sample_type_major', 'dataset_id', 'ident'\n",
       "    var: 'name'\n",
       "    obsm: 'X_pca', 'X_umap'"
      ]
     },
     "metadata": {},
     "output_type": "display_data"
    },
    {
     "name": "stdout",
     "output_type": "stream",
     "text": [
      "[1] \"GSE224090_myeloid_int.h5ad saved!\"\n"
     ]
    }
   ],
   "source": [
    "i = 28\n",
    "print(i)\n",
    "print(paste0(\"reading in \", files[i]))\n",
    "seurat_object <- readRDS(file = paste0(\"/scratch/user/s4436039/scdata/Myeloid_Cells/Myeloid_Cells_Integrate/\", files[i]))\n",
    "print(\"Joining layers\")\n",
    "seurat_object <- JoinLayers(seurat_object)\n",
    "print(\"Converting to sce\")\n",
    "sce <- as.SingleCellExperiment(seurat_object)\n",
    "print(\"saving as h5ad\")\n",
    "sceasy::convertFormat(sce, from=\"sce\", to=\"anndata\", outFile=paste0(\"/scratch/user/s4436039/scdata/Myeloid_Cells/Myeloid_Cells_Integrate/\", gsub(\"[.].*\", \".h5ad\", files[i])), drop_single_values=FALSE)\n",
    "print(paste0(gsub(\"[.].*\", \".h5ad\", files[i]), \" saved!\"))"
   ]
  },
  {
   "cell_type": "code",
   "execution_count": 42,
   "metadata": {
    "vscode": {
     "languageId": "r"
    }
   },
   "outputs": [
    {
     "name": "stdout",
     "output_type": "stream",
     "text": [
      "[1] 29\n",
      "[1] \"reading in GSE225600_myeloid_int.RDS\"\n",
      "[1] \"Joining layers\"\n",
      "[1] \"Converting to sce\"\n",
      "[1] \"saving as h5ad\"\n"
     ]
    },
    {
     "data": {
      "text/plain": [
       "AnnData object with n_obs × n_vars = 1888 × 36601\n",
       "    obs: 'orig.ident', 'nCount_RNA', 'nFeature_RNA', 'cancer_type', 'sample_meta', 'sample_type', 'patient_id', 'sample_id', 'percent.mt', 'RNA_snn_res.0.2', 'seurat_clusters', 'site', 'sample_type_major', 'cancer_subtype', 'integration_id', 'dataset_id', 'ident'\n",
       "    var: 'name'"
      ]
     },
     "metadata": {},
     "output_type": "display_data"
    },
    {
     "name": "stdout",
     "output_type": "stream",
     "text": [
      "[1] \"GSE225600_myeloid_int.h5ad saved!\"\n"
     ]
    }
   ],
   "source": [
    "i = 29\n",
    "print(i)\n",
    "print(paste0(\"reading in \", files[i]))\n",
    "seurat_object <- readRDS(file = paste0(\"/scratch/user/s4436039/scdata/Myeloid_Cells/Myeloid_Cells_Integrate/\", files[i]))\n",
    "print(\"Joining layers\")\n",
    "seurat_object <- JoinLayers(seurat_object)\n",
    "print(\"Converting to sce\")\n",
    "sce <- as.SingleCellExperiment(seurat_object)\n",
    "print(\"saving as h5ad\")\n",
    "sceasy::convertFormat(sce, from=\"sce\", to=\"anndata\", outFile=paste0(\"/scratch/user/s4436039/scdata/Myeloid_Cells/Myeloid_Cells_Integrate/\", gsub(\"[.].*\", \".h5ad\", files[i])), drop_single_values=FALSE)\n",
    "print(paste0(gsub(\"[.].*\", \".h5ad\", files[i]), \" saved!\"))"
   ]
  },
  {
   "cell_type": "code",
   "execution_count": 43,
   "metadata": {
    "vscode": {
     "languageId": "r"
    }
   },
   "outputs": [
    {
     "name": "stdout",
     "output_type": "stream",
     "text": [
      "[1] 30\n",
      "[1] \"reading in GSE231535_myeloid_int.RDS\"\n",
      "[1] \"Joining layers\"\n",
      "[1] \"Converting to sce\"\n",
      "[1] \"saving as h5ad\"\n"
     ]
    },
    {
     "data": {
      "text/plain": [
       "AnnData object with n_obs × n_vars = 1832 × 45068\n",
       "    obs: 'orig.ident', 'nCount_RNA', 'nFeature_RNA', 'sample_type', 'cancer_type', 'patient_id', 'sample_id', 'percent.mt', 'RNA_snn_res.0.2', 'seurat_clusters', 'cancer_subtype', 'integration_id', 'site', 'sample_type_major', 'dataset_id', 'ident'\n",
       "    var: 'name'\n",
       "    obsm: 'X_pca', 'X_umap'"
      ]
     },
     "metadata": {},
     "output_type": "display_data"
    },
    {
     "name": "stdout",
     "output_type": "stream",
     "text": [
      "[1] \"GSE231535_myeloid_int.h5ad saved!\"\n"
     ]
    }
   ],
   "source": [
    "i = 30\n",
    "print(i)\n",
    "print(paste0(\"reading in \", files[i]))\n",
    "seurat_object <- readRDS(file = paste0(\"/scratch/user/s4436039/scdata/Myeloid_Cells/Myeloid_Cells_Integrate/\", files[i]))\n",
    "print(\"Joining layers\")\n",
    "seurat_object <- JoinLayers(seurat_object)\n",
    "print(\"Converting to sce\")\n",
    "sce <- as.SingleCellExperiment(seurat_object)\n",
    "print(\"saving as h5ad\")\n",
    "sceasy::convertFormat(sce, from=\"sce\", to=\"anndata\", outFile=paste0(\"/scratch/user/s4436039/scdata/Myeloid_Cells/Myeloid_Cells_Integrate/\", gsub(\"[.].*\", \".h5ad\", files[i])), drop_single_values=FALSE)\n",
    "print(paste0(gsub(\"[.].*\", \".h5ad\", files[i]), \" saved!\"))"
   ]
  },
  {
   "cell_type": "code",
   "execution_count": 44,
   "metadata": {
    "vscode": {
     "languageId": "r"
    }
   },
   "outputs": [
    {
     "name": "stdout",
     "output_type": "stream",
     "text": [
      "[1] 31\n",
      "[1] \"reading in GSE234129_myeloid_int.RDS\"\n",
      "[1] \"Joining layers\"\n",
      "[1] \"Converting to sce\"\n",
      "[1] \"saving as h5ad\"\n"
     ]
    },
    {
     "data": {
      "text/plain": [
       "AnnData object with n_obs × n_vars = 980 × 27176\n",
       "    obs: 'orig.ident', 'nCount_RNA', 'nFeature_RNA', 'cell_barcodes', 'patient', 'sample', 'celltype', 'sample_type', 'cancer_type', 'patient_id', 'sample_id', 'percent.mt', 'RNA_snn_res.0.2', 'seurat_clusters', 'cancer_subtype', 'site', 'sample_type_major', 'integration_id', 'dataset_id', 'ident'\n",
       "    var: 'name'"
      ]
     },
     "metadata": {},
     "output_type": "display_data"
    },
    {
     "name": "stdout",
     "output_type": "stream",
     "text": [
      "[1] \"GSE234129_myeloid_int.h5ad saved!\"\n"
     ]
    }
   ],
   "source": [
    "i = 31\n",
    "print(i)\n",
    "print(paste0(\"reading in \", files[i]))\n",
    "seurat_object <- readRDS(file = paste0(\"/scratch/user/s4436039/scdata/Myeloid_Cells/Myeloid_Cells_Integrate/\", files[i]))\n",
    "print(\"Joining layers\")\n",
    "seurat_object <- JoinLayers(seurat_object)\n",
    "print(\"Converting to sce\")\n",
    "sce <- as.SingleCellExperiment(seurat_object)\n",
    "print(\"saving as h5ad\")\n",
    "sceasy::convertFormat(sce, from=\"sce\", to=\"anndata\", outFile=paste0(\"/scratch/user/s4436039/scdata/Myeloid_Cells/Myeloid_Cells_Integrate/\", gsub(\"[.].*\", \".h5ad\", files[i])), drop_single_values=FALSE)\n",
    "print(paste0(gsub(\"[.].*\", \".h5ad\", files[i]), \" saved!\"))"
   ]
  },
  {
   "cell_type": "code",
   "execution_count": 45,
   "metadata": {
    "vscode": {
     "languageId": "r"
    }
   },
   "outputs": [
    {
     "name": "stdout",
     "output_type": "stream",
     "text": [
      "[1] 32\n",
      "[1] \"reading in GSE234933_myeloid_int.RDS\"\n",
      "[1] \"Joining layers\"\n",
      "[1] \"Converting to sce\"\n",
      "[1] \"saving as h5ad\"\n"
     ]
    },
    {
     "data": {
      "text/plain": [
       "AnnData object with n_obs × n_vars = 42537 × 33514\n",
       "    obs: 'orig.ident', 'nCount_RNA', 'nFeature_RNA', 'sample_type', 'cancer_type', 'patient_id', 'sample_id', 'percent.mt', 'RNA_snn_res.0.2', 'seurat_clusters', 'cancer_subtype', 'integration_id', 'sample_type_major', 'site', 'dataset_id', 'ident'\n",
       "    var: 'name'"
      ]
     },
     "metadata": {},
     "output_type": "display_data"
    },
    {
     "name": "stdout",
     "output_type": "stream",
     "text": [
      "[1] \"GSE234933_myeloid_int.h5ad saved!\"\n"
     ]
    }
   ],
   "source": [
    "i = 32\n",
    "print(i)\n",
    "print(paste0(\"reading in \", files[i]))\n",
    "seurat_object <- readRDS(file = paste0(\"/scratch/user/s4436039/scdata/Myeloid_Cells/Myeloid_Cells_Integrate/\", files[i]))\n",
    "print(\"Joining layers\")\n",
    "seurat_object <- JoinLayers(seurat_object)\n",
    "print(\"Converting to sce\")\n",
    "sce <- as.SingleCellExperiment(seurat_object)\n",
    "print(\"saving as h5ad\")\n",
    "sceasy::convertFormat(sce, from=\"sce\", to=\"anndata\", outFile=paste0(\"/scratch/user/s4436039/scdata/Myeloid_Cells/Myeloid_Cells_Integrate/\", gsub(\"[.].*\", \".h5ad\", files[i])), drop_single_values=FALSE)\n",
    "print(paste0(gsub(\"[.].*\", \".h5ad\", files[i]), \" saved!\"))"
   ]
  },
  {
   "cell_type": "code",
   "execution_count": 46,
   "metadata": {
    "vscode": {
     "languageId": "r"
    }
   },
   "outputs": [
    {
     "name": "stdout",
     "output_type": "stream",
     "text": [
      "[1] 33\n",
      "[1] \"reading in GSE235676_myeloid_int.RDS\"\n",
      "[1] \"Joining layers\"\n",
      "[1] \"Converting to sce\"\n",
      "[1] \"saving as h5ad\"\n"
     ]
    },
    {
     "data": {
      "text/plain": [
       "AnnData object with n_obs × n_vars = 23362 × 33694\n",
       "    obs: 'orig.ident', 'nCount_RNA', 'nFeature_RNA', 'sample_type', 'cancer_type', 'patient_id', 'sample_id', 'percent.mt', 'RNA_snn_res.0.2', 'seurat_clusters', 'cancer_subtype', 'integration_id', 'site', 'sample_type_major', 'dataset_id', 'ident'\n",
       "    var: 'name'\n",
       "    obsm: 'X_pca', 'X_umap'"
      ]
     },
     "metadata": {},
     "output_type": "display_data"
    },
    {
     "name": "stdout",
     "output_type": "stream",
     "text": [
      "[1] \"GSE235676_myeloid_int.h5ad saved!\"\n"
     ]
    }
   ],
   "source": [
    "i = 33\n",
    "print(i)\n",
    "print(paste0(\"reading in \", files[i]))\n",
    "seurat_object <- readRDS(file = paste0(\"/scratch/user/s4436039/scdata/Myeloid_Cells/Myeloid_Cells_Integrate/\", files[i]))\n",
    "print(\"Joining layers\")\n",
    "seurat_object <- JoinLayers(seurat_object)\n",
    "print(\"Converting to sce\")\n",
    "sce <- as.SingleCellExperiment(seurat_object)\n",
    "print(\"saving as h5ad\")\n",
    "sceasy::convertFormat(sce, from=\"sce\", to=\"anndata\", outFile=paste0(\"/scratch/user/s4436039/scdata/Myeloid_Cells/Myeloid_Cells_Integrate/\", gsub(\"[.].*\", \".h5ad\", files[i])), drop_single_values=FALSE)\n",
    "print(paste0(gsub(\"[.].*\", \".h5ad\", files[i]), \" saved!\"))"
   ]
  },
  {
   "cell_type": "code",
   "execution_count": 47,
   "metadata": {
    "vscode": {
     "languageId": "r"
    }
   },
   "outputs": [
    {
     "name": "stdout",
     "output_type": "stream",
     "text": [
      "[1] 34\n",
      "[1] \"reading in PMID32561858_myeloid_int.RDS\"\n",
      "[1] \"Joining layers\"\n",
      "[1] \"Converting to sce\"\n",
      "[1] \"saving as h5ad\"\n"
     ]
    },
    {
     "data": {
      "text/plain": [
       "AnnData object with n_obs × n_vars = 7119 × 33694\n",
       "    obs: 'orig.ident', 'nCount_RNA', 'nFeature_RNA', 'Cell', 'nGene', 'nUMI', 'CellFromTumor', 'PatientNumber', 'TumorType', 'TumorSite', 'CellType', 'sample_type', 'cancer_type', 'patient_id', 'sample_id', 'percent.mt', 'RNA_snn_res.0.2', 'seurat_clusters', 'site', 'sample_type_major', 'cancer_subtype', 'integration_id', 'dataset_id', 'ident'\n",
       "    var: 'name'"
      ]
     },
     "metadata": {},
     "output_type": "display_data"
    },
    {
     "name": "stdout",
     "output_type": "stream",
     "text": [
      "[1] \"PMID32561858_myeloid_int.h5ad saved!\"\n"
     ]
    }
   ],
   "source": [
    "i = 34\n",
    "print(i)\n",
    "print(paste0(\"reading in \", files[i]))\n",
    "seurat_object <- readRDS(file = paste0(\"/scratch/user/s4436039/scdata/Myeloid_Cells/Myeloid_Cells_Integrate/\", files[i]))\n",
    "print(\"Joining layers\")\n",
    "seurat_object <- JoinLayers(seurat_object)\n",
    "print(\"Converting to sce\")\n",
    "sce <- as.SingleCellExperiment(seurat_object)\n",
    "print(\"saving as h5ad\")\n",
    "sceasy::convertFormat(sce, from=\"sce\", to=\"anndata\", outFile=paste0(\"/scratch/user/s4436039/scdata/Myeloid_Cells/Myeloid_Cells_Integrate/\", gsub(\"[.].*\", \".h5ad\", files[i])), drop_single_values=FALSE)\n",
    "print(paste0(gsub(\"[.].*\", \".h5ad\", files[i]), \" saved!\"))"
   ]
  },
  {
   "cell_type": "code",
   "execution_count": 48,
   "metadata": {
    "vscode": {
     "languageId": "r"
    }
   },
   "outputs": [
    {
     "name": "stdout",
     "output_type": "stream",
     "text": [
      "[1] 35\n",
      "[1] \"reading in PRJCA005422_myeloid_int.RDS\"\n",
      "[1] \"Joining layers\"\n",
      "[1] \"Converting to sce\"\n",
      "[1] \"saving as h5ad\"\n"
     ]
    },
    {
     "data": {
      "text/plain": [
       "AnnData object with n_obs × n_vars = 29306 × 27127\n",
       "    obs: 'orig.ident', 'nCount_RNA', 'nFeature_RNA', 'Cellname', 'Samples', 'Groups', 'Patients', 'percent.mt', 'percent.ribo', 'percent.HSP', 'S.Score', 'G2M.Score', 'Annotation', 'Group_abb', 'maintypes_2', 'maintypes_3', 'UMAP_1', 'UMAP_2', 'sample_type', 'cancer_type', 'patient_id', 'sample_id', 'RNA_snn_res.0.2', 'seurat_clusters', 'site', 'sample_type_major', 'cancer_subtype', 'integration_id', 'dataset_id', 'ident'\n",
       "    var: 'name'"
      ]
     },
     "metadata": {},
     "output_type": "display_data"
    },
    {
     "name": "stdout",
     "output_type": "stream",
     "text": [
      "[1] \"PRJCA005422_myeloid_int.h5ad saved!\"\n"
     ]
    }
   ],
   "source": [
    "i = 35\n",
    "print(i)\n",
    "print(paste0(\"reading in \", files[i]))\n",
    "seurat_object <- readRDS(file = paste0(\"/scratch/user/s4436039/scdata/Myeloid_Cells/Myeloid_Cells_Integrate/\", files[i]))\n",
    "print(\"Joining layers\")\n",
    "seurat_object <- JoinLayers(seurat_object)\n",
    "print(\"Converting to sce\")\n",
    "sce <- as.SingleCellExperiment(seurat_object)\n",
    "print(\"saving as h5ad\")\n",
    "sceasy::convertFormat(sce, from=\"sce\", to=\"anndata\", outFile=paste0(\"/scratch/user/s4436039/scdata/Myeloid_Cells/Myeloid_Cells_Integrate/\", gsub(\"[.].*\", \".h5ad\", files[i])), drop_single_values=FALSE)\n",
    "print(paste0(gsub(\"[.].*\", \".h5ad\", files[i]), \" saved!\"))"
   ]
  },
  {
   "cell_type": "code",
   "execution_count": 49,
   "metadata": {
    "vscode": {
     "languageId": "r"
    }
   },
   "outputs": [
    {
     "name": "stdout",
     "output_type": "stream",
     "text": [
      "[1] 36\n",
      "[1] \"reading in PRJNA907381_myeloid_int.RDS\"\n",
      "[1] \"Joining layers\"\n",
      "[1] \"Converting to sce\"\n",
      "[1] \"saving as h5ad\"\n"
     ]
    },
    {
     "data": {
      "text/plain": [
       "AnnData object with n_obs × n_vars = 2723 × 36601\n",
       "    obs: 'orig.ident', 'nCount_RNA', 'nFeature_RNA', 'sample_type', 'cancer_type', 'patient_id', 'sample_id', 'percent.mt', 'RNA_snn_res.0.2', 'seurat_clusters', 'site', 'sample_type_major', 'cancer_subtype', 'integration_id', 'dataset_id', 'ident'\n",
       "    var: 'name'"
      ]
     },
     "metadata": {},
     "output_type": "display_data"
    },
    {
     "name": "stdout",
     "output_type": "stream",
     "text": [
      "[1] \"PRJNA907381_myeloid_int.h5ad saved!\"\n"
     ]
    }
   ],
   "source": [
    "i = 36\n",
    "print(i)\n",
    "print(paste0(\"reading in \", files[i]))\n",
    "seurat_object <- readRDS(file = paste0(\"/scratch/user/s4436039/scdata/Myeloid_Cells/Myeloid_Cells_Integrate/\", files[i]))\n",
    "print(\"Joining layers\")\n",
    "seurat_object <- JoinLayers(seurat_object)\n",
    "print(\"Converting to sce\")\n",
    "sce <- as.SingleCellExperiment(seurat_object)\n",
    "print(\"saving as h5ad\")\n",
    "sceasy::convertFormat(sce, from=\"sce\", to=\"anndata\", outFile=paste0(\"/scratch/user/s4436039/scdata/Myeloid_Cells/Myeloid_Cells_Integrate/\", gsub(\"[.].*\", \".h5ad\", files[i])), drop_single_values=FALSE)\n",
    "print(paste0(gsub(\"[.].*\", \".h5ad\", files[i]), \" saved!\"))"
   ]
  },
  {
   "cell_type": "code",
   "execution_count": null,
   "metadata": {
    "vscode": {
     "languageId": "r"
    }
   },
   "outputs": [],
   "source": []
  }
 ],
 "metadata": {
  "kernelspec": {
   "display_name": "R",
   "language": "R",
   "name": "ir"
  },
  "language_info": {
   "codemirror_mode": "r",
   "file_extension": ".r",
   "mimetype": "text/x-r-source",
   "name": "R",
   "pygments_lexer": "r",
   "version": "4.3.3"
  }
 },
 "nbformat": 4,
 "nbformat_minor": 2
}
