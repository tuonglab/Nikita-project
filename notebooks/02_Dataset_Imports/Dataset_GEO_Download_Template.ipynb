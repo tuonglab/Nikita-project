{
 "cells": [
  {
   "cell_type": "markdown",
   "metadata": {},
   "source": [
    "## Template for downloading datasets from GEO\n",
    "\n",
    "#### Downloading scRNAseq data, the link below is from right clicking on the ftp link in the GEO page\n",
    "\n",
    "## first downloading it to scratch, and then moving it to RDM\n",
    "\n",
    "``` bash\n",
    "mkdir -p /scratch/user/s4436039/scdata/GSE225600\n",
    "cd /scratch/user/s4436039/scdata/GSE225600\n",
    "\n",
    "wget https://ftp.ncbi.nlm.nih.gov/geo/series/GSE180nnn/GSE180661/suppl/GSE180661%5FGEO%5Fcells.tsv.gz\n",
    "\n",
    "mkdir -p /QRISdata/Q5935/nikita/scdata/GSE225600\n",
    "\n",
    "rsync -azvhP GSE225600_sc_barcodes.tsv.gz /QRISdata/Q5935/nikita/scdata/GSE225600\n",
    "\n",
    "rsync -azvhP GSE225600_sc_features.tsv.gz /QRISdata/Q5935/nikita/scdata/GSE225600\n",
    "\n",
    "rsync -azvhP GSE225600_sc_matrix.mtx.gz /QRISdata/Q5935/nikita/scdata/GSE225600\n",
    "\n",
    "``` \n",
    "#### If no ftp link to copy directly, can instead make custom link using format below (nnn replaces last 3 digits):\n",
    "\n",
    "``` bash\n",
    "wget https://ftp.ncbi.nlm.nih.gov/geo/series/GSE180nnn/GSE180661/suppl/GSE180661%5FGEO%5Fcells.tsv.gz\n",
    "\n",
    "wget https://ftp.ncbi.nlm.nih.gov/geo/series/GSE212nnn/GSE212966/suppl/GSE212966_RAW.tar\n",
    "\n",
    "wget https://ftp.ncbi.nlm.nih.gov/geo/series/GSE139nnn/GSE139324/suppl/GSE139324_RAW.tar\n",
    "\n",
    "\n",
    "rsync -azvhP /QRISdata/Q5935/nikita/scdata/GSE217517/pt_2251/ /scratch/user/s4436039/scdata/LB_Test_GSE217517/\n",
    "```"
   ]
  }
 ],
 "metadata": {
  "kernelspec": {
   "display_name": "Python 3 (ipykernel)",
   "language": "python",
   "name": "python3"
  }
 },
 "nbformat": 4,
 "nbformat_minor": 2
}
