{
 "cells": [
  {
   "cell_type": "markdown",
   "metadata": {},
   "source": [
    "### ssGSEA analysis on data from TCGA-BRCA dataset"
   ]
  },
  {
   "cell_type": "code",
   "execution_count": 1,
   "metadata": {
    "vscode": {
     "languageId": "r"
    }
   },
   "outputs": [
    {
     "name": "stderr",
     "output_type": "stream",
     "text": [
      "========================================\n",
      "circlize version 0.4.16\n",
      "CRAN page: https://cran.r-project.org/package=circlize\n",
      "Github page: https://github.com/jokergoo/circlize\n",
      "Documentation: https://jokergoo.github.io/circlize_book/book/\n",
      "\n",
      "If you use it in published research, please cite:\n",
      "Gu, Z. circlize implements and enhances circular visualization\n",
      "  in R. Bioinformatics 2014.\n",
      "\n",
      "This message can be suppressed by:\n",
      "  suppressPackageStartupMessages(library(circlize))\n",
      "========================================\n",
      "\n",
      "\n",
      "Loading required package: grid\n",
      "\n"
     ]
    },
    {
     "name": "stderr",
     "output_type": "stream",
     "text": [
      "========================================\n",
      "ComplexHeatmap version 2.18.0\n",
      "Bioconductor page: http://bioconductor.org/packages/ComplexHeatmap/\n",
      "Github page: https://github.com/jokergoo/ComplexHeatmap\n",
      "Documentation: http://jokergoo.github.io/ComplexHeatmap-reference\n",
      "\n",
      "If you use it in published research, please cite either one:\n",
      "- Gu, Z. Complex Heatmap Visualization. iMeta 2022.\n",
      "- Gu, Z. Complex heatmaps reveal patterns and correlations in multidimensional \n",
      "    genomic data. Bioinformatics 2016.\n",
      "\n",
      "\n",
      "The new InteractiveComplexHeatmap package can directly export static \n",
      "complex heatmaps into an interactive Shiny app with zero effort. Have a try!\n",
      "\n",
      "This message can be suppressed by:\n",
      "  suppressPackageStartupMessages(library(ComplexHeatmap))\n",
      "========================================\n",
      "\n",
      "\n",
      "Loading required package: MatrixGenerics\n",
      "\n",
      "\n",
      "Attaching package: ‘MatrixGenerics’\n",
      "\n",
      "\n",
      "The following objects are masked from ‘package:matrixStats’:\n",
      "\n",
      "    colAlls, colAnyNAs, colAnys, colAvgsPerRowSet, colCollapse,\n",
      "    colCounts, colCummaxs, colCummins, colCumprods, colCumsums,\n",
      "    colDiffs, colIQRDiffs, colIQRs, colLogSumExps, colMadDiffs,\n",
      "    colMads, colMaxs, colMeans2, colMedians, colMins, colOrderStats,\n",
      "    colProds, colQuantiles, colRanges, colRanks, colSdDiffs, colSds,\n",
      "    colSums2, colTabulates, colVarDiffs, colVars, colWeightedMads,\n",
      "    colWeightedMeans, colWeightedMedians, colWeightedSds,\n",
      "    colWeightedVars, rowAlls, rowAnyNAs, rowAnys, rowAvgsPerColSet,\n",
      "    rowCollapse, rowCounts, rowCummaxs, rowCummins, rowCumprods,\n",
      "    rowCumsums, rowDiffs, rowIQRDiffs, rowIQRs, rowLogSumExps,\n",
      "    rowMadDiffs, rowMads, rowMaxs, rowMeans2, rowMedians, rowMins,\n",
      "    rowOrderStats, rowProds, rowQuantiles, rowRanges, rowRanks,\n",
      "    rowSdDiffs, rowSds, rowSums2, rowTabulates, rowVarDiffs, rowVars,\n",
      "    rowWeightedMads, rowWeightedMeans, rowWeightedMedians,\n",
      "    rowWeightedSds, rowWeightedVars\n",
      "\n",
      "\n",
      "Loading required package: GenomicRanges\n",
      "\n",
      "Loading required package: stats4\n",
      "\n",
      "Loading required package: BiocGenerics\n",
      "\n",
      "\n",
      "Attaching package: ‘BiocGenerics’\n",
      "\n",
      "\n",
      "The following objects are masked from ‘package:stats’:\n",
      "\n",
      "    IQR, mad, sd, var, xtabs\n",
      "\n",
      "\n",
      "The following objects are masked from ‘package:base’:\n",
      "\n",
      "    anyDuplicated, aperm, append, as.data.frame, basename, cbind,\n",
      "    colnames, dirname, do.call, duplicated, eval, evalq, Filter, Find,\n",
      "    get, grep, grepl, intersect, is.unsorted, lapply, Map, mapply,\n",
      "    match, mget, order, paste, pmax, pmax.int, pmin, pmin.int,\n",
      "    Position, rank, rbind, Reduce, rownames, sapply, setdiff, sort,\n",
      "    table, tapply, union, unique, unsplit, which.max, which.min\n",
      "\n",
      "\n",
      "Loading required package: S4Vectors\n",
      "\n",
      "\n",
      "Attaching package: ‘S4Vectors’\n",
      "\n",
      "\n",
      "The following objects are masked from ‘package:data.table’:\n",
      "\n",
      "    first, second\n",
      "\n",
      "\n",
      "The following object is masked from ‘package:utils’:\n",
      "\n",
      "    findMatches\n",
      "\n",
      "\n",
      "The following objects are masked from ‘package:base’:\n",
      "\n",
      "    expand.grid, I, unname\n",
      "\n",
      "\n",
      "Loading required package: IRanges\n",
      "\n",
      "\n",
      "Attaching package: ‘IRanges’\n",
      "\n",
      "\n",
      "The following object is masked from ‘package:data.table’:\n",
      "\n",
      "    shift\n",
      "\n",
      "\n",
      "Loading required package: GenomeInfoDb\n",
      "\n",
      "Loading required package: Biobase\n",
      "\n",
      "Welcome to Bioconductor\n",
      "\n",
      "    Vignettes contain introductory material; view with\n",
      "    'browseVignettes()'. To cite Bioconductor, see\n",
      "    'citation(\"Biobase\")', and for packages 'citation(\"pkgname\")'.\n",
      "\n",
      "\n",
      "\n",
      "Attaching package: ‘Biobase’\n",
      "\n",
      "\n",
      "The following object is masked from ‘package:MatrixGenerics’:\n",
      "\n",
      "    rowMedians\n",
      "\n",
      "\n",
      "The following objects are masked from ‘package:matrixStats’:\n",
      "\n",
      "    anyMissing, rowMedians\n",
      "\n",
      "\n",
      "\n",
      "Attaching package: ‘dplyr’\n",
      "\n",
      "\n",
      "The following object is masked from ‘package:Biobase’:\n",
      "\n",
      "    combine\n",
      "\n",
      "\n",
      "The following objects are masked from ‘package:GenomicRanges’:\n",
      "\n",
      "    intersect, setdiff, union\n",
      "\n",
      "\n",
      "The following object is masked from ‘package:GenomeInfoDb’:\n",
      "\n",
      "    intersect\n",
      "\n",
      "\n",
      "The following objects are masked from ‘package:IRanges’:\n",
      "\n",
      "    collapse, desc, intersect, setdiff, slice, union\n",
      "\n",
      "\n",
      "The following objects are masked from ‘package:S4Vectors’:\n",
      "\n",
      "    first, intersect, rename, setdiff, setequal, union\n",
      "\n",
      "\n",
      "The following objects are masked from ‘package:BiocGenerics’:\n",
      "\n",
      "    combine, intersect, setdiff, union\n",
      "\n",
      "\n",
      "The following objects are masked from ‘package:data.table’:\n",
      "\n",
      "    between, first, last\n",
      "\n",
      "\n",
      "The following object is masked from ‘package:matrixStats’:\n",
      "\n",
      "    count\n",
      "\n",
      "\n",
      "The following objects are masked from ‘package:stats’:\n",
      "\n",
      "    filter, lag\n",
      "\n",
      "\n",
      "The following objects are masked from ‘package:base’:\n",
      "\n",
      "    intersect, setdiff, setequal, union\n",
      "\n",
      "\n"
     ]
    }
   ],
   "source": [
    "library(matrixStats)\n",
    "library(circlize)\n",
    "library(ComplexHeatmap)\n",
    "library(data.table)\n",
    "library(SummarizedExperiment)\n",
    "library(S4Vectors)\n",
    "library(GenomicRanges)\n",
    "library(IRanges)\n",
    "library(dplyr)"
   ]
  },
  {
   "cell_type": "code",
   "execution_count": 2,
   "metadata": {
    "vscode": {
     "languageId": "r"
    }
   },
   "outputs": [],
   "source": [
    "#set working directory (location where TCGA data is stored)\n",
    "setwd(\"/scratch/user/s4436039/TCGA_Data\")"
   ]
  },
  {
   "cell_type": "code",
   "execution_count": 3,
   "metadata": {
    "vscode": {
     "languageId": "r"
    }
   },
   "outputs": [
    {
     "data": {
      "text/plain": [
       "class: RangedSummarizedExperiment \n",
       "dim: 60660 198 \n",
       "metadata(1): data_release\n",
       "assays(6): unstranded stranded_first ... fpkm_unstrand fpkm_uq_unstrand\n",
       "rownames(60660): ENSG00000000003.15 ENSG00000000005.6 ...\n",
       "  ENSG00000288674.1 ENSG00000288675.1\n",
       "rowData names(10): source type ... hgnc_id havana_gene\n",
       "colnames(198): TCGA-R6-A8W5-01B-11R-A37I-31\n",
       "  TCGA-2H-A9GK-01A-11R-A37I-31 ... TCGA-L5-A4OG-01A-11R-A260-31\n",
       "  TCGA-VR-A8EZ-01A-11R-A36D-31\n",
       "colData names(141): barcode patient ... paper_GEA-CIN Integrated\n",
       "  Cluster - MKL-KNN-4 paper_GEA-CIN Integrated Cluster - MKL-KNN-7"
      ]
     },
     "metadata": {},
     "output_type": "display_data"
    },
    {
     "data": {
      "text/html": [
       "'RangedSummarizedExperiment object of length 60660 with 10 metadata columns'"
      ],
      "text/latex": [
       "'RangedSummarizedExperiment object of length 60660 with 10 metadata columns'"
      ],
      "text/markdown": [
       "'RangedSummarizedExperiment object of length 60660 with 10 metadata columns'"
      ],
      "text/plain": [
       "[1] \"RangedSummarizedExperiment object of length 60660 with 10 metadata columns\""
      ]
     },
     "metadata": {},
     "output_type": "display_data"
    }
   ],
   "source": [
    "# load in data (data was previously downloaded using the TCGAbiolinks package in R and saved as an RDS object)\n",
    "TCGA_ESCA <- readRDS(\"TCGA_ESCA.rds\")\n",
    "TCGA_ESCA\n",
    "summary(TCGA_ESCA)"
   ]
  },
  {
   "cell_type": "code",
   "execution_count": 4,
   "metadata": {
    "vscode": {
     "languageId": "r"
    }
   },
   "outputs": [
    {
     "data": {
      "text/html": [
       "<style>\n",
       ".list-inline {list-style: none; margin:0; padding: 0}\n",
       ".list-inline>li {display: inline-block}\n",
       ".list-inline>li:not(:last-child)::after {content: \"\\00b7\"; padding: 0 .5ex}\n",
       "</style>\n",
       "<ol class=list-inline><li>'Primary Tumor'</li><li>'Solid Tissue Normal'</li><li>'Metastatic'</li></ol>\n"
      ],
      "text/latex": [
       "\\begin{enumerate*}\n",
       "\\item 'Primary Tumor'\n",
       "\\item 'Solid Tissue Normal'\n",
       "\\item 'Metastatic'\n",
       "\\end{enumerate*}\n"
      ],
      "text/markdown": [
       "1. 'Primary Tumor'\n",
       "2. 'Solid Tissue Normal'\n",
       "3. 'Metastatic'\n",
       "\n",
       "\n"
      ],
      "text/plain": [
       "[1] \"Primary Tumor\"       \"Solid Tissue Normal\" \"Metastatic\"         "
      ]
     },
     "metadata": {},
     "output_type": "display_data"
    }
   ],
   "source": [
    "unique(TCGA_ESCA$sample_type)"
   ]
  },
  {
   "cell_type": "code",
   "execution_count": null,
   "metadata": {
    "vscode": {
     "languageId": "r"
    }
   },
   "outputs": [
    {
     "data": {
      "text/plain": [
       "\n",
       "         Metastatic       Primary Tumor Solid Tissue Normal \n",
       "                  1                 184                  13 "
      ]
     },
     "metadata": {},
     "output_type": "display_data"
    }
   ],
   "source": [
    "table(colData(TCGA_ESCA)$sample_type)"
   ]
  },
  {
   "cell_type": "code",
   "execution_count": 6,
   "metadata": {
    "vscode": {
     "languageId": "r"
    }
   },
   "outputs": [],
   "source": [
    "# Subset object\n",
    "primary <- TCGA_ESCA[, colData(TCGA_ESCA)$sample_type == \"Primary Tumor\"]"
   ]
  },
  {
   "cell_type": "code",
   "execution_count": null,
   "metadata": {
    "vscode": {
     "languageId": "r"
    }
   },
   "outputs": [
    {
     "data": {
      "text/plain": [
       "\n",
       "Primary Tumor \n",
       "          184 "
      ]
     },
     "metadata": {},
     "output_type": "display_data"
    }
   ],
   "source": [
    "table(colData(primary)$sample_type)"
   ]
  },
  {
   "cell_type": "code",
   "execution_count": 8,
   "metadata": {
    "vscode": {
     "languageId": "r"
    }
   },
   "outputs": [
    {
     "data": {
      "text/html": [
       "'RangedSummarizedExperiment object of length 60660 with 10 metadata columns'"
      ],
      "text/latex": [
       "'RangedSummarizedExperiment object of length 60660 with 10 metadata columns'"
      ],
      "text/markdown": [
       "'RangedSummarizedExperiment object of length 60660 with 10 metadata columns'"
      ],
      "text/plain": [
       "[1] \"RangedSummarizedExperiment object of length 60660 with 10 metadata columns\""
      ]
     },
     "metadata": {},
     "output_type": "display_data"
    }
   ],
   "source": [
    "summary(primary)"
   ]
  },
  {
   "cell_type": "code",
   "execution_count": 9,
   "metadata": {
    "vscode": {
     "languageId": "r"
    }
   },
   "outputs": [],
   "source": [
    "#define SSGSEA Function\n",
    "#function from https://rpubs.com/pranali018/SSGSEA  \n",
    "\n",
    "ssgsea = function(X, gene_sets, alpha = 0.25, scale = T, norm = F, single = T) {\n",
    "  row_names = rownames(X)\n",
    "  num_genes = nrow(X)\n",
    "  gene_sets = lapply(gene_sets, function(genes) {which(row_names %in% genes)})\n",
    "  \n",
    "  # Ranks for genes\n",
    "  R = matrixStats::colRanks(X, preserveShape = T, ties.method = 'average')\n",
    "  \n",
    "  # Calculate enrichment score (es) for each sample (column)\n",
    "  es = apply(R, 2, function(R_col) {\n",
    "    gene_ranks = order(R_col, decreasing = TRUE)\n",
    "    \n",
    "    # Calc es for each gene set\n",
    "    es_sample = sapply(gene_sets, function(gene_set_idx) {\n",
    "      # pos: match (within the gene set)\n",
    "      # neg: non-match (outside the gene set)\n",
    "      indicator_pos = gene_ranks %in% gene_set_idx\n",
    "      indicator_neg = !indicator_pos\n",
    "      \n",
    "      rank_alpha  = (R_col[gene_ranks] * indicator_pos) ^ alpha\n",
    "      \n",
    "      step_cdf_pos = cumsum(rank_alpha)    / sum(rank_alpha)\n",
    "      step_cdf_neg = cumsum(indicator_neg) / sum(indicator_neg)\n",
    "      \n",
    "      step_cdf_diff = step_cdf_pos - step_cdf_neg\n",
    "      \n",
    "      # Normalize by gene number\n",
    "      if (scale) step_cdf_diff = step_cdf_diff / num_genes\n",
    "      \n",
    "      # Use ssGSEA or not\n",
    "      if (single) {\n",
    "        sum(step_cdf_diff)\n",
    "      } else {\n",
    "        step_cdf_diff[which.max(abs(step_cdf_diff))]\n",
    "      }\n",
    "    })\n",
    "    unlist(es_sample)\n",
    "  })\n",
    "  \n",
    "  if (length(gene_sets) == 1) es = matrix(es, nrow = 1)\n",
    "  \n",
    "  # Normalize by absolute diff between max and min\n",
    "  if (norm) es = es / diff(range(es))\n",
    "  \n",
    "  # Prepare output\n",
    "  rownames(es) = names(gene_sets)\n",
    "  colnames(es) = colnames(X)\n",
    "  return(es)\n",
    "}\n"
   ]
  },
  {
   "cell_type": "code",
   "execution_count": 10,
   "metadata": {
    "vscode": {
     "languageId": "r"
    }
   },
   "outputs": [
    {
     "data": {
      "text/plain": [
       "List of length 6\n",
       "names(6): unstranded stranded_first ... fpkm_unstrand fpkm_uq_unstrand"
      ]
     },
     "metadata": {},
     "output_type": "display_data"
    }
   ],
   "source": [
    "#view the different assays stored\n",
    "assays(primary)"
   ]
  },
  {
   "cell_type": "code",
   "execution_count": 11,
   "metadata": {
    "vscode": {
     "languageId": "r"
    }
   },
   "outputs": [
    {
     "data": {
      "text/html": [
       "<style>\n",
       ".list-inline {list-style: none; margin:0; padding: 0}\n",
       ".list-inline>li {display: inline-block}\n",
       ".list-inline>li:not(:last-child)::after {content: \"\\00b7\"; padding: 0 .5ex}\n",
       "</style>\n",
       "<ol class=list-inline><li>60660</li><li>184</li></ol>\n"
      ],
      "text/latex": [
       "\\begin{enumerate*}\n",
       "\\item 60660\n",
       "\\item 184\n",
       "\\end{enumerate*}\n"
      ],
      "text/markdown": [
       "1. 60660\n",
       "2. 184\n",
       "\n",
       "\n"
      ],
      "text/plain": [
       "[1] 60660   184"
      ]
     },
     "metadata": {},
     "output_type": "display_data"
    },
    {
     "data": {
      "text/html": [
       "<table class=\"dataframe\">\n",
       "<caption>A matrix: 3 × 3 of type dbl</caption>\n",
       "<thead>\n",
       "\t<tr><th></th><th scope=col>TCGA-R6-A8W5-01B-11R-A37I-31</th><th scope=col>TCGA-2H-A9GK-01A-11R-A37I-31</th><th scope=col>TCGA-L5-A4OF-01A-11R-A260-31</th></tr>\n",
       "</thead>\n",
       "<tbody>\n",
       "\t<tr><th scope=row>ENSG00000000003.15</th><td> 40.7270</td><td>11.1755</td><td> 37.4075</td></tr>\n",
       "\t<tr><th scope=row>ENSG00000000005.6</th><td>  0.0000</td><td> 0.0614</td><td>  0.0660</td></tr>\n",
       "\t<tr><th scope=row>ENSG00000000419.13</th><td>104.0484</td><td>74.5302</td><td>124.7452</td></tr>\n",
       "</tbody>\n",
       "</table>\n"
      ],
      "text/latex": [
       "A matrix: 3 × 3 of type dbl\n",
       "\\begin{tabular}{r|lll}\n",
       "  & TCGA-R6-A8W5-01B-11R-A37I-31 & TCGA-2H-A9GK-01A-11R-A37I-31 & TCGA-L5-A4OF-01A-11R-A260-31\\\\\n",
       "\\hline\n",
       "\tENSG00000000003.15 &  40.7270 & 11.1755 &  37.4075\\\\\n",
       "\tENSG00000000005.6 &   0.0000 &  0.0614 &   0.0660\\\\\n",
       "\tENSG00000000419.13 & 104.0484 & 74.5302 & 124.7452\\\\\n",
       "\\end{tabular}\n"
      ],
      "text/markdown": [
       "\n",
       "A matrix: 3 × 3 of type dbl\n",
       "\n",
       "| <!--/--> | TCGA-R6-A8W5-01B-11R-A37I-31 | TCGA-2H-A9GK-01A-11R-A37I-31 | TCGA-L5-A4OF-01A-11R-A260-31 |\n",
       "|---|---|---|---|\n",
       "| ENSG00000000003.15 |  40.7270 | 11.1755 |  37.4075 |\n",
       "| ENSG00000000005.6 |   0.0000 |  0.0614 |   0.0660 |\n",
       "| ENSG00000000419.13 | 104.0484 | 74.5302 | 124.7452 |\n",
       "\n"
      ],
      "text/plain": [
       "                   TCGA-R6-A8W5-01B-11R-A37I-31 TCGA-2H-A9GK-01A-11R-A37I-31\n",
       "ENSG00000000003.15  40.7270                     11.1755                     \n",
       "ENSG00000000005.6    0.0000                      0.0614                     \n",
       "ENSG00000000419.13 104.0484                     74.5302                     \n",
       "                   TCGA-L5-A4OF-01A-11R-A260-31\n",
       "ENSG00000000003.15  37.4075                    \n",
       "ENSG00000000005.6    0.0660                    \n",
       "ENSG00000000419.13 124.7452                    "
      ]
     },
     "metadata": {},
     "output_type": "display_data"
    }
   ],
   "source": [
    "#for this analysis using the tpm_unstrand assay \n",
    "dim(assays(primary)$tpm_unstrand)\n",
    "#set data to tpm_unstand assay for this analysis\n",
    "data <- assays(primary)$tpm_unstrand\n",
    "#view data\n",
    "data[1:3,1:3]"
   ]
  },
  {
   "cell_type": "code",
   "execution_count": 12,
   "metadata": {
    "vscode": {
     "languageId": "r"
    }
   },
   "outputs": [],
   "source": [
    "#convert to matrix\n",
    "data = as.matrix(data)"
   ]
  },
  {
   "cell_type": "code",
   "execution_count": 13,
   "metadata": {
    "vscode": {
     "languageId": "r"
    }
   },
   "outputs": [
    {
     "data": {
      "text/html": [
       "<strong>$gene_id</strong> = <style>\n",
       ".list-inline {list-style: none; margin:0; padding: 0}\n",
       ".list-inline>li {display: inline-block}\n",
       ".list-inline>li:not(:last-child)::after {content: \"\\00b7\"; padding: 0 .5ex}\n",
       "</style>\n",
       "<ol class=list-inline><li>'ENSG00000102962.5'</li><li>'ENSG00000104951.16'</li><li>'ENSG00000198053.12'</li><li>'ENSG00000126353.3'</li><li>'ENSG00000171310.11'</li><li>'ENSG00000180758.12'</li><li>'ENSG00000090104.12'</li><li>'ENSG00000023445.16'</li><li>'ENSG00000056558.11'</li><li>'ENSG00000198223.17'</li><li>'ENSG00000107021.16'</li><li>'ENSG00000078081.8'</li><li>'ENSG00000118242.16'</li><li>'ENSG00000167641.11'</li><li>'ENSG00000198369.10'</li><li>'ENSG00000112149.10'</li><li>'ENSG00000136810.13'</li><li>'ENSG00000172081.14'</li><li>'ENSG00000109320.13'</li><li>'ENSG00000136111.14'</li><li>'ENSG00000123374.11'</li><li>'ENSG00000261040.7'</li><li>'ENSG00000047365.12'</li><li>'ENSG00000160445.11'</li><li>'ENSG00000151726.15'</li><li>'ENSG00000167642.13'</li><li>'ENSG00000161011.20'</li><li>'ENSG00000204634.13'</li><li>'ENSG00000101384.12'</li><li>'ENSG00000278834.1'</li><li>'ENSG00000156127.8'</li><li>'ENSG00000117036.12'</li><li>'ENSG00000171791.14'</li><li>'ENSG00000068796.19'</li><li>'ENSG00000075618.18'</li><li>'ENSG00000118503.15'</li><li>'ENSG00000160050.15'</li><li>'ENSG00000119508.18'</li><li>'ENSG00000115165.10'</li><li>'ENSG00000115956.10'</li><li>'ENSG00000150907.10'</li><li>'ENSG00000025772.8'</li><li>'ENSG00000135148.12'</li><li>'ENSG00000101445.10'</li><li>'ENSG00000121966.7'</li><li>'ENSG00000101017.14'</li><li>'ENSG00000198018.7'</li><li>'ENSG00000124762.14'</li><li>'ENSG00000015475.19'</li><li>'ENSG00000277443.3'</li><li>'ENSG00000138166.6'</li><li>'ENSG00000071054.16'</li><li>'ENSG00000171552.14'</li><li>'ENSG00000172183.15'</li><li>'ENSG00000145860.12'</li><li>'ENSG00000137522.18'</li><li>'ENSG00000183484.12'</li><li>'ENSG00000138670.18'</li><li>'ENSG00000197872.11'</li><li>'ENSG00000084733.11'</li><li>'ENSG00000172292.15'</li><li>'ENSG00000115594.12'</li><li>'ENSG00000101109.12'</li><li>'ENSG00000069493.15'</li><li>'ENSG00000217801.10'</li><li>'ENSG00000177311.11'</li><li>'ENSG00000159128.15'</li><li>'ENSG00000120217.14'</li><li>'ENSG00000136052.9'</li><li>'ENSG00000118257.17'</li><li>'ENSG00000164236.12'</li><li>'ENSG00000169508.7'</li><li>'ENSG00000163389.12'</li><li>'ENSG00000128271.22'</li><li>'ENSG00000102221.14'</li><li>'ENSG00000131773.14'</li><li>'ENSG00000168036.18'</li><li>'ENSG00000137571.11'</li><li>'ENSG00000077150.20'</li><li>'ENSG00000116741.8'</li><li>'ENSG00000106803.10'</li><li>'ENSG00000186187.12'</li><li>'ENSG00000104856.14'</li><li>'ENSG00000151131.11'</li><li>'ENSG00000168310.11'</li><li>'ENSG00000273604.2'</li><li>'ENSG00000059728.11'</li><li>'ENSG00000111540.16'</li><li>'ENSG00000117115.13'</li><li>'ENSG00000136048.14'</li><li>'ENSG00000108389.9'</li><li>'ENSG00000103319.12'</li><li>'ENSG00000111846.19'</li><li>'ENSG00000173166.18'</li><li>'ENSG00000140379.9'</li><li>'ENSG00000101310.17'</li><li>'ENSG00000198355.5'</li><li>'ENSG00000163297.17'</li><li>'ENSG00000166016.6'</li><li>'ENSG00000164484.12'</li></ol>\n"
      ],
      "text/latex": [
       "\\textbf{\\$gene\\_id} = \\begin{enumerate*}\n",
       "\\item 'ENSG00000102962.5'\n",
       "\\item 'ENSG00000104951.16'\n",
       "\\item 'ENSG00000198053.12'\n",
       "\\item 'ENSG00000126353.3'\n",
       "\\item 'ENSG00000171310.11'\n",
       "\\item 'ENSG00000180758.12'\n",
       "\\item 'ENSG00000090104.12'\n",
       "\\item 'ENSG00000023445.16'\n",
       "\\item 'ENSG00000056558.11'\n",
       "\\item 'ENSG00000198223.17'\n",
       "\\item 'ENSG00000107021.16'\n",
       "\\item 'ENSG00000078081.8'\n",
       "\\item 'ENSG00000118242.16'\n",
       "\\item 'ENSG00000167641.11'\n",
       "\\item 'ENSG00000198369.10'\n",
       "\\item 'ENSG00000112149.10'\n",
       "\\item 'ENSG00000136810.13'\n",
       "\\item 'ENSG00000172081.14'\n",
       "\\item 'ENSG00000109320.13'\n",
       "\\item 'ENSG00000136111.14'\n",
       "\\item 'ENSG00000123374.11'\n",
       "\\item 'ENSG00000261040.7'\n",
       "\\item 'ENSG00000047365.12'\n",
       "\\item 'ENSG00000160445.11'\n",
       "\\item 'ENSG00000151726.15'\n",
       "\\item 'ENSG00000167642.13'\n",
       "\\item 'ENSG00000161011.20'\n",
       "\\item 'ENSG00000204634.13'\n",
       "\\item 'ENSG00000101384.12'\n",
       "\\item 'ENSG00000278834.1'\n",
       "\\item 'ENSG00000156127.8'\n",
       "\\item 'ENSG00000117036.12'\n",
       "\\item 'ENSG00000171791.14'\n",
       "\\item 'ENSG00000068796.19'\n",
       "\\item 'ENSG00000075618.18'\n",
       "\\item 'ENSG00000118503.15'\n",
       "\\item 'ENSG00000160050.15'\n",
       "\\item 'ENSG00000119508.18'\n",
       "\\item 'ENSG00000115165.10'\n",
       "\\item 'ENSG00000115956.10'\n",
       "\\item 'ENSG00000150907.10'\n",
       "\\item 'ENSG00000025772.8'\n",
       "\\item 'ENSG00000135148.12'\n",
       "\\item 'ENSG00000101445.10'\n",
       "\\item 'ENSG00000121966.7'\n",
       "\\item 'ENSG00000101017.14'\n",
       "\\item 'ENSG00000198018.7'\n",
       "\\item 'ENSG00000124762.14'\n",
       "\\item 'ENSG00000015475.19'\n",
       "\\item 'ENSG00000277443.3'\n",
       "\\item 'ENSG00000138166.6'\n",
       "\\item 'ENSG00000071054.16'\n",
       "\\item 'ENSG00000171552.14'\n",
       "\\item 'ENSG00000172183.15'\n",
       "\\item 'ENSG00000145860.12'\n",
       "\\item 'ENSG00000137522.18'\n",
       "\\item 'ENSG00000183484.12'\n",
       "\\item 'ENSG00000138670.18'\n",
       "\\item 'ENSG00000197872.11'\n",
       "\\item 'ENSG00000084733.11'\n",
       "\\item 'ENSG00000172292.15'\n",
       "\\item 'ENSG00000115594.12'\n",
       "\\item 'ENSG00000101109.12'\n",
       "\\item 'ENSG00000069493.15'\n",
       "\\item 'ENSG00000217801.10'\n",
       "\\item 'ENSG00000177311.11'\n",
       "\\item 'ENSG00000159128.15'\n",
       "\\item 'ENSG00000120217.14'\n",
       "\\item 'ENSG00000136052.9'\n",
       "\\item 'ENSG00000118257.17'\n",
       "\\item 'ENSG00000164236.12'\n",
       "\\item 'ENSG00000169508.7'\n",
       "\\item 'ENSG00000163389.12'\n",
       "\\item 'ENSG00000128271.22'\n",
       "\\item 'ENSG00000102221.14'\n",
       "\\item 'ENSG00000131773.14'\n",
       "\\item 'ENSG00000168036.18'\n",
       "\\item 'ENSG00000137571.11'\n",
       "\\item 'ENSG00000077150.20'\n",
       "\\item 'ENSG00000116741.8'\n",
       "\\item 'ENSG00000106803.10'\n",
       "\\item 'ENSG00000186187.12'\n",
       "\\item 'ENSG00000104856.14'\n",
       "\\item 'ENSG00000151131.11'\n",
       "\\item 'ENSG00000168310.11'\n",
       "\\item 'ENSG00000273604.2'\n",
       "\\item 'ENSG00000059728.11'\n",
       "\\item 'ENSG00000111540.16'\n",
       "\\item 'ENSG00000117115.13'\n",
       "\\item 'ENSG00000136048.14'\n",
       "\\item 'ENSG00000108389.9'\n",
       "\\item 'ENSG00000103319.12'\n",
       "\\item 'ENSG00000111846.19'\n",
       "\\item 'ENSG00000173166.18'\n",
       "\\item 'ENSG00000140379.9'\n",
       "\\item 'ENSG00000101310.17'\n",
       "\\item 'ENSG00000198355.5'\n",
       "\\item 'ENSG00000163297.17'\n",
       "\\item 'ENSG00000166016.6'\n",
       "\\item 'ENSG00000164484.12'\n",
       "\\end{enumerate*}\n"
      ],
      "text/markdown": [
       "**$gene_id** = 1. 'ENSG00000102962.5'\n",
       "2. 'ENSG00000104951.16'\n",
       "3. 'ENSG00000198053.12'\n",
       "4. 'ENSG00000126353.3'\n",
       "5. 'ENSG00000171310.11'\n",
       "6. 'ENSG00000180758.12'\n",
       "7. 'ENSG00000090104.12'\n",
       "8. 'ENSG00000023445.16'\n",
       "9. 'ENSG00000056558.11'\n",
       "10. 'ENSG00000198223.17'\n",
       "11. 'ENSG00000107021.16'\n",
       "12. 'ENSG00000078081.8'\n",
       "13. 'ENSG00000118242.16'\n",
       "14. 'ENSG00000167641.11'\n",
       "15. 'ENSG00000198369.10'\n",
       "16. 'ENSG00000112149.10'\n",
       "17. 'ENSG00000136810.13'\n",
       "18. 'ENSG00000172081.14'\n",
       "19. 'ENSG00000109320.13'\n",
       "20. 'ENSG00000136111.14'\n",
       "21. 'ENSG00000123374.11'\n",
       "22. 'ENSG00000261040.7'\n",
       "23. 'ENSG00000047365.12'\n",
       "24. 'ENSG00000160445.11'\n",
       "25. 'ENSG00000151726.15'\n",
       "26. 'ENSG00000167642.13'\n",
       "27. 'ENSG00000161011.20'\n",
       "28. 'ENSG00000204634.13'\n",
       "29. 'ENSG00000101384.12'\n",
       "30. 'ENSG00000278834.1'\n",
       "31. 'ENSG00000156127.8'\n",
       "32. 'ENSG00000117036.12'\n",
       "33. 'ENSG00000171791.14'\n",
       "34. 'ENSG00000068796.19'\n",
       "35. 'ENSG00000075618.18'\n",
       "36. 'ENSG00000118503.15'\n",
       "37. 'ENSG00000160050.15'\n",
       "38. 'ENSG00000119508.18'\n",
       "39. 'ENSG00000115165.10'\n",
       "40. 'ENSG00000115956.10'\n",
       "41. 'ENSG00000150907.10'\n",
       "42. 'ENSG00000025772.8'\n",
       "43. 'ENSG00000135148.12'\n",
       "44. 'ENSG00000101445.10'\n",
       "45. 'ENSG00000121966.7'\n",
       "46. 'ENSG00000101017.14'\n",
       "47. 'ENSG00000198018.7'\n",
       "48. 'ENSG00000124762.14'\n",
       "49. 'ENSG00000015475.19'\n",
       "50. 'ENSG00000277443.3'\n",
       "51. 'ENSG00000138166.6'\n",
       "52. 'ENSG00000071054.16'\n",
       "53. 'ENSG00000171552.14'\n",
       "54. 'ENSG00000172183.15'\n",
       "55. 'ENSG00000145860.12'\n",
       "56. 'ENSG00000137522.18'\n",
       "57. 'ENSG00000183484.12'\n",
       "58. 'ENSG00000138670.18'\n",
       "59. 'ENSG00000197872.11'\n",
       "60. 'ENSG00000084733.11'\n",
       "61. 'ENSG00000172292.15'\n",
       "62. 'ENSG00000115594.12'\n",
       "63. 'ENSG00000101109.12'\n",
       "64. 'ENSG00000069493.15'\n",
       "65. 'ENSG00000217801.10'\n",
       "66. 'ENSG00000177311.11'\n",
       "67. 'ENSG00000159128.15'\n",
       "68. 'ENSG00000120217.14'\n",
       "69. 'ENSG00000136052.9'\n",
       "70. 'ENSG00000118257.17'\n",
       "71. 'ENSG00000164236.12'\n",
       "72. 'ENSG00000169508.7'\n",
       "73. 'ENSG00000163389.12'\n",
       "74. 'ENSG00000128271.22'\n",
       "75. 'ENSG00000102221.14'\n",
       "76. 'ENSG00000131773.14'\n",
       "77. 'ENSG00000168036.18'\n",
       "78. 'ENSG00000137571.11'\n",
       "79. 'ENSG00000077150.20'\n",
       "80. 'ENSG00000116741.8'\n",
       "81. 'ENSG00000106803.10'\n",
       "82. 'ENSG00000186187.12'\n",
       "83. 'ENSG00000104856.14'\n",
       "84. 'ENSG00000151131.11'\n",
       "85. 'ENSG00000168310.11'\n",
       "86. 'ENSG00000273604.2'\n",
       "87. 'ENSG00000059728.11'\n",
       "88. 'ENSG00000111540.16'\n",
       "89. 'ENSG00000117115.13'\n",
       "90. 'ENSG00000136048.14'\n",
       "91. 'ENSG00000108389.9'\n",
       "92. 'ENSG00000103319.12'\n",
       "93. 'ENSG00000111846.19'\n",
       "94. 'ENSG00000173166.18'\n",
       "95. 'ENSG00000140379.9'\n",
       "96. 'ENSG00000101310.17'\n",
       "97. 'ENSG00000198355.5'\n",
       "98. 'ENSG00000163297.17'\n",
       "99. 'ENSG00000166016.6'\n",
       "100. 'ENSG00000164484.12'\n",
       "\n",
       "\n"
      ],
      "text/plain": [
       "$gene_id\n",
       "  [1] \"ENSG00000102962.5\"  \"ENSG00000104951.16\" \"ENSG00000198053.12\"\n",
       "  [4] \"ENSG00000126353.3\"  \"ENSG00000171310.11\" \"ENSG00000180758.12\"\n",
       "  [7] \"ENSG00000090104.12\" \"ENSG00000023445.16\" \"ENSG00000056558.11\"\n",
       " [10] \"ENSG00000198223.17\" \"ENSG00000107021.16\" \"ENSG00000078081.8\" \n",
       " [13] \"ENSG00000118242.16\" \"ENSG00000167641.11\" \"ENSG00000198369.10\"\n",
       " [16] \"ENSG00000112149.10\" \"ENSG00000136810.13\" \"ENSG00000172081.14\"\n",
       " [19] \"ENSG00000109320.13\" \"ENSG00000136111.14\" \"ENSG00000123374.11\"\n",
       " [22] \"ENSG00000261040.7\"  \"ENSG00000047365.12\" \"ENSG00000160445.11\"\n",
       " [25] \"ENSG00000151726.15\" \"ENSG00000167642.13\" \"ENSG00000161011.20\"\n",
       " [28] \"ENSG00000204634.13\" \"ENSG00000101384.12\" \"ENSG00000278834.1\" \n",
       " [31] \"ENSG00000156127.8\"  \"ENSG00000117036.12\" \"ENSG00000171791.14\"\n",
       " [34] \"ENSG00000068796.19\" \"ENSG00000075618.18\" \"ENSG00000118503.15\"\n",
       " [37] \"ENSG00000160050.15\" \"ENSG00000119508.18\" \"ENSG00000115165.10\"\n",
       " [40] \"ENSG00000115956.10\" \"ENSG00000150907.10\" \"ENSG00000025772.8\" \n",
       " [43] \"ENSG00000135148.12\" \"ENSG00000101445.10\" \"ENSG00000121966.7\" \n",
       " [46] \"ENSG00000101017.14\" \"ENSG00000198018.7\"  \"ENSG00000124762.14\"\n",
       " [49] \"ENSG00000015475.19\" \"ENSG00000277443.3\"  \"ENSG00000138166.6\" \n",
       " [52] \"ENSG00000071054.16\" \"ENSG00000171552.14\" \"ENSG00000172183.15\"\n",
       " [55] \"ENSG00000145860.12\" \"ENSG00000137522.18\" \"ENSG00000183484.12\"\n",
       " [58] \"ENSG00000138670.18\" \"ENSG00000197872.11\" \"ENSG00000084733.11\"\n",
       " [61] \"ENSG00000172292.15\" \"ENSG00000115594.12\" \"ENSG00000101109.12\"\n",
       " [64] \"ENSG00000069493.15\" \"ENSG00000217801.10\" \"ENSG00000177311.11\"\n",
       " [67] \"ENSG00000159128.15\" \"ENSG00000120217.14\" \"ENSG00000136052.9\" \n",
       " [70] \"ENSG00000118257.17\" \"ENSG00000164236.12\" \"ENSG00000169508.7\" \n",
       " [73] \"ENSG00000163389.12\" \"ENSG00000128271.22\" \"ENSG00000102221.14\"\n",
       " [76] \"ENSG00000131773.14\" \"ENSG00000168036.18\" \"ENSG00000137571.11\"\n",
       " [79] \"ENSG00000077150.20\" \"ENSG00000116741.8\"  \"ENSG00000106803.10\"\n",
       " [82] \"ENSG00000186187.12\" \"ENSG00000104856.14\" \"ENSG00000151131.11\"\n",
       " [85] \"ENSG00000168310.11\" \"ENSG00000273604.2\"  \"ENSG00000059728.11\"\n",
       " [88] \"ENSG00000111540.16\" \"ENSG00000117115.13\" \"ENSG00000136048.14\"\n",
       " [91] \"ENSG00000108389.9\"  \"ENSG00000103319.12\" \"ENSG00000111846.19\"\n",
       " [94] \"ENSG00000173166.18\" \"ENSG00000140379.9\"  \"ENSG00000101310.17\"\n",
       " [97] \"ENSG00000198355.5\"  \"ENSG00000163297.17\" \"ENSG00000166016.6\" \n",
       "[100] \"ENSG00000164484.12\"\n"
      ]
     },
     "metadata": {},
     "output_type": "display_data"
    }
   ],
   "source": [
    "#load in my signature and make it a list (edit this to any signature)\n",
    "sig <- fread(\"ag_pos_vs_dll1_deg_limma.csv\", select = c(\"gene_id\"))\n",
    "sig <- sig[1:100,]\n",
    "sig = as.list(as.data.frame(sig))\n",
    "head(sig)"
   ]
  },
  {
   "cell_type": "code",
   "execution_count": 14,
   "metadata": {
    "vscode": {
     "languageId": "r"
    }
   },
   "outputs": [
    {
     "data": {
      "text/plain": [
       "   user  system elapsed \n",
       "  1.980   0.251   2.246 "
      ]
     },
     "metadata": {},
     "output_type": "display_data"
    }
   ],
   "source": [
    "#Run ssGSEA function\n",
    "#ssgsea: https://rpubs.com/pranali018/SSGSEA\n",
    "system.time(assign('res', ssgsea(data, sig, scale = TRUE, norm = FALSE)))"
   ]
  },
  {
   "cell_type": "code",
   "execution_count": 15,
   "metadata": {
    "vscode": {
     "languageId": "r"
    }
   },
   "outputs": [
    {
     "data": {
      "text/html": [
       "<table class=\"dataframe\">\n",
       "<caption>A matrix: 6 × 1 of type dbl</caption>\n",
       "<thead>\n",
       "\t<tr><th></th><th scope=col>gene_id</th></tr>\n",
       "</thead>\n",
       "<tbody>\n",
       "\t<tr><th scope=row>TCGA-R6-A8W5-01B-11R-A37I-31</th><td>0.3861857</td></tr>\n",
       "\t<tr><th scope=row>TCGA-2H-A9GK-01A-11R-A37I-31</th><td>0.4061086</td></tr>\n",
       "\t<tr><th scope=row>TCGA-L5-A4OF-01A-11R-A260-31</th><td>0.3816340</td></tr>\n",
       "\t<tr><th scope=row>TCGA-L5-A88W-01A-11R-A354-31</th><td>0.3766063</td></tr>\n",
       "\t<tr><th scope=row>TCGA-IG-A6QS-01A-12R-A336-31</th><td>0.3801509</td></tr>\n",
       "\t<tr><th scope=row>TCGA-L5-A8NN-01A-11R-A37I-31</th><td>0.3693128</td></tr>\n",
       "</tbody>\n",
       "</table>\n"
      ],
      "text/latex": [
       "A matrix: 6 × 1 of type dbl\n",
       "\\begin{tabular}{r|l}\n",
       "  & gene\\_id\\\\\n",
       "\\hline\n",
       "\tTCGA-R6-A8W5-01B-11R-A37I-31 & 0.3861857\\\\\n",
       "\tTCGA-2H-A9GK-01A-11R-A37I-31 & 0.4061086\\\\\n",
       "\tTCGA-L5-A4OF-01A-11R-A260-31 & 0.3816340\\\\\n",
       "\tTCGA-L5-A88W-01A-11R-A354-31 & 0.3766063\\\\\n",
       "\tTCGA-IG-A6QS-01A-12R-A336-31 & 0.3801509\\\\\n",
       "\tTCGA-L5-A8NN-01A-11R-A37I-31 & 0.3693128\\\\\n",
       "\\end{tabular}\n"
      ],
      "text/markdown": [
       "\n",
       "A matrix: 6 × 1 of type dbl\n",
       "\n",
       "| <!--/--> | gene_id |\n",
       "|---|---|\n",
       "| TCGA-R6-A8W5-01B-11R-A37I-31 | 0.3861857 |\n",
       "| TCGA-2H-A9GK-01A-11R-A37I-31 | 0.4061086 |\n",
       "| TCGA-L5-A4OF-01A-11R-A260-31 | 0.3816340 |\n",
       "| TCGA-L5-A88W-01A-11R-A354-31 | 0.3766063 |\n",
       "| TCGA-IG-A6QS-01A-12R-A336-31 | 0.3801509 |\n",
       "| TCGA-L5-A8NN-01A-11R-A37I-31 | 0.3693128 |\n",
       "\n"
      ],
      "text/plain": [
       "                             gene_id  \n",
       "TCGA-R6-A8W5-01B-11R-A37I-31 0.3861857\n",
       "TCGA-2H-A9GK-01A-11R-A37I-31 0.4061086\n",
       "TCGA-L5-A4OF-01A-11R-A260-31 0.3816340\n",
       "TCGA-L5-A88W-01A-11R-A354-31 0.3766063\n",
       "TCGA-IG-A6QS-01A-12R-A336-31 0.3801509\n",
       "TCGA-L5-A8NN-01A-11R-A37I-31 0.3693128"
      ]
     },
     "metadata": {},
     "output_type": "display_data"
    }
   ],
   "source": [
    "#transpose results\n",
    "res1 = t(res)\n",
    "head(res1)"
   ]
  },
  {
   "cell_type": "code",
   "execution_count": 16,
   "metadata": {
    "vscode": {
     "languageId": "r"
    }
   },
   "outputs": [
    {
     "data": {
      "text/html": [
       "<style>\n",
       ".list-inline {list-style: none; margin:0; padding: 0}\n",
       ".list-inline>li {display: inline-block}\n",
       ".list-inline>li:not(:last-child)::after {content: \"\\00b7\"; padding: 0 .5ex}\n",
       "</style>\n",
       "<ol class=list-inline><li>1</li><li>184</li></ol>\n"
      ],
      "text/latex": [
       "\\begin{enumerate*}\n",
       "\\item 1\n",
       "\\item 184\n",
       "\\end{enumerate*}\n"
      ],
      "text/markdown": [
       "1. 1\n",
       "2. 184\n",
       "\n",
       "\n"
      ],
      "text/plain": [
       "[1]   1 184"
      ]
     },
     "metadata": {},
     "output_type": "display_data"
    },
    {
     "data": {
      "text/html": [
       "<style>\n",
       ".dl-inline {width: auto; margin:0; padding: 0}\n",
       ".dl-inline>dt, .dl-inline>dd {float: none; width: auto; display: inline-block}\n",
       ".dl-inline>dt::after {content: \":\\0020\"; padding-right: .5ex}\n",
       ".dl-inline>dt:not(:first-of-type) {padding-left: .5ex}\n",
       "</style><dl class=dl-inline><dt>TCGA-R6-A8W5-01B-11R-A37I-31</dt><dd>0.773608642787186</dd><dt>TCGA-2H-A9GK-01A-11R-A37I-31</dt><dd>2.22101669570682</dd><dt>TCGA-L5-A4OF-01A-11R-A260-31</dt><dd>0.442925355926683</dd><dt>TCGA-L5-A88W-01A-11R-A354-31</dt><dd>0.0776677319114292</dd><dt>TCGA-IG-A6QS-01A-12R-A336-31</dt><dd>0.335178325102419</dd></dl>\n"
      ],
      "text/latex": [
       "\\begin{description*}\n",
       "\\item[TCGA-R6-A8W5-01B-11R-A37I-31] 0.773608642787186\n",
       "\\item[TCGA-2H-A9GK-01A-11R-A37I-31] 2.22101669570682\n",
       "\\item[TCGA-L5-A4OF-01A-11R-A260-31] 0.442925355926683\n",
       "\\item[TCGA-L5-A88W-01A-11R-A354-31] 0.0776677319114292\n",
       "\\item[TCGA-IG-A6QS-01A-12R-A336-31] 0.335178325102419\n",
       "\\end{description*}\n"
      ],
      "text/markdown": [
       "TCGA-R6-A8W5-01B-11R-A37I-31\n",
       ":   0.773608642787186TCGA-2H-A9GK-01A-11R-A37I-31\n",
       ":   2.22101669570682TCGA-L5-A4OF-01A-11R-A260-31\n",
       ":   0.442925355926683TCGA-L5-A88W-01A-11R-A354-31\n",
       ":   0.0776677319114292TCGA-IG-A6QS-01A-12R-A336-31\n",
       ":   0.335178325102419\n",
       "\n"
      ],
      "text/plain": [
       "TCGA-R6-A8W5-01B-11R-A37I-31 TCGA-2H-A9GK-01A-11R-A37I-31 \n",
       "                  0.77360864                   2.22101670 \n",
       "TCGA-L5-A4OF-01A-11R-A260-31 TCGA-L5-A88W-01A-11R-A354-31 \n",
       "                  0.44292536                   0.07766773 \n",
       "TCGA-IG-A6QS-01A-12R-A336-31 \n",
       "                  0.33517833 "
      ]
     },
     "metadata": {},
     "output_type": "display_data"
    }
   ],
   "source": [
    "#calculate mat (ssGSEA Z score - ssgsea output for comparative analysis)\n",
    "mat = (res - rowMeans(res))/(rowSds(as.matrix(res)))[row(res)]\n",
    "dim(mat)\n",
    "mat[1,1:5] "
   ]
  },
  {
   "cell_type": "markdown",
   "metadata": {},
   "source": [
    "#### at this point now have a score for each patient with how enriched that sample is for my signature, the ID here is the \"barcode\"\n",
    "* next want to see how this score correlates with survival etc"
   ]
  },
  {
   "cell_type": "code",
   "execution_count": 17,
   "metadata": {
    "vscode": {
     "languageId": "r"
    }
   },
   "outputs": [
    {
     "data": {
      "text/html": [
       "<style>\n",
       ".list-inline {list-style: none; margin:0; padding: 0}\n",
       ".list-inline>li {display: inline-block}\n",
       ".list-inline>li:not(:last-child)::after {content: \"\\00b7\"; padding: 0 .5ex}\n",
       "</style>\n",
       "<ol class=list-inline><li>'barcode'</li><li>'patient'</li><li>'sample'</li><li>'shortLetterCode'</li><li>'definition'</li><li>'sample_submitter_id'</li><li>'sample_type_id'</li><li>'tumor_descriptor'</li><li>'sample_id'</li><li>'sample_type'</li><li>'composition'</li><li>'days_to_collection'</li><li>'state'</li><li>'initial_weight'</li><li>'preservation_method'</li><li>'pathology_report_uuid'</li><li>'submitter_id'</li><li>'oct_embedded'</li><li>'specimen_type'</li><li>'is_ffpe'</li><li>'tissue_type'</li><li>'synchronous_malignancy'</li><li>'ajcc_pathologic_stage'</li><li>'days_to_diagnosis'</li><li>'treatments'</li><li>'last_known_disease_status'</li><li>'tissue_or_organ_of_origin'</li><li>'days_to_last_follow_up'</li><li>'age_at_diagnosis'</li><li>'primary_diagnosis'</li><li>'prior_malignancy'</li><li>'year_of_diagnosis'</li><li>'prior_treatment'</li><li>'ajcc_staging_system_edition'</li><li>'ajcc_pathologic_t'</li><li>'morphology'</li><li>'ajcc_pathologic_n'</li><li>'ajcc_pathologic_m'</li><li>'classification_of_tumor'</li><li>'diagnosis_id'</li><li>'icd_10_code'</li><li>'site_of_resection_or_biopsy'</li><li>'tumor_grade'</li><li>'progression_or_recurrence'</li><li>'ajcc_clinical_stage'</li><li>'ajcc_clinical_m'</li><li>'ajcc_clinical_n'</li><li>'ajcc_clinical_t'</li><li>'cigarettes_per_day'</li><li>'alcohol_history'</li><li>'exposure_id'</li><li>'pack_years_smoked'</li><li>'race'</li><li>'gender'</li><li>'ethnicity'</li><li>'vital_status'</li><li>'age_at_index'</li><li>'days_to_birth'</li><li>'year_of_birth'</li><li>'demographic_id'</li><li>'days_to_death'</li><li>'year_of_death'</li><li>'bcr_patient_barcode'</li><li>'primary_site'</li><li>'project_id'</li><li>'disease_type'</li><li>'name'</li><li>'releasable'</li><li>'released'</li><li>'paper_patient'</li><li>'paper_EC'</li><li>'paper_ESCC'</li><li>'paper_GEA'</li><li>'paper_GEA-CIN'</li><li>'paper_Disease code'</li><li>'paper_Histological Type - Oesophagus'</li><li>'paper_Histological Type'</li><li>'paper_Oesophageal tumor location'</li><li>'paper_Barretts oesophagus'</li><li>'paper_GEJ Category'</li><li>'paper_Tissue-level Location'</li><li>'paper_Gastroesophageal location'</li><li>'paper_EBV positive'</li><li>'paper_MSI status'</li><li>'paper_SCNA High/Low'</li><li>'paper_Gastric classification'</li><li>'paper_Pathologic T'</li><li>'paper_Pathologic N'</li><li>'paper_Pathologic M'</li><li>'paper_Pathologic stage'</li><li>'paper_Grade'</li><li>'paper_Tobacco Smoking History'</li><li>'paper_Age at initial pathologic diagnosis'</li><li>'paper_Country'</li><li>'paper_Gender'</li><li>'paper_Residual tumor'</li><li>'paper_Days to last known alive'</li><li>'paper_Vital Status'</li><li>'paper_New tumor event after initial treatment'</li><li>'paper_Person neoplasm cancer status'</li><li>'paper_Days from surgery to last followup'</li><li>'paper_Days from surgery to death'</li><li>'paper_Reflux history'</li><li>'paper_Number pack years smoked'</li><li>'paper_MutationRate'</li><li>'paper_Mutation Rate Category'</li><li>'paper_MLH1 epigenetically silenced'</li><li>'paper_CDKN2A silencing'</li><li>'paper_MLH1 methylation'</li><li>'paper_CDKN2A methylation'</li><li>'paper_ERBB2 Amplified'</li><li>'paper_TP53 mutation'</li><li>'paper_SMARCA4 mutation'</li><li>'paper_Percent tumor nuclei'</li><li>'paper_Percent tumor cells'</li><li>'paper_Percent lymphocyte infiltration'</li><li>'paper_Estimated leukocyte percentage'</li><li>'paper_Absolute extract ploidy'</li><li>'paper_Absolute extract purity'</li><li>'paper_Genome doublings'</li><li>'paper_ESCC subtype'</li><li>'paper_DNA Methylation Cluster - EC'</li><li>'paper_SCNA cluster EC'</li><li>'paper_MRNA cluster EC'</li><li>'paper_MiRNA cluster EC'</li><li>'paper_RPPA cluster EC'</li><li>'paper_SCNA cluster GEA'</li><li>'paper_MRNA cluster GEA'</li><li>'paper_DNA Methylation Cluster - GEA'</li><li>'paper_MiRNA cluster GEA'</li><li>'paper_RPPA cluster GEA'</li><li>'paper_SCNA Cluster - GEA-CIN'</li><li>'paper_DNA Methylation Cluster - GEA-CIN'</li><li>'paper_Gene Expression Cluster - GEA-CIN'</li><li>'paper_MicroRNA Expression Cluster - GEA-CIN'</li><li>'paper_RPPA Cluster - GEA-CIN'</li><li>'paper_GEA-CIN Integrated Cluster - COCA'</li><li>'paper_GEA-CIN Integrated Cluster - iCluster'</li><li>'paper_GEA-CIN Integrated Cluster - SuperCluster'</li><li>'paper_GEA-CIN Integrated Cluster - MKL-KNN-4'</li><li>'paper_GEA-CIN Integrated Cluster - MKL-KNN-7'</li></ol>\n"
      ],
      "text/latex": [
       "\\begin{enumerate*}\n",
       "\\item 'barcode'\n",
       "\\item 'patient'\n",
       "\\item 'sample'\n",
       "\\item 'shortLetterCode'\n",
       "\\item 'definition'\n",
       "\\item 'sample\\_submitter\\_id'\n",
       "\\item 'sample\\_type\\_id'\n",
       "\\item 'tumor\\_descriptor'\n",
       "\\item 'sample\\_id'\n",
       "\\item 'sample\\_type'\n",
       "\\item 'composition'\n",
       "\\item 'days\\_to\\_collection'\n",
       "\\item 'state'\n",
       "\\item 'initial\\_weight'\n",
       "\\item 'preservation\\_method'\n",
       "\\item 'pathology\\_report\\_uuid'\n",
       "\\item 'submitter\\_id'\n",
       "\\item 'oct\\_embedded'\n",
       "\\item 'specimen\\_type'\n",
       "\\item 'is\\_ffpe'\n",
       "\\item 'tissue\\_type'\n",
       "\\item 'synchronous\\_malignancy'\n",
       "\\item 'ajcc\\_pathologic\\_stage'\n",
       "\\item 'days\\_to\\_diagnosis'\n",
       "\\item 'treatments'\n",
       "\\item 'last\\_known\\_disease\\_status'\n",
       "\\item 'tissue\\_or\\_organ\\_of\\_origin'\n",
       "\\item 'days\\_to\\_last\\_follow\\_up'\n",
       "\\item 'age\\_at\\_diagnosis'\n",
       "\\item 'primary\\_diagnosis'\n",
       "\\item 'prior\\_malignancy'\n",
       "\\item 'year\\_of\\_diagnosis'\n",
       "\\item 'prior\\_treatment'\n",
       "\\item 'ajcc\\_staging\\_system\\_edition'\n",
       "\\item 'ajcc\\_pathologic\\_t'\n",
       "\\item 'morphology'\n",
       "\\item 'ajcc\\_pathologic\\_n'\n",
       "\\item 'ajcc\\_pathologic\\_m'\n",
       "\\item 'classification\\_of\\_tumor'\n",
       "\\item 'diagnosis\\_id'\n",
       "\\item 'icd\\_10\\_code'\n",
       "\\item 'site\\_of\\_resection\\_or\\_biopsy'\n",
       "\\item 'tumor\\_grade'\n",
       "\\item 'progression\\_or\\_recurrence'\n",
       "\\item 'ajcc\\_clinical\\_stage'\n",
       "\\item 'ajcc\\_clinical\\_m'\n",
       "\\item 'ajcc\\_clinical\\_n'\n",
       "\\item 'ajcc\\_clinical\\_t'\n",
       "\\item 'cigarettes\\_per\\_day'\n",
       "\\item 'alcohol\\_history'\n",
       "\\item 'exposure\\_id'\n",
       "\\item 'pack\\_years\\_smoked'\n",
       "\\item 'race'\n",
       "\\item 'gender'\n",
       "\\item 'ethnicity'\n",
       "\\item 'vital\\_status'\n",
       "\\item 'age\\_at\\_index'\n",
       "\\item 'days\\_to\\_birth'\n",
       "\\item 'year\\_of\\_birth'\n",
       "\\item 'demographic\\_id'\n",
       "\\item 'days\\_to\\_death'\n",
       "\\item 'year\\_of\\_death'\n",
       "\\item 'bcr\\_patient\\_barcode'\n",
       "\\item 'primary\\_site'\n",
       "\\item 'project\\_id'\n",
       "\\item 'disease\\_type'\n",
       "\\item 'name'\n",
       "\\item 'releasable'\n",
       "\\item 'released'\n",
       "\\item 'paper\\_patient'\n",
       "\\item 'paper\\_EC'\n",
       "\\item 'paper\\_ESCC'\n",
       "\\item 'paper\\_GEA'\n",
       "\\item 'paper\\_GEA-CIN'\n",
       "\\item 'paper\\_Disease code'\n",
       "\\item 'paper\\_Histological Type - Oesophagus'\n",
       "\\item 'paper\\_Histological Type'\n",
       "\\item 'paper\\_Oesophageal tumor location'\n",
       "\\item 'paper\\_Barretts oesophagus'\n",
       "\\item 'paper\\_GEJ Category'\n",
       "\\item 'paper\\_Tissue-level Location'\n",
       "\\item 'paper\\_Gastroesophageal location'\n",
       "\\item 'paper\\_EBV positive'\n",
       "\\item 'paper\\_MSI status'\n",
       "\\item 'paper\\_SCNA High/Low'\n",
       "\\item 'paper\\_Gastric classification'\n",
       "\\item 'paper\\_Pathologic T'\n",
       "\\item 'paper\\_Pathologic N'\n",
       "\\item 'paper\\_Pathologic M'\n",
       "\\item 'paper\\_Pathologic stage'\n",
       "\\item 'paper\\_Grade'\n",
       "\\item 'paper\\_Tobacco Smoking History'\n",
       "\\item 'paper\\_Age at initial pathologic diagnosis'\n",
       "\\item 'paper\\_Country'\n",
       "\\item 'paper\\_Gender'\n",
       "\\item 'paper\\_Residual tumor'\n",
       "\\item 'paper\\_Days to last known alive'\n",
       "\\item 'paper\\_Vital Status'\n",
       "\\item 'paper\\_New tumor event after initial treatment'\n",
       "\\item 'paper\\_Person neoplasm cancer status'\n",
       "\\item 'paper\\_Days from surgery to last followup'\n",
       "\\item 'paper\\_Days from surgery to death'\n",
       "\\item 'paper\\_Reflux history'\n",
       "\\item 'paper\\_Number pack years smoked'\n",
       "\\item 'paper\\_MutationRate'\n",
       "\\item 'paper\\_Mutation Rate Category'\n",
       "\\item 'paper\\_MLH1 epigenetically silenced'\n",
       "\\item 'paper\\_CDKN2A silencing'\n",
       "\\item 'paper\\_MLH1 methylation'\n",
       "\\item 'paper\\_CDKN2A methylation'\n",
       "\\item 'paper\\_ERBB2 Amplified'\n",
       "\\item 'paper\\_TP53 mutation'\n",
       "\\item 'paper\\_SMARCA4 mutation'\n",
       "\\item 'paper\\_Percent tumor nuclei'\n",
       "\\item 'paper\\_Percent tumor cells'\n",
       "\\item 'paper\\_Percent lymphocyte infiltration'\n",
       "\\item 'paper\\_Estimated leukocyte percentage'\n",
       "\\item 'paper\\_Absolute extract ploidy'\n",
       "\\item 'paper\\_Absolute extract purity'\n",
       "\\item 'paper\\_Genome doublings'\n",
       "\\item 'paper\\_ESCC subtype'\n",
       "\\item 'paper\\_DNA Methylation Cluster - EC'\n",
       "\\item 'paper\\_SCNA cluster EC'\n",
       "\\item 'paper\\_MRNA cluster EC'\n",
       "\\item 'paper\\_MiRNA cluster EC'\n",
       "\\item 'paper\\_RPPA cluster EC'\n",
       "\\item 'paper\\_SCNA cluster GEA'\n",
       "\\item 'paper\\_MRNA cluster GEA'\n",
       "\\item 'paper\\_DNA Methylation Cluster - GEA'\n",
       "\\item 'paper\\_MiRNA cluster GEA'\n",
       "\\item 'paper\\_RPPA cluster GEA'\n",
       "\\item 'paper\\_SCNA Cluster - GEA-CIN'\n",
       "\\item 'paper\\_DNA Methylation Cluster - GEA-CIN'\n",
       "\\item 'paper\\_Gene Expression Cluster - GEA-CIN'\n",
       "\\item 'paper\\_MicroRNA Expression Cluster - GEA-CIN'\n",
       "\\item 'paper\\_RPPA Cluster - GEA-CIN'\n",
       "\\item 'paper\\_GEA-CIN Integrated Cluster - COCA'\n",
       "\\item 'paper\\_GEA-CIN Integrated Cluster - iCluster'\n",
       "\\item 'paper\\_GEA-CIN Integrated Cluster - SuperCluster'\n",
       "\\item 'paper\\_GEA-CIN Integrated Cluster - MKL-KNN-4'\n",
       "\\item 'paper\\_GEA-CIN Integrated Cluster - MKL-KNN-7'\n",
       "\\end{enumerate*}\n"
      ],
      "text/markdown": [
       "1. 'barcode'\n",
       "2. 'patient'\n",
       "3. 'sample'\n",
       "4. 'shortLetterCode'\n",
       "5. 'definition'\n",
       "6. 'sample_submitter_id'\n",
       "7. 'sample_type_id'\n",
       "8. 'tumor_descriptor'\n",
       "9. 'sample_id'\n",
       "10. 'sample_type'\n",
       "11. 'composition'\n",
       "12. 'days_to_collection'\n",
       "13. 'state'\n",
       "14. 'initial_weight'\n",
       "15. 'preservation_method'\n",
       "16. 'pathology_report_uuid'\n",
       "17. 'submitter_id'\n",
       "18. 'oct_embedded'\n",
       "19. 'specimen_type'\n",
       "20. 'is_ffpe'\n",
       "21. 'tissue_type'\n",
       "22. 'synchronous_malignancy'\n",
       "23. 'ajcc_pathologic_stage'\n",
       "24. 'days_to_diagnosis'\n",
       "25. 'treatments'\n",
       "26. 'last_known_disease_status'\n",
       "27. 'tissue_or_organ_of_origin'\n",
       "28. 'days_to_last_follow_up'\n",
       "29. 'age_at_diagnosis'\n",
       "30. 'primary_diagnosis'\n",
       "31. 'prior_malignancy'\n",
       "32. 'year_of_diagnosis'\n",
       "33. 'prior_treatment'\n",
       "34. 'ajcc_staging_system_edition'\n",
       "35. 'ajcc_pathologic_t'\n",
       "36. 'morphology'\n",
       "37. 'ajcc_pathologic_n'\n",
       "38. 'ajcc_pathologic_m'\n",
       "39. 'classification_of_tumor'\n",
       "40. 'diagnosis_id'\n",
       "41. 'icd_10_code'\n",
       "42. 'site_of_resection_or_biopsy'\n",
       "43. 'tumor_grade'\n",
       "44. 'progression_or_recurrence'\n",
       "45. 'ajcc_clinical_stage'\n",
       "46. 'ajcc_clinical_m'\n",
       "47. 'ajcc_clinical_n'\n",
       "48. 'ajcc_clinical_t'\n",
       "49. 'cigarettes_per_day'\n",
       "50. 'alcohol_history'\n",
       "51. 'exposure_id'\n",
       "52. 'pack_years_smoked'\n",
       "53. 'race'\n",
       "54. 'gender'\n",
       "55. 'ethnicity'\n",
       "56. 'vital_status'\n",
       "57. 'age_at_index'\n",
       "58. 'days_to_birth'\n",
       "59. 'year_of_birth'\n",
       "60. 'demographic_id'\n",
       "61. 'days_to_death'\n",
       "62. 'year_of_death'\n",
       "63. 'bcr_patient_barcode'\n",
       "64. 'primary_site'\n",
       "65. 'project_id'\n",
       "66. 'disease_type'\n",
       "67. 'name'\n",
       "68. 'releasable'\n",
       "69. 'released'\n",
       "70. 'paper_patient'\n",
       "71. 'paper_EC'\n",
       "72. 'paper_ESCC'\n",
       "73. 'paper_GEA'\n",
       "74. 'paper_GEA-CIN'\n",
       "75. 'paper_Disease code'\n",
       "76. 'paper_Histological Type - Oesophagus'\n",
       "77. 'paper_Histological Type'\n",
       "78. 'paper_Oesophageal tumor location'\n",
       "79. 'paper_Barretts oesophagus'\n",
       "80. 'paper_GEJ Category'\n",
       "81. 'paper_Tissue-level Location'\n",
       "82. 'paper_Gastroesophageal location'\n",
       "83. 'paper_EBV positive'\n",
       "84. 'paper_MSI status'\n",
       "85. 'paper_SCNA High/Low'\n",
       "86. 'paper_Gastric classification'\n",
       "87. 'paper_Pathologic T'\n",
       "88. 'paper_Pathologic N'\n",
       "89. 'paper_Pathologic M'\n",
       "90. 'paper_Pathologic stage'\n",
       "91. 'paper_Grade'\n",
       "92. 'paper_Tobacco Smoking History'\n",
       "93. 'paper_Age at initial pathologic diagnosis'\n",
       "94. 'paper_Country'\n",
       "95. 'paper_Gender'\n",
       "96. 'paper_Residual tumor'\n",
       "97. 'paper_Days to last known alive'\n",
       "98. 'paper_Vital Status'\n",
       "99. 'paper_New tumor event after initial treatment'\n",
       "100. 'paper_Person neoplasm cancer status'\n",
       "101. 'paper_Days from surgery to last followup'\n",
       "102. 'paper_Days from surgery to death'\n",
       "103. 'paper_Reflux history'\n",
       "104. 'paper_Number pack years smoked'\n",
       "105. 'paper_MutationRate'\n",
       "106. 'paper_Mutation Rate Category'\n",
       "107. 'paper_MLH1 epigenetically silenced'\n",
       "108. 'paper_CDKN2A silencing'\n",
       "109. 'paper_MLH1 methylation'\n",
       "110. 'paper_CDKN2A methylation'\n",
       "111. 'paper_ERBB2 Amplified'\n",
       "112. 'paper_TP53 mutation'\n",
       "113. 'paper_SMARCA4 mutation'\n",
       "114. 'paper_Percent tumor nuclei'\n",
       "115. 'paper_Percent tumor cells'\n",
       "116. 'paper_Percent lymphocyte infiltration'\n",
       "117. 'paper_Estimated leukocyte percentage'\n",
       "118. 'paper_Absolute extract ploidy'\n",
       "119. 'paper_Absolute extract purity'\n",
       "120. 'paper_Genome doublings'\n",
       "121. 'paper_ESCC subtype'\n",
       "122. 'paper_DNA Methylation Cluster - EC'\n",
       "123. 'paper_SCNA cluster EC'\n",
       "124. 'paper_MRNA cluster EC'\n",
       "125. 'paper_MiRNA cluster EC'\n",
       "126. 'paper_RPPA cluster EC'\n",
       "127. 'paper_SCNA cluster GEA'\n",
       "128. 'paper_MRNA cluster GEA'\n",
       "129. 'paper_DNA Methylation Cluster - GEA'\n",
       "130. 'paper_MiRNA cluster GEA'\n",
       "131. 'paper_RPPA cluster GEA'\n",
       "132. 'paper_SCNA Cluster - GEA-CIN'\n",
       "133. 'paper_DNA Methylation Cluster - GEA-CIN'\n",
       "134. 'paper_Gene Expression Cluster - GEA-CIN'\n",
       "135. 'paper_MicroRNA Expression Cluster - GEA-CIN'\n",
       "136. 'paper_RPPA Cluster - GEA-CIN'\n",
       "137. 'paper_GEA-CIN Integrated Cluster - COCA'\n",
       "138. 'paper_GEA-CIN Integrated Cluster - iCluster'\n",
       "139. 'paper_GEA-CIN Integrated Cluster - SuperCluster'\n",
       "140. 'paper_GEA-CIN Integrated Cluster - MKL-KNN-4'\n",
       "141. 'paper_GEA-CIN Integrated Cluster - MKL-KNN-7'\n",
       "\n",
       "\n"
      ],
      "text/plain": [
       "  [1] \"barcode\"                                        \n",
       "  [2] \"patient\"                                        \n",
       "  [3] \"sample\"                                         \n",
       "  [4] \"shortLetterCode\"                                \n",
       "  [5] \"definition\"                                     \n",
       "  [6] \"sample_submitter_id\"                            \n",
       "  [7] \"sample_type_id\"                                 \n",
       "  [8] \"tumor_descriptor\"                               \n",
       "  [9] \"sample_id\"                                      \n",
       " [10] \"sample_type\"                                    \n",
       " [11] \"composition\"                                    \n",
       " [12] \"days_to_collection\"                             \n",
       " [13] \"state\"                                          \n",
       " [14] \"initial_weight\"                                 \n",
       " [15] \"preservation_method\"                            \n",
       " [16] \"pathology_report_uuid\"                          \n",
       " [17] \"submitter_id\"                                   \n",
       " [18] \"oct_embedded\"                                   \n",
       " [19] \"specimen_type\"                                  \n",
       " [20] \"is_ffpe\"                                        \n",
       " [21] \"tissue_type\"                                    \n",
       " [22] \"synchronous_malignancy\"                         \n",
       " [23] \"ajcc_pathologic_stage\"                          \n",
       " [24] \"days_to_diagnosis\"                              \n",
       " [25] \"treatments\"                                     \n",
       " [26] \"last_known_disease_status\"                      \n",
       " [27] \"tissue_or_organ_of_origin\"                      \n",
       " [28] \"days_to_last_follow_up\"                         \n",
       " [29] \"age_at_diagnosis\"                               \n",
       " [30] \"primary_diagnosis\"                              \n",
       " [31] \"prior_malignancy\"                               \n",
       " [32] \"year_of_diagnosis\"                              \n",
       " [33] \"prior_treatment\"                                \n",
       " [34] \"ajcc_staging_system_edition\"                    \n",
       " [35] \"ajcc_pathologic_t\"                              \n",
       " [36] \"morphology\"                                     \n",
       " [37] \"ajcc_pathologic_n\"                              \n",
       " [38] \"ajcc_pathologic_m\"                              \n",
       " [39] \"classification_of_tumor\"                        \n",
       " [40] \"diagnosis_id\"                                   \n",
       " [41] \"icd_10_code\"                                    \n",
       " [42] \"site_of_resection_or_biopsy\"                    \n",
       " [43] \"tumor_grade\"                                    \n",
       " [44] \"progression_or_recurrence\"                      \n",
       " [45] \"ajcc_clinical_stage\"                            \n",
       " [46] \"ajcc_clinical_m\"                                \n",
       " [47] \"ajcc_clinical_n\"                                \n",
       " [48] \"ajcc_clinical_t\"                                \n",
       " [49] \"cigarettes_per_day\"                             \n",
       " [50] \"alcohol_history\"                                \n",
       " [51] \"exposure_id\"                                    \n",
       " [52] \"pack_years_smoked\"                              \n",
       " [53] \"race\"                                           \n",
       " [54] \"gender\"                                         \n",
       " [55] \"ethnicity\"                                      \n",
       " [56] \"vital_status\"                                   \n",
       " [57] \"age_at_index\"                                   \n",
       " [58] \"days_to_birth\"                                  \n",
       " [59] \"year_of_birth\"                                  \n",
       " [60] \"demographic_id\"                                 \n",
       " [61] \"days_to_death\"                                  \n",
       " [62] \"year_of_death\"                                  \n",
       " [63] \"bcr_patient_barcode\"                            \n",
       " [64] \"primary_site\"                                   \n",
       " [65] \"project_id\"                                     \n",
       " [66] \"disease_type\"                                   \n",
       " [67] \"name\"                                           \n",
       " [68] \"releasable\"                                     \n",
       " [69] \"released\"                                       \n",
       " [70] \"paper_patient\"                                  \n",
       " [71] \"paper_EC\"                                       \n",
       " [72] \"paper_ESCC\"                                     \n",
       " [73] \"paper_GEA\"                                      \n",
       " [74] \"paper_GEA-CIN\"                                  \n",
       " [75] \"paper_Disease code\"                             \n",
       " [76] \"paper_Histological Type - Oesophagus\"           \n",
       " [77] \"paper_Histological Type\"                        \n",
       " [78] \"paper_Oesophageal tumor location\"               \n",
       " [79] \"paper_Barretts oesophagus\"                      \n",
       " [80] \"paper_GEJ Category\"                             \n",
       " [81] \"paper_Tissue-level Location\"                    \n",
       " [82] \"paper_Gastroesophageal location\"                \n",
       " [83] \"paper_EBV positive\"                             \n",
       " [84] \"paper_MSI status\"                               \n",
       " [85] \"paper_SCNA High/Low\"                            \n",
       " [86] \"paper_Gastric classification\"                   \n",
       " [87] \"paper_Pathologic T\"                             \n",
       " [88] \"paper_Pathologic N\"                             \n",
       " [89] \"paper_Pathologic M\"                             \n",
       " [90] \"paper_Pathologic stage\"                         \n",
       " [91] \"paper_Grade\"                                    \n",
       " [92] \"paper_Tobacco Smoking History\"                  \n",
       " [93] \"paper_Age at initial pathologic diagnosis\"      \n",
       " [94] \"paper_Country\"                                  \n",
       " [95] \"paper_Gender\"                                   \n",
       " [96] \"paper_Residual tumor\"                           \n",
       " [97] \"paper_Days to last known alive\"                 \n",
       " [98] \"paper_Vital Status\"                             \n",
       " [99] \"paper_New tumor event after initial treatment\"  \n",
       "[100] \"paper_Person neoplasm cancer status\"            \n",
       "[101] \"paper_Days from surgery to last followup\"       \n",
       "[102] \"paper_Days from surgery to death\"               \n",
       "[103] \"paper_Reflux history\"                           \n",
       "[104] \"paper_Number pack years smoked\"                 \n",
       "[105] \"paper_MutationRate\"                             \n",
       "[106] \"paper_Mutation Rate Category\"                   \n",
       "[107] \"paper_MLH1 epigenetically silenced\"             \n",
       "[108] \"paper_CDKN2A silencing\"                         \n",
       "[109] \"paper_MLH1 methylation\"                         \n",
       "[110] \"paper_CDKN2A methylation\"                       \n",
       "[111] \"paper_ERBB2 Amplified\"                          \n",
       "[112] \"paper_TP53 mutation\"                            \n",
       "[113] \"paper_SMARCA4 mutation\"                         \n",
       "[114] \"paper_Percent tumor nuclei\"                     \n",
       "[115] \"paper_Percent tumor cells\"                      \n",
       "[116] \"paper_Percent lymphocyte infiltration\"          \n",
       "[117] \"paper_Estimated leukocyte percentage\"           \n",
       "[118] \"paper_Absolute extract ploidy\"                  \n",
       "[119] \"paper_Absolute extract purity\"                  \n",
       "[120] \"paper_Genome doublings\"                         \n",
       "[121] \"paper_ESCC subtype\"                             \n",
       "[122] \"paper_DNA Methylation Cluster - EC\"             \n",
       "[123] \"paper_SCNA cluster EC\"                          \n",
       "[124] \"paper_MRNA cluster EC\"                          \n",
       "[125] \"paper_MiRNA cluster EC\"                         \n",
       "[126] \"paper_RPPA cluster EC\"                          \n",
       "[127] \"paper_SCNA cluster GEA\"                         \n",
       "[128] \"paper_MRNA cluster GEA\"                         \n",
       "[129] \"paper_DNA Methylation Cluster - GEA\"            \n",
       "[130] \"paper_MiRNA cluster GEA\"                        \n",
       "[131] \"paper_RPPA cluster GEA\"                         \n",
       "[132] \"paper_SCNA Cluster - GEA-CIN\"                   \n",
       "[133] \"paper_DNA Methylation Cluster - GEA-CIN\"        \n",
       "[134] \"paper_Gene Expression Cluster - GEA-CIN\"        \n",
       "[135] \"paper_MicroRNA Expression Cluster - GEA-CIN\"    \n",
       "[136] \"paper_RPPA Cluster - GEA-CIN\"                   \n",
       "[137] \"paper_GEA-CIN Integrated Cluster - COCA\"        \n",
       "[138] \"paper_GEA-CIN Integrated Cluster - iCluster\"    \n",
       "[139] \"paper_GEA-CIN Integrated Cluster - SuperCluster\"\n",
       "[140] \"paper_GEA-CIN Integrated Cluster - MKL-KNN-4\"   \n",
       "[141] \"paper_GEA-CIN Integrated Cluster - MKL-KNN-7\"   "
      ]
     },
     "metadata": {},
     "output_type": "display_data"
    }
   ],
   "source": [
    "#to view the types of data stored for each sample \n",
    "colnames(colData(primary))"
   ]
  },
  {
   "cell_type": "code",
   "execution_count": 18,
   "metadata": {
    "vscode": {
     "languageId": "r"
    }
   },
   "outputs": [
    {
     "data": {
      "text/html": [
       "<style>\n",
       ".list-inline {list-style: none; margin:0; padding: 0}\n",
       ".list-inline>li {display: inline-block}\n",
       ".list-inline>li:not(:last-child)::after {content: \"\\00b7\"; padding: 0 .5ex}\n",
       "</style>\n",
       "<ol class=list-inline><li>184</li><li>1</li></ol>\n"
      ],
      "text/latex": [
       "\\begin{enumerate*}\n",
       "\\item 184\n",
       "\\item 1\n",
       "\\end{enumerate*}\n"
      ],
      "text/markdown": [
       "1. 184\n",
       "2. 1\n",
       "\n",
       "\n"
      ],
      "text/plain": [
       "[1] 184   1"
      ]
     },
     "metadata": {},
     "output_type": "display_data"
    },
    {
     "data": {
      "text/html": [
       "<table class=\"dataframe\">\n",
       "<caption>A matrix: 6 × 1 of type dbl</caption>\n",
       "<thead>\n",
       "\t<tr><th></th><th scope=col>mat</th></tr>\n",
       "</thead>\n",
       "<tbody>\n",
       "\t<tr><th scope=row>TCGA-R6-A8W5-01B-11R-A37I-31</th><td> 0.77360864</td></tr>\n",
       "\t<tr><th scope=row>TCGA-2H-A9GK-01A-11R-A37I-31</th><td> 2.22101670</td></tr>\n",
       "\t<tr><th scope=row>TCGA-L5-A4OF-01A-11R-A260-31</th><td> 0.44292536</td></tr>\n",
       "\t<tr><th scope=row>TCGA-L5-A88W-01A-11R-A354-31</th><td> 0.07766773</td></tr>\n",
       "\t<tr><th scope=row>TCGA-IG-A6QS-01A-12R-A336-31</th><td> 0.33517833</td></tr>\n",
       "\t<tr><th scope=row>TCGA-L5-A8NN-01A-11R-A37I-31</th><td>-0.45220573</td></tr>\n",
       "</tbody>\n",
       "</table>\n"
      ],
      "text/latex": [
       "A matrix: 6 × 1 of type dbl\n",
       "\\begin{tabular}{r|l}\n",
       "  & mat\\\\\n",
       "\\hline\n",
       "\tTCGA-R6-A8W5-01B-11R-A37I-31 &  0.77360864\\\\\n",
       "\tTCGA-2H-A9GK-01A-11R-A37I-31 &  2.22101670\\\\\n",
       "\tTCGA-L5-A4OF-01A-11R-A260-31 &  0.44292536\\\\\n",
       "\tTCGA-L5-A88W-01A-11R-A354-31 &  0.07766773\\\\\n",
       "\tTCGA-IG-A6QS-01A-12R-A336-31 &  0.33517833\\\\\n",
       "\tTCGA-L5-A8NN-01A-11R-A37I-31 & -0.45220573\\\\\n",
       "\\end{tabular}\n"
      ],
      "text/markdown": [
       "\n",
       "A matrix: 6 × 1 of type dbl\n",
       "\n",
       "| <!--/--> | mat |\n",
       "|---|---|\n",
       "| TCGA-R6-A8W5-01B-11R-A37I-31 |  0.77360864 |\n",
       "| TCGA-2H-A9GK-01A-11R-A37I-31 |  2.22101670 |\n",
       "| TCGA-L5-A4OF-01A-11R-A260-31 |  0.44292536 |\n",
       "| TCGA-L5-A88W-01A-11R-A354-31 |  0.07766773 |\n",
       "| TCGA-IG-A6QS-01A-12R-A336-31 |  0.33517833 |\n",
       "| TCGA-L5-A8NN-01A-11R-A37I-31 | -0.45220573 |\n",
       "\n"
      ],
      "text/plain": [
       "                             mat        \n",
       "TCGA-R6-A8W5-01B-11R-A37I-31  0.77360864\n",
       "TCGA-2H-A9GK-01A-11R-A37I-31  2.22101670\n",
       "TCGA-L5-A4OF-01A-11R-A260-31  0.44292536\n",
       "TCGA-L5-A88W-01A-11R-A354-31  0.07766773\n",
       "TCGA-IG-A6QS-01A-12R-A336-31  0.33517833\n",
       "TCGA-L5-A8NN-01A-11R-A37I-31 -0.45220573"
      ]
     },
     "metadata": {},
     "output_type": "display_data"
    }
   ],
   "source": [
    "#change column name\n",
    "mat <- t(mat)\n",
    "dim(mat)\n",
    "colnames(mat) <- c(\"mat\")\n",
    "head(mat)"
   ]
  },
  {
   "cell_type": "code",
   "execution_count": 19,
   "metadata": {
    "vscode": {
     "languageId": "r"
    }
   },
   "outputs": [
    {
     "data": {
      "text/html": [
       "<table class=\"dataframe\">\n",
       "<caption>A matrix: 6 × 4 of type chr</caption>\n",
       "<thead>\n",
       "\t<tr><th></th><th scope=col>mat</th><th scope=col>Days_to_last_follow_up</th><th scope=col>vital_status</th><th scope=col>days_to_death</th></tr>\n",
       "</thead>\n",
       "<tbody>\n",
       "\t<tr><th scope=row>TCGA-R6-A8W5-01B-11R-A37I-31</th><td>0.773608642787186 </td><td>NA </td><td>Dead </td><td>480</td></tr>\n",
       "\t<tr><th scope=row>TCGA-2H-A9GK-01A-11R-A37I-31</th><td>2.22101669570682  </td><td>NA </td><td>Dead </td><td>232</td></tr>\n",
       "\t<tr><th scope=row>TCGA-L5-A4OF-01A-11R-A260-31</th><td>0.442925355926683 </td><td>112</td><td>Dead </td><td>801</td></tr>\n",
       "\t<tr><th scope=row>TCGA-L5-A88W-01A-11R-A354-31</th><td>0.0776677319114292</td><td>NA </td><td>Dead </td><td>764</td></tr>\n",
       "\t<tr><th scope=row>TCGA-IG-A6QS-01A-12R-A336-31</th><td>0.335178325102419 </td><td>4  </td><td>Dead </td><td>303</td></tr>\n",
       "\t<tr><th scope=row>TCGA-L5-A8NN-01A-11R-A37I-31</th><td>-0.452205729914384</td><td>167</td><td>Alive</td><td>NA </td></tr>\n",
       "</tbody>\n",
       "</table>\n"
      ],
      "text/latex": [
       "A matrix: 6 × 4 of type chr\n",
       "\\begin{tabular}{r|llll}\n",
       "  & mat & Days\\_to\\_last\\_follow\\_up & vital\\_status & days\\_to\\_death\\\\\n",
       "\\hline\n",
       "\tTCGA-R6-A8W5-01B-11R-A37I-31 & 0.773608642787186  & NA  & Dead  & 480\\\\\n",
       "\tTCGA-2H-A9GK-01A-11R-A37I-31 & 2.22101669570682   & NA  & Dead  & 232\\\\\n",
       "\tTCGA-L5-A4OF-01A-11R-A260-31 & 0.442925355926683  & 112 & Dead  & 801\\\\\n",
       "\tTCGA-L5-A88W-01A-11R-A354-31 & 0.0776677319114292 & NA  & Dead  & 764\\\\\n",
       "\tTCGA-IG-A6QS-01A-12R-A336-31 & 0.335178325102419  & 4   & Dead  & 303\\\\\n",
       "\tTCGA-L5-A8NN-01A-11R-A37I-31 & -0.452205729914384 & 167 & Alive & NA \\\\\n",
       "\\end{tabular}\n"
      ],
      "text/markdown": [
       "\n",
       "A matrix: 6 × 4 of type chr\n",
       "\n",
       "| <!--/--> | mat | Days_to_last_follow_up | vital_status | days_to_death |\n",
       "|---|---|---|---|---|\n",
       "| TCGA-R6-A8W5-01B-11R-A37I-31 | 0.773608642787186  | NA  | Dead  | 480 |\n",
       "| TCGA-2H-A9GK-01A-11R-A37I-31 | 2.22101669570682   | NA  | Dead  | 232 |\n",
       "| TCGA-L5-A4OF-01A-11R-A260-31 | 0.442925355926683  | 112 | Dead  | 801 |\n",
       "| TCGA-L5-A88W-01A-11R-A354-31 | 0.0776677319114292 | NA  | Dead  | 764 |\n",
       "| TCGA-IG-A6QS-01A-12R-A336-31 | 0.335178325102419  | 4   | Dead  | 303 |\n",
       "| TCGA-L5-A8NN-01A-11R-A37I-31 | -0.452205729914384 | 167 | Alive | NA  |\n",
       "\n"
      ],
      "text/plain": [
       "                             mat                Days_to_last_follow_up\n",
       "TCGA-R6-A8W5-01B-11R-A37I-31 0.773608642787186  NA                    \n",
       "TCGA-2H-A9GK-01A-11R-A37I-31 2.22101669570682   NA                    \n",
       "TCGA-L5-A4OF-01A-11R-A260-31 0.442925355926683  112                   \n",
       "TCGA-L5-A88W-01A-11R-A354-31 0.0776677319114292 NA                    \n",
       "TCGA-IG-A6QS-01A-12R-A336-31 0.335178325102419  4                     \n",
       "TCGA-L5-A8NN-01A-11R-A37I-31 -0.452205729914384 167                   \n",
       "                             vital_status days_to_death\n",
       "TCGA-R6-A8W5-01B-11R-A37I-31 Dead         480          \n",
       "TCGA-2H-A9GK-01A-11R-A37I-31 Dead         232          \n",
       "TCGA-L5-A4OF-01A-11R-A260-31 Dead         801          \n",
       "TCGA-L5-A88W-01A-11R-A354-31 Dead         764          \n",
       "TCGA-IG-A6QS-01A-12R-A336-31 Dead         303          \n",
       "TCGA-L5-A8NN-01A-11R-A37I-31 Alive        NA           "
      ]
     },
     "metadata": {},
     "output_type": "display_data"
    }
   ],
   "source": [
    "#now look at days to death, plot K-M curved grouped by groups of mat score \n",
    "###following this tutorial: https://www.youtube.com/watch?v=DnygUTAZFmM\n",
    "\n",
    "#making a matrix with all the data I need\n",
    "death_days <- colData(primary)$days_to_death\n",
    "names(death_days) <- row.names(colData(primary))\n",
    "followup_days <- colData(primary)$days_to_last_follow_up\n",
    "names(followup_days) <- row.names(colData(primary))\n",
    "status <- colData(primary)$vital_status\n",
    "names(status) <- row.names(colData(primary))\n",
    "\n",
    "concat_survival <- cbind(mat,followup_days,status,death_days)\n",
    "colnames(concat_survival) <- c(\"mat\",\"Days_to_last_follow_up\",\"vital_status\",\"days_to_death\")\n",
    "head(concat_survival) \n",
    "concat_survival <- as.data.frame(concat_survival)\n",
    "#now I have a table with the above variables for each patient"
   ]
  },
  {
   "cell_type": "code",
   "execution_count": 20,
   "metadata": {
    "vscode": {
     "languageId": "r"
    }
   },
   "outputs": [
    {
     "data": {
      "text/html": [
       "<table class=\"dataframe\">\n",
       "<caption>A data.frame: 6 × 5</caption>\n",
       "<thead>\n",
       "\t<tr><th></th><th scope=col>mat</th><th scope=col>Days_to_last_follow_up</th><th scope=col>vital_status</th><th scope=col>days_to_death</th><th scope=col>deceased</th></tr>\n",
       "\t<tr><th></th><th scope=col>&lt;chr&gt;</th><th scope=col>&lt;chr&gt;</th><th scope=col>&lt;chr&gt;</th><th scope=col>&lt;chr&gt;</th><th scope=col>&lt;lgl&gt;</th></tr>\n",
       "</thead>\n",
       "<tbody>\n",
       "\t<tr><th scope=row>TCGA-R6-A8W5-01B-11R-A37I-31</th><td>0.773608642787186 </td><td>NA </td><td>Dead </td><td>480</td><td> TRUE</td></tr>\n",
       "\t<tr><th scope=row>TCGA-2H-A9GK-01A-11R-A37I-31</th><td>2.22101669570682  </td><td>NA </td><td>Dead </td><td>232</td><td> TRUE</td></tr>\n",
       "\t<tr><th scope=row>TCGA-L5-A4OF-01A-11R-A260-31</th><td>0.442925355926683 </td><td>112</td><td>Dead </td><td>801</td><td> TRUE</td></tr>\n",
       "\t<tr><th scope=row>TCGA-L5-A88W-01A-11R-A354-31</th><td>0.0776677319114292</td><td>NA </td><td>Dead </td><td>764</td><td> TRUE</td></tr>\n",
       "\t<tr><th scope=row>TCGA-IG-A6QS-01A-12R-A336-31</th><td>0.335178325102419 </td><td>4  </td><td>Dead </td><td>303</td><td> TRUE</td></tr>\n",
       "\t<tr><th scope=row>TCGA-L5-A8NN-01A-11R-A37I-31</th><td>-0.452205729914384</td><td>167</td><td>Alive</td><td>NA </td><td>FALSE</td></tr>\n",
       "</tbody>\n",
       "</table>\n"
      ],
      "text/latex": [
       "A data.frame: 6 × 5\n",
       "\\begin{tabular}{r|lllll}\n",
       "  & mat & Days\\_to\\_last\\_follow\\_up & vital\\_status & days\\_to\\_death & deceased\\\\\n",
       "  & <chr> & <chr> & <chr> & <chr> & <lgl>\\\\\n",
       "\\hline\n",
       "\tTCGA-R6-A8W5-01B-11R-A37I-31 & 0.773608642787186  & NA  & Dead  & 480 &  TRUE\\\\\n",
       "\tTCGA-2H-A9GK-01A-11R-A37I-31 & 2.22101669570682   & NA  & Dead  & 232 &  TRUE\\\\\n",
       "\tTCGA-L5-A4OF-01A-11R-A260-31 & 0.442925355926683  & 112 & Dead  & 801 &  TRUE\\\\\n",
       "\tTCGA-L5-A88W-01A-11R-A354-31 & 0.0776677319114292 & NA  & Dead  & 764 &  TRUE\\\\\n",
       "\tTCGA-IG-A6QS-01A-12R-A336-31 & 0.335178325102419  & 4   & Dead  & 303 &  TRUE\\\\\n",
       "\tTCGA-L5-A8NN-01A-11R-A37I-31 & -0.452205729914384 & 167 & Alive & NA  & FALSE\\\\\n",
       "\\end{tabular}\n"
      ],
      "text/markdown": [
       "\n",
       "A data.frame: 6 × 5\n",
       "\n",
       "| <!--/--> | mat &lt;chr&gt; | Days_to_last_follow_up &lt;chr&gt; | vital_status &lt;chr&gt; | days_to_death &lt;chr&gt; | deceased &lt;lgl&gt; |\n",
       "|---|---|---|---|---|---|\n",
       "| TCGA-R6-A8W5-01B-11R-A37I-31 | 0.773608642787186  | NA  | Dead  | 480 |  TRUE |\n",
       "| TCGA-2H-A9GK-01A-11R-A37I-31 | 2.22101669570682   | NA  | Dead  | 232 |  TRUE |\n",
       "| TCGA-L5-A4OF-01A-11R-A260-31 | 0.442925355926683  | 112 | Dead  | 801 |  TRUE |\n",
       "| TCGA-L5-A88W-01A-11R-A354-31 | 0.0776677319114292 | NA  | Dead  | 764 |  TRUE |\n",
       "| TCGA-IG-A6QS-01A-12R-A336-31 | 0.335178325102419  | 4   | Dead  | 303 |  TRUE |\n",
       "| TCGA-L5-A8NN-01A-11R-A37I-31 | -0.452205729914384 | 167 | Alive | NA  | FALSE |\n",
       "\n"
      ],
      "text/plain": [
       "                             mat                Days_to_last_follow_up\n",
       "TCGA-R6-A8W5-01B-11R-A37I-31 0.773608642787186  NA                    \n",
       "TCGA-2H-A9GK-01A-11R-A37I-31 2.22101669570682   NA                    \n",
       "TCGA-L5-A4OF-01A-11R-A260-31 0.442925355926683  112                   \n",
       "TCGA-L5-A88W-01A-11R-A354-31 0.0776677319114292 NA                    \n",
       "TCGA-IG-A6QS-01A-12R-A336-31 0.335178325102419  4                     \n",
       "TCGA-L5-A8NN-01A-11R-A37I-31 -0.452205729914384 167                   \n",
       "                             vital_status days_to_death deceased\n",
       "TCGA-R6-A8W5-01B-11R-A37I-31 Dead         480            TRUE   \n",
       "TCGA-2H-A9GK-01A-11R-A37I-31 Dead         232            TRUE   \n",
       "TCGA-L5-A4OF-01A-11R-A260-31 Dead         801            TRUE   \n",
       "TCGA-L5-A88W-01A-11R-A354-31 Dead         764            TRUE   \n",
       "TCGA-IG-A6QS-01A-12R-A336-31 Dead         303            TRUE   \n",
       "TCGA-L5-A8NN-01A-11R-A37I-31 Alive        NA            FALSE   "
      ]
     },
     "metadata": {},
     "output_type": "display_data"
    }
   ],
   "source": [
    "#make a new column that records whether or not deceased, this will be needed for status in survival anakysis (for censoring)\n",
    "concat_survival$deceased <- ifelse(concat_survival$vital_status == \"Alive\", FALSE, TRUE)\n",
    "head(concat_survival)"
   ]
  },
  {
   "cell_type": "code",
   "execution_count": 21,
   "metadata": {
    "vscode": {
     "languageId": "r"
    }
   },
   "outputs": [
    {
     "data": {
      "text/html": [
       "<table class=\"dataframe\">\n",
       "<caption>A data.frame: 6 × 6</caption>\n",
       "<thead>\n",
       "\t<tr><th></th><th scope=col>mat</th><th scope=col>Days_to_last_follow_up</th><th scope=col>vital_status</th><th scope=col>days_to_death</th><th scope=col>deceased</th><th scope=col>overall_survival</th></tr>\n",
       "\t<tr><th></th><th scope=col>&lt;chr&gt;</th><th scope=col>&lt;chr&gt;</th><th scope=col>&lt;chr&gt;</th><th scope=col>&lt;chr&gt;</th><th scope=col>&lt;lgl&gt;</th><th scope=col>&lt;dbl&gt;</th></tr>\n",
       "</thead>\n",
       "<tbody>\n",
       "\t<tr><th scope=row>TCGA-R6-A8W5-01B-11R-A37I-31</th><td>0.773608642787186 </td><td>NA </td><td>Dead </td><td>480</td><td> TRUE</td><td>480</td></tr>\n",
       "\t<tr><th scope=row>TCGA-2H-A9GK-01A-11R-A37I-31</th><td>2.22101669570682  </td><td>NA </td><td>Dead </td><td>232</td><td> TRUE</td><td>232</td></tr>\n",
       "\t<tr><th scope=row>TCGA-L5-A4OF-01A-11R-A260-31</th><td>0.442925355926683 </td><td>112</td><td>Dead </td><td>801</td><td> TRUE</td><td>801</td></tr>\n",
       "\t<tr><th scope=row>TCGA-L5-A88W-01A-11R-A354-31</th><td>0.0776677319114292</td><td>NA </td><td>Dead </td><td>764</td><td> TRUE</td><td>764</td></tr>\n",
       "\t<tr><th scope=row>TCGA-IG-A6QS-01A-12R-A336-31</th><td>0.335178325102419 </td><td>4  </td><td>Dead </td><td>303</td><td> TRUE</td><td>303</td></tr>\n",
       "\t<tr><th scope=row>TCGA-L5-A8NN-01A-11R-A37I-31</th><td>-0.452205729914384</td><td>167</td><td>Alive</td><td>NA </td><td>FALSE</td><td>167</td></tr>\n",
       "</tbody>\n",
       "</table>\n"
      ],
      "text/latex": [
       "A data.frame: 6 × 6\n",
       "\\begin{tabular}{r|llllll}\n",
       "  & mat & Days\\_to\\_last\\_follow\\_up & vital\\_status & days\\_to\\_death & deceased & overall\\_survival\\\\\n",
       "  & <chr> & <chr> & <chr> & <chr> & <lgl> & <dbl>\\\\\n",
       "\\hline\n",
       "\tTCGA-R6-A8W5-01B-11R-A37I-31 & 0.773608642787186  & NA  & Dead  & 480 &  TRUE & 480\\\\\n",
       "\tTCGA-2H-A9GK-01A-11R-A37I-31 & 2.22101669570682   & NA  & Dead  & 232 &  TRUE & 232\\\\\n",
       "\tTCGA-L5-A4OF-01A-11R-A260-31 & 0.442925355926683  & 112 & Dead  & 801 &  TRUE & 801\\\\\n",
       "\tTCGA-L5-A88W-01A-11R-A354-31 & 0.0776677319114292 & NA  & Dead  & 764 &  TRUE & 764\\\\\n",
       "\tTCGA-IG-A6QS-01A-12R-A336-31 & 0.335178325102419  & 4   & Dead  & 303 &  TRUE & 303\\\\\n",
       "\tTCGA-L5-A8NN-01A-11R-A37I-31 & -0.452205729914384 & 167 & Alive & NA  & FALSE & 167\\\\\n",
       "\\end{tabular}\n"
      ],
      "text/markdown": [
       "\n",
       "A data.frame: 6 × 6\n",
       "\n",
       "| <!--/--> | mat &lt;chr&gt; | Days_to_last_follow_up &lt;chr&gt; | vital_status &lt;chr&gt; | days_to_death &lt;chr&gt; | deceased &lt;lgl&gt; | overall_survival &lt;dbl&gt; |\n",
       "|---|---|---|---|---|---|---|\n",
       "| TCGA-R6-A8W5-01B-11R-A37I-31 | 0.773608642787186  | NA  | Dead  | 480 |  TRUE | 480 |\n",
       "| TCGA-2H-A9GK-01A-11R-A37I-31 | 2.22101669570682   | NA  | Dead  | 232 |  TRUE | 232 |\n",
       "| TCGA-L5-A4OF-01A-11R-A260-31 | 0.442925355926683  | 112 | Dead  | 801 |  TRUE | 801 |\n",
       "| TCGA-L5-A88W-01A-11R-A354-31 | 0.0776677319114292 | NA  | Dead  | 764 |  TRUE | 764 |\n",
       "| TCGA-IG-A6QS-01A-12R-A336-31 | 0.335178325102419  | 4   | Dead  | 303 |  TRUE | 303 |\n",
       "| TCGA-L5-A8NN-01A-11R-A37I-31 | -0.452205729914384 | 167 | Alive | NA  | FALSE | 167 |\n",
       "\n"
      ],
      "text/plain": [
       "                             mat                Days_to_last_follow_up\n",
       "TCGA-R6-A8W5-01B-11R-A37I-31 0.773608642787186  NA                    \n",
       "TCGA-2H-A9GK-01A-11R-A37I-31 2.22101669570682   NA                    \n",
       "TCGA-L5-A4OF-01A-11R-A260-31 0.442925355926683  112                   \n",
       "TCGA-L5-A88W-01A-11R-A354-31 0.0776677319114292 NA                    \n",
       "TCGA-IG-A6QS-01A-12R-A336-31 0.335178325102419  4                     \n",
       "TCGA-L5-A8NN-01A-11R-A37I-31 -0.452205729914384 167                   \n",
       "                             vital_status days_to_death deceased\n",
       "TCGA-R6-A8W5-01B-11R-A37I-31 Dead         480            TRUE   \n",
       "TCGA-2H-A9GK-01A-11R-A37I-31 Dead         232            TRUE   \n",
       "TCGA-L5-A4OF-01A-11R-A260-31 Dead         801            TRUE   \n",
       "TCGA-L5-A88W-01A-11R-A354-31 Dead         764            TRUE   \n",
       "TCGA-IG-A6QS-01A-12R-A336-31 Dead         303            TRUE   \n",
       "TCGA-L5-A8NN-01A-11R-A37I-31 Alive        NA            FALSE   \n",
       "                             overall_survival\n",
       "TCGA-R6-A8W5-01B-11R-A37I-31 480             \n",
       "TCGA-2H-A9GK-01A-11R-A37I-31 232             \n",
       "TCGA-L5-A4OF-01A-11R-A260-31 801             \n",
       "TCGA-L5-A88W-01A-11R-A354-31 764             \n",
       "TCGA-IG-A6QS-01A-12R-A336-31 303             \n",
       "TCGA-L5-A8NN-01A-11R-A37I-31 167             "
      ]
     },
     "metadata": {},
     "output_type": "display_data"
    }
   ],
   "source": [
    "#next need to make a \"overall survival\" column that is equal to days to death for dead patients and to days to last follow up for patients who are still alive \n",
    "concat_survival$overall_survival <- ifelse(concat_survival$vital_status == \"Alive\",\n",
    "                                           concat_survival$Days_to_last_follow_up,\n",
    "                                           concat_survival$days_to_death)\n",
    "\n",
    "#convert overall_survival to numeric\n",
    "concat_survival$overall_survival <- as.numeric(concat_survival$overall_survival)\n",
    "\n",
    "head(concat_survival)"
   ]
  },
  {
   "cell_type": "code",
   "execution_count": 22,
   "metadata": {
    "vscode": {
     "languageId": "r"
    }
   },
   "outputs": [
    {
     "name": "stderr",
     "output_type": "stream",
     "text": [
      "Loading required package: ggplot2\n",
      "\n",
      "Loading required package: ggpubr\n",
      "\n",
      "\n",
      "Attaching package: ‘survminer’\n",
      "\n",
      "\n",
      "The following object is masked from ‘package:survival’:\n",
      "\n",
      "    myeloma\n",
      "\n",
      "\n"
     ]
    }
   ],
   "source": [
    "# load packages needed for survival analysis\n",
    "library(survival)\n",
    "library(survminer)"
   ]
  },
  {
   "cell_type": "code",
   "execution_count": 23,
   "metadata": {
    "vscode": {
     "languageId": "r"
    }
   },
   "outputs": [
    {
     "data": {
      "text/html": [
       "<table class=\"dataframe\">\n",
       "<caption>A data.frame: 6 × 7</caption>\n",
       "<thead>\n",
       "\t<tr><th></th><th scope=col>mat</th><th scope=col>Days_to_last_follow_up</th><th scope=col>vital_status</th><th scope=col>days_to_death</th><th scope=col>deceased</th><th scope=col>overall_survival</th><th scope=col>strata</th></tr>\n",
       "\t<tr><th></th><th scope=col>&lt;chr&gt;</th><th scope=col>&lt;chr&gt;</th><th scope=col>&lt;chr&gt;</th><th scope=col>&lt;chr&gt;</th><th scope=col>&lt;lgl&gt;</th><th scope=col>&lt;dbl&gt;</th><th scope=col>&lt;chr&gt;</th></tr>\n",
       "</thead>\n",
       "<tbody>\n",
       "\t<tr><th scope=row>TCGA-R6-A8W5-01B-11R-A37I-31</th><td>0.773608642787186 </td><td>NA </td><td>Dead </td><td>480</td><td> TRUE</td><td>480</td><td>Top 33%</td></tr>\n",
       "\t<tr><th scope=row>TCGA-2H-A9GK-01A-11R-A37I-31</th><td>2.22101669570682  </td><td>NA </td><td>Dead </td><td>232</td><td> TRUE</td><td>232</td><td>Top 33%</td></tr>\n",
       "\t<tr><th scope=row>TCGA-L5-A4OF-01A-11R-A260-31</th><td>0.442925355926683 </td><td>112</td><td>Dead </td><td>801</td><td> TRUE</td><td>801</td><td>Top 33%</td></tr>\n",
       "\t<tr><th scope=row>TCGA-L5-A88W-01A-11R-A354-31</th><td>0.0776677319114292</td><td>NA </td><td>Dead </td><td>764</td><td> TRUE</td><td>764</td><td>Middle </td></tr>\n",
       "\t<tr><th scope=row>TCGA-IG-A6QS-01A-12R-A336-31</th><td>0.335178325102419 </td><td>4  </td><td>Dead </td><td>303</td><td> TRUE</td><td>303</td><td>Middle </td></tr>\n",
       "\t<tr><th scope=row>TCGA-L5-A8NN-01A-11R-A37I-31</th><td>-0.452205729914384</td><td>167</td><td>Alive</td><td>NA </td><td>FALSE</td><td>167</td><td>Middle </td></tr>\n",
       "</tbody>\n",
       "</table>\n"
      ],
      "text/latex": [
       "A data.frame: 6 × 7\n",
       "\\begin{tabular}{r|lllllll}\n",
       "  & mat & Days\\_to\\_last\\_follow\\_up & vital\\_status & days\\_to\\_death & deceased & overall\\_survival & strata\\\\\n",
       "  & <chr> & <chr> & <chr> & <chr> & <lgl> & <dbl> & <chr>\\\\\n",
       "\\hline\n",
       "\tTCGA-R6-A8W5-01B-11R-A37I-31 & 0.773608642787186  & NA  & Dead  & 480 &  TRUE & 480 & Top 33\\%\\\\\n",
       "\tTCGA-2H-A9GK-01A-11R-A37I-31 & 2.22101669570682   & NA  & Dead  & 232 &  TRUE & 232 & Top 33\\%\\\\\n",
       "\tTCGA-L5-A4OF-01A-11R-A260-31 & 0.442925355926683  & 112 & Dead  & 801 &  TRUE & 801 & Top 33\\%\\\\\n",
       "\tTCGA-L5-A88W-01A-11R-A354-31 & 0.0776677319114292 & NA  & Dead  & 764 &  TRUE & 764 & Middle \\\\\n",
       "\tTCGA-IG-A6QS-01A-12R-A336-31 & 0.335178325102419  & 4   & Dead  & 303 &  TRUE & 303 & Middle \\\\\n",
       "\tTCGA-L5-A8NN-01A-11R-A37I-31 & -0.452205729914384 & 167 & Alive & NA  & FALSE & 167 & Middle \\\\\n",
       "\\end{tabular}\n"
      ],
      "text/markdown": [
       "\n",
       "A data.frame: 6 × 7\n",
       "\n",
       "| <!--/--> | mat &lt;chr&gt; | Days_to_last_follow_up &lt;chr&gt; | vital_status &lt;chr&gt; | days_to_death &lt;chr&gt; | deceased &lt;lgl&gt; | overall_survival &lt;dbl&gt; | strata &lt;chr&gt; |\n",
       "|---|---|---|---|---|---|---|---|\n",
       "| TCGA-R6-A8W5-01B-11R-A37I-31 | 0.773608642787186  | NA  | Dead  | 480 |  TRUE | 480 | Top 33% |\n",
       "| TCGA-2H-A9GK-01A-11R-A37I-31 | 2.22101669570682   | NA  | Dead  | 232 |  TRUE | 232 | Top 33% |\n",
       "| TCGA-L5-A4OF-01A-11R-A260-31 | 0.442925355926683  | 112 | Dead  | 801 |  TRUE | 801 | Top 33% |\n",
       "| TCGA-L5-A88W-01A-11R-A354-31 | 0.0776677319114292 | NA  | Dead  | 764 |  TRUE | 764 | Middle  |\n",
       "| TCGA-IG-A6QS-01A-12R-A336-31 | 0.335178325102419  | 4   | Dead  | 303 |  TRUE | 303 | Middle  |\n",
       "| TCGA-L5-A8NN-01A-11R-A37I-31 | -0.452205729914384 | 167 | Alive | NA  | FALSE | 167 | Middle  |\n",
       "\n"
      ],
      "text/plain": [
       "                             mat                Days_to_last_follow_up\n",
       "TCGA-R6-A8W5-01B-11R-A37I-31 0.773608642787186  NA                    \n",
       "TCGA-2H-A9GK-01A-11R-A37I-31 2.22101669570682   NA                    \n",
       "TCGA-L5-A4OF-01A-11R-A260-31 0.442925355926683  112                   \n",
       "TCGA-L5-A88W-01A-11R-A354-31 0.0776677319114292 NA                    \n",
       "TCGA-IG-A6QS-01A-12R-A336-31 0.335178325102419  4                     \n",
       "TCGA-L5-A8NN-01A-11R-A37I-31 -0.452205729914384 167                   \n",
       "                             vital_status days_to_death deceased\n",
       "TCGA-R6-A8W5-01B-11R-A37I-31 Dead         480            TRUE   \n",
       "TCGA-2H-A9GK-01A-11R-A37I-31 Dead         232            TRUE   \n",
       "TCGA-L5-A4OF-01A-11R-A260-31 Dead         801            TRUE   \n",
       "TCGA-L5-A88W-01A-11R-A354-31 Dead         764            TRUE   \n",
       "TCGA-IG-A6QS-01A-12R-A336-31 Dead         303            TRUE   \n",
       "TCGA-L5-A8NN-01A-11R-A37I-31 Alive        NA            FALSE   \n",
       "                             overall_survival strata \n",
       "TCGA-R6-A8W5-01B-11R-A37I-31 480              Top 33%\n",
       "TCGA-2H-A9GK-01A-11R-A37I-31 232              Top 33%\n",
       "TCGA-L5-A4OF-01A-11R-A260-31 801              Top 33%\n",
       "TCGA-L5-A88W-01A-11R-A354-31 764              Middle \n",
       "TCGA-IG-A6QS-01A-12R-A336-31 303              Middle \n",
       "TCGA-L5-A8NN-01A-11R-A37I-31 167              Middle "
      ]
     },
     "metadata": {},
     "output_type": "display_data"
    }
   ],
   "source": [
    "#fitting survival curve - prepare data: \n",
    "\n",
    "# for my analysis I wanted to plot top vs bottom third on my KM plot, but could also split 50/50 if you wanted\n",
    "# make variable for either top 33% or bottom 33% mat score\n",
    "#calculate 66th percentile (above this is top 33%) and 33rd percentile (below this is bottom 33%)\n",
    "perc_66 <- quantile(mat, probs = c(0.66))\n",
    "perc_33 <- quantile(mat, probs = c(0.33))\n",
    "\n",
    "concat_survival_Full <- concat_survival\n",
    "concat_survival_Full$strata <- ifelse(concat_survival_Full$mat < perc_33, \"Bottom 33%\",\n",
    "                                  ifelse(concat_survival_Full$mat >perc_66, \"Top 33%\", \"Middle\"))\n",
    "\n",
    "head(concat_survival_Full)"
   ]
  },
  {
   "cell_type": "code",
   "execution_count": 24,
   "metadata": {
    "vscode": {
     "languageId": "r"
    }
   },
   "outputs": [
    {
     "data": {
      "text/html": [
       "<table class=\"dataframe\">\n",
       "<caption>A data.frame: 6 × 7</caption>\n",
       "<thead>\n",
       "\t<tr><th></th><th scope=col>mat</th><th scope=col>Days_to_last_follow_up</th><th scope=col>vital_status</th><th scope=col>days_to_death</th><th scope=col>deceased</th><th scope=col>overall_survival</th><th scope=col>strata</th></tr>\n",
       "\t<tr><th></th><th scope=col>&lt;chr&gt;</th><th scope=col>&lt;chr&gt;</th><th scope=col>&lt;chr&gt;</th><th scope=col>&lt;chr&gt;</th><th scope=col>&lt;lgl&gt;</th><th scope=col>&lt;dbl&gt;</th><th scope=col>&lt;chr&gt;</th></tr>\n",
       "</thead>\n",
       "<tbody>\n",
       "\t<tr><th scope=row>TCGA-R6-A8W5-01B-11R-A37I-31</th><td>0.773608642787186  </td><td>NA </td><td>Dead </td><td>480</td><td> TRUE</td><td>480</td><td>Top 33%   </td></tr>\n",
       "\t<tr><th scope=row>TCGA-2H-A9GK-01A-11R-A37I-31</th><td>2.22101669570682   </td><td>NA </td><td>Dead </td><td>232</td><td> TRUE</td><td>232</td><td>Top 33%   </td></tr>\n",
       "\t<tr><th scope=row>TCGA-L5-A4OF-01A-11R-A260-31</th><td>0.442925355926683  </td><td>112</td><td>Dead </td><td>801</td><td> TRUE</td><td>801</td><td>Top 33%   </td></tr>\n",
       "\t<tr><th scope=row>TCGA-VR-A8ER-01A-11R-A36D-31</th><td>0.669841262572264  </td><td>NA </td><td>Dead </td><td>378</td><td> TRUE</td><td>378</td><td>Top 33%   </td></tr>\n",
       "\t<tr><th scope=row>TCGA-2H-A9GL-01A-12R-A37I-31</th><td>-0.0523254270494338</td><td>NA </td><td>Dead </td><td>180</td><td> TRUE</td><td>180</td><td>Bottom 33%</td></tr>\n",
       "\t<tr><th scope=row>TCGA-VR-AA7B-01A-31R-A406-31</th><td>-0.33489903086059  </td><td>342</td><td>Alive</td><td>NA </td><td>FALSE</td><td>342</td><td>Bottom 33%</td></tr>\n",
       "</tbody>\n",
       "</table>\n"
      ],
      "text/latex": [
       "A data.frame: 6 × 7\n",
       "\\begin{tabular}{r|lllllll}\n",
       "  & mat & Days\\_to\\_last\\_follow\\_up & vital\\_status & days\\_to\\_death & deceased & overall\\_survival & strata\\\\\n",
       "  & <chr> & <chr> & <chr> & <chr> & <lgl> & <dbl> & <chr>\\\\\n",
       "\\hline\n",
       "\tTCGA-R6-A8W5-01B-11R-A37I-31 & 0.773608642787186   & NA  & Dead  & 480 &  TRUE & 480 & Top 33\\%   \\\\\n",
       "\tTCGA-2H-A9GK-01A-11R-A37I-31 & 2.22101669570682    & NA  & Dead  & 232 &  TRUE & 232 & Top 33\\%   \\\\\n",
       "\tTCGA-L5-A4OF-01A-11R-A260-31 & 0.442925355926683   & 112 & Dead  & 801 &  TRUE & 801 & Top 33\\%   \\\\\n",
       "\tTCGA-VR-A8ER-01A-11R-A36D-31 & 0.669841262572264   & NA  & Dead  & 378 &  TRUE & 378 & Top 33\\%   \\\\\n",
       "\tTCGA-2H-A9GL-01A-12R-A37I-31 & -0.0523254270494338 & NA  & Dead  & 180 &  TRUE & 180 & Bottom 33\\%\\\\\n",
       "\tTCGA-VR-AA7B-01A-31R-A406-31 & -0.33489903086059   & 342 & Alive & NA  & FALSE & 342 & Bottom 33\\%\\\\\n",
       "\\end{tabular}\n"
      ],
      "text/markdown": [
       "\n",
       "A data.frame: 6 × 7\n",
       "\n",
       "| <!--/--> | mat &lt;chr&gt; | Days_to_last_follow_up &lt;chr&gt; | vital_status &lt;chr&gt; | days_to_death &lt;chr&gt; | deceased &lt;lgl&gt; | overall_survival &lt;dbl&gt; | strata &lt;chr&gt; |\n",
       "|---|---|---|---|---|---|---|---|\n",
       "| TCGA-R6-A8W5-01B-11R-A37I-31 | 0.773608642787186   | NA  | Dead  | 480 |  TRUE | 480 | Top 33%    |\n",
       "| TCGA-2H-A9GK-01A-11R-A37I-31 | 2.22101669570682    | NA  | Dead  | 232 |  TRUE | 232 | Top 33%    |\n",
       "| TCGA-L5-A4OF-01A-11R-A260-31 | 0.442925355926683   | 112 | Dead  | 801 |  TRUE | 801 | Top 33%    |\n",
       "| TCGA-VR-A8ER-01A-11R-A36D-31 | 0.669841262572264   | NA  | Dead  | 378 |  TRUE | 378 | Top 33%    |\n",
       "| TCGA-2H-A9GL-01A-12R-A37I-31 | -0.0523254270494338 | NA  | Dead  | 180 |  TRUE | 180 | Bottom 33% |\n",
       "| TCGA-VR-AA7B-01A-31R-A406-31 | -0.33489903086059   | 342 | Alive | NA  | FALSE | 342 | Bottom 33% |\n",
       "\n"
      ],
      "text/plain": [
       "                             mat                 Days_to_last_follow_up\n",
       "TCGA-R6-A8W5-01B-11R-A37I-31 0.773608642787186   NA                    \n",
       "TCGA-2H-A9GK-01A-11R-A37I-31 2.22101669570682    NA                    \n",
       "TCGA-L5-A4OF-01A-11R-A260-31 0.442925355926683   112                   \n",
       "TCGA-VR-A8ER-01A-11R-A36D-31 0.669841262572264   NA                    \n",
       "TCGA-2H-A9GL-01A-12R-A37I-31 -0.0523254270494338 NA                    \n",
       "TCGA-VR-AA7B-01A-31R-A406-31 -0.33489903086059   342                   \n",
       "                             vital_status days_to_death deceased\n",
       "TCGA-R6-A8W5-01B-11R-A37I-31 Dead         480            TRUE   \n",
       "TCGA-2H-A9GK-01A-11R-A37I-31 Dead         232            TRUE   \n",
       "TCGA-L5-A4OF-01A-11R-A260-31 Dead         801            TRUE   \n",
       "TCGA-VR-A8ER-01A-11R-A36D-31 Dead         378            TRUE   \n",
       "TCGA-2H-A9GL-01A-12R-A37I-31 Dead         180            TRUE   \n",
       "TCGA-VR-AA7B-01A-31R-A406-31 Alive        NA            FALSE   \n",
       "                             overall_survival strata    \n",
       "TCGA-R6-A8W5-01B-11R-A37I-31 480              Top 33%   \n",
       "TCGA-2H-A9GK-01A-11R-A37I-31 232              Top 33%   \n",
       "TCGA-L5-A4OF-01A-11R-A260-31 801              Top 33%   \n",
       "TCGA-VR-A8ER-01A-11R-A36D-31 378              Top 33%   \n",
       "TCGA-2H-A9GL-01A-12R-A37I-31 180              Bottom 33%\n",
       "TCGA-VR-AA7B-01A-31R-A406-31 342              Bottom 33%"
      ]
     },
     "metadata": {},
     "output_type": "display_data"
    }
   ],
   "source": [
    "#need to remove middle strata from plot\n",
    "concat_survival_Full <- concat_survival_Full %>% filter(strata %in% c(\"Top 33%\", \"Bottom 33%\"))\n",
    "head(concat_survival_Full)"
   ]
  },
  {
   "cell_type": "code",
   "execution_count": 25,
   "metadata": {
    "vscode": {
     "languageId": "r"
    }
   },
   "outputs": [
    {
     "data": {
      "text/plain": [
       "Call: survfit(formula = Surv(overall_survival, deceased) ~ strata, \n",
       "    data = concat_survival_Full)\n",
       "\n",
       "                   n events median 0.95LCL 0.95UCL\n",
       "strata=Bottom 33% 34     19    424     386      NA\n",
       "strata=Top 33%    63     26    960     681      NA"
      ]
     },
     "metadata": {},
     "output_type": "display_data"
    }
   ],
   "source": [
    "#Fit survival curve\n",
    "fit <- survfit(Surv(overall_survival, deceased) ~ strata, data = concat_survival_Full)\n",
    "fit"
   ]
  },
  {
   "cell_type": "code",
   "execution_count": 26,
   "metadata": {
    "vscode": {
     "languageId": "r"
    }
   },
   "outputs": [
    {
     "data": {
      "image/png": "[encoded data removed]",
      "text/plain": [
       "plot without title"
      ]
     },
     "metadata": {
      "image/png": {
       "height": 360,
       "width": 480
      }
     },
     "output_type": "display_data"
    }
   ],
   "source": [
    "#generate survival plot\n",
    "options(repr.plot.height=6, repr.plot.width=8)\n",
    "ggsurvplot(fit,\n",
    "           data = concat_survival_Full,\n",
    "           pval = T,\n",
    "           risk.table = T,\n",
    "           conf.int = TRUE)"
   ]
  }
 ],
 "metadata": {
  "kernelspec": {
   "display_name": "R",
   "language": "R",
   "name": "ir"
  },
  "language_info": {
   "codemirror_mode": "r",
   "file_extension": ".r",
   "mimetype": "text/x-r-source",
   "name": "R",
   "pygments_lexer": "r",
   "version": "4.3.3"
  }
 },
 "nbformat": 4,
 "nbformat_minor": 2
}
