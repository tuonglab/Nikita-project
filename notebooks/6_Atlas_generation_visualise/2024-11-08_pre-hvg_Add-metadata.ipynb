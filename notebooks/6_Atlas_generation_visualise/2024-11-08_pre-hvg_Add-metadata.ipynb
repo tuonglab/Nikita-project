{
 "cells": [
  {
   "cell_type": "markdown",
   "metadata": {},
   "source": [
    "#### Adding extra metadata to samples --> kit technology (3' vs 5') and patient sex so that I can check these are integrated well\n"
   ]
  },
  {
   "cell_type": "markdown",
   "metadata": {},
   "source": [
    "# Set up workspace:"
   ]
  },
  {
   "cell_type": "code",
   "execution_count": 1,
   "metadata": {},
   "outputs": [],
   "source": [
    "#load packages I need\n",
    "import os\n",
    "import tools\n",
    "import scanpy as sc\n",
    "import pandas as pd\n",
    "import dandelion as ddl\n",
    "from tqdm import tqdm\n",
    "import matplotlib.pyplot as plt\n",
    "import scanpy.external as sce\n",
    "from matplotlib.pyplot import rc_context"
   ]
  },
  {
   "cell_type": "code",
   "execution_count": 2,
   "metadata": {},
   "outputs": [
    {
     "data": {
      "text/plain": [
       "'/scratch/user/s4436039/scdata/Python_Integration_Sep'"
      ]
     },
     "execution_count": 2,
     "metadata": {},
     "output_type": "execute_result"
    }
   ],
   "source": [
    "#show current directory \n",
    "os.getcwd()\n",
    "os.chdir('/scratch/user/s4436039/scdata/Python_Integration_Sep')\n",
    "os.getcwd()"
   ]
  },
  {
   "cell_type": "markdown",
   "metadata": {},
   "source": [
    "Print software versions:"
   ]
  },
  {
   "cell_type": "code",
   "execution_count": 3,
   "metadata": {},
   "outputs": [
    {
     "name": "stdout",
     "output_type": "stream",
     "text": [
      "scanpy==1.10.2 anndata==0.10.8 umap==0.5.6 numpy==1.26.4 scipy==1.14.0 pandas==2.2.2 scikit-learn==1.5.0 statsmodels==0.14.2 igraph==0.11.5 pynndescent==0.5.12\n"
     ]
    }
   ],
   "source": [
    "sc.logging.print_header()"
   ]
  },
  {
   "cell_type": "code",
   "execution_count": 4,
   "metadata": {},
   "outputs": [
    {
     "name": "stdout",
     "output_type": "stream",
     "text": [
      "dandelion==0.3.8 pandas==2.2.2 numpy==1.26.4 matplotlib==3.9.2 networkx==3.3 scipy==1.14.0\n"
     ]
    }
   ],
   "source": [
    "ddl.logging.print_header()"
   ]
  },
  {
   "cell_type": "markdown",
   "metadata": {},
   "source": [
    "Set plotting parameters"
   ]
  },
  {
   "cell_type": "code",
   "execution_count": 5,
   "metadata": {},
   "outputs": [],
   "source": [
    "sc.settings.set_figure_params(dpi=80, facecolor=\"white\")"
   ]
  },
  {
   "cell_type": "code",
   "execution_count": 6,
   "metadata": {},
   "outputs": [],
   "source": [
    "#read in data\n",
    "data = sc.read_h5ad(\"NR_cleandata.h5ad\") "
   ]
  },
  {
   "cell_type": "code",
   "execution_count": 7,
   "metadata": {},
   "outputs": [
    {
     "data": {
      "text/plain": [
       "AnnData object with n_obs × n_vars = 498382 × 15074\n",
       "    obs: 'nCount_RNA', 'nFeature_RNA', 'sample_type', 'cancer_type', 'patient_id', 'sample_id', 'percent.mt', 'site', 'sample_type_major', 'cancer_subtype', 'integration_id', 'ident', 'dataset_id', 'n_genes_by_counts', 'log1p_n_genes_by_counts', 'total_counts', 'log1p_total_counts', 'pct_counts_in_top_50_genes', 'pct_counts_in_top_100_genes', 'pct_counts_in_top_200_genes', 'pct_counts_in_top_500_genes', 'total_counts_mt', 'log1p_total_counts_mt', 'pct_counts_mt', 'S_score', 'G2M_score', 'keep_or_remove', 'leiden', 'celltype', 'leiden_DC', 'leiden_DC_v2', 'exclude_annots', 'leiden_M'\n",
       "    var: 'name', 'mt', 'n_cells_by_counts', 'mean_counts', 'log1p_mean_counts', 'pct_dropout_by_counts', 'total_counts', 'log1p_total_counts'\n",
       "    uns: 'log1p'"
      ]
     },
     "execution_count": 7,
     "metadata": {},
     "output_type": "execute_result"
    }
   ],
   "source": [
    "data"
   ]
  },
  {
   "cell_type": "code",
   "execution_count": 12,
   "metadata": {},
   "outputs": [],
   "source": [
    "#make a new metadata column called Technology\n",
    "data.obs[\"Technology\"] = \"10x3'\""
   ]
  },
  {
   "cell_type": "code",
   "execution_count": 11,
   "metadata": {},
   "outputs": [
    {
     "name": "stdout",
     "output_type": "stream",
     "text": [
      "dataset_id\n",
      "GSE180661       171225\n",
      "GSE154826        66592\n",
      "GSE131907        32876\n",
      "GSE234933        31940\n",
      "PRJCA005422      26133\n",
      "GSE235676        20872\n",
      "GSE161529        16403\n",
      "GSE189903        14644\n",
      "GSE162498        11380\n",
      "GSE200218         8872\n",
      "GSE176078         8179\n",
      "GSE224090         7929\n",
      "GSE197177         7260\n",
      "GSE164690         7249\n",
      "GSE217517         7036\n",
      "GSE139324         6675\n",
      "GSE184880         6304\n",
      "PMID32561858      5758\n",
      "GSE223063         5443\n",
      "GSE112271         4472\n",
      "GSE195861         4083\n",
      "GSE188737         3465\n",
      "GSE173468         3342\n",
      "GSE156405         3101\n",
      "GSE213243         2665\n",
      "PRJNA907381       2480\n",
      "GSE167297         1974\n",
      "GSE162025         1610\n",
      "GSE183916         1501\n",
      "GSE214295         1491\n",
      "GSE231535         1384\n",
      "GSE225600         1192\n",
      "GSE234129          924\n",
      "GSE154778          843\n",
      "GSE215120          751\n",
      "GSE199515          334\n",
      "Name: count, dtype: int64\n"
     ]
    }
   ],
   "source": [
    "# check how many keep vs remove\n",
    "dataset_counts = data.obs['dataset_id'].value_counts()\n",
    "print(dataset_counts)"
   ]
  },
  {
   "cell_type": "code",
   "execution_count": 13,
   "metadata": {},
   "outputs": [],
   "source": [
    "#make a copy of the data containing just the 5' datasets\n",
    "data_5_tech = data[data.obs[\"dataset_id\"].isin([\"GSE213243\",\"GSE189903\",\"GSE162025\",\"GSE173468\",\"GSE188737\",\"GSE234933\",\"GSE183916\",\"GSE234129\"])]"
   ]
  },
  {
   "cell_type": "code",
   "execution_count": 14,
   "metadata": {},
   "outputs": [
    {
     "name": "stderr",
     "output_type": "stream",
     "text": [
      "/scratch/temp/11448278/ipykernel_3615341/231877160.py:2: ImplicitModificationWarning: Trying to modify attribute `.obs` of view, initializing view as actual.\n"
     ]
    }
   ],
   "source": [
    "#set all those in data_5_tech to 5 prime\n",
    "data_5_tech.obs[\"Technology\"] = \"10x5'\""
   ]
  },
  {
   "cell_type": "code",
   "execution_count": 15,
   "metadata": {},
   "outputs": [
    {
     "name": "stderr",
     "output_type": "stream",
     "text": [
      "/scratch/temp/11448278/ipykernel_3615341/831242058.py:2: FutureWarning: A value is trying to be set on a copy of a DataFrame or Series through chained assignment using an inplace method.\n",
      "The behavior will change in pandas 3.0. This inplace method will never work because the intermediate object on which we are setting values always behaves as a copy.\n",
      "\n",
      "For example, when doing 'df[col].method(value, inplace=True)', try using 'df.method({col: value}, inplace=True)' or df[col] = df[col].method(value) instead, to perform the operation inplace on the original object.\n",
      "\n",
      "\n"
     ]
    }
   ],
   "source": [
    "#update the object to have correct tech labels \n",
    "data.obs[\"Technology\"].update(data_5_tech.obs[\"Technology\"]) "
   ]
  },
  {
   "cell_type": "code",
   "execution_count": 18,
   "metadata": {},
   "outputs": [],
   "source": [
    "#make a copy of the data containing just the unknowns\n",
    "data_unknown_tech = data[data.obs[\"dataset_id\"].isin([\"PRJCA005422\",\"PMID32561858\"])]"
   ]
  },
  {
   "cell_type": "code",
   "execution_count": 19,
   "metadata": {},
   "outputs": [
    {
     "name": "stderr",
     "output_type": "stream",
     "text": [
      "/scratch/temp/11448278/ipykernel_3615341/2468102331.py:2: ImplicitModificationWarning: Trying to modify attribute `.obs` of view, initializing view as actual.\n"
     ]
    }
   ],
   "source": [
    "#set all those in data_unknown_tech to unknown\n",
    "data_unknown_tech.obs[\"Technology\"] = \"Unknown\""
   ]
  },
  {
   "cell_type": "code",
   "execution_count": 22,
   "metadata": {},
   "outputs": [],
   "source": [
    "#make a copy of the data_unknown to fix CRC samples\n",
    "data_unknown_CRC = data_unknown_tech[data_unknown_tech.obs[\"site\"].isin([\"colon\"])]"
   ]
  },
  {
   "cell_type": "code",
   "execution_count": 23,
   "metadata": {},
   "outputs": [
    {
     "name": "stderr",
     "output_type": "stream",
     "text": [
      "/scratch/temp/11448278/ipykernel_3615341/3802504775.py:2: ImplicitModificationWarning: Trying to modify attribute `.obs` of view, initializing view as actual.\n"
     ]
    }
   ],
   "source": [
    "#set all those in colon to 3'\n",
    "data_unknown_CRC.obs[\"Technology\"] = \"10x3'\""
   ]
  },
  {
   "cell_type": "code",
   "execution_count": 24,
   "metadata": {},
   "outputs": [
    {
     "name": "stderr",
     "output_type": "stream",
     "text": [
      "/scratch/temp/11448278/ipykernel_3615341/1838450480.py:2: FutureWarning: A value is trying to be set on a copy of a DataFrame or Series through chained assignment using an inplace method.\n",
      "The behavior will change in pandas 3.0. This inplace method will never work because the intermediate object on which we are setting values always behaves as a copy.\n",
      "\n",
      "For example, when doing 'df[col].method(value, inplace=True)', try using 'df.method({col: value}, inplace=True)' or df[col] = df[col].method(value) instead, to perform the operation inplace on the original object.\n",
      "\n",
      "\n"
     ]
    }
   ],
   "source": [
    "#update the object to have correct tech labels \n",
    "data_unknown_tech.obs[\"Technology\"].update(data_unknown_CRC.obs[\"Technology\"]) "
   ]
  },
  {
   "cell_type": "code",
   "execution_count": 25,
   "metadata": {},
   "outputs": [],
   "source": [
    "#update the object to have correct tech labels \n",
    "data.obs[\"Technology\"].update(data_unknown_tech.obs[\"Technology\"]) "
   ]
  },
  {
   "cell_type": "code",
   "execution_count": 26,
   "metadata": {},
   "outputs": [
    {
     "name": "stdout",
     "output_type": "stream",
     "text": [
      "Technology\n",
      "10x3'      409706\n",
      "10x5'       60091\n",
      "Unknown     28585\n",
      "Name: count, dtype: int64\n"
     ]
    }
   ],
   "source": [
    "# check how many keep vs remove\n",
    "tech_counts = data.obs['Technology'].value_counts()\n",
    "print(tech_counts)"
   ]
  },
  {
   "cell_type": "code",
   "execution_count": 27,
   "metadata": {},
   "outputs": [],
   "source": [
    "#export NR_clean\n",
    "data.write_h5ad(\"NR_cleandata.h5ad\", compression=\"gzip\")"
   ]
  }
 ],
 "metadata": {
  "kernelspec": {
   "display_name": "Python 3 (ipykernel)",
   "language": "python",
   "name": "python3"
  },
  "language_info": {
   "codemirror_mode": {
    "name": "ipython",
    "version": 3
   },
   "file_extension": ".py",
   "mimetype": "text/x-python",
   "name": "python",
   "nbconvert_exporter": "python",
   "pygments_lexer": "ipython3",
   "version": "3.12.3"
  }
 },
 "nbformat": 4,
 "nbformat_minor": 2
}
