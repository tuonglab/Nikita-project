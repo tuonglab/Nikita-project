{
 "cells": [
  {
   "cell_type": "markdown",
   "metadata": {},
   "source": [
    "### import package and set directory"
   ]
  },
  {
   "cell_type": "code",
   "execution_count": 102,
   "metadata": {},
   "outputs": [],
   "source": [
    "import os\n",
    "import scanpy as sc\n",
    "import pandas as pd\n",
    "import seaborn as sns\n",
    "import matplotlib.pyplot as plt"
   ]
  },
  {
   "cell_type": "code",
   "execution_count": 4,
   "metadata": {},
   "outputs": [
    {
     "data": {
      "text/plain": [
       "'/scratch/user/s4436039/scdata/Python_Integration_Sep'"
      ]
     },
     "execution_count": 4,
     "metadata": {},
     "output_type": "execute_result"
    }
   ],
   "source": [
    "#show current directory \n",
    "os.getcwd()\n",
    "os.chdir('/scratch/user/s4436039/scdata/Python_Integration_Sep')\n",
    "os.getcwd()"
   ]
  },
  {
   "cell_type": "markdown",
   "metadata": {},
   "source": [
    "# Read in the data"
   ]
  },
  {
   "cell_type": "code",
   "execution_count": 5,
   "metadata": {},
   "outputs": [],
   "source": [
    "# read in data\n",
    "data = sc.read_h5ad('NRclean_clustered.h5ad')"
   ]
  },
  {
   "cell_type": "code",
   "execution_count": 6,
   "metadata": {},
   "outputs": [],
   "source": [
    "data_P = data[data.obs[\"sample_type_major2\"] == \"primary tumour\"]\n",
    "\n",
    "data_DC1 = data_P[data_P.obs[\"NR_annotations_simple\"] == \"cDC1\"]\n",
    "data_DC2 = data_P[data_P.obs[\"NR_annotations_simple\"] == \"cDC2\"]\n",
    "data_mregDC = data_P[data_P.obs[\"NR_annotations_simple\"] == \"mregDC\"]"
   ]
  },
  {
   "cell_type": "markdown",
   "metadata": {},
   "source": [
    "# Import KEGG sets"
   ]
  },
  {
   "cell_type": "code",
   "execution_count": 7,
   "metadata": {},
   "outputs": [],
   "source": [
    "os.chdir('/scratch/user/s4436039/scdata/Pathway-sets')\n",
    "K_sets = pd.read_excel(\"kegg_sets.xlsx\", sheet_name=None)\n",
    "os.chdir('/scratch/user/s4436039/scdata/Python_Integration_Sep')"
   ]
  },
  {
   "cell_type": "code",
   "execution_count": 8,
   "metadata": {},
   "outputs": [
    {
     "name": "stdout",
     "output_type": "stream",
     "text": [
      "dict_keys(['Sheet1', 'Sheet2', 'Sheet3', 'Sheet4', 'Sheet5', 'Sheet6', 'Sheet7', 'Sheet8', 'Sheet9', 'Sheet10', 'Sheet11', 'Sheet12', 'Sheet13', 'Sheet14', 'Sheet15', 'Sheet16', 'Sheet17', 'Sheet18', 'Sheet19', 'Sheet20', 'Sheet21', 'Sheet22', 'Sheet23', 'Sheet24', 'Sheet25', 'Sheet26', 'Sheet27', 'Sheet28', 'Sheet29', 'Sheet30', 'Sheet31', 'Sheet32', 'Sheet33', 'Sheet34', 'Sheet35', 'Sheet36', 'Sheet37', 'Sheet38', 'Sheet39', 'Sheet40', 'Sheet41', 'Sheet42', 'Sheet43', 'Sheet44', 'Sheet45', 'Sheet46', 'Sheet47', 'Sheet48', 'Sheet49', 'Sheet50', 'Sheet51', 'Sheet52', 'Sheet53', 'Sheet54', 'Sheet55', 'Sheet56', 'Sheet57', 'Sheet58', 'Sheet59', 'Sheet60', 'Sheet61', 'Sheet62', 'Sheet63', 'Sheet64', 'Sheet65', 'Sheet66', 'Sheet67', 'Sheet68', 'Sheet69', 'Sheet70', 'Sheet71', 'Sheet72', 'Sheet73', 'Sheet74', 'Sheet75', 'Sheet76', 'Sheet77', 'Sheet78', 'Sheet79', 'Sheet80', 'Sheet81', 'Sheet82', 'Sheet83', 'Sheet84', 'Sheet85', 'Sheet86', 'Sheet87', 'Sheet88', 'Sheet89', 'Sheet90', 'Sheet91', 'Sheet92', 'Sheet93', 'Sheet94', 'Sheet95', 'Sheet96', 'Sheet97', 'Sheet98', 'Sheet99', 'Sheet100', 'Sheet101', 'Sheet102', 'Sheet103', 'Sheet104', 'Sheet105', 'Sheet106', 'Sheet107', 'Sheet108', 'Sheet109', 'Sheet110', 'Sheet111', 'Sheet112', 'Sheet113', 'Sheet114', 'Sheet115', 'Sheet116', 'Sheet117', 'Sheet118', 'Sheet119', 'Sheet120', 'Sheet121', 'Sheet122', 'Sheet123', 'Sheet124', 'Sheet125', 'Sheet126', 'Sheet127', 'Sheet128', 'Sheet129', 'Sheet130', 'Sheet131', 'Sheet132', 'Sheet133', 'Sheet134', 'Sheet135', 'Sheet136', 'Sheet137', 'Sheet138', 'Sheet139', 'Sheet140', 'Sheet141', 'Sheet142', 'Sheet143', 'Sheet144', 'Sheet145', 'Sheet146', 'Sheet147', 'Sheet148', 'Sheet149', 'Sheet150', 'Sheet151', 'Sheet152', 'Sheet153', 'Sheet154', 'Sheet155', 'Sheet156', 'Sheet157', 'Sheet158', 'Sheet159', 'Sheet160', 'Sheet161', 'Sheet162', 'Sheet163', 'Sheet164', 'Sheet165', 'Sheet166', 'Sheet167', 'Sheet168', 'Sheet169', 'Sheet170', 'Sheet171', 'Sheet172', 'Sheet173', 'Sheet174', 'Sheet175', 'Sheet176', 'Sheet177', 'Sheet178', 'Sheet179', 'Sheet180', 'Sheet181', 'Sheet182', 'Sheet183', 'Sheet184', 'Sheet185', 'Sheet186'])\n"
     ]
    }
   ],
   "source": [
    "# Print the sheet names\n",
    "print(K_sets.keys())"
   ]
  },
  {
   "cell_type": "code",
   "execution_count": 9,
   "metadata": {},
   "outputs": [
    {
     "name": "stdout",
     "output_type": "stream",
     "text": [
      "dict_keys(['KEGG_ABC_TRANSPORTERS', 'KEGG_ACUTE_MYELOID_LEUKEMIA', 'KEGG_ADHERENS_JUNCTION', 'KEGG_ADIPOCYTOKINE_SIGNALING_PATHWAY', 'KEGG_ALANINE_ASPARTATE_AND_GLUTAMATE_METABOLISM', 'KEGG_ALDOSTERONE_REGULATED_SODIUM_REABSORPTION', 'KEGG_ALLOGRAFT_REJECTION', 'KEGG_ALPHA_LINOLENIC_ACID_METABOLISM', 'KEGG_ALZHEIMERS_DISEASE', 'KEGG_AMINO_SUGAR_AND_NUCLEOTIDE_SUGAR_METABOLISM', 'KEGG_AMINOACYL_TRNA_BIOSYNTHESIS', 'KEGG_AMYOTROPHIC_LATERAL_SCLEROSIS_ALS', 'KEGG_ANTIGEN_PROCESSING_AND_PRESENTATION', 'KEGG_APOPTOSIS', 'KEGG_ARACHIDONIC_ACID_METABOLISM', 'KEGG_ARGININE_AND_PROLINE_METABOLISM', 'KEGG_ARRHYTHMOGENIC_RIGHT_VENTRICULAR_CARDIOMYOPATHY_ARVC', 'KEGG_ASCORBATE_AND_ALDARATE_METABOLISM', 'KEGG_ASTHMA', 'KEGG_AUTOIMMUNE_THYROID_DISEASE', 'KEGG_AXON_GUIDANCE', 'KEGG_B_CELL_RECEPTOR_SIGNALING_PATHWAY', 'KEGG_BASAL_CELL_CARCINOMA', 'KEGG_BASAL_TRANSCRIPTION_FACTORS', 'KEGG_BASE_EXCISION_REPAIR', 'KEGG_BETA_ALANINE_METABOLISM', 'KEGG_BIOSYNTHESIS_OF_UNSATURATED_FATTY_ACIDS', 'KEGG_BLADDER_CANCER', 'KEGG_BUTANOATE_METABOLISM', 'KEGG_CALCIUM_SIGNALING_PATHWAY', 'KEGG_CARDIAC_MUSCLE_CONTRACTION', 'KEGG_CELL_ADHESION_MOLECULES_CAMS', 'KEGG_CELL_CYCLE', 'KEGG_CHEMOKINE_SIGNALING_PATHWAY', 'KEGG_CHRONIC_MYELOID_LEUKEMIA', 'KEGG_CIRCADIAN_RHYTHM_MAMMAL', 'KEGG_CITRATE_CYCLE_TCA_CYCLE', 'KEGG_COLORECTAL_CANCER', 'KEGG_COMPLEMENT_AND_COAGULATION_CASCADES', 'KEGG_CYSTEINE_AND_METHIONINE_METABOLISM', 'KEGG_CYTOKINE_CYTOKINE_RECEPTOR_INTERACTION', 'KEGG_CYTOSOLIC_DNA_SENSING_PATHWAY', 'KEGG_DILATED_CARDIOMYOPATHY', 'KEGG_DNA_REPLICATION', 'KEGG_DORSO_VENTRAL_AXIS_FORMATION', 'KEGG_DRUG_METABOLISM_CYTOCHROME_P450', 'KEGG_DRUG_METABOLISM_OTHER_ENZYMES', 'KEGG_ECM_RECEPTOR_INTERACTION', 'KEGG_ENDOCYTOSIS', 'KEGG_ENDOMETRIAL_CANCER', 'KEGG_EPITHELIAL_CELL_SIGNALING_IN_HELICOBACTER_PYLORI_INFECTION', 'KEGG_ERBB_SIGNALING_PATHWAY', 'KEGG_ETHER_LIPID_METABOLISM', 'KEGG_FATTY_ACID_METABOLISM', 'KEGG_FC_EPSILON_RI_SIGNALING_PATHWAY', 'KEGG_FC_GAMMA_R_MEDIATED_PHAGOCYTOSIS', 'KEGG_FOCAL_ADHESION', 'KEGG_FOLATE_BIOSYNTHESIS', 'KEGG_FRUCTOSE_AND_MANNOSE_METABOLISM', 'KEGG_GALACTOSE_METABOLISM', 'KEGG_GAP_JUNCTION', 'KEGG_GLIOMA', 'KEGG_GLUTATHIONE_METABOLISM', 'KEGG_GLYCEROLIPID_METABOLISM', 'KEGG_GLYCEROPHOSPHOLIPID_METABOLISM', 'KEGG_GLYCINE_SERINE_AND_THREONINE_METABOLISM', 'KEGG_GLYCOLYSIS_GLUCONEOGENESIS', 'KEGG_GLYCOSAMINOGLYCAN_BIOSYNTHESIS_CHONDROITIN_SULFATE', 'KEGG_GLYCOSAMINOGLYCAN_BIOSYNTHESIS_HEPARAN_SULFATE', 'KEGG_GLYCOSAMINOGLYCAN_BIOSYNTHESIS_KERATAN_SULFATE', 'KEGG_GLYCOSAMINOGLYCAN_DEGRADATION', 'KEGG_GLYCOSPHINGOLIPID_BIOSYNTHESIS_GANGLIO_SERIES', 'KEGG_GLYCOSPHINGOLIPID_BIOSYNTHESIS_GLOBO_SERIES', 'KEGG_GLYCOSPHINGOLIPID_BIOSYNTHESIS_LACTO_AND_NEOLACTO_SERIES', 'KEGG_GLYCOSYLPHOSPHATIDYLINOSITOL_GPI_ANCHOR_BIOSYNTHESIS', 'KEGG_GLYOXYLATE_AND_DICARBOXYLATE_METABOLISM', 'KEGG_GNRH_SIGNALING_PATHWAY', 'KEGG_GRAFT_VERSUS_HOST_DISEASE', 'KEGG_HEDGEHOG_SIGNALING_PATHWAY', 'KEGG_HEMATOPOIETIC_CELL_LINEAGE', 'KEGG_HISTIDINE_METABOLISM', 'KEGG_HOMOLOGOUS_RECOMBINATION', 'KEGG_HUNTINGTONS_DISEASE', 'KEGG_HYPERTROPHIC_CARDIOMYOPATHY_HCM', 'KEGG_INOSITOL_PHOSPHATE_METABOLISM', 'KEGG_INSULIN_SIGNALING_PATHWAY', 'KEGG_INTESTINAL_IMMUNE_NETWORK_FOR_IGA_PRODUCTION', 'KEGG_JAK_STAT_SIGNALING_PATHWAY', 'KEGG_LEISHMANIA_INFECTION', 'KEGG_LEUKOCYTE_TRANSENDOTHELIAL_MIGRATION', 'KEGG_LIMONENE_AND_PINENE_DEGRADATION', 'KEGG_LINOLEIC_ACID_METABOLISM', 'KEGG_LONG_TERM_DEPRESSION', 'KEGG_LONG_TERM_POTENTIATION', 'KEGG_LYSINE_DEGRADATION', 'KEGG_LYSOSOME', 'KEGG_MAPK_SIGNALING_PATHWAY', 'KEGG_MATURITY_ONSET_DIABETES_OF_THE_YOUNG', 'KEGG_MELANOGENESIS', 'KEGG_MELANOMA', 'KEGG_METABOLISM_OF_XENOBIOTICS_BY_CYTOCHROME_P450', 'KEGG_MISMATCH_REPAIR', 'KEGG_MTOR_SIGNALING_PATHWAY', 'KEGG_N_GLYCAN_BIOSYNTHESIS', 'KEGG_NATURAL_KILLER_CELL_MEDIATED_CYTOTOXICITY', 'KEGG_NEUROACTIVE_LIGAND_RECEPTOR_INTERACTION', 'KEGG_NEUROTROPHIN_SIGNALING_PATHWAY', 'KEGG_NICOTINATE_AND_NICOTINAMIDE_METABOLISM', 'KEGG_NITROGEN_METABOLISM', 'KEGG_NOD_LIKE_RECEPTOR_SIGNALING_PATHWAY', 'KEGG_NON_HOMOLOGOUS_END_JOINING', 'KEGG_NON_SMALL_CELL_LUNG_CANCER', 'KEGG_NOTCH_SIGNALING_PATHWAY', 'KEGG_NUCLEOTIDE_EXCISION_REPAIR', 'KEGG_O_GLYCAN_BIOSYNTHESIS', 'KEGG_OLFACTORY_TRANSDUCTION', 'KEGG_ONE_CARBON_POOL_BY_FOLATE', 'KEGG_OOCYTE_MEIOSIS', 'KEGG_OTHER_GLYCAN_DEGRADATION', 'KEGG_OXIDATIVE_PHOSPHORYLATION', 'KEGG_P53_SIGNALING_PATHWAY', 'KEGG_PANCREATIC_CANCER', 'KEGG_PANTOTHENATE_AND_COA_BIOSYNTHESIS', 'KEGG_PARKINSONS_DISEASE', 'KEGG_PATHOGENIC_ESCHERICHIA_COLI_INFECTION', 'KEGG_PATHWAYS_IN_CANCER', 'KEGG_PENTOSE_AND_GLUCURONATE_INTERCONVERSIONS', 'KEGG_PENTOSE_PHOSPHATE_PATHWAY', 'KEGG_PEROXISOME', 'KEGG_PHENYLALANINE_METABOLISM', 'KEGG_PHOSPHATIDYLINOSITOL_SIGNALING_SYSTEM', 'KEGG_PORPHYRIN_AND_CHLOROPHYLL_METABOLISM', 'KEGG_PPAR_SIGNALING_PATHWAY', 'KEGG_PRIMARY_BILE_ACID_BIOSYNTHESIS', 'KEGG_PRIMARY_IMMUNODEFICIENCY', 'KEGG_PRION_DISEASES', 'KEGG_PROGESTERONE_MEDIATED_OOCYTE_MATURATION', 'KEGG_PROPANOATE_METABOLISM', 'KEGG_PROSTATE_CANCER', 'KEGG_PROTEASOME', 'KEGG_PROTEIN_EXPORT', 'KEGG_PROXIMAL_TUBULE_BICARBONATE_RECLAMATION', 'KEGG_PURINE_METABOLISM', 'KEGG_PYRIMIDINE_METABOLISM', 'KEGG_PYRUVATE_METABOLISM', 'KEGG_REGULATION_OF_ACTIN_CYTOSKELETON', 'KEGG_REGULATION_OF_AUTOPHAGY', 'KEGG_RENAL_CELL_CARCINOMA', 'KEGG_RENIN_ANGIOTENSIN_SYSTEM', 'KEGG_RETINOL_METABOLISM', 'KEGG_RIBOFLAVIN_METABOLISM', 'KEGG_RIBOSOME', 'KEGG_RIG_I_LIKE_RECEPTOR_SIGNALING_PATHWAY', 'KEGG_RNA_DEGRADATION', 'KEGG_RNA_POLYMERASE', 'KEGG_SELENOAMINO_ACID_METABOLISM', 'KEGG_SMALL_CELL_LUNG_CANCER', 'KEGG_SNARE_INTERACTIONS_IN_VESICULAR_TRANSPORT', 'KEGG_SPHINGOLIPID_METABOLISM', 'KEGG_SPLICEOSOME', 'KEGG_STARCH_AND_SUCROSE_METABOLISM', 'KEGG_STEROID_BIOSYNTHESIS', 'KEGG_STEROID_HORMONE_BIOSYNTHESIS', 'KEGG_SULFUR_METABOLISM', 'KEGG_SYSTEMIC_LUPUS_ERYTHEMATOSUS', 'KEGG_T_CELL_RECEPTOR_SIGNALING_PATHWAY', 'KEGG_TASTE_TRANSDUCTION', 'KEGG_TAURINE_AND_HYPOTAURINE_METABOLISM', 'KEGG_TERPENOID_BACKBONE_BIOSYNTHESIS', 'KEGG_TGF_BETA_SIGNALING_PATHWAY', 'KEGG_THYROID_CANCER', 'KEGG_TIGHT_JUNCTION', 'KEGG_TOLL_LIKE_RECEPTOR_SIGNALING_PATHWAY', 'KEGG_TRYPTOPHAN_METABOLISM', 'KEGG_TYPE_I_DIABETES_MELLITUS', 'KEGG_TYPE_II_DIABETES_MELLITUS', 'KEGG_TYROSINE_METABOLISM', 'KEGG_UBIQUITIN_MEDIATED_PROTEOLYSIS', 'KEGG_VALINE_LEUCINE_AND_ISOLEUCINE_BIOSYNTHESIS', 'KEGG_VALINE_LEUCINE_AND_ISOLEUCINE_DEGRADATION', 'KEGG_VASCULAR_SMOOTH_MUSCLE_CONTRACTION', 'KEGG_VASOPRESSIN_REGULATED_WATER_REABSORPTION', 'KEGG_VEGF_SIGNALING_PATHWAY', 'KEGG_VIBRIO_CHOLERAE_INFECTION', 'KEGG_VIRAL_MYOCARDITIS', 'KEGG_WNT_SIGNALING_PATHWAY'])\n"
     ]
    }
   ],
   "source": [
    "# Change keys to be gene set name (the first value in the 'gs_name' column) instead of Sheet1 etc \n",
    "K_sets2 = {df[\"gs_name\"].iloc[0]: df for _, df in K_sets.items()}\n",
    "K_sets = K_sets2\n",
    "\n",
    "# Result\n",
    "print(K_sets.keys())"
   ]
  },
  {
   "cell_type": "code",
   "execution_count": 10,
   "metadata": {},
   "outputs": [],
   "source": [
    "# Keys to include in new dictionary\n",
    "keys_include = [\"KEGG_ADIPOCYTOKINE_SIGNALING_PATHWAY\",\n",
    "\"KEGG_ANTIGEN_PROCESSING_AND_PRESENTATION\",\n",
    "\"KEGG_APOPTOSIS\",\n",
    "\"KEGG_CALCIUM_SIGNALING_PATHWAY\",\n",
    "\"KEGG_CELL_ADHESION_MOLECULES_CAMS\",\n",
    "\"KEGG_CHEMOKINE_SIGNALING_PATHWAY\",\n",
    "\"KEGG_CYTOKINE_CYTOKINE_RECEPTOR_INTERACTION\",\n",
    "\"KEGG_CYTOSOLIC_DNA_SENSING_PATHWAY\",\n",
    "\"KEGG_ENDOCYTOSIS\",\n",
    "\"KEGG_FATTY_ACID_METABOLISM\",\n",
    "\"KEGG_FC_GAMMA_R_MEDIATED_PHAGOCYTOSIS\",\n",
    "\"KEGG_GLYCOLYSIS_GLUCONEOGENESIS\",\n",
    "\"KEGG_JAK_STAT_SIGNALING_PATHWAY\",\n",
    "\"KEGG_MAPK_SIGNALING_PATHWAY\",\n",
    "\"KEGG_NOD_LIKE_RECEPTOR_SIGNALING_PATHWAY\",\n",
    "\"KEGG_NOTCH_SIGNALING_PATHWAY\",\n",
    "\"KEGG_OXIDATIVE_PHOSPHORYLATION\",\n",
    "\"KEGG_PROTEASOME\",\n",
    "\"KEGG_PROTEIN_EXPORT\",\n",
    "\"KEGG_TGF_BETA_SIGNALING_PATHWAY\",\n",
    "\"KEGG_TOLL_LIKE_RECEPTOR_SIGNALING_PATHWAY\",\n",
    "\"KEGG_TYROSINE_METABOLISM\",\n",
    "\"KEGG_UBIQUITIN_MEDIATED_PROTEOLYSIS\",\n",
    "\"KEGG_VEGF_SIGNALING_PATHWAY\"]"
   ]
  },
  {
   "cell_type": "code",
   "execution_count": 13,
   "metadata": {},
   "outputs": [],
   "source": [
    "# create a new dictionary with select keys (pathway sets)\n",
    "K_sets_sub = {key: K_sets[key] for key in keys_include if key in K_sets}"
   ]
  },
  {
   "cell_type": "code",
   "execution_count": 12,
   "metadata": {},
   "outputs": [
    {
     "name": "stdout",
     "output_type": "stream",
     "text": [
      "dict_keys(['KEGG_ADIPOCYTOKINE_SIGNALING_PATHWAY', 'KEGG_ANTIGEN_PROCESSING_AND_PRESENTATION', 'KEGG_APOPTOSIS', 'KEGG_CALCIUM_SIGNALING_PATHWAY', 'KEGG_CELL_ADHESION_MOLECULES_CAMS', 'KEGG_CHEMOKINE_SIGNALING_PATHWAY', 'KEGG_CYTOKINE_CYTOKINE_RECEPTOR_INTERACTION', 'KEGG_CYTOSOLIC_DNA_SENSING_PATHWAY', 'KEGG_ENDOCYTOSIS', 'KEGG_FATTY_ACID_METABOLISM', 'KEGG_FC_GAMMA_R_MEDIATED_PHAGOCYTOSIS', 'KEGG_GLYCOLYSIS_GLUCONEOGENESIS', 'KEGG_JAK_STAT_SIGNALING_PATHWAY', 'KEGG_MAPK_SIGNALING_PATHWAY', 'KEGG_NOD_LIKE_RECEPTOR_SIGNALING_PATHWAY', 'KEGG_NOTCH_SIGNALING_PATHWAY', 'KEGG_OXIDATIVE_PHOSPHORYLATION', 'KEGG_PROTEASOME', 'KEGG_PROTEIN_EXPORT', 'KEGG_TGF_BETA_SIGNALING_PATHWAY', 'KEGG_TOLL_LIKE_RECEPTOR_SIGNALING_PATHWAY', 'KEGG_TYROSINE_METABOLISM', 'KEGG_UBIQUITIN_MEDIATED_PROTEOLYSIS', 'KEGG_VEGF_SIGNALING_PATHWAY'])\n"
     ]
    }
   ],
   "source": [
    "print(K_sets_sub.keys())"
   ]
  },
  {
   "cell_type": "code",
   "execution_count": 14,
   "metadata": {},
   "outputs": [],
   "source": [
    "adipocytokine_df = K_sets_sub[\"KEGG_ADIPOCYTOKINE_SIGNALING_PATHWAY\"]\n",
    "adipocytokine_genes = adipocytokine_df[\"human_gene_symbol\"]\n",
    "adipocytokine_list = adipocytokine_genes.tolist()"
   ]
  },
  {
   "cell_type": "code",
   "execution_count": 15,
   "metadata": {},
   "outputs": [
    {
     "name": "stdout",
     "output_type": "stream",
     "text": [
      "WARNING: genes are not in var_names and ignored: Index(['ADIPOQ', 'AGRP', 'G6PC1', 'G6PC2', 'IRS4', 'LEP', 'NPY', 'PCK1',\n",
      "       'PRKAG3'],\n",
      "      dtype='object')\n",
      "WARNING: genes are not in var_names and ignored: Index(['ADIPOQ', 'AGRP', 'G6PC1', 'G6PC2', 'IRS4', 'LEP', 'NPY', 'PCK1',\n",
      "       'PRKAG3'],\n",
      "      dtype='object')\n"
     ]
    },
    {
     "name": "stderr",
     "output_type": "stream",
     "text": [
      "/home/s4436039/miniforge3/envs/env/lib/python3.12/site-packages/scanpy/tools/_score_genes.py:176: ImplicitModificationWarning: Trying to modify attribute `.obs` of view, initializing view as actual.\n",
      "  adata.obs[score_name] = pd.Series(\n"
     ]
    },
    {
     "name": "stdout",
     "output_type": "stream",
     "text": [
      "WARNING: genes are not in var_names and ignored: Index(['ADIPOQ', 'AGRP', 'G6PC1', 'G6PC2', 'IRS4', 'LEP', 'NPY', 'PCK1',\n",
      "       'PRKAG3'],\n",
      "      dtype='object')\n"
     ]
    },
    {
     "name": "stderr",
     "output_type": "stream",
     "text": [
      "/home/s4436039/miniforge3/envs/env/lib/python3.12/site-packages/scanpy/tools/_score_genes.py:176: ImplicitModificationWarning: Trying to modify attribute `.obs` of view, initializing view as actual.\n",
      "  adata.obs[score_name] = pd.Series(\n",
      "/home/s4436039/miniforge3/envs/env/lib/python3.12/site-packages/scanpy/tools/_score_genes.py:176: ImplicitModificationWarning: Trying to modify attribute `.obs` of view, initializing view as actual.\n",
      "  adata.obs[score_name] = pd.Series(\n"
     ]
    }
   ],
   "source": [
    "#score DC for gene set:\n",
    "sc.tl.score_genes(data_DC1, gene_list=adipocytokine_list, score_name=f\"adipocytokine_score\")\n",
    "sc.tl.score_genes(data_DC2, gene_list=adipocytokine_list, score_name=f\"adipocytokine_score\")\n",
    "sc.tl.score_genes(data_mregDC, gene_list=adipocytokine_list, score_name=f\"adipocytokine_score\")"
   ]
  },
  {
   "cell_type": "code",
   "execution_count": null,
   "metadata": {},
   "outputs": [],
   "source": [
    "score_column = \"adipocytokine_score\""
   ]
  },
  {
   "cell_type": "code",
   "execution_count": 151,
   "metadata": {},
   "outputs": [],
   "source": [
    "custom_order = ['HGSOC','Acral Melanoma','Breast Cancer','CRC','GAC','GBM','HCC','HNSCC','Melanoma','NPC','NSCLC','PDAC','iCCA']"
   ]
  },
  {
   "cell_type": "markdown",
   "metadata": {},
   "source": [
    "## generate scores and export to excel for prism"
   ]
  },
  {
   "cell_type": "markdown",
   "metadata": {},
   "source": [
    "### DC1"
   ]
  },
  {
   "cell_type": "code",
   "execution_count": null,
   "metadata": {},
   "outputs": [
    {
     "name": "stderr",
     "output_type": "stream",
     "text": [
      "/scratch/temp/11894104/ipykernel_2945541/1118147617.py:2: FutureWarning: The default of observed=False is deprecated and will be changed to True in a future version of pandas. Pass observed=False to retain current behavior or observed=True to adopt the future default and silence this warning.\n",
      "  score_DC1 = data_DC1.obs.groupby(\"integration_id\")[score_column].mean().reset_index()\n",
      "/scratch/temp/11894104/ipykernel_2945541/1118147617.py:12: FutureWarning: The default of observed=False is deprecated and will be changed to True in a future version of pandas. Pass observed=False to retain current behavior or observed=True to adopt the future default and silence this warning.\n",
      "  score_DC1['replicate'] = score_DC1.groupby('cancer_type_broad').cumcount()\n"
     ]
    },
    {
     "data": {
      "text/plain": [
       "(13, 96)"
      ]
     },
     "execution_count": 146,
     "metadata": {},
     "output_type": "execute_result"
    }
   ],
   "source": [
    "# Group by 'integration_id' and calculate the mean score for each group\n",
    "score_DC1 = data_DC1.obs.groupby(\"integration_id\")[score_column].mean().reset_index()\n",
    "\n",
    "# Merge with 'cancer_type_broad' by matching the 'integration_id'\n",
    "score_DC1 = score_DC1.merge(\n",
    "    data_DC1.obs[[\"integration_id\", \"cancer_type_broad\", \"NR_annotations_simple\"]].drop_duplicates(),\n",
    "    on=\"integration_id\",\n",
    "    how=\"left\"\n",
    ")\n",
    "\n",
    "# convert to layout for prism (cancer types as rows with replicates as columns)\n",
    "score_DC1['replicate'] = score_DC1.groupby('cancer_type_broad').cumcount()\n",
    "pivoted_df_DC1 = score_DC1.pivot(index='cancer_type_broad', columns='replicate', values='adipocytokine_score')\n",
    "# Reindex the rows based on custom order\n",
    "pivoted_df_DC1 = pivoted_df_DC1.reindex(custom_order)\n",
    "pivoted_df_DC1.shape"
   ]
  },
  {
   "cell_type": "markdown",
   "metadata": {},
   "source": [
    "### DC2:"
   ]
  },
  {
   "cell_type": "code",
   "execution_count": null,
   "metadata": {},
   "outputs": [
    {
     "name": "stderr",
     "output_type": "stream",
     "text": [
      "/scratch/temp/11894104/ipykernel_2945541/1451442245.py:2: FutureWarning: The default of observed=False is deprecated and will be changed to True in a future version of pandas. Pass observed=False to retain current behavior or observed=True to adopt the future default and silence this warning.\n",
      "  score_DC2 = data_DC2.obs.groupby(\"integration_id\")[score_column].mean().reset_index()\n",
      "/scratch/temp/11894104/ipykernel_2945541/1451442245.py:12: FutureWarning: The default of observed=False is deprecated and will be changed to True in a future version of pandas. Pass observed=False to retain current behavior or observed=True to adopt the future default and silence this warning.\n",
      "  score_DC2['replicate'] = score_DC2.groupby('cancer_type_broad').cumcount()\n"
     ]
    },
    {
     "data": {
      "text/plain": [
       "(13, 98)"
      ]
     },
     "execution_count": 147,
     "metadata": {},
     "output_type": "execute_result"
    }
   ],
   "source": [
    "# Group by 'integration_id' and calculate the mean score for each group\n",
    "score_DC2 = data_DC2.obs.groupby(\"integration_id\")[score_column].mean().reset_index()\n",
    "\n",
    "# Merge with 'cancer_type_broad' by matching the 'integration_id'\n",
    "score_DC2 = score_DC2.merge(\n",
    "    data_DC2.obs[[\"integration_id\", \"cancer_type_broad\", \"NR_annotations_simple\"]].drop_duplicates(),\n",
    "    on=\"integration_id\",\n",
    "    how=\"left\"\n",
    ")\n",
    "\n",
    "# convert to layout for prism (cancer types as rows with replicates as columns)\n",
    "score_DC2['replicate'] = score_DC2.groupby('cancer_type_broad').cumcount()\n",
    "pivoted_df_DC2 = score_DC2.pivot(index='cancer_type_broad', columns='replicate', values='adipocytokine_score')\n",
    "# Reindex the rows based on custom order\n",
    "pivoted_df_DC2 = pivoted_df_DC2.reindex(custom_order)\n",
    "pivoted_df_DC2.shape"
   ]
  },
  {
   "cell_type": "markdown",
   "metadata": {},
   "source": [
    "### mregDC:"
   ]
  },
  {
   "cell_type": "code",
   "execution_count": null,
   "metadata": {},
   "outputs": [
    {
     "name": "stderr",
     "output_type": "stream",
     "text": [
      "/scratch/temp/11894104/ipykernel_2945541/3433637666.py:2: FutureWarning: The default of observed=False is deprecated and will be changed to True in a future version of pandas. Pass observed=False to retain current behavior or observed=True to adopt the future default and silence this warning.\n",
      "  score_mregDC = data_mregDC.obs.groupby(\"integration_id\")[score_column].mean().reset_index()\n",
      "/scratch/temp/11894104/ipykernel_2945541/3433637666.py:12: FutureWarning: The default of observed=False is deprecated and will be changed to True in a future version of pandas. Pass observed=False to retain current behavior or observed=True to adopt the future default and silence this warning.\n",
      "  score_mregDC['replicate'] = score_mregDC.groupby('cancer_type_broad').cumcount()\n"
     ]
    },
    {
     "data": {
      "text/plain": [
       "(13, 97)"
      ]
     },
     "execution_count": 148,
     "metadata": {},
     "output_type": "execute_result"
    }
   ],
   "source": [
    "# Group by 'integration_id' and calculate the mean score for each group\n",
    "score_mregDC = data_mregDC.obs.groupby(\"integration_id\")[score_column].mean().reset_index()\n",
    "\n",
    "# Merge with 'cancer_type_broad' by matching the 'integration_id'\n",
    "score_mregDC = score_mregDC.merge(\n",
    "    data_mregDC.obs[[\"integration_id\", \"cancer_type_broad\", \"NR_annotations_simple\"]].drop_duplicates(),\n",
    "    on=\"integration_id\",\n",
    "    how=\"left\"\n",
    ")\n",
    "\n",
    "# convert to layout for prism (cancer types as rows with replicates as columns)\n",
    "score_mregDC['replicate'] = score_mregDC.groupby('cancer_type_broad').cumcount()\n",
    "pivoted_df_mregDC = score_mregDC.pivot(index='cancer_type_broad', columns='replicate', values='adipocytokine_score')\n",
    "# Reindex the rows based on custom order\n",
    "pivoted_df_mregDC = pivoted_df_mregDC.reindex(custom_order)\n",
    "pivoted_df_mregDC.shape"
   ]
  },
  {
   "cell_type": "markdown",
   "metadata": {},
   "source": [
    "### Export to excel"
   ]
  },
  {
   "cell_type": "code",
   "execution_count": 139,
   "metadata": {},
   "outputs": [],
   "source": [
    "with pd.ExcelWriter('Adipocytokine.xlsx') as writer:\n",
    "    pivoted_df_DC1.to_excel(writer, sheet_name='DC1')\n",
    "    pivoted_df_DC2.to_excel(writer, sheet_name='DC2')\n",
    "    pivoted_df_mregDC.to_excel(writer, sheet_name='mregDC')"
   ]
  }
 ],
 "metadata": {
  "kernelspec": {
   "display_name": "Python 3 (ipykernel)",
   "language": "python",
   "name": "python3"
  }
 },
 "nbformat": 4,
 "nbformat_minor": 2
}
