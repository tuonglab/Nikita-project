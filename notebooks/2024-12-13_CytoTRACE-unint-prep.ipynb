{
 "cells": [
  {
   "cell_type": "code",
   "execution_count": 25,
   "metadata": {},
   "outputs": [],
   "source": [
    "import scanpy as sc\n",
    "import os"
   ]
  },
  {
   "cell_type": "code",
   "execution_count": 2,
   "metadata": {},
   "outputs": [],
   "source": [
    "#read in the files\n",
    "data = sc.read_h5ad('/scratch/user/s4436039/scdata/Myeloid_Objects/NR_data_intersect.h5ad')\n",
    "data_clean = sc.read_h5ad('/scratch/user/s4436039/scdata/Python_Integration_Sep/NRclean_clustered2.h5ad')"
   ]
  },
  {
   "cell_type": "code",
   "execution_count": 3,
   "metadata": {},
   "outputs": [
    {
     "data": {
      "text/plain": [
       "AnnData object with n_obs × n_vars = 623908 × 15074\n",
       "    obs: 'nCount_RNA', 'nFeature_RNA', 'sample_type', 'cancer_type', 'patient_id', 'sample_id', 'percent.mt', 'site', 'sample_type_major', 'cancer_subtype', 'integration_id', 'ident', 'dataset_id'\n",
       "    var: 'name'"
      ]
     },
     "execution_count": 3,
     "metadata": {},
     "output_type": "execute_result"
    }
   ],
   "source": [
    "data"
   ]
  },
  {
   "cell_type": "code",
   "execution_count": 4,
   "metadata": {},
   "outputs": [
    {
     "data": {
      "text/plain": [
       "AnnData object with n_obs × n_vars = 498023 × 1268\n",
       "    obs: 'nCount_RNA', 'nFeature_RNA', 'sample_type', 'cancer_type', 'patient_id', 'sample_id', 'percent.mt', 'site', 'sample_type_major', 'cancer_subtype', 'integration_id', 'ident', 'dataset_id', 'n_genes_by_counts', 'log1p_n_genes_by_counts', 'total_counts', 'log1p_total_counts', 'pct_counts_in_top_50_genes', 'pct_counts_in_top_100_genes', 'pct_counts_in_top_200_genes', 'pct_counts_in_top_500_genes', 'total_counts_mt', 'log1p_total_counts_mt', 'pct_counts_mt', 'S_score', 'G2M_score', 'keep_or_remove', 'leiden', 'celltype', 'leiden_DC', 'leiden_DC_v2', 'exclude_annots', 'leiden_M', 'Technology', 'cancer_type_broad', 'clean-leiden_0.8', 'clean-subcluster', 'clean-subcluster-v2', 'YS_sig', 'HSC_sig', 'CD5nDC2_up_vDC3', 'DC3_up_vCD5nDC2', 'CD5pDC2_up_vDC3', 'DC3_up_vCD5pDC2', 'DC3_up_vMono', 'Mono_up_vDC3', 'DC1_sig', 'DC2_sig', 'DC3_sig', 'DC_Axl_sig', 'DC2_up_DC3', 'DC3_up_DC2', 'mregDC_sig', 'cDC1_mregDC', 'cDC2_mregDC', 'NR_annotations', 'NR_annotations_simple', 'sample_type_major2', 'cancer_with_H', 'cancer_broadest'\n",
       "    var: 'name', 'mt', 'n_cells_by_counts', 'mean_counts', 'log1p_mean_counts', 'pct_dropout_by_counts', 'total_counts', 'log1p_total_counts', 'highly_variable', 'means', 'dispersions', 'dispersions_norm', 'mean', 'std'\n",
       "    uns: 'NR_annotations_colors', 'NR_annotations_simple_colors', 'cancer_type_broad_colors', 'clean-leiden_0.8', 'clean-leiden_0.8_colors', 'clean-subcluster', 'clean-subcluster-v2', 'clean-subcluster-v2_colors', 'clean-subcluster_colors', 'dendrogram_NR_annotations_simple', 'hvg', 'log1p', 'neighbors', 'pca', 'rank_genes_groups', 'sample_type_major2_colors', 'site_colors', 'umap'\n",
       "    obsm: 'X_pca', 'X_pca_harmony', 'X_umap'\n",
       "    varm: 'PCs'\n",
       "    obsp: 'connectivities', 'distances'"
      ]
     },
     "execution_count": 4,
     "metadata": {},
     "output_type": "execute_result"
    }
   ],
   "source": [
    "data_clean"
   ]
  },
  {
   "cell_type": "code",
   "execution_count": 15,
   "metadata": {},
   "outputs": [],
   "source": [
    "# only using DC so make object with just DC\n",
    "data_clean_DC = data_clean[data_clean.obs[\"NR_annotations_simple\"].isin([\"cDC1\",\"cDC2\",\"mregDC\"])]"
   ]
  },
  {
   "cell_type": "code",
   "execution_count": 16,
   "metadata": {},
   "outputs": [
    {
     "data": {
      "text/plain": [
       "View of AnnData object with n_obs × n_vars = 30241 × 1268\n",
       "    obs: 'nCount_RNA', 'nFeature_RNA', 'sample_type', 'cancer_type', 'patient_id', 'sample_id', 'percent.mt', 'site', 'sample_type_major', 'cancer_subtype', 'integration_id', 'ident', 'dataset_id', 'n_genes_by_counts', 'log1p_n_genes_by_counts', 'total_counts', 'log1p_total_counts', 'pct_counts_in_top_50_genes', 'pct_counts_in_top_100_genes', 'pct_counts_in_top_200_genes', 'pct_counts_in_top_500_genes', 'total_counts_mt', 'log1p_total_counts_mt', 'pct_counts_mt', 'S_score', 'G2M_score', 'keep_or_remove', 'leiden', 'celltype', 'leiden_DC', 'leiden_DC_v2', 'exclude_annots', 'leiden_M', 'Technology', 'cancer_type_broad', 'clean-leiden_0.8', 'clean-subcluster', 'clean-subcluster-v2', 'YS_sig', 'HSC_sig', 'CD5nDC2_up_vDC3', 'DC3_up_vCD5nDC2', 'CD5pDC2_up_vDC3', 'DC3_up_vCD5pDC2', 'DC3_up_vMono', 'Mono_up_vDC3', 'DC1_sig', 'DC2_sig', 'DC3_sig', 'DC_Axl_sig', 'DC2_up_DC3', 'DC3_up_DC2', 'mregDC_sig', 'cDC1_mregDC', 'cDC2_mregDC', 'NR_annotations', 'NR_annotations_simple', 'sample_type_major2', 'cancer_with_H', 'cancer_broadest'\n",
       "    var: 'name', 'mt', 'n_cells_by_counts', 'mean_counts', 'log1p_mean_counts', 'pct_dropout_by_counts', 'total_counts', 'log1p_total_counts', 'highly_variable', 'means', 'dispersions', 'dispersions_norm', 'mean', 'std'\n",
       "    uns: 'NR_annotations_colors', 'NR_annotations_simple_colors', 'cancer_type_broad_colors', 'clean-leiden_0.8', 'clean-leiden_0.8_colors', 'clean-subcluster', 'clean-subcluster-v2', 'clean-subcluster-v2_colors', 'clean-subcluster_colors', 'dendrogram_NR_annotations_simple', 'hvg', 'log1p', 'neighbors', 'pca', 'rank_genes_groups', 'sample_type_major2_colors', 'site_colors', 'umap'\n",
       "    obsm: 'X_pca', 'X_pca_harmony', 'X_umap'\n",
       "    varm: 'PCs'\n",
       "    obsp: 'connectivities', 'distances'"
      ]
     },
     "execution_count": 16,
     "metadata": {},
     "output_type": "execute_result"
    }
   ],
   "source": [
    "data_clean_DC"
   ]
  },
  {
   "cell_type": "markdown",
   "metadata": {},
   "source": [
    "## subset data to only the cells in data_clean_DC based on barcode "
   ]
  },
  {
   "cell_type": "code",
   "execution_count": 17,
   "metadata": {},
   "outputs": [],
   "source": [
    "# Get the list of barcodes (cell names) in data_clean\n",
    "barcodes_to_keep = data_clean_DC.obs.index"
   ]
  },
  {
   "cell_type": "code",
   "execution_count": 18,
   "metadata": {},
   "outputs": [],
   "source": [
    "# subset data to just those in data_clean\n",
    "data_subset = data[data.obs.index.isin(barcodes_to_keep), :]"
   ]
  },
  {
   "cell_type": "code",
   "execution_count": 19,
   "metadata": {},
   "outputs": [
    {
     "data": {
      "text/plain": [
       "View of AnnData object with n_obs × n_vars = 30241 × 15074\n",
       "    obs: 'nCount_RNA', 'nFeature_RNA', 'sample_type', 'cancer_type', 'patient_id', 'sample_id', 'percent.mt', 'site', 'sample_type_major', 'cancer_subtype', 'integration_id', 'ident', 'dataset_id'\n",
       "    var: 'name'"
      ]
     },
     "execution_count": 19,
     "metadata": {},
     "output_type": "execute_result"
    }
   ],
   "source": [
    "data_subset"
   ]
  },
  {
   "cell_type": "markdown",
   "metadata": {},
   "source": [
    "## Transfer desired metadata to data_subset\n",
    "* NR_annotations_simple\n",
    "* sample_type_major2\n",
    "* cancer_with_H\n",
    "* cancer_broadest"
   ]
  },
  {
   "cell_type": "code",
   "execution_count": 20,
   "metadata": {},
   "outputs": [],
   "source": [
    "meta_columns = ['NR_annotations_simple','sample_type_major2','cancer_with_H','cancer_broadest']"
   ]
  },
  {
   "cell_type": "code",
   "execution_count": 21,
   "metadata": {},
   "outputs": [],
   "source": [
    "# Subset the metadata in data_clean to match data_subset's barcodes\n",
    "metadata_to_transfer = data_clean_DC.obs.loc[data_subset.obs.index, meta_columns]"
   ]
  },
  {
   "cell_type": "code",
   "execution_count": 22,
   "metadata": {},
   "outputs": [
    {
     "name": "stderr",
     "output_type": "stream",
     "text": [
      "/scratch/temp/11976141/ipykernel_2421827/2010837473.py:3: ImplicitModificationWarning: Trying to modify attribute `.obs` of view, initializing view as actual.\n",
      "  data_subset.obs[col] = metadata_to_transfer[col]\n"
     ]
    }
   ],
   "source": [
    "# Add these columns to data_subset's obs\n",
    "for col in meta_columns:\n",
    "    data_subset.obs[col] = metadata_to_transfer[col]"
   ]
  },
  {
   "cell_type": "code",
   "execution_count": 24,
   "metadata": {},
   "outputs": [
    {
     "data": {
      "text/html": [
       "<div>\n",
       "<style scoped>\n",
       "    .dataframe tbody tr th:only-of-type {\n",
       "        vertical-align: middle;\n",
       "    }\n",
       "\n",
       "    .dataframe tbody tr th {\n",
       "        vertical-align: top;\n",
       "    }\n",
       "\n",
       "    .dataframe thead th {\n",
       "        text-align: right;\n",
       "    }\n",
       "</style>\n",
       "<table border=\"1\" class=\"dataframe\">\n",
       "  <thead>\n",
       "    <tr style=\"text-align: right;\">\n",
       "      <th></th>\n",
       "      <th>nCount_RNA</th>\n",
       "      <th>nFeature_RNA</th>\n",
       "      <th>sample_type</th>\n",
       "      <th>cancer_type</th>\n",
       "      <th>patient_id</th>\n",
       "      <th>sample_id</th>\n",
       "      <th>percent.mt</th>\n",
       "      <th>site</th>\n",
       "      <th>sample_type_major</th>\n",
       "      <th>cancer_subtype</th>\n",
       "      <th>integration_id</th>\n",
       "      <th>ident</th>\n",
       "      <th>dataset_id</th>\n",
       "      <th>NR_annotations_simple</th>\n",
       "      <th>sample_type_major2</th>\n",
       "      <th>cancer_with_H</th>\n",
       "      <th>cancer_broadest</th>\n",
       "    </tr>\n",
       "  </thead>\n",
       "  <tbody>\n",
       "    <tr>\n",
       "      <th>GSE180661_HGSOC_SPECTRUM-OV-045_S1_CD45P_LEFT_OVARY_GTTTACTCAAGGCCTC</th>\n",
       "      <td>-9.995153</td>\n",
       "      <td>-8.131683</td>\n",
       "      <td>Adnexa</td>\n",
       "      <td>HGSOC</td>\n",
       "      <td>Left Adnexa</td>\n",
       "      <td>SPECTRUM-OV-045_S1_CD45P_LEFT_OVARY</td>\n",
       "      <td>2694.0</td>\n",
       "      <td>ovary</td>\n",
       "      <td>primary tumour</td>\n",
       "      <td>HGSOC</td>\n",
       "      <td>GSE180661_SPECTRUM-OV-045_S1_CD45P_LEFT_OVARY</td>\n",
       "      <td>all_integrated_intersect</td>\n",
       "      <td>GSE180661</td>\n",
       "      <td>cDC1</td>\n",
       "      <td>primary tumour</td>\n",
       "      <td>HGSOC</td>\n",
       "      <td>HGSOC</td>\n",
       "    </tr>\n",
       "    <tr>\n",
       "      <th>GSE180661_HGSOC_SPECTRUM-OV-045_S1_CD45P_LEFT_OVARY_TACCGAACAAACCGGA</th>\n",
       "      <td>-9.134331</td>\n",
       "      <td>-8.627023</td>\n",
       "      <td>Adnexa</td>\n",
       "      <td>HGSOC</td>\n",
       "      <td>Left Adnexa</td>\n",
       "      <td>SPECTRUM-OV-045_S1_CD45P_LEFT_OVARY</td>\n",
       "      <td>839.0</td>\n",
       "      <td>ovary</td>\n",
       "      <td>primary tumour</td>\n",
       "      <td>HGSOC</td>\n",
       "      <td>GSE180661_SPECTRUM-OV-045_S1_CD45P_LEFT_OVARY</td>\n",
       "      <td>all_integrated_intersect</td>\n",
       "      <td>GSE180661</td>\n",
       "      <td>cDC2</td>\n",
       "      <td>primary tumour</td>\n",
       "      <td>HGSOC</td>\n",
       "      <td>HGSOC</td>\n",
       "    </tr>\n",
       "    <tr>\n",
       "      <th>GSE180661_HGSOC_SPECTRUM-OV-045_S1_CD45P_LEFT_OVARY_TCACGCTTCCGTCACT</th>\n",
       "      <td>-10.033317</td>\n",
       "      <td>-7.518040</td>\n",
       "      <td>Adnexa</td>\n",
       "      <td>HGSOC</td>\n",
       "      <td>Left Adnexa</td>\n",
       "      <td>SPECTRUM-OV-045_S1_CD45P_LEFT_OVARY</td>\n",
       "      <td>1683.0</td>\n",
       "      <td>ovary</td>\n",
       "      <td>primary tumour</td>\n",
       "      <td>HGSOC</td>\n",
       "      <td>GSE180661_SPECTRUM-OV-045_S1_CD45P_LEFT_OVARY</td>\n",
       "      <td>all_integrated_intersect</td>\n",
       "      <td>GSE180661</td>\n",
       "      <td>mregDC</td>\n",
       "      <td>primary tumour</td>\n",
       "      <td>HGSOC</td>\n",
       "      <td>HGSOC</td>\n",
       "    </tr>\n",
       "    <tr>\n",
       "      <th>GSE180661_HGSOC_SPECTRUM-OV-045_S1_CD45P_LEFT_OVARY_TGCAGTAGTGTTGCCG</th>\n",
       "      <td>-9.364501</td>\n",
       "      <td>-8.566583</td>\n",
       "      <td>Adnexa</td>\n",
       "      <td>HGSOC</td>\n",
       "      <td>Left Adnexa</td>\n",
       "      <td>SPECTRUM-OV-045_S1_CD45P_LEFT_OVARY</td>\n",
       "      <td>2257.0</td>\n",
       "      <td>ovary</td>\n",
       "      <td>primary tumour</td>\n",
       "      <td>HGSOC</td>\n",
       "      <td>GSE180661_SPECTRUM-OV-045_S1_CD45P_LEFT_OVARY</td>\n",
       "      <td>all_integrated_intersect</td>\n",
       "      <td>GSE180661</td>\n",
       "      <td>cDC2</td>\n",
       "      <td>primary tumour</td>\n",
       "      <td>HGSOC</td>\n",
       "      <td>HGSOC</td>\n",
       "    </tr>\n",
       "    <tr>\n",
       "      <th>GSE180661_HGSOC_SPECTRUM-OV-045_S1_CD45P_LEFT_OVARY_TGTGAGTTCGGAAACG</th>\n",
       "      <td>-9.738727</td>\n",
       "      <td>-7.459797</td>\n",
       "      <td>Adnexa</td>\n",
       "      <td>HGSOC</td>\n",
       "      <td>Left Adnexa</td>\n",
       "      <td>SPECTRUM-OV-045_S1_CD45P_LEFT_OVARY</td>\n",
       "      <td>949.0</td>\n",
       "      <td>ovary</td>\n",
       "      <td>primary tumour</td>\n",
       "      <td>HGSOC</td>\n",
       "      <td>GSE180661_SPECTRUM-OV-045_S1_CD45P_LEFT_OVARY</td>\n",
       "      <td>all_integrated_intersect</td>\n",
       "      <td>GSE180661</td>\n",
       "      <td>mregDC</td>\n",
       "      <td>primary tumour</td>\n",
       "      <td>HGSOC</td>\n",
       "      <td>HGSOC</td>\n",
       "    </tr>\n",
       "  </tbody>\n",
       "</table>\n",
       "</div>"
      ],
      "text/plain": [
       "                                                    nCount_RNA  nFeature_RNA  \\\n",
       "GSE180661_HGSOC_SPECTRUM-OV-045_S1_CD45P_LEFT_O...   -9.995153     -8.131683   \n",
       "GSE180661_HGSOC_SPECTRUM-OV-045_S1_CD45P_LEFT_O...   -9.134331     -8.627023   \n",
       "GSE180661_HGSOC_SPECTRUM-OV-045_S1_CD45P_LEFT_O...  -10.033317     -7.518040   \n",
       "GSE180661_HGSOC_SPECTRUM-OV-045_S1_CD45P_LEFT_O...   -9.364501     -8.566583   \n",
       "GSE180661_HGSOC_SPECTRUM-OV-045_S1_CD45P_LEFT_O...   -9.738727     -7.459797   \n",
       "\n",
       "                                                   sample_type cancer_type  \\\n",
       "GSE180661_HGSOC_SPECTRUM-OV-045_S1_CD45P_LEFT_O...      Adnexa       HGSOC   \n",
       "GSE180661_HGSOC_SPECTRUM-OV-045_S1_CD45P_LEFT_O...      Adnexa       HGSOC   \n",
       "GSE180661_HGSOC_SPECTRUM-OV-045_S1_CD45P_LEFT_O...      Adnexa       HGSOC   \n",
       "GSE180661_HGSOC_SPECTRUM-OV-045_S1_CD45P_LEFT_O...      Adnexa       HGSOC   \n",
       "GSE180661_HGSOC_SPECTRUM-OV-045_S1_CD45P_LEFT_O...      Adnexa       HGSOC   \n",
       "\n",
       "                                                     patient_id  \\\n",
       "GSE180661_HGSOC_SPECTRUM-OV-045_S1_CD45P_LEFT_O...  Left Adnexa   \n",
       "GSE180661_HGSOC_SPECTRUM-OV-045_S1_CD45P_LEFT_O...  Left Adnexa   \n",
       "GSE180661_HGSOC_SPECTRUM-OV-045_S1_CD45P_LEFT_O...  Left Adnexa   \n",
       "GSE180661_HGSOC_SPECTRUM-OV-045_S1_CD45P_LEFT_O...  Left Adnexa   \n",
       "GSE180661_HGSOC_SPECTRUM-OV-045_S1_CD45P_LEFT_O...  Left Adnexa   \n",
       "\n",
       "                                                                              sample_id  \\\n",
       "GSE180661_HGSOC_SPECTRUM-OV-045_S1_CD45P_LEFT_O...  SPECTRUM-OV-045_S1_CD45P_LEFT_OVARY   \n",
       "GSE180661_HGSOC_SPECTRUM-OV-045_S1_CD45P_LEFT_O...  SPECTRUM-OV-045_S1_CD45P_LEFT_OVARY   \n",
       "GSE180661_HGSOC_SPECTRUM-OV-045_S1_CD45P_LEFT_O...  SPECTRUM-OV-045_S1_CD45P_LEFT_OVARY   \n",
       "GSE180661_HGSOC_SPECTRUM-OV-045_S1_CD45P_LEFT_O...  SPECTRUM-OV-045_S1_CD45P_LEFT_OVARY   \n",
       "GSE180661_HGSOC_SPECTRUM-OV-045_S1_CD45P_LEFT_O...  SPECTRUM-OV-045_S1_CD45P_LEFT_OVARY   \n",
       "\n",
       "                                                    percent.mt   site  \\\n",
       "GSE180661_HGSOC_SPECTRUM-OV-045_S1_CD45P_LEFT_O...      2694.0  ovary   \n",
       "GSE180661_HGSOC_SPECTRUM-OV-045_S1_CD45P_LEFT_O...       839.0  ovary   \n",
       "GSE180661_HGSOC_SPECTRUM-OV-045_S1_CD45P_LEFT_O...      1683.0  ovary   \n",
       "GSE180661_HGSOC_SPECTRUM-OV-045_S1_CD45P_LEFT_O...      2257.0  ovary   \n",
       "GSE180661_HGSOC_SPECTRUM-OV-045_S1_CD45P_LEFT_O...       949.0  ovary   \n",
       "\n",
       "                                                   sample_type_major  \\\n",
       "GSE180661_HGSOC_SPECTRUM-OV-045_S1_CD45P_LEFT_O...    primary tumour   \n",
       "GSE180661_HGSOC_SPECTRUM-OV-045_S1_CD45P_LEFT_O...    primary tumour   \n",
       "GSE180661_HGSOC_SPECTRUM-OV-045_S1_CD45P_LEFT_O...    primary tumour   \n",
       "GSE180661_HGSOC_SPECTRUM-OV-045_S1_CD45P_LEFT_O...    primary tumour   \n",
       "GSE180661_HGSOC_SPECTRUM-OV-045_S1_CD45P_LEFT_O...    primary tumour   \n",
       "\n",
       "                                                   cancer_subtype  \\\n",
       "GSE180661_HGSOC_SPECTRUM-OV-045_S1_CD45P_LEFT_O...          HGSOC   \n",
       "GSE180661_HGSOC_SPECTRUM-OV-045_S1_CD45P_LEFT_O...          HGSOC   \n",
       "GSE180661_HGSOC_SPECTRUM-OV-045_S1_CD45P_LEFT_O...          HGSOC   \n",
       "GSE180661_HGSOC_SPECTRUM-OV-045_S1_CD45P_LEFT_O...          HGSOC   \n",
       "GSE180661_HGSOC_SPECTRUM-OV-045_S1_CD45P_LEFT_O...          HGSOC   \n",
       "\n",
       "                                                                                   integration_id  \\\n",
       "GSE180661_HGSOC_SPECTRUM-OV-045_S1_CD45P_LEFT_O...  GSE180661_SPECTRUM-OV-045_S1_CD45P_LEFT_OVARY   \n",
       "GSE180661_HGSOC_SPECTRUM-OV-045_S1_CD45P_LEFT_O...  GSE180661_SPECTRUM-OV-045_S1_CD45P_LEFT_OVARY   \n",
       "GSE180661_HGSOC_SPECTRUM-OV-045_S1_CD45P_LEFT_O...  GSE180661_SPECTRUM-OV-045_S1_CD45P_LEFT_OVARY   \n",
       "GSE180661_HGSOC_SPECTRUM-OV-045_S1_CD45P_LEFT_O...  GSE180661_SPECTRUM-OV-045_S1_CD45P_LEFT_OVARY   \n",
       "GSE180661_HGSOC_SPECTRUM-OV-045_S1_CD45P_LEFT_O...  GSE180661_SPECTRUM-OV-045_S1_CD45P_LEFT_OVARY   \n",
       "\n",
       "                                                                       ident  \\\n",
       "GSE180661_HGSOC_SPECTRUM-OV-045_S1_CD45P_LEFT_O...  all_integrated_intersect   \n",
       "GSE180661_HGSOC_SPECTRUM-OV-045_S1_CD45P_LEFT_O...  all_integrated_intersect   \n",
       "GSE180661_HGSOC_SPECTRUM-OV-045_S1_CD45P_LEFT_O...  all_integrated_intersect   \n",
       "GSE180661_HGSOC_SPECTRUM-OV-045_S1_CD45P_LEFT_O...  all_integrated_intersect   \n",
       "GSE180661_HGSOC_SPECTRUM-OV-045_S1_CD45P_LEFT_O...  all_integrated_intersect   \n",
       "\n",
       "                                                   dataset_id  \\\n",
       "GSE180661_HGSOC_SPECTRUM-OV-045_S1_CD45P_LEFT_O...  GSE180661   \n",
       "GSE180661_HGSOC_SPECTRUM-OV-045_S1_CD45P_LEFT_O...  GSE180661   \n",
       "GSE180661_HGSOC_SPECTRUM-OV-045_S1_CD45P_LEFT_O...  GSE180661   \n",
       "GSE180661_HGSOC_SPECTRUM-OV-045_S1_CD45P_LEFT_O...  GSE180661   \n",
       "GSE180661_HGSOC_SPECTRUM-OV-045_S1_CD45P_LEFT_O...  GSE180661   \n",
       "\n",
       "                                                   NR_annotations_simple  \\\n",
       "GSE180661_HGSOC_SPECTRUM-OV-045_S1_CD45P_LEFT_O...                  cDC1   \n",
       "GSE180661_HGSOC_SPECTRUM-OV-045_S1_CD45P_LEFT_O...                  cDC2   \n",
       "GSE180661_HGSOC_SPECTRUM-OV-045_S1_CD45P_LEFT_O...                mregDC   \n",
       "GSE180661_HGSOC_SPECTRUM-OV-045_S1_CD45P_LEFT_O...                  cDC2   \n",
       "GSE180661_HGSOC_SPECTRUM-OV-045_S1_CD45P_LEFT_O...                mregDC   \n",
       "\n",
       "                                                   sample_type_major2  \\\n",
       "GSE180661_HGSOC_SPECTRUM-OV-045_S1_CD45P_LEFT_O...     primary tumour   \n",
       "GSE180661_HGSOC_SPECTRUM-OV-045_S1_CD45P_LEFT_O...     primary tumour   \n",
       "GSE180661_HGSOC_SPECTRUM-OV-045_S1_CD45P_LEFT_O...     primary tumour   \n",
       "GSE180661_HGSOC_SPECTRUM-OV-045_S1_CD45P_LEFT_O...     primary tumour   \n",
       "GSE180661_HGSOC_SPECTRUM-OV-045_S1_CD45P_LEFT_O...     primary tumour   \n",
       "\n",
       "                                                   cancer_with_H  \\\n",
       "GSE180661_HGSOC_SPECTRUM-OV-045_S1_CD45P_LEFT_O...         HGSOC   \n",
       "GSE180661_HGSOC_SPECTRUM-OV-045_S1_CD45P_LEFT_O...         HGSOC   \n",
       "GSE180661_HGSOC_SPECTRUM-OV-045_S1_CD45P_LEFT_O...         HGSOC   \n",
       "GSE180661_HGSOC_SPECTRUM-OV-045_S1_CD45P_LEFT_O...         HGSOC   \n",
       "GSE180661_HGSOC_SPECTRUM-OV-045_S1_CD45P_LEFT_O...         HGSOC   \n",
       "\n",
       "                                                   cancer_broadest  \n",
       "GSE180661_HGSOC_SPECTRUM-OV-045_S1_CD45P_LEFT_O...           HGSOC  \n",
       "GSE180661_HGSOC_SPECTRUM-OV-045_S1_CD45P_LEFT_O...           HGSOC  \n",
       "GSE180661_HGSOC_SPECTRUM-OV-045_S1_CD45P_LEFT_O...           HGSOC  \n",
       "GSE180661_HGSOC_SPECTRUM-OV-045_S1_CD45P_LEFT_O...           HGSOC  \n",
       "GSE180661_HGSOC_SPECTRUM-OV-045_S1_CD45P_LEFT_O...           HGSOC  "
      ]
     },
     "execution_count": 24,
     "metadata": {},
     "output_type": "execute_result"
    }
   ],
   "source": [
    "# Verify that the metadata was transferred\n",
    "data_subset.obs.tail()"
   ]
  },
  {
   "cell_type": "code",
   "execution_count": 27,
   "metadata": {},
   "outputs": [
    {
     "data": {
      "text/plain": [
       "AnnData object with n_obs × n_vars = 30241 × 15074\n",
       "    obs: 'nCount_RNA', 'nFeature_RNA', 'sample_type', 'cancer_type', 'patient_id', 'sample_id', 'percent.mt', 'site', 'sample_type_major', 'cancer_subtype', 'integration_id', 'ident', 'dataset_id', 'NR_annotations_simple', 'sample_type_major2', 'cancer_with_H', 'cancer_broadest'\n",
       "    var: 'name'"
      ]
     },
     "execution_count": 27,
     "metadata": {},
     "output_type": "execute_result"
    }
   ],
   "source": [
    "data_subset"
   ]
  },
  {
   "cell_type": "code",
   "execution_count": 26,
   "metadata": {},
   "outputs": [
    {
     "data": {
      "text/plain": [
       "'/scratch/user/s4436039/scdata/CytoTRACE_R'"
      ]
     },
     "execution_count": 26,
     "metadata": {},
     "output_type": "execute_result"
    }
   ],
   "source": [
    "#show current directory \n",
    "os.getcwd()\n",
    "os.chdir('/scratch/user/s4436039/scdata/CytoTRACE_R')\n",
    "os.getcwd()"
   ]
  },
  {
   "cell_type": "code",
   "execution_count": 28,
   "metadata": {},
   "outputs": [],
   "source": [
    "#export unintegrated DC object as a h5ad object for use in seurat cytotrace\n",
    "data_subset.write_h5ad(\"NR_unint_DC_cytotrace.h5ad\", compression=\"gzip\")"
   ]
  }
 ],
 "metadata": {
  "kernelspec": {
   "display_name": "Python 3 (ipykernel)",
   "language": "python",
   "name": "python3"
  },
  "language_info": {
   "codemirror_mode": {
    "name": "ipython",
    "version": 3
   },
   "file_extension": ".py",
   "mimetype": "text/x-python",
   "name": "python",
   "nbconvert_exporter": "python",
   "pygments_lexer": "ipython3",
   "version": "3.12.3"
  }
 },
 "nbformat": 4,
 "nbformat_minor": 2
}
