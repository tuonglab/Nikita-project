{
 "cells": [
  {
   "cell_type": "markdown",
   "metadata": {},
   "source": [
    "Clustering of GSE177482 (breast cancer, 1 sample)\n",
    "Goal: Initial QC and cluster to identify myeloid cells, export myeloid cells\n",
    "File name: GSE177482_RAW.tar"
   ]
  },
  {
   "cell_type": "markdown",
   "metadata": {},
   "source": [
    "``` bash\n",
    "cd /scratch/user/s4436039/scdata/GSE177482\n",
    "ixcpu \n",
    "```\n",
    "...start session\n",
    "\n",
    "#Code in BASH to unzip .tar\n",
    "\n",
    "``` bash \n",
    "tar -xvf GSE177482_RAW.tar\n",
    "```\n",
    "should then be unzipped, should contain a H5 file and a txt"
   ]
  },
  {
   "cell_type": "code",
   "execution_count": null,
   "metadata": {
    "vscode": {
     "languageId": "r"
    }
   },
   "outputs": [],
   "source": [
    "library(dplyr)\n",
    "library(Seurat)\n",
    "library(patchwork)\n",
    "\n",
    "#set wd\n",
    "setwd(\"/scratch/user/s4436039/scdata/GSE177482\")\n",
    "\n",
    "#load dataset (H5)\n",
    "data <- Read10X_h5(\"GSE177482.h5\")\n",
    "\n",
    "#initialise seurat object?"
   ]
  },
  {
   "cell_type": "code",
   "execution_count": null,
   "metadata": {
    "vscode": {
     "languageId": "r"
    }
   },
   "outputs": [],
   "source": [
    "#standard pre-processing\n",
    "\n",
    "data[[\"percent.mt\"]] <- PercentageFeatureSet(data, pattern = \"^MT-\")\n",
    "\n",
    "# Visualize QC metrics as a violin plot\n",
    "VlnPlot(data, features = c(\"nFeature_RNA\", \"nCount_RNA\", \"percent.mt\"), ncol = 3)\n",
    "\n",
    "# FeatureScatter is typically used to visualize feature-feature relationships, but can be used\n",
    "# for anything calculated by the object, i.e. columns in object metadata, PC scores etc.\n",
    "plot1 <- FeatureScatter(data, feature1 = \"nCount_RNA\", feature2 = \"percent.mt\")\n",
    "plot2 <- FeatureScatter(data, feature1 = \"nCount_RNA\", feature2 = \"nFeature_RNA\")\n",
    "plot1 + plot2\n",
    "\n",
    "data <- subset(data, subset = nFeature_RNA > 200 & nFeature_RNA < 2500 & percent.mt < 5)"
   ]
  },
  {
   "cell_type": "code",
   "execution_count": null,
   "metadata": {
    "vscode": {
     "languageId": "r"
    }
   },
   "outputs": [],
   "source": [
    "#Normalising the data\n",
    "\n",
    "data <- NormalizeData(data, normalization.method = \"LogNormalize\", scale.factor = 10000)\n",
    "data <- NormalizeData(data)"
   ]
  },
  {
   "cell_type": "code",
   "execution_count": null,
   "metadata": {
    "vscode": {
     "languageId": "r"
    }
   },
   "outputs": [],
   "source": [
    "#GSE164690 trying instead, file GSE164690_RAW.tar"
   ]
  }
 ],
 "metadata": {
  "language_info": {
   "name": "python"
  }
 },
 "nbformat": 4,
 "nbformat_minor": 2
}
