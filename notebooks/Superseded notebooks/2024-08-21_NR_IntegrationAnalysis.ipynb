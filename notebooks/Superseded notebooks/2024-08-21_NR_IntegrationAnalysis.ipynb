{
 "cells": [
  {
   "cell_type": "markdown",
   "metadata": {},
   "source": [
    "### Integration of 36 datasets \n",
    "\n",
    "* merge of datasets was done by Kelvin in python (each converted to AnnData, merged together, object converted back to h5ad and then to RDS)\n",
    "\n",
    "Now have two files:\n",
    "* all_integrated_intersect.RDS\n",
    "* all_integrated.RDS\n",
    "\n",
    "The second contains all genes, the first contains just the genes found in all datasets. Not sure which best to use so will try both and see. "
   ]
  },
  {
   "cell_type": "code",
   "execution_count": 1,
   "metadata": {
    "vscode": {
     "languageId": "r"
    }
   },
   "outputs": [
    {
     "data": {
      "text/html": [
       "'/scratch/user/s4436039/Nikita-project'"
      ],
      "text/latex": [
       "'/scratch/user/s4436039/Nikita-project'"
      ],
      "text/markdown": [
       "'/scratch/user/s4436039/Nikita-project'"
      ],
      "text/plain": [
       "[1] \"/scratch/user/s4436039/Nikita-project\""
      ]
     },
     "metadata": {},
     "output_type": "display_data"
    },
    {
     "data": {
      "text/html": [
       "'/scratch/user/s4436039/scdata'"
      ],
      "text/latex": [
       "'/scratch/user/s4436039/scdata'"
      ],
      "text/markdown": [
       "'/scratch/user/s4436039/scdata'"
      ],
      "text/plain": [
       "[1] \"/scratch/user/s4436039/scdata\""
      ]
     },
     "metadata": {},
     "output_type": "display_data"
    }
   ],
   "source": [
    "#set wd\n",
    "getwd()\n",
    "setwd('/scratch/user/s4436039/scdata')\n",
    "getwd()"
   ]
  },
  {
   "cell_type": "code",
   "execution_count": 2,
   "metadata": {
    "vscode": {
     "languageId": "r"
    }
   },
   "outputs": [
    {
     "name": "stderr",
     "output_type": "stream",
     "text": [
      "Loading required package: SeuratObject\n",
      "\n",
      "Loading required package: sp\n",
      "\n",
      "\n",
      "Attaching package: ‘SeuratObject’\n",
      "\n",
      "\n",
      "The following objects are masked from ‘package:base’:\n",
      "\n",
      "    intersect, t\n",
      "\n",
      "\n"
     ]
    }
   ],
   "source": [
    "library(Seurat)"
   ]
  },
  {
   "cell_type": "code",
   "execution_count": 3,
   "metadata": {
    "vscode": {
     "languageId": "r"
    }
   },
   "outputs": [],
   "source": [
    "#read in data\n",
    "Data_i <- readRDS(file = \"/scratch/user/s4436039/scdata/Myeloid_Cells/Myeloid_Cells_Integrate/all_integrated_intersect.RDS\")\n",
    "#Data <- readRDS(file = \"/scratch/user/s4436039/scdata/Myeloid_Cells/Myeloid_Cells_Integrate/all_integrated.RDS\")"
   ]
  },
  {
   "cell_type": "code",
   "execution_count": 4,
   "metadata": {
    "vscode": {
     "languageId": "r"
    }
   },
   "outputs": [
    {
     "data": {
      "text/plain": [
       "An object of class Seurat \n",
       "15074 features across 623908 samples within 1 assay \n",
       "Active assay: RNA (15074 features, 0 variable features)\n",
       " 2 layers present: counts, data"
      ]
     },
     "metadata": {},
     "output_type": "display_data"
    }
   ],
   "source": [
    "Data_i"
   ]
  },
  {
   "cell_type": "code",
   "execution_count": 5,
   "metadata": {
    "vscode": {
     "languageId": "r"
    }
   },
   "outputs": [
    {
     "data": {
      "text/html": [
       "<table class=\"dataframe\">\n",
       "<caption>A data.frame: 6 × 12</caption>\n",
       "<thead>\n",
       "\t<tr><th></th><th scope=col>nCount_RNA</th><th scope=col>nFeature_RNA</th><th scope=col>sample_type</th><th scope=col>cancer_type</th><th scope=col>patient_id</th><th scope=col>sample_id</th><th scope=col>percent.mt</th><th scope=col>site</th><th scope=col>sample_type_major</th><th scope=col>cancer_subtype</th><th scope=col>integration_id</th><th scope=col>ident</th></tr>\n",
       "\t<tr><th></th><th scope=col>&lt;dbl&gt;</th><th scope=col>&lt;dbl&gt;</th><th scope=col>&lt;fct&gt;</th><th scope=col>&lt;fct&gt;</th><th scope=col>&lt;fct&gt;</th><th scope=col>&lt;fct&gt;</th><th scope=col>&lt;dbl&gt;</th><th scope=col>&lt;fct&gt;</th><th scope=col>&lt;fct&gt;</th><th scope=col>&lt;fct&gt;</th><th scope=col>&lt;fct&gt;</th><th scope=col>&lt;fct&gt;</th></tr>\n",
       "</thead>\n",
       "<tbody>\n",
       "\t<tr><th scope=row>GSE215120_AM1_AAACCTGGTTGCTCCT-1</th><td>20298</td><td>3789</td><td>tumour</td><td>Acral Melanoma</td><td>AM1</td><td>GSE215120_Acral_MEL_AM1</td><td>0.9754656</td><td>skin</td><td>primary tumour</td><td>Acral Melanoma</td><td>GSE215120_Acral_MEL_AM1</td><td>12</td></tr>\n",
       "\t<tr><th scope=row>GSE215120_AM1_AAAGATGTCCAAATGC-1</th><td> 5574</td><td>1721</td><td>tumour</td><td>Acral Melanoma</td><td>AM1</td><td>GSE215120_Acral_MEL_AM1</td><td>6.0459275</td><td>skin</td><td>primary tumour</td><td>Acral Melanoma</td><td>GSE215120_Acral_MEL_AM1</td><td>12</td></tr>\n",
       "\t<tr><th scope=row>GSE215120_AM1_AAAGTAGTCGGTGTTA-1</th><td>13432</td><td>2759</td><td>tumour</td><td>Acral Melanoma</td><td>AM1</td><td>GSE215120_Acral_MEL_AM1</td><td>2.1515783</td><td>skin</td><td>primary tumour</td><td>Acral Melanoma</td><td>GSE215120_Acral_MEL_AM1</td><td>12</td></tr>\n",
       "\t<tr><th scope=row>GSE215120_AM1_AAATGCCCAGAGCCAA-1</th><td>17143</td><td>2659</td><td>tumour</td><td>Acral Melanoma</td><td>AM1</td><td>GSE215120_Acral_MEL_AM1</td><td>1.2249898</td><td>skin</td><td>primary tumour</td><td>Acral Melanoma</td><td>GSE215120_Acral_MEL_AM1</td><td>12</td></tr>\n",
       "\t<tr><th scope=row>GSE215120_AM1_AAATGCCGTTTGGCGC-1</th><td> 3603</td><td>1012</td><td>tumour</td><td>Acral Melanoma</td><td>AM1</td><td>GSE215120_Acral_MEL_AM1</td><td>3.6081044</td><td>skin</td><td>primary tumour</td><td>Acral Melanoma</td><td>GSE215120_Acral_MEL_AM1</td><td>12</td></tr>\n",
       "\t<tr><th scope=row>GSE215120_AM1_AAATGCCTCATGTCCC-1</th><td>14482</td><td>2882</td><td>tumour</td><td>Acral Melanoma</td><td>AM1</td><td>GSE215120_Acral_MEL_AM1</td><td>1.0357685</td><td>skin</td><td>primary tumour</td><td>Acral Melanoma</td><td>GSE215120_Acral_MEL_AM1</td><td>12</td></tr>\n",
       "</tbody>\n",
       "</table>\n"
      ],
      "text/latex": [
       "A data.frame: 6 × 12\n",
       "\\begin{tabular}{r|llllllllllll}\n",
       "  & nCount\\_RNA & nFeature\\_RNA & sample\\_type & cancer\\_type & patient\\_id & sample\\_id & percent.mt & site & sample\\_type\\_major & cancer\\_subtype & integration\\_id & ident\\\\\n",
       "  & <dbl> & <dbl> & <fct> & <fct> & <fct> & <fct> & <dbl> & <fct> & <fct> & <fct> & <fct> & <fct>\\\\\n",
       "\\hline\n",
       "\tGSE215120\\_AM1\\_AAACCTGGTTGCTCCT-1 & 20298 & 3789 & tumour & Acral Melanoma & AM1 & GSE215120\\_Acral\\_MEL\\_AM1 & 0.9754656 & skin & primary tumour & Acral Melanoma & GSE215120\\_Acral\\_MEL\\_AM1 & 12\\\\\n",
       "\tGSE215120\\_AM1\\_AAAGATGTCCAAATGC-1 &  5574 & 1721 & tumour & Acral Melanoma & AM1 & GSE215120\\_Acral\\_MEL\\_AM1 & 6.0459275 & skin & primary tumour & Acral Melanoma & GSE215120\\_Acral\\_MEL\\_AM1 & 12\\\\\n",
       "\tGSE215120\\_AM1\\_AAAGTAGTCGGTGTTA-1 & 13432 & 2759 & tumour & Acral Melanoma & AM1 & GSE215120\\_Acral\\_MEL\\_AM1 & 2.1515783 & skin & primary tumour & Acral Melanoma & GSE215120\\_Acral\\_MEL\\_AM1 & 12\\\\\n",
       "\tGSE215120\\_AM1\\_AAATGCCCAGAGCCAA-1 & 17143 & 2659 & tumour & Acral Melanoma & AM1 & GSE215120\\_Acral\\_MEL\\_AM1 & 1.2249898 & skin & primary tumour & Acral Melanoma & GSE215120\\_Acral\\_MEL\\_AM1 & 12\\\\\n",
       "\tGSE215120\\_AM1\\_AAATGCCGTTTGGCGC-1 &  3603 & 1012 & tumour & Acral Melanoma & AM1 & GSE215120\\_Acral\\_MEL\\_AM1 & 3.6081044 & skin & primary tumour & Acral Melanoma & GSE215120\\_Acral\\_MEL\\_AM1 & 12\\\\\n",
       "\tGSE215120\\_AM1\\_AAATGCCTCATGTCCC-1 & 14482 & 2882 & tumour & Acral Melanoma & AM1 & GSE215120\\_Acral\\_MEL\\_AM1 & 1.0357685 & skin & primary tumour & Acral Melanoma & GSE215120\\_Acral\\_MEL\\_AM1 & 12\\\\\n",
       "\\end{tabular}\n"
      ],
      "text/markdown": [
       "\n",
       "A data.frame: 6 × 12\n",
       "\n",
       "| <!--/--> | nCount_RNA &lt;dbl&gt; | nFeature_RNA &lt;dbl&gt; | sample_type &lt;fct&gt; | cancer_type &lt;fct&gt; | patient_id &lt;fct&gt; | sample_id &lt;fct&gt; | percent.mt &lt;dbl&gt; | site &lt;fct&gt; | sample_type_major &lt;fct&gt; | cancer_subtype &lt;fct&gt; | integration_id &lt;fct&gt; | ident &lt;fct&gt; |\n",
       "|---|---|---|---|---|---|---|---|---|---|---|---|---|\n",
       "| GSE215120_AM1_AAACCTGGTTGCTCCT-1 | 20298 | 3789 | tumour | Acral Melanoma | AM1 | GSE215120_Acral_MEL_AM1 | 0.9754656 | skin | primary tumour | Acral Melanoma | GSE215120_Acral_MEL_AM1 | 12 |\n",
       "| GSE215120_AM1_AAAGATGTCCAAATGC-1 |  5574 | 1721 | tumour | Acral Melanoma | AM1 | GSE215120_Acral_MEL_AM1 | 6.0459275 | skin | primary tumour | Acral Melanoma | GSE215120_Acral_MEL_AM1 | 12 |\n",
       "| GSE215120_AM1_AAAGTAGTCGGTGTTA-1 | 13432 | 2759 | tumour | Acral Melanoma | AM1 | GSE215120_Acral_MEL_AM1 | 2.1515783 | skin | primary tumour | Acral Melanoma | GSE215120_Acral_MEL_AM1 | 12 |\n",
       "| GSE215120_AM1_AAATGCCCAGAGCCAA-1 | 17143 | 2659 | tumour | Acral Melanoma | AM1 | GSE215120_Acral_MEL_AM1 | 1.2249898 | skin | primary tumour | Acral Melanoma | GSE215120_Acral_MEL_AM1 | 12 |\n",
       "| GSE215120_AM1_AAATGCCGTTTGGCGC-1 |  3603 | 1012 | tumour | Acral Melanoma | AM1 | GSE215120_Acral_MEL_AM1 | 3.6081044 | skin | primary tumour | Acral Melanoma | GSE215120_Acral_MEL_AM1 | 12 |\n",
       "| GSE215120_AM1_AAATGCCTCATGTCCC-1 | 14482 | 2882 | tumour | Acral Melanoma | AM1 | GSE215120_Acral_MEL_AM1 | 1.0357685 | skin | primary tumour | Acral Melanoma | GSE215120_Acral_MEL_AM1 | 12 |\n",
       "\n"
      ],
      "text/plain": [
       "                                 nCount_RNA nFeature_RNA sample_type\n",
       "GSE215120_AM1_AAACCTGGTTGCTCCT-1 20298      3789         tumour     \n",
       "GSE215120_AM1_AAAGATGTCCAAATGC-1  5574      1721         tumour     \n",
       "GSE215120_AM1_AAAGTAGTCGGTGTTA-1 13432      2759         tumour     \n",
       "GSE215120_AM1_AAATGCCCAGAGCCAA-1 17143      2659         tumour     \n",
       "GSE215120_AM1_AAATGCCGTTTGGCGC-1  3603      1012         tumour     \n",
       "GSE215120_AM1_AAATGCCTCATGTCCC-1 14482      2882         tumour     \n",
       "                                 cancer_type    patient_id\n",
       "GSE215120_AM1_AAACCTGGTTGCTCCT-1 Acral Melanoma AM1       \n",
       "GSE215120_AM1_AAAGATGTCCAAATGC-1 Acral Melanoma AM1       \n",
       "GSE215120_AM1_AAAGTAGTCGGTGTTA-1 Acral Melanoma AM1       \n",
       "GSE215120_AM1_AAATGCCCAGAGCCAA-1 Acral Melanoma AM1       \n",
       "GSE215120_AM1_AAATGCCGTTTGGCGC-1 Acral Melanoma AM1       \n",
       "GSE215120_AM1_AAATGCCTCATGTCCC-1 Acral Melanoma AM1       \n",
       "                                 sample_id               percent.mt site\n",
       "GSE215120_AM1_AAACCTGGTTGCTCCT-1 GSE215120_Acral_MEL_AM1 0.9754656  skin\n",
       "GSE215120_AM1_AAAGATGTCCAAATGC-1 GSE215120_Acral_MEL_AM1 6.0459275  skin\n",
       "GSE215120_AM1_AAAGTAGTCGGTGTTA-1 GSE215120_Acral_MEL_AM1 2.1515783  skin\n",
       "GSE215120_AM1_AAATGCCCAGAGCCAA-1 GSE215120_Acral_MEL_AM1 1.2249898  skin\n",
       "GSE215120_AM1_AAATGCCGTTTGGCGC-1 GSE215120_Acral_MEL_AM1 3.6081044  skin\n",
       "GSE215120_AM1_AAATGCCTCATGTCCC-1 GSE215120_Acral_MEL_AM1 1.0357685  skin\n",
       "                                 sample_type_major cancer_subtype\n",
       "GSE215120_AM1_AAACCTGGTTGCTCCT-1 primary tumour    Acral Melanoma\n",
       "GSE215120_AM1_AAAGATGTCCAAATGC-1 primary tumour    Acral Melanoma\n",
       "GSE215120_AM1_AAAGTAGTCGGTGTTA-1 primary tumour    Acral Melanoma\n",
       "GSE215120_AM1_AAATGCCCAGAGCCAA-1 primary tumour    Acral Melanoma\n",
       "GSE215120_AM1_AAATGCCGTTTGGCGC-1 primary tumour    Acral Melanoma\n",
       "GSE215120_AM1_AAATGCCTCATGTCCC-1 primary tumour    Acral Melanoma\n",
       "                                 integration_id          ident\n",
       "GSE215120_AM1_AAACCTGGTTGCTCCT-1 GSE215120_Acral_MEL_AM1 12   \n",
       "GSE215120_AM1_AAAGATGTCCAAATGC-1 GSE215120_Acral_MEL_AM1 12   \n",
       "GSE215120_AM1_AAAGTAGTCGGTGTTA-1 GSE215120_Acral_MEL_AM1 12   \n",
       "GSE215120_AM1_AAATGCCCAGAGCCAA-1 GSE215120_Acral_MEL_AM1 12   \n",
       "GSE215120_AM1_AAATGCCGTTTGGCGC-1 GSE215120_Acral_MEL_AM1 12   \n",
       "GSE215120_AM1_AAATGCCTCATGTCCC-1 GSE215120_Acral_MEL_AM1 12   "
      ]
     },
     "metadata": {},
     "output_type": "display_data"
    },
    {
     "data": {
      "text/html": [
       "<table class=\"dataframe\">\n",
       "<caption>A data.frame: 6 × 12</caption>\n",
       "<thead>\n",
       "\t<tr><th></th><th scope=col>nCount_RNA</th><th scope=col>nFeature_RNA</th><th scope=col>sample_type</th><th scope=col>cancer_type</th><th scope=col>patient_id</th><th scope=col>sample_id</th><th scope=col>percent.mt</th><th scope=col>site</th><th scope=col>sample_type_major</th><th scope=col>cancer_subtype</th><th scope=col>integration_id</th><th scope=col>ident</th></tr>\n",
       "\t<tr><th></th><th scope=col>&lt;dbl&gt;</th><th scope=col>&lt;dbl&gt;</th><th scope=col>&lt;fct&gt;</th><th scope=col>&lt;fct&gt;</th><th scope=col>&lt;fct&gt;</th><th scope=col>&lt;fct&gt;</th><th scope=col>&lt;dbl&gt;</th><th scope=col>&lt;fct&gt;</th><th scope=col>&lt;fct&gt;</th><th scope=col>&lt;fct&gt;</th><th scope=col>&lt;fct&gt;</th><th scope=col>&lt;fct&gt;</th></tr>\n",
       "</thead>\n",
       "<tbody>\n",
       "\t<tr><th scope=row>GSE180661_HGSOC_SPECTRUM-OV-045_S1_CD45P_LEFT_OVARY_TTTCATGGTTACCTGA</th><td>-4.499666</td><td> -9.853381</td><td>Adnexa</td><td>HGSOC</td><td>Left Adnexa</td><td>SPECTRUM-OV-045_S1_CD45P_LEFT_OVARY</td><td>1779</td><td>ovary</td><td>primary tumour</td><td>HGSOC</td><td>GSE180661_SPECTRUM-OV-045_S1_CD45P_LEFT_OVARY</td><td>1</td></tr>\n",
       "\t<tr><th scope=row>GSE180661_HGSOC_SPECTRUM-OV-045_S1_CD45P_LEFT_OVARY_TTTCGATGTGACGTCC</th><td>-4.871771</td><td>-10.337130</td><td>Adnexa</td><td>HGSOC</td><td>Left Adnexa</td><td>SPECTRUM-OV-045_S1_CD45P_LEFT_OVARY</td><td>1541</td><td>ovary</td><td>primary tumour</td><td>HGSOC</td><td>GSE180661_SPECTRUM-OV-045_S1_CD45P_LEFT_OVARY</td><td>1</td></tr>\n",
       "\t<tr><th scope=row>GSE180661_HGSOC_SPECTRUM-OV-045_S1_CD45P_LEFT_OVARY_TTTCGATTCTGCGAGC</th><td>-4.766977</td><td> -8.292435</td><td>Adnexa</td><td>HGSOC</td><td>Left Adnexa</td><td>SPECTRUM-OV-045_S1_CD45P_LEFT_OVARY</td><td>2596</td><td>ovary</td><td>primary tumour</td><td>HGSOC</td><td>GSE180661_SPECTRUM-OV-045_S1_CD45P_LEFT_OVARY</td><td>1</td></tr>\n",
       "\t<tr><th scope=row>GSE180661_HGSOC_SPECTRUM-OV-045_S1_CD45P_LEFT_OVARY_TTTGATCGTTGCTCCT</th><td>-4.133310</td><td> -8.758132</td><td>Adnexa</td><td>HGSOC</td><td>Left Adnexa</td><td>SPECTRUM-OV-045_S1_CD45P_LEFT_OVARY</td><td>1200</td><td>ovary</td><td>primary tumour</td><td>HGSOC</td><td>GSE180661_SPECTRUM-OV-045_S1_CD45P_LEFT_OVARY</td><td>1</td></tr>\n",
       "\t<tr><th scope=row>GSE180661_HGSOC_SPECTRUM-OV-045_S1_CD45P_LEFT_OVARY_TTTGGAGGTACGACAG</th><td>-9.313746</td><td> -7.889039</td><td>Adnexa</td><td>HGSOC</td><td>Left Adnexa</td><td>SPECTRUM-OV-045_S1_CD45P_LEFT_OVARY</td><td>3165</td><td>ovary</td><td>primary tumour</td><td>HGSOC</td><td>GSE180661_SPECTRUM-OV-045_S1_CD45P_LEFT_OVARY</td><td>1</td></tr>\n",
       "\t<tr><th scope=row>GSE180661_HGSOC_SPECTRUM-OV-045_S1_CD45P_LEFT_OVARY_TTTGGTTGTGTACAGG</th><td>-4.476278</td><td>-10.355681</td><td>Adnexa</td><td>HGSOC</td><td>Left Adnexa</td><td>SPECTRUM-OV-045_S1_CD45P_LEFT_OVARY</td><td>1895</td><td>ovary</td><td>primary tumour</td><td>HGSOC</td><td>GSE180661_SPECTRUM-OV-045_S1_CD45P_LEFT_OVARY</td><td>1</td></tr>\n",
       "</tbody>\n",
       "</table>\n"
      ],
      "text/latex": [
       "A data.frame: 6 × 12\n",
       "\\begin{tabular}{r|llllllllllll}\n",
       "  & nCount\\_RNA & nFeature\\_RNA & sample\\_type & cancer\\_type & patient\\_id & sample\\_id & percent.mt & site & sample\\_type\\_major & cancer\\_subtype & integration\\_id & ident\\\\\n",
       "  & <dbl> & <dbl> & <fct> & <fct> & <fct> & <fct> & <dbl> & <fct> & <fct> & <fct> & <fct> & <fct>\\\\\n",
       "\\hline\n",
       "\tGSE180661\\_HGSOC\\_SPECTRUM-OV-045\\_S1\\_CD45P\\_LEFT\\_OVARY\\_TTTCATGGTTACCTGA & -4.499666 &  -9.853381 & Adnexa & HGSOC & Left Adnexa & SPECTRUM-OV-045\\_S1\\_CD45P\\_LEFT\\_OVARY & 1779 & ovary & primary tumour & HGSOC & GSE180661\\_SPECTRUM-OV-045\\_S1\\_CD45P\\_LEFT\\_OVARY & 1\\\\\n",
       "\tGSE180661\\_HGSOC\\_SPECTRUM-OV-045\\_S1\\_CD45P\\_LEFT\\_OVARY\\_TTTCGATGTGACGTCC & -4.871771 & -10.337130 & Adnexa & HGSOC & Left Adnexa & SPECTRUM-OV-045\\_S1\\_CD45P\\_LEFT\\_OVARY & 1541 & ovary & primary tumour & HGSOC & GSE180661\\_SPECTRUM-OV-045\\_S1\\_CD45P\\_LEFT\\_OVARY & 1\\\\\n",
       "\tGSE180661\\_HGSOC\\_SPECTRUM-OV-045\\_S1\\_CD45P\\_LEFT\\_OVARY\\_TTTCGATTCTGCGAGC & -4.766977 &  -8.292435 & Adnexa & HGSOC & Left Adnexa & SPECTRUM-OV-045\\_S1\\_CD45P\\_LEFT\\_OVARY & 2596 & ovary & primary tumour & HGSOC & GSE180661\\_SPECTRUM-OV-045\\_S1\\_CD45P\\_LEFT\\_OVARY & 1\\\\\n",
       "\tGSE180661\\_HGSOC\\_SPECTRUM-OV-045\\_S1\\_CD45P\\_LEFT\\_OVARY\\_TTTGATCGTTGCTCCT & -4.133310 &  -8.758132 & Adnexa & HGSOC & Left Adnexa & SPECTRUM-OV-045\\_S1\\_CD45P\\_LEFT\\_OVARY & 1200 & ovary & primary tumour & HGSOC & GSE180661\\_SPECTRUM-OV-045\\_S1\\_CD45P\\_LEFT\\_OVARY & 1\\\\\n",
       "\tGSE180661\\_HGSOC\\_SPECTRUM-OV-045\\_S1\\_CD45P\\_LEFT\\_OVARY\\_TTTGGAGGTACGACAG & -9.313746 &  -7.889039 & Adnexa & HGSOC & Left Adnexa & SPECTRUM-OV-045\\_S1\\_CD45P\\_LEFT\\_OVARY & 3165 & ovary & primary tumour & HGSOC & GSE180661\\_SPECTRUM-OV-045\\_S1\\_CD45P\\_LEFT\\_OVARY & 1\\\\\n",
       "\tGSE180661\\_HGSOC\\_SPECTRUM-OV-045\\_S1\\_CD45P\\_LEFT\\_OVARY\\_TTTGGTTGTGTACAGG & -4.476278 & -10.355681 & Adnexa & HGSOC & Left Adnexa & SPECTRUM-OV-045\\_S1\\_CD45P\\_LEFT\\_OVARY & 1895 & ovary & primary tumour & HGSOC & GSE180661\\_SPECTRUM-OV-045\\_S1\\_CD45P\\_LEFT\\_OVARY & 1\\\\\n",
       "\\end{tabular}\n"
      ],
      "text/markdown": [
       "\n",
       "A data.frame: 6 × 12\n",
       "\n",
       "| <!--/--> | nCount_RNA &lt;dbl&gt; | nFeature_RNA &lt;dbl&gt; | sample_type &lt;fct&gt; | cancer_type &lt;fct&gt; | patient_id &lt;fct&gt; | sample_id &lt;fct&gt; | percent.mt &lt;dbl&gt; | site &lt;fct&gt; | sample_type_major &lt;fct&gt; | cancer_subtype &lt;fct&gt; | integration_id &lt;fct&gt; | ident &lt;fct&gt; |\n",
       "|---|---|---|---|---|---|---|---|---|---|---|---|---|\n",
       "| GSE180661_HGSOC_SPECTRUM-OV-045_S1_CD45P_LEFT_OVARY_TTTCATGGTTACCTGA | -4.499666 |  -9.853381 | Adnexa | HGSOC | Left Adnexa | SPECTRUM-OV-045_S1_CD45P_LEFT_OVARY | 1779 | ovary | primary tumour | HGSOC | GSE180661_SPECTRUM-OV-045_S1_CD45P_LEFT_OVARY | 1 |\n",
       "| GSE180661_HGSOC_SPECTRUM-OV-045_S1_CD45P_LEFT_OVARY_TTTCGATGTGACGTCC | -4.871771 | -10.337130 | Adnexa | HGSOC | Left Adnexa | SPECTRUM-OV-045_S1_CD45P_LEFT_OVARY | 1541 | ovary | primary tumour | HGSOC | GSE180661_SPECTRUM-OV-045_S1_CD45P_LEFT_OVARY | 1 |\n",
       "| GSE180661_HGSOC_SPECTRUM-OV-045_S1_CD45P_LEFT_OVARY_TTTCGATTCTGCGAGC | -4.766977 |  -8.292435 | Adnexa | HGSOC | Left Adnexa | SPECTRUM-OV-045_S1_CD45P_LEFT_OVARY | 2596 | ovary | primary tumour | HGSOC | GSE180661_SPECTRUM-OV-045_S1_CD45P_LEFT_OVARY | 1 |\n",
       "| GSE180661_HGSOC_SPECTRUM-OV-045_S1_CD45P_LEFT_OVARY_TTTGATCGTTGCTCCT | -4.133310 |  -8.758132 | Adnexa | HGSOC | Left Adnexa | SPECTRUM-OV-045_S1_CD45P_LEFT_OVARY | 1200 | ovary | primary tumour | HGSOC | GSE180661_SPECTRUM-OV-045_S1_CD45P_LEFT_OVARY | 1 |\n",
       "| GSE180661_HGSOC_SPECTRUM-OV-045_S1_CD45P_LEFT_OVARY_TTTGGAGGTACGACAG | -9.313746 |  -7.889039 | Adnexa | HGSOC | Left Adnexa | SPECTRUM-OV-045_S1_CD45P_LEFT_OVARY | 3165 | ovary | primary tumour | HGSOC | GSE180661_SPECTRUM-OV-045_S1_CD45P_LEFT_OVARY | 1 |\n",
       "| GSE180661_HGSOC_SPECTRUM-OV-045_S1_CD45P_LEFT_OVARY_TTTGGTTGTGTACAGG | -4.476278 | -10.355681 | Adnexa | HGSOC | Left Adnexa | SPECTRUM-OV-045_S1_CD45P_LEFT_OVARY | 1895 | ovary | primary tumour | HGSOC | GSE180661_SPECTRUM-OV-045_S1_CD45P_LEFT_OVARY | 1 |\n",
       "\n"
      ],
      "text/plain": [
       "                                                                     nCount_RNA\n",
       "GSE180661_HGSOC_SPECTRUM-OV-045_S1_CD45P_LEFT_OVARY_TTTCATGGTTACCTGA -4.499666 \n",
       "GSE180661_HGSOC_SPECTRUM-OV-045_S1_CD45P_LEFT_OVARY_TTTCGATGTGACGTCC -4.871771 \n",
       "GSE180661_HGSOC_SPECTRUM-OV-045_S1_CD45P_LEFT_OVARY_TTTCGATTCTGCGAGC -4.766977 \n",
       "GSE180661_HGSOC_SPECTRUM-OV-045_S1_CD45P_LEFT_OVARY_TTTGATCGTTGCTCCT -4.133310 \n",
       "GSE180661_HGSOC_SPECTRUM-OV-045_S1_CD45P_LEFT_OVARY_TTTGGAGGTACGACAG -9.313746 \n",
       "GSE180661_HGSOC_SPECTRUM-OV-045_S1_CD45P_LEFT_OVARY_TTTGGTTGTGTACAGG -4.476278 \n",
       "                                                                     nFeature_RNA\n",
       "GSE180661_HGSOC_SPECTRUM-OV-045_S1_CD45P_LEFT_OVARY_TTTCATGGTTACCTGA  -9.853381  \n",
       "GSE180661_HGSOC_SPECTRUM-OV-045_S1_CD45P_LEFT_OVARY_TTTCGATGTGACGTCC -10.337130  \n",
       "GSE180661_HGSOC_SPECTRUM-OV-045_S1_CD45P_LEFT_OVARY_TTTCGATTCTGCGAGC  -8.292435  \n",
       "GSE180661_HGSOC_SPECTRUM-OV-045_S1_CD45P_LEFT_OVARY_TTTGATCGTTGCTCCT  -8.758132  \n",
       "GSE180661_HGSOC_SPECTRUM-OV-045_S1_CD45P_LEFT_OVARY_TTTGGAGGTACGACAG  -7.889039  \n",
       "GSE180661_HGSOC_SPECTRUM-OV-045_S1_CD45P_LEFT_OVARY_TTTGGTTGTGTACAGG -10.355681  \n",
       "                                                                     sample_type\n",
       "GSE180661_HGSOC_SPECTRUM-OV-045_S1_CD45P_LEFT_OVARY_TTTCATGGTTACCTGA Adnexa     \n",
       "GSE180661_HGSOC_SPECTRUM-OV-045_S1_CD45P_LEFT_OVARY_TTTCGATGTGACGTCC Adnexa     \n",
       "GSE180661_HGSOC_SPECTRUM-OV-045_S1_CD45P_LEFT_OVARY_TTTCGATTCTGCGAGC Adnexa     \n",
       "GSE180661_HGSOC_SPECTRUM-OV-045_S1_CD45P_LEFT_OVARY_TTTGATCGTTGCTCCT Adnexa     \n",
       "GSE180661_HGSOC_SPECTRUM-OV-045_S1_CD45P_LEFT_OVARY_TTTGGAGGTACGACAG Adnexa     \n",
       "GSE180661_HGSOC_SPECTRUM-OV-045_S1_CD45P_LEFT_OVARY_TTTGGTTGTGTACAGG Adnexa     \n",
       "                                                                     cancer_type\n",
       "GSE180661_HGSOC_SPECTRUM-OV-045_S1_CD45P_LEFT_OVARY_TTTCATGGTTACCTGA HGSOC      \n",
       "GSE180661_HGSOC_SPECTRUM-OV-045_S1_CD45P_LEFT_OVARY_TTTCGATGTGACGTCC HGSOC      \n",
       "GSE180661_HGSOC_SPECTRUM-OV-045_S1_CD45P_LEFT_OVARY_TTTCGATTCTGCGAGC HGSOC      \n",
       "GSE180661_HGSOC_SPECTRUM-OV-045_S1_CD45P_LEFT_OVARY_TTTGATCGTTGCTCCT HGSOC      \n",
       "GSE180661_HGSOC_SPECTRUM-OV-045_S1_CD45P_LEFT_OVARY_TTTGGAGGTACGACAG HGSOC      \n",
       "GSE180661_HGSOC_SPECTRUM-OV-045_S1_CD45P_LEFT_OVARY_TTTGGTTGTGTACAGG HGSOC      \n",
       "                                                                     patient_id \n",
       "GSE180661_HGSOC_SPECTRUM-OV-045_S1_CD45P_LEFT_OVARY_TTTCATGGTTACCTGA Left Adnexa\n",
       "GSE180661_HGSOC_SPECTRUM-OV-045_S1_CD45P_LEFT_OVARY_TTTCGATGTGACGTCC Left Adnexa\n",
       "GSE180661_HGSOC_SPECTRUM-OV-045_S1_CD45P_LEFT_OVARY_TTTCGATTCTGCGAGC Left Adnexa\n",
       "GSE180661_HGSOC_SPECTRUM-OV-045_S1_CD45P_LEFT_OVARY_TTTGATCGTTGCTCCT Left Adnexa\n",
       "GSE180661_HGSOC_SPECTRUM-OV-045_S1_CD45P_LEFT_OVARY_TTTGGAGGTACGACAG Left Adnexa\n",
       "GSE180661_HGSOC_SPECTRUM-OV-045_S1_CD45P_LEFT_OVARY_TTTGGTTGTGTACAGG Left Adnexa\n",
       "                                                                     sample_id                          \n",
       "GSE180661_HGSOC_SPECTRUM-OV-045_S1_CD45P_LEFT_OVARY_TTTCATGGTTACCTGA SPECTRUM-OV-045_S1_CD45P_LEFT_OVARY\n",
       "GSE180661_HGSOC_SPECTRUM-OV-045_S1_CD45P_LEFT_OVARY_TTTCGATGTGACGTCC SPECTRUM-OV-045_S1_CD45P_LEFT_OVARY\n",
       "GSE180661_HGSOC_SPECTRUM-OV-045_S1_CD45P_LEFT_OVARY_TTTCGATTCTGCGAGC SPECTRUM-OV-045_S1_CD45P_LEFT_OVARY\n",
       "GSE180661_HGSOC_SPECTRUM-OV-045_S1_CD45P_LEFT_OVARY_TTTGATCGTTGCTCCT SPECTRUM-OV-045_S1_CD45P_LEFT_OVARY\n",
       "GSE180661_HGSOC_SPECTRUM-OV-045_S1_CD45P_LEFT_OVARY_TTTGGAGGTACGACAG SPECTRUM-OV-045_S1_CD45P_LEFT_OVARY\n",
       "GSE180661_HGSOC_SPECTRUM-OV-045_S1_CD45P_LEFT_OVARY_TTTGGTTGTGTACAGG SPECTRUM-OV-045_S1_CD45P_LEFT_OVARY\n",
       "                                                                     percent.mt\n",
       "GSE180661_HGSOC_SPECTRUM-OV-045_S1_CD45P_LEFT_OVARY_TTTCATGGTTACCTGA 1779      \n",
       "GSE180661_HGSOC_SPECTRUM-OV-045_S1_CD45P_LEFT_OVARY_TTTCGATGTGACGTCC 1541      \n",
       "GSE180661_HGSOC_SPECTRUM-OV-045_S1_CD45P_LEFT_OVARY_TTTCGATTCTGCGAGC 2596      \n",
       "GSE180661_HGSOC_SPECTRUM-OV-045_S1_CD45P_LEFT_OVARY_TTTGATCGTTGCTCCT 1200      \n",
       "GSE180661_HGSOC_SPECTRUM-OV-045_S1_CD45P_LEFT_OVARY_TTTGGAGGTACGACAG 3165      \n",
       "GSE180661_HGSOC_SPECTRUM-OV-045_S1_CD45P_LEFT_OVARY_TTTGGTTGTGTACAGG 1895      \n",
       "                                                                     site \n",
       "GSE180661_HGSOC_SPECTRUM-OV-045_S1_CD45P_LEFT_OVARY_TTTCATGGTTACCTGA ovary\n",
       "GSE180661_HGSOC_SPECTRUM-OV-045_S1_CD45P_LEFT_OVARY_TTTCGATGTGACGTCC ovary\n",
       "GSE180661_HGSOC_SPECTRUM-OV-045_S1_CD45P_LEFT_OVARY_TTTCGATTCTGCGAGC ovary\n",
       "GSE180661_HGSOC_SPECTRUM-OV-045_S1_CD45P_LEFT_OVARY_TTTGATCGTTGCTCCT ovary\n",
       "GSE180661_HGSOC_SPECTRUM-OV-045_S1_CD45P_LEFT_OVARY_TTTGGAGGTACGACAG ovary\n",
       "GSE180661_HGSOC_SPECTRUM-OV-045_S1_CD45P_LEFT_OVARY_TTTGGTTGTGTACAGG ovary\n",
       "                                                                     sample_type_major\n",
       "GSE180661_HGSOC_SPECTRUM-OV-045_S1_CD45P_LEFT_OVARY_TTTCATGGTTACCTGA primary tumour   \n",
       "GSE180661_HGSOC_SPECTRUM-OV-045_S1_CD45P_LEFT_OVARY_TTTCGATGTGACGTCC primary tumour   \n",
       "GSE180661_HGSOC_SPECTRUM-OV-045_S1_CD45P_LEFT_OVARY_TTTCGATTCTGCGAGC primary tumour   \n",
       "GSE180661_HGSOC_SPECTRUM-OV-045_S1_CD45P_LEFT_OVARY_TTTGATCGTTGCTCCT primary tumour   \n",
       "GSE180661_HGSOC_SPECTRUM-OV-045_S1_CD45P_LEFT_OVARY_TTTGGAGGTACGACAG primary tumour   \n",
       "GSE180661_HGSOC_SPECTRUM-OV-045_S1_CD45P_LEFT_OVARY_TTTGGTTGTGTACAGG primary tumour   \n",
       "                                                                     cancer_subtype\n",
       "GSE180661_HGSOC_SPECTRUM-OV-045_S1_CD45P_LEFT_OVARY_TTTCATGGTTACCTGA HGSOC         \n",
       "GSE180661_HGSOC_SPECTRUM-OV-045_S1_CD45P_LEFT_OVARY_TTTCGATGTGACGTCC HGSOC         \n",
       "GSE180661_HGSOC_SPECTRUM-OV-045_S1_CD45P_LEFT_OVARY_TTTCGATTCTGCGAGC HGSOC         \n",
       "GSE180661_HGSOC_SPECTRUM-OV-045_S1_CD45P_LEFT_OVARY_TTTGATCGTTGCTCCT HGSOC         \n",
       "GSE180661_HGSOC_SPECTRUM-OV-045_S1_CD45P_LEFT_OVARY_TTTGGAGGTACGACAG HGSOC         \n",
       "GSE180661_HGSOC_SPECTRUM-OV-045_S1_CD45P_LEFT_OVARY_TTTGGTTGTGTACAGG HGSOC         \n",
       "                                                                     integration_id                               \n",
       "GSE180661_HGSOC_SPECTRUM-OV-045_S1_CD45P_LEFT_OVARY_TTTCATGGTTACCTGA GSE180661_SPECTRUM-OV-045_S1_CD45P_LEFT_OVARY\n",
       "GSE180661_HGSOC_SPECTRUM-OV-045_S1_CD45P_LEFT_OVARY_TTTCGATGTGACGTCC GSE180661_SPECTRUM-OV-045_S1_CD45P_LEFT_OVARY\n",
       "GSE180661_HGSOC_SPECTRUM-OV-045_S1_CD45P_LEFT_OVARY_TTTCGATTCTGCGAGC GSE180661_SPECTRUM-OV-045_S1_CD45P_LEFT_OVARY\n",
       "GSE180661_HGSOC_SPECTRUM-OV-045_S1_CD45P_LEFT_OVARY_TTTGATCGTTGCTCCT GSE180661_SPECTRUM-OV-045_S1_CD45P_LEFT_OVARY\n",
       "GSE180661_HGSOC_SPECTRUM-OV-045_S1_CD45P_LEFT_OVARY_TTTGGAGGTACGACAG GSE180661_SPECTRUM-OV-045_S1_CD45P_LEFT_OVARY\n",
       "GSE180661_HGSOC_SPECTRUM-OV-045_S1_CD45P_LEFT_OVARY_TTTGGTTGTGTACAGG GSE180661_SPECTRUM-OV-045_S1_CD45P_LEFT_OVARY\n",
       "                                                                     ident\n",
       "GSE180661_HGSOC_SPECTRUM-OV-045_S1_CD45P_LEFT_OVARY_TTTCATGGTTACCTGA 1    \n",
       "GSE180661_HGSOC_SPECTRUM-OV-045_S1_CD45P_LEFT_OVARY_TTTCGATGTGACGTCC 1    \n",
       "GSE180661_HGSOC_SPECTRUM-OV-045_S1_CD45P_LEFT_OVARY_TTTCGATTCTGCGAGC 1    \n",
       "GSE180661_HGSOC_SPECTRUM-OV-045_S1_CD45P_LEFT_OVARY_TTTGATCGTTGCTCCT 1    \n",
       "GSE180661_HGSOC_SPECTRUM-OV-045_S1_CD45P_LEFT_OVARY_TTTGGAGGTACGACAG 1    \n",
       "GSE180661_HGSOC_SPECTRUM-OV-045_S1_CD45P_LEFT_OVARY_TTTGGTTGTGTACAGG 1    "
      ]
     },
     "metadata": {},
     "output_type": "display_data"
    }
   ],
   "source": [
    "head(Data_i@meta.data)\n",
    "tail(Data_i@meta.data)"
   ]
  },
  {
   "cell_type": "code",
   "execution_count": 6,
   "metadata": {
    "vscode": {
     "languageId": "r"
    }
   },
   "outputs": [],
   "source": [
    "#need to give them all a dataset_id, take barcode and output what's before the _\n",
    "Data_i@meta.data$dataset_id <- gsub(\"_.*\",\"\",colnames(Data_i))"
   ]
  },
  {
   "cell_type": "code",
   "execution_count": 7,
   "metadata": {
    "vscode": {
     "languageId": "r"
    }
   },
   "outputs": [
    {
     "data": {
      "text/html": [
       "<table class=\"dataframe\">\n",
       "<caption>A data.frame: 6 × 13</caption>\n",
       "<thead>\n",
       "\t<tr><th></th><th scope=col>nCount_RNA</th><th scope=col>nFeature_RNA</th><th scope=col>sample_type</th><th scope=col>cancer_type</th><th scope=col>patient_id</th><th scope=col>sample_id</th><th scope=col>percent.mt</th><th scope=col>site</th><th scope=col>sample_type_major</th><th scope=col>cancer_subtype</th><th scope=col>integration_id</th><th scope=col>ident</th><th scope=col>dataset_id</th></tr>\n",
       "\t<tr><th></th><th scope=col>&lt;dbl&gt;</th><th scope=col>&lt;dbl&gt;</th><th scope=col>&lt;fct&gt;</th><th scope=col>&lt;fct&gt;</th><th scope=col>&lt;fct&gt;</th><th scope=col>&lt;fct&gt;</th><th scope=col>&lt;dbl&gt;</th><th scope=col>&lt;fct&gt;</th><th scope=col>&lt;fct&gt;</th><th scope=col>&lt;fct&gt;</th><th scope=col>&lt;fct&gt;</th><th scope=col>&lt;fct&gt;</th><th scope=col>&lt;chr&gt;</th></tr>\n",
       "</thead>\n",
       "<tbody>\n",
       "\t<tr><th scope=row>GSE215120_AM1_AAACCTGGTTGCTCCT-1</th><td>20298</td><td>3789</td><td>tumour</td><td>Acral Melanoma</td><td>AM1</td><td>GSE215120_Acral_MEL_AM1</td><td>0.9754656</td><td>skin</td><td>primary tumour</td><td>Acral Melanoma</td><td>GSE215120_Acral_MEL_AM1</td><td>12</td><td>GSE215120</td></tr>\n",
       "\t<tr><th scope=row>GSE215120_AM1_AAAGATGTCCAAATGC-1</th><td> 5574</td><td>1721</td><td>tumour</td><td>Acral Melanoma</td><td>AM1</td><td>GSE215120_Acral_MEL_AM1</td><td>6.0459275</td><td>skin</td><td>primary tumour</td><td>Acral Melanoma</td><td>GSE215120_Acral_MEL_AM1</td><td>12</td><td>GSE215120</td></tr>\n",
       "\t<tr><th scope=row>GSE215120_AM1_AAAGTAGTCGGTGTTA-1</th><td>13432</td><td>2759</td><td>tumour</td><td>Acral Melanoma</td><td>AM1</td><td>GSE215120_Acral_MEL_AM1</td><td>2.1515783</td><td>skin</td><td>primary tumour</td><td>Acral Melanoma</td><td>GSE215120_Acral_MEL_AM1</td><td>12</td><td>GSE215120</td></tr>\n",
       "\t<tr><th scope=row>GSE215120_AM1_AAATGCCCAGAGCCAA-1</th><td>17143</td><td>2659</td><td>tumour</td><td>Acral Melanoma</td><td>AM1</td><td>GSE215120_Acral_MEL_AM1</td><td>1.2249898</td><td>skin</td><td>primary tumour</td><td>Acral Melanoma</td><td>GSE215120_Acral_MEL_AM1</td><td>12</td><td>GSE215120</td></tr>\n",
       "\t<tr><th scope=row>GSE215120_AM1_AAATGCCGTTTGGCGC-1</th><td> 3603</td><td>1012</td><td>tumour</td><td>Acral Melanoma</td><td>AM1</td><td>GSE215120_Acral_MEL_AM1</td><td>3.6081044</td><td>skin</td><td>primary tumour</td><td>Acral Melanoma</td><td>GSE215120_Acral_MEL_AM1</td><td>12</td><td>GSE215120</td></tr>\n",
       "\t<tr><th scope=row>GSE215120_AM1_AAATGCCTCATGTCCC-1</th><td>14482</td><td>2882</td><td>tumour</td><td>Acral Melanoma</td><td>AM1</td><td>GSE215120_Acral_MEL_AM1</td><td>1.0357685</td><td>skin</td><td>primary tumour</td><td>Acral Melanoma</td><td>GSE215120_Acral_MEL_AM1</td><td>12</td><td>GSE215120</td></tr>\n",
       "</tbody>\n",
       "</table>\n"
      ],
      "text/latex": [
       "A data.frame: 6 × 13\n",
       "\\begin{tabular}{r|lllllllllllll}\n",
       "  & nCount\\_RNA & nFeature\\_RNA & sample\\_type & cancer\\_type & patient\\_id & sample\\_id & percent.mt & site & sample\\_type\\_major & cancer\\_subtype & integration\\_id & ident & dataset\\_id\\\\\n",
       "  & <dbl> & <dbl> & <fct> & <fct> & <fct> & <fct> & <dbl> & <fct> & <fct> & <fct> & <fct> & <fct> & <chr>\\\\\n",
       "\\hline\n",
       "\tGSE215120\\_AM1\\_AAACCTGGTTGCTCCT-1 & 20298 & 3789 & tumour & Acral Melanoma & AM1 & GSE215120\\_Acral\\_MEL\\_AM1 & 0.9754656 & skin & primary tumour & Acral Melanoma & GSE215120\\_Acral\\_MEL\\_AM1 & 12 & GSE215120\\\\\n",
       "\tGSE215120\\_AM1\\_AAAGATGTCCAAATGC-1 &  5574 & 1721 & tumour & Acral Melanoma & AM1 & GSE215120\\_Acral\\_MEL\\_AM1 & 6.0459275 & skin & primary tumour & Acral Melanoma & GSE215120\\_Acral\\_MEL\\_AM1 & 12 & GSE215120\\\\\n",
       "\tGSE215120\\_AM1\\_AAAGTAGTCGGTGTTA-1 & 13432 & 2759 & tumour & Acral Melanoma & AM1 & GSE215120\\_Acral\\_MEL\\_AM1 & 2.1515783 & skin & primary tumour & Acral Melanoma & GSE215120\\_Acral\\_MEL\\_AM1 & 12 & GSE215120\\\\\n",
       "\tGSE215120\\_AM1\\_AAATGCCCAGAGCCAA-1 & 17143 & 2659 & tumour & Acral Melanoma & AM1 & GSE215120\\_Acral\\_MEL\\_AM1 & 1.2249898 & skin & primary tumour & Acral Melanoma & GSE215120\\_Acral\\_MEL\\_AM1 & 12 & GSE215120\\\\\n",
       "\tGSE215120\\_AM1\\_AAATGCCGTTTGGCGC-1 &  3603 & 1012 & tumour & Acral Melanoma & AM1 & GSE215120\\_Acral\\_MEL\\_AM1 & 3.6081044 & skin & primary tumour & Acral Melanoma & GSE215120\\_Acral\\_MEL\\_AM1 & 12 & GSE215120\\\\\n",
       "\tGSE215120\\_AM1\\_AAATGCCTCATGTCCC-1 & 14482 & 2882 & tumour & Acral Melanoma & AM1 & GSE215120\\_Acral\\_MEL\\_AM1 & 1.0357685 & skin & primary tumour & Acral Melanoma & GSE215120\\_Acral\\_MEL\\_AM1 & 12 & GSE215120\\\\\n",
       "\\end{tabular}\n"
      ],
      "text/markdown": [
       "\n",
       "A data.frame: 6 × 13\n",
       "\n",
       "| <!--/--> | nCount_RNA &lt;dbl&gt; | nFeature_RNA &lt;dbl&gt; | sample_type &lt;fct&gt; | cancer_type &lt;fct&gt; | patient_id &lt;fct&gt; | sample_id &lt;fct&gt; | percent.mt &lt;dbl&gt; | site &lt;fct&gt; | sample_type_major &lt;fct&gt; | cancer_subtype &lt;fct&gt; | integration_id &lt;fct&gt; | ident &lt;fct&gt; | dataset_id &lt;chr&gt; |\n",
       "|---|---|---|---|---|---|---|---|---|---|---|---|---|---|\n",
       "| GSE215120_AM1_AAACCTGGTTGCTCCT-1 | 20298 | 3789 | tumour | Acral Melanoma | AM1 | GSE215120_Acral_MEL_AM1 | 0.9754656 | skin | primary tumour | Acral Melanoma | GSE215120_Acral_MEL_AM1 | 12 | GSE215120 |\n",
       "| GSE215120_AM1_AAAGATGTCCAAATGC-1 |  5574 | 1721 | tumour | Acral Melanoma | AM1 | GSE215120_Acral_MEL_AM1 | 6.0459275 | skin | primary tumour | Acral Melanoma | GSE215120_Acral_MEL_AM1 | 12 | GSE215120 |\n",
       "| GSE215120_AM1_AAAGTAGTCGGTGTTA-1 | 13432 | 2759 | tumour | Acral Melanoma | AM1 | GSE215120_Acral_MEL_AM1 | 2.1515783 | skin | primary tumour | Acral Melanoma | GSE215120_Acral_MEL_AM1 | 12 | GSE215120 |\n",
       "| GSE215120_AM1_AAATGCCCAGAGCCAA-1 | 17143 | 2659 | tumour | Acral Melanoma | AM1 | GSE215120_Acral_MEL_AM1 | 1.2249898 | skin | primary tumour | Acral Melanoma | GSE215120_Acral_MEL_AM1 | 12 | GSE215120 |\n",
       "| GSE215120_AM1_AAATGCCGTTTGGCGC-1 |  3603 | 1012 | tumour | Acral Melanoma | AM1 | GSE215120_Acral_MEL_AM1 | 3.6081044 | skin | primary tumour | Acral Melanoma | GSE215120_Acral_MEL_AM1 | 12 | GSE215120 |\n",
       "| GSE215120_AM1_AAATGCCTCATGTCCC-1 | 14482 | 2882 | tumour | Acral Melanoma | AM1 | GSE215120_Acral_MEL_AM1 | 1.0357685 | skin | primary tumour | Acral Melanoma | GSE215120_Acral_MEL_AM1 | 12 | GSE215120 |\n",
       "\n"
      ],
      "text/plain": [
       "                                 nCount_RNA nFeature_RNA sample_type\n",
       "GSE215120_AM1_AAACCTGGTTGCTCCT-1 20298      3789         tumour     \n",
       "GSE215120_AM1_AAAGATGTCCAAATGC-1  5574      1721         tumour     \n",
       "GSE215120_AM1_AAAGTAGTCGGTGTTA-1 13432      2759         tumour     \n",
       "GSE215120_AM1_AAATGCCCAGAGCCAA-1 17143      2659         tumour     \n",
       "GSE215120_AM1_AAATGCCGTTTGGCGC-1  3603      1012         tumour     \n",
       "GSE215120_AM1_AAATGCCTCATGTCCC-1 14482      2882         tumour     \n",
       "                                 cancer_type    patient_id\n",
       "GSE215120_AM1_AAACCTGGTTGCTCCT-1 Acral Melanoma AM1       \n",
       "GSE215120_AM1_AAAGATGTCCAAATGC-1 Acral Melanoma AM1       \n",
       "GSE215120_AM1_AAAGTAGTCGGTGTTA-1 Acral Melanoma AM1       \n",
       "GSE215120_AM1_AAATGCCCAGAGCCAA-1 Acral Melanoma AM1       \n",
       "GSE215120_AM1_AAATGCCGTTTGGCGC-1 Acral Melanoma AM1       \n",
       "GSE215120_AM1_AAATGCCTCATGTCCC-1 Acral Melanoma AM1       \n",
       "                                 sample_id               percent.mt site\n",
       "GSE215120_AM1_AAACCTGGTTGCTCCT-1 GSE215120_Acral_MEL_AM1 0.9754656  skin\n",
       "GSE215120_AM1_AAAGATGTCCAAATGC-1 GSE215120_Acral_MEL_AM1 6.0459275  skin\n",
       "GSE215120_AM1_AAAGTAGTCGGTGTTA-1 GSE215120_Acral_MEL_AM1 2.1515783  skin\n",
       "GSE215120_AM1_AAATGCCCAGAGCCAA-1 GSE215120_Acral_MEL_AM1 1.2249898  skin\n",
       "GSE215120_AM1_AAATGCCGTTTGGCGC-1 GSE215120_Acral_MEL_AM1 3.6081044  skin\n",
       "GSE215120_AM1_AAATGCCTCATGTCCC-1 GSE215120_Acral_MEL_AM1 1.0357685  skin\n",
       "                                 sample_type_major cancer_subtype\n",
       "GSE215120_AM1_AAACCTGGTTGCTCCT-1 primary tumour    Acral Melanoma\n",
       "GSE215120_AM1_AAAGATGTCCAAATGC-1 primary tumour    Acral Melanoma\n",
       "GSE215120_AM1_AAAGTAGTCGGTGTTA-1 primary tumour    Acral Melanoma\n",
       "GSE215120_AM1_AAATGCCCAGAGCCAA-1 primary tumour    Acral Melanoma\n",
       "GSE215120_AM1_AAATGCCGTTTGGCGC-1 primary tumour    Acral Melanoma\n",
       "GSE215120_AM1_AAATGCCTCATGTCCC-1 primary tumour    Acral Melanoma\n",
       "                                 integration_id          ident dataset_id\n",
       "GSE215120_AM1_AAACCTGGTTGCTCCT-1 GSE215120_Acral_MEL_AM1 12    GSE215120 \n",
       "GSE215120_AM1_AAAGATGTCCAAATGC-1 GSE215120_Acral_MEL_AM1 12    GSE215120 \n",
       "GSE215120_AM1_AAAGTAGTCGGTGTTA-1 GSE215120_Acral_MEL_AM1 12    GSE215120 \n",
       "GSE215120_AM1_AAATGCCCAGAGCCAA-1 GSE215120_Acral_MEL_AM1 12    GSE215120 \n",
       "GSE215120_AM1_AAATGCCGTTTGGCGC-1 GSE215120_Acral_MEL_AM1 12    GSE215120 \n",
       "GSE215120_AM1_AAATGCCTCATGTCCC-1 GSE215120_Acral_MEL_AM1 12    GSE215120 "
      ]
     },
     "metadata": {},
     "output_type": "display_data"
    },
    {
     "data": {
      "text/html": [
       "<table class=\"dataframe\">\n",
       "<caption>A data.frame: 6 × 13</caption>\n",
       "<thead>\n",
       "\t<tr><th></th><th scope=col>nCount_RNA</th><th scope=col>nFeature_RNA</th><th scope=col>sample_type</th><th scope=col>cancer_type</th><th scope=col>patient_id</th><th scope=col>sample_id</th><th scope=col>percent.mt</th><th scope=col>site</th><th scope=col>sample_type_major</th><th scope=col>cancer_subtype</th><th scope=col>integration_id</th><th scope=col>ident</th><th scope=col>dataset_id</th></tr>\n",
       "\t<tr><th></th><th scope=col>&lt;dbl&gt;</th><th scope=col>&lt;dbl&gt;</th><th scope=col>&lt;fct&gt;</th><th scope=col>&lt;fct&gt;</th><th scope=col>&lt;fct&gt;</th><th scope=col>&lt;fct&gt;</th><th scope=col>&lt;dbl&gt;</th><th scope=col>&lt;fct&gt;</th><th scope=col>&lt;fct&gt;</th><th scope=col>&lt;fct&gt;</th><th scope=col>&lt;fct&gt;</th><th scope=col>&lt;fct&gt;</th><th scope=col>&lt;chr&gt;</th></tr>\n",
       "</thead>\n",
       "<tbody>\n",
       "\t<tr><th scope=row>GSE180661_HGSOC_SPECTRUM-OV-045_S1_CD45P_LEFT_OVARY_TTTCATGGTTACCTGA</th><td>-4.499666</td><td> -9.853381</td><td>Adnexa</td><td>HGSOC</td><td>Left Adnexa</td><td>SPECTRUM-OV-045_S1_CD45P_LEFT_OVARY</td><td>1779</td><td>ovary</td><td>primary tumour</td><td>HGSOC</td><td>GSE180661_SPECTRUM-OV-045_S1_CD45P_LEFT_OVARY</td><td>1</td><td>GSE180661</td></tr>\n",
       "\t<tr><th scope=row>GSE180661_HGSOC_SPECTRUM-OV-045_S1_CD45P_LEFT_OVARY_TTTCGATGTGACGTCC</th><td>-4.871771</td><td>-10.337130</td><td>Adnexa</td><td>HGSOC</td><td>Left Adnexa</td><td>SPECTRUM-OV-045_S1_CD45P_LEFT_OVARY</td><td>1541</td><td>ovary</td><td>primary tumour</td><td>HGSOC</td><td>GSE180661_SPECTRUM-OV-045_S1_CD45P_LEFT_OVARY</td><td>1</td><td>GSE180661</td></tr>\n",
       "\t<tr><th scope=row>GSE180661_HGSOC_SPECTRUM-OV-045_S1_CD45P_LEFT_OVARY_TTTCGATTCTGCGAGC</th><td>-4.766977</td><td> -8.292435</td><td>Adnexa</td><td>HGSOC</td><td>Left Adnexa</td><td>SPECTRUM-OV-045_S1_CD45P_LEFT_OVARY</td><td>2596</td><td>ovary</td><td>primary tumour</td><td>HGSOC</td><td>GSE180661_SPECTRUM-OV-045_S1_CD45P_LEFT_OVARY</td><td>1</td><td>GSE180661</td></tr>\n",
       "\t<tr><th scope=row>GSE180661_HGSOC_SPECTRUM-OV-045_S1_CD45P_LEFT_OVARY_TTTGATCGTTGCTCCT</th><td>-4.133310</td><td> -8.758132</td><td>Adnexa</td><td>HGSOC</td><td>Left Adnexa</td><td>SPECTRUM-OV-045_S1_CD45P_LEFT_OVARY</td><td>1200</td><td>ovary</td><td>primary tumour</td><td>HGSOC</td><td>GSE180661_SPECTRUM-OV-045_S1_CD45P_LEFT_OVARY</td><td>1</td><td>GSE180661</td></tr>\n",
       "\t<tr><th scope=row>GSE180661_HGSOC_SPECTRUM-OV-045_S1_CD45P_LEFT_OVARY_TTTGGAGGTACGACAG</th><td>-9.313746</td><td> -7.889039</td><td>Adnexa</td><td>HGSOC</td><td>Left Adnexa</td><td>SPECTRUM-OV-045_S1_CD45P_LEFT_OVARY</td><td>3165</td><td>ovary</td><td>primary tumour</td><td>HGSOC</td><td>GSE180661_SPECTRUM-OV-045_S1_CD45P_LEFT_OVARY</td><td>1</td><td>GSE180661</td></tr>\n",
       "\t<tr><th scope=row>GSE180661_HGSOC_SPECTRUM-OV-045_S1_CD45P_LEFT_OVARY_TTTGGTTGTGTACAGG</th><td>-4.476278</td><td>-10.355681</td><td>Adnexa</td><td>HGSOC</td><td>Left Adnexa</td><td>SPECTRUM-OV-045_S1_CD45P_LEFT_OVARY</td><td>1895</td><td>ovary</td><td>primary tumour</td><td>HGSOC</td><td>GSE180661_SPECTRUM-OV-045_S1_CD45P_LEFT_OVARY</td><td>1</td><td>GSE180661</td></tr>\n",
       "</tbody>\n",
       "</table>\n"
      ],
      "text/latex": [
       "A data.frame: 6 × 13\n",
       "\\begin{tabular}{r|lllllllllllll}\n",
       "  & nCount\\_RNA & nFeature\\_RNA & sample\\_type & cancer\\_type & patient\\_id & sample\\_id & percent.mt & site & sample\\_type\\_major & cancer\\_subtype & integration\\_id & ident & dataset\\_id\\\\\n",
       "  & <dbl> & <dbl> & <fct> & <fct> & <fct> & <fct> & <dbl> & <fct> & <fct> & <fct> & <fct> & <fct> & <chr>\\\\\n",
       "\\hline\n",
       "\tGSE180661\\_HGSOC\\_SPECTRUM-OV-045\\_S1\\_CD45P\\_LEFT\\_OVARY\\_TTTCATGGTTACCTGA & -4.499666 &  -9.853381 & Adnexa & HGSOC & Left Adnexa & SPECTRUM-OV-045\\_S1\\_CD45P\\_LEFT\\_OVARY & 1779 & ovary & primary tumour & HGSOC & GSE180661\\_SPECTRUM-OV-045\\_S1\\_CD45P\\_LEFT\\_OVARY & 1 & GSE180661\\\\\n",
       "\tGSE180661\\_HGSOC\\_SPECTRUM-OV-045\\_S1\\_CD45P\\_LEFT\\_OVARY\\_TTTCGATGTGACGTCC & -4.871771 & -10.337130 & Adnexa & HGSOC & Left Adnexa & SPECTRUM-OV-045\\_S1\\_CD45P\\_LEFT\\_OVARY & 1541 & ovary & primary tumour & HGSOC & GSE180661\\_SPECTRUM-OV-045\\_S1\\_CD45P\\_LEFT\\_OVARY & 1 & GSE180661\\\\\n",
       "\tGSE180661\\_HGSOC\\_SPECTRUM-OV-045\\_S1\\_CD45P\\_LEFT\\_OVARY\\_TTTCGATTCTGCGAGC & -4.766977 &  -8.292435 & Adnexa & HGSOC & Left Adnexa & SPECTRUM-OV-045\\_S1\\_CD45P\\_LEFT\\_OVARY & 2596 & ovary & primary tumour & HGSOC & GSE180661\\_SPECTRUM-OV-045\\_S1\\_CD45P\\_LEFT\\_OVARY & 1 & GSE180661\\\\\n",
       "\tGSE180661\\_HGSOC\\_SPECTRUM-OV-045\\_S1\\_CD45P\\_LEFT\\_OVARY\\_TTTGATCGTTGCTCCT & -4.133310 &  -8.758132 & Adnexa & HGSOC & Left Adnexa & SPECTRUM-OV-045\\_S1\\_CD45P\\_LEFT\\_OVARY & 1200 & ovary & primary tumour & HGSOC & GSE180661\\_SPECTRUM-OV-045\\_S1\\_CD45P\\_LEFT\\_OVARY & 1 & GSE180661\\\\\n",
       "\tGSE180661\\_HGSOC\\_SPECTRUM-OV-045\\_S1\\_CD45P\\_LEFT\\_OVARY\\_TTTGGAGGTACGACAG & -9.313746 &  -7.889039 & Adnexa & HGSOC & Left Adnexa & SPECTRUM-OV-045\\_S1\\_CD45P\\_LEFT\\_OVARY & 3165 & ovary & primary tumour & HGSOC & GSE180661\\_SPECTRUM-OV-045\\_S1\\_CD45P\\_LEFT\\_OVARY & 1 & GSE180661\\\\\n",
       "\tGSE180661\\_HGSOC\\_SPECTRUM-OV-045\\_S1\\_CD45P\\_LEFT\\_OVARY\\_TTTGGTTGTGTACAGG & -4.476278 & -10.355681 & Adnexa & HGSOC & Left Adnexa & SPECTRUM-OV-045\\_S1\\_CD45P\\_LEFT\\_OVARY & 1895 & ovary & primary tumour & HGSOC & GSE180661\\_SPECTRUM-OV-045\\_S1\\_CD45P\\_LEFT\\_OVARY & 1 & GSE180661\\\\\n",
       "\\end{tabular}\n"
      ],
      "text/markdown": [
       "\n",
       "A data.frame: 6 × 13\n",
       "\n",
       "| <!--/--> | nCount_RNA &lt;dbl&gt; | nFeature_RNA &lt;dbl&gt; | sample_type &lt;fct&gt; | cancer_type &lt;fct&gt; | patient_id &lt;fct&gt; | sample_id &lt;fct&gt; | percent.mt &lt;dbl&gt; | site &lt;fct&gt; | sample_type_major &lt;fct&gt; | cancer_subtype &lt;fct&gt; | integration_id &lt;fct&gt; | ident &lt;fct&gt; | dataset_id &lt;chr&gt; |\n",
       "|---|---|---|---|---|---|---|---|---|---|---|---|---|---|\n",
       "| GSE180661_HGSOC_SPECTRUM-OV-045_S1_CD45P_LEFT_OVARY_TTTCATGGTTACCTGA | -4.499666 |  -9.853381 | Adnexa | HGSOC | Left Adnexa | SPECTRUM-OV-045_S1_CD45P_LEFT_OVARY | 1779 | ovary | primary tumour | HGSOC | GSE180661_SPECTRUM-OV-045_S1_CD45P_LEFT_OVARY | 1 | GSE180661 |\n",
       "| GSE180661_HGSOC_SPECTRUM-OV-045_S1_CD45P_LEFT_OVARY_TTTCGATGTGACGTCC | -4.871771 | -10.337130 | Adnexa | HGSOC | Left Adnexa | SPECTRUM-OV-045_S1_CD45P_LEFT_OVARY | 1541 | ovary | primary tumour | HGSOC | GSE180661_SPECTRUM-OV-045_S1_CD45P_LEFT_OVARY | 1 | GSE180661 |\n",
       "| GSE180661_HGSOC_SPECTRUM-OV-045_S1_CD45P_LEFT_OVARY_TTTCGATTCTGCGAGC | -4.766977 |  -8.292435 | Adnexa | HGSOC | Left Adnexa | SPECTRUM-OV-045_S1_CD45P_LEFT_OVARY | 2596 | ovary | primary tumour | HGSOC | GSE180661_SPECTRUM-OV-045_S1_CD45P_LEFT_OVARY | 1 | GSE180661 |\n",
       "| GSE180661_HGSOC_SPECTRUM-OV-045_S1_CD45P_LEFT_OVARY_TTTGATCGTTGCTCCT | -4.133310 |  -8.758132 | Adnexa | HGSOC | Left Adnexa | SPECTRUM-OV-045_S1_CD45P_LEFT_OVARY | 1200 | ovary | primary tumour | HGSOC | GSE180661_SPECTRUM-OV-045_S1_CD45P_LEFT_OVARY | 1 | GSE180661 |\n",
       "| GSE180661_HGSOC_SPECTRUM-OV-045_S1_CD45P_LEFT_OVARY_TTTGGAGGTACGACAG | -9.313746 |  -7.889039 | Adnexa | HGSOC | Left Adnexa | SPECTRUM-OV-045_S1_CD45P_LEFT_OVARY | 3165 | ovary | primary tumour | HGSOC | GSE180661_SPECTRUM-OV-045_S1_CD45P_LEFT_OVARY | 1 | GSE180661 |\n",
       "| GSE180661_HGSOC_SPECTRUM-OV-045_S1_CD45P_LEFT_OVARY_TTTGGTTGTGTACAGG | -4.476278 | -10.355681 | Adnexa | HGSOC | Left Adnexa | SPECTRUM-OV-045_S1_CD45P_LEFT_OVARY | 1895 | ovary | primary tumour | HGSOC | GSE180661_SPECTRUM-OV-045_S1_CD45P_LEFT_OVARY | 1 | GSE180661 |\n",
       "\n"
      ],
      "text/plain": [
       "                                                                     nCount_RNA\n",
       "GSE180661_HGSOC_SPECTRUM-OV-045_S1_CD45P_LEFT_OVARY_TTTCATGGTTACCTGA -4.499666 \n",
       "GSE180661_HGSOC_SPECTRUM-OV-045_S1_CD45P_LEFT_OVARY_TTTCGATGTGACGTCC -4.871771 \n",
       "GSE180661_HGSOC_SPECTRUM-OV-045_S1_CD45P_LEFT_OVARY_TTTCGATTCTGCGAGC -4.766977 \n",
       "GSE180661_HGSOC_SPECTRUM-OV-045_S1_CD45P_LEFT_OVARY_TTTGATCGTTGCTCCT -4.133310 \n",
       "GSE180661_HGSOC_SPECTRUM-OV-045_S1_CD45P_LEFT_OVARY_TTTGGAGGTACGACAG -9.313746 \n",
       "GSE180661_HGSOC_SPECTRUM-OV-045_S1_CD45P_LEFT_OVARY_TTTGGTTGTGTACAGG -4.476278 \n",
       "                                                                     nFeature_RNA\n",
       "GSE180661_HGSOC_SPECTRUM-OV-045_S1_CD45P_LEFT_OVARY_TTTCATGGTTACCTGA  -9.853381  \n",
       "GSE180661_HGSOC_SPECTRUM-OV-045_S1_CD45P_LEFT_OVARY_TTTCGATGTGACGTCC -10.337130  \n",
       "GSE180661_HGSOC_SPECTRUM-OV-045_S1_CD45P_LEFT_OVARY_TTTCGATTCTGCGAGC  -8.292435  \n",
       "GSE180661_HGSOC_SPECTRUM-OV-045_S1_CD45P_LEFT_OVARY_TTTGATCGTTGCTCCT  -8.758132  \n",
       "GSE180661_HGSOC_SPECTRUM-OV-045_S1_CD45P_LEFT_OVARY_TTTGGAGGTACGACAG  -7.889039  \n",
       "GSE180661_HGSOC_SPECTRUM-OV-045_S1_CD45P_LEFT_OVARY_TTTGGTTGTGTACAGG -10.355681  \n",
       "                                                                     sample_type\n",
       "GSE180661_HGSOC_SPECTRUM-OV-045_S1_CD45P_LEFT_OVARY_TTTCATGGTTACCTGA Adnexa     \n",
       "GSE180661_HGSOC_SPECTRUM-OV-045_S1_CD45P_LEFT_OVARY_TTTCGATGTGACGTCC Adnexa     \n",
       "GSE180661_HGSOC_SPECTRUM-OV-045_S1_CD45P_LEFT_OVARY_TTTCGATTCTGCGAGC Adnexa     \n",
       "GSE180661_HGSOC_SPECTRUM-OV-045_S1_CD45P_LEFT_OVARY_TTTGATCGTTGCTCCT Adnexa     \n",
       "GSE180661_HGSOC_SPECTRUM-OV-045_S1_CD45P_LEFT_OVARY_TTTGGAGGTACGACAG Adnexa     \n",
       "GSE180661_HGSOC_SPECTRUM-OV-045_S1_CD45P_LEFT_OVARY_TTTGGTTGTGTACAGG Adnexa     \n",
       "                                                                     cancer_type\n",
       "GSE180661_HGSOC_SPECTRUM-OV-045_S1_CD45P_LEFT_OVARY_TTTCATGGTTACCTGA HGSOC      \n",
       "GSE180661_HGSOC_SPECTRUM-OV-045_S1_CD45P_LEFT_OVARY_TTTCGATGTGACGTCC HGSOC      \n",
       "GSE180661_HGSOC_SPECTRUM-OV-045_S1_CD45P_LEFT_OVARY_TTTCGATTCTGCGAGC HGSOC      \n",
       "GSE180661_HGSOC_SPECTRUM-OV-045_S1_CD45P_LEFT_OVARY_TTTGATCGTTGCTCCT HGSOC      \n",
       "GSE180661_HGSOC_SPECTRUM-OV-045_S1_CD45P_LEFT_OVARY_TTTGGAGGTACGACAG HGSOC      \n",
       "GSE180661_HGSOC_SPECTRUM-OV-045_S1_CD45P_LEFT_OVARY_TTTGGTTGTGTACAGG HGSOC      \n",
       "                                                                     patient_id \n",
       "GSE180661_HGSOC_SPECTRUM-OV-045_S1_CD45P_LEFT_OVARY_TTTCATGGTTACCTGA Left Adnexa\n",
       "GSE180661_HGSOC_SPECTRUM-OV-045_S1_CD45P_LEFT_OVARY_TTTCGATGTGACGTCC Left Adnexa\n",
       "GSE180661_HGSOC_SPECTRUM-OV-045_S1_CD45P_LEFT_OVARY_TTTCGATTCTGCGAGC Left Adnexa\n",
       "GSE180661_HGSOC_SPECTRUM-OV-045_S1_CD45P_LEFT_OVARY_TTTGATCGTTGCTCCT Left Adnexa\n",
       "GSE180661_HGSOC_SPECTRUM-OV-045_S1_CD45P_LEFT_OVARY_TTTGGAGGTACGACAG Left Adnexa\n",
       "GSE180661_HGSOC_SPECTRUM-OV-045_S1_CD45P_LEFT_OVARY_TTTGGTTGTGTACAGG Left Adnexa\n",
       "                                                                     sample_id                          \n",
       "GSE180661_HGSOC_SPECTRUM-OV-045_S1_CD45P_LEFT_OVARY_TTTCATGGTTACCTGA SPECTRUM-OV-045_S1_CD45P_LEFT_OVARY\n",
       "GSE180661_HGSOC_SPECTRUM-OV-045_S1_CD45P_LEFT_OVARY_TTTCGATGTGACGTCC SPECTRUM-OV-045_S1_CD45P_LEFT_OVARY\n",
       "GSE180661_HGSOC_SPECTRUM-OV-045_S1_CD45P_LEFT_OVARY_TTTCGATTCTGCGAGC SPECTRUM-OV-045_S1_CD45P_LEFT_OVARY\n",
       "GSE180661_HGSOC_SPECTRUM-OV-045_S1_CD45P_LEFT_OVARY_TTTGATCGTTGCTCCT SPECTRUM-OV-045_S1_CD45P_LEFT_OVARY\n",
       "GSE180661_HGSOC_SPECTRUM-OV-045_S1_CD45P_LEFT_OVARY_TTTGGAGGTACGACAG SPECTRUM-OV-045_S1_CD45P_LEFT_OVARY\n",
       "GSE180661_HGSOC_SPECTRUM-OV-045_S1_CD45P_LEFT_OVARY_TTTGGTTGTGTACAGG SPECTRUM-OV-045_S1_CD45P_LEFT_OVARY\n",
       "                                                                     percent.mt\n",
       "GSE180661_HGSOC_SPECTRUM-OV-045_S1_CD45P_LEFT_OVARY_TTTCATGGTTACCTGA 1779      \n",
       "GSE180661_HGSOC_SPECTRUM-OV-045_S1_CD45P_LEFT_OVARY_TTTCGATGTGACGTCC 1541      \n",
       "GSE180661_HGSOC_SPECTRUM-OV-045_S1_CD45P_LEFT_OVARY_TTTCGATTCTGCGAGC 2596      \n",
       "GSE180661_HGSOC_SPECTRUM-OV-045_S1_CD45P_LEFT_OVARY_TTTGATCGTTGCTCCT 1200      \n",
       "GSE180661_HGSOC_SPECTRUM-OV-045_S1_CD45P_LEFT_OVARY_TTTGGAGGTACGACAG 3165      \n",
       "GSE180661_HGSOC_SPECTRUM-OV-045_S1_CD45P_LEFT_OVARY_TTTGGTTGTGTACAGG 1895      \n",
       "                                                                     site \n",
       "GSE180661_HGSOC_SPECTRUM-OV-045_S1_CD45P_LEFT_OVARY_TTTCATGGTTACCTGA ovary\n",
       "GSE180661_HGSOC_SPECTRUM-OV-045_S1_CD45P_LEFT_OVARY_TTTCGATGTGACGTCC ovary\n",
       "GSE180661_HGSOC_SPECTRUM-OV-045_S1_CD45P_LEFT_OVARY_TTTCGATTCTGCGAGC ovary\n",
       "GSE180661_HGSOC_SPECTRUM-OV-045_S1_CD45P_LEFT_OVARY_TTTGATCGTTGCTCCT ovary\n",
       "GSE180661_HGSOC_SPECTRUM-OV-045_S1_CD45P_LEFT_OVARY_TTTGGAGGTACGACAG ovary\n",
       "GSE180661_HGSOC_SPECTRUM-OV-045_S1_CD45P_LEFT_OVARY_TTTGGTTGTGTACAGG ovary\n",
       "                                                                     sample_type_major\n",
       "GSE180661_HGSOC_SPECTRUM-OV-045_S1_CD45P_LEFT_OVARY_TTTCATGGTTACCTGA primary tumour   \n",
       "GSE180661_HGSOC_SPECTRUM-OV-045_S1_CD45P_LEFT_OVARY_TTTCGATGTGACGTCC primary tumour   \n",
       "GSE180661_HGSOC_SPECTRUM-OV-045_S1_CD45P_LEFT_OVARY_TTTCGATTCTGCGAGC primary tumour   \n",
       "GSE180661_HGSOC_SPECTRUM-OV-045_S1_CD45P_LEFT_OVARY_TTTGATCGTTGCTCCT primary tumour   \n",
       "GSE180661_HGSOC_SPECTRUM-OV-045_S1_CD45P_LEFT_OVARY_TTTGGAGGTACGACAG primary tumour   \n",
       "GSE180661_HGSOC_SPECTRUM-OV-045_S1_CD45P_LEFT_OVARY_TTTGGTTGTGTACAGG primary tumour   \n",
       "                                                                     cancer_subtype\n",
       "GSE180661_HGSOC_SPECTRUM-OV-045_S1_CD45P_LEFT_OVARY_TTTCATGGTTACCTGA HGSOC         \n",
       "GSE180661_HGSOC_SPECTRUM-OV-045_S1_CD45P_LEFT_OVARY_TTTCGATGTGACGTCC HGSOC         \n",
       "GSE180661_HGSOC_SPECTRUM-OV-045_S1_CD45P_LEFT_OVARY_TTTCGATTCTGCGAGC HGSOC         \n",
       "GSE180661_HGSOC_SPECTRUM-OV-045_S1_CD45P_LEFT_OVARY_TTTGATCGTTGCTCCT HGSOC         \n",
       "GSE180661_HGSOC_SPECTRUM-OV-045_S1_CD45P_LEFT_OVARY_TTTGGAGGTACGACAG HGSOC         \n",
       "GSE180661_HGSOC_SPECTRUM-OV-045_S1_CD45P_LEFT_OVARY_TTTGGTTGTGTACAGG HGSOC         \n",
       "                                                                     integration_id                               \n",
       "GSE180661_HGSOC_SPECTRUM-OV-045_S1_CD45P_LEFT_OVARY_TTTCATGGTTACCTGA GSE180661_SPECTRUM-OV-045_S1_CD45P_LEFT_OVARY\n",
       "GSE180661_HGSOC_SPECTRUM-OV-045_S1_CD45P_LEFT_OVARY_TTTCGATGTGACGTCC GSE180661_SPECTRUM-OV-045_S1_CD45P_LEFT_OVARY\n",
       "GSE180661_HGSOC_SPECTRUM-OV-045_S1_CD45P_LEFT_OVARY_TTTCGATTCTGCGAGC GSE180661_SPECTRUM-OV-045_S1_CD45P_LEFT_OVARY\n",
       "GSE180661_HGSOC_SPECTRUM-OV-045_S1_CD45P_LEFT_OVARY_TTTGATCGTTGCTCCT GSE180661_SPECTRUM-OV-045_S1_CD45P_LEFT_OVARY\n",
       "GSE180661_HGSOC_SPECTRUM-OV-045_S1_CD45P_LEFT_OVARY_TTTGGAGGTACGACAG GSE180661_SPECTRUM-OV-045_S1_CD45P_LEFT_OVARY\n",
       "GSE180661_HGSOC_SPECTRUM-OV-045_S1_CD45P_LEFT_OVARY_TTTGGTTGTGTACAGG GSE180661_SPECTRUM-OV-045_S1_CD45P_LEFT_OVARY\n",
       "                                                                     ident\n",
       "GSE180661_HGSOC_SPECTRUM-OV-045_S1_CD45P_LEFT_OVARY_TTTCATGGTTACCTGA 1    \n",
       "GSE180661_HGSOC_SPECTRUM-OV-045_S1_CD45P_LEFT_OVARY_TTTCGATGTGACGTCC 1    \n",
       "GSE180661_HGSOC_SPECTRUM-OV-045_S1_CD45P_LEFT_OVARY_TTTCGATTCTGCGAGC 1    \n",
       "GSE180661_HGSOC_SPECTRUM-OV-045_S1_CD45P_LEFT_OVARY_TTTGATCGTTGCTCCT 1    \n",
       "GSE180661_HGSOC_SPECTRUM-OV-045_S1_CD45P_LEFT_OVARY_TTTGGAGGTACGACAG 1    \n",
       "GSE180661_HGSOC_SPECTRUM-OV-045_S1_CD45P_LEFT_OVARY_TTTGGTTGTGTACAGG 1    \n",
       "                                                                     dataset_id\n",
       "GSE180661_HGSOC_SPECTRUM-OV-045_S1_CD45P_LEFT_OVARY_TTTCATGGTTACCTGA GSE180661 \n",
       "GSE180661_HGSOC_SPECTRUM-OV-045_S1_CD45P_LEFT_OVARY_TTTCGATGTGACGTCC GSE180661 \n",
       "GSE180661_HGSOC_SPECTRUM-OV-045_S1_CD45P_LEFT_OVARY_TTTCGATTCTGCGAGC GSE180661 \n",
       "GSE180661_HGSOC_SPECTRUM-OV-045_S1_CD45P_LEFT_OVARY_TTTGATCGTTGCTCCT GSE180661 \n",
       "GSE180661_HGSOC_SPECTRUM-OV-045_S1_CD45P_LEFT_OVARY_TTTGGAGGTACGACAG GSE180661 \n",
       "GSE180661_HGSOC_SPECTRUM-OV-045_S1_CD45P_LEFT_OVARY_TTTGGTTGTGTACAGG GSE180661 "
      ]
     },
     "metadata": {},
     "output_type": "display_data"
    }
   ],
   "source": [
    "head(Data_i@meta.data)\n",
    "tail(Data_i@meta.data)"
   ]
  },
  {
   "cell_type": "code",
   "execution_count": 8,
   "metadata": {
    "vscode": {
     "languageId": "r"
    }
   },
   "outputs": [
    {
     "data": {
      "text/plain": [
       "\n",
       "   GSE112271    GSE131907    GSE139324    GSE154778    GSE154826    GSE156405 \n",
       "        7452        36524         8753         1038        80224         3472 \n",
       "   GSE161529    GSE162025    GSE162498    GSE164690    GSE167297    GSE173468 \n",
       "       21522         2069        28781         9526         2329         4032 \n",
       "   GSE176078    GSE180661    GSE183916    GSE184880    GSE188737    GSE189903 \n",
       "        9160       200093         1845         7745         4668        18519 \n",
       "   GSE195861    GSE197177    GSE199515    GSE200218    GSE213243    GSE214295 \n",
       "       14925         9625          435        10371         3492         2710 \n",
       "   GSE215120    GSE217517    GSE223063    GSE224090    GSE225600    GSE231535 \n",
       "        1150         8420         6298         8983         1888         1832 \n",
       "   GSE234129    GSE234933    GSE235676 PMID32561858  PRJCA005422  PRJNA907381 \n",
       "         980        42537        23362         7119        29306         2723 "
      ]
     },
     "metadata": {},
     "output_type": "display_data"
    }
   ],
   "source": [
    "table(Data_i@meta.data$dataset_id)"
   ]
  },
  {
   "cell_type": "code",
   "execution_count": 43,
   "metadata": {
    "vscode": {
     "languageId": "r"
    }
   },
   "outputs": [],
   "source": [
    "table1 <- table(Data_i@meta.data$site, Data_i@meta.data$sample_type_major)\n",
    "table2 <- table(Data_i@meta.data$cancer_subtype, Data_i@meta.data$sample_type_major)\n",
    "table3 <- table(Data_i@meta.data$site, Data_i@meta.data$cancer_subtype)"
   ]
  },
  {
   "cell_type": "code",
   "execution_count": 44,
   "metadata": {
    "vscode": {
     "languageId": "r"
    }
   },
   "outputs": [],
   "source": [
    "write.csv(table1, file='/scratch/user/s4436039/scdata/Myeloid_Cells/Myeloid_Cells_Integrate/Progress/site_v_sample-type.csv')\n",
    "write.csv(table2, file='/scratch/user/s4436039/scdata/Myeloid_Cells/Myeloid_Cells_Integrate/Progress/cancer_v_sample-type.csv')\n",
    "write.csv(table3, file='/scratch/user/s4436039/scdata/Myeloid_Cells/Myeloid_Cells_Integrate/Progress/site_v_cancer-type.csv')"
   ]
  },
  {
   "cell_type": "markdown",
   "metadata": {},
   "source": [
    "tried converting to BPCells here, Normalise, variable features and scale ran super fast (<1min for all) however needed dense matrix for RunPCA, so now converting after RunPCA step"
   ]
  },
  {
   "cell_type": "code",
   "execution_count": 9,
   "metadata": {
    "vscode": {
     "languageId": "r"
    }
   },
   "outputs": [],
   "source": [
    "#normalise the data\n",
    "Data_i <- NormalizeData(Data_i)"
   ]
  },
  {
   "cell_type": "code",
   "execution_count": 10,
   "metadata": {
    "vscode": {
     "languageId": "r"
    }
   },
   "outputs": [],
   "source": [
    "#Find variable features\n",
    "Data_i <- FindVariableFeatures(Data_i)"
   ]
  },
  {
   "cell_type": "code",
   "execution_count": 11,
   "metadata": {
    "vscode": {
     "languageId": "r"
    }
   },
   "outputs": [
    {
     "name": "stderr",
     "output_type": "stream",
     "text": [
      "Centering and scaling data matrix\n",
      "\n"
     ]
    }
   ],
   "source": [
    "#Scale the data\n",
    "Data_i <- ScaleData(Data_i)"
   ]
  },
  {
   "cell_type": "code",
   "execution_count": 12,
   "metadata": {
    "vscode": {
     "languageId": "r"
    }
   },
   "outputs": [
    {
     "name": "stderr",
     "output_type": "stream",
     "text": [
      "PC_ 1 \n",
      "Positive:  AZGP1, MGP, KRT19, DSP, PIP, TFF3, KRT18, TFF1, KRT8, WFDC2 \n",
      "\t   FXYD3, KRT7, EPCAM, GATA3, SMIM22, AGR2, SLC12A2, PTN, AGR3, CDH1 \n",
      "\t   PTPRF, PLAT, ELF3, KIAA1324, CRNDE, MDK, PERP, TM4SF1, CLDN4, NFIB \n",
      "Negative:  LYZ, S100A9, S100A8, CFD, FCN1, VCAN, MARCO, CD52, SOD2, SERPINA1 \n",
      "\t   CD300E, TREM1, STXBP2, NCF1, AQP9, S100A12, CFP, CTSL, IL1B, CD36 \n",
      "\t   APOBEC3A, CXCL3, LIPA, PLIN2, SLC2A3, ALDOA, IFI30, ALDH2, FBP1, EREG \n",
      "PC_ 2 \n",
      "Positive:  AZGP1, MGP, PIP, TFF3, KRT19, TFF1, MGST1, KRT18, FXYD3, KRT8 \n",
      "\t   AGR2, AGR3, CES1, KRT7, CCL18, DSP, S100A13, SCGB3A1, WFDC2, PDLIM1 \n",
      "\t   SMIM22, CD52, GATA3, S100A14, MLPH, EPCAM, AQP3, KIAA1324, PTN, PERP \n",
      "Negative:  DOCK4, HIF1A, CD83, AKAP13, RAPGEF1, NFKB1, ZNF331, ABCA1, ELL2, FNDC3B \n",
      "\t   SLC8A1, NR4A3, GPR183, MYO9B, ZSWIM6, SNX9, MKI67, SIPA1L1, FMNL2, ARHGAP26 \n",
      "\t   ETV6, SERPINB9, SPAG9, ATP13A3, JARID2, IER3, NRIP1, CHST11, PDE4B, SPP1 \n",
      "PC_ 3 \n",
      "Positive:  JARID2, RABGEF1, ELL2, SIPA1L1, SIK3, GAB2, NFKB1, FOXO3, SOD2, MED13L \n",
      "\t   SNX9, PDE4B, ATP13A3, ZFAND3, EREG, ABCA1, IRAK2, PELI1, RBM47, VEGFA \n",
      "\t   MAP3K8, FNDC3B, LUCAT1, CDK14, FAM49A, RAPGEF1, DOCK4, AKAP13, IER3, ARHGAP26 \n",
      "Negative:  MKI67, TOP2A, NUSAP1, ASPM, TPX2, GTSE1, CENPF, TYMS, BIRC5, HMMR \n",
      "\t   UBE2C, CEP55, CDKN3, DLGAP5, NCAPG, KIF11, CCNA2, CDK1, RRM2, AURKB \n",
      "\t   STMN1, CCNB2, NUF2, NDC80, CENPM, MAD2L1, ANLN, CDC20, TK1, ZWINT \n",
      "PC_ 4 \n",
      "Positive:  APOC1, APOE, CTSD, GPNMB, C1QC, CTSL, NUPR1, LGMN, CD9, SERPING1 \n",
      "\t   LIPA, FABP5, PLTP, SPP1, CSTB, ACP5, IFI27, SCD, GCHFR, FN1 \n",
      "\t   LGALS3, RNASE1, IFI6, CYP27A1, MARCO, PLIN2, MRC1, FUCA1, ALDH1A1, FBP1 \n",
      "Negative:  CST7, CFP, LGALS2, FCN1, S100A12, FYN, LTB, ADAM19, CD2, MARCKSL1 \n",
      "\t   BIRC3, AREG, SLC38A1, CD1C, DUSP4, FLT3, CD3E, CCR7, FCER1A, SERPINB9 \n",
      "\t   IRF4, CD3D, PRKCB, CD7, CD1E, JARID2, EHD1, TRAF1, PDE4B, IDO1 \n",
      "PC_ 5 \n",
      "Positive:  CD52, MARCO, S100A9, TREM1, FBP1, LYZ, S100A8, CXCL3, EREG, TIMP1 \n",
      "\t   AQP9, VCAN, LGALS3, RETN, CRIP1, GCHFR, CXCL2, CSTB, INHBA, RGCC \n",
      "\t   PDLIM1, ALDOA, CYP27A1, TXN, STXBP2, FCN1, SERPINA1, RPS17, CES1, ACP5 \n",
      "Negative:  C3, HTRA1, OLFML3, FCGBP, PLD4, CX3CR1, IGF1, SCIN, USP53, C1QC \n",
      "\t   SLC40A1, DOCK4, BIN1, CADM1, CCND1, FOLR2, LGMN, KCNQ3, F13A1, P2RY12 \n",
      "\t   APOE, EGR3, PADI2, RGS16, ATP8B4, PDGFB, SPRED1, PKIB, FSCN1, EBI3 \n",
      "\n"
     ]
    }
   ],
   "source": [
    "#Run pca\n",
    "Data_i <- RunPCA(Data_i)"
   ]
  },
  {
   "cell_type": "markdown",
   "metadata": {},
   "source": [
    "Normalise, FindVariableFeatures, ScaleData, and RunPCA runs fast, but then gets stuck at FindNeighbors (runs for 220+hrs and still doesn't finish), so instead going to try compressing object with BPCells first"
   ]
  },
  {
   "cell_type": "code",
   "execution_count": 13,
   "metadata": {
    "vscode": {
     "languageId": "r"
    }
   },
   "outputs": [],
   "source": [
    "#remotes::install_github(\"bnprks/BPCells/r\")\n",
    "library(BPCells)"
   ]
  },
  {
   "cell_type": "code",
   "execution_count": 14,
   "metadata": {
    "vscode": {
     "languageId": "r"
    }
   },
   "outputs": [
    {
     "name": "stderr",
     "output_type": "stream",
     "text": [
      "Validating object structure\n",
      "\n",
      "Updating object slots\n",
      "\n",
      "Ensuring keys are in the proper structure\n",
      "\n",
      "Updating matrix keys for DimReduc ‘pca’\n",
      "\n",
      "Ensuring keys are in the proper structure\n",
      "\n",
      "Ensuring feature names don't have underscores or pipes\n",
      "\n",
      "Updating slots in RNA\n",
      "\n",
      "Updating slots in pca\n",
      "\n",
      "Setting assay used for NormalizeData.RNA to RNA\n",
      "\n",
      "Setting assay used for FindVariableFeatures.RNA to RNA\n",
      "\n",
      "Setting assay used for ScaleData.RNA to RNA\n",
      "\n",
      "Setting assay used for RunPCA.RNA to RNA\n",
      "\n",
      "Validating object structure for Assay ‘RNA’\n",
      "\n",
      "Validating object structure for DimReduc ‘pca’\n",
      "\n",
      "Object representation is consistent with the most current Seurat version\n",
      "\n"
     ]
    },
    {
     "data": {
      "text/plain": [
       "An object of class Seurat \n",
       "15074 features across 623908 samples within 1 assay \n",
       "Active assay: RNA (15074 features, 2000 variable features)\n",
       " 3 layers present: counts, data, scale.data\n",
       " 1 dimensional reduction calculated: pca"
      ]
     },
     "metadata": {},
     "output_type": "display_data"
    },
    {
     "name": "stderr",
     "output_type": "stream",
     "text": [
      "Warning message:\n",
      "“Assay RNA changing from Assay to Assay5”\n"
     ]
    },
    {
     "data": {
      "text/html": [
       "'Seurat'"
      ],
      "text/latex": [
       "'Seurat'"
      ],
      "text/markdown": [
       "'Seurat'"
      ],
      "text/plain": [
       "[1] \"Seurat\"\n",
       "attr(,\"package\")\n",
       "[1] \"SeuratObject\""
      ]
     },
     "metadata": {},
     "output_type": "display_data"
    },
    {
     "data": {
      "text/html": [
       "'Assay5'"
      ],
      "text/latex": [
       "'Assay5'"
      ],
      "text/markdown": [
       "'Assay5'"
      ],
      "text/plain": [
       "[1] \"Assay5\"\n",
       "attr(,\"package\")\n",
       "[1] \"SeuratObject\""
      ]
     },
     "metadata": {},
     "output_type": "display_data"
    }
   ],
   "source": [
    "#convert to seurat5\n",
    "UpdateSeuratObject(Data_i)\n",
    "#convert to Assay5\n",
    "Data_i[[\"RNA\"]] <- as(object = Data_i[[\"RNA\"]], Class = \"Assay5\")\n",
    "class(Data_i)\n",
    "class(Data_i[[\"RNA\"]])"
   ]
  },
  {
   "cell_type": "code",
   "execution_count": 16,
   "metadata": {
    "vscode": {
     "languageId": "r"
    }
   },
   "outputs": [
    {
     "data": {
      "text/plain": [
       "15074 x 623908 IterableMatrix object with class MatrixDir\n",
       "\n",
       "Row names: FAM87B, LINC00115 ... MT-CYB\n",
       "Col names: GSE215120_AM1_AAACCTGGTTGCTCCT-1, GSE215120_AM1_AAAGATGTCCAAATGC-1 ... GSE180661_HGSOC_SPECTRUM-OV-045_S1_CD45P_LEFT_OVARY_TTTGGTTGTGTACAGG\n",
       "\n",
       "Data type: double\n",
       "Storage order: column major\n",
       "\n",
       "Queued Operations:\n",
       "1. Load compressed matrix from directory /scratch/user/s4436039/scdata/Myeloid_Cells/Myeloid_Cells_Integrate/BP_Cells"
      ]
     },
     "metadata": {},
     "output_type": "display_data"
    }
   ],
   "source": [
    "#convert object (Data_i) to on-disk matrices (BPCells)\n",
    "\n",
    "# Write the counts layer to a directory\n",
    "write_matrix_dir(mat = Data_i[[\"RNA\"]]$counts, dir = '/scratch/user/s4436039/scdata/Myeloid_Cells/Myeloid_Cells_Integrate/BP_Cells')\n",
    "\n",
    "#assign counts matrix in my seurat objet to the on-disk matrix\n",
    "counts.mat <- open_matrix_dir(dir = \"/scratch/user/s4436039/scdata/Myeloid_Cells/Myeloid_Cells_Integrate/BP_Cells\")\n",
    "Data_i[[\"RNA\"]]$counts <- counts.mat"
   ]
  },
  {
   "cell_type": "code",
   "execution_count": 19,
   "metadata": {
    "vscode": {
     "languageId": "r"
    }
   },
   "outputs": [
    {
     "data": {
      "text/plain": [
       "An object of class Seurat \n",
       "15074 features across 623908 samples within 1 assay \n",
       "Active assay: RNA (15074 features, 2000 variable features)\n",
       " 3 layers present: data, counts, scale.data\n",
       " 1 dimensional reduction calculated: pca"
      ]
     },
     "metadata": {},
     "output_type": "display_data"
    }
   ],
   "source": [
    "Data_i\n",
    "Data_i[[\"RNA\"]]$counts <- counts.mat"
   ]
  },
  {
   "cell_type": "code",
   "execution_count": null,
   "metadata": {
    "vscode": {
     "languageId": "r"
    }
   },
   "outputs": [],
   "source": [
    "#ran below for 145min and didnt finish"
   ]
  },
  {
   "cell_type": "code",
   "execution_count": 17,
   "metadata": {
    "vscode": {
     "languageId": "r"
    }
   },
   "outputs": [
    {
     "name": "stderr",
     "output_type": "stream",
     "text": [
      "Computing nearest neighbor graph\n",
      "\n"
     ]
    }
   ],
   "source": [
    "#Find neighbours\n",
    "Data_i <- FindNeighbors(Data_i, dims = 1:40, reduction = \"pca\")"
   ]
  },
  {
   "cell_type": "code",
   "execution_count": null,
   "metadata": {
    "vscode": {
     "languageId": "r"
    }
   },
   "outputs": [],
   "source": [
    "#export as RDS so can read back in without running above\n",
    "saveRDS(Data_i, \"/scratch/user/s4436039/scdata/Myeloid_Cells/Myeloid_Cells_Integrate/Progress/allint_i_1.RDS\")"
   ]
  },
  {
   "cell_type": "code",
   "execution_count": null,
   "metadata": {
    "vscode": {
     "languageId": "r"
    }
   },
   "outputs": [],
   "source": [
    "#Run UMAP\n",
    "Data_i <- RunUMAP(Data_i, dims = 1:40, reduction = \"pca\", reduction.name = \"umap.unintegrated\", verbose = FALSE)\n",
    "     "
   ]
  },
  {
   "cell_type": "code",
   "execution_count": null,
   "metadata": {
    "vscode": {
     "languageId": "r"
    }
   },
   "outputs": [],
   "source": [
    "options(repr.plot.height=15, repr.plot.width=20)\n",
    "DimPlot(Data_i, reduction = \"umap.unintegrated\", group.by = c(\"cancer_subtype\", \"sample_type_major\", \"integation_id\", \"\"))\n"
   ]
  },
  {
   "cell_type": "code",
   "execution_count": null,
   "metadata": {
    "vscode": {
     "languageId": "r"
    }
   },
   "outputs": [],
   "source": [
    "#export as RDS so can read back in without running above\n",
    "saveRDS(Data_i, \"/scratch/user/s4436039/scdata/Myeloid_Cells/Myeloid_Cells_Integrate/allint_i_1.RDS\")"
   ]
  },
  {
   "cell_type": "markdown",
   "metadata": {},
   "source": [
    "Not sure whether integration requires all samples to be in seperate layer, try with or without and see"
   ]
  },
  {
   "cell_type": "code",
   "execution_count": null,
   "metadata": {
    "vscode": {
     "languageId": "r"
    }
   },
   "outputs": [],
   "source": [
    "#Harmony integration - first trying all in one layer\n",
    "library(harmony)"
   ]
  },
  {
   "cell_type": "code",
   "execution_count": null,
   "metadata": {
    "vscode": {
     "languageId": "r"
    }
   },
   "outputs": [],
   "source": [
    "Data_i <- IntegrateLayers(object = Data_i, method = HarmonyIntegration, orig.reduction = \"pca\", new.reduction = \"integrated.harm\", verbose = FALSE)"
   ]
  },
  {
   "cell_type": "code",
   "execution_count": null,
   "metadata": {
    "vscode": {
     "languageId": "r"
    }
   },
   "outputs": [],
   "source": [
    "#export as RDS so can read back in without running above\n",
    "saveRDS(Data_i, \"/scratch/user/s4436039/scdata/Myeloid_Cells/Myeloid_Cells_Integrate/allint_i_2.RDS\")"
   ]
  },
  {
   "cell_type": "code",
   "execution_count": null,
   "metadata": {
    "vscode": {
     "languageId": "r"
    }
   },
   "outputs": [],
   "source": [
    "Data_i <- FindNeighbors(Data_i, reduction = \"integrated.harm\", dims = 1:40)"
   ]
  },
  {
   "cell_type": "code",
   "execution_count": null,
   "metadata": {
    "vscode": {
     "languageId": "r"
    }
   },
   "outputs": [],
   "source": [
    "Data_i <- FindClusters(Data_i, resolution = 0.2, cluster.name = \"integrated_clusters\")"
   ]
  },
  {
   "cell_type": "code",
   "execution_count": null,
   "metadata": {
    "vscode": {
     "languageId": "r"
    }
   },
   "outputs": [],
   "source": [
    "#Run UMAP\n",
    "Data_i <- RunUMAP(Data_i, dims = 1:40, reduction = \"integrated.harm\", reduction.name = \"umap.integrated\", verbose = FALSE)"
   ]
  },
  {
   "cell_type": "code",
   "execution_count": null,
   "metadata": {
    "vscode": {
     "languageId": "r"
    }
   },
   "outputs": [],
   "source": [
    "options(repr.plot.height=15, repr.plot.width=20)\n",
    "DimPlot(Data_i, reduction = \"umap.integrated\", group.by = c(\"cancer_subtype\", \"sample_type_major\", \"seurat_clusters\", \"dataset_id\"))"
   ]
  },
  {
   "cell_type": "code",
   "execution_count": null,
   "metadata": {
    "vscode": {
     "languageId": "r"
    }
   },
   "outputs": [],
   "source": [
    "#export as RDS so can read back in without running above\n",
    "saveRDS(Data_i, \"/scratch/user/s4436039/scdata/Myeloid_Cells/Myeloid_Cells_Integrate/allint_i_3.RDS\")"
   ]
  },
  {
   "cell_type": "code",
   "execution_count": null,
   "metadata": {
    "vscode": {
     "languageId": "r"
    }
   },
   "outputs": [],
   "source": [
    "options(repr.plot.height=15, repr.plot.width=20)\n",
    "DimPlot(Data_i, reduction = \"umap.integrated\", group.by = c(\"cancer_subtype\", \"sample_type_major\", \"seurat_clusters\", \"dataset_id\"), label = FALSE)\n",
    "options(repr.plot.height=7, repr.plot.width=8)\n",
    "DimPlot(Data_i, reduction = \"umap.integrated\", group.by = c(\"seurat_clusters\"), label = TRUE)"
   ]
  },
  {
   "cell_type": "code",
   "execution_count": null,
   "metadata": {
    "vscode": {
     "languageId": "r"
    }
   },
   "outputs": [],
   "source": [
    "options(repr.plot.height=5.5, repr.plot.width=20)\n",
    "DimPlot(Data_i, reduction = \"umap.integrated\", split.by = c(\"sample_type_major\"), label = TRUE)"
   ]
  },
  {
   "cell_type": "code",
   "execution_count": null,
   "metadata": {
    "vscode": {
     "languageId": "r"
    }
   },
   "outputs": [],
   "source": [
    "options(repr.plot.height=6, repr.plot.width=20)\n",
    "DimPlot(Data_i, reduction = \"umap.integrated\", group.by = c(\"dataset_id\"), split.by = c(\"sample_type_major\"), label = TRUE)"
   ]
  },
  {
   "cell_type": "code",
   "execution_count": null,
   "metadata": {
    "vscode": {
     "languageId": "r"
    }
   },
   "outputs": [],
   "source": [
    "#next section about annotating myeloid clusters"
   ]
  }
 ],
 "metadata": {
  "kernelspec": {
   "display_name": "R",
   "language": "R",
   "name": "ir"
  },
  "language_info": {
   "codemirror_mode": "r",
   "file_extension": ".r",
   "mimetype": "text/x-r-source",
   "name": "R",
   "pygments_lexer": "r",
   "version": "4.3.3"
  }
 },
 "nbformat": 4,
 "nbformat_minor": 2
}
