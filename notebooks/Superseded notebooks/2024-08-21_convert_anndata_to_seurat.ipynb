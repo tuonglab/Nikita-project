{
 "cells": [
  {
   "cell_type": "markdown",
   "metadata": {},
   "source": [
    "### Integrating myeloid cells from all datasets"
   ]
  },
  {
   "cell_type": "code",
   "execution_count": 1,
   "metadata": {
    "vscode": {
     "languageId": "r"
    }
   },
   "outputs": [
    {
     "data": {
      "text/html": [
       "'/scratch/user/s4436039'"
      ],
      "text/latex": [
       "'/scratch/user/s4436039'"
      ],
      "text/markdown": [
       "'/scratch/user/s4436039'"
      ],
      "text/plain": [
       "[1] \"/scratch/user/s4436039\""
      ]
     },
     "metadata": {},
     "output_type": "display_data"
    },
    {
     "data": {
      "text/html": [
       "'/scratch/user/s4436039/scdata'"
      ],
      "text/latex": [
       "'/scratch/user/s4436039/scdata'"
      ],
      "text/markdown": [
       "'/scratch/user/s4436039/scdata'"
      ],
      "text/plain": [
       "[1] \"/scratch/user/s4436039/scdata\""
      ]
     },
     "metadata": {},
     "output_type": "display_data"
    }
   ],
   "source": [
    "#set wd\n",
    "getwd()\n",
    "setwd('/scratch/user/s4436039/scdata')\n",
    "getwd()"
   ]
  },
  {
   "cell_type": "code",
   "execution_count": 2,
   "metadata": {
    "vscode": {
     "languageId": "r"
    }
   },
   "outputs": [
    {
     "name": "stderr",
     "output_type": "stream",
     "text": [
      "Loading required package: SeuratObject\n",
      "\n",
      "Loading required package: sp\n",
      "\n",
      "\n",
      "Attaching package: ‘SeuratObject’\n",
      "\n",
      "\n",
      "The following objects are masked from ‘package:base’:\n",
      "\n",
      "    intersect, t\n",
      "\n",
      "\n"
     ]
    }
   ],
   "source": [
    "library(Seurat)"
   ]
  },
  {
   "cell_type": "code",
   "execution_count": 3,
   "metadata": {
    "vscode": {
     "languageId": "r"
    }
   },
   "outputs": [
    {
     "name": "stderr",
     "output_type": "stream",
     "text": [
      "Loading required package: reticulate\n",
      "\n"
     ]
    }
   ],
   "source": [
    "library(sceasy)\n",
    "library(reticulate)\n",
    "use_condaenv('env')"
   ]
  },
  {
   "cell_type": "code",
   "execution_count": 4,
   "metadata": {
    "vscode": {
     "languageId": "r"
    }
   },
   "outputs": [
    {
     "data": {
      "text/html": [
       "'/scratch/user/s4436039/scdata/Myeloid_Cells/Myeloid_Cells_Integrate/all_integrated_intersect.h5ad'"
      ],
      "text/latex": [
       "'/scratch/user/s4436039/scdata/Myeloid\\_Cells/Myeloid\\_Cells\\_Integrate/all\\_integrated\\_intersect.h5ad'"
      ],
      "text/markdown": [
       "'/scratch/user/s4436039/scdata/Myeloid_Cells/Myeloid_Cells_Integrate/all_integrated_intersect.h5ad'"
      ],
      "text/plain": [
       "[1] \"/scratch/user/s4436039/scdata/Myeloid_Cells/Myeloid_Cells_Integrate/all_integrated_intersect.h5ad\""
      ]
     },
     "metadata": {},
     "output_type": "display_data"
    }
   ],
   "source": [
    "file <- \"/scratch/user/s4436039/scdata/Myeloid_Cells/Myeloid_Cells_Integrate/all_integrated_intersect.h5ad\"\n",
    "file"
   ]
  },
  {
   "cell_type": "code",
   "execution_count": 5,
   "metadata": {
    "vscode": {
     "languageId": "r"
    }
   },
   "outputs": [
    {
     "name": "stderr",
     "output_type": "stream",
     "text": [
      "X -> counts\n",
      "\n"
     ]
    },
    {
     "data": {
      "text/plain": [
       "An object of class Seurat \n",
       "15074 features across 623908 samples within 1 assay \n",
       "Active assay: RNA (15074 features, 0 variable features)\n",
       " 2 layers present: counts, data"
      ]
     },
     "metadata": {},
     "output_type": "display_data"
    }
   ],
   "source": [
    "sceasy::convertFormat(file, from=\"anndata\", to=\"seurat\", outFile='/scratch/user/s4436039/scdata/Myeloid_Cells/Myeloid_Cells_Integrate/all_integrated_intersect.RDS')"
   ]
  },
  {
   "cell_type": "code",
   "execution_count": 6,
   "metadata": {
    "vscode": {
     "languageId": "r"
    }
   },
   "outputs": [
    {
     "data": {
      "text/html": [
       "'/scratch/user/s4436039/scdata/Myeloid_Cells/Myeloid_Cells_Integrate/all_integrated.h5ad'"
      ],
      "text/latex": [
       "'/scratch/user/s4436039/scdata/Myeloid\\_Cells/Myeloid\\_Cells\\_Integrate/all\\_integrated.h5ad'"
      ],
      "text/markdown": [
       "'/scratch/user/s4436039/scdata/Myeloid_Cells/Myeloid_Cells_Integrate/all_integrated.h5ad'"
      ],
      "text/plain": [
       "[1] \"/scratch/user/s4436039/scdata/Myeloid_Cells/Myeloid_Cells_Integrate/all_integrated.h5ad\""
      ]
     },
     "metadata": {},
     "output_type": "display_data"
    }
   ],
   "source": [
    "file <- \"/scratch/user/s4436039/scdata/Myeloid_Cells/Myeloid_Cells_Integrate/all_integrated.h5ad\"\n",
    "file"
   ]
  },
  {
   "cell_type": "code",
   "execution_count": 7,
   "metadata": {
    "vscode": {
     "languageId": "r"
    }
   },
   "outputs": [
    {
     "name": "stderr",
     "output_type": "stream",
     "text": [
      "X -> counts\n",
      "\n"
     ]
    },
    {
     "data": {
      "text/plain": [
       "An object of class Seurat \n",
       "74913 features across 623908 samples within 1 assay \n",
       "Active assay: RNA (74913 features, 0 variable features)\n",
       " 2 layers present: counts, data\n",
       " 2 dimensional reductions calculated: pca, umap"
      ]
     },
     "metadata": {},
     "output_type": "display_data"
    }
   ],
   "source": [
    "sceasy::convertFormat(file, from=\"anndata\", to=\"seurat\", outFile='/scratch/user/s4436039/scdata/Myeloid_Cells/Myeloid_Cells_Integrate/all_integrated.RDS')"
   ]
  },
  {
   "cell_type": "code",
   "execution_count": null,
   "metadata": {
    "vscode": {
     "languageId": "r"
    }
   },
   "outputs": [],
   "source": []
  }
 ],
 "metadata": {
  "kernelspec": {
   "display_name": "R",
   "language": "R",
   "name": "ir"
  },
  "language_info": {
   "codemirror_mode": "r",
   "file_extension": ".r",
   "mimetype": "text/x-r-source",
   "name": "R",
   "pygments_lexer": "r",
   "version": "4.3.3"
  }
 },
 "nbformat": 4,
 "nbformat_minor": 2
}
