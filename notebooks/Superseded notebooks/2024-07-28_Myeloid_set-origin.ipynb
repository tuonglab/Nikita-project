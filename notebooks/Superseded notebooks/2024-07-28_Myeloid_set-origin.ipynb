{
 "cells": [
  {
   "cell_type": "markdown",
   "metadata": {},
   "source": [
    "### adding a metedata column to all datasets that has their dataset id "
   ]
  },
  {
   "cell_type": "code",
   "execution_count": 1,
   "metadata": {
    "vscode": {
     "languageId": "r"
    }
   },
   "outputs": [
    {
     "data": {
      "text/html": [
       "'/scratch/user/s4436039/Nikita-project'"
      ],
      "text/latex": [
       "'/scratch/user/s4436039/Nikita-project'"
      ],
      "text/markdown": [
       "'/scratch/user/s4436039/Nikita-project'"
      ],
      "text/plain": [
       "[1] \"/scratch/user/s4436039/Nikita-project\""
      ]
     },
     "metadata": {},
     "output_type": "display_data"
    },
    {
     "data": {
      "text/html": [
       "'/scratch/user/s4436039/scdata'"
      ],
      "text/latex": [
       "'/scratch/user/s4436039/scdata'"
      ],
      "text/markdown": [
       "'/scratch/user/s4436039/scdata'"
      ],
      "text/plain": [
       "[1] \"/scratch/user/s4436039/scdata\""
      ]
     },
     "metadata": {},
     "output_type": "display_data"
    }
   ],
   "source": [
    "#set wd\n",
    "getwd()\n",
    "setwd('/scratch/user/s4436039/scdata')\n",
    "getwd()"
   ]
  },
  {
   "cell_type": "code",
   "execution_count": 2,
   "metadata": {
    "vscode": {
     "languageId": "r"
    }
   },
   "outputs": [
    {
     "name": "stderr",
     "output_type": "stream",
     "text": [
      "Loading required package: SeuratObject\n",
      "\n",
      "Loading required package: sp\n",
      "\n",
      "\n",
      "Attaching package: ‘SeuratObject’\n",
      "\n",
      "\n",
      "The following object is masked from ‘package:base’:\n",
      "\n",
      "    intersect\n",
      "\n",
      "\n"
     ]
    }
   ],
   "source": [
    "library(Seurat)"
   ]
  },
  {
   "cell_type": "code",
   "execution_count": 3,
   "metadata": {
    "vscode": {
     "languageId": "r"
    }
   },
   "outputs": [],
   "source": [
    "# import all datasets\n",
    "data_1 <- readRDS(file = \"/scratch/user/s4436039/scdata/Myeloid_Cells/Myeloid_Cells_Integrate/GSE112271_myeloid_int.RDS\")\n",
    "data_2 <- readRDS(file = \"/scratch/user/s4436039/scdata/Myeloid_Cells/Myeloid_Cells_Integrate/GSE131907_myeloid_int.RDS\")\n",
    "data_3 <- readRDS(file = \"/scratch/user/s4436039/scdata/Myeloid_Cells/Myeloid_Cells_Integrate/GSE139324_myeloid_int.RDS\")\n",
    "data_4 <- readRDS(file = \"/scratch/user/s4436039/scdata/Myeloid_Cells/Myeloid_Cells_Integrate/GSE154778_myeloid_int.RDS\")\n",
    "data_5 <- readRDS(file = \"/scratch/user/s4436039/scdata/Myeloid_Cells/Myeloid_Cells_Integrate/GSE156405_myeloid_int.RDS\")\n",
    "data_6 <- readRDS(file = \"/scratch/user/s4436039/scdata/Myeloid_Cells/Myeloid_Cells_Integrate/GSE161529_myeloid_int.RDS\")\n",
    "data_7 <- readRDS(file = \"/scratch/user/s4436039/scdata/Myeloid_Cells/Myeloid_Cells_Integrate/GSE162025_myeloid_int.RDS\")\n",
    "data_8 <- readRDS(file = \"/scratch/user/s4436039/scdata/Myeloid_Cells/Myeloid_Cells_Integrate/GSE162498_myeloid_int.RDS\")\n",
    "data_9 <- readRDS(file = \"/scratch/user/s4436039/scdata/Myeloid_Cells/Myeloid_Cells_Integrate/GSE164690_myeloid_int.RDS\")\n",
    "data_10 <- readRDS(file = \"/scratch/user/s4436039/scdata/Myeloid_Cells/Myeloid_Cells_Integrate/GSE167297_myeloid_int.RDS\")\n",
    "data_11 <- readRDS(file = \"/scratch/user/s4436039/scdata/Myeloid_Cells/Myeloid_Cells_Integrate/GSE173468_myeloid_int.RDS\")\n",
    "data_12 <- readRDS(file = \"/scratch/user/s4436039/scdata/Myeloid_Cells/Myeloid_Cells_Integrate/GSE176078_myeloid_int.RDS\")\n",
    "data_13 <- readRDS(file = \"/scratch/user/s4436039/scdata/Myeloid_Cells/Myeloid_Cells_Integrate/GSE180661_myeloid_int.RDS\")\n",
    "data_14 <- readRDS(file = \"/scratch/user/s4436039/scdata/Myeloid_Cells/Myeloid_Cells_Integrate/GSE183916_myeloid_int.RDS\")\n",
    "data_15 <- readRDS(file = \"/scratch/user/s4436039/scdata/Myeloid_Cells/Myeloid_Cells_Integrate/GSE184880_myeloid_int.RDS\")\n",
    "data_16 <- readRDS(file = \"/scratch/user/s4436039/scdata/Myeloid_Cells/Myeloid_Cells_Integrate/GSE188737_myeloid_int.RDS\")\n",
    "data_17 <- readRDS(file = \"/scratch/user/s4436039/scdata/Myeloid_Cells/Myeloid_Cells_Integrate/GSE189903_myeloid_int.RDS\")\n",
    "data_18 <- readRDS(file = \"/scratch/user/s4436039/scdata/Myeloid_Cells/Myeloid_Cells_Integrate/GSE195861_myeloid_int.RDS\")\n",
    "data_19 <- readRDS(file = \"/scratch/user/s4436039/scdata/Myeloid_Cells/Myeloid_Cells_Integrate/GSE197177_myeloid_int.RDS\")\n",
    "data_20 <- readRDS(file = \"/scratch/user/s4436039/scdata/Myeloid_Cells/Myeloid_Cells_Integrate/GSE199515_myeloid_int.RDS\")\n",
    "data_21 <- readRDS(file = \"/scratch/user/s4436039/scdata/Myeloid_Cells/Myeloid_Cells_Integrate/GSE200218_myeloid_int.RDS\")\n",
    "data_22 <- readRDS(file = \"/scratch/user/s4436039/scdata/Myeloid_Cells/Myeloid_Cells_Integrate/GSE213243_myeloid_int.RDS\")\n",
    "data_23 <- readRDS(file = \"/scratch/user/s4436039/scdata/Myeloid_Cells/Myeloid_Cells_Integrate/GSE214295_myeloid_int.RDS\")\n",
    "data_24 <- readRDS(file = \"/scratch/user/s4436039/scdata/Myeloid_Cells/Myeloid_Cells_Integrate/GSE215120_myeloid_int.RDS\")\n",
    "data_25 <- readRDS(file = \"/scratch/user/s4436039/scdata/Myeloid_Cells/Myeloid_Cells_Integrate/GSE217517_myeloid_int.RDS\")\n",
    "data_26 <- readRDS(file = \"/scratch/user/s4436039/scdata/Myeloid_Cells/Myeloid_Cells_Integrate/GSE223063_myeloid_int.RDS\")\n",
    "data_27 <- readRDS(file = \"/scratch/user/s4436039/scdata/Myeloid_Cells/Myeloid_Cells_Integrate/GSE224090_myeloid_int.RDS\")\n",
    "data_28 <- readRDS(file = \"/scratch/user/s4436039/scdata/Myeloid_Cells/Myeloid_Cells_Integrate/GSE225600_myeloid_int.RDS\")\n",
    "data_29 <- readRDS(file = \"/scratch/user/s4436039/scdata/Myeloid_Cells/Myeloid_Cells_Integrate/GSE231535_myeloid_int.RDS\")\n",
    "data_30 <- readRDS(file = \"/scratch/user/s4436039/scdata/Myeloid_Cells/Myeloid_Cells_Integrate/GSE234129_myeloid_int.RDS\")\n",
    "data_31 <- readRDS(file = \"/scratch/user/s4436039/scdata/Myeloid_Cells/Myeloid_Cells_Integrate/GSE234933_myeloid_int.RDS\")\n",
    "data_32 <- readRDS(file = \"/scratch/user/s4436039/scdata/Myeloid_Cells/Myeloid_Cells_Integrate/GSE235676_myeloid_int.RDS\")\n",
    "data_33 <- readRDS(file = \"/scratch/user/s4436039/scdata/Myeloid_Cells/Myeloid_Cells_Integrate/PMID32561858_myeloid_int.RDS\")\n",
    "data_34 <- readRDS(file = \"/scratch/user/s4436039/scdata/Myeloid_Cells/Myeloid_Cells_Integrate/PRJCA005422_myeloid_int.RDS\")\n",
    "data_35 <- readRDS(file = \"/scratch/user/s4436039/scdata/Myeloid_Cells/Myeloid_Cells_Integrate/PRJNA907381_myeloid_int.RDS\")"
   ]
  },
  {
   "cell_type": "code",
   "execution_count": 4,
   "metadata": {
    "vscode": {
     "languageId": "r"
    }
   },
   "outputs": [],
   "source": [
    "data_1@meta.data$dataset_id <- \"GSE112271\"\n",
    "data_2@meta.data$dataset_id <- \"GSE131907\"\n",
    "data_3@meta.data$dataset_id <- \"GSE139324\"\n",
    "data_4@meta.data$dataset_id <- \"GSE154778\"\n",
    "data_5@meta.data$dataset_id <- \"GSE156405\"\n",
    "data_6@meta.data$dataset_id <- \"GSE161529\"\n",
    "data_7@meta.data$dataset_id <- \"GSE162025\"\n",
    "data_8@meta.data$dataset_id <- \"GSE162498\"\n",
    "data_9@meta.data$dataset_id <- \"GSE164690\"\n",
    "data_10@meta.data$dataset_id <- \"GSE167297\"\n",
    "data_11@meta.data$dataset_id <- \"GSE173468\"\n",
    "data_12@meta.data$dataset_id <- \"GSE176078\"\n",
    "data_13@meta.data$dataset_id <- \"GSE180661\"\n",
    "data_14@meta.data$dataset_id <- \"GSE183916\"\n",
    "data_15@meta.data$dataset_id <- \"GSE184880\"\n",
    "data_16@meta.data$dataset_id <- \"GSE188737\"\n",
    "data_17@meta.data$dataset_id <- \"GSE189903\"\n",
    "data_18@meta.data$dataset_id <- \"GSE195861\"\n",
    "data_19@meta.data$dataset_id <- \"GSE197177\"\n",
    "data_20@meta.data$dataset_id <- \"GSE199515\"\n",
    "data_21@meta.data$dataset_id <- \"GSE200218\"\n",
    "data_22@meta.data$dataset_id <- \"GSE213243\"\n",
    "data_23@meta.data$dataset_id <- \"GSE214295\"\n",
    "data_24@meta.data$dataset_id <- \"GSE215120\"\n",
    "data_25@meta.data$dataset_id <- \"GSE217517\"\n",
    "data_26@meta.data$dataset_id <- \"GSE223063\"\n",
    "data_27@meta.data$dataset_id <- \"GSE224090\"\n",
    "data_28@meta.data$dataset_id <- \"GSE225600\"\n",
    "data_29@meta.data$dataset_id <- \"GSE231535\"\n",
    "data_30@meta.data$dataset_id <- \"GSE234129\"\n",
    "data_31@meta.data$dataset_id <- \"GSE234933\"\n",
    "data_32@meta.data$dataset_id <- \"GSE235676\"\n",
    "data_33@meta.data$dataset_id <- \"PMID32561858\"\n",
    "data_34@meta.data$dataset_id <- \"PRJCA005422\"\n",
    "data_35@meta.data$dataset_id <- \"PRJNA907381\""
   ]
  },
  {
   "cell_type": "code",
   "execution_count": 6,
   "metadata": {
    "vscode": {
     "languageId": "r"
    }
   },
   "outputs": [
    {
     "ename": "",
     "evalue": "",
     "output_type": "error",
     "traceback": [
      "\u001b[1;31mThe Kernel crashed while executing code in the current cell or a previous cell. \n",
      "\u001b[1;31mPlease review the code in the cell(s) to identify a possible cause of the failure. \n",
      "\u001b[1;31mClick <a href='https://aka.ms/vscodeJupyterKernelCrash'>here</a> for more info. \n",
      "\u001b[1;31mView Jupyter <a href='command:jupyter.viewOutput'>log</a> for further details."
     ]
    }
   ],
   "source": [
    "saveRDS(data_1, \"/scratch/user/s4436039/scdata/Myeloid_Cells/Myeloid_Cells_Integrate/GSE112271_myeloid_int.RDS\")\n",
    "saveRDS(data_2, \"/scratch/user/s4436039/scdata/Myeloid_Cells/Myeloid_Cells_Integrate/GSE131907_myeloid_int.RDS\")\n",
    "saveRDS(data_3, \"/scratch/user/s4436039/scdata/Myeloid_Cells/Myeloid_Cells_Integrate/GSE139324_myeloid_int.RDS\")\n",
    "saveRDS(data_4, \"/scratch/user/s4436039/scdata/Myeloid_Cells/Myeloid_Cells_Integrate/GSE154778_myeloid_int.RDS\")\n",
    "saveRDS(data_5, \"/scratch/user/s4436039/scdata/Myeloid_Cells/Myeloid_Cells_Integrate/GSE156405_myeloid_int.RDS\")\n",
    "saveRDS(data_6, \"/scratch/user/s4436039/scdata/Myeloid_Cells/Myeloid_Cells_Integrate/GSE161529_myeloid_int.RDS\")\n",
    "saveRDS(data_7, \"/scratch/user/s4436039/scdata/Myeloid_Cells/Myeloid_Cells_Integrate/GSE162025_myeloid_int.RDS\")\n",
    "saveRDS(data_8, \"/scratch/user/s4436039/scdata/Myeloid_Cells/Myeloid_Cells_Integrate/GSE162498_myeloid_int.RDS\")\n",
    "saveRDS(data_9, \"/scratch/user/s4436039/scdata/Myeloid_Cells/Myeloid_Cells_Integrate/GSE164690_myeloid_int.RDS\")\n",
    "saveRDS(data_10, \"/scratch/user/s4436039/scdata/Myeloid_Cells/Myeloid_Cells_Integrate/GSE167297_myeloid_int.RDS\")\n",
    "saveRDS(data_11, \"/scratch/user/s4436039/scdata/Myeloid_Cells/Myeloid_Cells_Integrate/GSE173468_myeloid_int.RDS\")\n",
    "saveRDS(data_12, \"/scratch/user/s4436039/scdata/Myeloid_Cells/Myeloid_Cells_Integrate/GSE176078_myeloid_int.RDS\")\n",
    "saveRDS(data_13, \"/scratch/user/s4436039/scdata/Myeloid_Cells/Myeloid_Cells_Integrate/GSE180661_myeloid_int.RDS\")\n",
    "saveRDS(data_14, \"/scratch/user/s4436039/scdata/Myeloid_Cells/Myeloid_Cells_Integrate/GSE183916_myeloid_int.RDS\")\n",
    "saveRDS(data_15, \"/scratch/user/s4436039/scdata/Myeloid_Cells/Myeloid_Cells_Integrate/GSE184880_myeloid_int.RDS\")\n",
    "saveRDS(data_16, \"/scratch/user/s4436039/scdata/Myeloid_Cells/Myeloid_Cells_Integrate/GSE188737_myeloid_int.RDS\")\n",
    "saveRDS(data_17, \"/scratch/user/s4436039/scdata/Myeloid_Cells/Myeloid_Cells_Integrate/GSE189903_myeloid_int.RDS\")\n",
    "saveRDS(data_18, \"/scratch/user/s4436039/scdata/Myeloid_Cells/Myeloid_Cells_Integrate/GSE195861_myeloid_int.RDS\")\n",
    "saveRDS(data_19, \"/scratch/user/s4436039/scdata/Myeloid_Cells/Myeloid_Cells_Integrate/GSE197177_myeloid_int.RDS\")\n",
    "saveRDS(data_20, \"/scratch/user/s4436039/scdata/Myeloid_Cells/Myeloid_Cells_Integrate/GSE199515_myeloid_int.RDS\")\n",
    "saveRDS(data_21, \"/scratch/user/s4436039/scdata/Myeloid_Cells/Myeloid_Cells_Integrate/GSE200218_myeloid_int.RDS\")\n",
    "saveRDS(data_22, \"/scratch/user/s4436039/scdata/Myeloid_Cells/Myeloid_Cells_Integrate/GSE213243_myeloid_int.RDS\")\n",
    "saveRDS(data_23, \"/scratch/user/s4436039/scdata/Myeloid_Cells/Myeloid_Cells_Integrate/GSE214295_myeloid_int.RDS\")\n",
    "saveRDS(data_24, \"/scratch/user/s4436039/scdata/Myeloid_Cells/Myeloid_Cells_Integrate/GSE215120_myeloid_int.RDS\")\n",
    "saveRDS(data_25, \"/scratch/user/s4436039/scdata/Myeloid_Cells/Myeloid_Cells_Integrate/GSE217517_myeloid_int.RDS\")\n",
    "saveRDS(data_26, \"/scratch/user/s4436039/scdata/Myeloid_Cells/Myeloid_Cells_Integrate/GSE223063_myeloid_int.RDS\")\n",
    "saveRDS(data_27, \"/scratch/user/s4436039/scdata/Myeloid_Cells/Myeloid_Cells_Integrate/GSE224090_myeloid_int.RDS\")\n",
    "saveRDS(data_28, \"/scratch/user/s4436039/scdata/Myeloid_Cells/Myeloid_Cells_Integrate/GSE225600_myeloid_int.RDS\")\n",
    "saveRDS(data_29, \"/scratch/user/s4436039/scdata/Myeloid_Cells/Myeloid_Cells_Integrate/GSE231535_myeloid_int.RDS\")\n",
    "saveRDS(data_30, \"/scratch/user/s4436039/scdata/Myeloid_Cells/Myeloid_Cells_Integrate/GSE234129_myeloid_int.RDS\")\n",
    "saveRDS(data_31, \"/scratch/user/s4436039/scdata/Myeloid_Cells/Myeloid_Cells_Integrate/GSE234933_myeloid_int.RDS\")\n",
    "saveRDS(data_32, \"/scratch/user/s4436039/scdata/Myeloid_Cells/Myeloid_Cells_Integrate/GSE235676_myeloid_int.RDS\")\n",
    "saveRDS(data_33, \"/scratch/user/s4436039/scdata/Myeloid_Cells/Myeloid_Cells_Integrate/PMID32561858_myeloid_int.RDS\")\n",
    "saveRDS(data_34, \"/scratch/user/s4436039/scdata/Myeloid_Cells/Myeloid_Cells_Integrate/PRJCA005422_myeloid_int.RDS\")\n",
    "saveRDS(data_35, \"/scratch/user/s4436039/scdata/Myeloid_Cells/Myeloid_Cells_Integrate/PRJNA907381_myeloid_int.RDS\")"
   ]
  }
 ],
 "metadata": {
  "kernelspec": {
   "display_name": "R",
   "language": "R",
   "name": "ir"
  },
  "language_info": {
   "codemirror_mode": "r",
   "file_extension": ".r",
   "mimetype": "text/x-r-source",
   "name": "R",
   "pygments_lexer": "r",
   "version": "4.3.3"
  }
 },
 "nbformat": 4,
 "nbformat_minor": 2
}
