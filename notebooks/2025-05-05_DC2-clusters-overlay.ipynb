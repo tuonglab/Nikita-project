{
 "cells": [
  {
   "cell_type": "markdown",
   "id": "6d1899f5",
   "metadata": {},
   "source": [
    "### Overlaying published DC2 subclusters"
   ]
  },
  {
   "cell_type": "markdown",
   "id": "abe5e6d0",
   "metadata": {},
   "source": [
    "### Guimaaes DC2 clusters:\n",
    "* DC2_FCER1A: CD1C, FCER1A, CLEC10A \n",
    "* DC2_AREG: AREG\n",
    "* DC2_CCD207: CD207, CD1A\n",
    "* DC3_CD14: CD14, S100A9, S100A8, VCAN, LYZ\n",
    "* DC4_FCGR3A: FCGR3A, FTL, SERPINA1\n",
    "* DC_CXCL8: CXCL8, CXCL2"
   ]
  },
  {
   "cell_type": "code",
   "execution_count": null,
   "id": "343b4362",
   "metadata": {},
   "outputs": [],
   "source": [
    "#load packages I need\n",
    "import os\n",
    "import tools\n",
    "import scanpy as sc\n",
    "import pandas as pd\n",
    "import dandelion as ddl\n",
    "from tqdm import tqdm\n",
    "import matplotlib.pyplot as plt\n",
    "import scanpy.external as sce\n",
    "from matplotlib.pyplot import rc_context\n",
    "import seaborn as sns"
   ]
  },
  {
   "cell_type": "code",
   "execution_count": null,
   "id": "674d2fbd",
   "metadata": {},
   "outputs": [],
   "source": [
    "#set current directory \n",
    "os.chdir('/scratch/user/s4436039/scdata/Python_Integration_Sep')\n",
    "os.getcwd()"
   ]
  },
  {
   "cell_type": "code",
   "execution_count": null,
   "id": "1963a3a2",
   "metadata": {},
   "outputs": [],
   "source": [
    "# read in data\n",
    "data = sc.read_h5ad('NRclean_clustered2_DC.h5ad')"
   ]
  },
  {
   "cell_type": "code",
   "execution_count": null,
   "id": "fabdb0ff",
   "metadata": {},
   "outputs": [],
   "source": [
    "data"
   ]
  }
 ],
 "metadata": {
  "language_info": {
   "name": "python"
  }
 },
 "nbformat": 4,
 "nbformat_minor": 5
}
